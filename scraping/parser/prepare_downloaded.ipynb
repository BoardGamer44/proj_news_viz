{
 "cells": [
  {
   "cell_type": "code",
   "execution_count": 1,
   "metadata": {},
   "outputs": [],
   "source": [
    "import os, csv, tqdm, re, json, datetime\n",
    "from urllib.parse import urlparse\n",
    "from pathlib import Path\n",
    "import datetime\n",
    "\n",
    "DEST = Path(\"../data/news/\")"
   ]
  },
  {
   "cell_type": "code",
   "execution_count": null,
   "metadata": {},
   "outputs": [],
   "source": []
  },
  {
   "cell_type": "code",
   "execution_count": 3,
   "metadata": {},
   "outputs": [
    {
     "data": {
      "text/plain": [
       "HBox(children=(IntProgress(value=0, max=229), HTML(value='')))"
      ]
     },
     "metadata": {},
     "output_type": "display_data"
    },
    {
     "name": "stdout",
     "output_type": "stream",
     "text": [
      "\n"
     ]
    }
   ],
   "source": [
    "for fn, rows in tqdm.tqdm_notebook(sorted(items.items(), key=lambda x:x[0])):\n",
    "    fn.parent.mkdir(parents=True, exist_ok=True)\n",
    "    with open(fn, 'w') as f:\n",
    "        w = csv.writer(f)\n",
    "        w.writerow((\"datetime\", \"url\", \"edition\", \"topics\", \"title\", \"text\"))\n",
    "        for r in sorted(rows):\n",
    "            w.writerow(r)"
   ]
  },
  {
   "cell_type": "code",
   "execution_count": null,
   "metadata": {},
   "outputs": [],
   "source": []
  }
 ],
 "metadata": {
  "kernelspec": {
   "display_name": "Python 3",
   "language": "python",
   "name": "python3"
  },
  "language_info": {
   "codemirror_mode": {
    "name": "ipython",
    "version": 3
   },
   "file_extension": ".py",
   "mimetype": "text/x-python",
   "name": "python",
   "nbconvert_exporter": "python",
   "pygments_lexer": "ipython3",
   "version": "3.6.6"
  }
 },
 "nbformat": 4,
 "nbformat_minor": 2
}
