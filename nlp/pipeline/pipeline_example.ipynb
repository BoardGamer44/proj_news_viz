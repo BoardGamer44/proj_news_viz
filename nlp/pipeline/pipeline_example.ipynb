{
 "cells": [
  {
   "cell_type": "code",
   "execution_count": 1,
   "metadata": {},
   "outputs": [
    {
     "name": "stderr",
     "output_type": "stream",
     "text": [
      "d:\\datascience\\python_projects\\current_projects\\proj_news_viz\\topic_model\\lib\\site-packages\\gensim\\utils.py:1212: UserWarning: detected Windows; aliasing chunkize to chunkize_serial\n",
      "  warnings.warn(\"detected Windows; aliasing chunkize to chunkize_serial\")\n",
      "d:\\datascience\\python_projects\\current_projects\\proj_news_viz\\topic_model\\lib\\site-packages\\scipy\\sparse\\sparsetools.py:21: DeprecationWarning: `scipy.sparse.sparsetools` is deprecated!\n",
      "scipy.sparse.sparsetools is a private module for scipy.sparse, and should not be used.\n",
      "  _deprecated()\n"
     ]
    }
   ],
   "source": [
    "import pyLDAvis.gensim\n",
    "from pipeline import TopicModeller\n",
    "%load_ext autoreload\n",
    "%autoreload 2\n",
    "\n",
    "import warnings\n",
    "warnings.filterwarnings(\"ignore\")"
   ]
  },
  {
   "cell_type": "code",
   "execution_count": 2,
   "metadata": {},
   "outputs": [],
   "source": [
    "import pandas as pd\n",
    "df = pd.read_csv('data/novayagazeta.ru.txt', encoding='utf-8', sep='\\t', header=None)\n",
    "df.columns = ['id', 'url', 'title', 'text']"
   ]
  },
  {
   "cell_type": "code",
   "execution_count": 3,
   "metadata": {
    "scrolled": true
   },
   "outputs": [],
   "source": [
    "#tm = TopicModeller('data/news_lenta.csv')\n",
    "tm = TopicModeller(df=df)"
   ]
  },
  {
   "cell_type": "code",
   "execution_count": 4,
   "metadata": {},
   "outputs": [],
   "source": [
    "new_data = tm.data[2000:2100]"
   ]
  },
  {
   "cell_type": "code",
   "execution_count": 5,
   "metadata": {},
   "outputs": [],
   "source": [
    "tm.data = tm.data[:1000]"
   ]
  },
  {
   "cell_type": "code",
   "execution_count": 6,
   "metadata": {},
   "outputs": [
    {
     "name": "stdout",
     "output_type": "stream",
     "text": [
      "\n",
      "Start process.\n",
      "Starting processing\n",
      "Cleaning\n",
      "Normalizing\n",
      "End process. Time: 3.30 sec.\n"
     ]
    }
   ],
   "source": [
    "tm.process()"
   ]
  },
  {
   "cell_type": "code",
   "execution_count": 7,
   "metadata": {
    "scrolled": true
   },
   "outputs": [
    {
     "name": "stdout",
     "output_type": "stream",
     "text": [
      "\n",
      "Start prepare_data_gensim.\n",
      "End prepare_data_gensim. Time: 0.57 sec.\n"
     ]
    }
   ],
   "source": [
    "tm.prepare_data_gensim(dict_path='dict.dictionary')"
   ]
  },
  {
   "cell_type": "code",
   "execution_count": 8,
   "metadata": {},
   "outputs": [
    {
     "name": "stdout",
     "output_type": "stream",
     "text": [
      "\n",
      "Start build_model_gensim.\n",
      "Perplexity: -10.33610654820514\n",
      "Coherence Score: 0.3124475241238393\n",
      "End build_model_gensim. Time: 12.03 sec.\n"
     ]
    }
   ],
   "source": [
    "params = {'num_topics':3,\n",
    "          'passes':1,\n",
    "          'alpha':'auto',\n",
    "          'eta':None,\n",
    "          'random_state':42}\n",
    "tm.build_model_gensim(params);"
   ]
  },
  {
   "cell_type": "code",
   "execution_count": 9,
   "metadata": {},
   "outputs": [
    {
     "name": "stdout",
     "output_type": "stream",
     "text": [
      "\n",
      "Start visualize.\n",
      "End visualize. Time: 3.76 sec.\n"
     ]
    }
   ],
   "source": [
    "panel = tm.visualize()"
   ]
  },
  {
   "cell_type": "code",
   "execution_count": 10,
   "metadata": {
    "scrolled": true
   },
   "outputs": [
    {
     "name": "stdout",
     "output_type": "stream",
     "text": [
      "\n",
      "Start extract_topics_gensim.\n",
      "....100\n",
      "....Start process.\n",
      "Starting processing\n",
      "Cleaning\n",
      "Normalizing\n",
      "....End process. Time: 0.19 sec.\n",
      "End extract_topics_gensim. Time: 0.27 sec.\n"
     ]
    },
    {
     "data": {
      "text/plain": [
       "[[(0, 0.97486424), (1, 0.011934273), (2, 0.013201515)],\n",
       " [(0, 0.5627561), (1, 0.38094196), (2, 0.05630188)]]"
      ]
     },
     "execution_count": 10,
     "metadata": {},
     "output_type": "execute_result"
    }
   ],
   "source": [
    "t = tm.extract_topics_gensim(texts=list(new_data['text'].values))\n",
    "t[:2]"
   ]
  },
  {
   "cell_type": "code",
   "execution_count": 11,
   "metadata": {
    "scrolled": true
   },
   "outputs": [
    {
     "name": "stdout",
     "output_type": "stream",
     "text": [
      "\n",
      "Start update_gensim_model.\n",
      "....Start process.\n",
      "Starting processing\n",
      "Cleaning\n",
      "Normalizing\n",
      "....End process. Time: 0.18 sec.\n",
      "End update_gensim_model. Time: 0.42 sec.\n"
     ]
    }
   ],
   "source": [
    "tm.update_gensim_model(texts=list(new_data['text'].values))"
   ]
  }
 ],
 "metadata": {
  "kernelspec": {
   "display_name": "Python 3",
   "language": "python",
   "name": "python3"
  },
  "language_info": {
   "codemirror_mode": {
    "name": "ipython",
    "version": 3
   },
   "file_extension": ".py",
   "mimetype": "text/x-python",
   "name": "python",
   "nbconvert_exporter": "python",
   "pygments_lexer": "ipython3",
   "version": "3.6.6"
  }
 },
 "nbformat": 4,
 "nbformat_minor": 2
}
