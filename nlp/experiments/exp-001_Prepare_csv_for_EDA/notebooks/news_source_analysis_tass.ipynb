{
 "cells": [
  {
   "cell_type": "markdown",
   "metadata": {
    "colab_type": "text",
    "id": "Y9ddZBr2vxjW"
   },
   "source": [
    "# tass"
   ]
  },
  {
   "cell_type": "code",
   "execution_count": 0,
   "metadata": {
    "colab": {},
    "colab_type": "code",
    "id": "Caslc8Q9iHPH"
   },
   "outputs": [],
   "source": [
    "\n"
   ]
  },
  {
   "cell_type": "code",
   "execution_count": 1,
   "metadata": {
    "colab": {
     "base_uri": "https://localhost:8080/",
     "height": 122
    },
    "colab_type": "code",
    "executionInfo": {
     "elapsed": 41309,
     "status": "ok",
     "timestamp": 1572525836288,
     "user": {
      "displayName": "Egor Silaev",
      "photoUrl": "",
      "userId": "17939097308196895647"
     },
     "user_tz": -180
    },
    "id": "n60HNchhv48O",
    "outputId": "89365b0c-bcc5-44fc-dfcd-ad773c171b7b"
   },
   "outputs": [
    {
     "name": "stdout",
     "output_type": "stream",
     "text": [
      "Go to this URL in a browser: https://accounts.google.com/o/oauth2/auth?client_id=947318989803-6bn6qk8qdgf4n4g3pfee6491hc0brc4i.apps.googleusercontent.com&redirect_uri=urn%3Aietf%3Awg%3Aoauth%3A2.0%3Aoob&scope=email%20https%3A%2F%2Fwww.googleapis.com%2Fauth%2Fdocs.test%20https%3A%2F%2Fwww.googleapis.com%2Fauth%2Fdrive%20https%3A%2F%2Fwww.googleapis.com%2Fauth%2Fdrive.photos.readonly%20https%3A%2F%2Fwww.googleapis.com%2Fauth%2Fpeopleapi.readonly&response_type=code\n",
      "\n",
      "Enter your authorization code:\n",
      "··········\n",
      "Mounted at /content/gdrive\n"
     ]
    }
   ],
   "source": [
    "from google.colab import drive\n",
    "drive.mount('/content/gdrive')"
   ]
  },
  {
   "cell_type": "code",
   "execution_count": 2,
   "metadata": {
    "colab": {
     "base_uri": "https://localhost:8080/",
     "height": 1000
    },
    "colab_type": "code",
    "executionInfo": {
     "elapsed": 2009,
     "status": "ok",
     "timestamp": 1572525887776,
     "user": {
      "displayName": "Egor Silaev",
      "photoUrl": "",
      "userId": "17939097308196895647"
     },
     "user_tz": -180
    },
    "id": "jV5jr0hov_zN",
    "outputId": "d37dac77-d318-4996-f5a3-9b20f055912d"
   },
   "outputs": [
    {
     "name": "stdout",
     "output_type": "stream",
     "text": [
      "import codecs\n",
      "import os\n",
      "import time\n",
      "import csv\n",
      "import sys\n",
      "\n",
      "from enum import Enum\n",
      "from collections import Counter\n",
      "from razdel import tokenize\n",
      "from razdel import sentenize\n",
      "\n",
      "from nltk.corpus.reader.api import CorpusReader\n",
      "from nltk.corpus.reader.api import CategorizedCorpusReader\n",
      "\n",
      "\n",
      "class PathPattern(Enum):\n",
      "\n",
      "    doc_pattern = r\".*\\.csv\"\n",
      "    cat_pattern = r\"(\\w+)/*\"\n",
      "\n",
      "\n",
      "class CSVCorpusReader(CategorizedCorpusReader, CorpusReader):\n",
      "    \"\"\"\n",
      "    Объект чтения csv файлов для получения возможности\n",
      "    дополнительной предварительной обработки.\n",
      "    \"\"\"\n",
      "\n",
      "    def __init__(self, root, fileids=PathPattern.doc_pattern.value, encoding='utf8', **kwargs):\n",
      "        \"\"\"\n",
      "        Инициализирует объект чтения промежуточного обработанных файлов\n",
      "        корпуса.\n",
      "        \"\"\"\n",
      "\n",
      "        # Добавить шаблон категорий, если он не был передан в класс явно\n",
      "        if not any(key.startswitch('cat_') for key in kwargs.keys()):\n",
      "            kwargs['cat_pattern'] = PathPattern.cat_pattern.value\n",
      "\n",
      "        # Инициализировать объекты чтения корпуса из NLTK\n",
      "        CategorizedCorpusReader.__init__(self, kwargs)\n",
      "        CorpusReader.__init__(self, root, fileids, encoding)\n",
      "\n",
      "        # Инициировать список для сбора токенов\n",
      "        self.__tokens = Counter()\n",
      "\n",
      "    @property\n",
      "    def gettokens(self):\n",
      "        \"\"\"\n",
      "        Возвращает список токенов, полученных в ходе метода describe\n",
      "        \"\"\"\n",
      "        return self.__tokens\n",
      "\n",
      "    def resolve(self, fileids, categories):\n",
      "        \"\"\"\n",
      "        Возвращает список идентификаторов файлов или названий директорий,\n",
      "        которые передаются каждой внутренний функции объекта чтения корпуса.\n",
      "        \"\"\"\n",
      "        if fileids is not None and categories is not None:\n",
      "            raise ValueError(\"Укажите либо файлы, либо категории, а не оба параметра\")\n",
      "\n",
      "        if categories is not None:\n",
      "            return self.fileids(categories)\n",
      "        return fileids\n",
      "\n",
      "    def docs(self, fileids=None, categories=None):\n",
      "        \"\"\"\n",
      "        Возвращает содержимое документа csv, закрывая его\n",
      "        по завершении чтения.\n",
      "        \"\"\"\n",
      "        # Получить список файлов для чтения\n",
      "        fileids = self.resolve(fileids, categories)\n",
      "\n",
      "        # Создать генератор загружающий документы в память\n",
      "        # по одному. Следующий блок увеличивает размер ячейки\n",
      "        # чтения csv файла\n",
      "        maxInt = sys.maxsize\n",
      "        decrement = True\n",
      "\n",
      "        while decrement:\n",
      "            # decrease the maxInt value by factor 10\n",
      "            # as long as the OverflowError occurs.\n",
      "\n",
      "            decrement = False\n",
      "            try:\n",
      "                csv.field_size_limit(maxInt)\n",
      "            except OverflowError:\n",
      "                maxInt = int(maxInt/10)\n",
      "                decrement = True\n",
      "\n",
      "        for path, encoding in self.abspaths(fileids, include_encoding=True):\n",
      "            with codecs.open(path, 'r', encoding=encoding) as f:\n",
      "                reader = list(csv.DictReader(f, delimiter=',', quotechar='\"', escapechar='\\\\'))\n",
      "                for row in reader:\n",
      "                    yield(row)\n",
      "\n",
      "    def sizes(self, fileids=None, categories=None):\n",
      "        \"\"\"\n",
      "        Возвращает список из идентификатора файла и его размера.\n",
      "        Эта функция используется для выявления необычно больших файлов.\n",
      "        \"\"\"\n",
      "        # Получить список файлов\n",
      "        fileids = self.resolve(fileids, categories)\n",
      "\n",
      "        # Создать генератор, возвращающий имена и размеры файла\n",
      "        for path in self.abspaths(fileids):\n",
      "            yield path, os.path.getsize(path)\n",
      "\n",
      "    def listcolumns(self, fileids=None, categories=None, key='text'):\n",
      "        \"\"\"\n",
      "        Возвращает содержимое по указанному имени столбца из файла csv, в виде списка\n",
      "        \"\"\"\n",
      "        for doc in self.docs(fileids, categories):\n",
      "            yield(doc[key])\n",
      "\n",
      "    def sents(self, fileids=None, categories=None):\n",
      "        \"\"\"\n",
      "        Функция возвращает каждую новость в виде отдельных предложений,\n",
      "        для всех новостей из обрабатываемых файлов\n",
      "        \"\"\"\n",
      "        for sentence in self.listcolumns(fileids, categories):\n",
      "            sents = list(sentenize(sentence))\n",
      "            yield([_.text for _ in sents])\n",
      "\n",
      "    def words(self, fileids=None, categories=None):\n",
      "        \"\"\"\n",
      "        Функция проводит токенизацию всех предложений по каждой новости,\n",
      "        возвращает список токенизированных предложений по всем новостям\n",
      "        \"\"\"\n",
      "        for sentence in self.sents(fileids, categories):\n",
      "            for word in sentence:\n",
      "                if len(word) == 0:\n",
      "                    continue\n",
      "                tokens = list(tokenize(word))\n",
      "                yield([_.text for _ in tokens])\n",
      "\n",
      "    def describe(self, fileids=None, categories=None):\n",
      "        \"\"\"\n",
      "        Обходит все документы и возвращает словарь с разнообразными\n",
      "        оценками, описывающими состояние корпуса\n",
      "        \"\"\"\n",
      "        started = time.time()\n",
      "\n",
      "        # Структура для подсчета\n",
      "        counts = Counter()\n",
      "\n",
      "        # Выполнить обход всех новостей из csv, выделить предложения и слова,\n",
      "        # подсчитать их\n",
      "        for i in self.docs(fileids, categories):\n",
      "            counts['rows'] += 1\n",
      "            sents = list(sentenize(i['text']))\n",
      "            sentence = [_.text for _ in sents]\n",
      "\n",
      "            for sent in sentence:\n",
      "                counts['sents'] += 1\n",
      "                if len(sent) == 0:\n",
      "                    continue\n",
      "                for word in [_.text for _ in list(tokenize(sent))]:\n",
      "                    counts['words'] += 1\n",
      "                    self.__tokens[word.lower()] += 1\n",
      "\n",
      "        # Определить число файлов и категорий в корпусе\n",
      "        n_fileids = len(self.resolve(fileids, categories) or self.fileids())\n",
      "        n_topics = len(self.categories(self.resolve(fileids, categories)))\n",
      "\n",
      "        # Составить список новостей\n",
      "        list_news = list(self.listcolumns(fileids, categories))\n",
      "        # Вернуть структуру с информацией\n",
      "        return {\n",
      "          'Количество файлов': n_fileids,\n",
      "          'Количество источников новостей': n_topics,\n",
      "          'Количество обработанных новостей': counts['rows'],\n",
      "          'Количество предложений': counts['sents'],\n",
      "          'Количество слов': counts['words'],\n",
      "          'Количество токенов (словарь)': len(self.gettokens),\n",
      "          'Коэффициент лексического разнообразия (lexical diversity)': float(counts['words']) / float(len(self.gettokens)),\n",
      "          'Среднее количество новостей по отношению к файлам': float(counts['rows']) / float(n_fileids),\n",
      "          'Среднее количество предложений в новостях': float(counts['sents']) / float(counts['rows']),\n",
      "          'Начальная дата в обработке': min(self.listcolumns(fileids, categories, 'date')),\n",
      "          'Конечная дата в обработке': max(self.listcolumns(fileids, categories, 'date')),\n",
      "          'Количество повторяющихся новостей': len(list_news) - len(set(list_news)),\n",
      "          'Количество пустных новостных элементов': len([item for item in list_news if len(item) == 0]),\n",
      "          'Время обработки в секундах': time.time() - started,\n",
      "        }\n"
     ]
    }
   ],
   "source": [
    "!cat '/content/gdrive/My Drive/experiments/001-exp/scripts/reader.py'"
   ]
  },
  {
   "cell_type": "code",
   "execution_count": 3,
   "metadata": {
    "colab": {
     "base_uri": "https://localhost:8080/",
     "height": 34
    },
    "colab_type": "code",
    "executionInfo": {
     "elapsed": 1628,
     "status": "ok",
     "timestamp": 1572525892053,
     "user": {
      "displayName": "Egor Silaev",
      "photoUrl": "",
      "userId": "17939097308196895647"
     },
     "user_tz": -180
    },
    "id": "H19kw_ktv_1X",
    "outputId": "d46a2887-4708-4041-a81d-fc029d1ec3d4"
   },
   "outputs": [
    {
     "name": "stdout",
     "output_type": "stream",
     "text": [
      "'/content/gdrive/My Drive/experiments/001-exp/scripts/reader.py'\n"
     ]
    }
   ],
   "source": [
    "!ls /content/gdrive/My\\ Drive/experiments/001-exp/scripts/*.py"
   ]
  },
  {
   "cell_type": "code",
   "execution_count": 0,
   "metadata": {
    "colab": {},
    "colab_type": "code",
    "id": "ho_6nePUv_3z"
   },
   "outputs": [],
   "source": [
    "import sys\n",
    "sys.path.append('/content/gdrive/My Drive/experiments/001-exp/scripts/')"
   ]
  },
  {
   "cell_type": "code",
   "execution_count": 5,
   "metadata": {
    "colab": {
     "base_uri": "https://localhost:8080/",
     "height": 85
    },
    "colab_type": "code",
    "executionInfo": {
     "elapsed": 4779,
     "status": "ok",
     "timestamp": 1572525900402,
     "user": {
      "displayName": "Egor Silaev",
      "photoUrl": "",
      "userId": "17939097308196895647"
     },
     "user_tz": -180
    },
    "id": "NkNLYRZBv_6B",
    "outputId": "54f14662-c980-47dc-ddf7-872825a10899"
   },
   "outputs": [
    {
     "name": "stdout",
     "output_type": "stream",
     "text": [
      "Collecting razdel\n",
      "  Downloading https://files.pythonhosted.org/packages/cf/f0/664eb27854d7de7c3605b5cd2a155cf069143fb00902ac479325bf1a98b7/razdel-0.4.0-py2.py3-none-any.whl\n",
      "Installing collected packages: razdel\n",
      "Successfully installed razdel-0.4.0\n"
     ]
    }
   ],
   "source": [
    "!pip install razdel"
   ]
  },
  {
   "cell_type": "code",
   "execution_count": 0,
   "metadata": {
    "colab": {},
    "colab_type": "code",
    "id": "T79SAlG8v_75"
   },
   "outputs": [],
   "source": []
  },
  {
   "cell_type": "code",
   "execution_count": 0,
   "metadata": {
    "colab": {},
    "colab_type": "code",
    "id": "SC-wpuUNvxjb"
   },
   "outputs": [],
   "source": [
    "from string import punctuation\n",
    "from collections import Counter\n",
    "import datetime\n",
    "import matplotlib.pyplot as plt"
   ]
  },
  {
   "cell_type": "code",
   "execution_count": 0,
   "metadata": {
    "colab": {},
    "colab_type": "code",
    "id": "cSFwYEPTvxjh"
   },
   "outputs": [],
   "source": [
    "import sys"
   ]
  },
  {
   "cell_type": "code",
   "execution_count": 0,
   "metadata": {
    "colab": {},
    "colab_type": "code",
    "id": "tRure0Wevxjl"
   },
   "outputs": [],
   "source": [
    "sys.path.append('C:\\\\projects\\\\datascience\\\\proj_news_viz\\\\nlp\\\\experiments\\\\exp-001_Prepare_csv_for_EDA\\\\scripts')"
   ]
  },
  {
   "cell_type": "code",
   "execution_count": 0,
   "metadata": {
    "colab": {},
    "colab_type": "code",
    "id": "a0bKN2JLvxjo"
   },
   "outputs": [],
   "source": [
    "from reader import CSVCorpusReader"
   ]
  },
  {
   "cell_type": "code",
   "execution_count": 0,
   "metadata": {
    "colab": {},
    "colab_type": "code",
    "id": "jY2am0Wvvxjq"
   },
   "outputs": [],
   "source": [
    "# Создадим объект чтения корпуса\n",
    "# data = CSVCorpusReader('../../../data/interim')\n",
    "data = CSVCorpusReader('/content/gdrive/My Drive/data/interim/')"
   ]
  },
  {
   "cell_type": "code",
   "execution_count": 9,
   "metadata": {
    "colab": {
     "base_uri": "https://localhost:8080/",
     "height": 34
    },
    "colab_type": "code",
    "executionInfo": {
     "elapsed": 649,
     "status": "ok",
     "timestamp": 1572525913805,
     "user": {
      "displayName": "Egor Silaev",
      "photoUrl": "",
      "userId": "17939097308196895647"
     },
     "user_tz": -180
    },
    "id": "CO3bVW6Pvxjt",
    "outputId": "8164a42d-2295-47e0-f278-271703721f76"
   },
   "outputs": [
    {
     "data": {
      "text/plain": [
       "['gazeta', 'interfax', 'rt', 'tass']"
      ]
     },
     "execution_count": 9,
     "metadata": {
      "tags": []
     },
     "output_type": "execute_result"
    }
   ],
   "source": [
    "# Новостные источники\n",
    "data.categories()"
   ]
  },
  {
   "cell_type": "code",
   "execution_count": 10,
   "metadata": {
    "colab": {
     "base_uri": "https://localhost:8080/",
     "height": 34
    },
    "colab_type": "code",
    "executionInfo": {
     "elapsed": 547,
     "status": "ok",
     "timestamp": 1572525916688,
     "user": {
      "displayName": "Egor Silaev",
      "photoUrl": "",
      "userId": "17939097308196895647"
     },
     "user_tz": -180
    },
    "id": "PKwf-W_dvxjx",
    "outputId": "f327c4e9-cf12-4d92-83a7-2a9f0208d62b"
   },
   "outputs": [
    {
     "data": {
      "text/plain": [
       "['gazeta/gazeta.csv', 'interfax/interfax.csv', 'rt/rt.csv', 'tass/tass.csv']"
      ]
     },
     "execution_count": 10,
     "metadata": {
      "tags": []
     },
     "output_type": "execute_result"
    }
   ],
   "source": [
    "# Имеющиеся файлы в корпусе\n",
    "data.fileids()"
   ]
  },
  {
   "cell_type": "markdown",
   "metadata": {
    "colab_type": "text",
    "id": "b-sExa2Jvxj1"
   },
   "source": [
    "## Общий предварительный анализ"
   ]
  },
  {
   "cell_type": "code",
   "execution_count": 11,
   "metadata": {
    "colab": {
     "base_uri": "https://localhost:8080/",
     "height": 255
    },
    "colab_type": "code",
    "executionInfo": {
     "elapsed": 3590295,
     "status": "ok",
     "timestamp": 1572529512132,
     "user": {
      "displayName": "Egor Silaev",
      "photoUrl": "",
      "userId": "17939097308196895647"
     },
     "user_tz": -180
    },
    "id": "ksweq0WAvxj2",
    "outputId": "ee3c92a4-0bed-4402-b6ca-f6e052483bc1"
   },
   "outputs": [
    {
     "data": {
      "text/plain": [
       "{'Время обработки в секундах': 3588.014945268631,\n",
       " 'Количество источников новостей': 1,\n",
       " 'Количество обработанных новостей': 1135646,\n",
       " 'Количество повторяющихся новостей': 195,\n",
       " 'Количество предложений': 11271587,\n",
       " 'Количество пустных новостных элементов': 19,\n",
       " 'Количество слов': 326172124,\n",
       " 'Количество токенов (словарь)': 1354311,\n",
       " 'Количество файлов': 1,\n",
       " 'Конечная дата в обработке': '2019-08-13 09:00:58',\n",
       " 'Коэффициент лексического разнообразия (lexical diversity)': 240.83989866433927,\n",
       " 'Начальная дата в обработке': '2011-02-25 08:50:00',\n",
       " 'Среднее количество новостей по отношению к файлам': 1135646.0,\n",
       " 'Среднее количество предложений в новостях': 9.925264563076874}"
      ]
     },
     "execution_count": 11,
     "metadata": {
      "tags": []
     },
     "output_type": "execute_result"
    }
   ],
   "source": [
    "# Предварительный анализ всех файлов из каталога новостного источника\n",
    "data.describe(None, 'tass')"
   ]
  },
  {
   "cell_type": "markdown",
   "metadata": {
    "colab_type": "text",
    "id": "TSZBXiIq7778"
   },
   "source": [
    "## EDA"
   ]
  },
  {
   "cell_type": "markdown",
   "metadata": {
    "colab_type": "text",
    "id": "e28l6e198L9u"
   },
   "source": [
    "### Обработка словаря"
   ]
  },
  {
   "cell_type": "code",
   "execution_count": 0,
   "metadata": {
    "colab": {},
    "colab_type": "code",
    "id": "OqjEhgaDvxj7"
   },
   "outputs": [],
   "source": [
    "# Соберем токены\n",
    "tokens = data.gettokens"
   ]
  },
  {
   "cell_type": "code",
   "execution_count": 0,
   "metadata": {
    "colab": {},
    "colab_type": "code",
    "id": "J5l3M6q38Qqr"
   },
   "outputs": [],
   "source": []
  },
  {
   "cell_type": "code",
   "execution_count": 0,
   "metadata": {
    "colab": {},
    "colab_type": "code",
    "id": "EPvhaJLR8Qte"
   },
   "outputs": [],
   "source": [
    "punctuation = list(punctuation)"
   ]
  },
  {
   "cell_type": "code",
   "execution_count": 0,
   "metadata": {
    "colab": {},
    "colab_type": "code",
    "id": "CBlrlrxj8QyH"
   },
   "outputs": [],
   "source": [
    "punctuation += ['«','»','—', 'n','»,','».', '–', '...']"
   ]
  },
  {
   "cell_type": "code",
   "execution_count": 0,
   "metadata": {
    "colab": {},
    "colab_type": "code",
    "id": "y5fevKURI-gg"
   },
   "outputs": [],
   "source": [
    "garbage_words = ['nранее', 'nв', 'nпо', 'nтакже','u','n—', 'nn']"
   ]
  },
  {
   "cell_type": "code",
   "execution_count": 0,
   "metadata": {
    "colab": {},
    "colab_type": "code",
    "id": "DmFxTeif8Q47"
   },
   "outputs": [],
   "source": [
    "tokens = {item:tokens[item] for item in tokens if item not in punctuation}"
   ]
  },
  {
   "cell_type": "code",
   "execution_count": 0,
   "metadata": {
    "colab": {},
    "colab_type": "code",
    "id": "JYh39TiPJTJ1"
   },
   "outputs": [],
   "source": [
    "tokens = {item:tokens[item] for item in tokens if item not in garbage_words}"
   ]
  },
  {
   "cell_type": "code",
   "execution_count": 0,
   "metadata": {
    "colab": {},
    "colab_type": "code",
    "id": "XDWAFsST8Q0f"
   },
   "outputs": [],
   "source": [
    "stopwords_01 = open('/content/gdrive/My Drive/data/another/stopwords.txt', 'r', encoding='UTF-8')\n",
    "stopwords_01 = stopwords_01.read().split('\\n')\n",
    "stopwords_02 = open('/content/gdrive/My Drive/data/another/stopwords_02.txt', 'r', encoding='UTF-8')\n",
    "stopwords_02 = stopwords_02.read().split('\\n')"
   ]
  },
  {
   "cell_type": "code",
   "execution_count": 0,
   "metadata": {
    "colab": {},
    "colab_type": "code",
    "id": "qOGMPuwo8Qw2"
   },
   "outputs": [],
   "source": [
    "stopwords = stopwords_01 + stopwords_02"
   ]
  },
  {
   "cell_type": "code",
   "execution_count": 0,
   "metadata": {
    "colab": {},
    "colab_type": "code",
    "id": "ED9DjQjc9R05"
   },
   "outputs": [],
   "source": [
    "tokens_without_stopwords = {item:tokens[item] for item in tokens if item not in stopwords}"
   ]
  },
  {
   "cell_type": "code",
   "execution_count": 0,
   "metadata": {
    "colab": {},
    "colab_type": "code",
    "id": "6M4gXZsu9R7L"
   },
   "outputs": [],
   "source": []
  },
  {
   "cell_type": "markdown",
   "metadata": {
    "colab_type": "text",
    "id": "ym3H5f0G-NLt"
   },
   "source": [
    "### Аналитика по словам"
   ]
  },
  {
   "cell_type": "markdown",
   "metadata": {
    "colab_type": "text",
    "id": "B3_A4DrY-hQq"
   },
   "source": [
    "#### Топ-20 слов без удаления стоп-слов"
   ]
  },
  {
   "cell_type": "code",
   "execution_count": 21,
   "metadata": {
    "colab": {
     "base_uri": "https://localhost:8080/",
     "height": 357
    },
    "colab_type": "code",
    "executionInfo": {
     "elapsed": 1011,
     "status": "ok",
     "timestamp": 1572529637742,
     "user": {
      "displayName": "Egor Silaev",
      "photoUrl": "",
      "userId": "17939097308196895647"
     },
     "user_tz": -180
    },
    "id": "KFqnUUCevxkA",
    "outputId": "99e0c97a-b803-4bbe-df53-6d6e8d754754"
   },
   "outputs": [
    {
     "data": {
      "text/plain": [
       "[('в', 12663965),\n",
       " ('и', 6128345),\n",
       " ('на', 4892475),\n",
       " ('по', 3052439),\n",
       " ('с', 2817658),\n",
       " ('что', 2361936),\n",
       " ('не', 1868963),\n",
       " ('тасс', 1278771),\n",
       " ('из', 1109082),\n",
       " ('для', 1064167),\n",
       " ('о', 1040801),\n",
       " ('он', 991101),\n",
       " ('к', 980172),\n",
       " ('года', 978966),\n",
       " ('этом', 940882),\n",
       " ('за', 908356),\n",
       " ('как', 861466),\n",
       " ('а', 807471),\n",
       " ('об', 799668),\n",
       " ('россии', 785241)]"
      ]
     },
     "execution_count": 21,
     "metadata": {
      "tags": []
     },
     "output_type": "execute_result"
    }
   ],
   "source": [
    "Counter(tokens).most_common(20)"
   ]
  },
  {
   "cell_type": "code",
   "execution_count": 22,
   "metadata": {
    "colab": {
     "base_uri": "https://localhost:8080/",
     "height": 404
    },
    "colab_type": "code",
    "executionInfo": {
     "elapsed": 2083,
     "status": "ok",
     "timestamp": 1572529643979,
     "user": {
      "displayName": "Egor Silaev",
      "photoUrl": "",
      "userId": "17939097308196895647"
     },
     "user_tz": -180
    },
    "id": "RrvScy8hvxkE",
    "outputId": "1dd1e81a-3eaa-4356-a0ef-844023450d7b"
   },
   "outputs": [
    {
     "data": {
      "image/png": "[encoded data removed]",
      "text/plain": [
       "<Figure size 864x432 with 1 Axes>"
      ]
     },
     "metadata": {
      "tags": []
     },
     "output_type": "display_data"
    }
   ],
   "source": [
    "x = dict(Counter(tokens).most_common(20)).keys()\n",
    "y = dict(Counter(tokens).most_common(20)).values()\n",
    "\n",
    "fig, ax = plt.subplots()\n",
    "\n",
    "ax.bar(x, y)\n",
    "ax.set_title('TOP-20 слов без удаления стопслов')\n",
    "ax.set_ylabel('Частота')\n",
    "ax.set_xlabel('Слова')\n",
    "\n",
    "ax.set_facecolor('seashell')\n",
    "fig.set_facecolor('floralwhite')\n",
    "fig.set_figwidth(12)    #  ширина Figure\n",
    "fig.set_figheight(6)    #  высота Figure\n",
    "\n",
    "\n",
    "plt.show()"
   ]
  },
  {
   "cell_type": "markdown",
   "metadata": {
    "colab_type": "text",
    "id": "oyibo5Ui-lzi"
   },
   "source": [
    "#### Топ-20 слов после удаления стоп-слов"
   ]
  },
  {
   "cell_type": "code",
   "execution_count": 23,
   "metadata": {
    "colab": {
     "base_uri": "https://localhost:8080/",
     "height": 357
    },
    "colab_type": "code",
    "executionInfo": {
     "elapsed": 1171,
     "status": "ok",
     "timestamp": 1572529647418,
     "user": {
      "displayName": "Egor Silaev",
      "photoUrl": "",
      "userId": "17939097308196895647"
     },
     "user_tz": -180
    },
    "id": "dsegoWWy-rod",
    "outputId": "2dff93b8-e2b6-4f85-93fb-ab09a094eeb6"
   },
   "outputs": [
    {
     "data": {
      "text/plain": [
       "[('тасс', 1278771),\n",
       " ('россии', 785241),\n",
       " ('рф', 612604),\n",
       " ('сша', 397019),\n",
       " ('сообщил', 375779),\n",
       " ('корр', 356151),\n",
       " ('итар-тасс', 354178),\n",
       " ('области', 351189),\n",
       " ('тыс', 351147),\n",
       " ('словам', 331051),\n",
       " ('млн', 326739),\n",
       " ('отметил', 321335),\n",
       " ('1', 307416),\n",
       " ('рублей', 303153),\n",
       " ('заявил', 294376),\n",
       " ('глава', 254803),\n",
       " ('млрд', 253665),\n",
       " ('страны', 238765),\n",
       " ('сообщили', 237730),\n",
       " ('данным', 218190)]"
      ]
     },
     "execution_count": 23,
     "metadata": {
      "tags": []
     },
     "output_type": "execute_result"
    }
   ],
   "source": [
    "Counter(tokens_without_stopwords).most_common(20)"
   ]
  },
  {
   "cell_type": "code",
   "execution_count": 24,
   "metadata": {
    "colab": {
     "base_uri": "https://localhost:8080/",
     "height": 404
    },
    "colab_type": "code",
    "executionInfo": {
     "elapsed": 1997,
     "status": "ok",
     "timestamp": 1572529655037,
     "user": {
      "displayName": "Egor Silaev",
      "photoUrl": "",
      "userId": "17939097308196895647"
     },
     "user_tz": -180
    },
    "id": "ULvxekUF-r4a",
    "outputId": "8f0f5402-37a4-4c98-95fb-2a0274855259"
   },
   "outputs": [
    {
     "data": {
      "image/png": "[encoded data removed]",
      "text/plain": [
       "<Figure size 1584x432 with 1 Axes>"
      ]
     },
     "metadata": {
      "tags": []
     },
     "output_type": "display_data"
    }
   ],
   "source": [
    "x = dict(Counter(tokens_without_stopwords).most_common(20)).keys()\n",
    "y = dict(Counter(tokens_without_stopwords).most_common(20)).values()\n",
    "\n",
    "fig, ax = plt.subplots()\n",
    "\n",
    "ax.bar(x, y)\n",
    "ax.set_title('TOP-20 слов без удаления стопслов')\n",
    "ax.set_ylabel('Частота')\n",
    "ax.set_xlabel('Слова')\n",
    "\n",
    "ax.set_facecolor('seashell')\n",
    "fig.set_facecolor('floralwhite')\n",
    "fig.set_figwidth(22)    #  ширина Figure\n",
    "fig.set_figheight(6)    #  высота Figure\n",
    "\n",
    "\n",
    "plt.show()"
   ]
  },
  {
   "cell_type": "markdown",
   "metadata": {
    "colab_type": "text",
    "id": "VJ6w-wJ2vxkH"
   },
   "source": [
    "## Рубрики в разрезе новостей"
   ]
  },
  {
   "cell_type": "markdown",
   "metadata": {
    "colab_type": "text",
    "id": "IwvkOJgzvxkH"
   },
   "source": [
    "### Количество рубрик"
   ]
  },
  {
   "cell_type": "code",
   "execution_count": 0,
   "metadata": {
    "colab": {},
    "colab_type": "code",
    "id": "FHEEEtf2vxkI"
   },
   "outputs": [],
   "source": [
    "list_topics = list(data.listcolumns(None, 'tass', 'topics'))"
   ]
  },
  {
   "cell_type": "code",
   "execution_count": 26,
   "metadata": {
    "colab": {
     "base_uri": "https://localhost:8080/",
     "height": 34
    },
    "colab_type": "code",
    "executionInfo": {
     "elapsed": 609,
     "status": "ok",
     "timestamp": 1572529856830,
     "user": {
      "displayName": "Egor Silaev",
      "photoUrl": "",
      "userId": "17939097308196895647"
     },
     "user_tz": -180
    },
    "id": "Z8BTRTl7vxkK",
    "outputId": "2921fa3a-54dd-4a22-c796-f6955053b7bd"
   },
   "outputs": [
    {
     "data": {
      "text/plain": [
       "288"
      ]
     },
     "execution_count": 26,
     "metadata": {
      "tags": []
     },
     "output_type": "execute_result"
    }
   ],
   "source": [
    "len(set(list_topics))"
   ]
  },
  {
   "cell_type": "markdown",
   "metadata": {
    "colab_type": "text",
    "id": "597r_Fl3vxkM"
   },
   "source": [
    "### Рубрики в разрезе количества новостей"
   ]
  },
  {
   "cell_type": "code",
   "execution_count": 27,
   "metadata": {
    "colab": {
     "base_uri": "https://localhost:8080/",
     "height": 187
    },
    "colab_type": "code",
    "executionInfo": {
     "elapsed": 637,
     "status": "ok",
     "timestamp": 1572529864339,
     "user": {
      "displayName": "Egor Silaev",
      "photoUrl": "",
      "userId": "17939097308196895647"
     },
     "user_tz": -180
    },
    "id": "ccIvRH-SvxkM",
    "outputId": "86b98bb7-2b48-480f-ea4d-0bad381908dc"
   },
   "outputs": [
    {
     "data": {
      "text/plain": [
       "[('mezhdunarodnaya-panorama', 210656),\n",
       " ('sport', 189547),\n",
       " ('ekonomika', 159387),\n",
       " ('obschestvo', 134878),\n",
       " ('proisshestviya', 124474),\n",
       " ('politika', 84042),\n",
       " ('kultura', 34825),\n",
       " ('moskva', 30292),\n",
       " ('sibir-news', 25877),\n",
       " ('ural-news', 25204)]"
      ]
     },
     "execution_count": 27,
     "metadata": {
      "tags": []
     },
     "output_type": "execute_result"
    }
   ],
   "source": [
    "Counter(list_topics).most_common(10)"
   ]
  },
  {
   "cell_type": "markdown",
   "metadata": {
    "colab_type": "text",
    "id": "LzbLPu6G7Xit"
   },
   "source": [
    "## Распределение количества новостей по месяцам"
   ]
  },
  {
   "cell_type": "code",
   "execution_count": 0,
   "metadata": {
    "colab": {},
    "colab_type": "code",
    "id": "tnKIaQaHz9tW"
   },
   "outputs": [],
   "source": [
    "list_dates = list(data.listcolumns(None, 'tass', 'date'))"
   ]
  },
  {
   "cell_type": "code",
   "execution_count": 0,
   "metadata": {
    "colab": {},
    "colab_type": "code",
    "id": "f3XU1MlP0V5n"
   },
   "outputs": [],
   "source": []
  },
  {
   "cell_type": "code",
   "execution_count": 0,
   "metadata": {
    "colab": {},
    "colab_type": "code",
    "id": "IsfBLATW02PS"
   },
   "outputs": [],
   "source": [
    "def getMonthDate(date):\n",
    "  \"\"\"\n",
    "  Возвращает дату в формате ММ-ГГГГ\n",
    "  \"\"\"\n",
    "  date = datetime.datetime.strptime(date, \"%Y-%m-%d %H:%M:%S\")\n",
    "  return '-'.join(['0' + str(date.month) if date.month<10 else str(date.month), str(date.year)])"
   ]
  },
  {
   "cell_type": "code",
   "execution_count": 0,
   "metadata": {
    "colab": {},
    "colab_type": "code",
    "id": "86cWiHJV1dKu"
   },
   "outputs": [],
   "source": [
    "# Подсчет количества новостей в разрезе месяца и года\n",
    "list_dates = [getMonthDate(x) for x in list_dates]"
   ]
  },
  {
   "cell_type": "code",
   "execution_count": 0,
   "metadata": {
    "colab": {},
    "colab_type": "code",
    "id": "EhWOAaaC29e0"
   },
   "outputs": [],
   "source": [
    "month_year = Counter(list_dates)"
   ]
  },
  {
   "cell_type": "code",
   "execution_count": 33,
   "metadata": {
    "colab": {
     "base_uri": "https://localhost:8080/",
     "height": 34
    },
    "colab_type": "code",
    "executionInfo": {
     "elapsed": 543,
     "status": "ok",
     "timestamp": 1572530075453,
     "user": {
      "displayName": "Egor Silaev",
      "photoUrl": "",
      "userId": "17939097308196895647"
     },
     "user_tz": -180
    },
    "id": "9v6Jd6nq6kig",
    "outputId": "0b6114f4-6e77-48c5-b95c-35094f5a1f45"
   },
   "outputs": [
    {
     "data": {
      "text/plain": [
       "103"
      ]
     },
     "execution_count": 33,
     "metadata": {
      "tags": []
     },
     "output_type": "execute_result"
    }
   ],
   "source": [
    "len(month_year)"
   ]
  },
  {
   "cell_type": "code",
   "execution_count": 34,
   "metadata": {
    "colab": {
     "base_uri": "https://localhost:8080/",
     "height": 357
    },
    "colab_type": "code",
    "executionInfo": {
     "elapsed": 576,
     "status": "ok",
     "timestamp": 1572530079837,
     "user": {
      "displayName": "Egor Silaev",
      "photoUrl": "",
      "userId": "17939097308196895647"
     },
     "user_tz": -180
    },
    "id": "rKYcNky04hgi",
    "outputId": "60e1f8da-dd0d-4a1c-fce3-a97a111837e4"
   },
   "outputs": [
    {
     "data": {
      "text/plain": [
       "[('03-2019', 19829),\n",
       " ('10-2018', 19730),\n",
       " ('06-2019', 19403),\n",
       " ('04-2019', 19303),\n",
       " ('07-2019', 19259),\n",
       " ('02-2019', 18196),\n",
       " ('12-2018', 18114),\n",
       " ('11-2018', 17998),\n",
       " ('05-2019', 17774),\n",
       " ('10-2017', 17665),\n",
       " ('11-2017', 17103),\n",
       " ('09-2018', 16643),\n",
       " ('12-2017', 16465),\n",
       " ('03-2018', 16408),\n",
       " ('09-2017', 16321),\n",
       " ('08-2018', 16144),\n",
       " ('06-2016', 16093),\n",
       " ('04-2018', 15885),\n",
       " ('01-2019', 15792),\n",
       " ('02-2018', 15736)]"
      ]
     },
     "execution_count": 34,
     "metadata": {
      "tags": []
     },
     "output_type": "execute_result"
    }
   ],
   "source": [
    "month_year.most_common(20)"
   ]
  },
  {
   "cell_type": "code",
   "execution_count": 35,
   "metadata": {
    "colab": {
     "base_uri": "https://localhost:8080/",
     "height": 653
    },
    "colab_type": "code",
    "executionInfo": {
     "elapsed": 2024,
     "status": "ok",
     "timestamp": 1572530085989,
     "user": {
      "displayName": "Egor Silaev",
      "photoUrl": "",
      "userId": "17939097308196895647"
     },
     "user_tz": -180
    },
    "id": "g97uKlaT5UXh",
    "outputId": "edebd0ab-7315-4f2d-962c-84669596e846"
   },
   "outputs": [
    {
     "data": {
      "image/png": "[encoded data removed]",
      "text/plain": [
       "<Figure size 1440x720 with 1 Axes>"
      ]
     },
     "metadata": {
      "tags": []
     },
     "output_type": "display_data"
    }
   ],
   "source": [
    "fig, ax = plt.subplots(figsize=(20, 10))\n",
    "plt.bar(x = month_year.keys(),\n",
    "        height = month_year.values())\n",
    "plt.xticks(rotation='vertical')\n",
    "ax.set_facecolor('seashell')\n",
    "fig.set_facecolor('floralwhite')\n",
    "\n",
    "ax.set_title('Количество новостей по месяцам')\n",
    "ax.set_ylabel('Количество')\n",
    "ax.set_xlabel('Дата')\n",
    "plt.show()"
   ]
  },
  {
   "cell_type": "code",
   "execution_count": 0,
   "metadata": {
    "colab": {},
    "colab_type": "code",
    "id": "YiN8O2xYvxlV"
   },
   "outputs": [],
   "source": []
  },
  {
   "cell_type": "code",
   "execution_count": 0,
   "metadata": {
    "colab": {},
    "colab_type": "code",
    "id": "CYN55mRavxlX"
   },
   "outputs": [],
   "source": []
  }
 ],
 "metadata": {
  "accelerator": "TPU",
  "colab": {
   "collapsed_sections": [],
   "name": "tass (new news).ipynb",
   "provenance": [
    {
     "file_id": "1PoFtjUNhBQ6Gx6_9JaI5aZ0ax2BlB7SE",
     "timestamp": 1572525762703
    },
    {
     "file_id": "1ZUV-wjHI_Dzys5y16L91PKrrehOVWIOw",
     "timestamp": 1572523858809
    },
    {
     "file_id": "1VHuGP11gOWttztejKCDNjHAuAWBD_Owm",
     "timestamp": 1572521191576
    }
   ],
   "toc_visible": true
  },
  "kernelspec": {
   "display_name": "Python 3",
   "language": "python",
   "name": "python3"
  },
  "language_info": {
   "codemirror_mode": {
    "name": "ipython",
    "version": 3
   },
   "file_extension": ".py",
   "mimetype": "text/x-python",
   "name": "python",
   "nbconvert_exporter": "python",
   "pygments_lexer": "ipython3",
   "version": "3.7.3"
  }
 },
 "nbformat": 4,
 "nbformat_minor": 1
}
