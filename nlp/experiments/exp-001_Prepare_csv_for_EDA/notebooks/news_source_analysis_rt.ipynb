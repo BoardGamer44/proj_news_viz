{
 "cells": [
  {
   "cell_type": "markdown",
   "metadata": {
    "colab_type": "text",
    "id": "Y9ddZBr2vxjW"
   },
   "source": [
    "# RT"
   ]
  },
  {
   "cell_type": "code",
   "execution_count": 1,
   "metadata": {
    "colab": {},
    "colab_type": "code",
    "id": "SC-wpuUNvxjb"
   },
   "outputs": [],
   "source": [
    "from string import punctuation\n",
    "from collections import Counter\n",
    "import datetime\n",
    "import matplotlib.pyplot as plt"
   ]
  },
  {
   "cell_type": "code",
   "execution_count": 2,
   "metadata": {
    "colab": {},
    "colab_type": "code",
    "id": "cSFwYEPTvxjh"
   },
   "outputs": [],
   "source": [
    "import sys"
   ]
  },
  {
   "cell_type": "code",
   "execution_count": 3,
   "metadata": {
    "colab": {},
    "colab_type": "code",
    "id": "tRure0Wevxjl"
   },
   "outputs": [],
   "source": [
    "sys.path.append('C:\\\\projects\\\\datascience\\\\proj_news_viz\\\\nlp\\\\experiments\\\\exp-001_Prepare_csv_for_EDA\\\\scripts')"
   ]
  },
  {
   "cell_type": "code",
   "execution_count": 4,
   "metadata": {
    "colab": {},
    "colab_type": "code",
    "id": "a0bKN2JLvxjo"
   },
   "outputs": [],
   "source": [
    "from reader import CSVCorpusReader"
   ]
  },
  {
   "cell_type": "code",
   "execution_count": 5,
   "metadata": {
    "colab": {},
    "colab_type": "code",
    "id": "jY2am0Wvvxjq"
   },
   "outputs": [],
   "source": [
    "# Создадим объект чтения корпуса\n",
    "data = CSVCorpusReader('../../../data/interim')"
   ]
  },
  {
   "cell_type": "code",
   "execution_count": 6,
   "metadata": {
    "colab": {
     "base_uri": "https://localhost:8080/",
     "height": 34
    },
    "colab_type": "code",
    "executionInfo": {
     "elapsed": 547,
     "status": "ok",
     "timestamp": 1572530357516,
     "user": {
      "displayName": "Egor Silaev",
      "photoUrl": "",
      "userId": "17939097308196895647"
     },
     "user_tz": -180
    },
    "id": "CO3bVW6Pvxjt",
    "outputId": "b16543e2-fba4-43af-c10d-1d7ac7182471"
   },
   "outputs": [
    {
     "data": {
      "text/plain": [
       "['gazeta', 'interfax', 'iz', 'meduza', 'ria', 'rt', 'tass']"
      ]
     },
     "execution_count": 6,
     "metadata": {},
     "output_type": "execute_result"
    }
   ],
   "source": [
    "# Новостные источники\n",
    "data.categories()"
   ]
  },
  {
   "cell_type": "code",
   "execution_count": 7,
   "metadata": {
    "colab": {
     "base_uri": "https://localhost:8080/",
     "height": 34
    },
    "colab_type": "code",
    "executionInfo": {
     "elapsed": 541,
     "status": "ok",
     "timestamp": 1572530451140,
     "user": {
      "displayName": "Egor Silaev",
      "photoUrl": "",
      "userId": "17939097308196895647"
     },
     "user_tz": -180
    },
    "id": "PKwf-W_dvxjx",
    "outputId": "e0648e39-e80d-4179-d09e-0f07ff337459"
   },
   "outputs": [
    {
     "data": {
      "text/plain": [
       "['gazeta/gazeta.csv',\n",
       " 'interfax/interfax.csv',\n",
       " 'iz/iz.csv',\n",
       " 'meduza/meduza.csv',\n",
       " 'ria/ria.csv',\n",
       " 'rt/rt.csv',\n",
       " 'tass/tass.csv']"
      ]
     },
     "execution_count": 7,
     "metadata": {},
     "output_type": "execute_result"
    }
   ],
   "source": [
    "# Имеющиеся файлы в корпусе\n",
    "data.fileids()"
   ]
  },
  {
   "cell_type": "code",
   "execution_count": 8,
   "metadata": {},
   "outputs": [
    {
     "data": {
      "text/plain": [
       "[(FileSystemPathPointer('C:\\\\projects\\\\datascience\\\\proj_news_viz\\\\nlp\\\\data\\\\interim\\\\rt\\\\rt.csv'),\n",
       "  225108812)]"
      ]
     },
     "execution_count": 8,
     "metadata": {},
     "output_type": "execute_result"
    }
   ],
   "source": [
    "# Проверим размер нашего сета, который будем обрабатывать\n",
    "list(data.sizes(None, 'rt'))"
   ]
  },
  {
   "cell_type": "markdown",
   "metadata": {
    "colab_type": "text",
    "id": "b-sExa2Jvxj1"
   },
   "source": [
    "## Общий предварительный анализ"
   ]
  },
  {
   "cell_type": "code",
   "execution_count": 9,
   "metadata": {
    "colab": {
     "base_uri": "https://localhost:8080/",
     "height": 255
    },
    "colab_type": "code",
    "executionInfo": {
     "elapsed": 198321,
     "status": "ok",
     "timestamp": 1572530657850,
     "user": {
      "displayName": "Egor Silaev",
      "photoUrl": "",
      "userId": "17939097308196895647"
     },
     "user_tz": -180
    },
    "id": "ksweq0WAvxj2",
    "outputId": "bed71c0f-ce65-4ba7-90ed-902081377274"
   },
   "outputs": [
    {
     "data": {
      "text/plain": [
       "{'Количество файлов': 1,\n",
       " 'Количество источников новостей': 1,\n",
       " 'Количество обработанных новостей': 106644,\n",
       " 'Количество предложений': 510836,\n",
       " 'Количество слов': 19411353,\n",
       " 'Количество токенов (словарь)': 384046,\n",
       " 'Коэффициент лексического разнообразия (lexical diversity)': 50.544343646334035,\n",
       " 'Среднее количество новостей по отношению к файлам': 106644.0,\n",
       " 'Среднее количество предложений в новостях': 4.790105397396947,\n",
       " 'Начальная дата в обработке': '2014-06-16 18:36:02',\n",
       " 'Конечная дата в обработке': '2019-08-02 14:10:00',\n",
       " 'Количество повторяющихся новостей': 293,\n",
       " 'Количество пустных новостных элементов': 12,\n",
       " 'Время обработки в секундах': 459.201534986496}"
      ]
     },
     "execution_count": 9,
     "metadata": {},
     "output_type": "execute_result"
    }
   ],
   "source": [
    "# Предварительный анализ всех файлов из каталога новостного источника\n",
    "data.describe(None, 'rt')"
   ]
  },
  {
   "cell_type": "markdown",
   "metadata": {
    "colab_type": "text",
    "id": "TSZBXiIq7778"
   },
   "source": [
    "## EDA"
   ]
  },
  {
   "cell_type": "code",
   "execution_count": 0,
   "metadata": {
    "colab": {},
    "colab_type": "code",
    "id": "Xcj1nX41HtJd"
   },
   "outputs": [],
   "source": []
  },
  {
   "cell_type": "code",
   "execution_count": 10,
   "metadata": {
    "colab": {},
    "colab_type": "code",
    "id": "IFD9JKgDHtem"
   },
   "outputs": [],
   "source": [
    "list_data = list(data.docs(None, 'rt'))"
   ]
  },
  {
   "cell_type": "code",
   "execution_count": 11,
   "metadata": {
    "colab": {
     "base_uri": "https://localhost:8080/",
     "height": 1000
    },
    "colab_type": "code",
    "executionInfo": {
     "elapsed": 573,
     "status": "ok",
     "timestamp": 1572530874915,
     "user": {
      "displayName": "Egor Silaev",
      "photoUrl": "",
      "userId": "17939097308196895647"
     },
     "user_tz": -180
    },
    "id": "4IlBlvz6HthN",
    "outputId": "d44fa4c2-da6a-448f-cfd8-842455cc7c4b"
   },
   "outputs": [
    {
     "data": {
      "text/plain": [
       "[OrderedDict([('date', '2019-06-26 14:00:00'),\n",
       "              ('url',\n",
       "               'https://russian.rt.com/russia/news/644595-avto-ekspert-rossiya'),\n",
       "              ('edition', '-'),\n",
       "              ('topics', 'Россия'),\n",
       "              ('authors', ''),\n",
       "              ('title',\n",
       "               'Эксперт прокомментировал ситуацию с возможным лишением прав за нечитаемые номера'),\n",
       "              ('text',\n",
       "               'Как считает эксперт, россиянам не стоит переживать, что их заподозрят в намеренном загрязнении госзнака в непогоду.n«Когда идёт дождь или снег, то у водителя нет никакого умысла, чтобы номер был грязным, — он сам по себе такой. В теории в идеальной ситуации это должно учитываться инспекторами и судом», —nзаявилnон.nРанее пленум Верховного суда Россииnвыпустил постановлениеn, разъясняющее, какие санкции могут быть применены в отношении автолюбителей, которые приняли меры, чтобы государственные знаки, установленные на их автомобилях, стали нечитаемыми.nРуководитель Федерации автовладельцев России Сергей Канаев в беседе с ФАНnоценилnпредложение правительства России ввести штраф до 2500 рублей для автомобилистов, которые не оплачивают проезд по платной дороге.'),\n",
       "              ('reposts_fb', '-'),\n",
       "              ('reposts_vk', '-'),\n",
       "              ('reposts_ok', '-'),\n",
       "              ('reposts_twi', '-'),\n",
       "              ('reposts_lj', '-'),\n",
       "              ('reposts_tg', '-'),\n",
       "              ('likes', '-'),\n",
       "              ('views', '-'),\n",
       "              ('comm_count', '-'),\n",
       "              (None, [''])]),\n",
       " OrderedDict([('date', '2019-06-26 19:56:00'),\n",
       "              ('url',\n",
       "               'https://russian.rt.com/sport/article/644740-nurmagomedov-makgregor-dzhons-yan'),\n",
       "              ('edition', '-'),\n",
       "              ('topics', 'Спорт'),\n",
       "              ('authors', ''),\n",
       "              ('title',\n",
       "               'Встреча Нурмагомедова с Макгрегором, восстановление Яна и поражение Джонса: что обсуждают в мире UFC'),\n",
       "              ('text',\n",
       "               '«Конор может посетить поединок Хабиба с Порье»nЧерез два с половиной месяца действующий чемпион UFC в лёгком весе Хабиб Нурмагомедов проведёт свою вторую защиту титула. На турнире в Абу-Даби россиянин померится силами с обладателем временного пояса Дастином Порье иnпостарается укрепить наследиеn, о котором он часто говорил в последнее время. Однако сражение с американцем может стать не самым значимым событием дня, ведь не исключено, что бой посетит Конор Макгрегор.nУчитывая напряжённые взаимоотношения двух спортсменов и огромное количество поклонников Хабиба в Абу-Даби, приезд в эту страну может стать для Макгрегора рискованным шагом. Ещё совсем недавно ирландец позволил себе грубые комментарии в адрес жены россиянина, что вызвало гнев мусульманского сообщества. Однако президент UFC Дана Уайт считает, что подобное вряд ли остановит Конора.nТакже по темеn«Чувствую, что нокаутирую Хабиба»: как Порье готовится к поединку с НурмагомедовымnОбладатель временного титула UFC в лёгком весе Дастин Порье пообещал нокаутировать россиянина Хабиба Нурмагомедова в титульном бою. Он...n«Макгрегор может появиться там. Лично он не говорил мне об этом. Не хочу делать громких заявлений, но Конор может посетить поединок Хабиба с Дастином», — заявил Уайт в интервью ESPN.nПри этом глава промоушена выразил мнение, что у экс-чемпиона UFC в двух весовых категориях могут быть болельщики и на Ближнем Востоке.n«Знаю, что этот народ серьёзно воспринимает любые слова, но Нурмагомедов выиграл тот бой, несмотря на весь треш-ток со стороны ирландца. Эти спортсмены испытывают неприязнь друг к другу, но это бизнес. Не вижу проблем, если Конор появится в Абу-Даби», — заключил Уайт.nНапомним: в апреле 2018-го ирландец в Бруклинеnнапал на автобусn, в котором находился Нурмагомедов. А уже в октябре по окончании очной схватки россиянин выпрыгнул в зал и спровоцировал потасовку, по итогам которой сами атлеты, а также люди из их окружения получили длительные дисквалификации.nПри этом Уайт добавил, что в настоящий момент не\\xa0обладает информацией относительно будущей карьеры Макгрегора. По его словам, несколько дней назад он разговаривал с ирландцем, но не смог получить однозначный ответ о его планах на будущее.n«У нас хорошие взаимоотношения. Мы примем его, когда он будет готов вернуться. Но пока я не знаю, когда это произойдёт. Нужно понимать, что Макгрегор добился успеха, он зарабатывает тонны денег, его виски пользуется огромным спросом… Конор находится в таком положении, что либо выберет себе соперника, либо уйдёт из боёв навсегда», — приводит слова Уайта Las Vegas Review-Journal.nБеспроигрышная серия ДжонсаnТакже стало известно, что в настоящее время Уайт намерен провести переговоры с Атлетической комиссией штата Невада (NSAC) и добиться аннулирования единственного поражения в карьере легендарного Джона Джонса.nНа данный момент в послужном списке действующего чемпиона UFC в полутяжёлом весе значится 26 боёв. 24 из них он выиграл, в одном уступил, а ещё один был признан несостоявшимся ввиду проваленного американцем допинг-теста. При этом единственная неудача датирована 5 декабря 2009 года, когда Джонс был дисквалифицирован в схватке с Мэттом Хэмиллом, известным глухим бойцом.nДжонс\\xa0безраздельно доминировал на протяжении всего первого раунда и уже на третьей минуте красивым броском повалил Хэмилла на настил. На протяжении минуты он избивал своего соперника, но судья Стив Маззагатти не реагировал. В один момент Джон немного потерял контроль и нанёс несколько запрещённых ударов локтем сверху вниз под прямым углом (12 to 6 elbow), чем вызвал глубокое рассечение на лице Мэтта. Рефери сначала снял с будущего чемпиона один балл, а затем и вовсе остановил битву, присудив победу его оппоненту.nВпоследствии многие признавали, что в том эпизоде Маззагатти допустил грубую ошибку и фактически вынудил Джонса нарушить правила. А сам рефери успел отметиться целым рядом спорных решений и стать одним из наиболее горячо критикуемых в истории смешанных боевых искусств. В свете этого решение Уайта восстановить справедливость не кажется странным.nПоддержал его в этом начинании и известный комментатор Джо Роган. На своей странице в Twitter он написал, что на 100% солидарен с мнением Уайта.n«Правило об ударах локтем под прямым углом — одно из тупейших в единоборствах. Как минимум, этот поединок должен быть признан несостоявшимся. Он (Джонс. —nRTn) превосходил своего соперника по всем статьям», — заявил Роган.nОперация Яна и новый бой для ЛоулераnТем временем четвёртый номер рейтинга легчайшего веса UFC Пётр Ян перенёс операцию на руке. В июне он одержал пятую подряд победу в UFC и укрепил позиции в организации. При этом сам спортсмен признался, что травма серьёзно мешала ему как в ходе подготовки к бою, так и в самой схватке с американцем.n«Всем привет, у меня всё хорошо! Операция прошла по плану доктора, через 1,5—2 месяца я буду в строю… Теперь будем пахать ещё усерднее. Всем терпения и верьте в себя, всё получится», — написал спортсмен на своей официальной странице в Instagram.nТаким образом, уже осенью спортсмен сможет приступить к тренировкам и вполне может вернуться в октагон до конца 2019 года. При этом не исключено, что этот бой состоится на втором в истории UFC турнире в Москве, а победа в нём может гарантировать Яну встречу с действующим чемпионом в легчайшем весе Генри Сехудо. Правда, для этого ему необходимо расправиться с одним из топ-атлетов дивизиона.nНа данный момент выше Яна в рейтинге находятся лишь трое бойцов. При этом кандидатура Рафаэла Ассунсао, вероятнее всего, отпадает, ведь он проведёт свой следующий поединок в середине августа и рискует не успеть восстановиться к концу года. Остаются Алджамейн Стерлинг и Марлон Мораес, однако последний из них совсем недавно уступил Сехудо и не смог завоевать пояс.nВ UFC ему вряд ли предоставят возможность вновь побороться за титульный бой в такой короткий срок, поэтому самый очевидный вариант — встреча между Яном и Стерлингом. Россиянин уже поспешил выразить готовность сразиться с американцем, подтолкнув руководство в нужном направлении.nПри этом уже в ближайшее время в Абсолютном бойцовском чемпионате может произойти одно из самых ожидаемых сражений лета. Как заявил Уайт, на турнире UFC Fight Night в Ньюарке состоится схватка между экс-чемпионом в полусреднем весе Робби Лоулером и бывшим обладателем временного пояса Колби Ковингтоном. Сражение станет главным событием шоу, одним из участников которого будет россиянин Рамазан Эмеев.nЗа последние годы Ковингтон стал одним из самых обсуждаемых бойцов организации, причём в негативном свете. Так, он запомнился своими расистскими комментариями в адрес бразильцев, которых прямо во время шоу назвал грязными животными, а также отличился другими скандальными выходками. Досталось и Нурмагомедову. Американец жёстко прокомментировал прыжок россиянина в зал по окончании боя с Макгрегором,nназвав его любителем овецn.nПобеда над Лоулером может дать Ковингтону возможность получить бой за титул. В июне 2018 года он одолел Рафаэла Дус Анжуса и получил временный пояс, однако так и не сразился с абсолютным чемпионом. Колби неоднократно бросал вызов Тайрону Вудли, но в нужный момент сам отказался выходить в клетку, сославшись на операцию. Руководство UFC оказалось крайне недовольно действиями американца и лишило его права претендовать на поединок за почётное звание.nВпоследствии Вудли уступил пояс Камару Усману, в результате Ковингтон обратил всё своё внимание на нигерийца. Он неоднократно пытался сорвать тренировку спортсмена и предлагал ему встретиться в октагоне, но тот получил травму.nЧто касается Лоулера, в последние годы один из самых зрелищных бойцов в истории UFC нечасто радовал своих поклонников успехами. В последних четырёх боях он потерпел три поражения и теперь вряд ли сможет с ходу обеспечить себе встречу с чемпионом. И это даже несмотря на тот факт, что его проигрыш Бену Аскрену является весьма спорным. Так, рефери Хёрб Дин остановил схватку, посчитав, что Робби потерял сознание в результате удушающего приёма, однако спортсмен мог продолжить бой.'),\n",
       "              ('reposts_fb', '-'),\n",
       "              ('reposts_vk', '-'),\n",
       "              ('reposts_ok', '-'),\n",
       "              ('reposts_twi', '-'),\n",
       "              ('reposts_lj', '-'),\n",
       "              ('reposts_tg', '-'),\n",
       "              ('likes', '-'),\n",
       "              ('views', '-'),\n",
       "              ('comm_count', '-'),\n",
       "              (None, [''])]),\n",
       " OrderedDict([('date', '2019-06-26 14:52:00'),\n",
       "              ('url',\n",
       "               'https://russian.rt.com/russia/news/644619-putin-podaril-zyuganovu'),\n",
       "              ('edition', '-'),\n",
       "              ('topics', 'Россия'),\n",
       "              ('authors', ''),\n",
       "              ('title',\n",
       "               'Путин подарил Зюганову на\\xa0юбилей материалы съезда КПСС'),\n",
       "              ('text',\n",
       "               'Открывая заседание Госсовета в Кремле, Путин предложил поздравить Зюганова.n«Он вступил в КПСС, насколько мы помним, в 1966 году. В этом же году состоялся и 23-й съезд партии. Чтобы напомнить вам о событиях этого времени, хочу передать вам подарок», — сказал Путин.nПутин вручил Зюганову книгу «Материалы XXIII съезда КПСС», а также картину с изображением площади перед Дворцом съездов.nРанее Путин до официального начала саммита Совещания по взаимодействию и мерам доверия в Азии поздравил председателя КНР Си Цзиньпинаnс днём рождения и подарил ему мороженое российского производстваn.'),\n",
       "              ('reposts_fb', '-'),\n",
       "              ('reposts_vk', '-'),\n",
       "              ('reposts_ok', '-'),\n",
       "              ('reposts_twi', '-'),\n",
       "              ('reposts_lj', '-'),\n",
       "              ('reposts_tg', '-'),\n",
       "              ('likes', '-'),\n",
       "              ('views', '-'),\n",
       "              ('comm_count', '-'),\n",
       "              (None, [''])]),\n",
       " OrderedDict([('date', '2019-06-26 14:44:00'),\n",
       "              ('url',\n",
       "               'https://russian.rt.com/world/news/644618-parlamentarii-vstrecha-berlin'),\n",
       "              ('edition', '-'),\n",
       "              ('topics', 'Мир'),\n",
       "              ('authors', ''),\n",
       "              ('title',\n",
       "               'Парламентарии США, ФРГ и России\\xa0проведут встречу в Берлине'),\n",
       "              ('text',\n",
       "               'Об этом информируетnРИА Новостиnсо ссылкой на план зарубежных поездок членов Совета Федерации.nУказывается, что встреча пройдёт по приглашению германского отделения Института Аспена.nПри этом Совет Федерации России на мероприятии представят сенаторы Алексей Пушков и Игорь Морозов.nРанееnделегация парламентариев из России прибыла в Страсбургnс целью возможного участия в сессии ПАСЕ.'),\n",
       "              ('reposts_fb', '-'),\n",
       "              ('reposts_vk', '-'),\n",
       "              ('reposts_ok', '-'),\n",
       "              ('reposts_twi', '-'),\n",
       "              ('reposts_lj', '-'),\n",
       "              ('reposts_tg', '-'),\n",
       "              ('likes', '-'),\n",
       "              ('views', '-'),\n",
       "              ('comm_count', '-'),\n",
       "              (None, [''])]),\n",
       " OrderedDict([('date', '2019-06-26 14:42:00'),\n",
       "              ('url',\n",
       "               'https://russian.rt.com/sport/news/644617-mok-aiba-priznanie'),\n",
       "              ('edition', '-'),\n",
       "              ('topics', 'Спорт'),\n",
       "              ('authors', ''),\n",
       "              ('title', 'МОК принял решение лишить признания AIBA'),\n",
       "              ('text',\n",
       "               'Решением 134-й сессии МОК в швейцарской Лозанне AIBA лишена статуса признания. Ассоциация бокса не сумела выполнить требования организации по вопросам управления финансами, судейства и этики.nВосстановление статуса AIBA возможно только после проведения Олимпийских игр в Токио, которые\\xa0пройдут с 24 июля по 9 августа 2020 года.nРанее\\xa0было объявлено оnсозданииnВсемирного боксёрского фонда.'),\n",
       "              ('reposts_fb', '-'),\n",
       "              ('reposts_vk', '-'),\n",
       "              ('reposts_ok', '-'),\n",
       "              ('reposts_twi', '-'),\n",
       "              ('reposts_lj', '-'),\n",
       "              ('reposts_tg', '-'),\n",
       "              ('likes', '-'),\n",
       "              ('views', '-'),\n",
       "              ('comm_count', '-'),\n",
       "              (None, [''])])]"
      ]
     },
     "execution_count": 11,
     "metadata": {},
     "output_type": "execute_result"
    }
   ],
   "source": [
    "# Так выглядет датасет RT\n",
    "list_data[:5]"
   ]
  },
  {
   "cell_type": "code",
   "execution_count": 0,
   "metadata": {
    "colab": {},
    "colab_type": "code",
    "id": "CdWVxQ6WHtkN"
   },
   "outputs": [],
   "source": []
  },
  {
   "cell_type": "code",
   "execution_count": 0,
   "metadata": {
    "colab": {},
    "colab_type": "code",
    "id": "XGiZjtMVJPxO"
   },
   "outputs": [],
   "source": [
    "# Можно в пандас загрузить и посмотреть"
   ]
  },
  {
   "cell_type": "code",
   "execution_count": 12,
   "metadata": {
    "colab": {},
    "colab_type": "code",
    "id": "xR_zfJTvJP07"
   },
   "outputs": [],
   "source": [
    "import pandas as pd"
   ]
  },
  {
   "cell_type": "code",
   "execution_count": 13,
   "metadata": {
    "colab": {},
    "colab_type": "code",
    "id": "3ekNw8AgJYLe"
   },
   "outputs": [],
   "source": [
    "df = pd.DataFrame(list_data)"
   ]
  },
  {
   "cell_type": "code",
   "execution_count": 14,
   "metadata": {
    "colab": {
     "base_uri": "https://localhost:8080/",
     "height": 479
    },
    "colab_type": "code",
    "executionInfo": {
     "elapsed": 600,
     "status": "ok",
     "timestamp": 1572530999416,
     "user": {
      "displayName": "Egor Silaev",
      "photoUrl": "",
      "userId": "17939097308196895647"
     },
     "user_tz": -180
    },
    "id": "4NiEgOboJYOE",
    "outputId": "07d97617-2508-402e-9ae0-c933f31a66a9"
   },
   "outputs": [
    {
     "data": {
      "text/html": [
       "<div>\n",
       "<style scoped>\n",
       "    .dataframe tbody tr th:only-of-type {\n",
       "        vertical-align: middle;\n",
       "    }\n",
       "\n",
       "    .dataframe tbody tr th {\n",
       "        vertical-align: top;\n",
       "    }\n",
       "\n",
       "    .dataframe thead th {\n",
       "        text-align: right;\n",
       "    }\n",
       "</style>\n",
       "<table border=\"1\" class=\"dataframe\">\n",
       "  <thead>\n",
       "    <tr style=\"text-align: right;\">\n",
       "      <th></th>\n",
       "      <th>date</th>\n",
       "      <th>url</th>\n",
       "      <th>edition</th>\n",
       "      <th>topics</th>\n",
       "      <th>authors</th>\n",
       "      <th>title</th>\n",
       "      <th>text</th>\n",
       "      <th>reposts_fb</th>\n",
       "      <th>reposts_vk</th>\n",
       "      <th>reposts_ok</th>\n",
       "      <th>reposts_twi</th>\n",
       "      <th>reposts_lj</th>\n",
       "      <th>reposts_tg</th>\n",
       "      <th>likes</th>\n",
       "      <th>views</th>\n",
       "      <th>comm_count</th>\n",
       "      <th>None</th>\n",
       "    </tr>\n",
       "  </thead>\n",
       "  <tbody>\n",
       "    <tr>\n",
       "      <th>0</th>\n",
       "      <td>2019-06-26 14:00:00</td>\n",
       "      <td>https://russian.rt.com/russia/news/644595-avto...</td>\n",
       "      <td>-</td>\n",
       "      <td>Россия</td>\n",
       "      <td></td>\n",
       "      <td>Эксперт прокомментировал ситуацию с возможным ...</td>\n",
       "      <td>Как считает эксперт, россиянам не стоит пережи...</td>\n",
       "      <td>-</td>\n",
       "      <td>-</td>\n",
       "      <td>-</td>\n",
       "      <td>-</td>\n",
       "      <td>-</td>\n",
       "      <td>-</td>\n",
       "      <td>-</td>\n",
       "      <td>-</td>\n",
       "      <td>-</td>\n",
       "      <td>[]</td>\n",
       "    </tr>\n",
       "    <tr>\n",
       "      <th>1</th>\n",
       "      <td>2019-06-26 19:56:00</td>\n",
       "      <td>https://russian.rt.com/sport/article/644740-nu...</td>\n",
       "      <td>-</td>\n",
       "      <td>Спорт</td>\n",
       "      <td></td>\n",
       "      <td>Встреча Нурмагомедова с Макгрегором, восстанов...</td>\n",
       "      <td>«Конор может посетить поединок Хабиба с Порье»...</td>\n",
       "      <td>-</td>\n",
       "      <td>-</td>\n",
       "      <td>-</td>\n",
       "      <td>-</td>\n",
       "      <td>-</td>\n",
       "      <td>-</td>\n",
       "      <td>-</td>\n",
       "      <td>-</td>\n",
       "      <td>-</td>\n",
       "      <td>[]</td>\n",
       "    </tr>\n",
       "    <tr>\n",
       "      <th>2</th>\n",
       "      <td>2019-06-26 14:52:00</td>\n",
       "      <td>https://russian.rt.com/russia/news/644619-puti...</td>\n",
       "      <td>-</td>\n",
       "      <td>Россия</td>\n",
       "      <td></td>\n",
       "      <td>Путин подарил Зюганову на юбилей материалы съе...</td>\n",
       "      <td>Открывая заседание Госсовета в Кремле, Путин п...</td>\n",
       "      <td>-</td>\n",
       "      <td>-</td>\n",
       "      <td>-</td>\n",
       "      <td>-</td>\n",
       "      <td>-</td>\n",
       "      <td>-</td>\n",
       "      <td>-</td>\n",
       "      <td>-</td>\n",
       "      <td>-</td>\n",
       "      <td>[]</td>\n",
       "    </tr>\n",
       "    <tr>\n",
       "      <th>3</th>\n",
       "      <td>2019-06-26 14:44:00</td>\n",
       "      <td>https://russian.rt.com/world/news/644618-parla...</td>\n",
       "      <td>-</td>\n",
       "      <td>Мир</td>\n",
       "      <td></td>\n",
       "      <td>Парламентарии США, ФРГ и России проведут встре...</td>\n",
       "      <td>Об этом информируетnРИА Новостиnсо ссылкой на ...</td>\n",
       "      <td>-</td>\n",
       "      <td>-</td>\n",
       "      <td>-</td>\n",
       "      <td>-</td>\n",
       "      <td>-</td>\n",
       "      <td>-</td>\n",
       "      <td>-</td>\n",
       "      <td>-</td>\n",
       "      <td>-</td>\n",
       "      <td>[]</td>\n",
       "    </tr>\n",
       "    <tr>\n",
       "      <th>4</th>\n",
       "      <td>2019-06-26 14:42:00</td>\n",
       "      <td>https://russian.rt.com/sport/news/644617-mok-a...</td>\n",
       "      <td>-</td>\n",
       "      <td>Спорт</td>\n",
       "      <td></td>\n",
       "      <td>МОК принял решение лишить признания AIBA</td>\n",
       "      <td>Решением 134-й сессии МОК в швейцарской Лозанн...</td>\n",
       "      <td>-</td>\n",
       "      <td>-</td>\n",
       "      <td>-</td>\n",
       "      <td>-</td>\n",
       "      <td>-</td>\n",
       "      <td>-</td>\n",
       "      <td>-</td>\n",
       "      <td>-</td>\n",
       "      <td>-</td>\n",
       "      <td>[]</td>\n",
       "    </tr>\n",
       "  </tbody>\n",
       "</table>\n",
       "</div>"
      ],
      "text/plain": [
       "                  date                                                url  \\\n",
       "0  2019-06-26 14:00:00  https://russian.rt.com/russia/news/644595-avto...   \n",
       "1  2019-06-26 19:56:00  https://russian.rt.com/sport/article/644740-nu...   \n",
       "2  2019-06-26 14:52:00  https://russian.rt.com/russia/news/644619-puti...   \n",
       "3  2019-06-26 14:44:00  https://russian.rt.com/world/news/644618-parla...   \n",
       "4  2019-06-26 14:42:00  https://russian.rt.com/sport/news/644617-mok-a...   \n",
       "\n",
       "  edition  topics authors                                              title  \\\n",
       "0       -  Россия          Эксперт прокомментировал ситуацию с возможным ...   \n",
       "1       -   Спорт          Встреча Нурмагомедова с Макгрегором, восстанов...   \n",
       "2       -  Россия          Путин подарил Зюганову на юбилей материалы съе...   \n",
       "3       -     Мир          Парламентарии США, ФРГ и России проведут встре...   \n",
       "4       -   Спорт                   МОК принял решение лишить признания AIBA   \n",
       "\n",
       "                                                text reposts_fb reposts_vk  \\\n",
       "0  Как считает эксперт, россиянам не стоит пережи...          -          -   \n",
       "1  «Конор может посетить поединок Хабиба с Порье»...          -          -   \n",
       "2  Открывая заседание Госсовета в Кремле, Путин п...          -          -   \n",
       "3  Об этом информируетnРИА Новостиnсо ссылкой на ...          -          -   \n",
       "4  Решением 134-й сессии МОК в швейцарской Лозанн...          -          -   \n",
       "\n",
       "  reposts_ok reposts_twi reposts_lj reposts_tg likes views comm_count NaN  \n",
       "0          -           -          -          -     -     -          -  []  \n",
       "1          -           -          -          -     -     -          -  []  \n",
       "2          -           -          -          -     -     -          -  []  \n",
       "3          -           -          -          -     -     -          -  []  \n",
       "4          -           -          -          -     -     -          -  []  "
      ]
     },
     "execution_count": 14,
     "metadata": {},
     "output_type": "execute_result"
    }
   ],
   "source": [
    "df.head()"
   ]
  },
  {
   "cell_type": "code",
   "execution_count": 0,
   "metadata": {
    "colab": {},
    "colab_type": "code",
    "id": "SHGE4jMkJYQa"
   },
   "outputs": [],
   "source": []
  },
  {
   "cell_type": "code",
   "execution_count": 0,
   "metadata": {
    "colab": {},
    "colab_type": "code",
    "id": "q0CYb-0rJPu0"
   },
   "outputs": [],
   "source": []
  },
  {
   "cell_type": "markdown",
   "metadata": {
    "colab_type": "text",
    "id": "e28l6e198L9u"
   },
   "source": [
    "### Обработка словаря"
   ]
  },
  {
   "cell_type": "code",
   "execution_count": 15,
   "metadata": {
    "colab": {},
    "colab_type": "code",
    "id": "OqjEhgaDvxj7"
   },
   "outputs": [],
   "source": [
    "# Соберем токены\n",
    "tokens = data.gettokens"
   ]
  },
  {
   "cell_type": "code",
   "execution_count": 0,
   "metadata": {
    "colab": {},
    "colab_type": "code",
    "id": "J5l3M6q38Qqr"
   },
   "outputs": [],
   "source": []
  },
  {
   "cell_type": "code",
   "execution_count": 16,
   "metadata": {
    "colab": {},
    "colab_type": "code",
    "id": "EPvhaJLR8Qte"
   },
   "outputs": [],
   "source": [
    "punctuation = list(punctuation)"
   ]
  },
  {
   "cell_type": "code",
   "execution_count": 17,
   "metadata": {
    "colab": {},
    "colab_type": "code",
    "id": "CBlrlrxj8QyH"
   },
   "outputs": [],
   "source": [
    "punctuation += ['«','»','—', 'n','»,','».', '–', '...']"
   ]
  },
  {
   "cell_type": "code",
   "execution_count": 18,
   "metadata": {
    "colab": {},
    "colab_type": "code",
    "id": "y5fevKURI-gg"
   },
   "outputs": [],
   "source": [
    "garbage_words = ['nранее', 'nв', 'nпо', 'nтакже','u','n—', 'nn']"
   ]
  },
  {
   "cell_type": "code",
   "execution_count": 19,
   "metadata": {
    "colab": {},
    "colab_type": "code",
    "id": "DmFxTeif8Q47"
   },
   "outputs": [],
   "source": [
    "tokens = {item:tokens[item] for item in tokens if item not in punctuation}"
   ]
  },
  {
   "cell_type": "code",
   "execution_count": 20,
   "metadata": {
    "colab": {},
    "colab_type": "code",
    "id": "JYh39TiPJTJ1"
   },
   "outputs": [],
   "source": [
    "tokens = {item:tokens[item] for item in tokens if item not in garbage_words}"
   ]
  },
  {
   "cell_type": "code",
   "execution_count": 22,
   "metadata": {
    "colab": {},
    "colab_type": "code",
    "id": "XDWAFsST8Q0f"
   },
   "outputs": [],
   "source": [
    "stopwords_01 = open('../../../data/another/stopwords.txt', 'r', encoding='UTF-8')\n",
    "stopwords_01 = stopwords_01.read().split('\\n')\n",
    "stopwords_02 = open('../../../data/another/stopwords_02.txt', 'r', encoding='UTF-8')\n",
    "stopwords_02 = stopwords_02.read().split('\\n')"
   ]
  },
  {
   "cell_type": "code",
   "execution_count": 23,
   "metadata": {
    "colab": {},
    "colab_type": "code",
    "id": "qOGMPuwo8Qw2"
   },
   "outputs": [],
   "source": [
    "stopwords = stopwords_01 + stopwords_02"
   ]
  },
  {
   "cell_type": "code",
   "execution_count": 24,
   "metadata": {
    "colab": {},
    "colab_type": "code",
    "id": "ED9DjQjc9R05"
   },
   "outputs": [],
   "source": [
    "tokens_without_stopwords = {item:tokens[item] for item in tokens if item not in stopwords}"
   ]
  },
  {
   "cell_type": "code",
   "execution_count": 0,
   "metadata": {
    "colab": {},
    "colab_type": "code",
    "id": "6M4gXZsu9R7L"
   },
   "outputs": [],
   "source": []
  },
  {
   "cell_type": "markdown",
   "metadata": {
    "colab_type": "text",
    "id": "ym3H5f0G-NLt"
   },
   "source": [
    "### Аналитика по словам"
   ]
  },
  {
   "cell_type": "markdown",
   "metadata": {
    "colab_type": "text",
    "id": "B3_A4DrY-hQq"
   },
   "source": [
    "#### Топ-20 слов без удаления стоп-слов"
   ]
  },
  {
   "cell_type": "code",
   "execution_count": 25,
   "metadata": {
    "colab": {
     "base_uri": "https://localhost:8080/",
     "height": 357
    },
    "colab_type": "code",
    "executionInfo": {
     "elapsed": 632,
     "status": "ok",
     "timestamp": 1572521009264,
     "user": {
      "displayName": "Egor Silaev",
      "photoUrl": "",
      "userId": "17939097308196895647"
     },
     "user_tz": -180
    },
    "id": "KFqnUUCevxkA",
    "outputId": "131b1b1b-76ca-4760-b6da-4e29e32ec7c2"
   },
   "outputs": [
    {
     "data": {
      "text/plain": [
       "[('в', 656403),\n",
       " ('и', 339005),\n",
       " ('на', 276070),\n",
       " ('что', 230565),\n",
       " ('с', 171243),\n",
       " ('по', 162915),\n",
       " ('не', 150149),\n",
       " ('ранее', 73704),\n",
       " ('о', 63981),\n",
       " ('как', 63264),\n",
       " ('он', 62068),\n",
       " ('для', 59815),\n",
       " ('это', 59210),\n",
       " ('к', 56653),\n",
       " ('россии', 56185),\n",
       " ('из', 55137),\n",
       " ('за', 54938),\n",
       " ('а', 52405),\n",
       " ('также', 49500),\n",
       " ('его', 46686)]"
      ]
     },
     "execution_count": 25,
     "metadata": {},
     "output_type": "execute_result"
    }
   ],
   "source": [
    "Counter(tokens).most_common(20)"
   ]
  },
  {
   "cell_type": "code",
   "execution_count": 26,
   "metadata": {
    "colab": {
     "base_uri": "https://localhost:8080/",
     "height": 404
    },
    "colab_type": "code",
    "executionInfo": {
     "elapsed": 1188,
     "status": "ok",
     "timestamp": 1572521013042,
     "user": {
      "displayName": "Egor Silaev",
      "photoUrl": "",
      "userId": "17939097308196895647"
     },
     "user_tz": -180
    },
    "id": "RrvScy8hvxkE",
    "outputId": "af22a563-eef1-40cd-8ab3-87c03d92a163"
   },
   "outputs": [
    {
     "data": {
      "image/png": "[encoded data removed]",
      "text/plain": [
       "<Figure size 864x432 with 1 Axes>"
      ]
     },
     "metadata": {},
     "output_type": "display_data"
    }
   ],
   "source": [
    "x = dict(Counter(tokens).most_common(20)).keys()\n",
    "y = dict(Counter(tokens).most_common(20)).values()\n",
    "\n",
    "fig, ax = plt.subplots()\n",
    "\n",
    "ax.bar(x, y)\n",
    "ax.set_title('TOP-20 слов без удаления стопслов')\n",
    "ax.set_ylabel('Частота')\n",
    "ax.set_xlabel('Слова')\n",
    "\n",
    "ax.set_facecolor('seashell')\n",
    "fig.set_facecolor('floralwhite')\n",
    "fig.set_figwidth(12)    #  ширина Figure\n",
    "fig.set_figheight(6)    #  высота Figure\n",
    "\n",
    "\n",
    "plt.show()"
   ]
  },
  {
   "cell_type": "markdown",
   "metadata": {
    "colab_type": "text",
    "id": "oyibo5Ui-lzi"
   },
   "source": [
    "#### Топ-20 слов после удаления стоп-слов"
   ]
  },
  {
   "cell_type": "code",
   "execution_count": 27,
   "metadata": {
    "colab": {
     "base_uri": "https://localhost:8080/",
     "height": 357
    },
    "colab_type": "code",
    "executionInfo": {
     "elapsed": 619,
     "status": "ok",
     "timestamp": 1572521016779,
     "user": {
      "displayName": "Egor Silaev",
      "photoUrl": "",
      "userId": "17939097308196895647"
     },
     "user_tz": -180
    },
    "id": "dsegoWWy-rod",
    "outputId": "71533744-6265-4b19-c75e-cf84b505e0ac"
   },
   "outputs": [
    {
     "data": {
      "text/plain": [
       "[('россии', 56185),\n",
       " ('сша', 38624),\n",
       " ('заявил', 30197),\n",
       " ('сообщалось', 23040),\n",
       " ('словам', 22485),\n",
       " ('новости', 21864),\n",
       " ('отметил', 21257),\n",
       " ('риа', 21067),\n",
       " ('сообщает', 18260),\n",
       " ('отмечается', 16484),\n",
       " ('украины', 16193),\n",
       " ('1', 16054),\n",
       " ('2', 16037),\n",
       " ('rt', 15362),\n",
       " ('слова', 15296),\n",
       " ('приводит', 15146),\n",
       " ('страны', 13892),\n",
       " ('цитирует', 13827),\n",
       " ('мая', 13049),\n",
       " ('решение', 12689)]"
      ]
     },
     "execution_count": 27,
     "metadata": {},
     "output_type": "execute_result"
    }
   ],
   "source": [
    "Counter(tokens_without_stopwords).most_common(20)"
   ]
  },
  {
   "cell_type": "code",
   "execution_count": 49,
   "metadata": {
    "colab": {
     "base_uri": "https://localhost:8080/",
     "height": 404
    },
    "colab_type": "code",
    "executionInfo": {
     "elapsed": 1289,
     "status": "ok",
     "timestamp": 1572521022199,
     "user": {
      "displayName": "Egor Silaev",
      "photoUrl": "",
      "userId": "17939097308196895647"
     },
     "user_tz": -180
    },
    "id": "ULvxekUF-r4a",
    "outputId": "db27d182-e521-49cf-ef72-3694ab53f800"
   },
   "outputs": [
    {
     "data": {
      "image/png": "[encoded data removed]",
      "text/plain": [
       "<Figure size 1584x432 with 1 Axes>"
      ]
     },
     "metadata": {},
     "output_type": "display_data"
    }
   ],
   "source": [
    "x = dict(Counter(tokens_without_stopwords).most_common(20)).keys()\n",
    "y = dict(Counter(tokens_without_stopwords).most_common(20)).values()\n",
    "\n",
    "fig, ax = plt.subplots()\n",
    "\n",
    "ax.bar(x, y)\n",
    "ax.set_title('TOP-20 слов без удаления стопслов')\n",
    "ax.set_ylabel('Частота')\n",
    "ax.set_xlabel('Слова')\n",
    "\n",
    "ax.set_facecolor('seashell')\n",
    "fig.set_facecolor('floralwhite')\n",
    "fig.set_figwidth(22)    #  ширина Figure\n",
    "fig.set_figheight(6)    #  высота Figure\n",
    "\n",
    "\n",
    "plt.show()"
   ]
  },
  {
   "cell_type": "markdown",
   "metadata": {
    "colab_type": "text",
    "id": "VJ6w-wJ2vxkH"
   },
   "source": [
    "## Рубрики в разрезе новостей"
   ]
  },
  {
   "cell_type": "markdown",
   "metadata": {
    "colab_type": "text",
    "id": "IwvkOJgzvxkH"
   },
   "source": [
    "### Количество рубрик"
   ]
  },
  {
   "cell_type": "code",
   "execution_count": 50,
   "metadata": {
    "colab": {},
    "colab_type": "code",
    "id": "FHEEEtf2vxkI"
   },
   "outputs": [],
   "source": [
    "list_topics = list(data.listcolumns(None, 'rt', 'topics'))"
   ]
  },
  {
   "cell_type": "code",
   "execution_count": 51,
   "metadata": {
    "colab": {
     "base_uri": "https://localhost:8080/",
     "height": 34
    },
    "colab_type": "code",
    "executionInfo": {
     "elapsed": 583,
     "status": "ok",
     "timestamp": 1572521043258,
     "user": {
      "displayName": "Egor Silaev",
      "photoUrl": "",
      "userId": "17939097308196895647"
     },
     "user_tz": -180
    },
    "id": "Z8BTRTl7vxkK",
    "outputId": "b0478f8a-8487-4e10-ba25-b8b8751f8acd"
   },
   "outputs": [
    {
     "data": {
      "text/plain": [
       "10"
      ]
     },
     "execution_count": 51,
     "metadata": {},
     "output_type": "execute_result"
    }
   ],
   "source": [
    "len(set(list_topics))"
   ]
  },
  {
   "cell_type": "markdown",
   "metadata": {
    "colab_type": "text",
    "id": "597r_Fl3vxkM"
   },
   "source": [
    "### Рубрики в разрезе количества новостей"
   ]
  },
  {
   "cell_type": "code",
   "execution_count": 52,
   "metadata": {
    "colab": {
     "base_uri": "https://localhost:8080/",
     "height": 187
    },
    "colab_type": "code",
    "executionInfo": {
     "elapsed": 615,
     "status": "ok",
     "timestamp": 1572521046372,
     "user": {
      "displayName": "Egor Silaev",
      "photoUrl": "",
      "userId": "17939097308196895647"
     },
     "user_tz": -180
    },
    "id": "ccIvRH-SvxkM",
    "outputId": "8f302c94-c4b9-417e-a90b-128500c785b7"
   },
   "outputs": [
    {
     "data": {
      "text/plain": [
       "[('Россия', 32963),\n",
       " ('Спорт', 26702),\n",
       " ('Мир', 26476),\n",
       " ('Бывший СССР', 10078),\n",
       " ('Без политики', 4489),\n",
       " ('Экономика', 4321),\n",
       " ('Наука', 1496),\n",
       " ('Пресс-релизы', 92),\n",
       " ('Новости партнёров', 14),\n",
       " ('Мероприятия RT', 13)]"
      ]
     },
     "execution_count": 52,
     "metadata": {},
     "output_type": "execute_result"
    }
   ],
   "source": [
    "Counter(list_topics).most_common(10)"
   ]
  },
  {
   "cell_type": "markdown",
   "metadata": {
    "colab_type": "text",
    "id": "LzbLPu6G7Xit"
   },
   "source": [
    "## Распределение количества новостей по месяцам"
   ]
  },
  {
   "cell_type": "code",
   "execution_count": 53,
   "metadata": {
    "colab": {},
    "colab_type": "code",
    "id": "tnKIaQaHz9tW"
   },
   "outputs": [],
   "source": [
    "list_dates = list(data.listcolumns(None, 'rt', 'date'))"
   ]
  },
  {
   "cell_type": "code",
   "execution_count": 55,
   "metadata": {
    "colab": {},
    "colab_type": "code",
    "id": "IsfBLATW02PS"
   },
   "outputs": [],
   "source": [
    "def getMonthDate(date):\n",
    "  \"\"\"\n",
    "  Возвращает дату в формате ММ-ГГГГ\n",
    "  \"\"\"\n",
    "  date = datetime.datetime.strptime(date, \"%Y-%m-%d %H:%M:%S\")\n",
    "  return '-'.join(['0' + str(date.month) if date.month<10 else str(date.month), str(date.year)])"
   ]
  },
  {
   "cell_type": "code",
   "execution_count": 56,
   "metadata": {
    "colab": {},
    "colab_type": "code",
    "id": "86cWiHJV1dKu"
   },
   "outputs": [],
   "source": [
    "# Подсчет количества новостей в разрезе месяца и года\n",
    "list_dates = [getMonthDate(x) for x in list_dates]"
   ]
  },
  {
   "cell_type": "code",
   "execution_count": 57,
   "metadata": {
    "colab": {},
    "colab_type": "code",
    "id": "EhWOAaaC29e0"
   },
   "outputs": [],
   "source": [
    "month_year = Counter(list_dates)"
   ]
  },
  {
   "cell_type": "code",
   "execution_count": 58,
   "metadata": {
    "colab": {
     "base_uri": "https://localhost:8080/",
     "height": 34
    },
    "colab_type": "code",
    "executionInfo": {
     "elapsed": 543,
     "status": "ok",
     "timestamp": 1572521102941,
     "user": {
      "displayName": "Egor Silaev",
      "photoUrl": "",
      "userId": "17939097308196895647"
     },
     "user_tz": -180
    },
    "id": "9v6Jd6nq6kig",
    "outputId": "37599233-64ee-4be6-e90d-569b21ac3f1a"
   },
   "outputs": [
    {
     "data": {
      "text/plain": [
       "33"
      ]
     },
     "execution_count": 58,
     "metadata": {},
     "output_type": "execute_result"
    }
   ],
   "source": [
    "len(month_year)"
   ]
  },
  {
   "cell_type": "code",
   "execution_count": 59,
   "metadata": {
    "colab": {
     "base_uri": "https://localhost:8080/",
     "height": 578
    },
    "colab_type": "code",
    "executionInfo": {
     "elapsed": 553,
     "status": "ok",
     "timestamp": 1572521104825,
     "user": {
      "displayName": "Egor Silaev",
      "photoUrl": "",
      "userId": "17939097308196895647"
     },
     "user_tz": -180
    },
    "id": "rKYcNky04hgi",
    "outputId": "aff82fb5-1e46-4d5d-e12c-fc5f2743ec8f"
   },
   "outputs": [
    {
     "data": {
      "text/plain": [
       "[('12-2017', 8282),\n",
       " ('05-2019', 8270),\n",
       " ('11-2018', 8149),\n",
       " ('05-2018', 8102),\n",
       " ('11-2017', 7800),\n",
       " ('06-2019', 7546),\n",
       " ('06-2017', 7009),\n",
       " ('05-2017', 6092),\n",
       " ('10-2018', 5245),\n",
       " ('12-2018', 4477),\n",
       " ('06-2018', 4311),\n",
       " ('10-2016', 4018),\n",
       " ('07-2017', 3757),\n",
       " ('04-2018', 2616),\n",
       " ('09-2016', 2353),\n",
       " ('08-2016', 2260),\n",
       " ('08-2015', 2210),\n",
       " ('07-2015', 2098),\n",
       " ('06-2015', 2022),\n",
       " ('07-2016', 1939),\n",
       " ('04-2019', 1921),\n",
       " ('12-2014', 1657),\n",
       " ('11-2014', 1391),\n",
       " ('09-2015', 1237),\n",
       " ('10-2014', 1037),\n",
       " ('11-2016', 426),\n",
       " ('09-2014', 401),\n",
       " ('07-2019', 13),\n",
       " ('08-2018', 1),\n",
       " ('09-2017', 1),\n",
       " ('08-2019', 1),\n",
       " ('08-2017', 1),\n",
       " ('06-2014', 1)]"
      ]
     },
     "execution_count": 59,
     "metadata": {},
     "output_type": "execute_result"
    }
   ],
   "source": [
    "month_year.most_common(33)"
   ]
  },
  {
   "cell_type": "code",
   "execution_count": 60,
   "metadata": {
    "colab": {
     "base_uri": "https://localhost:8080/",
     "height": 653
    },
    "colab_type": "code",
    "executionInfo": {
     "elapsed": 1143,
     "status": "ok",
     "timestamp": 1572521156492,
     "user": {
      "displayName": "Egor Silaev",
      "photoUrl": "",
      "userId": "17939097308196895647"
     },
     "user_tz": -180
    },
    "id": "g97uKlaT5UXh",
    "outputId": "6903d815-7a59-4cea-ea36-c302f6de1c45"
   },
   "outputs": [
    {
     "data": {
      "image/png": "[encoded data removed]",
      "text/plain": [
       "<Figure size 1440x720 with 1 Axes>"
      ]
     },
     "metadata": {},
     "output_type": "display_data"
    }
   ],
   "source": [
    "fig, ax = plt.subplots(figsize=(20, 10))\n",
    "plt.bar(x = month_year.keys(),\n",
    "        height = month_year.values())\n",
    "plt.xticks(rotation='vertical')\n",
    "ax.set_facecolor('seashell')\n",
    "fig.set_facecolor('floralwhite')\n",
    "\n",
    "ax.set_title('Количество новостей по месяцам')\n",
    "ax.set_ylabel('Количество')\n",
    "ax.set_xlabel('Дата')\n",
    "plt.show()"
   ]
  },
  {
   "cell_type": "code",
   "execution_count": 0,
   "metadata": {
    "colab": {},
    "colab_type": "code",
    "id": "YiN8O2xYvxlV"
   },
   "outputs": [],
   "source": []
  },
  {
   "cell_type": "code",
   "execution_count": 0,
   "metadata": {
    "colab": {},
    "colab_type": "code",
    "id": "CYN55mRavxlX"
   },
   "outputs": [],
   "source": []
  }
 ],
 "metadata": {
  "accelerator": "TPU",
  "colab": {
   "collapsed_sections": [],
   "name": "rt (new).ipynb",
   "provenance": [],
   "toc_visible": true
  },
  "kernelspec": {
   "display_name": "Python 3",
   "language": "python",
   "name": "python3"
  },
  "language_info": {
   "codemirror_mode": {
    "name": "ipython",
    "version": 3
   },
   "file_extension": ".py",
   "mimetype": "text/x-python",
   "name": "python",
   "nbconvert_exporter": "python",
   "pygments_lexer": "ipython3",
   "version": "3.7.3"
  }
 },
 "nbformat": 4,
 "nbformat_minor": 1
}
