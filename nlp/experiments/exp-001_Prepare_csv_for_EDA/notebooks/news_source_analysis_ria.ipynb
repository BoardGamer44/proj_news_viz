{
 "cells": [
  {
   "cell_type": "markdown",
   "metadata": {
    "colab_type": "text",
    "id": "Y9ddZBr2vxjW"
   },
   "source": [
    "# RIA"
   ]
  },
  {
   "cell_type": "code",
   "execution_count": 1,
   "metadata": {
    "colab": {},
    "colab_type": "code",
    "id": "SC-wpuUNvxjb"
   },
   "outputs": [],
   "source": [
    "from string import punctuation\n",
    "from collections import Counter\n",
    "import datetime\n",
    "import matplotlib.pyplot as plt"
   ]
  },
  {
   "cell_type": "code",
   "execution_count": 2,
   "metadata": {
    "colab": {},
    "colab_type": "code",
    "id": "cSFwYEPTvxjh"
   },
   "outputs": [],
   "source": [
    "import sys"
   ]
  },
  {
   "cell_type": "code",
   "execution_count": 3,
   "metadata": {
    "colab": {},
    "colab_type": "code",
    "id": "tRure0Wevxjl"
   },
   "outputs": [],
   "source": [
    "sys.path.append('C:\\\\projects\\\\datascience\\\\proj_news_viz\\\\nlp\\\\experiments\\\\exp-001_Prepare_csv_for_EDA\\\\scripts')"
   ]
  },
  {
   "cell_type": "code",
   "execution_count": 4,
   "metadata": {
    "colab": {},
    "colab_type": "code",
    "id": "a0bKN2JLvxjo"
   },
   "outputs": [],
   "source": [
    "from reader import CSVCorpusReader"
   ]
  },
  {
   "cell_type": "code",
   "execution_count": 5,
   "metadata": {
    "colab": {},
    "colab_type": "code",
    "id": "jY2am0Wvvxjq"
   },
   "outputs": [],
   "source": [
    "# Создадим объект чтения корпуса\n",
    "data = CSVCorpusReader('../../../data/interim')"
   ]
  },
  {
   "cell_type": "code",
   "execution_count": 6,
   "metadata": {
    "colab": {
     "base_uri": "https://localhost:8080/",
     "height": 34
    },
    "colab_type": "code",
    "executionInfo": {
     "elapsed": 547,
     "status": "ok",
     "timestamp": 1572530357516,
     "user": {
      "displayName": "Egor Silaev",
      "photoUrl": "",
      "userId": "17939097308196895647"
     },
     "user_tz": -180
    },
    "id": "CO3bVW6Pvxjt",
    "outputId": "b16543e2-fba4-43af-c10d-1d7ac7182471"
   },
   "outputs": [
    {
     "data": {
      "text/plain": [
       "['gazeta', 'interfax', 'iz', 'meduza', 'ria', 'rt', 'tass']"
      ]
     },
     "execution_count": 6,
     "metadata": {},
     "output_type": "execute_result"
    }
   ],
   "source": [
    "# Новостные источники\n",
    "data.categories()"
   ]
  },
  {
   "cell_type": "code",
   "execution_count": 7,
   "metadata": {
    "colab": {
     "base_uri": "https://localhost:8080/",
     "height": 34
    },
    "colab_type": "code",
    "executionInfo": {
     "elapsed": 541,
     "status": "ok",
     "timestamp": 1572530451140,
     "user": {
      "displayName": "Egor Silaev",
      "photoUrl": "",
      "userId": "17939097308196895647"
     },
     "user_tz": -180
    },
    "id": "PKwf-W_dvxjx",
    "outputId": "e0648e39-e80d-4179-d09e-0f07ff337459"
   },
   "outputs": [
    {
     "data": {
      "text/plain": [
       "['gazeta/gazeta.csv',\n",
       " 'interfax/interfax.csv',\n",
       " 'iz/iz.csv',\n",
       " 'meduza/meduza.csv',\n",
       " 'ria/ria.csv',\n",
       " 'rt/rt.csv',\n",
       " 'tass/tass.csv']"
      ]
     },
     "execution_count": 7,
     "metadata": {},
     "output_type": "execute_result"
    }
   ],
   "source": [
    "# Имеющиеся файлы в корпусе\n",
    "data.fileids()"
   ]
  },
  {
   "cell_type": "code",
   "execution_count": 8,
   "metadata": {},
   "outputs": [
    {
     "data": {
      "text/plain": [
       "[(FileSystemPathPointer('C:\\\\projects\\\\datascience\\\\proj_news_viz\\\\nlp\\\\data\\\\interim\\\\ria\\\\ria.csv'),\n",
       "  270404428)]"
      ]
     },
     "execution_count": 8,
     "metadata": {},
     "output_type": "execute_result"
    }
   ],
   "source": [
    "# Проверим размер нашего сета, который будем обрабатывать\n",
    "list(data.sizes(None, 'ria'))"
   ]
  },
  {
   "cell_type": "markdown",
   "metadata": {
    "colab_type": "text",
    "id": "b-sExa2Jvxj1"
   },
   "source": [
    "## Общий предварительный анализ"
   ]
  },
  {
   "cell_type": "code",
   "execution_count": 9,
   "metadata": {
    "colab": {
     "base_uri": "https://localhost:8080/",
     "height": 255
    },
    "colab_type": "code",
    "executionInfo": {
     "elapsed": 198321,
     "status": "ok",
     "timestamp": 1572530657850,
     "user": {
      "displayName": "Egor Silaev",
      "photoUrl": "",
      "userId": "17939097308196895647"
     },
     "user_tz": -180
    },
    "id": "ksweq0WAvxj2",
    "outputId": "bed71c0f-ce65-4ba7-90ed-902081377274"
   },
   "outputs": [
    {
     "data": {
      "text/plain": [
       "{'Количество файлов': 1,\n",
       " 'Количество источников новостей': 1,\n",
       " 'Количество обработанных новостей': 101544,\n",
       " 'Количество предложений': 571652,\n",
       " 'Количество слов': 22432361,\n",
       " 'Количество токенов (словарь)': 330958,\n",
       " 'Коэффициент лексического разнообразия (lexical diversity)': 67.78008387771258,\n",
       " 'Среднее количество новостей по отношению к файлам': 101544.0,\n",
       " 'Среднее количество предложений в новостях': 5.629598991570157,\n",
       " 'Начальная дата в обработке': '2018-12-05 14:29:00',\n",
       " 'Конечная дата в обработке': '2019-08-10 06:35:00',\n",
       " 'Количество повторяющихся новостей': 36,\n",
       " 'Количество пустных новостных элементов': 2,\n",
       " 'Время обработки в секундах': 500.0926089286804}"
      ]
     },
     "execution_count": 9,
     "metadata": {},
     "output_type": "execute_result"
    }
   ],
   "source": [
    "# Предварительный анализ всех файлов из каталога новостного источника\n",
    "data.describe(None, 'ria')"
   ]
  },
  {
   "cell_type": "markdown",
   "metadata": {
    "colab_type": "text",
    "id": "TSZBXiIq7778"
   },
   "source": [
    "## EDA"
   ]
  },
  {
   "cell_type": "code",
   "execution_count": 0,
   "metadata": {
    "colab": {},
    "colab_type": "code",
    "id": "Xcj1nX41HtJd"
   },
   "outputs": [],
   "source": []
  },
  {
   "cell_type": "code",
   "execution_count": 10,
   "metadata": {
    "colab": {},
    "colab_type": "code",
    "id": "IFD9JKgDHtem"
   },
   "outputs": [],
   "source": [
    "list_data = list(data.docs(None, 'ria'))"
   ]
  },
  {
   "cell_type": "code",
   "execution_count": 11,
   "metadata": {
    "colab": {
     "base_uri": "https://localhost:8080/",
     "height": 1000
    },
    "colab_type": "code",
    "executionInfo": {
     "elapsed": 573,
     "status": "ok",
     "timestamp": 1572530874915,
     "user": {
      "displayName": "Egor Silaev",
      "photoUrl": "",
      "userId": "17939097308196895647"
     },
     "user_tz": -180
    },
    "id": "4IlBlvz6HthN",
    "outputId": "d44fa4c2-da6a-448f-cfd8-842455cc7c4b"
   },
   "outputs": [
    {
     "data": {
      "text/plain": [
       "[OrderedDict([('date', '2019-08-10 06:35:00'),\n",
       "              ('url', 'https://ria.ru/20190810/1557366973.html'),\n",
       "              ('edition', 'ria.ru'),\n",
       "              ('topics', 'Происшествия'),\n",
       "              ('authors', ''),\n",
       "              ('title',\n",
       "               'Восемнадцать туристов застряли на пляже в Приморье из-за ливней'),\n",
       "              ('text',\n",
       "               'ВЛАДИВОСТОК, 10 авг – РИА Новости.nВосемнадцать туристов, среди которых есть двое детей, застряли на пляже в Приморье из-за ливней, сообщает ГУ МЧС РФ по Приморскому краю.n\"На пляже находятся 18 человек, из них двое детей. Люди остались отрезанными и самостоятельно выбраться с места отдыха не могут\", - сообщает региональный главк МЧС.nСигнал о бедствии поступил в пятницу в оперативную дежурную смену Центра управления в кризисных ситуациях. Выяснилось, что в результате подъёма уровня воды затруднён проезд легкового автотранспорта к пляжу через устье ручья Чёрный в районе бухты Ежовая. По сообщению спасателей, все отдыхающие были неоднократно и заблаговременно предупреждены об ухудшении погодных условий.nСпасатели уже вышли на связь с туристами, чтобы уточнить обстановку. Для оказания помощи к месту, где \"заблокированы\" 18 туристов, на плавстредствах направлена аэромобильная группировка МЧС России по Приморскому краю. Спасатели доставляют людям бутилированную воду, продукты питания и предметы первой необходимости.nПо словам спасателей, в целом, ситуация в данном районе стабильная. В настоящий момент наблюдается спад воды.nТропический шторм \"Франциско\", смещаясь вдоль южного побережья Приморья, ночью в четверг принес в регион до 60% месячной нормы осадков. Ему на смену в пятницу пришёл не менее сильный атмосферный фронт с ливнями.'),\n",
       "              ('reposts_fb', '-'),\n",
       "              ('reposts_vk', '-'),\n",
       "              ('reposts_ok', '-'),\n",
       "              ('reposts_twi', '-'),\n",
       "              ('reposts_lj', '-'),\n",
       "              ('reposts_tg', '-'),\n",
       "              ('likes', '0'),\n",
       "              ('views', '70'),\n",
       "              ('comm_count', '-'),\n",
       "              (None, [''])]),\n",
       " OrderedDict([('date', '2019-08-10 03:25:00'),\n",
       "              ('url', 'https://ria.ru/20190810/1557366343.html'),\n",
       "              ('edition', 'ria.ru'),\n",
       "              ('topics', 'В мире'),\n",
       "              ('authors', ''),\n",
       "              ('title',\n",
       "               'Президент Парагвая даст показания по делу о спорном соглашении с Бразилией'),\n",
       "              ('text',\n",
       "               'БУЭНОС-АЙРЕС, 10 авг – РИА Новости.nПрезидент Парагвая Марио Абдо Бенитес и вице-президент Уго Веласкес дадут показания по делу о подписании спорного соглашения с Бразилией, из-за которого лишились своих постов ряд высокопоставленных чиновников, а глава государства оказался под угрозой импичмента, сообщает изданиеnABC Colorn.nСекретное соглашение с Бразилией по покупке электроэнергии ГЭС Итайпу, которая является одной из крупнейших в мире, было подписано в конце мая, но его содержание стало известно лишь через два месяца. По мнению специалистов, Парагвай в данном соглашении отказался от преимуществ в части закупки электроэнергии по более дешевой цене. В результате дополнительные расходы страны оцениваются в 210-250 миллионов долларов.nОбнародование этих данных привело к политическому скандалу в Парагвае, соглашение было аннулировано, однако генпрокуратура страны открыла расследование.nПрезидент и вице-президент будут приглашены для дачи показаний на следующей неделе, уточняет издание. Оба подтвердили, что сделают это.n\"Как я всегда говорил, наша обязанность быть прозрачными. Мы находимся в распоряжении прокуратуры, будем сотрудничать в расследовании в поисках правды\", - написал президент в Twitter.'),\n",
       "              ('reposts_fb', '-'),\n",
       "              ('reposts_vk', '-'),\n",
       "              ('reposts_ok', '-'),\n",
       "              ('reposts_twi', '-'),\n",
       "              ('reposts_lj', '-'),\n",
       "              ('reposts_tg', '-'),\n",
       "              ('likes', '1'),\n",
       "              ('views', '177'),\n",
       "              ('comm_count', '-'),\n",
       "              (None, [''])]),\n",
       " OrderedDict([('date', '2019-08-10 03:26:00'),\n",
       "              ('url', 'https://ria.ru/20190810/1557366366.html'),\n",
       "              ('edition', 'ria.ru'),\n",
       "              ('topics', 'В мире'),\n",
       "              ('authors', ''),\n",
       "              ('title',\n",
       "               'Андрейченко обвинили в угрозе теракта после ношения оружия в магазине в США'),\n",
       "              ('text',\n",
       "               'МОСКВА, 10 авг - РИА Новости.nДмитрию Андрейченко, который спровоцировал панику в супермаркете Walmart в американском штате Миссури, предъявили обвинения в создании террористической угрозы, говорится в заявлении гособвинителя округа Грин Дэна Паттерсона, опубликованном на официальном сайте властей города Спрингфилд.nРанее полиция Спрингфилда сообщила, что задержанного молодого человека, который накануне спровоцировал панику в супермаркете Walmart, придя туда с оружием, патронами и в бронежилете, зовут Дмитрий Андрейченко.n\"Гособвинитель округа Грин Дэн Паттерсон заявил, что 20-летнему Дмитрию Н. Андрейченко... сегодня (в пятницу по времени США, в субботу мск - ред.) предъявлены обвинения в создании террористической угрозы второй степени\", - отмечается в документе.nСогласно заявлению, Андрейченко грозит до четырех лет заключения и/или штраф в размере до 10 тысяч долларов США.nПолиция американского города Спрингфилд в штате Миссури ранее задержала молодого человека, который приблизился к супермаркету Walmart с ружьем, в бронежилете и с сотней патронов, сообщило местное издание Springfield News-Leader. В полиции РИА Новости отказались сообщить информацию о гражданстве или стране происхождения задержанного, сказав, что на этом этапе ее не раскрывают.nВ четверг Андрейченко вошел в Walmart, распугав посетителей, но не предпринял враждебных действий, а ходил по магазину с тележкой и снимал видео на мобильный телефон. Когда он покинул магазин, его задержали. Сопротивления Андрейченко не оказывал.nМагазины сети Walmart находятся в центре внимания после того, как на минувших выходных в одном из них в городе Эль-Пасо произошла стрельба, в результате которой 22 человека погибли, более 20 были ранены.'),\n",
       "              ('reposts_fb', '-'),\n",
       "              ('reposts_vk', '-'),\n",
       "              ('reposts_ok', '-'),\n",
       "              ('reposts_twi', '-'),\n",
       "              ('reposts_lj', '-'),\n",
       "              ('reposts_tg', '-'),\n",
       "              ('likes', '2'),\n",
       "              ('views', '919'),\n",
       "              ('comm_count', '-'),\n",
       "              (None, [''])]),\n",
       " OrderedDict([('date', '2019-08-10 03:31:00'),\n",
       "              ('url', 'https://ria.ru/20190810/1557366398.html'),\n",
       "              ('edition', 'ria.ru'),\n",
       "              ('topics', 'В мире'),\n",
       "              ('authors', ''),\n",
       "              ('title',\n",
       "               'Япония заявила, что не испугалась субботних пусков КНДР'),\n",
       "              ('text',\n",
       "               'МОСКВА, 10 авг - РИА Новости.nПравительство Японии заявило, что запущенные в субботу снаряды КНДР не представляют угрозы безопасности островного государства, сообщает агентствоnКиодоn.n\"Правительство Японии заявило в субботу, что оно не подтвердило никаких баллистических ракет, летящих в сторону исключительной экономической зоны Японии и что снаряды, запущенные Северной Кореей, не представляют никакой непосредственной угрозы безопасности\", - пишет агентство.nРанее агентство Ренхап со ссылкой на южнокорейских военных сообщило, что КНДР в субботу запустила два неопознанных снаряда в сторону Японского моря. Этот случай стал вторым пуском КНДР за неделю и пятым с 25 июля.'),\n",
       "              ('reposts_fb', '-'),\n",
       "              ('reposts_vk', '-'),\n",
       "              ('reposts_ok', '-'),\n",
       "              ('reposts_twi', '-'),\n",
       "              ('reposts_lj', '-'),\n",
       "              ('reposts_tg', '-'),\n",
       "              ('likes', '1'),\n",
       "              ('views', '140'),\n",
       "              ('comm_count', '-'),\n",
       "              (None, [''])]),\n",
       " OrderedDict([('date', '2019-08-10 03:32:00'),\n",
       "              ('url', 'https://ria.ru/20190810/1557366421.html'),\n",
       "              ('edition', 'ria.ru'),\n",
       "              ('topics', 'Происшествия'),\n",
       "              ('authors', ''),\n",
       "              ('title',\n",
       "               'Власти Якутии погасят долг перед жителями, участвовавшими в тушении пожаров'),\n",
       "              ('text',\n",
       "               'ЯКУТСК, 10 авг – РИА Новости.nСредства резервного фонда правительства РФ власти Якутии сначала направят на погашение задолженности перед населением, принимавшим в этом году участие в тушении лесных пожаров, сообщает пресс-служба главы и правительства региона.nКак отметили в пятницу в правительстве республики, правительством РФ принято решение выделить Якутии дополнительные средства из резервного фонда в размере 390,9 миллиона рублей на тушение лесных пожаров. Средства будут направлены в виде субвенций на исполнение переданных полномочий в области лесных отношений.n\"Поступившие средства в первую очередь планируется направить на погашение кредиторской задолженности перед местным населением, привлечённым на тушение лесных пожаров в этом году\", - сообщили в пресс-службе.nПо данным минэкологии Якутии на 9 августа, к тушению пожаров в республике привлечено всего 639 человек, в том числе мобилизовано 150 человек из числа местного населения.nРанее сообщалось, что глава региона Айсен Николаев обратился к премьер-министру РФ Дмитрию Медведеву с просьбой выделить дополнительные средства на тушение лесных пожаров.nРежим ЧС в связи с лесными пожарами объявлен в Иркутской области, Красноярском крае, Бурятии и Якутии. Глава Минприроды Дмитрий Кобылкин заявил, что причиной возгорания могли стать сухие грозы, однако рассматриваются и другие версии. По указанию президента РФ Владимира Путина к тушению присоединились 10 самолетов и столько же вертолетов Минобороны со специальным оборудованием. В свою очередь глава правительства Дмитрий Медведев поручил губернаторам взять ситуацию под личный контроль.'),\n",
       "              ('reposts_fb', '-'),\n",
       "              ('reposts_vk', '-'),\n",
       "              ('reposts_ok', '-'),\n",
       "              ('reposts_twi', '-'),\n",
       "              ('reposts_lj', '-'),\n",
       "              ('reposts_tg', '-'),\n",
       "              ('likes', '3'),\n",
       "              ('views', '1196'),\n",
       "              ('comm_count', '-'),\n",
       "              (None, [''])])]"
      ]
     },
     "execution_count": 11,
     "metadata": {},
     "output_type": "execute_result"
    }
   ],
   "source": [
    "# Так выглядет датасет RT\n",
    "list_data[:5]"
   ]
  },
  {
   "cell_type": "code",
   "execution_count": 0,
   "metadata": {
    "colab": {},
    "colab_type": "code",
    "id": "CdWVxQ6WHtkN"
   },
   "outputs": [],
   "source": []
  },
  {
   "cell_type": "code",
   "execution_count": 0,
   "metadata": {
    "colab": {},
    "colab_type": "code",
    "id": "XGiZjtMVJPxO"
   },
   "outputs": [],
   "source": [
    "# Можно в пандас загрузить и посмотреть"
   ]
  },
  {
   "cell_type": "code",
   "execution_count": 12,
   "metadata": {
    "colab": {},
    "colab_type": "code",
    "id": "xR_zfJTvJP07"
   },
   "outputs": [],
   "source": [
    "import pandas as pd"
   ]
  },
  {
   "cell_type": "code",
   "execution_count": 13,
   "metadata": {
    "colab": {},
    "colab_type": "code",
    "id": "3ekNw8AgJYLe"
   },
   "outputs": [],
   "source": [
    "df = pd.DataFrame(list_data)"
   ]
  },
  {
   "cell_type": "code",
   "execution_count": 14,
   "metadata": {
    "colab": {
     "base_uri": "https://localhost:8080/",
     "height": 479
    },
    "colab_type": "code",
    "executionInfo": {
     "elapsed": 600,
     "status": "ok",
     "timestamp": 1572530999416,
     "user": {
      "displayName": "Egor Silaev",
      "photoUrl": "",
      "userId": "17939097308196895647"
     },
     "user_tz": -180
    },
    "id": "4NiEgOboJYOE",
    "outputId": "07d97617-2508-402e-9ae0-c933f31a66a9"
   },
   "outputs": [
    {
     "data": {
      "text/html": [
       "<div>\n",
       "<style scoped>\n",
       "    .dataframe tbody tr th:only-of-type {\n",
       "        vertical-align: middle;\n",
       "    }\n",
       "\n",
       "    .dataframe tbody tr th {\n",
       "        vertical-align: top;\n",
       "    }\n",
       "\n",
       "    .dataframe thead th {\n",
       "        text-align: right;\n",
       "    }\n",
       "</style>\n",
       "<table border=\"1\" class=\"dataframe\">\n",
       "  <thead>\n",
       "    <tr style=\"text-align: right;\">\n",
       "      <th></th>\n",
       "      <th>date</th>\n",
       "      <th>url</th>\n",
       "      <th>edition</th>\n",
       "      <th>topics</th>\n",
       "      <th>authors</th>\n",
       "      <th>title</th>\n",
       "      <th>text</th>\n",
       "      <th>reposts_fb</th>\n",
       "      <th>reposts_vk</th>\n",
       "      <th>reposts_ok</th>\n",
       "      <th>reposts_twi</th>\n",
       "      <th>reposts_lj</th>\n",
       "      <th>reposts_tg</th>\n",
       "      <th>likes</th>\n",
       "      <th>views</th>\n",
       "      <th>comm_count</th>\n",
       "      <th>None</th>\n",
       "    </tr>\n",
       "  </thead>\n",
       "  <tbody>\n",
       "    <tr>\n",
       "      <th>0</th>\n",
       "      <td>2019-08-10 06:35:00</td>\n",
       "      <td>https://ria.ru/20190810/1557366973.html</td>\n",
       "      <td>ria.ru</td>\n",
       "      <td>Происшествия</td>\n",
       "      <td></td>\n",
       "      <td>Восемнадцать туристов застряли на пляже в Прим...</td>\n",
       "      <td>ВЛАДИВОСТОК, 10 авг – РИА Новости.nВосемнадцат...</td>\n",
       "      <td>-</td>\n",
       "      <td>-</td>\n",
       "      <td>-</td>\n",
       "      <td>-</td>\n",
       "      <td>-</td>\n",
       "      <td>-</td>\n",
       "      <td>0</td>\n",
       "      <td>70</td>\n",
       "      <td>-</td>\n",
       "      <td>[]</td>\n",
       "    </tr>\n",
       "    <tr>\n",
       "      <th>1</th>\n",
       "      <td>2019-08-10 03:25:00</td>\n",
       "      <td>https://ria.ru/20190810/1557366343.html</td>\n",
       "      <td>ria.ru</td>\n",
       "      <td>В мире</td>\n",
       "      <td></td>\n",
       "      <td>Президент Парагвая даст показания по делу о сп...</td>\n",
       "      <td>БУЭНОС-АЙРЕС, 10 авг – РИА Новости.nПрезидент ...</td>\n",
       "      <td>-</td>\n",
       "      <td>-</td>\n",
       "      <td>-</td>\n",
       "      <td>-</td>\n",
       "      <td>-</td>\n",
       "      <td>-</td>\n",
       "      <td>1</td>\n",
       "      <td>177</td>\n",
       "      <td>-</td>\n",
       "      <td>[]</td>\n",
       "    </tr>\n",
       "    <tr>\n",
       "      <th>2</th>\n",
       "      <td>2019-08-10 03:26:00</td>\n",
       "      <td>https://ria.ru/20190810/1557366366.html</td>\n",
       "      <td>ria.ru</td>\n",
       "      <td>В мире</td>\n",
       "      <td></td>\n",
       "      <td>Андрейченко обвинили в угрозе теракта после но...</td>\n",
       "      <td>МОСКВА, 10 авг - РИА Новости.nДмитрию Андрейче...</td>\n",
       "      <td>-</td>\n",
       "      <td>-</td>\n",
       "      <td>-</td>\n",
       "      <td>-</td>\n",
       "      <td>-</td>\n",
       "      <td>-</td>\n",
       "      <td>2</td>\n",
       "      <td>919</td>\n",
       "      <td>-</td>\n",
       "      <td>[]</td>\n",
       "    </tr>\n",
       "    <tr>\n",
       "      <th>3</th>\n",
       "      <td>2019-08-10 03:31:00</td>\n",
       "      <td>https://ria.ru/20190810/1557366398.html</td>\n",
       "      <td>ria.ru</td>\n",
       "      <td>В мире</td>\n",
       "      <td></td>\n",
       "      <td>Япония заявила, что не испугалась субботних пу...</td>\n",
       "      <td>МОСКВА, 10 авг - РИА Новости.nПравительство Яп...</td>\n",
       "      <td>-</td>\n",
       "      <td>-</td>\n",
       "      <td>-</td>\n",
       "      <td>-</td>\n",
       "      <td>-</td>\n",
       "      <td>-</td>\n",
       "      <td>1</td>\n",
       "      <td>140</td>\n",
       "      <td>-</td>\n",
       "      <td>[]</td>\n",
       "    </tr>\n",
       "    <tr>\n",
       "      <th>4</th>\n",
       "      <td>2019-08-10 03:32:00</td>\n",
       "      <td>https://ria.ru/20190810/1557366421.html</td>\n",
       "      <td>ria.ru</td>\n",
       "      <td>Происшествия</td>\n",
       "      <td></td>\n",
       "      <td>Власти Якутии погасят долг перед жителями, уча...</td>\n",
       "      <td>ЯКУТСК, 10 авг – РИА Новости.nСредства резервн...</td>\n",
       "      <td>-</td>\n",
       "      <td>-</td>\n",
       "      <td>-</td>\n",
       "      <td>-</td>\n",
       "      <td>-</td>\n",
       "      <td>-</td>\n",
       "      <td>3</td>\n",
       "      <td>1196</td>\n",
       "      <td>-</td>\n",
       "      <td>[]</td>\n",
       "    </tr>\n",
       "  </tbody>\n",
       "</table>\n",
       "</div>"
      ],
      "text/plain": [
       "                  date                                      url edition  \\\n",
       "0  2019-08-10 06:35:00  https://ria.ru/20190810/1557366973.html  ria.ru   \n",
       "1  2019-08-10 03:25:00  https://ria.ru/20190810/1557366343.html  ria.ru   \n",
       "2  2019-08-10 03:26:00  https://ria.ru/20190810/1557366366.html  ria.ru   \n",
       "3  2019-08-10 03:31:00  https://ria.ru/20190810/1557366398.html  ria.ru   \n",
       "4  2019-08-10 03:32:00  https://ria.ru/20190810/1557366421.html  ria.ru   \n",
       "\n",
       "         topics authors                                              title  \\\n",
       "0  Происшествия          Восемнадцать туристов застряли на пляже в Прим...   \n",
       "1        В мире          Президент Парагвая даст показания по делу о сп...   \n",
       "2        В мире          Андрейченко обвинили в угрозе теракта после но...   \n",
       "3        В мире          Япония заявила, что не испугалась субботних пу...   \n",
       "4  Происшествия          Власти Якутии погасят долг перед жителями, уча...   \n",
       "\n",
       "                                                text reposts_fb reposts_vk  \\\n",
       "0  ВЛАДИВОСТОК, 10 авг – РИА Новости.nВосемнадцат...          -          -   \n",
       "1  БУЭНОС-АЙРЕС, 10 авг – РИА Новости.nПрезидент ...          -          -   \n",
       "2  МОСКВА, 10 авг - РИА Новости.nДмитрию Андрейче...          -          -   \n",
       "3  МОСКВА, 10 авг - РИА Новости.nПравительство Яп...          -          -   \n",
       "4  ЯКУТСК, 10 авг – РИА Новости.nСредства резервн...          -          -   \n",
       "\n",
       "  reposts_ok reposts_twi reposts_lj reposts_tg likes views comm_count NaN  \n",
       "0          -           -          -          -     0    70          -  []  \n",
       "1          -           -          -          -     1   177          -  []  \n",
       "2          -           -          -          -     2   919          -  []  \n",
       "3          -           -          -          -     1   140          -  []  \n",
       "4          -           -          -          -     3  1196          -  []  "
      ]
     },
     "execution_count": 14,
     "metadata": {},
     "output_type": "execute_result"
    }
   ],
   "source": [
    "df.head()"
   ]
  },
  {
   "cell_type": "code",
   "execution_count": 0,
   "metadata": {
    "colab": {},
    "colab_type": "code",
    "id": "SHGE4jMkJYQa"
   },
   "outputs": [],
   "source": []
  },
  {
   "cell_type": "code",
   "execution_count": 0,
   "metadata": {
    "colab": {},
    "colab_type": "code",
    "id": "q0CYb-0rJPu0"
   },
   "outputs": [],
   "source": []
  },
  {
   "cell_type": "markdown",
   "metadata": {
    "colab_type": "text",
    "id": "e28l6e198L9u"
   },
   "source": [
    "### Обработка словаря"
   ]
  },
  {
   "cell_type": "code",
   "execution_count": 15,
   "metadata": {
    "colab": {},
    "colab_type": "code",
    "id": "OqjEhgaDvxj7"
   },
   "outputs": [],
   "source": [
    "# Соберем токены\n",
    "tokens = data.gettokens"
   ]
  },
  {
   "cell_type": "code",
   "execution_count": 0,
   "metadata": {
    "colab": {},
    "colab_type": "code",
    "id": "J5l3M6q38Qqr"
   },
   "outputs": [],
   "source": []
  },
  {
   "cell_type": "code",
   "execution_count": 16,
   "metadata": {
    "colab": {},
    "colab_type": "code",
    "id": "EPvhaJLR8Qte"
   },
   "outputs": [],
   "source": [
    "punctuation = list(punctuation)"
   ]
  },
  {
   "cell_type": "code",
   "execution_count": 17,
   "metadata": {
    "colab": {},
    "colab_type": "code",
    "id": "CBlrlrxj8QyH"
   },
   "outputs": [],
   "source": [
    "punctuation += ['«','»','—', 'n','»,','».', '–', '...']"
   ]
  },
  {
   "cell_type": "code",
   "execution_count": 18,
   "metadata": {
    "colab": {},
    "colab_type": "code",
    "id": "y5fevKURI-gg"
   },
   "outputs": [],
   "source": [
    "garbage_words = ['nранее', 'nв', 'nпо', 'nтакже','u','n—', 'nn']"
   ]
  },
  {
   "cell_type": "code",
   "execution_count": 19,
   "metadata": {
    "colab": {},
    "colab_type": "code",
    "id": "DmFxTeif8Q47"
   },
   "outputs": [],
   "source": [
    "tokens = {item:tokens[item] for item in tokens if item not in punctuation}"
   ]
  },
  {
   "cell_type": "code",
   "execution_count": 20,
   "metadata": {
    "colab": {},
    "colab_type": "code",
    "id": "JYh39TiPJTJ1"
   },
   "outputs": [],
   "source": [
    "tokens = {item:tokens[item] for item in tokens if item not in garbage_words}"
   ]
  },
  {
   "cell_type": "code",
   "execution_count": 21,
   "metadata": {
    "colab": {},
    "colab_type": "code",
    "id": "XDWAFsST8Q0f"
   },
   "outputs": [],
   "source": [
    "stopwords_01 = open('../../../data/another/stopwords.txt', 'r', encoding='UTF-8')\n",
    "stopwords_01 = stopwords_01.read().split('\\n')\n",
    "stopwords_02 = open('../../../data/another/stopwords_02.txt', 'r', encoding='UTF-8')\n",
    "stopwords_02 = stopwords_02.read().split('\\n')"
   ]
  },
  {
   "cell_type": "code",
   "execution_count": 22,
   "metadata": {
    "colab": {},
    "colab_type": "code",
    "id": "qOGMPuwo8Qw2"
   },
   "outputs": [],
   "source": [
    "stopwords = stopwords_01 + stopwords_02"
   ]
  },
  {
   "cell_type": "code",
   "execution_count": 23,
   "metadata": {
    "colab": {},
    "colab_type": "code",
    "id": "ED9DjQjc9R05"
   },
   "outputs": [],
   "source": [
    "tokens_without_stopwords = {item:tokens[item] for item in tokens if item not in stopwords}"
   ]
  },
  {
   "cell_type": "code",
   "execution_count": 0,
   "metadata": {
    "colab": {},
    "colab_type": "code",
    "id": "6M4gXZsu9R7L"
   },
   "outputs": [],
   "source": []
  },
  {
   "cell_type": "markdown",
   "metadata": {
    "colab_type": "text",
    "id": "ym3H5f0G-NLt"
   },
   "source": [
    "### Аналитика по словам"
   ]
  },
  {
   "cell_type": "markdown",
   "metadata": {
    "colab_type": "text",
    "id": "B3_A4DrY-hQq"
   },
   "source": [
    "#### Топ-20 слов без удаления стоп-слов"
   ]
  },
  {
   "cell_type": "code",
   "execution_count": 24,
   "metadata": {
    "colab": {
     "base_uri": "https://localhost:8080/",
     "height": 357
    },
    "colab_type": "code",
    "executionInfo": {
     "elapsed": 632,
     "status": "ok",
     "timestamp": 1572521009264,
     "user": {
      "displayName": "Egor Silaev",
      "photoUrl": "",
      "userId": "17939097308196895647"
     },
     "user_tz": -180
    },
    "id": "KFqnUUCevxkA",
    "outputId": "131b1b1b-76ca-4760-b6da-4e29e32ec7c2"
   },
   "outputs": [
    {
     "data": {
      "text/plain": [
       "[('в', 886914),\n",
       " ('и', 432220),\n",
       " ('на', 330528),\n",
       " ('по', 223339),\n",
       " ('что', 222487),\n",
       " ('с', 197353),\n",
       " ('не', 142613),\n",
       " ('новости', 138829),\n",
       " ('риа', 138196),\n",
       " ('о', 90332),\n",
       " ('из', 83502),\n",
       " ('для', 70031),\n",
       " ('к', 69962),\n",
       " ('за', 61882),\n",
       " ('его', 61732),\n",
       " ('он', 61204),\n",
       " ('как', 61012),\n",
       " ('москва', 60294),\n",
       " ('года', 58532),\n",
       " ('а', 57231)]"
      ]
     },
     "execution_count": 24,
     "metadata": {},
     "output_type": "execute_result"
    }
   ],
   "source": [
    "Counter(tokens).most_common(20)"
   ]
  },
  {
   "cell_type": "code",
   "execution_count": 25,
   "metadata": {
    "colab": {
     "base_uri": "https://localhost:8080/",
     "height": 404
    },
    "colab_type": "code",
    "executionInfo": {
     "elapsed": 1188,
     "status": "ok",
     "timestamp": 1572521013042,
     "user": {
      "displayName": "Egor Silaev",
      "photoUrl": "",
      "userId": "17939097308196895647"
     },
     "user_tz": -180
    },
    "id": "RrvScy8hvxkE",
    "outputId": "af22a563-eef1-40cd-8ab3-87c03d92a163"
   },
   "outputs": [
    {
     "data": {
      "image/png": "[encoded data removed]",
      "text/plain": [
       "<Figure size 864x432 with 1 Axes>"
      ]
     },
     "metadata": {},
     "output_type": "display_data"
    }
   ],
   "source": [
    "x = dict(Counter(tokens).most_common(20)).keys()\n",
    "y = dict(Counter(tokens).most_common(20)).values()\n",
    "\n",
    "fig, ax = plt.subplots()\n",
    "\n",
    "ax.bar(x, y)\n",
    "ax.set_title('TOP-20 слов без удаления стопслов')\n",
    "ax.set_ylabel('Частота')\n",
    "ax.set_xlabel('Слова')\n",
    "\n",
    "ax.set_facecolor('seashell')\n",
    "fig.set_facecolor('floralwhite')\n",
    "fig.set_figwidth(12)    #  ширина Figure\n",
    "fig.set_figheight(6)    #  высота Figure\n",
    "\n",
    "\n",
    "plt.show()"
   ]
  },
  {
   "cell_type": "markdown",
   "metadata": {
    "colab_type": "text",
    "id": "oyibo5Ui-lzi"
   },
   "source": [
    "#### Топ-20 слов после удаления стоп-слов"
   ]
  },
  {
   "cell_type": "code",
   "execution_count": 26,
   "metadata": {
    "colab": {
     "base_uri": "https://localhost:8080/",
     "height": 357
    },
    "colab_type": "code",
    "executionInfo": {
     "elapsed": 619,
     "status": "ok",
     "timestamp": 1572521016779,
     "user": {
      "displayName": "Egor Silaev",
      "photoUrl": "",
      "userId": "17939097308196895647"
     },
     "user_tz": -180
    },
    "id": "dsegoWWy-rod",
    "outputId": "71533744-6265-4b19-c75e-cf84b505e0ac"
   },
   "outputs": [
    {
     "data": {
      "text/plain": [
       "[('новости', 138829),\n",
       " ('риа', 138196),\n",
       " ('россии', 51618),\n",
       " ('сша', 48031),\n",
       " ('рф', 47712),\n",
       " ('заявил', 43615),\n",
       " ('украины', 28308),\n",
       " ('словам', 28256),\n",
       " ('сообщил', 26347),\n",
       " ('данным', 26017),\n",
       " ('президента', 24762),\n",
       " ('говорится', 21799),\n",
       " ('области', 21360),\n",
       " ('страны', 20605),\n",
       " ('глава', 20200),\n",
       " ('мая', 19620),\n",
       " ('отметил', 18077),\n",
       " ('сообщает', 17014),\n",
       " ('рублей', 16237),\n",
       " ('из-за', 16175)]"
      ]
     },
     "execution_count": 26,
     "metadata": {},
     "output_type": "execute_result"
    }
   ],
   "source": [
    "Counter(tokens_without_stopwords).most_common(20)"
   ]
  },
  {
   "cell_type": "code",
   "execution_count": 27,
   "metadata": {
    "colab": {
     "base_uri": "https://localhost:8080/",
     "height": 404
    },
    "colab_type": "code",
    "executionInfo": {
     "elapsed": 1289,
     "status": "ok",
     "timestamp": 1572521022199,
     "user": {
      "displayName": "Egor Silaev",
      "photoUrl": "",
      "userId": "17939097308196895647"
     },
     "user_tz": -180
    },
    "id": "ULvxekUF-r4a",
    "outputId": "db27d182-e521-49cf-ef72-3694ab53f800"
   },
   "outputs": [
    {
     "data": {
      "image/png": "[encoded data removed]",
      "text/plain": [
       "<Figure size 1584x432 with 1 Axes>"
      ]
     },
     "metadata": {},
     "output_type": "display_data"
    }
   ],
   "source": [
    "x = dict(Counter(tokens_without_stopwords).most_common(20)).keys()\n",
    "y = dict(Counter(tokens_without_stopwords).most_common(20)).values()\n",
    "\n",
    "fig, ax = plt.subplots()\n",
    "\n",
    "ax.bar(x, y)\n",
    "ax.set_title('TOP-20 слов без удаления стопслов')\n",
    "ax.set_ylabel('Частота')\n",
    "ax.set_xlabel('Слова')\n",
    "\n",
    "ax.set_facecolor('seashell')\n",
    "fig.set_facecolor('floralwhite')\n",
    "fig.set_figwidth(22)    #  ширина Figure\n",
    "fig.set_figheight(6)    #  высота Figure\n",
    "\n",
    "\n",
    "plt.show()"
   ]
  },
  {
   "cell_type": "markdown",
   "metadata": {
    "colab_type": "text",
    "id": "VJ6w-wJ2vxkH"
   },
   "source": [
    "## Рубрики в разрезе новостей"
   ]
  },
  {
   "cell_type": "markdown",
   "metadata": {
    "colab_type": "text",
    "id": "IwvkOJgzvxkH"
   },
   "source": [
    "### Количество рубрик"
   ]
  },
  {
   "cell_type": "code",
   "execution_count": 28,
   "metadata": {
    "colab": {},
    "colab_type": "code",
    "id": "FHEEEtf2vxkI"
   },
   "outputs": [],
   "source": [
    "list_topics = list(data.listcolumns(None, 'ria', 'topics'))"
   ]
  },
  {
   "cell_type": "code",
   "execution_count": 29,
   "metadata": {
    "colab": {
     "base_uri": "https://localhost:8080/",
     "height": 34
    },
    "colab_type": "code",
    "executionInfo": {
     "elapsed": 583,
     "status": "ok",
     "timestamp": 1572521043258,
     "user": {
      "displayName": "Egor Silaev",
      "photoUrl": "",
      "userId": "17939097308196895647"
     },
     "user_tz": -180
    },
    "id": "Z8BTRTl7vxkK",
    "outputId": "b0478f8a-8487-4e10-ba25-b8b8751f8acd"
   },
   "outputs": [
    {
     "data": {
      "text/plain": [
       "1120"
      ]
     },
     "execution_count": 29,
     "metadata": {},
     "output_type": "execute_result"
    }
   ],
   "source": [
    "len(set(list_topics))"
   ]
  },
  {
   "cell_type": "markdown",
   "metadata": {
    "colab_type": "text",
    "id": "597r_Fl3vxkM"
   },
   "source": [
    "### Рубрики в разрезе количества новостей"
   ]
  },
  {
   "cell_type": "code",
   "execution_count": 31,
   "metadata": {
    "colab": {
     "base_uri": "https://localhost:8080/",
     "height": 187
    },
    "colab_type": "code",
    "executionInfo": {
     "elapsed": 615,
     "status": "ok",
     "timestamp": 1572521046372,
     "user": {
      "displayName": "Egor Silaev",
      "photoUrl": "",
      "userId": "17939097308196895647"
     },
     "user_tz": -180
    },
    "id": "ccIvRH-SvxkM",
    "outputId": "8f302c94-c4b9-417e-a90b-128500c785b7"
   },
   "outputs": [
    {
     "data": {
      "text/plain": [
       "[('В мире', 44133),\n",
       " ('Происшествия', 18209),\n",
       " ('Общество', 13282),\n",
       " ('Экономика', 7264),\n",
       " ('РИА Наука', 3603),\n",
       " ('Политика', 3224),\n",
       " ('Россия', 2024),\n",
       " ('Безопасность', 1591),\n",
       " ('США', 813),\n",
       " ('Украина', 673),\n",
       " ('Сирия', 583),\n",
       " ('Москва', 297),\n",
       " ('Технологии', 257),\n",
       " ('религия', 192),\n",
       " ('Венесуэла', 191),\n",
       " ('Санкт-Петербург', 170),\n",
       " ('Новости - Туризм', 168),\n",
       " ('Израиль', 131),\n",
       " ('Владимир Путин', 96),\n",
       " ('Культура', 93),\n",
       " ('Испания', 82),\n",
       " ('Париж', 80),\n",
       " ('Крым', 79),\n",
       " ('Турция', 67),\n",
       " ('Грузия', 66),\n",
       " ('Великобритания', 61),\n",
       " ('Италия', 60),\n",
       " ('Иран', 57),\n",
       " ('Таиланд', 55),\n",
       " ('Египет', 53),\n",
       " ('Владимир Зеленский', 49),\n",
       " ('Китай', 47),\n",
       " ('Казань', 47),\n",
       " ('Третьяковская галерея', 46),\n",
       " ('Сочи', 39),\n",
       " ('Туризм', 39),\n",
       " ('Алеппо', 38),\n",
       " ('Калининград', 38),\n",
       " ('ООН', 37),\n",
       " ('Ливан', 37)]"
      ]
     },
     "execution_count": 31,
     "metadata": {},
     "output_type": "execute_result"
    }
   ],
   "source": [
    "Counter(list_topics).most_common(40)"
   ]
  },
  {
   "cell_type": "markdown",
   "metadata": {
    "colab_type": "text",
    "id": "LzbLPu6G7Xit"
   },
   "source": [
    "## Распределение количества новостей по месяцам"
   ]
  },
  {
   "cell_type": "code",
   "execution_count": 32,
   "metadata": {
    "colab": {},
    "colab_type": "code",
    "id": "tnKIaQaHz9tW"
   },
   "outputs": [],
   "source": [
    "list_dates = list(data.listcolumns(None, 'ria', 'date'))"
   ]
  },
  {
   "cell_type": "code",
   "execution_count": 33,
   "metadata": {
    "colab": {},
    "colab_type": "code",
    "id": "IsfBLATW02PS"
   },
   "outputs": [],
   "source": [
    "def getMonthDate(date):\n",
    "  \"\"\"\n",
    "  Возвращает дату в формате ММ-ГГГГ\n",
    "  \"\"\"\n",
    "  date = datetime.datetime.strptime(date, \"%Y-%m-%d %H:%M:%S\")\n",
    "  return '-'.join(['0' + str(date.month) if date.month<10 else str(date.month), str(date.year)])"
   ]
  },
  {
   "cell_type": "code",
   "execution_count": 34,
   "metadata": {
    "colab": {},
    "colab_type": "code",
    "id": "86cWiHJV1dKu"
   },
   "outputs": [],
   "source": [
    "# Подсчет количества новостей в разрезе месяца и года\n",
    "list_dates = [getMonthDate(x) for x in list_dates]"
   ]
  },
  {
   "cell_type": "code",
   "execution_count": 35,
   "metadata": {
    "colab": {},
    "colab_type": "code",
    "id": "EhWOAaaC29e0"
   },
   "outputs": [],
   "source": [
    "month_year = Counter(list_dates)"
   ]
  },
  {
   "cell_type": "code",
   "execution_count": 36,
   "metadata": {
    "colab": {
     "base_uri": "https://localhost:8080/",
     "height": 34
    },
    "colab_type": "code",
    "executionInfo": {
     "elapsed": 543,
     "status": "ok",
     "timestamp": 1572521102941,
     "user": {
      "displayName": "Egor Silaev",
      "photoUrl": "",
      "userId": "17939097308196895647"
     },
     "user_tz": -180
    },
    "id": "9v6Jd6nq6kig",
    "outputId": "37599233-64ee-4be6-e90d-569b21ac3f1a"
   },
   "outputs": [
    {
     "data": {
      "text/plain": [
       "9"
      ]
     },
     "execution_count": 36,
     "metadata": {},
     "output_type": "execute_result"
    }
   ],
   "source": [
    "len(month_year)"
   ]
  },
  {
   "cell_type": "code",
   "execution_count": 37,
   "metadata": {
    "colab": {
     "base_uri": "https://localhost:8080/",
     "height": 578
    },
    "colab_type": "code",
    "executionInfo": {
     "elapsed": 553,
     "status": "ok",
     "timestamp": 1572521104825,
     "user": {
      "displayName": "Egor Silaev",
      "photoUrl": "",
      "userId": "17939097308196895647"
     },
     "user_tz": -180
    },
    "id": "rKYcNky04hgi",
    "outputId": "aff82fb5-1e46-4d5d-e12c-fc5f2743ec8f"
   },
   "outputs": [
    {
     "data": {
      "text/plain": [
       "[('07-2019', 13912),\n",
       " ('01-2019', 13186),\n",
       " ('06-2019', 13067),\n",
       " ('04-2019', 13066),\n",
       " ('05-2019', 11427),\n",
       " ('12-2018', 11340),\n",
       " ('02-2019', 11100),\n",
       " ('03-2019', 10516),\n",
       " ('08-2019', 3930)]"
      ]
     },
     "execution_count": 37,
     "metadata": {},
     "output_type": "execute_result"
    }
   ],
   "source": [
    "month_year.most_common(9)"
   ]
  },
  {
   "cell_type": "code",
   "execution_count": 38,
   "metadata": {
    "colab": {
     "base_uri": "https://localhost:8080/",
     "height": 653
    },
    "colab_type": "code",
    "executionInfo": {
     "elapsed": 1143,
     "status": "ok",
     "timestamp": 1572521156492,
     "user": {
      "displayName": "Egor Silaev",
      "photoUrl": "",
      "userId": "17939097308196895647"
     },
     "user_tz": -180
    },
    "id": "g97uKlaT5UXh",
    "outputId": "6903d815-7a59-4cea-ea36-c302f6de1c45"
   },
   "outputs": [
    {
     "data": {
      "image/png": "[encoded data removed]",
      "text/plain": [
       "<Figure size 1440x720 with 1 Axes>"
      ]
     },
     "metadata": {},
     "output_type": "display_data"
    }
   ],
   "source": [
    "fig, ax = plt.subplots(figsize=(20, 10))\n",
    "plt.bar(x = month_year.keys(),\n",
    "        height = month_year.values())\n",
    "plt.xticks(rotation='vertical')\n",
    "ax.set_facecolor('seashell')\n",
    "fig.set_facecolor('floralwhite')\n",
    "\n",
    "ax.set_title('Количество новостей по месяцам')\n",
    "ax.set_ylabel('Количество')\n",
    "ax.set_xlabel('Дата')\n",
    "plt.show()"
   ]
  },
  {
   "cell_type": "code",
   "execution_count": 0,
   "metadata": {
    "colab": {},
    "colab_type": "code",
    "id": "YiN8O2xYvxlV"
   },
   "outputs": [],
   "source": []
  },
  {
   "cell_type": "code",
   "execution_count": 0,
   "metadata": {
    "colab": {},
    "colab_type": "code",
    "id": "CYN55mRavxlX"
   },
   "outputs": [],
   "source": []
  }
 ],
 "metadata": {
  "accelerator": "TPU",
  "colab": {
   "collapsed_sections": [],
   "name": "rt (new).ipynb",
   "provenance": [],
   "toc_visible": true
  },
  "kernelspec": {
   "display_name": "Python 3",
   "language": "python",
   "name": "python3"
  },
  "language_info": {
   "codemirror_mode": {
    "name": "ipython",
    "version": 3
   },
   "file_extension": ".py",
   "mimetype": "text/x-python",
   "name": "python",
   "nbconvert_exporter": "python",
   "pygments_lexer": "ipython3",
   "version": "3.7.3"
  }
 },
 "nbformat": 4,
 "nbformat_minor": 1
}
