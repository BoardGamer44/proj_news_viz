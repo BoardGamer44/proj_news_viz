{
 "cells": [
  {
   "cell_type": "markdown",
   "metadata": {},
   "source": [
    "<h2\n",
    "    style=\"font-size:20px; font-family:'Helvetica Neue'\" align=\"right\"> Viktor Trokhymenko \n",
    "</h2>\n",
    "<h3 \n",
    "    style=\"font-size:16px; font-family:'Helvetica Neue'\" align=\"right\"> @vtrokhymenko\n",
    "</h3>"
   ]
  },
  {
   "cell_type": "code",
   "execution_count": 67,
   "metadata": {
    "cell_style": "center",
    "scrolled": true
   },
   "outputs": [],
   "source": [
    "import warnings\n",
    "warnings.filterwarnings(\"ignore\")\n",
    "\n",
    "import pandas as pd\n",
    "import numpy as np\n",
    "np.random.seed(42)\n",
    "import re\n",
    "from pprint import pprint\n",
    "import ast\n",
    "\n",
    "import matplotlib.pyplot as plt\n",
    "%matplotlib inline"
   ]
  },
  {
   "cell_type": "code",
   "execution_count": 68,
   "metadata": {},
   "outputs": [],
   "source": [
    "import scipy.sparse as ss\n",
    "from sklearn.feature_extraction.text import CountVectorizer\n",
    "\n",
    "# https://github.com/gregversteeg/corex_topic\n",
    "from corextopic import corextopic as ct\n",
    "from corextopic import vis_topic as vt # jupyter notebooks will complain matplotlib is being loaded twice\n",
    "\n",
    "import _pickle as cPickle\n",
    "import pickle"
   ]
  },
  {
   "cell_type": "markdown",
   "metadata": {},
   "source": [
    "---"
   ]
  },
  {
   "cell_type": "code",
   "execution_count": 86,
   "metadata": {},
   "outputs": [
    {
     "name": "stdout",
     "output_type": "stream",
     "text": [
      "(699777, 3)\n",
      "CPU times: user 21.6 s, sys: 1.29 s, total: 22.9 s\n",
      "Wall time: 23.1 s\n"
     ]
    }
   ],
   "source": [
    "%%time\n",
    "\n",
    "df=pd.read_csv('data/news_lenta_pymorphy.csv.zip')\n",
    "print(df.shape)"
   ]
  },
  {
   "cell_type": "code",
   "execution_count": 87,
   "metadata": {
    "scrolled": true
   },
   "outputs": [
    {
     "name": "stdout",
     "output_type": "stream",
     "text": [
      "CPU times: user 3min 6s, sys: 1min 8s, total: 4min 14s\n",
      "Wall time: 4min 34s\n"
     ]
    }
   ],
   "source": [
    "%%time\n",
    "\n",
    "# приведем поле `text_pymorphy` к `literal_eval`\n",
    "df['text_pymorphy'] = df.text_pymorphy.apply(lambda x: ast.literal_eval(x))\n",
    "\n",
    "# подсчитаем к-ство токенов для каждой записи\n",
    "df['len'] = df.text_pymorphy.apply(lambda x: len(x))\n",
    "\n",
    "# оставим где к-ство токенов >3 для каждого дока (но тут нужно еще подумать)\n",
    "df = df[df.len > 3]"
   ]
  },
  {
   "cell_type": "code",
   "execution_count": 88,
   "metadata": {},
   "outputs": [
    {
     "name": "stdout",
     "output_type": "stream",
     "text": [
      "CPU times: user 12.6 s, sys: 42.4 s, total: 55 s\n",
      "Wall time: 1min 2s\n"
     ]
    }
   ],
   "source": [
    "%%time\n",
    "\n",
    "# джойним лист, для дальнейшей работы\n",
    "df['text_join'] = df.text_pymorphy.apply(lambda x: ' '.join(x))"
   ]
  },
  {
   "cell_type": "code",
   "execution_count": 89,
   "metadata": {},
   "outputs": [
    {
     "name": "stdout",
     "output_type": "stream",
     "text": [
      "2018-08-11\n",
      "2018-12-11\n"
     ]
    }
   ],
   "source": [
    "# объединим год и месяц, добавляя статическую дату\n",
    "# это делается для последующей визуализации\n",
    "\n",
    "def prepare_date2vis(year,month,day=11):\n",
    "    if len(str(month))==2:\n",
    "        return str(int(year))+'-'+str(int(month))+'-'+str(day)\n",
    "    else:\n",
    "        return str(int(year))+'-0'+str(int(month))+'-'+str(day)\n",
    "\n",
    "print(prepare_date2vis(2018,8))\n",
    "print(prepare_date2vis(2018,12))"
   ]
  },
  {
   "cell_type": "code",
   "execution_count": 90,
   "metadata": {},
   "outputs": [
    {
     "name": "stdout",
     "output_type": "stream",
     "text": [
      "CPU times: user 18 s, sys: 314 ms, total: 18.3 s\n",
      "Wall time: 18.4 s\n"
     ]
    }
   ],
   "source": [
    "%%time\n",
    "df['date'] = df.apply(lambda x: prepare_date2vis(x.year, x.month), axis=1)"
   ]
  },
  {
   "cell_type": "code",
   "execution_count": 91,
   "metadata": {},
   "outputs": [],
   "source": [
    "# как мы знаем, то в этом датасете есть 1914 год\n",
    "# мы его дропаем\n",
    "df = df[df.year != 1914]\n",
    "\n",
    "# добавляем `docID` чтобы потом смерждить по этому полю\n",
    "df['docID'] = [i for i in range(df.shape[0])]"
   ]
  },
  {
   "cell_type": "code",
   "execution_count": 92,
   "metadata": {},
   "outputs": [
    {
     "name": "stdout",
     "output_type": "stream",
     "text": [
      "(699484, 7)\n"
     ]
    },
    {
     "data": {
      "text/html": [
       "<div>\n",
       "<style scoped>\n",
       "    .dataframe tbody tr th:only-of-type {\n",
       "        vertical-align: middle;\n",
       "    }\n",
       "\n",
       "    .dataframe tbody tr th {\n",
       "        vertical-align: top;\n",
       "    }\n",
       "\n",
       "    .dataframe thead th {\n",
       "        text-align: right;\n",
       "    }\n",
       "</style>\n",
       "<table border=\"1\" class=\"dataframe\">\n",
       "  <thead>\n",
       "    <tr style=\"text-align: right;\">\n",
       "      <th></th>\n",
       "      <th>year</th>\n",
       "      <th>month</th>\n",
       "      <th>text_pymorphy</th>\n",
       "      <th>len</th>\n",
       "      <th>text_join</th>\n",
       "      <th>date</th>\n",
       "      <th>docID</th>\n",
       "    </tr>\n",
       "  </thead>\n",
       "  <tbody>\n",
       "    <tr>\n",
       "      <th>0</th>\n",
       "      <td>2018</td>\n",
       "      <td>7</td>\n",
       "      <td>[украинский, боксёр, александр, усик, рассказа...</td>\n",
       "      <td>111</td>\n",
       "      <td>украинский боксёр александр усик рассказать ра...</td>\n",
       "      <td>2018-07-11</td>\n",
       "      <td>0</td>\n",
       "    </tr>\n",
       "    <tr>\n",
       "      <th>1</th>\n",
       "      <td>2018</td>\n",
       "      <td>7</td>\n",
       "      <td>[израиль, эвакуировать, сирия, активист, белых...</td>\n",
       "      <td>89</td>\n",
       "      <td>израиль эвакуировать сирия активист белых каск...</td>\n",
       "      <td>2018-07-11</td>\n",
       "      <td>1</td>\n",
       "    </tr>\n",
       "    <tr>\n",
       "      <th>2</th>\n",
       "      <td>2018</td>\n",
       "      <td>7</td>\n",
       "      <td>[лондонский, челси, отказаться, продать, мадри...</td>\n",
       "      <td>89</td>\n",
       "      <td>лондонский челси отказаться продать мадридский...</td>\n",
       "      <td>2018-07-11</td>\n",
       "      <td>2</td>\n",
       "    </tr>\n",
       "  </tbody>\n",
       "</table>\n",
       "</div>"
      ],
      "text/plain": [
       "   year  month                                      text_pymorphy  len  \\\n",
       "0  2018      7  [украинский, боксёр, александр, усик, рассказа...  111   \n",
       "1  2018      7  [израиль, эвакуировать, сирия, активист, белых...   89   \n",
       "2  2018      7  [лондонский, челси, отказаться, продать, мадри...   89   \n",
       "\n",
       "                                           text_join        date  docID  \n",
       "0  украинский боксёр александр усик рассказать ра...  2018-07-11      0  \n",
       "1  израиль эвакуировать сирия активист белых каск...  2018-07-11      1  \n",
       "2  лондонский челси отказаться продать мадридский...  2018-07-11      2  "
      ]
     },
     "execution_count": 92,
     "metadata": {},
     "output_type": "execute_result"
    }
   ],
   "source": [
    "# смотрим что получилось\n",
    "print(df.shape)\n",
    "df.head(3)"
   ]
  },
  {
   "cell_type": "markdown",
   "metadata": {},
   "source": [
    "---"
   ]
  },
  {
   "cell_type": "markdown",
   "metadata": {},
   "source": [
    "### CountVectorizer"
   ]
  },
  {
   "cell_type": "code",
   "execution_count": 94,
   "metadata": {
    "code_folding": []
   },
   "outputs": [
    {
     "name": "stdout",
     "output_type": "stream",
     "text": [
      "(699484, 556556)\n",
      "CPU times: user 1min 19s, sys: 6.95 s, total: 1min 26s\n",
      "Wall time: 1min 29s\n"
     ]
    }
   ],
   "source": [
    "%%time\n",
    "\n",
    "# делаем мешок слов\n",
    "vectorizer = CountVectorizer()\n",
    "doc_word = vectorizer.fit_transform(df.text_join)\n",
    "\n",
    "# делаем спарс-матрцу\n",
    "doc_word = ss.csr_matrix(doc_word)\n",
    "\n",
    "print(doc_word.shape)  # n_docs x m_words"
   ]
  },
  {
   "cell_type": "markdown",
   "metadata": {},
   "source": [
    "699489 документов с 556574 словами"
   ]
  },
  {
   "cell_type": "code",
   "execution_count": 96,
   "metadata": {},
   "outputs": [
    {
     "name": "stdout",
     "output_type": "stream",
     "text": [
      "(699484, 556556)\n",
      "CPU times: user 8.08 s, sys: 917 ms, total: 9 s\n",
      "Wall time: 9.02 s\n"
     ]
    }
   ],
   "source": [
    "%%time\n",
    "\n",
    "# получаем слова\n",
    "words = list(np.asarray(vectorizer.get_feature_names()))\n",
    "\n",
    "# удаляем целые числа\n",
    "not_digit_inds = [ind for ind, word in enumerate(words) if not word.isdigit()]\n",
    "doc_word = doc_word[:, not_digit_inds]\n",
    "words = [word for ind, word in enumerate(words) if not word.isdigit()]\n",
    "\n",
    "print(doc_word.shape)  # n_docs x m_words"
   ]
  },
  {
   "cell_type": "code",
   "execution_count": 98,
   "metadata": {},
   "outputs": [
    {
     "name": "stdout",
     "output_type": "stream",
     "text": [
      "['aa', 'aaa', 'aaaa', 'aaaaa', 'aaaaaa', 'aaaab', 'aaab', 'aaae', 'aaariess', 'aaas']\n"
     ]
    }
   ],
   "source": [
    "print(words[:10])"
   ]
  },
  {
   "cell_type": "markdown",
   "metadata": {},
   "source": [
    "## CorEx Topic Model"
   ]
  },
  {
   "cell_type": "markdown",
   "metadata": {},
   "source": [
    "The main parameters of the CorEx topic model are:\n",
    "* **n_hidden:** number of topics (\"hidden\" as in \"hidden latent topics\")\n",
    "* **words:** words that label the columns of the doc-word matrix (optional)\n",
    "* **docs:** document labels that label the rows of the doc-word matrix (optional)\n",
    "* **max_iter:** number of iterations to run through the update equations (optional, defaults to 200)\n",
    "* **verbose:** if verbose=1, then CorEx will print the topic TCs with each iteration\n",
    "* **seed:** random number seed to use for model initialization (optional)\n"
   ]
  },
  {
   "cell_type": "code",
   "execution_count": 99,
   "metadata": {},
   "outputs": [],
   "source": [
    "# задаем к-ство топиков (для примера взял 50)\n",
    "NUM_TOPICS = 50"
   ]
  },
  {
   "cell_type": "code",
   "execution_count": 100,
   "metadata": {
    "scrolled": true
   },
   "outputs": [
    {
     "name": "stdout",
     "output_type": "stream",
     "text": [
      "CPU times: user 2h 17min 18s, sys: 45min 14s, total: 3h 2min 33s\n",
      "Wall time: 3h 2min 36s\n"
     ]
    }
   ],
   "source": [
    "%%time\n",
    "topic_model = ct.Corex(n_hidden=NUM_TOPICS,\n",
    "                       words=words,\n",
    "                       max_iter=200,\n",
    "                       verbose=0,\n",
    "                       seed=1)\n",
    "topic_model.fit(doc_word, words=words)"
   ]
  },
  {
   "cell_type": "markdown",
   "metadata": {},
   "source": [
    "### topics"
   ]
  },
  {
   "cell_type": "code",
   "execution_count": 101,
   "metadata": {
    "scrolled": false
   },
   "outputs": [
    {
     "data": {
      "text/plain": [
       "[('фильм', 0.11684665449587389),\n",
       " ('режиссёр', 0.07228490852002444),\n",
       " ('картина', 0.05844012083809584),\n",
       " ('актёр', 0.05545439735479931),\n",
       " ('роль', 0.04265956101727018),\n",
       " ('музыкант', 0.038816523935299795),\n",
       " ('премия', 0.035909778607846596),\n",
       " ('альбом', 0.034692191709201736),\n",
       " ('прокат', 0.029907512032998997),\n",
       " ('песня', 0.028262502735602636)]"
      ]
     },
     "execution_count": 101,
     "metadata": {},
     "output_type": "execute_result"
    }
   ],
   "source": [
    "# посмотрим что отнеслось к 1 топику\n",
    "topic_model.get_topics(topic=1, n_words=10)"
   ]
  },
  {
   "cell_type": "code",
   "execution_count": 102,
   "metadata": {},
   "outputs": [
    {
     "data": {
      "text/plain": [
       "[(507776, 0.11684665449587389),\n",
       " (433667, 0.07228490852002444),\n",
       " (292235, 0.05844012083809584),\n",
       " (164791, 0.05545439735479931),\n",
       " (438991, 0.04265956101727018),\n",
       " (356860, 0.038816523935299795),\n",
       " (416238, 0.035909778607846596),\n",
       " (167031, 0.034692191709201736),\n",
       " (420587, 0.029907512032998997),\n",
       " (400555, 0.028262502735602636)]"
      ]
     },
     "execution_count": 102,
     "metadata": {},
     "output_type": "execute_result"
    }
   ],
   "source": [
    "# получим индексы столбцов\n",
    "topic_model.get_topics(topic=1, n_words=10, print_words=False)"
   ]
  },
  {
   "cell_type": "code",
   "execution_count": 103,
   "metadata": {
    "scrolled": true
   },
   "outputs": [
    {
     "name": "stdout",
     "output_type": "stream",
     "text": [
      "0: матч,чемпионат,команда,сборный,клуб,турнир,чемпион,тренер,игра,сборная\n",
      "1: фильм,режиссёр,картина,актёр,роль,музыкант,премия,альбом,прокат,песня\n",
      "2: пользователь,сервис,интернет,разработчик,сеть,выпустить,google,смартфон,компьютер,apple\n",
      "3: погибнуть,произойти,человек,ранение,происшествие,пострадать,район,результат,взрыв,пострадавший\n",
      "4: учёный,исследователь,исследование,журнал,университет,земля,поверхность,nature,астроном,планета\n",
      "5: самолёт,борт,полёт,экипаж,авиакомпания,рейс,корабль,воздушный,пассажир,аэропорт\n",
      "6: процент,рост,вырасти,показатель,снижение,сравнение,уровень,экономика,снизиться,объесть\n",
      "7: аль,израиль,ирак,израильский,сирия,палестинский,иракский,оон,сирийский,иран\n",
      "8: уголовный,дело,возбудить,задержать,следствие,следственный,правоохранительный,орган,статья,прокуратура\n",
      "9: суд,приговорить,адвокат,иск,судебный,лишение,приговор,виновный,признать,свобода\n",
      "10: доллар,миллиард,рубль,миллион,сумма,финансовый,банка,деньга,банк,бюджет\n",
      "11: the,сша,американский,press,штат,associated,британский,нью,presse,times\n",
      "12: акция,газпром,акционер,нефть,актив,крупный,нефтяной,предприятие,бумага,инвестор\n",
      "13: украина,украинский,киев,крым,донецкий,донбасс,порошенко,верховный,янукович,луганский\n",
      "14: музей,церковь,художник,искусство,век,животное,памятник,храм,животный,православный\n",
      "15: военный,войско,оборона,армия,военнослужащий,вооружённый,сила,вооружение,боев,минобороны\n",
      "16: полиция,больница,убийство,мужчина,летний,скончаться,полицейский,убитый,смерть,врач\n",
      "17: партия,выбор,выборы,кандидат,избирательный,голосование,президентский,пост,голос,избиратель\n",
      "18: боевик,террорист,теракт,террористический,группировка,чечня,исламский,чеченский,иго,захватить\n",
      "19: компания,рынок,цена,продажа,стоимость,производитель,поставка,продать,сделка,торг\n",
      "20: риа,новость,москва,рф,область,интерфакс,петербург,санкт,московский,управление\n",
      "21: станция,космический,километр,орбита,поезд,оснастить,двигатель,строительство,аппарат,спутник\n",
      "22: германия,франция,французский,немецкий,италия,евро,итальянский,европа,париж,европейский\n",
      "23: президент,министр,глава,заявить,правительство,премьер,государство,власть,вопрос,мид\n",
      "24: грузия,грузинский,тбилиси,абхазия,саакашвили,казахстан,литва,осетия,эстония,азербайджан\n",
      "25: россия,владимир,российский,путин,сергей,дмитрий,александр,алексей,медведев,андрей\n",
      "26: ребёнок,женщина,родитель,девушка,жена,семья,дочь,школа,девочка,сын\n",
      "27: депутат,госдума,парламент,закон,законопроект,поправка,фракция,спикер,палата,внести\n",
      "28: обвинение,арестовать,предъявить,арест,расследование,бывший,причастность,тюрьма,незаконный,отношение\n",
      "29: протест,митинг,активист,беспорядок,протестовать,против,массовый,участник,демонстрант,оппозиционер\n",
      "30: лента,ру,страница,опубликовать,видео,facebook,youtube,канал,написать,ролик\n",
      "31: вода,остров,океан,берег,спасательный,землетрясение,побережье,ветер,вод,бедствие\n",
      "32: проект,система,разработка,создание,программа,быть,разработать,развитие,создать,планироваться\n",
      "33: одежда,коллекция,изображение,снимка,цвета,обувь,цвет,кожа,камера,костюм\n",
      "34: сыграть,выйти,лос,хороший,анджелес,играть,победитель,серия,женский,приз\n",
      "35: слово,сказать,подчеркнуть,отметить,мнение,считать,добавить,ситуация,мочь,проблема\n",
      "36: свой,обама,барак,очень,дональд,хотеть,трамп,мой,думать,знать\n",
      "37: внимание,который,говорить,наш,интервью,обратить,просто,сделать,делать,какой\n",
      "38: наука,хозяйство,образование,институт,вуз,студент,сельский,академия,учебный,факультет\n",
      "39: метр,квадратный,высота,скорость,длина,площадь,глубина,секунда,сантиметр,ширина\n",
      "40: страна,ес,евросоюз,международный,санкция,саммит,призвать,позиция,поддержка,сотрудничество\n",
      "41: газета,писать,однако,пора,сей,речь,должный,идти,издание,частность\n",
      "42: такой,новый,самый,образ,например,новое,позволять,использовать,количество,каждый\n",
      "43: документ,говориться,организация,просьба,обратиться,направить,требование,деятельность,соответствующий,письмо\n",
      "44: безопасность,ведомство,министерство,сторона,ядерный,цель,обеспечение,контроль,атомный,оборонный\n",
      "45: принять,решение,участие,принимать,отказаться,переговоры,руководство,отменить,отказ,отмена\n",
      "46: год,соглашение,подписать,контракт,конец,договор,заключить,прошлое,январь,начало\n",
      "47: запрет,ввести,ограничение,запретить,введение,вводить,въезд,ввоз,запрещать,эмбарго\n",
      "48: источник,ссылка,собеседник,агентство,неназванный,анонимный,информированный,близкий,уточнять,поступать\n",
      "49: общий,составить,составлять,сложность,превышать,максимальный,расчёт,учёт,пять,суммарный\n"
     ]
    }
   ],
   "source": [
    "# посмотрим все топики\n",
    "topics = topic_model.get_topics()\n",
    "for n,topic in enumerate(topics):\n",
    "    topic_words,_ = zip(*topic)\n",
    "    print('{}: '.format(n) + ','.join(topic_words))"
   ]
  },
  {
   "cell_type": "code",
   "execution_count": 104,
   "metadata": {},
   "outputs": [
    {
     "name": "stdout",
     "output_type": "stream",
     "text": [
      "(556556,)\n",
      "[ 6  6  2 ... 14  2 39]\n"
     ]
    }
   ],
   "source": [
    "# получим доступ к топику что присвоилось для каждого слова\n",
    "print(topic_model.clusters.shape) # m_words\n",
    "print(topic_model.clusters)"
   ]
  },
  {
   "cell_type": "markdown",
   "metadata": {},
   "source": [
    "### document labels"
   ]
  },
  {
   "cell_type": "code",
   "execution_count": 105,
   "metadata": {},
   "outputs": [
    {
     "name": "stdout",
     "output_type": "stream",
     "text": [
      "NOTE: 'docs' not provided to CorEx. Returning top docs as lists of row indices\n"
     ]
    },
    {
     "data": {
      "text/plain": [
       "[(498937, 0.0),\n",
       " (54346, 0.0),\n",
       " (678748, 0.0),\n",
       " (508262, 0.0),\n",
       " (384262, 0.0),\n",
       " (54357, 0.0),\n",
       " (186469, 0.0),\n",
       " (421872, 0.0),\n",
       " (124270, 0.0),\n",
       " (384276, 0.0)]"
      ]
     },
     "execution_count": 105,
     "metadata": {},
     "output_type": "execute_result"
    }
   ],
   "source": [
    "# документы сортируются с логарифмической вероятностью, к примеру [e^0=1,e^(-0,5)=0,6]\n",
    "topic_model.get_top_docs(topic=1, n_docs=10, sort_by='log_prob')"
   ]
  },
  {
   "cell_type": "markdown",
   "metadata": {},
   "source": [
    "CorEx is a discriminative model, whereas LDA is a generative model."
   ]
  },
  {
   "cell_type": "code",
   "execution_count": 106,
   "metadata": {
    "scrolled": true
   },
   "outputs": [
    {
     "name": "stdout",
     "output_type": "stream",
     "text": [
      "(699484, 50)\n"
     ]
    }
   ],
   "source": [
    "# получим оценочные вероятности тем для каждого документа\n",
    "print(topic_model.p_y_given_x.shape) # n_docs x k_topics"
   ]
  },
  {
   "cell_type": "code",
   "execution_count": 107,
   "metadata": {},
   "outputs": [
    {
     "data": {
      "text/plain": [
       "array([[9.99999000e-01, 1.00000000e-06, 1.00000000e-06, ...,\n",
       "        2.57855363e-03, 1.45493827e-02, 4.10339739e-02],\n",
       "       [1.00000000e-06, 1.00000000e-06, 1.00000000e-06, ...,\n",
       "        2.57635979e-03, 1.64034357e-02, 4.14124341e-02],\n",
       "       [9.99999000e-01, 1.00000000e-06, 1.00000000e-06, ...,\n",
       "        2.57568138e-03, 1.53463513e-02, 3.10632475e-01],\n",
       "       ...,\n",
       "       [1.00000000e-06, 1.00000000e-06, 1.00000000e-06, ...,\n",
       "        2.57563047e-03, 1.69765277e-02, 9.90752369e-01],\n",
       "       [1.00000000e-06, 1.00000000e-06, 1.00000000e-06, ...,\n",
       "        2.58361228e-03, 5.14110845e-02, 3.92602527e-02],\n",
       "       [1.00000000e-06, 1.00000000e-06, 2.66915401e-06, ...,\n",
       "        2.58547556e-03, 1.56773840e-02, 8.19884104e-02]])"
      ]
     },
     "execution_count": 107,
     "metadata": {},
     "output_type": "execute_result"
    }
   ],
   "source": [
    "topic_model.p_y_given_x"
   ]
  },
  {
   "cell_type": "code",
   "execution_count": 108,
   "metadata": {},
   "outputs": [
    {
     "name": "stdout",
     "output_type": "stream",
     "text": [
      "(699484, 50)\n"
     ]
    }
   ],
   "source": [
    "# также можно и юзать softmax для двоичного определения (какие документы принадлежат для каждой темы)\n",
    "print(topic_model.labels.shape) # n_docs x k_topics"
   ]
  },
  {
   "cell_type": "code",
   "execution_count": 109,
   "metadata": {},
   "outputs": [
    {
     "data": {
      "text/plain": [
       "array([[ True, False, False, ..., False, False, False],\n",
       "       [False, False, False, ..., False, False, False],\n",
       "       [ True, False, False, ..., False, False, False],\n",
       "       ...,\n",
       "       [False, False, False, ..., False, False,  True],\n",
       "       [False, False, False, ..., False, False, False],\n",
       "       [False, False, False, ..., False, False, False]])"
      ]
     },
     "execution_count": 109,
     "metadata": {},
     "output_type": "execute_result"
    }
   ],
   "source": [
    "topic_model.labels"
   ]
  },
  {
   "cell_type": "markdown",
   "metadata": {},
   "source": [
    "## Total Correlation and Model Selection"
   ]
  },
  {
   "cell_type": "markdown",
   "metadata": {},
   "source": [
    "* Overall TC"
   ]
  },
  {
   "cell_type": "markdown",
   "metadata": {},
   "source": [
    "при построении topic modelling, CorEx максимизирует меру total correlation"
   ]
  },
  {
   "cell_type": "code",
   "execution_count": 110,
   "metadata": {
    "scrolled": false
   },
   "outputs": [
    {
     "data": {
      "text/plain": [
       "43.62742526586606"
      ]
     },
     "execution_count": 110,
     "metadata": {},
     "output_type": "execute_result"
    }
   ],
   "source": [
    "topic_model.tc"
   ]
  },
  {
   "cell_type": "markdown",
   "metadata": {},
   "source": [
    "**Model selection**: CorEx starts its algorithm with a random initialization, and so different runs can result in different topic models. One way of finding a better topic model is to restart the CorEx algorithm several times and take the run that has the highest TC value (i.e. the run that produces topics that are most informative about the documents)."
   ]
  },
  {
   "cell_type": "markdown",
   "metadata": {},
   "source": [
    "* Topic TC\n",
    "\n",
    "обобщенная корреляция - это сумма общей корреляции по каждой из тем."
   ]
  },
  {
   "cell_type": "markdown",
   "metadata": {},
   "source": [
    "Для unsupervised CorEx темы всегда сортируются от высокого к низкому согласно с их TC"
   ]
  },
  {
   "cell_type": "code",
   "execution_count": 111,
   "metadata": {},
   "outputs": [
    {
     "data": {
      "text/plain": [
       "(50,)"
      ]
     },
     "execution_count": 111,
     "metadata": {},
     "output_type": "execute_result"
    }
   ],
   "source": [
    "topic_model.tcs.shape # k_topics"
   ]
  },
  {
   "cell_type": "code",
   "execution_count": 112,
   "metadata": {},
   "outputs": [
    {
     "name": "stdout",
     "output_type": "stream",
     "text": [
      "43.62742526586606\n",
      "43.62742526586606\n"
     ]
    }
   ],
   "source": [
    "print(np.sum(topic_model.tcs))\n",
    "print(topic_model.tc)"
   ]
  },
  {
   "cell_type": "markdown",
   "metadata": {},
   "source": [
    "_Selecting number of topics_:\n",
    "\n",
    "один из способов - наблюдать за распределением TCs на каждой эпохе, чтобы видеть какой дополнительный топик вносит вклад в общий TC\n",
    "\n",
    "добавляем топики пока дополнительный топики не будут делать существенное вложение с общий TC\n",
    "\n",
    "это похоже на выбор обрезания собственного значения при topic modeling через lsa"
   ]
  },
  {
   "cell_type": "code",
   "execution_count": 113,
   "metadata": {},
   "outputs": [
    {
     "data": {
      "image/png": "[encoded data removed]",
      "text/plain": [
       "<matplotlib.figure.Figure at 0x3b2734e80>"
      ]
     },
     "metadata": {},
     "output_type": "display_data"
    }
   ],
   "source": [
    "plt.figure(figsize=(10,5))\n",
    "plt.bar(range(topic_model.tcs.shape[0]),\n",
    "        topic_model.tcs,\n",
    "        color='#4e79a7',\n",
    "        width=0.5)\n",
    "plt.grid()\n",
    "plt.xlabel('Topic', fontsize=16)\n",
    "plt.ylabel('Total Correlation (nats)', fontsize=16);"
   ]
  },
  {
   "cell_type": "markdown",
   "metadata": {},
   "source": [
    "как видно с графика, 1й топик наиболее информативнее"
   ]
  },
  {
   "cell_type": "markdown",
   "metadata": {},
   "source": [
    "### Pointwise Document TC"
   ]
  },
  {
   "cell_type": "markdown",
   "metadata": {},
   "source": [
    "В дальнейшем можна разложить total correlation - это среднее значение точечных [pointwise] общих корреляций для каждого отдельного документа"
   ]
  },
  {
   "cell_type": "code",
   "execution_count": 114,
   "metadata": {},
   "outputs": [
    {
     "data": {
      "text/plain": [
       "(699484, 50)"
      ]
     },
     "execution_count": 114,
     "metadata": {},
     "output_type": "execute_result"
    }
   ],
   "source": [
    "topic_model.log_z.shape # n_docs x k_topics"
   ]
  },
  {
   "cell_type": "code",
   "execution_count": 115,
   "metadata": {},
   "outputs": [
    {
     "name": "stdout",
     "output_type": "stream",
     "text": [
      "[4.05000029 2.48911312 1.86711668 1.62764243 1.59117997 1.55823625\n",
      " 1.50272752 1.45131824 1.4498854  1.25289345 1.23741773 1.22610498\n",
      " 1.16827546 1.16081589 1.10246822 1.08618679 1.03754827 1.02612825\n",
      " 1.0070829  0.84166759 0.83298592 0.81792756 0.73477059 0.71898508\n",
      " 0.71475703 0.71295492 0.68221007 0.65112166 0.63088773 0.62434817\n",
      " 0.61659484 0.59522485 0.593867   0.58763897 0.49674223 0.46588665\n",
      " 0.43347493 0.37994993 0.33445722 0.30662489 0.30444477 0.28939211\n",
      " 0.28732387 0.19940515 0.19840715 0.18535422 0.17676801 0.15126567\n",
      " 0.0904562  0.07938846]\n",
      "\n",
      " [4.05000029 2.48911312 1.86711668 1.62764243 1.59117997 1.55823625\n",
      " 1.50272752 1.45131824 1.4498854  1.25289345 1.23741773 1.22610498\n",
      " 1.16827546 1.16081589 1.10246822 1.08618679 1.03754827 1.02612825\n",
      " 1.0070829  0.84166759 0.83298592 0.81792756 0.73477059 0.71898508\n",
      " 0.71475703 0.71295492 0.68221007 0.65112166 0.63088773 0.62434817\n",
      " 0.61659484 0.59522485 0.593867   0.58763897 0.49674223 0.46588665\n",
      " 0.43347493 0.37994993 0.33445722 0.30662489 0.30444477 0.28939211\n",
      " 0.28732387 0.19940515 0.19840715 0.18535422 0.17676801 0.15126567\n",
      " 0.0904562  0.07938846]\n"
     ]
    }
   ],
   "source": [
    "print(np.mean(topic_model.log_z, axis=0))\n",
    "print('\\n',topic_model.tcs)"
   ]
  },
  {
   "cell_type": "markdown",
   "metadata": {},
   "source": [
    "`log_z` представляет собой корреляцию внутри отдельного дока объясненный конкретной темой. Использовалася для измерения, насколько \"супрайзинг\" документы относятся к данным темам"
   ]
  },
  {
   "cell_type": "markdown",
   "metadata": {},
   "source": [
    "### Hierarchical Topic Models"
   ]
  },
  {
   "cell_type": "markdown",
   "metadata": {},
   "source": [
    "атрибуты лэйблов дают двоичные выражения топика для каждого дока и топика. и этот выход мы можем использовать для входа другой модели CorEx topic model, чтобы получить латентное представление самих тем\n",
    "\n",
    "по 1у слою можно определить к-во скрытых латентных переменных для добавления в высшие слои, изучив TCs "
   ]
  },
  {
   "cell_type": "code",
   "execution_count": 52,
   "metadata": {},
   "outputs": [
    {
     "name": "stdout",
     "output_type": "stream",
     "text": [
      "CPU times: user 4min 27s, sys: 2min 55s, total: 7min 23s\n",
      "Wall time: 4min 34s\n"
     ]
    }
   ],
   "source": [
    "%%time\n",
    "# Train a second layer to the topic model\n",
    "tm_layer2 = ct.Corex(n_hidden=10)\n",
    "tm_layer2.fit(topic_model.labels);"
   ]
  },
  {
   "cell_type": "code",
   "execution_count": 53,
   "metadata": {},
   "outputs": [
    {
     "name": "stdout",
     "output_type": "stream",
     "text": [
      "CPU times: user 9.13 s, sys: 1.04 s, total: 10.2 s\n",
      "Wall time: 8.69 s\n"
     ]
    }
   ],
   "source": [
    "%%time\n",
    "# Train a third layer to the topic model\n",
    "tm_layer3 = ct.Corex(n_hidden=1)\n",
    "tm_layer3.fit(tm_layer2.labels);"
   ]
  },
  {
   "cell_type": "code",
   "execution_count": 112,
   "metadata": {
    "collapsed": true
   },
   "outputs": [
    {
     "ename": "NameError",
     "evalue": "name 'unicode' is not defined",
     "output_type": "error",
     "traceback": [
      "\u001b[0;31m---------------------------------------------------------------------------\u001b[0m",
      "\u001b[0;31mNameError\u001b[0m                                 Traceback (most recent call last)",
      "\u001b[0;32m<ipython-input-112-b225f1651e94>\u001b[0m in \u001b[0;36m<module>\u001b[0;34m()\u001b[0m\n\u001b[1;32m      4\u001b[0m                  \u001b[0mcolumn_label\u001b[0m\u001b[0;34m=\u001b[0m\u001b[0mwords\u001b[0m\u001b[0;34m,\u001b[0m\u001b[0;34m\u001b[0m\u001b[0m\n\u001b[1;32m      5\u001b[0m                  \u001b[0mmax_edges\u001b[0m\u001b[0;34m=\u001b[0m\u001b[0;36m200\u001b[0m\u001b[0;34m,\u001b[0m\u001b[0;34m\u001b[0m\u001b[0m\n\u001b[0;32m----> 6\u001b[0;31m                  prefix='topic-model-example')\n\u001b[0m\u001b[1;32m      7\u001b[0m \u001b[0;34m\u001b[0m\u001b[0m\n\u001b[1;32m      8\u001b[0m \u001b[0;31m# тут все плохо\u001b[0m\u001b[0;34m\u001b[0m\u001b[0;34m\u001b[0m\u001b[0m\n",
      "\u001b[0;32m~/anaconda3/envs/py36/lib/python3.6/site-packages/corextopic/vis_topic.py\u001b[0m in \u001b[0;36mvis_hierarchy\u001b[0;34m(corexes, column_label, max_edges, prefix, n_anchors)\u001b[0m\n\u001b[1;32m     58\u001b[0m         \u001b[0minds\u001b[0m \u001b[0;34m=\u001b[0m \u001b[0mnp\u001b[0m\u001b[0;34m.\u001b[0m\u001b[0mwhere\u001b[0m\u001b[0;34m(\u001b[0m\u001b[0malpha\u001b[0m\u001b[0;34m[\u001b[0m\u001b[0mj\u001b[0m\u001b[0;34m]\u001b[0m \u001b[0;34m>=\u001b[0m \u001b[0;36m1.\u001b[0m\u001b[0;34m)\u001b[0m\u001b[0;34m[\u001b[0m\u001b[0;36m0\u001b[0m\u001b[0;34m]\u001b[0m\u001b[0;34m\u001b[0m\u001b[0m\n\u001b[1;32m     59\u001b[0m         \u001b[0minds\u001b[0m \u001b[0;34m=\u001b[0m \u001b[0minds\u001b[0m\u001b[0;34m[\u001b[0m\u001b[0mnp\u001b[0m\u001b[0;34m.\u001b[0m\u001b[0margsort\u001b[0m\u001b[0;34m(\u001b[0m\u001b[0;34m-\u001b[0m\u001b[0malpha\u001b[0m\u001b[0;34m[\u001b[0m\u001b[0mj\u001b[0m\u001b[0;34m,\u001b[0m \u001b[0minds\u001b[0m\u001b[0;34m]\u001b[0m \u001b[0;34m*\u001b[0m \u001b[0mmis\u001b[0m\u001b[0;34m[\u001b[0m\u001b[0mj\u001b[0m\u001b[0;34m,\u001b[0m \u001b[0minds\u001b[0m\u001b[0;34m]\u001b[0m\u001b[0;34m)\u001b[0m\u001b[0;34m]\u001b[0m\u001b[0;34m\u001b[0m\u001b[0m\n\u001b[0;32m---> 60\u001b[0;31m         \u001b[0mgroup_number\u001b[0m \u001b[0;34m=\u001b[0m \u001b[0;34mu\"red_\"\u001b[0m \u001b[0;34m+\u001b[0m \u001b[0municode\u001b[0m\u001b[0;34m(\u001b[0m\u001b[0mj\u001b[0m\u001b[0;34m)\u001b[0m \u001b[0;32mif\u001b[0m \u001b[0mj\u001b[0m \u001b[0;34m<\u001b[0m \u001b[0mn_anchors\u001b[0m \u001b[0;32melse\u001b[0m \u001b[0municode\u001b[0m\u001b[0;34m(\u001b[0m\u001b[0mj\u001b[0m\u001b[0;34m)\u001b[0m\u001b[0;34m\u001b[0m\u001b[0m\n\u001b[0m\u001b[1;32m     61\u001b[0m         \u001b[0mlabel\u001b[0m \u001b[0;34m=\u001b[0m \u001b[0mgroup_number\u001b[0m \u001b[0;34m+\u001b[0m \u001b[0;34mu':'\u001b[0m \u001b[0;34m+\u001b[0m \u001b[0;34mu' '\u001b[0m\u001b[0;34m.\u001b[0m\u001b[0mjoin\u001b[0m\u001b[0;34m(\u001b[0m\u001b[0;34m[\u001b[0m\u001b[0mannotate\u001b[0m\u001b[0;34m(\u001b[0m\u001b[0mcolumn_label\u001b[0m\u001b[0;34m[\u001b[0m\u001b[0mind\u001b[0m\u001b[0;34m]\u001b[0m\u001b[0;34m,\u001b[0m \u001b[0mcorexes\u001b[0m\u001b[0;34m[\u001b[0m\u001b[0;36m0\u001b[0m\u001b[0;34m]\u001b[0m\u001b[0;34m.\u001b[0m\u001b[0msign\u001b[0m\u001b[0;34m[\u001b[0m\u001b[0mj\u001b[0m\u001b[0;34m,\u001b[0m\u001b[0mind\u001b[0m\u001b[0;34m]\u001b[0m\u001b[0;34m)\u001b[0m \u001b[0;32mfor\u001b[0m \u001b[0mind\u001b[0m \u001b[0;32min\u001b[0m \u001b[0minds\u001b[0m\u001b[0;34m[\u001b[0m\u001b[0;34m:\u001b[0m\u001b[0;36m6\u001b[0m\u001b[0;34m]\u001b[0m\u001b[0;34m]\u001b[0m\u001b[0;34m)\u001b[0m\u001b[0;34m\u001b[0m\u001b[0m\n\u001b[1;32m     62\u001b[0m         \u001b[0mlabel\u001b[0m \u001b[0;34m=\u001b[0m \u001b[0mtextwrap\u001b[0m\u001b[0;34m.\u001b[0m\u001b[0mfill\u001b[0m\u001b[0;34m(\u001b[0m\u001b[0mlabel\u001b[0m\u001b[0;34m,\u001b[0m \u001b[0mwidth\u001b[0m\u001b[0;34m=\u001b[0m\u001b[0;36m25\u001b[0m\u001b[0;34m)\u001b[0m\u001b[0;34m\u001b[0m\u001b[0m\n",
      "\u001b[0;31mNameError\u001b[0m: name 'unicode' is not defined"
     ]
    }
   ],
   "source": [
    "#from corextopic import vis_topic as vt # jupyter notebooks will complain matplotlib is being loaded twice\n",
    "\n",
    "vt.vis_hierarchy([topic_model, tm_layer2, tm_layer3],\n",
    "                 column_label=words,\n",
    "                 max_edges=200,\n",
    "                 prefix='topic-model-example')\n",
    "\n",
    "# тут все плохо\n",
    "# эту ошибку я решил, но вот дальше у них в коде какая-то лажа с параметром `prefix`"
   ]
  },
  {
   "cell_type": "markdown",
   "metadata": {},
   "source": [
    "---"
   ]
  },
  {
   "cell_type": "markdown",
   "metadata": {},
   "source": [
    "## визуализация"
   ]
  },
  {
   "cell_type": "code",
   "execution_count": 116,
   "metadata": {},
   "outputs": [
    {
     "data": {
      "text/plain": [
       "array([[9.99999000e-01, 1.00000000e-06, 1.00000000e-06, ...,\n",
       "        2.57855363e-03, 1.45493827e-02, 4.10339739e-02],\n",
       "       [1.00000000e-06, 1.00000000e-06, 1.00000000e-06, ...,\n",
       "        2.57635979e-03, 1.64034357e-02, 4.14124341e-02],\n",
       "       [9.99999000e-01, 1.00000000e-06, 1.00000000e-06, ...,\n",
       "        2.57568138e-03, 1.53463513e-02, 3.10632475e-01],\n",
       "       ...,\n",
       "       [1.00000000e-06, 1.00000000e-06, 1.00000000e-06, ...,\n",
       "        2.57563047e-03, 1.69765277e-02, 9.90752369e-01],\n",
       "       [1.00000000e-06, 1.00000000e-06, 1.00000000e-06, ...,\n",
       "        2.58361228e-03, 5.14110845e-02, 3.92602527e-02],\n",
       "       [1.00000000e-06, 1.00000000e-06, 2.66915401e-06, ...,\n",
       "        2.58547556e-03, 1.56773840e-02, 8.19884104e-02]])"
      ]
     },
     "execution_count": 116,
     "metadata": {},
     "output_type": "execute_result"
    }
   ],
   "source": [
    "# посмотрим как каждый документ относится к тому или иному топику\n",
    "topic_model.p_y_given_x"
   ]
  },
  {
   "cell_type": "code",
   "execution_count": 117,
   "metadata": {},
   "outputs": [
    {
     "data": {
      "text/plain": [
       "array([9.99999000e-01, 1.00000000e-06, 1.00000000e-06, 4.92696548e-06,\n",
       "       1.00000000e-06, 2.10134985e-06, 1.05957468e-04, 2.57977506e-05,\n",
       "       4.80001209e-05, 2.53309476e-04, 2.40770269e-03, 9.80983036e-01,\n",
       "       4.54598713e-06, 3.71462242e-02, 1.54180086e-05, 2.14855383e-04,\n",
       "       1.98667785e-04, 1.31042309e-05, 8.04616981e-04, 5.38918436e-04,\n",
       "       2.66466543e-03, 8.63314923e-05, 7.94431427e-04, 2.70707889e-03,\n",
       "       8.37637854e-05, 4.58268865e-01, 2.06924673e-02, 3.25241890e-04,\n",
       "       9.88442118e-04, 4.59933590e-04, 9.28765697e-01, 7.00992295e-04,\n",
       "       1.13289983e-02, 3.26881840e-02, 9.80470354e-01, 9.90843988e-01,\n",
       "       9.99906271e-01, 4.14787937e-02, 5.84548122e-04, 6.58429784e-03,\n",
       "       2.69237708e-02, 2.84564448e-02, 8.52271018e-01, 2.11457256e-01,\n",
       "       4.51314089e-02, 6.24972820e-01, 3.42359987e-02, 2.57855363e-03,\n",
       "       1.45493827e-02, 4.10339739e-02])"
      ]
     },
     "execution_count": 117,
     "metadata": {},
     "output_type": "execute_result"
    }
   ],
   "source": [
    "# возьмем для примера 1й док\n",
    "topic_model.p_y_given_x[0]"
   ]
  },
  {
   "cell_type": "code",
   "execution_count": 118,
   "metadata": {},
   "outputs": [
    {
     "data": {
      "text/plain": [
       "array([[ True, False, False, ..., False, False, False],\n",
       "       [False, False, False, ..., False, False, False],\n",
       "       [ True, False, False, ..., False, False, False],\n",
       "       ...,\n",
       "       [False, False, False, ..., False, False,  True],\n",
       "       [False, False, False, ..., False, False, False],\n",
       "       [False, False, False, ..., False, False, False]])"
      ]
     },
     "execution_count": 118,
     "metadata": {},
     "output_type": "execute_result"
    }
   ],
   "source": [
    "# тут уже без P(), а через так званое двоичное определение\n",
    "topic_model.labels"
   ]
  },
  {
   "cell_type": "code",
   "execution_count": 119,
   "metadata": {
    "scrolled": true
   },
   "outputs": [
    {
     "name": "stdout",
     "output_type": "stream",
     "text": [
      "(699484, 51)\n"
     ]
    },
    {
     "data": {
      "text/html": [
       "<div>\n",
       "<style scoped>\n",
       "    .dataframe tbody tr th:only-of-type {\n",
       "        vertical-align: middle;\n",
       "    }\n",
       "\n",
       "    .dataframe tbody tr th {\n",
       "        vertical-align: top;\n",
       "    }\n",
       "\n",
       "    .dataframe thead th {\n",
       "        text-align: right;\n",
       "    }\n",
       "</style>\n",
       "<table border=\"1\" class=\"dataframe\">\n",
       "  <thead>\n",
       "    <tr style=\"text-align: right;\">\n",
       "      <th></th>\n",
       "      <th>topic_0</th>\n",
       "      <th>topic_1</th>\n",
       "      <th>topic_2</th>\n",
       "      <th>topic_3</th>\n",
       "      <th>topic_4</th>\n",
       "      <th>topic_5</th>\n",
       "      <th>topic_6</th>\n",
       "      <th>topic_7</th>\n",
       "      <th>topic_8</th>\n",
       "      <th>topic_9</th>\n",
       "      <th>...</th>\n",
       "      <th>topic_41</th>\n",
       "      <th>topic_42</th>\n",
       "      <th>topic_43</th>\n",
       "      <th>topic_44</th>\n",
       "      <th>topic_45</th>\n",
       "      <th>topic_46</th>\n",
       "      <th>topic_47</th>\n",
       "      <th>topic_48</th>\n",
       "      <th>topic_49</th>\n",
       "      <th>docID</th>\n",
       "    </tr>\n",
       "  </thead>\n",
       "  <tbody>\n",
       "    <tr>\n",
       "      <th>0</th>\n",
       "      <td>0.999999</td>\n",
       "      <td>0.000001</td>\n",
       "      <td>0.000001</td>\n",
       "      <td>0.000005</td>\n",
       "      <td>0.000001</td>\n",
       "      <td>0.000002</td>\n",
       "      <td>0.000106</td>\n",
       "      <td>0.000026</td>\n",
       "      <td>0.000048</td>\n",
       "      <td>0.000253</td>\n",
       "      <td>...</td>\n",
       "      <td>0.028456</td>\n",
       "      <td>0.852271</td>\n",
       "      <td>0.211457</td>\n",
       "      <td>0.045131</td>\n",
       "      <td>0.624973</td>\n",
       "      <td>0.034236</td>\n",
       "      <td>0.002579</td>\n",
       "      <td>0.014549</td>\n",
       "      <td>0.041034</td>\n",
       "      <td>0</td>\n",
       "    </tr>\n",
       "    <tr>\n",
       "      <th>1</th>\n",
       "      <td>0.000001</td>\n",
       "      <td>0.000001</td>\n",
       "      <td>0.000001</td>\n",
       "      <td>0.002029</td>\n",
       "      <td>0.000001</td>\n",
       "      <td>0.000061</td>\n",
       "      <td>0.000002</td>\n",
       "      <td>0.999999</td>\n",
       "      <td>0.000014</td>\n",
       "      <td>0.000051</td>\n",
       "      <td>...</td>\n",
       "      <td>0.010022</td>\n",
       "      <td>0.035419</td>\n",
       "      <td>0.839145</td>\n",
       "      <td>0.155727</td>\n",
       "      <td>0.044453</td>\n",
       "      <td>0.019921</td>\n",
       "      <td>0.002576</td>\n",
       "      <td>0.016403</td>\n",
       "      <td>0.041412</td>\n",
       "      <td>1</td>\n",
       "    </tr>\n",
       "    <tr>\n",
       "      <th>2</th>\n",
       "      <td>0.999999</td>\n",
       "      <td>0.000001</td>\n",
       "      <td>0.000001</td>\n",
       "      <td>0.000001</td>\n",
       "      <td>0.000001</td>\n",
       "      <td>0.000002</td>\n",
       "      <td>0.000012</td>\n",
       "      <td>0.000026</td>\n",
       "      <td>0.000014</td>\n",
       "      <td>0.000012</td>\n",
       "      <td>...</td>\n",
       "      <td>0.115791</td>\n",
       "      <td>0.637377</td>\n",
       "      <td>0.038191</td>\n",
       "      <td>0.011190</td>\n",
       "      <td>0.406510</td>\n",
       "      <td>0.956483</td>\n",
       "      <td>0.002576</td>\n",
       "      <td>0.015346</td>\n",
       "      <td>0.310632</td>\n",
       "      <td>2</td>\n",
       "    </tr>\n",
       "    <tr>\n",
       "      <th>3</th>\n",
       "      <td>0.999999</td>\n",
       "      <td>0.000001</td>\n",
       "      <td>0.000001</td>\n",
       "      <td>0.000001</td>\n",
       "      <td>0.000001</td>\n",
       "      <td>0.000002</td>\n",
       "      <td>0.000001</td>\n",
       "      <td>0.000026</td>\n",
       "      <td>0.000048</td>\n",
       "      <td>0.000051</td>\n",
       "      <td>...</td>\n",
       "      <td>0.007410</td>\n",
       "      <td>0.003167</td>\n",
       "      <td>0.049502</td>\n",
       "      <td>0.011193</td>\n",
       "      <td>0.097020</td>\n",
       "      <td>0.007170</td>\n",
       "      <td>0.002570</td>\n",
       "      <td>0.014575</td>\n",
       "      <td>0.040930</td>\n",
       "      <td>3</td>\n",
       "    </tr>\n",
       "    <tr>\n",
       "      <th>4</th>\n",
       "      <td>0.000001</td>\n",
       "      <td>0.999999</td>\n",
       "      <td>0.999999</td>\n",
       "      <td>0.000014</td>\n",
       "      <td>0.000009</td>\n",
       "      <td>0.000002</td>\n",
       "      <td>0.000004</td>\n",
       "      <td>0.000026</td>\n",
       "      <td>0.000014</td>\n",
       "      <td>0.000012</td>\n",
       "      <td>...</td>\n",
       "      <td>0.025470</td>\n",
       "      <td>0.686617</td>\n",
       "      <td>0.019345</td>\n",
       "      <td>0.011193</td>\n",
       "      <td>0.044458</td>\n",
       "      <td>0.155266</td>\n",
       "      <td>0.002580</td>\n",
       "      <td>0.014834</td>\n",
       "      <td>0.999999</td>\n",
       "      <td>4</td>\n",
       "    </tr>\n",
       "  </tbody>\n",
       "</table>\n",
       "<p>5 rows × 51 columns</p>\n",
       "</div>"
      ],
      "text/plain": [
       "    topic_0   topic_1   topic_2   topic_3   topic_4   topic_5   topic_6  \\\n",
       "0  0.999999  0.000001  0.000001  0.000005  0.000001  0.000002  0.000106   \n",
       "1  0.000001  0.000001  0.000001  0.002029  0.000001  0.000061  0.000002   \n",
       "2  0.999999  0.000001  0.000001  0.000001  0.000001  0.000002  0.000012   \n",
       "3  0.999999  0.000001  0.000001  0.000001  0.000001  0.000002  0.000001   \n",
       "4  0.000001  0.999999  0.999999  0.000014  0.000009  0.000002  0.000004   \n",
       "\n",
       "    topic_7   topic_8   topic_9  ...    topic_41  topic_42  topic_43  \\\n",
       "0  0.000026  0.000048  0.000253  ...    0.028456  0.852271  0.211457   \n",
       "1  0.999999  0.000014  0.000051  ...    0.010022  0.035419  0.839145   \n",
       "2  0.000026  0.000014  0.000012  ...    0.115791  0.637377  0.038191   \n",
       "3  0.000026  0.000048  0.000051  ...    0.007410  0.003167  0.049502   \n",
       "4  0.000026  0.000014  0.000012  ...    0.025470  0.686617  0.019345   \n",
       "\n",
       "   topic_44  topic_45  topic_46  topic_47  topic_48  topic_49  docID  \n",
       "0  0.045131  0.624973  0.034236  0.002579  0.014549  0.041034      0  \n",
       "1  0.155727  0.044453  0.019921  0.002576  0.016403  0.041412      1  \n",
       "2  0.011190  0.406510  0.956483  0.002576  0.015346  0.310632      2  \n",
       "3  0.011193  0.097020  0.007170  0.002570  0.014575  0.040930      3  \n",
       "4  0.011193  0.044458  0.155266  0.002580  0.014834  0.999999      4  \n",
       "\n",
       "[5 rows x 51 columns]"
      ]
     },
     "execution_count": 119,
     "metadata": {},
     "output_type": "execute_result"
    }
   ],
   "source": [
    "# создаем новый датафрейм для последующих манипуляций\n",
    "theta=pd.DataFrame(topic_model.p_y_given_x)\n",
    "\n",
    "# переименуем колонки для лучшего понимания \n",
    "old_names=list(range(NUM_TOPICS))\n",
    "new_names=['topic_{}'.format(i) for i in range(NUM_TOPICS)]\n",
    "theta.rename(columns=dict(zip(old_names, new_names)),inplace=True)\n",
    "\n",
    "# добавим `docID` чтобы красиво смерджить с основным датасетом\n",
    "theta['docID']=[i for i in range(df.shape[0])]\n",
    "\n",
    "print(theta.shape)\n",
    "theta.head()"
   ]
  },
  {
   "cell_type": "code",
   "execution_count": 120,
   "metadata": {
    "scrolled": true
   },
   "outputs": [
    {
     "name": "stdout",
     "output_type": "stream",
     "text": [
      "(699484, 54)\n"
     ]
    },
    {
     "data": {
      "text/html": [
       "<div>\n",
       "<style scoped>\n",
       "    .dataframe tbody tr th:only-of-type {\n",
       "        vertical-align: middle;\n",
       "    }\n",
       "\n",
       "    .dataframe tbody tr th {\n",
       "        vertical-align: top;\n",
       "    }\n",
       "\n",
       "    .dataframe thead th {\n",
       "        text-align: right;\n",
       "    }\n",
       "</style>\n",
       "<table border=\"1\" class=\"dataframe\">\n",
       "  <thead>\n",
       "    <tr style=\"text-align: right;\">\n",
       "      <th></th>\n",
       "      <th>docID</th>\n",
       "      <th>year</th>\n",
       "      <th>month</th>\n",
       "      <th>date</th>\n",
       "      <th>topic_0</th>\n",
       "      <th>topic_1</th>\n",
       "      <th>topic_2</th>\n",
       "      <th>topic_3</th>\n",
       "      <th>topic_4</th>\n",
       "      <th>topic_5</th>\n",
       "      <th>...</th>\n",
       "      <th>topic_40</th>\n",
       "      <th>topic_41</th>\n",
       "      <th>topic_42</th>\n",
       "      <th>topic_43</th>\n",
       "      <th>topic_44</th>\n",
       "      <th>topic_45</th>\n",
       "      <th>topic_46</th>\n",
       "      <th>topic_47</th>\n",
       "      <th>topic_48</th>\n",
       "      <th>topic_49</th>\n",
       "    </tr>\n",
       "  </thead>\n",
       "  <tbody>\n",
       "    <tr>\n",
       "      <th>0</th>\n",
       "      <td>0</td>\n",
       "      <td>2018</td>\n",
       "      <td>7</td>\n",
       "      <td>2018-07-11</td>\n",
       "      <td>0.999999</td>\n",
       "      <td>0.000001</td>\n",
       "      <td>0.000001</td>\n",
       "      <td>0.000005</td>\n",
       "      <td>0.000001</td>\n",
       "      <td>0.000002</td>\n",
       "      <td>...</td>\n",
       "      <td>0.026924</td>\n",
       "      <td>0.028456</td>\n",
       "      <td>0.852271</td>\n",
       "      <td>0.211457</td>\n",
       "      <td>0.045131</td>\n",
       "      <td>0.624973</td>\n",
       "      <td>0.034236</td>\n",
       "      <td>0.002579</td>\n",
       "      <td>0.014549</td>\n",
       "      <td>0.041034</td>\n",
       "    </tr>\n",
       "    <tr>\n",
       "      <th>1</th>\n",
       "      <td>1</td>\n",
       "      <td>2018</td>\n",
       "      <td>7</td>\n",
       "      <td>2018-07-11</td>\n",
       "      <td>0.000001</td>\n",
       "      <td>0.000001</td>\n",
       "      <td>0.000001</td>\n",
       "      <td>0.002029</td>\n",
       "      <td>0.000001</td>\n",
       "      <td>0.000061</td>\n",
       "      <td>...</td>\n",
       "      <td>0.068684</td>\n",
       "      <td>0.010022</td>\n",
       "      <td>0.035419</td>\n",
       "      <td>0.839145</td>\n",
       "      <td>0.155727</td>\n",
       "      <td>0.044453</td>\n",
       "      <td>0.019921</td>\n",
       "      <td>0.002576</td>\n",
       "      <td>0.016403</td>\n",
       "      <td>0.041412</td>\n",
       "    </tr>\n",
       "    <tr>\n",
       "      <th>2</th>\n",
       "      <td>2</td>\n",
       "      <td>2018</td>\n",
       "      <td>7</td>\n",
       "      <td>2018-07-11</td>\n",
       "      <td>0.999999</td>\n",
       "      <td>0.000001</td>\n",
       "      <td>0.000001</td>\n",
       "      <td>0.000001</td>\n",
       "      <td>0.000001</td>\n",
       "      <td>0.000002</td>\n",
       "      <td>...</td>\n",
       "      <td>0.003210</td>\n",
       "      <td>0.115791</td>\n",
       "      <td>0.637377</td>\n",
       "      <td>0.038191</td>\n",
       "      <td>0.011190</td>\n",
       "      <td>0.406510</td>\n",
       "      <td>0.956483</td>\n",
       "      <td>0.002576</td>\n",
       "      <td>0.015346</td>\n",
       "      <td>0.310632</td>\n",
       "    </tr>\n",
       "    <tr>\n",
       "      <th>3</th>\n",
       "      <td>3</td>\n",
       "      <td>2018</td>\n",
       "      <td>7</td>\n",
       "      <td>2018-07-11</td>\n",
       "      <td>0.999999</td>\n",
       "      <td>0.000001</td>\n",
       "      <td>0.000001</td>\n",
       "      <td>0.000001</td>\n",
       "      <td>0.000001</td>\n",
       "      <td>0.000002</td>\n",
       "      <td>...</td>\n",
       "      <td>0.029408</td>\n",
       "      <td>0.007410</td>\n",
       "      <td>0.003167</td>\n",
       "      <td>0.049502</td>\n",
       "      <td>0.011193</td>\n",
       "      <td>0.097020</td>\n",
       "      <td>0.007170</td>\n",
       "      <td>0.002570</td>\n",
       "      <td>0.014575</td>\n",
       "      <td>0.040930</td>\n",
       "    </tr>\n",
       "    <tr>\n",
       "      <th>4</th>\n",
       "      <td>4</td>\n",
       "      <td>2018</td>\n",
       "      <td>7</td>\n",
       "      <td>2018-07-11</td>\n",
       "      <td>0.000001</td>\n",
       "      <td>0.999999</td>\n",
       "      <td>0.999999</td>\n",
       "      <td>0.000014</td>\n",
       "      <td>0.000009</td>\n",
       "      <td>0.000002</td>\n",
       "      <td>...</td>\n",
       "      <td>0.001873</td>\n",
       "      <td>0.025470</td>\n",
       "      <td>0.686617</td>\n",
       "      <td>0.019345</td>\n",
       "      <td>0.011193</td>\n",
       "      <td>0.044458</td>\n",
       "      <td>0.155266</td>\n",
       "      <td>0.002580</td>\n",
       "      <td>0.014834</td>\n",
       "      <td>0.999999</td>\n",
       "    </tr>\n",
       "  </tbody>\n",
       "</table>\n",
       "<p>5 rows × 54 columns</p>\n",
       "</div>"
      ],
      "text/plain": [
       "   docID  year  month        date   topic_0   topic_1   topic_2   topic_3  \\\n",
       "0      0  2018      7  2018-07-11  0.999999  0.000001  0.000001  0.000005   \n",
       "1      1  2018      7  2018-07-11  0.000001  0.000001  0.000001  0.002029   \n",
       "2      2  2018      7  2018-07-11  0.999999  0.000001  0.000001  0.000001   \n",
       "3      3  2018      7  2018-07-11  0.999999  0.000001  0.000001  0.000001   \n",
       "4      4  2018      7  2018-07-11  0.000001  0.999999  0.999999  0.000014   \n",
       "\n",
       "    topic_4   topic_5    ...     topic_40  topic_41  topic_42  topic_43  \\\n",
       "0  0.000001  0.000002    ...     0.026924  0.028456  0.852271  0.211457   \n",
       "1  0.000001  0.000061    ...     0.068684  0.010022  0.035419  0.839145   \n",
       "2  0.000001  0.000002    ...     0.003210  0.115791  0.637377  0.038191   \n",
       "3  0.000001  0.000002    ...     0.029408  0.007410  0.003167  0.049502   \n",
       "4  0.000009  0.000002    ...     0.001873  0.025470  0.686617  0.019345   \n",
       "\n",
       "   topic_44  topic_45  topic_46  topic_47  topic_48  topic_49  \n",
       "0  0.045131  0.624973  0.034236  0.002579  0.014549  0.041034  \n",
       "1  0.155727  0.044453  0.019921  0.002576  0.016403  0.041412  \n",
       "2  0.011190  0.406510  0.956483  0.002576  0.015346  0.310632  \n",
       "3  0.011193  0.097020  0.007170  0.002570  0.014575  0.040930  \n",
       "4  0.011193  0.044458  0.155266  0.002580  0.014834  0.999999  \n",
       "\n",
       "[5 rows x 54 columns]"
      ]
     },
     "execution_count": 120,
     "metadata": {},
     "output_type": "execute_result"
    }
   ],
   "source": [
    "# собственно, мерджим по `dicID`\n",
    "df_join=df[['docID','year','month','date']].merge(theta, on='docID')\n",
    "print(df_join.shape)\n",
    "df_join.head()"
   ]
  },
  {
   "cell_type": "code",
   "execution_count": 121,
   "metadata": {},
   "outputs": [
    {
     "name": "stdout",
     "output_type": "stream",
     "text": [
      "(228, 50)\n"
     ]
    },
    {
     "data": {
      "text/html": [
       "<div>\n",
       "<style scoped>\n",
       "    .dataframe tbody tr th:only-of-type {\n",
       "        vertical-align: middle;\n",
       "    }\n",
       "\n",
       "    .dataframe tbody tr th {\n",
       "        vertical-align: top;\n",
       "    }\n",
       "\n",
       "    .dataframe thead th {\n",
       "        text-align: right;\n",
       "    }\n",
       "</style>\n",
       "<table border=\"1\" class=\"dataframe\">\n",
       "  <thead>\n",
       "    <tr style=\"text-align: right;\">\n",
       "      <th></th>\n",
       "      <th></th>\n",
       "      <th>topic_0</th>\n",
       "      <th>topic_1</th>\n",
       "      <th>topic_2</th>\n",
       "      <th>topic_3</th>\n",
       "      <th>topic_4</th>\n",
       "      <th>topic_5</th>\n",
       "      <th>topic_6</th>\n",
       "      <th>topic_7</th>\n",
       "      <th>topic_8</th>\n",
       "      <th>topic_9</th>\n",
       "      <th>...</th>\n",
       "      <th>topic_40</th>\n",
       "      <th>topic_41</th>\n",
       "      <th>topic_42</th>\n",
       "      <th>topic_43</th>\n",
       "      <th>topic_44</th>\n",
       "      <th>topic_45</th>\n",
       "      <th>topic_46</th>\n",
       "      <th>topic_47</th>\n",
       "      <th>topic_48</th>\n",
       "      <th>topic_49</th>\n",
       "    </tr>\n",
       "    <tr>\n",
       "      <th>year</th>\n",
       "      <th>month</th>\n",
       "      <th></th>\n",
       "      <th></th>\n",
       "      <th></th>\n",
       "      <th></th>\n",
       "      <th></th>\n",
       "      <th></th>\n",
       "      <th></th>\n",
       "      <th></th>\n",
       "      <th></th>\n",
       "      <th></th>\n",
       "      <th></th>\n",
       "      <th></th>\n",
       "      <th></th>\n",
       "      <th></th>\n",
       "      <th></th>\n",
       "      <th></th>\n",
       "      <th></th>\n",
       "      <th></th>\n",
       "      <th></th>\n",
       "      <th></th>\n",
       "      <th></th>\n",
       "    </tr>\n",
       "  </thead>\n",
       "  <tbody>\n",
       "    <tr>\n",
       "      <th rowspan=\"5\" valign=\"top\">1999</th>\n",
       "      <th>8</th>\n",
       "      <td>0.000017</td>\n",
       "      <td>1.785671</td>\n",
       "      <td>0.000743</td>\n",
       "      <td>6.313389</td>\n",
       "      <td>1.318865</td>\n",
       "      <td>3.180413</td>\n",
       "      <td>1.187233</td>\n",
       "      <td>0.244435</td>\n",
       "      <td>3.956379</td>\n",
       "      <td>2.714560</td>\n",
       "      <td>...</td>\n",
       "      <td>3.637755</td>\n",
       "      <td>8.707718</td>\n",
       "      <td>4.299976</td>\n",
       "      <td>7.280093</td>\n",
       "      <td>6.379984</td>\n",
       "      <td>10.390122</td>\n",
       "      <td>4.436177</td>\n",
       "      <td>1.301719</td>\n",
       "      <td>3.473458</td>\n",
       "      <td>3.950631</td>\n",
       "    </tr>\n",
       "    <tr>\n",
       "      <th>9</th>\n",
       "      <td>15.963680</td>\n",
       "      <td>29.896324</td>\n",
       "      <td>44.226029</td>\n",
       "      <td>209.609378</td>\n",
       "      <td>45.404466</td>\n",
       "      <td>57.240158</td>\n",
       "      <td>53.045613</td>\n",
       "      <td>66.461574</td>\n",
       "      <td>124.223134</td>\n",
       "      <td>64.449561</td>\n",
       "      <td>...</td>\n",
       "      <td>137.072673</td>\n",
       "      <td>227.442131</td>\n",
       "      <td>163.356348</td>\n",
       "      <td>181.424657</td>\n",
       "      <td>185.622770</td>\n",
       "      <td>222.624015</td>\n",
       "      <td>111.973678</td>\n",
       "      <td>27.197095</td>\n",
       "      <td>78.144858</td>\n",
       "      <td>98.547576</td>\n",
       "    </tr>\n",
       "    <tr>\n",
       "      <th>10</th>\n",
       "      <td>11.753802</td>\n",
       "      <td>23.502189</td>\n",
       "      <td>65.046677</td>\n",
       "      <td>131.332231</td>\n",
       "      <td>40.954462</td>\n",
       "      <td>51.555751</td>\n",
       "      <td>96.700797</td>\n",
       "      <td>70.669025</td>\n",
       "      <td>114.411413</td>\n",
       "      <td>87.648342</td>\n",
       "      <td>...</td>\n",
       "      <td>145.857737</td>\n",
       "      <td>264.193963</td>\n",
       "      <td>203.597297</td>\n",
       "      <td>232.134306</td>\n",
       "      <td>209.791488</td>\n",
       "      <td>297.660412</td>\n",
       "      <td>193.087086</td>\n",
       "      <td>43.905211</td>\n",
       "      <td>86.451270</td>\n",
       "      <td>136.635307</td>\n",
       "    </tr>\n",
       "    <tr>\n",
       "      <th>11</th>\n",
       "      <td>7.716009</td>\n",
       "      <td>15.247730</td>\n",
       "      <td>86.427642</td>\n",
       "      <td>152.205225</td>\n",
       "      <td>46.362591</td>\n",
       "      <td>70.700725</td>\n",
       "      <td>102.484933</td>\n",
       "      <td>83.649654</td>\n",
       "      <td>136.450604</td>\n",
       "      <td>149.278969</td>\n",
       "      <td>...</td>\n",
       "      <td>200.501585</td>\n",
       "      <td>345.926841</td>\n",
       "      <td>260.539588</td>\n",
       "      <td>283.092323</td>\n",
       "      <td>258.317115</td>\n",
       "      <td>380.819073</td>\n",
       "      <td>227.054818</td>\n",
       "      <td>51.970694</td>\n",
       "      <td>127.921277</td>\n",
       "      <td>172.326397</td>\n",
       "    </tr>\n",
       "    <tr>\n",
       "      <th>12</th>\n",
       "      <td>12.122368</td>\n",
       "      <td>27.685912</td>\n",
       "      <td>103.381747</td>\n",
       "      <td>201.552420</td>\n",
       "      <td>37.156870</td>\n",
       "      <td>71.020335</td>\n",
       "      <td>78.860703</td>\n",
       "      <td>67.421542</td>\n",
       "      <td>156.116816</td>\n",
       "      <td>143.169943</td>\n",
       "      <td>...</td>\n",
       "      <td>159.281738</td>\n",
       "      <td>365.153773</td>\n",
       "      <td>230.381538</td>\n",
       "      <td>286.513063</td>\n",
       "      <td>251.665630</td>\n",
       "      <td>401.282372</td>\n",
       "      <td>230.489353</td>\n",
       "      <td>41.829195</td>\n",
       "      <td>124.962077</td>\n",
       "      <td>151.321204</td>\n",
       "    </tr>\n",
       "    <tr>\n",
       "      <th rowspan=\"5\" valign=\"top\">2000</th>\n",
       "      <th>1</th>\n",
       "      <td>10.739747</td>\n",
       "      <td>23.946982</td>\n",
       "      <td>61.174917</td>\n",
       "      <td>147.164734</td>\n",
       "      <td>36.375583</td>\n",
       "      <td>43.101534</td>\n",
       "      <td>58.482174</td>\n",
       "      <td>44.909907</td>\n",
       "      <td>96.180668</td>\n",
       "      <td>80.279052</td>\n",
       "      <td>...</td>\n",
       "      <td>122.818034</td>\n",
       "      <td>240.290639</td>\n",
       "      <td>167.783452</td>\n",
       "      <td>189.988217</td>\n",
       "      <td>171.592209</td>\n",
       "      <td>287.388657</td>\n",
       "      <td>181.200369</td>\n",
       "      <td>38.471040</td>\n",
       "      <td>97.452941</td>\n",
       "      <td>110.992954</td>\n",
       "    </tr>\n",
       "    <tr>\n",
       "      <th>2</th>\n",
       "      <td>48.875681</td>\n",
       "      <td>36.512677</td>\n",
       "      <td>76.980421</td>\n",
       "      <td>202.537523</td>\n",
       "      <td>26.340802</td>\n",
       "      <td>87.935643</td>\n",
       "      <td>76.365806</td>\n",
       "      <td>92.105291</td>\n",
       "      <td>179.061126</td>\n",
       "      <td>117.213665</td>\n",
       "      <td>...</td>\n",
       "      <td>167.504742</td>\n",
       "      <td>303.441643</td>\n",
       "      <td>221.474840</td>\n",
       "      <td>260.559467</td>\n",
       "      <td>222.808231</td>\n",
       "      <td>363.942186</td>\n",
       "      <td>236.935096</td>\n",
       "      <td>44.667691</td>\n",
       "      <td>112.679096</td>\n",
       "      <td>162.552958</td>\n",
       "    </tr>\n",
       "    <tr>\n",
       "      <th>3</th>\n",
       "      <td>94.189114</td>\n",
       "      <td>38.546991</td>\n",
       "      <td>93.199631</td>\n",
       "      <td>263.191707</td>\n",
       "      <td>33.199618</td>\n",
       "      <td>71.389261</td>\n",
       "      <td>96.059554</td>\n",
       "      <td>80.962865</td>\n",
       "      <td>204.026068</td>\n",
       "      <td>114.762421</td>\n",
       "      <td>...</td>\n",
       "      <td>181.770764</td>\n",
       "      <td>310.423874</td>\n",
       "      <td>235.807591</td>\n",
       "      <td>301.896725</td>\n",
       "      <td>227.023563</td>\n",
       "      <td>425.099728</td>\n",
       "      <td>218.194170</td>\n",
       "      <td>45.222810</td>\n",
       "      <td>110.076631</td>\n",
       "      <td>189.044049</td>\n",
       "    </tr>\n",
       "    <tr>\n",
       "      <th>4</th>\n",
       "      <td>86.030265</td>\n",
       "      <td>30.027165</td>\n",
       "      <td>82.340287</td>\n",
       "      <td>259.786689</td>\n",
       "      <td>47.133777</td>\n",
       "      <td>86.402268</td>\n",
       "      <td>89.636113</td>\n",
       "      <td>68.821598</td>\n",
       "      <td>248.263071</td>\n",
       "      <td>118.783722</td>\n",
       "      <td>...</td>\n",
       "      <td>153.775248</td>\n",
       "      <td>275.053956</td>\n",
       "      <td>200.567180</td>\n",
       "      <td>259.246770</td>\n",
       "      <td>234.879545</td>\n",
       "      <td>386.494933</td>\n",
       "      <td>204.005790</td>\n",
       "      <td>48.907279</td>\n",
       "      <td>110.396943</td>\n",
       "      <td>173.092250</td>\n",
       "    </tr>\n",
       "    <tr>\n",
       "      <th>5</th>\n",
       "      <td>72.001525</td>\n",
       "      <td>29.174174</td>\n",
       "      <td>75.559246</td>\n",
       "      <td>306.606193</td>\n",
       "      <td>35.681976</td>\n",
       "      <td>72.172205</td>\n",
       "      <td>75.895911</td>\n",
       "      <td>68.856082</td>\n",
       "      <td>241.350280</td>\n",
       "      <td>108.053838</td>\n",
       "      <td>...</td>\n",
       "      <td>133.716128</td>\n",
       "      <td>260.171947</td>\n",
       "      <td>171.710036</td>\n",
       "      <td>252.418726</td>\n",
       "      <td>229.794862</td>\n",
       "      <td>369.444659</td>\n",
       "      <td>185.175935</td>\n",
       "      <td>35.306407</td>\n",
       "      <td>107.252537</td>\n",
       "      <td>170.339145</td>\n",
       "    </tr>\n",
       "  </tbody>\n",
       "</table>\n",
       "<p>10 rows × 50 columns</p>\n",
       "</div>"
      ],
      "text/plain": [
       "              topic_0    topic_1     topic_2     topic_3    topic_4  \\\n",
       "year month                                                            \n",
       "1999 8       0.000017   1.785671    0.000743    6.313389   1.318865   \n",
       "     9      15.963680  29.896324   44.226029  209.609378  45.404466   \n",
       "     10     11.753802  23.502189   65.046677  131.332231  40.954462   \n",
       "     11      7.716009  15.247730   86.427642  152.205225  46.362591   \n",
       "     12     12.122368  27.685912  103.381747  201.552420  37.156870   \n",
       "2000 1      10.739747  23.946982   61.174917  147.164734  36.375583   \n",
       "     2      48.875681  36.512677   76.980421  202.537523  26.340802   \n",
       "     3      94.189114  38.546991   93.199631  263.191707  33.199618   \n",
       "     4      86.030265  30.027165   82.340287  259.786689  47.133777   \n",
       "     5      72.001525  29.174174   75.559246  306.606193  35.681976   \n",
       "\n",
       "              topic_5     topic_6    topic_7     topic_8     topic_9  \\\n",
       "year month                                                             \n",
       "1999 8       3.180413    1.187233   0.244435    3.956379    2.714560   \n",
       "     9      57.240158   53.045613  66.461574  124.223134   64.449561   \n",
       "     10     51.555751   96.700797  70.669025  114.411413   87.648342   \n",
       "     11     70.700725  102.484933  83.649654  136.450604  149.278969   \n",
       "     12     71.020335   78.860703  67.421542  156.116816  143.169943   \n",
       "2000 1      43.101534   58.482174  44.909907   96.180668   80.279052   \n",
       "     2      87.935643   76.365806  92.105291  179.061126  117.213665   \n",
       "     3      71.389261   96.059554  80.962865  204.026068  114.762421   \n",
       "     4      86.402268   89.636113  68.821598  248.263071  118.783722   \n",
       "     5      72.172205   75.895911  68.856082  241.350280  108.053838   \n",
       "\n",
       "               ...        topic_40    topic_41    topic_42    topic_43  \\\n",
       "year month     ...                                                       \n",
       "1999 8         ...        3.637755    8.707718    4.299976    7.280093   \n",
       "     9         ...      137.072673  227.442131  163.356348  181.424657   \n",
       "     10        ...      145.857737  264.193963  203.597297  232.134306   \n",
       "     11        ...      200.501585  345.926841  260.539588  283.092323   \n",
       "     12        ...      159.281738  365.153773  230.381538  286.513063   \n",
       "2000 1         ...      122.818034  240.290639  167.783452  189.988217   \n",
       "     2         ...      167.504742  303.441643  221.474840  260.559467   \n",
       "     3         ...      181.770764  310.423874  235.807591  301.896725   \n",
       "     4         ...      153.775248  275.053956  200.567180  259.246770   \n",
       "     5         ...      133.716128  260.171947  171.710036  252.418726   \n",
       "\n",
       "              topic_44    topic_45    topic_46   topic_47    topic_48  \\\n",
       "year month                                                              \n",
       "1999 8        6.379984   10.390122    4.436177   1.301719    3.473458   \n",
       "     9      185.622770  222.624015  111.973678  27.197095   78.144858   \n",
       "     10     209.791488  297.660412  193.087086  43.905211   86.451270   \n",
       "     11     258.317115  380.819073  227.054818  51.970694  127.921277   \n",
       "     12     251.665630  401.282372  230.489353  41.829195  124.962077   \n",
       "2000 1      171.592209  287.388657  181.200369  38.471040   97.452941   \n",
       "     2      222.808231  363.942186  236.935096  44.667691  112.679096   \n",
       "     3      227.023563  425.099728  218.194170  45.222810  110.076631   \n",
       "     4      234.879545  386.494933  204.005790  48.907279  110.396943   \n",
       "     5      229.794862  369.444659  185.175935  35.306407  107.252537   \n",
       "\n",
       "              topic_49  \n",
       "year month              \n",
       "1999 8        3.950631  \n",
       "     9       98.547576  \n",
       "     10     136.635307  \n",
       "     11     172.326397  \n",
       "     12     151.321204  \n",
       "2000 1      110.992954  \n",
       "     2      162.552958  \n",
       "     3      189.044049  \n",
       "     4      173.092250  \n",
       "     5      170.339145  \n",
       "\n",
       "[10 rows x 50 columns]"
      ]
     },
     "execution_count": 121,
     "metadata": {},
     "output_type": "execute_result"
    }
   ],
   "source": [
    "# групируем по годам и месяцам, суммируя P()\n",
    "gb = df_join.groupby(['year', 'month'])[new_names].sum()\n",
    "print(gb.shape)\n",
    "gb.head(10)"
   ]
  },
  {
   "cell_type": "code",
   "execution_count": 122,
   "metadata": {},
   "outputs": [
    {
     "data": {
      "text/html": [
       "<div>\n",
       "<style scoped>\n",
       "    .dataframe tbody tr th:only-of-type {\n",
       "        vertical-align: middle;\n",
       "    }\n",
       "\n",
       "    .dataframe tbody tr th {\n",
       "        vertical-align: top;\n",
       "    }\n",
       "\n",
       "    .dataframe thead th {\n",
       "        text-align: right;\n",
       "    }\n",
       "</style>\n",
       "<table border=\"1\" class=\"dataframe\">\n",
       "  <thead>\n",
       "    <tr style=\"text-align: right;\">\n",
       "      <th></th>\n",
       "      <th></th>\n",
       "      <th>topic_0</th>\n",
       "      <th>topic_1</th>\n",
       "      <th>topic_2</th>\n",
       "      <th>topic_3</th>\n",
       "      <th>topic_4</th>\n",
       "      <th>topic_5</th>\n",
       "      <th>topic_6</th>\n",
       "      <th>topic_7</th>\n",
       "      <th>topic_8</th>\n",
       "      <th>topic_9</th>\n",
       "      <th>...</th>\n",
       "      <th>topic_40</th>\n",
       "      <th>topic_41</th>\n",
       "      <th>topic_42</th>\n",
       "      <th>topic_43</th>\n",
       "      <th>topic_44</th>\n",
       "      <th>topic_45</th>\n",
       "      <th>topic_46</th>\n",
       "      <th>topic_47</th>\n",
       "      <th>topic_48</th>\n",
       "      <th>topic_49</th>\n",
       "    </tr>\n",
       "    <tr>\n",
       "      <th>year</th>\n",
       "      <th>month</th>\n",
       "      <th></th>\n",
       "      <th></th>\n",
       "      <th></th>\n",
       "      <th></th>\n",
       "      <th></th>\n",
       "      <th></th>\n",
       "      <th></th>\n",
       "      <th></th>\n",
       "      <th></th>\n",
       "      <th></th>\n",
       "      <th></th>\n",
       "      <th></th>\n",
       "      <th></th>\n",
       "      <th></th>\n",
       "      <th></th>\n",
       "      <th></th>\n",
       "      <th></th>\n",
       "      <th></th>\n",
       "      <th></th>\n",
       "      <th></th>\n",
       "      <th></th>\n",
       "    </tr>\n",
       "  </thead>\n",
       "  <tbody>\n",
       "    <tr>\n",
       "      <th>2017</th>\n",
       "      <th>12</th>\n",
       "      <td>447.794411</td>\n",
       "      <td>440.215459</td>\n",
       "      <td>451.279510</td>\n",
       "      <td>549.843111</td>\n",
       "      <td>305.942771</td>\n",
       "      <td>244.805820</td>\n",
       "      <td>327.659305</td>\n",
       "      <td>306.815613</td>\n",
       "      <td>512.956485</td>\n",
       "      <td>378.134873</td>\n",
       "      <td>...</td>\n",
       "      <td>455.660892</td>\n",
       "      <td>896.798718</td>\n",
       "      <td>959.217574</td>\n",
       "      <td>738.003498</td>\n",
       "      <td>577.168996</td>\n",
       "      <td>1148.263585</td>\n",
       "      <td>1068.552186</td>\n",
       "      <td>171.052586</td>\n",
       "      <td>336.776769</td>\n",
       "      <td>612.349362</td>\n",
       "    </tr>\n",
       "    <tr>\n",
       "      <th rowspan=\"7\" valign=\"top\">2018</th>\n",
       "      <th>1</th>\n",
       "      <td>423.776583</td>\n",
       "      <td>409.121729</td>\n",
       "      <td>382.800653</td>\n",
       "      <td>510.142697</td>\n",
       "      <td>300.038696</td>\n",
       "      <td>295.961573</td>\n",
       "      <td>268.924110</td>\n",
       "      <td>305.565411</td>\n",
       "      <td>348.574905</td>\n",
       "      <td>276.300170</td>\n",
       "      <td>...</td>\n",
       "      <td>427.689240</td>\n",
       "      <td>908.857273</td>\n",
       "      <td>854.118936</td>\n",
       "      <td>634.377261</td>\n",
       "      <td>541.035413</td>\n",
       "      <td>953.796295</td>\n",
       "      <td>1093.383355</td>\n",
       "      <td>150.870891</td>\n",
       "      <td>325.196904</td>\n",
       "      <td>476.225822</td>\n",
       "    </tr>\n",
       "    <tr>\n",
       "      <th>2</th>\n",
       "      <td>483.696738</td>\n",
       "      <td>362.446114</td>\n",
       "      <td>441.189529</td>\n",
       "      <td>530.072347</td>\n",
       "      <td>326.136789</td>\n",
       "      <td>372.724626</td>\n",
       "      <td>271.288221</td>\n",
       "      <td>331.869831</td>\n",
       "      <td>454.191043</td>\n",
       "      <td>412.152595</td>\n",
       "      <td>...</td>\n",
       "      <td>455.541297</td>\n",
       "      <td>987.860212</td>\n",
       "      <td>1012.746765</td>\n",
       "      <td>690.343877</td>\n",
       "      <td>638.547528</td>\n",
       "      <td>1042.882136</td>\n",
       "      <td>1048.188352</td>\n",
       "      <td>164.254970</td>\n",
       "      <td>345.385349</td>\n",
       "      <td>535.501292</td>\n",
       "    </tr>\n",
       "    <tr>\n",
       "      <th>3</th>\n",
       "      <td>423.971248</td>\n",
       "      <td>355.225727</td>\n",
       "      <td>369.738458</td>\n",
       "      <td>664.368240</td>\n",
       "      <td>351.937300</td>\n",
       "      <td>292.064811</td>\n",
       "      <td>264.479170</td>\n",
       "      <td>220.938217</td>\n",
       "      <td>532.601716</td>\n",
       "      <td>378.578167</td>\n",
       "      <td>...</td>\n",
       "      <td>577.173815</td>\n",
       "      <td>1027.905006</td>\n",
       "      <td>961.691677</td>\n",
       "      <td>806.784089</td>\n",
       "      <td>741.556605</td>\n",
       "      <td>1162.235085</td>\n",
       "      <td>845.604635</td>\n",
       "      <td>169.708788</td>\n",
       "      <td>380.234732</td>\n",
       "      <td>529.728957</td>\n",
       "    </tr>\n",
       "    <tr>\n",
       "      <th>4</th>\n",
       "      <td>399.550024</td>\n",
       "      <td>371.695148</td>\n",
       "      <td>431.289251</td>\n",
       "      <td>566.281436</td>\n",
       "      <td>369.262962</td>\n",
       "      <td>323.562722</td>\n",
       "      <td>284.016125</td>\n",
       "      <td>341.214834</td>\n",
       "      <td>410.046761</td>\n",
       "      <td>381.701211</td>\n",
       "      <td>...</td>\n",
       "      <td>586.318930</td>\n",
       "      <td>1079.300190</td>\n",
       "      <td>974.791717</td>\n",
       "      <td>874.852432</td>\n",
       "      <td>740.621139</td>\n",
       "      <td>1154.003484</td>\n",
       "      <td>806.106567</td>\n",
       "      <td>271.677092</td>\n",
       "      <td>376.730672</td>\n",
       "      <td>463.076918</td>\n",
       "    </tr>\n",
       "    <tr>\n",
       "      <th>5</th>\n",
       "      <td>436.620980</td>\n",
       "      <td>396.075396</td>\n",
       "      <td>387.076836</td>\n",
       "      <td>597.111326</td>\n",
       "      <td>305.671876</td>\n",
       "      <td>325.635994</td>\n",
       "      <td>311.346764</td>\n",
       "      <td>326.709228</td>\n",
       "      <td>434.919419</td>\n",
       "      <td>366.632145</td>\n",
       "      <td>...</td>\n",
       "      <td>609.895195</td>\n",
       "      <td>1021.461753</td>\n",
       "      <td>1000.784362</td>\n",
       "      <td>807.782620</td>\n",
       "      <td>749.512619</td>\n",
       "      <td>1173.785186</td>\n",
       "      <td>898.592187</td>\n",
       "      <td>228.679019</td>\n",
       "      <td>366.596885</td>\n",
       "      <td>500.455356</td>\n",
       "    </tr>\n",
       "    <tr>\n",
       "      <th>6</th>\n",
       "      <td>609.787981</td>\n",
       "      <td>374.785864</td>\n",
       "      <td>342.091964</td>\n",
       "      <td>503.969924</td>\n",
       "      <td>300.830833</td>\n",
       "      <td>280.336797</td>\n",
       "      <td>281.136201</td>\n",
       "      <td>431.249005</td>\n",
       "      <td>390.066846</td>\n",
       "      <td>333.540076</td>\n",
       "      <td>...</td>\n",
       "      <td>618.997641</td>\n",
       "      <td>997.542226</td>\n",
       "      <td>982.065656</td>\n",
       "      <td>716.891357</td>\n",
       "      <td>632.903034</td>\n",
       "      <td>1107.278677</td>\n",
       "      <td>857.874767</td>\n",
       "      <td>200.119899</td>\n",
       "      <td>338.474051</td>\n",
       "      <td>492.141470</td>\n",
       "    </tr>\n",
       "    <tr>\n",
       "      <th>7</th>\n",
       "      <td>470.575617</td>\n",
       "      <td>228.591238</td>\n",
       "      <td>247.171112</td>\n",
       "      <td>404.405718</td>\n",
       "      <td>238.197865</td>\n",
       "      <td>215.893644</td>\n",
       "      <td>233.270354</td>\n",
       "      <td>188.704926</td>\n",
       "      <td>294.934627</td>\n",
       "      <td>254.663991</td>\n",
       "      <td>...</td>\n",
       "      <td>437.273519</td>\n",
       "      <td>736.318663</td>\n",
       "      <td>704.355173</td>\n",
       "      <td>563.120081</td>\n",
       "      <td>491.336585</td>\n",
       "      <td>775.017815</td>\n",
       "      <td>616.285447</td>\n",
       "      <td>133.079744</td>\n",
       "      <td>254.650633</td>\n",
       "      <td>398.563549</td>\n",
       "    </tr>\n",
       "  </tbody>\n",
       "</table>\n",
       "<p>8 rows × 50 columns</p>\n",
       "</div>"
      ],
      "text/plain": [
       "               topic_0     topic_1     topic_2     topic_3     topic_4  \\\n",
       "year month                                                               \n",
       "2017 12     447.794411  440.215459  451.279510  549.843111  305.942771   \n",
       "2018 1      423.776583  409.121729  382.800653  510.142697  300.038696   \n",
       "     2      483.696738  362.446114  441.189529  530.072347  326.136789   \n",
       "     3      423.971248  355.225727  369.738458  664.368240  351.937300   \n",
       "     4      399.550024  371.695148  431.289251  566.281436  369.262962   \n",
       "     5      436.620980  396.075396  387.076836  597.111326  305.671876   \n",
       "     6      609.787981  374.785864  342.091964  503.969924  300.830833   \n",
       "     7      470.575617  228.591238  247.171112  404.405718  238.197865   \n",
       "\n",
       "               topic_5     topic_6     topic_7     topic_8     topic_9  \\\n",
       "year month                                                               \n",
       "2017 12     244.805820  327.659305  306.815613  512.956485  378.134873   \n",
       "2018 1      295.961573  268.924110  305.565411  348.574905  276.300170   \n",
       "     2      372.724626  271.288221  331.869831  454.191043  412.152595   \n",
       "     3      292.064811  264.479170  220.938217  532.601716  378.578167   \n",
       "     4      323.562722  284.016125  341.214834  410.046761  381.701211   \n",
       "     5      325.635994  311.346764  326.709228  434.919419  366.632145   \n",
       "     6      280.336797  281.136201  431.249005  390.066846  333.540076   \n",
       "     7      215.893644  233.270354  188.704926  294.934627  254.663991   \n",
       "\n",
       "               ...        topic_40     topic_41     topic_42    topic_43  \\\n",
       "year month     ...                                                         \n",
       "2017 12        ...      455.660892   896.798718   959.217574  738.003498   \n",
       "2018 1         ...      427.689240   908.857273   854.118936  634.377261   \n",
       "     2         ...      455.541297   987.860212  1012.746765  690.343877   \n",
       "     3         ...      577.173815  1027.905006   961.691677  806.784089   \n",
       "     4         ...      586.318930  1079.300190   974.791717  874.852432   \n",
       "     5         ...      609.895195  1021.461753  1000.784362  807.782620   \n",
       "     6         ...      618.997641   997.542226   982.065656  716.891357   \n",
       "     7         ...      437.273519   736.318663   704.355173  563.120081   \n",
       "\n",
       "              topic_44     topic_45     topic_46    topic_47    topic_48  \\\n",
       "year month                                                                 \n",
       "2017 12     577.168996  1148.263585  1068.552186  171.052586  336.776769   \n",
       "2018 1      541.035413   953.796295  1093.383355  150.870891  325.196904   \n",
       "     2      638.547528  1042.882136  1048.188352  164.254970  345.385349   \n",
       "     3      741.556605  1162.235085   845.604635  169.708788  380.234732   \n",
       "     4      740.621139  1154.003484   806.106567  271.677092  376.730672   \n",
       "     5      749.512619  1173.785186   898.592187  228.679019  366.596885   \n",
       "     6      632.903034  1107.278677   857.874767  200.119899  338.474051   \n",
       "     7      491.336585   775.017815   616.285447  133.079744  254.650633   \n",
       "\n",
       "              topic_49  \n",
       "year month              \n",
       "2017 12     612.349362  \n",
       "2018 1      476.225822  \n",
       "     2      535.501292  \n",
       "     3      529.728957  \n",
       "     4      463.076918  \n",
       "     5      500.455356  \n",
       "     6      492.141470  \n",
       "     7      398.563549  \n",
       "\n",
       "[8 rows x 50 columns]"
      ]
     },
     "execution_count": 122,
     "metadata": {},
     "output_type": "execute_result"
    }
   ],
   "source": [
    "gb.tail(8)"
   ]
  },
  {
   "cell_type": "code",
   "execution_count": 123,
   "metadata": {
    "scrolled": false
   },
   "outputs": [
    {
     "data": {
      "text/plain": [
       "<matplotlib.image.AxesImage at 0x3ae348630>"
      ]
     },
     "execution_count": 123,
     "metadata": {},
     "output_type": "execute_result"
    },
    {
     "data": {
      "image/png": "[encoded data removed]",
      "text/plain": [
       "<matplotlib.figure.Figure at 0x399cc5cf8>"
      ]
     },
     "metadata": {},
     "output_type": "display_data"
    }
   ],
   "source": [
    "# отрисовываем Straightforward matrix heatmap\n",
    "plt.figure(figsize=(10, 20))\n",
    "plt.imshow(gb[new_names])"
   ]
  },
  {
   "cell_type": "markdown",
   "metadata": {},
   "source": [
    "### рисуем через `Pygal` & `Plotly`"
   ]
  },
  {
   "cell_type": "code",
   "execution_count": 125,
   "metadata": {},
   "outputs": [
    {
     "name": "stdout",
     "output_type": "stream",
     "text": [
      "(228, 52)\n"
     ]
    },
    {
     "data": {
      "text/html": [
       "<div>\n",
       "<style scoped>\n",
       "    .dataframe tbody tr th:only-of-type {\n",
       "        vertical-align: middle;\n",
       "    }\n",
       "\n",
       "    .dataframe tbody tr th {\n",
       "        vertical-align: top;\n",
       "    }\n",
       "\n",
       "    .dataframe thead th {\n",
       "        text-align: right;\n",
       "    }\n",
       "</style>\n",
       "<table border=\"1\" class=\"dataframe\">\n",
       "  <thead>\n",
       "    <tr style=\"text-align: right;\">\n",
       "      <th></th>\n",
       "      <th>year</th>\n",
       "      <th>month</th>\n",
       "      <th>topic_0</th>\n",
       "      <th>topic_1</th>\n",
       "      <th>topic_2</th>\n",
       "      <th>topic_3</th>\n",
       "      <th>topic_4</th>\n",
       "      <th>topic_5</th>\n",
       "      <th>topic_6</th>\n",
       "      <th>topic_7</th>\n",
       "      <th>...</th>\n",
       "      <th>topic_40</th>\n",
       "      <th>topic_41</th>\n",
       "      <th>topic_42</th>\n",
       "      <th>topic_43</th>\n",
       "      <th>topic_44</th>\n",
       "      <th>topic_45</th>\n",
       "      <th>topic_46</th>\n",
       "      <th>topic_47</th>\n",
       "      <th>topic_48</th>\n",
       "      <th>topic_49</th>\n",
       "    </tr>\n",
       "  </thead>\n",
       "  <tbody>\n",
       "    <tr>\n",
       "      <th>0</th>\n",
       "      <td>1999</td>\n",
       "      <td>8</td>\n",
       "      <td>0.000017</td>\n",
       "      <td>1.785671</td>\n",
       "      <td>0.000743</td>\n",
       "      <td>6.313389</td>\n",
       "      <td>1.318865</td>\n",
       "      <td>3.180413</td>\n",
       "      <td>1.187233</td>\n",
       "      <td>0.244435</td>\n",
       "      <td>...</td>\n",
       "      <td>3.637755</td>\n",
       "      <td>8.707718</td>\n",
       "      <td>4.299976</td>\n",
       "      <td>7.280093</td>\n",
       "      <td>6.379984</td>\n",
       "      <td>10.390122</td>\n",
       "      <td>4.436177</td>\n",
       "      <td>1.301719</td>\n",
       "      <td>3.473458</td>\n",
       "      <td>3.950631</td>\n",
       "    </tr>\n",
       "    <tr>\n",
       "      <th>1</th>\n",
       "      <td>1999</td>\n",
       "      <td>9</td>\n",
       "      <td>15.963680</td>\n",
       "      <td>29.896324</td>\n",
       "      <td>44.226029</td>\n",
       "      <td>209.609378</td>\n",
       "      <td>45.404466</td>\n",
       "      <td>57.240158</td>\n",
       "      <td>53.045613</td>\n",
       "      <td>66.461574</td>\n",
       "      <td>...</td>\n",
       "      <td>137.072673</td>\n",
       "      <td>227.442131</td>\n",
       "      <td>163.356348</td>\n",
       "      <td>181.424657</td>\n",
       "      <td>185.622770</td>\n",
       "      <td>222.624015</td>\n",
       "      <td>111.973678</td>\n",
       "      <td>27.197095</td>\n",
       "      <td>78.144858</td>\n",
       "      <td>98.547576</td>\n",
       "    </tr>\n",
       "    <tr>\n",
       "      <th>2</th>\n",
       "      <td>1999</td>\n",
       "      <td>10</td>\n",
       "      <td>11.753802</td>\n",
       "      <td>23.502189</td>\n",
       "      <td>65.046677</td>\n",
       "      <td>131.332231</td>\n",
       "      <td>40.954462</td>\n",
       "      <td>51.555751</td>\n",
       "      <td>96.700797</td>\n",
       "      <td>70.669025</td>\n",
       "      <td>...</td>\n",
       "      <td>145.857737</td>\n",
       "      <td>264.193963</td>\n",
       "      <td>203.597297</td>\n",
       "      <td>232.134306</td>\n",
       "      <td>209.791488</td>\n",
       "      <td>297.660412</td>\n",
       "      <td>193.087086</td>\n",
       "      <td>43.905211</td>\n",
       "      <td>86.451270</td>\n",
       "      <td>136.635307</td>\n",
       "    </tr>\n",
       "    <tr>\n",
       "      <th>3</th>\n",
       "      <td>1999</td>\n",
       "      <td>11</td>\n",
       "      <td>7.716009</td>\n",
       "      <td>15.247730</td>\n",
       "      <td>86.427642</td>\n",
       "      <td>152.205225</td>\n",
       "      <td>46.362591</td>\n",
       "      <td>70.700725</td>\n",
       "      <td>102.484933</td>\n",
       "      <td>83.649654</td>\n",
       "      <td>...</td>\n",
       "      <td>200.501585</td>\n",
       "      <td>345.926841</td>\n",
       "      <td>260.539588</td>\n",
       "      <td>283.092323</td>\n",
       "      <td>258.317115</td>\n",
       "      <td>380.819073</td>\n",
       "      <td>227.054818</td>\n",
       "      <td>51.970694</td>\n",
       "      <td>127.921277</td>\n",
       "      <td>172.326397</td>\n",
       "    </tr>\n",
       "    <tr>\n",
       "      <th>4</th>\n",
       "      <td>1999</td>\n",
       "      <td>12</td>\n",
       "      <td>12.122368</td>\n",
       "      <td>27.685912</td>\n",
       "      <td>103.381747</td>\n",
       "      <td>201.552420</td>\n",
       "      <td>37.156870</td>\n",
       "      <td>71.020335</td>\n",
       "      <td>78.860703</td>\n",
       "      <td>67.421542</td>\n",
       "      <td>...</td>\n",
       "      <td>159.281738</td>\n",
       "      <td>365.153773</td>\n",
       "      <td>230.381538</td>\n",
       "      <td>286.513063</td>\n",
       "      <td>251.665630</td>\n",
       "      <td>401.282372</td>\n",
       "      <td>230.489353</td>\n",
       "      <td>41.829195</td>\n",
       "      <td>124.962077</td>\n",
       "      <td>151.321204</td>\n",
       "    </tr>\n",
       "  </tbody>\n",
       "</table>\n",
       "<p>5 rows × 52 columns</p>\n",
       "</div>"
      ],
      "text/plain": [
       "   year  month    topic_0    topic_1     topic_2     topic_3    topic_4  \\\n",
       "0  1999      8   0.000017   1.785671    0.000743    6.313389   1.318865   \n",
       "1  1999      9  15.963680  29.896324   44.226029  209.609378  45.404466   \n",
       "2  1999     10  11.753802  23.502189   65.046677  131.332231  40.954462   \n",
       "3  1999     11   7.716009  15.247730   86.427642  152.205225  46.362591   \n",
       "4  1999     12  12.122368  27.685912  103.381747  201.552420  37.156870   \n",
       "\n",
       "     topic_5     topic_6    topic_7     ...        topic_40    topic_41  \\\n",
       "0   3.180413    1.187233   0.244435     ...        3.637755    8.707718   \n",
       "1  57.240158   53.045613  66.461574     ...      137.072673  227.442131   \n",
       "2  51.555751   96.700797  70.669025     ...      145.857737  264.193963   \n",
       "3  70.700725  102.484933  83.649654     ...      200.501585  345.926841   \n",
       "4  71.020335   78.860703  67.421542     ...      159.281738  365.153773   \n",
       "\n",
       "     topic_42    topic_43    topic_44    topic_45    topic_46   topic_47  \\\n",
       "0    4.299976    7.280093    6.379984   10.390122    4.436177   1.301719   \n",
       "1  163.356348  181.424657  185.622770  222.624015  111.973678  27.197095   \n",
       "2  203.597297  232.134306  209.791488  297.660412  193.087086  43.905211   \n",
       "3  260.539588  283.092323  258.317115  380.819073  227.054818  51.970694   \n",
       "4  230.381538  286.513063  251.665630  401.282372  230.489353  41.829195   \n",
       "\n",
       "     topic_48    topic_49  \n",
       "0    3.473458    3.950631  \n",
       "1   78.144858   98.547576  \n",
       "2   86.451270  136.635307  \n",
       "3  127.921277  172.326397  \n",
       "4  124.962077  151.321204  \n",
       "\n",
       "[5 rows x 52 columns]"
      ]
     },
     "execution_count": 125,
     "metadata": {},
     "output_type": "execute_result"
    }
   ],
   "source": [
    "# для дальнейших графиков, готовим датасет - в каждой строке: год, месяц, P() топиков\n",
    "gb_reset_index=gb.reset_index()\n",
    "print(gb_reset_index.shape)\n",
    "gb_reset_index.head()"
   ]
  },
  {
   "cell_type": "code",
   "execution_count": 126,
   "metadata": {
    "scrolled": true
   },
   "outputs": [
    {
     "data": {
      "text/html": [
       "<div>\n",
       "<style scoped>\n",
       "    .dataframe tbody tr th:only-of-type {\n",
       "        vertical-align: middle;\n",
       "    }\n",
       "\n",
       "    .dataframe tbody tr th {\n",
       "        vertical-align: top;\n",
       "    }\n",
       "\n",
       "    .dataframe thead th {\n",
       "        text-align: right;\n",
       "    }\n",
       "</style>\n",
       "<table border=\"1\" class=\"dataframe\">\n",
       "  <thead>\n",
       "    <tr style=\"text-align: right;\">\n",
       "      <th></th>\n",
       "      <th>year</th>\n",
       "      <th>month</th>\n",
       "      <th>topic_0</th>\n",
       "      <th>topic_1</th>\n",
       "      <th>topic_2</th>\n",
       "      <th>topic_3</th>\n",
       "      <th>topic_4</th>\n",
       "      <th>topic_5</th>\n",
       "      <th>topic_6</th>\n",
       "      <th>topic_7</th>\n",
       "      <th>...</th>\n",
       "      <th>topic_41</th>\n",
       "      <th>topic_42</th>\n",
       "      <th>topic_43</th>\n",
       "      <th>topic_44</th>\n",
       "      <th>topic_45</th>\n",
       "      <th>topic_46</th>\n",
       "      <th>topic_47</th>\n",
       "      <th>topic_48</th>\n",
       "      <th>topic_49</th>\n",
       "      <th>date</th>\n",
       "    </tr>\n",
       "  </thead>\n",
       "  <tbody>\n",
       "    <tr>\n",
       "      <th>0</th>\n",
       "      <td>1999</td>\n",
       "      <td>8</td>\n",
       "      <td>0.000017</td>\n",
       "      <td>1.785671</td>\n",
       "      <td>0.000743</td>\n",
       "      <td>6.313389</td>\n",
       "      <td>1.318865</td>\n",
       "      <td>3.180413</td>\n",
       "      <td>1.187233</td>\n",
       "      <td>0.244435</td>\n",
       "      <td>...</td>\n",
       "      <td>8.707718</td>\n",
       "      <td>4.299976</td>\n",
       "      <td>7.280093</td>\n",
       "      <td>6.379984</td>\n",
       "      <td>10.390122</td>\n",
       "      <td>4.436177</td>\n",
       "      <td>1.301719</td>\n",
       "      <td>3.473458</td>\n",
       "      <td>3.950631</td>\n",
       "      <td>1999-08-11</td>\n",
       "    </tr>\n",
       "    <tr>\n",
       "      <th>1</th>\n",
       "      <td>1999</td>\n",
       "      <td>9</td>\n",
       "      <td>15.963680</td>\n",
       "      <td>29.896324</td>\n",
       "      <td>44.226029</td>\n",
       "      <td>209.609378</td>\n",
       "      <td>45.404466</td>\n",
       "      <td>57.240158</td>\n",
       "      <td>53.045613</td>\n",
       "      <td>66.461574</td>\n",
       "      <td>...</td>\n",
       "      <td>227.442131</td>\n",
       "      <td>163.356348</td>\n",
       "      <td>181.424657</td>\n",
       "      <td>185.622770</td>\n",
       "      <td>222.624015</td>\n",
       "      <td>111.973678</td>\n",
       "      <td>27.197095</td>\n",
       "      <td>78.144858</td>\n",
       "      <td>98.547576</td>\n",
       "      <td>1999-09-11</td>\n",
       "    </tr>\n",
       "  </tbody>\n",
       "</table>\n",
       "<p>2 rows × 53 columns</p>\n",
       "</div>"
      ],
      "text/plain": [
       "   year  month    topic_0    topic_1    topic_2     topic_3    topic_4  \\\n",
       "0  1999      8   0.000017   1.785671   0.000743    6.313389   1.318865   \n",
       "1  1999      9  15.963680  29.896324  44.226029  209.609378  45.404466   \n",
       "\n",
       "     topic_5    topic_6    topic_7     ...        topic_41    topic_42  \\\n",
       "0   3.180413   1.187233   0.244435     ...        8.707718    4.299976   \n",
       "1  57.240158  53.045613  66.461574     ...      227.442131  163.356348   \n",
       "\n",
       "     topic_43    topic_44    topic_45    topic_46   topic_47   topic_48  \\\n",
       "0    7.280093    6.379984   10.390122    4.436177   1.301719   3.473458   \n",
       "1  181.424657  185.622770  222.624015  111.973678  27.197095  78.144858   \n",
       "\n",
       "    topic_49        date  \n",
       "0   3.950631  1999-08-11  \n",
       "1  98.547576  1999-09-11  \n",
       "\n",
       "[2 rows x 53 columns]"
      ]
     },
     "execution_count": 126,
     "metadata": {},
     "output_type": "execute_result"
    }
   ],
   "source": [
    "# добавляем дату\n",
    "gb_reset_index['date']=gb_reset_index.apply(lambda x: prepare_date2vis(x.year,x.month),axis=1)\n",
    "gb_reset_index.head(2)"
   ]
  },
  {
   "cell_type": "code",
   "execution_count": 133,
   "metadata": {},
   "outputs": [],
   "source": [
    "gb_reset_index.to_csv('data/corex-50-200-probability.csv',index=False)"
   ]
  },
  {
   "cell_type": "code",
   "execution_count": 127,
   "metadata": {},
   "outputs": [],
   "source": [
    "# файл `visualizer.py` взял с https://github.com/ods-ai-ml4sg/proj_news_viz/tree/basic_visualiser/visualization\n",
    "import visualizer as tmp_vis\n",
    "#pip install pygal, plotly"
   ]
  },
  {
   "cell_type": "markdown",
   "metadata": {},
   "source": [
    "* ### TopicVisualizerPygal"
   ]
  },
  {
   "cell_type": "code",
   "execution_count": 128,
   "metadata": {},
   "outputs": [
    {
     "name": "stdout",
     "output_type": "stream",
     "text": [
      "CPU times: user 1.84 ms, sys: 27 ms, total: 28.9 ms\n",
      "Wall time: 70.5 ms\n"
     ]
    }
   ],
   "source": [
    "%%time\n",
    "pgv_pygal=tmp_vis.TopicVisualizerPygal(data=gb_reset_index.iloc[:,2:],topics=new_names)"
   ]
  },
  {
   "cell_type": "code",
   "execution_count": 129,
   "metadata": {
    "scrolled": true
   },
   "outputs": [
    {
     "name": "stdout",
     "output_type": "stream",
     "text": [
      "file:///var/folders/jt/8trbfx7122q92zx4447hlz0w0000gp/T/tmp8fz7_m1d.html\n",
      "CPU times: user 239 ms, sys: 116 ms, total: 355 ms\n",
      "Wall time: 780 ms\n"
     ]
    }
   ],
   "source": [
    "%%time\n",
    "pgv_pygal.draw()"
   ]
  },
  {
   "cell_type": "code",
   "execution_count": 130,
   "metadata": {
    "scrolled": true
   },
   "outputs": [
    {
     "name": "stdout",
     "output_type": "stream",
     "text": [
      "CPU times: user 228 ms, sys: 11.2 ms, total: 239 ms\n",
      "Wall time: 248 ms\n"
     ]
    }
   ],
   "source": [
    "%%time\n",
    "pgv_pygal.save('./pygal-corex_50-200.svg')\n",
    "# чтобы просмотреть, откройте этот файл у себя в браузере"
   ]
  },
  {
   "cell_type": "markdown",
   "metadata": {},
   "source": [
    "* ### TopicVisualizerPlotly"
   ]
  },
  {
   "cell_type": "code",
   "execution_count": 131,
   "metadata": {
    "scrolled": true
   },
   "outputs": [
    {
     "name": "stdout",
     "output_type": "stream",
     "text": [
      "CPU times: user 2.72 ms, sys: 8.34 ms, total: 11.1 ms\n",
      "Wall time: 17.7 ms\n"
     ]
    }
   ],
   "source": [
    "%%time\n",
    "pgv_plotly=tmp_vis.TopicVisualizerPlotly(data=gb_reset_index.iloc[:,2:],topics=new_names,\n",
    "                                        username='your_username', api_key='your-api_key')"
   ]
  },
  {
   "cell_type": "code",
   "execution_count": 132,
   "metadata": {},
   "outputs": [
    {
     "name": "stdout",
     "output_type": "stream",
     "text": [
      "High five! You successfully sent some data to your account on plotly. View your plot in your browser at https://plot.ly/~vtrokhymenko/0 or inside your plot.ly account where it is named 'Topics over time'\n",
      "CPU times: user 298 ms, sys: 154 ms, total: 452 ms\n",
      "Wall time: 3.35 s\n"
     ]
    }
   ],
   "source": [
    "%%time\n",
    "pgv_plotly.draw()\n",
    "# можете перейти по урле ниже, чтобы посмотреть результат"
   ]
  },
  {
   "cell_type": "markdown",
   "metadata": {},
   "source": [
    "---"
   ]
  },
  {
   "cell_type": "markdown",
   "metadata": {},
   "source": [
    "# Выводы:\n",
    "\n",
    "* довольно простая имплементация tm\n",
    "* можно добавлять руками свои токены для каждого топика\n",
    "* есть возможность сделать иерархическую tm, но есть пробелы у них в коде\n",
    "* можно сказать что долго считает (но ночь все решает)"
   ]
  }
 ],
 "metadata": {
  "kernelspec": {
   "display_name": "Python 3",
   "language": "python",
   "name": "python3"
  },
  "language_info": {
   "codemirror_mode": {
    "name": "ipython",
    "version": 3
   },
   "file_extension": ".py",
   "mimetype": "text/x-python",
   "name": "python",
   "nbconvert_exporter": "python",
   "pygments_lexer": "ipython3",
   "version": "3.6.5"
  },
  "notify_time": "5",
  "varInspector": {
   "cols": {
    "lenName": 16,
    "lenType": 16,
    "lenVar": 40
   },
   "kernels_config": {
    "python": {
     "delete_cmd_postfix": "",
     "delete_cmd_prefix": "del ",
     "library": "var_list.py",
     "varRefreshCmd": "print(var_dic_list())"
    },
    "r": {
     "delete_cmd_postfix": ") ",
     "delete_cmd_prefix": "rm(",
     "library": "var_list.r",
     "varRefreshCmd": "cat(var_dic_list()) "
    }
   },
   "position": {
    "height": "152px",
    "left": "1066px",
    "right": "20px",
    "top": "120px",
    "width": "354px"
   },
   "types_to_exclude": [
    "module",
    "function",
    "builtin_function_or_method",
    "instance",
    "_Feature"
   ],
   "window_display": false
  }
 },
 "nbformat": 4,
 "nbformat_minor": 2
}
