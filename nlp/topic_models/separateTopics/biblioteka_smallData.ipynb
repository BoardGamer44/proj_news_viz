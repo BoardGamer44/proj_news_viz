{
 "cells": [
  {
   "cell_type": "code",
   "execution_count": 1,
   "metadata": {
    "ExecuteTime": {
     "end_time": "2019-02-03T23:01:18.847452Z",
     "start_time": "2019-02-03T23:01:18.050156Z"
    }
   },
   "outputs": [
    {
     "name": "stderr",
     "output_type": "stream",
     "text": [
      "/home/vtrokhymenko/proj_news_viz/env4news/lib/python3.6/site-packages/scipy/sparse/sparsetools.py:21: DeprecationWarning: `scipy.sparse.sparsetools` is deprecated!\n",
      "scipy.sparse.sparsetools is a private module for scipy.sparse, and should not be used.\n",
      "  _deprecated()\n"
     ]
    }
   ],
   "source": [
    "import numpy as np\n",
    "import pandas as pd\n",
    "import os\n",
    "\n",
    "import re\n",
    "from datetime import datetime as time\n",
    "from ast import literal_eval\n",
    "from sklearn.model_selection import train_test_split\n",
    "\n",
    "import artm\n",
    "from gensim.models import Phrases\n",
    "from gensim.models.phrases import Phraser\n",
    "\n",
    "import gc\n",
    "import matplotlib.pyplot as plt\n",
    "%matplotlib inline"
   ]
  },
  {
   "cell_type": "code",
   "execution_count": 2,
   "metadata": {
    "ExecuteTime": {
     "end_time": "2019-02-03T23:01:18.977738Z",
     "start_time": "2019-02-03T23:01:18.859954Z"
    },
    "scrolled": true
   },
   "outputs": [
    {
     "name": "stdout",
     "output_type": "stream",
     "text": [
      "-rw-rw-r-- 1 vtrokhymenko vtrokhymenko 491K Jan 15 18:18 data/69-.paralel.csv.bz2\r\n",
      "-rw-rw-r-- 1 vtrokhymenko vtrokhymenko  48M Jan 15 18:21 data/Russia.csv.bz2\r\n",
      "-rw-rw-r-- 1 vtrokhymenko vtrokhymenko  12M Jan 15 18:21 data/Sil_struktur.csv.bz2\r\n",
      "-rw-rw-r-- 1 vtrokhymenko vtrokhymenko  44K Jan 15 18:19 data/biblioteka.csv.bz2\r\n",
      "-rw-rw-r-- 1 vtrokhymenko vtrokhymenko  25M Jan 15 18:19 data/bivs.SSR.csv.bz2\r\n",
      "-rw-rw-r-- 1 vtrokhymenko vtrokhymenko 6.1M Jan 15 18:18 data/biznes.csv.bz2\r\n",
      "-rw-rw-r-- 1 vtrokhymenko vtrokhymenko 2.9M Jan 15 18:21 data/cennosti.csv.bz2\r\n",
      "-rw-rw-r-- 1 vtrokhymenko vtrokhymenko  28M Jan 15 18:21 data/economic.csv.bz2\r\n",
      "-rw-rw-r-- 1 vtrokhymenko vtrokhymenko  16M Jan 15 18:19 data/internet.i.smi.csv.bz2\r\n",
      "-rw-rw-r-- 1 vtrokhymenko vtrokhymenko 8.6M Jan 15 18:18 data/iz.jizni.csv.bz2\r\n",
      "-rw-rw-r-- 1 vtrokhymenko vtrokhymenko 125K Jan 15 18:18 data/kultprosvet.csv.bz2\r\n",
      "-rw-rw-r-- 1 vtrokhymenko vtrokhymenko  20M Jan 15 18:18 data/kultura.csv.bz2\r\n",
      "-rw-rw-r-- 1 vtrokhymenko vtrokhymenko  65K Jan 15 18:20 data/legprom.csv.bz2\r\n",
      "-rw-rw-r-- 1 vtrokhymenko vtrokhymenko  56M Jan 16 02:07 data/mir.csv.bz2\r\n",
      "-rw-rw-r-- 1 vtrokhymenko vtrokhymenko  24M Jan 15 18:21 data/naula.i.tehn.csv.bz2\r\n",
      "-rw-rw-r-- 1 vtrokhymenko vtrokhymenko 2.4K Jan 15 18:20 data/orujie.csv.bz2\r\n",
      "-rw-rw-r-- 1 vtrokhymenko vtrokhymenko 3.0M Jan 15 18:21 data/puteshestvi.csv.bz2\r\n",
      "-rw-rw-r-- 1 vtrokhymenko vtrokhymenko  19M Jan 15 18:20 data/sport.csv.bz2\r\n"
     ]
    }
   ],
   "source": [
    "!ls -lah data/*.csv.bz2"
   ]
  },
  {
   "cell_type": "code",
   "execution_count": 3,
   "metadata": {
    "ExecuteTime": {
     "end_time": "2019-02-03T23:01:29.984857Z",
     "start_time": "2019-02-03T23:01:29.982507Z"
    }
   },
   "outputs": [],
   "source": [
    "name_dataset = 'biblioteka'"
   ]
  },
  {
   "cell_type": "markdown",
   "metadata": {},
   "source": [
    "### load data"
   ]
  },
  {
   "cell_type": "code",
   "execution_count": 4,
   "metadata": {
    "ExecuteTime": {
     "end_time": "2019-02-03T23:01:30.534569Z",
     "start_time": "2019-02-03T23:01:30.514727Z"
    }
   },
   "outputs": [
    {
     "name": "stdout",
     "output_type": "stream",
     "text": [
      "(88, 7)\n",
      "CPU times: user 10 ms, sys: 4.76 ms, total: 14.8 ms\n",
      "Wall time: 16.6 ms\n"
     ]
    }
   ],
   "source": [
    "%%time\n",
    "df = pd.read_csv(f'data/{name_dataset}.csv.bz2')\n",
    "print(df.shape)"
   ]
  },
  {
   "cell_type": "code",
   "execution_count": 5,
   "metadata": {
    "ExecuteTime": {
     "end_time": "2019-02-03T23:01:30.798366Z",
     "start_time": "2019-02-03T23:01:30.786753Z"
    }
   },
   "outputs": [
    {
     "data": {
      "text/html": [
       "<div>\n",
       "<style scoped>\n",
       "    .dataframe tbody tr th:only-of-type {\n",
       "        vertical-align: middle;\n",
       "    }\n",
       "\n",
       "    .dataframe tbody tr th {\n",
       "        vertical-align: top;\n",
       "    }\n",
       "\n",
       "    .dataframe thead th {\n",
       "        text-align: right;\n",
       "    }\n",
       "</style>\n",
       "<table border=\"1\" class=\"dataframe\">\n",
       "  <thead>\n",
       "    <tr style=\"text-align: right;\">\n",
       "      <th></th>\n",
       "      <th>1914-lenta/</th>\n",
       "      <th>url</th>\n",
       "      <th>edition</th>\n",
       "      <th>topics</th>\n",
       "      <th>title</th>\n",
       "      <th>text</th>\n",
       "      <th>topic</th>\n",
       "    </tr>\n",
       "  </thead>\n",
       "  <tbody>\n",
       "    <tr>\n",
       "      <th>0</th>\n",
       "      <td>1914-09-16 12:00:00</td>\n",
       "      <td>https://lenta.ru/news/1914/09/16/hungarnn/</td>\n",
       "      <td>NaN</td>\n",
       "      <td>Библиотека / Первая мировая</td>\n",
       "      <td>1914. Русские войска вступили в пределы Венгрии</td>\n",
       "      <td>Бои у Сопоцкина и Друскеник закончились отступ...</td>\n",
       "      <td>Библиотека</td>\n",
       "    </tr>\n",
       "    <tr>\n",
       "      <th>1</th>\n",
       "      <td>1914-09-16 12:00:00</td>\n",
       "      <td>https://lenta.ru/news/1914/09/16/lermontov/</td>\n",
       "      <td>NaN</td>\n",
       "      <td>Библиотека / Первая мировая</td>\n",
       "      <td>1914. Празднование столетия М.Ю. Лермонтова от...</td>\n",
       "      <td>Министерство народного просвещения, в виду про...</td>\n",
       "      <td>Библиотека</td>\n",
       "    </tr>\n",
       "  </tbody>\n",
       "</table>\n",
       "</div>"
      ],
      "text/plain": [
       "           1914-lenta/                                          url  edition  \\\n",
       "0  1914-09-16 12:00:00   https://lenta.ru/news/1914/09/16/hungarnn/      NaN   \n",
       "1  1914-09-16 12:00:00  https://lenta.ru/news/1914/09/16/lermontov/      NaN   \n",
       "\n",
       "                        topics  \\\n",
       "0  Библиотека / Первая мировая   \n",
       "1  Библиотека / Первая мировая   \n",
       "\n",
       "                                               title  \\\n",
       "0  1914. Русские войска вступили в пределы Венгрии     \n",
       "1  1914. Празднование столетия М.Ю. Лермонтова от...   \n",
       "\n",
       "                                                text       topic  \n",
       "0  Бои у Сопоцкина и Друскеник закончились отступ...  Библиотека  \n",
       "1  Министерство народного просвещения, в виду про...  Библиотека  "
      ]
     },
     "execution_count": 5,
     "metadata": {},
     "output_type": "execute_result"
    }
   ],
   "source": [
    "df = df[df.text!='text']\n",
    "df.head(2)"
   ]
  },
  {
   "cell_type": "markdown",
   "metadata": {},
   "source": [
    "### preprocess"
   ]
  },
  {
   "cell_type": "markdown",
   "metadata": {},
   "source": [
    "* get dates"
   ]
  },
  {
   "cell_type": "code",
   "execution_count": 6,
   "metadata": {
    "ExecuteTime": {
     "end_time": "2019-02-03T23:01:35.712498Z",
     "start_time": "2019-02-03T23:01:35.706458Z"
    }
   },
   "outputs": [
    {
     "name": "stdout",
     "output_type": "stream",
     "text": [
      "CPU times: user 1.56 ms, sys: 548 µs, total: 2.11 ms\n",
      "Wall time: 2.02 ms\n"
     ]
    },
    {
     "name": "stderr",
     "output_type": "stream",
     "text": [
      "<unknown>:2: DeprecationWarning: invalid escape sequence \\d\n"
     ]
    }
   ],
   "source": [
    "%%time\n",
    "\n",
    "df['date_raw'] = df['url'].apply(re.compile('(\\d{4})/(\\d{2})/(\\d{2})').findall)\n",
    "\n",
    "df['year'] = df['date_raw'].apply(lambda x: int(x[0][0]))\n",
    "df['month'] = df['date_raw'].apply(lambda x: int(x[0][1]))"
   ]
  },
  {
   "cell_type": "markdown",
   "metadata": {},
   "source": [
    "* clean text"
   ]
  },
  {
   "cell_type": "code",
   "execution_count": 7,
   "metadata": {
    "ExecuteTime": {
     "end_time": "2019-02-03T23:01:36.659532Z",
     "start_time": "2019-02-03T23:01:36.428620Z"
    }
   },
   "outputs": [],
   "source": [
    "import preprocessing_tools as pr"
   ]
  },
  {
   "cell_type": "code",
   "execution_count": 8,
   "metadata": {
    "ExecuteTime": {
     "end_time": "2019-02-03T23:01:36.735767Z",
     "start_time": "2019-02-03T23:01:36.714853Z"
    }
   },
   "outputs": [
    {
     "name": "stdout",
     "output_type": "stream",
     "text": [
      "CPU times: user 17 ms, sys: 880 µs, total: 17.9 ms\n",
      "Wall time: 17.4 ms\n"
     ]
    }
   ],
   "source": [
    "%%time\n",
    "df.text = df.text.apply(pr.clean_text)"
   ]
  },
  {
   "cell_type": "code",
   "execution_count": 9,
   "metadata": {
    "ExecuteTime": {
     "end_time": "2019-02-03T23:01:36.888793Z",
     "start_time": "2019-02-03T23:01:36.877062Z"
    }
   },
   "outputs": [
    {
     "data": {
      "text/html": [
       "<div>\n",
       "<style scoped>\n",
       "    .dataframe tbody tr th:only-of-type {\n",
       "        vertical-align: middle;\n",
       "    }\n",
       "\n",
       "    .dataframe tbody tr th {\n",
       "        vertical-align: top;\n",
       "    }\n",
       "\n",
       "    .dataframe thead th {\n",
       "        text-align: right;\n",
       "    }\n",
       "</style>\n",
       "<table border=\"1\" class=\"dataframe\">\n",
       "  <thead>\n",
       "    <tr style=\"text-align: right;\">\n",
       "      <th></th>\n",
       "      <th>1914-lenta/</th>\n",
       "      <th>url</th>\n",
       "      <th>edition</th>\n",
       "      <th>topics</th>\n",
       "      <th>title</th>\n",
       "      <th>text</th>\n",
       "      <th>topic</th>\n",
       "      <th>date_raw</th>\n",
       "      <th>year</th>\n",
       "      <th>month</th>\n",
       "    </tr>\n",
       "  </thead>\n",
       "  <tbody>\n",
       "    <tr>\n",
       "      <th>0</th>\n",
       "      <td>1914-09-16 12:00:00</td>\n",
       "      <td>https://lenta.ru/news/1914/09/16/hungarnn/</td>\n",
       "      <td>NaN</td>\n",
       "      <td>Библиотека / Первая мировая</td>\n",
       "      <td>1914. Русские войска вступили в пределы Венгрии</td>\n",
       "      <td>бои у сопоцкина и друскеник закончились отступ...</td>\n",
       "      <td>Библиотека</td>\n",
       "      <td>[(1914, 09, 16)]</td>\n",
       "      <td>1914</td>\n",
       "      <td>9</td>\n",
       "    </tr>\n",
       "    <tr>\n",
       "      <th>1</th>\n",
       "      <td>1914-09-16 12:00:00</td>\n",
       "      <td>https://lenta.ru/news/1914/09/16/lermontov/</td>\n",
       "      <td>NaN</td>\n",
       "      <td>Библиотека / Первая мировая</td>\n",
       "      <td>1914. Празднование столетия М.Ю. Лермонтова от...</td>\n",
       "      <td>министерство народного просвещения в виду прои...</td>\n",
       "      <td>Библиотека</td>\n",
       "      <td>[(1914, 09, 16)]</td>\n",
       "      <td>1914</td>\n",
       "      <td>9</td>\n",
       "    </tr>\n",
       "  </tbody>\n",
       "</table>\n",
       "</div>"
      ],
      "text/plain": [
       "           1914-lenta/                                          url  edition  \\\n",
       "0  1914-09-16 12:00:00   https://lenta.ru/news/1914/09/16/hungarnn/      NaN   \n",
       "1  1914-09-16 12:00:00  https://lenta.ru/news/1914/09/16/lermontov/      NaN   \n",
       "\n",
       "                        topics  \\\n",
       "0  Библиотека / Первая мировая   \n",
       "1  Библиотека / Первая мировая   \n",
       "\n",
       "                                               title  \\\n",
       "0  1914. Русские войска вступили в пределы Венгрии     \n",
       "1  1914. Празднование столетия М.Ю. Лермонтова от...   \n",
       "\n",
       "                                                text       topic  \\\n",
       "0  бои у сопоцкина и друскеник закончились отступ...  Библиотека   \n",
       "1  министерство народного просвещения в виду прои...  Библиотека   \n",
       "\n",
       "           date_raw  year  month  \n",
       "0  [(1914, 09, 16)]  1914      9  \n",
       "1  [(1914, 09, 16)]  1914      9  "
      ]
     },
     "execution_count": 9,
     "metadata": {},
     "output_type": "execute_result"
    }
   ],
   "source": [
    "df.head(2)"
   ]
  },
  {
   "cell_type": "markdown",
   "metadata": {},
   "source": [
    "* cleanedNames"
   ]
  },
  {
   "cell_type": "code",
   "execution_count": 10,
   "metadata": {
    "ExecuteTime": {
     "end_time": "2019-02-03T23:01:37.633778Z",
     "start_time": "2019-02-03T23:01:37.521423Z"
    }
   },
   "outputs": [],
   "source": [
    "from cleanedNames import KeyProc\n",
    "cn = KeyProc()"
   ]
  },
  {
   "cell_type": "code",
   "execution_count": 11,
   "metadata": {
    "ExecuteTime": {
     "end_time": "2019-02-03T23:01:37.803866Z",
     "start_time": "2019-02-03T23:01:37.680845Z"
    }
   },
   "outputs": [
    {
     "name": "stdout",
     "output_type": "stream",
     "text": [
      "CPU times: user 121 ms, sys: 0 ns, total: 121 ms\n",
      "Wall time: 120 ms\n"
     ]
    }
   ],
   "source": [
    "%%time\n",
    "df.text = df.text.apply(cn.replaceKeywords)"
   ]
  },
  {
   "cell_type": "markdown",
   "metadata": {},
   "source": [
    "* lemmatization"
   ]
  },
  {
   "cell_type": "code",
   "execution_count": 12,
   "metadata": {
    "ExecuteTime": {
     "end_time": "2019-02-03T23:01:38.981065Z",
     "start_time": "2019-02-03T23:01:37.926893Z"
    }
   },
   "outputs": [
    {
     "name": "stdout",
     "output_type": "stream",
     "text": [
      "CPU times: user 1.05 s, sys: 0 ns, total: 1.05 s\n",
      "Wall time: 1.05 s\n"
     ]
    }
   ],
   "source": [
    "%%time\n",
    "df['lemmatized_text'] = df.text.apply(pr.lemmatization)"
   ]
  },
  {
   "cell_type": "code",
   "execution_count": null,
   "metadata": {},
   "outputs": [],
   "source": []
  },
  {
   "cell_type": "markdown",
   "metadata": {},
   "source": [
    "* add docID"
   ]
  },
  {
   "cell_type": "code",
   "execution_count": 13,
   "metadata": {
    "ExecuteTime": {
     "end_time": "2019-02-03T23:01:39.070814Z",
     "start_time": "2019-02-03T23:01:39.068114Z"
    }
   },
   "outputs": [],
   "source": [
    "df['docID'] = list(range(df.shape[0]))"
   ]
  },
  {
   "cell_type": "code",
   "execution_count": 14,
   "metadata": {
    "ExecuteTime": {
     "end_time": "2019-02-03T23:01:39.167858Z",
     "start_time": "2019-02-03T23:01:39.159699Z"
    }
   },
   "outputs": [
    {
     "data": {
      "text/html": [
       "<div>\n",
       "<style scoped>\n",
       "    .dataframe tbody tr th:only-of-type {\n",
       "        vertical-align: middle;\n",
       "    }\n",
       "\n",
       "    .dataframe tbody tr th {\n",
       "        vertical-align: top;\n",
       "    }\n",
       "\n",
       "    .dataframe thead th {\n",
       "        text-align: right;\n",
       "    }\n",
       "</style>\n",
       "<table border=\"1\" class=\"dataframe\">\n",
       "  <thead>\n",
       "    <tr style=\"text-align: right;\">\n",
       "      <th></th>\n",
       "      <th>docID</th>\n",
       "      <th>year</th>\n",
       "      <th>month</th>\n",
       "      <th>lemmatized_text</th>\n",
       "    </tr>\n",
       "  </thead>\n",
       "  <tbody>\n",
       "    <tr>\n",
       "      <th>0</th>\n",
       "      <td>0</td>\n",
       "      <td>1914</td>\n",
       "      <td>9</td>\n",
       "      <td>[бой, сопоцкина, друскеник, закончиться, отсту...</td>\n",
       "    </tr>\n",
       "    <tr>\n",
       "      <th>1</th>\n",
       "      <td>1</td>\n",
       "      <td>1914</td>\n",
       "      <td>9</td>\n",
       "      <td>[министерство, народный, просвещение, вид, про...</td>\n",
       "    </tr>\n",
       "  </tbody>\n",
       "</table>\n",
       "</div>"
      ],
      "text/plain": [
       "   docID  year  month                                    lemmatized_text\n",
       "0      0  1914      9  [бой, сопоцкина, друскеник, закончиться, отсту...\n",
       "1      1  1914      9  [министерство, народный, просвещение, вид, про..."
      ]
     },
     "execution_count": 14,
     "metadata": {},
     "output_type": "execute_result"
    }
   ],
   "source": [
    "df = df[['docID','year','month','lemmatized_text']]\n",
    "df.head(2)"
   ]
  },
  {
   "cell_type": "code",
   "execution_count": 15,
   "metadata": {
    "ExecuteTime": {
     "end_time": "2019-02-03T23:01:39.232451Z",
     "start_time": "2019-02-03T23:01:39.227521Z"
    }
   },
   "outputs": [
    {
     "name": "stdout",
     "output_type": "stream",
     "text": [
      "(88, 4)\n"
     ]
    },
    {
     "data": {
      "text/plain": [
       "docID              0\n",
       "year               0\n",
       "month              0\n",
       "lemmatized_text    0\n",
       "dtype: int64"
      ]
     },
     "execution_count": 15,
     "metadata": {},
     "output_type": "execute_result"
    }
   ],
   "source": [
    "print(df.shape)\n",
    "df.isnull().sum()"
   ]
  },
  {
   "cell_type": "code",
   "execution_count": 16,
   "metadata": {
    "ExecuteTime": {
     "end_time": "2019-02-03T23:01:39.821896Z",
     "start_time": "2019-02-03T23:01:39.818002Z"
    }
   },
   "outputs": [
    {
     "data": {
      "text/plain": [
       "1914"
      ]
     },
     "execution_count": 16,
     "metadata": {},
     "output_type": "execute_result"
    }
   ],
   "source": [
    "df.year.min()"
   ]
  },
  {
   "cell_type": "code",
   "execution_count": null,
   "metadata": {},
   "outputs": [],
   "source": []
  },
  {
   "cell_type": "markdown",
   "metadata": {},
   "source": [
    "## model"
   ]
  },
  {
   "cell_type": "markdown",
   "metadata": {},
   "source": [
    "* prepare"
   ]
  },
  {
   "cell_type": "code",
   "execution_count": 17,
   "metadata": {
    "ExecuteTime": {
     "end_time": "2019-02-03T23:01:45.080308Z",
     "start_time": "2019-02-03T23:01:45.062216Z"
    }
   },
   "outputs": [
    {
     "name": "stdout",
     "output_type": "stream",
     "text": [
      "CPU times: user 2.49 ms, sys: 603 µs, total: 3.09 ms\n",
      "Wall time: 14.9 ms\n"
     ]
    }
   ],
   "source": [
    "%%time\n",
    "\n",
    "vwpath = f'data/vwpath/{name_dataset}_input_bigartm.vw'\n",
    "\n",
    "with open(vwpath, 'w') as fp:\n",
    "    for text, did in df[['lemmatized_text', 'docID']].values:\n",
    "        fp.write('{} | {}\\n'.format(did, ' '.join(text)))"
   ]
  },
  {
   "cell_type": "code",
   "execution_count": 18,
   "metadata": {
    "ExecuteTime": {
     "end_time": "2019-02-03T23:01:45.589580Z",
     "start_time": "2019-02-03T23:01:45.586577Z"
    }
   },
   "outputs": [],
   "source": [
    "id_date = df[['docID', 'year', 'month']].copy()"
   ]
  },
  {
   "cell_type": "markdown",
   "metadata": {},
   "source": [
    "* collect batchs and collect the dictionary"
   ]
  },
  {
   "cell_type": "code",
   "execution_count": 19,
   "metadata": {
    "ExecuteTime": {
     "end_time": "2019-02-03T23:01:46.145442Z",
     "start_time": "2019-02-03T23:01:46.094432Z"
    }
   },
   "outputs": [
    {
     "name": "stdout",
     "output_type": "stream",
     "text": [
      "create folder...\n",
      "\n",
      "artm.BatchVectorizer(data_path=\"data/batches/biblioteka\", num_batches=1)\n",
      "CPU times: user 63.5 ms, sys: 1.64 ms, total: 65.2 ms\n",
      "Wall time: 47.5 ms\n"
     ]
    }
   ],
   "source": [
    "%%time\n",
    "\n",
    "batches_path = f'data/batches/{name_dataset}'\n",
    "\n",
    "if not os.path.exists(batches_path):\n",
    "    print('create folder...\\n')\n",
    "    os.makedirs(batches_path)\n",
    "    \n",
    "batch_vectorizer = artm.BatchVectorizer(data_path=vwpath,\n",
    "                                        data_format='vowpal_wabbit',\n",
    "                                        target_folder=batches_path)\n",
    "\n",
    "print(batch_vectorizer)"
   ]
  },
  {
   "cell_type": "code",
   "execution_count": 20,
   "metadata": {
    "ExecuteTime": {
     "end_time": "2019-02-03T23:01:46.787257Z",
     "start_time": "2019-02-03T23:01:46.776521Z"
    }
   },
   "outputs": [],
   "source": [
    "dictionary = artm.Dictionary()\n",
    "dictionary.gather(data_path=batches_path)"
   ]
  },
  {
   "cell_type": "code",
   "execution_count": 21,
   "metadata": {
    "ExecuteTime": {
     "end_time": "2019-02-03T23:01:47.171911Z",
     "start_time": "2019-02-03T23:01:47.168051Z"
    }
   },
   "outputs": [
    {
     "data": {
      "text/plain": [
       "artm.Dictionary(name=5253ca62-d6da-4c47-a5e0-1602bacf3392, num_entries=45)"
      ]
     },
     "execution_count": 21,
     "metadata": {},
     "output_type": "execute_result"
    }
   ],
   "source": [
    "dictionary.filter(min_tf=10, max_df_rate=0.1) #int(4.5e5)"
   ]
  },
  {
   "cell_type": "code",
   "execution_count": 22,
   "metadata": {
    "ExecuteTime": {
     "end_time": "2019-02-03T23:01:47.724196Z",
     "start_time": "2019-02-03T23:01:47.721354Z"
    }
   },
   "outputs": [],
   "source": [
    "dictionary.save_text(f'data/dicts/dict_{name_dataset}.txt')"
   ]
  },
  {
   "cell_type": "code",
   "execution_count": null,
   "metadata": {},
   "outputs": [],
   "source": []
  },
  {
   "cell_type": "markdown",
   "metadata": {},
   "source": [
    "## pick up amount topics"
   ]
  },
  {
   "cell_type": "code",
   "execution_count": 23,
   "metadata": {
    "ExecuteTime": {
     "end_time": "2019-02-03T23:01:59.912585Z",
     "start_time": "2019-02-03T23:01:49.082753Z"
    },
    "scrolled": true
   },
   "outputs": [
    {
     "name": "stdout",
     "output_type": "stream",
     "text": [
      "#topic 2.........\n",
      "\tSparsityThetaScore: 0.8693181872367859\n",
      "\tSparsityPhiScore: 0.9888888597488403\n",
      "\tPerplexityScore: 749.4437255859375\n",
      "\ttime: 0:00:00.553583\n",
      "#topic 3.........\n",
      "\tSparsityThetaScore: 0.9090909361839294\n",
      "\tSparsityPhiScore: 1.0\n",
      "\tPerplexityScore: 851.2720336914062\n",
      "\ttime: 0:00:00.491949\n",
      "#topic 4.........\n",
      "\tSparsityThetaScore: 0.9090909361839294\n",
      "\tSparsityPhiScore: 1.0\n",
      "\tPerplexityScore: 851.2720336914062\n",
      "\ttime: 0:00:00.491826\n",
      "#topic 5.........\n",
      "\tSparsityThetaScore: 0.9090909361839294\n",
      "\tSparsityPhiScore: 1.0\n",
      "\tPerplexityScore: 851.2720336914062\n",
      "\ttime: 0:00:00.515819\n",
      "#topic 6.........\n",
      "\tSparsityThetaScore: 0.9090909361839294\n",
      "\tSparsityPhiScore: 1.0\n",
      "\tPerplexityScore: 851.2720336914062\n",
      "\ttime: 0:00:00.514447\n",
      "#topic 7.........\n",
      "\tSparsityThetaScore: 0.9090909361839294\n",
      "\tSparsityPhiScore: 1.0\n",
      "\tPerplexityScore: 851.2720336914062\n",
      "\ttime: 0:00:00.541922\n",
      "#topic 8.........\n",
      "\tSparsityThetaScore: 0.9090909361839294\n",
      "\tSparsityPhiScore: 1.0\n",
      "\tPerplexityScore: 851.2720336914062\n",
      "\ttime: 0:00:00.531348\n",
      "#topic 9.........\n",
      "\tSparsityThetaScore: 0.9090909361839294\n",
      "\tSparsityPhiScore: 1.0\n",
      "\tPerplexityScore: 851.2720336914062\n",
      "\ttime: 0:00:00.539842\n",
      "#topic 10.........\n",
      "\tSparsityThetaScore: 0.9090909361839294\n",
      "\tSparsityPhiScore: 1.0\n",
      "\tPerplexityScore: 851.2720336914062\n",
      "\ttime: 0:00:00.532205\n",
      "#topic 11.........\n",
      "\tSparsityThetaScore: 0.9090909361839294\n",
      "\tSparsityPhiScore: 1.0\n",
      "\tPerplexityScore: 851.2720336914062\n",
      "\ttime: 0:00:00.547588\n",
      "#topic 12.........\n",
      "\tSparsityThetaScore: 0.9090909361839294\n",
      "\tSparsityPhiScore: 1.0\n",
      "\tPerplexityScore: 851.2720336914062\n",
      "\ttime: 0:00:00.557659\n",
      "#topic 13.........\n",
      "\tSparsityThetaScore: 0.9090909361839294\n",
      "\tSparsityPhiScore: 1.0\n",
      "\tPerplexityScore: 851.2720336914062\n",
      "\ttime: 0:00:00.590386\n",
      "#topic 14.........\n",
      "\tSparsityThetaScore: 0.9090909361839294\n",
      "\tSparsityPhiScore: 1.0\n",
      "\tPerplexityScore: 851.2720336914062\n",
      "\ttime: 0:00:00.583669\n",
      "#topic 15.........\n",
      "\tSparsityThetaScore: 0.9090909361839294\n",
      "\tSparsityPhiScore: 1.0\n",
      "\tPerplexityScore: 851.2720336914062\n",
      "\ttime: 0:00:00.584056\n",
      "#topic 16.........\n",
      "\tSparsityThetaScore: 0.9090909361839294\n",
      "\tSparsityPhiScore: 1.0\n",
      "\tPerplexityScore: 851.2720336914062\n",
      "\ttime: 0:00:00.595707\n",
      "#topic 17.........\n",
      "\tSparsityThetaScore: 0.9090909361839294\n",
      "\tSparsityPhiScore: 1.0\n",
      "\tPerplexityScore: 851.2720336914062\n",
      "\ttime: 0:00:00.628258\n",
      "#topic 18.........\n",
      "\tSparsityThetaScore: 0.9090909361839294\n",
      "\tSparsityPhiScore: 1.0\n",
      "\tPerplexityScore: 851.2720336914062\n",
      "\ttime: 0:00:00.701269\n",
      "#topic 19.........\n",
      "\tSparsityThetaScore: 0.9090909361839294\n",
      "\tSparsityPhiScore: 1.0\n",
      "\tPerplexityScore: 851.2720336914062\n",
      "\ttime: 0:00:00.654233\n",
      "#topic 20.........\n",
      "\tSparsityThetaScore: 0.9090909361839294\n",
      "\tSparsityPhiScore: 1.0\n",
      "\tPerplexityScore: 851.2720336914062\n",
      "\ttime: 0:00:00.665495\n",
      "CPU times: user 13.6 s, sys: 6.42 s, total: 20 s\n",
      "Wall time: 10.8 s\n"
     ]
    }
   ],
   "source": [
    "%%time\n",
    "model_list = []\n",
    "step, perplexity, sTheta, sPhi = [], [], [], []\n",
    "\n",
    "for i in range(2,20+1,1):\n",
    "    print(f'#topic {i}.........')\n",
    "    step.append(i)\n",
    "    date_start = time.now()\n",
    "    \n",
    "    num_topics = i\n",
    "    model = artm.ARTM(num_topics=num_topics, dictionary=dictionary)\n",
    "    \n",
    "    # scores\n",
    "    model.scores.add(artm.PerplexityScore(name='PerplexityScore',dictionary=dictionary))\n",
    "    model.scores.add(artm.SparsityThetaScore(name='SparsityThetaScore'))\n",
    "    model.scores.add(artm.SparsityPhiScore(name='SparsityPhiScore'))\n",
    "\n",
    "    # regularizers\n",
    "    model.regularizers.add(artm.SmoothSparsePhiRegularizer(name='SparsePhi', tau=-0.1))\n",
    "    model.regularizers.add(artm.SmoothSparseThetaRegularizer(name='SparseTheta', tau=-0.5))\n",
    "    model.regularizers.add(artm.DecorrelatorPhiRegularizer(name='DecorrelatorPhi', tau=1.5e+5))\n",
    "    \n",
    "    model.fit_offline(batch_vectorizer=batch_vectorizer, num_collection_passes=50)\n",
    "    model_list.append(model)\n",
    "    \n",
    "    sparsityTheta = model.score_tracker['SparsityThetaScore'].last_value\n",
    "    sTheta.append(sparsityTheta)\n",
    "    sparsityPhi = model.score_tracker['SparsityPhiScore'].last_value\n",
    "    sPhi.append(sparsityPhi)\n",
    "    perpl = model.score_tracker['PerplexityScore'].last_value\n",
    "    perplexity.append(perpl)\n",
    "    \n",
    "    print(f'\\tSparsityThetaScore: {sparsityTheta}')\n",
    "    print(f'\\tSparsityPhiScore: {sparsityPhi}')\n",
    "    print(f'\\tPerplexityScore: {perpl}')\n",
    "    \n",
    "    print('\\ttime:',time.now()-date_start)\n",
    "    \n",
    "newTime = time.now() #"
   ]
  },
  {
   "cell_type": "code",
   "execution_count": 31,
   "metadata": {
    "ExecuteTime": {
     "end_time": "2019-02-03T10:25:19.898317Z",
     "start_time": "2019-02-03T10:25:19.896173Z"
    }
   },
   "outputs": [],
   "source": [
    "#model_list"
   ]
  },
  {
   "cell_type": "code",
   "execution_count": 24,
   "metadata": {
    "ExecuteTime": {
     "end_time": "2019-02-03T23:02:05.848106Z",
     "start_time": "2019-02-03T23:02:05.576851Z"
    },
    "cell_style": "split"
   },
   "outputs": [
    {
     "data": {
      "text/plain": [
       "Text(0.5, 1.0, 'SparsityPhiScore')"
      ]
     },
     "execution_count": 24,
     "metadata": {},
     "output_type": "execute_result"
    },
    {
     "data": {
      "image/png": "[encoded data removed]",
      "text/plain": [
       "<Figure size 432x288 with 1 Axes>"
      ]
     },
     "metadata": {
      "needs_background": "light"
     },
     "output_type": "display_data"
    }
   ],
   "source": [
    "plt.plot(step, sPhi, color='k',linewidth=3, marker='x')\n",
    "ax = plt.gca()\n",
    "ax.set_xticks(step)\n",
    "plt.grid()\n",
    "plt.title('SparsityPhiScore')"
   ]
  },
  {
   "cell_type": "code",
   "execution_count": 25,
   "metadata": {
    "ExecuteTime": {
     "end_time": "2019-02-03T23:02:05.856372Z",
     "start_time": "2019-02-03T23:02:05.850583Z"
    },
    "cell_style": "split"
   },
   "outputs": [
    {
     "data": {
      "text/plain": [
       "[0.9, 1.0]"
      ]
     },
     "execution_count": 25,
     "metadata": {},
     "output_type": "execute_result"
    }
   ],
   "source": [
    "index_sphi = []\n",
    "[index_sphi.append(float(str(i)[:3]) ) for i in sPhi]\n",
    "    \n",
    "index_sphi = list(set(index_sphi))\n",
    "index_sphi.sort()\n",
    "index_sphi"
   ]
  },
  {
   "cell_type": "code",
   "execution_count": 26,
   "metadata": {
    "ExecuteTime": {
     "end_time": "2019-02-03T23:02:05.866673Z",
     "start_time": "2019-02-03T23:02:05.859267Z"
    },
    "cell_style": "split"
   },
   "outputs": [
    {
     "data": {
      "text/plain": [
       "{0.9: 1, 1.0: 18}"
      ]
     },
     "execution_count": 26,
     "metadata": {},
     "output_type": "execute_result"
    }
   ],
   "source": [
    "d_sphi = {}\n",
    "\n",
    "for j in range(len(index_sphi)):\n",
    "    k=0\n",
    "    for i in sPhi:\n",
    "        if j==range(len(index_sphi))[-1]:\n",
    "            if (i>=index_sphi[j]):\n",
    "                k+=1\n",
    "        else:\n",
    "            if (i>=index_sphi[j]) & (i<index_sphi[j+1]):\n",
    "                k+=1\n",
    "    d_sphi[index_sphi[j]]=k\n",
    "\n",
    "d_sphi"
   ]
  },
  {
   "cell_type": "code",
   "execution_count": 27,
   "metadata": {
    "ExecuteTime": {
     "end_time": "2019-02-03T23:02:06.072276Z",
     "start_time": "2019-02-03T23:02:05.869861Z"
    },
    "cell_style": "split",
    "scrolled": true
   },
   "outputs": [
    {
     "data": {
      "text/plain": [
       "Text(0.5, 1.0, 'SparsityThetaScore')"
      ]
     },
     "execution_count": 27,
     "metadata": {},
     "output_type": "execute_result"
    },
    {
     "data": {
      "image/png": "[encoded data removed]",
      "text/plain": [
       "<Figure size 432x288 with 1 Axes>"
      ]
     },
     "metadata": {
      "needs_background": "light"
     },
     "output_type": "display_data"
    }
   ],
   "source": [
    "plt.plot(step, sTheta, color='g',linewidth=3, marker='x')\n",
    "ax = plt.gca()\n",
    "ax.set_xticks(step)\n",
    "plt.grid()\n",
    "\n",
    "plt.title('SparsityThetaScore')"
   ]
  },
  {
   "cell_type": "code",
   "execution_count": 28,
   "metadata": {
    "ExecuteTime": {
     "end_time": "2019-02-03T23:02:06.080666Z",
     "start_time": "2019-02-03T23:02:06.074107Z"
    },
    "cell_style": "split"
   },
   "outputs": [
    {
     "data": {
      "text/plain": [
       "[0.8, 0.9]"
      ]
     },
     "execution_count": 28,
     "metadata": {},
     "output_type": "execute_result"
    }
   ],
   "source": [
    "index_theta = []\n",
    "[index_theta.append(float(str(i)[:3])) for i in sTheta]\n",
    "    \n",
    "index_theta = list(set(index_theta))\n",
    "index_theta.sort()\n",
    "index_theta"
   ]
  },
  {
   "cell_type": "code",
   "execution_count": 29,
   "metadata": {
    "ExecuteTime": {
     "end_time": "2019-02-03T23:02:06.090239Z",
     "start_time": "2019-02-03T23:02:06.082802Z"
    },
    "cell_style": "split"
   },
   "outputs": [
    {
     "data": {
      "text/plain": [
       "{0.8: 1, 0.9: 18}"
      ]
     },
     "execution_count": 29,
     "metadata": {},
     "output_type": "execute_result"
    }
   ],
   "source": [
    "d_stheta = {}\n",
    "\n",
    "for j in range(len(index_theta)):\n",
    "    k=0\n",
    "    for i in sTheta:\n",
    "        if j==range(len(index_theta))[-1]:\n",
    "            if (i>=index_theta[j]):\n",
    "                k+=1\n",
    "        else:\n",
    "            if (i>=index_theta[j]) & (i<index_theta[j+1]):\n",
    "                k+=1\n",
    "    d_stheta[index_theta[j]]=k\n",
    "\n",
    "d_stheta"
   ]
  },
  {
   "cell_type": "code",
   "execution_count": 30,
   "metadata": {
    "ExecuteTime": {
     "end_time": "2019-02-03T23:02:06.381091Z",
     "start_time": "2019-02-03T23:02:06.091977Z"
    },
    "cell_style": "split"
   },
   "outputs": [
    {
     "data": {
      "text/plain": [
       "Text(0.5, 1.0, 'PerplexityScore')"
      ]
     },
     "execution_count": 30,
     "metadata": {},
     "output_type": "execute_result"
    },
    {
     "data": {
      "image/png": "[encoded data removed]",
      "text/plain": [
       "<Figure size 432x288 with 1 Axes>"
      ]
     },
     "metadata": {
      "needs_background": "light"
     },
     "output_type": "display_data"
    }
   ],
   "source": [
    "plt.plot(step, perplexity, color='b',linewidth=3, marker='x')\n",
    "ax = plt.gca()\n",
    "ax.set_xticks(step)\n",
    "plt.grid()\n",
    "plt.title('PerplexityScore')"
   ]
  },
  {
   "cell_type": "code",
   "execution_count": 31,
   "metadata": {
    "ExecuteTime": {
     "end_time": "2019-02-03T23:02:06.388695Z",
     "start_time": "2019-02-03T23:02:06.383425Z"
    },
    "cell_style": "split"
   },
   "outputs": [
    {
     "data": {
      "text/plain": [
       "[749.4437255859375,\n",
       " 851.2720336914062,\n",
       " 851.2720336914062,\n",
       " 851.2720336914062,\n",
       " 851.2720336914062,\n",
       " 851.2720336914062,\n",
       " 851.2720336914062,\n",
       " 851.2720336914062,\n",
       " 851.2720336914062,\n",
       " 851.2720336914062,\n",
       " 851.2720336914062,\n",
       " 851.2720336914062,\n",
       " 851.2720336914062,\n",
       " 851.2720336914062,\n",
       " 851.2720336914062,\n",
       " 851.2720336914062,\n",
       " 851.2720336914062,\n",
       " 851.2720336914062,\n",
       " 851.2720336914062]"
      ]
     },
     "execution_count": 31,
     "metadata": {},
     "output_type": "execute_result"
    }
   ],
   "source": [
    "perplexity"
   ]
  },
  {
   "cell_type": "markdown",
   "metadata": {},
   "source": [
    "### select the best model"
   ]
  },
  {
   "cell_type": "code",
   "execution_count": 32,
   "metadata": {
    "ExecuteTime": {
     "end_time": "2019-02-03T23:02:06.400637Z",
     "start_time": "2019-02-03T23:02:06.390927Z"
    }
   },
   "outputs": [
    {
     "name": "stdout",
     "output_type": "stream",
     "text": [
      "d_sphi:   {0.9: 1, 1.0: 18}\n",
      "d_stheta: {0.8: 1, 0.9: 18}\n"
     ]
    }
   ],
   "source": [
    "print(f'd_sphi:   {d_sphi}')\n",
    "print(f'd_stheta: {d_stheta}')"
   ]
  },
  {
   "cell_type": "code",
   "execution_count": 33,
   "metadata": {
    "ExecuteTime": {
     "end_time": "2019-02-03T23:02:23.010910Z",
     "start_time": "2019-02-03T23:02:23.006415Z"
    }
   },
   "outputs": [
    {
     "name": "stdout",
     "output_type": "stream",
     "text": [
      "2\n"
     ]
    }
   ],
   "source": [
    "select_topics = 2 # u should choose number of topic\n",
    "\n",
    "best_model = model_list[select_topics-2]\n",
    "print(best_model.num_topics)"
   ]
  },
  {
   "cell_type": "markdown",
   "metadata": {
    "ExecuteTime": {
     "end_time": "2019-02-01T00:14:02.339878Z",
     "start_time": "2019-02-01T00:14:02.338133Z"
    }
   },
   "source": [
    "### print top words for each topics"
   ]
  },
  {
   "cell_type": "code",
   "execution_count": 34,
   "metadata": {
    "ExecuteTime": {
     "end_time": "2019-02-03T23:02:23.922417Z",
     "start_time": "2019-02-03T23:02:23.913936Z"
    }
   },
   "outputs": [
    {
     "name": "stdout",
     "output_type": "stream",
     "text": [
      "topic_0: ['тычинина' 'друг' 'пленный' 'го' 'рубль' 'дом' 'фестиваль' 'хороший'\n",
      " 'англичанин' 'морской']\n",
      "topic_1: ['хороший' 'тычинина' 'друг' 'пленный' 'го' 'рубль' 'дом' 'фестиваль'\n",
      " 'англичанин' 'морской']\n"
     ]
    }
   ],
   "source": [
    "phi = best_model.get_phi()\n",
    "phi['word'] = phi.index\n",
    "#phi.head()\n",
    "\n",
    "for col in phi.columns:\n",
    "    if col != 'word':\n",
    "        print(f\"{col}: {phi[[col, 'word']].sort_values(by=col, ascending=False)['word'].values[:10]}\")\n",
    "        #print('\\t',phi[[col, 'word']].sort_values(by=col, ascending=False)['word'].values[:10])"
   ]
  },
  {
   "cell_type": "code",
   "execution_count": null,
   "metadata": {},
   "outputs": [],
   "source": []
  },
  {
   "cell_type": "markdown",
   "metadata": {},
   "source": [
    "### get topics-docs matrix"
   ]
  },
  {
   "cell_type": "code",
   "execution_count": 36,
   "metadata": {
    "ExecuteTime": {
     "end_time": "2019-02-03T23:02:39.466684Z",
     "start_time": "2019-02-03T23:02:39.313907Z"
    }
   },
   "outputs": [
    {
     "name": "stdout",
     "output_type": "stream",
     "text": [
      "shape theta: (2, 15)\n"
     ]
    },
    {
     "data": {
      "image/png": "[encoded data removed]",
      "text/plain": [
       "<Figure size 360x360 with 1 Axes>"
      ]
     },
     "metadata": {
      "needs_background": "light"
     },
     "output_type": "display_data"
    }
   ],
   "source": [
    "theta = best_model.transform_sparse(batch_vectorizer=batch_vectorizer, eps=0.001)\n",
    "print(f'shape theta: {theta[0].shape}')\n",
    "\n",
    "plt.figure(figsize=(5, 5))\n",
    "plt.imshow(theta[0][:, 2000:2500].toarray());"
   ]
  },
  {
   "cell_type": "code",
   "execution_count": null,
   "metadata": {},
   "outputs": [],
   "source": []
  },
  {
   "cell_type": "markdown",
   "metadata": {},
   "source": [
    "### dense theta matrix"
   ]
  },
  {
   "cell_type": "code",
   "execution_count": 37,
   "metadata": {
    "ExecuteTime": {
     "end_time": "2019-02-03T23:02:41.520452Z",
     "start_time": "2019-02-03T23:02:41.500748Z"
    }
   },
   "outputs": [
    {
     "data": {
      "text/html": [
       "<div>\n",
       "<style scoped>\n",
       "    .dataframe tbody tr th:only-of-type {\n",
       "        vertical-align: middle;\n",
       "    }\n",
       "\n",
       "    .dataframe tbody tr th {\n",
       "        vertical-align: top;\n",
       "    }\n",
       "\n",
       "    .dataframe thead th {\n",
       "        text-align: right;\n",
       "    }\n",
       "</style>\n",
       "<table border=\"1\" class=\"dataframe\">\n",
       "  <thead>\n",
       "    <tr style=\"text-align: right;\">\n",
       "      <th></th>\n",
       "      <th>topic_0</th>\n",
       "      <th>topic_1</th>\n",
       "    </tr>\n",
       "  </thead>\n",
       "  <tbody>\n",
       "    <tr>\n",
       "      <th>0</th>\n",
       "      <td>0.0</td>\n",
       "      <td>0.0</td>\n",
       "    </tr>\n",
       "    <tr>\n",
       "      <th>1</th>\n",
       "      <td>0.0</td>\n",
       "      <td>0.0</td>\n",
       "    </tr>\n",
       "    <tr>\n",
       "      <th>2</th>\n",
       "      <td>0.0</td>\n",
       "      <td>0.0</td>\n",
       "    </tr>\n",
       "    <tr>\n",
       "      <th>3</th>\n",
       "      <td>0.0</td>\n",
       "      <td>0.0</td>\n",
       "    </tr>\n",
       "    <tr>\n",
       "      <th>4</th>\n",
       "      <td>0.0</td>\n",
       "      <td>0.0</td>\n",
       "    </tr>\n",
       "  </tbody>\n",
       "</table>\n",
       "</div>"
      ],
      "text/plain": [
       "   topic_0  topic_1\n",
       "0      0.0      0.0\n",
       "1      0.0      0.0\n",
       "2      0.0      0.0\n",
       "3      0.0      0.0\n",
       "4      0.0      0.0"
      ]
     },
     "execution_count": 37,
     "metadata": {},
     "output_type": "execute_result"
    }
   ],
   "source": [
    "theta = best_model.transform(batch_vectorizer=batch_vectorizer)\n",
    "theta = theta.T\n",
    "theta.head()"
   ]
  },
  {
   "cell_type": "code",
   "execution_count": null,
   "metadata": {},
   "outputs": [],
   "source": []
  },
  {
   "cell_type": "markdown",
   "metadata": {},
   "source": [
    "## DataViz"
   ]
  },
  {
   "cell_type": "code",
   "execution_count": 38,
   "metadata": {
    "ExecuteTime": {
     "end_time": "2019-02-03T23:02:42.873035Z",
     "start_time": "2019-02-03T23:02:42.861150Z"
    }
   },
   "outputs": [
    {
     "data": {
      "text/html": [
       "<div>\n",
       "<style scoped>\n",
       "    .dataframe tbody tr th:only-of-type {\n",
       "        vertical-align: middle;\n",
       "    }\n",
       "\n",
       "    .dataframe tbody tr th {\n",
       "        vertical-align: top;\n",
       "    }\n",
       "\n",
       "    .dataframe thead th {\n",
       "        text-align: right;\n",
       "    }\n",
       "</style>\n",
       "<table border=\"1\" class=\"dataframe\">\n",
       "  <thead>\n",
       "    <tr style=\"text-align: right;\">\n",
       "      <th></th>\n",
       "      <th>docID</th>\n",
       "      <th>year</th>\n",
       "      <th>month</th>\n",
       "      <th>topic_0</th>\n",
       "      <th>topic_1</th>\n",
       "    </tr>\n",
       "  </thead>\n",
       "  <tbody>\n",
       "    <tr>\n",
       "      <th>0</th>\n",
       "      <td>0</td>\n",
       "      <td>1914</td>\n",
       "      <td>9</td>\n",
       "      <td>0.0</td>\n",
       "      <td>0.0</td>\n",
       "    </tr>\n",
       "    <tr>\n",
       "      <th>1</th>\n",
       "      <td>1</td>\n",
       "      <td>1914</td>\n",
       "      <td>9</td>\n",
       "      <td>0.0</td>\n",
       "      <td>0.0</td>\n",
       "    </tr>\n",
       "    <tr>\n",
       "      <th>2</th>\n",
       "      <td>2</td>\n",
       "      <td>1914</td>\n",
       "      <td>9</td>\n",
       "      <td>0.0</td>\n",
       "      <td>0.0</td>\n",
       "    </tr>\n",
       "    <tr>\n",
       "      <th>3</th>\n",
       "      <td>3</td>\n",
       "      <td>1914</td>\n",
       "      <td>9</td>\n",
       "      <td>0.0</td>\n",
       "      <td>0.0</td>\n",
       "    </tr>\n",
       "    <tr>\n",
       "      <th>4</th>\n",
       "      <td>4</td>\n",
       "      <td>1914</td>\n",
       "      <td>9</td>\n",
       "      <td>0.0</td>\n",
       "      <td>0.0</td>\n",
       "    </tr>\n",
       "  </tbody>\n",
       "</table>\n",
       "</div>"
      ],
      "text/plain": [
       "   docID  year  month  topic_0  topic_1\n",
       "0      0  1914      9      0.0      0.0\n",
       "1      1  1914      9      0.0      0.0\n",
       "2      2  1914      9      0.0      0.0\n",
       "3      3  1914      9      0.0      0.0\n",
       "4      4  1914      9      0.0      0.0"
      ]
     },
     "execution_count": 38,
     "metadata": {},
     "output_type": "execute_result"
    }
   ],
   "source": [
    "joined = id_date.join(theta)\n",
    "joined.head()"
   ]
  },
  {
   "cell_type": "code",
   "execution_count": 39,
   "metadata": {
    "ExecuteTime": {
     "end_time": "2019-02-03T23:02:43.471510Z",
     "start_time": "2019-02-03T23:02:43.455282Z"
    }
   },
   "outputs": [
    {
     "name": "stdout",
     "output_type": "stream",
     "text": [
      "gb.shape: (26, 2)\n"
     ]
    },
    {
     "data": {
      "text/html": [
       "<div>\n",
       "<style scoped>\n",
       "    .dataframe tbody tr th:only-of-type {\n",
       "        vertical-align: middle;\n",
       "    }\n",
       "\n",
       "    .dataframe tbody tr th {\n",
       "        vertical-align: top;\n",
       "    }\n",
       "\n",
       "    .dataframe thead th {\n",
       "        text-align: right;\n",
       "    }\n",
       "</style>\n",
       "<table border=\"1\" class=\"dataframe\">\n",
       "  <thead>\n",
       "    <tr style=\"text-align: right;\">\n",
       "      <th></th>\n",
       "      <th></th>\n",
       "      <th>topic_0</th>\n",
       "      <th>topic_1</th>\n",
       "    </tr>\n",
       "    <tr>\n",
       "      <th>year</th>\n",
       "      <th>month</th>\n",
       "      <th></th>\n",
       "      <th></th>\n",
       "    </tr>\n",
       "  </thead>\n",
       "  <tbody>\n",
       "    <tr>\n",
       "      <th>1914</th>\n",
       "      <th>9</th>\n",
       "      <td>0.0</td>\n",
       "      <td>0.0</td>\n",
       "    </tr>\n",
       "    <tr>\n",
       "      <th>2000</th>\n",
       "      <th>9</th>\n",
       "      <td>0.0</td>\n",
       "      <td>0.0</td>\n",
       "    </tr>\n",
       "    <tr>\n",
       "      <th rowspan=\"2\" valign=\"top\">2001</th>\n",
       "      <th>5</th>\n",
       "      <td>0.0</td>\n",
       "      <td>0.0</td>\n",
       "    </tr>\n",
       "    <tr>\n",
       "      <th>11</th>\n",
       "      <td>0.0</td>\n",
       "      <td>0.0</td>\n",
       "    </tr>\n",
       "    <tr>\n",
       "      <th>2002</th>\n",
       "      <th>1</th>\n",
       "      <td>0.0</td>\n",
       "      <td>1.0</td>\n",
       "    </tr>\n",
       "  </tbody>\n",
       "</table>\n",
       "</div>"
      ],
      "text/plain": [
       "            topic_0  topic_1\n",
       "year month                  \n",
       "1914 9          0.0      0.0\n",
       "2000 9          0.0      0.0\n",
       "2001 5          0.0      0.0\n",
       "     11         0.0      0.0\n",
       "2002 1          0.0      1.0"
      ]
     },
     "execution_count": 39,
     "metadata": {},
     "output_type": "execute_result"
    }
   ],
   "source": [
    "topics = ['topic_{}'.format(i) for i in range(select_topics)]\n",
    "gb = joined.groupby(['year', 'month'])[topics].sum()\n",
    "print(f'gb.shape: {gb.shape}')\n",
    "gb.head()"
   ]
  },
  {
   "cell_type": "markdown",
   "metadata": {},
   "source": [
    "### straightforward matrix heatmap"
   ]
  },
  {
   "cell_type": "code",
   "execution_count": 42,
   "metadata": {
    "ExecuteTime": {
     "end_time": "2019-02-03T23:02:57.624030Z",
     "start_time": "2019-02-03T23:02:57.487924Z"
    },
    "scrolled": false
   },
   "outputs": [
    {
     "data": {
      "text/plain": [
       "<matplotlib.image.AxesImage at 0x7ff1dad4e518>"
      ]
     },
     "execution_count": 42,
     "metadata": {},
     "output_type": "execute_result"
    },
    {
     "data": {
      "image/png": "[encoded data removed]",
      "text/plain": [
       "<Figure size 360x360 with 1 Axes>"
      ]
     },
     "metadata": {
      "needs_background": "light"
     },
     "output_type": "display_data"
    }
   ],
   "source": [
    "plt.figure(figsize=(5, 5))\n",
    "plt.imshow(gb[topics])"
   ]
  },
  {
   "cell_type": "code",
   "execution_count": null,
   "metadata": {},
   "outputs": [],
   "source": []
  },
  {
   "cell_type": "markdown",
   "metadata": {},
   "source": [
    "## pygal"
   ]
  },
  {
   "cell_type": "code",
   "execution_count": 43,
   "metadata": {
    "ExecuteTime": {
     "end_time": "2019-02-03T23:03:00.012577Z",
     "start_time": "2019-02-03T23:02:59.980757Z"
    }
   },
   "outputs": [],
   "source": [
    "import pygal\n",
    "from IPython.display import SVG, HTML"
   ]
  },
  {
   "cell_type": "code",
   "execution_count": 44,
   "metadata": {
    "ExecuteTime": {
     "end_time": "2019-02-03T23:03:00.490251Z",
     "start_time": "2019-02-03T23:03:00.487258Z"
    }
   },
   "outputs": [],
   "source": [
    "html_pygal = \"\"\"\n",
    "<!DOCTYPE html>\n",
    "<html>\n",
    "  <head>\n",
    "  <script type=\"text/javascript\" src=\"http://kozea.github.com/pygal.js/javascripts/svg.jquery.js\"></script>\n",
    "  <script type=\"text/javascript\" src=\"http://kozea.github.com/pygal.js/javascripts/pygal-tooltips.js\"></script>\n",
    "    <!-- ... -->\n",
    "  </head>\n",
    "  <body>\n",
    "    <figure>\n",
    "      {pygal_render}\n",
    "    </figure>\n",
    "  </body>\n",
    "</html>\n",
    "\"\"\""
   ]
  },
  {
   "cell_type": "code",
   "execution_count": 45,
   "metadata": {
    "ExecuteTime": {
     "end_time": "2019-02-03T23:03:00.824565Z",
     "start_time": "2019-02-03T23:03:00.807732Z"
    },
    "scrolled": false
   },
   "outputs": [
    {
     "data": {
      "text/html": [
       "\n",
       "<!DOCTYPE html>\n",
       "<html>\n",
       "  <head>\n",
       "  <script type=\"text/javascript\" src=\"http://kozea.github.com/pygal.js/javascripts/svg.jquery.js\"></script>\n",
       "  <script type=\"text/javascript\" src=\"http://kozea.github.com/pygal.js/javascripts/pygal-tooltips.js\"></script>\n",
       "    <!-- ... -->\n",
       "  </head>\n",
       "  <body>\n",
       "    <figure>\n",
       "      <?xml version='1.0' encoding='utf-8'?>\n",
       "<svg xmlns:xlink=\"http://www.w3.org/1999/xlink\" xmlns=\"http://www.w3.org/2000/svg\" id=\"chart-04fd9c78-a7b1-467b-8f13-6ca0e7f98a99\" class=\"pygal-chart\" viewBox=\"0 0 800 600\"><!--Generated with pygal 2.4.0 (lxml) ©Kozea 2012-2016 on 2019-02-04--><!--http://pygal.org--><!--http://github.com/Kozea/pygal--><defs><style type=\"text/css\">#chart-04fd9c78-a7b1-467b-8f13-6ca0e7f98a99{-webkit-user-select:none;-webkit-font-smoothing:antialiased;font-family:Consolas,\"Liberation Mono\",Menlo,Courier,monospace}#chart-04fd9c78-a7b1-467b-8f13-6ca0e7f98a99 .title{font-family:Consolas,\"Liberation Mono\",Menlo,Courier,monospace;font-size:16px}#chart-04fd9c78-a7b1-467b-8f13-6ca0e7f98a99 .legends .legend text{font-family:Consolas,\"Liberation Mono\",Menlo,Courier,monospace;font-size:14px}#chart-04fd9c78-a7b1-467b-8f13-6ca0e7f98a99 .axis text{font-family:Consolas,\"Liberation Mono\",Menlo,Courier,monospace;font-size:10px}#chart-04fd9c78-a7b1-467b-8f13-6ca0e7f98a99 .axis text.major{font-family:Consolas,\"Liberation Mono\",Menlo,Courier,monospace;font-size:10px}#chart-04fd9c78-a7b1-467b-8f13-6ca0e7f98a99 .text-overlay text.value{font-family:Consolas,\"Liberation Mono\",Menlo,Courier,monospace;font-size:16px}#chart-04fd9c78-a7b1-467b-8f13-6ca0e7f98a99 .text-overlay text.label{font-family:Consolas,\"Liberation Mono\",Menlo,Courier,monospace;font-size:10px}#chart-04fd9c78-a7b1-467b-8f13-6ca0e7f98a99 .tooltip{font-family:Consolas,\"Liberation Mono\",Menlo,Courier,monospace;font-size:14px}#chart-04fd9c78-a7b1-467b-8f13-6ca0e7f98a99 text.no_data{font-family:Consolas,\"Liberation Mono\",Menlo,Courier,monospace;font-size:64px}\n",
       "#chart-04fd9c78-a7b1-467b-8f13-6ca0e7f98a99{background-color:rgba(249,249,249,1)}#chart-04fd9c78-a7b1-467b-8f13-6ca0e7f98a99 path,#chart-04fd9c78-a7b1-467b-8f13-6ca0e7f98a99 line,#chart-04fd9c78-a7b1-467b-8f13-6ca0e7f98a99 rect,#chart-04fd9c78-a7b1-467b-8f13-6ca0e7f98a99 circle{-webkit-transition:150ms;-moz-transition:150ms;transition:150ms}#chart-04fd9c78-a7b1-467b-8f13-6ca0e7f98a99 .graph &gt; .background{fill:rgba(249,249,249,1)}#chart-04fd9c78-a7b1-467b-8f13-6ca0e7f98a99 .plot &gt; .background{fill:rgba(255,255,255,1)}#chart-04fd9c78-a7b1-467b-8f13-6ca0e7f98a99 .graph{fill:rgba(0,0,0,.87)}#chart-04fd9c78-a7b1-467b-8f13-6ca0e7f98a99 text.no_data{fill:rgba(0,0,0,1)}#chart-04fd9c78-a7b1-467b-8f13-6ca0e7f98a99 .title{fill:rgba(0,0,0,1)}#chart-04fd9c78-a7b1-467b-8f13-6ca0e7f98a99 .legends .legend text{fill:rgba(0,0,0,.87)}#chart-04fd9c78-a7b1-467b-8f13-6ca0e7f98a99 .legends .legend:hover text{fill:rgba(0,0,0,1)}#chart-04fd9c78-a7b1-467b-8f13-6ca0e7f98a99 .axis .line{stroke:rgba(0,0,0,1)}#chart-04fd9c78-a7b1-467b-8f13-6ca0e7f98a99 .axis .guide.line{stroke:rgba(0,0,0,.54)}#chart-04fd9c78-a7b1-467b-8f13-6ca0e7f98a99 .axis .major.line{stroke:rgba(0,0,0,.87)}#chart-04fd9c78-a7b1-467b-8f13-6ca0e7f98a99 .axis text.major{fill:rgba(0,0,0,1)}#chart-04fd9c78-a7b1-467b-8f13-6ca0e7f98a99 .axis.y .guides:hover .guide.line,#chart-04fd9c78-a7b1-467b-8f13-6ca0e7f98a99 .line-graph .axis.x .guides:hover .guide.line,#chart-04fd9c78-a7b1-467b-8f13-6ca0e7f98a99 .stackedline-graph .axis.x .guides:hover .guide.line,#chart-04fd9c78-a7b1-467b-8f13-6ca0e7f98a99 .xy-graph .axis.x .guides:hover .guide.line{stroke:rgba(0,0,0,1)}#chart-04fd9c78-a7b1-467b-8f13-6ca0e7f98a99 .axis .guides:hover text{fill:rgba(0,0,0,1)}#chart-04fd9c78-a7b1-467b-8f13-6ca0e7f98a99 .reactive{fill-opacity:.7;stroke-opacity:.8}#chart-04fd9c78-a7b1-467b-8f13-6ca0e7f98a99 .ci{stroke:rgba(0,0,0,.87)}#chart-04fd9c78-a7b1-467b-8f13-6ca0e7f98a99 .reactive.active,#chart-04fd9c78-a7b1-467b-8f13-6ca0e7f98a99 .active .reactive{fill-opacity:.8;stroke-opacity:.9;stroke-width:4}#chart-04fd9c78-a7b1-467b-8f13-6ca0e7f98a99 .ci .reactive.active{stroke-width:1.5}#chart-04fd9c78-a7b1-467b-8f13-6ca0e7f98a99 .series text{fill:rgba(0,0,0,1)}#chart-04fd9c78-a7b1-467b-8f13-6ca0e7f98a99 .tooltip rect{fill:rgba(255,255,255,1);stroke:rgba(0,0,0,1);-webkit-transition:opacity 150ms;-moz-transition:opacity 150ms;transition:opacity 150ms}#chart-04fd9c78-a7b1-467b-8f13-6ca0e7f98a99 .tooltip .label{fill:rgba(0,0,0,.87)}#chart-04fd9c78-a7b1-467b-8f13-6ca0e7f98a99 .tooltip .label{fill:rgba(0,0,0,.87)}#chart-04fd9c78-a7b1-467b-8f13-6ca0e7f98a99 .tooltip .legend{font-size:.8em;fill:rgba(0,0,0,.54)}#chart-04fd9c78-a7b1-467b-8f13-6ca0e7f98a99 .tooltip .x_label{font-size:.6em;fill:rgba(0,0,0,1)}#chart-04fd9c78-a7b1-467b-8f13-6ca0e7f98a99 .tooltip .xlink{font-size:.5em;text-decoration:underline}#chart-04fd9c78-a7b1-467b-8f13-6ca0e7f98a99 .tooltip .value{font-size:1.5em}#chart-04fd9c78-a7b1-467b-8f13-6ca0e7f98a99 .bound{font-size:.5em}#chart-04fd9c78-a7b1-467b-8f13-6ca0e7f98a99 .max-value{font-size:.75em;fill:rgba(0,0,0,.54)}#chart-04fd9c78-a7b1-467b-8f13-6ca0e7f98a99 .map-element{fill:rgba(255,255,255,1);stroke:rgba(0,0,0,.54) !important}#chart-04fd9c78-a7b1-467b-8f13-6ca0e7f98a99 .map-element .reactive{fill-opacity:inherit;stroke-opacity:inherit}#chart-04fd9c78-a7b1-467b-8f13-6ca0e7f98a99 .color-0,#chart-04fd9c78-a7b1-467b-8f13-6ca0e7f98a99 .color-0 a:visited{stroke:#F44336;fill:#F44336}#chart-04fd9c78-a7b1-467b-8f13-6ca0e7f98a99 .color-1,#chart-04fd9c78-a7b1-467b-8f13-6ca0e7f98a99 .color-1 a:visited{stroke:#3F51B5;fill:#3F51B5}#chart-04fd9c78-a7b1-467b-8f13-6ca0e7f98a99 .text-overlay .color-0 text{fill:black}#chart-04fd9c78-a7b1-467b-8f13-6ca0e7f98a99 .text-overlay .color-1 text{fill:black}\n",
       "#chart-04fd9c78-a7b1-467b-8f13-6ca0e7f98a99 text.no_data{text-anchor:middle}#chart-04fd9c78-a7b1-467b-8f13-6ca0e7f98a99 .guide.line{fill:none}#chart-04fd9c78-a7b1-467b-8f13-6ca0e7f98a99 .centered{text-anchor:middle}#chart-04fd9c78-a7b1-467b-8f13-6ca0e7f98a99 .title{text-anchor:middle}#chart-04fd9c78-a7b1-467b-8f13-6ca0e7f98a99 .legends .legend text{fill-opacity:1}#chart-04fd9c78-a7b1-467b-8f13-6ca0e7f98a99 .axis.x text{text-anchor:middle}#chart-04fd9c78-a7b1-467b-8f13-6ca0e7f98a99 .axis.x:not(.web) text[transform]{text-anchor:start}#chart-04fd9c78-a7b1-467b-8f13-6ca0e7f98a99 .axis.x:not(.web) text[transform].backwards{text-anchor:end}#chart-04fd9c78-a7b1-467b-8f13-6ca0e7f98a99 .axis.y text{text-anchor:end}#chart-04fd9c78-a7b1-467b-8f13-6ca0e7f98a99 .axis.y text[transform].backwards{text-anchor:start}#chart-04fd9c78-a7b1-467b-8f13-6ca0e7f98a99 .axis.y2 text{text-anchor:start}#chart-04fd9c78-a7b1-467b-8f13-6ca0e7f98a99 .axis.y2 text[transform].backwards{text-anchor:end}#chart-04fd9c78-a7b1-467b-8f13-6ca0e7f98a99 .axis .guide.line{stroke-dasharray:4,4}#chart-04fd9c78-a7b1-467b-8f13-6ca0e7f98a99 .axis .major.guide.line{stroke-dasharray:6,6}#chart-04fd9c78-a7b1-467b-8f13-6ca0e7f98a99 .horizontal .axis.y .guide.line,#chart-04fd9c78-a7b1-467b-8f13-6ca0e7f98a99 .horizontal .axis.y2 .guide.line,#chart-04fd9c78-a7b1-467b-8f13-6ca0e7f98a99 .vertical .axis.x .guide.line{opacity:0}#chart-04fd9c78-a7b1-467b-8f13-6ca0e7f98a99 .horizontal .axis.always_show .guide.line,#chart-04fd9c78-a7b1-467b-8f13-6ca0e7f98a99 .vertical .axis.always_show .guide.line{opacity:1 !important}#chart-04fd9c78-a7b1-467b-8f13-6ca0e7f98a99 .axis.y .guides:hover .guide.line,#chart-04fd9c78-a7b1-467b-8f13-6ca0e7f98a99 .axis.y2 .guides:hover .guide.line,#chart-04fd9c78-a7b1-467b-8f13-6ca0e7f98a99 .axis.x .guides:hover .guide.line{opacity:1}#chart-04fd9c78-a7b1-467b-8f13-6ca0e7f98a99 .axis .guides:hover text{opacity:1}#chart-04fd9c78-a7b1-467b-8f13-6ca0e7f98a99 .nofill{fill:none}#chart-04fd9c78-a7b1-467b-8f13-6ca0e7f98a99 .subtle-fill{fill-opacity:.2}#chart-04fd9c78-a7b1-467b-8f13-6ca0e7f98a99 .dot{stroke-width:1px;fill-opacity:1}#chart-04fd9c78-a7b1-467b-8f13-6ca0e7f98a99 .dot.active{stroke-width:5px}#chart-04fd9c78-a7b1-467b-8f13-6ca0e7f98a99 .dot.negative{fill:transparent}#chart-04fd9c78-a7b1-467b-8f13-6ca0e7f98a99 text,#chart-04fd9c78-a7b1-467b-8f13-6ca0e7f98a99 tspan{stroke:none !important}#chart-04fd9c78-a7b1-467b-8f13-6ca0e7f98a99 .series text.active{opacity:1}#chart-04fd9c78-a7b1-467b-8f13-6ca0e7f98a99 .tooltip rect{fill-opacity:.95;stroke-width:.5}#chart-04fd9c78-a7b1-467b-8f13-6ca0e7f98a99 .tooltip text{fill-opacity:1}#chart-04fd9c78-a7b1-467b-8f13-6ca0e7f98a99 .showable{visibility:hidden}#chart-04fd9c78-a7b1-467b-8f13-6ca0e7f98a99 .showable.shown{visibility:visible}#chart-04fd9c78-a7b1-467b-8f13-6ca0e7f98a99 .gauge-background{fill:rgba(229,229,229,1);stroke:none}#chart-04fd9c78-a7b1-467b-8f13-6ca0e7f98a99 .bg-lines{stroke:rgba(249,249,249,1);stroke-width:2px}</style><script type=\"text/javascript\">window.pygal = window.pygal || {};window.pygal.config = window.pygal.config || {};window.pygal.config['04fd9c78-a7b1-467b-8f13-6ca0e7f98a99'] = {\"allow_interruptions\": false, \"box_mode\": \"extremes\", \"classes\": [\"pygal-chart\"], \"css\": [\"file://style.css\", \"file://graph.css\"], \"defs\": [], \"disable_xml_declaration\": false, \"dots_size\": 2.5, \"dynamic_print_values\": false, \"explicit_size\": false, \"fill\": true, \"force_uri_protocol\": \"https\", \"formatter\": null, \"half_pie\": false, \"height\": 600, \"include_x_axis\": false, \"inner_radius\": 0, \"interpolate\": null, \"interpolation_parameters\": {}, \"interpolation_precision\": 250, \"inverse_y_axis\": false, \"js\": [\"//kozea.github.io/pygal.js/2.0.x/pygal-tooltips.min.js\"], \"legend_at_bottom\": false, \"legend_at_bottom_columns\": null, \"legend_box_size\": 12, \"logarithmic\": false, \"margin\": 20, \"margin_bottom\": null, \"margin_left\": null, \"margin_right\": null, \"margin_top\": null, \"max_scale\": 16, \"min_scale\": 4, \"missing_value_fill_truncation\": \"x\", \"no_data_text\": \"No data\", \"no_prefix\": false, \"order_min\": null, \"pretty_print\": false, \"print_labels\": false, \"print_values\": false, \"print_values_position\": \"center\", \"print_zeroes\": true, \"range\": null, \"rounded_bars\": null, \"secondary_range\": null, \"show_dots\": false, \"show_legend\": true, \"show_minor_x_labels\": true, \"show_minor_y_labels\": true, \"show_only_major_dots\": false, \"show_x_guides\": false, \"show_x_labels\": true, \"show_y_guides\": true, \"show_y_labels\": true, \"spacing\": 10, \"stack_from_top\": false, \"strict\": false, \"stroke\": true, \"stroke_style\": null, \"style\": {\"background\": \"rgba(249, 249, 249, 1)\", \"ci_colors\": [], \"colors\": [\"#F44336\", \"#3F51B5\", \"#009688\", \"#FFC107\", \"#FF5722\", \"#9C27B0\", \"#03A9F4\", \"#8BC34A\", \"#FF9800\", \"#E91E63\", \"#2196F3\", \"#4CAF50\", \"#FFEB3B\", \"#673AB7\", \"#00BCD4\", \"#CDDC39\", \"#9E9E9E\", \"#607D8B\"], \"font_family\": \"Consolas, \\\"Liberation Mono\\\", Menlo, Courier, monospace\", \"foreground\": \"rgba(0, 0, 0, .87)\", \"foreground_strong\": \"rgba(0, 0, 0, 1)\", \"foreground_subtle\": \"rgba(0, 0, 0, .54)\", \"guide_stroke_dasharray\": \"4,4\", \"label_font_family\": \"Consolas, \\\"Liberation Mono\\\", Menlo, Courier, monospace\", \"label_font_size\": 10, \"legend_font_family\": \"Consolas, \\\"Liberation Mono\\\", Menlo, Courier, monospace\", \"legend_font_size\": 14, \"major_guide_stroke_dasharray\": \"6,6\", \"major_label_font_family\": \"Consolas, \\\"Liberation Mono\\\", Menlo, Courier, monospace\", \"major_label_font_size\": 10, \"no_data_font_family\": \"Consolas, \\\"Liberation Mono\\\", Menlo, Courier, monospace\", \"no_data_font_size\": 64, \"opacity\": \".7\", \"opacity_hover\": \".8\", \"plot_background\": \"rgba(255, 255, 255, 1)\", \"stroke_opacity\": \".8\", \"stroke_opacity_hover\": \".9\", \"title_font_family\": \"Consolas, \\\"Liberation Mono\\\", Menlo, Courier, monospace\", \"title_font_size\": 16, \"tooltip_font_family\": \"Consolas, \\\"Liberation Mono\\\", Menlo, Courier, monospace\", \"tooltip_font_size\": 14, \"transition\": \"150ms\", \"value_background\": \"rgba(229, 229, 229, 1)\", \"value_colors\": [], \"value_font_family\": \"Consolas, \\\"Liberation Mono\\\", Menlo, Courier, monospace\", \"value_font_size\": 16, \"value_label_font_family\": \"Consolas, \\\"Liberation Mono\\\", Menlo, Courier, monospace\", \"value_label_font_size\": 10}, \"title\": \"Topics\", \"tooltip_border_radius\": 0, \"tooltip_fancy_mode\": true, \"truncate_label\": null, \"truncate_legend\": null, \"width\": 800, \"x_label_rotation\": 0, \"x_labels\": null, \"x_labels_major\": null, \"x_labels_major_count\": null, \"x_labels_major_every\": null, \"x_title\": null, \"xrange\": null, \"y_label_rotation\": 0, \"y_labels\": null, \"y_labels_major\": null, \"y_labels_major_count\": null, \"y_labels_major_every\": null, \"y_title\": null, \"zero\": 0, \"legends\": [\"topic_0\", \"topic_1\"]}</script><script type=\"text/javascript\" xlink:href=\"https://kozea.github.io/pygal.js/2.0.x/pygal-tooltips.min.js\"/></defs><title>Topics</title><g class=\"graph stackedline-graph vertical\"><rect class=\"background\" height=\"600\" width=\"800\" x=\"0\" y=\"0\"/><g class=\"plot\" transform=\"translate(120, 46)\"><rect class=\"background\" height=\"534\" width=\"659.2\" x=\"0\" y=\"0\"/><g class=\"axis y always_show\"><g class=\"guides\"><path class=\"axis major line\" d=\"M0.000000 523.730769 h659.200000\"/><text class=\"major\" x=\"-5\" y=\"527.2307692307693\">0</text><title>0</title></g><g class=\"guides\"><path class=\"guide line\" d=\"M0.000000 450.379121 h659.200000\"/><text class=\"\" x=\"-5\" y=\"453.8791208791209\">1</text><title>1</title></g><g class=\"guides\"><path class=\"guide line\" d=\"M0.000000 377.027473 h659.200000\"/><text class=\"\" x=\"-5\" y=\"380.5274725274725\">2</text><title>2</title></g><g class=\"guides\"><path class=\"guide line\" d=\"M0.000000 303.675824 h659.200000\"/><text class=\"\" x=\"-5\" y=\"307.1758241758241\">3</text><title>3</title></g><g class=\"guides\"><path class=\"guide line\" d=\"M0.000000 230.324176 h659.200000\"/><text class=\"\" x=\"-5\" y=\"233.82417582417582\">4</text><title>4</title></g><g class=\"guides\"><path class=\"major guide line\" d=\"M0.000000 156.972527 h659.200000\"/><text class=\"major\" x=\"-5\" y=\"160.47252747252747\">5</text><title>5</title></g><g class=\"guides\"><path class=\"guide line\" d=\"M0.000000 83.620879 h659.200000\"/><text class=\"\" x=\"-5\" y=\"87.12087912087912\">6</text><title>6</title></g><g class=\"guides\"><path class=\"guide line\" d=\"M0.000000 10.269231 h659.200000\"/><text class=\"\" x=\"-5\" y=\"13.769230769230717\">7</text><title>7</title></g></g><g class=\"series serie-0 color-0\"><path class=\"line reactive\" d=\"M12.676923 523.730769 L12.676923 523.730769 38.030769 523.730769 63.384615 523.730769 88.738462 523.730769 114.092308 523.730769 139.446154 523.730769 164.800000 523.730769 190.153846 523.730769 215.507692 523.730769 240.861538 523.730769 266.215385 523.730769 291.569231 523.730769 316.923077 523.730769 342.276923 523.730769 367.630769 523.730769 392.984615 523.730769 418.338462 523.730769 443.692308 523.730769 469.046154 523.730769 494.400000 340.351648 519.753846 450.379121 545.107692 487.054945 570.461538 523.730769 595.815385 523.730769 621.169231 523.730769 646.523077 523.730769 646.523077 523.730769\"/></g><g class=\"series serie-1 color-1\"><path class=\"line reactive\" d=\"M12.676923 523.730769 L38.030769 523.730769 63.384615 523.730769 88.738462 523.730769 114.092308 450.379121 139.446154 523.730769 164.800000 523.730769 190.153846 523.730769 215.507692 523.730769 240.861538 523.730769 266.215385 523.730769 291.569231 523.730769 316.923077 523.730769 342.276923 523.730769 367.630769 523.730769 392.984615 523.730769 418.338462 523.730769 443.692308 523.730769 469.046154 523.730769 494.400000 10.269231 519.753846 156.972527 545.107692 450.379121 570.461538 523.730769 595.815385 523.730769 621.169231 523.730769 646.523077 450.379121 646.523077 523.730769 621.169231 523.730769 595.815385 523.730769 570.461538 523.730769 545.107692 487.054945 519.753846 450.379121 494.400000 340.351648 469.046154 523.730769 443.692308 523.730769 418.338462 523.730769 392.984615 523.730769 367.630769 523.730769 342.276923 523.730769 316.923077 523.730769 291.569231 523.730769 266.215385 523.730769 240.861538 523.730769 215.507692 523.730769 190.153846 523.730769 164.800000 523.730769 139.446154 523.730769 114.092308 523.730769 88.738462 523.730769 63.384615 523.730769 38.030769 523.730769 12.676923 523.730769\"/></g></g><g class=\"titles\"><text class=\"title plot_title\" x=\"400.0\" y=\"26\">Topics</text></g><g class=\"plot overlay\" transform=\"translate(120, 46)\"><g class=\"series serie-0 color-0\"/><g class=\"series serie-1 color-1\"/></g><g class=\"plot text-overlay\" transform=\"translate(120, 46)\"><g class=\"series serie-0 color-0\"/><g class=\"series serie-1 color-1\"/></g><g class=\"plot tooltip-overlay\" transform=\"translate(120, 46)\"><g class=\"tooltip\" style=\"opacity: 0\" transform=\"translate(0 0)\"><rect class=\"tooltip-box\" height=\"0\" rx=\"0\" ry=\"0\" width=\"0\"/><g class=\"text\"/></g></g><g class=\"legends\" transform=\"translate(10, 56)\"><g class=\"legend reactive activate-serie\" id=\"activate-serie-0\"><rect class=\"color-0 reactive\" height=\"12\" width=\"12\" x=\"0.0\" y=\"1.0\"/><text x=\"17.0\" y=\"11.2\">topic_0</text></g><g class=\"legend reactive activate-serie\" id=\"activate-serie-1\"><rect class=\"color-1 reactive\" height=\"12\" width=\"12\" x=\"0.0\" y=\"22.0\"/><text x=\"17.0\" y=\"32.2\">topic_1</text></g></g><g class=\"legends\" transform=\"translate(790, 56)\"/></g></svg>\n",
       "    </figure>\n",
       "  </body>\n",
       "</html>\n"
      ],
      "text/plain": [
       "<IPython.core.display.HTML object>"
      ]
     },
     "execution_count": 45,
     "metadata": {},
     "output_type": "execute_result"
    }
   ],
   "source": [
    "line_chart = pygal.StackedLine(fill=True, show_dots=False)\n",
    "line_chart.title = 'Topics'\n",
    "for topic in topics:\n",
    "    line_chart.add(topic, gb[topic].values)\n",
    "    \n",
    "HTML(html_pygal.format(pygal_render=line_chart.render(is_unicode=True)))"
   ]
  },
  {
   "cell_type": "code",
   "execution_count": 46,
   "metadata": {
    "ExecuteTime": {
     "end_time": "2019-02-03T23:03:04.506592Z",
     "start_time": "2019-02-03T23:03:04.494986Z"
    }
   },
   "outputs": [],
   "source": [
    "line_chart.render_to_file(f\"data/visualization/{'-'.join(name_dataset.split('.'))}_pygal.svg\")"
   ]
  },
  {
   "cell_type": "markdown",
   "metadata": {},
   "source": [
    "## joypy"
   ]
  },
  {
   "cell_type": "code",
   "execution_count": 47,
   "metadata": {
    "ExecuteTime": {
     "end_time": "2019-02-03T23:03:05.989839Z",
     "start_time": "2019-02-03T23:03:05.986573Z"
    }
   },
   "outputs": [],
   "source": [
    "import joypy # !pip install joypy"
   ]
  },
  {
   "cell_type": "code",
   "execution_count": 48,
   "metadata": {
    "ExecuteTime": {
     "end_time": "2019-02-03T23:03:06.244023Z",
     "start_time": "2019-02-03T23:03:06.234383Z"
    },
    "scrolled": true
   },
   "outputs": [
    {
     "name": "stdout",
     "output_type": "stream",
     "text": [
      "(88, 5)\n"
     ]
    },
    {
     "data": {
      "text/html": [
       "<div>\n",
       "<style scoped>\n",
       "    .dataframe tbody tr th:only-of-type {\n",
       "        vertical-align: middle;\n",
       "    }\n",
       "\n",
       "    .dataframe tbody tr th {\n",
       "        vertical-align: top;\n",
       "    }\n",
       "\n",
       "    .dataframe thead th {\n",
       "        text-align: right;\n",
       "    }\n",
       "</style>\n",
       "<table border=\"1\" class=\"dataframe\">\n",
       "  <thead>\n",
       "    <tr style=\"text-align: right;\">\n",
       "      <th></th>\n",
       "      <th>docID</th>\n",
       "      <th>year</th>\n",
       "      <th>month</th>\n",
       "      <th>topic_0</th>\n",
       "      <th>topic_1</th>\n",
       "    </tr>\n",
       "  </thead>\n",
       "  <tbody>\n",
       "    <tr>\n",
       "      <th>0</th>\n",
       "      <td>0</td>\n",
       "      <td>1914</td>\n",
       "      <td>9</td>\n",
       "      <td>0.0</td>\n",
       "      <td>0.0</td>\n",
       "    </tr>\n",
       "    <tr>\n",
       "      <th>1</th>\n",
       "      <td>1</td>\n",
       "      <td>1914</td>\n",
       "      <td>9</td>\n",
       "      <td>0.0</td>\n",
       "      <td>0.0</td>\n",
       "    </tr>\n",
       "    <tr>\n",
       "      <th>2</th>\n",
       "      <td>2</td>\n",
       "      <td>1914</td>\n",
       "      <td>9</td>\n",
       "      <td>0.0</td>\n",
       "      <td>0.0</td>\n",
       "    </tr>\n",
       "    <tr>\n",
       "      <th>3</th>\n",
       "      <td>3</td>\n",
       "      <td>1914</td>\n",
       "      <td>9</td>\n",
       "      <td>0.0</td>\n",
       "      <td>0.0</td>\n",
       "    </tr>\n",
       "    <tr>\n",
       "      <th>4</th>\n",
       "      <td>4</td>\n",
       "      <td>1914</td>\n",
       "      <td>9</td>\n",
       "      <td>0.0</td>\n",
       "      <td>0.0</td>\n",
       "    </tr>\n",
       "  </tbody>\n",
       "</table>\n",
       "</div>"
      ],
      "text/plain": [
       "   docID  year  month  topic_0  topic_1\n",
       "0      0  1914      9      0.0      0.0\n",
       "1      1  1914      9      0.0      0.0\n",
       "2      2  1914      9      0.0      0.0\n",
       "3      3  1914      9      0.0      0.0\n",
       "4      4  1914      9      0.0      0.0"
      ]
     },
     "execution_count": 48,
     "metadata": {},
     "output_type": "execute_result"
    }
   ],
   "source": [
    "print(joined.shape)\n",
    "joined.head()"
   ]
  },
  {
   "cell_type": "code",
   "execution_count": 49,
   "metadata": {
    "ExecuteTime": {
     "end_time": "2019-02-03T23:03:06.648839Z",
     "start_time": "2019-02-03T23:03:06.630257Z"
    }
   },
   "outputs": [
    {
     "data": {
      "text/html": [
       "<div>\n",
       "<style scoped>\n",
       "    .dataframe tbody tr th:only-of-type {\n",
       "        vertical-align: middle;\n",
       "    }\n",
       "\n",
       "    .dataframe tbody tr th {\n",
       "        vertical-align: top;\n",
       "    }\n",
       "\n",
       "    .dataframe thead th {\n",
       "        text-align: right;\n",
       "    }\n",
       "</style>\n",
       "<table border=\"1\" class=\"dataframe\">\n",
       "  <thead>\n",
       "    <tr style=\"text-align: right;\">\n",
       "      <th></th>\n",
       "      <th>index</th>\n",
       "      <th>docID</th>\n",
       "      <th>year</th>\n",
       "      <th>month</th>\n",
       "      <th>topic_0</th>\n",
       "      <th>topic_1</th>\n",
       "      <th>year_month</th>\n",
       "    </tr>\n",
       "  </thead>\n",
       "  <tbody>\n",
       "    <tr>\n",
       "      <th>0</th>\n",
       "      <td>0</td>\n",
       "      <td>0</td>\n",
       "      <td>1914</td>\n",
       "      <td>9</td>\n",
       "      <td>0.0</td>\n",
       "      <td>0.0</td>\n",
       "      <td>1914-9-01</td>\n",
       "    </tr>\n",
       "    <tr>\n",
       "      <th>1</th>\n",
       "      <td>1</td>\n",
       "      <td>1</td>\n",
       "      <td>1914</td>\n",
       "      <td>9</td>\n",
       "      <td>0.0</td>\n",
       "      <td>0.0</td>\n",
       "      <td>1914-9-01</td>\n",
       "    </tr>\n",
       "    <tr>\n",
       "      <th>2</th>\n",
       "      <td>2</td>\n",
       "      <td>2</td>\n",
       "      <td>1914</td>\n",
       "      <td>9</td>\n",
       "      <td>0.0</td>\n",
       "      <td>0.0</td>\n",
       "      <td>1914-9-01</td>\n",
       "    </tr>\n",
       "    <tr>\n",
       "      <th>3</th>\n",
       "      <td>3</td>\n",
       "      <td>3</td>\n",
       "      <td>1914</td>\n",
       "      <td>9</td>\n",
       "      <td>0.0</td>\n",
       "      <td>0.0</td>\n",
       "      <td>1914-9-01</td>\n",
       "    </tr>\n",
       "    <tr>\n",
       "      <th>4</th>\n",
       "      <td>4</td>\n",
       "      <td>4</td>\n",
       "      <td>1914</td>\n",
       "      <td>9</td>\n",
       "      <td>0.0</td>\n",
       "      <td>0.0</td>\n",
       "      <td>1914-9-01</td>\n",
       "    </tr>\n",
       "  </tbody>\n",
       "</table>\n",
       "</div>"
      ],
      "text/plain": [
       "   index  docID  year  month  topic_0  topic_1 year_month\n",
       "0      0      0  1914      9      0.0      0.0  1914-9-01\n",
       "1      1      1  1914      9      0.0      0.0  1914-9-01\n",
       "2      2      2  1914      9      0.0      0.0  1914-9-01\n",
       "3      3      3  1914      9      0.0      0.0  1914-9-01\n",
       "4      4      4  1914      9      0.0      0.0  1914-9-01"
      ]
     },
     "execution_count": 49,
     "metadata": {},
     "output_type": "execute_result"
    }
   ],
   "source": [
    "joined['year_month'] = joined.apply(lambda x: str(int(x.year)) +'-'+ str(int(x.month)) + '-01', axis=1)\n",
    "joined.reset_index(inplace=True)\n",
    "\n",
    "joined.head()"
   ]
  },
  {
   "cell_type": "code",
   "execution_count": 50,
   "metadata": {
    "ExecuteTime": {
     "end_time": "2019-02-03T23:03:07.071538Z",
     "start_time": "2019-02-03T23:03:07.053796Z"
    }
   },
   "outputs": [
    {
     "name": "stdout",
     "output_type": "stream",
     "text": [
      "(528, 3)\n"
     ]
    },
    {
     "data": {
      "text/html": [
       "<div>\n",
       "<style scoped>\n",
       "    .dataframe tbody tr th:only-of-type {\n",
       "        vertical-align: middle;\n",
       "    }\n",
       "\n",
       "    .dataframe tbody tr th {\n",
       "        vertical-align: top;\n",
       "    }\n",
       "\n",
       "    .dataframe thead th {\n",
       "        text-align: right;\n",
       "    }\n",
       "</style>\n",
       "<table border=\"1\" class=\"dataframe\">\n",
       "  <thead>\n",
       "    <tr style=\"text-align: right;\">\n",
       "      <th></th>\n",
       "      <th>year_month</th>\n",
       "      <th>topic</th>\n",
       "      <th>text</th>\n",
       "    </tr>\n",
       "  </thead>\n",
       "  <tbody>\n",
       "    <tr>\n",
       "      <th>0</th>\n",
       "      <td>1914-9-01</td>\n",
       "      <td>index</td>\n",
       "      <td>0.0</td>\n",
       "    </tr>\n",
       "    <tr>\n",
       "      <th>1</th>\n",
       "      <td>1914-9-01</td>\n",
       "      <td>index</td>\n",
       "      <td>1.0</td>\n",
       "    </tr>\n",
       "    <tr>\n",
       "      <th>2</th>\n",
       "      <td>1914-9-01</td>\n",
       "      <td>index</td>\n",
       "      <td>2.0</td>\n",
       "    </tr>\n",
       "    <tr>\n",
       "      <th>3</th>\n",
       "      <td>1914-9-01</td>\n",
       "      <td>index</td>\n",
       "      <td>3.0</td>\n",
       "    </tr>\n",
       "    <tr>\n",
       "      <th>4</th>\n",
       "      <td>1914-9-01</td>\n",
       "      <td>index</td>\n",
       "      <td>4.0</td>\n",
       "    </tr>\n",
       "  </tbody>\n",
       "</table>\n",
       "</div>"
      ],
      "text/plain": [
       "  year_month  topic  text\n",
       "0  1914-9-01  index   0.0\n",
       "1  1914-9-01  index   1.0\n",
       "2  1914-9-01  index   2.0\n",
       "3  1914-9-01  index   3.0\n",
       "4  1914-9-01  index   4.0"
      ]
     },
     "execution_count": 50,
     "metadata": {},
     "output_type": "execute_result"
    }
   ],
   "source": [
    "joined_melt = joined.melt('year_month', var_name='topic', value_name='text')\n",
    "print(joined_melt.shape)\n",
    "joined_melt.head()"
   ]
  },
  {
   "cell_type": "code",
   "execution_count": 51,
   "metadata": {
    "ExecuteTime": {
     "end_time": "2019-02-03T23:03:07.399439Z",
     "start_time": "2019-02-03T23:03:07.389835Z"
    },
    "scrolled": true
   },
   "outputs": [
    {
     "name": "stdout",
     "output_type": "stream",
     "text": [
      "(176, 3)\n"
     ]
    },
    {
     "data": {
      "text/plain": [
       "topic_0    88\n",
       "topic_1    88\n",
       "Name: topic, dtype: int64"
      ]
     },
     "execution_count": 51,
     "metadata": {},
     "output_type": "execute_result"
    }
   ],
   "source": [
    "# select only topic_*\n",
    "joined_melt_new = joined_melt[(joined_melt.topic!='docID') & (joined_melt.topic!='index')\n",
    "                              & (joined_melt.topic!='year') & (joined_melt.topic!='month')]\n",
    "print(joined_melt_new.shape)\n",
    "joined_melt_new.topic.value_counts()"
   ]
  },
  {
   "cell_type": "code",
   "execution_count": 52,
   "metadata": {
    "ExecuteTime": {
     "end_time": "2019-02-03T23:03:07.991609Z",
     "start_time": "2019-02-03T23:03:07.599558Z"
    }
   },
   "outputs": [
    {
     "data": {
      "image/png": "[encoded data removed]",
      "text/plain": [
       "<Figure size 1440x720 with 3 Axes>"
      ]
     },
     "metadata": {
      "needs_background": "light"
     },
     "output_type": "display_data"
    }
   ],
   "source": [
    "labels = sorted(joined_melt_new['year_month'].unique())\n",
    "\n",
    "fig, axes = joypy.joyplot(joined_melt_new, by='topic', column='text', figsize=(20, 10),xlabelsize=20,ylabelsize=20,\n",
    "                          overlap=0.4, fill=True, linecolor=\"k\", linewidth=2,\n",
    "                          kind='values', fade=True, xrot=90, x_range=[i for i in range(len(labels))],\n",
    "                          background='white');\n",
    "\n",
    "ticks_labels = {i:t for i, t in enumerate(labels)}\n",
    "axes[-1].set_xticks([k for k, v in ticks_labels.items() if k % 6 == 0])\n",
    "ticks = axes[-1].get_xticks()\n",
    "axes[-1].set_xticklabels([ticks_labels.get(i, 'stop') for i in ticks]);"
   ]
  },
  {
   "cell_type": "code",
   "execution_count": 53,
   "metadata": {
    "ExecuteTime": {
     "end_time": "2019-02-03T23:03:08.446987Z",
     "start_time": "2019-02-03T23:03:08.317583Z"
    }
   },
   "outputs": [],
   "source": [
    "fig.savefig(f\"data/visualization/{'-'.join(name_dataset.split('.'))}_joypy\")"
   ]
  },
  {
   "cell_type": "code",
   "execution_count": null,
   "metadata": {},
   "outputs": [],
   "source": []
  }
 ],
 "metadata": {
  "kernelspec": {
   "display_name": "Python 3",
   "language": "python",
   "name": "python3"
  },
  "language_info": {
   "codemirror_mode": {
    "name": "ipython",
    "version": 3
   },
   "file_extension": ".py",
   "mimetype": "text/x-python",
   "name": "python",
   "nbconvert_exporter": "python",
   "pygments_lexer": "ipython3",
   "version": "3.6.7"
  },
  "varInspector": {
   "cols": {
    "lenName": 16,
    "lenType": 16,
    "lenVar": 40
   },
   "kernels_config": {
    "python": {
     "delete_cmd_postfix": "",
     "delete_cmd_prefix": "del ",
     "library": "var_list.py",
     "varRefreshCmd": "print(var_dic_list())"
    },
    "r": {
     "delete_cmd_postfix": ") ",
     "delete_cmd_prefix": "rm(",
     "library": "var_list.r",
     "varRefreshCmd": "cat(var_dic_list()) "
    }
   },
   "types_to_exclude": [
    "module",
    "function",
    "builtin_function_or_method",
    "instance",
    "_Feature"
   ],
   "window_display": false
  }
 },
 "nbformat": 4,
 "nbformat_minor": 2
}
