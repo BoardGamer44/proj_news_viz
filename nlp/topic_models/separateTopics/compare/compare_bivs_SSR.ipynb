{
 "cells": [
  {
   "cell_type": "code",
   "execution_count": 39,
   "metadata": {
    "ExecuteTime": {
     "end_time": "2019-02-13T23:33:12.035146Z",
     "start_time": "2019-02-13T23:33:12.028748Z"
    },
    "scrolled": true
   },
   "outputs": [],
   "source": [
    "import numpy as np\n",
    "import pandas as pd\n",
    "import os\n",
    "\n",
    "import re\n",
    "from ast import literal_eval\n",
    "from tqdm import tqdm\n",
    "from datetime import datetime as time\n",
    "from ast import literal_eval\n",
    "from sklearn.model_selection import train_test_split\n",
    "\n",
    "import artm\n",
    "from gensim.models import Phrases\n",
    "from gensim.models.phrases import Phraser\n",
    "\n",
    "import gc\n",
    "import matplotlib.pyplot as plt\n",
    "%matplotlib inline"
   ]
  },
  {
   "cell_type": "code",
   "execution_count": null,
   "metadata": {},
   "outputs": [],
   "source": []
  },
  {
   "cell_type": "markdown",
   "metadata": {},
   "source": [
    "# read data"
   ]
  },
  {
   "cell_type": "markdown",
   "metadata": {},
   "source": [
    "* ## lenta"
   ]
  },
  {
   "cell_type": "code",
   "execution_count": 5,
   "metadata": {
    "ExecuteTime": {
     "end_time": "2019-02-13T23:11:57.982460Z",
     "start_time": "2019-02-13T23:11:57.871755Z"
    }
   },
   "outputs": [
    {
     "name": "stdout",
     "output_type": "stream",
     "text": [
      "-rw-rw-r-- 1 vtrokhymenko vtrokhymenko 491K Jan 15 18:18 ../lenta/data/69-.paralel.csv.bz2\r\n",
      "-rw-rw-r-- 1 vtrokhymenko vtrokhymenko  48M Jan 15 18:21 ../lenta/data/Russia.csv.bz2\r\n",
      "-rw-rw-r-- 1 vtrokhymenko vtrokhymenko  12M Jan 15 18:21 ../lenta/data/Sil_struktur.csv.bz2\r\n",
      "-rw-rw-r-- 1 vtrokhymenko vtrokhymenko  44K Jan 15 18:19 ../lenta/data/biblioteka.csv.bz2\r\n",
      "-rw-rw-r-- 1 vtrokhymenko vtrokhymenko  25M Jan 15 18:19 ../lenta/data/bivs.SSR.csv.bz2\r\n",
      "-rw-rw-r-- 1 vtrokhymenko vtrokhymenko 6.1M Jan 15 18:18 ../lenta/data/biznes.csv.bz2\r\n",
      "-rw-rw-r-- 1 vtrokhymenko vtrokhymenko 2.9M Jan 15 18:21 ../lenta/data/cennosti.csv.bz2\r\n",
      "-rw-rw-r-- 1 vtrokhymenko vtrokhymenko  28M Jan 15 18:21 ../lenta/data/economic.csv.bz2\r\n",
      "-rw-rw-r-- 1 vtrokhymenko vtrokhymenko  16M Jan 15 18:19 ../lenta/data/internet.i.smi.csv.bz2\r\n",
      "-rw-rw-r-- 1 vtrokhymenko vtrokhymenko 8.6M Jan 15 18:18 ../lenta/data/iz.jizni.csv.bz2\r\n",
      "-rw-rw-r-- 1 vtrokhymenko vtrokhymenko 125K Jan 15 18:18 ../lenta/data/kultprosvet.csv.bz2\r\n",
      "-rw-rw-r-- 1 vtrokhymenko vtrokhymenko  20M Jan 15 18:18 ../lenta/data/kultura.csv.bz2\r\n",
      "-rw-rw-r-- 1 vtrokhymenko vtrokhymenko  65K Jan 15 18:20 ../lenta/data/legprom.csv.bz2\r\n",
      "-rw-rw-r-- 1 vtrokhymenko vtrokhymenko  56M Jan 16 02:07 ../lenta/data/mir.csv.bz2\r\n",
      "-rw-rw-r-- 1 vtrokhymenko vtrokhymenko  24M Jan 15 18:21 ../lenta/data/naula.i.tehn.csv.bz2\r\n",
      "-rw-rw-r-- 1 vtrokhymenko vtrokhymenko 2.4K Jan 15 18:20 ../lenta/data/orujie.csv.bz2\r\n",
      "-rw-rw-r-- 1 vtrokhymenko vtrokhymenko 3.0M Jan 15 18:21 ../lenta/data/puteshestvi.csv.bz2\r\n",
      "-rw-rw-r-- 1 vtrokhymenko vtrokhymenko  19M Jan 15 18:20 ../lenta/data/sport.csv.bz2\r\n"
     ]
    }
   ],
   "source": [
    "!ls -lah ../lenta/data/*.bz2"
   ]
  },
  {
   "cell_type": "code",
   "execution_count": 9,
   "metadata": {
    "ExecuteTime": {
     "end_time": "2019-02-13T23:13:50.312396Z",
     "start_time": "2019-02-13T23:13:50.310463Z"
    }
   },
   "outputs": [],
   "source": [
    "PATH_lenta = '../lenta/data'\n",
    "name_dataset_lenta = 'bivs.SSR'"
   ]
  },
  {
   "cell_type": "code",
   "execution_count": 11,
   "metadata": {
    "ExecuteTime": {
     "end_time": "2019-02-13T23:14:19.724360Z",
     "start_time": "2019-02-13T23:14:13.431657Z"
    },
    "scrolled": true
   },
   "outputs": [
    {
     "name": "stdout",
     "output_type": "stream",
     "text": [
      "(61056, 7)\n"
     ]
    },
    {
     "data": {
      "text/html": [
       "<div>\n",
       "<style scoped>\n",
       "    .dataframe tbody tr th:only-of-type {\n",
       "        vertical-align: middle;\n",
       "    }\n",
       "\n",
       "    .dataframe tbody tr th {\n",
       "        vertical-align: top;\n",
       "    }\n",
       "\n",
       "    .dataframe thead th {\n",
       "        text-align: right;\n",
       "    }\n",
       "</style>\n",
       "<table border=\"1\" class=\"dataframe\">\n",
       "  <thead>\n",
       "    <tr style=\"text-align: right;\">\n",
       "      <th></th>\n",
       "      <th>1914-lenta/</th>\n",
       "      <th>url</th>\n",
       "      <th>edition</th>\n",
       "      <th>topics</th>\n",
       "      <th>title</th>\n",
       "      <th>text</th>\n",
       "      <th>topic</th>\n",
       "    </tr>\n",
       "  </thead>\n",
       "  <tbody>\n",
       "    <tr>\n",
       "      <th>0</th>\n",
       "      <td>1999-10-01 12:00:00</td>\n",
       "      <td>https://lenta.ru/news/1999/10/01/azerbaijan/</td>\n",
       "      <td>NaN</td>\n",
       "      <td>Россия</td>\n",
       "      <td>Российский самолет сбросил бомбу на Азербайджан</td>\n",
       "      <td>ИТАР-ТАСС со ссылкой на пресс-службу Миноборон...</td>\n",
       "      <td>Бывший СССР</td>\n",
       "    </tr>\n",
       "    <tr>\n",
       "      <th>1</th>\n",
       "      <td>1999-10-01 12:00:00</td>\n",
       "      <td>https://lenta.ru/news/1999/10/01/minsk/</td>\n",
       "      <td>NaN</td>\n",
       "      <td>Мир</td>\n",
       "      <td>В Минске прошла массовая акция протеста</td>\n",
       "      <td>В минувший четверг в Минске прошла самая массо...</td>\n",
       "      <td>Бывший СССР</td>\n",
       "    </tr>\n",
       "    <tr>\n",
       "      <th>2</th>\n",
       "      <td>1999-10-01 12:00:00</td>\n",
       "      <td>https://lenta.ru/news/1999/10/01/vodka/</td>\n",
       "      <td>NaN</td>\n",
       "      <td>Россия</td>\n",
       "      <td>В Смоленске разминировали ликеро-водочный завод</td>\n",
       "      <td>В минувший четверг на территории ликеро-водочн...</td>\n",
       "      <td>Бывший СССР</td>\n",
       "    </tr>\n",
       "    <tr>\n",
       "      <th>3</th>\n",
       "      <td>1999-10-03 12:00:00</td>\n",
       "      <td>https://lenta.ru/news/1999/10/03/pokushenie/</td>\n",
       "      <td>NaN</td>\n",
       "      <td>Мир</td>\n",
       "      <td>Покушение на кандидата в президенты Украины</td>\n",
       "      <td>UA today, специально для Lenta.RU\\nCовершено п...</td>\n",
       "      <td>Бывший СССР</td>\n",
       "    </tr>\n",
       "    <tr>\n",
       "      <th>4</th>\n",
       "      <td>1999-10-04 12:00:00</td>\n",
       "      <td>https://lenta.ru/news/1999/10/04/geroin/</td>\n",
       "      <td>NaN</td>\n",
       "      <td>Россия</td>\n",
       "      <td>На границе с Афганистаном задержана крупная па...</td>\n",
       "      <td>В ночь на понедельник в 1 час 50 минут по моск...</td>\n",
       "      <td>Бывший СССР</td>\n",
       "    </tr>\n",
       "  </tbody>\n",
       "</table>\n",
       "</div>"
      ],
      "text/plain": [
       "           1914-lenta/                                           url  edition  \\\n",
       "0  1999-10-01 12:00:00  https://lenta.ru/news/1999/10/01/azerbaijan/      NaN   \n",
       "1  1999-10-01 12:00:00       https://lenta.ru/news/1999/10/01/minsk/      NaN   \n",
       "2  1999-10-01 12:00:00       https://lenta.ru/news/1999/10/01/vodka/      NaN   \n",
       "3  1999-10-03 12:00:00  https://lenta.ru/news/1999/10/03/pokushenie/      NaN   \n",
       "4  1999-10-04 12:00:00      https://lenta.ru/news/1999/10/04/geroin/      NaN   \n",
       "\n",
       "   topics                                              title  \\\n",
       "0  Россия    Российский самолет сбросил бомбу на Азербайджан   \n",
       "1     Мир            В Минске прошла массовая акция протеста   \n",
       "2  Россия    В Смоленске разминировали ликеро-водочный завод   \n",
       "3     Мир        Покушение на кандидата в президенты Украины   \n",
       "4  Россия  На границе с Афганистаном задержана крупная па...   \n",
       "\n",
       "                                                text        topic  \n",
       "0  ИТАР-ТАСС со ссылкой на пресс-службу Миноборон...  Бывший СССР  \n",
       "1  В минувший четверг в Минске прошла самая массо...  Бывший СССР  \n",
       "2  В минувший четверг на территории ликеро-водочн...  Бывший СССР  \n",
       "3  UA today, специально для Lenta.RU\\nCовершено п...  Бывший СССР  \n",
       "4  В ночь на понедельник в 1 час 50 минут по моск...  Бывший СССР  "
      ]
     },
     "execution_count": 11,
     "metadata": {},
     "output_type": "execute_result"
    }
   ],
   "source": [
    "df_lenta = pd.read_csv(f'{PATH_lenta}/{name_dataset_lenta}.csv.bz2')\n",
    "df_lenta = df_lenta[df_lenta.text!='text']\n",
    "print(df_lenta.shape)\n",
    "df_lenta.head()"
   ]
  },
  {
   "cell_type": "markdown",
   "metadata": {
    "ExecuteTime": {
     "end_time": "2019-02-13T23:15:11.593646Z",
     "start_time": "2019-02-13T23:15:11.574509Z"
    }
   },
   "source": [
    "* get dates"
   ]
  },
  {
   "cell_type": "code",
   "execution_count": 15,
   "metadata": {
    "ExecuteTime": {
     "end_time": "2019-02-13T23:16:49.512269Z",
     "start_time": "2019-02-13T23:16:49.295750Z"
    }
   },
   "outputs": [],
   "source": [
    "df_lenta['date_raw'] = df_lenta['url'].apply(re.compile('(\\d{4})/(\\d{2})/(\\d{2})').findall)\n",
    "\n",
    "df_lenta['year'] = df_lenta['date_raw'].apply(lambda x: int(x[0][0]))\n",
    "df_lenta['month'] = df_lenta['date_raw'].apply(lambda x: int(x[0][1]))"
   ]
  },
  {
   "cell_type": "markdown",
   "metadata": {},
   "source": [
    "* clean text"
   ]
  },
  {
   "cell_type": "code",
   "execution_count": 18,
   "metadata": {
    "ExecuteTime": {
     "end_time": "2019-02-13T23:23:44.538397Z",
     "start_time": "2019-02-13T23:23:44.505654Z"
    }
   },
   "outputs": [],
   "source": [
    "import preprocessing_tools as pr"
   ]
  },
  {
   "cell_type": "code",
   "execution_count": 19,
   "metadata": {
    "ExecuteTime": {
     "end_time": "2019-02-13T23:24:19.876876Z",
     "start_time": "2019-02-13T23:24:10.122524Z"
    }
   },
   "outputs": [
    {
     "name": "stdout",
     "output_type": "stream",
     "text": [
      "CPU times: user 9.71 s, sys: 38.1 ms, total: 9.75 s\n",
      "Wall time: 9.75 s\n"
     ]
    }
   ],
   "source": [
    "%%time\n",
    "df_lenta.text = df_lenta.text.apply(pr.clean_text)"
   ]
  },
  {
   "cell_type": "markdown",
   "metadata": {},
   "source": [
    "* cleanedNames"
   ]
  },
  {
   "cell_type": "code",
   "execution_count": 20,
   "metadata": {
    "ExecuteTime": {
     "end_time": "2019-02-13T23:24:22.513924Z",
     "start_time": "2019-02-13T23:24:22.406376Z"
    }
   },
   "outputs": [],
   "source": [
    "from cleanedNames import KeyProc\n",
    "cn = KeyProc()"
   ]
  },
  {
   "cell_type": "code",
   "execution_count": 22,
   "metadata": {
    "ExecuteTime": {
     "end_time": "2019-02-13T23:26:14.483244Z",
     "start_time": "2019-02-13T23:24:32.357247Z"
    }
   },
   "outputs": [
    {
     "name": "stdout",
     "output_type": "stream",
     "text": [
      "CPU times: user 1min 42s, sys: 40.5 ms, total: 1min 42s\n",
      "Wall time: 1min 42s\n"
     ]
    }
   ],
   "source": [
    "%%time\n",
    "df_lenta.text = df_lenta.text.apply(cn.replaceKeywords)"
   ]
  },
  {
   "cell_type": "markdown",
   "metadata": {},
   "source": [
    "* lemmatization"
   ]
  },
  {
   "cell_type": "code",
   "execution_count": 23,
   "metadata": {
    "ExecuteTime": {
     "end_time": "2019-02-13T23:29:06.077594Z",
     "start_time": "2019-02-13T23:26:42.651669Z"
    }
   },
   "outputs": [
    {
     "name": "stdout",
     "output_type": "stream",
     "text": [
      "CPU times: user 2min 23s, sys: 113 ms, total: 2min 23s\n",
      "Wall time: 2min 23s\n"
     ]
    }
   ],
   "source": [
    "%%time\n",
    "df_lenta['lemmatized_text'] = df_lenta.text.apply(pr.lemmatization)"
   ]
  },
  {
   "cell_type": "code",
   "execution_count": 24,
   "metadata": {
    "ExecuteTime": {
     "end_time": "2019-02-13T23:29:09.407151Z",
     "start_time": "2019-02-13T23:29:09.393079Z"
    }
   },
   "outputs": [
    {
     "data": {
      "text/html": [
       "<div>\n",
       "<style scoped>\n",
       "    .dataframe tbody tr th:only-of-type {\n",
       "        vertical-align: middle;\n",
       "    }\n",
       "\n",
       "    .dataframe tbody tr th {\n",
       "        vertical-align: top;\n",
       "    }\n",
       "\n",
       "    .dataframe thead th {\n",
       "        text-align: right;\n",
       "    }\n",
       "</style>\n",
       "<table border=\"1\" class=\"dataframe\">\n",
       "  <thead>\n",
       "    <tr style=\"text-align: right;\">\n",
       "      <th></th>\n",
       "      <th>1914-lenta/</th>\n",
       "      <th>url</th>\n",
       "      <th>edition</th>\n",
       "      <th>topics</th>\n",
       "      <th>title</th>\n",
       "      <th>text</th>\n",
       "      <th>topic</th>\n",
       "      <th>date_raw</th>\n",
       "      <th>year</th>\n",
       "      <th>month</th>\n",
       "      <th>lemmatized_text</th>\n",
       "    </tr>\n",
       "  </thead>\n",
       "  <tbody>\n",
       "    <tr>\n",
       "      <th>0</th>\n",
       "      <td>1999-10-01 12:00:00</td>\n",
       "      <td>https://lenta.ru/news/1999/10/01/azerbaijan/</td>\n",
       "      <td>NaN</td>\n",
       "      <td>Россия</td>\n",
       "      <td>Российский самолет сбросил бомбу на Азербайджан</td>\n",
       "      <td>итартасс со ссылкой на прессслужбу минобороны ...</td>\n",
       "      <td>Бывший СССР</td>\n",
       "      <td>[(1999, 10, 01)]</td>\n",
       "      <td>1999</td>\n",
       "      <td>10</td>\n",
       "      <td>[итартасс, ссылка, прессслужба, минобороны, аз...</td>\n",
       "    </tr>\n",
       "    <tr>\n",
       "      <th>1</th>\n",
       "      <td>1999-10-01 12:00:00</td>\n",
       "      <td>https://lenta.ru/news/1999/10/01/minsk/</td>\n",
       "      <td>NaN</td>\n",
       "      <td>Мир</td>\n",
       "      <td>В Минске прошла массовая акция протеста</td>\n",
       "      <td>в минувший четверг в минске прошла самая массо...</td>\n",
       "      <td>Бывший СССР</td>\n",
       "      <td>[(1999, 10, 01)]</td>\n",
       "      <td>1999</td>\n",
       "      <td>10</td>\n",
       "      <td>[минувший, минск, массовый, акция, протест, ит...</td>\n",
       "    </tr>\n",
       "    <tr>\n",
       "      <th>2</th>\n",
       "      <td>1999-10-01 12:00:00</td>\n",
       "      <td>https://lenta.ru/news/1999/10/01/vodka/</td>\n",
       "      <td>NaN</td>\n",
       "      <td>Россия</td>\n",
       "      <td>В Смоленске разминировали ликеро-водочный завод</td>\n",
       "      <td>в минувший четверг на территории ликероводочно...</td>\n",
       "      <td>Бывший СССР</td>\n",
       "      <td>[(1999, 10, 01)]</td>\n",
       "      <td>1999</td>\n",
       "      <td>10</td>\n",
       "      <td>[минувший, территория, ликероводочный, завод, ...</td>\n",
       "    </tr>\n",
       "    <tr>\n",
       "      <th>3</th>\n",
       "      <td>1999-10-03 12:00:00</td>\n",
       "      <td>https://lenta.ru/news/1999/10/03/pokushenie/</td>\n",
       "      <td>NaN</td>\n",
       "      <td>Мир</td>\n",
       "      <td>Покушение на кандидата в президенты Украины</td>\n",
       "      <td>ua today специально для lentaru cовершено поку...</td>\n",
       "      <td>Бывший СССР</td>\n",
       "      <td>[(1999, 10, 03)]</td>\n",
       "      <td>1999</td>\n",
       "      <td>10</td>\n",
       "      <td>[ua, today, специально, lentaru, овершить, пок...</td>\n",
       "    </tr>\n",
       "    <tr>\n",
       "      <th>4</th>\n",
       "      <td>1999-10-04 12:00:00</td>\n",
       "      <td>https://lenta.ru/news/1999/10/04/geroin/</td>\n",
       "      <td>NaN</td>\n",
       "      <td>Россия</td>\n",
       "      <td>На границе с Афганистаном задержана крупная па...</td>\n",
       "      <td>в ночь на понедельник в  час  минут по московс...</td>\n",
       "      <td>Бывший СССР</td>\n",
       "      <td>[(1999, 10, 04)]</td>\n",
       "      <td>1999</td>\n",
       "      <td>10</td>\n",
       "      <td>[ночь, час, минута, московский, участок, пяндж...</td>\n",
       "    </tr>\n",
       "  </tbody>\n",
       "</table>\n",
       "</div>"
      ],
      "text/plain": [
       "           1914-lenta/                                           url  edition  \\\n",
       "0  1999-10-01 12:00:00  https://lenta.ru/news/1999/10/01/azerbaijan/      NaN   \n",
       "1  1999-10-01 12:00:00       https://lenta.ru/news/1999/10/01/minsk/      NaN   \n",
       "2  1999-10-01 12:00:00       https://lenta.ru/news/1999/10/01/vodka/      NaN   \n",
       "3  1999-10-03 12:00:00  https://lenta.ru/news/1999/10/03/pokushenie/      NaN   \n",
       "4  1999-10-04 12:00:00      https://lenta.ru/news/1999/10/04/geroin/      NaN   \n",
       "\n",
       "   topics                                              title  \\\n",
       "0  Россия    Российский самолет сбросил бомбу на Азербайджан   \n",
       "1     Мир            В Минске прошла массовая акция протеста   \n",
       "2  Россия    В Смоленске разминировали ликеро-водочный завод   \n",
       "3     Мир        Покушение на кандидата в президенты Украины   \n",
       "4  Россия  На границе с Афганистаном задержана крупная па...   \n",
       "\n",
       "                                                text        topic  \\\n",
       "0  итартасс со ссылкой на прессслужбу минобороны ...  Бывший СССР   \n",
       "1  в минувший четверг в минске прошла самая массо...  Бывший СССР   \n",
       "2  в минувший четверг на территории ликероводочно...  Бывший СССР   \n",
       "3  ua today специально для lentaru cовершено поку...  Бывший СССР   \n",
       "4  в ночь на понедельник в  час  минут по московс...  Бывший СССР   \n",
       "\n",
       "           date_raw  year  month  \\\n",
       "0  [(1999, 10, 01)]  1999     10   \n",
       "1  [(1999, 10, 01)]  1999     10   \n",
       "2  [(1999, 10, 01)]  1999     10   \n",
       "3  [(1999, 10, 03)]  1999     10   \n",
       "4  [(1999, 10, 04)]  1999     10   \n",
       "\n",
       "                                     lemmatized_text  \n",
       "0  [итартасс, ссылка, прессслужба, минобороны, аз...  \n",
       "1  [минувший, минск, массовый, акция, протест, ит...  \n",
       "2  [минувший, территория, ликероводочный, завод, ...  \n",
       "3  [ua, today, специально, lentaru, овершить, пок...  \n",
       "4  [ночь, час, минута, московский, участок, пяндж...  "
      ]
     },
     "execution_count": 24,
     "metadata": {},
     "output_type": "execute_result"
    }
   ],
   "source": [
    "df_lenta.head()"
   ]
  },
  {
   "cell_type": "markdown",
   "metadata": {},
   "source": [
    "* add docID"
   ]
  },
  {
   "cell_type": "code",
   "execution_count": 26,
   "metadata": {
    "ExecuteTime": {
     "end_time": "2019-02-13T23:29:26.981752Z",
     "start_time": "2019-02-13T23:29:26.928685Z"
    }
   },
   "outputs": [
    {
     "data": {
      "text/html": [
       "<div>\n",
       "<style scoped>\n",
       "    .dataframe tbody tr th:only-of-type {\n",
       "        vertical-align: middle;\n",
       "    }\n",
       "\n",
       "    .dataframe tbody tr th {\n",
       "        vertical-align: top;\n",
       "    }\n",
       "\n",
       "    .dataframe thead th {\n",
       "        text-align: right;\n",
       "    }\n",
       "</style>\n",
       "<table border=\"1\" class=\"dataframe\">\n",
       "  <thead>\n",
       "    <tr style=\"text-align: right;\">\n",
       "      <th></th>\n",
       "      <th>docID</th>\n",
       "      <th>year</th>\n",
       "      <th>month</th>\n",
       "      <th>lemmatized_text</th>\n",
       "    </tr>\n",
       "  </thead>\n",
       "  <tbody>\n",
       "    <tr>\n",
       "      <th>0</th>\n",
       "      <td>0</td>\n",
       "      <td>1999</td>\n",
       "      <td>10</td>\n",
       "      <td>[итартасс, ссылка, прессслужба, минобороны, аз...</td>\n",
       "    </tr>\n",
       "    <tr>\n",
       "      <th>1</th>\n",
       "      <td>1</td>\n",
       "      <td>1999</td>\n",
       "      <td>10</td>\n",
       "      <td>[минувший, минск, массовый, акция, протест, ит...</td>\n",
       "    </tr>\n",
       "  </tbody>\n",
       "</table>\n",
       "</div>"
      ],
      "text/plain": [
       "   docID  year  month                                    lemmatized_text\n",
       "0      0  1999     10  [итартасс, ссылка, прессслужба, минобороны, аз...\n",
       "1      1  1999     10  [минувший, минск, массовый, акция, протест, ит..."
      ]
     },
     "execution_count": 26,
     "metadata": {},
     "output_type": "execute_result"
    }
   ],
   "source": [
    "df_lenta['docID'] = list(range(df_lenta.shape[0]))\n",
    "df_lenta = df_lenta[['docID','year','month','lemmatized_text']]\n",
    "df_lenta.head(2)"
   ]
  },
  {
   "cell_type": "code",
   "execution_count": 99,
   "metadata": {
    "ExecuteTime": {
     "end_time": "2019-02-13T23:54:45.008912Z",
     "start_time": "2019-02-13T23:54:44.999002Z"
    }
   },
   "outputs": [
    {
     "name": "stdout",
     "output_type": "stream",
     "text": [
      "(61056, 4)\n"
     ]
    },
    {
     "data": {
      "text/plain": [
       "docID              0\n",
       "year               0\n",
       "month              0\n",
       "lemmatized_text    0\n",
       "dtype: int64"
      ]
     },
     "execution_count": 99,
     "metadata": {},
     "output_type": "execute_result"
    }
   ],
   "source": [
    "print(df_lenta.shape)\n",
    "df_lenta.isnull().sum()"
   ]
  },
  {
   "cell_type": "markdown",
   "metadata": {},
   "source": [
    "* look at unique dates"
   ]
  },
  {
   "cell_type": "code",
   "execution_count": 103,
   "metadata": {
    "ExecuteTime": {
     "end_time": "2019-02-13T23:55:23.824924Z",
     "start_time": "2019-02-13T23:55:23.818003Z"
    }
   },
   "outputs": [
    {
     "name": "stdout",
     "output_type": "stream",
     "text": [
      "(61056, 2)\n"
     ]
    },
    {
     "data": {
      "text/html": [
       "<div>\n",
       "<style scoped>\n",
       "    .dataframe tbody tr th:only-of-type {\n",
       "        vertical-align: middle;\n",
       "    }\n",
       "\n",
       "    .dataframe tbody tr th {\n",
       "        vertical-align: top;\n",
       "    }\n",
       "\n",
       "    .dataframe thead th {\n",
       "        text-align: right;\n",
       "    }\n",
       "</style>\n",
       "<table border=\"1\" class=\"dataframe\">\n",
       "  <thead>\n",
       "    <tr style=\"text-align: right;\">\n",
       "      <th></th>\n",
       "      <th>year</th>\n",
       "      <th>month</th>\n",
       "    </tr>\n",
       "  </thead>\n",
       "  <tbody>\n",
       "    <tr>\n",
       "      <th>0</th>\n",
       "      <td>1999</td>\n",
       "      <td>10</td>\n",
       "    </tr>\n",
       "    <tr>\n",
       "      <th>1</th>\n",
       "      <td>1999</td>\n",
       "      <td>10</td>\n",
       "    </tr>\n",
       "  </tbody>\n",
       "</table>\n",
       "</div>"
      ],
      "text/plain": [
       "   year  month\n",
       "0  1999     10\n",
       "1  1999     10"
      ]
     },
     "execution_count": 103,
     "metadata": {},
     "output_type": "execute_result"
    }
   ],
   "source": [
    "df_lenta_data = df_lenta[['year','month']]\n",
    "print(df_lenta_data.shape)\n",
    "df_lenta_data.head(2)"
   ]
  },
  {
   "cell_type": "code",
   "execution_count": 104,
   "metadata": {
    "ExecuteTime": {
     "end_time": "2019-02-13T23:55:28.210924Z",
     "start_time": "2019-02-13T23:55:28.200486Z"
    },
    "cell_style": "center",
    "scrolled": true
   },
   "outputs": [
    {
     "name": "stdout",
     "output_type": "stream",
     "text": [
      "[1999, 2000, 2001, 2002, 2003, 2004, 2005, 2006, 2007, 2008, 2009, 2010, 2011, 2012, 2013, 2014, 2015, 2016, 2017, 2018]\n"
     ]
    }
   ],
   "source": [
    "uniq_year_lenta = list(set(df_lenta_data.year.values))\n",
    "uniq_year_lenta.sort()\n",
    "print(uniq_year_lenta)"
   ]
  },
  {
   "cell_type": "code",
   "execution_count": 105,
   "metadata": {
    "ExecuteTime": {
     "end_time": "2019-02-13T23:55:29.737597Z",
     "start_time": "2019-02-13T23:55:29.717407Z"
    }
   },
   "outputs": [],
   "source": [
    "dict_date_lenta = {}\n",
    "\n",
    "for i in uniq_year_lenta:\n",
    "    dict_date_lenta[i] = list(set(df_lenta_data[df_lenta_data.year==i].month.values))"
   ]
  },
  {
   "cell_type": "code",
   "execution_count": 106,
   "metadata": {
    "ExecuteTime": {
     "end_time": "2019-02-13T23:55:30.148970Z",
     "start_time": "2019-02-13T23:55:30.143377Z"
    }
   },
   "outputs": [
    {
     "data": {
      "text/plain": [
       "{1999: [8, 9, 10, 11, 12],\n",
       " 2000: [1, 2, 3, 4, 5, 6, 7, 8, 9, 10, 11, 12],\n",
       " 2001: [1, 2, 3, 4, 5, 6, 7, 8, 9, 10, 11, 12],\n",
       " 2002: [1, 2, 3, 4, 5, 6, 7, 8, 9, 10, 11, 12],\n",
       " 2003: [1, 2, 3, 4, 5, 6, 7, 8, 9, 10, 11, 12],\n",
       " 2004: [1, 2, 3, 4, 5, 6, 7, 8, 9, 10, 11, 12],\n",
       " 2005: [1, 2, 3, 4, 5, 6, 7, 8, 9, 10, 11, 12],\n",
       " 2006: [1, 2, 3, 4, 5, 6, 7, 8, 9, 10, 11, 12],\n",
       " 2007: [1, 2, 3, 4, 5, 6, 7, 8, 9, 10, 11, 12],\n",
       " 2008: [1, 2, 3, 4, 5, 6, 7, 8, 9, 10, 11, 12],\n",
       " 2009: [1, 2, 3, 4, 5, 6, 7, 8, 9, 10, 11, 12],\n",
       " 2010: [1, 2, 3, 4, 5, 6, 7, 8, 9, 10, 11, 12],\n",
       " 2011: [1, 2, 3, 4, 5, 6, 7, 8, 9, 10, 11, 12],\n",
       " 2012: [1, 2, 3, 4, 5, 6, 7, 8, 9, 10, 11, 12],\n",
       " 2013: [1, 2, 3, 4, 5, 6, 7, 8, 9, 10, 11, 12],\n",
       " 2014: [1, 2, 3, 4, 5, 6, 7, 8, 9, 10, 11, 12],\n",
       " 2015: [1, 2, 3, 4, 5, 6, 7, 8, 9, 10, 11, 12],\n",
       " 2016: [1, 2, 3, 4, 5, 6, 7, 8, 9, 10, 11, 12],\n",
       " 2017: [1, 2, 3, 4, 5, 6, 7, 8, 9, 10, 11, 12],\n",
       " 2018: [1, 2, 3, 4, 5, 6, 7]}"
      ]
     },
     "execution_count": 106,
     "metadata": {},
     "output_type": "execute_result"
    }
   ],
   "source": [
    "dict_date_lenta"
   ]
  },
  {
   "cell_type": "code",
   "execution_count": null,
   "metadata": {},
   "outputs": [],
   "source": []
  },
  {
   "cell_type": "markdown",
   "metadata": {},
   "source": [
    "* ## interfax"
   ]
  },
  {
   "cell_type": "code",
   "execution_count": 6,
   "metadata": {
    "ExecuteTime": {
     "end_time": "2019-02-13T23:12:04.929905Z",
     "start_time": "2019-02-13T23:12:04.819161Z"
    }
   },
   "outputs": [
    {
     "name": "stdout",
     "output_type": "stream",
     "text": [
      "-rw-rw-r-- 1 vtrokhymenko vtrokhymenko 33M Feb 13 11:48 ../interfax/data/Byvsij_SSSR.csv.bz2\r\n",
      "-rw-rw-r-- 1 vtrokhymenko vtrokhymenko 75M Feb 13 11:35 ../interfax/data/Ekonomika.csv.bz2\r\n",
      "-rw-rw-r-- 1 vtrokhymenko vtrokhymenko 51M Feb 13 11:45 ../interfax/data/Mir.csv.bz2\r\n"
     ]
    }
   ],
   "source": [
    "!ls -lah ../interfax/data/*.bz2"
   ]
  },
  {
   "cell_type": "code",
   "execution_count": 108,
   "metadata": {
    "ExecuteTime": {
     "end_time": "2019-02-13T23:55:57.066276Z",
     "start_time": "2019-02-13T23:55:57.064344Z"
    }
   },
   "outputs": [],
   "source": [
    "PATH_interfax = '../interfax/data'\n",
    "name_dataset_interfax = 'Byvsij_SSSR'"
   ]
  },
  {
   "cell_type": "code",
   "execution_count": 109,
   "metadata": {
    "ExecuteTime": {
     "end_time": "2019-02-13T23:56:07.832847Z",
     "start_time": "2019-02-13T23:55:57.603888Z"
    }
   },
   "outputs": [
    {
     "name": "stdout",
     "output_type": "stream",
     "text": [
      "(45046, 6)\n"
     ]
    },
    {
     "data": {
      "text/html": [
       "<div>\n",
       "<style scoped>\n",
       "    .dataframe tbody tr th:only-of-type {\n",
       "        vertical-align: middle;\n",
       "    }\n",
       "\n",
       "    .dataframe tbody tr th {\n",
       "        vertical-align: top;\n",
       "    }\n",
       "\n",
       "    .dataframe thead th {\n",
       "        text-align: right;\n",
       "    }\n",
       "</style>\n",
       "<table border=\"1\" class=\"dataframe\">\n",
       "  <thead>\n",
       "    <tr style=\"text-align: right;\">\n",
       "      <th></th>\n",
       "      <th>date</th>\n",
       "      <th>topic</th>\n",
       "      <th>text</th>\n",
       "      <th>predict</th>\n",
       "      <th>text_new</th>\n",
       "      <th>lemmatized_text</th>\n",
       "    </tr>\n",
       "  </thead>\n",
       "  <tbody>\n",
       "    <tr>\n",
       "      <th>0</th>\n",
       "      <td>2008-02-11 09:23:00</td>\n",
       "      <td>\"Экономика\"</td>\n",
       "      <td>- Отношения между Москвой и Киевом в газовой ...</td>\n",
       "      <td>Бывший СССР</td>\n",
       "      <td>отношения между москвой и киевом в газовой сфе...</td>\n",
       "      <td>['москва', 'киев', 'газовый', 'сфера', 'входит...</td>\n",
       "    </tr>\n",
       "    <tr>\n",
       "      <th>1</th>\n",
       "      <td>2008-02-11 12:55:00</td>\n",
       "      <td>\"Экономика\"</td>\n",
       "      <td>- Премьер-министр Украины Юлия Тимошенко заяв...</td>\n",
       "      <td>Бывший СССР</td>\n",
       "      <td>премьерминистр украины юлия_тимошенко заявляет...</td>\n",
       "      <td>['премьерминистр', 'украина', 'юлия_тимошенко'...</td>\n",
       "    </tr>\n",
       "    <tr>\n",
       "      <th>2</th>\n",
       "      <td>2008-02-11 18:27:00</td>\n",
       "      <td>\"В России\"</td>\n",
       "      <td>- Ключевым вопросом визита президента Украины...</td>\n",
       "      <td>Бывший СССР</td>\n",
       "      <td>ключевым вопросом визита президента украины ви...</td>\n",
       "      <td>['ключевой', 'вопрос', 'визит', 'украина', 'ви...</td>\n",
       "    </tr>\n",
       "    <tr>\n",
       "      <th>3</th>\n",
       "      <td>2008-02-11 23:05:00</td>\n",
       "      <td>\"В России\"</td>\n",
       "      <td>- Парламентское большинство не намерено разбл...</td>\n",
       "      <td>Бывший СССР</td>\n",
       "      <td>парламентское большинство не намерено разблоки...</td>\n",
       "      <td>['парламентский', 'большинство', 'намерить', '...</td>\n",
       "    </tr>\n",
       "    <tr>\n",
       "      <th>4</th>\n",
       "      <td>2008-02-13 10:20:00</td>\n",
       "      <td>\"В России\"</td>\n",
       "      <td>- Известный грузинский бизнесмен Бадри Патарк...</td>\n",
       "      <td>Бывший СССР</td>\n",
       "      <td>известный грузинский бизнесмен бадри_патаркаци...</td>\n",
       "      <td>['известный', 'грузинский', 'бизнесмен', 'бадр...</td>\n",
       "    </tr>\n",
       "  </tbody>\n",
       "</table>\n",
       "</div>"
      ],
      "text/plain": [
       "                  date        topic  \\\n",
       "0  2008-02-11 09:23:00  \"Экономика\"   \n",
       "1  2008-02-11 12:55:00  \"Экономика\"   \n",
       "2  2008-02-11 18:27:00   \"В России\"   \n",
       "3  2008-02-11 23:05:00   \"В России\"   \n",
       "4  2008-02-13 10:20:00   \"В России\"   \n",
       "\n",
       "                                                text      predict  \\\n",
       "0   - Отношения между Москвой и Киевом в газовой ...  Бывший СССР   \n",
       "1   - Премьер-министр Украины Юлия Тимошенко заяв...  Бывший СССР   \n",
       "2   - Ключевым вопросом визита президента Украины...  Бывший СССР   \n",
       "3   - Парламентское большинство не намерено разбл...  Бывший СССР   \n",
       "4   - Известный грузинский бизнесмен Бадри Патарк...  Бывший СССР   \n",
       "\n",
       "                                            text_new  \\\n",
       "0  отношения между москвой и киевом в газовой сфе...   \n",
       "1  премьерминистр украины юлия_тимошенко заявляет...   \n",
       "2  ключевым вопросом визита президента украины ви...   \n",
       "3  парламентское большинство не намерено разблоки...   \n",
       "4  известный грузинский бизнесмен бадри_патаркаци...   \n",
       "\n",
       "                                     lemmatized_text  \n",
       "0  ['москва', 'киев', 'газовый', 'сфера', 'входит...  \n",
       "1  ['премьерминистр', 'украина', 'юлия_тимошенко'...  \n",
       "2  ['ключевой', 'вопрос', 'визит', 'украина', 'ви...  \n",
       "3  ['парламентский', 'большинство', 'намерить', '...  \n",
       "4  ['известный', 'грузинский', 'бизнесмен', 'бадр...  "
      ]
     },
     "execution_count": 109,
     "metadata": {},
     "output_type": "execute_result"
    }
   ],
   "source": [
    "df_interfax = pd.read_csv(f'{PATH_interfax}/{name_dataset_interfax}.csv.bz2')\n",
    "df_interfax = df_interfax[df_interfax.text!='text']\n",
    "print(df_interfax.shape)\n",
    "df_interfax.head()"
   ]
  },
  {
   "cell_type": "code",
   "execution_count": 112,
   "metadata": {
    "ExecuteTime": {
     "end_time": "2019-02-13T23:57:04.380714Z",
     "start_time": "2019-02-13T23:56:58.115972Z"
    }
   },
   "outputs": [],
   "source": [
    "df_interfax.lemmatized_text = df_interfax.lemmatized_text.apply(lambda x: literal_eval(x))"
   ]
  },
  {
   "cell_type": "markdown",
   "metadata": {},
   "source": [
    "* get dates"
   ]
  },
  {
   "cell_type": "code",
   "execution_count": 111,
   "metadata": {
    "ExecuteTime": {
     "end_time": "2019-02-13T23:56:36.961713Z",
     "start_time": "2019-02-13T23:56:36.885995Z"
    }
   },
   "outputs": [
    {
     "data": {
      "text/html": [
       "<div>\n",
       "<style scoped>\n",
       "    .dataframe tbody tr th:only-of-type {\n",
       "        vertical-align: middle;\n",
       "    }\n",
       "\n",
       "    .dataframe tbody tr th {\n",
       "        vertical-align: top;\n",
       "    }\n",
       "\n",
       "    .dataframe thead th {\n",
       "        text-align: right;\n",
       "    }\n",
       "</style>\n",
       "<table border=\"1\" class=\"dataframe\">\n",
       "  <thead>\n",
       "    <tr style=\"text-align: right;\">\n",
       "      <th></th>\n",
       "      <th>date</th>\n",
       "      <th>topic</th>\n",
       "      <th>text</th>\n",
       "      <th>predict</th>\n",
       "      <th>text_new</th>\n",
       "      <th>lemmatized_text</th>\n",
       "      <th>year</th>\n",
       "      <th>month</th>\n",
       "    </tr>\n",
       "  </thead>\n",
       "  <tbody>\n",
       "    <tr>\n",
       "      <th>0</th>\n",
       "      <td>2008-02-11 09:23:00</td>\n",
       "      <td>\"Экономика\"</td>\n",
       "      <td>- Отношения между Москвой и Киевом в газовой ...</td>\n",
       "      <td>Бывший СССР</td>\n",
       "      <td>отношения между москвой и киевом в газовой сфе...</td>\n",
       "      <td>['москва', 'киев', 'газовый', 'сфера', 'входит...</td>\n",
       "      <td>2008</td>\n",
       "      <td>2</td>\n",
       "    </tr>\n",
       "    <tr>\n",
       "      <th>1</th>\n",
       "      <td>2008-02-11 12:55:00</td>\n",
       "      <td>\"Экономика\"</td>\n",
       "      <td>- Премьер-министр Украины Юлия Тимошенко заяв...</td>\n",
       "      <td>Бывший СССР</td>\n",
       "      <td>премьерминистр украины юлия_тимошенко заявляет...</td>\n",
       "      <td>['премьерминистр', 'украина', 'юлия_тимошенко'...</td>\n",
       "      <td>2008</td>\n",
       "      <td>2</td>\n",
       "    </tr>\n",
       "  </tbody>\n",
       "</table>\n",
       "</div>"
      ],
      "text/plain": [
       "                  date        topic  \\\n",
       "0  2008-02-11 09:23:00  \"Экономика\"   \n",
       "1  2008-02-11 12:55:00  \"Экономика\"   \n",
       "\n",
       "                                                text      predict  \\\n",
       "0   - Отношения между Москвой и Киевом в газовой ...  Бывший СССР   \n",
       "1   - Премьер-министр Украины Юлия Тимошенко заяв...  Бывший СССР   \n",
       "\n",
       "                                            text_new  \\\n",
       "0  отношения между москвой и киевом в газовой сфе...   \n",
       "1  премьерминистр украины юлия_тимошенко заявляет...   \n",
       "\n",
       "                                     lemmatized_text  year  month  \n",
       "0  ['москва', 'киев', 'газовый', 'сфера', 'входит...  2008      2  \n",
       "1  ['премьерминистр', 'украина', 'юлия_тимошенко'...  2008      2  "
      ]
     },
     "execution_count": 111,
     "metadata": {},
     "output_type": "execute_result"
    }
   ],
   "source": [
    "df_interfax['year'] = df_interfax['date'].apply(lambda x: int(x.split(' ')[0].split('-')[0]))\n",
    "df_interfax['month'] = df_interfax['date'].apply(lambda x: int(x.split(' ')[0].split('-')[1]))\n",
    "df_interfax.head(2)"
   ]
  },
  {
   "cell_type": "markdown",
   "metadata": {},
   "source": [
    "* add docID"
   ]
  },
  {
   "cell_type": "code",
   "execution_count": 113,
   "metadata": {
    "ExecuteTime": {
     "end_time": "2019-02-13T23:57:39.673585Z",
     "start_time": "2019-02-13T23:57:39.656159Z"
    }
   },
   "outputs": [
    {
     "data": {
      "text/html": [
       "<div>\n",
       "<style scoped>\n",
       "    .dataframe tbody tr th:only-of-type {\n",
       "        vertical-align: middle;\n",
       "    }\n",
       "\n",
       "    .dataframe tbody tr th {\n",
       "        vertical-align: top;\n",
       "    }\n",
       "\n",
       "    .dataframe thead th {\n",
       "        text-align: right;\n",
       "    }\n",
       "</style>\n",
       "<table border=\"1\" class=\"dataframe\">\n",
       "  <thead>\n",
       "    <tr style=\"text-align: right;\">\n",
       "      <th></th>\n",
       "      <th>docID</th>\n",
       "      <th>year</th>\n",
       "      <th>month</th>\n",
       "      <th>lemmatized_text</th>\n",
       "    </tr>\n",
       "  </thead>\n",
       "  <tbody>\n",
       "    <tr>\n",
       "      <th>0</th>\n",
       "      <td>0</td>\n",
       "      <td>2008</td>\n",
       "      <td>2</td>\n",
       "      <td>[москва, киев, газовый, сфера, входить, зона, ...</td>\n",
       "    </tr>\n",
       "    <tr>\n",
       "      <th>1</th>\n",
       "      <td>1</td>\n",
       "      <td>2008</td>\n",
       "      <td>2</td>\n",
       "      <td>[премьерминистр, украина, юлия_тимошенко, заяв...</td>\n",
       "    </tr>\n",
       "  </tbody>\n",
       "</table>\n",
       "</div>"
      ],
      "text/plain": [
       "   docID  year  month                                    lemmatized_text\n",
       "0      0  2008      2  [москва, киев, газовый, сфера, входить, зона, ...\n",
       "1      1  2008      2  [премьерминистр, украина, юлия_тимошенко, заяв..."
      ]
     },
     "execution_count": 113,
     "metadata": {},
     "output_type": "execute_result"
    }
   ],
   "source": [
    "df_interfax['docID'] = list(range(df_interfax.shape[0]))\n",
    "df_interfax = df_interfax[['docID','year','month','lemmatized_text']]\n",
    "df_interfax.head(2)"
   ]
  },
  {
   "cell_type": "code",
   "execution_count": 114,
   "metadata": {
    "ExecuteTime": {
     "end_time": "2019-02-13T23:57:43.521650Z",
     "start_time": "2019-02-13T23:57:43.512645Z"
    }
   },
   "outputs": [
    {
     "name": "stdout",
     "output_type": "stream",
     "text": [
      "(45046, 4)\n"
     ]
    },
    {
     "data": {
      "text/plain": [
       "docID              0\n",
       "year               0\n",
       "month              0\n",
       "lemmatized_text    0\n",
       "dtype: int64"
      ]
     },
     "execution_count": 114,
     "metadata": {},
     "output_type": "execute_result"
    }
   ],
   "source": [
    "print(df_interfax.shape)\n",
    "df_interfax.isnull().sum()"
   ]
  },
  {
   "cell_type": "markdown",
   "metadata": {},
   "source": [
    "* look at unique dates"
   ]
  },
  {
   "cell_type": "code",
   "execution_count": 116,
   "metadata": {
    "ExecuteTime": {
     "end_time": "2019-02-13T23:59:38.897062Z",
     "start_time": "2019-02-13T23:59:38.890969Z"
    }
   },
   "outputs": [
    {
     "name": "stdout",
     "output_type": "stream",
     "text": [
      "(45046, 2)\n"
     ]
    },
    {
     "data": {
      "text/html": [
       "<div>\n",
       "<style scoped>\n",
       "    .dataframe tbody tr th:only-of-type {\n",
       "        vertical-align: middle;\n",
       "    }\n",
       "\n",
       "    .dataframe tbody tr th {\n",
       "        vertical-align: top;\n",
       "    }\n",
       "\n",
       "    .dataframe thead th {\n",
       "        text-align: right;\n",
       "    }\n",
       "</style>\n",
       "<table border=\"1\" class=\"dataframe\">\n",
       "  <thead>\n",
       "    <tr style=\"text-align: right;\">\n",
       "      <th></th>\n",
       "      <th>year</th>\n",
       "      <th>month</th>\n",
       "    </tr>\n",
       "  </thead>\n",
       "  <tbody>\n",
       "    <tr>\n",
       "      <th>0</th>\n",
       "      <td>2008</td>\n",
       "      <td>2</td>\n",
       "    </tr>\n",
       "    <tr>\n",
       "      <th>1</th>\n",
       "      <td>2008</td>\n",
       "      <td>2</td>\n",
       "    </tr>\n",
       "  </tbody>\n",
       "</table>\n",
       "</div>"
      ],
      "text/plain": [
       "   year  month\n",
       "0  2008      2\n",
       "1  2008      2"
      ]
     },
     "execution_count": 116,
     "metadata": {},
     "output_type": "execute_result"
    }
   ],
   "source": [
    "df_interfax_data = df_interfax[['year','month']]\n",
    "print(df_interfax_data.shape)\n",
    "df_interfax_data.head(2)"
   ]
  },
  {
   "cell_type": "code",
   "execution_count": 117,
   "metadata": {
    "ExecuteTime": {
     "end_time": "2019-02-13T23:59:40.613384Z",
     "start_time": "2019-02-13T23:59:40.605054Z"
    },
    "cell_style": "center",
    "scrolled": true
   },
   "outputs": [
    {
     "name": "stdout",
     "output_type": "stream",
     "text": [
      "[2008, 2009, 2010, 2011, 2012, 2013, 2014, 2015, 2016, 2017, 2018, 2019]\n"
     ]
    }
   ],
   "source": [
    "uniq_year_interfax = list(set(df_interfax_data.year.values))\n",
    "uniq_year_interfax.sort()\n",
    "print(uniq_year_interfax)"
   ]
  },
  {
   "cell_type": "code",
   "execution_count": 124,
   "metadata": {
    "ExecuteTime": {
     "end_time": "2019-02-14T00:01:27.259225Z",
     "start_time": "2019-02-14T00:01:27.244308Z"
    }
   },
   "outputs": [],
   "source": [
    "dict_date_interfax = {}\n",
    "\n",
    "for i in uniq_year_interfax:\n",
    "    dict_date_interfax[i] = list(set(df_interfax_data[df_interfax_data.year==i].month.values))"
   ]
  },
  {
   "cell_type": "code",
   "execution_count": 125,
   "metadata": {
    "ExecuteTime": {
     "end_time": "2019-02-14T00:01:30.687601Z",
     "start_time": "2019-02-14T00:01:30.683326Z"
    }
   },
   "outputs": [
    {
     "data": {
      "text/plain": [
       "{2008: [2, 3, 4, 5, 6, 7, 8, 9, 10, 11, 12],\n",
       " 2009: [1, 2, 3, 4, 5, 6, 7, 8, 9, 10, 11, 12],\n",
       " 2010: [1, 2, 3, 4, 5, 6, 7, 8, 9, 10, 11, 12],\n",
       " 2011: [1, 2, 3, 4, 5, 6, 7, 8, 9, 10, 11, 12],\n",
       " 2012: [1, 2, 3, 4, 5, 6, 7, 8, 9, 10, 11, 12],\n",
       " 2013: [1, 2, 3, 4, 5, 6, 7, 8, 9, 10, 11, 12],\n",
       " 2014: [1, 2, 3, 4, 5, 6, 7, 8, 9, 10, 11, 12],\n",
       " 2015: [1, 2, 3, 4, 5, 6, 7, 8, 9, 10, 11, 12],\n",
       " 2016: [1, 2, 3, 4, 5, 6, 7, 8, 9, 10, 11, 12],\n",
       " 2017: [1, 2, 3, 4, 5, 6, 7, 8, 9, 10, 11, 12],\n",
       " 2018: [1, 2, 3, 4, 5, 6, 7, 8, 9, 10, 11, 12],\n",
       " 2019: [1]}"
      ]
     },
     "execution_count": 125,
     "metadata": {},
     "output_type": "execute_result"
    }
   ],
   "source": [
    "dict_date_interfax"
   ]
  },
  {
   "cell_type": "markdown",
   "metadata": {},
   "source": [
    "---"
   ]
  },
  {
   "cell_type": "code",
   "execution_count": 122,
   "metadata": {
    "ExecuteTime": {
     "end_time": "2019-02-14T00:00:44.560775Z",
     "start_time": "2019-02-14T00:00:44.554973Z"
    },
    "cell_style": "split"
   },
   "outputs": [
    {
     "data": {
      "text/plain": [
       "{1999: [8, 9, 10, 11, 12],\n",
       " 2000: [1, 2, 3, 4, 5, 6, 7, 8, 9, 10, 11, 12],\n",
       " 2001: [1, 2, 3, 4, 5, 6, 7, 8, 9, 10, 11, 12],\n",
       " 2002: [1, 2, 3, 4, 5, 6, 7, 8, 9, 10, 11, 12],\n",
       " 2003: [1, 2, 3, 4, 5, 6, 7, 8, 9, 10, 11, 12],\n",
       " 2004: [1, 2, 3, 4, 5, 6, 7, 8, 9, 10, 11, 12],\n",
       " 2005: [1, 2, 3, 4, 5, 6, 7, 8, 9, 10, 11, 12],\n",
       " 2006: [1, 2, 3, 4, 5, 6, 7, 8, 9, 10, 11, 12],\n",
       " 2007: [1, 2, 3, 4, 5, 6, 7, 8, 9, 10, 11, 12],\n",
       " 2008: [1, 2, 3, 4, 5, 6, 7, 8, 9, 10, 11, 12],\n",
       " 2009: [1, 2, 3, 4, 5, 6, 7, 8, 9, 10, 11, 12],\n",
       " 2010: [1, 2, 3, 4, 5, 6, 7, 8, 9, 10, 11, 12],\n",
       " 2011: [1, 2, 3, 4, 5, 6, 7, 8, 9, 10, 11, 12],\n",
       " 2012: [1, 2, 3, 4, 5, 6, 7, 8, 9, 10, 11, 12],\n",
       " 2013: [1, 2, 3, 4, 5, 6, 7, 8, 9, 10, 11, 12],\n",
       " 2014: [1, 2, 3, 4, 5, 6, 7, 8, 9, 10, 11, 12],\n",
       " 2015: [1, 2, 3, 4, 5, 6, 7, 8, 9, 10, 11, 12],\n",
       " 2016: [1, 2, 3, 4, 5, 6, 7, 8, 9, 10, 11, 12],\n",
       " 2017: [1, 2, 3, 4, 5, 6, 7, 8, 9, 10, 11, 12],\n",
       " 2018: [1, 2, 3, 4, 5, 6, 7]}"
      ]
     },
     "execution_count": 122,
     "metadata": {},
     "output_type": "execute_result"
    }
   ],
   "source": [
    "dict_date_lenta"
   ]
  },
  {
   "cell_type": "code",
   "execution_count": 126,
   "metadata": {
    "ExecuteTime": {
     "end_time": "2019-02-14T00:01:32.666033Z",
     "start_time": "2019-02-14T00:01:32.661721Z"
    },
    "cell_style": "split"
   },
   "outputs": [
    {
     "data": {
      "text/plain": [
       "{2008: [2, 3, 4, 5, 6, 7, 8, 9, 10, 11, 12],\n",
       " 2009: [1, 2, 3, 4, 5, 6, 7, 8, 9, 10, 11, 12],\n",
       " 2010: [1, 2, 3, 4, 5, 6, 7, 8, 9, 10, 11, 12],\n",
       " 2011: [1, 2, 3, 4, 5, 6, 7, 8, 9, 10, 11, 12],\n",
       " 2012: [1, 2, 3, 4, 5, 6, 7, 8, 9, 10, 11, 12],\n",
       " 2013: [1, 2, 3, 4, 5, 6, 7, 8, 9, 10, 11, 12],\n",
       " 2014: [1, 2, 3, 4, 5, 6, 7, 8, 9, 10, 11, 12],\n",
       " 2015: [1, 2, 3, 4, 5, 6, 7, 8, 9, 10, 11, 12],\n",
       " 2016: [1, 2, 3, 4, 5, 6, 7, 8, 9, 10, 11, 12],\n",
       " 2017: [1, 2, 3, 4, 5, 6, 7, 8, 9, 10, 11, 12],\n",
       " 2018: [1, 2, 3, 4, 5, 6, 7, 8, 9, 10, 11, 12],\n",
       " 2019: [1]}"
      ]
     },
     "execution_count": 126,
     "metadata": {},
     "output_type": "execute_result"
    }
   ],
   "source": [
    "dict_date_interfax"
   ]
  },
  {
   "cell_type": "code",
   "execution_count": 146,
   "metadata": {
    "ExecuteTime": {
     "end_time": "2019-02-14T00:11:56.073318Z",
     "start_time": "2019-02-14T00:11:56.070246Z"
    }
   },
   "outputs": [
    {
     "name": "stdout",
     "output_type": "stream",
     "text": [
      "[2008, 2009, 2010, 2011, 2012, 2013, 2014, 2015, 2016, 2017, 2018]\n"
     ]
    }
   ],
   "source": [
    "match_year = []\n",
    "\n",
    "for i,k in dict_date_lenta.items():\n",
    "    for j,p in dict_date_interfax.items():\n",
    "        if i==j:\n",
    "            match_year.append(i)\n",
    "    \n",
    "match_year.sort()\n",
    "print(match_year)"
   ]
  },
  {
   "cell_type": "code",
   "execution_count": null,
   "metadata": {},
   "outputs": [],
   "source": []
  },
  {
   "cell_type": "markdown",
   "metadata": {},
   "source": [
    "### take date in the datasets where years matched"
   ]
  },
  {
   "cell_type": "code",
   "execution_count": 178,
   "metadata": {
    "ExecuteTime": {
     "end_time": "2019-02-14T00:31:56.521886Z",
     "start_time": "2019-02-14T00:31:56.511538Z"
    }
   },
   "outputs": [
    {
     "name": "stdout",
     "output_type": "stream",
     "text": [
      "(43215, 4)\n"
     ]
    },
    {
     "data": {
      "text/html": [
       "<div>\n",
       "<style scoped>\n",
       "    .dataframe tbody tr th:only-of-type {\n",
       "        vertical-align: middle;\n",
       "    }\n",
       "\n",
       "    .dataframe tbody tr th {\n",
       "        vertical-align: top;\n",
       "    }\n",
       "\n",
       "    .dataframe thead th {\n",
       "        text-align: right;\n",
       "    }\n",
       "</style>\n",
       "<table border=\"1\" class=\"dataframe\">\n",
       "  <thead>\n",
       "    <tr style=\"text-align: right;\">\n",
       "      <th></th>\n",
       "      <th>docID</th>\n",
       "      <th>year</th>\n",
       "      <th>month</th>\n",
       "      <th>lemmatized_text</th>\n",
       "    </tr>\n",
       "  </thead>\n",
       "  <tbody>\n",
       "    <tr>\n",
       "      <th>0</th>\n",
       "      <td>17841</td>\n",
       "      <td>2008</td>\n",
       "      <td>1</td>\n",
       "      <td>[факельный, шествие, украинский, националист, ...</td>\n",
       "    </tr>\n",
       "    <tr>\n",
       "      <th>1</th>\n",
       "      <td>17842</td>\n",
       "      <td>2008</td>\n",
       "      <td>1</td>\n",
       "      <td>[грозный, погибнуть, двое, сотрудник, милиция,...</td>\n",
       "    </tr>\n",
       "  </tbody>\n",
       "</table>\n",
       "</div>"
      ],
      "text/plain": [
       "   docID  year  month                                    lemmatized_text\n",
       "0  17841  2008      1  [факельный, шествие, украинский, националист, ...\n",
       "1  17842  2008      1  [грозный, погибнуть, двое, сотрудник, милиция,..."
      ]
     },
     "execution_count": 178,
     "metadata": {},
     "output_type": "execute_result"
    }
   ],
   "source": [
    "df_lenta = df_lenta[df_lenta.year.isin(match_year)]\n",
    "df_lenta.reset_index(inplace=True,drop=True)\n",
    "\n",
    "print(df_lenta.shape)\n",
    "df_lenta.head(2)"
   ]
  },
  {
   "cell_type": "code",
   "execution_count": 179,
   "metadata": {
    "ExecuteTime": {
     "end_time": "2019-02-14T00:31:57.031331Z",
     "start_time": "2019-02-14T00:31:57.021059Z"
    }
   },
   "outputs": [
    {
     "name": "stdout",
     "output_type": "stream",
     "text": [
      "(44912, 4)\n"
     ]
    },
    {
     "data": {
      "text/html": [
       "<div>\n",
       "<style scoped>\n",
       "    .dataframe tbody tr th:only-of-type {\n",
       "        vertical-align: middle;\n",
       "    }\n",
       "\n",
       "    .dataframe tbody tr th {\n",
       "        vertical-align: top;\n",
       "    }\n",
       "\n",
       "    .dataframe thead th {\n",
       "        text-align: right;\n",
       "    }\n",
       "</style>\n",
       "<table border=\"1\" class=\"dataframe\">\n",
       "  <thead>\n",
       "    <tr style=\"text-align: right;\">\n",
       "      <th></th>\n",
       "      <th>docID</th>\n",
       "      <th>year</th>\n",
       "      <th>month</th>\n",
       "      <th>lemmatized_text</th>\n",
       "    </tr>\n",
       "  </thead>\n",
       "  <tbody>\n",
       "    <tr>\n",
       "      <th>0</th>\n",
       "      <td>0</td>\n",
       "      <td>2008</td>\n",
       "      <td>2</td>\n",
       "      <td>[москва, киев, газовый, сфера, входить, зона, ...</td>\n",
       "    </tr>\n",
       "    <tr>\n",
       "      <th>1</th>\n",
       "      <td>1</td>\n",
       "      <td>2008</td>\n",
       "      <td>2</td>\n",
       "      <td>[премьерминистр, украина, юлия_тимошенко, заяв...</td>\n",
       "    </tr>\n",
       "  </tbody>\n",
       "</table>\n",
       "</div>"
      ],
      "text/plain": [
       "   docID  year  month                                    lemmatized_text\n",
       "0      0  2008      2  [москва, киев, газовый, сфера, входить, зона, ...\n",
       "1      1  2008      2  [премьерминистр, украина, юлия_тимошенко, заяв..."
      ]
     },
     "execution_count": 179,
     "metadata": {},
     "output_type": "execute_result"
    }
   ],
   "source": [
    "df_interfax = df_interfax[df_interfax.year.isin(match_year)]\n",
    "df_interfax.reset_index(inplace=True,drop=True)\n",
    "print(df_interfax.shape)\n",
    "df_interfax.head(2)"
   ]
  },
  {
   "cell_type": "code",
   "execution_count": null,
   "metadata": {},
   "outputs": [],
   "source": []
  },
  {
   "cell_type": "markdown",
   "metadata": {},
   "source": [
    "---"
   ]
  },
  {
   "cell_type": "markdown",
   "metadata": {},
   "source": [
    "## create models"
   ]
  },
  {
   "cell_type": "code",
   "execution_count": 180,
   "metadata": {
    "ExecuteTime": {
     "end_time": "2019-02-14T00:32:01.002348Z",
     "start_time": "2019-02-14T00:32:01.000370Z"
    }
   },
   "outputs": [],
   "source": [
    "select_topics = 20"
   ]
  },
  {
   "cell_type": "markdown",
   "metadata": {},
   "source": [
    "* ## lenta"
   ]
  },
  {
   "cell_type": "markdown",
   "metadata": {},
   "source": [
    "* prepare"
   ]
  },
  {
   "cell_type": "code",
   "execution_count": 181,
   "metadata": {
    "ExecuteTime": {
     "end_time": "2019-02-14T00:32:03.733682Z",
     "start_time": "2019-02-14T00:32:03.165644Z"
    }
   },
   "outputs": [],
   "source": [
    "vwpath_lenta = f'data/lenta/vwpath/{name_dataset_lenta}_input_bigartm.vw'\n",
    "\n",
    "with open(vwpath_lenta, 'w') as fp:\n",
    "    for text, did in df_lenta[['lemmatized_text', 'docID']].values:\n",
    "        fp.write('{} | {}\\n'.format(did, ' '.join(text)))"
   ]
  },
  {
   "cell_type": "code",
   "execution_count": 182,
   "metadata": {
    "ExecuteTime": {
     "end_time": "2019-02-14T00:32:03.877289Z",
     "start_time": "2019-02-14T00:32:03.873826Z"
    }
   },
   "outputs": [],
   "source": [
    "id_date_lenta = df_lenta[['docID', 'year', 'month']].copy()"
   ]
  },
  {
   "cell_type": "markdown",
   "metadata": {},
   "source": [
    "* collect batchs and collect the dictionary"
   ]
  },
  {
   "cell_type": "code",
   "execution_count": 221,
   "metadata": {
    "ExecuteTime": {
     "end_time": "2019-02-14T00:40:59.474314Z",
     "start_time": "2019-02-14T00:40:56.681149Z"
    }
   },
   "outputs": [
    {
     "name": "stdout",
     "output_type": "stream",
     "text": [
      "create folder...\n",
      "\n",
      "artm.BatchVectorizer(data_path=\"data/lenta/batches/bivs.SSR\", num_batches=44)\n"
     ]
    }
   ],
   "source": [
    "batches_path_lenta = f'data/lenta/batches/{name_dataset_lenta}'\n",
    "\n",
    "if not os.path.exists(batches_path_lenta):\n",
    "    print('create folder...\\n')\n",
    "    os.makedirs(batches_path_lenta)\n",
    "    \n",
    "batch_vectorizer_lenta = artm.BatchVectorizer(data_path=vwpath_lenta,\n",
    "                                              data_format='vowpal_wabbit',\n",
    "                                              target_folder=batches_path_lenta)\n",
    "\n",
    "print(batch_vectorizer_lenta)"
   ]
  },
  {
   "cell_type": "code",
   "execution_count": 184,
   "metadata": {
    "ExecuteTime": {
     "end_time": "2019-02-14T00:32:08.508755Z",
     "start_time": "2019-02-14T00:32:06.977628Z"
    }
   },
   "outputs": [
    {
     "data": {
      "text/plain": [
       "artm.Dictionary(name=c79227a6-9a30-4282-93d3-4b8ac039eb98, num_entries=20512)"
      ]
     },
     "execution_count": 184,
     "metadata": {},
     "output_type": "execute_result"
    }
   ],
   "source": [
    "dictionary_lenta = artm.Dictionary()\n",
    "dictionary_lenta.gather(data_path=batches_path_lenta)\n",
    "\n",
    "dictionary_lenta.filter(min_tf=10, max_df_rate=0.1) #int(4.5e5)"
   ]
  },
  {
   "cell_type": "code",
   "execution_count": 185,
   "metadata": {
    "ExecuteTime": {
     "end_time": "2019-02-14T00:32:28.206359Z",
     "start_time": "2019-02-14T00:32:08.636881Z"
    },
    "scrolled": true
   },
   "outputs": [
    {
     "data": {
      "application/vnd.jupyter.widget-view+json": {
       "model_id": "",
       "version_major": 2,
       "version_minor": 0
      },
      "text/plain": [
       "HBox(children=(IntProgress(value=0, description='Pass', max=5, style=ProgressStyle(description_width='initial'…"
      ]
     },
     "metadata": {},
     "output_type": "display_data"
    },
    {
     "data": {
      "application/vnd.jupyter.widget-view+json": {
       "model_id": "",
       "version_major": 2,
       "version_minor": 0
      },
      "text/plain": [
       "HBox(children=(IntProgress(value=0, description='Batch', max=44, style=ProgressStyle(description_width='initia…"
      ]
     },
     "metadata": {},
     "output_type": "display_data"
    },
    {
     "data": {
      "application/vnd.jupyter.widget-view+json": {
       "model_id": "",
       "version_major": 2,
       "version_minor": 0
      },
      "text/plain": [
       "HBox(children=(IntProgress(value=0, description='Batch', max=44, style=ProgressStyle(description_width='initia…"
      ]
     },
     "metadata": {},
     "output_type": "display_data"
    },
    {
     "data": {
      "application/vnd.jupyter.widget-view+json": {
       "model_id": "",
       "version_major": 2,
       "version_minor": 0
      },
      "text/plain": [
       "HBox(children=(IntProgress(value=0, description='Batch', max=44, style=ProgressStyle(description_width='initia…"
      ]
     },
     "metadata": {},
     "output_type": "display_data"
    },
    {
     "data": {
      "application/vnd.jupyter.widget-view+json": {
       "model_id": "",
       "version_major": 2,
       "version_minor": 0
      },
      "text/plain": [
       "HBox(children=(IntProgress(value=0, description='Batch', max=44, style=ProgressStyle(description_width='initia…"
      ]
     },
     "metadata": {},
     "output_type": "display_data"
    },
    {
     "data": {
      "application/vnd.jupyter.widget-view+json": {
       "model_id": "",
       "version_major": 2,
       "version_minor": 0
      },
      "text/plain": [
       "HBox(children=(IntProgress(value=0, description='Batch', max=44, style=ProgressStyle(description_width='initia…"
      ]
     },
     "metadata": {},
     "output_type": "display_data"
    },
    {
     "name": "stdout",
     "output_type": "stream",
     "text": [
      "\n"
     ]
    },
    {
     "data": {
      "application/vnd.jupyter.widget-view+json": {
       "model_id": "",
       "version_major": 2,
       "version_minor": 0
      },
      "text/plain": [
       "HBox(children=(IntProgress(value=0, description='Pass', max=15, style=ProgressStyle(description_width='initial…"
      ]
     },
     "metadata": {},
     "output_type": "display_data"
    },
    {
     "data": {
      "application/vnd.jupyter.widget-view+json": {
       "model_id": "",
       "version_major": 2,
       "version_minor": 0
      },
      "text/plain": [
       "HBox(children=(IntProgress(value=0, description='Batch', max=44, style=ProgressStyle(description_width='initia…"
      ]
     },
     "metadata": {},
     "output_type": "display_data"
    },
    {
     "data": {
      "application/vnd.jupyter.widget-view+json": {
       "model_id": "",
       "version_major": 2,
       "version_minor": 0
      },
      "text/plain": [
       "HBox(children=(IntProgress(value=0, description='Batch', max=44, style=ProgressStyle(description_width='initia…"
      ]
     },
     "metadata": {},
     "output_type": "display_data"
    },
    {
     "data": {
      "application/vnd.jupyter.widget-view+json": {
       "model_id": "",
       "version_major": 2,
       "version_minor": 0
      },
      "text/plain": [
       "HBox(children=(IntProgress(value=0, description='Batch', max=44, style=ProgressStyle(description_width='initia…"
      ]
     },
     "metadata": {},
     "output_type": "display_data"
    },
    {
     "data": {
      "application/vnd.jupyter.widget-view+json": {
       "model_id": "",
       "version_major": 2,
       "version_minor": 0
      },
      "text/plain": [
       "HBox(children=(IntProgress(value=0, description='Batch', max=44, style=ProgressStyle(description_width='initia…"
      ]
     },
     "metadata": {},
     "output_type": "display_data"
    },
    {
     "data": {
      "application/vnd.jupyter.widget-view+json": {
       "model_id": "",
       "version_major": 2,
       "version_minor": 0
      },
      "text/plain": [
       "HBox(children=(IntProgress(value=0, description='Batch', max=44, style=ProgressStyle(description_width='initia…"
      ]
     },
     "metadata": {},
     "output_type": "display_data"
    },
    {
     "data": {
      "application/vnd.jupyter.widget-view+json": {
       "model_id": "",
       "version_major": 2,
       "version_minor": 0
      },
      "text/plain": [
       "HBox(children=(IntProgress(value=0, description='Batch', max=44, style=ProgressStyle(description_width='initia…"
      ]
     },
     "metadata": {},
     "output_type": "display_data"
    },
    {
     "data": {
      "application/vnd.jupyter.widget-view+json": {
       "model_id": "",
       "version_major": 2,
       "version_minor": 0
      },
      "text/plain": [
       "HBox(children=(IntProgress(value=0, description='Batch', max=44, style=ProgressStyle(description_width='initia…"
      ]
     },
     "metadata": {},
     "output_type": "display_data"
    },
    {
     "data": {
      "application/vnd.jupyter.widget-view+json": {
       "model_id": "",
       "version_major": 2,
       "version_minor": 0
      },
      "text/plain": [
       "HBox(children=(IntProgress(value=0, description='Batch', max=44, style=ProgressStyle(description_width='initia…"
      ]
     },
     "metadata": {},
     "output_type": "display_data"
    },
    {
     "data": {
      "application/vnd.jupyter.widget-view+json": {
       "model_id": "",
       "version_major": 2,
       "version_minor": 0
      },
      "text/plain": [
       "HBox(children=(IntProgress(value=0, description='Batch', max=44, style=ProgressStyle(description_width='initia…"
      ]
     },
     "metadata": {},
     "output_type": "display_data"
    },
    {
     "data": {
      "application/vnd.jupyter.widget-view+json": {
       "model_id": "",
       "version_major": 2,
       "version_minor": 0
      },
      "text/plain": [
       "HBox(children=(IntProgress(value=0, description='Batch', max=44, style=ProgressStyle(description_width='initia…"
      ]
     },
     "metadata": {},
     "output_type": "display_data"
    },
    {
     "data": {
      "application/vnd.jupyter.widget-view+json": {
       "model_id": "",
       "version_major": 2,
       "version_minor": 0
      },
      "text/plain": [
       "HBox(children=(IntProgress(value=0, description='Batch', max=44, style=ProgressStyle(description_width='initia…"
      ]
     },
     "metadata": {},
     "output_type": "display_data"
    },
    {
     "data": {
      "application/vnd.jupyter.widget-view+json": {
       "model_id": "",
       "version_major": 2,
       "version_minor": 0
      },
      "text/plain": [
       "HBox(children=(IntProgress(value=0, description='Batch', max=44, style=ProgressStyle(description_width='initia…"
      ]
     },
     "metadata": {},
     "output_type": "display_data"
    },
    {
     "data": {
      "application/vnd.jupyter.widget-view+json": {
       "model_id": "",
       "version_major": 2,
       "version_minor": 0
      },
      "text/plain": [
       "HBox(children=(IntProgress(value=0, description='Batch', max=44, style=ProgressStyle(description_width='initia…"
      ]
     },
     "metadata": {},
     "output_type": "display_data"
    },
    {
     "data": {
      "application/vnd.jupyter.widget-view+json": {
       "model_id": "",
       "version_major": 2,
       "version_minor": 0
      },
      "text/plain": [
       "HBox(children=(IntProgress(value=0, description='Batch', max=44, style=ProgressStyle(description_width='initia…"
      ]
     },
     "metadata": {},
     "output_type": "display_data"
    },
    {
     "data": {
      "application/vnd.jupyter.widget-view+json": {
       "model_id": "",
       "version_major": 2,
       "version_minor": 0
      },
      "text/plain": [
       "HBox(children=(IntProgress(value=0, description='Batch', max=44, style=ProgressStyle(description_width='initia…"
      ]
     },
     "metadata": {},
     "output_type": "display_data"
    },
    {
     "name": "stdout",
     "output_type": "stream",
     "text": [
      "\n"
     ]
    },
    {
     "data": {
      "application/vnd.jupyter.widget-view+json": {
       "model_id": "",
       "version_major": 2,
       "version_minor": 0
      },
      "text/plain": [
       "HBox(children=(IntProgress(value=0, description='Pass', max=15, style=ProgressStyle(description_width='initial…"
      ]
     },
     "metadata": {},
     "output_type": "display_data"
    },
    {
     "data": {
      "application/vnd.jupyter.widget-view+json": {
       "model_id": "",
       "version_major": 2,
       "version_minor": 0
      },
      "text/plain": [
       "HBox(children=(IntProgress(value=0, description='Batch', max=44, style=ProgressStyle(description_width='initia…"
      ]
     },
     "metadata": {},
     "output_type": "display_data"
    },
    {
     "data": {
      "application/vnd.jupyter.widget-view+json": {
       "model_id": "",
       "version_major": 2,
       "version_minor": 0
      },
      "text/plain": [
       "HBox(children=(IntProgress(value=0, description='Batch', max=44, style=ProgressStyle(description_width='initia…"
      ]
     },
     "metadata": {},
     "output_type": "display_data"
    },
    {
     "data": {
      "application/vnd.jupyter.widget-view+json": {
       "model_id": "",
       "version_major": 2,
       "version_minor": 0
      },
      "text/plain": [
       "HBox(children=(IntProgress(value=0, description='Batch', max=44, style=ProgressStyle(description_width='initia…"
      ]
     },
     "metadata": {},
     "output_type": "display_data"
    },
    {
     "data": {
      "application/vnd.jupyter.widget-view+json": {
       "model_id": "",
       "version_major": 2,
       "version_minor": 0
      },
      "text/plain": [
       "HBox(children=(IntProgress(value=0, description='Batch', max=44, style=ProgressStyle(description_width='initia…"
      ]
     },
     "metadata": {},
     "output_type": "display_data"
    },
    {
     "data": {
      "application/vnd.jupyter.widget-view+json": {
       "model_id": "",
       "version_major": 2,
       "version_minor": 0
      },
      "text/plain": [
       "HBox(children=(IntProgress(value=0, description='Batch', max=44, style=ProgressStyle(description_width='initia…"
      ]
     },
     "metadata": {},
     "output_type": "display_data"
    },
    {
     "data": {
      "application/vnd.jupyter.widget-view+json": {
       "model_id": "",
       "version_major": 2,
       "version_minor": 0
      },
      "text/plain": [
       "HBox(children=(IntProgress(value=0, description='Batch', max=44, style=ProgressStyle(description_width='initia…"
      ]
     },
     "metadata": {},
     "output_type": "display_data"
    },
    {
     "data": {
      "application/vnd.jupyter.widget-view+json": {
       "model_id": "",
       "version_major": 2,
       "version_minor": 0
      },
      "text/plain": [
       "HBox(children=(IntProgress(value=0, description='Batch', max=44, style=ProgressStyle(description_width='initia…"
      ]
     },
     "metadata": {},
     "output_type": "display_data"
    },
    {
     "data": {
      "application/vnd.jupyter.widget-view+json": {
       "model_id": "",
       "version_major": 2,
       "version_minor": 0
      },
      "text/plain": [
       "HBox(children=(IntProgress(value=0, description='Batch', max=44, style=ProgressStyle(description_width='initia…"
      ]
     },
     "metadata": {},
     "output_type": "display_data"
    },
    {
     "data": {
      "application/vnd.jupyter.widget-view+json": {
       "model_id": "",
       "version_major": 2,
       "version_minor": 0
      },
      "text/plain": [
       "HBox(children=(IntProgress(value=0, description='Batch', max=44, style=ProgressStyle(description_width='initia…"
      ]
     },
     "metadata": {},
     "output_type": "display_data"
    },
    {
     "data": {
      "application/vnd.jupyter.widget-view+json": {
       "model_id": "",
       "version_major": 2,
       "version_minor": 0
      },
      "text/plain": [
       "HBox(children=(IntProgress(value=0, description='Batch', max=44, style=ProgressStyle(description_width='initia…"
      ]
     },
     "metadata": {},
     "output_type": "display_data"
    },
    {
     "data": {
      "application/vnd.jupyter.widget-view+json": {
       "model_id": "",
       "version_major": 2,
       "version_minor": 0
      },
      "text/plain": [
       "HBox(children=(IntProgress(value=0, description='Batch', max=44, style=ProgressStyle(description_width='initia…"
      ]
     },
     "metadata": {},
     "output_type": "display_data"
    },
    {
     "data": {
      "application/vnd.jupyter.widget-view+json": {
       "model_id": "",
       "version_major": 2,
       "version_minor": 0
      },
      "text/plain": [
       "HBox(children=(IntProgress(value=0, description='Batch', max=44, style=ProgressStyle(description_width='initia…"
      ]
     },
     "metadata": {},
     "output_type": "display_data"
    },
    {
     "data": {
      "application/vnd.jupyter.widget-view+json": {
       "model_id": "",
       "version_major": 2,
       "version_minor": 0
      },
      "text/plain": [
       "HBox(children=(IntProgress(value=0, description='Batch', max=44, style=ProgressStyle(description_width='initia…"
      ]
     },
     "metadata": {},
     "output_type": "display_data"
    },
    {
     "data": {
      "application/vnd.jupyter.widget-view+json": {
       "model_id": "",
       "version_major": 2,
       "version_minor": 0
      },
      "text/plain": [
       "HBox(children=(IntProgress(value=0, description='Batch', max=44, style=ProgressStyle(description_width='initia…"
      ]
     },
     "metadata": {},
     "output_type": "display_data"
    },
    {
     "data": {
      "application/vnd.jupyter.widget-view+json": {
       "model_id": "",
       "version_major": 2,
       "version_minor": 0
      },
      "text/plain": [
       "HBox(children=(IntProgress(value=0, description='Batch', max=44, style=ProgressStyle(description_width='initia…"
      ]
     },
     "metadata": {},
     "output_type": "display_data"
    },
    {
     "name": "stdout",
     "output_type": "stream",
     "text": [
      "\n",
      "\tSparsityThetaScore: 0.6288002133369446\n",
      "\tSparsityPhiScore: 0.869537353515625\n",
      "\tPerplexityScore: 2482.529541015625\n"
     ]
    }
   ],
   "source": [
    "model_lenta = artm.ARTM(num_topics=select_topics, dictionary=dictionary_lenta, show_progress_bars=True)\n",
    "\n",
    "# scores\n",
    "model_lenta.scores.add(artm.PerplexityScore(name='PerplexityScore', dictionary=dictionary_lenta))\n",
    "model_lenta.scores.add(artm.SparsityThetaScore(name='SparsityThetaScore'))\n",
    "model_lenta.scores.add(artm.SparsityPhiScore(name='SparsityPhiScore'))\n",
    "\n",
    "# 1st regularizer\n",
    "model_lenta.regularizers.add(artm.SmoothSparsePhiRegularizer(name='SparsePhi', tau=-1.0)) #-0.1\n",
    "model_lenta.fit_offline(batch_vectorizer=batch_vectorizer_lenta, num_collection_passes=5)\n",
    "\n",
    "# 2st regularizer\n",
    "model_lenta.regularizers.add(artm.SmoothSparseThetaRegularizer(name='SparseTheta', tau=-0.5))\n",
    "model_lenta.fit_offline(batch_vectorizer=batch_vectorizer_lenta, num_collection_passes=15)\n",
    "\n",
    "# 3st regularizer\n",
    "model_lenta.regularizers.add(artm.DecorrelatorPhiRegularizer(name='DecorrelatorPhi', tau=1.5e+5))\n",
    "\n",
    "model_lenta.fit_offline(batch_vectorizer=batch_vectorizer_lenta, num_collection_passes=15)\n",
    "\n",
    "print(f\"\\tSparsityThetaScore: {model_lenta.score_tracker['SparsityThetaScore'].last_value}\")\n",
    "print(f\"\\tSparsityPhiScore: {model_lenta.score_tracker['SparsityPhiScore'].last_value}\")\n",
    "print(f\"\\tPerplexityScore: {model_lenta.score_tracker['PerplexityScore'].last_value}\")"
   ]
  },
  {
   "cell_type": "code",
   "execution_count": null,
   "metadata": {},
   "outputs": [],
   "source": []
  },
  {
   "cell_type": "markdown",
   "metadata": {},
   "source": [
    "* print top words for each topics"
   ]
  },
  {
   "cell_type": "code",
   "execution_count": 186,
   "metadata": {
    "ExecuteTime": {
     "end_time": "2019-02-14T00:32:37.046563Z",
     "start_time": "2019-02-14T00:32:36.866905Z"
    }
   },
   "outputs": [
    {
     "name": "stdout",
     "output_type": "stream",
     "text": [
      "topic_0: ['миллион' 'гривна' 'миллиард' 'средство' 'деньга' 'рубль' 'сумма'\n",
      " 'предприятие' 'бюджет' 'цена']\n",
      "topic_1: ['активист' 'протест' 'митинг' 'беспорядок' 'оппозиция' 'майдан'\n",
      " 'сторонник' 'массовый' 'площадь' 'улица']\n",
      "topic_2: ['соглашение' 'сша' 'переговоры' 'встреча' 'мид' 'подписать' 'ес' 'режим'\n",
      " 'прекращение' 'обсе']\n",
      "topic_3: ['советский' 'памятник' 'молдавия' 'война' 'церковь' 'молдавский' 'флаг'\n",
      " 'независимость' 'приднестровье' 'националист']\n",
      "topic_4: ['киргизия' 'тимошенко' 'узбекистан' 'киргизский' 'юлия_тимошенко'\n",
      " 'бишкек' 'помощь' 'узбекский' 'гуманитарный' 'бакиев']\n",
      "topic_5: ['самолёт' 'оборона' 'база' 'учение' 'нато' 'флот' 'корабль' 'воздушный'\n",
      " 'американский' 'техника']\n",
      "topic_6: ['белоруссия' 'белорусский' 'выборы' 'кандидат' 'президентский'\n",
      " 'парламентский' 'голос' 'коалиция' 'оппозиция' 'голосование']\n",
      "topic_7: ['днр' 'взрыв' 'ополченец' 'донецк' 'обстрел' 'самопровозгласить'\n",
      " 'силовик' 'пункт' 'огонь' 'аэропорт']\n",
      "topic_8: ['крым' 'латвия' 'референдум' 'полуостров' 'состав' 'латвийский'\n",
      " 'крымский' 'присоединение' 'севастополь' 'войти']\n",
      "topic_9: ['автомобиль' 'машина' 'милиционер' 'инцидент' 'мужчина' 'дом'\n",
      " 'обнаружить' 'пострадавший' 'нападение' 'летний']\n",
      "topic_10: ['прокуратура' 'убийство' 'обвинение' 'преступление' 'сбу' 'подозревать'\n",
      " 'расследование' 'возбудить' 'приговорить' 'следствие']\n",
      "topic_11: ['журналист' 'телеканал' 'опубликовать' 'сми' 'написать' 'facebook' 'сеть'\n",
      " 'газета' 'посольство' 'канал']\n",
      "topic_12: ['язык' 'таджикистан' 'русский' 'школа' 'образование' 'мир' 'население'\n",
      " 'книга' 'фильм' 'таджикский']\n",
      "topic_13: ['законопроект' 'поправка' 'запрет' 'срок' 'нарушение' 'запретить'\n",
      " 'согласно' 'законодательство' 'лицо' 'конституция']\n",
      "topic_14: ['операция' 'военнослужащий' 'луганский' 'армия' 'оборона' 'оружие' 'боец'\n",
      " 'батальон' 'восток' 'силовой']\n",
      "topic_15: ['грузинский' 'южный' 'осетия' 'абхазия' 'граница' 'тбилиси' 'пограничник'\n",
      " 'михаил_саакашвили' 'саакашвили' 'пограничный']\n",
      "topic_16: ['литва' 'эстония' 'саакашвили' 'гражданство' 'одесский' 'эстонский'\n",
      " 'литовский' 'польша' 'delfi' 'паспорт']\n",
      "topic_17: ['армения' 'азербайджан' 'оппозиция' 'азербайджанский' 'оппозиционер'\n",
      " 'армянский' 'баку' 'ереван' 'беспорядок' 'карабах']\n",
      "topic_18: ['казахстан' 'газа' 'строительство' 'поставка' 'дорога' 'казахстанский'\n",
      " 'станция' 'вода' 'электроэнергия' 'топливо']\n",
      "topic_19: ['отставка' 'должность' 'премьерминистр' 'виктор_янук' 'янукович' 'мэр'\n",
      " 'рада' 'назначить' 'заседание' 'заместитель']\n"
     ]
    }
   ],
   "source": [
    "phi = model_lenta.get_phi()\n",
    "phi['word'] = phi.index\n",
    "\n",
    "for col in phi.columns:\n",
    "    if col != 'word':\n",
    "        print(f\"{col}: {phi[[col, 'word']].sort_values(by=col, ascending=False)['word'].values[:10]}\")"
   ]
  },
  {
   "cell_type": "code",
   "execution_count": 187,
   "metadata": {
    "ExecuteTime": {
     "end_time": "2019-02-14T00:32:37.894579Z",
     "start_time": "2019-02-14T00:32:37.499521Z"
    }
   },
   "outputs": [
    {
     "data": {
      "application/vnd.jupyter.widget-view+json": {
       "model_id": "",
       "version_major": 2,
       "version_minor": 0
      },
      "text/plain": [
       "HBox(children=(IntProgress(value=0, description='Batch', max=44, style=ProgressStyle(description_width='initia…"
      ]
     },
     "metadata": {},
     "output_type": "display_data"
    },
    {
     "name": "stdout",
     "output_type": "stream",
     "text": [
      "\r"
     ]
    },
    {
     "data": {
      "text/html": [
       "<div>\n",
       "<style scoped>\n",
       "    .dataframe tbody tr th:only-of-type {\n",
       "        vertical-align: middle;\n",
       "    }\n",
       "\n",
       "    .dataframe tbody tr th {\n",
       "        vertical-align: top;\n",
       "    }\n",
       "\n",
       "    .dataframe thead th {\n",
       "        text-align: right;\n",
       "    }\n",
       "</style>\n",
       "<table border=\"1\" class=\"dataframe\">\n",
       "  <thead>\n",
       "    <tr style=\"text-align: right;\">\n",
       "      <th></th>\n",
       "      <th>topic_0</th>\n",
       "      <th>topic_1</th>\n",
       "      <th>topic_2</th>\n",
       "      <th>topic_3</th>\n",
       "      <th>topic_4</th>\n",
       "      <th>topic_5</th>\n",
       "      <th>topic_6</th>\n",
       "      <th>topic_7</th>\n",
       "      <th>topic_8</th>\n",
       "      <th>topic_9</th>\n",
       "      <th>topic_10</th>\n",
       "      <th>topic_11</th>\n",
       "      <th>topic_12</th>\n",
       "      <th>topic_13</th>\n",
       "      <th>topic_14</th>\n",
       "      <th>topic_15</th>\n",
       "      <th>topic_16</th>\n",
       "      <th>topic_17</th>\n",
       "      <th>topic_18</th>\n",
       "      <th>topic_19</th>\n",
       "    </tr>\n",
       "  </thead>\n",
       "  <tbody>\n",
       "    <tr>\n",
       "      <th>27000</th>\n",
       "      <td>0.0</td>\n",
       "      <td>0.0</td>\n",
       "      <td>0.000000</td>\n",
       "      <td>0.0</td>\n",
       "      <td>0.0</td>\n",
       "      <td>0.0</td>\n",
       "      <td>0.478604</td>\n",
       "      <td>0.018121</td>\n",
       "      <td>0.070836</td>\n",
       "      <td>0.0</td>\n",
       "      <td>0.0</td>\n",
       "      <td>0.0</td>\n",
       "      <td>0.0</td>\n",
       "      <td>0.0</td>\n",
       "      <td>0.0</td>\n",
       "      <td>0.017972</td>\n",
       "      <td>0.0</td>\n",
       "      <td>0.014761</td>\n",
       "      <td>0.0</td>\n",
       "      <td>0.399706</td>\n",
       "    </tr>\n",
       "    <tr>\n",
       "      <th>27001</th>\n",
       "      <td>0.0</td>\n",
       "      <td>0.0</td>\n",
       "      <td>0.026506</td>\n",
       "      <td>0.0</td>\n",
       "      <td>0.0</td>\n",
       "      <td>0.0</td>\n",
       "      <td>0.323485</td>\n",
       "      <td>0.000000</td>\n",
       "      <td>0.000000</td>\n",
       "      <td>0.0</td>\n",
       "      <td>0.0</td>\n",
       "      <td>0.0</td>\n",
       "      <td>0.0</td>\n",
       "      <td>0.0</td>\n",
       "      <td>0.0</td>\n",
       "      <td>0.000000</td>\n",
       "      <td>0.0</td>\n",
       "      <td>0.000000</td>\n",
       "      <td>0.0</td>\n",
       "      <td>0.650010</td>\n",
       "    </tr>\n",
       "  </tbody>\n",
       "</table>\n",
       "</div>"
      ],
      "text/plain": [
       "       topic_0  topic_1   topic_2  topic_3  topic_4  topic_5   topic_6  \\\n",
       "27000      0.0      0.0  0.000000      0.0      0.0      0.0  0.478604   \n",
       "27001      0.0      0.0  0.026506      0.0      0.0      0.0  0.323485   \n",
       "\n",
       "        topic_7   topic_8  topic_9  topic_10  topic_11  topic_12  topic_13  \\\n",
       "27000  0.018121  0.070836      0.0       0.0       0.0       0.0       0.0   \n",
       "27001  0.000000  0.000000      0.0       0.0       0.0       0.0       0.0   \n",
       "\n",
       "       topic_14  topic_15  topic_16  topic_17  topic_18  topic_19  \n",
       "27000       0.0  0.017972       0.0  0.014761       0.0  0.399706  \n",
       "27001       0.0  0.000000       0.0  0.000000       0.0  0.650010  "
      ]
     },
     "execution_count": 187,
     "metadata": {},
     "output_type": "execute_result"
    }
   ],
   "source": [
    "theta_lenta = model_lenta.transform(batch_vectorizer=batch_vectorizer_lenta)\n",
    "theta_lenta = theta_lenta.T\n",
    "\n",
    "theta_lenta.head(2)"
   ]
  },
  {
   "cell_type": "code",
   "execution_count": 188,
   "metadata": {
    "ExecuteTime": {
     "end_time": "2019-02-14T00:32:38.040974Z",
     "start_time": "2019-02-14T00:32:38.022855Z"
    }
   },
   "outputs": [
    {
     "data": {
      "text/html": [
       "<div>\n",
       "<style scoped>\n",
       "    .dataframe tbody tr th:only-of-type {\n",
       "        vertical-align: middle;\n",
       "    }\n",
       "\n",
       "    .dataframe tbody tr th {\n",
       "        vertical-align: top;\n",
       "    }\n",
       "\n",
       "    .dataframe thead th {\n",
       "        text-align: right;\n",
       "    }\n",
       "</style>\n",
       "<table border=\"1\" class=\"dataframe\">\n",
       "  <thead>\n",
       "    <tr style=\"text-align: right;\">\n",
       "      <th></th>\n",
       "      <th>docID</th>\n",
       "      <th>year</th>\n",
       "      <th>month</th>\n",
       "      <th>topic_0</th>\n",
       "      <th>topic_1</th>\n",
       "      <th>topic_2</th>\n",
       "      <th>topic_3</th>\n",
       "      <th>topic_4</th>\n",
       "      <th>topic_5</th>\n",
       "      <th>topic_6</th>\n",
       "      <th>...</th>\n",
       "      <th>topic_10</th>\n",
       "      <th>topic_11</th>\n",
       "      <th>topic_12</th>\n",
       "      <th>topic_13</th>\n",
       "      <th>topic_14</th>\n",
       "      <th>topic_15</th>\n",
       "      <th>topic_16</th>\n",
       "      <th>topic_17</th>\n",
       "      <th>topic_18</th>\n",
       "      <th>topic_19</th>\n",
       "    </tr>\n",
       "  </thead>\n",
       "  <tbody>\n",
       "    <tr>\n",
       "      <th>0</th>\n",
       "      <td>17841</td>\n",
       "      <td>2008</td>\n",
       "      <td>1</td>\n",
       "      <td>0.0</td>\n",
       "      <td>0.147779</td>\n",
       "      <td>0.0</td>\n",
       "      <td>0.778685</td>\n",
       "      <td>0.0</td>\n",
       "      <td>0.00000</td>\n",
       "      <td>0.0</td>\n",
       "      <td>...</td>\n",
       "      <td>0.0</td>\n",
       "      <td>0.0</td>\n",
       "      <td>0.0</td>\n",
       "      <td>0.0</td>\n",
       "      <td>0.009183</td>\n",
       "      <td>0.00000</td>\n",
       "      <td>0.0</td>\n",
       "      <td>0.0</td>\n",
       "      <td>0.0</td>\n",
       "      <td>0.0</td>\n",
       "    </tr>\n",
       "    <tr>\n",
       "      <th>1</th>\n",
       "      <td>17842</td>\n",
       "      <td>2008</td>\n",
       "      <td>1</td>\n",
       "      <td>0.0</td>\n",
       "      <td>0.000000</td>\n",
       "      <td>0.0</td>\n",
       "      <td>0.000000</td>\n",
       "      <td>0.0</td>\n",
       "      <td>0.04376</td>\n",
       "      <td>0.0</td>\n",
       "      <td>...</td>\n",
       "      <td>0.0</td>\n",
       "      <td>0.0</td>\n",
       "      <td>0.0</td>\n",
       "      <td>0.0</td>\n",
       "      <td>0.000000</td>\n",
       "      <td>0.10379</td>\n",
       "      <td>0.0</td>\n",
       "      <td>0.0</td>\n",
       "      <td>0.0</td>\n",
       "      <td>0.0</td>\n",
       "    </tr>\n",
       "  </tbody>\n",
       "</table>\n",
       "<p>2 rows × 23 columns</p>\n",
       "</div>"
      ],
      "text/plain": [
       "   docID  year  month  topic_0   topic_1  topic_2   topic_3  topic_4  topic_5  \\\n",
       "0  17841  2008      1      0.0  0.147779      0.0  0.778685      0.0  0.00000   \n",
       "1  17842  2008      1      0.0  0.000000      0.0  0.000000      0.0  0.04376   \n",
       "\n",
       "   topic_6    ...     topic_10  topic_11  topic_12  topic_13  topic_14  \\\n",
       "0      0.0    ...          0.0       0.0       0.0       0.0  0.009183   \n",
       "1      0.0    ...          0.0       0.0       0.0       0.0  0.000000   \n",
       "\n",
       "   topic_15  topic_16  topic_17  topic_18  topic_19  \n",
       "0   0.00000       0.0       0.0       0.0       0.0  \n",
       "1   0.10379       0.0       0.0       0.0       0.0  \n",
       "\n",
       "[2 rows x 23 columns]"
      ]
     },
     "execution_count": 188,
     "metadata": {},
     "output_type": "execute_result"
    }
   ],
   "source": [
    "joined_lenta = id_date_lenta.join(theta_lenta)\n",
    "joined_lenta.head(2)"
   ]
  },
  {
   "cell_type": "code",
   "execution_count": 189,
   "metadata": {
    "ExecuteTime": {
     "end_time": "2019-02-14T00:32:38.422625Z",
     "start_time": "2019-02-14T00:32:38.398692Z"
    }
   },
   "outputs": [
    {
     "name": "stdout",
     "output_type": "stream",
     "text": [
      "gb.shape: (127, 20)\n"
     ]
    },
    {
     "data": {
      "text/html": [
       "<div>\n",
       "<style scoped>\n",
       "    .dataframe tbody tr th:only-of-type {\n",
       "        vertical-align: middle;\n",
       "    }\n",
       "\n",
       "    .dataframe tbody tr th {\n",
       "        vertical-align: top;\n",
       "    }\n",
       "\n",
       "    .dataframe thead th {\n",
       "        text-align: right;\n",
       "    }\n",
       "</style>\n",
       "<table border=\"1\" class=\"dataframe\">\n",
       "  <thead>\n",
       "    <tr style=\"text-align: right;\">\n",
       "      <th></th>\n",
       "      <th></th>\n",
       "      <th>topic_0</th>\n",
       "      <th>topic_1</th>\n",
       "      <th>topic_2</th>\n",
       "      <th>topic_3</th>\n",
       "      <th>topic_4</th>\n",
       "      <th>topic_5</th>\n",
       "      <th>topic_6</th>\n",
       "      <th>topic_7</th>\n",
       "      <th>topic_8</th>\n",
       "      <th>topic_9</th>\n",
       "      <th>topic_10</th>\n",
       "      <th>topic_11</th>\n",
       "      <th>topic_12</th>\n",
       "      <th>topic_13</th>\n",
       "      <th>topic_14</th>\n",
       "      <th>topic_15</th>\n",
       "      <th>topic_16</th>\n",
       "      <th>topic_17</th>\n",
       "      <th>topic_18</th>\n",
       "      <th>topic_19</th>\n",
       "    </tr>\n",
       "    <tr>\n",
       "      <th>year</th>\n",
       "      <th>month</th>\n",
       "      <th></th>\n",
       "      <th></th>\n",
       "      <th></th>\n",
       "      <th></th>\n",
       "      <th></th>\n",
       "      <th></th>\n",
       "      <th></th>\n",
       "      <th></th>\n",
       "      <th></th>\n",
       "      <th></th>\n",
       "      <th></th>\n",
       "      <th></th>\n",
       "      <th></th>\n",
       "      <th></th>\n",
       "      <th></th>\n",
       "      <th></th>\n",
       "      <th></th>\n",
       "      <th></th>\n",
       "      <th></th>\n",
       "      <th></th>\n",
       "    </tr>\n",
       "  </thead>\n",
       "  <tbody>\n",
       "    <tr>\n",
       "      <th rowspan=\"5\" valign=\"top\">2008</th>\n",
       "      <th>1</th>\n",
       "      <td>23.336512</td>\n",
       "      <td>15.903059</td>\n",
       "      <td>9.273021</td>\n",
       "      <td>14.858111</td>\n",
       "      <td>7.232814</td>\n",
       "      <td>6.868316</td>\n",
       "      <td>52.803570</td>\n",
       "      <td>6.105499</td>\n",
       "      <td>8.691145</td>\n",
       "      <td>20.687935</td>\n",
       "      <td>28.574881</td>\n",
       "      <td>11.427891</td>\n",
       "      <td>13.496688</td>\n",
       "      <td>18.712048</td>\n",
       "      <td>3.580500</td>\n",
       "      <td>13.811582</td>\n",
       "      <td>17.205585</td>\n",
       "      <td>13.232491</td>\n",
       "      <td>16.515047</td>\n",
       "      <td>20.683306</td>\n",
       "    </tr>\n",
       "    <tr>\n",
       "      <th>2</th>\n",
       "      <td>22.618605</td>\n",
       "      <td>14.860635</td>\n",
       "      <td>15.220482</td>\n",
       "      <td>10.351682</td>\n",
       "      <td>11.703378</td>\n",
       "      <td>12.147074</td>\n",
       "      <td>44.757107</td>\n",
       "      <td>7.849679</td>\n",
       "      <td>8.079295</td>\n",
       "      <td>31.400639</td>\n",
       "      <td>38.686646</td>\n",
       "      <td>11.089877</td>\n",
       "      <td>15.069556</td>\n",
       "      <td>22.987301</td>\n",
       "      <td>5.385690</td>\n",
       "      <td>18.595215</td>\n",
       "      <td>13.200577</td>\n",
       "      <td>19.519585</td>\n",
       "      <td>17.486629</td>\n",
       "      <td>24.990353</td>\n",
       "    </tr>\n",
       "    <tr>\n",
       "      <th>3</th>\n",
       "      <td>14.441309</td>\n",
       "      <td>19.839367</td>\n",
       "      <td>15.629775</td>\n",
       "      <td>8.794852</td>\n",
       "      <td>7.888297</td>\n",
       "      <td>10.524376</td>\n",
       "      <td>32.640976</td>\n",
       "      <td>5.301361</td>\n",
       "      <td>8.171222</td>\n",
       "      <td>29.021761</td>\n",
       "      <td>26.989958</td>\n",
       "      <td>12.165603</td>\n",
       "      <td>10.620560</td>\n",
       "      <td>18.142239</td>\n",
       "      <td>4.387690</td>\n",
       "      <td>16.500740</td>\n",
       "      <td>8.915312</td>\n",
       "      <td>18.619785</td>\n",
       "      <td>11.946724</td>\n",
       "      <td>18.458094</td>\n",
       "    </tr>\n",
       "    <tr>\n",
       "      <th>4</th>\n",
       "      <td>16.626268</td>\n",
       "      <td>13.512127</td>\n",
       "      <td>16.734358</td>\n",
       "      <td>10.022476</td>\n",
       "      <td>6.232857</td>\n",
       "      <td>16.781601</td>\n",
       "      <td>28.687151</td>\n",
       "      <td>6.231617</td>\n",
       "      <td>9.360614</td>\n",
       "      <td>36.907383</td>\n",
       "      <td>24.556086</td>\n",
       "      <td>10.738211</td>\n",
       "      <td>10.082733</td>\n",
       "      <td>19.348185</td>\n",
       "      <td>4.650733</td>\n",
       "      <td>22.075146</td>\n",
       "      <td>14.027369</td>\n",
       "      <td>7.992386</td>\n",
       "      <td>14.770181</td>\n",
       "      <td>21.662518</td>\n",
       "    </tr>\n",
       "    <tr>\n",
       "      <th>5</th>\n",
       "      <td>14.625599</td>\n",
       "      <td>10.757294</td>\n",
       "      <td>13.439857</td>\n",
       "      <td>10.885413</td>\n",
       "      <td>6.494381</td>\n",
       "      <td>20.941069</td>\n",
       "      <td>37.548340</td>\n",
       "      <td>8.837057</td>\n",
       "      <td>7.607130</td>\n",
       "      <td>25.565702</td>\n",
       "      <td>17.915592</td>\n",
       "      <td>8.294785</td>\n",
       "      <td>6.223666</td>\n",
       "      <td>13.833007</td>\n",
       "      <td>6.826776</td>\n",
       "      <td>24.440052</td>\n",
       "      <td>10.990210</td>\n",
       "      <td>5.609929</td>\n",
       "      <td>12.003712</td>\n",
       "      <td>16.160429</td>\n",
       "    </tr>\n",
       "  </tbody>\n",
       "</table>\n",
       "</div>"
      ],
      "text/plain": [
       "              topic_0    topic_1    topic_2    topic_3    topic_4    topic_5  \\\n",
       "year month                                                                     \n",
       "2008 1      23.336512  15.903059   9.273021  14.858111   7.232814   6.868316   \n",
       "     2      22.618605  14.860635  15.220482  10.351682  11.703378  12.147074   \n",
       "     3      14.441309  19.839367  15.629775   8.794852   7.888297  10.524376   \n",
       "     4      16.626268  13.512127  16.734358  10.022476   6.232857  16.781601   \n",
       "     5      14.625599  10.757294  13.439857  10.885413   6.494381  20.941069   \n",
       "\n",
       "              topic_6   topic_7   topic_8    topic_9   topic_10   topic_11  \\\n",
       "year month                                                                   \n",
       "2008 1      52.803570  6.105499  8.691145  20.687935  28.574881  11.427891   \n",
       "     2      44.757107  7.849679  8.079295  31.400639  38.686646  11.089877   \n",
       "     3      32.640976  5.301361  8.171222  29.021761  26.989958  12.165603   \n",
       "     4      28.687151  6.231617  9.360614  36.907383  24.556086  10.738211   \n",
       "     5      37.548340  8.837057  7.607130  25.565702  17.915592   8.294785   \n",
       "\n",
       "             topic_12   topic_13  topic_14   topic_15   topic_16   topic_17  \\\n",
       "year month                                                                    \n",
       "2008 1      13.496688  18.712048  3.580500  13.811582  17.205585  13.232491   \n",
       "     2      15.069556  22.987301  5.385690  18.595215  13.200577  19.519585   \n",
       "     3      10.620560  18.142239  4.387690  16.500740   8.915312  18.619785   \n",
       "     4      10.082733  19.348185  4.650733  22.075146  14.027369   7.992386   \n",
       "     5       6.223666  13.833007  6.826776  24.440052  10.990210   5.609929   \n",
       "\n",
       "             topic_18   topic_19  \n",
       "year month                        \n",
       "2008 1      16.515047  20.683306  \n",
       "     2      17.486629  24.990353  \n",
       "     3      11.946724  18.458094  \n",
       "     4      14.770181  21.662518  \n",
       "     5      12.003712  16.160429  "
      ]
     },
     "execution_count": 189,
     "metadata": {},
     "output_type": "execute_result"
    }
   ],
   "source": [
    "topics = ['topic_{}'.format(i) for i in range(select_topics)]\n",
    "gb_lenta = joined_lenta.groupby(['year', 'month'])[topics].sum()\n",
    "\n",
    "print(f'gb.shape: {gb_lenta.shape}')\n",
    "gb_lenta.head()"
   ]
  },
  {
   "cell_type": "markdown",
   "metadata": {},
   "source": [
    "* pygal"
   ]
  },
  {
   "cell_type": "code",
   "execution_count": 190,
   "metadata": {
    "ExecuteTime": {
     "end_time": "2019-02-14T00:32:38.877633Z",
     "start_time": "2019-02-14T00:32:38.875697Z"
    }
   },
   "outputs": [],
   "source": [
    "import pygal\n",
    "from IPython.display import SVG, HTML\n",
    "\n",
    "html_pygal = \"\"\"\n",
    "<!DOCTYPE html>\n",
    "<html>\n",
    "  <head>\n",
    "  <script type=\"text/javascript\" src=\"http://kozea.github.com/pygal.js/javascripts/svg.jquery.js\"></script>\n",
    "  <script type=\"text/javascript\" src=\"http://kozea.github.com/pygal.js/javascripts/pygal-tooltips.js\"></script>\n",
    "    <!-- ... -->\n",
    "  </head>\n",
    "  <body>\n",
    "    <figure>\n",
    "      {pygal_render}\n",
    "    </figure>\n",
    "  </body>\n",
    "</html>\n",
    "\"\"\""
   ]
  },
  {
   "cell_type": "code",
   "execution_count": null,
   "metadata": {
    "ExecuteTime": {
     "end_time": "2019-02-14T00:32:40.052036Z",
     "start_time": "2019-02-14T00:32:39.988922Z"
    }
   },
   "outputs": [],
   "source": [
    "line_chart_lenta = pygal.StackedLine(fill=True, show_dots=False)\n",
    "line_chart_lenta.title = 'Topics'\n",
    "for topic in topics:\n",
    "    line_chart_lenta.add(topic, gb_lenta[topic].values)\n",
    "    \n",
    "HTML(html_pygal.format(pygal_render=line_chart_lenta.render(is_unicode=True)))"
   ]
  },
  {
   "cell_type": "code",
   "execution_count": 192,
   "metadata": {
    "ExecuteTime": {
     "end_time": "2019-02-14T00:33:42.935259Z",
     "start_time": "2019-02-14T00:33:42.873722Z"
    }
   },
   "outputs": [],
   "source": [
    "line_chart_lenta.render_to_file(f\"data/lenta/lenta_{'-'.join(name_dataset_lenta.split('.'))}_pygal.svg\")"
   ]
  },
  {
   "cell_type": "markdown",
   "metadata": {},
   "source": [
    "* joypy"
   ]
  },
  {
   "cell_type": "code",
   "execution_count": 195,
   "metadata": {
    "ExecuteTime": {
     "end_time": "2019-02-14T00:34:11.623360Z",
     "start_time": "2019-02-14T00:34:11.620130Z"
    }
   },
   "outputs": [],
   "source": [
    "import joypy # !pip install joypy"
   ]
  },
  {
   "cell_type": "code",
   "execution_count": 196,
   "metadata": {
    "ExecuteTime": {
     "end_time": "2019-02-14T00:34:36.433928Z",
     "start_time": "2019-02-14T00:34:36.335568Z"
    }
   },
   "outputs": [
    {
     "data": {
      "text/html": [
       "<div>\n",
       "<style scoped>\n",
       "    .dataframe tbody tr th:only-of-type {\n",
       "        vertical-align: middle;\n",
       "    }\n",
       "\n",
       "    .dataframe tbody tr th {\n",
       "        vertical-align: top;\n",
       "    }\n",
       "\n",
       "    .dataframe thead th {\n",
       "        text-align: right;\n",
       "    }\n",
       "</style>\n",
       "<table border=\"1\" class=\"dataframe\">\n",
       "  <thead>\n",
       "    <tr style=\"text-align: right;\">\n",
       "      <th></th>\n",
       "      <th>docID</th>\n",
       "      <th>year</th>\n",
       "      <th>month</th>\n",
       "      <th>topic_0</th>\n",
       "      <th>topic_1</th>\n",
       "      <th>topic_2</th>\n",
       "      <th>topic_3</th>\n",
       "      <th>topic_4</th>\n",
       "      <th>topic_5</th>\n",
       "      <th>topic_6</th>\n",
       "      <th>...</th>\n",
       "      <th>topic_11</th>\n",
       "      <th>topic_12</th>\n",
       "      <th>topic_13</th>\n",
       "      <th>topic_14</th>\n",
       "      <th>topic_15</th>\n",
       "      <th>topic_16</th>\n",
       "      <th>topic_17</th>\n",
       "      <th>topic_18</th>\n",
       "      <th>topic_19</th>\n",
       "      <th>date</th>\n",
       "    </tr>\n",
       "  </thead>\n",
       "  <tbody>\n",
       "    <tr>\n",
       "      <th>0</th>\n",
       "      <td>17841</td>\n",
       "      <td>2008</td>\n",
       "      <td>1</td>\n",
       "      <td>0.000000</td>\n",
       "      <td>0.147779</td>\n",
       "      <td>0.0</td>\n",
       "      <td>0.778685</td>\n",
       "      <td>0.000000</td>\n",
       "      <td>0.00000</td>\n",
       "      <td>0.000000</td>\n",
       "      <td>...</td>\n",
       "      <td>0.0</td>\n",
       "      <td>0.000000</td>\n",
       "      <td>0.000000</td>\n",
       "      <td>0.009183</td>\n",
       "      <td>0.00000</td>\n",
       "      <td>0.000000</td>\n",
       "      <td>0.000000</td>\n",
       "      <td>0.000000</td>\n",
       "      <td>0.000000</td>\n",
       "      <td>2008-01-01</td>\n",
       "    </tr>\n",
       "    <tr>\n",
       "      <th>1</th>\n",
       "      <td>17842</td>\n",
       "      <td>2008</td>\n",
       "      <td>1</td>\n",
       "      <td>0.000000</td>\n",
       "      <td>0.000000</td>\n",
       "      <td>0.0</td>\n",
       "      <td>0.000000</td>\n",
       "      <td>0.000000</td>\n",
       "      <td>0.04376</td>\n",
       "      <td>0.000000</td>\n",
       "      <td>...</td>\n",
       "      <td>0.0</td>\n",
       "      <td>0.000000</td>\n",
       "      <td>0.000000</td>\n",
       "      <td>0.000000</td>\n",
       "      <td>0.10379</td>\n",
       "      <td>0.000000</td>\n",
       "      <td>0.000000</td>\n",
       "      <td>0.000000</td>\n",
       "      <td>0.000000</td>\n",
       "      <td>2008-01-01</td>\n",
       "    </tr>\n",
       "    <tr>\n",
       "      <th>2</th>\n",
       "      <td>17843</td>\n",
       "      <td>2008</td>\n",
       "      <td>1</td>\n",
       "      <td>0.000000</td>\n",
       "      <td>0.027746</td>\n",
       "      <td>0.0</td>\n",
       "      <td>0.000000</td>\n",
       "      <td>0.000000</td>\n",
       "      <td>0.00000</td>\n",
       "      <td>0.000000</td>\n",
       "      <td>...</td>\n",
       "      <td>0.0</td>\n",
       "      <td>0.000000</td>\n",
       "      <td>0.028826</td>\n",
       "      <td>0.000000</td>\n",
       "      <td>0.00000</td>\n",
       "      <td>0.000000</td>\n",
       "      <td>0.000000</td>\n",
       "      <td>0.167297</td>\n",
       "      <td>0.012671</td>\n",
       "      <td>2008-01-01</td>\n",
       "    </tr>\n",
       "    <tr>\n",
       "      <th>3</th>\n",
       "      <td>17844</td>\n",
       "      <td>2008</td>\n",
       "      <td>1</td>\n",
       "      <td>0.053754</td>\n",
       "      <td>0.000000</td>\n",
       "      <td>0.0</td>\n",
       "      <td>0.000000</td>\n",
       "      <td>0.169413</td>\n",
       "      <td>0.00000</td>\n",
       "      <td>0.000000</td>\n",
       "      <td>...</td>\n",
       "      <td>0.0</td>\n",
       "      <td>0.075254</td>\n",
       "      <td>0.000000</td>\n",
       "      <td>0.128949</td>\n",
       "      <td>0.00000</td>\n",
       "      <td>0.000000</td>\n",
       "      <td>0.020195</td>\n",
       "      <td>0.045910</td>\n",
       "      <td>0.000000</td>\n",
       "      <td>2008-01-01</td>\n",
       "    </tr>\n",
       "    <tr>\n",
       "      <th>4</th>\n",
       "      <td>17845</td>\n",
       "      <td>2008</td>\n",
       "      <td>1</td>\n",
       "      <td>0.000000</td>\n",
       "      <td>0.000000</td>\n",
       "      <td>0.0</td>\n",
       "      <td>0.000000</td>\n",
       "      <td>0.000000</td>\n",
       "      <td>0.00000</td>\n",
       "      <td>0.034623</td>\n",
       "      <td>...</td>\n",
       "      <td>0.0</td>\n",
       "      <td>0.000000</td>\n",
       "      <td>0.000000</td>\n",
       "      <td>0.061907</td>\n",
       "      <td>0.00000</td>\n",
       "      <td>0.010851</td>\n",
       "      <td>0.000000</td>\n",
       "      <td>0.416707</td>\n",
       "      <td>0.047174</td>\n",
       "      <td>2008-01-01</td>\n",
       "    </tr>\n",
       "  </tbody>\n",
       "</table>\n",
       "<p>5 rows × 24 columns</p>\n",
       "</div>"
      ],
      "text/plain": [
       "   docID  year  month   topic_0   topic_1  topic_2   topic_3   topic_4  \\\n",
       "0  17841  2008      1  0.000000  0.147779      0.0  0.778685  0.000000   \n",
       "1  17842  2008      1  0.000000  0.000000      0.0  0.000000  0.000000   \n",
       "2  17843  2008      1  0.000000  0.027746      0.0  0.000000  0.000000   \n",
       "3  17844  2008      1  0.053754  0.000000      0.0  0.000000  0.169413   \n",
       "4  17845  2008      1  0.000000  0.000000      0.0  0.000000  0.000000   \n",
       "\n",
       "   topic_5   topic_6     ...      topic_11  topic_12  topic_13  topic_14  \\\n",
       "0  0.00000  0.000000     ...           0.0  0.000000  0.000000  0.009183   \n",
       "1  0.04376  0.000000     ...           0.0  0.000000  0.000000  0.000000   \n",
       "2  0.00000  0.000000     ...           0.0  0.000000  0.028826  0.000000   \n",
       "3  0.00000  0.000000     ...           0.0  0.075254  0.000000  0.128949   \n",
       "4  0.00000  0.034623     ...           0.0  0.000000  0.000000  0.061907   \n",
       "\n",
       "   topic_15  topic_16  topic_17  topic_18  topic_19        date  \n",
       "0   0.00000  0.000000  0.000000  0.000000  0.000000  2008-01-01  \n",
       "1   0.10379  0.000000  0.000000  0.000000  0.000000  2008-01-01  \n",
       "2   0.00000  0.000000  0.000000  0.167297  0.012671  2008-01-01  \n",
       "3   0.00000  0.000000  0.020195  0.045910  0.000000  2008-01-01  \n",
       "4   0.00000  0.010851  0.000000  0.416707  0.047174  2008-01-01  \n",
       "\n",
       "[5 rows x 24 columns]"
      ]
     },
     "execution_count": 196,
     "metadata": {},
     "output_type": "execute_result"
    }
   ],
   "source": [
    "joined_lenta['date'] = ['{}-{:02d}-01'.format(a, b) for a, b in joined_lenta[['year', 'month']].values]\n",
    "cols = [c for c in joined_lenta.columns if c.startswith('topic')]\n",
    "\n",
    "joined_lenta.head()"
   ]
  },
  {
   "cell_type": "code",
   "execution_count": 198,
   "metadata": {
    "ExecuteTime": {
     "end_time": "2019-02-14T00:35:01.531968Z",
     "start_time": "2019-02-14T00:35:01.456552Z"
    }
   },
   "outputs": [],
   "source": [
    "dd = joined_lenta[cols + ['date']].melt('date', var_name='topic', value_name='mentions')\n",
    "dd = dd[dd['mentions'] > 0]\n",
    "\n",
    "dd2 = dd.groupby(['date','topic']).sum()\n",
    "dd2=dd2.reset_index()"
   ]
  },
  {
   "cell_type": "code",
   "execution_count": 199,
   "metadata": {
    "ExecuteTime": {
     "end_time": "2019-02-14T00:37:09.061429Z",
     "start_time": "2019-02-14T00:37:07.321823Z"
    }
   },
   "outputs": [
    {
     "data": {
      "image/png": "[encoded data removed]",
      "text/plain": [
       "<Figure size 1440x1440 with 21 Axes>"
      ]
     },
     "metadata": {
      "needs_background": "light"
     },
     "output_type": "display_data"
    }
   ],
   "source": [
    "labels = sorted(joined_lenta['date'].unique())\n",
    "fig_lenta, axes = joypy.joyplot(dd2, by='topic', column='mentions', figsize=(20, 20),\n",
    "                          xlabelsize=20,ylabelsize=20,\n",
    "                          overlap=0.4, fill=True,\n",
    "                          linecolor=\"k\",linewidth=3,\n",
    "                          kind='values', fade=True, xrot=90,\n",
    "                          x_range=[i for i in range(len(labels))],\n",
    "                          background='white');\n",
    "\n",
    "ticks_labels = {i:t for i, t in enumerate(labels)}\n",
    "axes[-1].set_xticks([k for k, v in ticks_labels.items() if k % 6 == 0])\n",
    "ticks = axes[-1].get_xticks()\n",
    "axes[-1].set_xticklabels([ticks_labels.get(i, 'stop') for i in ticks]);"
   ]
  },
  {
   "cell_type": "code",
   "execution_count": 202,
   "metadata": {
    "ExecuteTime": {
     "end_time": "2019-02-14T00:37:26.623968Z",
     "start_time": "2019-02-14T00:37:26.336443Z"
    }
   },
   "outputs": [],
   "source": [
    "fig_lenta.savefig(f\"data/lenta/lenta_{'-'.join(name_dataset_lenta.split('.'))}_joypy\")"
   ]
  },
  {
   "cell_type": "code",
   "execution_count": null,
   "metadata": {},
   "outputs": [],
   "source": []
  },
  {
   "cell_type": "markdown",
   "metadata": {},
   "source": [
    "* ## interfax"
   ]
  },
  {
   "cell_type": "code",
   "execution_count": null,
   "metadata": {},
   "outputs": [],
   "source": []
  },
  {
   "cell_type": "markdown",
   "metadata": {},
   "source": [
    "* prepare"
   ]
  },
  {
   "cell_type": "code",
   "execution_count": 203,
   "metadata": {
    "ExecuteTime": {
     "end_time": "2019-02-14T00:38:55.021920Z",
     "start_time": "2019-02-14T00:38:54.610314Z"
    }
   },
   "outputs": [],
   "source": [
    "vwpath_interfax = f'data/interfax/vwpath/{name_dataset_interfax}_input_bigartm.vw'\n",
    "\n",
    "with open(vwpath_interfax, 'w') as fp:\n",
    "    for text, did in df_interfax[['lemmatized_text', 'docID']].values:\n",
    "        fp.write('{} | {}\\n'.format(did, ' '.join(text)))"
   ]
  },
  {
   "cell_type": "code",
   "execution_count": 204,
   "metadata": {
    "ExecuteTime": {
     "end_time": "2019-02-14T00:38:55.434223Z",
     "start_time": "2019-02-14T00:38:55.430916Z"
    }
   },
   "outputs": [],
   "source": [
    "id_date_interfax = df_interfax[['docID', 'year', 'month']].copy()"
   ]
  },
  {
   "cell_type": "markdown",
   "metadata": {},
   "source": [
    "* collect batchs and collect the dictionary"
   ]
  },
  {
   "cell_type": "code",
   "execution_count": 222,
   "metadata": {
    "ExecuteTime": {
     "end_time": "2019-02-14T00:43:26.064063Z",
     "start_time": "2019-02-14T00:43:23.706479Z"
    }
   },
   "outputs": [
    {
     "name": "stdout",
     "output_type": "stream",
     "text": [
      "create folder...\n",
      "\n",
      "artm.BatchVectorizer(data_path=\"data/interfax/batches/Byvsij_SSSR\", num_batches=45)\n"
     ]
    }
   ],
   "source": [
    "batches_path_interfax = f'data/interfax/batches/{name_dataset_interfax}'\n",
    "\n",
    "if not os.path.exists(batches_path_interfax):\n",
    "    print('create folder...\\n')\n",
    "    os.makedirs(batches_path_interfax)\n",
    "    \n",
    "batch_vectorizer_interfax = artm.BatchVectorizer(data_path=vwpath_interfax,\n",
    "                                              data_format='vowpal_wabbit',\n",
    "                                              target_folder=batches_path_interfax)\n",
    "\n",
    "print(batch_vectorizer_interfax)"
   ]
  },
  {
   "cell_type": "code",
   "execution_count": 223,
   "metadata": {
    "ExecuteTime": {
     "end_time": "2019-02-14T00:43:28.050915Z",
     "start_time": "2019-02-14T00:43:26.855072Z"
    }
   },
   "outputs": [
    {
     "data": {
      "text/plain": [
       "artm.Dictionary(name=45a27a0c-5f57-48ac-a30f-deffb0979ab5, num_entries=18002)"
      ]
     },
     "execution_count": 223,
     "metadata": {},
     "output_type": "execute_result"
    }
   ],
   "source": [
    "dictionary_interfax = artm.Dictionary()\n",
    "dictionary_interfax.gather(data_path=batches_path_interfax)\n",
    "\n",
    "dictionary_interfax.filter(min_tf=10, max_df_rate=0.1) #int(4.5e5)"
   ]
  },
  {
   "cell_type": "code",
   "execution_count": 224,
   "metadata": {
    "ExecuteTime": {
     "end_time": "2019-02-14T00:43:47.921073Z",
     "start_time": "2019-02-14T00:43:30.971325Z"
    },
    "scrolled": true
   },
   "outputs": [
    {
     "data": {
      "application/vnd.jupyter.widget-view+json": {
       "model_id": "947c41c7b9f64fbd837a9d14fb31d784",
       "version_major": 2,
       "version_minor": 0
      },
      "text/plain": [
       "HBox(children=(IntProgress(value=0, description='Pass', max=5, style=ProgressStyle(description_width='initial'…"
      ]
     },
     "metadata": {},
     "output_type": "display_data"
    },
    {
     "data": {
      "application/vnd.jupyter.widget-view+json": {
       "model_id": "",
       "version_major": 2,
       "version_minor": 0
      },
      "text/plain": [
       "HBox(children=(IntProgress(value=0, description='Batch', max=45, style=ProgressStyle(description_width='initia…"
      ]
     },
     "metadata": {},
     "output_type": "display_data"
    },
    {
     "data": {
      "application/vnd.jupyter.widget-view+json": {
       "model_id": "",
       "version_major": 2,
       "version_minor": 0
      },
      "text/plain": [
       "HBox(children=(IntProgress(value=0, description='Batch', max=45, style=ProgressStyle(description_width='initia…"
      ]
     },
     "metadata": {},
     "output_type": "display_data"
    },
    {
     "data": {
      "application/vnd.jupyter.widget-view+json": {
       "model_id": "",
       "version_major": 2,
       "version_minor": 0
      },
      "text/plain": [
       "HBox(children=(IntProgress(value=0, description='Batch', max=45, style=ProgressStyle(description_width='initia…"
      ]
     },
     "metadata": {},
     "output_type": "display_data"
    },
    {
     "data": {
      "application/vnd.jupyter.widget-view+json": {
       "model_id": "",
       "version_major": 2,
       "version_minor": 0
      },
      "text/plain": [
       "HBox(children=(IntProgress(value=0, description='Batch', max=45, style=ProgressStyle(description_width='initia…"
      ]
     },
     "metadata": {},
     "output_type": "display_data"
    },
    {
     "data": {
      "application/vnd.jupyter.widget-view+json": {
       "model_id": "",
       "version_major": 2,
       "version_minor": 0
      },
      "text/plain": [
       "HBox(children=(IntProgress(value=0, description='Batch', max=45, style=ProgressStyle(description_width='initia…"
      ]
     },
     "metadata": {},
     "output_type": "display_data"
    },
    {
     "name": "stdout",
     "output_type": "stream",
     "text": [
      "\n"
     ]
    },
    {
     "data": {
      "application/vnd.jupyter.widget-view+json": {
       "model_id": "2f5f43dbfa1c41ed888ef40234e45db7",
       "version_major": 2,
       "version_minor": 0
      },
      "text/plain": [
       "HBox(children=(IntProgress(value=0, description='Pass', max=15, style=ProgressStyle(description_width='initial…"
      ]
     },
     "metadata": {},
     "output_type": "display_data"
    },
    {
     "data": {
      "application/vnd.jupyter.widget-view+json": {
       "model_id": "",
       "version_major": 2,
       "version_minor": 0
      },
      "text/plain": [
       "HBox(children=(IntProgress(value=0, description='Batch', max=45, style=ProgressStyle(description_width='initia…"
      ]
     },
     "metadata": {},
     "output_type": "display_data"
    },
    {
     "data": {
      "application/vnd.jupyter.widget-view+json": {
       "model_id": "",
       "version_major": 2,
       "version_minor": 0
      },
      "text/plain": [
       "HBox(children=(IntProgress(value=0, description='Batch', max=45, style=ProgressStyle(description_width='initia…"
      ]
     },
     "metadata": {},
     "output_type": "display_data"
    },
    {
     "data": {
      "application/vnd.jupyter.widget-view+json": {
       "model_id": "",
       "version_major": 2,
       "version_minor": 0
      },
      "text/plain": [
       "HBox(children=(IntProgress(value=0, description='Batch', max=45, style=ProgressStyle(description_width='initia…"
      ]
     },
     "metadata": {},
     "output_type": "display_data"
    },
    {
     "data": {
      "application/vnd.jupyter.widget-view+json": {
       "model_id": "",
       "version_major": 2,
       "version_minor": 0
      },
      "text/plain": [
       "HBox(children=(IntProgress(value=0, description='Batch', max=45, style=ProgressStyle(description_width='initia…"
      ]
     },
     "metadata": {},
     "output_type": "display_data"
    },
    {
     "data": {
      "application/vnd.jupyter.widget-view+json": {
       "model_id": "",
       "version_major": 2,
       "version_minor": 0
      },
      "text/plain": [
       "HBox(children=(IntProgress(value=0, description='Batch', max=45, style=ProgressStyle(description_width='initia…"
      ]
     },
     "metadata": {},
     "output_type": "display_data"
    },
    {
     "data": {
      "application/vnd.jupyter.widget-view+json": {
       "model_id": "",
       "version_major": 2,
       "version_minor": 0
      },
      "text/plain": [
       "HBox(children=(IntProgress(value=0, description='Batch', max=45, style=ProgressStyle(description_width='initia…"
      ]
     },
     "metadata": {},
     "output_type": "display_data"
    },
    {
     "data": {
      "application/vnd.jupyter.widget-view+json": {
       "model_id": "",
       "version_major": 2,
       "version_minor": 0
      },
      "text/plain": [
       "HBox(children=(IntProgress(value=0, description='Batch', max=45, style=ProgressStyle(description_width='initia…"
      ]
     },
     "metadata": {},
     "output_type": "display_data"
    },
    {
     "data": {
      "application/vnd.jupyter.widget-view+json": {
       "model_id": "",
       "version_major": 2,
       "version_minor": 0
      },
      "text/plain": [
       "HBox(children=(IntProgress(value=0, description='Batch', max=45, style=ProgressStyle(description_width='initia…"
      ]
     },
     "metadata": {},
     "output_type": "display_data"
    },
    {
     "data": {
      "application/vnd.jupyter.widget-view+json": {
       "model_id": "",
       "version_major": 2,
       "version_minor": 0
      },
      "text/plain": [
       "HBox(children=(IntProgress(value=0, description='Batch', max=45, style=ProgressStyle(description_width='initia…"
      ]
     },
     "metadata": {},
     "output_type": "display_data"
    },
    {
     "data": {
      "application/vnd.jupyter.widget-view+json": {
       "model_id": "",
       "version_major": 2,
       "version_minor": 0
      },
      "text/plain": [
       "HBox(children=(IntProgress(value=0, description='Batch', max=45, style=ProgressStyle(description_width='initia…"
      ]
     },
     "metadata": {},
     "output_type": "display_data"
    },
    {
     "data": {
      "application/vnd.jupyter.widget-view+json": {
       "model_id": "",
       "version_major": 2,
       "version_minor": 0
      },
      "text/plain": [
       "HBox(children=(IntProgress(value=0, description='Batch', max=45, style=ProgressStyle(description_width='initia…"
      ]
     },
     "metadata": {},
     "output_type": "display_data"
    },
    {
     "data": {
      "application/vnd.jupyter.widget-view+json": {
       "model_id": "",
       "version_major": 2,
       "version_minor": 0
      },
      "text/plain": [
       "HBox(children=(IntProgress(value=0, description='Batch', max=45, style=ProgressStyle(description_width='initia…"
      ]
     },
     "metadata": {},
     "output_type": "display_data"
    },
    {
     "data": {
      "application/vnd.jupyter.widget-view+json": {
       "model_id": "",
       "version_major": 2,
       "version_minor": 0
      },
      "text/plain": [
       "HBox(children=(IntProgress(value=0, description='Batch', max=45, style=ProgressStyle(description_width='initia…"
      ]
     },
     "metadata": {},
     "output_type": "display_data"
    },
    {
     "data": {
      "application/vnd.jupyter.widget-view+json": {
       "model_id": "",
       "version_major": 2,
       "version_minor": 0
      },
      "text/plain": [
       "HBox(children=(IntProgress(value=0, description='Batch', max=45, style=ProgressStyle(description_width='initia…"
      ]
     },
     "metadata": {},
     "output_type": "display_data"
    },
    {
     "data": {
      "application/vnd.jupyter.widget-view+json": {
       "model_id": "",
       "version_major": 2,
       "version_minor": 0
      },
      "text/plain": [
       "HBox(children=(IntProgress(value=0, description='Batch', max=45, style=ProgressStyle(description_width='initia…"
      ]
     },
     "metadata": {},
     "output_type": "display_data"
    },
    {
     "name": "stdout",
     "output_type": "stream",
     "text": [
      "\n"
     ]
    },
    {
     "data": {
      "application/vnd.jupyter.widget-view+json": {
       "model_id": "1c4aa13752be4a9bb8421e402c5fef77",
       "version_major": 2,
       "version_minor": 0
      },
      "text/plain": [
       "HBox(children=(IntProgress(value=0, description='Pass', max=15, style=ProgressStyle(description_width='initial…"
      ]
     },
     "metadata": {},
     "output_type": "display_data"
    },
    {
     "data": {
      "application/vnd.jupyter.widget-view+json": {
       "model_id": "",
       "version_major": 2,
       "version_minor": 0
      },
      "text/plain": [
       "HBox(children=(IntProgress(value=0, description='Batch', max=45, style=ProgressStyle(description_width='initia…"
      ]
     },
     "metadata": {},
     "output_type": "display_data"
    },
    {
     "data": {
      "application/vnd.jupyter.widget-view+json": {
       "model_id": "",
       "version_major": 2,
       "version_minor": 0
      },
      "text/plain": [
       "HBox(children=(IntProgress(value=0, description='Batch', max=45, style=ProgressStyle(description_width='initia…"
      ]
     },
     "metadata": {},
     "output_type": "display_data"
    },
    {
     "data": {
      "application/vnd.jupyter.widget-view+json": {
       "model_id": "",
       "version_major": 2,
       "version_minor": 0
      },
      "text/plain": [
       "HBox(children=(IntProgress(value=0, description='Batch', max=45, style=ProgressStyle(description_width='initia…"
      ]
     },
     "metadata": {},
     "output_type": "display_data"
    },
    {
     "data": {
      "application/vnd.jupyter.widget-view+json": {
       "model_id": "",
       "version_major": 2,
       "version_minor": 0
      },
      "text/plain": [
       "HBox(children=(IntProgress(value=0, description='Batch', max=45, style=ProgressStyle(description_width='initia…"
      ]
     },
     "metadata": {},
     "output_type": "display_data"
    },
    {
     "data": {
      "application/vnd.jupyter.widget-view+json": {
       "model_id": "",
       "version_major": 2,
       "version_minor": 0
      },
      "text/plain": [
       "HBox(children=(IntProgress(value=0, description='Batch', max=45, style=ProgressStyle(description_width='initia…"
      ]
     },
     "metadata": {},
     "output_type": "display_data"
    },
    {
     "data": {
      "application/vnd.jupyter.widget-view+json": {
       "model_id": "",
       "version_major": 2,
       "version_minor": 0
      },
      "text/plain": [
       "HBox(children=(IntProgress(value=0, description='Batch', max=45, style=ProgressStyle(description_width='initia…"
      ]
     },
     "metadata": {},
     "output_type": "display_data"
    },
    {
     "data": {
      "application/vnd.jupyter.widget-view+json": {
       "model_id": "",
       "version_major": 2,
       "version_minor": 0
      },
      "text/plain": [
       "HBox(children=(IntProgress(value=0, description='Batch', max=45, style=ProgressStyle(description_width='initia…"
      ]
     },
     "metadata": {},
     "output_type": "display_data"
    },
    {
     "data": {
      "application/vnd.jupyter.widget-view+json": {
       "model_id": "",
       "version_major": 2,
       "version_minor": 0
      },
      "text/plain": [
       "HBox(children=(IntProgress(value=0, description='Batch', max=45, style=ProgressStyle(description_width='initia…"
      ]
     },
     "metadata": {},
     "output_type": "display_data"
    },
    {
     "data": {
      "application/vnd.jupyter.widget-view+json": {
       "model_id": "",
       "version_major": 2,
       "version_minor": 0
      },
      "text/plain": [
       "HBox(children=(IntProgress(value=0, description='Batch', max=45, style=ProgressStyle(description_width='initia…"
      ]
     },
     "metadata": {},
     "output_type": "display_data"
    },
    {
     "data": {
      "application/vnd.jupyter.widget-view+json": {
       "model_id": "",
       "version_major": 2,
       "version_minor": 0
      },
      "text/plain": [
       "HBox(children=(IntProgress(value=0, description='Batch', max=45, style=ProgressStyle(description_width='initia…"
      ]
     },
     "metadata": {},
     "output_type": "display_data"
    },
    {
     "data": {
      "application/vnd.jupyter.widget-view+json": {
       "model_id": "",
       "version_major": 2,
       "version_minor": 0
      },
      "text/plain": [
       "HBox(children=(IntProgress(value=0, description='Batch', max=45, style=ProgressStyle(description_width='initia…"
      ]
     },
     "metadata": {},
     "output_type": "display_data"
    },
    {
     "data": {
      "application/vnd.jupyter.widget-view+json": {
       "model_id": "",
       "version_major": 2,
       "version_minor": 0
      },
      "text/plain": [
       "HBox(children=(IntProgress(value=0, description='Batch', max=45, style=ProgressStyle(description_width='initia…"
      ]
     },
     "metadata": {},
     "output_type": "display_data"
    },
    {
     "data": {
      "application/vnd.jupyter.widget-view+json": {
       "model_id": "",
       "version_major": 2,
       "version_minor": 0
      },
      "text/plain": [
       "HBox(children=(IntProgress(value=0, description='Batch', max=45, style=ProgressStyle(description_width='initia…"
      ]
     },
     "metadata": {},
     "output_type": "display_data"
    },
    {
     "data": {
      "application/vnd.jupyter.widget-view+json": {
       "model_id": "",
       "version_major": 2,
       "version_minor": 0
      },
      "text/plain": [
       "HBox(children=(IntProgress(value=0, description='Batch', max=45, style=ProgressStyle(description_width='initia…"
      ]
     },
     "metadata": {},
     "output_type": "display_data"
    },
    {
     "data": {
      "application/vnd.jupyter.widget-view+json": {
       "model_id": "",
       "version_major": 2,
       "version_minor": 0
      },
      "text/plain": [
       "HBox(children=(IntProgress(value=0, description='Batch', max=45, style=ProgressStyle(description_width='initia…"
      ]
     },
     "metadata": {},
     "output_type": "display_data"
    },
    {
     "name": "stdout",
     "output_type": "stream",
     "text": [
      "\n",
      "\tSparsityThetaScore: 0.6884685754776001\n",
      "\tSparsityPhiScore: 0.8751111030578613\n",
      "\tPerplexityScore: 1982.767822265625\n"
     ]
    }
   ],
   "source": [
    "model_interfax = artm.ARTM(num_topics=select_topics, dictionary=dictionary_interfax, show_progress_bars=True)\n",
    "\n",
    "# scores\n",
    "model_interfax.scores.add(artm.PerplexityScore(name='PerplexityScore', dictionary=dictionary_interfax))\n",
    "model_interfax.scores.add(artm.SparsityThetaScore(name='SparsityThetaScore'))\n",
    "model_interfax.scores.add(artm.SparsityPhiScore(name='SparsityPhiScore'))\n",
    "\n",
    "# 1st regularizer\n",
    "model_interfax.regularizers.add(artm.SmoothSparsePhiRegularizer(name='SparsePhi', tau=-1.0)) #-0.1\n",
    "model_interfax.fit_offline(batch_vectorizer=batch_vectorizer_interfax, num_collection_passes=5)\n",
    "\n",
    "# 2st regularizer\n",
    "model_interfax.regularizers.add(artm.SmoothSparseThetaRegularizer(name='SparseTheta', tau=-0.5))\n",
    "model_interfax.fit_offline(batch_vectorizer=batch_vectorizer_interfax, num_collection_passes=15)\n",
    "\n",
    "# 3st regularizer\n",
    "model_interfax.regularizers.add(artm.DecorrelatorPhiRegularizer(name='DecorrelatorPhi', tau=1.5e+5))\n",
    "\n",
    "model_interfax.fit_offline(batch_vectorizer=batch_vectorizer_interfax, num_collection_passes=15)\n",
    "\n",
    "print(f\"\\tSparsityThetaScore: {model_interfax.score_tracker['SparsityThetaScore'].last_value}\")\n",
    "print(f\"\\tSparsityPhiScore: {model_interfax.score_tracker['SparsityPhiScore'].last_value}\")\n",
    "print(f\"\\tPerplexityScore: {model_interfax.score_tracker['PerplexityScore'].last_value}\")"
   ]
  },
  {
   "cell_type": "code",
   "execution_count": null,
   "metadata": {},
   "outputs": [],
   "source": []
  },
  {
   "cell_type": "markdown",
   "metadata": {},
   "source": [
    "* print top words for each topics"
   ]
  },
  {
   "cell_type": "code",
   "execution_count": 225,
   "metadata": {
    "ExecuteTime": {
     "end_time": "2019-02-14T00:46:40.625642Z",
     "start_time": "2019-02-14T00:46:40.477974Z"
    }
   },
   "outputs": [
    {
     "name": "stdout",
     "output_type": "stream",
     "text": [
      "topic_0: ['миллион' 'миллиард' 'газа' 'поставка' 'предприятие' 'средство' 'цена'\n",
      " 'сумма' 'система' 'электроэнергия']\n",
      "topic_1: ['здание' 'корреспондент' 'участник' 'милиция' 'площадь' 'улица'\n",
      " 'активист' 'беспорядок' 'майдан' 'передавать']\n",
      "topic_2: ['огонь' 'обстрел' 'позиция' 'прекращение' 'линия' 'пункт' 'минский' 'мм'\n",
      " 'конфликт' 'режим']\n",
      "topic_3: ['оборона' 'крым' 'военнослужащий' 'войско' 'учение' 'нато' 'оон'\n",
      " 'граница' 'база' 'состав']\n",
      "topic_4: ['киргизия' 'азербайджан' 'обсе' 'наблюдатель' 'миссия' 'бишкек'\n",
      " 'временной' 'снг' 'бакиев' 'киргизский']\n",
      "topic_5: ['абхазия' 'армения' 'грузинский' 'тбилиси' 'ереван' 'армянский'\n",
      " 'абхазский' 'премьерминистр' 'член' 'полицейский']\n",
      "topic_6: ['белоруссия' 'гуманитарный' 'минск' 'белорусский' 'граница' 'помощь'\n",
      " 'груз' 'пункт' 'мчс' 'лукашенко']\n",
      "topic_7: ['взрыв' 'погибнуть' 'пострадавший' 'больница' 'дом' 'погибший'\n",
      " 'состояние' 'пожар' 'пострадать' 'ребёнок']\n",
      "topic_8: ['выбор' 'верховный' 'закон' 'избирательный' 'фракция' 'кандидат' 'выборы'\n",
      " 'заседание' 'парламентский' 'комиссия']\n",
      "topic_9: ['пограничник' 'пограничный' 'крым' 'судно' 'автомобиль' 'граница' 'въезд'\n",
      " 'мужчина' 'паспорт' 'судный']\n",
      "topic_10: ['прокуратура' 'лицо' 'преступление' 'обвинение' 'убийство' 'бывший'\n",
      " 'расследование' 'адвокат' 'арест' 'свобода']\n",
      "topic_11: ['мид' 'заявление' 'саакашвили' 'москва' 'встреча' 'переговоры' 'молдавия'\n",
      " 'хотеть' 'никакой' 'иф']\n",
      "topic_12: ['сша' 'таджикистан' 'язык' 'латвия' 'американский' 'посольство' 'визит'\n",
      " 'помощь' 'узбекистан' 'русский']\n",
      "topic_13: ['соглашение' 'европейский' 'ес' 'встреча' 'документ' 'переговоры'\n",
      " 'политический' 'право' 'подписать' 'совет']\n",
      "topic_14: ['днр' 'луганский' 'самопровозгласить' 'донбасс' 'донецк' 'ополченец'\n",
      " 'лнр' 'обсе' 'операция' 'восток']\n",
      "topic_15: ['милиция' 'южный' 'осетия' 'мвд' 'оружие' 'правоохранительный'\n",
      " 'нападение' 'милиционер' 'неизвестный' 'источник']\n",
      "topic_16: ['эстония' 'литва' 'эстонский' 'война' 'советский' 'житель' 'список'\n",
      " 'таллин' 'большой' 'опрос']\n",
      "topic_17: ['акция' 'оппозиция' 'протест' 'митинг' 'церковь' 'движение' 'участник'\n",
      " 'против' 'оппозиционный' 'православный']\n",
      "topic_18: ['казахстан' 'самолёт' 'аэропорт' 'крушение' 'боинг' 'рейс' 'авиакомпания'\n",
      " 'воздушный' 'расследование' 'борт']\n",
      "topic_19: ['мвд' 'сбу' 'одесский' 'администрация' 'начальник' 'управление'\n",
      " 'написать' 'внутренний' 'областной' 'заместитель']\n"
     ]
    }
   ],
   "source": [
    "phi = model_interfax.get_phi()\n",
    "phi['word'] = phi.index\n",
    "\n",
    "for col in phi.columns:\n",
    "    if col != 'word':\n",
    "        print(f\"{col}: {phi[[col, 'word']].sort_values(by=col, ascending=False)['word'].values[:10]}\")"
   ]
  },
  {
   "cell_type": "code",
   "execution_count": 226,
   "metadata": {
    "ExecuteTime": {
     "end_time": "2019-02-14T00:46:45.335571Z",
     "start_time": "2019-02-14T00:46:44.960101Z"
    }
   },
   "outputs": [
    {
     "data": {
      "application/vnd.jupyter.widget-view+json": {
       "model_id": "",
       "version_major": 2,
       "version_minor": 0
      },
      "text/plain": [
       "HBox(children=(IntProgress(value=0, description='Batch', max=45, style=ProgressStyle(description_width='initia…"
      ]
     },
     "metadata": {},
     "output_type": "display_data"
    },
    {
     "name": "stdout",
     "output_type": "stream",
     "text": [
      "\r"
     ]
    },
    {
     "data": {
      "text/html": [
       "<div>\n",
       "<style scoped>\n",
       "    .dataframe tbody tr th:only-of-type {\n",
       "        vertical-align: middle;\n",
       "    }\n",
       "\n",
       "    .dataframe tbody tr th {\n",
       "        vertical-align: top;\n",
       "    }\n",
       "\n",
       "    .dataframe thead th {\n",
       "        text-align: right;\n",
       "    }\n",
       "</style>\n",
       "<table border=\"1\" class=\"dataframe\">\n",
       "  <thead>\n",
       "    <tr style=\"text-align: right;\">\n",
       "      <th></th>\n",
       "      <th>topic_0</th>\n",
       "      <th>topic_1</th>\n",
       "      <th>topic_2</th>\n",
       "      <th>topic_3</th>\n",
       "      <th>topic_4</th>\n",
       "      <th>topic_5</th>\n",
       "      <th>topic_6</th>\n",
       "      <th>topic_7</th>\n",
       "      <th>topic_8</th>\n",
       "      <th>topic_9</th>\n",
       "      <th>topic_10</th>\n",
       "      <th>topic_11</th>\n",
       "      <th>topic_12</th>\n",
       "      <th>topic_13</th>\n",
       "      <th>topic_14</th>\n",
       "      <th>topic_15</th>\n",
       "      <th>topic_16</th>\n",
       "      <th>topic_17</th>\n",
       "      <th>topic_18</th>\n",
       "      <th>topic_19</th>\n",
       "    </tr>\n",
       "  </thead>\n",
       "  <tbody>\n",
       "    <tr>\n",
       "      <th>10000</th>\n",
       "      <td>0.0</td>\n",
       "      <td>0.009707</td>\n",
       "      <td>0.0</td>\n",
       "      <td>0.019001</td>\n",
       "      <td>0.0</td>\n",
       "      <td>0.0</td>\n",
       "      <td>0.193269</td>\n",
       "      <td>0.0</td>\n",
       "      <td>0.000000</td>\n",
       "      <td>0.540782</td>\n",
       "      <td>0.0</td>\n",
       "      <td>0.025573</td>\n",
       "      <td>0.000000</td>\n",
       "      <td>0.000000</td>\n",
       "      <td>0.0</td>\n",
       "      <td>0.0</td>\n",
       "      <td>0.176416</td>\n",
       "      <td>0.026735</td>\n",
       "      <td>0.008518</td>\n",
       "      <td>0.000000</td>\n",
       "    </tr>\n",
       "    <tr>\n",
       "      <th>10001</th>\n",
       "      <td>0.0</td>\n",
       "      <td>0.000000</td>\n",
       "      <td>0.0</td>\n",
       "      <td>0.006426</td>\n",
       "      <td>0.0</td>\n",
       "      <td>0.0</td>\n",
       "      <td>0.003425</td>\n",
       "      <td>0.0</td>\n",
       "      <td>0.206839</td>\n",
       "      <td>0.000000</td>\n",
       "      <td>0.0</td>\n",
       "      <td>0.446118</td>\n",
       "      <td>0.069354</td>\n",
       "      <td>0.238624</td>\n",
       "      <td>0.0</td>\n",
       "      <td>0.0</td>\n",
       "      <td>0.000000</td>\n",
       "      <td>0.000000</td>\n",
       "      <td>0.009890</td>\n",
       "      <td>0.019323</td>\n",
       "    </tr>\n",
       "  </tbody>\n",
       "</table>\n",
       "</div>"
      ],
      "text/plain": [
       "       topic_0   topic_1  topic_2   topic_3  topic_4  topic_5   topic_6  \\\n",
       "10000      0.0  0.009707      0.0  0.019001      0.0      0.0  0.193269   \n",
       "10001      0.0  0.000000      0.0  0.006426      0.0      0.0  0.003425   \n",
       "\n",
       "       topic_7   topic_8   topic_9  topic_10  topic_11  topic_12  topic_13  \\\n",
       "10000      0.0  0.000000  0.540782       0.0  0.025573  0.000000  0.000000   \n",
       "10001      0.0  0.206839  0.000000       0.0  0.446118  0.069354  0.238624   \n",
       "\n",
       "       topic_14  topic_15  topic_16  topic_17  topic_18  topic_19  \n",
       "10000       0.0       0.0  0.176416  0.026735  0.008518  0.000000  \n",
       "10001       0.0       0.0  0.000000  0.000000  0.009890  0.019323  "
      ]
     },
     "execution_count": 226,
     "metadata": {},
     "output_type": "execute_result"
    }
   ],
   "source": [
    "theta_interfax = model_interfax.transform(batch_vectorizer=batch_vectorizer_interfax)\n",
    "theta_interfax = theta_interfax.T\n",
    "\n",
    "theta_interfax.head(2)"
   ]
  },
  {
   "cell_type": "code",
   "execution_count": 227,
   "metadata": {
    "ExecuteTime": {
     "end_time": "2019-02-14T00:46:45.510490Z",
     "start_time": "2019-02-14T00:46:45.492748Z"
    }
   },
   "outputs": [
    {
     "data": {
      "text/html": [
       "<div>\n",
       "<style scoped>\n",
       "    .dataframe tbody tr th:only-of-type {\n",
       "        vertical-align: middle;\n",
       "    }\n",
       "\n",
       "    .dataframe tbody tr th {\n",
       "        vertical-align: top;\n",
       "    }\n",
       "\n",
       "    .dataframe thead th {\n",
       "        text-align: right;\n",
       "    }\n",
       "</style>\n",
       "<table border=\"1\" class=\"dataframe\">\n",
       "  <thead>\n",
       "    <tr style=\"text-align: right;\">\n",
       "      <th></th>\n",
       "      <th>docID</th>\n",
       "      <th>year</th>\n",
       "      <th>month</th>\n",
       "      <th>topic_0</th>\n",
       "      <th>topic_1</th>\n",
       "      <th>topic_2</th>\n",
       "      <th>topic_3</th>\n",
       "      <th>topic_4</th>\n",
       "      <th>topic_5</th>\n",
       "      <th>topic_6</th>\n",
       "      <th>...</th>\n",
       "      <th>topic_10</th>\n",
       "      <th>topic_11</th>\n",
       "      <th>topic_12</th>\n",
       "      <th>topic_13</th>\n",
       "      <th>topic_14</th>\n",
       "      <th>topic_15</th>\n",
       "      <th>topic_16</th>\n",
       "      <th>topic_17</th>\n",
       "      <th>topic_18</th>\n",
       "      <th>topic_19</th>\n",
       "    </tr>\n",
       "  </thead>\n",
       "  <tbody>\n",
       "    <tr>\n",
       "      <th>0</th>\n",
       "      <td>0</td>\n",
       "      <td>2008</td>\n",
       "      <td>2</td>\n",
       "      <td>0.453495</td>\n",
       "      <td>0.0</td>\n",
       "      <td>0.0</td>\n",
       "      <td>0.0</td>\n",
       "      <td>0.024996</td>\n",
       "      <td>0.003125</td>\n",
       "      <td>0.060141</td>\n",
       "      <td>...</td>\n",
       "      <td>0.0</td>\n",
       "      <td>0.13455</td>\n",
       "      <td>0.095006</td>\n",
       "      <td>0.181878</td>\n",
       "      <td>0.0</td>\n",
       "      <td>0.0</td>\n",
       "      <td>0.020969</td>\n",
       "      <td>0.000416</td>\n",
       "      <td>0.017951</td>\n",
       "      <td>0.0</td>\n",
       "    </tr>\n",
       "    <tr>\n",
       "      <th>1</th>\n",
       "      <td>1</td>\n",
       "      <td>2008</td>\n",
       "      <td>2</td>\n",
       "      <td>0.627228</td>\n",
       "      <td>0.0</td>\n",
       "      <td>0.0</td>\n",
       "      <td>0.0</td>\n",
       "      <td>0.000000</td>\n",
       "      <td>0.000000</td>\n",
       "      <td>0.000000</td>\n",
       "      <td>...</td>\n",
       "      <td>0.0</td>\n",
       "      <td>0.00000</td>\n",
       "      <td>0.087386</td>\n",
       "      <td>0.000000</td>\n",
       "      <td>0.0</td>\n",
       "      <td>0.0</td>\n",
       "      <td>0.000000</td>\n",
       "      <td>0.000000</td>\n",
       "      <td>0.000000</td>\n",
       "      <td>0.0</td>\n",
       "    </tr>\n",
       "  </tbody>\n",
       "</table>\n",
       "<p>2 rows × 23 columns</p>\n",
       "</div>"
      ],
      "text/plain": [
       "   docID  year  month   topic_0  topic_1  topic_2  topic_3   topic_4  \\\n",
       "0      0  2008      2  0.453495      0.0      0.0      0.0  0.024996   \n",
       "1      1  2008      2  0.627228      0.0      0.0      0.0  0.000000   \n",
       "\n",
       "    topic_5   topic_6    ...     topic_10  topic_11  topic_12  topic_13  \\\n",
       "0  0.003125  0.060141    ...          0.0   0.13455  0.095006  0.181878   \n",
       "1  0.000000  0.000000    ...          0.0   0.00000  0.087386  0.000000   \n",
       "\n",
       "   topic_14  topic_15  topic_16  topic_17  topic_18  topic_19  \n",
       "0       0.0       0.0  0.020969  0.000416  0.017951       0.0  \n",
       "1       0.0       0.0  0.000000  0.000000  0.000000       0.0  \n",
       "\n",
       "[2 rows x 23 columns]"
      ]
     },
     "execution_count": 227,
     "metadata": {},
     "output_type": "execute_result"
    }
   ],
   "source": [
    "joined_interfax = id_date_interfax.join(theta_interfax)\n",
    "joined_interfax.head(2)"
   ]
  },
  {
   "cell_type": "code",
   "execution_count": 228,
   "metadata": {
    "ExecuteTime": {
     "end_time": "2019-02-14T00:46:45.777178Z",
     "start_time": "2019-02-14T00:46:45.754023Z"
    }
   },
   "outputs": [
    {
     "name": "stdout",
     "output_type": "stream",
     "text": [
      "gb.shape: (131, 20)\n"
     ]
    },
    {
     "data": {
      "text/html": [
       "<div>\n",
       "<style scoped>\n",
       "    .dataframe tbody tr th:only-of-type {\n",
       "        vertical-align: middle;\n",
       "    }\n",
       "\n",
       "    .dataframe tbody tr th {\n",
       "        vertical-align: top;\n",
       "    }\n",
       "\n",
       "    .dataframe thead th {\n",
       "        text-align: right;\n",
       "    }\n",
       "</style>\n",
       "<table border=\"1\" class=\"dataframe\">\n",
       "  <thead>\n",
       "    <tr style=\"text-align: right;\">\n",
       "      <th></th>\n",
       "      <th></th>\n",
       "      <th>topic_0</th>\n",
       "      <th>topic_1</th>\n",
       "      <th>topic_2</th>\n",
       "      <th>topic_3</th>\n",
       "      <th>topic_4</th>\n",
       "      <th>topic_5</th>\n",
       "      <th>topic_6</th>\n",
       "      <th>topic_7</th>\n",
       "      <th>topic_8</th>\n",
       "      <th>topic_9</th>\n",
       "      <th>topic_10</th>\n",
       "      <th>topic_11</th>\n",
       "      <th>topic_12</th>\n",
       "      <th>topic_13</th>\n",
       "      <th>topic_14</th>\n",
       "      <th>topic_15</th>\n",
       "      <th>topic_16</th>\n",
       "      <th>topic_17</th>\n",
       "      <th>topic_18</th>\n",
       "      <th>topic_19</th>\n",
       "    </tr>\n",
       "    <tr>\n",
       "      <th>year</th>\n",
       "      <th>month</th>\n",
       "      <th></th>\n",
       "      <th></th>\n",
       "      <th></th>\n",
       "      <th></th>\n",
       "      <th></th>\n",
       "      <th></th>\n",
       "      <th></th>\n",
       "      <th></th>\n",
       "      <th></th>\n",
       "      <th></th>\n",
       "      <th></th>\n",
       "      <th></th>\n",
       "      <th></th>\n",
       "      <th></th>\n",
       "      <th></th>\n",
       "      <th></th>\n",
       "      <th></th>\n",
       "      <th></th>\n",
       "      <th></th>\n",
       "      <th></th>\n",
       "    </tr>\n",
       "  </thead>\n",
       "  <tbody>\n",
       "    <tr>\n",
       "      <th rowspan=\"5\" valign=\"top\">2008</th>\n",
       "      <th>2</th>\n",
       "      <td>5.760472</td>\n",
       "      <td>2.876415</td>\n",
       "      <td>0.365309</td>\n",
       "      <td>2.000219</td>\n",
       "      <td>1.773700</td>\n",
       "      <td>11.270631</td>\n",
       "      <td>1.035368</td>\n",
       "      <td>6.568272</td>\n",
       "      <td>13.723845</td>\n",
       "      <td>1.498193</td>\n",
       "      <td>7.870963</td>\n",
       "      <td>9.503622</td>\n",
       "      <td>1.400150</td>\n",
       "      <td>9.628122</td>\n",
       "      <td>0.730038</td>\n",
       "      <td>9.761053</td>\n",
       "      <td>3.643828</td>\n",
       "      <td>6.105114</td>\n",
       "      <td>3.458428</td>\n",
       "      <td>2.026255</td>\n",
       "    </tr>\n",
       "    <tr>\n",
       "      <th>3</th>\n",
       "      <td>27.613873</td>\n",
       "      <td>13.503314</td>\n",
       "      <td>5.757678</td>\n",
       "      <td>10.927513</td>\n",
       "      <td>10.177081</td>\n",
       "      <td>17.861046</td>\n",
       "      <td>7.308514</td>\n",
       "      <td>22.544352</td>\n",
       "      <td>27.022629</td>\n",
       "      <td>9.325748</td>\n",
       "      <td>20.698027</td>\n",
       "      <td>31.163540</td>\n",
       "      <td>17.304684</td>\n",
       "      <td>48.494213</td>\n",
       "      <td>2.825207</td>\n",
       "      <td>27.107840</td>\n",
       "      <td>15.281837</td>\n",
       "      <td>24.424259</td>\n",
       "      <td>8.627444</td>\n",
       "      <td>8.031202</td>\n",
       "    </tr>\n",
       "    <tr>\n",
       "      <th>4</th>\n",
       "      <td>18.593994</td>\n",
       "      <td>13.269810</td>\n",
       "      <td>2.144561</td>\n",
       "      <td>21.140678</td>\n",
       "      <td>6.592179</td>\n",
       "      <td>24.168394</td>\n",
       "      <td>6.466545</td>\n",
       "      <td>19.278614</td>\n",
       "      <td>22.966436</td>\n",
       "      <td>15.287906</td>\n",
       "      <td>14.023268</td>\n",
       "      <td>32.193321</td>\n",
       "      <td>15.129905</td>\n",
       "      <td>48.056385</td>\n",
       "      <td>2.817280</td>\n",
       "      <td>29.208839</td>\n",
       "      <td>17.769423</td>\n",
       "      <td>11.382945</td>\n",
       "      <td>7.582135</td>\n",
       "      <td>8.927382</td>\n",
       "    </tr>\n",
       "    <tr>\n",
       "      <th>5</th>\n",
       "      <td>13.880780</td>\n",
       "      <td>15.108719</td>\n",
       "      <td>2.322244</td>\n",
       "      <td>33.342564</td>\n",
       "      <td>10.137774</td>\n",
       "      <td>35.213306</td>\n",
       "      <td>10.163095</td>\n",
       "      <td>33.872044</td>\n",
       "      <td>31.864641</td>\n",
       "      <td>11.537979</td>\n",
       "      <td>11.186216</td>\n",
       "      <td>43.248230</td>\n",
       "      <td>12.597514</td>\n",
       "      <td>48.008492</td>\n",
       "      <td>6.013093</td>\n",
       "      <td>35.273350</td>\n",
       "      <td>22.231909</td>\n",
       "      <td>13.846569</td>\n",
       "      <td>11.334116</td>\n",
       "      <td>6.817364</td>\n",
       "    </tr>\n",
       "    <tr>\n",
       "      <th>6</th>\n",
       "      <td>13.390246</td>\n",
       "      <td>12.919604</td>\n",
       "      <td>3.046312</td>\n",
       "      <td>18.689220</td>\n",
       "      <td>4.939569</td>\n",
       "      <td>19.459402</td>\n",
       "      <td>8.768039</td>\n",
       "      <td>40.469925</td>\n",
       "      <td>15.733141</td>\n",
       "      <td>12.161125</td>\n",
       "      <td>12.824109</td>\n",
       "      <td>31.492813</td>\n",
       "      <td>12.711199</td>\n",
       "      <td>44.283005</td>\n",
       "      <td>2.151751</td>\n",
       "      <td>33.463852</td>\n",
       "      <td>18.037966</td>\n",
       "      <td>8.120152</td>\n",
       "      <td>8.344029</td>\n",
       "      <td>7.994543</td>\n",
       "    </tr>\n",
       "  </tbody>\n",
       "</table>\n",
       "</div>"
      ],
      "text/plain": [
       "              topic_0    topic_1   topic_2    topic_3    topic_4    topic_5  \\\n",
       "year month                                                                    \n",
       "2008 2       5.760472   2.876415  0.365309   2.000219   1.773700  11.270631   \n",
       "     3      27.613873  13.503314  5.757678  10.927513  10.177081  17.861046   \n",
       "     4      18.593994  13.269810  2.144561  21.140678   6.592179  24.168394   \n",
       "     5      13.880780  15.108719  2.322244  33.342564  10.137774  35.213306   \n",
       "     6      13.390246  12.919604  3.046312  18.689220   4.939569  19.459402   \n",
       "\n",
       "              topic_6    topic_7    topic_8    topic_9   topic_10   topic_11  \\\n",
       "year month                                                                     \n",
       "2008 2       1.035368   6.568272  13.723845   1.498193   7.870963   9.503622   \n",
       "     3       7.308514  22.544352  27.022629   9.325748  20.698027  31.163540   \n",
       "     4       6.466545  19.278614  22.966436  15.287906  14.023268  32.193321   \n",
       "     5      10.163095  33.872044  31.864641  11.537979  11.186216  43.248230   \n",
       "     6       8.768039  40.469925  15.733141  12.161125  12.824109  31.492813   \n",
       "\n",
       "             topic_12   topic_13  topic_14   topic_15   topic_16   topic_17  \\\n",
       "year month                                                                    \n",
       "2008 2       1.400150   9.628122  0.730038   9.761053   3.643828   6.105114   \n",
       "     3      17.304684  48.494213  2.825207  27.107840  15.281837  24.424259   \n",
       "     4      15.129905  48.056385  2.817280  29.208839  17.769423  11.382945   \n",
       "     5      12.597514  48.008492  6.013093  35.273350  22.231909  13.846569   \n",
       "     6      12.711199  44.283005  2.151751  33.463852  18.037966   8.120152   \n",
       "\n",
       "             topic_18  topic_19  \n",
       "year month                       \n",
       "2008 2       3.458428  2.026255  \n",
       "     3       8.627444  8.031202  \n",
       "     4       7.582135  8.927382  \n",
       "     5      11.334116  6.817364  \n",
       "     6       8.344029  7.994543  "
      ]
     },
     "execution_count": 228,
     "metadata": {},
     "output_type": "execute_result"
    }
   ],
   "source": [
    "topics = ['topic_{}'.format(i) for i in range(select_topics)]\n",
    "gb_interfax = joined_interfax.groupby(['year', 'month'])[topics].sum()\n",
    "\n",
    "print(f'gb.shape: {gb_interfax.shape}')\n",
    "gb_interfax.head()"
   ]
  },
  {
   "cell_type": "markdown",
   "metadata": {},
   "source": [
    "* pygal"
   ]
  },
  {
   "cell_type": "code",
   "execution_count": 229,
   "metadata": {
    "ExecuteTime": {
     "end_time": "2019-02-14T00:46:48.119192Z",
     "start_time": "2019-02-14T00:46:48.116921Z"
    }
   },
   "outputs": [],
   "source": [
    "import pygal\n",
    "from IPython.display import SVG, HTML\n",
    "\n",
    "html_pygal = \"\"\"\n",
    "<!DOCTYPE html>\n",
    "<html>\n",
    "  <head>\n",
    "  <script type=\"text/javascript\" src=\"http://kozea.github.com/pygal.js/javascripts/svg.jquery.js\"></script>\n",
    "  <script type=\"text/javascript\" src=\"http://kozea.github.com/pygal.js/javascripts/pygal-tooltips.js\"></script>\n",
    "    <!-- ... -->\n",
    "  </head>\n",
    "  <body>\n",
    "    <figure>\n",
    "      {pygal_render}\n",
    "    </figure>\n",
    "  </body>\n",
    "</html>\n",
    "\"\"\""
   ]
  },
  {
   "cell_type": "code",
   "execution_count": null,
   "metadata": {
    "ExecuteTime": {
     "end_time": "2019-02-14T00:46:49.182637Z",
     "start_time": "2019-02-14T00:46:49.117465Z"
    }
   },
   "outputs": [],
   "source": [
    "line_chart_interfax = pygal.StackedLine(fill=True, show_dots=False)\n",
    "line_chart_interfax.title = 'Topics'\n",
    "for topic in topics:\n",
    "    line_chart_interfax.add(topic, gb_interfax[topic].values)\n",
    "    \n",
    "HTML(html_pygal.format(pygal_render=line_chart_interfax.render(is_unicode=True)))"
   ]
  },
  {
   "cell_type": "code",
   "execution_count": 231,
   "metadata": {
    "ExecuteTime": {
     "end_time": "2019-02-14T00:46:49.679097Z",
     "start_time": "2019-02-14T00:46:49.617673Z"
    }
   },
   "outputs": [],
   "source": [
    "line_chart_interfax.render_to_file(f\"data/interfax/interfax_{'-'.join(name_dataset_interfax.split('.'))}_pygal.svg\")"
   ]
  },
  {
   "cell_type": "markdown",
   "metadata": {},
   "source": [
    "* joypy"
   ]
  },
  {
   "cell_type": "code",
   "execution_count": 232,
   "metadata": {
    "ExecuteTime": {
     "end_time": "2019-02-14T00:47:01.909148Z",
     "start_time": "2019-02-14T00:47:01.907066Z"
    }
   },
   "outputs": [],
   "source": [
    "import joypy # !pip install joypy"
   ]
  },
  {
   "cell_type": "code",
   "execution_count": 233,
   "metadata": {
    "ExecuteTime": {
     "end_time": "2019-02-14T00:47:02.427612Z",
     "start_time": "2019-02-14T00:47:02.327008Z"
    }
   },
   "outputs": [
    {
     "data": {
      "text/html": [
       "<div>\n",
       "<style scoped>\n",
       "    .dataframe tbody tr th:only-of-type {\n",
       "        vertical-align: middle;\n",
       "    }\n",
       "\n",
       "    .dataframe tbody tr th {\n",
       "        vertical-align: top;\n",
       "    }\n",
       "\n",
       "    .dataframe thead th {\n",
       "        text-align: right;\n",
       "    }\n",
       "</style>\n",
       "<table border=\"1\" class=\"dataframe\">\n",
       "  <thead>\n",
       "    <tr style=\"text-align: right;\">\n",
       "      <th></th>\n",
       "      <th>docID</th>\n",
       "      <th>year</th>\n",
       "      <th>month</th>\n",
       "      <th>topic_0</th>\n",
       "      <th>topic_1</th>\n",
       "      <th>topic_2</th>\n",
       "      <th>topic_3</th>\n",
       "      <th>topic_4</th>\n",
       "      <th>topic_5</th>\n",
       "      <th>topic_6</th>\n",
       "      <th>...</th>\n",
       "      <th>topic_11</th>\n",
       "      <th>topic_12</th>\n",
       "      <th>topic_13</th>\n",
       "      <th>topic_14</th>\n",
       "      <th>topic_15</th>\n",
       "      <th>topic_16</th>\n",
       "      <th>topic_17</th>\n",
       "      <th>topic_18</th>\n",
       "      <th>topic_19</th>\n",
       "      <th>date</th>\n",
       "    </tr>\n",
       "  </thead>\n",
       "  <tbody>\n",
       "    <tr>\n",
       "      <th>0</th>\n",
       "      <td>0</td>\n",
       "      <td>2008</td>\n",
       "      <td>2</td>\n",
       "      <td>0.453495</td>\n",
       "      <td>0.0000</td>\n",
       "      <td>0.0</td>\n",
       "      <td>0.0</td>\n",
       "      <td>0.024996</td>\n",
       "      <td>0.003125</td>\n",
       "      <td>0.060141</td>\n",
       "      <td>...</td>\n",
       "      <td>0.134550</td>\n",
       "      <td>0.095006</td>\n",
       "      <td>0.181878</td>\n",
       "      <td>0.000000</td>\n",
       "      <td>0.000000</td>\n",
       "      <td>0.020969</td>\n",
       "      <td>0.000416</td>\n",
       "      <td>0.017951</td>\n",
       "      <td>0.000000</td>\n",
       "      <td>2008-02-01</td>\n",
       "    </tr>\n",
       "    <tr>\n",
       "      <th>1</th>\n",
       "      <td>1</td>\n",
       "      <td>2008</td>\n",
       "      <td>2</td>\n",
       "      <td>0.627228</td>\n",
       "      <td>0.0000</td>\n",
       "      <td>0.0</td>\n",
       "      <td>0.0</td>\n",
       "      <td>0.000000</td>\n",
       "      <td>0.000000</td>\n",
       "      <td>0.000000</td>\n",
       "      <td>...</td>\n",
       "      <td>0.000000</td>\n",
       "      <td>0.087386</td>\n",
       "      <td>0.000000</td>\n",
       "      <td>0.000000</td>\n",
       "      <td>0.000000</td>\n",
       "      <td>0.000000</td>\n",
       "      <td>0.000000</td>\n",
       "      <td>0.000000</td>\n",
       "      <td>0.000000</td>\n",
       "      <td>2008-02-01</td>\n",
       "    </tr>\n",
       "    <tr>\n",
       "      <th>2</th>\n",
       "      <td>2</td>\n",
       "      <td>2008</td>\n",
       "      <td>2</td>\n",
       "      <td>0.037127</td>\n",
       "      <td>0.0000</td>\n",
       "      <td>0.0</td>\n",
       "      <td>0.0</td>\n",
       "      <td>0.000000</td>\n",
       "      <td>0.000000</td>\n",
       "      <td>0.013841</td>\n",
       "      <td>...</td>\n",
       "      <td>0.000000</td>\n",
       "      <td>0.157208</td>\n",
       "      <td>0.684762</td>\n",
       "      <td>0.000000</td>\n",
       "      <td>0.000000</td>\n",
       "      <td>0.000000</td>\n",
       "      <td>0.000000</td>\n",
       "      <td>0.000000</td>\n",
       "      <td>0.107062</td>\n",
       "      <td>2008-02-01</td>\n",
       "    </tr>\n",
       "    <tr>\n",
       "      <th>3</th>\n",
       "      <td>3</td>\n",
       "      <td>2008</td>\n",
       "      <td>2</td>\n",
       "      <td>0.000000</td>\n",
       "      <td>0.0462</td>\n",
       "      <td>0.0</td>\n",
       "      <td>0.0</td>\n",
       "      <td>0.000000</td>\n",
       "      <td>0.000000</td>\n",
       "      <td>0.000000</td>\n",
       "      <td>...</td>\n",
       "      <td>0.152312</td>\n",
       "      <td>0.000000</td>\n",
       "      <td>0.135408</td>\n",
       "      <td>0.054331</td>\n",
       "      <td>0.000000</td>\n",
       "      <td>0.000000</td>\n",
       "      <td>0.000000</td>\n",
       "      <td>0.000000</td>\n",
       "      <td>0.000000</td>\n",
       "      <td>2008-02-01</td>\n",
       "    </tr>\n",
       "    <tr>\n",
       "      <th>4</th>\n",
       "      <td>4</td>\n",
       "      <td>2008</td>\n",
       "      <td>2</td>\n",
       "      <td>0.000000</td>\n",
       "      <td>0.0000</td>\n",
       "      <td>0.0</td>\n",
       "      <td>0.0</td>\n",
       "      <td>0.000000</td>\n",
       "      <td>0.000000</td>\n",
       "      <td>0.000000</td>\n",
       "      <td>...</td>\n",
       "      <td>0.396592</td>\n",
       "      <td>0.000000</td>\n",
       "      <td>0.000000</td>\n",
       "      <td>0.000000</td>\n",
       "      <td>0.079138</td>\n",
       "      <td>0.046960</td>\n",
       "      <td>0.032437</td>\n",
       "      <td>0.000000</td>\n",
       "      <td>0.007473</td>\n",
       "      <td>2008-02-01</td>\n",
       "    </tr>\n",
       "  </tbody>\n",
       "</table>\n",
       "<p>5 rows × 24 columns</p>\n",
       "</div>"
      ],
      "text/plain": [
       "   docID  year  month   topic_0  topic_1  topic_2  topic_3   topic_4  \\\n",
       "0      0  2008      2  0.453495   0.0000      0.0      0.0  0.024996   \n",
       "1      1  2008      2  0.627228   0.0000      0.0      0.0  0.000000   \n",
       "2      2  2008      2  0.037127   0.0000      0.0      0.0  0.000000   \n",
       "3      3  2008      2  0.000000   0.0462      0.0      0.0  0.000000   \n",
       "4      4  2008      2  0.000000   0.0000      0.0      0.0  0.000000   \n",
       "\n",
       "    topic_5   topic_6     ...      topic_11  topic_12  topic_13  topic_14  \\\n",
       "0  0.003125  0.060141     ...      0.134550  0.095006  0.181878  0.000000   \n",
       "1  0.000000  0.000000     ...      0.000000  0.087386  0.000000  0.000000   \n",
       "2  0.000000  0.013841     ...      0.000000  0.157208  0.684762  0.000000   \n",
       "3  0.000000  0.000000     ...      0.152312  0.000000  0.135408  0.054331   \n",
       "4  0.000000  0.000000     ...      0.396592  0.000000  0.000000  0.000000   \n",
       "\n",
       "   topic_15  topic_16  topic_17  topic_18  topic_19        date  \n",
       "0  0.000000  0.020969  0.000416  0.017951  0.000000  2008-02-01  \n",
       "1  0.000000  0.000000  0.000000  0.000000  0.000000  2008-02-01  \n",
       "2  0.000000  0.000000  0.000000  0.000000  0.107062  2008-02-01  \n",
       "3  0.000000  0.000000  0.000000  0.000000  0.000000  2008-02-01  \n",
       "4  0.079138  0.046960  0.032437  0.000000  0.007473  2008-02-01  \n",
       "\n",
       "[5 rows x 24 columns]"
      ]
     },
     "execution_count": 233,
     "metadata": {},
     "output_type": "execute_result"
    }
   ],
   "source": [
    "joined_interfax['date'] = ['{}-{:02d}-01'.format(a, b) for a, b in joined_interfax[['year', 'month']].values]\n",
    "cols = [c for c in joined_interfax.columns if c.startswith('topic')]\n",
    "\n",
    "joined_interfax.head()"
   ]
  },
  {
   "cell_type": "code",
   "execution_count": 234,
   "metadata": {
    "ExecuteTime": {
     "end_time": "2019-02-14T00:47:02.986695Z",
     "start_time": "2019-02-14T00:47:02.912540Z"
    }
   },
   "outputs": [],
   "source": [
    "dd = joined_interfax[cols + ['date']].melt('date', var_name='topic', value_name='mentions')\n",
    "dd = dd[dd['mentions'] > 0]\n",
    "\n",
    "dd2 = dd.groupby(['date','topic']).sum()\n",
    "dd2=dd2.reset_index()"
   ]
  },
  {
   "cell_type": "code",
   "execution_count": 235,
   "metadata": {
    "ExecuteTime": {
     "end_time": "2019-02-14T00:47:04.686604Z",
     "start_time": "2019-02-14T00:47:03.291888Z"
    }
   },
   "outputs": [
    {
     "data": {
      "image/png": "[encoded data removed]",
      "text/plain": [
       "<Figure size 1440x1440 with 21 Axes>"
      ]
     },
     "metadata": {
      "needs_background": "light"
     },
     "output_type": "display_data"
    }
   ],
   "source": [
    "labels = sorted(joined_interfax['date'].unique())\n",
    "fig_interfax, axes = joypy.joyplot(dd2, by='topic', column='mentions', figsize=(20, 20),\n",
    "                          xlabelsize=20,ylabelsize=20,\n",
    "                          overlap=0.4, fill=True,\n",
    "                          linecolor=\"k\",linewidth=3,\n",
    "                          kind='values', fade=True, xrot=90,\n",
    "                          x_range=[i for i in range(len(labels))],\n",
    "                          background='white');\n",
    "\n",
    "ticks_labels = {i:t for i, t in enumerate(labels)}\n",
    "axes[-1].set_xticks([k for k, v in ticks_labels.items() if k % 6 == 0])\n",
    "ticks = axes[-1].get_xticks()\n",
    "axes[-1].set_xticklabels([ticks_labels.get(i, 'stop') for i in ticks]);"
   ]
  },
  {
   "cell_type": "code",
   "execution_count": 236,
   "metadata": {
    "ExecuteTime": {
     "end_time": "2019-02-14T00:47:05.596986Z",
     "start_time": "2019-02-14T00:47:05.297105Z"
    }
   },
   "outputs": [],
   "source": [
    "fig_interfax.savefig(f\"data/interfax/interfax_{'-'.join(name_dataset_interfax.split('.'))}_joypy\")"
   ]
  },
  {
   "cell_type": "code",
   "execution_count": null,
   "metadata": {},
   "outputs": [],
   "source": []
  },
  {
   "cell_type": "code",
   "execution_count": null,
   "metadata": {},
   "outputs": [],
   "source": []
  }
 ],
 "metadata": {
  "kernelspec": {
   "display_name": "Python 3",
   "language": "python",
   "name": "python3"
  },
  "language_info": {
   "codemirror_mode": {
    "name": "ipython",
    "version": 3
   },
   "file_extension": ".py",
   "mimetype": "text/x-python",
   "name": "python",
   "nbconvert_exporter": "python",
   "pygments_lexer": "ipython3",
   "version": "3.6.7"
  },
  "varInspector": {
   "cols": {
    "lenName": 16,
    "lenType": 16,
    "lenVar": 40
   },
   "kernels_config": {
    "python": {
     "delete_cmd_postfix": "",
     "delete_cmd_prefix": "del ",
     "library": "var_list.py",
     "varRefreshCmd": "print(var_dic_list())"
    },
    "r": {
     "delete_cmd_postfix": ") ",
     "delete_cmd_prefix": "rm(",
     "library": "var_list.r",
     "varRefreshCmd": "cat(var_dic_list()) "
    }
   },
   "types_to_exclude": [
    "module",
    "function",
    "builtin_function_or_method",
    "instance",
    "_Feature"
   ],
   "window_display": false
  }
 },
 "nbformat": 4,
 "nbformat_minor": 2
}
