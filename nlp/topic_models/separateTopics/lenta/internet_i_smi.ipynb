{
 "cells": [
  {
   "cell_type": "code",
   "execution_count": 1,
   "metadata": {
    "ExecuteTime": {
     "end_time": "2019-02-03T15:04:46.429517Z",
     "start_time": "2019-02-03T15:04:44.983437Z"
    }
   },
   "outputs": [
    {
     "name": "stderr",
     "output_type": "stream",
     "text": [
      "/home/vtrokhymenko/proj_news_viz/env4news/lib/python3.6/site-packages/scipy/sparse/sparsetools.py:21: DeprecationWarning: `scipy.sparse.sparsetools` is deprecated!\n",
      "scipy.sparse.sparsetools is a private module for scipy.sparse, and should not be used.\n",
      "  _deprecated()\n"
     ]
    }
   ],
   "source": [
    "import numpy as np\n",
    "import pandas as pd\n",
    "import os\n",
    "\n",
    "import re\n",
    "from datetime import datetime as time\n",
    "from ast import literal_eval\n",
    "from sklearn.model_selection import train_test_split\n",
    "\n",
    "import artm\n",
    "from gensim.models import Phrases\n",
    "from gensim.models.phrases import Phraser\n",
    "\n",
    "import gc\n",
    "import matplotlib.pyplot as plt\n",
    "%matplotlib inline"
   ]
  },
  {
   "cell_type": "code",
   "execution_count": 2,
   "metadata": {
    "ExecuteTime": {
     "end_time": "2019-02-03T15:04:47.036211Z",
     "start_time": "2019-02-03T15:04:46.911644Z"
    },
    "scrolled": true
   },
   "outputs": [
    {
     "name": "stdout",
     "output_type": "stream",
     "text": [
      "-rw-rw-r-- 1 vtrokhymenko vtrokhymenko 491K Jan 15 18:18 data/69-.paralel.csv.bz2\r\n",
      "-rw-rw-r-- 1 vtrokhymenko vtrokhymenko  48M Jan 15 18:21 data/Russia.csv.bz2\r\n",
      "-rw-rw-r-- 1 vtrokhymenko vtrokhymenko  12M Jan 15 18:21 data/Sil_struktur.csv.bz2\r\n",
      "-rw-rw-r-- 1 vtrokhymenko vtrokhymenko  44K Jan 15 18:19 data/biblioteka.csv.bz2\r\n",
      "-rw-rw-r-- 1 vtrokhymenko vtrokhymenko  25M Jan 15 18:19 data/bivs.SSR.csv.bz2\r\n",
      "-rw-rw-r-- 1 vtrokhymenko vtrokhymenko 6.1M Jan 15 18:18 data/biznes.csv.bz2\r\n",
      "-rw-rw-r-- 1 vtrokhymenko vtrokhymenko 2.9M Jan 15 18:21 data/cennosti.csv.bz2\r\n",
      "-rw-rw-r-- 1 vtrokhymenko vtrokhymenko  28M Jan 15 18:21 data/economic.csv.bz2\r\n",
      "-rw-rw-r-- 1 vtrokhymenko vtrokhymenko  16M Jan 15 18:19 data/internet.i.smi.csv.bz2\r\n",
      "-rw-rw-r-- 1 vtrokhymenko vtrokhymenko 8.6M Jan 15 18:18 data/iz.jizni.csv.bz2\r\n",
      "-rw-rw-r-- 1 vtrokhymenko vtrokhymenko 125K Jan 15 18:18 data/kultprosvet.csv.bz2\r\n",
      "-rw-rw-r-- 1 vtrokhymenko vtrokhymenko  20M Jan 15 18:18 data/kultura.csv.bz2\r\n",
      "-rw-rw-r-- 1 vtrokhymenko vtrokhymenko  65K Jan 15 18:20 data/legprom.csv.bz2\r\n",
      "-rw-rw-r-- 1 vtrokhymenko vtrokhymenko  56M Jan 16 02:07 data/mir.csv.bz2\r\n",
      "-rw-rw-r-- 1 vtrokhymenko vtrokhymenko  24M Jan 15 18:21 data/naula.i.tehn.csv.bz2\r\n",
      "-rw-rw-r-- 1 vtrokhymenko vtrokhymenko 2.4K Jan 15 18:20 data/orujie.csv.bz2\r\n",
      "-rw-rw-r-- 1 vtrokhymenko vtrokhymenko 3.0M Jan 15 18:21 data/puteshestvi.csv.bz2\r\n",
      "-rw-rw-r-- 1 vtrokhymenko vtrokhymenko  19M Jan 15 18:20 data/sport.csv.bz2\r\n"
     ]
    }
   ],
   "source": [
    "!ls -lah data/*.csv.bz2"
   ]
  },
  {
   "cell_type": "code",
   "execution_count": 3,
   "metadata": {
    "ExecuteTime": {
     "end_time": "2019-02-03T15:05:09.804209Z",
     "start_time": "2019-02-03T15:05:09.800587Z"
    }
   },
   "outputs": [],
   "source": [
    "name_dataset = 'internet.i.smi'"
   ]
  },
  {
   "cell_type": "markdown",
   "metadata": {},
   "source": [
    "### load data"
   ]
  },
  {
   "cell_type": "code",
   "execution_count": 4,
   "metadata": {
    "ExecuteTime": {
     "end_time": "2019-02-03T15:05:22.042124Z",
     "start_time": "2019-02-03T15:05:10.457408Z"
    }
   },
   "outputs": [
    {
     "name": "stdout",
     "output_type": "stream",
     "text": [
      "(37224, 7)\n",
      "CPU times: user 11.1 s, sys: 144 ms, total: 11.3 s\n",
      "Wall time: 11.6 s\n"
     ]
    }
   ],
   "source": [
    "%%time\n",
    "df = pd.read_csv(f'data/{name_dataset}.csv.bz2')\n",
    "print(df.shape)"
   ]
  },
  {
   "cell_type": "code",
   "execution_count": 5,
   "metadata": {
    "ExecuteTime": {
     "end_time": "2019-02-03T15:05:23.645261Z",
     "start_time": "2019-02-03T15:05:23.588495Z"
    }
   },
   "outputs": [
    {
     "data": {
      "text/html": [
       "<div>\n",
       "<style scoped>\n",
       "    .dataframe tbody tr th:only-of-type {\n",
       "        vertical-align: middle;\n",
       "    }\n",
       "\n",
       "    .dataframe tbody tr th {\n",
       "        vertical-align: top;\n",
       "    }\n",
       "\n",
       "    .dataframe thead th {\n",
       "        text-align: right;\n",
       "    }\n",
       "</style>\n",
       "<table border=\"1\" class=\"dataframe\">\n",
       "  <thead>\n",
       "    <tr style=\"text-align: right;\">\n",
       "      <th></th>\n",
       "      <th>1914-lenta/</th>\n",
       "      <th>url</th>\n",
       "      <th>edition</th>\n",
       "      <th>topics</th>\n",
       "      <th>title</th>\n",
       "      <th>text</th>\n",
       "      <th>topic</th>\n",
       "    </tr>\n",
       "  </thead>\n",
       "  <tbody>\n",
       "    <tr>\n",
       "      <th>0</th>\n",
       "      <td>1999-10-01 12:00:00</td>\n",
       "      <td>https://lenta.ru/news/1999/10/01/dvd/</td>\n",
       "      <td>NaN</td>\n",
       "      <td>Россия</td>\n",
       "      <td>В Москве открылась выставка \"DVD-шоу'99\"</td>\n",
       "      <td>1 октября в Москве в отеле \"Аэростар\" открылас...</td>\n",
       "      <td>Интернет и СМИ</td>\n",
       "    </tr>\n",
       "    <tr>\n",
       "      <th>1</th>\n",
       "      <td>1999-10-01 12:00:00</td>\n",
       "      <td>https://lenta.ru/news/1999/10/01/scouts/</td>\n",
       "      <td>NaN</td>\n",
       "      <td>Мир</td>\n",
       "      <td>Украинский порносайт унаследовал домен девочек...</td>\n",
       "      <td>Украинский порнографический сайт занял домен, ...</td>\n",
       "      <td>Интернет и СМИ</td>\n",
       "    </tr>\n",
       "  </tbody>\n",
       "</table>\n",
       "</div>"
      ],
      "text/plain": [
       "           1914-lenta/                                       url  edition  \\\n",
       "0  1999-10-01 12:00:00     https://lenta.ru/news/1999/10/01/dvd/      NaN   \n",
       "1  1999-10-01 12:00:00  https://lenta.ru/news/1999/10/01/scouts/      NaN   \n",
       "\n",
       "   topics                                              title  \\\n",
       "0  Россия           В Москве открылась выставка \"DVD-шоу'99\"   \n",
       "1     Мир  Украинский порносайт унаследовал домен девочек...   \n",
       "\n",
       "                                                text           topic  \n",
       "0  1 октября в Москве в отеле \"Аэростар\" открылас...  Интернет и СМИ  \n",
       "1  Украинский порнографический сайт занял домен, ...  Интернет и СМИ  "
      ]
     },
     "execution_count": 5,
     "metadata": {},
     "output_type": "execute_result"
    }
   ],
   "source": [
    "df = df[df.text!='text']\n",
    "df.head(2)"
   ]
  },
  {
   "cell_type": "markdown",
   "metadata": {},
   "source": [
    "### preprocess"
   ]
  },
  {
   "cell_type": "markdown",
   "metadata": {},
   "source": [
    "* get dates"
   ]
  },
  {
   "cell_type": "code",
   "execution_count": 6,
   "metadata": {
    "ExecuteTime": {
     "end_time": "2019-02-03T15:05:28.735748Z",
     "start_time": "2019-02-03T15:05:28.495523Z"
    }
   },
   "outputs": [
    {
     "name": "stderr",
     "output_type": "stream",
     "text": [
      "<unknown>:2: DeprecationWarning: invalid escape sequence \\d\n"
     ]
    },
    {
     "name": "stdout",
     "output_type": "stream",
     "text": [
      "CPU times: user 205 ms, sys: 15.4 ms, total: 221 ms\n",
      "Wall time: 234 ms\n"
     ]
    }
   ],
   "source": [
    "%%time\n",
    "\n",
    "df['date_raw'] = df['url'].apply(re.compile('(\\d{4})/(\\d{2})/(\\d{2})').findall)\n",
    "\n",
    "df['year'] = df['date_raw'].apply(lambda x: int(x[0][0]))\n",
    "df['month'] = df['date_raw'].apply(lambda x: int(x[0][1]))"
   ]
  },
  {
   "cell_type": "markdown",
   "metadata": {},
   "source": [
    "* clean text"
   ]
  },
  {
   "cell_type": "code",
   "execution_count": 7,
   "metadata": {
    "ExecuteTime": {
     "end_time": "2019-02-03T15:05:29.155622Z",
     "start_time": "2019-02-03T15:05:28.739501Z"
    }
   },
   "outputs": [],
   "source": [
    "import preprocessing_tools as pr"
   ]
  },
  {
   "cell_type": "code",
   "execution_count": 8,
   "metadata": {
    "ExecuteTime": {
     "end_time": "2019-02-03T15:05:39.249370Z",
     "start_time": "2019-02-03T15:05:29.160286Z"
    }
   },
   "outputs": [
    {
     "name": "stdout",
     "output_type": "stream",
     "text": [
      "CPU times: user 9.6 s, sys: 98.2 ms, total: 9.7 s\n",
      "Wall time: 10.1 s\n"
     ]
    }
   ],
   "source": [
    "%%time\n",
    "df.text = df.text.apply(pr.clean_text)"
   ]
  },
  {
   "cell_type": "code",
   "execution_count": 9,
   "metadata": {
    "ExecuteTime": {
     "end_time": "2019-02-03T15:05:39.278879Z",
     "start_time": "2019-02-03T15:05:39.256871Z"
    }
   },
   "outputs": [
    {
     "data": {
      "text/html": [
       "<div>\n",
       "<style scoped>\n",
       "    .dataframe tbody tr th:only-of-type {\n",
       "        vertical-align: middle;\n",
       "    }\n",
       "\n",
       "    .dataframe tbody tr th {\n",
       "        vertical-align: top;\n",
       "    }\n",
       "\n",
       "    .dataframe thead th {\n",
       "        text-align: right;\n",
       "    }\n",
       "</style>\n",
       "<table border=\"1\" class=\"dataframe\">\n",
       "  <thead>\n",
       "    <tr style=\"text-align: right;\">\n",
       "      <th></th>\n",
       "      <th>1914-lenta/</th>\n",
       "      <th>url</th>\n",
       "      <th>edition</th>\n",
       "      <th>topics</th>\n",
       "      <th>title</th>\n",
       "      <th>text</th>\n",
       "      <th>topic</th>\n",
       "      <th>date_raw</th>\n",
       "      <th>year</th>\n",
       "      <th>month</th>\n",
       "    </tr>\n",
       "  </thead>\n",
       "  <tbody>\n",
       "    <tr>\n",
       "      <th>0</th>\n",
       "      <td>1999-10-01 12:00:00</td>\n",
       "      <td>https://lenta.ru/news/1999/10/01/dvd/</td>\n",
       "      <td>NaN</td>\n",
       "      <td>Россия</td>\n",
       "      <td>В Москве открылась выставка \"DVD-шоу'99\"</td>\n",
       "      <td>октября в москве в отеле аэростар открылась пе...</td>\n",
       "      <td>Интернет и СМИ</td>\n",
       "      <td>[(1999, 10, 01)]</td>\n",
       "      <td>1999</td>\n",
       "      <td>10</td>\n",
       "    </tr>\n",
       "    <tr>\n",
       "      <th>1</th>\n",
       "      <td>1999-10-01 12:00:00</td>\n",
       "      <td>https://lenta.ru/news/1999/10/01/scouts/</td>\n",
       "      <td>NaN</td>\n",
       "      <td>Мир</td>\n",
       "      <td>Украинский порносайт унаследовал домен девочек...</td>\n",
       "      <td>украинский порнографический сайт занял домен р...</td>\n",
       "      <td>Интернет и СМИ</td>\n",
       "      <td>[(1999, 10, 01)]</td>\n",
       "      <td>1999</td>\n",
       "      <td>10</td>\n",
       "    </tr>\n",
       "  </tbody>\n",
       "</table>\n",
       "</div>"
      ],
      "text/plain": [
       "           1914-lenta/                                       url  edition  \\\n",
       "0  1999-10-01 12:00:00     https://lenta.ru/news/1999/10/01/dvd/      NaN   \n",
       "1  1999-10-01 12:00:00  https://lenta.ru/news/1999/10/01/scouts/      NaN   \n",
       "\n",
       "   topics                                              title  \\\n",
       "0  Россия           В Москве открылась выставка \"DVD-шоу'99\"   \n",
       "1     Мир  Украинский порносайт унаследовал домен девочек...   \n",
       "\n",
       "                                                text           topic  \\\n",
       "0  октября в москве в отеле аэростар открылась пе...  Интернет и СМИ   \n",
       "1  украинский порнографический сайт занял домен р...  Интернет и СМИ   \n",
       "\n",
       "           date_raw  year  month  \n",
       "0  [(1999, 10, 01)]  1999     10  \n",
       "1  [(1999, 10, 01)]  1999     10  "
      ]
     },
     "execution_count": 9,
     "metadata": {},
     "output_type": "execute_result"
    }
   ],
   "source": [
    "df.head(2)"
   ]
  },
  {
   "cell_type": "markdown",
   "metadata": {},
   "source": [
    "* cleanedNames"
   ]
  },
  {
   "cell_type": "code",
   "execution_count": 10,
   "metadata": {
    "ExecuteTime": {
     "end_time": "2019-02-03T15:05:39.539304Z",
     "start_time": "2019-02-03T15:05:39.281472Z"
    }
   },
   "outputs": [],
   "source": [
    "from cleanedNames import KeyProc\n",
    "cn = KeyProc()"
   ]
  },
  {
   "cell_type": "code",
   "execution_count": 11,
   "metadata": {
    "ExecuteTime": {
     "end_time": "2019-02-03T15:07:20.681631Z",
     "start_time": "2019-02-03T15:05:39.542640Z"
    }
   },
   "outputs": [
    {
     "name": "stdout",
     "output_type": "stream",
     "text": [
      "CPU times: user 1min 36s, sys: 29.1 ms, total: 1min 36s\n",
      "Wall time: 1min 41s\n"
     ]
    }
   ],
   "source": [
    "%%time\n",
    "df.text = df.text.apply(cn.replaceKeywords)"
   ]
  },
  {
   "cell_type": "markdown",
   "metadata": {},
   "source": [
    "* lemmatization"
   ]
  },
  {
   "cell_type": "code",
   "execution_count": 12,
   "metadata": {
    "ExecuteTime": {
     "end_time": "2019-02-03T15:10:24.731072Z",
     "start_time": "2019-02-03T15:07:20.686826Z"
    }
   },
   "outputs": [
    {
     "name": "stdout",
     "output_type": "stream",
     "text": [
      "CPU times: user 2min 56s, sys: 396 ms, total: 2min 57s\n",
      "Wall time: 3min 4s\n"
     ]
    }
   ],
   "source": [
    "%%time\n",
    "df['lemmatized_text'] = df.text.apply(pr.lemmatization)"
   ]
  },
  {
   "cell_type": "code",
   "execution_count": null,
   "metadata": {},
   "outputs": [],
   "source": []
  },
  {
   "cell_type": "markdown",
   "metadata": {},
   "source": [
    "* add docID"
   ]
  },
  {
   "cell_type": "code",
   "execution_count": 13,
   "metadata": {
    "ExecuteTime": {
     "end_time": "2019-02-03T15:10:24.749693Z",
     "start_time": "2019-02-03T15:10:24.733629Z"
    }
   },
   "outputs": [],
   "source": [
    "df['docID'] = list(range(df.shape[0]))"
   ]
  },
  {
   "cell_type": "code",
   "execution_count": 14,
   "metadata": {
    "ExecuteTime": {
     "end_time": "2019-02-03T15:10:24.817432Z",
     "start_time": "2019-02-03T15:10:24.752469Z"
    }
   },
   "outputs": [
    {
     "data": {
      "text/html": [
       "<div>\n",
       "<style scoped>\n",
       "    .dataframe tbody tr th:only-of-type {\n",
       "        vertical-align: middle;\n",
       "    }\n",
       "\n",
       "    .dataframe tbody tr th {\n",
       "        vertical-align: top;\n",
       "    }\n",
       "\n",
       "    .dataframe thead th {\n",
       "        text-align: right;\n",
       "    }\n",
       "</style>\n",
       "<table border=\"1\" class=\"dataframe\">\n",
       "  <thead>\n",
       "    <tr style=\"text-align: right;\">\n",
       "      <th></th>\n",
       "      <th>docID</th>\n",
       "      <th>year</th>\n",
       "      <th>month</th>\n",
       "      <th>lemmatized_text</th>\n",
       "    </tr>\n",
       "  </thead>\n",
       "  <tbody>\n",
       "    <tr>\n",
       "      <th>0</th>\n",
       "      <td>0</td>\n",
       "      <td>1999</td>\n",
       "      <td>10</td>\n",
       "      <td>[октябрь, москва, отель, аэростарый, открыться...</td>\n",
       "    </tr>\n",
       "    <tr>\n",
       "      <th>1</th>\n",
       "      <td>1</td>\n",
       "      <td>1999</td>\n",
       "      <td>10</td>\n",
       "      <td>[украинский, порнографический, сайт, занять, д...</td>\n",
       "    </tr>\n",
       "  </tbody>\n",
       "</table>\n",
       "</div>"
      ],
      "text/plain": [
       "   docID  year  month                                    lemmatized_text\n",
       "0      0  1999     10  [октябрь, москва, отель, аэростарый, открыться...\n",
       "1      1  1999     10  [украинский, порнографический, сайт, занять, д..."
      ]
     },
     "execution_count": 14,
     "metadata": {},
     "output_type": "execute_result"
    }
   ],
   "source": [
    "df = df[['docID','year','month','lemmatized_text']]\n",
    "df.head(2)"
   ]
  },
  {
   "cell_type": "code",
   "execution_count": 15,
   "metadata": {
    "ExecuteTime": {
     "end_time": "2019-02-03T15:10:24.844307Z",
     "start_time": "2019-02-03T15:10:24.821000Z"
    }
   },
   "outputs": [
    {
     "name": "stdout",
     "output_type": "stream",
     "text": [
      "(37224, 4)\n"
     ]
    },
    {
     "data": {
      "text/plain": [
       "docID              0\n",
       "year               0\n",
       "month              0\n",
       "lemmatized_text    0\n",
       "dtype: int64"
      ]
     },
     "execution_count": 15,
     "metadata": {},
     "output_type": "execute_result"
    }
   ],
   "source": [
    "print(df.shape)\n",
    "df.isnull().sum()"
   ]
  },
  {
   "cell_type": "code",
   "execution_count": 16,
   "metadata": {
    "ExecuteTime": {
     "end_time": "2019-02-03T15:10:24.860327Z",
     "start_time": "2019-02-03T15:10:24.850742Z"
    }
   },
   "outputs": [
    {
     "data": {
      "text/plain": [
       "1999"
      ]
     },
     "execution_count": 16,
     "metadata": {},
     "output_type": "execute_result"
    }
   ],
   "source": [
    "df.year.min()"
   ]
  },
  {
   "cell_type": "code",
   "execution_count": null,
   "metadata": {},
   "outputs": [],
   "source": []
  },
  {
   "cell_type": "markdown",
   "metadata": {},
   "source": [
    "## model"
   ]
  },
  {
   "cell_type": "markdown",
   "metadata": {},
   "source": [
    "* prepare"
   ]
  },
  {
   "cell_type": "code",
   "execution_count": 17,
   "metadata": {
    "ExecuteTime": {
     "end_time": "2019-02-03T15:10:37.638875Z",
     "start_time": "2019-02-03T15:10:36.711382Z"
    }
   },
   "outputs": [
    {
     "name": "stdout",
     "output_type": "stream",
     "text": [
      "CPU times: user 759 ms, sys: 126 ms, total: 884 ms\n",
      "Wall time: 920 ms\n"
     ]
    }
   ],
   "source": [
    "%%time\n",
    "\n",
    "vwpath = f'data/vwpath/{name_dataset}_input_bigartm.vw'\n",
    "\n",
    "with open(vwpath, 'w') as fp:\n",
    "    for text, did in df[['lemmatized_text', 'docID']].values:\n",
    "        fp.write('{} | {}\\n'.format(did, ' '.join(text)))"
   ]
  },
  {
   "cell_type": "code",
   "execution_count": 18,
   "metadata": {
    "ExecuteTime": {
     "end_time": "2019-02-03T15:10:38.679908Z",
     "start_time": "2019-02-03T15:10:38.674459Z"
    }
   },
   "outputs": [],
   "source": [
    "id_date = df[['docID', 'year', 'month']].copy()"
   ]
  },
  {
   "cell_type": "markdown",
   "metadata": {},
   "source": [
    "* collect batchs and collect the dictionary"
   ]
  },
  {
   "cell_type": "code",
   "execution_count": 19,
   "metadata": {
    "ExecuteTime": {
     "end_time": "2019-02-03T15:10:56.640312Z",
     "start_time": "2019-02-03T15:10:39.918518Z"
    }
   },
   "outputs": [
    {
     "name": "stdout",
     "output_type": "stream",
     "text": [
      "create folder...\n",
      "\n",
      "artm.BatchVectorizer(data_path=\"data/batches/internet.i.smi\", num_batches=38)\n",
      "CPU times: user 27.5 s, sys: 936 ms, total: 28.5 s\n",
      "Wall time: 16.7 s\n"
     ]
    }
   ],
   "source": [
    "%%time\n",
    "\n",
    "batches_path = f'data/batches/{name_dataset}'\n",
    "\n",
    "if not os.path.exists(batches_path):\n",
    "    print('create folder...\\n')\n",
    "    os.makedirs(batches_path)\n",
    "    \n",
    "batch_vectorizer = artm.BatchVectorizer(data_path=vwpath,\n",
    "                                        data_format='vowpal_wabbit',\n",
    "                                        target_folder=batches_path)\n",
    "\n",
    "print(batch_vectorizer)"
   ]
  },
  {
   "cell_type": "code",
   "execution_count": 20,
   "metadata": {
    "ExecuteTime": {
     "end_time": "2019-02-03T15:10:59.415191Z",
     "start_time": "2019-02-03T15:10:56.790495Z"
    }
   },
   "outputs": [],
   "source": [
    "dictionary = artm.Dictionary()\n",
    "dictionary.gather(data_path=batches_path)"
   ]
  },
  {
   "cell_type": "code",
   "execution_count": 21,
   "metadata": {
    "ExecuteTime": {
     "end_time": "2019-02-03T15:10:59.664012Z",
     "start_time": "2019-02-03T15:10:59.543270Z"
    }
   },
   "outputs": [
    {
     "data": {
      "text/plain": [
       "artm.Dictionary(name=a05daeb2-904f-4c7b-b1d3-a3989292aecf, num_entries=22944)"
      ]
     },
     "execution_count": 21,
     "metadata": {},
     "output_type": "execute_result"
    }
   ],
   "source": [
    "dictionary.filter(min_tf=10, max_df_rate=0.1) #int(4.5e5)"
   ]
  },
  {
   "cell_type": "code",
   "execution_count": 22,
   "metadata": {
    "ExecuteTime": {
     "end_time": "2019-02-03T15:11:00.000547Z",
     "start_time": "2019-02-03T15:10:59.819560Z"
    }
   },
   "outputs": [],
   "source": [
    "dictionary.save_text(f'data/dicts/dict_{name_dataset}.txt')"
   ]
  },
  {
   "cell_type": "code",
   "execution_count": null,
   "metadata": {},
   "outputs": [],
   "source": []
  },
  {
   "cell_type": "markdown",
   "metadata": {},
   "source": [
    "## pick up amount topics"
   ]
  },
  {
   "cell_type": "code",
   "execution_count": 23,
   "metadata": {
    "ExecuteTime": {
     "end_time": "2019-02-03T16:55:04.002107Z",
     "start_time": "2019-02-03T15:11:02.293458Z"
    },
    "scrolled": true
   },
   "outputs": [
    {
     "name": "stdout",
     "output_type": "stream",
     "text": [
      "#topic 2.........\n",
      "\tSparsityThetaScore: 0.1208091527223587\n",
      "\tSparsityPhiScore: 0.25457635521888733\n",
      "\tPerplexityScore: 4854.35107421875\n",
      "\ttime: 0:02:40.112641\n",
      "#topic 3.........\n",
      "\tSparsityThetaScore: 0.2597696781158447\n",
      "\tSparsityPhiScore: 0.39449673891067505\n",
      "\tPerplexityScore: 4291.78369140625\n",
      "\ttime: 0:02:59.652317\n",
      "#topic 4.........\n",
      "\tSparsityThetaScore: 0.33282962441444397\n",
      "\tSparsityPhiScore: 0.49280858039855957\n",
      "\tPerplexityScore: 3997.1806640625\n",
      "\ttime: 0:02:54.621216\n",
      "#topic 5.........\n",
      "\tSparsityThetaScore: 0.3815602958202362\n",
      "\tSparsityPhiScore: 0.5556311011314392\n",
      "\tPerplexityScore: 3844.774658203125\n",
      "\ttime: 0:03:29.641709\n",
      "#topic 6.........\n",
      "\tSparsityThetaScore: 0.44411760568618774\n",
      "\tSparsityPhiScore: 0.5926676392555237\n",
      "\tPerplexityScore: 3639.90185546875\n",
      "\ttime: 0:03:41.025864\n",
      "#topic 7.........\n",
      "\tSparsityThetaScore: 0.47704246640205383\n",
      "\tSparsityPhiScore: 0.6213887333869934\n",
      "\tPerplexityScore: 3549.093017578125\n",
      "\ttime: 0:03:49.879980\n",
      "#topic 8.........\n",
      "\tSparsityThetaScore: 0.5143355131149292\n",
      "\tSparsityPhiScore: 0.6507365703582764\n",
      "\tPerplexityScore: 3384.486572265625\n",
      "\ttime: 0:03:52.777998\n",
      "#topic 9.........\n",
      "\tSparsityThetaScore: 0.549660325050354\n",
      "\tSparsityPhiScore: 0.6708410978317261\n",
      "\tPerplexityScore: 3267.139892578125\n",
      "\ttime: 0:05:00.087749\n",
      "#topic 10.........\n",
      "\tSparsityThetaScore: 0.5766038298606873\n",
      "\tSparsityPhiScore: 0.6887813806533813\n",
      "\tPerplexityScore: 3195.555908203125\n",
      "\ttime: 0:05:03.594265\n",
      "#topic 11.........\n",
      "\tSparsityThetaScore: 0.5967777371406555\n",
      "\tSparsityPhiScore: 0.7072912454605103\n",
      "\tPerplexityScore: 3136.456787109375\n",
      "\ttime: 0:05:24.492424\n",
      "#topic 12.........\n",
      "\tSparsityThetaScore: 0.6141109466552734\n",
      "\tSparsityPhiScore: 0.7236895561218262\n",
      "\tPerplexityScore: 3057.3427734375\n",
      "\ttime: 0:05:41.035720\n",
      "#topic 13.........\n",
      "\tSparsityThetaScore: 0.6306126117706299\n",
      "\tSparsityPhiScore: 0.7360160946846008\n",
      "\tPerplexityScore: 3001.895751953125\n",
      "\ttime: 0:05:57.994499\n",
      "#topic 14.........\n",
      "\tSparsityThetaScore: 0.6401879787445068\n",
      "\tSparsityPhiScore: 0.7520608901977539\n",
      "\tPerplexityScore: 2951.2919921875\n",
      "\ttime: 0:06:51.413672\n",
      "#topic 15.........\n",
      "\tSparsityThetaScore: 0.6568737030029297\n",
      "\tSparsityPhiScore: 0.7586209774017334\n",
      "\tPerplexityScore: 2894.868408203125\n",
      "\ttime: 0:06:54.134219\n",
      "#topic 16.........\n",
      "\tSparsityThetaScore: 0.6703571677207947\n",
      "\tSparsityPhiScore: 0.76691073179245\n",
      "\tPerplexityScore: 2842.95849609375\n",
      "\ttime: 0:07:15.304533\n",
      "#topic 17.........\n",
      "\tSparsityThetaScore: 0.6819872856140137\n",
      "\tSparsityPhiScore: 0.773025393486023\n",
      "\tPerplexityScore: 2796.48681640625\n",
      "\ttime: 0:08:24.678329\n",
      "#topic 18.........\n",
      "\tSparsityThetaScore: 0.6950518488883972\n",
      "\tSparsityPhiScore: 0.7796906232833862\n",
      "\tPerplexityScore: 2744.826171875\n",
      "\ttime: 0:07:26.633907\n",
      "#topic 19.........\n",
      "\tSparsityThetaScore: 0.7043941617012024\n",
      "\tSparsityPhiScore: 0.786395251750946\n",
      "\tPerplexityScore: 2712.655517578125\n",
      "\ttime: 0:08:25.436880\n",
      "#topic 20.........\n",
      "\tSparsityThetaScore: 0.7110573649406433\n",
      "\tSparsityPhiScore: 0.7972476482391357\n",
      "\tPerplexityScore: 2669.431396484375\n",
      "\ttime: 0:08:09.158913\n",
      "CPU times: user 4h 20min 21s, sys: 1h 34min 11s, total: 5h 54min 33s\n",
      "Wall time: 1h 44min 1s\n"
     ]
    }
   ],
   "source": [
    "%%time\n",
    "model_list = []\n",
    "step, perplexity, sTheta, sPhi = [], [], [], []\n",
    "\n",
    "for i in range(2,20+1,1):\n",
    "    print(f'#topic {i}.........')\n",
    "    step.append(i)\n",
    "    date_start = time.now()\n",
    "    \n",
    "    num_topics = i\n",
    "    model = artm.ARTM(num_topics=num_topics, dictionary=dictionary)\n",
    "    \n",
    "    # scores\n",
    "    model.scores.add(artm.PerplexityScore(name='PerplexityScore',dictionary=dictionary))\n",
    "    model.scores.add(artm.SparsityThetaScore(name='SparsityThetaScore'))\n",
    "    model.scores.add(artm.SparsityPhiScore(name='SparsityPhiScore'))\n",
    "\n",
    "    # regularizers\n",
    "    model.regularizers.add(artm.SmoothSparsePhiRegularizer(name='SparsePhi', tau=-0.1))\n",
    "    model.regularizers.add(artm.SmoothSparseThetaRegularizer(name='SparseTheta', tau=-0.5))\n",
    "    model.regularizers.add(artm.DecorrelatorPhiRegularizer(name='DecorrelatorPhi', tau=1.5e+5))\n",
    "    \n",
    "    model.fit_offline(batch_vectorizer=batch_vectorizer, num_collection_passes=50)\n",
    "    model_list.append(model)\n",
    "    \n",
    "    sparsityTheta = model.score_tracker['SparsityThetaScore'].last_value\n",
    "    sTheta.append(sparsityTheta)\n",
    "    sparsityPhi = model.score_tracker['SparsityPhiScore'].last_value\n",
    "    sPhi.append(sparsityPhi)\n",
    "    perpl = model.score_tracker['PerplexityScore'].last_value\n",
    "    perplexity.append(perpl)\n",
    "    \n",
    "    print(f'\\tSparsityThetaScore: {sparsityTheta}')\n",
    "    print(f'\\tSparsityPhiScore: {sparsityPhi}')\n",
    "    print(f'\\tPerplexityScore: {perpl}')\n",
    "    \n",
    "    print('\\ttime:',time.now()-date_start)\n",
    "    \n",
    "newTime = time.now() #"
   ]
  },
  {
   "cell_type": "code",
   "execution_count": 31,
   "metadata": {
    "ExecuteTime": {
     "end_time": "2019-02-03T10:25:19.898317Z",
     "start_time": "2019-02-03T10:25:19.896173Z"
    }
   },
   "outputs": [],
   "source": [
    "#model_list"
   ]
  },
  {
   "cell_type": "code",
   "execution_count": 24,
   "metadata": {
    "ExecuteTime": {
     "end_time": "2019-02-03T17:00:28.865215Z",
     "start_time": "2019-02-03T17:00:27.128691Z"
    },
    "cell_style": "split"
   },
   "outputs": [
    {
     "data": {
      "text/plain": [
       "Text(0.5, 1.0, 'SparsityPhiScore')"
      ]
     },
     "execution_count": 24,
     "metadata": {},
     "output_type": "execute_result"
    },
    {
     "data": {
      "image/png": "[encoded data removed]",
      "text/plain": [
       "<Figure size 432x288 with 1 Axes>"
      ]
     },
     "metadata": {
      "needs_background": "light"
     },
     "output_type": "display_data"
    }
   ],
   "source": [
    "plt.plot(step, sPhi, color='k',linewidth=3, marker='x')\n",
    "ax = plt.gca()\n",
    "ax.set_xticks(step)\n",
    "plt.grid()\n",
    "plt.title('SparsityPhiScore')"
   ]
  },
  {
   "cell_type": "code",
   "execution_count": 25,
   "metadata": {
    "ExecuteTime": {
     "end_time": "2019-02-03T17:00:30.469875Z",
     "start_time": "2019-02-03T17:00:30.436073Z"
    },
    "cell_style": "split"
   },
   "outputs": [
    {
     "data": {
      "text/plain": [
       "[0.2, 0.3, 0.4, 0.5, 0.6, 0.7]"
      ]
     },
     "execution_count": 25,
     "metadata": {},
     "output_type": "execute_result"
    }
   ],
   "source": [
    "index_sphi = []\n",
    "[index_sphi.append(float(str(i)[:3]) ) for i in sPhi]\n",
    "    \n",
    "index_sphi = list(set(index_sphi))\n",
    "index_sphi.sort()\n",
    "index_sphi"
   ]
  },
  {
   "cell_type": "code",
   "execution_count": 26,
   "metadata": {
    "ExecuteTime": {
     "end_time": "2019-02-03T17:00:32.278158Z",
     "start_time": "2019-02-03T17:00:32.113447Z"
    },
    "cell_style": "split"
   },
   "outputs": [
    {
     "data": {
      "text/plain": [
       "{0.2: 1, 0.3: 1, 0.4: 1, 0.5: 2, 0.6: 4, 0.7: 10}"
      ]
     },
     "execution_count": 26,
     "metadata": {},
     "output_type": "execute_result"
    }
   ],
   "source": [
    "d_sphi = {}\n",
    "\n",
    "for j in range(len(index_sphi)):\n",
    "    k=0\n",
    "    for i in sPhi:\n",
    "        if j==range(len(index_sphi))[-1]:\n",
    "            if (i>=index_sphi[j]):\n",
    "                k+=1\n",
    "        else:\n",
    "            if (i>=index_sphi[j]) & (i<index_sphi[j+1]):\n",
    "                k+=1\n",
    "    d_sphi[index_sphi[j]]=k\n",
    "\n",
    "d_sphi"
   ]
  },
  {
   "cell_type": "code",
   "execution_count": 27,
   "metadata": {
    "ExecuteTime": {
     "end_time": "2019-02-03T17:00:37.068540Z",
     "start_time": "2019-02-03T17:00:34.929323Z"
    },
    "cell_style": "split",
    "scrolled": true
   },
   "outputs": [
    {
     "data": {
      "text/plain": [
       "Text(0.5, 1.0, 'SparsityThetaScore')"
      ]
     },
     "execution_count": 27,
     "metadata": {},
     "output_type": "execute_result"
    },
    {
     "data": {
      "image/png": "[encoded data removed]",
      "text/plain": [
       "<Figure size 432x288 with 1 Axes>"
      ]
     },
     "metadata": {
      "needs_background": "light"
     },
     "output_type": "display_data"
    }
   ],
   "source": [
    "plt.plot(step, sTheta, color='g',linewidth=3, marker='x')\n",
    "ax = plt.gca()\n",
    "ax.set_xticks(step)\n",
    "plt.grid()\n",
    "\n",
    "plt.title('SparsityThetaScore')"
   ]
  },
  {
   "cell_type": "code",
   "execution_count": 28,
   "metadata": {
    "ExecuteTime": {
     "end_time": "2019-02-03T17:00:37.693756Z",
     "start_time": "2019-02-03T17:00:37.655713Z"
    },
    "cell_style": "split"
   },
   "outputs": [
    {
     "data": {
      "text/plain": [
       "[0.1, 0.2, 0.3, 0.4, 0.5, 0.6, 0.7]"
      ]
     },
     "execution_count": 28,
     "metadata": {},
     "output_type": "execute_result"
    }
   ],
   "source": [
    "index_theta = []\n",
    "[index_theta.append(float(str(i)[:3])) for i in sTheta]\n",
    "    \n",
    "index_theta = list(set(index_theta))\n",
    "index_theta.sort()\n",
    "index_theta"
   ]
  },
  {
   "cell_type": "code",
   "execution_count": 29,
   "metadata": {
    "ExecuteTime": {
     "end_time": "2019-02-03T17:00:39.366466Z",
     "start_time": "2019-02-03T17:00:39.310962Z"
    },
    "cell_style": "split"
   },
   "outputs": [
    {
     "data": {
      "text/plain": [
       "{0.1: 1, 0.2: 1, 0.3: 2, 0.4: 2, 0.5: 4, 0.6: 7, 0.7: 2}"
      ]
     },
     "execution_count": 29,
     "metadata": {},
     "output_type": "execute_result"
    }
   ],
   "source": [
    "d_stheta = {}\n",
    "\n",
    "for j in range(len(index_theta)):\n",
    "    k=0\n",
    "    for i in sTheta:\n",
    "        if j==range(len(index_theta))[-1]:\n",
    "            if (i>=index_theta[j]):\n",
    "                k+=1\n",
    "        else:\n",
    "            if (i>=index_theta[j]) & (i<index_theta[j+1]):\n",
    "                k+=1\n",
    "    d_stheta[index_theta[j]]=k\n",
    "\n",
    "d_stheta"
   ]
  },
  {
   "cell_type": "code",
   "execution_count": 30,
   "metadata": {
    "ExecuteTime": {
     "end_time": "2019-02-03T17:00:42.618180Z",
     "start_time": "2019-02-03T17:00:40.834788Z"
    },
    "cell_style": "split"
   },
   "outputs": [
    {
     "data": {
      "text/plain": [
       "Text(0.5, 1.0, 'PerplexityScore')"
      ]
     },
     "execution_count": 30,
     "metadata": {},
     "output_type": "execute_result"
    },
    {
     "data": {
      "image/png": "[encoded data removed]",
      "text/plain": [
       "<Figure size 432x288 with 1 Axes>"
      ]
     },
     "metadata": {
      "needs_background": "light"
     },
     "output_type": "display_data"
    }
   ],
   "source": [
    "plt.plot(step, perplexity, color='b',linewidth=3, marker='x')\n",
    "ax = plt.gca()\n",
    "ax.set_xticks(step)\n",
    "plt.grid()\n",
    "plt.title('PerplexityScore')"
   ]
  },
  {
   "cell_type": "code",
   "execution_count": 31,
   "metadata": {
    "ExecuteTime": {
     "end_time": "2019-02-03T17:00:44.240620Z",
     "start_time": "2019-02-03T17:00:44.128162Z"
    },
    "cell_style": "split"
   },
   "outputs": [
    {
     "data": {
      "text/plain": [
       "[4854.35107421875,\n",
       " 4291.78369140625,\n",
       " 3997.1806640625,\n",
       " 3844.774658203125,\n",
       " 3639.90185546875,\n",
       " 3549.093017578125,\n",
       " 3384.486572265625,\n",
       " 3267.139892578125,\n",
       " 3195.555908203125,\n",
       " 3136.456787109375,\n",
       " 3057.3427734375,\n",
       " 3001.895751953125,\n",
       " 2951.2919921875,\n",
       " 2894.868408203125,\n",
       " 2842.95849609375,\n",
       " 2796.48681640625,\n",
       " 2744.826171875,\n",
       " 2712.655517578125,\n",
       " 2669.431396484375]"
      ]
     },
     "execution_count": 31,
     "metadata": {},
     "output_type": "execute_result"
    }
   ],
   "source": [
    "perplexity"
   ]
  },
  {
   "cell_type": "markdown",
   "metadata": {},
   "source": [
    "### select the best model"
   ]
  },
  {
   "cell_type": "code",
   "execution_count": 32,
   "metadata": {
    "ExecuteTime": {
     "end_time": "2019-02-03T17:00:45.963284Z",
     "start_time": "2019-02-03T17:00:45.933999Z"
    }
   },
   "outputs": [
    {
     "name": "stdout",
     "output_type": "stream",
     "text": [
      "d_sphi:   {0.2: 1, 0.3: 1, 0.4: 1, 0.5: 2, 0.6: 4, 0.7: 10}\n",
      "d_stheta: {0.1: 1, 0.2: 1, 0.3: 2, 0.4: 2, 0.5: 4, 0.6: 7, 0.7: 2}\n"
     ]
    }
   ],
   "source": [
    "print(f'd_sphi:   {d_sphi}')\n",
    "print(f'd_stheta: {d_stheta}')"
   ]
  },
  {
   "cell_type": "code",
   "execution_count": 33,
   "metadata": {
    "ExecuteTime": {
     "end_time": "2019-02-03T17:00:48.679783Z",
     "start_time": "2019-02-03T17:00:48.653271Z"
    }
   },
   "outputs": [
    {
     "name": "stdout",
     "output_type": "stream",
     "text": [
      "20\n"
     ]
    }
   ],
   "source": [
    "select_topics = 20 # u should choose number of topic\n",
    "\n",
    "best_model = model_list[select_topics-2]\n",
    "print(best_model.num_topics)"
   ]
  },
  {
   "cell_type": "markdown",
   "metadata": {
    "ExecuteTime": {
     "end_time": "2019-02-01T00:14:02.339878Z",
     "start_time": "2019-02-01T00:14:02.338133Z"
    }
   },
   "source": [
    "### print top words for each topics"
   ]
  },
  {
   "cell_type": "code",
   "execution_count": 34,
   "metadata": {
    "ExecuteTime": {
     "end_time": "2019-02-03T17:00:52.053225Z",
     "start_time": "2019-02-03T17:00:50.210852Z"
    }
   },
   "outputs": [
    {
     "name": "stdout",
     "output_type": "stream",
     "text": [
      "topic_0: ['apple' 'microsoft' 'музыкальный' 'авторский' 'музыка' 'контент'\n",
      " 'браузер' 'файл' 'пиратский' 'music']\n",
      "topic_1: ['иск' 'подать' 'судебный' 'рубль' 'адвокат' 'заявление' 'статья' 'эхо'\n",
      " 'компенсация' 'требовать']\n",
      "topic_2: ['британский' 'ребёнок' 'великобритания' 'bbc' 'бибись' 'ведущий' 'news'\n",
      " 'daily' 'guardian' 'фунт']\n",
      "topic_3: ['рекламный' 'оператор' 'услуга' 'кампания' 'бренд' 'город' 'рынок'\n",
      " 'объявление' 'рубль' 'портал']\n",
      "topic_4: ['домен' 'депутат' 'законопроект' 'правительство' 'общественный'\n",
      " 'организация' 'информационный' 'доменный' 'регистрация' 'госдума']\n",
      "topic_5: ['полиция' 'уголовный' 'задержать' 'статья' 'убийство' 'орган' 'обвинение'\n",
      " 'расследование' 'правоохранительный' 'прокуратура']\n",
      "topic_6: ['ролик' 'фильм' 'youtube' 'игра' 'премия' 'видео' 'сериал' 'хороший'\n",
      " 'шоу' 'номинация']\n",
      "topic_7: ['украина' 'украинский' 'военный' 'государство' 'организация' 'территория'\n",
      " 'война' 'правительство' 'международный' 'свобода']\n",
      "topic_8: ['times' 'news' 'yahoo' 'new' 'york' 'сделка' 'акция' 'фонд' 'корпорация'\n",
      " 'journal']\n",
      "topic_9: ['девушка' 'видео' 'внимание' 'мужчина' 'комментарий' 'ролик' 'очень'\n",
      " 'обратить' 'друг' 'блогер']\n",
      "topic_10: ['вещание' 'радиостанция' 'тв' 'холдинг' 'акция' 'телекомпания' 'радио'\n",
      " 'газпроммедиа' 'телевидение' 'акционер']\n",
      "topic_11: ['google' 'приложение' 'соцсеть' 'мобильный' 'поиск' 'поисковый' 'блог'\n",
      " 'запустить' 'яндекс' 'поисковик']\n",
      "topic_12: ['нтв' 'ведущий' 'генеральный' 'пост' 'должность' 'руководство'\n",
      " 'заместитель' 'интервью' 'передача' 'гендиректор']\n",
      "topic_13: ['выбор' 'кандидат' 'штат' 'cnn' 'обама' 'post' 'университет' 'партия'\n",
      " 'основатель' 'washington']\n",
      "topic_14: ['закон' 'роскомнадзор' 'запретить' 'блокировка' 'заблокировать'\n",
      " 'ведомство' 'требование' 'нарушение' 'реестр' 'распространение']\n",
      "topic_15: ['миллиард' 'рейтинг' 'составить' 'аудитория' 'рынок' 'исследование'\n",
      " 'количество' 'доля' 'составлять' 'рубль']\n",
      "topic_16: ['фотография' 'снимка' 'аккаунт' 'фото' 'instagram' 'изображение'\n",
      " 'публикация' 'женщина' 'пост' 'микроблог']\n",
      "topic_17: ['хакер' 'атака' 'компьютер' 'безопасность' 'сервер' 'взлом' 'вирус'\n",
      " 'взломать' 'специалист' 'хакерский']\n",
      "topic_18: ['китайский' 'telegram' 'мессенджер' 'китай' 'вконтакте' 'электронный'\n",
      " 'деньга' 'письмо' 'счёт' 'почта']\n",
      "topic_19: ['журнал' 'дом' 'издательский' 'номер' 'редакция' 'версия' 'media'\n",
      " 'forbes' 'тираж' 'рбк']\n"
     ]
    }
   ],
   "source": [
    "phi = best_model.get_phi()\n",
    "phi['word'] = phi.index\n",
    "#phi.head()\n",
    "\n",
    "for col in phi.columns:\n",
    "    if col != 'word':\n",
    "        print(f\"{col}: {phi[[col, 'word']].sort_values(by=col, ascending=False)['word'].values[:10]}\")\n",
    "        #print('\\t',phi[[col, 'word']].sort_values(by=col, ascending=False)['word'].values[:10])"
   ]
  },
  {
   "cell_type": "code",
   "execution_count": null,
   "metadata": {},
   "outputs": [],
   "source": []
  },
  {
   "cell_type": "markdown",
   "metadata": {},
   "source": [
    "### get topics-docs matrix"
   ]
  },
  {
   "cell_type": "code",
   "execution_count": 35,
   "metadata": {
    "ExecuteTime": {
     "end_time": "2019-02-03T17:01:35.067367Z",
     "start_time": "2019-02-03T17:01:23.400137Z"
    }
   },
   "outputs": [
    {
     "name": "stdout",
     "output_type": "stream",
     "text": [
      "shape theta: (20, 37224)\n"
     ]
    },
    {
     "data": {
      "image/png": "[encoded data removed]",
      "text/plain": [
       "<Figure size 1440x1440 with 1 Axes>"
      ]
     },
     "metadata": {
      "needs_background": "light"
     },
     "output_type": "display_data"
    }
   ],
   "source": [
    "theta = best_model.transform_sparse(batch_vectorizer=batch_vectorizer, eps=0.001)\n",
    "print(f'shape theta: {theta[0].shape}')\n",
    "\n",
    "plt.figure(figsize=(20, 20))\n",
    "plt.imshow(theta[0][:, 2000:2500].toarray());"
   ]
  },
  {
   "cell_type": "code",
   "execution_count": null,
   "metadata": {},
   "outputs": [],
   "source": []
  },
  {
   "cell_type": "markdown",
   "metadata": {},
   "source": [
    "### dense theta matrix"
   ]
  },
  {
   "cell_type": "code",
   "execution_count": 36,
   "metadata": {
    "ExecuteTime": {
     "end_time": "2019-02-03T17:01:42.242163Z",
     "start_time": "2019-02-03T17:01:36.413381Z"
    }
   },
   "outputs": [
    {
     "data": {
      "text/html": [
       "<div>\n",
       "<style scoped>\n",
       "    .dataframe tbody tr th:only-of-type {\n",
       "        vertical-align: middle;\n",
       "    }\n",
       "\n",
       "    .dataframe tbody tr th {\n",
       "        vertical-align: top;\n",
       "    }\n",
       "\n",
       "    .dataframe thead th {\n",
       "        text-align: right;\n",
       "    }\n",
       "</style>\n",
       "<table border=\"1\" class=\"dataframe\">\n",
       "  <thead>\n",
       "    <tr style=\"text-align: right;\">\n",
       "      <th></th>\n",
       "      <th>topic_0</th>\n",
       "      <th>topic_1</th>\n",
       "      <th>topic_2</th>\n",
       "      <th>topic_3</th>\n",
       "      <th>topic_4</th>\n",
       "      <th>topic_5</th>\n",
       "      <th>topic_6</th>\n",
       "      <th>topic_7</th>\n",
       "      <th>topic_8</th>\n",
       "      <th>topic_9</th>\n",
       "      <th>topic_10</th>\n",
       "      <th>topic_11</th>\n",
       "      <th>topic_12</th>\n",
       "      <th>topic_13</th>\n",
       "      <th>topic_14</th>\n",
       "      <th>topic_15</th>\n",
       "      <th>topic_16</th>\n",
       "      <th>topic_17</th>\n",
       "      <th>topic_18</th>\n",
       "      <th>topic_19</th>\n",
       "    </tr>\n",
       "  </thead>\n",
       "  <tbody>\n",
       "    <tr>\n",
       "      <th>31000</th>\n",
       "      <td>0.00000</td>\n",
       "      <td>0.000000</td>\n",
       "      <td>0.000000</td>\n",
       "      <td>0.000000</td>\n",
       "      <td>0.000000</td>\n",
       "      <td>0.000000</td>\n",
       "      <td>0.209707</td>\n",
       "      <td>0.0</td>\n",
       "      <td>0.000000</td>\n",
       "      <td>0.000000</td>\n",
       "      <td>0.000000</td>\n",
       "      <td>0.363265</td>\n",
       "      <td>0.000000</td>\n",
       "      <td>0.078808</td>\n",
       "      <td>0.000000</td>\n",
       "      <td>0.0</td>\n",
       "      <td>0.34822</td>\n",
       "      <td>0.0</td>\n",
       "      <td>0.000000</td>\n",
       "      <td>0.00000</td>\n",
       "    </tr>\n",
       "    <tr>\n",
       "      <th>31001</th>\n",
       "      <td>0.00000</td>\n",
       "      <td>0.000000</td>\n",
       "      <td>0.066897</td>\n",
       "      <td>0.000000</td>\n",
       "      <td>0.000000</td>\n",
       "      <td>0.000000</td>\n",
       "      <td>0.412317</td>\n",
       "      <td>0.0</td>\n",
       "      <td>0.158798</td>\n",
       "      <td>0.308842</td>\n",
       "      <td>0.000000</td>\n",
       "      <td>0.000000</td>\n",
       "      <td>0.000000</td>\n",
       "      <td>0.053146</td>\n",
       "      <td>0.000000</td>\n",
       "      <td>0.0</td>\n",
       "      <td>0.00000</td>\n",
       "      <td>0.0</td>\n",
       "      <td>0.000000</td>\n",
       "      <td>0.00000</td>\n",
       "    </tr>\n",
       "    <tr>\n",
       "      <th>31002</th>\n",
       "      <td>0.00000</td>\n",
       "      <td>0.110582</td>\n",
       "      <td>0.012260</td>\n",
       "      <td>0.000000</td>\n",
       "      <td>0.000000</td>\n",
       "      <td>0.650951</td>\n",
       "      <td>0.000000</td>\n",
       "      <td>0.0</td>\n",
       "      <td>0.000000</td>\n",
       "      <td>0.226207</td>\n",
       "      <td>0.000000</td>\n",
       "      <td>0.000000</td>\n",
       "      <td>0.000000</td>\n",
       "      <td>0.000000</td>\n",
       "      <td>0.000000</td>\n",
       "      <td>0.0</td>\n",
       "      <td>0.00000</td>\n",
       "      <td>0.0</td>\n",
       "      <td>0.000000</td>\n",
       "      <td>0.00000</td>\n",
       "    </tr>\n",
       "    <tr>\n",
       "      <th>31003</th>\n",
       "      <td>0.00000</td>\n",
       "      <td>0.000000</td>\n",
       "      <td>0.000000</td>\n",
       "      <td>0.041060</td>\n",
       "      <td>0.162903</td>\n",
       "      <td>0.000000</td>\n",
       "      <td>0.000000</td>\n",
       "      <td>0.0</td>\n",
       "      <td>0.000000</td>\n",
       "      <td>0.000000</td>\n",
       "      <td>0.115529</td>\n",
       "      <td>0.000000</td>\n",
       "      <td>0.593097</td>\n",
       "      <td>0.000000</td>\n",
       "      <td>0.000000</td>\n",
       "      <td>0.0</td>\n",
       "      <td>0.00000</td>\n",
       "      <td>0.0</td>\n",
       "      <td>0.031770</td>\n",
       "      <td>0.05564</td>\n",
       "    </tr>\n",
       "    <tr>\n",
       "      <th>31004</th>\n",
       "      <td>0.08539</td>\n",
       "      <td>0.000000</td>\n",
       "      <td>0.000000</td>\n",
       "      <td>0.064223</td>\n",
       "      <td>0.673979</td>\n",
       "      <td>0.000000</td>\n",
       "      <td>0.000000</td>\n",
       "      <td>0.0</td>\n",
       "      <td>0.000000</td>\n",
       "      <td>0.000000</td>\n",
       "      <td>0.000000</td>\n",
       "      <td>0.045373</td>\n",
       "      <td>0.000000</td>\n",
       "      <td>0.000000</td>\n",
       "      <td>0.107982</td>\n",
       "      <td>0.0</td>\n",
       "      <td>0.00000</td>\n",
       "      <td>0.0</td>\n",
       "      <td>0.023053</td>\n",
       "      <td>0.00000</td>\n",
       "    </tr>\n",
       "  </tbody>\n",
       "</table>\n",
       "</div>"
      ],
      "text/plain": [
       "       topic_0   topic_1   topic_2   topic_3   topic_4   topic_5   topic_6  \\\n",
       "31000  0.00000  0.000000  0.000000  0.000000  0.000000  0.000000  0.209707   \n",
       "31001  0.00000  0.000000  0.066897  0.000000  0.000000  0.000000  0.412317   \n",
       "31002  0.00000  0.110582  0.012260  0.000000  0.000000  0.650951  0.000000   \n",
       "31003  0.00000  0.000000  0.000000  0.041060  0.162903  0.000000  0.000000   \n",
       "31004  0.08539  0.000000  0.000000  0.064223  0.673979  0.000000  0.000000   \n",
       "\n",
       "       topic_7   topic_8   topic_9  topic_10  topic_11  topic_12  topic_13  \\\n",
       "31000      0.0  0.000000  0.000000  0.000000  0.363265  0.000000  0.078808   \n",
       "31001      0.0  0.158798  0.308842  0.000000  0.000000  0.000000  0.053146   \n",
       "31002      0.0  0.000000  0.226207  0.000000  0.000000  0.000000  0.000000   \n",
       "31003      0.0  0.000000  0.000000  0.115529  0.000000  0.593097  0.000000   \n",
       "31004      0.0  0.000000  0.000000  0.000000  0.045373  0.000000  0.000000   \n",
       "\n",
       "       topic_14  topic_15  topic_16  topic_17  topic_18  topic_19  \n",
       "31000  0.000000       0.0   0.34822       0.0  0.000000   0.00000  \n",
       "31001  0.000000       0.0   0.00000       0.0  0.000000   0.00000  \n",
       "31002  0.000000       0.0   0.00000       0.0  0.000000   0.00000  \n",
       "31003  0.000000       0.0   0.00000       0.0  0.031770   0.05564  \n",
       "31004  0.107982       0.0   0.00000       0.0  0.023053   0.00000  "
      ]
     },
     "execution_count": 36,
     "metadata": {},
     "output_type": "execute_result"
    }
   ],
   "source": [
    "theta = best_model.transform(batch_vectorizer=batch_vectorizer)\n",
    "theta = theta.T\n",
    "theta.head()"
   ]
  },
  {
   "cell_type": "code",
   "execution_count": null,
   "metadata": {},
   "outputs": [],
   "source": []
  },
  {
   "cell_type": "markdown",
   "metadata": {},
   "source": [
    "## DataViz"
   ]
  },
  {
   "cell_type": "code",
   "execution_count": 37,
   "metadata": {
    "ExecuteTime": {
     "end_time": "2019-02-03T17:01:43.673475Z",
     "start_time": "2019-02-03T17:01:43.483359Z"
    }
   },
   "outputs": [
    {
     "data": {
      "text/html": [
       "<div>\n",
       "<style scoped>\n",
       "    .dataframe tbody tr th:only-of-type {\n",
       "        vertical-align: middle;\n",
       "    }\n",
       "\n",
       "    .dataframe tbody tr th {\n",
       "        vertical-align: top;\n",
       "    }\n",
       "\n",
       "    .dataframe thead th {\n",
       "        text-align: right;\n",
       "    }\n",
       "</style>\n",
       "<table border=\"1\" class=\"dataframe\">\n",
       "  <thead>\n",
       "    <tr style=\"text-align: right;\">\n",
       "      <th></th>\n",
       "      <th>docID</th>\n",
       "      <th>year</th>\n",
       "      <th>month</th>\n",
       "      <th>topic_0</th>\n",
       "      <th>topic_1</th>\n",
       "      <th>topic_2</th>\n",
       "      <th>topic_3</th>\n",
       "      <th>topic_4</th>\n",
       "      <th>topic_5</th>\n",
       "      <th>topic_6</th>\n",
       "      <th>...</th>\n",
       "      <th>topic_10</th>\n",
       "      <th>topic_11</th>\n",
       "      <th>topic_12</th>\n",
       "      <th>topic_13</th>\n",
       "      <th>topic_14</th>\n",
       "      <th>topic_15</th>\n",
       "      <th>topic_16</th>\n",
       "      <th>topic_17</th>\n",
       "      <th>topic_18</th>\n",
       "      <th>topic_19</th>\n",
       "    </tr>\n",
       "  </thead>\n",
       "  <tbody>\n",
       "    <tr>\n",
       "      <th>0</th>\n",
       "      <td>0</td>\n",
       "      <td>1999</td>\n",
       "      <td>10</td>\n",
       "      <td>0.243972</td>\n",
       "      <td>0.0</td>\n",
       "      <td>0.000000</td>\n",
       "      <td>0.590758</td>\n",
       "      <td>0.000000</td>\n",
       "      <td>0.0</td>\n",
       "      <td>0.16527</td>\n",
       "      <td>...</td>\n",
       "      <td>0.000000</td>\n",
       "      <td>0.000000</td>\n",
       "      <td>0.000000</td>\n",
       "      <td>0.0</td>\n",
       "      <td>0.000000</td>\n",
       "      <td>0.000000</td>\n",
       "      <td>0.000000</td>\n",
       "      <td>0.000000</td>\n",
       "      <td>0.0</td>\n",
       "      <td>0.0</td>\n",
       "    </tr>\n",
       "    <tr>\n",
       "      <th>1</th>\n",
       "      <td>1</td>\n",
       "      <td>1999</td>\n",
       "      <td>10</td>\n",
       "      <td>0.193507</td>\n",
       "      <td>0.0</td>\n",
       "      <td>0.000000</td>\n",
       "      <td>0.000000</td>\n",
       "      <td>0.448284</td>\n",
       "      <td>0.0</td>\n",
       "      <td>0.00000</td>\n",
       "      <td>...</td>\n",
       "      <td>0.000000</td>\n",
       "      <td>0.000000</td>\n",
       "      <td>0.000000</td>\n",
       "      <td>0.0</td>\n",
       "      <td>0.075057</td>\n",
       "      <td>0.028367</td>\n",
       "      <td>0.000000</td>\n",
       "      <td>0.107055</td>\n",
       "      <td>0.0</td>\n",
       "      <td>0.0</td>\n",
       "    </tr>\n",
       "    <tr>\n",
       "      <th>2</th>\n",
       "      <td>2</td>\n",
       "      <td>1999</td>\n",
       "      <td>10</td>\n",
       "      <td>0.342027</td>\n",
       "      <td>0.0</td>\n",
       "      <td>0.061620</td>\n",
       "      <td>0.163303</td>\n",
       "      <td>0.000000</td>\n",
       "      <td>0.0</td>\n",
       "      <td>0.00000</td>\n",
       "      <td>...</td>\n",
       "      <td>0.000000</td>\n",
       "      <td>0.223731</td>\n",
       "      <td>0.000000</td>\n",
       "      <td>0.0</td>\n",
       "      <td>0.000000</td>\n",
       "      <td>0.000000</td>\n",
       "      <td>0.018311</td>\n",
       "      <td>0.191007</td>\n",
       "      <td>0.0</td>\n",
       "      <td>0.0</td>\n",
       "    </tr>\n",
       "    <tr>\n",
       "      <th>3</th>\n",
       "      <td>3</td>\n",
       "      <td>1999</td>\n",
       "      <td>10</td>\n",
       "      <td>0.000000</td>\n",
       "      <td>0.0</td>\n",
       "      <td>0.051585</td>\n",
       "      <td>0.000000</td>\n",
       "      <td>0.079876</td>\n",
       "      <td>0.0</td>\n",
       "      <td>0.00000</td>\n",
       "      <td>...</td>\n",
       "      <td>0.040917</td>\n",
       "      <td>0.056065</td>\n",
       "      <td>0.022915</td>\n",
       "      <td>0.0</td>\n",
       "      <td>0.000000</td>\n",
       "      <td>0.000000</td>\n",
       "      <td>0.000000</td>\n",
       "      <td>0.000000</td>\n",
       "      <td>0.0</td>\n",
       "      <td>0.0</td>\n",
       "    </tr>\n",
       "    <tr>\n",
       "      <th>4</th>\n",
       "      <td>4</td>\n",
       "      <td>1999</td>\n",
       "      <td>10</td>\n",
       "      <td>0.000000</td>\n",
       "      <td>0.0</td>\n",
       "      <td>0.000000</td>\n",
       "      <td>0.255065</td>\n",
       "      <td>0.389863</td>\n",
       "      <td>0.0</td>\n",
       "      <td>0.00000</td>\n",
       "      <td>...</td>\n",
       "      <td>0.355072</td>\n",
       "      <td>0.000000</td>\n",
       "      <td>0.000000</td>\n",
       "      <td>0.0</td>\n",
       "      <td>0.000000</td>\n",
       "      <td>0.000000</td>\n",
       "      <td>0.000000</td>\n",
       "      <td>0.000000</td>\n",
       "      <td>0.0</td>\n",
       "      <td>0.0</td>\n",
       "    </tr>\n",
       "  </tbody>\n",
       "</table>\n",
       "<p>5 rows × 23 columns</p>\n",
       "</div>"
      ],
      "text/plain": [
       "   docID  year  month   topic_0  topic_1   topic_2   topic_3   topic_4  \\\n",
       "0      0  1999     10  0.243972      0.0  0.000000  0.590758  0.000000   \n",
       "1      1  1999     10  0.193507      0.0  0.000000  0.000000  0.448284   \n",
       "2      2  1999     10  0.342027      0.0  0.061620  0.163303  0.000000   \n",
       "3      3  1999     10  0.000000      0.0  0.051585  0.000000  0.079876   \n",
       "4      4  1999     10  0.000000      0.0  0.000000  0.255065  0.389863   \n",
       "\n",
       "   topic_5  topic_6    ...     topic_10  topic_11  topic_12  topic_13  \\\n",
       "0      0.0  0.16527    ...     0.000000  0.000000  0.000000       0.0   \n",
       "1      0.0  0.00000    ...     0.000000  0.000000  0.000000       0.0   \n",
       "2      0.0  0.00000    ...     0.000000  0.223731  0.000000       0.0   \n",
       "3      0.0  0.00000    ...     0.040917  0.056065  0.022915       0.0   \n",
       "4      0.0  0.00000    ...     0.355072  0.000000  0.000000       0.0   \n",
       "\n",
       "   topic_14  topic_15  topic_16  topic_17  topic_18  topic_19  \n",
       "0  0.000000  0.000000  0.000000  0.000000       0.0       0.0  \n",
       "1  0.075057  0.028367  0.000000  0.107055       0.0       0.0  \n",
       "2  0.000000  0.000000  0.018311  0.191007       0.0       0.0  \n",
       "3  0.000000  0.000000  0.000000  0.000000       0.0       0.0  \n",
       "4  0.000000  0.000000  0.000000  0.000000       0.0       0.0  \n",
       "\n",
       "[5 rows x 23 columns]"
      ]
     },
     "execution_count": 37,
     "metadata": {},
     "output_type": "execute_result"
    }
   ],
   "source": [
    "joined = id_date.join(theta)\n",
    "joined.head()"
   ]
  },
  {
   "cell_type": "code",
   "execution_count": 38,
   "metadata": {
    "ExecuteTime": {
     "end_time": "2019-02-03T17:01:46.642198Z",
     "start_time": "2019-02-03T17:01:45.904062Z"
    }
   },
   "outputs": [
    {
     "name": "stdout",
     "output_type": "stream",
     "text": [
      "gb.shape: (227, 20)\n"
     ]
    },
    {
     "data": {
      "text/html": [
       "<div>\n",
       "<style scoped>\n",
       "    .dataframe tbody tr th:only-of-type {\n",
       "        vertical-align: middle;\n",
       "    }\n",
       "\n",
       "    .dataframe tbody tr th {\n",
       "        vertical-align: top;\n",
       "    }\n",
       "\n",
       "    .dataframe thead th {\n",
       "        text-align: right;\n",
       "    }\n",
       "</style>\n",
       "<table border=\"1\" class=\"dataframe\">\n",
       "  <thead>\n",
       "    <tr style=\"text-align: right;\">\n",
       "      <th></th>\n",
       "      <th></th>\n",
       "      <th>topic_0</th>\n",
       "      <th>topic_1</th>\n",
       "      <th>topic_2</th>\n",
       "      <th>topic_3</th>\n",
       "      <th>topic_4</th>\n",
       "      <th>topic_5</th>\n",
       "      <th>topic_6</th>\n",
       "      <th>topic_7</th>\n",
       "      <th>topic_8</th>\n",
       "      <th>topic_9</th>\n",
       "      <th>topic_10</th>\n",
       "      <th>topic_11</th>\n",
       "      <th>topic_12</th>\n",
       "      <th>topic_13</th>\n",
       "      <th>topic_14</th>\n",
       "      <th>topic_15</th>\n",
       "      <th>topic_16</th>\n",
       "      <th>topic_17</th>\n",
       "      <th>topic_18</th>\n",
       "      <th>topic_19</th>\n",
       "    </tr>\n",
       "    <tr>\n",
       "      <th>year</th>\n",
       "      <th>month</th>\n",
       "      <th></th>\n",
       "      <th></th>\n",
       "      <th></th>\n",
       "      <th></th>\n",
       "      <th></th>\n",
       "      <th></th>\n",
       "      <th></th>\n",
       "      <th></th>\n",
       "      <th></th>\n",
       "      <th></th>\n",
       "      <th></th>\n",
       "      <th></th>\n",
       "      <th></th>\n",
       "      <th></th>\n",
       "      <th></th>\n",
       "      <th></th>\n",
       "      <th></th>\n",
       "      <th></th>\n",
       "      <th></th>\n",
       "      <th></th>\n",
       "    </tr>\n",
       "  </thead>\n",
       "  <tbody>\n",
       "    <tr>\n",
       "      <th rowspan=\"4\" valign=\"top\">1999</th>\n",
       "      <th>9</th>\n",
       "      <td>1.533218</td>\n",
       "      <td>2.999784</td>\n",
       "      <td>0.809985</td>\n",
       "      <td>1.262578</td>\n",
       "      <td>5.548168</td>\n",
       "      <td>2.140447</td>\n",
       "      <td>0.368500</td>\n",
       "      <td>3.121680</td>\n",
       "      <td>0.681411</td>\n",
       "      <td>1.680119</td>\n",
       "      <td>2.935788</td>\n",
       "      <td>0.469012</td>\n",
       "      <td>2.444213</td>\n",
       "      <td>0.939702</td>\n",
       "      <td>1.582186</td>\n",
       "      <td>0.960474</td>\n",
       "      <td>0.365542</td>\n",
       "      <td>3.131144</td>\n",
       "      <td>0.493833</td>\n",
       "      <td>0.532216</td>\n",
       "    </tr>\n",
       "    <tr>\n",
       "      <th>10</th>\n",
       "      <td>2.953811</td>\n",
       "      <td>3.563615</td>\n",
       "      <td>0.985246</td>\n",
       "      <td>5.069560</td>\n",
       "      <td>10.395182</td>\n",
       "      <td>1.922721</td>\n",
       "      <td>1.227878</td>\n",
       "      <td>1.543510</td>\n",
       "      <td>1.709624</td>\n",
       "      <td>1.149043</td>\n",
       "      <td>3.092802</td>\n",
       "      <td>1.461485</td>\n",
       "      <td>1.487475</td>\n",
       "      <td>1.573054</td>\n",
       "      <td>1.263756</td>\n",
       "      <td>4.301420</td>\n",
       "      <td>0.468586</td>\n",
       "      <td>3.764941</td>\n",
       "      <td>0.301838</td>\n",
       "      <td>0.764453</td>\n",
       "    </tr>\n",
       "    <tr>\n",
       "      <th>11</th>\n",
       "      <td>3.662245</td>\n",
       "      <td>5.455999</td>\n",
       "      <td>0.865839</td>\n",
       "      <td>3.080917</td>\n",
       "      <td>9.735193</td>\n",
       "      <td>4.332416</td>\n",
       "      <td>1.404121</td>\n",
       "      <td>1.739147</td>\n",
       "      <td>1.786219</td>\n",
       "      <td>2.153288</td>\n",
       "      <td>3.434577</td>\n",
       "      <td>1.332914</td>\n",
       "      <td>2.811229</td>\n",
       "      <td>4.257851</td>\n",
       "      <td>2.716908</td>\n",
       "      <td>4.278861</td>\n",
       "      <td>0.344669</td>\n",
       "      <td>4.357975</td>\n",
       "      <td>2.874685</td>\n",
       "      <td>1.374948</td>\n",
       "    </tr>\n",
       "    <tr>\n",
       "      <th>12</th>\n",
       "      <td>4.395304</td>\n",
       "      <td>3.489382</td>\n",
       "      <td>0.814605</td>\n",
       "      <td>4.927789</td>\n",
       "      <td>10.388089</td>\n",
       "      <td>2.111632</td>\n",
       "      <td>0.726138</td>\n",
       "      <td>3.168561</td>\n",
       "      <td>2.940989</td>\n",
       "      <td>1.999420</td>\n",
       "      <td>3.994606</td>\n",
       "      <td>1.531536</td>\n",
       "      <td>3.371969</td>\n",
       "      <td>1.943325</td>\n",
       "      <td>1.317524</td>\n",
       "      <td>2.282486</td>\n",
       "      <td>0.920436</td>\n",
       "      <td>6.374694</td>\n",
       "      <td>1.266939</td>\n",
       "      <td>1.034575</td>\n",
       "    </tr>\n",
       "    <tr>\n",
       "      <th>2000</th>\n",
       "      <th>1</th>\n",
       "      <td>4.544326</td>\n",
       "      <td>1.841018</td>\n",
       "      <td>1.455181</td>\n",
       "      <td>3.023160</td>\n",
       "      <td>9.896037</td>\n",
       "      <td>2.412318</td>\n",
       "      <td>1.181715</td>\n",
       "      <td>3.733769</td>\n",
       "      <td>3.536169</td>\n",
       "      <td>2.696326</td>\n",
       "      <td>1.795881</td>\n",
       "      <td>2.923205</td>\n",
       "      <td>2.923479</td>\n",
       "      <td>2.013855</td>\n",
       "      <td>2.191576</td>\n",
       "      <td>1.655039</td>\n",
       "      <td>0.356787</td>\n",
       "      <td>8.160008</td>\n",
       "      <td>2.167220</td>\n",
       "      <td>0.492930</td>\n",
       "    </tr>\n",
       "  </tbody>\n",
       "</table>\n",
       "</div>"
      ],
      "text/plain": [
       "             topic_0   topic_1   topic_2   topic_3    topic_4   topic_5  \\\n",
       "year month                                                                \n",
       "1999 9      1.533218  2.999784  0.809985  1.262578   5.548168  2.140447   \n",
       "     10     2.953811  3.563615  0.985246  5.069560  10.395182  1.922721   \n",
       "     11     3.662245  5.455999  0.865839  3.080917   9.735193  4.332416   \n",
       "     12     4.395304  3.489382  0.814605  4.927789  10.388089  2.111632   \n",
       "2000 1      4.544326  1.841018  1.455181  3.023160   9.896037  2.412318   \n",
       "\n",
       "             topic_6   topic_7   topic_8   topic_9  topic_10  topic_11  \\\n",
       "year month                                                               \n",
       "1999 9      0.368500  3.121680  0.681411  1.680119  2.935788  0.469012   \n",
       "     10     1.227878  1.543510  1.709624  1.149043  3.092802  1.461485   \n",
       "     11     1.404121  1.739147  1.786219  2.153288  3.434577  1.332914   \n",
       "     12     0.726138  3.168561  2.940989  1.999420  3.994606  1.531536   \n",
       "2000 1      1.181715  3.733769  3.536169  2.696326  1.795881  2.923205   \n",
       "\n",
       "            topic_12  topic_13  topic_14  topic_15  topic_16  topic_17  \\\n",
       "year month                                                               \n",
       "1999 9      2.444213  0.939702  1.582186  0.960474  0.365542  3.131144   \n",
       "     10     1.487475  1.573054  1.263756  4.301420  0.468586  3.764941   \n",
       "     11     2.811229  4.257851  2.716908  4.278861  0.344669  4.357975   \n",
       "     12     3.371969  1.943325  1.317524  2.282486  0.920436  6.374694   \n",
       "2000 1      2.923479  2.013855  2.191576  1.655039  0.356787  8.160008   \n",
       "\n",
       "            topic_18  topic_19  \n",
       "year month                      \n",
       "1999 9      0.493833  0.532216  \n",
       "     10     0.301838  0.764453  \n",
       "     11     2.874685  1.374948  \n",
       "     12     1.266939  1.034575  \n",
       "2000 1      2.167220  0.492930  "
      ]
     },
     "execution_count": 38,
     "metadata": {},
     "output_type": "execute_result"
    }
   ],
   "source": [
    "topics = ['topic_{}'.format(i) for i in range(select_topics)]\n",
    "gb = joined.groupby(['year', 'month'])[topics].sum()\n",
    "print(f'gb.shape: {gb.shape}')\n",
    "gb.head()"
   ]
  },
  {
   "cell_type": "markdown",
   "metadata": {},
   "source": [
    "### straightforward matrix heatmap"
   ]
  },
  {
   "cell_type": "code",
   "execution_count": 39,
   "metadata": {
    "ExecuteTime": {
     "end_time": "2019-02-03T17:01:52.501289Z",
     "start_time": "2019-02-03T17:01:49.357153Z"
    },
    "scrolled": true
   },
   "outputs": [
    {
     "data": {
      "text/plain": [
       "<matplotlib.image.AxesImage at 0x7f83dc5bc2e8>"
      ]
     },
     "execution_count": 39,
     "metadata": {},
     "output_type": "execute_result"
    },
    {
     "data": {
      "image/png": "[encoded data removed]",
      "text/plain": [
       "<Figure size 720x2880 with 1 Axes>"
      ]
     },
     "metadata": {
      "needs_background": "light"
     },
     "output_type": "display_data"
    }
   ],
   "source": [
    "plt.figure(figsize=(10, 40))\n",
    "plt.imshow(gb[topics])"
   ]
  },
  {
   "cell_type": "code",
   "execution_count": null,
   "metadata": {},
   "outputs": [],
   "source": []
  },
  {
   "cell_type": "markdown",
   "metadata": {},
   "source": [
    "## pygal"
   ]
  },
  {
   "cell_type": "code",
   "execution_count": 40,
   "metadata": {
    "ExecuteTime": {
     "end_time": "2019-02-03T17:01:57.923665Z",
     "start_time": "2019-02-03T17:01:57.373192Z"
    }
   },
   "outputs": [],
   "source": [
    "import pygal\n",
    "from IPython.display import SVG, HTML"
   ]
  },
  {
   "cell_type": "code",
   "execution_count": 41,
   "metadata": {
    "ExecuteTime": {
     "end_time": "2019-02-03T17:02:00.636650Z",
     "start_time": "2019-02-03T17:02:00.622854Z"
    }
   },
   "outputs": [],
   "source": [
    "html_pygal = \"\"\"\n",
    "<!DOCTYPE html>\n",
    "<html>\n",
    "  <head>\n",
    "  <script type=\"text/javascript\" src=\"http://kozea.github.com/pygal.js/javascripts/svg.jquery.js\"></script>\n",
    "  <script type=\"text/javascript\" src=\"http://kozea.github.com/pygal.js/javascripts/pygal-tooltips.js\"></script>\n",
    "    <!-- ... -->\n",
    "  </head>\n",
    "  <body>\n",
    "    <figure>\n",
    "      {pygal_render}\n",
    "    </figure>\n",
    "  </body>\n",
    "</html>\n",
    "\"\"\""
   ]
  },
  {
   "cell_type": "code",
   "execution_count": null,
   "metadata": {
    "ExecuteTime": {
     "end_time": "2019-02-03T17:02:03.405643Z",
     "start_time": "2019-02-03T17:02:02.557451Z"
    },
    "scrolled": false
   },
   "outputs": [],
   "source": [
    "line_chart = pygal.StackedLine(fill=True, show_dots=False)\n",
    "line_chart.title = 'Topics'\n",
    "for topic in topics:\n",
    "    line_chart.add(topic, gb[topic].values)\n",
    "    \n",
    "HTML(html_pygal.format(pygal_render=line_chart.render(is_unicode=True)))"
   ]
  },
  {
   "cell_type": "code",
   "execution_count": 43,
   "metadata": {
    "ExecuteTime": {
     "end_time": "2019-02-03T17:02:06.877536Z",
     "start_time": "2019-02-03T17:02:05.901639Z"
    }
   },
   "outputs": [],
   "source": [
    "line_chart.render_to_file(f\"data/visualization/{'-'.join(name_dataset.split('.'))}_pygal.svg\")"
   ]
  },
  {
   "cell_type": "markdown",
   "metadata": {},
   "source": [
    "## joypy"
   ]
  },
  {
   "cell_type": "code",
   "execution_count": 44,
   "metadata": {
    "ExecuteTime": {
     "end_time": "2019-02-03T17:02:24.152604Z",
     "start_time": "2019-02-03T17:02:24.018432Z"
    }
   },
   "outputs": [],
   "source": [
    "import joypy # !pip install joypy"
   ]
  },
  {
   "cell_type": "code",
   "execution_count": 45,
   "metadata": {
    "ExecuteTime": {
     "end_time": "2019-02-03T17:02:28.605125Z",
     "start_time": "2019-02-03T17:02:27.442018Z"
    },
    "scrolled": true
   },
   "outputs": [
    {
     "name": "stdout",
     "output_type": "stream",
     "text": [
      "(37224, 23)\n"
     ]
    },
    {
     "data": {
      "text/html": [
       "<div>\n",
       "<style scoped>\n",
       "    .dataframe tbody tr th:only-of-type {\n",
       "        vertical-align: middle;\n",
       "    }\n",
       "\n",
       "    .dataframe tbody tr th {\n",
       "        vertical-align: top;\n",
       "    }\n",
       "\n",
       "    .dataframe thead th {\n",
       "        text-align: right;\n",
       "    }\n",
       "</style>\n",
       "<table border=\"1\" class=\"dataframe\">\n",
       "  <thead>\n",
       "    <tr style=\"text-align: right;\">\n",
       "      <th></th>\n",
       "      <th>docID</th>\n",
       "      <th>year</th>\n",
       "      <th>month</th>\n",
       "      <th>topic_0</th>\n",
       "      <th>topic_1</th>\n",
       "      <th>topic_2</th>\n",
       "      <th>topic_3</th>\n",
       "      <th>topic_4</th>\n",
       "      <th>topic_5</th>\n",
       "      <th>topic_6</th>\n",
       "      <th>...</th>\n",
       "      <th>topic_10</th>\n",
       "      <th>topic_11</th>\n",
       "      <th>topic_12</th>\n",
       "      <th>topic_13</th>\n",
       "      <th>topic_14</th>\n",
       "      <th>topic_15</th>\n",
       "      <th>topic_16</th>\n",
       "      <th>topic_17</th>\n",
       "      <th>topic_18</th>\n",
       "      <th>topic_19</th>\n",
       "    </tr>\n",
       "  </thead>\n",
       "  <tbody>\n",
       "    <tr>\n",
       "      <th>0</th>\n",
       "      <td>0</td>\n",
       "      <td>1999</td>\n",
       "      <td>10</td>\n",
       "      <td>0.243972</td>\n",
       "      <td>0.0</td>\n",
       "      <td>0.000000</td>\n",
       "      <td>0.590758</td>\n",
       "      <td>0.000000</td>\n",
       "      <td>0.0</td>\n",
       "      <td>0.16527</td>\n",
       "      <td>...</td>\n",
       "      <td>0.000000</td>\n",
       "      <td>0.000000</td>\n",
       "      <td>0.000000</td>\n",
       "      <td>0.0</td>\n",
       "      <td>0.000000</td>\n",
       "      <td>0.000000</td>\n",
       "      <td>0.000000</td>\n",
       "      <td>0.000000</td>\n",
       "      <td>0.0</td>\n",
       "      <td>0.0</td>\n",
       "    </tr>\n",
       "    <tr>\n",
       "      <th>1</th>\n",
       "      <td>1</td>\n",
       "      <td>1999</td>\n",
       "      <td>10</td>\n",
       "      <td>0.193507</td>\n",
       "      <td>0.0</td>\n",
       "      <td>0.000000</td>\n",
       "      <td>0.000000</td>\n",
       "      <td>0.448284</td>\n",
       "      <td>0.0</td>\n",
       "      <td>0.00000</td>\n",
       "      <td>...</td>\n",
       "      <td>0.000000</td>\n",
       "      <td>0.000000</td>\n",
       "      <td>0.000000</td>\n",
       "      <td>0.0</td>\n",
       "      <td>0.075057</td>\n",
       "      <td>0.028367</td>\n",
       "      <td>0.000000</td>\n",
       "      <td>0.107055</td>\n",
       "      <td>0.0</td>\n",
       "      <td>0.0</td>\n",
       "    </tr>\n",
       "    <tr>\n",
       "      <th>2</th>\n",
       "      <td>2</td>\n",
       "      <td>1999</td>\n",
       "      <td>10</td>\n",
       "      <td>0.342027</td>\n",
       "      <td>0.0</td>\n",
       "      <td>0.061620</td>\n",
       "      <td>0.163303</td>\n",
       "      <td>0.000000</td>\n",
       "      <td>0.0</td>\n",
       "      <td>0.00000</td>\n",
       "      <td>...</td>\n",
       "      <td>0.000000</td>\n",
       "      <td>0.223731</td>\n",
       "      <td>0.000000</td>\n",
       "      <td>0.0</td>\n",
       "      <td>0.000000</td>\n",
       "      <td>0.000000</td>\n",
       "      <td>0.018311</td>\n",
       "      <td>0.191007</td>\n",
       "      <td>0.0</td>\n",
       "      <td>0.0</td>\n",
       "    </tr>\n",
       "    <tr>\n",
       "      <th>3</th>\n",
       "      <td>3</td>\n",
       "      <td>1999</td>\n",
       "      <td>10</td>\n",
       "      <td>0.000000</td>\n",
       "      <td>0.0</td>\n",
       "      <td>0.051585</td>\n",
       "      <td>0.000000</td>\n",
       "      <td>0.079876</td>\n",
       "      <td>0.0</td>\n",
       "      <td>0.00000</td>\n",
       "      <td>...</td>\n",
       "      <td>0.040917</td>\n",
       "      <td>0.056065</td>\n",
       "      <td>0.022915</td>\n",
       "      <td>0.0</td>\n",
       "      <td>0.000000</td>\n",
       "      <td>0.000000</td>\n",
       "      <td>0.000000</td>\n",
       "      <td>0.000000</td>\n",
       "      <td>0.0</td>\n",
       "      <td>0.0</td>\n",
       "    </tr>\n",
       "    <tr>\n",
       "      <th>4</th>\n",
       "      <td>4</td>\n",
       "      <td>1999</td>\n",
       "      <td>10</td>\n",
       "      <td>0.000000</td>\n",
       "      <td>0.0</td>\n",
       "      <td>0.000000</td>\n",
       "      <td>0.255065</td>\n",
       "      <td>0.389863</td>\n",
       "      <td>0.0</td>\n",
       "      <td>0.00000</td>\n",
       "      <td>...</td>\n",
       "      <td>0.355072</td>\n",
       "      <td>0.000000</td>\n",
       "      <td>0.000000</td>\n",
       "      <td>0.0</td>\n",
       "      <td>0.000000</td>\n",
       "      <td>0.000000</td>\n",
       "      <td>0.000000</td>\n",
       "      <td>0.000000</td>\n",
       "      <td>0.0</td>\n",
       "      <td>0.0</td>\n",
       "    </tr>\n",
       "  </tbody>\n",
       "</table>\n",
       "<p>5 rows × 23 columns</p>\n",
       "</div>"
      ],
      "text/plain": [
       "   docID  year  month   topic_0  topic_1   topic_2   topic_3   topic_4  \\\n",
       "0      0  1999     10  0.243972      0.0  0.000000  0.590758  0.000000   \n",
       "1      1  1999     10  0.193507      0.0  0.000000  0.000000  0.448284   \n",
       "2      2  1999     10  0.342027      0.0  0.061620  0.163303  0.000000   \n",
       "3      3  1999     10  0.000000      0.0  0.051585  0.000000  0.079876   \n",
       "4      4  1999     10  0.000000      0.0  0.000000  0.255065  0.389863   \n",
       "\n",
       "   topic_5  topic_6    ...     topic_10  topic_11  topic_12  topic_13  \\\n",
       "0      0.0  0.16527    ...     0.000000  0.000000  0.000000       0.0   \n",
       "1      0.0  0.00000    ...     0.000000  0.000000  0.000000       0.0   \n",
       "2      0.0  0.00000    ...     0.000000  0.223731  0.000000       0.0   \n",
       "3      0.0  0.00000    ...     0.040917  0.056065  0.022915       0.0   \n",
       "4      0.0  0.00000    ...     0.355072  0.000000  0.000000       0.0   \n",
       "\n",
       "   topic_14  topic_15  topic_16  topic_17  topic_18  topic_19  \n",
       "0  0.000000  0.000000  0.000000  0.000000       0.0       0.0  \n",
       "1  0.075057  0.028367  0.000000  0.107055       0.0       0.0  \n",
       "2  0.000000  0.000000  0.018311  0.191007       0.0       0.0  \n",
       "3  0.000000  0.000000  0.000000  0.000000       0.0       0.0  \n",
       "4  0.000000  0.000000  0.000000  0.000000       0.0       0.0  \n",
       "\n",
       "[5 rows x 23 columns]"
      ]
     },
     "execution_count": 45,
     "metadata": {},
     "output_type": "execute_result"
    }
   ],
   "source": [
    "print(joined.shape)\n",
    "joined.head()"
   ]
  },
  {
   "cell_type": "code",
   "execution_count": 46,
   "metadata": {
    "ExecuteTime": {
     "end_time": "2019-02-03T17:02:36.058673Z",
     "start_time": "2019-02-03T17:02:31.562500Z"
    }
   },
   "outputs": [
    {
     "data": {
      "text/html": [
       "<div>\n",
       "<style scoped>\n",
       "    .dataframe tbody tr th:only-of-type {\n",
       "        vertical-align: middle;\n",
       "    }\n",
       "\n",
       "    .dataframe tbody tr th {\n",
       "        vertical-align: top;\n",
       "    }\n",
       "\n",
       "    .dataframe thead th {\n",
       "        text-align: right;\n",
       "    }\n",
       "</style>\n",
       "<table border=\"1\" class=\"dataframe\">\n",
       "  <thead>\n",
       "    <tr style=\"text-align: right;\">\n",
       "      <th></th>\n",
       "      <th>index</th>\n",
       "      <th>docID</th>\n",
       "      <th>year</th>\n",
       "      <th>month</th>\n",
       "      <th>topic_0</th>\n",
       "      <th>topic_1</th>\n",
       "      <th>topic_2</th>\n",
       "      <th>topic_3</th>\n",
       "      <th>topic_4</th>\n",
       "      <th>topic_5</th>\n",
       "      <th>...</th>\n",
       "      <th>topic_11</th>\n",
       "      <th>topic_12</th>\n",
       "      <th>topic_13</th>\n",
       "      <th>topic_14</th>\n",
       "      <th>topic_15</th>\n",
       "      <th>topic_16</th>\n",
       "      <th>topic_17</th>\n",
       "      <th>topic_18</th>\n",
       "      <th>topic_19</th>\n",
       "      <th>year_month</th>\n",
       "    </tr>\n",
       "  </thead>\n",
       "  <tbody>\n",
       "    <tr>\n",
       "      <th>0</th>\n",
       "      <td>0</td>\n",
       "      <td>0</td>\n",
       "      <td>1999</td>\n",
       "      <td>10</td>\n",
       "      <td>0.243972</td>\n",
       "      <td>0.0</td>\n",
       "      <td>0.000000</td>\n",
       "      <td>0.590758</td>\n",
       "      <td>0.000000</td>\n",
       "      <td>0.0</td>\n",
       "      <td>...</td>\n",
       "      <td>0.000000</td>\n",
       "      <td>0.000000</td>\n",
       "      <td>0.0</td>\n",
       "      <td>0.000000</td>\n",
       "      <td>0.000000</td>\n",
       "      <td>0.000000</td>\n",
       "      <td>0.000000</td>\n",
       "      <td>0.0</td>\n",
       "      <td>0.0</td>\n",
       "      <td>1999-10-01</td>\n",
       "    </tr>\n",
       "    <tr>\n",
       "      <th>1</th>\n",
       "      <td>1</td>\n",
       "      <td>1</td>\n",
       "      <td>1999</td>\n",
       "      <td>10</td>\n",
       "      <td>0.193507</td>\n",
       "      <td>0.0</td>\n",
       "      <td>0.000000</td>\n",
       "      <td>0.000000</td>\n",
       "      <td>0.448284</td>\n",
       "      <td>0.0</td>\n",
       "      <td>...</td>\n",
       "      <td>0.000000</td>\n",
       "      <td>0.000000</td>\n",
       "      <td>0.0</td>\n",
       "      <td>0.075057</td>\n",
       "      <td>0.028367</td>\n",
       "      <td>0.000000</td>\n",
       "      <td>0.107055</td>\n",
       "      <td>0.0</td>\n",
       "      <td>0.0</td>\n",
       "      <td>1999-10-01</td>\n",
       "    </tr>\n",
       "    <tr>\n",
       "      <th>2</th>\n",
       "      <td>2</td>\n",
       "      <td>2</td>\n",
       "      <td>1999</td>\n",
       "      <td>10</td>\n",
       "      <td>0.342027</td>\n",
       "      <td>0.0</td>\n",
       "      <td>0.061620</td>\n",
       "      <td>0.163303</td>\n",
       "      <td>0.000000</td>\n",
       "      <td>0.0</td>\n",
       "      <td>...</td>\n",
       "      <td>0.223731</td>\n",
       "      <td>0.000000</td>\n",
       "      <td>0.0</td>\n",
       "      <td>0.000000</td>\n",
       "      <td>0.000000</td>\n",
       "      <td>0.018311</td>\n",
       "      <td>0.191007</td>\n",
       "      <td>0.0</td>\n",
       "      <td>0.0</td>\n",
       "      <td>1999-10-01</td>\n",
       "    </tr>\n",
       "    <tr>\n",
       "      <th>3</th>\n",
       "      <td>3</td>\n",
       "      <td>3</td>\n",
       "      <td>1999</td>\n",
       "      <td>10</td>\n",
       "      <td>0.000000</td>\n",
       "      <td>0.0</td>\n",
       "      <td>0.051585</td>\n",
       "      <td>0.000000</td>\n",
       "      <td>0.079876</td>\n",
       "      <td>0.0</td>\n",
       "      <td>...</td>\n",
       "      <td>0.056065</td>\n",
       "      <td>0.022915</td>\n",
       "      <td>0.0</td>\n",
       "      <td>0.000000</td>\n",
       "      <td>0.000000</td>\n",
       "      <td>0.000000</td>\n",
       "      <td>0.000000</td>\n",
       "      <td>0.0</td>\n",
       "      <td>0.0</td>\n",
       "      <td>1999-10-01</td>\n",
       "    </tr>\n",
       "    <tr>\n",
       "      <th>4</th>\n",
       "      <td>4</td>\n",
       "      <td>4</td>\n",
       "      <td>1999</td>\n",
       "      <td>10</td>\n",
       "      <td>0.000000</td>\n",
       "      <td>0.0</td>\n",
       "      <td>0.000000</td>\n",
       "      <td>0.255065</td>\n",
       "      <td>0.389863</td>\n",
       "      <td>0.0</td>\n",
       "      <td>...</td>\n",
       "      <td>0.000000</td>\n",
       "      <td>0.000000</td>\n",
       "      <td>0.0</td>\n",
       "      <td>0.000000</td>\n",
       "      <td>0.000000</td>\n",
       "      <td>0.000000</td>\n",
       "      <td>0.000000</td>\n",
       "      <td>0.0</td>\n",
       "      <td>0.0</td>\n",
       "      <td>1999-10-01</td>\n",
       "    </tr>\n",
       "  </tbody>\n",
       "</table>\n",
       "<p>5 rows × 25 columns</p>\n",
       "</div>"
      ],
      "text/plain": [
       "   index  docID  year  month   topic_0  topic_1   topic_2   topic_3   topic_4  \\\n",
       "0      0      0  1999     10  0.243972      0.0  0.000000  0.590758  0.000000   \n",
       "1      1      1  1999     10  0.193507      0.0  0.000000  0.000000  0.448284   \n",
       "2      2      2  1999     10  0.342027      0.0  0.061620  0.163303  0.000000   \n",
       "3      3      3  1999     10  0.000000      0.0  0.051585  0.000000  0.079876   \n",
       "4      4      4  1999     10  0.000000      0.0  0.000000  0.255065  0.389863   \n",
       "\n",
       "   topic_5     ...      topic_11  topic_12  topic_13  topic_14  topic_15  \\\n",
       "0      0.0     ...      0.000000  0.000000       0.0  0.000000  0.000000   \n",
       "1      0.0     ...      0.000000  0.000000       0.0  0.075057  0.028367   \n",
       "2      0.0     ...      0.223731  0.000000       0.0  0.000000  0.000000   \n",
       "3      0.0     ...      0.056065  0.022915       0.0  0.000000  0.000000   \n",
       "4      0.0     ...      0.000000  0.000000       0.0  0.000000  0.000000   \n",
       "\n",
       "   topic_16  topic_17  topic_18  topic_19  year_month  \n",
       "0  0.000000  0.000000       0.0       0.0  1999-10-01  \n",
       "1  0.000000  0.107055       0.0       0.0  1999-10-01  \n",
       "2  0.018311  0.191007       0.0       0.0  1999-10-01  \n",
       "3  0.000000  0.000000       0.0       0.0  1999-10-01  \n",
       "4  0.000000  0.000000       0.0       0.0  1999-10-01  \n",
       "\n",
       "[5 rows x 25 columns]"
      ]
     },
     "execution_count": 46,
     "metadata": {},
     "output_type": "execute_result"
    }
   ],
   "source": [
    "joined['year_month'] = joined.apply(lambda x: str(int(x.year)) +'-'+ str(int(x.month)) + '-01', axis=1)\n",
    "joined.reset_index(inplace=True)\n",
    "\n",
    "joined.head()"
   ]
  },
  {
   "cell_type": "code",
   "execution_count": 47,
   "metadata": {
    "ExecuteTime": {
     "end_time": "2019-02-03T17:02:40.119354Z",
     "start_time": "2019-02-03T17:02:39.463890Z"
    }
   },
   "outputs": [
    {
     "name": "stdout",
     "output_type": "stream",
     "text": [
      "(893376, 3)\n"
     ]
    },
    {
     "data": {
      "text/html": [
       "<div>\n",
       "<style scoped>\n",
       "    .dataframe tbody tr th:only-of-type {\n",
       "        vertical-align: middle;\n",
       "    }\n",
       "\n",
       "    .dataframe tbody tr th {\n",
       "        vertical-align: top;\n",
       "    }\n",
       "\n",
       "    .dataframe thead th {\n",
       "        text-align: right;\n",
       "    }\n",
       "</style>\n",
       "<table border=\"1\" class=\"dataframe\">\n",
       "  <thead>\n",
       "    <tr style=\"text-align: right;\">\n",
       "      <th></th>\n",
       "      <th>year_month</th>\n",
       "      <th>topic</th>\n",
       "      <th>text</th>\n",
       "    </tr>\n",
       "  </thead>\n",
       "  <tbody>\n",
       "    <tr>\n",
       "      <th>0</th>\n",
       "      <td>1999-10-01</td>\n",
       "      <td>index</td>\n",
       "      <td>0.0</td>\n",
       "    </tr>\n",
       "    <tr>\n",
       "      <th>1</th>\n",
       "      <td>1999-10-01</td>\n",
       "      <td>index</td>\n",
       "      <td>1.0</td>\n",
       "    </tr>\n",
       "    <tr>\n",
       "      <th>2</th>\n",
       "      <td>1999-10-01</td>\n",
       "      <td>index</td>\n",
       "      <td>2.0</td>\n",
       "    </tr>\n",
       "    <tr>\n",
       "      <th>3</th>\n",
       "      <td>1999-10-01</td>\n",
       "      <td>index</td>\n",
       "      <td>3.0</td>\n",
       "    </tr>\n",
       "    <tr>\n",
       "      <th>4</th>\n",
       "      <td>1999-10-01</td>\n",
       "      <td>index</td>\n",
       "      <td>4.0</td>\n",
       "    </tr>\n",
       "  </tbody>\n",
       "</table>\n",
       "</div>"
      ],
      "text/plain": [
       "   year_month  topic  text\n",
       "0  1999-10-01  index   0.0\n",
       "1  1999-10-01  index   1.0\n",
       "2  1999-10-01  index   2.0\n",
       "3  1999-10-01  index   3.0\n",
       "4  1999-10-01  index   4.0"
      ]
     },
     "execution_count": 47,
     "metadata": {},
     "output_type": "execute_result"
    }
   ],
   "source": [
    "joined_melt = joined.melt('year_month', var_name='topic', value_name='text')\n",
    "print(joined_melt.shape)\n",
    "joined_melt.head()"
   ]
  },
  {
   "cell_type": "code",
   "execution_count": 48,
   "metadata": {
    "ExecuteTime": {
     "end_time": "2019-02-03T17:02:44.419055Z",
     "start_time": "2019-02-03T17:02:42.709120Z"
    },
    "scrolled": true
   },
   "outputs": [
    {
     "name": "stdout",
     "output_type": "stream",
     "text": [
      "(744480, 3)\n"
     ]
    },
    {
     "data": {
      "text/plain": [
       "topic_9     37224\n",
       "topic_6     37224\n",
       "topic_19    37224\n",
       "topic_2     37224\n",
       "topic_11    37224\n",
       "topic_4     37224\n",
       "topic_18    37224\n",
       "topic_10    37224\n",
       "topic_17    37224\n",
       "topic_15    37224\n",
       "topic_8     37224\n",
       "topic_0     37224\n",
       "topic_3     37224\n",
       "topic_7     37224\n",
       "topic_14    37224\n",
       "topic_5     37224\n",
       "topic_12    37224\n",
       "topic_16    37224\n",
       "topic_13    37224\n",
       "topic_1     37224\n",
       "Name: topic, dtype: int64"
      ]
     },
     "execution_count": 48,
     "metadata": {},
     "output_type": "execute_result"
    }
   ],
   "source": [
    "# select only topic_*\n",
    "joined_melt_new = joined_melt[(joined_melt.topic!='docID') & (joined_melt.topic!='index')\n",
    "                              & (joined_melt.topic!='year') & (joined_melt.topic!='month')]\n",
    "print(joined_melt_new.shape)\n",
    "joined_melt_new.topic.value_counts()"
   ]
  },
  {
   "cell_type": "code",
   "execution_count": 49,
   "metadata": {
    "ExecuteTime": {
     "end_time": "2019-02-03T17:03:10.314285Z",
     "start_time": "2019-02-03T17:02:46.933982Z"
    }
   },
   "outputs": [
    {
     "data": {
      "image/png": "[encoded data removed]",
      "text/plain": [
       "<Figure size 1440x720 with 21 Axes>"
      ]
     },
     "metadata": {
      "needs_background": "light"
     },
     "output_type": "display_data"
    }
   ],
   "source": [
    "labels = sorted(joined_melt_new['year_month'].unique())\n",
    "\n",
    "fig, axes = joypy.joyplot(joined_melt_new, by='topic', column='text', figsize=(20, 10),xlabelsize=20,ylabelsize=20,\n",
    "                          overlap=0.4, fill=True, linecolor=\"k\", linewidth=2,\n",
    "                          kind='values', fade=True, xrot=90, x_range=[i for i in range(len(labels))],\n",
    "                          background='white');\n",
    "\n",
    "ticks_labels = {i:t for i, t in enumerate(labels)}\n",
    "axes[-1].set_xticks([k for k, v in ticks_labels.items() if k % 6 == 0])\n",
    "ticks = axes[-1].get_xticks()\n",
    "axes[-1].set_xticklabels([ticks_labels.get(i, 'stop') for i in ticks]);"
   ]
  },
  {
   "cell_type": "code",
   "execution_count": 50,
   "metadata": {
    "ExecuteTime": {
     "end_time": "2019-02-03T17:03:17.467303Z",
     "start_time": "2019-02-03T17:03:12.404218Z"
    }
   },
   "outputs": [],
   "source": [
    "fig.savefig(f\"data/visualization/{'-'.join(name_dataset.split('.'))}_joypy\")"
   ]
  },
  {
   "cell_type": "code",
   "execution_count": null,
   "metadata": {},
   "outputs": [],
   "source": []
  }
 ],
 "metadata": {
  "kernelspec": {
   "display_name": "Python 3",
   "language": "python",
   "name": "python3"
  },
  "language_info": {
   "codemirror_mode": {
    "name": "ipython",
    "version": 3
   },
   "file_extension": ".py",
   "mimetype": "text/x-python",
   "name": "python",
   "nbconvert_exporter": "python",
   "pygments_lexer": "ipython3",
   "version": "3.6.7"
  },
  "varInspector": {
   "cols": {
    "lenName": 16,
    "lenType": 16,
    "lenVar": 40
   },
   "kernels_config": {
    "python": {
     "delete_cmd_postfix": "",
     "delete_cmd_prefix": "del ",
     "library": "var_list.py",
     "varRefreshCmd": "print(var_dic_list())"
    },
    "r": {
     "delete_cmd_postfix": ") ",
     "delete_cmd_prefix": "rm(",
     "library": "var_list.r",
     "varRefreshCmd": "cat(var_dic_list()) "
    }
   },
   "types_to_exclude": [
    "module",
    "function",
    "builtin_function_or_method",
    "instance",
    "_Feature"
   ],
   "window_display": false
  }
 },
 "nbformat": 4,
 "nbformat_minor": 2
}
