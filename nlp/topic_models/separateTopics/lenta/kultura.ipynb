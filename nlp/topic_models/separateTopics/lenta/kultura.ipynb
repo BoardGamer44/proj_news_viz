{
 "cells": [
  {
   "cell_type": "code",
   "execution_count": 1,
   "metadata": {
    "ExecuteTime": {
     "end_time": "2019-03-12T22:57:27.263096Z",
     "start_time": "2019-03-12T22:57:26.321543Z"
    }
   },
   "outputs": [
    {
     "name": "stderr",
     "output_type": "stream",
     "text": [
      "/home/vtrokhymenko/proj_news_viz/env4news/lib/python3.6/site-packages/scipy/sparse/sparsetools.py:21: DeprecationWarning: `scipy.sparse.sparsetools` is deprecated!\n",
      "scipy.sparse.sparsetools is a private module for scipy.sparse, and should not be used.\n",
      "  _deprecated()\n"
     ]
    }
   ],
   "source": [
    "import numpy as np\n",
    "import pandas as pd\n",
    "import os\n",
    "\n",
    "import re\n",
    "from datetime import datetime as time\n",
    "from ast import literal_eval\n",
    "from sklearn.model_selection import train_test_split\n",
    "\n",
    "import artm\n",
    "from gensim.models import Phrases\n",
    "from gensim.models.phrases import Phraser\n",
    "\n",
    "import gc\n",
    "import matplotlib.pyplot as plt\n",
    "%matplotlib inline"
   ]
  },
  {
   "cell_type": "code",
   "execution_count": 2,
   "metadata": {
    "ExecuteTime": {
     "end_time": "2019-02-03T13:25:13.609779Z",
     "start_time": "2019-02-03T13:25:13.488786Z"
    },
    "scrolled": true
   },
   "outputs": [
    {
     "name": "stdout",
     "output_type": "stream",
     "text": [
      "-rw-rw-r-- 1 vtrokhymenko vtrokhymenko 491K Jan 15 18:18 data/69-.paralel.csv.bz2\r\n",
      "-rw-rw-r-- 1 vtrokhymenko vtrokhymenko  48M Jan 15 18:21 data/Russia.csv.bz2\r\n",
      "-rw-rw-r-- 1 vtrokhymenko vtrokhymenko  12M Jan 15 18:21 data/Sil_struktur.csv.bz2\r\n",
      "-rw-rw-r-- 1 vtrokhymenko vtrokhymenko  44K Jan 15 18:19 data/biblioteka.csv.bz2\r\n",
      "-rw-rw-r-- 1 vtrokhymenko vtrokhymenko  25M Jan 15 18:19 data/bivs.SSR.csv.bz2\r\n",
      "-rw-rw-r-- 1 vtrokhymenko vtrokhymenko 6.1M Jan 15 18:18 data/biznes.csv.bz2\r\n",
      "-rw-rw-r-- 1 vtrokhymenko vtrokhymenko 2.9M Jan 15 18:21 data/cennosti.csv.bz2\r\n",
      "-rw-rw-r-- 1 vtrokhymenko vtrokhymenko  28M Jan 15 18:21 data/economic.csv.bz2\r\n",
      "-rw-rw-r-- 1 vtrokhymenko vtrokhymenko  16M Jan 15 18:19 data/internet.i.smi.csv.bz2\r\n",
      "-rw-rw-r-- 1 vtrokhymenko vtrokhymenko 8.6M Jan 15 18:18 data/iz.jizni.csv.bz2\r\n",
      "-rw-rw-r-- 1 vtrokhymenko vtrokhymenko 125K Jan 15 18:18 data/kultprosvet.csv.bz2\r\n",
      "-rw-rw-r-- 1 vtrokhymenko vtrokhymenko  20M Jan 15 18:18 data/kultura.csv.bz2\r\n",
      "-rw-rw-r-- 1 vtrokhymenko vtrokhymenko  65K Jan 15 18:20 data/legprom.csv.bz2\r\n",
      "-rw-rw-r-- 1 vtrokhymenko vtrokhymenko  56M Jan 16 02:07 data/mir.csv.bz2\r\n",
      "-rw-rw-r-- 1 vtrokhymenko vtrokhymenko  24M Jan 15 18:21 data/naula.i.tehn.csv.bz2\r\n",
      "-rw-rw-r-- 1 vtrokhymenko vtrokhymenko 2.4K Jan 15 18:20 data/orujie.csv.bz2\r\n",
      "-rw-rw-r-- 1 vtrokhymenko vtrokhymenko 3.0M Jan 15 18:21 data/puteshestvi.csv.bz2\r\n",
      "-rw-rw-r-- 1 vtrokhymenko vtrokhymenko  19M Jan 15 18:20 data/sport.csv.bz2\r\n"
     ]
    }
   ],
   "source": [
    "!ls -lah data/*.csv.bz2"
   ]
  },
  {
   "cell_type": "code",
   "execution_count": 2,
   "metadata": {
    "ExecuteTime": {
     "end_time": "2019-03-12T22:57:29.202111Z",
     "start_time": "2019-03-12T22:57:29.199056Z"
    }
   },
   "outputs": [],
   "source": [
    "name_dataset = 'kultura'"
   ]
  },
  {
   "cell_type": "markdown",
   "metadata": {},
   "source": [
    "### load data"
   ]
  },
  {
   "cell_type": "code",
   "execution_count": 3,
   "metadata": {
    "ExecuteTime": {
     "end_time": "2019-03-12T22:57:37.470709Z",
     "start_time": "2019-03-12T22:57:31.353090Z"
    }
   },
   "outputs": [
    {
     "name": "stdout",
     "output_type": "stream",
     "text": [
      "(51107, 7)\n",
      "CPU times: user 5.96 s, sys: 143 ms, total: 6.1 s\n",
      "Wall time: 6.11 s\n"
     ]
    }
   ],
   "source": [
    "%%time\n",
    "df = pd.read_csv(f'data/{name_dataset}.csv.bz2')\n",
    "print(df.shape)"
   ]
  },
  {
   "cell_type": "code",
   "execution_count": 4,
   "metadata": {
    "ExecuteTime": {
     "end_time": "2019-03-12T22:57:37.556583Z",
     "start_time": "2019-03-12T22:57:37.518775Z"
    }
   },
   "outputs": [
    {
     "data": {
      "text/html": [
       "<div>\n",
       "<style scoped>\n",
       "    .dataframe tbody tr th:only-of-type {\n",
       "        vertical-align: middle;\n",
       "    }\n",
       "\n",
       "    .dataframe tbody tr th {\n",
       "        vertical-align: top;\n",
       "    }\n",
       "\n",
       "    .dataframe thead th {\n",
       "        text-align: right;\n",
       "    }\n",
       "</style>\n",
       "<table border=\"1\" class=\"dataframe\">\n",
       "  <thead>\n",
       "    <tr style=\"text-align: right;\">\n",
       "      <th></th>\n",
       "      <th>1914-lenta/</th>\n",
       "      <th>url</th>\n",
       "      <th>edition</th>\n",
       "      <th>topics</th>\n",
       "      <th>title</th>\n",
       "      <th>text</th>\n",
       "      <th>topic</th>\n",
       "    </tr>\n",
       "  </thead>\n",
       "  <tbody>\n",
       "    <tr>\n",
       "      <th>0</th>\n",
       "      <td>1999-10-01 12:00:00</td>\n",
       "      <td>https://lenta.ru/news/1999/10/01/gmn/</td>\n",
       "      <td>NaN</td>\n",
       "      <td>Мир</td>\n",
       "      <td>Плачидо Доминго стал арт-директором музыкально...</td>\n",
       "      <td>Всемирно известный итальянский тенор Плачидо Д...</td>\n",
       "      <td>Культура</td>\n",
       "    </tr>\n",
       "    <tr>\n",
       "      <th>1</th>\n",
       "      <td>1999-10-07 12:00:00</td>\n",
       "      <td>https://lenta.ru/news/1999/10/07/bulgakov/</td>\n",
       "      <td>NaN</td>\n",
       "      <td>Россия</td>\n",
       "      <td>Академия художеств выбирает проект памятника Б...</td>\n",
       "      <td>В Москве на Патриарших прудах будет установлен...</td>\n",
       "      <td>Культура</td>\n",
       "    </tr>\n",
       "  </tbody>\n",
       "</table>\n",
       "</div>"
      ],
      "text/plain": [
       "           1914-lenta/                                         url  edition  \\\n",
       "0  1999-10-01 12:00:00       https://lenta.ru/news/1999/10/01/gmn/      NaN   \n",
       "1  1999-10-07 12:00:00  https://lenta.ru/news/1999/10/07/bulgakov/      NaN   \n",
       "\n",
       "   topics                                              title  \\\n",
       "0     Мир  Плачидо Доминго стал арт-директором музыкально...   \n",
       "1  Россия  Академия художеств выбирает проект памятника Б...   \n",
       "\n",
       "                                                text     topic  \n",
       "0  Всемирно известный итальянский тенор Плачидо Д...  Культура  \n",
       "1  В Москве на Патриарших прудах будет установлен...  Культура  "
      ]
     },
     "execution_count": 4,
     "metadata": {},
     "output_type": "execute_result"
    }
   ],
   "source": [
    "df = df[df.text!='text']\n",
    "df.head(2)"
   ]
  },
  {
   "cell_type": "markdown",
   "metadata": {},
   "source": [
    "### preprocess"
   ]
  },
  {
   "cell_type": "markdown",
   "metadata": {},
   "source": [
    "* get dates"
   ]
  },
  {
   "cell_type": "code",
   "execution_count": 5,
   "metadata": {
    "ExecuteTime": {
     "end_time": "2019-03-12T22:57:40.381076Z",
     "start_time": "2019-03-12T22:57:40.136321Z"
    }
   },
   "outputs": [
    {
     "name": "stderr",
     "output_type": "stream",
     "text": [
      "<unknown>:2: DeprecationWarning: invalid escape sequence \\d\n"
     ]
    },
    {
     "name": "stdout",
     "output_type": "stream",
     "text": [
      "CPU times: user 237 ms, sys: 4.74 ms, total: 242 ms\n",
      "Wall time: 241 ms\n"
     ]
    }
   ],
   "source": [
    "%%time\n",
    "\n",
    "df['date_raw'] = df['url'].apply(re.compile('(\\d{4})/(\\d{2})/(\\d{2})').findall)\n",
    "\n",
    "df['year'] = df['date_raw'].apply(lambda x: int(x[0][0]))\n",
    "df['month'] = df['date_raw'].apply(lambda x: int(x[0][1]))"
   ]
  },
  {
   "cell_type": "markdown",
   "metadata": {},
   "source": [
    "* clean text"
   ]
  },
  {
   "cell_type": "code",
   "execution_count": 6,
   "metadata": {
    "ExecuteTime": {
     "end_time": "2019-03-12T22:57:42.507041Z",
     "start_time": "2019-03-12T22:57:42.447651Z"
    }
   },
   "outputs": [],
   "source": [
    "import preprocessing_tools as pr"
   ]
  },
  {
   "cell_type": "code",
   "execution_count": 7,
   "metadata": {
    "ExecuteTime": {
     "end_time": "2019-03-12T22:57:50.585872Z",
     "start_time": "2019-03-12T22:57:42.895975Z"
    }
   },
   "outputs": [
    {
     "name": "stdout",
     "output_type": "stream",
     "text": [
      "CPU times: user 7.62 s, sys: 66.2 ms, total: 7.69 s\n",
      "Wall time: 7.69 s\n"
     ]
    }
   ],
   "source": [
    "%%time\n",
    "df.text = df.text.apply(pr.clean_text)"
   ]
  },
  {
   "cell_type": "code",
   "execution_count": 8,
   "metadata": {
    "ExecuteTime": {
     "end_time": "2019-03-12T22:57:50.658932Z",
     "start_time": "2019-03-12T22:57:50.647047Z"
    }
   },
   "outputs": [
    {
     "data": {
      "text/html": [
       "<div>\n",
       "<style scoped>\n",
       "    .dataframe tbody tr th:only-of-type {\n",
       "        vertical-align: middle;\n",
       "    }\n",
       "\n",
       "    .dataframe tbody tr th {\n",
       "        vertical-align: top;\n",
       "    }\n",
       "\n",
       "    .dataframe thead th {\n",
       "        text-align: right;\n",
       "    }\n",
       "</style>\n",
       "<table border=\"1\" class=\"dataframe\">\n",
       "  <thead>\n",
       "    <tr style=\"text-align: right;\">\n",
       "      <th></th>\n",
       "      <th>1914-lenta/</th>\n",
       "      <th>url</th>\n",
       "      <th>edition</th>\n",
       "      <th>topics</th>\n",
       "      <th>title</th>\n",
       "      <th>text</th>\n",
       "      <th>topic</th>\n",
       "      <th>date_raw</th>\n",
       "      <th>year</th>\n",
       "      <th>month</th>\n",
       "    </tr>\n",
       "  </thead>\n",
       "  <tbody>\n",
       "    <tr>\n",
       "      <th>0</th>\n",
       "      <td>1999-10-01 12:00:00</td>\n",
       "      <td>https://lenta.ru/news/1999/10/01/gmn/</td>\n",
       "      <td>NaN</td>\n",
       "      <td>Мир</td>\n",
       "      <td>Плачидо Доминго стал арт-директором музыкально...</td>\n",
       "      <td>всемирно известный итальянский тенор плачидо д...</td>\n",
       "      <td>Культура</td>\n",
       "      <td>[(1999, 10, 01)]</td>\n",
       "      <td>1999</td>\n",
       "      <td>10</td>\n",
       "    </tr>\n",
       "    <tr>\n",
       "      <th>1</th>\n",
       "      <td>1999-10-07 12:00:00</td>\n",
       "      <td>https://lenta.ru/news/1999/10/07/bulgakov/</td>\n",
       "      <td>NaN</td>\n",
       "      <td>Россия</td>\n",
       "      <td>Академия художеств выбирает проект памятника Б...</td>\n",
       "      <td>в москве на патриарших прудах будет установлен...</td>\n",
       "      <td>Культура</td>\n",
       "      <td>[(1999, 10, 07)]</td>\n",
       "      <td>1999</td>\n",
       "      <td>10</td>\n",
       "    </tr>\n",
       "  </tbody>\n",
       "</table>\n",
       "</div>"
      ],
      "text/plain": [
       "           1914-lenta/                                         url  edition  \\\n",
       "0  1999-10-01 12:00:00       https://lenta.ru/news/1999/10/01/gmn/      NaN   \n",
       "1  1999-10-07 12:00:00  https://lenta.ru/news/1999/10/07/bulgakov/      NaN   \n",
       "\n",
       "   topics                                              title  \\\n",
       "0     Мир  Плачидо Доминго стал арт-директором музыкально...   \n",
       "1  Россия  Академия художеств выбирает проект памятника Б...   \n",
       "\n",
       "                                                text     topic  \\\n",
       "0  всемирно известный итальянский тенор плачидо д...  Культура   \n",
       "1  в москве на патриарших прудах будет установлен...  Культура   \n",
       "\n",
       "           date_raw  year  month  \n",
       "0  [(1999, 10, 01)]  1999     10  \n",
       "1  [(1999, 10, 07)]  1999     10  "
      ]
     },
     "execution_count": 8,
     "metadata": {},
     "output_type": "execute_result"
    }
   ],
   "source": [
    "df.head(2)"
   ]
  },
  {
   "cell_type": "markdown",
   "metadata": {},
   "source": [
    "* cleanedNames"
   ]
  },
  {
   "cell_type": "code",
   "execution_count": 9,
   "metadata": {
    "ExecuteTime": {
     "end_time": "2019-03-12T22:57:50.854204Z",
     "start_time": "2019-03-12T22:57:50.718486Z"
    }
   },
   "outputs": [],
   "source": [
    "from cleanedNames import KeyProc\n",
    "cn = KeyProc()"
   ]
  },
  {
   "cell_type": "code",
   "execution_count": 10,
   "metadata": {
    "ExecuteTime": {
     "end_time": "2019-03-12T22:59:01.653947Z",
     "start_time": "2019-03-12T22:57:50.913773Z"
    }
   },
   "outputs": [
    {
     "name": "stdout",
     "output_type": "stream",
     "text": [
      "CPU times: user 1min 10s, sys: 32.3 ms, total: 1min 10s\n",
      "Wall time: 1min 10s\n"
     ]
    }
   ],
   "source": [
    "%%time\n",
    "df.text = df.text.apply(cn.replaceKeywords)"
   ]
  },
  {
   "cell_type": "markdown",
   "metadata": {},
   "source": [
    "* lemmatization"
   ]
  },
  {
   "cell_type": "code",
   "execution_count": 11,
   "metadata": {
    "ExecuteTime": {
     "end_time": "2019-03-12T23:01:26.912683Z",
     "start_time": "2019-03-12T22:59:01.708785Z"
    }
   },
   "outputs": [
    {
     "name": "stdout",
     "output_type": "stream",
     "text": [
      "CPU times: user 2min 25s, sys: 190 ms, total: 2min 25s\n",
      "Wall time: 2min 25s\n"
     ]
    }
   ],
   "source": [
    "%%time\n",
    "df['lemmatized_text'] = df.text.apply(pr.lemmatization)"
   ]
  },
  {
   "cell_type": "code",
   "execution_count": null,
   "metadata": {},
   "outputs": [],
   "source": []
  },
  {
   "cell_type": "markdown",
   "metadata": {},
   "source": [
    "* add docID"
   ]
  },
  {
   "cell_type": "code",
   "execution_count": 12,
   "metadata": {
    "ExecuteTime": {
     "end_time": "2019-03-12T23:01:54.466683Z",
     "start_time": "2019-03-12T23:01:54.449387Z"
    }
   },
   "outputs": [],
   "source": [
    "df['docID'] = list(range(df.shape[0]))"
   ]
  },
  {
   "cell_type": "code",
   "execution_count": 13,
   "metadata": {
    "ExecuteTime": {
     "end_time": "2019-03-12T23:01:54.659998Z",
     "start_time": "2019-03-12T23:01:54.626112Z"
    }
   },
   "outputs": [
    {
     "data": {
      "text/html": [
       "<div>\n",
       "<style scoped>\n",
       "    .dataframe tbody tr th:only-of-type {\n",
       "        vertical-align: middle;\n",
       "    }\n",
       "\n",
       "    .dataframe tbody tr th {\n",
       "        vertical-align: top;\n",
       "    }\n",
       "\n",
       "    .dataframe thead th {\n",
       "        text-align: right;\n",
       "    }\n",
       "</style>\n",
       "<table border=\"1\" class=\"dataframe\">\n",
       "  <thead>\n",
       "    <tr style=\"text-align: right;\">\n",
       "      <th></th>\n",
       "      <th>docID</th>\n",
       "      <th>year</th>\n",
       "      <th>month</th>\n",
       "      <th>lemmatized_text</th>\n",
       "    </tr>\n",
       "  </thead>\n",
       "  <tbody>\n",
       "    <tr>\n",
       "      <th>0</th>\n",
       "      <td>0</td>\n",
       "      <td>1999</td>\n",
       "      <td>10</td>\n",
       "      <td>[всемирно, известный, итальянский, тенор, плач...</td>\n",
       "    </tr>\n",
       "    <tr>\n",
       "      <th>1</th>\n",
       "      <td>1</td>\n",
       "      <td>1999</td>\n",
       "      <td>10</td>\n",
       "      <td>[москва, патриарший, пруд, установленный, памя...</td>\n",
       "    </tr>\n",
       "  </tbody>\n",
       "</table>\n",
       "</div>"
      ],
      "text/plain": [
       "   docID  year  month                                    lemmatized_text\n",
       "0      0  1999     10  [всемирно, известный, итальянский, тенор, плач...\n",
       "1      1  1999     10  [москва, патриарший, пруд, установленный, памя..."
      ]
     },
     "execution_count": 13,
     "metadata": {},
     "output_type": "execute_result"
    }
   ],
   "source": [
    "df = df[['docID','year','month','lemmatized_text']]\n",
    "df.head(2)"
   ]
  },
  {
   "cell_type": "code",
   "execution_count": 14,
   "metadata": {
    "ExecuteTime": {
     "end_time": "2019-03-12T23:01:55.182806Z",
     "start_time": "2019-03-12T23:01:55.169429Z"
    }
   },
   "outputs": [
    {
     "name": "stdout",
     "output_type": "stream",
     "text": [
      "(51107, 4)\n"
     ]
    },
    {
     "data": {
      "text/plain": [
       "docID              0\n",
       "year               0\n",
       "month              0\n",
       "lemmatized_text    0\n",
       "dtype: int64"
      ]
     },
     "execution_count": 14,
     "metadata": {},
     "output_type": "execute_result"
    }
   ],
   "source": [
    "print(df.shape)\n",
    "df.isnull().sum()"
   ]
  },
  {
   "cell_type": "code",
   "execution_count": 15,
   "metadata": {
    "ExecuteTime": {
     "end_time": "2019-03-12T23:01:55.465580Z",
     "start_time": "2019-03-12T23:01:55.461755Z"
    }
   },
   "outputs": [
    {
     "data": {
      "text/plain": [
       "1999"
      ]
     },
     "execution_count": 15,
     "metadata": {},
     "output_type": "execute_result"
    }
   ],
   "source": [
    "df.year.min()"
   ]
  },
  {
   "cell_type": "code",
   "execution_count": null,
   "metadata": {},
   "outputs": [],
   "source": []
  },
  {
   "cell_type": "markdown",
   "metadata": {},
   "source": [
    "## model"
   ]
  },
  {
   "cell_type": "markdown",
   "metadata": {},
   "source": [
    "* prepare"
   ]
  },
  {
   "cell_type": "code",
   "execution_count": 16,
   "metadata": {
    "ExecuteTime": {
     "end_time": "2019-03-12T23:01:59.568775Z",
     "start_time": "2019-03-12T23:01:58.939936Z"
    }
   },
   "outputs": [
    {
     "name": "stdout",
     "output_type": "stream",
     "text": [
      "CPU times: user 548 ms, sys: 64 ms, total: 612 ms\n",
      "Wall time: 625 ms\n"
     ]
    }
   ],
   "source": [
    "%%time\n",
    "\n",
    "vwpath = f'data/vwpath/{name_dataset}_input_bigartm.vw'\n",
    "\n",
    "with open(vwpath, 'w') as fp:\n",
    "    for text, did in df[['lemmatized_text', 'docID']].values:\n",
    "        fp.write('{} | {}\\n'.format(did, ' '.join(text)))"
   ]
  },
  {
   "cell_type": "code",
   "execution_count": 17,
   "metadata": {
    "ExecuteTime": {
     "end_time": "2019-03-12T23:01:59.637976Z",
     "start_time": "2019-03-12T23:01:59.634244Z"
    }
   },
   "outputs": [],
   "source": [
    "id_date = df[['docID', 'year', 'month']].copy()"
   ]
  },
  {
   "cell_type": "markdown",
   "metadata": {},
   "source": [
    "* collect batchs and collect the dictionary"
   ]
  },
  {
   "cell_type": "code",
   "execution_count": 18,
   "metadata": {
    "ExecuteTime": {
     "end_time": "2019-03-12T23:02:09.590016Z",
     "start_time": "2019-03-12T23:02:02.400047Z"
    }
   },
   "outputs": [
    {
     "name": "stdout",
     "output_type": "stream",
     "text": [
      "artm.BatchVectorizer(data_path=\"data/batches/kultura\", num_batches=52)\n",
      "CPU times: user 25.9 s, sys: 850 ms, total: 26.7 s\n",
      "Wall time: 7.19 s\n"
     ]
    }
   ],
   "source": [
    "%%time\n",
    "\n",
    "batches_path = f'data/batches/{name_dataset}'\n",
    "\n",
    "if not os.path.exists(batches_path):\n",
    "    print('create folder...\\n')\n",
    "    os.makedirs(batches_path)\n",
    "    \n",
    "batch_vectorizer = artm.BatchVectorizer(data_path=vwpath,\n",
    "                                        data_format='vowpal_wabbit',\n",
    "                                        target_folder=batches_path)\n",
    "\n",
    "print(batch_vectorizer)"
   ]
  },
  {
   "cell_type": "code",
   "execution_count": 19,
   "metadata": {
    "ExecuteTime": {
     "end_time": "2019-03-12T23:02:12.051689Z",
     "start_time": "2019-03-12T23:02:09.670514Z"
    }
   },
   "outputs": [],
   "source": [
    "dictionary = artm.Dictionary()\n",
    "dictionary.gather(data_path=batches_path)"
   ]
  },
  {
   "cell_type": "code",
   "execution_count": 20,
   "metadata": {
    "ExecuteTime": {
     "end_time": "2019-03-12T23:02:12.229885Z",
     "start_time": "2019-03-12T23:02:12.133180Z"
    }
   },
   "outputs": [
    {
     "data": {
      "text/plain": [
       "artm.Dictionary(name=63abd20c-88fe-4f70-b830-97ce9607b59d, num_entries=30728)"
      ]
     },
     "execution_count": 20,
     "metadata": {},
     "output_type": "execute_result"
    }
   ],
   "source": [
    "dictionary.filter(min_tf=10, max_df_rate=0.1) #int(4.5e5)"
   ]
  },
  {
   "cell_type": "code",
   "execution_count": 22,
   "metadata": {
    "ExecuteTime": {
     "end_time": "2019-02-03T13:30:31.361883Z",
     "start_time": "2019-02-03T13:30:31.150604Z"
    }
   },
   "outputs": [],
   "source": [
    "dictionary.save_text(f'data/dicts/dict_{name_dataset}.txt')"
   ]
  },
  {
   "cell_type": "code",
   "execution_count": null,
   "metadata": {},
   "outputs": [],
   "source": []
  },
  {
   "cell_type": "markdown",
   "metadata": {},
   "source": [
    "## pick up amount topics"
   ]
  },
  {
   "cell_type": "code",
   "execution_count": 23,
   "metadata": {
    "ExecuteTime": {
     "end_time": "2019-02-03T14:03:25.664346Z",
     "start_time": "2019-02-03T13:30:33.247860Z"
    },
    "scrolled": true
   },
   "outputs": [
    {
     "name": "stdout",
     "output_type": "stream",
     "text": [
      "#topic 2.........\n",
      "\tSparsityThetaScore: 0.14731837809085846\n",
      "\tSparsityPhiScore: 0.2664761543273926\n",
      "\tPerplexityScore: 6182.146484375\n",
      "\ttime: 0:01:09.303620\n",
      "#topic 3.........\n",
      "\tSparsityThetaScore: 0.27503734827041626\n",
      "\tSparsityPhiScore: 0.4008632302284241\n",
      "\tPerplexityScore: 5355.8515625\n",
      "\ttime: 0:01:16.564247\n",
      "#topic 4.........\n",
      "\tSparsityThetaScore: 0.38498640060424805\n",
      "\tSparsityPhiScore: 0.47225451469421387\n",
      "\tPerplexityScore: 4843.9306640625\n",
      "\ttime: 0:01:20.001234\n",
      "#topic 5.........\n",
      "\tSparsityThetaScore: 0.44984835386276245\n",
      "\tSparsityPhiScore: 0.5142045021057129\n",
      "\tPerplexityScore: 4565.5927734375\n",
      "\ttime: 0:01:23.815186\n",
      "#topic 6.........\n",
      "\tSparsityThetaScore: 0.49802374839782715\n",
      "\tSparsityPhiScore: 0.5757639408111572\n",
      "\tPerplexityScore: 4303.5107421875\n",
      "\ttime: 0:01:27.020111\n",
      "#topic 7.........\n",
      "\tSparsityThetaScore: 0.5286387801170349\n",
      "\tSparsityPhiScore: 0.6167688369750977\n",
      "\tPerplexityScore: 4156.57568359375\n",
      "\ttime: 0:01:29.008933\n",
      "#topic 8.........\n",
      "\tSparsityThetaScore: 0.5476011037826538\n",
      "\tSparsityPhiScore: 0.6583115458488464\n",
      "\tPerplexityScore: 4053.708251953125\n",
      "\ttime: 0:01:31.613514\n",
      "#topic 9.........\n",
      "\tSparsityThetaScore: 0.5823490023612976\n",
      "\tSparsityPhiScore: 0.6763430237770081\n",
      "\tPerplexityScore: 3908.640625\n",
      "\ttime: 0:01:36.909549\n",
      "#topic 10.........\n",
      "\tSparsityThetaScore: 0.5970649719238281\n",
      "\tSparsityPhiScore: 0.6972940564155579\n",
      "\tPerplexityScore: 3823.334716796875\n",
      "\ttime: 0:01:40.002338\n",
      "#topic 11.........\n",
      "\tSparsityThetaScore: 0.6189135909080505\n",
      "\tSparsityPhiScore: 0.7129622101783752\n",
      "\tPerplexityScore: 3733.690673828125\n",
      "\ttime: 0:01:42.101853\n",
      "#topic 12.........\n",
      "\tSparsityThetaScore: 0.6361261606216431\n",
      "\tSparsityPhiScore: 0.7292211651802063\n",
      "\tPerplexityScore: 3633.373046875\n",
      "\ttime: 0:01:45.672700\n",
      "#topic 13.........\n",
      "\tSparsityThetaScore: 0.6569971442222595\n",
      "\tSparsityPhiScore: 0.738304078578949\n",
      "\tPerplexityScore: 3535.859375\n",
      "\ttime: 0:01:49.178300\n",
      "#topic 14.........\n",
      "\tSparsityThetaScore: 0.6734386682510376\n",
      "\tSparsityPhiScore: 0.7486910820007324\n",
      "\tPerplexityScore: 3470.232421875\n",
      "\ttime: 0:01:52.521429\n",
      "#topic 15.........\n",
      "\tSparsityThetaScore: 0.6825418472290039\n",
      "\tSparsityPhiScore: 0.7606595754623413\n",
      "\tPerplexityScore: 3416.7158203125\n",
      "\ttime: 0:01:57.054526\n",
      "#topic 16.........\n",
      "\tSparsityThetaScore: 0.6930202841758728\n",
      "\tSparsityPhiScore: 0.771358072757721\n",
      "\tPerplexityScore: 3366.642333984375\n",
      "\ttime: 0:02:01.003412\n",
      "#topic 17.........\n",
      "\tSparsityThetaScore: 0.7018470168113708\n",
      "\tSparsityPhiScore: 0.780663013458252\n",
      "\tPerplexityScore: 3311.54296875\n",
      "\ttime: 0:02:05.358546\n",
      "#topic 18.........\n",
      "\tSparsityThetaScore: 0.7100158333778381\n",
      "\tSparsityPhiScore: 0.7879043817520142\n",
      "\tPerplexityScore: 3251.0771484375\n",
      "\ttime: 0:02:08.528584\n",
      "#topic 19.........\n",
      "\tSparsityThetaScore: 0.7171105146408081\n",
      "\tSparsityPhiScore: 0.7972233891487122\n",
      "\tPerplexityScore: 3206.697998046875\n",
      "\ttime: 0:02:14.776605\n",
      "#topic 20.........\n",
      "\tSparsityThetaScore: 0.7279677987098694\n",
      "\tSparsityPhiScore: 0.8037844300270081\n",
      "\tPerplexityScore: 3155.983642578125\n",
      "\ttime: 0:02:21.971259\n",
      "CPU times: user 3h 59min 36s, sys: 26min 45s, total: 4h 26min 22s\n",
      "Wall time: 32min 52s\n"
     ]
    }
   ],
   "source": [
    "%%time\n",
    "model_list = []\n",
    "step, perplexity, sTheta, sPhi = [], [], [], []\n",
    "\n",
    "for i in range(2,20+1,1):\n",
    "    print(f'#topic {i}.........')\n",
    "    step.append(i)\n",
    "    date_start = time.now()\n",
    "    \n",
    "    num_topics = i\n",
    "    model = artm.ARTM(num_topics=num_topics, dictionary=dictionary)\n",
    "    \n",
    "    # scores\n",
    "    model.scores.add(artm.PerplexityScore(name='PerplexityScore',dictionary=dictionary))\n",
    "    model.scores.add(artm.SparsityThetaScore(name='SparsityThetaScore'))\n",
    "    model.scores.add(artm.SparsityPhiScore(name='SparsityPhiScore'))\n",
    "\n",
    "    # regularizers\n",
    "    model.regularizers.add(artm.SmoothSparsePhiRegularizer(name='SparsePhi', tau=-0.1))\n",
    "    model.regularizers.add(artm.SmoothSparseThetaRegularizer(name='SparseTheta', tau=-0.5))\n",
    "    model.regularizers.add(artm.DecorrelatorPhiRegularizer(name='DecorrelatorPhi', tau=1.5e+5))\n",
    "    \n",
    "    model.fit_offline(batch_vectorizer=batch_vectorizer, num_collection_passes=50)\n",
    "    model_list.append(model)\n",
    "    \n",
    "    sparsityTheta = model.score_tracker['SparsityThetaScore'].last_value\n",
    "    sTheta.append(sparsityTheta)\n",
    "    sparsityPhi = model.score_tracker['SparsityPhiScore'].last_value\n",
    "    sPhi.append(sparsityPhi)\n",
    "    perpl = model.score_tracker['PerplexityScore'].last_value\n",
    "    perplexity.append(perpl)\n",
    "    \n",
    "    print(f'\\tSparsityThetaScore: {sparsityTheta}')\n",
    "    print(f'\\tSparsityPhiScore: {sparsityPhi}')\n",
    "    print(f'\\tPerplexityScore: {perpl}')\n",
    "    \n",
    "    print('\\ttime:',time.now()-date_start)\n",
    "    \n",
    "newTime = time.now() #"
   ]
  },
  {
   "cell_type": "code",
   "execution_count": 31,
   "metadata": {
    "ExecuteTime": {
     "end_time": "2019-02-03T10:25:19.898317Z",
     "start_time": "2019-02-03T10:25:19.896173Z"
    }
   },
   "outputs": [],
   "source": [
    "#model_list"
   ]
  },
  {
   "cell_type": "code",
   "execution_count": 24,
   "metadata": {
    "ExecuteTime": {
     "end_time": "2019-02-03T14:11:26.926634Z",
     "start_time": "2019-02-03T14:11:26.643356Z"
    },
    "cell_style": "split"
   },
   "outputs": [
    {
     "data": {
      "text/plain": [
       "Text(0.5, 1.0, 'SparsityPhiScore')"
      ]
     },
     "execution_count": 24,
     "metadata": {},
     "output_type": "execute_result"
    },
    {
     "data": {
      "image/png": "[encoded data removed]",
      "text/plain": [
       "<Figure size 432x288 with 1 Axes>"
      ]
     },
     "metadata": {
      "needs_background": "light"
     },
     "output_type": "display_data"
    }
   ],
   "source": [
    "plt.plot(step, sPhi, color='k',linewidth=3, marker='x')\n",
    "ax = plt.gca()\n",
    "ax.set_xticks(step)\n",
    "plt.grid()\n",
    "plt.title('SparsityPhiScore')"
   ]
  },
  {
   "cell_type": "code",
   "execution_count": 25,
   "metadata": {
    "ExecuteTime": {
     "end_time": "2019-02-03T14:11:27.202596Z",
     "start_time": "2019-02-03T14:11:27.195507Z"
    },
    "cell_style": "split"
   },
   "outputs": [
    {
     "data": {
      "text/plain": [
       "[0.2, 0.4, 0.5, 0.6, 0.7, 0.8]"
      ]
     },
     "execution_count": 25,
     "metadata": {},
     "output_type": "execute_result"
    }
   ],
   "source": [
    "index_sphi = []\n",
    "[index_sphi.append(float(str(i)[:3]) ) for i in sPhi]\n",
    "    \n",
    "index_sphi = list(set(index_sphi))\n",
    "index_sphi.sort()\n",
    "index_sphi"
   ]
  },
  {
   "cell_type": "code",
   "execution_count": 26,
   "metadata": {
    "ExecuteTime": {
     "end_time": "2019-02-03T14:11:27.467396Z",
     "start_time": "2019-02-03T14:11:27.457970Z"
    },
    "cell_style": "split"
   },
   "outputs": [
    {
     "data": {
      "text/plain": [
       "{0.2: 1, 0.4: 2, 0.5: 2, 0.6: 4, 0.7: 9, 0.8: 1}"
      ]
     },
     "execution_count": 26,
     "metadata": {},
     "output_type": "execute_result"
    }
   ],
   "source": [
    "d_sphi = {}\n",
    "\n",
    "for j in range(len(index_sphi)):\n",
    "    k=0\n",
    "    for i in sPhi:\n",
    "        if j==range(len(index_sphi))[-1]:\n",
    "            if (i>=index_sphi[j]):\n",
    "                k+=1\n",
    "        else:\n",
    "            if (i>=index_sphi[j]) & (i<index_sphi[j+1]):\n",
    "                k+=1\n",
    "    d_sphi[index_sphi[j]]=k\n",
    "\n",
    "d_sphi"
   ]
  },
  {
   "cell_type": "code",
   "execution_count": 27,
   "metadata": {
    "ExecuteTime": {
     "end_time": "2019-02-03T14:11:27.998856Z",
     "start_time": "2019-02-03T14:11:27.719797Z"
    },
    "cell_style": "split",
    "scrolled": true
   },
   "outputs": [
    {
     "data": {
      "text/plain": [
       "Text(0.5, 1.0, 'SparsityThetaScore')"
      ]
     },
     "execution_count": 27,
     "metadata": {},
     "output_type": "execute_result"
    },
    {
     "data": {
      "image/png": "[encoded data removed]",
      "text/plain": [
       "<Figure size 432x288 with 1 Axes>"
      ]
     },
     "metadata": {
      "needs_background": "light"
     },
     "output_type": "display_data"
    }
   ],
   "source": [
    "plt.plot(step, sTheta, color='g',linewidth=3, marker='x')\n",
    "ax = plt.gca()\n",
    "ax.set_xticks(step)\n",
    "plt.grid()\n",
    "\n",
    "plt.title('SparsityThetaScore')"
   ]
  },
  {
   "cell_type": "code",
   "execution_count": 28,
   "metadata": {
    "ExecuteTime": {
     "end_time": "2019-02-03T14:11:28.255371Z",
     "start_time": "2019-02-03T14:11:28.248205Z"
    },
    "cell_style": "split"
   },
   "outputs": [
    {
     "data": {
      "text/plain": [
       "[0.1, 0.2, 0.3, 0.4, 0.5, 0.6, 0.7]"
      ]
     },
     "execution_count": 28,
     "metadata": {},
     "output_type": "execute_result"
    }
   ],
   "source": [
    "index_theta = []\n",
    "[index_theta.append(float(str(i)[:3])) for i in sTheta]\n",
    "    \n",
    "index_theta = list(set(index_theta))\n",
    "index_theta.sort()\n",
    "index_theta"
   ]
  },
  {
   "cell_type": "code",
   "execution_count": 29,
   "metadata": {
    "ExecuteTime": {
     "end_time": "2019-02-03T14:11:28.508847Z",
     "start_time": "2019-02-03T14:11:28.499460Z"
    },
    "cell_style": "split"
   },
   "outputs": [
    {
     "data": {
      "text/plain": [
       "{0.1: 1, 0.2: 1, 0.3: 1, 0.4: 2, 0.5: 4, 0.6: 6, 0.7: 4}"
      ]
     },
     "execution_count": 29,
     "metadata": {},
     "output_type": "execute_result"
    }
   ],
   "source": [
    "d_stheta = {}\n",
    "\n",
    "for j in range(len(index_theta)):\n",
    "    k=0\n",
    "    for i in sTheta:\n",
    "        if j==range(len(index_theta))[-1]:\n",
    "            if (i>=index_theta[j]):\n",
    "                k+=1\n",
    "        else:\n",
    "            if (i>=index_theta[j]) & (i<index_theta[j+1]):\n",
    "                k+=1\n",
    "    d_stheta[index_theta[j]]=k\n",
    "\n",
    "d_stheta"
   ]
  },
  {
   "cell_type": "code",
   "execution_count": 30,
   "metadata": {
    "ExecuteTime": {
     "end_time": "2019-02-03T14:11:29.012335Z",
     "start_time": "2019-02-03T14:11:28.767363Z"
    },
    "cell_style": "split"
   },
   "outputs": [
    {
     "data": {
      "text/plain": [
       "Text(0.5, 1.0, 'PerplexityScore')"
      ]
     },
     "execution_count": 30,
     "metadata": {},
     "output_type": "execute_result"
    },
    {
     "data": {
      "image/png": "[encoded data removed]",
      "text/plain": [
       "<Figure size 432x288 with 1 Axes>"
      ]
     },
     "metadata": {
      "needs_background": "light"
     },
     "output_type": "display_data"
    }
   ],
   "source": [
    "plt.plot(step, perplexity, color='b',linewidth=3, marker='x')\n",
    "ax = plt.gca()\n",
    "ax.set_xticks(step)\n",
    "plt.grid()\n",
    "plt.title('PerplexityScore')"
   ]
  },
  {
   "cell_type": "code",
   "execution_count": 31,
   "metadata": {
    "ExecuteTime": {
     "end_time": "2019-02-03T14:11:29.280528Z",
     "start_time": "2019-02-03T14:11:29.274865Z"
    },
    "cell_style": "split"
   },
   "outputs": [
    {
     "data": {
      "text/plain": [
       "[6182.146484375,\n",
       " 5355.8515625,\n",
       " 4843.9306640625,\n",
       " 4565.5927734375,\n",
       " 4303.5107421875,\n",
       " 4156.57568359375,\n",
       " 4053.708251953125,\n",
       " 3908.640625,\n",
       " 3823.334716796875,\n",
       " 3733.690673828125,\n",
       " 3633.373046875,\n",
       " 3535.859375,\n",
       " 3470.232421875,\n",
       " 3416.7158203125,\n",
       " 3366.642333984375,\n",
       " 3311.54296875,\n",
       " 3251.0771484375,\n",
       " 3206.697998046875,\n",
       " 3155.983642578125]"
      ]
     },
     "execution_count": 31,
     "metadata": {},
     "output_type": "execute_result"
    }
   ],
   "source": [
    "perplexity"
   ]
  },
  {
   "cell_type": "markdown",
   "metadata": {},
   "source": [
    "### select the best model"
   ]
  },
  {
   "cell_type": "code",
   "execution_count": 32,
   "metadata": {
    "ExecuteTime": {
     "end_time": "2019-02-03T14:11:31.234967Z",
     "start_time": "2019-02-03T14:11:31.228475Z"
    }
   },
   "outputs": [
    {
     "name": "stdout",
     "output_type": "stream",
     "text": [
      "d_sphi:   {0.2: 1, 0.4: 2, 0.5: 2, 0.6: 4, 0.7: 9, 0.8: 1}\n",
      "d_stheta: {0.1: 1, 0.2: 1, 0.3: 1, 0.4: 2, 0.5: 4, 0.6: 6, 0.7: 4}\n"
     ]
    }
   ],
   "source": [
    "print(f'd_sphi:   {d_sphi}')\n",
    "print(f'd_stheta: {d_stheta}')"
   ]
  },
  {
   "cell_type": "code",
   "execution_count": 33,
   "metadata": {
    "ExecuteTime": {
     "end_time": "2019-02-03T14:13:22.598700Z",
     "start_time": "2019-02-03T14:13:22.594005Z"
    }
   },
   "outputs": [
    {
     "name": "stdout",
     "output_type": "stream",
     "text": [
      "20\n"
     ]
    }
   ],
   "source": [
    "select_topics = 20 # u should choose number of topic\n",
    "\n",
    "best_model = model_list[select_topics-2]\n",
    "print(best_model.num_topics)"
   ]
  },
  {
   "cell_type": "markdown",
   "metadata": {},
   "source": [
    "---"
   ]
  },
  {
   "cell_type": "code",
   "execution_count": 21,
   "metadata": {
    "ExecuteTime": {
     "end_time": "2019-03-12T23:03:34.299039Z",
     "start_time": "2019-03-12T23:02:23.213332Z"
    }
   },
   "outputs": [
    {
     "data": {
      "application/vnd.jupyter.widget-view+json": {
       "model_id": "9d0b3cde3cb141fc9636ea5f5a644994",
       "version_major": 2,
       "version_minor": 0
      },
      "text/plain": [
       "HBox(children=(IntProgress(value=0, description='Pass', max=50, style=ProgressStyle(description_width='initial…"
      ]
     },
     "metadata": {},
     "output_type": "display_data"
    },
    {
     "data": {
      "application/vnd.jupyter.widget-view+json": {
       "model_id": "",
       "version_major": 2,
       "version_minor": 0
      },
      "text/plain": [
       "HBox(children=(IntProgress(value=0, description='Batch', max=52, style=ProgressStyle(description_width='initia…"
      ]
     },
     "metadata": {},
     "output_type": "display_data"
    },
    {
     "data": {
      "application/vnd.jupyter.widget-view+json": {
       "model_id": "",
       "version_major": 2,
       "version_minor": 0
      },
      "text/plain": [
       "HBox(children=(IntProgress(value=0, description='Batch', max=52, style=ProgressStyle(description_width='initia…"
      ]
     },
     "metadata": {},
     "output_type": "display_data"
    },
    {
     "data": {
      "application/vnd.jupyter.widget-view+json": {
       "model_id": "",
       "version_major": 2,
       "version_minor": 0
      },
      "text/plain": [
       "HBox(children=(IntProgress(value=0, description='Batch', max=52, style=ProgressStyle(description_width='initia…"
      ]
     },
     "metadata": {},
     "output_type": "display_data"
    },
    {
     "data": {
      "application/vnd.jupyter.widget-view+json": {
       "model_id": "",
       "version_major": 2,
       "version_minor": 0
      },
      "text/plain": [
       "HBox(children=(IntProgress(value=0, description='Batch', max=52, style=ProgressStyle(description_width='initia…"
      ]
     },
     "metadata": {},
     "output_type": "display_data"
    },
    {
     "data": {
      "application/vnd.jupyter.widget-view+json": {
       "model_id": "",
       "version_major": 2,
       "version_minor": 0
      },
      "text/plain": [
       "HBox(children=(IntProgress(value=0, description='Batch', max=52, style=ProgressStyle(description_width='initia…"
      ]
     },
     "metadata": {},
     "output_type": "display_data"
    },
    {
     "data": {
      "application/vnd.jupyter.widget-view+json": {
       "model_id": "",
       "version_major": 2,
       "version_minor": 0
      },
      "text/plain": [
       "HBox(children=(IntProgress(value=0, description='Batch', max=52, style=ProgressStyle(description_width='initia…"
      ]
     },
     "metadata": {},
     "output_type": "display_data"
    },
    {
     "data": {
      "application/vnd.jupyter.widget-view+json": {
       "model_id": "",
       "version_major": 2,
       "version_minor": 0
      },
      "text/plain": [
       "HBox(children=(IntProgress(value=0, description='Batch', max=52, style=ProgressStyle(description_width='initia…"
      ]
     },
     "metadata": {},
     "output_type": "display_data"
    },
    {
     "data": {
      "application/vnd.jupyter.widget-view+json": {
       "model_id": "",
       "version_major": 2,
       "version_minor": 0
      },
      "text/plain": [
       "HBox(children=(IntProgress(value=0, description='Batch', max=52, style=ProgressStyle(description_width='initia…"
      ]
     },
     "metadata": {},
     "output_type": "display_data"
    },
    {
     "data": {
      "application/vnd.jupyter.widget-view+json": {
       "model_id": "",
       "version_major": 2,
       "version_minor": 0
      },
      "text/plain": [
       "HBox(children=(IntProgress(value=0, description='Batch', max=52, style=ProgressStyle(description_width='initia…"
      ]
     },
     "metadata": {},
     "output_type": "display_data"
    },
    {
     "data": {
      "application/vnd.jupyter.widget-view+json": {
       "model_id": "",
       "version_major": 2,
       "version_minor": 0
      },
      "text/plain": [
       "HBox(children=(IntProgress(value=0, description='Batch', max=52, style=ProgressStyle(description_width='initia…"
      ]
     },
     "metadata": {},
     "output_type": "display_data"
    },
    {
     "data": {
      "application/vnd.jupyter.widget-view+json": {
       "model_id": "",
       "version_major": 2,
       "version_minor": 0
      },
      "text/plain": [
       "HBox(children=(IntProgress(value=0, description='Batch', max=52, style=ProgressStyle(description_width='initia…"
      ]
     },
     "metadata": {},
     "output_type": "display_data"
    },
    {
     "data": {
      "application/vnd.jupyter.widget-view+json": {
       "model_id": "",
       "version_major": 2,
       "version_minor": 0
      },
      "text/plain": [
       "HBox(children=(IntProgress(value=0, description='Batch', max=52, style=ProgressStyle(description_width='initia…"
      ]
     },
     "metadata": {},
     "output_type": "display_data"
    },
    {
     "data": {
      "application/vnd.jupyter.widget-view+json": {
       "model_id": "",
       "version_major": 2,
       "version_minor": 0
      },
      "text/plain": [
       "HBox(children=(IntProgress(value=0, description='Batch', max=52, style=ProgressStyle(description_width='initia…"
      ]
     },
     "metadata": {},
     "output_type": "display_data"
    },
    {
     "data": {
      "application/vnd.jupyter.widget-view+json": {
       "model_id": "",
       "version_major": 2,
       "version_minor": 0
      },
      "text/plain": [
       "HBox(children=(IntProgress(value=0, description='Batch', max=52, style=ProgressStyle(description_width='initia…"
      ]
     },
     "metadata": {},
     "output_type": "display_data"
    },
    {
     "data": {
      "application/vnd.jupyter.widget-view+json": {
       "model_id": "",
       "version_major": 2,
       "version_minor": 0
      },
      "text/plain": [
       "HBox(children=(IntProgress(value=0, description='Batch', max=52, style=ProgressStyle(description_width='initia…"
      ]
     },
     "metadata": {},
     "output_type": "display_data"
    },
    {
     "data": {
      "application/vnd.jupyter.widget-view+json": {
       "model_id": "",
       "version_major": 2,
       "version_minor": 0
      },
      "text/plain": [
       "HBox(children=(IntProgress(value=0, description='Batch', max=52, style=ProgressStyle(description_width='initia…"
      ]
     },
     "metadata": {},
     "output_type": "display_data"
    },
    {
     "data": {
      "application/vnd.jupyter.widget-view+json": {
       "model_id": "",
       "version_major": 2,
       "version_minor": 0
      },
      "text/plain": [
       "HBox(children=(IntProgress(value=0, description='Batch', max=52, style=ProgressStyle(description_width='initia…"
      ]
     },
     "metadata": {},
     "output_type": "display_data"
    },
    {
     "data": {
      "application/vnd.jupyter.widget-view+json": {
       "model_id": "",
       "version_major": 2,
       "version_minor": 0
      },
      "text/plain": [
       "HBox(children=(IntProgress(value=0, description='Batch', max=52, style=ProgressStyle(description_width='initia…"
      ]
     },
     "metadata": {},
     "output_type": "display_data"
    },
    {
     "data": {
      "application/vnd.jupyter.widget-view+json": {
       "model_id": "",
       "version_major": 2,
       "version_minor": 0
      },
      "text/plain": [
       "HBox(children=(IntProgress(value=0, description='Batch', max=52, style=ProgressStyle(description_width='initia…"
      ]
     },
     "metadata": {},
     "output_type": "display_data"
    },
    {
     "data": {
      "application/vnd.jupyter.widget-view+json": {
       "model_id": "",
       "version_major": 2,
       "version_minor": 0
      },
      "text/plain": [
       "HBox(children=(IntProgress(value=0, description='Batch', max=52, style=ProgressStyle(description_width='initia…"
      ]
     },
     "metadata": {},
     "output_type": "display_data"
    },
    {
     "data": {
      "application/vnd.jupyter.widget-view+json": {
       "model_id": "",
       "version_major": 2,
       "version_minor": 0
      },
      "text/plain": [
       "HBox(children=(IntProgress(value=0, description='Batch', max=52, style=ProgressStyle(description_width='initia…"
      ]
     },
     "metadata": {},
     "output_type": "display_data"
    },
    {
     "data": {
      "application/vnd.jupyter.widget-view+json": {
       "model_id": "",
       "version_major": 2,
       "version_minor": 0
      },
      "text/plain": [
       "HBox(children=(IntProgress(value=0, description='Batch', max=52, style=ProgressStyle(description_width='initia…"
      ]
     },
     "metadata": {},
     "output_type": "display_data"
    },
    {
     "data": {
      "application/vnd.jupyter.widget-view+json": {
       "model_id": "",
       "version_major": 2,
       "version_minor": 0
      },
      "text/plain": [
       "HBox(children=(IntProgress(value=0, description='Batch', max=52, style=ProgressStyle(description_width='initia…"
      ]
     },
     "metadata": {},
     "output_type": "display_data"
    },
    {
     "data": {
      "application/vnd.jupyter.widget-view+json": {
       "model_id": "",
       "version_major": 2,
       "version_minor": 0
      },
      "text/plain": [
       "HBox(children=(IntProgress(value=0, description='Batch', max=52, style=ProgressStyle(description_width='initia…"
      ]
     },
     "metadata": {},
     "output_type": "display_data"
    },
    {
     "data": {
      "application/vnd.jupyter.widget-view+json": {
       "model_id": "",
       "version_major": 2,
       "version_minor": 0
      },
      "text/plain": [
       "HBox(children=(IntProgress(value=0, description='Batch', max=52, style=ProgressStyle(description_width='initia…"
      ]
     },
     "metadata": {},
     "output_type": "display_data"
    },
    {
     "data": {
      "application/vnd.jupyter.widget-view+json": {
       "model_id": "",
       "version_major": 2,
       "version_minor": 0
      },
      "text/plain": [
       "HBox(children=(IntProgress(value=0, description='Batch', max=52, style=ProgressStyle(description_width='initia…"
      ]
     },
     "metadata": {},
     "output_type": "display_data"
    },
    {
     "data": {
      "application/vnd.jupyter.widget-view+json": {
       "model_id": "",
       "version_major": 2,
       "version_minor": 0
      },
      "text/plain": [
       "HBox(children=(IntProgress(value=0, description='Batch', max=52, style=ProgressStyle(description_width='initia…"
      ]
     },
     "metadata": {},
     "output_type": "display_data"
    },
    {
     "data": {
      "application/vnd.jupyter.widget-view+json": {
       "model_id": "",
       "version_major": 2,
       "version_minor": 0
      },
      "text/plain": [
       "HBox(children=(IntProgress(value=0, description='Batch', max=52, style=ProgressStyle(description_width='initia…"
      ]
     },
     "metadata": {},
     "output_type": "display_data"
    },
    {
     "data": {
      "application/vnd.jupyter.widget-view+json": {
       "model_id": "",
       "version_major": 2,
       "version_minor": 0
      },
      "text/plain": [
       "HBox(children=(IntProgress(value=0, description='Batch', max=52, style=ProgressStyle(description_width='initia…"
      ]
     },
     "metadata": {},
     "output_type": "display_data"
    },
    {
     "data": {
      "application/vnd.jupyter.widget-view+json": {
       "model_id": "",
       "version_major": 2,
       "version_minor": 0
      },
      "text/plain": [
       "HBox(children=(IntProgress(value=0, description='Batch', max=52, style=ProgressStyle(description_width='initia…"
      ]
     },
     "metadata": {},
     "output_type": "display_data"
    },
    {
     "data": {
      "application/vnd.jupyter.widget-view+json": {
       "model_id": "",
       "version_major": 2,
       "version_minor": 0
      },
      "text/plain": [
       "HBox(children=(IntProgress(value=0, description='Batch', max=52, style=ProgressStyle(description_width='initia…"
      ]
     },
     "metadata": {},
     "output_type": "display_data"
    },
    {
     "data": {
      "application/vnd.jupyter.widget-view+json": {
       "model_id": "",
       "version_major": 2,
       "version_minor": 0
      },
      "text/plain": [
       "HBox(children=(IntProgress(value=0, description='Batch', max=52, style=ProgressStyle(description_width='initia…"
      ]
     },
     "metadata": {},
     "output_type": "display_data"
    },
    {
     "data": {
      "application/vnd.jupyter.widget-view+json": {
       "model_id": "",
       "version_major": 2,
       "version_minor": 0
      },
      "text/plain": [
       "HBox(children=(IntProgress(value=0, description='Batch', max=52, style=ProgressStyle(description_width='initia…"
      ]
     },
     "metadata": {},
     "output_type": "display_data"
    },
    {
     "data": {
      "application/vnd.jupyter.widget-view+json": {
       "model_id": "",
       "version_major": 2,
       "version_minor": 0
      },
      "text/plain": [
       "HBox(children=(IntProgress(value=0, description='Batch', max=52, style=ProgressStyle(description_width='initia…"
      ]
     },
     "metadata": {},
     "output_type": "display_data"
    },
    {
     "data": {
      "application/vnd.jupyter.widget-view+json": {
       "model_id": "",
       "version_major": 2,
       "version_minor": 0
      },
      "text/plain": [
       "HBox(children=(IntProgress(value=0, description='Batch', max=52, style=ProgressStyle(description_width='initia…"
      ]
     },
     "metadata": {},
     "output_type": "display_data"
    },
    {
     "data": {
      "application/vnd.jupyter.widget-view+json": {
       "model_id": "",
       "version_major": 2,
       "version_minor": 0
      },
      "text/plain": [
       "HBox(children=(IntProgress(value=0, description='Batch', max=52, style=ProgressStyle(description_width='initia…"
      ]
     },
     "metadata": {},
     "output_type": "display_data"
    },
    {
     "data": {
      "application/vnd.jupyter.widget-view+json": {
       "model_id": "",
       "version_major": 2,
       "version_minor": 0
      },
      "text/plain": [
       "HBox(children=(IntProgress(value=0, description='Batch', max=52, style=ProgressStyle(description_width='initia…"
      ]
     },
     "metadata": {},
     "output_type": "display_data"
    },
    {
     "data": {
      "application/vnd.jupyter.widget-view+json": {
       "model_id": "",
       "version_major": 2,
       "version_minor": 0
      },
      "text/plain": [
       "HBox(children=(IntProgress(value=0, description='Batch', max=52, style=ProgressStyle(description_width='initia…"
      ]
     },
     "metadata": {},
     "output_type": "display_data"
    },
    {
     "data": {
      "application/vnd.jupyter.widget-view+json": {
       "model_id": "",
       "version_major": 2,
       "version_minor": 0
      },
      "text/plain": [
       "HBox(children=(IntProgress(value=0, description='Batch', max=52, style=ProgressStyle(description_width='initia…"
      ]
     },
     "metadata": {},
     "output_type": "display_data"
    },
    {
     "data": {
      "application/vnd.jupyter.widget-view+json": {
       "model_id": "",
       "version_major": 2,
       "version_minor": 0
      },
      "text/plain": [
       "HBox(children=(IntProgress(value=0, description='Batch', max=52, style=ProgressStyle(description_width='initia…"
      ]
     },
     "metadata": {},
     "output_type": "display_data"
    },
    {
     "data": {
      "application/vnd.jupyter.widget-view+json": {
       "model_id": "",
       "version_major": 2,
       "version_minor": 0
      },
      "text/plain": [
       "HBox(children=(IntProgress(value=0, description='Batch', max=52, style=ProgressStyle(description_width='initia…"
      ]
     },
     "metadata": {},
     "output_type": "display_data"
    },
    {
     "data": {
      "application/vnd.jupyter.widget-view+json": {
       "model_id": "",
       "version_major": 2,
       "version_minor": 0
      },
      "text/plain": [
       "HBox(children=(IntProgress(value=0, description='Batch', max=52, style=ProgressStyle(description_width='initia…"
      ]
     },
     "metadata": {},
     "output_type": "display_data"
    },
    {
     "data": {
      "application/vnd.jupyter.widget-view+json": {
       "model_id": "",
       "version_major": 2,
       "version_minor": 0
      },
      "text/plain": [
       "HBox(children=(IntProgress(value=0, description='Batch', max=52, style=ProgressStyle(description_width='initia…"
      ]
     },
     "metadata": {},
     "output_type": "display_data"
    },
    {
     "data": {
      "application/vnd.jupyter.widget-view+json": {
       "model_id": "",
       "version_major": 2,
       "version_minor": 0
      },
      "text/plain": [
       "HBox(children=(IntProgress(value=0, description='Batch', max=52, style=ProgressStyle(description_width='initia…"
      ]
     },
     "metadata": {},
     "output_type": "display_data"
    },
    {
     "data": {
      "application/vnd.jupyter.widget-view+json": {
       "model_id": "",
       "version_major": 2,
       "version_minor": 0
      },
      "text/plain": [
       "HBox(children=(IntProgress(value=0, description='Batch', max=52, style=ProgressStyle(description_width='initia…"
      ]
     },
     "metadata": {},
     "output_type": "display_data"
    },
    {
     "data": {
      "application/vnd.jupyter.widget-view+json": {
       "model_id": "",
       "version_major": 2,
       "version_minor": 0
      },
      "text/plain": [
       "HBox(children=(IntProgress(value=0, description='Batch', max=52, style=ProgressStyle(description_width='initia…"
      ]
     },
     "metadata": {},
     "output_type": "display_data"
    },
    {
     "data": {
      "application/vnd.jupyter.widget-view+json": {
       "model_id": "",
       "version_major": 2,
       "version_minor": 0
      },
      "text/plain": [
       "HBox(children=(IntProgress(value=0, description='Batch', max=52, style=ProgressStyle(description_width='initia…"
      ]
     },
     "metadata": {},
     "output_type": "display_data"
    },
    {
     "data": {
      "application/vnd.jupyter.widget-view+json": {
       "model_id": "",
       "version_major": 2,
       "version_minor": 0
      },
      "text/plain": [
       "HBox(children=(IntProgress(value=0, description='Batch', max=52, style=ProgressStyle(description_width='initia…"
      ]
     },
     "metadata": {},
     "output_type": "display_data"
    },
    {
     "data": {
      "application/vnd.jupyter.widget-view+json": {
       "model_id": "",
       "version_major": 2,
       "version_minor": 0
      },
      "text/plain": [
       "HBox(children=(IntProgress(value=0, description='Batch', max=52, style=ProgressStyle(description_width='initia…"
      ]
     },
     "metadata": {},
     "output_type": "display_data"
    },
    {
     "data": {
      "application/vnd.jupyter.widget-view+json": {
       "model_id": "",
       "version_major": 2,
       "version_minor": 0
      },
      "text/plain": [
       "HBox(children=(IntProgress(value=0, description='Batch', max=52, style=ProgressStyle(description_width='initia…"
      ]
     },
     "metadata": {},
     "output_type": "display_data"
    },
    {
     "name": "stdout",
     "output_type": "stream",
     "text": [
      "\n",
      "\tSparsityThetaScore: 0.7317667007446289\n",
      "\tSparsityPhiScore: 0.8015035390853882\n",
      "\tPerplexityScore: 3187.0546875\n"
     ]
    }
   ],
   "source": [
    "select_topics = 20\n",
    "\n",
    "model = artm.ARTM(num_topics=select_topics, dictionary=dictionary, show_progress_bars=True)\n",
    "\n",
    "# scores\n",
    "model.scores.add(artm.PerplexityScore(name='PerplexityScore',dictionary=dictionary))\n",
    "model.scores.add(artm.SparsityThetaScore(name='SparsityThetaScore'))\n",
    "model.scores.add(artm.SparsityPhiScore(name='SparsityPhiScore'))\n",
    "\n",
    "# regularizers\n",
    "model.regularizers.add(artm.SmoothSparsePhiRegularizer(name='SparsePhi', tau=-0.1))\n",
    "model.regularizers.add(artm.SmoothSparseThetaRegularizer(name='SparseTheta', tau=-0.5))\n",
    "model.regularizers.add(artm.DecorrelatorPhiRegularizer(name='DecorrelatorPhi', tau=1.5e+5))\n",
    "\n",
    "model.fit_offline(batch_vectorizer=batch_vectorizer, num_collection_passes=50)\n",
    "\n",
    "sparsityTheta = model.score_tracker['SparsityThetaScore'].last_value\n",
    "sparsityPhi = model.score_tracker['SparsityPhiScore'].last_value\n",
    "perpl = model.score_tracker['PerplexityScore'].last_value\n",
    "\n",
    "print(f'\\tSparsityThetaScore: {sparsityTheta}')\n",
    "print(f'\\tSparsityPhiScore: {sparsityPhi}')\n",
    "print(f'\\tPerplexityScore: {perpl}')\n",
    "\n",
    "best_model = model.clone()"
   ]
  },
  {
   "cell_type": "markdown",
   "metadata": {},
   "source": [
    "---"
   ]
  },
  {
   "cell_type": "markdown",
   "metadata": {
    "ExecuteTime": {
     "end_time": "2019-02-01T00:14:02.339878Z",
     "start_time": "2019-02-01T00:14:02.338133Z"
    }
   },
   "source": [
    "### print top words for each topics"
   ]
  },
  {
   "cell_type": "code",
   "execution_count": 22,
   "metadata": {
    "ExecuteTime": {
     "end_time": "2019-03-12T23:03:35.412095Z",
     "start_time": "2019-03-12T23:03:35.094019Z"
    }
   },
   "outputs": [
    {
     "name": "stdout",
     "output_type": "stream",
     "text": [
      "topic_0: ['фестиваль' 'награда' 'номинация' 'церемония' 'приз' 'кинофестиваль'\n",
      " 'вручение' 'программа' 'золотой' 'жюри']\n",
      "topic_1: ['продать' 'аукцион' 'торг' 'фунт' 'выставить' 'продажа' 'стерлинг'\n",
      " 'christie' 'стоимость' 'sotheby']\n",
      "topic_2: ['студия' 'мультфильм' 'pictures' 'экран' 'серия' 'кинокомпания' 'disney'\n",
      " 'комикс' 'персонаж' 'сценарий']\n",
      "topic_3: ['музей' 'художник' 'выставка' 'галерея' 'современный' 'коллекция'\n",
      " 'экспозиция' 'русский' 'открыться' 'представить']\n",
      "topic_4: ['культура' 'решение' 'директор' 'министерство' 'министр' 'глава' 'письмо'\n",
      " 'совет' 'власть' 'государственный']\n",
      "topic_5: ['конкурс' 'музыкальный' 'евровидение' 'композитор' 'оркестр' 'фестиваль'\n",
      " 'музыка' 'опера' 'дирижёр' 'певица']\n",
      "topic_6: ['сериал' 'сезон' 'эпизод' 'канал' 'игра' 'серия' 'телеканал' 'ролик'\n",
      " 'престол' 'сеть']\n",
      "topic_7: ['коллектив' 'участник' 'гитарист' 'вокалист' 'музыкальный' 'rolling'\n",
      " 'сольный' 'состав' 'бывший' 'певец']\n",
      "topic_8: ['театр' 'спектакль' 'постановка' 'театральный' 'артист' 'балет'\n",
      " 'московский' 'руководитель' 'сцена' 'пьеса']\n",
      "topic_9: ['здание' 'памятник' 'французский' 'итальянский' 'век' 'франция'\n",
      " 'скульптура' 'строительство' 'власть' 'статуя']\n",
      "topic_10: ['иск' 'право' 'обвинение' 'война' 'звёздный' 'подать' 'адвокат'\n",
      " 'утверждать' 'судебный' 'признать']\n",
      "topic_11: ['герой' 'сюжет' 'сценарий' 'исполнить' 'снять' 'экран' 'роман' 'главное'\n",
      " 'сняться' 'персонаж']\n",
      "topic_12: ['писатель' 'роман' 'поэт' 'литературный' 'литература' 'русский' 'лауреат'\n",
      " 'издательство' 'язык' 'писательница']\n",
      "topic_13: ['диск' 'запись' 'выступление' 'пластинка' 'билет' 'тур' 'коллектив'\n",
      " 'продажа' 'шоу' 'песнь']\n",
      "topic_14: ['песня' 'певица' 'композиция' 'пластинка' 'трек' 'чарт' 'клип' 'рэпер'\n",
      " 'сингл' 'песнь']\n",
      "topic_15: ['сбор' 'собрать' 'список' 'рейтинг' 'заработать' 'неделя' 'составить'\n",
      " 'лидер' 'кассовый' 'занять']\n",
      "topic_16: ['смерть' 'актриса' 'женщина' 'скончаться' 'умереть' 'ребёнок' 'возраст'\n",
      " 'джексон' 'семья' 'причина']\n",
      "topic_17: ['оскар' 'актриса' 'сценарий' 'мюзикл' 'комедия' 'драма' 'исполнить'\n",
      " 'сняться' 'номинация' 'джонс']\n",
      "topic_18: ['очень' 'зритель' 'кино' 'хотеть' 'сцена' 'просто' 'интервью' 'кинотеатр'\n",
      " 'друг' 'сделать']\n",
      "topic_19: ['артист' 'украина' 'больница' 'изз' 'украинский' 'произойти' 'состояние'\n",
      " 'крым' 'выступление' 'врач']\n"
     ]
    }
   ],
   "source": [
    "phi = best_model.get_phi()\n",
    "phi['word'] = phi.index\n",
    "#phi.head()\n",
    "\n",
    "for col in phi.columns:\n",
    "    if col != 'word':\n",
    "        print(f\"{col}: {phi[[col, 'word']].sort_values(by=col, ascending=False)['word'].values[:10]}\")\n",
    "        #print('\\t',phi[[col, 'word']].sort_values(by=col, ascending=False)['word'].values[:10])"
   ]
  },
  {
   "cell_type": "code",
   "execution_count": 32,
   "metadata": {
    "ExecuteTime": {
     "end_time": "2019-03-24T10:54:47.698608Z",
     "start_time": "2019-03-24T10:54:47.382657Z"
    }
   },
   "outputs": [],
   "source": [
    "# save to json\n",
    "\n",
    "outjson = {}\n",
    "# ---\n",
    "phi = best_model.get_phi()\n",
    "phi['word'] = phi.index\n",
    "#phi.head()\n",
    "\n",
    "for col in phi.columns:\n",
    "    if col != 'word':\n",
    "        #print(f\"{col}: {phi[[col, 'word']].sort_values(by=col, ascending=False)['word'].values[:10]}\")\n",
    "        #print('\\t',phi[[col, 'word']].sort_values(by=col, ascending=False)['word'].values[:10])\n",
    "        outjson[f'{col}'] = phi[[col, 'word']].sort_values(by=col, ascending=False)['word'].values[:20]"
   ]
  },
  {
   "cell_type": "code",
   "execution_count": 33,
   "metadata": {
    "ExecuteTime": {
     "end_time": "2019-03-24T10:54:50.673981Z",
     "start_time": "2019-03-24T10:54:50.669758Z"
    }
   },
   "outputs": [],
   "source": [
    "import pickle\n",
    "\n",
    "with open(f'''data/top20word/{'-'.join(name_dataset.split('.'))}.pickle''', 'wb') as handle:\n",
    "    pickle.dump(outjson, handle, protocol=pickle.HIGHEST_PROTOCOL)"
   ]
  },
  {
   "cell_type": "code",
   "execution_count": 34,
   "metadata": {
    "ExecuteTime": {
     "end_time": "2019-03-24T10:54:55.057779Z",
     "start_time": "2019-03-24T10:54:55.049763Z"
    }
   },
   "outputs": [
    {
     "data": {
      "text/plain": [
       "{'topic_0': array(['фестиваль', 'награда', 'номинация', 'церемония', 'приз',\n",
       "        'кинофестиваль', 'вручение', 'программа', 'золотой', 'жюри',\n",
       "        'категория', 'международный', 'кино', 'оскар', 'вручить',\n",
       "        'лауреат', 'победитель', 'представить', 'конкурс', 'номинант'],\n",
       "       dtype=object),\n",
       " 'topic_1': array(['продать', 'аукцион', 'торг', 'фунт', 'выставить', 'продажа',\n",
       "        'стерлинг', 'christie', 'стоимость', 'sotheby', 'аукционный',\n",
       "        'художник', 'портрет', 'цена', 'полотно', 'сумма', 'дорогой',\n",
       "        'владелец', 'лот', 'уйти'], dtype=object),\n",
       " 'topic_2': array(['студия', 'мультфильм', 'pictures', 'экран', 'серия',\n",
       "        'кинокомпания', 'disney', 'комикс', 'персонаж', 'сценарий',\n",
       "        'киностудия', 'снять', 'warner', 'создатель', 'герой', 'трилогия',\n",
       "        'marvel', 'сценарист', 'universal', 'франшиза'], dtype=object),\n",
       " 'topic_3': array(['музей', 'художник', 'выставка', 'галерея', 'современный',\n",
       "        'коллекция', 'экспозиция', 'русский', 'открыться', 'представить',\n",
       "        'центр', 'век', 'экспонат', 'полотно', 'собрание', 'эрмитаж',\n",
       "        'директор', 'художественный', 'фонд', 'государственный'],\n",
       "       dtype=object),\n",
       " 'topic_4': array(['культура', 'решение', 'директор', 'министерство', 'министр',\n",
       "        'глава', 'письмо', 'совет', 'власть', 'государственный', 'мнение',\n",
       "        'против', 'вопрос', 'фонд', 'поддержка', 'рф', 'рубль', 'союз',\n",
       "        'руководство', 'государство'], dtype=object),\n",
       " 'topic_5': array(['конкурс', 'музыкальный', 'евровидение', 'композитор', 'оркестр',\n",
       "        'фестиваль', 'музыка', 'опера', 'дирижёр', 'певица', 'оперный',\n",
       "        'международный', 'украина', 'финал', 'певец', 'песня',\n",
       "        'выступление', 'выступать', 'исполнитель', 'матильда'],\n",
       "       dtype=object),\n",
       " 'topic_6': array(['сериал', 'сезон', 'эпизод', 'канал', 'игра', 'серия', 'телеканал',\n",
       "        'ролик', 'престол', 'сеть', 'шоу', 'персонаж', 'показать',\n",
       "        'создатель', 'эфир', 'youtube', 'телевизионный', 'телесериал',\n",
       "        'выходить', 'герой'], dtype=object),\n",
       " 'topic_7': array(['коллектив', 'участник', 'гитарист', 'вокалист', 'музыкальный',\n",
       "        'rolling', 'сольный', 'состав', 'бывший', 'певец', 'записать',\n",
       "        'музыка', 'выступать', 'пластинка', 'вместе', 'лидер',\n",
       "        'выступление', 'stones', 'stone', 'фестиваль'], dtype=object),\n",
       " 'topic_8': array(['театр', 'спектакль', 'постановка', 'театральный', 'артист',\n",
       "        'балет', 'московский', 'руководитель', 'сцена', 'пьеса',\n",
       "        'художественный', 'труппа', 'поставить', 'новость', 'сергей',\n",
       "        'риа', 'александр', 'владимир', 'орден', 'народный'], dtype=object),\n",
       " 'topic_9': array(['здание', 'памятник', 'французский', 'итальянский', 'век',\n",
       "        'франция', 'скульптура', 'строительство', 'власть', 'статуя',\n",
       "        'реставрация', 'архитектор', 'италия', 'построить', 'метр',\n",
       "        'церковь', 'около', 'площадь', 'установить', 'газета'],\n",
       "       dtype=object),\n",
       " 'topic_10': array(['иск', 'право', 'обвинение', 'война', 'звёздный', 'подать',\n",
       "        'адвокат', 'утверждать', 'судебный', 'признать', 'против',\n",
       "        'уголовный', 'обвинять', 'задержать', 'тюрьма', 'заявление',\n",
       "        'решение', 'преступление', 'бывший', 'заключение'], dtype=object),\n",
       " 'topic_11': array(['герой', 'сюжет', 'сценарий', 'исполнить', 'снять', 'экран',\n",
       "        'роман', 'главное', 'сняться', 'персонаж', 'играть', 'экранизация',\n",
       "        'сниматься', 'серия', 'оригинальный', 'джон', 'событие',\n",
       "        'действие', 'начаться', 'фантастический'], dtype=object),\n",
       " 'topic_12': array(['писатель', 'роман', 'поэт', 'литературный', 'литература',\n",
       "        'русский', 'лауреат', 'издательство', 'язык', 'писательница',\n",
       "        'книжный', 'рассказ', 'библиотека', 'журнал', 'сборник', 'текст',\n",
       "        'александр', 'повесть', 'нобелевский', 'стих'], dtype=object),\n",
       " 'topic_13': array(['диск', 'запись', 'выступление', 'пластинка', 'билет', 'тур',\n",
       "        'коллектив', 'продажа', 'шоу', 'песнь', 'поступить', 'записать',\n",
       "        'студийный', 'песня', 'beatles', 'концертный', 'композиция',\n",
       "        'выход', 'поклонник', 'лейбл'], dtype=object),\n",
       " 'topic_14': array(['песня', 'певица', 'композиция', 'пластинка', 'трек', 'чарт',\n",
       "        'клип', 'рэпер', 'сингл', 'песнь', 'музыкальный', 'исполнитель',\n",
       "        'хитпарад', 'диск', 'записать', 'исполнительница', 'billboard',\n",
       "        'видео', 'неделя', 'студийный'], dtype=object),\n",
       " 'topic_15': array(['сбор', 'собрать', 'список', 'рейтинг', 'заработать', 'неделя',\n",
       "        'составить', 'лидер', 'кассовый', 'занять', 'выходной', 'миллиард',\n",
       "        'кинотеатр', 'общий', 'третье', 'строчка', 'итог', 'рекорд',\n",
       "        'уикенд', 'пять'], dtype=object),\n",
       " 'topic_16': array(['смерть', 'актриса', 'женщина', 'скончаться', 'умереть', 'ребёнок',\n",
       "        'возраст', 'джексон', 'семья', 'причина', 'отец', 'дочь', 'сын',\n",
       "        'друг', 'жена', 'певец', 'сексуальный', 'писать', 'родиться',\n",
       "        'муж'], dtype=object),\n",
       " 'topic_17': array(['оскар', 'актриса', 'сценарий', 'мюзикл', 'комедия', 'драма',\n",
       "        'исполнить', 'сняться', 'номинация', 'джонс', 'план', 'золотой',\n",
       "        'джон', 'глобус', 'агент', 'играть', 'сниматься', 'снять',\n",
       "        'киноакадемия', 'постановка'], dtype=object),\n",
       " 'topic_18': array(['очень', 'зритель', 'кино', 'хотеть', 'сцена', 'просто',\n",
       "        'интервью', 'кинотеатр', 'друг', 'сделать', 'герой', 'каждый',\n",
       "        'добавить', 'делать', 'образ', 'показать', 'увидеть', 'мнение',\n",
       "        'любовь', 'молодая'], dtype=object),\n",
       " 'topic_19': array(['артист', 'украина', 'больница', 'изз', 'украинский', 'произойти',\n",
       "        'состояние', 'крым', 'выступление', 'врач', 'отменить', 'новость',\n",
       "        'операция', 'певец', 'информация', 'госпитализировать', 'машина',\n",
       "        'причина', 'безопасность', 'инцидент'], dtype=object)}"
      ]
     },
     "execution_count": 34,
     "metadata": {},
     "output_type": "execute_result"
    }
   ],
   "source": [
    "with open(f'''data/top20word/{'-'.join(name_dataset.split('.'))}.pickle''', 'rb') as handle:\n",
    "    out_picle = pickle.load(handle)\n",
    "    \n",
    "out_picle"
   ]
  },
  {
   "cell_type": "markdown",
   "metadata": {},
   "source": [
    "### get topics-docs matrix"
   ]
  },
  {
   "cell_type": "code",
   "execution_count": 23,
   "metadata": {
    "ExecuteTime": {
     "end_time": "2019-03-12T23:03:37.647991Z",
     "start_time": "2019-03-12T23:03:36.189339Z"
    }
   },
   "outputs": [
    {
     "data": {
      "application/vnd.jupyter.widget-view+json": {
       "model_id": "",
       "version_major": 2,
       "version_minor": 0
      },
      "text/plain": [
       "HBox(children=(IntProgress(value=0, description='Batch', max=52, style=ProgressStyle(description_width='initia…"
      ]
     },
     "metadata": {},
     "output_type": "display_data"
    },
    {
     "name": "stdout",
     "output_type": "stream",
     "text": [
      "\r",
      "shape theta: (20, 51067)\n"
     ]
    },
    {
     "data": {
      "image/png": "[encoded data removed]",
      "text/plain": [
       "<Figure size 1440x1440 with 1 Axes>"
      ]
     },
     "metadata": {
      "needs_background": "light"
     },
     "output_type": "display_data"
    }
   ],
   "source": [
    "theta = best_model.transform_sparse(batch_vectorizer=batch_vectorizer, eps=0.001)\n",
    "print(f'shape theta: {theta[0].shape}')\n",
    "\n",
    "plt.figure(figsize=(20, 20))\n",
    "plt.imshow(theta[0][:, 2000:2500].toarray());"
   ]
  },
  {
   "cell_type": "code",
   "execution_count": null,
   "metadata": {},
   "outputs": [],
   "source": []
  },
  {
   "cell_type": "markdown",
   "metadata": {},
   "source": [
    "### dense theta matrix"
   ]
  },
  {
   "cell_type": "code",
   "execution_count": 24,
   "metadata": {
    "ExecuteTime": {
     "end_time": "2019-03-12T23:03:38.714286Z",
     "start_time": "2019-03-12T23:03:37.793160Z"
    }
   },
   "outputs": [
    {
     "data": {
      "application/vnd.jupyter.widget-view+json": {
       "model_id": "",
       "version_major": 2,
       "version_minor": 0
      },
      "text/plain": [
       "HBox(children=(IntProgress(value=0, description='Batch', max=52, style=ProgressStyle(description_width='initia…"
      ]
     },
     "metadata": {},
     "output_type": "display_data"
    },
    {
     "name": "stdout",
     "output_type": "stream",
     "text": [
      "\r"
     ]
    },
    {
     "data": {
      "text/html": [
       "<div>\n",
       "<style scoped>\n",
       "    .dataframe tbody tr th:only-of-type {\n",
       "        vertical-align: middle;\n",
       "    }\n",
       "\n",
       "    .dataframe tbody tr th {\n",
       "        vertical-align: top;\n",
       "    }\n",
       "\n",
       "    .dataframe thead th {\n",
       "        text-align: right;\n",
       "    }\n",
       "</style>\n",
       "<table border=\"1\" class=\"dataframe\">\n",
       "  <thead>\n",
       "    <tr style=\"text-align: right;\">\n",
       "      <th></th>\n",
       "      <th>topic_0</th>\n",
       "      <th>topic_1</th>\n",
       "      <th>topic_2</th>\n",
       "      <th>topic_3</th>\n",
       "      <th>topic_4</th>\n",
       "      <th>topic_5</th>\n",
       "      <th>topic_6</th>\n",
       "      <th>topic_7</th>\n",
       "      <th>topic_8</th>\n",
       "      <th>topic_9</th>\n",
       "      <th>topic_10</th>\n",
       "      <th>topic_11</th>\n",
       "      <th>topic_12</th>\n",
       "      <th>topic_13</th>\n",
       "      <th>topic_14</th>\n",
       "      <th>topic_15</th>\n",
       "      <th>topic_16</th>\n",
       "      <th>topic_17</th>\n",
       "      <th>topic_18</th>\n",
       "      <th>topic_19</th>\n",
       "    </tr>\n",
       "  </thead>\n",
       "  <tbody>\n",
       "    <tr>\n",
       "      <th>40000</th>\n",
       "      <td>0.135803</td>\n",
       "      <td>0.000000</td>\n",
       "      <td>0.026112</td>\n",
       "      <td>0.007716</td>\n",
       "      <td>0.134519</td>\n",
       "      <td>0.0</td>\n",
       "      <td>0.000000</td>\n",
       "      <td>0.000000</td>\n",
       "      <td>0.408715</td>\n",
       "      <td>0.0</td>\n",
       "      <td>0.000000</td>\n",
       "      <td>0.000000</td>\n",
       "      <td>0.080384</td>\n",
       "      <td>0.000000</td>\n",
       "      <td>0.000000</td>\n",
       "      <td>0.0</td>\n",
       "      <td>0.093325</td>\n",
       "      <td>0.000000</td>\n",
       "      <td>0.113426</td>\n",
       "      <td>0.0</td>\n",
       "    </tr>\n",
       "    <tr>\n",
       "      <th>40001</th>\n",
       "      <td>0.000000</td>\n",
       "      <td>0.000000</td>\n",
       "      <td>0.000000</td>\n",
       "      <td>0.000000</td>\n",
       "      <td>0.000000</td>\n",
       "      <td>0.0</td>\n",
       "      <td>0.000479</td>\n",
       "      <td>0.000000</td>\n",
       "      <td>0.000000</td>\n",
       "      <td>0.0</td>\n",
       "      <td>0.379977</td>\n",
       "      <td>0.277133</td>\n",
       "      <td>0.000000</td>\n",
       "      <td>0.000000</td>\n",
       "      <td>0.000000</td>\n",
       "      <td>0.0</td>\n",
       "      <td>0.175674</td>\n",
       "      <td>0.057527</td>\n",
       "      <td>0.109210</td>\n",
       "      <td>0.0</td>\n",
       "    </tr>\n",
       "    <tr>\n",
       "      <th>40002</th>\n",
       "      <td>0.000000</td>\n",
       "      <td>0.000000</td>\n",
       "      <td>0.138698</td>\n",
       "      <td>0.000000</td>\n",
       "      <td>0.000000</td>\n",
       "      <td>0.0</td>\n",
       "      <td>0.000000</td>\n",
       "      <td>0.000000</td>\n",
       "      <td>0.000000</td>\n",
       "      <td>0.0</td>\n",
       "      <td>0.000000</td>\n",
       "      <td>0.338437</td>\n",
       "      <td>0.000000</td>\n",
       "      <td>0.000000</td>\n",
       "      <td>0.000000</td>\n",
       "      <td>0.0</td>\n",
       "      <td>0.000000</td>\n",
       "      <td>0.522866</td>\n",
       "      <td>0.000000</td>\n",
       "      <td>0.0</td>\n",
       "    </tr>\n",
       "    <tr>\n",
       "      <th>40003</th>\n",
       "      <td>0.000000</td>\n",
       "      <td>0.000000</td>\n",
       "      <td>0.173821</td>\n",
       "      <td>0.000000</td>\n",
       "      <td>0.000000</td>\n",
       "      <td>0.0</td>\n",
       "      <td>0.055421</td>\n",
       "      <td>0.090266</td>\n",
       "      <td>0.000000</td>\n",
       "      <td>0.0</td>\n",
       "      <td>0.000000</td>\n",
       "      <td>0.000000</td>\n",
       "      <td>0.000000</td>\n",
       "      <td>0.000000</td>\n",
       "      <td>0.559687</td>\n",
       "      <td>0.0</td>\n",
       "      <td>0.000000</td>\n",
       "      <td>0.000000</td>\n",
       "      <td>0.120805</td>\n",
       "      <td>0.0</td>\n",
       "    </tr>\n",
       "    <tr>\n",
       "      <th>40004</th>\n",
       "      <td>0.000000</td>\n",
       "      <td>0.042668</td>\n",
       "      <td>0.069063</td>\n",
       "      <td>0.000000</td>\n",
       "      <td>0.037863</td>\n",
       "      <td>0.0</td>\n",
       "      <td>0.000000</td>\n",
       "      <td>0.000000</td>\n",
       "      <td>0.000000</td>\n",
       "      <td>0.0</td>\n",
       "      <td>0.469251</td>\n",
       "      <td>0.000000</td>\n",
       "      <td>0.000000</td>\n",
       "      <td>0.194784</td>\n",
       "      <td>0.136665</td>\n",
       "      <td>0.0</td>\n",
       "      <td>0.013406</td>\n",
       "      <td>0.036301</td>\n",
       "      <td>0.000000</td>\n",
       "      <td>0.0</td>\n",
       "    </tr>\n",
       "  </tbody>\n",
       "</table>\n",
       "</div>"
      ],
      "text/plain": [
       "        topic_0   topic_1   topic_2   topic_3   topic_4  topic_5   topic_6  \\\n",
       "40000  0.135803  0.000000  0.026112  0.007716  0.134519      0.0  0.000000   \n",
       "40001  0.000000  0.000000  0.000000  0.000000  0.000000      0.0  0.000479   \n",
       "40002  0.000000  0.000000  0.138698  0.000000  0.000000      0.0  0.000000   \n",
       "40003  0.000000  0.000000  0.173821  0.000000  0.000000      0.0  0.055421   \n",
       "40004  0.000000  0.042668  0.069063  0.000000  0.037863      0.0  0.000000   \n",
       "\n",
       "        topic_7   topic_8  topic_9  topic_10  topic_11  topic_12  topic_13  \\\n",
       "40000  0.000000  0.408715      0.0  0.000000  0.000000  0.080384  0.000000   \n",
       "40001  0.000000  0.000000      0.0  0.379977  0.277133  0.000000  0.000000   \n",
       "40002  0.000000  0.000000      0.0  0.000000  0.338437  0.000000  0.000000   \n",
       "40003  0.090266  0.000000      0.0  0.000000  0.000000  0.000000  0.000000   \n",
       "40004  0.000000  0.000000      0.0  0.469251  0.000000  0.000000  0.194784   \n",
       "\n",
       "       topic_14  topic_15  topic_16  topic_17  topic_18  topic_19  \n",
       "40000  0.000000       0.0  0.093325  0.000000  0.113426       0.0  \n",
       "40001  0.000000       0.0  0.175674  0.057527  0.109210       0.0  \n",
       "40002  0.000000       0.0  0.000000  0.522866  0.000000       0.0  \n",
       "40003  0.559687       0.0  0.000000  0.000000  0.120805       0.0  \n",
       "40004  0.136665       0.0  0.013406  0.036301  0.000000       0.0  "
      ]
     },
     "execution_count": 24,
     "metadata": {},
     "output_type": "execute_result"
    }
   ],
   "source": [
    "theta = best_model.transform(batch_vectorizer=batch_vectorizer)\n",
    "theta = theta.T\n",
    "theta.head()"
   ]
  },
  {
   "cell_type": "code",
   "execution_count": null,
   "metadata": {},
   "outputs": [],
   "source": []
  },
  {
   "cell_type": "markdown",
   "metadata": {},
   "source": [
    "## DataViz"
   ]
  },
  {
   "cell_type": "code",
   "execution_count": 25,
   "metadata": {
    "ExecuteTime": {
     "end_time": "2019-03-12T23:03:38.888325Z",
     "start_time": "2019-03-12T23:03:38.865500Z"
    }
   },
   "outputs": [
    {
     "data": {
      "text/html": [
       "<div>\n",
       "<style scoped>\n",
       "    .dataframe tbody tr th:only-of-type {\n",
       "        vertical-align: middle;\n",
       "    }\n",
       "\n",
       "    .dataframe tbody tr th {\n",
       "        vertical-align: top;\n",
       "    }\n",
       "\n",
       "    .dataframe thead th {\n",
       "        text-align: right;\n",
       "    }\n",
       "</style>\n",
       "<table border=\"1\" class=\"dataframe\">\n",
       "  <thead>\n",
       "    <tr style=\"text-align: right;\">\n",
       "      <th></th>\n",
       "      <th>docID</th>\n",
       "      <th>year</th>\n",
       "      <th>month</th>\n",
       "      <th>topic_0</th>\n",
       "      <th>topic_1</th>\n",
       "      <th>topic_2</th>\n",
       "      <th>topic_3</th>\n",
       "      <th>topic_4</th>\n",
       "      <th>topic_5</th>\n",
       "      <th>topic_6</th>\n",
       "      <th>...</th>\n",
       "      <th>topic_10</th>\n",
       "      <th>topic_11</th>\n",
       "      <th>topic_12</th>\n",
       "      <th>topic_13</th>\n",
       "      <th>topic_14</th>\n",
       "      <th>topic_15</th>\n",
       "      <th>topic_16</th>\n",
       "      <th>topic_17</th>\n",
       "      <th>topic_18</th>\n",
       "      <th>topic_19</th>\n",
       "    </tr>\n",
       "  </thead>\n",
       "  <tbody>\n",
       "    <tr>\n",
       "      <th>0</th>\n",
       "      <td>0</td>\n",
       "      <td>1999</td>\n",
       "      <td>10</td>\n",
       "      <td>0.0</td>\n",
       "      <td>0.000000</td>\n",
       "      <td>0.0</td>\n",
       "      <td>0.000000</td>\n",
       "      <td>0.000000</td>\n",
       "      <td>0.438785</td>\n",
       "      <td>0.143952</td>\n",
       "      <td>...</td>\n",
       "      <td>0.0</td>\n",
       "      <td>0.0</td>\n",
       "      <td>0.000000</td>\n",
       "      <td>0.0</td>\n",
       "      <td>0.0</td>\n",
       "      <td>0.0</td>\n",
       "      <td>0.0</td>\n",
       "      <td>0.0</td>\n",
       "      <td>0.000000</td>\n",
       "      <td>0.000000</td>\n",
       "    </tr>\n",
       "    <tr>\n",
       "      <th>1</th>\n",
       "      <td>1</td>\n",
       "      <td>1999</td>\n",
       "      <td>10</td>\n",
       "      <td>0.0</td>\n",
       "      <td>0.000000</td>\n",
       "      <td>0.0</td>\n",
       "      <td>0.000000</td>\n",
       "      <td>0.074627</td>\n",
       "      <td>0.010812</td>\n",
       "      <td>0.000000</td>\n",
       "      <td>...</td>\n",
       "      <td>0.0</td>\n",
       "      <td>0.0</td>\n",
       "      <td>0.180562</td>\n",
       "      <td>0.0</td>\n",
       "      <td>0.0</td>\n",
       "      <td>0.0</td>\n",
       "      <td>0.0</td>\n",
       "      <td>0.0</td>\n",
       "      <td>0.280058</td>\n",
       "      <td>0.000000</td>\n",
       "    </tr>\n",
       "    <tr>\n",
       "      <th>2</th>\n",
       "      <td>2</td>\n",
       "      <td>1999</td>\n",
       "      <td>10</td>\n",
       "      <td>0.0</td>\n",
       "      <td>0.000000</td>\n",
       "      <td>0.0</td>\n",
       "      <td>0.068604</td>\n",
       "      <td>0.028178</td>\n",
       "      <td>0.000000</td>\n",
       "      <td>0.000000</td>\n",
       "      <td>...</td>\n",
       "      <td>0.0</td>\n",
       "      <td>0.0</td>\n",
       "      <td>0.491074</td>\n",
       "      <td>0.0</td>\n",
       "      <td>0.0</td>\n",
       "      <td>0.0</td>\n",
       "      <td>0.0</td>\n",
       "      <td>0.0</td>\n",
       "      <td>0.370526</td>\n",
       "      <td>0.000000</td>\n",
       "    </tr>\n",
       "    <tr>\n",
       "      <th>3</th>\n",
       "      <td>3</td>\n",
       "      <td>1999</td>\n",
       "      <td>10</td>\n",
       "      <td>0.0</td>\n",
       "      <td>0.000000</td>\n",
       "      <td>0.0</td>\n",
       "      <td>0.000000</td>\n",
       "      <td>0.000000</td>\n",
       "      <td>0.000000</td>\n",
       "      <td>0.000000</td>\n",
       "      <td>...</td>\n",
       "      <td>0.0</td>\n",
       "      <td>0.0</td>\n",
       "      <td>0.000000</td>\n",
       "      <td>0.0</td>\n",
       "      <td>0.0</td>\n",
       "      <td>0.0</td>\n",
       "      <td>0.0</td>\n",
       "      <td>0.0</td>\n",
       "      <td>0.025450</td>\n",
       "      <td>0.702995</td>\n",
       "    </tr>\n",
       "    <tr>\n",
       "      <th>4</th>\n",
       "      <td>4</td>\n",
       "      <td>1999</td>\n",
       "      <td>10</td>\n",
       "      <td>0.0</td>\n",
       "      <td>0.065249</td>\n",
       "      <td>0.0</td>\n",
       "      <td>0.000000</td>\n",
       "      <td>0.210605</td>\n",
       "      <td>0.071945</td>\n",
       "      <td>0.000000</td>\n",
       "      <td>...</td>\n",
       "      <td>0.0</td>\n",
       "      <td>0.0</td>\n",
       "      <td>0.000000</td>\n",
       "      <td>0.0</td>\n",
       "      <td>0.0</td>\n",
       "      <td>0.0</td>\n",
       "      <td>0.0</td>\n",
       "      <td>0.0</td>\n",
       "      <td>0.000000</td>\n",
       "      <td>0.000000</td>\n",
       "    </tr>\n",
       "  </tbody>\n",
       "</table>\n",
       "<p>5 rows × 23 columns</p>\n",
       "</div>"
      ],
      "text/plain": [
       "   docID  year  month  topic_0   topic_1  topic_2   topic_3   topic_4  \\\n",
       "0      0  1999     10      0.0  0.000000      0.0  0.000000  0.000000   \n",
       "1      1  1999     10      0.0  0.000000      0.0  0.000000  0.074627   \n",
       "2      2  1999     10      0.0  0.000000      0.0  0.068604  0.028178   \n",
       "3      3  1999     10      0.0  0.000000      0.0  0.000000  0.000000   \n",
       "4      4  1999     10      0.0  0.065249      0.0  0.000000  0.210605   \n",
       "\n",
       "    topic_5   topic_6    ...     topic_10  topic_11  topic_12  topic_13  \\\n",
       "0  0.438785  0.143952    ...          0.0       0.0  0.000000       0.0   \n",
       "1  0.010812  0.000000    ...          0.0       0.0  0.180562       0.0   \n",
       "2  0.000000  0.000000    ...          0.0       0.0  0.491074       0.0   \n",
       "3  0.000000  0.000000    ...          0.0       0.0  0.000000       0.0   \n",
       "4  0.071945  0.000000    ...          0.0       0.0  0.000000       0.0   \n",
       "\n",
       "   topic_14  topic_15  topic_16  topic_17  topic_18  topic_19  \n",
       "0       0.0       0.0       0.0       0.0  0.000000  0.000000  \n",
       "1       0.0       0.0       0.0       0.0  0.280058  0.000000  \n",
       "2       0.0       0.0       0.0       0.0  0.370526  0.000000  \n",
       "3       0.0       0.0       0.0       0.0  0.025450  0.702995  \n",
       "4       0.0       0.0       0.0       0.0  0.000000  0.000000  \n",
       "\n",
       "[5 rows x 23 columns]"
      ]
     },
     "execution_count": 25,
     "metadata": {},
     "output_type": "execute_result"
    }
   ],
   "source": [
    "joined = id_date.join(theta)\n",
    "joined.head()"
   ]
  },
  {
   "cell_type": "code",
   "execution_count": 26,
   "metadata": {
    "ExecuteTime": {
     "end_time": "2019-03-12T23:03:40.753658Z",
     "start_time": "2019-03-12T23:03:40.718500Z"
    }
   },
   "outputs": [
    {
     "name": "stdout",
     "output_type": "stream",
     "text": [
      "gb.shape: (227, 20)\n"
     ]
    },
    {
     "data": {
      "text/html": [
       "<div>\n",
       "<style scoped>\n",
       "    .dataframe tbody tr th:only-of-type {\n",
       "        vertical-align: middle;\n",
       "    }\n",
       "\n",
       "    .dataframe tbody tr th {\n",
       "        vertical-align: top;\n",
       "    }\n",
       "\n",
       "    .dataframe thead th {\n",
       "        text-align: right;\n",
       "    }\n",
       "</style>\n",
       "<table border=\"1\" class=\"dataframe\">\n",
       "  <thead>\n",
       "    <tr style=\"text-align: right;\">\n",
       "      <th></th>\n",
       "      <th></th>\n",
       "      <th>topic_0</th>\n",
       "      <th>topic_1</th>\n",
       "      <th>topic_2</th>\n",
       "      <th>topic_3</th>\n",
       "      <th>topic_4</th>\n",
       "      <th>topic_5</th>\n",
       "      <th>topic_6</th>\n",
       "      <th>topic_7</th>\n",
       "      <th>topic_8</th>\n",
       "      <th>topic_9</th>\n",
       "      <th>topic_10</th>\n",
       "      <th>topic_11</th>\n",
       "      <th>topic_12</th>\n",
       "      <th>topic_13</th>\n",
       "      <th>topic_14</th>\n",
       "      <th>topic_15</th>\n",
       "      <th>topic_16</th>\n",
       "      <th>topic_17</th>\n",
       "      <th>topic_18</th>\n",
       "      <th>topic_19</th>\n",
       "    </tr>\n",
       "    <tr>\n",
       "      <th>year</th>\n",
       "      <th>month</th>\n",
       "      <th></th>\n",
       "      <th></th>\n",
       "      <th></th>\n",
       "      <th></th>\n",
       "      <th></th>\n",
       "      <th></th>\n",
       "      <th></th>\n",
       "      <th></th>\n",
       "      <th></th>\n",
       "      <th></th>\n",
       "      <th></th>\n",
       "      <th></th>\n",
       "      <th></th>\n",
       "      <th></th>\n",
       "      <th></th>\n",
       "      <th></th>\n",
       "      <th></th>\n",
       "      <th></th>\n",
       "      <th></th>\n",
       "      <th></th>\n",
       "    </tr>\n",
       "  </thead>\n",
       "  <tbody>\n",
       "    <tr>\n",
       "      <th rowspan=\"4\" valign=\"top\">1999</th>\n",
       "      <th>9</th>\n",
       "      <td>1.630274</td>\n",
       "      <td>0.038253</td>\n",
       "      <td>0.366227</td>\n",
       "      <td>1.037740</td>\n",
       "      <td>1.469666</td>\n",
       "      <td>0.559718</td>\n",
       "      <td>0.234594</td>\n",
       "      <td>0.027878</td>\n",
       "      <td>0.547676</td>\n",
       "      <td>1.419557</td>\n",
       "      <td>0.803937</td>\n",
       "      <td>0.347121</td>\n",
       "      <td>1.945520</td>\n",
       "      <td>0.326781</td>\n",
       "      <td>0.000000</td>\n",
       "      <td>0.020062</td>\n",
       "      <td>0.843780</td>\n",
       "      <td>0.087788</td>\n",
       "      <td>0.416944</td>\n",
       "      <td>0.876483</td>\n",
       "    </tr>\n",
       "    <tr>\n",
       "      <th>10</th>\n",
       "      <td>0.188645</td>\n",
       "      <td>1.034773</td>\n",
       "      <td>0.067860</td>\n",
       "      <td>0.935604</td>\n",
       "      <td>2.299511</td>\n",
       "      <td>1.339157</td>\n",
       "      <td>0.143952</td>\n",
       "      <td>0.341456</td>\n",
       "      <td>1.226097</td>\n",
       "      <td>1.886785</td>\n",
       "      <td>0.381023</td>\n",
       "      <td>0.000000</td>\n",
       "      <td>2.321607</td>\n",
       "      <td>0.374877</td>\n",
       "      <td>0.000000</td>\n",
       "      <td>0.000000</td>\n",
       "      <td>0.577257</td>\n",
       "      <td>0.010149</td>\n",
       "      <td>1.114016</td>\n",
       "      <td>0.757231</td>\n",
       "    </tr>\n",
       "    <tr>\n",
       "      <th>11</th>\n",
       "      <td>0.607137</td>\n",
       "      <td>1.240952</td>\n",
       "      <td>0.151408</td>\n",
       "      <td>0.801717</td>\n",
       "      <td>4.593189</td>\n",
       "      <td>0.066601</td>\n",
       "      <td>0.138923</td>\n",
       "      <td>0.000000</td>\n",
       "      <td>0.008567</td>\n",
       "      <td>1.573944</td>\n",
       "      <td>1.172009</td>\n",
       "      <td>0.571105</td>\n",
       "      <td>1.874379</td>\n",
       "      <td>0.000000</td>\n",
       "      <td>0.016485</td>\n",
       "      <td>0.415920</td>\n",
       "      <td>0.702369</td>\n",
       "      <td>0.138864</td>\n",
       "      <td>0.810783</td>\n",
       "      <td>0.115648</td>\n",
       "    </tr>\n",
       "    <tr>\n",
       "      <th>12</th>\n",
       "      <td>0.812545</td>\n",
       "      <td>0.423061</td>\n",
       "      <td>0.039731</td>\n",
       "      <td>3.278667</td>\n",
       "      <td>3.626335</td>\n",
       "      <td>0.806074</td>\n",
       "      <td>0.433786</td>\n",
       "      <td>0.238665</td>\n",
       "      <td>1.957175</td>\n",
       "      <td>2.047309</td>\n",
       "      <td>1.930427</td>\n",
       "      <td>0.051408</td>\n",
       "      <td>0.800894</td>\n",
       "      <td>0.674592</td>\n",
       "      <td>0.222349</td>\n",
       "      <td>0.032734</td>\n",
       "      <td>0.132533</td>\n",
       "      <td>0.000000</td>\n",
       "      <td>1.031577</td>\n",
       "      <td>1.460137</td>\n",
       "    </tr>\n",
       "    <tr>\n",
       "      <th>2000</th>\n",
       "      <th>1</th>\n",
       "      <td>0.314056</td>\n",
       "      <td>1.275881</td>\n",
       "      <td>0.057516</td>\n",
       "      <td>1.291507</td>\n",
       "      <td>0.442988</td>\n",
       "      <td>0.145170</td>\n",
       "      <td>0.053713</td>\n",
       "      <td>0.000000</td>\n",
       "      <td>2.240125</td>\n",
       "      <td>1.110311</td>\n",
       "      <td>0.549037</td>\n",
       "      <td>0.000000</td>\n",
       "      <td>0.376612</td>\n",
       "      <td>0.204093</td>\n",
       "      <td>0.010449</td>\n",
       "      <td>0.050918</td>\n",
       "      <td>0.133986</td>\n",
       "      <td>0.514569</td>\n",
       "      <td>0.860296</td>\n",
       "      <td>0.368773</td>\n",
       "    </tr>\n",
       "  </tbody>\n",
       "</table>\n",
       "</div>"
      ],
      "text/plain": [
       "             topic_0   topic_1   topic_2   topic_3   topic_4   topic_5  \\\n",
       "year month                                                               \n",
       "1999 9      1.630274  0.038253  0.366227  1.037740  1.469666  0.559718   \n",
       "     10     0.188645  1.034773  0.067860  0.935604  2.299511  1.339157   \n",
       "     11     0.607137  1.240952  0.151408  0.801717  4.593189  0.066601   \n",
       "     12     0.812545  0.423061  0.039731  3.278667  3.626335  0.806074   \n",
       "2000 1      0.314056  1.275881  0.057516  1.291507  0.442988  0.145170   \n",
       "\n",
       "             topic_6   topic_7   topic_8   topic_9  topic_10  topic_11  \\\n",
       "year month                                                               \n",
       "1999 9      0.234594  0.027878  0.547676  1.419557  0.803937  0.347121   \n",
       "     10     0.143952  0.341456  1.226097  1.886785  0.381023  0.000000   \n",
       "     11     0.138923  0.000000  0.008567  1.573944  1.172009  0.571105   \n",
       "     12     0.433786  0.238665  1.957175  2.047309  1.930427  0.051408   \n",
       "2000 1      0.053713  0.000000  2.240125  1.110311  0.549037  0.000000   \n",
       "\n",
       "            topic_12  topic_13  topic_14  topic_15  topic_16  topic_17  \\\n",
       "year month                                                               \n",
       "1999 9      1.945520  0.326781  0.000000  0.020062  0.843780  0.087788   \n",
       "     10     2.321607  0.374877  0.000000  0.000000  0.577257  0.010149   \n",
       "     11     1.874379  0.000000  0.016485  0.415920  0.702369  0.138864   \n",
       "     12     0.800894  0.674592  0.222349  0.032734  0.132533  0.000000   \n",
       "2000 1      0.376612  0.204093  0.010449  0.050918  0.133986  0.514569   \n",
       "\n",
       "            topic_18  topic_19  \n",
       "year month                      \n",
       "1999 9      0.416944  0.876483  \n",
       "     10     1.114016  0.757231  \n",
       "     11     0.810783  0.115648  \n",
       "     12     1.031577  1.460137  \n",
       "2000 1      0.860296  0.368773  "
      ]
     },
     "execution_count": 26,
     "metadata": {},
     "output_type": "execute_result"
    }
   ],
   "source": [
    "topics = ['topic_{}'.format(i) for i in range(select_topics)]\n",
    "gb = joined.groupby(['year', 'month'])[topics].sum()\n",
    "print(f'gb.shape: {gb.shape}')\n",
    "gb.head()"
   ]
  },
  {
   "cell_type": "markdown",
   "metadata": {},
   "source": [
    "### straightforward matrix heatmap"
   ]
  },
  {
   "cell_type": "code",
   "execution_count": 27,
   "metadata": {
    "ExecuteTime": {
     "end_time": "2019-03-12T23:03:43.237526Z",
     "start_time": "2019-03-12T23:03:42.763918Z"
    },
    "scrolled": true
   },
   "outputs": [
    {
     "data": {
      "text/plain": [
       "<matplotlib.image.AxesImage at 0x7f4964399828>"
      ]
     },
     "execution_count": 27,
     "metadata": {},
     "output_type": "execute_result"
    },
    {
     "data": {
      "image/png": "[encoded data removed]",
      "text/plain": [
       "<Figure size 720x2880 with 1 Axes>"
      ]
     },
     "metadata": {
      "needs_background": "light"
     },
     "output_type": "display_data"
    }
   ],
   "source": [
    "plt.figure(figsize=(10, 40))\n",
    "plt.imshow(gb[topics])"
   ]
  },
  {
   "cell_type": "code",
   "execution_count": null,
   "metadata": {},
   "outputs": [],
   "source": []
  },
  {
   "cell_type": "markdown",
   "metadata": {},
   "source": [
    "## pygal"
   ]
  },
  {
   "cell_type": "code",
   "execution_count": 40,
   "metadata": {
    "ExecuteTime": {
     "end_time": "2019-02-03T14:14:11.696393Z",
     "start_time": "2019-02-03T14:14:11.646634Z"
    }
   },
   "outputs": [],
   "source": [
    "import pygal\n",
    "from IPython.display import SVG, HTML"
   ]
  },
  {
   "cell_type": "code",
   "execution_count": 41,
   "metadata": {
    "ExecuteTime": {
     "end_time": "2019-02-03T14:14:12.166275Z",
     "start_time": "2019-02-03T14:14:12.159421Z"
    }
   },
   "outputs": [],
   "source": [
    "html_pygal = \"\"\"\n",
    "<!DOCTYPE html>\n",
    "<html>\n",
    "  <head>\n",
    "  <script type=\"text/javascript\" src=\"http://kozea.github.com/pygal.js/javascripts/svg.jquery.js\"></script>\n",
    "  <script type=\"text/javascript\" src=\"http://kozea.github.com/pygal.js/javascripts/pygal-tooltips.js\"></script>\n",
    "    <!-- ... -->\n",
    "  </head>\n",
    "  <body>\n",
    "    <figure>\n",
    "      {pygal_render}\n",
    "    </figure>\n",
    "  </body>\n",
    "</html>\n",
    "\"\"\""
   ]
  },
  {
   "cell_type": "code",
   "execution_count": null,
   "metadata": {
    "ExecuteTime": {
     "end_time": "2019-02-03T14:14:12.775072Z",
     "start_time": "2019-02-03T14:14:12.633646Z"
    },
    "scrolled": false
   },
   "outputs": [],
   "source": [
    "line_chart = pygal.StackedLine(fill=True, show_dots=False)\n",
    "line_chart.title = 'Topics'\n",
    "for topic in topics:\n",
    "    line_chart.add(topic, gb[topic].values)\n",
    "    \n",
    "HTML(html_pygal.format(pygal_render=line_chart.render(is_unicode=True)))"
   ]
  },
  {
   "cell_type": "code",
   "execution_count": 43,
   "metadata": {
    "ExecuteTime": {
     "end_time": "2019-02-03T14:14:13.340323Z",
     "start_time": "2019-02-03T14:14:13.215222Z"
    }
   },
   "outputs": [],
   "source": [
    "line_chart.render_to_file(f'data/visualization/{name_dataset}_pygal.svg')"
   ]
  },
  {
   "cell_type": "markdown",
   "metadata": {},
   "source": [
    "## joypy"
   ]
  },
  {
   "cell_type": "code",
   "execution_count": 44,
   "metadata": {
    "ExecuteTime": {
     "end_time": "2019-02-03T14:14:16.896875Z",
     "start_time": "2019-02-03T14:14:16.888706Z"
    }
   },
   "outputs": [],
   "source": [
    "import joypy # !pip install joypy"
   ]
  },
  {
   "cell_type": "code",
   "execution_count": 28,
   "metadata": {
    "ExecuteTime": {
     "end_time": "2019-03-12T23:03:47.265776Z",
     "start_time": "2019-03-12T23:03:47.244123Z"
    },
    "scrolled": true
   },
   "outputs": [
    {
     "name": "stdout",
     "output_type": "stream",
     "text": [
      "(51107, 23)\n"
     ]
    },
    {
     "data": {
      "text/html": [
       "<div>\n",
       "<style scoped>\n",
       "    .dataframe tbody tr th:only-of-type {\n",
       "        vertical-align: middle;\n",
       "    }\n",
       "\n",
       "    .dataframe tbody tr th {\n",
       "        vertical-align: top;\n",
       "    }\n",
       "\n",
       "    .dataframe thead th {\n",
       "        text-align: right;\n",
       "    }\n",
       "</style>\n",
       "<table border=\"1\" class=\"dataframe\">\n",
       "  <thead>\n",
       "    <tr style=\"text-align: right;\">\n",
       "      <th></th>\n",
       "      <th>docID</th>\n",
       "      <th>year</th>\n",
       "      <th>month</th>\n",
       "      <th>topic_0</th>\n",
       "      <th>topic_1</th>\n",
       "      <th>topic_2</th>\n",
       "      <th>topic_3</th>\n",
       "      <th>topic_4</th>\n",
       "      <th>topic_5</th>\n",
       "      <th>topic_6</th>\n",
       "      <th>...</th>\n",
       "      <th>topic_10</th>\n",
       "      <th>topic_11</th>\n",
       "      <th>topic_12</th>\n",
       "      <th>topic_13</th>\n",
       "      <th>topic_14</th>\n",
       "      <th>topic_15</th>\n",
       "      <th>topic_16</th>\n",
       "      <th>topic_17</th>\n",
       "      <th>topic_18</th>\n",
       "      <th>topic_19</th>\n",
       "    </tr>\n",
       "  </thead>\n",
       "  <tbody>\n",
       "    <tr>\n",
       "      <th>0</th>\n",
       "      <td>0</td>\n",
       "      <td>1999</td>\n",
       "      <td>10</td>\n",
       "      <td>0.0</td>\n",
       "      <td>0.000000</td>\n",
       "      <td>0.0</td>\n",
       "      <td>0.000000</td>\n",
       "      <td>0.000000</td>\n",
       "      <td>0.438785</td>\n",
       "      <td>0.143952</td>\n",
       "      <td>...</td>\n",
       "      <td>0.0</td>\n",
       "      <td>0.0</td>\n",
       "      <td>0.000000</td>\n",
       "      <td>0.0</td>\n",
       "      <td>0.0</td>\n",
       "      <td>0.0</td>\n",
       "      <td>0.0</td>\n",
       "      <td>0.0</td>\n",
       "      <td>0.000000</td>\n",
       "      <td>0.000000</td>\n",
       "    </tr>\n",
       "    <tr>\n",
       "      <th>1</th>\n",
       "      <td>1</td>\n",
       "      <td>1999</td>\n",
       "      <td>10</td>\n",
       "      <td>0.0</td>\n",
       "      <td>0.000000</td>\n",
       "      <td>0.0</td>\n",
       "      <td>0.000000</td>\n",
       "      <td>0.074627</td>\n",
       "      <td>0.010812</td>\n",
       "      <td>0.000000</td>\n",
       "      <td>...</td>\n",
       "      <td>0.0</td>\n",
       "      <td>0.0</td>\n",
       "      <td>0.180562</td>\n",
       "      <td>0.0</td>\n",
       "      <td>0.0</td>\n",
       "      <td>0.0</td>\n",
       "      <td>0.0</td>\n",
       "      <td>0.0</td>\n",
       "      <td>0.280058</td>\n",
       "      <td>0.000000</td>\n",
       "    </tr>\n",
       "    <tr>\n",
       "      <th>2</th>\n",
       "      <td>2</td>\n",
       "      <td>1999</td>\n",
       "      <td>10</td>\n",
       "      <td>0.0</td>\n",
       "      <td>0.000000</td>\n",
       "      <td>0.0</td>\n",
       "      <td>0.068604</td>\n",
       "      <td>0.028178</td>\n",
       "      <td>0.000000</td>\n",
       "      <td>0.000000</td>\n",
       "      <td>...</td>\n",
       "      <td>0.0</td>\n",
       "      <td>0.0</td>\n",
       "      <td>0.491074</td>\n",
       "      <td>0.0</td>\n",
       "      <td>0.0</td>\n",
       "      <td>0.0</td>\n",
       "      <td>0.0</td>\n",
       "      <td>0.0</td>\n",
       "      <td>0.370526</td>\n",
       "      <td>0.000000</td>\n",
       "    </tr>\n",
       "    <tr>\n",
       "      <th>3</th>\n",
       "      <td>3</td>\n",
       "      <td>1999</td>\n",
       "      <td>10</td>\n",
       "      <td>0.0</td>\n",
       "      <td>0.000000</td>\n",
       "      <td>0.0</td>\n",
       "      <td>0.000000</td>\n",
       "      <td>0.000000</td>\n",
       "      <td>0.000000</td>\n",
       "      <td>0.000000</td>\n",
       "      <td>...</td>\n",
       "      <td>0.0</td>\n",
       "      <td>0.0</td>\n",
       "      <td>0.000000</td>\n",
       "      <td>0.0</td>\n",
       "      <td>0.0</td>\n",
       "      <td>0.0</td>\n",
       "      <td>0.0</td>\n",
       "      <td>0.0</td>\n",
       "      <td>0.025450</td>\n",
       "      <td>0.702995</td>\n",
       "    </tr>\n",
       "    <tr>\n",
       "      <th>4</th>\n",
       "      <td>4</td>\n",
       "      <td>1999</td>\n",
       "      <td>10</td>\n",
       "      <td>0.0</td>\n",
       "      <td>0.065249</td>\n",
       "      <td>0.0</td>\n",
       "      <td>0.000000</td>\n",
       "      <td>0.210605</td>\n",
       "      <td>0.071945</td>\n",
       "      <td>0.000000</td>\n",
       "      <td>...</td>\n",
       "      <td>0.0</td>\n",
       "      <td>0.0</td>\n",
       "      <td>0.000000</td>\n",
       "      <td>0.0</td>\n",
       "      <td>0.0</td>\n",
       "      <td>0.0</td>\n",
       "      <td>0.0</td>\n",
       "      <td>0.0</td>\n",
       "      <td>0.000000</td>\n",
       "      <td>0.000000</td>\n",
       "    </tr>\n",
       "  </tbody>\n",
       "</table>\n",
       "<p>5 rows × 23 columns</p>\n",
       "</div>"
      ],
      "text/plain": [
       "   docID  year  month  topic_0   topic_1  topic_2   topic_3   topic_4  \\\n",
       "0      0  1999     10      0.0  0.000000      0.0  0.000000  0.000000   \n",
       "1      1  1999     10      0.0  0.000000      0.0  0.000000  0.074627   \n",
       "2      2  1999     10      0.0  0.000000      0.0  0.068604  0.028178   \n",
       "3      3  1999     10      0.0  0.000000      0.0  0.000000  0.000000   \n",
       "4      4  1999     10      0.0  0.065249      0.0  0.000000  0.210605   \n",
       "\n",
       "    topic_5   topic_6    ...     topic_10  topic_11  topic_12  topic_13  \\\n",
       "0  0.438785  0.143952    ...          0.0       0.0  0.000000       0.0   \n",
       "1  0.010812  0.000000    ...          0.0       0.0  0.180562       0.0   \n",
       "2  0.000000  0.000000    ...          0.0       0.0  0.491074       0.0   \n",
       "3  0.000000  0.000000    ...          0.0       0.0  0.000000       0.0   \n",
       "4  0.071945  0.000000    ...          0.0       0.0  0.000000       0.0   \n",
       "\n",
       "   topic_14  topic_15  topic_16  topic_17  topic_18  topic_19  \n",
       "0       0.0       0.0       0.0       0.0  0.000000  0.000000  \n",
       "1       0.0       0.0       0.0       0.0  0.280058  0.000000  \n",
       "2       0.0       0.0       0.0       0.0  0.370526  0.000000  \n",
       "3       0.0       0.0       0.0       0.0  0.025450  0.702995  \n",
       "4       0.0       0.0       0.0       0.0  0.000000  0.000000  \n",
       "\n",
       "[5 rows x 23 columns]"
      ]
     },
     "execution_count": 28,
     "metadata": {},
     "output_type": "execute_result"
    }
   ],
   "source": [
    "print(joined.shape)\n",
    "joined.head()"
   ]
  },
  {
   "cell_type": "code",
   "execution_count": 29,
   "metadata": {
    "ExecuteTime": {
     "end_time": "2019-03-12T23:03:55.399949Z",
     "start_time": "2019-03-12T23:03:54.295267Z"
    }
   },
   "outputs": [],
   "source": [
    "joined.to_csv(f'''./data/topicsProbability/{'-'.join(name_dataset.split('.'))}.csv''',index=False)"
   ]
  },
  {
   "cell_type": "code",
   "execution_count": 46,
   "metadata": {
    "ExecuteTime": {
     "end_time": "2019-02-03T14:14:20.130321Z",
     "start_time": "2019-02-03T14:14:18.066239Z"
    }
   },
   "outputs": [
    {
     "data": {
      "text/html": [
       "<div>\n",
       "<style scoped>\n",
       "    .dataframe tbody tr th:only-of-type {\n",
       "        vertical-align: middle;\n",
       "    }\n",
       "\n",
       "    .dataframe tbody tr th {\n",
       "        vertical-align: top;\n",
       "    }\n",
       "\n",
       "    .dataframe thead th {\n",
       "        text-align: right;\n",
       "    }\n",
       "</style>\n",
       "<table border=\"1\" class=\"dataframe\">\n",
       "  <thead>\n",
       "    <tr style=\"text-align: right;\">\n",
       "      <th></th>\n",
       "      <th>index</th>\n",
       "      <th>docID</th>\n",
       "      <th>year</th>\n",
       "      <th>month</th>\n",
       "      <th>topic_0</th>\n",
       "      <th>topic_1</th>\n",
       "      <th>topic_2</th>\n",
       "      <th>topic_3</th>\n",
       "      <th>topic_4</th>\n",
       "      <th>topic_5</th>\n",
       "      <th>...</th>\n",
       "      <th>topic_11</th>\n",
       "      <th>topic_12</th>\n",
       "      <th>topic_13</th>\n",
       "      <th>topic_14</th>\n",
       "      <th>topic_15</th>\n",
       "      <th>topic_16</th>\n",
       "      <th>topic_17</th>\n",
       "      <th>topic_18</th>\n",
       "      <th>topic_19</th>\n",
       "      <th>year_month</th>\n",
       "    </tr>\n",
       "  </thead>\n",
       "  <tbody>\n",
       "    <tr>\n",
       "      <th>0</th>\n",
       "      <td>0</td>\n",
       "      <td>0</td>\n",
       "      <td>1999</td>\n",
       "      <td>10</td>\n",
       "      <td>0.0</td>\n",
       "      <td>0.000000</td>\n",
       "      <td>0.0</td>\n",
       "      <td>0.000000</td>\n",
       "      <td>0.000000</td>\n",
       "      <td>0.000000</td>\n",
       "      <td>...</td>\n",
       "      <td>0.0</td>\n",
       "      <td>0.000000</td>\n",
       "      <td>0.0</td>\n",
       "      <td>0.0</td>\n",
       "      <td>0.0</td>\n",
       "      <td>0.0</td>\n",
       "      <td>0.0</td>\n",
       "      <td>0.000000</td>\n",
       "      <td>0.000000</td>\n",
       "      <td>1999-10-01</td>\n",
       "    </tr>\n",
       "    <tr>\n",
       "      <th>1</th>\n",
       "      <td>1</td>\n",
       "      <td>1</td>\n",
       "      <td>1999</td>\n",
       "      <td>10</td>\n",
       "      <td>0.0</td>\n",
       "      <td>0.000000</td>\n",
       "      <td>0.0</td>\n",
       "      <td>0.000000</td>\n",
       "      <td>0.059196</td>\n",
       "      <td>0.010513</td>\n",
       "      <td>...</td>\n",
       "      <td>0.0</td>\n",
       "      <td>0.207493</td>\n",
       "      <td>0.0</td>\n",
       "      <td>0.0</td>\n",
       "      <td>0.0</td>\n",
       "      <td>0.0</td>\n",
       "      <td>0.0</td>\n",
       "      <td>0.245232</td>\n",
       "      <td>0.018071</td>\n",
       "      <td>1999-10-01</td>\n",
       "    </tr>\n",
       "    <tr>\n",
       "      <th>2</th>\n",
       "      <td>2</td>\n",
       "      <td>2</td>\n",
       "      <td>1999</td>\n",
       "      <td>10</td>\n",
       "      <td>0.0</td>\n",
       "      <td>0.000000</td>\n",
       "      <td>0.0</td>\n",
       "      <td>0.084223</td>\n",
       "      <td>0.025833</td>\n",
       "      <td>0.000000</td>\n",
       "      <td>...</td>\n",
       "      <td>0.0</td>\n",
       "      <td>0.462890</td>\n",
       "      <td>0.0</td>\n",
       "      <td>0.0</td>\n",
       "      <td>0.0</td>\n",
       "      <td>0.0</td>\n",
       "      <td>0.0</td>\n",
       "      <td>0.345718</td>\n",
       "      <td>0.081335</td>\n",
       "      <td>1999-10-01</td>\n",
       "    </tr>\n",
       "    <tr>\n",
       "      <th>3</th>\n",
       "      <td>3</td>\n",
       "      <td>3</td>\n",
       "      <td>1999</td>\n",
       "      <td>10</td>\n",
       "      <td>0.0</td>\n",
       "      <td>0.000000</td>\n",
       "      <td>0.0</td>\n",
       "      <td>0.000000</td>\n",
       "      <td>0.000000</td>\n",
       "      <td>0.000000</td>\n",
       "      <td>...</td>\n",
       "      <td>0.0</td>\n",
       "      <td>0.000000</td>\n",
       "      <td>0.0</td>\n",
       "      <td>0.0</td>\n",
       "      <td>0.0</td>\n",
       "      <td>0.0</td>\n",
       "      <td>0.0</td>\n",
       "      <td>0.023920</td>\n",
       "      <td>0.714705</td>\n",
       "      <td>1999-10-01</td>\n",
       "    </tr>\n",
       "    <tr>\n",
       "      <th>4</th>\n",
       "      <td>4</td>\n",
       "      <td>4</td>\n",
       "      <td>1999</td>\n",
       "      <td>10</td>\n",
       "      <td>0.0</td>\n",
       "      <td>0.024062</td>\n",
       "      <td>0.0</td>\n",
       "      <td>0.000000</td>\n",
       "      <td>0.195096</td>\n",
       "      <td>0.099675</td>\n",
       "      <td>...</td>\n",
       "      <td>0.0</td>\n",
       "      <td>0.000000</td>\n",
       "      <td>0.0</td>\n",
       "      <td>0.0</td>\n",
       "      <td>0.0</td>\n",
       "      <td>0.0</td>\n",
       "      <td>0.0</td>\n",
       "      <td>0.000000</td>\n",
       "      <td>0.000000</td>\n",
       "      <td>1999-10-01</td>\n",
       "    </tr>\n",
       "  </tbody>\n",
       "</table>\n",
       "<p>5 rows × 25 columns</p>\n",
       "</div>"
      ],
      "text/plain": [
       "   index  docID  year  month  topic_0   topic_1  topic_2   topic_3   topic_4  \\\n",
       "0      0      0  1999     10      0.0  0.000000      0.0  0.000000  0.000000   \n",
       "1      1      1  1999     10      0.0  0.000000      0.0  0.000000  0.059196   \n",
       "2      2      2  1999     10      0.0  0.000000      0.0  0.084223  0.025833   \n",
       "3      3      3  1999     10      0.0  0.000000      0.0  0.000000  0.000000   \n",
       "4      4      4  1999     10      0.0  0.024062      0.0  0.000000  0.195096   \n",
       "\n",
       "    topic_5     ...      topic_11  topic_12  topic_13  topic_14  topic_15  \\\n",
       "0  0.000000     ...           0.0  0.000000       0.0       0.0       0.0   \n",
       "1  0.010513     ...           0.0  0.207493       0.0       0.0       0.0   \n",
       "2  0.000000     ...           0.0  0.462890       0.0       0.0       0.0   \n",
       "3  0.000000     ...           0.0  0.000000       0.0       0.0       0.0   \n",
       "4  0.099675     ...           0.0  0.000000       0.0       0.0       0.0   \n",
       "\n",
       "   topic_16  topic_17  topic_18  topic_19  year_month  \n",
       "0       0.0       0.0  0.000000  0.000000  1999-10-01  \n",
       "1       0.0       0.0  0.245232  0.018071  1999-10-01  \n",
       "2       0.0       0.0  0.345718  0.081335  1999-10-01  \n",
       "3       0.0       0.0  0.023920  0.714705  1999-10-01  \n",
       "4       0.0       0.0  0.000000  0.000000  1999-10-01  \n",
       "\n",
       "[5 rows x 25 columns]"
      ]
     },
     "execution_count": 46,
     "metadata": {},
     "output_type": "execute_result"
    }
   ],
   "source": [
    "joined['year_month'] = joined.apply(lambda x: str(int(x.year)) +'-'+ str(int(x.month)) + '-01', axis=1)\n",
    "joined.reset_index(inplace=True)\n",
    "\n",
    "joined.head()"
   ]
  },
  {
   "cell_type": "code",
   "execution_count": 47,
   "metadata": {
    "ExecuteTime": {
     "end_time": "2019-02-03T14:14:20.665878Z",
     "start_time": "2019-02-03T14:14:20.594023Z"
    }
   },
   "outputs": [
    {
     "name": "stdout",
     "output_type": "stream",
     "text": [
      "(1226568, 3)\n"
     ]
    },
    {
     "data": {
      "text/html": [
       "<div>\n",
       "<style scoped>\n",
       "    .dataframe tbody tr th:only-of-type {\n",
       "        vertical-align: middle;\n",
       "    }\n",
       "\n",
       "    .dataframe tbody tr th {\n",
       "        vertical-align: top;\n",
       "    }\n",
       "\n",
       "    .dataframe thead th {\n",
       "        text-align: right;\n",
       "    }\n",
       "</style>\n",
       "<table border=\"1\" class=\"dataframe\">\n",
       "  <thead>\n",
       "    <tr style=\"text-align: right;\">\n",
       "      <th></th>\n",
       "      <th>year_month</th>\n",
       "      <th>topic</th>\n",
       "      <th>text</th>\n",
       "    </tr>\n",
       "  </thead>\n",
       "  <tbody>\n",
       "    <tr>\n",
       "      <th>0</th>\n",
       "      <td>1999-10-01</td>\n",
       "      <td>index</td>\n",
       "      <td>0.0</td>\n",
       "    </tr>\n",
       "    <tr>\n",
       "      <th>1</th>\n",
       "      <td>1999-10-01</td>\n",
       "      <td>index</td>\n",
       "      <td>1.0</td>\n",
       "    </tr>\n",
       "    <tr>\n",
       "      <th>2</th>\n",
       "      <td>1999-10-01</td>\n",
       "      <td>index</td>\n",
       "      <td>2.0</td>\n",
       "    </tr>\n",
       "    <tr>\n",
       "      <th>3</th>\n",
       "      <td>1999-10-01</td>\n",
       "      <td>index</td>\n",
       "      <td>3.0</td>\n",
       "    </tr>\n",
       "    <tr>\n",
       "      <th>4</th>\n",
       "      <td>1999-10-01</td>\n",
       "      <td>index</td>\n",
       "      <td>4.0</td>\n",
       "    </tr>\n",
       "  </tbody>\n",
       "</table>\n",
       "</div>"
      ],
      "text/plain": [
       "   year_month  topic  text\n",
       "0  1999-10-01  index   0.0\n",
       "1  1999-10-01  index   1.0\n",
       "2  1999-10-01  index   2.0\n",
       "3  1999-10-01  index   3.0\n",
       "4  1999-10-01  index   4.0"
      ]
     },
     "execution_count": 47,
     "metadata": {},
     "output_type": "execute_result"
    }
   ],
   "source": [
    "joined_melt = joined.melt('year_month', var_name='topic', value_name='text')\n",
    "print(joined_melt.shape)\n",
    "joined_melt.head()"
   ]
  },
  {
   "cell_type": "code",
   "execution_count": 48,
   "metadata": {
    "ExecuteTime": {
     "end_time": "2019-02-03T14:14:21.685359Z",
     "start_time": "2019-02-03T14:14:21.163720Z"
    },
    "scrolled": true
   },
   "outputs": [
    {
     "name": "stdout",
     "output_type": "stream",
     "text": [
      "(1022140, 3)\n"
     ]
    },
    {
     "data": {
      "text/plain": [
       "topic_14    51107\n",
       "topic_18    51107\n",
       "topic_3     51107\n",
       "topic_11    51107\n",
       "topic_12    51107\n",
       "topic_8     51107\n",
       "topic_10    51107\n",
       "topic_5     51107\n",
       "topic_7     51107\n",
       "topic_6     51107\n",
       "topic_17    51107\n",
       "topic_19    51107\n",
       "topic_1     51107\n",
       "topic_0     51107\n",
       "topic_2     51107\n",
       "topic_15    51107\n",
       "topic_16    51107\n",
       "topic_13    51107\n",
       "topic_9     51107\n",
       "topic_4     51107\n",
       "Name: topic, dtype: int64"
      ]
     },
     "execution_count": 48,
     "metadata": {},
     "output_type": "execute_result"
    }
   ],
   "source": [
    "# select only topic_*\n",
    "joined_melt_new = joined_melt[(joined_melt.topic!='docID') & (joined_melt.topic!='index')\n",
    "                              & (joined_melt.topic!='year') & (joined_melt.topic!='month')]\n",
    "print(joined_melt_new.shape)\n",
    "joined_melt_new.topic.value_counts()"
   ]
  },
  {
   "cell_type": "code",
   "execution_count": 49,
   "metadata": {
    "ExecuteTime": {
     "end_time": "2019-02-03T14:14:30.367680Z",
     "start_time": "2019-02-03T14:14:22.194332Z"
    }
   },
   "outputs": [
    {
     "data": {
      "image/png": "[encoded data removed]",
      "text/plain": [
       "<Figure size 1440x720 with 21 Axes>"
      ]
     },
     "metadata": {
      "needs_background": "light"
     },
     "output_type": "display_data"
    }
   ],
   "source": [
    "labels = sorted(joined_melt_new['year_month'].unique())\n",
    "\n",
    "fig, axes = joypy.joyplot(joined_melt_new, by='topic', column='text', figsize=(20, 10),xlabelsize=20,ylabelsize=20,\n",
    "                          overlap=0.4, fill=True, linecolor=\"k\", linewidth=2,\n",
    "                          kind='values', fade=True, xrot=90, x_range=[i for i in range(len(labels))],\n",
    "                          background='white');\n",
    "\n",
    "ticks_labels = {i:t for i, t in enumerate(labels)}\n",
    "axes[-1].set_xticks([k for k, v in ticks_labels.items() if k % 6 == 0])\n",
    "ticks = axes[-1].get_xticks()\n",
    "axes[-1].set_xticklabels([ticks_labels.get(i, 'stop') for i in ticks]);"
   ]
  },
  {
   "cell_type": "code",
   "execution_count": 50,
   "metadata": {
    "ExecuteTime": {
     "end_time": "2019-02-03T14:14:32.219601Z",
     "start_time": "2019-02-03T14:14:30.839710Z"
    }
   },
   "outputs": [],
   "source": [
    "fig.savefig(f\"data/visualization/{'-'.join(name_dataset.split('.'))}_joypy\")"
   ]
  },
  {
   "cell_type": "code",
   "execution_count": null,
   "metadata": {},
   "outputs": [],
   "source": []
  }
 ],
 "metadata": {
  "kernelspec": {
   "display_name": "Python 3",
   "language": "python",
   "name": "python3"
  },
  "language_info": {
   "codemirror_mode": {
    "name": "ipython",
    "version": 3
   },
   "file_extension": ".py",
   "mimetype": "text/x-python",
   "name": "python",
   "nbconvert_exporter": "python",
   "pygments_lexer": "ipython3",
   "version": "3.6.7"
  },
  "varInspector": {
   "cols": {
    "lenName": 16,
    "lenType": 16,
    "lenVar": 40
   },
   "kernels_config": {
    "python": {
     "delete_cmd_postfix": "",
     "delete_cmd_prefix": "del ",
     "library": "var_list.py",
     "varRefreshCmd": "print(var_dic_list())"
    },
    "r": {
     "delete_cmd_postfix": ") ",
     "delete_cmd_prefix": "rm(",
     "library": "var_list.r",
     "varRefreshCmd": "cat(var_dic_list()) "
    }
   },
   "types_to_exclude": [
    "module",
    "function",
    "builtin_function_or_method",
    "instance",
    "_Feature"
   ],
   "window_display": false
  }
 },
 "nbformat": 4,
 "nbformat_minor": 2
}
