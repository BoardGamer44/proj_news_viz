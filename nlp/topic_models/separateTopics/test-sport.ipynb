{
 "cells": [
  {
   "cell_type": "code",
   "execution_count": 142,
   "metadata": {
    "ExecuteTime": {
     "end_time": "2019-01-22T10:33:04.333402Z",
     "start_time": "2019-01-22T10:33:04.328660Z"
    }
   },
   "outputs": [],
   "source": [
    "import numpy as np\n",
    "import pandas as pd\n",
    "\n",
    "import re\n",
    "from datetime import datetime as time\n",
    "from ast import literal_eval\n",
    "from sklearn.model_selection import train_test_split\n",
    "\n",
    "import artm\n",
    "from gensim.models import Phrases\n",
    "from gensim.models.phrases import Phraser\n",
    "\n",
    "import gc\n",
    "import matplotlib.pyplot as plt\n",
    "%matplotlib inline"
   ]
  },
  {
   "cell_type": "code",
   "execution_count": 2,
   "metadata": {
    "collapsed": true
   },
   "outputs": [
    {
     "name": "stdout",
     "output_type": "stream",
     "text": [
      "total 266M\r\n",
      "drwxrwxr-x 2 vtrokhymenko vtrokhymenko 4.0K Jan 16 12:03 .\r\n",
      "drwxrwxr-x 5 vtrokhymenko vtrokhymenko 4.0K Jan 17 01:09 ..\r\n",
      "-rw-rw-r-- 1 vtrokhymenko vtrokhymenko 491K Jan 15 18:18 69-.paralel.csv.bz2\r\n",
      "-rw-rw-r-- 1 vtrokhymenko vtrokhymenko  48M Jan 15 18:21 Russia.csv.bz2\r\n",
      "-rw-rw-r-- 1 vtrokhymenko vtrokhymenko  12M Jan 15 18:21 Sil_struktur.csv.bz2\r\n",
      "-rw-rw-r-- 1 vtrokhymenko vtrokhymenko  44K Jan 15 18:19 biblioteka.csv.bz2\r\n",
      "-rw-rw-r-- 1 vtrokhymenko vtrokhymenko  25M Jan 15 18:19 bivs.SSR.csv.bz2\r\n",
      "-rw-rw-r-- 1 vtrokhymenko vtrokhymenko 6.1M Jan 15 18:18 biznes.csv.bz2\r\n",
      "-rw-rw-r-- 1 vtrokhymenko vtrokhymenko 2.9M Jan 15 18:21 cennosti.csv.bz2\r\n",
      "-rw-rw-r-- 1 vtrokhymenko vtrokhymenko  28M Jan 15 18:21 economic.csv.bz2\r\n",
      "-rw-rw-r-- 1 vtrokhymenko vtrokhymenko  16M Jan 15 18:19 internet.i.smi.csv.bz2\r\n",
      "-rw-rw-r-- 1 vtrokhymenko vtrokhymenko 8.6M Jan 15 18:18 iz.jizni.csv.bz2\r\n",
      "-rw-rw-r-- 1 vtrokhymenko vtrokhymenko 125K Jan 15 18:18 kultprosvet.csv.bz2\r\n",
      "-rw-rw-r-- 1 vtrokhymenko vtrokhymenko  20M Jan 15 18:18 kultura.csv.bz2\r\n",
      "-rw-rw-r-- 1 vtrokhymenko vtrokhymenko  65K Jan 15 18:20 legprom.csv.bz2\r\n",
      "-rw-rw-r-- 1 vtrokhymenko vtrokhymenko  56M Jan 16 02:07 mir.csv.bz2\r\n",
      "-rw-rw-r-- 1 vtrokhymenko vtrokhymenko  24M Jan 15 18:21 naula.i.tehn.csv.bz2\r\n",
      "-rw-rw-r-- 1 vtrokhymenko vtrokhymenko 2.4K Jan 15 18:20 orujie.csv.bz2\r\n",
      "-rw-rw-r-- 1 vtrokhymenko vtrokhymenko 3.0M Jan 15 18:21 puteshestvi.csv.bz2\r\n",
      "-rw-rw-r-- 1 vtrokhymenko vtrokhymenko  19M Jan 15 18:20 sport.csv.bz2\r\n"
     ]
    }
   ],
   "source": [
    "# look at all categories\n",
    "!ls -lah data/"
   ]
  },
  {
   "cell_type": "markdown",
   "metadata": {},
   "source": [
    "### load data"
   ]
  },
  {
   "cell_type": "code",
   "execution_count": 3,
   "metadata": {
    "ExecuteTime": {
     "end_time": "2019-01-20T13:50:06.117473Z",
     "start_time": "2019-01-20T13:50:01.792861Z"
    }
   },
   "outputs": [
    {
     "name": "stdout",
     "output_type": "stream",
     "text": [
      "(60849, 7)\n",
      "CPU times: user 4.23 s, sys: 95.4 ms, total: 4.32 s\n",
      "Wall time: 4.32 s\n"
     ]
    }
   ],
   "source": [
    "%%time\n",
    "df = pd.read_csv('data/sport.csv.bz2')\n",
    "print(df.shape)"
   ]
  },
  {
   "cell_type": "code",
   "execution_count": 4,
   "metadata": {
    "ExecuteTime": {
     "end_time": "2019-01-20T13:50:06.128863Z",
     "start_time": "2019-01-20T13:50:06.118780Z"
    }
   },
   "outputs": [
    {
     "data": {
      "text/html": [
       "<div>\n",
       "<style scoped>\n",
       "    .dataframe tbody tr th:only-of-type {\n",
       "        vertical-align: middle;\n",
       "    }\n",
       "\n",
       "    .dataframe tbody tr th {\n",
       "        vertical-align: top;\n",
       "    }\n",
       "\n",
       "    .dataframe thead th {\n",
       "        text-align: right;\n",
       "    }\n",
       "</style>\n",
       "<table border=\"1\" class=\"dataframe\">\n",
       "  <thead>\n",
       "    <tr style=\"text-align: right;\">\n",
       "      <th></th>\n",
       "      <th>1914-lenta/</th>\n",
       "      <th>url</th>\n",
       "      <th>edition</th>\n",
       "      <th>topics</th>\n",
       "      <th>title</th>\n",
       "      <th>text</th>\n",
       "      <th>topic</th>\n",
       "    </tr>\n",
       "  </thead>\n",
       "  <tbody>\n",
       "    <tr>\n",
       "      <th>0</th>\n",
       "      <td>1999-10-08 12:00:00</td>\n",
       "      <td>https://lenta.ru/news/1999/10/08/boxing/</td>\n",
       "      <td>NaN</td>\n",
       "      <td>Мир</td>\n",
       "      <td>Дочь Мухаммеда Али дебютирует на ринге</td>\n",
       "      <td>Лейла Али, дочь известного боксера-тяжеловеса ...</td>\n",
       "      <td>Спорт</td>\n",
       "    </tr>\n",
       "    <tr>\n",
       "      <th>1</th>\n",
       "      <td>1999-10-09 12:00:00</td>\n",
       "      <td>https://lenta.ru/news/1999/10/09/football/</td>\n",
       "      <td>NaN</td>\n",
       "      <td>Россия</td>\n",
       "      <td>Россия — Украина: ничья 1:1, Франция выиграла ...</td>\n",
       "      <td>В субботу 9 октября на Большой спортивной арен...</td>\n",
       "      <td>Спорт</td>\n",
       "    </tr>\n",
       "  </tbody>\n",
       "</table>\n",
       "</div>"
      ],
      "text/plain": [
       "           1914-lenta/                                         url  edition  \\\n",
       "0  1999-10-08 12:00:00    https://lenta.ru/news/1999/10/08/boxing/      NaN   \n",
       "1  1999-10-09 12:00:00  https://lenta.ru/news/1999/10/09/football/      NaN   \n",
       "\n",
       "   topics                                              title  \\\n",
       "0     Мир             Дочь Мухаммеда Али дебютирует на ринге   \n",
       "1  Россия  Россия — Украина: ничья 1:1, Франция выиграла ...   \n",
       "\n",
       "                                                text  topic  \n",
       "0  Лейла Али, дочь известного боксера-тяжеловеса ...  Спорт  \n",
       "1  В субботу 9 октября на Большой спортивной арен...  Спорт  "
      ]
     },
     "execution_count": 4,
     "metadata": {},
     "output_type": "execute_result"
    }
   ],
   "source": [
    "df.head(2)"
   ]
  },
  {
   "cell_type": "markdown",
   "metadata": {},
   "source": [
    "## preprocess"
   ]
  },
  {
   "cell_type": "markdown",
   "metadata": {},
   "source": [
    "* ### get dates"
   ]
  },
  {
   "cell_type": "code",
   "execution_count": 5,
   "metadata": {
    "ExecuteTime": {
     "end_time": "2019-01-20T13:50:08.851503Z",
     "start_time": "2019-01-20T13:50:08.848165Z"
    }
   },
   "outputs": [
    {
     "name": "stderr",
     "output_type": "stream",
     "text": [
      "<>:1: DeprecationWarning: invalid escape sequence \\d\n"
     ]
    },
    {
     "data": {
      "text/plain": [
       "[('1999', '10', '08')]"
      ]
     },
     "execution_count": 5,
     "metadata": {},
     "output_type": "execute_result"
    }
   ],
   "source": [
    "r = re.compile('(\\d{4})/(\\d{2})/(\\d{2})')\n",
    "r.findall('https://lenta.ru/news/1999/10/08/boxing/')"
   ]
  },
  {
   "cell_type": "code",
   "execution_count": 6,
   "metadata": {
    "ExecuteTime": {
     "end_time": "2019-01-20T13:50:09.053931Z",
     "start_time": "2019-01-20T13:50:08.852752Z"
    }
   },
   "outputs": [
    {
     "name": "stdout",
     "output_type": "stream",
     "text": [
      "CPU times: user 187 ms, sys: 7.88 ms, total: 195 ms\n",
      "Wall time: 194 ms\n"
     ]
    }
   ],
   "source": [
    "%%time\n",
    "\n",
    "df['date_raw'] = df['url'].apply(re.compile('(\\d{4})/(\\d{2})/(\\d{2})').findall)\n",
    "\n",
    "df['year'] = df['date_raw'].apply(lambda x: int(x[0][0]))\n",
    "df['month'] = df['date_raw'].apply(lambda x: int(x[0][1]))"
   ]
  },
  {
   "cell_type": "markdown",
   "metadata": {},
   "source": [
    "* ### clean text"
   ]
  },
  {
   "cell_type": "code",
   "execution_count": 7,
   "metadata": {
    "ExecuteTime": {
     "end_time": "2019-01-20T13:50:12.284733Z",
     "start_time": "2019-01-20T13:50:12.083327Z"
    }
   },
   "outputs": [
    {
     "name": "stderr",
     "output_type": "stream",
     "text": [
      "/home/vtrokhymenko/proj_news_viz/proj_news_viz/nlp/topic_models/separateTopics/preprocessing_tools.py:29: DeprecationWarning: invalid escape sequence \\s\n",
      "  text = re.sub(\"-\\s\\r\\n\\|-\\s\\r\\n|\\r\\n\", '', str(text))\n"
     ]
    }
   ],
   "source": [
    "import preprocessing_tools as pr"
   ]
  },
  {
   "cell_type": "code",
   "execution_count": 8,
   "metadata": {
    "ExecuteTime": {
     "end_time": "2019-01-20T13:50:37.216281Z",
     "start_time": "2019-01-20T13:50:30.322895Z"
    }
   },
   "outputs": [
    {
     "name": "stdout",
     "output_type": "stream",
     "text": [
      "CPU times: user 6.85 s, sys: 39.2 ms, total: 6.89 s\n",
      "Wall time: 6.89 s\n"
     ]
    }
   ],
   "source": [
    "%%time\n",
    "df.text = df.text.apply(pr.clean_text)"
   ]
  },
  {
   "cell_type": "code",
   "execution_count": 10,
   "metadata": {
    "ExecuteTime": {
     "end_time": "2019-01-20T13:37:09.237803Z",
     "start_time": "2019-01-20T13:37:09.227363Z"
    }
   },
   "outputs": [
    {
     "data": {
      "text/html": [
       "<div>\n",
       "<style scoped>\n",
       "    .dataframe tbody tr th:only-of-type {\n",
       "        vertical-align: middle;\n",
       "    }\n",
       "\n",
       "    .dataframe tbody tr th {\n",
       "        vertical-align: top;\n",
       "    }\n",
       "\n",
       "    .dataframe thead th {\n",
       "        text-align: right;\n",
       "    }\n",
       "</style>\n",
       "<table border=\"1\" class=\"dataframe\">\n",
       "  <thead>\n",
       "    <tr style=\"text-align: right;\">\n",
       "      <th></th>\n",
       "      <th>1914-lenta/</th>\n",
       "      <th>url</th>\n",
       "      <th>edition</th>\n",
       "      <th>topics</th>\n",
       "      <th>title</th>\n",
       "      <th>text</th>\n",
       "      <th>topic</th>\n",
       "      <th>date_raw</th>\n",
       "      <th>year</th>\n",
       "      <th>month</th>\n",
       "    </tr>\n",
       "  </thead>\n",
       "  <tbody>\n",
       "    <tr>\n",
       "      <th>0</th>\n",
       "      <td>1999-10-08 12:00:00</td>\n",
       "      <td>https://lenta.ru/news/1999/10/08/boxing/</td>\n",
       "      <td>NaN</td>\n",
       "      <td>Мир</td>\n",
       "      <td>Дочь Мухаммеда Али дебютирует на ринге</td>\n",
       "      <td>лейла али дочь известного боксератяжеловеса му...</td>\n",
       "      <td>Спорт</td>\n",
       "      <td>[(1999, 10, 08)]</td>\n",
       "      <td>1999</td>\n",
       "      <td>10</td>\n",
       "    </tr>\n",
       "    <tr>\n",
       "      <th>1</th>\n",
       "      <td>1999-10-09 12:00:00</td>\n",
       "      <td>https://lenta.ru/news/1999/10/09/football/</td>\n",
       "      <td>NaN</td>\n",
       "      <td>Россия</td>\n",
       "      <td>Россия — Украина: ничья 1:1, Франция выиграла ...</td>\n",
       "      <td>в субботу  октября на большой спортивной арене...</td>\n",
       "      <td>Спорт</td>\n",
       "      <td>[(1999, 10, 09)]</td>\n",
       "      <td>1999</td>\n",
       "      <td>10</td>\n",
       "    </tr>\n",
       "  </tbody>\n",
       "</table>\n",
       "</div>"
      ],
      "text/plain": [
       "           1914-lenta/                                         url  edition  \\\n",
       "0  1999-10-08 12:00:00    https://lenta.ru/news/1999/10/08/boxing/      NaN   \n",
       "1  1999-10-09 12:00:00  https://lenta.ru/news/1999/10/09/football/      NaN   \n",
       "\n",
       "   topics                                              title  \\\n",
       "0     Мир             Дочь Мухаммеда Али дебютирует на ринге   \n",
       "1  Россия  Россия — Украина: ничья 1:1, Франция выиграла ...   \n",
       "\n",
       "                                                text  topic          date_raw  \\\n",
       "0  лейла али дочь известного боксератяжеловеса му...  Спорт  [(1999, 10, 08)]   \n",
       "1  в субботу  октября на большой спортивной арене...  Спорт  [(1999, 10, 09)]   \n",
       "\n",
       "   year  month  \n",
       "0  1999     10  \n",
       "1  1999     10  "
      ]
     },
     "execution_count": 10,
     "metadata": {},
     "output_type": "execute_result"
    }
   ],
   "source": [
    "df.head(2)"
   ]
  },
  {
   "cell_type": "markdown",
   "metadata": {},
   "source": [
    "* ### cleanedNames"
   ]
  },
  {
   "cell_type": "code",
   "execution_count": 10,
   "metadata": {
    "ExecuteTime": {
     "end_time": "2019-01-20T13:51:18.654412Z",
     "start_time": "2019-01-20T13:51:18.545473Z"
    }
   },
   "outputs": [],
   "source": [
    "from cleanedNames import KeyProc\n",
    "cn = KeyProc()"
   ]
  },
  {
   "cell_type": "code",
   "execution_count": 11,
   "metadata": {
    "ExecuteTime": {
     "end_time": "2019-01-20T13:52:30.541236Z",
     "start_time": "2019-01-20T13:51:18.656020Z"
    }
   },
   "outputs": [
    {
     "name": "stdout",
     "output_type": "stream",
     "text": [
      "CPU times: user 1min 11s, sys: 12.7 ms, total: 1min 11s\n",
      "Wall time: 1min 11s\n"
     ]
    }
   ],
   "source": [
    "%%time\n",
    "df.text = df.text.apply(cn.replaceKeywords)"
   ]
  },
  {
   "cell_type": "code",
   "execution_count": 12,
   "metadata": {
    "ExecuteTime": {
     "end_time": "2019-01-20T13:52:30.552654Z",
     "start_time": "2019-01-20T13:52:30.543361Z"
    }
   },
   "outputs": [
    {
     "data": {
      "text/html": [
       "<div>\n",
       "<style scoped>\n",
       "    .dataframe tbody tr th:only-of-type {\n",
       "        vertical-align: middle;\n",
       "    }\n",
       "\n",
       "    .dataframe tbody tr th {\n",
       "        vertical-align: top;\n",
       "    }\n",
       "\n",
       "    .dataframe thead th {\n",
       "        text-align: right;\n",
       "    }\n",
       "</style>\n",
       "<table border=\"1\" class=\"dataframe\">\n",
       "  <thead>\n",
       "    <tr style=\"text-align: right;\">\n",
       "      <th></th>\n",
       "      <th>1914-lenta/</th>\n",
       "      <th>url</th>\n",
       "      <th>edition</th>\n",
       "      <th>topics</th>\n",
       "      <th>title</th>\n",
       "      <th>text</th>\n",
       "      <th>topic</th>\n",
       "      <th>date_raw</th>\n",
       "      <th>year</th>\n",
       "      <th>month</th>\n",
       "    </tr>\n",
       "  </thead>\n",
       "  <tbody>\n",
       "    <tr>\n",
       "      <th>0</th>\n",
       "      <td>1999-10-08 12:00:00</td>\n",
       "      <td>https://lenta.ru/news/1999/10/08/boxing/</td>\n",
       "      <td>NaN</td>\n",
       "      <td>Мир</td>\n",
       "      <td>Дочь Мухаммеда Али дебютирует на ринге</td>\n",
       "      <td>лейла али дочь известного боксератяжеловеса му...</td>\n",
       "      <td>Спорт</td>\n",
       "      <td>[(1999, 10, 08)]</td>\n",
       "      <td>1999</td>\n",
       "      <td>10</td>\n",
       "    </tr>\n",
       "    <tr>\n",
       "      <th>1</th>\n",
       "      <td>1999-10-09 12:00:00</td>\n",
       "      <td>https://lenta.ru/news/1999/10/09/football/</td>\n",
       "      <td>NaN</td>\n",
       "      <td>Россия</td>\n",
       "      <td>Россия — Украина: ничья 1:1, Франция выиграла ...</td>\n",
       "      <td>в субботу  октября на большой спортивной арене...</td>\n",
       "      <td>Спорт</td>\n",
       "      <td>[(1999, 10, 09)]</td>\n",
       "      <td>1999</td>\n",
       "      <td>10</td>\n",
       "    </tr>\n",
       "  </tbody>\n",
       "</table>\n",
       "</div>"
      ],
      "text/plain": [
       "           1914-lenta/                                         url  edition  \\\n",
       "0  1999-10-08 12:00:00    https://lenta.ru/news/1999/10/08/boxing/      NaN   \n",
       "1  1999-10-09 12:00:00  https://lenta.ru/news/1999/10/09/football/      NaN   \n",
       "\n",
       "   topics                                              title  \\\n",
       "0     Мир             Дочь Мухаммеда Али дебютирует на ринге   \n",
       "1  Россия  Россия — Украина: ничья 1:1, Франция выиграла ...   \n",
       "\n",
       "                                                text  topic          date_raw  \\\n",
       "0  лейла али дочь известного боксератяжеловеса му...  Спорт  [(1999, 10, 08)]   \n",
       "1  в субботу  октября на большой спортивной арене...  Спорт  [(1999, 10, 09)]   \n",
       "\n",
       "   year  month  \n",
       "0  1999     10  \n",
       "1  1999     10  "
      ]
     },
     "execution_count": 12,
     "metadata": {},
     "output_type": "execute_result"
    }
   ],
   "source": [
    "df.head(2)"
   ]
  },
  {
   "cell_type": "markdown",
   "metadata": {},
   "source": [
    "* ### lemmatization"
   ]
  },
  {
   "cell_type": "code",
   "execution_count": 13,
   "metadata": {
    "ExecuteTime": {
     "end_time": "2019-01-20T13:54:08.586897Z",
     "start_time": "2019-01-20T13:52:30.554236Z"
    }
   },
   "outputs": [
    {
     "name": "stdout",
     "output_type": "stream",
     "text": [
      "CPU times: user 1min 37s, sys: 53.3 ms, total: 1min 38s\n",
      "Wall time: 1min 38s\n"
     ]
    }
   ],
   "source": [
    "%%time\n",
    "df['lemmatized_text'] = df.text.apply(pr.lemmatization)"
   ]
  },
  {
   "cell_type": "code",
   "execution_count": 14,
   "metadata": {
    "ExecuteTime": {
     "end_time": "2019-01-20T13:54:08.599657Z",
     "start_time": "2019-01-20T13:54:08.588025Z"
    }
   },
   "outputs": [
    {
     "data": {
      "text/html": [
       "<div>\n",
       "<style scoped>\n",
       "    .dataframe tbody tr th:only-of-type {\n",
       "        vertical-align: middle;\n",
       "    }\n",
       "\n",
       "    .dataframe tbody tr th {\n",
       "        vertical-align: top;\n",
       "    }\n",
       "\n",
       "    .dataframe thead th {\n",
       "        text-align: right;\n",
       "    }\n",
       "</style>\n",
       "<table border=\"1\" class=\"dataframe\">\n",
       "  <thead>\n",
       "    <tr style=\"text-align: right;\">\n",
       "      <th></th>\n",
       "      <th>1914-lenta/</th>\n",
       "      <th>url</th>\n",
       "      <th>edition</th>\n",
       "      <th>topics</th>\n",
       "      <th>title</th>\n",
       "      <th>text</th>\n",
       "      <th>topic</th>\n",
       "      <th>date_raw</th>\n",
       "      <th>year</th>\n",
       "      <th>month</th>\n",
       "      <th>lemmatized_text</th>\n",
       "    </tr>\n",
       "  </thead>\n",
       "  <tbody>\n",
       "    <tr>\n",
       "      <th>0</th>\n",
       "      <td>1999-10-08 12:00:00</td>\n",
       "      <td>https://lenta.ru/news/1999/10/08/boxing/</td>\n",
       "      <td>NaN</td>\n",
       "      <td>Мир</td>\n",
       "      <td>Дочь Мухаммеда Али дебютирует на ринге</td>\n",
       "      <td>лейла али дочь известного боксератяжеловеса му...</td>\n",
       "      <td>Спорт</td>\n",
       "      <td>[(1999, 10, 08)]</td>\n",
       "      <td>1999</td>\n",
       "      <td>10</td>\n",
       "      <td>[лейла, али, дочь, известный, боксератяжеловес...</td>\n",
       "    </tr>\n",
       "    <tr>\n",
       "      <th>1</th>\n",
       "      <td>1999-10-09 12:00:00</td>\n",
       "      <td>https://lenta.ru/news/1999/10/09/football/</td>\n",
       "      <td>NaN</td>\n",
       "      <td>Россия</td>\n",
       "      <td>Россия — Украина: ничья 1:1, Франция выиграла ...</td>\n",
       "      <td>в субботу  октября на большой спортивной арене...</td>\n",
       "      <td>Спорт</td>\n",
       "      <td>[(1999, 10, 09)]</td>\n",
       "      <td>1999</td>\n",
       "      <td>10</td>\n",
       "      <td>[суббота, октябрь, большой, спортивный, арен, ...</td>\n",
       "    </tr>\n",
       "  </tbody>\n",
       "</table>\n",
       "</div>"
      ],
      "text/plain": [
       "           1914-lenta/                                         url  edition  \\\n",
       "0  1999-10-08 12:00:00    https://lenta.ru/news/1999/10/08/boxing/      NaN   \n",
       "1  1999-10-09 12:00:00  https://lenta.ru/news/1999/10/09/football/      NaN   \n",
       "\n",
       "   topics                                              title  \\\n",
       "0     Мир             Дочь Мухаммеда Али дебютирует на ринге   \n",
       "1  Россия  Россия — Украина: ничья 1:1, Франция выиграла ...   \n",
       "\n",
       "                                                text  topic          date_raw  \\\n",
       "0  лейла али дочь известного боксератяжеловеса му...  Спорт  [(1999, 10, 08)]   \n",
       "1  в субботу  октября на большой спортивной арене...  Спорт  [(1999, 10, 09)]   \n",
       "\n",
       "   year  month                                    lemmatized_text  \n",
       "0  1999     10  [лейла, али, дочь, известный, боксератяжеловес...  \n",
       "1  1999     10  [суббота, октябрь, большой, спортивный, арен, ...  "
      ]
     },
     "execution_count": 14,
     "metadata": {},
     "output_type": "execute_result"
    }
   ],
   "source": [
    "df.head(2)"
   ]
  },
  {
   "cell_type": "markdown",
   "metadata": {},
   "source": [
    "* ### docID\n",
    "for future when will be doing join topic matrix with documents"
   ]
  },
  {
   "cell_type": "code",
   "execution_count": 15,
   "metadata": {
    "ExecuteTime": {
     "end_time": "2019-01-20T13:54:08.627624Z",
     "start_time": "2019-01-20T13:54:08.601175Z"
    }
   },
   "outputs": [],
   "source": [
    "df['docID'] = list(range(df.shape[0]))"
   ]
  },
  {
   "cell_type": "code",
   "execution_count": 16,
   "metadata": {
    "ExecuteTime": {
     "end_time": "2019-01-20T13:54:08.642460Z",
     "start_time": "2019-01-20T13:54:08.628791Z"
    }
   },
   "outputs": [
    {
     "data": {
      "text/html": [
       "<div>\n",
       "<style scoped>\n",
       "    .dataframe tbody tr th:only-of-type {\n",
       "        vertical-align: middle;\n",
       "    }\n",
       "\n",
       "    .dataframe tbody tr th {\n",
       "        vertical-align: top;\n",
       "    }\n",
       "\n",
       "    .dataframe thead th {\n",
       "        text-align: right;\n",
       "    }\n",
       "</style>\n",
       "<table border=\"1\" class=\"dataframe\">\n",
       "  <thead>\n",
       "    <tr style=\"text-align: right;\">\n",
       "      <th></th>\n",
       "      <th>1914-lenta/</th>\n",
       "      <th>url</th>\n",
       "      <th>edition</th>\n",
       "      <th>topics</th>\n",
       "      <th>title</th>\n",
       "      <th>text</th>\n",
       "      <th>topic</th>\n",
       "      <th>date_raw</th>\n",
       "      <th>year</th>\n",
       "      <th>month</th>\n",
       "      <th>lemmatized_text</th>\n",
       "      <th>docID</th>\n",
       "    </tr>\n",
       "  </thead>\n",
       "  <tbody>\n",
       "    <tr>\n",
       "      <th>0</th>\n",
       "      <td>1999-10-08 12:00:00</td>\n",
       "      <td>https://lenta.ru/news/1999/10/08/boxing/</td>\n",
       "      <td>NaN</td>\n",
       "      <td>Мир</td>\n",
       "      <td>Дочь Мухаммеда Али дебютирует на ринге</td>\n",
       "      <td>лейла али дочь известного боксератяжеловеса му...</td>\n",
       "      <td>Спорт</td>\n",
       "      <td>[(1999, 10, 08)]</td>\n",
       "      <td>1999</td>\n",
       "      <td>10</td>\n",
       "      <td>[лейла, али, дочь, известный, боксератяжеловес...</td>\n",
       "      <td>0</td>\n",
       "    </tr>\n",
       "    <tr>\n",
       "      <th>1</th>\n",
       "      <td>1999-10-09 12:00:00</td>\n",
       "      <td>https://lenta.ru/news/1999/10/09/football/</td>\n",
       "      <td>NaN</td>\n",
       "      <td>Россия</td>\n",
       "      <td>Россия — Украина: ничья 1:1, Франция выиграла ...</td>\n",
       "      <td>в субботу  октября на большой спортивной арене...</td>\n",
       "      <td>Спорт</td>\n",
       "      <td>[(1999, 10, 09)]</td>\n",
       "      <td>1999</td>\n",
       "      <td>10</td>\n",
       "      <td>[суббота, октябрь, большой, спортивный, арен, ...</td>\n",
       "      <td>1</td>\n",
       "    </tr>\n",
       "  </tbody>\n",
       "</table>\n",
       "</div>"
      ],
      "text/plain": [
       "           1914-lenta/                                         url  edition  \\\n",
       "0  1999-10-08 12:00:00    https://lenta.ru/news/1999/10/08/boxing/      NaN   \n",
       "1  1999-10-09 12:00:00  https://lenta.ru/news/1999/10/09/football/      NaN   \n",
       "\n",
       "   topics                                              title  \\\n",
       "0     Мир             Дочь Мухаммеда Али дебютирует на ринге   \n",
       "1  Россия  Россия — Украина: ничья 1:1, Франция выиграла ...   \n",
       "\n",
       "                                                text  topic          date_raw  \\\n",
       "0  лейла али дочь известного боксератяжеловеса му...  Спорт  [(1999, 10, 08)]   \n",
       "1  в субботу  октября на большой спортивной арене...  Спорт  [(1999, 10, 09)]   \n",
       "\n",
       "   year  month                                    lemmatized_text  docID  \n",
       "0  1999     10  [лейла, али, дочь, известный, боксератяжеловес...      0  \n",
       "1  1999     10  [суббота, октябрь, большой, спортивный, арен, ...      1  "
      ]
     },
     "execution_count": 16,
     "metadata": {},
     "output_type": "execute_result"
    }
   ],
   "source": [
    "df.head(2)"
   ]
  },
  {
   "cell_type": "code",
   "execution_count": 17,
   "metadata": {
    "ExecuteTime": {
     "end_time": "2019-01-20T13:54:08.648828Z",
     "start_time": "2019-01-20T13:54:08.644347Z"
    }
   },
   "outputs": [
    {
     "data": {
      "text/plain": [
       "1999"
      ]
     },
     "execution_count": 17,
     "metadata": {},
     "output_type": "execute_result"
    }
   ],
   "source": [
    "df.year.min()"
   ]
  },
  {
   "cell_type": "code",
   "execution_count": null,
   "metadata": {},
   "outputs": [],
   "source": []
  },
  {
   "cell_type": "markdown",
   "metadata": {},
   "source": [
    "## bigartm"
   ]
  },
  {
   "cell_type": "markdown",
   "metadata": {},
   "source": [
    "* ### prepare"
   ]
  },
  {
   "cell_type": "code",
   "execution_count": 108,
   "metadata": {
    "ExecuteTime": {
     "end_time": "2019-01-21T21:42:04.566307Z",
     "start_time": "2019-01-21T21:42:03.954579Z"
    }
   },
   "outputs": [
    {
     "name": "stdout",
     "output_type": "stream",
     "text": [
      "CPU times: user 578 ms, sys: 56.1 ms, total: 634 ms\n",
      "Wall time: 608 ms\n"
     ]
    }
   ],
   "source": [
    "%%time\n",
    "\n",
    "vwpath = 'data/sport_input_bigartm.vw'\n",
    "\n",
    "with open(vwpath, 'w') as fp:\n",
    "    for text, did in df[['lemmatized_text', 'docID']].values:\n",
    "        fp.write('{} |default {}\\n'.format(did, ' '.join(text)))"
   ]
  },
  {
   "cell_type": "code",
   "execution_count": 109,
   "metadata": {
    "ExecuteTime": {
     "end_time": "2019-01-21T21:42:07.240462Z",
     "start_time": "2019-01-21T21:42:07.237156Z"
    }
   },
   "outputs": [],
   "source": [
    "id_date = df[['docID', 'year', 'month']].copy()"
   ]
  },
  {
   "cell_type": "markdown",
   "metadata": {},
   "source": [
    "collect batchs and collect the dictionary"
   ]
  },
  {
   "cell_type": "code",
   "execution_count": 20,
   "metadata": {
    "ExecuteTime": {
     "end_time": "2019-01-20T13:54:44.084828Z",
     "start_time": "2019-01-20T13:54:41.117931Z"
    }
   },
   "outputs": [
    {
     "name": "stdout",
     "output_type": "stream",
     "text": [
      "CPU times: user 18.8 s, sys: 423 ms, total: 19.2 s\n",
      "Wall time: 2.96 s\n"
     ]
    }
   ],
   "source": [
    "%%time\n",
    "\n",
    "batches_path = 'data/batches'\n",
    "\n",
    "batch_vectorizer = artm.BatchVectorizer(data_path=vwpath,\n",
    "                                        data_format='vowpal_wabbit',\n",
    "                                        target_folder=batches_path)"
   ]
  },
  {
   "cell_type": "code",
   "execution_count": 197,
   "metadata": {
    "ExecuteTime": {
     "end_time": "2019-01-22T11:52:21.621649Z",
     "start_time": "2019-01-22T11:52:21.618507Z"
    }
   },
   "outputs": [
    {
     "data": {
      "text/plain": [
       "artm.BatchVectorizer(data_path=\"data/batches\", num_batches=61)"
      ]
     },
     "execution_count": 197,
     "metadata": {},
     "output_type": "execute_result"
    }
   ],
   "source": [
    "batch_vectorizer"
   ]
  },
  {
   "cell_type": "code",
   "execution_count": 21,
   "metadata": {
    "ExecuteTime": {
     "end_time": "2019-01-20T13:54:45.468123Z",
     "start_time": "2019-01-20T13:54:44.088249Z"
    }
   },
   "outputs": [
    {
     "name": "stdout",
     "output_type": "stream",
     "text": [
      "CPU times: user 1.36 s, sys: 20 ms, total: 1.38 s\n",
      "Wall time: 1.38 s\n"
     ]
    }
   ],
   "source": [
    "%%time\n",
    "\n",
    "dictionary = artm.Dictionary()\n",
    "dictionary.gather(data_path=batches_path)"
   ]
  },
  {
   "cell_type": "code",
   "execution_count": null,
   "metadata": {},
   "outputs": [],
   "source": [
    "dictionary.save_text('cor_dict.txt')"
   ]
  },
  {
   "cell_type": "code",
   "execution_count": 110,
   "metadata": {
    "ExecuteTime": {
     "end_time": "2019-01-21T21:43:21.168646Z",
     "start_time": "2019-01-21T21:43:21.117976Z"
    }
   },
   "outputs": [
    {
     "data": {
      "text/plain": [
       "artm.Dictionary(name=79b6be88-3507-4d53-94ef-078021f4e285, num_entries=19668)"
      ]
     },
     "execution_count": 110,
     "metadata": {},
     "output_type": "execute_result"
    }
   ],
   "source": [
    "dictionary.filter(min_df=10, max_dictionary_size=int(4.5e5))"
   ]
  },
  {
   "cell_type": "code",
   "execution_count": null,
   "metadata": {},
   "outputs": [],
   "source": []
  },
  {
   "cell_type": "markdown",
   "metadata": {},
   "source": [
    "* ### build model"
   ]
  },
  {
   "cell_type": "code",
   "execution_count": 203,
   "metadata": {
    "ExecuteTime": {
     "end_time": "2019-01-24T22:40:32.659464Z",
     "start_time": "2019-01-24T22:40:32.426655Z"
    }
   },
   "outputs": [],
   "source": [
    "num_topics = 50\n",
    "model = artm.ARTM(num_topics=num_topics, dictionary=dictionary, show_progress_bars=True)"
   ]
  },
  {
   "cell_type": "markdown",
   "metadata": {},
   "source": [
    "### add scores"
   ]
  },
  {
   "cell_type": "code",
   "execution_count": 204,
   "metadata": {
    "ExecuteTime": {
     "end_time": "2019-01-24T22:40:33.155869Z",
     "start_time": "2019-01-24T22:40:33.151647Z"
    }
   },
   "outputs": [],
   "source": [
    "# default\n",
    "model.scores.add(artm.PerplexityScore(name='PerplexityScore', dictionary=dictionary))\n",
    "#model.scores.add(artm.TopicKernelScore(name='TopicKernelScore'))\n",
    "model.scores.add(artm.SparsityThetaScore(name='SparsityThetaScore'))\n",
    "model.scores.add(artm.SparsityPhiScore(name='SparsityPhiScore'))\n",
    "\n",
    "model.scores.add(artm.TopTokensScore(name='TopTokensScore', num_tokens=num_topics))"
   ]
  },
  {
   "cell_type": "code",
   "execution_count": 205,
   "metadata": {
    "ExecuteTime": {
     "end_time": "2019-01-24T22:40:34.771239Z",
     "start_time": "2019-01-24T22:40:34.750306Z"
    }
   },
   "outputs": [],
   "source": [
    "# hand-made\n",
    "\n",
    "#https://github.com/bigartm/bigartm/blob/master/docs/tutorials/python_userguide/coherence.txt\n",
    "    \n",
    "cooc_dict = artm.Dictionary()\n",
    "\n",
    "cooc_dict.gather(data_path='batches_folder',\n",
    "                 cooc_file_path='cooc.txt',\n",
    "                 vocab_file_path='vocab.txt',\n",
    "                 symmetric_cooc_values=True)\n",
    "\n",
    "coherence_score = artm.TopTokensScore(name='TopTokensCoherenceScore',\n",
    "                                      class_id='@default_class', \n",
    "                                      topic_names=[u'topic_0',u'topic_1'],\n",
    "                                      dictionary=cooc_dict,\n",
    "                                      num_tokens=num_topics)\n",
    "\n",
    "model.scores.add(coherence_score)"
   ]
  },
  {
   "cell_type": "markdown",
   "metadata": {},
   "source": [
    "### add regularizers"
   ]
  },
  {
   "cell_type": "code",
   "execution_count": 206,
   "metadata": {
    "ExecuteTime": {
     "end_time": "2019-01-24T22:40:37.018994Z",
     "start_time": "2019-01-24T22:40:37.015334Z"
    }
   },
   "outputs": [],
   "source": [
    "model.regularizers.add(artm.SmoothSparsePhiRegularizer(name='SparsePhi', tau=-0.1))\n",
    "model.regularizers.add(artm.SmoothSparseThetaRegularizer(name='SparseTheta', tau=-0.5))\n",
    "model.regularizers.add(artm.DecorrelatorPhiRegularizer(name='DecorrelatorPhi', tau=1.5e+5))"
   ]
  },
  {
   "cell_type": "code",
   "execution_count": 207,
   "metadata": {
    "ExecuteTime": {
     "end_time": "2019-01-24T22:40:55.580914Z",
     "start_time": "2019-01-24T22:40:46.165031Z"
    }
   },
   "outputs": [
    {
     "data": {
      "application/vnd.jupyter.widget-view+json": {
       "model_id": "d7d0a0aef7d74c41ae1290e9da2fd7c3",
       "version_major": 2,
       "version_minor": 0
      },
      "text/plain": [
       "HBox(children=(IntProgress(value=0, description='Pass', max=10, style=ProgressStyle(description_width='initial…"
      ]
     },
     "metadata": {},
     "output_type": "display_data"
    },
    {
     "data": {
      "application/vnd.jupyter.widget-view+json": {
       "model_id": "",
       "version_major": 2,
       "version_minor": 0
      },
      "text/plain": [
       "HBox(children=(IntProgress(value=0, description='Batch', max=61, style=ProgressStyle(description_width='initia…"
      ]
     },
     "metadata": {},
     "output_type": "display_data"
    },
    {
     "data": {
      "application/vnd.jupyter.widget-view+json": {
       "model_id": "",
       "version_major": 2,
       "version_minor": 0
      },
      "text/plain": [
       "HBox(children=(IntProgress(value=0, description='Batch', max=61, style=ProgressStyle(description_width='initia…"
      ]
     },
     "metadata": {},
     "output_type": "display_data"
    },
    {
     "data": {
      "application/vnd.jupyter.widget-view+json": {
       "model_id": "",
       "version_major": 2,
       "version_minor": 0
      },
      "text/plain": [
       "HBox(children=(IntProgress(value=0, description='Batch', max=61, style=ProgressStyle(description_width='initia…"
      ]
     },
     "metadata": {},
     "output_type": "display_data"
    },
    {
     "data": {
      "application/vnd.jupyter.widget-view+json": {
       "model_id": "",
       "version_major": 2,
       "version_minor": 0
      },
      "text/plain": [
       "HBox(children=(IntProgress(value=0, description='Batch', max=61, style=ProgressStyle(description_width='initia…"
      ]
     },
     "metadata": {},
     "output_type": "display_data"
    },
    {
     "data": {
      "application/vnd.jupyter.widget-view+json": {
       "model_id": "",
       "version_major": 2,
       "version_minor": 0
      },
      "text/plain": [
       "HBox(children=(IntProgress(value=0, description='Batch', max=61, style=ProgressStyle(description_width='initia…"
      ]
     },
     "metadata": {},
     "output_type": "display_data"
    },
    {
     "data": {
      "application/vnd.jupyter.widget-view+json": {
       "model_id": "",
       "version_major": 2,
       "version_minor": 0
      },
      "text/plain": [
       "HBox(children=(IntProgress(value=0, description='Batch', max=61, style=ProgressStyle(description_width='initia…"
      ]
     },
     "metadata": {},
     "output_type": "display_data"
    },
    {
     "data": {
      "application/vnd.jupyter.widget-view+json": {
       "model_id": "",
       "version_major": 2,
       "version_minor": 0
      },
      "text/plain": [
       "HBox(children=(IntProgress(value=0, description='Batch', max=61, style=ProgressStyle(description_width='initia…"
      ]
     },
     "metadata": {},
     "output_type": "display_data"
    },
    {
     "data": {
      "application/vnd.jupyter.widget-view+json": {
       "model_id": "",
       "version_major": 2,
       "version_minor": 0
      },
      "text/plain": [
       "HBox(children=(IntProgress(value=0, description='Batch', max=61, style=ProgressStyle(description_width='initia…"
      ]
     },
     "metadata": {},
     "output_type": "display_data"
    },
    {
     "data": {
      "application/vnd.jupyter.widget-view+json": {
       "model_id": "",
       "version_major": 2,
       "version_minor": 0
      },
      "text/plain": [
       "HBox(children=(IntProgress(value=0, description='Batch', max=61, style=ProgressStyle(description_width='initia…"
      ]
     },
     "metadata": {},
     "output_type": "display_data"
    },
    {
     "data": {
      "application/vnd.jupyter.widget-view+json": {
       "model_id": "",
       "version_major": 2,
       "version_minor": 0
      },
      "text/plain": [
       "HBox(children=(IntProgress(value=0, description='Batch', max=61, style=ProgressStyle(description_width='initia…"
      ]
     },
     "metadata": {},
     "output_type": "display_data"
    },
    {
     "name": "stdout",
     "output_type": "stream",
     "text": [
      "CPU times: user 2min 11s, sys: 0 ns, total: 2min 11s\n",
      "Wall time: 9.41 s\n"
     ]
    }
   ],
   "source": [
    "%%time\n",
    "\n",
    "model.fit_offline(batch_vectorizer=batch_vectorizer, num_collection_passes=10)"
   ]
  },
  {
   "cell_type": "code",
   "execution_count": null,
   "metadata": {},
   "outputs": [],
   "source": [
    "#model.save('')"
   ]
  },
  {
   "cell_type": "code",
   "execution_count": 220,
   "metadata": {
    "ExecuteTime": {
     "end_time": "2019-01-24T22:43:45.691919Z",
     "start_time": "2019-01-24T22:43:45.687195Z"
    },
    "scrolled": true
   },
   "outputs": [
    {
     "data": {
      "text/plain": [
       "[0.0, 0.0, 0.0, 0.0, 0.0, 0.0, 0.0, 0.0, 0.0, 0.0]"
      ]
     },
     "execution_count": 220,
     "metadata": {},
     "output_type": "execute_result"
    }
   ],
   "source": [
    "model.score_tracker['TopTokensCoherenceScore'].average_coherence"
   ]
  },
  {
   "cell_type": "code",
   "execution_count": 209,
   "metadata": {
    "ExecuteTime": {
     "end_time": "2019-01-24T22:41:08.254640Z",
     "start_time": "2019-01-24T22:41:08.251575Z"
    }
   },
   "outputs": [
    {
     "data": {
      "text/plain": [
       "0.8554086089134216"
      ]
     },
     "execution_count": 209,
     "metadata": {},
     "output_type": "execute_result"
    }
   ],
   "source": [
    "model.score_tracker['SparsityThetaScore'].last_value"
   ]
  },
  {
   "cell_type": "code",
   "execution_count": 210,
   "metadata": {
    "ExecuteTime": {
     "end_time": "2019-01-24T22:41:08.934388Z",
     "start_time": "2019-01-24T22:41:08.930904Z"
    }
   },
   "outputs": [
    {
     "data": {
      "text/plain": [
       "852.5618896484375"
      ]
     },
     "execution_count": 210,
     "metadata": {},
     "output_type": "execute_result"
    }
   ],
   "source": [
    "model.score_tracker['PerplexityScore'].last_value"
   ]
  },
  {
   "cell_type": "code",
   "execution_count": 211,
   "metadata": {
    "ExecuteTime": {
     "end_time": "2019-01-24T22:41:10.167150Z",
     "start_time": "2019-01-24T22:41:10.016807Z"
    }
   },
   "outputs": [
    {
     "data": {
      "image/png": "[encoded data removed]",
      "text/plain": [
       "<Figure size 432x288 with 1 Axes>"
      ]
     },
     "metadata": {
      "needs_background": "light"
     },
     "output_type": "display_data"
    }
   ],
   "source": [
    "plt.plot(range(model.num_phi_updates),\n",
    "         model.score_tracker['PerplexityScore'].value, 'b-',\n",
    "         linewidth=2)\n",
    "plt.grid()"
   ]
  },
  {
   "cell_type": "code",
   "execution_count": 212,
   "metadata": {
    "ExecuteTime": {
     "end_time": "2019-01-24T22:41:10.854625Z",
     "start_time": "2019-01-24T22:41:10.731255Z"
    }
   },
   "outputs": [
    {
     "data": {
      "image/png": "[encoded data removed]",
      "text/plain": [
       "<Figure size 432x288 with 1 Axes>"
      ]
     },
     "metadata": {
      "needs_background": "light"
     },
     "output_type": "display_data"
    }
   ],
   "source": [
    "plt.plot(range(model.num_phi_updates),\n",
    "         model.score_tracker['SparsityThetaScore'].value, 'g-',\n",
    "         linewidth=2)\n",
    "plt.grid()"
   ]
  },
  {
   "cell_type": "code",
   "execution_count": 74,
   "metadata": {},
   "outputs": [
    {
     "ename": "KeyError",
     "evalue": "'top_tokens_score'",
     "output_type": "error",
     "traceback": [
      "\u001b[0;31m---------------------------------------------------------------------------\u001b[0m",
      "\u001b[0;31mKeyError\u001b[0m                                  Traceback (most recent call last)",
      "\u001b[0;32m<ipython-input-74-7243c878d496>\u001b[0m in \u001b[0;36m<module>\u001b[0;34m\u001b[0m\n\u001b[0;32m----> 1\u001b[0;31m \u001b[0msaved_top_tokens\u001b[0m \u001b[0;34m=\u001b[0m \u001b[0mmodel\u001b[0m\u001b[0;34m.\u001b[0m\u001b[0mscore_tracker\u001b[0m\u001b[0;34m[\u001b[0m\u001b[0;34m'top_tokens_score'\u001b[0m\u001b[0;34m]\u001b[0m\u001b[0;34m.\u001b[0m\u001b[0mlast_tokens\u001b[0m\u001b[0;34m\u001b[0m\u001b[0;34m\u001b[0m\u001b[0m\n\u001b[0m\u001b[1;32m      2\u001b[0m \u001b[0;32mfor\u001b[0m \u001b[0mtopic_name\u001b[0m \u001b[0;32min\u001b[0m \u001b[0mmodel\u001b[0m\u001b[0;34m.\u001b[0m\u001b[0mtopic_names\u001b[0m\u001b[0;34m:\u001b[0m\u001b[0;34m\u001b[0m\u001b[0;34m\u001b[0m\u001b[0m\n\u001b[1;32m      3\u001b[0m     \u001b[0mprint\u001b[0m\u001b[0;34m(\u001b[0m\u001b[0msaved_top_tokens\u001b[0m\u001b[0;34m[\u001b[0m\u001b[0mtopic_name\u001b[0m\u001b[0;34m]\u001b[0m\u001b[0;34m)\u001b[0m\u001b[0;34m\u001b[0m\u001b[0;34m\u001b[0m\u001b[0m\n",
      "\u001b[0;31mKeyError\u001b[0m: 'top_tokens_score'"
     ]
    }
   ],
   "source": [
    "saved_top_tokens = model.score_tracker['top_tokens_score'].last_tokens\n",
    "for topic_name in model.topic_names:\n",
    "    print(saved_top_tokens[topic_name])"
   ]
  },
  {
   "cell_type": "code",
   "execution_count": 217,
   "metadata": {
    "ExecuteTime": {
     "end_time": "2019-01-24T22:42:39.067035Z",
     "start_time": "2019-01-24T22:42:39.063961Z"
    }
   },
   "outputs": [
    {
     "ename": "SyntaxError",
     "evalue": "invalid syntax (<ipython-input-217-77b08f1c70ca>, line 3)",
     "output_type": "error",
     "traceback": [
      "\u001b[0;36m  File \u001b[0;32m\"<ipython-input-217-77b08f1c70ca>\"\u001b[0;36m, line \u001b[0;32m3\u001b[0m\n\u001b[0;31m    print(f'{model.score_tracker['TopTokensScore'].last_tokens[topic_name]}')\u001b[0m\n\u001b[0m                                               ^\u001b[0m\n\u001b[0;31mSyntaxError\u001b[0m\u001b[0;31m:\u001b[0m invalid syntax\n"
     ]
    }
   ],
   "source": [
    "for topic_name in model.topic_names:\n",
    "    print(f'{topic_name}:')\n",
    "    print(f'{model.score_tracker['TopTokensScore'].last_tokens[topic_name]}')"
   ]
  },
  {
   "cell_type": "code",
   "execution_count": 219,
   "metadata": {
    "ExecuteTime": {
     "end_time": "2019-01-24T22:42:54.161401Z",
     "start_time": "2019-01-24T22:42:54.157733Z"
    }
   },
   "outputs": [
    {
     "data": {
      "text/plain": [
       "{}"
      ]
     },
     "execution_count": 219,
     "metadata": {},
     "output_type": "execute_result"
    }
   ],
   "source": [
    "model.score_tracker['TopTokensScore'].last_tokens"
   ]
  },
  {
   "cell_type": "code",
   "execution_count": null,
   "metadata": {},
   "outputs": [],
   "source": [
    "model"
   ]
  },
  {
   "cell_type": "code",
   "execution_count": 32,
   "metadata": {
    "ExecuteTime": {
     "end_time": "2019-01-20T13:55:44.569451Z",
     "start_time": "2019-01-20T13:55:44.114334Z"
    },
    "scrolled": true
   },
   "outputs": [
    {
     "data": {
      "text/html": [
       "<div>\n",
       "<style scoped>\n",
       "    .dataframe tbody tr th:only-of-type {\n",
       "        vertical-align: middle;\n",
       "    }\n",
       "\n",
       "    .dataframe tbody tr th {\n",
       "        vertical-align: top;\n",
       "    }\n",
       "\n",
       "    .dataframe thead th {\n",
       "        text-align: right;\n",
       "    }\n",
       "</style>\n",
       "<table border=\"1\" class=\"dataframe\">\n",
       "  <thead>\n",
       "    <tr style=\"text-align: right;\">\n",
       "      <th></th>\n",
       "      <th>topic_0</th>\n",
       "      <th>topic_1</th>\n",
       "      <th>topic_2</th>\n",
       "      <th>topic_3</th>\n",
       "      <th>topic_4</th>\n",
       "      <th>topic_5</th>\n",
       "      <th>topic_6</th>\n",
       "      <th>topic_7</th>\n",
       "      <th>topic_8</th>\n",
       "      <th>topic_9</th>\n",
       "      <th>...</th>\n",
       "      <th>topic_41</th>\n",
       "      <th>topic_42</th>\n",
       "      <th>topic_43</th>\n",
       "      <th>topic_44</th>\n",
       "      <th>topic_45</th>\n",
       "      <th>topic_46</th>\n",
       "      <th>topic_47</th>\n",
       "      <th>topic_48</th>\n",
       "      <th>topic_49</th>\n",
       "      <th>word</th>\n",
       "    </tr>\n",
       "  </thead>\n",
       "  <tbody>\n",
       "    <tr>\n",
       "      <th>кампаньоть</th>\n",
       "      <td>0.0</td>\n",
       "      <td>0.0</td>\n",
       "      <td>0.0</td>\n",
       "      <td>0.0</td>\n",
       "      <td>0.000000</td>\n",
       "      <td>0.0</td>\n",
       "      <td>0.0</td>\n",
       "      <td>0.0</td>\n",
       "      <td>0.0</td>\n",
       "      <td>0.0</td>\n",
       "      <td>...</td>\n",
       "      <td>0.0</td>\n",
       "      <td>0.0</td>\n",
       "      <td>0.0</td>\n",
       "      <td>0.0</td>\n",
       "      <td>0.0</td>\n",
       "      <td>0.0</td>\n",
       "      <td>0.0</td>\n",
       "      <td>0.0</td>\n",
       "      <td>0.0</td>\n",
       "      <td>кампаньоть</td>\n",
       "    </tr>\n",
       "    <tr>\n",
       "      <th>сяося</th>\n",
       "      <td>0.0</td>\n",
       "      <td>0.0</td>\n",
       "      <td>0.0</td>\n",
       "      <td>0.0</td>\n",
       "      <td>0.000058</td>\n",
       "      <td>0.0</td>\n",
       "      <td>0.0</td>\n",
       "      <td>0.0</td>\n",
       "      <td>0.0</td>\n",
       "      <td>0.0</td>\n",
       "      <td>...</td>\n",
       "      <td>0.0</td>\n",
       "      <td>0.0</td>\n",
       "      <td>0.0</td>\n",
       "      <td>0.0</td>\n",
       "      <td>0.0</td>\n",
       "      <td>0.0</td>\n",
       "      <td>0.0</td>\n",
       "      <td>0.0</td>\n",
       "      <td>0.0</td>\n",
       "      <td>сяося</td>\n",
       "    </tr>\n",
       "    <tr>\n",
       "      <th>хаазе</th>\n",
       "      <td>0.0</td>\n",
       "      <td>0.0</td>\n",
       "      <td>0.0</td>\n",
       "      <td>0.0</td>\n",
       "      <td>0.000000</td>\n",
       "      <td>0.0</td>\n",
       "      <td>0.0</td>\n",
       "      <td>0.0</td>\n",
       "      <td>0.0</td>\n",
       "      <td>0.0</td>\n",
       "      <td>...</td>\n",
       "      <td>0.0</td>\n",
       "      <td>0.0</td>\n",
       "      <td>0.0</td>\n",
       "      <td>0.0</td>\n",
       "      <td>0.0</td>\n",
       "      <td>0.0</td>\n",
       "      <td>0.0</td>\n",
       "      <td>0.0</td>\n",
       "      <td>0.0</td>\n",
       "      <td>хаазе</td>\n",
       "    </tr>\n",
       "    <tr>\n",
       "      <th>ambro</th>\n",
       "      <td>0.0</td>\n",
       "      <td>0.0</td>\n",
       "      <td>0.0</td>\n",
       "      <td>0.0</td>\n",
       "      <td>0.000000</td>\n",
       "      <td>0.0</td>\n",
       "      <td>0.0</td>\n",
       "      <td>0.0</td>\n",
       "      <td>0.0</td>\n",
       "      <td>0.0</td>\n",
       "      <td>...</td>\n",
       "      <td>0.0</td>\n",
       "      <td>0.0</td>\n",
       "      <td>0.0</td>\n",
       "      <td>0.0</td>\n",
       "      <td>0.0</td>\n",
       "      <td>0.0</td>\n",
       "      <td>0.0</td>\n",
       "      <td>0.0</td>\n",
       "      <td>0.0</td>\n",
       "      <td>ambro</td>\n",
       "    </tr>\n",
       "    <tr>\n",
       "      <th>предсезонка</th>\n",
       "      <td>0.0</td>\n",
       "      <td>0.0</td>\n",
       "      <td>0.0</td>\n",
       "      <td>0.0</td>\n",
       "      <td>0.000000</td>\n",
       "      <td>0.0</td>\n",
       "      <td>0.0</td>\n",
       "      <td>0.0</td>\n",
       "      <td>0.0</td>\n",
       "      <td>0.0</td>\n",
       "      <td>...</td>\n",
       "      <td>0.0</td>\n",
       "      <td>0.0</td>\n",
       "      <td>0.0</td>\n",
       "      <td>0.0</td>\n",
       "      <td>0.0</td>\n",
       "      <td>0.0</td>\n",
       "      <td>0.0</td>\n",
       "      <td>0.0</td>\n",
       "      <td>0.0</td>\n",
       "      <td>предсезонка</td>\n",
       "    </tr>\n",
       "  </tbody>\n",
       "</table>\n",
       "<p>5 rows × 51 columns</p>\n",
       "</div>"
      ],
      "text/plain": [
       "             topic_0  topic_1  topic_2  topic_3   topic_4  topic_5  topic_6  \\\n",
       "кампаньоть       0.0      0.0      0.0      0.0  0.000000      0.0      0.0   \n",
       "сяося            0.0      0.0      0.0      0.0  0.000058      0.0      0.0   \n",
       "хаазе            0.0      0.0      0.0      0.0  0.000000      0.0      0.0   \n",
       "ambro            0.0      0.0      0.0      0.0  0.000000      0.0      0.0   \n",
       "предсезонка      0.0      0.0      0.0      0.0  0.000000      0.0      0.0   \n",
       "\n",
       "             topic_7  topic_8  topic_9     ...       topic_41  topic_42  \\\n",
       "кампаньоть       0.0      0.0      0.0     ...            0.0       0.0   \n",
       "сяося            0.0      0.0      0.0     ...            0.0       0.0   \n",
       "хаазе            0.0      0.0      0.0     ...            0.0       0.0   \n",
       "ambro            0.0      0.0      0.0     ...            0.0       0.0   \n",
       "предсезонка      0.0      0.0      0.0     ...            0.0       0.0   \n",
       "\n",
       "             topic_43  topic_44  topic_45  topic_46  topic_47  topic_48  \\\n",
       "кампаньоть        0.0       0.0       0.0       0.0       0.0       0.0   \n",
       "сяося             0.0       0.0       0.0       0.0       0.0       0.0   \n",
       "хаазе             0.0       0.0       0.0       0.0       0.0       0.0   \n",
       "ambro             0.0       0.0       0.0       0.0       0.0       0.0   \n",
       "предсезонка       0.0       0.0       0.0       0.0       0.0       0.0   \n",
       "\n",
       "             topic_49         word  \n",
       "кампаньоть        0.0   кампаньоть  \n",
       "сяося             0.0        сяося  \n",
       "хаазе             0.0        хаазе  \n",
       "ambro             0.0        ambro  \n",
       "предсезонка       0.0  предсезонка  \n",
       "\n",
       "[5 rows x 51 columns]"
      ]
     },
     "execution_count": 32,
     "metadata": {},
     "output_type": "execute_result"
    }
   ],
   "source": [
    "phi = model.get_phi()\n",
    "phi['word'] = phi.index\n",
    "phi.head()"
   ]
  },
  {
   "cell_type": "code",
   "execution_count": 33,
   "metadata": {
    "ExecuteTime": {
     "end_time": "2019-01-20T13:55:46.298497Z",
     "start_time": "2019-01-20T13:55:45.424978Z"
    },
    "scrolled": true
   },
   "outputs": [
    {
     "name": "stdout",
     "output_type": "stream",
     "text": [
      "topic_0\n",
      "\t ['болельщик' 'фанат' 'который' 'время' 'полиция' 'человек' 'стадион' 'это'\n",
      " 'инцидент' 'клуб']\n",
      "topic_1\n",
      "\t ['это' 'слово' 'заявить' 'сказать' 'рассказать' 'мочь' 'свой' 'отметить'\n",
      " 'хотеть' 'который']\n",
      "topic_2\n",
      "\t ['больница' 'время' 'врач' 'летний' 'произойти' 'смерть' 'автомобиль'\n",
      " 'находиться' 'помощь' 'машина']\n",
      "topic_3\n",
      "\t ['бразилия' 'аргентина' 'мир' 'рейтинг' 'место' 'бразильский' 'бразилец'\n",
      " 'футбол' 'сборная' 'мексика']\n",
      "topic_4\n",
      "\t ['биатлонист' 'россия' 'килограмм' 'мир' 'спортсмен' 'соревнование'\n",
      " 'чемпионат' 'союз' 'сбр' 'категория']\n",
      "topic_5\n",
      "\t ['миллион' 'доллар' 'компания' 'клуб' 'фунт' 'тысяча' 'владелец' 'акция'\n",
      " 'сумма' 'финансовый']\n",
      "topic_6\n",
      "\t ['кхл' 'хоккейный' 'клуб' 'металлург' 'ска' 'авангард' 'лига' 'хоккеист'\n",
      " 'динамо' 'барс']\n",
      "topic_7\n",
      "\t ['бой' 'поединок' 'кличко' 'боксёр' 'чемпион' 'боксёрский' 'мир' 'титул'\n",
      " 'версия' 'украинец']\n",
      "topic_8\n",
      "\t ['арбитр' 'карточка' 'игрок' 'франция' 'защитник' 'дисквалификация'\n",
      " 'судья' 'дисквалифицировать' 'футболист' 'нападать']\n",
      "topic_9\n",
      "\t ['рфс' 'российский' 'россия' 'союз' 'футбольный' 'спорт' 'президент'\n",
      " 'заявить' 'сборный' 'мутко']\n",
      "topic_10\n",
      "\t ['год' 'клуб' 'сезон' 'выступать' 'хороший' 'летний' 'чемпионат'\n",
      " 'футболист' 'это' 'стать']\n",
      "topic_11\n",
      "\t ['дело' 'драка' 'расследование' 'договорный' 'уголовный' 'отношение'\n",
      " 'статья' 'фильм' 'орган' 'прокуратура']\n",
      "topic_12\n",
      "\t ['медаль' 'олимпийский' 'олимпиада' 'завоевать' 'золотой' 'игра' 'метр'\n",
      " 'год' 'мир' 'бронзовый']\n",
      "topic_13\n",
      "\t ['украина' 'украинский' 'киевский' 'киев' 'решение' 'участие' 'украинец'\n",
      " 'принять' 'отказаться' 'федерация']\n",
      "topic_14\n",
      "\t ['россия' 'хоккей' 'сборный' 'швеция' 'мир' 'чехия' 'сборная' 'финляндия'\n",
      " 'канада' 'май']\n",
      "topic_15\n",
      "\t ['зенит' 'спартак' 'клуб' 'московский' 'россия' 'динамо' 'футбольный'\n",
      " 'матч' 'анжи' 'питерский']\n",
      "topic_16\n",
      "\t ['боец' 'запретить' 'препарат' 'спортсмен' 'смешанный' 'ufc' 'допингпроба'\n",
      " 'положительный' 'употребление' 'емельяненко']\n",
      "topic_17\n",
      "\t ['олимпийский' 'комитет' 'игра' 'год' 'мокнуть' 'антидопинговый' 'допинг'\n",
      " 'решение' 'международный' 'олимпиада']\n",
      "topic_18\n",
      "\t ['цска' 'челси' 'тренер' 'армеец' 'клуб' 'хиддинк' 'лондонский'\n",
      " 'московский' 'главный' 'моуринья']\n",
      "topic_19\n",
      "\t ['бой' 'поединок' 'боксёр' 'победа' 'чемпион' 'нокаут' 'титул' 'год'\n",
      " 'провести' 'вес']\n",
      "topic_20\n",
      "\t ['футболист' 'свой' 'это' 'который' 'игрок' 'заявить' 'манчестер'\n",
      " 'ребёнок' 'the' 'весь']\n",
      "topic_21\n",
      "\t ['счёт' 'минута' 'шайба' 'матч' 'период' 'забросить' 'встреча' 'победа'\n",
      " 'ворот' 'отличиться']\n",
      "topic_22\n",
      "\t ['очки' 'набрать' 'место' 'очко' 'матч' 'занимать' 'победа' 'счёт'\n",
      " 'чемпионат' 'команда']\n",
      "topic_23\n",
      "\t ['матч' 'тур' 'счёт' 'минута' 'локомотив' 'московский' 'спартак' 'цска'\n",
      " 'встреча' 'рубин']\n",
      "topic_24\n",
      "\t ['гонка' 'этап' 'место' 'формула' 'мир' 'пилот' 'занять' 'команда'\n",
      " 'гранпереть' 'стать']\n",
      "topic_25\n",
      "\t ['суд' 'сша' 'американский' 'спортсмен' 'штат' 'обвинение' 'тюрьма'\n",
      " 'заключение' 'летний' 'приговорить']\n",
      "topic_26\n",
      "\t ['канал' 'эфир' 'телеканал' 'трансляция' 'прямой' 'видео' 'журналист'\n",
      " 'показать' 'форма' 'youtube']\n",
      "topic_27\n",
      "\t ['программа' 'балл' 'катание' 'фигурный' 'пара' 'фигурист' 'короткий'\n",
      " 'место' 'плющенко' 'произвольный']\n",
      "topic_28\n",
      "\t ['мяч' 'минута' 'удар' 'ворот' 'тайм' 'счёт' 'гол' 'забить' 'ворота'\n",
      " 'штрафной']\n",
      "topic_29\n",
      "\t ['чемпионат' 'россия' 'июнь' 'пройти' 'турнир' 'мир' 'европа' 'год' 'матч'\n",
      " 'июль']\n",
      "topic_30\n",
      "\t ['милан' 'италия' 'итальянский' 'арсенал' 'интер' 'манчестер' 'ювентус'\n",
      " 'сити' 'чемпион' 'юнайтед']\n",
      "topic_31\n",
      "\t ['партия' 'тур' 'де' 'шахматы' 'мир' 'чемпион' 'гроссмейстер' 'франс'\n",
      " 'фиде' 'шахматный']\n",
      "topic_32\n",
      "\t ['миллион' 'евро' 'клуб' 'контракт' 'игрок' 'футболист' 'переход'\n",
      " 'зарплата' 'форвард' 'сумма']\n",
      "topic_33\n",
      "\t ['отборочный' 'группа' 'турнир' 'евро' 'ирландия' 'израиль' 'ставка'\n",
      " 'октябрь' 'европа' 'футбол']\n",
      "topic_34\n",
      "\t ['гонка' 'секунда' 'километр' 'промах' 'место' 'этап' 'эстафета' 'женский'\n",
      " 'кубок' 'минута']\n",
      "topic_35\n",
      "\t ['российский' 'спортсмен' 'россия' 'международный' 'это' 'федерация'\n",
      " 'риодежанейро' 'участие' 'iaaf' 'спорт']\n",
      "topic_36\n",
      "\t ['фифа' 'федерация' 'президент' 'год' 'футбол' 'организация' 'футбольный'\n",
      " 'проведение' 'международный' 'страна']\n",
      "topic_37\n",
      "\t ['турнир' 'финал' 'теннисист' 'матч' 'круг' 'счёт' 'сет' 'open' 'рейтинг'\n",
      " 'ракетка']\n",
      "topic_38\n",
      "\t ['лига' 'реал' 'матч' 'чемпион' 'барселона' 'испания' 'испанский' 'финал'\n",
      " 'клуб' 'мадридский']\n",
      "topic_39\n",
      "\t ['матч' 'сборный' 'команда' 'сборная' 'россия' 'чемпионат' 'игра' 'состав'\n",
      " 'сыграть' 'который']\n",
      "topic_40\n",
      "\t ['счёт' 'победа' 'матч' 'выиграть' 'свой' 'который' 'соперник'\n",
      " 'преимущество' 'финал' 'стать']\n",
      "topic_41\n",
      "\t ['тренер' 'команда' 'главный' 'год' 'клуб' 'наставник' 'пост' 'чемпионат'\n",
      " 'руководство' 'специалист']\n",
      "topic_42\n",
      "\t ['англия' 'английский' 'матч' 'ливерпуль' 'челси' 'манчестер' 'юнайтед'\n",
      " 'арбитр' 'клуб' 'премьерлига']\n",
      "topic_43\n",
      "\t ['очень' 'спортивный' 'свой' 'весь' 'новый' 'сезон' 'лига' 'это'\n",
      " 'генеральный' 'работа']\n",
      "topic_44\n",
      "\t ['год' 'спорт' 'россия' 'президент' 'олимпийский' 'федерация' 'ссср'\n",
      " 'чемпион' 'сборный' 'спортивный']\n",
      "topic_45\n",
      "\t ['россия' 'команда' 'весь' 'наш' 'сказать' 'сборный' 'слово' 'российский'\n",
      " 'который' 'страна']\n",
      "topic_46\n",
      "\t ['теннисистка' 'россиянка' 'турнир' 'шарапов' 'wta' 'соперница'\n",
      " 'американка' 'женский' 'мария_шарапов' 'теннисный']\n",
      "topic_47\n",
      "\t ['стадион' 'тысяча' 'рубль' 'билет' 'процент' 'год' 'строительство' 'арен'\n",
      " 'арена' 'зритель']\n",
      "topic_48\n",
      "\t ['нхл' 'матч' 'передача' 'форвард' 'вашингтон' 'клуб' 'регулярный'\n",
      " 'российский' 'шайба' 'лига']\n",
      "topic_49\n",
      "\t ['травма' 'изз' 'получить' 'пропустить' 'тренировка' 'смочь' 'время'\n",
      " 'участие' 'игра' 'операция']\n"
     ]
    }
   ],
   "source": [
    "for col in phi.columns:\n",
    "    if col != 'word':\n",
    "        print(col)\n",
    "        print('\\t',phi[[col, 'word']].sort_values(by=col, ascending=False)['word'].values[:10])\n"
   ]
  },
  {
   "cell_type": "code",
   "execution_count": null,
   "metadata": {},
   "outputs": [],
   "source": []
  },
  {
   "cell_type": "markdown",
   "metadata": {},
   "source": [
    "---"
   ]
  },
  {
   "cell_type": "code",
   "execution_count": 139,
   "metadata": {},
   "outputs": [
    {
     "name": "stdout",
     "output_type": "stream",
     "text": [
      "10 .........\n",
      "\ttime:  0:01:01.926256\n",
      "20 .........\n",
      "\ttime:  0:01:11.502151\n",
      "30 .........\n",
      "\ttime:  0:01:21.609889\n",
      "40 .........\n",
      "\ttime:  0:01:30.651409\n",
      "50 .........\n",
      "\ttime:  0:01:39.922096\n",
      "60 .........\n",
      "\ttime:  0:01:48.397480\n",
      "70 .........\n",
      "\ttime:  0:01:52.436788\n",
      "80 .........\n",
      "\ttime:  0:02:00.984747\n",
      "90 .........\n",
      "\ttime:  0:02:10.510832\n",
      "CPU times: user 2h 1min 10s, sys: 0 ns, total: 2h 1min 10s\n",
      "Wall time: 14min 37s\n"
     ]
    }
   ],
   "source": [
    "%%time\n",
    "step, perplexity, sparseTheta = [], [], []\n",
    "\n",
    "for i in range(10,100,10):\n",
    "    print(f'{i} .........')\n",
    "    step.append(i)\n",
    "    date_start = time.now()\n",
    "    \n",
    "    num_topics = i\n",
    "    model = artm.ARTM(num_topics=num_topics, dictionary=dictionary)\n",
    "    \n",
    "    # scores\n",
    "    model.scores.add(artm.PerplexityScore(name='PerplexityScore',dictionary=dictionary))\n",
    "    model.scores.add(artm.SparsityThetaScore(name='SparsityThetaScore'))\n",
    "\n",
    "    # regularizers\n",
    "    model.regularizers.add(artm.SmoothSparsePhiRegularizer(name='SparsePhi', tau=-0.1))\n",
    "    model.regularizers.add(artm.SmoothSparseThetaRegularizer(name='SparseTheta', tau=-0.5))\n",
    "    model.regularizers.add(artm.DecorrelatorPhiRegularizer(name='DecorrelatorPhi', tau=1.5e+5))\n",
    "    \n",
    "    model.fit_offline(batch_vectorizer=batch_vectorizer, num_collection_passes=50)\n",
    "    \n",
    "    sparseTheta.append(model.score_tracker['SparsityThetaScore'].last_value)\n",
    "    perplexity.append(model.score_tracker['PerplexityScore'].last_value)\n",
    "    print(f'\\tSparsityThetaScore: {SparsityThetaScore}')\n",
    "    print(f'\\tPerplexityScore: {PerplexityScore}')\n",
    "    print('\\ttime:',time.now()-date_start)"
   ]
  },
  {
   "cell_type": "code",
   "execution_count": 140,
   "metadata": {},
   "outputs": [
    {
     "data": {
      "text/plain": [
       "Text(0.5, 1.0, 'PerplexityScore')"
      ]
     },
     "execution_count": 140,
     "metadata": {},
     "output_type": "execute_result"
    },
    {
     "data": {
      "image/png": "[encoded data removed]",
      "text/plain": [
       "<Figure size 432x288 with 1 Axes>"
      ]
     },
     "metadata": {
      "needs_background": "light"
     },
     "output_type": "display_data"
    }
   ],
   "source": [
    "plt.plot(step, perplexity)\n",
    "\n",
    "ax = plt.gca()\n",
    "ax.set_xticks(step)\n",
    "\n",
    "plt.grid()\n",
    "plt.title('PerplexityScore')"
   ]
  },
  {
   "cell_type": "code",
   "execution_count": 141,
   "metadata": {},
   "outputs": [
    {
     "data": {
      "text/plain": [
       "Text(0.5, 1.0, 'SparsityThetaScore')"
      ]
     },
     "execution_count": 141,
     "metadata": {},
     "output_type": "execute_result"
    },
    {
     "data": {
      "image/png": "[encoded data removed]",
      "text/plain": [
       "<Figure size 432x288 with 1 Axes>"
      ]
     },
     "metadata": {
      "needs_background": "light"
     },
     "output_type": "display_data"
    }
   ],
   "source": [
    "plt.plot(step, sparseTheta)\n",
    "\n",
    "ax = plt.gca()\n",
    "ax.set_xticks(step)\n",
    "\n",
    "plt.grid()\n",
    "plt.title('SparsityThetaScore')"
   ]
  },
  {
   "cell_type": "code",
   "execution_count": 142,
   "metadata": {
    "collapsed": true
   },
   "outputs": [
    {
     "name": "stdout",
     "output_type": "stream",
     "text": [
      "topic_0\n",
      "\t ['турецкий' 'турция' 'самолёт' 'аэропорт' 'автобус' 'отель' 'прибыть'\n",
      " 'фенербахча' 'гостиница' 'прилететь']\n",
      "topic_1\n",
      "\t ['журналист' 'информация' 'опровергнуть' 'сми' 'вопрос' 'появиться'\n",
      " 'интервью' 'ответить' 'слух' 'гражданство']\n",
      "topic_2\n",
      "\t ['больница' 'врач' 'смерть' 'скончаться' 'помощь' 'время' 'состояние'\n",
      " 'умереть' 'находиться' 'летний']\n",
      "topic_3\n",
      "\t ['бразилия' 'бразильский' 'бразилец' 'роналдиньо' 'америка' 'сантос'\n",
      " 'пеле' 'парагвай' 'санпаула' 'фламенго']\n",
      "topic_4\n",
      "\t ['мир' 'чемпионат' 'россия' 'турнир' 'первенство' 'пройти' 'участие'\n",
      " 'мировой' 'сообщать' 'чемпион']\n",
      "topic_5\n",
      "\t ['миллион' 'доллар' 'тысяча' 'сумма' 'евро' 'фунт' 'деньга' 'зарплата'\n",
      " 'рубль' 'получить']\n",
      "topic_6\n",
      "\t ['кхл' 'хоккейный' 'ска' 'авангард' 'металлург' 'ак' 'барс' 'хоккеист'\n",
      " 'динамо' 'салават']\n",
      "topic_7\n",
      "\t ['бой' 'чемпион' 'поединок' 'кличко' 'боксёр' 'титул' 'год' 'боксёрский'\n",
      " 'мир' 'версия']\n",
      "topic_8\n",
      "\t ['карточка' 'жёлтый' 'португалия' 'красный' 'порту' 'португальский'\n",
      " 'португалец' 'греция' 'хорватский' 'хорватия']\n",
      "topic_9\n",
      "\t ['россия' 'российский' 'слово' 'рфс' 'спорт' 'союз' 'это' 'заявить'\n",
      " 'советский' 'сборный']\n",
      "topic_10\n",
      "\t ['хороший' 'приз' 'бомбардир' 'мяч' 'признанный' 'игрок' 'голосование'\n",
      " 'футболист' 'итог' 'золотой']\n",
      "topic_11\n",
      "\t ['антидопинговый' 'wada' 'агентство' 'комиссия' 'всемирный' 'допинг'\n",
      " 'доклад' 'расследование' 'независимый' 'русад']\n",
      "topic_12\n",
      "\t ['метр' 'прыжок' 'дистанция' 'бег' 'забег' 'результат' 'соревнование'\n",
      " 'спортсменка' 'высота' 'секунда']\n",
      "topic_13\n",
      "\t ['запретить' 'допинг' 'препарат' 'допингпроба' 'употребление'\n",
      " 'положительный' 'спортсмен' 'результат' 'проба' 'обнаружить']\n",
      "topic_14\n",
      "\t ['хоккей' 'швеция' 'финляндия' 'чехия' 'швед' 'май' 'чех' 'шведский'\n",
      " 'хоккеист' 'этап']\n",
      "topic_15\n",
      "\t ['спартак' 'зенит' 'россия' 'московский' 'рубин' 'анжи' 'динамо'\n",
      " 'питерский' 'футбольный' 'полузащитник']\n",
      "topic_16\n",
      "\t ['боец' 'смешанный' 'ufc' 'емельяненко' 'мма' 'бой' 'стиль' 'единоборство'\n",
      " 'макгрегор' 'поединок']\n",
      "topic_17\n",
      "\t ['полиция' 'дело' 'обвинение' 'задержать' 'суд' 'автомобиль' 'спортсмен'\n",
      " 'сообщать' 'уголовный' 'летний']\n",
      "topic_18\n",
      "\t ['цска' 'армеец' 'хиддинк' 'московский' 'евролига' 'моуринья' 'армейский'\n",
      " 'слуцкий' 'вагнер_лав' 'валерий_газзаев']\n",
      "topic_19\n",
      "\t ['бой' 'боксёр' 'победа' 'поединок' 'нокаут' 'вес' 'поражение' 'летний'\n",
      " 'чемпион' 'одержать']\n",
      "topic_20\n",
      "\t ['футболист' 'игрок' 'свой' 'the' 'ребёнок' 'издание' 'бывший' 'футбол'\n",
      " 'семья' 'имя']\n",
      "topic_21\n",
      "\t ['минута' 'счёт' 'шайба' 'период' 'забросить' 'ворот' 'отличиться'\n",
      " 'третье' 'вперёд' 'сравнять']\n",
      "topic_22\n",
      "\t ['очки' 'набрать' 'место' 'тур' 'очко' 'таблица' 'занимать' 'чемпионат'\n",
      " 'турнирный' 'четыре']\n",
      "topic_23\n",
      "\t ['матч' 'счёт' 'который' 'встреча' 'это' 'игра' 'команда' 'клуб' 'победа'\n",
      " 'чемпионат']\n",
      "topic_24\n",
      "\t ['формула' 'пилот' 'гонка' 'гранпереть' 'гонщик' 'михаэль_шумахер'\n",
      " 'шумахер' 'ferrari' 'этап' 'машина']\n",
      "topic_25\n",
      "\t ['борец' 'борьба' 'штат' 'вольный' 'илюмжинов' 'схватка' 'грекоримский'\n",
      " 'писториус' 'фсбра' 'грабитель']\n",
      "topic_26\n",
      "\t ['форма' 'трасса' 'экипаж' 'скорость' 'температура' 'надпись' 'час' 'цвет'\n",
      " 'километр' 'градус']\n",
      "topic_27\n",
      "\t ['компания' 'спонсор' 'реклама' 'рекламный' 'гимнастика' 'пиво' 'модель'\n",
      " 'газпром' 'логотип' 'художественный']\n",
      "topic_28\n",
      "\t ['мяч' 'минута' 'тайм' 'ворот' 'удар' 'забить' 'гол' 'счёт' 'ворота'\n",
      " 'штрафной']\n",
      "topic_29\n",
      "\t ['москва' 'город' 'билет' 'санктпетербург' 'проведение' 'пройти' 'столица'\n",
      " 'казань' 'нижний' 'мероприятие']\n",
      "topic_30\n",
      "\t ['итальянский' 'милан' 'италия' 'интер' 'ювентус' 'миланский' 'итальянец'\n",
      " 'туринский' 'шевченко' 'ром']\n",
      "topic_31\n",
      "\t ['де' 'франс' 'тур' 'велогонщик' 'армстронг' 'велоспорт' 'велосипедист'\n",
      " 'гонщик' 'веломногоднёвка' 'велогонка']\n",
      "topic_32\n",
      "\t ['клуб' 'контракт' 'игрок' 'футболист' 'подписать' 'перейти' 'евро'\n",
      " 'сезон' 'форвард' 'соглашение']\n",
      "topic_33\n",
      "\t ['юар' 'ивуар' 'нигерия' 'африканский' 'котд' 'израиль' 'африка' 'гана'\n",
      " 'израильский' 'камерун']\n",
      "topic_34\n",
      "\t ['гонка' 'этап' 'биатлонист' 'секунда' 'кубок' 'промах' 'биатлон'\n",
      " 'эстафета' 'женский' 'километр']\n",
      "topic_35\n",
      "\t ['это' 'который' 'заявить' 'весь' 'слово' 'свой' 'сказать' 'отметить'\n",
      " 'мочь' 'время']\n",
      "topic_36\n",
      "\t ['фифа' 'федерация' 'футбол' 'президент' 'организация' 'футбольный'\n",
      " 'международный' 'ассоциация' 'это' 'страна']\n",
      "topic_37\n",
      "\t ['турнир' 'теннисист' 'сет' 'испанец' 'швейцарец' 'open' 'круг' 'финал'\n",
      " 'роджер_федерер' 'ракетка']\n",
      "topic_38\n",
      "\t ['реал' 'мадридский' 'испания' 'испанский' 'роналда' 'криштиан_роналд'\n",
      " 'атлетико' 'севилья' 'португалец' 'испанец']\n",
      "topic_39\n",
      "\t ['вратарь' 'состав' 'защитник' 'голкипер' 'оба' 'игрок' 'тренер'\n",
      " 'нападать' 'главный' 'вызвать']\n",
      "topic_40\n",
      "\t ['победа' 'счёт' 'свой' 'выиграть' 'преимущество' 'стать' 'борьба'\n",
      " 'соперник' 'однако' 'суметь']\n",
      "topic_41\n",
      "\t ['год' 'команда' 'сезон' 'выступать' 'стать' 'клуб' 'чемпионат' 'летний'\n",
      " 'сообщать' 'чемпион']\n",
      "topic_42\n",
      "\t ['арбитр' 'судья' 'рефери' 'судейство' 'назначить' 'судейский'\n",
      " 'обслуживать' 'судить' 'эпизод' 'засчитать']\n",
      "topic_43\n",
      "\t ['директор' 'генеральный' 'новый' 'прессрелиз' 'проект' 'работа'\n",
      " 'редакция' 'поступить' 'новое' 'система']\n",
      "topic_44\n",
      "\t ['ссср' 'хоккей' 'фхр' 'федерация' 'хоккейный' 'слава' 'фетисов'\n",
      " 'хоккеист' 'зал' 'третьяк']\n",
      "topic_45\n",
      "\t ['баскетбол' 'рфб' 'виза' 'иран' 'литва' 'предсказать' 'фиб'\n",
      " 'баскетболистка' 'деревня' 'волейболист']\n",
      "topic_46\n",
      "\t ['турнир' 'россиянка' 'теннисистка' 'шарапов' 'финал' 'круг' 'женский'\n",
      " 'wta' 'ракетка' 'сет']\n",
      "topic_47\n",
      "\t ['стадион' 'арен' 'арена' 'тысяча' 'строительство' 'зритель' 'домашний'\n",
      " 'открытие' 'проводить' 'спортивный']\n",
      "topic_48\n",
      "\t ['детройт' 'нхл' 'ред' 'стэнли' 'санхосе' 'чикаго' 'финикс' 'уингс'\n",
      " 'анахайма' 'ванкувер']\n",
      "topic_49\n",
      "\t ['травма' 'изз' 'получить' 'пропустить' 'смочь' 'тренировка' 'участие'\n",
      " 'операция' 'колено' 'принять']\n",
      "topic_50\n",
      "\t ['партия' 'шахматы' 'гроссмейстер' 'фиде' 'шахматный' 'крамник'\n",
      " 'шахматист' 'каспаров' 'владимир_крамник' 'ход']\n",
      "topic_51\n",
      "\t ['германия' 'бавария' 'немецкий' 'аргентина' 'ван' 'марадон' 'мюнхенский'\n",
      " 'аргентинец' 'аргентинский' 'немец']\n",
      "topic_52\n",
      "\t ['лига' 'чемпион' 'уефа' 'группа' 'европа' 'групповой' 'ответный' 'турнир'\n",
      " 'финал' 'этап']\n",
      "topic_53\n",
      "\t ['инцидент' 'произойти' 'драка' 'ударить' 'лицо' 'удар' 'конфликт' 'рука'\n",
      " 'извинение' 'поведение']\n",
      "topic_54\n",
      "\t ['вудс' 'регби' 'гольф' 'бадминтон' 'куба' 'бейсбол' 'эрнандес'\n",
      " 'кубинский' 'бейсбольный' 'world']\n",
      "topic_55\n",
      "\t ['сша' 'канада' 'американский' 'канадец' 'американец' 'канадский'\n",
      " 'молодёжный' 'торонто' 'америка' 'уэйд']\n",
      "topic_56\n",
      "\t ['нба' 'баскетболист' 'набрать' 'очки' 'подбор' 'баскетбольный'\n",
      " 'результативный' 'самый' 'лейкерс' 'сделать']\n",
      "topic_57\n",
      "\t ['ставка' 'договорный' 'букмекер' 'коэффициент' 'фаворит' 'букмекерский'\n",
      " 'контора' 'шанс' 'поставить' 'процент']\n",
      "topic_58\n",
      "\t ['женщина' 'мужчина' 'танец' 'максим' 'спринтерский' 'старший' 'пихлера'\n",
      " 'елена' 'дуэт' 'петров']\n",
      "topic_59\n",
      "\t ['олимпийский' 'игра' 'спортсмен' 'олимпиада' 'год' 'российский' 'это'\n",
      " 'международный' 'комитет' 'россия']\n",
      "topic_60\n",
      "\t ['июнь' 'лентыр' 'корреспондент' 'июль' 'уругвай' 'конфедерация' 'мексика'\n",
      " 'групповой' 'бельгия' 'саудовский']\n",
      "topic_61\n",
      "\t ['челси' 'арсенал' 'лондонский' 'аршавино' 'лондонец' 'роман_абрам'\n",
      " 'жозе_моуринья' 'англия' 'английский' 'андрей_аршавин']\n",
      "topic_62\n",
      "\t ['барселона' 'испанский' 'месси' 'бекхэма' 'псж' 'неймара' 'испания'\n",
      " 'лионель_месси' 'роналдый' 'каталонский']\n",
      "topic_63\n",
      "\t ['карьера' 'спортсменка' 'карьер' 'завершение' 'чемпионка' 'объявить'\n",
      " 'завершить' 'спорт' 'олимпийский' 'двукратный']\n",
      "topic_64\n",
      "\t ['атлетика' 'лёгкий' 'iaaf' 'легкоатлет' 'вфл' 'легкоатлетический'\n",
      " 'всероссийский' 'ассоциация' 'прыгунья' 'длина']\n",
      "topic_65\n",
      "\t ['спорт' 'министр' 'президент' 'страна' 'спортивный' 'вид'\n",
      " 'владимир_путин' 'мутко' 'виталий_мутко' 'россия']\n",
      "topic_66\n",
      "\t ['тренер' 'главный' 'команда' 'наставник' 'клуб' 'пост' 'специалист'\n",
      " 'руководство' 'главное' 'работать']\n",
      "topic_67\n",
      "\t ['заявление' 'говориться' 'письмо' 'клуб' 'сайт' 'официальный' 'сообщение'\n",
      " 'документ' 'руководство' 'просьба']\n",
      "topic_68\n",
      "\t ['youtube' 'видео' 'выложить' 'видеозапись' 'канал' 'ролик' 'появиться'\n",
      " 'запись' 'new' 'разместить']\n",
      "topic_69\n",
      "\t ['рекорд' 'дистанция' 'установить' 'секунда' 'плавание' 'метр' 'лыжный'\n",
      " 'пловец' 'километр' 'стиль']\n",
      "topic_70\n",
      "\t ['килограмм' 'категория' 'весовой' 'армения' 'свыше' 'тищенко' 'армянский'\n",
      " 'чахкиев' 'алексеев' 'артур']\n",
      "topic_71\n",
      "\t ['франция' 'французский' 'француз' 'евро' 'марсель' 'уэльс' 'монако'\n",
      " 'кокорин' 'гимн' 'карта']\n",
      "topic_72\n",
      "\t ['грузия' 'химки' 'огонь' 'грузинский' 'песня' 'факел' 'тбилиси' 'блатт'\n",
      " 'билич' 'григорян']\n",
      "topic_73\n",
      "\t ['программа' 'балл' 'катание' 'фигурный' 'фигурист' 'короткий' 'пара'\n",
      " 'произвольный' 'фигуристка' 'соревнование']\n",
      "topic_74\n",
      "\t ['финал' 'кубок' 'серия' 'полуфинал' 'победитель' 'финальный' 'май'\n",
      " 'полуфинальный' 'обыграть' 'выиграть']\n",
      "topic_75\n",
      "\t ['динамо' 'президент' 'совет' 'директор' 'футбольный' 'пост' 'рфс'\n",
      " 'председатель' 'премьерлига' 'заседание']\n",
      "topic_76\n"
     ]
    },
    {
     "name": "stdout",
     "output_type": "stream",
     "text": [
      "\t ['украина' 'украинский' 'шахтёр' 'киевский' 'донецкий' 'киев' 'украинец'\n",
      " 'днепр' 'ффу' 'киевлянин']\n",
      "topic_77\n",
      "\t ['медаль' 'завоевать' 'золотой' 'бронзовый' 'серебряный' 'олимпиада'\n",
      " 'олимпийский' 'призёр' 'выиграть' 'игра']\n",
      "topic_78\n",
      "\t ['телеканал' 'трансляция' 'канал' 'эфир' 'прямой' 'комментатор' 'вести'\n",
      " 'тв' 'руни' 'нтв']\n",
      "topic_79\n",
      "\t ['болельщик' 'фанат' 'стадион' 'футбольный' 'человек' 'время' 'полиция'\n",
      " 'трибуна' 'беспорядок' 'задержать']\n",
      "topic_80\n",
      "\t ['локомотив' 'крыло' 'московский' 'совет' 'ростов' 'москва' 'динамо'\n",
      " 'сатурн' 'торпедо' 'спартак']\n",
      "topic_81\n",
      "\t ['манчестер' 'англия' 'английский' 'юнайтед' 'сити' 'ливерпуль' 'мю'\n",
      " 'тоттенхэма' 'премьерлига' 'англичанин']\n",
      "topic_82\n",
      "\t ['twitter' 'написать' 'страница' 'аккаунт' 'instagram' 'белорусский'\n",
      " 'опубликовать' 'фотография' 'белоруссия' 'пользователь']\n",
      "topic_83\n",
      "\t ['южный' 'корея' 'япония' 'японский' 'кндр' 'узбекистан' 'корейский'\n",
      " 'кореец' 'оаэ' 'ривалдый']\n",
      "topic_84\n",
      "\t ['место' 'занять' 'рейтинг' 'третье' 'занимать' 'первое' 'позиция'\n",
      " 'строчка' 'итог' 'пять']\n",
      "topic_85\n",
      "\t ['сафин' 'дэвис' 'марат_сафина' 'теннисист' 'австралия' 'теннис' 'сет'\n",
      " 'парный' 'михаил_южный' 'евгений_кафельник']\n",
      "topic_86\n",
      "\t ['сборный' 'команда' 'сборная' 'россия' 'матч' 'который' 'турнир' 'группа'\n",
      " 'чемпионат' 'футбол']\n",
      "topic_87\n",
      "\t ['нхл' 'шайба' 'передача' 'вашингтон' 'форвард' 'забросить' 'российский'\n",
      " 'лига' 'регулярный' 'хоккеист']\n",
      "topic_88\n",
      "\t ['решение' 'дисквалификация' 'дисквалифицировать' 'суд' 'штраф' 'комитет'\n",
      " 'тысяча' 'наказание' 'оштрафовать' 'нарушение']\n",
      "topic_89\n",
      "\t ['тихонов' 'сербский' 'сбр' 'сербия' 'партизан' 'серб' 'прохоров' 'црвена'\n",
      " 'белград' 'нетс']\n"
     ]
    }
   ],
   "source": [
    "phi = model.get_phi()\n",
    "phi['word'] = phi.index\n",
    "\n",
    "for col in phi.columns:\n",
    "    if col != 'word':\n",
    "        print(col)\n",
    "        print('\\t',phi[[col, 'word']].sort_values(by=col, ascending=False)['word'].values[:10])"
   ]
  },
  {
   "cell_type": "code",
   "execution_count": null,
   "metadata": {},
   "outputs": [],
   "source": []
  },
  {
   "cell_type": "markdown",
   "metadata": {
    "heading_collapsed": true
   },
   "source": [
    "## with n-grams"
   ]
  },
  {
   "cell_type": "markdown",
   "metadata": {
    "hidden": true
   },
   "source": [
    "* ### 2-grams"
   ]
  },
  {
   "cell_type": "code",
   "execution_count": 38,
   "metadata": {
    "ExecuteTime": {
     "end_time": "2019-01-20T13:58:28.794298Z",
     "start_time": "2019-01-20T13:57:45.438926Z"
    },
    "hidden": true,
    "scrolled": true
   },
   "outputs": [],
   "source": [
    "# create 2-grams\n",
    "\n",
    "text = df.text\n",
    "tokenized_train = [t.split() for t in text]\n",
    "\n",
    "phrases = Phrases(tokenized_train)\n",
    "bigram = Phraser(phrases)"
   ]
  },
  {
   "cell_type": "code",
   "execution_count": 41,
   "metadata": {
    "ExecuteTime": {
     "end_time": "2019-01-20T13:59:17.844319Z",
     "start_time": "2019-01-20T13:59:17.841466Z"
    },
    "hidden": true
   },
   "outputs": [
    {
     "name": "stdout",
     "output_type": "stream",
     "text": [
      "['на', 'завершившемся', 'в', 'японии', 'чемпионате_мира', 'формулы', 'пилот_mclaren', 'мика_хаккинен', 'сохранил_титул', 'чемпиона', 'гонщики', 'ferrari_михаэль_шумахер', 'и', 'эдди_ирвайн', 'заняли_второе', 'и', 'третье_места', 'зато', 'болиды', 'ferrari', 'оказались', 'лучшими', 'в', 'нынешнем_сезоне', 'автогонокформулы', 'завоевав', 'первое_место', 'по_итогам', 'чемпионата_мира', 'в', 'категории', 'конструкторов', 'как_передает', 'итартасс', 'инженеры', 'ferrariнабрали', 'очков', 'после', 'заключительного_этапа', 'состязаний', 'в', 'японской', 'судзуке', 'опередив', 'конкурентов', 'из', 'mclaren', 'на', 'четыре_очка', 'знаменитая', 'марка', 'вернула_себе', 'высший', 'титул', 'после', 'летнего_перерыва', 'последний_раз', 'в', 'данной', 'категории', 'команда', 'ferrari', 'была', 'лучшей', 'в', 'году', 'как', 'считают', 'спортивные', 'обозреватели', 'победа', 'хаккинена', 'была', 'предопределена', 'уже', 'с', 'самого_старта', 'когда', 'он', 'вырвался_вперед', 'опередив', 'шумахера', 'по', 'какимто_причинам', 'немцу', 'не_удалось', 'резко', 'разогнать', 'свой_болид', 'шумахера', 'обвиняют', 'также', 'в', 'том_что', 'в', 'ходе_гонки', 'он', 'не', 'помог', 'партнеру_по', 'команде', 'эдди', 'ирвайну', 'обогнать', 'хаккинена', 'это_дало', 'бы', 'ирландцу', 'возможность_выиграть', 'титул_чемпиона', 'изза', 'большой', 'разницы', 'во', 'времени', 'с_японией', 'фанатам', 'гонок', 'формула', 'пришлось', 'наблюдать', 'финальные', 'состязания', 'глубокой', 'ночью', 'на', 'площадях', 'многих', 'итальянских', 'городов', 'были_установлены', 'огромные', 'телеэкраны', 'и', 'велась', 'прямая_трансляция', 'заездов', 'из', 'японии', 'в', 'следующем_сезоне', 'ирвайн', 'выступит', 'за', 'команду', 'jaguar', 'которая', 'будет', 'дебютировать', 'на', 'гонках_формулы']\n"
     ]
    }
   ],
   "source": [
    "sent = df.text[10].split()\n",
    "print(bigram[sent])"
   ]
  },
  {
   "cell_type": "code",
   "execution_count": 43,
   "metadata": {
    "ExecuteTime": {
     "end_time": "2019-01-20T14:00:20.360879Z",
     "start_time": "2019-01-20T14:00:20.349567Z"
    },
    "hidden": true
   },
   "outputs": [
    {
     "data": {
      "text/html": [
       "<div>\n",
       "<style scoped>\n",
       "    .dataframe tbody tr th:only-of-type {\n",
       "        vertical-align: middle;\n",
       "    }\n",
       "\n",
       "    .dataframe tbody tr th {\n",
       "        vertical-align: top;\n",
       "    }\n",
       "\n",
       "    .dataframe thead th {\n",
       "        text-align: right;\n",
       "    }\n",
       "</style>\n",
       "<table border=\"1\" class=\"dataframe\">\n",
       "  <thead>\n",
       "    <tr style=\"text-align: right;\">\n",
       "      <th></th>\n",
       "      <th>1914-lenta/</th>\n",
       "      <th>url</th>\n",
       "      <th>edition</th>\n",
       "      <th>topics</th>\n",
       "      <th>title</th>\n",
       "      <th>text</th>\n",
       "      <th>topic</th>\n",
       "      <th>date_raw</th>\n",
       "      <th>year</th>\n",
       "      <th>month</th>\n",
       "      <th>lemmatized_text</th>\n",
       "      <th>docID</th>\n",
       "    </tr>\n",
       "  </thead>\n",
       "  <tbody>\n",
       "    <tr>\n",
       "      <th>0</th>\n",
       "      <td>1999-10-08 12:00:00</td>\n",
       "      <td>https://lenta.ru/news/1999/10/08/boxing/</td>\n",
       "      <td>NaN</td>\n",
       "      <td>Мир</td>\n",
       "      <td>Дочь Мухаммеда Али дебютирует на ринге</td>\n",
       "      <td>лейла али дочь известного боксератяжеловеса му...</td>\n",
       "      <td>Спорт</td>\n",
       "      <td>[(1999, 10, 08)]</td>\n",
       "      <td>1999</td>\n",
       "      <td>10</td>\n",
       "      <td>[лейла, али, дочь, известный, боксератяжеловес...</td>\n",
       "      <td>0</td>\n",
       "    </tr>\n",
       "    <tr>\n",
       "      <th>1</th>\n",
       "      <td>1999-10-09 12:00:00</td>\n",
       "      <td>https://lenta.ru/news/1999/10/09/football/</td>\n",
       "      <td>NaN</td>\n",
       "      <td>Россия</td>\n",
       "      <td>Россия — Украина: ничья 1:1, Франция выиграла ...</td>\n",
       "      <td>в субботу  октября на большой спортивной арене...</td>\n",
       "      <td>Спорт</td>\n",
       "      <td>[(1999, 10, 09)]</td>\n",
       "      <td>1999</td>\n",
       "      <td>10</td>\n",
       "      <td>[суббота, октябрь, большой, спортивный, арен, ...</td>\n",
       "      <td>1</td>\n",
       "    </tr>\n",
       "  </tbody>\n",
       "</table>\n",
       "</div>"
      ],
      "text/plain": [
       "           1914-lenta/                                         url  edition  \\\n",
       "0  1999-10-08 12:00:00    https://lenta.ru/news/1999/10/08/boxing/      NaN   \n",
       "1  1999-10-09 12:00:00  https://lenta.ru/news/1999/10/09/football/      NaN   \n",
       "\n",
       "   topics                                              title  \\\n",
       "0     Мир             Дочь Мухаммеда Али дебютирует на ринге   \n",
       "1  Россия  Россия — Украина: ничья 1:1, Франция выиграла ...   \n",
       "\n",
       "                                                text  topic          date_raw  \\\n",
       "0  лейла али дочь известного боксератяжеловеса му...  Спорт  [(1999, 10, 08)]   \n",
       "1  в субботу  октября на большой спортивной арене...  Спорт  [(1999, 10, 09)]   \n",
       "\n",
       "   year  month                                    lemmatized_text  docID  \n",
       "0  1999     10  [лейла, али, дочь, известный, боксератяжеловес...      0  \n",
       "1  1999     10  [суббота, октябрь, большой, спортивный, арен, ...      1  "
      ]
     },
     "execution_count": 43,
     "metadata": {},
     "output_type": "execute_result"
    }
   ],
   "source": [
    "df.head(2)"
   ]
  },
  {
   "cell_type": "markdown",
   "metadata": {
    "hidden": true
   },
   "source": [
    "### lemmatization"
   ]
  },
  {
   "cell_type": "code",
   "execution_count": 46,
   "metadata": {
    "ExecuteTime": {
     "end_time": "2019-01-20T14:08:39.386148Z",
     "start_time": "2019-01-20T14:02:55.588454Z"
    },
    "hidden": true
   },
   "outputs": [
    {
     "name": "stdout",
     "output_type": "stream",
     "text": [
      "CPU times: user 6min 11s, sys: 12.2 s, total: 6min 24s\n",
      "Wall time: 5min 43s\n"
     ]
    }
   ],
   "source": [
    "%%time\n",
    "df['lemmatized_text_2gram'] = df.text.apply(lambda x: pr.lemmatization(x.split()))"
   ]
  },
  {
   "cell_type": "code",
   "execution_count": 47,
   "metadata": {
    "ExecuteTime": {
     "end_time": "2019-01-20T14:11:55.248991Z",
     "start_time": "2019-01-20T14:11:55.235167Z"
    },
    "hidden": true
   },
   "outputs": [
    {
     "data": {
      "text/html": [
       "<div>\n",
       "<style scoped>\n",
       "    .dataframe tbody tr th:only-of-type {\n",
       "        vertical-align: middle;\n",
       "    }\n",
       "\n",
       "    .dataframe tbody tr th {\n",
       "        vertical-align: top;\n",
       "    }\n",
       "\n",
       "    .dataframe thead th {\n",
       "        text-align: right;\n",
       "    }\n",
       "</style>\n",
       "<table border=\"1\" class=\"dataframe\">\n",
       "  <thead>\n",
       "    <tr style=\"text-align: right;\">\n",
       "      <th></th>\n",
       "      <th>1914-lenta/</th>\n",
       "      <th>url</th>\n",
       "      <th>edition</th>\n",
       "      <th>topics</th>\n",
       "      <th>title</th>\n",
       "      <th>text</th>\n",
       "      <th>topic</th>\n",
       "      <th>date_raw</th>\n",
       "      <th>year</th>\n",
       "      <th>month</th>\n",
       "      <th>lemmatized_text</th>\n",
       "      <th>docID</th>\n",
       "      <th>lemmatized_text_2gram</th>\n",
       "    </tr>\n",
       "  </thead>\n",
       "  <tbody>\n",
       "    <tr>\n",
       "      <th>0</th>\n",
       "      <td>1999-10-08 12:00:00</td>\n",
       "      <td>https://lenta.ru/news/1999/10/08/boxing/</td>\n",
       "      <td>NaN</td>\n",
       "      <td>Мир</td>\n",
       "      <td>Дочь Мухаммеда Али дебютирует на ринге</td>\n",
       "      <td>лейла али дочь известного боксератяжеловеса му...</td>\n",
       "      <td>Спорт</td>\n",
       "      <td>[(1999, 10, 08)]</td>\n",
       "      <td>1999</td>\n",
       "      <td>10</td>\n",
       "      <td>[лейла, али, дочь, известный, боксератяжеловес...</td>\n",
       "      <td>0</td>\n",
       "      <td>[лейла, али, дочь, известный, боксератяжеловес...</td>\n",
       "    </tr>\n",
       "    <tr>\n",
       "      <th>1</th>\n",
       "      <td>1999-10-09 12:00:00</td>\n",
       "      <td>https://lenta.ru/news/1999/10/09/football/</td>\n",
       "      <td>NaN</td>\n",
       "      <td>Россия</td>\n",
       "      <td>Россия — Украина: ничья 1:1, Франция выиграла ...</td>\n",
       "      <td>в субботу  октября на большой спортивной арене...</td>\n",
       "      <td>Спорт</td>\n",
       "      <td>[(1999, 10, 09)]</td>\n",
       "      <td>1999</td>\n",
       "      <td>10</td>\n",
       "      <td>[суббота, октябрь, большой, спортивный, арен, ...</td>\n",
       "      <td>1</td>\n",
       "      <td>[суббота, октябрь, большой, спортивный, арен, ...</td>\n",
       "    </tr>\n",
       "  </tbody>\n",
       "</table>\n",
       "</div>"
      ],
      "text/plain": [
       "           1914-lenta/                                         url  edition  \\\n",
       "0  1999-10-08 12:00:00    https://lenta.ru/news/1999/10/08/boxing/      NaN   \n",
       "1  1999-10-09 12:00:00  https://lenta.ru/news/1999/10/09/football/      NaN   \n",
       "\n",
       "   topics                                              title  \\\n",
       "0     Мир             Дочь Мухаммеда Али дебютирует на ринге   \n",
       "1  Россия  Россия — Украина: ничья 1:1, Франция выиграла ...   \n",
       "\n",
       "                                                text  topic          date_raw  \\\n",
       "0  лейла али дочь известного боксератяжеловеса му...  Спорт  [(1999, 10, 08)]   \n",
       "1  в субботу  октября на большой спортивной арене...  Спорт  [(1999, 10, 09)]   \n",
       "\n",
       "   year  month                                    lemmatized_text  docID  \\\n",
       "0  1999     10  [лейла, али, дочь, известный, боксератяжеловес...      0   \n",
       "1  1999     10  [суббота, октябрь, большой, спортивный, арен, ...      1   \n",
       "\n",
       "                               lemmatized_text_2gram  \n",
       "0  [лейла, али, дочь, известный, боксератяжеловес...  \n",
       "1  [суббота, октябрь, большой, спортивный, арен, ...  "
      ]
     },
     "execution_count": 47,
     "metadata": {},
     "output_type": "execute_result"
    }
   ],
   "source": [
    "df.head(2)"
   ]
  },
  {
   "cell_type": "markdown",
   "metadata": {
    "hidden": true
   },
   "source": [
    "### bigartm"
   ]
  },
  {
   "cell_type": "code",
   "execution_count": 48,
   "metadata": {
    "ExecuteTime": {
     "end_time": "2019-01-20T14:12:09.130860Z",
     "start_time": "2019-01-20T14:12:08.516506Z"
    },
    "hidden": true
   },
   "outputs": [
    {
     "name": "stdout",
     "output_type": "stream",
     "text": [
      "CPU times: user 512 ms, sys: 127 ms, total: 639 ms\n",
      "Wall time: 611 ms\n"
     ]
    }
   ],
   "source": [
    "%%time\n",
    "\n",
    "vwpath = 'data/sport_input_bigartm.vw'\n",
    "\n",
    "with open(vwpath, 'w') as fp:\n",
    "    for text, did in df[['lemmatized_text_2gram', 'docID']].values:\n",
    "        fp.write('{} |default {}\\n'.format(did, ' '.join(text)))"
   ]
  },
  {
   "cell_type": "code",
   "execution_count": null,
   "metadata": {
    "ExecuteTime": {
     "end_time": "2019-01-20T13:54:41.116474Z",
     "start_time": "2019-01-20T13:54:41.114614Z"
    },
    "hidden": true
   },
   "outputs": [],
   "source": [
    "id_date = df[['docID', 'year', 'month']].copy()"
   ]
  },
  {
   "cell_type": "markdown",
   "metadata": {
    "hidden": true
   },
   "source": [
    "collect batchs and collect the dictionary"
   ]
  },
  {
   "cell_type": "code",
   "execution_count": 49,
   "metadata": {
    "ExecuteTime": {
     "end_time": "2019-01-20T14:12:15.611727Z",
     "start_time": "2019-01-20T14:12:12.289426Z"
    },
    "hidden": true
   },
   "outputs": [
    {
     "name": "stdout",
     "output_type": "stream",
     "text": [
      "CPU times: user 19.8 s, sys: 610 ms, total: 20.4 s\n",
      "Wall time: 3.32 s\n"
     ]
    }
   ],
   "source": [
    "%%time\n",
    "\n",
    "batches_path = 'data/batches'\n",
    "\n",
    "batch_vectorizer = artm.BatchVectorizer(data_path=vwpath,\n",
    "                                        data_format='vowpal_wabbit',\n",
    "                                        target_folder=batches_path)"
   ]
  },
  {
   "cell_type": "code",
   "execution_count": 50,
   "metadata": {
    "ExecuteTime": {
     "end_time": "2019-01-20T14:12:17.337260Z",
     "start_time": "2019-01-20T14:12:15.616512Z"
    },
    "hidden": true
   },
   "outputs": [
    {
     "name": "stdout",
     "output_type": "stream",
     "text": [
      "CPU times: user 1.81 s, sys: 84.4 ms, total: 1.9 s\n",
      "Wall time: 1.72 s\n"
     ]
    }
   ],
   "source": [
    "%%time\n",
    "\n",
    "dictionary = artm.Dictionary()\n",
    "dictionary.gather(data_path=batches_path)"
   ]
  },
  {
   "cell_type": "markdown",
   "metadata": {
    "hidden": true
   },
   "source": [
    "* ### build model"
   ]
  },
  {
   "cell_type": "code",
   "execution_count": 51,
   "metadata": {
    "ExecuteTime": {
     "end_time": "2019-01-20T14:12:18.242899Z",
     "start_time": "2019-01-20T14:12:17.344486Z"
    },
    "hidden": true
   },
   "outputs": [],
   "source": [
    "num_topics = 50\n",
    "model = artm.ARTM(num_topics=num_topics, dictionary=dictionary)"
   ]
  },
  {
   "cell_type": "markdown",
   "metadata": {
    "hidden": true
   },
   "source": [
    "### add scores"
   ]
  },
  {
   "cell_type": "code",
   "execution_count": 52,
   "metadata": {
    "ExecuteTime": {
     "end_time": "2019-01-20T14:12:18.248606Z",
     "start_time": "2019-01-20T14:12:18.245081Z"
    },
    "hidden": true
   },
   "outputs": [],
   "source": [
    "# default\n",
    "model.scores.add(artm.PerplexityScore(name='PerplexityScore', dictionary=dictionary))\n",
    "#model.scores.add(artm.TopicKernelScore(name='TopicKernelScore'))\n",
    "model.scores.add(artm.SparsityThetaScore(name='SparsityThetaScore'))\n",
    "model.scores.add(artm.SparsityPhiScore(name='SparsityPhiScore'))"
   ]
  },
  {
   "cell_type": "markdown",
   "metadata": {
    "hidden": true
   },
   "source": [
    "### add regularizers"
   ]
  },
  {
   "cell_type": "code",
   "execution_count": 54,
   "metadata": {
    "ExecuteTime": {
     "end_time": "2019-01-20T14:12:23.198931Z",
     "start_time": "2019-01-20T14:12:23.195028Z"
    },
    "hidden": true
   },
   "outputs": [],
   "source": [
    "model.regularizers.add(artm.SmoothSparsePhiRegularizer(name='SparsePhi', tau=-0.1))\n",
    "model.regularizers.add(artm.SmoothSparseThetaRegularizer(name='SparseTheta', tau=-0.5))\n",
    "model.regularizers.add(artm.DecorrelatorPhiRegularizer(name='DecorrelatorPhi', tau=1.5e+5))"
   ]
  },
  {
   "cell_type": "code",
   "execution_count": 55,
   "metadata": {
    "ExecuteTime": {
     "end_time": "2019-01-20T14:12:43.869762Z",
     "start_time": "2019-01-20T14:12:24.046140Z"
    },
    "hidden": true
   },
   "outputs": [
    {
     "name": "stdout",
     "output_type": "stream",
     "text": [
      "CPU times: user 2min 40s, sys: 538 ms, total: 2min 41s\n",
      "Wall time: 19.8 s\n"
     ]
    }
   ],
   "source": [
    "%%time\n",
    "\n",
    "model.fit_offline(batch_vectorizer=batch_vectorizer, num_collection_passes=10)"
   ]
  },
  {
   "cell_type": "code",
   "execution_count": 57,
   "metadata": {
    "ExecuteTime": {
     "end_time": "2019-01-20T14:12:58.059488Z",
     "start_time": "2019-01-20T14:12:58.056403Z"
    },
    "hidden": true
   },
   "outputs": [
    {
     "data": {
      "text/plain": [
       "0.8539995551109314"
      ]
     },
     "execution_count": 57,
     "metadata": {},
     "output_type": "execute_result"
    }
   ],
   "source": [
    "model.score_tracker['SparsityThetaScore'].last_value"
   ]
  },
  {
   "cell_type": "code",
   "execution_count": 58,
   "metadata": {
    "ExecuteTime": {
     "end_time": "2019-01-20T14:12:58.277221Z",
     "start_time": "2019-01-20T14:12:58.274381Z"
    },
    "hidden": true
   },
   "outputs": [
    {
     "data": {
      "text/plain": [
       "1066.50341796875"
      ]
     },
     "execution_count": 58,
     "metadata": {},
     "output_type": "execute_result"
    }
   ],
   "source": [
    "model.score_tracker['PerplexityScore'].last_value"
   ]
  },
  {
   "cell_type": "code",
   "execution_count": 59,
   "metadata": {
    "ExecuteTime": {
     "end_time": "2019-01-20T14:13:13.688593Z",
     "start_time": "2019-01-20T14:13:13.564295Z"
    },
    "hidden": true
   },
   "outputs": [
    {
     "data": {
      "image/png": "[encoded data removed]",
      "text/plain": [
       "<Figure size 432x288 with 1 Axes>"
      ]
     },
     "metadata": {
      "needs_background": "light"
     },
     "output_type": "display_data"
    }
   ],
   "source": [
    "plt.plot(range(model.num_phi_updates),\n",
    "         model.score_tracker['PerplexityScore'].value, 'b-',\n",
    "         linewidth=2)\n",
    "plt.grid()"
   ]
  },
  {
   "cell_type": "code",
   "execution_count": 60,
   "metadata": {
    "ExecuteTime": {
     "end_time": "2019-01-20T14:13:13.894566Z",
     "start_time": "2019-01-20T14:13:13.776180Z"
    },
    "hidden": true
   },
   "outputs": [
    {
     "data": {
      "image/png": "[encoded data removed]",
      "text/plain": [
       "<Figure size 432x288 with 1 Axes>"
      ]
     },
     "metadata": {
      "needs_background": "light"
     },
     "output_type": "display_data"
    }
   ],
   "source": [
    "plt.plot(range(model.num_phi_updates),\n",
    "         model.score_tracker['SparsityThetaScore'].value, 'g-',\n",
    "         linewidth=2)\n",
    "plt.grid()"
   ]
  },
  {
   "cell_type": "code",
   "execution_count": 63,
   "metadata": {
    "ExecuteTime": {
     "end_time": "2019-01-20T14:13:32.605572Z",
     "start_time": "2019-01-20T14:13:32.101833Z"
    },
    "hidden": true,
    "scrolled": true
   },
   "outputs": [
    {
     "data": {
      "text/html": [
       "<div>\n",
       "<style scoped>\n",
       "    .dataframe tbody tr th:only-of-type {\n",
       "        vertical-align: middle;\n",
       "    }\n",
       "\n",
       "    .dataframe tbody tr th {\n",
       "        vertical-align: top;\n",
       "    }\n",
       "\n",
       "    .dataframe thead th {\n",
       "        text-align: right;\n",
       "    }\n",
       "</style>\n",
       "<table border=\"1\" class=\"dataframe\">\n",
       "  <thead>\n",
       "    <tr style=\"text-align: right;\">\n",
       "      <th></th>\n",
       "      <th>topic_0</th>\n",
       "      <th>topic_1</th>\n",
       "      <th>topic_2</th>\n",
       "      <th>topic_3</th>\n",
       "      <th>topic_4</th>\n",
       "      <th>topic_5</th>\n",
       "      <th>topic_6</th>\n",
       "      <th>topic_7</th>\n",
       "      <th>topic_8</th>\n",
       "      <th>topic_9</th>\n",
       "      <th>...</th>\n",
       "      <th>topic_41</th>\n",
       "      <th>topic_42</th>\n",
       "      <th>topic_43</th>\n",
       "      <th>topic_44</th>\n",
       "      <th>topic_45</th>\n",
       "      <th>topic_46</th>\n",
       "      <th>topic_47</th>\n",
       "      <th>topic_48</th>\n",
       "      <th>topic_49</th>\n",
       "      <th>word</th>\n",
       "    </tr>\n",
       "  </thead>\n",
       "  <tbody>\n",
       "    <tr>\n",
       "      <th>кампаньоть</th>\n",
       "      <td>0.0</td>\n",
       "      <td>0.0</td>\n",
       "      <td>0.0</td>\n",
       "      <td>0.0</td>\n",
       "      <td>0.000000</td>\n",
       "      <td>0.0</td>\n",
       "      <td>0.0</td>\n",
       "      <td>0.0</td>\n",
       "      <td>0.0</td>\n",
       "      <td>0.0</td>\n",
       "      <td>...</td>\n",
       "      <td>0.0</td>\n",
       "      <td>0.0</td>\n",
       "      <td>0.0</td>\n",
       "      <td>0.0</td>\n",
       "      <td>0.0</td>\n",
       "      <td>0.0</td>\n",
       "      <td>0.0</td>\n",
       "      <td>0.0</td>\n",
       "      <td>0.0</td>\n",
       "      <td>кампаньоть</td>\n",
       "    </tr>\n",
       "    <tr>\n",
       "      <th>сяося</th>\n",
       "      <td>0.0</td>\n",
       "      <td>0.0</td>\n",
       "      <td>0.0</td>\n",
       "      <td>0.0</td>\n",
       "      <td>0.000058</td>\n",
       "      <td>0.0</td>\n",
       "      <td>0.0</td>\n",
       "      <td>0.0</td>\n",
       "      <td>0.0</td>\n",
       "      <td>0.0</td>\n",
       "      <td>...</td>\n",
       "      <td>0.0</td>\n",
       "      <td>0.0</td>\n",
       "      <td>0.0</td>\n",
       "      <td>0.0</td>\n",
       "      <td>0.0</td>\n",
       "      <td>0.0</td>\n",
       "      <td>0.0</td>\n",
       "      <td>0.0</td>\n",
       "      <td>0.0</td>\n",
       "      <td>сяося</td>\n",
       "    </tr>\n",
       "    <tr>\n",
       "      <th>ambro</th>\n",
       "      <td>0.0</td>\n",
       "      <td>0.0</td>\n",
       "      <td>0.0</td>\n",
       "      <td>0.0</td>\n",
       "      <td>0.000000</td>\n",
       "      <td>0.0</td>\n",
       "      <td>0.0</td>\n",
       "      <td>0.0</td>\n",
       "      <td>0.0</td>\n",
       "      <td>0.0</td>\n",
       "      <td>...</td>\n",
       "      <td>0.0</td>\n",
       "      <td>0.0</td>\n",
       "      <td>0.0</td>\n",
       "      <td>0.0</td>\n",
       "      <td>0.0</td>\n",
       "      <td>0.0</td>\n",
       "      <td>0.0</td>\n",
       "      <td>0.0</td>\n",
       "      <td>0.0</td>\n",
       "      <td>ambro</td>\n",
       "    </tr>\n",
       "    <tr>\n",
       "      <th>предсезонка</th>\n",
       "      <td>0.0</td>\n",
       "      <td>0.0</td>\n",
       "      <td>0.0</td>\n",
       "      <td>0.0</td>\n",
       "      <td>0.000000</td>\n",
       "      <td>0.0</td>\n",
       "      <td>0.0</td>\n",
       "      <td>0.0</td>\n",
       "      <td>0.0</td>\n",
       "      <td>0.0</td>\n",
       "      <td>...</td>\n",
       "      <td>0.0</td>\n",
       "      <td>0.0</td>\n",
       "      <td>0.0</td>\n",
       "      <td>0.0</td>\n",
       "      <td>0.0</td>\n",
       "      <td>0.0</td>\n",
       "      <td>0.0</td>\n",
       "      <td>0.0</td>\n",
       "      <td>0.0</td>\n",
       "      <td>предсезонка</td>\n",
       "    </tr>\n",
       "    <tr>\n",
       "      <th>кирхайзный</th>\n",
       "      <td>0.0</td>\n",
       "      <td>0.0</td>\n",
       "      <td>0.0</td>\n",
       "      <td>0.0</td>\n",
       "      <td>0.000000</td>\n",
       "      <td>0.0</td>\n",
       "      <td>0.0</td>\n",
       "      <td>0.0</td>\n",
       "      <td>0.0</td>\n",
       "      <td>0.0</td>\n",
       "      <td>...</td>\n",
       "      <td>0.0</td>\n",
       "      <td>0.0</td>\n",
       "      <td>0.0</td>\n",
       "      <td>0.0</td>\n",
       "      <td>0.0</td>\n",
       "      <td>0.0</td>\n",
       "      <td>0.0</td>\n",
       "      <td>0.0</td>\n",
       "      <td>0.0</td>\n",
       "      <td>кирхайзный</td>\n",
       "    </tr>\n",
       "  </tbody>\n",
       "</table>\n",
       "<p>5 rows × 51 columns</p>\n",
       "</div>"
      ],
      "text/plain": [
       "             topic_0  topic_1  topic_2  topic_3   topic_4  topic_5  topic_6  \\\n",
       "кампаньоть       0.0      0.0      0.0      0.0  0.000000      0.0      0.0   \n",
       "сяося            0.0      0.0      0.0      0.0  0.000058      0.0      0.0   \n",
       "ambro            0.0      0.0      0.0      0.0  0.000000      0.0      0.0   \n",
       "предсезонка      0.0      0.0      0.0      0.0  0.000000      0.0      0.0   \n",
       "кирхайзный       0.0      0.0      0.0      0.0  0.000000      0.0      0.0   \n",
       "\n",
       "             topic_7  topic_8  topic_9     ...       topic_41  topic_42  \\\n",
       "кампаньоть       0.0      0.0      0.0     ...            0.0       0.0   \n",
       "сяося            0.0      0.0      0.0     ...            0.0       0.0   \n",
       "ambro            0.0      0.0      0.0     ...            0.0       0.0   \n",
       "предсезонка      0.0      0.0      0.0     ...            0.0       0.0   \n",
       "кирхайзный       0.0      0.0      0.0     ...            0.0       0.0   \n",
       "\n",
       "             topic_43  topic_44  topic_45  topic_46  topic_47  topic_48  \\\n",
       "кампаньоть        0.0       0.0       0.0       0.0       0.0       0.0   \n",
       "сяося             0.0       0.0       0.0       0.0       0.0       0.0   \n",
       "ambro             0.0       0.0       0.0       0.0       0.0       0.0   \n",
       "предсезонка       0.0       0.0       0.0       0.0       0.0       0.0   \n",
       "кирхайзный        0.0       0.0       0.0       0.0       0.0       0.0   \n",
       "\n",
       "             topic_49         word  \n",
       "кампаньоть        0.0   кампаньоть  \n",
       "сяося             0.0        сяося  \n",
       "ambro             0.0        ambro  \n",
       "предсезонка       0.0  предсезонка  \n",
       "кирхайзный        0.0   кирхайзный  \n",
       "\n",
       "[5 rows x 51 columns]"
      ]
     },
     "execution_count": 63,
     "metadata": {},
     "output_type": "execute_result"
    }
   ],
   "source": [
    "phi = model.get_phi()\n",
    "phi['word'] = phi.index\n",
    "phi.head()"
   ]
  },
  {
   "cell_type": "code",
   "execution_count": 64,
   "metadata": {
    "ExecuteTime": {
     "end_time": "2019-01-20T14:13:34.767877Z",
     "start_time": "2019-01-20T14:13:33.872569Z"
    },
    "hidden": true,
    "scrolled": true
   },
   "outputs": [
    {
     "name": "stdout",
     "output_type": "stream",
     "text": [
      "topic_0\n",
      "\t ['болельщик' 'фанат' 'который' 'время' 'полиция' 'человек' 'стадион' 'это'\n",
      " 'инцидент' 'произойти']\n",
      "topic_1\n",
      "\t ['это' 'слово' 'заявить' 'сказать' 'рассказать' 'мочь' 'свой' 'отметить'\n",
      " 'хотеть' 'который']\n",
      "topic_2\n",
      "\t ['больница' 'время' 'врач' 'летний' 'произойти' 'смерть' 'автомобиль'\n",
      " 'находиться' 'помощь' 'машина']\n",
      "topic_3\n",
      "\t ['бразилия' 'аргентина' 'мир' 'рейтинг' 'место' 'бразильский' 'бразилец'\n",
      " 'футбол' 'сборная' 'мексика']\n",
      "topic_4\n",
      "\t ['биатлонист' 'россия' 'килограмм' 'мир' 'спортсмен' 'соревнование'\n",
      " 'чемпионат' 'союз' 'сбр' 'категория']\n",
      "topic_5\n",
      "\t ['миллион' 'доллар' 'компания' 'клуб' 'фунт' 'тысяча' 'владелец' 'акция'\n",
      " 'сумма' 'финансовый']\n",
      "topic_6\n",
      "\t ['кхл' 'хоккейный' 'клуб' 'металлург' 'ска' 'авангард' 'лига' 'хоккеист'\n",
      " 'динамо' 'барс']\n",
      "topic_7\n",
      "\t ['бой' 'поединок' 'кличко' 'боксёр' 'чемпион' 'боксёрский' 'мир' 'титул'\n",
      " 'версия' 'украинец']\n",
      "topic_8\n",
      "\t ['арбитр' 'карточка' 'игрок' 'франция' 'защитник' 'дисквалификация'\n",
      " 'судья' 'дисквалифицировать' 'футболист' 'нападать']\n",
      "topic_9\n",
      "\t ['рфс' 'российский' 'россия' 'союз' 'футбольный' 'спорт' 'президент'\n",
      " 'заявить' 'сборный' 'мутко']\n",
      "topic_10\n",
      "\t ['год' 'клуб' 'сезон' 'выступать' 'хороший' 'летний' 'чемпионат'\n",
      " 'футболист' 'это' 'стать']\n",
      "topic_11\n",
      "\t ['дело' 'драка' 'расследование' 'договорный' 'уголовный' 'отношение'\n",
      " 'фильм' 'статья' 'орган' 'прокуратура']\n",
      "topic_12\n",
      "\t ['медаль' 'олимпийский' 'олимпиада' 'завоевать' 'золотой' 'игра' 'метр'\n",
      " 'год' 'мир' 'бронзовый']\n",
      "topic_13\n",
      "\t ['украина' 'украинский' 'киевский' 'киев' 'решение' 'украинец' 'участие'\n",
      " 'принять' 'отказаться' 'федерация']\n",
      "topic_14\n",
      "\t ['россия' 'хоккей' 'сборный' 'швеция' 'мир' 'чехия' 'сборная' 'финляндия'\n",
      " 'канада' 'май']\n",
      "topic_15\n",
      "\t ['зенит' 'спартак' 'клуб' 'московский' 'россия' 'динамо' 'футбольный'\n",
      " 'матч' 'анжи' 'питерский']\n",
      "topic_16\n",
      "\t ['боец' 'запретить' 'препарат' 'спортсмен' 'смешанный' 'ufc' 'допингпроба'\n",
      " 'положительный' 'употребление' 'емельяненко']\n",
      "topic_17\n",
      "\t ['олимпийский' 'комитет' 'игра' 'год' 'мокнуть' 'антидопинговый' 'допинг'\n",
      " 'решение' 'международный' 'олимпиада']\n",
      "topic_18\n",
      "\t ['цска' 'челси' 'тренер' 'армеец' 'клуб' 'хиддинк' 'лондонский'\n",
      " 'московский' 'главный' 'моуринья']\n",
      "topic_19\n",
      "\t ['бой' 'поединок' 'боксёр' 'победа' 'чемпион' 'нокаут' 'титул' 'год'\n",
      " 'провести' 'вес']\n",
      "topic_20\n",
      "\t ['футболист' 'свой' 'это' 'который' 'игрок' 'заявить' 'манчестер'\n",
      " 'ребёнок' 'the' 'весь']\n",
      "topic_21\n",
      "\t ['счёт' 'минута' 'шайба' 'матч' 'период' 'забросить' 'встреча' 'победа'\n",
      " 'ворот' 'отличиться']\n",
      "topic_22\n",
      "\t ['очки' 'набрать' 'место' 'очко' 'матч' 'занимать' 'победа' 'счёт'\n",
      " 'чемпионат' 'команда']\n",
      "topic_23\n",
      "\t ['матч' 'тур' 'счёт' 'минута' 'локомотив' 'московский' 'спартак' 'цска'\n",
      " 'встреча' 'рубин']\n",
      "topic_24\n",
      "\t ['гонка' 'этап' 'место' 'формула' 'мир' 'пилот' 'занять' 'команда'\n",
      " 'гранпереть' 'стать']\n",
      "topic_25\n",
      "\t ['суд' 'сша' 'американский' 'спортсмен' 'штат' 'обвинение' 'тюрьма'\n",
      " 'заключение' 'летний' 'приговорить']\n",
      "topic_26\n",
      "\t ['канал' 'эфир' 'телеканал' 'трансляция' 'прямой' 'видео' 'журналист'\n",
      " 'показать' 'форма' 'youtube']\n",
      "topic_27\n",
      "\t ['программа' 'балл' 'катание' 'фигурный' 'пара' 'фигурист' 'короткий'\n",
      " 'место' 'плющенко' 'произвольный']\n",
      "topic_28\n",
      "\t ['мяч' 'минута' 'удар' 'ворот' 'тайм' 'счёт' 'гол' 'забить' 'ворота'\n",
      " 'штрафной']\n",
      "topic_29\n",
      "\t ['чемпионат' 'россия' 'июнь' 'пройти' 'турнир' 'мир' 'европа' 'год' 'матч'\n",
      " 'июль']\n",
      "topic_30\n",
      "\t ['милан' 'италия' 'итальянский' 'арсенал' 'интер' 'манчестер' 'ювентус'\n",
      " 'сити' 'чемпион' 'юнайтед']\n",
      "topic_31\n",
      "\t ['партия' 'тур' 'де' 'шахматы' 'мир' 'чемпион' 'гроссмейстер' 'франс'\n",
      " 'фиде' 'шахматный']\n",
      "topic_32\n",
      "\t ['миллион' 'евро' 'клуб' 'контракт' 'игрок' 'футболист' 'переход'\n",
      " 'зарплата' 'форвард' 'сумма']\n",
      "topic_33\n",
      "\t ['отборочный' 'группа' 'турнир' 'евро' 'ирландия' 'израиль' 'ставка'\n",
      " 'октябрь' 'европа' 'футбол']\n",
      "topic_34\n",
      "\t ['гонка' 'секунда' 'километр' 'промах' 'место' 'этап' 'эстафета' 'женский'\n",
      " 'кубок' 'минута']\n",
      "topic_35\n",
      "\t ['российский' 'спортсмен' 'россия' 'международный' 'это' 'федерация'\n",
      " 'риодежанейро' 'участие' 'iaaf' 'спорт']\n",
      "topic_36\n",
      "\t ['фифа' 'федерация' 'президент' 'год' 'футбол' 'организация' 'футбольный'\n",
      " 'проведение' 'международный' 'страна']\n",
      "topic_37\n",
      "\t ['турнир' 'финал' 'теннисист' 'матч' 'круг' 'счёт' 'сет' 'open' 'рейтинг'\n",
      " 'ракетка']\n",
      "topic_38\n",
      "\t ['лига' 'реал' 'матч' 'чемпион' 'барселона' 'испания' 'испанский' 'финал'\n",
      " 'мадридский' 'клуб']\n",
      "topic_39\n",
      "\t ['матч' 'сборный' 'команда' 'сборная' 'россия' 'чемпионат' 'игра' 'состав'\n",
      " 'сыграть' 'который']\n",
      "topic_40\n",
      "\t ['счёт' 'победа' 'матч' 'выиграть' 'свой' 'который' 'соперник'\n",
      " 'преимущество' 'финал' 'стать']\n",
      "topic_41\n",
      "\t ['тренер' 'команда' 'главный' 'год' 'клуб' 'наставник' 'пост' 'чемпионат'\n",
      " 'руководство' 'специалист']\n",
      "topic_42\n",
      "\t ['англия' 'английский' 'матч' 'ливерпуль' 'челси' 'манчестер' 'юнайтед'\n",
      " 'арбитр' 'клуб' 'премьерлига']\n",
      "topic_43\n",
      "\t ['спортивный' 'очень' 'свой' 'весь' 'новый' 'сезон' 'лига' 'это'\n",
      " 'генеральный' 'работа']\n",
      "topic_44\n",
      "\t ['год' 'спорт' 'россия' 'президент' 'олимпийский' 'федерация' 'ссср'\n",
      " 'чемпион' 'сборный' 'спортивный']\n",
      "topic_45\n",
      "\t ['россия' 'команда' 'весь' 'наш' 'сказать' 'сборный' 'слово' 'российский'\n",
      " 'который' 'страна']\n",
      "topic_46\n",
      "\t ['теннисистка' 'россиянка' 'турнир' 'шарапов' 'wta' 'соперница'\n",
      " 'американка' 'женский' 'мария_шарапов' 'теннисный']\n",
      "topic_47\n",
      "\t ['стадион' 'тысяча' 'рубль' 'билет' 'процент' 'год' 'строительство' 'арен'\n",
      " 'арена' 'зритель']\n",
      "topic_48\n",
      "\t ['нхл' 'матч' 'передача' 'форвард' 'вашингтон' 'клуб' 'регулярный'\n",
      " 'российский' 'шайба' 'лига']\n",
      "topic_49\n",
      "\t ['травма' 'изз' 'получить' 'пропустить' 'тренировка' 'смочь' 'время'\n",
      " 'участие' 'игра' 'операция']\n"
     ]
    }
   ],
   "source": [
    "for col in phi.columns:\n",
    "    if col != 'word':\n",
    "        print(col)\n",
    "        print('\\t',phi[[col, 'word']].sort_values(by=col, ascending=False)['word'].values[:10])\n"
   ]
  },
  {
   "cell_type": "code",
   "execution_count": null,
   "metadata": {
    "hidden": true
   },
   "outputs": [],
   "source": []
  },
  {
   "cell_type": "code",
   "execution_count": null,
   "metadata": {
    "hidden": true
   },
   "outputs": [],
   "source": []
  },
  {
   "cell_type": "markdown",
   "metadata": {
    "hidden": true
   },
   "source": [
    "* ### 3-grams"
   ]
  },
  {
   "cell_type": "code",
   "execution_count": 65,
   "metadata": {
    "ExecuteTime": {
     "end_time": "2019-01-20T14:16:59.426216Z",
     "start_time": "2019-01-20T14:15:36.632631Z"
    },
    "hidden": true
   },
   "outputs": [],
   "source": [
    "tg_phrases = Phrases(bigram[tokenized_train])\n",
    "trigram = Phraser(tg_phrases)"
   ]
  },
  {
   "cell_type": "code",
   "execution_count": 66,
   "metadata": {
    "ExecuteTime": {
     "end_time": "2019-01-20T14:19:24.207289Z",
     "start_time": "2019-01-20T14:19:24.203500Z"
    },
    "hidden": true
   },
   "outputs": [
    {
     "name": "stdout",
     "output_type": "stream",
     "text": [
      "['на', 'завершившемся', 'в', 'японии', 'чемпионате_мира', 'формулы', 'пилот_mclaren', 'мика_хаккинен', 'сохранил_титул', 'чемпиона', 'гонщики', 'ferrari_михаэль_шумахер', 'и', 'эдди_ирвайн', 'заняли_второе', 'и', 'третье_места', 'зато', 'болиды', 'ferrari', 'оказались', 'лучшими', 'в', 'нынешнем_сезоне', 'автогонокформулы', 'завоевав', 'первое_место', 'по_итогам', 'чемпионата_мира', 'в', 'категории', 'конструкторов', 'как_передает', 'итартасс', 'инженеры', 'ferrariнабрали', 'очков_после', 'заключительного_этапа', 'состязаний', 'в', 'японской', 'судзуке', 'опередив', 'конкурентов', 'из', 'mclaren', 'на', 'четыре_очка', 'знаменитая', 'марка', 'вернула_себе', 'высший', 'титул', 'после', 'летнего_перерыва', 'последний_раз', 'в', 'данной', 'категории', 'команда', 'ferrari', 'была', 'лучшей', 'в', 'году', 'как_считают', 'спортивные', 'обозреватели', 'победа', 'хаккинена', 'была', 'предопределена', 'уже', 'с', 'самого_старта', 'когда', 'он', 'вырвался_вперед', 'опередив', 'шумахера', 'по', 'какимто_причинам', 'немцу', 'не_удалось', 'резко', 'разогнать', 'свой', 'болид', 'шумахера', 'обвиняют', 'также', 'в', 'том_что', 'в', 'ходе_гонки', 'он', 'не', 'помог', 'партнеру_по', 'команде', 'эдди', 'ирвайну', 'обогнать', 'хаккинена', 'это_дало', 'бы', 'ирландцу', 'возможность_выиграть', 'титул_чемпиона', 'изза', 'большой', 'разницы', 'во', 'времени', 'с_японией', 'фанатам', 'гонок', 'формула', 'пришлось', 'наблюдать', 'финальные', 'состязания', 'глубокой', 'ночью', 'на', 'площадях', 'многих', 'итальянских', 'городов', 'были_установлены', 'огромные', 'телеэкраны', 'и', 'велась', 'прямая_трансляция', 'заездов', 'из', 'японии', 'в', 'следующем_сезоне', 'ирвайн', 'выступит', 'за', 'команду', 'jaguar', 'которая', 'будет', 'дебютировать', 'на', 'гонках_формулы']\n"
     ]
    }
   ],
   "source": [
    "sent = df.text[10].split()\n",
    "print(trigram[sent])"
   ]
  },
  {
   "cell_type": "code",
   "execution_count": null,
   "metadata": {
    "hidden": true
   },
   "outputs": [],
   "source": []
  },
  {
   "cell_type": "markdown",
   "metadata": {
    "hidden": true
   },
   "source": [
    "### lemmatization"
   ]
  },
  {
   "cell_type": "code",
   "execution_count": 67,
   "metadata": {
    "ExecuteTime": {
     "end_time": "2019-01-20T14:26:30.580430Z",
     "start_time": "2019-01-20T14:20:36.279180Z"
    },
    "hidden": true
   },
   "outputs": [
    {
     "name": "stdout",
     "output_type": "stream",
     "text": [
      "CPU times: user 6min 23s, sys: 11.5 s, total: 6min 34s\n",
      "Wall time: 5min 54s\n"
     ]
    }
   ],
   "source": [
    "%%time\n",
    "df['lemmatized_text_3gram'] = df.text.apply(lambda x: pr.lemmatization(x.split()))"
   ]
  },
  {
   "cell_type": "code",
   "execution_count": 68,
   "metadata": {
    "ExecuteTime": {
     "end_time": "2019-01-20T14:26:30.597704Z",
     "start_time": "2019-01-20T14:26:30.582186Z"
    },
    "hidden": true
   },
   "outputs": [
    {
     "data": {
      "text/html": [
       "<div>\n",
       "<style scoped>\n",
       "    .dataframe tbody tr th:only-of-type {\n",
       "        vertical-align: middle;\n",
       "    }\n",
       "\n",
       "    .dataframe tbody tr th {\n",
       "        vertical-align: top;\n",
       "    }\n",
       "\n",
       "    .dataframe thead th {\n",
       "        text-align: right;\n",
       "    }\n",
       "</style>\n",
       "<table border=\"1\" class=\"dataframe\">\n",
       "  <thead>\n",
       "    <tr style=\"text-align: right;\">\n",
       "      <th></th>\n",
       "      <th>1914-lenta/</th>\n",
       "      <th>url</th>\n",
       "      <th>edition</th>\n",
       "      <th>topics</th>\n",
       "      <th>title</th>\n",
       "      <th>text</th>\n",
       "      <th>topic</th>\n",
       "      <th>date_raw</th>\n",
       "      <th>year</th>\n",
       "      <th>month</th>\n",
       "      <th>lemmatized_text</th>\n",
       "      <th>docID</th>\n",
       "      <th>lemmatized_text_2gram</th>\n",
       "      <th>lemmatized_text_3gram</th>\n",
       "    </tr>\n",
       "  </thead>\n",
       "  <tbody>\n",
       "    <tr>\n",
       "      <th>0</th>\n",
       "      <td>1999-10-08 12:00:00</td>\n",
       "      <td>https://lenta.ru/news/1999/10/08/boxing/</td>\n",
       "      <td>NaN</td>\n",
       "      <td>Мир</td>\n",
       "      <td>Дочь Мухаммеда Али дебютирует на ринге</td>\n",
       "      <td>лейла али дочь известного боксератяжеловеса му...</td>\n",
       "      <td>Спорт</td>\n",
       "      <td>[(1999, 10, 08)]</td>\n",
       "      <td>1999</td>\n",
       "      <td>10</td>\n",
       "      <td>[лейла, али, дочь, известный, боксератяжеловес...</td>\n",
       "      <td>0</td>\n",
       "      <td>[лейла, али, дочь, известный, боксератяжеловес...</td>\n",
       "      <td>[лейла, али, дочь, известный, боксератяжеловес...</td>\n",
       "    </tr>\n",
       "    <tr>\n",
       "      <th>1</th>\n",
       "      <td>1999-10-09 12:00:00</td>\n",
       "      <td>https://lenta.ru/news/1999/10/09/football/</td>\n",
       "      <td>NaN</td>\n",
       "      <td>Россия</td>\n",
       "      <td>Россия — Украина: ничья 1:1, Франция выиграла ...</td>\n",
       "      <td>в субботу  октября на большой спортивной арене...</td>\n",
       "      <td>Спорт</td>\n",
       "      <td>[(1999, 10, 09)]</td>\n",
       "      <td>1999</td>\n",
       "      <td>10</td>\n",
       "      <td>[суббота, октябрь, большой, спортивный, арен, ...</td>\n",
       "      <td>1</td>\n",
       "      <td>[суббота, октябрь, большой, спортивный, арен, ...</td>\n",
       "      <td>[суббота, октябрь, большой, спортивный, арен, ...</td>\n",
       "    </tr>\n",
       "  </tbody>\n",
       "</table>\n",
       "</div>"
      ],
      "text/plain": [
       "           1914-lenta/                                         url  edition  \\\n",
       "0  1999-10-08 12:00:00    https://lenta.ru/news/1999/10/08/boxing/      NaN   \n",
       "1  1999-10-09 12:00:00  https://lenta.ru/news/1999/10/09/football/      NaN   \n",
       "\n",
       "   topics                                              title  \\\n",
       "0     Мир             Дочь Мухаммеда Али дебютирует на ринге   \n",
       "1  Россия  Россия — Украина: ничья 1:1, Франция выиграла ...   \n",
       "\n",
       "                                                text  topic          date_raw  \\\n",
       "0  лейла али дочь известного боксератяжеловеса му...  Спорт  [(1999, 10, 08)]   \n",
       "1  в субботу  октября на большой спортивной арене...  Спорт  [(1999, 10, 09)]   \n",
       "\n",
       "   year  month                                    lemmatized_text  docID  \\\n",
       "0  1999     10  [лейла, али, дочь, известный, боксератяжеловес...      0   \n",
       "1  1999     10  [суббота, октябрь, большой, спортивный, арен, ...      1   \n",
       "\n",
       "                               lemmatized_text_2gram  \\\n",
       "0  [лейла, али, дочь, известный, боксератяжеловес...   \n",
       "1  [суббота, октябрь, большой, спортивный, арен, ...   \n",
       "\n",
       "                               lemmatized_text_3gram  \n",
       "0  [лейла, али, дочь, известный, боксератяжеловес...  \n",
       "1  [суббота, октябрь, большой, спортивный, арен, ...  "
      ]
     },
     "execution_count": 68,
     "metadata": {},
     "output_type": "execute_result"
    }
   ],
   "source": [
    "df.head(2)"
   ]
  },
  {
   "cell_type": "markdown",
   "metadata": {
    "hidden": true
   },
   "source": [
    "### bigartm"
   ]
  },
  {
   "cell_type": "code",
   "execution_count": 69,
   "metadata": {
    "ExecuteTime": {
     "end_time": "2019-01-20T14:26:58.931971Z",
     "start_time": "2019-01-20T14:26:58.312780Z"
    },
    "hidden": true
   },
   "outputs": [
    {
     "name": "stdout",
     "output_type": "stream",
     "text": [
      "CPU times: user 563 ms, sys: 94.9 ms, total: 658 ms\n",
      "Wall time: 616 ms\n"
     ]
    }
   ],
   "source": [
    "%%time\n",
    "\n",
    "vwpath = 'data/sport_input_bigartm.vw'\n",
    "\n",
    "with open(vwpath, 'w') as fp:\n",
    "    for text, did in df[['lemmatized_text_2gram', 'docID']].values:\n",
    "        fp.write('{} |default {}\\n'.format(did, ' '.join(text)))"
   ]
  },
  {
   "cell_type": "code",
   "execution_count": 97,
   "metadata": {
    "ExecuteTime": {
     "end_time": "2019-01-20T14:55:13.812327Z",
     "start_time": "2019-01-20T14:55:13.809215Z"
    },
    "hidden": true
   },
   "outputs": [],
   "source": [
    "id_date = df[['docID', 'year', 'month']].copy()"
   ]
  },
  {
   "cell_type": "markdown",
   "metadata": {
    "hidden": true
   },
   "source": [
    "collect batchs and collect the dictionary"
   ]
  },
  {
   "cell_type": "code",
   "execution_count": 70,
   "metadata": {
    "ExecuteTime": {
     "end_time": "2019-01-20T14:27:04.288540Z",
     "start_time": "2019-01-20T14:27:00.953877Z"
    },
    "hidden": true
   },
   "outputs": [
    {
     "name": "stdout",
     "output_type": "stream",
     "text": [
      "CPU times: user 19.8 s, sys: 159 ms, total: 19.9 s\n",
      "Wall time: 3.33 s\n"
     ]
    }
   ],
   "source": [
    "%%time\n",
    "\n",
    "batches_path = 'data/batches'\n",
    "\n",
    "batch_vectorizer = artm.BatchVectorizer(data_path=vwpath,\n",
    "                                        data_format='vowpal_wabbit',\n",
    "                                        target_folder=batches_path)"
   ]
  },
  {
   "cell_type": "code",
   "execution_count": 71,
   "metadata": {
    "ExecuteTime": {
     "end_time": "2019-01-20T14:27:06.117312Z",
     "start_time": "2019-01-20T14:27:04.294783Z"
    },
    "hidden": true
   },
   "outputs": [
    {
     "name": "stdout",
     "output_type": "stream",
     "text": [
      "CPU times: user 2.01 s, sys: 91.2 ms, total: 2.1 s\n",
      "Wall time: 1.82 s\n"
     ]
    }
   ],
   "source": [
    "%%time\n",
    "\n",
    "dictionary = artm.Dictionary()\n",
    "dictionary.gather(data_path=batches_path)"
   ]
  },
  {
   "cell_type": "markdown",
   "metadata": {
    "hidden": true
   },
   "source": [
    "* ### build model"
   ]
  },
  {
   "cell_type": "code",
   "execution_count": 72,
   "metadata": {
    "ExecuteTime": {
     "end_time": "2019-01-20T14:27:07.033081Z",
     "start_time": "2019-01-20T14:27:06.126451Z"
    },
    "hidden": true
   },
   "outputs": [],
   "source": [
    "num_topics = 50\n",
    "model = artm.ARTM(num_topics=num_topics, dictionary=dictionary)"
   ]
  },
  {
   "cell_type": "markdown",
   "metadata": {
    "hidden": true
   },
   "source": [
    "### add scores"
   ]
  },
  {
   "cell_type": "code",
   "execution_count": 73,
   "metadata": {
    "ExecuteTime": {
     "end_time": "2019-01-20T14:27:07.038751Z",
     "start_time": "2019-01-20T14:27:07.035457Z"
    },
    "hidden": true
   },
   "outputs": [],
   "source": [
    "# default\n",
    "model.scores.add(artm.PerplexityScore(name='PerplexityScore', dictionary=dictionary))\n",
    "#model.scores.add(artm.TopicKernelScore(name='TopicKernelScore'))\n",
    "model.scores.add(artm.SparsityThetaScore(name='SparsityThetaScore'))\n",
    "model.scores.add(artm.SparsityPhiScore(name='SparsityPhiScore'))"
   ]
  },
  {
   "cell_type": "markdown",
   "metadata": {
    "hidden": true
   },
   "source": [
    "### add regularizers"
   ]
  },
  {
   "cell_type": "code",
   "execution_count": 74,
   "metadata": {
    "ExecuteTime": {
     "end_time": "2019-01-20T14:27:07.057963Z",
     "start_time": "2019-01-20T14:27:07.039867Z"
    },
    "hidden": true
   },
   "outputs": [],
   "source": [
    "model.regularizers.add(artm.SmoothSparsePhiRegularizer(name='SparsePhi', tau=-0.1))\n",
    "model.regularizers.add(artm.SmoothSparseThetaRegularizer(name='SparseTheta', tau=-0.5))\n",
    "model.regularizers.add(artm.DecorrelatorPhiRegularizer(name='DecorrelatorPhi', tau=1.5e+5))"
   ]
  },
  {
   "cell_type": "code",
   "execution_count": 75,
   "metadata": {
    "ExecuteTime": {
     "end_time": "2019-01-20T14:27:26.863789Z",
     "start_time": "2019-01-20T14:27:07.059092Z"
    },
    "hidden": true
   },
   "outputs": [
    {
     "name": "stdout",
     "output_type": "stream",
     "text": [
      "CPU times: user 2min 40s, sys: 493 ms, total: 2min 41s\n",
      "Wall time: 19.8 s\n"
     ]
    }
   ],
   "source": [
    "%%time\n",
    "\n",
    "model.fit_offline(batch_vectorizer=batch_vectorizer, num_collection_passes=10)"
   ]
  },
  {
   "cell_type": "code",
   "execution_count": 76,
   "metadata": {
    "ExecuteTime": {
     "end_time": "2019-01-20T14:27:26.877445Z",
     "start_time": "2019-01-20T14:27:26.874421Z"
    },
    "hidden": true
   },
   "outputs": [
    {
     "data": {
      "text/plain": [
       "0.8539995551109314"
      ]
     },
     "execution_count": 76,
     "metadata": {},
     "output_type": "execute_result"
    }
   ],
   "source": [
    "model.score_tracker['SparsityThetaScore'].last_value"
   ]
  },
  {
   "cell_type": "code",
   "execution_count": 77,
   "metadata": {
    "ExecuteTime": {
     "end_time": "2019-01-20T14:27:26.896780Z",
     "start_time": "2019-01-20T14:27:26.878482Z"
    },
    "hidden": true
   },
   "outputs": [
    {
     "data": {
      "text/plain": [
       "1066.50341796875"
      ]
     },
     "execution_count": 77,
     "metadata": {},
     "output_type": "execute_result"
    }
   ],
   "source": [
    "model.score_tracker['PerplexityScore'].last_value"
   ]
  },
  {
   "cell_type": "code",
   "execution_count": 78,
   "metadata": {
    "ExecuteTime": {
     "end_time": "2019-01-20T14:27:27.003574Z",
     "start_time": "2019-01-20T14:27:26.897841Z"
    },
    "hidden": true
   },
   "outputs": [
    {
     "data": {
      "image/png": "[encoded data removed]",
      "text/plain": [
       "<Figure size 432x288 with 1 Axes>"
      ]
     },
     "metadata": {
      "needs_background": "light"
     },
     "output_type": "display_data"
    }
   ],
   "source": [
    "plt.plot(range(model.num_phi_updates),\n",
    "         model.score_tracker['PerplexityScore'].value, 'b-',\n",
    "         linewidth=2)\n",
    "plt.grid()"
   ]
  },
  {
   "cell_type": "code",
   "execution_count": 79,
   "metadata": {
    "ExecuteTime": {
     "end_time": "2019-01-20T14:27:27.119902Z",
     "start_time": "2019-01-20T14:27:27.005366Z"
    },
    "hidden": true
   },
   "outputs": [
    {
     "data": {
      "image/png": "[encoded data removed]",
      "text/plain": [
       "<Figure size 432x288 with 1 Axes>"
      ]
     },
     "metadata": {
      "needs_background": "light"
     },
     "output_type": "display_data"
    }
   ],
   "source": [
    "plt.plot(range(model.num_phi_updates),\n",
    "         model.score_tracker['SparsityThetaScore'].value, 'g-',\n",
    "         linewidth=2)\n",
    "plt.grid()"
   ]
  },
  {
   "cell_type": "code",
   "execution_count": 80,
   "metadata": {
    "ExecuteTime": {
     "end_time": "2019-01-20T14:27:27.655790Z",
     "start_time": "2019-01-20T14:27:27.121501Z"
    },
    "hidden": true,
    "scrolled": true
   },
   "outputs": [
    {
     "data": {
      "text/html": [
       "<div>\n",
       "<style scoped>\n",
       "    .dataframe tbody tr th:only-of-type {\n",
       "        vertical-align: middle;\n",
       "    }\n",
       "\n",
       "    .dataframe tbody tr th {\n",
       "        vertical-align: top;\n",
       "    }\n",
       "\n",
       "    .dataframe thead th {\n",
       "        text-align: right;\n",
       "    }\n",
       "</style>\n",
       "<table border=\"1\" class=\"dataframe\">\n",
       "  <thead>\n",
       "    <tr style=\"text-align: right;\">\n",
       "      <th></th>\n",
       "      <th>topic_0</th>\n",
       "      <th>topic_1</th>\n",
       "      <th>topic_2</th>\n",
       "      <th>topic_3</th>\n",
       "      <th>topic_4</th>\n",
       "      <th>topic_5</th>\n",
       "      <th>topic_6</th>\n",
       "      <th>topic_7</th>\n",
       "      <th>topic_8</th>\n",
       "      <th>topic_9</th>\n",
       "      <th>...</th>\n",
       "      <th>topic_41</th>\n",
       "      <th>topic_42</th>\n",
       "      <th>topic_43</th>\n",
       "      <th>topic_44</th>\n",
       "      <th>topic_45</th>\n",
       "      <th>topic_46</th>\n",
       "      <th>topic_47</th>\n",
       "      <th>topic_48</th>\n",
       "      <th>topic_49</th>\n",
       "      <th>word</th>\n",
       "    </tr>\n",
       "  </thead>\n",
       "  <tbody>\n",
       "    <tr>\n",
       "      <th>кампаньоть</th>\n",
       "      <td>0.0</td>\n",
       "      <td>0.0</td>\n",
       "      <td>0.0</td>\n",
       "      <td>0.0</td>\n",
       "      <td>0.000000</td>\n",
       "      <td>0.0</td>\n",
       "      <td>0.0</td>\n",
       "      <td>0.0</td>\n",
       "      <td>0.0</td>\n",
       "      <td>0.0</td>\n",
       "      <td>...</td>\n",
       "      <td>0.0</td>\n",
       "      <td>0.0</td>\n",
       "      <td>0.0</td>\n",
       "      <td>0.0</td>\n",
       "      <td>0.0</td>\n",
       "      <td>0.0</td>\n",
       "      <td>0.0</td>\n",
       "      <td>0.0</td>\n",
       "      <td>0.0</td>\n",
       "      <td>кампаньоть</td>\n",
       "    </tr>\n",
       "    <tr>\n",
       "      <th>сяося</th>\n",
       "      <td>0.0</td>\n",
       "      <td>0.0</td>\n",
       "      <td>0.0</td>\n",
       "      <td>0.0</td>\n",
       "      <td>0.000058</td>\n",
       "      <td>0.0</td>\n",
       "      <td>0.0</td>\n",
       "      <td>0.0</td>\n",
       "      <td>0.0</td>\n",
       "      <td>0.0</td>\n",
       "      <td>...</td>\n",
       "      <td>0.0</td>\n",
       "      <td>0.0</td>\n",
       "      <td>0.0</td>\n",
       "      <td>0.0</td>\n",
       "      <td>0.0</td>\n",
       "      <td>0.0</td>\n",
       "      <td>0.0</td>\n",
       "      <td>0.0</td>\n",
       "      <td>0.0</td>\n",
       "      <td>сяося</td>\n",
       "    </tr>\n",
       "    <tr>\n",
       "      <th>ambro</th>\n",
       "      <td>0.0</td>\n",
       "      <td>0.0</td>\n",
       "      <td>0.0</td>\n",
       "      <td>0.0</td>\n",
       "      <td>0.000000</td>\n",
       "      <td>0.0</td>\n",
       "      <td>0.0</td>\n",
       "      <td>0.0</td>\n",
       "      <td>0.0</td>\n",
       "      <td>0.0</td>\n",
       "      <td>...</td>\n",
       "      <td>0.0</td>\n",
       "      <td>0.0</td>\n",
       "      <td>0.0</td>\n",
       "      <td>0.0</td>\n",
       "      <td>0.0</td>\n",
       "      <td>0.0</td>\n",
       "      <td>0.0</td>\n",
       "      <td>0.0</td>\n",
       "      <td>0.0</td>\n",
       "      <td>ambro</td>\n",
       "    </tr>\n",
       "    <tr>\n",
       "      <th>предсезонка</th>\n",
       "      <td>0.0</td>\n",
       "      <td>0.0</td>\n",
       "      <td>0.0</td>\n",
       "      <td>0.0</td>\n",
       "      <td>0.000000</td>\n",
       "      <td>0.0</td>\n",
       "      <td>0.0</td>\n",
       "      <td>0.0</td>\n",
       "      <td>0.0</td>\n",
       "      <td>0.0</td>\n",
       "      <td>...</td>\n",
       "      <td>0.0</td>\n",
       "      <td>0.0</td>\n",
       "      <td>0.0</td>\n",
       "      <td>0.0</td>\n",
       "      <td>0.0</td>\n",
       "      <td>0.0</td>\n",
       "      <td>0.0</td>\n",
       "      <td>0.0</td>\n",
       "      <td>0.0</td>\n",
       "      <td>предсезонка</td>\n",
       "    </tr>\n",
       "    <tr>\n",
       "      <th>кирхайзный</th>\n",
       "      <td>0.0</td>\n",
       "      <td>0.0</td>\n",
       "      <td>0.0</td>\n",
       "      <td>0.0</td>\n",
       "      <td>0.000000</td>\n",
       "      <td>0.0</td>\n",
       "      <td>0.0</td>\n",
       "      <td>0.0</td>\n",
       "      <td>0.0</td>\n",
       "      <td>0.0</td>\n",
       "      <td>...</td>\n",
       "      <td>0.0</td>\n",
       "      <td>0.0</td>\n",
       "      <td>0.0</td>\n",
       "      <td>0.0</td>\n",
       "      <td>0.0</td>\n",
       "      <td>0.0</td>\n",
       "      <td>0.0</td>\n",
       "      <td>0.0</td>\n",
       "      <td>0.0</td>\n",
       "      <td>кирхайзный</td>\n",
       "    </tr>\n",
       "  </tbody>\n",
       "</table>\n",
       "<p>5 rows × 51 columns</p>\n",
       "</div>"
      ],
      "text/plain": [
       "             topic_0  topic_1  topic_2  topic_3   topic_4  topic_5  topic_6  \\\n",
       "кампаньоть       0.0      0.0      0.0      0.0  0.000000      0.0      0.0   \n",
       "сяося            0.0      0.0      0.0      0.0  0.000058      0.0      0.0   \n",
       "ambro            0.0      0.0      0.0      0.0  0.000000      0.0      0.0   \n",
       "предсезонка      0.0      0.0      0.0      0.0  0.000000      0.0      0.0   \n",
       "кирхайзный       0.0      0.0      0.0      0.0  0.000000      0.0      0.0   \n",
       "\n",
       "             topic_7  topic_8  topic_9     ...       topic_41  topic_42  \\\n",
       "кампаньоть       0.0      0.0      0.0     ...            0.0       0.0   \n",
       "сяося            0.0      0.0      0.0     ...            0.0       0.0   \n",
       "ambro            0.0      0.0      0.0     ...            0.0       0.0   \n",
       "предсезонка      0.0      0.0      0.0     ...            0.0       0.0   \n",
       "кирхайзный       0.0      0.0      0.0     ...            0.0       0.0   \n",
       "\n",
       "             topic_43  topic_44  topic_45  topic_46  topic_47  topic_48  \\\n",
       "кампаньоть        0.0       0.0       0.0       0.0       0.0       0.0   \n",
       "сяося             0.0       0.0       0.0       0.0       0.0       0.0   \n",
       "ambro             0.0       0.0       0.0       0.0       0.0       0.0   \n",
       "предсезонка       0.0       0.0       0.0       0.0       0.0       0.0   \n",
       "кирхайзный        0.0       0.0       0.0       0.0       0.0       0.0   \n",
       "\n",
       "             topic_49         word  \n",
       "кампаньоть        0.0   кампаньоть  \n",
       "сяося             0.0        сяося  \n",
       "ambro             0.0        ambro  \n",
       "предсезонка       0.0  предсезонка  \n",
       "кирхайзный        0.0   кирхайзный  \n",
       "\n",
       "[5 rows x 51 columns]"
      ]
     },
     "execution_count": 80,
     "metadata": {},
     "output_type": "execute_result"
    }
   ],
   "source": [
    "phi = model.get_phi()\n",
    "phi['word'] = phi.index\n",
    "phi.head()"
   ]
  },
  {
   "cell_type": "code",
   "execution_count": 81,
   "metadata": {
    "ExecuteTime": {
     "end_time": "2019-01-20T14:27:28.523779Z",
     "start_time": "2019-01-20T14:27:27.656906Z"
    },
    "hidden": true,
    "scrolled": true
   },
   "outputs": [
    {
     "name": "stdout",
     "output_type": "stream",
     "text": [
      "topic_0\n",
      "\t ['болельщик' 'фанат' 'который' 'время' 'полиция' 'человек' 'стадион' 'это'\n",
      " 'инцидент' 'произойти']\n",
      "topic_1\n",
      "\t ['это' 'слово' 'заявить' 'сказать' 'рассказать' 'мочь' 'свой' 'отметить'\n",
      " 'хотеть' 'который']\n",
      "topic_2\n",
      "\t ['больница' 'время' 'врач' 'летний' 'произойти' 'смерть' 'автомобиль'\n",
      " 'находиться' 'помощь' 'машина']\n",
      "topic_3\n",
      "\t ['бразилия' 'аргентина' 'мир' 'рейтинг' 'место' 'бразильский' 'бразилец'\n",
      " 'футбол' 'сборная' 'мексика']\n",
      "topic_4\n",
      "\t ['биатлонист' 'россия' 'килограмм' 'мир' 'спортсмен' 'соревнование'\n",
      " 'чемпионат' 'союз' 'сбр' 'категория']\n",
      "topic_5\n",
      "\t ['миллион' 'доллар' 'компания' 'клуб' 'фунт' 'тысяча' 'владелец' 'акция'\n",
      " 'сумма' 'финансовый']\n",
      "topic_6\n",
      "\t ['кхл' 'хоккейный' 'клуб' 'металлург' 'ска' 'авангард' 'лига' 'хоккеист'\n",
      " 'динамо' 'барс']\n",
      "topic_7\n",
      "\t ['бой' 'поединок' 'кличко' 'боксёр' 'чемпион' 'боксёрский' 'мир' 'титул'\n",
      " 'версия' 'украинец']\n",
      "topic_8\n",
      "\t ['арбитр' 'карточка' 'игрок' 'франция' 'защитник' 'дисквалификация'\n",
      " 'судья' 'дисквалифицировать' 'футболист' 'нападать']\n",
      "topic_9\n",
      "\t ['рфс' 'российский' 'россия' 'союз' 'футбольный' 'спорт' 'президент'\n",
      " 'заявить' 'сборный' 'мутко']\n",
      "topic_10\n",
      "\t ['год' 'клуб' 'сезон' 'выступать' 'хороший' 'летний' 'чемпионат'\n",
      " 'футболист' 'это' 'стать']\n",
      "topic_11\n",
      "\t ['дело' 'драка' 'расследование' 'договорный' 'уголовный' 'отношение'\n",
      " 'фильм' 'статья' 'орган' 'прокуратура']\n",
      "topic_12\n",
      "\t ['медаль' 'олимпийский' 'олимпиада' 'завоевать' 'золотой' 'игра' 'метр'\n",
      " 'год' 'мир' 'бронзовый']\n",
      "topic_13\n",
      "\t ['украина' 'украинский' 'киевский' 'киев' 'решение' 'украинец' 'участие'\n",
      " 'принять' 'отказаться' 'федерация']\n",
      "topic_14\n",
      "\t ['россия' 'хоккей' 'сборный' 'швеция' 'мир' 'чехия' 'сборная' 'финляндия'\n",
      " 'канада' 'май']\n",
      "topic_15\n",
      "\t ['зенит' 'спартак' 'клуб' 'московский' 'россия' 'динамо' 'футбольный'\n",
      " 'матч' 'анжи' 'питерский']\n",
      "topic_16\n",
      "\t ['боец' 'запретить' 'препарат' 'спортсмен' 'смешанный' 'ufc' 'допингпроба'\n",
      " 'положительный' 'употребление' 'емельяненко']\n",
      "topic_17\n",
      "\t ['олимпийский' 'комитет' 'игра' 'год' 'мокнуть' 'антидопинговый' 'допинг'\n",
      " 'решение' 'международный' 'олимпиада']\n",
      "topic_18\n",
      "\t ['цска' 'челси' 'тренер' 'армеец' 'клуб' 'хиддинк' 'лондонский'\n",
      " 'московский' 'главный' 'моуринья']\n",
      "topic_19\n",
      "\t ['бой' 'поединок' 'боксёр' 'победа' 'чемпион' 'нокаут' 'титул' 'год'\n",
      " 'провести' 'вес']\n",
      "topic_20\n",
      "\t ['футболист' 'свой' 'это' 'который' 'игрок' 'заявить' 'манчестер'\n",
      " 'ребёнок' 'the' 'весь']\n",
      "topic_21\n",
      "\t ['счёт' 'минута' 'шайба' 'матч' 'период' 'забросить' 'встреча' 'победа'\n",
      " 'ворот' 'отличиться']\n",
      "topic_22\n",
      "\t ['очки' 'набрать' 'место' 'очко' 'матч' 'занимать' 'победа' 'счёт'\n",
      " 'чемпионат' 'команда']\n",
      "topic_23\n",
      "\t ['матч' 'тур' 'счёт' 'минута' 'локомотив' 'московский' 'спартак' 'цска'\n",
      " 'встреча' 'рубин']\n",
      "topic_24\n",
      "\t ['гонка' 'этап' 'место' 'формула' 'мир' 'пилот' 'занять' 'команда'\n",
      " 'гранпереть' 'стать']\n",
      "topic_25\n",
      "\t ['суд' 'сша' 'американский' 'спортсмен' 'штат' 'обвинение' 'тюрьма'\n",
      " 'заключение' 'летний' 'приговорить']\n",
      "topic_26\n",
      "\t ['канал' 'эфир' 'телеканал' 'трансляция' 'прямой' 'видео' 'журналист'\n",
      " 'показать' 'форма' 'youtube']\n",
      "topic_27\n",
      "\t ['программа' 'балл' 'катание' 'фигурный' 'пара' 'фигурист' 'короткий'\n",
      " 'место' 'плющенко' 'произвольный']\n",
      "topic_28\n",
      "\t ['мяч' 'минута' 'удар' 'ворот' 'тайм' 'счёт' 'гол' 'забить' 'ворота'\n",
      " 'штрафной']\n",
      "topic_29\n",
      "\t ['чемпионат' 'россия' 'июнь' 'пройти' 'турнир' 'мир' 'европа' 'год' 'матч'\n",
      " 'июль']\n",
      "topic_30\n",
      "\t ['милан' 'италия' 'итальянский' 'арсенал' 'интер' 'манчестер' 'ювентус'\n",
      " 'сити' 'чемпион' 'юнайтед']\n",
      "topic_31\n",
      "\t ['партия' 'тур' 'де' 'шахматы' 'мир' 'чемпион' 'гроссмейстер' 'франс'\n",
      " 'фиде' 'шахматный']\n",
      "topic_32\n",
      "\t ['миллион' 'евро' 'клуб' 'контракт' 'игрок' 'футболист' 'переход'\n",
      " 'зарплата' 'форвард' 'сумма']\n",
      "topic_33\n",
      "\t ['отборочный' 'группа' 'турнир' 'евро' 'ирландия' 'израиль' 'ставка'\n",
      " 'октябрь' 'европа' 'футбол']\n",
      "topic_34\n",
      "\t ['гонка' 'секунда' 'километр' 'промах' 'место' 'этап' 'эстафета' 'женский'\n",
      " 'кубок' 'минута']\n",
      "topic_35\n",
      "\t ['российский' 'спортсмен' 'россия' 'международный' 'это' 'федерация'\n",
      " 'риодежанейро' 'участие' 'iaaf' 'спорт']\n",
      "topic_36\n",
      "\t ['фифа' 'федерация' 'президент' 'год' 'футбол' 'организация' 'футбольный'\n",
      " 'проведение' 'международный' 'страна']\n",
      "topic_37\n",
      "\t ['турнир' 'финал' 'теннисист' 'матч' 'круг' 'счёт' 'сет' 'open' 'рейтинг'\n",
      " 'ракетка']\n",
      "topic_38\n",
      "\t ['лига' 'реал' 'матч' 'чемпион' 'барселона' 'испания' 'испанский' 'финал'\n",
      " 'мадридский' 'клуб']\n",
      "topic_39\n",
      "\t ['матч' 'сборный' 'команда' 'сборная' 'россия' 'чемпионат' 'игра' 'состав'\n",
      " 'сыграть' 'который']\n",
      "topic_40\n",
      "\t ['счёт' 'победа' 'матч' 'выиграть' 'свой' 'который' 'соперник'\n",
      " 'преимущество' 'финал' 'стать']\n",
      "topic_41\n",
      "\t ['тренер' 'команда' 'главный' 'год' 'клуб' 'наставник' 'пост' 'чемпионат'\n",
      " 'руководство' 'специалист']\n",
      "topic_42\n",
      "\t ['англия' 'английский' 'матч' 'ливерпуль' 'челси' 'манчестер' 'юнайтед'\n",
      " 'арбитр' 'клуб' 'премьерлига']\n",
      "topic_43\n",
      "\t ['спортивный' 'очень' 'свой' 'весь' 'новый' 'сезон' 'лига' 'это'\n",
      " 'генеральный' 'работа']\n",
      "topic_44\n",
      "\t ['год' 'спорт' 'россия' 'президент' 'олимпийский' 'федерация' 'ссср'\n",
      " 'чемпион' 'сборный' 'спортивный']\n",
      "topic_45\n",
      "\t ['россия' 'команда' 'весь' 'наш' 'сказать' 'сборный' 'слово' 'российский'\n",
      " 'который' 'страна']\n",
      "topic_46\n",
      "\t ['теннисистка' 'россиянка' 'турнир' 'шарапов' 'wta' 'соперница'\n",
      " 'американка' 'женский' 'мария_шарапов' 'теннисный']\n",
      "topic_47\n",
      "\t ['стадион' 'тысяча' 'рубль' 'билет' 'процент' 'год' 'строительство' 'арен'\n",
      " 'арена' 'зритель']\n",
      "topic_48\n",
      "\t ['нхл' 'матч' 'передача' 'форвард' 'вашингтон' 'клуб' 'регулярный'\n",
      " 'российский' 'шайба' 'лига']\n",
      "topic_49\n",
      "\t ['травма' 'изз' 'получить' 'пропустить' 'тренировка' 'смочь' 'время'\n",
      " 'участие' 'игра' 'операция']\n"
     ]
    }
   ],
   "source": [
    "for col in phi.columns:\n",
    "    if col != 'word':\n",
    "        print(col)\n",
    "        print('\\t',phi[[col, 'word']].sort_values(by=col, ascending=False)['word'].values[:10])\n"
   ]
  },
  {
   "cell_type": "code",
   "execution_count": null,
   "metadata": {
    "hidden": true
   },
   "outputs": [],
   "source": []
  },
  {
   "cell_type": "code",
   "execution_count": null,
   "metadata": {
    "hidden": true
   },
   "outputs": [],
   "source": []
  },
  {
   "cell_type": "markdown",
   "metadata": {
    "heading_collapsed": true
   },
   "source": [
    "## Get topics-docs matrix\n",
    "### Sparse"
   ]
  },
  {
   "cell_type": "code",
   "execution_count": 83,
   "metadata": {
    "ExecuteTime": {
     "end_time": "2019-01-20T14:52:04.521040Z",
     "start_time": "2019-01-20T14:52:03.732442Z"
    },
    "hidden": true
   },
   "outputs": [
    {
     "data": {
      "text/plain": [
       "(50, 60840)"
      ]
     },
     "execution_count": 83,
     "metadata": {},
     "output_type": "execute_result"
    }
   ],
   "source": [
    "theta = model.transform_sparse(batch_vectorizer=batch_vectorizer, eps=0.001)\n",
    "theta[0].shape"
   ]
  },
  {
   "cell_type": "code",
   "execution_count": 91,
   "metadata": {
    "ExecuteTime": {
     "end_time": "2019-01-20T14:53:25.971041Z",
     "start_time": "2019-01-20T14:53:25.552360Z"
    },
    "hidden": true
   },
   "outputs": [
    {
     "data": {
      "image/png": "[encoded data removed]",
      "text/plain": [
       "<Figure size 2160x1440 with 1 Axes>"
      ]
     },
     "metadata": {
      "needs_background": "light"
     },
     "output_type": "display_data"
    }
   ],
   "source": [
    "plt.figure(figsize=(30, 20))\n",
    "plt.imshow(theta[0][:, 2000:3000].toarray());"
   ]
  },
  {
   "cell_type": "markdown",
   "metadata": {
    "heading_collapsed": true
   },
   "source": [
    "## Dense theta matrix¶"
   ]
  },
  {
   "cell_type": "code",
   "execution_count": 95,
   "metadata": {
    "ExecuteTime": {
     "end_time": "2019-01-20T14:54:11.963437Z",
     "start_time": "2019-01-20T14:54:11.134127Z"
    },
    "hidden": true
   },
   "outputs": [
    {
     "data": {
      "text/html": [
       "<div>\n",
       "<style scoped>\n",
       "    .dataframe tbody tr th:only-of-type {\n",
       "        vertical-align: middle;\n",
       "    }\n",
       "\n",
       "    .dataframe tbody tr th {\n",
       "        vertical-align: top;\n",
       "    }\n",
       "\n",
       "    .dataframe thead th {\n",
       "        text-align: right;\n",
       "    }\n",
       "</style>\n",
       "<table border=\"1\" class=\"dataframe\">\n",
       "  <thead>\n",
       "    <tr style=\"text-align: right;\">\n",
       "      <th></th>\n",
       "      <th>topic_0</th>\n",
       "      <th>topic_1</th>\n",
       "      <th>topic_2</th>\n",
       "      <th>topic_3</th>\n",
       "      <th>topic_4</th>\n",
       "      <th>topic_5</th>\n",
       "      <th>topic_6</th>\n",
       "      <th>topic_7</th>\n",
       "      <th>topic_8</th>\n",
       "      <th>topic_9</th>\n",
       "      <th>...</th>\n",
       "      <th>topic_40</th>\n",
       "      <th>topic_41</th>\n",
       "      <th>topic_42</th>\n",
       "      <th>topic_43</th>\n",
       "      <th>topic_44</th>\n",
       "      <th>topic_45</th>\n",
       "      <th>topic_46</th>\n",
       "      <th>topic_47</th>\n",
       "      <th>topic_48</th>\n",
       "      <th>topic_49</th>\n",
       "    </tr>\n",
       "  </thead>\n",
       "  <tbody>\n",
       "    <tr>\n",
       "      <th>24000</th>\n",
       "      <td>0.0</td>\n",
       "      <td>0.102511</td>\n",
       "      <td>0.0</td>\n",
       "      <td>0.032461</td>\n",
       "      <td>0.0</td>\n",
       "      <td>0.0</td>\n",
       "      <td>0.000000</td>\n",
       "      <td>0.0</td>\n",
       "      <td>0.0</td>\n",
       "      <td>0.0</td>\n",
       "      <td>...</td>\n",
       "      <td>0.000000</td>\n",
       "      <td>0.0</td>\n",
       "      <td>0.0</td>\n",
       "      <td>0.0</td>\n",
       "      <td>0.0</td>\n",
       "      <td>0.05962</td>\n",
       "      <td>0.000000</td>\n",
       "      <td>0.043917</td>\n",
       "      <td>0.000000</td>\n",
       "      <td>0.074348</td>\n",
       "    </tr>\n",
       "    <tr>\n",
       "      <th>24001</th>\n",
       "      <td>0.0</td>\n",
       "      <td>0.000000</td>\n",
       "      <td>0.0</td>\n",
       "      <td>0.000000</td>\n",
       "      <td>0.0</td>\n",
       "      <td>0.0</td>\n",
       "      <td>0.000000</td>\n",
       "      <td>0.0</td>\n",
       "      <td>0.0</td>\n",
       "      <td>0.0</td>\n",
       "      <td>...</td>\n",
       "      <td>0.148562</td>\n",
       "      <td>0.0</td>\n",
       "      <td>0.0</td>\n",
       "      <td>0.0</td>\n",
       "      <td>0.0</td>\n",
       "      <td>0.00000</td>\n",
       "      <td>0.459173</td>\n",
       "      <td>0.000000</td>\n",
       "      <td>0.000000</td>\n",
       "      <td>0.047601</td>\n",
       "    </tr>\n",
       "    <tr>\n",
       "      <th>24002</th>\n",
       "      <td>0.0</td>\n",
       "      <td>0.000000</td>\n",
       "      <td>0.0</td>\n",
       "      <td>0.000000</td>\n",
       "      <td>0.0</td>\n",
       "      <td>0.0</td>\n",
       "      <td>0.000000</td>\n",
       "      <td>0.0</td>\n",
       "      <td>0.0</td>\n",
       "      <td>0.0</td>\n",
       "      <td>...</td>\n",
       "      <td>0.021898</td>\n",
       "      <td>0.0</td>\n",
       "      <td>0.0</td>\n",
       "      <td>0.0</td>\n",
       "      <td>0.0</td>\n",
       "      <td>0.00000</td>\n",
       "      <td>0.000000</td>\n",
       "      <td>0.000000</td>\n",
       "      <td>0.000000</td>\n",
       "      <td>0.032761</td>\n",
       "    </tr>\n",
       "    <tr>\n",
       "      <th>24003</th>\n",
       "      <td>0.0</td>\n",
       "      <td>0.000000</td>\n",
       "      <td>0.0</td>\n",
       "      <td>0.195298</td>\n",
       "      <td>0.0</td>\n",
       "      <td>0.0</td>\n",
       "      <td>0.000000</td>\n",
       "      <td>0.0</td>\n",
       "      <td>0.0</td>\n",
       "      <td>0.0</td>\n",
       "      <td>...</td>\n",
       "      <td>0.000000</td>\n",
       "      <td>0.0</td>\n",
       "      <td>0.0</td>\n",
       "      <td>0.0</td>\n",
       "      <td>0.0</td>\n",
       "      <td>0.00000</td>\n",
       "      <td>0.000000</td>\n",
       "      <td>0.000000</td>\n",
       "      <td>0.000000</td>\n",
       "      <td>0.000000</td>\n",
       "    </tr>\n",
       "    <tr>\n",
       "      <th>24004</th>\n",
       "      <td>0.0</td>\n",
       "      <td>0.000000</td>\n",
       "      <td>0.0</td>\n",
       "      <td>0.000000</td>\n",
       "      <td>0.0</td>\n",
       "      <td>0.0</td>\n",
       "      <td>0.326388</td>\n",
       "      <td>0.0</td>\n",
       "      <td>0.0</td>\n",
       "      <td>0.0</td>\n",
       "      <td>...</td>\n",
       "      <td>0.000000</td>\n",
       "      <td>0.0</td>\n",
       "      <td>0.0</td>\n",
       "      <td>0.0</td>\n",
       "      <td>0.0</td>\n",
       "      <td>0.00000</td>\n",
       "      <td>0.000000</td>\n",
       "      <td>0.000000</td>\n",
       "      <td>0.006954</td>\n",
       "      <td>0.000000</td>\n",
       "    </tr>\n",
       "  </tbody>\n",
       "</table>\n",
       "<p>5 rows × 50 columns</p>\n",
       "</div>"
      ],
      "text/plain": [
       "       topic_0   topic_1  topic_2   topic_3  topic_4  topic_5   topic_6  \\\n",
       "24000      0.0  0.102511      0.0  0.032461      0.0      0.0  0.000000   \n",
       "24001      0.0  0.000000      0.0  0.000000      0.0      0.0  0.000000   \n",
       "24002      0.0  0.000000      0.0  0.000000      0.0      0.0  0.000000   \n",
       "24003      0.0  0.000000      0.0  0.195298      0.0      0.0  0.000000   \n",
       "24004      0.0  0.000000      0.0  0.000000      0.0      0.0  0.326388   \n",
       "\n",
       "       topic_7  topic_8  topic_9    ...     topic_40  topic_41  topic_42  \\\n",
       "24000      0.0      0.0      0.0    ...     0.000000       0.0       0.0   \n",
       "24001      0.0      0.0      0.0    ...     0.148562       0.0       0.0   \n",
       "24002      0.0      0.0      0.0    ...     0.021898       0.0       0.0   \n",
       "24003      0.0      0.0      0.0    ...     0.000000       0.0       0.0   \n",
       "24004      0.0      0.0      0.0    ...     0.000000       0.0       0.0   \n",
       "\n",
       "       topic_43  topic_44  topic_45  topic_46  topic_47  topic_48  topic_49  \n",
       "24000       0.0       0.0   0.05962  0.000000  0.043917  0.000000  0.074348  \n",
       "24001       0.0       0.0   0.00000  0.459173  0.000000  0.000000  0.047601  \n",
       "24002       0.0       0.0   0.00000  0.000000  0.000000  0.000000  0.032761  \n",
       "24003       0.0       0.0   0.00000  0.000000  0.000000  0.000000  0.000000  \n",
       "24004       0.0       0.0   0.00000  0.000000  0.000000  0.006954  0.000000  \n",
       "\n",
       "[5 rows x 50 columns]"
      ]
     },
     "execution_count": 95,
     "metadata": {},
     "output_type": "execute_result"
    }
   ],
   "source": [
    "theta = model.transform(batch_vectorizer=batch_vectorizer)\n",
    "\n",
    "theta = theta.T\n",
    "theta.head()"
   ]
  },
  {
   "cell_type": "code",
   "execution_count": 98,
   "metadata": {
    "ExecuteTime": {
     "end_time": "2019-01-20T14:55:17.145798Z",
     "start_time": "2019-01-20T14:55:17.140646Z"
    },
    "hidden": true
   },
   "outputs": [
    {
     "data": {
      "text/html": [
       "<div>\n",
       "<style scoped>\n",
       "    .dataframe tbody tr th:only-of-type {\n",
       "        vertical-align: middle;\n",
       "    }\n",
       "\n",
       "    .dataframe tbody tr th {\n",
       "        vertical-align: top;\n",
       "    }\n",
       "\n",
       "    .dataframe thead th {\n",
       "        text-align: right;\n",
       "    }\n",
       "</style>\n",
       "<table border=\"1\" class=\"dataframe\">\n",
       "  <thead>\n",
       "    <tr style=\"text-align: right;\">\n",
       "      <th></th>\n",
       "      <th>docID</th>\n",
       "      <th>year</th>\n",
       "      <th>month</th>\n",
       "    </tr>\n",
       "  </thead>\n",
       "  <tbody>\n",
       "    <tr>\n",
       "      <th>0</th>\n",
       "      <td>0</td>\n",
       "      <td>1999</td>\n",
       "      <td>10</td>\n",
       "    </tr>\n",
       "    <tr>\n",
       "      <th>1</th>\n",
       "      <td>1</td>\n",
       "      <td>1999</td>\n",
       "      <td>10</td>\n",
       "    </tr>\n",
       "    <tr>\n",
       "      <th>2</th>\n",
       "      <td>2</td>\n",
       "      <td>1999</td>\n",
       "      <td>10</td>\n",
       "    </tr>\n",
       "    <tr>\n",
       "      <th>3</th>\n",
       "      <td>3</td>\n",
       "      <td>1999</td>\n",
       "      <td>10</td>\n",
       "    </tr>\n",
       "    <tr>\n",
       "      <th>4</th>\n",
       "      <td>4</td>\n",
       "      <td>1999</td>\n",
       "      <td>12</td>\n",
       "    </tr>\n",
       "  </tbody>\n",
       "</table>\n",
       "</div>"
      ],
      "text/plain": [
       "   docID  year  month\n",
       "0      0  1999     10\n",
       "1      1  1999     10\n",
       "2      2  1999     10\n",
       "3      3  1999     10\n",
       "4      4  1999     12"
      ]
     },
     "execution_count": 98,
     "metadata": {},
     "output_type": "execute_result"
    }
   ],
   "source": [
    "id_date.head()"
   ]
  },
  {
   "cell_type": "code",
   "execution_count": null,
   "metadata": {
    "hidden": true
   },
   "outputs": [],
   "source": []
  },
  {
   "cell_type": "markdown",
   "metadata": {
    "heading_collapsed": true
   },
   "source": [
    "## DataViz\n",
    "### Prepare Theta matrix"
   ]
  },
  {
   "cell_type": "code",
   "execution_count": 99,
   "metadata": {
    "ExecuteTime": {
     "end_time": "2019-01-20T14:55:40.983220Z",
     "start_time": "2019-01-20T14:55:40.956253Z"
    },
    "hidden": true
   },
   "outputs": [
    {
     "data": {
      "text/html": [
       "<div>\n",
       "<style scoped>\n",
       "    .dataframe tbody tr th:only-of-type {\n",
       "        vertical-align: middle;\n",
       "    }\n",
       "\n",
       "    .dataframe tbody tr th {\n",
       "        vertical-align: top;\n",
       "    }\n",
       "\n",
       "    .dataframe thead th {\n",
       "        text-align: right;\n",
       "    }\n",
       "</style>\n",
       "<table border=\"1\" class=\"dataframe\">\n",
       "  <thead>\n",
       "    <tr style=\"text-align: right;\">\n",
       "      <th></th>\n",
       "      <th>docID</th>\n",
       "      <th>year</th>\n",
       "      <th>month</th>\n",
       "      <th>topic_0</th>\n",
       "      <th>topic_1</th>\n",
       "      <th>topic_2</th>\n",
       "      <th>topic_3</th>\n",
       "      <th>topic_4</th>\n",
       "      <th>topic_5</th>\n",
       "      <th>topic_6</th>\n",
       "      <th>...</th>\n",
       "      <th>topic_40</th>\n",
       "      <th>topic_41</th>\n",
       "      <th>topic_42</th>\n",
       "      <th>topic_43</th>\n",
       "      <th>topic_44</th>\n",
       "      <th>topic_45</th>\n",
       "      <th>topic_46</th>\n",
       "      <th>topic_47</th>\n",
       "      <th>topic_48</th>\n",
       "      <th>topic_49</th>\n",
       "    </tr>\n",
       "  </thead>\n",
       "  <tbody>\n",
       "    <tr>\n",
       "      <th>0</th>\n",
       "      <td>0</td>\n",
       "      <td>1999</td>\n",
       "      <td>10</td>\n",
       "      <td>0.000000</td>\n",
       "      <td>0.194916</td>\n",
       "      <td>0.000000</td>\n",
       "      <td>0.000000</td>\n",
       "      <td>0.0</td>\n",
       "      <td>0.000000</td>\n",
       "      <td>0.0</td>\n",
       "      <td>...</td>\n",
       "      <td>0.0</td>\n",
       "      <td>0.000000</td>\n",
       "      <td>0.00000</td>\n",
       "      <td>0.000000</td>\n",
       "      <td>0.0</td>\n",
       "      <td>0.000000</td>\n",
       "      <td>0.01791</td>\n",
       "      <td>0.000000</td>\n",
       "      <td>0.041716</td>\n",
       "      <td>0.0</td>\n",
       "    </tr>\n",
       "    <tr>\n",
       "      <th>1</th>\n",
       "      <td>1</td>\n",
       "      <td>1999</td>\n",
       "      <td>10</td>\n",
       "      <td>0.057561</td>\n",
       "      <td>0.000000</td>\n",
       "      <td>0.000000</td>\n",
       "      <td>0.000000</td>\n",
       "      <td>0.0</td>\n",
       "      <td>0.000000</td>\n",
       "      <td>0.0</td>\n",
       "      <td>...</td>\n",
       "      <td>0.0</td>\n",
       "      <td>0.000000</td>\n",
       "      <td>0.00000</td>\n",
       "      <td>0.000000</td>\n",
       "      <td>0.0</td>\n",
       "      <td>0.082272</td>\n",
       "      <td>0.00000</td>\n",
       "      <td>0.033301</td>\n",
       "      <td>0.000000</td>\n",
       "      <td>0.0</td>\n",
       "    </tr>\n",
       "    <tr>\n",
       "      <th>2</th>\n",
       "      <td>2</td>\n",
       "      <td>1999</td>\n",
       "      <td>10</td>\n",
       "      <td>0.212302</td>\n",
       "      <td>0.049977</td>\n",
       "      <td>0.000000</td>\n",
       "      <td>0.014105</td>\n",
       "      <td>0.0</td>\n",
       "      <td>0.234681</td>\n",
       "      <td>0.0</td>\n",
       "      <td>...</td>\n",
       "      <td>0.0</td>\n",
       "      <td>0.034694</td>\n",
       "      <td>0.08097</td>\n",
       "      <td>0.000000</td>\n",
       "      <td>0.0</td>\n",
       "      <td>0.004409</td>\n",
       "      <td>0.00000</td>\n",
       "      <td>0.029743</td>\n",
       "      <td>0.000000</td>\n",
       "      <td>0.0</td>\n",
       "    </tr>\n",
       "    <tr>\n",
       "      <th>3</th>\n",
       "      <td>3</td>\n",
       "      <td>1999</td>\n",
       "      <td>10</td>\n",
       "      <td>0.000000</td>\n",
       "      <td>0.013450</td>\n",
       "      <td>0.033773</td>\n",
       "      <td>0.000000</td>\n",
       "      <td>0.0</td>\n",
       "      <td>0.000000</td>\n",
       "      <td>0.0</td>\n",
       "      <td>...</td>\n",
       "      <td>0.0</td>\n",
       "      <td>0.028709</td>\n",
       "      <td>0.00000</td>\n",
       "      <td>0.026098</td>\n",
       "      <td>0.0</td>\n",
       "      <td>0.024375</td>\n",
       "      <td>0.00000</td>\n",
       "      <td>0.000000</td>\n",
       "      <td>0.000000</td>\n",
       "      <td>0.0</td>\n",
       "    </tr>\n",
       "    <tr>\n",
       "      <th>4</th>\n",
       "      <td>4</td>\n",
       "      <td>1999</td>\n",
       "      <td>12</td>\n",
       "      <td>0.000000</td>\n",
       "      <td>0.000000</td>\n",
       "      <td>0.000000</td>\n",
       "      <td>0.000000</td>\n",
       "      <td>0.0</td>\n",
       "      <td>0.187523</td>\n",
       "      <td>0.0</td>\n",
       "      <td>...</td>\n",
       "      <td>0.0</td>\n",
       "      <td>0.000000</td>\n",
       "      <td>0.00000</td>\n",
       "      <td>0.000000</td>\n",
       "      <td>0.0</td>\n",
       "      <td>0.222109</td>\n",
       "      <td>0.00000</td>\n",
       "      <td>0.000000</td>\n",
       "      <td>0.000000</td>\n",
       "      <td>0.0</td>\n",
       "    </tr>\n",
       "  </tbody>\n",
       "</table>\n",
       "<p>5 rows × 53 columns</p>\n",
       "</div>"
      ],
      "text/plain": [
       "   docID  year  month   topic_0   topic_1   topic_2   topic_3  topic_4  \\\n",
       "0      0  1999     10  0.000000  0.194916  0.000000  0.000000      0.0   \n",
       "1      1  1999     10  0.057561  0.000000  0.000000  0.000000      0.0   \n",
       "2      2  1999     10  0.212302  0.049977  0.000000  0.014105      0.0   \n",
       "3      3  1999     10  0.000000  0.013450  0.033773  0.000000      0.0   \n",
       "4      4  1999     12  0.000000  0.000000  0.000000  0.000000      0.0   \n",
       "\n",
       "    topic_5  topic_6    ...     topic_40  topic_41  topic_42  topic_43  \\\n",
       "0  0.000000      0.0    ...          0.0  0.000000   0.00000  0.000000   \n",
       "1  0.000000      0.0    ...          0.0  0.000000   0.00000  0.000000   \n",
       "2  0.234681      0.0    ...          0.0  0.034694   0.08097  0.000000   \n",
       "3  0.000000      0.0    ...          0.0  0.028709   0.00000  0.026098   \n",
       "4  0.187523      0.0    ...          0.0  0.000000   0.00000  0.000000   \n",
       "\n",
       "   topic_44  topic_45  topic_46  topic_47  topic_48  topic_49  \n",
       "0       0.0  0.000000   0.01791  0.000000  0.041716       0.0  \n",
       "1       0.0  0.082272   0.00000  0.033301  0.000000       0.0  \n",
       "2       0.0  0.004409   0.00000  0.029743  0.000000       0.0  \n",
       "3       0.0  0.024375   0.00000  0.000000  0.000000       0.0  \n",
       "4       0.0  0.222109   0.00000  0.000000  0.000000       0.0  \n",
       "\n",
       "[5 rows x 53 columns]"
      ]
     },
     "execution_count": 99,
     "metadata": {},
     "output_type": "execute_result"
    }
   ],
   "source": [
    "joined = id_date.join(theta)\n",
    "joined.head()"
   ]
  },
  {
   "cell_type": "code",
   "execution_count": 102,
   "metadata": {
    "ExecuteTime": {
     "end_time": "2019-01-20T14:56:15.955236Z",
     "start_time": "2019-01-20T14:56:15.929976Z"
    },
    "hidden": true
   },
   "outputs": [
    {
     "data": {
      "text/plain": [
       "(227, 50)"
      ]
     },
     "execution_count": 102,
     "metadata": {},
     "output_type": "execute_result"
    }
   ],
   "source": [
    "topics = ['topic_{}'.format(i) for i in range(num_topics)]\n",
    "gb = joined.groupby(['year', 'month'])[topics].sum()\n",
    "gb.shape"
   ]
  },
  {
   "cell_type": "code",
   "execution_count": 103,
   "metadata": {
    "ExecuteTime": {
     "end_time": "2019-01-20T14:56:17.240845Z",
     "start_time": "2019-01-20T14:56:17.224702Z"
    },
    "hidden": true
   },
   "outputs": [
    {
     "data": {
      "text/html": [
       "<div>\n",
       "<style scoped>\n",
       "    .dataframe tbody tr th:only-of-type {\n",
       "        vertical-align: middle;\n",
       "    }\n",
       "\n",
       "    .dataframe tbody tr th {\n",
       "        vertical-align: top;\n",
       "    }\n",
       "\n",
       "    .dataframe thead th {\n",
       "        text-align: right;\n",
       "    }\n",
       "</style>\n",
       "<table border=\"1\" class=\"dataframe\">\n",
       "  <thead>\n",
       "    <tr style=\"text-align: right;\">\n",
       "      <th></th>\n",
       "      <th></th>\n",
       "      <th>topic_0</th>\n",
       "      <th>topic_1</th>\n",
       "      <th>topic_2</th>\n",
       "      <th>topic_3</th>\n",
       "      <th>topic_4</th>\n",
       "      <th>topic_5</th>\n",
       "      <th>topic_6</th>\n",
       "      <th>topic_7</th>\n",
       "      <th>topic_8</th>\n",
       "      <th>topic_9</th>\n",
       "      <th>...</th>\n",
       "      <th>topic_40</th>\n",
       "      <th>topic_41</th>\n",
       "      <th>topic_42</th>\n",
       "      <th>topic_43</th>\n",
       "      <th>topic_44</th>\n",
       "      <th>topic_45</th>\n",
       "      <th>topic_46</th>\n",
       "      <th>topic_47</th>\n",
       "      <th>topic_48</th>\n",
       "      <th>topic_49</th>\n",
       "    </tr>\n",
       "    <tr>\n",
       "      <th>year</th>\n",
       "      <th>month</th>\n",
       "      <th></th>\n",
       "      <th></th>\n",
       "      <th></th>\n",
       "      <th></th>\n",
       "      <th></th>\n",
       "      <th></th>\n",
       "      <th></th>\n",
       "      <th></th>\n",
       "      <th></th>\n",
       "      <th></th>\n",
       "      <th></th>\n",
       "      <th></th>\n",
       "      <th></th>\n",
       "      <th></th>\n",
       "      <th></th>\n",
       "      <th></th>\n",
       "      <th></th>\n",
       "      <th></th>\n",
       "      <th></th>\n",
       "      <th></th>\n",
       "      <th></th>\n",
       "    </tr>\n",
       "  </thead>\n",
       "  <tbody>\n",
       "    <tr>\n",
       "      <th rowspan=\"4\" valign=\"top\">1999</th>\n",
       "      <th>9</th>\n",
       "      <td>0.998137</td>\n",
       "      <td>0.112835</td>\n",
       "      <td>0.156687</td>\n",
       "      <td>0.076535</td>\n",
       "      <td>0.00000</td>\n",
       "      <td>0.358059</td>\n",
       "      <td>0.039460</td>\n",
       "      <td>0.000000</td>\n",
       "      <td>0.0</td>\n",
       "      <td>0.079641</td>\n",
       "      <td>...</td>\n",
       "      <td>0.019393</td>\n",
       "      <td>0.000000</td>\n",
       "      <td>0.000000</td>\n",
       "      <td>0.042144</td>\n",
       "      <td>0.039351</td>\n",
       "      <td>0.394900</td>\n",
       "      <td>0.000000</td>\n",
       "      <td>0.135376</td>\n",
       "      <td>0.000000</td>\n",
       "      <td>0.000000</td>\n",
       "    </tr>\n",
       "    <tr>\n",
       "      <th>10</th>\n",
       "      <td>0.269863</td>\n",
       "      <td>0.258343</td>\n",
       "      <td>0.033773</td>\n",
       "      <td>0.014105</td>\n",
       "      <td>0.00000</td>\n",
       "      <td>0.234681</td>\n",
       "      <td>0.000000</td>\n",
       "      <td>0.206786</td>\n",
       "      <td>0.0</td>\n",
       "      <td>0.000000</td>\n",
       "      <td>...</td>\n",
       "      <td>0.000000</td>\n",
       "      <td>0.063403</td>\n",
       "      <td>0.080970</td>\n",
       "      <td>0.026098</td>\n",
       "      <td>0.000000</td>\n",
       "      <td>0.111057</td>\n",
       "      <td>0.017910</td>\n",
       "      <td>0.063044</td>\n",
       "      <td>0.041716</td>\n",
       "      <td>0.000000</td>\n",
       "    </tr>\n",
       "    <tr>\n",
       "      <th>11</th>\n",
       "      <td>0.266029</td>\n",
       "      <td>0.000000</td>\n",
       "      <td>0.088378</td>\n",
       "      <td>0.000000</td>\n",
       "      <td>0.04653</td>\n",
       "      <td>0.043470</td>\n",
       "      <td>0.000000</td>\n",
       "      <td>0.110370</td>\n",
       "      <td>0.0</td>\n",
       "      <td>0.000000</td>\n",
       "      <td>...</td>\n",
       "      <td>0.271505</td>\n",
       "      <td>0.000000</td>\n",
       "      <td>0.000000</td>\n",
       "      <td>0.000000</td>\n",
       "      <td>0.006558</td>\n",
       "      <td>0.069231</td>\n",
       "      <td>0.020433</td>\n",
       "      <td>0.296241</td>\n",
       "      <td>0.038930</td>\n",
       "      <td>0.013186</td>\n",
       "    </tr>\n",
       "    <tr>\n",
       "      <th>12</th>\n",
       "      <td>0.000000</td>\n",
       "      <td>0.000000</td>\n",
       "      <td>0.000000</td>\n",
       "      <td>0.000000</td>\n",
       "      <td>0.00000</td>\n",
       "      <td>0.187523</td>\n",
       "      <td>0.000000</td>\n",
       "      <td>0.185079</td>\n",
       "      <td>0.0</td>\n",
       "      <td>0.090674</td>\n",
       "      <td>...</td>\n",
       "      <td>0.000000</td>\n",
       "      <td>0.022315</td>\n",
       "      <td>0.000000</td>\n",
       "      <td>0.010638</td>\n",
       "      <td>0.216428</td>\n",
       "      <td>0.222109</td>\n",
       "      <td>0.000000</td>\n",
       "      <td>0.000000</td>\n",
       "      <td>0.000000</td>\n",
       "      <td>0.000000</td>\n",
       "    </tr>\n",
       "    <tr>\n",
       "      <th>2000</th>\n",
       "      <th>1</th>\n",
       "      <td>1.169601</td>\n",
       "      <td>0.329489</td>\n",
       "      <td>0.143173</td>\n",
       "      <td>0.000000</td>\n",
       "      <td>0.00000</td>\n",
       "      <td>0.000000</td>\n",
       "      <td>0.008875</td>\n",
       "      <td>0.000000</td>\n",
       "      <td>0.0</td>\n",
       "      <td>0.015842</td>\n",
       "      <td>...</td>\n",
       "      <td>0.000000</td>\n",
       "      <td>0.000000</td>\n",
       "      <td>0.252661</td>\n",
       "      <td>0.117744</td>\n",
       "      <td>0.000000</td>\n",
       "      <td>0.401670</td>\n",
       "      <td>0.052477</td>\n",
       "      <td>0.187288</td>\n",
       "      <td>0.000000</td>\n",
       "      <td>0.109549</td>\n",
       "    </tr>\n",
       "  </tbody>\n",
       "</table>\n",
       "<p>5 rows × 50 columns</p>\n",
       "</div>"
      ],
      "text/plain": [
       "             topic_0   topic_1   topic_2   topic_3  topic_4   topic_5  \\\n",
       "year month                                                              \n",
       "1999 9      0.998137  0.112835  0.156687  0.076535  0.00000  0.358059   \n",
       "     10     0.269863  0.258343  0.033773  0.014105  0.00000  0.234681   \n",
       "     11     0.266029  0.000000  0.088378  0.000000  0.04653  0.043470   \n",
       "     12     0.000000  0.000000  0.000000  0.000000  0.00000  0.187523   \n",
       "2000 1      1.169601  0.329489  0.143173  0.000000  0.00000  0.000000   \n",
       "\n",
       "             topic_6   topic_7  topic_8   topic_9    ...     topic_40  \\\n",
       "year month                                           ...                \n",
       "1999 9      0.039460  0.000000      0.0  0.079641    ...     0.019393   \n",
       "     10     0.000000  0.206786      0.0  0.000000    ...     0.000000   \n",
       "     11     0.000000  0.110370      0.0  0.000000    ...     0.271505   \n",
       "     12     0.000000  0.185079      0.0  0.090674    ...     0.000000   \n",
       "2000 1      0.008875  0.000000      0.0  0.015842    ...     0.000000   \n",
       "\n",
       "            topic_41  topic_42  topic_43  topic_44  topic_45  topic_46  \\\n",
       "year month                                                               \n",
       "1999 9      0.000000  0.000000  0.042144  0.039351  0.394900  0.000000   \n",
       "     10     0.063403  0.080970  0.026098  0.000000  0.111057  0.017910   \n",
       "     11     0.000000  0.000000  0.000000  0.006558  0.069231  0.020433   \n",
       "     12     0.022315  0.000000  0.010638  0.216428  0.222109  0.000000   \n",
       "2000 1      0.000000  0.252661  0.117744  0.000000  0.401670  0.052477   \n",
       "\n",
       "            topic_47  topic_48  topic_49  \n",
       "year month                                \n",
       "1999 9      0.135376  0.000000  0.000000  \n",
       "     10     0.063044  0.041716  0.000000  \n",
       "     11     0.296241  0.038930  0.013186  \n",
       "     12     0.000000  0.000000  0.000000  \n",
       "2000 1      0.187288  0.000000  0.109549  \n",
       "\n",
       "[5 rows x 50 columns]"
      ]
     },
     "execution_count": 103,
     "metadata": {},
     "output_type": "execute_result"
    }
   ],
   "source": [
    "gb.head()"
   ]
  },
  {
   "cell_type": "markdown",
   "metadata": {
    "hidden": true
   },
   "source": [
    "### Straightforward matrix heatmap"
   ]
  },
  {
   "cell_type": "code",
   "execution_count": 104,
   "metadata": {
    "ExecuteTime": {
     "end_time": "2019-01-20T14:56:37.101772Z",
     "start_time": "2019-01-20T14:56:36.840557Z"
    },
    "hidden": true,
    "scrolled": true
   },
   "outputs": [
    {
     "data": {
      "image/png": "[encoded data removed]",
      "text/plain": [
       "<Figure size 720x1440 with 1 Axes>"
      ]
     },
     "metadata": {
      "needs_background": "light"
     },
     "output_type": "display_data"
    }
   ],
   "source": [
    "plt.figure(figsize=(10, 20))\n",
    "plt.imshow(gb[topics])"
   ]
  },
  {
   "cell_type": "code",
   "execution_count": null,
   "metadata": {
    "hidden": true
   },
   "outputs": [],
   "source": []
  },
  {
   "cell_type": "markdown",
   "metadata": {
    "hidden": true
   },
   "source": [
    "### PyGal"
   ]
  },
  {
   "cell_type": "code",
   "execution_count": 105,
   "metadata": {
    "ExecuteTime": {
     "end_time": "2019-01-20T14:57:03.405331Z",
     "start_time": "2019-01-20T14:57:03.382308Z"
    },
    "hidden": true
   },
   "outputs": [],
   "source": [
    "import pygal\n",
    "from IPython.display import SVG, HTML"
   ]
  },
  {
   "cell_type": "code",
   "execution_count": 106,
   "metadata": {
    "ExecuteTime": {
     "end_time": "2019-01-20T14:57:12.028102Z",
     "start_time": "2019-01-20T14:57:12.025593Z"
    },
    "hidden": true
   },
   "outputs": [],
   "source": [
    "html_pygal = \"\"\"\n",
    "<!DOCTYPE html>\n",
    "<html>\n",
    "  <head>\n",
    "  <script type=\"text/javascript\" src=\"http://kozea.github.com/pygal.js/javascripts/svg.jquery.js\"></script>\n",
    "  <script type=\"text/javascript\" src=\"http://kozea.github.com/pygal.js/javascripts/pygal-tooltips.js\"></script>\n",
    "    <!-- ... -->\n",
    "  </head>\n",
    "  <body>\n",
    "    <figure>\n",
    "      {pygal_render}\n",
    "    </figure>\n",
    "  </body>\n",
    "</html>\n",
    "\"\"\""
   ]
  },
  {
   "cell_type": "code",
   "execution_count": 107,
   "metadata": {
    "ExecuteTime": {
     "end_time": "2019-01-20T14:57:17.531232Z",
     "start_time": "2019-01-20T14:57:17.322635Z"
    },
    "hidden": true
   },
   "outputs": [
    {
     "data": {
      "text/html": [
       "\n",
       "<!DOCTYPE html>\n",
       "<html>\n",
       "  <head>\n",
       "  <script type=\"text/javascript\" src=\"http://kozea.github.com/pygal.js/javascripts/svg.jquery.js\"></script>\n",
       "  <script type=\"text/javascript\" src=\"http://kozea.github.com/pygal.js/javascripts/pygal-tooltips.js\"></script>\n",
       "    <!-- ... -->\n",
       "  </head>\n",
       "  <body>\n",
       "    <figure>\n",
       "      <?xml version='1.0' encoding='utf-8'?>\n",
       "<svg xmlns:xlink=\"http://www.w3.org/1999/xlink\" xmlns=\"http://www.w3.org/2000/svg\" id=\"chart-88e719f3-d4a5-4206-8550-657d5f80d4b2\" class=\"pygal-chart\" viewBox=\"0 0 800 600\"><!--Generated with pygal 2.4.0 (lxml) ©Kozea 2012-2016 on 2019-01-20--><!--http://pygal.org--><!--http://github.com/Kozea/pygal--><defs><style type=\"text/css\">#chart-88e719f3-d4a5-4206-8550-657d5f80d4b2{-webkit-user-select:none;-webkit-font-smoothing:antialiased;font-family:Consolas,\"Liberation Mono\",Menlo,Courier,monospace}#chart-88e719f3-d4a5-4206-8550-657d5f80d4b2 .title{font-family:Consolas,\"Liberation Mono\",Menlo,Courier,monospace;font-size:16px}#chart-88e719f3-d4a5-4206-8550-657d5f80d4b2 .legends .legend text{font-family:Consolas,\"Liberation Mono\",Menlo,Courier,monospace;font-size:14px}#chart-88e719f3-d4a5-4206-8550-657d5f80d4b2 .axis text{font-family:Consolas,\"Liberation Mono\",Menlo,Courier,monospace;font-size:10px}#chart-88e719f3-d4a5-4206-8550-657d5f80d4b2 .axis text.major{font-family:Consolas,\"Liberation Mono\",Menlo,Courier,monospace;font-size:10px}#chart-88e719f3-d4a5-4206-8550-657d5f80d4b2 .text-overlay text.value{font-family:Consolas,\"Liberation Mono\",Menlo,Courier,monospace;font-size:16px}#chart-88e719f3-d4a5-4206-8550-657d5f80d4b2 .text-overlay text.label{font-family:Consolas,\"Liberation Mono\",Menlo,Courier,monospace;font-size:10px}#chart-88e719f3-d4a5-4206-8550-657d5f80d4b2 .tooltip{font-family:Consolas,\"Liberation Mono\",Menlo,Courier,monospace;font-size:14px}#chart-88e719f3-d4a5-4206-8550-657d5f80d4b2 text.no_data{font-family:Consolas,\"Liberation Mono\",Menlo,Courier,monospace;font-size:64px}\n",
       "#chart-88e719f3-d4a5-4206-8550-657d5f80d4b2{background-color:rgba(249,249,249,1)}#chart-88e719f3-d4a5-4206-8550-657d5f80d4b2 path,#chart-88e719f3-d4a5-4206-8550-657d5f80d4b2 line,#chart-88e719f3-d4a5-4206-8550-657d5f80d4b2 rect,#chart-88e719f3-d4a5-4206-8550-657d5f80d4b2 circle{-webkit-transition:150ms;-moz-transition:150ms;transition:150ms}#chart-88e719f3-d4a5-4206-8550-657d5f80d4b2 .graph &gt; .background{fill:rgba(249,249,249,1)}#chart-88e719f3-d4a5-4206-8550-657d5f80d4b2 .plot &gt; .background{fill:rgba(255,255,255,1)}#chart-88e719f3-d4a5-4206-8550-657d5f80d4b2 .graph{fill:rgba(0,0,0,.87)}#chart-88e719f3-d4a5-4206-8550-657d5f80d4b2 text.no_data{fill:rgba(0,0,0,1)}#chart-88e719f3-d4a5-4206-8550-657d5f80d4b2 .title{fill:rgba(0,0,0,1)}#chart-88e719f3-d4a5-4206-8550-657d5f80d4b2 .legends .legend text{fill:rgba(0,0,0,.87)}#chart-88e719f3-d4a5-4206-8550-657d5f80d4b2 .legends .legend:hover text{fill:rgba(0,0,0,1)}#chart-88e719f3-d4a5-4206-8550-657d5f80d4b2 .axis .line{stroke:rgba(0,0,0,1)}#chart-88e719f3-d4a5-4206-8550-657d5f80d4b2 .axis .guide.line{stroke:rgba(0,0,0,.54)}#chart-88e719f3-d4a5-4206-8550-657d5f80d4b2 .axis .major.line{stroke:rgba(0,0,0,.87)}#chart-88e719f3-d4a5-4206-8550-657d5f80d4b2 .axis text.major{fill:rgba(0,0,0,1)}#chart-88e719f3-d4a5-4206-8550-657d5f80d4b2 .axis.y .guides:hover .guide.line,#chart-88e719f3-d4a5-4206-8550-657d5f80d4b2 .line-graph .axis.x .guides:hover .guide.line,#chart-88e719f3-d4a5-4206-8550-657d5f80d4b2 .stackedline-graph .axis.x .guides:hover .guide.line,#chart-88e719f3-d4a5-4206-8550-657d5f80d4b2 .xy-graph .axis.x .guides:hover .guide.line{stroke:rgba(0,0,0,1)}#chart-88e719f3-d4a5-4206-8550-657d5f80d4b2 .axis .guides:hover text{fill:rgba(0,0,0,1)}#chart-88e719f3-d4a5-4206-8550-657d5f80d4b2 .reactive{fill-opacity:.7;stroke-opacity:.8}#chart-88e719f3-d4a5-4206-8550-657d5f80d4b2 .ci{stroke:rgba(0,0,0,.87)}#chart-88e719f3-d4a5-4206-8550-657d5f80d4b2 .reactive.active,#chart-88e719f3-d4a5-4206-8550-657d5f80d4b2 .active .reactive{fill-opacity:.8;stroke-opacity:.9;stroke-width:4}#chart-88e719f3-d4a5-4206-8550-657d5f80d4b2 .ci .reactive.active{stroke-width:1.5}#chart-88e719f3-d4a5-4206-8550-657d5f80d4b2 .series text{fill:rgba(0,0,0,1)}#chart-88e719f3-d4a5-4206-8550-657d5f80d4b2 .tooltip rect{fill:rgba(255,255,255,1);stroke:rgba(0,0,0,1);-webkit-transition:opacity 150ms;-moz-transition:opacity 150ms;transition:opacity 150ms}#chart-88e719f3-d4a5-4206-8550-657d5f80d4b2 .tooltip .label{fill:rgba(0,0,0,.87)}#chart-88e719f3-d4a5-4206-8550-657d5f80d4b2 .tooltip .label{fill:rgba(0,0,0,.87)}#chart-88e719f3-d4a5-4206-8550-657d5f80d4b2 .tooltip .legend{font-size:.8em;fill:rgba(0,0,0,.54)}#chart-88e719f3-d4a5-4206-8550-657d5f80d4b2 .tooltip .x_label{font-size:.6em;fill:rgba(0,0,0,1)}#chart-88e719f3-d4a5-4206-8550-657d5f80d4b2 .tooltip .xlink{font-size:.5em;text-decoration:underline}#chart-88e719f3-d4a5-4206-8550-657d5f80d4b2 .tooltip .value{font-size:1.5em}#chart-88e719f3-d4a5-4206-8550-657d5f80d4b2 .bound{font-size:.5em}#chart-88e719f3-d4a5-4206-8550-657d5f80d4b2 .max-value{font-size:.75em;fill:rgba(0,0,0,.54)}#chart-88e719f3-d4a5-4206-8550-657d5f80d4b2 .map-element{fill:rgba(255,255,255,1);stroke:rgba(0,0,0,.54) !important}#chart-88e719f3-d4a5-4206-8550-657d5f80d4b2 .map-element .reactive{fill-opacity:inherit;stroke-opacity:inherit}#chart-88e719f3-d4a5-4206-8550-657d5f80d4b2 .color-0,#chart-88e719f3-d4a5-4206-8550-657d5f80d4b2 .color-0 a:visited{stroke:#f44336;fill:#f44336}#chart-88e719f3-d4a5-4206-8550-657d5f80d4b2 .color-1,#chart-88e719f3-d4a5-4206-8550-657d5f80d4b2 .color-1 a:visited{stroke:#3f51b5;fill:#3f51b5}#chart-88e719f3-d4a5-4206-8550-657d5f80d4b2 .color-2,#chart-88e719f3-d4a5-4206-8550-657d5f80d4b2 .color-2 a:visited{stroke:#009688;fill:#009688}#chart-88e719f3-d4a5-4206-8550-657d5f80d4b2 .color-3,#chart-88e719f3-d4a5-4206-8550-657d5f80d4b2 .color-3 a:visited{stroke:#ffc107;fill:#ffc107}#chart-88e719f3-d4a5-4206-8550-657d5f80d4b2 .color-4,#chart-88e719f3-d4a5-4206-8550-657d5f80d4b2 .color-4 a:visited{stroke:#ff5722;fill:#ff5722}#chart-88e719f3-d4a5-4206-8550-657d5f80d4b2 .color-5,#chart-88e719f3-d4a5-4206-8550-657d5f80d4b2 .color-5 a:visited{stroke:#9c27b0;fill:#9c27b0}#chart-88e719f3-d4a5-4206-8550-657d5f80d4b2 .color-6,#chart-88e719f3-d4a5-4206-8550-657d5f80d4b2 .color-6 a:visited{stroke:#03a9f4;fill:#03a9f4}#chart-88e719f3-d4a5-4206-8550-657d5f80d4b2 .color-7,#chart-88e719f3-d4a5-4206-8550-657d5f80d4b2 .color-7 a:visited{stroke:#8bc34a;fill:#8bc34a}#chart-88e719f3-d4a5-4206-8550-657d5f80d4b2 .color-8,#chart-88e719f3-d4a5-4206-8550-657d5f80d4b2 .color-8 a:visited{stroke:#ff9800;fill:#ff9800}#chart-88e719f3-d4a5-4206-8550-657d5f80d4b2 .color-9,#chart-88e719f3-d4a5-4206-8550-657d5f80d4b2 .color-9 a:visited{stroke:#e91e63;fill:#e91e63}#chart-88e719f3-d4a5-4206-8550-657d5f80d4b2 .color-10,#chart-88e719f3-d4a5-4206-8550-657d5f80d4b2 .color-10 a:visited{stroke:#2196f3;fill:#2196f3}#chart-88e719f3-d4a5-4206-8550-657d5f80d4b2 .color-11,#chart-88e719f3-d4a5-4206-8550-657d5f80d4b2 .color-11 a:visited{stroke:#4caf50;fill:#4caf50}#chart-88e719f3-d4a5-4206-8550-657d5f80d4b2 .color-12,#chart-88e719f3-d4a5-4206-8550-657d5f80d4b2 .color-12 a:visited{stroke:#ffeb3b;fill:#ffeb3b}#chart-88e719f3-d4a5-4206-8550-657d5f80d4b2 .color-13,#chart-88e719f3-d4a5-4206-8550-657d5f80d4b2 .color-13 a:visited{stroke:#673ab7;fill:#673ab7}#chart-88e719f3-d4a5-4206-8550-657d5f80d4b2 .color-14,#chart-88e719f3-d4a5-4206-8550-657d5f80d4b2 .color-14 a:visited{stroke:#00bcd4;fill:#00bcd4}#chart-88e719f3-d4a5-4206-8550-657d5f80d4b2 .color-15,#chart-88e719f3-d4a5-4206-8550-657d5f80d4b2 .color-15 a:visited{stroke:#cddc39;fill:#cddc39}#chart-88e719f3-d4a5-4206-8550-657d5f80d4b2 .color-16,#chart-88e719f3-d4a5-4206-8550-657d5f80d4b2 .color-16 a:visited{stroke:#9e9e9e;fill:#9e9e9e}#chart-88e719f3-d4a5-4206-8550-657d5f80d4b2 .color-17,#chart-88e719f3-d4a5-4206-8550-657d5f80d4b2 .color-17 a:visited{stroke:#607d8b;fill:#607d8b}#chart-88e719f3-d4a5-4206-8550-657d5f80d4b2 .color-18,#chart-88e719f3-d4a5-4206-8550-657d5f80d4b2 .color-18 a:visited{stroke:#cb180b;fill:#cb180b}#chart-88e719f3-d4a5-4206-8550-657d5f80d4b2 .color-19,#chart-88e719f3-d4a5-4206-8550-657d5f80d4b2 .color-19 a:visited{stroke:#293577;fill:#293577}#chart-88e719f3-d4a5-4206-8550-657d5f80d4b2 .color-20,#chart-88e719f3-d4a5-4206-8550-657d5f80d4b2 .color-20 a:visited{stroke:#00423c;fill:#00423c}#chart-88e719f3-d4a5-4206-8550-657d5f80d4b2 .color-21,#chart-88e719f3-d4a5-4206-8550-657d5f80d4b2 .color-21 a:visited{stroke:#b28500;fill:#b28500}#chart-88e719f3-d4a5-4206-8550-657d5f80d4b2 .color-22,#chart-88e719f3-d4a5-4206-8550-657d5f80d4b2 .color-22 a:visited{stroke:#cd3100;fill:#cd3100}#chart-88e719f3-d4a5-4206-8550-657d5f80d4b2 .color-23,#chart-88e719f3-d4a5-4206-8550-657d5f80d4b2 .color-23 a:visited{stroke:#5f186b;fill:#5f186b}#chart-88e719f3-d4a5-4206-8550-657d5f80d4b2 .color-24,#chart-88e719f3-d4a5-4206-8550-657d5f80d4b2 .color-24 a:visited{stroke:#026fa1;fill:#026fa1}#chart-88e719f3-d4a5-4206-8550-657d5f80d4b2 .color-25,#chart-88e719f3-d4a5-4206-8550-657d5f80d4b2 .color-25 a:visited{stroke:#608b2e;fill:#608b2e}#chart-88e719f3-d4a5-4206-8550-657d5f80d4b2 .color-26,#chart-88e719f3-d4a5-4206-8550-657d5f80d4b2 .color-26 a:visited{stroke:#ab6600;fill:#ab6600}#chart-88e719f3-d4a5-4206-8550-657d5f80d4b2 .color-27,#chart-88e719f3-d4a5-4206-8550-657d5f80d4b2 .color-27 a:visited{stroke:#a31042;fill:#a31042}#chart-88e719f3-d4a5-4206-8550-657d5f80d4b2 .color-28,#chart-88e719f3-d4a5-4206-8550-657d5f80d4b2 .color-28 a:visited{stroke:#0a6ab6;fill:#0a6ab6}#chart-88e719f3-d4a5-4206-8550-657d5f80d4b2 .color-29,#chart-88e719f3-d4a5-4206-8550-657d5f80d4b2 .color-29 a:visited{stroke:#337435;fill:#337435}#chart-88e719f3-d4a5-4206-8550-657d5f80d4b2 .color-30,#chart-88e719f3-d4a5-4206-8550-657d5f80d4b2 .color-30 a:visited{stroke:#e6ce00;fill:#e6ce00}#chart-88e719f3-d4a5-4206-8550-657d5f80d4b2 .color-31,#chart-88e719f3-d4a5-4206-8550-657d5f80d4b2 .color-31 a:visited{stroke:#432677;fill:#432677}#chart-88e719f3-d4a5-4206-8550-657d5f80d4b2 .color-32,#chart-88e719f3-d4a5-4206-8550-657d5f80d4b2 .color-32 a:visited{stroke:#007180;fill:#007180}#chart-88e719f3-d4a5-4206-8550-657d5f80d4b2 .color-33,#chart-88e719f3-d4a5-4206-8550-657d5f80d4b2 .color-33 a:visited{stroke:#97a41d;fill:#97a41d}#chart-88e719f3-d4a5-4206-8550-657d5f80d4b2 .color-34,#chart-88e719f3-d4a5-4206-8550-657d5f80d4b2 .color-34 a:visited{stroke:#747474;fill:#747474}#chart-88e719f3-d4a5-4206-8550-657d5f80d4b2 .color-35,#chart-88e719f3-d4a5-4206-8550-657d5f80d4b2 .color-35 a:visited{stroke:#3e5059;fill:#3e5059}#chart-88e719f3-d4a5-4206-8550-657d5f80d4b2 .color-36,#chart-88e719f3-d4a5-4206-8550-657d5f80d4b2 .color-36 a:visited{stroke:#7b0f07;fill:#7b0f07}#chart-88e719f3-d4a5-4206-8550-657d5f80d4b2 .color-37,#chart-88e719f3-d4a5-4206-8550-657d5f80d4b2 .color-37 a:visited{stroke:#141938;fill:#141938}#chart-88e719f3-d4a5-4206-8550-657d5f80d4b2 .color-38,#chart-88e719f3-d4a5-4206-8550-657d5f80d4b2 .color-38 a:visited{stroke:#000000;fill:#000000}#chart-88e719f3-d4a5-4206-8550-657d5f80d4b2 .color-39,#chart-88e719f3-d4a5-4206-8550-657d5f80d4b2 .color-39 a:visited{stroke:#5e4600;fill:#5e4600}#chart-88e719f3-d4a5-4206-8550-657d5f80d4b2 .color-40,#chart-88e719f3-d4a5-4206-8550-657d5f80d4b2 .color-40 a:visited{stroke:#791d00;fill:#791d00}#chart-88e719f3-d4a5-4206-8550-657d5f80d4b2 .color-41,#chart-88e719f3-d4a5-4206-8550-657d5f80d4b2 .color-41 a:visited{stroke:#220826;fill:#220826}#chart-88e719f3-d4a5-4206-8550-657d5f80d4b2 .color-42,#chart-88e719f3-d4a5-4206-8550-657d5f80d4b2 .color-42 a:visited{stroke:#01364e;fill:#01364e}#chart-88e719f3-d4a5-4206-8550-657d5f80d4b2 .color-43,#chart-88e719f3-d4a5-4206-8550-657d5f80d4b2 .color-43 a:visited{stroke:#344c19;fill:#344c19}#chart-88e719f3-d4a5-4206-8550-657d5f80d4b2 .color-44,#chart-88e719f3-d4a5-4206-8550-657d5f80d4b2 .color-44 a:visited{stroke:#573400;fill:#573400}#chart-88e719f3-d4a5-4206-8550-657d5f80d4b2 .color-45,#chart-88e719f3-d4a5-4206-8550-657d5f80d4b2 .color-45 a:visited{stroke:#560823;fill:#560823}#chart-88e719f3-d4a5-4206-8550-657d5f80d4b2 .color-46,#chart-88e719f3-d4a5-4206-8550-657d5f80d4b2 .color-46 a:visited{stroke:#063b66;fill:#063b66}#chart-88e719f3-d4a5-4206-8550-657d5f80d4b2 .color-47,#chart-88e719f3-d4a5-4206-8550-657d5f80d4b2 .color-47 a:visited{stroke:#193a1a;fill:#193a1a}#chart-88e719f3-d4a5-4206-8550-657d5f80d4b2 .color-48,#chart-88e719f3-d4a5-4206-8550-657d5f80d4b2 .color-48 a:visited{stroke:#928300;fill:#928300}#chart-88e719f3-d4a5-4206-8550-657d5f80d4b2 .color-49,#chart-88e719f3-d4a5-4206-8550-657d5f80d4b2 .color-49 a:visited{stroke:#1f1137;fill:#1f1137}#chart-88e719f3-d4a5-4206-8550-657d5f80d4b2 .text-overlay .color-0 text{fill:black}#chart-88e719f3-d4a5-4206-8550-657d5f80d4b2 .text-overlay .color-1 text{fill:black}#chart-88e719f3-d4a5-4206-8550-657d5f80d4b2 .text-overlay .color-2 text{fill:black}#chart-88e719f3-d4a5-4206-8550-657d5f80d4b2 .text-overlay .color-3 text{fill:black}#chart-88e719f3-d4a5-4206-8550-657d5f80d4b2 .text-overlay .color-4 text{fill:black}#chart-88e719f3-d4a5-4206-8550-657d5f80d4b2 .text-overlay .color-5 text{fill:black}#chart-88e719f3-d4a5-4206-8550-657d5f80d4b2 .text-overlay .color-6 text{fill:black}#chart-88e719f3-d4a5-4206-8550-657d5f80d4b2 .text-overlay .color-7 text{fill:black}#chart-88e719f3-d4a5-4206-8550-657d5f80d4b2 .text-overlay .color-8 text{fill:black}#chart-88e719f3-d4a5-4206-8550-657d5f80d4b2 .text-overlay .color-9 text{fill:black}#chart-88e719f3-d4a5-4206-8550-657d5f80d4b2 .text-overlay .color-10 text{fill:black}#chart-88e719f3-d4a5-4206-8550-657d5f80d4b2 .text-overlay .color-11 text{fill:black}#chart-88e719f3-d4a5-4206-8550-657d5f80d4b2 .text-overlay .color-12 text{fill:black}#chart-88e719f3-d4a5-4206-8550-657d5f80d4b2 .text-overlay .color-13 text{fill:black}#chart-88e719f3-d4a5-4206-8550-657d5f80d4b2 .text-overlay .color-14 text{fill:black}#chart-88e719f3-d4a5-4206-8550-657d5f80d4b2 .text-overlay .color-15 text{fill:black}#chart-88e719f3-d4a5-4206-8550-657d5f80d4b2 .text-overlay .color-16 text{fill:black}#chart-88e719f3-d4a5-4206-8550-657d5f80d4b2 .text-overlay .color-17 text{fill:black}#chart-88e719f3-d4a5-4206-8550-657d5f80d4b2 .text-overlay .color-18 text{fill:black}#chart-88e719f3-d4a5-4206-8550-657d5f80d4b2 .text-overlay .color-19 text{fill:black}#chart-88e719f3-d4a5-4206-8550-657d5f80d4b2 .text-overlay .color-20 text{fill:white}#chart-88e719f3-d4a5-4206-8550-657d5f80d4b2 .text-overlay .color-21 text{fill:black}#chart-88e719f3-d4a5-4206-8550-657d5f80d4b2 .text-overlay .color-22 text{fill:black}#chart-88e719f3-d4a5-4206-8550-657d5f80d4b2 .text-overlay .color-23 text{fill:black}#chart-88e719f3-d4a5-4206-8550-657d5f80d4b2 .text-overlay .color-24 text{fill:black}#chart-88e719f3-d4a5-4206-8550-657d5f80d4b2 .text-overlay .color-25 text{fill:black}#chart-88e719f3-d4a5-4206-8550-657d5f80d4b2 .text-overlay .color-26 text{fill:black}#chart-88e719f3-d4a5-4206-8550-657d5f80d4b2 .text-overlay .color-27 text{fill:black}#chart-88e719f3-d4a5-4206-8550-657d5f80d4b2 .text-overlay .color-28 text{fill:black}#chart-88e719f3-d4a5-4206-8550-657d5f80d4b2 .text-overlay .color-29 text{fill:black}#chart-88e719f3-d4a5-4206-8550-657d5f80d4b2 .text-overlay .color-30 text{fill:black}#chart-88e719f3-d4a5-4206-8550-657d5f80d4b2 .text-overlay .color-31 text{fill:black}#chart-88e719f3-d4a5-4206-8550-657d5f80d4b2 .text-overlay .color-32 text{fill:black}#chart-88e719f3-d4a5-4206-8550-657d5f80d4b2 .text-overlay .color-33 text{fill:black}#chart-88e719f3-d4a5-4206-8550-657d5f80d4b2 .text-overlay .color-34 text{fill:black}#chart-88e719f3-d4a5-4206-8550-657d5f80d4b2 .text-overlay .color-35 text{fill:black}#chart-88e719f3-d4a5-4206-8550-657d5f80d4b2 .text-overlay .color-36 text{fill:black}#chart-88e719f3-d4a5-4206-8550-657d5f80d4b2 .text-overlay .color-37 text{fill:white}#chart-88e719f3-d4a5-4206-8550-657d5f80d4b2 .text-overlay .color-38 text{fill:white}#chart-88e719f3-d4a5-4206-8550-657d5f80d4b2 .text-overlay .color-39 text{fill:black}#chart-88e719f3-d4a5-4206-8550-657d5f80d4b2 .text-overlay .color-40 text{fill:black}#chart-88e719f3-d4a5-4206-8550-657d5f80d4b2 .text-overlay .color-41 text{fill:white}#chart-88e719f3-d4a5-4206-8550-657d5f80d4b2 .text-overlay .color-42 text{fill:white}#chart-88e719f3-d4a5-4206-8550-657d5f80d4b2 .text-overlay .color-43 text{fill:black}#chart-88e719f3-d4a5-4206-8550-657d5f80d4b2 .text-overlay .color-44 text{fill:white}#chart-88e719f3-d4a5-4206-8550-657d5f80d4b2 .text-overlay .color-45 text{fill:black}#chart-88e719f3-d4a5-4206-8550-657d5f80d4b2 .text-overlay .color-46 text{fill:black}#chart-88e719f3-d4a5-4206-8550-657d5f80d4b2 .text-overlay .color-47 text{fill:white}#chart-88e719f3-d4a5-4206-8550-657d5f80d4b2 .text-overlay .color-48 text{fill:black}#chart-88e719f3-d4a5-4206-8550-657d5f80d4b2 .text-overlay .color-49 text{fill:white}\n",
       "#chart-88e719f3-d4a5-4206-8550-657d5f80d4b2 text.no_data{text-anchor:middle}#chart-88e719f3-d4a5-4206-8550-657d5f80d4b2 .guide.line{fill:none}#chart-88e719f3-d4a5-4206-8550-657d5f80d4b2 .centered{text-anchor:middle}#chart-88e719f3-d4a5-4206-8550-657d5f80d4b2 .title{text-anchor:middle}#chart-88e719f3-d4a5-4206-8550-657d5f80d4b2 .legends .legend text{fill-opacity:1}#chart-88e719f3-d4a5-4206-8550-657d5f80d4b2 .axis.x text{text-anchor:middle}#chart-88e719f3-d4a5-4206-8550-657d5f80d4b2 .axis.x:not(.web) text[transform]{text-anchor:start}#chart-88e719f3-d4a5-4206-8550-657d5f80d4b2 .axis.x:not(.web) text[transform].backwards{text-anchor:end}#chart-88e719f3-d4a5-4206-8550-657d5f80d4b2 .axis.y text{text-anchor:end}#chart-88e719f3-d4a5-4206-8550-657d5f80d4b2 .axis.y text[transform].backwards{text-anchor:start}#chart-88e719f3-d4a5-4206-8550-657d5f80d4b2 .axis.y2 text{text-anchor:start}#chart-88e719f3-d4a5-4206-8550-657d5f80d4b2 .axis.y2 text[transform].backwards{text-anchor:end}#chart-88e719f3-d4a5-4206-8550-657d5f80d4b2 .axis .guide.line{stroke-dasharray:4,4}#chart-88e719f3-d4a5-4206-8550-657d5f80d4b2 .axis .major.guide.line{stroke-dasharray:6,6}#chart-88e719f3-d4a5-4206-8550-657d5f80d4b2 .horizontal .axis.y .guide.line,#chart-88e719f3-d4a5-4206-8550-657d5f80d4b2 .horizontal .axis.y2 .guide.line,#chart-88e719f3-d4a5-4206-8550-657d5f80d4b2 .vertical .axis.x .guide.line{opacity:0}#chart-88e719f3-d4a5-4206-8550-657d5f80d4b2 .horizontal .axis.always_show .guide.line,#chart-88e719f3-d4a5-4206-8550-657d5f80d4b2 .vertical .axis.always_show .guide.line{opacity:1 !important}#chart-88e719f3-d4a5-4206-8550-657d5f80d4b2 .axis.y .guides:hover .guide.line,#chart-88e719f3-d4a5-4206-8550-657d5f80d4b2 .axis.y2 .guides:hover .guide.line,#chart-88e719f3-d4a5-4206-8550-657d5f80d4b2 .axis.x .guides:hover .guide.line{opacity:1}#chart-88e719f3-d4a5-4206-8550-657d5f80d4b2 .axis .guides:hover text{opacity:1}#chart-88e719f3-d4a5-4206-8550-657d5f80d4b2 .nofill{fill:none}#chart-88e719f3-d4a5-4206-8550-657d5f80d4b2 .subtle-fill{fill-opacity:.2}#chart-88e719f3-d4a5-4206-8550-657d5f80d4b2 .dot{stroke-width:1px;fill-opacity:1}#chart-88e719f3-d4a5-4206-8550-657d5f80d4b2 .dot.active{stroke-width:5px}#chart-88e719f3-d4a5-4206-8550-657d5f80d4b2 .dot.negative{fill:transparent}#chart-88e719f3-d4a5-4206-8550-657d5f80d4b2 text,#chart-88e719f3-d4a5-4206-8550-657d5f80d4b2 tspan{stroke:none !important}#chart-88e719f3-d4a5-4206-8550-657d5f80d4b2 .series text.active{opacity:1}#chart-88e719f3-d4a5-4206-8550-657d5f80d4b2 .tooltip rect{fill-opacity:.95;stroke-width:.5}#chart-88e719f3-d4a5-4206-8550-657d5f80d4b2 .tooltip text{fill-opacity:1}#chart-88e719f3-d4a5-4206-8550-657d5f80d4b2 .showable{visibility:hidden}#chart-88e719f3-d4a5-4206-8550-657d5f80d4b2 .showable.shown{visibility:visible}#chart-88e719f3-d4a5-4206-8550-657d5f80d4b2 .gauge-background{fill:rgba(229,229,229,1);stroke:none}#chart-88e719f3-d4a5-4206-8550-657d5f80d4b2 .bg-lines{stroke:rgba(249,249,249,1);stroke-width:2px}</style><script type=\"text/javascript\">window.pygal = window.pygal || {};window.pygal.config = window.pygal.config || {};window.pygal.config['88e719f3-d4a5-4206-8550-657d5f80d4b2'] = {\"allow_interruptions\": false, \"box_mode\": \"extremes\", \"classes\": [\"pygal-chart\"], \"css\": [\"file://style.css\", \"file://graph.css\"], \"defs\": [], \"disable_xml_declaration\": false, \"dots_size\": 2.5, \"dynamic_print_values\": false, \"explicit_size\": false, \"fill\": true, \"force_uri_protocol\": \"https\", \"formatter\": null, \"half_pie\": false, \"height\": 600, \"include_x_axis\": false, \"inner_radius\": 0, \"interpolate\": null, \"interpolation_parameters\": {}, \"interpolation_precision\": 250, \"inverse_y_axis\": false, \"js\": [\"//kozea.github.io/pygal.js/2.0.x/pygal-tooltips.min.js\"], \"legend_at_bottom\": false, \"legend_at_bottom_columns\": null, \"legend_box_size\": 12, \"logarithmic\": false, \"margin\": 20, \"margin_bottom\": null, \"margin_left\": null, \"margin_right\": null, \"margin_top\": null, \"max_scale\": 16, \"min_scale\": 4, \"missing_value_fill_truncation\": \"x\", \"no_data_text\": \"No data\", \"no_prefix\": false, \"order_min\": null, \"pretty_print\": false, \"print_labels\": false, \"print_values\": false, \"print_values_position\": \"center\", \"print_zeroes\": true, \"range\": null, \"rounded_bars\": null, \"secondary_range\": null, \"show_dots\": false, \"show_legend\": true, \"show_minor_x_labels\": true, \"show_minor_y_labels\": true, \"show_only_major_dots\": false, \"show_x_guides\": false, \"show_x_labels\": true, \"show_y_guides\": true, \"show_y_labels\": true, \"spacing\": 10, \"stack_from_top\": false, \"strict\": false, \"stroke\": true, \"stroke_style\": null, \"style\": {\"background\": \"rgba(249, 249, 249, 1)\", \"ci_colors\": [], \"colors\": [\"#F44336\", \"#3F51B5\", \"#009688\", \"#FFC107\", \"#FF5722\", \"#9C27B0\", \"#03A9F4\", \"#8BC34A\", \"#FF9800\", \"#E91E63\", \"#2196F3\", \"#4CAF50\", \"#FFEB3B\", \"#673AB7\", \"#00BCD4\", \"#CDDC39\", \"#9E9E9E\", \"#607D8B\"], \"font_family\": \"Consolas, \\\"Liberation Mono\\\", Menlo, Courier, monospace\", \"foreground\": \"rgba(0, 0, 0, .87)\", \"foreground_strong\": \"rgba(0, 0, 0, 1)\", \"foreground_subtle\": \"rgba(0, 0, 0, .54)\", \"guide_stroke_dasharray\": \"4,4\", \"label_font_family\": \"Consolas, \\\"Liberation Mono\\\", Menlo, Courier, monospace\", \"label_font_size\": 10, \"legend_font_family\": \"Consolas, \\\"Liberation Mono\\\", Menlo, Courier, monospace\", \"legend_font_size\": 14, \"major_guide_stroke_dasharray\": \"6,6\", \"major_label_font_family\": \"Consolas, \\\"Liberation Mono\\\", Menlo, Courier, monospace\", \"major_label_font_size\": 10, \"no_data_font_family\": \"Consolas, \\\"Liberation Mono\\\", Menlo, Courier, monospace\", \"no_data_font_size\": 64, \"opacity\": \".7\", \"opacity_hover\": \".8\", \"plot_background\": \"rgba(255, 255, 255, 1)\", \"stroke_opacity\": \".8\", \"stroke_opacity_hover\": \".9\", \"title_font_family\": \"Consolas, \\\"Liberation Mono\\\", Menlo, Courier, monospace\", \"title_font_size\": 16, \"tooltip_font_family\": \"Consolas, \\\"Liberation Mono\\\", Menlo, Courier, monospace\", \"tooltip_font_size\": 14, \"transition\": \"150ms\", \"value_background\": \"rgba(229, 229, 229, 1)\", \"value_colors\": [], \"value_font_family\": \"Consolas, \\\"Liberation Mono\\\", Menlo, Courier, monospace\", \"value_font_size\": 16, \"value_label_font_family\": \"Consolas, \\\"Liberation Mono\\\", Menlo, Courier, monospace\", \"value_label_font_size\": 10}, \"title\": \"Topics\", \"tooltip_border_radius\": 0, \"tooltip_fancy_mode\": true, \"truncate_label\": null, \"truncate_legend\": null, \"width\": 800, \"x_label_rotation\": 0, \"x_labels\": null, \"x_labels_major\": null, \"x_labels_major_count\": null, \"x_labels_major_every\": null, \"x_title\": null, \"xrange\": null, \"y_label_rotation\": 0, \"y_labels\": null, \"y_labels_major\": null, \"y_labels_major_count\": null, \"y_labels_major_every\": null, \"y_title\": null, \"zero\": 0, \"legends\": [\"topic_0\", \"topic_1\", \"topic_2\", \"topic_3\", \"topic_4\", \"topic_5\", \"topic_6\", \"topic_7\", \"topic_8\", \"topic_9\", \"topic_10\", \"topic_11\", \"topic_12\", \"topic_13\", \"topic_14\", \"topic_15\", \"topic_16\", \"topic_17\", \"topic_18\", \"topic_19\", \"topic_20\", \"topic_21\", \"topic_22\", \"topic_23\", \"topic_24\", \"topic_25\", \"topic_26\", \"topic_27\", \"topic_28\", \"topic_29\", \"topic_30\", \"topic_31\", \"topic_32\", \"topic_33\", \"topic_34\", \"topic_35\", \"topic_36\", \"topic_37\", \"topic_38\", \"topic_39\", \"topic_40\", \"topic_41\", \"topic_42\", \"topic_43\", \"topic_44\", \"topic_45\", \"topic_46\", \"topic_47\", \"topic_48\", \"topic_49\"]}</script><script type=\"text/javascript\" xlink:href=\"https://kozea.github.io/pygal.js/2.0.x/pygal-tooltips.min.js\"/></defs><title>Topics</title><g class=\"graph stackedline-graph vertical\"><rect class=\"background\" height=\"600\" width=\"800\" x=\"0\" y=\"0\"/><g class=\"plot\" transform=\"translate(137, 46)\"><rect class=\"background\" height=\"534\" width=\"642.8\" x=\"0\" y=\"0\"/><g class=\"axis y always_show\"><g class=\"guides\"><path class=\"axis major line\" d=\"M0.000000 523.730769 h642.800000\"/><text class=\"major\" x=\"-5\" y=\"527.2307692307693\">0</text><title>0</title></g><g class=\"guides\"><path class=\"guide line\" d=\"M0.000000 455.269231 h642.800000\"/><text class=\"\" x=\"-5\" y=\"458.7692310766379\">100</text><title>100</title></g><g class=\"guides\"><path class=\"guide line\" d=\"M0.000000 386.807693 h642.800000\"/><text class=\"\" x=\"-5\" y=\"390.30769292250653\">200</text><title>200</title></g><g class=\"guides\"><path class=\"guide line\" d=\"M0.000000 318.346155 h642.800000\"/><text class=\"\" x=\"-5\" y=\"321.8461547683752\">300</text><title>300</title></g><g class=\"guides\"><path class=\"guide line\" d=\"M0.000000 249.884617 h642.800000\"/><text class=\"\" x=\"-5\" y=\"253.3846166142439\">400</text><title>400</title></g><g class=\"guides\"><path class=\"major guide line\" d=\"M0.000000 181.423078 h642.800000\"/><text class=\"major\" x=\"-5\" y=\"184.92307846011255\">500</text><title>500</title></g><g class=\"guides\"><path class=\"guide line\" d=\"M0.000000 112.961540 h642.800000\"/><text class=\"\" x=\"-5\" y=\"116.4615403059812\">600</text><title>600</title></g><g class=\"guides\"><path class=\"guide line\" d=\"M0.000000 44.500002 h642.800000\"/><text class=\"\" x=\"-5\" y=\"48.000002151849856\">700</text><title>700</title></g></g><g class=\"series serie-0 color-0\"><path class=\"line reactive\" d=\"M12.361538 523.730769 L12.361538 523.047429 15.096392 523.546017 17.831246 523.548642 20.566099 523.730769 23.300953 522.930042 26.035807 523.248280 28.770660 522.664554 31.505514 521.849790 34.240368 522.470034 36.975221 522.987365 39.710075 522.480396 42.444929 521.415704 45.179782 521.728806 47.914636 521.936313 50.649489 523.020233 53.384343 523.284783 56.119197 522.936287 58.854050 522.755570 61.588904 520.997058 64.323758 521.860921 67.058611 522.553222 69.793465 522.684558 72.528319 521.967452 75.263172 521.964361 77.998026 521.694552 80.732880 521.271051 83.467733 522.939667 86.202587 522.824924 88.937440 521.855958 91.672294 521.702552 94.407148 522.290498 97.142001 521.428679 99.876855 520.613039 102.611709 520.911050 105.346562 522.359960 108.081416 522.944528 110.816270 522.239770 113.551123 520.353280 116.285977 520.311666 119.020830 522.945663 121.755684 522.673072 124.490538 523.083807 127.225391 522.297431 129.960245 521.818017 132.695099 521.783536 135.429952 522.171072 138.164806 522.269799 140.899660 521.747866 143.634513 523.313217 146.369367 519.103140 149.104221 521.033664 151.839074 522.246371 154.573928 522.339022 157.308781 520.997496 160.043635 520.426977 162.778489 520.673540 165.513342 522.433993 168.248196 514.706110 170.983050 521.093878 173.717903 521.402668 176.452757 521.814845 179.187611 520.338468 181.922464 519.696345 184.657318 521.875655 187.392172 522.692801 190.127025 522.103650 192.861879 520.980003 195.596732 520.810085 198.331586 520.311369 201.066440 522.761420 203.801293 520.995852 206.536147 520.260035 209.271001 520.259013 212.005854 519.181281 214.740708 520.984516 217.475562 522.316666 220.210415 521.566524 222.945269 519.851340 225.680123 513.902832 228.414976 517.784567 231.149830 516.725790 233.884683 522.456022 236.619537 520.887745 239.354391 517.286589 242.089244 519.163753 244.824098 516.085022 247.558952 514.788405 250.293805 519.397050 253.028659 522.296117 255.763513 517.505277 258.498366 516.105943 261.233220 517.897203 263.968074 520.140194 266.702927 520.484316 269.437781 518.001188 272.172634 520.740856 274.907488 521.059429 277.642342 518.328904 280.377195 515.247776 283.112049 519.384947 285.846903 520.639537 288.581756 520.465758 291.316610 519.128860 294.051464 514.943914 296.786317 516.560441 299.521171 522.151853 302.256025 514.774833 304.990878 519.376943 307.725732 516.443213 310.460585 520.198985 313.195439 518.417040 315.930293 519.091576 318.665146 519.424894 321.400000 519.539881 324.134854 515.527647 326.869707 519.827849 329.604561 516.883309 332.339415 518.563510 335.074268 517.279585 337.809122 519.292635 340.543975 518.923768 343.278829 518.771205 346.013683 516.660876 348.748536 519.474332 351.483390 520.502829 354.218244 520.251012 356.953097 520.113605 359.687951 519.592077 362.422805 521.706139 365.157658 516.678656 367.892512 518.297524 370.627366 520.984335 373.362219 521.274078 376.097073 516.947720 378.831926 519.275267 381.566780 517.676980 384.301634 522.091627 387.036487 519.733709 389.771341 521.134968 392.506195 520.781505 395.241048 518.425804 397.975902 517.162175 400.710756 519.292393 403.445609 515.000642 406.180463 520.663494 408.915317 519.386316 411.650170 515.828462 414.385024 520.643272 417.119877 521.830093 419.854731 520.897372 422.589585 517.827231 425.324438 521.268047 428.059292 519.185922 430.794146 521.924908 433.528999 522.642847 436.263853 517.469427 438.998707 518.930905 441.733560 517.340837 444.468414 507.022982 447.203268 517.644871 449.938121 521.770584 452.672975 519.923961 455.407828 516.582652 458.142682 519.375795 460.877536 519.379582 463.612389 520.361755 466.347243 518.498721 469.082097 520.820300 471.816950 520.126646 474.551804 516.019986 477.286658 517.049650 480.021511 519.262623 482.756365 522.256927 485.491219 521.220803 488.226072 522.162479 490.960926 520.358048 493.695779 514.840773 496.430633 517.366544 499.165487 517.157188 501.900340 515.530405 504.635194 509.943816 507.370048 504.835535 510.104901 515.992752 512.839755 515.815153 515.574609 519.168190 518.309462 513.953432 521.044316 513.198375 523.779170 512.660016 526.514023 516.871347 529.248877 518.548625 531.983730 516.692657 534.718584 514.309765 537.453438 517.954978 540.188291 513.806482 542.923145 509.634313 545.657999 516.183678 548.392852 518.234115 551.127706 511.731678 553.862560 513.251723 556.597413 515.374847 559.332267 516.991681 562.067120 496.555032 564.801974 511.188490 567.536828 512.253701 570.271681 515.414469 573.006535 513.241017 575.741389 514.732551 578.476242 515.286099 581.211096 517.578720 583.945950 514.633798 586.680803 511.050585 589.415657 514.370357 592.150511 516.959449 594.885364 515.081576 597.620218 514.669973 600.355071 512.843539 603.089925 514.850811 605.824779 514.634301 608.559632 518.286410 611.294486 518.085771 614.029340 518.084669 616.764193 519.831055 619.499047 517.409277 622.233901 515.711499 624.968754 517.396223 627.703608 510.016306 630.438462 513.627038 630.438462 523.730769\"/></g><g class=\"series serie-1 color-1\"><path class=\"line reactive\" d=\"M12.361538 522.970181 L15.096392 523.369151 17.831246 523.548642 20.566099 523.730769 23.300953 522.704469 26.035807 522.546776 28.770660 522.212418 31.505514 521.619225 34.240368 521.940007 36.975221 522.678281 39.710075 522.123893 42.444929 520.789831 45.179782 520.690804 47.914636 521.635903 50.649489 522.316949 53.384343 522.929425 56.119197 522.919252 58.854050 522.582840 61.588904 520.547362 64.323758 520.515676 67.058611 522.510707 69.793465 522.574258 72.528319 520.203315 75.263172 518.781721 77.998026 519.344728 80.732880 519.597446 83.467733 521.485757 86.202587 521.410617 88.937440 519.773006 91.672294 518.197217 94.407148 520.196775 97.142001 520.117941 99.876855 519.171077 102.611709 518.840629 105.346562 520.539309 108.081416 520.120166 110.816270 520.248032 113.551123 519.295684 116.285977 518.402019 119.020830 521.092517 121.755684 520.593247 124.490538 521.612317 127.225391 521.344555 129.960245 519.823562 132.695099 519.406483 135.429952 518.447305 138.164806 520.045785 140.899660 517.900909 143.634513 520.319403 146.369367 513.671060 149.104221 519.569081 151.839074 516.046263 154.573928 518.241738 157.308781 517.106962 160.043635 517.554664 162.778489 516.317445 165.513342 520.082401 168.248196 507.740503 170.983050 517.573745 173.717903 519.848691 176.452757 518.336137 179.187611 515.135777 181.922464 513.863071 184.657318 518.159563 187.392172 518.798206 190.127025 518.696136 192.861879 517.018088 195.596732 517.146950 198.331586 517.260422 201.066440 520.596793 203.801293 517.214708 206.536147 515.921444 209.271001 517.616994 212.005854 514.954150 214.740708 517.189272 217.475562 519.804823 220.210415 518.196634 222.945269 512.808398 225.680123 505.302511 228.414976 510.765377 231.149830 512.628482 233.884683 520.806494 236.619537 514.648936 239.354391 509.508486 242.089244 515.140441 244.824098 510.770622 247.558952 508.084954 250.293805 512.809478 253.028659 517.180435 255.763513 511.636840 258.498366 509.759458 261.233220 513.317961 263.968074 516.188045 266.702927 517.192290 269.437781 513.016360 272.172634 516.294344 274.907488 517.427182 277.642342 514.567297 280.377195 510.546353 283.112049 515.958183 285.846903 518.464371 288.581756 516.928438 291.316610 515.378581 294.051464 511.034011 296.786317 513.600451 299.521171 519.904926 302.256025 510.575313 304.990878 516.911819 307.725732 511.762894 310.460585 515.333938 313.195439 514.421181 315.930293 514.230364 318.665146 515.402047 321.400000 514.933129 324.134854 510.916529 326.869707 516.746305 329.604561 512.145323 332.339415 514.217888 335.074268 513.225195 337.809122 516.390964 340.543975 515.784801 343.278829 515.064413 346.013683 513.441062 348.748536 514.985346 351.483390 519.608080 354.218244 510.865631 356.953097 514.328416 359.687951 515.993874 362.422805 517.945872 365.157658 508.554275 367.892512 511.509906 370.627366 516.881290 373.362219 518.628783 376.097073 512.716833 378.831926 514.882828 381.566780 512.221203 384.301634 518.414893 387.036487 515.508447 389.771341 515.981310 392.506195 514.273638 395.241048 513.568654 397.975902 512.725430 400.710756 515.276123 403.445609 509.817315 406.180463 515.990789 408.915317 516.007218 411.650170 511.288073 414.385024 516.977117 417.119877 518.943517 419.854731 518.313139 422.589585 515.251145 425.324438 517.993013 428.059292 515.850893 430.794146 519.491155 433.528999 519.386749 436.263853 512.954709 438.998707 513.653105 441.733560 512.538862 444.468414 501.351084 447.203268 510.531336 449.938121 518.675401 452.672975 516.234775 455.407828 513.967192 458.142682 516.540602 460.877536 514.831897 463.612389 517.114682 466.347243 514.856214 469.082097 516.765505 471.816950 517.770075 474.551804 512.887829 477.286658 514.107846 480.021511 515.638991 482.756365 518.401701 485.491219 519.449003 488.226072 519.038272 490.960926 516.362431 493.695779 508.927823 496.430633 511.131364 499.165487 510.268363 501.900340 511.378280 504.635194 503.018143 507.370048 496.403750 510.104901 508.390053 512.839755 505.325848 515.574609 513.084679 518.309462 507.429490 521.044316 506.135431 523.779170 505.451227 526.514023 508.730032 529.248877 508.883135 531.983730 508.214305 534.718584 505.794560 537.453438 510.299566 540.188291 506.220744 542.923145 503.176149 545.657999 508.660568 548.392852 509.914037 551.127706 501.002728 553.862560 501.004151 556.597413 500.249342 559.332267 505.805984 562.067120 487.022351 564.801974 502.711645 567.536828 498.037419 570.271681 505.025278 573.006535 500.057475 575.741389 499.253348 578.476242 496.688930 581.211096 505.930825 583.945950 500.852312 586.680803 495.767166 589.415657 503.049013 592.150511 506.311084 594.885364 500.814715 597.620218 502.173616 600.355071 499.418394 603.089925 501.693864 605.824779 498.991268 608.559632 506.958031 611.294486 506.453207 614.029340 505.787883 616.764193 506.274834 619.499047 499.012660 622.233901 500.131506 624.968754 502.726512 627.703608 497.805364 630.438462 505.312903 630.438462 513.627038 627.703608 510.016306 624.968754 517.396223 622.233901 515.711499 619.499047 517.409277 616.764193 519.831055 614.029340 518.084669 611.294486 518.085771 608.559632 518.286410 605.824779 514.634301 603.089925 514.850811 600.355071 512.843539 597.620218 514.669973 594.885364 515.081576 592.150511 516.959449 589.415657 514.370357 586.680803 511.050585 583.945950 514.633798 581.211096 517.578720 578.476242 515.286099 575.741389 514.732551 573.006535 513.241017 570.271681 515.414469 567.536828 512.253701 564.801974 511.188490 562.067120 496.555032 559.332267 516.991681 556.597413 515.374847 553.862560 513.251723 551.127706 511.731678 548.392852 518.234115 545.657999 516.183678 542.923145 509.634313 540.188291 513.806482 537.453438 517.954978 534.718584 514.309765 531.983730 516.692657 529.248877 518.548625 526.514023 516.871347 523.779170 512.660016 521.044316 513.198375 518.309462 513.953432 515.574609 519.168190 512.839755 515.815153 510.104901 515.992752 507.370048 504.835535 504.635194 509.943816 501.900340 515.530405 499.165487 517.157188 496.430633 517.366544 493.695779 514.840773 490.960926 520.358048 488.226072 522.162479 485.491219 521.220803 482.756365 522.256927 480.021511 519.262623 477.286658 517.049650 474.551804 516.019986 471.816950 520.126646 469.082097 520.820300 466.347243 518.498721 463.612389 520.361755 460.877536 519.379582 458.142682 519.375795 455.407828 516.582652 452.672975 519.923961 449.938121 521.770584 447.203268 517.644871 444.468414 507.022982 441.733560 517.340837 438.998707 518.930905 436.263853 517.469427 433.528999 522.642847 430.794146 521.924908 428.059292 519.185922 425.324438 521.268047 422.589585 517.827231 419.854731 520.897372 417.119877 521.830093 414.385024 520.643272 411.650170 515.828462 408.915317 519.386316 406.180463 520.663494 403.445609 515.000642 400.710756 519.292393 397.975902 517.162175 395.241048 518.425804 392.506195 520.781505 389.771341 521.134968 387.036487 519.733709 384.301634 522.091627 381.566780 517.676980 378.831926 519.275267 376.097073 516.947720 373.362219 521.274078 370.627366 520.984335 367.892512 518.297524 365.157658 516.678656 362.422805 521.706139 359.687951 519.592077 356.953097 520.113605 354.218244 520.251012 351.483390 520.502829 348.748536 519.474332 346.013683 516.660876 343.278829 518.771205 340.543975 518.923768 337.809122 519.292635 335.074268 517.279585 332.339415 518.563510 329.604561 516.883309 326.869707 519.827849 324.134854 515.527647 321.400000 519.539881 318.665146 519.424894 315.930293 519.091576 313.195439 518.417040 310.460585 520.198985 307.725732 516.443213 304.990878 519.376943 302.256025 514.774833 299.521171 522.151853 296.786317 516.560441 294.051464 514.943914 291.316610 519.128860 288.581756 520.465758 285.846903 520.639537 283.112049 519.384947 280.377195 515.247776 277.642342 518.328904 274.907488 521.059429 272.172634 520.740856 269.437781 518.001188 266.702927 520.484316 263.968074 520.140194 261.233220 517.897203 258.498366 516.105943 255.763513 517.505277 253.028659 522.296117 250.293805 519.397050 247.558952 514.788405 244.824098 516.085022 242.089244 519.163753 239.354391 517.286589 236.619537 520.887745 233.884683 522.456022 231.149830 516.725790 228.414976 517.784567 225.680123 513.902832 222.945269 519.851340 220.210415 521.566524 217.475562 522.316666 214.740708 520.984516 212.005854 519.181281 209.271001 520.259013 206.536147 520.260035 203.801293 520.995852 201.066440 522.761420 198.331586 520.311369 195.596732 520.810085 192.861879 520.980003 190.127025 522.103650 187.392172 522.692801 184.657318 521.875655 181.922464 519.696345 179.187611 520.338468 176.452757 521.814845 173.717903 521.402668 170.983050 521.093878 168.248196 514.706110 165.513342 522.433993 162.778489 520.673540 160.043635 520.426977 157.308781 520.997496 154.573928 522.339022 151.839074 522.246371 149.104221 521.033664 146.369367 519.103140 143.634513 523.313217 140.899660 521.747866 138.164806 522.269799 135.429952 522.171072 132.695099 521.783536 129.960245 521.818017 127.225391 522.297431 124.490538 523.083807 121.755684 522.673072 119.020830 522.945663 116.285977 520.311666 113.551123 520.353280 110.816270 522.239770 108.081416 522.944528 105.346562 522.359960 102.611709 520.911050 99.876855 520.613039 97.142001 521.428679 94.407148 522.290498 91.672294 521.702552 88.937440 521.855958 86.202587 522.824924 83.467733 522.939667 80.732880 521.271051 77.998026 521.694552 75.263172 521.964361 72.528319 521.967452 69.793465 522.684558 67.058611 522.553222 64.323758 521.860921 61.588904 520.997058 58.854050 522.755570 56.119197 522.936287 53.384343 523.284783 50.649489 523.020233 47.914636 521.936313 45.179782 521.728806 42.444929 521.415704 39.710075 522.480396 36.975221 522.987365 34.240368 522.470034 31.505514 521.849790 28.770660 522.664554 26.035807 523.248280 23.300953 522.930042 20.566099 523.730769 17.831246 523.548642 15.096392 523.546017 12.361538 523.047429\"/></g><g class=\"series serie-2 color-2\"><path class=\"line reactive\" d=\"M12.361538 522.862910 L15.096392 523.346030 17.831246 523.488137 20.566099 523.730769 23.300953 522.606451 26.035807 522.472277 28.770660 522.059215 31.505514 521.133164 34.240368 521.576945 36.975221 522.543678 39.710075 521.538543 42.444929 519.779615 45.179782 518.078970 47.914636 521.547827 50.649489 521.464523 53.384343 522.453026 56.119197 522.152667 58.854050 522.399741 61.588904 520.231269 64.323758 519.095818 67.058611 522.231490 69.793465 522.462434 72.528319 519.169604 75.263172 515.865876 77.998026 516.669897 80.732880 516.773648 83.467733 519.907396 86.202587 519.771456 88.937440 518.071575 91.672294 517.718822 94.407148 519.474267 97.142001 519.309784 99.876855 517.265934 102.611709 517.700665 105.346562 519.890593 108.081416 519.077810 110.816270 519.677596 113.551123 517.413805 116.285977 517.710304 119.020830 520.335798 121.755684 519.985144 124.490538 521.487644 127.225391 520.929038 129.960245 519.213804 132.695099 516.835325 135.429952 517.590103 138.164806 518.739423 140.899660 516.682931 143.634513 518.527359 146.369367 512.745041 149.104221 518.776848 151.839074 515.384906 154.573928 516.636057 157.308781 515.014613 160.043635 515.587693 162.778489 512.599598 165.513342 517.365508 168.248196 505.215508 170.983050 516.498648 173.717903 518.057065 176.452757 516.402263 179.187611 511.646402 181.922464 512.529874 184.657318 516.048075 187.392172 517.728666 190.127025 517.100849 192.861879 516.065191 195.596732 515.833642 198.331586 516.078433 201.066440 519.620023 203.801293 515.794626 206.536147 514.360517 209.271001 516.392346 212.005854 513.999730 214.740708 515.341565 217.475562 519.045478 220.210415 516.716129 222.945269 510.093333 225.680123 502.566050 228.414976 509.211073 231.149830 510.553956 233.884683 520.250543 236.619537 512.998097 239.354391 507.166547 242.089244 512.546721 244.824098 507.520839 247.558952 505.224536 250.293805 510.037060 253.028659 515.884217 255.763513 508.682567 258.498366 505.048568 261.233220 510.027788 263.968074 513.741829 266.702927 514.264691 269.437781 508.870529 272.172634 513.740580 274.907488 515.288432 277.642342 512.250630 280.377195 507.324644 283.112049 513.503195 285.846903 517.554969 288.581756 513.856499 291.316610 513.050415 294.051464 508.463654 296.786317 511.727894 299.521171 519.113079 302.256025 506.645556 304.990878 515.867106 307.725732 509.081498 310.460585 508.322412 313.195439 512.200367 315.930293 510.284413 318.665146 510.090810 321.400000 511.848560 324.134854 508.268538 326.869707 514.861459 329.604561 510.604952 332.339415 511.283412 335.074268 507.948618 337.809122 514.189824 340.543975 510.400274 343.278829 511.913456 346.013683 509.158511 348.748536 509.454157 351.483390 517.546846 354.218244 504.685076 356.953097 511.954898 359.687951 513.501361 362.422805 515.041755 365.157658 506.316675 367.892512 507.660826 370.627366 512.949595 373.362219 516.252288 376.097073 509.902618 378.831926 510.377488 381.566780 509.763661 384.301634 516.486125 387.036487 514.572770 389.771341 514.073894 392.506195 512.364800 395.241048 510.350212 397.975902 510.520356 400.710756 512.556040 403.445609 505.862982 406.180463 511.692992 408.915317 514.096793 411.650170 508.201549 414.385024 515.804884 417.119877 516.531821 419.854731 515.957027 422.589585 512.917094 425.324438 516.168293 428.059292 514.839639 430.794146 518.475141 433.528999 518.964523 436.263853 510.736546 438.998707 512.156088 441.733560 510.689752 444.468414 498.509873 447.203268 509.581169 449.938121 516.648669 452.672975 513.409291 455.407828 512.551029 458.142682 515.553616 460.877536 514.108938 463.612389 516.265753 466.347243 512.662577 469.082097 513.703727 471.816950 516.991690 474.551804 511.752646 477.286658 510.780014 480.021511 512.368345 482.756365 516.775817 485.491219 517.999227 488.226072 518.002803 490.960926 515.091544 493.695779 504.254209 496.430633 508.187418 499.165487 506.062591 501.900340 506.921314 504.635194 496.297348 507.370048 488.867027 510.104901 500.234365 512.839755 500.089661 515.574609 509.563036 518.309462 501.831245 521.044316 499.132047 523.779170 498.563369 526.514023 501.978276 529.248877 504.076661 531.983730 504.182562 534.718584 499.341636 537.453438 503.615247 540.188291 500.616862 542.923145 499.579156 545.657999 504.381993 548.392852 504.233606 551.127706 495.273630 553.862560 495.853481 556.597413 495.214747 559.332267 500.101109 562.067120 481.604277 564.801974 497.645351 567.536828 491.205465 570.271681 498.310058 573.006535 491.561102 575.741389 488.140726 578.476242 488.655226 581.211096 501.238567 583.945950 494.613936 586.680803 486.129505 589.415657 496.214640 592.150511 499.821801 594.885364 493.485707 597.620218 494.821432 600.355071 495.110705 603.089925 492.946326 605.824779 488.834564 608.559632 499.576480 611.294486 501.437461 614.029340 501.333345 616.764193 503.969718 619.499047 493.420361 622.233901 495.071943 624.968754 496.951691 627.703608 493.544027 630.438462 501.146972 630.438462 505.312903 627.703608 497.805364 624.968754 502.726512 622.233901 500.131506 619.499047 499.012660 616.764193 506.274834 614.029340 505.787883 611.294486 506.453207 608.559632 506.958031 605.824779 498.991268 603.089925 501.693864 600.355071 499.418394 597.620218 502.173616 594.885364 500.814715 592.150511 506.311084 589.415657 503.049013 586.680803 495.767166 583.945950 500.852312 581.211096 505.930825 578.476242 496.688930 575.741389 499.253348 573.006535 500.057475 570.271681 505.025278 567.536828 498.037419 564.801974 502.711645 562.067120 487.022351 559.332267 505.805984 556.597413 500.249342 553.862560 501.004151 551.127706 501.002728 548.392852 509.914037 545.657999 508.660568 542.923145 503.176149 540.188291 506.220744 537.453438 510.299566 534.718584 505.794560 531.983730 508.214305 529.248877 508.883135 526.514023 508.730032 523.779170 505.451227 521.044316 506.135431 518.309462 507.429490 515.574609 513.084679 512.839755 505.325848 510.104901 508.390053 507.370048 496.403750 504.635194 503.018143 501.900340 511.378280 499.165487 510.268363 496.430633 511.131364 493.695779 508.927823 490.960926 516.362431 488.226072 519.038272 485.491219 519.449003 482.756365 518.401701 480.021511 515.638991 477.286658 514.107846 474.551804 512.887829 471.816950 517.770075 469.082097 516.765505 466.347243 514.856214 463.612389 517.114682 460.877536 514.831897 458.142682 516.540602 455.407828 513.967192 452.672975 516.234775 449.938121 518.675401 447.203268 510.531336 444.468414 501.351084 441.733560 512.538862 438.998707 513.653105 436.263853 512.954709 433.528999 519.386749 430.794146 519.491155 428.059292 515.850893 425.324438 517.993013 422.589585 515.251145 419.854731 518.313139 417.119877 518.943517 414.385024 516.977117 411.650170 511.288073 408.915317 516.007218 406.180463 515.990789 403.445609 509.817315 400.710756 515.276123 397.975902 512.725430 395.241048 513.568654 392.506195 514.273638 389.771341 515.981310 387.036487 515.508447 384.301634 518.414893 381.566780 512.221203 378.831926 514.882828 376.097073 512.716833 373.362219 518.628783 370.627366 516.881290 367.892512 511.509906 365.157658 508.554275 362.422805 517.945872 359.687951 515.993874 356.953097 514.328416 354.218244 510.865631 351.483390 519.608080 348.748536 514.985346 346.013683 513.441062 343.278829 515.064413 340.543975 515.784801 337.809122 516.390964 335.074268 513.225195 332.339415 514.217888 329.604561 512.145323 326.869707 516.746305 324.134854 510.916529 321.400000 514.933129 318.665146 515.402047 315.930293 514.230364 313.195439 514.421181 310.460585 515.333938 307.725732 511.762894 304.990878 516.911819 302.256025 510.575313 299.521171 519.904926 296.786317 513.600451 294.051464 511.034011 291.316610 515.378581 288.581756 516.928438 285.846903 518.464371 283.112049 515.958183 280.377195 510.546353 277.642342 514.567297 274.907488 517.427182 272.172634 516.294344 269.437781 513.016360 266.702927 517.192290 263.968074 516.188045 261.233220 513.317961 258.498366 509.759458 255.763513 511.636840 253.028659 517.180435 250.293805 512.809478 247.558952 508.084954 244.824098 510.770622 242.089244 515.140441 239.354391 509.508486 236.619537 514.648936 233.884683 520.806494 231.149830 512.628482 228.414976 510.765377 225.680123 505.302511 222.945269 512.808398 220.210415 518.196634 217.475562 519.804823 214.740708 517.189272 212.005854 514.954150 209.271001 517.616994 206.536147 515.921444 203.801293 517.214708 201.066440 520.596793 198.331586 517.260422 195.596732 517.146950 192.861879 517.018088 190.127025 518.696136 187.392172 518.798206 184.657318 518.159563 181.922464 513.863071 179.187611 515.135777 176.452757 518.336137 173.717903 519.848691 170.983050 517.573745 168.248196 507.740503 165.513342 520.082401 162.778489 516.317445 160.043635 517.554664 157.308781 517.106962 154.573928 518.241738 151.839074 516.046263 149.104221 519.569081 146.369367 513.671060 143.634513 520.319403 140.899660 517.900909 138.164806 520.045785 135.429952 518.447305 132.695099 519.406483 129.960245 519.823562 127.225391 521.344555 124.490538 521.612317 121.755684 520.593247 119.020830 521.092517 116.285977 518.402019 113.551123 519.295684 110.816270 520.248032 108.081416 520.120166 105.346562 520.539309 102.611709 518.840629 99.876855 519.171077 97.142001 520.117941 94.407148 520.196775 91.672294 518.197217 88.937440 519.773006 86.202587 521.410617 83.467733 521.485757 80.732880 519.597446 77.998026 519.344728 75.263172 518.781721 72.528319 520.203315 69.793465 522.574258 67.058611 522.510707 64.323758 520.515676 61.588904 520.547362 58.854050 522.582840 56.119197 522.919252 53.384343 522.929425 50.649489 522.316949 47.914636 521.635903 45.179782 520.690804 42.444929 520.789831 39.710075 522.123893 36.975221 522.678281 34.240368 521.940007 31.505514 521.619225 28.770660 522.212418 26.035807 522.546776 23.300953 522.704469 20.566099 523.730769 17.831246 523.548642 15.096392 523.369151 12.361538 522.970181\"/></g><g class=\"series serie-3 color-3\"><path class=\"line reactive\" d=\"M12.361538 522.810513 L15.096392 523.336373 17.831246 523.488137 20.566099 523.730769 23.300953 522.606451 26.035807 522.463860 28.770660 521.212241 31.505514 520.501467 34.240368 521.170871 36.975221 522.438235 39.710075 520.517422 42.444929 519.686361 45.179782 516.276171 47.914636 520.079338 50.649489 520.358644 53.384343 521.361596 56.119197 521.388670 58.854050 521.819657 61.588904 520.100876 64.323758 518.723356 67.058611 521.754906 69.793465 521.464917 72.528319 518.465086 75.263172 514.794093 77.998026 516.156546 80.732880 515.697638 83.467733 517.475875 86.202587 518.142899 88.937440 516.618889 91.672294 517.083477 94.407148 518.865063 97.142001 517.972807 99.876855 515.798048 102.611709 507.118973 105.346562 515.965916 108.081416 517.251464 110.816270 518.735497 113.551123 516.851366 116.285977 517.471137 119.020830 519.311329 121.755684 518.786845 124.490538 520.273332 127.225391 520.722696 129.960245 518.982320 132.695099 516.474603 135.429952 516.571800 138.164806 517.525457 140.899660 516.491322 143.634513 518.254522 146.369367 512.347388 149.104221 518.484178 151.839074 514.592873 154.573928 515.639610 157.308781 514.312197 160.043635 515.081948 162.778489 512.092049 165.513342 516.839799 168.248196 503.842249 170.983050 513.207862 173.717903 517.880593 176.452757 515.690395 179.187611 510.761422 181.922464 511.785935 184.657318 515.801271 187.392172 516.695330 190.127025 516.119320 192.861879 515.630377 195.596732 514.959865 198.331586 515.342921 201.066440 518.011689 203.801293 514.121396 206.536147 513.639827 209.271001 515.433258 212.005854 513.289226 214.740708 514.321274 217.475562 517.532607 220.210415 516.139207 222.945269 508.838798 225.680123 499.855239 228.414976 507.237618 231.149830 508.001979 233.884683 519.968916 236.619537 509.991305 239.354391 503.282857 242.089244 510.693677 244.824098 504.707545 247.558952 502.008703 250.293805 506.696186 253.028659 513.981034 255.763513 506.124045 258.498366 502.669052 261.233220 508.152236 263.968074 511.784930 266.702927 510.689708 269.437781 502.358265 272.172634 510.660743 274.907488 513.406257 277.642342 509.297126 280.377195 505.116545 283.112049 510.023653 285.846903 516.371866 288.581756 512.136343 291.316610 511.712320 294.051464 506.658576 296.786317 509.897306 299.521171 517.810208 302.256025 502.466216 304.990878 514.449348 307.725732 502.942191 310.460585 504.277695 313.195439 508.824638 315.930293 505.601341 318.665146 506.567151 321.400000 509.755479 324.134854 504.888633 326.869707 512.202125 329.604561 506.906308 332.339415 503.411614 335.074268 501.825587 337.809122 511.658171 340.543975 505.564960 343.278829 507.187661 346.013683 505.075738 348.748536 503.690898 351.483390 515.193238 354.218244 501.784644 356.953097 508.239907 359.687951 510.703491 362.422805 508.793043 365.157658 479.490634 367.892512 483.066867 370.627366 507.367304 373.362219 513.468489 376.097073 506.373488 378.831926 506.647271 381.566780 506.162675 384.301634 513.005049 387.036487 510.883763 389.771341 512.328405 392.506195 509.536057 395.241048 507.180720 397.975902 506.203645 400.710756 500.649595 403.445609 499.884174 406.180463 507.544307 408.915317 509.409661 411.650170 503.860312 414.385024 511.669736 417.119877 514.403823 419.854731 512.348693 422.589585 510.086371 425.324438 513.841986 428.059292 513.078734 430.794146 516.436075 433.528999 517.279450 436.263853 507.807282 438.998707 508.947445 441.733560 509.012116 444.468414 495.999724 447.203268 506.159206 449.938121 514.736416 452.672975 511.772687 455.407828 510.694268 458.142682 513.125628 460.877536 512.823648 463.612389 511.420973 466.347243 506.650630 469.082097 510.735491 471.816950 513.503494 474.551804 507.794379 477.286658 507.664076 480.021511 508.531252 482.756365 514.899496 485.491219 517.094954 488.226072 516.298066 490.960926 513.240742 493.695779 499.379569 496.430633 489.606997 499.165487 493.002689 501.900340 504.442117 504.635194 493.623352 507.370048 485.938495 510.104901 498.086990 512.839755 497.805987 515.574609 508.378949 518.309462 499.519034 521.044316 497.551823 523.779170 496.273366 526.514023 500.669643 529.248877 499.856424 531.983730 500.710861 534.718584 496.803098 537.453438 502.201528 540.188291 498.750006 542.923145 498.049347 545.657999 502.518902 548.392852 502.335526 551.127706 493.257078 553.862560 494.807413 556.597413 493.405980 559.332267 498.395973 562.067120 477.127111 564.801974 494.958356 567.536828 487.940154 570.271681 495.777459 573.006535 488.331460 575.741389 483.359167 578.476242 485.772760 581.211096 498.885188 583.945950 492.154644 586.680803 483.072148 589.415657 494.023401 592.150511 496.725348 594.885364 484.146219 597.620218 489.929109 600.355071 492.820220 603.089925 489.933031 605.824779 483.173508 608.559632 494.460063 611.294486 498.263797 614.029340 499.311172 616.764193 503.416574 619.499047 491.622943 622.233901 492.981457 624.968754 493.365595 627.703608 476.946629 630.438462 495.391963 630.438462 501.146972 627.703608 493.544027 624.968754 496.951691 622.233901 495.071943 619.499047 493.420361 616.764193 503.969718 614.029340 501.333345 611.294486 501.437461 608.559632 499.576480 605.824779 488.834564 603.089925 492.946326 600.355071 495.110705 597.620218 494.821432 594.885364 493.485707 592.150511 499.821801 589.415657 496.214640 586.680803 486.129505 583.945950 494.613936 581.211096 501.238567 578.476242 488.655226 575.741389 488.140726 573.006535 491.561102 570.271681 498.310058 567.536828 491.205465 564.801974 497.645351 562.067120 481.604277 559.332267 500.101109 556.597413 495.214747 553.862560 495.853481 551.127706 495.273630 548.392852 504.233606 545.657999 504.381993 542.923145 499.579156 540.188291 500.616862 537.453438 503.615247 534.718584 499.341636 531.983730 504.182562 529.248877 504.076661 526.514023 501.978276 523.779170 498.563369 521.044316 499.132047 518.309462 501.831245 515.574609 509.563036 512.839755 500.089661 510.104901 500.234365 507.370048 488.867027 504.635194 496.297348 501.900340 506.921314 499.165487 506.062591 496.430633 508.187418 493.695779 504.254209 490.960926 515.091544 488.226072 518.002803 485.491219 517.999227 482.756365 516.775817 480.021511 512.368345 477.286658 510.780014 474.551804 511.752646 471.816950 516.991690 469.082097 513.703727 466.347243 512.662577 463.612389 516.265753 460.877536 514.108938 458.142682 515.553616 455.407828 512.551029 452.672975 513.409291 449.938121 516.648669 447.203268 509.581169 444.468414 498.509873 441.733560 510.689752 438.998707 512.156088 436.263853 510.736546 433.528999 518.964523 430.794146 518.475141 428.059292 514.839639 425.324438 516.168293 422.589585 512.917094 419.854731 515.957027 417.119877 516.531821 414.385024 515.804884 411.650170 508.201549 408.915317 514.096793 406.180463 511.692992 403.445609 505.862982 400.710756 512.556040 397.975902 510.520356 395.241048 510.350212 392.506195 512.364800 389.771341 514.073894 387.036487 514.572770 384.301634 516.486125 381.566780 509.763661 378.831926 510.377488 376.097073 509.902618 373.362219 516.252288 370.627366 512.949595 367.892512 507.660826 365.157658 506.316675 362.422805 515.041755 359.687951 513.501361 356.953097 511.954898 354.218244 504.685076 351.483390 517.546846 348.748536 509.454157 346.013683 509.158511 343.278829 511.913456 340.543975 510.400274 337.809122 514.189824 335.074268 507.948618 332.339415 511.283412 329.604561 510.604952 326.869707 514.861459 324.134854 508.268538 321.400000 511.848560 318.665146 510.090810 315.930293 510.284413 313.195439 512.200367 310.460585 508.322412 307.725732 509.081498 304.990878 515.867106 302.256025 506.645556 299.521171 519.113079 296.786317 511.727894 294.051464 508.463654 291.316610 513.050415 288.581756 513.856499 285.846903 517.554969 283.112049 513.503195 280.377195 507.324644 277.642342 512.250630 274.907488 515.288432 272.172634 513.740580 269.437781 508.870529 266.702927 514.264691 263.968074 513.741829 261.233220 510.027788 258.498366 505.048568 255.763513 508.682567 253.028659 515.884217 250.293805 510.037060 247.558952 505.224536 244.824098 507.520839 242.089244 512.546721 239.354391 507.166547 236.619537 512.998097 233.884683 520.250543 231.149830 510.553956 228.414976 509.211073 225.680123 502.566050 222.945269 510.093333 220.210415 516.716129 217.475562 519.045478 214.740708 515.341565 212.005854 513.999730 209.271001 516.392346 206.536147 514.360517 203.801293 515.794626 201.066440 519.620023 198.331586 516.078433 195.596732 515.833642 192.861879 516.065191 190.127025 517.100849 187.392172 517.728666 184.657318 516.048075 181.922464 512.529874 179.187611 511.646402 176.452757 516.402263 173.717903 518.057065 170.983050 516.498648 168.248196 505.215508 165.513342 517.365508 162.778489 512.599598 160.043635 515.587693 157.308781 515.014613 154.573928 516.636057 151.839074 515.384906 149.104221 518.776848 146.369367 512.745041 143.634513 518.527359 140.899660 516.682931 138.164806 518.739423 135.429952 517.590103 132.695099 516.835325 129.960245 519.213804 127.225391 520.929038 124.490538 521.487644 121.755684 519.985144 119.020830 520.335798 116.285977 517.710304 113.551123 517.413805 110.816270 519.677596 108.081416 519.077810 105.346562 519.890593 102.611709 517.700665 99.876855 517.265934 97.142001 519.309784 94.407148 519.474267 91.672294 517.718822 88.937440 518.071575 86.202587 519.771456 83.467733 519.907396 80.732880 516.773648 77.998026 516.669897 75.263172 515.865876 72.528319 519.169604 69.793465 522.462434 67.058611 522.231490 64.323758 519.095818 61.588904 520.231269 58.854050 522.399741 56.119197 522.152667 53.384343 522.453026 50.649489 521.464523 47.914636 521.547827 45.179782 518.078970 42.444929 519.779615 39.710075 521.538543 36.975221 522.543678 34.240368 521.576945 31.505514 521.133164 28.770660 522.059215 26.035807 522.472277 23.300953 522.606451 20.566099 523.730769 17.831246 523.488137 15.096392 523.346030 12.361538 522.862910\"/></g><g class=\"series serie-4 color-4\"><path class=\"line reactive\" d=\"M12.361538 522.810513 L15.096392 523.336373 17.831246 523.456282 20.566099 523.730769 23.300953 522.606451 26.035807 522.429391 28.770660 521.041412 31.505514 520.061448 34.240368 521.104558 36.975221 522.438235 39.710075 520.510226 42.444929 519.593986 45.179782 511.875169 47.914636 518.986838 50.649489 520.184830 53.384343 521.191988 56.119197 521.260697 58.854050 521.238575 61.588904 519.780453 64.323758 518.304211 67.058611 521.667420 69.793465 521.292090 72.528319 517.216252 75.263172 513.921051 77.998026 515.963799 80.732880 514.867148 83.467733 516.636657 86.202587 517.452997 88.937440 516.063892 91.672294 516.667359 94.407148 518.629556 97.142001 517.819887 99.876855 515.619687 102.611709 506.947396 105.346562 514.826214 108.081416 516.881323 110.816270 518.223560 113.551123 516.645207 116.285977 517.072599 119.020830 518.771171 121.755684 518.308427 124.490538 519.938051 127.225391 520.446561 129.960245 518.982320 132.695099 516.186844 135.429952 516.563941 138.164806 516.865601 140.899660 516.401878 143.634513 518.076239 146.369367 512.068458 149.104221 518.451818 151.839074 514.532936 154.573928 515.572757 157.308781 513.534749 160.043635 514.080203 162.778489 511.970211 165.513342 516.798858 168.248196 503.669364 170.983050 512.985799 173.717903 517.614733 176.452757 515.379147 179.187611 510.460738 181.922464 511.579413 184.657318 515.100301 187.392172 516.515386 190.127025 514.892418 192.861879 515.010019 195.596732 514.882063 198.331586 515.183976 201.066440 517.947257 203.801293 512.967686 206.536147 512.937180 209.271001 514.674906 212.005854 512.877553 214.740708 512.584217 217.475562 517.092118 220.210415 515.684243 222.945269 507.197413 225.680123 498.787659 228.414976 506.433826 231.149830 507.802151 233.884683 519.769652 236.619537 509.041265 239.354391 502.734202 242.089244 510.594569 244.824098 503.278112 247.558952 501.863870 250.293805 505.671828 253.028659 513.898128 255.763513 504.751941 258.498366 500.815729 261.233220 507.027499 263.968074 510.917254 266.702927 510.184353 269.437781 501.113264 272.172634 509.133671 274.907488 512.253744 277.642342 505.957293 280.377195 501.932738 283.112049 507.679835 285.846903 514.535665 288.581756 507.342821 291.316610 509.650290 294.051464 505.801491 296.786317 508.839029 299.521171 517.327890 302.256025 500.637242 304.990878 513.875202 307.725732 500.822745 310.460585 503.631732 313.195439 507.947988 315.930293 503.011481 318.665146 503.210978 321.400000 498.480276 324.134854 500.935957 326.869707 508.033371 329.604561 503.569639 332.339415 502.317021 335.074268 500.529385 337.809122 509.658040 340.543975 503.242236 343.278829 504.621982 346.013683 502.126106 348.748536 498.255308 351.483390 512.950149 354.218244 497.729957 356.953097 505.613606 359.687951 509.319701 362.422805 506.791673 365.157658 477.541935 367.892512 480.624698 370.627366 505.389336 373.362219 510.382651 376.097073 504.375177 378.831926 504.149424 381.566780 501.487186 384.301634 511.325320 387.036487 506.498758 389.771341 510.047817 392.506195 507.922887 395.241048 506.317240 397.975902 502.995003 400.710756 498.943914 403.445609 495.861655 406.180463 504.574458 408.915317 505.848797 411.650170 500.603258 414.385024 508.568239 417.119877 512.590410 419.854731 508.889258 422.589585 508.334322 425.324438 511.886121 428.059292 512.251529 430.794146 515.101317 433.528999 516.214306 436.263853 505.523194 438.998707 506.748473 441.733560 507.682649 444.468414 494.601439 447.203268 503.376603 449.938121 511.958987 452.672975 509.037651 455.407828 507.390400 458.142682 509.267317 460.877536 512.469710 463.612389 510.131536 466.347243 504.757441 469.082097 507.324571 471.816950 511.927694 474.551804 504.748239 477.286658 506.473726 480.021511 506.243435 482.756365 511.837473 485.491219 516.439501 488.226072 515.292829 490.960926 511.406312 493.695779 498.042452 496.430633 487.664139 499.165487 489.754190 501.900340 501.995851 504.635194 489.076315 507.370048 483.125812 510.104901 495.342130 512.839755 495.391272 515.574609 503.879811 518.309462 493.632599 521.044316 493.174971 523.779170 494.008470 526.514023 499.342663 529.248877 497.408789 531.983730 497.476197 534.718584 493.135425 537.453438 499.113767 540.188291 497.127001 542.923145 494.817732 545.657999 499.991363 548.392852 499.419862 551.127706 488.408775 553.862560 487.936500 556.597413 489.711558 559.332267 495.500887 562.067120 475.113624 564.801974 492.850864 567.536828 474.443255 570.271681 490.597020 573.006535 485.351243 575.741389 479.183408 578.476242 472.328441 581.211096 489.498453 583.945950 478.724015 586.680803 475.822226 589.415657 489.685029 592.150511 493.103889 594.885364 481.631109 597.620218 486.228865 600.355071 486.505889 603.089925 486.342841 605.824779 480.755813 608.559632 492.146756 611.294486 493.500202 614.029340 496.054738 616.764193 495.439739 619.499047 485.049873 622.233901 488.162354 624.968754 488.989406 627.703608 476.687368 630.438462 494.936680 630.438462 495.391963 627.703608 476.946629 624.968754 493.365595 622.233901 492.981457 619.499047 491.622943 616.764193 503.416574 614.029340 499.311172 611.294486 498.263797 608.559632 494.460063 605.824779 483.173508 603.089925 489.933031 600.355071 492.820220 597.620218 489.929109 594.885364 484.146219 592.150511 496.725348 589.415657 494.023401 586.680803 483.072148 583.945950 492.154644 581.211096 498.885188 578.476242 485.772760 575.741389 483.359167 573.006535 488.331460 570.271681 495.777459 567.536828 487.940154 564.801974 494.958356 562.067120 477.127111 559.332267 498.395973 556.597413 493.405980 553.862560 494.807413 551.127706 493.257078 548.392852 502.335526 545.657999 502.518902 542.923145 498.049347 540.188291 498.750006 537.453438 502.201528 534.718584 496.803098 531.983730 500.710861 529.248877 499.856424 526.514023 500.669643 523.779170 496.273366 521.044316 497.551823 518.309462 499.519034 515.574609 508.378949 512.839755 497.805987 510.104901 498.086990 507.370048 485.938495 504.635194 493.623352 501.900340 504.442117 499.165487 493.002689 496.430633 489.606997 493.695779 499.379569 490.960926 513.240742 488.226072 516.298066 485.491219 517.094954 482.756365 514.899496 480.021511 508.531252 477.286658 507.664076 474.551804 507.794379 471.816950 513.503494 469.082097 510.735491 466.347243 506.650630 463.612389 511.420973 460.877536 512.823648 458.142682 513.125628 455.407828 510.694268 452.672975 511.772687 449.938121 514.736416 447.203268 506.159206 444.468414 495.999724 441.733560 509.012116 438.998707 508.947445 436.263853 507.807282 433.528999 517.279450 430.794146 516.436075 428.059292 513.078734 425.324438 513.841986 422.589585 510.086371 419.854731 512.348693 417.119877 514.403823 414.385024 511.669736 411.650170 503.860312 408.915317 509.409661 406.180463 507.544307 403.445609 499.884174 400.710756 500.649595 397.975902 506.203645 395.241048 507.180720 392.506195 509.536057 389.771341 512.328405 387.036487 510.883763 384.301634 513.005049 381.566780 506.162675 378.831926 506.647271 376.097073 506.373488 373.362219 513.468489 370.627366 507.367304 367.892512 483.066867 365.157658 479.490634 362.422805 508.793043 359.687951 510.703491 356.953097 508.239907 354.218244 501.784644 351.483390 515.193238 348.748536 503.690898 346.013683 505.075738 343.278829 507.187661 340.543975 505.564960 337.809122 511.658171 335.074268 501.825587 332.339415 503.411614 329.604561 506.906308 326.869707 512.202125 324.134854 504.888633 321.400000 509.755479 318.665146 506.567151 315.930293 505.601341 313.195439 508.824638 310.460585 504.277695 307.725732 502.942191 304.990878 514.449348 302.256025 502.466216 299.521171 517.810208 296.786317 509.897306 294.051464 506.658576 291.316610 511.712320 288.581756 512.136343 285.846903 516.371866 283.112049 510.023653 280.377195 505.116545 277.642342 509.297126 274.907488 513.406257 272.172634 510.660743 269.437781 502.358265 266.702927 510.689708 263.968074 511.784930 261.233220 508.152236 258.498366 502.669052 255.763513 506.124045 253.028659 513.981034 250.293805 506.696186 247.558952 502.008703 244.824098 504.707545 242.089244 510.693677 239.354391 503.282857 236.619537 509.991305 233.884683 519.968916 231.149830 508.001979 228.414976 507.237618 225.680123 499.855239 222.945269 508.838798 220.210415 516.139207 217.475562 517.532607 214.740708 514.321274 212.005854 513.289226 209.271001 515.433258 206.536147 513.639827 203.801293 514.121396 201.066440 518.011689 198.331586 515.342921 195.596732 514.959865 192.861879 515.630377 190.127025 516.119320 187.392172 516.695330 184.657318 515.801271 181.922464 511.785935 179.187611 510.761422 176.452757 515.690395 173.717903 517.880593 170.983050 513.207862 168.248196 503.842249 165.513342 516.839799 162.778489 512.092049 160.043635 515.081948 157.308781 514.312197 154.573928 515.639610 151.839074 514.592873 149.104221 518.484178 146.369367 512.347388 143.634513 518.254522 140.899660 516.491322 138.164806 517.525457 135.429952 516.571800 132.695099 516.474603 129.960245 518.982320 127.225391 520.722696 124.490538 520.273332 121.755684 518.786845 119.020830 519.311329 116.285977 517.471137 113.551123 516.851366 110.816270 518.735497 108.081416 517.251464 105.346562 515.965916 102.611709 507.118973 99.876855 515.798048 97.142001 517.972807 94.407148 518.865063 91.672294 517.083477 88.937440 516.618889 86.202587 518.142899 83.467733 517.475875 80.732880 515.697638 77.998026 516.156546 75.263172 514.794093 72.528319 518.465086 69.793465 521.464917 67.058611 521.754906 64.323758 518.723356 61.588904 520.100876 58.854050 521.819657 56.119197 521.388670 53.384343 521.361596 50.649489 520.358644 47.914636 520.079338 45.179782 516.276171 42.444929 519.686361 39.710075 520.517422 36.975221 522.438235 34.240368 521.170871 31.505514 520.501467 28.770660 521.212241 26.035807 522.463860 23.300953 522.606451 20.566099 523.730769 17.831246 523.488137 15.096392 523.336373 12.361538 522.810513\"/></g><g class=\"series serie-5 color-5\"><path class=\"line reactive\" d=\"M12.361538 522.565380 L15.096392 523.175707 17.831246 523.426521 20.566099 523.602388 23.300953 522.606451 26.035807 521.861742 28.770660 520.127335 31.505514 520.015612 34.240368 520.833247 36.975221 522.202755 39.710075 519.653660 42.444929 519.030381 45.179782 511.712521 47.914636 518.464414 50.649489 519.590773 53.384343 521.004050 56.119197 521.041241 58.854050 520.922993 61.588904 519.320112 64.323758 517.803287 67.058611 521.520678 69.793465 520.790787 72.528319 515.858546 75.263172 512.974609 77.998026 515.502842 80.732880 514.152752 83.467733 514.079890 86.202587 516.165581 88.937440 514.704147 91.672294 516.044031 94.407148 518.026543 97.142001 516.908174 99.876855 514.723107 102.611709 506.168238 105.346562 513.685917 108.081416 516.226254 110.816270 517.206074 113.551123 515.327549 116.285977 515.668846 119.020830 518.312811 121.755684 517.443141 124.490538 518.991951 127.225391 519.734177 129.960245 518.008651 132.695099 515.682500 135.429952 515.781800 138.164806 514.553737 140.899660 513.487867 143.634513 515.325379 146.369367 510.086288 149.104221 517.324951 151.839074 512.875053 154.573928 513.016140 157.308781 511.613052 160.043635 512.540311 162.778489 510.187885 165.513342 514.104500 168.248196 501.385514 170.983050 510.151694 173.717903 516.679729 176.452757 512.479528 179.187611 508.404105 181.922464 510.165363 184.657318 513.318810 187.392172 514.334690 190.127025 511.991284 192.861879 513.127542 195.596732 513.471124 198.331586 512.390215 201.066440 516.771461 203.801293 511.781473 206.536147 511.699891 209.271001 513.279975 212.005854 511.806222 214.740708 510.565237 217.475562 514.956315 220.210415 513.533003 222.945269 505.300808 225.680123 495.476636 228.414976 502.044569 231.149830 504.447352 233.884683 518.037188 236.619537 506.283769 239.354391 497.635131 242.089244 507.945816 244.824098 500.739575 247.558952 499.078901 250.293805 502.442122 253.028659 511.805232 255.763513 501.243515 258.498366 498.801210 261.233220 504.969856 263.968074 508.605965 266.702927 508.429677 269.437781 498.730177 272.172634 507.797244 274.907488 509.557056 277.642342 503.895842 280.377195 498.544867 283.112049 505.437094 285.846903 512.617925 288.581756 503.858098 291.316610 507.388792 294.051464 504.322856 296.786317 505.948695 299.521171 516.645119 302.256025 497.792183 304.990878 512.720292 307.725732 496.727039 310.460585 501.804949 313.195439 506.144109 315.930293 499.678746 318.665146 498.268223 321.400000 495.043428 324.134854 498.931833 326.869707 506.446048 329.604561 500.462274 332.339415 499.299029 335.074268 498.676228 337.809122 508.808701 340.543975 500.282870 343.278829 502.404892 346.013683 498.968866 348.748536 496.682534 351.483390 512.008853 354.218244 494.263720 356.953097 503.868650 359.687951 507.078113 362.422805 504.569899 365.157658 475.083259 367.892512 478.561447 370.627366 503.683997 373.362219 509.153145 376.097073 501.359873 378.831926 502.879537 381.566780 500.371885 384.301634 509.979635 387.036487 504.771522 389.771341 508.635264 392.506195 505.707501 395.241048 505.103242 397.975902 500.697649 400.710756 497.276775 403.445609 493.426100 406.180463 503.087311 408.915317 504.121522 411.650170 497.948739 414.385024 505.963909 417.119877 511.688791 419.854731 507.451059 422.589585 507.605386 425.324438 510.923973 428.059292 510.479118 430.794146 513.042410 433.528999 512.098652 436.263853 503.563541 438.998707 504.677219 441.733560 505.777937 444.468414 492.138824 447.203268 502.063526 449.938121 511.359960 452.672975 507.180901 455.407828 506.716108 458.142682 508.603080 460.877536 511.776216 463.612389 508.218494 466.347243 502.800153 469.082097 506.108973 471.816950 510.959473 474.551804 502.929157 477.286658 504.892351 480.021511 505.283648 482.756365 510.987222 485.491219 516.090186 488.226072 514.814387 490.960926 509.300748 493.695779 493.493889 496.430633 482.535478 499.165487 484.539480 501.900340 498.287117 504.635194 484.283366 507.370048 479.673680 510.104901 492.420045 512.839755 491.736294 515.574609 501.256136 518.309462 488.810124 521.044316 490.254064 523.779170 490.595417 526.514023 496.056640 529.248877 490.439162 531.983730 492.318560 534.718584 489.999428 537.453438 496.979960 540.188291 494.748218 542.923145 493.306829 545.657999 496.396442 548.392852 496.484403 551.127706 484.822520 553.862560 485.018724 556.597413 487.304728 559.332267 493.173400 562.067120 472.289715 564.801974 490.349841 567.536828 472.337622 570.271681 487.395746 573.006535 481.588348 575.741389 475.900242 578.476242 469.626868 581.211096 486.573660 583.945950 476.977509 586.680803 472.991224 589.415657 487.650784 592.150511 488.126867 594.885364 478.479906 597.620218 482.794727 600.355071 482.713435 603.089925 483.955993 605.824779 478.365523 608.559632 490.907805 611.294486 491.479412 614.029340 493.558367 616.764193 494.642269 619.499047 483.099808 622.233901 486.587260 624.968754 487.390891 627.703608 475.137397 630.438462 492.539744 630.438462 494.936680 627.703608 476.687368 624.968754 488.989406 622.233901 488.162354 619.499047 485.049873 616.764193 495.439739 614.029340 496.054738 611.294486 493.500202 608.559632 492.146756 605.824779 480.755813 603.089925 486.342841 600.355071 486.505889 597.620218 486.228865 594.885364 481.631109 592.150511 493.103889 589.415657 489.685029 586.680803 475.822226 583.945950 478.724015 581.211096 489.498453 578.476242 472.328441 575.741389 479.183408 573.006535 485.351243 570.271681 490.597020 567.536828 474.443255 564.801974 492.850864 562.067120 475.113624 559.332267 495.500887 556.597413 489.711558 553.862560 487.936500 551.127706 488.408775 548.392852 499.419862 545.657999 499.991363 542.923145 494.817732 540.188291 497.127001 537.453438 499.113767 534.718584 493.135425 531.983730 497.476197 529.248877 497.408789 526.514023 499.342663 523.779170 494.008470 521.044316 493.174971 518.309462 493.632599 515.574609 503.879811 512.839755 495.391272 510.104901 495.342130 507.370048 483.125812 504.635194 489.076315 501.900340 501.995851 499.165487 489.754190 496.430633 487.664139 493.695779 498.042452 490.960926 511.406312 488.226072 515.292829 485.491219 516.439501 482.756365 511.837473 480.021511 506.243435 477.286658 506.473726 474.551804 504.748239 471.816950 511.927694 469.082097 507.324571 466.347243 504.757441 463.612389 510.131536 460.877536 512.469710 458.142682 509.267317 455.407828 507.390400 452.672975 509.037651 449.938121 511.958987 447.203268 503.376603 444.468414 494.601439 441.733560 507.682649 438.998707 506.748473 436.263853 505.523194 433.528999 516.214306 430.794146 515.101317 428.059292 512.251529 425.324438 511.886121 422.589585 508.334322 419.854731 508.889258 417.119877 512.590410 414.385024 508.568239 411.650170 500.603258 408.915317 505.848797 406.180463 504.574458 403.445609 495.861655 400.710756 498.943914 397.975902 502.995003 395.241048 506.317240 392.506195 507.922887 389.771341 510.047817 387.036487 506.498758 384.301634 511.325320 381.566780 501.487186 378.831926 504.149424 376.097073 504.375177 373.362219 510.382651 370.627366 505.389336 367.892512 480.624698 365.157658 477.541935 362.422805 506.791673 359.687951 509.319701 356.953097 505.613606 354.218244 497.729957 351.483390 512.950149 348.748536 498.255308 346.013683 502.126106 343.278829 504.621982 340.543975 503.242236 337.809122 509.658040 335.074268 500.529385 332.339415 502.317021 329.604561 503.569639 326.869707 508.033371 324.134854 500.935957 321.400000 498.480276 318.665146 503.210978 315.930293 503.011481 313.195439 507.947988 310.460585 503.631732 307.725732 500.822745 304.990878 513.875202 302.256025 500.637242 299.521171 517.327890 296.786317 508.839029 294.051464 505.801491 291.316610 509.650290 288.581756 507.342821 285.846903 514.535665 283.112049 507.679835 280.377195 501.932738 277.642342 505.957293 274.907488 512.253744 272.172634 509.133671 269.437781 501.113264 266.702927 510.184353 263.968074 510.917254 261.233220 507.027499 258.498366 500.815729 255.763513 504.751941 253.028659 513.898128 250.293805 505.671828 247.558952 501.863870 244.824098 503.278112 242.089244 510.594569 239.354391 502.734202 236.619537 509.041265 233.884683 519.769652 231.149830 507.802151 228.414976 506.433826 225.680123 498.787659 222.945269 507.197413 220.210415 515.684243 217.475562 517.092118 214.740708 512.584217 212.005854 512.877553 209.271001 514.674906 206.536147 512.937180 203.801293 512.967686 201.066440 517.947257 198.331586 515.183976 195.596732 514.882063 192.861879 515.010019 190.127025 514.892418 187.392172 516.515386 184.657318 515.100301 181.922464 511.579413 179.187611 510.460738 176.452757 515.379147 173.717903 517.614733 170.983050 512.985799 168.248196 503.669364 165.513342 516.798858 162.778489 511.970211 160.043635 514.080203 157.308781 513.534749 154.573928 515.572757 151.839074 514.532936 149.104221 518.451818 146.369367 512.068458 143.634513 518.076239 140.899660 516.401878 138.164806 516.865601 135.429952 516.563941 132.695099 516.186844 129.960245 518.982320 127.225391 520.446561 124.490538 519.938051 121.755684 518.308427 119.020830 518.771171 116.285977 517.072599 113.551123 516.645207 110.816270 518.223560 108.081416 516.881323 105.346562 514.826214 102.611709 506.947396 99.876855 515.619687 97.142001 517.819887 94.407148 518.629556 91.672294 516.667359 88.937440 516.063892 86.202587 517.452997 83.467733 516.636657 80.732880 514.867148 77.998026 515.963799 75.263172 513.921051 72.528319 517.216252 69.793465 521.292090 67.058611 521.667420 64.323758 518.304211 61.588904 519.780453 58.854050 521.238575 56.119197 521.260697 53.384343 521.191988 50.649489 520.184830 47.914636 518.986838 45.179782 511.875169 42.444929 519.593986 39.710075 520.510226 36.975221 522.438235 34.240368 521.104558 31.505514 520.061448 28.770660 521.041412 26.035807 522.429391 23.300953 522.606451 20.566099 523.730769 17.831246 523.456282 15.096392 523.336373 12.361538 522.810513\"/></g><g class=\"series serie-6 color-6\"><path class=\"line reactive\" d=\"M12.361538 522.538365 L15.096392 523.175707 17.831246 523.426521 20.566099 523.602388 23.300953 522.600375 26.035807 521.686622 28.770660 519.244100 31.505514 519.650400 34.240368 520.815551 36.975221 522.123710 39.710075 519.650919 42.444929 518.849647 45.179782 511.037141 47.914636 517.882518 50.649489 519.396316 53.384343 520.813517 56.119197 520.196175 58.854050 520.874219 61.588904 516.188164 64.323758 516.783994 67.058611 521.221454 69.793465 520.493832 72.528319 515.700239 75.263172 512.744149 77.998026 515.212569 80.732880 513.541152 83.467733 513.917777 86.202587 515.812177 88.937440 514.059032 91.672294 515.115851 94.407148 517.495954 97.142001 516.631824 99.876855 514.369924 102.611709 506.123419 105.346562 513.414176 108.081416 515.831069 110.816270 517.154821 113.551123 515.139120 116.285977 515.515503 119.020830 517.818822 121.755684 516.898417 124.490538 518.814098 127.225391 519.225513 129.960245 517.393582 132.695099 515.245489 135.429952 515.588744 138.164806 514.293340 140.899660 513.322227 143.634513 515.144821 146.369367 509.872401 149.104221 517.183672 151.839074 512.360575 154.573928 512.876272 157.308781 511.303580 160.043635 509.345987 162.778489 508.432090 165.513342 513.409494 168.248196 501.190923 170.983050 510.077619 173.717903 516.446347 176.452757 511.556861 179.187611 507.704656 181.922464 508.232431 184.657318 511.897346 187.392172 513.410429 190.127025 511.903634 192.861879 511.026440 195.596732 511.783170 198.331586 511.968421 201.066440 516.735468 203.801293 511.362844 206.536147 511.528532 209.271001 511.306755 212.005854 509.404734 214.740708 510.106619 217.475562 514.265812 220.210415 513.122561 222.945269 504.506654 225.680123 489.522672 228.414976 498.801795 231.149830 503.321431 233.884683 517.514805 236.619537 506.174538 239.354391 495.998318 242.089244 506.672371 244.824098 499.893240 247.558952 498.201526 250.293805 501.287723 253.028659 510.762720 255.763513 500.039098 258.498366 495.964609 261.233220 502.298699 263.968074 508.040047 266.702927 507.969590 269.437781 497.929855 272.172634 507.676068 274.907488 508.100237 277.642342 501.714214 280.377195 497.857429 283.112049 503.542412 285.846903 510.823735 288.581756 501.389610 291.316610 497.231907 294.051464 501.258077 296.786317 504.620301 299.521171 515.547271 302.256025 494.111084 304.990878 511.735852 307.725732 491.633274 310.460585 491.692370 313.195439 500.518675 315.930293 492.625264 318.665146 490.802986 321.400000 490.186547 324.134854 483.772881 326.869707 499.693072 329.604561 496.379239 332.339415 497.319271 335.074268 496.298236 337.809122 505.629500 340.543975 496.295474 343.278829 491.262449 346.013683 491.140909 348.748536 490.765499 351.483390 504.863878 354.218244 492.144583 356.953097 492.788981 359.687951 494.079238 362.422805 499.190176 365.157658 473.539508 367.892512 474.283225 370.627366 500.553995 373.362219 504.411919 376.097073 486.766604 378.831926 495.196371 381.566780 487.701168 384.301634 500.155656 387.036487 494.658287 389.771341 490.938794 392.506195 493.550936 395.241048 498.344485 397.975902 495.774882 400.710756 491.003397 403.445609 488.440931 406.180463 486.139161 408.915317 492.626843 411.650170 484.161829 414.385024 496.446169 417.119877 500.856225 419.854731 498.911956 422.589585 492.624173 425.324438 499.783455 428.059292 502.427638 430.794146 504.825276 433.528999 505.674190 436.263853 501.201534 438.998707 488.744210 441.733560 490.993884 444.468414 483.579984 447.203268 490.374918 449.938121 503.771809 452.672975 501.264873 455.407828 496.376715 458.142682 502.521426 460.877536 508.388786 463.612389 505.693044 466.347243 501.269020 469.082097 503.474713 471.816950 504.242030 474.551804 492.448241 477.286658 499.534221 480.021511 498.869561 482.756365 505.658838 485.491219 514.514460 488.226072 505.129175 490.960926 501.337780 493.695779 489.088940 496.430633 480.554346 499.165487 482.078909 501.900340 496.540435 504.635194 481.430742 507.370048 475.573104 510.104901 488.084882 512.839755 487.518158 515.574609 499.104419 518.309462 485.381333 521.044316 487.431162 523.779170 483.472637 526.514023 493.702108 529.248877 488.114658 531.983730 489.368605 534.718584 486.817683 537.453438 494.122655 540.188291 489.968372 542.923145 492.009502 545.657999 494.569918 548.392852 491.690225 551.127706 479.286242 553.862560 474.999763 556.597413 479.816934 559.332267 490.539989 562.067120 469.486283 564.801974 488.845000 567.536828 470.482053 570.271681 483.185845 573.006535 477.747079 575.741389 471.943054 578.476242 466.683744 581.211096 482.573992 583.945950 471.999291 586.680803 466.287399 589.415657 483.297044 592.150511 484.806822 594.885364 476.968482 597.620218 480.420156 600.355071 480.060023 603.089925 482.402224 605.824779 475.429506 608.559632 489.400542 611.294486 490.389100 614.029340 490.750015 616.764193 493.994613 619.499047 481.003924 622.233901 483.212136 624.968754 486.379744 627.703608 474.025456 630.438462 492.360988 630.438462 492.539744 627.703608 475.137397 624.968754 487.390891 622.233901 486.587260 619.499047 483.099808 616.764193 494.642269 614.029340 493.558367 611.294486 491.479412 608.559632 490.907805 605.824779 478.365523 603.089925 483.955993 600.355071 482.713435 597.620218 482.794727 594.885364 478.479906 592.150511 488.126867 589.415657 487.650784 586.680803 472.991224 583.945950 476.977509 581.211096 486.573660 578.476242 469.626868 575.741389 475.900242 573.006535 481.588348 570.271681 487.395746 567.536828 472.337622 564.801974 490.349841 562.067120 472.289715 559.332267 493.173400 556.597413 487.304728 553.862560 485.018724 551.127706 484.822520 548.392852 496.484403 545.657999 496.396442 542.923145 493.306829 540.188291 494.748218 537.453438 496.979960 534.718584 489.999428 531.983730 492.318560 529.248877 490.439162 526.514023 496.056640 523.779170 490.595417 521.044316 490.254064 518.309462 488.810124 515.574609 501.256136 512.839755 491.736294 510.104901 492.420045 507.370048 479.673680 504.635194 484.283366 501.900340 498.287117 499.165487 484.539480 496.430633 482.535478 493.695779 493.493889 490.960926 509.300748 488.226072 514.814387 485.491219 516.090186 482.756365 510.987222 480.021511 505.283648 477.286658 504.892351 474.551804 502.929157 471.816950 510.959473 469.082097 506.108973 466.347243 502.800153 463.612389 508.218494 460.877536 511.776216 458.142682 508.603080 455.407828 506.716108 452.672975 507.180901 449.938121 511.359960 447.203268 502.063526 444.468414 492.138824 441.733560 505.777937 438.998707 504.677219 436.263853 503.563541 433.528999 512.098652 430.794146 513.042410 428.059292 510.479118 425.324438 510.923973 422.589585 507.605386 419.854731 507.451059 417.119877 511.688791 414.385024 505.963909 411.650170 497.948739 408.915317 504.121522 406.180463 503.087311 403.445609 493.426100 400.710756 497.276775 397.975902 500.697649 395.241048 505.103242 392.506195 505.707501 389.771341 508.635264 387.036487 504.771522 384.301634 509.979635 381.566780 500.371885 378.831926 502.879537 376.097073 501.359873 373.362219 509.153145 370.627366 503.683997 367.892512 478.561447 365.157658 475.083259 362.422805 504.569899 359.687951 507.078113 356.953097 503.868650 354.218244 494.263720 351.483390 512.008853 348.748536 496.682534 346.013683 498.968866 343.278829 502.404892 340.543975 500.282870 337.809122 508.808701 335.074268 498.676228 332.339415 499.299029 329.604561 500.462274 326.869707 506.446048 324.134854 498.931833 321.400000 495.043428 318.665146 498.268223 315.930293 499.678746 313.195439 506.144109 310.460585 501.804949 307.725732 496.727039 304.990878 512.720292 302.256025 497.792183 299.521171 516.645119 296.786317 505.948695 294.051464 504.322856 291.316610 507.388792 288.581756 503.858098 285.846903 512.617925 283.112049 505.437094 280.377195 498.544867 277.642342 503.895842 274.907488 509.557056 272.172634 507.797244 269.437781 498.730177 266.702927 508.429677 263.968074 508.605965 261.233220 504.969856 258.498366 498.801210 255.763513 501.243515 253.028659 511.805232 250.293805 502.442122 247.558952 499.078901 244.824098 500.739575 242.089244 507.945816 239.354391 497.635131 236.619537 506.283769 233.884683 518.037188 231.149830 504.447352 228.414976 502.044569 225.680123 495.476636 222.945269 505.300808 220.210415 513.533003 217.475562 514.956315 214.740708 510.565237 212.005854 511.806222 209.271001 513.279975 206.536147 511.699891 203.801293 511.781473 201.066440 516.771461 198.331586 512.390215 195.596732 513.471124 192.861879 513.127542 190.127025 511.991284 187.392172 514.334690 184.657318 513.318810 181.922464 510.165363 179.187611 508.404105 176.452757 512.479528 173.717903 516.679729 170.983050 510.151694 168.248196 501.385514 165.513342 514.104500 162.778489 510.187885 160.043635 512.540311 157.308781 511.613052 154.573928 513.016140 151.839074 512.875053 149.104221 517.324951 146.369367 510.086288 143.634513 515.325379 140.899660 513.487867 138.164806 514.553737 135.429952 515.781800 132.695099 515.682500 129.960245 518.008651 127.225391 519.734177 124.490538 518.991951 121.755684 517.443141 119.020830 518.312811 116.285977 515.668846 113.551123 515.327549 110.816270 517.206074 108.081416 516.226254 105.346562 513.685917 102.611709 506.168238 99.876855 514.723107 97.142001 516.908174 94.407148 518.026543 91.672294 516.044031 88.937440 514.704147 86.202587 516.165581 83.467733 514.079890 80.732880 514.152752 77.998026 515.502842 75.263172 512.974609 72.528319 515.858546 69.793465 520.790787 67.058611 521.520678 64.323758 517.803287 61.588904 519.320112 58.854050 520.922993 56.119197 521.041241 53.384343 521.004050 50.649489 519.590773 47.914636 518.464414 45.179782 511.712521 42.444929 519.030381 39.710075 519.653660 36.975221 522.202755 34.240368 520.833247 31.505514 520.015612 28.770660 520.127335 26.035807 521.861742 23.300953 522.606451 20.566099 523.602388 17.831246 523.426521 15.096392 523.175707 12.361538 522.565380\"/></g><g class=\"series serie-7 color-7\"><path class=\"line reactive\" d=\"M12.361538 522.538365 L15.096392 523.034138 17.831246 523.350960 20.566099 523.475680 23.300953 522.600375 26.035807 521.479315 28.770660 519.198868 31.505514 519.021868 34.240368 520.809770 36.975221 521.946644 39.710075 519.168417 42.444929 518.420070 45.179782 510.434066 47.914636 517.814028 50.649489 519.371639 53.384343 520.813517 56.119197 519.999916 58.854050 520.810423 61.588904 516.166441 64.323758 516.295166 67.058611 521.139435 69.793465 520.493832 72.528319 514.122995 75.263172 509.633098 77.998026 514.662642 80.732880 511.495374 83.467733 512.129615 86.202587 513.299966 88.937440 513.067461 91.672294 514.423178 94.407148 516.315915 97.142001 516.006449 99.876855 513.308434 102.611709 505.633400 105.346562 509.536038 108.081416 515.281424 110.816270 515.885937 113.551123 515.067271 116.285977 514.776346 119.020830 515.220785 121.755684 515.716127 124.490538 515.853804 127.225391 516.993784 129.960245 514.912953 132.695099 512.771246 135.429952 511.685692 138.164806 512.816467 140.899660 512.354127 143.634513 514.418005 146.369367 507.702365 149.104221 516.206916 151.839074 510.033686 154.573928 511.330947 157.308781 508.356726 160.043635 506.620647 162.778489 503.086852 165.513342 511.490694 168.248196 500.588541 170.983050 508.415800 173.717903 515.532529 176.452757 510.109751 179.187611 503.744177 181.922464 506.964199 184.657318 507.186243 187.392172 510.542003 190.127025 511.612006 192.861879 508.888208 195.596732 509.597999 198.331586 511.180943 201.066440 516.320560 203.801293 508.531614 206.536147 510.113866 209.271001 508.288020 212.005854 507.987101 214.740708 503.539349 217.475562 510.561733 220.210415 512.491428 222.945269 502.962330 225.680123 485.833995 228.414976 491.768587 231.149830 498.952669 233.884683 514.258445 236.619537 501.613452 239.354391 489.044918 242.089244 502.125237 244.824098 492.729632 247.558952 487.136668 250.293805 489.691984 253.028659 502.893023 255.763513 494.018186 258.498366 492.349185 261.233220 492.630687 263.968074 504.544796 266.702927 503.762367 269.437781 488.497383 272.172634 501.118682 274.907488 503.575053 277.642342 493.668725 280.377195 491.673118 283.112049 496.087976 285.846903 504.671625 288.581756 490.644638 291.316610 488.585996 294.051464 494.747784 296.786317 495.696103 299.521171 509.163709 302.256025 477.010992 304.990878 502.798376 307.725732 482.862075 310.460585 478.156476 313.195439 491.503366 315.930293 477.626285 318.665146 482.303259 321.400000 484.018837 324.134854 470.781165 326.869707 490.461606 329.604561 489.151431 332.339415 479.147195 335.074268 484.021840 337.809122 499.308358 340.543975 489.575659 343.278829 483.381022 346.013683 479.342318 348.748536 483.958936 351.483390 502.776640 354.218244 489.694186 356.953097 482.749931 359.687951 488.631560 362.422805 496.095419 365.157658 470.290093 367.892512 466.089131 370.627366 494.598944 373.362219 496.751708 376.097073 473.738823 378.831926 486.127957 381.566780 477.190934 384.301634 495.333174 387.036487 490.287086 389.771341 483.267079 392.506195 486.692394 395.241048 492.915310 397.975902 492.645458 400.710756 477.381541 403.445609 476.675685 406.180463 478.673737 408.915317 483.830156 411.650170 477.783915 414.385024 490.204475 417.119877 497.913088 419.854731 488.995554 422.589585 485.642321 425.324438 498.000329 428.059292 499.470428 430.794146 503.033015 433.528999 501.636783 436.263853 498.643079 438.998707 483.395106 441.733560 486.654793 444.468414 479.639260 447.203268 487.073586 449.938121 498.479326 452.672975 496.484352 455.407828 492.416769 458.142682 499.344170 460.877536 503.603843 463.612389 503.873370 466.347243 496.898384 469.082097 500.902799 471.816950 502.717562 474.551804 484.642669 477.286658 494.338605 480.021511 492.786285 482.756365 503.713047 485.491219 513.423437 488.226072 503.506287 490.960926 497.188465 493.695779 483.825511 496.430633 477.969699 499.165487 478.329855 501.900340 492.809264 504.635194 477.625003 507.370048 470.575555 510.104901 477.975976 512.839755 481.657014 515.574609 493.967702 518.309462 481.830939 521.044316 483.460967 523.779170 477.243383 526.514023 489.258377 529.248877 485.055942 531.983730 485.517428 534.718584 481.393037 537.453438 492.011420 540.188291 487.165376 542.923145 488.052823 545.657999 490.136603 548.392852 488.692043 551.127706 476.971370 553.862560 469.960371 556.597413 477.780241 559.332267 483.286426 562.067120 466.320127 564.801974 486.693955 567.536828 468.429580 570.271681 481.383829 573.006535 475.128408 575.741389 469.198284 578.476242 452.482706 581.211096 480.076951 583.945950 467.786608 586.680803 463.425114 589.415657 479.763380 592.150511 482.125877 594.885364 474.028036 597.620218 477.458729 600.355071 478.438619 603.089925 480.175108 605.824779 472.729622 608.559632 487.114880 611.294486 488.758803 614.029340 489.796767 616.764193 493.564227 619.499047 480.145119 622.233901 479.785613 624.968754 485.719168 627.703608 473.458410 630.438462 491.676298 630.438462 492.360988 627.703608 474.025456 624.968754 486.379744 622.233901 483.212136 619.499047 481.003924 616.764193 493.994613 614.029340 490.750015 611.294486 490.389100 608.559632 489.400542 605.824779 475.429506 603.089925 482.402224 600.355071 480.060023 597.620218 480.420156 594.885364 476.968482 592.150511 484.806822 589.415657 483.297044 586.680803 466.287399 583.945950 471.999291 581.211096 482.573992 578.476242 466.683744 575.741389 471.943054 573.006535 477.747079 570.271681 483.185845 567.536828 470.482053 564.801974 488.845000 562.067120 469.486283 559.332267 490.539989 556.597413 479.816934 553.862560 474.999763 551.127706 479.286242 548.392852 491.690225 545.657999 494.569918 542.923145 492.009502 540.188291 489.968372 537.453438 494.122655 534.718584 486.817683 531.983730 489.368605 529.248877 488.114658 526.514023 493.702108 523.779170 483.472637 521.044316 487.431162 518.309462 485.381333 515.574609 499.104419 512.839755 487.518158 510.104901 488.084882 507.370048 475.573104 504.635194 481.430742 501.900340 496.540435 499.165487 482.078909 496.430633 480.554346 493.695779 489.088940 490.960926 501.337780 488.226072 505.129175 485.491219 514.514460 482.756365 505.658838 480.021511 498.869561 477.286658 499.534221 474.551804 492.448241 471.816950 504.242030 469.082097 503.474713 466.347243 501.269020 463.612389 505.693044 460.877536 508.388786 458.142682 502.521426 455.407828 496.376715 452.672975 501.264873 449.938121 503.771809 447.203268 490.374918 444.468414 483.579984 441.733560 490.993884 438.998707 488.744210 436.263853 501.201534 433.528999 505.674190 430.794146 504.825276 428.059292 502.427638 425.324438 499.783455 422.589585 492.624173 419.854731 498.911956 417.119877 500.856225 414.385024 496.446169 411.650170 484.161829 408.915317 492.626843 406.180463 486.139161 403.445609 488.440931 400.710756 491.003397 397.975902 495.774882 395.241048 498.344485 392.506195 493.550936 389.771341 490.938794 387.036487 494.658287 384.301634 500.155656 381.566780 487.701168 378.831926 495.196371 376.097073 486.766604 373.362219 504.411919 370.627366 500.553995 367.892512 474.283225 365.157658 473.539508 362.422805 499.190176 359.687951 494.079238 356.953097 492.788981 354.218244 492.144583 351.483390 504.863878 348.748536 490.765499 346.013683 491.140909 343.278829 491.262449 340.543975 496.295474 337.809122 505.629500 335.074268 496.298236 332.339415 497.319271 329.604561 496.379239 326.869707 499.693072 324.134854 483.772881 321.400000 490.186547 318.665146 490.802986 315.930293 492.625264 313.195439 500.518675 310.460585 491.692370 307.725732 491.633274 304.990878 511.735852 302.256025 494.111084 299.521171 515.547271 296.786317 504.620301 294.051464 501.258077 291.316610 497.231907 288.581756 501.389610 285.846903 510.823735 283.112049 503.542412 280.377195 497.857429 277.642342 501.714214 274.907488 508.100237 272.172634 507.676068 269.437781 497.929855 266.702927 507.969590 263.968074 508.040047 261.233220 502.298699 258.498366 495.964609 255.763513 500.039098 253.028659 510.762720 250.293805 501.287723 247.558952 498.201526 244.824098 499.893240 242.089244 506.672371 239.354391 495.998318 236.619537 506.174538 233.884683 517.514805 231.149830 503.321431 228.414976 498.801795 225.680123 489.522672 222.945269 504.506654 220.210415 513.122561 217.475562 514.265812 214.740708 510.106619 212.005854 509.404734 209.271001 511.306755 206.536147 511.528532 203.801293 511.362844 201.066440 516.735468 198.331586 511.968421 195.596732 511.783170 192.861879 511.026440 190.127025 511.903634 187.392172 513.410429 184.657318 511.897346 181.922464 508.232431 179.187611 507.704656 176.452757 511.556861 173.717903 516.446347 170.983050 510.077619 168.248196 501.190923 165.513342 513.409494 162.778489 508.432090 160.043635 509.345987 157.308781 511.303580 154.573928 512.876272 151.839074 512.360575 149.104221 517.183672 146.369367 509.872401 143.634513 515.144821 140.899660 513.322227 138.164806 514.293340 135.429952 515.588744 132.695099 515.245489 129.960245 517.393582 127.225391 519.225513 124.490538 518.814098 121.755684 516.898417 119.020830 517.818822 116.285977 515.515503 113.551123 515.139120 110.816270 517.154821 108.081416 515.831069 105.346562 513.414176 102.611709 506.123419 99.876855 514.369924 97.142001 516.631824 94.407148 517.495954 91.672294 515.115851 88.937440 514.059032 86.202587 515.812177 83.467733 513.917777 80.732880 513.541152 77.998026 515.212569 75.263172 512.744149 72.528319 515.700239 69.793465 520.493832 67.058611 521.221454 64.323758 516.783994 61.588904 516.188164 58.854050 520.874219 56.119197 520.196175 53.384343 520.813517 50.649489 519.396316 47.914636 517.882518 45.179782 511.037141 42.444929 518.849647 39.710075 519.650919 36.975221 522.123710 34.240368 520.815551 31.505514 519.650400 28.770660 519.244100 26.035807 521.686622 23.300953 522.600375 20.566099 523.602388 17.831246 523.426521 15.096392 523.175707 12.361538 522.538365\"/></g><g class=\"series serie-8 color-8\"><path class=\"line reactive\" d=\"M12.361538 522.538365 L15.096392 523.034138 17.831246 523.350960 20.566099 523.475680 23.300953 522.600375 26.035807 521.413624 28.770660 518.789389 31.505514 518.869325 34.240368 520.482425 36.975221 520.934220 39.710075 518.388852 42.444929 518.200030 45.179782 510.264656 47.914636 517.587817 50.649489 519.188198 53.384343 520.529803 56.119197 519.985158 58.854050 520.802690 61.588904 515.825856 64.323758 516.220797 67.058611 521.048577 69.793465 520.344514 72.528319 513.238837 75.263172 509.117133 77.998026 514.002613 80.732880 511.266303 83.467733 511.454836 86.202587 512.956582 88.937440 512.748573 91.672294 514.196911 94.407148 516.302930 97.142001 515.918298 99.876855 512.468107 102.611709 499.201006 105.346562 508.955430 108.081416 514.990199 110.816270 515.756672 113.551123 514.828354 116.285977 514.445138 119.020830 514.871003 121.755684 515.450478 124.490538 515.814614 127.225391 516.844351 129.960245 514.614095 132.695099 512.452290 135.429952 511.155331 138.164806 512.409392 140.899660 512.086783 143.634513 514.131212 146.369367 507.139952 149.104221 515.367748 151.839074 509.517017 154.573928 510.747512 157.308781 507.404303 160.043635 505.499491 162.778489 502.669015 165.513342 509.850839 168.248196 471.685285 170.983050 501.566904 173.717903 515.362783 176.452757 509.568180 179.187611 501.667371 181.922464 506.285035 184.657318 506.696457 187.392172 510.376071 190.127025 511.337321 192.861879 507.883922 195.596732 509.226201 198.331586 510.557913 201.066440 516.003441 203.801293 508.286847 206.536147 509.375406 209.271001 507.656851 212.005854 507.339526 214.740708 503.179032 217.475562 510.207835 220.210415 512.067394 222.945269 502.058528 225.680123 483.463099 228.414976 490.662795 231.149830 497.357395 233.884683 513.940659 236.619537 495.355062 239.354391 482.512925 242.089244 499.327322 244.824098 488.792366 247.558952 483.443905 250.293805 486.588007 253.028659 501.235761 255.763513 492.052603 258.498366 489.236521 261.233220 490.481995 263.968074 502.924328 266.702927 502.004497 269.437781 486.299567 272.172634 498.580485 274.907488 502.348862 277.642342 491.230996 280.377195 489.514950 283.112049 494.012219 285.846903 503.171500 288.581756 488.607501 291.316610 485.805965 294.051464 493.396721 296.786317 494.145633 299.521171 508.149448 302.256025 474.483574 304.990878 501.590828 307.725732 479.612300 310.460585 475.556888 313.195439 490.306939 315.930293 474.792357 318.665146 480.298831 321.400000 481.243870 324.134854 467.821967 326.869707 488.544606 329.604561 486.088832 332.339415 476.657485 335.074268 480.704618 337.809122 497.377252 340.543975 485.228239 343.278829 479.205324 346.013683 472.713138 348.748536 481.401378 351.483390 500.802622 354.218244 488.396971 356.953097 480.012120 359.687951 485.826988 362.422805 492.348180 365.157658 456.352713 367.892512 458.686484 370.627366 488.935818 373.362219 492.438827 376.097073 470.447266 378.831926 478.953084 381.566780 474.869584 384.301634 493.378664 387.036487 485.376118 389.771341 480.724804 392.506195 483.160466 395.241048 489.922666 397.975902 490.091742 400.710756 474.481296 403.445609 472.394046 406.180463 474.165155 408.915317 479.277042 411.650170 472.696756 414.385024 486.431957 417.119877 495.443598 419.854731 487.190020 422.589585 483.977022 425.324438 496.093477 428.059292 497.002471 430.794146 502.173010 433.528999 500.196668 436.263853 496.610255 438.998707 481.438064 441.733560 482.684074 444.468414 476.067539 447.203268 484.232751 449.938121 497.347869 452.672975 495.241224 455.407828 489.573970 458.142682 495.989246 460.877536 499.790285 463.612389 502.466706 466.347243 495.093558 469.082097 498.755061 471.816950 501.552482 474.551804 483.029028 477.286658 492.661700 480.021511 490.546501 482.756365 503.259661 485.491219 512.903153 488.226072 502.417452 490.960926 495.900870 493.695779 482.015019 496.430633 471.019704 499.165487 475.347556 501.900340 490.647474 504.635194 474.449788 507.370048 466.561871 510.104901 476.188037 512.839755 479.687969 515.574609 492.279634 518.309462 479.800359 521.044316 481.263706 523.779170 474.623394 526.514023 488.280690 529.248877 482.393712 531.983730 483.868467 534.718584 479.593110 537.453438 490.484641 540.188291 485.368896 542.923145 486.814157 545.657999 487.530319 548.392852 486.969227 551.127706 474.524115 553.862560 467.424980 556.597413 474.901021 559.332267 481.513279 562.067120 463.982989 564.801974 484.559451 567.536828 467.131034 570.271681 479.505442 573.006535 470.830833 575.741389 465.206931 578.476242 449.680976 581.211096 478.106764 583.945950 463.926187 586.680803 458.785967 589.415657 476.621420 592.150511 478.346219 594.885364 470.183132 597.620218 475.271284 600.355071 475.734785 603.089925 476.054670 605.824779 467.250328 608.559632 484.058775 611.294486 487.457212 614.029340 487.796015 616.764193 492.465118 619.499047 477.547759 622.233901 476.577558 624.968754 482.530290 627.703608 469.998364 630.438462 486.916702 630.438462 491.676298 627.703608 473.458410 624.968754 485.719168 622.233901 479.785613 619.499047 480.145119 616.764193 493.564227 614.029340 489.796767 611.294486 488.758803 608.559632 487.114880 605.824779 472.729622 603.089925 480.175108 600.355071 478.438619 597.620218 477.458729 594.885364 474.028036 592.150511 482.125877 589.415657 479.763380 586.680803 463.425114 583.945950 467.786608 581.211096 480.076951 578.476242 452.482706 575.741389 469.198284 573.006535 475.128408 570.271681 481.383829 567.536828 468.429580 564.801974 486.693955 562.067120 466.320127 559.332267 483.286426 556.597413 477.780241 553.862560 469.960371 551.127706 476.971370 548.392852 488.692043 545.657999 490.136603 542.923145 488.052823 540.188291 487.165376 537.453438 492.011420 534.718584 481.393037 531.983730 485.517428 529.248877 485.055942 526.514023 489.258377 523.779170 477.243383 521.044316 483.460967 518.309462 481.830939 515.574609 493.967702 512.839755 481.657014 510.104901 477.975976 507.370048 470.575555 504.635194 477.625003 501.900340 492.809264 499.165487 478.329855 496.430633 477.969699 493.695779 483.825511 490.960926 497.188465 488.226072 503.506287 485.491219 513.423437 482.756365 503.713047 480.021511 492.786285 477.286658 494.338605 474.551804 484.642669 471.816950 502.717562 469.082097 500.902799 466.347243 496.898384 463.612389 503.873370 460.877536 503.603843 458.142682 499.344170 455.407828 492.416769 452.672975 496.484352 449.938121 498.479326 447.203268 487.073586 444.468414 479.639260 441.733560 486.654793 438.998707 483.395106 436.263853 498.643079 433.528999 501.636783 430.794146 503.033015 428.059292 499.470428 425.324438 498.000329 422.589585 485.642321 419.854731 488.995554 417.119877 497.913088 414.385024 490.204475 411.650170 477.783915 408.915317 483.830156 406.180463 478.673737 403.445609 476.675685 400.710756 477.381541 397.975902 492.645458 395.241048 492.915310 392.506195 486.692394 389.771341 483.267079 387.036487 490.287086 384.301634 495.333174 381.566780 477.190934 378.831926 486.127957 376.097073 473.738823 373.362219 496.751708 370.627366 494.598944 367.892512 466.089131 365.157658 470.290093 362.422805 496.095419 359.687951 488.631560 356.953097 482.749931 354.218244 489.694186 351.483390 502.776640 348.748536 483.958936 346.013683 479.342318 343.278829 483.381022 340.543975 489.575659 337.809122 499.308358 335.074268 484.021840 332.339415 479.147195 329.604561 489.151431 326.869707 490.461606 324.134854 470.781165 321.400000 484.018837 318.665146 482.303259 315.930293 477.626285 313.195439 491.503366 310.460585 478.156476 307.725732 482.862075 304.990878 502.798376 302.256025 477.010992 299.521171 509.163709 296.786317 495.696103 294.051464 494.747784 291.316610 488.585996 288.581756 490.644638 285.846903 504.671625 283.112049 496.087976 280.377195 491.673118 277.642342 493.668725 274.907488 503.575053 272.172634 501.118682 269.437781 488.497383 266.702927 503.762367 263.968074 504.544796 261.233220 492.630687 258.498366 492.349185 255.763513 494.018186 253.028659 502.893023 250.293805 489.691984 247.558952 487.136668 244.824098 492.729632 242.089244 502.125237 239.354391 489.044918 236.619537 501.613452 233.884683 514.258445 231.149830 498.952669 228.414976 491.768587 225.680123 485.833995 222.945269 502.962330 220.210415 512.491428 217.475562 510.561733 214.740708 503.539349 212.005854 507.987101 209.271001 508.288020 206.536147 510.113866 203.801293 508.531614 201.066440 516.320560 198.331586 511.180943 195.596732 509.597999 192.861879 508.888208 190.127025 511.612006 187.392172 510.542003 184.657318 507.186243 181.922464 506.964199 179.187611 503.744177 176.452757 510.109751 173.717903 515.532529 170.983050 508.415800 168.248196 500.588541 165.513342 511.490694 162.778489 503.086852 160.043635 506.620647 157.308781 508.356726 154.573928 511.330947 151.839074 510.033686 149.104221 516.206916 146.369367 507.702365 143.634513 514.418005 140.899660 512.354127 138.164806 512.816467 135.429952 511.685692 132.695099 512.771246 129.960245 514.912953 127.225391 516.993784 124.490538 515.853804 121.755684 515.716127 119.020830 515.220785 116.285977 514.776346 113.551123 515.067271 110.816270 515.885937 108.081416 515.281424 105.346562 509.536038 102.611709 505.633400 99.876855 513.308434 97.142001 516.006449 94.407148 516.315915 91.672294 514.423178 88.937440 513.067461 86.202587 513.299966 83.467733 512.129615 80.732880 511.495374 77.998026 514.662642 75.263172 509.633098 72.528319 514.122995 69.793465 520.493832 67.058611 521.139435 64.323758 516.295166 61.588904 516.166441 58.854050 520.810423 56.119197 519.999916 53.384343 520.813517 50.649489 519.371639 47.914636 517.814028 45.179782 510.434066 42.444929 518.420070 39.710075 519.168417 36.975221 521.946644 34.240368 520.809770 31.505514 519.021868 28.770660 519.198868 26.035807 521.479315 23.300953 522.600375 20.566099 523.475680 17.831246 523.350960 15.096392 523.034138 12.361538 522.538365\"/></g><g class=\"series serie-9 color-9\"><path class=\"line reactive\" d=\"M12.361538 522.483842 L15.096392 523.034138 17.831246 523.350960 20.566099 523.413603 23.300953 522.589529 26.035807 521.227418 28.770660 518.436339 31.505514 518.810758 34.240368 520.288594 36.975221 520.905164 39.710075 518.352875 42.444929 517.736995 45.179782 510.219475 47.914636 517.330258 50.649489 518.892662 53.384343 520.368894 56.119197 519.621133 58.854050 520.778428 61.588904 515.604077 64.323758 515.804737 67.058611 520.921539 69.793465 520.280779 72.528319 512.591198 75.263172 508.911406 77.998026 513.622584 80.732880 510.657864 83.467733 511.176375 86.202587 512.333564 88.937440 512.520391 91.672294 513.726506 94.407148 515.343929 97.142001 514.982603 99.876855 511.237829 102.611709 496.211506 105.346562 506.503892 108.081416 512.654123 110.816270 511.557704 113.551123 512.672970 116.285977 513.384383 119.020830 514.074981 121.755684 514.845169 124.490538 515.342557 127.225391 515.930539 129.960245 511.279156 132.695099 511.670175 135.429952 508.938702 138.164806 511.990855 140.899660 508.254642 143.634513 512.307467 146.369367 504.557996 149.104221 512.586271 151.839074 507.743028 154.573928 509.652622 157.308781 506.503007 160.043635 503.175563 162.778489 501.107936 165.513342 508.055094 168.248196 462.797724 170.983050 499.855171 173.717903 514.525693 176.452757 508.777055 179.187611 496.527756 181.922464 500.523598 184.657318 503.934367 187.392172 508.148245 190.127025 508.888866 192.861879 505.314161 195.596732 502.342500 198.331586 509.244997 201.066440 515.730674 203.801293 507.769960 206.536147 506.833628 209.271001 504.690729 212.005854 504.250612 214.740708 501.306084 217.475562 508.216286 220.210415 511.459771 222.945269 500.799265 225.680123 481.339715 228.414976 489.006459 231.149830 496.222856 233.884683 513.268695 236.619537 494.000731 239.354391 479.072698 242.089244 497.662464 244.824098 485.925536 247.558952 480.404209 250.293805 485.727643 253.028659 500.270971 255.763513 489.781978 258.498366 485.063024 261.233220 489.475721 263.968074 501.014535 266.702927 501.036401 269.437781 485.428497 272.172634 496.539792 274.907488 501.300991 277.642342 488.743142 280.377195 486.810562 283.112049 492.191566 285.846903 500.822984 288.581756 487.976398 291.316610 483.254967 294.051464 490.693521 296.786317 493.572332 299.521171 507.958201 302.256025 472.001806 304.990878 500.452446 307.725732 477.159678 310.460585 471.638757 313.195439 487.548801 315.930293 470.437317 318.665146 479.212466 321.400000 478.305983 324.134854 464.706230 326.869707 485.229478 329.604561 483.340471 332.339415 473.292682 335.074268 478.597258 337.809122 494.767832 340.543975 483.183805 343.278829 476.531473 346.013683 466.004750 348.748536 475.425814 351.483390 500.086080 354.218244 480.125122 356.953097 475.688542 359.687951 480.270783 362.422805 487.306658 365.157658 455.152653 367.892512 456.107104 370.627366 484.176271 373.362219 486.942195 376.097073 467.383181 378.831926 476.038810 381.566780 470.916659 384.301634 490.204602 387.036487 482.842176 389.771341 476.253453 392.506195 478.242937 395.241048 484.793616 397.975902 484.096369 400.710756 469.395395 403.445609 466.025286 406.180463 470.246017 408.915317 474.909843 411.650170 466.970450 414.385024 485.128822 417.119877 494.931964 419.854731 485.138859 422.589585 481.068132 425.324438 493.897826 428.059292 492.793911 430.794146 500.273768 433.528999 486.539167 436.263853 491.489467 438.998707 476.588993 441.733560 476.861927 444.468414 469.259016 447.203268 479.243624 449.938121 495.850092 452.672975 493.898069 455.407828 483.160442 458.142682 492.618381 460.877536 495.658554 463.612389 499.421337 466.347243 493.301730 469.082097 496.840603 471.816950 499.734102 474.551804 479.787786 477.286658 490.023495 480.021511 488.138047 482.756365 501.397923 485.491219 511.245294 488.226072 501.192425 490.960926 493.090570 493.695779 479.076184 496.430633 467.643279 499.165487 470.423752 501.900340 485.669600 504.635194 469.280069 507.370048 458.208375 510.104901 471.197878 512.839755 472.936710 515.574609 489.639007 518.309462 476.514018 521.044316 472.661505 523.779170 467.194254 526.514023 481.109478 529.248877 466.453932 531.983730 472.038691 534.718584 471.787294 537.453438 485.256169 540.188291 479.075829 542.923145 479.832628 545.657999 484.159316 548.392852 486.093469 551.127706 470.786665 553.862560 460.490576 556.597413 470.316256 559.332267 474.568876 562.067120 455.077020 564.801974 476.062211 567.536828 459.649494 570.271681 472.317888 573.006535 458.972569 575.741389 457.204464 578.476242 446.506999 581.211096 476.836630 583.945950 460.158999 586.680803 452.502826 589.415657 472.681885 592.150511 473.048958 594.885364 460.464161 597.620218 468.875356 600.355071 472.104477 603.089925 474.295163 605.824779 464.392368 608.559632 481.765878 611.294486 482.849654 614.029340 486.751959 616.764193 491.316646 619.499047 474.889518 622.233901 475.097357 624.968754 478.778164 627.703608 466.321396 630.438462 485.669243 630.438462 486.916702 627.703608 469.998364 624.968754 482.530290 622.233901 476.577558 619.499047 477.547759 616.764193 492.465118 614.029340 487.796015 611.294486 487.457212 608.559632 484.058775 605.824779 467.250328 603.089925 476.054670 600.355071 475.734785 597.620218 475.271284 594.885364 470.183132 592.150511 478.346219 589.415657 476.621420 586.680803 458.785967 583.945950 463.926187 581.211096 478.106764 578.476242 449.680976 575.741389 465.206931 573.006535 470.830833 570.271681 479.505442 567.536828 467.131034 564.801974 484.559451 562.067120 463.982989 559.332267 481.513279 556.597413 474.901021 553.862560 467.424980 551.127706 474.524115 548.392852 486.969227 545.657999 487.530319 542.923145 486.814157 540.188291 485.368896 537.453438 490.484641 534.718584 479.593110 531.983730 483.868467 529.248877 482.393712 526.514023 488.280690 523.779170 474.623394 521.044316 481.263706 518.309462 479.800359 515.574609 492.279634 512.839755 479.687969 510.104901 476.188037 507.370048 466.561871 504.635194 474.449788 501.900340 490.647474 499.165487 475.347556 496.430633 471.019704 493.695779 482.015019 490.960926 495.900870 488.226072 502.417452 485.491219 512.903153 482.756365 503.259661 480.021511 490.546501 477.286658 492.661700 474.551804 483.029028 471.816950 501.552482 469.082097 498.755061 466.347243 495.093558 463.612389 502.466706 460.877536 499.790285 458.142682 495.989246 455.407828 489.573970 452.672975 495.241224 449.938121 497.347869 447.203268 484.232751 444.468414 476.067539 441.733560 482.684074 438.998707 481.438064 436.263853 496.610255 433.528999 500.196668 430.794146 502.173010 428.059292 497.002471 425.324438 496.093477 422.589585 483.977022 419.854731 487.190020 417.119877 495.443598 414.385024 486.431957 411.650170 472.696756 408.915317 479.277042 406.180463 474.165155 403.445609 472.394046 400.710756 474.481296 397.975902 490.091742 395.241048 489.922666 392.506195 483.160466 389.771341 480.724804 387.036487 485.376118 384.301634 493.378664 381.566780 474.869584 378.831926 478.953084 376.097073 470.447266 373.362219 492.438827 370.627366 488.935818 367.892512 458.686484 365.157658 456.352713 362.422805 492.348180 359.687951 485.826988 356.953097 480.012120 354.218244 488.396971 351.483390 500.802622 348.748536 481.401378 346.013683 472.713138 343.278829 479.205324 340.543975 485.228239 337.809122 497.377252 335.074268 480.704618 332.339415 476.657485 329.604561 486.088832 326.869707 488.544606 324.134854 467.821967 321.400000 481.243870 318.665146 480.298831 315.930293 474.792357 313.195439 490.306939 310.460585 475.556888 307.725732 479.612300 304.990878 501.590828 302.256025 474.483574 299.521171 508.149448 296.786317 494.145633 294.051464 493.396721 291.316610 485.805965 288.581756 488.607501 285.846903 503.171500 283.112049 494.012219 280.377195 489.514950 277.642342 491.230996 274.907488 502.348862 272.172634 498.580485 269.437781 486.299567 266.702927 502.004497 263.968074 502.924328 261.233220 490.481995 258.498366 489.236521 255.763513 492.052603 253.028659 501.235761 250.293805 486.588007 247.558952 483.443905 244.824098 488.792366 242.089244 499.327322 239.354391 482.512925 236.619537 495.355062 233.884683 513.940659 231.149830 497.357395 228.414976 490.662795 225.680123 483.463099 222.945269 502.058528 220.210415 512.067394 217.475562 510.207835 214.740708 503.179032 212.005854 507.339526 209.271001 507.656851 206.536147 509.375406 203.801293 508.286847 201.066440 516.003441 198.331586 510.557913 195.596732 509.226201 192.861879 507.883922 190.127025 511.337321 187.392172 510.376071 184.657318 506.696457 181.922464 506.285035 179.187611 501.667371 176.452757 509.568180 173.717903 515.362783 170.983050 501.566904 168.248196 471.685285 165.513342 509.850839 162.778489 502.669015 160.043635 505.499491 157.308781 507.404303 154.573928 510.747512 151.839074 509.517017 149.104221 515.367748 146.369367 507.139952 143.634513 514.131212 140.899660 512.086783 138.164806 512.409392 135.429952 511.155331 132.695099 512.452290 129.960245 514.614095 127.225391 516.844351 124.490538 515.814614 121.755684 515.450478 119.020830 514.871003 116.285977 514.445138 113.551123 514.828354 110.816270 515.756672 108.081416 514.990199 105.346562 508.955430 102.611709 499.201006 99.876855 512.468107 97.142001 515.918298 94.407148 516.302930 91.672294 514.196911 88.937440 512.748573 86.202587 512.956582 83.467733 511.454836 80.732880 511.266303 77.998026 514.002613 75.263172 509.117133 72.528319 513.238837 69.793465 520.344514 67.058611 521.048577 64.323758 516.220797 61.588904 515.825856 58.854050 520.802690 56.119197 519.985158 53.384343 520.529803 50.649489 519.188198 47.914636 517.587817 45.179782 510.264656 42.444929 518.200030 39.710075 518.388852 36.975221 520.934220 34.240368 520.482425 31.505514 518.869325 28.770660 518.789389 26.035807 521.413624 23.300953 522.600375 20.566099 523.475680 17.831246 523.350960 15.096392 523.034138 12.361538 522.538365\"/></g><g class=\"series serie-10 color-10\"><path class=\"line reactive\" d=\"M12.361538 522.457339 L15.096392 522.891352 17.831246 523.347284 20.566099 523.413272 23.300953 522.589529 26.035807 520.671115 28.770660 518.048781 31.505514 518.283231 34.240368 519.799541 36.975221 520.319336 39.710075 517.065962 42.444929 515.992971 45.179782 510.012885 47.914636 516.642052 50.649489 517.331775 53.384343 519.032431 56.119197 518.590241 58.854050 520.542168 61.588904 515.193811 64.323758 515.301310 67.058611 520.109953 69.793465 519.365689 72.528319 509.775983 75.263172 507.282042 77.998026 511.298666 80.732880 509.290623 83.467733 507.918925 86.202587 508.513911 88.937440 508.477417 91.672294 512.957610 94.407148 514.337506 97.142001 513.953313 99.876855 509.377910 102.611709 494.340942 105.346562 502.841656 108.081416 510.564416 110.816270 510.183731 113.551123 512.026176 116.285977 510.687466 119.020830 508.804183 121.755684 512.222749 124.490538 512.874156 127.225391 515.585401 129.960245 510.495131 132.695099 510.012502 135.429952 507.078680 138.164806 509.498208 140.899660 506.734001 143.634513 511.068273 146.369367 502.913083 149.104221 510.923275 151.839074 504.555046 154.573928 506.533628 157.308781 504.652810 160.043635 500.851834 162.778489 499.588486 165.513342 505.529337 168.248196 458.144483 170.983050 496.155750 173.717903 513.448278 176.452757 506.074250 179.187611 494.400303 181.922464 497.310106 184.657318 499.418203 187.392172 506.428871 190.127025 506.944013 192.861879 503.726716 195.596732 500.418141 198.331586 507.024259 201.066440 514.369404 203.801293 505.875871 206.536147 504.335882 209.271001 503.324043 212.005854 502.785785 214.740708 497.471370 217.475562 503.682160 220.210415 509.007839 222.945269 496.300603 225.680123 476.537019 228.414976 484.328454 231.149830 492.315741 233.884683 511.677770 236.619537 489.866848 239.354391 472.113084 242.089244 494.365088 244.824098 481.881324 247.558952 472.611800 250.293805 474.160645 253.028659 495.663371 255.763513 484.721838 258.498366 479.059453 261.233220 484.813406 263.968074 494.136097 266.702927 492.228998 269.437781 474.039230 272.172634 491.551500 274.907488 497.194700 277.642342 483.101120 280.377195 481.125238 283.112049 483.316413 285.846903 493.775747 288.581756 479.177530 291.316610 476.524611 294.051464 484.966282 296.786317 487.457311 299.521171 501.449832 302.256025 455.973495 304.990878 493.509988 307.725732 465.935337 310.460585 461.779028 313.195439 480.140588 315.930293 453.827063 318.665146 462.778032 321.400000 467.493185 324.134854 454.250982 326.869707 475.783418 329.604561 470.057153 332.339415 460.178573 335.074268 455.700117 337.809122 486.022255 340.543975 472.674730 343.278829 462.408896 346.013683 452.837380 348.748536 459.106550 351.483390 491.376973 354.218244 473.515319 356.953097 468.478257 359.687951 473.924943 362.422805 475.342073 365.157658 445.657977 367.892512 436.083469 370.627366 468.404995 373.362219 481.256810 376.097073 458.027956 378.831926 466.881497 381.566780 455.787703 384.301634 478.852400 387.036487 471.215006 389.771341 470.167846 392.506195 471.146412 395.241048 474.456196 397.975902 471.741937 400.710756 451.571585 403.445609 448.742629 406.180463 460.178370 408.915317 466.507906 411.650170 455.665971 414.385024 471.105453 417.119877 482.476573 419.854731 477.178775 422.589585 474.386097 425.324438 487.092005 428.059292 480.761048 430.794146 485.455532 433.528999 467.989882 436.263853 479.725457 438.998707 462.658578 441.733560 466.721251 444.468414 459.946515 447.203268 468.743169 449.938121 483.795598 452.672975 487.493968 455.407828 478.176345 458.142682 487.791991 460.877536 485.057854 463.612389 485.712550 466.347243 473.118556 469.082097 482.272961 471.816950 491.555664 474.551804 472.954913 477.286658 484.174676 480.021511 478.750098 482.756365 491.415050 485.491219 508.448330 488.226072 497.068030 490.960926 488.623354 493.695779 466.121044 496.430633 458.415769 499.165487 449.567131 501.900340 472.458907 504.635194 459.457735 507.370048 446.883454 510.104901 459.349066 512.839755 459.042596 515.574609 478.450076 518.309462 464.798526 521.044316 462.982093 523.779170 456.137381 526.514023 472.499692 529.248877 454.002944 531.983730 458.671623 534.718584 461.868869 537.453438 477.157291 540.188291 466.252832 542.923145 470.188136 545.657999 472.119144 548.392852 472.497020 551.127706 457.465152 553.862560 451.073454 556.597413 458.663682 559.332267 464.114263 562.067120 443.513584 564.801974 465.437974 567.536828 451.938116 570.271681 461.637580 573.006535 449.166030 575.741389 444.751736 578.476242 435.041323 581.211096 464.788791 583.945950 448.911509 586.680803 444.188898 589.415657 465.979082 592.150511 459.574617 594.885364 445.481579 597.620218 450.980142 600.355071 455.245315 603.089925 464.848578 605.824779 450.604130 608.559632 473.139397 611.294486 472.579255 614.029340 476.002413 616.764193 489.593540 619.499047 466.892488 622.233901 465.428689 624.968754 468.198463 627.703608 457.351047 630.438462 475.734165 630.438462 485.669243 627.703608 466.321396 624.968754 478.778164 622.233901 475.097357 619.499047 474.889518 616.764193 491.316646 614.029340 486.751959 611.294486 482.849654 608.559632 481.765878 605.824779 464.392368 603.089925 474.295163 600.355071 472.104477 597.620218 468.875356 594.885364 460.464161 592.150511 473.048958 589.415657 472.681885 586.680803 452.502826 583.945950 460.158999 581.211096 476.836630 578.476242 446.506999 575.741389 457.204464 573.006535 458.972569 570.271681 472.317888 567.536828 459.649494 564.801974 476.062211 562.067120 455.077020 559.332267 474.568876 556.597413 470.316256 553.862560 460.490576 551.127706 470.786665 548.392852 486.093469 545.657999 484.159316 542.923145 479.832628 540.188291 479.075829 537.453438 485.256169 534.718584 471.787294 531.983730 472.038691 529.248877 466.453932 526.514023 481.109478 523.779170 467.194254 521.044316 472.661505 518.309462 476.514018 515.574609 489.639007 512.839755 472.936710 510.104901 471.197878 507.370048 458.208375 504.635194 469.280069 501.900340 485.669600 499.165487 470.423752 496.430633 467.643279 493.695779 479.076184 490.960926 493.090570 488.226072 501.192425 485.491219 511.245294 482.756365 501.397923 480.021511 488.138047 477.286658 490.023495 474.551804 479.787786 471.816950 499.734102 469.082097 496.840603 466.347243 493.301730 463.612389 499.421337 460.877536 495.658554 458.142682 492.618381 455.407828 483.160442 452.672975 493.898069 449.938121 495.850092 447.203268 479.243624 444.468414 469.259016 441.733560 476.861927 438.998707 476.588993 436.263853 491.489467 433.528999 486.539167 430.794146 500.273768 428.059292 492.793911 425.324438 493.897826 422.589585 481.068132 419.854731 485.138859 417.119877 494.931964 414.385024 485.128822 411.650170 466.970450 408.915317 474.909843 406.180463 470.246017 403.445609 466.025286 400.710756 469.395395 397.975902 484.096369 395.241048 484.793616 392.506195 478.242937 389.771341 476.253453 387.036487 482.842176 384.301634 490.204602 381.566780 470.916659 378.831926 476.038810 376.097073 467.383181 373.362219 486.942195 370.627366 484.176271 367.892512 456.107104 365.157658 455.152653 362.422805 487.306658 359.687951 480.270783 356.953097 475.688542 354.218244 480.125122 351.483390 500.086080 348.748536 475.425814 346.013683 466.004750 343.278829 476.531473 340.543975 483.183805 337.809122 494.767832 335.074268 478.597258 332.339415 473.292682 329.604561 483.340471 326.869707 485.229478 324.134854 464.706230 321.400000 478.305983 318.665146 479.212466 315.930293 470.437317 313.195439 487.548801 310.460585 471.638757 307.725732 477.159678 304.990878 500.452446 302.256025 472.001806 299.521171 507.958201 296.786317 493.572332 294.051464 490.693521 291.316610 483.254967 288.581756 487.976398 285.846903 500.822984 283.112049 492.191566 280.377195 486.810562 277.642342 488.743142 274.907488 501.300991 272.172634 496.539792 269.437781 485.428497 266.702927 501.036401 263.968074 501.014535 261.233220 489.475721 258.498366 485.063024 255.763513 489.781978 253.028659 500.270971 250.293805 485.727643 247.558952 480.404209 244.824098 485.925536 242.089244 497.662464 239.354391 479.072698 236.619537 494.000731 233.884683 513.268695 231.149830 496.222856 228.414976 489.006459 225.680123 481.339715 222.945269 500.799265 220.210415 511.459771 217.475562 508.216286 214.740708 501.306084 212.005854 504.250612 209.271001 504.690729 206.536147 506.833628 203.801293 507.769960 201.066440 515.730674 198.331586 509.244997 195.596732 502.342500 192.861879 505.314161 190.127025 508.888866 187.392172 508.148245 184.657318 503.934367 181.922464 500.523598 179.187611 496.527756 176.452757 508.777055 173.717903 514.525693 170.983050 499.855171 168.248196 462.797724 165.513342 508.055094 162.778489 501.107936 160.043635 503.175563 157.308781 506.503007 154.573928 509.652622 151.839074 507.743028 149.104221 512.586271 146.369367 504.557996 143.634513 512.307467 140.899660 508.254642 138.164806 511.990855 135.429952 508.938702 132.695099 511.670175 129.960245 511.279156 127.225391 515.930539 124.490538 515.342557 121.755684 514.845169 119.020830 514.074981 116.285977 513.384383 113.551123 512.672970 110.816270 511.557704 108.081416 512.654123 105.346562 506.503892 102.611709 496.211506 99.876855 511.237829 97.142001 514.982603 94.407148 515.343929 91.672294 513.726506 88.937440 512.520391 86.202587 512.333564 83.467733 511.176375 80.732880 510.657864 77.998026 513.622584 75.263172 508.911406 72.528319 512.591198 69.793465 520.280779 67.058611 520.921539 64.323758 515.804737 61.588904 515.604077 58.854050 520.778428 56.119197 519.621133 53.384343 520.368894 50.649489 518.892662 47.914636 517.330258 45.179782 510.219475 42.444929 517.736995 39.710075 518.352875 36.975221 520.905164 34.240368 520.288594 31.505514 518.810758 28.770660 518.436339 26.035807 521.227418 23.300953 522.589529 20.566099 523.413603 17.831246 523.350960 15.096392 523.034138 12.361538 522.483842\"/></g><g class=\"series serie-11 color-11\"><path class=\"line reactive\" d=\"M12.361538 522.157772 L15.096392 522.891352 17.831246 522.777159 20.566099 523.413272 23.300953 522.360511 26.035807 520.550450 28.770660 517.837654 31.505514 517.963411 34.240368 519.799541 36.975221 520.294912 39.710075 516.925496 42.444929 515.516447 45.179782 508.302496 47.914636 516.107308 50.649489 517.026760 53.384343 518.960335 56.119197 518.331595 58.854050 520.241240 61.588904 514.566050 64.323758 515.038407 67.058611 520.088337 69.793465 518.939088 72.528319 509.589462 75.263172 506.535371 77.998026 511.085009 80.732880 508.848363 83.467733 507.686538 86.202587 508.083158 88.937440 507.564458 91.672294 512.396680 94.407148 514.107749 97.142001 513.717959 99.876855 508.936511 102.611709 493.895617 105.346562 502.678061 108.081416 510.162945 110.816270 510.032944 113.551123 511.346988 116.285977 510.397700 119.020830 508.620165 121.755684 511.764740 124.490538 512.750663 127.225391 515.448302 129.960245 510.066610 132.695099 509.772249 135.429952 506.898822 138.164806 509.169674 140.899660 506.489226 143.634513 510.974478 146.369367 501.890960 149.104221 510.592836 151.839074 504.171165 154.573928 505.923429 157.308781 504.356275 160.043635 499.992399 162.778489 499.131811 165.513342 505.010256 168.248196 457.157304 170.983050 495.952879 173.717903 513.000097 176.452757 505.669318 179.187611 494.053498 181.922464 496.883945 184.657318 499.175591 187.392172 506.262166 190.127025 506.530451 192.861879 503.182557 195.596732 500.025494 198.331586 506.660904 201.066440 514.263853 203.801293 505.717601 206.536147 503.683008 209.271001 503.154777 212.005854 501.950106 214.740708 497.082164 217.475562 503.253072 220.210415 508.856265 222.945269 495.547199 225.680123 475.025017 228.414976 483.766147 231.149830 491.240251 233.884683 511.064171 236.619537 488.423382 239.354391 470.885935 242.089244 493.738486 244.824098 481.044191 247.558952 471.395237 250.293805 472.611913 253.028659 495.115798 255.763513 483.014089 258.498366 477.717905 261.233220 484.113726 263.968074 493.379468 266.702927 491.806376 269.437781 473.636202 272.172634 490.541054 274.907488 496.393404 277.642342 482.133437 280.377195 479.511296 283.112049 482.594263 285.846903 493.122083 288.581756 478.999401 291.316610 475.746124 294.051464 483.872647 296.786317 486.156111 299.521171 500.568828 302.256025 454.639987 304.990878 492.707489 307.725732 464.405918 310.460585 458.953051 313.195439 478.599074 315.930293 452.134112 318.665146 461.587755 321.400000 466.638103 324.134854 451.600455 326.869707 474.710154 329.604561 469.298354 332.339415 458.884875 335.074268 454.597018 337.809122 484.775865 340.543975 471.343957 343.278829 461.508151 346.013683 450.772862 348.748536 456.518200 351.483390 490.459928 354.218244 473.031876 356.953097 467.239163 359.687951 473.236273 362.422805 474.342048 365.157658 444.243594 367.892512 434.701347 370.627366 466.914005 373.362219 479.420052 376.097073 456.479521 378.831926 464.632359 381.566780 453.873946 384.301634 478.239438 387.036487 470.610583 389.771341 468.673107 392.506195 470.486841 395.241048 473.833177 397.975902 470.053409 400.710756 450.330809 403.445609 446.942664 406.180463 459.047798 408.915317 465.626679 411.650170 453.519383 414.385024 469.803800 417.119877 481.446467 419.854731 476.095231 422.589585 473.496352 425.324438 486.781414 428.059292 479.398122 430.794146 484.577612 433.528999 467.223292 436.263853 478.692539 438.998707 461.259497 441.733560 464.932812 444.468414 456.991675 447.203268 467.111663 449.938121 482.675047 452.672975 486.396359 455.407828 476.874586 458.142682 487.344703 460.877536 484.536320 463.612389 484.750375 466.347243 470.906032 469.082097 481.393631 471.816950 491.168123 474.551804 471.701074 477.286658 482.294853 480.021511 477.834643 482.756365 490.566136 485.491219 508.016952 488.226072 496.514062 490.960926 488.264369 493.695779 464.735322 496.430633 456.440087 499.165487 447.987631 501.900340 471.125403 504.635194 455.376257 507.370048 442.287082 510.104901 456.626070 512.839755 451.601899 515.574609 474.841995 518.309462 460.984498 521.044316 461.062621 523.779170 453.003764 526.514023 467.866517 529.248877 451.259958 531.983730 455.963664 534.718584 458.509932 537.453438 473.603704 540.188291 462.763145 542.923145 465.419821 545.657999 469.198170 548.392852 468.402669 551.127706 453.200821 553.862560 446.539280 556.597413 455.735019 559.332267 458.130406 562.067120 437.775569 564.801974 461.945975 567.536828 447.749285 570.271681 456.519095 573.006535 445.150482 575.741389 439.361533 578.476242 430.661063 581.211096 461.042603 583.945950 441.288810 586.680803 437.390056 589.415657 462.165950 592.150511 457.023242 594.885364 441.759458 597.620218 446.507478 600.355071 452.560116 603.089925 461.337792 605.824779 447.294884 608.559632 470.640869 611.294486 470.409557 614.029340 472.661833 616.764193 488.249944 619.499047 465.004983 622.233901 462.052675 624.968754 465.323131 627.703608 454.352470 630.438462 474.018284 630.438462 475.734165 627.703608 457.351047 624.968754 468.198463 622.233901 465.428689 619.499047 466.892488 616.764193 489.593540 614.029340 476.002413 611.294486 472.579255 608.559632 473.139397 605.824779 450.604130 603.089925 464.848578 600.355071 455.245315 597.620218 450.980142 594.885364 445.481579 592.150511 459.574617 589.415657 465.979082 586.680803 444.188898 583.945950 448.911509 581.211096 464.788791 578.476242 435.041323 575.741389 444.751736 573.006535 449.166030 570.271681 461.637580 567.536828 451.938116 564.801974 465.437974 562.067120 443.513584 559.332267 464.114263 556.597413 458.663682 553.862560 451.073454 551.127706 457.465152 548.392852 472.497020 545.657999 472.119144 542.923145 470.188136 540.188291 466.252832 537.453438 477.157291 534.718584 461.868869 531.983730 458.671623 529.248877 454.002944 526.514023 472.499692 523.779170 456.137381 521.044316 462.982093 518.309462 464.798526 515.574609 478.450076 512.839755 459.042596 510.104901 459.349066 507.370048 446.883454 504.635194 459.457735 501.900340 472.458907 499.165487 449.567131 496.430633 458.415769 493.695779 466.121044 490.960926 488.623354 488.226072 497.068030 485.491219 508.448330 482.756365 491.415050 480.021511 478.750098 477.286658 484.174676 474.551804 472.954913 471.816950 491.555664 469.082097 482.272961 466.347243 473.118556 463.612389 485.712550 460.877536 485.057854 458.142682 487.791991 455.407828 478.176345 452.672975 487.493968 449.938121 483.795598 447.203268 468.743169 444.468414 459.946515 441.733560 466.721251 438.998707 462.658578 436.263853 479.725457 433.528999 467.989882 430.794146 485.455532 428.059292 480.761048 425.324438 487.092005 422.589585 474.386097 419.854731 477.178775 417.119877 482.476573 414.385024 471.105453 411.650170 455.665971 408.915317 466.507906 406.180463 460.178370 403.445609 448.742629 400.710756 451.571585 397.975902 471.741937 395.241048 474.456196 392.506195 471.146412 389.771341 470.167846 387.036487 471.215006 384.301634 478.852400 381.566780 455.787703 378.831926 466.881497 376.097073 458.027956 373.362219 481.256810 370.627366 468.404995 367.892512 436.083469 365.157658 445.657977 362.422805 475.342073 359.687951 473.924943 356.953097 468.478257 354.218244 473.515319 351.483390 491.376973 348.748536 459.106550 346.013683 452.837380 343.278829 462.408896 340.543975 472.674730 337.809122 486.022255 335.074268 455.700117 332.339415 460.178573 329.604561 470.057153 326.869707 475.783418 324.134854 454.250982 321.400000 467.493185 318.665146 462.778032 315.930293 453.827063 313.195439 480.140588 310.460585 461.779028 307.725732 465.935337 304.990878 493.509988 302.256025 455.973495 299.521171 501.449832 296.786317 487.457311 294.051464 484.966282 291.316610 476.524611 288.581756 479.177530 285.846903 493.775747 283.112049 483.316413 280.377195 481.125238 277.642342 483.101120 274.907488 497.194700 272.172634 491.551500 269.437781 474.039230 266.702927 492.228998 263.968074 494.136097 261.233220 484.813406 258.498366 479.059453 255.763513 484.721838 253.028659 495.663371 250.293805 474.160645 247.558952 472.611800 244.824098 481.881324 242.089244 494.365088 239.354391 472.113084 236.619537 489.866848 233.884683 511.677770 231.149830 492.315741 228.414976 484.328454 225.680123 476.537019 222.945269 496.300603 220.210415 509.007839 217.475562 503.682160 214.740708 497.471370 212.005854 502.785785 209.271001 503.324043 206.536147 504.335882 203.801293 505.875871 201.066440 514.369404 198.331586 507.024259 195.596732 500.418141 192.861879 503.726716 190.127025 506.944013 187.392172 506.428871 184.657318 499.418203 181.922464 497.310106 179.187611 494.400303 176.452757 506.074250 173.717903 513.448278 170.983050 496.155750 168.248196 458.144483 165.513342 505.529337 162.778489 499.588486 160.043635 500.851834 157.308781 504.652810 154.573928 506.533628 151.839074 504.555046 149.104221 510.923275 146.369367 502.913083 143.634513 511.068273 140.899660 506.734001 138.164806 509.498208 135.429952 507.078680 132.695099 510.012502 129.960245 510.495131 127.225391 515.585401 124.490538 512.874156 121.755684 512.222749 119.020830 508.804183 116.285977 510.687466 113.551123 512.026176 110.816270 510.183731 108.081416 510.564416 105.346562 502.841656 102.611709 494.340942 99.876855 509.377910 97.142001 513.953313 94.407148 514.337506 91.672294 512.957610 88.937440 508.477417 86.202587 508.513911 83.467733 507.918925 80.732880 509.290623 77.998026 511.298666 75.263172 507.282042 72.528319 509.775983 69.793465 519.365689 67.058611 520.109953 64.323758 515.301310 61.588904 515.193811 58.854050 520.542168 56.119197 518.590241 53.384343 519.032431 50.649489 517.331775 47.914636 516.642052 45.179782 510.012885 42.444929 515.992971 39.710075 517.065962 36.975221 520.319336 34.240368 519.799541 31.505514 518.283231 28.770660 518.048781 26.035807 520.671115 23.300953 522.589529 20.566099 523.413272 17.831246 523.347284 15.096392 522.891352 12.361538 522.457339\"/></g><g class=\"series serie-12 color-12\"><path class=\"line reactive\" d=\"M12.361538 522.157772 L15.096392 522.891352 17.831246 522.777159 20.566099 523.392688 23.300953 522.310020 26.035807 519.882549 28.770660 517.637244 31.505514 517.381215 34.240368 519.514060 36.975221 520.229267 39.710075 515.628577 42.444929 515.100150 45.179782 475.399125 47.914636 511.118284 50.649489 515.917938 53.384343 518.388278 56.119197 517.175101 58.854050 517.415408 61.588904 513.621234 64.323758 514.121815 67.058611 519.571240 69.793465 517.825578 72.528319 500.595774 75.263172 497.065890 77.998026 508.437893 80.732880 506.081536 83.467733 505.547372 86.202587 505.683720 88.937440 504.517289 91.672294 487.201346 94.407148 510.467516 97.142001 512.605225 99.876855 508.464666 102.611709 493.404285 105.346562 501.737997 108.081416 507.773355 110.816270 508.908785 113.551123 510.770288 116.285977 508.519073 119.020830 507.148716 121.755684 509.792223 124.490538 512.126893 127.225391 513.952981 129.960245 509.738040 132.695099 509.045109 135.429952 506.378473 138.164806 506.372788 140.899660 505.691593 143.634513 509.747158 146.369367 501.188819 149.104221 510.292313 151.839074 503.379883 154.573928 505.754084 157.308781 503.279738 160.043635 497.104099 162.778489 497.444482 165.513342 502.862105 168.248196 456.027258 170.983050 493.924851 173.717903 512.327275 176.452757 503.989514 179.187611 493.416849 181.922464 495.922075 184.657318 497.722168 187.392172 503.625941 190.127025 502.953148 192.861879 501.288717 195.596732 499.670698 198.331586 505.493862 201.066440 511.984515 203.801293 502.448718 206.536147 498.791481 209.271001 500.658868 212.005854 500.353870 214.740708 495.615116 217.475562 501.609218 220.210415 506.895437 222.945269 458.860690 225.680123 467.654697 228.414976 481.486280 231.149830 487.963433 233.884683 510.185896 236.619537 487.141417 239.354391 463.967389 242.089244 493.063833 244.824098 479.063457 247.558952 468.742525 250.293805 469.116331 253.028659 494.386629 255.763513 479.348529 258.498366 464.640685 261.233220 479.388733 263.968074 492.580124 266.702927 489.204732 269.437781 470.383705 272.172634 486.129321 274.907488 492.266806 277.642342 478.406361 280.377195 476.973374 283.112049 479.686709 285.846903 489.922024 288.581756 476.363284 291.316610 472.164536 294.051464 482.511629 296.786317 483.543262 299.521171 497.754663 302.256025 442.483414 304.990878 490.087114 307.725732 454.283573 310.460585 454.556844 313.195439 474.613446 315.930293 445.340352 318.665146 456.088044 321.400000 459.542591 324.134854 443.691921 326.869707 468.973654 329.604561 465.654202 332.339415 456.573552 335.074268 442.675105 337.809122 474.710189 340.543975 463.254187 343.278829 455.340562 346.013683 443.740878 348.748536 449.896989 351.483390 486.935413 354.218244 413.787856 356.953097 454.035962 359.687951 470.852934 362.422805 469.847245 365.157658 441.589597 367.892512 426.928905 370.627366 451.552659 373.362219 474.760505 376.097073 450.451523 378.831926 458.199291 381.566780 446.251918 384.301634 473.050163 387.036487 462.817115 389.771341 462.529142 392.506195 466.016869 395.241048 469.800817 397.975902 467.635945 400.710756 419.560058 403.445609 432.538398 406.180463 450.735625 408.915317 456.489049 411.650170 449.144162 414.385024 462.653298 417.119877 475.243872 419.854731 472.864070 422.589585 467.076080 425.324438 483.560930 428.059292 476.842266 430.794146 481.172641 433.528999 464.735740 436.263853 469.379750 438.998707 451.347998 441.733560 460.919914 444.468414 452.529075 447.203268 458.718494 449.938121 478.411209 452.672975 478.749406 455.407828 470.047763 458.142682 482.179103 460.877536 480.857989 463.612389 480.279725 466.347243 455.956288 469.082097 459.229748 471.816950 486.119754 474.551804 465.652536 477.286658 476.690064 480.021511 471.149372 482.756365 482.730632 485.491219 503.750010 488.226072 492.423142 490.960926 483.878097 493.695779 458.256658 496.430633 452.047407 499.165487 440.493673 501.900340 460.699393 504.635194 446.386312 507.370048 435.479562 510.104901 450.166581 512.839755 443.158119 515.574609 468.828527 518.309462 451.576725 521.044316 453.215756 523.779170 447.383645 526.514023 464.702878 529.248877 444.233967 531.983730 448.081071 534.718584 442.070628 537.453438 468.199165 540.188291 458.278929 542.923145 458.805063 545.657999 465.647934 548.392852 462.709642 551.127706 445.296074 553.862560 438.468812 556.597413 447.342147 559.332267 451.434544 562.067120 432.589861 564.801974 455.578294 567.536828 347.614915 570.271681 446.999472 573.006535 435.163923 575.741389 431.319291 578.476242 421.144321 581.211096 450.401159 583.945950 426.449080 586.680803 426.415426 589.415657 450.857437 592.150511 450.703403 594.885364 433.292004 597.620218 432.416800 600.355071 430.610834 603.089925 455.210274 605.824779 442.402522 608.559632 462.006358 611.294486 462.934431 614.029340 465.077078 616.764193 450.319185 619.499047 449.114143 622.233901 456.999088 624.968754 460.446957 627.703608 451.790543 630.438462 471.976801 630.438462 474.018284 627.703608 454.352470 624.968754 465.323131 622.233901 462.052675 619.499047 465.004983 616.764193 488.249944 614.029340 472.661833 611.294486 470.409557 608.559632 470.640869 605.824779 447.294884 603.089925 461.337792 600.355071 452.560116 597.620218 446.507478 594.885364 441.759458 592.150511 457.023242 589.415657 462.165950 586.680803 437.390056 583.945950 441.288810 581.211096 461.042603 578.476242 430.661063 575.741389 439.361533 573.006535 445.150482 570.271681 456.519095 567.536828 447.749285 564.801974 461.945975 562.067120 437.775569 559.332267 458.130406 556.597413 455.735019 553.862560 446.539280 551.127706 453.200821 548.392852 468.402669 545.657999 469.198170 542.923145 465.419821 540.188291 462.763145 537.453438 473.603704 534.718584 458.509932 531.983730 455.963664 529.248877 451.259958 526.514023 467.866517 523.779170 453.003764 521.044316 461.062621 518.309462 460.984498 515.574609 474.841995 512.839755 451.601899 510.104901 456.626070 507.370048 442.287082 504.635194 455.376257 501.900340 471.125403 499.165487 447.987631 496.430633 456.440087 493.695779 464.735322 490.960926 488.264369 488.226072 496.514062 485.491219 508.016952 482.756365 490.566136 480.021511 477.834643 477.286658 482.294853 474.551804 471.701074 471.816950 491.168123 469.082097 481.393631 466.347243 470.906032 463.612389 484.750375 460.877536 484.536320 458.142682 487.344703 455.407828 476.874586 452.672975 486.396359 449.938121 482.675047 447.203268 467.111663 444.468414 456.991675 441.733560 464.932812 438.998707 461.259497 436.263853 478.692539 433.528999 467.223292 430.794146 484.577612 428.059292 479.398122 425.324438 486.781414 422.589585 473.496352 419.854731 476.095231 417.119877 481.446467 414.385024 469.803800 411.650170 453.519383 408.915317 465.626679 406.180463 459.047798 403.445609 446.942664 400.710756 450.330809 397.975902 470.053409 395.241048 473.833177 392.506195 470.486841 389.771341 468.673107 387.036487 470.610583 384.301634 478.239438 381.566780 453.873946 378.831926 464.632359 376.097073 456.479521 373.362219 479.420052 370.627366 466.914005 367.892512 434.701347 365.157658 444.243594 362.422805 474.342048 359.687951 473.236273 356.953097 467.239163 354.218244 473.031876 351.483390 490.459928 348.748536 456.518200 346.013683 450.772862 343.278829 461.508151 340.543975 471.343957 337.809122 484.775865 335.074268 454.597018 332.339415 458.884875 329.604561 469.298354 326.869707 474.710154 324.134854 451.600455 321.400000 466.638103 318.665146 461.587755 315.930293 452.134112 313.195439 478.599074 310.460585 458.953051 307.725732 464.405918 304.990878 492.707489 302.256025 454.639987 299.521171 500.568828 296.786317 486.156111 294.051464 483.872647 291.316610 475.746124 288.581756 478.999401 285.846903 493.122083 283.112049 482.594263 280.377195 479.511296 277.642342 482.133437 274.907488 496.393404 272.172634 490.541054 269.437781 473.636202 266.702927 491.806376 263.968074 493.379468 261.233220 484.113726 258.498366 477.717905 255.763513 483.014089 253.028659 495.115798 250.293805 472.611913 247.558952 471.395237 244.824098 481.044191 242.089244 493.738486 239.354391 470.885935 236.619537 488.423382 233.884683 511.064171 231.149830 491.240251 228.414976 483.766147 225.680123 475.025017 222.945269 495.547199 220.210415 508.856265 217.475562 503.253072 214.740708 497.082164 212.005854 501.950106 209.271001 503.154777 206.536147 503.683008 203.801293 505.717601 201.066440 514.263853 198.331586 506.660904 195.596732 500.025494 192.861879 503.182557 190.127025 506.530451 187.392172 506.262166 184.657318 499.175591 181.922464 496.883945 179.187611 494.053498 176.452757 505.669318 173.717903 513.000097 170.983050 495.952879 168.248196 457.157304 165.513342 505.010256 162.778489 499.131811 160.043635 499.992399 157.308781 504.356275 154.573928 505.923429 151.839074 504.171165 149.104221 510.592836 146.369367 501.890960 143.634513 510.974478 140.899660 506.489226 138.164806 509.169674 135.429952 506.898822 132.695099 509.772249 129.960245 510.066610 127.225391 515.448302 124.490538 512.750663 121.755684 511.764740 119.020830 508.620165 116.285977 510.397700 113.551123 511.346988 110.816270 510.032944 108.081416 510.162945 105.346562 502.678061 102.611709 493.895617 99.876855 508.936511 97.142001 513.717959 94.407148 514.107749 91.672294 512.396680 88.937440 507.564458 86.202587 508.083158 83.467733 507.686538 80.732880 508.848363 77.998026 511.085009 75.263172 506.535371 72.528319 509.589462 69.793465 518.939088 67.058611 520.088337 64.323758 515.038407 61.588904 514.566050 58.854050 520.241240 56.119197 518.331595 53.384343 518.960335 50.649489 517.026760 47.914636 516.107308 45.179782 508.302496 42.444929 515.516447 39.710075 516.925496 36.975221 520.294912 34.240368 519.799541 31.505514 517.963411 28.770660 517.837654 26.035807 520.550450 23.300953 522.360511 20.566099 523.413272 17.831246 522.777159 15.096392 522.891352 12.361538 522.157772\"/></g><g class=\"series serie-13 color-13\"><path class=\"line reactive\" d=\"M12.361538 522.140570 L15.096392 522.844579 17.831246 522.763782 20.566099 523.382641 23.300953 522.310020 26.035807 519.485291 28.770660 517.098463 31.505514 517.115748 34.240368 519.374951 36.975221 520.221224 39.710075 515.420698 42.444929 514.808640 45.179782 474.466165 47.914636 510.909153 50.649489 515.715729 53.384343 518.209372 56.119197 516.895760 58.854050 517.104341 61.588904 513.405542 64.323758 514.029675 67.058611 519.393683 69.793465 517.523664 72.528319 500.343534 75.263172 496.201194 77.998026 507.873334 80.732880 505.212339 83.467733 505.300414 86.202587 504.946159 88.937440 504.073965 91.672294 486.726612 94.407148 510.115795 97.142001 512.326080 99.876855 506.808732 102.611709 492.768770 105.346562 501.251482 108.081416 507.321264 110.816270 508.364524 113.551123 510.309652 116.285977 508.106512 119.020830 506.522438 121.755684 509.443333 124.490538 511.635543 127.225391 513.805230 129.960245 509.599169 132.695099 508.248342 135.429952 505.786492 138.164806 506.224609 140.899660 504.963406 143.634513 508.749337 146.369367 500.103084 149.104221 509.305589 151.839074 502.832903 154.573928 504.904508 157.308781 502.339089 160.043635 495.598952 162.778489 496.616452 165.513342 502.109340 168.248196 453.538330 170.983050 493.246033 173.717903 511.380307 176.452757 503.318255 179.187611 492.870576 181.922464 494.832288 184.657318 497.067140 187.392172 503.199234 190.127025 502.269421 192.861879 499.622366 195.596732 499.275099 198.331586 505.115083 201.066440 511.461574 203.801293 501.803324 206.536147 497.886198 209.271001 499.738500 212.005854 499.668691 214.740708 495.052776 217.475562 500.526377 220.210415 506.565699 222.945269 456.998954 225.680123 466.486107 228.414976 480.352071 231.149830 486.213276 233.884683 509.971349 236.619537 485.748904 239.354391 461.813432 242.089244 491.875521 244.824098 477.592373 247.558952 467.292834 250.293805 467.290765 253.028659 494.112477 255.763513 477.737777 258.498366 462.624922 261.233220 478.347099 263.968074 491.767710 266.702927 488.179689 269.437781 468.709484 272.172634 484.268961 274.907488 490.603186 277.642342 477.496314 280.377195 475.374585 283.112049 477.760634 285.846903 489.100526 288.581756 475.531482 291.316610 471.017193 294.051464 481.749189 296.786317 482.460701 299.521171 496.681158 302.256025 439.909035 304.990878 488.127153 307.725732 452.190645 310.460585 452.727937 313.195439 473.617030 315.930293 444.167294 318.665146 454.986236 321.400000 458.616704 324.134854 442.134104 326.869707 467.678724 329.604561 464.316579 332.339415 455.630717 335.074268 440.966872 337.809122 473.007244 340.543975 461.125388 343.278829 453.513550 346.013683 442.090545 348.748536 447.803822 351.483390 485.749348 354.218244 411.279829 356.953097 452.943427 359.687951 469.784208 362.422805 468.870141 365.157658 440.369833 367.892512 424.877611 370.627366 449.099854 373.362219 473.679387 376.097073 449.050879 378.831926 456.910243 381.566780 445.237665 384.301634 472.052257 387.036487 461.871698 389.771341 461.382430 392.506195 464.836001 395.241048 468.787717 397.975902 466.995998 400.710756 417.806125 403.445609 430.807054 406.180463 450.037376 408.915317 455.552321 411.650170 448.354913 414.385024 461.633370 417.119877 474.437112 419.854731 472.215900 422.589585 466.529270 425.324438 482.772960 428.059292 475.272142 430.794146 480.026555 433.528999 463.508072 436.263853 468.495862 438.998707 449.561867 441.733560 459.314685 444.468414 450.755395 447.203268 457.196656 449.938121 477.711510 452.672975 477.757699 455.407828 469.614646 458.142682 481.982381 460.877536 480.071903 463.612389 479.650826 466.347243 455.052503 469.082097 457.792578 471.816950 485.251713 474.551804 464.163477 477.286658 475.763466 480.021511 470.636369 482.756365 482.215261 485.491219 502.746097 488.226072 490.676400 490.960926 483.206689 493.695779 454.608638 496.430633 449.049823 499.165487 433.065771 501.900340 457.481421 504.635194 442.416731 507.370048 432.614739 510.104901 448.538765 512.839755 440.727882 515.574609 466.770838 518.309462 448.650972 521.044316 449.016043 523.779170 444.961961 526.514023 463.141636 529.248877 441.885583 531.983730 445.935146 534.718584 439.561741 537.453438 466.463786 540.188291 456.279852 542.923145 456.729125 545.657999 464.371469 548.392852 461.455197 551.127706 443.307444 553.862560 433.978679 556.597413 445.539112 559.332267 448.200681 562.067120 429.377567 564.801974 453.444244 567.536828 343.652142 570.271681 444.942073 573.006535 433.989470 575.741389 429.828473 578.476242 418.999137 581.211096 449.416445 583.945950 423.039839 586.680803 425.157890 589.415657 449.238895 592.150511 449.228305 594.885364 431.284453 597.620218 430.452132 600.355071 428.323458 603.089925 453.562543 605.824779 440.254148 608.559632 460.907617 611.294486 460.593061 614.029340 462.974060 616.764193 447.741185 619.499047 442.263840 622.233901 452.337514 624.968754 454.118822 627.703608 444.851181 630.438462 465.600120 630.438462 471.976801 627.703608 451.790543 624.968754 460.446957 622.233901 456.999088 619.499047 449.114143 616.764193 450.319185 614.029340 465.077078 611.294486 462.934431 608.559632 462.006358 605.824779 442.402522 603.089925 455.210274 600.355071 430.610834 597.620218 432.416800 594.885364 433.292004 592.150511 450.703403 589.415657 450.857437 586.680803 426.415426 583.945950 426.449080 581.211096 450.401159 578.476242 421.144321 575.741389 431.319291 573.006535 435.163923 570.271681 446.999472 567.536828 347.614915 564.801974 455.578294 562.067120 432.589861 559.332267 451.434544 556.597413 447.342147 553.862560 438.468812 551.127706 445.296074 548.392852 462.709642 545.657999 465.647934 542.923145 458.805063 540.188291 458.278929 537.453438 468.199165 534.718584 442.070628 531.983730 448.081071 529.248877 444.233967 526.514023 464.702878 523.779170 447.383645 521.044316 453.215756 518.309462 451.576725 515.574609 468.828527 512.839755 443.158119 510.104901 450.166581 507.370048 435.479562 504.635194 446.386312 501.900340 460.699393 499.165487 440.493673 496.430633 452.047407 493.695779 458.256658 490.960926 483.878097 488.226072 492.423142 485.491219 503.750010 482.756365 482.730632 480.021511 471.149372 477.286658 476.690064 474.551804 465.652536 471.816950 486.119754 469.082097 459.229748 466.347243 455.956288 463.612389 480.279725 460.877536 480.857989 458.142682 482.179103 455.407828 470.047763 452.672975 478.749406 449.938121 478.411209 447.203268 458.718494 444.468414 452.529075 441.733560 460.919914 438.998707 451.347998 436.263853 469.379750 433.528999 464.735740 430.794146 481.172641 428.059292 476.842266 425.324438 483.560930 422.589585 467.076080 419.854731 472.864070 417.119877 475.243872 414.385024 462.653298 411.650170 449.144162 408.915317 456.489049 406.180463 450.735625 403.445609 432.538398 400.710756 419.560058 397.975902 467.635945 395.241048 469.800817 392.506195 466.016869 389.771341 462.529142 387.036487 462.817115 384.301634 473.050163 381.566780 446.251918 378.831926 458.199291 376.097073 450.451523 373.362219 474.760505 370.627366 451.552659 367.892512 426.928905 365.157658 441.589597 362.422805 469.847245 359.687951 470.852934 356.953097 454.035962 354.218244 413.787856 351.483390 486.935413 348.748536 449.896989 346.013683 443.740878 343.278829 455.340562 340.543975 463.254187 337.809122 474.710189 335.074268 442.675105 332.339415 456.573552 329.604561 465.654202 326.869707 468.973654 324.134854 443.691921 321.400000 459.542591 318.665146 456.088044 315.930293 445.340352 313.195439 474.613446 310.460585 454.556844 307.725732 454.283573 304.990878 490.087114 302.256025 442.483414 299.521171 497.754663 296.786317 483.543262 294.051464 482.511629 291.316610 472.164536 288.581756 476.363284 285.846903 489.922024 283.112049 479.686709 280.377195 476.973374 277.642342 478.406361 274.907488 492.266806 272.172634 486.129321 269.437781 470.383705 266.702927 489.204732 263.968074 492.580124 261.233220 479.388733 258.498366 464.640685 255.763513 479.348529 253.028659 494.386629 250.293805 469.116331 247.558952 468.742525 244.824098 479.063457 242.089244 493.063833 239.354391 463.967389 236.619537 487.141417 233.884683 510.185896 231.149830 487.963433 228.414976 481.486280 225.680123 467.654697 222.945269 458.860690 220.210415 506.895437 217.475562 501.609218 214.740708 495.615116 212.005854 500.353870 209.271001 500.658868 206.536147 498.791481 203.801293 502.448718 201.066440 511.984515 198.331586 505.493862 195.596732 499.670698 192.861879 501.288717 190.127025 502.953148 187.392172 503.625941 184.657318 497.722168 181.922464 495.922075 179.187611 493.416849 176.452757 503.989514 173.717903 512.327275 170.983050 493.924851 168.248196 456.027258 165.513342 502.862105 162.778489 497.444482 160.043635 497.104099 157.308781 503.279738 154.573928 505.754084 151.839074 503.379883 149.104221 510.292313 146.369367 501.188819 143.634513 509.747158 140.899660 505.691593 138.164806 506.372788 135.429952 506.378473 132.695099 509.045109 129.960245 509.738040 127.225391 513.952981 124.490538 512.126893 121.755684 509.792223 119.020830 507.148716 116.285977 508.519073 113.551123 510.770288 110.816270 508.908785 108.081416 507.773355 105.346562 501.737997 102.611709 493.404285 99.876855 508.464666 97.142001 512.605225 94.407148 510.467516 91.672294 487.201346 88.937440 504.517289 86.202587 505.683720 83.467733 505.547372 80.732880 506.081536 77.998026 508.437893 75.263172 497.065890 72.528319 500.595774 69.793465 517.825578 67.058611 519.571240 64.323758 514.121815 61.588904 513.621234 58.854050 517.415408 56.119197 517.175101 53.384343 518.388278 50.649489 515.917938 47.914636 511.118284 45.179782 475.399125 42.444929 515.100150 39.710075 515.628577 36.975221 520.229267 34.240368 519.514060 31.505514 517.381215 28.770660 517.637244 26.035807 519.882549 23.300953 522.310020 20.566099 523.392688 17.831246 522.777159 15.096392 522.891352 12.361538 522.157772\"/></g><g class=\"series serie-14 color-14\"><path class=\"line reactive\" d=\"M12.361538 522.124283 L15.096392 522.844579 17.831246 522.763782 20.566099 523.382641 23.300953 522.268143 26.035807 519.432904 28.770660 516.963078 31.505514 516.387037 34.240368 517.604020 36.975221 519.762919 39.710075 514.880028 42.444929 514.732595 45.179782 472.587014 47.914636 510.611630 50.649489 515.000484 53.384343 516.827906 56.119197 516.032042 58.854050 515.636909 61.588904 512.846409 64.323758 512.955370 67.058611 517.857278 69.793465 517.190831 72.528319 500.061384 75.263172 495.674727 77.998026 507.565144 80.732880 504.842296 83.467733 504.824925 86.202587 504.220408 88.937440 503.208789 91.672294 484.802695 94.407148 509.715240 97.142001 511.424630 99.876855 504.492696 102.611709 491.970488 105.346562 500.744910 108.081416 506.460665 110.816270 507.629703 113.551123 510.237893 116.285977 507.843772 119.020830 505.871343 121.755684 508.857851 124.490538 511.250256 127.225391 513.429851 129.960245 508.650228 132.695099 505.809653 135.429952 505.638603 138.164806 505.262308 140.899660 504.744474 143.634513 507.751347 146.369367 499.842553 149.104221 508.415265 151.839074 501.195040 154.573928 504.227885 157.308781 500.359637 160.043635 494.785678 162.778489 493.738273 165.513342 498.229822 168.248196 447.182075 170.983050 491.823627 173.717903 510.563904 176.452757 502.394178 179.187611 492.249717 181.922464 492.944738 184.657318 495.221021 187.392172 502.242537 190.127025 501.391474 192.861879 498.880427 195.596732 497.819792 198.331586 498.386956 201.066440 511.303976 203.801293 501.307073 206.536147 496.165947 209.271001 498.477868 212.005854 499.075642 214.740708 493.723541 217.475562 499.293376 220.210415 505.809154 222.945269 448.520106 225.680123 464.604083 228.414976 477.613881 231.149830 478.840509 233.884683 509.533305 236.619537 485.458901 239.354391 458.828369 242.089244 489.644567 244.824098 476.713858 247.558952 466.108325 250.293805 465.077703 253.028659 492.664817 255.763513 475.880076 258.498366 461.719256 261.233220 474.826731 263.968074 490.086424 266.702927 487.406789 269.437781 467.177217 272.172634 483.645192 274.907488 489.605971 277.642342 475.902102 280.377195 472.363691 283.112049 474.839798 285.846903 486.906936 288.581756 472.709602 291.316610 469.079883 294.051464 472.152227 296.786317 464.134853 299.521171 495.278779 302.256025 437.567192 304.990878 487.540901 307.725732 450.922944 310.460585 450.268439 313.195439 472.364595 315.930293 440.153847 318.665146 451.414114 321.400000 455.786647 324.134854 439.307101 326.869707 455.951805 329.604561 454.598334 332.339415 453.273948 335.074268 438.974805 337.809122 471.129345 340.543975 459.163063 343.278829 449.967772 346.013683 437.842668 348.748536 440.905097 351.483390 483.132180 354.218244 393.006652 356.953097 449.325228 359.687951 464.642908 362.422805 449.362898 365.157658 438.474888 367.892512 424.098006 370.627366 445.513045 373.362219 471.949951 376.097073 448.041776 378.831926 449.863443 381.566780 438.486674 384.301634 467.971272 387.036487 456.756443 389.771341 458.011836 392.506195 454.322616 395.241048 452.908467 397.975902 464.817153 400.710756 415.358825 403.445609 428.769596 406.180463 448.009532 408.915317 452.344354 411.650170 441.229737 414.385024 453.109161 417.119877 470.816251 419.854731 467.068283 422.589585 464.386500 425.324438 475.216593 428.059292 456.907759 430.794146 478.136317 433.528999 461.572269 436.263853 466.981063 438.998707 448.175647 441.733560 455.900578 444.468414 446.714199 447.203268 447.459966 449.938121 474.312658 452.672975 474.073219 455.407828 468.755584 458.142682 474.625302 460.877536 465.525659 463.612389 478.569313 466.347243 453.394996 469.082097 454.408766 471.816950 483.255488 474.551804 462.683523 477.286658 471.112218 480.021511 465.428021 482.756365 476.752887 485.491219 501.204321 488.226072 488.675674 490.960926 478.650421 493.695779 443.363786 496.430633 447.325158 499.165487 432.084336 501.900340 456.373113 504.635194 441.395379 507.370048 430.499857 510.104901 446.503386 512.839755 438.725407 515.574609 464.050811 518.309462 446.860148 521.044316 447.593824 523.779170 438.722728 526.514023 448.502028 529.248877 439.794910 531.983730 444.579830 534.718584 437.327225 537.453438 465.647281 540.188291 455.519082 542.923145 454.468227 545.657999 462.027535 548.392852 457.830664 551.127706 441.328393 553.862560 432.533614 556.597413 438.873706 559.332267 427.315805 562.067120 427.755858 564.801974 452.731198 567.536828 342.279716 570.271681 436.442204 573.006535 433.093700 575.741389 427.467394 578.476242 411.675591 581.211096 442.399569 583.945950 419.540334 586.680803 423.668819 589.415657 445.481413 592.150511 436.274775 594.885364 428.906463 597.620218 429.019767 600.355071 427.057275 603.089925 452.584833 605.824779 439.746216 608.559632 459.204842 611.294486 458.496140 614.029340 459.514927 616.764193 439.863041 619.499047 440.824312 622.233901 449.498904 624.968754 446.953867 627.703608 443.021878 630.438462 464.965077 630.438462 465.600120 627.703608 444.851181 624.968754 454.118822 622.233901 452.337514 619.499047 442.263840 616.764193 447.741185 614.029340 462.974060 611.294486 460.593061 608.559632 460.907617 605.824779 440.254148 603.089925 453.562543 600.355071 428.323458 597.620218 430.452132 594.885364 431.284453 592.150511 449.228305 589.415657 449.238895 586.680803 425.157890 583.945950 423.039839 581.211096 449.416445 578.476242 418.999137 575.741389 429.828473 573.006535 433.989470 570.271681 444.942073 567.536828 343.652142 564.801974 453.444244 562.067120 429.377567 559.332267 448.200681 556.597413 445.539112 553.862560 433.978679 551.127706 443.307444 548.392852 461.455197 545.657999 464.371469 542.923145 456.729125 540.188291 456.279852 537.453438 466.463786 534.718584 439.561741 531.983730 445.935146 529.248877 441.885583 526.514023 463.141636 523.779170 444.961961 521.044316 449.016043 518.309462 448.650972 515.574609 466.770838 512.839755 440.727882 510.104901 448.538765 507.370048 432.614739 504.635194 442.416731 501.900340 457.481421 499.165487 433.065771 496.430633 449.049823 493.695779 454.608638 490.960926 483.206689 488.226072 490.676400 485.491219 502.746097 482.756365 482.215261 480.021511 470.636369 477.286658 475.763466 474.551804 464.163477 471.816950 485.251713 469.082097 457.792578 466.347243 455.052503 463.612389 479.650826 460.877536 480.071903 458.142682 481.982381 455.407828 469.614646 452.672975 477.757699 449.938121 477.711510 447.203268 457.196656 444.468414 450.755395 441.733560 459.314685 438.998707 449.561867 436.263853 468.495862 433.528999 463.508072 430.794146 480.026555 428.059292 475.272142 425.324438 482.772960 422.589585 466.529270 419.854731 472.215900 417.119877 474.437112 414.385024 461.633370 411.650170 448.354913 408.915317 455.552321 406.180463 450.037376 403.445609 430.807054 400.710756 417.806125 397.975902 466.995998 395.241048 468.787717 392.506195 464.836001 389.771341 461.382430 387.036487 461.871698 384.301634 472.052257 381.566780 445.237665 378.831926 456.910243 376.097073 449.050879 373.362219 473.679387 370.627366 449.099854 367.892512 424.877611 365.157658 440.369833 362.422805 468.870141 359.687951 469.784208 356.953097 452.943427 354.218244 411.279829 351.483390 485.749348 348.748536 447.803822 346.013683 442.090545 343.278829 453.513550 340.543975 461.125388 337.809122 473.007244 335.074268 440.966872 332.339415 455.630717 329.604561 464.316579 326.869707 467.678724 324.134854 442.134104 321.400000 458.616704 318.665146 454.986236 315.930293 444.167294 313.195439 473.617030 310.460585 452.727937 307.725732 452.190645 304.990878 488.127153 302.256025 439.909035 299.521171 496.681158 296.786317 482.460701 294.051464 481.749189 291.316610 471.017193 288.581756 475.531482 285.846903 489.100526 283.112049 477.760634 280.377195 475.374585 277.642342 477.496314 274.907488 490.603186 272.172634 484.268961 269.437781 468.709484 266.702927 488.179689 263.968074 491.767710 261.233220 478.347099 258.498366 462.624922 255.763513 477.737777 253.028659 494.112477 250.293805 467.290765 247.558952 467.292834 244.824098 477.592373 242.089244 491.875521 239.354391 461.813432 236.619537 485.748904 233.884683 509.971349 231.149830 486.213276 228.414976 480.352071 225.680123 466.486107 222.945269 456.998954 220.210415 506.565699 217.475562 500.526377 214.740708 495.052776 212.005854 499.668691 209.271001 499.738500 206.536147 497.886198 203.801293 501.803324 201.066440 511.461574 198.331586 505.115083 195.596732 499.275099 192.861879 499.622366 190.127025 502.269421 187.392172 503.199234 184.657318 497.067140 181.922464 494.832288 179.187611 492.870576 176.452757 503.318255 173.717903 511.380307 170.983050 493.246033 168.248196 453.538330 165.513342 502.109340 162.778489 496.616452 160.043635 495.598952 157.308781 502.339089 154.573928 504.904508 151.839074 502.832903 149.104221 509.305589 146.369367 500.103084 143.634513 508.749337 140.899660 504.963406 138.164806 506.224609 135.429952 505.786492 132.695099 508.248342 129.960245 509.599169 127.225391 513.805230 124.490538 511.635543 121.755684 509.443333 119.020830 506.522438 116.285977 508.106512 113.551123 510.309652 110.816270 508.364524 108.081416 507.321264 105.346562 501.251482 102.611709 492.768770 99.876855 506.808732 97.142001 512.326080 94.407148 510.115795 91.672294 486.726612 88.937440 504.073965 86.202587 504.946159 83.467733 505.300414 80.732880 505.212339 77.998026 507.873334 75.263172 496.201194 72.528319 500.343534 69.793465 517.523664 67.058611 519.393683 64.323758 514.029675 61.588904 513.405542 58.854050 517.104341 56.119197 516.895760 53.384343 518.209372 50.649489 515.715729 47.914636 510.909153 45.179782 474.466165 42.444929 514.808640 39.710075 515.420698 36.975221 520.221224 34.240368 519.374951 31.505514 517.115748 28.770660 517.098463 26.035807 519.485291 23.300953 522.310020 20.566099 523.382641 17.831246 522.763782 15.096392 522.844579 12.361538 522.140570\"/></g><g class=\"series serie-15 color-15\"><path class=\"line reactive\" d=\"M12.361538 522.124283 L15.096392 522.844579 17.831246 522.763782 20.566099 523.382641 23.300953 522.255337 26.035807 519.413344 28.770660 516.438393 31.505514 515.747345 34.240368 516.975044 36.975221 519.382914 39.710075 514.084962 42.444929 513.982732 45.179782 472.083179 47.914636 509.589106 50.649489 514.063733 53.384343 516.575725 56.119197 515.888519 58.854050 515.497385 61.588904 512.032543 64.323758 512.120453 67.058611 517.498258 69.793465 517.015282 72.528319 499.182196 75.263172 494.610815 77.998026 506.079086 80.732880 503.496666 83.467733 503.739183 86.202587 502.991127 88.937440 502.385768 91.672294 484.696545 94.407148 509.019334 97.142001 511.005724 99.876855 503.508755 102.611709 491.080592 105.346562 499.443950 108.081416 503.201406 110.816270 504.858231 113.551123 509.099943 116.285977 505.921144 119.020830 502.635444 121.755684 507.152985 124.490538 510.497448 127.225391 512.917337 129.960245 507.553429 132.695099 504.979217 135.429952 503.336200 138.164806 504.937662 140.899660 503.718739 143.634513 506.361341 146.369367 498.487860 149.104221 506.770444 151.839074 499.650543 154.573928 501.352137 157.308781 498.438849 160.043635 493.075951 162.778489 492.397165 165.513342 496.536499 168.248196 445.593910 170.983050 489.006687 173.717903 509.915677 176.452757 501.238163 179.187611 489.562614 181.922464 491.004508 184.657318 493.303728 187.392172 501.247888 190.127025 500.917879 192.861879 497.385211 195.596732 496.206771 198.331586 496.921275 201.066440 510.798776 203.801293 498.738450 206.536147 494.808833 209.271001 497.619472 212.005854 498.119470 214.740708 492.859068 217.475562 498.064048 220.210415 505.034512 222.945269 447.498606 225.680123 462.023688 228.414976 472.630341 231.149830 474.987873 233.884683 507.461657 236.619537 483.592077 239.354391 454.598514 242.089244 487.726127 244.824098 474.524699 247.558952 462.456063 250.293805 461.311529 253.028659 490.991079 255.763513 473.882215 258.498366 458.833493 261.233220 471.477724 263.968074 488.344525 266.702927 485.579322 269.437781 465.246321 272.172634 480.132860 274.907488 488.293288 277.642342 472.633528 280.377195 467.416852 283.112049 472.488851 285.846903 484.169414 288.581756 470.330195 291.316610 466.231976 294.051464 468.967963 296.786317 459.780281 299.521171 494.545771 302.256025 427.162092 304.990878 478.367371 307.725732 445.208711 310.460585 443.706793 313.195439 463.641888 315.930293 426.582387 318.665146 444.901492 321.400000 449.997179 324.134854 433.325059 326.869707 448.273315 329.604561 449.821950 332.339415 448.091648 335.074268 427.830349 337.809122 462.266954 340.543975 454.984179 343.278829 442.261837 346.013683 430.888620 348.748536 435.926146 351.483390 480.483418 354.218244 382.882983 356.953097 441.901966 359.687951 460.053483 362.422805 444.326668 365.157658 436.872885 367.892512 417.140396 370.627366 433.236710 373.362219 465.601192 376.097073 440.056802 378.831926 439.550512 381.566780 427.582248 384.301634 456.347307 387.036487 449.187476 389.771341 448.652813 392.506195 443.555446 395.241048 445.955572 397.975902 453.349683 400.710756 405.264094 403.445609 413.767914 406.180463 436.841801 408.915317 445.905574 411.650170 431.097052 414.385024 448.815924 417.119877 465.788762 419.854731 461.720768 422.589585 456.375929 425.324438 469.074015 428.059292 449.669273 430.794146 472.486152 433.528999 452.975295 436.263853 456.028829 438.998707 435.797040 441.733560 445.364606 444.468414 426.317065 447.203268 433.758660 449.938121 470.504464 452.672975 468.546464 455.407828 464.001937 458.142682 469.417205 460.877536 458.351614 463.612389 468.508300 466.347243 442.560863 469.082097 442.495616 471.816950 478.693327 474.551804 457.559249 477.286658 464.954062 480.021511 460.744538 482.756365 471.292063 485.491219 497.680955 488.226072 482.667022 490.960926 472.417103 493.695779 431.719722 496.430633 441.495345 499.165487 425.931320 501.900340 446.651131 504.635194 435.279372 507.370048 424.239785 510.104901 442.876265 512.839755 430.604045 515.574609 460.014943 518.309462 441.982094 521.044316 441.757591 523.779170 429.998202 526.514023 439.881736 529.248877 430.712177 531.983730 436.781111 534.718584 430.449201 537.453438 458.238685 540.188291 447.729261 542.923145 448.901698 545.657999 456.345466 548.392852 450.864862 551.127706 432.951352 553.862560 423.524490 556.597413 425.893403 559.332267 415.357719 562.067120 420.559632 564.801974 444.177331 567.536828 334.565305 570.271681 429.871393 573.006535 425.183123 575.741389 420.125274 578.476242 404.849824 581.211096 436.024872 583.945950 415.287441 586.680803 418.026055 589.415657 439.059835 592.150511 423.907677 594.885364 420.511081 597.620218 418.030946 600.355071 416.046998 603.089925 446.749190 605.824779 434.190396 608.559632 455.465596 611.294486 455.423274 614.029340 453.988517 616.764193 437.910539 619.499047 436.371997 622.233901 442.903428 624.968754 441.539315 627.703608 440.297730 630.438462 462.381043 630.438462 464.965077 627.703608 443.021878 624.968754 446.953867 622.233901 449.498904 619.499047 440.824312 616.764193 439.863041 614.029340 459.514927 611.294486 458.496140 608.559632 459.204842 605.824779 439.746216 603.089925 452.584833 600.355071 427.057275 597.620218 429.019767 594.885364 428.906463 592.150511 436.274775 589.415657 445.481413 586.680803 423.668819 583.945950 419.540334 581.211096 442.399569 578.476242 411.675591 575.741389 427.467394 573.006535 433.093700 570.271681 436.442204 567.536828 342.279716 564.801974 452.731198 562.067120 427.755858 559.332267 427.315805 556.597413 438.873706 553.862560 432.533614 551.127706 441.328393 548.392852 457.830664 545.657999 462.027535 542.923145 454.468227 540.188291 455.519082 537.453438 465.647281 534.718584 437.327225 531.983730 444.579830 529.248877 439.794910 526.514023 448.502028 523.779170 438.722728 521.044316 447.593824 518.309462 446.860148 515.574609 464.050811 512.839755 438.725407 510.104901 446.503386 507.370048 430.499857 504.635194 441.395379 501.900340 456.373113 499.165487 432.084336 496.430633 447.325158 493.695779 443.363786 490.960926 478.650421 488.226072 488.675674 485.491219 501.204321 482.756365 476.752887 480.021511 465.428021 477.286658 471.112218 474.551804 462.683523 471.816950 483.255488 469.082097 454.408766 466.347243 453.394996 463.612389 478.569313 460.877536 465.525659 458.142682 474.625302 455.407828 468.755584 452.672975 474.073219 449.938121 474.312658 447.203268 447.459966 444.468414 446.714199 441.733560 455.900578 438.998707 448.175647 436.263853 466.981063 433.528999 461.572269 430.794146 478.136317 428.059292 456.907759 425.324438 475.216593 422.589585 464.386500 419.854731 467.068283 417.119877 470.816251 414.385024 453.109161 411.650170 441.229737 408.915317 452.344354 406.180463 448.009532 403.445609 428.769596 400.710756 415.358825 397.975902 464.817153 395.241048 452.908467 392.506195 454.322616 389.771341 458.011836 387.036487 456.756443 384.301634 467.971272 381.566780 438.486674 378.831926 449.863443 376.097073 448.041776 373.362219 471.949951 370.627366 445.513045 367.892512 424.098006 365.157658 438.474888 362.422805 449.362898 359.687951 464.642908 356.953097 449.325228 354.218244 393.006652 351.483390 483.132180 348.748536 440.905097 346.013683 437.842668 343.278829 449.967772 340.543975 459.163063 337.809122 471.129345 335.074268 438.974805 332.339415 453.273948 329.604561 454.598334 326.869707 455.951805 324.134854 439.307101 321.400000 455.786647 318.665146 451.414114 315.930293 440.153847 313.195439 472.364595 310.460585 450.268439 307.725732 450.922944 304.990878 487.540901 302.256025 437.567192 299.521171 495.278779 296.786317 464.134853 294.051464 472.152227 291.316610 469.079883 288.581756 472.709602 285.846903 486.906936 283.112049 474.839798 280.377195 472.363691 277.642342 475.902102 274.907488 489.605971 272.172634 483.645192 269.437781 467.177217 266.702927 487.406789 263.968074 490.086424 261.233220 474.826731 258.498366 461.719256 255.763513 475.880076 253.028659 492.664817 250.293805 465.077703 247.558952 466.108325 244.824098 476.713858 242.089244 489.644567 239.354391 458.828369 236.619537 485.458901 233.884683 509.533305 231.149830 478.840509 228.414976 477.613881 225.680123 464.604083 222.945269 448.520106 220.210415 505.809154 217.475562 499.293376 214.740708 493.723541 212.005854 499.075642 209.271001 498.477868 206.536147 496.165947 203.801293 501.307073 201.066440 511.303976 198.331586 498.386956 195.596732 497.819792 192.861879 498.880427 190.127025 501.391474 187.392172 502.242537 184.657318 495.221021 181.922464 492.944738 179.187611 492.249717 176.452757 502.394178 173.717903 510.563904 170.983050 491.823627 168.248196 447.182075 165.513342 498.229822 162.778489 493.738273 160.043635 494.785678 157.308781 500.359637 154.573928 504.227885 151.839074 501.195040 149.104221 508.415265 146.369367 499.842553 143.634513 507.751347 140.899660 504.744474 138.164806 505.262308 135.429952 505.638603 132.695099 505.809653 129.960245 508.650228 127.225391 513.429851 124.490538 511.250256 121.755684 508.857851 119.020830 505.871343 116.285977 507.843772 113.551123 510.237893 110.816270 507.629703 108.081416 506.460665 105.346562 500.744910 102.611709 491.970488 99.876855 504.492696 97.142001 511.424630 94.407148 509.715240 91.672294 484.802695 88.937440 503.208789 86.202587 504.220408 83.467733 504.824925 80.732880 504.842296 77.998026 507.565144 75.263172 495.674727 72.528319 500.061384 69.793465 517.190831 67.058611 517.857278 64.323758 512.955370 61.588904 512.846409 58.854050 515.636909 56.119197 516.032042 53.384343 516.827906 50.649489 515.000484 47.914636 510.611630 45.179782 472.587014 42.444929 514.732595 39.710075 514.880028 36.975221 519.762919 34.240368 517.604020 31.505514 516.387037 28.770660 516.963078 26.035807 519.432904 23.300953 522.268143 20.566099 523.382641 17.831246 522.763782 15.096392 522.844579 12.361538 522.124283\"/></g><g class=\"series serie-16 color-16\"><path class=\"line reactive\" d=\"M12.361538 522.124283 L15.096392 522.809179 17.831246 522.761651 20.566099 523.382641 23.300953 522.082274 26.035807 519.362625 28.770660 515.963853 31.505514 515.586645 34.240368 516.975044 36.975221 519.344494 39.710075 513.990350 42.444929 513.918901 45.179782 471.307480 47.914636 509.173086 50.649489 514.050518 53.384343 516.557870 56.119197 515.845120 58.854050 515.198581 61.588904 512.006727 64.323758 511.931929 67.058611 517.438173 69.793465 516.986688 72.528319 498.620143 75.263172 494.284168 77.998026 505.875624 80.732880 503.424508 83.467733 503.070695 86.202587 502.807606 88.937440 502.270928 91.672294 483.713177 94.407148 508.706256 97.142001 510.995752 99.876855 503.204587 102.611709 490.999557 105.346562 499.338218 108.081416 503.141586 110.816270 504.638094 113.551123 508.971280 116.285977 505.820356 119.020830 502.586770 121.755684 507.010891 124.490538 510.377385 127.225391 512.863921 129.960245 507.420368 132.695099 504.940599 135.429952 503.296300 138.164806 504.672164 140.899660 503.708327 143.634513 506.235034 146.369367 497.530598 149.104221 506.643011 151.839074 499.578900 154.573928 500.686859 157.308781 498.250608 160.043635 492.813518 162.778489 491.123314 165.513342 496.357075 168.248196 445.281795 170.983050 488.811519 173.717903 509.732316 176.452757 501.100910 179.187611 488.980610 181.922464 490.687307 184.657318 493.142331 187.392172 500.624086 190.127025 500.441008 192.861879 497.314867 195.596732 495.777148 198.331586 496.655295 201.066440 510.725895 203.801293 498.540770 206.536147 494.545325 209.271001 497.587027 212.005854 497.918843 214.740708 492.817224 217.475562 497.761849 220.210415 504.846294 222.945269 446.252021 225.680123 461.364818 228.414976 472.401447 231.149830 474.790650 233.884683 507.354099 236.619537 482.843190 239.354391 453.337593 242.089244 487.629241 244.824098 473.972990 247.558952 461.871271 250.293805 460.898825 253.028659 490.734214 255.763513 472.596478 258.498366 457.322013 261.233220 471.026984 263.968074 487.624026 266.702927 484.123603 269.437781 464.240886 272.172634 478.994638 274.907488 488.045750 277.642342 472.323367 280.377195 466.994340 283.112049 471.549149 285.846903 482.966063 288.581756 469.413907 291.316610 465.615589 294.051464 468.646503 296.786317 459.596365 299.521171 494.107855 302.256025 424.771875 304.990878 477.878369 307.725732 439.280497 310.460585 441.379918 313.195439 462.479597 315.930293 425.531459 318.665146 444.113789 321.400000 446.785521 324.134854 431.479165 326.869707 445.503977 329.604561 447.791448 332.339415 447.040968 335.074268 425.189740 337.809122 460.877989 340.543975 452.521596 343.278829 439.888913 346.013683 430.191722 348.748536 432.566502 351.483390 478.370101 354.218244 381.434979 356.953097 439.385317 359.687951 457.799945 362.422805 442.590313 365.157658 436.141840 367.892512 416.593008 370.627366 432.619443 373.362219 464.430969 376.097073 437.475738 378.831926 438.788590 381.566780 426.983861 384.301634 455.696279 387.036487 447.935835 389.771341 448.075467 392.506195 443.372034 395.241048 445.447670 397.975902 452.694293 400.710756 403.625755 403.445609 412.735970 406.180463 436.309777 408.915317 445.449957 411.650170 430.424571 414.385024 448.380696 417.119877 465.100694 419.854731 461.118351 422.589585 455.486837 425.324438 467.442223 428.059292 448.827068 430.794146 471.819510 433.528999 452.445400 436.263853 454.921780 438.998707 434.572167 441.733560 444.583270 444.468414 425.463909 447.203268 432.499530 449.938121 469.474005 452.672975 467.278257 455.407828 462.993576 458.142682 468.558133 460.877536 457.418782 463.612389 467.994263 466.347243 441.028485 469.082097 441.537156 471.816950 478.109237 474.551804 455.966576 477.286658 463.418112 480.021511 458.583532 482.756365 469.166831 485.491219 497.523851 488.226072 482.629669 490.960926 471.783740 493.695779 430.742227 496.430633 440.664168 499.165487 423.980310 501.900340 445.943269 504.635194 433.234816 507.370048 421.606466 510.104901 440.509814 512.839755 428.212636 515.574609 456.883143 518.309462 437.833649 521.044316 438.925110 523.779170 426.900449 526.514023 438.936421 529.248877 428.689625 531.983730 432.928474 534.718584 425.893361 537.453438 456.025077 540.188291 444.946298 542.923145 446.502994 545.657999 452.105416 548.392852 448.627178 551.127706 429.785837 553.862560 380.944027 556.597413 405.865793 559.332267 404.233971 562.067120 414.656814 564.801974 435.652073 567.536828 327.754167 570.271681 414.202020 573.006535 408.649323 575.741389 403.158067 578.476242 391.718361 581.211096 427.943788 583.945950 403.331367 586.680803 403.186285 589.415657 428.101277 592.150511 417.724112 594.885364 411.047129 597.620218 406.497846 600.355071 403.111485 603.089925 436.612099 605.824779 425.334928 608.559632 447.661733 611.294486 446.989060 614.029340 441.987703 616.764193 423.209866 619.499047 426.722863 622.233901 419.757650 624.968754 434.090712 627.703608 436.590450 630.438462 459.518228 630.438462 462.381043 627.703608 440.297730 624.968754 441.539315 622.233901 442.903428 619.499047 436.371997 616.764193 437.910539 614.029340 453.988517 611.294486 455.423274 608.559632 455.465596 605.824779 434.190396 603.089925 446.749190 600.355071 416.046998 597.620218 418.030946 594.885364 420.511081 592.150511 423.907677 589.415657 439.059835 586.680803 418.026055 583.945950 415.287441 581.211096 436.024872 578.476242 404.849824 575.741389 420.125274 573.006535 425.183123 570.271681 429.871393 567.536828 334.565305 564.801974 444.177331 562.067120 420.559632 559.332267 415.357719 556.597413 425.893403 553.862560 423.524490 551.127706 432.951352 548.392852 450.864862 545.657999 456.345466 542.923145 448.901698 540.188291 447.729261 537.453438 458.238685 534.718584 430.449201 531.983730 436.781111 529.248877 430.712177 526.514023 439.881736 523.779170 429.998202 521.044316 441.757591 518.309462 441.982094 515.574609 460.014943 512.839755 430.604045 510.104901 442.876265 507.370048 424.239785 504.635194 435.279372 501.900340 446.651131 499.165487 425.931320 496.430633 441.495345 493.695779 431.719722 490.960926 472.417103 488.226072 482.667022 485.491219 497.680955 482.756365 471.292063 480.021511 460.744538 477.286658 464.954062 474.551804 457.559249 471.816950 478.693327 469.082097 442.495616 466.347243 442.560863 463.612389 468.508300 460.877536 458.351614 458.142682 469.417205 455.407828 464.001937 452.672975 468.546464 449.938121 470.504464 447.203268 433.758660 444.468414 426.317065 441.733560 445.364606 438.998707 435.797040 436.263853 456.028829 433.528999 452.975295 430.794146 472.486152 428.059292 449.669273 425.324438 469.074015 422.589585 456.375929 419.854731 461.720768 417.119877 465.788762 414.385024 448.815924 411.650170 431.097052 408.915317 445.905574 406.180463 436.841801 403.445609 413.767914 400.710756 405.264094 397.975902 453.349683 395.241048 445.955572 392.506195 443.555446 389.771341 448.652813 387.036487 449.187476 384.301634 456.347307 381.566780 427.582248 378.831926 439.550512 376.097073 440.056802 373.362219 465.601192 370.627366 433.236710 367.892512 417.140396 365.157658 436.872885 362.422805 444.326668 359.687951 460.053483 356.953097 441.901966 354.218244 382.882983 351.483390 480.483418 348.748536 435.926146 346.013683 430.888620 343.278829 442.261837 340.543975 454.984179 337.809122 462.266954 335.074268 427.830349 332.339415 448.091648 329.604561 449.821950 326.869707 448.273315 324.134854 433.325059 321.400000 449.997179 318.665146 444.901492 315.930293 426.582387 313.195439 463.641888 310.460585 443.706793 307.725732 445.208711 304.990878 478.367371 302.256025 427.162092 299.521171 494.545771 296.786317 459.780281 294.051464 468.967963 291.316610 466.231976 288.581756 470.330195 285.846903 484.169414 283.112049 472.488851 280.377195 467.416852 277.642342 472.633528 274.907488 488.293288 272.172634 480.132860 269.437781 465.246321 266.702927 485.579322 263.968074 488.344525 261.233220 471.477724 258.498366 458.833493 255.763513 473.882215 253.028659 490.991079 250.293805 461.311529 247.558952 462.456063 244.824098 474.524699 242.089244 487.726127 239.354391 454.598514 236.619537 483.592077 233.884683 507.461657 231.149830 474.987873 228.414976 472.630341 225.680123 462.023688 222.945269 447.498606 220.210415 505.034512 217.475562 498.064048 214.740708 492.859068 212.005854 498.119470 209.271001 497.619472 206.536147 494.808833 203.801293 498.738450 201.066440 510.798776 198.331586 496.921275 195.596732 496.206771 192.861879 497.385211 190.127025 500.917879 187.392172 501.247888 184.657318 493.303728 181.922464 491.004508 179.187611 489.562614 176.452757 501.238163 173.717903 509.915677 170.983050 489.006687 168.248196 445.593910 165.513342 496.536499 162.778489 492.397165 160.043635 493.075951 157.308781 498.438849 154.573928 501.352137 151.839074 499.650543 149.104221 506.770444 146.369367 498.487860 143.634513 506.361341 140.899660 503.718739 138.164806 504.937662 135.429952 503.336200 132.695099 504.979217 129.960245 507.553429 127.225391 512.917337 124.490538 510.497448 121.755684 507.152985 119.020830 502.635444 116.285977 505.921144 113.551123 509.099943 110.816270 504.858231 108.081416 503.201406 105.346562 499.443950 102.611709 491.080592 99.876855 503.508755 97.142001 511.005724 94.407148 509.019334 91.672294 484.696545 88.937440 502.385768 86.202587 502.991127 83.467733 503.739183 80.732880 503.496666 77.998026 506.079086 75.263172 494.610815 72.528319 499.182196 69.793465 517.015282 67.058611 517.498258 64.323758 512.120453 61.588904 512.032543 58.854050 515.497385 56.119197 515.888519 53.384343 516.575725 50.649489 514.063733 47.914636 509.589106 45.179782 472.083179 42.444929 513.982732 39.710075 514.084962 36.975221 519.382914 34.240368 516.975044 31.505514 515.747345 28.770660 516.438393 26.035807 519.413344 23.300953 522.255337 20.566099 523.382641 17.831246 522.763782 15.096392 522.844579 12.361538 522.124283\"/></g><g class=\"series serie-17 color-17\"><path class=\"line reactive\" d=\"M12.361538 522.041601 L15.096392 522.700636 17.831246 522.727519 20.566099 523.059055 23.300953 522.058751 26.035807 519.309165 28.770660 515.793624 31.505514 515.191333 34.240368 516.814023 36.975221 519.129420 39.710075 513.704742 42.444929 513.545082 45.179782 468.747497 47.914636 508.588035 50.649489 513.925145 53.384343 516.247095 56.119197 515.672064 58.854050 514.968876 61.588904 511.594322 64.323758 511.528242 67.058611 517.435143 69.793465 516.937987 72.528319 497.278628 75.263172 492.003626 77.998026 504.776843 80.732880 502.743974 83.467733 502.269600 86.202587 502.163402 88.937440 501.054875 91.672294 471.503459 94.407148 503.135430 97.142001 509.639247 99.876855 501.889351 102.611709 489.417506 105.346562 498.677169 108.081416 500.723741 110.816270 504.135439 113.551123 508.616540 116.285977 503.622910 119.020830 501.134185 121.755684 505.732692 124.490538 509.651163 127.225391 512.417563 129.960245 506.041171 132.695099 503.784552 135.429952 502.534130 138.164806 503.445230 140.899660 502.040258 143.634513 505.908053 146.369367 495.513419 149.104221 506.473208 151.839074 498.286121 154.573928 498.322535 157.308781 495.259403 160.043635 490.771327 162.778489 489.788047 165.513342 493.906463 168.248196 444.003572 170.983050 487.075385 173.717903 508.544054 176.452757 499.479278 179.187611 487.359977 181.922464 489.633231 184.657318 492.584486 187.392172 499.903083 190.127025 499.328347 192.861879 495.074190 195.596732 494.694870 198.331586 495.545546 201.066440 509.776957 203.801293 496.480203 206.536147 493.989708 209.271001 496.151097 212.005854 496.835929 214.740708 491.455414 217.475562 495.890166 220.210415 503.446905 222.945269 435.988474 225.680123 458.209890 228.414976 470.235618 231.149830 472.945130 233.884683 505.721259 236.619537 480.056258 239.354391 446.730968 242.089244 486.006434 244.824098 470.608499 247.558952 458.747899 250.293805 457.855102 253.028659 489.985019 255.763513 469.337813 258.498366 454.055346 261.233220 469.030804 263.968074 485.669699 266.702927 481.468619 269.437781 457.997300 272.172634 475.546056 274.907488 487.025307 277.642342 470.725465 280.377195 465.170273 283.112049 469.056895 285.846903 481.283196 288.581756 466.528431 291.316610 462.250035 294.051464 464.032481 296.786317 457.781912 299.521171 491.836838 302.256025 417.607633 304.990878 475.673095 307.725732 433.109970 310.460585 433.626059 313.195439 457.493142 315.930293 419.519778 318.665146 440.744215 321.400000 433.637615 324.134854 425.773529 326.869707 437.223796 329.604561 441.308465 332.339415 444.718992 335.074268 420.319897 337.809122 456.074122 340.543975 450.662801 343.278829 433.176132 346.013683 423.819141 348.748536 425.478437 351.483390 475.167079 354.218244 366.857286 356.953097 432.789566 359.687951 453.704547 362.422805 438.685147 365.157658 432.570120 367.892512 413.194152 370.627366 429.091470 373.362219 461.004562 376.097073 433.837943 378.831926 435.588156 381.566780 425.504771 384.301634 454.425154 387.036487 446.372536 389.771341 447.439862 392.506195 442.236126 395.241048 444.407772 397.975902 450.752266 400.710756 400.291330 403.445609 409.963162 406.180463 435.464873 408.915317 443.767833 411.650170 429.317548 414.385024 446.948651 417.119877 463.996479 419.854731 459.921687 422.589585 454.541910 425.324438 465.157808 428.059292 447.191555 430.794146 470.062963 433.528999 449.978332 436.263853 451.728881 438.998707 432.139982 441.733560 442.336451 444.468414 421.900929 447.203268 428.300645 449.938121 466.008460 452.672975 461.899225 455.407828 461.228499 458.142682 466.761607 460.877536 455.249347 463.612389 466.221195 466.347243 438.533880 469.082097 439.107053 471.816950 476.211632 474.551804 454.261785 477.286658 459.857736 480.021511 457.247232 482.756365 464.471378 485.491219 496.382590 488.226072 482.325083 490.960926 469.372490 493.695779 428.361676 496.430633 438.398242 499.165487 419.152064 501.900340 443.484861 504.635194 429.183398 507.370048 414.766359 510.104901 437.824318 512.839755 420.760337 515.574609 452.533950 518.309462 434.666870 521.044316 435.859433 523.779170 424.175676 526.514023 437.605997 529.248877 424.776638 531.983730 429.554146 534.718584 421.377277 537.453438 452.115611 540.188291 442.139655 542.923145 429.886626 545.657999 448.926281 548.392852 442.514815 551.127706 424.865268 553.862560 369.886873 556.597413 399.132843 559.332267 387.305288 562.067120 397.478739 564.801974 393.788507 567.536828 276.507411 570.271681 391.966319 573.006535 395.006690 575.741389 395.362679 578.476242 364.540660 581.211096 407.823782 583.945950 390.982098 586.680803 391.931957 589.415657 418.008257 592.150511 412.582442 594.885364 406.449544 597.620218 400.944574 600.355071 397.860708 603.089925 425.503159 605.824779 418.971716 608.559632 409.800319 611.294486 392.015576 614.029340 401.085460 616.764193 363.575245 619.499047 413.596109 622.233901 409.386452 624.968754 425.253041 627.703608 434.288810 630.438462 457.424410 630.438462 459.518228 627.703608 436.590450 624.968754 434.090712 622.233901 419.757650 619.499047 426.722863 616.764193 423.209866 614.029340 441.987703 611.294486 446.989060 608.559632 447.661733 605.824779 425.334928 603.089925 436.612099 600.355071 403.111485 597.620218 406.497846 594.885364 411.047129 592.150511 417.724112 589.415657 428.101277 586.680803 403.186285 583.945950 403.331367 581.211096 427.943788 578.476242 391.718361 575.741389 403.158067 573.006535 408.649323 570.271681 414.202020 567.536828 327.754167 564.801974 435.652073 562.067120 414.656814 559.332267 404.233971 556.597413 405.865793 553.862560 380.944027 551.127706 429.785837 548.392852 448.627178 545.657999 452.105416 542.923145 446.502994 540.188291 444.946298 537.453438 456.025077 534.718584 425.893361 531.983730 432.928474 529.248877 428.689625 526.514023 438.936421 523.779170 426.900449 521.044316 438.925110 518.309462 437.833649 515.574609 456.883143 512.839755 428.212636 510.104901 440.509814 507.370048 421.606466 504.635194 433.234816 501.900340 445.943269 499.165487 423.980310 496.430633 440.664168 493.695779 430.742227 490.960926 471.783740 488.226072 482.629669 485.491219 497.523851 482.756365 469.166831 480.021511 458.583532 477.286658 463.418112 474.551804 455.966576 471.816950 478.109237 469.082097 441.537156 466.347243 441.028485 463.612389 467.994263 460.877536 457.418782 458.142682 468.558133 455.407828 462.993576 452.672975 467.278257 449.938121 469.474005 447.203268 432.499530 444.468414 425.463909 441.733560 444.583270 438.998707 434.572167 436.263853 454.921780 433.528999 452.445400 430.794146 471.819510 428.059292 448.827068 425.324438 467.442223 422.589585 455.486837 419.854731 461.118351 417.119877 465.100694 414.385024 448.380696 411.650170 430.424571 408.915317 445.449957 406.180463 436.309777 403.445609 412.735970 400.710756 403.625755 397.975902 452.694293 395.241048 445.447670 392.506195 443.372034 389.771341 448.075467 387.036487 447.935835 384.301634 455.696279 381.566780 426.983861 378.831926 438.788590 376.097073 437.475738 373.362219 464.430969 370.627366 432.619443 367.892512 416.593008 365.157658 436.141840 362.422805 442.590313 359.687951 457.799945 356.953097 439.385317 354.218244 381.434979 351.483390 478.370101 348.748536 432.566502 346.013683 430.191722 343.278829 439.888913 340.543975 452.521596 337.809122 460.877989 335.074268 425.189740 332.339415 447.040968 329.604561 447.791448 326.869707 445.503977 324.134854 431.479165 321.400000 446.785521 318.665146 444.113789 315.930293 425.531459 313.195439 462.479597 310.460585 441.379918 307.725732 439.280497 304.990878 477.878369 302.256025 424.771875 299.521171 494.107855 296.786317 459.596365 294.051464 468.646503 291.316610 465.615589 288.581756 469.413907 285.846903 482.966063 283.112049 471.549149 280.377195 466.994340 277.642342 472.323367 274.907488 488.045750 272.172634 478.994638 269.437781 464.240886 266.702927 484.123603 263.968074 487.624026 261.233220 471.026984 258.498366 457.322013 255.763513 472.596478 253.028659 490.734214 250.293805 460.898825 247.558952 461.871271 244.824098 473.972990 242.089244 487.629241 239.354391 453.337593 236.619537 482.843190 233.884683 507.354099 231.149830 474.790650 228.414976 472.401447 225.680123 461.364818 222.945269 446.252021 220.210415 504.846294 217.475562 497.761849 214.740708 492.817224 212.005854 497.918843 209.271001 497.587027 206.536147 494.545325 203.801293 498.540770 201.066440 510.725895 198.331586 496.655295 195.596732 495.777148 192.861879 497.314867 190.127025 500.441008 187.392172 500.624086 184.657318 493.142331 181.922464 490.687307 179.187611 488.980610 176.452757 501.100910 173.717903 509.732316 170.983050 488.811519 168.248196 445.281795 165.513342 496.357075 162.778489 491.123314 160.043635 492.813518 157.308781 498.250608 154.573928 500.686859 151.839074 499.578900 149.104221 506.643011 146.369367 497.530598 143.634513 506.235034 140.899660 503.708327 138.164806 504.672164 135.429952 503.296300 132.695099 504.940599 129.960245 507.420368 127.225391 512.863921 124.490538 510.377385 121.755684 507.010891 119.020830 502.586770 116.285977 505.820356 113.551123 508.971280 110.816270 504.638094 108.081416 503.141586 105.346562 499.338218 102.611709 490.999557 99.876855 503.204587 97.142001 510.995752 94.407148 508.706256 91.672294 483.713177 88.937440 502.270928 86.202587 502.807606 83.467733 503.070695 80.732880 503.424508 77.998026 505.875624 75.263172 494.284168 72.528319 498.620143 69.793465 516.986688 67.058611 517.438173 64.323758 511.931929 61.588904 512.006727 58.854050 515.198581 56.119197 515.845120 53.384343 516.557870 50.649489 514.050518 47.914636 509.173086 45.179782 471.307480 42.444929 513.918901 39.710075 513.990350 36.975221 519.344494 34.240368 516.975044 31.505514 515.586645 28.770660 515.963853 26.035807 519.362625 23.300953 522.082274 20.566099 523.382641 17.831246 522.761651 15.096392 522.809179 12.361538 522.124283\"/></g><g class=\"series serie-18 color-18\"><path class=\"line reactive\" d=\"M12.361538 522.025171 L15.096392 522.700636 17.831246 522.606677 20.566099 523.059055 23.300953 522.058751 26.035807 519.273772 28.770660 515.650559 31.505514 514.944366 34.240368 516.533287 36.975221 518.826131 39.710075 513.623420 42.444929 513.374144 45.179782 468.683790 47.914636 508.557744 50.649489 513.754529 53.384343 516.245034 56.119197 515.598948 58.854050 514.883949 61.588904 511.541695 64.323758 511.331921 67.058611 517.217836 69.793465 516.901241 72.528319 497.132272 75.263172 491.593169 77.998026 504.508711 80.732880 502.350271 83.467733 502.068052 86.202587 501.804115 88.937440 500.672289 91.672294 471.274603 94.407148 503.085259 97.142001 509.501203 99.876855 501.669989 102.611709 489.094094 105.346562 497.444014 108.081416 500.243282 110.816270 504.044058 113.551123 508.434600 116.285977 503.228533 119.020830 501.029626 121.755684 505.391690 124.490538 509.586254 127.225391 512.194038 129.960245 505.798572 132.695099 503.545214 135.429952 502.047199 138.164806 502.384753 140.899660 500.556285 143.634513 505.361049 146.369367 495.152179 149.104221 504.477155 151.839074 497.221604 154.573928 497.100853 157.308781 494.337057 160.043635 489.674268 162.778489 488.352183 165.513342 492.029274 168.248196 441.055608 170.983050 484.678728 173.717903 507.732190 176.452757 497.765202 179.187611 486.170834 181.922464 487.381353 184.657318 491.242431 187.392172 497.475106 190.127025 497.887128 192.861879 493.457260 195.596732 492.866552 198.331586 492.020077 201.066440 508.588077 203.801293 495.314282 206.536147 492.123005 209.271001 494.645362 212.005854 495.952067 214.740708 489.941222 217.475562 494.961747 220.210415 502.668401 222.945269 434.641089 225.680123 455.212159 228.414976 468.388108 231.149830 470.989741 233.884683 504.896305 236.619537 478.909170 239.354391 443.332211 242.089244 482.476522 244.824098 466.468001 247.558952 454.503813 250.293805 452.070847 253.028659 486.813827 255.763513 465.003876 258.498366 450.961971 261.233220 466.460104 263.968074 482.843029 266.702927 478.937286 269.437781 456.295348 272.172634 473.590017 274.907488 483.755439 277.642342 465.575572 280.377195 460.846149 283.112049 465.234310 285.846903 479.043194 288.581756 463.740785 291.316610 459.584524 294.051464 461.753480 296.786317 453.503923 299.521171 489.522482 302.256025 410.548221 304.990878 473.300004 307.725732 429.764562 310.460585 430.888619 313.195439 454.772961 315.930293 413.431670 318.665146 434.282905 321.400000 423.940906 324.134854 418.794757 326.869707 431.940565 329.604561 433.540725 332.339415 436.831679 335.074268 414.495421 337.809122 452.220343 340.543975 444.753142 343.278829 426.937090 346.013683 417.417485 348.748536 417.930584 351.483390 473.317895 354.218244 362.477971 356.953097 424.818109 359.687951 449.442200 362.422805 434.540449 365.157658 428.004797 367.892512 410.135026 370.627366 424.834145 373.362219 457.535755 376.097073 430.036327 378.831926 430.657760 381.566780 421.621346 384.301634 452.895393 387.036487 441.084866 389.771341 443.610899 392.506195 437.166657 395.241048 441.250860 397.975902 446.468028 400.710756 396.529791 403.445609 405.865650 406.180463 431.594013 408.915317 440.188640 411.650170 424.364418 414.385024 443.540424 417.119877 461.032301 419.854731 455.480145 422.589585 449.716030 425.324438 463.081590 428.059292 443.605652 430.794146 468.359287 433.528999 446.606942 436.263853 449.262523 438.998707 430.697823 441.733560 441.271169 444.468414 419.061209 447.203268 426.180361 449.938121 463.715781 452.672975 461.061446 455.407828 460.448417 458.142682 465.699299 460.877536 453.593065 463.612389 463.311459 466.347243 436.215934 469.082097 436.725304 471.816950 474.420097 474.551804 452.722232 477.286658 459.117518 480.021511 456.148195 482.756365 462.908475 485.491219 495.914721 488.226072 481.470682 490.960926 467.938592 493.695779 427.353937 496.430633 437.053959 499.165487 417.463039 501.900340 442.651174 504.635194 427.893130 507.370048 413.704837 510.104901 436.755624 512.839755 420.467219 515.574609 451.706795 518.309462 433.969965 521.044316 434.989383 523.779170 423.122330 526.514023 436.019790 529.248877 423.060682 531.983730 428.144512 534.718584 418.655530 537.453438 449.993946 540.188291 439.897279 542.923145 428.128491 545.657999 444.797741 548.392852 440.922680 551.127706 421.975030 553.862560 368.536494 556.597413 396.496534 559.332267 384.623474 562.067120 395.730572 564.801974 391.671586 567.536828 275.107367 570.271681 390.487316 573.006535 392.219855 575.741389 392.503027 578.476242 360.489789 581.211096 406.031097 583.945950 389.541337 586.680803 389.909010 589.415657 416.822996 592.150511 410.815354 594.885364 403.803124 597.620218 399.355657 600.355071 396.703788 603.089925 424.219800 605.824779 417.753140 608.559632 408.981278 611.294486 390.680178 614.029340 399.842033 616.764193 363.399729 619.499047 411.182373 622.233901 407.143705 624.968754 424.263410 627.703608 431.908712 630.438462 454.714526 630.438462 457.424410 627.703608 434.288810 624.968754 425.253041 622.233901 409.386452 619.499047 413.596109 616.764193 363.575245 614.029340 401.085460 611.294486 392.015576 608.559632 409.800319 605.824779 418.971716 603.089925 425.503159 600.355071 397.860708 597.620218 400.944574 594.885364 406.449544 592.150511 412.582442 589.415657 418.008257 586.680803 391.931957 583.945950 390.982098 581.211096 407.823782 578.476242 364.540660 575.741389 395.362679 573.006535 395.006690 570.271681 391.966319 567.536828 276.507411 564.801974 393.788507 562.067120 397.478739 559.332267 387.305288 556.597413 399.132843 553.862560 369.886873 551.127706 424.865268 548.392852 442.514815 545.657999 448.926281 542.923145 429.886626 540.188291 442.139655 537.453438 452.115611 534.718584 421.377277 531.983730 429.554146 529.248877 424.776638 526.514023 437.605997 523.779170 424.175676 521.044316 435.859433 518.309462 434.666870 515.574609 452.533950 512.839755 420.760337 510.104901 437.824318 507.370048 414.766359 504.635194 429.183398 501.900340 443.484861 499.165487 419.152064 496.430633 438.398242 493.695779 428.361676 490.960926 469.372490 488.226072 482.325083 485.491219 496.382590 482.756365 464.471378 480.021511 457.247232 477.286658 459.857736 474.551804 454.261785 471.816950 476.211632 469.082097 439.107053 466.347243 438.533880 463.612389 466.221195 460.877536 455.249347 458.142682 466.761607 455.407828 461.228499 452.672975 461.899225 449.938121 466.008460 447.203268 428.300645 444.468414 421.900929 441.733560 442.336451 438.998707 432.139982 436.263853 451.728881 433.528999 449.978332 430.794146 470.062963 428.059292 447.191555 425.324438 465.157808 422.589585 454.541910 419.854731 459.921687 417.119877 463.996479 414.385024 446.948651 411.650170 429.317548 408.915317 443.767833 406.180463 435.464873 403.445609 409.963162 400.710756 400.291330 397.975902 450.752266 395.241048 444.407772 392.506195 442.236126 389.771341 447.439862 387.036487 446.372536 384.301634 454.425154 381.566780 425.504771 378.831926 435.588156 376.097073 433.837943 373.362219 461.004562 370.627366 429.091470 367.892512 413.194152 365.157658 432.570120 362.422805 438.685147 359.687951 453.704547 356.953097 432.789566 354.218244 366.857286 351.483390 475.167079 348.748536 425.478437 346.013683 423.819141 343.278829 433.176132 340.543975 450.662801 337.809122 456.074122 335.074268 420.319897 332.339415 444.718992 329.604561 441.308465 326.869707 437.223796 324.134854 425.773529 321.400000 433.637615 318.665146 440.744215 315.930293 419.519778 313.195439 457.493142 310.460585 433.626059 307.725732 433.109970 304.990878 475.673095 302.256025 417.607633 299.521171 491.836838 296.786317 457.781912 294.051464 464.032481 291.316610 462.250035 288.581756 466.528431 285.846903 481.283196 283.112049 469.056895 280.377195 465.170273 277.642342 470.725465 274.907488 487.025307 272.172634 475.546056 269.437781 457.997300 266.702927 481.468619 263.968074 485.669699 261.233220 469.030804 258.498366 454.055346 255.763513 469.337813 253.028659 489.985019 250.293805 457.855102 247.558952 458.747899 244.824098 470.608499 242.089244 486.006434 239.354391 446.730968 236.619537 480.056258 233.884683 505.721259 231.149830 472.945130 228.414976 470.235618 225.680123 458.209890 222.945269 435.988474 220.210415 503.446905 217.475562 495.890166 214.740708 491.455414 212.005854 496.835929 209.271001 496.151097 206.536147 493.989708 203.801293 496.480203 201.066440 509.776957 198.331586 495.545546 195.596732 494.694870 192.861879 495.074190 190.127025 499.328347 187.392172 499.903083 184.657318 492.584486 181.922464 489.633231 179.187611 487.359977 176.452757 499.479278 173.717903 508.544054 170.983050 487.075385 168.248196 444.003572 165.513342 493.906463 162.778489 489.788047 160.043635 490.771327 157.308781 495.259403 154.573928 498.322535 151.839074 498.286121 149.104221 506.473208 146.369367 495.513419 143.634513 505.908053 140.899660 502.040258 138.164806 503.445230 135.429952 502.534130 132.695099 503.784552 129.960245 506.041171 127.225391 512.417563 124.490538 509.651163 121.755684 505.732692 119.020830 501.134185 116.285977 503.622910 113.551123 508.616540 110.816270 504.135439 108.081416 500.723741 105.346562 498.677169 102.611709 489.417506 99.876855 501.889351 97.142001 509.639247 94.407148 503.135430 91.672294 471.503459 88.937440 501.054875 86.202587 502.163402 83.467733 502.269600 80.732880 502.743974 77.998026 504.776843 75.263172 492.003626 72.528319 497.278628 69.793465 516.937987 67.058611 517.435143 64.323758 511.528242 61.588904 511.594322 58.854050 514.968876 56.119197 515.672064 53.384343 516.247095 50.649489 513.925145 47.914636 508.588035 45.179782 468.747497 42.444929 513.545082 39.710075 513.704742 36.975221 519.129420 34.240368 516.814023 31.505514 515.191333 28.770660 515.793624 26.035807 519.309165 23.300953 522.058751 20.566099 523.059055 17.831246 522.727519 15.096392 522.700636 12.361538 522.041601\"/></g><g class=\"series serie-19 color-19\"><path class=\"line reactive\" d=\"M12.361538 522.025171 L15.096392 522.541699 17.831246 522.567181 20.566099 523.059055 23.300953 522.058751 26.035807 518.957152 28.770660 515.636589 31.505514 514.874707 34.240368 516.508448 36.975221 518.483769 39.710075 513.113867 42.444929 513.326835 45.179782 467.216977 47.914636 508.015161 50.649489 513.678238 53.384343 516.219240 56.119197 515.378337 58.854050 514.237910 61.588904 511.167894 64.323758 511.247925 67.058611 517.202664 69.793465 516.837785 72.528319 495.635617 75.263172 490.583657 77.998026 504.207581 80.732880 501.108618 83.467733 500.907416 86.202587 500.968749 88.937440 500.179042 91.672294 471.258081 94.407148 502.857702 97.142001 509.489732 99.876855 501.222123 102.611709 489.049856 105.346562 496.038911 108.081416 499.824760 110.816270 503.981599 113.551123 508.350384 116.285977 502.752476 119.020830 500.458239 121.755684 504.482190 124.490538 509.185126 127.225391 511.351109 129.960245 504.593680 132.695099 502.957525 135.429952 500.667965 138.164806 501.580866 140.899660 500.066228 143.634513 504.187877 146.369367 493.536038 149.104221 504.073795 151.839074 496.369697 154.573928 495.467823 157.308781 491.961132 160.043635 488.999100 162.778489 487.116602 165.513342 490.201688 168.248196 440.318426 170.983050 483.681938 173.717903 506.486760 176.452757 495.851063 179.187611 483.686098 181.922464 484.977368 184.657318 487.770422 187.392172 495.328015 190.127025 496.957314 192.861879 492.682689 195.596732 491.663016 198.331586 491.170067 201.066440 506.612994 203.801293 493.297780 206.536147 491.528838 209.271001 493.757220 212.005854 494.020477 214.740708 487.871397 217.475562 493.181391 220.210415 502.305271 222.945269 433.200751 225.680123 451.712826 228.414976 464.707071 231.149830 468.614642 233.884683 503.567533 236.619537 476.153050 239.354391 441.107853 242.089244 480.452542 244.824098 462.443899 247.558952 449.687016 250.293805 448.655834 253.028659 483.587460 255.763513 462.341680 258.498366 448.720172 261.233220 464.069226 263.968074 480.249742 266.702927 476.404239 269.437781 449.254458 272.172634 468.800836 274.907488 482.549234 277.642342 462.630277 280.377195 457.049708 283.112049 461.920115 285.846903 474.982018 288.581756 461.057609 291.316610 456.930957 294.051464 457.397024 296.786317 449.706223 299.521171 484.613153 302.256025 404.077607 304.990878 469.845617 307.725732 424.781622 310.460585 428.865789 313.195439 450.662148 315.930293 405.871605 318.665146 430.020519 321.400000 420.420863 324.134854 415.850130 326.869707 428.563640 329.604561 429.178268 332.339415 434.476202 335.074268 406.938489 337.809122 449.407796 340.543975 438.653376 343.278829 422.732769 346.013683 412.102775 348.748536 413.115743 351.483390 471.553152 354.218244 361.002766 356.953097 421.826090 359.687951 443.301341 362.422805 431.615279 365.157658 424.981499 367.892512 408.118722 370.627366 421.565106 373.362219 451.598585 376.097073 424.881817 378.831926 424.598704 381.566780 416.927970 384.301634 448.461740 387.036487 433.914587 389.771341 438.276209 392.506195 433.578951 395.241048 435.524270 397.975902 442.943833 400.710756 388.152375 403.445609 397.316227 406.180463 421.192293 408.915317 430.584342 411.650170 414.622390 414.385024 436.050777 417.119877 455.906708 419.854731 446.759867 422.589585 442.351670 425.324438 458.464325 428.059292 437.223350 430.794146 462.695785 433.528999 443.109570 436.263853 445.363981 438.998707 424.101849 441.733560 433.603341 444.468414 411.491581 447.203268 419.702513 449.938121 458.562294 452.672975 453.588350 455.407828 452.059233 458.142682 461.579559 460.877536 447.795745 463.612389 457.720145 466.347243 431.198753 469.082097 433.606694 471.816950 468.923769 474.551804 446.043715 477.286658 450.110449 480.021511 445.549730 482.756365 458.011400 485.491219 491.610181 488.226072 477.971743 490.960926 461.568667 493.695779 423.082890 496.430633 432.553467 499.165487 413.611168 501.900340 438.341689 504.635194 418.732733 507.370048 406.173478 510.104901 423.043593 512.839755 410.595747 515.574609 444.287708 518.309462 425.151688 521.044316 423.101249 523.779170 409.832560 526.514023 424.975432 529.248877 416.776112 531.983730 414.086155 534.718584 403.347311 537.453438 440.676440 540.188291 428.863167 542.923145 414.128659 545.657999 429.202372 548.392852 434.176015 551.127706 411.238510 553.862560 360.152598 556.597413 383.224997 559.332267 376.325292 562.067120 388.039282 564.801974 382.191931 567.536828 268.617964 570.271681 381.664051 573.006535 378.897589 575.741389 368.683751 578.476242 340.696770 581.211096 398.274434 583.945950 379.627072 586.680803 378.576127 589.415657 402.507501 592.150511 398.215764 594.885364 380.231260 597.620218 384.196850 600.355071 377.536094 603.089925 401.830403 605.824779 404.358935 608.559632 395.530002 611.294486 381.493211 614.029340 390.848631 616.764193 357.163574 619.499047 402.517039 622.233901 392.363576 624.968754 417.393804 627.703608 427.558031 630.438462 449.227300 630.438462 454.714526 627.703608 431.908712 624.968754 424.263410 622.233901 407.143705 619.499047 411.182373 616.764193 363.399729 614.029340 399.842033 611.294486 390.680178 608.559632 408.981278 605.824779 417.753140 603.089925 424.219800 600.355071 396.703788 597.620218 399.355657 594.885364 403.803124 592.150511 410.815354 589.415657 416.822996 586.680803 389.909010 583.945950 389.541337 581.211096 406.031097 578.476242 360.489789 575.741389 392.503027 573.006535 392.219855 570.271681 390.487316 567.536828 275.107367 564.801974 391.671586 562.067120 395.730572 559.332267 384.623474 556.597413 396.496534 553.862560 368.536494 551.127706 421.975030 548.392852 440.922680 545.657999 444.797741 542.923145 428.128491 540.188291 439.897279 537.453438 449.993946 534.718584 418.655530 531.983730 428.144512 529.248877 423.060682 526.514023 436.019790 523.779170 423.122330 521.044316 434.989383 518.309462 433.969965 515.574609 451.706795 512.839755 420.467219 510.104901 436.755624 507.370048 413.704837 504.635194 427.893130 501.900340 442.651174 499.165487 417.463039 496.430633 437.053959 493.695779 427.353937 490.960926 467.938592 488.226072 481.470682 485.491219 495.914721 482.756365 462.908475 480.021511 456.148195 477.286658 459.117518 474.551804 452.722232 471.816950 474.420097 469.082097 436.725304 466.347243 436.215934 463.612389 463.311459 460.877536 453.593065 458.142682 465.699299 455.407828 460.448417 452.672975 461.061446 449.938121 463.715781 447.203268 426.180361 444.468414 419.061209 441.733560 441.271169 438.998707 430.697823 436.263853 449.262523 433.528999 446.606942 430.794146 468.359287 428.059292 443.605652 425.324438 463.081590 422.589585 449.716030 419.854731 455.480145 417.119877 461.032301 414.385024 443.540424 411.650170 424.364418 408.915317 440.188640 406.180463 431.594013 403.445609 405.865650 400.710756 396.529791 397.975902 446.468028 395.241048 441.250860 392.506195 437.166657 389.771341 443.610899 387.036487 441.084866 384.301634 452.895393 381.566780 421.621346 378.831926 430.657760 376.097073 430.036327 373.362219 457.535755 370.627366 424.834145 367.892512 410.135026 365.157658 428.004797 362.422805 434.540449 359.687951 449.442200 356.953097 424.818109 354.218244 362.477971 351.483390 473.317895 348.748536 417.930584 346.013683 417.417485 343.278829 426.937090 340.543975 444.753142 337.809122 452.220343 335.074268 414.495421 332.339415 436.831679 329.604561 433.540725 326.869707 431.940565 324.134854 418.794757 321.400000 423.940906 318.665146 434.282905 315.930293 413.431670 313.195439 454.772961 310.460585 430.888619 307.725732 429.764562 304.990878 473.300004 302.256025 410.548221 299.521171 489.522482 296.786317 453.503923 294.051464 461.753480 291.316610 459.584524 288.581756 463.740785 285.846903 479.043194 283.112049 465.234310 280.377195 460.846149 277.642342 465.575572 274.907488 483.755439 272.172634 473.590017 269.437781 456.295348 266.702927 478.937286 263.968074 482.843029 261.233220 466.460104 258.498366 450.961971 255.763513 465.003876 253.028659 486.813827 250.293805 452.070847 247.558952 454.503813 244.824098 466.468001 242.089244 482.476522 239.354391 443.332211 236.619537 478.909170 233.884683 504.896305 231.149830 470.989741 228.414976 468.388108 225.680123 455.212159 222.945269 434.641089 220.210415 502.668401 217.475562 494.961747 214.740708 489.941222 212.005854 495.952067 209.271001 494.645362 206.536147 492.123005 203.801293 495.314282 201.066440 508.588077 198.331586 492.020077 195.596732 492.866552 192.861879 493.457260 190.127025 497.887128 187.392172 497.475106 184.657318 491.242431 181.922464 487.381353 179.187611 486.170834 176.452757 497.765202 173.717903 507.732190 170.983050 484.678728 168.248196 441.055608 165.513342 492.029274 162.778489 488.352183 160.043635 489.674268 157.308781 494.337057 154.573928 497.100853 151.839074 497.221604 149.104221 504.477155 146.369367 495.152179 143.634513 505.361049 140.899660 500.556285 138.164806 502.384753 135.429952 502.047199 132.695099 503.545214 129.960245 505.798572 127.225391 512.194038 124.490538 509.586254 121.755684 505.391690 119.020830 501.029626 116.285977 503.228533 113.551123 508.434600 110.816270 504.044058 108.081416 500.243282 105.346562 497.444014 102.611709 489.094094 99.876855 501.669989 97.142001 509.501203 94.407148 503.085259 91.672294 471.274603 88.937440 500.672289 86.202587 501.804115 83.467733 502.068052 80.732880 502.350271 77.998026 504.508711 75.263172 491.593169 72.528319 497.132272 69.793465 516.901241 67.058611 517.217836 64.323758 511.331921 61.588904 511.541695 58.854050 514.883949 56.119197 515.598948 53.384343 516.245034 50.649489 513.754529 47.914636 508.557744 45.179782 468.683790 42.444929 513.374144 39.710075 513.623420 36.975221 518.826131 34.240368 516.533287 31.505514 514.944366 28.770660 515.650559 26.035807 519.273772 23.300953 522.058751 20.566099 523.059055 17.831246 522.606677 15.096392 522.700636 12.361538 522.025171\"/></g><g class=\"series serie-20 color-20\"><path class=\"line reactive\" d=\"M12.361538 521.899669 L15.096392 522.302250 17.831246 522.518001 20.566099 523.059055 23.300953 521.985854 26.035807 518.121553 28.770660 514.894920 31.505514 514.268727 34.240368 516.459691 36.975221 517.846955 39.710075 512.460466 42.444929 512.918652 45.179782 466.304747 47.914636 507.325833 50.649489 513.651800 53.384343 515.912801 56.119197 515.161134 58.854050 513.339876 61.588904 510.726662 64.323758 510.430782 67.058611 517.202664 69.793465 516.515639 72.528319 494.238201 75.263172 489.302085 77.998026 502.433158 80.732880 499.252566 83.467733 499.203028 86.202587 499.367401 88.937440 499.165265 91.672294 470.910015 94.407148 502.120615 97.142001 508.568184 99.876855 500.604236 102.611709 487.733081 105.346562 494.799043 108.081416 499.460549 110.816270 503.299002 113.551123 507.778765 116.285977 501.988474 119.020830 500.063876 121.755684 503.682541 124.490538 508.650092 127.225391 510.917111 129.960245 502.827578 132.695099 501.409306 135.429952 496.500021 138.164806 499.968222 140.899660 498.601532 143.634513 502.253047 146.369367 492.508560 149.104221 502.644362 151.839074 494.803790 154.573928 493.060358 157.308781 490.121717 160.043635 486.912439 162.778489 484.486465 165.513342 488.600482 168.248196 435.682044 170.983050 481.815089 173.717903 505.669119 176.452757 493.035406 179.187611 478.518576 181.922464 481.018439 184.657318 485.821498 187.392172 493.046076 190.127025 495.167272 192.861879 491.402095 195.596732 490.571574 198.331586 489.668258 201.066440 505.828777 203.801293 491.701382 206.536147 489.464784 209.271001 491.812301 212.005854 492.367834 214.740708 486.204460 217.475562 491.288882 220.210415 500.369959 222.945269 430.231235 225.680123 442.851099 228.414976 458.926148 231.149830 463.814846 233.884683 502.882532 236.619537 469.293778 239.354391 433.993079 242.089244 477.015082 244.824098 457.357642 247.558952 442.101924 250.293805 438.340568 253.028659 479.222110 255.763513 456.670567 258.498366 443.708754 261.233220 461.096784 263.968074 476.597688 266.702927 471.965251 269.437781 446.747077 272.172634 465.729160 274.907488 480.627784 277.642342 460.030442 280.377195 453.823583 283.112049 457.647221 285.846903 472.615533 288.581756 458.462271 291.316610 454.607925 294.051464 453.212382 296.786317 446.297371 299.521171 483.421567 302.256025 399.510600 304.990878 468.165042 307.725732 420.964642 310.460585 426.127279 313.195439 447.836037 315.930293 401.789337 318.665146 425.099341 321.400000 416.995426 324.134854 412.428821 326.869707 424.812176 329.604561 424.987935 332.339415 428.477871 335.074268 400.514940 337.809122 447.674506 340.543975 434.034383 343.278829 418.582341 346.013683 406.770638 348.748536 411.038494 351.483390 470.648278 354.218244 358.636514 356.953097 418.973096 359.687951 441.047619 362.422805 429.566314 365.157658 417.758628 367.892512 401.410295 370.627366 417.391419 373.362219 450.059747 376.097073 421.341682 378.831926 422.106909 381.566780 415.039062 384.301634 447.355047 387.036487 430.168968 389.771341 436.323861 392.506195 430.724249 395.241048 432.855083 397.975902 439.888095 400.710756 385.694793 403.445609 393.092835 406.180463 417.272458 408.915317 428.576613 411.650170 410.210411 414.385024 433.605200 417.119877 453.902076 419.854731 444.789888 422.589585 439.014894 425.324438 457.065736 428.059292 435.759117 430.794146 461.069541 433.528999 441.876113 436.263853 442.877482 438.998707 421.725003 441.733560 431.501823 444.468414 410.081745 447.203268 417.292856 449.938121 455.675276 452.672975 451.532349 455.407828 450.074409 458.142682 460.839337 460.877536 444.568469 463.612389 455.439773 466.347243 428.857137 469.082097 431.796856 471.816950 467.593858 474.551804 443.400957 477.286658 447.936065 480.021511 444.674401 482.756365 456.562686 485.491219 491.077910 488.226072 476.595694 490.960926 459.706070 493.695779 415.165977 496.430633 424.783808 499.165487 406.195272 501.900340 433.635853 504.635194 408.112182 507.370048 396.522104 510.104901 415.045398 512.839755 404.644463 515.574609 438.712614 518.309462 418.276817 521.044316 417.922797 523.779170 403.214635 526.514023 420.360985 529.248877 411.231436 531.983730 407.136194 534.718584 397.856692 537.453438 434.264029 540.188291 422.398442 542.923145 408.588752 545.657999 423.817716 548.392852 427.627771 551.127706 403.995578 553.862560 354.670682 556.597413 376.070903 559.332267 372.545410 562.067120 382.471699 564.801974 376.580540 567.536828 261.262714 570.271681 376.101799 573.006535 370.627703 575.741389 358.348208 578.476242 335.789170 581.211096 391.602041 583.945950 373.070197 586.680803 372.191800 589.415657 396.545093 592.150511 394.390548 594.885364 371.136896 597.620218 372.225657 600.355071 370.137272 603.089925 392.420360 605.824779 393.498228 608.559632 384.793328 611.294486 371.506637 614.029340 382.573324 616.764193 353.677864 619.499047 392.980753 622.233901 384.844048 624.968754 407.680841 627.703608 417.717822 630.438462 440.557105 630.438462 449.227300 627.703608 427.558031 624.968754 417.393804 622.233901 392.363576 619.499047 402.517039 616.764193 357.163574 614.029340 390.848631 611.294486 381.493211 608.559632 395.530002 605.824779 404.358935 603.089925 401.830403 600.355071 377.536094 597.620218 384.196850 594.885364 380.231260 592.150511 398.215764 589.415657 402.507501 586.680803 378.576127 583.945950 379.627072 581.211096 398.274434 578.476242 340.696770 575.741389 368.683751 573.006535 378.897589 570.271681 381.664051 567.536828 268.617964 564.801974 382.191931 562.067120 388.039282 559.332267 376.325292 556.597413 383.224997 553.862560 360.152598 551.127706 411.238510 548.392852 434.176015 545.657999 429.202372 542.923145 414.128659 540.188291 428.863167 537.453438 440.676440 534.718584 403.347311 531.983730 414.086155 529.248877 416.776112 526.514023 424.975432 523.779170 409.832560 521.044316 423.101249 518.309462 425.151688 515.574609 444.287708 512.839755 410.595747 510.104901 423.043593 507.370048 406.173478 504.635194 418.732733 501.900340 438.341689 499.165487 413.611168 496.430633 432.553467 493.695779 423.082890 490.960926 461.568667 488.226072 477.971743 485.491219 491.610181 482.756365 458.011400 480.021511 445.549730 477.286658 450.110449 474.551804 446.043715 471.816950 468.923769 469.082097 433.606694 466.347243 431.198753 463.612389 457.720145 460.877536 447.795745 458.142682 461.579559 455.407828 452.059233 452.672975 453.588350 449.938121 458.562294 447.203268 419.702513 444.468414 411.491581 441.733560 433.603341 438.998707 424.101849 436.263853 445.363981 433.528999 443.109570 430.794146 462.695785 428.059292 437.223350 425.324438 458.464325 422.589585 442.351670 419.854731 446.759867 417.119877 455.906708 414.385024 436.050777 411.650170 414.622390 408.915317 430.584342 406.180463 421.192293 403.445609 397.316227 400.710756 388.152375 397.975902 442.943833 395.241048 435.524270 392.506195 433.578951 389.771341 438.276209 387.036487 433.914587 384.301634 448.461740 381.566780 416.927970 378.831926 424.598704 376.097073 424.881817 373.362219 451.598585 370.627366 421.565106 367.892512 408.118722 365.157658 424.981499 362.422805 431.615279 359.687951 443.301341 356.953097 421.826090 354.218244 361.002766 351.483390 471.553152 348.748536 413.115743 346.013683 412.102775 343.278829 422.732769 340.543975 438.653376 337.809122 449.407796 335.074268 406.938489 332.339415 434.476202 329.604561 429.178268 326.869707 428.563640 324.134854 415.850130 321.400000 420.420863 318.665146 430.020519 315.930293 405.871605 313.195439 450.662148 310.460585 428.865789 307.725732 424.781622 304.990878 469.845617 302.256025 404.077607 299.521171 484.613153 296.786317 449.706223 294.051464 457.397024 291.316610 456.930957 288.581756 461.057609 285.846903 474.982018 283.112049 461.920115 280.377195 457.049708 277.642342 462.630277 274.907488 482.549234 272.172634 468.800836 269.437781 449.254458 266.702927 476.404239 263.968074 480.249742 261.233220 464.069226 258.498366 448.720172 255.763513 462.341680 253.028659 483.587460 250.293805 448.655834 247.558952 449.687016 244.824098 462.443899 242.089244 480.452542 239.354391 441.107853 236.619537 476.153050 233.884683 503.567533 231.149830 468.614642 228.414976 464.707071 225.680123 451.712826 222.945269 433.200751 220.210415 502.305271 217.475562 493.181391 214.740708 487.871397 212.005854 494.020477 209.271001 493.757220 206.536147 491.528838 203.801293 493.297780 201.066440 506.612994 198.331586 491.170067 195.596732 491.663016 192.861879 492.682689 190.127025 496.957314 187.392172 495.328015 184.657318 487.770422 181.922464 484.977368 179.187611 483.686098 176.452757 495.851063 173.717903 506.486760 170.983050 483.681938 168.248196 440.318426 165.513342 490.201688 162.778489 487.116602 160.043635 488.999100 157.308781 491.961132 154.573928 495.467823 151.839074 496.369697 149.104221 504.073795 146.369367 493.536038 143.634513 504.187877 140.899660 500.066228 138.164806 501.580866 135.429952 500.667965 132.695099 502.957525 129.960245 504.593680 127.225391 511.351109 124.490538 509.185126 121.755684 504.482190 119.020830 500.458239 116.285977 502.752476 113.551123 508.350384 110.816270 503.981599 108.081416 499.824760 105.346562 496.038911 102.611709 489.049856 99.876855 501.222123 97.142001 509.489732 94.407148 502.857702 91.672294 471.258081 88.937440 500.179042 86.202587 500.968749 83.467733 500.907416 80.732880 501.108618 77.998026 504.207581 75.263172 490.583657 72.528319 495.635617 69.793465 516.837785 67.058611 517.202664 64.323758 511.247925 61.588904 511.167894 58.854050 514.237910 56.119197 515.378337 53.384343 516.219240 50.649489 513.678238 47.914636 508.015161 45.179782 467.216977 42.444929 513.326835 39.710075 513.113867 36.975221 518.483769 34.240368 516.508448 31.505514 514.874707 28.770660 515.636589 26.035807 518.957152 23.300953 522.058751 20.566099 523.059055 17.831246 522.567181 15.096392 522.541699 12.361538 522.025171\"/></g><g class=\"series serie-21 color-21\"><path class=\"line reactive\" d=\"M12.361538 521.899669 L15.096392 522.230707 17.831246 522.518001 20.566099 523.059055 23.300953 521.976623 26.035807 517.699624 28.770660 513.091874 31.505514 512.214627 34.240368 513.735978 36.975221 515.013881 39.710075 511.946907 42.444929 511.969355 45.179782 463.720349 47.914636 505.407038 50.649489 512.125766 53.384343 513.686378 56.119197 513.428189 58.854050 511.073004 61.588904 506.978796 64.323758 505.332721 67.058611 511.573931 69.793465 513.872581 72.528319 493.624324 75.263172 488.722753 77.998026 501.896054 80.732880 495.681067 83.467733 496.378719 86.202587 496.084293 88.937440 496.651570 91.672294 468.139664 94.407148 501.912134 97.142001 507.923897 99.876855 497.360946 102.611709 483.999091 105.346562 494.604017 108.081416 499.296384 110.816270 502.697468 113.551123 506.480246 116.285977 501.720725 119.020830 499.114840 121.755684 502.759637 124.490538 508.441951 127.225391 510.605278 129.960245 501.653031 132.695099 499.386290 135.429952 496.205092 138.164806 499.878611 140.899660 498.422297 143.634513 501.488970 146.369367 492.200225 149.104221 501.928716 151.839074 493.612370 154.573928 492.193911 157.308781 488.367415 160.043635 483.045251 162.778489 479.290596 165.513342 482.783978 168.248196 432.840399 170.983050 480.995545 173.717903 505.317454 176.452757 491.539483 179.187611 478.005714 181.922464 478.590168 184.657318 483.354695 187.392172 491.253509 190.127025 493.756255 192.861879 488.260990 195.596732 488.371963 198.331586 485.034531 201.066440 505.160491 203.801293 491.612260 206.536147 488.965399 209.271001 489.635648 212.005854 490.401120 214.740708 484.913718 217.475562 490.248648 220.210415 498.763418 222.945269 423.703856 225.680123 438.932859 228.414976 454.773936 231.149830 457.389150 233.884683 501.264353 236.619537 468.807083 239.354391 432.084504 242.089244 475.093484 244.824098 454.348586 247.558952 439.110052 250.293805 434.994713 253.028659 476.611831 255.763513 452.941377 258.498366 440.738942 261.233220 451.591739 263.968074 469.334010 266.702927 469.830074 269.437781 444.821491 272.172634 463.538604 274.907488 477.357131 277.642342 456.413658 280.377195 448.715370 283.112049 453.427500 285.846903 467.006921 288.581756 453.895186 291.316610 442.334850 294.051464 443.005833 296.786317 424.053751 299.521171 481.818281 302.256025 398.000941 304.990878 466.717407 307.725732 418.378492 310.460585 422.579680 313.195439 445.058731 315.930293 396.494687 318.665146 417.671871 321.400000 412.035751 324.134854 400.943592 326.869707 415.336837 329.604561 413.714993 332.339415 425.903761 335.074268 399.930140 337.809122 446.060718 340.543975 430.294581 343.278829 411.214604 346.013683 400.011484 348.748536 406.404651 351.483390 463.556916 354.218244 344.695552 356.953097 409.098522 359.687951 430.075091 362.422805 418.321467 365.157658 413.357425 367.892512 398.985425 370.627366 414.021999 373.362219 446.739528 376.097073 414.834754 378.831926 414.462144 381.566780 407.882683 384.301634 439.743456 387.036487 421.786588 389.771341 422.968176 392.506195 421.248136 395.241048 422.490480 397.975902 437.380315 400.710756 383.640768 403.445609 389.937938 406.180463 412.727812 408.915317 423.052052 411.650170 401.266861 414.385024 426.701300 417.119877 446.625820 419.854731 437.668123 422.589585 426.233341 425.324438 446.925077 428.059292 418.824692 430.794146 459.421540 433.528999 441.218872 436.263853 439.749606 438.998707 416.348868 441.733560 425.677823 444.468414 403.444658 447.203268 410.031214 449.938121 447.945910 452.672975 440.608492 455.407828 437.937510 458.142682 450.512173 460.877536 430.299995 463.612389 448.454262 466.347243 426.341274 469.082097 429.027839 471.816950 463.582866 474.551804 434.992179 477.286658 437.842490 480.021511 435.322268 482.756365 450.187076 485.491219 489.105167 488.226072 466.497927 490.960926 448.044176 493.695779 405.708941 496.430633 419.213319 499.165487 402.281748 501.900340 430.548753 504.635194 406.734898 507.370048 393.522913 510.104901 412.116069 512.839755 402.200950 515.574609 435.434005 518.309462 415.055257 521.044316 415.195557 523.779170 395.541571 526.514023 410.928465 529.248877 409.766169 531.983730 405.075636 534.718584 395.404430 537.453438 432.593620 540.188291 419.818963 542.923145 406.026019 545.657999 420.811292 548.392852 423.831792 551.127706 398.579764 553.862560 345.727218 556.597413 367.255906 559.332267 360.856257 562.067120 376.482770 564.801974 374.467698 567.536828 258.610492 570.271681 361.685498 573.006535 364.847028 575.741389 349.572089 578.476242 328.156162 581.211096 383.477375 583.945950 364.613361 586.680803 363.632877 589.415657 385.549951 592.150511 382.749289 594.885364 367.315698 597.620218 369.922631 600.355071 365.907780 603.089925 389.628637 605.824779 388.008065 608.559632 378.893949 611.294486 367.640947 614.029340 380.515413 616.764193 347.144270 619.499047 390.932239 622.233901 378.698601 624.968754 399.368478 627.703608 412.111789 630.438462 435.567647 630.438462 440.557105 627.703608 417.717822 624.968754 407.680841 622.233901 384.844048 619.499047 392.980753 616.764193 353.677864 614.029340 382.573324 611.294486 371.506637 608.559632 384.793328 605.824779 393.498228 603.089925 392.420360 600.355071 370.137272 597.620218 372.225657 594.885364 371.136896 592.150511 394.390548 589.415657 396.545093 586.680803 372.191800 583.945950 373.070197 581.211096 391.602041 578.476242 335.789170 575.741389 358.348208 573.006535 370.627703 570.271681 376.101799 567.536828 261.262714 564.801974 376.580540 562.067120 382.471699 559.332267 372.545410 556.597413 376.070903 553.862560 354.670682 551.127706 403.995578 548.392852 427.627771 545.657999 423.817716 542.923145 408.588752 540.188291 422.398442 537.453438 434.264029 534.718584 397.856692 531.983730 407.136194 529.248877 411.231436 526.514023 420.360985 523.779170 403.214635 521.044316 417.922797 518.309462 418.276817 515.574609 438.712614 512.839755 404.644463 510.104901 415.045398 507.370048 396.522104 504.635194 408.112182 501.900340 433.635853 499.165487 406.195272 496.430633 424.783808 493.695779 415.165977 490.960926 459.706070 488.226072 476.595694 485.491219 491.077910 482.756365 456.562686 480.021511 444.674401 477.286658 447.936065 474.551804 443.400957 471.816950 467.593858 469.082097 431.796856 466.347243 428.857137 463.612389 455.439773 460.877536 444.568469 458.142682 460.839337 455.407828 450.074409 452.672975 451.532349 449.938121 455.675276 447.203268 417.292856 444.468414 410.081745 441.733560 431.501823 438.998707 421.725003 436.263853 442.877482 433.528999 441.876113 430.794146 461.069541 428.059292 435.759117 425.324438 457.065736 422.589585 439.014894 419.854731 444.789888 417.119877 453.902076 414.385024 433.605200 411.650170 410.210411 408.915317 428.576613 406.180463 417.272458 403.445609 393.092835 400.710756 385.694793 397.975902 439.888095 395.241048 432.855083 392.506195 430.724249 389.771341 436.323861 387.036487 430.168968 384.301634 447.355047 381.566780 415.039062 378.831926 422.106909 376.097073 421.341682 373.362219 450.059747 370.627366 417.391419 367.892512 401.410295 365.157658 417.758628 362.422805 429.566314 359.687951 441.047619 356.953097 418.973096 354.218244 358.636514 351.483390 470.648278 348.748536 411.038494 346.013683 406.770638 343.278829 418.582341 340.543975 434.034383 337.809122 447.674506 335.074268 400.514940 332.339415 428.477871 329.604561 424.987935 326.869707 424.812176 324.134854 412.428821 321.400000 416.995426 318.665146 425.099341 315.930293 401.789337 313.195439 447.836037 310.460585 426.127279 307.725732 420.964642 304.990878 468.165042 302.256025 399.510600 299.521171 483.421567 296.786317 446.297371 294.051464 453.212382 291.316610 454.607925 288.581756 458.462271 285.846903 472.615533 283.112049 457.647221 280.377195 453.823583 277.642342 460.030442 274.907488 480.627784 272.172634 465.729160 269.437781 446.747077 266.702927 471.965251 263.968074 476.597688 261.233220 461.096784 258.498366 443.708754 255.763513 456.670567 253.028659 479.222110 250.293805 438.340568 247.558952 442.101924 244.824098 457.357642 242.089244 477.015082 239.354391 433.993079 236.619537 469.293778 233.884683 502.882532 231.149830 463.814846 228.414976 458.926148 225.680123 442.851099 222.945269 430.231235 220.210415 500.369959 217.475562 491.288882 214.740708 486.204460 212.005854 492.367834 209.271001 491.812301 206.536147 489.464784 203.801293 491.701382 201.066440 505.828777 198.331586 489.668258 195.596732 490.571574 192.861879 491.402095 190.127025 495.167272 187.392172 493.046076 184.657318 485.821498 181.922464 481.018439 179.187611 478.518576 176.452757 493.035406 173.717903 505.669119 170.983050 481.815089 168.248196 435.682044 165.513342 488.600482 162.778489 484.486465 160.043635 486.912439 157.308781 490.121717 154.573928 493.060358 151.839074 494.803790 149.104221 502.644362 146.369367 492.508560 143.634513 502.253047 140.899660 498.601532 138.164806 499.968222 135.429952 496.500021 132.695099 501.409306 129.960245 502.827578 127.225391 510.917111 124.490538 508.650092 121.755684 503.682541 119.020830 500.063876 116.285977 501.988474 113.551123 507.778765 110.816270 503.299002 108.081416 499.460549 105.346562 494.799043 102.611709 487.733081 99.876855 500.604236 97.142001 508.568184 94.407148 502.120615 91.672294 470.910015 88.937440 499.165265 86.202587 499.367401 83.467733 499.203028 80.732880 499.252566 77.998026 502.433158 75.263172 489.302085 72.528319 494.238201 69.793465 516.515639 67.058611 517.202664 64.323758 510.430782 61.588904 510.726662 58.854050 513.339876 56.119197 515.161134 53.384343 515.912801 50.649489 513.651800 47.914636 507.325833 45.179782 466.304747 42.444929 512.918652 39.710075 512.460466 36.975221 517.846955 34.240368 516.459691 31.505514 514.268727 28.770660 514.894920 26.035807 518.121553 23.300953 521.985854 20.566099 523.059055 17.831246 522.518001 15.096392 522.302250 12.361538 521.899669\"/></g><g class=\"series serie-22 color-22\"><path class=\"line reactive\" d=\"M12.361538 521.899669 L15.096392 522.230707 17.831246 522.492451 20.566099 523.059055 23.300953 521.976623 26.035807 516.071857 28.770660 510.673034 31.505514 509.977407 34.240368 512.903753 36.975221 514.239082 39.710075 510.955794 42.444929 511.321290 45.179782 460.482509 47.914636 503.231473 50.649489 509.936100 53.384343 511.302590 56.119197 511.803108 58.854050 508.800678 61.588904 503.985550 64.323758 500.488727 67.058611 508.576419 69.793465 508.800657 72.528319 492.216710 75.263172 485.909400 77.998026 498.050451 80.732880 487.365486 83.467733 489.046791 86.202587 488.468246 88.937440 488.818410 91.672294 466.159226 94.407148 499.751370 97.142001 504.753610 99.876855 496.328259 102.611709 481.590402 105.346562 492.588529 108.081416 495.611286 110.816270 499.246386 113.551123 502.654922 116.285977 499.666910 119.020830 497.499260 121.755684 501.081070 124.490538 507.501554 127.225391 510.256763 129.960245 500.642338 132.695099 497.488714 135.429952 495.412693 138.164806 499.515942 140.899660 498.287840 143.634513 499.821427 146.369367 491.142777 149.104221 499.940912 151.839074 492.326147 154.573928 490.749269 157.308781 485.731408 160.043635 480.258202 162.778489 477.578726 165.513342 480.961305 168.248196 431.172187 170.983050 479.670869 173.717903 504.427591 176.452757 489.354617 179.187611 475.401630 181.922464 474.859743 184.657318 480.116488 187.392172 489.906504 190.127025 491.748946 192.861879 485.491411 195.596732 486.559104 198.331586 482.515241 201.066440 503.489304 203.801293 490.371135 206.536147 487.433204 209.271001 486.199157 212.005854 488.528577 214.740708 482.942121 217.475562 488.473429 220.210415 496.478424 222.945269 420.799660 225.680123 434.469858 228.414976 449.798433 231.149830 456.134187 233.884683 500.306628 236.619537 467.613378 239.354391 428.094456 242.089244 470.409665 244.824098 448.208647 247.558952 432.344526 250.293805 427.575677 253.028659 472.032749 255.763513 446.824201 258.498366 429.817723 261.233220 441.007199 263.968074 455.692275 266.702927 462.636082 269.437781 441.349586 272.172634 460.344555 274.907488 470.662094 277.642342 446.571051 280.377195 438.601790 283.112049 441.896763 285.846903 459.243369 288.581756 443.860227 291.316610 432.346698 294.051464 432.046727 296.786317 407.581537 299.521171 478.530830 302.256025 391.624123 304.990878 464.250964 307.725732 411.125836 310.460585 415.522873 313.195439 437.414494 315.930293 385.293314 318.665146 406.595529 321.400000 400.769061 324.134854 388.060492 326.869707 403.343804 329.604561 400.433400 332.339415 419.947668 335.074268 396.858962 337.809122 443.956678 340.543975 422.538998 343.278829 398.385942 346.013683 381.634354 348.748536 394.475010 351.483390 454.502557 354.218244 335.980505 356.953097 402.014564 359.687951 423.152867 362.422805 407.505782 365.157658 407.681299 367.892512 394.779892 370.627366 409.799014 373.362219 440.353585 376.097073 401.398732 378.831926 397.717993 381.566780 395.868777 384.301634 431.464811 387.036487 411.210811 389.771341 410.481311 392.506195 412.159128 395.241048 414.139566 397.975902 431.148803 400.710756 377.953071 403.445609 385.751153 406.180463 401.673399 408.915317 411.814239 411.650170 389.535853 414.385024 417.018337 417.119877 431.390574 419.854731 421.715188 422.589585 409.721683 425.324438 433.125751 428.059292 404.128454 430.794146 454.061661 433.528999 438.028108 436.263853 435.888902 438.998707 409.738419 441.733560 414.608339 444.468414 388.879717 447.203268 401.520685 449.938121 436.784827 452.672975 430.633072 455.407828 424.407663 458.142682 441.525046 460.877536 421.474188 463.612389 442.409249 466.347243 423.123915 469.082097 426.089345 471.816950 456.103455 474.551804 422.265592 477.286658 425.230780 480.021511 421.075047 482.756365 441.708901 485.491219 486.992373 488.226072 458.691205 490.960926 437.079366 493.695779 398.765173 496.430633 415.292450 499.165487 400.173693 501.900340 427.071780 504.635194 402.194492 507.370048 386.869511 510.104901 405.011337 512.839755 395.656049 515.574609 431.019043 518.309462 410.257239 521.044316 410.503668 523.779170 389.165171 526.514023 406.767142 529.248877 405.989840 531.983730 404.166079 534.718584 391.446941 537.453438 425.647275 540.188291 410.631641 542.923145 398.482349 545.657999 413.228067 548.392852 420.193192 551.127706 392.296014 553.862560 337.534440 556.597413 354.118519 559.332267 348.333383 562.067120 371.112359 564.801974 371.528786 567.536828 254.906217 570.271681 355.218770 573.006535 354.177599 575.741389 336.740874 578.476242 321.234332 581.211096 375.842350 583.945950 357.771473 586.680803 354.660547 589.415657 376.242630 592.150511 371.735351 594.885364 361.563841 597.620218 366.623505 600.355071 359.234958 603.089925 380.195086 605.824779 378.501966 608.559632 372.805830 611.294486 364.063488 614.029340 376.153330 616.764193 343.601133 619.499047 388.237544 622.233901 374.798716 624.968754 395.807991 627.703608 408.347420 630.438462 435.034686 630.438462 435.567647 627.703608 412.111789 624.968754 399.368478 622.233901 378.698601 619.499047 390.932239 616.764193 347.144270 614.029340 380.515413 611.294486 367.640947 608.559632 378.893949 605.824779 388.008065 603.089925 389.628637 600.355071 365.907780 597.620218 369.922631 594.885364 367.315698 592.150511 382.749289 589.415657 385.549951 586.680803 363.632877 583.945950 364.613361 581.211096 383.477375 578.476242 328.156162 575.741389 349.572089 573.006535 364.847028 570.271681 361.685498 567.536828 258.610492 564.801974 374.467698 562.067120 376.482770 559.332267 360.856257 556.597413 367.255906 553.862560 345.727218 551.127706 398.579764 548.392852 423.831792 545.657999 420.811292 542.923145 406.026019 540.188291 419.818963 537.453438 432.593620 534.718584 395.404430 531.983730 405.075636 529.248877 409.766169 526.514023 410.928465 523.779170 395.541571 521.044316 415.195557 518.309462 415.055257 515.574609 435.434005 512.839755 402.200950 510.104901 412.116069 507.370048 393.522913 504.635194 406.734898 501.900340 430.548753 499.165487 402.281748 496.430633 419.213319 493.695779 405.708941 490.960926 448.044176 488.226072 466.497927 485.491219 489.105167 482.756365 450.187076 480.021511 435.322268 477.286658 437.842490 474.551804 434.992179 471.816950 463.582866 469.082097 429.027839 466.347243 426.341274 463.612389 448.454262 460.877536 430.299995 458.142682 450.512173 455.407828 437.937510 452.672975 440.608492 449.938121 447.945910 447.203268 410.031214 444.468414 403.444658 441.733560 425.677823 438.998707 416.348868 436.263853 439.749606 433.528999 441.218872 430.794146 459.421540 428.059292 418.824692 425.324438 446.925077 422.589585 426.233341 419.854731 437.668123 417.119877 446.625820 414.385024 426.701300 411.650170 401.266861 408.915317 423.052052 406.180463 412.727812 403.445609 389.937938 400.710756 383.640768 397.975902 437.380315 395.241048 422.490480 392.506195 421.248136 389.771341 422.968176 387.036487 421.786588 384.301634 439.743456 381.566780 407.882683 378.831926 414.462144 376.097073 414.834754 373.362219 446.739528 370.627366 414.021999 367.892512 398.985425 365.157658 413.357425 362.422805 418.321467 359.687951 430.075091 356.953097 409.098522 354.218244 344.695552 351.483390 463.556916 348.748536 406.404651 346.013683 400.011484 343.278829 411.214604 340.543975 430.294581 337.809122 446.060718 335.074268 399.930140 332.339415 425.903761 329.604561 413.714993 326.869707 415.336837 324.134854 400.943592 321.400000 412.035751 318.665146 417.671871 315.930293 396.494687 313.195439 445.058731 310.460585 422.579680 307.725732 418.378492 304.990878 466.717407 302.256025 398.000941 299.521171 481.818281 296.786317 424.053751 294.051464 443.005833 291.316610 442.334850 288.581756 453.895186 285.846903 467.006921 283.112049 453.427500 280.377195 448.715370 277.642342 456.413658 274.907488 477.357131 272.172634 463.538604 269.437781 444.821491 266.702927 469.830074 263.968074 469.334010 261.233220 451.591739 258.498366 440.738942 255.763513 452.941377 253.028659 476.611831 250.293805 434.994713 247.558952 439.110052 244.824098 454.348586 242.089244 475.093484 239.354391 432.084504 236.619537 468.807083 233.884683 501.264353 231.149830 457.389150 228.414976 454.773936 225.680123 438.932859 222.945269 423.703856 220.210415 498.763418 217.475562 490.248648 214.740708 484.913718 212.005854 490.401120 209.271001 489.635648 206.536147 488.965399 203.801293 491.612260 201.066440 505.160491 198.331586 485.034531 195.596732 488.371963 192.861879 488.260990 190.127025 493.756255 187.392172 491.253509 184.657318 483.354695 181.922464 478.590168 179.187611 478.005714 176.452757 491.539483 173.717903 505.317454 170.983050 480.995545 168.248196 432.840399 165.513342 482.783978 162.778489 479.290596 160.043635 483.045251 157.308781 488.367415 154.573928 492.193911 151.839074 493.612370 149.104221 501.928716 146.369367 492.200225 143.634513 501.488970 140.899660 498.422297 138.164806 499.878611 135.429952 496.205092 132.695099 499.386290 129.960245 501.653031 127.225391 510.605278 124.490538 508.441951 121.755684 502.759637 119.020830 499.114840 116.285977 501.720725 113.551123 506.480246 110.816270 502.697468 108.081416 499.296384 105.346562 494.604017 102.611709 483.999091 99.876855 497.360946 97.142001 507.923897 94.407148 501.912134 91.672294 468.139664 88.937440 496.651570 86.202587 496.084293 83.467733 496.378719 80.732880 495.681067 77.998026 501.896054 75.263172 488.722753 72.528319 493.624324 69.793465 513.872581 67.058611 511.573931 64.323758 505.332721 61.588904 506.978796 58.854050 511.073004 56.119197 513.428189 53.384343 513.686378 50.649489 512.125766 47.914636 505.407038 45.179782 463.720349 42.444929 511.969355 39.710075 511.946907 36.975221 515.013881 34.240368 513.735978 31.505514 512.214627 28.770660 513.091874 26.035807 517.699624 23.300953 521.976623 20.566099 523.059055 17.831246 522.518001 15.096392 522.230707 12.361538 521.899669\"/></g><g class=\"series serie-23 color-23\"><path class=\"line reactive\" d=\"M12.361538 521.890160 L15.096392 522.177305 17.831246 522.492451 20.566099 523.059055 23.300953 521.873045 26.035807 515.886388 28.770660 509.023583 31.505514 506.925257 34.240368 509.729274 36.975221 511.603288 39.710075 507.581029 42.444929 506.925301 45.179782 457.536335 47.914636 500.535460 50.649489 506.332961 53.384343 510.668987 56.119197 509.776787 58.854050 508.165755 61.588904 500.556217 64.323758 496.538359 67.058611 506.050725 69.793465 504.889599 72.528319 490.712641 75.263172 483.386841 77.998026 495.336909 80.732880 482.959327 83.467733 485.759545 86.202587 487.634525 88.937440 487.114750 91.672294 466.007124 94.407148 496.400375 97.142001 502.418705 99.876855 495.383628 102.611709 480.489880 105.346562 486.670476 108.081416 493.410291 110.816270 497.140787 113.551123 500.051499 116.285977 494.446298 119.020830 496.184328 121.755684 500.052376 124.490538 506.464863 127.225391 508.244518 129.960245 497.269331 132.695099 494.240782 135.429952 491.138482 138.164806 497.626683 140.899660 494.888848 143.634513 498.318977 146.369367 487.518802 149.104221 495.180822 151.839074 491.165228 154.573928 489.926772 157.308781 484.789708 160.043635 475.477909 162.778489 471.546934 165.513342 475.049808 168.248196 429.829193 170.983050 474.107725 173.717903 500.190429 176.452757 485.487373 179.187611 470.433232 181.922464 470.706867 184.657318 479.239929 187.392172 489.410975 190.127025 491.218775 192.861879 483.237369 195.596732 482.745963 198.331586 479.671774 201.066440 500.068659 203.801293 486.715699 206.536147 483.519245 209.271001 482.820304 212.005854 483.893778 214.740708 480.714050 217.475562 486.963675 220.210415 496.446613 222.945269 420.066263 225.680123 427.628018 228.414976 442.361740 231.149830 451.796103 233.884683 499.900588 236.619537 462.841888 239.354391 422.495379 242.089244 466.700870 244.824098 441.855867 247.558952 427.507838 250.293805 426.458336 253.028659 470.972486 255.763513 443.939989 258.498366 423.858711 261.233220 434.424053 263.968074 451.551722 266.702927 456.196256 269.437781 433.881682 272.172634 453.540634 274.907488 467.727255 277.642342 441.389598 280.377195 435.576685 283.112049 440.073434 285.846903 457.921229 288.581756 442.611222 291.316610 428.179744 294.051464 422.899536 296.786317 401.862863 299.521171 478.352310 302.256025 374.838911 304.990878 449.393028 307.725732 400.935821 310.460585 408.221443 313.195439 430.616633 315.930293 382.027391 318.665146 405.577522 321.400000 399.049159 324.134854 382.130747 326.869707 396.682919 329.604561 393.616842 332.339415 416.226727 335.074268 390.278307 337.809122 436.023861 340.543975 416.147711 343.278829 389.825025 346.013683 371.311944 348.748536 390.611642 351.483390 453.356682 354.218244 333.138414 356.953097 394.799859 359.687951 416.291760 362.422805 401.647081 365.157658 406.308009 367.892512 384.806556 370.627366 395.690017 373.362219 431.266324 376.097073 394.197723 378.831926 386.260463 381.566780 392.125005 384.301634 429.461416 387.036487 406.639959 389.771341 404.144261 392.506195 403.594749 395.241048 405.258158 397.975902 423.907977 400.710756 370.784443 403.445609 371.421798 406.180463 390.893045 408.915317 401.913120 411.650170 382.201745 414.385024 415.306257 417.119877 429.043489 419.854731 417.593787 422.589585 400.002655 425.324438 424.073972 428.059292 396.902720 430.794146 452.600086 433.528999 431.358380 436.263853 418.676728 438.998707 394.217096 441.733560 403.489532 444.468414 373.543653 447.203268 394.543618 449.938121 434.624925 452.672975 426.960638 455.407828 413.356592 458.142682 428.801099 460.877536 411.138690 463.612389 439.074671 466.347243 408.963647 469.082097 410.883354 471.816950 442.743798 474.551804 407.518132 477.286658 412.415501 480.021511 413.593674 482.756365 439.455097 485.491219 484.120079 488.226072 447.910231 490.960926 420.849471 493.695779 388.386818 496.430633 411.495285 499.165487 395.527644 501.900340 405.160233 504.635194 392.253204 507.370048 377.624795 510.104901 398.480721 512.839755 392.383412 515.574609 429.915625 518.309462 407.850276 521.044316 404.261454 523.779170 378.029675 526.514023 400.494236 529.248877 403.499218 531.983730 400.714652 534.718584 381.061521 537.453438 416.531358 540.188291 399.375468 542.923145 390.494418 545.657999 408.893541 548.392852 418.012022 551.127706 386.616021 553.862560 323.688710 556.597413 332.739457 559.332267 331.871849 562.067120 367.877942 564.801974 363.016748 567.536828 243.520877 570.271681 339.826732 573.006535 338.879290 575.741389 321.901489 578.476242 313.871205 581.211096 372.802595 583.945950 348.945339 586.680803 339.671607 589.415657 357.107150 592.150511 355.030229 594.885364 356.158376 597.620218 354.071998 600.355071 339.335095 603.089925 368.809609 605.824779 368.002618 608.559632 365.033439 611.294486 358.846879 614.029340 374.881212 616.764193 340.717532 619.499047 383.592249 622.233901 367.970993 624.968754 391.330135 627.703608 404.286776 630.438462 433.656243 630.438462 435.034686 627.703608 408.347420 624.968754 395.807991 622.233901 374.798716 619.499047 388.237544 616.764193 343.601133 614.029340 376.153330 611.294486 364.063488 608.559632 372.805830 605.824779 378.501966 603.089925 380.195086 600.355071 359.234958 597.620218 366.623505 594.885364 361.563841 592.150511 371.735351 589.415657 376.242630 586.680803 354.660547 583.945950 357.771473 581.211096 375.842350 578.476242 321.234332 575.741389 336.740874 573.006535 354.177599 570.271681 355.218770 567.536828 254.906217 564.801974 371.528786 562.067120 371.112359 559.332267 348.333383 556.597413 354.118519 553.862560 337.534440 551.127706 392.296014 548.392852 420.193192 545.657999 413.228067 542.923145 398.482349 540.188291 410.631641 537.453438 425.647275 534.718584 391.446941 531.983730 404.166079 529.248877 405.989840 526.514023 406.767142 523.779170 389.165171 521.044316 410.503668 518.309462 410.257239 515.574609 431.019043 512.839755 395.656049 510.104901 405.011337 507.370048 386.869511 504.635194 402.194492 501.900340 427.071780 499.165487 400.173693 496.430633 415.292450 493.695779 398.765173 490.960926 437.079366 488.226072 458.691205 485.491219 486.992373 482.756365 441.708901 480.021511 421.075047 477.286658 425.230780 474.551804 422.265592 471.816950 456.103455 469.082097 426.089345 466.347243 423.123915 463.612389 442.409249 460.877536 421.474188 458.142682 441.525046 455.407828 424.407663 452.672975 430.633072 449.938121 436.784827 447.203268 401.520685 444.468414 388.879717 441.733560 414.608339 438.998707 409.738419 436.263853 435.888902 433.528999 438.028108 430.794146 454.061661 428.059292 404.128454 425.324438 433.125751 422.589585 409.721683 419.854731 421.715188 417.119877 431.390574 414.385024 417.018337 411.650170 389.535853 408.915317 411.814239 406.180463 401.673399 403.445609 385.751153 400.710756 377.953071 397.975902 431.148803 395.241048 414.139566 392.506195 412.159128 389.771341 410.481311 387.036487 411.210811 384.301634 431.464811 381.566780 395.868777 378.831926 397.717993 376.097073 401.398732 373.362219 440.353585 370.627366 409.799014 367.892512 394.779892 365.157658 407.681299 362.422805 407.505782 359.687951 423.152867 356.953097 402.014564 354.218244 335.980505 351.483390 454.502557 348.748536 394.475010 346.013683 381.634354 343.278829 398.385942 340.543975 422.538998 337.809122 443.956678 335.074268 396.858962 332.339415 419.947668 329.604561 400.433400 326.869707 403.343804 324.134854 388.060492 321.400000 400.769061 318.665146 406.595529 315.930293 385.293314 313.195439 437.414494 310.460585 415.522873 307.725732 411.125836 304.990878 464.250964 302.256025 391.624123 299.521171 478.530830 296.786317 407.581537 294.051464 432.046727 291.316610 432.346698 288.581756 443.860227 285.846903 459.243369 283.112049 441.896763 280.377195 438.601790 277.642342 446.571051 274.907488 470.662094 272.172634 460.344555 269.437781 441.349586 266.702927 462.636082 263.968074 455.692275 261.233220 441.007199 258.498366 429.817723 255.763513 446.824201 253.028659 472.032749 250.293805 427.575677 247.558952 432.344526 244.824098 448.208647 242.089244 470.409665 239.354391 428.094456 236.619537 467.613378 233.884683 500.306628 231.149830 456.134187 228.414976 449.798433 225.680123 434.469858 222.945269 420.799660 220.210415 496.478424 217.475562 488.473429 214.740708 482.942121 212.005854 488.528577 209.271001 486.199157 206.536147 487.433204 203.801293 490.371135 201.066440 503.489304 198.331586 482.515241 195.596732 486.559104 192.861879 485.491411 190.127025 491.748946 187.392172 489.906504 184.657318 480.116488 181.922464 474.859743 179.187611 475.401630 176.452757 489.354617 173.717903 504.427591 170.983050 479.670869 168.248196 431.172187 165.513342 480.961305 162.778489 477.578726 160.043635 480.258202 157.308781 485.731408 154.573928 490.749269 151.839074 492.326147 149.104221 499.940912 146.369367 491.142777 143.634513 499.821427 140.899660 498.287840 138.164806 499.515942 135.429952 495.412693 132.695099 497.488714 129.960245 500.642338 127.225391 510.256763 124.490538 507.501554 121.755684 501.081070 119.020830 497.499260 116.285977 499.666910 113.551123 502.654922 110.816270 499.246386 108.081416 495.611286 105.346562 492.588529 102.611709 481.590402 99.876855 496.328259 97.142001 504.753610 94.407148 499.751370 91.672294 466.159226 88.937440 488.818410 86.202587 488.468246 83.467733 489.046791 80.732880 487.365486 77.998026 498.050451 75.263172 485.909400 72.528319 492.216710 69.793465 508.800657 67.058611 508.576419 64.323758 500.488727 61.588904 503.985550 58.854050 508.800678 56.119197 511.803108 53.384343 511.302590 50.649489 509.936100 47.914636 503.231473 45.179782 460.482509 42.444929 511.321290 39.710075 510.955794 36.975221 514.239082 34.240368 512.903753 31.505514 509.977407 28.770660 510.673034 26.035807 516.071857 23.300953 521.976623 20.566099 523.059055 17.831246 522.492451 15.096392 522.230707 12.361538 521.899669\"/></g><g class=\"series serie-24 color-24\"><path class=\"line reactive\" d=\"M12.361538 521.876678 L15.096392 521.821279 17.831246 522.040629 20.566099 523.059055 23.300953 521.852471 26.035807 515.819861 28.770660 507.689604 31.505514 505.345070 34.240368 508.188721 36.975221 510.225318 39.710075 504.942562 42.444929 504.413103 45.179782 456.197624 47.914636 499.183367 50.649489 505.666011 53.384343 510.586705 56.119197 508.919239 58.854050 507.113135 61.588904 498.485553 64.323758 494.097911 67.058611 504.577073 69.793465 503.632724 72.528319 487.913438 75.263172 480.644021 77.998026 492.086885 80.732880 478.033521 83.467733 482.822381 86.202587 483.869064 88.937440 483.026426 91.672294 463.273556 94.407148 494.002116 97.142001 499.875240 99.876855 492.847086 102.611709 478.756923 105.346562 481.971406 108.081416 492.298291 110.816270 494.088790 113.551123 496.807578 116.285977 492.510665 119.020830 494.287049 121.755684 497.939156 124.490538 505.209551 127.225391 506.272222 129.960245 493.507910 132.695099 491.054347 135.429952 484.588994 138.164806 492.500514 140.899660 489.008690 143.634513 495.317405 146.369367 485.855326 149.104221 494.206580 151.839074 488.385100 154.573928 486.822287 157.308781 481.976530 160.043635 469.391367 162.778489 466.633217 165.513342 470.064303 168.248196 426.398031 170.983050 469.753881 173.717903 496.690809 176.452757 481.208869 179.187611 464.773699 181.922464 469.174440 184.657318 475.869676 187.392172 486.895760 190.127025 488.162643 192.861879 477.683990 195.596732 478.500921 198.331586 473.941622 201.066440 496.356272 203.801293 479.668553 206.536147 481.081350 209.271001 477.053823 212.005854 478.982005 214.740708 478.328265 217.475562 484.677654 220.210415 491.362308 222.945269 412.528314 225.680123 422.972829 228.414976 441.764221 231.149830 451.551342 233.884683 499.706225 236.619537 462.182013 239.354391 422.208722 242.089244 466.656877 244.824098 441.554304 247.558952 427.165838 250.293805 423.739736 253.028659 468.149205 255.763513 441.279978 258.498366 420.998787 261.233220 434.149488 263.968074 451.189428 266.702927 456.090686 269.437781 432.807623 272.172634 453.251878 274.907488 467.389238 277.642342 440.963643 280.377195 434.899015 283.112049 435.515475 285.846903 453.278718 288.581756 438.724620 291.316610 424.095697 294.051464 422.267843 296.786317 401.549476 299.521171 478.310052 302.256025 374.223244 304.990878 449.282841 307.725732 400.457754 310.460585 407.817742 313.195439 430.199008 315.930293 379.228924 318.665146 401.458162 321.400000 393.632563 324.134854 379.631196 326.869707 396.549164 329.604561 392.952570 332.339415 415.554989 335.074268 389.979717 337.809122 435.886176 340.543975 415.739569 343.278829 389.559455 346.013683 370.764268 348.748536 388.821428 351.483390 450.309733 354.218244 327.706835 356.953097 392.258661 359.687951 415.633547 362.422805 401.278931 365.157658 406.224178 367.892512 384.124256 370.627366 395.007666 373.362219 431.031882 376.097073 393.945508 378.831926 385.531798 381.566780 388.958575 384.301634 424.693703 387.036487 403.465742 389.771341 401.053737 392.506195 403.030718 395.241048 404.819523 397.975902 422.161193 400.710756 370.173626 403.445609 371.240529 406.180463 389.945910 408.915317 401.310959 411.650170 381.351320 414.385024 412.672218 417.119877 425.494979 419.854731 415.276820 422.589585 396.959807 425.324438 423.315820 428.059292 396.513170 430.794146 452.560718 433.528999 431.210003 436.263853 418.369487 438.998707 394.102156 441.733560 403.232712 444.468414 373.299313 447.203268 391.312007 449.938121 431.638493 452.672975 424.386745 455.407828 410.301789 458.142682 428.417575 460.877536 410.975065 463.612389 438.967019 466.347243 408.514153 469.082097 410.790773 471.816950 442.564395 474.551804 407.272361 477.286658 411.215291 480.021511 409.992630 482.756365 435.874034 485.491219 483.920227 488.226072 446.220856 490.960926 420.330230 493.695779 386.862366 496.430633 410.631393 499.165487 394.689639 501.900340 404.731512 504.635194 390.745936 507.370048 376.508695 510.104901 396.349436 512.839755 388.227354 515.574609 425.445280 518.309462 405.304542 521.044316 397.609506 523.779170 375.524413 526.514023 398.588006 529.248877 403.160067 531.983730 397.666640 534.718584 378.574447 537.453438 411.823542 540.188291 395.613916 542.923145 387.971418 545.657999 404.030136 548.392852 412.464462 551.127706 382.454947 553.862560 316.551541 556.597413 325.423810 559.332267 323.043741 562.067120 365.360038 564.801974 357.212906 567.536828 240.789666 570.271681 334.745477 573.006535 332.128888 575.741389 319.287105 578.476242 305.576110 581.211096 361.240220 583.945950 336.475665 586.680803 329.782087 589.415657 351.604334 592.150511 351.407154 594.885364 352.366303 597.620218 348.288328 600.355071 337.063559 603.089925 364.311345 605.824779 362.000777 608.559632 362.947017 611.294486 353.388348 614.029340 367.933652 616.764193 337.361269 619.499047 377.995852 622.233901 365.625193 624.968754 389.783798 627.703608 403.841580 630.438462 433.396502 630.438462 433.656243 627.703608 404.286776 624.968754 391.330135 622.233901 367.970993 619.499047 383.592249 616.764193 340.717532 614.029340 374.881212 611.294486 358.846879 608.559632 365.033439 605.824779 368.002618 603.089925 368.809609 600.355071 339.335095 597.620218 354.071998 594.885364 356.158376 592.150511 355.030229 589.415657 357.107150 586.680803 339.671607 583.945950 348.945339 581.211096 372.802595 578.476242 313.871205 575.741389 321.901489 573.006535 338.879290 570.271681 339.826732 567.536828 243.520877 564.801974 363.016748 562.067120 367.877942 559.332267 331.871849 556.597413 332.739457 553.862560 323.688710 551.127706 386.616021 548.392852 418.012022 545.657999 408.893541 542.923145 390.494418 540.188291 399.375468 537.453438 416.531358 534.718584 381.061521 531.983730 400.714652 529.248877 403.499218 526.514023 400.494236 523.779170 378.029675 521.044316 404.261454 518.309462 407.850276 515.574609 429.915625 512.839755 392.383412 510.104901 398.480721 507.370048 377.624795 504.635194 392.253204 501.900340 405.160233 499.165487 395.527644 496.430633 411.495285 493.695779 388.386818 490.960926 420.849471 488.226072 447.910231 485.491219 484.120079 482.756365 439.455097 480.021511 413.593674 477.286658 412.415501 474.551804 407.518132 471.816950 442.743798 469.082097 410.883354 466.347243 408.963647 463.612389 439.074671 460.877536 411.138690 458.142682 428.801099 455.407828 413.356592 452.672975 426.960638 449.938121 434.624925 447.203268 394.543618 444.468414 373.543653 441.733560 403.489532 438.998707 394.217096 436.263853 418.676728 433.528999 431.358380 430.794146 452.600086 428.059292 396.902720 425.324438 424.073972 422.589585 400.002655 419.854731 417.593787 417.119877 429.043489 414.385024 415.306257 411.650170 382.201745 408.915317 401.913120 406.180463 390.893045 403.445609 371.421798 400.710756 370.784443 397.975902 423.907977 395.241048 405.258158 392.506195 403.594749 389.771341 404.144261 387.036487 406.639959 384.301634 429.461416 381.566780 392.125005 378.831926 386.260463 376.097073 394.197723 373.362219 431.266324 370.627366 395.690017 367.892512 384.806556 365.157658 406.308009 362.422805 401.647081 359.687951 416.291760 356.953097 394.799859 354.218244 333.138414 351.483390 453.356682 348.748536 390.611642 346.013683 371.311944 343.278829 389.825025 340.543975 416.147711 337.809122 436.023861 335.074268 390.278307 332.339415 416.226727 329.604561 393.616842 326.869707 396.682919 324.134854 382.130747 321.400000 399.049159 318.665146 405.577522 315.930293 382.027391 313.195439 430.616633 310.460585 408.221443 307.725732 400.935821 304.990878 449.393028 302.256025 374.838911 299.521171 478.352310 296.786317 401.862863 294.051464 422.899536 291.316610 428.179744 288.581756 442.611222 285.846903 457.921229 283.112049 440.073434 280.377195 435.576685 277.642342 441.389598 274.907488 467.727255 272.172634 453.540634 269.437781 433.881682 266.702927 456.196256 263.968074 451.551722 261.233220 434.424053 258.498366 423.858711 255.763513 443.939989 253.028659 470.972486 250.293805 426.458336 247.558952 427.507838 244.824098 441.855867 242.089244 466.700870 239.354391 422.495379 236.619537 462.841888 233.884683 499.900588 231.149830 451.796103 228.414976 442.361740 225.680123 427.628018 222.945269 420.066263 220.210415 496.446613 217.475562 486.963675 214.740708 480.714050 212.005854 483.893778 209.271001 482.820304 206.536147 483.519245 203.801293 486.715699 201.066440 500.068659 198.331586 479.671774 195.596732 482.745963 192.861879 483.237369 190.127025 491.218775 187.392172 489.410975 184.657318 479.239929 181.922464 470.706867 179.187611 470.433232 176.452757 485.487373 173.717903 500.190429 170.983050 474.107725 168.248196 429.829193 165.513342 475.049808 162.778489 471.546934 160.043635 475.477909 157.308781 484.789708 154.573928 489.926772 151.839074 491.165228 149.104221 495.180822 146.369367 487.518802 143.634513 498.318977 140.899660 494.888848 138.164806 497.626683 135.429952 491.138482 132.695099 494.240782 129.960245 497.269331 127.225391 508.244518 124.490538 506.464863 121.755684 500.052376 119.020830 496.184328 116.285977 494.446298 113.551123 500.051499 110.816270 497.140787 108.081416 493.410291 105.346562 486.670476 102.611709 480.489880 99.876855 495.383628 97.142001 502.418705 94.407148 496.400375 91.672294 466.007124 88.937440 487.114750 86.202587 487.634525 83.467733 485.759545 80.732880 482.959327 77.998026 495.336909 75.263172 483.386841 72.528319 490.712641 69.793465 504.889599 67.058611 506.050725 64.323758 496.538359 61.588904 500.556217 58.854050 508.165755 56.119197 509.776787 53.384343 510.668987 50.649489 506.332961 47.914636 500.535460 45.179782 457.536335 42.444929 506.925301 39.710075 507.581029 36.975221 511.603288 34.240368 509.729274 31.505514 506.925257 28.770660 509.023583 26.035807 515.886388 23.300953 521.873045 20.566099 523.059055 17.831246 522.492451 15.096392 522.177305 12.361538 521.890160\"/></g><g class=\"series serie-25 color-25\"><path class=\"line reactive\" d=\"M12.361538 521.676365 L15.096392 521.821279 17.831246 521.876831 20.566099 523.059055 23.300953 521.852471 26.035807 515.774378 28.770660 507.631812 31.505514 505.186783 34.240368 508.163836 36.975221 510.200576 39.710075 504.414509 42.444929 504.151749 45.179782 454.583086 47.914636 498.297612 50.649489 505.439092 53.384343 510.075780 56.119197 508.799148 58.854050 506.921791 61.588904 498.346987 64.323758 493.456218 67.058611 504.382392 69.793465 503.442112 72.528319 487.083245 75.263172 479.256808 77.998026 490.100217 80.732880 476.760245 83.467733 482.591715 86.202587 483.070859 88.937440 481.811907 91.672294 462.521007 94.407148 493.168481 97.142001 499.347450 99.876855 492.359995 102.611709 477.642412 105.346562 481.701226 108.081416 491.931372 110.816270 493.710173 113.551123 496.497226 116.285977 491.953358 119.020830 494.023871 121.755684 497.445232 124.490538 504.732804 127.225391 505.912604 129.960245 493.345784 132.695099 490.895489 135.429952 484.281853 138.164806 492.165178 140.899660 488.567593 143.634513 494.688766 146.369367 484.734144 149.104221 493.950238 151.839074 487.202348 154.573928 485.885771 157.308781 481.365172 160.043635 468.926214 162.778489 466.362624 165.513342 469.776555 168.248196 424.883032 170.983050 469.479554 173.717903 496.322273 176.452757 480.403331 179.187611 464.120560 181.922464 468.603982 184.657318 475.093605 187.392172 486.755169 190.127025 487.885575 192.861879 477.128997 195.596732 477.282948 198.331586 473.379386 201.066440 495.873831 203.801293 479.469235 206.536147 480.289975 209.271001 476.854281 212.005854 478.295674 214.740708 477.734310 217.475562 484.161179 220.210415 491.074290 222.945269 411.867724 225.680123 420.324318 228.414976 440.708149 231.149830 450.140281 233.884683 498.635912 236.619537 460.307338 239.354391 420.537307 242.089244 465.745077 244.824098 440.504732 247.558952 425.397332 250.293805 422.075037 253.028659 466.301466 255.763513 438.470522 258.498366 419.222488 261.233220 433.815756 263.968074 449.379275 266.702927 455.103560 269.437781 430.689798 272.172634 451.686232 274.907488 465.854342 277.642342 439.958341 280.377195 432.977289 283.112049 433.348411 285.846903 451.794794 288.581756 437.582032 291.316610 423.187311 294.051464 421.017771 296.786317 399.732786 299.521171 477.602230 302.256025 371.324764 304.990878 448.289206 307.725732 397.209599 310.460585 406.274930 313.195439 429.205203 315.930293 376.512635 318.665146 398.387195 321.400000 392.323085 324.134854 377.774939 326.869707 394.352401 329.604561 391.059932 332.339415 413.977350 335.074268 388.103360 337.809122 433.948002 340.543975 413.960435 343.278829 388.203825 346.013683 368.334425 348.748536 387.281214 351.483390 450.115125 354.218244 324.966940 356.953097 391.169462 359.687951 414.851293 362.422805 400.170482 365.157658 404.480932 367.892512 381.732340 370.627366 393.506535 373.362219 429.533878 376.097073 391.961362 378.831926 384.393885 381.566780 387.519854 384.301634 424.448076 387.036487 402.378101 389.771341 399.817671 392.506195 402.326450 395.241048 404.440751 397.975902 420.198730 400.710756 367.784410 403.445609 369.722314 406.180463 388.603691 408.915317 400.590382 411.650170 378.597443 414.385024 411.366344 417.119877 424.637451 419.854731 414.586052 422.589585 395.774756 425.324438 422.386561 428.059292 395.536449 430.794146 450.141608 433.528999 428.718866 436.263853 417.399440 438.998707 392.856682 441.733560 402.138992 444.468414 372.109951 447.203268 390.532608 449.938121 430.139730 452.672975 422.076998 455.407828 408.831192 458.142682 428.214297 460.877536 409.570163 463.612389 437.705398 466.347243 406.739744 469.082097 409.568828 471.816950 441.799099 474.551804 405.357679 477.286658 409.509590 480.021511 409.040377 482.756365 435.123207 485.491219 483.401179 488.226072 445.621812 490.960926 419.364562 493.695779 383.940537 496.430633 406.922104 499.165487 392.042881 501.900340 403.089754 504.635194 385.958241 507.370048 368.037989 510.104901 390.618992 512.839755 381.888168 515.574609 421.608720 518.309462 400.660056 521.044316 394.408346 523.779170 371.842008 526.514023 395.054836 529.248877 399.352818 531.983730 393.267399 534.718584 373.092852 537.453438 405.566909 540.188291 390.442390 542.923145 384.441795 545.657999 399.488643 548.392852 409.073793 551.127706 378.257436 553.862560 312.588011 556.597413 321.213710 559.332267 319.824181 562.067120 361.246676 564.801974 352.711585 567.536828 225.887687 570.271681 329.852641 573.006535 325.733091 575.741389 311.819227 578.476242 302.492897 581.211096 357.513336 583.945950 332.245811 586.680803 323.393863 589.415657 347.038685 592.150511 347.319596 594.885364 346.566791 597.620218 340.068348 600.355071 331.481856 603.089925 358.297855 605.824779 356.130049 608.559632 357.244111 611.294486 349.778169 614.029340 365.583479 616.764193 334.913234 619.499047 376.005072 622.233901 361.941283 624.968754 385.763296 627.703608 400.764500 630.438462 430.920167 630.438462 433.396502 627.703608 403.841580 624.968754 389.783798 622.233901 365.625193 619.499047 377.995852 616.764193 337.361269 614.029340 367.933652 611.294486 353.388348 608.559632 362.947017 605.824779 362.000777 603.089925 364.311345 600.355071 337.063559 597.620218 348.288328 594.885364 352.366303 592.150511 351.407154 589.415657 351.604334 586.680803 329.782087 583.945950 336.475665 581.211096 361.240220 578.476242 305.576110 575.741389 319.287105 573.006535 332.128888 570.271681 334.745477 567.536828 240.789666 564.801974 357.212906 562.067120 365.360038 559.332267 323.043741 556.597413 325.423810 553.862560 316.551541 551.127706 382.454947 548.392852 412.464462 545.657999 404.030136 542.923145 387.971418 540.188291 395.613916 537.453438 411.823542 534.718584 378.574447 531.983730 397.666640 529.248877 403.160067 526.514023 398.588006 523.779170 375.524413 521.044316 397.609506 518.309462 405.304542 515.574609 425.445280 512.839755 388.227354 510.104901 396.349436 507.370048 376.508695 504.635194 390.745936 501.900340 404.731512 499.165487 394.689639 496.430633 410.631393 493.695779 386.862366 490.960926 420.330230 488.226072 446.220856 485.491219 483.920227 482.756365 435.874034 480.021511 409.992630 477.286658 411.215291 474.551804 407.272361 471.816950 442.564395 469.082097 410.790773 466.347243 408.514153 463.612389 438.967019 460.877536 410.975065 458.142682 428.417575 455.407828 410.301789 452.672975 424.386745 449.938121 431.638493 447.203268 391.312007 444.468414 373.299313 441.733560 403.232712 438.998707 394.102156 436.263853 418.369487 433.528999 431.210003 430.794146 452.560718 428.059292 396.513170 425.324438 423.315820 422.589585 396.959807 419.854731 415.276820 417.119877 425.494979 414.385024 412.672218 411.650170 381.351320 408.915317 401.310959 406.180463 389.945910 403.445609 371.240529 400.710756 370.173626 397.975902 422.161193 395.241048 404.819523 392.506195 403.030718 389.771341 401.053737 387.036487 403.465742 384.301634 424.693703 381.566780 388.958575 378.831926 385.531798 376.097073 393.945508 373.362219 431.031882 370.627366 395.007666 367.892512 384.124256 365.157658 406.224178 362.422805 401.278931 359.687951 415.633547 356.953097 392.258661 354.218244 327.706835 351.483390 450.309733 348.748536 388.821428 346.013683 370.764268 343.278829 389.559455 340.543975 415.739569 337.809122 435.886176 335.074268 389.979717 332.339415 415.554989 329.604561 392.952570 326.869707 396.549164 324.134854 379.631196 321.400000 393.632563 318.665146 401.458162 315.930293 379.228924 313.195439 430.199008 310.460585 407.817742 307.725732 400.457754 304.990878 449.282841 302.256025 374.223244 299.521171 478.310052 296.786317 401.549476 294.051464 422.267843 291.316610 424.095697 288.581756 438.724620 285.846903 453.278718 283.112049 435.515475 280.377195 434.899015 277.642342 440.963643 274.907488 467.389238 272.172634 453.251878 269.437781 432.807623 266.702927 456.090686 263.968074 451.189428 261.233220 434.149488 258.498366 420.998787 255.763513 441.279978 253.028659 468.149205 250.293805 423.739736 247.558952 427.165838 244.824098 441.554304 242.089244 466.656877 239.354391 422.208722 236.619537 462.182013 233.884683 499.706225 231.149830 451.551342 228.414976 441.764221 225.680123 422.972829 222.945269 412.528314 220.210415 491.362308 217.475562 484.677654 214.740708 478.328265 212.005854 478.982005 209.271001 477.053823 206.536147 481.081350 203.801293 479.668553 201.066440 496.356272 198.331586 473.941622 195.596732 478.500921 192.861879 477.683990 190.127025 488.162643 187.392172 486.895760 184.657318 475.869676 181.922464 469.174440 179.187611 464.773699 176.452757 481.208869 173.717903 496.690809 170.983050 469.753881 168.248196 426.398031 165.513342 470.064303 162.778489 466.633217 160.043635 469.391367 157.308781 481.976530 154.573928 486.822287 151.839074 488.385100 149.104221 494.206580 146.369367 485.855326 143.634513 495.317405 140.899660 489.008690 138.164806 492.500514 135.429952 484.588994 132.695099 491.054347 129.960245 493.507910 127.225391 506.272222 124.490538 505.209551 121.755684 497.939156 119.020830 494.287049 116.285977 492.510665 113.551123 496.807578 110.816270 494.088790 108.081416 492.298291 105.346562 481.971406 102.611709 478.756923 99.876855 492.847086 97.142001 499.875240 94.407148 494.002116 91.672294 463.273556 88.937440 483.026426 86.202587 483.869064 83.467733 482.822381 80.732880 478.033521 77.998026 492.086885 75.263172 480.644021 72.528319 487.913438 69.793465 503.632724 67.058611 504.577073 64.323758 494.097911 61.588904 498.485553 58.854050 507.113135 56.119197 508.919239 53.384343 510.586705 50.649489 505.666011 47.914636 499.183367 45.179782 456.197624 42.444929 504.413103 39.710075 504.942562 36.975221 510.225318 34.240368 508.188721 31.505514 505.345070 28.770660 507.689604 26.035807 515.819861 23.300953 521.852471 20.566099 523.059055 17.831246 522.040629 15.096392 521.821279 12.361538 521.876678\"/></g><g class=\"series serie-26 color-26\"><path class=\"line reactive\" d=\"M12.361538 521.653954 L15.096392 521.780545 17.831246 521.745059 20.566099 523.059055 23.300953 521.642033 26.035807 515.469024 28.770660 507.334854 31.505514 505.045136 34.240368 508.054445 36.975221 509.997706 39.710075 504.157056 42.444929 504.027358 45.179782 453.825254 47.914636 498.221304 50.649489 505.270135 53.384343 509.715556 56.119197 508.360808 58.854050 506.864642 61.588904 498.156285 64.323758 492.978846 67.058611 504.263269 69.793465 503.234445 72.528319 486.496739 75.263172 478.293871 77.998026 489.592931 80.732880 476.145750 83.467733 481.992351 86.202587 482.480253 88.937440 480.393598 91.672294 461.222315 94.407148 492.723199 97.142001 499.019723 99.876855 491.306808 102.611709 476.292335 105.346562 481.134500 108.081416 491.520642 110.816270 493.171504 113.551123 495.941146 116.285977 491.932268 119.020830 493.792970 121.755684 496.913803 124.490538 504.446435 127.225391 505.816934 129.960245 493.197226 132.695099 490.713947 135.429952 483.274479 138.164806 491.566305 140.899660 488.109583 143.634513 493.972337 146.369367 484.164325 149.104221 493.682939 151.839074 486.763249 154.573928 485.014887 157.308781 480.915679 160.043635 468.319055 162.778489 465.887044 165.513342 469.430511 168.248196 422.449130 170.983050 468.386042 173.717903 495.839730 176.452757 480.089721 179.187611 463.246176 181.922464 468.028281 184.657318 474.555770 187.392172 485.962668 190.127025 487.339927 192.861879 476.633623 195.596732 476.621864 198.331586 472.784707 201.066440 495.189917 203.801293 479.095759 206.536147 479.292967 209.271001 475.578674 212.005854 477.877656 214.740708 477.066948 217.475562 483.267095 220.210415 488.872545 222.945269 409.306037 225.680123 418.471061 228.414976 439.127909 231.149830 448.595432 233.884683 498.057224 236.619537 459.750193 239.354391 418.960021 242.089244 465.116523 244.824098 439.226678 247.558952 424.023952 250.293805 420.784395 253.028659 465.407511 255.763513 436.457630 258.498366 416.339352 261.233220 432.714644 263.968074 448.391834 266.702927 454.172128 269.437781 428.942585 272.172634 451.208067 274.907488 465.445206 277.642342 438.393120 280.377195 431.921696 283.112049 432.876388 285.846903 451.207201 288.581756 436.547612 291.316610 422.215455 294.051464 420.019082 296.786317 398.447674 299.521171 477.104557 302.256025 369.151093 304.990878 447.239770 307.725732 396.113390 310.460585 405.834142 313.195439 428.575370 315.930293 375.707222 318.665146 396.359746 321.400000 389.213391 324.134854 375.950985 326.869707 393.669246 329.604561 389.488242 332.339415 412.389061 335.074268 387.160547 337.809122 433.238590 340.543975 412.825402 343.278829 386.976818 346.013683 367.093075 348.748536 385.396026 351.483390 449.441233 354.218244 316.035625 356.953097 389.160221 359.687951 413.490930 362.422805 398.620064 365.157658 401.754137 367.892512 377.520308 370.627366 391.418835 373.362219 427.595254 376.097073 390.456103 378.831926 381.842086 381.566780 385.175819 384.301634 422.433840 387.036487 398.982434 389.771341 398.117470 392.506195 400.825989 395.241048 403.013896 397.975902 418.832626 400.710756 365.566688 403.445609 366.820246 406.180463 384.964979 408.915317 399.755950 411.650170 376.944662 414.385024 410.559654 417.119877 423.502074 419.854731 412.966527 422.589585 394.914930 425.324438 421.431371 428.059292 394.805937 430.794146 448.773603 433.528999 426.886400 436.263853 416.301728 438.998707 391.929708 441.733560 401.304189 444.468414 371.687671 447.203268 389.327279 449.938121 429.418748 452.672975 420.385703 455.407828 407.901991 458.142682 427.793202 460.877536 408.658092 463.612389 437.365439 466.347243 406.250672 469.082097 408.901718 471.816950 441.574913 474.551804 404.915830 477.286658 408.641632 480.021511 408.240268 482.756365 434.377769 485.491219 482.606853 488.226072 445.284528 490.960926 418.697399 493.695779 382.001961 496.430633 403.006214 499.165487 388.033235 501.900340 400.910596 504.635194 383.236040 507.370048 364.122259 510.104901 387.401369 512.839755 379.042779 515.574609 419.514698 518.309462 397.724529 521.044316 392.563130 523.779170 368.125766 526.514023 393.172384 529.248877 396.522685 531.983730 388.415147 534.718584 369.755322 537.453438 402.596613 540.188291 387.464254 542.923145 381.758664 545.657999 397.267613 548.392852 404.427305 551.127706 374.811909 553.862560 309.162185 556.597413 318.267939 559.332267 317.164218 562.067120 357.395928 564.801974 349.387958 567.536828 219.811780 570.271681 326.468609 573.006535 320.196538 575.741389 303.134743 578.476242 294.368024 581.211096 349.529431 583.945950 321.812228 586.680803 315.634176 589.415657 340.885444 592.150511 342.440706 594.885364 339.627257 597.620218 330.060247 600.355071 324.876010 603.089925 352.379544 605.824779 349.609614 608.559632 350.019558 611.294486 342.819915 614.029340 361.176664 616.764193 328.113695 619.499047 371.700461 622.233901 357.995596 624.968754 380.912357 627.703608 392.780559 630.438462 425.180604 630.438462 430.920167 627.703608 400.764500 624.968754 385.763296 622.233901 361.941283 619.499047 376.005072 616.764193 334.913234 614.029340 365.583479 611.294486 349.778169 608.559632 357.244111 605.824779 356.130049 603.089925 358.297855 600.355071 331.481856 597.620218 340.068348 594.885364 346.566791 592.150511 347.319596 589.415657 347.038685 586.680803 323.393863 583.945950 332.245811 581.211096 357.513336 578.476242 302.492897 575.741389 311.819227 573.006535 325.733091 570.271681 329.852641 567.536828 225.887687 564.801974 352.711585 562.067120 361.246676 559.332267 319.824181 556.597413 321.213710 553.862560 312.588011 551.127706 378.257436 548.392852 409.073793 545.657999 399.488643 542.923145 384.441795 540.188291 390.442390 537.453438 405.566909 534.718584 373.092852 531.983730 393.267399 529.248877 399.352818 526.514023 395.054836 523.779170 371.842008 521.044316 394.408346 518.309462 400.660056 515.574609 421.608720 512.839755 381.888168 510.104901 390.618992 507.370048 368.037989 504.635194 385.958241 501.900340 403.089754 499.165487 392.042881 496.430633 406.922104 493.695779 383.940537 490.960926 419.364562 488.226072 445.621812 485.491219 483.401179 482.756365 435.123207 480.021511 409.040377 477.286658 409.509590 474.551804 405.357679 471.816950 441.799099 469.082097 409.568828 466.347243 406.739744 463.612389 437.705398 460.877536 409.570163 458.142682 428.214297 455.407828 408.831192 452.672975 422.076998 449.938121 430.139730 447.203268 390.532608 444.468414 372.109951 441.733560 402.138992 438.998707 392.856682 436.263853 417.399440 433.528999 428.718866 430.794146 450.141608 428.059292 395.536449 425.324438 422.386561 422.589585 395.774756 419.854731 414.586052 417.119877 424.637451 414.385024 411.366344 411.650170 378.597443 408.915317 400.590382 406.180463 388.603691 403.445609 369.722314 400.710756 367.784410 397.975902 420.198730 395.241048 404.440751 392.506195 402.326450 389.771341 399.817671 387.036487 402.378101 384.301634 424.448076 381.566780 387.519854 378.831926 384.393885 376.097073 391.961362 373.362219 429.533878 370.627366 393.506535 367.892512 381.732340 365.157658 404.480932 362.422805 400.170482 359.687951 414.851293 356.953097 391.169462 354.218244 324.966940 351.483390 450.115125 348.748536 387.281214 346.013683 368.334425 343.278829 388.203825 340.543975 413.960435 337.809122 433.948002 335.074268 388.103360 332.339415 413.977350 329.604561 391.059932 326.869707 394.352401 324.134854 377.774939 321.400000 392.323085 318.665146 398.387195 315.930293 376.512635 313.195439 429.205203 310.460585 406.274930 307.725732 397.209599 304.990878 448.289206 302.256025 371.324764 299.521171 477.602230 296.786317 399.732786 294.051464 421.017771 291.316610 423.187311 288.581756 437.582032 285.846903 451.794794 283.112049 433.348411 280.377195 432.977289 277.642342 439.958341 274.907488 465.854342 272.172634 451.686232 269.437781 430.689798 266.702927 455.103560 263.968074 449.379275 261.233220 433.815756 258.498366 419.222488 255.763513 438.470522 253.028659 466.301466 250.293805 422.075037 247.558952 425.397332 244.824098 440.504732 242.089244 465.745077 239.354391 420.537307 236.619537 460.307338 233.884683 498.635912 231.149830 450.140281 228.414976 440.708149 225.680123 420.324318 222.945269 411.867724 220.210415 491.074290 217.475562 484.161179 214.740708 477.734310 212.005854 478.295674 209.271001 476.854281 206.536147 480.289975 203.801293 479.469235 201.066440 495.873831 198.331586 473.379386 195.596732 477.282948 192.861879 477.128997 190.127025 487.885575 187.392172 486.755169 184.657318 475.093605 181.922464 468.603982 179.187611 464.120560 176.452757 480.403331 173.717903 496.322273 170.983050 469.479554 168.248196 424.883032 165.513342 469.776555 162.778489 466.362624 160.043635 468.926214 157.308781 481.365172 154.573928 485.885771 151.839074 487.202348 149.104221 493.950238 146.369367 484.734144 143.634513 494.688766 140.899660 488.567593 138.164806 492.165178 135.429952 484.281853 132.695099 490.895489 129.960245 493.345784 127.225391 505.912604 124.490538 504.732804 121.755684 497.445232 119.020830 494.023871 116.285977 491.953358 113.551123 496.497226 110.816270 493.710173 108.081416 491.931372 105.346562 481.701226 102.611709 477.642412 99.876855 492.359995 97.142001 499.347450 94.407148 493.168481 91.672294 462.521007 88.937440 481.811907 86.202587 483.070859 83.467733 482.591715 80.732880 476.760245 77.998026 490.100217 75.263172 479.256808 72.528319 487.083245 69.793465 503.442112 67.058611 504.382392 64.323758 493.456218 61.588904 498.346987 58.854050 506.921791 56.119197 508.799148 53.384343 510.075780 50.649489 505.439092 47.914636 498.297612 45.179782 454.583086 42.444929 504.151749 39.710075 504.414509 36.975221 510.200576 34.240368 508.163836 31.505514 505.186783 28.770660 507.631812 26.035807 515.774378 23.300953 521.852471 20.566099 523.059055 17.831246 521.876831 15.096392 521.821279 12.361538 521.676365\"/></g><g class=\"series serie-27 color-27\"><path class=\"line reactive\" d=\"M12.361538 521.620989 L15.096392 521.780545 17.831246 521.745059 20.566099 523.059055 23.300953 521.642033 26.035807 515.454403 28.770660 504.445861 31.505514 504.179428 34.240368 507.994700 36.975221 509.973933 39.710075 504.044608 42.444929 503.758073 45.179782 451.513237 47.914636 497.831007 50.649489 504.036213 53.384343 507.122959 56.119197 504.849046 58.854050 506.242941 61.588904 495.225184 64.323758 492.902098 67.058611 504.259690 69.793465 503.185840 72.528319 485.953996 75.263172 478.151468 77.998026 489.478988 80.732880 475.894275 83.467733 481.280160 86.202587 481.648289 88.937440 479.800215 91.672294 454.335124 94.407148 489.523702 97.142001 498.788452 99.876855 491.031968 102.611709 474.846647 105.346562 481.079461 108.081416 490.955813 110.816270 493.041358 113.551123 494.940636 116.285977 490.450655 119.020830 492.743948 121.755684 493.070246 124.490538 504.088610 127.225391 504.224149 129.960245 492.860596 132.695099 490.473321 135.429952 483.087949 138.164806 491.213151 140.899660 487.579998 143.634513 493.237548 146.369367 483.911095 149.104221 493.656452 151.839074 486.643334 154.573928 483.618761 157.308781 477.707073 160.043635 464.305248 162.778489 465.475199 165.513342 468.530155 168.248196 421.726512 170.983050 468.030035 173.717903 495.814137 176.452757 479.910656 179.187611 461.520914 181.922464 466.853032 184.657318 473.577247 187.392172 482.223586 190.127025 486.827541 192.861879 472.297574 195.596732 476.186016 198.331586 472.609346 201.066440 493.928361 203.801293 478.260653 206.536147 479.176689 209.271001 475.197615 212.005854 475.599142 214.740708 476.831361 217.475562 480.889126 220.210415 484.995728 222.945269 400.638582 225.680123 414.334435 228.414976 436.840780 231.149830 446.903055 233.884683 497.754291 236.619537 458.833407 239.354391 418.448743 242.089244 464.451225 244.824098 438.526951 247.558952 423.112222 250.293805 419.201509 253.028659 465.001325 255.763513 435.393194 258.498366 413.090352 261.233220 431.962662 263.968074 447.764475 266.702927 452.609471 269.437781 427.905894 272.172634 450.608238 274.907488 464.697239 277.642342 438.164202 280.377195 431.287805 283.112049 432.051577 285.846903 448.626842 288.581756 436.075078 291.316610 419.207988 294.051464 419.555991 296.786317 398.157379 299.521171 476.115229 302.256025 368.235724 304.990878 447.086389 307.725732 395.966707 310.460585 405.332220 313.195439 428.443968 315.930293 375.218695 318.665146 392.888286 321.400000 388.424507 324.134854 373.836617 326.869707 393.650490 329.604561 389.238141 332.339415 412.092861 335.074268 386.551449 337.809122 433.064923 340.543975 411.491706 343.278829 386.479178 346.013683 365.727635 348.748536 383.743597 351.483390 447.154785 354.218244 306.572036 356.953097 383.075442 359.687951 413.229492 362.422805 397.700429 365.157658 400.437915 367.892512 377.183029 370.627366 390.664109 373.362219 426.483873 376.097073 389.558664 378.831926 380.787018 381.566780 383.999108 384.301634 418.299004 387.036487 398.475213 389.771341 396.710741 392.506195 396.306897 395.241048 401.483227 397.975902 418.373626 400.710756 364.472783 403.445609 366.440262 406.180463 383.916124 408.915317 397.223428 411.650170 375.578470 414.385024 406.183648 417.119877 416.596510 419.854731 411.924027 422.589585 390.446046 425.324438 420.489296 428.059292 394.616694 430.794146 448.490710 433.528999 426.629165 436.263853 416.020829 438.998707 391.528625 441.733560 401.157395 444.468414 371.369020 447.203268 385.839291 449.938121 424.583349 452.672975 418.446486 455.407828 405.110043 458.142682 425.834924 460.877536 408.380493 463.612389 436.985665 466.347243 405.600101 469.082097 408.468708 471.816950 440.872636 474.551804 402.864396 477.286658 402.916847 480.021511 402.965063 482.756365 427.535049 485.491219 481.454013 488.226072 440.165704 490.960926 416.412571 493.695779 380.171024 496.430633 400.848121 499.165487 386.660198 501.900340 399.816119 504.635194 381.167105 507.370048 362.969632 510.104901 378.402897 512.839755 370.156399 515.574609 414.994922 518.309462 395.195549 521.044316 382.074842 523.779170 363.920613 526.514023 390.644621 529.248877 395.481502 531.983730 385.575676 534.718584 368.762018 537.453438 400.674993 540.188291 384.059360 542.923145 376.491789 545.657999 391.988890 548.392852 399.590469 551.127706 372.703946 553.862560 305.602987 556.597413 313.190242 559.332267 315.439571 562.067120 356.417920 564.801974 349.217520 567.536828 218.150931 570.271681 325.606992 573.006535 316.869787 575.741389 296.459881 578.476242 288.041990 581.211096 344.916227 583.945950 320.393489 586.680803 311.158158 589.415657 335.325143 592.150511 341.353435 594.885364 338.625060 597.620218 328.161122 600.355071 320.186607 603.089925 350.159953 605.824779 347.744759 608.559632 348.852123 611.294486 341.869666 614.029340 357.566534 616.764193 319.092637 619.499047 365.787795 622.233901 357.381268 624.968754 377.700999 627.703608 390.929458 630.438462 423.647179 630.438462 425.180604 627.703608 392.780559 624.968754 380.912357 622.233901 357.995596 619.499047 371.700461 616.764193 328.113695 614.029340 361.176664 611.294486 342.819915 608.559632 350.019558 605.824779 349.609614 603.089925 352.379544 600.355071 324.876010 597.620218 330.060247 594.885364 339.627257 592.150511 342.440706 589.415657 340.885444 586.680803 315.634176 583.945950 321.812228 581.211096 349.529431 578.476242 294.368024 575.741389 303.134743 573.006535 320.196538 570.271681 326.468609 567.536828 219.811780 564.801974 349.387958 562.067120 357.395928 559.332267 317.164218 556.597413 318.267939 553.862560 309.162185 551.127706 374.811909 548.392852 404.427305 545.657999 397.267613 542.923145 381.758664 540.188291 387.464254 537.453438 402.596613 534.718584 369.755322 531.983730 388.415147 529.248877 396.522685 526.514023 393.172384 523.779170 368.125766 521.044316 392.563130 518.309462 397.724529 515.574609 419.514698 512.839755 379.042779 510.104901 387.401369 507.370048 364.122259 504.635194 383.236040 501.900340 400.910596 499.165487 388.033235 496.430633 403.006214 493.695779 382.001961 490.960926 418.697399 488.226072 445.284528 485.491219 482.606853 482.756365 434.377769 480.021511 408.240268 477.286658 408.641632 474.551804 404.915830 471.816950 441.574913 469.082097 408.901718 466.347243 406.250672 463.612389 437.365439 460.877536 408.658092 458.142682 427.793202 455.407828 407.901991 452.672975 420.385703 449.938121 429.418748 447.203268 389.327279 444.468414 371.687671 441.733560 401.304189 438.998707 391.929708 436.263853 416.301728 433.528999 426.886400 430.794146 448.773603 428.059292 394.805937 425.324438 421.431371 422.589585 394.914930 419.854731 412.966527 417.119877 423.502074 414.385024 410.559654 411.650170 376.944662 408.915317 399.755950 406.180463 384.964979 403.445609 366.820246 400.710756 365.566688 397.975902 418.832626 395.241048 403.013896 392.506195 400.825989 389.771341 398.117470 387.036487 398.982434 384.301634 422.433840 381.566780 385.175819 378.831926 381.842086 376.097073 390.456103 373.362219 427.595254 370.627366 391.418835 367.892512 377.520308 365.157658 401.754137 362.422805 398.620064 359.687951 413.490930 356.953097 389.160221 354.218244 316.035625 351.483390 449.441233 348.748536 385.396026 346.013683 367.093075 343.278829 386.976818 340.543975 412.825402 337.809122 433.238590 335.074268 387.160547 332.339415 412.389061 329.604561 389.488242 326.869707 393.669246 324.134854 375.950985 321.400000 389.213391 318.665146 396.359746 315.930293 375.707222 313.195439 428.575370 310.460585 405.834142 307.725732 396.113390 304.990878 447.239770 302.256025 369.151093 299.521171 477.104557 296.786317 398.447674 294.051464 420.019082 291.316610 422.215455 288.581756 436.547612 285.846903 451.207201 283.112049 432.876388 280.377195 431.921696 277.642342 438.393120 274.907488 465.445206 272.172634 451.208067 269.437781 428.942585 266.702927 454.172128 263.968074 448.391834 261.233220 432.714644 258.498366 416.339352 255.763513 436.457630 253.028659 465.407511 250.293805 420.784395 247.558952 424.023952 244.824098 439.226678 242.089244 465.116523 239.354391 418.960021 236.619537 459.750193 233.884683 498.057224 231.149830 448.595432 228.414976 439.127909 225.680123 418.471061 222.945269 409.306037 220.210415 488.872545 217.475562 483.267095 214.740708 477.066948 212.005854 477.877656 209.271001 475.578674 206.536147 479.292967 203.801293 479.095759 201.066440 495.189917 198.331586 472.784707 195.596732 476.621864 192.861879 476.633623 190.127025 487.339927 187.392172 485.962668 184.657318 474.555770 181.922464 468.028281 179.187611 463.246176 176.452757 480.089721 173.717903 495.839730 170.983050 468.386042 168.248196 422.449130 165.513342 469.430511 162.778489 465.887044 160.043635 468.319055 157.308781 480.915679 154.573928 485.014887 151.839074 486.763249 149.104221 493.682939 146.369367 484.164325 143.634513 493.972337 140.899660 488.109583 138.164806 491.566305 135.429952 483.274479 132.695099 490.713947 129.960245 493.197226 127.225391 505.816934 124.490538 504.446435 121.755684 496.913803 119.020830 493.792970 116.285977 491.932268 113.551123 495.941146 110.816270 493.171504 108.081416 491.520642 105.346562 481.134500 102.611709 476.292335 99.876855 491.306808 97.142001 499.019723 94.407148 492.723199 91.672294 461.222315 88.937440 480.393598 86.202587 482.480253 83.467733 481.992351 80.732880 476.145750 77.998026 489.592931 75.263172 478.293871 72.528319 486.496739 69.793465 503.234445 67.058611 504.263269 64.323758 492.978846 61.588904 498.156285 58.854050 506.864642 56.119197 508.360808 53.384343 509.715556 50.649489 505.270135 47.914636 498.221304 45.179782 453.825254 42.444929 504.027358 39.710075 504.157056 36.975221 509.997706 34.240368 508.054445 31.505514 505.045136 28.770660 507.334854 26.035807 515.469024 23.300953 521.642033 20.566099 523.059055 17.831246 521.745059 15.096392 521.780545 12.361538 521.653954\"/></g><g class=\"series serie-28 color-28\"><path class=\"line reactive\" d=\"M12.361538 521.620989 L15.096392 521.659281 17.831246 521.745059 20.566099 523.059055 23.300953 521.513759 26.035807 513.573372 28.770660 498.944575 31.505514 501.061303 34.240368 505.695085 36.975221 500.637851 39.710075 502.606147 42.444929 502.286784 45.179782 449.708625 47.914636 496.042228 50.649489 502.221296 53.384343 505.860831 56.119197 504.359048 58.854050 504.813428 61.588904 493.678549 64.323758 490.961914 67.058611 501.456955 69.793465 501.746243 72.528319 485.531179 75.263172 477.194360 77.998026 485.342237 80.732880 471.486516 83.467733 478.642780 86.202587 480.795215 88.937440 479.087836 91.672294 453.438363 94.407148 488.867174 97.142001 498.234146 99.876855 489.097400 102.611709 450.096146 105.346562 480.137858 108.081416 490.499167 110.816270 490.587896 113.551123 492.201370 116.285977 488.010468 119.020830 491.541076 121.755684 491.917215 124.490538 502.539538 127.225391 502.043514 129.960245 489.736916 132.695099 485.792607 135.429952 479.805006 138.164806 489.686224 140.899660 483.828692 143.634513 487.229112 146.369367 479.150361 149.104221 482.057871 151.839074 483.954380 154.573928 481.294144 157.308781 470.828164 160.043635 452.420084 162.778489 455.210891 165.513342 458.967057 168.248196 365.320148 170.983050 454.489102 173.717903 490.089317 176.452757 473.555587 179.187611 452.013988 181.922464 457.034780 184.657318 469.874667 187.392172 479.644126 190.127025 479.737074 192.861879 466.065965 195.596732 468.971954 198.331586 465.915228 201.066440 491.116188 203.801293 474.390932 206.536147 470.861769 209.271001 468.094799 212.005854 470.979898 214.740708 472.561768 217.475562 479.680164 220.210415 484.682479 222.945269 396.351380 225.680123 404.362676 228.414976 427.079205 231.149830 441.687564 233.884683 497.308258 236.619537 454.709382 239.354391 406.511572 242.089244 457.751533 244.824098 430.535151 247.558952 416.609806 250.293805 412.493309 253.028659 461.626959 255.763513 427.451751 258.498366 401.865039 261.233220 418.963282 263.968074 439.424476 266.702927 444.180376 269.437781 416.145372 272.172634 441.115275 274.907488 457.374907 277.642342 430.118206 280.377195 423.230338 283.112049 424.107715 285.846903 444.213233 288.581756 429.271962 291.316610 409.969742 294.051464 408.650527 296.786317 387.008594 299.521171 475.228983 302.256025 364.115542 304.990878 443.956383 307.725732 391.054138 310.460585 401.905710 313.195439 426.520144 315.930293 371.195058 318.665146 390.602982 321.400000 387.152887 324.134854 368.755783 326.869707 388.183373 329.604561 384.306093 332.339415 409.650260 335.074268 383.992436 337.809122 430.240324 340.543975 406.592615 343.278829 381.733063 346.013683 359.461233 348.748536 380.962053 351.483390 445.836689 354.218244 302.840499 356.953097 376.908010 359.687951 408.990992 362.422805 395.521207 365.157658 380.807079 367.892512 367.756717 370.627366 384.120891 373.362219 421.957221 376.097073 384.798979 378.831926 376.445227 381.566780 381.236343 384.301634 416.254384 387.036487 392.106662 389.771341 392.114685 392.506195 392.457051 395.241048 398.953738 397.975902 416.501894 400.710756 361.855220 403.445609 361.715720 406.180463 379.617344 408.915317 393.901439 411.650170 372.900694 414.385024 404.046255 417.119877 414.967080 419.854731 407.409880 422.589585 387.341089 425.324438 417.287712 428.059292 392.831484 430.794146 448.143740 433.528999 425.907216 436.263853 412.412179 438.998707 389.489954 441.733560 397.201210 444.468414 367.801627 447.203268 383.245204 449.938121 422.924800 452.672975 416.287881 455.407828 402.231332 458.142682 423.841083 460.877536 406.158333 463.612389 435.560721 466.347243 403.694757 469.082097 406.413484 471.816950 438.558820 474.551804 401.660100 477.286658 400.503824 480.021511 401.916291 482.756365 427.046630 485.491219 480.756688 488.226072 438.167810 490.960926 412.117586 493.695779 377.882007 496.430633 394.792357 499.165487 382.059542 501.900340 395.496990 504.635194 379.034399 507.370048 359.554014 510.104901 375.699056 512.839755 369.423701 515.574609 414.220863 518.309462 392.461204 521.044316 378.804793 523.779170 360.459755 526.514023 388.139269 529.248877 394.223362 531.983730 383.796878 534.718584 366.622943 537.453438 398.722348 540.188291 382.325881 542.923145 375.867784 545.657999 390.498222 548.392852 398.215011 551.127706 369.505996 553.862560 302.950967 556.597413 310.505624 559.332267 313.608435 562.067120 351.417871 564.801974 346.960505 567.536828 217.146752 570.271681 323.361967 573.006535 313.332631 575.741389 291.599516 578.476242 283.941403 581.211096 339.900799 583.945950 313.888285 586.680803 305.915639 589.415657 329.381766 592.150511 337.806016 594.885364 330.857917 597.620218 323.801420 600.355071 316.027381 603.089925 343.950370 605.824779 340.343823 608.559632 344.413778 611.294486 338.426932 614.029340 354.870300 616.764193 317.881415 619.499047 362.823651 622.233901 352.333794 624.968754 374.025283 627.703608 384.452809 630.438462 417.897828 630.438462 423.647179 627.703608 390.929458 624.968754 377.700999 622.233901 357.381268 619.499047 365.787795 616.764193 319.092637 614.029340 357.566534 611.294486 341.869666 608.559632 348.852123 605.824779 347.744759 603.089925 350.159953 600.355071 320.186607 597.620218 328.161122 594.885364 338.625060 592.150511 341.353435 589.415657 335.325143 586.680803 311.158158 583.945950 320.393489 581.211096 344.916227 578.476242 288.041990 575.741389 296.459881 573.006535 316.869787 570.271681 325.606992 567.536828 218.150931 564.801974 349.217520 562.067120 356.417920 559.332267 315.439571 556.597413 313.190242 553.862560 305.602987 551.127706 372.703946 548.392852 399.590469 545.657999 391.988890 542.923145 376.491789 540.188291 384.059360 537.453438 400.674993 534.718584 368.762018 531.983730 385.575676 529.248877 395.481502 526.514023 390.644621 523.779170 363.920613 521.044316 382.074842 518.309462 395.195549 515.574609 414.994922 512.839755 370.156399 510.104901 378.402897 507.370048 362.969632 504.635194 381.167105 501.900340 399.816119 499.165487 386.660198 496.430633 400.848121 493.695779 380.171024 490.960926 416.412571 488.226072 440.165704 485.491219 481.454013 482.756365 427.535049 480.021511 402.965063 477.286658 402.916847 474.551804 402.864396 471.816950 440.872636 469.082097 408.468708 466.347243 405.600101 463.612389 436.985665 460.877536 408.380493 458.142682 425.834924 455.407828 405.110043 452.672975 418.446486 449.938121 424.583349 447.203268 385.839291 444.468414 371.369020 441.733560 401.157395 438.998707 391.528625 436.263853 416.020829 433.528999 426.629165 430.794146 448.490710 428.059292 394.616694 425.324438 420.489296 422.589585 390.446046 419.854731 411.924027 417.119877 416.596510 414.385024 406.183648 411.650170 375.578470 408.915317 397.223428 406.180463 383.916124 403.445609 366.440262 400.710756 364.472783 397.975902 418.373626 395.241048 401.483227 392.506195 396.306897 389.771341 396.710741 387.036487 398.475213 384.301634 418.299004 381.566780 383.999108 378.831926 380.787018 376.097073 389.558664 373.362219 426.483873 370.627366 390.664109 367.892512 377.183029 365.157658 400.437915 362.422805 397.700429 359.687951 413.229492 356.953097 383.075442 354.218244 306.572036 351.483390 447.154785 348.748536 383.743597 346.013683 365.727635 343.278829 386.479178 340.543975 411.491706 337.809122 433.064923 335.074268 386.551449 332.339415 412.092861 329.604561 389.238141 326.869707 393.650490 324.134854 373.836617 321.400000 388.424507 318.665146 392.888286 315.930293 375.218695 313.195439 428.443968 310.460585 405.332220 307.725732 395.966707 304.990878 447.086389 302.256025 368.235724 299.521171 476.115229 296.786317 398.157379 294.051464 419.555991 291.316610 419.207988 288.581756 436.075078 285.846903 448.626842 283.112049 432.051577 280.377195 431.287805 277.642342 438.164202 274.907488 464.697239 272.172634 450.608238 269.437781 427.905894 266.702927 452.609471 263.968074 447.764475 261.233220 431.962662 258.498366 413.090352 255.763513 435.393194 253.028659 465.001325 250.293805 419.201509 247.558952 423.112222 244.824098 438.526951 242.089244 464.451225 239.354391 418.448743 236.619537 458.833407 233.884683 497.754291 231.149830 446.903055 228.414976 436.840780 225.680123 414.334435 222.945269 400.638582 220.210415 484.995728 217.475562 480.889126 214.740708 476.831361 212.005854 475.599142 209.271001 475.197615 206.536147 479.176689 203.801293 478.260653 201.066440 493.928361 198.331586 472.609346 195.596732 476.186016 192.861879 472.297574 190.127025 486.827541 187.392172 482.223586 184.657318 473.577247 181.922464 466.853032 179.187611 461.520914 176.452757 479.910656 173.717903 495.814137 170.983050 468.030035 168.248196 421.726512 165.513342 468.530155 162.778489 465.475199 160.043635 464.305248 157.308781 477.707073 154.573928 483.618761 151.839074 486.643334 149.104221 493.656452 146.369367 483.911095 143.634513 493.237548 140.899660 487.579998 138.164806 491.213151 135.429952 483.087949 132.695099 490.473321 129.960245 492.860596 127.225391 504.224149 124.490538 504.088610 121.755684 493.070246 119.020830 492.743948 116.285977 490.450655 113.551123 494.940636 110.816270 493.041358 108.081416 490.955813 105.346562 481.079461 102.611709 474.846647 99.876855 491.031968 97.142001 498.788452 94.407148 489.523702 91.672294 454.335124 88.937440 479.800215 86.202587 481.648289 83.467733 481.280160 80.732880 475.894275 77.998026 489.478988 75.263172 478.151468 72.528319 485.953996 69.793465 503.185840 67.058611 504.259690 64.323758 492.902098 61.588904 495.225184 58.854050 506.242941 56.119197 504.849046 53.384343 507.122959 50.649489 504.036213 47.914636 497.831007 45.179782 451.513237 42.444929 503.758073 39.710075 504.044608 36.975221 509.973933 34.240368 507.994700 31.505514 504.179428 28.770660 504.445861 26.035807 515.454403 23.300953 521.642033 20.566099 523.059055 17.831246 521.745059 15.096392 521.780545 12.361538 521.620989\"/></g><g class=\"series serie-29 color-29\"><path class=\"line reactive\" d=\"M12.361538 521.620989 L15.096392 521.488318 17.831246 521.706039 20.566099 523.059055 23.300953 521.324140 26.035807 513.118737 28.770660 498.465671 31.505514 500.170817 34.240368 505.371880 36.975221 499.439792 39.710075 501.540413 42.444929 501.936702 45.179782 449.023022 47.914636 495.474712 50.649489 501.620379 53.384343 505.204776 56.119197 503.242002 58.854050 504.522100 61.588904 493.139497 64.323758 490.581245 67.058611 501.153305 69.793465 500.933144 72.528319 483.881392 75.263172 476.140084 77.998026 484.195816 80.732880 470.061545 83.467733 476.040183 86.202587 478.699623 88.937440 477.830484 91.672294 452.776878 94.407148 487.693434 97.142001 495.425503 99.876855 485.467742 102.611709 443.420242 105.346562 478.137709 108.081416 489.614629 110.816270 488.308832 113.551123 490.062823 116.285977 485.747364 119.020830 489.633987 121.755684 490.723707 124.490538 501.429728 127.225391 501.799042 129.960245 489.194312 132.695099 483.847206 135.429952 478.255451 138.164806 488.433304 140.899660 482.955183 143.634513 485.279380 146.369367 477.286064 149.104221 480.793646 151.839074 482.205925 154.573928 479.392856 157.308781 469.279994 160.043635 451.570377 162.778489 453.935161 165.513342 457.153055 168.248196 354.229940 170.983050 450.021215 173.717903 489.634254 176.452757 472.651245 179.187611 451.017299 181.922464 455.338100 184.657318 468.816761 187.392172 478.211174 190.127025 478.721395 192.861879 465.066203 195.596732 467.061097 198.331586 464.219570 201.066440 490.263809 203.801293 472.488764 206.536147 470.004492 209.271001 466.540785 212.005854 469.463291 214.740708 470.975782 217.475562 478.628476 220.210415 483.990759 222.945269 395.248398 225.680123 400.273405 228.414976 423.847647 231.149830 437.537040 233.884683 496.436269 236.619537 452.477390 239.354391 404.202246 242.089244 455.017961 244.824098 428.438659 247.558952 413.937413 250.293805 411.335992 253.028659 460.785259 255.763513 425.572638 258.498366 398.654976 261.233220 416.332732 263.968074 437.465704 266.702927 441.071551 269.437781 412.164894 272.172634 439.054885 274.907488 454.801966 277.642342 426.639987 280.377195 420.268162 283.112049 420.582285 285.846903 442.343627 288.581756 426.032137 291.316610 407.239520 294.051464 405.304424 296.786317 382.206711 299.521171 473.935297 302.256025 360.076097 304.990878 442.294601 307.725732 388.079907 310.460585 399.782659 313.195439 424.853920 315.930293 367.539509 318.665146 388.284906 321.400000 385.672766 324.134854 364.564589 326.869707 386.874562 329.604561 380.614506 332.339415 404.180278 335.074268 380.834592 337.809122 428.522608 340.543975 403.741637 343.278829 378.308505 346.013683 356.201693 348.748536 377.571772 351.483390 444.807058 354.218244 301.139046 356.953097 373.336134 359.687951 406.831395 362.422805 391.978216 365.157658 370.823524 367.892512 358.538089 370.627366 381.522207 373.362219 418.993341 376.097073 381.597337 378.831926 371.187310 381.566780 377.420287 384.301634 414.275507 387.036487 389.408896 389.771341 388.348979 392.506195 388.969816 395.241048 395.019979 397.975902 411.380486 400.710756 355.339504 403.445609 358.464900 406.180463 375.479439 408.915317 389.270183 411.650170 368.930160 414.385024 400.094506 417.119877 412.347781 419.854731 404.615894 422.589585 385.455112 425.324438 414.409207 428.059292 385.916712 430.794146 443.981940 433.528999 422.500207 436.263853 410.628841 438.998707 385.114637 441.733560 394.401225 444.468414 364.139756 447.203268 380.102239 449.938121 421.261494 452.672975 413.103659 455.407828 400.227079 458.142682 421.964868 460.877536 402.310590 463.612389 429.593020 466.347243 399.590646 469.082097 404.153792 471.816950 431.384156 474.551804 399.505079 477.286658 398.300521 480.021511 398.018516 482.756365 424.379698 485.491219 478.517069 488.226072 436.330945 490.960926 409.323199 493.695779 369.773934 496.430633 378.923821 499.165487 367.361010 501.900340 388.788741 504.635194 370.875680 507.370048 351.473138 510.104901 371.571439 512.839755 362.602057 515.574609 410.643424 518.309462 388.563926 521.044316 371.403310 523.779170 353.349507 526.514023 382.319091 529.248877 385.216251 531.983730 374.046243 534.718584 362.474510 537.453438 392.420384 540.188291 372.505572 542.923145 366.500609 545.657999 379.346159 548.392852 390.702380 551.127706 363.033658 553.862560 288.700885 556.597413 301.674024 559.332267 295.854312 562.067120 267.995023 564.801974 324.898776 567.536828 209.596463 570.271681 310.799067 573.006535 305.841713 575.741389 280.729541 578.476242 274.811499 581.211096 330.552860 583.945950 305.516302 586.680803 295.655559 589.415657 319.912441 592.150511 327.044505 594.885364 304.056911 597.620218 309.877020 600.355071 309.377198 603.089925 336.628372 605.824779 330.375982 608.559632 335.640043 611.294486 329.960646 614.029340 351.278965 616.764193 315.172795 619.499047 354.234045 622.233901 345.529792 624.968754 364.344315 627.703608 335.052611 630.438462 375.082618 630.438462 417.897828 627.703608 384.452809 624.968754 374.025283 622.233901 352.333794 619.499047 362.823651 616.764193 317.881415 614.029340 354.870300 611.294486 338.426932 608.559632 344.413778 605.824779 340.343823 603.089925 343.950370 600.355071 316.027381 597.620218 323.801420 594.885364 330.857917 592.150511 337.806016 589.415657 329.381766 586.680803 305.915639 583.945950 313.888285 581.211096 339.900799 578.476242 283.941403 575.741389 291.599516 573.006535 313.332631 570.271681 323.361967 567.536828 217.146752 564.801974 346.960505 562.067120 351.417871 559.332267 313.608435 556.597413 310.505624 553.862560 302.950967 551.127706 369.505996 548.392852 398.215011 545.657999 390.498222 542.923145 375.867784 540.188291 382.325881 537.453438 398.722348 534.718584 366.622943 531.983730 383.796878 529.248877 394.223362 526.514023 388.139269 523.779170 360.459755 521.044316 378.804793 518.309462 392.461204 515.574609 414.220863 512.839755 369.423701 510.104901 375.699056 507.370048 359.554014 504.635194 379.034399 501.900340 395.496990 499.165487 382.059542 496.430633 394.792357 493.695779 377.882007 490.960926 412.117586 488.226072 438.167810 485.491219 480.756688 482.756365 427.046630 480.021511 401.916291 477.286658 400.503824 474.551804 401.660100 471.816950 438.558820 469.082097 406.413484 466.347243 403.694757 463.612389 435.560721 460.877536 406.158333 458.142682 423.841083 455.407828 402.231332 452.672975 416.287881 449.938121 422.924800 447.203268 383.245204 444.468414 367.801627 441.733560 397.201210 438.998707 389.489954 436.263853 412.412179 433.528999 425.907216 430.794146 448.143740 428.059292 392.831484 425.324438 417.287712 422.589585 387.341089 419.854731 407.409880 417.119877 414.967080 414.385024 404.046255 411.650170 372.900694 408.915317 393.901439 406.180463 379.617344 403.445609 361.715720 400.710756 361.855220 397.975902 416.501894 395.241048 398.953738 392.506195 392.457051 389.771341 392.114685 387.036487 392.106662 384.301634 416.254384 381.566780 381.236343 378.831926 376.445227 376.097073 384.798979 373.362219 421.957221 370.627366 384.120891 367.892512 367.756717 365.157658 380.807079 362.422805 395.521207 359.687951 408.990992 356.953097 376.908010 354.218244 302.840499 351.483390 445.836689 348.748536 380.962053 346.013683 359.461233 343.278829 381.733063 340.543975 406.592615 337.809122 430.240324 335.074268 383.992436 332.339415 409.650260 329.604561 384.306093 326.869707 388.183373 324.134854 368.755783 321.400000 387.152887 318.665146 390.602982 315.930293 371.195058 313.195439 426.520144 310.460585 401.905710 307.725732 391.054138 304.990878 443.956383 302.256025 364.115542 299.521171 475.228983 296.786317 387.008594 294.051464 408.650527 291.316610 409.969742 288.581756 429.271962 285.846903 444.213233 283.112049 424.107715 280.377195 423.230338 277.642342 430.118206 274.907488 457.374907 272.172634 441.115275 269.437781 416.145372 266.702927 444.180376 263.968074 439.424476 261.233220 418.963282 258.498366 401.865039 255.763513 427.451751 253.028659 461.626959 250.293805 412.493309 247.558952 416.609806 244.824098 430.535151 242.089244 457.751533 239.354391 406.511572 236.619537 454.709382 233.884683 497.308258 231.149830 441.687564 228.414976 427.079205 225.680123 404.362676 222.945269 396.351380 220.210415 484.682479 217.475562 479.680164 214.740708 472.561768 212.005854 470.979898 209.271001 468.094799 206.536147 470.861769 203.801293 474.390932 201.066440 491.116188 198.331586 465.915228 195.596732 468.971954 192.861879 466.065965 190.127025 479.737074 187.392172 479.644126 184.657318 469.874667 181.922464 457.034780 179.187611 452.013988 176.452757 473.555587 173.717903 490.089317 170.983050 454.489102 168.248196 365.320148 165.513342 458.967057 162.778489 455.210891 160.043635 452.420084 157.308781 470.828164 154.573928 481.294144 151.839074 483.954380 149.104221 482.057871 146.369367 479.150361 143.634513 487.229112 140.899660 483.828692 138.164806 489.686224 135.429952 479.805006 132.695099 485.792607 129.960245 489.736916 127.225391 502.043514 124.490538 502.539538 121.755684 491.917215 119.020830 491.541076 116.285977 488.010468 113.551123 492.201370 110.816270 490.587896 108.081416 490.499167 105.346562 480.137858 102.611709 450.096146 99.876855 489.097400 97.142001 498.234146 94.407148 488.867174 91.672294 453.438363 88.937440 479.087836 86.202587 480.795215 83.467733 478.642780 80.732880 471.486516 77.998026 485.342237 75.263172 477.194360 72.528319 485.531179 69.793465 501.746243 67.058611 501.456955 64.323758 490.961914 61.588904 493.678549 58.854050 504.813428 56.119197 504.359048 53.384343 505.860831 50.649489 502.221296 47.914636 496.042228 45.179782 449.708625 42.444929 502.286784 39.710075 502.606147 36.975221 500.637851 34.240368 505.695085 31.505514 501.061303 28.770660 498.944575 26.035807 513.573372 23.300953 521.513759 20.566099 523.059055 17.831246 521.745059 15.096392 521.659281 12.361538 521.620989\"/></g><g class=\"series serie-30 color-30\"><path class=\"line reactive\" d=\"M12.361538 521.605198 L15.096392 521.488318 17.831246 521.706039 20.566099 523.055136 23.300953 521.324140 26.035807 512.013394 28.770660 495.880091 31.505514 498.511432 34.240368 504.677555 36.975221 498.800289 39.710075 500.848264 42.444929 501.377176 45.179782 447.917556 47.914636 493.947480 50.649489 500.304220 53.384343 504.721155 56.119197 502.966429 58.854050 503.424964 61.588904 491.895688 64.323758 490.038688 67.058611 500.762245 69.793465 500.426399 72.528319 483.355644 75.263172 475.816788 77.998026 483.660432 80.732880 469.462002 83.467733 475.538807 86.202587 478.015392 88.937440 477.213702 91.672294 452.252895 94.407148 487.644548 97.142001 495.188920 99.876855 485.208225 102.611709 442.609461 105.346562 477.169112 108.081416 488.965796 110.816270 487.753182 113.551123 489.810708 116.285977 485.305104 119.020830 488.921913 121.755684 490.550804 124.490538 500.376798 127.225391 501.417625 129.960245 488.628673 132.695099 482.078164 135.429952 477.294884 138.164806 488.303439 140.899660 481.936693 143.634513 483.953949 146.369367 475.445499 149.104221 478.793614 151.839074 480.215403 154.573928 478.187715 157.308781 467.523615 160.043635 448.805586 162.778489 452.707748 165.513342 453.921403 168.248196 349.716121 170.983050 448.856452 173.717903 488.815581 176.452757 471.369582 179.187611 449.168980 181.922464 453.668344 184.657318 466.972180 187.392172 477.407268 190.127025 476.877575 192.861879 463.661880 195.596732 464.716224 198.331586 462.710748 201.066440 489.734647 203.801293 471.204831 206.536147 468.893474 209.271001 465.397676 212.005854 468.654891 214.740708 469.856661 217.475562 477.223863 220.210415 483.204163 222.945269 393.286075 225.680123 397.480594 228.414976 420.843867 231.149830 435.467912 233.884683 495.298734 236.619537 449.123305 239.354391 397.120723 242.089244 450.393578 244.824098 422.802696 247.558952 409.265195 250.293805 404.591555 253.028659 458.802706 255.763513 421.468425 258.498366 394.772407 261.233220 412.292018 263.968074 432.395026 266.702927 438.413430 269.437781 408.503367 272.172634 434.394850 274.907488 452.405500 277.642342 421.037943 280.377195 415.606070 283.112049 414.231088 285.846903 437.790540 288.581756 421.170187 291.316610 402.607192 294.051464 401.207323 296.786317 377.509528 299.521171 472.923031 302.256025 354.455484 304.990878 439.163047 307.725732 378.473318 310.460585 394.367469 313.195439 420.378864 315.930293 360.087405 318.665146 381.431411 321.400000 379.704167 324.134854 357.457095 326.869707 380.736838 329.604561 372.503744 332.339415 399.950765 335.074268 374.178107 337.809122 425.236262 340.543975 397.647282 343.278829 369.642914 346.013683 349.236087 348.748536 370.675624 351.483390 440.799011 354.218244 297.803685 356.953097 367.614022 359.687951 398.989102 362.422805 384.592888 365.157658 365.444808 367.892512 355.821849 370.627366 377.397543 373.362219 414.710862 376.097073 376.256446 378.831926 364.784054 381.566780 370.877464 384.301634 412.521274 387.036487 384.275029 389.771341 383.896727 392.506195 385.481494 395.241048 392.651827 397.975902 409.585799 400.710756 352.140986 403.445609 351.851712 406.180463 368.578924 408.915317 384.575454 411.650170 364.548231 414.385024 394.956165 417.119877 408.602154 419.854731 401.064968 422.589585 381.878073 425.324438 413.245238 428.059292 382.169082 430.794146 442.108732 433.528999 420.255040 436.263853 406.288162 438.998707 382.967209 441.733560 391.358040 444.468414 361.747506 447.203268 378.379080 449.938121 418.497148 452.672975 411.544382 455.407828 398.373019 458.142682 420.875817 460.877536 400.615785 463.612389 427.952805 466.347243 398.549632 469.082097 401.393511 471.816950 430.061415 474.551804 396.995197 477.286658 396.652833 480.021511 395.895041 482.756365 421.812747 485.491219 477.558585 488.226072 434.948613 490.960926 408.585393 493.695779 366.633437 496.430633 376.551580 499.165487 363.264555 501.900340 385.984163 504.635194 367.698598 507.370048 348.256969 510.104901 369.333856 512.839755 360.958887 515.574609 409.762185 518.309462 386.847149 521.044316 369.508260 523.779170 351.470250 526.514023 380.801339 529.248877 383.396578 531.983730 373.031434 534.718584 360.818732 537.453438 390.724163 540.188291 371.917217 542.923145 365.387528 545.657999 377.514856 548.392852 389.578057 551.127706 360.996583 553.862560 286.806231 556.597413 299.188170 559.332267 294.673031 562.067120 266.908330 564.801974 322.611069 567.536828 207.868442 570.271681 309.148195 573.006535 304.005472 575.741389 279.286185 578.476242 273.357228 581.211096 327.893276 583.945950 303.438801 586.680803 293.212752 589.415657 317.626034 592.150511 323.890925 594.885364 300.656065 597.620218 307.211476 600.355071 306.701670 603.089925 334.407310 605.824779 327.366212 608.559632 333.801348 611.294486 327.976989 614.029340 350.038227 616.764193 314.890897 619.499047 351.600664 622.233901 341.759232 624.968754 361.442465 627.703608 333.790195 630.438462 372.243474 630.438462 375.082618 627.703608 335.052611 624.968754 364.344315 622.233901 345.529792 619.499047 354.234045 616.764193 315.172795 614.029340 351.278965 611.294486 329.960646 608.559632 335.640043 605.824779 330.375982 603.089925 336.628372 600.355071 309.377198 597.620218 309.877020 594.885364 304.056911 592.150511 327.044505 589.415657 319.912441 586.680803 295.655559 583.945950 305.516302 581.211096 330.552860 578.476242 274.811499 575.741389 280.729541 573.006535 305.841713 570.271681 310.799067 567.536828 209.596463 564.801974 324.898776 562.067120 267.995023 559.332267 295.854312 556.597413 301.674024 553.862560 288.700885 551.127706 363.033658 548.392852 390.702380 545.657999 379.346159 542.923145 366.500609 540.188291 372.505572 537.453438 392.420384 534.718584 362.474510 531.983730 374.046243 529.248877 385.216251 526.514023 382.319091 523.779170 353.349507 521.044316 371.403310 518.309462 388.563926 515.574609 410.643424 512.839755 362.602057 510.104901 371.571439 507.370048 351.473138 504.635194 370.875680 501.900340 388.788741 499.165487 367.361010 496.430633 378.923821 493.695779 369.773934 490.960926 409.323199 488.226072 436.330945 485.491219 478.517069 482.756365 424.379698 480.021511 398.018516 477.286658 398.300521 474.551804 399.505079 471.816950 431.384156 469.082097 404.153792 466.347243 399.590646 463.612389 429.593020 460.877536 402.310590 458.142682 421.964868 455.407828 400.227079 452.672975 413.103659 449.938121 421.261494 447.203268 380.102239 444.468414 364.139756 441.733560 394.401225 438.998707 385.114637 436.263853 410.628841 433.528999 422.500207 430.794146 443.981940 428.059292 385.916712 425.324438 414.409207 422.589585 385.455112 419.854731 404.615894 417.119877 412.347781 414.385024 400.094506 411.650170 368.930160 408.915317 389.270183 406.180463 375.479439 403.445609 358.464900 400.710756 355.339504 397.975902 411.380486 395.241048 395.019979 392.506195 388.969816 389.771341 388.348979 387.036487 389.408896 384.301634 414.275507 381.566780 377.420287 378.831926 371.187310 376.097073 381.597337 373.362219 418.993341 370.627366 381.522207 367.892512 358.538089 365.157658 370.823524 362.422805 391.978216 359.687951 406.831395 356.953097 373.336134 354.218244 301.139046 351.483390 444.807058 348.748536 377.571772 346.013683 356.201693 343.278829 378.308505 340.543975 403.741637 337.809122 428.522608 335.074268 380.834592 332.339415 404.180278 329.604561 380.614506 326.869707 386.874562 324.134854 364.564589 321.400000 385.672766 318.665146 388.284906 315.930293 367.539509 313.195439 424.853920 310.460585 399.782659 307.725732 388.079907 304.990878 442.294601 302.256025 360.076097 299.521171 473.935297 296.786317 382.206711 294.051464 405.304424 291.316610 407.239520 288.581756 426.032137 285.846903 442.343627 283.112049 420.582285 280.377195 420.268162 277.642342 426.639987 274.907488 454.801966 272.172634 439.054885 269.437781 412.164894 266.702927 441.071551 263.968074 437.465704 261.233220 416.332732 258.498366 398.654976 255.763513 425.572638 253.028659 460.785259 250.293805 411.335992 247.558952 413.937413 244.824098 428.438659 242.089244 455.017961 239.354391 404.202246 236.619537 452.477390 233.884683 496.436269 231.149830 437.537040 228.414976 423.847647 225.680123 400.273405 222.945269 395.248398 220.210415 483.990759 217.475562 478.628476 214.740708 470.975782 212.005854 469.463291 209.271001 466.540785 206.536147 470.004492 203.801293 472.488764 201.066440 490.263809 198.331586 464.219570 195.596732 467.061097 192.861879 465.066203 190.127025 478.721395 187.392172 478.211174 184.657318 468.816761 181.922464 455.338100 179.187611 451.017299 176.452757 472.651245 173.717903 489.634254 170.983050 450.021215 168.248196 354.229940 165.513342 457.153055 162.778489 453.935161 160.043635 451.570377 157.308781 469.279994 154.573928 479.392856 151.839074 482.205925 149.104221 480.793646 146.369367 477.286064 143.634513 485.279380 140.899660 482.955183 138.164806 488.433304 135.429952 478.255451 132.695099 483.847206 129.960245 489.194312 127.225391 501.799042 124.490538 501.429728 121.755684 490.723707 119.020830 489.633987 116.285977 485.747364 113.551123 490.062823 110.816270 488.308832 108.081416 489.614629 105.346562 478.137709 102.611709 443.420242 99.876855 485.467742 97.142001 495.425503 94.407148 487.693434 91.672294 452.776878 88.937440 477.830484 86.202587 478.699623 83.467733 476.040183 80.732880 470.061545 77.998026 484.195816 75.263172 476.140084 72.528319 483.881392 69.793465 500.933144 67.058611 501.153305 64.323758 490.581245 61.588904 493.139497 58.854050 504.522100 56.119197 503.242002 53.384343 505.204776 50.649489 501.620379 47.914636 495.474712 45.179782 449.023022 42.444929 501.936702 39.710075 501.540413 36.975221 499.439792 34.240368 505.371880 31.505514 500.170817 28.770660 498.465671 26.035807 513.118737 23.300953 521.324140 20.566099 523.059055 17.831246 521.706039 15.096392 521.488318 12.361538 521.620989\"/></g><g class=\"series serie-31 color-31\"><path class=\"line reactive\" d=\"M12.361538 521.605198 L15.096392 521.476509 17.831246 521.706039 20.566099 523.055136 23.300953 521.324140 26.035807 511.262002 28.770660 495.419178 31.505514 498.160206 34.240368 504.238790 36.975221 498.688896 39.710075 500.271250 42.444929 501.223557 45.179782 447.245770 47.914636 488.341347 50.649489 498.218629 53.384343 500.212932 56.119197 496.777525 58.854050 502.124920 61.588904 489.971371 64.323758 489.631169 67.058611 500.189454 69.793465 499.708063 72.528319 481.760133 75.263172 474.909135 77.998026 483.400092 80.732880 468.817545 83.467733 474.301067 86.202587 474.045250 88.937440 474.598187 91.672294 451.886927 94.407148 487.415306 97.142001 495.112738 99.876855 485.030517 102.611709 442.439455 105.346562 475.528327 108.081416 488.780484 110.816270 485.820413 113.551123 488.133999 116.285977 484.608241 119.020830 488.349049 121.755684 490.286067 124.490538 499.814769 127.225391 500.847789 129.960245 488.523199 132.695099 481.663079 135.429952 476.758945 138.164806 487.361373 140.899660 479.872108 143.634513 483.893601 146.369367 474.545180 149.104221 478.454593 151.839074 480.013675 154.573928 472.424039 157.308781 461.793429 160.043635 446.554899 162.778489 452.140154 165.513342 453.166508 168.248196 349.405245 170.983050 442.637443 173.717903 487.607140 176.452757 468.730274 179.187611 441.507794 181.922464 451.913878 184.657318 466.292937 187.392172 475.443162 190.127025 473.341828 192.861879 461.675351 195.596732 463.664982 198.331586 462.555548 201.066440 489.621221 203.801293 469.963787 206.536147 468.847857 209.271001 463.592812 212.005854 463.089131 214.740708 468.974693 217.475562 476.199281 220.210415 482.749478 222.945269 393.080278 225.680123 396.653822 228.414976 419.738329 231.149830 434.355119 233.884683 494.882004 236.619537 446.863202 239.354391 394.082831 242.089244 447.273912 244.824098 416.726568 247.558952 406.206001 250.293805 401.276262 253.028659 456.221753 255.763513 419.056676 258.498366 393.133166 261.233220 412.197142 263.968074 431.760521 266.702927 436.245163 269.437781 405.492573 272.172634 433.365808 274.907488 446.464041 277.642342 420.098620 280.377195 413.503459 283.112049 413.700808 285.846903 437.359228 288.581756 421.054331 291.316610 402.343308 294.051464 400.810551 296.786317 377.314398 299.521171 472.906025 302.256025 352.767804 304.990878 438.744440 307.725732 375.189671 310.460585 386.082194 313.195439 418.368896 315.930293 358.717786 318.665146 380.850242 321.400000 379.034854 324.134854 355.653347 326.869707 379.980465 329.604561 372.212106 332.339415 399.629963 335.074268 372.771464 337.809122 424.411392 340.543975 395.449365 343.278829 369.410823 346.013683 348.208770 348.748536 370.237923 351.483390 440.651649 354.218244 297.123749 356.953097 367.228895 359.687951 398.466347 362.422805 383.458252 365.157658 364.822364 367.892512 354.966744 370.627366 375.874488 373.362219 413.032834 376.097073 375.809010 378.831926 363.357353 381.566780 370.600498 384.301634 411.858108 387.036487 383.625002 389.771341 383.646101 392.506195 385.082903 395.241048 392.076686 397.975902 408.794723 400.710756 350.295062 403.445609 350.633235 406.180463 367.772953 408.915317 384.384026 411.650170 364.209827 414.385024 394.451808 417.119877 408.295400 419.854731 400.025899 422.589585 381.477628 425.324438 412.417090 428.059292 375.689830 430.794146 441.341290 433.528999 419.733708 436.263853 405.609790 438.998707 382.074576 441.733560 390.066391 444.468414 361.386925 447.203268 377.008845 449.938121 417.242315 452.672975 410.268665 455.407828 397.823056 458.142682 420.099020 460.877536 399.795383 463.612389 427.299518 466.347243 397.640703 469.082097 400.848916 471.816950 428.390040 474.551804 396.252507 477.286658 391.755349 480.021511 395.717403 482.756365 421.559612 485.491219 477.558585 488.226072 434.948613 490.960926 408.388819 493.695779 366.160337 496.430633 375.467453 499.165487 362.127795 501.900340 385.506824 504.635194 366.682995 507.370048 347.099194 510.104901 367.957300 512.839755 360.234654 515.574609 409.141754 518.309462 386.190016 521.044316 369.163430 523.779170 349.375441 526.514023 379.073157 529.248877 382.690401 531.983730 369.363999 534.718584 359.717290 537.453438 388.429552 540.188291 370.408010 542.923145 364.841078 545.657999 376.546463 548.392852 389.201075 551.127706 360.676287 553.862560 282.087518 556.597413 298.459989 559.332267 294.368362 562.067120 265.929933 564.801974 320.755620 567.536828 207.236899 570.271681 308.336496 573.006535 302.881144 575.741389 263.300464 578.476242 263.088938 581.211096 325.801659 583.945950 302.240491 586.680803 291.851271 589.415657 317.067577 592.150511 321.537451 594.885364 297.688558 597.620218 303.513230 600.355071 302.520993 603.089925 331.947913 605.824779 326.660814 608.559632 332.855987 611.294486 326.213663 614.029340 349.621787 616.764193 314.736029 619.499047 349.118047 622.233901 341.474387 624.968754 360.943099 627.703608 332.800354 630.438462 371.946506 630.438462 372.243474 627.703608 333.790195 624.968754 361.442465 622.233901 341.759232 619.499047 351.600664 616.764193 314.890897 614.029340 350.038227 611.294486 327.976989 608.559632 333.801348 605.824779 327.366212 603.089925 334.407310 600.355071 306.701670 597.620218 307.211476 594.885364 300.656065 592.150511 323.890925 589.415657 317.626034 586.680803 293.212752 583.945950 303.438801 581.211096 327.893276 578.476242 273.357228 575.741389 279.286185 573.006535 304.005472 570.271681 309.148195 567.536828 207.868442 564.801974 322.611069 562.067120 266.908330 559.332267 294.673031 556.597413 299.188170 553.862560 286.806231 551.127706 360.996583 548.392852 389.578057 545.657999 377.514856 542.923145 365.387528 540.188291 371.917217 537.453438 390.724163 534.718584 360.818732 531.983730 373.031434 529.248877 383.396578 526.514023 380.801339 523.779170 351.470250 521.044316 369.508260 518.309462 386.847149 515.574609 409.762185 512.839755 360.958887 510.104901 369.333856 507.370048 348.256969 504.635194 367.698598 501.900340 385.984163 499.165487 363.264555 496.430633 376.551580 493.695779 366.633437 490.960926 408.585393 488.226072 434.948613 485.491219 477.558585 482.756365 421.812747 480.021511 395.895041 477.286658 396.652833 474.551804 396.995197 471.816950 430.061415 469.082097 401.393511 466.347243 398.549632 463.612389 427.952805 460.877536 400.615785 458.142682 420.875817 455.407828 398.373019 452.672975 411.544382 449.938121 418.497148 447.203268 378.379080 444.468414 361.747506 441.733560 391.358040 438.998707 382.967209 436.263853 406.288162 433.528999 420.255040 430.794146 442.108732 428.059292 382.169082 425.324438 413.245238 422.589585 381.878073 419.854731 401.064968 417.119877 408.602154 414.385024 394.956165 411.650170 364.548231 408.915317 384.575454 406.180463 368.578924 403.445609 351.851712 400.710756 352.140986 397.975902 409.585799 395.241048 392.651827 392.506195 385.481494 389.771341 383.896727 387.036487 384.275029 384.301634 412.521274 381.566780 370.877464 378.831926 364.784054 376.097073 376.256446 373.362219 414.710862 370.627366 377.397543 367.892512 355.821849 365.157658 365.444808 362.422805 384.592888 359.687951 398.989102 356.953097 367.614022 354.218244 297.803685 351.483390 440.799011 348.748536 370.675624 346.013683 349.236087 343.278829 369.642914 340.543975 397.647282 337.809122 425.236262 335.074268 374.178107 332.339415 399.950765 329.604561 372.503744 326.869707 380.736838 324.134854 357.457095 321.400000 379.704167 318.665146 381.431411 315.930293 360.087405 313.195439 420.378864 310.460585 394.367469 307.725732 378.473318 304.990878 439.163047 302.256025 354.455484 299.521171 472.923031 296.786317 377.509528 294.051464 401.207323 291.316610 402.607192 288.581756 421.170187 285.846903 437.790540 283.112049 414.231088 280.377195 415.606070 277.642342 421.037943 274.907488 452.405500 272.172634 434.394850 269.437781 408.503367 266.702927 438.413430 263.968074 432.395026 261.233220 412.292018 258.498366 394.772407 255.763513 421.468425 253.028659 458.802706 250.293805 404.591555 247.558952 409.265195 244.824098 422.802696 242.089244 450.393578 239.354391 397.120723 236.619537 449.123305 233.884683 495.298734 231.149830 435.467912 228.414976 420.843867 225.680123 397.480594 222.945269 393.286075 220.210415 483.204163 217.475562 477.223863 214.740708 469.856661 212.005854 468.654891 209.271001 465.397676 206.536147 468.893474 203.801293 471.204831 201.066440 489.734647 198.331586 462.710748 195.596732 464.716224 192.861879 463.661880 190.127025 476.877575 187.392172 477.407268 184.657318 466.972180 181.922464 453.668344 179.187611 449.168980 176.452757 471.369582 173.717903 488.815581 170.983050 448.856452 168.248196 349.716121 165.513342 453.921403 162.778489 452.707748 160.043635 448.805586 157.308781 467.523615 154.573928 478.187715 151.839074 480.215403 149.104221 478.793614 146.369367 475.445499 143.634513 483.953949 140.899660 481.936693 138.164806 488.303439 135.429952 477.294884 132.695099 482.078164 129.960245 488.628673 127.225391 501.417625 124.490538 500.376798 121.755684 490.550804 119.020830 488.921913 116.285977 485.305104 113.551123 489.810708 110.816270 487.753182 108.081416 488.965796 105.346562 477.169112 102.611709 442.609461 99.876855 485.208225 97.142001 495.188920 94.407148 487.644548 91.672294 452.252895 88.937440 477.213702 86.202587 478.015392 83.467733 475.538807 80.732880 469.462002 77.998026 483.660432 75.263172 475.816788 72.528319 483.355644 69.793465 500.426399 67.058611 500.762245 64.323758 490.038688 61.588904 491.895688 58.854050 503.424964 56.119197 502.966429 53.384343 504.721155 50.649489 500.304220 47.914636 493.947480 45.179782 447.917556 42.444929 501.377176 39.710075 500.848264 36.975221 498.800289 34.240368 504.677555 31.505514 498.511432 28.770660 495.880091 26.035807 512.013394 23.300953 521.324140 20.566099 523.055136 17.831246 521.706039 15.096392 521.488318 12.361538 521.605198\"/></g><g class=\"series serie-32 color-32\"><path class=\"line reactive\" d=\"M12.361538 521.542935 L15.096392 521.410040 17.831246 521.697198 20.566099 522.838888 23.300953 521.239993 26.035807 511.030692 28.770660 494.618694 31.505514 497.840931 34.240368 503.769154 36.975221 498.123579 39.710075 499.633333 42.444929 500.467415 45.179782 446.605135 47.914636 488.176941 50.649489 497.681750 53.384343 500.043179 56.119197 496.750431 58.854050 502.088243 61.588904 489.272554 64.323758 489.527118 67.058611 500.119539 69.793465 499.651178 72.528319 479.556908 75.263172 473.401556 77.998026 482.672479 80.732880 468.067970 83.467733 473.869157 86.202587 473.630312 88.937440 473.477476 91.672294 451.794459 94.407148 487.314898 97.142001 494.871070 99.876855 484.434789 102.611709 441.300615 105.346562 473.858230 108.081416 488.314222 110.816270 484.467181 113.551123 487.700683 116.285977 483.900777 119.020830 486.892825 121.755684 489.410479 124.490538 499.463687 127.225391 500.376713 129.960245 487.987237 132.695099 480.766050 135.429952 473.954654 138.164806 484.762627 140.899660 477.008427 143.634513 482.156517 146.369367 473.229477 149.104221 477.296408 151.839074 477.232184 154.573928 468.936306 157.308781 459.770210 160.043635 444.583120 162.778489 451.380790 165.513342 450.282672 168.248196 345.558338 170.983050 436.699530 173.717903 487.147142 176.452757 467.529870 179.187611 439.098874 181.922464 449.950528 184.657318 464.938482 187.392172 471.726735 190.127025 472.173973 192.861879 460.725079 195.596732 462.921289 198.331586 461.452825 201.066440 488.197606 203.801293 467.011866 206.536147 466.247722 209.271001 462.535392 212.005854 461.583719 214.740708 467.761956 217.475562 474.578819 220.210415 481.647364 222.945269 391.376770 225.680123 392.984558 228.414976 416.686441 231.149830 431.105515 233.884683 493.083455 236.619537 444.332821 239.354391 384.738084 242.089244 443.665079 244.824098 413.703719 247.558952 403.155334 250.293805 393.621563 253.028659 451.022325 255.763513 413.691853 258.498366 389.406394 261.233220 409.793188 263.968074 427.824315 266.702927 431.751913 269.437781 395.919799 272.172634 426.775452 274.907488 444.375011 277.642342 417.940630 280.377195 408.726875 283.112049 408.433980 285.846903 432.739877 288.581756 417.884717 291.316610 398.120536 294.051464 395.914901 296.786317 372.881115 299.521171 468.753324 302.256025 330.480408 304.990878 427.468050 307.725732 366.437228 310.460585 380.528017 313.195439 409.264736 315.930293 347.843088 318.665146 364.016207 321.400000 368.084804 324.134854 349.512860 326.869707 373.516783 329.604561 364.279623 332.339415 381.775986 335.074268 351.907806 337.809122 412.169263 340.543975 389.546560 343.278829 363.310219 346.013683 341.506724 348.748536 363.742901 351.483390 436.007543 354.218244 291.829461 356.953097 363.014303 359.687951 392.366739 362.422805 377.677363 365.157658 358.556977 367.892512 342.880519 370.627366 362.831190 373.362219 409.057553 376.097073 370.791458 378.831926 359.685745 381.566780 366.737081 384.301634 406.997135 387.036487 379.589265 389.771341 379.689938 392.506195 381.889205 395.241048 387.396042 397.975902 403.457972 400.710756 338.277705 403.445609 336.534432 406.180463 364.492908 408.915317 380.291399 411.650170 359.381792 414.385024 389.313071 417.119877 400.525345 419.854731 395.828957 422.589585 379.036189 425.324438 410.908430 428.059292 372.890133 430.794146 434.698542 433.528999 409.755134 436.263853 400.066060 438.998707 373.342847 441.733560 386.376545 444.468414 357.685579 447.203268 372.080693 449.938121 411.890665 452.672975 407.676744 455.407828 396.643972 458.142682 417.796488 460.877536 396.898782 463.612389 419.933341 466.347243 390.313857 469.082097 391.253460 471.816950 424.675700 474.551804 394.591248 477.286658 390.839401 480.021511 394.699052 482.756365 418.976080 485.491219 475.768469 488.226072 434.083811 490.960926 406.406202 493.695779 360.192040 496.430633 369.627379 499.165487 349.652059 501.900340 379.711032 504.635194 359.142234 507.370048 342.963703 510.104901 363.909227 512.839755 353.790316 515.574609 404.683750 518.309462 381.117108 521.044316 365.725423 523.779170 343.358197 526.514023 375.129948 529.248877 373.935699 531.983730 357.739438 534.718584 350.265786 537.453438 383.653296 540.188291 366.858255 542.923145 362.618178 545.657999 373.305704 548.392852 381.528193 551.127706 349.711142 553.862560 276.474485 556.597413 292.981521 559.332267 291.128742 562.067120 258.287580 564.801974 301.902294 567.536828 202.434920 570.271681 304.227662 573.006535 299.331959 575.741389 257.314652 578.476242 255.201023 581.211096 317.794319 583.945950 296.377882 586.680803 286.579596 589.415657 313.245009 592.150511 316.002615 594.885364 287.607629 597.620218 292.288670 600.355071 287.512421 603.089925 325.818590 605.824779 322.143417 608.559632 327.278621 611.294486 322.884153 614.029340 340.251904 616.764193 311.456998 619.499047 344.067402 622.233901 334.463500 624.968754 352.982185 627.703608 323.774467 630.438462 358.350562 630.438462 371.946506 627.703608 332.800354 624.968754 360.943099 622.233901 341.474387 619.499047 349.118047 616.764193 314.736029 614.029340 349.621787 611.294486 326.213663 608.559632 332.855987 605.824779 326.660814 603.089925 331.947913 600.355071 302.520993 597.620218 303.513230 594.885364 297.688558 592.150511 321.537451 589.415657 317.067577 586.680803 291.851271 583.945950 302.240491 581.211096 325.801659 578.476242 263.088938 575.741389 263.300464 573.006535 302.881144 570.271681 308.336496 567.536828 207.236899 564.801974 320.755620 562.067120 265.929933 559.332267 294.368362 556.597413 298.459989 553.862560 282.087518 551.127706 360.676287 548.392852 389.201075 545.657999 376.546463 542.923145 364.841078 540.188291 370.408010 537.453438 388.429552 534.718584 359.717290 531.983730 369.363999 529.248877 382.690401 526.514023 379.073157 523.779170 349.375441 521.044316 369.163430 518.309462 386.190016 515.574609 409.141754 512.839755 360.234654 510.104901 367.957300 507.370048 347.099194 504.635194 366.682995 501.900340 385.506824 499.165487 362.127795 496.430633 375.467453 493.695779 366.160337 490.960926 408.388819 488.226072 434.948613 485.491219 477.558585 482.756365 421.559612 480.021511 395.717403 477.286658 391.755349 474.551804 396.252507 471.816950 428.390040 469.082097 400.848916 466.347243 397.640703 463.612389 427.299518 460.877536 399.795383 458.142682 420.099020 455.407828 397.823056 452.672975 410.268665 449.938121 417.242315 447.203268 377.008845 444.468414 361.386925 441.733560 390.066391 438.998707 382.074576 436.263853 405.609790 433.528999 419.733708 430.794146 441.341290 428.059292 375.689830 425.324438 412.417090 422.589585 381.477628 419.854731 400.025899 417.119877 408.295400 414.385024 394.451808 411.650170 364.209827 408.915317 384.384026 406.180463 367.772953 403.445609 350.633235 400.710756 350.295062 397.975902 408.794723 395.241048 392.076686 392.506195 385.082903 389.771341 383.646101 387.036487 383.625002 384.301634 411.858108 381.566780 370.600498 378.831926 363.357353 376.097073 375.809010 373.362219 413.032834 370.627366 375.874488 367.892512 354.966744 365.157658 364.822364 362.422805 383.458252 359.687951 398.466347 356.953097 367.228895 354.218244 297.123749 351.483390 440.651649 348.748536 370.237923 346.013683 348.208770 343.278829 369.410823 340.543975 395.449365 337.809122 424.411392 335.074268 372.771464 332.339415 399.629963 329.604561 372.212106 326.869707 379.980465 324.134854 355.653347 321.400000 379.034854 318.665146 380.850242 315.930293 358.717786 313.195439 418.368896 310.460585 386.082194 307.725732 375.189671 304.990878 438.744440 302.256025 352.767804 299.521171 472.906025 296.786317 377.314398 294.051464 400.810551 291.316610 402.343308 288.581756 421.054331 285.846903 437.359228 283.112049 413.700808 280.377195 413.503459 277.642342 420.098620 274.907488 446.464041 272.172634 433.365808 269.437781 405.492573 266.702927 436.245163 263.968074 431.760521 261.233220 412.197142 258.498366 393.133166 255.763513 419.056676 253.028659 456.221753 250.293805 401.276262 247.558952 406.206001 244.824098 416.726568 242.089244 447.273912 239.354391 394.082831 236.619537 446.863202 233.884683 494.882004 231.149830 434.355119 228.414976 419.738329 225.680123 396.653822 222.945269 393.080278 220.210415 482.749478 217.475562 476.199281 214.740708 468.974693 212.005854 463.089131 209.271001 463.592812 206.536147 468.847857 203.801293 469.963787 201.066440 489.621221 198.331586 462.555548 195.596732 463.664982 192.861879 461.675351 190.127025 473.341828 187.392172 475.443162 184.657318 466.292937 181.922464 451.913878 179.187611 441.507794 176.452757 468.730274 173.717903 487.607140 170.983050 442.637443 168.248196 349.405245 165.513342 453.166508 162.778489 452.140154 160.043635 446.554899 157.308781 461.793429 154.573928 472.424039 151.839074 480.013675 149.104221 478.454593 146.369367 474.545180 143.634513 483.893601 140.899660 479.872108 138.164806 487.361373 135.429952 476.758945 132.695099 481.663079 129.960245 488.523199 127.225391 500.847789 124.490538 499.814769 121.755684 490.286067 119.020830 488.349049 116.285977 484.608241 113.551123 488.133999 110.816270 485.820413 108.081416 488.780484 105.346562 475.528327 102.611709 442.439455 99.876855 485.030517 97.142001 495.112738 94.407148 487.415306 91.672294 451.886927 88.937440 474.598187 86.202587 474.045250 83.467733 474.301067 80.732880 468.817545 77.998026 483.400092 75.263172 474.909135 72.528319 481.760133 69.793465 499.708063 67.058611 500.189454 64.323758 489.631169 61.588904 489.971371 58.854050 502.124920 56.119197 496.777525 53.384343 500.212932 50.649489 498.218629 47.914636 488.341347 45.179782 447.245770 42.444929 501.223557 39.710075 500.271250 36.975221 498.688896 34.240368 504.238790 31.505514 498.160206 28.770660 495.419178 26.035807 511.262002 23.300953 521.324140 20.566099 523.055136 17.831246 521.706039 15.096392 521.476509 12.361538 521.605198\"/></g><g class=\"series serie-33 color-33\"><path class=\"line reactive\" d=\"M12.361538 521.542935 L15.096392 521.387922 17.831246 521.678844 20.566099 522.838888 23.300953 521.212056 26.035807 510.793967 28.770660 494.189152 31.505514 497.634265 34.240368 503.596059 36.975221 496.784795 39.710075 498.885624 42.444929 500.010795 45.179782 445.265502 47.914636 486.321164 50.649489 497.239624 53.384343 499.873935 56.119197 495.532729 58.854050 501.809426 61.588904 488.031542 64.323758 488.538216 67.058611 499.557525 69.793465 498.925314 72.528319 479.358200 75.263172 472.957608 77.998026 481.850209 80.732880 466.811340 83.467733 472.578583 86.202587 473.068827 88.937440 472.978657 91.672294 450.848839 94.407148 487.021660 97.142001 494.504552 99.876855 484.095712 102.611709 439.746472 105.346562 473.435368 108.081416 487.715545 110.816270 482.704281 113.551123 484.597653 116.285977 483.489478 119.020830 486.319751 121.755684 488.894679 124.490538 498.993882 127.225391 499.877642 129.960245 486.543150 132.695099 480.083127 135.429952 472.784702 138.164806 484.386170 140.899660 475.787437 143.634513 479.999367 146.369367 470.430757 149.104221 475.061272 151.839074 475.528307 154.573928 467.995218 157.308781 458.903476 160.043635 444.032912 162.778489 450.935490 165.513342 449.000044 168.248196 338.973519 170.983050 434.147853 173.717903 486.504963 176.452757 466.530071 179.187611 437.524489 181.922464 448.765090 184.657318 464.264238 187.392172 471.239149 190.127025 471.811077 192.861879 460.014405 195.596732 461.974298 198.331586 460.528309 201.066440 487.850508 203.801293 465.631470 206.536147 464.837276 209.271001 459.966037 212.005854 459.440408 214.740708 466.973679 217.475562 473.593879 220.210415 480.225675 222.945269 389.856695 225.680123 391.420435 228.414976 414.785670 231.149830 429.697431 233.884683 492.927982 236.619537 443.306795 239.354391 379.299196 242.089244 440.436241 244.824098 409.436100 247.558952 398.615847 250.293805 392.059944 253.028659 449.929756 255.763513 411.801534 258.498366 385.502969 261.233220 408.490069 263.968074 426.232166 266.702927 427.559591 269.437781 394.089251 272.172634 424.189411 274.907488 440.967729 277.642342 412.328929 280.377195 398.494387 283.112049 406.734737 285.846903 430.828533 288.581756 416.419286 291.316610 396.036291 294.051464 394.358016 296.786317 371.263569 299.521171 468.007249 302.256025 328.009165 304.990878 425.243964 307.725732 360.182550 310.460585 376.094004 313.195439 407.633209 315.930293 346.925862 318.665146 362.693451 321.400000 366.362475 324.134854 345.455339 326.869707 370.221865 329.604561 362.876405 332.339415 378.268195 335.074268 349.965330 337.809122 410.260461 340.543975 383.346558 343.278829 352.742700 346.013683 335.281871 348.748536 360.957601 351.483390 432.049564 354.218244 289.450849 356.953097 361.592635 359.687951 391.553965 362.422805 376.356682 365.157658 352.998657 367.892512 339.761791 370.627366 358.284321 373.362219 404.627819 376.097073 365.430308 378.831926 358.559859 381.566780 365.427971 384.301634 406.197456 387.036487 378.610115 389.771341 376.496128 392.506195 381.036254 395.241048 386.298465 397.975902 401.097001 400.710756 336.139651 403.445609 334.499130 406.180463 359.830595 408.915317 374.552292 411.650170 355.518754 414.385024 387.706394 417.119877 399.990174 419.854731 394.550600 422.589585 378.389687 425.324438 410.152847 428.059292 371.471634 430.794146 434.272419 433.528999 408.710583 436.263853 398.359879 438.998707 370.084731 441.733560 383.333209 444.468414 356.082738 447.203268 371.356150 449.938121 410.900900 452.672975 406.479069 455.407828 394.567580 458.142682 416.489148 460.877536 395.829503 463.612389 418.269852 466.347243 389.187862 469.082097 389.380833 471.816950 421.285810 474.551804 389.996548 477.286658 389.623814 480.021511 393.941906 482.756365 418.575491 485.491219 474.511736 488.226072 433.655836 490.960926 405.947169 493.695779 358.762494 496.430633 366.080371 499.165487 347.432755 501.900340 376.194874 504.635194 356.373462 507.370048 336.416484 510.104901 359.000646 512.839755 352.657398 515.574609 403.577299 518.309462 378.450902 521.044316 362.355752 523.779170 341.244151 526.514023 374.359275 529.248877 370.507842 531.983730 354.910915 534.718584 347.282174 537.453438 378.925423 540.188291 360.275581 542.923145 359.655463 545.657999 371.727368 548.392852 380.155448 551.127706 348.313518 553.862560 274.892097 556.597413 291.857252 559.332267 288.023161 562.067120 250.853830 564.801974 299.828922 567.536828 200.882042 570.271681 301.569433 573.006535 295.364520 575.741389 253.815262 578.476242 253.915087 581.211096 317.357461 583.945950 294.582689 586.680803 284.037799 589.415657 312.170977 592.150511 313.948911 594.885364 285.089157 597.620218 289.861745 600.355071 285.195944 603.089925 322.483443 605.824779 317.726872 608.559632 325.434443 611.294486 322.069840 614.029340 339.194315 616.764193 310.745982 619.499047 343.271276 622.233901 333.193568 624.968754 351.312770 627.703608 320.584093 630.438462 356.219818 630.438462 358.350562 627.703608 323.774467 624.968754 352.982185 622.233901 334.463500 619.499047 344.067402 616.764193 311.456998 614.029340 340.251904 611.294486 322.884153 608.559632 327.278621 605.824779 322.143417 603.089925 325.818590 600.355071 287.512421 597.620218 292.288670 594.885364 287.607629 592.150511 316.002615 589.415657 313.245009 586.680803 286.579596 583.945950 296.377882 581.211096 317.794319 578.476242 255.201023 575.741389 257.314652 573.006535 299.331959 570.271681 304.227662 567.536828 202.434920 564.801974 301.902294 562.067120 258.287580 559.332267 291.128742 556.597413 292.981521 553.862560 276.474485 551.127706 349.711142 548.392852 381.528193 545.657999 373.305704 542.923145 362.618178 540.188291 366.858255 537.453438 383.653296 534.718584 350.265786 531.983730 357.739438 529.248877 373.935699 526.514023 375.129948 523.779170 343.358197 521.044316 365.725423 518.309462 381.117108 515.574609 404.683750 512.839755 353.790316 510.104901 363.909227 507.370048 342.963703 504.635194 359.142234 501.900340 379.711032 499.165487 349.652059 496.430633 369.627379 493.695779 360.192040 490.960926 406.406202 488.226072 434.083811 485.491219 475.768469 482.756365 418.976080 480.021511 394.699052 477.286658 390.839401 474.551804 394.591248 471.816950 424.675700 469.082097 391.253460 466.347243 390.313857 463.612389 419.933341 460.877536 396.898782 458.142682 417.796488 455.407828 396.643972 452.672975 407.676744 449.938121 411.890665 447.203268 372.080693 444.468414 357.685579 441.733560 386.376545 438.998707 373.342847 436.263853 400.066060 433.528999 409.755134 430.794146 434.698542 428.059292 372.890133 425.324438 410.908430 422.589585 379.036189 419.854731 395.828957 417.119877 400.525345 414.385024 389.313071 411.650170 359.381792 408.915317 380.291399 406.180463 364.492908 403.445609 336.534432 400.710756 338.277705 397.975902 403.457972 395.241048 387.396042 392.506195 381.889205 389.771341 379.689938 387.036487 379.589265 384.301634 406.997135 381.566780 366.737081 378.831926 359.685745 376.097073 370.791458 373.362219 409.057553 370.627366 362.831190 367.892512 342.880519 365.157658 358.556977 362.422805 377.677363 359.687951 392.366739 356.953097 363.014303 354.218244 291.829461 351.483390 436.007543 348.748536 363.742901 346.013683 341.506724 343.278829 363.310219 340.543975 389.546560 337.809122 412.169263 335.074268 351.907806 332.339415 381.775986 329.604561 364.279623 326.869707 373.516783 324.134854 349.512860 321.400000 368.084804 318.665146 364.016207 315.930293 347.843088 313.195439 409.264736 310.460585 380.528017 307.725732 366.437228 304.990878 427.468050 302.256025 330.480408 299.521171 468.753324 296.786317 372.881115 294.051464 395.914901 291.316610 398.120536 288.581756 417.884717 285.846903 432.739877 283.112049 408.433980 280.377195 408.726875 277.642342 417.940630 274.907488 444.375011 272.172634 426.775452 269.437781 395.919799 266.702927 431.751913 263.968074 427.824315 261.233220 409.793188 258.498366 389.406394 255.763513 413.691853 253.028659 451.022325 250.293805 393.621563 247.558952 403.155334 244.824098 413.703719 242.089244 443.665079 239.354391 384.738084 236.619537 444.332821 233.884683 493.083455 231.149830 431.105515 228.414976 416.686441 225.680123 392.984558 222.945269 391.376770 220.210415 481.647364 217.475562 474.578819 214.740708 467.761956 212.005854 461.583719 209.271001 462.535392 206.536147 466.247722 203.801293 467.011866 201.066440 488.197606 198.331586 461.452825 195.596732 462.921289 192.861879 460.725079 190.127025 472.173973 187.392172 471.726735 184.657318 464.938482 181.922464 449.950528 179.187611 439.098874 176.452757 467.529870 173.717903 487.147142 170.983050 436.699530 168.248196 345.558338 165.513342 450.282672 162.778489 451.380790 160.043635 444.583120 157.308781 459.770210 154.573928 468.936306 151.839074 477.232184 149.104221 477.296408 146.369367 473.229477 143.634513 482.156517 140.899660 477.008427 138.164806 484.762627 135.429952 473.954654 132.695099 480.766050 129.960245 487.987237 127.225391 500.376713 124.490538 499.463687 121.755684 489.410479 119.020830 486.892825 116.285977 483.900777 113.551123 487.700683 110.816270 484.467181 108.081416 488.314222 105.346562 473.858230 102.611709 441.300615 99.876855 484.434789 97.142001 494.871070 94.407148 487.314898 91.672294 451.794459 88.937440 473.477476 86.202587 473.630312 83.467733 473.869157 80.732880 468.067970 77.998026 482.672479 75.263172 473.401556 72.528319 479.556908 69.793465 499.651178 67.058611 500.119539 64.323758 489.527118 61.588904 489.272554 58.854050 502.088243 56.119197 496.750431 53.384343 500.043179 50.649489 497.681750 47.914636 488.176941 45.179782 446.605135 42.444929 500.467415 39.710075 499.633333 36.975221 498.123579 34.240368 503.769154 31.505514 497.840931 28.770660 494.618694 26.035807 511.030692 23.300953 521.239993 20.566099 522.838888 17.831246 521.697198 15.096392 521.410040 12.361538 521.542935\"/></g><g class=\"series serie-34 color-34\"><path class=\"line reactive\" d=\"M12.361538 521.538392 L15.096392 521.387922 17.831246 521.678844 20.566099 522.838888 23.300953 521.212056 26.035807 509.951541 28.770660 494.116035 31.505514 497.542132 34.240368 503.584608 36.975221 496.696982 39.710075 498.718741 42.444929 499.921276 45.179782 442.348959 47.914636 486.176934 50.649489 497.074948 53.384343 499.778728 56.119197 494.780990 58.854050 498.156903 61.588904 487.377545 64.323758 488.511224 67.058611 499.508385 69.793465 498.817329 72.528319 478.113632 75.263172 471.456042 77.998026 481.509365 80.732880 466.167106 83.467733 471.138736 86.202587 471.304147 88.937440 470.355862 91.672294 440.843185 94.407148 485.364745 97.142001 494.344666 99.876855 483.738230 102.611709 439.213409 105.346562 472.659586 108.081416 487.253684 110.816270 482.575393 113.551123 484.576309 116.285977 483.078391 119.020830 483.784326 121.755684 487.865044 124.490538 497.277340 127.225391 497.861743 129.960245 486.502220 132.695099 479.718282 135.429952 472.579341 138.164806 484.017574 140.899660 475.709017 143.634513 479.820169 146.369367 470.337793 149.104221 475.051910 151.839074 475.493339 154.573928 464.395768 157.308781 451.771024 160.043635 436.942386 162.778489 450.824323 165.513342 448.979379 168.248196 338.700026 170.983050 433.919642 173.717903 486.434332 176.452757 466.393243 179.187611 437.462645 181.922464 448.723932 184.657318 457.159831 187.392172 466.815765 190.127025 466.863433 192.861879 455.442574 195.596732 461.895057 198.331586 460.395258 201.066440 487.608866 203.801293 465.037211 206.536147 463.799785 209.271001 459.710247 212.005854 458.909160 214.740708 465.375991 217.475562 470.266069 220.210415 475.499812 222.945269 371.655363 225.680123 387.178626 228.414976 414.118585 231.149830 429.369995 233.884683 492.732840 236.619537 442.568586 239.354391 378.355927 242.089244 440.344570 244.824098 408.835691 247.558952 397.226824 250.293805 388.346215 253.028659 445.373228 255.763513 403.087820 258.498366 377.290815 261.233220 407.910584 263.968074 425.776460 266.702927 427.349334 269.437781 393.394824 272.172634 423.272942 274.907488 440.759314 277.642342 410.890287 280.377195 393.921514 283.112049 395.278487 285.846903 420.309108 288.581756 404.182170 291.316610 387.514274 294.051464 393.644561 296.786317 370.979110 299.521171 467.442184 302.256025 327.348213 304.990878 424.958756 307.725732 359.746640 310.460585 375.500727 313.195439 406.938896 315.930293 341.914627 318.665146 353.928395 321.400000 356.231003 324.134854 336.737397 326.869707 369.459689 329.604561 362.287925 332.339415 378.228996 335.074268 348.508964 337.809122 409.084923 340.543975 382.954273 343.278829 351.961623 346.013683 333.506304 348.748536 351.991064 351.483390 423.725390 354.218244 258.765375 356.953097 353.923299 359.687951 390.731275 362.422805 376.000752 365.157658 352.573729 367.892512 338.080417 370.627366 356.564340 373.362219 403.443574 376.097073 364.920975 378.831926 353.417972 381.566780 357.064747 384.301634 397.917558 387.036487 370.679048 389.771341 362.103755 392.506195 379.248637 395.241048 385.566826 397.975902 400.475741 400.710756 334.577067 403.445609 333.047472 406.180463 358.429754 408.915317 373.833710 411.650170 353.358439 414.385024 377.298121 417.119877 388.703093 419.854731 388.107272 422.589585 367.152983 425.324438 409.043318 428.059292 371.266459 430.794146 434.145301 433.528999 408.346020 436.263853 397.467325 438.998707 369.031761 441.733560 382.978942 444.468414 353.536124 447.203268 364.381918 449.938121 400.751469 452.672975 395.294679 455.407828 386.155899 458.142682 415.500895 460.877536 395.361883 463.612389 418.179608 466.347243 388.461839 469.082097 387.960859 471.816950 420.900260 474.551804 389.435242 477.286658 385.663530 480.021511 387.195986 482.756365 408.507057 485.491219 473.555340 488.226072 430.805726 490.960926 405.138161 493.695779 358.140298 496.430633 365.284352 499.165487 346.545986 501.900340 375.196807 504.635194 354.568541 507.370048 335.300005 510.104901 356.882800 512.839755 346.674713 515.574609 396.114607 518.309462 374.623031 521.044316 354.767901 523.779170 339.775962 526.514023 373.938697 529.248877 369.730367 531.983730 353.724953 534.718584 346.038219 537.453438 377.932558 540.188291 358.858961 542.923145 358.657292 545.657999 366.325673 548.392852 374.599645 551.127706 344.466999 553.862560 265.795728 556.597413 290.038880 559.332267 287.467654 562.067120 250.126409 564.801974 299.130104 567.536828 195.047979 570.271681 299.869396 573.006535 293.944236 575.741389 251.092888 578.476242 244.662469 581.211096 303.777463 583.945950 278.749041 586.680803 268.786445 589.415657 310.657355 592.150511 312.798814 594.885364 283.737249 597.620218 288.353505 600.355071 283.734955 603.089925 321.153181 605.824779 316.557934 608.559632 321.138034 611.294486 319.197135 614.029340 335.658458 616.764193 298.686856 619.499047 335.567889 622.233901 332.170130 624.968754 350.297516 627.703608 319.732533 630.438462 356.073348 630.438462 356.219818 627.703608 320.584093 624.968754 351.312770 622.233901 333.193568 619.499047 343.271276 616.764193 310.745982 614.029340 339.194315 611.294486 322.069840 608.559632 325.434443 605.824779 317.726872 603.089925 322.483443 600.355071 285.195944 597.620218 289.861745 594.885364 285.089157 592.150511 313.948911 589.415657 312.170977 586.680803 284.037799 583.945950 294.582689 581.211096 317.357461 578.476242 253.915087 575.741389 253.815262 573.006535 295.364520 570.271681 301.569433 567.536828 200.882042 564.801974 299.828922 562.067120 250.853830 559.332267 288.023161 556.597413 291.857252 553.862560 274.892097 551.127706 348.313518 548.392852 380.155448 545.657999 371.727368 542.923145 359.655463 540.188291 360.275581 537.453438 378.925423 534.718584 347.282174 531.983730 354.910915 529.248877 370.507842 526.514023 374.359275 523.779170 341.244151 521.044316 362.355752 518.309462 378.450902 515.574609 403.577299 512.839755 352.657398 510.104901 359.000646 507.370048 336.416484 504.635194 356.373462 501.900340 376.194874 499.165487 347.432755 496.430633 366.080371 493.695779 358.762494 490.960926 405.947169 488.226072 433.655836 485.491219 474.511736 482.756365 418.575491 480.021511 393.941906 477.286658 389.623814 474.551804 389.996548 471.816950 421.285810 469.082097 389.380833 466.347243 389.187862 463.612389 418.269852 460.877536 395.829503 458.142682 416.489148 455.407828 394.567580 452.672975 406.479069 449.938121 410.900900 447.203268 371.356150 444.468414 356.082738 441.733560 383.333209 438.998707 370.084731 436.263853 398.359879 433.528999 408.710583 430.794146 434.272419 428.059292 371.471634 425.324438 410.152847 422.589585 378.389687 419.854731 394.550600 417.119877 399.990174 414.385024 387.706394 411.650170 355.518754 408.915317 374.552292 406.180463 359.830595 403.445609 334.499130 400.710756 336.139651 397.975902 401.097001 395.241048 386.298465 392.506195 381.036254 389.771341 376.496128 387.036487 378.610115 384.301634 406.197456 381.566780 365.427971 378.831926 358.559859 376.097073 365.430308 373.362219 404.627819 370.627366 358.284321 367.892512 339.761791 365.157658 352.998657 362.422805 376.356682 359.687951 391.553965 356.953097 361.592635 354.218244 289.450849 351.483390 432.049564 348.748536 360.957601 346.013683 335.281871 343.278829 352.742700 340.543975 383.346558 337.809122 410.260461 335.074268 349.965330 332.339415 378.268195 329.604561 362.876405 326.869707 370.221865 324.134854 345.455339 321.400000 366.362475 318.665146 362.693451 315.930293 346.925862 313.195439 407.633209 310.460585 376.094004 307.725732 360.182550 304.990878 425.243964 302.256025 328.009165 299.521171 468.007249 296.786317 371.263569 294.051464 394.358016 291.316610 396.036291 288.581756 416.419286 285.846903 430.828533 283.112049 406.734737 280.377195 398.494387 277.642342 412.328929 274.907488 440.967729 272.172634 424.189411 269.437781 394.089251 266.702927 427.559591 263.968074 426.232166 261.233220 408.490069 258.498366 385.502969 255.763513 411.801534 253.028659 449.929756 250.293805 392.059944 247.558952 398.615847 244.824098 409.436100 242.089244 440.436241 239.354391 379.299196 236.619537 443.306795 233.884683 492.927982 231.149830 429.697431 228.414976 414.785670 225.680123 391.420435 222.945269 389.856695 220.210415 480.225675 217.475562 473.593879 214.740708 466.973679 212.005854 459.440408 209.271001 459.966037 206.536147 464.837276 203.801293 465.631470 201.066440 487.850508 198.331586 460.528309 195.596732 461.974298 192.861879 460.014405 190.127025 471.811077 187.392172 471.239149 184.657318 464.264238 181.922464 448.765090 179.187611 437.524489 176.452757 466.530071 173.717903 486.504963 170.983050 434.147853 168.248196 338.973519 165.513342 449.000044 162.778489 450.935490 160.043635 444.032912 157.308781 458.903476 154.573928 467.995218 151.839074 475.528307 149.104221 475.061272 146.369367 470.430757 143.634513 479.999367 140.899660 475.787437 138.164806 484.386170 135.429952 472.784702 132.695099 480.083127 129.960245 486.543150 127.225391 499.877642 124.490538 498.993882 121.755684 488.894679 119.020830 486.319751 116.285977 483.489478 113.551123 484.597653 110.816270 482.704281 108.081416 487.715545 105.346562 473.435368 102.611709 439.746472 99.876855 484.095712 97.142001 494.504552 94.407148 487.021660 91.672294 450.848839 88.937440 472.978657 86.202587 473.068827 83.467733 472.578583 80.732880 466.811340 77.998026 481.850209 75.263172 472.957608 72.528319 479.358200 69.793465 498.925314 67.058611 499.557525 64.323758 488.538216 61.588904 488.031542 58.854050 501.809426 56.119197 495.532729 53.384343 499.873935 50.649489 497.239624 47.914636 486.321164 45.179782 445.265502 42.444929 500.010795 39.710075 498.885624 36.975221 496.784795 34.240368 503.596059 31.505514 497.634265 28.770660 494.189152 26.035807 510.793967 23.300953 521.212056 20.566099 522.838888 17.831246 521.678844 15.096392 521.387922 12.361538 521.542935\"/></g><g class=\"series serie-35 color-35\"><path class=\"line reactive\" d=\"M12.361538 521.538392 L15.096392 521.387922 17.831246 521.605529 20.566099 522.833442 23.300953 521.212056 26.035807 509.929165 28.770660 494.094976 31.505514 497.494262 34.240368 503.537196 36.975221 496.659634 39.710075 498.695574 42.444929 499.770680 45.179782 441.952506 47.914636 485.976266 50.649489 496.958013 53.384343 499.690047 56.119197 494.766555 58.854050 498.074477 61.588904 487.377545 64.323758 488.433986 67.058611 499.469536 69.793465 498.817329 72.528319 477.778630 75.263172 470.292096 77.998026 481.214636 80.732880 466.004686 83.467733 470.792225 86.202587 470.795278 88.937440 469.960793 91.672294 439.771077 94.407148 484.841849 97.142001 493.904592 99.876855 483.623638 102.611709 439.191596 105.346562 472.076715 108.081416 486.949915 110.816270 482.407441 113.551123 484.368968 116.285977 482.756717 119.020830 483.437723 121.755684 487.517026 124.490538 497.144590 127.225391 497.783595 129.960245 486.344553 132.695099 479.551292 135.429952 472.343529 138.164806 483.800927 140.899660 475.412298 143.634513 479.755650 146.369367 470.107102 149.104221 474.933497 151.839074 475.333700 154.573928 464.306879 157.308781 451.495561 160.043635 436.682956 162.778489 450.218103 165.513342 448.737920 168.248196 338.405646 170.983050 433.500497 173.717903 486.101260 176.452757 465.496445 179.187611 437.177309 181.922464 448.123194 184.657318 456.501969 187.392172 466.653922 190.127025 466.612609 192.861879 454.961920 195.596732 461.641265 198.331586 460.234958 201.066440 487.438249 203.801293 464.572232 206.536147 463.384985 209.271001 459.415527 212.005854 458.709086 214.740708 464.575010 217.475562 469.589782 220.210415 474.664742 222.945269 371.128857 225.680123 386.321145 228.414976 413.743183 231.149830 429.065942 233.884683 492.625348 236.619537 442.270413 239.354391 377.225640 242.089244 440.032928 244.824098 408.328456 247.558952 396.865056 250.293805 387.532688 253.028659 444.988129 255.763513 402.742083 258.498366 376.964897 261.233220 407.749579 263.968074 425.545856 266.702927 426.439895 269.437781 392.409138 272.172634 422.037495 274.907488 440.492944 277.642342 410.348691 280.377195 393.359755 283.112049 394.475488 285.846903 419.695311 288.581756 403.630296 291.316610 387.209467 294.051464 392.784165 296.786317 370.044783 299.521171 466.925180 302.256025 325.298292 304.990878 424.426516 307.725732 357.941021 310.460585 374.520158 313.195439 405.863654 315.930293 341.382878 318.665146 353.612809 321.400000 355.654086 324.134854 335.538358 326.869707 368.884532 329.604561 361.426376 332.339415 377.689066 335.074268 347.740198 337.809122 407.315587 340.543975 381.949856 343.278829 351.586287 346.013683 332.908241 348.748536 350.755475 351.483390 423.608410 354.218244 257.140307 356.953097 352.849872 359.687951 390.454797 362.422805 375.858821 365.157658 352.071914 367.892512 337.082039 370.627366 356.027537 373.362219 402.748822 376.097073 364.377799 378.831926 353.013159 381.566780 356.697988 384.301634 397.669825 387.036487 369.906304 389.771341 361.243649 392.506195 378.797413 395.241048 385.239695 397.975902 399.644087 400.710756 333.738934 403.445609 331.022287 406.180463 358.054822 408.915317 373.457096 411.650170 352.332439 414.385024 376.960542 417.119877 388.189564 419.854731 387.811363 422.589585 366.947970 425.324438 408.840041 428.059292 371.159374 430.794146 433.282410 433.528999 407.859407 436.263853 396.175065 438.998707 368.086125 441.733560 382.837544 444.468414 353.040252 447.203268 363.216168 449.938121 400.534078 452.672975 394.757976 455.407828 385.827711 458.142682 414.924849 460.877536 394.935429 463.612389 417.899284 466.347243 387.337823 469.082097 386.324273 471.816950 420.585461 474.551804 388.982025 477.286658 384.750833 480.021511 386.586915 482.756365 408.216615 485.491219 473.074238 488.226072 430.259605 490.960926 404.633228 493.695779 356.574419 496.430633 362.414897 499.165487 344.427112 501.900340 373.382838 504.635194 350.403668 507.370048 331.180108 510.104901 354.133349 512.839755 340.692218 515.574609 392.493109 518.309462 370.882191 521.044316 351.275284 523.779170 336.677436 526.514023 370.120479 529.248877 366.926914 531.983730 349.631908 534.718584 338.857007 537.453438 375.245460 540.188291 354.676112 542.923145 341.493453 545.657999 358.053892 548.392852 365.624749 551.127706 335.493392 553.862560 254.643173 556.597413 284.432059 559.332267 275.317107 562.067120 225.348422 564.801974 245.323112 567.536828 113.430713 570.271681 276.040397 573.006535 280.553685 575.741389 244.978465 578.476242 230.250046 581.211096 290.327816 583.945950 268.307509 586.680803 261.245479 589.415657 306.669367 592.150511 308.316755 594.885364 279.646481 597.620218 281.623232 600.355071 275.352021 603.089925 311.051182 605.824779 312.718137 608.559632 309.528432 611.294486 295.414583 614.029340 322.449118 616.764193 283.765299 619.499047 324.998158 622.233901 328.020047 624.968754 346.905581 627.703608 317.604138 630.438462 354.458578 630.438462 356.073348 627.703608 319.732533 624.968754 350.297516 622.233901 332.170130 619.499047 335.567889 616.764193 298.686856 614.029340 335.658458 611.294486 319.197135 608.559632 321.138034 605.824779 316.557934 603.089925 321.153181 600.355071 283.734955 597.620218 288.353505 594.885364 283.737249 592.150511 312.798814 589.415657 310.657355 586.680803 268.786445 583.945950 278.749041 581.211096 303.777463 578.476242 244.662469 575.741389 251.092888 573.006535 293.944236 570.271681 299.869396 567.536828 195.047979 564.801974 299.130104 562.067120 250.126409 559.332267 287.467654 556.597413 290.038880 553.862560 265.795728 551.127706 344.466999 548.392852 374.599645 545.657999 366.325673 542.923145 358.657292 540.188291 358.858961 537.453438 377.932558 534.718584 346.038219 531.983730 353.724953 529.248877 369.730367 526.514023 373.938697 523.779170 339.775962 521.044316 354.767901 518.309462 374.623031 515.574609 396.114607 512.839755 346.674713 510.104901 356.882800 507.370048 335.300005 504.635194 354.568541 501.900340 375.196807 499.165487 346.545986 496.430633 365.284352 493.695779 358.140298 490.960926 405.138161 488.226072 430.805726 485.491219 473.555340 482.756365 408.507057 480.021511 387.195986 477.286658 385.663530 474.551804 389.435242 471.816950 420.900260 469.082097 387.960859 466.347243 388.461839 463.612389 418.179608 460.877536 395.361883 458.142682 415.500895 455.407828 386.155899 452.672975 395.294679 449.938121 400.751469 447.203268 364.381918 444.468414 353.536124 441.733560 382.978942 438.998707 369.031761 436.263853 397.467325 433.528999 408.346020 430.794146 434.145301 428.059292 371.266459 425.324438 409.043318 422.589585 367.152983 419.854731 388.107272 417.119877 388.703093 414.385024 377.298121 411.650170 353.358439 408.915317 373.833710 406.180463 358.429754 403.445609 333.047472 400.710756 334.577067 397.975902 400.475741 395.241048 385.566826 392.506195 379.248637 389.771341 362.103755 387.036487 370.679048 384.301634 397.917558 381.566780 357.064747 378.831926 353.417972 376.097073 364.920975 373.362219 403.443574 370.627366 356.564340 367.892512 338.080417 365.157658 352.573729 362.422805 376.000752 359.687951 390.731275 356.953097 353.923299 354.218244 258.765375 351.483390 423.725390 348.748536 351.991064 346.013683 333.506304 343.278829 351.961623 340.543975 382.954273 337.809122 409.084923 335.074268 348.508964 332.339415 378.228996 329.604561 362.287925 326.869707 369.459689 324.134854 336.737397 321.400000 356.231003 318.665146 353.928395 315.930293 341.914627 313.195439 406.938896 310.460585 375.500727 307.725732 359.746640 304.990878 424.958756 302.256025 327.348213 299.521171 467.442184 296.786317 370.979110 294.051464 393.644561 291.316610 387.514274 288.581756 404.182170 285.846903 420.309108 283.112049 395.278487 280.377195 393.921514 277.642342 410.890287 274.907488 440.759314 272.172634 423.272942 269.437781 393.394824 266.702927 427.349334 263.968074 425.776460 261.233220 407.910584 258.498366 377.290815 255.763513 403.087820 253.028659 445.373228 250.293805 388.346215 247.558952 397.226824 244.824098 408.835691 242.089244 440.344570 239.354391 378.355927 236.619537 442.568586 233.884683 492.732840 231.149830 429.369995 228.414976 414.118585 225.680123 387.178626 222.945269 371.655363 220.210415 475.499812 217.475562 470.266069 214.740708 465.375991 212.005854 458.909160 209.271001 459.710247 206.536147 463.799785 203.801293 465.037211 201.066440 487.608866 198.331586 460.395258 195.596732 461.895057 192.861879 455.442574 190.127025 466.863433 187.392172 466.815765 184.657318 457.159831 181.922464 448.723932 179.187611 437.462645 176.452757 466.393243 173.717903 486.434332 170.983050 433.919642 168.248196 338.700026 165.513342 448.979379 162.778489 450.824323 160.043635 436.942386 157.308781 451.771024 154.573928 464.395768 151.839074 475.493339 149.104221 475.051910 146.369367 470.337793 143.634513 479.820169 140.899660 475.709017 138.164806 484.017574 135.429952 472.579341 132.695099 479.718282 129.960245 486.502220 127.225391 497.861743 124.490538 497.277340 121.755684 487.865044 119.020830 483.784326 116.285977 483.078391 113.551123 484.576309 110.816270 482.575393 108.081416 487.253684 105.346562 472.659586 102.611709 439.213409 99.876855 483.738230 97.142001 494.344666 94.407148 485.364745 91.672294 440.843185 88.937440 470.355862 86.202587 471.304147 83.467733 471.138736 80.732880 466.167106 77.998026 481.509365 75.263172 471.456042 72.528319 478.113632 69.793465 498.817329 67.058611 499.508385 64.323758 488.511224 61.588904 487.377545 58.854050 498.156903 56.119197 494.780990 53.384343 499.778728 50.649489 497.074948 47.914636 486.176934 45.179782 442.348959 42.444929 499.921276 39.710075 498.718741 36.975221 496.696982 34.240368 503.584608 31.505514 497.542132 28.770660 494.116035 26.035807 509.951541 23.300953 521.212056 20.566099 522.838888 17.831246 521.678844 15.096392 521.387922 12.361538 521.538392\"/></g><g class=\"series serie-36 color-36\"><path class=\"line reactive\" d=\"M12.361538 521.456179 L15.096392 521.337241 17.831246 521.312440 20.566099 522.684327 23.300953 521.106768 26.035807 509.489610 28.770660 493.552479 31.505514 497.324689 34.240368 503.517300 36.975221 496.477258 39.710075 497.640423 42.444929 499.709229 45.179782 441.451394 47.914636 485.172608 50.649489 496.720371 53.384343 499.568705 56.119197 494.596270 58.854050 497.808966 61.588904 487.158864 64.323758 488.022666 67.058611 498.885086 69.793465 498.594441 72.528319 475.999919 75.263172 469.097637 77.998026 479.593279 80.732880 464.522369 83.467733 470.008983 86.202587 469.648869 88.937440 469.298709 91.672294 437.987209 94.407148 483.760658 97.142001 490.738625 99.876855 481.222892 102.611709 436.765600 105.346562 470.329621 108.081416 486.089157 110.816270 479.912633 113.551123 483.402974 116.285977 481.477349 119.020830 481.505958 121.755684 485.523321 124.490538 496.350968 127.225391 497.114859 129.960245 484.577462 132.695099 476.283723 135.429952 470.731493 138.164806 482.937951 140.899660 473.972035 143.634513 478.551876 146.369367 468.333533 149.104221 472.672462 151.839074 472.181670 154.573928 461.973516 157.308781 448.912075 160.043635 434.963291 162.778489 447.957954 165.513342 446.992134 168.248196 335.112712 170.983050 431.705072 173.717903 485.337074 176.452757 463.929386 179.187611 434.605493 181.922464 445.922968 184.657318 455.269112 187.392172 463.593245 190.127025 464.000774 192.861879 452.278430 195.596732 458.692973 198.331586 458.841450 201.066440 486.646504 203.801293 463.152920 206.536147 462.078759 209.271001 458.161898 212.005854 457.830078 214.740708 461.969237 217.475562 468.684349 220.210415 473.683267 222.945269 369.439652 225.680123 381.538449 228.414976 408.802466 231.149830 424.654555 233.884683 490.980530 236.619537 437.886697 239.354391 371.762186 242.089244 437.563195 244.824098 405.632972 247.558952 393.820946 250.293805 381.975902 253.028659 443.821160 255.763513 399.745896 258.498366 373.513015 261.233220 405.919713 263.968074 423.152494 266.702927 424.252873 269.437781 389.791072 272.172634 420.798590 274.907488 439.450855 277.642342 407.709648 280.377195 390.785213 283.112049 393.304955 285.846903 417.923447 288.581756 400.035056 291.316610 383.758159 294.051464 390.507862 296.786317 367.635623 299.521171 465.120912 302.256025 319.646194 304.990878 422.556742 307.725732 353.596625 310.460585 368.381150 313.195439 403.879458 315.930293 336.239868 318.665146 348.441729 321.400000 351.910911 324.134854 329.538154 326.869707 367.170552 329.604561 357.004650 332.339415 374.545907 335.074268 345.968939 337.809122 405.468517 340.543975 378.902194 343.278829 345.563948 346.013683 326.967280 348.748536 345.027029 351.483390 422.677637 354.218244 254.570320 356.953097 349.692082 359.687951 388.120677 362.422805 371.701165 365.157658 343.880163 367.892512 326.747824 370.627366 353.885783 373.362219 398.381944 376.097073 355.572733 378.831926 344.523482 381.566780 347.886765 384.301634 394.319152 387.036487 368.353560 389.771341 356.197073 392.506195 375.198734 395.241048 379.437125 397.975902 397.272847 400.710756 329.839812 403.445609 328.152012 406.180463 356.624792 408.915317 372.535382 411.650170 350.194073 414.385024 374.734531 417.119877 387.026259 419.854731 386.570901 422.589585 364.204615 425.324438 407.565288 428.059292 367.168303 430.794146 431.020986 433.528999 402.636348 436.263853 394.880554 438.998707 365.054656 441.733560 381.684451 444.468414 349.866887 447.203268 360.519354 449.938121 399.217959 452.672975 392.432384 455.407828 383.752193 458.142682 412.940855 460.877536 393.499054 463.612389 416.780053 466.347243 384.027565 469.082097 385.259749 471.816950 418.436318 474.551804 386.735416 477.286658 383.285978 480.021511 384.202441 482.756365 406.150100 485.491219 472.515434 488.226072 429.138245 490.960926 402.941953 493.695779 349.685958 496.430633 352.118812 499.165487 332.606424 501.900340 365.569719 504.635194 333.344944 507.370048 317.419471 510.104901 342.067069 512.839755 330.241568 515.574609 381.810673 518.309462 364.654055 521.044316 341.440818 523.779170 329.109391 526.514023 341.628679 529.248877 330.284373 531.983730 326.920587 534.718584 332.764571 537.453438 358.874664 540.188291 338.183682 542.923145 332.099179 545.657999 344.414973 548.392852 353.828232 551.127706 325.680299 553.862560 245.685528 556.597413 277.968127 559.332267 266.266687 562.067120 218.839978 564.801974 240.251374 567.536828 107.585449 570.271681 264.885805 573.006535 275.038251 575.741389 237.467552 578.476242 220.938940 581.211096 285.387456 583.945950 263.424752 586.680803 252.884119 589.415657 302.457206 592.150511 304.677451 594.885364 274.199173 597.620218 276.293403 600.355071 272.851127 603.089925 305.094423 605.824779 305.691666 608.559632 306.165840 611.294486 290.200217 614.029340 319.216525 616.764193 280.319872 619.499047 316.391674 622.233901 322.755207 624.968754 341.631421 627.703608 312.390274 630.438462 350.108635 630.438462 354.458578 627.703608 317.604138 624.968754 346.905581 622.233901 328.020047 619.499047 324.998158 616.764193 283.765299 614.029340 322.449118 611.294486 295.414583 608.559632 309.528432 605.824779 312.718137 603.089925 311.051182 600.355071 275.352021 597.620218 281.623232 594.885364 279.646481 592.150511 308.316755 589.415657 306.669367 586.680803 261.245479 583.945950 268.307509 581.211096 290.327816 578.476242 230.250046 575.741389 244.978465 573.006535 280.553685 570.271681 276.040397 567.536828 113.430713 564.801974 245.323112 562.067120 225.348422 559.332267 275.317107 556.597413 284.432059 553.862560 254.643173 551.127706 335.493392 548.392852 365.624749 545.657999 358.053892 542.923145 341.493453 540.188291 354.676112 537.453438 375.245460 534.718584 338.857007 531.983730 349.631908 529.248877 366.926914 526.514023 370.120479 523.779170 336.677436 521.044316 351.275284 518.309462 370.882191 515.574609 392.493109 512.839755 340.692218 510.104901 354.133349 507.370048 331.180108 504.635194 350.403668 501.900340 373.382838 499.165487 344.427112 496.430633 362.414897 493.695779 356.574419 490.960926 404.633228 488.226072 430.259605 485.491219 473.074238 482.756365 408.216615 480.021511 386.586915 477.286658 384.750833 474.551804 388.982025 471.816950 420.585461 469.082097 386.324273 466.347243 387.337823 463.612389 417.899284 460.877536 394.935429 458.142682 414.924849 455.407828 385.827711 452.672975 394.757976 449.938121 400.534078 447.203268 363.216168 444.468414 353.040252 441.733560 382.837544 438.998707 368.086125 436.263853 396.175065 433.528999 407.859407 430.794146 433.282410 428.059292 371.159374 425.324438 408.840041 422.589585 366.947970 419.854731 387.811363 417.119877 388.189564 414.385024 376.960542 411.650170 352.332439 408.915317 373.457096 406.180463 358.054822 403.445609 331.022287 400.710756 333.738934 397.975902 399.644087 395.241048 385.239695 392.506195 378.797413 389.771341 361.243649 387.036487 369.906304 384.301634 397.669825 381.566780 356.697988 378.831926 353.013159 376.097073 364.377799 373.362219 402.748822 370.627366 356.027537 367.892512 337.082039 365.157658 352.071914 362.422805 375.858821 359.687951 390.454797 356.953097 352.849872 354.218244 257.140307 351.483390 423.608410 348.748536 350.755475 346.013683 332.908241 343.278829 351.586287 340.543975 381.949856 337.809122 407.315587 335.074268 347.740198 332.339415 377.689066 329.604561 361.426376 326.869707 368.884532 324.134854 335.538358 321.400000 355.654086 318.665146 353.612809 315.930293 341.382878 313.195439 405.863654 310.460585 374.520158 307.725732 357.941021 304.990878 424.426516 302.256025 325.298292 299.521171 466.925180 296.786317 370.044783 294.051464 392.784165 291.316610 387.209467 288.581756 403.630296 285.846903 419.695311 283.112049 394.475488 280.377195 393.359755 277.642342 410.348691 274.907488 440.492944 272.172634 422.037495 269.437781 392.409138 266.702927 426.439895 263.968074 425.545856 261.233220 407.749579 258.498366 376.964897 255.763513 402.742083 253.028659 444.988129 250.293805 387.532688 247.558952 396.865056 244.824098 408.328456 242.089244 440.032928 239.354391 377.225640 236.619537 442.270413 233.884683 492.625348 231.149830 429.065942 228.414976 413.743183 225.680123 386.321145 222.945269 371.128857 220.210415 474.664742 217.475562 469.589782 214.740708 464.575010 212.005854 458.709086 209.271001 459.415527 206.536147 463.384985 203.801293 464.572232 201.066440 487.438249 198.331586 460.234958 195.596732 461.641265 192.861879 454.961920 190.127025 466.612609 187.392172 466.653922 184.657318 456.501969 181.922464 448.123194 179.187611 437.177309 176.452757 465.496445 173.717903 486.101260 170.983050 433.500497 168.248196 338.405646 165.513342 448.737920 162.778489 450.218103 160.043635 436.682956 157.308781 451.495561 154.573928 464.306879 151.839074 475.333700 149.104221 474.933497 146.369367 470.107102 143.634513 479.755650 140.899660 475.412298 138.164806 483.800927 135.429952 472.343529 132.695099 479.551292 129.960245 486.344553 127.225391 497.783595 124.490538 497.144590 121.755684 487.517026 119.020830 483.437723 116.285977 482.756717 113.551123 484.368968 110.816270 482.407441 108.081416 486.949915 105.346562 472.076715 102.611709 439.191596 99.876855 483.623638 97.142001 493.904592 94.407148 484.841849 91.672294 439.771077 88.937440 469.960793 86.202587 470.795278 83.467733 470.792225 80.732880 466.004686 77.998026 481.214636 75.263172 470.292096 72.528319 477.778630 69.793465 498.817329 67.058611 499.469536 64.323758 488.433986 61.588904 487.377545 58.854050 498.074477 56.119197 494.766555 53.384343 499.690047 50.649489 496.958013 47.914636 485.976266 45.179782 441.952506 42.444929 499.770680 39.710075 498.695574 36.975221 496.659634 34.240368 503.537196 31.505514 497.494262 28.770660 494.094976 26.035807 509.929165 23.300953 521.212056 20.566099 522.833442 17.831246 521.605529 15.096392 521.387922 12.361538 521.538392\"/></g><g class=\"series serie-37 color-37\"><path class=\"line reactive\" d=\"M12.361538 521.456179 L15.096392 521.337241 17.831246 520.890620 20.566099 522.684327 23.300953 521.106768 26.035807 508.246912 28.770660 491.902703 31.505514 495.004340 34.240368 500.055296 36.975221 493.073600 39.710075 493.217426 42.444929 495.910805 45.179782 433.482001 47.914636 482.631655 50.649489 488.866229 53.384343 497.315423 56.119197 485.206644 58.854050 494.037216 61.588904 482.454008 64.323758 486.082944 67.058611 494.709013 69.793465 492.619138 72.528319 470.698522 75.263172 465.798719 77.998026 476.010622 80.732880 458.097652 83.467733 463.158362 86.202587 468.060403 88.937440 463.676654 91.672294 435.208742 94.407148 479.550155 97.142001 488.801877 99.876855 475.844063 102.611709 431.283516 105.346562 465.802423 108.081416 480.776476 110.816270 473.203289 113.551123 476.034565 116.285977 475.026618 119.020830 478.232421 121.755684 481.587606 124.490538 491.402963 127.225391 496.248733 129.960245 482.090994 132.695099 475.641375 135.429952 469.065937 138.164806 481.810591 140.899660 472.736259 143.634513 477.726523 146.369367 466.921824 149.104221 472.228469 151.839074 472.064461 154.573928 458.181823 157.308781 446.676054 160.043635 434.521559 162.778489 447.080694 165.513342 444.425029 168.248196 332.812943 170.983050 430.537211 173.717903 484.835206 176.452757 460.165501 179.187611 432.270778 181.922464 441.882205 184.657318 454.645354 187.392172 458.757472 190.127025 462.606353 192.861879 450.879269 195.596732 456.838374 198.331586 453.481058 201.066440 481.733662 203.801293 460.152260 206.536147 459.026325 209.271001 454.378725 212.005854 455.227060 214.740708 458.234910 217.475562 467.135050 220.210415 467.503327 222.945269 367.841681 225.680123 378.917418 228.414976 405.946415 231.149830 420.635825 233.884683 483.445638 236.619537 433.448404 239.354391 366.591692 242.089244 428.263926 244.824098 400.111845 247.558952 386.727020 250.293805 379.266646 253.028659 432.668193 255.763513 397.093089 258.498366 369.701079 261.233220 401.683436 263.968074 413.526658 266.702927 414.230447 269.437781 382.195428 272.172634 413.736667 274.907488 430.251834 277.642342 398.591586 280.377195 378.862605 283.112049 390.544505 285.846903 401.199924 288.581756 395.411832 291.316610 380.279235 294.051464 383.349465 296.786317 357.990390 299.521171 448.838311 302.256025 309.008283 304.990878 415.537958 307.725732 336.159226 310.460585 353.553790 313.195439 394.382565 315.930293 334.913582 318.665146 323.406789 321.400000 344.634067 324.134854 321.126762 326.869707 359.351080 329.604561 342.304260 332.339415 351.619270 335.074268 334.617219 337.809122 397.127272 340.543975 366.819085 343.278829 328.795193 346.013683 313.175803 348.748536 341.746766 351.483390 400.978042 354.218244 249.760826 356.953097 343.499919 359.687951 383.584789 362.422805 359.688215 365.157658 325.548667 367.892512 314.081970 370.627366 342.015673 373.362219 379.305272 376.097073 340.475163 378.831926 337.536772 381.566780 345.991110 384.301634 365.255079 387.036487 361.231427 389.771341 348.826099 392.506195 369.398524 395.241048 364.925328 397.975902 378.296380 400.710756 321.566452 403.445609 313.252178 406.180463 334.328159 408.915317 359.583028 411.650170 340.985571 414.385024 371.463597 417.119877 360.423476 419.854731 381.246439 422.589585 355.696661 425.324438 404.016582 428.059292 356.659711 430.794146 412.836863 433.528999 395.601275 436.263853 389.538353 438.998707 352.620381 441.733560 368.349764 444.468414 342.484691 447.203268 359.749564 449.938121 378.592056 452.672975 388.524775 455.407828 375.532185 458.142682 409.902036 460.877536 387.088386 463.612389 402.224407 466.347243 373.818299 469.082097 375.608932 471.816950 403.689374 474.551804 379.764153 477.286658 377.481727 480.021511 383.196002 482.756365 392.760094 485.491219 471.853336 488.226072 424.676845 490.960926 400.954241 493.695779 346.968558 496.430633 348.176124 499.165487 329.180701 501.900340 360.643833 504.635194 328.645776 507.370048 311.863528 510.104901 340.572576 512.839755 329.112244 515.574609 372.616427 518.309462 360.442095 521.044316 340.318905 523.779170 327.089253 526.514023 337.905791 529.248877 326.419946 531.983730 322.765031 534.718584 330.409293 537.453438 351.402502 540.188291 334.113842 542.923145 328.948437 545.657999 343.337397 548.392852 340.657357 551.127706 324.193910 553.862560 243.427397 556.597413 273.886257 559.332267 263.978193 562.067120 213.790633 564.801974 231.378950 567.536828 100.727590 570.271681 258.518092 573.006535 268.830166 575.741389 233.793274 578.476242 217.874064 581.211096 267.375781 583.945950 258.635968 586.680803 249.152909 589.415657 296.931909 592.150511 298.664647 594.885364 263.255519 597.620218 256.582355 600.355071 266.194197 603.089925 295.026014 605.824779 300.293716 608.559632 305.418715 611.294486 289.051658 614.029340 309.407027 616.764193 279.514002 619.499047 315.488261 622.233901 322.515771 624.968754 340.159227 627.703608 310.242774 630.438462 348.695053 630.438462 350.108635 627.703608 312.390274 624.968754 341.631421 622.233901 322.755207 619.499047 316.391674 616.764193 280.319872 614.029340 319.216525 611.294486 290.200217 608.559632 306.165840 605.824779 305.691666 603.089925 305.094423 600.355071 272.851127 597.620218 276.293403 594.885364 274.199173 592.150511 304.677451 589.415657 302.457206 586.680803 252.884119 583.945950 263.424752 581.211096 285.387456 578.476242 220.938940 575.741389 237.467552 573.006535 275.038251 570.271681 264.885805 567.536828 107.585449 564.801974 240.251374 562.067120 218.839978 559.332267 266.266687 556.597413 277.968127 553.862560 245.685528 551.127706 325.680299 548.392852 353.828232 545.657999 344.414973 542.923145 332.099179 540.188291 338.183682 537.453438 358.874664 534.718584 332.764571 531.983730 326.920587 529.248877 330.284373 526.514023 341.628679 523.779170 329.109391 521.044316 341.440818 518.309462 364.654055 515.574609 381.810673 512.839755 330.241568 510.104901 342.067069 507.370048 317.419471 504.635194 333.344944 501.900340 365.569719 499.165487 332.606424 496.430633 352.118812 493.695779 349.685958 490.960926 402.941953 488.226072 429.138245 485.491219 472.515434 482.756365 406.150100 480.021511 384.202441 477.286658 383.285978 474.551804 386.735416 471.816950 418.436318 469.082097 385.259749 466.347243 384.027565 463.612389 416.780053 460.877536 393.499054 458.142682 412.940855 455.407828 383.752193 452.672975 392.432384 449.938121 399.217959 447.203268 360.519354 444.468414 349.866887 441.733560 381.684451 438.998707 365.054656 436.263853 394.880554 433.528999 402.636348 430.794146 431.020986 428.059292 367.168303 425.324438 407.565288 422.589585 364.204615 419.854731 386.570901 417.119877 387.026259 414.385024 374.734531 411.650170 350.194073 408.915317 372.535382 406.180463 356.624792 403.445609 328.152012 400.710756 329.839812 397.975902 397.272847 395.241048 379.437125 392.506195 375.198734 389.771341 356.197073 387.036487 368.353560 384.301634 394.319152 381.566780 347.886765 378.831926 344.523482 376.097073 355.572733 373.362219 398.381944 370.627366 353.885783 367.892512 326.747824 365.157658 343.880163 362.422805 371.701165 359.687951 388.120677 356.953097 349.692082 354.218244 254.570320 351.483390 422.677637 348.748536 345.027029 346.013683 326.967280 343.278829 345.563948 340.543975 378.902194 337.809122 405.468517 335.074268 345.968939 332.339415 374.545907 329.604561 357.004650 326.869707 367.170552 324.134854 329.538154 321.400000 351.910911 318.665146 348.441729 315.930293 336.239868 313.195439 403.879458 310.460585 368.381150 307.725732 353.596625 304.990878 422.556742 302.256025 319.646194 299.521171 465.120912 296.786317 367.635623 294.051464 390.507862 291.316610 383.758159 288.581756 400.035056 285.846903 417.923447 283.112049 393.304955 280.377195 390.785213 277.642342 407.709648 274.907488 439.450855 272.172634 420.798590 269.437781 389.791072 266.702927 424.252873 263.968074 423.152494 261.233220 405.919713 258.498366 373.513015 255.763513 399.745896 253.028659 443.821160 250.293805 381.975902 247.558952 393.820946 244.824098 405.632972 242.089244 437.563195 239.354391 371.762186 236.619537 437.886697 233.884683 490.980530 231.149830 424.654555 228.414976 408.802466 225.680123 381.538449 222.945269 369.439652 220.210415 473.683267 217.475562 468.684349 214.740708 461.969237 212.005854 457.830078 209.271001 458.161898 206.536147 462.078759 203.801293 463.152920 201.066440 486.646504 198.331586 458.841450 195.596732 458.692973 192.861879 452.278430 190.127025 464.000774 187.392172 463.593245 184.657318 455.269112 181.922464 445.922968 179.187611 434.605493 176.452757 463.929386 173.717903 485.337074 170.983050 431.705072 168.248196 335.112712 165.513342 446.992134 162.778489 447.957954 160.043635 434.963291 157.308781 448.912075 154.573928 461.973516 151.839074 472.181670 149.104221 472.672462 146.369367 468.333533 143.634513 478.551876 140.899660 473.972035 138.164806 482.937951 135.429952 470.731493 132.695099 476.283723 129.960245 484.577462 127.225391 497.114859 124.490538 496.350968 121.755684 485.523321 119.020830 481.505958 116.285977 481.477349 113.551123 483.402974 110.816270 479.912633 108.081416 486.089157 105.346562 470.329621 102.611709 436.765600 99.876855 481.222892 97.142001 490.738625 94.407148 483.760658 91.672294 437.987209 88.937440 469.298709 86.202587 469.648869 83.467733 470.008983 80.732880 464.522369 77.998026 479.593279 75.263172 469.097637 72.528319 475.999919 69.793465 498.594441 67.058611 498.885086 64.323758 488.022666 61.588904 487.158864 58.854050 497.808966 56.119197 494.596270 53.384343 499.568705 50.649489 496.720371 47.914636 485.172608 45.179782 441.451394 42.444929 499.709229 39.710075 497.640423 36.975221 496.477258 34.240368 503.517300 31.505514 497.324689 28.770660 493.552479 26.035807 509.489610 23.300953 521.106768 20.566099 522.684327 17.831246 521.312440 15.096392 521.337241 12.361538 521.456179\"/></g><g class=\"series serie-38 color-38\"><path class=\"line reactive\" d=\"M12.361538 521.456179 L15.096392 521.337241 17.831246 520.890620 20.566099 522.684327 23.300953 521.106768 26.035807 507.980956 28.770660 488.699147 31.505514 492.771584 34.240368 497.677377 36.975221 492.663234 39.710075 491.978951 42.444929 491.839420 45.179782 430.552394 47.914636 480.984837 50.649489 486.639958 53.384343 496.610369 56.119197 484.623519 58.854050 492.329596 61.588904 480.833767 64.323758 484.345213 67.058611 492.881529 69.793465 492.168011 72.528319 469.349831 75.263172 463.977473 77.998026 473.916335 80.732880 456.842957 83.467733 461.244863 86.202587 466.755060 88.937440 463.314127 91.672294 434.883073 94.407148 479.193754 97.142001 488.418688 99.876855 475.329170 102.611709 430.691265 105.346562 464.434341 108.081416 479.170732 110.816270 471.334929 113.551123 473.687657 116.285977 473.069236 119.020830 476.752697 121.755684 480.612740 124.490538 490.667702 127.225391 495.320446 129.960245 480.833623 132.695099 474.029137 135.429952 467.333755 138.164806 480.936630 140.899660 471.221056 143.634513 476.876964 146.369367 465.349049 149.104221 469.653781 151.839074 470.090110 154.573928 456.766473 157.308781 444.129023 160.043635 431.257538 162.778489 445.058384 165.513342 439.635461 168.248196 325.821404 170.983050 428.402782 173.717903 482.509870 176.452757 457.753002 179.187611 430.852701 181.922464 438.894518 184.657318 451.171367 187.392172 457.580581 190.127025 460.358523 192.861879 448.114283 195.596732 454.571199 198.331586 451.412628 201.066440 480.411012 203.801293 459.036009 206.536147 457.030948 209.271001 452.393155 212.005854 453.926479 214.740708 456.362511 217.475562 464.104473 220.210415 467.057142 222.945269 365.581911 225.680123 373.919477 228.414976 401.577006 231.149830 417.981624 233.884683 482.577936 236.619537 431.022348 239.354391 359.711385 242.089244 423.805487 244.824098 395.840141 247.558952 380.570517 250.293805 371.115822 253.028659 429.232326 255.763513 390.761093 258.498366 361.436497 261.233220 395.306430 263.968074 409.064903 266.702927 409.882346 269.437781 376.169524 272.172634 404.365765 274.907488 426.640376 277.642342 391.766170 280.377195 372.206525 283.112049 382.865408 285.846903 397.090875 288.581756 388.407390 291.316610 371.714310 294.051464 375.383115 296.786317 350.904417 299.521171 446.886465 302.256025 298.994182 304.990878 404.859454 307.725732 326.590461 310.460585 344.801314 313.195439 385.110700 315.930293 319.539610 318.665146 317.440954 321.400000 337.306903 324.134854 312.186988 326.869707 348.903984 329.604561 325.769502 332.339415 344.290938 335.074268 326.214747 337.809122 387.819409 340.543975 358.747978 343.278829 317.720897 346.013683 304.151194 348.748536 329.988753 351.483390 397.586892 354.218244 245.474492 356.953097 330.008364 359.687951 369.180549 362.422805 348.320989 365.157658 320.998079 367.892512 299.442542 370.627366 325.276130 373.362219 371.966852 376.097073 333.438842 378.831926 326.477109 381.566780 335.390216 384.301634 359.903066 387.036487 347.830714 389.771341 334.172010 392.506195 354.140238 395.241048 351.449253 397.975902 374.926107 400.710756 313.736272 403.445609 295.436782 406.180463 324.362013 408.915317 353.135579 411.650170 330.528187 414.385024 359.401052 417.119877 353.150838 419.854731 369.783929 422.589585 341.957751 425.324438 391.169183 428.059292 350.355827 430.794146 409.736068 433.528999 390.824616 436.263853 376.142818 438.998707 346.851862 441.733560 361.251315 444.468414 334.526675 447.203268 351.990895 449.938121 371.067232 452.672975 381.656190 455.407828 365.936828 458.142682 399.425970 460.877536 379.580819 463.612389 395.997968 466.347243 366.946635 469.082097 359.378504 471.816950 397.554482 474.551804 374.402829 477.286658 371.277413 480.021511 375.544735 482.756365 388.631843 485.491219 466.621832 488.226072 417.528569 490.960926 391.393754 493.695779 337.976723 496.430633 341.057829 499.165487 317.832798 501.900340 348.050249 504.635194 320.288723 507.370048 301.211728 510.104901 333.559430 512.839755 321.751634 515.574609 367.599199 518.309462 352.013922 521.044316 330.294985 523.779170 318.645981 526.514023 331.346481 529.248877 320.664611 531.983730 316.187865 534.718584 319.028359 537.453438 341.927102 540.188291 325.421387 542.923145 319.424132 545.657999 332.256188 548.392852 336.288578 551.127706 313.013678 553.862560 229.992768 556.597413 257.655607 559.332267 252.832280 562.067120 209.358418 564.801974 223.425952 567.536828 91.149558 570.271681 248.533310 573.006535 261.464698 575.741389 222.530095 578.476242 207.754796 581.211096 262.801787 583.945950 245.052383 586.680803 231.958290 589.415657 279.325730 592.150511 288.320246 594.885364 252.392862 597.620218 247.546614 600.355071 249.726275 603.089925 279.553634 605.824779 286.351066 608.559632 297.790868 611.294486 280.831655 614.029340 302.621470 616.764193 274.788284 619.499047 305.300264 622.233901 310.313036 624.968754 320.032479 627.703608 301.646635 630.438462 341.722867 630.438462 348.695053 627.703608 310.242774 624.968754 340.159227 622.233901 322.515771 619.499047 315.488261 616.764193 279.514002 614.029340 309.407027 611.294486 289.051658 608.559632 305.418715 605.824779 300.293716 603.089925 295.026014 600.355071 266.194197 597.620218 256.582355 594.885364 263.255519 592.150511 298.664647 589.415657 296.931909 586.680803 249.152909 583.945950 258.635968 581.211096 267.375781 578.476242 217.874064 575.741389 233.793274 573.006535 268.830166 570.271681 258.518092 567.536828 100.727590 564.801974 231.378950 562.067120 213.790633 559.332267 263.978193 556.597413 273.886257 553.862560 243.427397 551.127706 324.193910 548.392852 340.657357 545.657999 343.337397 542.923145 328.948437 540.188291 334.113842 537.453438 351.402502 534.718584 330.409293 531.983730 322.765031 529.248877 326.419946 526.514023 337.905791 523.779170 327.089253 521.044316 340.318905 518.309462 360.442095 515.574609 372.616427 512.839755 329.112244 510.104901 340.572576 507.370048 311.863528 504.635194 328.645776 501.900340 360.643833 499.165487 329.180701 496.430633 348.176124 493.695779 346.968558 490.960926 400.954241 488.226072 424.676845 485.491219 471.853336 482.756365 392.760094 480.021511 383.196002 477.286658 377.481727 474.551804 379.764153 471.816950 403.689374 469.082097 375.608932 466.347243 373.818299 463.612389 402.224407 460.877536 387.088386 458.142682 409.902036 455.407828 375.532185 452.672975 388.524775 449.938121 378.592056 447.203268 359.749564 444.468414 342.484691 441.733560 368.349764 438.998707 352.620381 436.263853 389.538353 433.528999 395.601275 430.794146 412.836863 428.059292 356.659711 425.324438 404.016582 422.589585 355.696661 419.854731 381.246439 417.119877 360.423476 414.385024 371.463597 411.650170 340.985571 408.915317 359.583028 406.180463 334.328159 403.445609 313.252178 400.710756 321.566452 397.975902 378.296380 395.241048 364.925328 392.506195 369.398524 389.771341 348.826099 387.036487 361.231427 384.301634 365.255079 381.566780 345.991110 378.831926 337.536772 376.097073 340.475163 373.362219 379.305272 370.627366 342.015673 367.892512 314.081970 365.157658 325.548667 362.422805 359.688215 359.687951 383.584789 356.953097 343.499919 354.218244 249.760826 351.483390 400.978042 348.748536 341.746766 346.013683 313.175803 343.278829 328.795193 340.543975 366.819085 337.809122 397.127272 335.074268 334.617219 332.339415 351.619270 329.604561 342.304260 326.869707 359.351080 324.134854 321.126762 321.400000 344.634067 318.665146 323.406789 315.930293 334.913582 313.195439 394.382565 310.460585 353.553790 307.725732 336.159226 304.990878 415.537958 302.256025 309.008283 299.521171 448.838311 296.786317 357.990390 294.051464 383.349465 291.316610 380.279235 288.581756 395.411832 285.846903 401.199924 283.112049 390.544505 280.377195 378.862605 277.642342 398.591586 274.907488 430.251834 272.172634 413.736667 269.437781 382.195428 266.702927 414.230447 263.968074 413.526658 261.233220 401.683436 258.498366 369.701079 255.763513 397.093089 253.028659 432.668193 250.293805 379.266646 247.558952 386.727020 244.824098 400.111845 242.089244 428.263926 239.354391 366.591692 236.619537 433.448404 233.884683 483.445638 231.149830 420.635825 228.414976 405.946415 225.680123 378.917418 222.945269 367.841681 220.210415 467.503327 217.475562 467.135050 214.740708 458.234910 212.005854 455.227060 209.271001 454.378725 206.536147 459.026325 203.801293 460.152260 201.066440 481.733662 198.331586 453.481058 195.596732 456.838374 192.861879 450.879269 190.127025 462.606353 187.392172 458.757472 184.657318 454.645354 181.922464 441.882205 179.187611 432.270778 176.452757 460.165501 173.717903 484.835206 170.983050 430.537211 168.248196 332.812943 165.513342 444.425029 162.778489 447.080694 160.043635 434.521559 157.308781 446.676054 154.573928 458.181823 151.839074 472.064461 149.104221 472.228469 146.369367 466.921824 143.634513 477.726523 140.899660 472.736259 138.164806 481.810591 135.429952 469.065937 132.695099 475.641375 129.960245 482.090994 127.225391 496.248733 124.490538 491.402963 121.755684 481.587606 119.020830 478.232421 116.285977 475.026618 113.551123 476.034565 110.816270 473.203289 108.081416 480.776476 105.346562 465.802423 102.611709 431.283516 99.876855 475.844063 97.142001 488.801877 94.407148 479.550155 91.672294 435.208742 88.937440 463.676654 86.202587 468.060403 83.467733 463.158362 80.732880 458.097652 77.998026 476.010622 75.263172 465.798719 72.528319 470.698522 69.793465 492.619138 67.058611 494.709013 64.323758 486.082944 61.588904 482.454008 58.854050 494.037216 56.119197 485.206644 53.384343 497.315423 50.649489 488.866229 47.914636 482.631655 45.179782 433.482001 42.444929 495.910805 39.710075 493.217426 36.975221 493.073600 34.240368 500.055296 31.505514 495.004340 28.770660 491.902703 26.035807 508.246912 23.300953 521.106768 20.566099 522.684327 17.831246 520.890620 15.096392 521.337241 12.361538 521.456179\"/></g><g class=\"series serie-39 color-39\"><path class=\"line reactive\" d=\"M12.361538 521.424412 L15.096392 521.269028 17.831246 520.797934 20.566099 522.684327 23.300953 521.075413 26.035807 507.143651 28.770660 487.983871 31.505514 491.650992 34.240368 496.161009 36.975221 489.987192 39.710075 490.152331 42.444929 490.971020 45.179782 426.317418 47.914636 478.792440 50.649489 484.692527 53.384343 495.481703 56.119197 481.973763 58.854050 490.139170 61.588904 479.788361 64.323758 481.670470 67.058611 491.037872 69.793465 490.193298 72.528319 467.696276 75.263172 462.101557 77.998026 472.645727 80.732880 452.863847 83.467733 458.256748 86.202587 464.484429 88.937440 460.035782 91.672294 431.161149 94.407148 477.978062 97.142001 486.571238 99.876855 469.696595 102.611709 404.482651 105.346562 461.878725 108.081416 474.738427 110.816270 465.497508 113.551123 470.698302 116.285977 471.759138 119.020830 473.995122 121.755684 478.731131 124.490538 488.886159 127.225391 494.326587 129.960245 478.412377 132.695099 472.378211 135.429952 465.288511 138.164806 479.572583 140.899660 468.532892 143.634513 472.477481 146.369367 462.510184 149.104221 466.871756 151.839074 467.834555 154.573928 453.795956 157.308781 441.050892 160.043635 429.387642 162.778489 442.343307 165.513342 435.595824 168.248196 302.513837 170.983050 421.817096 173.717903 480.211788 176.452757 455.113712 179.187611 427.546374 181.922464 435.118979 184.657318 449.201979 187.392172 456.151882 190.127025 457.147822 192.861879 446.065239 195.596732 451.290558 198.331586 447.878468 201.066440 478.565043 203.801293 456.013824 206.536147 453.872669 209.271001 444.844115 212.005854 450.561297 214.740708 453.304013 217.475562 461.467423 220.210415 465.552784 222.945269 360.497796 225.680123 369.912698 228.414976 397.491122 231.149830 412.073298 233.884683 482.178250 236.619537 428.128671 239.354391 350.159766 242.089244 417.790001 244.824098 388.064817 247.558952 373.913542 250.293805 366.489651 253.028659 425.304944 255.763513 383.837764 258.498366 353.490906 261.233220 389.590342 263.968074 404.354892 266.702927 402.758201 269.437781 369.448568 272.172634 397.441233 274.907488 415.655283 277.642342 383.177751 280.377195 359.774225 283.112049 376.033879 285.846903 390.076318 288.581756 381.613750 291.316610 362.602561 294.051464 368.732120 296.786317 341.013266 299.521171 444.996682 302.256025 291.580790 304.990878 400.853866 307.725732 313.701430 310.460585 333.080028 313.195439 380.275979 315.930293 314.324861 318.665146 310.681218 321.400000 330.526097 324.134854 300.562992 326.869707 337.562443 329.604561 317.621342 332.339415 335.197483 335.074268 319.655618 337.809122 381.465082 340.543975 343.852792 343.278829 301.837558 346.013683 288.439489 348.748536 322.815351 351.483390 393.145895 354.218244 232.598952 356.953097 322.684501 359.687951 364.436546 362.422805 331.226862 365.157658 285.972553 367.892512 280.261197 370.627366 309.693080 373.362219 356.284407 376.097073 321.497751 378.831926 312.916892 381.566780 328.601250 384.301634 352.418383 387.036487 336.122127 389.771341 322.977585 392.506195 346.818907 395.241048 340.871585 397.975902 367.128224 400.710756 302.114154 403.445609 282.771273 406.180463 306.991393 408.915317 338.879859 411.650170 317.570148 414.385024 351.430255 417.119877 347.428309 419.854731 360.968717 422.589585 336.520220 425.324438 384.393888 428.059292 333.772907 430.794146 404.946201 433.528999 385.800597 436.263853 369.159063 438.998707 336.162303 441.733560 352.498615 444.468414 325.373605 447.203268 343.877379 449.938121 364.207504 452.672975 375.363297 455.407828 361.191516 458.142682 393.970763 460.877536 370.638245 463.612389 387.334598 466.347243 358.767427 469.082097 352.592239 471.816950 382.985892 474.551804 366.088140 477.286658 362.167248 480.021511 371.496197 482.756365 383.063935 485.491219 463.494011 488.226072 413.339356 490.960926 386.593635 493.695779 327.386929 496.430633 316.647680 499.165487 303.152108 501.900340 341.689589 504.635194 311.708480 507.370048 292.764366 510.104901 326.197100 512.839755 318.394446 515.574609 363.841995 518.309462 347.444338 521.044316 323.955468 523.779170 309.107175 526.514023 324.547668 529.248877 314.672677 531.983730 309.625634 534.718584 313.045604 537.453438 332.974753 540.188291 315.227185 542.923145 311.486937 545.657999 326.451149 548.392852 329.193713 551.127706 303.581611 553.862560 221.237728 556.597413 250.628135 559.332267 238.476845 562.067120 192.479708 564.801974 213.420893 567.536828 79.013895 570.271681 231.358032 573.006535 251.418783 575.741389 205.473569 578.476242 201.049069 581.211096 255.480642 583.945950 236.829897 586.680803 218.031259 589.415657 273.434739 592.150511 279.966521 594.885364 232.929736 597.620218 239.341921 600.355071 243.286277 603.089925 270.476626 605.824779 276.527446 608.559632 289.469908 611.294486 276.185639 614.029340 299.094206 616.764193 268.590020 619.499047 296.636871 622.233901 304.543610 624.968754 309.329036 627.703608 261.629662 630.438462 316.878164 630.438462 341.722867 627.703608 301.646635 624.968754 320.032479 622.233901 310.313036 619.499047 305.300264 616.764193 274.788284 614.029340 302.621470 611.294486 280.831655 608.559632 297.790868 605.824779 286.351066 603.089925 279.553634 600.355071 249.726275 597.620218 247.546614 594.885364 252.392862 592.150511 288.320246 589.415657 279.325730 586.680803 231.958290 583.945950 245.052383 581.211096 262.801787 578.476242 207.754796 575.741389 222.530095 573.006535 261.464698 570.271681 248.533310 567.536828 91.149558 564.801974 223.425952 562.067120 209.358418 559.332267 252.832280 556.597413 257.655607 553.862560 229.992768 551.127706 313.013678 548.392852 336.288578 545.657999 332.256188 542.923145 319.424132 540.188291 325.421387 537.453438 341.927102 534.718584 319.028359 531.983730 316.187865 529.248877 320.664611 526.514023 331.346481 523.779170 318.645981 521.044316 330.294985 518.309462 352.013922 515.574609 367.599199 512.839755 321.751634 510.104901 333.559430 507.370048 301.211728 504.635194 320.288723 501.900340 348.050249 499.165487 317.832798 496.430633 341.057829 493.695779 337.976723 490.960926 391.393754 488.226072 417.528569 485.491219 466.621832 482.756365 388.631843 480.021511 375.544735 477.286658 371.277413 474.551804 374.402829 471.816950 397.554482 469.082097 359.378504 466.347243 366.946635 463.612389 395.997968 460.877536 379.580819 458.142682 399.425970 455.407828 365.936828 452.672975 381.656190 449.938121 371.067232 447.203268 351.990895 444.468414 334.526675 441.733560 361.251315 438.998707 346.851862 436.263853 376.142818 433.528999 390.824616 430.794146 409.736068 428.059292 350.355827 425.324438 391.169183 422.589585 341.957751 419.854731 369.783929 417.119877 353.150838 414.385024 359.401052 411.650170 330.528187 408.915317 353.135579 406.180463 324.362013 403.445609 295.436782 400.710756 313.736272 397.975902 374.926107 395.241048 351.449253 392.506195 354.140238 389.771341 334.172010 387.036487 347.830714 384.301634 359.903066 381.566780 335.390216 378.831926 326.477109 376.097073 333.438842 373.362219 371.966852 370.627366 325.276130 367.892512 299.442542 365.157658 320.998079 362.422805 348.320989 359.687951 369.180549 356.953097 330.008364 354.218244 245.474492 351.483390 397.586892 348.748536 329.988753 346.013683 304.151194 343.278829 317.720897 340.543975 358.747978 337.809122 387.819409 335.074268 326.214747 332.339415 344.290938 329.604561 325.769502 326.869707 348.903984 324.134854 312.186988 321.400000 337.306903 318.665146 317.440954 315.930293 319.539610 313.195439 385.110700 310.460585 344.801314 307.725732 326.590461 304.990878 404.859454 302.256025 298.994182 299.521171 446.886465 296.786317 350.904417 294.051464 375.383115 291.316610 371.714310 288.581756 388.407390 285.846903 397.090875 283.112049 382.865408 280.377195 372.206525 277.642342 391.766170 274.907488 426.640376 272.172634 404.365765 269.437781 376.169524 266.702927 409.882346 263.968074 409.064903 261.233220 395.306430 258.498366 361.436497 255.763513 390.761093 253.028659 429.232326 250.293805 371.115822 247.558952 380.570517 244.824098 395.840141 242.089244 423.805487 239.354391 359.711385 236.619537 431.022348 233.884683 482.577936 231.149830 417.981624 228.414976 401.577006 225.680123 373.919477 222.945269 365.581911 220.210415 467.057142 217.475562 464.104473 214.740708 456.362511 212.005854 453.926479 209.271001 452.393155 206.536147 457.030948 203.801293 459.036009 201.066440 480.411012 198.331586 451.412628 195.596732 454.571199 192.861879 448.114283 190.127025 460.358523 187.392172 457.580581 184.657318 451.171367 181.922464 438.894518 179.187611 430.852701 176.452757 457.753002 173.717903 482.509870 170.983050 428.402782 168.248196 325.821404 165.513342 439.635461 162.778489 445.058384 160.043635 431.257538 157.308781 444.129023 154.573928 456.766473 151.839074 470.090110 149.104221 469.653781 146.369367 465.349049 143.634513 476.876964 140.899660 471.221056 138.164806 480.936630 135.429952 467.333755 132.695099 474.029137 129.960245 480.833623 127.225391 495.320446 124.490538 490.667702 121.755684 480.612740 119.020830 476.752697 116.285977 473.069236 113.551123 473.687657 110.816270 471.334929 108.081416 479.170732 105.346562 464.434341 102.611709 430.691265 99.876855 475.329170 97.142001 488.418688 94.407148 479.193754 91.672294 434.883073 88.937440 463.314127 86.202587 466.755060 83.467733 461.244863 80.732880 456.842957 77.998026 473.916335 75.263172 463.977473 72.528319 469.349831 69.793465 492.168011 67.058611 492.881529 64.323758 484.345213 61.588904 480.833767 58.854050 492.329596 56.119197 484.623519 53.384343 496.610369 50.649489 486.639958 47.914636 480.984837 45.179782 430.552394 42.444929 491.839420 39.710075 491.978951 36.975221 492.663234 34.240368 497.677377 31.505514 492.771584 28.770660 488.699147 26.035807 507.980956 23.300953 521.106768 20.566099 522.684327 17.831246 520.890620 15.096392 521.337241 12.361538 521.456179\"/></g><g class=\"series serie-40 color-40\"><path class=\"line reactive\" d=\"M12.361538 521.411135 L15.096392 521.269028 17.831246 520.612058 20.566099 522.684327 23.300953 521.075413 26.035807 505.860207 28.770660 480.453911 31.505514 483.410376 34.240368 488.547009 36.975221 478.652978 39.710075 480.692055 42.444929 485.307503 45.179782 409.032452 47.914636 470.760337 50.649489 474.848937 53.384343 489.478912 56.119197 474.672512 58.854050 484.774007 61.588904 472.759555 64.323758 475.951955 67.058611 486.930534 69.793465 481.961509 72.528319 462.527737 75.263172 457.483420 77.998026 468.672995 80.732880 448.256602 83.467733 453.218291 86.202587 461.919634 88.937440 455.067261 91.672294 427.485698 94.407148 476.143900 97.142001 484.869250 99.876855 467.775983 102.611709 399.358145 105.346562 459.737723 108.081416 472.875944 110.816270 461.752628 113.551123 467.093123 116.285977 469.646441 119.020830 472.912743 121.755684 477.799123 124.490538 487.619660 127.225391 491.113020 129.960245 473.692413 132.695099 467.805260 135.429952 460.293428 138.164806 476.647124 140.899660 466.839970 143.634513 465.530106 146.369367 457.281264 149.104221 459.681799 151.839074 465.499191 154.573928 443.721427 157.308781 432.951768 160.043635 421.653481 162.778489 437.981836 165.513342 430.709049 168.248196 290.807607 170.983050 414.564277 173.717903 477.178419 176.452757 448.942022 179.187611 420.310873 181.922464 424.861178 184.657318 446.268376 187.392172 448.619796 190.127025 453.416188 192.861879 442.037997 195.596732 445.960160 198.331586 438.687670 201.066440 473.610455 203.801293 451.630565 206.536147 451.224295 209.271001 431.749988 212.005854 443.941800 214.740708 446.270558 217.475562 458.460264 220.210415 458.126212 222.945269 348.524590 225.680123 359.452156 228.414976 387.038537 231.149830 404.752764 233.884683 471.334175 236.619537 418.526574 239.354391 338.902758 242.089244 408.542596 244.824098 377.856424 247.558952 361.818539 250.293805 359.024772 253.028659 411.770133 255.763513 377.001729 258.498366 342.394597 261.233220 377.728057 263.968074 389.340947 266.702927 391.842417 269.437781 362.085475 272.172634 392.753445 274.907488 403.697035 277.642342 375.762126 280.377195 346.615497 283.112049 371.182098 285.846903 379.859262 288.581756 374.438863 291.316610 353.513874 294.051464 358.694648 296.786317 323.672740 299.521171 434.318970 302.256025 288.882503 304.990878 399.030948 307.725732 309.762178 310.460585 329.075726 313.195439 377.173456 315.930293 312.326471 318.665146 307.764994 321.400000 328.698360 324.134854 297.684012 326.869707 334.008168 329.604561 312.936682 332.339415 331.080589 335.074268 316.849743 337.809122 380.448397 340.543975 340.569605 343.278829 299.835034 346.013683 284.234063 348.748536 320.999726 351.483390 390.257820 354.218244 226.717451 356.953097 318.233981 359.687951 360.866895 362.422805 326.535297 365.157658 276.480625 367.892512 274.509943 370.627366 306.161213 373.362219 353.274298 376.097073 318.845333 378.831926 309.492323 381.566780 327.096074 384.301634 350.571636 387.036487 334.095718 389.771341 319.369576 392.506195 343.840125 395.241048 338.505594 397.975902 365.293153 400.710756 299.912423 403.445609 281.496873 406.180463 304.315936 408.915317 337.272516 411.650170 316.299895 414.385024 349.494662 417.119877 346.200267 419.854731 359.453496 422.589585 334.247346 425.324438 382.091135 428.059292 329.883875 430.794146 403.627942 433.528999 385.003607 436.263853 367.763744 438.998707 334.559919 441.733560 350.679948 444.468414 322.089739 447.203268 342.834834 449.938121 362.922960 452.672975 373.748604 455.407828 359.324439 458.142682 391.813225 460.877536 367.935003 463.612389 385.404079 466.347243 357.108029 469.082097 352.092809 471.816950 381.589360 474.551804 364.934775 477.286658 360.802523 480.021511 370.794196 482.756365 382.176314 485.491219 462.991163 488.226072 411.751420 490.960926 383.885637 493.695779 325.545023 496.430633 312.021233 499.165487 301.030613 501.900340 338.744263 504.635194 309.178780 507.370048 290.490493 510.104901 324.033762 512.839755 316.996973 515.574609 362.526981 518.309462 345.530384 521.044316 322.749630 523.779170 306.263790 526.514023 322.167497 529.248877 313.091060 531.983730 308.267892 534.718584 311.619750 537.453438 332.252462 540.188291 314.165551 542.923145 310.713088 545.657999 325.323376 548.392852 328.470830 551.127706 300.869094 553.862560 218.706534 556.597413 248.022473 559.332267 235.540534 562.067120 190.250373 564.801974 211.996600 567.536828 72.096755 570.271681 230.249313 573.006535 249.852980 575.741389 200.540219 578.476242 197.064807 581.211096 253.069528 583.945950 235.035479 586.680803 215.214250 589.415657 271.443926 592.150511 277.193856 594.885364 230.102270 597.620218 237.480378 600.355071 241.676407 603.089925 267.809209 605.824779 274.338709 608.559632 288.412784 611.294486 275.166830 614.029340 297.859899 616.764193 266.224431 619.499047 294.885585 622.233901 302.775271 624.968754 306.406415 627.703608 258.675371 630.438462 312.732969 630.438462 316.878164 627.703608 261.629662 624.968754 309.329036 622.233901 304.543610 619.499047 296.636871 616.764193 268.590020 614.029340 299.094206 611.294486 276.185639 608.559632 289.469908 605.824779 276.527446 603.089925 270.476626 600.355071 243.286277 597.620218 239.341921 594.885364 232.929736 592.150511 279.966521 589.415657 273.434739 586.680803 218.031259 583.945950 236.829897 581.211096 255.480642 578.476242 201.049069 575.741389 205.473569 573.006535 251.418783 570.271681 231.358032 567.536828 79.013895 564.801974 213.420893 562.067120 192.479708 559.332267 238.476845 556.597413 250.628135 553.862560 221.237728 551.127706 303.581611 548.392852 329.193713 545.657999 326.451149 542.923145 311.486937 540.188291 315.227185 537.453438 332.974753 534.718584 313.045604 531.983730 309.625634 529.248877 314.672677 526.514023 324.547668 523.779170 309.107175 521.044316 323.955468 518.309462 347.444338 515.574609 363.841995 512.839755 318.394446 510.104901 326.197100 507.370048 292.764366 504.635194 311.708480 501.900340 341.689589 499.165487 303.152108 496.430633 316.647680 493.695779 327.386929 490.960926 386.593635 488.226072 413.339356 485.491219 463.494011 482.756365 383.063935 480.021511 371.496197 477.286658 362.167248 474.551804 366.088140 471.816950 382.985892 469.082097 352.592239 466.347243 358.767427 463.612389 387.334598 460.877536 370.638245 458.142682 393.970763 455.407828 361.191516 452.672975 375.363297 449.938121 364.207504 447.203268 343.877379 444.468414 325.373605 441.733560 352.498615 438.998707 336.162303 436.263853 369.159063 433.528999 385.800597 430.794146 404.946201 428.059292 333.772907 425.324438 384.393888 422.589585 336.520220 419.854731 360.968717 417.119877 347.428309 414.385024 351.430255 411.650170 317.570148 408.915317 338.879859 406.180463 306.991393 403.445609 282.771273 400.710756 302.114154 397.975902 367.128224 395.241048 340.871585 392.506195 346.818907 389.771341 322.977585 387.036487 336.122127 384.301634 352.418383 381.566780 328.601250 378.831926 312.916892 376.097073 321.497751 373.362219 356.284407 370.627366 309.693080 367.892512 280.261197 365.157658 285.972553 362.422805 331.226862 359.687951 364.436546 356.953097 322.684501 354.218244 232.598952 351.483390 393.145895 348.748536 322.815351 346.013683 288.439489 343.278829 301.837558 340.543975 343.852792 337.809122 381.465082 335.074268 319.655618 332.339415 335.197483 329.604561 317.621342 326.869707 337.562443 324.134854 300.562992 321.400000 330.526097 318.665146 310.681218 315.930293 314.324861 313.195439 380.275979 310.460585 333.080028 307.725732 313.701430 304.990878 400.853866 302.256025 291.580790 299.521171 444.996682 296.786317 341.013266 294.051464 368.732120 291.316610 362.602561 288.581756 381.613750 285.846903 390.076318 283.112049 376.033879 280.377195 359.774225 277.642342 383.177751 274.907488 415.655283 272.172634 397.441233 269.437781 369.448568 266.702927 402.758201 263.968074 404.354892 261.233220 389.590342 258.498366 353.490906 255.763513 383.837764 253.028659 425.304944 250.293805 366.489651 247.558952 373.913542 244.824098 388.064817 242.089244 417.790001 239.354391 350.159766 236.619537 428.128671 233.884683 482.178250 231.149830 412.073298 228.414976 397.491122 225.680123 369.912698 222.945269 360.497796 220.210415 465.552784 217.475562 461.467423 214.740708 453.304013 212.005854 450.561297 209.271001 444.844115 206.536147 453.872669 203.801293 456.013824 201.066440 478.565043 198.331586 447.878468 195.596732 451.290558 192.861879 446.065239 190.127025 457.147822 187.392172 456.151882 184.657318 449.201979 181.922464 435.118979 179.187611 427.546374 176.452757 455.113712 173.717903 480.211788 170.983050 421.817096 168.248196 302.513837 165.513342 435.595824 162.778489 442.343307 160.043635 429.387642 157.308781 441.050892 154.573928 453.795956 151.839074 467.834555 149.104221 466.871756 146.369367 462.510184 143.634513 472.477481 140.899660 468.532892 138.164806 479.572583 135.429952 465.288511 132.695099 472.378211 129.960245 478.412377 127.225391 494.326587 124.490538 488.886159 121.755684 478.731131 119.020830 473.995122 116.285977 471.759138 113.551123 470.698302 110.816270 465.497508 108.081416 474.738427 105.346562 461.878725 102.611709 404.482651 99.876855 469.696595 97.142001 486.571238 94.407148 477.978062 91.672294 431.161149 88.937440 460.035782 86.202587 464.484429 83.467733 458.256748 80.732880 452.863847 77.998026 472.645727 75.263172 462.101557 72.528319 467.696276 69.793465 490.193298 67.058611 491.037872 64.323758 481.670470 61.588904 479.788361 58.854050 490.139170 56.119197 481.973763 53.384343 495.481703 50.649489 484.692527 47.914636 478.792440 45.179782 426.317418 42.444929 490.971020 39.710075 490.152331 36.975221 489.987192 34.240368 496.161009 31.505514 491.650992 28.770660 487.983871 26.035807 507.143651 23.300953 521.075413 20.566099 522.684327 17.831246 520.797934 15.096392 521.269028 12.361538 521.424412\"/></g><g class=\"series serie-41 color-41\"><path class=\"line reactive\" d=\"M12.361538 521.411135 L15.096392 521.225621 17.831246 520.612058 20.566099 522.669050 23.300953 521.075413 26.035807 504.722029 28.770660 479.561059 31.505514 482.708760 34.240368 487.843971 36.975221 477.278324 39.710075 478.855482 42.444929 484.996222 45.179782 408.691782 47.914636 469.393742 50.649489 473.800148 53.384343 489.009117 56.119197 474.017759 58.854050 484.510764 61.588904 472.086702 64.323758 474.182872 67.058611 485.805020 69.793465 481.276953 72.528319 461.233244 75.263172 456.750568 77.998026 468.050638 80.732880 446.686201 83.467733 450.929439 86.202587 458.632184 88.937440 452.615072 91.672294 426.903419 94.407148 474.763661 97.142001 483.825669 99.876855 466.023907 102.611709 396.249780 105.346562 455.616027 108.081416 471.580054 110.816270 460.491399 113.551123 466.256277 116.285977 468.295184 119.020830 471.301888 121.755684 476.505316 124.490538 486.563790 127.225391 490.981768 129.960245 473.030878 132.695099 466.181936 135.429952 455.797774 138.164806 475.568224 140.899660 462.801073 143.634513 461.233812 146.369367 455.671154 149.104221 455.270312 151.839074 463.538339 154.573928 440.872818 157.308781 430.745580 160.043635 419.900405 162.778489 435.277704 165.513342 427.129526 168.248196 283.171590 170.983050 410.134400 173.717903 476.150405 176.452757 446.667890 179.187611 416.518220 181.922464 422.376592 184.657318 444.830371 187.392172 447.508360 190.127025 451.976476 192.861879 438.538848 195.596732 442.051917 198.331586 437.556592 201.066440 471.809317 203.801293 449.287301 206.536147 449.265665 209.271001 429.729578 212.005854 441.280074 214.740708 443.052052 217.475562 454.272176 220.210415 456.984175 222.945269 345.789498 225.680123 354.689308 228.414976 381.497602 231.149830 398.020019 233.884683 469.277937 236.619537 411.520524 239.354391 330.412440 242.089244 404.729697 244.824098 372.851827 247.558952 357.113422 250.293805 351.659512 253.028659 407.109845 255.763513 370.586066 258.498366 337.893194 261.233220 371.950333 263.968074 383.724657 266.702927 384.169771 269.437781 356.360636 272.172634 388.178983 274.907488 398.184167 277.642342 367.302395 280.377195 336.781134 283.112049 358.291957 285.846903 374.655412 288.581756 369.838236 291.316610 347.510363 294.051464 353.880008 296.786317 315.866361 299.521171 427.732637 302.256025 277.289937 304.990878 393.037808 307.725732 292.198904 310.460585 315.930133 313.195439 366.557472 315.930293 298.300411 318.665146 300.104657 321.400000 316.942523 324.134854 288.252355 326.869707 316.554678 329.604561 297.448702 332.339415 319.682132 335.074268 308.979856 337.809122 374.340220 340.543975 329.946804 343.278829 283.469860 346.013683 272.078819 348.748536 305.130014 351.483390 385.470861 354.218244 219.015506 356.953097 304.095727 359.687951 346.939416 362.422805 312.149045 365.157658 261.887378 367.892512 257.818385 370.627366 294.567173 373.362219 342.794647 376.097073 302.860498 378.831926 294.838332 381.566780 307.765725 384.301634 342.160307 387.036487 324.709467 389.771341 307.701746 392.506195 324.552542 395.241048 322.447093 397.975902 348.045666 400.710756 289.045664 403.445609 273.741250 406.180463 290.618152 408.915317 327.051878 411.650170 302.348635 414.385024 338.018645 417.119877 338.592473 419.854731 347.064200 422.589585 324.571569 425.324438 373.351769 428.059292 315.138074 430.794146 390.726251 433.528999 370.328278 436.263853 358.925316 438.998707 325.881702 441.733560 341.973231 444.468414 307.450395 447.203268 330.038240 449.938121 356.294740 452.672975 370.187037 455.407828 355.571589 458.142682 387.517966 460.877536 356.497514 463.612389 371.656200 466.347243 350.007289 469.082097 345.413072 471.816950 375.347199 474.551804 355.843182 477.286658 356.293062 480.021511 365.407555 482.756365 374.618573 485.491219 458.878902 488.226072 402.496918 490.960926 374.138252 493.695779 312.620275 496.430633 302.139870 499.165487 287.316137 501.900340 333.946929 504.635194 302.246812 507.370048 282.499061 510.104901 315.457161 512.839755 311.432276 515.574609 357.774981 518.309462 341.483795 521.044316 318.871612 523.779170 300.267594 526.514023 315.406976 529.248877 299.365313 531.983730 298.650711 534.718584 303.589288 537.453438 325.005390 540.188291 308.204249 542.923145 307.255448 545.657999 316.100578 548.392852 322.692875 551.127706 294.968609 553.862560 213.333058 556.597413 237.197682 559.332267 222.615881 562.067120 177.448185 564.801974 203.101053 567.536828 58.687318 570.271681 221.217963 573.006535 241.477192 575.741389 195.291757 578.476242 191.300727 581.211096 250.026493 583.945950 230.305247 586.680803 209.451375 589.415657 266.513006 592.150511 266.390840 594.885364 217.428969 597.620218 232.943528 600.355071 236.288746 603.089925 262.954449 605.824779 266.557067 608.559632 285.016494 611.294486 271.321103 614.029340 294.631175 616.764193 263.902667 619.499047 290.726621 622.233901 295.557351 624.968754 292.712940 627.703608 252.732718 630.438462 306.903616 630.438462 312.732969 627.703608 258.675371 624.968754 306.406415 622.233901 302.775271 619.499047 294.885585 616.764193 266.224431 614.029340 297.859899 611.294486 275.166830 608.559632 288.412784 605.824779 274.338709 603.089925 267.809209 600.355071 241.676407 597.620218 237.480378 594.885364 230.102270 592.150511 277.193856 589.415657 271.443926 586.680803 215.214250 583.945950 235.035479 581.211096 253.069528 578.476242 197.064807 575.741389 200.540219 573.006535 249.852980 570.271681 230.249313 567.536828 72.096755 564.801974 211.996600 562.067120 190.250373 559.332267 235.540534 556.597413 248.022473 553.862560 218.706534 551.127706 300.869094 548.392852 328.470830 545.657999 325.323376 542.923145 310.713088 540.188291 314.165551 537.453438 332.252462 534.718584 311.619750 531.983730 308.267892 529.248877 313.091060 526.514023 322.167497 523.779170 306.263790 521.044316 322.749630 518.309462 345.530384 515.574609 362.526981 512.839755 316.996973 510.104901 324.033762 507.370048 290.490493 504.635194 309.178780 501.900340 338.744263 499.165487 301.030613 496.430633 312.021233 493.695779 325.545023 490.960926 383.885637 488.226072 411.751420 485.491219 462.991163 482.756365 382.176314 480.021511 370.794196 477.286658 360.802523 474.551804 364.934775 471.816950 381.589360 469.082097 352.092809 466.347243 357.108029 463.612389 385.404079 460.877536 367.935003 458.142682 391.813225 455.407828 359.324439 452.672975 373.748604 449.938121 362.922960 447.203268 342.834834 444.468414 322.089739 441.733560 350.679948 438.998707 334.559919 436.263853 367.763744 433.528999 385.003607 430.794146 403.627942 428.059292 329.883875 425.324438 382.091135 422.589585 334.247346 419.854731 359.453496 417.119877 346.200267 414.385024 349.494662 411.650170 316.299895 408.915317 337.272516 406.180463 304.315936 403.445609 281.496873 400.710756 299.912423 397.975902 365.293153 395.241048 338.505594 392.506195 343.840125 389.771341 319.369576 387.036487 334.095718 384.301634 350.571636 381.566780 327.096074 378.831926 309.492323 376.097073 318.845333 373.362219 353.274298 370.627366 306.161213 367.892512 274.509943 365.157658 276.480625 362.422805 326.535297 359.687951 360.866895 356.953097 318.233981 354.218244 226.717451 351.483390 390.257820 348.748536 320.999726 346.013683 284.234063 343.278829 299.835034 340.543975 340.569605 337.809122 380.448397 335.074268 316.849743 332.339415 331.080589 329.604561 312.936682 326.869707 334.008168 324.134854 297.684012 321.400000 328.698360 318.665146 307.764994 315.930293 312.326471 313.195439 377.173456 310.460585 329.075726 307.725732 309.762178 304.990878 399.030948 302.256025 288.882503 299.521171 434.318970 296.786317 323.672740 294.051464 358.694648 291.316610 353.513874 288.581756 374.438863 285.846903 379.859262 283.112049 371.182098 280.377195 346.615497 277.642342 375.762126 274.907488 403.697035 272.172634 392.753445 269.437781 362.085475 266.702927 391.842417 263.968074 389.340947 261.233220 377.728057 258.498366 342.394597 255.763513 377.001729 253.028659 411.770133 250.293805 359.024772 247.558952 361.818539 244.824098 377.856424 242.089244 408.542596 239.354391 338.902758 236.619537 418.526574 233.884683 471.334175 231.149830 404.752764 228.414976 387.038537 225.680123 359.452156 222.945269 348.524590 220.210415 458.126212 217.475562 458.460264 214.740708 446.270558 212.005854 443.941800 209.271001 431.749988 206.536147 451.224295 203.801293 451.630565 201.066440 473.610455 198.331586 438.687670 195.596732 445.960160 192.861879 442.037997 190.127025 453.416188 187.392172 448.619796 184.657318 446.268376 181.922464 424.861178 179.187611 420.310873 176.452757 448.942022 173.717903 477.178419 170.983050 414.564277 168.248196 290.807607 165.513342 430.709049 162.778489 437.981836 160.043635 421.653481 157.308781 432.951768 154.573928 443.721427 151.839074 465.499191 149.104221 459.681799 146.369367 457.281264 143.634513 465.530106 140.899660 466.839970 138.164806 476.647124 135.429952 460.293428 132.695099 467.805260 129.960245 473.692413 127.225391 491.113020 124.490538 487.619660 121.755684 477.799123 119.020830 472.912743 116.285977 469.646441 113.551123 467.093123 110.816270 461.752628 108.081416 472.875944 105.346562 459.737723 102.611709 399.358145 99.876855 467.775983 97.142001 484.869250 94.407148 476.143900 91.672294 427.485698 88.937440 455.067261 86.202587 461.919634 83.467733 453.218291 80.732880 448.256602 77.998026 468.672995 75.263172 457.483420 72.528319 462.527737 69.793465 481.961509 67.058611 486.930534 64.323758 475.951955 61.588904 472.759555 58.854050 484.774007 56.119197 474.672512 53.384343 489.478912 50.649489 474.848937 47.914636 470.760337 45.179782 409.032452 42.444929 485.307503 39.710075 480.692055 36.975221 478.652978 34.240368 488.547009 31.505514 483.410376 28.770660 480.453911 26.035807 505.860207 23.300953 521.075413 20.566099 522.684327 17.831246 520.612058 15.096392 521.269028 12.361538 521.411135\"/></g><g class=\"series serie-42 color-42\"><path class=\"line reactive\" d=\"M12.361538 521.411135 L15.096392 521.170188 17.831246 520.612058 20.566099 522.669050 23.300953 520.902437 26.035807 503.870945 28.770660 478.487198 31.505514 481.843675 34.240368 487.453275 36.975221 477.001239 39.710075 478.721826 42.444929 484.912423 45.179782 408.485148 47.914636 469.287467 50.649489 473.686552 53.384343 488.819463 56.119197 473.973612 58.854050 484.445203 61.588904 471.755299 64.323758 473.615198 67.058611 485.350378 69.793465 480.230523 72.528319 460.144459 75.263172 454.425999 77.998026 464.410766 80.732880 443.001637 83.467733 446.551865 86.202587 455.342895 88.937440 447.504548 91.672294 425.882870 94.407148 474.134587 97.142001 482.062426 99.876855 464.034102 102.611709 394.216639 105.346562 454.706603 108.081416 470.968180 110.816270 459.732006 113.551123 465.697585 116.285977 467.643166 119.020830 470.244911 121.755684 476.106328 124.490538 486.045159 127.225391 490.843213 129.960245 472.309843 132.695099 465.493968 135.429952 455.020706 138.164806 474.237961 140.899660 461.611065 143.634513 460.122983 146.369367 453.173299 149.104221 453.571835 151.839074 462.599041 154.573928 439.119011 157.308781 429.915334 160.043635 418.724920 162.778489 434.001209 165.513342 425.067294 168.248196 275.227414 170.983050 408.491098 173.717903 475.654519 176.452757 444.974843 179.187611 413.747633 181.922464 419.568493 184.657318 444.039800 187.392172 446.641090 190.127025 450.702641 192.861879 436.950340 195.596732 440.764702 198.331586 436.271090 201.066440 470.816169 203.801293 448.986473 206.536147 448.282359 209.271001 428.728330 212.005854 440.722323 214.740708 442.453796 217.475562 452.795767 220.210415 456.330175 222.945269 343.325379 225.680123 351.486426 228.414976 379.599840 231.149830 393.893074 233.884683 468.822820 236.619537 409.182045 239.354391 323.258765 242.089244 401.614778 244.824098 366.674387 247.558952 351.620092 250.293805 344.997981 253.028659 403.801680 255.763513 364.074835 258.498366 333.557010 261.233220 366.732793 263.968074 378.746807 266.702927 381.603960 269.437781 352.237908 272.172634 382.882474 274.907488 394.175197 277.642342 361.543663 280.377195 328.911527 283.112049 351.664568 285.846903 370.496524 288.581756 365.834463 291.316610 344.227948 294.051464 349.838136 296.786317 308.167417 299.521171 426.667559 302.256025 273.547603 304.990878 389.022166 307.725732 283.339473 310.460585 311.612863 313.195439 363.835171 315.930293 291.208560 318.665146 292.011227 321.400000 308.570043 324.134854 280.031517 326.869707 311.693109 329.604561 288.326181 332.339415 316.562237 335.074268 304.856006 337.809122 369.919717 340.543975 324.463294 343.278829 277.975634 346.013683 267.650317 348.748536 300.962714 351.483390 383.220330 354.218244 216.349776 356.953097 299.330070 359.687951 343.394640 362.422805 308.144441 365.157658 254.233942 367.892512 253.050196 370.627366 289.837152 373.362219 339.705369 376.097073 299.419663 378.831926 291.291732 381.566780 303.774527 384.301634 339.315996 387.036487 320.573039 389.771341 304.108512 392.506195 320.361991 395.241048 320.057789 397.975902 345.805382 400.710756 285.963482 403.445609 269.896433 406.180463 288.690017 408.915317 323.970697 411.650170 299.402532 414.385024 334.853519 417.119877 334.810038 419.854731 342.486473 422.589585 322.064292 425.324438 370.925410 428.059292 310.490850 430.794146 388.148142 433.528999 367.872471 436.263853 355.842050 438.998707 322.671783 441.733560 338.302640 444.468414 304.511547 447.203268 327.528106 449.938121 353.116735 452.672975 367.232820 455.407828 353.442724 458.142682 386.197581 460.877536 352.725173 463.612389 370.931599 466.347243 347.798548 469.082097 342.357388 471.816950 373.424833 474.551804 354.458566 477.286658 355.181105 480.021511 362.536546 482.756365 373.215103 485.491219 458.123562 488.226072 401.896235 490.960926 371.841242 493.695779 308.454934 496.430633 299.514358 499.165487 284.882019 501.900340 330.305834 504.635194 299.443403 507.370048 278.041526 510.104901 311.723250 512.839755 309.074155 515.574609 355.134516 518.309462 337.901046 521.044316 315.997479 523.779170 297.463385 526.514023 313.363029 529.248877 297.662818 531.983730 296.993797 534.718584 301.378687 537.453438 322.765461 540.188291 305.740074 542.923145 305.344760 545.657999 313.034213 548.392852 320.478718 551.127706 291.121927 553.862560 208.635255 556.597413 233.624219 559.332267 218.882655 562.067120 173.973820 564.801974 201.848334 567.536828 57.045482 570.271681 217.063532 573.006535 238.083447 575.741389 192.089220 578.476242 188.883032 581.211096 245.351603 583.945950 224.936327 586.680803 205.896661 589.415657 261.903057 592.150511 263.309909 594.885364 214.540143 597.620218 228.845595 600.355071 231.566586 603.089925 258.734056 605.824779 261.637567 608.559632 280.527961 611.294486 269.597196 614.029340 292.369244 616.764193 263.173996 619.499047 287.830383 622.233901 293.277187 624.968754 289.332274 627.703608 250.605749 630.438462 304.408261 630.438462 306.903616 627.703608 252.732718 624.968754 292.712940 622.233901 295.557351 619.499047 290.726621 616.764193 263.902667 614.029340 294.631175 611.294486 271.321103 608.559632 285.016494 605.824779 266.557067 603.089925 262.954449 600.355071 236.288746 597.620218 232.943528 594.885364 217.428969 592.150511 266.390840 589.415657 266.513006 586.680803 209.451375 583.945950 230.305247 581.211096 250.026493 578.476242 191.300727 575.741389 195.291757 573.006535 241.477192 570.271681 221.217963 567.536828 58.687318 564.801974 203.101053 562.067120 177.448185 559.332267 222.615881 556.597413 237.197682 553.862560 213.333058 551.127706 294.968609 548.392852 322.692875 545.657999 316.100578 542.923145 307.255448 540.188291 308.204249 537.453438 325.005390 534.718584 303.589288 531.983730 298.650711 529.248877 299.365313 526.514023 315.406976 523.779170 300.267594 521.044316 318.871612 518.309462 341.483795 515.574609 357.774981 512.839755 311.432276 510.104901 315.457161 507.370048 282.499061 504.635194 302.246812 501.900340 333.946929 499.165487 287.316137 496.430633 302.139870 493.695779 312.620275 490.960926 374.138252 488.226072 402.496918 485.491219 458.878902 482.756365 374.618573 480.021511 365.407555 477.286658 356.293062 474.551804 355.843182 471.816950 375.347199 469.082097 345.413072 466.347243 350.007289 463.612389 371.656200 460.877536 356.497514 458.142682 387.517966 455.407828 355.571589 452.672975 370.187037 449.938121 356.294740 447.203268 330.038240 444.468414 307.450395 441.733560 341.973231 438.998707 325.881702 436.263853 358.925316 433.528999 370.328278 430.794146 390.726251 428.059292 315.138074 425.324438 373.351769 422.589585 324.571569 419.854731 347.064200 417.119877 338.592473 414.385024 338.018645 411.650170 302.348635 408.915317 327.051878 406.180463 290.618152 403.445609 273.741250 400.710756 289.045664 397.975902 348.045666 395.241048 322.447093 392.506195 324.552542 389.771341 307.701746 387.036487 324.709467 384.301634 342.160307 381.566780 307.765725 378.831926 294.838332 376.097073 302.860498 373.362219 342.794647 370.627366 294.567173 367.892512 257.818385 365.157658 261.887378 362.422805 312.149045 359.687951 346.939416 356.953097 304.095727 354.218244 219.015506 351.483390 385.470861 348.748536 305.130014 346.013683 272.078819 343.278829 283.469860 340.543975 329.946804 337.809122 374.340220 335.074268 308.979856 332.339415 319.682132 329.604561 297.448702 326.869707 316.554678 324.134854 288.252355 321.400000 316.942523 318.665146 300.104657 315.930293 298.300411 313.195439 366.557472 310.460585 315.930133 307.725732 292.198904 304.990878 393.037808 302.256025 277.289937 299.521171 427.732637 296.786317 315.866361 294.051464 353.880008 291.316610 347.510363 288.581756 369.838236 285.846903 374.655412 283.112049 358.291957 280.377195 336.781134 277.642342 367.302395 274.907488 398.184167 272.172634 388.178983 269.437781 356.360636 266.702927 384.169771 263.968074 383.724657 261.233220 371.950333 258.498366 337.893194 255.763513 370.586066 253.028659 407.109845 250.293805 351.659512 247.558952 357.113422 244.824098 372.851827 242.089244 404.729697 239.354391 330.412440 236.619537 411.520524 233.884683 469.277937 231.149830 398.020019 228.414976 381.497602 225.680123 354.689308 222.945269 345.789498 220.210415 456.984175 217.475562 454.272176 214.740708 443.052052 212.005854 441.280074 209.271001 429.729578 206.536147 449.265665 203.801293 449.287301 201.066440 471.809317 198.331586 437.556592 195.596732 442.051917 192.861879 438.538848 190.127025 451.976476 187.392172 447.508360 184.657318 444.830371 181.922464 422.376592 179.187611 416.518220 176.452757 446.667890 173.717903 476.150405 170.983050 410.134400 168.248196 283.171590 165.513342 427.129526 162.778489 435.277704 160.043635 419.900405 157.308781 430.745580 154.573928 440.872818 151.839074 463.538339 149.104221 455.270312 146.369367 455.671154 143.634513 461.233812 140.899660 462.801073 138.164806 475.568224 135.429952 455.797774 132.695099 466.181936 129.960245 473.030878 127.225391 490.981768 124.490538 486.563790 121.755684 476.505316 119.020830 471.301888 116.285977 468.295184 113.551123 466.256277 110.816270 460.491399 108.081416 471.580054 105.346562 455.616027 102.611709 396.249780 99.876855 466.023907 97.142001 483.825669 94.407148 474.763661 91.672294 426.903419 88.937440 452.615072 86.202587 458.632184 83.467733 450.929439 80.732880 446.686201 77.998026 468.050638 75.263172 456.750568 72.528319 461.233244 69.793465 481.276953 67.058611 485.805020 64.323758 474.182872 61.588904 472.086702 58.854050 484.510764 56.119197 474.017759 53.384343 489.009117 50.649489 473.800148 47.914636 469.393742 45.179782 408.691782 42.444929 484.996222 39.710075 478.855482 36.975221 477.278324 34.240368 487.843971 31.505514 482.708760 28.770660 479.561059 26.035807 504.722029 23.300953 521.075413 20.566099 522.669050 17.831246 520.612058 15.096392 521.225621 12.361538 521.411135\"/></g><g class=\"series serie-43 color-43\"><path class=\"line reactive\" d=\"M12.361538 521.382283 L15.096392 521.152320 17.831246 520.612058 20.566099 522.661768 23.300953 520.821828 26.035807 503.435950 28.770660 477.902256 31.505514 481.170216 34.240368 487.222766 36.975221 476.740652 39.710075 478.091653 42.444929 483.909601 45.179782 408.048215 47.914636 469.147953 50.649489 473.161009 53.384343 488.543685 56.119197 473.895063 58.854050 484.423881 61.588904 471.663088 64.323758 472.897670 67.058611 485.256254 69.793465 479.982589 72.528319 458.026209 75.263172 452.916749 77.998026 462.580875 80.732880 441.216705 83.467733 445.809453 86.202587 453.942150 88.937440 446.555597 91.672294 424.998503 94.407148 473.022382 97.142001 481.447062 99.876855 463.516815 102.611709 393.598841 105.346562 453.884276 108.081416 469.800398 110.816270 458.852602 113.551123 465.348844 116.285977 466.196218 119.020830 469.514928 121.755684 474.839285 124.490538 485.553198 127.225391 490.574066 129.960245 471.544838 132.695099 464.411863 135.429952 454.141286 138.164806 473.083704 140.899660 460.626328 143.634513 458.713099 146.369367 450.867232 149.104221 452.866063 151.839074 460.610512 154.573928 438.074256 157.308781 428.481062 160.043635 417.398262 162.778489 433.336138 165.513342 424.378825 168.248196 273.908721 170.983050 407.534358 173.717903 475.095576 176.452757 443.234022 179.187611 412.288727 181.922464 418.518488 184.657318 442.927750 187.392172 445.921027 190.127025 449.458495 192.861879 435.515192 195.596732 439.775624 198.331586 435.186410 201.066440 469.532792 203.801293 447.269064 206.536147 446.845982 209.271001 427.251836 212.005854 439.360638 214.740708 441.109723 217.475562 451.711675 220.210415 454.970298 222.945269 339.258827 225.680123 347.387111 228.414976 377.555613 231.149830 393.518729 233.884683 468.489694 236.619537 408.000995 239.354391 320.178959 242.089244 399.924114 244.824098 365.146509 247.558952 349.215852 250.293805 342.931641 253.028659 402.994525 255.763513 362.341496 258.498366 332.149310 261.233220 365.588198 263.968074 377.751699 266.702927 380.016932 269.437781 350.549402 272.172634 381.363938 274.907488 393.014409 277.642342 360.812598 280.377195 327.390474 283.112049 351.092265 285.846903 369.446464 288.581756 364.974540 291.316610 343.332717 294.051464 349.161998 296.786317 307.142991 299.521171 425.575979 302.256025 271.843516 304.990878 388.668431 307.725732 282.424334 310.460585 311.073130 313.195439 363.216531 315.930293 290.568559 318.665146 290.320339 321.400000 307.972188 324.134854 276.787721 326.869707 310.666239 329.604561 288.021080 332.339415 315.366704 335.074268 303.851556 337.809122 368.660821 340.543975 323.308967 343.278829 276.879246 346.013683 266.323700 348.748536 299.261360 351.483390 382.622665 354.218244 213.120672 356.953097 297.382543 359.687951 342.776395 362.422805 306.564347 365.157658 251.671006 367.892512 251.966349 370.627366 288.275941 373.362219 338.898195 376.097073 298.290925 378.831926 289.592567 381.566780 303.264138 384.301634 338.086815 387.036487 319.681590 389.771341 303.178841 392.506195 319.500278 395.241048 318.993494 397.975902 345.032263 400.710756 284.649344 403.445609 268.641578 406.180463 287.084426 408.915317 322.733783 411.650170 298.052590 414.385024 333.688930 417.119877 333.703101 419.854731 342.087570 422.589585 321.290407 425.324438 370.165677 428.059292 309.024974 430.794146 387.392349 433.528999 366.231579 436.263853 354.532351 438.998707 320.977739 441.733560 336.665701 444.468414 302.706750 447.203268 325.850830 449.938121 351.576695 452.672975 366.638908 455.407828 352.781785 458.142682 385.386053 460.877536 351.830642 463.612389 370.272963 466.347243 346.316329 469.082097 341.793699 471.816950 372.221536 474.551804 353.605248 477.286658 353.793004 480.021511 361.697559 482.756365 372.405137 485.491219 457.650471 488.226072 400.710554 490.960926 369.765467 493.695779 305.587182 496.430633 296.972489 499.165487 276.484772 501.900340 327.751818 504.635194 295.926159 507.370048 273.257462 510.104901 307.061567 512.839755 304.927819 515.574609 351.980705 518.309462 334.301187 521.044316 311.231258 523.779170 294.396642 526.514023 309.926347 529.248877 294.338193 531.983730 291.265093 534.718584 293.328705 537.453438 311.261977 540.188291 297.308328 542.923145 301.911955 545.657999 308.525661 548.392852 312.808923 551.127706 287.636507 553.862560 203.540499 556.597413 230.151231 559.332267 215.010924 562.067120 171.059126 564.801974 198.492299 567.536828 54.423326 570.271681 213.189308 573.006535 234.815449 575.741389 188.164732 578.476242 184.665119 581.211096 242.047689 583.945950 220.982850 586.680803 199.845183 589.415657 258.517955 592.150511 260.401094 594.885364 207.378409 597.620218 224.665963 600.355071 227.634254 603.089925 254.479030 605.824779 258.184925 608.559632 277.712908 611.294486 267.007203 614.029340 288.121031 616.764193 260.277201 619.499047 285.343370 622.233901 291.186428 624.968754 285.655276 627.703608 248.418824 630.438462 302.976495 630.438462 304.408261 627.703608 250.605749 624.968754 289.332274 622.233901 293.277187 619.499047 287.830383 616.764193 263.173996 614.029340 292.369244 611.294486 269.597196 608.559632 280.527961 605.824779 261.637567 603.089925 258.734056 600.355071 231.566586 597.620218 228.845595 594.885364 214.540143 592.150511 263.309909 589.415657 261.903057 586.680803 205.896661 583.945950 224.936327 581.211096 245.351603 578.476242 188.883032 575.741389 192.089220 573.006535 238.083447 570.271681 217.063532 567.536828 57.045482 564.801974 201.848334 562.067120 173.973820 559.332267 218.882655 556.597413 233.624219 553.862560 208.635255 551.127706 291.121927 548.392852 320.478718 545.657999 313.034213 542.923145 305.344760 540.188291 305.740074 537.453438 322.765461 534.718584 301.378687 531.983730 296.993797 529.248877 297.662818 526.514023 313.363029 523.779170 297.463385 521.044316 315.997479 518.309462 337.901046 515.574609 355.134516 512.839755 309.074155 510.104901 311.723250 507.370048 278.041526 504.635194 299.443403 501.900340 330.305834 499.165487 284.882019 496.430633 299.514358 493.695779 308.454934 490.960926 371.841242 488.226072 401.896235 485.491219 458.123562 482.756365 373.215103 480.021511 362.536546 477.286658 355.181105 474.551804 354.458566 471.816950 373.424833 469.082097 342.357388 466.347243 347.798548 463.612389 370.931599 460.877536 352.725173 458.142682 386.197581 455.407828 353.442724 452.672975 367.232820 449.938121 353.116735 447.203268 327.528106 444.468414 304.511547 441.733560 338.302640 438.998707 322.671783 436.263853 355.842050 433.528999 367.872471 430.794146 388.148142 428.059292 310.490850 425.324438 370.925410 422.589585 322.064292 419.854731 342.486473 417.119877 334.810038 414.385024 334.853519 411.650170 299.402532 408.915317 323.970697 406.180463 288.690017 403.445609 269.896433 400.710756 285.963482 397.975902 345.805382 395.241048 320.057789 392.506195 320.361991 389.771341 304.108512 387.036487 320.573039 384.301634 339.315996 381.566780 303.774527 378.831926 291.291732 376.097073 299.419663 373.362219 339.705369 370.627366 289.837152 367.892512 253.050196 365.157658 254.233942 362.422805 308.144441 359.687951 343.394640 356.953097 299.330070 354.218244 216.349776 351.483390 383.220330 348.748536 300.962714 346.013683 267.650317 343.278829 277.975634 340.543975 324.463294 337.809122 369.919717 335.074268 304.856006 332.339415 316.562237 329.604561 288.326181 326.869707 311.693109 324.134854 280.031517 321.400000 308.570043 318.665146 292.011227 315.930293 291.208560 313.195439 363.835171 310.460585 311.612863 307.725732 283.339473 304.990878 389.022166 302.256025 273.547603 299.521171 426.667559 296.786317 308.167417 294.051464 349.838136 291.316610 344.227948 288.581756 365.834463 285.846903 370.496524 283.112049 351.664568 280.377195 328.911527 277.642342 361.543663 274.907488 394.175197 272.172634 382.882474 269.437781 352.237908 266.702927 381.603960 263.968074 378.746807 261.233220 366.732793 258.498366 333.557010 255.763513 364.074835 253.028659 403.801680 250.293805 344.997981 247.558952 351.620092 244.824098 366.674387 242.089244 401.614778 239.354391 323.258765 236.619537 409.182045 233.884683 468.822820 231.149830 393.893074 228.414976 379.599840 225.680123 351.486426 222.945269 343.325379 220.210415 456.330175 217.475562 452.795767 214.740708 442.453796 212.005854 440.722323 209.271001 428.728330 206.536147 448.282359 203.801293 448.986473 201.066440 470.816169 198.331586 436.271090 195.596732 440.764702 192.861879 436.950340 190.127025 450.702641 187.392172 446.641090 184.657318 444.039800 181.922464 419.568493 179.187611 413.747633 176.452757 444.974843 173.717903 475.654519 170.983050 408.491098 168.248196 275.227414 165.513342 425.067294 162.778489 434.001209 160.043635 418.724920 157.308781 429.915334 154.573928 439.119011 151.839074 462.599041 149.104221 453.571835 146.369367 453.173299 143.634513 460.122983 140.899660 461.611065 138.164806 474.237961 135.429952 455.020706 132.695099 465.493968 129.960245 472.309843 127.225391 490.843213 124.490538 486.045159 121.755684 476.106328 119.020830 470.244911 116.285977 467.643166 113.551123 465.697585 110.816270 459.732006 108.081416 470.968180 105.346562 454.706603 102.611709 394.216639 99.876855 464.034102 97.142001 482.062426 94.407148 474.134587 91.672294 425.882870 88.937440 447.504548 86.202587 455.342895 83.467733 446.551865 80.732880 443.001637 77.998026 464.410766 75.263172 454.425999 72.528319 460.144459 69.793465 480.230523 67.058611 485.350378 64.323758 473.615198 61.588904 471.755299 58.854050 484.445203 56.119197 473.973612 53.384343 488.819463 50.649489 473.686552 47.914636 469.287467 45.179782 408.485148 42.444929 484.912423 39.710075 478.721826 36.975221 477.001239 34.240368 487.453275 31.505514 481.843675 28.770660 478.487198 26.035807 503.870945 23.300953 520.902437 20.566099 522.669050 17.831246 520.612058 15.096392 521.170188 12.361538 521.411135\"/></g><g class=\"series serie-44 color-44\"><path class=\"line reactive\" d=\"M12.361538 521.355343 L15.096392 521.152320 17.831246 520.607568 20.566099 522.513598 23.300953 520.821828 26.035807 502.959529 28.770660 477.370797 31.505514 480.777367 34.240368 486.908667 36.975221 475.722197 39.710075 477.199670 42.444929 483.346648 45.179782 406.940625 47.914636 467.960203 50.649489 472.852795 53.384343 488.097449 56.119197 473.472837 58.854050 483.879014 61.588904 471.203887 64.323758 472.297606 67.058611 484.722216 69.793465 479.829685 72.528319 455.761158 75.263172 451.257671 77.998026 461.667593 80.732880 439.791807 83.467733 444.259647 86.202587 450.854622 88.937440 442.953768 91.672294 423.381879 94.407148 470.474817 97.142001 478.356387 99.876855 462.224402 102.611709 391.993029 105.346562 450.743887 108.081416 467.540048 110.816270 456.993434 113.551123 464.356900 116.285977 464.567711 119.020830 467.623702 121.755684 472.608247 124.490538 484.558673 127.225391 490.469851 129.960245 470.313162 132.695099 462.281484 135.429952 452.604623 138.164806 472.138104 140.899660 459.736528 143.634513 458.030425 146.369367 449.958249 149.104221 452.011151 151.839074 459.034661 154.573928 437.641271 157.308781 427.414807 160.043635 415.714814 162.778489 430.878378 165.513342 423.229856 168.248196 272.755602 170.983050 405.914426 173.717903 474.337130 176.452757 442.463652 179.187611 410.692662 181.922464 416.010412 184.657318 440.009006 187.392172 445.140909 190.127025 447.239635 192.861879 433.231477 195.596732 437.516325 198.331586 432.543970 201.066440 467.786607 203.801293 445.805516 206.536147 444.707305 209.271001 426.217933 212.005854 437.669240 214.740708 435.203380 217.475562 448.902233 220.210415 453.179123 222.945269 333.976238 225.680123 343.458275 228.414976 373.040357 231.149830 390.821069 233.884683 466.466713 236.619537 406.617181 239.354391 318.017821 242.089244 398.854650 244.824098 363.390908 247.558952 346.881348 250.293805 340.708976 253.028659 402.111973 255.763513 361.601816 258.498366 330.910714 261.233220 363.911380 263.968074 376.173617 266.702927 376.906438 269.437781 347.469575 272.172634 379.253215 274.907488 389.236194 277.642342 357.888846 280.377195 326.316803 283.112049 349.215203 285.846903 368.279959 288.581756 363.314875 291.316610 341.847027 294.051464 347.620055 296.786317 304.480339 299.521171 423.118869 302.256025 268.218114 304.990878 387.391980 307.725732 279.416776 310.460585 305.725590 313.195439 360.970454 315.930293 286.288604 318.665146 288.486583 321.400000 306.422598 324.134854 274.597395 326.869707 307.616668 329.604561 285.676915 332.339415 312.906336 335.074268 301.179577 337.809122 367.681108 340.543975 321.573862 343.278829 273.766346 346.013683 262.389215 348.748536 295.690065 351.483390 380.657453 354.218244 206.946228 356.953097 288.230021 359.687951 339.009189 362.422805 304.012315 365.157658 247.083884 367.892512 247.960993 370.627366 285.792331 373.362219 337.207145 376.097073 295.092368 378.831926 284.783830 381.566780 300.383039 384.301634 336.526754 387.036487 317.332339 389.771341 300.087093 392.506195 316.817774 395.241048 315.878398 397.975902 342.253987 400.710756 282.647353 403.445609 266.294467 406.180463 284.935010 408.915317 320.608679 411.650170 294.736244 414.385024 331.239705 417.119877 331.301546 419.854731 340.122658 422.589585 318.734807 425.324438 368.046134 428.059292 306.595059 430.794146 383.314662 433.528999 364.067223 436.263853 351.784780 438.998707 316.424714 441.733560 334.378742 444.468414 299.924626 447.203268 322.509403 449.938121 349.924211 452.672975 362.585993 455.407828 351.507705 458.142682 383.089221 460.877536 349.387760 463.612389 368.199684 466.347243 343.339378 469.082097 338.961915 471.816950 369.153701 474.551804 351.286800 477.286658 352.307736 480.021511 358.912883 482.756365 369.268943 485.491219 456.372338 488.226072 398.990696 490.960926 366.319058 493.695779 299.092293 496.430633 292.157463 499.165487 271.818793 501.900340 324.747788 504.635194 289.287565 507.370048 263.812210 510.104901 299.565046 512.839755 299.631745 515.574609 348.259463 518.309462 329.371456 521.044316 306.299484 523.779170 287.050793 526.514023 304.238954 529.248877 288.299584 531.983730 284.686245 534.718584 287.311946 537.453438 306.187052 540.188291 292.412158 542.923145 297.403386 545.657999 302.035944 548.392852 308.148562 551.127706 282.961686 553.862560 197.969508 556.597413 224.146052 559.332267 208.704216 562.067120 166.928039 564.801974 194.857853 567.536828 47.419799 570.271681 206.297714 573.006535 228.366044 575.741389 182.396322 578.476242 178.133087 581.211096 238.204377 583.945950 212.230607 586.680803 194.213027 589.415657 255.292343 592.150511 256.024880 594.885364 203.752940 597.620218 220.031415 600.355071 223.162752 603.089925 251.999783 605.824779 254.904551 608.559632 274.744567 611.294486 264.299176 614.029340 286.380586 616.764193 257.474345 619.499047 282.345816 622.233901 287.785662 624.968754 281.714826 627.703608 246.608180 630.438462 301.815562 630.438462 302.976495 627.703608 248.418824 624.968754 285.655276 622.233901 291.186428 619.499047 285.343370 616.764193 260.277201 614.029340 288.121031 611.294486 267.007203 608.559632 277.712908 605.824779 258.184925 603.089925 254.479030 600.355071 227.634254 597.620218 224.665963 594.885364 207.378409 592.150511 260.401094 589.415657 258.517955 586.680803 199.845183 583.945950 220.982850 581.211096 242.047689 578.476242 184.665119 575.741389 188.164732 573.006535 234.815449 570.271681 213.189308 567.536828 54.423326 564.801974 198.492299 562.067120 171.059126 559.332267 215.010924 556.597413 230.151231 553.862560 203.540499 551.127706 287.636507 548.392852 312.808923 545.657999 308.525661 542.923145 301.911955 540.188291 297.308328 537.453438 311.261977 534.718584 293.328705 531.983730 291.265093 529.248877 294.338193 526.514023 309.926347 523.779170 294.396642 521.044316 311.231258 518.309462 334.301187 515.574609 351.980705 512.839755 304.927819 510.104901 307.061567 507.370048 273.257462 504.635194 295.926159 501.900340 327.751818 499.165487 276.484772 496.430633 296.972489 493.695779 305.587182 490.960926 369.765467 488.226072 400.710554 485.491219 457.650471 482.756365 372.405137 480.021511 361.697559 477.286658 353.793004 474.551804 353.605248 471.816950 372.221536 469.082097 341.793699 466.347243 346.316329 463.612389 370.272963 460.877536 351.830642 458.142682 385.386053 455.407828 352.781785 452.672975 366.638908 449.938121 351.576695 447.203268 325.850830 444.468414 302.706750 441.733560 336.665701 438.998707 320.977739 436.263853 354.532351 433.528999 366.231579 430.794146 387.392349 428.059292 309.024974 425.324438 370.165677 422.589585 321.290407 419.854731 342.087570 417.119877 333.703101 414.385024 333.688930 411.650170 298.052590 408.915317 322.733783 406.180463 287.084426 403.445609 268.641578 400.710756 284.649344 397.975902 345.032263 395.241048 318.993494 392.506195 319.500278 389.771341 303.178841 387.036487 319.681590 384.301634 338.086815 381.566780 303.264138 378.831926 289.592567 376.097073 298.290925 373.362219 338.898195 370.627366 288.275941 367.892512 251.966349 365.157658 251.671006 362.422805 306.564347 359.687951 342.776395 356.953097 297.382543 354.218244 213.120672 351.483390 382.622665 348.748536 299.261360 346.013683 266.323700 343.278829 276.879246 340.543975 323.308967 337.809122 368.660821 335.074268 303.851556 332.339415 315.366704 329.604561 288.021080 326.869707 310.666239 324.134854 276.787721 321.400000 307.972188 318.665146 290.320339 315.930293 290.568559 313.195439 363.216531 310.460585 311.073130 307.725732 282.424334 304.990878 388.668431 302.256025 271.843516 299.521171 425.575979 296.786317 307.142991 294.051464 349.161998 291.316610 343.332717 288.581756 364.974540 285.846903 369.446464 283.112049 351.092265 280.377195 327.390474 277.642342 360.812598 274.907488 393.014409 272.172634 381.363938 269.437781 350.549402 266.702927 380.016932 263.968074 377.751699 261.233220 365.588198 258.498366 332.149310 255.763513 362.341496 253.028659 402.994525 250.293805 342.931641 247.558952 349.215852 244.824098 365.146509 242.089244 399.924114 239.354391 320.178959 236.619537 408.000995 233.884683 468.489694 231.149830 393.518729 228.414976 377.555613 225.680123 347.387111 222.945269 339.258827 220.210415 454.970298 217.475562 451.711675 214.740708 441.109723 212.005854 439.360638 209.271001 427.251836 206.536147 446.845982 203.801293 447.269064 201.066440 469.532792 198.331586 435.186410 195.596732 439.775624 192.861879 435.515192 190.127025 449.458495 187.392172 445.921027 184.657318 442.927750 181.922464 418.518488 179.187611 412.288727 176.452757 443.234022 173.717903 475.095576 170.983050 407.534358 168.248196 273.908721 165.513342 424.378825 162.778489 433.336138 160.043635 417.398262 157.308781 428.481062 154.573928 438.074256 151.839074 460.610512 149.104221 452.866063 146.369367 450.867232 143.634513 458.713099 140.899660 460.626328 138.164806 473.083704 135.429952 454.141286 132.695099 464.411863 129.960245 471.544838 127.225391 490.574066 124.490538 485.553198 121.755684 474.839285 119.020830 469.514928 116.285977 466.196218 113.551123 465.348844 110.816270 458.852602 108.081416 469.800398 105.346562 453.884276 102.611709 393.598841 99.876855 463.516815 97.142001 481.447062 94.407148 473.022382 91.672294 424.998503 88.937440 446.555597 86.202587 453.942150 83.467733 445.809453 80.732880 441.216705 77.998026 462.580875 75.263172 452.916749 72.528319 458.026209 69.793465 479.982589 67.058611 485.256254 64.323758 472.897670 61.588904 471.663088 58.854050 484.423881 56.119197 473.895063 53.384343 488.543685 50.649489 473.161009 47.914636 469.147953 45.179782 408.048215 42.444929 483.909601 39.710075 478.091653 36.975221 476.740652 34.240368 487.222766 31.505514 481.170216 28.770660 477.902256 26.035807 503.435950 23.300953 520.821828 20.566099 522.661768 17.831246 520.612058 15.096392 521.152320 12.361538 521.382283\"/></g><g class=\"series serie-45 color-45\"><path class=\"line reactive\" d=\"M12.361538 521.084988 L15.096392 521.076289 17.831246 520.560172 20.566099 522.361538 23.300953 520.546838 26.035807 501.942657 28.770660 476.190910 31.505514 479.756404 34.240368 485.832232 36.975221 474.916496 39.710075 475.821851 42.444929 482.891509 45.179782 404.699642 47.914636 467.658377 50.649489 472.145778 53.384343 487.411821 56.119197 473.312656 58.854050 483.710005 61.588904 471.070003 64.323758 471.500093 67.058611 484.410872 69.793465 479.582493 72.528319 454.617667 75.263172 448.035723 77.998026 459.546103 80.732880 437.346213 83.467733 442.470358 86.202587 448.587856 88.937440 440.429725 91.672294 419.914193 94.407148 468.179436 97.142001 475.599693 99.876855 458.345456 102.611709 386.862715 105.346562 447.279714 108.081416 465.782816 110.816270 454.676171 113.551123 463.197760 116.285977 462.663687 119.020830 466.341300 121.755684 471.310202 124.490538 482.645149 127.225391 489.267634 129.960245 467.692961 132.695099 459.949508 135.429952 449.626944 138.164806 470.347235 140.899660 457.555802 143.634513 453.881721 146.369367 446.903763 149.104221 449.521551 151.839074 455.557496 154.573928 434.951651 157.308781 424.923450 160.043635 413.574597 162.778489 428.686588 165.513342 421.618691 168.248196 258.412913 170.983050 400.637483 173.717903 473.238956 176.452757 440.624998 179.187611 407.475128 181.922464 413.363032 184.657318 437.139136 187.392172 443.350486 190.127025 444.892332 192.861879 430.571276 195.596732 435.298697 198.331586 429.612072 201.066440 466.378807 203.801293 443.041542 206.536147 442.209013 209.271001 421.828105 212.005854 435.134807 214.740708 432.192301 217.475562 445.813351 220.210415 450.883053 222.945269 327.054029 225.680123 335.086194 228.414976 367.253472 231.149830 387.744422 233.884683 465.399249 236.619537 404.487046 239.354391 313.642852 242.089244 396.836316 244.824098 360.314082 247.558952 342.367739 250.293805 336.336089 253.028659 400.374191 255.763513 358.471833 258.498366 327.456286 261.233220 361.224372 263.968074 374.201533 266.702927 374.645399 269.437781 343.683078 272.172634 376.616881 274.907488 386.510820 277.642342 354.914089 280.377195 322.710412 283.112049 347.487781 285.846903 367.106805 288.581756 359.665943 291.316610 338.655396 294.051464 344.636106 296.786317 301.118340 299.521171 421.650281 302.256025 264.188076 304.990878 386.675464 307.725732 275.701254 310.460585 303.279644 313.195439 358.973920 315.930293 284.062796 318.665146 286.687869 321.400000 304.047754 324.134854 272.389142 326.869707 305.540850 329.604561 282.546453 332.339415 310.523666 335.074268 299.715234 337.809122 366.233742 340.543975 319.516106 343.278829 271.358707 346.013683 259.207730 348.748536 293.213922 351.483390 379.415552 354.218244 199.248523 356.953097 284.758071 359.687951 337.725737 362.422805 300.660276 365.157658 240.697192 367.892512 241.019973 370.627366 282.178204 373.362219 332.964384 376.097073 292.069444 378.831926 281.406031 381.566780 296.329942 384.301634 334.776668 387.036487 313.815950 389.771341 296.517181 392.506195 313.566241 395.241048 311.528514 397.975902 339.485886 400.710756 278.799329 403.445609 263.131049 406.180463 280.760087 408.915317 318.197966 411.650170 292.237620 414.385024 327.841946 417.119877 330.089259 419.854731 338.612822 422.589585 315.969751 425.324438 366.109955 428.059292 304.247337 430.794146 382.083637 433.528999 362.980182 436.263853 348.090258 438.998707 313.770383 441.733560 331.268795 444.468414 297.073424 447.203268 318.943344 449.938121 347.784730 452.672975 361.097932 455.407828 349.101610 458.142682 381.494268 460.877536 347.300757 463.612389 365.765702 466.347243 341.798090 469.082097 337.390330 471.816950 366.837106 474.551804 350.140432 477.286658 350.951854 480.021511 357.550971 482.756365 367.333119 485.491219 454.919303 488.226072 397.283529 490.960926 364.730391 493.695779 294.575030 496.430633 286.193657 499.165487 264.062812 501.900340 318.811468 504.635194 284.183557 507.370048 258.322447 510.104901 295.109100 512.839755 295.609309 515.574609 344.683645 518.309462 326.978489 521.044316 302.697597 523.779170 282.986480 526.514023 296.419745 529.248877 282.241339 531.983730 277.560072 534.718584 280.481385 537.453438 301.805034 540.188291 288.233104 542.923145 292.520904 545.657999 296.664132 548.392852 305.380491 551.127706 277.812846 553.862560 188.757519 556.597413 214.650495 559.332267 199.947698 562.067120 158.510332 564.801974 185.029712 567.536828 28.592532 570.271681 199.517084 573.006535 223.470403 575.741389 175.463440 578.476242 171.502497 581.211096 232.508175 583.945950 204.122780 586.680803 186.432325 589.415657 250.954524 592.150511 250.802525 594.885364 195.294382 597.620218 213.823347 600.355071 218.921693 603.089925 247.772868 605.824779 250.320992 608.559632 269.639920 611.294486 255.758404 614.029340 281.300187 616.764193 248.585594 619.499047 271.831378 622.233901 282.109577 624.968754 273.442563 627.703608 234.302584 630.438462 290.262860 630.438462 301.815562 627.703608 246.608180 624.968754 281.714826 622.233901 287.785662 619.499047 282.345816 616.764193 257.474345 614.029340 286.380586 611.294486 264.299176 608.559632 274.744567 605.824779 254.904551 603.089925 251.999783 600.355071 223.162752 597.620218 220.031415 594.885364 203.752940 592.150511 256.024880 589.415657 255.292343 586.680803 194.213027 583.945950 212.230607 581.211096 238.204377 578.476242 178.133087 575.741389 182.396322 573.006535 228.366044 570.271681 206.297714 567.536828 47.419799 564.801974 194.857853 562.067120 166.928039 559.332267 208.704216 556.597413 224.146052 553.862560 197.969508 551.127706 282.961686 548.392852 308.148562 545.657999 302.035944 542.923145 297.403386 540.188291 292.412158 537.453438 306.187052 534.718584 287.311946 531.983730 284.686245 529.248877 288.299584 526.514023 304.238954 523.779170 287.050793 521.044316 306.299484 518.309462 329.371456 515.574609 348.259463 512.839755 299.631745 510.104901 299.565046 507.370048 263.812210 504.635194 289.287565 501.900340 324.747788 499.165487 271.818793 496.430633 292.157463 493.695779 299.092293 490.960926 366.319058 488.226072 398.990696 485.491219 456.372338 482.756365 369.268943 480.021511 358.912883 477.286658 352.307736 474.551804 351.286800 471.816950 369.153701 469.082097 338.961915 466.347243 343.339378 463.612389 368.199684 460.877536 349.387760 458.142682 383.089221 455.407828 351.507705 452.672975 362.585993 449.938121 349.924211 447.203268 322.509403 444.468414 299.924626 441.733560 334.378742 438.998707 316.424714 436.263853 351.784780 433.528999 364.067223 430.794146 383.314662 428.059292 306.595059 425.324438 368.046134 422.589585 318.734807 419.854731 340.122658 417.119877 331.301546 414.385024 331.239705 411.650170 294.736244 408.915317 320.608679 406.180463 284.935010 403.445609 266.294467 400.710756 282.647353 397.975902 342.253987 395.241048 315.878398 392.506195 316.817774 389.771341 300.087093 387.036487 317.332339 384.301634 336.526754 381.566780 300.383039 378.831926 284.783830 376.097073 295.092368 373.362219 337.207145 370.627366 285.792331 367.892512 247.960993 365.157658 247.083884 362.422805 304.012315 359.687951 339.009189 356.953097 288.230021 354.218244 206.946228 351.483390 380.657453 348.748536 295.690065 346.013683 262.389215 343.278829 273.766346 340.543975 321.573862 337.809122 367.681108 335.074268 301.179577 332.339415 312.906336 329.604561 285.676915 326.869707 307.616668 324.134854 274.597395 321.400000 306.422598 318.665146 288.486583 315.930293 286.288604 313.195439 360.970454 310.460585 305.725590 307.725732 279.416776 304.990878 387.391980 302.256025 268.218114 299.521171 423.118869 296.786317 304.480339 294.051464 347.620055 291.316610 341.847027 288.581756 363.314875 285.846903 368.279959 283.112049 349.215203 280.377195 326.316803 277.642342 357.888846 274.907488 389.236194 272.172634 379.253215 269.437781 347.469575 266.702927 376.906438 263.968074 376.173617 261.233220 363.911380 258.498366 330.910714 255.763513 361.601816 253.028659 402.111973 250.293805 340.708976 247.558952 346.881348 244.824098 363.390908 242.089244 398.854650 239.354391 318.017821 236.619537 406.617181 233.884683 466.466713 231.149830 390.821069 228.414976 373.040357 225.680123 343.458275 222.945269 333.976238 220.210415 453.179123 217.475562 448.902233 214.740708 435.203380 212.005854 437.669240 209.271001 426.217933 206.536147 444.707305 203.801293 445.805516 201.066440 467.786607 198.331586 432.543970 195.596732 437.516325 192.861879 433.231477 190.127025 447.239635 187.392172 445.140909 184.657318 440.009006 181.922464 416.010412 179.187611 410.692662 176.452757 442.463652 173.717903 474.337130 170.983050 405.914426 168.248196 272.755602 165.513342 423.229856 162.778489 430.878378 160.043635 415.714814 157.308781 427.414807 154.573928 437.641271 151.839074 459.034661 149.104221 452.011151 146.369367 449.958249 143.634513 458.030425 140.899660 459.736528 138.164806 472.138104 135.429952 452.604623 132.695099 462.281484 129.960245 470.313162 127.225391 490.469851 124.490538 484.558673 121.755684 472.608247 119.020830 467.623702 116.285977 464.567711 113.551123 464.356900 110.816270 456.993434 108.081416 467.540048 105.346562 450.743887 102.611709 391.993029 99.876855 462.224402 97.142001 478.356387 94.407148 470.474817 91.672294 423.381879 88.937440 442.953768 86.202587 450.854622 83.467733 444.259647 80.732880 439.791807 77.998026 461.667593 75.263172 451.257671 72.528319 455.761158 69.793465 479.829685 67.058611 484.722216 64.323758 472.297606 61.588904 471.203887 58.854050 483.879014 56.119197 473.472837 53.384343 488.097449 50.649489 472.852795 47.914636 467.960203 45.179782 406.940625 42.444929 483.346648 39.710075 477.199670 36.975221 475.722197 34.240368 486.908667 31.505514 480.777367 28.770660 477.370797 26.035807 502.959529 23.300953 520.821828 20.566099 522.513598 17.831246 520.607568 15.096392 521.152320 12.361538 521.355343\"/></g><g class=\"series serie-46 color-46\"><path class=\"line reactive\" d=\"M12.361538 521.084988 L15.096392 521.064028 17.831246 520.546183 20.566099 522.361538 23.300953 520.510911 26.035807 501.552321 28.770660 474.809295 31.505514 478.405988 34.240368 485.139893 36.975221 470.137084 39.710075 473.083995 42.444929 480.759036 45.179782 398.775642 47.914636 465.614069 50.649489 468.152734 53.384343 487.021961 56.119197 466.322375 58.854050 482.214987 61.588904 468.397248 64.323758 470.307485 67.058611 481.414125 69.793465 473.252339 72.528319 450.282764 75.263172 442.132987 77.998026 457.629005 80.732880 431.963787 83.467733 440.160143 86.202587 447.731278 88.937440 433.194189 91.672294 417.584093 94.407148 465.693525 97.142001 472.098548 99.876855 455.681841 102.611709 384.706025 105.346562 441.854009 108.081416 455.660395 110.816270 440.958923 113.551123 456.629396 116.285977 460.295773 119.020830 465.877927 121.755684 466.024397 124.490538 478.272051 127.225391 488.943567 129.960245 465.407462 132.695099 458.234917 135.429952 445.415770 138.164806 469.051810 140.899660 456.463053 143.634513 452.212252 146.369367 444.537458 149.104221 446.535259 151.839074 455.174821 154.573928 430.158722 157.308781 424.290244 160.043635 411.757508 162.778489 426.672657 165.513342 419.757578 168.248196 253.790054 170.983050 397.625436 173.717903 470.648693 176.452757 435.174322 179.187611 405.504967 181.922464 408.223978 184.657318 436.727910 187.392172 436.130527 190.127025 442.305504 192.861879 429.013637 195.596732 431.532936 198.331586 422.366035 201.066440 459.135890 203.801293 439.711603 206.536147 438.672780 209.271001 414.569263 212.005854 430.749050 214.740708 429.059378 217.475562 445.190263 220.210415 444.658837 222.945269 323.188487 225.680123 331.445263 228.414976 363.140254 231.149830 384.121614 233.884683 457.677884 236.619537 398.903682 239.354391 307.113608 242.089244 391.930180 244.824098 354.874258 247.558952 338.519017 250.293805 334.838502 253.028659 391.764229 255.763513 356.710856 258.498366 324.151421 261.233220 358.708768 263.968074 367.910238 266.702927 366.810828 269.437781 336.786165 272.172634 368.622791 274.907488 377.937099 277.642342 351.750622 280.377195 317.112382 283.112049 345.502818 285.846903 358.972168 288.581756 355.180975 291.316610 335.920571 294.051464 339.559848 296.786317 293.343090 299.521171 409.808160 302.256025 259.931944 304.990878 383.135344 307.725732 264.169646 310.460585 297.258385 313.195439 356.869258 315.930293 283.597833 318.665146 275.932505 321.400000 301.129672 324.134854 268.231758 326.869707 301.431629 329.604561 273.275843 332.339415 302.030842 335.074268 296.892461 337.809122 360.555906 340.543975 314.246137 343.278829 262.410764 346.013683 256.709172 348.748536 291.888217 351.483390 371.524537 354.218244 194.120889 356.953097 282.694910 359.687951 334.351160 362.422805 296.178981 365.157658 234.042625 367.892512 236.584357 370.627366 275.456869 373.362219 327.415765 376.097073 285.883013 378.831926 279.501784 381.566780 295.262278 384.301634 326.868718 387.036487 309.637279 389.771341 293.111531 392.506195 310.474114 395.241048 307.591672 397.975902 333.783111 400.710756 275.711682 403.445609 258.231423 406.180463 274.515158 408.915317 314.166399 411.650170 291.211339 414.385024 326.693115 417.119877 325.446068 419.854731 336.183310 422.589585 313.584114 425.324438 363.761242 428.059292 301.098944 430.794146 377.262194 433.528999 362.182662 436.263853 346.251103 438.998707 310.229720 441.733560 326.906600 444.468414 296.317776 447.203268 318.487710 449.938121 342.730042 452.672975 358.218622 455.407828 345.742901 458.142682 380.413759 460.877536 345.226318 463.612389 361.932982 466.347243 340.032304 469.082097 334.859131 471.816950 362.263051 474.551804 345.801459 477.286658 349.334271 480.021511 356.947862 482.756365 365.293816 485.491219 454.503705 488.226072 395.174926 490.960926 363.542187 493.695779 292.546821 496.430633 283.927945 499.165487 263.019973 501.900340 315.880491 504.635194 280.661888 507.370048 253.189358 510.104901 294.075477 512.839755 294.427133 515.574609 339.169570 518.309462 322.961718 521.044316 301.588085 523.779170 278.942855 526.514023 294.489413 529.248877 280.891694 531.983730 273.656203 534.718584 278.728481 537.453438 299.094513 540.188291 284.967985 542.923145 290.915819 545.657999 295.569305 548.392852 301.674640 551.127706 275.820609 553.862560 185.143584 556.597413 211.185219 559.332267 198.490755 562.067120 154.606822 564.801974 182.255624 567.536828 25.541676 570.271681 196.897345 573.006535 216.527717 575.741389 174.773453 578.476242 170.249987 581.211096 226.674611 583.945950 201.127899 586.680803 182.396267 589.415657 244.182425 592.150511 243.526912 594.885364 191.831827 597.620218 208.333347 600.355071 212.413037 603.089925 243.772640 605.824779 244.128440 608.559632 268.774318 611.294486 254.658366 614.029340 278.392079 616.764193 247.871712 619.499047 269.988079 622.233901 280.738499 624.968754 271.888799 627.703608 230.809707 630.438462 289.314610 630.438462 290.262860 627.703608 234.302584 624.968754 273.442563 622.233901 282.109577 619.499047 271.831378 616.764193 248.585594 614.029340 281.300187 611.294486 255.758404 608.559632 269.639920 605.824779 250.320992 603.089925 247.772868 600.355071 218.921693 597.620218 213.823347 594.885364 195.294382 592.150511 250.802525 589.415657 250.954524 586.680803 186.432325 583.945950 204.122780 581.211096 232.508175 578.476242 171.502497 575.741389 175.463440 573.006535 223.470403 570.271681 199.517084 567.536828 28.592532 564.801974 185.029712 562.067120 158.510332 559.332267 199.947698 556.597413 214.650495 553.862560 188.757519 551.127706 277.812846 548.392852 305.380491 545.657999 296.664132 542.923145 292.520904 540.188291 288.233104 537.453438 301.805034 534.718584 280.481385 531.983730 277.560072 529.248877 282.241339 526.514023 296.419745 523.779170 282.986480 521.044316 302.697597 518.309462 326.978489 515.574609 344.683645 512.839755 295.609309 510.104901 295.109100 507.370048 258.322447 504.635194 284.183557 501.900340 318.811468 499.165487 264.062812 496.430633 286.193657 493.695779 294.575030 490.960926 364.730391 488.226072 397.283529 485.491219 454.919303 482.756365 367.333119 480.021511 357.550971 477.286658 350.951854 474.551804 350.140432 471.816950 366.837106 469.082097 337.390330 466.347243 341.798090 463.612389 365.765702 460.877536 347.300757 458.142682 381.494268 455.407828 349.101610 452.672975 361.097932 449.938121 347.784730 447.203268 318.943344 444.468414 297.073424 441.733560 331.268795 438.998707 313.770383 436.263853 348.090258 433.528999 362.980182 430.794146 382.083637 428.059292 304.247337 425.324438 366.109955 422.589585 315.969751 419.854731 338.612822 417.119877 330.089259 414.385024 327.841946 411.650170 292.237620 408.915317 318.197966 406.180463 280.760087 403.445609 263.131049 400.710756 278.799329 397.975902 339.485886 395.241048 311.528514 392.506195 313.566241 389.771341 296.517181 387.036487 313.815950 384.301634 334.776668 381.566780 296.329942 378.831926 281.406031 376.097073 292.069444 373.362219 332.964384 370.627366 282.178204 367.892512 241.019973 365.157658 240.697192 362.422805 300.660276 359.687951 337.725737 356.953097 284.758071 354.218244 199.248523 351.483390 379.415552 348.748536 293.213922 346.013683 259.207730 343.278829 271.358707 340.543975 319.516106 337.809122 366.233742 335.074268 299.715234 332.339415 310.523666 329.604561 282.546453 326.869707 305.540850 324.134854 272.389142 321.400000 304.047754 318.665146 286.687869 315.930293 284.062796 313.195439 358.973920 310.460585 303.279644 307.725732 275.701254 304.990878 386.675464 302.256025 264.188076 299.521171 421.650281 296.786317 301.118340 294.051464 344.636106 291.316610 338.655396 288.581756 359.665943 285.846903 367.106805 283.112049 347.487781 280.377195 322.710412 277.642342 354.914089 274.907488 386.510820 272.172634 376.616881 269.437781 343.683078 266.702927 374.645399 263.968074 374.201533 261.233220 361.224372 258.498366 327.456286 255.763513 358.471833 253.028659 400.374191 250.293805 336.336089 247.558952 342.367739 244.824098 360.314082 242.089244 396.836316 239.354391 313.642852 236.619537 404.487046 233.884683 465.399249 231.149830 387.744422 228.414976 367.253472 225.680123 335.086194 222.945269 327.054029 220.210415 450.883053 217.475562 445.813351 214.740708 432.192301 212.005854 435.134807 209.271001 421.828105 206.536147 442.209013 203.801293 443.041542 201.066440 466.378807 198.331586 429.612072 195.596732 435.298697 192.861879 430.571276 190.127025 444.892332 187.392172 443.350486 184.657318 437.139136 181.922464 413.363032 179.187611 407.475128 176.452757 440.624998 173.717903 473.238956 170.983050 400.637483 168.248196 258.412913 165.513342 421.618691 162.778489 428.686588 160.043635 413.574597 157.308781 424.923450 154.573928 434.951651 151.839074 455.557496 149.104221 449.521551 146.369367 446.903763 143.634513 453.881721 140.899660 457.555802 138.164806 470.347235 135.429952 449.626944 132.695099 459.949508 129.960245 467.692961 127.225391 489.267634 124.490538 482.645149 121.755684 471.310202 119.020830 466.341300 116.285977 462.663687 113.551123 463.197760 110.816270 454.676171 108.081416 465.782816 105.346562 447.279714 102.611709 386.862715 99.876855 458.345456 97.142001 475.599693 94.407148 468.179436 91.672294 419.914193 88.937440 440.429725 86.202587 448.587856 83.467733 442.470358 80.732880 437.346213 77.998026 459.546103 75.263172 448.035723 72.528319 454.617667 69.793465 479.582493 67.058611 484.410872 64.323758 471.500093 61.588904 471.070003 58.854050 483.710005 56.119197 473.312656 53.384343 487.411821 50.649489 472.145778 47.914636 467.658377 45.179782 404.699642 42.444929 482.891509 39.710075 475.821851 36.975221 474.916496 34.240368 485.832232 31.505514 479.756404 28.770660 476.190910 26.035807 501.942657 23.300953 520.546838 20.566099 522.361538 17.831246 520.560172 15.096392 521.076289 12.361538 521.084988\"/></g><g class=\"series serie-47 color-47\"><path class=\"line reactive\" d=\"M12.361538 520.992308 L15.096392 521.020867 17.831246 520.343372 20.566099 522.361538 23.300953 520.382691 26.035807 501.480089 28.770660 473.400240 31.505514 477.823212 34.240368 484.608683 36.975221 469.773435 39.710075 472.828374 42.444929 480.133165 45.179782 397.631430 47.914636 465.068957 50.649489 467.806011 53.384343 486.578879 56.119197 466.153253 58.854050 482.026780 61.588904 468.006987 64.323758 469.726951 67.058611 481.243349 69.793465 473.058136 72.528319 449.256178 75.263172 441.476396 77.998026 455.874221 80.732880 430.863168 83.467733 439.289724 86.202587 447.243983 88.937440 431.976453 91.672294 416.544290 94.407148 464.520348 97.142001 471.208897 99.876855 454.834454 102.611709 383.238007 105.346562 440.562737 108.081416 454.491407 110.816270 439.843530 113.551123 455.808256 116.285977 458.899857 119.020830 465.309915 121.755684 465.221801 124.490538 477.730821 127.225391 488.566956 129.960245 464.873819 132.695099 456.253876 135.429952 444.466486 138.164806 468.543339 140.899660 455.830722 143.634513 451.422048 146.369367 442.573738 149.104221 445.995798 151.839074 453.817700 154.573928 428.672018 157.308781 422.383556 160.043635 410.585241 162.778489 425.063680 165.513342 418.321017 168.248196 250.452468 170.983050 396.112423 173.717903 469.609272 176.452757 433.433565 179.187611 404.030713 181.922464 405.778328 184.657318 435.754928 187.392172 434.434335 190.127025 441.350250 192.861879 428.060673 195.596732 430.436325 198.331586 421.215511 201.066440 458.607342 203.801293 439.403536 206.536147 438.067971 209.271001 412.604325 212.005854 430.003925 214.740708 427.479918 217.475562 443.919885 220.210415 442.268971 222.945269 319.080223 225.680123 327.397359 228.414976 360.724209 231.149830 380.974519 233.884683 457.081934 236.619537 395.287301 239.354391 303.818431 242.089244 389.847272 244.824098 352.633676 247.558952 336.685057 250.293805 331.831550 253.028659 390.130480 255.763513 353.586499 258.498366 321.511356 261.233220 357.673917 263.968074 366.304561 266.702927 365.854808 269.437781 335.095437 272.172634 368.063222 274.907488 375.811798 277.642342 349.185979 280.377195 315.574928 283.112049 343.860040 285.846903 357.794642 288.581756 353.220288 291.316610 333.783456 294.051464 337.163743 296.786317 291.172134 299.521171 409.131960 302.256025 255.287237 304.990878 381.346231 307.725732 262.861785 310.460585 295.029494 313.195439 354.613554 315.930293 280.600757 318.665146 273.767100 321.400000 299.023148 324.134854 266.523039 326.869707 300.302206 329.604561 271.943555 332.339415 300.280205 335.074268 295.175253 337.809122 359.842742 340.543975 312.746095 343.278829 261.353502 346.013683 255.499128 348.748536 289.735048 351.483390 370.436905 354.218244 192.738549 356.953097 281.220281 359.687951 332.783822 362.422805 295.471475 365.157658 231.966020 367.892512 235.124132 370.627366 274.384771 373.362219 326.393848 376.097073 284.146890 378.831926 277.581017 381.566780 293.367961 384.301634 325.906347 387.036487 308.120350 389.771341 291.518772 392.506195 309.528981 395.241048 306.418442 397.975902 332.510491 400.710756 274.009163 403.445609 256.316572 406.180463 273.655473 408.915317 312.833845 411.650170 290.277907 414.385024 325.860258 417.119877 324.673913 419.854731 334.793445 422.589585 312.139984 425.324438 362.196431 428.059292 298.912350 430.794146 375.809762 433.528999 359.971562 436.263853 344.928777 438.998707 308.564366 441.733560 324.718190 444.468414 293.593838 447.203268 315.337336 449.938121 340.926883 452.672975 355.049545 455.407828 344.024205 458.142682 378.527192 460.877536 344.285631 463.612389 359.683570 466.347243 337.635393 469.082097 334.261741 471.816950 360.964567 474.551804 344.379110 477.286658 347.862952 480.021511 355.437559 482.756365 363.822823 485.491219 453.609533 488.226072 394.345910 490.960926 361.158997 493.695779 288.065120 496.430633 279.971408 499.165487 256.782377 501.900340 306.289871 504.635194 270.676799 507.370048 247.157973 510.104901 288.846467 512.839755 287.949714 515.574609 334.338151 518.309462 318.052433 521.044316 296.468085 523.779170 273.193419 526.514023 290.725604 529.248877 274.824949 531.983730 268.258915 534.718584 274.120647 537.453438 295.441951 540.188291 280.435802 542.923145 288.399962 545.657999 291.822710 548.392852 297.712548 551.127706 271.116259 553.862560 180.777851 556.597413 204.529869 559.332267 194.528608 562.067120 150.307292 564.801974 171.151886 567.536828 13.405999 570.271681 190.470566 573.006535 208.462184 575.741389 169.460651 578.476242 164.926871 581.211096 222.450653 583.945950 197.642584 586.680803 176.531800 589.415657 238.843204 592.150511 234.365988 594.885364 184.059549 597.620218 203.103491 600.355071 204.575423 603.089925 240.491698 605.824779 241.125207 608.559632 265.407582 611.294486 252.029362 614.029340 277.162632 616.764193 246.155102 619.499047 267.714326 622.233901 278.583234 624.968754 269.664643 627.703608 226.043282 630.438462 284.866149 630.438462 289.314610 627.703608 230.809707 624.968754 271.888799 622.233901 280.738499 619.499047 269.988079 616.764193 247.871712 614.029340 278.392079 611.294486 254.658366 608.559632 268.774318 605.824779 244.128440 603.089925 243.772640 600.355071 212.413037 597.620218 208.333347 594.885364 191.831827 592.150511 243.526912 589.415657 244.182425 586.680803 182.396267 583.945950 201.127899 581.211096 226.674611 578.476242 170.249987 575.741389 174.773453 573.006535 216.527717 570.271681 196.897345 567.536828 25.541676 564.801974 182.255624 562.067120 154.606822 559.332267 198.490755 556.597413 211.185219 553.862560 185.143584 551.127706 275.820609 548.392852 301.674640 545.657999 295.569305 542.923145 290.915819 540.188291 284.967985 537.453438 299.094513 534.718584 278.728481 531.983730 273.656203 529.248877 280.891694 526.514023 294.489413 523.779170 278.942855 521.044316 301.588085 518.309462 322.961718 515.574609 339.169570 512.839755 294.427133 510.104901 294.075477 507.370048 253.189358 504.635194 280.661888 501.900340 315.880491 499.165487 263.019973 496.430633 283.927945 493.695779 292.546821 490.960926 363.542187 488.226072 395.174926 485.491219 454.503705 482.756365 365.293816 480.021511 356.947862 477.286658 349.334271 474.551804 345.801459 471.816950 362.263051 469.082097 334.859131 466.347243 340.032304 463.612389 361.932982 460.877536 345.226318 458.142682 380.413759 455.407828 345.742901 452.672975 358.218622 449.938121 342.730042 447.203268 318.487710 444.468414 296.317776 441.733560 326.906600 438.998707 310.229720 436.263853 346.251103 433.528999 362.182662 430.794146 377.262194 428.059292 301.098944 425.324438 363.761242 422.589585 313.584114 419.854731 336.183310 417.119877 325.446068 414.385024 326.693115 411.650170 291.211339 408.915317 314.166399 406.180463 274.515158 403.445609 258.231423 400.710756 275.711682 397.975902 333.783111 395.241048 307.591672 392.506195 310.474114 389.771341 293.111531 387.036487 309.637279 384.301634 326.868718 381.566780 295.262278 378.831926 279.501784 376.097073 285.883013 373.362219 327.415765 370.627366 275.456869 367.892512 236.584357 365.157658 234.042625 362.422805 296.178981 359.687951 334.351160 356.953097 282.694910 354.218244 194.120889 351.483390 371.524537 348.748536 291.888217 346.013683 256.709172 343.278829 262.410764 340.543975 314.246137 337.809122 360.555906 335.074268 296.892461 332.339415 302.030842 329.604561 273.275843 326.869707 301.431629 324.134854 268.231758 321.400000 301.129672 318.665146 275.932505 315.930293 283.597833 313.195439 356.869258 310.460585 297.258385 307.725732 264.169646 304.990878 383.135344 302.256025 259.931944 299.521171 409.808160 296.786317 293.343090 294.051464 339.559848 291.316610 335.920571 288.581756 355.180975 285.846903 358.972168 283.112049 345.502818 280.377195 317.112382 277.642342 351.750622 274.907488 377.937099 272.172634 368.622791 269.437781 336.786165 266.702927 366.810828 263.968074 367.910238 261.233220 358.708768 258.498366 324.151421 255.763513 356.710856 253.028659 391.764229 250.293805 334.838502 247.558952 338.519017 244.824098 354.874258 242.089244 391.930180 239.354391 307.113608 236.619537 398.903682 233.884683 457.677884 231.149830 384.121614 228.414976 363.140254 225.680123 331.445263 222.945269 323.188487 220.210415 444.658837 217.475562 445.190263 214.740708 429.059378 212.005854 430.749050 209.271001 414.569263 206.536147 438.672780 203.801293 439.711603 201.066440 459.135890 198.331586 422.366035 195.596732 431.532936 192.861879 429.013637 190.127025 442.305504 187.392172 436.130527 184.657318 436.727910 181.922464 408.223978 179.187611 405.504967 176.452757 435.174322 173.717903 470.648693 170.983050 397.625436 168.248196 253.790054 165.513342 419.757578 162.778489 426.672657 160.043635 411.757508 157.308781 424.290244 154.573928 430.158722 151.839074 455.174821 149.104221 446.535259 146.369367 444.537458 143.634513 452.212252 140.899660 456.463053 138.164806 469.051810 135.429952 445.415770 132.695099 458.234917 129.960245 465.407462 127.225391 488.943567 124.490538 478.272051 121.755684 466.024397 119.020830 465.877927 116.285977 460.295773 113.551123 456.629396 110.816270 440.958923 108.081416 455.660395 105.346562 441.854009 102.611709 384.706025 99.876855 455.681841 97.142001 472.098548 94.407148 465.693525 91.672294 417.584093 88.937440 433.194189 86.202587 447.731278 83.467733 440.160143 80.732880 431.963787 77.998026 457.629005 75.263172 442.132987 72.528319 450.282764 69.793465 473.252339 67.058611 481.414125 64.323758 470.307485 61.588904 468.397248 58.854050 482.214987 56.119197 466.322375 53.384343 487.021961 50.649489 468.152734 47.914636 465.614069 45.179782 398.775642 42.444929 480.759036 39.710075 473.083995 36.975221 470.137084 34.240368 485.139893 31.505514 478.405988 28.770660 474.809295 26.035807 501.552321 23.300953 520.510911 20.566099 522.361538 17.831246 520.546183 15.096392 521.064028 12.361538 521.084988\"/></g><g class=\"series serie-48 color-48\"><path class=\"line reactive\" d=\"M12.361538 520.992308 L15.096392 520.992308 17.831246 520.316720 20.566099 522.361538 23.300953 520.382691 26.035807 500.641506 28.770660 471.558367 31.505514 475.666438 34.240368 484.262114 36.975221 468.270334 39.710075 472.264947 42.444929 480.064121 45.179782 397.513274 47.914636 461.285083 50.649489 467.060585 53.384343 485.705066 56.119197 465.113986 58.854050 480.832479 61.588904 467.663231 64.323758 467.622883 67.058611 480.110985 69.793465 472.153688 72.528319 448.195868 75.263172 440.490247 77.998026 454.746412 80.732880 429.301242 83.467733 438.259944 86.202587 445.768531 88.937440 430.124474 91.672294 415.625620 94.407148 463.896165 97.142001 470.667258 99.876855 454.628025 102.611709 383.103876 105.346562 440.339708 108.081416 453.944241 110.816270 439.546802 113.551123 455.247582 116.285977 458.633565 119.020830 465.306676 121.755684 464.841744 124.490538 477.724083 127.225391 488.512189 129.960245 464.739240 132.695099 455.122627 135.429952 443.657369 138.164806 467.952664 140.899660 455.485377 143.634513 451.259941 146.369367 441.505108 149.104221 445.590119 151.839074 452.819925 154.573928 427.838218 157.308781 419.691541 160.043635 409.082591 162.778489 421.973105 165.513342 417.061887 168.248196 248.630680 170.983050 395.962170 173.717903 469.402169 176.452757 432.540349 179.187611 403.380828 181.922464 404.812407 184.657318 435.065610 187.392172 434.336467 190.127025 440.883706 192.861879 427.708493 195.596732 430.095538 198.331586 420.264985 201.066440 458.420464 203.801293 438.452949 206.536147 437.370517 209.271001 411.903728 212.005854 428.021267 214.740708 426.720025 217.475562 442.022520 220.210415 439.915814 222.945269 315.825466 225.680123 324.746321 228.414976 357.988657 231.149830 379.535017 233.884683 455.308915 236.619537 394.464940 239.354391 301.460183 242.089244 387.534578 244.824098 346.512575 247.558952 328.983091 250.293805 324.816166 253.028659 383.157893 255.763513 345.370633 258.498366 317.070022 261.233220 345.957407 263.968074 354.579873 266.702927 361.355322 269.437781 332.002052 272.172634 367.109926 274.907488 374.876467 277.642342 340.741415 280.377195 305.100045 283.112049 336.151748 285.846903 345.097790 288.581756 340.755594 291.316610 324.128841 294.051464 320.218020 296.786317 277.181394 299.521171 402.639656 302.256025 251.495776 304.990878 381.065926 307.725732 258.976099 310.460585 290.169045 313.195439 348.934819 315.930293 269.321328 318.665146 262.625659 321.400000 289.205675 324.134854 251.048650 326.869707 284.611319 329.604561 255.559167 332.339415 292.664765 335.074268 291.185699 337.809122 358.599795 340.543975 310.272199 343.278829 245.533934 346.013683 239.401280 348.748536 275.581706 351.483390 357.811659 354.218244 179.381519 356.953097 269.800031 359.687951 316.085213 362.422805 276.790003 365.157658 226.006172 367.892512 229.118662 370.627366 271.629793 373.362219 323.475373 376.097073 270.693921 378.831926 261.656302 381.566780 273.314753 384.301634 306.579010 387.036487 288.988709 389.771341 272.040479 392.506195 288.246084 395.241048 287.928239 397.975902 320.932823 400.710756 268.487718 403.445609 253.639173 406.180463 269.446236 408.915317 301.164733 411.650170 272.456663 414.385024 306.864097 417.119877 303.940760 419.854731 312.600663 422.589585 289.999651 425.324438 341.406898 428.059292 278.997167 430.794146 365.148816 433.528999 354.377360 436.263853 344.085600 438.998707 302.153265 441.733560 318.829353 444.468414 288.498744 447.203268 311.498225 449.938121 328.690182 452.672975 337.772153 455.407828 327.240266 458.142682 361.410130 460.877536 327.253101 463.612389 348.282884 466.347243 332.574580 469.082097 332.593579 471.816950 358.128750 474.551804 328.541021 477.286658 331.065000 480.021511 338.097359 482.756365 348.270581 485.491219 449.780116 488.226072 379.461396 490.960926 342.835926 493.695779 274.184888 496.430633 276.389285 499.165487 252.734638 501.900340 304.530902 504.635194 268.223288 507.370048 240.537567 510.104901 283.609744 512.839755 282.059898 515.574609 324.065124 518.309462 312.328691 521.044316 289.708364 523.779170 265.247721 526.514023 286.028256 529.248877 269.752723 531.983730 266.378653 534.718584 272.369010 537.453438 294.001330 540.188291 274.635390 542.923145 282.922795 545.657999 289.089166 548.392852 292.633601 551.127706 265.019492 553.862560 174.067395 556.597413 195.922978 559.332267 187.130921 562.067120 145.706702 564.801974 169.694065 567.536828 13.073166 570.271681 186.804317 573.006535 198.906707 575.741389 160.619017 578.476242 157.280428 581.211096 212.264547 583.945950 190.491688 586.680803 161.324544 589.415657 224.408138 592.150511 227.234527 594.885364 175.716733 597.620218 200.218550 600.355071 203.221964 603.089925 237.679803 605.824779 233.496751 608.559632 261.131035 611.294486 249.660657 614.029340 273.207583 616.764193 243.595260 619.499047 265.737674 622.233901 274.526506 624.968754 264.937081 627.703608 219.096527 630.438462 283.654223 630.438462 284.866149 627.703608 226.043282 624.968754 269.664643 622.233901 278.583234 619.499047 267.714326 616.764193 246.155102 614.029340 277.162632 611.294486 252.029362 608.559632 265.407582 605.824779 241.125207 603.089925 240.491698 600.355071 204.575423 597.620218 203.103491 594.885364 184.059549 592.150511 234.365988 589.415657 238.843204 586.680803 176.531800 583.945950 197.642584 581.211096 222.450653 578.476242 164.926871 575.741389 169.460651 573.006535 208.462184 570.271681 190.470566 567.536828 13.405999 564.801974 171.151886 562.067120 150.307292 559.332267 194.528608 556.597413 204.529869 553.862560 180.777851 551.127706 271.116259 548.392852 297.712548 545.657999 291.822710 542.923145 288.399962 540.188291 280.435802 537.453438 295.441951 534.718584 274.120647 531.983730 268.258915 529.248877 274.824949 526.514023 290.725604 523.779170 273.193419 521.044316 296.468085 518.309462 318.052433 515.574609 334.338151 512.839755 287.949714 510.104901 288.846467 507.370048 247.157973 504.635194 270.676799 501.900340 306.289871 499.165487 256.782377 496.430633 279.971408 493.695779 288.065120 490.960926 361.158997 488.226072 394.345910 485.491219 453.609533 482.756365 363.822823 480.021511 355.437559 477.286658 347.862952 474.551804 344.379110 471.816950 360.964567 469.082097 334.261741 466.347243 337.635393 463.612389 359.683570 460.877536 344.285631 458.142682 378.527192 455.407828 344.024205 452.672975 355.049545 449.938121 340.926883 447.203268 315.337336 444.468414 293.593838 441.733560 324.718190 438.998707 308.564366 436.263853 344.928777 433.528999 359.971562 430.794146 375.809762 428.059292 298.912350 425.324438 362.196431 422.589585 312.139984 419.854731 334.793445 417.119877 324.673913 414.385024 325.860258 411.650170 290.277907 408.915317 312.833845 406.180463 273.655473 403.445609 256.316572 400.710756 274.009163 397.975902 332.510491 395.241048 306.418442 392.506195 309.528981 389.771341 291.518772 387.036487 308.120350 384.301634 325.906347 381.566780 293.367961 378.831926 277.581017 376.097073 284.146890 373.362219 326.393848 370.627366 274.384771 367.892512 235.124132 365.157658 231.966020 362.422805 295.471475 359.687951 332.783822 356.953097 281.220281 354.218244 192.738549 351.483390 370.436905 348.748536 289.735048 346.013683 255.499128 343.278829 261.353502 340.543975 312.746095 337.809122 359.842742 335.074268 295.175253 332.339415 300.280205 329.604561 271.943555 326.869707 300.302206 324.134854 266.523039 321.400000 299.023148 318.665146 273.767100 315.930293 280.600757 313.195439 354.613554 310.460585 295.029494 307.725732 262.861785 304.990878 381.346231 302.256025 255.287237 299.521171 409.131960 296.786317 291.172134 294.051464 337.163743 291.316610 333.783456 288.581756 353.220288 285.846903 357.794642 283.112049 343.860040 280.377195 315.574928 277.642342 349.185979 274.907488 375.811798 272.172634 368.063222 269.437781 335.095437 266.702927 365.854808 263.968074 366.304561 261.233220 357.673917 258.498366 321.511356 255.763513 353.586499 253.028659 390.130480 250.293805 331.831550 247.558952 336.685057 244.824098 352.633676 242.089244 389.847272 239.354391 303.818431 236.619537 395.287301 233.884683 457.081934 231.149830 380.974519 228.414976 360.724209 225.680123 327.397359 222.945269 319.080223 220.210415 442.268971 217.475562 443.919885 214.740708 427.479918 212.005854 430.003925 209.271001 412.604325 206.536147 438.067971 203.801293 439.403536 201.066440 458.607342 198.331586 421.215511 195.596732 430.436325 192.861879 428.060673 190.127025 441.350250 187.392172 434.434335 184.657318 435.754928 181.922464 405.778328 179.187611 404.030713 176.452757 433.433565 173.717903 469.609272 170.983050 396.112423 168.248196 250.452468 165.513342 418.321017 162.778489 425.063680 160.043635 410.585241 157.308781 422.383556 154.573928 428.672018 151.839074 453.817700 149.104221 445.995798 146.369367 442.573738 143.634513 451.422048 140.899660 455.830722 138.164806 468.543339 135.429952 444.466486 132.695099 456.253876 129.960245 464.873819 127.225391 488.566956 124.490538 477.730821 121.755684 465.221801 119.020830 465.309915 116.285977 458.899857 113.551123 455.808256 110.816270 439.843530 108.081416 454.491407 105.346562 440.562737 102.611709 383.238007 99.876855 454.834454 97.142001 471.208897 94.407148 464.520348 91.672294 416.544290 88.937440 431.976453 86.202587 447.243983 83.467733 439.289724 80.732880 430.863168 77.998026 455.874221 75.263172 441.476396 72.528319 449.256178 69.793465 473.058136 67.058611 481.243349 64.323758 469.726951 61.588904 468.006987 58.854050 482.026780 56.119197 466.153253 53.384343 486.578879 50.649489 467.806011 47.914636 465.068957 45.179782 397.631430 42.444929 480.133165 39.710075 472.828374 36.975221 469.773435 34.240368 484.608683 31.505514 477.823212 28.770660 473.400240 26.035807 501.480089 23.300953 520.382691 20.566099 522.361538 17.831246 520.343372 15.096392 521.020867 12.361538 520.992308\"/></g><g class=\"series serie-49 color-49\"><path class=\"line reactive\" d=\"M12.361538 520.992308 L15.096392 520.992308 17.831246 520.307692 20.566099 522.361538 23.300953 520.307692 26.035807 499.769231 28.770660 471.015385 31.505514 474.438462 34.240368 484.023077 36.975221 467.592309 39.710075 471.699999 42.444929 478.546154 45.179782 397.076923 47.914636 460.746154 50.649489 466.907693 53.384343 485.392308 56.119197 464.853846 58.854050 480.600001 61.588904 466.907693 64.323758 466.907692 67.058611 479.915385 69.793465 471.700000 72.528319 446.369231 75.263172 436.784615 77.998026 452.530770 80.732880 425.830769 83.467733 436.100000 86.202587 444.315385 88.937440 427.200000 91.672294 413.507693 94.407148 462.115385 97.142001 469.646154 99.876855 451.846154 102.611709 382.015387 105.346562 438.153846 108.081416 451.161538 110.816270 437.469232 113.551123 453.900001 116.285977 458.007693 119.020830 464.169230 121.755684 463.484615 124.490538 476.492308 127.225391 488.130770 129.960245 463.484616 132.695099 453.900000 135.429952 441.576924 138.164806 466.907693 140.899660 454.584616 143.634513 449.792308 146.369367 439.523078 149.104221 444.315384 151.839074 451.846154 154.573928 425.146154 157.308781 417.615385 160.043635 407.346156 162.778489 421.038463 165.513342 415.561539 168.248196 238.930770 170.983050 394.338462 173.717903 468.276923 176.452757 430.623078 179.187611 401.184616 181.922464 402.553845 184.657318 434.046154 187.392172 432.676923 190.127025 438.838463 192.861879 425.146154 195.596732 427.884615 198.331586 418.300000 201.066440 458.007693 203.801293 436.784616 206.536147 433.361538 209.271001 410.769232 212.005854 427.200000 214.740708 424.461539 217.475562 440.207692 220.210415 437.469232 222.945269 310.130772 225.680123 321.769230 228.414976 354.630771 231.149830 375.169231 233.884683 454.584617 236.619537 392.969231 239.354391 295.753848 242.089244 383.384617 244.824098 338.199999 247.558952 321.769232 250.293805 319.715386 253.028659 379.276924 255.763513 337.515387 258.498366 312.184616 261.233220 340.253847 263.968074 349.838461 266.702927 357.369230 269.437781 326.561539 272.172634 359.423078 274.907488 365.584618 277.642342 330.669230 280.377195 295.069230 283.112049 329.984617 285.846903 341.623078 288.581756 330.669231 291.316610 316.292308 294.051464 313.553847 296.786317 271.107697 299.521171 401.184616 302.256025 243.723080 304.990878 377.223078 307.725732 250.569230 310.460585 280.692311 313.195439 344.361538 315.930293 263.576926 318.665146 257.415387 321.400000 283.430771 324.134854 243.038463 326.869707 279.323076 329.604561 247.830771 332.339415 286.853846 335.074268 284.799998 337.809122 354.630769 340.543975 301.915386 343.278829 232.769230 346.013683 229.346152 348.748536 266.315386 351.483390 354.630770 354.218244 169.099997 356.953097 260.153847 359.687951 306.023080 362.422805 269.738463 365.157658 214.969231 367.892512 220.446156 370.627366 262.892305 373.362219 316.976923 376.097073 258.784616 378.831926 251.938461 381.566780 268.369234 384.301634 301.915384 387.036487 280.007693 389.771341 264.946154 392.506195 282.746156 395.241048 282.746155 397.975902 316.292307 400.710756 264.261538 403.445609 243.038461 406.180463 258.099999 408.915317 291.646155 411.650170 265.630770 414.385024 302.599999 417.119877 297.807694 419.854731 306.023079 422.589585 285.484616 425.324438 336.830772 428.059292 275.899997 430.794146 363.530770 433.528999 352.576925 436.263853 339.569233 438.998707 297.123079 441.733560 313.553846 444.468414 284.115388 447.203268 307.392307 449.938121 325.876923 452.672975 334.776925 455.407828 324.507695 458.142682 358.053849 460.877536 324.507691 463.612389 345.730770 466.347243 328.615385 469.082097 328.615385 471.816950 354.630769 474.551804 324.507694 477.286658 327.246154 480.021511 335.461540 482.756365 343.676925 485.491219 447.738463 488.226072 376.538464 490.960926 338.884617 493.695779 269.738462 496.430633 271.792308 499.165487 249.199999 501.900340 301.230769 504.635194 264.261540 507.370048 237.561537 510.104901 278.638461 512.839755 278.638465 515.574609 321.769233 518.309462 309.446155 521.044316 285.484616 523.779170 260.838462 526.514023 282.061540 529.248877 267.000000 531.983730 263.576925 534.718584 269.738464 537.453438 290.276924 540.188291 271.107692 542.923145 280.007693 545.657999 286.169231 548.392852 290.961540 551.127706 261.523077 553.862560 170.469230 556.597413 192.376923 559.332267 182.107695 562.067120 141.715384 564.801974 166.361539 567.536828 10.269231 570.271681 183.476923 573.006535 195.800002 575.741389 156.776924 578.476242 154.723076 581.211096 209.492311 583.945950 188.269232 586.680803 157.461542 589.415657 221.130768 592.150511 223.869231 594.885364 169.784616 597.620218 197.169233 600.355071 198.538463 603.089925 234.823079 605.824779 230.030771 608.559632 257.415388 611.294486 247.830767 614.029340 271.107693 616.764193 241.669234 619.499047 262.892309 622.233901 271.792311 624.968754 261.523080 627.703608 215.653847 630.438462 282.061541 630.438462 283.654223 627.703608 219.096527 624.968754 264.937081 622.233901 274.526506 619.499047 265.737674 616.764193 243.595260 614.029340 273.207583 611.294486 249.660657 608.559632 261.131035 605.824779 233.496751 603.089925 237.679803 600.355071 203.221964 597.620218 200.218550 594.885364 175.716733 592.150511 227.234527 589.415657 224.408138 586.680803 161.324544 583.945950 190.491688 581.211096 212.264547 578.476242 157.280428 575.741389 160.619017 573.006535 198.906707 570.271681 186.804317 567.536828 13.073166 564.801974 169.694065 562.067120 145.706702 559.332267 187.130921 556.597413 195.922978 553.862560 174.067395 551.127706 265.019492 548.392852 292.633601 545.657999 289.089166 542.923145 282.922795 540.188291 274.635390 537.453438 294.001330 534.718584 272.369010 531.983730 266.378653 529.248877 269.752723 526.514023 286.028256 523.779170 265.247721 521.044316 289.708364 518.309462 312.328691 515.574609 324.065124 512.839755 282.059898 510.104901 283.609744 507.370048 240.537567 504.635194 268.223288 501.900340 304.530902 499.165487 252.734638 496.430633 276.389285 493.695779 274.184888 490.960926 342.835926 488.226072 379.461396 485.491219 449.780116 482.756365 348.270581 480.021511 338.097359 477.286658 331.065000 474.551804 328.541021 471.816950 358.128750 469.082097 332.593579 466.347243 332.574580 463.612389 348.282884 460.877536 327.253101 458.142682 361.410130 455.407828 327.240266 452.672975 337.772153 449.938121 328.690182 447.203268 311.498225 444.468414 288.498744 441.733560 318.829353 438.998707 302.153265 436.263853 344.085600 433.528999 354.377360 430.794146 365.148816 428.059292 278.997167 425.324438 341.406898 422.589585 289.999651 419.854731 312.600663 417.119877 303.940760 414.385024 306.864097 411.650170 272.456663 408.915317 301.164733 406.180463 269.446236 403.445609 253.639173 400.710756 268.487718 397.975902 320.932823 395.241048 287.928239 392.506195 288.246084 389.771341 272.040479 387.036487 288.988709 384.301634 306.579010 381.566780 273.314753 378.831926 261.656302 376.097073 270.693921 373.362219 323.475373 370.627366 271.629793 367.892512 229.118662 365.157658 226.006172 362.422805 276.790003 359.687951 316.085213 356.953097 269.800031 354.218244 179.381519 351.483390 357.811659 348.748536 275.581706 346.013683 239.401280 343.278829 245.533934 340.543975 310.272199 337.809122 358.599795 335.074268 291.185699 332.339415 292.664765 329.604561 255.559167 326.869707 284.611319 324.134854 251.048650 321.400000 289.205675 318.665146 262.625659 315.930293 269.321328 313.195439 348.934819 310.460585 290.169045 307.725732 258.976099 304.990878 381.065926 302.256025 251.495776 299.521171 402.639656 296.786317 277.181394 294.051464 320.218020 291.316610 324.128841 288.581756 340.755594 285.846903 345.097790 283.112049 336.151748 280.377195 305.100045 277.642342 340.741415 274.907488 374.876467 272.172634 367.109926 269.437781 332.002052 266.702927 361.355322 263.968074 354.579873 261.233220 345.957407 258.498366 317.070022 255.763513 345.370633 253.028659 383.157893 250.293805 324.816166 247.558952 328.983091 244.824098 346.512575 242.089244 387.534578 239.354391 301.460183 236.619537 394.464940 233.884683 455.308915 231.149830 379.535017 228.414976 357.988657 225.680123 324.746321 222.945269 315.825466 220.210415 439.915814 217.475562 442.022520 214.740708 426.720025 212.005854 428.021267 209.271001 411.903728 206.536147 437.370517 203.801293 438.452949 201.066440 458.420464 198.331586 420.264985 195.596732 430.095538 192.861879 427.708493 190.127025 440.883706 187.392172 434.336467 184.657318 435.065610 181.922464 404.812407 179.187611 403.380828 176.452757 432.540349 173.717903 469.402169 170.983050 395.962170 168.248196 248.630680 165.513342 417.061887 162.778489 421.973105 160.043635 409.082591 157.308781 419.691541 154.573928 427.838218 151.839074 452.819925 149.104221 445.590119 146.369367 441.505108 143.634513 451.259941 140.899660 455.485377 138.164806 467.952664 135.429952 443.657369 132.695099 455.122627 129.960245 464.739240 127.225391 488.512189 124.490538 477.724083 121.755684 464.841744 119.020830 465.306676 116.285977 458.633565 113.551123 455.247582 110.816270 439.546802 108.081416 453.944241 105.346562 440.339708 102.611709 383.103876 99.876855 454.628025 97.142001 470.667258 94.407148 463.896165 91.672294 415.625620 88.937440 430.124474 86.202587 445.768531 83.467733 438.259944 80.732880 429.301242 77.998026 454.746412 75.263172 440.490247 72.528319 448.195868 69.793465 472.153688 67.058611 480.110985 64.323758 467.622883 61.588904 467.663231 58.854050 480.832479 56.119197 465.113986 53.384343 485.705066 50.649489 467.060585 47.914636 461.285083 45.179782 397.513274 42.444929 480.064121 39.710075 472.264947 36.975221 468.270334 34.240368 484.262114 31.505514 475.666438 28.770660 471.558367 26.035807 500.641506 23.300953 520.382691 20.566099 522.361538 17.831246 520.316720 15.096392 520.992308 12.361538 520.992308\"/></g></g><g class=\"titles\"><text class=\"title plot_title\" x=\"400.0\" y=\"26\">Topics</text></g><g class=\"plot overlay\" transform=\"translate(137, 46)\"><g class=\"series serie-0 color-0\"/><g class=\"series serie-1 color-1\"/><g class=\"series serie-2 color-2\"/><g class=\"series serie-3 color-3\"/><g class=\"series serie-4 color-4\"/><g class=\"series serie-5 color-5\"/><g class=\"series serie-6 color-6\"/><g class=\"series serie-7 color-7\"/><g class=\"series serie-8 color-8\"/><g class=\"series serie-9 color-9\"/><g class=\"series serie-10 color-10\"/><g class=\"series serie-11 color-11\"/><g class=\"series serie-12 color-12\"/><g class=\"series serie-13 color-13\"/><g class=\"series serie-14 color-14\"/><g class=\"series serie-15 color-15\"/><g class=\"series serie-16 color-16\"/><g class=\"series serie-17 color-17\"/><g class=\"series serie-18 color-18\"/><g class=\"series serie-19 color-19\"/><g class=\"series serie-20 color-20\"/><g class=\"series serie-21 color-21\"/><g class=\"series serie-22 color-22\"/><g class=\"series serie-23 color-23\"/><g class=\"series serie-24 color-24\"/><g class=\"series serie-25 color-25\"/><g class=\"series serie-26 color-26\"/><g class=\"series serie-27 color-27\"/><g class=\"series serie-28 color-28\"/><g class=\"series serie-29 color-29\"/><g class=\"series serie-30 color-30\"/><g class=\"series serie-31 color-31\"/><g class=\"series serie-32 color-32\"/><g class=\"series serie-33 color-33\"/><g class=\"series serie-34 color-34\"/><g class=\"series serie-35 color-35\"/><g class=\"series serie-36 color-36\"/><g class=\"series serie-37 color-37\"/><g class=\"series serie-38 color-38\"/><g class=\"series serie-39 color-39\"/><g class=\"series serie-40 color-40\"/><g class=\"series serie-41 color-41\"/><g class=\"series serie-42 color-42\"/><g class=\"series serie-43 color-43\"/><g class=\"series serie-44 color-44\"/><g class=\"series serie-45 color-45\"/><g class=\"series serie-46 color-46\"/><g class=\"series serie-47 color-47\"/><g class=\"series serie-48 color-48\"/><g class=\"series serie-49 color-49\"/></g><g class=\"plot text-overlay\" transform=\"translate(137, 46)\"><g class=\"series serie-0 color-0\"/><g class=\"series serie-1 color-1\"/><g class=\"series serie-2 color-2\"/><g class=\"series serie-3 color-3\"/><g class=\"series serie-4 color-4\"/><g class=\"series serie-5 color-5\"/><g class=\"series serie-6 color-6\"/><g class=\"series serie-7 color-7\"/><g class=\"series serie-8 color-8\"/><g class=\"series serie-9 color-9\"/><g class=\"series serie-10 color-10\"/><g class=\"series serie-11 color-11\"/><g class=\"series serie-12 color-12\"/><g class=\"series serie-13 color-13\"/><g class=\"series serie-14 color-14\"/><g class=\"series serie-15 color-15\"/><g class=\"series serie-16 color-16\"/><g class=\"series serie-17 color-17\"/><g class=\"series serie-18 color-18\"/><g class=\"series serie-19 color-19\"/><g class=\"series serie-20 color-20\"/><g class=\"series serie-21 color-21\"/><g class=\"series serie-22 color-22\"/><g class=\"series serie-23 color-23\"/><g class=\"series serie-24 color-24\"/><g class=\"series serie-25 color-25\"/><g class=\"series serie-26 color-26\"/><g class=\"series serie-27 color-27\"/><g class=\"series serie-28 color-28\"/><g class=\"series serie-29 color-29\"/><g class=\"series serie-30 color-30\"/><g class=\"series serie-31 color-31\"/><g class=\"series serie-32 color-32\"/><g class=\"series serie-33 color-33\"/><g class=\"series serie-34 color-34\"/><g class=\"series serie-35 color-35\"/><g class=\"series serie-36 color-36\"/><g class=\"series serie-37 color-37\"/><g class=\"series serie-38 color-38\"/><g class=\"series serie-39 color-39\"/><g class=\"series serie-40 color-40\"/><g class=\"series serie-41 color-41\"/><g class=\"series serie-42 color-42\"/><g class=\"series serie-43 color-43\"/><g class=\"series serie-44 color-44\"/><g class=\"series serie-45 color-45\"/><g class=\"series serie-46 color-46\"/><g class=\"series serie-47 color-47\"/><g class=\"series serie-48 color-48\"/><g class=\"series serie-49 color-49\"/></g><g class=\"plot tooltip-overlay\" transform=\"translate(137, 46)\"><g class=\"tooltip\" style=\"opacity: 0\" transform=\"translate(0 0)\"><rect class=\"tooltip-box\" height=\"0\" rx=\"0\" ry=\"0\" width=\"0\"/><g class=\"text\"/></g></g><g class=\"legends\" transform=\"translate(10, 56)\"><g class=\"legend reactive activate-serie\" id=\"activate-serie-0\"><rect class=\"color-0 reactive\" height=\"12\" width=\"12\" x=\"0.0\" y=\"1.0\"/><text x=\"17.0\" y=\"11.2\">topic_0</text></g><g class=\"legend reactive activate-serie\" id=\"activate-serie-1\"><rect class=\"color-1 reactive\" height=\"12\" width=\"12\" x=\"0.0\" y=\"22.0\"/><text x=\"17.0\" y=\"32.2\">topic_1</text></g><g class=\"legend reactive activate-serie\" id=\"activate-serie-2\"><rect class=\"color-2 reactive\" height=\"12\" width=\"12\" x=\"0.0\" y=\"43.0\"/><text x=\"17.0\" y=\"53.2\">topic_2</text></g><g class=\"legend reactive activate-serie\" id=\"activate-serie-3\"><rect class=\"color-3 reactive\" height=\"12\" width=\"12\" x=\"0.0\" y=\"64.0\"/><text x=\"17.0\" y=\"74.2\">topic_3</text></g><g class=\"legend reactive activate-serie\" id=\"activate-serie-4\"><rect class=\"color-4 reactive\" height=\"12\" width=\"12\" x=\"0.0\" y=\"85.0\"/><text x=\"17.0\" y=\"95.2\">topic_4</text></g><g class=\"legend reactive activate-serie\" id=\"activate-serie-5\"><rect class=\"color-5 reactive\" height=\"12\" width=\"12\" x=\"0.0\" y=\"106.0\"/><text x=\"17.0\" y=\"116.2\">topic_5</text></g><g class=\"legend reactive activate-serie\" id=\"activate-serie-6\"><rect class=\"color-6 reactive\" height=\"12\" width=\"12\" x=\"0.0\" y=\"127.0\"/><text x=\"17.0\" y=\"137.2\">topic_6</text></g><g class=\"legend reactive activate-serie\" id=\"activate-serie-7\"><rect class=\"color-7 reactive\" height=\"12\" width=\"12\" x=\"0.0\" y=\"148.0\"/><text x=\"17.0\" y=\"158.2\">topic_7</text></g><g class=\"legend reactive activate-serie\" id=\"activate-serie-8\"><rect class=\"color-8 reactive\" height=\"12\" width=\"12\" x=\"0.0\" y=\"169.0\"/><text x=\"17.0\" y=\"179.2\">topic_8</text></g><g class=\"legend reactive activate-serie\" id=\"activate-serie-9\"><rect class=\"color-9 reactive\" height=\"12\" width=\"12\" x=\"0.0\" y=\"190.0\"/><text x=\"17.0\" y=\"200.2\">topic_9</text></g><g class=\"legend reactive activate-serie\" id=\"activate-serie-10\"><rect class=\"color-10 reactive\" height=\"12\" width=\"12\" x=\"0.0\" y=\"211.0\"/><text x=\"17.0\" y=\"221.2\">topic_10</text></g><g class=\"legend reactive activate-serie\" id=\"activate-serie-11\"><rect class=\"color-11 reactive\" height=\"12\" width=\"12\" x=\"0.0\" y=\"232.0\"/><text x=\"17.0\" y=\"242.2\">topic_11</text></g><g class=\"legend reactive activate-serie\" id=\"activate-serie-12\"><rect class=\"color-12 reactive\" height=\"12\" width=\"12\" x=\"0.0\" y=\"253.0\"/><text x=\"17.0\" y=\"263.2\">topic_12</text></g><g class=\"legend reactive activate-serie\" id=\"activate-serie-13\"><rect class=\"color-13 reactive\" height=\"12\" width=\"12\" x=\"0.0\" y=\"274.0\"/><text x=\"17.0\" y=\"284.2\">topic_13</text></g><g class=\"legend reactive activate-serie\" id=\"activate-serie-14\"><rect class=\"color-14 reactive\" height=\"12\" width=\"12\" x=\"0.0\" y=\"295.0\"/><text x=\"17.0\" y=\"305.2\">topic_14</text></g><g class=\"legend reactive activate-serie\" id=\"activate-serie-15\"><rect class=\"color-15 reactive\" height=\"12\" width=\"12\" x=\"0.0\" y=\"316.0\"/><text x=\"17.0\" y=\"326.2\">topic_15</text></g><g class=\"legend reactive activate-serie\" id=\"activate-serie-16\"><rect class=\"color-16 reactive\" height=\"12\" width=\"12\" x=\"0.0\" y=\"337.0\"/><text x=\"17.0\" y=\"347.2\">topic_16</text></g><g class=\"legend reactive activate-serie\" id=\"activate-serie-17\"><rect class=\"color-17 reactive\" height=\"12\" width=\"12\" x=\"0.0\" y=\"358.0\"/><text x=\"17.0\" y=\"368.2\">topic_17</text></g><g class=\"legend reactive activate-serie\" id=\"activate-serie-18\"><rect class=\"color-18 reactive\" height=\"12\" width=\"12\" x=\"0.0\" y=\"379.0\"/><text x=\"17.0\" y=\"389.2\">topic_18</text></g><g class=\"legend reactive activate-serie\" id=\"activate-serie-19\"><rect class=\"color-19 reactive\" height=\"12\" width=\"12\" x=\"0.0\" y=\"400.0\"/><text x=\"17.0\" y=\"410.2\">topic_19</text></g><g class=\"legend reactive activate-serie\" id=\"activate-serie-20\"><rect class=\"color-20 reactive\" height=\"12\" width=\"12\" x=\"0.0\" y=\"421.0\"/><text x=\"17.0\" y=\"431.2\">topic_20</text></g><g class=\"legend reactive activate-serie\" id=\"activate-serie-21\"><rect class=\"color-21 reactive\" height=\"12\" width=\"12\" x=\"0.0\" y=\"442.0\"/><text x=\"17.0\" y=\"452.2\">topic_21</text></g><g class=\"legend reactive activate-serie\" id=\"activate-serie-22\"><rect class=\"color-22 reactive\" height=\"12\" width=\"12\" x=\"0.0\" y=\"463.0\"/><text x=\"17.0\" y=\"473.2\">topic_22</text></g><g class=\"legend reactive activate-serie\" id=\"activate-serie-23\"><rect class=\"color-23 reactive\" height=\"12\" width=\"12\" x=\"0.0\" y=\"484.0\"/><text x=\"17.0\" y=\"494.2\">topic_23</text></g><g class=\"legend reactive activate-serie\" id=\"activate-serie-24\"><rect class=\"color-24 reactive\" height=\"12\" width=\"12\" x=\"0.0\" y=\"505.0\"/><text x=\"17.0\" y=\"515.2\">topic_24</text></g><g class=\"legend reactive activate-serie\" id=\"activate-serie-25\"><rect class=\"color-25 reactive\" height=\"12\" width=\"12\" x=\"0.0\" y=\"526.0\"/><text x=\"17.0\" y=\"536.2\">topic_25</text></g><g class=\"legend reactive activate-serie\" id=\"activate-serie-26\"><rect class=\"color-26 reactive\" height=\"12\" width=\"12\" x=\"0.0\" y=\"547.0\"/><text x=\"17.0\" y=\"557.2\">topic_26</text></g><g class=\"legend reactive activate-serie\" id=\"activate-serie-27\"><rect class=\"color-27 reactive\" height=\"12\" width=\"12\" x=\"0.0\" y=\"568.0\"/><text x=\"17.0\" y=\"578.2\">topic_27</text></g><g class=\"legend reactive activate-serie\" id=\"activate-serie-28\"><rect class=\"color-28 reactive\" height=\"12\" width=\"12\" x=\"0.0\" y=\"589.0\"/><text x=\"17.0\" y=\"599.2\">topic_28</text></g><g class=\"legend reactive activate-serie\" id=\"activate-serie-29\"><rect class=\"color-29 reactive\" height=\"12\" width=\"12\" x=\"0.0\" y=\"610.0\"/><text x=\"17.0\" y=\"620.2\">topic_29</text></g><g class=\"legend reactive activate-serie\" id=\"activate-serie-30\"><rect class=\"color-30 reactive\" height=\"12\" width=\"12\" x=\"0.0\" y=\"631.0\"/><text x=\"17.0\" y=\"641.2\">topic_30</text></g><g class=\"legend reactive activate-serie\" id=\"activate-serie-31\"><rect class=\"color-31 reactive\" height=\"12\" width=\"12\" x=\"0.0\" y=\"652.0\"/><text x=\"17.0\" y=\"662.2\">topic_31</text></g><g class=\"legend reactive activate-serie\" id=\"activate-serie-32\"><rect class=\"color-32 reactive\" height=\"12\" width=\"12\" x=\"0.0\" y=\"673.0\"/><text x=\"17.0\" y=\"683.2\">topic_32</text></g><g class=\"legend reactive activate-serie\" id=\"activate-serie-33\"><rect class=\"color-33 reactive\" height=\"12\" width=\"12\" x=\"0.0\" y=\"694.0\"/><text x=\"17.0\" y=\"704.2\">topic_33</text></g><g class=\"legend reactive activate-serie\" id=\"activate-serie-34\"><rect class=\"color-34 reactive\" height=\"12\" width=\"12\" x=\"0.0\" y=\"715.0\"/><text x=\"17.0\" y=\"725.2\">topic_34</text></g><g class=\"legend reactive activate-serie\" id=\"activate-serie-35\"><rect class=\"color-35 reactive\" height=\"12\" width=\"12\" x=\"0.0\" y=\"736.0\"/><text x=\"17.0\" y=\"746.2\">topic_35</text></g><g class=\"legend reactive activate-serie\" id=\"activate-serie-36\"><rect class=\"color-36 reactive\" height=\"12\" width=\"12\" x=\"0.0\" y=\"757.0\"/><text x=\"17.0\" y=\"767.2\">topic_36</text></g><g class=\"legend reactive activate-serie\" id=\"activate-serie-37\"><rect class=\"color-37 reactive\" height=\"12\" width=\"12\" x=\"0.0\" y=\"778.0\"/><text x=\"17.0\" y=\"788.2\">topic_37</text></g><g class=\"legend reactive activate-serie\" id=\"activate-serie-38\"><rect class=\"color-38 reactive\" height=\"12\" width=\"12\" x=\"0.0\" y=\"799.0\"/><text x=\"17.0\" y=\"809.2\">topic_38</text></g><g class=\"legend reactive activate-serie\" id=\"activate-serie-39\"><rect class=\"color-39 reactive\" height=\"12\" width=\"12\" x=\"0.0\" y=\"820.0\"/><text x=\"17.0\" y=\"830.2\">topic_39</text></g><g class=\"legend reactive activate-serie\" id=\"activate-serie-40\"><rect class=\"color-40 reactive\" height=\"12\" width=\"12\" x=\"0.0\" y=\"841.0\"/><text x=\"17.0\" y=\"851.2\">topic_40</text></g><g class=\"legend reactive activate-serie\" id=\"activate-serie-41\"><rect class=\"color-41 reactive\" height=\"12\" width=\"12\" x=\"0.0\" y=\"862.0\"/><text x=\"17.0\" y=\"872.2\">topic_41</text></g><g class=\"legend reactive activate-serie\" id=\"activate-serie-42\"><rect class=\"color-42 reactive\" height=\"12\" width=\"12\" x=\"0.0\" y=\"883.0\"/><text x=\"17.0\" y=\"893.2\">topic_42</text></g><g class=\"legend reactive activate-serie\" id=\"activate-serie-43\"><rect class=\"color-43 reactive\" height=\"12\" width=\"12\" x=\"0.0\" y=\"904.0\"/><text x=\"17.0\" y=\"914.2\">topic_43</text></g><g class=\"legend reactive activate-serie\" id=\"activate-serie-44\"><rect class=\"color-44 reactive\" height=\"12\" width=\"12\" x=\"0.0\" y=\"925.0\"/><text x=\"17.0\" y=\"935.2\">topic_44</text></g><g class=\"legend reactive activate-serie\" id=\"activate-serie-45\"><rect class=\"color-45 reactive\" height=\"12\" width=\"12\" x=\"0.0\" y=\"946.0\"/><text x=\"17.0\" y=\"956.2\">topic_45</text></g><g class=\"legend reactive activate-serie\" id=\"activate-serie-46\"><rect class=\"color-46 reactive\" height=\"12\" width=\"12\" x=\"0.0\" y=\"967.0\"/><text x=\"17.0\" y=\"977.2\">topic_46</text></g><g class=\"legend reactive activate-serie\" id=\"activate-serie-47\"><rect class=\"color-47 reactive\" height=\"12\" width=\"12\" x=\"0.0\" y=\"988.0\"/><text x=\"17.0\" y=\"998.2\">topic_47</text></g><g class=\"legend reactive activate-serie\" id=\"activate-serie-48\"><rect class=\"color-48 reactive\" height=\"12\" width=\"12\" x=\"0.0\" y=\"1009.0\"/><text x=\"17.0\" y=\"1019.2\">topic_48</text></g><g class=\"legend reactive activate-serie\" id=\"activate-serie-49\"><rect class=\"color-49 reactive\" height=\"12\" width=\"12\" x=\"0.0\" y=\"1030.0\"/><text x=\"17.0\" y=\"1040.2\">topic_49</text></g></g><g class=\"legends\" transform=\"translate(790, 56)\"/></g></svg>\n",
       "    </figure>\n",
       "  </body>\n",
       "</html>\n"
      ],
      "text/plain": [
       "<IPython.core.display.HTML object>"
      ]
     },
     "execution_count": 107,
     "metadata": {},
     "output_type": "execute_result"
    }
   ],
   "source": [
    "line_chart = pygal.StackedLine(fill=True, show_dots=False)\n",
    "line_chart.title = 'Topics'\n",
    "for topic in topics:\n",
    "    line_chart.add(topic, gb[topic].values)\n",
    "\n",
    "HTML(html_pygal.format(pygal_render=line_chart.render(is_unicode=True)))"
   ]
  },
  {
   "cell_type": "markdown",
   "metadata": {
    "hidden": true
   },
   "source": [
    "---"
   ]
  },
  {
   "cell_type": "markdown",
   "metadata": {},
   "source": [
    "## add regularizers step by step"
   ]
  },
  {
   "cell_type": "code",
   "execution_count": 138,
   "metadata": {
    "ExecuteTime": {
     "end_time": "2019-01-22T10:32:50.020800Z",
     "start_time": "2019-01-22T10:32:50.013576Z"
    }
   },
   "outputs": [],
   "source": [
    "data = df.copy()"
   ]
  },
  {
   "cell_type": "code",
   "execution_count": 175,
   "metadata": {
    "ExecuteTime": {
     "end_time": "2019-01-22T11:31:14.438142Z",
     "start_time": "2019-01-22T11:31:14.435872Z"
    }
   },
   "outputs": [],
   "source": [
    "name_df = 'sport'"
   ]
  },
  {
   "cell_type": "code",
   "execution_count": null,
   "metadata": {
    "ExecuteTime": {
     "end_time": "2019-01-22T11:31:15.409057Z",
     "start_time": "2019-01-22T11:31:15.406441Z"
    }
   },
   "outputs": [],
   "source": []
  },
  {
   "cell_type": "code",
   "execution_count": 139,
   "metadata": {
    "ExecuteTime": {
     "end_time": "2019-01-22T10:32:52.920907Z",
     "start_time": "2019-01-22T10:32:52.905748Z"
    }
   },
   "outputs": [
    {
     "data": {
      "text/html": [
       "<div>\n",
       "<style scoped>\n",
       "    .dataframe tbody tr th:only-of-type {\n",
       "        vertical-align: middle;\n",
       "    }\n",
       "\n",
       "    .dataframe tbody tr th {\n",
       "        vertical-align: top;\n",
       "    }\n",
       "\n",
       "    .dataframe thead th {\n",
       "        text-align: right;\n",
       "    }\n",
       "</style>\n",
       "<table border=\"1\" class=\"dataframe\">\n",
       "  <thead>\n",
       "    <tr style=\"text-align: right;\">\n",
       "      <th></th>\n",
       "      <th>1914-lenta/</th>\n",
       "      <th>url</th>\n",
       "      <th>edition</th>\n",
       "      <th>topics</th>\n",
       "      <th>title</th>\n",
       "      <th>text</th>\n",
       "      <th>topic</th>\n",
       "      <th>date_raw</th>\n",
       "      <th>year</th>\n",
       "      <th>month</th>\n",
       "      <th>lemmatized_text</th>\n",
       "      <th>docID</th>\n",
       "      <th>lemmatized_text_2gram</th>\n",
       "      <th>lemmatized_text_3gram</th>\n",
       "    </tr>\n",
       "  </thead>\n",
       "  <tbody>\n",
       "    <tr>\n",
       "      <th>0</th>\n",
       "      <td>1999-10-08 12:00:00</td>\n",
       "      <td>https://lenta.ru/news/1999/10/08/boxing/</td>\n",
       "      <td>NaN</td>\n",
       "      <td>Мир</td>\n",
       "      <td>Дочь Мухаммеда Али дебютирует на ринге</td>\n",
       "      <td>лейла али дочь известного боксератяжеловеса му...</td>\n",
       "      <td>Спорт</td>\n",
       "      <td>[(1999, 10, 08)]</td>\n",
       "      <td>1999</td>\n",
       "      <td>10</td>\n",
       "      <td>[лейла, али, дочь, известный, боксератяжеловес...</td>\n",
       "      <td>0</td>\n",
       "      <td>[лейла, али, дочь, известный, боксератяжеловес...</td>\n",
       "      <td>[лейла, али, дочь, известный, боксератяжеловес...</td>\n",
       "    </tr>\n",
       "    <tr>\n",
       "      <th>1</th>\n",
       "      <td>1999-10-09 12:00:00</td>\n",
       "      <td>https://lenta.ru/news/1999/10/09/football/</td>\n",
       "      <td>NaN</td>\n",
       "      <td>Россия</td>\n",
       "      <td>Россия — Украина: ничья 1:1, Франция выиграла ...</td>\n",
       "      <td>в субботу  октября на большой спортивной арене...</td>\n",
       "      <td>Спорт</td>\n",
       "      <td>[(1999, 10, 09)]</td>\n",
       "      <td>1999</td>\n",
       "      <td>10</td>\n",
       "      <td>[суббота, октябрь, большой, спортивный, арен, ...</td>\n",
       "      <td>1</td>\n",
       "      <td>[суббота, октябрь, большой, спортивный, арен, ...</td>\n",
       "      <td>[суббота, октябрь, большой, спортивный, арен, ...</td>\n",
       "    </tr>\n",
       "  </tbody>\n",
       "</table>\n",
       "</div>"
      ],
      "text/plain": [
       "           1914-lenta/                                         url  edition  \\\n",
       "0  1999-10-08 12:00:00    https://lenta.ru/news/1999/10/08/boxing/      NaN   \n",
       "1  1999-10-09 12:00:00  https://lenta.ru/news/1999/10/09/football/      NaN   \n",
       "\n",
       "   topics                                              title  \\\n",
       "0     Мир             Дочь Мухаммеда Али дебютирует на ринге   \n",
       "1  Россия  Россия — Украина: ничья 1:1, Франция выиграла ...   \n",
       "\n",
       "                                                text  topic          date_raw  \\\n",
       "0  лейла али дочь известного боксератяжеловеса му...  Спорт  [(1999, 10, 08)]   \n",
       "1  в субботу  октября на большой спортивной арене...  Спорт  [(1999, 10, 09)]   \n",
       "\n",
       "   year  month                                    lemmatized_text  docID  \\\n",
       "0  1999     10  [лейла, али, дочь, известный, боксератяжеловес...      0   \n",
       "1  1999     10  [суббота, октябрь, большой, спортивный, арен, ...      1   \n",
       "\n",
       "                               lemmatized_text_2gram  \\\n",
       "0  [лейла, али, дочь, известный, боксератяжеловес...   \n",
       "1  [суббота, октябрь, большой, спортивный, арен, ...   \n",
       "\n",
       "                               lemmatized_text_3gram  \n",
       "0  [лейла, али, дочь, известный, боксератяжеловес...  \n",
       "1  [суббота, октябрь, большой, спортивный, арен, ...  "
      ]
     },
     "execution_count": 139,
     "metadata": {},
     "output_type": "execute_result"
    }
   ],
   "source": [
    "data.head(2)"
   ]
  },
  {
   "cell_type": "code",
   "execution_count": 179,
   "metadata": {
    "ExecuteTime": {
     "end_time": "2019-01-22T11:31:29.226588Z",
     "start_time": "2019-01-22T11:31:29.223921Z"
    }
   },
   "outputs": [],
   "source": [
    "def split_dataset(data):\n",
    "    corpus = data[['lemmatized_text', 'docID']].copy()\n",
    "    train, dev = train_test_split(corpus, test_size=0.2, random_state=0)\n",
    "    return train.reset_index(drop=True), dev.reset_index(drop=True)"
   ]
  },
  {
   "cell_type": "code",
   "execution_count": 180,
   "metadata": {
    "ExecuteTime": {
     "end_time": "2019-01-22T11:31:29.413853Z",
     "start_time": "2019-01-22T11:31:29.400331Z"
    }
   },
   "outputs": [
    {
     "data": {
      "text/plain": [
       "((48679, 2), (12170, 2))"
      ]
     },
     "execution_count": 180,
     "metadata": {},
     "output_type": "execute_result"
    }
   ],
   "source": [
    "X_train, X_dev = split_dataset(data)\n",
    "X_train.shape, X_dev.shape"
   ]
  },
  {
   "cell_type": "code",
   "execution_count": 181,
   "metadata": {
    "ExecuteTime": {
     "end_time": "2019-01-22T11:31:29.787816Z",
     "start_time": "2019-01-22T11:31:29.784926Z"
    }
   },
   "outputs": [],
   "source": [
    "def to_vw_format(data, name: str):\n",
    "    with open(f'processed_data/{name}.vw', 'w') as vw_corpus:\n",
    "        for text, doc_id in X_train.values:\n",
    "            #tokens = literal_eval(text) # uncomment this if u use dataset from read_csv\n",
    "            tokens = text\n",
    "            doc = ' '.join(tokens)\n",
    "            vw_corpus.write(f'{doc_id} | {doc}\\n')\n",
    "    return True"
   ]
  },
  {
   "cell_type": "code",
   "execution_count": 185,
   "metadata": {
    "ExecuteTime": {
     "end_time": "2019-01-22T11:32:22.589535Z",
     "start_time": "2019-01-22T11:32:21.608230Z"
    },
    "scrolled": true
   },
   "outputs": [
    {
     "data": {
      "text/plain": [
       "True"
      ]
     },
     "execution_count": 185,
     "metadata": {},
     "output_type": "execute_result"
    }
   ],
   "source": [
    "to_vw_format(X_train, f'{name_df}_train')\n",
    "to_vw_format(X_train, f'{name_df}_dev')"
   ]
  },
  {
   "cell_type": "code",
   "execution_count": null,
   "metadata": {},
   "outputs": [],
   "source": []
  },
  {
   "cell_type": "markdown",
   "metadata": {},
   "source": [
    "collect batchs and collect the dictionary"
   ]
  },
  {
   "cell_type": "code",
   "execution_count": 183,
   "metadata": {
    "ExecuteTime": {
     "end_time": "2019-01-22T11:31:33.448295Z",
     "start_time": "2019-01-22T11:31:33.445725Z"
    }
   },
   "outputs": [],
   "source": [
    "def init_batch_vectorizer(vwpath, batches_path, gather=False):\n",
    "    batch_vect = artm.BatchVectorizer(data_path=vwpath, \n",
    "                                      data_format='vowpal_wabbit', \n",
    "                                      target_folder=batches_path, \n",
    "                                      gather_dictionary=gather, \n",
    "                                      batch_size=10000)\n",
    "    return batch_vect"
   ]
  },
  {
   "cell_type": "code",
   "execution_count": 186,
   "metadata": {
    "ExecuteTime": {
     "end_time": "2019-01-22T11:32:30.474741Z",
     "start_time": "2019-01-22T11:32:24.818339Z"
    },
    "scrolled": true
   },
   "outputs": [],
   "source": [
    "batch_train = init_batch_vectorizer(f'processed_data/{name_df}_train.vw', 'processed_data/batches_train')\n",
    "batch_dev = init_batch_vectorizer(f'processed_data/{name_df}_dev.vw', 'processed_data/batches_dev')\n"
   ]
  },
  {
   "cell_type": "code",
   "execution_count": null,
   "metadata": {
    "ExecuteTime": {
     "end_time": "2019-01-22T11:49:42.395451Z",
     "start_time": "2019-01-22T11:49:42.392576Z"
    }
   },
   "outputs": [],
   "source": []
  },
  {
   "cell_type": "code",
   "execution_count": 187,
   "metadata": {
    "ExecuteTime": {
     "end_time": "2019-01-22T11:32:33.178097Z",
     "start_time": "2019-01-22T11:32:31.454803Z"
    }
   },
   "outputs": [],
   "source": [
    "corpus_dictionary = artm.Dictionary('corpus_dictionary')\n",
    "corpus_dictionary.gather('processed_data/batches_train')"
   ]
  },
  {
   "cell_type": "code",
   "execution_count": 188,
   "metadata": {
    "ExecuteTime": {
     "end_time": "2019-01-22T11:32:33.592119Z",
     "start_time": "2019-01-22T11:32:33.181646Z"
    }
   },
   "outputs": [],
   "source": [
    "corpus_dictionary.save_text('processed_data/cor_dict.txt')"
   ]
  },
  {
   "cell_type": "code",
   "execution_count": 189,
   "metadata": {
    "ExecuteTime": {
     "end_time": "2019-01-22T11:32:33.656089Z",
     "start_time": "2019-01-22T11:32:33.599809Z"
    }
   },
   "outputs": [
    {
     "data": {
      "text/plain": [
       "artm.Dictionary(name=corpus_dictionary, num_entries=17545)"
      ]
     },
     "execution_count": 189,
     "metadata": {},
     "output_type": "execute_result"
    }
   ],
   "source": [
    "corpus_dictionary.filter(min_df=10, max_dictionary_size=int(4.5e5))"
   ]
  },
  {
   "cell_type": "code",
   "execution_count": 190,
   "metadata": {
    "ExecuteTime": {
     "end_time": "2019-01-22T11:32:33.752694Z",
     "start_time": "2019-01-22T11:32:33.657315Z"
    }
   },
   "outputs": [],
   "source": [
    "corpus_dictionary.save_text('processed_data/cor_dict_filtered.txt')"
   ]
  },
  {
   "cell_type": "markdown",
   "metadata": {},
   "source": [
    "* ### build model"
   ]
  },
  {
   "cell_type": "code",
   "execution_count": 191,
   "metadata": {
    "ExecuteTime": {
     "end_time": "2019-01-22T11:32:35.780988Z",
     "start_time": "2019-01-22T11:32:35.777020Z"
    }
   },
   "outputs": [],
   "source": [
    "num_topics = 50\n",
    "model = artm.ARTM(num_topics=num_topics, num_processors=6, show_progress_bars=True, seed=1)"
   ]
  },
  {
   "cell_type": "markdown",
   "metadata": {},
   "source": [
    "### add scores"
   ]
  },
  {
   "cell_type": "code",
   "execution_count": 192,
   "metadata": {
    "ExecuteTime": {
     "end_time": "2019-01-22T11:32:39.757577Z",
     "start_time": "2019-01-22T11:32:39.754448Z"
    }
   },
   "outputs": [],
   "source": [
    "model.scores.add(artm.PerplexityScore('perplexity_score', dictionary=corpus_dictionary))\n",
    "model.scores.add(artm.SparsityThetaScore('sparse_theta_score'))\n",
    "model.scores.add(artm.SparsityPhiScore('sparse_phi_score'))"
   ]
  },
  {
   "cell_type": "markdown",
   "metadata": {},
   "source": [
    "### add regularizers"
   ]
  },
  {
   "cell_type": "code",
   "execution_count": 193,
   "metadata": {
    "ExecuteTime": {
     "end_time": "2019-01-22T11:32:40.360875Z",
     "start_time": "2019-01-22T11:32:40.357914Z"
    }
   },
   "outputs": [],
   "source": [
    "#model.regularizers.add(artm.SmoothSparsePhiRegularizer(name='SparsePhi', tau=-0.1))\n",
    "#model.regularizers.add(artm.SmoothSparseThetaRegularizer(name='SparseTheta', tau=-0.5))\n",
    "model.regularizers.add(artm.DecorrelatorPhiRegularizer(name='decorrelator_phi_regularizer', tau=2.5e5))"
   ]
  },
  {
   "cell_type": "code",
   "execution_count": null,
   "metadata": {},
   "outputs": [],
   "source": []
  },
  {
   "cell_type": "code",
   "execution_count": 194,
   "metadata": {
    "ExecuteTime": {
     "end_time": "2019-01-22T11:32:41.750393Z",
     "start_time": "2019-01-22T11:32:41.580293Z"
    }
   },
   "outputs": [],
   "source": [
    "model.initialize(dictionary)"
   ]
  },
  {
   "cell_type": "code",
   "execution_count": 198,
   "metadata": {
    "ExecuteTime": {
     "end_time": "2019-01-22T12:02:49.462554Z",
     "start_time": "2019-01-22T12:02:44.929130Z"
    },
    "scrolled": true
   },
   "outputs": [
    {
     "name": "stdout",
     "output_type": "stream",
     "text": [
      "1 .........\n"
     ]
    },
    {
     "data": {
      "application/vnd.jupyter.widget-view+json": {
       "model_id": "7176199dc6db447dab79af1a656766d0",
       "version_major": 2,
       "version_minor": 0
      },
      "text/plain": [
       "HBox(children=(IntProgress(value=0, description='Pass', max=10, style=ProgressStyle(description_width='initial…"
      ]
     },
     "metadata": {},
     "output_type": "display_data"
    },
    {
     "data": {
      "application/vnd.jupyter.widget-view+json": {
       "model_id": "",
       "version_major": 2,
       "version_minor": 0
      },
      "text/plain": [
       "HBox(children=(IntProgress(value=0, description='Batch', max=5, style=ProgressStyle(description_width='initial…"
      ]
     },
     "metadata": {},
     "output_type": "display_data"
    },
    {
     "name": "stderr",
     "output_type": "stream",
     "text": [
      "Exception in thread Thread-41:\n",
      "Traceback (most recent call last):\n",
      "  File \"/usr/lib/python3.6/threading.py\", line 916, in _bootstrap_inner\n",
      "    self.run()\n",
      "  File \"/usr/lib/python3.6/threading.py\", line 864, in run\n",
      "    self._target(*self._args, **self._kwargs)\n",
      "  File \"/usr/lib/python3.6/multiprocessing/pool.py\", line 119, in worker\n",
      "    result = (True, func(*args, **kwds))\n",
      "  File \"/home/vtrokhymenko/proj_news_viz/env4news/lib/python3.6/site-packages/artm/master_component.py\", line 841, in fit_offline\n",
      "    self._lib.ArtmFitOfflineMasterModel(self.master_id, args)\n",
      "  File \"/home/vtrokhymenko/proj_news_viz/env4news/lib/python3.6/site-packages/artm/wrapper/api.py\", line 161, in artm_api_call\n",
      "    self._check_error(result)\n",
      "  File \"/home/vtrokhymenko/proj_news_viz/env4news/lib/python3.6/site-packages/artm/wrapper/api.py\", line 97, in _check_error\n",
      "    raise exception_class(error_message)\n",
      "artm.wrapper.exceptions.InvalidOperationException: FitOffline: no tokens in effect --- either tokens not present in the model, or tokens were ignored due to class_id\n",
      "\n"
     ]
    },
    {
     "ename": "KeyboardInterrupt",
     "evalue": "",
     "output_type": "error",
     "traceback": [
      "\u001b[0;31m---------------------------------------------------------------------------\u001b[0m",
      "\u001b[0;31mKeyboardInterrupt\u001b[0m                         Traceback (most recent call last)",
      "\u001b[0;32m<ipython-input-198-378a694f6e8e>\u001b[0m in \u001b[0;36m<module>\u001b[0;34m\u001b[0m\n\u001b[1;32m     10\u001b[0m         \u001b[0mprint\u001b[0m\u001b[0;34m(\u001b[0m\u001b[0;34m'added smooth sparse theta'\u001b[0m\u001b[0;34m)\u001b[0m\u001b[0;34m\u001b[0m\u001b[0;34m\u001b[0m\u001b[0m\n\u001b[1;32m     11\u001b[0m \u001b[0;34m\u001b[0m\u001b[0m\n\u001b[0;32m---> 12\u001b[0;31m     \u001b[0mmodel\u001b[0m\u001b[0;34m.\u001b[0m\u001b[0mfit_offline\u001b[0m\u001b[0;34m(\u001b[0m\u001b[0mbatch_vectorizer\u001b[0m\u001b[0;34m=\u001b[0m\u001b[0mbatch_train\u001b[0m\u001b[0;34m,\u001b[0m \u001b[0mnum_collection_passes\u001b[0m\u001b[0;34m=\u001b[0m\u001b[0;36m10\u001b[0m\u001b[0;34m)\u001b[0m\u001b[0;34m\u001b[0m\u001b[0;34m\u001b[0m\u001b[0m\n\u001b[0m\u001b[1;32m     13\u001b[0m     \u001b[0mtrain_perplexity\u001b[0m \u001b[0;34m=\u001b[0m \u001b[0mmodel\u001b[0m\u001b[0;34m.\u001b[0m\u001b[0mscore_tracker\u001b[0m\u001b[0;34m[\u001b[0m\u001b[0;34m'perplexity_score'\u001b[0m\u001b[0;34m]\u001b[0m\u001b[0;34m.\u001b[0m\u001b[0mlast_value\u001b[0m\u001b[0;34m\u001b[0m\u001b[0;34m\u001b[0m\u001b[0m\n\u001b[1;32m     14\u001b[0m     \u001b[0mtrain_theta_sparsity\u001b[0m \u001b[0;34m=\u001b[0m \u001b[0mmodel\u001b[0m\u001b[0;34m.\u001b[0m\u001b[0mscore_tracker\u001b[0m\u001b[0;34m[\u001b[0m\u001b[0;34m'sparse_theta_score'\u001b[0m\u001b[0;34m]\u001b[0m\u001b[0;34m.\u001b[0m\u001b[0mlast_value\u001b[0m\u001b[0;34m\u001b[0m\u001b[0;34m\u001b[0m\u001b[0m\n",
      "\u001b[0;32m~/proj_news_viz/env4news/lib/python3.6/site-packages/artm/artm_model.py\u001b[0m in \u001b[0;36mfit_offline\u001b[0;34m(self, batch_vectorizer, num_collection_passes, reset_nwt)\u001b[0m\n\u001b[1;32m    556\u001b[0m                                            args=(batch_vectorizer.batches_ids,\n\u001b[1;32m    557\u001b[0m                                                  batch_vectorizer.weights, 1, None, reset_nwt)),\n\u001b[0;32m--> 558\u001b[0;31m                     batch_vectorizer.num_batches)\n\u001b[0m\u001b[1;32m    559\u001b[0m \u001b[0;34m\u001b[0m\u001b[0m\n\u001b[1;32m    560\u001b[0m                 \u001b[0;32mfor\u001b[0m \u001b[0mname\u001b[0m \u001b[0;32min\u001b[0m \u001b[0mself\u001b[0m\u001b[0;34m.\u001b[0m\u001b[0mscores\u001b[0m\u001b[0;34m.\u001b[0m\u001b[0mdata\u001b[0m\u001b[0;34m.\u001b[0m\u001b[0mkeys\u001b[0m\u001b[0;34m(\u001b[0m\u001b[0;34m)\u001b[0m\u001b[0;34m:\u001b[0m\u001b[0;34m\u001b[0m\u001b[0;34m\u001b[0m\u001b[0m\n",
      "\u001b[0;32m~/proj_news_viz/env4news/lib/python3.6/site-packages/artm/artm_model.py\u001b[0m in \u001b[0;36m_wait_for_batches_processed\u001b[0;34m(self, async_result, num_batches)\u001b[0m\n\u001b[1;32m    517\u001b[0m                 \u001b[0mprevious_num_batches\u001b[0m \u001b[0;34m=\u001b[0m \u001b[0;36m0\u001b[0m\u001b[0;34m\u001b[0m\u001b[0;34m\u001b[0m\u001b[0m\n\u001b[1;32m    518\u001b[0m                 \u001b[0;32mwhile\u001b[0m \u001b[0;32mnot\u001b[0m \u001b[0masync_result\u001b[0m\u001b[0;34m.\u001b[0m\u001b[0mready\u001b[0m\u001b[0;34m(\u001b[0m\u001b[0;34m)\u001b[0m\u001b[0;34m:\u001b[0m\u001b[0;34m\u001b[0m\u001b[0;34m\u001b[0m\u001b[0m\n\u001b[0;32m--> 519\u001b[0;31m                     \u001b[0masync_result\u001b[0m\u001b[0;34m.\u001b[0m\u001b[0mwait\u001b[0m\u001b[0;34m(\u001b[0m\u001b[0;36m1\u001b[0m\u001b[0;34m)\u001b[0m\u001b[0;34m\u001b[0m\u001b[0;34m\u001b[0m\u001b[0m\n\u001b[0m\u001b[1;32m    520\u001b[0m                     current_num_batches = self.master.get_score(\n\u001b[1;32m    521\u001b[0m                         score_name='^^^ItemsProcessedScore^^^').num_batches\n",
      "\u001b[0;32m/usr/lib/python3.6/multiprocessing/pool.py\u001b[0m in \u001b[0;36mwait\u001b[0;34m(self, timeout)\u001b[0m\n\u001b[1;32m    659\u001b[0m \u001b[0;34m\u001b[0m\u001b[0m\n\u001b[1;32m    660\u001b[0m     \u001b[0;32mdef\u001b[0m \u001b[0mwait\u001b[0m\u001b[0;34m(\u001b[0m\u001b[0mself\u001b[0m\u001b[0;34m,\u001b[0m \u001b[0mtimeout\u001b[0m\u001b[0;34m=\u001b[0m\u001b[0;32mNone\u001b[0m\u001b[0;34m)\u001b[0m\u001b[0;34m:\u001b[0m\u001b[0;34m\u001b[0m\u001b[0;34m\u001b[0m\u001b[0m\n\u001b[0;32m--> 661\u001b[0;31m         \u001b[0mself\u001b[0m\u001b[0;34m.\u001b[0m\u001b[0m_event\u001b[0m\u001b[0;34m.\u001b[0m\u001b[0mwait\u001b[0m\u001b[0;34m(\u001b[0m\u001b[0mtimeout\u001b[0m\u001b[0;34m)\u001b[0m\u001b[0;34m\u001b[0m\u001b[0;34m\u001b[0m\u001b[0m\n\u001b[0m\u001b[1;32m    662\u001b[0m \u001b[0;34m\u001b[0m\u001b[0m\n\u001b[1;32m    663\u001b[0m     \u001b[0;32mdef\u001b[0m \u001b[0mget\u001b[0m\u001b[0;34m(\u001b[0m\u001b[0mself\u001b[0m\u001b[0;34m,\u001b[0m \u001b[0mtimeout\u001b[0m\u001b[0;34m=\u001b[0m\u001b[0;32mNone\u001b[0m\u001b[0;34m)\u001b[0m\u001b[0;34m:\u001b[0m\u001b[0;34m\u001b[0m\u001b[0;34m\u001b[0m\u001b[0m\n",
      "\u001b[0;32m/usr/lib/python3.6/threading.py\u001b[0m in \u001b[0;36mwait\u001b[0;34m(self, timeout)\u001b[0m\n\u001b[1;32m    549\u001b[0m             \u001b[0msignaled\u001b[0m \u001b[0;34m=\u001b[0m \u001b[0mself\u001b[0m\u001b[0;34m.\u001b[0m\u001b[0m_flag\u001b[0m\u001b[0;34m\u001b[0m\u001b[0;34m\u001b[0m\u001b[0m\n\u001b[1;32m    550\u001b[0m             \u001b[0;32mif\u001b[0m \u001b[0;32mnot\u001b[0m \u001b[0msignaled\u001b[0m\u001b[0;34m:\u001b[0m\u001b[0;34m\u001b[0m\u001b[0;34m\u001b[0m\u001b[0m\n\u001b[0;32m--> 551\u001b[0;31m                 \u001b[0msignaled\u001b[0m \u001b[0;34m=\u001b[0m \u001b[0mself\u001b[0m\u001b[0;34m.\u001b[0m\u001b[0m_cond\u001b[0m\u001b[0;34m.\u001b[0m\u001b[0mwait\u001b[0m\u001b[0;34m(\u001b[0m\u001b[0mtimeout\u001b[0m\u001b[0;34m)\u001b[0m\u001b[0;34m\u001b[0m\u001b[0;34m\u001b[0m\u001b[0m\n\u001b[0m\u001b[1;32m    552\u001b[0m             \u001b[0;32mreturn\u001b[0m \u001b[0msignaled\u001b[0m\u001b[0;34m\u001b[0m\u001b[0;34m\u001b[0m\u001b[0m\n\u001b[1;32m    553\u001b[0m \u001b[0;34m\u001b[0m\u001b[0m\n",
      "\u001b[0;32m/usr/lib/python3.6/threading.py\u001b[0m in \u001b[0;36mwait\u001b[0;34m(self, timeout)\u001b[0m\n\u001b[1;32m    297\u001b[0m             \u001b[0;32melse\u001b[0m\u001b[0;34m:\u001b[0m\u001b[0;34m\u001b[0m\u001b[0;34m\u001b[0m\u001b[0m\n\u001b[1;32m    298\u001b[0m                 \u001b[0;32mif\u001b[0m \u001b[0mtimeout\u001b[0m \u001b[0;34m>\u001b[0m \u001b[0;36m0\u001b[0m\u001b[0;34m:\u001b[0m\u001b[0;34m\u001b[0m\u001b[0;34m\u001b[0m\u001b[0m\n\u001b[0;32m--> 299\u001b[0;31m                     \u001b[0mgotit\u001b[0m \u001b[0;34m=\u001b[0m \u001b[0mwaiter\u001b[0m\u001b[0;34m.\u001b[0m\u001b[0macquire\u001b[0m\u001b[0;34m(\u001b[0m\u001b[0;32mTrue\u001b[0m\u001b[0;34m,\u001b[0m \u001b[0mtimeout\u001b[0m\u001b[0;34m)\u001b[0m\u001b[0;34m\u001b[0m\u001b[0;34m\u001b[0m\u001b[0m\n\u001b[0m\u001b[1;32m    300\u001b[0m                 \u001b[0;32melse\u001b[0m\u001b[0;34m:\u001b[0m\u001b[0;34m\u001b[0m\u001b[0;34m\u001b[0m\u001b[0m\n\u001b[1;32m    301\u001b[0m                     \u001b[0mgotit\u001b[0m \u001b[0;34m=\u001b[0m \u001b[0mwaiter\u001b[0m\u001b[0;34m.\u001b[0m\u001b[0macquire\u001b[0m\u001b[0;34m(\u001b[0m\u001b[0;32mFalse\u001b[0m\u001b[0;34m)\u001b[0m\u001b[0;34m\u001b[0m\u001b[0;34m\u001b[0m\u001b[0m\n",
      "\u001b[0;31mKeyboardInterrupt\u001b[0m: "
     ]
    }
   ],
   "source": [
    "for i in range(1, 20):\n",
    "    print(f'{i} .........')\n",
    "    date_start = time.now()\n",
    "    \n",
    "    if i == 4:\n",
    "        model.regularizers.add(artm.SmoothSparsePhiRegularizer(name='smooth_sparse_phi_regularizer', tau=-0.55)) \n",
    "        print('added smooth sparse phi')\n",
    "    if i == 8:\n",
    "        model.regularizers.add(artm.SmoothSparseThetaRegularizer(name='smooth_sparse_theta_regularizer', tau=-0.75))\n",
    "        print('added smooth sparse theta')\n",
    "    \n",
    "    model.fit_offline(batch_vectorizer=batch_train, num_collection_passes=10)\n",
    "    train_perplexity = model.score_tracker['perplexity_score'].last_value\n",
    "    train_theta_sparsity = model.score_tracker['sparse_theta_score'].last_value\n",
    "    train_theta_sparsity = round(train_theta_sparsity, 4)\n",
    "    train_phi_sparsity = model.score_tracker['sparse_phi_score'].last_value\n",
    "    train_phi_sparsity = round(train_phi_sparsity, 4)\n",
    "    print(f'iteration: {i}, train perplexity: {train_perplexity}')\n",
    "    print(f'iteration: {i}, train theta sparsity: {train_theta_sparsity}')\n",
    "    print(f'iteration: {i}, train phi sparsity: {train_phi_sparsity}')\n",
    "    \n",
    "    model.transform(batch_dev)\n",
    "    perplexity = model.get_score('perplexity_score')\n",
    "    perplexity = getattr(perplexity, 'value')\n",
    "    theta_sparsity = model.get_score('sparse_theta_score')\n",
    "    theta_sparsity = getattr(theta_sparsity, 'value')\n",
    "    theta_sparsity = round(theta_sparsity, 4)\n",
    "    phi_sparsity = model.get_score('sparse_phi_score')\n",
    "    phi_sparsity = getattr(phi_sparsity, 'value')\n",
    "    phi_sparsity = round(phi_sparsity, 4)\n",
    "    print(f'iteration: {i}, holdout perplexity: {perplexity}')\n",
    "    print(f'iteration: {i}, holdout theta sparsity: {theta_sparsity}')\n",
    "    print(f'iteration: {i}, holdout phi sparsity: {phi_sparsity}')\n",
    "    \n",
    "    print('\\ttime:',time.now()-date_start)"
   ]
  },
  {
   "cell_type": "code",
   "execution_count": null,
   "metadata": {},
   "outputs": [],
   "source": []
  },
  {
   "cell_type": "code",
   "execution_count": null,
   "metadata": {},
   "outputs": [],
   "source": []
  },
  {
   "cell_type": "code",
   "execution_count": null,
   "metadata": {},
   "outputs": [],
   "source": []
  },
  {
   "cell_type": "markdown",
   "metadata": {},
   "source": [
    "---"
   ]
  },
  {
   "cell_type": "markdown",
   "metadata": {},
   "source": [
    "### problem with coherence"
   ]
  },
  {
   "cell_type": "code",
   "execution_count": null,
   "metadata": {},
   "outputs": [],
   "source": []
  },
  {
   "cell_type": "code",
   "execution_count": null,
   "metadata": {},
   "outputs": [],
   "source": []
  },
  {
   "cell_type": "markdown",
   "metadata": {},
   "source": [
    "* ### build model"
   ]
  },
  {
   "cell_type": "code",
   "execution_count": 221,
   "metadata": {
    "ExecuteTime": {
     "end_time": "2019-01-25T23:24:46.385309Z",
     "start_time": "2019-01-25T23:24:46.088266Z"
    }
   },
   "outputs": [],
   "source": [
    "num_topics = 50\n",
    "model = artm.ARTM(num_topics=num_topics, dictionary=dictionary, show_progress_bars=True)"
   ]
  },
  {
   "cell_type": "markdown",
   "metadata": {},
   "source": [
    "### add scores"
   ]
  },
  {
   "cell_type": "code",
   "execution_count": 222,
   "metadata": {
    "ExecuteTime": {
     "end_time": "2019-01-25T23:24:49.055631Z",
     "start_time": "2019-01-25T23:24:49.051621Z"
    }
   },
   "outputs": [],
   "source": [
    "# default\n",
    "model.scores.add(artm.PerplexityScore(name='PerplexityScore', dictionary=dictionary))\n",
    "#model.scores.add(artm.TopicKernelScore(name='TopicKernelScore'))\n",
    "model.scores.add(artm.SparsityThetaScore(name='SparsityThetaScore'))\n",
    "model.scores.add(artm.SparsityPhiScore(name='SparsityPhiScore'))\n",
    "\n",
    "model.scores.add(artm.TopTokensScore(name='TopTokensScore', num_tokens=num_topics))"
   ]
  },
  {
   "cell_type": "code",
   "execution_count": 223,
   "metadata": {
    "ExecuteTime": {
     "end_time": "2019-01-25T23:24:49.280403Z",
     "start_time": "2019-01-25T23:24:49.271854Z"
    }
   },
   "outputs": [],
   "source": [
    "# hand-made\n",
    "\n",
    "#https://github.com/bigartm/bigartm/blob/master/docs/tutorials/python_userguide/coherence.txt\n",
    "    \n",
    "cooc_dict = artm.Dictionary()\n",
    "\n",
    "cooc_dict.gather(data_path='batches_folder',\n",
    "                 cooc_file_path='cooc.txt',\n",
    "                 vocab_file_path='vocab.txt',\n",
    "                 symmetric_cooc_values=True)\n",
    "\n",
    "coherence_score = artm.TopTokensScore(name='TopTokensCoherenceScore',\n",
    "                                      class_id='@default_class', \n",
    "                                      topic_names=[u'topic_0',u'topic_1'],\n",
    "                                      dictionary=cooc_dict,\n",
    "                                      num_tokens=num_topics)\n",
    "\n",
    "model.scores.add(coherence_score)"
   ]
  },
  {
   "cell_type": "markdown",
   "metadata": {},
   "source": [
    "### add regularizers"
   ]
  },
  {
   "cell_type": "code",
   "execution_count": 224,
   "metadata": {
    "ExecuteTime": {
     "end_time": "2019-01-25T23:24:51.345271Z",
     "start_time": "2019-01-25T23:24:51.340178Z"
    }
   },
   "outputs": [],
   "source": [
    "model.regularizers.add(artm.SmoothSparsePhiRegularizer(name='SparsePhi', tau=-0.1))\n",
    "model.regularizers.add(artm.SmoothSparseThetaRegularizer(name='SparseTheta', tau=-0.5))\n",
    "model.regularizers.add(artm.DecorrelatorPhiRegularizer(name='DecorrelatorPhi', tau=1.5e+5))"
   ]
  },
  {
   "cell_type": "code",
   "execution_count": 225,
   "metadata": {
    "ExecuteTime": {
     "end_time": "2019-01-25T23:25:06.421768Z",
     "start_time": "2019-01-25T23:24:56.899036Z"
    }
   },
   "outputs": [
    {
     "data": {
      "application/vnd.jupyter.widget-view+json": {
       "model_id": "dfd093c5488048708e1380c4e0424c49",
       "version_major": 2,
       "version_minor": 0
      },
      "text/plain": [
       "HBox(children=(IntProgress(value=0, description='Pass', max=10, style=ProgressStyle(description_width='initial…"
      ]
     },
     "metadata": {},
     "output_type": "display_data"
    },
    {
     "data": {
      "application/vnd.jupyter.widget-view+json": {
       "model_id": "",
       "version_major": 2,
       "version_minor": 0
      },
      "text/plain": [
       "HBox(children=(IntProgress(value=0, description='Batch', max=61, style=ProgressStyle(description_width='initia…"
      ]
     },
     "metadata": {},
     "output_type": "display_data"
    },
    {
     "data": {
      "application/vnd.jupyter.widget-view+json": {
       "model_id": "",
       "version_major": 2,
       "version_minor": 0
      },
      "text/plain": [
       "HBox(children=(IntProgress(value=0, description='Batch', max=61, style=ProgressStyle(description_width='initia…"
      ]
     },
     "metadata": {},
     "output_type": "display_data"
    },
    {
     "data": {
      "application/vnd.jupyter.widget-view+json": {
       "model_id": "",
       "version_major": 2,
       "version_minor": 0
      },
      "text/plain": [
       "HBox(children=(IntProgress(value=0, description='Batch', max=61, style=ProgressStyle(description_width='initia…"
      ]
     },
     "metadata": {},
     "output_type": "display_data"
    },
    {
     "data": {
      "application/vnd.jupyter.widget-view+json": {
       "model_id": "",
       "version_major": 2,
       "version_minor": 0
      },
      "text/plain": [
       "HBox(children=(IntProgress(value=0, description='Batch', max=61, style=ProgressStyle(description_width='initia…"
      ]
     },
     "metadata": {},
     "output_type": "display_data"
    },
    {
     "data": {
      "application/vnd.jupyter.widget-view+json": {
       "model_id": "",
       "version_major": 2,
       "version_minor": 0
      },
      "text/plain": [
       "HBox(children=(IntProgress(value=0, description='Batch', max=61, style=ProgressStyle(description_width='initia…"
      ]
     },
     "metadata": {},
     "output_type": "display_data"
    },
    {
     "data": {
      "application/vnd.jupyter.widget-view+json": {
       "model_id": "",
       "version_major": 2,
       "version_minor": 0
      },
      "text/plain": [
       "HBox(children=(IntProgress(value=0, description='Batch', max=61, style=ProgressStyle(description_width='initia…"
      ]
     },
     "metadata": {},
     "output_type": "display_data"
    },
    {
     "data": {
      "application/vnd.jupyter.widget-view+json": {
       "model_id": "",
       "version_major": 2,
       "version_minor": 0
      },
      "text/plain": [
       "HBox(children=(IntProgress(value=0, description='Batch', max=61, style=ProgressStyle(description_width='initia…"
      ]
     },
     "metadata": {},
     "output_type": "display_data"
    },
    {
     "data": {
      "application/vnd.jupyter.widget-view+json": {
       "model_id": "",
       "version_major": 2,
       "version_minor": 0
      },
      "text/plain": [
       "HBox(children=(IntProgress(value=0, description='Batch', max=61, style=ProgressStyle(description_width='initia…"
      ]
     },
     "metadata": {},
     "output_type": "display_data"
    },
    {
     "data": {
      "application/vnd.jupyter.widget-view+json": {
       "model_id": "",
       "version_major": 2,
       "version_minor": 0
      },
      "text/plain": [
       "HBox(children=(IntProgress(value=0, description='Batch', max=61, style=ProgressStyle(description_width='initia…"
      ]
     },
     "metadata": {},
     "output_type": "display_data"
    },
    {
     "data": {
      "application/vnd.jupyter.widget-view+json": {
       "model_id": "",
       "version_major": 2,
       "version_minor": 0
      },
      "text/plain": [
       "HBox(children=(IntProgress(value=0, description='Batch', max=61, style=ProgressStyle(description_width='initia…"
      ]
     },
     "metadata": {},
     "output_type": "display_data"
    },
    {
     "name": "stdout",
     "output_type": "stream",
     "text": [
      "CPU times: user 2min 15s, sys: 0 ns, total: 2min 15s\n",
      "Wall time: 9.52 s\n"
     ]
    }
   ],
   "source": [
    "%%time\n",
    "\n",
    "model.fit_offline(batch_vectorizer=batch_vectorizer, num_collection_passes=10)"
   ]
  },
  {
   "cell_type": "code",
   "execution_count": 226,
   "metadata": {
    "ExecuteTime": {
     "end_time": "2019-01-25T23:25:07.801056Z",
     "start_time": "2019-01-25T23:25:07.797694Z"
    },
    "scrolled": true
   },
   "outputs": [
    {
     "data": {
      "text/plain": [
       "[0.0, 0.0, 0.0, 0.0, 0.0, 0.0, 0.0, 0.0, 0.0, 0.0]"
      ]
     },
     "execution_count": 226,
     "metadata": {},
     "output_type": "execute_result"
    }
   ],
   "source": [
    "model.score_tracker['TopTokensCoherenceScore'].average_coherence"
   ]
  },
  {
   "cell_type": "code",
   "execution_count": 227,
   "metadata": {
    "ExecuteTime": {
     "end_time": "2019-01-25T23:25:08.380829Z",
     "start_time": "2019-01-25T23:25:08.377617Z"
    }
   },
   "outputs": [
    {
     "data": {
      "text/plain": [
       "0.8554086089134216"
      ]
     },
     "execution_count": 227,
     "metadata": {},
     "output_type": "execute_result"
    }
   ],
   "source": [
    "model.score_tracker['SparsityThetaScore'].last_value"
   ]
  },
  {
   "cell_type": "code",
   "execution_count": 228,
   "metadata": {
    "ExecuteTime": {
     "end_time": "2019-01-25T23:25:08.865040Z",
     "start_time": "2019-01-25T23:25:08.861383Z"
    }
   },
   "outputs": [
    {
     "data": {
      "text/plain": [
       "852.5618896484375"
      ]
     },
     "execution_count": 228,
     "metadata": {},
     "output_type": "execute_result"
    }
   ],
   "source": [
    "model.score_tracker['PerplexityScore'].last_value"
   ]
  },
  {
   "cell_type": "code",
   "execution_count": null,
   "metadata": {},
   "outputs": [],
   "source": []
  },
  {
   "cell_type": "code",
   "execution_count": 229,
   "metadata": {
    "ExecuteTime": {
     "end_time": "2019-01-25T23:25:33.776771Z",
     "start_time": "2019-01-25T23:25:33.773529Z"
    }
   },
   "outputs": [
    {
     "ename": "SyntaxError",
     "evalue": "invalid syntax (<ipython-input-229-77b08f1c70ca>, line 3)",
     "output_type": "error",
     "traceback": [
      "\u001b[0;36m  File \u001b[0;32m\"<ipython-input-229-77b08f1c70ca>\"\u001b[0;36m, line \u001b[0;32m3\u001b[0m\n\u001b[0;31m    print(f'{model.score_tracker['TopTokensScore'].last_tokens[topic_name]}')\u001b[0m\n\u001b[0m                                               ^\u001b[0m\n\u001b[0;31mSyntaxError\u001b[0m\u001b[0;31m:\u001b[0m invalid syntax\n"
     ]
    }
   ],
   "source": [
    "for topic_name in model.topic_names:\n",
    "    print(f'{topic_name}:')\n",
    "    print(f'{model.score_tracker['TopTokensScore'].last_tokens[topic_name]}')"
   ]
  },
  {
   "cell_type": "code",
   "execution_count": null,
   "metadata": {
    "ExecuteTime": {
     "end_time": "2019-01-25T23:30:45.881866Z",
     "start_time": "2019-01-25T23:30:45.878578Z"
    },
    "scrolled": true
   },
   "outputs": [],
   "source": []
  },
  {
   "cell_type": "code",
   "execution_count": 235,
   "metadata": {
    "ExecuteTime": {
     "end_time": "2019-01-25T23:30:49.619060Z",
     "start_time": "2019-01-25T23:30:49.609295Z"
    }
   },
   "outputs": [
    {
     "ename": "KeyError",
     "evalue": "'topic_0'",
     "output_type": "error",
     "traceback": [
      "\u001b[0;31m---------------------------------------------------------------------------\u001b[0m",
      "\u001b[0;31mKeyError\u001b[0m                                  Traceback (most recent call last)",
      "\u001b[0;32m<ipython-input-235-1b1ba2320da5>\u001b[0m in \u001b[0;36m<module>\u001b[0;34m\u001b[0m\n\u001b[0;32m----> 1\u001b[0;31m \u001b[0mmodel\u001b[0m\u001b[0;34m.\u001b[0m\u001b[0mscore_tracker\u001b[0m\u001b[0;34m[\u001b[0m\u001b[0;34m'TopTokensScore'\u001b[0m\u001b[0;34m]\u001b[0m\u001b[0;34m.\u001b[0m\u001b[0mlast_tokens\u001b[0m\u001b[0;34m[\u001b[0m\u001b[0mmodel\u001b[0m\u001b[0;34m.\u001b[0m\u001b[0mtopic_names\u001b[0m\u001b[0;34m[\u001b[0m\u001b[0;36m0\u001b[0m\u001b[0;34m]\u001b[0m\u001b[0;34m]\u001b[0m\u001b[0;34m\u001b[0m\u001b[0;34m\u001b[0m\u001b[0m\n\u001b[0m",
      "\u001b[0;31mKeyError\u001b[0m: 'topic_0'"
     ]
    }
   ],
   "source": [
    "model.score_tracker['TopTokensScore'].last_tokens[model.topic_names[0]]"
   ]
  },
  {
   "cell_type": "code",
   "execution_count": 232,
   "metadata": {
    "ExecuteTime": {
     "end_time": "2019-01-25T23:28:19.197930Z",
     "start_time": "2019-01-25T23:28:19.188758Z"
    }
   },
   "outputs": [
    {
     "ename": "AttributeError",
     "evalue": "'TopTokensScoreTracker' object has no attribute 'model_name'",
     "output_type": "error",
     "traceback": [
      "\u001b[0;31m---------------------------------------------------------------------------\u001b[0m",
      "\u001b[0;31mAttributeError\u001b[0m                            Traceback (most recent call last)",
      "\u001b[0;32m<ipython-input-232-e2b97f3cfb47>\u001b[0m in \u001b[0;36m<module>\u001b[0;34m\u001b[0m\n\u001b[0;32m----> 1\u001b[0;31m \u001b[0mmodel\u001b[0m\u001b[0;34m.\u001b[0m\u001b[0mscore_tracker\u001b[0m\u001b[0;34m[\u001b[0m\u001b[0;34m'TopTokensScore'\u001b[0m\u001b[0;34m]\u001b[0m\u001b[0;34m.\u001b[0m\u001b[0mmodel_name\u001b[0m\u001b[0;34m\u001b[0m\u001b[0;34m\u001b[0m\u001b[0m\n\u001b[0m",
      "\u001b[0;31mAttributeError\u001b[0m: 'TopTokensScoreTracker' object has no attribute 'model_name'"
     ]
    }
   ],
   "source": [
    "model.score_tracker['TopTokensScore'].model_name"
   ]
  },
  {
   "cell_type": "code",
   "execution_count": null,
   "metadata": {},
   "outputs": [],
   "source": []
  },
  {
   "cell_type": "code",
   "execution_count": null,
   "metadata": {},
   "outputs": [],
   "source": []
  },
  {
   "cell_type": "code",
   "execution_count": null,
   "metadata": {},
   "outputs": [],
   "source": []
  }
 ],
 "metadata": {
  "kernelspec": {
   "display_name": "Python 3",
   "language": "python",
   "name": "python3"
  },
  "language_info": {
   "codemirror_mode": {
    "name": "ipython",
    "version": 3
   },
   "file_extension": ".py",
   "mimetype": "text/x-python",
   "name": "python",
   "nbconvert_exporter": "python",
   "pygments_lexer": "ipython3",
   "version": "3.6.7"
  },
  "varInspector": {
   "cols": {
    "lenName": 16,
    "lenType": 16,
    "lenVar": 40
   },
   "kernels_config": {
    "python": {
     "delete_cmd_postfix": "",
     "delete_cmd_prefix": "del ",
     "library": "var_list.py",
     "varRefreshCmd": "print(var_dic_list())"
    },
    "r": {
     "delete_cmd_postfix": ") ",
     "delete_cmd_prefix": "rm(",
     "library": "var_list.r",
     "varRefreshCmd": "cat(var_dic_list()) "
    }
   },
   "types_to_exclude": [
    "module",
    "function",
    "builtin_function_or_method",
    "instance",
    "_Feature"
   ],
   "window_display": false
  }
 },
 "nbformat": 4,
 "nbformat_minor": 2
}
