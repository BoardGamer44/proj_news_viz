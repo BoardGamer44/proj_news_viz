{
 "cells": [
  {
   "cell_type": "code",
   "execution_count": 1,
   "metadata": {
    "ExecuteTime": {
     "end_time": "2019-02-13T22:59:03.484608Z",
     "start_time": "2019-02-13T22:59:02.798034Z"
    },
    "scrolled": true
   },
   "outputs": [
    {
     "name": "stderr",
     "output_type": "stream",
     "text": [
      "/home/vtrokhymenko/proj_news_viz/env4news/lib/python3.6/site-packages/scipy/sparse/sparsetools.py:21: DeprecationWarning: `scipy.sparse.sparsetools` is deprecated!\n",
      "scipy.sparse.sparsetools is a private module for scipy.sparse, and should not be used.\n",
      "  _deprecated()\n"
     ]
    }
   ],
   "source": [
    "import numpy as np\n",
    "import pandas as pd\n",
    "import os\n",
    "\n",
    "import re\n",
    "from ast import literal_eval\n",
    "from datetime import datetime as time\n",
    "from ast import literal_eval\n",
    "from sklearn.model_selection import train_test_split\n",
    "\n",
    "import artm\n",
    "from gensim.models import Phrases\n",
    "from gensim.models.phrases import Phraser\n",
    "\n",
    "import gc\n",
    "import matplotlib.pyplot as plt\n",
    "%matplotlib inline"
   ]
  },
  {
   "cell_type": "code",
   "execution_count": 2,
   "metadata": {
    "ExecuteTime": {
     "end_time": "2019-02-13T22:52:51.390379Z",
     "start_time": "2019-02-13T22:52:51.278205Z"
    },
    "scrolled": true
   },
   "outputs": [
    {
     "name": "stdout",
     "output_type": "stream",
     "text": [
      "-rw-rw-r-- 1 vtrokhymenko vtrokhymenko 33M Feb 13 11:48 data/Byvsij_SSSR.csv.bz2\r\n",
      "-rw-rw-r-- 1 vtrokhymenko vtrokhymenko 75M Feb 13 11:35 data/Ekonomika.csv.bz2\r\n",
      "-rw-rw-r-- 1 vtrokhymenko vtrokhymenko 51M Feb 13 11:45 data/Mir.csv.bz2\r\n"
     ]
    }
   ],
   "source": [
    "!ls -lah data/*.csv.bz2"
   ]
  },
  {
   "cell_type": "code",
   "execution_count": 2,
   "metadata": {
    "ExecuteTime": {
     "end_time": "2019-02-13T22:59:10.830602Z",
     "start_time": "2019-02-13T22:59:10.828695Z"
    }
   },
   "outputs": [],
   "source": [
    "name_dataset = 'Mir'"
   ]
  },
  {
   "cell_type": "markdown",
   "metadata": {},
   "source": [
    "### load data"
   ]
  },
  {
   "cell_type": "code",
   "execution_count": 3,
   "metadata": {
    "ExecuteTime": {
     "end_time": "2019-02-13T22:59:26.621644Z",
     "start_time": "2019-02-13T22:59:12.340075Z"
    }
   },
   "outputs": [
    {
     "name": "stdout",
     "output_type": "stream",
     "text": [
      "(82154, 6)\n",
      "CPU times: user 14.1 s, sys: 198 ms, total: 14.3 s\n",
      "Wall time: 14.3 s\n"
     ]
    }
   ],
   "source": [
    "%%time\n",
    "df = pd.read_csv(f'data/{name_dataset}.csv.bz2')\n",
    "print(df.shape)"
   ]
  },
  {
   "cell_type": "code",
   "execution_count": 4,
   "metadata": {
    "ExecuteTime": {
     "end_time": "2019-02-13T22:59:44.955409Z",
     "start_time": "2019-02-13T22:59:44.946486Z"
    }
   },
   "outputs": [
    {
     "data": {
      "text/html": [
       "<div>\n",
       "<style scoped>\n",
       "    .dataframe tbody tr th:only-of-type {\n",
       "        vertical-align: middle;\n",
       "    }\n",
       "\n",
       "    .dataframe tbody tr th {\n",
       "        vertical-align: top;\n",
       "    }\n",
       "\n",
       "    .dataframe thead th {\n",
       "        text-align: right;\n",
       "    }\n",
       "</style>\n",
       "<table border=\"1\" class=\"dataframe\">\n",
       "  <thead>\n",
       "    <tr style=\"text-align: right;\">\n",
       "      <th></th>\n",
       "      <th>date</th>\n",
       "      <th>topic</th>\n",
       "      <th>text</th>\n",
       "      <th>predict</th>\n",
       "      <th>text_new</th>\n",
       "      <th>lemmatized_text</th>\n",
       "    </tr>\n",
       "  </thead>\n",
       "  <tbody>\n",
       "    <tr>\n",
       "      <th>0</th>\n",
       "      <td>2008-02-11 10:51:00</td>\n",
       "      <td>\"В России\"</td>\n",
       "      <td>- Добивающийся выдвижения кандидатом в презид...</td>\n",
       "      <td>Мир</td>\n",
       "      <td>добивающийся выдвижения кандидатом в президент...</td>\n",
       "      <td>['добиваться', 'выдвижение', 'кандидат', 'сша'...</td>\n",
       "    </tr>\n",
       "    <tr>\n",
       "      <th>1</th>\n",
       "      <td>2008-02-11 12:15:00</td>\n",
       "      <td>\"В России\"</td>\n",
       "      <td>- Министр обороны США Роберт Гейтс заявил что...</td>\n",
       "      <td>Мир</td>\n",
       "      <td>министр обороны сша роберт_гейтс заявил что мо...</td>\n",
       "      <td>['министр', 'оборона', 'сша', 'роберт_гейтс', ...</td>\n",
       "    </tr>\n",
       "    <tr>\n",
       "      <th>2</th>\n",
       "      <td>2008-02-11 12:46:00</td>\n",
       "      <td>\"В России\"</td>\n",
       "      <td>- В США продолжается сезон предварительных вы...</td>\n",
       "      <td>Мир</td>\n",
       "      <td>в сша продолжается сезон предварительных выбор...</td>\n",
       "      <td>['сша', 'продолжаться', 'сезон', 'предваритель...</td>\n",
       "    </tr>\n",
       "    <tr>\n",
       "      <th>3</th>\n",
       "      <td>2008-02-11 13:16:00</td>\n",
       "      <td>\"В России\"</td>\n",
       "      <td>\"Американский военнослужащий 38 лет задержан в...</td>\n",
       "      <td>Мир</td>\n",
       "      <td>американский военнослужащий  лет задержан в яп...</td>\n",
       "      <td>['американский', 'военнослужащий', 'задержать'...</td>\n",
       "    </tr>\n",
       "    <tr>\n",
       "      <th>4</th>\n",
       "      <td>2008-02-11 16:14:00</td>\n",
       "      <td>\"В России\"</td>\n",
       "      <td>- Сербия в случае признания некоторыми страна...</td>\n",
       "      <td>Мир</td>\n",
       "      <td>сербия в случае признания некоторыми странами ...</td>\n",
       "      <td>['сербия', 'случай', 'признание', 'некоторый',...</td>\n",
       "    </tr>\n",
       "  </tbody>\n",
       "</table>\n",
       "</div>"
      ],
      "text/plain": [
       "                  date       topic  \\\n",
       "0  2008-02-11 10:51:00  \"В России\"   \n",
       "1  2008-02-11 12:15:00  \"В России\"   \n",
       "2  2008-02-11 12:46:00  \"В России\"   \n",
       "3  2008-02-11 13:16:00  \"В России\"   \n",
       "4  2008-02-11 16:14:00  \"В России\"   \n",
       "\n",
       "                                                text predict  \\\n",
       "0   - Добивающийся выдвижения кандидатом в презид...     Мир   \n",
       "1   - Министр обороны США Роберт Гейтс заявил что...     Мир   \n",
       "2   - В США продолжается сезон предварительных вы...     Мир   \n",
       "3  \"Американский военнослужащий 38 лет задержан в...     Мир   \n",
       "4   - Сербия в случае признания некоторыми страна...     Мир   \n",
       "\n",
       "                                            text_new  \\\n",
       "0  добивающийся выдвижения кандидатом в президент...   \n",
       "1  министр обороны сша роберт_гейтс заявил что мо...   \n",
       "2  в сша продолжается сезон предварительных выбор...   \n",
       "3  американский военнослужащий  лет задержан в яп...   \n",
       "4  сербия в случае признания некоторыми странами ...   \n",
       "\n",
       "                                     lemmatized_text  \n",
       "0  ['добиваться', 'выдвижение', 'кандидат', 'сша'...  \n",
       "1  ['министр', 'оборона', 'сша', 'роберт_гейтс', ...  \n",
       "2  ['сша', 'продолжаться', 'сезон', 'предваритель...  \n",
       "3  ['американский', 'военнослужащий', 'задержать'...  \n",
       "4  ['сербия', 'случай', 'признание', 'некоторый',...  "
      ]
     },
     "execution_count": 4,
     "metadata": {},
     "output_type": "execute_result"
    }
   ],
   "source": [
    "df.head()"
   ]
  },
  {
   "cell_type": "markdown",
   "metadata": {},
   "source": [
    "* parse data"
   ]
  },
  {
   "cell_type": "code",
   "execution_count": 5,
   "metadata": {
    "ExecuteTime": {
     "end_time": "2019-02-13T22:59:48.636591Z",
     "start_time": "2019-02-13T22:59:48.514267Z"
    }
   },
   "outputs": [
    {
     "data": {
      "text/html": [
       "<div>\n",
       "<style scoped>\n",
       "    .dataframe tbody tr th:only-of-type {\n",
       "        vertical-align: middle;\n",
       "    }\n",
       "\n",
       "    .dataframe tbody tr th {\n",
       "        vertical-align: top;\n",
       "    }\n",
       "\n",
       "    .dataframe thead th {\n",
       "        text-align: right;\n",
       "    }\n",
       "</style>\n",
       "<table border=\"1\" class=\"dataframe\">\n",
       "  <thead>\n",
       "    <tr style=\"text-align: right;\">\n",
       "      <th></th>\n",
       "      <th>date</th>\n",
       "      <th>topic</th>\n",
       "      <th>text</th>\n",
       "      <th>predict</th>\n",
       "      <th>text_new</th>\n",
       "      <th>lemmatized_text</th>\n",
       "      <th>year</th>\n",
       "      <th>month</th>\n",
       "    </tr>\n",
       "  </thead>\n",
       "  <tbody>\n",
       "    <tr>\n",
       "      <th>0</th>\n",
       "      <td>2008-02-11 10:51:00</td>\n",
       "      <td>\"В России\"</td>\n",
       "      <td>- Добивающийся выдвижения кандидатом в презид...</td>\n",
       "      <td>Мир</td>\n",
       "      <td>добивающийся выдвижения кандидатом в президент...</td>\n",
       "      <td>['добиваться', 'выдвижение', 'кандидат', 'сша'...</td>\n",
       "      <td>2008</td>\n",
       "      <td>2</td>\n",
       "    </tr>\n",
       "    <tr>\n",
       "      <th>1</th>\n",
       "      <td>2008-02-11 12:15:00</td>\n",
       "      <td>\"В России\"</td>\n",
       "      <td>- Министр обороны США Роберт Гейтс заявил что...</td>\n",
       "      <td>Мир</td>\n",
       "      <td>министр обороны сша роберт_гейтс заявил что мо...</td>\n",
       "      <td>['министр', 'оборона', 'сша', 'роберт_гейтс', ...</td>\n",
       "      <td>2008</td>\n",
       "      <td>2</td>\n",
       "    </tr>\n",
       "    <tr>\n",
       "      <th>2</th>\n",
       "      <td>2008-02-11 12:46:00</td>\n",
       "      <td>\"В России\"</td>\n",
       "      <td>- В США продолжается сезон предварительных вы...</td>\n",
       "      <td>Мир</td>\n",
       "      <td>в сша продолжается сезон предварительных выбор...</td>\n",
       "      <td>['сша', 'продолжаться', 'сезон', 'предваритель...</td>\n",
       "      <td>2008</td>\n",
       "      <td>2</td>\n",
       "    </tr>\n",
       "    <tr>\n",
       "      <th>3</th>\n",
       "      <td>2008-02-11 13:16:00</td>\n",
       "      <td>\"В России\"</td>\n",
       "      <td>\"Американский военнослужащий 38 лет задержан в...</td>\n",
       "      <td>Мир</td>\n",
       "      <td>американский военнослужащий  лет задержан в яп...</td>\n",
       "      <td>['американский', 'военнослужащий', 'задержать'...</td>\n",
       "      <td>2008</td>\n",
       "      <td>2</td>\n",
       "    </tr>\n",
       "    <tr>\n",
       "      <th>4</th>\n",
       "      <td>2008-02-11 16:14:00</td>\n",
       "      <td>\"В России\"</td>\n",
       "      <td>- Сербия в случае признания некоторыми страна...</td>\n",
       "      <td>Мир</td>\n",
       "      <td>сербия в случае признания некоторыми странами ...</td>\n",
       "      <td>['сербия', 'случай', 'признание', 'некоторый',...</td>\n",
       "      <td>2008</td>\n",
       "      <td>2</td>\n",
       "    </tr>\n",
       "  </tbody>\n",
       "</table>\n",
       "</div>"
      ],
      "text/plain": [
       "                  date       topic  \\\n",
       "0  2008-02-11 10:51:00  \"В России\"   \n",
       "1  2008-02-11 12:15:00  \"В России\"   \n",
       "2  2008-02-11 12:46:00  \"В России\"   \n",
       "3  2008-02-11 13:16:00  \"В России\"   \n",
       "4  2008-02-11 16:14:00  \"В России\"   \n",
       "\n",
       "                                                text predict  \\\n",
       "0   - Добивающийся выдвижения кандидатом в презид...     Мир   \n",
       "1   - Министр обороны США Роберт Гейтс заявил что...     Мир   \n",
       "2   - В США продолжается сезон предварительных вы...     Мир   \n",
       "3  \"Американский военнослужащий 38 лет задержан в...     Мир   \n",
       "4   - Сербия в случае признания некоторыми страна...     Мир   \n",
       "\n",
       "                                            text_new  \\\n",
       "0  добивающийся выдвижения кандидатом в президент...   \n",
       "1  министр обороны сша роберт_гейтс заявил что мо...   \n",
       "2  в сша продолжается сезон предварительных выбор...   \n",
       "3  американский военнослужащий  лет задержан в яп...   \n",
       "4  сербия в случае признания некоторыми странами ...   \n",
       "\n",
       "                                     lemmatized_text  year  month  \n",
       "0  ['добиваться', 'выдвижение', 'кандидат', 'сша'...  2008      2  \n",
       "1  ['министр', 'оборона', 'сша', 'роберт_гейтс', ...  2008      2  \n",
       "2  ['сша', 'продолжаться', 'сезон', 'предваритель...  2008      2  \n",
       "3  ['американский', 'военнослужащий', 'задержать'...  2008      2  \n",
       "4  ['сербия', 'случай', 'признание', 'некоторый',...  2008      2  "
      ]
     },
     "execution_count": 5,
     "metadata": {},
     "output_type": "execute_result"
    }
   ],
   "source": [
    "df['year'] = df['date'].apply(lambda x: int(x.split(' ')[0].split('-')[0]))\n",
    "df['month'] = df['date'].apply(lambda x: int(x.split(' ')[0].split('-')[1]))\n",
    "df.head()"
   ]
  },
  {
   "cell_type": "code",
   "execution_count": 6,
   "metadata": {
    "ExecuteTime": {
     "end_time": "2019-02-13T22:59:49.263602Z",
     "start_time": "2019-02-13T22:59:49.259291Z"
    },
    "cell_style": "split"
   },
   "outputs": [
    {
     "data": {
      "text/plain": [
       "2017    10185\n",
       "2016    10074\n",
       "2018     9056\n",
       "2013     8640\n",
       "2015     8494\n",
       "2014     7378\n",
       "2009     6583\n",
       "2012     6198\n",
       "2008     5360\n",
       "2011     5181\n",
       "2010     4626\n",
       "2019      379\n",
       "Name: year, dtype: int64"
      ]
     },
     "execution_count": 6,
     "metadata": {},
     "output_type": "execute_result"
    }
   ],
   "source": [
    "df.year.value_counts()"
   ]
  },
  {
   "cell_type": "code",
   "execution_count": 7,
   "metadata": {
    "ExecuteTime": {
     "end_time": "2019-02-13T22:59:49.626148Z",
     "start_time": "2019-02-13T22:59:49.621909Z"
    },
    "cell_style": "split"
   },
   "outputs": [
    {
     "data": {
      "text/plain": [
       "3     7770\n",
       "10    7351\n",
       "4     7294\n",
       "11    7148\n",
       "7     6827\n",
       "9     6741\n",
       "8     6686\n",
       "12    6581\n",
       "1     6535\n",
       "5     6518\n",
       "6     6423\n",
       "2     6280\n",
       "Name: month, dtype: int64"
      ]
     },
     "execution_count": 7,
     "metadata": {},
     "output_type": "execute_result"
    }
   ],
   "source": [
    "df.month.value_counts()"
   ]
  },
  {
   "cell_type": "code",
   "execution_count": 8,
   "metadata": {
    "ExecuteTime": {
     "end_time": "2019-02-13T23:00:01.071812Z",
     "start_time": "2019-02-13T22:59:51.524952Z"
    }
   },
   "outputs": [],
   "source": [
    "df.lemmatized_text = df.lemmatized_text.apply(lambda x: literal_eval(x))"
   ]
  },
  {
   "cell_type": "markdown",
   "metadata": {},
   "source": [
    "### preprocess if text with lemma"
   ]
  },
  {
   "cell_type": "code",
   "execution_count": 9,
   "metadata": {
    "ExecuteTime": {
     "end_time": "2019-02-13T23:00:41.142268Z",
     "start_time": "2019-02-13T23:00:38.265631Z"
    }
   },
   "outputs": [
    {
     "data": {
      "text/html": [
       "<div>\n",
       "<style scoped>\n",
       "    .dataframe tbody tr th:only-of-type {\n",
       "        vertical-align: middle;\n",
       "    }\n",
       "\n",
       "    .dataframe tbody tr th {\n",
       "        vertical-align: top;\n",
       "    }\n",
       "\n",
       "    .dataframe thead th {\n",
       "        text-align: right;\n",
       "    }\n",
       "</style>\n",
       "<table border=\"1\" class=\"dataframe\">\n",
       "  <thead>\n",
       "    <tr style=\"text-align: right;\">\n",
       "      <th></th>\n",
       "      <th>date</th>\n",
       "      <th>topic</th>\n",
       "      <th>text</th>\n",
       "      <th>predict</th>\n",
       "      <th>text_new</th>\n",
       "      <th>lemmatized_text</th>\n",
       "      <th>year</th>\n",
       "      <th>month</th>\n",
       "      <th>text_join</th>\n",
       "    </tr>\n",
       "  </thead>\n",
       "  <tbody>\n",
       "    <tr>\n",
       "      <th>0</th>\n",
       "      <td>2008-02-11 10:51:00</td>\n",
       "      <td>\"В России\"</td>\n",
       "      <td>- Добивающийся выдвижения кандидатом в презид...</td>\n",
       "      <td>Мир</td>\n",
       "      <td>добивающийся выдвижения кандидатом в президент...</td>\n",
       "      <td>[добиваться, выдвижение, кандидат, сша, демокр...</td>\n",
       "      <td>2008</td>\n",
       "      <td>2</td>\n",
       "      <td>-   Д о б и в а ю щ и й с я   в ы д в и ж е ...</td>\n",
       "    </tr>\n",
       "    <tr>\n",
       "      <th>1</th>\n",
       "      <td>2008-02-11 12:15:00</td>\n",
       "      <td>\"В России\"</td>\n",
       "      <td>- Министр обороны США Роберт Гейтс заявил что...</td>\n",
       "      <td>Мир</td>\n",
       "      <td>министр обороны сша роберт_гейтс заявил что мо...</td>\n",
       "      <td>[министр, оборона, сша, роберт_гейтс, моджахед...</td>\n",
       "      <td>2008</td>\n",
       "      <td>2</td>\n",
       "      <td>-   М и н и с т р   о б о р о н ы   С Ш А   ...</td>\n",
       "    </tr>\n",
       "    <tr>\n",
       "      <th>2</th>\n",
       "      <td>2008-02-11 12:46:00</td>\n",
       "      <td>\"В России\"</td>\n",
       "      <td>- В США продолжается сезон предварительных вы...</td>\n",
       "      <td>Мир</td>\n",
       "      <td>в сша продолжается сезон предварительных выбор...</td>\n",
       "      <td>[сша, продолжаться, сезон, предварительный, вы...</td>\n",
       "      <td>2008</td>\n",
       "      <td>2</td>\n",
       "      <td>-   В   С Ш А   п р о д о л ж а е т с я   с ...</td>\n",
       "    </tr>\n",
       "    <tr>\n",
       "      <th>3</th>\n",
       "      <td>2008-02-11 13:16:00</td>\n",
       "      <td>\"В России\"</td>\n",
       "      <td>\"Американский военнослужащий 38 лет задержан в...</td>\n",
       "      <td>Мир</td>\n",
       "      <td>американский военнослужащий  лет задержан в яп...</td>\n",
       "      <td>[американский, военнослужащий, задержать, япон...</td>\n",
       "      <td>2008</td>\n",
       "      <td>2</td>\n",
       "      <td>\" А м е р и к а н с к и й   в о е н н о с л у ...</td>\n",
       "    </tr>\n",
       "    <tr>\n",
       "      <th>4</th>\n",
       "      <td>2008-02-11 16:14:00</td>\n",
       "      <td>\"В России\"</td>\n",
       "      <td>- Сербия в случае признания некоторыми страна...</td>\n",
       "      <td>Мир</td>\n",
       "      <td>сербия в случае признания некоторыми странами ...</td>\n",
       "      <td>[сербия, случай, признание, некоторый, независ...</td>\n",
       "      <td>2008</td>\n",
       "      <td>2</td>\n",
       "      <td>-   С е р б и я   в   с л у ч а е   п р и з ...</td>\n",
       "    </tr>\n",
       "  </tbody>\n",
       "</table>\n",
       "</div>"
      ],
      "text/plain": [
       "                  date       topic  \\\n",
       "0  2008-02-11 10:51:00  \"В России\"   \n",
       "1  2008-02-11 12:15:00  \"В России\"   \n",
       "2  2008-02-11 12:46:00  \"В России\"   \n",
       "3  2008-02-11 13:16:00  \"В России\"   \n",
       "4  2008-02-11 16:14:00  \"В России\"   \n",
       "\n",
       "                                                text predict  \\\n",
       "0   - Добивающийся выдвижения кандидатом в презид...     Мир   \n",
       "1   - Министр обороны США Роберт Гейтс заявил что...     Мир   \n",
       "2   - В США продолжается сезон предварительных вы...     Мир   \n",
       "3  \"Американский военнослужащий 38 лет задержан в...     Мир   \n",
       "4   - Сербия в случае признания некоторыми страна...     Мир   \n",
       "\n",
       "                                            text_new  \\\n",
       "0  добивающийся выдвижения кандидатом в президент...   \n",
       "1  министр обороны сша роберт_гейтс заявил что мо...   \n",
       "2  в сша продолжается сезон предварительных выбор...   \n",
       "3  американский военнослужащий  лет задержан в яп...   \n",
       "4  сербия в случае признания некоторыми странами ...   \n",
       "\n",
       "                                     lemmatized_text  year  month  \\\n",
       "0  [добиваться, выдвижение, кандидат, сша, демокр...  2008      2   \n",
       "1  [министр, оборона, сша, роберт_гейтс, моджахед...  2008      2   \n",
       "2  [сша, продолжаться, сезон, предварительный, вы...  2008      2   \n",
       "3  [американский, военнослужащий, задержать, япон...  2008      2   \n",
       "4  [сербия, случай, признание, некоторый, независ...  2008      2   \n",
       "\n",
       "                                           text_join  \n",
       "0    -   Д о б и в а ю щ и й с я   в ы д в и ж е ...  \n",
       "1    -   М и н и с т р   о б о р о н ы   С Ш А   ...  \n",
       "2    -   В   С Ш А   п р о д о л ж а е т с я   с ...  \n",
       "3  \" А м е р и к а н с к и й   в о е н н о с л у ...  \n",
       "4    -   С е р б и я   в   с л у ч а е   п р и з ...  "
      ]
     },
     "execution_count": 9,
     "metadata": {},
     "output_type": "execute_result"
    }
   ],
   "source": [
    "df['text_join'] = df.text.apply(lambda x: ' '.join(x))\n",
    "df.head()"
   ]
  },
  {
   "cell_type": "markdown",
   "metadata": {},
   "source": [
    "* add docID"
   ]
  },
  {
   "cell_type": "code",
   "execution_count": 10,
   "metadata": {
    "ExecuteTime": {
     "end_time": "2019-02-13T23:00:43.637073Z",
     "start_time": "2019-02-13T23:00:43.620676Z"
    }
   },
   "outputs": [],
   "source": [
    "df['docID'] = list(range(df.shape[0]))"
   ]
  },
  {
   "cell_type": "code",
   "execution_count": 11,
   "metadata": {
    "ExecuteTime": {
     "end_time": "2019-02-13T23:00:43.857377Z",
     "start_time": "2019-02-13T23:00:43.804049Z"
    },
    "scrolled": true
   },
   "outputs": [
    {
     "data": {
      "text/html": [
       "<div>\n",
       "<style scoped>\n",
       "    .dataframe tbody tr th:only-of-type {\n",
       "        vertical-align: middle;\n",
       "    }\n",
       "\n",
       "    .dataframe tbody tr th {\n",
       "        vertical-align: top;\n",
       "    }\n",
       "\n",
       "    .dataframe thead th {\n",
       "        text-align: right;\n",
       "    }\n",
       "</style>\n",
       "<table border=\"1\" class=\"dataframe\">\n",
       "  <thead>\n",
       "    <tr style=\"text-align: right;\">\n",
       "      <th></th>\n",
       "      <th>docID</th>\n",
       "      <th>year</th>\n",
       "      <th>month</th>\n",
       "      <th>lemmatized_text</th>\n",
       "    </tr>\n",
       "  </thead>\n",
       "  <tbody>\n",
       "    <tr>\n",
       "      <th>0</th>\n",
       "      <td>0</td>\n",
       "      <td>2008</td>\n",
       "      <td>2</td>\n",
       "      <td>[добиваться, выдвижение, кандидат, сша, демокр...</td>\n",
       "    </tr>\n",
       "    <tr>\n",
       "      <th>1</th>\n",
       "      <td>1</td>\n",
       "      <td>2008</td>\n",
       "      <td>2</td>\n",
       "      <td>[министр, оборона, сша, роберт_гейтс, моджахед...</td>\n",
       "    </tr>\n",
       "  </tbody>\n",
       "</table>\n",
       "</div>"
      ],
      "text/plain": [
       "   docID  year  month                                    lemmatized_text\n",
       "0      0  2008      2  [добиваться, выдвижение, кандидат, сша, демокр...\n",
       "1      1  2008      2  [министр, оборона, сша, роберт_гейтс, моджахед..."
      ]
     },
     "execution_count": 11,
     "metadata": {},
     "output_type": "execute_result"
    }
   ],
   "source": [
    "df = df[['docID','year','month','lemmatized_text']]\n",
    "df.head(2)"
   ]
  },
  {
   "cell_type": "code",
   "execution_count": 12,
   "metadata": {
    "ExecuteTime": {
     "end_time": "2019-02-13T23:00:43.984881Z",
     "start_time": "2019-02-13T23:00:43.971307Z"
    }
   },
   "outputs": [
    {
     "name": "stdout",
     "output_type": "stream",
     "text": [
      "(82154, 4)\n"
     ]
    },
    {
     "data": {
      "text/plain": [
       "docID              0\n",
       "year               0\n",
       "month              0\n",
       "lemmatized_text    0\n",
       "dtype: int64"
      ]
     },
     "execution_count": 12,
     "metadata": {},
     "output_type": "execute_result"
    }
   ],
   "source": [
    "print(df.shape)\n",
    "df.isnull().sum()"
   ]
  },
  {
   "cell_type": "code",
   "execution_count": 13,
   "metadata": {
    "ExecuteTime": {
     "end_time": "2019-02-13T23:00:44.127968Z",
     "start_time": "2019-02-13T23:00:44.123964Z"
    }
   },
   "outputs": [
    {
     "data": {
      "text/plain": [
       "(2008, 2019)"
      ]
     },
     "execution_count": 13,
     "metadata": {},
     "output_type": "execute_result"
    }
   ],
   "source": [
    "df.year.min(),df.year.max()"
   ]
  },
  {
   "cell_type": "markdown",
   "metadata": {
    "heading_collapsed": true
   },
   "source": [
    "### preprocess if text full"
   ]
  },
  {
   "cell_type": "markdown",
   "metadata": {
    "hidden": true
   },
   "source": [
    "* get dates"
   ]
  },
  {
   "cell_type": "code",
   "execution_count": null,
   "metadata": {
    "ExecuteTime": {
     "end_time": "2019-02-12T20:44:42.100805Z",
     "start_time": "2019-02-12T20:44:41.875674Z"
    },
    "hidden": true
   },
   "outputs": [],
   "source": [
    "%%time\n",
    "\n",
    "df['date_raw'] = df['url'].apply(re.compile('(\\d{4})/(\\d{2})/(\\d{2})').findall)\n",
    "\n",
    "df['year'] = df['date_raw'].apply(lambda x: int(x[0][0]))\n",
    "df['month'] = df['date_raw'].apply(lambda x: int(x[0][1]))"
   ]
  },
  {
   "cell_type": "markdown",
   "metadata": {
    "hidden": true
   },
   "source": [
    "* clean text"
   ]
  },
  {
   "cell_type": "code",
   "execution_count": null,
   "metadata": {
    "ExecuteTime": {
     "end_time": "2019-02-12T20:44:45.466357Z",
     "start_time": "2019-02-12T20:44:45.419292Z"
    },
    "hidden": true
   },
   "outputs": [],
   "source": [
    "import preprocessing_tools as pr"
   ]
  },
  {
   "cell_type": "code",
   "execution_count": null,
   "metadata": {
    "ExecuteTime": {
     "end_time": "2019-02-12T20:44:55.961600Z",
     "start_time": "2019-02-12T20:44:46.127947Z"
    },
    "hidden": true
   },
   "outputs": [],
   "source": [
    "%%time\n",
    "df.text = df.text.apply(pr.clean_text)"
   ]
  },
  {
   "cell_type": "code",
   "execution_count": null,
   "metadata": {
    "ExecuteTime": {
     "end_time": "2019-02-12T20:44:57.006954Z",
     "start_time": "2019-02-12T20:44:56.996117Z"
    },
    "hidden": true
   },
   "outputs": [],
   "source": [
    "df.head(2)"
   ]
  },
  {
   "cell_type": "markdown",
   "metadata": {
    "hidden": true
   },
   "source": [
    "* cleanedNames"
   ]
  },
  {
   "cell_type": "code",
   "execution_count": null,
   "metadata": {
    "ExecuteTime": {
     "end_time": "2019-02-12T20:44:59.718122Z",
     "start_time": "2019-02-12T20:44:59.605825Z"
    },
    "hidden": true
   },
   "outputs": [],
   "source": [
    "from cleanedNames import KeyProc\n",
    "cn = KeyProc()"
   ]
  },
  {
   "cell_type": "code",
   "execution_count": null,
   "metadata": {
    "ExecuteTime": {
     "end_time": "2019-02-12T20:46:42.655484Z",
     "start_time": "2019-02-12T20:45:00.859921Z"
    },
    "hidden": true
   },
   "outputs": [],
   "source": [
    "%%time\n",
    "df.text = df.text.apply(cn.replaceKeywords)"
   ]
  },
  {
   "cell_type": "markdown",
   "metadata": {
    "hidden": true
   },
   "source": [
    "* lemmatization"
   ]
  },
  {
   "cell_type": "code",
   "execution_count": null,
   "metadata": {
    "ExecuteTime": {
     "end_time": "2019-02-12T20:49:10.237126Z",
     "start_time": "2019-02-12T20:46:42.704548Z"
    },
    "hidden": true
   },
   "outputs": [],
   "source": [
    "%%time\n",
    "df['lemmatized_text'] = df.text.apply(pr.lemmatization)"
   ]
  },
  {
   "cell_type": "code",
   "execution_count": null,
   "metadata": {
    "hidden": true
   },
   "outputs": [],
   "source": []
  },
  {
   "cell_type": "markdown",
   "metadata": {
    "hidden": true
   },
   "source": [
    "* add docID"
   ]
  },
  {
   "cell_type": "code",
   "execution_count": null,
   "metadata": {
    "ExecuteTime": {
     "end_time": "2019-02-12T20:49:10.337705Z",
     "start_time": "2019-02-12T20:49:10.325010Z"
    },
    "hidden": true
   },
   "outputs": [],
   "source": [
    "df['docID'] = list(range(df.shape[0]))"
   ]
  },
  {
   "cell_type": "code",
   "execution_count": null,
   "metadata": {
    "ExecuteTime": {
     "end_time": "2019-02-12T20:49:10.457636Z",
     "start_time": "2019-02-12T20:49:10.428243Z"
    },
    "hidden": true
   },
   "outputs": [],
   "source": [
    "df = df[['docID','year','month','lemmatized_text']]\n",
    "df.head(2)"
   ]
  },
  {
   "cell_type": "code",
   "execution_count": null,
   "metadata": {
    "ExecuteTime": {
     "end_time": "2019-02-12T20:49:10.526039Z",
     "start_time": "2019-02-12T20:49:10.516289Z"
    },
    "hidden": true
   },
   "outputs": [],
   "source": [
    "print(df.shape)\n",
    "df.isnull().sum()"
   ]
  },
  {
   "cell_type": "code",
   "execution_count": null,
   "metadata": {
    "ExecuteTime": {
     "end_time": "2019-02-12T20:49:10.587001Z",
     "start_time": "2019-02-12T20:49:10.583827Z"
    },
    "hidden": true
   },
   "outputs": [],
   "source": [
    "df.year.min()"
   ]
  },
  {
   "cell_type": "code",
   "execution_count": null,
   "metadata": {
    "hidden": true
   },
   "outputs": [],
   "source": []
  },
  {
   "cell_type": "markdown",
   "metadata": {},
   "source": [
    "## model"
   ]
  },
  {
   "cell_type": "markdown",
   "metadata": {},
   "source": [
    "* prepare"
   ]
  },
  {
   "cell_type": "code",
   "execution_count": 14,
   "metadata": {
    "ExecuteTime": {
     "end_time": "2019-02-13T23:01:11.247097Z",
     "start_time": "2019-02-13T23:01:10.527497Z"
    }
   },
   "outputs": [
    {
     "name": "stdout",
     "output_type": "stream",
     "text": [
      "CPU times: user 548 ms, sys: 106 ms, total: 654 ms\n",
      "Wall time: 716 ms\n"
     ]
    }
   ],
   "source": [
    "%%time\n",
    "\n",
    "vwpath = f'data/vwpath/{name_dataset}_input_bigartm.vw'\n",
    "\n",
    "with open(vwpath, 'w') as fp:\n",
    "    for text, did in df[['lemmatized_text', 'docID']].values:\n",
    "        fp.write('{} | {}\\n'.format(did, ' '.join(text)))"
   ]
  },
  {
   "cell_type": "code",
   "execution_count": 15,
   "metadata": {
    "ExecuteTime": {
     "end_time": "2019-02-13T23:01:11.304931Z",
     "start_time": "2019-02-13T23:01:11.300824Z"
    }
   },
   "outputs": [],
   "source": [
    "id_date = df[['docID', 'year', 'month']].copy()"
   ]
  },
  {
   "cell_type": "markdown",
   "metadata": {},
   "source": [
    "* collect batchs and collect the dictionary"
   ]
  },
  {
   "cell_type": "code",
   "execution_count": 16,
   "metadata": {
    "ExecuteTime": {
     "end_time": "2019-02-13T23:01:19.157540Z",
     "start_time": "2019-02-13T23:01:15.203119Z"
    }
   },
   "outputs": [
    {
     "name": "stdout",
     "output_type": "stream",
     "text": [
      "artm.BatchVectorizer(data_path=\"data/batches/Mir\", num_batches=84)\n",
      "CPU times: user 21.5 s, sys: 384 ms, total: 21.9 s\n",
      "Wall time: 3.95 s\n"
     ]
    }
   ],
   "source": [
    "%%time\n",
    "\n",
    "batches_path = f'data/batches/{name_dataset}'\n",
    "\n",
    "if not os.path.exists(batches_path):\n",
    "    print('create folder...\\n')\n",
    "    os.makedirs(batches_path)\n",
    "    \n",
    "batch_vectorizer = artm.BatchVectorizer(data_path=vwpath,\n",
    "                                        data_format='vowpal_wabbit',\n",
    "                                        target_folder=batches_path)\n",
    "\n",
    "print(batch_vectorizer)"
   ]
  },
  {
   "cell_type": "code",
   "execution_count": 17,
   "metadata": {
    "ExecuteTime": {
     "end_time": "2019-02-13T23:01:22.102230Z",
     "start_time": "2019-02-13T23:01:19.977562Z"
    }
   },
   "outputs": [],
   "source": [
    "dictionary = artm.Dictionary()\n",
    "dictionary.gather(data_path=batches_path)"
   ]
  },
  {
   "cell_type": "code",
   "execution_count": 18,
   "metadata": {
    "ExecuteTime": {
     "end_time": "2019-02-13T23:01:22.235700Z",
     "start_time": "2019-02-13T23:01:22.172902Z"
    }
   },
   "outputs": [
    {
     "data": {
      "text/plain": [
       "artm.Dictionary(name=5a691aa8-e0a4-40fe-a87f-f125496d920a, num_entries=23076)"
      ]
     },
     "execution_count": 18,
     "metadata": {},
     "output_type": "execute_result"
    }
   ],
   "source": [
    "dictionary.filter(min_tf=10, max_df_rate=0.1) #int(4.5e5)"
   ]
  },
  {
   "cell_type": "code",
   "execution_count": 19,
   "metadata": {
    "ExecuteTime": {
     "end_time": "2019-02-13T23:01:22.416233Z",
     "start_time": "2019-02-13T23:01:22.296915Z"
    }
   },
   "outputs": [],
   "source": [
    "dictionary.save_text(f'data/dicts/dict_{name_dataset}.txt')"
   ]
  },
  {
   "cell_type": "code",
   "execution_count": null,
   "metadata": {},
   "outputs": [],
   "source": []
  },
  {
   "cell_type": "markdown",
   "metadata": {},
   "source": [
    "## pick up amount topics"
   ]
  },
  {
   "cell_type": "code",
   "execution_count": null,
   "metadata": {
    "ExecuteTime": {
     "end_time": "2019-02-03T23:34:30.832737Z",
     "start_time": "2019-02-03T23:05:40.548748Z"
    }
   },
   "outputs": [],
   "source": [
    "%%time\n",
    "model_list = []\n",
    "step, perplexity, sTheta, sPhi = [], [], [], []\n",
    "\n",
    "start = 6\n",
    "end = 25\n",
    "stepp = 1\n",
    "\n",
    "for i in range(start,end+1,stepp):\n",
    "    print(f'#topic {i}.........')\n",
    "    step.append(i)\n",
    "    date_start = time.now()\n",
    "    \n",
    "    num_topics = i\n",
    "    model = artm.ARTM(num_topics=num_topics, dictionary=dictionary)\n",
    "    \n",
    "    # scores\n",
    "    model.scores.add(artm.PerplexityScore(name='PerplexityScore', dictionary=dictionary))\n",
    "    model.scores.add(artm.SparsityThetaScore(name='SparsityThetaScore'))\n",
    "    model.scores.add(artm.SparsityPhiScore(name='SparsityPhiScore'))\n",
    "    \n",
    "    # 1st regularizer\n",
    "    model.regularizers.add(artm.SmoothSparsePhiRegularizer(name='SparsePhi', tau=-1.0)) #-0.1\n",
    "    model.fit_offline(batch_vectorizer=batch_vectorizer, num_collection_passes=5)\n",
    "    \n",
    "    # 2st regularizer\n",
    "    model.regularizers.add(artm.SmoothSparseThetaRegularizer(name='SparseTheta', tau=-0.5))\n",
    "    model.fit_offline(batch_vectorizer=batch_vectorizer, num_collection_passes=15)\n",
    "    \n",
    "    # 3st regularizer\n",
    "    model.regularizers.add(artm.DecorrelatorPhiRegularizer(name='DecorrelatorPhi', tau=1.5e+5))\n",
    "    model.fit_offline(batch_vectorizer=batch_vectorizer, num_collection_passes=15)\n",
    "    \n",
    "    sparsityTheta = model.score_tracker['SparsityThetaScore'].last_value\n",
    "    sTheta.append(sparsityTheta)\n",
    "    sparsityPhi = model.score_tracker['SparsityPhiScore'].last_value\n",
    "    sPhi.append(sparsityPhi)\n",
    "    perpl = model.score_tracker['PerplexityScore'].last_value\n",
    "    perplexity.append(perpl)\n",
    "    \n",
    "    print(f'\\tSparsityThetaScore: {sparsityTheta}')\n",
    "    print(f'\\tSparsityPhiScore: {sparsityPhi}')\n",
    "    print(f'\\tPerplexityScore: {perpl}')\n",
    "    \n",
    "    print('\\ttime:',time.now()-date_start)"
   ]
  },
  {
   "cell_type": "code",
   "execution_count": null,
   "metadata": {
    "ExecuteTime": {
     "end_time": "2019-02-03T10:25:19.898317Z",
     "start_time": "2019-02-03T10:25:19.896173Z"
    }
   },
   "outputs": [],
   "source": [
    "#model_list"
   ]
  },
  {
   "cell_type": "code",
   "execution_count": null,
   "metadata": {
    "ExecuteTime": {
     "end_time": "2019-02-03T23:36:48.933306Z",
     "start_time": "2019-02-03T23:36:48.703340Z"
    },
    "cell_style": "split"
   },
   "outputs": [],
   "source": [
    "plt.plot(step, sPhi, color='k',linewidth=3, marker='x')\n",
    "ax = plt.gca()\n",
    "ax.set_xticks(step)\n",
    "plt.grid()\n",
    "plt.title('SparsityPhiScore')"
   ]
  },
  {
   "cell_type": "code",
   "execution_count": null,
   "metadata": {
    "ExecuteTime": {
     "end_time": "2019-02-03T23:36:48.941151Z",
     "start_time": "2019-02-03T23:36:48.935668Z"
    },
    "cell_style": "split"
   },
   "outputs": [],
   "source": [
    "index_sphi = []\n",
    "[index_sphi.append(float(str(i)[:3]) ) for i in sPhi]\n",
    "    \n",
    "index_sphi = list(set(index_sphi))\n",
    "index_sphi.sort()\n",
    "index_sphi"
   ]
  },
  {
   "cell_type": "code",
   "execution_count": null,
   "metadata": {
    "ExecuteTime": {
     "end_time": "2019-02-03T23:36:48.952614Z",
     "start_time": "2019-02-03T23:36:48.944296Z"
    },
    "cell_style": "split"
   },
   "outputs": [],
   "source": [
    "d_sphi = {}\n",
    "\n",
    "for j in range(len(index_sphi)):\n",
    "    k=0\n",
    "    for i in sPhi:\n",
    "        if j==range(len(index_sphi))[-1]:\n",
    "            if (i>=index_sphi[j]):\n",
    "                k+=1\n",
    "        else:\n",
    "            if (i>=index_sphi[j]) & (i<index_sphi[j+1]):\n",
    "                k+=1\n",
    "    d_sphi[index_sphi[j]]=k\n",
    "\n",
    "d_sphi"
   ]
  },
  {
   "cell_type": "code",
   "execution_count": null,
   "metadata": {
    "ExecuteTime": {
     "end_time": "2019-02-03T23:36:49.179832Z",
     "start_time": "2019-02-03T23:36:48.956428Z"
    },
    "cell_style": "split",
    "scrolled": true
   },
   "outputs": [],
   "source": [
    "plt.plot(step, sTheta, color='g',linewidth=3, marker='x')\n",
    "ax = plt.gca()\n",
    "ax.set_xticks(step)\n",
    "plt.grid()\n",
    "\n",
    "plt.title('SparsityThetaScore')"
   ]
  },
  {
   "cell_type": "code",
   "execution_count": null,
   "metadata": {
    "ExecuteTime": {
     "end_time": "2019-02-03T23:36:49.187062Z",
     "start_time": "2019-02-03T23:36:49.181836Z"
    },
    "cell_style": "split"
   },
   "outputs": [],
   "source": [
    "index_theta = []\n",
    "[index_theta.append(float(str(i)[:3])) for i in sTheta]\n",
    "    \n",
    "index_theta = list(set(index_theta))\n",
    "index_theta.sort()\n",
    "index_theta"
   ]
  },
  {
   "cell_type": "code",
   "execution_count": null,
   "metadata": {
    "ExecuteTime": {
     "end_time": "2019-02-03T23:36:49.198620Z",
     "start_time": "2019-02-03T23:36:49.189897Z"
    },
    "cell_style": "split"
   },
   "outputs": [],
   "source": [
    "d_stheta = {}\n",
    "\n",
    "for j in range(len(index_theta)):\n",
    "    k=0\n",
    "    for i in sTheta:\n",
    "        if j==range(len(index_theta))[-1]:\n",
    "            if (i>=index_theta[j]):\n",
    "                k+=1\n",
    "        else:\n",
    "            if (i>=index_theta[j]) & (i<index_theta[j+1]):\n",
    "                k+=1\n",
    "    d_stheta[index_theta[j]]=k\n",
    "\n",
    "d_stheta"
   ]
  },
  {
   "cell_type": "code",
   "execution_count": null,
   "metadata": {
    "ExecuteTime": {
     "end_time": "2019-02-03T23:36:49.426695Z",
     "start_time": "2019-02-03T23:36:49.201181Z"
    },
    "cell_style": "split"
   },
   "outputs": [],
   "source": [
    "plt.plot(step, perplexity, color='b',linewidth=3, marker='x')\n",
    "ax = plt.gca()\n",
    "ax.set_xticks(step)\n",
    "plt.grid()\n",
    "plt.title('PerplexityScore')"
   ]
  },
  {
   "cell_type": "code",
   "execution_count": null,
   "metadata": {
    "ExecuteTime": {
     "end_time": "2019-02-03T23:36:49.436545Z",
     "start_time": "2019-02-03T23:36:49.428972Z"
    },
    "cell_style": "split"
   },
   "outputs": [],
   "source": [
    "perplexity"
   ]
  },
  {
   "cell_type": "markdown",
   "metadata": {},
   "source": [
    "### select the best model"
   ]
  },
  {
   "cell_type": "code",
   "execution_count": null,
   "metadata": {
    "ExecuteTime": {
     "end_time": "2019-02-03T23:37:06.940778Z",
     "start_time": "2019-02-03T23:37:06.936624Z"
    }
   },
   "outputs": [],
   "source": [
    "print(f'd_sphi:   {d_sphi}')\n",
    "print(f'd_stheta: {d_stheta}')"
   ]
  },
  {
   "cell_type": "code",
   "execution_count": null,
   "metadata": {
    "ExecuteTime": {
     "end_time": "2019-02-03T23:37:08.106226Z",
     "start_time": "2019-02-03T23:37:08.101353Z"
    }
   },
   "outputs": [],
   "source": [
    "select_topics = 20 # u should choose number of topic\n",
    "\n",
    "best_model = model_list[select_topics-start]\n",
    "print(best_model.num_topics)"
   ]
  },
  {
   "cell_type": "markdown",
   "metadata": {},
   "source": [
    "---"
   ]
  },
  {
   "cell_type": "code",
   "execution_count": 20,
   "metadata": {
    "ExecuteTime": {
     "end_time": "2019-02-13T23:01:29.538588Z",
     "start_time": "2019-02-13T23:01:29.536536Z"
    }
   },
   "outputs": [],
   "source": [
    "select_topics = 17"
   ]
  },
  {
   "cell_type": "code",
   "execution_count": 21,
   "metadata": {
    "ExecuteTime": {
     "end_time": "2019-02-13T23:01:55.143066Z",
     "start_time": "2019-02-13T23:01:30.100131Z"
    }
   },
   "outputs": [
    {
     "data": {
      "application/vnd.jupyter.widget-view+json": {
       "model_id": "ac719e07efcf4e849d3b9907c0e559e3",
       "version_major": 2,
       "version_minor": 0
      },
      "text/plain": [
       "HBox(children=(IntProgress(value=0, description='Pass', max=5, style=ProgressStyle(description_width='initial'…"
      ]
     },
     "metadata": {},
     "output_type": "display_data"
    },
    {
     "data": {
      "application/vnd.jupyter.widget-view+json": {
       "model_id": "",
       "version_major": 2,
       "version_minor": 0
      },
      "text/plain": [
       "HBox(children=(IntProgress(value=0, description='Batch', max=84, style=ProgressStyle(description_width='initia…"
      ]
     },
     "metadata": {},
     "output_type": "display_data"
    },
    {
     "data": {
      "application/vnd.jupyter.widget-view+json": {
       "model_id": "",
       "version_major": 2,
       "version_minor": 0
      },
      "text/plain": [
       "HBox(children=(IntProgress(value=0, description='Batch', max=84, style=ProgressStyle(description_width='initia…"
      ]
     },
     "metadata": {},
     "output_type": "display_data"
    },
    {
     "data": {
      "application/vnd.jupyter.widget-view+json": {
       "model_id": "",
       "version_major": 2,
       "version_minor": 0
      },
      "text/plain": [
       "HBox(children=(IntProgress(value=0, description='Batch', max=84, style=ProgressStyle(description_width='initia…"
      ]
     },
     "metadata": {},
     "output_type": "display_data"
    },
    {
     "data": {
      "application/vnd.jupyter.widget-view+json": {
       "model_id": "",
       "version_major": 2,
       "version_minor": 0
      },
      "text/plain": [
       "HBox(children=(IntProgress(value=0, description='Batch', max=84, style=ProgressStyle(description_width='initia…"
      ]
     },
     "metadata": {},
     "output_type": "display_data"
    },
    {
     "data": {
      "application/vnd.jupyter.widget-view+json": {
       "model_id": "",
       "version_major": 2,
       "version_minor": 0
      },
      "text/plain": [
       "HBox(children=(IntProgress(value=0, description='Batch', max=84, style=ProgressStyle(description_width='initia…"
      ]
     },
     "metadata": {},
     "output_type": "display_data"
    },
    {
     "name": "stdout",
     "output_type": "stream",
     "text": [
      "\n"
     ]
    },
    {
     "data": {
      "application/vnd.jupyter.widget-view+json": {
       "model_id": "7fda440171fa45a885757e8d1016143b",
       "version_major": 2,
       "version_minor": 0
      },
      "text/plain": [
       "HBox(children=(IntProgress(value=0, description='Pass', max=15, style=ProgressStyle(description_width='initial…"
      ]
     },
     "metadata": {},
     "output_type": "display_data"
    },
    {
     "data": {
      "application/vnd.jupyter.widget-view+json": {
       "model_id": "",
       "version_major": 2,
       "version_minor": 0
      },
      "text/plain": [
       "HBox(children=(IntProgress(value=0, description='Batch', max=84, style=ProgressStyle(description_width='initia…"
      ]
     },
     "metadata": {},
     "output_type": "display_data"
    },
    {
     "data": {
      "application/vnd.jupyter.widget-view+json": {
       "model_id": "",
       "version_major": 2,
       "version_minor": 0
      },
      "text/plain": [
       "HBox(children=(IntProgress(value=0, description='Batch', max=84, style=ProgressStyle(description_width='initia…"
      ]
     },
     "metadata": {},
     "output_type": "display_data"
    },
    {
     "data": {
      "application/vnd.jupyter.widget-view+json": {
       "model_id": "",
       "version_major": 2,
       "version_minor": 0
      },
      "text/plain": [
       "HBox(children=(IntProgress(value=0, description='Batch', max=84, style=ProgressStyle(description_width='initia…"
      ]
     },
     "metadata": {},
     "output_type": "display_data"
    },
    {
     "data": {
      "application/vnd.jupyter.widget-view+json": {
       "model_id": "",
       "version_major": 2,
       "version_minor": 0
      },
      "text/plain": [
       "HBox(children=(IntProgress(value=0, description='Batch', max=84, style=ProgressStyle(description_width='initia…"
      ]
     },
     "metadata": {},
     "output_type": "display_data"
    },
    {
     "data": {
      "application/vnd.jupyter.widget-view+json": {
       "model_id": "",
       "version_major": 2,
       "version_minor": 0
      },
      "text/plain": [
       "HBox(children=(IntProgress(value=0, description='Batch', max=84, style=ProgressStyle(description_width='initia…"
      ]
     },
     "metadata": {},
     "output_type": "display_data"
    },
    {
     "data": {
      "application/vnd.jupyter.widget-view+json": {
       "model_id": "",
       "version_major": 2,
       "version_minor": 0
      },
      "text/plain": [
       "HBox(children=(IntProgress(value=0, description='Batch', max=84, style=ProgressStyle(description_width='initia…"
      ]
     },
     "metadata": {},
     "output_type": "display_data"
    },
    {
     "data": {
      "application/vnd.jupyter.widget-view+json": {
       "model_id": "",
       "version_major": 2,
       "version_minor": 0
      },
      "text/plain": [
       "HBox(children=(IntProgress(value=0, description='Batch', max=84, style=ProgressStyle(description_width='initia…"
      ]
     },
     "metadata": {},
     "output_type": "display_data"
    },
    {
     "data": {
      "application/vnd.jupyter.widget-view+json": {
       "model_id": "",
       "version_major": 2,
       "version_minor": 0
      },
      "text/plain": [
       "HBox(children=(IntProgress(value=0, description='Batch', max=84, style=ProgressStyle(description_width='initia…"
      ]
     },
     "metadata": {},
     "output_type": "display_data"
    },
    {
     "data": {
      "application/vnd.jupyter.widget-view+json": {
       "model_id": "",
       "version_major": 2,
       "version_minor": 0
      },
      "text/plain": [
       "HBox(children=(IntProgress(value=0, description='Batch', max=84, style=ProgressStyle(description_width='initia…"
      ]
     },
     "metadata": {},
     "output_type": "display_data"
    },
    {
     "data": {
      "application/vnd.jupyter.widget-view+json": {
       "model_id": "",
       "version_major": 2,
       "version_minor": 0
      },
      "text/plain": [
       "HBox(children=(IntProgress(value=0, description='Batch', max=84, style=ProgressStyle(description_width='initia…"
      ]
     },
     "metadata": {},
     "output_type": "display_data"
    },
    {
     "data": {
      "application/vnd.jupyter.widget-view+json": {
       "model_id": "",
       "version_major": 2,
       "version_minor": 0
      },
      "text/plain": [
       "HBox(children=(IntProgress(value=0, description='Batch', max=84, style=ProgressStyle(description_width='initia…"
      ]
     },
     "metadata": {},
     "output_type": "display_data"
    },
    {
     "data": {
      "application/vnd.jupyter.widget-view+json": {
       "model_id": "",
       "version_major": 2,
       "version_minor": 0
      },
      "text/plain": [
       "HBox(children=(IntProgress(value=0, description='Batch', max=84, style=ProgressStyle(description_width='initia…"
      ]
     },
     "metadata": {},
     "output_type": "display_data"
    },
    {
     "data": {
      "application/vnd.jupyter.widget-view+json": {
       "model_id": "",
       "version_major": 2,
       "version_minor": 0
      },
      "text/plain": [
       "HBox(children=(IntProgress(value=0, description='Batch', max=84, style=ProgressStyle(description_width='initia…"
      ]
     },
     "metadata": {},
     "output_type": "display_data"
    },
    {
     "data": {
      "application/vnd.jupyter.widget-view+json": {
       "model_id": "",
       "version_major": 2,
       "version_minor": 0
      },
      "text/plain": [
       "HBox(children=(IntProgress(value=0, description='Batch', max=84, style=ProgressStyle(description_width='initia…"
      ]
     },
     "metadata": {},
     "output_type": "display_data"
    },
    {
     "data": {
      "application/vnd.jupyter.widget-view+json": {
       "model_id": "",
       "version_major": 2,
       "version_minor": 0
      },
      "text/plain": [
       "HBox(children=(IntProgress(value=0, description='Batch', max=84, style=ProgressStyle(description_width='initia…"
      ]
     },
     "metadata": {},
     "output_type": "display_data"
    },
    {
     "name": "stdout",
     "output_type": "stream",
     "text": [
      "\n"
     ]
    },
    {
     "data": {
      "application/vnd.jupyter.widget-view+json": {
       "model_id": "15294de65af0483ebf6c77a9f43b002a",
       "version_major": 2,
       "version_minor": 0
      },
      "text/plain": [
       "HBox(children=(IntProgress(value=0, description='Pass', max=15, style=ProgressStyle(description_width='initial…"
      ]
     },
     "metadata": {},
     "output_type": "display_data"
    },
    {
     "data": {
      "application/vnd.jupyter.widget-view+json": {
       "model_id": "",
       "version_major": 2,
       "version_minor": 0
      },
      "text/plain": [
       "HBox(children=(IntProgress(value=0, description='Batch', max=84, style=ProgressStyle(description_width='initia…"
      ]
     },
     "metadata": {},
     "output_type": "display_data"
    },
    {
     "data": {
      "application/vnd.jupyter.widget-view+json": {
       "model_id": "",
       "version_major": 2,
       "version_minor": 0
      },
      "text/plain": [
       "HBox(children=(IntProgress(value=0, description='Batch', max=84, style=ProgressStyle(description_width='initia…"
      ]
     },
     "metadata": {},
     "output_type": "display_data"
    },
    {
     "data": {
      "application/vnd.jupyter.widget-view+json": {
       "model_id": "",
       "version_major": 2,
       "version_minor": 0
      },
      "text/plain": [
       "HBox(children=(IntProgress(value=0, description='Batch', max=84, style=ProgressStyle(description_width='initia…"
      ]
     },
     "metadata": {},
     "output_type": "display_data"
    },
    {
     "data": {
      "application/vnd.jupyter.widget-view+json": {
       "model_id": "",
       "version_major": 2,
       "version_minor": 0
      },
      "text/plain": [
       "HBox(children=(IntProgress(value=0, description='Batch', max=84, style=ProgressStyle(description_width='initia…"
      ]
     },
     "metadata": {},
     "output_type": "display_data"
    },
    {
     "data": {
      "application/vnd.jupyter.widget-view+json": {
       "model_id": "",
       "version_major": 2,
       "version_minor": 0
      },
      "text/plain": [
       "HBox(children=(IntProgress(value=0, description='Batch', max=84, style=ProgressStyle(description_width='initia…"
      ]
     },
     "metadata": {},
     "output_type": "display_data"
    },
    {
     "data": {
      "application/vnd.jupyter.widget-view+json": {
       "model_id": "",
       "version_major": 2,
       "version_minor": 0
      },
      "text/plain": [
       "HBox(children=(IntProgress(value=0, description='Batch', max=84, style=ProgressStyle(description_width='initia…"
      ]
     },
     "metadata": {},
     "output_type": "display_data"
    },
    {
     "data": {
      "application/vnd.jupyter.widget-view+json": {
       "model_id": "",
       "version_major": 2,
       "version_minor": 0
      },
      "text/plain": [
       "HBox(children=(IntProgress(value=0, description='Batch', max=84, style=ProgressStyle(description_width='initia…"
      ]
     },
     "metadata": {},
     "output_type": "display_data"
    },
    {
     "data": {
      "application/vnd.jupyter.widget-view+json": {
       "model_id": "",
       "version_major": 2,
       "version_minor": 0
      },
      "text/plain": [
       "HBox(children=(IntProgress(value=0, description='Batch', max=84, style=ProgressStyle(description_width='initia…"
      ]
     },
     "metadata": {},
     "output_type": "display_data"
    },
    {
     "data": {
      "application/vnd.jupyter.widget-view+json": {
       "model_id": "",
       "version_major": 2,
       "version_minor": 0
      },
      "text/plain": [
       "HBox(children=(IntProgress(value=0, description='Batch', max=84, style=ProgressStyle(description_width='initia…"
      ]
     },
     "metadata": {},
     "output_type": "display_data"
    },
    {
     "data": {
      "application/vnd.jupyter.widget-view+json": {
       "model_id": "",
       "version_major": 2,
       "version_minor": 0
      },
      "text/plain": [
       "HBox(children=(IntProgress(value=0, description='Batch', max=84, style=ProgressStyle(description_width='initia…"
      ]
     },
     "metadata": {},
     "output_type": "display_data"
    },
    {
     "data": {
      "application/vnd.jupyter.widget-view+json": {
       "model_id": "",
       "version_major": 2,
       "version_minor": 0
      },
      "text/plain": [
       "HBox(children=(IntProgress(value=0, description='Batch', max=84, style=ProgressStyle(description_width='initia…"
      ]
     },
     "metadata": {},
     "output_type": "display_data"
    },
    {
     "data": {
      "application/vnd.jupyter.widget-view+json": {
       "model_id": "",
       "version_major": 2,
       "version_minor": 0
      },
      "text/plain": [
       "HBox(children=(IntProgress(value=0, description='Batch', max=84, style=ProgressStyle(description_width='initia…"
      ]
     },
     "metadata": {},
     "output_type": "display_data"
    },
    {
     "data": {
      "application/vnd.jupyter.widget-view+json": {
       "model_id": "",
       "version_major": 2,
       "version_minor": 0
      },
      "text/plain": [
       "HBox(children=(IntProgress(value=0, description='Batch', max=84, style=ProgressStyle(description_width='initia…"
      ]
     },
     "metadata": {},
     "output_type": "display_data"
    },
    {
     "data": {
      "application/vnd.jupyter.widget-view+json": {
       "model_id": "",
       "version_major": 2,
       "version_minor": 0
      },
      "text/plain": [
       "HBox(children=(IntProgress(value=0, description='Batch', max=84, style=ProgressStyle(description_width='initia…"
      ]
     },
     "metadata": {},
     "output_type": "display_data"
    },
    {
     "data": {
      "application/vnd.jupyter.widget-view+json": {
       "model_id": "",
       "version_major": 2,
       "version_minor": 0
      },
      "text/plain": [
       "HBox(children=(IntProgress(value=0, description='Batch', max=84, style=ProgressStyle(description_width='initia…"
      ]
     },
     "metadata": {},
     "output_type": "display_data"
    },
    {
     "name": "stdout",
     "output_type": "stream",
     "text": [
      "\n",
      "\tSparsityThetaScore: 0.6768782138824463\n",
      "\tSparsityPhiScore: 0.8550645709037781\n",
      "\tPerplexityScore: 2171.51611328125\n"
     ]
    }
   ],
   "source": [
    "num_topics = select_topics\n",
    "model = artm.ARTM(num_topics=num_topics, dictionary=dictionary, show_progress_bars=True)\n",
    "\n",
    "# scores\n",
    "model.scores.add(artm.PerplexityScore(name='PerplexityScore', dictionary=dictionary))\n",
    "model.scores.add(artm.SparsityThetaScore(name='SparsityThetaScore'))\n",
    "model.scores.add(artm.SparsityPhiScore(name='SparsityPhiScore'))\n",
    "\n",
    "# 1st regularizer\n",
    "model.regularizers.add(artm.SmoothSparsePhiRegularizer(name='SparsePhi', tau=-1.0)) #-0.1\n",
    "model.fit_offline(batch_vectorizer=batch_vectorizer, num_collection_passes=5)\n",
    "\n",
    "# 2st regularizer\n",
    "model.regularizers.add(artm.SmoothSparseThetaRegularizer(name='SparseTheta', tau=-0.5))\n",
    "model.fit_offline(batch_vectorizer=batch_vectorizer, num_collection_passes=15)\n",
    "\n",
    "# 3st regularizer\n",
    "model.regularizers.add(artm.DecorrelatorPhiRegularizer(name='DecorrelatorPhi', tau=1.5e+5))\n",
    "model.fit_offline(batch_vectorizer=batch_vectorizer, num_collection_passes=15)\n",
    "\n",
    "sparsityTheta = model.score_tracker['SparsityThetaScore'].last_value\n",
    "sparsityPhi = model.score_tracker['SparsityPhiScore'].last_value\n",
    "perpl = model.score_tracker['PerplexityScore'].last_value\n",
    "\n",
    "print(f'\\tSparsityThetaScore: {sparsityTheta}')\n",
    "print(f'\\tSparsityPhiScore: {sparsityPhi}')\n",
    "print(f'\\tPerplexityScore: {perpl}')"
   ]
  },
  {
   "cell_type": "code",
   "execution_count": 22,
   "metadata": {
    "ExecuteTime": {
     "end_time": "2019-02-13T23:01:55.262335Z",
     "start_time": "2019-02-13T23:01:55.210972Z"
    }
   },
   "outputs": [
    {
     "data": {
      "text/plain": [
       "17"
      ]
     },
     "execution_count": 22,
     "metadata": {},
     "output_type": "execute_result"
    }
   ],
   "source": [
    "best_model = model.clone()\n",
    "best_model.num_topics"
   ]
  },
  {
   "cell_type": "markdown",
   "metadata": {},
   "source": [
    "---"
   ]
  },
  {
   "cell_type": "markdown",
   "metadata": {
    "ExecuteTime": {
     "end_time": "2019-02-01T00:14:02.339878Z",
     "start_time": "2019-02-01T00:14:02.338133Z"
    }
   },
   "source": [
    "### print top words for each topics"
   ]
  },
  {
   "cell_type": "code",
   "execution_count": 23,
   "metadata": {
    "ExecuteTime": {
     "end_time": "2019-02-13T23:02:30.079456Z",
     "start_time": "2019-02-13T23:02:29.941829Z"
    }
   },
   "outputs": [
    {
     "name": "stdout",
     "output_type": "stream",
     "text": [
      "topic_0: ['землетрясение' 'остров' 'япония' 'китай' 'китайский' 'судно' 'японский'\n",
      " 'кнр' 'судный' 'километр']\n",
      "topic_1: ['партия' 'трамп' 'выбор' 'пост' 'дональд_трамп' 'кандидат'\n",
      " 'президентский' 'парламент' 'голос' 'выборы']\n",
      "topic_2: ['ес' 'украина' 'европейский' 'германия' 'великобритания' 'европа'\n",
      " 'евросоюз' 'совет' 'брюссель' 'соглашение']\n",
      "topic_3: ['самолёт' 'корабль' 'полёт' 'ввс' 'воздушный' 'нато' 'оборона' 'база'\n",
      " 'вмс' 'граница']\n",
      "topic_4: ['санкция' 'миллион' 'миллиард' 'случай' 'список' 'ввести' 'финансовый'\n",
      " 'новый' 'евро' 'запрет']\n",
      "topic_5: ['корея' 'кндр' 'южный' 'ракета' 'северный' 'ядерный' 'пхеньян'\n",
      " 'северокорейский' 'южнокорейский' 'испытание']\n",
      "topic_6: ['подчеркнуть' 'проблема' 'иф' 'хотеть' 'добавить' 'очень' 'москва'\n",
      " 'вашингтон' 'сотрудничество' 'важный']\n",
      "topic_7: ['расследование' 'великобритания' 'сотрудник' 'обвинение' 'документ'\n",
      " 'издание' 'саудовский' 'бывший' 'спецслужба' 'источник']\n",
      "topic_8: ['оон' 'мид' 'посольство' 'резолюция' 'совет' 'оружие' 'дипломат'\n",
      " 'химический' 'посол' 'сб']\n",
      "topic_9: ['взрыв' 'самолёт' 'аэропорт' 'погибший' 'место' 'жертва' 'пассажир'\n",
      " 'пострадавший' 'здание' 'ранение']\n",
      "topic_10: ['группировка' 'ирак' 'боевик' 'иго' 'исламский' 'афганистан' 'египет'\n",
      " 'террористический' 'операция' 'террорист']\n",
      "topic_11: ['протест' 'акция' 'оппозиция' 'столкновение' 'демонстрант' 'участник'\n",
      " 'сирийский' 'беспорядок' 'демонстрация' 'протестовать']\n",
      "topic_12: ['иран' 'израиль' 'переговоры' 'иранский' 'израильский' 'ядерный'\n",
      " 'соглашение' 'газа' 'встреча' 'палестинский']\n",
      "topic_13: ['нато' 'обвинение' 'бывший' 'тюрьма' 'заключение' 'право' 'признать'\n",
      " 'альянс' 'судебный' 'адвокат']\n",
      "topic_14: ['сирийский' 'турция' 'турецкий' 'удар' 'провинция' 'пункт' 'боевик'\n",
      " 'алеппо' 'гуманитарный' 'населить']\n",
      "topic_15: ['франция' 'французский' 'задержать' 'летний' 'мужчина' 'полицейский'\n",
      " 'женщина' 'теракт' 'ребёнок' 'париж']\n",
      "topic_16: ['штат' 'изз' 'испания' 'италия' 'житель' 'итальянский' 'дом' 'испанский'\n",
      " 'каталония' 'ураган']\n"
     ]
    }
   ],
   "source": [
    "phi = best_model.get_phi()\n",
    "phi['word'] = phi.index\n",
    "#phi.head()\n",
    "\n",
    "for col in phi.columns:\n",
    "    if col != 'word':\n",
    "        print(f\"{col}: {phi[[col, 'word']].sort_values(by=col, ascending=False)['word'].values[:10]}\")\n",
    "        #print('\\t',phi[[col, 'word']].sort_values(by=col, ascending=False)['word'].values[:10])"
   ]
  },
  {
   "cell_type": "code",
   "execution_count": null,
   "metadata": {},
   "outputs": [],
   "source": []
  },
  {
   "cell_type": "markdown",
   "metadata": {},
   "source": [
    "### get topics-docs matrix"
   ]
  },
  {
   "cell_type": "code",
   "execution_count": 24,
   "metadata": {
    "ExecuteTime": {
     "end_time": "2019-02-13T23:02:39.431844Z",
     "start_time": "2019-02-13T23:02:38.463532Z"
    }
   },
   "outputs": [
    {
     "data": {
      "application/vnd.jupyter.widget-view+json": {
       "model_id": "",
       "version_major": 2,
       "version_minor": 0
      },
      "text/plain": [
       "HBox(children=(IntProgress(value=0, description='Batch', max=84, style=ProgressStyle(description_width='initia…"
      ]
     },
     "metadata": {},
     "output_type": "display_data"
    },
    {
     "name": "stdout",
     "output_type": "stream",
     "text": [
      "\r",
      "shape theta: (17, 82475)\n"
     ]
    },
    {
     "data": {
      "image/png": "[encoded data removed]",
      "text/plain": [
       "<Figure size 1440x1440 with 1 Axes>"
      ]
     },
     "metadata": {
      "needs_background": "light"
     },
     "output_type": "display_data"
    }
   ],
   "source": [
    "theta = best_model.transform_sparse(batch_vectorizer=batch_vectorizer, eps=0.001)\n",
    "print(f'shape theta: {theta[0].shape}')\n",
    "\n",
    "plt.figure(figsize=(20, 20))\n",
    "plt.imshow(theta[0][:, 2000:2500].toarray());"
   ]
  },
  {
   "cell_type": "code",
   "execution_count": null,
   "metadata": {},
   "outputs": [],
   "source": []
  },
  {
   "cell_type": "markdown",
   "metadata": {},
   "source": [
    "### dense theta matrix"
   ]
  },
  {
   "cell_type": "code",
   "execution_count": 25,
   "metadata": {
    "ExecuteTime": {
     "end_time": "2019-02-13T23:02:39.992216Z",
     "start_time": "2019-02-13T23:02:39.433383Z"
    }
   },
   "outputs": [
    {
     "data": {
      "application/vnd.jupyter.widget-view+json": {
       "model_id": "",
       "version_major": 2,
       "version_minor": 0
      },
      "text/plain": [
       "HBox(children=(IntProgress(value=0, description='Batch', max=84, style=ProgressStyle(description_width='initia…"
      ]
     },
     "metadata": {},
     "output_type": "display_data"
    },
    {
     "name": "stdout",
     "output_type": "stream",
     "text": [
      "\r"
     ]
    },
    {
     "data": {
      "text/html": [
       "<div>\n",
       "<style scoped>\n",
       "    .dataframe tbody tr th:only-of-type {\n",
       "        vertical-align: middle;\n",
       "    }\n",
       "\n",
       "    .dataframe tbody tr th {\n",
       "        vertical-align: top;\n",
       "    }\n",
       "\n",
       "    .dataframe thead th {\n",
       "        text-align: right;\n",
       "    }\n",
       "</style>\n",
       "<table border=\"1\" class=\"dataframe\">\n",
       "  <thead>\n",
       "    <tr style=\"text-align: right;\">\n",
       "      <th></th>\n",
       "      <th>topic_0</th>\n",
       "      <th>topic_1</th>\n",
       "      <th>topic_2</th>\n",
       "      <th>topic_3</th>\n",
       "      <th>topic_4</th>\n",
       "      <th>topic_5</th>\n",
       "      <th>topic_6</th>\n",
       "      <th>topic_7</th>\n",
       "      <th>topic_8</th>\n",
       "      <th>topic_9</th>\n",
       "      <th>topic_10</th>\n",
       "      <th>topic_11</th>\n",
       "      <th>topic_12</th>\n",
       "      <th>topic_13</th>\n",
       "      <th>topic_14</th>\n",
       "      <th>topic_15</th>\n",
       "      <th>topic_16</th>\n",
       "    </tr>\n",
       "  </thead>\n",
       "  <tbody>\n",
       "    <tr>\n",
       "      <th>77000</th>\n",
       "      <td>0.000000</td>\n",
       "      <td>0.342002</td>\n",
       "      <td>0.000000</td>\n",
       "      <td>0.00000</td>\n",
       "      <td>0.000000</td>\n",
       "      <td>0.000000</td>\n",
       "      <td>0.000000</td>\n",
       "      <td>0.275335</td>\n",
       "      <td>0.060151</td>\n",
       "      <td>0.000000</td>\n",
       "      <td>0.0</td>\n",
       "      <td>0.000000</td>\n",
       "      <td>0.000000</td>\n",
       "      <td>0.322513</td>\n",
       "      <td>0.0</td>\n",
       "      <td>0.000000</td>\n",
       "      <td>0.000000</td>\n",
       "    </tr>\n",
       "    <tr>\n",
       "      <th>77001</th>\n",
       "      <td>0.000000</td>\n",
       "      <td>0.302953</td>\n",
       "      <td>0.134013</td>\n",
       "      <td>0.00000</td>\n",
       "      <td>0.000000</td>\n",
       "      <td>0.000000</td>\n",
       "      <td>0.310864</td>\n",
       "      <td>0.126049</td>\n",
       "      <td>0.000000</td>\n",
       "      <td>0.000000</td>\n",
       "      <td>0.0</td>\n",
       "      <td>0.000000</td>\n",
       "      <td>0.109054</td>\n",
       "      <td>0.017068</td>\n",
       "      <td>0.0</td>\n",
       "      <td>0.000000</td>\n",
       "      <td>0.000000</td>\n",
       "    </tr>\n",
       "    <tr>\n",
       "      <th>77002</th>\n",
       "      <td>0.000000</td>\n",
       "      <td>0.000000</td>\n",
       "      <td>0.054665</td>\n",
       "      <td>0.00000</td>\n",
       "      <td>0.000000</td>\n",
       "      <td>0.237557</td>\n",
       "      <td>0.570953</td>\n",
       "      <td>0.064694</td>\n",
       "      <td>0.000000</td>\n",
       "      <td>0.000000</td>\n",
       "      <td>0.0</td>\n",
       "      <td>0.000000</td>\n",
       "      <td>0.000000</td>\n",
       "      <td>0.012866</td>\n",
       "      <td>0.0</td>\n",
       "      <td>0.059265</td>\n",
       "      <td>0.000000</td>\n",
       "    </tr>\n",
       "    <tr>\n",
       "      <th>77003</th>\n",
       "      <td>0.000000</td>\n",
       "      <td>0.000000</td>\n",
       "      <td>0.555030</td>\n",
       "      <td>0.00893</td>\n",
       "      <td>0.059196</td>\n",
       "      <td>0.000000</td>\n",
       "      <td>0.158399</td>\n",
       "      <td>0.043710</td>\n",
       "      <td>0.052438</td>\n",
       "      <td>0.059350</td>\n",
       "      <td>0.0</td>\n",
       "      <td>0.027784</td>\n",
       "      <td>0.000000</td>\n",
       "      <td>0.000000</td>\n",
       "      <td>0.0</td>\n",
       "      <td>0.035165</td>\n",
       "      <td>0.000000</td>\n",
       "    </tr>\n",
       "    <tr>\n",
       "      <th>77004</th>\n",
       "      <td>0.205733</td>\n",
       "      <td>0.000000</td>\n",
       "      <td>0.272686</td>\n",
       "      <td>0.00000</td>\n",
       "      <td>0.040223</td>\n",
       "      <td>0.000000</td>\n",
       "      <td>0.085124</td>\n",
       "      <td>0.000000</td>\n",
       "      <td>0.073285</td>\n",
       "      <td>0.079735</td>\n",
       "      <td>0.0</td>\n",
       "      <td>0.000000</td>\n",
       "      <td>0.000000</td>\n",
       "      <td>0.074709</td>\n",
       "      <td>0.0</td>\n",
       "      <td>0.047103</td>\n",
       "      <td>0.121403</td>\n",
       "    </tr>\n",
       "  </tbody>\n",
       "</table>\n",
       "</div>"
      ],
      "text/plain": [
       "        topic_0   topic_1   topic_2  topic_3   topic_4   topic_5   topic_6  \\\n",
       "77000  0.000000  0.342002  0.000000  0.00000  0.000000  0.000000  0.000000   \n",
       "77001  0.000000  0.302953  0.134013  0.00000  0.000000  0.000000  0.310864   \n",
       "77002  0.000000  0.000000  0.054665  0.00000  0.000000  0.237557  0.570953   \n",
       "77003  0.000000  0.000000  0.555030  0.00893  0.059196  0.000000  0.158399   \n",
       "77004  0.205733  0.000000  0.272686  0.00000  0.040223  0.000000  0.085124   \n",
       "\n",
       "        topic_7   topic_8   topic_9  topic_10  topic_11  topic_12  topic_13  \\\n",
       "77000  0.275335  0.060151  0.000000       0.0  0.000000  0.000000  0.322513   \n",
       "77001  0.126049  0.000000  0.000000       0.0  0.000000  0.109054  0.017068   \n",
       "77002  0.064694  0.000000  0.000000       0.0  0.000000  0.000000  0.012866   \n",
       "77003  0.043710  0.052438  0.059350       0.0  0.027784  0.000000  0.000000   \n",
       "77004  0.000000  0.073285  0.079735       0.0  0.000000  0.000000  0.074709   \n",
       "\n",
       "       topic_14  topic_15  topic_16  \n",
       "77000       0.0  0.000000  0.000000  \n",
       "77001       0.0  0.000000  0.000000  \n",
       "77002       0.0  0.059265  0.000000  \n",
       "77003       0.0  0.035165  0.000000  \n",
       "77004       0.0  0.047103  0.121403  "
      ]
     },
     "execution_count": 25,
     "metadata": {},
     "output_type": "execute_result"
    }
   ],
   "source": [
    "theta = best_model.transform(batch_vectorizer=batch_vectorizer)\n",
    "theta = theta.T\n",
    "theta.head()"
   ]
  },
  {
   "cell_type": "code",
   "execution_count": null,
   "metadata": {},
   "outputs": [],
   "source": []
  },
  {
   "cell_type": "markdown",
   "metadata": {},
   "source": [
    "## DataViz"
   ]
  },
  {
   "cell_type": "code",
   "execution_count": 26,
   "metadata": {
    "ExecuteTime": {
     "end_time": "2019-02-13T23:02:40.013144Z",
     "start_time": "2019-02-13T23:02:39.994140Z"
    }
   },
   "outputs": [
    {
     "data": {
      "text/html": [
       "<div>\n",
       "<style scoped>\n",
       "    .dataframe tbody tr th:only-of-type {\n",
       "        vertical-align: middle;\n",
       "    }\n",
       "\n",
       "    .dataframe tbody tr th {\n",
       "        vertical-align: top;\n",
       "    }\n",
       "\n",
       "    .dataframe thead th {\n",
       "        text-align: right;\n",
       "    }\n",
       "</style>\n",
       "<table border=\"1\" class=\"dataframe\">\n",
       "  <thead>\n",
       "    <tr style=\"text-align: right;\">\n",
       "      <th></th>\n",
       "      <th>docID</th>\n",
       "      <th>year</th>\n",
       "      <th>month</th>\n",
       "      <th>topic_0</th>\n",
       "      <th>topic_1</th>\n",
       "      <th>topic_2</th>\n",
       "      <th>topic_3</th>\n",
       "      <th>topic_4</th>\n",
       "      <th>topic_5</th>\n",
       "      <th>topic_6</th>\n",
       "      <th>topic_7</th>\n",
       "      <th>topic_8</th>\n",
       "      <th>topic_9</th>\n",
       "      <th>topic_10</th>\n",
       "      <th>topic_11</th>\n",
       "      <th>topic_12</th>\n",
       "      <th>topic_13</th>\n",
       "      <th>topic_14</th>\n",
       "      <th>topic_15</th>\n",
       "      <th>topic_16</th>\n",
       "    </tr>\n",
       "  </thead>\n",
       "  <tbody>\n",
       "    <tr>\n",
       "      <th>0</th>\n",
       "      <td>0</td>\n",
       "      <td>2008</td>\n",
       "      <td>2</td>\n",
       "      <td>0.000000</td>\n",
       "      <td>0.929687</td>\n",
       "      <td>0.0</td>\n",
       "      <td>0.000000</td>\n",
       "      <td>0.000000</td>\n",
       "      <td>0.0</td>\n",
       "      <td>0.000000</td>\n",
       "      <td>0.000000</td>\n",
       "      <td>0.000000</td>\n",
       "      <td>0.0</td>\n",
       "      <td>0.000000</td>\n",
       "      <td>0.028721</td>\n",
       "      <td>0.0</td>\n",
       "      <td>0.000000</td>\n",
       "      <td>0.0</td>\n",
       "      <td>0.000000</td>\n",
       "      <td>0.041592</td>\n",
       "    </tr>\n",
       "    <tr>\n",
       "      <th>1</th>\n",
       "      <td>1</td>\n",
       "      <td>2008</td>\n",
       "      <td>2</td>\n",
       "      <td>0.000000</td>\n",
       "      <td>0.000000</td>\n",
       "      <td>0.0</td>\n",
       "      <td>0.000000</td>\n",
       "      <td>0.000000</td>\n",
       "      <td>0.0</td>\n",
       "      <td>0.433215</td>\n",
       "      <td>0.000000</td>\n",
       "      <td>0.000000</td>\n",
       "      <td>0.0</td>\n",
       "      <td>0.419578</td>\n",
       "      <td>0.093674</td>\n",
       "      <td>0.0</td>\n",
       "      <td>0.000000</td>\n",
       "      <td>0.0</td>\n",
       "      <td>0.025685</td>\n",
       "      <td>0.027848</td>\n",
       "    </tr>\n",
       "    <tr>\n",
       "      <th>2</th>\n",
       "      <td>2</td>\n",
       "      <td>2008</td>\n",
       "      <td>2</td>\n",
       "      <td>0.000000</td>\n",
       "      <td>0.740797</td>\n",
       "      <td>0.0</td>\n",
       "      <td>0.000000</td>\n",
       "      <td>0.108779</td>\n",
       "      <td>0.0</td>\n",
       "      <td>0.141671</td>\n",
       "      <td>0.000000</td>\n",
       "      <td>0.000000</td>\n",
       "      <td>0.0</td>\n",
       "      <td>0.003504</td>\n",
       "      <td>0.000000</td>\n",
       "      <td>0.0</td>\n",
       "      <td>0.005249</td>\n",
       "      <td>0.0</td>\n",
       "      <td>0.000000</td>\n",
       "      <td>0.000000</td>\n",
       "    </tr>\n",
       "    <tr>\n",
       "      <th>3</th>\n",
       "      <td>3</td>\n",
       "      <td>2008</td>\n",
       "      <td>2</td>\n",
       "      <td>0.082513</td>\n",
       "      <td>0.023565</td>\n",
       "      <td>0.0</td>\n",
       "      <td>0.024114</td>\n",
       "      <td>0.000000</td>\n",
       "      <td>0.0</td>\n",
       "      <td>0.147516</td>\n",
       "      <td>0.093379</td>\n",
       "      <td>0.012368</td>\n",
       "      <td>0.0</td>\n",
       "      <td>0.099413</td>\n",
       "      <td>0.070451</td>\n",
       "      <td>0.0</td>\n",
       "      <td>0.191987</td>\n",
       "      <td>0.0</td>\n",
       "      <td>0.180863</td>\n",
       "      <td>0.073831</td>\n",
       "    </tr>\n",
       "    <tr>\n",
       "      <th>4</th>\n",
       "      <td>4</td>\n",
       "      <td>2008</td>\n",
       "      <td>2</td>\n",
       "      <td>0.000000</td>\n",
       "      <td>0.092053</td>\n",
       "      <td>0.0</td>\n",
       "      <td>0.000000</td>\n",
       "      <td>0.000000</td>\n",
       "      <td>0.0</td>\n",
       "      <td>0.288410</td>\n",
       "      <td>0.000000</td>\n",
       "      <td>0.106914</td>\n",
       "      <td>0.0</td>\n",
       "      <td>0.000000</td>\n",
       "      <td>0.000000</td>\n",
       "      <td>0.0</td>\n",
       "      <td>0.463214</td>\n",
       "      <td>0.0</td>\n",
       "      <td>0.000000</td>\n",
       "      <td>0.049409</td>\n",
       "    </tr>\n",
       "  </tbody>\n",
       "</table>\n",
       "</div>"
      ],
      "text/plain": [
       "   docID  year  month   topic_0   topic_1  topic_2   topic_3   topic_4  \\\n",
       "0      0  2008      2  0.000000  0.929687      0.0  0.000000  0.000000   \n",
       "1      1  2008      2  0.000000  0.000000      0.0  0.000000  0.000000   \n",
       "2      2  2008      2  0.000000  0.740797      0.0  0.000000  0.108779   \n",
       "3      3  2008      2  0.082513  0.023565      0.0  0.024114  0.000000   \n",
       "4      4  2008      2  0.000000  0.092053      0.0  0.000000  0.000000   \n",
       "\n",
       "   topic_5   topic_6   topic_7   topic_8  topic_9  topic_10  topic_11  \\\n",
       "0      0.0  0.000000  0.000000  0.000000      0.0  0.000000  0.028721   \n",
       "1      0.0  0.433215  0.000000  0.000000      0.0  0.419578  0.093674   \n",
       "2      0.0  0.141671  0.000000  0.000000      0.0  0.003504  0.000000   \n",
       "3      0.0  0.147516  0.093379  0.012368      0.0  0.099413  0.070451   \n",
       "4      0.0  0.288410  0.000000  0.106914      0.0  0.000000  0.000000   \n",
       "\n",
       "   topic_12  topic_13  topic_14  topic_15  topic_16  \n",
       "0       0.0  0.000000       0.0  0.000000  0.041592  \n",
       "1       0.0  0.000000       0.0  0.025685  0.027848  \n",
       "2       0.0  0.005249       0.0  0.000000  0.000000  \n",
       "3       0.0  0.191987       0.0  0.180863  0.073831  \n",
       "4       0.0  0.463214       0.0  0.000000  0.049409  "
      ]
     },
     "execution_count": 26,
     "metadata": {},
     "output_type": "execute_result"
    }
   ],
   "source": [
    "joined = id_date.join(theta)\n",
    "joined.head()"
   ]
  },
  {
   "cell_type": "code",
   "execution_count": 27,
   "metadata": {
    "ExecuteTime": {
     "end_time": "2019-02-13T23:02:40.040052Z",
     "start_time": "2019-02-13T23:02:40.015163Z"
    }
   },
   "outputs": [
    {
     "name": "stdout",
     "output_type": "stream",
     "text": [
      "gb.shape: (132, 17)\n"
     ]
    },
    {
     "data": {
      "text/html": [
       "<div>\n",
       "<style scoped>\n",
       "    .dataframe tbody tr th:only-of-type {\n",
       "        vertical-align: middle;\n",
       "    }\n",
       "\n",
       "    .dataframe tbody tr th {\n",
       "        vertical-align: top;\n",
       "    }\n",
       "\n",
       "    .dataframe thead th {\n",
       "        text-align: right;\n",
       "    }\n",
       "</style>\n",
       "<table border=\"1\" class=\"dataframe\">\n",
       "  <thead>\n",
       "    <tr style=\"text-align: right;\">\n",
       "      <th></th>\n",
       "      <th></th>\n",
       "      <th>topic_0</th>\n",
       "      <th>topic_1</th>\n",
       "      <th>topic_2</th>\n",
       "      <th>topic_3</th>\n",
       "      <th>topic_4</th>\n",
       "      <th>topic_5</th>\n",
       "      <th>topic_6</th>\n",
       "      <th>topic_7</th>\n",
       "      <th>topic_8</th>\n",
       "      <th>topic_9</th>\n",
       "      <th>topic_10</th>\n",
       "      <th>topic_11</th>\n",
       "      <th>topic_12</th>\n",
       "      <th>topic_13</th>\n",
       "      <th>topic_14</th>\n",
       "      <th>topic_15</th>\n",
       "      <th>topic_16</th>\n",
       "    </tr>\n",
       "    <tr>\n",
       "      <th>year</th>\n",
       "      <th>month</th>\n",
       "      <th></th>\n",
       "      <th></th>\n",
       "      <th></th>\n",
       "      <th></th>\n",
       "      <th></th>\n",
       "      <th></th>\n",
       "      <th></th>\n",
       "      <th></th>\n",
       "      <th></th>\n",
       "      <th></th>\n",
       "      <th></th>\n",
       "      <th></th>\n",
       "      <th></th>\n",
       "      <th></th>\n",
       "      <th></th>\n",
       "      <th></th>\n",
       "      <th></th>\n",
       "    </tr>\n",
       "  </thead>\n",
       "  <tbody>\n",
       "    <tr>\n",
       "      <th rowspan=\"5\" valign=\"top\">2008</th>\n",
       "      <th>2</th>\n",
       "      <td>6.760820</td>\n",
       "      <td>16.988564</td>\n",
       "      <td>11.355030</td>\n",
       "      <td>4.234299</td>\n",
       "      <td>3.509358</td>\n",
       "      <td>3.774497</td>\n",
       "      <td>19.673176</td>\n",
       "      <td>7.123836</td>\n",
       "      <td>20.806864</td>\n",
       "      <td>19.113255</td>\n",
       "      <td>10.154317</td>\n",
       "      <td>10.602359</td>\n",
       "      <td>7.848490</td>\n",
       "      <td>20.522497</td>\n",
       "      <td>5.499299</td>\n",
       "      <td>16.846125</td>\n",
       "      <td>10.187216</td>\n",
       "    </tr>\n",
       "    <tr>\n",
       "      <th>3</th>\n",
       "      <td>19.255020</td>\n",
       "      <td>41.436459</td>\n",
       "      <td>29.110861</td>\n",
       "      <td>11.005562</td>\n",
       "      <td>21.897743</td>\n",
       "      <td>10.358817</td>\n",
       "      <td>48.750629</td>\n",
       "      <td>20.760441</td>\n",
       "      <td>26.922340</td>\n",
       "      <td>35.120823</td>\n",
       "      <td>33.210773</td>\n",
       "      <td>19.416443</td>\n",
       "      <td>26.978424</td>\n",
       "      <td>28.336536</td>\n",
       "      <td>8.197689</td>\n",
       "      <td>26.453314</td>\n",
       "      <td>17.788130</td>\n",
       "    </tr>\n",
       "    <tr>\n",
       "      <th>4</th>\n",
       "      <td>20.947657</td>\n",
       "      <td>30.673637</td>\n",
       "      <td>35.078758</td>\n",
       "      <td>8.336871</td>\n",
       "      <td>25.490173</td>\n",
       "      <td>14.743146</td>\n",
       "      <td>47.587467</td>\n",
       "      <td>15.434190</td>\n",
       "      <td>25.955400</td>\n",
       "      <td>37.653500</td>\n",
       "      <td>30.521046</td>\n",
       "      <td>10.460304</td>\n",
       "      <td>22.706640</td>\n",
       "      <td>31.453356</td>\n",
       "      <td>8.364753</td>\n",
       "      <td>30.770609</td>\n",
       "      <td>25.822493</td>\n",
       "    </tr>\n",
       "    <tr>\n",
       "      <th>5</th>\n",
       "      <td>60.417076</td>\n",
       "      <td>32.623318</td>\n",
       "      <td>20.478098</td>\n",
       "      <td>11.571239</td>\n",
       "      <td>26.423288</td>\n",
       "      <td>9.893529</td>\n",
       "      <td>32.814495</td>\n",
       "      <td>13.962594</td>\n",
       "      <td>25.693048</td>\n",
       "      <td>65.278725</td>\n",
       "      <td>18.893513</td>\n",
       "      <td>16.976309</td>\n",
       "      <td>25.219498</td>\n",
       "      <td>15.017492</td>\n",
       "      <td>13.743458</td>\n",
       "      <td>20.107574</td>\n",
       "      <td>31.886751</td>\n",
       "    </tr>\n",
       "    <tr>\n",
       "      <th>6</th>\n",
       "      <td>35.398441</td>\n",
       "      <td>26.779856</td>\n",
       "      <td>18.589842</td>\n",
       "      <td>8.825212</td>\n",
       "      <td>21.832909</td>\n",
       "      <td>6.330328</td>\n",
       "      <td>27.317072</td>\n",
       "      <td>8.357778</td>\n",
       "      <td>16.667707</td>\n",
       "      <td>48.337650</td>\n",
       "      <td>21.520412</td>\n",
       "      <td>8.559258</td>\n",
       "      <td>20.612549</td>\n",
       "      <td>16.375538</td>\n",
       "      <td>6.739529</td>\n",
       "      <td>19.883636</td>\n",
       "      <td>18.872286</td>\n",
       "    </tr>\n",
       "  </tbody>\n",
       "</table>\n",
       "</div>"
      ],
      "text/plain": [
       "              topic_0    topic_1    topic_2    topic_3    topic_4    topic_5  \\\n",
       "year month                                                                     \n",
       "2008 2       6.760820  16.988564  11.355030   4.234299   3.509358   3.774497   \n",
       "     3      19.255020  41.436459  29.110861  11.005562  21.897743  10.358817   \n",
       "     4      20.947657  30.673637  35.078758   8.336871  25.490173  14.743146   \n",
       "     5      60.417076  32.623318  20.478098  11.571239  26.423288   9.893529   \n",
       "     6      35.398441  26.779856  18.589842   8.825212  21.832909   6.330328   \n",
       "\n",
       "              topic_6    topic_7    topic_8    topic_9   topic_10   topic_11  \\\n",
       "year month                                                                     \n",
       "2008 2      19.673176   7.123836  20.806864  19.113255  10.154317  10.602359   \n",
       "     3      48.750629  20.760441  26.922340  35.120823  33.210773  19.416443   \n",
       "     4      47.587467  15.434190  25.955400  37.653500  30.521046  10.460304   \n",
       "     5      32.814495  13.962594  25.693048  65.278725  18.893513  16.976309   \n",
       "     6      27.317072   8.357778  16.667707  48.337650  21.520412   8.559258   \n",
       "\n",
       "             topic_12   topic_13   topic_14   topic_15   topic_16  \n",
       "year month                                                         \n",
       "2008 2       7.848490  20.522497   5.499299  16.846125  10.187216  \n",
       "     3      26.978424  28.336536   8.197689  26.453314  17.788130  \n",
       "     4      22.706640  31.453356   8.364753  30.770609  25.822493  \n",
       "     5      25.219498  15.017492  13.743458  20.107574  31.886751  \n",
       "     6      20.612549  16.375538   6.739529  19.883636  18.872286  "
      ]
     },
     "execution_count": 27,
     "metadata": {},
     "output_type": "execute_result"
    }
   ],
   "source": [
    "topics = ['topic_{}'.format(i) for i in range(select_topics)]\n",
    "gb = joined.groupby(['year', 'month'])[topics].sum()\n",
    "print(f'gb.shape: {gb.shape}')\n",
    "gb.head()"
   ]
  },
  {
   "cell_type": "markdown",
   "metadata": {},
   "source": [
    "### straightforward matrix heatmap"
   ]
  },
  {
   "cell_type": "code",
   "execution_count": 28,
   "metadata": {
    "ExecuteTime": {
     "end_time": "2019-02-13T23:02:40.261756Z",
     "start_time": "2019-02-13T23:02:40.041458Z"
    },
    "scrolled": true
   },
   "outputs": [
    {
     "data": {
      "text/plain": [
       "<matplotlib.image.AxesImage at 0x7f6b582c8400>"
      ]
     },
     "execution_count": 28,
     "metadata": {},
     "output_type": "execute_result"
    },
    {
     "data": {
      "image/png": "[encoded data removed]",
      "text/plain": [
       "<Figure size 360x1800 with 1 Axes>"
      ]
     },
     "metadata": {
      "needs_background": "light"
     },
     "output_type": "display_data"
    }
   ],
   "source": [
    "plt.figure(figsize=(5, 25))\n",
    "plt.imshow(gb[topics])"
   ]
  },
  {
   "cell_type": "code",
   "execution_count": null,
   "metadata": {},
   "outputs": [],
   "source": []
  },
  {
   "cell_type": "markdown",
   "metadata": {},
   "source": [
    "## pygal"
   ]
  },
  {
   "cell_type": "code",
   "execution_count": 29,
   "metadata": {
    "ExecuteTime": {
     "end_time": "2019-02-13T23:02:40.286404Z",
     "start_time": "2019-02-13T23:02:40.263292Z"
    }
   },
   "outputs": [],
   "source": [
    "import pygal\n",
    "from IPython.display import SVG, HTML"
   ]
  },
  {
   "cell_type": "code",
   "execution_count": 30,
   "metadata": {
    "ExecuteTime": {
     "end_time": "2019-02-13T23:02:40.290356Z",
     "start_time": "2019-02-13T23:02:40.287941Z"
    }
   },
   "outputs": [],
   "source": [
    "html_pygal = \"\"\"\n",
    "<!DOCTYPE html>\n",
    "<html>\n",
    "  <head>\n",
    "  <script type=\"text/javascript\" src=\"http://kozea.github.com/pygal.js/javascripts/svg.jquery.js\"></script>\n",
    "  <script type=\"text/javascript\" src=\"http://kozea.github.com/pygal.js/javascripts/pygal-tooltips.js\"></script>\n",
    "    <!-- ... -->\n",
    "  </head>\n",
    "  <body>\n",
    "    <figure>\n",
    "      {pygal_render}\n",
    "    </figure>\n",
    "  </body>\n",
    "</html>\n",
    "\"\"\""
   ]
  },
  {
   "cell_type": "code",
   "execution_count": 31,
   "metadata": {
    "ExecuteTime": {
     "end_time": "2019-02-13T23:02:40.297068Z",
     "start_time": "2019-02-13T23:02:40.291757Z"
    },
    "scrolled": true
   },
   "outputs": [
    {
     "data": {
      "text/plain": [
       "207.05806"
      ]
     },
     "execution_count": 31,
     "metadata": {},
     "output_type": "execute_result"
    }
   ],
   "source": [
    "max(gb['topic_1'].values)"
   ]
  },
  {
   "cell_type": "code",
   "execution_count": 32,
   "metadata": {
    "ExecuteTime": {
     "end_time": "2019-02-13T23:02:40.358118Z",
     "start_time": "2019-02-13T23:02:40.298268Z"
    },
    "scrolled": false
   },
   "outputs": [
    {
     "data": {
      "text/html": [
       "\n",
       "<!DOCTYPE html>\n",
       "<html>\n",
       "  <head>\n",
       "  <script type=\"text/javascript\" src=\"http://kozea.github.com/pygal.js/javascripts/svg.jquery.js\"></script>\n",
       "  <script type=\"text/javascript\" src=\"http://kozea.github.com/pygal.js/javascripts/pygal-tooltips.js\"></script>\n",
       "    <!-- ... -->\n",
       "  </head>\n",
       "  <body>\n",
       "    <figure>\n",
       "      <?xml version='1.0' encoding='utf-8'?>\n",
       "<svg xmlns:xlink=\"http://www.w3.org/1999/xlink\" xmlns=\"http://www.w3.org/2000/svg\" id=\"chart-b81cb8a4-ea7d-4690-b55c-35921c980ca8\" class=\"pygal-chart\" viewBox=\"0 0 800 600\"><!--Generated with pygal 2.4.0 (lxml) ©Kozea 2012-2016 on 2019-02-14--><!--http://pygal.org--><!--http://github.com/Kozea/pygal--><defs><style type=\"text/css\">#chart-b81cb8a4-ea7d-4690-b55c-35921c980ca8{-webkit-user-select:none;-webkit-font-smoothing:antialiased;font-family:Consolas,\"Liberation Mono\",Menlo,Courier,monospace}#chart-b81cb8a4-ea7d-4690-b55c-35921c980ca8 .title{font-family:Consolas,\"Liberation Mono\",Menlo,Courier,monospace;font-size:16px}#chart-b81cb8a4-ea7d-4690-b55c-35921c980ca8 .legends .legend text{font-family:Consolas,\"Liberation Mono\",Menlo,Courier,monospace;font-size:14px}#chart-b81cb8a4-ea7d-4690-b55c-35921c980ca8 .axis text{font-family:Consolas,\"Liberation Mono\",Menlo,Courier,monospace;font-size:10px}#chart-b81cb8a4-ea7d-4690-b55c-35921c980ca8 .axis text.major{font-family:Consolas,\"Liberation Mono\",Menlo,Courier,monospace;font-size:10px}#chart-b81cb8a4-ea7d-4690-b55c-35921c980ca8 .text-overlay text.value{font-family:Consolas,\"Liberation Mono\",Menlo,Courier,monospace;font-size:16px}#chart-b81cb8a4-ea7d-4690-b55c-35921c980ca8 .text-overlay text.label{font-family:Consolas,\"Liberation Mono\",Menlo,Courier,monospace;font-size:10px}#chart-b81cb8a4-ea7d-4690-b55c-35921c980ca8 .tooltip{font-family:Consolas,\"Liberation Mono\",Menlo,Courier,monospace;font-size:14px}#chart-b81cb8a4-ea7d-4690-b55c-35921c980ca8 text.no_data{font-family:Consolas,\"Liberation Mono\",Menlo,Courier,monospace;font-size:64px}\n",
       "#chart-b81cb8a4-ea7d-4690-b55c-35921c980ca8{background-color:rgba(249,249,249,1)}#chart-b81cb8a4-ea7d-4690-b55c-35921c980ca8 path,#chart-b81cb8a4-ea7d-4690-b55c-35921c980ca8 line,#chart-b81cb8a4-ea7d-4690-b55c-35921c980ca8 rect,#chart-b81cb8a4-ea7d-4690-b55c-35921c980ca8 circle{-webkit-transition:150ms;-moz-transition:150ms;transition:150ms}#chart-b81cb8a4-ea7d-4690-b55c-35921c980ca8 .graph &gt; .background{fill:rgba(249,249,249,1)}#chart-b81cb8a4-ea7d-4690-b55c-35921c980ca8 .plot &gt; .background{fill:rgba(255,255,255,1)}#chart-b81cb8a4-ea7d-4690-b55c-35921c980ca8 .graph{fill:rgba(0,0,0,.87)}#chart-b81cb8a4-ea7d-4690-b55c-35921c980ca8 text.no_data{fill:rgba(0,0,0,1)}#chart-b81cb8a4-ea7d-4690-b55c-35921c980ca8 .title{fill:rgba(0,0,0,1)}#chart-b81cb8a4-ea7d-4690-b55c-35921c980ca8 .legends .legend text{fill:rgba(0,0,0,.87)}#chart-b81cb8a4-ea7d-4690-b55c-35921c980ca8 .legends .legend:hover text{fill:rgba(0,0,0,1)}#chart-b81cb8a4-ea7d-4690-b55c-35921c980ca8 .axis .line{stroke:rgba(0,0,0,1)}#chart-b81cb8a4-ea7d-4690-b55c-35921c980ca8 .axis .guide.line{stroke:rgba(0,0,0,.54)}#chart-b81cb8a4-ea7d-4690-b55c-35921c980ca8 .axis .major.line{stroke:rgba(0,0,0,.87)}#chart-b81cb8a4-ea7d-4690-b55c-35921c980ca8 .axis text.major{fill:rgba(0,0,0,1)}#chart-b81cb8a4-ea7d-4690-b55c-35921c980ca8 .axis.y .guides:hover .guide.line,#chart-b81cb8a4-ea7d-4690-b55c-35921c980ca8 .line-graph .axis.x .guides:hover .guide.line,#chart-b81cb8a4-ea7d-4690-b55c-35921c980ca8 .stackedline-graph .axis.x .guides:hover .guide.line,#chart-b81cb8a4-ea7d-4690-b55c-35921c980ca8 .xy-graph .axis.x .guides:hover .guide.line{stroke:rgba(0,0,0,1)}#chart-b81cb8a4-ea7d-4690-b55c-35921c980ca8 .axis .guides:hover text{fill:rgba(0,0,0,1)}#chart-b81cb8a4-ea7d-4690-b55c-35921c980ca8 .reactive{fill-opacity:.7;stroke-opacity:.8}#chart-b81cb8a4-ea7d-4690-b55c-35921c980ca8 .ci{stroke:rgba(0,0,0,.87)}#chart-b81cb8a4-ea7d-4690-b55c-35921c980ca8 .reactive.active,#chart-b81cb8a4-ea7d-4690-b55c-35921c980ca8 .active .reactive{fill-opacity:.8;stroke-opacity:.9;stroke-width:4}#chart-b81cb8a4-ea7d-4690-b55c-35921c980ca8 .ci .reactive.active{stroke-width:1.5}#chart-b81cb8a4-ea7d-4690-b55c-35921c980ca8 .series text{fill:rgba(0,0,0,1)}#chart-b81cb8a4-ea7d-4690-b55c-35921c980ca8 .tooltip rect{fill:rgba(255,255,255,1);stroke:rgba(0,0,0,1);-webkit-transition:opacity 150ms;-moz-transition:opacity 150ms;transition:opacity 150ms}#chart-b81cb8a4-ea7d-4690-b55c-35921c980ca8 .tooltip .label{fill:rgba(0,0,0,.87)}#chart-b81cb8a4-ea7d-4690-b55c-35921c980ca8 .tooltip .label{fill:rgba(0,0,0,.87)}#chart-b81cb8a4-ea7d-4690-b55c-35921c980ca8 .tooltip .legend{font-size:.8em;fill:rgba(0,0,0,.54)}#chart-b81cb8a4-ea7d-4690-b55c-35921c980ca8 .tooltip .x_label{font-size:.6em;fill:rgba(0,0,0,1)}#chart-b81cb8a4-ea7d-4690-b55c-35921c980ca8 .tooltip .xlink{font-size:.5em;text-decoration:underline}#chart-b81cb8a4-ea7d-4690-b55c-35921c980ca8 .tooltip .value{font-size:1.5em}#chart-b81cb8a4-ea7d-4690-b55c-35921c980ca8 .bound{font-size:.5em}#chart-b81cb8a4-ea7d-4690-b55c-35921c980ca8 .max-value{font-size:.75em;fill:rgba(0,0,0,.54)}#chart-b81cb8a4-ea7d-4690-b55c-35921c980ca8 .map-element{fill:rgba(255,255,255,1);stroke:rgba(0,0,0,.54) !important}#chart-b81cb8a4-ea7d-4690-b55c-35921c980ca8 .map-element .reactive{fill-opacity:inherit;stroke-opacity:inherit}#chart-b81cb8a4-ea7d-4690-b55c-35921c980ca8 .color-0,#chart-b81cb8a4-ea7d-4690-b55c-35921c980ca8 .color-0 a:visited{stroke:#F44336;fill:#F44336}#chart-b81cb8a4-ea7d-4690-b55c-35921c980ca8 .color-1,#chart-b81cb8a4-ea7d-4690-b55c-35921c980ca8 .color-1 a:visited{stroke:#3F51B5;fill:#3F51B5}#chart-b81cb8a4-ea7d-4690-b55c-35921c980ca8 .color-2,#chart-b81cb8a4-ea7d-4690-b55c-35921c980ca8 .color-2 a:visited{stroke:#009688;fill:#009688}#chart-b81cb8a4-ea7d-4690-b55c-35921c980ca8 .color-3,#chart-b81cb8a4-ea7d-4690-b55c-35921c980ca8 .color-3 a:visited{stroke:#FFC107;fill:#FFC107}#chart-b81cb8a4-ea7d-4690-b55c-35921c980ca8 .color-4,#chart-b81cb8a4-ea7d-4690-b55c-35921c980ca8 .color-4 a:visited{stroke:#FF5722;fill:#FF5722}#chart-b81cb8a4-ea7d-4690-b55c-35921c980ca8 .color-5,#chart-b81cb8a4-ea7d-4690-b55c-35921c980ca8 .color-5 a:visited{stroke:#9C27B0;fill:#9C27B0}#chart-b81cb8a4-ea7d-4690-b55c-35921c980ca8 .color-6,#chart-b81cb8a4-ea7d-4690-b55c-35921c980ca8 .color-6 a:visited{stroke:#03A9F4;fill:#03A9F4}#chart-b81cb8a4-ea7d-4690-b55c-35921c980ca8 .color-7,#chart-b81cb8a4-ea7d-4690-b55c-35921c980ca8 .color-7 a:visited{stroke:#8BC34A;fill:#8BC34A}#chart-b81cb8a4-ea7d-4690-b55c-35921c980ca8 .color-8,#chart-b81cb8a4-ea7d-4690-b55c-35921c980ca8 .color-8 a:visited{stroke:#FF9800;fill:#FF9800}#chart-b81cb8a4-ea7d-4690-b55c-35921c980ca8 .color-9,#chart-b81cb8a4-ea7d-4690-b55c-35921c980ca8 .color-9 a:visited{stroke:#E91E63;fill:#E91E63}#chart-b81cb8a4-ea7d-4690-b55c-35921c980ca8 .color-10,#chart-b81cb8a4-ea7d-4690-b55c-35921c980ca8 .color-10 a:visited{stroke:#2196F3;fill:#2196F3}#chart-b81cb8a4-ea7d-4690-b55c-35921c980ca8 .color-11,#chart-b81cb8a4-ea7d-4690-b55c-35921c980ca8 .color-11 a:visited{stroke:#4CAF50;fill:#4CAF50}#chart-b81cb8a4-ea7d-4690-b55c-35921c980ca8 .color-12,#chart-b81cb8a4-ea7d-4690-b55c-35921c980ca8 .color-12 a:visited{stroke:#FFEB3B;fill:#FFEB3B}#chart-b81cb8a4-ea7d-4690-b55c-35921c980ca8 .color-13,#chart-b81cb8a4-ea7d-4690-b55c-35921c980ca8 .color-13 a:visited{stroke:#673AB7;fill:#673AB7}#chart-b81cb8a4-ea7d-4690-b55c-35921c980ca8 .color-14,#chart-b81cb8a4-ea7d-4690-b55c-35921c980ca8 .color-14 a:visited{stroke:#00BCD4;fill:#00BCD4}#chart-b81cb8a4-ea7d-4690-b55c-35921c980ca8 .color-15,#chart-b81cb8a4-ea7d-4690-b55c-35921c980ca8 .color-15 a:visited{stroke:#CDDC39;fill:#CDDC39}#chart-b81cb8a4-ea7d-4690-b55c-35921c980ca8 .color-16,#chart-b81cb8a4-ea7d-4690-b55c-35921c980ca8 .color-16 a:visited{stroke:#9E9E9E;fill:#9E9E9E}#chart-b81cb8a4-ea7d-4690-b55c-35921c980ca8 .text-overlay .color-0 text{fill:black}#chart-b81cb8a4-ea7d-4690-b55c-35921c980ca8 .text-overlay .color-1 text{fill:black}#chart-b81cb8a4-ea7d-4690-b55c-35921c980ca8 .text-overlay .color-2 text{fill:black}#chart-b81cb8a4-ea7d-4690-b55c-35921c980ca8 .text-overlay .color-3 text{fill:black}#chart-b81cb8a4-ea7d-4690-b55c-35921c980ca8 .text-overlay .color-4 text{fill:black}#chart-b81cb8a4-ea7d-4690-b55c-35921c980ca8 .text-overlay .color-5 text{fill:black}#chart-b81cb8a4-ea7d-4690-b55c-35921c980ca8 .text-overlay .color-6 text{fill:black}#chart-b81cb8a4-ea7d-4690-b55c-35921c980ca8 .text-overlay .color-7 text{fill:black}#chart-b81cb8a4-ea7d-4690-b55c-35921c980ca8 .text-overlay .color-8 text{fill:black}#chart-b81cb8a4-ea7d-4690-b55c-35921c980ca8 .text-overlay .color-9 text{fill:black}#chart-b81cb8a4-ea7d-4690-b55c-35921c980ca8 .text-overlay .color-10 text{fill:black}#chart-b81cb8a4-ea7d-4690-b55c-35921c980ca8 .text-overlay .color-11 text{fill:black}#chart-b81cb8a4-ea7d-4690-b55c-35921c980ca8 .text-overlay .color-12 text{fill:black}#chart-b81cb8a4-ea7d-4690-b55c-35921c980ca8 .text-overlay .color-13 text{fill:black}#chart-b81cb8a4-ea7d-4690-b55c-35921c980ca8 .text-overlay .color-14 text{fill:black}#chart-b81cb8a4-ea7d-4690-b55c-35921c980ca8 .text-overlay .color-15 text{fill:black}#chart-b81cb8a4-ea7d-4690-b55c-35921c980ca8 .text-overlay .color-16 text{fill:black}\n",
       "#chart-b81cb8a4-ea7d-4690-b55c-35921c980ca8 text.no_data{text-anchor:middle}#chart-b81cb8a4-ea7d-4690-b55c-35921c980ca8 .guide.line{fill:none}#chart-b81cb8a4-ea7d-4690-b55c-35921c980ca8 .centered{text-anchor:middle}#chart-b81cb8a4-ea7d-4690-b55c-35921c980ca8 .title{text-anchor:middle}#chart-b81cb8a4-ea7d-4690-b55c-35921c980ca8 .legends .legend text{fill-opacity:1}#chart-b81cb8a4-ea7d-4690-b55c-35921c980ca8 .axis.x text{text-anchor:middle}#chart-b81cb8a4-ea7d-4690-b55c-35921c980ca8 .axis.x:not(.web) text[transform]{text-anchor:start}#chart-b81cb8a4-ea7d-4690-b55c-35921c980ca8 .axis.x:not(.web) text[transform].backwards{text-anchor:end}#chart-b81cb8a4-ea7d-4690-b55c-35921c980ca8 .axis.y text{text-anchor:end}#chart-b81cb8a4-ea7d-4690-b55c-35921c980ca8 .axis.y text[transform].backwards{text-anchor:start}#chart-b81cb8a4-ea7d-4690-b55c-35921c980ca8 .axis.y2 text{text-anchor:start}#chart-b81cb8a4-ea7d-4690-b55c-35921c980ca8 .axis.y2 text[transform].backwards{text-anchor:end}#chart-b81cb8a4-ea7d-4690-b55c-35921c980ca8 .axis .guide.line{stroke-dasharray:4,4}#chart-b81cb8a4-ea7d-4690-b55c-35921c980ca8 .axis .major.guide.line{stroke-dasharray:6,6}#chart-b81cb8a4-ea7d-4690-b55c-35921c980ca8 .horizontal .axis.y .guide.line,#chart-b81cb8a4-ea7d-4690-b55c-35921c980ca8 .horizontal .axis.y2 .guide.line,#chart-b81cb8a4-ea7d-4690-b55c-35921c980ca8 .vertical .axis.x .guide.line{opacity:0}#chart-b81cb8a4-ea7d-4690-b55c-35921c980ca8 .horizontal .axis.always_show .guide.line,#chart-b81cb8a4-ea7d-4690-b55c-35921c980ca8 .vertical .axis.always_show .guide.line{opacity:1 !important}#chart-b81cb8a4-ea7d-4690-b55c-35921c980ca8 .axis.y .guides:hover .guide.line,#chart-b81cb8a4-ea7d-4690-b55c-35921c980ca8 .axis.y2 .guides:hover .guide.line,#chart-b81cb8a4-ea7d-4690-b55c-35921c980ca8 .axis.x .guides:hover .guide.line{opacity:1}#chart-b81cb8a4-ea7d-4690-b55c-35921c980ca8 .axis .guides:hover text{opacity:1}#chart-b81cb8a4-ea7d-4690-b55c-35921c980ca8 .nofill{fill:none}#chart-b81cb8a4-ea7d-4690-b55c-35921c980ca8 .subtle-fill{fill-opacity:.2}#chart-b81cb8a4-ea7d-4690-b55c-35921c980ca8 .dot{stroke-width:1px;fill-opacity:1}#chart-b81cb8a4-ea7d-4690-b55c-35921c980ca8 .dot.active{stroke-width:5px}#chart-b81cb8a4-ea7d-4690-b55c-35921c980ca8 .dot.negative{fill:transparent}#chart-b81cb8a4-ea7d-4690-b55c-35921c980ca8 text,#chart-b81cb8a4-ea7d-4690-b55c-35921c980ca8 tspan{stroke:none !important}#chart-b81cb8a4-ea7d-4690-b55c-35921c980ca8 .series text.active{opacity:1}#chart-b81cb8a4-ea7d-4690-b55c-35921c980ca8 .tooltip rect{fill-opacity:.95;stroke-width:.5}#chart-b81cb8a4-ea7d-4690-b55c-35921c980ca8 .tooltip text{fill-opacity:1}#chart-b81cb8a4-ea7d-4690-b55c-35921c980ca8 .showable{visibility:hidden}#chart-b81cb8a4-ea7d-4690-b55c-35921c980ca8 .showable.shown{visibility:visible}#chart-b81cb8a4-ea7d-4690-b55c-35921c980ca8 .gauge-background{fill:rgba(229,229,229,1);stroke:none}#chart-b81cb8a4-ea7d-4690-b55c-35921c980ca8 .bg-lines{stroke:rgba(249,249,249,1);stroke-width:2px}</style><script type=\"text/javascript\">window.pygal = window.pygal || {};window.pygal.config = window.pygal.config || {};window.pygal.config['b81cb8a4-ea7d-4690-b55c-35921c980ca8'] = {\"allow_interruptions\": false, \"box_mode\": \"extremes\", \"classes\": [\"pygal-chart\"], \"css\": [\"file://style.css\", \"file://graph.css\"], \"defs\": [], \"disable_xml_declaration\": false, \"dots_size\": 2.5, \"dynamic_print_values\": false, \"explicit_size\": false, \"fill\": true, \"force_uri_protocol\": \"https\", \"formatter\": null, \"half_pie\": false, \"height\": 600, \"include_x_axis\": false, \"inner_radius\": 0, \"interpolate\": null, \"interpolation_parameters\": {}, \"interpolation_precision\": 250, \"inverse_y_axis\": false, \"js\": [\"//kozea.github.io/pygal.js/2.0.x/pygal-tooltips.min.js\"], \"legend_at_bottom\": false, \"legend_at_bottom_columns\": null, \"legend_box_size\": 12, \"logarithmic\": false, \"margin\": 20, \"margin_bottom\": null, \"margin_left\": null, \"margin_right\": null, \"margin_top\": null, \"max_scale\": 16, \"min_scale\": 4, \"missing_value_fill_truncation\": \"x\", \"no_data_text\": \"No data\", \"no_prefix\": false, \"order_min\": null, \"pretty_print\": false, \"print_labels\": false, \"print_values\": false, \"print_values_position\": \"center\", \"print_zeroes\": true, \"range\": null, \"rounded_bars\": null, \"secondary_range\": null, \"show_dots\": false, \"show_legend\": true, \"show_minor_x_labels\": true, \"show_minor_y_labels\": true, \"show_only_major_dots\": false, \"show_x_guides\": false, \"show_x_labels\": true, \"show_y_guides\": true, \"show_y_labels\": true, \"spacing\": 10, \"stack_from_top\": false, \"strict\": false, \"stroke\": true, \"stroke_style\": null, \"style\": {\"background\": \"rgba(249, 249, 249, 1)\", \"ci_colors\": [], \"colors\": [\"#F44336\", \"#3F51B5\", \"#009688\", \"#FFC107\", \"#FF5722\", \"#9C27B0\", \"#03A9F4\", \"#8BC34A\", \"#FF9800\", \"#E91E63\", \"#2196F3\", \"#4CAF50\", \"#FFEB3B\", \"#673AB7\", \"#00BCD4\", \"#CDDC39\", \"#9E9E9E\", \"#607D8B\"], \"font_family\": \"Consolas, \\\"Liberation Mono\\\", Menlo, Courier, monospace\", \"foreground\": \"rgba(0, 0, 0, .87)\", \"foreground_strong\": \"rgba(0, 0, 0, 1)\", \"foreground_subtle\": \"rgba(0, 0, 0, .54)\", \"guide_stroke_dasharray\": \"4,4\", \"label_font_family\": \"Consolas, \\\"Liberation Mono\\\", Menlo, Courier, monospace\", \"label_font_size\": 10, \"legend_font_family\": \"Consolas, \\\"Liberation Mono\\\", Menlo, Courier, monospace\", \"legend_font_size\": 14, \"major_guide_stroke_dasharray\": \"6,6\", \"major_label_font_family\": \"Consolas, \\\"Liberation Mono\\\", Menlo, Courier, monospace\", \"major_label_font_size\": 10, \"no_data_font_family\": \"Consolas, \\\"Liberation Mono\\\", Menlo, Courier, monospace\", \"no_data_font_size\": 64, \"opacity\": \".7\", \"opacity_hover\": \".8\", \"plot_background\": \"rgba(255, 255, 255, 1)\", \"stroke_opacity\": \".8\", \"stroke_opacity_hover\": \".9\", \"title_font_family\": \"Consolas, \\\"Liberation Mono\\\", Menlo, Courier, monospace\", \"title_font_size\": 16, \"tooltip_font_family\": \"Consolas, \\\"Liberation Mono\\\", Menlo, Courier, monospace\", \"tooltip_font_size\": 14, \"transition\": \"150ms\", \"value_background\": \"rgba(229, 229, 229, 1)\", \"value_colors\": [], \"value_font_family\": \"Consolas, \\\"Liberation Mono\\\", Menlo, Courier, monospace\", \"value_font_size\": 16, \"value_label_font_family\": \"Consolas, \\\"Liberation Mono\\\", Menlo, Courier, monospace\", \"value_label_font_size\": 10}, \"title\": \"Topics\", \"tooltip_border_radius\": 0, \"tooltip_fancy_mode\": true, \"truncate_label\": null, \"truncate_legend\": null, \"width\": 800, \"x_label_rotation\": 0, \"x_labels\": null, \"x_labels_major\": null, \"x_labels_major_count\": null, \"x_labels_major_every\": null, \"x_title\": null, \"xrange\": null, \"y_label_rotation\": 0, \"y_labels\": null, \"y_labels_major\": null, \"y_labels_major_count\": null, \"y_labels_major_every\": null, \"y_title\": null, \"zero\": 0, \"legends\": [\"topic_0\", \"topic_1\", \"topic_2\", \"topic_3\", \"topic_4\", \"topic_5\", \"topic_6\", \"topic_7\", \"topic_8\", \"topic_9\", \"topic_10\", \"topic_11\", \"topic_12\", \"topic_13\", \"topic_14\", \"topic_15\", \"topic_16\"]}</script><script type=\"text/javascript\" xlink:href=\"https://kozea.github.io/pygal.js/2.0.x/pygal-tooltips.min.js\"/></defs><title>Topics</title><g class=\"graph stackedline-graph vertical\"><rect class=\"background\" height=\"600\" width=\"800\" x=\"0\" y=\"0\"/><g class=\"plot\" transform=\"translate(137, 46)\"><rect class=\"background\" height=\"534\" width=\"642.8\" x=\"0\" y=\"0\"/><g class=\"axis y always_show\"><path class=\"line\" d=\"M0.000000 534.000000 h642.800000\"/><g class=\"guides\"><path class=\"guide line\" d=\"M0.000000 475.335261 h642.800000\"/><text class=\"\" x=\"-5\" y=\"478.83526125374243\">100</text><title>100</title></g><g class=\"guides\"><path class=\"guide line\" d=\"M0.000000 423.430570 h642.800000\"/><text class=\"\" x=\"-5\" y=\"426.9305703514532\">200</text><title>200</title></g><g class=\"guides\"><path class=\"guide line\" d=\"M0.000000 371.525879 h642.800000\"/><text class=\"\" x=\"-5\" y=\"375.02587944916394\">300</text><title>300</title></g><g class=\"guides\"><path class=\"guide line\" d=\"M0.000000 319.621189 h642.800000\"/><text class=\"\" x=\"-5\" y=\"323.1211885468747\">400</text><title>400</title></g><g class=\"guides\"><path class=\"major guide line\" d=\"M0.000000 267.716498 h642.800000\"/><text class=\"major\" x=\"-5\" y=\"271.2164976445854\">500</text><title>500</title></g><g class=\"guides\"><path class=\"guide line\" d=\"M0.000000 215.811807 h642.800000\"/><text class=\"\" x=\"-5\" y=\"219.31180674229614\">600</text><title>600</title></g><g class=\"guides\"><path class=\"guide line\" d=\"M0.000000 163.907116 h642.800000\"/><text class=\"\" x=\"-5\" y=\"167.4071158400069\">700</text><title>700</title></g><g class=\"guides\"><path class=\"guide line\" d=\"M0.000000 112.002425 h642.800000\"/><text class=\"\" x=\"-5\" y=\"115.50242493771765\">800</text><title>800</title></g><g class=\"guides\"><path class=\"guide line\" d=\"M0.000000 60.097734 h642.800000\"/><text class=\"\" x=\"-5\" y=\"63.5977340354284\">900</text><title>900</title></g></g><g class=\"series serie-0 color-0\"><path class=\"line reactive\" d=\"M12.361538 527.239952 L12.361538 523.730769 17.079683 517.245693 21.797827 516.367136 26.515972 495.880656 31.234116 508.866501 35.952261 512.469823 40.670405 512.440805 45.388550 510.814040 50.106694 512.548399 54.824839 514.501810 59.542983 515.690578 64.261127 518.537754 68.979272 516.066348 73.697416 515.973916 78.415561 506.691960 83.133705 515.184069 87.851850 514.299748 92.569994 514.242249 97.288139 508.923715 102.006283 510.776610 106.724427 508.874652 111.442572 512.395797 116.160716 517.793799 120.878861 508.241662 125.597005 512.941983 130.315150 516.514294 135.033294 515.971172 139.751439 514.998735 144.469583 513.480600 149.187728 517.875097 153.905872 517.732121 158.624016 516.551156 163.342161 510.701938 168.060305 518.450877 172.778450 521.031252 177.496594 521.481502 182.214739 518.481717 186.932883 454.260948 191.651028 488.184405 196.369172 512.148828 201.087317 518.392477 205.805461 515.270081 210.523605 515.235479 215.241750 515.546861 219.959894 514.606381 224.678039 515.186645 229.396183 516.333792 234.114328 511.302096 238.832472 513.908342 243.550617 510.778066 248.268761 512.073817 252.986905 518.510410 257.705050 516.244949 262.423194 518.341076 267.141339 513.609453 271.859483 513.561416 276.577628 511.349534 281.295772 517.924676 286.013917 516.848455 290.732061 516.723761 295.450206 514.542598 300.168350 513.872606 304.886494 503.581249 309.604639 515.445760 314.322783 515.015926 319.040928 512.391137 323.759072 513.924023 328.477217 509.364698 333.195361 500.266262 337.913506 508.498786 342.631650 513.821121 347.349794 514.480021 352.067939 515.309375 356.786083 509.026990 361.504228 507.734034 366.222372 512.990892 370.940517 520.036092 375.658661 518.905529 380.376806 516.090255 385.094950 517.834659 389.813095 517.649509 394.531239 516.636986 399.249383 511.438935 403.967528 521.127645 408.685672 520.326302 413.403817 519.329695 418.121961 506.139863 422.840106 513.928335 427.558250 515.243814 432.276395 516.632421 436.994539 508.011460 441.712683 513.123436 446.430828 513.169956 451.148972 515.554640 455.867117 518.215549 460.585261 515.580806 465.303406 517.011829 470.021550 515.194328 474.739695 508.473418 479.457839 516.421908 484.175984 516.405319 488.894128 519.806968 493.612272 512.040186 498.330417 515.530639 503.048561 513.538285 507.766706 509.496131 512.484850 505.931525 517.202995 516.451795 521.921139 517.334354 526.639284 516.591814 531.357428 516.717846 536.075573 519.127842 540.793717 517.445126 545.511861 518.766361 550.230006 512.000077 554.948150 511.719741 559.666295 517.488890 564.384439 514.205113 569.102584 515.590342 573.820728 512.557630 578.538873 516.804918 583.257017 516.965770 587.975161 517.795544 592.693306 519.867944 597.411450 517.281882 602.129595 515.598380 606.847739 511.982410 611.565884 515.215967 616.284028 507.477664 621.002173 514.154276 625.720317 513.704029 630.438462 519.338315 630.438462 527.239952\"/></g><g class=\"series serie-1 color-1\"><path class=\"line reactive\" d=\"M12.361538 514.912908 L17.079683 495.738228 21.797827 500.446079 26.515972 478.947623 31.234116 494.966499 35.952261 502.186272 40.670405 498.208180 45.388550 485.475699 50.106694 484.917382 54.824839 476.500176 59.542983 489.992664 64.261127 498.420849 68.979272 498.822779 73.697416 493.175078 78.415561 491.418457 83.133705 500.795221 87.851850 494.534970 92.569994 498.184010 97.288139 494.896863 102.006283 496.907565 106.724427 490.105362 111.442572 496.087595 116.160716 508.037124 120.878861 491.813473 125.597005 500.127378 130.315150 504.385430 135.033294 505.840516 139.751439 503.915293 144.469583 501.159710 149.187728 509.114424 153.905872 508.656580 158.624016 501.354835 163.342161 502.049535 168.060305 509.250447 172.778450 513.518880 177.496594 511.911845 182.214739 507.282547 186.932883 444.005546 191.651028 480.005841 196.369172 501.149374 201.087317 506.011113 205.805461 505.489012 210.523605 503.584951 215.241750 504.323477 219.959894 502.814628 224.678039 494.499044 229.396183 500.130027 234.114328 495.679285 238.832472 496.710463 243.550617 493.134248 248.268761 496.304430 252.986905 496.746131 257.705050 493.848307 262.423194 506.310940 267.141339 501.865257 271.859483 503.731647 276.577628 489.086670 281.295772 493.393156 286.013917 496.635088 290.732061 494.284747 295.450206 488.021858 300.168350 483.491023 304.886494 475.807465 309.604639 499.431852 314.322783 490.464259 319.040928 487.114537 323.759072 494.624269 328.477217 486.331296 333.195361 479.037977 337.913506 490.894147 342.631650 495.454243 347.349794 496.480030 352.067939 493.608696 356.786083 482.936076 361.504228 487.658903 366.222372 490.672495 370.940517 505.009128 375.658661 508.384361 380.376806 505.732959 385.094950 502.243815 389.813095 504.255197 394.531239 499.244747 399.249383 495.161469 403.967528 505.970607 408.685672 508.295991 413.403817 504.750797 418.121961 491.840192 422.840106 492.560604 427.558250 499.510273 432.276395 496.894070 436.994539 490.360713 441.712683 489.335202 446.430828 494.832788 451.148972 499.371873 455.867117 500.742611 460.585261 502.560917 465.303406 490.696546 470.021550 478.170941 474.739695 476.835378 479.457839 482.835567 484.175984 483.945497 488.894128 484.926807 493.612272 489.598151 498.330417 488.832029 503.048561 484.376562 507.766706 402.023285 512.484850 451.580888 517.202995 433.068559 521.921139 462.522099 526.639284 453.702742 531.357428 465.566445 536.075573 452.990735 540.793717 467.491636 545.511861 469.720131 550.230006 480.091513 554.948150 481.860535 559.666295 470.799458 564.384439 475.640397 569.102584 481.414308 573.820728 471.265479 578.538873 486.990306 583.257017 480.396774 587.975161 486.729075 592.693306 487.853017 597.411450 481.714695 602.129595 470.172897 606.847739 480.185260 611.565884 490.789935 616.284028 469.832535 621.002173 475.672780 625.720317 470.092664 630.438462 495.384319 630.438462 519.338315 625.720317 513.704029 621.002173 514.154276 616.284028 507.477664 611.565884 515.215967 606.847739 511.982410 602.129595 515.598380 597.411450 517.281882 592.693306 519.867944 587.975161 517.795544 583.257017 516.965770 578.538873 516.804918 573.820728 512.557630 569.102584 515.590342 564.384439 514.205113 559.666295 517.488890 554.948150 511.719741 550.230006 512.000077 545.511861 518.766361 540.793717 517.445126 536.075573 519.127842 531.357428 516.717846 526.639284 516.591814 521.921139 517.334354 517.202995 516.451795 512.484850 505.931525 507.766706 509.496131 503.048561 513.538285 498.330417 515.530639 493.612272 512.040186 488.894128 519.806968 484.175984 516.405319 479.457839 516.421908 474.739695 508.473418 470.021550 515.194328 465.303406 517.011829 460.585261 515.580806 455.867117 518.215549 451.148972 515.554640 446.430828 513.169956 441.712683 513.123436 436.994539 508.011460 432.276395 516.632421 427.558250 515.243814 422.840106 513.928335 418.121961 506.139863 413.403817 519.329695 408.685672 520.326302 403.967528 521.127645 399.249383 511.438935 394.531239 516.636986 389.813095 517.649509 385.094950 517.834659 380.376806 516.090255 375.658661 518.905529 370.940517 520.036092 366.222372 512.990892 361.504228 507.734034 356.786083 509.026990 352.067939 515.309375 347.349794 514.480021 342.631650 513.821121 337.913506 508.498786 333.195361 500.266262 328.477217 509.364698 323.759072 513.924023 319.040928 512.391137 314.322783 515.015926 309.604639 515.445760 304.886494 503.581249 300.168350 513.872606 295.450206 514.542598 290.732061 516.723761 286.013917 516.848455 281.295772 517.924676 276.577628 511.349534 271.859483 513.561416 267.141339 513.609453 262.423194 518.341076 257.705050 516.244949 252.986905 518.510410 248.268761 512.073817 243.550617 510.778066 238.832472 513.908342 234.114328 511.302096 229.396183 516.333792 224.678039 515.186645 219.959894 514.606381 215.241750 515.546861 210.523605 515.235479 205.805461 515.270081 201.087317 518.392477 196.369172 512.148828 191.651028 488.184405 186.932883 454.260948 182.214739 518.481717 177.496594 521.481502 172.778450 521.031252 168.060305 518.450877 163.342161 510.701938 158.624016 516.551156 153.905872 517.732121 149.187728 517.875097 144.469583 513.480600 139.751439 514.998735 135.033294 515.971172 130.315150 516.514294 125.597005 512.941983 120.878861 508.241662 116.160716 517.793799 111.442572 512.395797 106.724427 508.874652 102.006283 510.776610 97.288139 508.923715 92.569994 514.242249 87.851850 514.299748 83.133705 515.184069 78.415561 506.691960 73.697416 515.973916 68.979272 516.066348 64.261127 518.537754 59.542983 515.690578 54.824839 514.501810 50.106694 512.548399 45.388550 510.814040 40.670405 512.440805 35.952261 512.469823 31.234116 508.866501 26.515972 495.880656 21.797827 516.367136 17.079683 517.245693 12.361538 523.730769\"/></g><g class=\"series serie-2 color-2\"><path class=\"line reactive\" d=\"M12.361538 509.019115 L17.079683 480.628325 21.797827 482.238558 26.515972 468.318530 31.234116 485.317499 35.952261 485.409873 40.670405 480.177579 45.388550 459.429422 50.106694 460.985219 54.824839 454.885018 59.542983 473.315943 64.261127 464.710183 68.979272 484.343050 73.697416 476.436918 78.415561 468.324113 83.133705 484.058472 87.851850 479.969849 92.569994 483.283637 97.288139 487.828218 102.006283 482.185425 106.724427 472.085498 111.442572 477.988436 116.160716 494.686401 120.878861 480.251127 125.597005 486.808748 130.315150 491.526658 135.033294 494.205155 139.751439 493.245774 144.469583 490.251098 149.187728 500.167087 153.905872 504.387374 158.624016 487.564956 163.342161 488.319075 168.060305 503.820790 172.778450 506.887474 177.496594 504.583365 182.214739 495.410705 186.932883 428.688872 191.651028 473.889540 196.369172 491.439348 201.087317 492.486819 205.805461 494.725968 210.523605 494.839533 215.241750 494.512173 219.959894 485.558830 224.678039 474.685696 229.396183 486.578996 234.114328 477.882170 238.832472 480.797977 243.550617 480.733817 248.268761 487.213236 252.986905 482.146583 257.705050 478.290945 262.423194 498.536368 267.141339 494.161961 271.859483 492.663644 276.577628 476.251644 281.295772 483.497641 286.013917 480.682145 290.732061 479.924561 295.450206 476.343457 300.168350 458.999679 304.886494 457.754967 309.604639 487.699982 314.322783 475.550912 319.040928 468.070789 323.759072 483.836900 328.477217 470.800831 333.195361 457.699531 337.913506 468.955802 342.631650 471.482370 347.349794 472.541290 352.067939 457.944662 356.786083 391.989808 361.504228 441.027109 366.222372 468.818825 370.940517 483.419692 375.658661 473.076745 380.376806 481.359552 385.094950 474.133338 389.813095 479.025446 394.531239 470.324268 399.249383 469.423825 403.967528 472.170596 408.685672 467.418398 413.403817 469.351542 418.121961 466.712922 422.840106 462.782044 427.558250 463.710431 432.276395 463.297147 436.994539 460.336783 441.712683 422.685607 446.430828 462.711738 451.148972 465.945556 455.867117 476.935147 460.585261 478.384648 465.303406 461.407923 470.021550 448.568712 474.739695 449.064747 479.457839 461.435075 484.175984 436.583358 488.894128 456.545730 493.612272 472.908205 498.330417 461.484403 503.048561 454.266112 507.766706 375.990751 512.484850 430.980952 517.202995 404.658360 521.921139 430.238867 526.639284 413.247429 531.357428 446.483129 536.075573 429.760145 540.793717 444.856917 545.511861 442.298856 550.230006 461.860111 554.948150 462.600957 559.666295 449.405535 564.384439 458.154638 569.102584 461.523690 573.820728 450.235009 578.538873 471.228668 583.257017 454.231992 587.975161 473.176870 592.693306 469.832102 597.411450 444.765344 602.129595 438.765592 606.847739 464.148660 611.565884 476.153074 616.284028 449.258645 621.002173 439.685051 625.720317 441.048106 630.438462 482.035368 630.438462 495.384319 625.720317 470.092664 621.002173 475.672780 616.284028 469.832535 611.565884 490.789935 606.847739 480.185260 602.129595 470.172897 597.411450 481.714695 592.693306 487.853017 587.975161 486.729075 583.257017 480.396774 578.538873 486.990306 573.820728 471.265479 569.102584 481.414308 564.384439 475.640397 559.666295 470.799458 554.948150 481.860535 550.230006 480.091513 545.511861 469.720131 540.793717 467.491636 536.075573 452.990735 531.357428 465.566445 526.639284 453.702742 521.921139 462.522099 517.202995 433.068559 512.484850 451.580888 507.766706 402.023285 503.048561 484.376562 498.330417 488.832029 493.612272 489.598151 488.894128 484.926807 484.175984 483.945497 479.457839 482.835567 474.739695 476.835378 470.021550 478.170941 465.303406 490.696546 460.585261 502.560917 455.867117 500.742611 451.148972 499.371873 446.430828 494.832788 441.712683 489.335202 436.994539 490.360713 432.276395 496.894070 427.558250 499.510273 422.840106 492.560604 418.121961 491.840192 413.403817 504.750797 408.685672 508.295991 403.967528 505.970607 399.249383 495.161469 394.531239 499.244747 389.813095 504.255197 385.094950 502.243815 380.376806 505.732959 375.658661 508.384361 370.940517 505.009128 366.222372 490.672495 361.504228 487.658903 356.786083 482.936076 352.067939 493.608696 347.349794 496.480030 342.631650 495.454243 337.913506 490.894147 333.195361 479.037977 328.477217 486.331296 323.759072 494.624269 319.040928 487.114537 314.322783 490.464259 309.604639 499.431852 304.886494 475.807465 300.168350 483.491023 295.450206 488.021858 290.732061 494.284747 286.013917 496.635088 281.295772 493.393156 276.577628 489.086670 271.859483 503.731647 267.141339 501.865257 262.423194 506.310940 257.705050 493.848307 252.986905 496.746131 248.268761 496.304430 243.550617 493.134248 238.832472 496.710463 234.114328 495.679285 229.396183 500.130027 224.678039 494.499044 219.959894 502.814628 215.241750 504.323477 210.523605 503.584951 205.805461 505.489012 201.087317 506.011113 196.369172 501.149374 191.651028 480.005841 186.932883 444.005546 182.214739 507.282547 177.496594 511.911845 172.778450 513.518880 168.060305 509.250447 163.342161 502.049535 158.624016 501.354835 153.905872 508.656580 149.187728 509.114424 144.469583 501.159710 139.751439 503.915293 135.033294 505.840516 130.315150 504.385430 125.597005 500.127378 120.878861 491.813473 116.160716 508.037124 111.442572 496.087595 106.724427 490.105362 102.006283 496.907565 97.288139 494.896863 92.569994 498.184010 87.851850 494.534970 83.133705 500.795221 78.415561 491.418457 73.697416 493.175078 68.979272 498.822779 64.261127 498.420849 59.542983 489.992664 54.824839 476.500176 50.106694 484.917382 45.388550 485.475699 40.670405 498.208180 35.952261 502.186272 31.234116 494.966499 26.515972 478.947623 21.797827 500.446079 17.079683 495.738228 12.361538 514.912908\"/></g><g class=\"series serie-3 color-3\"><path class=\"line reactive\" d=\"M12.361538 506.821315 L17.079683 474.915923 21.797827 477.911331 26.515972 462.312514 31.234116 480.736801 35.952261 478.121895 40.670405 465.588446 45.388550 442.955318 50.106694 446.692599 54.824839 437.705333 59.542983 457.807536 64.261127 458.732932 68.979272 475.830484 73.697416 465.654778 78.415561 457.214332 83.133705 474.458927 87.851850 471.149121 92.569994 478.164172 97.288139 480.852530 102.006283 474.367499 106.724427 465.354674 111.442572 471.357326 116.160716 490.694087 120.878861 475.896893 125.597005 478.611277 130.315150 486.073892 135.033294 485.082773 139.751439 486.048497 144.469583 483.934092 149.187728 492.980035 153.905872 499.548846 158.624016 482.192815 163.342161 485.058167 168.060305 500.888112 172.778450 503.841169 177.496594 501.449723 182.214739 491.777352 186.932883 415.536004 191.651028 468.215313 196.369172 484.294444 201.087317 486.351362 205.805461 490.724331 210.523605 491.124143 215.241750 491.955202 219.959894 481.431784 224.678039 470.016051 229.396183 480.742270 234.114328 467.045920 238.832472 468.164087 243.550617 474.078933 248.268761 479.646752 252.986905 477.095616 257.705050 465.977040 262.423194 488.172705 267.141339 486.932259 271.859483 487.357770 276.577628 468.338554 281.295772 477.716111 286.013917 474.004083 290.732061 471.667322 295.450206 467.847654 300.168350 448.213750 304.886494 446.849639 309.604639 479.594861 314.322783 468.156553 319.040928 462.261862 323.759072 474.525638 328.477217 463.125952 333.195361 451.960454 337.913506 460.921585 342.631650 465.932713 347.349794 466.670414 352.067939 450.043134 356.786083 371.714932 361.504228 421.843240 366.222372 461.101418 370.940517 477.985774 375.658661 464.151007 380.376806 470.495870 385.094950 461.912523 389.813095 467.319064 394.531239 462.034941 399.249383 459.720185 403.967528 465.357957 408.685672 460.281656 413.403817 457.560149 418.121961 454.831459 422.840106 450.182583 427.558250 453.242078 432.276395 455.660173 436.994539 452.154083 441.712683 408.807546 446.430828 436.546082 451.148972 442.169717 455.867117 463.222450 460.585261 468.725712 465.303406 449.193969 470.021550 435.171186 474.739695 429.737318 479.457839 440.139195 484.175984 408.550657 488.894128 434.317568 493.612272 456.743092 498.330417 433.681058 503.048561 413.760625 507.766706 351.417859 512.484850 413.586266 517.202995 380.429767 521.921139 406.132710 526.639284 391.513435 531.357428 417.538564 536.075573 408.231319 540.793717 417.833505 545.511861 419.922807 550.230006 448.866090 554.948150 440.795946 559.666295 428.362724 564.384439 431.620628 569.102584 444.133947 573.820728 421.913540 578.538873 448.775713 583.257017 434.353288 587.975161 440.666187 592.693306 450.037611 597.411450 430.572780 602.129595 425.477672 606.847739 446.456129 611.565884 441.440260 616.284028 421.193196 621.002173 415.191056 625.720317 419.673655 630.438462 471.682897 630.438462 482.035368 625.720317 441.048106 621.002173 439.685051 616.284028 449.258645 611.565884 476.153074 606.847739 464.148660 602.129595 438.765592 597.411450 444.765344 592.693306 469.832102 587.975161 473.176870 583.257017 454.231992 578.538873 471.228668 573.820728 450.235009 569.102584 461.523690 564.384439 458.154638 559.666295 449.405535 554.948150 462.600957 550.230006 461.860111 545.511861 442.298856 540.793717 444.856917 536.075573 429.760145 531.357428 446.483129 526.639284 413.247429 521.921139 430.238867 517.202995 404.658360 512.484850 430.980952 507.766706 375.990751 503.048561 454.266112 498.330417 461.484403 493.612272 472.908205 488.894128 456.545730 484.175984 436.583358 479.457839 461.435075 474.739695 449.064747 470.021550 448.568712 465.303406 461.407923 460.585261 478.384648 455.867117 476.935147 451.148972 465.945556 446.430828 462.711738 441.712683 422.685607 436.994539 460.336783 432.276395 463.297147 427.558250 463.710431 422.840106 462.782044 418.121961 466.712922 413.403817 469.351542 408.685672 467.418398 403.967528 472.170596 399.249383 469.423825 394.531239 470.324268 389.813095 479.025446 385.094950 474.133338 380.376806 481.359552 375.658661 473.076745 370.940517 483.419692 366.222372 468.818825 361.504228 441.027109 356.786083 391.989808 352.067939 457.944662 347.349794 472.541290 342.631650 471.482370 337.913506 468.955802 333.195361 457.699531 328.477217 470.800831 323.759072 483.836900 319.040928 468.070789 314.322783 475.550912 309.604639 487.699982 304.886494 457.754967 300.168350 458.999679 295.450206 476.343457 290.732061 479.924561 286.013917 480.682145 281.295772 483.497641 276.577628 476.251644 271.859483 492.663644 267.141339 494.161961 262.423194 498.536368 257.705050 478.290945 252.986905 482.146583 248.268761 487.213236 243.550617 480.733817 238.832472 480.797977 234.114328 477.882170 229.396183 486.578996 224.678039 474.685696 219.959894 485.558830 215.241750 494.512173 210.523605 494.839533 205.805461 494.725968 201.087317 492.486819 196.369172 491.439348 191.651028 473.889540 186.932883 428.688872 182.214739 495.410705 177.496594 504.583365 172.778450 506.887474 168.060305 503.820790 163.342161 488.319075 158.624016 487.564956 153.905872 504.387374 149.187728 500.167087 144.469583 490.251098 139.751439 493.245774 135.033294 494.205155 130.315150 491.526658 125.597005 486.808748 120.878861 480.251127 116.160716 494.686401 111.442572 477.988436 106.724427 472.085498 102.006283 482.185425 97.288139 487.828218 92.569994 483.283637 87.851850 479.969849 83.133705 484.058472 78.415561 468.324113 73.697416 476.436918 68.979272 484.343050 64.261127 464.710183 59.542983 473.315943 54.824839 454.885018 50.106694 460.985219 45.388550 459.429422 40.670405 480.177579 35.952261 485.409873 31.234116 485.317499 26.515972 468.318530 21.797827 482.238558 17.079683 480.628325 12.361538 509.019115\"/></g><g class=\"series serie-4 color-4\"><path class=\"line reactive\" d=\"M12.361538 504.999793 L17.079683 463.549967 21.797827 464.680735 26.515972 448.597588 31.234116 469.404497 35.952261 467.565368 40.670405 458.695718 45.388550 423.380156 50.106694 422.756792 54.824839 416.063191 59.542983 435.243125 64.261127 440.247505 68.979272 461.306778 73.697416 447.598971 78.415561 428.068340 83.133705 426.672646 87.851850 442.254167 92.569994 458.537992 97.288139 469.906712 102.006283 465.084935 106.724427 446.740529 111.442572 454.732367 116.160716 475.936144 120.878861 462.798849 125.597005 467.249876 130.315150 473.004875 135.033294 475.131060 139.751439 475.836149 144.469583 468.448967 149.187728 479.394962 153.905872 487.436422 158.624016 465.852058 163.342161 469.627540 168.060305 491.094117 172.778450 495.547911 177.496594 493.454172 182.214739 479.342586 186.932883 400.036751 191.651028 458.435719 196.369172 470.418938 201.087317 471.382310 205.805461 479.613889 210.523605 480.210488 215.241750 482.444400 219.959894 468.929564 224.678039 455.692724 229.396183 466.277161 234.114328 452.636550 238.832472 453.756622 243.550617 461.392934 248.268761 466.312080 252.986905 466.645898 257.705050 453.805984 262.423194 475.687375 267.141339 475.440467 271.859483 476.266315 276.577628 454.460940 281.295772 462.987067 286.013917 459.852544 290.732061 457.166335 295.450206 450.485312 300.168350 433.454672 304.886494 423.302946 309.604639 459.551947 314.322783 446.490522 319.040928 442.222677 323.759072 460.299095 328.477217 448.123812 333.195361 429.937818 337.913506 439.454044 342.631650 449.158448 347.349794 450.256960 352.067939 429.669121 356.786083 343.039038 361.504228 399.769891 366.222372 445.894221 370.940517 464.957274 375.658661 436.645520 380.376806 435.276111 385.094950 424.921691 389.813095 433.153935 394.531239 432.797481 399.249383 437.887822 403.967528 446.684451 408.685672 443.412192 413.403817 438.229200 418.121961 437.439412 422.840106 430.389888 427.558250 420.495537 432.276395 427.800732 436.994539 428.300995 441.712683 379.371796 446.430828 410.792787 451.148972 414.846560 455.867117 439.848196 460.585261 446.271118 465.303406 427.638706 470.021550 410.978425 474.739695 401.654196 479.457839 416.901597 484.175984 385.614798 488.894128 415.635898 493.612272 439.215014 498.330417 410.414697 503.048561 390.547144 507.766706 327.189426 512.484850 388.217353 517.202995 342.466193 521.921139 375.513609 526.639284 358.665688 531.357428 393.741755 536.075573 381.272152 540.793717 390.055898 545.511861 392.858900 550.230006 418.861831 554.948150 417.265628 559.666295 403.713730 564.384439 410.432409 569.102584 418.048437 573.820728 396.366214 578.538873 425.754574 583.257017 415.219528 587.975161 419.696133 592.693306 426.840299 597.411450 410.253354 602.129595 403.298095 606.847739 418.328128 611.565884 422.983929 616.284028 402.600423 621.002173 391.908328 625.720317 390.777463 630.438462 460.720017 630.438462 471.682897 625.720317 419.673655 621.002173 415.191056 616.284028 421.193196 611.565884 441.440260 606.847739 446.456129 602.129595 425.477672 597.411450 430.572780 592.693306 450.037611 587.975161 440.666187 583.257017 434.353288 578.538873 448.775713 573.820728 421.913540 569.102584 444.133947 564.384439 431.620628 559.666295 428.362724 554.948150 440.795946 550.230006 448.866090 545.511861 419.922807 540.793717 417.833505 536.075573 408.231319 531.357428 417.538564 526.639284 391.513435 521.921139 406.132710 517.202995 380.429767 512.484850 413.586266 507.766706 351.417859 503.048561 413.760625 498.330417 433.681058 493.612272 456.743092 488.894128 434.317568 484.175984 408.550657 479.457839 440.139195 474.739695 429.737318 470.021550 435.171186 465.303406 449.193969 460.585261 468.725712 455.867117 463.222450 451.148972 442.169717 446.430828 436.546082 441.712683 408.807546 436.994539 452.154083 432.276395 455.660173 427.558250 453.242078 422.840106 450.182583 418.121961 454.831459 413.403817 457.560149 408.685672 460.281656 403.967528 465.357957 399.249383 459.720185 394.531239 462.034941 389.813095 467.319064 385.094950 461.912523 380.376806 470.495870 375.658661 464.151007 370.940517 477.985774 366.222372 461.101418 361.504228 421.843240 356.786083 371.714932 352.067939 450.043134 347.349794 466.670414 342.631650 465.932713 337.913506 460.921585 333.195361 451.960454 328.477217 463.125952 323.759072 474.525638 319.040928 462.261862 314.322783 468.156553 309.604639 479.594861 304.886494 446.849639 300.168350 448.213750 295.450206 467.847654 290.732061 471.667322 286.013917 474.004083 281.295772 477.716111 276.577628 468.338554 271.859483 487.357770 267.141339 486.932259 262.423194 488.172705 257.705050 465.977040 252.986905 477.095616 248.268761 479.646752 243.550617 474.078933 238.832472 468.164087 234.114328 467.045920 229.396183 480.742270 224.678039 470.016051 219.959894 481.431784 215.241750 491.955202 210.523605 491.124143 205.805461 490.724331 201.087317 486.351362 196.369172 484.294444 191.651028 468.215313 186.932883 415.536004 182.214739 491.777352 177.496594 501.449723 172.778450 503.841169 168.060305 500.888112 163.342161 485.058167 158.624016 482.192815 153.905872 499.548846 149.187728 492.980035 144.469583 483.934092 139.751439 486.048497 135.033294 485.082773 130.315150 486.073892 125.597005 478.611277 120.878861 475.896893 116.160716 490.694087 111.442572 471.357326 106.724427 465.354674 102.006283 474.367499 97.288139 480.852530 92.569994 478.164172 87.851850 471.149121 83.133705 474.458927 78.415561 457.214332 73.697416 465.654778 68.979272 475.830484 64.261127 458.732932 59.542983 457.807536 54.824839 437.705333 50.106694 446.692599 45.388550 442.955318 40.670405 465.588446 35.952261 478.121895 31.234116 480.736801 26.515972 462.312514 21.797827 477.911331 17.079683 474.915923 12.361538 506.821315\"/></g><g class=\"series serie-5 color-5\"><path class=\"line reactive\" d=\"M12.361538 503.040652 L17.079683 458.173255 21.797827 457.028351 26.515972 443.462382 31.234116 466.118759 35.952261 462.094768 40.670405 453.123541 45.388550 409.447959 50.106694 409.109119 54.824839 407.700453 59.542983 423.860448 64.261127 432.867464 68.979272 450.589934 73.697416 431.563628 78.415561 399.852372 83.133705 406.452464 87.851850 422.589854 92.569994 446.798266 97.288139 462.628834 102.006283 458.799174 106.724427 438.194011 111.442572 449.807142 116.160716 471.726589 120.878861 457.163680 125.597005 459.386523 130.315150 468.420472 135.033294 470.893932 139.751439 467.515568 144.469583 462.508243 149.187728 475.580940 153.905872 481.052160 158.624016 459.087042 163.342161 462.054157 168.060305 479.061378 172.778450 485.498701 177.496594 488.977328 182.214739 475.965116 186.932883 396.725934 191.651028 456.847692 196.369172 468.388984 201.087317 469.026516 205.805461 474.717795 210.523605 476.913649 215.241750 480.811204 219.959894 467.071825 224.678039 453.214124 229.396183 450.834239 234.114328 441.883467 238.832472 446.383186 243.550617 452.588288 248.268761 444.988630 252.986905 456.474300 257.705050 451.458373 262.423194 468.973482 267.141339 468.197497 271.859483 471.687057 276.577628 446.267958 281.295772 457.114573 286.013917 447.727766 290.732061 450.128007 295.450206 433.745935 300.168350 408.747711 304.886494 380.304670 309.604639 444.134605 314.322783 435.498685 319.040928 432.249838 323.759072 454.407160 328.477217 441.011840 333.195361 423.997735 337.913506 434.481194 342.631650 438.411384 347.349794 441.988694 352.067939 420.801366 356.786083 329.021219 361.504228 387.654535 366.222372 439.502011 370.940517 460.920236 375.658661 427.128301 380.376806 430.873038 385.094950 418.548486 389.813095 427.529896 394.531239 426.855101 399.249383 430.092905 403.967528 439.870193 408.685672 439.125961 413.403817 430.278192 418.121961 427.784416 422.840106 422.279210 427.558250 413.767944 432.276395 422.134020 436.994539 408.823024 441.712683 373.174415 446.430828 401.469965 451.148972 408.792192 455.867117 433.427774 460.585261 428.468740 465.303406 410.640234 470.021550 394.347376 474.739695 386.017678 479.457839 406.073554 484.175984 375.311801 488.894128 406.062884 493.612272 429.320010 498.330417 394.218037 503.048561 383.284795 507.766706 317.806746 512.484850 382.928769 517.202995 333.975194 521.921139 356.145331 526.639284 337.354508 531.357428 363.464356 536.075573 356.003881 540.793717 380.377063 545.511861 370.642566 550.230006 385.813302 554.948150 388.477178 559.666295 384.286928 564.384439 386.911985 569.102584 398.645928 573.820728 380.775037 578.538873 412.695297 583.257017 401.444002 587.975161 394.317900 592.693306 399.785454 597.411450 377.839408 602.129595 388.512305 606.847739 404.722036 611.565884 407.910202 616.284028 385.761293 621.002173 375.828451 625.720317 378.046690 630.438462 452.450223 630.438462 460.720017 625.720317 390.777463 621.002173 391.908328 616.284028 402.600423 611.565884 422.983929 606.847739 418.328128 602.129595 403.298095 597.411450 410.253354 592.693306 426.840299 587.975161 419.696133 583.257017 415.219528 578.538873 425.754574 573.820728 396.366214 569.102584 418.048437 564.384439 410.432409 559.666295 403.713730 554.948150 417.265628 550.230006 418.861831 545.511861 392.858900 540.793717 390.055898 536.075573 381.272152 531.357428 393.741755 526.639284 358.665688 521.921139 375.513609 517.202995 342.466193 512.484850 388.217353 507.766706 327.189426 503.048561 390.547144 498.330417 410.414697 493.612272 439.215014 488.894128 415.635898 484.175984 385.614798 479.457839 416.901597 474.739695 401.654196 470.021550 410.978425 465.303406 427.638706 460.585261 446.271118 455.867117 439.848196 451.148972 414.846560 446.430828 410.792787 441.712683 379.371796 436.994539 428.300995 432.276395 427.800732 427.558250 420.495537 422.840106 430.389888 418.121961 437.439412 413.403817 438.229200 408.685672 443.412192 403.967528 446.684451 399.249383 437.887822 394.531239 432.797481 389.813095 433.153935 385.094950 424.921691 380.376806 435.276111 375.658661 436.645520 370.940517 464.957274 366.222372 445.894221 361.504228 399.769891 356.786083 343.039038 352.067939 429.669121 347.349794 450.256960 342.631650 449.158448 337.913506 439.454044 333.195361 429.937818 328.477217 448.123812 323.759072 460.299095 319.040928 442.222677 314.322783 446.490522 309.604639 459.551947 304.886494 423.302946 300.168350 433.454672 295.450206 450.485312 290.732061 457.166335 286.013917 459.852544 281.295772 462.987067 276.577628 454.460940 271.859483 476.266315 267.141339 475.440467 262.423194 475.687375 257.705050 453.805984 252.986905 466.645898 248.268761 466.312080 243.550617 461.392934 238.832472 453.756622 234.114328 452.636550 229.396183 466.277161 224.678039 455.692724 219.959894 468.929564 215.241750 482.444400 210.523605 480.210488 205.805461 479.613889 201.087317 471.382310 196.369172 470.418938 191.651028 458.435719 186.932883 400.036751 182.214739 479.342586 177.496594 493.454172 172.778450 495.547911 168.060305 491.094117 163.342161 469.627540 158.624016 465.852058 153.905872 487.436422 149.187728 479.394962 144.469583 468.448967 139.751439 475.836149 135.033294 475.131060 130.315150 473.004875 125.597005 467.249876 120.878861 462.798849 116.160716 475.936144 111.442572 454.732367 106.724427 446.740529 102.006283 465.084935 97.288139 469.906712 92.569994 458.537992 87.851850 442.254167 83.133705 426.672646 78.415561 428.068340 73.697416 447.598971 68.979272 461.306778 64.261127 440.247505 59.542983 435.243125 54.824839 416.063191 50.106694 422.756792 45.388550 423.380156 40.670405 458.695718 35.952261 467.565368 31.234116 469.404497 26.515972 448.597588 21.797827 464.680735 17.079683 463.549967 12.361538 504.999793\"/></g><g class=\"series serie-6 color-6\"><path class=\"line reactive\" d=\"M12.361538 492.829351 L17.079683 432.869391 21.797827 432.328223 26.515972 426.430120 31.234116 451.939918 35.952261 443.427891 40.670405 424.176550 45.388550 363.057286 50.106694 374.736398 54.824839 367.816023 59.542983 388.703906 64.261127 394.997271 68.979272 411.613682 73.697416 395.713244 78.415561 361.603123 83.133705 378.815022 87.851850 398.756402 92.569994 424.053728 97.288139 448.430618 102.006283 426.988440 106.724427 412.283675 111.442572 431.464325 116.160716 451.061019 120.878861 437.115523 125.597005 434.456881 130.315150 450.467574 135.033294 452.472729 139.751439 452.260779 144.469583 443.715281 149.187728 460.544212 153.905872 468.419052 158.624016 433.517814 163.342161 444.635914 168.060305 463.870685 172.778450 470.148203 177.496594 476.612541 182.214739 453.762478 186.932883 366.217206 191.651028 441.324213 196.369172 450.031505 201.087317 448.304968 205.805461 459.356223 210.523605 461.859982 215.241750 465.199513 219.959894 447.396352 224.678039 433.657743 229.396183 426.528604 234.114328 422.715017 238.832472 416.445358 243.550617 426.979619 248.268761 422.952817 252.986905 437.467666 257.705050 425.564489 262.423194 447.983990 267.141339 451.654527 271.859483 453.189994 276.577628 428.093452 281.295772 439.253007 286.013917 426.653659 290.732061 429.198081 295.450206 405.905106 300.168350 371.309287 304.886494 343.247080 309.604639 415.482835 314.322783 403.318448 319.040928 403.618240 323.759072 422.472886 328.477217 394.097258 333.195361 398.996708 337.913506 401.514874 342.631650 414.538934 347.349794 411.837942 352.067939 382.205833 356.786083 271.094635 361.504228 345.991536 366.222372 420.578870 370.940517 444.229051 375.658661 409.807408 380.376806 413.570673 385.094950 396.955088 389.813095 409.417897 394.531239 402.244004 399.249383 405.338151 403.967528 414.460465 408.685672 407.479001 413.403817 402.448769 418.121961 399.588616 422.840106 394.967263 427.558250 385.184409 432.276395 391.612395 436.994539 384.861756 441.712683 325.672258 446.430828 353.204495 451.148972 361.810329 455.867117 396.973081 460.585261 402.772144 465.303406 373.243818 470.021550 360.146306 474.739695 349.807741 479.457839 375.903200 484.175984 337.693485 488.894128 369.324170 493.612272 396.660070 498.330417 352.329206 503.048561 336.042066 507.766706 269.774133 512.484850 331.662183 517.202995 276.416700 521.921139 303.851608 526.639284 288.987566 531.357428 314.201968 536.075573 314.141044 540.793717 344.846958 545.511861 327.057848 550.230006 349.461093 554.948150 361.759237 559.666295 347.045226 564.384439 346.554856 569.102584 364.615376 573.820728 344.680316 578.538873 385.986401 583.257017 363.142121 587.975161 351.594656 592.693306 371.157282 597.411450 334.535376 602.129595 340.515395 606.847739 374.479943 611.565884 378.673298 616.284028 354.896897 621.002173 342.308595 625.720317 345.377427 630.438462 436.455960 630.438462 452.450223 625.720317 378.046690 621.002173 375.828451 616.284028 385.761293 611.565884 407.910202 606.847739 404.722036 602.129595 388.512305 597.411450 377.839408 592.693306 399.785454 587.975161 394.317900 583.257017 401.444002 578.538873 412.695297 573.820728 380.775037 569.102584 398.645928 564.384439 386.911985 559.666295 384.286928 554.948150 388.477178 550.230006 385.813302 545.511861 370.642566 540.793717 380.377063 536.075573 356.003881 531.357428 363.464356 526.639284 337.354508 521.921139 356.145331 517.202995 333.975194 512.484850 382.928769 507.766706 317.806746 503.048561 383.284795 498.330417 394.218037 493.612272 429.320010 488.894128 406.062884 484.175984 375.311801 479.457839 406.073554 474.739695 386.017678 470.021550 394.347376 465.303406 410.640234 460.585261 428.468740 455.867117 433.427774 451.148972 408.792192 446.430828 401.469965 441.712683 373.174415 436.994539 408.823024 432.276395 422.134020 427.558250 413.767944 422.840106 422.279210 418.121961 427.784416 413.403817 430.278192 408.685672 439.125961 403.967528 439.870193 399.249383 430.092905 394.531239 426.855101 389.813095 427.529896 385.094950 418.548486 380.376806 430.873038 375.658661 427.128301 370.940517 460.920236 366.222372 439.502011 361.504228 387.654535 356.786083 329.021219 352.067939 420.801366 347.349794 441.988694 342.631650 438.411384 337.913506 434.481194 333.195361 423.997735 328.477217 441.011840 323.759072 454.407160 319.040928 432.249838 314.322783 435.498685 309.604639 444.134605 304.886494 380.304670 300.168350 408.747711 295.450206 433.745935 290.732061 450.128007 286.013917 447.727766 281.295772 457.114573 276.577628 446.267958 271.859483 471.687057 267.141339 468.197497 262.423194 468.973482 257.705050 451.458373 252.986905 456.474300 248.268761 444.988630 243.550617 452.588288 238.832472 446.383186 234.114328 441.883467 229.396183 450.834239 224.678039 453.214124 219.959894 467.071825 215.241750 480.811204 210.523605 476.913649 205.805461 474.717795 201.087317 469.026516 196.369172 468.388984 191.651028 456.847692 186.932883 396.725934 182.214739 475.965116 177.496594 488.977328 172.778450 485.498701 168.060305 479.061378 163.342161 462.054157 158.624016 459.087042 153.905872 481.052160 149.187728 475.580940 144.469583 462.508243 139.751439 467.515568 135.033294 470.893932 130.315150 468.420472 125.597005 459.386523 120.878861 457.163680 116.160716 471.726589 111.442572 449.807142 106.724427 438.194011 102.006283 458.799174 97.288139 462.628834 92.569994 446.798266 87.851850 422.589854 83.133705 406.452464 78.415561 399.852372 73.697416 431.563628 68.979272 450.589934 64.261127 432.867464 59.542983 423.860448 54.824839 407.700453 50.106694 409.109119 45.388550 409.447959 40.670405 453.123541 35.952261 462.094768 31.234116 466.118759 26.515972 443.462382 21.797827 457.028351 17.079683 458.173255 12.361538 503.040652\"/></g><g class=\"series serie-7 color-7\"><path class=\"line reactive\" d=\"M12.361538 489.131746 L17.079683 422.093748 21.797827 424.317155 26.515972 419.182879 31.234116 447.601839 35.952261 434.655104 40.670405 418.016311 45.388550 353.517188 50.106694 363.415231 54.824839 360.133444 59.542983 376.627892 64.261127 386.754434 68.979272 401.787922 73.697416 382.346576 78.415561 348.078105 83.133705 367.645260 87.851850 387.567818 92.569994 415.441816 97.288139 437.527601 102.006283 417.457043 106.724427 397.977361 111.442572 420.759961 116.160716 438.903530 120.878861 427.121920 125.597005 424.600868 130.315150 442.850916 135.033294 446.001341 139.751439 442.491845 144.469583 431.874970 149.187728 441.621568 153.905872 454.355432 158.624016 419.068055 163.342161 430.182822 168.060305 448.406879 172.778450 453.951607 177.496594 465.876348 182.214739 443.240238 186.932883 356.036148 191.651028 431.038017 196.369172 439.424940 201.087317 440.583670 205.805461 447.726361 210.523605 453.015712 215.241750 456.413735 219.959894 433.421860 224.678039 420.213871 229.396183 417.787580 234.114328 411.926600 238.832472 402.162976 243.550617 413.479579 248.268761 413.442342 252.986905 427.059831 257.705050 412.908375 262.423194 436.733978 267.141339 431.346668 271.859483 439.650912 276.577628 408.731387 281.295772 426.985338 286.013917 414.718284 290.732061 412.984265 295.450206 391.195483 300.168350 355.793669 304.886494 309.997832 309.604639 395.203603 314.322783 360.126947 319.040928 358.733469 323.759072 398.119000 328.477217 369.854927 333.195361 360.451131 337.913506 373.965210 342.631650 391.549808 347.349794 391.469721 352.067939 364.898992 356.786083 256.135505 361.504228 333.635452 366.222372 409.093784 370.940517 433.849071 375.658661 395.713558 380.376806 401.873432 385.094950 387.236947 389.813095 394.427153 394.531239 393.158638 399.249383 388.396486 403.967528 394.460814 408.685672 396.455134 413.403817 383.928001 418.121961 384.365431 422.840106 380.259968 427.558250 367.903881 432.276395 373.114005 436.994539 361.896185 441.712683 307.385483 446.430828 335.996818 451.148972 339.560345 455.867117 383.753310 460.585261 381.931187 465.303406 358.725944 470.021550 324.732106 474.739695 327.656492 479.457839 360.347164 484.175984 323.127415 488.894128 341.435865 493.612272 373.366652 498.330417 333.712547 503.048561 311.904773 507.766706 246.481720 512.484850 307.238038 517.202995 243.186816 521.921139 274.798487 526.639284 249.367064 531.357428 289.096836 536.075573 280.502736 540.793717 313.945787 545.511861 305.153705 550.230006 325.856468 554.948150 342.284759 559.666295 320.961429 564.384439 318.908726 569.102584 346.463260 573.820728 324.496297 578.538873 361.996234 583.257017 257.266736 587.975161 293.807151 592.693306 345.888958 597.411450 315.092673 602.129595 296.762368 606.847739 340.624685 611.565884 343.859159 616.284028 299.405448 621.002173 300.813568 625.720317 318.196656 630.438462 420.696314 630.438462 436.455960 625.720317 345.377427 621.002173 342.308595 616.284028 354.896897 611.565884 378.673298 606.847739 374.479943 602.129595 340.515395 597.411450 334.535376 592.693306 371.157282 587.975161 351.594656 583.257017 363.142121 578.538873 385.986401 573.820728 344.680316 569.102584 364.615376 564.384439 346.554856 559.666295 347.045226 554.948150 361.759237 550.230006 349.461093 545.511861 327.057848 540.793717 344.846958 536.075573 314.141044 531.357428 314.201968 526.639284 288.987566 521.921139 303.851608 517.202995 276.416700 512.484850 331.662183 507.766706 269.774133 503.048561 336.042066 498.330417 352.329206 493.612272 396.660070 488.894128 369.324170 484.175984 337.693485 479.457839 375.903200 474.739695 349.807741 470.021550 360.146306 465.303406 373.243818 460.585261 402.772144 455.867117 396.973081 451.148972 361.810329 446.430828 353.204495 441.712683 325.672258 436.994539 384.861756 432.276395 391.612395 427.558250 385.184409 422.840106 394.967263 418.121961 399.588616 413.403817 402.448769 408.685672 407.479001 403.967528 414.460465 399.249383 405.338151 394.531239 402.244004 389.813095 409.417897 385.094950 396.955088 380.376806 413.570673 375.658661 409.807408 370.940517 444.229051 366.222372 420.578870 361.504228 345.991536 356.786083 271.094635 352.067939 382.205833 347.349794 411.837942 342.631650 414.538934 337.913506 401.514874 333.195361 398.996708 328.477217 394.097258 323.759072 422.472886 319.040928 403.618240 314.322783 403.318448 309.604639 415.482835 304.886494 343.247080 300.168350 371.309287 295.450206 405.905106 290.732061 429.198081 286.013917 426.653659 281.295772 439.253007 276.577628 428.093452 271.859483 453.189994 267.141339 451.654527 262.423194 447.983990 257.705050 425.564489 252.986905 437.467666 248.268761 422.952817 243.550617 426.979619 238.832472 416.445358 234.114328 422.715017 229.396183 426.528604 224.678039 433.657743 219.959894 447.396352 215.241750 465.199513 210.523605 461.859982 205.805461 459.356223 201.087317 448.304968 196.369172 450.031505 191.651028 441.324213 186.932883 366.217206 182.214739 453.762478 177.496594 476.612541 172.778450 470.148203 168.060305 463.870685 163.342161 444.635914 158.624016 433.517814 153.905872 468.419052 149.187728 460.544212 144.469583 443.715281 139.751439 452.260779 135.033294 452.472729 130.315150 450.467574 125.597005 434.456881 120.878861 437.115523 116.160716 451.061019 111.442572 431.464325 106.724427 412.283675 102.006283 426.988440 97.288139 448.430618 92.569994 424.053728 87.851850 398.756402 83.133705 378.815022 78.415561 361.603123 73.697416 395.713244 68.979272 411.613682 64.261127 394.997271 59.542983 388.703906 54.824839 367.816023 50.106694 374.736398 45.388550 363.057286 40.670405 424.176550 35.952261 443.427891 31.234116 451.939918 26.515972 426.430120 21.797827 432.328223 17.079683 432.869391 12.361538 492.829351\"/></g><g class=\"series serie-8 color-8\"><path class=\"line reactive\" d=\"M12.361538 478.332008 L17.079683 408.119791 21.797827 410.845084 26.515972 405.846981 31.234116 438.950517 35.952261 422.796038 40.670405 364.849908 45.388550 314.591038 50.106694 337.671703 54.824839 342.659011 59.542983 353.395692 64.261127 368.079433 68.979272 388.579190 73.697416 364.998663 78.415561 323.603439 83.133705 350.171092 87.851850 368.665954 92.569994 402.910981 97.288139 429.528172 102.006283 402.781966 106.724427 383.358435 111.442572 410.751741 116.160716 427.346789 120.878861 414.134571 125.597005 414.282249 130.315150 430.737683 135.033294 436.932904 139.751439 431.962054 144.469583 417.680564 149.187728 430.713979 153.905872 446.459072 158.624016 409.506154 163.342161 420.326963 168.060305 439.246430 172.778450 443.482241 177.496594 458.039918 182.214739 427.226351 186.932883 334.165608 191.651028 419.230746 196.369172 428.445623 201.087317 426.828440 205.805461 439.465405 210.523605 439.909820 215.241750 442.528565 219.959894 421.596856 224.678039 402.998842 229.396183 397.390583 234.114328 393.316219 238.832472 363.986318 243.550617 389.032846 248.268761 382.071983 252.986905 410.486745 257.705050 389.073791 262.423194 411.606422 267.141339 409.186788 271.859483 421.882655 276.577628 394.059856 281.295772 416.283608 286.013917 396.421905 290.732061 399.556959 295.450206 375.840240 300.168350 334.742226 304.886494 286.836951 309.604639 372.909183 314.322783 336.524585 319.040928 341.031232 323.759072 359.587524 328.477217 296.144691 333.195361 327.490829 337.913506 343.300062 342.631650 373.460652 347.349794 364.075760 352.067939 336.880854 356.786083 217.953034 361.504228 307.243032 366.222372 398.099871 370.940517 426.637458 375.658661 382.200705 380.376806 389.842180 385.094950 374.949289 389.813095 386.294119 394.531239 381.600337 399.249383 374.992328 403.967528 380.825992 408.685672 379.252680 413.403817 366.758031 418.121961 370.585332 422.840106 364.027393 427.558250 355.355112 432.276395 356.193072 436.994539 346.741094 441.712683 283.123218 446.430828 314.216005 451.148972 322.150557 455.867117 366.436788 460.585261 362.473590 465.303406 336.462842 470.021550 307.722030 474.739695 309.146962 479.457839 347.298677 484.175984 307.817861 488.894128 326.558611 493.612272 358.664913 498.330417 314.580828 503.048561 283.787383 507.766706 228.052177 512.484850 278.905245 517.202995 221.997389 521.921139 251.381313 526.639284 225.303876 531.357428 262.011113 536.075573 263.247998 540.793717 297.023263 545.511861 287.520559 550.230006 305.494477 554.948150 318.419292 559.666295 298.943140 564.384439 293.927492 569.102584 324.152286 573.820728 304.207777 578.538873 345.400072 583.257017 219.642631 587.975161 250.076332 592.693306 330.074921 597.411450 300.479582 602.129595 283.594813 606.847739 324.764708 611.565884 325.269817 616.284028 284.214231 621.002173 283.994050 625.720317 302.202201 630.438462 414.153227 630.438462 420.696314 625.720317 318.196656 621.002173 300.813568 616.284028 299.405448 611.565884 343.859159 606.847739 340.624685 602.129595 296.762368 597.411450 315.092673 592.693306 345.888958 587.975161 293.807151 583.257017 257.266736 578.538873 361.996234 573.820728 324.496297 569.102584 346.463260 564.384439 318.908726 559.666295 320.961429 554.948150 342.284759 550.230006 325.856468 545.511861 305.153705 540.793717 313.945787 536.075573 280.502736 531.357428 289.096836 526.639284 249.367064 521.921139 274.798487 517.202995 243.186816 512.484850 307.238038 507.766706 246.481720 503.048561 311.904773 498.330417 333.712547 493.612272 373.366652 488.894128 341.435865 484.175984 323.127415 479.457839 360.347164 474.739695 327.656492 470.021550 324.732106 465.303406 358.725944 460.585261 381.931187 455.867117 383.753310 451.148972 339.560345 446.430828 335.996818 441.712683 307.385483 436.994539 361.896185 432.276395 373.114005 427.558250 367.903881 422.840106 380.259968 418.121961 384.365431 413.403817 383.928001 408.685672 396.455134 403.967528 394.460814 399.249383 388.396486 394.531239 393.158638 389.813095 394.427153 385.094950 387.236947 380.376806 401.873432 375.658661 395.713558 370.940517 433.849071 366.222372 409.093784 361.504228 333.635452 356.786083 256.135505 352.067939 364.898992 347.349794 391.469721 342.631650 391.549808 337.913506 373.965210 333.195361 360.451131 328.477217 369.854927 323.759072 398.119000 319.040928 358.733469 314.322783 360.126947 309.604639 395.203603 304.886494 309.997832 300.168350 355.793669 295.450206 391.195483 290.732061 412.984265 286.013917 414.718284 281.295772 426.985338 276.577628 408.731387 271.859483 439.650912 267.141339 431.346668 262.423194 436.733978 257.705050 412.908375 252.986905 427.059831 248.268761 413.442342 243.550617 413.479579 238.832472 402.162976 234.114328 411.926600 229.396183 417.787580 224.678039 420.213871 219.959894 433.421860 215.241750 456.413735 210.523605 453.015712 205.805461 447.726361 201.087317 440.583670 196.369172 439.424940 191.651028 431.038017 186.932883 356.036148 182.214739 443.240238 177.496594 465.876348 172.778450 453.951607 168.060305 448.406879 163.342161 430.182822 158.624016 419.068055 153.905872 454.355432 149.187728 441.621568 144.469583 431.874970 139.751439 442.491845 135.033294 446.001341 130.315150 442.850916 125.597005 424.600868 120.878861 427.121920 116.160716 438.903530 111.442572 420.759961 106.724427 397.977361 102.006283 417.457043 97.288139 437.527601 92.569994 415.441816 87.851850 387.567818 83.133705 367.645260 78.415561 348.078105 73.697416 382.346576 68.979272 401.787922 64.261127 386.754434 59.542983 376.627892 54.824839 360.133444 50.106694 363.415231 45.388550 353.517188 40.670405 418.016311 35.952261 434.655104 31.234116 447.601839 26.515972 419.182879 21.797827 424.317155 17.079683 422.093748 12.361538 489.131746\"/></g><g class=\"series serie-9 color-9\"><path class=\"line reactive\" d=\"M12.361538 468.411332 L17.079683 389.890436 21.797827 391.301152 26.515972 371.964261 31.234116 413.861009 35.952261 390.387512 40.670405 330.203650 45.388550 280.324168 50.106694 305.445025 54.824839 312.906258 59.542983 319.868878 64.261127 346.853104 68.979272 355.231899 73.697416 330.730376 78.415561 285.012698 83.133705 320.157408 87.851850 319.403606 92.569994 362.208167 97.288139 390.808861 102.006283 376.221346 106.724427 356.117981 111.442572 385.805019 116.160716 406.247777 120.878861 383.932947 125.597005 391.620425 130.315150 413.367023 135.033294 408.647847 139.751439 397.299675 144.469583 395.657219 149.187728 402.715498 153.905872 422.546019 158.624016 381.004041 163.342161 392.929711 168.060305 424.219180 172.778450 427.639477 177.496594 440.494102 182.214739 410.846340 186.932883 312.006208 191.651028 400.812342 196.369172 408.362004 201.087317 411.470875 205.805461 416.919899 210.523605 417.016033 215.241750 417.979294 219.959894 402.323812 224.678039 384.239372 229.396183 381.063938 234.114328 369.910962 238.832472 340.765528 243.550617 360.015191 248.268761 360.948534 252.986905 369.863155 257.705050 364.985273 262.423194 378.456987 267.141339 376.730115 271.859483 392.252317 276.577628 365.595102 281.295772 386.898863 286.013917 373.244889 290.732061 360.917467 295.450206 344.191647 300.168350 300.841643 304.886494 229.811888 309.604639 326.178924 314.322783 291.753086 319.040928 294.135566 323.759072 325.794055 328.477217 264.911388 333.195361 283.679356 337.913506 304.080815 342.631650 347.491712 347.349794 333.161308 352.067939 301.186403 356.786083 171.708208 361.504228 273.017292 366.222372 362.642931 370.940517 397.182659 375.658661 322.987615 380.376806 357.632025 385.094950 350.205655 389.813095 358.818648 394.531239 355.177700 399.249383 326.258820 403.967528 346.424894 408.685672 356.634237 413.403817 315.382188 418.121961 326.516740 422.840106 326.491496 427.558250 319.488753 432.276395 310.855035 436.994539 278.541145 441.712683 245.057092 446.430828 270.090689 451.148972 254.964316 455.867117 329.679822 460.585261 316.867281 465.303406 300.466176 470.021550 238.133446 474.739695 275.306404 479.457839 304.014429 484.175984 258.239330 488.894128 265.272834 493.612272 310.406373 498.330417 278.294557 503.048561 243.200883 507.766706 192.584275 512.484850 222.660419 517.202995 174.961368 521.921139 220.632517 526.639284 183.175881 531.357428 227.899100 536.075573 231.121231 540.793717 247.653242 545.511861 254.655491 550.230006 251.657565 554.948150 290.280591 559.666295 263.018185 564.384439 254.822868 569.102584 282.825330 573.820728 267.287386 578.538873 313.664439 583.257017 182.139935 587.975161 216.925022 592.693306 301.009336 597.411450 276.499611 602.129595 241.296169 606.847739 284.676515 611.565884 305.137128 616.284028 251.447067 621.002173 251.921036 625.720317 267.909164 630.438462 391.891814 630.438462 414.153227 625.720317 302.202201 621.002173 283.994050 616.284028 284.214231 611.565884 325.269817 606.847739 324.764708 602.129595 283.594813 597.411450 300.479582 592.693306 330.074921 587.975161 250.076332 583.257017 219.642631 578.538873 345.400072 573.820728 304.207777 569.102584 324.152286 564.384439 293.927492 559.666295 298.943140 554.948150 318.419292 550.230006 305.494477 545.511861 287.520559 540.793717 297.023263 536.075573 263.247998 531.357428 262.011113 526.639284 225.303876 521.921139 251.381313 517.202995 221.997389 512.484850 278.905245 507.766706 228.052177 503.048561 283.787383 498.330417 314.580828 493.612272 358.664913 488.894128 326.558611 484.175984 307.817861 479.457839 347.298677 474.739695 309.146962 470.021550 307.722030 465.303406 336.462842 460.585261 362.473590 455.867117 366.436788 451.148972 322.150557 446.430828 314.216005 441.712683 283.123218 436.994539 346.741094 432.276395 356.193072 427.558250 355.355112 422.840106 364.027393 418.121961 370.585332 413.403817 366.758031 408.685672 379.252680 403.967528 380.825992 399.249383 374.992328 394.531239 381.600337 389.813095 386.294119 385.094950 374.949289 380.376806 389.842180 375.658661 382.200705 370.940517 426.637458 366.222372 398.099871 361.504228 307.243032 356.786083 217.953034 352.067939 336.880854 347.349794 364.075760 342.631650 373.460652 337.913506 343.300062 333.195361 327.490829 328.477217 296.144691 323.759072 359.587524 319.040928 341.031232 314.322783 336.524585 309.604639 372.909183 304.886494 286.836951 300.168350 334.742226 295.450206 375.840240 290.732061 399.556959 286.013917 396.421905 281.295772 416.283608 276.577628 394.059856 271.859483 421.882655 267.141339 409.186788 262.423194 411.606422 257.705050 389.073791 252.986905 410.486745 248.268761 382.071983 243.550617 389.032846 238.832472 363.986318 234.114328 393.316219 229.396183 397.390583 224.678039 402.998842 219.959894 421.596856 215.241750 442.528565 210.523605 439.909820 205.805461 439.465405 201.087317 426.828440 196.369172 428.445623 191.651028 419.230746 186.932883 334.165608 182.214739 427.226351 177.496594 458.039918 172.778450 443.482241 168.060305 439.246430 163.342161 420.326963 158.624016 409.506154 153.905872 446.459072 149.187728 430.713979 144.469583 417.680564 139.751439 431.962054 135.033294 436.932904 130.315150 430.737683 125.597005 414.282249 120.878861 414.134571 116.160716 427.346789 111.442572 410.751741 106.724427 383.358435 102.006283 402.781966 97.288139 429.528172 92.569994 402.910981 87.851850 368.665954 83.133705 350.171092 78.415561 323.603439 73.697416 364.998663 68.979272 388.579190 64.261127 368.079433 59.542983 353.395692 54.824839 342.659011 50.106694 337.671703 45.388550 314.591038 40.670405 364.849908 35.952261 422.796038 31.234116 438.950517 26.515972 405.846981 21.797827 410.845084 17.079683 408.119791 12.361538 478.332008\"/></g><g class=\"series serie-10 color-10\"><path class=\"line reactive\" d=\"M12.361538 463.140765 L17.079683 372.652487 21.797827 375.459297 26.515972 362.157641 31.234116 402.690905 35.952261 376.047841 40.670405 316.667687 45.388550 257.027865 50.106694 278.552554 54.824839 287.863977 59.542983 293.458897 64.261127 326.524602 68.979272 332.713141 73.697416 304.904518 78.415561 251.874816 83.133705 293.225345 87.851850 301.559521 92.569994 341.031188 97.288139 369.436404 102.006283 364.187481 106.724427 338.018677 111.442572 373.592715 116.160716 394.711464 120.878861 369.911325 125.597005 378.829637 130.315150 400.944555 135.033294 402.398315 139.751439 385.238605 144.469583 386.770718 149.187728 391.885799 153.905872 410.542359 158.624016 364.836130 163.342161 378.632198 168.060305 418.241125 172.778450 424.028716 177.496594 425.424799 182.214739 378.008655 186.932883 256.481446 191.651028 378.043200 196.369172 377.033596 201.087317 391.603532 205.805461 402.993586 210.523605 388.653039 215.241750 398.488012 219.959894 372.776416 224.678039 367.094471 229.396183 366.280083 234.114328 354.687489 238.832472 314.539188 243.550617 338.272991 248.268761 345.520776 252.986905 355.133409 257.705050 343.784049 262.423194 358.846319 267.141339 351.092283 271.859483 367.607195 276.577628 348.051853 281.295772 372.340578 286.013917 359.113811 290.732061 326.597422 295.450206 319.326517 300.168350 270.449664 304.886494 187.292568 309.604639 299.769264 314.322783 267.917617 319.040928 257.139662 323.759072 287.326288 328.477217 243.763477 333.195361 256.373536 337.913506 287.096339 342.631650 332.144875 347.349794 310.535394 352.067939 280.909805 356.786083 153.723731 361.504228 258.807129 366.222372 344.149992 370.940517 369.821050 375.658661 299.660871 380.376806 327.673603 385.094950 310.224597 389.813095 325.776102 394.531239 332.836725 399.249383 293.480827 403.967528 316.031688 408.685672 329.210635 413.403817 283.828999 418.121961 292.986761 422.840106 287.313347 427.558250 292.037361 432.276395 278.239311 436.994539 246.943885 441.712683 215.627828 446.430828 227.695832 451.148972 197.728084 455.867117 284.388326 460.585261 276.949464 465.303406 274.512755 470.021550 201.172362 474.739695 245.746619 479.457839 268.733147 484.175984 226.780742 488.894128 228.220051 493.612272 268.617007 498.330417 253.794434 503.048561 206.015202 507.766706 161.111907 512.484850 188.160899 517.202995 143.590871 521.921139 198.935286 526.639284 152.736016 531.357428 198.709521 536.075573 204.777842 540.793717 205.327127 545.511861 234.521510 550.230006 227.299933 554.948150 274.597018 559.666295 232.478558 564.384439 223.683612 569.102584 264.481901 573.820728 244.855403 578.538873 298.243504 583.257017 168.352869 587.975161 197.255288 592.693306 286.653462 597.411450 261.867138 602.129595 224.115802 606.847739 266.625748 611.565884 293.403442 616.284028 238.732572 621.002173 236.852071 625.720317 253.716144 630.438462 384.360788 630.438462 391.891814 625.720317 267.909164 621.002173 251.921036 616.284028 251.447067 611.565884 305.137128 606.847739 284.676515 602.129595 241.296169 597.411450 276.499611 592.693306 301.009336 587.975161 216.925022 583.257017 182.139935 578.538873 313.664439 573.820728 267.287386 569.102584 282.825330 564.384439 254.822868 559.666295 263.018185 554.948150 290.280591 550.230006 251.657565 545.511861 254.655491 540.793717 247.653242 536.075573 231.121231 531.357428 227.899100 526.639284 183.175881 521.921139 220.632517 517.202995 174.961368 512.484850 222.660419 507.766706 192.584275 503.048561 243.200883 498.330417 278.294557 493.612272 310.406373 488.894128 265.272834 484.175984 258.239330 479.457839 304.014429 474.739695 275.306404 470.021550 238.133446 465.303406 300.466176 460.585261 316.867281 455.867117 329.679822 451.148972 254.964316 446.430828 270.090689 441.712683 245.057092 436.994539 278.541145 432.276395 310.855035 427.558250 319.488753 422.840106 326.491496 418.121961 326.516740 413.403817 315.382188 408.685672 356.634237 403.967528 346.424894 399.249383 326.258820 394.531239 355.177700 389.813095 358.818648 385.094950 350.205655 380.376806 357.632025 375.658661 322.987615 370.940517 397.182659 366.222372 362.642931 361.504228 273.017292 356.786083 171.708208 352.067939 301.186403 347.349794 333.161308 342.631650 347.491712 337.913506 304.080815 333.195361 283.679356 328.477217 264.911388 323.759072 325.794055 319.040928 294.135566 314.322783 291.753086 309.604639 326.178924 304.886494 229.811888 300.168350 300.841643 295.450206 344.191647 290.732061 360.917467 286.013917 373.244889 281.295772 386.898863 276.577628 365.595102 271.859483 392.252317 267.141339 376.730115 262.423194 378.456987 257.705050 364.985273 252.986905 369.863155 248.268761 360.948534 243.550617 360.015191 238.832472 340.765528 234.114328 369.910962 229.396183 381.063938 224.678039 384.239372 219.959894 402.323812 215.241750 417.979294 210.523605 417.016033 205.805461 416.919899 201.087317 411.470875 196.369172 408.362004 191.651028 400.812342 186.932883 312.006208 182.214739 410.846340 177.496594 440.494102 172.778450 427.639477 168.060305 424.219180 163.342161 392.929711 158.624016 381.004041 153.905872 422.546019 149.187728 402.715498 144.469583 395.657219 139.751439 397.299675 135.033294 408.647847 130.315150 413.367023 125.597005 391.620425 120.878861 383.932947 116.160716 406.247777 111.442572 385.805019 106.724427 356.117981 102.006283 376.221346 97.288139 390.808861 92.569994 362.208167 87.851850 319.403606 83.133705 320.157408 78.415561 285.012698 73.697416 330.730376 68.979272 355.231899 64.261127 346.853104 59.542983 319.868878 54.824839 312.906258 50.106694 305.445025 45.388550 280.324168 40.670405 330.203650 35.952261 390.387512 31.234116 413.861009 26.515972 371.964261 21.797827 391.301152 17.079683 389.890436 12.361538 468.411332\"/></g><g class=\"series serie-11 color-11\"><path class=\"line reactive\" d=\"M12.361538 457.637644 L17.079683 362.574442 21.797827 370.029909 26.515972 353.346141 31.234116 398.248249 35.952261 371.027167 40.670405 312.413707 45.388550 248.341000 50.106694 271.541404 54.824839 281.143446 59.542983 281.488667 64.261127 321.373711 68.979272 328.021431 73.697416 297.073292 78.415561 232.350415 83.133705 286.261861 87.851850 290.108302 92.569994 332.654815 97.288139 361.782806 102.006283 355.828380 106.724427 331.724452 111.442572 367.594248 116.160716 389.643915 120.878861 365.683640 125.597005 373.401648 130.315150 395.203864 135.033294 395.506063 139.751439 375.937171 144.469583 379.784468 149.187728 387.630366 153.905872 406.847661 158.624016 356.529514 163.342161 370.669718 168.060305 414.105430 172.778450 420.799688 177.496594 408.454891 182.214739 341.818166 186.932883 230.102522 191.651028 364.348491 196.369172 364.472530 201.087317 382.400511 205.805461 393.915070 210.523605 370.922088 215.241750 389.006353 219.959894 354.588339 224.678039 347.494631 229.396183 350.825046 234.114328 342.123483 238.832472 287.615193 243.550617 321.543544 248.268761 332.342653 252.986905 341.471560 257.705050 324.454163 262.423194 341.267636 267.141339 335.607523 271.859483 348.191987 276.577628 333.244981 281.295772 357.536336 286.013917 345.083906 290.732061 310.535991 295.450206 301.043878 300.168350 250.622866 304.886494 170.105962 309.604639 283.435935 314.322783 240.365844 319.040928 232.023182 323.759072 260.865295 328.477217 226.738139 333.195361 236.285501 337.913506 266.096697 342.631650 314.987025 347.349794 280.500300 352.067939 252.787275 356.786083 142.940143 361.504228 249.320357 366.222372 330.355356 370.940517 362.815670 375.658661 293.208224 380.376806 318.243543 385.094950 302.232940 389.813095 313.979472 394.531239 318.207678 399.249383 282.570445 403.967528 305.825768 408.685672 322.850151 413.403817 275.102966 418.121961 283.096622 422.840106 277.921043 427.558250 285.741046 432.276395 270.657020 436.994539 233.340375 441.712683 203.049036 446.430828 216.209535 451.148972 185.803479 455.867117 274.681581 460.585261 266.395864 465.303406 264.314892 470.021550 190.047028 474.739695 234.909306 479.457839 259.563067 484.175984 215.259953 488.894128 206.917708 493.612272 261.218214 498.330417 243.232039 503.048561 192.970068 507.766706 145.206226 512.484850 178.425828 517.202995 131.447498 521.921139 188.532669 526.639284 142.164438 531.357428 184.752880 536.075573 194.359596 540.793717 196.850636 545.511861 218.255993 550.230006 211.277966 554.948150 263.611217 559.666295 215.571509 564.384439 213.197364 569.102584 254.916184 573.820728 230.240361 578.538873 290.164776 583.257017 159.256949 587.975161 187.116045 592.693306 275.798294 597.411450 255.825913 602.129595 216.253282 606.847739 257.149900 611.565884 286.332156 616.284028 231.595841 621.002173 228.780088 625.720317 237.846823 630.438462 379.594566 630.438462 384.360788 625.720317 253.716144 621.002173 236.852071 616.284028 238.732572 611.565884 293.403442 606.847739 266.625748 602.129595 224.115802 597.411450 261.867138 592.693306 286.653462 587.975161 197.255288 583.257017 168.352869 578.538873 298.243504 573.820728 244.855403 569.102584 264.481901 564.384439 223.683612 559.666295 232.478558 554.948150 274.597018 550.230006 227.299933 545.511861 234.521510 540.793717 205.327127 536.075573 204.777842 531.357428 198.709521 526.639284 152.736016 521.921139 198.935286 517.202995 143.590871 512.484850 188.160899 507.766706 161.111907 503.048561 206.015202 498.330417 253.794434 493.612272 268.617007 488.894128 228.220051 484.175984 226.780742 479.457839 268.733147 474.739695 245.746619 470.021550 201.172362 465.303406 274.512755 460.585261 276.949464 455.867117 284.388326 451.148972 197.728084 446.430828 227.695832 441.712683 215.627828 436.994539 246.943885 432.276395 278.239311 427.558250 292.037361 422.840106 287.313347 418.121961 292.986761 413.403817 283.828999 408.685672 329.210635 403.967528 316.031688 399.249383 293.480827 394.531239 332.836725 389.813095 325.776102 385.094950 310.224597 380.376806 327.673603 375.658661 299.660871 370.940517 369.821050 366.222372 344.149992 361.504228 258.807129 356.786083 153.723731 352.067939 280.909805 347.349794 310.535394 342.631650 332.144875 337.913506 287.096339 333.195361 256.373536 328.477217 243.763477 323.759072 287.326288 319.040928 257.139662 314.322783 267.917617 309.604639 299.769264 304.886494 187.292568 300.168350 270.449664 295.450206 319.326517 290.732061 326.597422 286.013917 359.113811 281.295772 372.340578 276.577628 348.051853 271.859483 367.607195 267.141339 351.092283 262.423194 358.846319 257.705050 343.784049 252.986905 355.133409 248.268761 345.520776 243.550617 338.272991 238.832472 314.539188 234.114328 354.687489 229.396183 366.280083 224.678039 367.094471 219.959894 372.776416 215.241750 398.488012 210.523605 388.653039 205.805461 402.993586 201.087317 391.603532 196.369172 377.033596 191.651028 378.043200 186.932883 256.481446 182.214739 378.008655 177.496594 425.424799 172.778450 424.028716 168.060305 418.241125 163.342161 378.632198 158.624016 364.836130 153.905872 410.542359 149.187728 391.885799 144.469583 386.770718 139.751439 385.238605 135.033294 402.398315 130.315150 400.944555 125.597005 378.829637 120.878861 369.911325 116.160716 394.711464 111.442572 373.592715 106.724427 338.018677 102.006283 364.187481 97.288139 369.436404 92.569994 341.031188 87.851850 301.559521 83.133705 293.225345 78.415561 251.874816 73.697416 304.904518 68.979272 332.713141 64.261127 326.524602 59.542983 293.458897 54.824839 287.863977 50.106694 278.552554 45.388550 257.027865 40.670405 316.667687 35.952261 376.047841 31.234116 402.690905 26.515972 362.157641 21.797827 375.459297 17.079683 372.652487 12.361538 463.140765\"/></g><g class=\"series serie-12 color-12\"><path class=\"line reactive\" d=\"M12.361538 453.563909 L17.079683 348.571375 21.797827 358.244097 26.515972 340.256039 31.234116 387.549370 35.952261 358.049618 40.670405 303.492406 45.388550 227.518009 50.106694 256.033300 54.824839 265.160031 59.542983 252.447138 64.261127 273.090270 68.979272 304.259562 73.697416 270.894903 78.415561 209.473746 83.133705 263.663558 87.851850 271.534656 92.569994 318.801016 97.288139 349.908729 102.006283 331.801330 106.724427 305.808560 111.442572 347.439180 116.160716 374.078410 120.878861 351.864739 125.597005 350.936574 130.315150 377.786613 135.033294 385.335325 139.751439 361.882237 144.469583 357.644840 149.187728 375.323687 153.905872 395.372045 158.624016 341.724152 163.342161 358.706603 168.060305 408.595575 172.778450 415.832435 177.496594 399.194371 182.214739 332.912091 186.932883 221.170705 191.651028 357.836045 196.369172 353.184109 201.087317 373.855927 205.805461 389.360788 210.523605 362.936146 215.241750 380.683200 219.959894 340.579809 224.678039 334.400850 229.396183 339.108577 234.114328 320.802865 238.832472 263.642495 243.550617 305.935817 248.268761 317.882592 252.986905 331.472961 257.705050 307.511219 262.423194 328.309130 267.141339 323.318242 271.859483 340.613152 276.577628 323.138233 281.295772 329.445201 286.013917 334.273460 290.732061 297.187912 295.450206 280.180733 300.168350 230.680459 304.886494 145.313045 309.604639 261.456159 314.322783 221.364166 319.040928 217.070794 323.759072 242.279105 328.477217 204.138678 333.195361 211.328705 337.913506 212.365438 342.631650 301.336620 347.349794 251.518647 352.067939 232.647115 356.786083 119.887942 361.504228 231.610826 366.222372 323.544698 370.940517 354.334987 375.658661 260.742838 380.376806 298.215182 385.094950 290.375538 389.813095 301.389193 394.531239 293.867597 399.249383 262.315969 403.967528 289.007057 408.685672 303.624419 413.403817 251.009532 418.121961 256.555704 422.840106 258.353800 427.558250 272.574785 432.276395 233.520824 436.994539 215.178491 441.712683 181.046189 446.430828 193.656368 451.148972 171.739175 455.867117 259.787002 460.585261 248.863226 465.303406 251.168759 470.021550 177.407983 474.739695 224.034679 479.457839 246.658755 484.175984 206.318329 488.894128 199.339415 493.612272 250.396842 498.330417 229.560433 503.048561 181.045136 507.766706 134.639162 512.484850 161.778424 517.202995 115.588681 521.921139 172.008649 526.639284 124.909906 531.357428 174.413910 536.075573 179.875730 540.793717 186.343093 545.511861 202.762864 550.230006 200.114067 554.948150 254.962335 559.666295 199.939508 564.384439 202.120545 569.102584 232.395292 573.820728 213.472459 578.538873 278.915374 583.257017 149.223002 587.975161 170.662834 592.693306 237.421410 597.411450 240.781713 602.129595 197.634624 606.847739 244.145628 611.565884 270.438309 616.284028 217.140950 621.002173 213.468436 625.720317 222.598691 630.438462 374.155425 630.438462 379.594566 625.720317 237.846823 621.002173 228.780088 616.284028 231.595841 611.565884 286.332156 606.847739 257.149900 602.129595 216.253282 597.411450 255.825913 592.693306 275.798294 587.975161 187.116045 583.257017 159.256949 578.538873 290.164776 573.820728 230.240361 569.102584 254.916184 564.384439 213.197364 559.666295 215.571509 554.948150 263.611217 550.230006 211.277966 545.511861 218.255993 540.793717 196.850636 536.075573 194.359596 531.357428 184.752880 526.639284 142.164438 521.921139 188.532669 517.202995 131.447498 512.484850 178.425828 507.766706 145.206226 503.048561 192.970068 498.330417 243.232039 493.612272 261.218214 488.894128 206.917708 484.175984 215.259953 479.457839 259.563067 474.739695 234.909306 470.021550 190.047028 465.303406 264.314892 460.585261 266.395864 455.867117 274.681581 451.148972 185.803479 446.430828 216.209535 441.712683 203.049036 436.994539 233.340375 432.276395 270.657020 427.558250 285.741046 422.840106 277.921043 418.121961 283.096622 413.403817 275.102966 408.685672 322.850151 403.967528 305.825768 399.249383 282.570445 394.531239 318.207678 389.813095 313.979472 385.094950 302.232940 380.376806 318.243543 375.658661 293.208224 370.940517 362.815670 366.222372 330.355356 361.504228 249.320357 356.786083 142.940143 352.067939 252.787275 347.349794 280.500300 342.631650 314.987025 337.913506 266.096697 333.195361 236.285501 328.477217 226.738139 323.759072 260.865295 319.040928 232.023182 314.322783 240.365844 309.604639 283.435935 304.886494 170.105962 300.168350 250.622866 295.450206 301.043878 290.732061 310.535991 286.013917 345.083906 281.295772 357.536336 276.577628 333.244981 271.859483 348.191987 267.141339 335.607523 262.423194 341.267636 257.705050 324.454163 252.986905 341.471560 248.268761 332.342653 243.550617 321.543544 238.832472 287.615193 234.114328 342.123483 229.396183 350.825046 224.678039 347.494631 219.959894 354.588339 215.241750 389.006353 210.523605 370.922088 205.805461 393.915070 201.087317 382.400511 196.369172 364.472530 191.651028 364.348491 186.932883 230.102522 182.214739 341.818166 177.496594 408.454891 172.778450 420.799688 168.060305 414.105430 163.342161 370.669718 158.624016 356.529514 153.905872 406.847661 149.187728 387.630366 144.469583 379.784468 139.751439 375.937171 135.033294 395.506063 130.315150 395.203864 125.597005 373.401648 120.878861 365.683640 116.160716 389.643915 111.442572 367.594248 106.724427 331.724452 102.006283 355.828380 97.288139 361.782806 92.569994 332.654815 87.851850 290.108302 83.133705 286.261861 78.415561 232.350415 73.697416 297.073292 68.979272 328.021431 64.261127 321.373711 59.542983 281.488667 54.824839 281.143446 50.106694 271.541404 45.388550 248.341000 40.670405 312.413707 35.952261 371.027167 31.234116 398.248249 26.515972 353.346141 21.797827 370.029909 17.079683 362.574442 12.361538 457.637644\"/></g><g class=\"series serie-13 color-13\"><path class=\"line reactive\" d=\"M12.361538 442.911771 L17.079683 333.863383 21.797827 341.918330 26.515972 332.461256 31.234116 379.049697 35.952261 341.305548 40.670405 290.339097 45.388550 212.729112 50.106694 239.851755 54.824839 252.672959 59.542983 237.591881 64.261127 262.131223 68.979272 291.680262 73.697416 250.037299 78.415561 188.775121 83.133705 244.036415 87.851850 257.241202 92.569994 305.243922 97.288139 336.268599 102.006283 317.908077 106.724427 284.403400 111.442572 330.717979 116.160716 359.614538 120.878861 341.265225 125.597005 341.306214 130.315150 365.960256 135.033294 377.759437 139.751439 352.734771 144.469583 348.115298 149.187728 361.821696 153.905872 385.582460 158.624016 325.028427 163.342161 344.765999 168.060305 398.546142 172.778450 405.745143 177.496594 387.996889 182.214739 323.585826 186.932883 210.857117 191.651028 348.867783 196.369172 326.590241 201.087317 360.324828 205.805461 366.266141 210.523605 349.466395 215.241750 367.432953 219.959894 324.999823 224.678039 321.648815 229.396183 325.616435 234.114328 308.267530 238.832472 248.862843 243.550617 292.331479 248.268761 303.627716 252.986905 316.849716 257.705050 287.566260 262.423194 316.463399 267.141339 310.143686 271.859483 330.435404 276.577628 304.043667 281.295772 315.250507 286.013917 322.193234 290.732061 277.498872 295.450206 260.380823 300.168350 209.484823 304.886494 118.736789 309.604639 240.329937 314.322783 201.520736 319.040928 193.403242 323.759072 218.393901 328.477217 187.813035 333.195361 188.087522 337.913506 188.316927 342.631650 285.635646 347.349794 234.518552 352.067939 211.348825 356.786083 96.168951 361.504228 213.938271 366.222372 308.707522 370.940517 342.687876 375.658661 249.151240 380.376806 287.926855 385.094950 278.596639 389.813095 286.789802 394.531239 280.425532 399.249383 245.845548 403.967528 277.188164 408.685672 290.219666 413.403817 236.086638 418.121961 241.135223 422.840106 240.827207 427.558250 254.069716 432.276395 216.142280 436.994539 200.884113 441.712683 165.031949 446.430828 178.311377 451.148972 161.535646 455.867117 247.415201 460.585261 233.459617 465.303406 238.624312 470.021550 160.092463 474.739695 206.936498 479.457839 230.314751 484.175984 192.728015 488.894128 181.846821 493.612272 236.727308 498.330417 219.128923 503.048561 169.875324 507.766706 117.659394 512.484850 148.993282 517.202995 96.630569 521.921139 152.293615 526.639284 102.550952 531.357428 161.523849 536.075573 164.439540 540.793717 171.872261 545.511861 186.840420 550.230006 186.931969 554.948150 245.220512 559.666295 183.599838 564.384439 182.733957 569.102584 219.387239 573.820728 201.815235 578.538873 264.579887 583.257017 134.840686 587.975161 158.132327 592.693306 225.129726 597.411450 226.466125 602.129595 176.009782 606.847739 226.793937 611.565884 256.874150 616.284028 201.321034 621.002173 194.635425 625.720317 202.628506 630.438462 366.471324 630.438462 374.155425 625.720317 222.598691 621.002173 213.468436 616.284028 217.140950 611.565884 270.438309 606.847739 244.145628 602.129595 197.634624 597.411450 240.781713 592.693306 237.421410 587.975161 170.662834 583.257017 149.223002 578.538873 278.915374 573.820728 213.472459 569.102584 232.395292 564.384439 202.120545 559.666295 199.939508 554.948150 254.962335 550.230006 200.114067 545.511861 202.762864 540.793717 186.343093 536.075573 179.875730 531.357428 174.413910 526.639284 124.909906 521.921139 172.008649 517.202995 115.588681 512.484850 161.778424 507.766706 134.639162 503.048561 181.045136 498.330417 229.560433 493.612272 250.396842 488.894128 199.339415 484.175984 206.318329 479.457839 246.658755 474.739695 224.034679 470.021550 177.407983 465.303406 251.168759 460.585261 248.863226 455.867117 259.787002 451.148972 171.739175 446.430828 193.656368 441.712683 181.046189 436.994539 215.178491 432.276395 233.520824 427.558250 272.574785 422.840106 258.353800 418.121961 256.555704 413.403817 251.009532 408.685672 303.624419 403.967528 289.007057 399.249383 262.315969 394.531239 293.867597 389.813095 301.389193 385.094950 290.375538 380.376806 298.215182 375.658661 260.742838 370.940517 354.334987 366.222372 323.544698 361.504228 231.610826 356.786083 119.887942 352.067939 232.647115 347.349794 251.518647 342.631650 301.336620 337.913506 212.365438 333.195361 211.328705 328.477217 204.138678 323.759072 242.279105 319.040928 217.070794 314.322783 221.364166 309.604639 261.456159 304.886494 145.313045 300.168350 230.680459 295.450206 280.180733 290.732061 297.187912 286.013917 334.273460 281.295772 329.445201 276.577628 323.138233 271.859483 340.613152 267.141339 323.318242 262.423194 328.309130 257.705050 307.511219 252.986905 331.472961 248.268761 317.882592 243.550617 305.935817 238.832472 263.642495 234.114328 320.802865 229.396183 339.108577 224.678039 334.400850 219.959894 340.579809 215.241750 380.683200 210.523605 362.936146 205.805461 389.360788 201.087317 373.855927 196.369172 353.184109 191.651028 357.836045 186.932883 221.170705 182.214739 332.912091 177.496594 399.194371 172.778450 415.832435 168.060305 408.595575 163.342161 358.706603 158.624016 341.724152 153.905872 395.372045 149.187728 375.323687 144.469583 357.644840 139.751439 361.882237 135.033294 385.335325 130.315150 377.786613 125.597005 350.936574 120.878861 351.864739 116.160716 374.078410 111.442572 347.439180 106.724427 305.808560 102.006283 331.801330 97.288139 349.908729 92.569994 318.801016 87.851850 271.534656 83.133705 263.663558 78.415561 209.473746 73.697416 270.894903 68.979272 304.259562 64.261127 273.090270 59.542983 252.447138 54.824839 265.160031 50.106694 256.033300 45.388550 227.518009 40.670405 303.492406 35.952261 358.049618 31.234116 387.549370 26.515972 340.256039 21.797827 358.244097 17.079683 348.571375 12.361538 453.563909\"/></g><g class=\"series serie-14 color-14\"><path class=\"line reactive\" d=\"M12.361538 440.057376 L17.079683 329.608398 21.797827 337.576631 26.515972 325.327756 31.234116 375.551566 35.952261 334.898822 40.670405 269.736011 45.388550 206.629410 50.106694 232.519435 54.824839 247.133413 59.542983 228.331409 64.261127 249.867329 68.979272 286.660894 73.697416 244.305187 78.415561 182.267817 83.133705 235.848610 87.851850 251.941759 92.569994 300.933843 97.288139 332.572979 102.006283 314.786545 106.724427 280.530587 111.442572 328.749978 116.160716 357.658455 120.878861 336.986544 125.597005 337.472108 130.315150 363.187027 135.033294 374.607240 139.751439 349.072466 144.469583 343.248005 149.187728 359.833154 153.905872 383.249848 158.624016 322.320683 163.342161 342.482827 168.060305 396.546132 172.778450 404.787296 177.496594 386.548051 182.214739 321.520824 186.932883 201.282481 191.651028 341.956076 196.369172 319.492493 201.087317 354.822918 205.805461 362.982414 210.523605 342.933289 215.241750 363.339364 219.959894 317.942914 224.678039 315.179265 229.396183 318.825917 234.114328 301.442361 238.832472 232.888791 243.550617 278.197768 248.268761 292.590013 252.986905 309.533689 257.705050 273.874585 262.423194 297.540553 267.141339 293.025743 271.859483 323.458268 276.577628 290.029034 281.295772 303.066479 286.013917 312.734886 290.732061 267.480163 295.450206 250.994009 300.168350 194.490521 304.886494 105.890710 309.604639 222.148849 314.322783 183.025058 319.040928 185.873638 323.759072 199.315591 328.477217 168.611752 333.195361 178.664776 337.913506 178.438539 342.631650 278.327152 347.349794 225.726109 352.067939 196.008684 356.786083 87.594230 361.504228 204.731207 366.222372 302.261920 370.940517 333.888066 375.658661 236.887506 380.376806 274.587372 385.094950 269.381410 389.813095 274.123444 394.531239 275.111490 399.249383 238.240624 403.967528 271.310666 408.685672 282.355054 413.403817 230.112069 418.121961 231.314458 422.840106 228.555591 427.558250 246.901590 432.276395 204.958545 436.994539 185.012842 441.712683 148.677944 446.430828 125.965600 451.148972 118.437586 455.867117 215.170752 460.585261 212.275596 465.303406 197.732114 470.021550 123.311290 474.739695 156.080914 479.457839 176.238741 484.175984 138.747572 488.894128 112.536975 493.612272 173.195363 498.330417 161.988092 503.048561 105.019986 507.766706 67.187428 512.484850 81.167523 517.202995 61.308649 521.921139 121.373953 526.639284 70.549809 531.357428 109.077587 536.075573 140.327526 540.793717 151.181874 545.511861 166.385201 550.230006 167.403074 554.948150 221.443618 559.666295 156.366939 564.384439 157.215340 569.102584 199.294900 573.820728 164.448863 578.538873 227.991412 583.257017 86.058806 587.975161 100.532859 592.693306 204.382102 597.411450 210.677890 602.129595 154.516679 606.847739 205.813344 611.565884 235.073492 616.284028 180.611635 621.002173 174.369804 625.720317 184.470579 630.438462 355.512770 630.438462 366.471324 625.720317 202.628506 621.002173 194.635425 616.284028 201.321034 611.565884 256.874150 606.847739 226.793937 602.129595 176.009782 597.411450 226.466125 592.693306 225.129726 587.975161 158.132327 583.257017 134.840686 578.538873 264.579887 573.820728 201.815235 569.102584 219.387239 564.384439 182.733957 559.666295 183.599838 554.948150 245.220512 550.230006 186.931969 545.511861 186.840420 540.793717 171.872261 536.075573 164.439540 531.357428 161.523849 526.639284 102.550952 521.921139 152.293615 517.202995 96.630569 512.484850 148.993282 507.766706 117.659394 503.048561 169.875324 498.330417 219.128923 493.612272 236.727308 488.894128 181.846821 484.175984 192.728015 479.457839 230.314751 474.739695 206.936498 470.021550 160.092463 465.303406 238.624312 460.585261 233.459617 455.867117 247.415201 451.148972 161.535646 446.430828 178.311377 441.712683 165.031949 436.994539 200.884113 432.276395 216.142280 427.558250 254.069716 422.840106 240.827207 418.121961 241.135223 413.403817 236.086638 408.685672 290.219666 403.967528 277.188164 399.249383 245.845548 394.531239 280.425532 389.813095 286.789802 385.094950 278.596639 380.376806 287.926855 375.658661 249.151240 370.940517 342.687876 366.222372 308.707522 361.504228 213.938271 356.786083 96.168951 352.067939 211.348825 347.349794 234.518552 342.631650 285.635646 337.913506 188.316927 333.195361 188.087522 328.477217 187.813035 323.759072 218.393901 319.040928 193.403242 314.322783 201.520736 309.604639 240.329937 304.886494 118.736789 300.168350 209.484823 295.450206 260.380823 290.732061 277.498872 286.013917 322.193234 281.295772 315.250507 276.577628 304.043667 271.859483 330.435404 267.141339 310.143686 262.423194 316.463399 257.705050 287.566260 252.986905 316.849716 248.268761 303.627716 243.550617 292.331479 238.832472 248.862843 234.114328 308.267530 229.396183 325.616435 224.678039 321.648815 219.959894 324.999823 215.241750 367.432953 210.523605 349.466395 205.805461 366.266141 201.087317 360.324828 196.369172 326.590241 191.651028 348.867783 186.932883 210.857117 182.214739 323.585826 177.496594 387.996889 172.778450 405.745143 168.060305 398.546142 163.342161 344.765999 158.624016 325.028427 153.905872 385.582460 149.187728 361.821696 144.469583 348.115298 139.751439 352.734771 135.033294 377.759437 130.315150 365.960256 125.597005 341.306214 120.878861 341.265225 116.160716 359.614538 111.442572 330.717979 106.724427 284.403400 102.006283 317.908077 97.288139 336.268599 92.569994 305.243922 87.851850 257.241202 83.133705 244.036415 78.415561 188.775121 73.697416 250.037299 68.979272 291.680262 64.261127 262.131223 59.542983 237.591881 54.824839 252.672959 50.106694 239.851755 45.388550 212.729112 40.670405 290.339097 35.952261 341.305548 31.234116 379.049697 26.515972 332.461256 21.797827 341.918330 17.079683 333.863383 12.361538 442.911771\"/></g><g class=\"series serie-15 color-15\"><path class=\"line reactive\" d=\"M12.361538 431.313447 L17.079683 315.877887 21.797827 321.605242 26.515972 314.890982 31.234116 365.231026 35.952261 320.226357 40.670405 258.246277 45.388550 188.277582 50.106694 210.067951 54.824839 225.758982 59.542983 206.816520 64.261127 232.213503 68.979272 266.925898 73.697416 214.473422 78.415561 148.580309 83.133705 209.732157 87.851850 227.588205 92.569994 277.732365 97.288139 310.950847 102.006283 301.213383 106.724427 260.363915 111.442572 307.907800 116.160716 338.635912 120.878861 316.458065 125.597005 323.491311 130.315150 348.056828 135.033294 347.070963 139.751439 328.818022 144.469583 327.080981 149.187728 342.324803 153.905872 364.153331 158.624016 298.762809 163.342161 327.391401 168.060305 384.072808 172.778450 393.927210 177.496594 373.830342 182.214739 312.966696 186.932883 189.771369 191.651028 327.126231 196.369172 298.682581 201.087317 344.968034 205.805461 338.867316 210.523605 326.992740 215.241750 352.585639 219.959894 300.987447 224.678039 303.014687 229.396183 303.336328 234.114328 284.482751 238.832472 217.502760 243.550617 249.460182 248.268761 275.684835 252.986905 292.106782 257.705050 250.225784 262.423194 280.084485 267.141339 270.696368 271.859483 307.616068 276.577628 269.228472 281.295772 283.461390 286.013917 289.665365 290.732061 238.176311 295.450206 226.625774 300.168350 169.087655 304.886494 67.564748 309.604639 192.447899 314.322783 164.204741 319.040928 162.343957 323.759072 180.383991 328.477217 141.495377 333.195361 149.888309 337.913506 146.675679 342.631650 262.190015 347.349794 201.677645 352.067939 176.363783 356.786083 71.052107 361.504228 187.700729 366.222372 284.813603 370.940517 316.089487 375.658661 215.134140 380.376806 257.886337 385.094950 253.902936 389.813095 247.552342 394.531239 256.200208 399.249383 210.173542 403.967528 222.908092 408.685672 263.955112 413.403817 203.230168 418.121961 208.146266 422.840106 205.700398 427.558250 220.214813 432.276395 176.117190 436.994539 148.510006 441.712683 125.750886 446.430828 100.522942 451.148972 45.410689 455.867117 192.582268 460.585261 181.675917 465.303406 174.857402 470.021550 80.592552 474.739695 134.276715 479.457839 156.778856 484.175984 107.831912 488.894128 47.400699 493.612272 136.320322 498.330417 133.729120 503.048561 78.102174 507.766706 39.094667 512.484850 32.167613 517.202995 32.134830 521.921139 98.633935 526.639284 29.969248 531.357428 78.719902 536.075573 112.448964 540.793717 110.426709 545.511861 139.020838 550.230006 109.392197 554.948150 201.286527 559.666295 126.352229 564.384439 127.895581 569.102584 178.454280 573.820728 144.551422 578.538873 206.186684 583.257017 60.364529 587.975161 81.053251 592.693306 181.382073 597.411450 188.173605 602.129595 129.360928 606.847739 181.239960 611.565884 218.230691 616.284028 156.002853 621.002173 147.664991 625.720317 148.799267 630.438462 336.821446 630.438462 355.512770 625.720317 184.470579 621.002173 174.369804 616.284028 180.611635 611.565884 235.073492 606.847739 205.813344 602.129595 154.516679 597.411450 210.677890 592.693306 204.382102 587.975161 100.532859 583.257017 86.058806 578.538873 227.991412 573.820728 164.448863 569.102584 199.294900 564.384439 157.215340 559.666295 156.366939 554.948150 221.443618 550.230006 167.403074 545.511861 166.385201 540.793717 151.181874 536.075573 140.327526 531.357428 109.077587 526.639284 70.549809 521.921139 121.373953 517.202995 61.308649 512.484850 81.167523 507.766706 67.187428 503.048561 105.019986 498.330417 161.988092 493.612272 173.195363 488.894128 112.536975 484.175984 138.747572 479.457839 176.238741 474.739695 156.080914 470.021550 123.311290 465.303406 197.732114 460.585261 212.275596 455.867117 215.170752 451.148972 118.437586 446.430828 125.965600 441.712683 148.677944 436.994539 185.012842 432.276395 204.958545 427.558250 246.901590 422.840106 228.555591 418.121961 231.314458 413.403817 230.112069 408.685672 282.355054 403.967528 271.310666 399.249383 238.240624 394.531239 275.111490 389.813095 274.123444 385.094950 269.381410 380.376806 274.587372 375.658661 236.887506 370.940517 333.888066 366.222372 302.261920 361.504228 204.731207 356.786083 87.594230 352.067939 196.008684 347.349794 225.726109 342.631650 278.327152 337.913506 178.438539 333.195361 178.664776 328.477217 168.611752 323.759072 199.315591 319.040928 185.873638 314.322783 183.025058 309.604639 222.148849 304.886494 105.890710 300.168350 194.490521 295.450206 250.994009 290.732061 267.480163 286.013917 312.734886 281.295772 303.066479 276.577628 290.029034 271.859483 323.458268 267.141339 293.025743 262.423194 297.540553 257.705050 273.874585 252.986905 309.533689 248.268761 292.590013 243.550617 278.197768 238.832472 232.888791 234.114328 301.442361 229.396183 318.825917 224.678039 315.179265 219.959894 317.942914 215.241750 363.339364 210.523605 342.933289 205.805461 362.982414 201.087317 354.822918 196.369172 319.492493 191.651028 341.956076 186.932883 201.282481 182.214739 321.520824 177.496594 386.548051 172.778450 404.787296 168.060305 396.546132 163.342161 342.482827 158.624016 322.320683 153.905872 383.249848 149.187728 359.833154 144.469583 343.248005 139.751439 349.072466 135.033294 374.607240 130.315150 363.187027 125.597005 337.472108 120.878861 336.986544 116.160716 357.658455 111.442572 328.749978 106.724427 280.530587 102.006283 314.786545 97.288139 332.572979 92.569994 300.933843 87.851850 251.941759 83.133705 235.848610 78.415561 182.267817 73.697416 244.305187 68.979272 286.660894 64.261127 249.867329 59.542983 228.331409 54.824839 247.133413 50.106694 232.519435 45.388550 206.629410 40.670405 269.736011 35.952261 334.898822 31.234116 375.551566 26.515972 325.327756 21.797827 337.576631 17.079683 329.608398 12.361538 440.057376\"/></g><g class=\"series serie-16 color-16\"><path class=\"line reactive\" d=\"M12.361538 426.025805 L17.079683 306.645013 21.797827 308.202157 26.515972 298.340262 31.234116 355.435424 35.952261 310.797392 40.670405 243.840341 45.388550 164.945208 50.106694 196.607072 54.824839 212.697524 59.542983 194.011838 64.261127 222.559416 68.979272 253.183183 73.697416 200.759440 78.415561 124.978596 83.133705 194.530884 87.851850 214.254667 92.569994 261.487931 97.288139 293.668843 102.006283 283.806947 106.724427 243.321299 111.442572 294.187890 116.160716 323.254517 120.878861 301.454548 125.597005 306.645015 130.315150 336.749734 135.033294 334.154502 139.751439 317.025954 144.469583 312.354528 149.187728 324.811659 153.905872 343.497346 158.624016 277.578386 163.342161 313.392626 168.060305 375.678254 172.778450 382.425864 177.496594 362.702080 182.214739 307.164060 186.932883 176.364244 191.651028 316.506909 196.369172 285.883139 201.087317 336.749738 205.805461 330.002126 210.523605 311.316436 215.241750 339.864018 219.959894 287.959328 224.678039 290.554558 229.396183 292.630749 234.114328 272.906967 238.832472 206.988009 243.550617 239.687966 248.268761 267.716498 252.986905 282.768859 257.705050 240.207010 262.423194 266.159356 267.141339 248.511762 271.859483 297.821214 276.577628 243.321291 281.295772 268.235543 286.013917 275.502198 290.732061 226.711788 295.450206 200.759450 300.168350 136.397632 304.886494 47.640604 309.604639 172.730908 314.322783 141.069052 319.040928 140.030958 323.759072 168.059483 328.477217 124.459552 333.195361 121.864316 337.913506 120.826221 342.631650 241.764152 347.349794 182.073758 352.067939 152.488085 356.786083 55.426307 361.504228 171.692818 366.222372 272.906965 370.940517 305.087873 375.658661 202.316586 380.376806 244.359386 385.094950 237.611777 389.813095 233.978444 394.531239 244.878433 399.249383 194.530883 403.967528 209.583245 408.685672 253.183185 413.403817 193.492788 418.121961 191.935648 422.840106 185.707083 427.558250 206.988009 432.276395 156.640461 436.994539 126.016693 441.712683 106.292910 446.430828 79.302471 451.148972 30.512057 455.867117 178.440430 460.585261 164.945210 465.303406 159.754744 470.021550 64.769165 474.739695 119.788122 479.457839 144.702380 484.175984 87.088174 488.894128 34.664435 493.612272 118.230992 498.330417 117.192897 503.048561 55.945363 507.766706 20.131120 512.484850 10.788279 517.202995 10.269231 521.921139 82.935795 526.639284 10.788277 531.357428 63.731064 536.075573 93.835780 540.793717 93.835781 545.511861 122.902409 550.230006 72.554859 554.948150 153.526173 559.666295 75.669143 564.384439 104.216717 569.102584 156.121409 573.820728 123.940507 578.538873 190.897555 583.257017 45.564417 587.975161 67.364391 592.693306 168.059491 597.411450 172.730917 602.129595 106.292910 606.847739 159.235691 611.565884 197.645168 616.284028 132.764297 621.002173 127.573836 625.720317 134.321444 630.438462 330.521173 630.438462 336.821446 625.720317 148.799267 621.002173 147.664991 616.284028 156.002853 611.565884 218.230691 606.847739 181.239960 602.129595 129.360928 597.411450 188.173605 592.693306 181.382073 587.975161 81.053251 583.257017 60.364529 578.538873 206.186684 573.820728 144.551422 569.102584 178.454280 564.384439 127.895581 559.666295 126.352229 554.948150 201.286527 550.230006 109.392197 545.511861 139.020838 540.793717 110.426709 536.075573 112.448964 531.357428 78.719902 526.639284 29.969248 521.921139 98.633935 517.202995 32.134830 512.484850 32.167613 507.766706 39.094667 503.048561 78.102174 498.330417 133.729120 493.612272 136.320322 488.894128 47.400699 484.175984 107.831912 479.457839 156.778856 474.739695 134.276715 470.021550 80.592552 465.303406 174.857402 460.585261 181.675917 455.867117 192.582268 451.148972 45.410689 446.430828 100.522942 441.712683 125.750886 436.994539 148.510006 432.276395 176.117190 427.558250 220.214813 422.840106 205.700398 418.121961 208.146266 413.403817 203.230168 408.685672 263.955112 403.967528 222.908092 399.249383 210.173542 394.531239 256.200208 389.813095 247.552342 385.094950 253.902936 380.376806 257.886337 375.658661 215.134140 370.940517 316.089487 366.222372 284.813603 361.504228 187.700729 356.786083 71.052107 352.067939 176.363783 347.349794 201.677645 342.631650 262.190015 337.913506 146.675679 333.195361 149.888309 328.477217 141.495377 323.759072 180.383991 319.040928 162.343957 314.322783 164.204741 309.604639 192.447899 304.886494 67.564748 300.168350 169.087655 295.450206 226.625774 290.732061 238.176311 286.013917 289.665365 281.295772 283.461390 276.577628 269.228472 271.859483 307.616068 267.141339 270.696368 262.423194 280.084485 257.705050 250.225784 252.986905 292.106782 248.268761 275.684835 243.550617 249.460182 238.832472 217.502760 234.114328 284.482751 229.396183 303.336328 224.678039 303.014687 219.959894 300.987447 215.241750 352.585639 210.523605 326.992740 205.805461 338.867316 201.087317 344.968034 196.369172 298.682581 191.651028 327.126231 186.932883 189.771369 182.214739 312.966696 177.496594 373.830342 172.778450 393.927210 168.060305 384.072808 163.342161 327.391401 158.624016 298.762809 153.905872 364.153331 149.187728 342.324803 144.469583 327.080981 139.751439 328.818022 135.033294 347.070963 130.315150 348.056828 125.597005 323.491311 120.878861 316.458065 116.160716 338.635912 111.442572 307.907800 106.724427 260.363915 102.006283 301.213383 97.288139 310.950847 92.569994 277.732365 87.851850 227.588205 83.133705 209.732157 78.415561 148.580309 73.697416 214.473422 68.979272 266.925898 64.261127 232.213503 59.542983 206.816520 54.824839 225.758982 50.106694 210.067951 45.388550 188.277582 40.670405 258.246277 35.952261 320.226357 31.234116 365.231026 26.515972 314.890982 21.797827 321.605242 17.079683 315.877887 12.361538 431.313447\"/></g></g><g class=\"titles\"><text class=\"title plot_title\" x=\"400.0\" y=\"26\">Topics</text></g><g class=\"plot overlay\" transform=\"translate(137, 46)\"><g class=\"series serie-0 color-0\"/><g class=\"series serie-1 color-1\"/><g class=\"series serie-2 color-2\"/><g class=\"series serie-3 color-3\"/><g class=\"series serie-4 color-4\"/><g class=\"series serie-5 color-5\"/><g class=\"series serie-6 color-6\"/><g class=\"series serie-7 color-7\"/><g class=\"series serie-8 color-8\"/><g class=\"series serie-9 color-9\"/><g class=\"series serie-10 color-10\"/><g class=\"series serie-11 color-11\"/><g class=\"series serie-12 color-12\"/><g class=\"series serie-13 color-13\"/><g class=\"series serie-14 color-14\"/><g class=\"series serie-15 color-15\"/><g class=\"series serie-16 color-16\"/></g><g class=\"plot text-overlay\" transform=\"translate(137, 46)\"><g class=\"series serie-0 color-0\"/><g class=\"series serie-1 color-1\"/><g class=\"series serie-2 color-2\"/><g class=\"series serie-3 color-3\"/><g class=\"series serie-4 color-4\"/><g class=\"series serie-5 color-5\"/><g class=\"series serie-6 color-6\"/><g class=\"series serie-7 color-7\"/><g class=\"series serie-8 color-8\"/><g class=\"series serie-9 color-9\"/><g class=\"series serie-10 color-10\"/><g class=\"series serie-11 color-11\"/><g class=\"series serie-12 color-12\"/><g class=\"series serie-13 color-13\"/><g class=\"series serie-14 color-14\"/><g class=\"series serie-15 color-15\"/><g class=\"series serie-16 color-16\"/></g><g class=\"plot tooltip-overlay\" transform=\"translate(137, 46)\"><g class=\"tooltip\" style=\"opacity: 0\" transform=\"translate(0 0)\"><rect class=\"tooltip-box\" height=\"0\" rx=\"0\" ry=\"0\" width=\"0\"/><g class=\"text\"/></g></g><g class=\"legends\" transform=\"translate(10, 56)\"><g class=\"legend reactive activate-serie\" id=\"activate-serie-0\"><rect class=\"color-0 reactive\" height=\"12\" width=\"12\" x=\"0.0\" y=\"1.0\"/><text x=\"17.0\" y=\"11.2\">topic_0</text></g><g class=\"legend reactive activate-serie\" id=\"activate-serie-1\"><rect class=\"color-1 reactive\" height=\"12\" width=\"12\" x=\"0.0\" y=\"22.0\"/><text x=\"17.0\" y=\"32.2\">topic_1</text></g><g class=\"legend reactive activate-serie\" id=\"activate-serie-2\"><rect class=\"color-2 reactive\" height=\"12\" width=\"12\" x=\"0.0\" y=\"43.0\"/><text x=\"17.0\" y=\"53.2\">topic_2</text></g><g class=\"legend reactive activate-serie\" id=\"activate-serie-3\"><rect class=\"color-3 reactive\" height=\"12\" width=\"12\" x=\"0.0\" y=\"64.0\"/><text x=\"17.0\" y=\"74.2\">topic_3</text></g><g class=\"legend reactive activate-serie\" id=\"activate-serie-4\"><rect class=\"color-4 reactive\" height=\"12\" width=\"12\" x=\"0.0\" y=\"85.0\"/><text x=\"17.0\" y=\"95.2\">topic_4</text></g><g class=\"legend reactive activate-serie\" id=\"activate-serie-5\"><rect class=\"color-5 reactive\" height=\"12\" width=\"12\" x=\"0.0\" y=\"106.0\"/><text x=\"17.0\" y=\"116.2\">topic_5</text></g><g class=\"legend reactive activate-serie\" id=\"activate-serie-6\"><rect class=\"color-6 reactive\" height=\"12\" width=\"12\" x=\"0.0\" y=\"127.0\"/><text x=\"17.0\" y=\"137.2\">topic_6</text></g><g class=\"legend reactive activate-serie\" id=\"activate-serie-7\"><rect class=\"color-7 reactive\" height=\"12\" width=\"12\" x=\"0.0\" y=\"148.0\"/><text x=\"17.0\" y=\"158.2\">topic_7</text></g><g class=\"legend reactive activate-serie\" id=\"activate-serie-8\"><rect class=\"color-8 reactive\" height=\"12\" width=\"12\" x=\"0.0\" y=\"169.0\"/><text x=\"17.0\" y=\"179.2\">topic_8</text></g><g class=\"legend reactive activate-serie\" id=\"activate-serie-9\"><rect class=\"color-9 reactive\" height=\"12\" width=\"12\" x=\"0.0\" y=\"190.0\"/><text x=\"17.0\" y=\"200.2\">topic_9</text></g><g class=\"legend reactive activate-serie\" id=\"activate-serie-10\"><rect class=\"color-10 reactive\" height=\"12\" width=\"12\" x=\"0.0\" y=\"211.0\"/><text x=\"17.0\" y=\"221.2\">topic_10</text></g><g class=\"legend reactive activate-serie\" id=\"activate-serie-11\"><rect class=\"color-11 reactive\" height=\"12\" width=\"12\" x=\"0.0\" y=\"232.0\"/><text x=\"17.0\" y=\"242.2\">topic_11</text></g><g class=\"legend reactive activate-serie\" id=\"activate-serie-12\"><rect class=\"color-12 reactive\" height=\"12\" width=\"12\" x=\"0.0\" y=\"253.0\"/><text x=\"17.0\" y=\"263.2\">topic_12</text></g><g class=\"legend reactive activate-serie\" id=\"activate-serie-13\"><rect class=\"color-13 reactive\" height=\"12\" width=\"12\" x=\"0.0\" y=\"274.0\"/><text x=\"17.0\" y=\"284.2\">topic_13</text></g><g class=\"legend reactive activate-serie\" id=\"activate-serie-14\"><rect class=\"color-14 reactive\" height=\"12\" width=\"12\" x=\"0.0\" y=\"295.0\"/><text x=\"17.0\" y=\"305.2\">topic_14</text></g><g class=\"legend reactive activate-serie\" id=\"activate-serie-15\"><rect class=\"color-15 reactive\" height=\"12\" width=\"12\" x=\"0.0\" y=\"316.0\"/><text x=\"17.0\" y=\"326.2\">topic_15</text></g><g class=\"legend reactive activate-serie\" id=\"activate-serie-16\"><rect class=\"color-16 reactive\" height=\"12\" width=\"12\" x=\"0.0\" y=\"337.0\"/><text x=\"17.0\" y=\"347.2\">topic_16</text></g></g><g class=\"legends\" transform=\"translate(790, 56)\"/></g></svg>\n",
       "    </figure>\n",
       "  </body>\n",
       "</html>\n"
      ],
      "text/plain": [
       "<IPython.core.display.HTML object>"
      ]
     },
     "execution_count": 32,
     "metadata": {},
     "output_type": "execute_result"
    }
   ],
   "source": [
    "line_chart = pygal.StackedLine(fill=True, show_dots=False)\n",
    "line_chart.title = 'Topics'\n",
    "for topic in topics:\n",
    "    line_chart.add(topic, gb[topic].values)\n",
    "    \n",
    "HTML(html_pygal.format(pygal_render=line_chart.render(is_unicode=True)))"
   ]
  },
  {
   "cell_type": "code",
   "execution_count": 33,
   "metadata": {
    "ExecuteTime": {
     "end_time": "2019-02-13T23:02:40.412665Z",
     "start_time": "2019-02-13T23:02:40.359677Z"
    }
   },
   "outputs": [],
   "source": [
    "line_chart.render_to_file(f\"data/visualization/{'-'.join(name_dataset.split('.'))}_pygal.svg\")"
   ]
  },
  {
   "cell_type": "markdown",
   "metadata": {},
   "source": [
    "## joypy"
   ]
  },
  {
   "cell_type": "code",
   "execution_count": 34,
   "metadata": {
    "ExecuteTime": {
     "end_time": "2019-02-13T23:02:40.418524Z",
     "start_time": "2019-02-13T23:02:40.415704Z"
    }
   },
   "outputs": [],
   "source": [
    "import joypy # !pip install joypy"
   ]
  },
  {
   "cell_type": "code",
   "execution_count": 35,
   "metadata": {
    "ExecuteTime": {
     "end_time": "2019-02-13T23:02:40.438192Z",
     "start_time": "2019-02-13T23:02:40.421363Z"
    },
    "scrolled": true
   },
   "outputs": [
    {
     "name": "stdout",
     "output_type": "stream",
     "text": [
      "(82154, 20)\n"
     ]
    },
    {
     "data": {
      "text/html": [
       "<div>\n",
       "<style scoped>\n",
       "    .dataframe tbody tr th:only-of-type {\n",
       "        vertical-align: middle;\n",
       "    }\n",
       "\n",
       "    .dataframe tbody tr th {\n",
       "        vertical-align: top;\n",
       "    }\n",
       "\n",
       "    .dataframe thead th {\n",
       "        text-align: right;\n",
       "    }\n",
       "</style>\n",
       "<table border=\"1\" class=\"dataframe\">\n",
       "  <thead>\n",
       "    <tr style=\"text-align: right;\">\n",
       "      <th></th>\n",
       "      <th>docID</th>\n",
       "      <th>year</th>\n",
       "      <th>month</th>\n",
       "      <th>topic_0</th>\n",
       "      <th>topic_1</th>\n",
       "      <th>topic_2</th>\n",
       "      <th>topic_3</th>\n",
       "      <th>topic_4</th>\n",
       "      <th>topic_5</th>\n",
       "      <th>topic_6</th>\n",
       "      <th>topic_7</th>\n",
       "      <th>topic_8</th>\n",
       "      <th>topic_9</th>\n",
       "      <th>topic_10</th>\n",
       "      <th>topic_11</th>\n",
       "      <th>topic_12</th>\n",
       "      <th>topic_13</th>\n",
       "      <th>topic_14</th>\n",
       "      <th>topic_15</th>\n",
       "      <th>topic_16</th>\n",
       "    </tr>\n",
       "  </thead>\n",
       "  <tbody>\n",
       "    <tr>\n",
       "      <th>0</th>\n",
       "      <td>0</td>\n",
       "      <td>2008</td>\n",
       "      <td>2</td>\n",
       "      <td>0.000000</td>\n",
       "      <td>0.929687</td>\n",
       "      <td>0.0</td>\n",
       "      <td>0.000000</td>\n",
       "      <td>0.000000</td>\n",
       "      <td>0.0</td>\n",
       "      <td>0.000000</td>\n",
       "      <td>0.000000</td>\n",
       "      <td>0.000000</td>\n",
       "      <td>0.0</td>\n",
       "      <td>0.000000</td>\n",
       "      <td>0.028721</td>\n",
       "      <td>0.0</td>\n",
       "      <td>0.000000</td>\n",
       "      <td>0.0</td>\n",
       "      <td>0.000000</td>\n",
       "      <td>0.041592</td>\n",
       "    </tr>\n",
       "    <tr>\n",
       "      <th>1</th>\n",
       "      <td>1</td>\n",
       "      <td>2008</td>\n",
       "      <td>2</td>\n",
       "      <td>0.000000</td>\n",
       "      <td>0.000000</td>\n",
       "      <td>0.0</td>\n",
       "      <td>0.000000</td>\n",
       "      <td>0.000000</td>\n",
       "      <td>0.0</td>\n",
       "      <td>0.433215</td>\n",
       "      <td>0.000000</td>\n",
       "      <td>0.000000</td>\n",
       "      <td>0.0</td>\n",
       "      <td>0.419578</td>\n",
       "      <td>0.093674</td>\n",
       "      <td>0.0</td>\n",
       "      <td>0.000000</td>\n",
       "      <td>0.0</td>\n",
       "      <td>0.025685</td>\n",
       "      <td>0.027848</td>\n",
       "    </tr>\n",
       "    <tr>\n",
       "      <th>2</th>\n",
       "      <td>2</td>\n",
       "      <td>2008</td>\n",
       "      <td>2</td>\n",
       "      <td>0.000000</td>\n",
       "      <td>0.740797</td>\n",
       "      <td>0.0</td>\n",
       "      <td>0.000000</td>\n",
       "      <td>0.108779</td>\n",
       "      <td>0.0</td>\n",
       "      <td>0.141671</td>\n",
       "      <td>0.000000</td>\n",
       "      <td>0.000000</td>\n",
       "      <td>0.0</td>\n",
       "      <td>0.003504</td>\n",
       "      <td>0.000000</td>\n",
       "      <td>0.0</td>\n",
       "      <td>0.005249</td>\n",
       "      <td>0.0</td>\n",
       "      <td>0.000000</td>\n",
       "      <td>0.000000</td>\n",
       "    </tr>\n",
       "    <tr>\n",
       "      <th>3</th>\n",
       "      <td>3</td>\n",
       "      <td>2008</td>\n",
       "      <td>2</td>\n",
       "      <td>0.082513</td>\n",
       "      <td>0.023565</td>\n",
       "      <td>0.0</td>\n",
       "      <td>0.024114</td>\n",
       "      <td>0.000000</td>\n",
       "      <td>0.0</td>\n",
       "      <td>0.147516</td>\n",
       "      <td>0.093379</td>\n",
       "      <td>0.012368</td>\n",
       "      <td>0.0</td>\n",
       "      <td>0.099413</td>\n",
       "      <td>0.070451</td>\n",
       "      <td>0.0</td>\n",
       "      <td>0.191987</td>\n",
       "      <td>0.0</td>\n",
       "      <td>0.180863</td>\n",
       "      <td>0.073831</td>\n",
       "    </tr>\n",
       "    <tr>\n",
       "      <th>4</th>\n",
       "      <td>4</td>\n",
       "      <td>2008</td>\n",
       "      <td>2</td>\n",
       "      <td>0.000000</td>\n",
       "      <td>0.092053</td>\n",
       "      <td>0.0</td>\n",
       "      <td>0.000000</td>\n",
       "      <td>0.000000</td>\n",
       "      <td>0.0</td>\n",
       "      <td>0.288410</td>\n",
       "      <td>0.000000</td>\n",
       "      <td>0.106914</td>\n",
       "      <td>0.0</td>\n",
       "      <td>0.000000</td>\n",
       "      <td>0.000000</td>\n",
       "      <td>0.0</td>\n",
       "      <td>0.463214</td>\n",
       "      <td>0.0</td>\n",
       "      <td>0.000000</td>\n",
       "      <td>0.049409</td>\n",
       "    </tr>\n",
       "  </tbody>\n",
       "</table>\n",
       "</div>"
      ],
      "text/plain": [
       "   docID  year  month   topic_0   topic_1  topic_2   topic_3   topic_4  \\\n",
       "0      0  2008      2  0.000000  0.929687      0.0  0.000000  0.000000   \n",
       "1      1  2008      2  0.000000  0.000000      0.0  0.000000  0.000000   \n",
       "2      2  2008      2  0.000000  0.740797      0.0  0.000000  0.108779   \n",
       "3      3  2008      2  0.082513  0.023565      0.0  0.024114  0.000000   \n",
       "4      4  2008      2  0.000000  0.092053      0.0  0.000000  0.000000   \n",
       "\n",
       "   topic_5   topic_6   topic_7   topic_8  topic_9  topic_10  topic_11  \\\n",
       "0      0.0  0.000000  0.000000  0.000000      0.0  0.000000  0.028721   \n",
       "1      0.0  0.433215  0.000000  0.000000      0.0  0.419578  0.093674   \n",
       "2      0.0  0.141671  0.000000  0.000000      0.0  0.003504  0.000000   \n",
       "3      0.0  0.147516  0.093379  0.012368      0.0  0.099413  0.070451   \n",
       "4      0.0  0.288410  0.000000  0.106914      0.0  0.000000  0.000000   \n",
       "\n",
       "   topic_12  topic_13  topic_14  topic_15  topic_16  \n",
       "0       0.0  0.000000       0.0  0.000000  0.041592  \n",
       "1       0.0  0.000000       0.0  0.025685  0.027848  \n",
       "2       0.0  0.005249       0.0  0.000000  0.000000  \n",
       "3       0.0  0.191987       0.0  0.180863  0.073831  \n",
       "4       0.0  0.463214       0.0  0.000000  0.049409  "
      ]
     },
     "execution_count": 35,
     "metadata": {},
     "output_type": "execute_result"
    }
   ],
   "source": [
    "print(joined.shape)\n",
    "joined.head()"
   ]
  },
  {
   "cell_type": "code",
   "execution_count": 36,
   "metadata": {
    "ExecuteTime": {
     "end_time": "2019-02-13T23:02:40.608278Z",
     "start_time": "2019-02-13T23:02:40.439560Z"
    }
   },
   "outputs": [
    {
     "data": {
      "text/html": [
       "<div>\n",
       "<style scoped>\n",
       "    .dataframe tbody tr th:only-of-type {\n",
       "        vertical-align: middle;\n",
       "    }\n",
       "\n",
       "    .dataframe tbody tr th {\n",
       "        vertical-align: top;\n",
       "    }\n",
       "\n",
       "    .dataframe thead th {\n",
       "        text-align: right;\n",
       "    }\n",
       "</style>\n",
       "<table border=\"1\" class=\"dataframe\">\n",
       "  <thead>\n",
       "    <tr style=\"text-align: right;\">\n",
       "      <th></th>\n",
       "      <th>docID</th>\n",
       "      <th>year</th>\n",
       "      <th>month</th>\n",
       "      <th>topic_0</th>\n",
       "      <th>topic_1</th>\n",
       "      <th>topic_2</th>\n",
       "      <th>topic_3</th>\n",
       "      <th>topic_4</th>\n",
       "      <th>topic_5</th>\n",
       "      <th>topic_6</th>\n",
       "      <th>...</th>\n",
       "      <th>topic_8</th>\n",
       "      <th>topic_9</th>\n",
       "      <th>topic_10</th>\n",
       "      <th>topic_11</th>\n",
       "      <th>topic_12</th>\n",
       "      <th>topic_13</th>\n",
       "      <th>topic_14</th>\n",
       "      <th>topic_15</th>\n",
       "      <th>topic_16</th>\n",
       "      <th>date</th>\n",
       "    </tr>\n",
       "  </thead>\n",
       "  <tbody>\n",
       "    <tr>\n",
       "      <th>0</th>\n",
       "      <td>0</td>\n",
       "      <td>2008</td>\n",
       "      <td>2</td>\n",
       "      <td>0.000000</td>\n",
       "      <td>0.929687</td>\n",
       "      <td>0.0</td>\n",
       "      <td>0.000000</td>\n",
       "      <td>0.000000</td>\n",
       "      <td>0.0</td>\n",
       "      <td>0.000000</td>\n",
       "      <td>...</td>\n",
       "      <td>0.000000</td>\n",
       "      <td>0.0</td>\n",
       "      <td>0.000000</td>\n",
       "      <td>0.028721</td>\n",
       "      <td>0.0</td>\n",
       "      <td>0.000000</td>\n",
       "      <td>0.0</td>\n",
       "      <td>0.000000</td>\n",
       "      <td>0.041592</td>\n",
       "      <td>2008-02-01</td>\n",
       "    </tr>\n",
       "    <tr>\n",
       "      <th>1</th>\n",
       "      <td>1</td>\n",
       "      <td>2008</td>\n",
       "      <td>2</td>\n",
       "      <td>0.000000</td>\n",
       "      <td>0.000000</td>\n",
       "      <td>0.0</td>\n",
       "      <td>0.000000</td>\n",
       "      <td>0.000000</td>\n",
       "      <td>0.0</td>\n",
       "      <td>0.433215</td>\n",
       "      <td>...</td>\n",
       "      <td>0.000000</td>\n",
       "      <td>0.0</td>\n",
       "      <td>0.419578</td>\n",
       "      <td>0.093674</td>\n",
       "      <td>0.0</td>\n",
       "      <td>0.000000</td>\n",
       "      <td>0.0</td>\n",
       "      <td>0.025685</td>\n",
       "      <td>0.027848</td>\n",
       "      <td>2008-02-01</td>\n",
       "    </tr>\n",
       "    <tr>\n",
       "      <th>2</th>\n",
       "      <td>2</td>\n",
       "      <td>2008</td>\n",
       "      <td>2</td>\n",
       "      <td>0.000000</td>\n",
       "      <td>0.740797</td>\n",
       "      <td>0.0</td>\n",
       "      <td>0.000000</td>\n",
       "      <td>0.108779</td>\n",
       "      <td>0.0</td>\n",
       "      <td>0.141671</td>\n",
       "      <td>...</td>\n",
       "      <td>0.000000</td>\n",
       "      <td>0.0</td>\n",
       "      <td>0.003504</td>\n",
       "      <td>0.000000</td>\n",
       "      <td>0.0</td>\n",
       "      <td>0.005249</td>\n",
       "      <td>0.0</td>\n",
       "      <td>0.000000</td>\n",
       "      <td>0.000000</td>\n",
       "      <td>2008-02-01</td>\n",
       "    </tr>\n",
       "    <tr>\n",
       "      <th>3</th>\n",
       "      <td>3</td>\n",
       "      <td>2008</td>\n",
       "      <td>2</td>\n",
       "      <td>0.082513</td>\n",
       "      <td>0.023565</td>\n",
       "      <td>0.0</td>\n",
       "      <td>0.024114</td>\n",
       "      <td>0.000000</td>\n",
       "      <td>0.0</td>\n",
       "      <td>0.147516</td>\n",
       "      <td>...</td>\n",
       "      <td>0.012368</td>\n",
       "      <td>0.0</td>\n",
       "      <td>0.099413</td>\n",
       "      <td>0.070451</td>\n",
       "      <td>0.0</td>\n",
       "      <td>0.191987</td>\n",
       "      <td>0.0</td>\n",
       "      <td>0.180863</td>\n",
       "      <td>0.073831</td>\n",
       "      <td>2008-02-01</td>\n",
       "    </tr>\n",
       "    <tr>\n",
       "      <th>4</th>\n",
       "      <td>4</td>\n",
       "      <td>2008</td>\n",
       "      <td>2</td>\n",
       "      <td>0.000000</td>\n",
       "      <td>0.092053</td>\n",
       "      <td>0.0</td>\n",
       "      <td>0.000000</td>\n",
       "      <td>0.000000</td>\n",
       "      <td>0.0</td>\n",
       "      <td>0.288410</td>\n",
       "      <td>...</td>\n",
       "      <td>0.106914</td>\n",
       "      <td>0.0</td>\n",
       "      <td>0.000000</td>\n",
       "      <td>0.000000</td>\n",
       "      <td>0.0</td>\n",
       "      <td>0.463214</td>\n",
       "      <td>0.0</td>\n",
       "      <td>0.000000</td>\n",
       "      <td>0.049409</td>\n",
       "      <td>2008-02-01</td>\n",
       "    </tr>\n",
       "  </tbody>\n",
       "</table>\n",
       "<p>5 rows × 21 columns</p>\n",
       "</div>"
      ],
      "text/plain": [
       "   docID  year  month   topic_0   topic_1  topic_2   topic_3   topic_4  \\\n",
       "0      0  2008      2  0.000000  0.929687      0.0  0.000000  0.000000   \n",
       "1      1  2008      2  0.000000  0.000000      0.0  0.000000  0.000000   \n",
       "2      2  2008      2  0.000000  0.740797      0.0  0.000000  0.108779   \n",
       "3      3  2008      2  0.082513  0.023565      0.0  0.024114  0.000000   \n",
       "4      4  2008      2  0.000000  0.092053      0.0  0.000000  0.000000   \n",
       "\n",
       "   topic_5   topic_6     ...       topic_8  topic_9  topic_10  topic_11  \\\n",
       "0      0.0  0.000000     ...      0.000000      0.0  0.000000  0.028721   \n",
       "1      0.0  0.433215     ...      0.000000      0.0  0.419578  0.093674   \n",
       "2      0.0  0.141671     ...      0.000000      0.0  0.003504  0.000000   \n",
       "3      0.0  0.147516     ...      0.012368      0.0  0.099413  0.070451   \n",
       "4      0.0  0.288410     ...      0.106914      0.0  0.000000  0.000000   \n",
       "\n",
       "   topic_12  topic_13  topic_14  topic_15  topic_16        date  \n",
       "0       0.0  0.000000       0.0  0.000000  0.041592  2008-02-01  \n",
       "1       0.0  0.000000       0.0  0.025685  0.027848  2008-02-01  \n",
       "2       0.0  0.005249       0.0  0.000000  0.000000  2008-02-01  \n",
       "3       0.0  0.191987       0.0  0.180863  0.073831  2008-02-01  \n",
       "4       0.0  0.463214       0.0  0.000000  0.049409  2008-02-01  \n",
       "\n",
       "[5 rows x 21 columns]"
      ]
     },
     "execution_count": 36,
     "metadata": {},
     "output_type": "execute_result"
    }
   ],
   "source": [
    "joined['date'] = ['{}-{:02d}-01'.format(a, b) for a, b in joined[['year', 'month']].values]\n",
    "cols = [c for c in joined.columns if c.startswith('topic')]\n",
    "\n",
    "joined.head()"
   ]
  },
  {
   "cell_type": "code",
   "execution_count": 37,
   "metadata": {
    "ExecuteTime": {
     "end_time": "2019-02-13T23:02:40.681415Z",
     "start_time": "2019-02-13T23:02:40.609709Z"
    }
   },
   "outputs": [
    {
     "data": {
      "text/html": [
       "<div>\n",
       "<style scoped>\n",
       "    .dataframe tbody tr th:only-of-type {\n",
       "        vertical-align: middle;\n",
       "    }\n",
       "\n",
       "    .dataframe tbody tr th {\n",
       "        vertical-align: top;\n",
       "    }\n",
       "\n",
       "    .dataframe thead th {\n",
       "        text-align: right;\n",
       "    }\n",
       "</style>\n",
       "<table border=\"1\" class=\"dataframe\">\n",
       "  <thead>\n",
       "    <tr style=\"text-align: right;\">\n",
       "      <th></th>\n",
       "      <th>date</th>\n",
       "      <th>topic</th>\n",
       "      <th>mentions</th>\n",
       "    </tr>\n",
       "  </thead>\n",
       "  <tbody>\n",
       "    <tr>\n",
       "      <th>3</th>\n",
       "      <td>2008-02-01</td>\n",
       "      <td>topic_0</td>\n",
       "      <td>0.082513</td>\n",
       "    </tr>\n",
       "    <tr>\n",
       "      <th>5</th>\n",
       "      <td>2008-02-01</td>\n",
       "      <td>topic_0</td>\n",
       "      <td>0.043220</td>\n",
       "    </tr>\n",
       "    <tr>\n",
       "      <th>7</th>\n",
       "      <td>2008-02-01</td>\n",
       "      <td>topic_0</td>\n",
       "      <td>0.150302</td>\n",
       "    </tr>\n",
       "    <tr>\n",
       "      <th>18</th>\n",
       "      <td>2008-02-01</td>\n",
       "      <td>topic_0</td>\n",
       "      <td>0.029558</td>\n",
       "    </tr>\n",
       "    <tr>\n",
       "      <th>22</th>\n",
       "      <td>2008-02-01</td>\n",
       "      <td>topic_0</td>\n",
       "      <td>0.188537</td>\n",
       "    </tr>\n",
       "  </tbody>\n",
       "</table>\n",
       "</div>"
      ],
      "text/plain": [
       "          date    topic  mentions\n",
       "3   2008-02-01  topic_0  0.082513\n",
       "5   2008-02-01  topic_0  0.043220\n",
       "7   2008-02-01  topic_0  0.150302\n",
       "18  2008-02-01  topic_0  0.029558\n",
       "22  2008-02-01  topic_0  0.188537"
      ]
     },
     "execution_count": 37,
     "metadata": {},
     "output_type": "execute_result"
    }
   ],
   "source": [
    "dd = joined[cols + ['date']].melt('date', var_name='topic', value_name='mentions')\n",
    "dd = dd[dd['mentions'] > 0]\n",
    "\n",
    "dd.head()"
   ]
  },
  {
   "cell_type": "code",
   "execution_count": 38,
   "metadata": {
    "ExecuteTime": {
     "end_time": "2019-02-13T23:02:40.728675Z",
     "start_time": "2019-02-13T23:02:40.682775Z"
    }
   },
   "outputs": [
    {
     "data": {
      "text/html": [
       "<div>\n",
       "<style scoped>\n",
       "    .dataframe tbody tr th:only-of-type {\n",
       "        vertical-align: middle;\n",
       "    }\n",
       "\n",
       "    .dataframe tbody tr th {\n",
       "        vertical-align: top;\n",
       "    }\n",
       "\n",
       "    .dataframe thead th {\n",
       "        text-align: right;\n",
       "    }\n",
       "</style>\n",
       "<table border=\"1\" class=\"dataframe\">\n",
       "  <thead>\n",
       "    <tr style=\"text-align: right;\">\n",
       "      <th></th>\n",
       "      <th></th>\n",
       "      <th>mentions</th>\n",
       "    </tr>\n",
       "    <tr>\n",
       "      <th>date</th>\n",
       "      <th>topic</th>\n",
       "      <th></th>\n",
       "    </tr>\n",
       "  </thead>\n",
       "  <tbody>\n",
       "    <tr>\n",
       "      <th rowspan=\"5\" valign=\"top\">2008-02-01</th>\n",
       "      <th>topic_0</th>\n",
       "      <td>6.760820</td>\n",
       "    </tr>\n",
       "    <tr>\n",
       "      <th>topic_1</th>\n",
       "      <td>16.988564</td>\n",
       "    </tr>\n",
       "    <tr>\n",
       "      <th>topic_10</th>\n",
       "      <td>10.154317</td>\n",
       "    </tr>\n",
       "    <tr>\n",
       "      <th>topic_11</th>\n",
       "      <td>10.602359</td>\n",
       "    </tr>\n",
       "    <tr>\n",
       "      <th>topic_12</th>\n",
       "      <td>7.848490</td>\n",
       "    </tr>\n",
       "  </tbody>\n",
       "</table>\n",
       "</div>"
      ],
      "text/plain": [
       "                      mentions\n",
       "date       topic              \n",
       "2008-02-01 topic_0    6.760820\n",
       "           topic_1   16.988564\n",
       "           topic_10  10.154317\n",
       "           topic_11  10.602359\n",
       "           topic_12   7.848490"
      ]
     },
     "execution_count": 38,
     "metadata": {},
     "output_type": "execute_result"
    }
   ],
   "source": [
    "dd2 = dd.groupby(['date','topic']).sum()\n",
    "dd2.head()"
   ]
  },
  {
   "cell_type": "code",
   "execution_count": 39,
   "metadata": {
    "ExecuteTime": {
     "end_time": "2019-02-13T23:02:40.737278Z",
     "start_time": "2019-02-13T23:02:40.730059Z"
    }
   },
   "outputs": [
    {
     "data": {
      "text/html": [
       "<div>\n",
       "<style scoped>\n",
       "    .dataframe tbody tr th:only-of-type {\n",
       "        vertical-align: middle;\n",
       "    }\n",
       "\n",
       "    .dataframe tbody tr th {\n",
       "        vertical-align: top;\n",
       "    }\n",
       "\n",
       "    .dataframe thead th {\n",
       "        text-align: right;\n",
       "    }\n",
       "</style>\n",
       "<table border=\"1\" class=\"dataframe\">\n",
       "  <thead>\n",
       "    <tr style=\"text-align: right;\">\n",
       "      <th></th>\n",
       "      <th>date</th>\n",
       "      <th>topic</th>\n",
       "      <th>mentions</th>\n",
       "    </tr>\n",
       "  </thead>\n",
       "  <tbody>\n",
       "    <tr>\n",
       "      <th>0</th>\n",
       "      <td>2008-02-01</td>\n",
       "      <td>topic_0</td>\n",
       "      <td>6.760820</td>\n",
       "    </tr>\n",
       "    <tr>\n",
       "      <th>1</th>\n",
       "      <td>2008-02-01</td>\n",
       "      <td>topic_1</td>\n",
       "      <td>16.988564</td>\n",
       "    </tr>\n",
       "    <tr>\n",
       "      <th>2</th>\n",
       "      <td>2008-02-01</td>\n",
       "      <td>topic_10</td>\n",
       "      <td>10.154317</td>\n",
       "    </tr>\n",
       "    <tr>\n",
       "      <th>3</th>\n",
       "      <td>2008-02-01</td>\n",
       "      <td>topic_11</td>\n",
       "      <td>10.602359</td>\n",
       "    </tr>\n",
       "    <tr>\n",
       "      <th>4</th>\n",
       "      <td>2008-02-01</td>\n",
       "      <td>topic_12</td>\n",
       "      <td>7.848490</td>\n",
       "    </tr>\n",
       "  </tbody>\n",
       "</table>\n",
       "</div>"
      ],
      "text/plain": [
       "         date     topic   mentions\n",
       "0  2008-02-01   topic_0   6.760820\n",
       "1  2008-02-01   topic_1  16.988564\n",
       "2  2008-02-01  topic_10  10.154317\n",
       "3  2008-02-01  topic_11  10.602359\n",
       "4  2008-02-01  topic_12   7.848490"
      ]
     },
     "execution_count": 39,
     "metadata": {},
     "output_type": "execute_result"
    }
   ],
   "source": [
    "dd2=dd2.reset_index()\n",
    "dd2.head()"
   ]
  },
  {
   "cell_type": "code",
   "execution_count": 40,
   "metadata": {
    "ExecuteTime": {
     "end_time": "2019-02-13T23:02:42.244062Z",
     "start_time": "2019-02-13T23:02:40.738601Z"
    }
   },
   "outputs": [
    {
     "data": {
      "image/png": "[encoded data removed]",
      "text/plain": [
       "<Figure size 1440x1440 with 18 Axes>"
      ]
     },
     "metadata": {
      "needs_background": "light"
     },
     "output_type": "display_data"
    }
   ],
   "source": [
    "labels = sorted(joined['date'].unique())\n",
    "fig, axes = joypy.joyplot(dd2, by='topic', column='mentions', figsize=(20, 20),\n",
    "                          xlabelsize=20,ylabelsize=20,\n",
    "                          overlap=0.4, fill=True,\n",
    "                          linecolor=\"k\",linewidth=3,\n",
    "                          kind='values', fade=True, xrot=90,\n",
    "                          x_range=[i for i in range(len(labels))],\n",
    "                          background='white');\n",
    "\n",
    "ticks_labels = {i:t for i, t in enumerate(labels)}\n",
    "axes[-1].set_xticks([k for k, v in ticks_labels.items() if k % 6 == 0])\n",
    "ticks = axes[-1].get_xticks()\n",
    "axes[-1].set_xticklabels([ticks_labels.get(i, 'stop') for i in ticks]);"
   ]
  },
  {
   "cell_type": "code",
   "execution_count": 41,
   "metadata": {
    "ExecuteTime": {
     "end_time": "2019-02-13T23:02:42.546803Z",
     "start_time": "2019-02-13T23:02:42.245518Z"
    }
   },
   "outputs": [],
   "source": [
    "fig.savefig(f\"data/visualization/{'-'.join(name_dataset.split('.'))}_joypy\")"
   ]
  },
  {
   "cell_type": "code",
   "execution_count": null,
   "metadata": {},
   "outputs": [],
   "source": []
  },
  {
   "cell_type": "code",
   "execution_count": null,
   "metadata": {},
   "outputs": [],
   "source": []
  }
 ],
 "metadata": {
  "kernelspec": {
   "display_name": "Python 3",
   "language": "python",
   "name": "python3"
  },
  "language_info": {
   "codemirror_mode": {
    "name": "ipython",
    "version": 3
   },
   "file_extension": ".py",
   "mimetype": "text/x-python",
   "name": "python",
   "nbconvert_exporter": "python",
   "pygments_lexer": "ipython3",
   "version": "3.6.7"
  },
  "varInspector": {
   "cols": {
    "lenName": 16,
    "lenType": 16,
    "lenVar": 40
   },
   "kernels_config": {
    "python": {
     "delete_cmd_postfix": "",
     "delete_cmd_prefix": "del ",
     "library": "var_list.py",
     "varRefreshCmd": "print(var_dic_list())"
    },
    "r": {
     "delete_cmd_postfix": ") ",
     "delete_cmd_prefix": "rm(",
     "library": "var_list.r",
     "varRefreshCmd": "cat(var_dic_list()) "
    }
   },
   "types_to_exclude": [
    "module",
    "function",
    "builtin_function_or_method",
    "instance",
    "_Feature"
   ],
   "window_display": false
  }
 },
 "nbformat": 4,
 "nbformat_minor": 2
}
