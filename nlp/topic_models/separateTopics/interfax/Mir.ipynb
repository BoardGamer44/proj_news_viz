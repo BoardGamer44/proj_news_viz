{
 "cells": [
  {
   "cell_type": "code",
   "execution_count": 18,
   "metadata": {
    "ExecuteTime": {
     "end_time": "2019-02-12T23:27:12.622428Z",
     "start_time": "2019-02-12T23:27:12.615436Z"
    },
    "scrolled": true
   },
   "outputs": [],
   "source": [
    "import numpy as np\n",
    "import pandas as pd\n",
    "import os\n",
    "\n",
    "import re\n",
    "from ast import literal_eval\n",
    "from datetime import datetime as time\n",
    "from ast import literal_eval\n",
    "from sklearn.model_selection import train_test_split\n",
    "\n",
    "import artm\n",
    "from gensim.models import Phrases\n",
    "from gensim.models.phrases import Phraser\n",
    "\n",
    "import gc\n",
    "import matplotlib.pyplot as plt\n",
    "%matplotlib inline"
   ]
  },
  {
   "cell_type": "code",
   "execution_count": 19,
   "metadata": {
    "ExecuteTime": {
     "end_time": "2019-02-12T23:27:12.809790Z",
     "start_time": "2019-02-12T23:27:12.624154Z"
    },
    "scrolled": true
   },
   "outputs": [
    {
     "name": "stdout",
     "output_type": "stream",
     "text": [
      "-rw-rw-r-- 1 vtrokhymenko vtrokhymenko 8.7M Feb 12 11:01 data/Byvsij_SSSR.csv.bz2\r\n",
      "-rw-rw-r-- 1 vtrokhymenko vtrokhymenko  21M Feb 12 10:59 data/Ekonomika.csv.bz2\r\n",
      "-rw-rw-r-- 1 vtrokhymenko vtrokhymenko  14M Feb 12 10:59 data/Mir.csv.bz2\r\n"
     ]
    }
   ],
   "source": [
    "!ls -lah data/*.csv.bz2"
   ]
  },
  {
   "cell_type": "code",
   "execution_count": 20,
   "metadata": {
    "ExecuteTime": {
     "end_time": "2019-02-12T23:27:12.813622Z",
     "start_time": "2019-02-12T23:27:12.811718Z"
    }
   },
   "outputs": [],
   "source": [
    "name_dataset = 'Mir'"
   ]
  },
  {
   "cell_type": "markdown",
   "metadata": {},
   "source": [
    "### load data"
   ]
  },
  {
   "cell_type": "code",
   "execution_count": 21,
   "metadata": {
    "ExecuteTime": {
     "end_time": "2019-02-12T23:27:18.248380Z",
     "start_time": "2019-02-12T23:27:12.815319Z"
    }
   },
   "outputs": [
    {
     "name": "stdout",
     "output_type": "stream",
     "text": [
      "(83321, 4)\n",
      "CPU times: user 5.34 s, sys: 83.6 ms, total: 5.43 s\n",
      "Wall time: 5.43 s\n"
     ]
    }
   ],
   "source": [
    "%%time\n",
    "df = pd.read_csv(f'data/{name_dataset}.csv.bz2')\n",
    "print(df.shape)"
   ]
  },
  {
   "cell_type": "code",
   "execution_count": 22,
   "metadata": {
    "ExecuteTime": {
     "end_time": "2019-02-12T23:27:18.256501Z",
     "start_time": "2019-02-12T23:27:18.249468Z"
    }
   },
   "outputs": [
    {
     "data": {
      "text/html": [
       "<div>\n",
       "<style scoped>\n",
       "    .dataframe tbody tr th:only-of-type {\n",
       "        vertical-align: middle;\n",
       "    }\n",
       "\n",
       "    .dataframe tbody tr th {\n",
       "        vertical-align: top;\n",
       "    }\n",
       "\n",
       "    .dataframe thead th {\n",
       "        text-align: right;\n",
       "    }\n",
       "</style>\n",
       "<table border=\"1\" class=\"dataframe\">\n",
       "  <thead>\n",
       "    <tr style=\"text-align: right;\">\n",
       "      <th></th>\n",
       "      <th>date</th>\n",
       "      <th>topic</th>\n",
       "      <th>text</th>\n",
       "      <th>predict</th>\n",
       "    </tr>\n",
       "  </thead>\n",
       "  <tbody>\n",
       "    <tr>\n",
       "      <th>0</th>\n",
       "      <td>2008-02-11 10:51:00</td>\n",
       "      <td>\"В России\"</td>\n",
       "      <td>['добиваться', 'выдвижение', 'кандидат', 'сша'...</td>\n",
       "      <td>Мир</td>\n",
       "    </tr>\n",
       "    <tr>\n",
       "      <th>1</th>\n",
       "      <td>2008-02-11 12:15:00</td>\n",
       "      <td>\"В России\"</td>\n",
       "      <td>['министр', 'оборона', 'сша', 'роберт', 'гейтс...</td>\n",
       "      <td>Мир</td>\n",
       "    </tr>\n",
       "    <tr>\n",
       "      <th>2</th>\n",
       "      <td>2008-02-11 12:46:00</td>\n",
       "      <td>\"В России\"</td>\n",
       "      <td>['сша', 'продолжаться', 'сезон', 'предваритель...</td>\n",
       "      <td>Мир</td>\n",
       "    </tr>\n",
       "    <tr>\n",
       "      <th>3</th>\n",
       "      <td>2008-02-11 13:16:00</td>\n",
       "      <td>\"В России\"</td>\n",
       "      <td>['американский', 'военнослужащий', 'задержать'...</td>\n",
       "      <td>Мир</td>\n",
       "    </tr>\n",
       "    <tr>\n",
       "      <th>4</th>\n",
       "      <td>2008-02-11 16:14:00</td>\n",
       "      <td>\"В России\"</td>\n",
       "      <td>['сербия', 'случай', 'признание', 'некоторый',...</td>\n",
       "      <td>Мир</td>\n",
       "    </tr>\n",
       "  </tbody>\n",
       "</table>\n",
       "</div>"
      ],
      "text/plain": [
       "                  date       topic  \\\n",
       "0  2008-02-11 10:51:00  \"В России\"   \n",
       "1  2008-02-11 12:15:00  \"В России\"   \n",
       "2  2008-02-11 12:46:00  \"В России\"   \n",
       "3  2008-02-11 13:16:00  \"В России\"   \n",
       "4  2008-02-11 16:14:00  \"В России\"   \n",
       "\n",
       "                                                text predict  \n",
       "0  ['добиваться', 'выдвижение', 'кандидат', 'сша'...     Мир  \n",
       "1  ['министр', 'оборона', 'сша', 'роберт', 'гейтс...     Мир  \n",
       "2  ['сша', 'продолжаться', 'сезон', 'предваритель...     Мир  \n",
       "3  ['американский', 'военнослужащий', 'задержать'...     Мир  \n",
       "4  ['сербия', 'случай', 'признание', 'некоторый',...     Мир  "
      ]
     },
     "execution_count": 22,
     "metadata": {},
     "output_type": "execute_result"
    }
   ],
   "source": [
    "df.head()"
   ]
  },
  {
   "cell_type": "markdown",
   "metadata": {},
   "source": [
    "* parse data"
   ]
  },
  {
   "cell_type": "code",
   "execution_count": 23,
   "metadata": {
    "ExecuteTime": {
     "end_time": "2019-02-12T23:27:18.404815Z",
     "start_time": "2019-02-12T23:27:18.257685Z"
    }
   },
   "outputs": [
    {
     "data": {
      "text/html": [
       "<div>\n",
       "<style scoped>\n",
       "    .dataframe tbody tr th:only-of-type {\n",
       "        vertical-align: middle;\n",
       "    }\n",
       "\n",
       "    .dataframe tbody tr th {\n",
       "        vertical-align: top;\n",
       "    }\n",
       "\n",
       "    .dataframe thead th {\n",
       "        text-align: right;\n",
       "    }\n",
       "</style>\n",
       "<table border=\"1\" class=\"dataframe\">\n",
       "  <thead>\n",
       "    <tr style=\"text-align: right;\">\n",
       "      <th></th>\n",
       "      <th>date</th>\n",
       "      <th>topic</th>\n",
       "      <th>text</th>\n",
       "      <th>predict</th>\n",
       "      <th>year</th>\n",
       "      <th>month</th>\n",
       "    </tr>\n",
       "  </thead>\n",
       "  <tbody>\n",
       "    <tr>\n",
       "      <th>0</th>\n",
       "      <td>2008-02-11 10:51:00</td>\n",
       "      <td>\"В России\"</td>\n",
       "      <td>['добиваться', 'выдвижение', 'кандидат', 'сша'...</td>\n",
       "      <td>Мир</td>\n",
       "      <td>2008</td>\n",
       "      <td>2</td>\n",
       "    </tr>\n",
       "    <tr>\n",
       "      <th>1</th>\n",
       "      <td>2008-02-11 12:15:00</td>\n",
       "      <td>\"В России\"</td>\n",
       "      <td>['министр', 'оборона', 'сша', 'роберт', 'гейтс...</td>\n",
       "      <td>Мир</td>\n",
       "      <td>2008</td>\n",
       "      <td>2</td>\n",
       "    </tr>\n",
       "    <tr>\n",
       "      <th>2</th>\n",
       "      <td>2008-02-11 12:46:00</td>\n",
       "      <td>\"В России\"</td>\n",
       "      <td>['сша', 'продолжаться', 'сезон', 'предваритель...</td>\n",
       "      <td>Мир</td>\n",
       "      <td>2008</td>\n",
       "      <td>2</td>\n",
       "    </tr>\n",
       "    <tr>\n",
       "      <th>3</th>\n",
       "      <td>2008-02-11 13:16:00</td>\n",
       "      <td>\"В России\"</td>\n",
       "      <td>['американский', 'военнослужащий', 'задержать'...</td>\n",
       "      <td>Мир</td>\n",
       "      <td>2008</td>\n",
       "      <td>2</td>\n",
       "    </tr>\n",
       "    <tr>\n",
       "      <th>4</th>\n",
       "      <td>2008-02-11 16:14:00</td>\n",
       "      <td>\"В России\"</td>\n",
       "      <td>['сербия', 'случай', 'признание', 'некоторый',...</td>\n",
       "      <td>Мир</td>\n",
       "      <td>2008</td>\n",
       "      <td>2</td>\n",
       "    </tr>\n",
       "  </tbody>\n",
       "</table>\n",
       "</div>"
      ],
      "text/plain": [
       "                  date       topic  \\\n",
       "0  2008-02-11 10:51:00  \"В России\"   \n",
       "1  2008-02-11 12:15:00  \"В России\"   \n",
       "2  2008-02-11 12:46:00  \"В России\"   \n",
       "3  2008-02-11 13:16:00  \"В России\"   \n",
       "4  2008-02-11 16:14:00  \"В России\"   \n",
       "\n",
       "                                                text predict  year  month  \n",
       "0  ['добиваться', 'выдвижение', 'кандидат', 'сша'...     Мир  2008      2  \n",
       "1  ['министр', 'оборона', 'сша', 'роберт', 'гейтс...     Мир  2008      2  \n",
       "2  ['сша', 'продолжаться', 'сезон', 'предваритель...     Мир  2008      2  \n",
       "3  ['американский', 'военнослужащий', 'задержать'...     Мир  2008      2  \n",
       "4  ['сербия', 'случай', 'признание', 'некоторый',...     Мир  2008      2  "
      ]
     },
     "execution_count": 23,
     "metadata": {},
     "output_type": "execute_result"
    }
   ],
   "source": [
    "df['year'] = df['date'].apply(lambda x: int(x.split(' ')[0].split('-')[0]))\n",
    "df['month'] = df['date'].apply(lambda x: int(x.split(' ')[0].split('-')[1]))\n",
    "df.head()"
   ]
  },
  {
   "cell_type": "code",
   "execution_count": 24,
   "metadata": {
    "ExecuteTime": {
     "end_time": "2019-02-12T23:27:29.465092Z",
     "start_time": "2019-02-12T23:27:18.406500Z"
    }
   },
   "outputs": [],
   "source": [
    "df.text = df.text.apply(lambda x: literal_eval(x))"
   ]
  },
  {
   "cell_type": "code",
   "execution_count": 25,
   "metadata": {
    "ExecuteTime": {
     "end_time": "2019-02-12T23:27:29.487722Z",
     "start_time": "2019-02-12T23:27:29.468455Z"
    }
   },
   "outputs": [
    {
     "data": {
      "text/plain": [
       "2017    10149\n",
       "2016    10020\n",
       "2018     9034\n",
       "2013     8802\n",
       "2015     8500\n",
       "2014     7415\n",
       "2009     6877\n",
       "2012     6347\n",
       "2008     5590\n",
       "2011     5352\n",
       "2010     4860\n",
       "2019      375\n",
       "Name: year, dtype: int64"
      ]
     },
     "execution_count": 25,
     "metadata": {},
     "output_type": "execute_result"
    }
   ],
   "source": [
    "df.year.value_counts()"
   ]
  },
  {
   "cell_type": "code",
   "execution_count": 26,
   "metadata": {
    "ExecuteTime": {
     "end_time": "2019-02-12T23:27:29.495865Z",
     "start_time": "2019-02-12T23:27:29.490630Z"
    }
   },
   "outputs": [
    {
     "data": {
      "text/plain": [
       "3     7845\n",
       "10    7476\n",
       "4     7386\n",
       "11    7204\n",
       "7     6907\n",
       "9     6838\n",
       "8     6761\n",
       "12    6698\n",
       "5     6653\n",
       "1     6624\n",
       "6     6532\n",
       "2     6397\n",
       "Name: month, dtype: int64"
      ]
     },
     "execution_count": 26,
     "metadata": {},
     "output_type": "execute_result"
    }
   ],
   "source": [
    "df.month.value_counts()"
   ]
  },
  {
   "cell_type": "markdown",
   "metadata": {},
   "source": [
    "### preprocess if text with lemma"
   ]
  },
  {
   "cell_type": "code",
   "execution_count": 27,
   "metadata": {
    "ExecuteTime": {
     "end_time": "2019-02-12T23:27:29.754501Z",
     "start_time": "2019-02-12T23:27:29.497386Z"
    }
   },
   "outputs": [
    {
     "data": {
      "text/html": [
       "<div>\n",
       "<style scoped>\n",
       "    .dataframe tbody tr th:only-of-type {\n",
       "        vertical-align: middle;\n",
       "    }\n",
       "\n",
       "    .dataframe tbody tr th {\n",
       "        vertical-align: top;\n",
       "    }\n",
       "\n",
       "    .dataframe thead th {\n",
       "        text-align: right;\n",
       "    }\n",
       "</style>\n",
       "<table border=\"1\" class=\"dataframe\">\n",
       "  <thead>\n",
       "    <tr style=\"text-align: right;\">\n",
       "      <th></th>\n",
       "      <th>date</th>\n",
       "      <th>topic</th>\n",
       "      <th>text</th>\n",
       "      <th>predict</th>\n",
       "      <th>year</th>\n",
       "      <th>month</th>\n",
       "      <th>text_join</th>\n",
       "    </tr>\n",
       "  </thead>\n",
       "  <tbody>\n",
       "    <tr>\n",
       "      <th>0</th>\n",
       "      <td>2008-02-11 10:51:00</td>\n",
       "      <td>\"В России\"</td>\n",
       "      <td>[добиваться, выдвижение, кандидат, сша, демокр...</td>\n",
       "      <td>Мир</td>\n",
       "      <td>2008</td>\n",
       "      <td>2</td>\n",
       "      <td>добиваться выдвижение кандидат сша демократиче...</td>\n",
       "    </tr>\n",
       "    <tr>\n",
       "      <th>1</th>\n",
       "      <td>2008-02-11 12:15:00</td>\n",
       "      <td>\"В России\"</td>\n",
       "      <td>[министр, оборона, сша, роберт, гейтс, моджахе...</td>\n",
       "      <td>Мир</td>\n",
       "      <td>2008</td>\n",
       "      <td>2</td>\n",
       "      <td>министр оборона сша роберт гейтс моджахед афга...</td>\n",
       "    </tr>\n",
       "    <tr>\n",
       "      <th>2</th>\n",
       "      <td>2008-02-11 12:46:00</td>\n",
       "      <td>\"В России\"</td>\n",
       "      <td>[сша, продолжаться, сезон, предварительный, вы...</td>\n",
       "      <td>Мир</td>\n",
       "      <td>2008</td>\n",
       "      <td>2</td>\n",
       "      <td>сша продолжаться сезон предварительный выбор п...</td>\n",
       "    </tr>\n",
       "    <tr>\n",
       "      <th>3</th>\n",
       "      <td>2008-02-11 13:16:00</td>\n",
       "      <td>\"В России\"</td>\n",
       "      <td>[американский, военнослужащий, задержать, япон...</td>\n",
       "      <td>Мир</td>\n",
       "      <td>2008</td>\n",
       "      <td>2</td>\n",
       "      <td>американский военнослужащий задержать японский...</td>\n",
       "    </tr>\n",
       "    <tr>\n",
       "      <th>4</th>\n",
       "      <td>2008-02-11 16:14:00</td>\n",
       "      <td>\"В России\"</td>\n",
       "      <td>[сербия, случай, признание, некоторый, независ...</td>\n",
       "      <td>Мир</td>\n",
       "      <td>2008</td>\n",
       "      <td>2</td>\n",
       "      <td>сербия случай признание некоторый независимост...</td>\n",
       "    </tr>\n",
       "  </tbody>\n",
       "</table>\n",
       "</div>"
      ],
      "text/plain": [
       "                  date       topic  \\\n",
       "0  2008-02-11 10:51:00  \"В России\"   \n",
       "1  2008-02-11 12:15:00  \"В России\"   \n",
       "2  2008-02-11 12:46:00  \"В России\"   \n",
       "3  2008-02-11 13:16:00  \"В России\"   \n",
       "4  2008-02-11 16:14:00  \"В России\"   \n",
       "\n",
       "                                                text predict  year  month  \\\n",
       "0  [добиваться, выдвижение, кандидат, сша, демокр...     Мир  2008      2   \n",
       "1  [министр, оборона, сша, роберт, гейтс, моджахе...     Мир  2008      2   \n",
       "2  [сша, продолжаться, сезон, предварительный, вы...     Мир  2008      2   \n",
       "3  [американский, военнослужащий, задержать, япон...     Мир  2008      2   \n",
       "4  [сербия, случай, признание, некоторый, независ...     Мир  2008      2   \n",
       "\n",
       "                                           text_join  \n",
       "0  добиваться выдвижение кандидат сша демократиче...  \n",
       "1  министр оборона сша роберт гейтс моджахед афга...  \n",
       "2  сша продолжаться сезон предварительный выбор п...  \n",
       "3  американский военнослужащий задержать японский...  \n",
       "4  сербия случай признание некоторый независимост...  "
      ]
     },
     "execution_count": 27,
     "metadata": {},
     "output_type": "execute_result"
    }
   ],
   "source": [
    "df['text_join'] = df.text.apply(lambda x: ' '.join(x))\n",
    "df.head()"
   ]
  },
  {
   "cell_type": "markdown",
   "metadata": {},
   "source": [
    "* cleanedNames"
   ]
  },
  {
   "cell_type": "code",
   "execution_count": 28,
   "metadata": {
    "ExecuteTime": {
     "end_time": "2019-02-12T23:27:30.436069Z",
     "start_time": "2019-02-12T23:27:29.756094Z"
    }
   },
   "outputs": [],
   "source": [
    "from cleanedNames import KeyProc\n",
    "cn = KeyProc()"
   ]
  },
  {
   "cell_type": "code",
   "execution_count": 29,
   "metadata": {
    "ExecuteTime": {
     "end_time": "2019-02-12T23:28:43.031351Z",
     "start_time": "2019-02-12T23:27:30.437498Z"
    }
   },
   "outputs": [
    {
     "name": "stdout",
     "output_type": "stream",
     "text": [
      "CPU times: user 1min 12s, sys: 12.4 ms, total: 1min 12s\n",
      "Wall time: 1min 12s\n"
     ]
    }
   ],
   "source": [
    "%%time\n",
    "df.text_join = df.text_join.apply(cn.replaceKeywords)"
   ]
  },
  {
   "cell_type": "code",
   "execution_count": 30,
   "metadata": {
    "ExecuteTime": {
     "end_time": "2019-02-12T23:28:44.124850Z",
     "start_time": "2019-02-12T23:28:43.033464Z"
    }
   },
   "outputs": [
    {
     "data": {
      "text/html": [
       "<div>\n",
       "<style scoped>\n",
       "    .dataframe tbody tr th:only-of-type {\n",
       "        vertical-align: middle;\n",
       "    }\n",
       "\n",
       "    .dataframe tbody tr th {\n",
       "        vertical-align: top;\n",
       "    }\n",
       "\n",
       "    .dataframe thead th {\n",
       "        text-align: right;\n",
       "    }\n",
       "</style>\n",
       "<table border=\"1\" class=\"dataframe\">\n",
       "  <thead>\n",
       "    <tr style=\"text-align: right;\">\n",
       "      <th></th>\n",
       "      <th>date</th>\n",
       "      <th>topic</th>\n",
       "      <th>text</th>\n",
       "      <th>predict</th>\n",
       "      <th>year</th>\n",
       "      <th>month</th>\n",
       "      <th>text_join</th>\n",
       "    </tr>\n",
       "  </thead>\n",
       "  <tbody>\n",
       "    <tr>\n",
       "      <th>0</th>\n",
       "      <td>2008-02-11 10:51:00</td>\n",
       "      <td>\"В России\"</td>\n",
       "      <td>[добиваться, выдвижение, кандидат, сша, демокр...</td>\n",
       "      <td>Мир</td>\n",
       "      <td>2008</td>\n",
       "      <td>2</td>\n",
       "      <td>добиваться выдвижение кандидат сша демократиче...</td>\n",
       "    </tr>\n",
       "    <tr>\n",
       "      <th>1</th>\n",
       "      <td>2008-02-11 12:15:00</td>\n",
       "      <td>\"В России\"</td>\n",
       "      <td>[министр, оборона, сша, роберт_гейтс, моджахед...</td>\n",
       "      <td>Мир</td>\n",
       "      <td>2008</td>\n",
       "      <td>2</td>\n",
       "      <td>министр оборона сша роберт_гейтс моджахед афга...</td>\n",
       "    </tr>\n",
       "    <tr>\n",
       "      <th>2</th>\n",
       "      <td>2008-02-11 12:46:00</td>\n",
       "      <td>\"В России\"</td>\n",
       "      <td>[сша, продолжаться, сезон, предварительный, вы...</td>\n",
       "      <td>Мир</td>\n",
       "      <td>2008</td>\n",
       "      <td>2</td>\n",
       "      <td>сша продолжаться сезон предварительный выбор п...</td>\n",
       "    </tr>\n",
       "    <tr>\n",
       "      <th>3</th>\n",
       "      <td>2008-02-11 13:16:00</td>\n",
       "      <td>\"В России\"</td>\n",
       "      <td>[американский, военнослужащий, задержать, япон...</td>\n",
       "      <td>Мир</td>\n",
       "      <td>2008</td>\n",
       "      <td>2</td>\n",
       "      <td>американский военнослужащий задержать японский...</td>\n",
       "    </tr>\n",
       "    <tr>\n",
       "      <th>4</th>\n",
       "      <td>2008-02-11 16:14:00</td>\n",
       "      <td>\"В России\"</td>\n",
       "      <td>[сербия, случай, признание, некоторый, независ...</td>\n",
       "      <td>Мир</td>\n",
       "      <td>2008</td>\n",
       "      <td>2</td>\n",
       "      <td>сербия случай признание некоторый независимост...</td>\n",
       "    </tr>\n",
       "  </tbody>\n",
       "</table>\n",
       "</div>"
      ],
      "text/plain": [
       "                  date       topic  \\\n",
       "0  2008-02-11 10:51:00  \"В России\"   \n",
       "1  2008-02-11 12:15:00  \"В России\"   \n",
       "2  2008-02-11 12:46:00  \"В России\"   \n",
       "3  2008-02-11 13:16:00  \"В России\"   \n",
       "4  2008-02-11 16:14:00  \"В России\"   \n",
       "\n",
       "                                                text predict  year  month  \\\n",
       "0  [добиваться, выдвижение, кандидат, сша, демокр...     Мир  2008      2   \n",
       "1  [министр, оборона, сша, роберт_гейтс, моджахед...     Мир  2008      2   \n",
       "2  [сша, продолжаться, сезон, предварительный, вы...     Мир  2008      2   \n",
       "3  [американский, военнослужащий, задержать, япон...     Мир  2008      2   \n",
       "4  [сербия, случай, признание, некоторый, независ...     Мир  2008      2   \n",
       "\n",
       "                                           text_join  \n",
       "0  добиваться выдвижение кандидат сша демократиче...  \n",
       "1  министр оборона сша роберт_гейтс моджахед афга...  \n",
       "2  сша продолжаться сезон предварительный выбор п...  \n",
       "3  американский военнослужащий задержать японский...  \n",
       "4  сербия случай признание некоторый независимост...  "
      ]
     },
     "execution_count": 30,
     "metadata": {},
     "output_type": "execute_result"
    }
   ],
   "source": [
    "df.text = df.text_join.apply(lambda x: x.split(' ')) \n",
    "df.head()"
   ]
  },
  {
   "cell_type": "code",
   "execution_count": null,
   "metadata": {},
   "outputs": [],
   "source": []
  },
  {
   "cell_type": "markdown",
   "metadata": {},
   "source": [
    "* add docID"
   ]
  },
  {
   "cell_type": "code",
   "execution_count": 31,
   "metadata": {
    "ExecuteTime": {
     "end_time": "2019-02-12T23:28:44.143339Z",
     "start_time": "2019-02-12T23:28:44.126216Z"
    }
   },
   "outputs": [],
   "source": [
    "df['docID'] = list(range(df.shape[0]))"
   ]
  },
  {
   "cell_type": "code",
   "execution_count": 32,
   "metadata": {
    "ExecuteTime": {
     "end_time": "2019-02-12T23:28:44.184813Z",
     "start_time": "2019-02-12T23:28:44.144919Z"
    }
   },
   "outputs": [],
   "source": [
    "df.rename(columns={'text':'lemmatized_text'},inplace=True)"
   ]
  },
  {
   "cell_type": "code",
   "execution_count": 33,
   "metadata": {
    "ExecuteTime": {
     "end_time": "2019-02-12T23:28:44.218877Z",
     "start_time": "2019-02-12T23:28:44.185999Z"
    }
   },
   "outputs": [
    {
     "data": {
      "text/html": [
       "<div>\n",
       "<style scoped>\n",
       "    .dataframe tbody tr th:only-of-type {\n",
       "        vertical-align: middle;\n",
       "    }\n",
       "\n",
       "    .dataframe tbody tr th {\n",
       "        vertical-align: top;\n",
       "    }\n",
       "\n",
       "    .dataframe thead th {\n",
       "        text-align: right;\n",
       "    }\n",
       "</style>\n",
       "<table border=\"1\" class=\"dataframe\">\n",
       "  <thead>\n",
       "    <tr style=\"text-align: right;\">\n",
       "      <th></th>\n",
       "      <th>docID</th>\n",
       "      <th>year</th>\n",
       "      <th>month</th>\n",
       "      <th>lemmatized_text</th>\n",
       "    </tr>\n",
       "  </thead>\n",
       "  <tbody>\n",
       "    <tr>\n",
       "      <th>0</th>\n",
       "      <td>0</td>\n",
       "      <td>2008</td>\n",
       "      <td>2</td>\n",
       "      <td>[добиваться, выдвижение, кандидат, сша, демокр...</td>\n",
       "    </tr>\n",
       "    <tr>\n",
       "      <th>1</th>\n",
       "      <td>1</td>\n",
       "      <td>2008</td>\n",
       "      <td>2</td>\n",
       "      <td>[министр, оборона, сша, роберт_гейтс, моджахед...</td>\n",
       "    </tr>\n",
       "  </tbody>\n",
       "</table>\n",
       "</div>"
      ],
      "text/plain": [
       "   docID  year  month                                    lemmatized_text\n",
       "0      0  2008      2  [добиваться, выдвижение, кандидат, сша, демокр...\n",
       "1      1  2008      2  [министр, оборона, сша, роберт_гейтс, моджахед..."
      ]
     },
     "execution_count": 33,
     "metadata": {},
     "output_type": "execute_result"
    }
   ],
   "source": [
    "df = df[['docID','year','month','lemmatized_text']]\n",
    "df.head(2)"
   ]
  },
  {
   "cell_type": "code",
   "execution_count": 34,
   "metadata": {
    "ExecuteTime": {
     "end_time": "2019-02-12T23:28:44.234207Z",
     "start_time": "2019-02-12T23:28:44.220201Z"
    }
   },
   "outputs": [
    {
     "name": "stdout",
     "output_type": "stream",
     "text": [
      "(83321, 4)\n"
     ]
    },
    {
     "data": {
      "text/plain": [
       "docID              0\n",
       "year               0\n",
       "month              0\n",
       "lemmatized_text    0\n",
       "dtype: int64"
      ]
     },
     "execution_count": 34,
     "metadata": {},
     "output_type": "execute_result"
    }
   ],
   "source": [
    "print(df.shape)\n",
    "df.isnull().sum()"
   ]
  },
  {
   "cell_type": "code",
   "execution_count": 35,
   "metadata": {
    "ExecuteTime": {
     "end_time": "2019-02-12T23:28:44.239445Z",
     "start_time": "2019-02-12T23:28:44.235352Z"
    }
   },
   "outputs": [
    {
     "data": {
      "text/plain": [
       "(2008, 2019)"
      ]
     },
     "execution_count": 35,
     "metadata": {},
     "output_type": "execute_result"
    }
   ],
   "source": [
    "df.year.min(),df.year.max()"
   ]
  },
  {
   "cell_type": "markdown",
   "metadata": {
    "heading_collapsed": true
   },
   "source": [
    "### preprocess if text full"
   ]
  },
  {
   "cell_type": "markdown",
   "metadata": {
    "hidden": true
   },
   "source": [
    "* get dates"
   ]
  },
  {
   "cell_type": "code",
   "execution_count": null,
   "metadata": {
    "ExecuteTime": {
     "end_time": "2019-02-12T20:44:42.100805Z",
     "start_time": "2019-02-12T20:44:41.875674Z"
    },
    "hidden": true
   },
   "outputs": [],
   "source": [
    "%%time\n",
    "\n",
    "df['date_raw'] = df['url'].apply(re.compile('(\\d{4})/(\\d{2})/(\\d{2})').findall)\n",
    "\n",
    "df['year'] = df['date_raw'].apply(lambda x: int(x[0][0]))\n",
    "df['month'] = df['date_raw'].apply(lambda x: int(x[0][1]))"
   ]
  },
  {
   "cell_type": "markdown",
   "metadata": {
    "hidden": true
   },
   "source": [
    "* clean text"
   ]
  },
  {
   "cell_type": "code",
   "execution_count": null,
   "metadata": {
    "ExecuteTime": {
     "end_time": "2019-02-12T20:44:45.466357Z",
     "start_time": "2019-02-12T20:44:45.419292Z"
    },
    "hidden": true
   },
   "outputs": [],
   "source": [
    "import preprocessing_tools as pr"
   ]
  },
  {
   "cell_type": "code",
   "execution_count": null,
   "metadata": {
    "ExecuteTime": {
     "end_time": "2019-02-12T20:44:55.961600Z",
     "start_time": "2019-02-12T20:44:46.127947Z"
    },
    "hidden": true
   },
   "outputs": [],
   "source": [
    "%%time\n",
    "df.text = df.text.apply(pr.clean_text)"
   ]
  },
  {
   "cell_type": "code",
   "execution_count": null,
   "metadata": {
    "ExecuteTime": {
     "end_time": "2019-02-12T20:44:57.006954Z",
     "start_time": "2019-02-12T20:44:56.996117Z"
    },
    "hidden": true
   },
   "outputs": [],
   "source": [
    "df.head(2)"
   ]
  },
  {
   "cell_type": "markdown",
   "metadata": {
    "hidden": true
   },
   "source": [
    "* cleanedNames"
   ]
  },
  {
   "cell_type": "code",
   "execution_count": null,
   "metadata": {
    "ExecuteTime": {
     "end_time": "2019-02-12T20:44:59.718122Z",
     "start_time": "2019-02-12T20:44:59.605825Z"
    },
    "hidden": true
   },
   "outputs": [],
   "source": [
    "from cleanedNames import KeyProc\n",
    "cn = KeyProc()"
   ]
  },
  {
   "cell_type": "code",
   "execution_count": null,
   "metadata": {
    "ExecuteTime": {
     "end_time": "2019-02-12T20:46:42.655484Z",
     "start_time": "2019-02-12T20:45:00.859921Z"
    },
    "hidden": true
   },
   "outputs": [],
   "source": [
    "%%time\n",
    "df.text = df.text.apply(cn.replaceKeywords)"
   ]
  },
  {
   "cell_type": "markdown",
   "metadata": {
    "hidden": true
   },
   "source": [
    "* lemmatization"
   ]
  },
  {
   "cell_type": "code",
   "execution_count": null,
   "metadata": {
    "ExecuteTime": {
     "end_time": "2019-02-12T20:49:10.237126Z",
     "start_time": "2019-02-12T20:46:42.704548Z"
    },
    "hidden": true
   },
   "outputs": [],
   "source": [
    "%%time\n",
    "df['lemmatized_text'] = df.text.apply(pr.lemmatization)"
   ]
  },
  {
   "cell_type": "code",
   "execution_count": null,
   "metadata": {
    "hidden": true
   },
   "outputs": [],
   "source": []
  },
  {
   "cell_type": "markdown",
   "metadata": {
    "hidden": true
   },
   "source": [
    "* add docID"
   ]
  },
  {
   "cell_type": "code",
   "execution_count": null,
   "metadata": {
    "ExecuteTime": {
     "end_time": "2019-02-12T20:49:10.337705Z",
     "start_time": "2019-02-12T20:49:10.325010Z"
    },
    "hidden": true
   },
   "outputs": [],
   "source": [
    "df['docID'] = list(range(df.shape[0]))"
   ]
  },
  {
   "cell_type": "code",
   "execution_count": null,
   "metadata": {
    "ExecuteTime": {
     "end_time": "2019-02-12T20:49:10.457636Z",
     "start_time": "2019-02-12T20:49:10.428243Z"
    },
    "hidden": true
   },
   "outputs": [],
   "source": [
    "df = df[['docID','year','month','lemmatized_text']]\n",
    "df.head(2)"
   ]
  },
  {
   "cell_type": "code",
   "execution_count": null,
   "metadata": {
    "ExecuteTime": {
     "end_time": "2019-02-12T20:49:10.526039Z",
     "start_time": "2019-02-12T20:49:10.516289Z"
    },
    "hidden": true
   },
   "outputs": [],
   "source": [
    "print(df.shape)\n",
    "df.isnull().sum()"
   ]
  },
  {
   "cell_type": "code",
   "execution_count": null,
   "metadata": {
    "ExecuteTime": {
     "end_time": "2019-02-12T20:49:10.587001Z",
     "start_time": "2019-02-12T20:49:10.583827Z"
    },
    "hidden": true
   },
   "outputs": [],
   "source": [
    "df.year.min()"
   ]
  },
  {
   "cell_type": "code",
   "execution_count": null,
   "metadata": {
    "hidden": true
   },
   "outputs": [],
   "source": []
  },
  {
   "cell_type": "markdown",
   "metadata": {},
   "source": [
    "## model"
   ]
  },
  {
   "cell_type": "markdown",
   "metadata": {},
   "source": [
    "* prepare"
   ]
  },
  {
   "cell_type": "code",
   "execution_count": 36,
   "metadata": {
    "ExecuteTime": {
     "end_time": "2019-02-12T23:34:18.547130Z",
     "start_time": "2019-02-12T23:34:17.848894Z"
    }
   },
   "outputs": [
    {
     "name": "stdout",
     "output_type": "stream",
     "text": [
      "CPU times: user 584 ms, sys: 113 ms, total: 696 ms\n",
      "Wall time: 695 ms\n"
     ]
    }
   ],
   "source": [
    "%%time\n",
    "\n",
    "vwpath = f'data/vwpath/{name_dataset}_input_bigartm.vw'\n",
    "\n",
    "with open(vwpath, 'w') as fp:\n",
    "    for text, did in df[['lemmatized_text', 'docID']].values:\n",
    "        fp.write('{} | {}\\n'.format(did, ' '.join(text)))"
   ]
  },
  {
   "cell_type": "code",
   "execution_count": 37,
   "metadata": {
    "ExecuteTime": {
     "end_time": "2019-02-12T23:34:18.604612Z",
     "start_time": "2019-02-12T23:34:18.601230Z"
    }
   },
   "outputs": [],
   "source": [
    "id_date = df[['docID', 'year', 'month']].copy()"
   ]
  },
  {
   "cell_type": "markdown",
   "metadata": {},
   "source": [
    "* collect batchs and collect the dictionary"
   ]
  },
  {
   "cell_type": "code",
   "execution_count": 38,
   "metadata": {
    "ExecuteTime": {
     "end_time": "2019-02-12T23:34:25.259730Z",
     "start_time": "2019-02-12T23:34:20.110447Z"
    }
   },
   "outputs": [
    {
     "name": "stdout",
     "output_type": "stream",
     "text": [
      "create folder...\n",
      "\n",
      "artm.BatchVectorizer(data_path=\"data/batches/Mir\", num_batches=84)\n",
      "CPU times: user 23.8 s, sys: 497 ms, total: 24.3 s\n",
      "Wall time: 5.15 s\n"
     ]
    }
   ],
   "source": [
    "%%time\n",
    "\n",
    "batches_path = f'data/batches/{name_dataset}'\n",
    "\n",
    "if not os.path.exists(batches_path):\n",
    "    print('create folder...\\n')\n",
    "    os.makedirs(batches_path)\n",
    "    \n",
    "batch_vectorizer = artm.BatchVectorizer(data_path=vwpath,\n",
    "                                        data_format='vowpal_wabbit',\n",
    "                                        target_folder=batches_path)\n",
    "\n",
    "print(batch_vectorizer)"
   ]
  },
  {
   "cell_type": "code",
   "execution_count": 39,
   "metadata": {
    "ExecuteTime": {
     "end_time": "2019-02-12T23:34:27.659994Z",
     "start_time": "2019-02-12T23:34:25.329871Z"
    }
   },
   "outputs": [],
   "source": [
    "dictionary = artm.Dictionary()\n",
    "dictionary.gather(data_path=batches_path)"
   ]
  },
  {
   "cell_type": "code",
   "execution_count": 40,
   "metadata": {
    "ExecuteTime": {
     "end_time": "2019-02-12T23:34:27.804170Z",
     "start_time": "2019-02-12T23:34:27.728392Z"
    }
   },
   "outputs": [
    {
     "data": {
      "text/plain": [
       "artm.Dictionary(name=4fbddefa-0864-4901-b1d3-846238f5bfb3, num_entries=23074)"
      ]
     },
     "execution_count": 40,
     "metadata": {},
     "output_type": "execute_result"
    }
   ],
   "source": [
    "dictionary.filter(min_tf=10, max_df_rate=0.1) #int(4.5e5)"
   ]
  },
  {
   "cell_type": "code",
   "execution_count": 41,
   "metadata": {
    "ExecuteTime": {
     "end_time": "2019-02-12T23:34:27.992246Z",
     "start_time": "2019-02-12T23:34:27.868118Z"
    }
   },
   "outputs": [],
   "source": [
    "dictionary.save_text(f'data/dicts/dict_{name_dataset}.txt')"
   ]
  },
  {
   "cell_type": "code",
   "execution_count": null,
   "metadata": {},
   "outputs": [],
   "source": []
  },
  {
   "cell_type": "markdown",
   "metadata": {},
   "source": [
    "## pick up amount topics"
   ]
  },
  {
   "cell_type": "code",
   "execution_count": null,
   "metadata": {
    "ExecuteTime": {
     "end_time": "2019-02-03T23:34:30.832737Z",
     "start_time": "2019-02-03T23:05:40.548748Z"
    }
   },
   "outputs": [],
   "source": [
    "%%time\n",
    "model_list = []\n",
    "step, perplexity, sTheta, sPhi = [], [], [], []\n",
    "\n",
    "start = 6\n",
    "end = 25\n",
    "stepp = 1\n",
    "\n",
    "for i in range(start,end+1,stepp):\n",
    "    print(f'#topic {i}.........')\n",
    "    step.append(i)\n",
    "    date_start = time.now()\n",
    "    \n",
    "    num_topics = i\n",
    "    model = artm.ARTM(num_topics=num_topics, dictionary=dictionary)\n",
    "    \n",
    "    # scores\n",
    "    model.scores.add(artm.PerplexityScore(name='PerplexityScore', dictionary=dictionary))\n",
    "    model.scores.add(artm.SparsityThetaScore(name='SparsityThetaScore'))\n",
    "    model.scores.add(artm.SparsityPhiScore(name='SparsityPhiScore'))\n",
    "    \n",
    "    # 1st regularizer\n",
    "    model.regularizers.add(artm.SmoothSparsePhiRegularizer(name='SparsePhi', tau=-1.0)) #-0.1\n",
    "    model.fit_offline(batch_vectorizer=batch_vectorizer, num_collection_passes=5)\n",
    "    \n",
    "    # 2st regularizer\n",
    "    model.regularizers.add(artm.SmoothSparseThetaRegularizer(name='SparseTheta', tau=-0.5))\n",
    "    model.fit_offline(batch_vectorizer=batch_vectorizer, num_collection_passes=15)\n",
    "    \n",
    "    # 3st regularizer\n",
    "    model.regularizers.add(artm.DecorrelatorPhiRegularizer(name='DecorrelatorPhi', tau=1.5e+5))\n",
    "    model.fit_offline(batch_vectorizer=batch_vectorizer, num_collection_passes=15)\n",
    "    \n",
    "    sparsityTheta = model.score_tracker['SparsityThetaScore'].last_value\n",
    "    sTheta.append(sparsityTheta)\n",
    "    sparsityPhi = model.score_tracker['SparsityPhiScore'].last_value\n",
    "    sPhi.append(sparsityPhi)\n",
    "    perpl = model.score_tracker['PerplexityScore'].last_value\n",
    "    perplexity.append(perpl)\n",
    "    \n",
    "    print(f'\\tSparsityThetaScore: {sparsityTheta}')\n",
    "    print(f'\\tSparsityPhiScore: {sparsityPhi}')\n",
    "    print(f'\\tPerplexityScore: {perpl}')\n",
    "    \n",
    "    print('\\ttime:',time.now()-date_start)"
   ]
  },
  {
   "cell_type": "code",
   "execution_count": null,
   "metadata": {
    "ExecuteTime": {
     "end_time": "2019-02-03T10:25:19.898317Z",
     "start_time": "2019-02-03T10:25:19.896173Z"
    }
   },
   "outputs": [],
   "source": [
    "#model_list"
   ]
  },
  {
   "cell_type": "code",
   "execution_count": null,
   "metadata": {
    "ExecuteTime": {
     "end_time": "2019-02-03T23:36:48.933306Z",
     "start_time": "2019-02-03T23:36:48.703340Z"
    },
    "cell_style": "split"
   },
   "outputs": [],
   "source": [
    "plt.plot(step, sPhi, color='k',linewidth=3, marker='x')\n",
    "ax = plt.gca()\n",
    "ax.set_xticks(step)\n",
    "plt.grid()\n",
    "plt.title('SparsityPhiScore')"
   ]
  },
  {
   "cell_type": "code",
   "execution_count": null,
   "metadata": {
    "ExecuteTime": {
     "end_time": "2019-02-03T23:36:48.941151Z",
     "start_time": "2019-02-03T23:36:48.935668Z"
    },
    "cell_style": "split"
   },
   "outputs": [],
   "source": [
    "index_sphi = []\n",
    "[index_sphi.append(float(str(i)[:3]) ) for i in sPhi]\n",
    "    \n",
    "index_sphi = list(set(index_sphi))\n",
    "index_sphi.sort()\n",
    "index_sphi"
   ]
  },
  {
   "cell_type": "code",
   "execution_count": null,
   "metadata": {
    "ExecuteTime": {
     "end_time": "2019-02-03T23:36:48.952614Z",
     "start_time": "2019-02-03T23:36:48.944296Z"
    },
    "cell_style": "split"
   },
   "outputs": [],
   "source": [
    "d_sphi = {}\n",
    "\n",
    "for j in range(len(index_sphi)):\n",
    "    k=0\n",
    "    for i in sPhi:\n",
    "        if j==range(len(index_sphi))[-1]:\n",
    "            if (i>=index_sphi[j]):\n",
    "                k+=1\n",
    "        else:\n",
    "            if (i>=index_sphi[j]) & (i<index_sphi[j+1]):\n",
    "                k+=1\n",
    "    d_sphi[index_sphi[j]]=k\n",
    "\n",
    "d_sphi"
   ]
  },
  {
   "cell_type": "code",
   "execution_count": null,
   "metadata": {
    "ExecuteTime": {
     "end_time": "2019-02-03T23:36:49.179832Z",
     "start_time": "2019-02-03T23:36:48.956428Z"
    },
    "cell_style": "split",
    "scrolled": true
   },
   "outputs": [],
   "source": [
    "plt.plot(step, sTheta, color='g',linewidth=3, marker='x')\n",
    "ax = plt.gca()\n",
    "ax.set_xticks(step)\n",
    "plt.grid()\n",
    "\n",
    "plt.title('SparsityThetaScore')"
   ]
  },
  {
   "cell_type": "code",
   "execution_count": null,
   "metadata": {
    "ExecuteTime": {
     "end_time": "2019-02-03T23:36:49.187062Z",
     "start_time": "2019-02-03T23:36:49.181836Z"
    },
    "cell_style": "split"
   },
   "outputs": [],
   "source": [
    "index_theta = []\n",
    "[index_theta.append(float(str(i)[:3])) for i in sTheta]\n",
    "    \n",
    "index_theta = list(set(index_theta))\n",
    "index_theta.sort()\n",
    "index_theta"
   ]
  },
  {
   "cell_type": "code",
   "execution_count": null,
   "metadata": {
    "ExecuteTime": {
     "end_time": "2019-02-03T23:36:49.198620Z",
     "start_time": "2019-02-03T23:36:49.189897Z"
    },
    "cell_style": "split"
   },
   "outputs": [],
   "source": [
    "d_stheta = {}\n",
    "\n",
    "for j in range(len(index_theta)):\n",
    "    k=0\n",
    "    for i in sTheta:\n",
    "        if j==range(len(index_theta))[-1]:\n",
    "            if (i>=index_theta[j]):\n",
    "                k+=1\n",
    "        else:\n",
    "            if (i>=index_theta[j]) & (i<index_theta[j+1]):\n",
    "                k+=1\n",
    "    d_stheta[index_theta[j]]=k\n",
    "\n",
    "d_stheta"
   ]
  },
  {
   "cell_type": "code",
   "execution_count": null,
   "metadata": {
    "ExecuteTime": {
     "end_time": "2019-02-03T23:36:49.426695Z",
     "start_time": "2019-02-03T23:36:49.201181Z"
    },
    "cell_style": "split"
   },
   "outputs": [],
   "source": [
    "plt.plot(step, perplexity, color='b',linewidth=3, marker='x')\n",
    "ax = plt.gca()\n",
    "ax.set_xticks(step)\n",
    "plt.grid()\n",
    "plt.title('PerplexityScore')"
   ]
  },
  {
   "cell_type": "code",
   "execution_count": null,
   "metadata": {
    "ExecuteTime": {
     "end_time": "2019-02-03T23:36:49.436545Z",
     "start_time": "2019-02-03T23:36:49.428972Z"
    },
    "cell_style": "split"
   },
   "outputs": [],
   "source": [
    "perplexity"
   ]
  },
  {
   "cell_type": "markdown",
   "metadata": {},
   "source": [
    "### select the best model"
   ]
  },
  {
   "cell_type": "code",
   "execution_count": null,
   "metadata": {
    "ExecuteTime": {
     "end_time": "2019-02-03T23:37:06.940778Z",
     "start_time": "2019-02-03T23:37:06.936624Z"
    }
   },
   "outputs": [],
   "source": [
    "print(f'd_sphi:   {d_sphi}')\n",
    "print(f'd_stheta: {d_stheta}')"
   ]
  },
  {
   "cell_type": "code",
   "execution_count": null,
   "metadata": {
    "ExecuteTime": {
     "end_time": "2019-02-03T23:37:08.106226Z",
     "start_time": "2019-02-03T23:37:08.101353Z"
    }
   },
   "outputs": [],
   "source": [
    "select_topics = 20 # u should choose number of topic\n",
    "\n",
    "best_model = model_list[select_topics-start]\n",
    "print(best_model.num_topics)"
   ]
  },
  {
   "cell_type": "markdown",
   "metadata": {},
   "source": [
    "---"
   ]
  },
  {
   "cell_type": "code",
   "execution_count": 42,
   "metadata": {
    "ExecuteTime": {
     "end_time": "2019-02-12T23:34:38.827200Z",
     "start_time": "2019-02-12T23:34:38.825166Z"
    }
   },
   "outputs": [],
   "source": [
    "select_topics = 17"
   ]
  },
  {
   "cell_type": "code",
   "execution_count": 43,
   "metadata": {
    "ExecuteTime": {
     "end_time": "2019-02-12T23:35:11.007006Z",
     "start_time": "2019-02-12T23:34:39.087526Z"
    }
   },
   "outputs": [
    {
     "data": {
      "application/vnd.jupyter.widget-view+json": {
       "model_id": "d086882db60b465693fca608c0af5a1b",
       "version_major": 2,
       "version_minor": 0
      },
      "text/plain": [
       "HBox(children=(IntProgress(value=0, description='Pass', max=5, style=ProgressStyle(description_width='initial'…"
      ]
     },
     "metadata": {},
     "output_type": "display_data"
    },
    {
     "data": {
      "application/vnd.jupyter.widget-view+json": {
       "model_id": "",
       "version_major": 2,
       "version_minor": 0
      },
      "text/plain": [
       "HBox(children=(IntProgress(value=0, description='Batch', max=84, style=ProgressStyle(description_width='initia…"
      ]
     },
     "metadata": {},
     "output_type": "display_data"
    },
    {
     "data": {
      "application/vnd.jupyter.widget-view+json": {
       "model_id": "",
       "version_major": 2,
       "version_minor": 0
      },
      "text/plain": [
       "HBox(children=(IntProgress(value=0, description='Batch', max=84, style=ProgressStyle(description_width='initia…"
      ]
     },
     "metadata": {},
     "output_type": "display_data"
    },
    {
     "data": {
      "application/vnd.jupyter.widget-view+json": {
       "model_id": "",
       "version_major": 2,
       "version_minor": 0
      },
      "text/plain": [
       "HBox(children=(IntProgress(value=0, description='Batch', max=84, style=ProgressStyle(description_width='initia…"
      ]
     },
     "metadata": {},
     "output_type": "display_data"
    },
    {
     "data": {
      "application/vnd.jupyter.widget-view+json": {
       "model_id": "",
       "version_major": 2,
       "version_minor": 0
      },
      "text/plain": [
       "HBox(children=(IntProgress(value=0, description='Batch', max=84, style=ProgressStyle(description_width='initia…"
      ]
     },
     "metadata": {},
     "output_type": "display_data"
    },
    {
     "data": {
      "application/vnd.jupyter.widget-view+json": {
       "model_id": "",
       "version_major": 2,
       "version_minor": 0
      },
      "text/plain": [
       "HBox(children=(IntProgress(value=0, description='Batch', max=84, style=ProgressStyle(description_width='initia…"
      ]
     },
     "metadata": {},
     "output_type": "display_data"
    },
    {
     "name": "stdout",
     "output_type": "stream",
     "text": [
      "\n"
     ]
    },
    {
     "data": {
      "application/vnd.jupyter.widget-view+json": {
       "model_id": "5b122ebb8ec74743ad6e17abc402bf96",
       "version_major": 2,
       "version_minor": 0
      },
      "text/plain": [
       "HBox(children=(IntProgress(value=0, description='Pass', max=15, style=ProgressStyle(description_width='initial…"
      ]
     },
     "metadata": {},
     "output_type": "display_data"
    },
    {
     "data": {
      "application/vnd.jupyter.widget-view+json": {
       "model_id": "",
       "version_major": 2,
       "version_minor": 0
      },
      "text/plain": [
       "HBox(children=(IntProgress(value=0, description='Batch', max=84, style=ProgressStyle(description_width='initia…"
      ]
     },
     "metadata": {},
     "output_type": "display_data"
    },
    {
     "data": {
      "application/vnd.jupyter.widget-view+json": {
       "model_id": "",
       "version_major": 2,
       "version_minor": 0
      },
      "text/plain": [
       "HBox(children=(IntProgress(value=0, description='Batch', max=84, style=ProgressStyle(description_width='initia…"
      ]
     },
     "metadata": {},
     "output_type": "display_data"
    },
    {
     "data": {
      "application/vnd.jupyter.widget-view+json": {
       "model_id": "",
       "version_major": 2,
       "version_minor": 0
      },
      "text/plain": [
       "HBox(children=(IntProgress(value=0, description='Batch', max=84, style=ProgressStyle(description_width='initia…"
      ]
     },
     "metadata": {},
     "output_type": "display_data"
    },
    {
     "data": {
      "application/vnd.jupyter.widget-view+json": {
       "model_id": "",
       "version_major": 2,
       "version_minor": 0
      },
      "text/plain": [
       "HBox(children=(IntProgress(value=0, description='Batch', max=84, style=ProgressStyle(description_width='initia…"
      ]
     },
     "metadata": {},
     "output_type": "display_data"
    },
    {
     "data": {
      "application/vnd.jupyter.widget-view+json": {
       "model_id": "",
       "version_major": 2,
       "version_minor": 0
      },
      "text/plain": [
       "HBox(children=(IntProgress(value=0, description='Batch', max=84, style=ProgressStyle(description_width='initia…"
      ]
     },
     "metadata": {},
     "output_type": "display_data"
    },
    {
     "data": {
      "application/vnd.jupyter.widget-view+json": {
       "model_id": "",
       "version_major": 2,
       "version_minor": 0
      },
      "text/plain": [
       "HBox(children=(IntProgress(value=0, description='Batch', max=84, style=ProgressStyle(description_width='initia…"
      ]
     },
     "metadata": {},
     "output_type": "display_data"
    },
    {
     "data": {
      "application/vnd.jupyter.widget-view+json": {
       "model_id": "",
       "version_major": 2,
       "version_minor": 0
      },
      "text/plain": [
       "HBox(children=(IntProgress(value=0, description='Batch', max=84, style=ProgressStyle(description_width='initia…"
      ]
     },
     "metadata": {},
     "output_type": "display_data"
    },
    {
     "data": {
      "application/vnd.jupyter.widget-view+json": {
       "model_id": "",
       "version_major": 2,
       "version_minor": 0
      },
      "text/plain": [
       "HBox(children=(IntProgress(value=0, description='Batch', max=84, style=ProgressStyle(description_width='initia…"
      ]
     },
     "metadata": {},
     "output_type": "display_data"
    },
    {
     "data": {
      "application/vnd.jupyter.widget-view+json": {
       "model_id": "",
       "version_major": 2,
       "version_minor": 0
      },
      "text/plain": [
       "HBox(children=(IntProgress(value=0, description='Batch', max=84, style=ProgressStyle(description_width='initia…"
      ]
     },
     "metadata": {},
     "output_type": "display_data"
    },
    {
     "data": {
      "application/vnd.jupyter.widget-view+json": {
       "model_id": "",
       "version_major": 2,
       "version_minor": 0
      },
      "text/plain": [
       "HBox(children=(IntProgress(value=0, description='Batch', max=84, style=ProgressStyle(description_width='initia…"
      ]
     },
     "metadata": {},
     "output_type": "display_data"
    },
    {
     "data": {
      "application/vnd.jupyter.widget-view+json": {
       "model_id": "",
       "version_major": 2,
       "version_minor": 0
      },
      "text/plain": [
       "HBox(children=(IntProgress(value=0, description='Batch', max=84, style=ProgressStyle(description_width='initia…"
      ]
     },
     "metadata": {},
     "output_type": "display_data"
    },
    {
     "data": {
      "application/vnd.jupyter.widget-view+json": {
       "model_id": "",
       "version_major": 2,
       "version_minor": 0
      },
      "text/plain": [
       "HBox(children=(IntProgress(value=0, description='Batch', max=84, style=ProgressStyle(description_width='initia…"
      ]
     },
     "metadata": {},
     "output_type": "display_data"
    },
    {
     "data": {
      "application/vnd.jupyter.widget-view+json": {
       "model_id": "",
       "version_major": 2,
       "version_minor": 0
      },
      "text/plain": [
       "HBox(children=(IntProgress(value=0, description='Batch', max=84, style=ProgressStyle(description_width='initia…"
      ]
     },
     "metadata": {},
     "output_type": "display_data"
    },
    {
     "data": {
      "application/vnd.jupyter.widget-view+json": {
       "model_id": "",
       "version_major": 2,
       "version_minor": 0
      },
      "text/plain": [
       "HBox(children=(IntProgress(value=0, description='Batch', max=84, style=ProgressStyle(description_width='initia…"
      ]
     },
     "metadata": {},
     "output_type": "display_data"
    },
    {
     "data": {
      "application/vnd.jupyter.widget-view+json": {
       "model_id": "",
       "version_major": 2,
       "version_minor": 0
      },
      "text/plain": [
       "HBox(children=(IntProgress(value=0, description='Batch', max=84, style=ProgressStyle(description_width='initia…"
      ]
     },
     "metadata": {},
     "output_type": "display_data"
    },
    {
     "name": "stdout",
     "output_type": "stream",
     "text": [
      "\n"
     ]
    },
    {
     "data": {
      "application/vnd.jupyter.widget-view+json": {
       "model_id": "c201085ab78b4486a30e0fd33ff93866",
       "version_major": 2,
       "version_minor": 0
      },
      "text/plain": [
       "HBox(children=(IntProgress(value=0, description='Pass', max=15, style=ProgressStyle(description_width='initial…"
      ]
     },
     "metadata": {},
     "output_type": "display_data"
    },
    {
     "data": {
      "application/vnd.jupyter.widget-view+json": {
       "model_id": "",
       "version_major": 2,
       "version_minor": 0
      },
      "text/plain": [
       "HBox(children=(IntProgress(value=0, description='Batch', max=84, style=ProgressStyle(description_width='initia…"
      ]
     },
     "metadata": {},
     "output_type": "display_data"
    },
    {
     "data": {
      "application/vnd.jupyter.widget-view+json": {
       "model_id": "",
       "version_major": 2,
       "version_minor": 0
      },
      "text/plain": [
       "HBox(children=(IntProgress(value=0, description='Batch', max=84, style=ProgressStyle(description_width='initia…"
      ]
     },
     "metadata": {},
     "output_type": "display_data"
    },
    {
     "data": {
      "application/vnd.jupyter.widget-view+json": {
       "model_id": "",
       "version_major": 2,
       "version_minor": 0
      },
      "text/plain": [
       "HBox(children=(IntProgress(value=0, description='Batch', max=84, style=ProgressStyle(description_width='initia…"
      ]
     },
     "metadata": {},
     "output_type": "display_data"
    },
    {
     "data": {
      "application/vnd.jupyter.widget-view+json": {
       "model_id": "",
       "version_major": 2,
       "version_minor": 0
      },
      "text/plain": [
       "HBox(children=(IntProgress(value=0, description='Batch', max=84, style=ProgressStyle(description_width='initia…"
      ]
     },
     "metadata": {},
     "output_type": "display_data"
    },
    {
     "data": {
      "application/vnd.jupyter.widget-view+json": {
       "model_id": "",
       "version_major": 2,
       "version_minor": 0
      },
      "text/plain": [
       "HBox(children=(IntProgress(value=0, description='Batch', max=84, style=ProgressStyle(description_width='initia…"
      ]
     },
     "metadata": {},
     "output_type": "display_data"
    },
    {
     "data": {
      "application/vnd.jupyter.widget-view+json": {
       "model_id": "",
       "version_major": 2,
       "version_minor": 0
      },
      "text/plain": [
       "HBox(children=(IntProgress(value=0, description='Batch', max=84, style=ProgressStyle(description_width='initia…"
      ]
     },
     "metadata": {},
     "output_type": "display_data"
    },
    {
     "data": {
      "application/vnd.jupyter.widget-view+json": {
       "model_id": "",
       "version_major": 2,
       "version_minor": 0
      },
      "text/plain": [
       "HBox(children=(IntProgress(value=0, description='Batch', max=84, style=ProgressStyle(description_width='initia…"
      ]
     },
     "metadata": {},
     "output_type": "display_data"
    },
    {
     "data": {
      "application/vnd.jupyter.widget-view+json": {
       "model_id": "",
       "version_major": 2,
       "version_minor": 0
      },
      "text/plain": [
       "HBox(children=(IntProgress(value=0, description='Batch', max=84, style=ProgressStyle(description_width='initia…"
      ]
     },
     "metadata": {},
     "output_type": "display_data"
    },
    {
     "data": {
      "application/vnd.jupyter.widget-view+json": {
       "model_id": "",
       "version_major": 2,
       "version_minor": 0
      },
      "text/plain": [
       "HBox(children=(IntProgress(value=0, description='Batch', max=84, style=ProgressStyle(description_width='initia…"
      ]
     },
     "metadata": {},
     "output_type": "display_data"
    },
    {
     "data": {
      "application/vnd.jupyter.widget-view+json": {
       "model_id": "",
       "version_major": 2,
       "version_minor": 0
      },
      "text/plain": [
       "HBox(children=(IntProgress(value=0, description='Batch', max=84, style=ProgressStyle(description_width='initia…"
      ]
     },
     "metadata": {},
     "output_type": "display_data"
    },
    {
     "data": {
      "application/vnd.jupyter.widget-view+json": {
       "model_id": "",
       "version_major": 2,
       "version_minor": 0
      },
      "text/plain": [
       "HBox(children=(IntProgress(value=0, description='Batch', max=84, style=ProgressStyle(description_width='initia…"
      ]
     },
     "metadata": {},
     "output_type": "display_data"
    },
    {
     "data": {
      "application/vnd.jupyter.widget-view+json": {
       "model_id": "",
       "version_major": 2,
       "version_minor": 0
      },
      "text/plain": [
       "HBox(children=(IntProgress(value=0, description='Batch', max=84, style=ProgressStyle(description_width='initia…"
      ]
     },
     "metadata": {},
     "output_type": "display_data"
    },
    {
     "data": {
      "application/vnd.jupyter.widget-view+json": {
       "model_id": "",
       "version_major": 2,
       "version_minor": 0
      },
      "text/plain": [
       "HBox(children=(IntProgress(value=0, description='Batch', max=84, style=ProgressStyle(description_width='initia…"
      ]
     },
     "metadata": {},
     "output_type": "display_data"
    },
    {
     "data": {
      "application/vnd.jupyter.widget-view+json": {
       "model_id": "",
       "version_major": 2,
       "version_minor": 0
      },
      "text/plain": [
       "HBox(children=(IntProgress(value=0, description='Batch', max=84, style=ProgressStyle(description_width='initia…"
      ]
     },
     "metadata": {},
     "output_type": "display_data"
    },
    {
     "data": {
      "application/vnd.jupyter.widget-view+json": {
       "model_id": "",
       "version_major": 2,
       "version_minor": 0
      },
      "text/plain": [
       "HBox(children=(IntProgress(value=0, description='Batch', max=84, style=ProgressStyle(description_width='initia…"
      ]
     },
     "metadata": {},
     "output_type": "display_data"
    },
    {
     "name": "stdout",
     "output_type": "stream",
     "text": [
      "\n",
      "\tSparsityThetaScore: 0.6766297817230225\n",
      "\tSparsityPhiScore: 0.855095386505127\n",
      "\tPerplexityScore: 2171.374267578125\n"
     ]
    }
   ],
   "source": [
    "num_topics = select_topics\n",
    "model = artm.ARTM(num_topics=num_topics, dictionary=dictionary, show_progress_bars=True)\n",
    "\n",
    "# scores\n",
    "model.scores.add(artm.PerplexityScore(name='PerplexityScore', dictionary=dictionary))\n",
    "model.scores.add(artm.SparsityThetaScore(name='SparsityThetaScore'))\n",
    "model.scores.add(artm.SparsityPhiScore(name='SparsityPhiScore'))\n",
    "\n",
    "# 1st regularizer\n",
    "model.regularizers.add(artm.SmoothSparsePhiRegularizer(name='SparsePhi', tau=-1.0)) #-0.1\n",
    "model.fit_offline(batch_vectorizer=batch_vectorizer, num_collection_passes=5)\n",
    "\n",
    "# 2st regularizer\n",
    "model.regularizers.add(artm.SmoothSparseThetaRegularizer(name='SparseTheta', tau=-0.5))\n",
    "model.fit_offline(batch_vectorizer=batch_vectorizer, num_collection_passes=15)\n",
    "\n",
    "# 3st regularizer\n",
    "model.regularizers.add(artm.DecorrelatorPhiRegularizer(name='DecorrelatorPhi', tau=1.5e+5))\n",
    "model.fit_offline(batch_vectorizer=batch_vectorizer, num_collection_passes=15)\n",
    "\n",
    "sparsityTheta = model.score_tracker['SparsityThetaScore'].last_value\n",
    "sparsityPhi = model.score_tracker['SparsityPhiScore'].last_value\n",
    "perpl = model.score_tracker['PerplexityScore'].last_value\n",
    "\n",
    "print(f'\\tSparsityThetaScore: {sparsityTheta}')\n",
    "print(f'\\tSparsityPhiScore: {sparsityPhi}')\n",
    "print(f'\\tPerplexityScore: {perpl}')"
   ]
  },
  {
   "cell_type": "code",
   "execution_count": 44,
   "metadata": {
    "ExecuteTime": {
     "end_time": "2019-02-12T23:35:13.519959Z",
     "start_time": "2019-02-12T23:35:13.464115Z"
    }
   },
   "outputs": [
    {
     "data": {
      "text/plain": [
       "17"
      ]
     },
     "execution_count": 44,
     "metadata": {},
     "output_type": "execute_result"
    }
   ],
   "source": [
    "best_model = model.clone()\n",
    "best_model.num_topics"
   ]
  },
  {
   "cell_type": "markdown",
   "metadata": {},
   "source": [
    "---"
   ]
  },
  {
   "cell_type": "markdown",
   "metadata": {
    "ExecuteTime": {
     "end_time": "2019-02-01T00:14:02.339878Z",
     "start_time": "2019-02-01T00:14:02.338133Z"
    }
   },
   "source": [
    "### print top words for each topics"
   ]
  },
  {
   "cell_type": "code",
   "execution_count": 45,
   "metadata": {
    "ExecuteTime": {
     "end_time": "2019-02-12T23:35:35.622211Z",
     "start_time": "2019-02-12T23:35:35.460784Z"
    }
   },
   "outputs": [
    {
     "name": "stdout",
     "output_type": "stream",
     "text": [
      "topic_0: ['землетрясение' 'остров' 'япония' 'судно' 'японский' 'китайский' 'судный'\n",
      " 'километр' 'китай' 'экипаж']\n",
      "topic_1: ['партия' 'трамп' 'выбор' 'пост' 'дональд_трамп' 'кандидат'\n",
      " 'президентский' 'парламент' 'голос' 'выборы']\n",
      "topic_2: ['ес' 'украина' 'европейский' 'германия' 'европа' 'совет' 'евросоюз'\n",
      " 'великобритания' 'брюссель' 'соглашение']\n",
      "topic_3: ['самолёт' 'корабль' 'полёт' 'нато' 'ввс' 'воздушный' 'оборона' 'база'\n",
      " 'вмс' 'граница']\n",
      "topic_4: ['миллион' 'санкция' 'случай' 'миллиард' 'список' 'ввести' 'финансовый'\n",
      " 'запрет' 'новый' 'помощь']\n",
      "topic_5: ['корея' 'кндр' 'южный' 'ракета' 'северный' 'ядерный' 'китай' 'пхеньян'\n",
      " 'северокорейский' 'южнокорейский']\n",
      "topic_6: ['подчеркнуть' 'проблема' 'иф' 'хотеть' 'добавить' 'ситуация' 'встреча'\n",
      " 'очень' 'москва' 'важный']\n",
      "topic_7: ['расследование' 'великобритания' 'сотрудник' 'бывший' 'издание'\n",
      " 'обвинение' 'спецслужба' 'саудовский' 'документ' 'разведка']\n",
      "topic_8: ['оон' 'мид' 'посольство' 'резолюция' 'оружие' 'дипломат' 'совет' 'посол'\n",
      " 'москва' 'химический']\n",
      "topic_9: ['взрыв' 'самолёт' 'аэропорт' 'погибший' 'место' 'пассажир' 'пострадавший'\n",
      " 'жертва' 'причина' 'ранение']\n",
      "topic_10: ['турция' 'группировка' 'ирак' 'турецкий' 'иго' 'исламский' 'боевик'\n",
      " 'афганистан' 'операция' 'террористический']\n",
      "topic_11: ['протест' 'сирийский' 'оппозиция' 'акция' 'столкновение' 'демонстрант'\n",
      " 'участник' 'беспорядок' 'демонстрация' 'столица']\n",
      "topic_12: ['иран' 'израиль' 'переговоры' 'иранский' 'израильский' 'ядерный'\n",
      " 'соглашение' 'газа' 'встреча' 'палестинский']\n",
      "topic_13: ['нато' 'обвинение' 'бывший' 'тюрьма' 'право' 'заключение' 'признать'\n",
      " 'альянс' 'судебный' 'обвинять']\n",
      "topic_14: ['сирийский' 'удар' 'провинция' 'пункт' 'боевик' 'алеппо' 'гуманитарный'\n",
      " 'населить' 'армия' 'вооружённый']\n",
      "topic_15: ['франция' 'французский' 'задержать' 'полицейский' 'теракт' 'мужчина'\n",
      " 'летний' 'нападение' 'ребёнок' 'женщина']\n",
      "topic_16: ['штат' 'изз' 'испания' 'италия' 'итальянский' 'житель' 'дом' 'испанский'\n",
      " 'каталония' 'ураган']\n"
     ]
    }
   ],
   "source": [
    "phi = best_model.get_phi()\n",
    "phi['word'] = phi.index\n",
    "#phi.head()\n",
    "\n",
    "for col in phi.columns:\n",
    "    if col != 'word':\n",
    "        print(f\"{col}: {phi[[col, 'word']].sort_values(by=col, ascending=False)['word'].values[:10]}\")\n",
    "        #print('\\t',phi[[col, 'word']].sort_values(by=col, ascending=False)['word'].values[:10])"
   ]
  },
  {
   "cell_type": "code",
   "execution_count": null,
   "metadata": {},
   "outputs": [],
   "source": []
  },
  {
   "cell_type": "markdown",
   "metadata": {},
   "source": [
    "### get topics-docs matrix"
   ]
  },
  {
   "cell_type": "code",
   "execution_count": 46,
   "metadata": {
    "ExecuteTime": {
     "end_time": "2019-02-12T23:35:40.559749Z",
     "start_time": "2019-02-12T23:35:39.393573Z"
    }
   },
   "outputs": [
    {
     "data": {
      "application/vnd.jupyter.widget-view+json": {
       "model_id": "",
       "version_major": 2,
       "version_minor": 0
      },
      "text/plain": [
       "HBox(children=(IntProgress(value=0, description='Batch', max=84, style=ProgressStyle(description_width='initia…"
      ]
     },
     "metadata": {},
     "output_type": "display_data"
    },
    {
     "name": "stdout",
     "output_type": "stream",
     "text": [
      "\r",
      "shape theta: (17, 83321)\n"
     ]
    },
    {
     "data": {
      "image/png": "[encoded data removed]",
      "text/plain": [
       "<Figure size 1440x1440 with 1 Axes>"
      ]
     },
     "metadata": {
      "needs_background": "light"
     },
     "output_type": "display_data"
    }
   ],
   "source": [
    "theta = best_model.transform_sparse(batch_vectorizer=batch_vectorizer, eps=0.001)\n",
    "print(f'shape theta: {theta[0].shape}')\n",
    "\n",
    "plt.figure(figsize=(20, 20))\n",
    "plt.imshow(theta[0][:, 2000:2500].toarray());"
   ]
  },
  {
   "cell_type": "code",
   "execution_count": null,
   "metadata": {},
   "outputs": [],
   "source": []
  },
  {
   "cell_type": "markdown",
   "metadata": {},
   "source": [
    "### dense theta matrix"
   ]
  },
  {
   "cell_type": "code",
   "execution_count": 47,
   "metadata": {
    "ExecuteTime": {
     "end_time": "2019-02-12T23:35:43.337313Z",
     "start_time": "2019-02-12T23:35:42.659607Z"
    }
   },
   "outputs": [
    {
     "data": {
      "application/vnd.jupyter.widget-view+json": {
       "model_id": "",
       "version_major": 2,
       "version_minor": 0
      },
      "text/plain": [
       "HBox(children=(IntProgress(value=0, description='Batch', max=84, style=ProgressStyle(description_width='initia…"
      ]
     },
     "metadata": {},
     "output_type": "display_data"
    },
    {
     "name": "stdout",
     "output_type": "stream",
     "text": [
      "\r"
     ]
    },
    {
     "data": {
      "text/html": [
       "<div>\n",
       "<style scoped>\n",
       "    .dataframe tbody tr th:only-of-type {\n",
       "        vertical-align: middle;\n",
       "    }\n",
       "\n",
       "    .dataframe tbody tr th {\n",
       "        vertical-align: top;\n",
       "    }\n",
       "\n",
       "    .dataframe thead th {\n",
       "        text-align: right;\n",
       "    }\n",
       "</style>\n",
       "<table border=\"1\" class=\"dataframe\">\n",
       "  <thead>\n",
       "    <tr style=\"text-align: right;\">\n",
       "      <th></th>\n",
       "      <th>topic_0</th>\n",
       "      <th>topic_1</th>\n",
       "      <th>topic_2</th>\n",
       "      <th>topic_3</th>\n",
       "      <th>topic_4</th>\n",
       "      <th>topic_5</th>\n",
       "      <th>topic_6</th>\n",
       "      <th>topic_7</th>\n",
       "      <th>topic_8</th>\n",
       "      <th>topic_9</th>\n",
       "      <th>topic_10</th>\n",
       "      <th>topic_11</th>\n",
       "      <th>topic_12</th>\n",
       "      <th>topic_13</th>\n",
       "      <th>topic_14</th>\n",
       "      <th>topic_15</th>\n",
       "      <th>topic_16</th>\n",
       "    </tr>\n",
       "  </thead>\n",
       "  <tbody>\n",
       "    <tr>\n",
       "      <th>1000</th>\n",
       "      <td>0.00000</td>\n",
       "      <td>0.000000</td>\n",
       "      <td>0.0</td>\n",
       "      <td>0.0</td>\n",
       "      <td>0.000000</td>\n",
       "      <td>0.000000</td>\n",
       "      <td>0.061938</td>\n",
       "      <td>0.000000</td>\n",
       "      <td>0.000000</td>\n",
       "      <td>0.000000</td>\n",
       "      <td>0.0</td>\n",
       "      <td>0.0</td>\n",
       "      <td>0.748309</td>\n",
       "      <td>0.000000</td>\n",
       "      <td>0.189754</td>\n",
       "      <td>0.000000</td>\n",
       "      <td>0.00000</td>\n",
       "    </tr>\n",
       "    <tr>\n",
       "      <th>1001</th>\n",
       "      <td>0.00000</td>\n",
       "      <td>0.000000</td>\n",
       "      <td>0.0</td>\n",
       "      <td>0.0</td>\n",
       "      <td>0.000000</td>\n",
       "      <td>0.794924</td>\n",
       "      <td>0.000000</td>\n",
       "      <td>0.099766</td>\n",
       "      <td>0.105309</td>\n",
       "      <td>0.000000</td>\n",
       "      <td>0.0</td>\n",
       "      <td>0.0</td>\n",
       "      <td>0.000000</td>\n",
       "      <td>0.000000</td>\n",
       "      <td>0.000000</td>\n",
       "      <td>0.000000</td>\n",
       "      <td>0.00000</td>\n",
       "    </tr>\n",
       "    <tr>\n",
       "      <th>1002</th>\n",
       "      <td>0.04213</td>\n",
       "      <td>0.000000</td>\n",
       "      <td>0.0</td>\n",
       "      <td>0.0</td>\n",
       "      <td>0.040718</td>\n",
       "      <td>0.000000</td>\n",
       "      <td>0.103612</td>\n",
       "      <td>0.015686</td>\n",
       "      <td>0.000000</td>\n",
       "      <td>0.050252</td>\n",
       "      <td>0.0</td>\n",
       "      <td>0.0</td>\n",
       "      <td>0.050809</td>\n",
       "      <td>0.000000</td>\n",
       "      <td>0.000000</td>\n",
       "      <td>0.376552</td>\n",
       "      <td>0.32024</td>\n",
       "    </tr>\n",
       "    <tr>\n",
       "      <th>1003</th>\n",
       "      <td>0.00000</td>\n",
       "      <td>0.778902</td>\n",
       "      <td>0.0</td>\n",
       "      <td>0.0</td>\n",
       "      <td>0.000000</td>\n",
       "      <td>0.000000</td>\n",
       "      <td>0.068119</td>\n",
       "      <td>0.000000</td>\n",
       "      <td>0.000000</td>\n",
       "      <td>0.000000</td>\n",
       "      <td>0.0</td>\n",
       "      <td>0.0</td>\n",
       "      <td>0.125237</td>\n",
       "      <td>0.000000</td>\n",
       "      <td>0.027742</td>\n",
       "      <td>0.000000</td>\n",
       "      <td>0.00000</td>\n",
       "    </tr>\n",
       "    <tr>\n",
       "      <th>1004</th>\n",
       "      <td>0.00000</td>\n",
       "      <td>0.381670</td>\n",
       "      <td>0.0</td>\n",
       "      <td>0.0</td>\n",
       "      <td>0.097835</td>\n",
       "      <td>0.000000</td>\n",
       "      <td>0.198867</td>\n",
       "      <td>0.159424</td>\n",
       "      <td>0.038356</td>\n",
       "      <td>0.000000</td>\n",
       "      <td>0.0</td>\n",
       "      <td>0.0</td>\n",
       "      <td>0.000000</td>\n",
       "      <td>0.123848</td>\n",
       "      <td>0.000000</td>\n",
       "      <td>0.000000</td>\n",
       "      <td>0.00000</td>\n",
       "    </tr>\n",
       "  </tbody>\n",
       "</table>\n",
       "</div>"
      ],
      "text/plain": [
       "      topic_0   topic_1  topic_2  topic_3   topic_4   topic_5   topic_6  \\\n",
       "1000  0.00000  0.000000      0.0      0.0  0.000000  0.000000  0.061938   \n",
       "1001  0.00000  0.000000      0.0      0.0  0.000000  0.794924  0.000000   \n",
       "1002  0.04213  0.000000      0.0      0.0  0.040718  0.000000  0.103612   \n",
       "1003  0.00000  0.778902      0.0      0.0  0.000000  0.000000  0.068119   \n",
       "1004  0.00000  0.381670      0.0      0.0  0.097835  0.000000  0.198867   \n",
       "\n",
       "       topic_7   topic_8   topic_9  topic_10  topic_11  topic_12  topic_13  \\\n",
       "1000  0.000000  0.000000  0.000000       0.0       0.0  0.748309  0.000000   \n",
       "1001  0.099766  0.105309  0.000000       0.0       0.0  0.000000  0.000000   \n",
       "1002  0.015686  0.000000  0.050252       0.0       0.0  0.050809  0.000000   \n",
       "1003  0.000000  0.000000  0.000000       0.0       0.0  0.125237  0.000000   \n",
       "1004  0.159424  0.038356  0.000000       0.0       0.0  0.000000  0.123848   \n",
       "\n",
       "      topic_14  topic_15  topic_16  \n",
       "1000  0.189754  0.000000   0.00000  \n",
       "1001  0.000000  0.000000   0.00000  \n",
       "1002  0.000000  0.376552   0.32024  \n",
       "1003  0.027742  0.000000   0.00000  \n",
       "1004  0.000000  0.000000   0.00000  "
      ]
     },
     "execution_count": 47,
     "metadata": {},
     "output_type": "execute_result"
    }
   ],
   "source": [
    "theta = best_model.transform(batch_vectorizer=batch_vectorizer)\n",
    "theta = theta.T\n",
    "theta.head()"
   ]
  },
  {
   "cell_type": "code",
   "execution_count": null,
   "metadata": {},
   "outputs": [],
   "source": []
  },
  {
   "cell_type": "markdown",
   "metadata": {},
   "source": [
    "## DataViz"
   ]
  },
  {
   "cell_type": "code",
   "execution_count": 48,
   "metadata": {
    "ExecuteTime": {
     "end_time": "2019-02-12T23:35:46.549797Z",
     "start_time": "2019-02-12T23:35:46.530215Z"
    }
   },
   "outputs": [
    {
     "data": {
      "text/html": [
       "<div>\n",
       "<style scoped>\n",
       "    .dataframe tbody tr th:only-of-type {\n",
       "        vertical-align: middle;\n",
       "    }\n",
       "\n",
       "    .dataframe tbody tr th {\n",
       "        vertical-align: top;\n",
       "    }\n",
       "\n",
       "    .dataframe thead th {\n",
       "        text-align: right;\n",
       "    }\n",
       "</style>\n",
       "<table border=\"1\" class=\"dataframe\">\n",
       "  <thead>\n",
       "    <tr style=\"text-align: right;\">\n",
       "      <th></th>\n",
       "      <th>docID</th>\n",
       "      <th>year</th>\n",
       "      <th>month</th>\n",
       "      <th>topic_0</th>\n",
       "      <th>topic_1</th>\n",
       "      <th>topic_2</th>\n",
       "      <th>topic_3</th>\n",
       "      <th>topic_4</th>\n",
       "      <th>topic_5</th>\n",
       "      <th>topic_6</th>\n",
       "      <th>topic_7</th>\n",
       "      <th>topic_8</th>\n",
       "      <th>topic_9</th>\n",
       "      <th>topic_10</th>\n",
       "      <th>topic_11</th>\n",
       "      <th>topic_12</th>\n",
       "      <th>topic_13</th>\n",
       "      <th>topic_14</th>\n",
       "      <th>topic_15</th>\n",
       "      <th>topic_16</th>\n",
       "    </tr>\n",
       "  </thead>\n",
       "  <tbody>\n",
       "    <tr>\n",
       "      <th>0</th>\n",
       "      <td>0</td>\n",
       "      <td>2008</td>\n",
       "      <td>2</td>\n",
       "      <td>0.000000</td>\n",
       "      <td>0.896131</td>\n",
       "      <td>0.0</td>\n",
       "      <td>0.0000</td>\n",
       "      <td>0.000000</td>\n",
       "      <td>0.000000</td>\n",
       "      <td>0.000000</td>\n",
       "      <td>0.000000</td>\n",
       "      <td>0.000000</td>\n",
       "      <td>0.000000</td>\n",
       "      <td>0.000000</td>\n",
       "      <td>0.020551</td>\n",
       "      <td>0.0</td>\n",
       "      <td>0.000000</td>\n",
       "      <td>0.0</td>\n",
       "      <td>0.000000</td>\n",
       "      <td>0.083318</td>\n",
       "    </tr>\n",
       "    <tr>\n",
       "      <th>1</th>\n",
       "      <td>1</td>\n",
       "      <td>2008</td>\n",
       "      <td>2</td>\n",
       "      <td>0.000000</td>\n",
       "      <td>0.000000</td>\n",
       "      <td>0.0</td>\n",
       "      <td>0.0000</td>\n",
       "      <td>0.000000</td>\n",
       "      <td>0.000000</td>\n",
       "      <td>0.437453</td>\n",
       "      <td>0.000000</td>\n",
       "      <td>0.000000</td>\n",
       "      <td>0.000000</td>\n",
       "      <td>0.385207</td>\n",
       "      <td>0.103588</td>\n",
       "      <td>0.0</td>\n",
       "      <td>0.000000</td>\n",
       "      <td>0.0</td>\n",
       "      <td>0.047002</td>\n",
       "      <td>0.026750</td>\n",
       "    </tr>\n",
       "    <tr>\n",
       "      <th>2</th>\n",
       "      <td>2</td>\n",
       "      <td>2008</td>\n",
       "      <td>2</td>\n",
       "      <td>0.000000</td>\n",
       "      <td>0.730216</td>\n",
       "      <td>0.0</td>\n",
       "      <td>0.0000</td>\n",
       "      <td>0.084504</td>\n",
       "      <td>0.000000</td>\n",
       "      <td>0.148614</td>\n",
       "      <td>0.001143</td>\n",
       "      <td>0.000000</td>\n",
       "      <td>0.000000</td>\n",
       "      <td>0.003306</td>\n",
       "      <td>0.018500</td>\n",
       "      <td>0.0</td>\n",
       "      <td>0.000000</td>\n",
       "      <td>0.0</td>\n",
       "      <td>0.000000</td>\n",
       "      <td>0.013718</td>\n",
       "    </tr>\n",
       "    <tr>\n",
       "      <th>3</th>\n",
       "      <td>3</td>\n",
       "      <td>2008</td>\n",
       "      <td>2</td>\n",
       "      <td>0.072363</td>\n",
       "      <td>0.027139</td>\n",
       "      <td>0.0</td>\n",
       "      <td>0.0176</td>\n",
       "      <td>0.000000</td>\n",
       "      <td>0.084604</td>\n",
       "      <td>0.141986</td>\n",
       "      <td>0.064175</td>\n",
       "      <td>0.016575</td>\n",
       "      <td>0.042111</td>\n",
       "      <td>0.108072</td>\n",
       "      <td>0.038602</td>\n",
       "      <td>0.0</td>\n",
       "      <td>0.194688</td>\n",
       "      <td>0.0</td>\n",
       "      <td>0.192084</td>\n",
       "      <td>0.000000</td>\n",
       "    </tr>\n",
       "    <tr>\n",
       "      <th>4</th>\n",
       "      <td>4</td>\n",
       "      <td>2008</td>\n",
       "      <td>2</td>\n",
       "      <td>0.000000</td>\n",
       "      <td>0.087549</td>\n",
       "      <td>0.0</td>\n",
       "      <td>0.0000</td>\n",
       "      <td>0.000000</td>\n",
       "      <td>0.000000</td>\n",
       "      <td>0.276949</td>\n",
       "      <td>0.000000</td>\n",
       "      <td>0.114875</td>\n",
       "      <td>0.000000</td>\n",
       "      <td>0.000000</td>\n",
       "      <td>0.000000</td>\n",
       "      <td>0.0</td>\n",
       "      <td>0.473218</td>\n",
       "      <td>0.0</td>\n",
       "      <td>0.000000</td>\n",
       "      <td>0.047409</td>\n",
       "    </tr>\n",
       "  </tbody>\n",
       "</table>\n",
       "</div>"
      ],
      "text/plain": [
       "   docID  year  month   topic_0   topic_1  topic_2  topic_3   topic_4  \\\n",
       "0      0  2008      2  0.000000  0.896131      0.0   0.0000  0.000000   \n",
       "1      1  2008      2  0.000000  0.000000      0.0   0.0000  0.000000   \n",
       "2      2  2008      2  0.000000  0.730216      0.0   0.0000  0.084504   \n",
       "3      3  2008      2  0.072363  0.027139      0.0   0.0176  0.000000   \n",
       "4      4  2008      2  0.000000  0.087549      0.0   0.0000  0.000000   \n",
       "\n",
       "    topic_5   topic_6   topic_7   topic_8   topic_9  topic_10  topic_11  \\\n",
       "0  0.000000  0.000000  0.000000  0.000000  0.000000  0.000000  0.020551   \n",
       "1  0.000000  0.437453  0.000000  0.000000  0.000000  0.385207  0.103588   \n",
       "2  0.000000  0.148614  0.001143  0.000000  0.000000  0.003306  0.018500   \n",
       "3  0.084604  0.141986  0.064175  0.016575  0.042111  0.108072  0.038602   \n",
       "4  0.000000  0.276949  0.000000  0.114875  0.000000  0.000000  0.000000   \n",
       "\n",
       "   topic_12  topic_13  topic_14  topic_15  topic_16  \n",
       "0       0.0  0.000000       0.0  0.000000  0.083318  \n",
       "1       0.0  0.000000       0.0  0.047002  0.026750  \n",
       "2       0.0  0.000000       0.0  0.000000  0.013718  \n",
       "3       0.0  0.194688       0.0  0.192084  0.000000  \n",
       "4       0.0  0.473218       0.0  0.000000  0.047409  "
      ]
     },
     "execution_count": 48,
     "metadata": {},
     "output_type": "execute_result"
    }
   ],
   "source": [
    "joined = id_date.join(theta)\n",
    "joined.head()"
   ]
  },
  {
   "cell_type": "code",
   "execution_count": 49,
   "metadata": {
    "ExecuteTime": {
     "end_time": "2019-02-12T23:35:46.576995Z",
     "start_time": "2019-02-12T23:35:46.551354Z"
    }
   },
   "outputs": [
    {
     "name": "stdout",
     "output_type": "stream",
     "text": [
      "gb.shape: (132, 17)\n"
     ]
    },
    {
     "data": {
      "text/html": [
       "<div>\n",
       "<style scoped>\n",
       "    .dataframe tbody tr th:only-of-type {\n",
       "        vertical-align: middle;\n",
       "    }\n",
       "\n",
       "    .dataframe tbody tr th {\n",
       "        vertical-align: top;\n",
       "    }\n",
       "\n",
       "    .dataframe thead th {\n",
       "        text-align: right;\n",
       "    }\n",
       "</style>\n",
       "<table border=\"1\" class=\"dataframe\">\n",
       "  <thead>\n",
       "    <tr style=\"text-align: right;\">\n",
       "      <th></th>\n",
       "      <th></th>\n",
       "      <th>topic_0</th>\n",
       "      <th>topic_1</th>\n",
       "      <th>topic_2</th>\n",
       "      <th>topic_3</th>\n",
       "      <th>topic_4</th>\n",
       "      <th>topic_5</th>\n",
       "      <th>topic_6</th>\n",
       "      <th>topic_7</th>\n",
       "      <th>topic_8</th>\n",
       "      <th>topic_9</th>\n",
       "      <th>topic_10</th>\n",
       "      <th>topic_11</th>\n",
       "      <th>topic_12</th>\n",
       "      <th>topic_13</th>\n",
       "      <th>topic_14</th>\n",
       "      <th>topic_15</th>\n",
       "      <th>topic_16</th>\n",
       "    </tr>\n",
       "    <tr>\n",
       "      <th>year</th>\n",
       "      <th>month</th>\n",
       "      <th></th>\n",
       "      <th></th>\n",
       "      <th></th>\n",
       "      <th></th>\n",
       "      <th></th>\n",
       "      <th></th>\n",
       "      <th></th>\n",
       "      <th></th>\n",
       "      <th></th>\n",
       "      <th></th>\n",
       "      <th></th>\n",
       "      <th></th>\n",
       "      <th></th>\n",
       "      <th></th>\n",
       "      <th></th>\n",
       "      <th></th>\n",
       "      <th></th>\n",
       "    </tr>\n",
       "  </thead>\n",
       "  <tbody>\n",
       "    <tr>\n",
       "      <th rowspan=\"5\" valign=\"top\">2008</th>\n",
       "      <th>2</th>\n",
       "      <td>8.179199</td>\n",
       "      <td>16.516285</td>\n",
       "      <td>13.092167</td>\n",
       "      <td>4.357880</td>\n",
       "      <td>3.893012</td>\n",
       "      <td>4.856283</td>\n",
       "      <td>20.093887</td>\n",
       "      <td>8.312083</td>\n",
       "      <td>19.245304</td>\n",
       "      <td>18.904638</td>\n",
       "      <td>10.635338</td>\n",
       "      <td>10.580479</td>\n",
       "      <td>7.026897</td>\n",
       "      <td>22.809958</td>\n",
       "      <td>3.910734</td>\n",
       "      <td>17.466988</td>\n",
       "      <td>11.118870</td>\n",
       "    </tr>\n",
       "    <tr>\n",
       "      <th>3</th>\n",
       "      <td>16.274590</td>\n",
       "      <td>39.991135</td>\n",
       "      <td>33.744358</td>\n",
       "      <td>11.809440</td>\n",
       "      <td>23.156374</td>\n",
       "      <td>15.451864</td>\n",
       "      <td>50.420071</td>\n",
       "      <td>17.316294</td>\n",
       "      <td>26.878107</td>\n",
       "      <td>36.908100</td>\n",
       "      <td>27.859682</td>\n",
       "      <td>19.416115</td>\n",
       "      <td>25.610094</td>\n",
       "      <td>31.561165</td>\n",
       "      <td>11.049801</td>\n",
       "      <td>29.673306</td>\n",
       "      <td>19.879511</td>\n",
       "    </tr>\n",
       "    <tr>\n",
       "      <th>4</th>\n",
       "      <td>22.307673</td>\n",
       "      <td>30.961851</td>\n",
       "      <td>37.921185</td>\n",
       "      <td>10.627771</td>\n",
       "      <td>26.490026</td>\n",
       "      <td>19.853451</td>\n",
       "      <td>47.734909</td>\n",
       "      <td>17.248766</td>\n",
       "      <td>23.308163</td>\n",
       "      <td>37.319473</td>\n",
       "      <td>26.312138</td>\n",
       "      <td>9.283325</td>\n",
       "      <td>20.704447</td>\n",
       "      <td>32.268055</td>\n",
       "      <td>11.111181</td>\n",
       "      <td>36.253178</td>\n",
       "      <td>27.294407</td>\n",
       "    </tr>\n",
       "    <tr>\n",
       "      <th>5</th>\n",
       "      <td>56.661697</td>\n",
       "      <td>32.488544</td>\n",
       "      <td>24.227848</td>\n",
       "      <td>13.323477</td>\n",
       "      <td>31.041460</td>\n",
       "      <td>15.437386</td>\n",
       "      <td>34.586071</td>\n",
       "      <td>15.041763</td>\n",
       "      <td>26.062679</td>\n",
       "      <td>71.032143</td>\n",
       "      <td>13.671349</td>\n",
       "      <td>20.884666</td>\n",
       "      <td>21.029957</td>\n",
       "      <td>15.964109</td>\n",
       "      <td>17.513908</td>\n",
       "      <td>21.322330</td>\n",
       "      <td>31.710615</td>\n",
       "    </tr>\n",
       "    <tr>\n",
       "      <th>6</th>\n",
       "      <td>36.224133</td>\n",
       "      <td>27.064926</td>\n",
       "      <td>21.726618</td>\n",
       "      <td>8.193975</td>\n",
       "      <td>25.176136</td>\n",
       "      <td>7.978942</td>\n",
       "      <td>31.983164</td>\n",
       "      <td>11.507882</td>\n",
       "      <td>15.921509</td>\n",
       "      <td>51.177929</td>\n",
       "      <td>17.875755</td>\n",
       "      <td>9.600220</td>\n",
       "      <td>19.476995</td>\n",
       "      <td>18.535898</td>\n",
       "      <td>9.032600</td>\n",
       "      <td>21.002302</td>\n",
       "      <td>20.521015</td>\n",
       "    </tr>\n",
       "  </tbody>\n",
       "</table>\n",
       "</div>"
      ],
      "text/plain": [
       "              topic_0    topic_1    topic_2    topic_3    topic_4    topic_5  \\\n",
       "year month                                                                     \n",
       "2008 2       8.179199  16.516285  13.092167   4.357880   3.893012   4.856283   \n",
       "     3      16.274590  39.991135  33.744358  11.809440  23.156374  15.451864   \n",
       "     4      22.307673  30.961851  37.921185  10.627771  26.490026  19.853451   \n",
       "     5      56.661697  32.488544  24.227848  13.323477  31.041460  15.437386   \n",
       "     6      36.224133  27.064926  21.726618   8.193975  25.176136   7.978942   \n",
       "\n",
       "              topic_6    topic_7    topic_8    topic_9   topic_10   topic_11  \\\n",
       "year month                                                                     \n",
       "2008 2      20.093887   8.312083  19.245304  18.904638  10.635338  10.580479   \n",
       "     3      50.420071  17.316294  26.878107  36.908100  27.859682  19.416115   \n",
       "     4      47.734909  17.248766  23.308163  37.319473  26.312138   9.283325   \n",
       "     5      34.586071  15.041763  26.062679  71.032143  13.671349  20.884666   \n",
       "     6      31.983164  11.507882  15.921509  51.177929  17.875755   9.600220   \n",
       "\n",
       "             topic_12   topic_13   topic_14   topic_15   topic_16  \n",
       "year month                                                         \n",
       "2008 2       7.026897  22.809958   3.910734  17.466988  11.118870  \n",
       "     3      25.610094  31.561165  11.049801  29.673306  19.879511  \n",
       "     4      20.704447  32.268055  11.111181  36.253178  27.294407  \n",
       "     5      21.029957  15.964109  17.513908  21.322330  31.710615  \n",
       "     6      19.476995  18.535898   9.032600  21.002302  20.521015  "
      ]
     },
     "execution_count": 49,
     "metadata": {},
     "output_type": "execute_result"
    }
   ],
   "source": [
    "topics = ['topic_{}'.format(i) for i in range(select_topics)]\n",
    "gb = joined.groupby(['year', 'month'])[topics].sum()\n",
    "print(f'gb.shape: {gb.shape}')\n",
    "gb.head()"
   ]
  },
  {
   "cell_type": "markdown",
   "metadata": {},
   "source": [
    "### straightforward matrix heatmap"
   ]
  },
  {
   "cell_type": "code",
   "execution_count": 51,
   "metadata": {
    "ExecuteTime": {
     "end_time": "2019-02-12T23:35:57.262070Z",
     "start_time": "2019-02-12T23:35:57.022046Z"
    },
    "scrolled": true
   },
   "outputs": [
    {
     "data": {
      "text/plain": [
       "<matplotlib.image.AxesImage at 0x7fdcfa002940>"
      ]
     },
     "execution_count": 51,
     "metadata": {},
     "output_type": "execute_result"
    },
    {
     "data": {
      "image/png": "[encoded data removed]",
      "text/plain": [
       "<Figure size 360x1800 with 1 Axes>"
      ]
     },
     "metadata": {
      "needs_background": "light"
     },
     "output_type": "display_data"
    }
   ],
   "source": [
    "plt.figure(figsize=(5, 25))\n",
    "plt.imshow(gb[topics])"
   ]
  },
  {
   "cell_type": "code",
   "execution_count": null,
   "metadata": {},
   "outputs": [],
   "source": []
  },
  {
   "cell_type": "markdown",
   "metadata": {},
   "source": [
    "## pygal"
   ]
  },
  {
   "cell_type": "code",
   "execution_count": 52,
   "metadata": {
    "ExecuteTime": {
     "end_time": "2019-02-12T23:36:09.111906Z",
     "start_time": "2019-02-12T23:36:09.089041Z"
    }
   },
   "outputs": [],
   "source": [
    "import pygal\n",
    "from IPython.display import SVG, HTML"
   ]
  },
  {
   "cell_type": "code",
   "execution_count": 53,
   "metadata": {
    "ExecuteTime": {
     "end_time": "2019-02-12T23:36:09.361336Z",
     "start_time": "2019-02-12T23:36:09.358902Z"
    }
   },
   "outputs": [],
   "source": [
    "html_pygal = \"\"\"\n",
    "<!DOCTYPE html>\n",
    "<html>\n",
    "  <head>\n",
    "  <script type=\"text/javascript\" src=\"http://kozea.github.com/pygal.js/javascripts/svg.jquery.js\"></script>\n",
    "  <script type=\"text/javascript\" src=\"http://kozea.github.com/pygal.js/javascripts/pygal-tooltips.js\"></script>\n",
    "    <!-- ... -->\n",
    "  </head>\n",
    "  <body>\n",
    "    <figure>\n",
    "      {pygal_render}\n",
    "    </figure>\n",
    "  </body>\n",
    "</html>\n",
    "\"\"\""
   ]
  },
  {
   "cell_type": "code",
   "execution_count": 54,
   "metadata": {
    "ExecuteTime": {
     "end_time": "2019-02-12T23:36:09.743793Z",
     "start_time": "2019-02-12T23:36:09.740172Z"
    },
    "scrolled": true
   },
   "outputs": [
    {
     "data": {
      "text/plain": [
       "204.15836"
      ]
     },
     "execution_count": 54,
     "metadata": {},
     "output_type": "execute_result"
    }
   ],
   "source": [
    "max(gb['topic_1'].values)"
   ]
  },
  {
   "cell_type": "code",
   "execution_count": 55,
   "metadata": {
    "ExecuteTime": {
     "end_time": "2019-02-12T23:36:10.948088Z",
     "start_time": "2019-02-12T23:36:10.880021Z"
    },
    "scrolled": false
   },
   "outputs": [
    {
     "data": {
      "text/html": [
       "\n",
       "<!DOCTYPE html>\n",
       "<html>\n",
       "  <head>\n",
       "  <script type=\"text/javascript\" src=\"http://kozea.github.com/pygal.js/javascripts/svg.jquery.js\"></script>\n",
       "  <script type=\"text/javascript\" src=\"http://kozea.github.com/pygal.js/javascripts/pygal-tooltips.js\"></script>\n",
       "    <!-- ... -->\n",
       "  </head>\n",
       "  <body>\n",
       "    <figure>\n",
       "      <?xml version='1.0' encoding='utf-8'?>\n",
       "<svg xmlns:xlink=\"http://www.w3.org/1999/xlink\" xmlns=\"http://www.w3.org/2000/svg\" id=\"chart-da1deab9-4396-4318-b5e4-e960c1df3fc3\" class=\"pygal-chart\" viewBox=\"0 0 800 600\"><!--Generated with pygal 2.4.0 (lxml) ©Kozea 2012-2016 on 2019-02-13--><!--http://pygal.org--><!--http://github.com/Kozea/pygal--><defs><style type=\"text/css\">#chart-da1deab9-4396-4318-b5e4-e960c1df3fc3{-webkit-user-select:none;-webkit-font-smoothing:antialiased;font-family:Consolas,\"Liberation Mono\",Menlo,Courier,monospace}#chart-da1deab9-4396-4318-b5e4-e960c1df3fc3 .title{font-family:Consolas,\"Liberation Mono\",Menlo,Courier,monospace;font-size:16px}#chart-da1deab9-4396-4318-b5e4-e960c1df3fc3 .legends .legend text{font-family:Consolas,\"Liberation Mono\",Menlo,Courier,monospace;font-size:14px}#chart-da1deab9-4396-4318-b5e4-e960c1df3fc3 .axis text{font-family:Consolas,\"Liberation Mono\",Menlo,Courier,monospace;font-size:10px}#chart-da1deab9-4396-4318-b5e4-e960c1df3fc3 .axis text.major{font-family:Consolas,\"Liberation Mono\",Menlo,Courier,monospace;font-size:10px}#chart-da1deab9-4396-4318-b5e4-e960c1df3fc3 .text-overlay text.value{font-family:Consolas,\"Liberation Mono\",Menlo,Courier,monospace;font-size:16px}#chart-da1deab9-4396-4318-b5e4-e960c1df3fc3 .text-overlay text.label{font-family:Consolas,\"Liberation Mono\",Menlo,Courier,monospace;font-size:10px}#chart-da1deab9-4396-4318-b5e4-e960c1df3fc3 .tooltip{font-family:Consolas,\"Liberation Mono\",Menlo,Courier,monospace;font-size:14px}#chart-da1deab9-4396-4318-b5e4-e960c1df3fc3 text.no_data{font-family:Consolas,\"Liberation Mono\",Menlo,Courier,monospace;font-size:64px}\n",
       "#chart-da1deab9-4396-4318-b5e4-e960c1df3fc3{background-color:rgba(249,249,249,1)}#chart-da1deab9-4396-4318-b5e4-e960c1df3fc3 path,#chart-da1deab9-4396-4318-b5e4-e960c1df3fc3 line,#chart-da1deab9-4396-4318-b5e4-e960c1df3fc3 rect,#chart-da1deab9-4396-4318-b5e4-e960c1df3fc3 circle{-webkit-transition:150ms;-moz-transition:150ms;transition:150ms}#chart-da1deab9-4396-4318-b5e4-e960c1df3fc3 .graph &gt; .background{fill:rgba(249,249,249,1)}#chart-da1deab9-4396-4318-b5e4-e960c1df3fc3 .plot &gt; .background{fill:rgba(255,255,255,1)}#chart-da1deab9-4396-4318-b5e4-e960c1df3fc3 .graph{fill:rgba(0,0,0,.87)}#chart-da1deab9-4396-4318-b5e4-e960c1df3fc3 text.no_data{fill:rgba(0,0,0,1)}#chart-da1deab9-4396-4318-b5e4-e960c1df3fc3 .title{fill:rgba(0,0,0,1)}#chart-da1deab9-4396-4318-b5e4-e960c1df3fc3 .legends .legend text{fill:rgba(0,0,0,.87)}#chart-da1deab9-4396-4318-b5e4-e960c1df3fc3 .legends .legend:hover text{fill:rgba(0,0,0,1)}#chart-da1deab9-4396-4318-b5e4-e960c1df3fc3 .axis .line{stroke:rgba(0,0,0,1)}#chart-da1deab9-4396-4318-b5e4-e960c1df3fc3 .axis .guide.line{stroke:rgba(0,0,0,.54)}#chart-da1deab9-4396-4318-b5e4-e960c1df3fc3 .axis .major.line{stroke:rgba(0,0,0,.87)}#chart-da1deab9-4396-4318-b5e4-e960c1df3fc3 .axis text.major{fill:rgba(0,0,0,1)}#chart-da1deab9-4396-4318-b5e4-e960c1df3fc3 .axis.y .guides:hover .guide.line,#chart-da1deab9-4396-4318-b5e4-e960c1df3fc3 .line-graph .axis.x .guides:hover .guide.line,#chart-da1deab9-4396-4318-b5e4-e960c1df3fc3 .stackedline-graph .axis.x .guides:hover .guide.line,#chart-da1deab9-4396-4318-b5e4-e960c1df3fc3 .xy-graph .axis.x .guides:hover .guide.line{stroke:rgba(0,0,0,1)}#chart-da1deab9-4396-4318-b5e4-e960c1df3fc3 .axis .guides:hover text{fill:rgba(0,0,0,1)}#chart-da1deab9-4396-4318-b5e4-e960c1df3fc3 .reactive{fill-opacity:.7;stroke-opacity:.8}#chart-da1deab9-4396-4318-b5e4-e960c1df3fc3 .ci{stroke:rgba(0,0,0,.87)}#chart-da1deab9-4396-4318-b5e4-e960c1df3fc3 .reactive.active,#chart-da1deab9-4396-4318-b5e4-e960c1df3fc3 .active .reactive{fill-opacity:.8;stroke-opacity:.9;stroke-width:4}#chart-da1deab9-4396-4318-b5e4-e960c1df3fc3 .ci .reactive.active{stroke-width:1.5}#chart-da1deab9-4396-4318-b5e4-e960c1df3fc3 .series text{fill:rgba(0,0,0,1)}#chart-da1deab9-4396-4318-b5e4-e960c1df3fc3 .tooltip rect{fill:rgba(255,255,255,1);stroke:rgba(0,0,0,1);-webkit-transition:opacity 150ms;-moz-transition:opacity 150ms;transition:opacity 150ms}#chart-da1deab9-4396-4318-b5e4-e960c1df3fc3 .tooltip .label{fill:rgba(0,0,0,.87)}#chart-da1deab9-4396-4318-b5e4-e960c1df3fc3 .tooltip .label{fill:rgba(0,0,0,.87)}#chart-da1deab9-4396-4318-b5e4-e960c1df3fc3 .tooltip .legend{font-size:.8em;fill:rgba(0,0,0,.54)}#chart-da1deab9-4396-4318-b5e4-e960c1df3fc3 .tooltip .x_label{font-size:.6em;fill:rgba(0,0,0,1)}#chart-da1deab9-4396-4318-b5e4-e960c1df3fc3 .tooltip .xlink{font-size:.5em;text-decoration:underline}#chart-da1deab9-4396-4318-b5e4-e960c1df3fc3 .tooltip .value{font-size:1.5em}#chart-da1deab9-4396-4318-b5e4-e960c1df3fc3 .bound{font-size:.5em}#chart-da1deab9-4396-4318-b5e4-e960c1df3fc3 .max-value{font-size:.75em;fill:rgba(0,0,0,.54)}#chart-da1deab9-4396-4318-b5e4-e960c1df3fc3 .map-element{fill:rgba(255,255,255,1);stroke:rgba(0,0,0,.54) !important}#chart-da1deab9-4396-4318-b5e4-e960c1df3fc3 .map-element .reactive{fill-opacity:inherit;stroke-opacity:inherit}#chart-da1deab9-4396-4318-b5e4-e960c1df3fc3 .color-0,#chart-da1deab9-4396-4318-b5e4-e960c1df3fc3 .color-0 a:visited{stroke:#F44336;fill:#F44336}#chart-da1deab9-4396-4318-b5e4-e960c1df3fc3 .color-1,#chart-da1deab9-4396-4318-b5e4-e960c1df3fc3 .color-1 a:visited{stroke:#3F51B5;fill:#3F51B5}#chart-da1deab9-4396-4318-b5e4-e960c1df3fc3 .color-2,#chart-da1deab9-4396-4318-b5e4-e960c1df3fc3 .color-2 a:visited{stroke:#009688;fill:#009688}#chart-da1deab9-4396-4318-b5e4-e960c1df3fc3 .color-3,#chart-da1deab9-4396-4318-b5e4-e960c1df3fc3 .color-3 a:visited{stroke:#FFC107;fill:#FFC107}#chart-da1deab9-4396-4318-b5e4-e960c1df3fc3 .color-4,#chart-da1deab9-4396-4318-b5e4-e960c1df3fc3 .color-4 a:visited{stroke:#FF5722;fill:#FF5722}#chart-da1deab9-4396-4318-b5e4-e960c1df3fc3 .color-5,#chart-da1deab9-4396-4318-b5e4-e960c1df3fc3 .color-5 a:visited{stroke:#9C27B0;fill:#9C27B0}#chart-da1deab9-4396-4318-b5e4-e960c1df3fc3 .color-6,#chart-da1deab9-4396-4318-b5e4-e960c1df3fc3 .color-6 a:visited{stroke:#03A9F4;fill:#03A9F4}#chart-da1deab9-4396-4318-b5e4-e960c1df3fc3 .color-7,#chart-da1deab9-4396-4318-b5e4-e960c1df3fc3 .color-7 a:visited{stroke:#8BC34A;fill:#8BC34A}#chart-da1deab9-4396-4318-b5e4-e960c1df3fc3 .color-8,#chart-da1deab9-4396-4318-b5e4-e960c1df3fc3 .color-8 a:visited{stroke:#FF9800;fill:#FF9800}#chart-da1deab9-4396-4318-b5e4-e960c1df3fc3 .color-9,#chart-da1deab9-4396-4318-b5e4-e960c1df3fc3 .color-9 a:visited{stroke:#E91E63;fill:#E91E63}#chart-da1deab9-4396-4318-b5e4-e960c1df3fc3 .color-10,#chart-da1deab9-4396-4318-b5e4-e960c1df3fc3 .color-10 a:visited{stroke:#2196F3;fill:#2196F3}#chart-da1deab9-4396-4318-b5e4-e960c1df3fc3 .color-11,#chart-da1deab9-4396-4318-b5e4-e960c1df3fc3 .color-11 a:visited{stroke:#4CAF50;fill:#4CAF50}#chart-da1deab9-4396-4318-b5e4-e960c1df3fc3 .color-12,#chart-da1deab9-4396-4318-b5e4-e960c1df3fc3 .color-12 a:visited{stroke:#FFEB3B;fill:#FFEB3B}#chart-da1deab9-4396-4318-b5e4-e960c1df3fc3 .color-13,#chart-da1deab9-4396-4318-b5e4-e960c1df3fc3 .color-13 a:visited{stroke:#673AB7;fill:#673AB7}#chart-da1deab9-4396-4318-b5e4-e960c1df3fc3 .color-14,#chart-da1deab9-4396-4318-b5e4-e960c1df3fc3 .color-14 a:visited{stroke:#00BCD4;fill:#00BCD4}#chart-da1deab9-4396-4318-b5e4-e960c1df3fc3 .color-15,#chart-da1deab9-4396-4318-b5e4-e960c1df3fc3 .color-15 a:visited{stroke:#CDDC39;fill:#CDDC39}#chart-da1deab9-4396-4318-b5e4-e960c1df3fc3 .color-16,#chart-da1deab9-4396-4318-b5e4-e960c1df3fc3 .color-16 a:visited{stroke:#9E9E9E;fill:#9E9E9E}#chart-da1deab9-4396-4318-b5e4-e960c1df3fc3 .text-overlay .color-0 text{fill:black}#chart-da1deab9-4396-4318-b5e4-e960c1df3fc3 .text-overlay .color-1 text{fill:black}#chart-da1deab9-4396-4318-b5e4-e960c1df3fc3 .text-overlay .color-2 text{fill:black}#chart-da1deab9-4396-4318-b5e4-e960c1df3fc3 .text-overlay .color-3 text{fill:black}#chart-da1deab9-4396-4318-b5e4-e960c1df3fc3 .text-overlay .color-4 text{fill:black}#chart-da1deab9-4396-4318-b5e4-e960c1df3fc3 .text-overlay .color-5 text{fill:black}#chart-da1deab9-4396-4318-b5e4-e960c1df3fc3 .text-overlay .color-6 text{fill:black}#chart-da1deab9-4396-4318-b5e4-e960c1df3fc3 .text-overlay .color-7 text{fill:black}#chart-da1deab9-4396-4318-b5e4-e960c1df3fc3 .text-overlay .color-8 text{fill:black}#chart-da1deab9-4396-4318-b5e4-e960c1df3fc3 .text-overlay .color-9 text{fill:black}#chart-da1deab9-4396-4318-b5e4-e960c1df3fc3 .text-overlay .color-10 text{fill:black}#chart-da1deab9-4396-4318-b5e4-e960c1df3fc3 .text-overlay .color-11 text{fill:black}#chart-da1deab9-4396-4318-b5e4-e960c1df3fc3 .text-overlay .color-12 text{fill:black}#chart-da1deab9-4396-4318-b5e4-e960c1df3fc3 .text-overlay .color-13 text{fill:black}#chart-da1deab9-4396-4318-b5e4-e960c1df3fc3 .text-overlay .color-14 text{fill:black}#chart-da1deab9-4396-4318-b5e4-e960c1df3fc3 .text-overlay .color-15 text{fill:black}#chart-da1deab9-4396-4318-b5e4-e960c1df3fc3 .text-overlay .color-16 text{fill:black}\n",
       "#chart-da1deab9-4396-4318-b5e4-e960c1df3fc3 text.no_data{text-anchor:middle}#chart-da1deab9-4396-4318-b5e4-e960c1df3fc3 .guide.line{fill:none}#chart-da1deab9-4396-4318-b5e4-e960c1df3fc3 .centered{text-anchor:middle}#chart-da1deab9-4396-4318-b5e4-e960c1df3fc3 .title{text-anchor:middle}#chart-da1deab9-4396-4318-b5e4-e960c1df3fc3 .legends .legend text{fill-opacity:1}#chart-da1deab9-4396-4318-b5e4-e960c1df3fc3 .axis.x text{text-anchor:middle}#chart-da1deab9-4396-4318-b5e4-e960c1df3fc3 .axis.x:not(.web) text[transform]{text-anchor:start}#chart-da1deab9-4396-4318-b5e4-e960c1df3fc3 .axis.x:not(.web) text[transform].backwards{text-anchor:end}#chart-da1deab9-4396-4318-b5e4-e960c1df3fc3 .axis.y text{text-anchor:end}#chart-da1deab9-4396-4318-b5e4-e960c1df3fc3 .axis.y text[transform].backwards{text-anchor:start}#chart-da1deab9-4396-4318-b5e4-e960c1df3fc3 .axis.y2 text{text-anchor:start}#chart-da1deab9-4396-4318-b5e4-e960c1df3fc3 .axis.y2 text[transform].backwards{text-anchor:end}#chart-da1deab9-4396-4318-b5e4-e960c1df3fc3 .axis .guide.line{stroke-dasharray:4,4}#chart-da1deab9-4396-4318-b5e4-e960c1df3fc3 .axis .major.guide.line{stroke-dasharray:6,6}#chart-da1deab9-4396-4318-b5e4-e960c1df3fc3 .horizontal .axis.y .guide.line,#chart-da1deab9-4396-4318-b5e4-e960c1df3fc3 .horizontal .axis.y2 .guide.line,#chart-da1deab9-4396-4318-b5e4-e960c1df3fc3 .vertical .axis.x .guide.line{opacity:0}#chart-da1deab9-4396-4318-b5e4-e960c1df3fc3 .horizontal .axis.always_show .guide.line,#chart-da1deab9-4396-4318-b5e4-e960c1df3fc3 .vertical .axis.always_show .guide.line{opacity:1 !important}#chart-da1deab9-4396-4318-b5e4-e960c1df3fc3 .axis.y .guides:hover .guide.line,#chart-da1deab9-4396-4318-b5e4-e960c1df3fc3 .axis.y2 .guides:hover .guide.line,#chart-da1deab9-4396-4318-b5e4-e960c1df3fc3 .axis.x .guides:hover .guide.line{opacity:1}#chart-da1deab9-4396-4318-b5e4-e960c1df3fc3 .axis .guides:hover text{opacity:1}#chart-da1deab9-4396-4318-b5e4-e960c1df3fc3 .nofill{fill:none}#chart-da1deab9-4396-4318-b5e4-e960c1df3fc3 .subtle-fill{fill-opacity:.2}#chart-da1deab9-4396-4318-b5e4-e960c1df3fc3 .dot{stroke-width:1px;fill-opacity:1}#chart-da1deab9-4396-4318-b5e4-e960c1df3fc3 .dot.active{stroke-width:5px}#chart-da1deab9-4396-4318-b5e4-e960c1df3fc3 .dot.negative{fill:transparent}#chart-da1deab9-4396-4318-b5e4-e960c1df3fc3 text,#chart-da1deab9-4396-4318-b5e4-e960c1df3fc3 tspan{stroke:none !important}#chart-da1deab9-4396-4318-b5e4-e960c1df3fc3 .series text.active{opacity:1}#chart-da1deab9-4396-4318-b5e4-e960c1df3fc3 .tooltip rect{fill-opacity:.95;stroke-width:.5}#chart-da1deab9-4396-4318-b5e4-e960c1df3fc3 .tooltip text{fill-opacity:1}#chart-da1deab9-4396-4318-b5e4-e960c1df3fc3 .showable{visibility:hidden}#chart-da1deab9-4396-4318-b5e4-e960c1df3fc3 .showable.shown{visibility:visible}#chart-da1deab9-4396-4318-b5e4-e960c1df3fc3 .gauge-background{fill:rgba(229,229,229,1);stroke:none}#chart-da1deab9-4396-4318-b5e4-e960c1df3fc3 .bg-lines{stroke:rgba(249,249,249,1);stroke-width:2px}</style><script type=\"text/javascript\">window.pygal = window.pygal || {};window.pygal.config = window.pygal.config || {};window.pygal.config['da1deab9-4396-4318-b5e4-e960c1df3fc3'] = {\"allow_interruptions\": false, \"box_mode\": \"extremes\", \"classes\": [\"pygal-chart\"], \"css\": [\"file://style.css\", \"file://graph.css\"], \"defs\": [], \"disable_xml_declaration\": false, \"dots_size\": 2.5, \"dynamic_print_values\": false, \"explicit_size\": false, \"fill\": true, \"force_uri_protocol\": \"https\", \"formatter\": null, \"half_pie\": false, \"height\": 600, \"include_x_axis\": false, \"inner_radius\": 0, \"interpolate\": null, \"interpolation_parameters\": {}, \"interpolation_precision\": 250, \"inverse_y_axis\": false, \"js\": [\"//kozea.github.io/pygal.js/2.0.x/pygal-tooltips.min.js\"], \"legend_at_bottom\": false, \"legend_at_bottom_columns\": null, \"legend_box_size\": 12, \"logarithmic\": false, \"margin\": 20, \"margin_bottom\": null, \"margin_left\": null, \"margin_right\": null, \"margin_top\": null, \"max_scale\": 16, \"min_scale\": 4, \"missing_value_fill_truncation\": \"x\", \"no_data_text\": \"No data\", \"no_prefix\": false, \"order_min\": null, \"pretty_print\": false, \"print_labels\": false, \"print_values\": false, \"print_values_position\": \"center\", \"print_zeroes\": true, \"range\": null, \"rounded_bars\": null, \"secondary_range\": null, \"show_dots\": false, \"show_legend\": true, \"show_minor_x_labels\": true, \"show_minor_y_labels\": true, \"show_only_major_dots\": false, \"show_x_guides\": false, \"show_x_labels\": true, \"show_y_guides\": true, \"show_y_labels\": true, \"spacing\": 10, \"stack_from_top\": false, \"strict\": false, \"stroke\": true, \"stroke_style\": null, \"style\": {\"background\": \"rgba(249, 249, 249, 1)\", \"ci_colors\": [], \"colors\": [\"#F44336\", \"#3F51B5\", \"#009688\", \"#FFC107\", \"#FF5722\", \"#9C27B0\", \"#03A9F4\", \"#8BC34A\", \"#FF9800\", \"#E91E63\", \"#2196F3\", \"#4CAF50\", \"#FFEB3B\", \"#673AB7\", \"#00BCD4\", \"#CDDC39\", \"#9E9E9E\", \"#607D8B\"], \"font_family\": \"Consolas, \\\"Liberation Mono\\\", Menlo, Courier, monospace\", \"foreground\": \"rgba(0, 0, 0, .87)\", \"foreground_strong\": \"rgba(0, 0, 0, 1)\", \"foreground_subtle\": \"rgba(0, 0, 0, .54)\", \"guide_stroke_dasharray\": \"4,4\", \"label_font_family\": \"Consolas, \\\"Liberation Mono\\\", Menlo, Courier, monospace\", \"label_font_size\": 10, \"legend_font_family\": \"Consolas, \\\"Liberation Mono\\\", Menlo, Courier, monospace\", \"legend_font_size\": 14, \"major_guide_stroke_dasharray\": \"6,6\", \"major_label_font_family\": \"Consolas, \\\"Liberation Mono\\\", Menlo, Courier, monospace\", \"major_label_font_size\": 10, \"no_data_font_family\": \"Consolas, \\\"Liberation Mono\\\", Menlo, Courier, monospace\", \"no_data_font_size\": 64, \"opacity\": \".7\", \"opacity_hover\": \".8\", \"plot_background\": \"rgba(255, 255, 255, 1)\", \"stroke_opacity\": \".8\", \"stroke_opacity_hover\": \".9\", \"title_font_family\": \"Consolas, \\\"Liberation Mono\\\", Menlo, Courier, monospace\", \"title_font_size\": 16, \"tooltip_font_family\": \"Consolas, \\\"Liberation Mono\\\", Menlo, Courier, monospace\", \"tooltip_font_size\": 14, \"transition\": \"150ms\", \"value_background\": \"rgba(229, 229, 229, 1)\", \"value_colors\": [], \"value_font_family\": \"Consolas, \\\"Liberation Mono\\\", Menlo, Courier, monospace\", \"value_font_size\": 16, \"value_label_font_family\": \"Consolas, \\\"Liberation Mono\\\", Menlo, Courier, monospace\", \"value_label_font_size\": 10}, \"title\": \"Topics\", \"tooltip_border_radius\": 0, \"tooltip_fancy_mode\": true, \"truncate_label\": null, \"truncate_legend\": null, \"width\": 800, \"x_label_rotation\": 0, \"x_labels\": null, \"x_labels_major\": null, \"x_labels_major_count\": null, \"x_labels_major_every\": null, \"x_title\": null, \"xrange\": null, \"y_label_rotation\": 0, \"y_labels\": null, \"y_labels_major\": null, \"y_labels_major_count\": null, \"y_labels_major_every\": null, \"y_title\": null, \"zero\": 0, \"legends\": [\"topic_0\", \"topic_1\", \"topic_2\", \"topic_3\", \"topic_4\", \"topic_5\", \"topic_6\", \"topic_7\", \"topic_8\", \"topic_9\", \"topic_10\", \"topic_11\", \"topic_12\", \"topic_13\", \"topic_14\", \"topic_15\", \"topic_16\"]}</script><script type=\"text/javascript\" xlink:href=\"https://kozea.github.io/pygal.js/2.0.x/pygal-tooltips.min.js\"/></defs><title>Topics</title><g class=\"graph stackedline-graph vertical\"><rect class=\"background\" height=\"600\" width=\"800\" x=\"0\" y=\"0\"/><g class=\"plot\" transform=\"translate(137, 46)\"><rect class=\"background\" height=\"534\" width=\"642.8\" x=\"0\" y=\"0\"/><g class=\"axis y always_show\"><path class=\"line\" d=\"M0.000000 534.000000 h642.800000\"/><g class=\"guides\"><path class=\"guide line\" d=\"M0.000000 476.051301 h642.800000\"/><text class=\"\" x=\"-5\" y=\"479.55130128255036\">100</text><title>100</title></g><g class=\"guides\"><path class=\"guide line\" d=\"M0.000000 424.124649 h642.800000\"/><text class=\"\" x=\"-5\" y=\"427.6246489962035\">200</text><title>200</title></g><g class=\"guides\"><path class=\"guide line\" d=\"M0.000000 372.197997 h642.800000\"/><text class=\"\" x=\"-5\" y=\"375.69799670985674\">300</text><title>300</title></g><g class=\"guides\"><path class=\"guide line\" d=\"M0.000000 320.271344 h642.800000\"/><text class=\"\" x=\"-5\" y=\"323.77134442350996\">400</text><title>400</title></g><g class=\"guides\"><path class=\"major guide line\" d=\"M0.000000 268.344692 h642.800000\"/><text class=\"major\" x=\"-5\" y=\"271.8446921371632\">500</text><title>500</title></g><g class=\"guides\"><path class=\"guide line\" d=\"M0.000000 216.418040 h642.800000\"/><text class=\"\" x=\"-5\" y=\"219.91803985081634\">600</text><title>600</title></g><g class=\"guides\"><path class=\"guide line\" d=\"M0.000000 164.491388 h642.800000\"/><text class=\"\" x=\"-5\" y=\"167.99138756446956\">700</text><title>700</title></g><g class=\"guides\"><path class=\"guide line\" d=\"M0.000000 112.564735 h642.800000\"/><text class=\"\" x=\"-5\" y=\"116.06473527812278\">800</text><title>800</title></g><g class=\"guides\"><path class=\"guide line\" d=\"M0.000000 60.638083 h642.800000\"/><text class=\"\" x=\"-5\" y=\"64.13808299177595\">900</text><title>900</title></g></g><g class=\"series serie-0 color-0\"><path class=\"line reactive\" d=\"M12.361538 527.977954 L12.361538 523.730769 17.079683 519.527104 21.797827 516.394326 26.515972 498.555431 31.234116 509.167974 35.952261 513.247735 40.670405 512.641503 45.388550 509.530394 50.106694 512.871231 54.824839 513.574275 59.542983 514.314683 64.261127 519.282351 68.979272 514.434127 73.697416 516.144657 78.415561 505.309190 83.133705 514.768488 87.851850 514.565124 92.569994 514.195272 97.288139 508.628963 102.006283 510.073561 106.724427 505.167110 111.442572 511.290952 116.160716 517.155947 120.878861 514.225091 125.597005 511.369261 130.315150 516.718152 135.033294 515.723153 139.751439 514.891834 144.469583 512.608080 149.187728 516.823446 153.905872 518.890329 158.624016 515.533739 163.342161 511.251575 168.060305 519.229175 172.778450 521.219032 177.496594 521.138873 182.214739 518.004341 186.932883 454.302087 191.651028 489.767699 196.369172 512.243784 201.087317 517.819804 205.805461 515.729921 210.523605 516.114540 215.241750 514.888988 219.959894 512.838507 224.678039 514.729640 229.396183 514.245859 234.114328 511.038894 238.832472 512.360460 243.550617 510.800519 248.268761 512.534377 252.986905 518.448299 257.705050 516.380998 262.423194 518.282309 267.141339 513.594489 271.859483 514.091260 276.577628 511.000774 281.295772 516.723207 286.013917 517.051788 290.732061 516.344620 295.450206 513.574548 300.168350 516.402454 304.886494 504.037387 309.604639 515.286258 314.322783 515.774975 319.040928 513.041921 323.759072 514.078261 328.477217 510.494591 333.195361 500.394665 337.913506 508.217565 342.631650 514.340935 347.349794 513.031616 352.067939 516.395967 356.786083 510.983943 361.504228 509.535136 366.222372 514.183264 370.940517 520.714791 375.658661 519.246679 380.376806 516.369151 385.094950 518.973707 389.813095 518.188166 394.531239 518.705698 399.249383 508.699409 403.967528 521.201270 408.685672 522.020016 413.403817 520.485270 418.121961 505.511818 422.840106 515.767127 427.558250 516.475030 432.276395 517.482016 436.994539 509.035139 441.712683 516.791450 446.430828 513.829659 451.148972 517.211907 455.867117 519.191894 460.585261 517.792661 465.303406 517.540238 470.021550 517.251600 474.739695 510.354918 479.457839 516.658386 484.175984 517.569507 488.894128 519.609102 493.612272 512.671546 498.330417 517.052895 503.048561 516.295254 507.766706 510.607250 512.484850 507.580512 517.202995 519.139366 521.921139 518.506306 526.639284 519.125400 531.357428 518.910849 536.075573 520.267082 540.793717 519.345145 545.511861 519.958716 550.230006 512.731398 554.948150 512.884268 559.666295 519.529506 564.384439 513.187878 569.102584 516.831606 573.820728 513.269418 578.538873 517.989502 583.257017 518.790325 587.975161 520.599817 592.693306 520.881200 597.411450 518.624100 602.129595 515.616651 606.847739 512.776381 611.565884 516.588027 616.284028 508.702028 621.002173 515.123235 625.720317 515.936495 630.438462 521.307862 630.438462 527.977954\"/></g><g class=\"series serie-1 color-1\"><path class=\"line reactive\" d=\"M12.361538 515.154415 L17.079683 498.761047 21.797827 500.316873 26.515972 481.685217 31.234116 495.114064 35.952261 502.758442 40.670405 499.826466 45.388550 484.089170 50.106694 484.596576 54.824839 474.302949 59.542983 489.558561 64.261127 500.740616 68.979272 497.375947 73.697416 494.597567 78.415561 489.791770 83.133705 500.505843 87.851850 495.114843 92.569994 499.894066 97.288139 495.415080 102.006283 496.404194 106.724427 486.499551 111.442572 494.425328 116.160716 506.718513 120.878861 497.555117 125.597005 498.916499 130.315150 503.996682 135.033294 506.022289 139.751439 503.772566 144.469583 500.200103 149.187728 507.680851 153.905872 509.661555 158.624016 500.152087 163.342161 501.821326 168.060305 510.177347 172.778450 513.014032 177.496594 511.969897 182.214739 506.633415 186.932883 443.825115 191.651028 481.736215 196.369172 500.376702 201.087317 504.832257 205.805461 506.531177 210.523605 506.166551 215.241750 503.150320 219.959894 500.893506 224.678039 493.842773 229.396183 498.081555 234.114328 494.576098 238.832472 495.095036 243.550617 492.945279 248.268761 495.649648 252.986905 496.353476 257.705050 493.345194 262.423194 505.890696 267.141339 502.064875 271.859483 503.678900 276.577628 488.901228 281.295772 491.242866 286.013917 495.628976 290.732061 493.826759 295.450206 486.845029 300.168350 485.747969 304.886494 475.051070 309.604639 498.302031 314.322783 491.376267 319.040928 487.668134 323.759072 495.510226 328.477217 488.148452 333.195361 478.996930 337.913506 491.277434 342.631650 496.721374 347.349794 495.550926 352.067939 494.629863 356.786083 485.715426 361.504228 488.818574 366.222372 492.252317 370.940517 505.382038 375.658661 508.360014 380.376806 506.810070 385.094950 503.427307 389.813095 504.192070 394.531239 501.291864 399.249383 491.983298 403.967528 506.522718 408.685672 509.992022 413.403817 504.919232 418.121961 491.818581 422.840106 494.069805 427.558250 499.523057 432.276395 496.977996 436.994539 491.427574 441.712683 492.585210 446.430828 496.285414 451.148972 501.125296 455.867117 501.031857 460.585261 504.837584 465.303406 490.986808 470.021550 481.179655 474.739695 478.567871 479.457839 483.485087 484.175984 484.849640 488.894128 485.486364 493.612272 491.141597 498.330417 490.370681 503.048561 485.410854 507.766706 404.594650 512.484850 454.106792 517.202995 436.706368 521.921139 464.251337 526.639284 455.526637 531.357428 466.046121 536.075573 452.274964 540.793717 468.638403 545.511861 470.817183 550.230006 480.349230 554.948150 483.752504 559.666295 472.711979 564.384439 475.672088 569.102584 482.185605 573.820728 471.608251 578.538873 488.313447 583.257017 482.176889 587.975161 490.060603 592.693306 488.139318 597.411450 482.775227 602.129595 470.118989 606.847739 479.823318 611.565884 492.389075 616.284028 470.972022 621.002173 475.681517 625.720317 471.169879 630.438462 497.560998 630.438462 521.307862 625.720317 515.936495 621.002173 515.123235 616.284028 508.702028 611.565884 516.588027 606.847739 512.776381 602.129595 515.616651 597.411450 518.624100 592.693306 520.881200 587.975161 520.599817 583.257017 518.790325 578.538873 517.989502 573.820728 513.269418 569.102584 516.831606 564.384439 513.187878 559.666295 519.529506 554.948150 512.884268 550.230006 512.731398 545.511861 519.958716 540.793717 519.345145 536.075573 520.267082 531.357428 518.910849 526.639284 519.125400 521.921139 518.506306 517.202995 519.139366 512.484850 507.580512 507.766706 510.607250 503.048561 516.295254 498.330417 517.052895 493.612272 512.671546 488.894128 519.609102 484.175984 517.569507 479.457839 516.658386 474.739695 510.354918 470.021550 517.251600 465.303406 517.540238 460.585261 517.792661 455.867117 519.191894 451.148972 517.211907 446.430828 513.829659 441.712683 516.791450 436.994539 509.035139 432.276395 517.482016 427.558250 516.475030 422.840106 515.767127 418.121961 505.511818 413.403817 520.485270 408.685672 522.020016 403.967528 521.201270 399.249383 508.699409 394.531239 518.705698 389.813095 518.188166 385.094950 518.973707 380.376806 516.369151 375.658661 519.246679 370.940517 520.714791 366.222372 514.183264 361.504228 509.535136 356.786083 510.983943 352.067939 516.395967 347.349794 513.031616 342.631650 514.340935 337.913506 508.217565 333.195361 500.394665 328.477217 510.494591 323.759072 514.078261 319.040928 513.041921 314.322783 515.774975 309.604639 515.286258 304.886494 504.037387 300.168350 516.402454 295.450206 513.574548 290.732061 516.344620 286.013917 517.051788 281.295772 516.723207 276.577628 511.000774 271.859483 514.091260 267.141339 513.594489 262.423194 518.282309 257.705050 516.380998 252.986905 518.448299 248.268761 512.534377 243.550617 510.800519 238.832472 512.360460 234.114328 511.038894 229.396183 514.245859 224.678039 514.729640 219.959894 512.838507 215.241750 514.888988 210.523605 516.114540 205.805461 515.729921 201.087317 517.819804 196.369172 512.243784 191.651028 489.767699 186.932883 454.302087 182.214739 518.004341 177.496594 521.138873 172.778450 521.219032 168.060305 519.229175 163.342161 511.251575 158.624016 515.533739 153.905872 518.890329 149.187728 516.823446 144.469583 512.608080 139.751439 514.891834 135.033294 515.723153 130.315150 516.718152 125.597005 511.369261 120.878861 514.225091 116.160716 517.155947 111.442572 511.290952 106.724427 505.167110 102.006283 510.073561 97.288139 508.628963 92.569994 514.195272 87.851850 514.565124 83.133705 514.768488 78.415561 505.309190 73.697416 516.144657 68.979272 514.434127 64.261127 519.282351 59.542983 514.314683 54.824839 513.574275 50.106694 512.871231 45.388550 509.530394 40.670405 512.641503 35.952261 513.247735 31.234116 509.167974 26.515972 498.555431 21.797827 516.394326 17.079683 519.527104 12.361538 523.730769\"/></g><g class=\"series serie-2 color-2\"><path class=\"line reactive\" d=\"M12.361538 508.356091 L17.079683 481.238731 21.797827 480.625672 26.515972 469.104507 31.234116 483.832159 35.952261 484.052020 40.670405 466.115886 45.388550 444.810187 50.106694 452.354180 54.824839 449.834335 59.542983 469.584047 64.261127 459.394427 68.979272 479.648804 73.697416 476.229421 78.415561 465.268221 83.133705 480.554640 87.851850 478.862590 92.569994 482.353636 97.288139 486.758815 102.006283 479.251419 106.724427 465.197182 111.442572 474.511652 116.160716 491.606762 120.878861 484.977171 125.597005 483.216578 130.315150 488.988764 135.033294 492.693117 139.751439 493.381555 144.469583 488.483320 149.187728 497.016624 153.905872 504.963733 158.624016 485.309831 163.342161 487.598155 168.060305 503.996163 172.778450 505.685003 177.496594 504.202923 182.214739 494.769710 186.932883 427.709351 191.651028 474.933812 196.369172 489.701201 201.087317 490.695064 205.805461 495.422543 210.523605 497.245914 215.241750 492.909272 219.959894 484.020777 224.678039 473.920001 229.396183 481.586551 234.114328 476.573535 238.832472 476.570500 243.550617 480.367852 248.268761 485.984808 252.986905 481.606714 257.705050 477.467679 262.423194 497.465142 267.141339 494.855947 271.859483 491.134510 276.577628 475.637989 281.295772 481.274911 286.013917 477.974968 290.732061 479.152858 295.450206 475.320903 300.168350 460.941752 304.886494 455.182335 309.604639 485.564297 314.322783 474.043078 319.040928 468.653115 323.759072 484.704999 328.477217 472.227833 333.195361 456.523799 337.913506 469.375837 342.631650 470.487336 347.349794 471.313941 352.067939 455.399921 356.786083 387.492664 361.504228 437.089851 366.222372 469.245653 370.940517 484.204476 375.658661 472.764015 380.376806 481.629110 385.094950 474.007607 389.813095 478.890269 394.531239 471.621181 399.249383 466.057342 403.967528 471.967835 408.685672 467.370680 413.403817 467.322271 418.121961 466.446556 422.840106 463.645758 427.558250 463.851908 432.276395 462.511051 436.994539 461.801000 441.712683 425.962426 446.430828 463.546862 451.148972 469.805869 455.867117 477.293426 460.585261 480.520393 465.303406 460.700897 470.021550 451.788775 474.739695 451.146562 479.457839 462.440202 484.175984 438.928319 488.894128 456.688850 493.612272 474.740747 498.330417 462.775805 503.048561 454.848898 507.766706 378.744169 512.484850 433.256148 517.202995 408.619897 521.921139 430.941973 526.639284 415.173940 531.357428 445.892303 536.075573 428.724459 540.793717 447.055501 545.511861 441.314658 550.230006 460.988976 554.948150 464.218350 559.666295 450.416788 564.384439 457.262588 569.102584 462.572432 573.820728 450.647348 578.538873 472.690777 583.257017 456.418233 587.975161 477.077944 592.693306 469.554601 597.411450 445.899551 602.129595 438.757512 606.847739 462.520076 611.565884 477.140524 616.284028 450.011758 621.002173 439.828226 625.720317 444.881702 630.438462 485.049850 630.438462 497.560998 625.720317 471.169879 621.002173 475.681517 616.284028 470.972022 611.565884 492.389075 606.847739 479.823318 602.129595 470.118989 597.411450 482.775227 592.693306 488.139318 587.975161 490.060603 583.257017 482.176889 578.538873 488.313447 573.820728 471.608251 569.102584 482.185605 564.384439 475.672088 559.666295 472.711979 554.948150 483.752504 550.230006 480.349230 545.511861 470.817183 540.793717 468.638403 536.075573 452.274964 531.357428 466.046121 526.639284 455.526637 521.921139 464.251337 517.202995 436.706368 512.484850 454.106792 507.766706 404.594650 503.048561 485.410854 498.330417 490.370681 493.612272 491.141597 488.894128 485.486364 484.175984 484.849640 479.457839 483.485087 474.739695 478.567871 470.021550 481.179655 465.303406 490.986808 460.585261 504.837584 455.867117 501.031857 451.148972 501.125296 446.430828 496.285414 441.712683 492.585210 436.994539 491.427574 432.276395 496.977996 427.558250 499.523057 422.840106 494.069805 418.121961 491.818581 413.403817 504.919232 408.685672 509.992022 403.967528 506.522718 399.249383 491.983298 394.531239 501.291864 389.813095 504.192070 385.094950 503.427307 380.376806 506.810070 375.658661 508.360014 370.940517 505.382038 366.222372 492.252317 361.504228 488.818574 356.786083 485.715426 352.067939 494.629863 347.349794 495.550926 342.631650 496.721374 337.913506 491.277434 333.195361 478.996930 328.477217 488.148452 323.759072 495.510226 319.040928 487.668134 314.322783 491.376267 309.604639 498.302031 304.886494 475.051070 300.168350 485.747969 295.450206 486.845029 290.732061 493.826759 286.013917 495.628976 281.295772 491.242866 276.577628 488.901228 271.859483 503.678900 267.141339 502.064875 262.423194 505.890696 257.705050 493.345194 252.986905 496.353476 248.268761 495.649648 243.550617 492.945279 238.832472 495.095036 234.114328 494.576098 229.396183 498.081555 224.678039 493.842773 219.959894 500.893506 215.241750 503.150320 210.523605 506.166551 205.805461 506.531177 201.087317 504.832257 196.369172 500.376702 191.651028 481.736215 186.932883 443.825115 182.214739 506.633415 177.496594 511.969897 172.778450 513.014032 168.060305 510.177347 163.342161 501.821326 158.624016 500.152087 153.905872 509.661555 149.187728 507.680851 144.469583 500.200103 139.751439 503.772566 135.033294 506.022289 130.315150 503.996682 125.597005 498.916499 120.878861 497.555117 116.160716 506.718513 111.442572 494.425328 106.724427 486.499551 102.006283 496.404194 97.288139 495.415080 92.569994 499.894066 87.851850 495.114843 83.133705 500.505843 78.415561 489.791770 73.697416 494.597567 68.979272 497.375947 64.261127 500.740616 59.542983 489.558561 54.824839 474.302949 50.106694 484.596576 45.388550 484.089170 40.670405 499.826466 35.952261 502.758442 31.234116 495.114064 26.515972 481.685217 21.797827 500.316873 17.079683 498.761047 12.361538 515.154415\"/></g><g class=\"series serie-3 color-3\"><path class=\"line reactive\" d=\"M12.361538 506.093190 L17.079683 475.106484 21.797827 475.107026 26.515972 462.186072 31.234116 479.577302 35.952261 476.987723 40.670405 451.812635 45.388550 426.209401 50.106694 436.309021 54.824839 432.244195 59.542983 451.812543 64.261127 451.267499 68.979272 470.534679 73.697416 465.124083 78.415561 453.119478 83.133705 471.402073 87.851850 469.184428 92.569994 476.949572 97.288139 479.646866 102.006283 469.609259 106.724427 457.362084 111.442572 467.857785 116.160716 486.638331 120.878861 480.509726 125.597005 473.964124 130.315150 483.690251 135.033294 482.609652 139.751439 485.831540 144.469583 482.540202 149.187728 489.849092 153.905872 499.710398 158.624016 479.438697 163.342161 484.181528 168.060305 501.171678 172.778450 502.535558 177.496594 500.827452 182.214739 491.065303 186.932883 413.940226 191.651028 468.288892 196.369172 483.077140 201.087317 483.539688 205.805461 491.026575 210.523605 493.638643 215.241750 489.419932 219.959894 479.259307 224.678039 468.792781 229.396183 475.315149 234.114328 465.281302 238.832472 462.672506 243.550617 473.703294 248.268761 477.123718 252.986905 475.555063 257.705050 464.886645 262.423194 485.439239 267.141339 487.560464 271.859483 485.562806 276.577628 467.995742 281.295772 475.164692 286.013917 470.902475 290.732061 469.573152 295.450206 466.347841 300.168350 449.114655 304.886494 443.156915 309.604639 477.242845 314.322783 466.432256 319.040928 462.244091 323.759072 474.842412 328.477217 463.590052 333.195361 449.765885 337.913506 461.058897 342.631650 465.230290 347.349794 465.506068 352.067939 446.880868 356.786083 367.136139 361.504228 417.081477 366.222372 461.617910 370.940517 478.595284 375.658661 463.729221 380.376806 471.126053 385.094950 462.339970 389.813095 467.596756 394.531239 463.023790 399.249383 455.907221 403.967528 464.780409 408.685672 460.478710 413.403817 455.570805 418.121961 455.455904 422.840106 450.888261 427.558250 453.672619 432.276395 454.646950 436.994539 453.662478 441.712683 411.346738 446.430828 436.826802 451.148972 444.626208 455.867117 461.840673 460.585261 470.131224 465.303406 447.499681 470.021550 439.423077 474.739695 432.370826 479.457839 440.956267 484.175984 411.041678 488.894128 434.097107 493.612272 458.350037 498.330417 434.741842 503.048561 415.185984 507.766706 354.583291 512.484850 415.618469 517.202995 384.228232 521.921139 406.948492 526.639284 392.518656 531.357428 416.929728 536.075573 405.717857 540.793717 420.999343 545.511861 418.568521 550.230006 446.751717 554.948150 442.182789 559.666295 428.334218 564.384439 431.508954 569.102584 444.374411 573.820728 422.284799 578.538873 452.597535 583.257017 438.167926 587.975161 445.071691 592.693306 448.474001 597.411450 430.909528 602.129595 426.189143 606.847739 445.833784 611.565884 441.361051 616.284028 421.732096 621.002173 415.331698 625.720317 421.278499 630.438462 473.702127 630.438462 485.049850 625.720317 444.881702 621.002173 439.828226 616.284028 450.011758 611.565884 477.140524 606.847739 462.520076 602.129595 438.757512 597.411450 445.899551 592.693306 469.554601 587.975161 477.077944 583.257017 456.418233 578.538873 472.690777 573.820728 450.647348 569.102584 462.572432 564.384439 457.262588 559.666295 450.416788 554.948150 464.218350 550.230006 460.988976 545.511861 441.314658 540.793717 447.055501 536.075573 428.724459 531.357428 445.892303 526.639284 415.173940 521.921139 430.941973 517.202995 408.619897 512.484850 433.256148 507.766706 378.744169 503.048561 454.848898 498.330417 462.775805 493.612272 474.740747 488.894128 456.688850 484.175984 438.928319 479.457839 462.440202 474.739695 451.146562 470.021550 451.788775 465.303406 460.700897 460.585261 480.520393 455.867117 477.293426 451.148972 469.805869 446.430828 463.546862 441.712683 425.962426 436.994539 461.801000 432.276395 462.511051 427.558250 463.851908 422.840106 463.645758 418.121961 466.446556 413.403817 467.322271 408.685672 467.370680 403.967528 471.967835 399.249383 466.057342 394.531239 471.621181 389.813095 478.890269 385.094950 474.007607 380.376806 481.629110 375.658661 472.764015 370.940517 484.204476 366.222372 469.245653 361.504228 437.089851 356.786083 387.492664 352.067939 455.399921 347.349794 471.313941 342.631650 470.487336 337.913506 469.375837 333.195361 456.523799 328.477217 472.227833 323.759072 484.704999 319.040928 468.653115 314.322783 474.043078 309.604639 485.564297 304.886494 455.182335 300.168350 460.941752 295.450206 475.320903 290.732061 479.152858 286.013917 477.974968 281.295772 481.274911 276.577628 475.637989 271.859483 491.134510 267.141339 494.855947 262.423194 497.465142 257.705050 477.467679 252.986905 481.606714 248.268761 485.984808 243.550617 480.367852 238.832472 476.570500 234.114328 476.573535 229.396183 481.586551 224.678039 473.920001 219.959894 484.020777 215.241750 492.909272 210.523605 497.245914 205.805461 495.422543 201.087317 490.695064 196.369172 489.701201 191.651028 474.933812 186.932883 427.709351 182.214739 494.769710 177.496594 504.202923 172.778450 505.685003 168.060305 503.996163 163.342161 487.598155 158.624016 485.309831 153.905872 504.963733 149.187728 497.016624 144.469583 488.483320 139.751439 493.381555 135.033294 492.693117 130.315150 488.988764 125.597005 483.216578 120.878861 484.977171 116.160716 491.606762 111.442572 474.511652 106.724427 465.197182 102.006283 479.251419 97.288139 486.758815 92.569994 482.353636 87.851850 478.862590 83.133705 480.554640 78.415561 465.268221 73.697416 476.229421 68.979272 479.648804 64.261127 459.394427 59.542983 469.584047 54.824839 449.834335 50.106694 452.354180 45.388550 444.810187 40.670405 466.115886 35.952261 484.052020 31.234116 483.832159 26.515972 469.104507 21.797827 480.625672 17.079683 481.238731 12.361538 508.356091\"/></g><g class=\"series serie-4 color-4\"><path class=\"line reactive\" d=\"M12.361538 504.071680 L17.079683 463.082155 21.797827 461.351642 26.515972 446.067281 31.234116 466.504177 35.952261 466.711016 40.670405 443.886944 45.388550 407.677253 50.106694 414.564561 54.824839 412.502064 59.542983 430.508799 64.261127 433.651105 68.979272 456.756177 73.697416 446.688022 78.415561 422.522191 83.133705 420.701860 87.851850 440.252654 92.569994 455.232470 97.288139 466.599211 102.006283 458.414039 106.724427 436.001430 111.442572 450.668594 116.160716 469.889268 120.878861 465.631173 125.597005 460.705530 130.315150 470.120216 135.033294 467.969412 139.751439 473.882782 144.469583 466.611568 149.187728 476.110816 153.905872 487.601042 158.624016 461.771795 163.342161 467.425805 168.060305 489.806501 172.778450 493.994972 177.496594 492.237996 182.214739 479.972435 186.932883 398.376260 191.651028 457.888767 196.369172 464.894560 201.087317 467.955058 205.805461 479.371535 210.523605 483.719993 215.241750 479.493644 219.959894 467.502584 224.678039 456.212294 229.396183 460.820998 234.114328 451.651657 238.832472 448.035370 243.550617 461.843185 248.268761 465.482735 252.986905 465.073532 257.705050 453.171029 262.423194 473.092905 267.141339 475.101703 271.859483 474.490533 276.577628 453.669800 281.295772 460.204103 286.013917 456.605054 290.732061 454.619827 295.450206 450.230997 300.168350 433.769299 304.886494 420.221892 309.604639 456.728523 314.322783 444.513701 319.040928 439.746367 323.759072 458.858509 328.477217 449.018053 333.195361 427.120890 337.913506 440.663222 342.631650 449.534589 347.349794 447.892923 352.067939 426.759492 356.786083 342.164413 361.504228 397.455043 366.222372 446.482702 370.940517 465.804095 375.658661 436.583919 380.376806 435.616217 385.094950 427.246294 389.813095 431.997279 394.531239 436.429830 399.249383 436.423616 403.967528 447.784315 408.685672 444.620695 413.403817 434.693428 418.121961 437.938433 422.840106 430.593367 427.558250 422.602137 432.276395 428.955693 436.994539 430.297646 441.712683 384.922245 446.430828 415.422138 451.148972 417.551131 455.867117 439.929103 460.585261 448.995813 465.303406 427.494565 470.021550 416.907811 474.739695 407.340071 479.457839 418.149242 484.175984 389.675448 488.894128 416.613176 493.612272 442.111858 498.330417 411.965479 503.048561 393.886210 507.766706 333.183422 512.484850 391.389871 517.202995 347.719936 521.921139 380.635608 526.639284 362.405437 531.357428 395.609821 536.075573 380.971914 540.793717 396.885888 545.511861 393.470556 550.230006 419.615156 554.948150 419.364848 559.666295 405.316570 564.384439 408.879308 569.102584 420.869721 573.820728 395.890554 578.538873 430.617683 583.257017 419.037208 587.975161 426.594702 592.693306 425.385155 597.411450 409.449678 602.129595 405.153399 606.847739 416.266101 611.565884 424.249569 616.284028 402.383077 621.002173 393.006539 625.720317 393.990860 630.438462 463.811534 630.438462 473.702127 625.720317 421.278499 621.002173 415.331698 616.284028 421.732096 611.565884 441.361051 606.847739 445.833784 602.129595 426.189143 597.411450 430.909528 592.693306 448.474001 587.975161 445.071691 583.257017 438.167926 578.538873 452.597535 573.820728 422.284799 569.102584 444.374411 564.384439 431.508954 559.666295 428.334218 554.948150 442.182789 550.230006 446.751717 545.511861 418.568521 540.793717 420.999343 536.075573 405.717857 531.357428 416.929728 526.639284 392.518656 521.921139 406.948492 517.202995 384.228232 512.484850 415.618469 507.766706 354.583291 503.048561 415.185984 498.330417 434.741842 493.612272 458.350037 488.894128 434.097107 484.175984 411.041678 479.457839 440.956267 474.739695 432.370826 470.021550 439.423077 465.303406 447.499681 460.585261 470.131224 455.867117 461.840673 451.148972 444.626208 446.430828 436.826802 441.712683 411.346738 436.994539 453.662478 432.276395 454.646950 427.558250 453.672619 422.840106 450.888261 418.121961 455.455904 413.403817 455.570805 408.685672 460.478710 403.967528 464.780409 399.249383 455.907221 394.531239 463.023790 389.813095 467.596756 385.094950 462.339970 380.376806 471.126053 375.658661 463.729221 370.940517 478.595284 366.222372 461.617910 361.504228 417.081477 356.786083 367.136139 352.067939 446.880868 347.349794 465.506068 342.631650 465.230290 337.913506 461.058897 333.195361 449.765885 328.477217 463.590052 323.759072 474.842412 319.040928 462.244091 314.322783 466.432256 309.604639 477.242845 304.886494 443.156915 300.168350 449.114655 295.450206 466.347841 290.732061 469.573152 286.013917 470.902475 281.295772 475.164692 276.577628 467.995742 271.859483 485.562806 267.141339 487.560464 262.423194 485.439239 257.705050 464.886645 252.986905 475.555063 248.268761 477.123718 243.550617 473.703294 238.832472 462.672506 234.114328 465.281302 229.396183 475.315149 224.678039 468.792781 219.959894 479.259307 215.241750 489.419932 210.523605 493.638643 205.805461 491.026575 201.087317 483.539688 196.369172 483.077140 191.651028 468.288892 186.932883 413.940226 182.214739 491.065303 177.496594 500.827452 172.778450 502.535558 168.060305 501.171678 163.342161 484.181528 158.624016 479.438697 153.905872 499.710398 149.187728 489.849092 144.469583 482.540202 139.751439 485.831540 135.033294 482.609652 130.315150 483.690251 125.597005 473.964124 120.878861 480.509726 116.160716 486.638331 111.442572 467.857785 106.724427 457.362084 102.006283 469.609259 97.288139 479.646866 92.569994 476.949572 87.851850 469.184428 83.133705 471.402073 78.415561 453.119478 73.697416 465.124083 68.979272 470.534679 64.261127 451.267499 59.542983 451.812543 54.824839 432.244195 50.106694 436.309021 45.388550 426.209401 40.670405 451.812635 35.952261 476.987723 31.234116 479.577302 26.515972 462.186072 21.797827 475.107026 17.079683 475.106484 12.361538 506.093190\"/></g><g class=\"series serie-5 color-5\"><path class=\"line reactive\" d=\"M12.361538 501.549975 L17.079683 455.058519 21.797827 451.042409 26.515972 438.051163 31.234116 462.360979 35.952261 459.010520 40.670405 435.483479 45.388550 391.797987 50.106694 398.551548 54.824839 400.903854 59.542983 416.258661 64.261127 424.521681 68.979272 443.078174 73.697416 429.071107 78.415561 391.041563 83.133705 398.091682 87.851850 418.136025 92.569994 441.426046 97.288139 458.864030 102.006283 450.480400 106.724427 425.154987 111.442572 443.391374 116.160716 464.401279 120.878861 458.477604 125.597005 450.677384 130.315150 464.099380 135.033294 461.531984 139.751439 463.470385 144.469583 459.335314 149.187728 471.352926 153.905872 480.787735 158.624016 452.798150 163.342161 457.960718 168.060305 475.828461 172.778450 482.656240 177.496594 487.020227 182.214739 476.529856 186.932883 393.946417 191.651028 455.177989 196.369172 461.593732 201.087317 464.331941 205.805461 474.053482 210.523605 480.630680 215.241750 477.566444 219.959894 465.268338 224.678039 452.858582 229.396183 445.053707 234.114328 440.690599 238.832472 439.818951 243.550617 451.810456 248.268761 442.923183 252.986905 458.869132 257.705050 448.834473 262.423194 466.347245 267.141339 467.874084 271.859483 469.561436 276.577628 444.829155 281.295772 453.821067 286.013917 443.069897 290.732061 446.389003 295.450206 431.532555 300.168350 404.792643 304.886494 376.069971 309.604639 440.695169 314.322783 432.362311 319.040928 429.431408 323.759072 452.108291 328.477217 440.956548 333.195361 419.191805 337.913506 434.849470 342.631650 438.222196 347.349794 439.348442 352.067939 416.935282 356.786083 326.617407 361.504228 384.560697 366.222372 439.574158 370.940517 461.455362 375.658661 428.503604 380.376806 430.976033 385.094950 421.172481 389.813095 426.284889 394.531239 429.582533 399.249383 427.370663 403.967528 440.491348 408.685672 438.515449 413.403817 425.558924 418.121961 427.927708 422.840106 420.836827 427.558250 415.782516 432.276395 422.774643 436.994539 410.390150 441.712683 377.674552 446.430828 406.574759 451.148972 411.594925 455.867117 432.161452 460.585261 430.261175 465.303406 409.855237 470.021550 400.150480 474.739695 391.518102 479.457839 406.827473 484.175984 377.858480 488.894128 406.740650 493.612272 432.111854 498.330417 393.787827 503.048561 386.610954 507.766706 322.630240 512.484850 384.304520 517.202995 338.189686 521.921139 360.767791 526.639284 340.332696 531.357428 362.892518 536.075573 354.021313 540.793717 386.149311 545.511861 369.842362 550.230006 385.689306 554.948150 389.293613 559.666295 384.866109 564.384439 384.188330 569.102584 400.482334 573.820728 379.444305 578.538873 417.125362 583.257017 403.384185 587.975161 399.512345 592.693306 395.748432 597.411450 374.175812 602.129595 389.794397 606.847739 401.643630 611.565884 406.965460 616.284028 383.452987 621.002173 375.252705 625.720317 378.930213 630.438462 454.512100 630.438462 463.811534 625.720317 393.990860 621.002173 393.006539 616.284028 402.383077 611.565884 424.249569 606.847739 416.266101 602.129595 405.153399 597.411450 409.449678 592.693306 425.385155 587.975161 426.594702 583.257017 419.037208 578.538873 430.617683 573.820728 395.890554 569.102584 420.869721 564.384439 408.879308 559.666295 405.316570 554.948150 419.364848 550.230006 419.615156 545.511861 393.470556 540.793717 396.885888 536.075573 380.971914 531.357428 395.609821 526.639284 362.405437 521.921139 380.635608 517.202995 347.719936 512.484850 391.389871 507.766706 333.183422 503.048561 393.886210 498.330417 411.965479 493.612272 442.111858 488.894128 416.613176 484.175984 389.675448 479.457839 418.149242 474.739695 407.340071 470.021550 416.907811 465.303406 427.494565 460.585261 448.995813 455.867117 439.929103 451.148972 417.551131 446.430828 415.422138 441.712683 384.922245 436.994539 430.297646 432.276395 428.955693 427.558250 422.602137 422.840106 430.593367 418.121961 437.938433 413.403817 434.693428 408.685672 444.620695 403.967528 447.784315 399.249383 436.423616 394.531239 436.429830 389.813095 431.997279 385.094950 427.246294 380.376806 435.616217 375.658661 436.583919 370.940517 465.804095 366.222372 446.482702 361.504228 397.455043 356.786083 342.164413 352.067939 426.759492 347.349794 447.892923 342.631650 449.534589 337.913506 440.663222 333.195361 427.120890 328.477217 449.018053 323.759072 458.858509 319.040928 439.746367 314.322783 444.513701 309.604639 456.728523 304.886494 420.221892 300.168350 433.769299 295.450206 450.230997 290.732061 454.619827 286.013917 456.605054 281.295772 460.204103 276.577628 453.669800 271.859483 474.490533 267.141339 475.101703 262.423194 473.092905 257.705050 453.171029 252.986905 465.073532 248.268761 465.482735 243.550617 461.843185 238.832472 448.035370 234.114328 451.651657 229.396183 460.820998 224.678039 456.212294 219.959894 467.502584 215.241750 479.493644 210.523605 483.719993 205.805461 479.371535 201.087317 467.955058 196.369172 464.894560 191.651028 457.888767 186.932883 398.376260 182.214739 479.972435 177.496594 492.237996 172.778450 493.994972 168.060305 489.806501 163.342161 467.425805 158.624016 461.771795 153.905872 487.601042 149.187728 476.110816 144.469583 466.611568 139.751439 473.882782 135.033294 467.969412 130.315150 470.120216 125.597005 460.705530 120.878861 465.631173 116.160716 469.889268 111.442572 450.668594 106.724427 436.001430 102.006283 458.414039 97.288139 466.599211 92.569994 455.232470 87.851850 440.252654 83.133705 420.701860 78.415561 422.522191 73.697416 446.688022 68.979272 456.756177 64.261127 433.651105 59.542983 430.508799 54.824839 412.502064 50.106694 414.564561 45.388550 407.677253 40.670405 443.886944 35.952261 466.711016 31.234116 466.504177 26.515972 446.067281 21.797827 461.351642 17.079683 463.082155 12.361538 504.071680\"/></g><g class=\"series serie-6 color-6\"><path class=\"line reactive\" d=\"M12.361538 491.115892 L17.079683 428.877064 21.797827 426.255269 26.515972 420.091774 31.234116 445.753193 35.952261 438.765650 40.670405 403.726127 45.388550 343.610231 50.106694 362.524561 54.824839 357.234182 59.542983 379.009037 64.261127 384.496822 68.979272 401.051629 73.697416 391.129848 78.415561 351.595959 83.133705 369.440079 87.851850 393.143956 92.569994 417.717040 97.288139 444.690021 102.006283 417.657706 106.724427 396.974941 111.442572 423.433638 116.160716 442.456746 120.878861 436.024401 125.597005 425.705944 130.315150 444.751558 135.033294 441.953501 139.751439 445.462198 144.469583 438.511239 149.187728 455.476083 153.905872 467.630934 158.624016 426.735410 163.342161 439.348133 168.060305 459.117392 172.778450 465.744165 177.496594 473.187013 182.214739 453.667607 186.932883 364.219181 191.651028 438.381573 196.369172 442.724365 201.087317 443.058605 205.805461 457.566998 210.523605 465.849743 215.241750 459.631374 219.959894 445.254869 224.678039 432.650485 229.396183 421.580785 234.114328 421.234076 238.832472 410.431363 243.550617 425.556790 248.268761 420.551942 252.986905 439.064183 257.705050 422.144627 262.423194 445.135533 267.141339 451.696295 271.859483 451.659651 276.577628 427.041875 281.295772 434.569229 286.013917 420.825296 290.732061 425.196485 295.450206 401.653624 300.168350 366.539887 304.886494 339.254695 309.604639 412.291458 314.322783 397.423925 319.040928 399.404629 323.759072 419.241030 328.477217 394.432328 333.195361 392.264657 337.913506 401.543443 342.631650 413.752460 347.349794 408.118478 352.067939 376.650247 356.786083 267.994640 361.504228 340.865627 366.222372 420.078848 370.940517 444.551973 375.658661 411.192730 380.376806 413.718128 385.094950 400.148316 389.813095 408.549833 394.531239 404.707467 399.249383 402.751106 403.967528 414.944235 408.685672 406.899327 413.403817 397.038167 418.121961 400.899854 422.840106 393.868882 427.558250 389.075571 432.276395 392.018911 436.994539 387.247718 441.712683 330.028584 446.430828 358.963749 451.148972 363.911357 455.867117 395.407634 460.585261 405.021532 465.303406 372.355860 470.021550 365.185332 474.739695 355.877799 479.457839 376.598493 484.175984 340.863541 488.894128 369.831937 493.612272 399.527781 498.330417 350.941699 503.048561 339.402099 507.766706 273.163068 512.484850 332.044789 517.202995 279.981685 521.921139 307.664441 526.639284 290.795271 531.357428 313.846505 536.075573 309.541531 540.793717 351.095794 545.511861 325.213962 550.230006 349.972967 554.948150 363.066862 559.666295 348.660307 564.384439 343.431649 569.102584 366.876604 573.820728 343.430054 578.538873 391.561693 583.257017 365.548073 587.975161 357.917124 592.693306 367.018229 597.411450 329.966815 602.129595 339.292003 606.847739 370.535040 611.565884 377.746400 616.284028 353.075240 621.002173 342.088367 625.720317 346.102448 630.438462 438.107693 630.438462 454.512100 625.720317 378.930213 621.002173 375.252705 616.284028 383.452987 611.565884 406.965460 606.847739 401.643630 602.129595 389.794397 597.411450 374.175812 592.693306 395.748432 587.975161 399.512345 583.257017 403.384185 578.538873 417.125362 573.820728 379.444305 569.102584 400.482334 564.384439 384.188330 559.666295 384.866109 554.948150 389.293613 550.230006 385.689306 545.511861 369.842362 540.793717 386.149311 536.075573 354.021313 531.357428 362.892518 526.639284 340.332696 521.921139 360.767791 517.202995 338.189686 512.484850 384.304520 507.766706 322.630240 503.048561 386.610954 498.330417 393.787827 493.612272 432.111854 488.894128 406.740650 484.175984 377.858480 479.457839 406.827473 474.739695 391.518102 470.021550 400.150480 465.303406 409.855237 460.585261 430.261175 455.867117 432.161452 451.148972 411.594925 446.430828 406.574759 441.712683 377.674552 436.994539 410.390150 432.276395 422.774643 427.558250 415.782516 422.840106 420.836827 418.121961 427.927708 413.403817 425.558924 408.685672 438.515449 403.967528 440.491348 399.249383 427.370663 394.531239 429.582533 389.813095 426.284889 385.094950 421.172481 380.376806 430.976033 375.658661 428.503604 370.940517 461.455362 366.222372 439.574158 361.504228 384.560697 356.786083 326.617407 352.067939 416.935282 347.349794 439.348442 342.631650 438.222196 337.913506 434.849470 333.195361 419.191805 328.477217 440.956548 323.759072 452.108291 319.040928 429.431408 314.322783 432.362311 309.604639 440.695169 304.886494 376.069971 300.168350 404.792643 295.450206 431.532555 290.732061 446.389003 286.013917 443.069897 281.295772 453.821067 276.577628 444.829155 271.859483 469.561436 267.141339 467.874084 262.423194 466.347245 257.705050 448.834473 252.986905 458.869132 248.268761 442.923183 243.550617 451.810456 238.832472 439.818951 234.114328 440.690599 229.396183 445.053707 224.678039 452.858582 219.959894 465.268338 215.241750 477.566444 210.523605 480.630680 205.805461 474.053482 201.087317 464.331941 196.369172 461.593732 191.651028 455.177989 186.932883 393.946417 182.214739 476.529856 177.496594 487.020227 172.778450 482.656240 168.060305 475.828461 163.342161 457.960718 158.624016 452.798150 153.905872 480.787735 149.187728 471.352926 144.469583 459.335314 139.751439 463.470385 135.033294 461.531984 130.315150 464.099380 125.597005 450.677384 120.878861 458.477604 116.160716 464.401279 111.442572 443.391374 106.724427 425.154987 102.006283 450.480400 97.288139 458.864030 92.569994 441.426046 87.851850 418.136025 83.133705 398.091682 78.415561 391.041563 73.697416 429.071107 68.979272 443.078174 64.261127 424.521681 59.542983 416.258661 54.824839 400.903854 50.106694 398.551548 45.388550 391.797987 40.670405 435.483479 35.952261 459.010520 31.234116 462.360979 26.515972 438.051163 21.797827 451.042409 17.079683 455.058519 12.361538 501.549975\"/></g><g class=\"series serie-7 color-7\"><path class=\"line reactive\" d=\"M12.361538 486.799705 L17.079683 419.885292 21.797827 417.298562 26.515972 412.281090 31.234116 439.777535 35.952261 429.502812 40.670405 397.465694 45.388550 332.130059 50.106694 348.755139 54.824839 347.876736 59.542983 364.723517 64.261127 374.498747 68.979272 389.644732 73.697416 376.547630 78.415561 336.065595 83.133705 354.382683 87.851850 380.499553 92.569994 404.748412 97.288139 431.174632 102.006283 406.880778 106.724427 381.477342 111.442572 413.087699 116.160716 428.418134 120.878861 424.632737 125.597005 414.174585 130.315150 434.429110 135.033294 434.852760 139.751439 436.669855 144.469583 424.387201 149.187728 436.098193 153.905872 454.635546 158.624016 413.298009 163.342161 424.896737 168.060305 446.185723 172.778450 449.870697 177.496594 461.456979 182.214739 441.205835 186.932883 354.065672 191.651028 427.810352 196.369172 429.093125 201.087317 432.049479 205.805461 444.077096 210.523605 454.649819 215.241750 449.537065 219.959894 428.711466 224.678039 419.300016 229.396183 410.302862 234.114328 408.199358 238.832472 393.667507 243.550617 411.288823 248.268761 408.753819 252.986905 427.041718 257.705050 404.257343 262.423194 431.822983 267.141339 430.983560 271.859483 438.108788 276.577628 406.129632 281.295772 419.879458 286.013917 403.953967 290.732061 405.985676 295.450206 383.488737 300.168350 345.922189 304.886494 302.401391 309.604639 392.160711 314.322783 348.258752 319.040928 353.034856 323.759072 392.895076 328.477217 371.119370 333.195361 353.740162 337.913506 374.237496 342.631650 389.993943 347.349794 382.471142 352.067939 357.302245 356.786083 250.903107 361.504228 327.924634 366.222372 408.266582 370.940517 433.159736 375.658661 396.562833 380.376806 400.661584 385.094950 388.408599 389.813095 390.221365 394.531239 394.062952 399.249383 385.235428 403.967528 395.131214 408.685672 396.013250 413.403817 376.270077 418.121961 385.652140 422.840106 378.335047 427.558250 372.237405 432.276395 371.503449 436.994539 363.546099 441.712683 311.656788 446.430828 339.719472 451.148972 344.256725 455.867117 382.405331 460.585261 384.218477 465.303406 356.819074 470.021550 336.788893 474.739695 337.022974 479.457839 361.249456 484.175984 326.884954 488.894128 345.145473 493.612272 378.832311 498.330417 330.420228 503.048561 315.963030 507.766706 249.541797 512.484850 308.273978 517.202995 247.717096 521.921139 278.352543 526.639284 251.221328 531.357428 290.726588 536.075573 277.130792 540.793717 322.377198 545.511861 303.327483 550.230006 327.441977 554.948150 344.885585 559.666295 326.079429 564.384439 318.082533 569.102584 349.772867 573.820728 324.433814 578.538873 369.114703 583.257017 267.188292 587.975161 305.306403 592.693306 342.067213 597.411450 310.228497 602.129595 296.166513 606.847739 338.163287 611.565884 345.459293 616.284028 299.522065 621.002173 302.641562 625.720317 319.683231 630.438462 423.660726 630.438462 438.107693 625.720317 346.102448 621.002173 342.088367 616.284028 353.075240 611.565884 377.746400 606.847739 370.535040 602.129595 339.292003 597.411450 329.966815 592.693306 367.018229 587.975161 357.917124 583.257017 365.548073 578.538873 391.561693 573.820728 343.430054 569.102584 366.876604 564.384439 343.431649 559.666295 348.660307 554.948150 363.066862 550.230006 349.972967 545.511861 325.213962 540.793717 351.095794 536.075573 309.541531 531.357428 313.846505 526.639284 290.795271 521.921139 307.664441 517.202995 279.981685 512.484850 332.044789 507.766706 273.163068 503.048561 339.402099 498.330417 350.941699 493.612272 399.527781 488.894128 369.831937 484.175984 340.863541 479.457839 376.598493 474.739695 355.877799 470.021550 365.185332 465.303406 372.355860 460.585261 405.021532 455.867117 395.407634 451.148972 363.911357 446.430828 358.963749 441.712683 330.028584 436.994539 387.247718 432.276395 392.018911 427.558250 389.075571 422.840106 393.868882 418.121961 400.899854 413.403817 397.038167 408.685672 406.899327 403.967528 414.944235 399.249383 402.751106 394.531239 404.707467 389.813095 408.549833 385.094950 400.148316 380.376806 413.718128 375.658661 411.192730 370.940517 444.551973 366.222372 420.078848 361.504228 340.865627 356.786083 267.994640 352.067939 376.650247 347.349794 408.118478 342.631650 413.752460 337.913506 401.543443 333.195361 392.264657 328.477217 394.432328 323.759072 419.241030 319.040928 399.404629 314.322783 397.423925 309.604639 412.291458 304.886494 339.254695 300.168350 366.539887 295.450206 401.653624 290.732061 425.196485 286.013917 420.825296 281.295772 434.569229 276.577628 427.041875 271.859483 451.659651 267.141339 451.696295 262.423194 445.135533 257.705050 422.144627 252.986905 439.064183 248.268761 420.551942 243.550617 425.556790 238.832472 410.431363 234.114328 421.234076 229.396183 421.580785 224.678039 432.650485 219.959894 445.254869 215.241750 459.631374 210.523605 465.849743 205.805461 457.566998 201.087317 443.058605 196.369172 442.724365 191.651028 438.381573 186.932883 364.219181 182.214739 453.667607 177.496594 473.187013 172.778450 465.744165 168.060305 459.117392 163.342161 439.348133 158.624016 426.735410 153.905872 467.630934 149.187728 455.476083 144.469583 438.511239 139.751439 445.462198 135.033294 441.953501 130.315150 444.751558 125.597005 425.705944 120.878861 436.024401 116.160716 442.456746 111.442572 423.433638 106.724427 396.974941 102.006283 417.657706 97.288139 444.690021 92.569994 417.717040 87.851850 393.143956 83.133705 369.440079 78.415561 351.595959 73.697416 391.129848 68.979272 401.051629 64.261127 384.496822 59.542983 379.009037 54.824839 357.234182 50.106694 362.524561 45.388550 343.610231 40.670405 403.726127 35.952261 438.765650 31.234116 445.753193 26.515972 420.091774 21.797827 426.255269 17.079683 428.877064 12.361538 491.115892\"/></g><g class=\"series serie-8 color-8\"><path class=\"line reactive\" d=\"M12.361538 476.806263 L17.079683 405.928391 21.797827 405.195414 26.515972 398.747613 31.234116 431.510029 35.952261 417.888038 40.670405 362.328054 45.388550 302.174913 50.106694 326.592647 54.824839 331.401697 59.542983 344.860745 64.261127 357.904529 68.979272 376.964282 73.697416 359.936283 78.415561 312.510017 83.133705 337.653850 87.851850 362.165887 92.569994 393.719887 97.288139 422.495187 102.006283 393.096272 106.724427 366.346144 111.442572 402.221156 116.160716 417.819941 120.878861 409.885153 125.597005 402.139615 130.315150 422.815136 135.033294 426.121670 139.751439 425.342507 144.469583 409.674505 149.187728 424.528531 153.905872 445.528657 158.624016 401.979589 163.342161 414.905281 168.060305 434.546336 172.778450 438.205834 177.496594 451.737603 182.214739 426.264282 186.932883 332.694256 191.651028 416.175358 196.369172 418.225377 201.087317 419.916003 205.805461 435.665954 210.523605 442.207821 215.241750 435.808440 219.959894 416.943985 224.678039 405.481636 229.396183 391.846618 234.114328 390.713369 238.832472 360.338061 243.550617 390.343847 248.268761 382.022612 252.986905 411.318708 257.705050 382.947678 262.423194 407.381064 267.141339 409.264286 271.859483 420.990081 276.577628 391.424395 281.295772 409.124846 286.013917 385.573161 290.732061 392.168279 295.450206 368.445331 300.168350 326.032357 304.886494 277.588636 309.604639 369.972250 314.322783 323.915895 319.040928 334.294127 323.759072 353.407284 328.477217 300.564618 333.195361 320.022130 337.913506 343.751995 342.631650 372.030010 347.349794 359.618128 352.067939 331.885667 356.786083 216.956652 361.504228 301.759356 366.222372 397.907078 370.940517 426.349909 375.658661 383.624690 380.376806 389.508356 385.094950 377.766460 389.813095 382.602266 394.531239 383.447714 399.249383 372.331056 403.967528 382.783153 408.685672 379.890075 413.403817 359.501152 418.121961 370.927496 422.840106 362.365685 427.558250 359.036225 432.276395 355.395533 436.994539 347.254351 441.712683 287.984730 446.430828 317.601498 451.148972 327.108193 455.867117 365.275407 460.585261 365.234298 465.303406 334.535008 470.021550 320.251044 474.739695 320.090209 479.457839 349.582638 484.175984 312.203526 488.894128 329.624800 493.612272 363.931795 498.330417 311.409918 503.048561 286.588456 507.766706 231.231613 512.484850 279.841621 517.202995 224.428076 521.921139 253.463074 526.639284 226.365284 531.357428 263.680986 536.075573 258.974966 540.793717 304.673318 545.511861 285.300940 550.230006 305.855733 554.948150 320.980677 559.666295 303.843312 564.384439 293.207059 569.102584 327.534256 573.820728 304.029346 578.538873 352.281947 583.257017 223.735075 587.975161 260.576694 592.693306 325.292924 597.411450 295.983822 602.129595 281.518863 606.847739 320.032692 611.565884 325.616325 616.284028 282.263681 621.002173 285.097578 625.720317 303.462328 630.438462 416.465965 630.438462 423.660726 625.720317 319.683231 621.002173 302.641562 616.284028 299.522065 611.565884 345.459293 606.847739 338.163287 602.129595 296.166513 597.411450 310.228497 592.693306 342.067213 587.975161 305.306403 583.257017 267.188292 578.538873 369.114703 573.820728 324.433814 569.102584 349.772867 564.384439 318.082533 559.666295 326.079429 554.948150 344.885585 550.230006 327.441977 545.511861 303.327483 540.793717 322.377198 536.075573 277.130792 531.357428 290.726588 526.639284 251.221328 521.921139 278.352543 517.202995 247.717096 512.484850 308.273978 507.766706 249.541797 503.048561 315.963030 498.330417 330.420228 493.612272 378.832311 488.894128 345.145473 484.175984 326.884954 479.457839 361.249456 474.739695 337.022974 470.021550 336.788893 465.303406 356.819074 460.585261 384.218477 455.867117 382.405331 451.148972 344.256725 446.430828 339.719472 441.712683 311.656788 436.994539 363.546099 432.276395 371.503449 427.558250 372.237405 422.840106 378.335047 418.121961 385.652140 413.403817 376.270077 408.685672 396.013250 403.967528 395.131214 399.249383 385.235428 394.531239 394.062952 389.813095 390.221365 385.094950 388.408599 380.376806 400.661584 375.658661 396.562833 370.940517 433.159736 366.222372 408.266582 361.504228 327.924634 356.786083 250.903107 352.067939 357.302245 347.349794 382.471142 342.631650 389.993943 337.913506 374.237496 333.195361 353.740162 328.477217 371.119370 323.759072 392.895076 319.040928 353.034856 314.322783 348.258752 309.604639 392.160711 304.886494 302.401391 300.168350 345.922189 295.450206 383.488737 290.732061 405.985676 286.013917 403.953967 281.295772 419.879458 276.577628 406.129632 271.859483 438.108788 267.141339 430.983560 262.423194 431.822983 257.705050 404.257343 252.986905 427.041718 248.268761 408.753819 243.550617 411.288823 238.832472 393.667507 234.114328 408.199358 229.396183 410.302862 224.678039 419.300016 219.959894 428.711466 215.241750 449.537065 210.523605 454.649819 205.805461 444.077096 201.087317 432.049479 196.369172 429.093125 191.651028 427.810352 186.932883 354.065672 182.214739 441.205835 177.496594 461.456979 172.778450 449.870697 168.060305 446.185723 163.342161 424.896737 158.624016 413.298009 153.905872 454.635546 149.187728 436.098193 144.469583 424.387201 139.751439 436.669855 135.033294 434.852760 130.315150 434.429110 125.597005 414.174585 120.878861 424.632737 116.160716 428.418134 111.442572 413.087699 106.724427 381.477342 102.006283 406.880778 97.288139 431.174632 92.569994 404.748412 87.851850 380.499553 83.133705 354.382683 78.415561 336.065595 73.697416 376.547630 68.979272 389.644732 64.261127 374.498747 59.542983 364.723517 54.824839 347.876736 50.106694 348.755139 45.388550 332.130059 40.670405 397.465694 35.952261 429.502812 31.234116 439.777535 26.515972 412.281090 21.797827 417.298562 17.079683 419.885292 12.361538 486.799705\"/></g><g class=\"series serie-9 color-9\"><path class=\"line reactive\" d=\"M12.361538 466.989717 L17.079683 386.763250 21.797827 385.816661 26.515972 361.863000 31.234116 404.935044 35.952261 386.396509 40.670405 324.965954 45.388550 264.520999 50.106694 294.762232 54.824839 301.802571 59.542983 307.674884 64.261127 336.561654 68.979272 342.086308 73.697416 324.733585 78.415561 273.892422 83.133705 306.381373 87.851850 310.421089 92.569994 352.373168 97.288139 382.875661 102.006283 364.190464 106.724427 336.844155 111.442572 378.004360 116.160716 395.724329 120.878861 380.032771 125.597005 379.960976 130.315150 405.275748 135.033294 396.187983 139.751439 389.478326 144.469583 387.510760 149.187728 395.688789 153.905872 421.096997 158.624016 370.785358 163.342161 385.874421 168.060305 418.838486 172.778450 422.688797 177.496594 433.914859 182.214739 409.703784 186.932883 309.727908 191.651028 392.171079 196.369172 398.666226 201.087317 401.739010 205.805461 411.397502 210.523605 419.247128 215.241750 411.237354 219.959894 396.539289 224.678039 387.019461 229.396183 373.563386 234.114328 364.743728 238.832472 336.106035 243.550617 362.444521 248.268761 360.167400 252.986905 370.412243 257.705050 358.738119 262.423194 373.751663 267.141339 377.155170 271.859483 393.584360 276.577628 364.211017 281.295772 379.371176 286.013917 363.551966 290.732061 352.846359 295.450206 337.181691 300.168350 291.081313 304.886494 220.178293 309.604639 324.601489 314.322783 278.427693 319.040928 288.156528 323.759072 320.016083 328.477217 270.179339 333.195361 274.615733 337.913506 307.987588 342.631650 346.252108 347.349794 328.257304 352.067939 295.969520 356.786083 171.500995 361.504228 267.235497 366.222372 362.028409 370.940517 397.924273 375.658661 324.624259 380.376806 357.360031 385.094950 353.622474 389.813095 355.876832 394.531239 358.384838 399.249383 323.325995 403.967528 348.036814 408.685672 356.994315 413.403817 308.217086 418.121961 327.597444 422.840106 324.707734 427.558250 324.916224 432.276395 311.806921 436.994539 279.979085 441.712683 250.748477 446.430828 273.748102 451.148972 263.617362 455.867117 329.788929 460.585261 322.727742 465.303406 300.441119 470.021550 254.536465 474.739695 287.424668 479.457839 307.480150 484.175984 266.126553 488.894128 278.183130 493.612272 316.761705 498.330417 277.243364 503.048561 247.301529 507.766706 196.800616 512.484850 227.038686 517.202995 179.735405 521.921139 223.583939 526.639284 186.052105 531.357428 230.282710 536.075573 228.007775 540.793717 260.490631 545.511861 253.912015 550.230006 256.321248 554.948150 294.227069 559.666295 271.432762 564.384439 255.184692 569.102584 287.575585 573.820728 269.996974 578.538873 322.445935 583.257017 189.994271 587.975161 230.143487 592.693306 298.568464 597.411450 273.342067 602.129595 241.007627 606.847739 281.492643 611.565884 306.612355 616.284028 251.132983 621.002173 254.526948 625.720317 272.069840 630.438462 395.515606 630.438462 416.465965 625.720317 303.462328 621.002173 285.097578 616.284028 282.263681 611.565884 325.616325 606.847739 320.032692 602.129595 281.518863 597.411450 295.983822 592.693306 325.292924 587.975161 260.576694 583.257017 223.735075 578.538873 352.281947 573.820728 304.029346 569.102584 327.534256 564.384439 293.207059 559.666295 303.843312 554.948150 320.980677 550.230006 305.855733 545.511861 285.300940 540.793717 304.673318 536.075573 258.974966 531.357428 263.680986 526.639284 226.365284 521.921139 253.463074 517.202995 224.428076 512.484850 279.841621 507.766706 231.231613 503.048561 286.588456 498.330417 311.409918 493.612272 363.931795 488.894128 329.624800 484.175984 312.203526 479.457839 349.582638 474.739695 320.090209 470.021550 320.251044 465.303406 334.535008 460.585261 365.234298 455.867117 365.275407 451.148972 327.108193 446.430828 317.601498 441.712683 287.984730 436.994539 347.254351 432.276395 355.395533 427.558250 359.036225 422.840106 362.365685 418.121961 370.927496 413.403817 359.501152 408.685672 379.890075 403.967528 382.783153 399.249383 372.331056 394.531239 383.447714 389.813095 382.602266 385.094950 377.766460 380.376806 389.508356 375.658661 383.624690 370.940517 426.349909 366.222372 397.907078 361.504228 301.759356 356.786083 216.956652 352.067939 331.885667 347.349794 359.618128 342.631650 372.030010 337.913506 343.751995 333.195361 320.022130 328.477217 300.564618 323.759072 353.407284 319.040928 334.294127 314.322783 323.915895 309.604639 369.972250 304.886494 277.588636 300.168350 326.032357 295.450206 368.445331 290.732061 392.168279 286.013917 385.573161 281.295772 409.124846 276.577628 391.424395 271.859483 420.990081 267.141339 409.264286 262.423194 407.381064 257.705050 382.947678 252.986905 411.318708 248.268761 382.022612 243.550617 390.343847 238.832472 360.338061 234.114328 390.713369 229.396183 391.846618 224.678039 405.481636 219.959894 416.943985 215.241750 435.808440 210.523605 442.207821 205.805461 435.665954 201.087317 419.916003 196.369172 418.225377 191.651028 416.175358 186.932883 332.694256 182.214739 426.264282 177.496594 451.737603 172.778450 438.205834 168.060305 434.546336 163.342161 414.905281 158.624016 401.979589 153.905872 445.528657 149.187728 424.528531 144.469583 409.674505 139.751439 425.342507 135.033294 426.121670 130.315150 422.815136 125.597005 402.139615 120.878861 409.885153 116.160716 417.819941 111.442572 402.221156 106.724427 366.346144 102.006283 393.096272 97.288139 422.495187 92.569994 393.719887 87.851850 362.165887 83.133705 337.653850 78.415561 312.510017 73.697416 359.936283 68.979272 376.964282 64.261127 357.904529 59.542983 344.860745 54.824839 331.401697 50.106694 326.592647 45.388550 302.174913 40.670405 362.328054 35.952261 417.888038 31.234116 431.510029 26.515972 398.747613 21.797827 405.195414 17.079683 405.928391 12.361538 476.806263\"/></g><g class=\"series serie-10 color-10\"><path class=\"line reactive\" d=\"M12.361538 461.467142 L17.079683 372.296650 21.797827 372.153649 26.515972 354.763926 31.234116 395.652762 35.952261 372.451624 40.670405 312.367364 45.388550 245.037558 50.106694 271.277685 54.824839 280.068027 59.542983 283.915248 64.261127 319.481433 68.979272 323.475673 73.697416 302.578447 78.415561 245.153810 83.133705 283.333377 87.851850 294.145856 92.569994 331.665383 97.288139 363.970411 102.006283 353.269488 106.724427 319.894464 111.442572 366.887827 116.160716 384.578684 120.878861 367.081929 125.597005 368.491815 130.315150 392.773638 135.033294 390.354303 139.751439 377.067475 144.469583 376.891991 149.187728 385.902923 153.905872 410.628281 158.624016 356.860213 163.342161 373.192515 168.060305 413.330606 172.778450 419.368092 177.496594 422.254713 182.214739 380.363080 186.932883 260.052823 191.651028 371.673561 196.369172 369.468462 201.087317 383.105900 205.805461 399.408743 210.523605 393.067238 215.241750 393.520559 219.959894 368.519080 224.678039 370.120044 229.396183 361.373730 234.114328 349.998679 238.832472 312.353222 243.550617 342.726148 248.268761 346.425806 252.986905 357.127647 257.705050 337.428547 262.423194 356.627377 267.141339 354.275339 271.859483 369.736708 276.577628 345.105569 281.295772 367.042947 286.013917 350.525370 290.732061 320.588705 295.450206 316.511589 300.168350 262.384506 304.886494 180.273216 309.604639 297.480018 314.322783 252.162770 319.040928 257.853689 323.759072 288.421699 328.477217 252.181899 333.195361 250.167204 337.913506 292.798974 342.631650 331.480963 347.349794 308.173215 352.067939 276.995174 356.786083 154.553464 361.504228 253.615047 366.222372 343.247809 370.940517 372.683687 375.658661 303.420112 380.376806 329.594281 385.094950 315.546240 389.813095 322.425374 394.531239 338.005386 399.249383 293.261590 403.967528 320.225100 408.685672 330.871392 413.403817 279.638669 418.121961 294.475359 422.840106 287.077344 427.558250 299.270820 432.276395 279.051324 436.994539 246.701086 441.712683 221.014898 446.430828 227.280087 451.148972 205.695593 455.867117 278.229324 460.585261 282.915741 465.303406 266.069377 470.021550 215.829375 474.739695 256.100417 479.457839 271.207245 484.175984 229.025687 488.894128 206.182211 493.612272 260.875142 498.330417 250.103694 503.048561 204.063305 507.766706 162.142562 512.484850 184.714396 517.202995 143.108860 521.921139 196.530544 526.639284 148.822944 531.357428 197.870136 536.075573 199.558769 540.793717 219.689896 545.511861 231.219271 550.230006 231.614732 554.948150 276.912825 559.666295 237.848434 564.384439 221.343087 569.102584 268.442896 573.820728 232.595213 578.538873 298.517440 583.257017 172.645763 587.975161 209.516388 592.693306 282.933884 597.411450 257.169100 602.129595 224.039016 606.847739 260.072992 611.565884 294.820603 616.284028 232.072942 621.002173 237.105967 625.720317 253.870535 630.438462 385.569213 630.438462 395.515606 625.720317 272.069840 621.002173 254.526948 616.284028 251.132983 611.565884 306.612355 606.847739 281.492643 602.129595 241.007627 597.411450 273.342067 592.693306 298.568464 587.975161 230.143487 583.257017 189.994271 578.538873 322.445935 573.820728 269.996974 569.102584 287.575585 564.384439 255.184692 559.666295 271.432762 554.948150 294.227069 550.230006 256.321248 545.511861 253.912015 540.793717 260.490631 536.075573 228.007775 531.357428 230.282710 526.639284 186.052105 521.921139 223.583939 517.202995 179.735405 512.484850 227.038686 507.766706 196.800616 503.048561 247.301529 498.330417 277.243364 493.612272 316.761705 488.894128 278.183130 484.175984 266.126553 479.457839 307.480150 474.739695 287.424668 470.021550 254.536465 465.303406 300.441119 460.585261 322.727742 455.867117 329.788929 451.148972 263.617362 446.430828 273.748102 441.712683 250.748477 436.994539 279.979085 432.276395 311.806921 427.558250 324.916224 422.840106 324.707734 418.121961 327.597444 413.403817 308.217086 408.685672 356.994315 403.967528 348.036814 399.249383 323.325995 394.531239 358.384838 389.813095 355.876832 385.094950 353.622474 380.376806 357.360031 375.658661 324.624259 370.940517 397.924273 366.222372 362.028409 361.504228 267.235497 356.786083 171.500995 352.067939 295.969520 347.349794 328.257304 342.631650 346.252108 337.913506 307.987588 333.195361 274.615733 328.477217 270.179339 323.759072 320.016083 319.040928 288.156528 314.322783 278.427693 309.604639 324.601489 304.886494 220.178293 300.168350 291.081313 295.450206 337.181691 290.732061 352.846359 286.013917 363.551966 281.295772 379.371176 276.577628 364.211017 271.859483 393.584360 267.141339 377.155170 262.423194 373.751663 257.705050 358.738119 252.986905 370.412243 248.268761 360.167400 243.550617 362.444521 238.832472 336.106035 234.114328 364.743728 229.396183 373.563386 224.678039 387.019461 219.959894 396.539289 215.241750 411.237354 210.523605 419.247128 205.805461 411.397502 201.087317 401.739010 196.369172 398.666226 191.651028 392.171079 186.932883 309.727908 182.214739 409.703784 177.496594 433.914859 172.778450 422.688797 168.060305 418.838486 163.342161 385.874421 158.624016 370.785358 153.905872 421.096997 149.187728 395.688789 144.469583 387.510760 139.751439 389.478326 135.033294 396.187983 130.315150 405.275748 125.597005 379.960976 120.878861 380.032771 116.160716 395.724329 111.442572 378.004360 106.724427 336.844155 102.006283 364.190464 97.288139 382.875661 92.569994 352.373168 87.851850 310.421089 83.133705 306.381373 78.415561 273.892422 73.697416 324.733585 68.979272 342.086308 64.261127 336.561654 59.542983 307.674884 54.824839 301.802571 50.106694 294.762232 45.388550 264.520999 40.670405 324.965954 35.952261 386.396509 31.234116 404.935044 26.515972 361.863000 21.797827 385.816661 17.079683 386.763250 12.361538 466.989717\"/></g><g class=\"series serie-11 color-11\"><path class=\"line reactive\" d=\"M12.361538 455.973054 L17.079683 362.214512 21.797827 367.333129 26.515972 343.919218 31.234116 390.667689 35.952261 367.214421 40.670405 306.235454 45.388550 235.914829 50.106694 262.881718 54.824839 272.082314 59.542983 270.946076 64.261127 313.778481 68.979272 318.002528 73.697416 292.645314 78.415561 224.885766 83.133705 275.157020 87.851850 283.318460 92.569994 323.488244 97.288139 356.524498 102.006283 345.063211 106.724427 313.198054 111.442572 361.741324 116.160716 379.432472 120.878861 363.417840 125.597005 362.610132 130.315150 386.546017 135.033294 383.302260 139.751439 367.808602 144.469583 371.010109 149.187728 381.560363 153.905872 406.326067 158.624016 349.271139 163.342161 365.276817 168.060305 409.340740 172.778450 415.909573 177.496594 403.560156 182.214739 339.717171 186.932883 229.037345 191.651028 356.354627 196.369172 355.283502 201.087317 370.479470 205.805461 388.153662 210.523605 372.655104 215.241750 382.867245 219.959894 347.940618 224.678039 346.607082 229.396183 342.108113 234.114328 333.245130 238.832472 277.822026 243.550617 320.112218 248.268761 327.689922 252.986905 340.784371 257.705050 312.470002 262.423194 333.533300 267.141339 333.597792 271.859483 349.833116 276.577628 327.358230 281.295772 349.098530 286.013917 333.925072 290.732061 303.115322 295.450206 295.899297 300.168350 237.670102 304.886494 161.923738 309.604639 277.753353 314.322783 221.604274 319.040928 230.073403 323.759072 255.504638 328.477217 229.209232 333.195361 226.007171 337.913506 268.059055 342.631650 311.835333 347.349794 269.022088 352.067939 244.618418 356.786083 142.330807 361.504228 243.382648 366.222372 328.951385 370.940517 365.612136 375.658661 297.116751 380.376806 320.161127 385.094950 307.409463 389.813095 311.284395 394.531239 324.654525 399.249383 282.384407 403.967528 309.240747 408.685672 324.027562 413.403817 270.861988 418.121961 284.764728 422.840106 276.909511 427.558250 293.399706 432.276395 271.611281 436.994539 233.776082 441.712683 207.408828 446.430828 214.100284 451.148972 191.641403 455.867117 268.366405 460.585261 272.180512 465.303406 255.022724 470.021550 203.643201 474.739695 244.034561 479.457839 261.266021 484.175984 219.212849 488.894128 187.830702 493.612272 253.818223 498.330417 239.516962 503.048561 191.244834 507.766706 146.977171 512.484850 175.003803 517.202995 128.515833 521.921139 185.574771 526.639284 137.266786 531.357428 183.866942 536.075573 189.097400 540.793717 212.098575 545.511861 215.860019 550.230006 217.148009 554.948150 266.988303 559.666295 223.006311 564.384439 209.114049 569.102584 258.562495 573.820728 217.614206 578.538873 290.896495 583.257017 164.037488 587.975161 199.016180 592.693306 271.646911 597.411450 251.712728 602.129595 216.847761 606.847739 251.378618 611.565884 287.487113 616.284028 225.922577 621.002173 229.763525 625.720317 237.915110 630.438462 380.680211 630.438462 385.569213 625.720317 253.870535 621.002173 237.105967 616.284028 232.072942 611.565884 294.820603 606.847739 260.072992 602.129595 224.039016 597.411450 257.169100 592.693306 282.933884 587.975161 209.516388 583.257017 172.645763 578.538873 298.517440 573.820728 232.595213 569.102584 268.442896 564.384439 221.343087 559.666295 237.848434 554.948150 276.912825 550.230006 231.614732 545.511861 231.219271 540.793717 219.689896 536.075573 199.558769 531.357428 197.870136 526.639284 148.822944 521.921139 196.530544 517.202995 143.108860 512.484850 184.714396 507.766706 162.142562 503.048561 204.063305 498.330417 250.103694 493.612272 260.875142 488.894128 206.182211 484.175984 229.025687 479.457839 271.207245 474.739695 256.100417 470.021550 215.829375 465.303406 266.069377 460.585261 282.915741 455.867117 278.229324 451.148972 205.695593 446.430828 227.280087 441.712683 221.014898 436.994539 246.701086 432.276395 279.051324 427.558250 299.270820 422.840106 287.077344 418.121961 294.475359 413.403817 279.638669 408.685672 330.871392 403.967528 320.225100 399.249383 293.261590 394.531239 338.005386 389.813095 322.425374 385.094950 315.546240 380.376806 329.594281 375.658661 303.420112 370.940517 372.683687 366.222372 343.247809 361.504228 253.615047 356.786083 154.553464 352.067939 276.995174 347.349794 308.173215 342.631650 331.480963 337.913506 292.798974 333.195361 250.167204 328.477217 252.181899 323.759072 288.421699 319.040928 257.853689 314.322783 252.162770 309.604639 297.480018 304.886494 180.273216 300.168350 262.384506 295.450206 316.511589 290.732061 320.588705 286.013917 350.525370 281.295772 367.042947 276.577628 345.105569 271.859483 369.736708 267.141339 354.275339 262.423194 356.627377 257.705050 337.428547 252.986905 357.127647 248.268761 346.425806 243.550617 342.726148 238.832472 312.353222 234.114328 349.998679 229.396183 361.373730 224.678039 370.120044 219.959894 368.519080 215.241750 393.520559 210.523605 393.067238 205.805461 399.408743 201.087317 383.105900 196.369172 369.468462 191.651028 371.673561 186.932883 260.052823 182.214739 380.363080 177.496594 422.254713 172.778450 419.368092 168.060305 413.330606 163.342161 373.192515 158.624016 356.860213 153.905872 410.628281 149.187728 385.902923 144.469583 376.891991 139.751439 377.067475 135.033294 390.354303 130.315150 392.773638 125.597005 368.491815 120.878861 367.081929 116.160716 384.578684 111.442572 366.887827 106.724427 319.894464 102.006283 353.269488 97.288139 363.970411 92.569994 331.665383 87.851850 294.145856 83.133705 283.333377 78.415561 245.153810 73.697416 302.578447 68.979272 323.475673 64.261127 319.481433 59.542983 283.915248 54.824839 280.068027 50.106694 271.277685 45.388550 245.037558 40.670405 312.367364 35.952261 372.451624 31.234116 395.652762 26.515972 354.763926 21.797827 372.153649 17.079683 372.296650 12.361538 461.467142\"/></g><g class=\"series serie-12 color-12\"><path class=\"line reactive\" d=\"M12.361538 452.324222 L17.079683 348.916047 21.797827 356.582002 26.515972 332.999065 31.234116 380.553938 35.952261 355.584302 40.670405 298.005496 45.388550 216.310576 50.106694 246.885263 54.824839 256.213372 59.542983 243.427971 64.261127 265.684822 68.979272 295.068111 73.697416 267.935358 78.415561 202.295446 83.133705 252.944692 87.851850 263.736902 92.569994 309.855587 97.288139 344.541764 102.006283 319.997539 106.724427 286.136009 111.442572 343.140533 116.160716 363.184264 120.878861 349.251351 125.597005 339.996987 130.315150 369.186975 135.033294 371.487116 139.751439 353.206273 144.469583 348.743620 149.187728 370.016380 153.905872 394.917715 158.624016 334.768783 163.342161 353.445798 168.060305 403.923264 172.778450 410.718768 177.496594 394.942927 182.214739 330.337079 186.932883 220.024521 191.651028 350.142178 196.369172 344.530143 201.087317 361.509545 205.805461 383.754399 210.523605 365.032140 215.241750 374.011608 219.959894 333.827336 224.678039 333.600628 229.396183 329.771704 234.114328 311.519973 238.832472 253.665991 243.550617 305.167779 248.268761 313.771209 252.986905 331.347269 257.705050 294.744088 262.423194 320.303788 267.141339 321.342448 271.859483 341.819412 276.577628 317.353389 281.295772 322.345865 286.013917 323.930357 290.732061 290.247792 295.450206 274.898533 300.168350 219.231197 304.886494 136.732634 309.604639 255.559154 314.322783 202.550405 319.040928 215.250571 323.759072 237.205935 328.477217 205.462578 333.195361 203.471544 337.913506 213.788133 342.631650 298.710167 347.349794 240.763636 352.067939 223.677208 356.786083 119.651780 361.504228 224.859677 366.222372 321.765354 370.940517 356.517505 375.658661 264.930677 380.376806 299.604348 385.094950 295.619780 389.813095 298.831880 394.531239 299.862663 399.249383 262.492059 403.967528 292.895121 408.685672 304.560298 413.403817 247.689385 418.121961 257.381855 422.840106 256.927864 427.558250 280.242304 432.276395 234.409388 436.994539 216.736063 441.712683 186.730613 446.430828 192.344813 451.148972 177.274275 455.867117 253.501215 460.585261 254.777449 465.303406 240.909925 470.021550 191.896227 474.739695 233.231376 479.457839 248.655484 484.175984 210.168783 488.894128 180.192012 493.612272 244.549340 498.330417 225.160412 503.048561 179.702002 507.766706 136.881878 512.484850 158.018361 517.202995 112.836332 521.921139 170.153641 526.639284 121.035670 531.357428 174.702430 536.075573 174.330438 540.793717 201.221753 545.511861 200.807022 550.230006 205.919220 554.948150 257.804982 559.666295 207.451835 564.384439 199.865306 569.102584 236.306773 573.820728 201.957167 578.538873 279.231954 583.257017 154.177758 587.975161 183.860266 592.693306 234.319364 597.411450 238.150840 602.129595 198.717413 606.847739 238.597299 611.565884 271.882248 616.284028 212.602150 621.002173 214.864274 625.720317 223.342341 630.438462 375.400791 630.438462 380.680211 625.720317 237.915110 621.002173 229.763525 616.284028 225.922577 611.565884 287.487113 606.847739 251.378618 602.129595 216.847761 597.411450 251.712728 592.693306 271.646911 587.975161 199.016180 583.257017 164.037488 578.538873 290.896495 573.820728 217.614206 569.102584 258.562495 564.384439 209.114049 559.666295 223.006311 554.948150 266.988303 550.230006 217.148009 545.511861 215.860019 540.793717 212.098575 536.075573 189.097400 531.357428 183.866942 526.639284 137.266786 521.921139 185.574771 517.202995 128.515833 512.484850 175.003803 507.766706 146.977171 503.048561 191.244834 498.330417 239.516962 493.612272 253.818223 488.894128 187.830702 484.175984 219.212849 479.457839 261.266021 474.739695 244.034561 470.021550 203.643201 465.303406 255.022724 460.585261 272.180512 455.867117 268.366405 451.148972 191.641403 446.430828 214.100284 441.712683 207.408828 436.994539 233.776082 432.276395 271.611281 427.558250 293.399706 422.840106 276.909511 418.121961 284.764728 413.403817 270.861988 408.685672 324.027562 403.967528 309.240747 399.249383 282.384407 394.531239 324.654525 389.813095 311.284395 385.094950 307.409463 380.376806 320.161127 375.658661 297.116751 370.940517 365.612136 366.222372 328.951385 361.504228 243.382648 356.786083 142.330807 352.067939 244.618418 347.349794 269.022088 342.631650 311.835333 337.913506 268.059055 333.195361 226.007171 328.477217 229.209232 323.759072 255.504638 319.040928 230.073403 314.322783 221.604274 309.604639 277.753353 304.886494 161.923738 300.168350 237.670102 295.450206 295.899297 290.732061 303.115322 286.013917 333.925072 281.295772 349.098530 276.577628 327.358230 271.859483 349.833116 267.141339 333.597792 262.423194 333.533300 257.705050 312.470002 252.986905 340.784371 248.268761 327.689922 243.550617 320.112218 238.832472 277.822026 234.114328 333.245130 229.396183 342.108113 224.678039 346.607082 219.959894 347.940618 215.241750 382.867245 210.523605 372.655104 205.805461 388.153662 201.087317 370.479470 196.369172 355.283502 191.651028 356.354627 186.932883 229.037345 182.214739 339.717171 177.496594 403.560156 172.778450 415.909573 168.060305 409.340740 163.342161 365.276817 158.624016 349.271139 153.905872 406.326067 149.187728 381.560363 144.469583 371.010109 139.751439 367.808602 135.033294 383.302260 130.315150 386.546017 125.597005 362.610132 120.878861 363.417840 116.160716 379.432472 111.442572 361.741324 106.724427 313.198054 102.006283 345.063211 97.288139 356.524498 92.569994 323.488244 87.851850 283.318460 83.133705 275.157020 78.415561 224.885766 73.697416 292.645314 68.979272 318.002528 64.261127 313.778481 59.542983 270.946076 54.824839 272.082314 50.106694 262.881718 45.388550 235.914829 40.670405 306.235454 35.952261 367.214421 31.234116 390.667689 26.515972 343.919218 21.797827 367.333129 17.079683 362.214512 12.361538 455.973054\"/></g><g class=\"series serie-13 color-13\"><path class=\"line reactive\" d=\"M12.361538 440.479774 L17.079683 332.527391 21.797827 339.826282 26.515972 324.709438 31.234116 370.928866 35.952261 338.318226 40.670405 283.483802 45.388550 199.399365 50.106694 228.283183 54.824839 243.025995 59.542983 227.526747 64.261127 255.612283 68.979272 281.617993 73.697416 244.918322 78.415561 180.981843 83.133705 232.058025 87.851850 248.669580 92.569994 295.924633 97.288139 328.411244 102.006283 303.372894 106.724427 261.346942 111.442572 325.145541 116.160716 347.995527 120.878861 336.482883 125.597005 329.147674 130.315150 356.095418 135.033294 363.036781 139.751439 342.790999 144.469583 338.458796 149.187728 355.375097 153.905872 382.602694 158.624016 315.146816 163.342161 337.580600 168.060305 391.177960 172.778450 398.736047 177.496594 382.048683 182.214739 319.614954 186.932883 208.281474 191.651028 340.516407 196.369172 316.344953 201.087317 346.788443 205.805461 360.044418 210.523605 351.569459 215.241750 361.071580 219.959894 316.668002 224.678039 320.292922 229.396183 314.361671 234.114328 298.919335 238.832472 237.392310 243.550617 290.877816 248.268761 299.955850 252.986905 314.995613 257.705050 274.257551 262.423194 306.823400 267.141339 307.578571 271.859483 329.880303 276.577628 296.772570 281.295772 308.318074 286.013917 311.124046 290.732061 270.992816 295.450206 254.675293 300.168350 198.834801 304.886494 109.589845 309.604639 235.276774 314.322783 179.792993 319.040928 190.110266 323.759072 213.857844 328.477217 188.038203 333.195361 178.349366 337.913506 189.577262 342.631650 283.643464 347.349794 223.100787 352.067939 202.703491 356.786083 95.383889 361.504228 204.628628 366.222372 306.875999 370.940517 344.673885 375.658661 253.484212 380.376806 289.770501 385.094950 283.737890 389.813095 284.302839 394.531239 286.665295 399.249383 245.356262 403.967528 279.869730 408.685672 289.790444 413.403817 231.229886 418.121961 242.433228 422.840106 239.017655 427.558250 261.959716 432.276395 216.135249 436.994539 200.875971 441.712683 169.920598 446.430828 176.087766 451.148972 166.705289 455.867117 240.472458 460.585261 239.000028 465.303406 227.164376 470.021550 173.905800 474.739695 215.305402 479.457839 231.809562 484.175984 196.348392 488.894128 161.411577 493.612272 231.010546 498.330417 213.761128 503.048561 167.197291 507.766706 118.365697 512.484850 144.067670 517.202995 93.332332 521.921139 149.331935 526.639284 98.193614 531.357428 160.361262 536.075573 158.179675 540.793717 186.007537 545.511861 183.444029 550.230006 192.195108 554.948150 247.165213 559.666295 190.262533 564.384439 179.182088 569.102584 222.698516 573.820728 189.906513 578.538873 263.979669 583.257017 138.843287 587.975161 170.536538 592.693306 221.024914 597.411450 223.346271 602.129595 175.788313 606.847739 219.921823 611.565884 257.613705 616.284028 194.767549 621.002173 193.896953 625.720317 202.112462 630.438462 367.820520 630.438462 375.400791 625.720317 223.342341 621.002173 214.864274 616.284028 212.602150 611.565884 271.882248 606.847739 238.597299 602.129595 198.717413 597.411450 238.150840 592.693306 234.319364 587.975161 183.860266 583.257017 154.177758 578.538873 279.231954 573.820728 201.957167 569.102584 236.306773 564.384439 199.865306 559.666295 207.451835 554.948150 257.804982 550.230006 205.919220 545.511861 200.807022 540.793717 201.221753 536.075573 174.330438 531.357428 174.702430 526.639284 121.035670 521.921139 170.153641 517.202995 112.836332 512.484850 158.018361 507.766706 136.881878 503.048561 179.702002 498.330417 225.160412 493.612272 244.549340 488.894128 180.192012 484.175984 210.168783 479.457839 248.655484 474.739695 233.231376 470.021550 191.896227 465.303406 240.909925 460.585261 254.777449 455.867117 253.501215 451.148972 177.274275 446.430828 192.344813 441.712683 186.730613 436.994539 216.736063 432.276395 234.409388 427.558250 280.242304 422.840106 256.927864 418.121961 257.381855 413.403817 247.689385 408.685672 304.560298 403.967528 292.895121 399.249383 262.492059 394.531239 299.862663 389.813095 298.831880 385.094950 295.619780 380.376806 299.604348 375.658661 264.930677 370.940517 356.517505 366.222372 321.765354 361.504228 224.859677 356.786083 119.651780 352.067939 223.677208 347.349794 240.763636 342.631650 298.710167 337.913506 213.788133 333.195361 203.471544 328.477217 205.462578 323.759072 237.205935 319.040928 215.250571 314.322783 202.550405 309.604639 255.559154 304.886494 136.732634 300.168350 219.231197 295.450206 274.898533 290.732061 290.247792 286.013917 323.930357 281.295772 322.345865 276.577628 317.353389 271.859483 341.819412 267.141339 321.342448 262.423194 320.303788 257.705050 294.744088 252.986905 331.347269 248.268761 313.771209 243.550617 305.167779 238.832472 253.665991 234.114328 311.519973 229.396183 329.771704 224.678039 333.600628 219.959894 333.827336 215.241750 374.011608 210.523605 365.032140 205.805461 383.754399 201.087317 361.509545 196.369172 344.530143 191.651028 350.142178 186.932883 220.024521 182.214739 330.337079 177.496594 394.942927 172.778450 410.718768 168.060305 403.923264 163.342161 353.445798 158.624016 334.768783 153.905872 394.917715 149.187728 370.016380 144.469583 348.743620 139.751439 353.206273 135.033294 371.487116 130.315150 369.186975 125.597005 339.996987 120.878861 349.251351 116.160716 363.184264 111.442572 343.140533 106.724427 286.136009 102.006283 319.997539 97.288139 344.541764 92.569994 309.855587 87.851850 263.736902 83.133705 252.944692 78.415561 202.295446 73.697416 267.935358 68.979272 295.068111 64.261127 265.684822 59.542983 243.427971 54.824839 256.213372 50.106694 246.885263 45.388550 216.310576 40.670405 298.005496 35.952261 355.584302 31.234116 380.553938 26.515972 332.999065 21.797827 356.582002 17.079683 348.916047 12.361538 452.324222\"/></g><g class=\"series serie-14 color-14\"><path class=\"line reactive\" d=\"M12.361538 438.449061 L17.079683 326.789599 21.797827 334.056617 26.515972 315.615051 31.234116 366.238539 35.952261 332.795895 40.670405 258.299417 45.388550 191.912712 50.106694 219.662611 54.824839 236.351215 59.542983 216.305382 64.261127 240.358528 68.979272 274.579244 73.697416 237.653840 78.415561 172.934141 83.133705 221.434578 87.851850 242.711767 92.569994 291.272625 97.288139 323.284438 102.006283 300.142569 106.724427 256.538296 111.442572 322.360359 116.160716 345.634819 120.878861 331.131090 125.597005 324.622036 130.315150 353.149497 135.033294 358.357272 139.751439 340.046819 144.469583 334.702707 149.187728 353.149528 153.905872 379.726444 158.624016 312.011859 163.342161 334.385178 168.060305 388.949230 172.778450 397.430312 177.496594 380.429792 182.214739 317.761155 186.932883 196.117357 191.651028 332.234051 196.369172 308.534887 201.087317 341.504637 205.805461 355.633958 210.523605 344.938545 215.241750 356.835114 219.959894 310.033488 224.678039 315.270679 229.396183 307.680041 234.114328 292.895841 238.832472 222.093110 243.550617 277.804258 248.268761 288.833733 252.986905 307.607035 257.705050 262.765337 262.423194 290.219037 267.141339 293.160210 271.859483 324.404607 276.577628 286.456878 281.295772 297.290191 286.013917 302.941377 290.732061 261.589281 295.450206 245.524757 300.168350 185.180617 304.886494 97.064866 309.604639 219.788314 314.322783 165.004108 319.040928 182.580135 323.759072 195.313173 328.477217 167.961287 333.195361 169.338926 337.913506 180.188641 342.631650 276.951109 347.349794 215.049717 352.067939 188.229854 356.786083 87.553485 361.504228 195.414480 366.222372 301.914686 370.940517 335.278295 375.658661 239.631979 380.376806 275.488777 385.094950 274.309749 389.813095 273.445942 394.531239 281.226062 399.249383 237.678960 403.967528 274.046756 408.685672 281.490077 413.403817 224.796493 418.121961 233.048304 422.840106 226.695870 427.558250 254.897186 432.276395 207.045504 436.994539 187.502044 441.712683 154.841636 446.430828 128.653273 451.148972 132.854755 455.867117 215.150236 460.585261 222.117277 465.303406 195.129847 470.021550 141.853368 474.739695 168.204401 479.457839 180.497086 484.175984 149.717536 488.894128 124.137791 493.612272 179.669471 498.330417 159.395082 503.048561 108.014175 507.766706 71.636290 512.484850 83.822596 517.202995 64.902399 521.921139 125.094204 526.639284 74.368277 531.357428 113.726468 536.075573 137.436914 540.793717 167.207169 545.511861 165.784471 550.230006 173.030597 554.948150 226.116738 559.666295 167.513965 564.384439 157.481674 569.102584 204.784266 573.820728 167.030294 578.538873 236.081163 583.257017 96.152200 587.975161 113.122701 592.693306 201.209632 597.411450 208.924900 602.129595 154.518826 606.847739 200.819582 611.565884 236.183451 616.284028 178.969033 621.002173 175.814160 625.720317 187.692690 630.438462 359.850006 630.438462 367.820520 625.720317 202.112462 621.002173 193.896953 616.284028 194.767549 611.565884 257.613705 606.847739 219.921823 602.129595 175.788313 597.411450 223.346271 592.693306 221.024914 587.975161 170.536538 583.257017 138.843287 578.538873 263.979669 573.820728 189.906513 569.102584 222.698516 564.384439 179.182088 559.666295 190.262533 554.948150 247.165213 550.230006 192.195108 545.511861 183.444029 540.793717 186.007537 536.075573 158.179675 531.357428 160.361262 526.639284 98.193614 521.921139 149.331935 517.202995 93.332332 512.484850 144.067670 507.766706 118.365697 503.048561 167.197291 498.330417 213.761128 493.612272 231.010546 488.894128 161.411577 484.175984 196.348392 479.457839 231.809562 474.739695 215.305402 470.021550 173.905800 465.303406 227.164376 460.585261 239.000028 455.867117 240.472458 451.148972 166.705289 446.430828 176.087766 441.712683 169.920598 436.994539 200.875971 432.276395 216.135249 427.558250 261.959716 422.840106 239.017655 418.121961 242.433228 413.403817 231.229886 408.685672 289.790444 403.967528 279.869730 399.249383 245.356262 394.531239 286.665295 389.813095 284.302839 385.094950 283.737890 380.376806 289.770501 375.658661 253.484212 370.940517 344.673885 366.222372 306.875999 361.504228 204.628628 356.786083 95.383889 352.067939 202.703491 347.349794 223.100787 342.631650 283.643464 337.913506 189.577262 333.195361 178.349366 328.477217 188.038203 323.759072 213.857844 319.040928 190.110266 314.322783 179.792993 309.604639 235.276774 304.886494 109.589845 300.168350 198.834801 295.450206 254.675293 290.732061 270.992816 286.013917 311.124046 281.295772 308.318074 276.577628 296.772570 271.859483 329.880303 267.141339 307.578571 262.423194 306.823400 257.705050 274.257551 252.986905 314.995613 248.268761 299.955850 243.550617 290.877816 238.832472 237.392310 234.114328 298.919335 229.396183 314.361671 224.678039 320.292922 219.959894 316.668002 215.241750 361.071580 210.523605 351.569459 205.805461 360.044418 201.087317 346.788443 196.369172 316.344953 191.651028 340.516407 186.932883 208.281474 182.214739 319.614954 177.496594 382.048683 172.778450 398.736047 168.060305 391.177960 163.342161 337.580600 158.624016 315.146816 153.905872 382.602694 149.187728 355.375097 144.469583 338.458796 139.751439 342.790999 135.033294 363.036781 130.315150 356.095418 125.597005 329.147674 120.878861 336.482883 116.160716 347.995527 111.442572 325.145541 106.724427 261.346942 102.006283 303.372894 97.288139 328.411244 92.569994 295.924633 87.851850 248.669580 83.133705 232.058025 78.415561 180.981843 73.697416 244.918322 68.979272 281.617993 64.261127 255.612283 59.542983 227.526747 54.824839 243.025995 50.106694 228.283183 45.388550 199.399365 40.670405 283.483802 35.952261 338.318226 31.234116 370.928866 26.515972 324.709438 21.797827 339.826282 17.079683 332.527391 12.361538 440.479774\"/></g><g class=\"series serie-15 color-15\"><path class=\"line reactive\" d=\"M12.361538 429.379039 L17.079683 311.381245 21.797827 315.231556 26.515972 304.543079 31.234116 355.332747 35.952261 316.630418 40.670405 246.444288 45.388550 171.108981 50.106694 196.393473 54.824839 212.809977 59.542983 192.433810 64.261127 224.056506 68.979272 254.380172 73.697416 205.861583 78.415561 138.692553 83.133705 199.090148 87.851850 220.822456 92.569994 269.885204 97.288139 300.797346 102.006283 285.637728 106.724427 237.346980 111.442572 299.957528 116.160716 325.411570 120.878861 309.638003 125.597005 311.074695 130.315150 338.285576 135.033294 331.693273 139.751439 318.448999 144.469583 318.917874 149.187728 335.882121 153.905872 361.145548 158.624016 289.279980 163.342161 318.387761 168.060305 376.103678 172.778450 386.425240 177.496594 367.271521 182.214739 308.560797 186.932883 184.291247 191.651028 315.613754 196.369172 289.709382 201.087317 332.820299 205.805461 331.495707 210.523605 328.513581 215.241750 346.040477 219.959894 293.802547 224.678039 303.000639 229.396183 292.855931 234.114328 275.938027 238.832472 206.905235 243.550617 247.518018 248.268761 273.016586 252.986905 287.033678 257.705050 241.211577 262.423194 271.340812 267.141339 268.766563 271.859483 307.436435 276.577628 265.619889 281.295772 278.903380 286.013917 283.443879 290.732061 233.476312 295.450206 220.764874 300.168350 161.357292 304.886494 58.021437 309.604639 189.298701 314.322783 145.434430 319.040928 160.395004 323.759072 177.409626 328.477217 138.237407 333.195361 139.225069 337.913506 148.031156 342.631650 261.386646 347.349794 192.817308 352.067939 167.949858 356.786083 71.289376 361.504228 178.403250 366.222372 284.501755 370.940517 316.398969 375.658661 217.923632 380.376806 261.275103 385.094950 260.538817 389.813095 249.306742 394.531239 261.077857 399.249383 208.586036 403.967528 221.198274 408.685672 261.582256 413.403817 195.509357 418.121961 210.473757 422.840106 202.315859 427.558250 227.942497 432.276395 178.780718 436.994539 147.766928 441.712683 131.878890 446.430828 106.477648 451.148972 48.541531 455.867117 191.355166 460.585261 188.319640 465.303406 172.030513 470.021550 87.616567 474.739695 143.050479 479.457839 159.922073 484.175984 115.395750 488.894128 48.640094 493.612272 139.963639 498.330417 130.884465 503.048561 79.438120 507.766706 44.066190 512.484850 31.590042 517.202995 34.668419 521.921139 103.088291 526.639284 33.624447 531.357428 78.246372 536.075573 107.919319 540.793717 120.910132 545.511861 138.805697 550.230006 109.946156 554.948150 204.583963 559.666295 134.203675 564.384439 126.439642 569.102584 182.356429 573.820728 144.976382 578.538873 214.091005 583.257017 68.836931 587.975161 95.203804 592.693306 178.910698 597.411450 186.864301 602.129595 131.125327 606.847739 175.491111 611.565884 218.718584 616.284028 153.185424 621.002173 149.346388 625.720317 149.748519 630.438462 340.037495 630.438462 359.850006 625.720317 187.692690 621.002173 175.814160 616.284028 178.969033 611.565884 236.183451 606.847739 200.819582 602.129595 154.518826 597.411450 208.924900 592.693306 201.209632 587.975161 113.122701 583.257017 96.152200 578.538873 236.081163 573.820728 167.030294 569.102584 204.784266 564.384439 157.481674 559.666295 167.513965 554.948150 226.116738 550.230006 173.030597 545.511861 165.784471 540.793717 167.207169 536.075573 137.436914 531.357428 113.726468 526.639284 74.368277 521.921139 125.094204 517.202995 64.902399 512.484850 83.822596 507.766706 71.636290 503.048561 108.014175 498.330417 159.395082 493.612272 179.669471 488.894128 124.137791 484.175984 149.717536 479.457839 180.497086 474.739695 168.204401 470.021550 141.853368 465.303406 195.129847 460.585261 222.117277 455.867117 215.150236 451.148972 132.854755 446.430828 128.653273 441.712683 154.841636 436.994539 187.502044 432.276395 207.045504 427.558250 254.897186 422.840106 226.695870 418.121961 233.048304 413.403817 224.796493 408.685672 281.490077 403.967528 274.046756 399.249383 237.678960 394.531239 281.226062 389.813095 273.445942 385.094950 274.309749 380.376806 275.488777 375.658661 239.631979 370.940517 335.278295 366.222372 301.914686 361.504228 195.414480 356.786083 87.553485 352.067939 188.229854 347.349794 215.049717 342.631650 276.951109 337.913506 180.188641 333.195361 169.338926 328.477217 167.961287 323.759072 195.313173 319.040928 182.580135 314.322783 165.004108 309.604639 219.788314 304.886494 97.064866 300.168350 185.180617 295.450206 245.524757 290.732061 261.589281 286.013917 302.941377 281.295772 297.290191 276.577628 286.456878 271.859483 324.404607 267.141339 293.160210 262.423194 290.219037 257.705050 262.765337 252.986905 307.607035 248.268761 288.833733 243.550617 277.804258 238.832472 222.093110 234.114328 292.895841 229.396183 307.680041 224.678039 315.270679 219.959894 310.033488 215.241750 356.835114 210.523605 344.938545 205.805461 355.633958 201.087317 341.504637 196.369172 308.534887 191.651028 332.234051 186.932883 196.117357 182.214739 317.761155 177.496594 380.429792 172.778450 397.430312 168.060305 388.949230 163.342161 334.385178 158.624016 312.011859 153.905872 379.726444 149.187728 353.149528 144.469583 334.702707 139.751439 340.046819 135.033294 358.357272 130.315150 353.149497 125.597005 324.622036 120.878861 331.131090 116.160716 345.634819 111.442572 322.360359 106.724427 256.538296 102.006283 300.142569 97.288139 323.284438 92.569994 291.272625 87.851850 242.711767 83.133705 221.434578 78.415561 172.934141 73.697416 237.653840 68.979272 274.579244 64.261127 240.358528 59.542983 216.305382 54.824839 236.351215 50.106694 219.662611 45.388550 191.912712 40.670405 258.299417 35.952261 332.795895 31.234116 366.238539 26.515972 315.615051 21.797827 334.056617 17.079683 326.789599 12.361538 438.449061\"/></g><g class=\"series serie-16 color-16\"><path class=\"line reactive\" d=\"M12.361538 423.605382 L17.079683 301.058481 21.797827 301.058484 26.515972 288.076818 31.234116 344.676871 35.952261 306.251146 40.670405 231.476762 45.388550 148.394125 50.106694 182.665712 54.824839 198.243714 59.542983 179.550118 64.261127 213.821709 68.979272 240.304297 73.697416 190.454712 78.415561 114.641801 83.133705 182.665707 87.851850 205.513439 92.569994 253.285958 97.288139 283.922685 102.006283 267.825427 106.724427 217.975837 111.442572 284.961220 116.160716 309.366748 120.878861 293.269485 125.597005 292.750219 130.315150 325.983276 135.033294 319.752078 139.751439 306.251148 144.469583 302.616281 149.187728 318.194277 153.905872 341.042007 158.624016 266.786894 163.342161 303.135548 168.060305 367.524597 172.778450 374.794328 177.496594 356.100735 182.214739 302.616282 186.932883 171.761121 191.651028 305.731880 196.369172 275.614422 201.087317 323.906209 205.805461 322.348411 210.523605 313.001612 215.241750 333.253005 219.959894 280.807085 224.678039 290.673154 229.396183 280.807087 234.114328 264.190557 238.832472 195.647376 243.550617 236.669433 248.268761 264.709826 252.986905 277.691492 257.705050 230.957503 262.423194 254.843761 267.141339 247.054761 271.859483 296.904352 276.577628 239.785028 281.295772 263.152026 286.013917 268.344690 290.732061 220.052905 295.450206 193.570314 300.168350 127.623461 304.886494 36.232552 309.604639 169.164784 314.322783 121.911532 319.040928 136.970263 323.759072 163.972123 328.477217 119.834460 333.195361 110.487669 337.913506 123.469327 342.631650 241.862099 347.349794 173.318920 352.067939 144.239994 356.786083 54.406880 361.504228 162.414319 366.222372 272.498825 370.940517 305.212615 375.658661 204.994177 380.376806 248.093296 385.094950 243.419899 389.813095 235.111632 394.531239 248.612563 399.249383 193.051044 403.967528 206.551977 408.685672 250.689627 413.403817 185.262049 418.121961 193.570313 422.840106 182.665718 427.558250 213.821707 432.276395 158.260192 436.994539 123.988598 441.712683 112.045467 446.430828 84.005076 451.148972 34.155482 455.867117 176.953781 460.585261 172.280386 465.303406 156.702394 470.021550 72.581212 474.739695 129.181264 479.457839 147.355594 484.175984 93.351874 488.894128 34.674759 493.612272 120.872998 498.330417 113.603267 503.048561 57.003217 507.766706 24.808692 512.484850 10.269231 517.202995 10.788498 521.921139 87.639936 526.639284 14.423356 531.357428 62.715150 536.075573 88.159208 540.793717 103.737212 545.511861 122.950068 550.230006 71.542678 554.948150 156.702386 559.666295 84.524338 564.384439 102.179399 569.102584 160.337259 573.820728 124.507871 578.538873 198.243713 583.257017 53.887620 587.975161 82.447276 592.693306 162.933588 597.411450 170.203320 602.129595 108.410606 606.847739 152.028993 611.565884 198.243711 616.284028 130.219794 621.002173 129.181261 625.720317 134.373924 630.438462 333.253010 630.438462 340.037495 625.720317 149.748519 621.002173 149.346388 616.284028 153.185424 611.565884 218.718584 606.847739 175.491111 602.129595 131.125327 597.411450 186.864301 592.693306 178.910698 587.975161 95.203804 583.257017 68.836931 578.538873 214.091005 573.820728 144.976382 569.102584 182.356429 564.384439 126.439642 559.666295 134.203675 554.948150 204.583963 550.230006 109.946156 545.511861 138.805697 540.793717 120.910132 536.075573 107.919319 531.357428 78.246372 526.639284 33.624447 521.921139 103.088291 517.202995 34.668419 512.484850 31.590042 507.766706 44.066190 503.048561 79.438120 498.330417 130.884465 493.612272 139.963639 488.894128 48.640094 484.175984 115.395750 479.457839 159.922073 474.739695 143.050479 470.021550 87.616567 465.303406 172.030513 460.585261 188.319640 455.867117 191.355166 451.148972 48.541531 446.430828 106.477648 441.712683 131.878890 436.994539 147.766928 432.276395 178.780718 427.558250 227.942497 422.840106 202.315859 418.121961 210.473757 413.403817 195.509357 408.685672 261.582256 403.967528 221.198274 399.249383 208.586036 394.531239 261.077857 389.813095 249.306742 385.094950 260.538817 380.376806 261.275103 375.658661 217.923632 370.940517 316.398969 366.222372 284.501755 361.504228 178.403250 356.786083 71.289376 352.067939 167.949858 347.349794 192.817308 342.631650 261.386646 337.913506 148.031156 333.195361 139.225069 328.477217 138.237407 323.759072 177.409626 319.040928 160.395004 314.322783 145.434430 309.604639 189.298701 304.886494 58.021437 300.168350 161.357292 295.450206 220.764874 290.732061 233.476312 286.013917 283.443879 281.295772 278.903380 276.577628 265.619889 271.859483 307.436435 267.141339 268.766563 262.423194 271.340812 257.705050 241.211577 252.986905 287.033678 248.268761 273.016586 243.550617 247.518018 238.832472 206.905235 234.114328 275.938027 229.396183 292.855931 224.678039 303.000639 219.959894 293.802547 215.241750 346.040477 210.523605 328.513581 205.805461 331.495707 201.087317 332.820299 196.369172 289.709382 191.651028 315.613754 186.932883 184.291247 182.214739 308.560797 177.496594 367.271521 172.778450 386.425240 168.060305 376.103678 163.342161 318.387761 158.624016 289.279980 153.905872 361.145548 149.187728 335.882121 144.469583 318.917874 139.751439 318.448999 135.033294 331.693273 130.315150 338.285576 125.597005 311.074695 120.878861 309.638003 116.160716 325.411570 111.442572 299.957528 106.724427 237.346980 102.006283 285.637728 97.288139 300.797346 92.569994 269.885204 87.851850 220.822456 83.133705 199.090148 78.415561 138.692553 73.697416 205.861583 68.979272 254.380172 64.261127 224.056506 59.542983 192.433810 54.824839 212.809977 50.106694 196.393473 45.388550 171.108981 40.670405 246.444288 35.952261 316.630418 31.234116 355.332747 26.515972 304.543079 21.797827 315.231556 17.079683 311.381245 12.361538 429.379039\"/></g></g><g class=\"titles\"><text class=\"title plot_title\" x=\"400.0\" y=\"26\">Topics</text></g><g class=\"plot overlay\" transform=\"translate(137, 46)\"><g class=\"series serie-0 color-0\"/><g class=\"series serie-1 color-1\"/><g class=\"series serie-2 color-2\"/><g class=\"series serie-3 color-3\"/><g class=\"series serie-4 color-4\"/><g class=\"series serie-5 color-5\"/><g class=\"series serie-6 color-6\"/><g class=\"series serie-7 color-7\"/><g class=\"series serie-8 color-8\"/><g class=\"series serie-9 color-9\"/><g class=\"series serie-10 color-10\"/><g class=\"series serie-11 color-11\"/><g class=\"series serie-12 color-12\"/><g class=\"series serie-13 color-13\"/><g class=\"series serie-14 color-14\"/><g class=\"series serie-15 color-15\"/><g class=\"series serie-16 color-16\"/></g><g class=\"plot text-overlay\" transform=\"translate(137, 46)\"><g class=\"series serie-0 color-0\"/><g class=\"series serie-1 color-1\"/><g class=\"series serie-2 color-2\"/><g class=\"series serie-3 color-3\"/><g class=\"series serie-4 color-4\"/><g class=\"series serie-5 color-5\"/><g class=\"series serie-6 color-6\"/><g class=\"series serie-7 color-7\"/><g class=\"series serie-8 color-8\"/><g class=\"series serie-9 color-9\"/><g class=\"series serie-10 color-10\"/><g class=\"series serie-11 color-11\"/><g class=\"series serie-12 color-12\"/><g class=\"series serie-13 color-13\"/><g class=\"series serie-14 color-14\"/><g class=\"series serie-15 color-15\"/><g class=\"series serie-16 color-16\"/></g><g class=\"plot tooltip-overlay\" transform=\"translate(137, 46)\"><g class=\"tooltip\" style=\"opacity: 0\" transform=\"translate(0 0)\"><rect class=\"tooltip-box\" height=\"0\" rx=\"0\" ry=\"0\" width=\"0\"/><g class=\"text\"/></g></g><g class=\"legends\" transform=\"translate(10, 56)\"><g class=\"legend reactive activate-serie\" id=\"activate-serie-0\"><rect class=\"color-0 reactive\" height=\"12\" width=\"12\" x=\"0.0\" y=\"1.0\"/><text x=\"17.0\" y=\"11.2\">topic_0</text></g><g class=\"legend reactive activate-serie\" id=\"activate-serie-1\"><rect class=\"color-1 reactive\" height=\"12\" width=\"12\" x=\"0.0\" y=\"22.0\"/><text x=\"17.0\" y=\"32.2\">topic_1</text></g><g class=\"legend reactive activate-serie\" id=\"activate-serie-2\"><rect class=\"color-2 reactive\" height=\"12\" width=\"12\" x=\"0.0\" y=\"43.0\"/><text x=\"17.0\" y=\"53.2\">topic_2</text></g><g class=\"legend reactive activate-serie\" id=\"activate-serie-3\"><rect class=\"color-3 reactive\" height=\"12\" width=\"12\" x=\"0.0\" y=\"64.0\"/><text x=\"17.0\" y=\"74.2\">topic_3</text></g><g class=\"legend reactive activate-serie\" id=\"activate-serie-4\"><rect class=\"color-4 reactive\" height=\"12\" width=\"12\" x=\"0.0\" y=\"85.0\"/><text x=\"17.0\" y=\"95.2\">topic_4</text></g><g class=\"legend reactive activate-serie\" id=\"activate-serie-5\"><rect class=\"color-5 reactive\" height=\"12\" width=\"12\" x=\"0.0\" y=\"106.0\"/><text x=\"17.0\" y=\"116.2\">topic_5</text></g><g class=\"legend reactive activate-serie\" id=\"activate-serie-6\"><rect class=\"color-6 reactive\" height=\"12\" width=\"12\" x=\"0.0\" y=\"127.0\"/><text x=\"17.0\" y=\"137.2\">topic_6</text></g><g class=\"legend reactive activate-serie\" id=\"activate-serie-7\"><rect class=\"color-7 reactive\" height=\"12\" width=\"12\" x=\"0.0\" y=\"148.0\"/><text x=\"17.0\" y=\"158.2\">topic_7</text></g><g class=\"legend reactive activate-serie\" id=\"activate-serie-8\"><rect class=\"color-8 reactive\" height=\"12\" width=\"12\" x=\"0.0\" y=\"169.0\"/><text x=\"17.0\" y=\"179.2\">topic_8</text></g><g class=\"legend reactive activate-serie\" id=\"activate-serie-9\"><rect class=\"color-9 reactive\" height=\"12\" width=\"12\" x=\"0.0\" y=\"190.0\"/><text x=\"17.0\" y=\"200.2\">topic_9</text></g><g class=\"legend reactive activate-serie\" id=\"activate-serie-10\"><rect class=\"color-10 reactive\" height=\"12\" width=\"12\" x=\"0.0\" y=\"211.0\"/><text x=\"17.0\" y=\"221.2\">topic_10</text></g><g class=\"legend reactive activate-serie\" id=\"activate-serie-11\"><rect class=\"color-11 reactive\" height=\"12\" width=\"12\" x=\"0.0\" y=\"232.0\"/><text x=\"17.0\" y=\"242.2\">topic_11</text></g><g class=\"legend reactive activate-serie\" id=\"activate-serie-12\"><rect class=\"color-12 reactive\" height=\"12\" width=\"12\" x=\"0.0\" y=\"253.0\"/><text x=\"17.0\" y=\"263.2\">topic_12</text></g><g class=\"legend reactive activate-serie\" id=\"activate-serie-13\"><rect class=\"color-13 reactive\" height=\"12\" width=\"12\" x=\"0.0\" y=\"274.0\"/><text x=\"17.0\" y=\"284.2\">topic_13</text></g><g class=\"legend reactive activate-serie\" id=\"activate-serie-14\"><rect class=\"color-14 reactive\" height=\"12\" width=\"12\" x=\"0.0\" y=\"295.0\"/><text x=\"17.0\" y=\"305.2\">topic_14</text></g><g class=\"legend reactive activate-serie\" id=\"activate-serie-15\"><rect class=\"color-15 reactive\" height=\"12\" width=\"12\" x=\"0.0\" y=\"316.0\"/><text x=\"17.0\" y=\"326.2\">topic_15</text></g><g class=\"legend reactive activate-serie\" id=\"activate-serie-16\"><rect class=\"color-16 reactive\" height=\"12\" width=\"12\" x=\"0.0\" y=\"337.0\"/><text x=\"17.0\" y=\"347.2\">topic_16</text></g></g><g class=\"legends\" transform=\"translate(790, 56)\"/></g></svg>\n",
       "    </figure>\n",
       "  </body>\n",
       "</html>\n"
      ],
      "text/plain": [
       "<IPython.core.display.HTML object>"
      ]
     },
     "execution_count": 55,
     "metadata": {},
     "output_type": "execute_result"
    }
   ],
   "source": [
    "line_chart = pygal.StackedLine(fill=True, show_dots=False)\n",
    "line_chart.title = 'Topics'\n",
    "for topic in topics:\n",
    "    line_chart.add(topic, gb[topic].values)\n",
    "    \n",
    "HTML(html_pygal.format(pygal_render=line_chart.render(is_unicode=True)))"
   ]
  },
  {
   "cell_type": "code",
   "execution_count": 56,
   "metadata": {
    "ExecuteTime": {
     "end_time": "2019-02-12T23:36:13.593273Z",
     "start_time": "2019-02-12T23:36:13.535985Z"
    }
   },
   "outputs": [],
   "source": [
    "line_chart.render_to_file(f\"data/visualization/{'-'.join(name_dataset.split('.'))}_pygal.svg\")"
   ]
  },
  {
   "cell_type": "markdown",
   "metadata": {},
   "source": [
    "## joypy"
   ]
  },
  {
   "cell_type": "code",
   "execution_count": 57,
   "metadata": {
    "ExecuteTime": {
     "end_time": "2019-02-12T23:36:17.191392Z",
     "start_time": "2019-02-12T23:36:17.188157Z"
    }
   },
   "outputs": [],
   "source": [
    "import joypy # !pip install joypy"
   ]
  },
  {
   "cell_type": "code",
   "execution_count": 58,
   "metadata": {
    "ExecuteTime": {
     "end_time": "2019-02-12T23:36:17.226392Z",
     "start_time": "2019-02-12T23:36:17.193367Z"
    },
    "scrolled": true
   },
   "outputs": [
    {
     "name": "stdout",
     "output_type": "stream",
     "text": [
      "(83321, 20)\n"
     ]
    },
    {
     "data": {
      "text/html": [
       "<div>\n",
       "<style scoped>\n",
       "    .dataframe tbody tr th:only-of-type {\n",
       "        vertical-align: middle;\n",
       "    }\n",
       "\n",
       "    .dataframe tbody tr th {\n",
       "        vertical-align: top;\n",
       "    }\n",
       "\n",
       "    .dataframe thead th {\n",
       "        text-align: right;\n",
       "    }\n",
       "</style>\n",
       "<table border=\"1\" class=\"dataframe\">\n",
       "  <thead>\n",
       "    <tr style=\"text-align: right;\">\n",
       "      <th></th>\n",
       "      <th>docID</th>\n",
       "      <th>year</th>\n",
       "      <th>month</th>\n",
       "      <th>topic_0</th>\n",
       "      <th>topic_1</th>\n",
       "      <th>topic_2</th>\n",
       "      <th>topic_3</th>\n",
       "      <th>topic_4</th>\n",
       "      <th>topic_5</th>\n",
       "      <th>topic_6</th>\n",
       "      <th>topic_7</th>\n",
       "      <th>topic_8</th>\n",
       "      <th>topic_9</th>\n",
       "      <th>topic_10</th>\n",
       "      <th>topic_11</th>\n",
       "      <th>topic_12</th>\n",
       "      <th>topic_13</th>\n",
       "      <th>topic_14</th>\n",
       "      <th>topic_15</th>\n",
       "      <th>topic_16</th>\n",
       "    </tr>\n",
       "  </thead>\n",
       "  <tbody>\n",
       "    <tr>\n",
       "      <th>0</th>\n",
       "      <td>0</td>\n",
       "      <td>2008</td>\n",
       "      <td>2</td>\n",
       "      <td>0.000000</td>\n",
       "      <td>0.896131</td>\n",
       "      <td>0.0</td>\n",
       "      <td>0.0000</td>\n",
       "      <td>0.000000</td>\n",
       "      <td>0.000000</td>\n",
       "      <td>0.000000</td>\n",
       "      <td>0.000000</td>\n",
       "      <td>0.000000</td>\n",
       "      <td>0.000000</td>\n",
       "      <td>0.000000</td>\n",
       "      <td>0.020551</td>\n",
       "      <td>0.0</td>\n",
       "      <td>0.000000</td>\n",
       "      <td>0.0</td>\n",
       "      <td>0.000000</td>\n",
       "      <td>0.083318</td>\n",
       "    </tr>\n",
       "    <tr>\n",
       "      <th>1</th>\n",
       "      <td>1</td>\n",
       "      <td>2008</td>\n",
       "      <td>2</td>\n",
       "      <td>0.000000</td>\n",
       "      <td>0.000000</td>\n",
       "      <td>0.0</td>\n",
       "      <td>0.0000</td>\n",
       "      <td>0.000000</td>\n",
       "      <td>0.000000</td>\n",
       "      <td>0.437453</td>\n",
       "      <td>0.000000</td>\n",
       "      <td>0.000000</td>\n",
       "      <td>0.000000</td>\n",
       "      <td>0.385207</td>\n",
       "      <td>0.103588</td>\n",
       "      <td>0.0</td>\n",
       "      <td>0.000000</td>\n",
       "      <td>0.0</td>\n",
       "      <td>0.047002</td>\n",
       "      <td>0.026750</td>\n",
       "    </tr>\n",
       "    <tr>\n",
       "      <th>2</th>\n",
       "      <td>2</td>\n",
       "      <td>2008</td>\n",
       "      <td>2</td>\n",
       "      <td>0.000000</td>\n",
       "      <td>0.730216</td>\n",
       "      <td>0.0</td>\n",
       "      <td>0.0000</td>\n",
       "      <td>0.084504</td>\n",
       "      <td>0.000000</td>\n",
       "      <td>0.148614</td>\n",
       "      <td>0.001143</td>\n",
       "      <td>0.000000</td>\n",
       "      <td>0.000000</td>\n",
       "      <td>0.003306</td>\n",
       "      <td>0.018500</td>\n",
       "      <td>0.0</td>\n",
       "      <td>0.000000</td>\n",
       "      <td>0.0</td>\n",
       "      <td>0.000000</td>\n",
       "      <td>0.013718</td>\n",
       "    </tr>\n",
       "    <tr>\n",
       "      <th>3</th>\n",
       "      <td>3</td>\n",
       "      <td>2008</td>\n",
       "      <td>2</td>\n",
       "      <td>0.072363</td>\n",
       "      <td>0.027139</td>\n",
       "      <td>0.0</td>\n",
       "      <td>0.0176</td>\n",
       "      <td>0.000000</td>\n",
       "      <td>0.084604</td>\n",
       "      <td>0.141986</td>\n",
       "      <td>0.064175</td>\n",
       "      <td>0.016575</td>\n",
       "      <td>0.042111</td>\n",
       "      <td>0.108072</td>\n",
       "      <td>0.038602</td>\n",
       "      <td>0.0</td>\n",
       "      <td>0.194688</td>\n",
       "      <td>0.0</td>\n",
       "      <td>0.192084</td>\n",
       "      <td>0.000000</td>\n",
       "    </tr>\n",
       "    <tr>\n",
       "      <th>4</th>\n",
       "      <td>4</td>\n",
       "      <td>2008</td>\n",
       "      <td>2</td>\n",
       "      <td>0.000000</td>\n",
       "      <td>0.087549</td>\n",
       "      <td>0.0</td>\n",
       "      <td>0.0000</td>\n",
       "      <td>0.000000</td>\n",
       "      <td>0.000000</td>\n",
       "      <td>0.276949</td>\n",
       "      <td>0.000000</td>\n",
       "      <td>0.114875</td>\n",
       "      <td>0.000000</td>\n",
       "      <td>0.000000</td>\n",
       "      <td>0.000000</td>\n",
       "      <td>0.0</td>\n",
       "      <td>0.473218</td>\n",
       "      <td>0.0</td>\n",
       "      <td>0.000000</td>\n",
       "      <td>0.047409</td>\n",
       "    </tr>\n",
       "  </tbody>\n",
       "</table>\n",
       "</div>"
      ],
      "text/plain": [
       "   docID  year  month   topic_0   topic_1  topic_2  topic_3   topic_4  \\\n",
       "0      0  2008      2  0.000000  0.896131      0.0   0.0000  0.000000   \n",
       "1      1  2008      2  0.000000  0.000000      0.0   0.0000  0.000000   \n",
       "2      2  2008      2  0.000000  0.730216      0.0   0.0000  0.084504   \n",
       "3      3  2008      2  0.072363  0.027139      0.0   0.0176  0.000000   \n",
       "4      4  2008      2  0.000000  0.087549      0.0   0.0000  0.000000   \n",
       "\n",
       "    topic_5   topic_6   topic_7   topic_8   topic_9  topic_10  topic_11  \\\n",
       "0  0.000000  0.000000  0.000000  0.000000  0.000000  0.000000  0.020551   \n",
       "1  0.000000  0.437453  0.000000  0.000000  0.000000  0.385207  0.103588   \n",
       "2  0.000000  0.148614  0.001143  0.000000  0.000000  0.003306  0.018500   \n",
       "3  0.084604  0.141986  0.064175  0.016575  0.042111  0.108072  0.038602   \n",
       "4  0.000000  0.276949  0.000000  0.114875  0.000000  0.000000  0.000000   \n",
       "\n",
       "   topic_12  topic_13  topic_14  topic_15  topic_16  \n",
       "0       0.0  0.000000       0.0  0.000000  0.083318  \n",
       "1       0.0  0.000000       0.0  0.047002  0.026750  \n",
       "2       0.0  0.000000       0.0  0.000000  0.013718  \n",
       "3       0.0  0.194688       0.0  0.192084  0.000000  \n",
       "4       0.0  0.473218       0.0  0.000000  0.047409  "
      ]
     },
     "execution_count": 58,
     "metadata": {},
     "output_type": "execute_result"
    }
   ],
   "source": [
    "print(joined.shape)\n",
    "joined.head()"
   ]
  },
  {
   "cell_type": "code",
   "execution_count": 59,
   "metadata": {
    "ExecuteTime": {
     "end_time": "2019-02-12T23:36:17.405805Z",
     "start_time": "2019-02-12T23:36:17.228493Z"
    }
   },
   "outputs": [
    {
     "data": {
      "text/html": [
       "<div>\n",
       "<style scoped>\n",
       "    .dataframe tbody tr th:only-of-type {\n",
       "        vertical-align: middle;\n",
       "    }\n",
       "\n",
       "    .dataframe tbody tr th {\n",
       "        vertical-align: top;\n",
       "    }\n",
       "\n",
       "    .dataframe thead th {\n",
       "        text-align: right;\n",
       "    }\n",
       "</style>\n",
       "<table border=\"1\" class=\"dataframe\">\n",
       "  <thead>\n",
       "    <tr style=\"text-align: right;\">\n",
       "      <th></th>\n",
       "      <th>docID</th>\n",
       "      <th>year</th>\n",
       "      <th>month</th>\n",
       "      <th>topic_0</th>\n",
       "      <th>topic_1</th>\n",
       "      <th>topic_2</th>\n",
       "      <th>topic_3</th>\n",
       "      <th>topic_4</th>\n",
       "      <th>topic_5</th>\n",
       "      <th>topic_6</th>\n",
       "      <th>...</th>\n",
       "      <th>topic_8</th>\n",
       "      <th>topic_9</th>\n",
       "      <th>topic_10</th>\n",
       "      <th>topic_11</th>\n",
       "      <th>topic_12</th>\n",
       "      <th>topic_13</th>\n",
       "      <th>topic_14</th>\n",
       "      <th>topic_15</th>\n",
       "      <th>topic_16</th>\n",
       "      <th>date</th>\n",
       "    </tr>\n",
       "  </thead>\n",
       "  <tbody>\n",
       "    <tr>\n",
       "      <th>0</th>\n",
       "      <td>0</td>\n",
       "      <td>2008</td>\n",
       "      <td>2</td>\n",
       "      <td>0.000000</td>\n",
       "      <td>0.896131</td>\n",
       "      <td>0.0</td>\n",
       "      <td>0.0000</td>\n",
       "      <td>0.000000</td>\n",
       "      <td>0.000000</td>\n",
       "      <td>0.000000</td>\n",
       "      <td>...</td>\n",
       "      <td>0.000000</td>\n",
       "      <td>0.000000</td>\n",
       "      <td>0.000000</td>\n",
       "      <td>0.020551</td>\n",
       "      <td>0.0</td>\n",
       "      <td>0.000000</td>\n",
       "      <td>0.0</td>\n",
       "      <td>0.000000</td>\n",
       "      <td>0.083318</td>\n",
       "      <td>2008-02-01</td>\n",
       "    </tr>\n",
       "    <tr>\n",
       "      <th>1</th>\n",
       "      <td>1</td>\n",
       "      <td>2008</td>\n",
       "      <td>2</td>\n",
       "      <td>0.000000</td>\n",
       "      <td>0.000000</td>\n",
       "      <td>0.0</td>\n",
       "      <td>0.0000</td>\n",
       "      <td>0.000000</td>\n",
       "      <td>0.000000</td>\n",
       "      <td>0.437453</td>\n",
       "      <td>...</td>\n",
       "      <td>0.000000</td>\n",
       "      <td>0.000000</td>\n",
       "      <td>0.385207</td>\n",
       "      <td>0.103588</td>\n",
       "      <td>0.0</td>\n",
       "      <td>0.000000</td>\n",
       "      <td>0.0</td>\n",
       "      <td>0.047002</td>\n",
       "      <td>0.026750</td>\n",
       "      <td>2008-02-01</td>\n",
       "    </tr>\n",
       "    <tr>\n",
       "      <th>2</th>\n",
       "      <td>2</td>\n",
       "      <td>2008</td>\n",
       "      <td>2</td>\n",
       "      <td>0.000000</td>\n",
       "      <td>0.730216</td>\n",
       "      <td>0.0</td>\n",
       "      <td>0.0000</td>\n",
       "      <td>0.084504</td>\n",
       "      <td>0.000000</td>\n",
       "      <td>0.148614</td>\n",
       "      <td>...</td>\n",
       "      <td>0.000000</td>\n",
       "      <td>0.000000</td>\n",
       "      <td>0.003306</td>\n",
       "      <td>0.018500</td>\n",
       "      <td>0.0</td>\n",
       "      <td>0.000000</td>\n",
       "      <td>0.0</td>\n",
       "      <td>0.000000</td>\n",
       "      <td>0.013718</td>\n",
       "      <td>2008-02-01</td>\n",
       "    </tr>\n",
       "    <tr>\n",
       "      <th>3</th>\n",
       "      <td>3</td>\n",
       "      <td>2008</td>\n",
       "      <td>2</td>\n",
       "      <td>0.072363</td>\n",
       "      <td>0.027139</td>\n",
       "      <td>0.0</td>\n",
       "      <td>0.0176</td>\n",
       "      <td>0.000000</td>\n",
       "      <td>0.084604</td>\n",
       "      <td>0.141986</td>\n",
       "      <td>...</td>\n",
       "      <td>0.016575</td>\n",
       "      <td>0.042111</td>\n",
       "      <td>0.108072</td>\n",
       "      <td>0.038602</td>\n",
       "      <td>0.0</td>\n",
       "      <td>0.194688</td>\n",
       "      <td>0.0</td>\n",
       "      <td>0.192084</td>\n",
       "      <td>0.000000</td>\n",
       "      <td>2008-02-01</td>\n",
       "    </tr>\n",
       "    <tr>\n",
       "      <th>4</th>\n",
       "      <td>4</td>\n",
       "      <td>2008</td>\n",
       "      <td>2</td>\n",
       "      <td>0.000000</td>\n",
       "      <td>0.087549</td>\n",
       "      <td>0.0</td>\n",
       "      <td>0.0000</td>\n",
       "      <td>0.000000</td>\n",
       "      <td>0.000000</td>\n",
       "      <td>0.276949</td>\n",
       "      <td>...</td>\n",
       "      <td>0.114875</td>\n",
       "      <td>0.000000</td>\n",
       "      <td>0.000000</td>\n",
       "      <td>0.000000</td>\n",
       "      <td>0.0</td>\n",
       "      <td>0.473218</td>\n",
       "      <td>0.0</td>\n",
       "      <td>0.000000</td>\n",
       "      <td>0.047409</td>\n",
       "      <td>2008-02-01</td>\n",
       "    </tr>\n",
       "  </tbody>\n",
       "</table>\n",
       "<p>5 rows × 21 columns</p>\n",
       "</div>"
      ],
      "text/plain": [
       "   docID  year  month   topic_0   topic_1  topic_2  topic_3   topic_4  \\\n",
       "0      0  2008      2  0.000000  0.896131      0.0   0.0000  0.000000   \n",
       "1      1  2008      2  0.000000  0.000000      0.0   0.0000  0.000000   \n",
       "2      2  2008      2  0.000000  0.730216      0.0   0.0000  0.084504   \n",
       "3      3  2008      2  0.072363  0.027139      0.0   0.0176  0.000000   \n",
       "4      4  2008      2  0.000000  0.087549      0.0   0.0000  0.000000   \n",
       "\n",
       "    topic_5   topic_6     ...       topic_8   topic_9  topic_10  topic_11  \\\n",
       "0  0.000000  0.000000     ...      0.000000  0.000000  0.000000  0.020551   \n",
       "1  0.000000  0.437453     ...      0.000000  0.000000  0.385207  0.103588   \n",
       "2  0.000000  0.148614     ...      0.000000  0.000000  0.003306  0.018500   \n",
       "3  0.084604  0.141986     ...      0.016575  0.042111  0.108072  0.038602   \n",
       "4  0.000000  0.276949     ...      0.114875  0.000000  0.000000  0.000000   \n",
       "\n",
       "   topic_12  topic_13  topic_14  topic_15  topic_16        date  \n",
       "0       0.0  0.000000       0.0  0.000000  0.083318  2008-02-01  \n",
       "1       0.0  0.000000       0.0  0.047002  0.026750  2008-02-01  \n",
       "2       0.0  0.000000       0.0  0.000000  0.013718  2008-02-01  \n",
       "3       0.0  0.194688       0.0  0.192084  0.000000  2008-02-01  \n",
       "4       0.0  0.473218       0.0  0.000000  0.047409  2008-02-01  \n",
       "\n",
       "[5 rows x 21 columns]"
      ]
     },
     "execution_count": 59,
     "metadata": {},
     "output_type": "execute_result"
    }
   ],
   "source": [
    "joined['date'] = ['{}-{:02d}-01'.format(a, b) for a, b in joined[['year', 'month']].values]\n",
    "cols = [c for c in joined.columns if c.startswith('topic')]\n",
    "\n",
    "joined.head()"
   ]
  },
  {
   "cell_type": "code",
   "execution_count": 60,
   "metadata": {
    "ExecuteTime": {
     "end_time": "2019-02-12T23:36:17.491198Z",
     "start_time": "2019-02-12T23:36:17.407874Z"
    }
   },
   "outputs": [
    {
     "data": {
      "text/html": [
       "<div>\n",
       "<style scoped>\n",
       "    .dataframe tbody tr th:only-of-type {\n",
       "        vertical-align: middle;\n",
       "    }\n",
       "\n",
       "    .dataframe tbody tr th {\n",
       "        vertical-align: top;\n",
       "    }\n",
       "\n",
       "    .dataframe thead th {\n",
       "        text-align: right;\n",
       "    }\n",
       "</style>\n",
       "<table border=\"1\" class=\"dataframe\">\n",
       "  <thead>\n",
       "    <tr style=\"text-align: right;\">\n",
       "      <th></th>\n",
       "      <th>date</th>\n",
       "      <th>topic</th>\n",
       "      <th>mentions</th>\n",
       "    </tr>\n",
       "  </thead>\n",
       "  <tbody>\n",
       "    <tr>\n",
       "      <th>3</th>\n",
       "      <td>2008-02-01</td>\n",
       "      <td>topic_0</td>\n",
       "      <td>0.072363</td>\n",
       "    </tr>\n",
       "    <tr>\n",
       "      <th>5</th>\n",
       "      <td>2008-02-01</td>\n",
       "      <td>topic_0</td>\n",
       "      <td>0.048021</td>\n",
       "    </tr>\n",
       "    <tr>\n",
       "      <th>6</th>\n",
       "      <td>2008-02-01</td>\n",
       "      <td>topic_0</td>\n",
       "      <td>0.014452</td>\n",
       "    </tr>\n",
       "    <tr>\n",
       "      <th>7</th>\n",
       "      <td>2008-02-01</td>\n",
       "      <td>topic_0</td>\n",
       "      <td>0.176665</td>\n",
       "    </tr>\n",
       "    <tr>\n",
       "      <th>17</th>\n",
       "      <td>2008-02-01</td>\n",
       "      <td>topic_0</td>\n",
       "      <td>0.003293</td>\n",
       "    </tr>\n",
       "  </tbody>\n",
       "</table>\n",
       "</div>"
      ],
      "text/plain": [
       "          date    topic  mentions\n",
       "3   2008-02-01  topic_0  0.072363\n",
       "5   2008-02-01  topic_0  0.048021\n",
       "6   2008-02-01  topic_0  0.014452\n",
       "7   2008-02-01  topic_0  0.176665\n",
       "17  2008-02-01  topic_0  0.003293"
      ]
     },
     "execution_count": 60,
     "metadata": {},
     "output_type": "execute_result"
    }
   ],
   "source": [
    "dd = joined[cols + ['date']].melt('date', var_name='topic', value_name='mentions')\n",
    "dd = dd[dd['mentions'] > 0]\n",
    "\n",
    "dd.head()"
   ]
  },
  {
   "cell_type": "code",
   "execution_count": 61,
   "metadata": {
    "ExecuteTime": {
     "end_time": "2019-02-12T23:36:17.556888Z",
     "start_time": "2019-02-12T23:36:17.492717Z"
    }
   },
   "outputs": [
    {
     "data": {
      "text/html": [
       "<div>\n",
       "<style scoped>\n",
       "    .dataframe tbody tr th:only-of-type {\n",
       "        vertical-align: middle;\n",
       "    }\n",
       "\n",
       "    .dataframe tbody tr th {\n",
       "        vertical-align: top;\n",
       "    }\n",
       "\n",
       "    .dataframe thead th {\n",
       "        text-align: right;\n",
       "    }\n",
       "</style>\n",
       "<table border=\"1\" class=\"dataframe\">\n",
       "  <thead>\n",
       "    <tr style=\"text-align: right;\">\n",
       "      <th></th>\n",
       "      <th></th>\n",
       "      <th>mentions</th>\n",
       "    </tr>\n",
       "    <tr>\n",
       "      <th>date</th>\n",
       "      <th>topic</th>\n",
       "      <th></th>\n",
       "    </tr>\n",
       "  </thead>\n",
       "  <tbody>\n",
       "    <tr>\n",
       "      <th rowspan=\"5\" valign=\"top\">2008-02-01</th>\n",
       "      <th>topic_0</th>\n",
       "      <td>8.179199</td>\n",
       "    </tr>\n",
       "    <tr>\n",
       "      <th>topic_1</th>\n",
       "      <td>16.516285</td>\n",
       "    </tr>\n",
       "    <tr>\n",
       "      <th>topic_10</th>\n",
       "      <td>10.635338</td>\n",
       "    </tr>\n",
       "    <tr>\n",
       "      <th>topic_11</th>\n",
       "      <td>10.580479</td>\n",
       "    </tr>\n",
       "    <tr>\n",
       "      <th>topic_12</th>\n",
       "      <td>7.026897</td>\n",
       "    </tr>\n",
       "  </tbody>\n",
       "</table>\n",
       "</div>"
      ],
      "text/plain": [
       "                      mentions\n",
       "date       topic              \n",
       "2008-02-01 topic_0    8.179199\n",
       "           topic_1   16.516285\n",
       "           topic_10  10.635338\n",
       "           topic_11  10.580479\n",
       "           topic_12   7.026897"
      ]
     },
     "execution_count": 61,
     "metadata": {},
     "output_type": "execute_result"
    }
   ],
   "source": [
    "dd2 = dd.groupby(['date','topic']).sum()\n",
    "dd2.head()"
   ]
  },
  {
   "cell_type": "code",
   "execution_count": 62,
   "metadata": {
    "ExecuteTime": {
     "end_time": "2019-02-12T23:36:17.567404Z",
     "start_time": "2019-02-12T23:36:17.558557Z"
    }
   },
   "outputs": [
    {
     "data": {
      "text/html": [
       "<div>\n",
       "<style scoped>\n",
       "    .dataframe tbody tr th:only-of-type {\n",
       "        vertical-align: middle;\n",
       "    }\n",
       "\n",
       "    .dataframe tbody tr th {\n",
       "        vertical-align: top;\n",
       "    }\n",
       "\n",
       "    .dataframe thead th {\n",
       "        text-align: right;\n",
       "    }\n",
       "</style>\n",
       "<table border=\"1\" class=\"dataframe\">\n",
       "  <thead>\n",
       "    <tr style=\"text-align: right;\">\n",
       "      <th></th>\n",
       "      <th>date</th>\n",
       "      <th>topic</th>\n",
       "      <th>mentions</th>\n",
       "    </tr>\n",
       "  </thead>\n",
       "  <tbody>\n",
       "    <tr>\n",
       "      <th>0</th>\n",
       "      <td>2008-02-01</td>\n",
       "      <td>topic_0</td>\n",
       "      <td>8.179199</td>\n",
       "    </tr>\n",
       "    <tr>\n",
       "      <th>1</th>\n",
       "      <td>2008-02-01</td>\n",
       "      <td>topic_1</td>\n",
       "      <td>16.516285</td>\n",
       "    </tr>\n",
       "    <tr>\n",
       "      <th>2</th>\n",
       "      <td>2008-02-01</td>\n",
       "      <td>topic_10</td>\n",
       "      <td>10.635338</td>\n",
       "    </tr>\n",
       "    <tr>\n",
       "      <th>3</th>\n",
       "      <td>2008-02-01</td>\n",
       "      <td>topic_11</td>\n",
       "      <td>10.580479</td>\n",
       "    </tr>\n",
       "    <tr>\n",
       "      <th>4</th>\n",
       "      <td>2008-02-01</td>\n",
       "      <td>topic_12</td>\n",
       "      <td>7.026897</td>\n",
       "    </tr>\n",
       "  </tbody>\n",
       "</table>\n",
       "</div>"
      ],
      "text/plain": [
       "         date     topic   mentions\n",
       "0  2008-02-01   topic_0   8.179199\n",
       "1  2008-02-01   topic_1  16.516285\n",
       "2  2008-02-01  topic_10  10.635338\n",
       "3  2008-02-01  topic_11  10.580479\n",
       "4  2008-02-01  topic_12   7.026897"
      ]
     },
     "execution_count": 62,
     "metadata": {},
     "output_type": "execute_result"
    }
   ],
   "source": [
    "dd2=dd2.reset_index()\n",
    "dd2.head()"
   ]
  },
  {
   "cell_type": "code",
   "execution_count": 63,
   "metadata": {
    "ExecuteTime": {
     "end_time": "2019-02-12T23:36:19.559207Z",
     "start_time": "2019-02-12T23:36:17.568969Z"
    }
   },
   "outputs": [
    {
     "data": {
      "image/png": "[encoded data removed]",
      "text/plain": [
       "<Figure size 1440x1440 with 18 Axes>"
      ]
     },
     "metadata": {
      "needs_background": "light"
     },
     "output_type": "display_data"
    }
   ],
   "source": [
    "labels = sorted(joined['date'].unique())\n",
    "fig, axes = joypy.joyplot(dd2, by='topic', column='mentions', figsize=(20, 20),\n",
    "                          xlabelsize=20,ylabelsize=20,\n",
    "                          overlap=0.4, fill=True,\n",
    "                          linecolor=\"k\",linewidth=3,\n",
    "                          kind='values', fade=True, xrot=90,\n",
    "                          x_range=[i for i in range(len(labels))],\n",
    "                          background='white');\n",
    "\n",
    "ticks_labels = {i:t for i, t in enumerate(labels)}\n",
    "axes[-1].set_xticks([k for k, v in ticks_labels.items() if k % 6 == 0])\n",
    "ticks = axes[-1].get_xticks()\n",
    "axes[-1].set_xticklabels([ticks_labels.get(i, 'stop') for i in ticks]);"
   ]
  },
  {
   "cell_type": "code",
   "execution_count": 64,
   "metadata": {
    "ExecuteTime": {
     "end_time": "2019-02-12T23:36:19.876737Z",
     "start_time": "2019-02-12T23:36:19.562084Z"
    }
   },
   "outputs": [],
   "source": [
    "fig.savefig(f\"data/visualization/{'-'.join(name_dataset.split('.'))}_joypy\")"
   ]
  },
  {
   "cell_type": "code",
   "execution_count": null,
   "metadata": {},
   "outputs": [],
   "source": []
  },
  {
   "cell_type": "code",
   "execution_count": null,
   "metadata": {},
   "outputs": [],
   "source": []
  }
 ],
 "metadata": {
  "kernelspec": {
   "display_name": "Python 3",
   "language": "python",
   "name": "python3"
  },
  "language_info": {
   "codemirror_mode": {
    "name": "ipython",
    "version": 3
   },
   "file_extension": ".py",
   "mimetype": "text/x-python",
   "name": "python",
   "nbconvert_exporter": "python",
   "pygments_lexer": "ipython3",
   "version": "3.6.7"
  },
  "varInspector": {
   "cols": {
    "lenName": 16,
    "lenType": 16,
    "lenVar": 40
   },
   "kernels_config": {
    "python": {
     "delete_cmd_postfix": "",
     "delete_cmd_prefix": "del ",
     "library": "var_list.py",
     "varRefreshCmd": "print(var_dic_list())"
    },
    "r": {
     "delete_cmd_postfix": ") ",
     "delete_cmd_prefix": "rm(",
     "library": "var_list.r",
     "varRefreshCmd": "cat(var_dic_list()) "
    }
   },
   "types_to_exclude": [
    "module",
    "function",
    "builtin_function_or_method",
    "instance",
    "_Feature"
   ],
   "window_display": false
  }
 },
 "nbformat": 4,
 "nbformat_minor": 2
}
