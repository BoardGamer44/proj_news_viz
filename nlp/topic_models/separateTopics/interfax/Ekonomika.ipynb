{
 "cells": [
  {
   "cell_type": "code",
   "execution_count": 1,
   "metadata": {
    "ExecuteTime": {
     "end_time": "2019-02-13T23:01:59.763605Z",
     "start_time": "2019-02-13T23:01:59.072461Z"
    },
    "scrolled": true
   },
   "outputs": [
    {
     "name": "stderr",
     "output_type": "stream",
     "text": [
      "/home/vtrokhymenko/proj_news_viz/env4news/lib/python3.6/site-packages/scipy/sparse/sparsetools.py:21: DeprecationWarning: `scipy.sparse.sparsetools` is deprecated!\n",
      "scipy.sparse.sparsetools is a private module for scipy.sparse, and should not be used.\n",
      "  _deprecated()\n"
     ]
    }
   ],
   "source": [
    "import numpy as np\n",
    "import pandas as pd\n",
    "import os\n",
    "\n",
    "import re\n",
    "from ast import literal_eval\n",
    "from datetime import datetime as time\n",
    "from ast import literal_eval\n",
    "from sklearn.model_selection import train_test_split\n",
    "\n",
    "import artm\n",
    "from gensim.models import Phrases\n",
    "from gensim.models.phrases import Phraser\n",
    "\n",
    "import gc\n",
    "import matplotlib.pyplot as plt\n",
    "%matplotlib inline"
   ]
  },
  {
   "cell_type": "code",
   "execution_count": 2,
   "metadata": {
    "ExecuteTime": {
     "end_time": "2019-02-13T23:01:59.882749Z",
     "start_time": "2019-02-13T23:01:59.771672Z"
    },
    "scrolled": true
   },
   "outputs": [
    {
     "name": "stdout",
     "output_type": "stream",
     "text": [
      "-rw-rw-r-- 1 vtrokhymenko vtrokhymenko 33M Feb 13 11:48 data/Byvsij_SSSR.csv.bz2\r\n",
      "-rw-rw-r-- 1 vtrokhymenko vtrokhymenko 75M Feb 13 11:35 data/Ekonomika.csv.bz2\r\n",
      "-rw-rw-r-- 1 vtrokhymenko vtrokhymenko 51M Feb 13 11:45 data/Mir.csv.bz2\r\n"
     ]
    }
   ],
   "source": [
    "!ls -lah data/*.csv.bz2"
   ]
  },
  {
   "cell_type": "code",
   "execution_count": 43,
   "metadata": {
    "ExecuteTime": {
     "end_time": "2019-02-13T23:04:55.241478Z",
     "start_time": "2019-02-13T23:04:55.239250Z"
    }
   },
   "outputs": [],
   "source": [
    "name_dataset = 'Ekonomika'"
   ]
  },
  {
   "cell_type": "markdown",
   "metadata": {},
   "source": [
    "### load data"
   ]
  },
  {
   "cell_type": "code",
   "execution_count": 44,
   "metadata": {
    "ExecuteTime": {
     "end_time": "2019-02-13T23:05:20.251754Z",
     "start_time": "2019-02-13T23:04:55.845737Z"
    }
   },
   "outputs": [
    {
     "name": "stdout",
     "output_type": "stream",
     "text": [
      "(67453, 6)\n",
      "CPU times: user 25.5 s, sys: 3.93 s, total: 29.5 s\n",
      "Wall time: 24.4 s\n"
     ]
    }
   ],
   "source": [
    "%%time\n",
    "df = pd.read_csv(f'data/{name_dataset}.csv.bz2')\n",
    "print(df.shape)"
   ]
  },
  {
   "cell_type": "code",
   "execution_count": 45,
   "metadata": {
    "ExecuteTime": {
     "end_time": "2019-02-13T23:05:20.441075Z",
     "start_time": "2019-02-13T23:05:20.433153Z"
    }
   },
   "outputs": [
    {
     "data": {
      "text/html": [
       "<div>\n",
       "<style scoped>\n",
       "    .dataframe tbody tr th:only-of-type {\n",
       "        vertical-align: middle;\n",
       "    }\n",
       "\n",
       "    .dataframe tbody tr th {\n",
       "        vertical-align: top;\n",
       "    }\n",
       "\n",
       "    .dataframe thead th {\n",
       "        text-align: right;\n",
       "    }\n",
       "</style>\n",
       "<table border=\"1\" class=\"dataframe\">\n",
       "  <thead>\n",
       "    <tr style=\"text-align: right;\">\n",
       "      <th></th>\n",
       "      <th>date</th>\n",
       "      <th>topic</th>\n",
       "      <th>text</th>\n",
       "      <th>predict</th>\n",
       "      <th>text_new</th>\n",
       "      <th>lemmatized_text</th>\n",
       "    </tr>\n",
       "  </thead>\n",
       "  <tbody>\n",
       "    <tr>\n",
       "      <th>0</th>\n",
       "      <td>2008-02-11 08:04:00</td>\n",
       "      <td>\"Экономика\"</td>\n",
       "      <td>- Рост ВВП России в 2008 году может составить...</td>\n",
       "      <td>Экономика</td>\n",
       "      <td>рост ввп россии в  году может составить  заяви...</td>\n",
       "      <td>['рост', 'ввп', 'россия', 'составить', 'журнал...</td>\n",
       "    </tr>\n",
       "    <tr>\n",
       "      <th>1</th>\n",
       "      <td>2008-02-11 08:43:00</td>\n",
       "      <td>\"Экономика\"</td>\n",
       "      <td>- Цены на нефть выросли в понедельник после з...</td>\n",
       "      <td>Экономика</td>\n",
       "      <td>цены на нефть выросли в понедельник после заяв...</td>\n",
       "      <td>['цена', 'нефть', 'вырасти', 'заявление', 'вен...</td>\n",
       "    </tr>\n",
       "    <tr>\n",
       "      <th>2</th>\n",
       "      <td>2008-02-11 09:34:00</td>\n",
       "      <td>\"Экономика\"</td>\n",
       "      <td>- Microsoft Corp. после получения официальног...</td>\n",
       "      <td>Экономика</td>\n",
       "      <td>microsoft corp после получения официального от...</td>\n",
       "      <td>['microsoft', 'corp', 'получение', 'официальны...</td>\n",
       "    </tr>\n",
       "    <tr>\n",
       "      <th>3</th>\n",
       "      <td>2008-02-11 17:29:00</td>\n",
       "      <td>\"Экономика\"</td>\n",
       "      <td>- Официальный представитель \\\"Газпрома\\\" (РТС...</td>\n",
       "      <td>Экономика</td>\n",
       "      <td>официальный представитель \\газпрома\\ ртс gazp ...</td>\n",
       "      <td>['официальный', 'газпром', 'ртс', 'gazp', 'сер...</td>\n",
       "    </tr>\n",
       "    <tr>\n",
       "      <th>4</th>\n",
       "      <td>2008-02-11 17:35:00</td>\n",
       "      <td>\"Экономика\"</td>\n",
       "      <td>- Россия в понедельник официально вступила в ...</td>\n",
       "      <td>Экономика</td>\n",
       "      <td>россия в понедельник официально вступила в ряд...</td>\n",
       "      <td>['россия', 'официально', 'вступить', 'ряд', 'с...</td>\n",
       "    </tr>\n",
       "  </tbody>\n",
       "</table>\n",
       "</div>"
      ],
      "text/plain": [
       "                  date        topic  \\\n",
       "0  2008-02-11 08:04:00  \"Экономика\"   \n",
       "1  2008-02-11 08:43:00  \"Экономика\"   \n",
       "2  2008-02-11 09:34:00  \"Экономика\"   \n",
       "3  2008-02-11 17:29:00  \"Экономика\"   \n",
       "4  2008-02-11 17:35:00  \"Экономика\"   \n",
       "\n",
       "                                                text    predict  \\\n",
       "0   - Рост ВВП России в 2008 году может составить...  Экономика   \n",
       "1   - Цены на нефть выросли в понедельник после з...  Экономика   \n",
       "2   - Microsoft Corp. после получения официальног...  Экономика   \n",
       "3   - Официальный представитель \\\"Газпрома\\\" (РТС...  Экономика   \n",
       "4   - Россия в понедельник официально вступила в ...  Экономика   \n",
       "\n",
       "                                            text_new  \\\n",
       "0  рост ввп россии в  году может составить  заяви...   \n",
       "1  цены на нефть выросли в понедельник после заяв...   \n",
       "2  microsoft corp после получения официального от...   \n",
       "3  официальный представитель \\газпрома\\ ртс gazp ...   \n",
       "4  россия в понедельник официально вступила в ряд...   \n",
       "\n",
       "                                     lemmatized_text  \n",
       "0  ['рост', 'ввп', 'россия', 'составить', 'журнал...  \n",
       "1  ['цена', 'нефть', 'вырасти', 'заявление', 'вен...  \n",
       "2  ['microsoft', 'corp', 'получение', 'официальны...  \n",
       "3  ['официальный', 'газпром', 'ртс', 'gazp', 'сер...  \n",
       "4  ['россия', 'официально', 'вступить', 'ряд', 'с...  "
      ]
     },
     "execution_count": 45,
     "metadata": {},
     "output_type": "execute_result"
    }
   ],
   "source": [
    "df.head()"
   ]
  },
  {
   "cell_type": "markdown",
   "metadata": {},
   "source": [
    "* parse data"
   ]
  },
  {
   "cell_type": "code",
   "execution_count": 46,
   "metadata": {
    "ExecuteTime": {
     "end_time": "2019-02-13T23:05:26.525664Z",
     "start_time": "2019-02-13T23:05:26.414851Z"
    }
   },
   "outputs": [
    {
     "data": {
      "text/html": [
       "<div>\n",
       "<style scoped>\n",
       "    .dataframe tbody tr th:only-of-type {\n",
       "        vertical-align: middle;\n",
       "    }\n",
       "\n",
       "    .dataframe tbody tr th {\n",
       "        vertical-align: top;\n",
       "    }\n",
       "\n",
       "    .dataframe thead th {\n",
       "        text-align: right;\n",
       "    }\n",
       "</style>\n",
       "<table border=\"1\" class=\"dataframe\">\n",
       "  <thead>\n",
       "    <tr style=\"text-align: right;\">\n",
       "      <th></th>\n",
       "      <th>date</th>\n",
       "      <th>topic</th>\n",
       "      <th>text</th>\n",
       "      <th>predict</th>\n",
       "      <th>text_new</th>\n",
       "      <th>lemmatized_text</th>\n",
       "      <th>year</th>\n",
       "      <th>month</th>\n",
       "    </tr>\n",
       "  </thead>\n",
       "  <tbody>\n",
       "    <tr>\n",
       "      <th>0</th>\n",
       "      <td>2008-02-11 08:04:00</td>\n",
       "      <td>\"Экономика\"</td>\n",
       "      <td>- Рост ВВП России в 2008 году может составить...</td>\n",
       "      <td>Экономика</td>\n",
       "      <td>рост ввп россии в  году может составить  заяви...</td>\n",
       "      <td>['рост', 'ввп', 'россия', 'составить', 'журнал...</td>\n",
       "      <td>2008</td>\n",
       "      <td>2</td>\n",
       "    </tr>\n",
       "    <tr>\n",
       "      <th>1</th>\n",
       "      <td>2008-02-11 08:43:00</td>\n",
       "      <td>\"Экономика\"</td>\n",
       "      <td>- Цены на нефть выросли в понедельник после з...</td>\n",
       "      <td>Экономика</td>\n",
       "      <td>цены на нефть выросли в понедельник после заяв...</td>\n",
       "      <td>['цена', 'нефть', 'вырасти', 'заявление', 'вен...</td>\n",
       "      <td>2008</td>\n",
       "      <td>2</td>\n",
       "    </tr>\n",
       "    <tr>\n",
       "      <th>2</th>\n",
       "      <td>2008-02-11 09:34:00</td>\n",
       "      <td>\"Экономика\"</td>\n",
       "      <td>- Microsoft Corp. после получения официальног...</td>\n",
       "      <td>Экономика</td>\n",
       "      <td>microsoft corp после получения официального от...</td>\n",
       "      <td>['microsoft', 'corp', 'получение', 'официальны...</td>\n",
       "      <td>2008</td>\n",
       "      <td>2</td>\n",
       "    </tr>\n",
       "    <tr>\n",
       "      <th>3</th>\n",
       "      <td>2008-02-11 17:29:00</td>\n",
       "      <td>\"Экономика\"</td>\n",
       "      <td>- Официальный представитель \\\"Газпрома\\\" (РТС...</td>\n",
       "      <td>Экономика</td>\n",
       "      <td>официальный представитель \\газпрома\\ ртс gazp ...</td>\n",
       "      <td>['официальный', 'газпром', 'ртс', 'gazp', 'сер...</td>\n",
       "      <td>2008</td>\n",
       "      <td>2</td>\n",
       "    </tr>\n",
       "    <tr>\n",
       "      <th>4</th>\n",
       "      <td>2008-02-11 17:35:00</td>\n",
       "      <td>\"Экономика\"</td>\n",
       "      <td>- Россия в понедельник официально вступила в ...</td>\n",
       "      <td>Экономика</td>\n",
       "      <td>россия в понедельник официально вступила в ряд...</td>\n",
       "      <td>['россия', 'официально', 'вступить', 'ряд', 'с...</td>\n",
       "      <td>2008</td>\n",
       "      <td>2</td>\n",
       "    </tr>\n",
       "  </tbody>\n",
       "</table>\n",
       "</div>"
      ],
      "text/plain": [
       "                  date        topic  \\\n",
       "0  2008-02-11 08:04:00  \"Экономика\"   \n",
       "1  2008-02-11 08:43:00  \"Экономика\"   \n",
       "2  2008-02-11 09:34:00  \"Экономика\"   \n",
       "3  2008-02-11 17:29:00  \"Экономика\"   \n",
       "4  2008-02-11 17:35:00  \"Экономика\"   \n",
       "\n",
       "                                                text    predict  \\\n",
       "0   - Рост ВВП России в 2008 году может составить...  Экономика   \n",
       "1   - Цены на нефть выросли в понедельник после з...  Экономика   \n",
       "2   - Microsoft Corp. после получения официальног...  Экономика   \n",
       "3   - Официальный представитель \\\"Газпрома\\\" (РТС...  Экономика   \n",
       "4   - Россия в понедельник официально вступила в ...  Экономика   \n",
       "\n",
       "                                            text_new  \\\n",
       "0  рост ввп россии в  году может составить  заяви...   \n",
       "1  цены на нефть выросли в понедельник после заяв...   \n",
       "2  microsoft corp после получения официального от...   \n",
       "3  официальный представитель \\газпрома\\ ртс gazp ...   \n",
       "4  россия в понедельник официально вступила в ряд...   \n",
       "\n",
       "                                     lemmatized_text  year  month  \n",
       "0  ['рост', 'ввп', 'россия', 'составить', 'журнал...  2008      2  \n",
       "1  ['цена', 'нефть', 'вырасти', 'заявление', 'вен...  2008      2  \n",
       "2  ['microsoft', 'corp', 'получение', 'официальны...  2008      2  \n",
       "3  ['официальный', 'газпром', 'ртс', 'gazp', 'сер...  2008      2  \n",
       "4  ['россия', 'официально', 'вступить', 'ряд', 'с...  2008      2  "
      ]
     },
     "execution_count": 46,
     "metadata": {},
     "output_type": "execute_result"
    }
   ],
   "source": [
    "df['year'] = df['date'].apply(lambda x: int(x.split(' ')[0].split('-')[0]))\n",
    "df['month'] = df['date'].apply(lambda x: int(x.split(' ')[0].split('-')[1]))\n",
    "df.head()"
   ]
  },
  {
   "cell_type": "code",
   "execution_count": 47,
   "metadata": {
    "ExecuteTime": {
     "end_time": "2019-02-13T23:05:26.531681Z",
     "start_time": "2019-02-13T23:05:26.527288Z"
    },
    "cell_style": "split"
   },
   "outputs": [
    {
     "data": {
      "text/plain": [
       "2015    9144\n",
       "2014    8654\n",
       "2009    7535\n",
       "2013    7130\n",
       "2018    6810\n",
       "2016    6361\n",
       "2008    5931\n",
       "2010    4902\n",
       "2017    4831\n",
       "2011    3094\n",
       "2012    2788\n",
       "2019     273\n",
       "Name: year, dtype: int64"
      ]
     },
     "execution_count": 47,
     "metadata": {},
     "output_type": "execute_result"
    }
   ],
   "source": [
    "df.year.value_counts()"
   ]
  },
  {
   "cell_type": "code",
   "execution_count": 48,
   "metadata": {
    "ExecuteTime": {
     "end_time": "2019-02-13T23:05:26.540148Z",
     "start_time": "2019-02-13T23:05:26.533356Z"
    },
    "cell_style": "split"
   },
   "outputs": [
    {
     "data": {
      "text/plain": [
       "10    6509\n",
       "9     6442\n",
       "12    6364\n",
       "3     5916\n",
       "6     5732\n",
       "4     5674\n",
       "11    5658\n",
       "7     5487\n",
       "8     5158\n",
       "2     5085\n",
       "1     4946\n",
       "5     4482\n",
       "Name: month, dtype: int64"
      ]
     },
     "execution_count": 48,
     "metadata": {},
     "output_type": "execute_result"
    }
   ],
   "source": [
    "df.month.value_counts()"
   ]
  },
  {
   "cell_type": "code",
   "execution_count": 49,
   "metadata": {
    "ExecuteTime": {
     "end_time": "2019-02-13T23:05:42.052679Z",
     "start_time": "2019-02-13T23:05:26.541953Z"
    }
   },
   "outputs": [],
   "source": [
    "df.lemmatized_text = df.lemmatized_text.apply(lambda x: literal_eval(x))"
   ]
  },
  {
   "cell_type": "markdown",
   "metadata": {},
   "source": [
    "### preprocess if text with lemma"
   ]
  },
  {
   "cell_type": "code",
   "execution_count": 50,
   "metadata": {
    "ExecuteTime": {
     "end_time": "2019-02-13T23:05:46.504559Z",
     "start_time": "2019-02-13T23:05:42.056611Z"
    }
   },
   "outputs": [
    {
     "data": {
      "text/html": [
       "<div>\n",
       "<style scoped>\n",
       "    .dataframe tbody tr th:only-of-type {\n",
       "        vertical-align: middle;\n",
       "    }\n",
       "\n",
       "    .dataframe tbody tr th {\n",
       "        vertical-align: top;\n",
       "    }\n",
       "\n",
       "    .dataframe thead th {\n",
       "        text-align: right;\n",
       "    }\n",
       "</style>\n",
       "<table border=\"1\" class=\"dataframe\">\n",
       "  <thead>\n",
       "    <tr style=\"text-align: right;\">\n",
       "      <th></th>\n",
       "      <th>date</th>\n",
       "      <th>topic</th>\n",
       "      <th>text</th>\n",
       "      <th>predict</th>\n",
       "      <th>text_new</th>\n",
       "      <th>lemmatized_text</th>\n",
       "      <th>year</th>\n",
       "      <th>month</th>\n",
       "      <th>text_join</th>\n",
       "    </tr>\n",
       "  </thead>\n",
       "  <tbody>\n",
       "    <tr>\n",
       "      <th>0</th>\n",
       "      <td>2008-02-11 08:04:00</td>\n",
       "      <td>\"Экономика\"</td>\n",
       "      <td>- Рост ВВП России в 2008 году может составить...</td>\n",
       "      <td>Экономика</td>\n",
       "      <td>рост ввп россии в  году может составить  заяви...</td>\n",
       "      <td>[рост, ввп, россия, составить, журналист, токи...</td>\n",
       "      <td>2008</td>\n",
       "      <td>2</td>\n",
       "      <td>-   Р о с т   В В П   Р о с с и и   в   2 0 ...</td>\n",
       "    </tr>\n",
       "    <tr>\n",
       "      <th>1</th>\n",
       "      <td>2008-02-11 08:43:00</td>\n",
       "      <td>\"Экономика\"</td>\n",
       "      <td>- Цены на нефть выросли в понедельник после з...</td>\n",
       "      <td>Экономика</td>\n",
       "      <td>цены на нефть выросли в понедельник после заяв...</td>\n",
       "      <td>[цена, нефть, вырасти, заявление, венесуэла, у...</td>\n",
       "      <td>2008</td>\n",
       "      <td>2</td>\n",
       "      <td>-   Ц е н ы   н а   н е ф т ь   в ы р о с л ...</td>\n",
       "    </tr>\n",
       "    <tr>\n",
       "      <th>2</th>\n",
       "      <td>2008-02-11 09:34:00</td>\n",
       "      <td>\"Экономика\"</td>\n",
       "      <td>- Microsoft Corp. после получения официальног...</td>\n",
       "      <td>Экономика</td>\n",
       "      <td>microsoft corp после получения официального от...</td>\n",
       "      <td>[microsoft, corp, получение, официальный, отка...</td>\n",
       "      <td>2008</td>\n",
       "      <td>2</td>\n",
       "      <td>-   M i c r o s o f t   C o r p .   п о с л ...</td>\n",
       "    </tr>\n",
       "    <tr>\n",
       "      <th>3</th>\n",
       "      <td>2008-02-11 17:29:00</td>\n",
       "      <td>\"Экономика\"</td>\n",
       "      <td>- Официальный представитель \\\"Газпрома\\\" (РТС...</td>\n",
       "      <td>Экономика</td>\n",
       "      <td>официальный представитель \\газпрома\\ ртс gazp ...</td>\n",
       "      <td>[официальный, газпром, ртс, gazp, сергей_купри...</td>\n",
       "      <td>2008</td>\n",
       "      <td>2</td>\n",
       "      <td>-   О ф и ц и а л ь н ы й   п р е д с т а в ...</td>\n",
       "    </tr>\n",
       "    <tr>\n",
       "      <th>4</th>\n",
       "      <td>2008-02-11 17:35:00</td>\n",
       "      <td>\"Экономика\"</td>\n",
       "      <td>- Россия в понедельник официально вступила в ...</td>\n",
       "      <td>Экономика</td>\n",
       "      <td>россия в понедельник официально вступила в ряд...</td>\n",
       "      <td>[россия, официально, вступить, ряд, странучаст...</td>\n",
       "      <td>2008</td>\n",
       "      <td>2</td>\n",
       "      <td>-   Р о с с и я   в   п о н е д е л ь н и к ...</td>\n",
       "    </tr>\n",
       "  </tbody>\n",
       "</table>\n",
       "</div>"
      ],
      "text/plain": [
       "                  date        topic  \\\n",
       "0  2008-02-11 08:04:00  \"Экономика\"   \n",
       "1  2008-02-11 08:43:00  \"Экономика\"   \n",
       "2  2008-02-11 09:34:00  \"Экономика\"   \n",
       "3  2008-02-11 17:29:00  \"Экономика\"   \n",
       "4  2008-02-11 17:35:00  \"Экономика\"   \n",
       "\n",
       "                                                text    predict  \\\n",
       "0   - Рост ВВП России в 2008 году может составить...  Экономика   \n",
       "1   - Цены на нефть выросли в понедельник после з...  Экономика   \n",
       "2   - Microsoft Corp. после получения официальног...  Экономика   \n",
       "3   - Официальный представитель \\\"Газпрома\\\" (РТС...  Экономика   \n",
       "4   - Россия в понедельник официально вступила в ...  Экономика   \n",
       "\n",
       "                                            text_new  \\\n",
       "0  рост ввп россии в  году может составить  заяви...   \n",
       "1  цены на нефть выросли в понедельник после заяв...   \n",
       "2  microsoft corp после получения официального от...   \n",
       "3  официальный представитель \\газпрома\\ ртс gazp ...   \n",
       "4  россия в понедельник официально вступила в ряд...   \n",
       "\n",
       "                                     lemmatized_text  year  month  \\\n",
       "0  [рост, ввп, россия, составить, журналист, токи...  2008      2   \n",
       "1  [цена, нефть, вырасти, заявление, венесуэла, у...  2008      2   \n",
       "2  [microsoft, corp, получение, официальный, отка...  2008      2   \n",
       "3  [официальный, газпром, ртс, gazp, сергей_купри...  2008      2   \n",
       "4  [россия, официально, вступить, ряд, странучаст...  2008      2   \n",
       "\n",
       "                                           text_join  \n",
       "0    -   Р о с т   В В П   Р о с с и и   в   2 0 ...  \n",
       "1    -   Ц е н ы   н а   н е ф т ь   в ы р о с л ...  \n",
       "2    -   M i c r o s o f t   C o r p .   п о с л ...  \n",
       "3    -   О ф и ц и а л ь н ы й   п р е д с т а в ...  \n",
       "4    -   Р о с с и я   в   п о н е д е л ь н и к ...  "
      ]
     },
     "execution_count": 50,
     "metadata": {},
     "output_type": "execute_result"
    }
   ],
   "source": [
    "df['text_join'] = df.text.apply(lambda x: ' '.join(x))\n",
    "df.head()"
   ]
  },
  {
   "cell_type": "markdown",
   "metadata": {},
   "source": [
    "* add docID"
   ]
  },
  {
   "cell_type": "code",
   "execution_count": 51,
   "metadata": {
    "ExecuteTime": {
     "end_time": "2019-02-13T23:05:46.519954Z",
     "start_time": "2019-02-13T23:05:46.505795Z"
    }
   },
   "outputs": [],
   "source": [
    "df['docID'] = list(range(df.shape[0]))"
   ]
  },
  {
   "cell_type": "code",
   "execution_count": 52,
   "metadata": {
    "ExecuteTime": {
     "end_time": "2019-02-13T23:05:46.593891Z",
     "start_time": "2019-02-13T23:05:46.521243Z"
    },
    "scrolled": true
   },
   "outputs": [
    {
     "data": {
      "text/html": [
       "<div>\n",
       "<style scoped>\n",
       "    .dataframe tbody tr th:only-of-type {\n",
       "        vertical-align: middle;\n",
       "    }\n",
       "\n",
       "    .dataframe tbody tr th {\n",
       "        vertical-align: top;\n",
       "    }\n",
       "\n",
       "    .dataframe thead th {\n",
       "        text-align: right;\n",
       "    }\n",
       "</style>\n",
       "<table border=\"1\" class=\"dataframe\">\n",
       "  <thead>\n",
       "    <tr style=\"text-align: right;\">\n",
       "      <th></th>\n",
       "      <th>docID</th>\n",
       "      <th>year</th>\n",
       "      <th>month</th>\n",
       "      <th>lemmatized_text</th>\n",
       "    </tr>\n",
       "  </thead>\n",
       "  <tbody>\n",
       "    <tr>\n",
       "      <th>0</th>\n",
       "      <td>0</td>\n",
       "      <td>2008</td>\n",
       "      <td>2</td>\n",
       "      <td>[рост, ввп, россия, составить, журналист, токи...</td>\n",
       "    </tr>\n",
       "    <tr>\n",
       "      <th>1</th>\n",
       "      <td>1</td>\n",
       "      <td>2008</td>\n",
       "      <td>2</td>\n",
       "      <td>[цена, нефть, вырасти, заявление, венесуэла, у...</td>\n",
       "    </tr>\n",
       "  </tbody>\n",
       "</table>\n",
       "</div>"
      ],
      "text/plain": [
       "   docID  year  month                                    lemmatized_text\n",
       "0      0  2008      2  [рост, ввп, россия, составить, журналист, токи...\n",
       "1      1  2008      2  [цена, нефть, вырасти, заявление, венесуэла, у..."
      ]
     },
     "execution_count": 52,
     "metadata": {},
     "output_type": "execute_result"
    }
   ],
   "source": [
    "df = df[['docID','year','month','lemmatized_text']]\n",
    "df.head(2)"
   ]
  },
  {
   "cell_type": "code",
   "execution_count": 53,
   "metadata": {
    "ExecuteTime": {
     "end_time": "2019-02-13T23:05:46.608245Z",
     "start_time": "2019-02-13T23:05:46.595029Z"
    }
   },
   "outputs": [
    {
     "name": "stdout",
     "output_type": "stream",
     "text": [
      "(67453, 4)\n"
     ]
    },
    {
     "data": {
      "text/plain": [
       "docID              0\n",
       "year               0\n",
       "month              0\n",
       "lemmatized_text    0\n",
       "dtype: int64"
      ]
     },
     "execution_count": 53,
     "metadata": {},
     "output_type": "execute_result"
    }
   ],
   "source": [
    "print(df.shape)\n",
    "df.isnull().sum()"
   ]
  },
  {
   "cell_type": "code",
   "execution_count": 54,
   "metadata": {
    "ExecuteTime": {
     "end_time": "2019-02-13T23:05:46.613183Z",
     "start_time": "2019-02-13T23:05:46.609316Z"
    }
   },
   "outputs": [
    {
     "data": {
      "text/plain": [
       "(2008, 2019)"
      ]
     },
     "execution_count": 54,
     "metadata": {},
     "output_type": "execute_result"
    }
   ],
   "source": [
    "df.year.min(),df.year.max()"
   ]
  },
  {
   "cell_type": "markdown",
   "metadata": {
    "heading_collapsed": true
   },
   "source": [
    "### preprocess if text full"
   ]
  },
  {
   "cell_type": "markdown",
   "metadata": {
    "hidden": true
   },
   "source": [
    "* get dates"
   ]
  },
  {
   "cell_type": "code",
   "execution_count": 55,
   "metadata": {
    "ExecuteTime": {
     "end_time": "2019-02-13T23:05:46.756377Z",
     "start_time": "2019-02-13T23:05:46.614291Z"
    },
    "hidden": true
   },
   "outputs": [
    {
     "name": "stderr",
     "output_type": "stream",
     "text": [
      "<unknown>:2: DeprecationWarning: invalid escape sequence \\d\n"
     ]
    },
    {
     "ename": "KeyError",
     "evalue": "'url'",
     "output_type": "error",
     "traceback": [
      "\u001b[0;31m---------------------------------------------------------------------------\u001b[0m",
      "\u001b[0;31mKeyError\u001b[0m                                  Traceback (most recent call last)",
      "\u001b[0;32m~/proj_news_viz/env4news/lib/python3.6/site-packages/pandas/core/indexes/base.py\u001b[0m in \u001b[0;36mget_loc\u001b[0;34m(self, key, method, tolerance)\u001b[0m\n\u001b[1;32m   3077\u001b[0m             \u001b[0;32mtry\u001b[0m\u001b[0;34m:\u001b[0m\u001b[0;34m\u001b[0m\u001b[0;34m\u001b[0m\u001b[0m\n\u001b[0;32m-> 3078\u001b[0;31m                 \u001b[0;32mreturn\u001b[0m \u001b[0mself\u001b[0m\u001b[0;34m.\u001b[0m\u001b[0m_engine\u001b[0m\u001b[0;34m.\u001b[0m\u001b[0mget_loc\u001b[0m\u001b[0;34m(\u001b[0m\u001b[0mkey\u001b[0m\u001b[0;34m)\u001b[0m\u001b[0;34m\u001b[0m\u001b[0;34m\u001b[0m\u001b[0m\n\u001b[0m\u001b[1;32m   3079\u001b[0m             \u001b[0;32mexcept\u001b[0m \u001b[0mKeyError\u001b[0m\u001b[0;34m:\u001b[0m\u001b[0;34m\u001b[0m\u001b[0;34m\u001b[0m\u001b[0m\n",
      "\u001b[0;32mpandas/_libs/index.pyx\u001b[0m in \u001b[0;36mpandas._libs.index.IndexEngine.get_loc\u001b[0;34m()\u001b[0m\n",
      "\u001b[0;32mpandas/_libs/index.pyx\u001b[0m in \u001b[0;36mpandas._libs.index.IndexEngine.get_loc\u001b[0;34m()\u001b[0m\n",
      "\u001b[0;32mpandas/_libs/hashtable_class_helper.pxi\u001b[0m in \u001b[0;36mpandas._libs.hashtable.PyObjectHashTable.get_item\u001b[0;34m()\u001b[0m\n",
      "\u001b[0;32mpandas/_libs/hashtable_class_helper.pxi\u001b[0m in \u001b[0;36mpandas._libs.hashtable.PyObjectHashTable.get_item\u001b[0;34m()\u001b[0m\n",
      "\u001b[0;31mKeyError\u001b[0m: 'url'",
      "\nDuring handling of the above exception, another exception occurred:\n",
      "\u001b[0;31mKeyError\u001b[0m                                  Traceback (most recent call last)",
      "\u001b[0;32m<timed exec>\u001b[0m in \u001b[0;36m<module>\u001b[0;34m\u001b[0m\n",
      "\u001b[0;32m~/proj_news_viz/env4news/lib/python3.6/site-packages/pandas/core/frame.py\u001b[0m in \u001b[0;36m__getitem__\u001b[0;34m(self, key)\u001b[0m\n\u001b[1;32m   2686\u001b[0m             \u001b[0;32mreturn\u001b[0m \u001b[0mself\u001b[0m\u001b[0;34m.\u001b[0m\u001b[0m_getitem_multilevel\u001b[0m\u001b[0;34m(\u001b[0m\u001b[0mkey\u001b[0m\u001b[0;34m)\u001b[0m\u001b[0;34m\u001b[0m\u001b[0;34m\u001b[0m\u001b[0m\n\u001b[1;32m   2687\u001b[0m         \u001b[0;32melse\u001b[0m\u001b[0;34m:\u001b[0m\u001b[0;34m\u001b[0m\u001b[0;34m\u001b[0m\u001b[0m\n\u001b[0;32m-> 2688\u001b[0;31m             \u001b[0;32mreturn\u001b[0m \u001b[0mself\u001b[0m\u001b[0;34m.\u001b[0m\u001b[0m_getitem_column\u001b[0m\u001b[0;34m(\u001b[0m\u001b[0mkey\u001b[0m\u001b[0;34m)\u001b[0m\u001b[0;34m\u001b[0m\u001b[0;34m\u001b[0m\u001b[0m\n\u001b[0m\u001b[1;32m   2689\u001b[0m \u001b[0;34m\u001b[0m\u001b[0m\n\u001b[1;32m   2690\u001b[0m     \u001b[0;32mdef\u001b[0m \u001b[0m_getitem_column\u001b[0m\u001b[0;34m(\u001b[0m\u001b[0mself\u001b[0m\u001b[0;34m,\u001b[0m \u001b[0mkey\u001b[0m\u001b[0;34m)\u001b[0m\u001b[0;34m:\u001b[0m\u001b[0;34m\u001b[0m\u001b[0;34m\u001b[0m\u001b[0m\n",
      "\u001b[0;32m~/proj_news_viz/env4news/lib/python3.6/site-packages/pandas/core/frame.py\u001b[0m in \u001b[0;36m_getitem_column\u001b[0;34m(self, key)\u001b[0m\n\u001b[1;32m   2693\u001b[0m         \u001b[0;31m# get column\u001b[0m\u001b[0;34m\u001b[0m\u001b[0;34m\u001b[0m\u001b[0;34m\u001b[0m\u001b[0m\n\u001b[1;32m   2694\u001b[0m         \u001b[0;32mif\u001b[0m \u001b[0mself\u001b[0m\u001b[0;34m.\u001b[0m\u001b[0mcolumns\u001b[0m\u001b[0;34m.\u001b[0m\u001b[0mis_unique\u001b[0m\u001b[0;34m:\u001b[0m\u001b[0;34m\u001b[0m\u001b[0;34m\u001b[0m\u001b[0m\n\u001b[0;32m-> 2695\u001b[0;31m             \u001b[0;32mreturn\u001b[0m \u001b[0mself\u001b[0m\u001b[0;34m.\u001b[0m\u001b[0m_get_item_cache\u001b[0m\u001b[0;34m(\u001b[0m\u001b[0mkey\u001b[0m\u001b[0;34m)\u001b[0m\u001b[0;34m\u001b[0m\u001b[0;34m\u001b[0m\u001b[0m\n\u001b[0m\u001b[1;32m   2696\u001b[0m \u001b[0;34m\u001b[0m\u001b[0m\n\u001b[1;32m   2697\u001b[0m         \u001b[0;31m# duplicate columns & possible reduce dimensionality\u001b[0m\u001b[0;34m\u001b[0m\u001b[0;34m\u001b[0m\u001b[0;34m\u001b[0m\u001b[0m\n",
      "\u001b[0;32m~/proj_news_viz/env4news/lib/python3.6/site-packages/pandas/core/generic.py\u001b[0m in \u001b[0;36m_get_item_cache\u001b[0;34m(self, item)\u001b[0m\n\u001b[1;32m   2487\u001b[0m         \u001b[0mres\u001b[0m \u001b[0;34m=\u001b[0m \u001b[0mcache\u001b[0m\u001b[0;34m.\u001b[0m\u001b[0mget\u001b[0m\u001b[0;34m(\u001b[0m\u001b[0mitem\u001b[0m\u001b[0;34m)\u001b[0m\u001b[0;34m\u001b[0m\u001b[0;34m\u001b[0m\u001b[0m\n\u001b[1;32m   2488\u001b[0m         \u001b[0;32mif\u001b[0m \u001b[0mres\u001b[0m \u001b[0;32mis\u001b[0m \u001b[0;32mNone\u001b[0m\u001b[0;34m:\u001b[0m\u001b[0;34m\u001b[0m\u001b[0;34m\u001b[0m\u001b[0m\n\u001b[0;32m-> 2489\u001b[0;31m             \u001b[0mvalues\u001b[0m \u001b[0;34m=\u001b[0m \u001b[0mself\u001b[0m\u001b[0;34m.\u001b[0m\u001b[0m_data\u001b[0m\u001b[0;34m.\u001b[0m\u001b[0mget\u001b[0m\u001b[0;34m(\u001b[0m\u001b[0mitem\u001b[0m\u001b[0;34m)\u001b[0m\u001b[0;34m\u001b[0m\u001b[0;34m\u001b[0m\u001b[0m\n\u001b[0m\u001b[1;32m   2490\u001b[0m             \u001b[0mres\u001b[0m \u001b[0;34m=\u001b[0m \u001b[0mself\u001b[0m\u001b[0;34m.\u001b[0m\u001b[0m_box_item_values\u001b[0m\u001b[0;34m(\u001b[0m\u001b[0mitem\u001b[0m\u001b[0;34m,\u001b[0m \u001b[0mvalues\u001b[0m\u001b[0;34m)\u001b[0m\u001b[0;34m\u001b[0m\u001b[0;34m\u001b[0m\u001b[0m\n\u001b[1;32m   2491\u001b[0m             \u001b[0mcache\u001b[0m\u001b[0;34m[\u001b[0m\u001b[0mitem\u001b[0m\u001b[0;34m]\u001b[0m \u001b[0;34m=\u001b[0m \u001b[0mres\u001b[0m\u001b[0;34m\u001b[0m\u001b[0;34m\u001b[0m\u001b[0m\n",
      "\u001b[0;32m~/proj_news_viz/env4news/lib/python3.6/site-packages/pandas/core/internals.py\u001b[0m in \u001b[0;36mget\u001b[0;34m(self, item, fastpath)\u001b[0m\n\u001b[1;32m   4113\u001b[0m \u001b[0;34m\u001b[0m\u001b[0m\n\u001b[1;32m   4114\u001b[0m             \u001b[0;32mif\u001b[0m \u001b[0;32mnot\u001b[0m \u001b[0misna\u001b[0m\u001b[0;34m(\u001b[0m\u001b[0mitem\u001b[0m\u001b[0;34m)\u001b[0m\u001b[0;34m:\u001b[0m\u001b[0;34m\u001b[0m\u001b[0;34m\u001b[0m\u001b[0m\n\u001b[0;32m-> 4115\u001b[0;31m                 \u001b[0mloc\u001b[0m \u001b[0;34m=\u001b[0m \u001b[0mself\u001b[0m\u001b[0;34m.\u001b[0m\u001b[0mitems\u001b[0m\u001b[0;34m.\u001b[0m\u001b[0mget_loc\u001b[0m\u001b[0;34m(\u001b[0m\u001b[0mitem\u001b[0m\u001b[0;34m)\u001b[0m\u001b[0;34m\u001b[0m\u001b[0;34m\u001b[0m\u001b[0m\n\u001b[0m\u001b[1;32m   4116\u001b[0m             \u001b[0;32melse\u001b[0m\u001b[0;34m:\u001b[0m\u001b[0;34m\u001b[0m\u001b[0;34m\u001b[0m\u001b[0m\n\u001b[1;32m   4117\u001b[0m                 \u001b[0mindexer\u001b[0m \u001b[0;34m=\u001b[0m \u001b[0mnp\u001b[0m\u001b[0;34m.\u001b[0m\u001b[0marange\u001b[0m\u001b[0;34m(\u001b[0m\u001b[0mlen\u001b[0m\u001b[0;34m(\u001b[0m\u001b[0mself\u001b[0m\u001b[0;34m.\u001b[0m\u001b[0mitems\u001b[0m\u001b[0;34m)\u001b[0m\u001b[0;34m)\u001b[0m\u001b[0;34m[\u001b[0m\u001b[0misna\u001b[0m\u001b[0;34m(\u001b[0m\u001b[0mself\u001b[0m\u001b[0;34m.\u001b[0m\u001b[0mitems\u001b[0m\u001b[0;34m)\u001b[0m\u001b[0;34m]\u001b[0m\u001b[0;34m\u001b[0m\u001b[0;34m\u001b[0m\u001b[0m\n",
      "\u001b[0;32m~/proj_news_viz/env4news/lib/python3.6/site-packages/pandas/core/indexes/base.py\u001b[0m in \u001b[0;36mget_loc\u001b[0;34m(self, key, method, tolerance)\u001b[0m\n\u001b[1;32m   3078\u001b[0m                 \u001b[0;32mreturn\u001b[0m \u001b[0mself\u001b[0m\u001b[0;34m.\u001b[0m\u001b[0m_engine\u001b[0m\u001b[0;34m.\u001b[0m\u001b[0mget_loc\u001b[0m\u001b[0;34m(\u001b[0m\u001b[0mkey\u001b[0m\u001b[0;34m)\u001b[0m\u001b[0;34m\u001b[0m\u001b[0;34m\u001b[0m\u001b[0m\n\u001b[1;32m   3079\u001b[0m             \u001b[0;32mexcept\u001b[0m \u001b[0mKeyError\u001b[0m\u001b[0;34m:\u001b[0m\u001b[0;34m\u001b[0m\u001b[0;34m\u001b[0m\u001b[0m\n\u001b[0;32m-> 3080\u001b[0;31m                 \u001b[0;32mreturn\u001b[0m \u001b[0mself\u001b[0m\u001b[0;34m.\u001b[0m\u001b[0m_engine\u001b[0m\u001b[0;34m.\u001b[0m\u001b[0mget_loc\u001b[0m\u001b[0;34m(\u001b[0m\u001b[0mself\u001b[0m\u001b[0;34m.\u001b[0m\u001b[0m_maybe_cast_indexer\u001b[0m\u001b[0;34m(\u001b[0m\u001b[0mkey\u001b[0m\u001b[0;34m)\u001b[0m\u001b[0;34m)\u001b[0m\u001b[0;34m\u001b[0m\u001b[0;34m\u001b[0m\u001b[0m\n\u001b[0m\u001b[1;32m   3081\u001b[0m \u001b[0;34m\u001b[0m\u001b[0m\n\u001b[1;32m   3082\u001b[0m         \u001b[0mindexer\u001b[0m \u001b[0;34m=\u001b[0m \u001b[0mself\u001b[0m\u001b[0;34m.\u001b[0m\u001b[0mget_indexer\u001b[0m\u001b[0;34m(\u001b[0m\u001b[0;34m[\u001b[0m\u001b[0mkey\u001b[0m\u001b[0;34m]\u001b[0m\u001b[0;34m,\u001b[0m \u001b[0mmethod\u001b[0m\u001b[0;34m=\u001b[0m\u001b[0mmethod\u001b[0m\u001b[0;34m,\u001b[0m \u001b[0mtolerance\u001b[0m\u001b[0;34m=\u001b[0m\u001b[0mtolerance\u001b[0m\u001b[0;34m)\u001b[0m\u001b[0;34m\u001b[0m\u001b[0;34m\u001b[0m\u001b[0m\n",
      "\u001b[0;32mpandas/_libs/index.pyx\u001b[0m in \u001b[0;36mpandas._libs.index.IndexEngine.get_loc\u001b[0;34m()\u001b[0m\n",
      "\u001b[0;32mpandas/_libs/index.pyx\u001b[0m in \u001b[0;36mpandas._libs.index.IndexEngine.get_loc\u001b[0;34m()\u001b[0m\n",
      "\u001b[0;32mpandas/_libs/hashtable_class_helper.pxi\u001b[0m in \u001b[0;36mpandas._libs.hashtable.PyObjectHashTable.get_item\u001b[0;34m()\u001b[0m\n",
      "\u001b[0;32mpandas/_libs/hashtable_class_helper.pxi\u001b[0m in \u001b[0;36mpandas._libs.hashtable.PyObjectHashTable.get_item\u001b[0;34m()\u001b[0m\n",
      "\u001b[0;31mKeyError\u001b[0m: 'url'"
     ]
    }
   ],
   "source": [
    "%%time\n",
    "\n",
    "df['date_raw'] = df['url'].apply(re.compile('(\\d{4})/(\\d{2})/(\\d{2})').findall)\n",
    "\n",
    "df['year'] = df['date_raw'].apply(lambda x: int(x[0][0]))\n",
    "df['month'] = df['date_raw'].apply(lambda x: int(x[0][1]))"
   ]
  },
  {
   "cell_type": "markdown",
   "metadata": {
    "hidden": true
   },
   "source": [
    "* clean text"
   ]
  },
  {
   "cell_type": "code",
   "execution_count": 56,
   "metadata": {
    "ExecuteTime": {
     "end_time": "2019-02-13T23:05:46.818794Z",
     "start_time": "2019-02-13T23:05:46.759708Z"
    },
    "hidden": true
   },
   "outputs": [],
   "source": [
    "import preprocessing_tools as pr"
   ]
  },
  {
   "cell_type": "code",
   "execution_count": 57,
   "metadata": {
    "ExecuteTime": {
     "end_time": "2019-02-13T23:05:46.835910Z",
     "start_time": "2019-02-13T23:05:46.823340Z"
    },
    "hidden": true
   },
   "outputs": [
    {
     "ename": "AttributeError",
     "evalue": "'DataFrame' object has no attribute 'text'",
     "output_type": "error",
     "traceback": [
      "\u001b[0;31m---------------------------------------------------------------------------\u001b[0m",
      "\u001b[0;31mAttributeError\u001b[0m                            Traceback (most recent call last)",
      "\u001b[0;32m<timed exec>\u001b[0m in \u001b[0;36m<module>\u001b[0;34m\u001b[0m\n",
      "\u001b[0;32m~/proj_news_viz/env4news/lib/python3.6/site-packages/pandas/core/generic.py\u001b[0m in \u001b[0;36m__getattr__\u001b[0;34m(self, name)\u001b[0m\n\u001b[1;32m   4374\u001b[0m             \u001b[0;32mif\u001b[0m \u001b[0mself\u001b[0m\u001b[0;34m.\u001b[0m\u001b[0m_info_axis\u001b[0m\u001b[0;34m.\u001b[0m\u001b[0m_can_hold_identifiers_and_holds_name\u001b[0m\u001b[0;34m(\u001b[0m\u001b[0mname\u001b[0m\u001b[0;34m)\u001b[0m\u001b[0;34m:\u001b[0m\u001b[0;34m\u001b[0m\u001b[0;34m\u001b[0m\u001b[0m\n\u001b[1;32m   4375\u001b[0m                 \u001b[0;32mreturn\u001b[0m \u001b[0mself\u001b[0m\u001b[0;34m[\u001b[0m\u001b[0mname\u001b[0m\u001b[0;34m]\u001b[0m\u001b[0;34m\u001b[0m\u001b[0;34m\u001b[0m\u001b[0m\n\u001b[0;32m-> 4376\u001b[0;31m             \u001b[0;32mreturn\u001b[0m \u001b[0mobject\u001b[0m\u001b[0;34m.\u001b[0m\u001b[0m__getattribute__\u001b[0m\u001b[0;34m(\u001b[0m\u001b[0mself\u001b[0m\u001b[0;34m,\u001b[0m \u001b[0mname\u001b[0m\u001b[0;34m)\u001b[0m\u001b[0;34m\u001b[0m\u001b[0;34m\u001b[0m\u001b[0m\n\u001b[0m\u001b[1;32m   4377\u001b[0m \u001b[0;34m\u001b[0m\u001b[0m\n\u001b[1;32m   4378\u001b[0m     \u001b[0;32mdef\u001b[0m \u001b[0m__setattr__\u001b[0m\u001b[0;34m(\u001b[0m\u001b[0mself\u001b[0m\u001b[0;34m,\u001b[0m \u001b[0mname\u001b[0m\u001b[0;34m,\u001b[0m \u001b[0mvalue\u001b[0m\u001b[0;34m)\u001b[0m\u001b[0;34m:\u001b[0m\u001b[0;34m\u001b[0m\u001b[0;34m\u001b[0m\u001b[0m\n",
      "\u001b[0;31mAttributeError\u001b[0m: 'DataFrame' object has no attribute 'text'"
     ]
    }
   ],
   "source": [
    "%%time\n",
    "df.text = df.text.apply(pr.clean_text)"
   ]
  },
  {
   "cell_type": "code",
   "execution_count": 58,
   "metadata": {
    "ExecuteTime": {
     "end_time": "2019-02-13T23:05:46.844386Z",
     "start_time": "2019-02-13T23:05:46.837152Z"
    },
    "hidden": true
   },
   "outputs": [
    {
     "data": {
      "text/html": [
       "<div>\n",
       "<style scoped>\n",
       "    .dataframe tbody tr th:only-of-type {\n",
       "        vertical-align: middle;\n",
       "    }\n",
       "\n",
       "    .dataframe tbody tr th {\n",
       "        vertical-align: top;\n",
       "    }\n",
       "\n",
       "    .dataframe thead th {\n",
       "        text-align: right;\n",
       "    }\n",
       "</style>\n",
       "<table border=\"1\" class=\"dataframe\">\n",
       "  <thead>\n",
       "    <tr style=\"text-align: right;\">\n",
       "      <th></th>\n",
       "      <th>docID</th>\n",
       "      <th>year</th>\n",
       "      <th>month</th>\n",
       "      <th>lemmatized_text</th>\n",
       "    </tr>\n",
       "  </thead>\n",
       "  <tbody>\n",
       "    <tr>\n",
       "      <th>0</th>\n",
       "      <td>0</td>\n",
       "      <td>2008</td>\n",
       "      <td>2</td>\n",
       "      <td>[рост, ввп, россия, составить, журналист, токи...</td>\n",
       "    </tr>\n",
       "    <tr>\n",
       "      <th>1</th>\n",
       "      <td>1</td>\n",
       "      <td>2008</td>\n",
       "      <td>2</td>\n",
       "      <td>[цена, нефть, вырасти, заявление, венесуэла, у...</td>\n",
       "    </tr>\n",
       "  </tbody>\n",
       "</table>\n",
       "</div>"
      ],
      "text/plain": [
       "   docID  year  month                                    lemmatized_text\n",
       "0      0  2008      2  [рост, ввп, россия, составить, журналист, токи...\n",
       "1      1  2008      2  [цена, нефть, вырасти, заявление, венесуэла, у..."
      ]
     },
     "execution_count": 58,
     "metadata": {},
     "output_type": "execute_result"
    }
   ],
   "source": [
    "df.head(2)"
   ]
  },
  {
   "cell_type": "markdown",
   "metadata": {
    "hidden": true
   },
   "source": [
    "* cleanedNames"
   ]
  },
  {
   "cell_type": "code",
   "execution_count": 59,
   "metadata": {
    "ExecuteTime": {
     "end_time": "2019-02-13T23:05:46.898048Z",
     "start_time": "2019-02-13T23:05:46.845699Z"
    },
    "hidden": true
   },
   "outputs": [],
   "source": [
    "from cleanedNames import KeyProc\n",
    "cn = KeyProc()"
   ]
  },
  {
   "cell_type": "code",
   "execution_count": 60,
   "metadata": {
    "ExecuteTime": {
     "end_time": "2019-02-13T23:05:46.909808Z",
     "start_time": "2019-02-13T23:05:46.899250Z"
    },
    "hidden": true
   },
   "outputs": [
    {
     "ename": "AttributeError",
     "evalue": "'DataFrame' object has no attribute 'text'",
     "output_type": "error",
     "traceback": [
      "\u001b[0;31m---------------------------------------------------------------------------\u001b[0m",
      "\u001b[0;31mAttributeError\u001b[0m                            Traceback (most recent call last)",
      "\u001b[0;32m<timed exec>\u001b[0m in \u001b[0;36m<module>\u001b[0;34m\u001b[0m\n",
      "\u001b[0;32m~/proj_news_viz/env4news/lib/python3.6/site-packages/pandas/core/generic.py\u001b[0m in \u001b[0;36m__getattr__\u001b[0;34m(self, name)\u001b[0m\n\u001b[1;32m   4374\u001b[0m             \u001b[0;32mif\u001b[0m \u001b[0mself\u001b[0m\u001b[0;34m.\u001b[0m\u001b[0m_info_axis\u001b[0m\u001b[0;34m.\u001b[0m\u001b[0m_can_hold_identifiers_and_holds_name\u001b[0m\u001b[0;34m(\u001b[0m\u001b[0mname\u001b[0m\u001b[0;34m)\u001b[0m\u001b[0;34m:\u001b[0m\u001b[0;34m\u001b[0m\u001b[0;34m\u001b[0m\u001b[0m\n\u001b[1;32m   4375\u001b[0m                 \u001b[0;32mreturn\u001b[0m \u001b[0mself\u001b[0m\u001b[0;34m[\u001b[0m\u001b[0mname\u001b[0m\u001b[0;34m]\u001b[0m\u001b[0;34m\u001b[0m\u001b[0;34m\u001b[0m\u001b[0m\n\u001b[0;32m-> 4376\u001b[0;31m             \u001b[0;32mreturn\u001b[0m \u001b[0mobject\u001b[0m\u001b[0;34m.\u001b[0m\u001b[0m__getattribute__\u001b[0m\u001b[0;34m(\u001b[0m\u001b[0mself\u001b[0m\u001b[0;34m,\u001b[0m \u001b[0mname\u001b[0m\u001b[0;34m)\u001b[0m\u001b[0;34m\u001b[0m\u001b[0;34m\u001b[0m\u001b[0m\n\u001b[0m\u001b[1;32m   4377\u001b[0m \u001b[0;34m\u001b[0m\u001b[0m\n\u001b[1;32m   4378\u001b[0m     \u001b[0;32mdef\u001b[0m \u001b[0m__setattr__\u001b[0m\u001b[0;34m(\u001b[0m\u001b[0mself\u001b[0m\u001b[0;34m,\u001b[0m \u001b[0mname\u001b[0m\u001b[0;34m,\u001b[0m \u001b[0mvalue\u001b[0m\u001b[0;34m)\u001b[0m\u001b[0;34m:\u001b[0m\u001b[0;34m\u001b[0m\u001b[0;34m\u001b[0m\u001b[0m\n",
      "\u001b[0;31mAttributeError\u001b[0m: 'DataFrame' object has no attribute 'text'"
     ]
    }
   ],
   "source": [
    "%%time\n",
    "df.text = df.text.apply(cn.replaceKeywords)"
   ]
  },
  {
   "cell_type": "markdown",
   "metadata": {
    "hidden": true
   },
   "source": [
    "* lemmatization"
   ]
  },
  {
   "cell_type": "code",
   "execution_count": 61,
   "metadata": {
    "ExecuteTime": {
     "end_time": "2019-02-13T23:05:46.920212Z",
     "start_time": "2019-02-13T23:05:46.910888Z"
    },
    "hidden": true
   },
   "outputs": [
    {
     "ename": "AttributeError",
     "evalue": "'DataFrame' object has no attribute 'text'",
     "output_type": "error",
     "traceback": [
      "\u001b[0;31m---------------------------------------------------------------------------\u001b[0m",
      "\u001b[0;31mAttributeError\u001b[0m                            Traceback (most recent call last)",
      "\u001b[0;32m<timed exec>\u001b[0m in \u001b[0;36m<module>\u001b[0;34m\u001b[0m\n",
      "\u001b[0;32m~/proj_news_viz/env4news/lib/python3.6/site-packages/pandas/core/generic.py\u001b[0m in \u001b[0;36m__getattr__\u001b[0;34m(self, name)\u001b[0m\n\u001b[1;32m   4374\u001b[0m             \u001b[0;32mif\u001b[0m \u001b[0mself\u001b[0m\u001b[0;34m.\u001b[0m\u001b[0m_info_axis\u001b[0m\u001b[0;34m.\u001b[0m\u001b[0m_can_hold_identifiers_and_holds_name\u001b[0m\u001b[0;34m(\u001b[0m\u001b[0mname\u001b[0m\u001b[0;34m)\u001b[0m\u001b[0;34m:\u001b[0m\u001b[0;34m\u001b[0m\u001b[0;34m\u001b[0m\u001b[0m\n\u001b[1;32m   4375\u001b[0m                 \u001b[0;32mreturn\u001b[0m \u001b[0mself\u001b[0m\u001b[0;34m[\u001b[0m\u001b[0mname\u001b[0m\u001b[0;34m]\u001b[0m\u001b[0;34m\u001b[0m\u001b[0;34m\u001b[0m\u001b[0m\n\u001b[0;32m-> 4376\u001b[0;31m             \u001b[0;32mreturn\u001b[0m \u001b[0mobject\u001b[0m\u001b[0;34m.\u001b[0m\u001b[0m__getattribute__\u001b[0m\u001b[0;34m(\u001b[0m\u001b[0mself\u001b[0m\u001b[0;34m,\u001b[0m \u001b[0mname\u001b[0m\u001b[0;34m)\u001b[0m\u001b[0;34m\u001b[0m\u001b[0;34m\u001b[0m\u001b[0m\n\u001b[0m\u001b[1;32m   4377\u001b[0m \u001b[0;34m\u001b[0m\u001b[0m\n\u001b[1;32m   4378\u001b[0m     \u001b[0;32mdef\u001b[0m \u001b[0m__setattr__\u001b[0m\u001b[0;34m(\u001b[0m\u001b[0mself\u001b[0m\u001b[0;34m,\u001b[0m \u001b[0mname\u001b[0m\u001b[0;34m,\u001b[0m \u001b[0mvalue\u001b[0m\u001b[0;34m)\u001b[0m\u001b[0;34m:\u001b[0m\u001b[0;34m\u001b[0m\u001b[0;34m\u001b[0m\u001b[0m\n",
      "\u001b[0;31mAttributeError\u001b[0m: 'DataFrame' object has no attribute 'text'"
     ]
    }
   ],
   "source": [
    "%%time\n",
    "df['lemmatized_text'] = df.text.apply(pr.lemmatization)"
   ]
  },
  {
   "cell_type": "code",
   "execution_count": null,
   "metadata": {
    "hidden": true
   },
   "outputs": [],
   "source": []
  },
  {
   "cell_type": "markdown",
   "metadata": {
    "hidden": true
   },
   "source": [
    "* add docID"
   ]
  },
  {
   "cell_type": "code",
   "execution_count": 62,
   "metadata": {
    "ExecuteTime": {
     "end_time": "2019-02-13T23:05:47.452495Z",
     "start_time": "2019-02-13T23:05:46.921195Z"
    },
    "hidden": true
   },
   "outputs": [],
   "source": [
    "df['docID'] = list(range(df.shape[0]))"
   ]
  },
  {
   "cell_type": "code",
   "execution_count": 63,
   "metadata": {
    "ExecuteTime": {
     "end_time": "2019-02-13T23:05:47.463769Z",
     "start_time": "2019-02-13T23:05:47.453638Z"
    },
    "hidden": true
   },
   "outputs": [
    {
     "data": {
      "text/html": [
       "<div>\n",
       "<style scoped>\n",
       "    .dataframe tbody tr th:only-of-type {\n",
       "        vertical-align: middle;\n",
       "    }\n",
       "\n",
       "    .dataframe tbody tr th {\n",
       "        vertical-align: top;\n",
       "    }\n",
       "\n",
       "    .dataframe thead th {\n",
       "        text-align: right;\n",
       "    }\n",
       "</style>\n",
       "<table border=\"1\" class=\"dataframe\">\n",
       "  <thead>\n",
       "    <tr style=\"text-align: right;\">\n",
       "      <th></th>\n",
       "      <th>docID</th>\n",
       "      <th>year</th>\n",
       "      <th>month</th>\n",
       "      <th>lemmatized_text</th>\n",
       "    </tr>\n",
       "  </thead>\n",
       "  <tbody>\n",
       "    <tr>\n",
       "      <th>0</th>\n",
       "      <td>0</td>\n",
       "      <td>2008</td>\n",
       "      <td>2</td>\n",
       "      <td>[рост, ввп, россия, составить, журналист, токи...</td>\n",
       "    </tr>\n",
       "    <tr>\n",
       "      <th>1</th>\n",
       "      <td>1</td>\n",
       "      <td>2008</td>\n",
       "      <td>2</td>\n",
       "      <td>[цена, нефть, вырасти, заявление, венесуэла, у...</td>\n",
       "    </tr>\n",
       "  </tbody>\n",
       "</table>\n",
       "</div>"
      ],
      "text/plain": [
       "   docID  year  month                                    lemmatized_text\n",
       "0      0  2008      2  [рост, ввп, россия, составить, журналист, токи...\n",
       "1      1  2008      2  [цена, нефть, вырасти, заявление, венесуэла, у..."
      ]
     },
     "execution_count": 63,
     "metadata": {},
     "output_type": "execute_result"
    }
   ],
   "source": [
    "df = df[['docID','year','month','lemmatized_text']]\n",
    "df.head(2)"
   ]
  },
  {
   "cell_type": "code",
   "execution_count": 64,
   "metadata": {
    "ExecuteTime": {
     "end_time": "2019-02-13T23:05:47.482402Z",
     "start_time": "2019-02-13T23:05:47.465360Z"
    },
    "hidden": true
   },
   "outputs": [
    {
     "name": "stdout",
     "output_type": "stream",
     "text": [
      "(67453, 4)\n"
     ]
    },
    {
     "data": {
      "text/plain": [
       "docID              0\n",
       "year               0\n",
       "month              0\n",
       "lemmatized_text    0\n",
       "dtype: int64"
      ]
     },
     "execution_count": 64,
     "metadata": {},
     "output_type": "execute_result"
    }
   ],
   "source": [
    "print(df.shape)\n",
    "df.isnull().sum()"
   ]
  },
  {
   "cell_type": "code",
   "execution_count": 65,
   "metadata": {
    "ExecuteTime": {
     "end_time": "2019-02-13T23:05:47.487205Z",
     "start_time": "2019-02-13T23:05:47.483795Z"
    },
    "hidden": true
   },
   "outputs": [
    {
     "data": {
      "text/plain": [
       "2008"
      ]
     },
     "execution_count": 65,
     "metadata": {},
     "output_type": "execute_result"
    }
   ],
   "source": [
    "df.year.min()"
   ]
  },
  {
   "cell_type": "code",
   "execution_count": null,
   "metadata": {
    "hidden": true
   },
   "outputs": [],
   "source": []
  },
  {
   "cell_type": "markdown",
   "metadata": {},
   "source": [
    "## model"
   ]
  },
  {
   "cell_type": "markdown",
   "metadata": {},
   "source": [
    "* prepare"
   ]
  },
  {
   "cell_type": "code",
   "execution_count": 66,
   "metadata": {
    "ExecuteTime": {
     "end_time": "2019-02-13T23:05:48.438591Z",
     "start_time": "2019-02-13T23:05:47.488521Z"
    }
   },
   "outputs": [
    {
     "name": "stdout",
     "output_type": "stream",
     "text": [
      "CPU times: user 897 ms, sys: 231 ms, total: 1.13 s\n",
      "Wall time: 946 ms\n"
     ]
    }
   ],
   "source": [
    "%%time\n",
    "\n",
    "vwpath = f'data/vwpath/{name_dataset}_input_bigartm.vw'\n",
    "\n",
    "with open(vwpath, 'w') as fp:\n",
    "    for text, did in df[['lemmatized_text', 'docID']].values:\n",
    "        fp.write('{} | {}\\n'.format(did, ' '.join(text)))"
   ]
  },
  {
   "cell_type": "code",
   "execution_count": 67,
   "metadata": {
    "ExecuteTime": {
     "end_time": "2019-02-13T23:05:48.444095Z",
     "start_time": "2019-02-13T23:05:48.440289Z"
    }
   },
   "outputs": [],
   "source": [
    "id_date = df[['docID', 'year', 'month']].copy()"
   ]
  },
  {
   "cell_type": "markdown",
   "metadata": {},
   "source": [
    "* collect batchs and collect the dictionary"
   ]
  },
  {
   "cell_type": "code",
   "execution_count": 68,
   "metadata": {
    "ExecuteTime": {
     "end_time": "2019-02-13T23:05:52.925440Z",
     "start_time": "2019-02-13T23:05:48.445786Z"
    }
   },
   "outputs": [
    {
     "name": "stdout",
     "output_type": "stream",
     "text": [
      "artm.BatchVectorizer(data_path=\"data/batches/Ekonomika\", num_batches=72)\n",
      "CPU times: user 31.8 s, sys: 1.02 s, total: 32.8 s\n",
      "Wall time: 4.43 s\n"
     ]
    }
   ],
   "source": [
    "%%time\n",
    "\n",
    "batches_path = f'data/batches/{name_dataset}'\n",
    "\n",
    "if not os.path.exists(batches_path):\n",
    "    print('create folder...\\n')\n",
    "    os.makedirs(batches_path)\n",
    "    \n",
    "batch_vectorizer = artm.BatchVectorizer(data_path=vwpath,\n",
    "                                        data_format='vowpal_wabbit',\n",
    "                                        target_folder=batches_path)\n",
    "\n",
    "print(batch_vectorizer)"
   ]
  },
  {
   "cell_type": "code",
   "execution_count": 69,
   "metadata": {
    "ExecuteTime": {
     "end_time": "2019-02-13T23:05:55.249861Z",
     "start_time": "2019-02-13T23:05:52.927999Z"
    }
   },
   "outputs": [],
   "source": [
    "dictionary = artm.Dictionary()\n",
    "dictionary.gather(data_path=batches_path)"
   ]
  },
  {
   "cell_type": "code",
   "execution_count": 70,
   "metadata": {
    "ExecuteTime": {
     "end_time": "2019-02-13T23:05:55.319884Z",
     "start_time": "2019-02-13T23:05:55.254354Z"
    }
   },
   "outputs": [
    {
     "data": {
      "text/plain": [
       "artm.Dictionary(name=cea75630-3ddb-4714-b6dd-69368fa2b20a, num_entries=24662)"
      ]
     },
     "execution_count": 70,
     "metadata": {},
     "output_type": "execute_result"
    }
   ],
   "source": [
    "dictionary.filter(min_tf=10, max_df_rate=0.1) #int(4.5e5)"
   ]
  },
  {
   "cell_type": "code",
   "execution_count": 71,
   "metadata": {
    "ExecuteTime": {
     "end_time": "2019-02-13T23:05:55.455175Z",
     "start_time": "2019-02-13T23:05:55.320987Z"
    }
   },
   "outputs": [],
   "source": [
    "dictionary.save_text(f'data/dicts/dict_{name_dataset}.txt')"
   ]
  },
  {
   "cell_type": "code",
   "execution_count": null,
   "metadata": {},
   "outputs": [],
   "source": []
  },
  {
   "cell_type": "markdown",
   "metadata": {},
   "source": [
    "## pick up amount topics"
   ]
  },
  {
   "cell_type": "code",
   "execution_count": null,
   "metadata": {
    "ExecuteTime": {
     "end_time": "2019-02-13T23:07:00.853185Z",
     "start_time": "2019-02-13T23:05:55.461314Z"
    }
   },
   "outputs": [],
   "source": [
    "%%time\n",
    "model_list = []\n",
    "step, perplexity, sTheta, sPhi = [], [], [], []\n",
    "\n",
    "start = 6\n",
    "end = 25\n",
    "stepp = 1\n",
    "\n",
    "for i in range(start,end+1,stepp):\n",
    "    print(f'#topic {i}.........')\n",
    "    step.append(i)\n",
    "    date_start = time.now()\n",
    "    \n",
    "    num_topics = i\n",
    "    model = artm.ARTM(num_topics=num_topics, dictionary=dictionary)\n",
    "    \n",
    "    # scores\n",
    "    model.scores.add(artm.PerplexityScore(name='PerplexityScore', dictionary=dictionary))\n",
    "    model.scores.add(artm.SparsityThetaScore(name='SparsityThetaScore'))\n",
    "    model.scores.add(artm.SparsityPhiScore(name='SparsityPhiScore'))\n",
    "    \n",
    "    # 1st regularizer\n",
    "    model.regularizers.add(artm.SmoothSparsePhiRegularizer(name='SparsePhi', tau=-1.0)) #-0.1\n",
    "    model.fit_offline(batch_vectorizer=batch_vectorizer, num_collection_passes=5)\n",
    "    \n",
    "    # 2st regularizer\n",
    "    model.regularizers.add(artm.SmoothSparseThetaRegularizer(name='SparseTheta', tau=-0.5))\n",
    "    model.fit_offline(batch_vectorizer=batch_vectorizer, num_collection_passes=15)\n",
    "    \n",
    "    # 3st regularizer\n",
    "    model.regularizers.add(artm.DecorrelatorPhiRegularizer(name='DecorrelatorPhi', tau=1.5e+5))\n",
    "    model.fit_offline(batch_vectorizer=batch_vectorizer, num_collection_passes=15)\n",
    "    \n",
    "    sparsityTheta = model.score_tracker['SparsityThetaScore'].last_value\n",
    "    sTheta.append(sparsityTheta)\n",
    "    sparsityPhi = model.score_tracker['SparsityPhiScore'].last_value\n",
    "    sPhi.append(sparsityPhi)\n",
    "    perpl = model.score_tracker['PerplexityScore'].last_value\n",
    "    perplexity.append(perpl)\n",
    "    \n",
    "    print(f'\\tSparsityThetaScore: {sparsityTheta}')\n",
    "    print(f'\\tSparsityPhiScore: {sparsityPhi}')\n",
    "    print(f'\\tPerplexityScore: {perpl}')\n",
    "    \n",
    "    print('\\ttime:',time.now()-date_start)"
   ]
  },
  {
   "cell_type": "code",
   "execution_count": null,
   "metadata": {
    "ExecuteTime": {
     "end_time": "2019-02-13T23:07:00.856582Z",
     "start_time": "2019-02-13T23:07:00.854703Z"
    }
   },
   "outputs": [],
   "source": [
    "#model_list"
   ]
  },
  {
   "cell_type": "code",
   "execution_count": null,
   "metadata": {
    "ExecuteTime": {
     "end_time": "2019-02-13T23:07:00.987091Z",
     "start_time": "2019-02-13T23:07:00.857686Z"
    },
    "cell_style": "split"
   },
   "outputs": [],
   "source": [
    "plt.plot(step, sPhi, color='k',linewidth=3, marker='x')\n",
    "ax = plt.gca()\n",
    "ax.set_xticks(step)\n",
    "plt.grid()\n",
    "plt.title('SparsityPhiScore')"
   ]
  },
  {
   "cell_type": "code",
   "execution_count": null,
   "metadata": {
    "ExecuteTime": {
     "end_time": "2019-02-13T23:07:00.993159Z",
     "start_time": "2019-02-13T23:05:26.510Z"
    },
    "cell_style": "split"
   },
   "outputs": [],
   "source": [
    "index_sphi = []\n",
    "[index_sphi.append(float(str(i)[:3]) ) for i in sPhi]\n",
    "    \n",
    "index_sphi = list(set(index_sphi))\n",
    "index_sphi.sort()\n",
    "index_sphi"
   ]
  },
  {
   "cell_type": "code",
   "execution_count": null,
   "metadata": {
    "ExecuteTime": {
     "end_time": "2019-02-13T23:07:00.993756Z",
     "start_time": "2019-02-13T23:05:26.514Z"
    },
    "cell_style": "split"
   },
   "outputs": [],
   "source": [
    "d_sphi = {}\n",
    "\n",
    "for j in range(len(index_sphi)):\n",
    "    k=0\n",
    "    for i in sPhi:\n",
    "        if j==range(len(index_sphi))[-1]:\n",
    "            if (i>=index_sphi[j]):\n",
    "                k+=1\n",
    "        else:\n",
    "            if (i>=index_sphi[j]) & (i<index_sphi[j+1]):\n",
    "                k+=1\n",
    "    d_sphi[index_sphi[j]]=k\n",
    "\n",
    "d_sphi"
   ]
  },
  {
   "cell_type": "code",
   "execution_count": null,
   "metadata": {
    "ExecuteTime": {
     "end_time": "2019-02-13T23:07:00.994341Z",
     "start_time": "2019-02-13T23:05:26.518Z"
    },
    "cell_style": "split",
    "scrolled": true
   },
   "outputs": [],
   "source": [
    "plt.plot(step, sTheta, color='g',linewidth=3, marker='x')\n",
    "ax = plt.gca()\n",
    "ax.set_xticks(step)\n",
    "plt.grid()\n",
    "\n",
    "plt.title('SparsityThetaScore')"
   ]
  },
  {
   "cell_type": "code",
   "execution_count": null,
   "metadata": {
    "ExecuteTime": {
     "end_time": "2019-02-13T23:07:00.994903Z",
     "start_time": "2019-02-13T23:05:26.522Z"
    },
    "cell_style": "split"
   },
   "outputs": [],
   "source": [
    "index_theta = []\n",
    "[index_theta.append(float(str(i)[:3])) for i in sTheta]\n",
    "    \n",
    "index_theta = list(set(index_theta))\n",
    "index_theta.sort()\n",
    "index_theta"
   ]
  },
  {
   "cell_type": "code",
   "execution_count": null,
   "metadata": {
    "ExecuteTime": {
     "end_time": "2019-02-13T23:07:00.995490Z",
     "start_time": "2019-02-13T23:05:26.525Z"
    },
    "cell_style": "split"
   },
   "outputs": [],
   "source": [
    "d_stheta = {}\n",
    "\n",
    "for j in range(len(index_theta)):\n",
    "    k=0\n",
    "    for i in sTheta:\n",
    "        if j==range(len(index_theta))[-1]:\n",
    "            if (i>=index_theta[j]):\n",
    "                k+=1\n",
    "        else:\n",
    "            if (i>=index_theta[j]) & (i<index_theta[j+1]):\n",
    "                k+=1\n",
    "    d_stheta[index_theta[j]]=k\n",
    "\n",
    "d_stheta"
   ]
  },
  {
   "cell_type": "code",
   "execution_count": null,
   "metadata": {
    "ExecuteTime": {
     "end_time": "2019-02-13T23:07:00.996081Z",
     "start_time": "2019-02-13T23:05:26.527Z"
    },
    "cell_style": "split"
   },
   "outputs": [],
   "source": [
    "plt.plot(step, perplexity, color='b',linewidth=3, marker='x')\n",
    "ax = plt.gca()\n",
    "ax.set_xticks(step)\n",
    "plt.grid()\n",
    "plt.title('PerplexityScore')"
   ]
  },
  {
   "cell_type": "code",
   "execution_count": null,
   "metadata": {
    "ExecuteTime": {
     "end_time": "2019-02-13T23:07:00.996642Z",
     "start_time": "2019-02-13T23:05:26.530Z"
    },
    "cell_style": "split"
   },
   "outputs": [],
   "source": [
    "perplexity"
   ]
  },
  {
   "cell_type": "markdown",
   "metadata": {},
   "source": [
    "### select the best model"
   ]
  },
  {
   "cell_type": "code",
   "execution_count": null,
   "metadata": {
    "ExecuteTime": {
     "end_time": "2019-02-13T23:07:00.997212Z",
     "start_time": "2019-02-13T23:05:26.534Z"
    }
   },
   "outputs": [],
   "source": [
    "print(f'd_sphi:   {d_sphi}')\n",
    "print(f'd_stheta: {d_stheta}')"
   ]
  },
  {
   "cell_type": "code",
   "execution_count": null,
   "metadata": {
    "ExecuteTime": {
     "end_time": "2019-02-13T23:07:00.997771Z",
     "start_time": "2019-02-13T23:05:26.536Z"
    }
   },
   "outputs": [],
   "source": [
    "select_topics = 20 # u should choose number of topic\n",
    "\n",
    "best_model = model_list[select_topics-start]\n",
    "print(best_model.num_topics)"
   ]
  },
  {
   "cell_type": "markdown",
   "metadata": {},
   "source": [
    "---"
   ]
  },
  {
   "cell_type": "code",
   "execution_count": 75,
   "metadata": {
    "ExecuteTime": {
     "end_time": "2019-02-13T23:07:23.020779Z",
     "start_time": "2019-02-13T23:07:23.018493Z"
    }
   },
   "outputs": [],
   "source": [
    "select_topics = 20"
   ]
  },
  {
   "cell_type": "code",
   "execution_count": 76,
   "metadata": {
    "ExecuteTime": {
     "end_time": "2019-02-13T23:07:59.519731Z",
     "start_time": "2019-02-13T23:07:23.024122Z"
    }
   },
   "outputs": [
    {
     "data": {
      "application/vnd.jupyter.widget-view+json": {
       "model_id": "e1b737aef4de44b58a27033bbf939bf9",
       "version_major": 2,
       "version_minor": 0
      },
      "text/plain": [
       "HBox(children=(IntProgress(value=0, description='Pass', max=5, style=ProgressStyle(description_width='initial'…"
      ]
     },
     "metadata": {},
     "output_type": "display_data"
    },
    {
     "data": {
      "application/vnd.jupyter.widget-view+json": {
       "model_id": "",
       "version_major": 2,
       "version_minor": 0
      },
      "text/plain": [
       "HBox(children=(IntProgress(value=0, description='Batch', max=72, style=ProgressStyle(description_width='initia…"
      ]
     },
     "metadata": {},
     "output_type": "display_data"
    },
    {
     "data": {
      "application/vnd.jupyter.widget-view+json": {
       "model_id": "",
       "version_major": 2,
       "version_minor": 0
      },
      "text/plain": [
       "HBox(children=(IntProgress(value=0, description='Batch', max=72, style=ProgressStyle(description_width='initia…"
      ]
     },
     "metadata": {},
     "output_type": "display_data"
    },
    {
     "data": {
      "application/vnd.jupyter.widget-view+json": {
       "model_id": "",
       "version_major": 2,
       "version_minor": 0
      },
      "text/plain": [
       "HBox(children=(IntProgress(value=0, description='Batch', max=72, style=ProgressStyle(description_width='initia…"
      ]
     },
     "metadata": {},
     "output_type": "display_data"
    },
    {
     "data": {
      "application/vnd.jupyter.widget-view+json": {
       "model_id": "",
       "version_major": 2,
       "version_minor": 0
      },
      "text/plain": [
       "HBox(children=(IntProgress(value=0, description='Batch', max=72, style=ProgressStyle(description_width='initia…"
      ]
     },
     "metadata": {},
     "output_type": "display_data"
    },
    {
     "data": {
      "application/vnd.jupyter.widget-view+json": {
       "model_id": "",
       "version_major": 2,
       "version_minor": 0
      },
      "text/plain": [
       "HBox(children=(IntProgress(value=0, description='Batch', max=72, style=ProgressStyle(description_width='initia…"
      ]
     },
     "metadata": {},
     "output_type": "display_data"
    },
    {
     "name": "stdout",
     "output_type": "stream",
     "text": [
      "\n"
     ]
    },
    {
     "data": {
      "application/vnd.jupyter.widget-view+json": {
       "model_id": "dcd4293fee79481e914489e092540d55",
       "version_major": 2,
       "version_minor": 0
      },
      "text/plain": [
       "HBox(children=(IntProgress(value=0, description='Pass', max=15, style=ProgressStyle(description_width='initial…"
      ]
     },
     "metadata": {},
     "output_type": "display_data"
    },
    {
     "data": {
      "application/vnd.jupyter.widget-view+json": {
       "model_id": "",
       "version_major": 2,
       "version_minor": 0
      },
      "text/plain": [
       "HBox(children=(IntProgress(value=0, description='Batch', max=72, style=ProgressStyle(description_width='initia…"
      ]
     },
     "metadata": {},
     "output_type": "display_data"
    },
    {
     "data": {
      "application/vnd.jupyter.widget-view+json": {
       "model_id": "",
       "version_major": 2,
       "version_minor": 0
      },
      "text/plain": [
       "HBox(children=(IntProgress(value=0, description='Batch', max=72, style=ProgressStyle(description_width='initia…"
      ]
     },
     "metadata": {},
     "output_type": "display_data"
    },
    {
     "data": {
      "application/vnd.jupyter.widget-view+json": {
       "model_id": "",
       "version_major": 2,
       "version_minor": 0
      },
      "text/plain": [
       "HBox(children=(IntProgress(value=0, description='Batch', max=72, style=ProgressStyle(description_width='initia…"
      ]
     },
     "metadata": {},
     "output_type": "display_data"
    },
    {
     "data": {
      "application/vnd.jupyter.widget-view+json": {
       "model_id": "",
       "version_major": 2,
       "version_minor": 0
      },
      "text/plain": [
       "HBox(children=(IntProgress(value=0, description='Batch', max=72, style=ProgressStyle(description_width='initia…"
      ]
     },
     "metadata": {},
     "output_type": "display_data"
    },
    {
     "data": {
      "application/vnd.jupyter.widget-view+json": {
       "model_id": "",
       "version_major": 2,
       "version_minor": 0
      },
      "text/plain": [
       "HBox(children=(IntProgress(value=0, description='Batch', max=72, style=ProgressStyle(description_width='initia…"
      ]
     },
     "metadata": {},
     "output_type": "display_data"
    },
    {
     "data": {
      "application/vnd.jupyter.widget-view+json": {
       "model_id": "",
       "version_major": 2,
       "version_minor": 0
      },
      "text/plain": [
       "HBox(children=(IntProgress(value=0, description='Batch', max=72, style=ProgressStyle(description_width='initia…"
      ]
     },
     "metadata": {},
     "output_type": "display_data"
    },
    {
     "data": {
      "application/vnd.jupyter.widget-view+json": {
       "model_id": "",
       "version_major": 2,
       "version_minor": 0
      },
      "text/plain": [
       "HBox(children=(IntProgress(value=0, description='Batch', max=72, style=ProgressStyle(description_width='initia…"
      ]
     },
     "metadata": {},
     "output_type": "display_data"
    },
    {
     "data": {
      "application/vnd.jupyter.widget-view+json": {
       "model_id": "",
       "version_major": 2,
       "version_minor": 0
      },
      "text/plain": [
       "HBox(children=(IntProgress(value=0, description='Batch', max=72, style=ProgressStyle(description_width='initia…"
      ]
     },
     "metadata": {},
     "output_type": "display_data"
    },
    {
     "data": {
      "application/vnd.jupyter.widget-view+json": {
       "model_id": "",
       "version_major": 2,
       "version_minor": 0
      },
      "text/plain": [
       "HBox(children=(IntProgress(value=0, description='Batch', max=72, style=ProgressStyle(description_width='initia…"
      ]
     },
     "metadata": {},
     "output_type": "display_data"
    },
    {
     "data": {
      "application/vnd.jupyter.widget-view+json": {
       "model_id": "",
       "version_major": 2,
       "version_minor": 0
      },
      "text/plain": [
       "HBox(children=(IntProgress(value=0, description='Batch', max=72, style=ProgressStyle(description_width='initia…"
      ]
     },
     "metadata": {},
     "output_type": "display_data"
    },
    {
     "data": {
      "application/vnd.jupyter.widget-view+json": {
       "model_id": "",
       "version_major": 2,
       "version_minor": 0
      },
      "text/plain": [
       "HBox(children=(IntProgress(value=0, description='Batch', max=72, style=ProgressStyle(description_width='initia…"
      ]
     },
     "metadata": {},
     "output_type": "display_data"
    },
    {
     "data": {
      "application/vnd.jupyter.widget-view+json": {
       "model_id": "",
       "version_major": 2,
       "version_minor": 0
      },
      "text/plain": [
       "HBox(children=(IntProgress(value=0, description='Batch', max=72, style=ProgressStyle(description_width='initia…"
      ]
     },
     "metadata": {},
     "output_type": "display_data"
    },
    {
     "data": {
      "application/vnd.jupyter.widget-view+json": {
       "model_id": "",
       "version_major": 2,
       "version_minor": 0
      },
      "text/plain": [
       "HBox(children=(IntProgress(value=0, description='Batch', max=72, style=ProgressStyle(description_width='initia…"
      ]
     },
     "metadata": {},
     "output_type": "display_data"
    },
    {
     "data": {
      "application/vnd.jupyter.widget-view+json": {
       "model_id": "",
       "version_major": 2,
       "version_minor": 0
      },
      "text/plain": [
       "HBox(children=(IntProgress(value=0, description='Batch', max=72, style=ProgressStyle(description_width='initia…"
      ]
     },
     "metadata": {},
     "output_type": "display_data"
    },
    {
     "data": {
      "application/vnd.jupyter.widget-view+json": {
       "model_id": "",
       "version_major": 2,
       "version_minor": 0
      },
      "text/plain": [
       "HBox(children=(IntProgress(value=0, description='Batch', max=72, style=ProgressStyle(description_width='initia…"
      ]
     },
     "metadata": {},
     "output_type": "display_data"
    },
    {
     "name": "stdout",
     "output_type": "stream",
     "text": [
      "\n"
     ]
    },
    {
     "data": {
      "application/vnd.jupyter.widget-view+json": {
       "model_id": "c7ec275ebc8a4ee38bf5d1373f4d3318",
       "version_major": 2,
       "version_minor": 0
      },
      "text/plain": [
       "HBox(children=(IntProgress(value=0, description='Pass', max=15, style=ProgressStyle(description_width='initial…"
      ]
     },
     "metadata": {},
     "output_type": "display_data"
    },
    {
     "data": {
      "application/vnd.jupyter.widget-view+json": {
       "model_id": "",
       "version_major": 2,
       "version_minor": 0
      },
      "text/plain": [
       "HBox(children=(IntProgress(value=0, description='Batch', max=72, style=ProgressStyle(description_width='initia…"
      ]
     },
     "metadata": {},
     "output_type": "display_data"
    },
    {
     "data": {
      "application/vnd.jupyter.widget-view+json": {
       "model_id": "",
       "version_major": 2,
       "version_minor": 0
      },
      "text/plain": [
       "HBox(children=(IntProgress(value=0, description='Batch', max=72, style=ProgressStyle(description_width='initia…"
      ]
     },
     "metadata": {},
     "output_type": "display_data"
    },
    {
     "data": {
      "application/vnd.jupyter.widget-view+json": {
       "model_id": "",
       "version_major": 2,
       "version_minor": 0
      },
      "text/plain": [
       "HBox(children=(IntProgress(value=0, description='Batch', max=72, style=ProgressStyle(description_width='initia…"
      ]
     },
     "metadata": {},
     "output_type": "display_data"
    },
    {
     "data": {
      "application/vnd.jupyter.widget-view+json": {
       "model_id": "",
       "version_major": 2,
       "version_minor": 0
      },
      "text/plain": [
       "HBox(children=(IntProgress(value=0, description='Batch', max=72, style=ProgressStyle(description_width='initia…"
      ]
     },
     "metadata": {},
     "output_type": "display_data"
    },
    {
     "data": {
      "application/vnd.jupyter.widget-view+json": {
       "model_id": "",
       "version_major": 2,
       "version_minor": 0
      },
      "text/plain": [
       "HBox(children=(IntProgress(value=0, description='Batch', max=72, style=ProgressStyle(description_width='initia…"
      ]
     },
     "metadata": {},
     "output_type": "display_data"
    },
    {
     "data": {
      "application/vnd.jupyter.widget-view+json": {
       "model_id": "",
       "version_major": 2,
       "version_minor": 0
      },
      "text/plain": [
       "HBox(children=(IntProgress(value=0, description='Batch', max=72, style=ProgressStyle(description_width='initia…"
      ]
     },
     "metadata": {},
     "output_type": "display_data"
    },
    {
     "data": {
      "application/vnd.jupyter.widget-view+json": {
       "model_id": "",
       "version_major": 2,
       "version_minor": 0
      },
      "text/plain": [
       "HBox(children=(IntProgress(value=0, description='Batch', max=72, style=ProgressStyle(description_width='initia…"
      ]
     },
     "metadata": {},
     "output_type": "display_data"
    },
    {
     "data": {
      "application/vnd.jupyter.widget-view+json": {
       "model_id": "",
       "version_major": 2,
       "version_minor": 0
      },
      "text/plain": [
       "HBox(children=(IntProgress(value=0, description='Batch', max=72, style=ProgressStyle(description_width='initia…"
      ]
     },
     "metadata": {},
     "output_type": "display_data"
    },
    {
     "data": {
      "application/vnd.jupyter.widget-view+json": {
       "model_id": "",
       "version_major": 2,
       "version_minor": 0
      },
      "text/plain": [
       "HBox(children=(IntProgress(value=0, description='Batch', max=72, style=ProgressStyle(description_width='initia…"
      ]
     },
     "metadata": {},
     "output_type": "display_data"
    },
    {
     "data": {
      "application/vnd.jupyter.widget-view+json": {
       "model_id": "",
       "version_major": 2,
       "version_minor": 0
      },
      "text/plain": [
       "HBox(children=(IntProgress(value=0, description='Batch', max=72, style=ProgressStyle(description_width='initia…"
      ]
     },
     "metadata": {},
     "output_type": "display_data"
    },
    {
     "data": {
      "application/vnd.jupyter.widget-view+json": {
       "model_id": "",
       "version_major": 2,
       "version_minor": 0
      },
      "text/plain": [
       "HBox(children=(IntProgress(value=0, description='Batch', max=72, style=ProgressStyle(description_width='initia…"
      ]
     },
     "metadata": {},
     "output_type": "display_data"
    },
    {
     "data": {
      "application/vnd.jupyter.widget-view+json": {
       "model_id": "",
       "version_major": 2,
       "version_minor": 0
      },
      "text/plain": [
       "HBox(children=(IntProgress(value=0, description='Batch', max=72, style=ProgressStyle(description_width='initia…"
      ]
     },
     "metadata": {},
     "output_type": "display_data"
    },
    {
     "data": {
      "application/vnd.jupyter.widget-view+json": {
       "model_id": "",
       "version_major": 2,
       "version_minor": 0
      },
      "text/plain": [
       "HBox(children=(IntProgress(value=0, description='Batch', max=72, style=ProgressStyle(description_width='initia…"
      ]
     },
     "metadata": {},
     "output_type": "display_data"
    },
    {
     "data": {
      "application/vnd.jupyter.widget-view+json": {
       "model_id": "",
       "version_major": 2,
       "version_minor": 0
      },
      "text/plain": [
       "HBox(children=(IntProgress(value=0, description='Batch', max=72, style=ProgressStyle(description_width='initia…"
      ]
     },
     "metadata": {},
     "output_type": "display_data"
    },
    {
     "data": {
      "application/vnd.jupyter.widget-view+json": {
       "model_id": "",
       "version_major": 2,
       "version_minor": 0
      },
      "text/plain": [
       "HBox(children=(IntProgress(value=0, description='Batch', max=72, style=ProgressStyle(description_width='initia…"
      ]
     },
     "metadata": {},
     "output_type": "display_data"
    },
    {
     "name": "stdout",
     "output_type": "stream",
     "text": [
      "\n",
      "\tSparsityThetaScore: 0.7098249197006226\n",
      "\tSparsityPhiScore: 0.8655847311019897\n",
      "\tPerplexityScore: 2135.237060546875\n"
     ]
    }
   ],
   "source": [
    "num_topics = select_topics\n",
    "model = artm.ARTM(num_topics=num_topics, dictionary=dictionary, show_progress_bars=True)\n",
    "\n",
    "# scores\n",
    "model.scores.add(artm.PerplexityScore(name='PerplexityScore', dictionary=dictionary))\n",
    "model.scores.add(artm.SparsityThetaScore(name='SparsityThetaScore'))\n",
    "model.scores.add(artm.SparsityPhiScore(name='SparsityPhiScore'))\n",
    "\n",
    "# 1st regularizer\n",
    "model.regularizers.add(artm.SmoothSparsePhiRegularizer(name='SparsePhi', tau=-1.0)) #-0.1\n",
    "model.fit_offline(batch_vectorizer=batch_vectorizer, num_collection_passes=5)\n",
    "\n",
    "# 2st regularizer\n",
    "model.regularizers.add(artm.SmoothSparseThetaRegularizer(name='SparseTheta', tau=-0.5))\n",
    "model.fit_offline(batch_vectorizer=batch_vectorizer, num_collection_passes=15)\n",
    "\n",
    "# 3st regularizer\n",
    "model.regularizers.add(artm.DecorrelatorPhiRegularizer(name='DecorrelatorPhi', tau=1.5e+5))\n",
    "model.fit_offline(batch_vectorizer=batch_vectorizer, num_collection_passes=15)\n",
    "\n",
    "sparsityTheta = model.score_tracker['SparsityThetaScore'].last_value\n",
    "sparsityPhi = model.score_tracker['SparsityPhiScore'].last_value\n",
    "perpl = model.score_tracker['PerplexityScore'].last_value\n",
    "\n",
    "print(f'\\tSparsityThetaScore: {sparsityTheta}')\n",
    "print(f'\\tSparsityPhiScore: {sparsityPhi}')\n",
    "print(f'\\tPerplexityScore: {perpl}')"
   ]
  },
  {
   "cell_type": "code",
   "execution_count": 77,
   "metadata": {
    "ExecuteTime": {
     "end_time": "2019-02-13T23:07:59.701617Z",
     "start_time": "2019-02-13T23:07:59.521192Z"
    }
   },
   "outputs": [
    {
     "data": {
      "text/plain": [
       "20"
      ]
     },
     "execution_count": 77,
     "metadata": {},
     "output_type": "execute_result"
    }
   ],
   "source": [
    "best_model = model.clone()\n",
    "best_model.num_topics"
   ]
  },
  {
   "cell_type": "markdown",
   "metadata": {},
   "source": [
    "---"
   ]
  },
  {
   "cell_type": "markdown",
   "metadata": {
    "ExecuteTime": {
     "end_time": "2019-02-01T00:14:02.339878Z",
     "start_time": "2019-02-01T00:14:02.338133Z"
    }
   },
   "source": [
    "### print top words for each topics"
   ]
  },
  {
   "cell_type": "code",
   "execution_count": 78,
   "metadata": {
    "ExecuteTime": {
     "end_time": "2019-02-13T23:07:59.913747Z",
     "start_time": "2019-02-13T23:07:59.703271Z"
    }
   },
   "outputs": [
    {
     "name": "stdout",
     "output_type": "stream",
     "text": [
      "topic_0: ['валюта' 'валютный' 'рейтинг' 'облигация' 'минфин' 'доходность'\n",
      " 'иностранный' 'операция' 'национальный' 'центробанк']\n",
      "topic_1: ['акционер' 'втб' 'русало' 'пакет' 'иск' 'председатель' 'сбербанк' 'пост'\n",
      " 'оао' 'владеть']\n",
      "topic_2: ['инфляция' 'ввп' 'темп' 'потребительский' 'доход' 'расход' 'выражение'\n",
      " 'дефицит' 'минэкономразвития' 'спрос']\n",
      "topic_3: ['требование' 'операция' 'деятельность' 'информация' 'лицензия'\n",
      " 'кредитный' 'банковский' 'лицо' 'вклад' 'нарушение']\n",
      "topic_4: ['кредит' 'банковский' 'кредитный' 'триллион' 'сбербанк' 'долг' 'резерв'\n",
      " 'кредитование' 'задолженность' 'вэб']\n",
      "topic_5: ['пенсионный' 'пенсия' 'выплата' 'зарплата' 'возраст' 'гражданин'\n",
      " 'работник' 'социальный' 'страховой' 'труд']\n",
      "topic_6: ['санкция' 'добыча' 'опека' 'иран' 'бс' 'саудовский' 'аравия' 'нефтяной'\n",
      " 'соглашение' 'сутки']\n",
      "topic_7: ['очень' 'деньга' 'нужно' 'хороший' 'подчеркнуть' 'поэтому' 'сделать'\n",
      " 'бизнес' 'важный' 'делать']\n",
      "topic_8: ['авиакомпания' 'оператор' 'аэрофлот' 'аэропорт' 'самолёт' 'рейс'\n",
      " 'пассажир' 'мтс' 'перевозка' 'сотрудник']\n",
      "topic_9: ['греция' 'мвф' 'еврозона' 'помощь' 'программа' 'долг' 'ес' 'финансы'\n",
      " 'кредитор' 'ецб']\n",
      "topic_10: ['автомобиль' 'строительство' 'предприятие' 'программа' 'оао'\n",
      " 'производство' 'завод' 'область' 'создание' 'ржд']\n",
      "topic_11: ['газпром' 'газа' 'роснефть' 'месторождение' 'поток' 'газопровод'\n",
      " 'газовый' 'газ' 'куб' 'bp']\n",
      "topic_12: ['топливо' 'тариф' 'фас' 'бензин' 'нефтепродукт' 'акциз' 'электроэнергия'\n",
      " 'антимонопольный' 'служба' 'производство']\n",
      "topic_13: ['налог' 'налоговый' 'минфин' 'закон' 'законопроект' 'доход' 'документ'\n",
      " 'бюджетный' 'госдума' 'минэкономразвития']\n",
      "topic_14: ['украина' 'белоруссия' 'украинский' 'переговоры' 'ес' 'газа' 'вто'\n",
      " 'соглашение' 'продукция' 'белорусский']\n",
      "topic_15: ['копейка' 'фьючерс' 'ммвб' 'brent' 'wti' 'мск' 'закрытие' 'корзина' 'ртс'\n",
      " 'бивалютный']\n",
      "topic_16: ['китай' 'китайский' 'место' 'великобритания' 'юань' 'развивающийся'\n",
      " 'недвижимость' 'кнр' 'индия' 'япония']\n",
      "topic_17: ['тонна' 'продукция' 'пошлина' 'экспорт' 'товар' 'импорт' 'продукт'\n",
      " 'зерно' 'производство' 'производитель']\n",
      "topic_18: ['сеть' 'карта' 'магазин' 'золото' 'товар' 'услуга' 'почта' 'ритейлера'\n",
      " 'продукт' 'россиянин']\n",
      "topic_19: ['фрс' 'иена' 'японский' 'прибыль' 'котировка' 'inc' 'bank' 'аналитик'\n",
      " 'опуститься' 'аналитика']\n"
     ]
    }
   ],
   "source": [
    "phi = best_model.get_phi()\n",
    "phi['word'] = phi.index\n",
    "#phi.head()\n",
    "\n",
    "for col in phi.columns:\n",
    "    if col != 'word':\n",
    "        print(f\"{col}: {phi[[col, 'word']].sort_values(by=col, ascending=False)['word'].values[:10]}\")\n",
    "        #print('\\t',phi[[col, 'word']].sort_values(by=col, ascending=False)['word'].values[:10])"
   ]
  },
  {
   "cell_type": "code",
   "execution_count": null,
   "metadata": {},
   "outputs": [],
   "source": []
  },
  {
   "cell_type": "markdown",
   "metadata": {},
   "source": [
    "### get topics-docs matrix"
   ]
  },
  {
   "cell_type": "code",
   "execution_count": 79,
   "metadata": {
    "ExecuteTime": {
     "end_time": "2019-02-13T23:08:01.110712Z",
     "start_time": "2019-02-13T23:07:59.916175Z"
    }
   },
   "outputs": [
    {
     "data": {
      "application/vnd.jupyter.widget-view+json": {
       "model_id": "",
       "version_major": 2,
       "version_minor": 0
      },
      "text/plain": [
       "HBox(children=(IntProgress(value=0, description='Batch', max=72, style=ProgressStyle(description_width='initia…"
      ]
     },
     "metadata": {},
     "output_type": "display_data"
    },
    {
     "name": "stdout",
     "output_type": "stream",
     "text": [
      "\r",
      "shape theta: (20, 71288)\n"
     ]
    },
    {
     "data": {
      "image/png": "[encoded data removed]",
      "text/plain": [
       "<Figure size 1440x1440 with 1 Axes>"
      ]
     },
     "metadata": {
      "needs_background": "light"
     },
     "output_type": "display_data"
    }
   ],
   "source": [
    "theta = best_model.transform_sparse(batch_vectorizer=batch_vectorizer, eps=0.001)\n",
    "print(f'shape theta: {theta[0].shape}')\n",
    "\n",
    "plt.figure(figsize=(20, 20))\n",
    "plt.imshow(theta[0][:, 2000:2500].toarray());"
   ]
  },
  {
   "cell_type": "code",
   "execution_count": null,
   "metadata": {},
   "outputs": [],
   "source": []
  },
  {
   "cell_type": "markdown",
   "metadata": {},
   "source": [
    "### dense theta matrix"
   ]
  },
  {
   "cell_type": "code",
   "execution_count": 80,
   "metadata": {
    "ExecuteTime": {
     "end_time": "2019-02-13T23:08:01.927679Z",
     "start_time": "2019-02-13T23:08:01.112383Z"
    }
   },
   "outputs": [
    {
     "data": {
      "application/vnd.jupyter.widget-view+json": {
       "model_id": "",
       "version_major": 2,
       "version_minor": 0
      },
      "text/plain": [
       "HBox(children=(IntProgress(value=0, description='Batch', max=72, style=ProgressStyle(description_width='initia…"
      ]
     },
     "metadata": {},
     "output_type": "display_data"
    },
    {
     "name": "stdout",
     "output_type": "stream",
     "text": [
      "\r"
     ]
    },
    {
     "data": {
      "text/html": [
       "<div>\n",
       "<style scoped>\n",
       "    .dataframe tbody tr th:only-of-type {\n",
       "        vertical-align: middle;\n",
       "    }\n",
       "\n",
       "    .dataframe tbody tr th {\n",
       "        vertical-align: top;\n",
       "    }\n",
       "\n",
       "    .dataframe thead th {\n",
       "        text-align: right;\n",
       "    }\n",
       "</style>\n",
       "<table border=\"1\" class=\"dataframe\">\n",
       "  <thead>\n",
       "    <tr style=\"text-align: right;\">\n",
       "      <th></th>\n",
       "      <th>topic_0</th>\n",
       "      <th>topic_1</th>\n",
       "      <th>topic_2</th>\n",
       "      <th>topic_3</th>\n",
       "      <th>topic_4</th>\n",
       "      <th>topic_5</th>\n",
       "      <th>topic_6</th>\n",
       "      <th>topic_7</th>\n",
       "      <th>topic_8</th>\n",
       "      <th>topic_9</th>\n",
       "      <th>topic_10</th>\n",
       "      <th>topic_11</th>\n",
       "      <th>topic_12</th>\n",
       "      <th>topic_13</th>\n",
       "      <th>topic_14</th>\n",
       "      <th>topic_15</th>\n",
       "      <th>topic_16</th>\n",
       "      <th>topic_17</th>\n",
       "      <th>topic_18</th>\n",
       "      <th>topic_19</th>\n",
       "    </tr>\n",
       "  </thead>\n",
       "  <tbody>\n",
       "    <tr>\n",
       "      <th>46000</th>\n",
       "      <td>0.000000</td>\n",
       "      <td>0.008096</td>\n",
       "      <td>0.00000</td>\n",
       "      <td>0.000000</td>\n",
       "      <td>0.000000</td>\n",
       "      <td>0.0</td>\n",
       "      <td>0.000000</td>\n",
       "      <td>0.000000</td>\n",
       "      <td>0.0</td>\n",
       "      <td>0.0</td>\n",
       "      <td>0.0</td>\n",
       "      <td>0.00000</td>\n",
       "      <td>0.0</td>\n",
       "      <td>0.000000</td>\n",
       "      <td>0.000000</td>\n",
       "      <td>0.960834</td>\n",
       "      <td>0.000000</td>\n",
       "      <td>0.000000</td>\n",
       "      <td>0.024151</td>\n",
       "      <td>0.00692</td>\n",
       "    </tr>\n",
       "    <tr>\n",
       "      <th>46001</th>\n",
       "      <td>0.289113</td>\n",
       "      <td>0.000000</td>\n",
       "      <td>0.00000</td>\n",
       "      <td>0.000000</td>\n",
       "      <td>0.000000</td>\n",
       "      <td>0.0</td>\n",
       "      <td>0.000000</td>\n",
       "      <td>0.078895</td>\n",
       "      <td>0.0</td>\n",
       "      <td>0.0</td>\n",
       "      <td>0.0</td>\n",
       "      <td>0.03775</td>\n",
       "      <td>0.0</td>\n",
       "      <td>0.000000</td>\n",
       "      <td>0.043417</td>\n",
       "      <td>0.103126</td>\n",
       "      <td>0.052464</td>\n",
       "      <td>0.000000</td>\n",
       "      <td>0.395234</td>\n",
       "      <td>0.00000</td>\n",
       "    </tr>\n",
       "    <tr>\n",
       "      <th>46002</th>\n",
       "      <td>0.000000</td>\n",
       "      <td>0.000000</td>\n",
       "      <td>0.00000</td>\n",
       "      <td>0.044809</td>\n",
       "      <td>0.000000</td>\n",
       "      <td>0.0</td>\n",
       "      <td>0.000000</td>\n",
       "      <td>0.000000</td>\n",
       "      <td>0.0</td>\n",
       "      <td>0.0</td>\n",
       "      <td>0.0</td>\n",
       "      <td>0.00000</td>\n",
       "      <td>0.0</td>\n",
       "      <td>0.000000</td>\n",
       "      <td>0.797049</td>\n",
       "      <td>0.000000</td>\n",
       "      <td>0.000000</td>\n",
       "      <td>0.100586</td>\n",
       "      <td>0.057556</td>\n",
       "      <td>0.00000</td>\n",
       "    </tr>\n",
       "    <tr>\n",
       "      <th>46003</th>\n",
       "      <td>0.000000</td>\n",
       "      <td>0.000000</td>\n",
       "      <td>0.00000</td>\n",
       "      <td>0.928548</td>\n",
       "      <td>0.064301</td>\n",
       "      <td>0.0</td>\n",
       "      <td>0.000000</td>\n",
       "      <td>0.000000</td>\n",
       "      <td>0.0</td>\n",
       "      <td>0.0</td>\n",
       "      <td>0.0</td>\n",
       "      <td>0.00000</td>\n",
       "      <td>0.0</td>\n",
       "      <td>0.000000</td>\n",
       "      <td>0.000000</td>\n",
       "      <td>0.000000</td>\n",
       "      <td>0.000000</td>\n",
       "      <td>0.000000</td>\n",
       "      <td>0.007151</td>\n",
       "      <td>0.00000</td>\n",
       "    </tr>\n",
       "    <tr>\n",
       "      <th>46004</th>\n",
       "      <td>0.162148</td>\n",
       "      <td>0.000000</td>\n",
       "      <td>0.45024</td>\n",
       "      <td>0.000000</td>\n",
       "      <td>0.000000</td>\n",
       "      <td>0.0</td>\n",
       "      <td>0.045609</td>\n",
       "      <td>0.289935</td>\n",
       "      <td>0.0</td>\n",
       "      <td>0.0</td>\n",
       "      <td>0.0</td>\n",
       "      <td>0.00000</td>\n",
       "      <td>0.0</td>\n",
       "      <td>0.013895</td>\n",
       "      <td>0.000000</td>\n",
       "      <td>0.000000</td>\n",
       "      <td>0.038172</td>\n",
       "      <td>0.000000</td>\n",
       "      <td>0.000000</td>\n",
       "      <td>0.00000</td>\n",
       "    </tr>\n",
       "  </tbody>\n",
       "</table>\n",
       "</div>"
      ],
      "text/plain": [
       "        topic_0   topic_1  topic_2   topic_3   topic_4  topic_5   topic_6  \\\n",
       "46000  0.000000  0.008096  0.00000  0.000000  0.000000      0.0  0.000000   \n",
       "46001  0.289113  0.000000  0.00000  0.000000  0.000000      0.0  0.000000   \n",
       "46002  0.000000  0.000000  0.00000  0.044809  0.000000      0.0  0.000000   \n",
       "46003  0.000000  0.000000  0.00000  0.928548  0.064301      0.0  0.000000   \n",
       "46004  0.162148  0.000000  0.45024  0.000000  0.000000      0.0  0.045609   \n",
       "\n",
       "        topic_7  topic_8  topic_9  topic_10  topic_11  topic_12  topic_13  \\\n",
       "46000  0.000000      0.0      0.0       0.0   0.00000       0.0  0.000000   \n",
       "46001  0.078895      0.0      0.0       0.0   0.03775       0.0  0.000000   \n",
       "46002  0.000000      0.0      0.0       0.0   0.00000       0.0  0.000000   \n",
       "46003  0.000000      0.0      0.0       0.0   0.00000       0.0  0.000000   \n",
       "46004  0.289935      0.0      0.0       0.0   0.00000       0.0  0.013895   \n",
       "\n",
       "       topic_14  topic_15  topic_16  topic_17  topic_18  topic_19  \n",
       "46000  0.000000  0.960834  0.000000  0.000000  0.024151   0.00692  \n",
       "46001  0.043417  0.103126  0.052464  0.000000  0.395234   0.00000  \n",
       "46002  0.797049  0.000000  0.000000  0.100586  0.057556   0.00000  \n",
       "46003  0.000000  0.000000  0.000000  0.000000  0.007151   0.00000  \n",
       "46004  0.000000  0.000000  0.038172  0.000000  0.000000   0.00000  "
      ]
     },
     "execution_count": 80,
     "metadata": {},
     "output_type": "execute_result"
    }
   ],
   "source": [
    "theta = best_model.transform(batch_vectorizer=batch_vectorizer)\n",
    "theta = theta.T\n",
    "theta.head()"
   ]
  },
  {
   "cell_type": "code",
   "execution_count": null,
   "metadata": {},
   "outputs": [],
   "source": []
  },
  {
   "cell_type": "markdown",
   "metadata": {},
   "source": [
    "## DataViz"
   ]
  },
  {
   "cell_type": "code",
   "execution_count": 81,
   "metadata": {
    "ExecuteTime": {
     "end_time": "2019-02-13T23:08:01.949772Z",
     "start_time": "2019-02-13T23:08:01.929139Z"
    }
   },
   "outputs": [
    {
     "data": {
      "text/html": [
       "<div>\n",
       "<style scoped>\n",
       "    .dataframe tbody tr th:only-of-type {\n",
       "        vertical-align: middle;\n",
       "    }\n",
       "\n",
       "    .dataframe tbody tr th {\n",
       "        vertical-align: top;\n",
       "    }\n",
       "\n",
       "    .dataframe thead th {\n",
       "        text-align: right;\n",
       "    }\n",
       "</style>\n",
       "<table border=\"1\" class=\"dataframe\">\n",
       "  <thead>\n",
       "    <tr style=\"text-align: right;\">\n",
       "      <th></th>\n",
       "      <th>docID</th>\n",
       "      <th>year</th>\n",
       "      <th>month</th>\n",
       "      <th>topic_0</th>\n",
       "      <th>topic_1</th>\n",
       "      <th>topic_2</th>\n",
       "      <th>topic_3</th>\n",
       "      <th>topic_4</th>\n",
       "      <th>topic_5</th>\n",
       "      <th>topic_6</th>\n",
       "      <th>...</th>\n",
       "      <th>topic_10</th>\n",
       "      <th>topic_11</th>\n",
       "      <th>topic_12</th>\n",
       "      <th>topic_13</th>\n",
       "      <th>topic_14</th>\n",
       "      <th>topic_15</th>\n",
       "      <th>topic_16</th>\n",
       "      <th>topic_17</th>\n",
       "      <th>topic_18</th>\n",
       "      <th>topic_19</th>\n",
       "    </tr>\n",
       "  </thead>\n",
       "  <tbody>\n",
       "    <tr>\n",
       "      <th>0</th>\n",
       "      <td>0</td>\n",
       "      <td>2008</td>\n",
       "      <td>2</td>\n",
       "      <td>0.075365</td>\n",
       "      <td>0.000000</td>\n",
       "      <td>0.404137</td>\n",
       "      <td>0.0</td>\n",
       "      <td>0.000000</td>\n",
       "      <td>0.0</td>\n",
       "      <td>0.000000</td>\n",
       "      <td>...</td>\n",
       "      <td>0.000000</td>\n",
       "      <td>0.000000</td>\n",
       "      <td>0.000000</td>\n",
       "      <td>0.000000</td>\n",
       "      <td>0.000000</td>\n",
       "      <td>0.000000</td>\n",
       "      <td>0.0</td>\n",
       "      <td>0.0</td>\n",
       "      <td>0.0</td>\n",
       "      <td>0.052178</td>\n",
       "    </tr>\n",
       "    <tr>\n",
       "      <th>1</th>\n",
       "      <td>1</td>\n",
       "      <td>2008</td>\n",
       "      <td>2</td>\n",
       "      <td>0.000000</td>\n",
       "      <td>0.000000</td>\n",
       "      <td>0.000000</td>\n",
       "      <td>0.0</td>\n",
       "      <td>0.000000</td>\n",
       "      <td>0.0</td>\n",
       "      <td>0.000000</td>\n",
       "      <td>...</td>\n",
       "      <td>0.000000</td>\n",
       "      <td>0.416634</td>\n",
       "      <td>0.076958</td>\n",
       "      <td>0.000000</td>\n",
       "      <td>0.000000</td>\n",
       "      <td>0.421052</td>\n",
       "      <td>0.0</td>\n",
       "      <td>0.0</td>\n",
       "      <td>0.0</td>\n",
       "      <td>0.003347</td>\n",
       "    </tr>\n",
       "    <tr>\n",
       "      <th>2</th>\n",
       "      <td>2</td>\n",
       "      <td>2008</td>\n",
       "      <td>2</td>\n",
       "      <td>0.000000</td>\n",
       "      <td>0.060302</td>\n",
       "      <td>0.000000</td>\n",
       "      <td>0.0</td>\n",
       "      <td>0.000000</td>\n",
       "      <td>0.0</td>\n",
       "      <td>0.000000</td>\n",
       "      <td>...</td>\n",
       "      <td>0.000000</td>\n",
       "      <td>0.000000</td>\n",
       "      <td>0.000000</td>\n",
       "      <td>0.000000</td>\n",
       "      <td>0.000000</td>\n",
       "      <td>0.000000</td>\n",
       "      <td>0.0</td>\n",
       "      <td>0.0</td>\n",
       "      <td>0.0</td>\n",
       "      <td>0.174430</td>\n",
       "    </tr>\n",
       "    <tr>\n",
       "      <th>3</th>\n",
       "      <td>3</td>\n",
       "      <td>2008</td>\n",
       "      <td>2</td>\n",
       "      <td>0.000000</td>\n",
       "      <td>0.000000</td>\n",
       "      <td>0.000000</td>\n",
       "      <td>0.0</td>\n",
       "      <td>0.000000</td>\n",
       "      <td>0.0</td>\n",
       "      <td>0.000000</td>\n",
       "      <td>...</td>\n",
       "      <td>0.000000</td>\n",
       "      <td>0.441703</td>\n",
       "      <td>0.000000</td>\n",
       "      <td>0.000000</td>\n",
       "      <td>0.487940</td>\n",
       "      <td>0.070356</td>\n",
       "      <td>0.0</td>\n",
       "      <td>0.0</td>\n",
       "      <td>0.0</td>\n",
       "      <td>0.000000</td>\n",
       "    </tr>\n",
       "    <tr>\n",
       "      <th>4</th>\n",
       "      <td>4</td>\n",
       "      <td>2008</td>\n",
       "      <td>2</td>\n",
       "      <td>0.003908</td>\n",
       "      <td>0.005936</td>\n",
       "      <td>0.018436</td>\n",
       "      <td>0.0</td>\n",
       "      <td>0.123395</td>\n",
       "      <td>0.0</td>\n",
       "      <td>0.204657</td>\n",
       "      <td>...</td>\n",
       "      <td>0.057331</td>\n",
       "      <td>0.130793</td>\n",
       "      <td>0.000000</td>\n",
       "      <td>0.034934</td>\n",
       "      <td>0.059186</td>\n",
       "      <td>0.000000</td>\n",
       "      <td>0.0</td>\n",
       "      <td>0.0</td>\n",
       "      <td>0.0</td>\n",
       "      <td>0.000000</td>\n",
       "    </tr>\n",
       "  </tbody>\n",
       "</table>\n",
       "<p>5 rows × 23 columns</p>\n",
       "</div>"
      ],
      "text/plain": [
       "   docID  year  month   topic_0   topic_1   topic_2  topic_3   topic_4  \\\n",
       "0      0  2008      2  0.075365  0.000000  0.404137      0.0  0.000000   \n",
       "1      1  2008      2  0.000000  0.000000  0.000000      0.0  0.000000   \n",
       "2      2  2008      2  0.000000  0.060302  0.000000      0.0  0.000000   \n",
       "3      3  2008      2  0.000000  0.000000  0.000000      0.0  0.000000   \n",
       "4      4  2008      2  0.003908  0.005936  0.018436      0.0  0.123395   \n",
       "\n",
       "   topic_5   topic_6    ...     topic_10  topic_11  topic_12  topic_13  \\\n",
       "0      0.0  0.000000    ...     0.000000  0.000000  0.000000  0.000000   \n",
       "1      0.0  0.000000    ...     0.000000  0.416634  0.076958  0.000000   \n",
       "2      0.0  0.000000    ...     0.000000  0.000000  0.000000  0.000000   \n",
       "3      0.0  0.000000    ...     0.000000  0.441703  0.000000  0.000000   \n",
       "4      0.0  0.204657    ...     0.057331  0.130793  0.000000  0.034934   \n",
       "\n",
       "   topic_14  topic_15  topic_16  topic_17  topic_18  topic_19  \n",
       "0  0.000000  0.000000       0.0       0.0       0.0  0.052178  \n",
       "1  0.000000  0.421052       0.0       0.0       0.0  0.003347  \n",
       "2  0.000000  0.000000       0.0       0.0       0.0  0.174430  \n",
       "3  0.487940  0.070356       0.0       0.0       0.0  0.000000  \n",
       "4  0.059186  0.000000       0.0       0.0       0.0  0.000000  \n",
       "\n",
       "[5 rows x 23 columns]"
      ]
     },
     "execution_count": 81,
     "metadata": {},
     "output_type": "execute_result"
    }
   ],
   "source": [
    "joined = id_date.join(theta)\n",
    "joined.head()"
   ]
  },
  {
   "cell_type": "code",
   "execution_count": 82,
   "metadata": {
    "ExecuteTime": {
     "end_time": "2019-02-13T23:08:01.975811Z",
     "start_time": "2019-02-13T23:08:01.950982Z"
    }
   },
   "outputs": [
    {
     "name": "stdout",
     "output_type": "stream",
     "text": [
      "gb.shape: (132, 20)\n"
     ]
    },
    {
     "data": {
      "text/html": [
       "<div>\n",
       "<style scoped>\n",
       "    .dataframe tbody tr th:only-of-type {\n",
       "        vertical-align: middle;\n",
       "    }\n",
       "\n",
       "    .dataframe tbody tr th {\n",
       "        vertical-align: top;\n",
       "    }\n",
       "\n",
       "    .dataframe thead th {\n",
       "        text-align: right;\n",
       "    }\n",
       "</style>\n",
       "<table border=\"1\" class=\"dataframe\">\n",
       "  <thead>\n",
       "    <tr style=\"text-align: right;\">\n",
       "      <th></th>\n",
       "      <th></th>\n",
       "      <th>topic_0</th>\n",
       "      <th>topic_1</th>\n",
       "      <th>topic_2</th>\n",
       "      <th>topic_3</th>\n",
       "      <th>topic_4</th>\n",
       "      <th>topic_5</th>\n",
       "      <th>topic_6</th>\n",
       "      <th>topic_7</th>\n",
       "      <th>topic_8</th>\n",
       "      <th>topic_9</th>\n",
       "      <th>topic_10</th>\n",
       "      <th>topic_11</th>\n",
       "      <th>topic_12</th>\n",
       "      <th>topic_13</th>\n",
       "      <th>topic_14</th>\n",
       "      <th>topic_15</th>\n",
       "      <th>topic_16</th>\n",
       "      <th>topic_17</th>\n",
       "      <th>topic_18</th>\n",
       "      <th>topic_19</th>\n",
       "    </tr>\n",
       "    <tr>\n",
       "      <th>year</th>\n",
       "      <th>month</th>\n",
       "      <th></th>\n",
       "      <th></th>\n",
       "      <th></th>\n",
       "      <th></th>\n",
       "      <th></th>\n",
       "      <th></th>\n",
       "      <th></th>\n",
       "      <th></th>\n",
       "      <th></th>\n",
       "      <th></th>\n",
       "      <th></th>\n",
       "      <th></th>\n",
       "      <th></th>\n",
       "      <th></th>\n",
       "      <th></th>\n",
       "      <th></th>\n",
       "      <th></th>\n",
       "      <th></th>\n",
       "      <th></th>\n",
       "      <th></th>\n",
       "    </tr>\n",
       "  </thead>\n",
       "  <tbody>\n",
       "    <tr>\n",
       "      <th rowspan=\"5\" valign=\"top\">2008</th>\n",
       "      <th>2</th>\n",
       "      <td>3.287907</td>\n",
       "      <td>4.690537</td>\n",
       "      <td>6.080908</td>\n",
       "      <td>3.181068</td>\n",
       "      <td>3.555638</td>\n",
       "      <td>5.262277</td>\n",
       "      <td>1.753372</td>\n",
       "      <td>10.569671</td>\n",
       "      <td>3.286643</td>\n",
       "      <td>2.606251</td>\n",
       "      <td>6.230358</td>\n",
       "      <td>7.239669</td>\n",
       "      <td>4.431345</td>\n",
       "      <td>7.256612</td>\n",
       "      <td>15.241473</td>\n",
       "      <td>11.445597</td>\n",
       "      <td>2.700191</td>\n",
       "      <td>1.350780</td>\n",
       "      <td>2.414825</td>\n",
       "      <td>7.414878</td>\n",
       "    </tr>\n",
       "    <tr>\n",
       "      <th>3</th>\n",
       "      <td>13.859481</td>\n",
       "      <td>17.303555</td>\n",
       "      <td>14.120027</td>\n",
       "      <td>12.862632</td>\n",
       "      <td>14.994427</td>\n",
       "      <td>13.593679</td>\n",
       "      <td>2.866247</td>\n",
       "      <td>25.383051</td>\n",
       "      <td>19.552624</td>\n",
       "      <td>6.875682</td>\n",
       "      <td>28.696926</td>\n",
       "      <td>14.364385</td>\n",
       "      <td>9.597087</td>\n",
       "      <td>19.106001</td>\n",
       "      <td>37.110737</td>\n",
       "      <td>24.277878</td>\n",
       "      <td>12.381278</td>\n",
       "      <td>12.227842</td>\n",
       "      <td>7.892206</td>\n",
       "      <td>18.934256</td>\n",
       "    </tr>\n",
       "    <tr>\n",
       "      <th>4</th>\n",
       "      <td>6.052788</td>\n",
       "      <td>26.739037</td>\n",
       "      <td>19.851948</td>\n",
       "      <td>11.176023</td>\n",
       "      <td>13.931796</td>\n",
       "      <td>6.927900</td>\n",
       "      <td>3.325070</td>\n",
       "      <td>20.176460</td>\n",
       "      <td>21.047289</td>\n",
       "      <td>7.687934</td>\n",
       "      <td>27.040483</td>\n",
       "      <td>19.034397</td>\n",
       "      <td>9.194066</td>\n",
       "      <td>16.407066</td>\n",
       "      <td>23.260824</td>\n",
       "      <td>15.570524</td>\n",
       "      <td>10.078652</td>\n",
       "      <td>10.161418</td>\n",
       "      <td>7.933931</td>\n",
       "      <td>8.402390</td>\n",
       "    </tr>\n",
       "    <tr>\n",
       "      <th>5</th>\n",
       "      <td>4.360681</td>\n",
       "      <td>20.289297</td>\n",
       "      <td>26.907614</td>\n",
       "      <td>10.521105</td>\n",
       "      <td>5.586431</td>\n",
       "      <td>9.018892</td>\n",
       "      <td>3.796125</td>\n",
       "      <td>20.250999</td>\n",
       "      <td>9.087646</td>\n",
       "      <td>4.846000</td>\n",
       "      <td>18.170540</td>\n",
       "      <td>11.650507</td>\n",
       "      <td>17.735672</td>\n",
       "      <td>18.747602</td>\n",
       "      <td>24.455679</td>\n",
       "      <td>25.520605</td>\n",
       "      <td>9.748255</td>\n",
       "      <td>8.161143</td>\n",
       "      <td>4.095467</td>\n",
       "      <td>5.049741</td>\n",
       "    </tr>\n",
       "    <tr>\n",
       "      <th>6</th>\n",
       "      <td>8.365531</td>\n",
       "      <td>38.784832</td>\n",
       "      <td>28.335680</td>\n",
       "      <td>17.932655</td>\n",
       "      <td>12.079234</td>\n",
       "      <td>8.525244</td>\n",
       "      <td>6.147474</td>\n",
       "      <td>32.727234</td>\n",
       "      <td>8.130958</td>\n",
       "      <td>5.552958</td>\n",
       "      <td>29.197636</td>\n",
       "      <td>21.747412</td>\n",
       "      <td>18.280865</td>\n",
       "      <td>28.437252</td>\n",
       "      <td>25.397209</td>\n",
       "      <td>14.108525</td>\n",
       "      <td>11.564077</td>\n",
       "      <td>11.234771</td>\n",
       "      <td>7.557011</td>\n",
       "      <td>6.893442</td>\n",
       "    </tr>\n",
       "  </tbody>\n",
       "</table>\n",
       "</div>"
      ],
      "text/plain": [
       "              topic_0    topic_1    topic_2    topic_3    topic_4    topic_5  \\\n",
       "year month                                                                     \n",
       "2008 2       3.287907   4.690537   6.080908   3.181068   3.555638   5.262277   \n",
       "     3      13.859481  17.303555  14.120027  12.862632  14.994427  13.593679   \n",
       "     4       6.052788  26.739037  19.851948  11.176023  13.931796   6.927900   \n",
       "     5       4.360681  20.289297  26.907614  10.521105   5.586431   9.018892   \n",
       "     6       8.365531  38.784832  28.335680  17.932655  12.079234   8.525244   \n",
       "\n",
       "             topic_6    topic_7    topic_8   topic_9   topic_10   topic_11  \\\n",
       "year month                                                                   \n",
       "2008 2      1.753372  10.569671   3.286643  2.606251   6.230358   7.239669   \n",
       "     3      2.866247  25.383051  19.552624  6.875682  28.696926  14.364385   \n",
       "     4      3.325070  20.176460  21.047289  7.687934  27.040483  19.034397   \n",
       "     5      3.796125  20.250999   9.087646  4.846000  18.170540  11.650507   \n",
       "     6      6.147474  32.727234   8.130958  5.552958  29.197636  21.747412   \n",
       "\n",
       "             topic_12   topic_13   topic_14   topic_15   topic_16   topic_17  \\\n",
       "year month                                                                     \n",
       "2008 2       4.431345   7.256612  15.241473  11.445597   2.700191   1.350780   \n",
       "     3       9.597087  19.106001  37.110737  24.277878  12.381278  12.227842   \n",
       "     4       9.194066  16.407066  23.260824  15.570524  10.078652  10.161418   \n",
       "     5      17.735672  18.747602  24.455679  25.520605   9.748255   8.161143   \n",
       "     6      18.280865  28.437252  25.397209  14.108525  11.564077  11.234771   \n",
       "\n",
       "            topic_18   topic_19  \n",
       "year month                       \n",
       "2008 2      2.414825   7.414878  \n",
       "     3      7.892206  18.934256  \n",
       "     4      7.933931   8.402390  \n",
       "     5      4.095467   5.049741  \n",
       "     6      7.557011   6.893442  "
      ]
     },
     "execution_count": 82,
     "metadata": {},
     "output_type": "execute_result"
    }
   ],
   "source": [
    "topics = ['topic_{}'.format(i) for i in range(select_topics)]\n",
    "gb = joined.groupby(['year', 'month'])[topics].sum()\n",
    "print(f'gb.shape: {gb.shape}')\n",
    "gb.head()"
   ]
  },
  {
   "cell_type": "markdown",
   "metadata": {},
   "source": [
    "### straightforward matrix heatmap"
   ]
  },
  {
   "cell_type": "code",
   "execution_count": 83,
   "metadata": {
    "ExecuteTime": {
     "end_time": "2019-02-13T23:08:02.216578Z",
     "start_time": "2019-02-13T23:08:01.976988Z"
    },
    "scrolled": true
   },
   "outputs": [
    {
     "data": {
      "text/plain": [
       "<matplotlib.image.AxesImage at 0x7efc02ea8be0>"
      ]
     },
     "execution_count": 83,
     "metadata": {},
     "output_type": "execute_result"
    },
    {
     "data": {
      "image/png": "[encoded data removed]",
      "text/plain": [
       "<Figure size 360x1800 with 1 Axes>"
      ]
     },
     "metadata": {
      "needs_background": "light"
     },
     "output_type": "display_data"
    }
   ],
   "source": [
    "plt.figure(figsize=(5, 25))\n",
    "plt.imshow(gb[topics])"
   ]
  },
  {
   "cell_type": "code",
   "execution_count": null,
   "metadata": {},
   "outputs": [],
   "source": []
  },
  {
   "cell_type": "markdown",
   "metadata": {},
   "source": [
    "## pygal"
   ]
  },
  {
   "cell_type": "code",
   "execution_count": 84,
   "metadata": {
    "ExecuteTime": {
     "end_time": "2019-02-13T23:08:02.219873Z",
     "start_time": "2019-02-13T23:08:02.217816Z"
    }
   },
   "outputs": [],
   "source": [
    "import pygal\n",
    "from IPython.display import SVG, HTML"
   ]
  },
  {
   "cell_type": "code",
   "execution_count": 85,
   "metadata": {
    "ExecuteTime": {
     "end_time": "2019-02-13T23:08:02.228290Z",
     "start_time": "2019-02-13T23:08:02.221015Z"
    }
   },
   "outputs": [],
   "source": [
    "html_pygal = \"\"\"\n",
    "<!DOCTYPE html>\n",
    "<html>\n",
    "  <head>\n",
    "  <script type=\"text/javascript\" src=\"http://kozea.github.com/pygal.js/javascripts/svg.jquery.js\"></script>\n",
    "  <script type=\"text/javascript\" src=\"http://kozea.github.com/pygal.js/javascripts/pygal-tooltips.js\"></script>\n",
    "    <!-- ... -->\n",
    "  </head>\n",
    "  <body>\n",
    "    <figure>\n",
    "      {pygal_render}\n",
    "    </figure>\n",
    "  </body>\n",
    "</html>\n",
    "\"\"\""
   ]
  },
  {
   "cell_type": "code",
   "execution_count": 86,
   "metadata": {
    "ExecuteTime": {
     "end_time": "2019-02-13T23:08:02.235066Z",
     "start_time": "2019-02-13T23:08:02.230914Z"
    },
    "scrolled": true
   },
   "outputs": [
    {
     "data": {
      "text/plain": [
       "101.48074"
      ]
     },
     "execution_count": 86,
     "metadata": {},
     "output_type": "execute_result"
    }
   ],
   "source": [
    "max(gb['topic_1'].values)"
   ]
  },
  {
   "cell_type": "code",
   "execution_count": 87,
   "metadata": {
    "ExecuteTime": {
     "end_time": "2019-02-13T23:08:02.303375Z",
     "start_time": "2019-02-13T23:08:02.237994Z"
    },
    "scrolled": false
   },
   "outputs": [
    {
     "data": {
      "text/html": [
       "\n",
       "<!DOCTYPE html>\n",
       "<html>\n",
       "  <head>\n",
       "  <script type=\"text/javascript\" src=\"http://kozea.github.com/pygal.js/javascripts/svg.jquery.js\"></script>\n",
       "  <script type=\"text/javascript\" src=\"http://kozea.github.com/pygal.js/javascripts/pygal-tooltips.js\"></script>\n",
       "    <!-- ... -->\n",
       "  </head>\n",
       "  <body>\n",
       "    <figure>\n",
       "      <?xml version='1.0' encoding='utf-8'?>\n",
       "<svg xmlns:xlink=\"http://www.w3.org/1999/xlink\" xmlns=\"http://www.w3.org/2000/svg\" id=\"chart-de816857-df11-4fd5-b638-bb1fd64aa11c\" class=\"pygal-chart\" viewBox=\"0 0 800 600\"><!--Generated with pygal 2.4.0 (lxml) ©Kozea 2012-2016 on 2019-02-14--><!--http://pygal.org--><!--http://github.com/Kozea/pygal--><defs><style type=\"text/css\">#chart-de816857-df11-4fd5-b638-bb1fd64aa11c{-webkit-user-select:none;-webkit-font-smoothing:antialiased;font-family:Consolas,\"Liberation Mono\",Menlo,Courier,monospace}#chart-de816857-df11-4fd5-b638-bb1fd64aa11c .title{font-family:Consolas,\"Liberation Mono\",Menlo,Courier,monospace;font-size:16px}#chart-de816857-df11-4fd5-b638-bb1fd64aa11c .legends .legend text{font-family:Consolas,\"Liberation Mono\",Menlo,Courier,monospace;font-size:14px}#chart-de816857-df11-4fd5-b638-bb1fd64aa11c .axis text{font-family:Consolas,\"Liberation Mono\",Menlo,Courier,monospace;font-size:10px}#chart-de816857-df11-4fd5-b638-bb1fd64aa11c .axis text.major{font-family:Consolas,\"Liberation Mono\",Menlo,Courier,monospace;font-size:10px}#chart-de816857-df11-4fd5-b638-bb1fd64aa11c .text-overlay text.value{font-family:Consolas,\"Liberation Mono\",Menlo,Courier,monospace;font-size:16px}#chart-de816857-df11-4fd5-b638-bb1fd64aa11c .text-overlay text.label{font-family:Consolas,\"Liberation Mono\",Menlo,Courier,monospace;font-size:10px}#chart-de816857-df11-4fd5-b638-bb1fd64aa11c .tooltip{font-family:Consolas,\"Liberation Mono\",Menlo,Courier,monospace;font-size:14px}#chart-de816857-df11-4fd5-b638-bb1fd64aa11c text.no_data{font-family:Consolas,\"Liberation Mono\",Menlo,Courier,monospace;font-size:64px}\n",
       "#chart-de816857-df11-4fd5-b638-bb1fd64aa11c{background-color:rgba(249,249,249,1)}#chart-de816857-df11-4fd5-b638-bb1fd64aa11c path,#chart-de816857-df11-4fd5-b638-bb1fd64aa11c line,#chart-de816857-df11-4fd5-b638-bb1fd64aa11c rect,#chart-de816857-df11-4fd5-b638-bb1fd64aa11c circle{-webkit-transition:150ms;-moz-transition:150ms;transition:150ms}#chart-de816857-df11-4fd5-b638-bb1fd64aa11c .graph &gt; .background{fill:rgba(249,249,249,1)}#chart-de816857-df11-4fd5-b638-bb1fd64aa11c .plot &gt; .background{fill:rgba(255,255,255,1)}#chart-de816857-df11-4fd5-b638-bb1fd64aa11c .graph{fill:rgba(0,0,0,.87)}#chart-de816857-df11-4fd5-b638-bb1fd64aa11c text.no_data{fill:rgba(0,0,0,1)}#chart-de816857-df11-4fd5-b638-bb1fd64aa11c .title{fill:rgba(0,0,0,1)}#chart-de816857-df11-4fd5-b638-bb1fd64aa11c .legends .legend text{fill:rgba(0,0,0,.87)}#chart-de816857-df11-4fd5-b638-bb1fd64aa11c .legends .legend:hover text{fill:rgba(0,0,0,1)}#chart-de816857-df11-4fd5-b638-bb1fd64aa11c .axis .line{stroke:rgba(0,0,0,1)}#chart-de816857-df11-4fd5-b638-bb1fd64aa11c .axis .guide.line{stroke:rgba(0,0,0,.54)}#chart-de816857-df11-4fd5-b638-bb1fd64aa11c .axis .major.line{stroke:rgba(0,0,0,.87)}#chart-de816857-df11-4fd5-b638-bb1fd64aa11c .axis text.major{fill:rgba(0,0,0,1)}#chart-de816857-df11-4fd5-b638-bb1fd64aa11c .axis.y .guides:hover .guide.line,#chart-de816857-df11-4fd5-b638-bb1fd64aa11c .line-graph .axis.x .guides:hover .guide.line,#chart-de816857-df11-4fd5-b638-bb1fd64aa11c .stackedline-graph .axis.x .guides:hover .guide.line,#chart-de816857-df11-4fd5-b638-bb1fd64aa11c .xy-graph .axis.x .guides:hover .guide.line{stroke:rgba(0,0,0,1)}#chart-de816857-df11-4fd5-b638-bb1fd64aa11c .axis .guides:hover text{fill:rgba(0,0,0,1)}#chart-de816857-df11-4fd5-b638-bb1fd64aa11c .reactive{fill-opacity:.7;stroke-opacity:.8}#chart-de816857-df11-4fd5-b638-bb1fd64aa11c .ci{stroke:rgba(0,0,0,.87)}#chart-de816857-df11-4fd5-b638-bb1fd64aa11c .reactive.active,#chart-de816857-df11-4fd5-b638-bb1fd64aa11c .active .reactive{fill-opacity:.8;stroke-opacity:.9;stroke-width:4}#chart-de816857-df11-4fd5-b638-bb1fd64aa11c .ci .reactive.active{stroke-width:1.5}#chart-de816857-df11-4fd5-b638-bb1fd64aa11c .series text{fill:rgba(0,0,0,1)}#chart-de816857-df11-4fd5-b638-bb1fd64aa11c .tooltip rect{fill:rgba(255,255,255,1);stroke:rgba(0,0,0,1);-webkit-transition:opacity 150ms;-moz-transition:opacity 150ms;transition:opacity 150ms}#chart-de816857-df11-4fd5-b638-bb1fd64aa11c .tooltip .label{fill:rgba(0,0,0,.87)}#chart-de816857-df11-4fd5-b638-bb1fd64aa11c .tooltip .label{fill:rgba(0,0,0,.87)}#chart-de816857-df11-4fd5-b638-bb1fd64aa11c .tooltip .legend{font-size:.8em;fill:rgba(0,0,0,.54)}#chart-de816857-df11-4fd5-b638-bb1fd64aa11c .tooltip .x_label{font-size:.6em;fill:rgba(0,0,0,1)}#chart-de816857-df11-4fd5-b638-bb1fd64aa11c .tooltip .xlink{font-size:.5em;text-decoration:underline}#chart-de816857-df11-4fd5-b638-bb1fd64aa11c .tooltip .value{font-size:1.5em}#chart-de816857-df11-4fd5-b638-bb1fd64aa11c .bound{font-size:.5em}#chart-de816857-df11-4fd5-b638-bb1fd64aa11c .max-value{font-size:.75em;fill:rgba(0,0,0,.54)}#chart-de816857-df11-4fd5-b638-bb1fd64aa11c .map-element{fill:rgba(255,255,255,1);stroke:rgba(0,0,0,.54) !important}#chart-de816857-df11-4fd5-b638-bb1fd64aa11c .map-element .reactive{fill-opacity:inherit;stroke-opacity:inherit}#chart-de816857-df11-4fd5-b638-bb1fd64aa11c .color-0,#chart-de816857-df11-4fd5-b638-bb1fd64aa11c .color-0 a:visited{stroke:#f44336;fill:#f44336}#chart-de816857-df11-4fd5-b638-bb1fd64aa11c .color-1,#chart-de816857-df11-4fd5-b638-bb1fd64aa11c .color-1 a:visited{stroke:#3f51b5;fill:#3f51b5}#chart-de816857-df11-4fd5-b638-bb1fd64aa11c .color-2,#chart-de816857-df11-4fd5-b638-bb1fd64aa11c .color-2 a:visited{stroke:#009688;fill:#009688}#chart-de816857-df11-4fd5-b638-bb1fd64aa11c .color-3,#chart-de816857-df11-4fd5-b638-bb1fd64aa11c .color-3 a:visited{stroke:#ffc107;fill:#ffc107}#chart-de816857-df11-4fd5-b638-bb1fd64aa11c .color-4,#chart-de816857-df11-4fd5-b638-bb1fd64aa11c .color-4 a:visited{stroke:#ff5722;fill:#ff5722}#chart-de816857-df11-4fd5-b638-bb1fd64aa11c .color-5,#chart-de816857-df11-4fd5-b638-bb1fd64aa11c .color-5 a:visited{stroke:#9c27b0;fill:#9c27b0}#chart-de816857-df11-4fd5-b638-bb1fd64aa11c .color-6,#chart-de816857-df11-4fd5-b638-bb1fd64aa11c .color-6 a:visited{stroke:#03a9f4;fill:#03a9f4}#chart-de816857-df11-4fd5-b638-bb1fd64aa11c .color-7,#chart-de816857-df11-4fd5-b638-bb1fd64aa11c .color-7 a:visited{stroke:#8bc34a;fill:#8bc34a}#chart-de816857-df11-4fd5-b638-bb1fd64aa11c .color-8,#chart-de816857-df11-4fd5-b638-bb1fd64aa11c .color-8 a:visited{stroke:#ff9800;fill:#ff9800}#chart-de816857-df11-4fd5-b638-bb1fd64aa11c .color-9,#chart-de816857-df11-4fd5-b638-bb1fd64aa11c .color-9 a:visited{stroke:#e91e63;fill:#e91e63}#chart-de816857-df11-4fd5-b638-bb1fd64aa11c .color-10,#chart-de816857-df11-4fd5-b638-bb1fd64aa11c .color-10 a:visited{stroke:#2196f3;fill:#2196f3}#chart-de816857-df11-4fd5-b638-bb1fd64aa11c .color-11,#chart-de816857-df11-4fd5-b638-bb1fd64aa11c .color-11 a:visited{stroke:#4caf50;fill:#4caf50}#chart-de816857-df11-4fd5-b638-bb1fd64aa11c .color-12,#chart-de816857-df11-4fd5-b638-bb1fd64aa11c .color-12 a:visited{stroke:#ffeb3b;fill:#ffeb3b}#chart-de816857-df11-4fd5-b638-bb1fd64aa11c .color-13,#chart-de816857-df11-4fd5-b638-bb1fd64aa11c .color-13 a:visited{stroke:#673ab7;fill:#673ab7}#chart-de816857-df11-4fd5-b638-bb1fd64aa11c .color-14,#chart-de816857-df11-4fd5-b638-bb1fd64aa11c .color-14 a:visited{stroke:#00bcd4;fill:#00bcd4}#chart-de816857-df11-4fd5-b638-bb1fd64aa11c .color-15,#chart-de816857-df11-4fd5-b638-bb1fd64aa11c .color-15 a:visited{stroke:#cddc39;fill:#cddc39}#chart-de816857-df11-4fd5-b638-bb1fd64aa11c .color-16,#chart-de816857-df11-4fd5-b638-bb1fd64aa11c .color-16 a:visited{stroke:#9e9e9e;fill:#9e9e9e}#chart-de816857-df11-4fd5-b638-bb1fd64aa11c .color-17,#chart-de816857-df11-4fd5-b638-bb1fd64aa11c .color-17 a:visited{stroke:#607d8b;fill:#607d8b}#chart-de816857-df11-4fd5-b638-bb1fd64aa11c .color-18,#chart-de816857-df11-4fd5-b638-bb1fd64aa11c .color-18 a:visited{stroke:#7b0f07;fill:#7b0f07}#chart-de816857-df11-4fd5-b638-bb1fd64aa11c .color-19,#chart-de816857-df11-4fd5-b638-bb1fd64aa11c .color-19 a:visited{stroke:#141938;fill:#141938}#chart-de816857-df11-4fd5-b638-bb1fd64aa11c .text-overlay .color-0 text{fill:black}#chart-de816857-df11-4fd5-b638-bb1fd64aa11c .text-overlay .color-1 text{fill:black}#chart-de816857-df11-4fd5-b638-bb1fd64aa11c .text-overlay .color-2 text{fill:black}#chart-de816857-df11-4fd5-b638-bb1fd64aa11c .text-overlay .color-3 text{fill:black}#chart-de816857-df11-4fd5-b638-bb1fd64aa11c .text-overlay .color-4 text{fill:black}#chart-de816857-df11-4fd5-b638-bb1fd64aa11c .text-overlay .color-5 text{fill:black}#chart-de816857-df11-4fd5-b638-bb1fd64aa11c .text-overlay .color-6 text{fill:black}#chart-de816857-df11-4fd5-b638-bb1fd64aa11c .text-overlay .color-7 text{fill:black}#chart-de816857-df11-4fd5-b638-bb1fd64aa11c .text-overlay .color-8 text{fill:black}#chart-de816857-df11-4fd5-b638-bb1fd64aa11c .text-overlay .color-9 text{fill:black}#chart-de816857-df11-4fd5-b638-bb1fd64aa11c .text-overlay .color-10 text{fill:black}#chart-de816857-df11-4fd5-b638-bb1fd64aa11c .text-overlay .color-11 text{fill:black}#chart-de816857-df11-4fd5-b638-bb1fd64aa11c .text-overlay .color-12 text{fill:black}#chart-de816857-df11-4fd5-b638-bb1fd64aa11c .text-overlay .color-13 text{fill:black}#chart-de816857-df11-4fd5-b638-bb1fd64aa11c .text-overlay .color-14 text{fill:black}#chart-de816857-df11-4fd5-b638-bb1fd64aa11c .text-overlay .color-15 text{fill:black}#chart-de816857-df11-4fd5-b638-bb1fd64aa11c .text-overlay .color-16 text{fill:black}#chart-de816857-df11-4fd5-b638-bb1fd64aa11c .text-overlay .color-17 text{fill:black}#chart-de816857-df11-4fd5-b638-bb1fd64aa11c .text-overlay .color-18 text{fill:black}#chart-de816857-df11-4fd5-b638-bb1fd64aa11c .text-overlay .color-19 text{fill:white}\n",
       "#chart-de816857-df11-4fd5-b638-bb1fd64aa11c text.no_data{text-anchor:middle}#chart-de816857-df11-4fd5-b638-bb1fd64aa11c .guide.line{fill:none}#chart-de816857-df11-4fd5-b638-bb1fd64aa11c .centered{text-anchor:middle}#chart-de816857-df11-4fd5-b638-bb1fd64aa11c .title{text-anchor:middle}#chart-de816857-df11-4fd5-b638-bb1fd64aa11c .legends .legend text{fill-opacity:1}#chart-de816857-df11-4fd5-b638-bb1fd64aa11c .axis.x text{text-anchor:middle}#chart-de816857-df11-4fd5-b638-bb1fd64aa11c .axis.x:not(.web) text[transform]{text-anchor:start}#chart-de816857-df11-4fd5-b638-bb1fd64aa11c .axis.x:not(.web) text[transform].backwards{text-anchor:end}#chart-de816857-df11-4fd5-b638-bb1fd64aa11c .axis.y text{text-anchor:end}#chart-de816857-df11-4fd5-b638-bb1fd64aa11c .axis.y text[transform].backwards{text-anchor:start}#chart-de816857-df11-4fd5-b638-bb1fd64aa11c .axis.y2 text{text-anchor:start}#chart-de816857-df11-4fd5-b638-bb1fd64aa11c .axis.y2 text[transform].backwards{text-anchor:end}#chart-de816857-df11-4fd5-b638-bb1fd64aa11c .axis .guide.line{stroke-dasharray:4,4}#chart-de816857-df11-4fd5-b638-bb1fd64aa11c .axis .major.guide.line{stroke-dasharray:6,6}#chart-de816857-df11-4fd5-b638-bb1fd64aa11c .horizontal .axis.y .guide.line,#chart-de816857-df11-4fd5-b638-bb1fd64aa11c .horizontal .axis.y2 .guide.line,#chart-de816857-df11-4fd5-b638-bb1fd64aa11c .vertical .axis.x .guide.line{opacity:0}#chart-de816857-df11-4fd5-b638-bb1fd64aa11c .horizontal .axis.always_show .guide.line,#chart-de816857-df11-4fd5-b638-bb1fd64aa11c .vertical .axis.always_show .guide.line{opacity:1 !important}#chart-de816857-df11-4fd5-b638-bb1fd64aa11c .axis.y .guides:hover .guide.line,#chart-de816857-df11-4fd5-b638-bb1fd64aa11c .axis.y2 .guides:hover .guide.line,#chart-de816857-df11-4fd5-b638-bb1fd64aa11c .axis.x .guides:hover .guide.line{opacity:1}#chart-de816857-df11-4fd5-b638-bb1fd64aa11c .axis .guides:hover text{opacity:1}#chart-de816857-df11-4fd5-b638-bb1fd64aa11c .nofill{fill:none}#chart-de816857-df11-4fd5-b638-bb1fd64aa11c .subtle-fill{fill-opacity:.2}#chart-de816857-df11-4fd5-b638-bb1fd64aa11c .dot{stroke-width:1px;fill-opacity:1}#chart-de816857-df11-4fd5-b638-bb1fd64aa11c .dot.active{stroke-width:5px}#chart-de816857-df11-4fd5-b638-bb1fd64aa11c .dot.negative{fill:transparent}#chart-de816857-df11-4fd5-b638-bb1fd64aa11c text,#chart-de816857-df11-4fd5-b638-bb1fd64aa11c tspan{stroke:none !important}#chart-de816857-df11-4fd5-b638-bb1fd64aa11c .series text.active{opacity:1}#chart-de816857-df11-4fd5-b638-bb1fd64aa11c .tooltip rect{fill-opacity:.95;stroke-width:.5}#chart-de816857-df11-4fd5-b638-bb1fd64aa11c .tooltip text{fill-opacity:1}#chart-de816857-df11-4fd5-b638-bb1fd64aa11c .showable{visibility:hidden}#chart-de816857-df11-4fd5-b638-bb1fd64aa11c .showable.shown{visibility:visible}#chart-de816857-df11-4fd5-b638-bb1fd64aa11c .gauge-background{fill:rgba(229,229,229,1);stroke:none}#chart-de816857-df11-4fd5-b638-bb1fd64aa11c .bg-lines{stroke:rgba(249,249,249,1);stroke-width:2px}</style><script type=\"text/javascript\">window.pygal = window.pygal || {};window.pygal.config = window.pygal.config || {};window.pygal.config['de816857-df11-4fd5-b638-bb1fd64aa11c'] = {\"allow_interruptions\": false, \"box_mode\": \"extremes\", \"classes\": [\"pygal-chart\"], \"css\": [\"file://style.css\", \"file://graph.css\"], \"defs\": [], \"disable_xml_declaration\": false, \"dots_size\": 2.5, \"dynamic_print_values\": false, \"explicit_size\": false, \"fill\": true, \"force_uri_protocol\": \"https\", \"formatter\": null, \"half_pie\": false, \"height\": 600, \"include_x_axis\": false, \"inner_radius\": 0, \"interpolate\": null, \"interpolation_parameters\": {}, \"interpolation_precision\": 250, \"inverse_y_axis\": false, \"js\": [\"//kozea.github.io/pygal.js/2.0.x/pygal-tooltips.min.js\"], \"legend_at_bottom\": false, \"legend_at_bottom_columns\": null, \"legend_box_size\": 12, \"logarithmic\": false, \"margin\": 20, \"margin_bottom\": null, \"margin_left\": null, \"margin_right\": null, \"margin_top\": null, \"max_scale\": 16, \"min_scale\": 4, \"missing_value_fill_truncation\": \"x\", \"no_data_text\": \"No data\", \"no_prefix\": false, \"order_min\": null, \"pretty_print\": false, \"print_labels\": false, \"print_values\": false, \"print_values_position\": \"center\", \"print_zeroes\": true, \"range\": null, \"rounded_bars\": null, \"secondary_range\": null, \"show_dots\": false, \"show_legend\": true, \"show_minor_x_labels\": true, \"show_minor_y_labels\": true, \"show_only_major_dots\": false, \"show_x_guides\": false, \"show_x_labels\": true, \"show_y_guides\": true, \"show_y_labels\": true, \"spacing\": 10, \"stack_from_top\": false, \"strict\": false, \"stroke\": true, \"stroke_style\": null, \"style\": {\"background\": \"rgba(249, 249, 249, 1)\", \"ci_colors\": [], \"colors\": [\"#F44336\", \"#3F51B5\", \"#009688\", \"#FFC107\", \"#FF5722\", \"#9C27B0\", \"#03A9F4\", \"#8BC34A\", \"#FF9800\", \"#E91E63\", \"#2196F3\", \"#4CAF50\", \"#FFEB3B\", \"#673AB7\", \"#00BCD4\", \"#CDDC39\", \"#9E9E9E\", \"#607D8B\"], \"font_family\": \"Consolas, \\\"Liberation Mono\\\", Menlo, Courier, monospace\", \"foreground\": \"rgba(0, 0, 0, .87)\", \"foreground_strong\": \"rgba(0, 0, 0, 1)\", \"foreground_subtle\": \"rgba(0, 0, 0, .54)\", \"guide_stroke_dasharray\": \"4,4\", \"label_font_family\": \"Consolas, \\\"Liberation Mono\\\", Menlo, Courier, monospace\", \"label_font_size\": 10, \"legend_font_family\": \"Consolas, \\\"Liberation Mono\\\", Menlo, Courier, monospace\", \"legend_font_size\": 14, \"major_guide_stroke_dasharray\": \"6,6\", \"major_label_font_family\": \"Consolas, \\\"Liberation Mono\\\", Menlo, Courier, monospace\", \"major_label_font_size\": 10, \"no_data_font_family\": \"Consolas, \\\"Liberation Mono\\\", Menlo, Courier, monospace\", \"no_data_font_size\": 64, \"opacity\": \".7\", \"opacity_hover\": \".8\", \"plot_background\": \"rgba(255, 255, 255, 1)\", \"stroke_opacity\": \".8\", \"stroke_opacity_hover\": \".9\", \"title_font_family\": \"Consolas, \\\"Liberation Mono\\\", Menlo, Courier, monospace\", \"title_font_size\": 16, \"tooltip_font_family\": \"Consolas, \\\"Liberation Mono\\\", Menlo, Courier, monospace\", \"tooltip_font_size\": 14, \"transition\": \"150ms\", \"value_background\": \"rgba(229, 229, 229, 1)\", \"value_colors\": [], \"value_font_family\": \"Consolas, \\\"Liberation Mono\\\", Menlo, Courier, monospace\", \"value_font_size\": 16, \"value_label_font_family\": \"Consolas, \\\"Liberation Mono\\\", Menlo, Courier, monospace\", \"value_label_font_size\": 10}, \"title\": \"Topics\", \"tooltip_border_radius\": 0, \"tooltip_fancy_mode\": true, \"truncate_label\": null, \"truncate_legend\": null, \"width\": 800, \"x_label_rotation\": 0, \"x_labels\": null, \"x_labels_major\": null, \"x_labels_major_count\": null, \"x_labels_major_every\": null, \"x_title\": null, \"xrange\": null, \"y_label_rotation\": 0, \"y_labels\": null, \"y_labels_major\": null, \"y_labels_major_count\": null, \"y_labels_major_every\": null, \"y_title\": null, \"zero\": 0, \"legends\": [\"topic_0\", \"topic_1\", \"topic_2\", \"topic_3\", \"topic_4\", \"topic_5\", \"topic_6\", \"topic_7\", \"topic_8\", \"topic_9\", \"topic_10\", \"topic_11\", \"topic_12\", \"topic_13\", \"topic_14\", \"topic_15\", \"topic_16\", \"topic_17\", \"topic_18\", \"topic_19\"]}</script><script type=\"text/javascript\" xlink:href=\"https://kozea.github.io/pygal.js/2.0.x/pygal-tooltips.min.js\"/></defs><title>Topics</title><g class=\"graph stackedline-graph vertical\"><rect class=\"background\" height=\"600\" width=\"800\" x=\"0\" y=\"0\"/><g class=\"plot\" transform=\"translate(143, 46)\"><rect class=\"background\" height=\"534\" width=\"636.8\" x=\"0\" y=\"0\"/><g class=\"axis y always_show\"><path class=\"line\" d=\"M0.000000 534.000000 h636.800000\"/><g class=\"guides\"><path class=\"guide line\" d=\"M0.000000 483.250252 h636.800000\"/><text class=\"\" x=\"-5\" y=\"486.75025208153113\">100</text><title>100</title></g><g class=\"guides\"><path class=\"guide line\" d=\"M0.000000 441.393525 h636.800000\"/><text class=\"\" x=\"-5\" y=\"444.8935248143731\">200</text><title>200</title></g><g class=\"guides\"><path class=\"guide line\" d=\"M0.000000 399.536798 h636.800000\"/><text class=\"\" x=\"-5\" y=\"403.0367975472151\">300</text><title>300</title></g><g class=\"guides\"><path class=\"guide line\" d=\"M0.000000 357.680070 h636.800000\"/><text class=\"\" x=\"-5\" y=\"361.18007028005707\">400</text><title>400</title></g><g class=\"guides\"><path class=\"major guide line\" d=\"M0.000000 315.823343 h636.800000\"/><text class=\"major\" x=\"-5\" y=\"319.32334301289904\">500</text><title>500</title></g><g class=\"guides\"><path class=\"guide line\" d=\"M0.000000 273.966616 h636.800000\"/><text class=\"\" x=\"-5\" y=\"277.4666157457411\">600</text><title>600</title></g><g class=\"guides\"><path class=\"guide line\" d=\"M0.000000 232.109888 h636.800000\"/><text class=\"\" x=\"-5\" y=\"235.60988847858306\">700</text><title>700</title></g><g class=\"guides\"><path class=\"guide line\" d=\"M0.000000 190.253161 h636.800000\"/><text class=\"\" x=\"-5\" y=\"193.75316121142504\">800</text><title>800</title></g><g class=\"guides\"><path class=\"guide line\" d=\"M0.000000 148.396434 h636.800000\"/><text class=\"\" x=\"-5\" y=\"151.89643394426702\">900</text><title>900</title></g><g class=\"guides\"><path class=\"major guide line\" d=\"M0.000000 106.539707 h636.800000\"/><text class=\"major\" x=\"-5\" y=\"110.039706677109\">1000</text><title>1000</title></g><g class=\"guides\"><path class=\"guide line\" d=\"M0.000000 64.682979 h636.800000\"/><text class=\"\" x=\"-5\" y=\"68.18297940995097\">1100</text><title>1100</title></g><g class=\"guides\"><path class=\"guide line\" d=\"M0.000000 22.826252 h636.800000\"/><text class=\"\" x=\"-5\" y=\"26.326252142792953\">1200</text><title>1200</title></g></g><g class=\"series serie-0 color-0\"><path class=\"line reactive\" d=\"M12.246154 525.106979 L12.246154 523.730769 16.920258 519.305854 21.594363 522.573480 26.268467 523.281741 30.942572 521.605442 35.616676 522.126614 40.290781 519.102893 44.964885 503.472138 49.638990 496.889356 54.313095 506.848914 58.987199 508.753349 63.661304 510.055403 68.335408 509.277164 73.009513 511.011259 77.683617 512.899807 82.357722 516.650572 87.031826 514.602800 91.705931 516.108257 96.380035 518.949448 101.054140 515.713657 105.728244 515.860601 110.402349 516.381195 115.076453 515.027570 119.750558 517.513096 124.424662 518.740221 129.098767 515.412688 133.772871 513.988823 138.446976 515.976080 143.121080 516.451978 147.795185 517.973253 152.469289 520.299127 157.143394 515.198261 161.817499 514.213706 166.491603 517.534713 171.165708 516.991611 175.839812 520.431106 180.513917 520.471614 185.188021 520.699290 189.862126 523.271702 194.536230 520.540757 199.210335 521.820621 203.884439 522.012788 208.558544 514.494793 213.232648 516.724779 217.906753 519.427825 222.580857 519.903119 227.254962 521.915881 231.929066 521.516328 236.603171 522.293031 241.277275 521.080849 245.951380 522.942666 250.625484 520.867504 255.299589 515.937584 259.973693 520.949070 264.647798 522.313887 269.321903 521.198292 273.996007 521.473121 278.670112 520.697288 283.344216 521.809810 288.018321 522.022176 292.692425 517.577559 297.366530 513.653537 302.040634 517.630676 306.714739 519.749974 311.388843 510.769284 316.062948 511.945112 320.737052 513.976549 325.411157 512.139776 330.085261 510.197106 334.759366 515.090450 339.433470 517.284034 344.107575 511.208115 348.781679 504.093498 353.455784 498.636780 358.129888 511.590257 362.803993 520.231927 367.478097 518.157034 372.152202 511.291342 376.826307 511.682609 381.500411 505.186448 386.174516 496.325153 390.848620 497.757240 395.522725 479.922318 400.196829 498.452923 404.870934 502.141953 409.545038 505.002922 414.219143 503.783475 418.893247 514.560546 423.567352 505.438183 428.241456 507.257432 432.915561 508.462844 437.589665 506.132554 442.263770 512.511036 446.937874 513.382228 451.611979 509.499841 456.286083 513.689099 460.960188 514.662145 465.634292 513.455209 470.308397 513.244384 474.982501 514.449574 479.656606 513.503393 484.330711 514.705622 489.004815 520.445601 493.678920 518.226784 498.353024 518.979720 503.027129 521.676752 507.701233 520.064089 512.375338 519.575984 517.049442 519.269702 521.723547 517.526600 526.397651 518.818607 531.071756 520.647045 535.745860 519.549230 540.419965 522.250117 545.094069 520.093568 549.768174 517.053498 554.442278 518.320181 559.116383 519.382769 563.790487 517.017921 568.464592 517.744953 573.138696 516.376084 577.812801 519.086800 582.486905 507.641103 587.161010 517.203457 591.835115 517.414970 596.509219 519.890159 601.183324 511.419582 605.857428 513.311852 610.531533 513.403393 615.205637 518.394890 619.879742 516.809631 624.553846 518.718145 624.553846 525.106979\"/></g><g class=\"series serie-1 color-1\"><path class=\"line reactive\" d=\"M12.246154 521.767464 L16.920258 512.063153 21.594363 511.381395 26.268467 514.789305 30.942572 505.371381 35.616676 504.885065 40.290781 510.374660 44.964885 479.765314 49.638990 477.481581 54.313095 493.902438 58.987199 496.644655 63.661304 499.320329 68.335408 499.652527 73.009513 499.639712 77.683617 504.019835 82.357722 511.443595 87.031826 503.585905 91.705931 508.136647 96.380035 512.663881 101.054140 506.702441 105.728244 510.736598 110.402349 508.440605 115.076453 505.853365 119.750558 511.284369 124.424662 514.058710 129.098767 508.908731 133.772871 507.508380 138.446976 511.612533 143.121080 508.507175 147.795185 510.530476 152.469289 509.545808 157.143394 503.060822 161.817499 504.036926 166.491603 510.515377 171.165708 506.170463 175.839812 514.488915 180.513917 509.162254 185.188021 510.492387 189.862126 513.095067 194.536230 513.990438 199.210335 510.774531 203.884439 516.426423 208.558544 511.332778 213.232648 508.451045 217.906753 515.420390 222.580857 515.234127 227.254962 517.205833 231.929066 517.648826 236.603171 515.385741 241.277275 514.426335 245.951380 517.481360 250.625484 513.158882 255.299589 505.083855 259.973693 517.492084 264.647798 518.095262 269.321903 514.043626 273.996007 516.061616 278.670112 514.080358 283.344216 516.677817 288.018321 517.718509 292.692425 511.642306 297.366530 501.165476 302.040634 505.721715 306.714739 507.684792 311.388843 499.005225 316.062948 504.085828 320.737052 504.901111 325.411157 493.413455 330.085261 490.668349 334.759366 498.702739 339.433470 504.923180 344.107575 500.086676 348.781679 490.386089 353.455784 482.024241 358.129888 501.538966 362.803993 513.515504 367.478097 507.703257 372.152202 491.508747 376.826307 491.819479 381.500411 462.709930 386.174516 471.656689 390.848620 480.161010 395.522725 460.073914 400.196829 486.169955 404.870934 486.286636 409.545038 484.075004 414.219143 484.227966 418.893247 499.726979 423.567352 488.464988 428.241456 487.697951 432.915561 496.301135 437.589665 490.208253 442.263770 498.411391 446.937874 501.120400 451.611979 495.502004 456.286083 506.286519 460.960188 502.708981 465.634292 502.186944 470.308397 493.178256 474.982501 499.235061 479.656606 498.204128 484.330711 500.316106 489.004815 507.646405 493.678920 510.237766 498.353024 509.738375 503.027129 514.384224 507.701233 508.995840 512.375338 512.445696 517.049442 513.125286 521.723547 507.653302 526.397651 509.527438 531.071756 513.672836 535.745860 508.906425 540.419965 516.039766 545.094069 512.233211 549.768174 509.037405 554.442278 503.788813 559.116383 508.071433 563.790487 501.939017 568.464592 505.937248 573.138696 499.645792 577.812801 504.443783 582.486905 476.110592 587.161010 493.567023 591.835115 499.761003 596.509219 506.818193 601.183324 496.882950 605.857428 499.594790 610.531533 498.297496 615.205637 504.943497 619.879742 502.832615 624.553846 512.700019 624.553846 518.718145 619.879742 516.809631 615.205637 518.394890 610.531533 513.403393 605.857428 513.311852 601.183324 511.419582 596.509219 519.890159 591.835115 517.414970 587.161010 517.203457 582.486905 507.641103 577.812801 519.086800 573.138696 516.376084 568.464592 517.744953 563.790487 517.017921 559.116383 519.382769 554.442278 518.320181 549.768174 517.053498 545.094069 520.093568 540.419965 522.250117 535.745860 519.549230 531.071756 520.647045 526.397651 518.818607 521.723547 517.526600 517.049442 519.269702 512.375338 519.575984 507.701233 520.064089 503.027129 521.676752 498.353024 518.979720 493.678920 518.226784 489.004815 520.445601 484.330711 514.705622 479.656606 513.503393 474.982501 514.449574 470.308397 513.244384 465.634292 513.455209 460.960188 514.662145 456.286083 513.689099 451.611979 509.499841 446.937874 513.382228 442.263770 512.511036 437.589665 506.132554 432.915561 508.462844 428.241456 507.257432 423.567352 505.438183 418.893247 514.560546 414.219143 503.783475 409.545038 505.002922 404.870934 502.141953 400.196829 498.452923 395.522725 479.922318 390.848620 497.757240 386.174516 496.325153 381.500411 505.186448 376.826307 511.682609 372.152202 511.291342 367.478097 518.157034 362.803993 520.231927 358.129888 511.590257 353.455784 498.636780 348.781679 504.093498 344.107575 511.208115 339.433470 517.284034 334.759366 515.090450 330.085261 510.197106 325.411157 512.139776 320.737052 513.976549 316.062948 511.945112 311.388843 510.769284 306.714739 519.749974 302.040634 517.630676 297.366530 513.653537 292.692425 517.577559 288.018321 522.022176 283.344216 521.809810 278.670112 520.697288 273.996007 521.473121 269.321903 521.198292 264.647798 522.313887 259.973693 520.949070 255.299589 515.937584 250.625484 520.867504 245.951380 522.942666 241.277275 521.080849 236.603171 522.293031 231.929066 521.516328 227.254962 521.915881 222.580857 519.903119 217.906753 519.427825 213.232648 516.724779 208.558544 514.494793 203.884439 522.012788 199.210335 521.820621 194.536230 520.540757 189.862126 523.271702 185.188021 520.699290 180.513917 520.471614 175.839812 520.431106 171.165708 516.991611 166.491603 517.534713 161.817499 514.213706 157.143394 515.198261 152.469289 520.299127 147.795185 517.973253 143.121080 516.451978 138.446976 515.976080 133.772871 513.988823 129.098767 515.412688 124.424662 518.740221 119.750558 517.513096 115.076453 515.027570 110.402349 516.381195 105.728244 515.860601 101.054140 515.713657 96.380035 518.949448 91.705931 516.108257 87.031826 514.602800 82.357722 516.650572 77.683617 512.899807 73.009513 511.011259 68.335408 509.277164 63.661304 510.055403 58.987199 508.753349 54.313095 506.848914 49.638990 496.889356 44.964885 503.472138 40.290781 519.102893 35.616676 522.126614 30.942572 521.605442 26.268467 523.281741 21.594363 522.573480 16.920258 519.305854 12.246154 523.730769\"/></g><g class=\"series serie-2 color-2\"><path class=\"line reactive\" d=\"M12.246154 519.222195 L16.920258 506.152972 21.594363 503.072019 26.268467 503.526659 30.942572 493.510992 35.616676 492.735473 40.290781 500.946625 44.964885 461.866669 49.638990 445.191507 54.313095 463.860171 58.987199 463.768896 63.661304 476.830862 68.335408 469.277831 73.009513 468.060291 77.683617 475.349366 82.357722 482.878879 87.031826 476.119638 91.705931 484.441433 96.380035 495.504169 101.054140 479.461201 105.728244 488.363586 110.402349 487.816330 115.076453 484.682672 119.750558 494.110999 124.424662 497.537152 129.098767 492.365571 133.772871 490.432878 138.446976 500.670877 143.121080 493.721027 147.795185 496.665277 152.469289 496.894648 157.143394 487.600109 161.817499 490.528111 166.491603 501.410473 171.165708 495.362935 175.839812 506.285012 180.513917 502.649077 185.188021 502.592817 189.862126 508.192836 194.536230 509.752351 199.210335 505.618103 203.884439 512.866348 208.558544 506.168037 213.232648 500.314101 217.906753 510.031423 222.580857 509.254177 227.254962 511.572724 231.929066 514.863692 236.603171 510.811123 241.277275 511.202161 245.951380 511.847412 250.625484 508.619479 255.299589 500.255421 259.973693 510.595657 264.647798 508.661852 269.321903 506.282924 273.996007 507.734759 278.670112 508.786552 283.344216 511.504284 288.018321 510.931278 292.692425 503.371134 297.366530 469.787528 302.040634 468.833466 306.714739 477.931024 311.388843 464.408573 316.062948 467.146525 320.737052 467.105241 325.411157 452.990354 330.085261 454.320879 334.759366 465.303822 339.433470 479.918360 344.107575 472.718258 348.781679 465.050165 353.455784 470.392633 358.129888 490.486022 362.803993 506.074384 367.478097 499.718644 372.152202 470.472111 376.826307 470.047363 381.500411 436.106167 386.174516 450.266363 390.848620 453.661007 395.522725 428.632727 400.196829 459.980430 404.870934 461.387372 409.545038 456.757256 414.219143 458.862735 418.893247 485.842511 423.567352 470.301466 428.241456 467.165804 432.915561 474.131640 437.589665 463.476466 442.263770 476.709847 446.937874 484.834792 451.611979 469.680113 456.286083 489.500788 460.960188 486.899820 465.634292 485.269737 470.308397 474.926883 474.982501 487.724273 479.656606 481.860392 484.330711 487.415140 489.004815 492.854806 493.678920 497.031399 498.353024 500.798812 503.027129 507.549233 507.701233 501.495420 512.375338 506.099889 517.049442 506.588923 521.723547 497.637699 526.397651 498.942998 531.071756 503.415189 535.745860 497.141146 540.419965 508.116906 545.094069 499.427323 549.768174 498.357374 554.442278 492.289847 559.116383 494.088421 563.790487 486.932883 568.464592 495.185936 573.138696 488.424385 577.812801 492.233098 582.486905 464.707717 587.161010 483.314390 591.835115 487.746838 596.509219 492.931925 601.183324 484.138772 605.857428 486.992984 610.531533 484.122172 615.205637 492.325559 619.879742 489.881412 624.553846 505.856473 624.553846 512.700019 619.879742 502.832615 615.205637 504.943497 610.531533 498.297496 605.857428 499.594790 601.183324 496.882950 596.509219 506.818193 591.835115 499.761003 587.161010 493.567023 582.486905 476.110592 577.812801 504.443783 573.138696 499.645792 568.464592 505.937248 563.790487 501.939017 559.116383 508.071433 554.442278 503.788813 549.768174 509.037405 545.094069 512.233211 540.419965 516.039766 535.745860 508.906425 531.071756 513.672836 526.397651 509.527438 521.723547 507.653302 517.049442 513.125286 512.375338 512.445696 507.701233 508.995840 503.027129 514.384224 498.353024 509.738375 493.678920 510.237766 489.004815 507.646405 484.330711 500.316106 479.656606 498.204128 474.982501 499.235061 470.308397 493.178256 465.634292 502.186944 460.960188 502.708981 456.286083 506.286519 451.611979 495.502004 446.937874 501.120400 442.263770 498.411391 437.589665 490.208253 432.915561 496.301135 428.241456 487.697951 423.567352 488.464988 418.893247 499.726979 414.219143 484.227966 409.545038 484.075004 404.870934 486.286636 400.196829 486.169955 395.522725 460.073914 390.848620 480.161010 386.174516 471.656689 381.500411 462.709930 376.826307 491.819479 372.152202 491.508747 367.478097 507.703257 362.803993 513.515504 358.129888 501.538966 353.455784 482.024241 348.781679 490.386089 344.107575 500.086676 339.433470 504.923180 334.759366 498.702739 330.085261 490.668349 325.411157 493.413455 320.737052 504.901111 316.062948 504.085828 311.388843 499.005225 306.714739 507.684792 302.040634 505.721715 297.366530 501.165476 292.692425 511.642306 288.018321 517.718509 283.344216 516.677817 278.670112 514.080358 273.996007 516.061616 269.321903 514.043626 264.647798 518.095262 259.973693 517.492084 255.299589 505.083855 250.625484 513.158882 245.951380 517.481360 241.277275 514.426335 236.603171 515.385741 231.929066 517.648826 227.254962 517.205833 222.580857 515.234127 217.906753 515.420390 213.232648 508.451045 208.558544 511.332778 203.884439 516.426423 199.210335 510.774531 194.536230 513.990438 189.862126 513.095067 185.188021 510.492387 180.513917 509.162254 175.839812 514.488915 171.165708 506.170463 166.491603 510.515377 161.817499 504.036926 157.143394 503.060822 152.469289 509.545808 147.795185 510.530476 143.121080 508.507175 138.446976 511.612533 133.772871 507.508380 129.098767 508.908731 124.424662 514.058710 119.750558 511.284369 115.076453 505.853365 110.402349 508.440605 105.728244 510.736598 101.054140 506.702441 96.380035 512.663881 91.705931 508.136647 87.031826 503.585905 82.357722 511.443595 77.683617 504.019835 73.009513 499.639712 68.335408 499.652527 63.661304 499.320329 58.987199 496.644655 54.313095 493.902438 49.638990 477.481581 44.964885 479.765314 40.290781 510.374660 35.616676 504.885065 30.942572 505.371381 26.268467 514.789305 21.594363 511.381395 16.920258 512.063153 12.246154 521.767464\"/></g><g class=\"series serie-3 color-3\"><path class=\"line reactive\" d=\"M12.246154 517.890704 L16.920258 500.769095 21.594363 498.394101 26.268467 499.122869 30.942572 486.004970 35.616676 484.680749 40.290781 496.681454 44.964885 446.115888 49.638990 426.167489 54.313095 453.409121 58.987199 453.618613 63.661304 469.950201 68.335408 458.626197 73.009513 457.335604 77.683617 465.576718 82.357722 476.393552 87.031826 467.341072 91.705931 474.611011 96.380035 488.855725 101.054140 469.903723 105.728244 481.459976 110.402349 479.117191 115.076453 474.491539 119.750558 488.537240 124.424662 488.089971 129.098767 484.704665 133.772871 482.161074 138.446976 494.557704 143.121080 488.502272 147.795185 488.916504 152.469289 491.115865 157.143394 479.945425 161.817499 484.495088 166.491603 493.293666 171.165708 484.313517 175.839812 499.483115 180.513917 496.659839 185.188021 496.182143 189.862126 502.932214 194.536230 507.108140 199.210335 501.421461 203.884439 507.846110 208.558544 501.792483 213.232648 494.161465 217.906753 505.740154 222.580857 505.913721 227.254962 507.999415 231.929066 512.634031 236.603171 508.222522 241.277275 507.766828 245.951380 507.398373 250.625484 504.286897 255.299589 496.031088 259.973693 507.426088 264.647798 505.999663 269.321903 502.789714 273.996007 505.512843 278.670112 504.790559 283.344216 507.155894 288.018321 507.349170 292.692425 500.444200 297.366530 460.602296 302.040634 462.121811 306.714739 472.687633 311.388843 458.524163 316.062948 460.127608 320.737052 459.949918 325.411157 444.720693 330.085261 444.125184 334.759366 447.746887 339.433470 461.272247 344.107575 456.992790 348.781679 446.109858 353.455784 443.740757 358.129888 469.464422 362.803993 494.118457 367.478097 483.703991 372.152202 443.872887 376.826307 445.226571 381.500411 408.671767 386.174516 430.556997 390.848620 438.072017 395.522725 402.860119 400.196829 441.908267 404.870934 443.055932 409.545038 437.790655 414.219143 438.400077 418.893247 471.850305 423.567352 453.581012 428.241456 447.388211 432.915561 453.469313 437.589665 441.089258 442.263770 461.641349 446.937874 469.993021 451.611979 452.463708 456.286083 480.145384 460.960188 473.110121 465.634292 471.126259 470.308397 455.697665 474.982501 474.053367 479.656606 464.209399 484.330711 469.935459 489.004815 473.740358 493.678920 483.590111 498.353024 488.839304 503.027129 498.170283 507.701233 487.884675 512.375338 496.261150 517.049442 499.967016 521.723547 486.125966 526.397651 485.119909 531.071756 496.211964 535.745860 488.274332 540.419965 492.816284 545.094069 483.641202 549.768174 485.329636 554.442278 480.023042 559.116383 482.463348 563.790487 468.308763 568.464592 486.057571 573.138696 472.598236 577.812801 479.143758 582.486905 447.570344 587.161010 469.925673 591.835115 472.335614 596.509219 477.034242 601.183324 470.883557 605.857428 474.898224 610.531533 466.834216 615.205637 477.815317 619.879742 475.430192 624.553846 500.969410 624.553846 505.856473 619.879742 489.881412 615.205637 492.325559 610.531533 484.122172 605.857428 486.992984 601.183324 484.138772 596.509219 492.931925 591.835115 487.746838 587.161010 483.314390 582.486905 464.707717 577.812801 492.233098 573.138696 488.424385 568.464592 495.185936 563.790487 486.932883 559.116383 494.088421 554.442278 492.289847 549.768174 498.357374 545.094069 499.427323 540.419965 508.116906 535.745860 497.141146 531.071756 503.415189 526.397651 498.942998 521.723547 497.637699 517.049442 506.588923 512.375338 506.099889 507.701233 501.495420 503.027129 507.549233 498.353024 500.798812 493.678920 497.031399 489.004815 492.854806 484.330711 487.415140 479.656606 481.860392 474.982501 487.724273 470.308397 474.926883 465.634292 485.269737 460.960188 486.899820 456.286083 489.500788 451.611979 469.680113 446.937874 484.834792 442.263770 476.709847 437.589665 463.476466 432.915561 474.131640 428.241456 467.165804 423.567352 470.301466 418.893247 485.842511 414.219143 458.862735 409.545038 456.757256 404.870934 461.387372 400.196829 459.980430 395.522725 428.632727 390.848620 453.661007 386.174516 450.266363 381.500411 436.106167 376.826307 470.047363 372.152202 470.472111 367.478097 499.718644 362.803993 506.074384 358.129888 490.486022 353.455784 470.392633 348.781679 465.050165 344.107575 472.718258 339.433470 479.918360 334.759366 465.303822 330.085261 454.320879 325.411157 452.990354 320.737052 467.105241 316.062948 467.146525 311.388843 464.408573 306.714739 477.931024 302.040634 468.833466 297.366530 469.787528 292.692425 503.371134 288.018321 510.931278 283.344216 511.504284 278.670112 508.786552 273.996007 507.734759 269.321903 506.282924 264.647798 508.661852 259.973693 510.595657 255.299589 500.255421 250.625484 508.619479 245.951380 511.847412 241.277275 511.202161 236.603171 510.811123 231.929066 514.863692 227.254962 511.572724 222.580857 509.254177 217.906753 510.031423 213.232648 500.314101 208.558544 506.168037 203.884439 512.866348 199.210335 505.618103 194.536230 509.752351 189.862126 508.192836 185.188021 502.592817 180.513917 502.649077 175.839812 506.285012 171.165708 495.362935 166.491603 501.410473 161.817499 490.528111 157.143394 487.600109 152.469289 496.894648 147.795185 496.665277 143.121080 493.721027 138.446976 500.670877 133.772871 490.432878 129.098767 492.365571 124.424662 497.537152 119.750558 494.110999 115.076453 484.682672 110.402349 487.816330 105.728244 488.363586 101.054140 479.461201 96.380035 495.504169 91.705931 484.441433 87.031826 476.119638 82.357722 482.878879 77.683617 475.349366 73.009513 468.060291 68.335408 469.277831 63.661304 476.830862 58.987199 463.768896 54.313095 463.860171 49.638990 445.191507 44.964885 461.866669 40.290781 500.946625 35.616676 492.735473 30.942572 493.510992 26.268467 503.526659 21.594363 503.072019 16.920258 506.152972 12.246154 519.222195\"/></g><g class=\"series serie-4 color-4\"><path class=\"line reactive\" d=\"M12.246154 516.402431 L16.920258 494.492919 21.594363 492.562707 26.268467 496.784572 30.942572 480.948997 35.616676 480.982651 40.290781 494.185254 44.964885 426.087773 49.638990 386.950291 54.313095 425.065405 58.987199 429.067834 63.661304 457.775287 68.335408 439.127714 73.009513 435.645994 77.683617 445.366533 82.357722 463.233463 87.031826 452.210802 91.705931 457.619464 96.380035 478.856916 101.054140 455.824276 105.728244 469.294066 110.402349 467.828889 115.076453 460.119544 119.750558 479.649950 124.424662 481.360922 129.098767 473.445627 133.772871 470.559336 138.446976 486.440121 143.121080 480.474814 147.795185 482.359916 152.469289 485.133369 157.143394 474.522875 161.817499 478.432110 166.491603 488.299698 171.165708 479.747387 175.839812 496.014851 180.513917 493.255533 185.188021 492.923081 189.862126 501.216718 194.536230 505.401926 199.210335 496.832318 203.884439 503.505653 208.558544 499.573033 213.232648 490.495333 217.906753 502.336244 222.580857 502.872683 227.254962 505.945139 231.929066 510.296903 236.603171 505.650339 241.277275 505.793455 245.951380 505.323376 250.625484 502.062165 255.299589 492.085440 259.973693 503.763239 264.647798 502.968416 269.321903 498.672444 273.996007 501.994097 278.670112 502.086413 283.344216 505.360107 288.018321 505.332404 292.692425 495.650369 297.366530 448.023708 302.040634 450.926346 306.714739 465.270734 311.388843 447.377984 316.062948 447.306089 320.737052 450.334496 325.411157 437.394116 330.085261 433.016492 334.759366 438.484015 339.433470 451.797920 344.107575 449.570616 348.781679 433.899631 353.455784 434.948484 358.129888 459.853159 362.803993 489.363318 367.478097 476.368640 372.152202 426.568270 376.826307 426.994598 381.500411 392.337799 386.174516 413.537677 390.848620 422.354358 395.522725 368.659281 400.196829 424.445108 404.870934 419.223435 409.545038 409.221302 414.219143 414.316690 418.893247 455.988492 423.567352 436.221920 428.241456 428.451419 432.915561 442.025760 437.589665 427.538439 442.263770 449.672516 446.937874 459.888157 451.611979 438.963127 456.286083 470.411758 460.960188 462.168419 465.634292 463.573591 470.308397 446.996251 474.982501 464.051367 479.656606 453.421344 484.330711 459.706997 489.004815 464.952021 493.678920 478.045150 498.353024 483.584667 503.027129 494.388832 507.701233 482.258926 512.375338 493.632279 517.049442 496.202433 521.723547 481.947798 526.397651 479.622150 531.071756 492.466401 535.745860 483.590285 540.419965 488.728442 545.094069 479.434837 549.768174 478.813325 554.442278 470.845279 559.116383 474.720612 563.790487 460.055191 568.464592 480.928309 573.138696 462.168608 577.812801 471.186277 582.486905 440.172670 587.161010 458.753791 591.835115 465.764962 596.509219 470.106458 601.183324 458.125831 605.857428 465.016113 610.531533 455.582073 615.205637 468.790757 619.879742 464.306545 624.553846 495.050134 624.553846 500.969410 619.879742 475.430192 615.205637 477.815317 610.531533 466.834216 605.857428 474.898224 601.183324 470.883557 596.509219 477.034242 591.835115 472.335614 587.161010 469.925673 582.486905 447.570344 577.812801 479.143758 573.138696 472.598236 568.464592 486.057571 563.790487 468.308763 559.116383 482.463348 554.442278 480.023042 549.768174 485.329636 545.094069 483.641202 540.419965 492.816284 535.745860 488.274332 531.071756 496.211964 526.397651 485.119909 521.723547 486.125966 517.049442 499.967016 512.375338 496.261150 507.701233 487.884675 503.027129 498.170283 498.353024 488.839304 493.678920 483.590111 489.004815 473.740358 484.330711 469.935459 479.656606 464.209399 474.982501 474.053367 470.308397 455.697665 465.634292 471.126259 460.960188 473.110121 456.286083 480.145384 451.611979 452.463708 446.937874 469.993021 442.263770 461.641349 437.589665 441.089258 432.915561 453.469313 428.241456 447.388211 423.567352 453.581012 418.893247 471.850305 414.219143 438.400077 409.545038 437.790655 404.870934 443.055932 400.196829 441.908267 395.522725 402.860119 390.848620 438.072017 386.174516 430.556997 381.500411 408.671767 376.826307 445.226571 372.152202 443.872887 367.478097 483.703991 362.803993 494.118457 358.129888 469.464422 353.455784 443.740757 348.781679 446.109858 344.107575 456.992790 339.433470 461.272247 334.759366 447.746887 330.085261 444.125184 325.411157 444.720693 320.737052 459.949918 316.062948 460.127608 311.388843 458.524163 306.714739 472.687633 302.040634 462.121811 297.366530 460.602296 292.692425 500.444200 288.018321 507.349170 283.344216 507.155894 278.670112 504.790559 273.996007 505.512843 269.321903 502.789714 264.647798 505.999663 259.973693 507.426088 255.299589 496.031088 250.625484 504.286897 245.951380 507.398373 241.277275 507.766828 236.603171 508.222522 231.929066 512.634031 227.254962 507.999415 222.580857 505.913721 217.906753 505.740154 213.232648 494.161465 208.558544 501.792483 203.884439 507.846110 199.210335 501.421461 194.536230 507.108140 189.862126 502.932214 185.188021 496.182143 180.513917 496.659839 175.839812 499.483115 171.165708 484.313517 166.491603 493.293666 161.817499 484.495088 157.143394 479.945425 152.469289 491.115865 147.795185 488.916504 143.121080 488.502272 138.446976 494.557704 133.772871 482.161074 129.098767 484.704665 124.424662 488.089971 119.750558 488.537240 115.076453 474.491539 110.402349 479.117191 105.728244 481.459976 101.054140 469.903723 96.380035 488.855725 91.705931 474.611011 87.031826 467.341072 82.357722 476.393552 77.683617 465.576718 73.009513 457.335604 68.335408 458.626197 63.661304 469.950201 58.987199 453.618613 54.313095 453.409121 49.638990 426.167489 44.964885 446.115888 40.290781 496.681454 35.616676 484.680749 30.942572 486.004970 26.268467 499.122869 21.594363 498.394101 16.920258 500.769095 12.246154 517.890704\"/></g><g class=\"series serie-5 color-5\"><path class=\"line reactive\" d=\"M12.246154 514.199814 L16.920258 488.803049 21.594363 489.662915 26.268467 493.009558 30.942572 477.380609 35.616676 476.761290 40.290781 492.404123 44.964885 422.252294 49.638990 377.297411 54.313095 413.703965 58.987199 411.962116 63.661304 443.296105 68.335408 429.217178 73.009513 422.283023 77.683617 435.959006 82.357722 459.079248 87.031826 446.176053 91.705931 449.411830 96.380035 474.927959 101.054140 449.099991 105.728244 460.226065 110.402349 459.346308 115.076453 453.712123 119.750558 474.571698 124.424662 475.755737 129.098767 466.801027 133.772871 464.462464 138.446976 481.723713 143.121080 475.113792 147.795185 478.586466 152.469289 482.719013 157.143394 468.934915 161.817499 474.559731 166.491603 484.084097 171.165708 475.160323 175.839812 492.869384 180.513917 490.848178 185.188021 491.507717 189.862126 499.458527 194.536230 503.705350 199.210335 494.391982 203.884439 501.220816 208.558544 498.492389 213.232648 486.651111 217.906753 499.766391 222.580857 499.834387 227.254962 503.670864 231.929066 507.867708 236.603171 501.961552 241.277275 502.557612 245.951380 501.401575 250.625484 499.545302 255.299589 488.757167 259.973693 501.551805 264.647798 501.693981 269.321903 495.607692 273.996007 497.362988 278.670112 498.765025 283.344216 502.274350 288.018321 501.399803 292.692425 492.863523 297.366530 442.206056 302.040634 447.156533 306.714739 462.328732 311.388843 443.011345 316.062948 442.385935 320.737052 446.860079 325.411157 430.619931 330.085261 424.215409 334.759366 430.332695 339.433470 444.529528 344.107575 444.469619 348.781679 426.655862 353.455784 420.300573 358.129888 448.106529 362.803993 483.045941 367.478097 469.254298 372.152202 416.754262 376.826307 415.400974 381.500411 382.735542 386.174516 407.222811 390.848620 416.790385 395.522725 357.733022 400.196829 416.939566 404.870934 407.542757 409.545038 395.434230 414.219143 403.520397 418.893247 447.269720 423.567352 426.375398 428.241456 421.106787 432.915561 435.708143 437.589665 418.593104 442.263770 440.452267 446.937874 454.010632 451.611979 432.250568 456.286083 466.217369 460.960188 456.509267 465.634292 456.265090 470.308397 438.180756 474.982501 456.190866 479.656606 445.534343 484.330711 453.054703 489.004815 456.377637 493.678920 468.642786 498.353024 476.517753 503.027129 486.928482 507.701233 474.469303 512.375338 487.024866 517.049442 490.957319 521.723547 476.137956 526.397651 475.028924 531.071756 487.015891 535.745860 477.720756 540.419965 484.119860 545.094069 477.482197 549.768174 473.701970 554.442278 466.865443 559.116383 469.148635 563.790487 452.470102 568.464592 476.146164 573.138696 455.269700 577.812801 463.530034 582.486905 435.967675 587.161010 453.199965 591.835115 451.229710 596.509219 454.258241 601.183324 444.734643 605.857428 454.551159 610.531533 447.483453 615.205637 461.959312 619.879742 455.694848 624.553846 491.433406 624.553846 495.050134 619.879742 464.306545 615.205637 468.790757 610.531533 455.582073 605.857428 465.016113 601.183324 458.125831 596.509219 470.106458 591.835115 465.764962 587.161010 458.753791 582.486905 440.172670 577.812801 471.186277 573.138696 462.168608 568.464592 480.928309 563.790487 460.055191 559.116383 474.720612 554.442278 470.845279 549.768174 478.813325 545.094069 479.434837 540.419965 488.728442 535.745860 483.590285 531.071756 492.466401 526.397651 479.622150 521.723547 481.947798 517.049442 496.202433 512.375338 493.632279 507.701233 482.258926 503.027129 494.388832 498.353024 483.584667 493.678920 478.045150 489.004815 464.952021 484.330711 459.706997 479.656606 453.421344 474.982501 464.051367 470.308397 446.996251 465.634292 463.573591 460.960188 462.168419 456.286083 470.411758 451.611979 438.963127 446.937874 459.888157 442.263770 449.672516 437.589665 427.538439 432.915561 442.025760 428.241456 428.451419 423.567352 436.221920 418.893247 455.988492 414.219143 414.316690 409.545038 409.221302 404.870934 419.223435 400.196829 424.445108 395.522725 368.659281 390.848620 422.354358 386.174516 413.537677 381.500411 392.337799 376.826307 426.994598 372.152202 426.568270 367.478097 476.368640 362.803993 489.363318 358.129888 459.853159 353.455784 434.948484 348.781679 433.899631 344.107575 449.570616 339.433470 451.797920 334.759366 438.484015 330.085261 433.016492 325.411157 437.394116 320.737052 450.334496 316.062948 447.306089 311.388843 447.377984 306.714739 465.270734 302.040634 450.926346 297.366530 448.023708 292.692425 495.650369 288.018321 505.332404 283.344216 505.360107 278.670112 502.086413 273.996007 501.994097 269.321903 498.672444 264.647798 502.968416 259.973693 503.763239 255.299589 492.085440 250.625484 502.062165 245.951380 505.323376 241.277275 505.793455 236.603171 505.650339 231.929066 510.296903 227.254962 505.945139 222.580857 502.872683 217.906753 502.336244 213.232648 490.495333 208.558544 499.573033 203.884439 503.505653 199.210335 496.832318 194.536230 505.401926 189.862126 501.216718 185.188021 492.923081 180.513917 493.255533 175.839812 496.014851 171.165708 479.747387 166.491603 488.299698 161.817499 478.432110 157.143394 474.522875 152.469289 485.133369 147.795185 482.359916 143.121080 480.474814 138.446976 486.440121 133.772871 470.559336 129.098767 473.445627 124.424662 481.360922 119.750558 479.649950 115.076453 460.119544 110.402349 467.828889 105.728244 469.294066 101.054140 455.824276 96.380035 478.856916 91.705931 457.619464 87.031826 452.210802 82.357722 463.233463 77.683617 445.366533 73.009513 435.645994 68.335408 439.127714 63.661304 457.775287 58.987199 429.067834 54.313095 425.065405 49.638990 386.950291 44.964885 426.087773 40.290781 494.185254 35.616676 480.982651 30.942572 480.948997 26.268467 496.784572 21.594363 492.562707 16.920258 494.492919 12.246154 516.402431\"/></g><g class=\"series serie-6 color-6\"><path class=\"line reactive\" d=\"M12.246154 513.465910 L16.920258 487.603332 21.594363 488.271150 26.268467 491.420625 30.942572 474.807478 35.616676 474.293398 40.290781 490.346809 44.964885 414.727173 49.638990 367.911958 54.313095 404.475744 58.987199 396.789875 63.661304 439.943456 68.335408 426.219651 73.009513 416.693118 77.683617 433.433722 82.357722 454.538719 87.031826 442.475308 91.705931 447.434594 96.380035 473.457452 101.054140 445.654122 105.728244 458.123847 110.402349 457.142189 115.076453 450.687827 119.750558 471.965829 124.424662 473.519428 129.098767 464.746897 133.772871 462.777590 138.446976 480.111964 143.121080 473.054213 147.795185 477.724994 152.469289 481.176757 157.143394 467.976333 161.817499 472.097203 166.491603 482.651687 171.165708 473.627620 175.839812 492.330433 180.513917 489.068840 185.188021 488.903358 189.862126 498.319042 194.536230 502.980728 199.210335 492.516253 203.884439 500.752729 208.558544 497.181779 213.232648 484.766128 217.906753 499.039414 222.580857 498.515497 227.254962 502.689954 231.929066 506.654226 236.603171 500.339042 241.277275 501.627787 245.951380 500.756154 250.625484 498.600493 255.299589 487.289696 259.973693 499.976256 264.647798 500.752704 269.321903 494.768716 273.996007 496.227711 278.670112 497.758483 283.344216 501.340187 288.018321 500.011885 292.692425 491.371414 297.366530 440.941677 302.040634 445.125101 306.714739 460.982403 311.388843 441.253484 316.062948 440.561887 320.737052 443.714150 325.411157 428.180462 330.085261 421.226935 334.759366 427.578982 339.433470 442.581386 344.107575 442.643723 348.781679 424.254581 353.455784 413.310259 358.129888 444.089427 362.803993 480.380322 367.478097 465.368523 372.152202 404.331039 376.826307 405.447687 381.500411 368.979875 386.174516 396.975897 390.848620 397.190752 395.522725 343.233756 400.196829 406.110208 404.870934 400.117910 409.545038 385.524048 414.219143 392.492740 418.893247 441.282833 423.567352 415.225102 428.241456 410.545721 432.915561 424.574872 437.589665 409.975644 442.263770 433.546932 446.937874 445.341958 451.611979 417.135307 456.286083 453.576478 460.960188 440.117547 465.634292 443.341237 470.308397 415.269405 474.982501 447.340993 479.656606 434.151849 484.330711 448.232018 489.004815 444.105811 493.678920 456.619764 498.353024 469.150023 503.027129 475.711166 507.701233 460.540967 512.375338 472.829885 517.049442 482.686560 521.723547 464.628517 526.397651 465.099421 531.071756 473.568013 535.745860 469.785445 540.419965 473.296037 545.094069 468.797655 549.768174 465.589735 554.442278 457.803661 559.116383 454.312178 563.790487 442.721344 568.464592 466.538196 573.138696 446.541268 577.812801 447.958320 582.486905 407.608865 587.161010 434.289399 591.835115 425.488992 596.509219 433.500652 601.183324 422.764629 605.857428 437.640506 610.531533 430.053340 615.205637 441.139991 619.879742 432.339011 624.553846 483.460115 624.553846 491.433406 619.879742 455.694848 615.205637 461.959312 610.531533 447.483453 605.857428 454.551159 601.183324 444.734643 596.509219 454.258241 591.835115 451.229710 587.161010 453.199965 582.486905 435.967675 577.812801 463.530034 573.138696 455.269700 568.464592 476.146164 563.790487 452.470102 559.116383 469.148635 554.442278 466.865443 549.768174 473.701970 545.094069 477.482197 540.419965 484.119860 535.745860 477.720756 531.071756 487.015891 526.397651 475.028924 521.723547 476.137956 517.049442 490.957319 512.375338 487.024866 507.701233 474.469303 503.027129 486.928482 498.353024 476.517753 493.678920 468.642786 489.004815 456.377637 484.330711 453.054703 479.656606 445.534343 474.982501 456.190866 470.308397 438.180756 465.634292 456.265090 460.960188 456.509267 456.286083 466.217369 451.611979 432.250568 446.937874 454.010632 442.263770 440.452267 437.589665 418.593104 432.915561 435.708143 428.241456 421.106787 423.567352 426.375398 418.893247 447.269720 414.219143 403.520397 409.545038 395.434230 404.870934 407.542757 400.196829 416.939566 395.522725 357.733022 390.848620 416.790385 386.174516 407.222811 381.500411 382.735542 376.826307 415.400974 372.152202 416.754262 367.478097 469.254298 362.803993 483.045941 358.129888 448.106529 353.455784 420.300573 348.781679 426.655862 344.107575 444.469619 339.433470 444.529528 334.759366 430.332695 330.085261 424.215409 325.411157 430.619931 320.737052 446.860079 316.062948 442.385935 311.388843 443.011345 306.714739 462.328732 302.040634 447.156533 297.366530 442.206056 292.692425 492.863523 288.018321 501.399803 283.344216 502.274350 278.670112 498.765025 273.996007 497.362988 269.321903 495.607692 264.647798 501.693981 259.973693 501.551805 255.299589 488.757167 250.625484 499.545302 245.951380 501.401575 241.277275 502.557612 236.603171 501.961552 231.929066 507.867708 227.254962 503.670864 222.580857 499.834387 217.906753 499.766391 213.232648 486.651111 208.558544 498.492389 203.884439 501.220816 199.210335 494.391982 194.536230 503.705350 189.862126 499.458527 185.188021 491.507717 180.513917 490.848178 175.839812 492.869384 171.165708 475.160323 166.491603 484.084097 161.817499 474.559731 157.143394 468.934915 152.469289 482.719013 147.795185 478.586466 143.121080 475.113792 138.446976 481.723713 133.772871 464.462464 129.098767 466.801027 124.424662 475.755737 119.750558 474.571698 115.076453 453.712123 110.402349 459.346308 105.728244 460.226065 101.054140 449.099991 96.380035 474.927959 91.705931 449.411830 87.031826 446.176053 82.357722 459.079248 77.683617 435.959006 73.009513 422.283023 68.335408 429.217178 63.661304 443.296105 58.987199 411.962116 54.313095 413.703965 49.638990 377.297411 44.964885 422.252294 40.290781 492.404123 35.616676 476.761290 30.942572 477.380609 26.268467 493.009558 21.594363 489.662915 16.920258 488.803049 12.246154 514.199814\"/></g><g class=\"series serie-7 color-7\"><path class=\"line reactive\" d=\"M12.246154 509.041791 L16.920258 476.978818 21.594363 479.825944 26.268467 482.944219 30.942572 461.108929 35.616676 463.945167 40.290781 482.665238 44.964885 383.497907 49.638990 323.818690 54.313095 376.849445 58.987199 349.838654 63.661304 397.121152 68.335408 376.559317 73.009513 364.227007 77.683617 384.641657 82.357722 420.362240 87.031826 393.026294 91.705931 416.996449 96.380035 450.492661 101.054140 401.731128 105.728244 425.262008 110.402349 431.618597 115.076453 420.339905 119.750558 450.294502 124.424662 455.185610 129.098767 445.744063 133.772871 441.715395 138.446976 459.633511 143.121080 448.608370 147.795185 462.944765 152.469289 465.240156 157.143394 447.305065 161.817499 448.369469 166.491603 469.729423 171.165708 453.057778 175.839812 480.334892 180.513917 478.174323 185.188021 474.861296 189.862126 489.854458 194.536230 495.541645 199.210335 477.334309 203.884439 493.826698 208.558544 485.617781 213.232648 466.107426 217.906753 485.592935 222.580857 484.943349 227.254962 489.939962 231.929066 495.437941 236.603171 489.528510 241.277275 492.198838 245.951380 489.778665 250.625484 486.893945 255.299589 470.236996 259.973693 490.226217 264.647798 488.046585 269.321903 479.685170 273.996007 483.354004 278.670112 487.367133 283.344216 489.426940 288.018321 488.995231 292.692425 478.272216 297.366530 419.854202 302.040634 424.282191 306.714739 446.834971 311.388843 409.214783 316.062948 416.663716 320.737052 425.752189 325.411157 406.536668 330.085261 396.970484 334.759366 408.919468 339.433470 423.778936 344.107575 427.622174 348.781679 408.519227 353.455784 389.744330 358.129888 428.851040 362.803993 471.777531 367.478097 454.349747 372.152202 387.046269 376.826307 387.845659 381.500411 343.267292 386.174516 373.826446 390.848620 371.035895 395.522725 300.941776 400.196829 381.271359 404.870934 376.924375 409.545038 358.177980 414.219143 364.562485 418.893247 426.793603 423.567352 385.674234 428.241456 387.932593 432.915561 405.900369 437.589665 381.327810 442.263770 411.644260 446.937874 426.455386 451.611979 392.687704 456.286083 430.547647 460.960188 422.234124 465.634292 425.148744 470.308397 384.784773 474.982501 428.045675 479.656606 402.646161 484.330711 433.481172 489.004815 432.507599 493.678920 437.443941 498.353024 455.220800 503.027129 464.536993 507.701233 446.677983 512.375338 462.087797 517.049442 473.747212 521.723547 454.517937 526.397651 455.301249 531.071756 464.528010 535.745860 455.404139 540.419965 464.796321 545.094069 462.082400 549.768174 454.059710 554.442278 445.387966 559.116383 441.786416 563.790487 427.041925 568.464592 455.369446 573.138696 431.049558 577.812801 436.334821 582.486905 388.415199 587.161010 415.590625 591.835115 409.853996 596.509219 422.743568 601.183324 412.524906 605.857428 424.450465 610.531533 414.938345 615.205637 425.995705 619.879742 416.426282 624.553846 476.573172 624.553846 483.460115 619.879742 432.339011 615.205637 441.139991 610.531533 430.053340 605.857428 437.640506 601.183324 422.764629 596.509219 433.500652 591.835115 425.488992 587.161010 434.289399 582.486905 407.608865 577.812801 447.958320 573.138696 446.541268 568.464592 466.538196 563.790487 442.721344 559.116383 454.312178 554.442278 457.803661 549.768174 465.589735 545.094069 468.797655 540.419965 473.296037 535.745860 469.785445 531.071756 473.568013 526.397651 465.099421 521.723547 464.628517 517.049442 482.686560 512.375338 472.829885 507.701233 460.540967 503.027129 475.711166 498.353024 469.150023 493.678920 456.619764 489.004815 444.105811 484.330711 448.232018 479.656606 434.151849 474.982501 447.340993 470.308397 415.269405 465.634292 443.341237 460.960188 440.117547 456.286083 453.576478 451.611979 417.135307 446.937874 445.341958 442.263770 433.546932 437.589665 409.975644 432.915561 424.574872 428.241456 410.545721 423.567352 415.225102 418.893247 441.282833 414.219143 392.492740 409.545038 385.524048 404.870934 400.117910 400.196829 406.110208 395.522725 343.233756 390.848620 397.190752 386.174516 396.975897 381.500411 368.979875 376.826307 405.447687 372.152202 404.331039 367.478097 465.368523 362.803993 480.380322 358.129888 444.089427 353.455784 413.310259 348.781679 424.254581 344.107575 442.643723 339.433470 442.581386 334.759366 427.578982 330.085261 421.226935 325.411157 428.180462 320.737052 443.714150 316.062948 440.561887 311.388843 441.253484 306.714739 460.982403 302.040634 445.125101 297.366530 440.941677 292.692425 491.371414 288.018321 500.011885 283.344216 501.340187 278.670112 497.758483 273.996007 496.227711 269.321903 494.768716 264.647798 500.752704 259.973693 499.976256 255.299589 487.289696 250.625484 498.600493 245.951380 500.756154 241.277275 501.627787 236.603171 500.339042 231.929066 506.654226 227.254962 502.689954 222.580857 498.515497 217.906753 499.039414 213.232648 484.766128 208.558544 497.181779 203.884439 500.752729 199.210335 492.516253 194.536230 502.980728 189.862126 498.319042 185.188021 488.903358 180.513917 489.068840 175.839812 492.330433 171.165708 473.627620 166.491603 482.651687 161.817499 472.097203 157.143394 467.976333 152.469289 481.176757 147.795185 477.724994 143.121080 473.054213 138.446976 480.111964 133.772871 462.777590 129.098767 464.746897 124.424662 473.519428 119.750558 471.965829 115.076453 450.687827 110.402349 457.142189 105.728244 458.123847 101.054140 445.654122 96.380035 473.457452 91.705931 447.434594 87.031826 442.475308 82.357722 454.538719 77.683617 433.433722 73.009513 416.693118 68.335408 426.219651 63.661304 439.943456 58.987199 396.789875 54.313095 404.475744 49.638990 367.911958 44.964885 414.727173 40.290781 490.346809 35.616676 474.293398 30.942572 474.807478 26.268467 491.420625 21.594363 488.271150 16.920258 487.603332 12.246154 513.465910\"/></g><g class=\"series serie-8 color-8\"><path class=\"line reactive\" d=\"M12.246154 507.666110 L16.920258 468.794729 21.594363 471.016238 26.268467 479.140428 30.942572 457.705576 35.616676 455.646772 40.290781 478.177779 44.964885 366.901853 49.638990 312.862972 54.313095 369.645856 58.987199 341.636709 63.661304 392.988843 68.335408 370.570122 73.009513 358.736829 77.683617 378.716380 82.357722 417.053772 87.031826 388.862590 91.705931 413.135185 96.380035 445.699261 101.054140 393.076796 105.728244 422.135735 110.402349 427.940797 115.076453 415.559262 119.750558 447.618479 124.424662 451.183214 129.098767 441.262865 133.772871 432.541582 138.446976 455.535284 143.121080 445.006509 147.795185 458.912838 152.469289 461.933728 157.143394 443.575204 161.817499 443.141781 166.491603 465.738643 171.165708 443.380223 175.839812 473.756767 180.513917 473.385137 185.188021 470.029440 189.862126 487.056071 194.536230 491.253290 199.210335 472.524016 203.884439 489.777388 208.558544 480.240976 213.232648 458.323750 217.906753 482.041775 222.580857 479.825499 227.254962 486.580131 231.929066 492.931368 236.603171 486.344400 241.277275 487.419422 245.951380 485.445035 250.625484 481.203483 255.299589 467.224700 259.973693 485.307851 264.647798 484.741577 269.321903 474.056479 273.996007 480.172050 278.670112 484.541983 283.344216 484.777315 288.018321 480.105066 292.692425 470.784188 297.366530 412.367535 302.040634 414.823344 306.714739 442.437788 311.388843 399.042935 316.062948 408.835390 320.737052 416.919928 325.411157 397.255390 330.085261 382.486468 334.759366 399.257674 339.433470 415.933650 344.107575 419.657439 348.781679 398.982249 353.455784 380.381397 358.129888 418.689800 362.803993 464.680009 367.478097 445.109105 372.152202 367.679395 376.826307 364.621965 381.500411 323.142453 386.174516 360.386757 390.848620 357.865715 395.522725 285.719593 400.196829 371.633301 404.870934 364.881015 409.545038 347.053902 414.219143 356.202638 418.893247 418.593086 423.567352 375.303752 428.241456 375.047581 432.915561 397.455428 437.589665 364.497671 442.263770 393.229864 446.937874 410.481906 451.611979 384.858545 456.286083 424.772570 460.960188 413.914607 465.634292 417.986580 470.308397 376.170871 474.982501 422.639127 479.656606 395.543368 484.330711 425.756024 489.004815 426.689629 493.678920 431.328858 498.353024 451.730835 503.027129 458.949647 507.701233 439.904842 512.375338 458.199316 517.049442 471.189286 521.723547 450.253123 526.397651 451.709692 531.071756 458.586569 535.745860 449.404613 540.419965 457.196199 545.094069 457.322286 549.768174 448.748674 554.442278 437.686945 559.116383 434.060557 563.790487 418.602848 568.464592 449.451370 573.138696 425.699308 577.812801 429.664332 582.486905 381.306947 587.161010 408.425570 591.835115 402.556183 596.509219 414.927298 601.183324 403.753879 605.857428 417.876713 610.531533 406.389161 615.205637 419.530743 619.879742 408.593338 624.553846 471.308980 624.553846 476.573172 619.879742 416.426282 615.205637 425.995705 610.531533 414.938345 605.857428 424.450465 601.183324 412.524906 596.509219 422.743568 591.835115 409.853996 587.161010 415.590625 582.486905 388.415199 577.812801 436.334821 573.138696 431.049558 568.464592 455.369446 563.790487 427.041925 559.116383 441.786416 554.442278 445.387966 549.768174 454.059710 545.094069 462.082400 540.419965 464.796321 535.745860 455.404139 531.071756 464.528010 526.397651 455.301249 521.723547 454.517937 517.049442 473.747212 512.375338 462.087797 507.701233 446.677983 503.027129 464.536993 498.353024 455.220800 493.678920 437.443941 489.004815 432.507599 484.330711 433.481172 479.656606 402.646161 474.982501 428.045675 470.308397 384.784773 465.634292 425.148744 460.960188 422.234124 456.286083 430.547647 451.611979 392.687704 446.937874 426.455386 442.263770 411.644260 437.589665 381.327810 432.915561 405.900369 428.241456 387.932593 423.567352 385.674234 418.893247 426.793603 414.219143 364.562485 409.545038 358.177980 404.870934 376.924375 400.196829 381.271359 395.522725 300.941776 390.848620 371.035895 386.174516 373.826446 381.500411 343.267292 376.826307 387.845659 372.152202 387.046269 367.478097 454.349747 362.803993 471.777531 358.129888 428.851040 353.455784 389.744330 348.781679 408.519227 344.107575 427.622174 339.433470 423.778936 334.759366 408.919468 330.085261 396.970484 325.411157 406.536668 320.737052 425.752189 316.062948 416.663716 311.388843 409.214783 306.714739 446.834971 302.040634 424.282191 297.366530 419.854202 292.692425 478.272216 288.018321 488.995231 283.344216 489.426940 278.670112 487.367133 273.996007 483.354004 269.321903 479.685170 264.647798 488.046585 259.973693 490.226217 255.299589 470.236996 250.625484 486.893945 245.951380 489.778665 241.277275 492.198838 236.603171 489.528510 231.929066 495.437941 227.254962 489.939962 222.580857 484.943349 217.906753 485.592935 213.232648 466.107426 208.558544 485.617781 203.884439 493.826698 199.210335 477.334309 194.536230 495.541645 189.862126 489.854458 185.188021 474.861296 180.513917 478.174323 175.839812 480.334892 171.165708 453.057778 166.491603 469.729423 161.817499 448.369469 157.143394 447.305065 152.469289 465.240156 147.795185 462.944765 143.121080 448.608370 138.446976 459.633511 133.772871 441.715395 129.098767 445.744063 124.424662 455.185610 119.750558 450.294502 115.076453 420.339905 110.402349 431.618597 105.728244 425.262008 101.054140 401.731128 96.380035 450.492661 91.705931 416.996449 87.031826 393.026294 82.357722 420.362240 77.683617 384.641657 73.009513 364.227007 68.335408 376.559317 63.661304 397.121152 58.987199 349.838654 54.313095 376.849445 49.638990 323.818690 44.964885 383.497907 40.290781 482.665238 35.616676 463.945167 30.942572 461.108929 26.268467 482.944219 21.594363 479.825944 16.920258 476.978818 12.246154 509.041791\"/></g><g class=\"series serie-9 color-9\"><path class=\"line reactive\" d=\"M12.246154 506.575219 L16.920258 465.916794 21.594363 467.798320 26.268467 477.112051 30.942572 455.381289 35.616676 451.799398 40.290781 475.949773 44.964885 355.288535 49.638990 290.115946 54.313095 353.599326 58.987199 331.057162 63.661304 383.580804 68.335408 357.001701 73.009513 343.532492 77.683617 366.892258 82.357722 412.242048 87.031826 380.045805 91.705931 404.903150 96.380035 442.506537 101.054140 382.747821 105.728244 415.291395 110.402349 421.250215 115.076453 406.457890 119.750558 441.632274 124.424662 437.285278 129.098767 430.695778 133.772871 420.729827 138.446976 442.210054 143.121080 435.797672 147.795185 453.939326 152.469289 459.682108 157.143394 438.832993 161.817499 437.057045 166.491603 458.290313 171.165708 439.104805 175.839812 470.490139 180.513917 469.888030 185.188021 465.900329 189.862126 484.061288 194.536230 485.220303 199.210335 460.032784 203.884439 483.376310 208.558544 475.229369 213.232648 448.657856 217.906753 469.341573 222.580857 467.743608 227.254962 480.519757 231.929066 483.476242 236.603171 474.092645 241.277275 480.235796 245.951380 483.037860 250.625484 470.391263 255.299589 452.051138 259.973693 476.507805 264.647798 479.232384 269.321903 468.080024 273.996007 475.612579 278.670112 476.215178 283.344216 480.954959 288.018321 474.846250 292.692425 464.160340 297.366530 385.465829 302.040634 399.991955 306.714739 433.750195 311.388843 387.917312 316.062948 394.437129 320.737052 409.171436 325.411157 387.174275 330.085261 366.456447 334.759366 390.091929 339.433470 408.075862 344.107575 414.307385 348.781679 388.959608 353.455784 368.540283 358.129888 410.687340 362.803993 459.697692 367.478097 438.083681 372.152202 353.680094 376.826307 354.118788 381.500411 309.171253 386.174516 348.189134 390.848620 347.421293 395.522725 274.106107 400.196829 359.575502 404.870934 341.141649 409.545038 323.502753 414.219143 331.296533 418.893247 406.661544 423.567352 333.492534 428.241456 318.458679 432.915561 380.841192 437.589665 351.469523 442.263770 383.122132 446.937874 399.233081 451.611979 373.977531 456.286083 418.978173 460.960188 405.564700 465.634292 410.413720 470.308397 365.166590 474.982501 413.643668 479.656606 383.198638 484.330711 418.663031 489.004815 423.872189 493.678920 421.239516 498.353024 441.464130 503.027129 447.201117 507.701233 429.366007 512.375338 450.774729 517.049442 461.337006 521.723547 438.832493 526.397651 439.866807 531.071756 446.071443 535.745860 439.651635 540.419965 447.304033 545.094069 447.929434 549.768174 441.325323 554.442278 427.574840 559.116383 423.832471 563.790487 407.109542 568.464592 444.230482 573.138696 420.625022 577.812801 423.519835 582.486905 371.966528 587.161010 401.011834 591.835115 392.002783 596.509219 405.562391 601.183324 394.125317 605.857428 409.616962 610.531533 395.104621 615.205637 410.712351 619.879742 396.963040 624.553846 466.756729 624.553846 471.308980 619.879742 408.593338 615.205637 419.530743 610.531533 406.389161 605.857428 417.876713 601.183324 403.753879 596.509219 414.927298 591.835115 402.556183 587.161010 408.425570 582.486905 381.306947 577.812801 429.664332 573.138696 425.699308 568.464592 449.451370 563.790487 418.602848 559.116383 434.060557 554.442278 437.686945 549.768174 448.748674 545.094069 457.322286 540.419965 457.196199 535.745860 449.404613 531.071756 458.586569 526.397651 451.709692 521.723547 450.253123 517.049442 471.189286 512.375338 458.199316 507.701233 439.904842 503.027129 458.949647 498.353024 451.730835 493.678920 431.328858 489.004815 426.689629 484.330711 425.756024 479.656606 395.543368 474.982501 422.639127 470.308397 376.170871 465.634292 417.986580 460.960188 413.914607 456.286083 424.772570 451.611979 384.858545 446.937874 410.481906 442.263770 393.229864 437.589665 364.497671 432.915561 397.455428 428.241456 375.047581 423.567352 375.303752 418.893247 418.593086 414.219143 356.202638 409.545038 347.053902 404.870934 364.881015 400.196829 371.633301 395.522725 285.719593 390.848620 357.865715 386.174516 360.386757 381.500411 323.142453 376.826307 364.621965 372.152202 367.679395 367.478097 445.109105 362.803993 464.680009 358.129888 418.689800 353.455784 380.381397 348.781679 398.982249 344.107575 419.657439 339.433470 415.933650 334.759366 399.257674 330.085261 382.486468 325.411157 397.255390 320.737052 416.919928 316.062948 408.835390 311.388843 399.042935 306.714739 442.437788 302.040634 414.823344 297.366530 412.367535 292.692425 470.784188 288.018321 480.105066 283.344216 484.777315 278.670112 484.541983 273.996007 480.172050 269.321903 474.056479 264.647798 484.741577 259.973693 485.307851 255.299589 467.224700 250.625484 481.203483 245.951380 485.445035 241.277275 487.419422 236.603171 486.344400 231.929066 492.931368 227.254962 486.580131 222.580857 479.825499 217.906753 482.041775 213.232648 458.323750 208.558544 480.240976 203.884439 489.777388 199.210335 472.524016 194.536230 491.253290 189.862126 487.056071 185.188021 470.029440 180.513917 473.385137 175.839812 473.756767 171.165708 443.380223 166.491603 465.738643 161.817499 443.141781 157.143394 443.575204 152.469289 461.933728 147.795185 458.912838 143.121080 445.006509 138.446976 455.535284 133.772871 432.541582 129.098767 441.262865 124.424662 451.183214 119.750558 447.618479 115.076453 415.559262 110.402349 427.940797 105.728244 422.135735 101.054140 393.076796 96.380035 445.699261 91.705931 413.135185 87.031826 388.862590 82.357722 417.053772 77.683617 378.716380 73.009513 358.736829 68.335408 370.570122 63.661304 392.988843 58.987199 341.636709 54.313095 369.645856 49.638990 312.862972 44.964885 366.901853 40.290781 478.177779 35.616676 455.646772 30.942572 457.705576 26.268467 479.140428 21.594363 471.016238 16.920258 468.794729 12.246154 507.666110\"/></g><g class=\"series serie-10 color-10\"><path class=\"line reactive\" d=\"M12.246154 503.967395 L16.920258 453.905200 21.594363 456.480058 26.268467 469.506458 30.942572 443.160115 35.616676 441.342364 40.290781 469.770328 44.964885 333.391216 49.638990 269.533386 54.313095 336.126984 58.987199 308.755389 63.661304 372.074122 68.335408 344.092481 73.009513 327.579097 77.683617 357.805680 82.357722 403.670058 87.031826 365.216139 91.705931 391.806171 96.380035 428.411942 101.054140 363.360098 105.728244 398.133930 110.402349 402.310597 115.076453 390.701551 119.750558 431.174479 124.424662 424.678358 129.098767 416.603689 133.772871 409.276423 138.446976 434.567047 143.121080 428.057243 147.795185 442.266206 152.469289 450.172837 157.143394 417.444927 161.817499 423.438521 166.491603 451.439919 171.165708 428.842928 175.839812 463.814291 180.513917 460.873397 185.188021 456.629769 189.862126 476.133608 194.536230 478.862504 199.210335 446.471497 203.884439 477.493781 208.558544 469.154268 213.232648 438.421383 217.906753 462.797851 222.580857 460.282553 227.254962 476.862398 231.929066 478.502886 236.603171 470.561828 241.277275 474.932486 245.951380 475.673274 250.625484 463.214653 255.299589 444.661493 259.973693 469.732589 264.647798 474.321671 269.321903 458.412719 273.996007 470.433367 278.670112 470.380864 283.344216 473.529186 288.018321 467.520506 292.692425 453.660045 297.366530 376.119053 302.040634 387.681828 306.714739 425.858337 311.388843 371.244304 316.062948 384.142156 320.737052 397.910840 325.411157 372.400948 330.085261 348.888544 334.759366 373.409814 339.433470 394.793952 344.107575 403.541814 348.781679 371.869604 353.455784 352.332826 358.129888 393.361361 362.803993 449.372955 367.478097 424.712203 372.152202 332.903673 376.826307 332.338035 381.500411 282.315164 386.174516 326.144150 390.848620 330.684089 395.522725 251.479276 400.196829 346.163747 404.870934 320.129283 409.545038 306.757700 414.219143 311.979531 418.893247 392.201225 423.567352 316.395102 428.241456 302.175538 432.915561 368.416276 437.589665 334.126121 442.263770 372.538031 446.937874 388.972177 451.611979 361.796043 456.286083 411.412073 460.960188 396.873978 465.634292 400.425389 470.308397 347.400267 474.982501 401.203980 479.656606 366.388881 484.330711 405.641184 489.004815 411.718554 493.678920 409.406440 498.353024 432.284301 503.027129 440.121373 507.701233 421.121184 512.375338 444.916793 517.049442 455.734345 521.723547 434.673682 526.397651 432.318127 531.071756 439.315463 535.745860 431.125963 540.419965 439.429368 545.094069 441.479964 549.768174 434.587968 554.442278 415.484476 559.116383 413.732862 563.790487 396.688375 568.464592 435.382832 573.138696 409.960071 577.812801 415.874999 582.486905 357.731077 587.161010 380.990702 591.835115 378.660567 596.509219 393.242997 601.183324 381.698438 605.857428 397.385976 610.531533 380.382915 615.205637 398.654181 619.879742 384.157382 624.553846 461.872617 624.553846 466.756729 619.879742 396.963040 615.205637 410.712351 610.531533 395.104621 605.857428 409.616962 601.183324 394.125317 596.509219 405.562391 591.835115 392.002783 587.161010 401.011834 582.486905 371.966528 577.812801 423.519835 573.138696 420.625022 568.464592 444.230482 563.790487 407.109542 559.116383 423.832471 554.442278 427.574840 549.768174 441.325323 545.094069 447.929434 540.419965 447.304033 535.745860 439.651635 531.071756 446.071443 526.397651 439.866807 521.723547 438.832493 517.049442 461.337006 512.375338 450.774729 507.701233 429.366007 503.027129 447.201117 498.353024 441.464130 493.678920 421.239516 489.004815 423.872189 484.330711 418.663031 479.656606 383.198638 474.982501 413.643668 470.308397 365.166590 465.634292 410.413720 460.960188 405.564700 456.286083 418.978173 451.611979 373.977531 446.937874 399.233081 442.263770 383.122132 437.589665 351.469523 432.915561 380.841192 428.241456 318.458679 423.567352 333.492534 418.893247 406.661544 414.219143 331.296533 409.545038 323.502753 404.870934 341.141649 400.196829 359.575502 395.522725 274.106107 390.848620 347.421293 386.174516 348.189134 381.500411 309.171253 376.826307 354.118788 372.152202 353.680094 367.478097 438.083681 362.803993 459.697692 358.129888 410.687340 353.455784 368.540283 348.781679 388.959608 344.107575 414.307385 339.433470 408.075862 334.759366 390.091929 330.085261 366.456447 325.411157 387.174275 320.737052 409.171436 316.062948 394.437129 311.388843 387.917312 306.714739 433.750195 302.040634 399.991955 297.366530 385.465829 292.692425 464.160340 288.018321 474.846250 283.344216 480.954959 278.670112 476.215178 273.996007 475.612579 269.321903 468.080024 264.647798 479.232384 259.973693 476.507805 255.299589 452.051138 250.625484 470.391263 245.951380 483.037860 241.277275 480.235796 236.603171 474.092645 231.929066 483.476242 227.254962 480.519757 222.580857 467.743608 217.906753 469.341573 213.232648 448.657856 208.558544 475.229369 203.884439 483.376310 199.210335 460.032784 194.536230 485.220303 189.862126 484.061288 185.188021 465.900329 180.513917 469.888030 175.839812 470.490139 171.165708 439.104805 166.491603 458.290313 161.817499 437.057045 157.143394 438.832993 152.469289 459.682108 147.795185 453.939326 143.121080 435.797672 138.446976 442.210054 133.772871 420.729827 129.098767 430.695778 124.424662 437.285278 119.750558 441.632274 115.076453 406.457890 110.402349 421.250215 105.728244 415.291395 101.054140 382.747821 96.380035 442.506537 91.705931 404.903150 87.031826 380.045805 82.357722 412.242048 77.683617 366.892258 73.009513 343.532492 68.335408 357.001701 63.661304 383.580804 58.987199 331.057162 54.313095 353.599326 49.638990 290.115946 44.964885 355.288535 40.290781 475.949773 35.616676 451.799398 30.942572 455.381289 26.268467 477.112051 21.594363 467.798320 16.920258 465.916794 12.246154 506.575219\"/></g><g class=\"series serie-11 color-11\"><path class=\"line reactive\" d=\"M12.246154 500.937106 L16.920258 447.892738 21.594363 448.512883 26.268467 464.629937 30.942572 434.057360 35.616676 431.275601 40.290781 466.271538 44.964885 322.018463 49.638990 260.294516 54.313095 326.278857 58.987199 298.781444 63.661304 347.464902 68.335408 336.962828 73.009513 321.453762 77.683617 352.233560 82.357722 399.349691 87.031826 356.189055 91.705931 388.695767 96.380035 424.156043 101.054140 358.215990 105.728244 391.717947 110.402349 397.339181 115.076453 382.673358 119.750558 425.391049 124.424662 418.759191 129.098767 411.510687 133.772871 401.249756 138.446976 431.612883 143.121080 418.509652 147.795185 439.099089 152.469289 447.256247 157.143394 411.010785 161.817499 417.460099 166.491603 449.307898 171.165708 426.413630 175.839812 460.887237 180.513917 456.754192 185.188021 451.995429 189.862126 473.974845 194.536230 476.310169 199.210335 442.651394 203.884439 476.243547 208.558544 467.066894 213.232648 432.222748 217.906753 460.229119 222.580857 457.850279 227.254962 473.336354 231.929066 475.766532 236.603171 465.824775 241.277275 472.765847 245.951380 473.232105 250.625484 460.288838 255.299589 440.927464 259.973693 467.442391 264.647798 472.695012 269.321903 454.337101 273.996007 464.783478 278.670112 466.997293 283.344216 470.071507 288.018321 463.924906 292.692425 450.020109 297.366530 370.150439 302.040634 384.242798 306.714739 422.288192 311.388843 364.334325 316.062948 381.812313 320.737052 394.261462 325.411157 368.514262 330.085261 342.696071 334.759366 368.281149 339.433470 389.080192 344.107575 398.692044 348.781679 368.066190 353.455784 345.030263 358.129888 388.532628 362.803993 440.829692 367.478097 413.204022 372.152202 322.459466 376.826307 321.873138 381.500411 263.837608 386.174516 312.052298 390.848620 319.712650 395.522725 238.955306 400.196829 339.887050 404.870934 311.266053 409.545038 298.030222 414.219143 301.253686 418.893247 384.724041 423.567352 305.487128 428.241456 295.175673 432.915561 360.590507 437.589665 326.459644 442.263770 363.079634 446.937874 384.274576 451.611979 357.128991 456.286083 407.081639 460.960188 391.436907 465.634292 393.906647 470.308397 335.720379 474.982501 392.456604 479.656606 354.853913 484.330711 399.569318 489.004815 406.495604 493.678920 404.686442 498.353024 428.774569 503.027129 437.535877 507.701233 415.922918 512.375338 442.006283 517.049442 453.942290 521.723547 432.525993 526.397651 429.930484 531.071756 437.413281 535.745860 425.960194 540.419965 436.989077 545.094069 438.770620 549.768174 431.468246 554.442278 410.886717 559.116383 408.960355 563.790487 390.579290 568.464592 430.820800 573.138696 404.084141 577.812801 408.606385 582.486905 353.230639 587.161010 373.751336 591.835115 372.438770 596.509219 385.616117 601.183324 376.304448 605.857428 390.986199 610.531533 371.141272 615.205637 392.856213 619.879742 379.458892 624.553846 459.700240 624.553846 461.872617 619.879742 384.157382 615.205637 398.654181 610.531533 380.382915 605.857428 397.385976 601.183324 381.698438 596.509219 393.242997 591.835115 378.660567 587.161010 380.990702 582.486905 357.731077 577.812801 415.874999 573.138696 409.960071 568.464592 435.382832 563.790487 396.688375 559.116383 413.732862 554.442278 415.484476 549.768174 434.587968 545.094069 441.479964 540.419965 439.429368 535.745860 431.125963 531.071756 439.315463 526.397651 432.318127 521.723547 434.673682 517.049442 455.734345 512.375338 444.916793 507.701233 421.121184 503.027129 440.121373 498.353024 432.284301 493.678920 409.406440 489.004815 411.718554 484.330711 405.641184 479.656606 366.388881 474.982501 401.203980 470.308397 347.400267 465.634292 400.425389 460.960188 396.873978 456.286083 411.412073 451.611979 361.796043 446.937874 388.972177 442.263770 372.538031 437.589665 334.126121 432.915561 368.416276 428.241456 302.175538 423.567352 316.395102 418.893247 392.201225 414.219143 311.979531 409.545038 306.757700 404.870934 320.129283 400.196829 346.163747 395.522725 251.479276 390.848620 330.684089 386.174516 326.144150 381.500411 282.315164 376.826307 332.338035 372.152202 332.903673 367.478097 424.712203 362.803993 449.372955 358.129888 393.361361 353.455784 352.332826 348.781679 371.869604 344.107575 403.541814 339.433470 394.793952 334.759366 373.409814 330.085261 348.888544 325.411157 372.400948 320.737052 397.910840 316.062948 384.142156 311.388843 371.244304 306.714739 425.858337 302.040634 387.681828 297.366530 376.119053 292.692425 453.660045 288.018321 467.520506 283.344216 473.529186 278.670112 470.380864 273.996007 470.433367 269.321903 458.412719 264.647798 474.321671 259.973693 469.732589 255.299589 444.661493 250.625484 463.214653 245.951380 475.673274 241.277275 474.932486 236.603171 470.561828 231.929066 478.502886 227.254962 476.862398 222.580857 460.282553 217.906753 462.797851 213.232648 438.421383 208.558544 469.154268 203.884439 477.493781 199.210335 446.471497 194.536230 478.862504 189.862126 476.133608 185.188021 456.629769 180.513917 460.873397 175.839812 463.814291 171.165708 428.842928 166.491603 451.439919 161.817499 423.438521 157.143394 417.444927 152.469289 450.172837 147.795185 442.266206 143.121080 428.057243 138.446976 434.567047 133.772871 409.276423 129.098767 416.603689 124.424662 424.678358 119.750558 431.174479 115.076453 390.701551 110.402349 402.310597 105.728244 398.133930 101.054140 363.360098 96.380035 428.411942 91.705931 391.806171 87.031826 365.216139 82.357722 403.670058 77.683617 357.805680 73.009513 327.579097 68.335408 344.092481 63.661304 372.074122 58.987199 308.755389 54.313095 336.126984 49.638990 269.533386 44.964885 333.391216 40.290781 469.770328 35.616676 441.342364 30.942572 443.160115 26.268467 469.506458 21.594363 456.480058 16.920258 453.905200 12.246154 503.967395\"/></g><g class=\"series serie-12 color-12\"><path class=\"line reactive\" d=\"M12.246154 499.082290 L16.920258 443.875712 21.594363 444.664548 26.268467 457.206365 30.942572 426.405588 35.616676 422.936774 40.290781 461.490561 44.964885 311.453211 49.638990 250.523071 54.313095 316.705561 58.987199 285.709308 63.661304 340.140309 68.335408 329.642977 73.009513 313.433068 77.683617 346.821538 82.357722 395.011261 87.031826 350.197496 91.705931 382.969427 96.380035 416.330612 101.054140 351.371243 105.728244 385.019828 110.402349 391.837521 115.076453 376.352605 119.750558 419.317225 124.424662 414.318792 129.098767 407.886174 133.772871 397.196592 138.446976 428.298763 143.121080 414.712844 147.795185 434.419209 152.469289 442.332407 157.143394 405.667105 161.817499 413.211465 166.491603 445.063059 171.165708 421.398842 175.839812 457.575663 180.513917 449.101796 185.188021 448.607047 189.862126 465.293936 194.536230 467.945978 199.210335 436.471573 203.884439 472.291794 208.558544 464.332249 213.232648 426.066304 217.906753 457.623691 222.580857 455.855558 227.254962 471.217485 231.929066 472.961098 236.603171 462.927685 241.277275 471.371603 245.951380 471.185070 250.625484 457.783049 255.299589 438.624551 259.973693 465.094461 264.647798 471.088909 269.321903 449.618845 273.996007 461.731928 278.670112 464.708015 283.344216 467.102366 288.018321 461.057498 292.692425 446.257372 297.366530 364.760156 302.040634 378.402352 306.714739 418.642491 311.388843 358.818788 316.062948 376.820348 320.737052 388.689797 325.411157 361.527200 330.085261 338.010284 334.759366 362.791811 339.433470 384.713261 344.107575 394.001055 348.781679 362.254551 353.455784 339.452206 358.129888 384.615060 362.803993 438.733036 367.478097 409.753040 372.152202 314.049524 376.826307 314.158430 381.500411 253.805759 386.174516 304.277447 390.848620 309.395485 395.522725 228.680656 400.196829 331.551941 404.870934 301.115214 409.545038 289.797362 414.219143 294.260804 418.893247 380.962450 423.567352 299.440021 428.241456 289.915591 432.915561 355.486948 437.589665 316.344005 442.263770 356.501373 446.937874 379.660558 451.611979 349.638892 456.286083 402.299158 460.960188 386.685236 465.634292 387.023943 470.308397 327.025184 474.982501 386.693742 479.656606 346.313421 484.330711 392.835140 489.004815 401.482021 493.678920 401.273836 498.353024 425.161312 503.027129 434.341714 507.701233 412.491873 512.375338 439.265837 517.049442 452.081144 521.723547 430.518202 526.397651 427.047797 531.071756 435.671541 535.745860 423.102014 540.419965 434.123585 545.094069 436.673140 549.768174 428.959553 554.442278 407.310321 559.116383 405.572349 563.790487 385.009341 568.464592 427.452269 573.138696 399.627260 577.812801 404.379670 582.486905 348.537803 587.161010 364.969489 591.835115 360.607356 596.509219 377.197963 601.183324 368.816552 605.857428 386.253869 610.531533 361.777893 615.205637 381.640933 619.879742 372.419085 624.553846 455.656788 624.553846 459.700240 619.879742 379.458892 615.205637 392.856213 610.531533 371.141272 605.857428 390.986199 601.183324 376.304448 596.509219 385.616117 591.835115 372.438770 587.161010 373.751336 582.486905 353.230639 577.812801 408.606385 573.138696 404.084141 568.464592 430.820800 563.790487 390.579290 559.116383 408.960355 554.442278 410.886717 549.768174 431.468246 545.094069 438.770620 540.419965 436.989077 535.745860 425.960194 531.071756 437.413281 526.397651 429.930484 521.723547 432.525993 517.049442 453.942290 512.375338 442.006283 507.701233 415.922918 503.027129 437.535877 498.353024 428.774569 493.678920 404.686442 489.004815 406.495604 484.330711 399.569318 479.656606 354.853913 474.982501 392.456604 470.308397 335.720379 465.634292 393.906647 460.960188 391.436907 456.286083 407.081639 451.611979 357.128991 446.937874 384.274576 442.263770 363.079634 437.589665 326.459644 432.915561 360.590507 428.241456 295.175673 423.567352 305.487128 418.893247 384.724041 414.219143 301.253686 409.545038 298.030222 404.870934 311.266053 400.196829 339.887050 395.522725 238.955306 390.848620 319.712650 386.174516 312.052298 381.500411 263.837608 376.826307 321.873138 372.152202 322.459466 367.478097 413.204022 362.803993 440.829692 358.129888 388.532628 353.455784 345.030263 348.781679 368.066190 344.107575 398.692044 339.433470 389.080192 334.759366 368.281149 330.085261 342.696071 325.411157 368.514262 320.737052 394.261462 316.062948 381.812313 311.388843 364.334325 306.714739 422.288192 302.040634 384.242798 297.366530 370.150439 292.692425 450.020109 288.018321 463.924906 283.344216 470.071507 278.670112 466.997293 273.996007 464.783478 269.321903 454.337101 264.647798 472.695012 259.973693 467.442391 255.299589 440.927464 250.625484 460.288838 245.951380 473.232105 241.277275 472.765847 236.603171 465.824775 231.929066 475.766532 227.254962 473.336354 222.580857 457.850279 217.906753 460.229119 213.232648 432.222748 208.558544 467.066894 203.884439 476.243547 199.210335 442.651394 194.536230 476.310169 189.862126 473.974845 185.188021 451.995429 180.513917 456.754192 175.839812 460.887237 171.165708 426.413630 166.491603 449.307898 161.817499 417.460099 157.143394 411.010785 152.469289 447.256247 147.795185 439.099089 143.121080 418.509652 138.446976 431.612883 133.772871 401.249756 129.098767 411.510687 124.424662 418.759191 119.750558 425.391049 115.076453 382.673358 110.402349 397.339181 105.728244 391.717947 101.054140 358.215990 96.380035 424.156043 91.705931 388.695767 87.031826 356.189055 82.357722 399.349691 77.683617 352.233560 73.009513 321.453762 68.335408 336.962828 63.661304 347.464902 58.987199 298.781444 54.313095 326.278857 49.638990 260.294516 44.964885 322.018463 40.290781 466.271538 35.616676 431.275601 30.942572 434.057360 26.268467 464.629937 21.594363 448.512883 16.920258 447.892738 12.246154 500.937106\"/></g><g class=\"series serie-13 color-13\"><path class=\"line reactive\" d=\"M12.246154 496.044910 L16.920258 435.878565 21.594363 437.797087 26.268467 449.359232 30.942572 414.502685 35.616676 410.898598 40.290781 453.946535 44.964885 292.105605 49.638990 213.037395 54.313095 291.933672 58.987199 262.434013 63.661304 327.725044 68.335408 309.193618 73.009513 287.164183 77.683617 323.184669 82.357722 382.881071 87.031826 334.743174 91.705931 368.025800 96.380035 406.338796 101.054140 334.340649 105.728244 370.854902 110.402349 377.387704 115.076453 358.484817 119.750558 410.502334 124.424662 403.723989 129.098767 392.049188 133.772871 384.599518 138.446976 417.538520 143.121080 399.475412 147.795185 419.098224 152.469289 435.958848 157.143394 390.934517 161.817499 401.364361 166.491603 434.288154 171.165708 411.797507 175.839812 449.186774 180.513917 443.621659 185.188021 440.369406 189.862126 456.738702 194.536230 462.042578 199.210335 422.389066 203.884439 463.736449 208.558544 459.523215 213.232648 411.998280 217.906753 448.527271 222.580857 447.157450 227.254962 462.924662 231.929066 466.414361 236.603171 455.217364 241.277275 465.091367 245.951380 461.606297 250.625484 446.594253 255.299589 428.017230 259.973693 456.037877 264.647798 465.082718 269.321903 436.847633 273.996007 450.896527 278.670112 454.807249 283.344216 456.128986 288.018321 452.437551 292.692425 433.983843 297.366530 343.149418 302.040634 357.181862 306.714739 405.127084 311.388843 337.974863 316.062948 359.658269 320.737052 380.099110 325.411157 342.641021 330.085261 317.439895 334.759366 343.370153 339.433470 363.839787 344.107575 382.431449 348.781679 343.306874 353.455784 314.936595 358.129888 363.430184 362.803993 426.438766 367.478097 393.616212 372.152202 286.187085 376.826307 290.941263 381.500411 223.883155 386.174516 278.230124 390.848620 291.981385 395.522725 193.317061 400.196829 308.475057 404.870934 270.243901 409.545038 256.234480 414.219143 263.178623 418.893247 362.704431 423.567352 275.160796 428.241456 267.732282 432.915561 341.672135 437.589665 291.169467 442.263770 339.500638 446.937874 360.703248 451.611979 325.513137 456.286083 386.596548 460.960188 366.225420 465.634292 367.609478 470.308397 304.206877 474.982501 365.437369 479.656606 322.512552 484.330711 372.701150 489.004815 387.083923 493.678920 385.096437 498.353024 408.344852 503.027129 419.400079 507.701233 398.147437 512.375338 427.524984 517.049442 442.917287 521.723547 416.133641 526.397651 414.105038 531.071756 424.529355 535.745860 409.810049 540.419965 423.084653 545.094069 430.886741 549.768174 416.247151 554.442278 392.701727 559.116383 389.422595 563.790487 362.572247 568.464592 414.224920 573.138696 381.111945 577.812801 390.065801 582.486905 329.765957 587.161010 338.714056 591.835115 335.554818 596.509219 355.593273 601.183324 349.510691 605.857428 366.139726 610.531533 336.078984 615.205637 362.337360 619.879742 353.071069 624.553846 448.181449 624.553846 455.656788 619.879742 372.419085 615.205637 381.640933 610.531533 361.777893 605.857428 386.253869 601.183324 368.816552 596.509219 377.197963 591.835115 360.607356 587.161010 364.969489 582.486905 348.537803 577.812801 404.379670 573.138696 399.627260 568.464592 427.452269 563.790487 385.009341 559.116383 405.572349 554.442278 407.310321 549.768174 428.959553 545.094069 436.673140 540.419965 434.123585 535.745860 423.102014 531.071756 435.671541 526.397651 427.047797 521.723547 430.518202 517.049442 452.081144 512.375338 439.265837 507.701233 412.491873 503.027129 434.341714 498.353024 425.161312 493.678920 401.273836 489.004815 401.482021 484.330711 392.835140 479.656606 346.313421 474.982501 386.693742 470.308397 327.025184 465.634292 387.023943 460.960188 386.685236 456.286083 402.299158 451.611979 349.638892 446.937874 379.660558 442.263770 356.501373 437.589665 316.344005 432.915561 355.486948 428.241456 289.915591 423.567352 299.440021 418.893247 380.962450 414.219143 294.260804 409.545038 289.797362 404.870934 301.115214 400.196829 331.551941 395.522725 228.680656 390.848620 309.395485 386.174516 304.277447 381.500411 253.805759 376.826307 314.158430 372.152202 314.049524 367.478097 409.753040 362.803993 438.733036 358.129888 384.615060 353.455784 339.452206 348.781679 362.254551 344.107575 394.001055 339.433470 384.713261 334.759366 362.791811 330.085261 338.010284 325.411157 361.527200 320.737052 388.689797 316.062948 376.820348 311.388843 358.818788 306.714739 418.642491 302.040634 378.402352 297.366530 364.760156 292.692425 446.257372 288.018321 461.057498 283.344216 467.102366 278.670112 464.708015 273.996007 461.731928 269.321903 449.618845 264.647798 471.088909 259.973693 465.094461 255.299589 438.624551 250.625484 457.783049 245.951380 471.185070 241.277275 471.371603 236.603171 462.927685 231.929066 472.961098 227.254962 471.217485 222.580857 455.855558 217.906753 457.623691 213.232648 426.066304 208.558544 464.332249 203.884439 472.291794 199.210335 436.471573 194.536230 467.945978 189.862126 465.293936 185.188021 448.607047 180.513917 449.101796 175.839812 457.575663 171.165708 421.398842 166.491603 445.063059 161.817499 413.211465 157.143394 405.667105 152.469289 442.332407 147.795185 434.419209 143.121080 414.712844 138.446976 428.298763 133.772871 397.196592 129.098767 407.886174 124.424662 414.318792 119.750558 419.317225 115.076453 376.352605 110.402349 391.837521 105.728244 385.019828 101.054140 351.371243 96.380035 416.330612 91.705931 382.969427 87.031826 350.197496 82.357722 395.011261 77.683617 346.821538 73.009513 313.433068 68.335408 329.642977 63.661304 340.140309 58.987199 285.709308 54.313095 316.705561 49.638990 250.523071 44.964885 311.453211 40.290781 461.490561 35.616676 422.936774 30.942572 426.405588 26.268467 457.206365 21.594363 444.664548 16.920258 443.875712 12.246154 499.082290\"/></g><g class=\"series serie-14 color-14\"><path class=\"line reactive\" d=\"M12.246154 489.665328 L16.920258 420.345225 21.594363 428.060867 26.268467 439.122886 30.942572 403.872245 35.616676 402.805296 40.290781 445.452757 44.964885 278.053338 49.638990 189.576161 54.313095 272.807113 58.987199 233.145762 63.661304 236.628982 68.335408 296.302557 73.009513 270.662094 77.683617 311.116644 82.357722 372.368306 87.031826 308.681296 91.705931 357.405661 96.380035 401.551266 101.054140 325.266233 105.728244 361.491081 110.402349 367.359787 115.076453 345.196025 119.750558 389.491906 124.424662 397.539650 129.098767 382.003238 133.772871 372.973498 138.446976 406.997345 143.121080 375.861252 147.795185 409.897474 152.469289 428.321254 157.143394 383.704422 161.817499 393.293255 166.491603 428.878531 171.165708 404.883731 175.839812 443.782611 180.513917 440.948483 185.188021 432.722509 189.862126 450.796206 194.536230 455.533120 199.210335 402.351852 203.884439 455.298760 208.558544 449.122482 213.232648 401.947342 217.906753 435.474780 222.580857 436.011926 227.254962 454.858847 231.929066 460.435227 236.603171 445.452494 241.277275 455.649090 245.951380 455.191818 250.625484 441.949384 255.299589 423.919857 259.973693 451.997697 264.647798 463.364600 269.321903 429.409754 273.996007 447.726305 278.670112 450.381943 283.344216 450.236229 288.018321 445.419335 292.692425 417.903538 297.366530 330.823204 302.040634 346.995873 306.714739 398.263479 311.388843 327.373556 316.062948 353.603553 320.737052 362.024343 325.411157 320.192828 330.085261 293.574610 334.759366 326.152860 339.433470 348.892316 344.107575 374.050121 348.781679 331.250261 353.455784 290.740137 358.129888 339.877341 362.803993 411.140110 367.478097 375.935877 372.152202 265.810521 376.826307 258.438773 381.500411 195.347669 386.174516 253.415768 390.848620 277.517487 395.522725 166.222181 400.196829 292.581112 404.870934 252.749669 409.545038 235.918370 414.219143 246.753433 418.893247 350.664945 423.567352 256.887749 428.241456 250.945118 432.915561 323.875868 437.589665 274.817651 442.263770 330.276761 446.937874 347.399134 451.611979 307.945889 456.286083 379.460326 460.960188 359.837830 465.634292 358.347183 470.308397 292.569725 474.982501 353.223664 479.656606 307.992002 484.330711 358.582459 489.004815 377.550866 493.678920 377.442272 498.353024 399.256279 503.027129 414.468333 507.701233 390.920547 512.375338 422.741815 517.049442 437.761730 521.723547 408.266015 526.397651 406.339011 531.071756 419.888696 535.745860 405.405246 540.419965 420.303488 545.094069 428.140332 549.768174 412.404607 554.442278 388.398368 559.116383 385.902740 563.790487 357.174219 568.464592 411.340124 573.138696 377.515368 577.812801 377.944711 582.486905 321.584002 587.161010 328.542965 591.835115 324.630732 596.509219 347.936043 601.183324 341.319764 605.857428 361.266672 610.531533 329.187785 615.205637 354.624248 619.879742 343.605563 624.553846 445.267627 624.553846 448.181449 619.879742 353.071069 615.205637 362.337360 610.531533 336.078984 605.857428 366.139726 601.183324 349.510691 596.509219 355.593273 591.835115 335.554818 587.161010 338.714056 582.486905 329.765957 577.812801 390.065801 573.138696 381.111945 568.464592 414.224920 563.790487 362.572247 559.116383 389.422595 554.442278 392.701727 549.768174 416.247151 545.094069 430.886741 540.419965 423.084653 535.745860 409.810049 531.071756 424.529355 526.397651 414.105038 521.723547 416.133641 517.049442 442.917287 512.375338 427.524984 507.701233 398.147437 503.027129 419.400079 498.353024 408.344852 493.678920 385.096437 489.004815 387.083923 484.330711 372.701150 479.656606 322.512552 474.982501 365.437369 470.308397 304.206877 465.634292 367.609478 460.960188 366.225420 456.286083 386.596548 451.611979 325.513137 446.937874 360.703248 442.263770 339.500638 437.589665 291.169467 432.915561 341.672135 428.241456 267.732282 423.567352 275.160796 418.893247 362.704431 414.219143 263.178623 409.545038 256.234480 404.870934 270.243901 400.196829 308.475057 395.522725 193.317061 390.848620 291.981385 386.174516 278.230124 381.500411 223.883155 376.826307 290.941263 372.152202 286.187085 367.478097 393.616212 362.803993 426.438766 358.129888 363.430184 353.455784 314.936595 348.781679 343.306874 344.107575 382.431449 339.433470 363.839787 334.759366 343.370153 330.085261 317.439895 325.411157 342.641021 320.737052 380.099110 316.062948 359.658269 311.388843 337.974863 306.714739 405.127084 302.040634 357.181862 297.366530 343.149418 292.692425 433.983843 288.018321 452.437551 283.344216 456.128986 278.670112 454.807249 273.996007 450.896527 269.321903 436.847633 264.647798 465.082718 259.973693 456.037877 255.299589 428.017230 250.625484 446.594253 245.951380 461.606297 241.277275 465.091367 236.603171 455.217364 231.929066 466.414361 227.254962 462.924662 222.580857 447.157450 217.906753 448.527271 213.232648 411.998280 208.558544 459.523215 203.884439 463.736449 199.210335 422.389066 194.536230 462.042578 189.862126 456.738702 185.188021 440.369406 180.513917 443.621659 175.839812 449.186774 171.165708 411.797507 166.491603 434.288154 161.817499 401.364361 157.143394 390.934517 152.469289 435.958848 147.795185 419.098224 143.121080 399.475412 138.446976 417.538520 133.772871 384.599518 129.098767 392.049188 124.424662 403.723989 119.750558 410.502334 115.076453 358.484817 110.402349 377.387704 105.728244 370.854902 101.054140 334.340649 96.380035 406.338796 91.705931 368.025800 87.031826 334.743174 82.357722 382.881071 77.683617 323.184669 73.009513 287.164183 68.335408 309.193618 63.661304 327.725044 58.987199 262.434013 54.313095 291.933672 49.638990 213.037395 44.964885 292.105605 40.290781 453.946535 35.616676 410.898598 30.942572 414.502685 26.268467 449.359232 21.594363 437.797087 16.920258 435.878565 12.246154 496.044910\"/></g><g class=\"series serie-15 color-15\"><path class=\"line reactive\" d=\"M12.246154 484.874576 L16.920258 410.183300 21.594363 421.543555 26.268467 428.440796 30.942572 397.966878 35.616676 392.359726 40.290781 431.238042 44.964885 227.027700 49.638990 107.180572 54.313095 208.091475 58.987199 183.488828 63.661304 190.804309 68.335408 248.764863 73.009513 227.560586 77.683617 283.882612 82.357722 344.773299 87.031826 284.921689 91.705931 327.452771 96.380035 380.940395 101.054140 306.884421 105.728244 336.559902 110.402349 350.796299 115.076453 326.747653 119.750558 369.854218 124.424662 372.678577 129.098767 356.943164 133.772871 347.539312 138.446976 379.931078 143.121080 362.643310 147.795185 391.024814 152.469289 412.568509 157.143394 374.795239 161.817499 380.519901 166.491603 418.071094 171.165708 392.479986 175.839812 439.044620 180.513917 431.842626 185.188021 421.124526 189.862126 447.086689 194.536230 450.960322 199.210335 401.031143 203.884439 454.694292 208.558544 435.898157 213.232648 388.302061 217.906753 422.922679 222.580857 429.183440 227.254962 448.443380 231.929066 452.774375 236.603171 440.838887 241.277275 448.912102 245.951380 450.188004 250.625484 435.081849 255.299589 413.609342 259.973693 443.905540 264.647798 455.671929 269.321903 419.461106 273.996007 431.514224 278.670112 434.585487 283.344216 437.528272 288.018321 431.498772 292.692425 394.273785 297.366530 311.634382 302.040634 333.786845 306.714739 392.470369 311.388843 316.636662 316.062948 342.283594 320.737052 344.082444 325.411157 305.907859 330.085261 278.729550 334.759366 311.899128 339.433470 335.795949 344.107575 353.840803 348.781679 299.126631 353.455784 253.574814 358.129888 326.960138 362.803993 400.823611 367.478097 365.224497 372.152202 242.659039 376.826307 237.713144 381.500411 161.584540 386.174516 217.012269 390.848620 241.463252 395.522725 108.294051 400.196829 260.960822 404.870934 215.603120 409.545038 201.209218 414.219143 211.790828 418.893247 328.083529 423.567352 229.955992 428.241456 222.513494 432.915561 278.660447 437.589665 238.352216 442.263770 296.830948 446.937874 322.119947 451.611979 271.771435 456.286083 343.422014 460.960188 330.842594 465.634292 317.458434 470.308397 254.476936 474.982501 325.083146 479.656606 275.997201 484.330711 330.584843 489.004815 344.498894 493.678920 356.437369 498.353024 375.291230 503.027129 391.062050 507.701233 369.631513 512.375338 398.643163 517.049442 411.995431 521.723547 371.730306 526.397651 372.890545 531.071756 388.965583 535.745860 376.448009 540.419965 390.691185 545.094069 398.958428 549.768174 391.127025 554.442278 364.583387 559.116383 359.632357 563.790487 330.531889 568.464592 382.318456 573.138696 353.590875 577.812801 355.506594 582.486905 291.391653 587.161010 305.489753 591.835115 304.630423 596.509219 324.210725 601.183324 311.805509 605.857428 334.318093 610.531533 298.085808 615.205637 327.771569 619.879742 316.430720 624.553846 430.627413 624.553846 445.267627 619.879742 343.605563 615.205637 354.624248 610.531533 329.187785 605.857428 361.266672 601.183324 341.319764 596.509219 347.936043 591.835115 324.630732 587.161010 328.542965 582.486905 321.584002 577.812801 377.944711 573.138696 377.515368 568.464592 411.340124 563.790487 357.174219 559.116383 385.902740 554.442278 388.398368 549.768174 412.404607 545.094069 428.140332 540.419965 420.303488 535.745860 405.405246 531.071756 419.888696 526.397651 406.339011 521.723547 408.266015 517.049442 437.761730 512.375338 422.741815 507.701233 390.920547 503.027129 414.468333 498.353024 399.256279 493.678920 377.442272 489.004815 377.550866 484.330711 358.582459 479.656606 307.992002 474.982501 353.223664 470.308397 292.569725 465.634292 358.347183 460.960188 359.837830 456.286083 379.460326 451.611979 307.945889 446.937874 347.399134 442.263770 330.276761 437.589665 274.817651 432.915561 323.875868 428.241456 250.945118 423.567352 256.887749 418.893247 350.664945 414.219143 246.753433 409.545038 235.918370 404.870934 252.749669 400.196829 292.581112 395.522725 166.222181 390.848620 277.517487 386.174516 253.415768 381.500411 195.347669 376.826307 258.438773 372.152202 265.810521 367.478097 375.935877 362.803993 411.140110 358.129888 339.877341 353.455784 290.740137 348.781679 331.250261 344.107575 374.050121 339.433470 348.892316 334.759366 326.152860 330.085261 293.574610 325.411157 320.192828 320.737052 362.024343 316.062948 353.603553 311.388843 327.373556 306.714739 398.263479 302.040634 346.995873 297.366530 330.823204 292.692425 417.903538 288.018321 445.419335 283.344216 450.236229 278.670112 450.381943 273.996007 447.726305 269.321903 429.409754 264.647798 463.364600 259.973693 451.997697 255.299589 423.919857 250.625484 441.949384 245.951380 455.191818 241.277275 455.649090 236.603171 445.452494 231.929066 460.435227 227.254962 454.858847 222.580857 436.011926 217.906753 435.474780 213.232648 401.947342 208.558544 449.122482 203.884439 455.298760 199.210335 402.351852 194.536230 455.533120 189.862126 450.796206 185.188021 432.722509 180.513917 440.948483 175.839812 443.782611 171.165708 404.883731 166.491603 428.878531 161.817499 393.293255 157.143394 383.704422 152.469289 428.321254 147.795185 409.897474 143.121080 375.861252 138.446976 406.997345 133.772871 372.973498 129.098767 382.003238 124.424662 397.539650 119.750558 389.491906 115.076453 345.196025 110.402349 367.359787 105.728244 361.491081 101.054140 325.266233 96.380035 401.551266 91.705931 357.405661 87.031826 308.681296 82.357722 372.368306 77.683617 311.116644 73.009513 270.662094 68.335408 296.302557 63.661304 236.628982 58.987199 233.145762 54.313095 272.807113 49.638990 189.576161 44.964885 278.053338 40.290781 445.452757 35.616676 402.805296 30.942572 403.872245 26.268467 439.122886 21.594363 428.060867 16.920258 420.345225 12.246154 489.665328\"/></g><g class=\"series serie-16 color-16\"><path class=\"line reactive\" d=\"M12.246154 483.744364 L16.920258 405.000902 21.594363 417.324961 26.268467 424.360495 30.942572 393.126533 35.616676 386.717273 40.290781 428.452104 44.964885 217.211414 49.638990 90.879654 54.313095 194.973990 58.987199 171.136523 63.661304 181.357764 68.335408 237.535813 73.009513 214.152925 77.683617 273.043288 82.357722 336.149502 87.031826 273.569866 91.705931 316.732134 96.380035 372.749579 101.054140 295.199435 105.728244 326.014888 110.402349 341.043754 115.076453 318.435472 119.750558 358.658096 124.424662 363.975073 129.098767 347.334785 133.772871 338.919344 138.446976 372.911427 143.121080 353.651850 147.795185 386.054562 152.469289 407.357733 157.143394 365.352927 161.817499 371.688567 166.491603 410.952193 171.165708 385.594443 175.839812 433.968221 180.513917 425.616331 185.188021 415.256367 189.862126 441.788814 194.536230 447.245056 199.210335 397.096147 203.884439 452.528745 208.558544 433.031998 213.232648 384.649348 217.906753 420.898857 222.580857 426.051061 227.254962 445.386285 231.929066 449.491452 236.603171 437.849625 241.277275 445.298004 245.951380 446.985545 250.625484 431.852007 255.299589 408.814641 259.973693 439.406235 264.647798 450.953675 269.321903 414.650285 273.996007 427.391424 278.670112 430.836829 283.344216 433.636914 288.018321 426.132785 292.692425 388.277409 297.366530 302.853229 302.040634 322.560693 306.714739 383.658356 311.388843 300.407889 316.062948 326.925670 320.737052 331.121962 325.411157 292.407909 330.085261 263.937198 334.759366 301.550733 339.433470 327.542682 344.107575 343.465123 348.781679 290.518849 353.455784 246.762259 358.129888 322.190257 362.803993 394.940349 367.478097 356.630946 372.152202 228.496193 376.826307 224.789514 381.500411 146.752221 386.174516 205.420060 390.848620 229.411315 395.522725 98.552928 400.196829 252.329295 404.870934 205.993122 409.545038 188.623277 414.219143 202.027290 418.893247 318.963306 423.567352 218.863207 428.241456 206.531383 432.915561 257.964470 437.589665 220.886595 442.263770 286.239687 446.937874 311.950081 451.611979 258.902999 456.286083 329.876279 460.960188 321.769940 465.634292 308.102602 470.308397 245.510185 474.982501 317.086593 479.656606 262.387319 484.330711 323.037713 489.004815 337.451526 493.678920 348.375084 498.353024 368.660121 503.027129 384.368436 507.701233 366.146597 512.375338 391.916702 517.049442 408.536651 521.723547 366.956669 526.397651 367.155253 531.071756 384.528138 535.745860 370.501439 540.419965 385.900919 545.094069 394.821819 549.768174 386.546413 554.442278 358.731188 559.116383 352.335814 563.790487 323.275941 568.464592 376.223801 573.138696 346.681903 577.812801 346.703453 582.486905 282.942673 587.161010 294.739765 591.835115 295.678247 596.509219 316.221088 601.183324 303.387449 605.857428 325.686031 610.531533 288.321170 615.205637 318.979331 619.879742 308.559645 624.553846 424.991436 624.553846 430.627413 619.879742 316.430720 615.205637 327.771569 610.531533 298.085808 605.857428 334.318093 601.183324 311.805509 596.509219 324.210725 591.835115 304.630423 587.161010 305.489753 582.486905 291.391653 577.812801 355.506594 573.138696 353.590875 568.464592 382.318456 563.790487 330.531889 559.116383 359.632357 554.442278 364.583387 549.768174 391.127025 545.094069 398.958428 540.419965 390.691185 535.745860 376.448009 531.071756 388.965583 526.397651 372.890545 521.723547 371.730306 517.049442 411.995431 512.375338 398.643163 507.701233 369.631513 503.027129 391.062050 498.353024 375.291230 493.678920 356.437369 489.004815 344.498894 484.330711 330.584843 479.656606 275.997201 474.982501 325.083146 470.308397 254.476936 465.634292 317.458434 460.960188 330.842594 456.286083 343.422014 451.611979 271.771435 446.937874 322.119947 442.263770 296.830948 437.589665 238.352216 432.915561 278.660447 428.241456 222.513494 423.567352 229.955992 418.893247 328.083529 414.219143 211.790828 409.545038 201.209218 404.870934 215.603120 400.196829 260.960822 395.522725 108.294051 390.848620 241.463252 386.174516 217.012269 381.500411 161.584540 376.826307 237.713144 372.152202 242.659039 367.478097 365.224497 362.803993 400.823611 358.129888 326.960138 353.455784 253.574814 348.781679 299.126631 344.107575 353.840803 339.433470 335.795949 334.759366 311.899128 330.085261 278.729550 325.411157 305.907859 320.737052 344.082444 316.062948 342.283594 311.388843 316.636662 306.714739 392.470369 302.040634 333.786845 297.366530 311.634382 292.692425 394.273785 288.018321 431.498772 283.344216 437.528272 278.670112 434.585487 273.996007 431.514224 269.321903 419.461106 264.647798 455.671929 259.973693 443.905540 255.299589 413.609342 250.625484 435.081849 245.951380 450.188004 241.277275 448.912102 236.603171 440.838887 231.929066 452.774375 227.254962 448.443380 222.580857 429.183440 217.906753 422.922679 213.232648 388.302061 208.558544 435.898157 203.884439 454.694292 199.210335 401.031143 194.536230 450.960322 189.862126 447.086689 185.188021 421.124526 180.513917 431.842626 175.839812 439.044620 171.165708 392.479986 166.491603 418.071094 161.817499 380.519901 157.143394 374.795239 152.469289 412.568509 147.795185 391.024814 143.121080 362.643310 138.446976 379.931078 133.772871 347.539312 129.098767 356.943164 124.424662 372.678577 119.750558 369.854218 115.076453 326.747653 110.402349 350.796299 105.728244 336.559902 101.054140 306.884421 96.380035 380.940395 91.705931 327.452771 87.031826 284.921689 82.357722 344.773299 77.683617 283.882612 73.009513 227.560586 68.335408 248.764863 63.661304 190.804309 58.987199 183.488828 54.313095 208.091475 49.638990 107.180572 44.964885 227.027700 40.290781 431.238042 35.616676 392.359726 30.942572 397.966878 26.268467 428.440796 21.594363 421.543555 16.920258 410.183300 12.246154 484.874576\"/></g><g class=\"series serie-17 color-17\"><path class=\"line reactive\" d=\"M12.246154 483.178972 L16.920258 399.882728 21.594363 413.071724 26.268467 420.944508 30.942572 388.424026 35.616676 382.247113 40.290781 424.700612 44.964885 209.533528 49.638990 82.791817 54.313095 186.479806 58.987199 162.759240 63.661304 177.196918 68.335408 231.576295 73.009513 207.468250 77.683617 269.783755 82.357722 333.879931 87.031826 264.948541 91.705931 310.719961 96.380035 368.287513 101.054140 291.578490 105.728244 319.159903 110.402349 337.986554 115.076453 312.853598 119.750558 352.097631 124.424662 360.607499 129.098767 343.000429 133.772871 336.244188 138.446976 370.425634 143.121080 349.950777 147.795185 379.717216 152.469289 392.852850 157.143394 354.015405 161.817499 365.056269 166.491603 407.942947 171.165708 380.895442 175.839812 429.405264 180.513917 421.912614 185.188021 411.116170 189.862126 439.889491 194.536230 443.113095 199.210335 391.025677 203.884439 449.200064 208.558544 430.490143 213.232648 382.498970 217.906753 418.549769 222.580857 424.450749 227.254962 443.362057 231.929066 448.015169 236.603171 435.610709 241.277275 444.424682 245.951380 445.656300 250.625484 430.153493 255.299589 407.845354 259.973693 437.100824 264.647798 447.846707 269.321903 412.620760 273.996007 425.719589 278.670112 429.583618 283.344216 431.978176 288.018321 424.475683 292.692425 382.479380 297.366530 298.379759 302.040634 318.400013 306.714739 381.026387 311.388843 296.593379 316.062948 322.821852 320.737052 325.144510 325.411157 286.500746 330.085261 257.944811 334.759366 297.244577 339.433470 323.717979 344.107575 339.968844 348.781679 285.552789 353.455784 242.397992 358.129888 318.010164 362.803993 393.597035 367.478097 353.406330 372.152202 218.537956 376.826307 198.672415 381.500411 133.341013 386.174516 195.487377 390.848620 215.699153 395.522725 82.378106 400.196829 240.345187 404.870934 191.720670 409.545038 177.208260 414.219143 191.925038 418.893247 312.303441 423.567352 209.310386 428.241456 196.474340 432.915561 242.203917 437.589665 210.448794 442.263770 278.039699 446.937874 304.882222 451.611979 248.108234 456.286083 325.343758 460.960188 316.161435 465.634292 301.637808 470.308397 238.588989 474.982501 311.452853 479.656606 252.524436 484.330711 315.306042 489.004815 330.469194 493.678920 343.650454 498.353024 364.201894 503.027129 381.115508 507.701233 363.267499 512.375338 387.998272 517.049442 404.763231 521.723547 364.381304 526.397651 363.303555 531.071756 381.975292 535.745860 368.169056 540.419965 383.654889 545.094069 391.296352 549.768174 383.296636 554.442278 354.853675 559.116383 347.168276 563.790487 319.219871 568.464592 372.375635 573.138696 343.136096 577.812801 338.912582 582.486905 273.689852 587.161010 286.454606 591.835115 285.430583 596.509219 308.183048 601.183324 295.654709 605.857428 320.553061 610.531533 281.042465 615.205637 313.774211 619.879742 300.264026 624.553846 421.427085 624.553846 424.991436 619.879742 308.559645 615.205637 318.979331 610.531533 288.321170 605.857428 325.686031 601.183324 303.387449 596.509219 316.221088 591.835115 295.678247 587.161010 294.739765 582.486905 282.942673 577.812801 346.703453 573.138696 346.681903 568.464592 376.223801 563.790487 323.275941 559.116383 352.335814 554.442278 358.731188 549.768174 386.546413 545.094069 394.821819 540.419965 385.900919 535.745860 370.501439 531.071756 384.528138 526.397651 367.155253 521.723547 366.956669 517.049442 408.536651 512.375338 391.916702 507.701233 366.146597 503.027129 384.368436 498.353024 368.660121 493.678920 348.375084 489.004815 337.451526 484.330711 323.037713 479.656606 262.387319 474.982501 317.086593 470.308397 245.510185 465.634292 308.102602 460.960188 321.769940 456.286083 329.876279 451.611979 258.902999 446.937874 311.950081 442.263770 286.239687 437.589665 220.886595 432.915561 257.964470 428.241456 206.531383 423.567352 218.863207 418.893247 318.963306 414.219143 202.027290 409.545038 188.623277 404.870934 205.993122 400.196829 252.329295 395.522725 98.552928 390.848620 229.411315 386.174516 205.420060 381.500411 146.752221 376.826307 224.789514 372.152202 228.496193 367.478097 356.630946 362.803993 394.940349 358.129888 322.190257 353.455784 246.762259 348.781679 290.518849 344.107575 343.465123 339.433470 327.542682 334.759366 301.550733 330.085261 263.937198 325.411157 292.407909 320.737052 331.121962 316.062948 326.925670 311.388843 300.407889 306.714739 383.658356 302.040634 322.560693 297.366530 302.853229 292.692425 388.277409 288.018321 426.132785 283.344216 433.636914 278.670112 430.836829 273.996007 427.391424 269.321903 414.650285 264.647798 450.953675 259.973693 439.406235 255.299589 408.814641 250.625484 431.852007 245.951380 446.985545 241.277275 445.298004 236.603171 437.849625 231.929066 449.491452 227.254962 445.386285 222.580857 426.051061 217.906753 420.898857 213.232648 384.649348 208.558544 433.031998 203.884439 452.528745 199.210335 397.096147 194.536230 447.245056 189.862126 441.788814 185.188021 415.256367 180.513917 425.616331 175.839812 433.968221 171.165708 385.594443 166.491603 410.952193 161.817499 371.688567 157.143394 365.352927 152.469289 407.357733 147.795185 386.054562 143.121080 353.651850 138.446976 372.911427 133.772871 338.919344 129.098767 347.334785 124.424662 363.975073 119.750558 358.658096 115.076453 318.435472 110.402349 341.043754 105.728244 326.014888 101.054140 295.199435 96.380035 372.749579 91.705931 316.732134 87.031826 273.569866 82.357722 336.149502 77.683617 273.043288 73.009513 214.152925 68.335408 237.535813 63.661304 181.357764 58.987199 171.136523 54.313095 194.973990 49.638990 90.879654 44.964885 217.211414 40.290781 428.452104 35.616676 386.717273 30.942572 393.126533 26.268467 424.360495 21.594363 417.324961 16.920258 405.000902 12.246154 483.744364\"/></g><g class=\"series serie-18 color-18\"><path class=\"line reactive\" d=\"M12.246154 482.168205 L16.920258 396.579308 21.594363 409.750840 26.268467 419.230279 30.942572 385.260908 35.616676 377.804320 40.290781 421.236182 44.964885 201.828144 49.638990 75.070459 54.313095 180.438738 58.987199 154.819561 63.661304 171.564159 68.335408 224.006626 73.009513 202.516535 77.683617 263.755205 82.357722 328.965624 87.031826 260.094782 91.705931 304.603306 96.380035 363.558504 101.054140 284.385559 105.728244 310.750772 110.402349 332.480327 115.076453 303.880374 119.750558 346.298635 124.424662 355.368236 129.098767 337.357317 133.772871 331.162951 138.446976 366.249156 143.121080 343.819494 147.795185 375.139603 152.469289 387.114729 157.143394 348.910624 161.817499 360.625874 166.491603 404.512751 171.165708 375.443733 175.839812 425.032605 180.513917 419.081291 185.188021 406.778026 189.862126 436.547385 194.536230 441.336048 199.210335 387.766206 203.884439 446.283371 208.558544 427.211348 213.232648 379.796490 217.906753 416.387660 222.580857 422.526816 227.254962 441.447885 231.929066 446.511144 236.603171 434.282235 241.277275 441.638305 245.951380 442.652980 250.625484 427.478327 255.299589 405.531262 259.973693 435.144833 264.647798 445.573851 269.321903 410.228828 273.996007 423.799506 278.670112 427.736891 283.344216 428.801676 288.018321 421.200171 292.692425 376.865359 297.366530 292.240480 302.040634 310.678650 306.714739 376.249115 311.388843 289.522589 316.062948 314.889660 320.737052 318.386413 325.411157 278.118669 330.085261 249.032444 334.759366 286.898796 339.433470 314.510036 344.107575 331.555195 348.781679 276.206277 353.455784 233.450600 358.129888 311.443812 362.803993 389.932415 367.478097 346.374350 372.152202 206.490891 376.826307 184.207097 381.500411 121.835488 386.174516 187.685303 390.848620 206.819258 395.522725 70.693288 400.196829 230.789994 404.870934 183.032646 409.545038 165.662903 414.219143 180.554866 418.893247 306.109708 423.567352 200.676672 428.241456 183.635213 432.915561 231.426141 437.589665 198.503697 442.263770 271.308826 446.937874 298.808948 451.611979 238.105816 456.286083 320.366612 460.960188 310.548931 465.634292 295.375588 470.308397 231.098831 474.982501 305.316558 479.656606 244.235171 484.330711 308.281875 489.004815 325.841784 493.678920 337.418439 498.353024 357.295157 503.027129 373.699908 507.701233 356.285536 512.375338 382.547388 517.049442 399.335428 521.723547 358.913149 526.397651 357.184824 531.071756 377.738504 535.745860 363.278983 540.419965 378.931036 545.094069 386.645049 549.768174 378.168819 554.442278 346.671590 559.116383 339.292182 563.790487 305.974360 568.464592 360.202469 573.138696 328.692178 577.812801 325.305130 582.486905 258.094135 587.161010 272.680011 591.835115 270.213383 596.509219 293.922206 601.183324 284.600671 605.857428 311.534898 610.531533 269.998766 615.205637 304.542114 619.879742 287.289884 624.553846 415.807939 624.553846 421.427085 619.879742 300.264026 615.205637 313.774211 610.531533 281.042465 605.857428 320.553061 601.183324 295.654709 596.509219 308.183048 591.835115 285.430583 587.161010 286.454606 582.486905 273.689852 577.812801 338.912582 573.138696 343.136096 568.464592 372.375635 563.790487 319.219871 559.116383 347.168276 554.442278 354.853675 549.768174 383.296636 545.094069 391.296352 540.419965 383.654889 535.745860 368.169056 531.071756 381.975292 526.397651 363.303555 521.723547 364.381304 517.049442 404.763231 512.375338 387.998272 507.701233 363.267499 503.027129 381.115508 498.353024 364.201894 493.678920 343.650454 489.004815 330.469194 484.330711 315.306042 479.656606 252.524436 474.982501 311.452853 470.308397 238.588989 465.634292 301.637808 460.960188 316.161435 456.286083 325.343758 451.611979 248.108234 446.937874 304.882222 442.263770 278.039699 437.589665 210.448794 432.915561 242.203917 428.241456 196.474340 423.567352 209.310386 418.893247 312.303441 414.219143 191.925038 409.545038 177.208260 404.870934 191.720670 400.196829 240.345187 395.522725 82.378106 390.848620 215.699153 386.174516 195.487377 381.500411 133.341013 376.826307 198.672415 372.152202 218.537956 367.478097 353.406330 362.803993 393.597035 358.129888 318.010164 353.455784 242.397992 348.781679 285.552789 344.107575 339.968844 339.433470 323.717979 334.759366 297.244577 330.085261 257.944811 325.411157 286.500746 320.737052 325.144510 316.062948 322.821852 311.388843 296.593379 306.714739 381.026387 302.040634 318.400013 297.366530 298.379759 292.692425 382.479380 288.018321 424.475683 283.344216 431.978176 278.670112 429.583618 273.996007 425.719589 269.321903 412.620760 264.647798 447.846707 259.973693 437.100824 255.299589 407.845354 250.625484 430.153493 245.951380 445.656300 241.277275 444.424682 236.603171 435.610709 231.929066 448.015169 227.254962 443.362057 222.580857 424.450749 217.906753 418.549769 213.232648 382.498970 208.558544 430.490143 203.884439 449.200064 199.210335 391.025677 194.536230 443.113095 189.862126 439.889491 185.188021 411.116170 180.513917 421.912614 175.839812 429.405264 171.165708 380.895442 166.491603 407.942947 161.817499 365.056269 157.143394 354.015405 152.469289 392.852850 147.795185 379.717216 143.121080 349.950777 138.446976 370.425634 133.772871 336.244188 129.098767 343.000429 124.424662 360.607499 119.750558 352.097631 115.076453 312.853598 110.402349 337.986554 105.728244 319.159903 101.054140 291.578490 96.380035 368.287513 91.705931 310.719961 87.031826 264.948541 82.357722 333.879931 77.683617 269.783755 73.009513 207.468250 68.335408 231.576295 63.661304 177.196918 58.987199 162.759240 54.313095 186.479806 49.638990 82.791817 44.964885 209.533528 40.290781 424.700612 35.616676 382.247113 30.942572 388.424026 26.268467 420.944508 21.594363 413.071724 16.920258 399.882728 12.246154 483.178972\"/></g><g class=\"series serie-19 color-19\"><path class=\"line reactive\" d=\"M12.246154 479.064580 L16.920258 388.654049 21.594363 406.233875 26.268467 417.116623 30.942572 382.375539 35.616676 374.422761 40.290781 419.628027 44.964885 168.906224 49.638990 10.269231 54.313095 132.072305 58.987199 114.911053 63.661304 145.466455 68.335408 189.834593 73.009513 174.766175 77.683617 242.155504 82.357722 312.056237 87.031826 247.596874 91.705931 290.709306 96.380035 355.168667 101.054140 273.966614 105.728244 299.499220 110.402349 323.357552 115.076453 292.802143 119.750558 335.914571 124.424662 345.123052 129.098767 330.473197 133.772871 323.357553 138.446976 357.261502 143.121080 338.844543 147.795185 369.399954 152.469289 381.119837 157.143394 343.448784 161.817499 354.331530 166.491603 399.955365 171.165708 370.237085 175.839812 421.302296 180.513917 415.442353 185.188021 402.048201 189.862126 434.696449 194.536230 439.719256 199.210335 386.142647 203.884439 444.323496 208.558544 418.372324 213.232648 374.422761 217.906753 411.256681 222.580857 419.628028 227.254962 438.882121 231.929066 443.067793 236.603171 432.185044 241.277275 439.719255 245.951380 441.393524 250.625484 423.813701 255.299589 402.048202 259.973693 430.510776 264.647798 442.230659 269.321903 406.233873 273.996007 421.302295 278.670112 426.743670 283.344216 425.069400 288.018321 417.535190 292.692425 368.562818 297.366530 242.155504 302.040634 260.991031 306.714739 338.007407 311.388843 240.062663 316.062948 265.176704 320.737052 261.409595 325.411157 227.505649 330.085261 188.160323 334.759366 237.969827 339.433470 269.362373 344.107575 290.290741 348.781679 240.481235 353.455784 227.505649 358.129888 308.289130 362.803993 387.398346 367.478097 339.681678 372.152202 190.253165 376.826307 167.650526 381.500411 104.865432 386.174516 173.510468 390.848620 191.090296 395.522725 57.985905 400.196829 217.041468 404.870934 171.417635 409.545038 149.652135 414.219143 167.231960 418.893247 297.824953 423.567352 192.764563 428.241456 160.116318 432.915561 201.973046 437.589665 170.161930 442.263770 246.341175 446.937874 282.337962 451.611979 217.041470 456.286083 300.754919 460.960188 296.150679 465.634292 279.407990 470.308397 218.715737 474.982501 293.639278 479.656606 231.691320 484.330711 297.406381 489.004815 316.241910 493.678920 332.147466 498.353024 354.331531 503.027129 367.725684 507.701233 350.564424 512.375338 376.515598 517.049442 393.676855 521.723547 350.564425 526.397651 350.145860 531.071756 371.074224 535.745860 355.168665 540.419965 371.492790 545.094069 378.608434 549.768174 372.748492 554.442278 332.984600 559.116383 330.054633 563.790487 296.150680 568.464592 347.215887 573.138696 315.823342 577.812801 314.986210 582.486905 248.015448 587.161010 262.246729 591.835115 260.572461 596.509219 285.686503 601.183324 274.803752 605.857428 305.359162 610.531533 259.735324 615.205637 296.987817 619.879742 279.407989 624.553846 410.838113 624.553846 415.807939 619.879742 287.289884 615.205637 304.542114 610.531533 269.998766 605.857428 311.534898 601.183324 284.600671 596.509219 293.922206 591.835115 270.213383 587.161010 272.680011 582.486905 258.094135 577.812801 325.305130 573.138696 328.692178 568.464592 360.202469 563.790487 305.974360 559.116383 339.292182 554.442278 346.671590 549.768174 378.168819 545.094069 386.645049 540.419965 378.931036 535.745860 363.278983 531.071756 377.738504 526.397651 357.184824 521.723547 358.913149 517.049442 399.335428 512.375338 382.547388 507.701233 356.285536 503.027129 373.699908 498.353024 357.295157 493.678920 337.418439 489.004815 325.841784 484.330711 308.281875 479.656606 244.235171 474.982501 305.316558 470.308397 231.098831 465.634292 295.375588 460.960188 310.548931 456.286083 320.366612 451.611979 238.105816 446.937874 298.808948 442.263770 271.308826 437.589665 198.503697 432.915561 231.426141 428.241456 183.635213 423.567352 200.676672 418.893247 306.109708 414.219143 180.554866 409.545038 165.662903 404.870934 183.032646 400.196829 230.789994 395.522725 70.693288 390.848620 206.819258 386.174516 187.685303 381.500411 121.835488 376.826307 184.207097 372.152202 206.490891 367.478097 346.374350 362.803993 389.932415 358.129888 311.443812 353.455784 233.450600 348.781679 276.206277 344.107575 331.555195 339.433470 314.510036 334.759366 286.898796 330.085261 249.032444 325.411157 278.118669 320.737052 318.386413 316.062948 314.889660 311.388843 289.522589 306.714739 376.249115 302.040634 310.678650 297.366530 292.240480 292.692425 376.865359 288.018321 421.200171 283.344216 428.801676 278.670112 427.736891 273.996007 423.799506 269.321903 410.228828 264.647798 445.573851 259.973693 435.144833 255.299589 405.531262 250.625484 427.478327 245.951380 442.652980 241.277275 441.638305 236.603171 434.282235 231.929066 446.511144 227.254962 441.447885 222.580857 422.526816 217.906753 416.387660 213.232648 379.796490 208.558544 427.211348 203.884439 446.283371 199.210335 387.766206 194.536230 441.336048 189.862126 436.547385 185.188021 406.778026 180.513917 419.081291 175.839812 425.032605 171.165708 375.443733 166.491603 404.512751 161.817499 360.625874 157.143394 348.910624 152.469289 387.114729 147.795185 375.139603 143.121080 343.819494 138.446976 366.249156 133.772871 331.162951 129.098767 337.357317 124.424662 355.368236 119.750558 346.298635 115.076453 303.880374 110.402349 332.480327 105.728244 310.750772 101.054140 284.385559 96.380035 363.558504 91.705931 304.603306 87.031826 260.094782 82.357722 328.965624 77.683617 263.755205 73.009513 202.516535 68.335408 224.006626 63.661304 171.564159 58.987199 154.819561 54.313095 180.438738 49.638990 75.070459 44.964885 201.828144 40.290781 421.236182 35.616676 377.804320 30.942572 385.260908 26.268467 419.230279 21.594363 409.750840 16.920258 396.579308 12.246154 482.168205\"/></g></g><g class=\"titles\"><text class=\"title plot_title\" x=\"400.0\" y=\"26\">Topics</text></g><g class=\"plot overlay\" transform=\"translate(143, 46)\"><g class=\"series serie-0 color-0\"/><g class=\"series serie-1 color-1\"/><g class=\"series serie-2 color-2\"/><g class=\"series serie-3 color-3\"/><g class=\"series serie-4 color-4\"/><g class=\"series serie-5 color-5\"/><g class=\"series serie-6 color-6\"/><g class=\"series serie-7 color-7\"/><g class=\"series serie-8 color-8\"/><g class=\"series serie-9 color-9\"/><g class=\"series serie-10 color-10\"/><g class=\"series serie-11 color-11\"/><g class=\"series serie-12 color-12\"/><g class=\"series serie-13 color-13\"/><g class=\"series serie-14 color-14\"/><g class=\"series serie-15 color-15\"/><g class=\"series serie-16 color-16\"/><g class=\"series serie-17 color-17\"/><g class=\"series serie-18 color-18\"/><g class=\"series serie-19 color-19\"/></g><g class=\"plot text-overlay\" transform=\"translate(143, 46)\"><g class=\"series serie-0 color-0\"/><g class=\"series serie-1 color-1\"/><g class=\"series serie-2 color-2\"/><g class=\"series serie-3 color-3\"/><g class=\"series serie-4 color-4\"/><g class=\"series serie-5 color-5\"/><g class=\"series serie-6 color-6\"/><g class=\"series serie-7 color-7\"/><g class=\"series serie-8 color-8\"/><g class=\"series serie-9 color-9\"/><g class=\"series serie-10 color-10\"/><g class=\"series serie-11 color-11\"/><g class=\"series serie-12 color-12\"/><g class=\"series serie-13 color-13\"/><g class=\"series serie-14 color-14\"/><g class=\"series serie-15 color-15\"/><g class=\"series serie-16 color-16\"/><g class=\"series serie-17 color-17\"/><g class=\"series serie-18 color-18\"/><g class=\"series serie-19 color-19\"/></g><g class=\"plot tooltip-overlay\" transform=\"translate(143, 46)\"><g class=\"tooltip\" style=\"opacity: 0\" transform=\"translate(0 0)\"><rect class=\"tooltip-box\" height=\"0\" rx=\"0\" ry=\"0\" width=\"0\"/><g class=\"text\"/></g></g><g class=\"legends\" transform=\"translate(10, 56)\"><g class=\"legend reactive activate-serie\" id=\"activate-serie-0\"><rect class=\"color-0 reactive\" height=\"12\" width=\"12\" x=\"0.0\" y=\"1.0\"/><text x=\"17.0\" y=\"11.2\">topic_0</text></g><g class=\"legend reactive activate-serie\" id=\"activate-serie-1\"><rect class=\"color-1 reactive\" height=\"12\" width=\"12\" x=\"0.0\" y=\"22.0\"/><text x=\"17.0\" y=\"32.2\">topic_1</text></g><g class=\"legend reactive activate-serie\" id=\"activate-serie-2\"><rect class=\"color-2 reactive\" height=\"12\" width=\"12\" x=\"0.0\" y=\"43.0\"/><text x=\"17.0\" y=\"53.2\">topic_2</text></g><g class=\"legend reactive activate-serie\" id=\"activate-serie-3\"><rect class=\"color-3 reactive\" height=\"12\" width=\"12\" x=\"0.0\" y=\"64.0\"/><text x=\"17.0\" y=\"74.2\">topic_3</text></g><g class=\"legend reactive activate-serie\" id=\"activate-serie-4\"><rect class=\"color-4 reactive\" height=\"12\" width=\"12\" x=\"0.0\" y=\"85.0\"/><text x=\"17.0\" y=\"95.2\">topic_4</text></g><g class=\"legend reactive activate-serie\" id=\"activate-serie-5\"><rect class=\"color-5 reactive\" height=\"12\" width=\"12\" x=\"0.0\" y=\"106.0\"/><text x=\"17.0\" y=\"116.2\">topic_5</text></g><g class=\"legend reactive activate-serie\" id=\"activate-serie-6\"><rect class=\"color-6 reactive\" height=\"12\" width=\"12\" x=\"0.0\" y=\"127.0\"/><text x=\"17.0\" y=\"137.2\">topic_6</text></g><g class=\"legend reactive activate-serie\" id=\"activate-serie-7\"><rect class=\"color-7 reactive\" height=\"12\" width=\"12\" x=\"0.0\" y=\"148.0\"/><text x=\"17.0\" y=\"158.2\">topic_7</text></g><g class=\"legend reactive activate-serie\" id=\"activate-serie-8\"><rect class=\"color-8 reactive\" height=\"12\" width=\"12\" x=\"0.0\" y=\"169.0\"/><text x=\"17.0\" y=\"179.2\">topic_8</text></g><g class=\"legend reactive activate-serie\" id=\"activate-serie-9\"><rect class=\"color-9 reactive\" height=\"12\" width=\"12\" x=\"0.0\" y=\"190.0\"/><text x=\"17.0\" y=\"200.2\">topic_9</text></g><g class=\"legend reactive activate-serie\" id=\"activate-serie-10\"><rect class=\"color-10 reactive\" height=\"12\" width=\"12\" x=\"0.0\" y=\"211.0\"/><text x=\"17.0\" y=\"221.2\">topic_10</text></g><g class=\"legend reactive activate-serie\" id=\"activate-serie-11\"><rect class=\"color-11 reactive\" height=\"12\" width=\"12\" x=\"0.0\" y=\"232.0\"/><text x=\"17.0\" y=\"242.2\">topic_11</text></g><g class=\"legend reactive activate-serie\" id=\"activate-serie-12\"><rect class=\"color-12 reactive\" height=\"12\" width=\"12\" x=\"0.0\" y=\"253.0\"/><text x=\"17.0\" y=\"263.2\">topic_12</text></g><g class=\"legend reactive activate-serie\" id=\"activate-serie-13\"><rect class=\"color-13 reactive\" height=\"12\" width=\"12\" x=\"0.0\" y=\"274.0\"/><text x=\"17.0\" y=\"284.2\">topic_13</text></g><g class=\"legend reactive activate-serie\" id=\"activate-serie-14\"><rect class=\"color-14 reactive\" height=\"12\" width=\"12\" x=\"0.0\" y=\"295.0\"/><text x=\"17.0\" y=\"305.2\">topic_14</text></g><g class=\"legend reactive activate-serie\" id=\"activate-serie-15\"><rect class=\"color-15 reactive\" height=\"12\" width=\"12\" x=\"0.0\" y=\"316.0\"/><text x=\"17.0\" y=\"326.2\">topic_15</text></g><g class=\"legend reactive activate-serie\" id=\"activate-serie-16\"><rect class=\"color-16 reactive\" height=\"12\" width=\"12\" x=\"0.0\" y=\"337.0\"/><text x=\"17.0\" y=\"347.2\">topic_16</text></g><g class=\"legend reactive activate-serie\" id=\"activate-serie-17\"><rect class=\"color-17 reactive\" height=\"12\" width=\"12\" x=\"0.0\" y=\"358.0\"/><text x=\"17.0\" y=\"368.2\">topic_17</text></g><g class=\"legend reactive activate-serie\" id=\"activate-serie-18\"><rect class=\"color-18 reactive\" height=\"12\" width=\"12\" x=\"0.0\" y=\"379.0\"/><text x=\"17.0\" y=\"389.2\">topic_18</text></g><g class=\"legend reactive activate-serie\" id=\"activate-serie-19\"><rect class=\"color-19 reactive\" height=\"12\" width=\"12\" x=\"0.0\" y=\"400.0\"/><text x=\"17.0\" y=\"410.2\">topic_19</text></g></g><g class=\"legends\" transform=\"translate(790, 56)\"/></g></svg>\n",
       "    </figure>\n",
       "  </body>\n",
       "</html>\n"
      ],
      "text/plain": [
       "<IPython.core.display.HTML object>"
      ]
     },
     "execution_count": 87,
     "metadata": {},
     "output_type": "execute_result"
    }
   ],
   "source": [
    "line_chart = pygal.StackedLine(fill=True, show_dots=False)\n",
    "line_chart.title = 'Topics'\n",
    "for topic in topics:\n",
    "    line_chart.add(topic, gb[topic].values)\n",
    "    \n",
    "HTML(html_pygal.format(pygal_render=line_chart.render(is_unicode=True)))"
   ]
  },
  {
   "cell_type": "code",
   "execution_count": 88,
   "metadata": {
    "ExecuteTime": {
     "end_time": "2019-02-13T23:08:02.366944Z",
     "start_time": "2019-02-13T23:08:02.304749Z"
    }
   },
   "outputs": [],
   "source": [
    "line_chart.render_to_file(f\"data/visualization/{'-'.join(name_dataset.split('.'))}_pygal.svg\")"
   ]
  },
  {
   "cell_type": "markdown",
   "metadata": {},
   "source": [
    "## joypy"
   ]
  },
  {
   "cell_type": "code",
   "execution_count": 89,
   "metadata": {
    "ExecuteTime": {
     "end_time": "2019-02-13T23:08:02.370550Z",
     "start_time": "2019-02-13T23:08:02.368425Z"
    }
   },
   "outputs": [],
   "source": [
    "import joypy # !pip install joypy"
   ]
  },
  {
   "cell_type": "code",
   "execution_count": 90,
   "metadata": {
    "ExecuteTime": {
     "end_time": "2019-02-13T23:08:02.390337Z",
     "start_time": "2019-02-13T23:08:02.371803Z"
    },
    "scrolled": true
   },
   "outputs": [
    {
     "name": "stdout",
     "output_type": "stream",
     "text": [
      "(67453, 23)\n"
     ]
    },
    {
     "data": {
      "text/html": [
       "<div>\n",
       "<style scoped>\n",
       "    .dataframe tbody tr th:only-of-type {\n",
       "        vertical-align: middle;\n",
       "    }\n",
       "\n",
       "    .dataframe tbody tr th {\n",
       "        vertical-align: top;\n",
       "    }\n",
       "\n",
       "    .dataframe thead th {\n",
       "        text-align: right;\n",
       "    }\n",
       "</style>\n",
       "<table border=\"1\" class=\"dataframe\">\n",
       "  <thead>\n",
       "    <tr style=\"text-align: right;\">\n",
       "      <th></th>\n",
       "      <th>docID</th>\n",
       "      <th>year</th>\n",
       "      <th>month</th>\n",
       "      <th>topic_0</th>\n",
       "      <th>topic_1</th>\n",
       "      <th>topic_2</th>\n",
       "      <th>topic_3</th>\n",
       "      <th>topic_4</th>\n",
       "      <th>topic_5</th>\n",
       "      <th>topic_6</th>\n",
       "      <th>...</th>\n",
       "      <th>topic_10</th>\n",
       "      <th>topic_11</th>\n",
       "      <th>topic_12</th>\n",
       "      <th>topic_13</th>\n",
       "      <th>topic_14</th>\n",
       "      <th>topic_15</th>\n",
       "      <th>topic_16</th>\n",
       "      <th>topic_17</th>\n",
       "      <th>topic_18</th>\n",
       "      <th>topic_19</th>\n",
       "    </tr>\n",
       "  </thead>\n",
       "  <tbody>\n",
       "    <tr>\n",
       "      <th>0</th>\n",
       "      <td>0</td>\n",
       "      <td>2008</td>\n",
       "      <td>2</td>\n",
       "      <td>0.075365</td>\n",
       "      <td>0.000000</td>\n",
       "      <td>0.404137</td>\n",
       "      <td>0.0</td>\n",
       "      <td>0.000000</td>\n",
       "      <td>0.0</td>\n",
       "      <td>0.000000</td>\n",
       "      <td>...</td>\n",
       "      <td>0.000000</td>\n",
       "      <td>0.000000</td>\n",
       "      <td>0.000000</td>\n",
       "      <td>0.000000</td>\n",
       "      <td>0.000000</td>\n",
       "      <td>0.000000</td>\n",
       "      <td>0.0</td>\n",
       "      <td>0.0</td>\n",
       "      <td>0.0</td>\n",
       "      <td>0.052178</td>\n",
       "    </tr>\n",
       "    <tr>\n",
       "      <th>1</th>\n",
       "      <td>1</td>\n",
       "      <td>2008</td>\n",
       "      <td>2</td>\n",
       "      <td>0.000000</td>\n",
       "      <td>0.000000</td>\n",
       "      <td>0.000000</td>\n",
       "      <td>0.0</td>\n",
       "      <td>0.000000</td>\n",
       "      <td>0.0</td>\n",
       "      <td>0.000000</td>\n",
       "      <td>...</td>\n",
       "      <td>0.000000</td>\n",
       "      <td>0.416634</td>\n",
       "      <td>0.076958</td>\n",
       "      <td>0.000000</td>\n",
       "      <td>0.000000</td>\n",
       "      <td>0.421052</td>\n",
       "      <td>0.0</td>\n",
       "      <td>0.0</td>\n",
       "      <td>0.0</td>\n",
       "      <td>0.003347</td>\n",
       "    </tr>\n",
       "    <tr>\n",
       "      <th>2</th>\n",
       "      <td>2</td>\n",
       "      <td>2008</td>\n",
       "      <td>2</td>\n",
       "      <td>0.000000</td>\n",
       "      <td>0.060302</td>\n",
       "      <td>0.000000</td>\n",
       "      <td>0.0</td>\n",
       "      <td>0.000000</td>\n",
       "      <td>0.0</td>\n",
       "      <td>0.000000</td>\n",
       "      <td>...</td>\n",
       "      <td>0.000000</td>\n",
       "      <td>0.000000</td>\n",
       "      <td>0.000000</td>\n",
       "      <td>0.000000</td>\n",
       "      <td>0.000000</td>\n",
       "      <td>0.000000</td>\n",
       "      <td>0.0</td>\n",
       "      <td>0.0</td>\n",
       "      <td>0.0</td>\n",
       "      <td>0.174430</td>\n",
       "    </tr>\n",
       "    <tr>\n",
       "      <th>3</th>\n",
       "      <td>3</td>\n",
       "      <td>2008</td>\n",
       "      <td>2</td>\n",
       "      <td>0.000000</td>\n",
       "      <td>0.000000</td>\n",
       "      <td>0.000000</td>\n",
       "      <td>0.0</td>\n",
       "      <td>0.000000</td>\n",
       "      <td>0.0</td>\n",
       "      <td>0.000000</td>\n",
       "      <td>...</td>\n",
       "      <td>0.000000</td>\n",
       "      <td>0.441703</td>\n",
       "      <td>0.000000</td>\n",
       "      <td>0.000000</td>\n",
       "      <td>0.487940</td>\n",
       "      <td>0.070356</td>\n",
       "      <td>0.0</td>\n",
       "      <td>0.0</td>\n",
       "      <td>0.0</td>\n",
       "      <td>0.000000</td>\n",
       "    </tr>\n",
       "    <tr>\n",
       "      <th>4</th>\n",
       "      <td>4</td>\n",
       "      <td>2008</td>\n",
       "      <td>2</td>\n",
       "      <td>0.003908</td>\n",
       "      <td>0.005936</td>\n",
       "      <td>0.018436</td>\n",
       "      <td>0.0</td>\n",
       "      <td>0.123395</td>\n",
       "      <td>0.0</td>\n",
       "      <td>0.204657</td>\n",
       "      <td>...</td>\n",
       "      <td>0.057331</td>\n",
       "      <td>0.130793</td>\n",
       "      <td>0.000000</td>\n",
       "      <td>0.034934</td>\n",
       "      <td>0.059186</td>\n",
       "      <td>0.000000</td>\n",
       "      <td>0.0</td>\n",
       "      <td>0.0</td>\n",
       "      <td>0.0</td>\n",
       "      <td>0.000000</td>\n",
       "    </tr>\n",
       "  </tbody>\n",
       "</table>\n",
       "<p>5 rows × 23 columns</p>\n",
       "</div>"
      ],
      "text/plain": [
       "   docID  year  month   topic_0   topic_1   topic_2  topic_3   topic_4  \\\n",
       "0      0  2008      2  0.075365  0.000000  0.404137      0.0  0.000000   \n",
       "1      1  2008      2  0.000000  0.000000  0.000000      0.0  0.000000   \n",
       "2      2  2008      2  0.000000  0.060302  0.000000      0.0  0.000000   \n",
       "3      3  2008      2  0.000000  0.000000  0.000000      0.0  0.000000   \n",
       "4      4  2008      2  0.003908  0.005936  0.018436      0.0  0.123395   \n",
       "\n",
       "   topic_5   topic_6    ...     topic_10  topic_11  topic_12  topic_13  \\\n",
       "0      0.0  0.000000    ...     0.000000  0.000000  0.000000  0.000000   \n",
       "1      0.0  0.000000    ...     0.000000  0.416634  0.076958  0.000000   \n",
       "2      0.0  0.000000    ...     0.000000  0.000000  0.000000  0.000000   \n",
       "3      0.0  0.000000    ...     0.000000  0.441703  0.000000  0.000000   \n",
       "4      0.0  0.204657    ...     0.057331  0.130793  0.000000  0.034934   \n",
       "\n",
       "   topic_14  topic_15  topic_16  topic_17  topic_18  topic_19  \n",
       "0  0.000000  0.000000       0.0       0.0       0.0  0.052178  \n",
       "1  0.000000  0.421052       0.0       0.0       0.0  0.003347  \n",
       "2  0.000000  0.000000       0.0       0.0       0.0  0.174430  \n",
       "3  0.487940  0.070356       0.0       0.0       0.0  0.000000  \n",
       "4  0.059186  0.000000       0.0       0.0       0.0  0.000000  \n",
       "\n",
       "[5 rows x 23 columns]"
      ]
     },
     "execution_count": 90,
     "metadata": {},
     "output_type": "execute_result"
    }
   ],
   "source": [
    "print(joined.shape)\n",
    "joined.head()"
   ]
  },
  {
   "cell_type": "code",
   "execution_count": 91,
   "metadata": {
    "ExecuteTime": {
     "end_time": "2019-02-13T23:08:02.532625Z",
     "start_time": "2019-02-13T23:08:02.391682Z"
    }
   },
   "outputs": [
    {
     "data": {
      "text/html": [
       "<div>\n",
       "<style scoped>\n",
       "    .dataframe tbody tr th:only-of-type {\n",
       "        vertical-align: middle;\n",
       "    }\n",
       "\n",
       "    .dataframe tbody tr th {\n",
       "        vertical-align: top;\n",
       "    }\n",
       "\n",
       "    .dataframe thead th {\n",
       "        text-align: right;\n",
       "    }\n",
       "</style>\n",
       "<table border=\"1\" class=\"dataframe\">\n",
       "  <thead>\n",
       "    <tr style=\"text-align: right;\">\n",
       "      <th></th>\n",
       "      <th>docID</th>\n",
       "      <th>year</th>\n",
       "      <th>month</th>\n",
       "      <th>topic_0</th>\n",
       "      <th>topic_1</th>\n",
       "      <th>topic_2</th>\n",
       "      <th>topic_3</th>\n",
       "      <th>topic_4</th>\n",
       "      <th>topic_5</th>\n",
       "      <th>topic_6</th>\n",
       "      <th>...</th>\n",
       "      <th>topic_11</th>\n",
       "      <th>topic_12</th>\n",
       "      <th>topic_13</th>\n",
       "      <th>topic_14</th>\n",
       "      <th>topic_15</th>\n",
       "      <th>topic_16</th>\n",
       "      <th>topic_17</th>\n",
       "      <th>topic_18</th>\n",
       "      <th>topic_19</th>\n",
       "      <th>date</th>\n",
       "    </tr>\n",
       "  </thead>\n",
       "  <tbody>\n",
       "    <tr>\n",
       "      <th>0</th>\n",
       "      <td>0</td>\n",
       "      <td>2008</td>\n",
       "      <td>2</td>\n",
       "      <td>0.075365</td>\n",
       "      <td>0.000000</td>\n",
       "      <td>0.404137</td>\n",
       "      <td>0.0</td>\n",
       "      <td>0.000000</td>\n",
       "      <td>0.0</td>\n",
       "      <td>0.000000</td>\n",
       "      <td>...</td>\n",
       "      <td>0.000000</td>\n",
       "      <td>0.000000</td>\n",
       "      <td>0.000000</td>\n",
       "      <td>0.000000</td>\n",
       "      <td>0.000000</td>\n",
       "      <td>0.0</td>\n",
       "      <td>0.0</td>\n",
       "      <td>0.0</td>\n",
       "      <td>0.052178</td>\n",
       "      <td>2008-02-01</td>\n",
       "    </tr>\n",
       "    <tr>\n",
       "      <th>1</th>\n",
       "      <td>1</td>\n",
       "      <td>2008</td>\n",
       "      <td>2</td>\n",
       "      <td>0.000000</td>\n",
       "      <td>0.000000</td>\n",
       "      <td>0.000000</td>\n",
       "      <td>0.0</td>\n",
       "      <td>0.000000</td>\n",
       "      <td>0.0</td>\n",
       "      <td>0.000000</td>\n",
       "      <td>...</td>\n",
       "      <td>0.416634</td>\n",
       "      <td>0.076958</td>\n",
       "      <td>0.000000</td>\n",
       "      <td>0.000000</td>\n",
       "      <td>0.421052</td>\n",
       "      <td>0.0</td>\n",
       "      <td>0.0</td>\n",
       "      <td>0.0</td>\n",
       "      <td>0.003347</td>\n",
       "      <td>2008-02-01</td>\n",
       "    </tr>\n",
       "    <tr>\n",
       "      <th>2</th>\n",
       "      <td>2</td>\n",
       "      <td>2008</td>\n",
       "      <td>2</td>\n",
       "      <td>0.000000</td>\n",
       "      <td>0.060302</td>\n",
       "      <td>0.000000</td>\n",
       "      <td>0.0</td>\n",
       "      <td>0.000000</td>\n",
       "      <td>0.0</td>\n",
       "      <td>0.000000</td>\n",
       "      <td>...</td>\n",
       "      <td>0.000000</td>\n",
       "      <td>0.000000</td>\n",
       "      <td>0.000000</td>\n",
       "      <td>0.000000</td>\n",
       "      <td>0.000000</td>\n",
       "      <td>0.0</td>\n",
       "      <td>0.0</td>\n",
       "      <td>0.0</td>\n",
       "      <td>0.174430</td>\n",
       "      <td>2008-02-01</td>\n",
       "    </tr>\n",
       "    <tr>\n",
       "      <th>3</th>\n",
       "      <td>3</td>\n",
       "      <td>2008</td>\n",
       "      <td>2</td>\n",
       "      <td>0.000000</td>\n",
       "      <td>0.000000</td>\n",
       "      <td>0.000000</td>\n",
       "      <td>0.0</td>\n",
       "      <td>0.000000</td>\n",
       "      <td>0.0</td>\n",
       "      <td>0.000000</td>\n",
       "      <td>...</td>\n",
       "      <td>0.441703</td>\n",
       "      <td>0.000000</td>\n",
       "      <td>0.000000</td>\n",
       "      <td>0.487940</td>\n",
       "      <td>0.070356</td>\n",
       "      <td>0.0</td>\n",
       "      <td>0.0</td>\n",
       "      <td>0.0</td>\n",
       "      <td>0.000000</td>\n",
       "      <td>2008-02-01</td>\n",
       "    </tr>\n",
       "    <tr>\n",
       "      <th>4</th>\n",
       "      <td>4</td>\n",
       "      <td>2008</td>\n",
       "      <td>2</td>\n",
       "      <td>0.003908</td>\n",
       "      <td>0.005936</td>\n",
       "      <td>0.018436</td>\n",
       "      <td>0.0</td>\n",
       "      <td>0.123395</td>\n",
       "      <td>0.0</td>\n",
       "      <td>0.204657</td>\n",
       "      <td>...</td>\n",
       "      <td>0.130793</td>\n",
       "      <td>0.000000</td>\n",
       "      <td>0.034934</td>\n",
       "      <td>0.059186</td>\n",
       "      <td>0.000000</td>\n",
       "      <td>0.0</td>\n",
       "      <td>0.0</td>\n",
       "      <td>0.0</td>\n",
       "      <td>0.000000</td>\n",
       "      <td>2008-02-01</td>\n",
       "    </tr>\n",
       "  </tbody>\n",
       "</table>\n",
       "<p>5 rows × 24 columns</p>\n",
       "</div>"
      ],
      "text/plain": [
       "   docID  year  month   topic_0   topic_1   topic_2  topic_3   topic_4  \\\n",
       "0      0  2008      2  0.075365  0.000000  0.404137      0.0  0.000000   \n",
       "1      1  2008      2  0.000000  0.000000  0.000000      0.0  0.000000   \n",
       "2      2  2008      2  0.000000  0.060302  0.000000      0.0  0.000000   \n",
       "3      3  2008      2  0.000000  0.000000  0.000000      0.0  0.000000   \n",
       "4      4  2008      2  0.003908  0.005936  0.018436      0.0  0.123395   \n",
       "\n",
       "   topic_5   topic_6     ...      topic_11  topic_12  topic_13  topic_14  \\\n",
       "0      0.0  0.000000     ...      0.000000  0.000000  0.000000  0.000000   \n",
       "1      0.0  0.000000     ...      0.416634  0.076958  0.000000  0.000000   \n",
       "2      0.0  0.000000     ...      0.000000  0.000000  0.000000  0.000000   \n",
       "3      0.0  0.000000     ...      0.441703  0.000000  0.000000  0.487940   \n",
       "4      0.0  0.204657     ...      0.130793  0.000000  0.034934  0.059186   \n",
       "\n",
       "   topic_15  topic_16  topic_17  topic_18  topic_19        date  \n",
       "0  0.000000       0.0       0.0       0.0  0.052178  2008-02-01  \n",
       "1  0.421052       0.0       0.0       0.0  0.003347  2008-02-01  \n",
       "2  0.000000       0.0       0.0       0.0  0.174430  2008-02-01  \n",
       "3  0.070356       0.0       0.0       0.0  0.000000  2008-02-01  \n",
       "4  0.000000       0.0       0.0       0.0  0.000000  2008-02-01  \n",
       "\n",
       "[5 rows x 24 columns]"
      ]
     },
     "execution_count": 91,
     "metadata": {},
     "output_type": "execute_result"
    }
   ],
   "source": [
    "joined['date'] = ['{}-{:02d}-01'.format(a, b) for a, b in joined[['year', 'month']].values]\n",
    "cols = [c for c in joined.columns if c.startswith('topic')]\n",
    "\n",
    "joined.head()"
   ]
  },
  {
   "cell_type": "code",
   "execution_count": 92,
   "metadata": {
    "ExecuteTime": {
     "end_time": "2019-02-13T23:08:02.599670Z",
     "start_time": "2019-02-13T23:08:02.533959Z"
    }
   },
   "outputs": [
    {
     "data": {
      "text/html": [
       "<div>\n",
       "<style scoped>\n",
       "    .dataframe tbody tr th:only-of-type {\n",
       "        vertical-align: middle;\n",
       "    }\n",
       "\n",
       "    .dataframe tbody tr th {\n",
       "        vertical-align: top;\n",
       "    }\n",
       "\n",
       "    .dataframe thead th {\n",
       "        text-align: right;\n",
       "    }\n",
       "</style>\n",
       "<table border=\"1\" class=\"dataframe\">\n",
       "  <thead>\n",
       "    <tr style=\"text-align: right;\">\n",
       "      <th></th>\n",
       "      <th>date</th>\n",
       "      <th>topic</th>\n",
       "      <th>mentions</th>\n",
       "    </tr>\n",
       "  </thead>\n",
       "  <tbody>\n",
       "    <tr>\n",
       "      <th>0</th>\n",
       "      <td>2008-02-01</td>\n",
       "      <td>topic_0</td>\n",
       "      <td>0.075365</td>\n",
       "    </tr>\n",
       "    <tr>\n",
       "      <th>4</th>\n",
       "      <td>2008-02-01</td>\n",
       "      <td>topic_0</td>\n",
       "      <td>0.003908</td>\n",
       "    </tr>\n",
       "    <tr>\n",
       "      <th>6</th>\n",
       "      <td>2008-02-01</td>\n",
       "      <td>topic_0</td>\n",
       "      <td>0.053787</td>\n",
       "    </tr>\n",
       "    <tr>\n",
       "      <th>10</th>\n",
       "      <td>2008-02-01</td>\n",
       "      <td>topic_0</td>\n",
       "      <td>0.153822</td>\n",
       "    </tr>\n",
       "    <tr>\n",
       "      <th>12</th>\n",
       "      <td>2008-02-01</td>\n",
       "      <td>topic_0</td>\n",
       "      <td>0.046989</td>\n",
       "    </tr>\n",
       "  </tbody>\n",
       "</table>\n",
       "</div>"
      ],
      "text/plain": [
       "          date    topic  mentions\n",
       "0   2008-02-01  topic_0  0.075365\n",
       "4   2008-02-01  topic_0  0.003908\n",
       "6   2008-02-01  topic_0  0.053787\n",
       "10  2008-02-01  topic_0  0.153822\n",
       "12  2008-02-01  topic_0  0.046989"
      ]
     },
     "execution_count": 92,
     "metadata": {},
     "output_type": "execute_result"
    }
   ],
   "source": [
    "dd = joined[cols + ['date']].melt('date', var_name='topic', value_name='mentions')\n",
    "dd = dd[dd['mentions'] > 0]\n",
    "\n",
    "dd.head()"
   ]
  },
  {
   "cell_type": "code",
   "execution_count": 93,
   "metadata": {
    "ExecuteTime": {
     "end_time": "2019-02-13T23:08:02.641372Z",
     "start_time": "2019-02-13T23:08:02.600970Z"
    }
   },
   "outputs": [
    {
     "data": {
      "text/html": [
       "<div>\n",
       "<style scoped>\n",
       "    .dataframe tbody tr th:only-of-type {\n",
       "        vertical-align: middle;\n",
       "    }\n",
       "\n",
       "    .dataframe tbody tr th {\n",
       "        vertical-align: top;\n",
       "    }\n",
       "\n",
       "    .dataframe thead th {\n",
       "        text-align: right;\n",
       "    }\n",
       "</style>\n",
       "<table border=\"1\" class=\"dataframe\">\n",
       "  <thead>\n",
       "    <tr style=\"text-align: right;\">\n",
       "      <th></th>\n",
       "      <th></th>\n",
       "      <th>mentions</th>\n",
       "    </tr>\n",
       "    <tr>\n",
       "      <th>date</th>\n",
       "      <th>topic</th>\n",
       "      <th></th>\n",
       "    </tr>\n",
       "  </thead>\n",
       "  <tbody>\n",
       "    <tr>\n",
       "      <th rowspan=\"5\" valign=\"top\">2008-02-01</th>\n",
       "      <th>topic_0</th>\n",
       "      <td>3.287907</td>\n",
       "    </tr>\n",
       "    <tr>\n",
       "      <th>topic_1</th>\n",
       "      <td>4.690537</td>\n",
       "    </tr>\n",
       "    <tr>\n",
       "      <th>topic_10</th>\n",
       "      <td>6.230358</td>\n",
       "    </tr>\n",
       "    <tr>\n",
       "      <th>topic_11</th>\n",
       "      <td>7.239669</td>\n",
       "    </tr>\n",
       "    <tr>\n",
       "      <th>topic_12</th>\n",
       "      <td>4.431345</td>\n",
       "    </tr>\n",
       "  </tbody>\n",
       "</table>\n",
       "</div>"
      ],
      "text/plain": [
       "                     mentions\n",
       "date       topic             \n",
       "2008-02-01 topic_0   3.287907\n",
       "           topic_1   4.690537\n",
       "           topic_10  6.230358\n",
       "           topic_11  7.239669\n",
       "           topic_12  4.431345"
      ]
     },
     "execution_count": 93,
     "metadata": {},
     "output_type": "execute_result"
    }
   ],
   "source": [
    "dd2 = dd.groupby(['date','topic']).sum()\n",
    "dd2.head()"
   ]
  },
  {
   "cell_type": "code",
   "execution_count": 94,
   "metadata": {
    "ExecuteTime": {
     "end_time": "2019-02-13T23:08:02.650241Z",
     "start_time": "2019-02-13T23:08:02.642632Z"
    }
   },
   "outputs": [
    {
     "data": {
      "text/html": [
       "<div>\n",
       "<style scoped>\n",
       "    .dataframe tbody tr th:only-of-type {\n",
       "        vertical-align: middle;\n",
       "    }\n",
       "\n",
       "    .dataframe tbody tr th {\n",
       "        vertical-align: top;\n",
       "    }\n",
       "\n",
       "    .dataframe thead th {\n",
       "        text-align: right;\n",
       "    }\n",
       "</style>\n",
       "<table border=\"1\" class=\"dataframe\">\n",
       "  <thead>\n",
       "    <tr style=\"text-align: right;\">\n",
       "      <th></th>\n",
       "      <th>date</th>\n",
       "      <th>topic</th>\n",
       "      <th>mentions</th>\n",
       "    </tr>\n",
       "  </thead>\n",
       "  <tbody>\n",
       "    <tr>\n",
       "      <th>0</th>\n",
       "      <td>2008-02-01</td>\n",
       "      <td>topic_0</td>\n",
       "      <td>3.287907</td>\n",
       "    </tr>\n",
       "    <tr>\n",
       "      <th>1</th>\n",
       "      <td>2008-02-01</td>\n",
       "      <td>topic_1</td>\n",
       "      <td>4.690537</td>\n",
       "    </tr>\n",
       "    <tr>\n",
       "      <th>2</th>\n",
       "      <td>2008-02-01</td>\n",
       "      <td>topic_10</td>\n",
       "      <td>6.230358</td>\n",
       "    </tr>\n",
       "    <tr>\n",
       "      <th>3</th>\n",
       "      <td>2008-02-01</td>\n",
       "      <td>topic_11</td>\n",
       "      <td>7.239669</td>\n",
       "    </tr>\n",
       "    <tr>\n",
       "      <th>4</th>\n",
       "      <td>2008-02-01</td>\n",
       "      <td>topic_12</td>\n",
       "      <td>4.431345</td>\n",
       "    </tr>\n",
       "  </tbody>\n",
       "</table>\n",
       "</div>"
      ],
      "text/plain": [
       "         date     topic  mentions\n",
       "0  2008-02-01   topic_0  3.287907\n",
       "1  2008-02-01   topic_1  4.690537\n",
       "2  2008-02-01  topic_10  6.230358\n",
       "3  2008-02-01  topic_11  7.239669\n",
       "4  2008-02-01  topic_12  4.431345"
      ]
     },
     "execution_count": 94,
     "metadata": {},
     "output_type": "execute_result"
    }
   ],
   "source": [
    "dd2=dd2.reset_index()\n",
    "dd2.head()"
   ]
  },
  {
   "cell_type": "code",
   "execution_count": 95,
   "metadata": {
    "ExecuteTime": {
     "end_time": "2019-02-13T23:08:04.013985Z",
     "start_time": "2019-02-13T23:08:02.651570Z"
    }
   },
   "outputs": [
    {
     "data": {
      "image/png": "[encoded data removed]",
      "text/plain": [
       "<Figure size 1440x1440 with 21 Axes>"
      ]
     },
     "metadata": {
      "needs_background": "light"
     },
     "output_type": "display_data"
    }
   ],
   "source": [
    "labels = sorted(joined['date'].unique())\n",
    "fig, axes = joypy.joyplot(dd2, by='topic', column='mentions', figsize=(20, 20),\n",
    "                          xlabelsize=20,ylabelsize=20,\n",
    "                          overlap=0.4, fill=True,\n",
    "                          linecolor=\"k\",linewidth=3,\n",
    "                          kind='values', fade=True, xrot=90,\n",
    "                          x_range=[i for i in range(len(labels))],\n",
    "                          background='white');\n",
    "\n",
    "ticks_labels = {i:t for i, t in enumerate(labels)}\n",
    "axes[-1].set_xticks([k for k, v in ticks_labels.items() if k % 6 == 0])\n",
    "ticks = axes[-1].get_xticks()\n",
    "axes[-1].set_xticklabels([ticks_labels.get(i, 'stop') for i in ticks]);"
   ]
  },
  {
   "cell_type": "code",
   "execution_count": 96,
   "metadata": {
    "ExecuteTime": {
     "end_time": "2019-02-13T23:08:04.320488Z",
     "start_time": "2019-02-13T23:08:04.015693Z"
    }
   },
   "outputs": [],
   "source": [
    "fig.savefig(f\"data/visualization/{'-'.join(name_dataset.split('.'))}_joypy\")"
   ]
  },
  {
   "cell_type": "code",
   "execution_count": null,
   "metadata": {},
   "outputs": [],
   "source": []
  },
  {
   "cell_type": "code",
   "execution_count": null,
   "metadata": {},
   "outputs": [],
   "source": []
  }
 ],
 "metadata": {
  "kernelspec": {
   "display_name": "Python 3",
   "language": "python",
   "name": "python3"
  },
  "language_info": {
   "codemirror_mode": {
    "name": "ipython",
    "version": 3
   },
   "file_extension": ".py",
   "mimetype": "text/x-python",
   "name": "python",
   "nbconvert_exporter": "python",
   "pygments_lexer": "ipython3",
   "version": "3.6.7"
  },
  "varInspector": {
   "cols": {
    "lenName": 16,
    "lenType": 16,
    "lenVar": 40
   },
   "kernels_config": {
    "python": {
     "delete_cmd_postfix": "",
     "delete_cmd_prefix": "del ",
     "library": "var_list.py",
     "varRefreshCmd": "print(var_dic_list())"
    },
    "r": {
     "delete_cmd_postfix": ") ",
     "delete_cmd_prefix": "rm(",
     "library": "var_list.r",
     "varRefreshCmd": "cat(var_dic_list()) "
    }
   },
   "types_to_exclude": [
    "module",
    "function",
    "builtin_function_or_method",
    "instance",
    "_Feature"
   ],
   "window_display": false
  }
 },
 "nbformat": 4,
 "nbformat_minor": 2
}
