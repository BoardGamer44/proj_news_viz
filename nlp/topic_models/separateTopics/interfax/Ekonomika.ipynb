{
 "cells": [
  {
   "cell_type": "code",
   "execution_count": 2,
   "metadata": {
    "ExecuteTime": {
     "end_time": "2019-02-12T23:36:46.998393Z",
     "start_time": "2019-02-12T23:36:46.992822Z"
    },
    "scrolled": true
   },
   "outputs": [],
   "source": [
    "import numpy as np\n",
    "import pandas as pd\n",
    "import os\n",
    "\n",
    "import re\n",
    "from ast import literal_eval\n",
    "from datetime import datetime as time\n",
    "from ast import literal_eval\n",
    "from sklearn.model_selection import train_test_split\n",
    "\n",
    "import artm\n",
    "from gensim.models import Phrases\n",
    "from gensim.models.phrases import Phraser\n",
    "\n",
    "import gc\n",
    "import matplotlib.pyplot as plt\n",
    "%matplotlib inline"
   ]
  },
  {
   "cell_type": "code",
   "execution_count": 3,
   "metadata": {
    "ExecuteTime": {
     "end_time": "2019-02-12T23:36:47.260942Z",
     "start_time": "2019-02-12T23:36:47.146000Z"
    },
    "scrolled": true
   },
   "outputs": [
    {
     "name": "stdout",
     "output_type": "stream",
     "text": [
      "-rw-rw-r-- 1 vtrokhymenko vtrokhymenko 8.7M Feb 12 11:01 data/Byvsij_SSSR.csv.bz2\r\n",
      "-rw-rw-r-- 1 vtrokhymenko vtrokhymenko  21M Feb 12 10:59 data/Ekonomika.csv.bz2\r\n",
      "-rw-rw-r-- 1 vtrokhymenko vtrokhymenko  14M Feb 12 10:59 data/Mir.csv.bz2\r\n"
     ]
    }
   ],
   "source": [
    "!ls -lah data/*.csv.bz2"
   ]
  },
  {
   "cell_type": "code",
   "execution_count": 4,
   "metadata": {
    "ExecuteTime": {
     "end_time": "2019-02-12T23:36:50.258757Z",
     "start_time": "2019-02-12T23:36:50.256536Z"
    }
   },
   "outputs": [],
   "source": [
    "name_dataset = 'Ekonomika'"
   ]
  },
  {
   "cell_type": "markdown",
   "metadata": {},
   "source": [
    "### load data"
   ]
  },
  {
   "cell_type": "code",
   "execution_count": 5,
   "metadata": {
    "ExecuteTime": {
     "end_time": "2019-02-12T23:36:58.794358Z",
     "start_time": "2019-02-12T23:36:51.311882Z"
    }
   },
   "outputs": [
    {
     "name": "stdout",
     "output_type": "stream",
     "text": [
      "(71835, 4)\n",
      "CPU times: user 7.39 s, sys: 86.5 ms, total: 7.48 s\n",
      "Wall time: 7.48 s\n"
     ]
    }
   ],
   "source": [
    "%%time\n",
    "df = pd.read_csv(f'data/{name_dataset}.csv.bz2')\n",
    "print(df.shape)"
   ]
  },
  {
   "cell_type": "code",
   "execution_count": 6,
   "metadata": {
    "ExecuteTime": {
     "end_time": "2019-02-12T23:37:10.412719Z",
     "start_time": "2019-02-12T23:37:10.403461Z"
    }
   },
   "outputs": [
    {
     "data": {
      "text/html": [
       "<div>\n",
       "<style scoped>\n",
       "    .dataframe tbody tr th:only-of-type {\n",
       "        vertical-align: middle;\n",
       "    }\n",
       "\n",
       "    .dataframe tbody tr th {\n",
       "        vertical-align: top;\n",
       "    }\n",
       "\n",
       "    .dataframe thead th {\n",
       "        text-align: right;\n",
       "    }\n",
       "</style>\n",
       "<table border=\"1\" class=\"dataframe\">\n",
       "  <thead>\n",
       "    <tr style=\"text-align: right;\">\n",
       "      <th></th>\n",
       "      <th>date</th>\n",
       "      <th>topic</th>\n",
       "      <th>text</th>\n",
       "      <th>predict</th>\n",
       "    </tr>\n",
       "  </thead>\n",
       "  <tbody>\n",
       "    <tr>\n",
       "      <th>0</th>\n",
       "      <td>2008-02-11 08:04:00</td>\n",
       "      <td>\"Экономика\"</td>\n",
       "      <td>['рост', 'ввп', 'россия', 'составить', 'журнал...</td>\n",
       "      <td>Экономика</td>\n",
       "    </tr>\n",
       "    <tr>\n",
       "      <th>1</th>\n",
       "      <td>2008-02-11 08:43:00</td>\n",
       "      <td>\"Экономика\"</td>\n",
       "      <td>['цена', 'нефть', 'вырастить', 'заявление', 'в...</td>\n",
       "      <td>Экономика</td>\n",
       "    </tr>\n",
       "    <tr>\n",
       "      <th>2</th>\n",
       "      <td>2008-02-11 09:34:00</td>\n",
       "      <td>\"Экономика\"</td>\n",
       "      <td>['microsoft', 'corp', 'получение', 'официальны...</td>\n",
       "      <td>Экономика</td>\n",
       "    </tr>\n",
       "    <tr>\n",
       "      <th>3</th>\n",
       "      <td>2008-02-11 17:29:00</td>\n",
       "      <td>\"Экономика\"</td>\n",
       "      <td>['официальный', 'газпром', 'ртс', 'gazp', 'сер...</td>\n",
       "      <td>Экономика</td>\n",
       "    </tr>\n",
       "    <tr>\n",
       "      <th>4</th>\n",
       "      <td>2008-02-11 17:35:00</td>\n",
       "      <td>\"Экономика\"</td>\n",
       "      <td>['россия', 'официально', 'вступить', 'ряд', 'с...</td>\n",
       "      <td>Экономика</td>\n",
       "    </tr>\n",
       "  </tbody>\n",
       "</table>\n",
       "</div>"
      ],
      "text/plain": [
       "                  date        topic  \\\n",
       "0  2008-02-11 08:04:00  \"Экономика\"   \n",
       "1  2008-02-11 08:43:00  \"Экономика\"   \n",
       "2  2008-02-11 09:34:00  \"Экономика\"   \n",
       "3  2008-02-11 17:29:00  \"Экономика\"   \n",
       "4  2008-02-11 17:35:00  \"Экономика\"   \n",
       "\n",
       "                                                text    predict  \n",
       "0  ['рост', 'ввп', 'россия', 'составить', 'журнал...  Экономика  \n",
       "1  ['цена', 'нефть', 'вырастить', 'заявление', 'в...  Экономика  \n",
       "2  ['microsoft', 'corp', 'получение', 'официальны...  Экономика  \n",
       "3  ['официальный', 'газпром', 'ртс', 'gazp', 'сер...  Экономика  \n",
       "4  ['россия', 'официально', 'вступить', 'ряд', 'с...  Экономика  "
      ]
     },
     "execution_count": 6,
     "metadata": {},
     "output_type": "execute_result"
    }
   ],
   "source": [
    "df.head()"
   ]
  },
  {
   "cell_type": "markdown",
   "metadata": {},
   "source": [
    "* parse data"
   ]
  },
  {
   "cell_type": "code",
   "execution_count": 7,
   "metadata": {
    "ExecuteTime": {
     "end_time": "2019-02-12T23:37:14.453656Z",
     "start_time": "2019-02-12T23:37:14.337383Z"
    }
   },
   "outputs": [
    {
     "data": {
      "text/html": [
       "<div>\n",
       "<style scoped>\n",
       "    .dataframe tbody tr th:only-of-type {\n",
       "        vertical-align: middle;\n",
       "    }\n",
       "\n",
       "    .dataframe tbody tr th {\n",
       "        vertical-align: top;\n",
       "    }\n",
       "\n",
       "    .dataframe thead th {\n",
       "        text-align: right;\n",
       "    }\n",
       "</style>\n",
       "<table border=\"1\" class=\"dataframe\">\n",
       "  <thead>\n",
       "    <tr style=\"text-align: right;\">\n",
       "      <th></th>\n",
       "      <th>date</th>\n",
       "      <th>topic</th>\n",
       "      <th>text</th>\n",
       "      <th>predict</th>\n",
       "      <th>year</th>\n",
       "      <th>month</th>\n",
       "    </tr>\n",
       "  </thead>\n",
       "  <tbody>\n",
       "    <tr>\n",
       "      <th>0</th>\n",
       "      <td>2008-02-11 08:04:00</td>\n",
       "      <td>\"Экономика\"</td>\n",
       "      <td>['рост', 'ввп', 'россия', 'составить', 'журнал...</td>\n",
       "      <td>Экономика</td>\n",
       "      <td>2008</td>\n",
       "      <td>2</td>\n",
       "    </tr>\n",
       "    <tr>\n",
       "      <th>1</th>\n",
       "      <td>2008-02-11 08:43:00</td>\n",
       "      <td>\"Экономика\"</td>\n",
       "      <td>['цена', 'нефть', 'вырастить', 'заявление', 'в...</td>\n",
       "      <td>Экономика</td>\n",
       "      <td>2008</td>\n",
       "      <td>2</td>\n",
       "    </tr>\n",
       "    <tr>\n",
       "      <th>2</th>\n",
       "      <td>2008-02-11 09:34:00</td>\n",
       "      <td>\"Экономика\"</td>\n",
       "      <td>['microsoft', 'corp', 'получение', 'официальны...</td>\n",
       "      <td>Экономика</td>\n",
       "      <td>2008</td>\n",
       "      <td>2</td>\n",
       "    </tr>\n",
       "    <tr>\n",
       "      <th>3</th>\n",
       "      <td>2008-02-11 17:29:00</td>\n",
       "      <td>\"Экономика\"</td>\n",
       "      <td>['официальный', 'газпром', 'ртс', 'gazp', 'сер...</td>\n",
       "      <td>Экономика</td>\n",
       "      <td>2008</td>\n",
       "      <td>2</td>\n",
       "    </tr>\n",
       "    <tr>\n",
       "      <th>4</th>\n",
       "      <td>2008-02-11 17:35:00</td>\n",
       "      <td>\"Экономика\"</td>\n",
       "      <td>['россия', 'официально', 'вступить', 'ряд', 'с...</td>\n",
       "      <td>Экономика</td>\n",
       "      <td>2008</td>\n",
       "      <td>2</td>\n",
       "    </tr>\n",
       "  </tbody>\n",
       "</table>\n",
       "</div>"
      ],
      "text/plain": [
       "                  date        topic  \\\n",
       "0  2008-02-11 08:04:00  \"Экономика\"   \n",
       "1  2008-02-11 08:43:00  \"Экономика\"   \n",
       "2  2008-02-11 09:34:00  \"Экономика\"   \n",
       "3  2008-02-11 17:29:00  \"Экономика\"   \n",
       "4  2008-02-11 17:35:00  \"Экономика\"   \n",
       "\n",
       "                                                text    predict  year  month  \n",
       "0  ['рост', 'ввп', 'россия', 'составить', 'журнал...  Экономика  2008      2  \n",
       "1  ['цена', 'нефть', 'вырастить', 'заявление', 'в...  Экономика  2008      2  \n",
       "2  ['microsoft', 'corp', 'получение', 'официальны...  Экономика  2008      2  \n",
       "3  ['официальный', 'газпром', 'ртс', 'gazp', 'сер...  Экономика  2008      2  \n",
       "4  ['россия', 'официально', 'вступить', 'ряд', 'с...  Экономика  2008      2  "
      ]
     },
     "execution_count": 7,
     "metadata": {},
     "output_type": "execute_result"
    }
   ],
   "source": [
    "df['year'] = df['date'].apply(lambda x: int(x.split(' ')[0].split('-')[0]))\n",
    "df['month'] = df['date'].apply(lambda x: int(x.split(' ')[0].split('-')[1]))\n",
    "df.head()"
   ]
  },
  {
   "cell_type": "code",
   "execution_count": 8,
   "metadata": {
    "ExecuteTime": {
     "end_time": "2019-02-12T23:37:14.459395Z",
     "start_time": "2019-02-12T23:37:14.455122Z"
    }
   },
   "outputs": [
    {
     "data": {
      "text/plain": [
       "2015    10031\n",
       "2014     8731\n",
       "2009     7965\n",
       "2016     7902\n",
       "2013     7101\n",
       "2018     7011\n",
       "2008     6152\n",
       "2017     5579\n",
       "2010     5094\n",
       "2011     3184\n",
       "2012     2804\n",
       "2019      281\n",
       "Name: year, dtype: int64"
      ]
     },
     "execution_count": 8,
     "metadata": {},
     "output_type": "execute_result"
    }
   ],
   "source": [
    "df.year.value_counts()"
   ]
  },
  {
   "cell_type": "code",
   "execution_count": 9,
   "metadata": {
    "ExecuteTime": {
     "end_time": "2019-02-12T23:37:14.465308Z",
     "start_time": "2019-02-12T23:37:14.460827Z"
    }
   },
   "outputs": [
    {
     "data": {
      "text/plain": [
       "10    6855\n",
       "9     6829\n",
       "12    6764\n",
       "3     6314\n",
       "4     6083\n",
       "6     6069\n",
       "11    5989\n",
       "7     5830\n",
       "8     5547\n",
       "2     5468\n",
       "1     5275\n",
       "5     4812\n",
       "Name: month, dtype: int64"
      ]
     },
     "execution_count": 9,
     "metadata": {},
     "output_type": "execute_result"
    }
   ],
   "source": [
    "df.month.value_counts()"
   ]
  },
  {
   "cell_type": "code",
   "execution_count": null,
   "metadata": {},
   "outputs": [],
   "source": []
  },
  {
   "cell_type": "code",
   "execution_count": 10,
   "metadata": {
    "ExecuteTime": {
     "end_time": "2019-02-12T23:37:30.668414Z",
     "start_time": "2019-02-12T23:37:14.466586Z"
    }
   },
   "outputs": [],
   "source": [
    "df.text = df.text.apply(lambda x: literal_eval(x))"
   ]
  },
  {
   "cell_type": "markdown",
   "metadata": {},
   "source": [
    "### preprocess if text with lemma"
   ]
  },
  {
   "cell_type": "code",
   "execution_count": 11,
   "metadata": {
    "ExecuteTime": {
     "end_time": "2019-02-12T23:37:44.856330Z",
     "start_time": "2019-02-12T23:37:44.478041Z"
    }
   },
   "outputs": [
    {
     "data": {
      "text/html": [
       "<div>\n",
       "<style scoped>\n",
       "    .dataframe tbody tr th:only-of-type {\n",
       "        vertical-align: middle;\n",
       "    }\n",
       "\n",
       "    .dataframe tbody tr th {\n",
       "        vertical-align: top;\n",
       "    }\n",
       "\n",
       "    .dataframe thead th {\n",
       "        text-align: right;\n",
       "    }\n",
       "</style>\n",
       "<table border=\"1\" class=\"dataframe\">\n",
       "  <thead>\n",
       "    <tr style=\"text-align: right;\">\n",
       "      <th></th>\n",
       "      <th>date</th>\n",
       "      <th>topic</th>\n",
       "      <th>text</th>\n",
       "      <th>predict</th>\n",
       "      <th>year</th>\n",
       "      <th>month</th>\n",
       "      <th>text_join</th>\n",
       "    </tr>\n",
       "  </thead>\n",
       "  <tbody>\n",
       "    <tr>\n",
       "      <th>0</th>\n",
       "      <td>2008-02-11 08:04:00</td>\n",
       "      <td>\"Экономика\"</td>\n",
       "      <td>[рост, ввп, россия, составить, журналист, токи...</td>\n",
       "      <td>Экономика</td>\n",
       "      <td>2008</td>\n",
       "      <td>2</td>\n",
       "      <td>рост ввп россия составить журналист токио вице...</td>\n",
       "    </tr>\n",
       "    <tr>\n",
       "      <th>1</th>\n",
       "      <td>2008-02-11 08:43:00</td>\n",
       "      <td>\"Экономика\"</td>\n",
       "      <td>[цена, нефть, вырастить, заявление, венесуэла,...</td>\n",
       "      <td>Экономика</td>\n",
       "      <td>2008</td>\n",
       "      <td>2</td>\n",
       "      <td>цена нефть вырастить заявление венесуэла уго ч...</td>\n",
       "    </tr>\n",
       "    <tr>\n",
       "      <th>2</th>\n",
       "      <td>2008-02-11 09:34:00</td>\n",
       "      <td>\"Экономика\"</td>\n",
       "      <td>[microsoft, corp, получение, официальный, отка...</td>\n",
       "      <td>Экономика</td>\n",
       "      <td>2008</td>\n",
       "      <td>2</td>\n",
       "      <td>microsoft corp получение официальный отказ сов...</td>\n",
       "    </tr>\n",
       "    <tr>\n",
       "      <th>3</th>\n",
       "      <td>2008-02-11 17:29:00</td>\n",
       "      <td>\"Экономика\"</td>\n",
       "      <td>[официальный, газпром, ртс, gazp, сергей, купр...</td>\n",
       "      <td>Экономика</td>\n",
       "      <td>2008</td>\n",
       "      <td>2</td>\n",
       "      <td>официальный газпром ртс gazp сергей куприянов ...</td>\n",
       "    </tr>\n",
       "    <tr>\n",
       "      <th>4</th>\n",
       "      <td>2008-02-11 17:35:00</td>\n",
       "      <td>\"Экономика\"</td>\n",
       "      <td>[россия, официально, вступить, ряд, странучаст...</td>\n",
       "      <td>Экономика</td>\n",
       "      <td>2008</td>\n",
       "      <td>2</td>\n",
       "      <td>россия официально вступить ряд странучастница ...</td>\n",
       "    </tr>\n",
       "  </tbody>\n",
       "</table>\n",
       "</div>"
      ],
      "text/plain": [
       "                  date        topic  \\\n",
       "0  2008-02-11 08:04:00  \"Экономика\"   \n",
       "1  2008-02-11 08:43:00  \"Экономика\"   \n",
       "2  2008-02-11 09:34:00  \"Экономика\"   \n",
       "3  2008-02-11 17:29:00  \"Экономика\"   \n",
       "4  2008-02-11 17:35:00  \"Экономика\"   \n",
       "\n",
       "                                                text    predict  year  month  \\\n",
       "0  [рост, ввп, россия, составить, журналист, токи...  Экономика  2008      2   \n",
       "1  [цена, нефть, вырастить, заявление, венесуэла,...  Экономика  2008      2   \n",
       "2  [microsoft, corp, получение, официальный, отка...  Экономика  2008      2   \n",
       "3  [официальный, газпром, ртс, gazp, сергей, купр...  Экономика  2008      2   \n",
       "4  [россия, официально, вступить, ряд, странучаст...  Экономика  2008      2   \n",
       "\n",
       "                                           text_join  \n",
       "0  рост ввп россия составить журналист токио вице...  \n",
       "1  цена нефть вырастить заявление венесуэла уго ч...  \n",
       "2  microsoft corp получение официальный отказ сов...  \n",
       "3  официальный газпром ртс gazp сергей куприянов ...  \n",
       "4  россия официально вступить ряд странучастница ...  "
      ]
     },
     "execution_count": 11,
     "metadata": {},
     "output_type": "execute_result"
    }
   ],
   "source": [
    "df['text_join'] = df.text.apply(lambda x: ' '.join(x))\n",
    "df.head()"
   ]
  },
  {
   "cell_type": "markdown",
   "metadata": {},
   "source": [
    "* cleanedNames"
   ]
  },
  {
   "cell_type": "code",
   "execution_count": 12,
   "metadata": {
    "ExecuteTime": {
     "end_time": "2019-02-12T23:37:48.047587Z",
     "start_time": "2019-02-12T23:37:47.676715Z"
    }
   },
   "outputs": [],
   "source": [
    "from cleanedNames import KeyProc\n",
    "cn = KeyProc()"
   ]
  },
  {
   "cell_type": "code",
   "execution_count": 13,
   "metadata": {
    "ExecuteTime": {
     "end_time": "2019-02-12T23:39:48.113210Z",
     "start_time": "2019-02-12T23:37:48.112778Z"
    }
   },
   "outputs": [
    {
     "name": "stdout",
     "output_type": "stream",
     "text": [
      "CPU times: user 1min 59s, sys: 2.98 ms, total: 1min 59s\n",
      "Wall time: 1min 59s\n"
     ]
    }
   ],
   "source": [
    "%%time\n",
    "df.text_join = df.text_join.apply(cn.replaceKeywords)"
   ]
  },
  {
   "cell_type": "code",
   "execution_count": 14,
   "metadata": {
    "ExecuteTime": {
     "end_time": "2019-02-12T23:39:50.376929Z",
     "start_time": "2019-02-12T23:39:48.182718Z"
    }
   },
   "outputs": [
    {
     "data": {
      "text/html": [
       "<div>\n",
       "<style scoped>\n",
       "    .dataframe tbody tr th:only-of-type {\n",
       "        vertical-align: middle;\n",
       "    }\n",
       "\n",
       "    .dataframe tbody tr th {\n",
       "        vertical-align: top;\n",
       "    }\n",
       "\n",
       "    .dataframe thead th {\n",
       "        text-align: right;\n",
       "    }\n",
       "</style>\n",
       "<table border=\"1\" class=\"dataframe\">\n",
       "  <thead>\n",
       "    <tr style=\"text-align: right;\">\n",
       "      <th></th>\n",
       "      <th>date</th>\n",
       "      <th>topic</th>\n",
       "      <th>text</th>\n",
       "      <th>predict</th>\n",
       "      <th>year</th>\n",
       "      <th>month</th>\n",
       "      <th>text_join</th>\n",
       "    </tr>\n",
       "  </thead>\n",
       "  <tbody>\n",
       "    <tr>\n",
       "      <th>0</th>\n",
       "      <td>2008-02-11 08:04:00</td>\n",
       "      <td>\"Экономика\"</td>\n",
       "      <td>[рост, ввп, россия, составить, журналист, токи...</td>\n",
       "      <td>Экономика</td>\n",
       "      <td>2008</td>\n",
       "      <td>2</td>\n",
       "      <td>рост ввп россия составить журналист токио вице...</td>\n",
       "    </tr>\n",
       "    <tr>\n",
       "      <th>1</th>\n",
       "      <td>2008-02-11 08:43:00</td>\n",
       "      <td>\"Экономика\"</td>\n",
       "      <td>[цена, нефть, вырастить, заявление, венесуэла,...</td>\n",
       "      <td>Экономика</td>\n",
       "      <td>2008</td>\n",
       "      <td>2</td>\n",
       "      <td>цена нефть вырастить заявление венесуэла уго_ч...</td>\n",
       "    </tr>\n",
       "    <tr>\n",
       "      <th>2</th>\n",
       "      <td>2008-02-11 09:34:00</td>\n",
       "      <td>\"Экономика\"</td>\n",
       "      <td>[microsoft, corp, получение, официальный, отка...</td>\n",
       "      <td>Экономика</td>\n",
       "      <td>2008</td>\n",
       "      <td>2</td>\n",
       "      <td>microsoft corp получение официальный отказ сов...</td>\n",
       "    </tr>\n",
       "    <tr>\n",
       "      <th>3</th>\n",
       "      <td>2008-02-11 17:29:00</td>\n",
       "      <td>\"Экономика\"</td>\n",
       "      <td>[официальный, газпром, ртс, gazp, сергей_купри...</td>\n",
       "      <td>Экономика</td>\n",
       "      <td>2008</td>\n",
       "      <td>2</td>\n",
       "      <td>официальный газпром ртс gazp сергей_куприянов ...</td>\n",
       "    </tr>\n",
       "    <tr>\n",
       "      <th>4</th>\n",
       "      <td>2008-02-11 17:35:00</td>\n",
       "      <td>\"Экономика\"</td>\n",
       "      <td>[россия, официально, вступить, ряд, странучаст...</td>\n",
       "      <td>Экономика</td>\n",
       "      <td>2008</td>\n",
       "      <td>2</td>\n",
       "      <td>россия официально вступить ряд странучастница ...</td>\n",
       "    </tr>\n",
       "  </tbody>\n",
       "</table>\n",
       "</div>"
      ],
      "text/plain": [
       "                  date        topic  \\\n",
       "0  2008-02-11 08:04:00  \"Экономика\"   \n",
       "1  2008-02-11 08:43:00  \"Экономика\"   \n",
       "2  2008-02-11 09:34:00  \"Экономика\"   \n",
       "3  2008-02-11 17:29:00  \"Экономика\"   \n",
       "4  2008-02-11 17:35:00  \"Экономика\"   \n",
       "\n",
       "                                                text    predict  year  month  \\\n",
       "0  [рост, ввп, россия, составить, журналист, токи...  Экономика  2008      2   \n",
       "1  [цена, нефть, вырастить, заявление, венесуэла,...  Экономика  2008      2   \n",
       "2  [microsoft, corp, получение, официальный, отка...  Экономика  2008      2   \n",
       "3  [официальный, газпром, ртс, gazp, сергей_купри...  Экономика  2008      2   \n",
       "4  [россия, официально, вступить, ряд, странучаст...  Экономика  2008      2   \n",
       "\n",
       "                                           text_join  \n",
       "0  рост ввп россия составить журналист токио вице...  \n",
       "1  цена нефть вырастить заявление венесуэла уго_ч...  \n",
       "2  microsoft corp получение официальный отказ сов...  \n",
       "3  официальный газпром ртс gazp сергей_куприянов ...  \n",
       "4  россия официально вступить ряд странучастница ...  "
      ]
     },
     "execution_count": 14,
     "metadata": {},
     "output_type": "execute_result"
    }
   ],
   "source": [
    "df.text = df.text_join.apply(lambda x: x.split(' ')) \n",
    "df.head()"
   ]
  },
  {
   "cell_type": "code",
   "execution_count": null,
   "metadata": {},
   "outputs": [],
   "source": []
  },
  {
   "cell_type": "markdown",
   "metadata": {},
   "source": [
    "* add docID"
   ]
  },
  {
   "cell_type": "code",
   "execution_count": 15,
   "metadata": {
    "ExecuteTime": {
     "end_time": "2019-02-12T23:39:50.458743Z",
     "start_time": "2019-02-12T23:39:50.444374Z"
    }
   },
   "outputs": [],
   "source": [
    "df['docID'] = list(range(df.shape[0]))"
   ]
  },
  {
   "cell_type": "code",
   "execution_count": 16,
   "metadata": {
    "ExecuteTime": {
     "end_time": "2019-02-12T23:39:50.547014Z",
     "start_time": "2019-02-12T23:39:50.525521Z"
    }
   },
   "outputs": [],
   "source": [
    "df.rename(columns={'text':'lemmatized_text'},inplace=True)"
   ]
  },
  {
   "cell_type": "code",
   "execution_count": 17,
   "metadata": {
    "ExecuteTime": {
     "end_time": "2019-02-12T23:39:50.637353Z",
     "start_time": "2019-02-12T23:39:50.613487Z"
    }
   },
   "outputs": [
    {
     "data": {
      "text/html": [
       "<div>\n",
       "<style scoped>\n",
       "    .dataframe tbody tr th:only-of-type {\n",
       "        vertical-align: middle;\n",
       "    }\n",
       "\n",
       "    .dataframe tbody tr th {\n",
       "        vertical-align: top;\n",
       "    }\n",
       "\n",
       "    .dataframe thead th {\n",
       "        text-align: right;\n",
       "    }\n",
       "</style>\n",
       "<table border=\"1\" class=\"dataframe\">\n",
       "  <thead>\n",
       "    <tr style=\"text-align: right;\">\n",
       "      <th></th>\n",
       "      <th>docID</th>\n",
       "      <th>year</th>\n",
       "      <th>month</th>\n",
       "      <th>lemmatized_text</th>\n",
       "    </tr>\n",
       "  </thead>\n",
       "  <tbody>\n",
       "    <tr>\n",
       "      <th>0</th>\n",
       "      <td>0</td>\n",
       "      <td>2008</td>\n",
       "      <td>2</td>\n",
       "      <td>[рост, ввп, россия, составить, журналист, токи...</td>\n",
       "    </tr>\n",
       "    <tr>\n",
       "      <th>1</th>\n",
       "      <td>1</td>\n",
       "      <td>2008</td>\n",
       "      <td>2</td>\n",
       "      <td>[цена, нефть, вырастить, заявление, венесуэла,...</td>\n",
       "    </tr>\n",
       "  </tbody>\n",
       "</table>\n",
       "</div>"
      ],
      "text/plain": [
       "   docID  year  month                                    lemmatized_text\n",
       "0      0  2008      2  [рост, ввп, россия, составить, журналист, токи...\n",
       "1      1  2008      2  [цена, нефть, вырастить, заявление, венесуэла,..."
      ]
     },
     "execution_count": 17,
     "metadata": {},
     "output_type": "execute_result"
    }
   ],
   "source": [
    "df = df[['docID','year','month','lemmatized_text']]\n",
    "df.head(2)"
   ]
  },
  {
   "cell_type": "code",
   "execution_count": 18,
   "metadata": {
    "ExecuteTime": {
     "end_time": "2019-02-12T23:39:50.706294Z",
     "start_time": "2019-02-12T23:39:50.693372Z"
    }
   },
   "outputs": [
    {
     "name": "stdout",
     "output_type": "stream",
     "text": [
      "(71835, 4)\n"
     ]
    },
    {
     "data": {
      "text/plain": [
       "docID              0\n",
       "year               0\n",
       "month              0\n",
       "lemmatized_text    0\n",
       "dtype: int64"
      ]
     },
     "execution_count": 18,
     "metadata": {},
     "output_type": "execute_result"
    }
   ],
   "source": [
    "print(df.shape)\n",
    "df.isnull().sum()"
   ]
  },
  {
   "cell_type": "code",
   "execution_count": 19,
   "metadata": {
    "ExecuteTime": {
     "end_time": "2019-02-12T23:39:50.765801Z",
     "start_time": "2019-02-12T23:39:50.761503Z"
    }
   },
   "outputs": [
    {
     "data": {
      "text/plain": [
       "(2008, 2019)"
      ]
     },
     "execution_count": 19,
     "metadata": {},
     "output_type": "execute_result"
    }
   ],
   "source": [
    "df.year.min(),df.year.max()"
   ]
  },
  {
   "cell_type": "markdown",
   "metadata": {
    "heading_collapsed": true
   },
   "source": [
    "### preprocess if text full"
   ]
  },
  {
   "cell_type": "markdown",
   "metadata": {
    "hidden": true
   },
   "source": [
    "* get dates"
   ]
  },
  {
   "cell_type": "code",
   "execution_count": null,
   "metadata": {
    "ExecuteTime": {
     "end_time": "2019-02-12T20:44:42.100805Z",
     "start_time": "2019-02-12T20:44:41.875674Z"
    },
    "hidden": true
   },
   "outputs": [],
   "source": [
    "%%time\n",
    "\n",
    "df['date_raw'] = df['url'].apply(re.compile('(\\d{4})/(\\d{2})/(\\d{2})').findall)\n",
    "\n",
    "df['year'] = df['date_raw'].apply(lambda x: int(x[0][0]))\n",
    "df['month'] = df['date_raw'].apply(lambda x: int(x[0][1]))"
   ]
  },
  {
   "cell_type": "markdown",
   "metadata": {
    "hidden": true
   },
   "source": [
    "* clean text"
   ]
  },
  {
   "cell_type": "code",
   "execution_count": null,
   "metadata": {
    "ExecuteTime": {
     "end_time": "2019-02-12T20:44:45.466357Z",
     "start_time": "2019-02-12T20:44:45.419292Z"
    },
    "hidden": true
   },
   "outputs": [],
   "source": [
    "import preprocessing_tools as pr"
   ]
  },
  {
   "cell_type": "code",
   "execution_count": null,
   "metadata": {
    "ExecuteTime": {
     "end_time": "2019-02-12T20:44:55.961600Z",
     "start_time": "2019-02-12T20:44:46.127947Z"
    },
    "hidden": true
   },
   "outputs": [],
   "source": [
    "%%time\n",
    "df.text = df.text.apply(pr.clean_text)"
   ]
  },
  {
   "cell_type": "code",
   "execution_count": null,
   "metadata": {
    "ExecuteTime": {
     "end_time": "2019-02-12T20:44:57.006954Z",
     "start_time": "2019-02-12T20:44:56.996117Z"
    },
    "hidden": true
   },
   "outputs": [],
   "source": [
    "df.head(2)"
   ]
  },
  {
   "cell_type": "markdown",
   "metadata": {
    "hidden": true
   },
   "source": [
    "* cleanedNames"
   ]
  },
  {
   "cell_type": "code",
   "execution_count": null,
   "metadata": {
    "ExecuteTime": {
     "end_time": "2019-02-12T20:44:59.718122Z",
     "start_time": "2019-02-12T20:44:59.605825Z"
    },
    "hidden": true
   },
   "outputs": [],
   "source": [
    "from cleanedNames import KeyProc\n",
    "cn = KeyProc()"
   ]
  },
  {
   "cell_type": "code",
   "execution_count": null,
   "metadata": {
    "ExecuteTime": {
     "end_time": "2019-02-12T20:46:42.655484Z",
     "start_time": "2019-02-12T20:45:00.859921Z"
    },
    "hidden": true
   },
   "outputs": [],
   "source": [
    "%%time\n",
    "df.text = df.text.apply(cn.replaceKeywords)"
   ]
  },
  {
   "cell_type": "markdown",
   "metadata": {
    "hidden": true
   },
   "source": [
    "* lemmatization"
   ]
  },
  {
   "cell_type": "code",
   "execution_count": null,
   "metadata": {
    "ExecuteTime": {
     "end_time": "2019-02-12T20:49:10.237126Z",
     "start_time": "2019-02-12T20:46:42.704548Z"
    },
    "hidden": true
   },
   "outputs": [],
   "source": [
    "%%time\n",
    "df['lemmatized_text'] = df.text.apply(pr.lemmatization)"
   ]
  },
  {
   "cell_type": "code",
   "execution_count": null,
   "metadata": {
    "hidden": true
   },
   "outputs": [],
   "source": []
  },
  {
   "cell_type": "markdown",
   "metadata": {
    "hidden": true
   },
   "source": [
    "* add docID"
   ]
  },
  {
   "cell_type": "code",
   "execution_count": null,
   "metadata": {
    "ExecuteTime": {
     "end_time": "2019-02-12T20:49:10.337705Z",
     "start_time": "2019-02-12T20:49:10.325010Z"
    },
    "hidden": true
   },
   "outputs": [],
   "source": [
    "df['docID'] = list(range(df.shape[0]))"
   ]
  },
  {
   "cell_type": "code",
   "execution_count": null,
   "metadata": {
    "ExecuteTime": {
     "end_time": "2019-02-12T20:49:10.457636Z",
     "start_time": "2019-02-12T20:49:10.428243Z"
    },
    "hidden": true
   },
   "outputs": [],
   "source": [
    "df = df[['docID','year','month','lemmatized_text']]\n",
    "df.head(2)"
   ]
  },
  {
   "cell_type": "code",
   "execution_count": null,
   "metadata": {
    "ExecuteTime": {
     "end_time": "2019-02-12T20:49:10.526039Z",
     "start_time": "2019-02-12T20:49:10.516289Z"
    },
    "hidden": true
   },
   "outputs": [],
   "source": [
    "print(df.shape)\n",
    "df.isnull().sum()"
   ]
  },
  {
   "cell_type": "code",
   "execution_count": null,
   "metadata": {
    "ExecuteTime": {
     "end_time": "2019-02-12T20:49:10.587001Z",
     "start_time": "2019-02-12T20:49:10.583827Z"
    },
    "hidden": true
   },
   "outputs": [],
   "source": [
    "df.year.min()"
   ]
  },
  {
   "cell_type": "code",
   "execution_count": null,
   "metadata": {
    "hidden": true
   },
   "outputs": [],
   "source": []
  },
  {
   "cell_type": "markdown",
   "metadata": {},
   "source": [
    "## model"
   ]
  },
  {
   "cell_type": "markdown",
   "metadata": {},
   "source": [
    "* prepare"
   ]
  },
  {
   "cell_type": "code",
   "execution_count": 20,
   "metadata": {
    "ExecuteTime": {
     "end_time": "2019-02-12T23:40:55.720606Z",
     "start_time": "2019-02-12T23:40:54.728105Z"
    }
   },
   "outputs": [
    {
     "name": "stdout",
     "output_type": "stream",
     "text": [
      "CPU times: user 874 ms, sys: 116 ms, total: 991 ms\n",
      "Wall time: 989 ms\n"
     ]
    }
   ],
   "source": [
    "%%time\n",
    "\n",
    "vwpath = f'data/vwpath/{name_dataset}_input_bigartm.vw'\n",
    "\n",
    "with open(vwpath, 'w') as fp:\n",
    "    for text, did in df[['lemmatized_text', 'docID']].values:\n",
    "        fp.write('{} | {}\\n'.format(did, ' '.join(text)))"
   ]
  },
  {
   "cell_type": "code",
   "execution_count": 21,
   "metadata": {
    "ExecuteTime": {
     "end_time": "2019-02-12T23:40:55.781315Z",
     "start_time": "2019-02-12T23:40:55.777523Z"
    }
   },
   "outputs": [],
   "source": [
    "id_date = df[['docID', 'year', 'month']].copy()"
   ]
  },
  {
   "cell_type": "markdown",
   "metadata": {},
   "source": [
    "* collect batchs and collect the dictionary"
   ]
  },
  {
   "cell_type": "code",
   "execution_count": 22,
   "metadata": {
    "ExecuteTime": {
     "end_time": "2019-02-12T23:41:02.100913Z",
     "start_time": "2019-02-12T23:40:57.126114Z"
    }
   },
   "outputs": [
    {
     "name": "stdout",
     "output_type": "stream",
     "text": [
      "create folder...\n",
      "\n",
      "artm.BatchVectorizer(data_path=\"data/batches/Ekonomika\", num_batches=72)\n",
      "CPU times: user 33.5 s, sys: 680 ms, total: 34.2 s\n",
      "Wall time: 4.97 s\n"
     ]
    }
   ],
   "source": [
    "%%time\n",
    "\n",
    "batches_path = f'data/batches/{name_dataset}'\n",
    "\n",
    "if not os.path.exists(batches_path):\n",
    "    print('create folder...\\n')\n",
    "    os.makedirs(batches_path)\n",
    "    \n",
    "batch_vectorizer = artm.BatchVectorizer(data_path=vwpath,\n",
    "                                        data_format='vowpal_wabbit',\n",
    "                                        target_folder=batches_path)\n",
    "\n",
    "print(batch_vectorizer)"
   ]
  },
  {
   "cell_type": "code",
   "execution_count": 23,
   "metadata": {
    "ExecuteTime": {
     "end_time": "2019-02-12T23:41:04.048208Z",
     "start_time": "2019-02-12T23:41:02.162981Z"
    }
   },
   "outputs": [],
   "source": [
    "dictionary = artm.Dictionary()\n",
    "dictionary.gather(data_path=batches_path)"
   ]
  },
  {
   "cell_type": "code",
   "execution_count": 24,
   "metadata": {
    "ExecuteTime": {
     "end_time": "2019-02-12T23:41:04.168767Z",
     "start_time": "2019-02-12T23:41:04.115333Z"
    }
   },
   "outputs": [
    {
     "data": {
      "text/plain": [
       "artm.Dictionary(name=edb8a72b-b5d2-4395-b174-ff10fb60c810, num_entries=24511)"
      ]
     },
     "execution_count": 24,
     "metadata": {},
     "output_type": "execute_result"
    }
   ],
   "source": [
    "dictionary.filter(min_tf=10, max_df_rate=0.1) #int(4.5e5)"
   ]
  },
  {
   "cell_type": "code",
   "execution_count": 25,
   "metadata": {
    "ExecuteTime": {
     "end_time": "2019-02-12T23:41:04.356967Z",
     "start_time": "2019-02-12T23:41:04.233593Z"
    }
   },
   "outputs": [],
   "source": [
    "dictionary.save_text(f'data/dicts/dict_{name_dataset}.txt')"
   ]
  },
  {
   "cell_type": "code",
   "execution_count": null,
   "metadata": {},
   "outputs": [],
   "source": []
  },
  {
   "cell_type": "markdown",
   "metadata": {},
   "source": [
    "## pick up amount topics"
   ]
  },
  {
   "cell_type": "code",
   "execution_count": null,
   "metadata": {
    "ExecuteTime": {
     "end_time": "2019-02-03T23:34:30.832737Z",
     "start_time": "2019-02-03T23:05:40.548748Z"
    }
   },
   "outputs": [],
   "source": [
    "%%time\n",
    "model_list = []\n",
    "step, perplexity, sTheta, sPhi = [], [], [], []\n",
    "\n",
    "start = 6\n",
    "end = 25\n",
    "stepp = 1\n",
    "\n",
    "for i in range(start,end+1,stepp):\n",
    "    print(f'#topic {i}.........')\n",
    "    step.append(i)\n",
    "    date_start = time.now()\n",
    "    \n",
    "    num_topics = i\n",
    "    model = artm.ARTM(num_topics=num_topics, dictionary=dictionary)\n",
    "    \n",
    "    # scores\n",
    "    model.scores.add(artm.PerplexityScore(name='PerplexityScore', dictionary=dictionary))\n",
    "    model.scores.add(artm.SparsityThetaScore(name='SparsityThetaScore'))\n",
    "    model.scores.add(artm.SparsityPhiScore(name='SparsityPhiScore'))\n",
    "    \n",
    "    # 1st regularizer\n",
    "    model.regularizers.add(artm.SmoothSparsePhiRegularizer(name='SparsePhi', tau=-1.0)) #-0.1\n",
    "    model.fit_offline(batch_vectorizer=batch_vectorizer, num_collection_passes=5)\n",
    "    \n",
    "    # 2st regularizer\n",
    "    model.regularizers.add(artm.SmoothSparseThetaRegularizer(name='SparseTheta', tau=-0.5))\n",
    "    model.fit_offline(batch_vectorizer=batch_vectorizer, num_collection_passes=15)\n",
    "    \n",
    "    # 3st regularizer\n",
    "    model.regularizers.add(artm.DecorrelatorPhiRegularizer(name='DecorrelatorPhi', tau=1.5e+5))\n",
    "    model.fit_offline(batch_vectorizer=batch_vectorizer, num_collection_passes=15)\n",
    "    \n",
    "    sparsityTheta = model.score_tracker['SparsityThetaScore'].last_value\n",
    "    sTheta.append(sparsityTheta)\n",
    "    sparsityPhi = model.score_tracker['SparsityPhiScore'].last_value\n",
    "    sPhi.append(sparsityPhi)\n",
    "    perpl = model.score_tracker['PerplexityScore'].last_value\n",
    "    perplexity.append(perpl)\n",
    "    \n",
    "    print(f'\\tSparsityThetaScore: {sparsityTheta}')\n",
    "    print(f'\\tSparsityPhiScore: {sparsityPhi}')\n",
    "    print(f'\\tPerplexityScore: {perpl}')\n",
    "    \n",
    "    print('\\ttime:',time.now()-date_start)"
   ]
  },
  {
   "cell_type": "code",
   "execution_count": null,
   "metadata": {
    "ExecuteTime": {
     "end_time": "2019-02-03T10:25:19.898317Z",
     "start_time": "2019-02-03T10:25:19.896173Z"
    }
   },
   "outputs": [],
   "source": [
    "#model_list"
   ]
  },
  {
   "cell_type": "code",
   "execution_count": null,
   "metadata": {
    "ExecuteTime": {
     "end_time": "2019-02-03T23:36:48.933306Z",
     "start_time": "2019-02-03T23:36:48.703340Z"
    },
    "cell_style": "split"
   },
   "outputs": [],
   "source": [
    "plt.plot(step, sPhi, color='k',linewidth=3, marker='x')\n",
    "ax = plt.gca()\n",
    "ax.set_xticks(step)\n",
    "plt.grid()\n",
    "plt.title('SparsityPhiScore')"
   ]
  },
  {
   "cell_type": "code",
   "execution_count": null,
   "metadata": {
    "ExecuteTime": {
     "end_time": "2019-02-03T23:36:48.941151Z",
     "start_time": "2019-02-03T23:36:48.935668Z"
    },
    "cell_style": "split"
   },
   "outputs": [],
   "source": [
    "index_sphi = []\n",
    "[index_sphi.append(float(str(i)[:3]) ) for i in sPhi]\n",
    "    \n",
    "index_sphi = list(set(index_sphi))\n",
    "index_sphi.sort()\n",
    "index_sphi"
   ]
  },
  {
   "cell_type": "code",
   "execution_count": null,
   "metadata": {
    "ExecuteTime": {
     "end_time": "2019-02-03T23:36:48.952614Z",
     "start_time": "2019-02-03T23:36:48.944296Z"
    },
    "cell_style": "split"
   },
   "outputs": [],
   "source": [
    "d_sphi = {}\n",
    "\n",
    "for j in range(len(index_sphi)):\n",
    "    k=0\n",
    "    for i in sPhi:\n",
    "        if j==range(len(index_sphi))[-1]:\n",
    "            if (i>=index_sphi[j]):\n",
    "                k+=1\n",
    "        else:\n",
    "            if (i>=index_sphi[j]) & (i<index_sphi[j+1]):\n",
    "                k+=1\n",
    "    d_sphi[index_sphi[j]]=k\n",
    "\n",
    "d_sphi"
   ]
  },
  {
   "cell_type": "code",
   "execution_count": null,
   "metadata": {
    "ExecuteTime": {
     "end_time": "2019-02-03T23:36:49.179832Z",
     "start_time": "2019-02-03T23:36:48.956428Z"
    },
    "cell_style": "split",
    "scrolled": true
   },
   "outputs": [],
   "source": [
    "plt.plot(step, sTheta, color='g',linewidth=3, marker='x')\n",
    "ax = plt.gca()\n",
    "ax.set_xticks(step)\n",
    "plt.grid()\n",
    "\n",
    "plt.title('SparsityThetaScore')"
   ]
  },
  {
   "cell_type": "code",
   "execution_count": null,
   "metadata": {
    "ExecuteTime": {
     "end_time": "2019-02-03T23:36:49.187062Z",
     "start_time": "2019-02-03T23:36:49.181836Z"
    },
    "cell_style": "split"
   },
   "outputs": [],
   "source": [
    "index_theta = []\n",
    "[index_theta.append(float(str(i)[:3])) for i in sTheta]\n",
    "    \n",
    "index_theta = list(set(index_theta))\n",
    "index_theta.sort()\n",
    "index_theta"
   ]
  },
  {
   "cell_type": "code",
   "execution_count": null,
   "metadata": {
    "ExecuteTime": {
     "end_time": "2019-02-03T23:36:49.198620Z",
     "start_time": "2019-02-03T23:36:49.189897Z"
    },
    "cell_style": "split"
   },
   "outputs": [],
   "source": [
    "d_stheta = {}\n",
    "\n",
    "for j in range(len(index_theta)):\n",
    "    k=0\n",
    "    for i in sTheta:\n",
    "        if j==range(len(index_theta))[-1]:\n",
    "            if (i>=index_theta[j]):\n",
    "                k+=1\n",
    "        else:\n",
    "            if (i>=index_theta[j]) & (i<index_theta[j+1]):\n",
    "                k+=1\n",
    "    d_stheta[index_theta[j]]=k\n",
    "\n",
    "d_stheta"
   ]
  },
  {
   "cell_type": "code",
   "execution_count": null,
   "metadata": {
    "ExecuteTime": {
     "end_time": "2019-02-03T23:36:49.426695Z",
     "start_time": "2019-02-03T23:36:49.201181Z"
    },
    "cell_style": "split"
   },
   "outputs": [],
   "source": [
    "plt.plot(step, perplexity, color='b',linewidth=3, marker='x')\n",
    "ax = plt.gca()\n",
    "ax.set_xticks(step)\n",
    "plt.grid()\n",
    "plt.title('PerplexityScore')"
   ]
  },
  {
   "cell_type": "code",
   "execution_count": null,
   "metadata": {
    "ExecuteTime": {
     "end_time": "2019-02-03T23:36:49.436545Z",
     "start_time": "2019-02-03T23:36:49.428972Z"
    },
    "cell_style": "split"
   },
   "outputs": [],
   "source": [
    "perplexity"
   ]
  },
  {
   "cell_type": "markdown",
   "metadata": {},
   "source": [
    "### select the best model"
   ]
  },
  {
   "cell_type": "code",
   "execution_count": null,
   "metadata": {
    "ExecuteTime": {
     "end_time": "2019-02-03T23:37:06.940778Z",
     "start_time": "2019-02-03T23:37:06.936624Z"
    }
   },
   "outputs": [],
   "source": [
    "print(f'd_sphi:   {d_sphi}')\n",
    "print(f'd_stheta: {d_stheta}')"
   ]
  },
  {
   "cell_type": "code",
   "execution_count": null,
   "metadata": {
    "ExecuteTime": {
     "end_time": "2019-02-03T23:37:08.106226Z",
     "start_time": "2019-02-03T23:37:08.101353Z"
    }
   },
   "outputs": [],
   "source": [
    "select_topics = 20 # u should choose number of topic\n",
    "\n",
    "best_model = model_list[select_topics-start]\n",
    "print(best_model.num_topics)"
   ]
  },
  {
   "cell_type": "markdown",
   "metadata": {},
   "source": [
    "---"
   ]
  },
  {
   "cell_type": "code",
   "execution_count": 26,
   "metadata": {
    "ExecuteTime": {
     "end_time": "2019-02-12T23:41:13.679707Z",
     "start_time": "2019-02-12T23:41:13.677816Z"
    }
   },
   "outputs": [],
   "source": [
    "select_topics = 20"
   ]
  },
  {
   "cell_type": "code",
   "execution_count": 27,
   "metadata": {
    "ExecuteTime": {
     "end_time": "2019-02-12T23:41:59.264480Z",
     "start_time": "2019-02-12T23:41:14.008944Z"
    }
   },
   "outputs": [
    {
     "data": {
      "application/vnd.jupyter.widget-view+json": {
       "model_id": "80d13ff298394f9eacf2bec8022bdb61",
       "version_major": 2,
       "version_minor": 0
      },
      "text/plain": [
       "HBox(children=(IntProgress(value=0, description='Pass', max=5, style=ProgressStyle(description_width='initial'…"
      ]
     },
     "metadata": {},
     "output_type": "display_data"
    },
    {
     "data": {
      "application/vnd.jupyter.widget-view+json": {
       "model_id": "",
       "version_major": 2,
       "version_minor": 0
      },
      "text/plain": [
       "HBox(children=(IntProgress(value=0, description='Batch', max=72, style=ProgressStyle(description_width='initia…"
      ]
     },
     "metadata": {},
     "output_type": "display_data"
    },
    {
     "data": {
      "application/vnd.jupyter.widget-view+json": {
       "model_id": "",
       "version_major": 2,
       "version_minor": 0
      },
      "text/plain": [
       "HBox(children=(IntProgress(value=0, description='Batch', max=72, style=ProgressStyle(description_width='initia…"
      ]
     },
     "metadata": {},
     "output_type": "display_data"
    },
    {
     "data": {
      "application/vnd.jupyter.widget-view+json": {
       "model_id": "",
       "version_major": 2,
       "version_minor": 0
      },
      "text/plain": [
       "HBox(children=(IntProgress(value=0, description='Batch', max=72, style=ProgressStyle(description_width='initia…"
      ]
     },
     "metadata": {},
     "output_type": "display_data"
    },
    {
     "data": {
      "application/vnd.jupyter.widget-view+json": {
       "model_id": "",
       "version_major": 2,
       "version_minor": 0
      },
      "text/plain": [
       "HBox(children=(IntProgress(value=0, description='Batch', max=72, style=ProgressStyle(description_width='initia…"
      ]
     },
     "metadata": {},
     "output_type": "display_data"
    },
    {
     "data": {
      "application/vnd.jupyter.widget-view+json": {
       "model_id": "",
       "version_major": 2,
       "version_minor": 0
      },
      "text/plain": [
       "HBox(children=(IntProgress(value=0, description='Batch', max=72, style=ProgressStyle(description_width='initia…"
      ]
     },
     "metadata": {},
     "output_type": "display_data"
    },
    {
     "name": "stdout",
     "output_type": "stream",
     "text": [
      "\n"
     ]
    },
    {
     "data": {
      "application/vnd.jupyter.widget-view+json": {
       "model_id": "13a3bac20b3e44ae8b8839babd0febd6",
       "version_major": 2,
       "version_minor": 0
      },
      "text/plain": [
       "HBox(children=(IntProgress(value=0, description='Pass', max=15, style=ProgressStyle(description_width='initial…"
      ]
     },
     "metadata": {},
     "output_type": "display_data"
    },
    {
     "data": {
      "application/vnd.jupyter.widget-view+json": {
       "model_id": "",
       "version_major": 2,
       "version_minor": 0
      },
      "text/plain": [
       "HBox(children=(IntProgress(value=0, description='Batch', max=72, style=ProgressStyle(description_width='initia…"
      ]
     },
     "metadata": {},
     "output_type": "display_data"
    },
    {
     "data": {
      "application/vnd.jupyter.widget-view+json": {
       "model_id": "",
       "version_major": 2,
       "version_minor": 0
      },
      "text/plain": [
       "HBox(children=(IntProgress(value=0, description='Batch', max=72, style=ProgressStyle(description_width='initia…"
      ]
     },
     "metadata": {},
     "output_type": "display_data"
    },
    {
     "data": {
      "application/vnd.jupyter.widget-view+json": {
       "model_id": "",
       "version_major": 2,
       "version_minor": 0
      },
      "text/plain": [
       "HBox(children=(IntProgress(value=0, description='Batch', max=72, style=ProgressStyle(description_width='initia…"
      ]
     },
     "metadata": {},
     "output_type": "display_data"
    },
    {
     "data": {
      "application/vnd.jupyter.widget-view+json": {
       "model_id": "",
       "version_major": 2,
       "version_minor": 0
      },
      "text/plain": [
       "HBox(children=(IntProgress(value=0, description='Batch', max=72, style=ProgressStyle(description_width='initia…"
      ]
     },
     "metadata": {},
     "output_type": "display_data"
    },
    {
     "data": {
      "application/vnd.jupyter.widget-view+json": {
       "model_id": "",
       "version_major": 2,
       "version_minor": 0
      },
      "text/plain": [
       "HBox(children=(IntProgress(value=0, description='Batch', max=72, style=ProgressStyle(description_width='initia…"
      ]
     },
     "metadata": {},
     "output_type": "display_data"
    },
    {
     "data": {
      "application/vnd.jupyter.widget-view+json": {
       "model_id": "",
       "version_major": 2,
       "version_minor": 0
      },
      "text/plain": [
       "HBox(children=(IntProgress(value=0, description='Batch', max=72, style=ProgressStyle(description_width='initia…"
      ]
     },
     "metadata": {},
     "output_type": "display_data"
    },
    {
     "data": {
      "application/vnd.jupyter.widget-view+json": {
       "model_id": "",
       "version_major": 2,
       "version_minor": 0
      },
      "text/plain": [
       "HBox(children=(IntProgress(value=0, description='Batch', max=72, style=ProgressStyle(description_width='initia…"
      ]
     },
     "metadata": {},
     "output_type": "display_data"
    },
    {
     "data": {
      "application/vnd.jupyter.widget-view+json": {
       "model_id": "",
       "version_major": 2,
       "version_minor": 0
      },
      "text/plain": [
       "HBox(children=(IntProgress(value=0, description='Batch', max=72, style=ProgressStyle(description_width='initia…"
      ]
     },
     "metadata": {},
     "output_type": "display_data"
    },
    {
     "data": {
      "application/vnd.jupyter.widget-view+json": {
       "model_id": "",
       "version_major": 2,
       "version_minor": 0
      },
      "text/plain": [
       "HBox(children=(IntProgress(value=0, description='Batch', max=72, style=ProgressStyle(description_width='initia…"
      ]
     },
     "metadata": {},
     "output_type": "display_data"
    },
    {
     "data": {
      "application/vnd.jupyter.widget-view+json": {
       "model_id": "",
       "version_major": 2,
       "version_minor": 0
      },
      "text/plain": [
       "HBox(children=(IntProgress(value=0, description='Batch', max=72, style=ProgressStyle(description_width='initia…"
      ]
     },
     "metadata": {},
     "output_type": "display_data"
    },
    {
     "data": {
      "application/vnd.jupyter.widget-view+json": {
       "model_id": "",
       "version_major": 2,
       "version_minor": 0
      },
      "text/plain": [
       "HBox(children=(IntProgress(value=0, description='Batch', max=72, style=ProgressStyle(description_width='initia…"
      ]
     },
     "metadata": {},
     "output_type": "display_data"
    },
    {
     "data": {
      "application/vnd.jupyter.widget-view+json": {
       "model_id": "",
       "version_major": 2,
       "version_minor": 0
      },
      "text/plain": [
       "HBox(children=(IntProgress(value=0, description='Batch', max=72, style=ProgressStyle(description_width='initia…"
      ]
     },
     "metadata": {},
     "output_type": "display_data"
    },
    {
     "data": {
      "application/vnd.jupyter.widget-view+json": {
       "model_id": "",
       "version_major": 2,
       "version_minor": 0
      },
      "text/plain": [
       "HBox(children=(IntProgress(value=0, description='Batch', max=72, style=ProgressStyle(description_width='initia…"
      ]
     },
     "metadata": {},
     "output_type": "display_data"
    },
    {
     "data": {
      "application/vnd.jupyter.widget-view+json": {
       "model_id": "",
       "version_major": 2,
       "version_minor": 0
      },
      "text/plain": [
       "HBox(children=(IntProgress(value=0, description='Batch', max=72, style=ProgressStyle(description_width='initia…"
      ]
     },
     "metadata": {},
     "output_type": "display_data"
    },
    {
     "data": {
      "application/vnd.jupyter.widget-view+json": {
       "model_id": "",
       "version_major": 2,
       "version_minor": 0
      },
      "text/plain": [
       "HBox(children=(IntProgress(value=0, description='Batch', max=72, style=ProgressStyle(description_width='initia…"
      ]
     },
     "metadata": {},
     "output_type": "display_data"
    },
    {
     "name": "stdout",
     "output_type": "stream",
     "text": [
      "\n"
     ]
    },
    {
     "data": {
      "application/vnd.jupyter.widget-view+json": {
       "model_id": "aee3383200e04689b693942720a32d25",
       "version_major": 2,
       "version_minor": 0
      },
      "text/plain": [
       "HBox(children=(IntProgress(value=0, description='Pass', max=15, style=ProgressStyle(description_width='initial…"
      ]
     },
     "metadata": {},
     "output_type": "display_data"
    },
    {
     "data": {
      "application/vnd.jupyter.widget-view+json": {
       "model_id": "",
       "version_major": 2,
       "version_minor": 0
      },
      "text/plain": [
       "HBox(children=(IntProgress(value=0, description='Batch', max=72, style=ProgressStyle(description_width='initia…"
      ]
     },
     "metadata": {},
     "output_type": "display_data"
    },
    {
     "data": {
      "application/vnd.jupyter.widget-view+json": {
       "model_id": "",
       "version_major": 2,
       "version_minor": 0
      },
      "text/plain": [
       "HBox(children=(IntProgress(value=0, description='Batch', max=72, style=ProgressStyle(description_width='initia…"
      ]
     },
     "metadata": {},
     "output_type": "display_data"
    },
    {
     "data": {
      "application/vnd.jupyter.widget-view+json": {
       "model_id": "",
       "version_major": 2,
       "version_minor": 0
      },
      "text/plain": [
       "HBox(children=(IntProgress(value=0, description='Batch', max=72, style=ProgressStyle(description_width='initia…"
      ]
     },
     "metadata": {},
     "output_type": "display_data"
    },
    {
     "data": {
      "application/vnd.jupyter.widget-view+json": {
       "model_id": "",
       "version_major": 2,
       "version_minor": 0
      },
      "text/plain": [
       "HBox(children=(IntProgress(value=0, description='Batch', max=72, style=ProgressStyle(description_width='initia…"
      ]
     },
     "metadata": {},
     "output_type": "display_data"
    },
    {
     "data": {
      "application/vnd.jupyter.widget-view+json": {
       "model_id": "",
       "version_major": 2,
       "version_minor": 0
      },
      "text/plain": [
       "HBox(children=(IntProgress(value=0, description='Batch', max=72, style=ProgressStyle(description_width='initia…"
      ]
     },
     "metadata": {},
     "output_type": "display_data"
    },
    {
     "data": {
      "application/vnd.jupyter.widget-view+json": {
       "model_id": "",
       "version_major": 2,
       "version_minor": 0
      },
      "text/plain": [
       "HBox(children=(IntProgress(value=0, description='Batch', max=72, style=ProgressStyle(description_width='initia…"
      ]
     },
     "metadata": {},
     "output_type": "display_data"
    },
    {
     "data": {
      "application/vnd.jupyter.widget-view+json": {
       "model_id": "",
       "version_major": 2,
       "version_minor": 0
      },
      "text/plain": [
       "HBox(children=(IntProgress(value=0, description='Batch', max=72, style=ProgressStyle(description_width='initia…"
      ]
     },
     "metadata": {},
     "output_type": "display_data"
    },
    {
     "data": {
      "application/vnd.jupyter.widget-view+json": {
       "model_id": "",
       "version_major": 2,
       "version_minor": 0
      },
      "text/plain": [
       "HBox(children=(IntProgress(value=0, description='Batch', max=72, style=ProgressStyle(description_width='initia…"
      ]
     },
     "metadata": {},
     "output_type": "display_data"
    },
    {
     "data": {
      "application/vnd.jupyter.widget-view+json": {
       "model_id": "",
       "version_major": 2,
       "version_minor": 0
      },
      "text/plain": [
       "HBox(children=(IntProgress(value=0, description='Batch', max=72, style=ProgressStyle(description_width='initia…"
      ]
     },
     "metadata": {},
     "output_type": "display_data"
    },
    {
     "data": {
      "application/vnd.jupyter.widget-view+json": {
       "model_id": "",
       "version_major": 2,
       "version_minor": 0
      },
      "text/plain": [
       "HBox(children=(IntProgress(value=0, description='Batch', max=72, style=ProgressStyle(description_width='initia…"
      ]
     },
     "metadata": {},
     "output_type": "display_data"
    },
    {
     "data": {
      "application/vnd.jupyter.widget-view+json": {
       "model_id": "",
       "version_major": 2,
       "version_minor": 0
      },
      "text/plain": [
       "HBox(children=(IntProgress(value=0, description='Batch', max=72, style=ProgressStyle(description_width='initia…"
      ]
     },
     "metadata": {},
     "output_type": "display_data"
    },
    {
     "data": {
      "application/vnd.jupyter.widget-view+json": {
       "model_id": "",
       "version_major": 2,
       "version_minor": 0
      },
      "text/plain": [
       "HBox(children=(IntProgress(value=0, description='Batch', max=72, style=ProgressStyle(description_width='initia…"
      ]
     },
     "metadata": {},
     "output_type": "display_data"
    },
    {
     "data": {
      "application/vnd.jupyter.widget-view+json": {
       "model_id": "",
       "version_major": 2,
       "version_minor": 0
      },
      "text/plain": [
       "HBox(children=(IntProgress(value=0, description='Batch', max=72, style=ProgressStyle(description_width='initia…"
      ]
     },
     "metadata": {},
     "output_type": "display_data"
    },
    {
     "data": {
      "application/vnd.jupyter.widget-view+json": {
       "model_id": "",
       "version_major": 2,
       "version_minor": 0
      },
      "text/plain": [
       "HBox(children=(IntProgress(value=0, description='Batch', max=72, style=ProgressStyle(description_width='initia…"
      ]
     },
     "metadata": {},
     "output_type": "display_data"
    },
    {
     "data": {
      "application/vnd.jupyter.widget-view+json": {
       "model_id": "",
       "version_major": 2,
       "version_minor": 0
      },
      "text/plain": [
       "HBox(children=(IntProgress(value=0, description='Batch', max=72, style=ProgressStyle(description_width='initia…"
      ]
     },
     "metadata": {},
     "output_type": "display_data"
    },
    {
     "name": "stdout",
     "output_type": "stream",
     "text": [
      "\n",
      "\tSparsityThetaScore: 0.711678147315979\n",
      "\tSparsityPhiScore: 0.8649687767028809\n",
      "\tPerplexityScore: 2129.4921875\n"
     ]
    }
   ],
   "source": [
    "num_topics = select_topics\n",
    "model = artm.ARTM(num_topics=num_topics, dictionary=dictionary, show_progress_bars=True)\n",
    "\n",
    "# scores\n",
    "model.scores.add(artm.PerplexityScore(name='PerplexityScore', dictionary=dictionary))\n",
    "model.scores.add(artm.SparsityThetaScore(name='SparsityThetaScore'))\n",
    "model.scores.add(artm.SparsityPhiScore(name='SparsityPhiScore'))\n",
    "\n",
    "# 1st regularizer\n",
    "model.regularizers.add(artm.SmoothSparsePhiRegularizer(name='SparsePhi', tau=-1.0)) #-0.1\n",
    "model.fit_offline(batch_vectorizer=batch_vectorizer, num_collection_passes=5)\n",
    "\n",
    "# 2st regularizer\n",
    "model.regularizers.add(artm.SmoothSparseThetaRegularizer(name='SparseTheta', tau=-0.5))\n",
    "model.fit_offline(batch_vectorizer=batch_vectorizer, num_collection_passes=15)\n",
    "\n",
    "# 3st regularizer\n",
    "model.regularizers.add(artm.DecorrelatorPhiRegularizer(name='DecorrelatorPhi', tau=1.5e+5))\n",
    "model.fit_offline(batch_vectorizer=batch_vectorizer, num_collection_passes=15)\n",
    "\n",
    "sparsityTheta = model.score_tracker['SparsityThetaScore'].last_value\n",
    "sparsityPhi = model.score_tracker['SparsityPhiScore'].last_value\n",
    "perpl = model.score_tracker['PerplexityScore'].last_value\n",
    "\n",
    "print(f'\\tSparsityThetaScore: {sparsityTheta}')\n",
    "print(f'\\tSparsityPhiScore: {sparsityPhi}')\n",
    "print(f'\\tPerplexityScore: {perpl}')"
   ]
  },
  {
   "cell_type": "code",
   "execution_count": 28,
   "metadata": {
    "ExecuteTime": {
     "end_time": "2019-02-12T23:41:59.391909Z",
     "start_time": "2019-02-12T23:41:59.337156Z"
    }
   },
   "outputs": [
    {
     "data": {
      "text/plain": [
       "20"
      ]
     },
     "execution_count": 28,
     "metadata": {},
     "output_type": "execute_result"
    }
   ],
   "source": [
    "best_model = model.clone()\n",
    "best_model.num_topics"
   ]
  },
  {
   "cell_type": "markdown",
   "metadata": {},
   "source": [
    "---"
   ]
  },
  {
   "cell_type": "markdown",
   "metadata": {
    "ExecuteTime": {
     "end_time": "2019-02-01T00:14:02.339878Z",
     "start_time": "2019-02-01T00:14:02.338133Z"
    }
   },
   "source": [
    "### print top words for each topics"
   ]
  },
  {
   "cell_type": "code",
   "execution_count": 29,
   "metadata": {
    "ExecuteTime": {
     "end_time": "2019-02-12T23:42:10.076368Z",
     "start_time": "2019-02-12T23:42:09.885012Z"
    }
   },
   "outputs": [
    {
     "name": "stdout",
     "output_type": "stream",
     "text": [
      "topic_0: ['валюта' 'валютный' 'рейтинг' 'политика' 'минфин' 'дефицит' 'облигация'\n",
      " 'национальный' 'резервный' 'риска']\n",
      "topic_1: ['акционер' 'втб' 'русало' 'пакет' 'сбербанк' 'иск' 'председатель' 'оао'\n",
      " 'владеть' 'принадлежать']\n",
      "topic_2: ['инфляция' 'ввп' 'темп' 'потребительский' 'доход' 'выражение'\n",
      " 'минэкономразвития' 'население' 'расход' 'прогнозировать']\n",
      "topic_3: ['деятельность' 'требование' 'кредитный' 'операция' 'лицензия'\n",
      " 'информация' 'страхование' 'банковский' 'лицо' 'вклад']\n",
      "topic_4: ['кредит' 'банковский' 'кредитный' 'триллион' 'долг' 'сбербанк'\n",
      " 'кредитование' 'резерв' 'задолженность' 'вэб']\n",
      "topic_5: ['украина' 'пенсионный' 'газа' 'пенсия' 'украинский' 'газпром' 'газ'\n",
      " 'кубометр' 'тариф' 'возраст']\n",
      "topic_6: ['добыча' 'опека' 'запас' 'нефтяной' 'иран' 'бс' 'саудовский' 'сутки'\n",
      " 'аравия' 'brent']\n",
      "topic_7: ['очень' 'деньга' 'нужно' 'хороший' 'поэтому' 'сделать' 'подчеркнуть'\n",
      " 'делать' 'политика' 'некоторый']\n",
      "topic_8: ['авиакомпания' 'оператор' 'аэрофлот' 'аэропорт' 'самолёт' 'британский'\n",
      " 'сотрудник' 'фунт' 'рейс' 'подразделение']\n",
      "topic_9: ['греция' 'мвф' 'помощь' 'еврозона' 'программа' 'долг' 'ес' 'финансы'\n",
      " 'кредитор' 'переговоры']\n",
      "topic_10: ['программа' 'строительство' 'предприятие' 'оао' 'создание' 'реализация'\n",
      " 'регион' 'владимир_путин' 'премьерминистр' 'область']\n",
      "topic_11: ['газпром' 'газа' 'месторождение' 'роснефть' 'поток' 'газопровод'\n",
      " 'соглашение' 'газ' 'газовый' 'куб']\n",
      "topic_12: ['производство' 'автомобиль' 'топливо' 'фас' 'бензин' 'электроэнергия'\n",
      " 'мощность' 'завод' 'нефтепродукт' 'тариф']\n",
      "topic_13: ['налог' 'закон' 'налоговый' 'минфин' 'доход' 'законопроект' 'документ'\n",
      " 'расход' 'госдума' 'бюджетный']\n",
      "topic_14: ['продукция' 'белоруссия' 'санкция' 'ес' 'таможенный' 'запрет' 'вто'\n",
      " 'ввести' 'турция' 'белорусский']\n",
      "topic_15: ['копейка' 'фьючерс' 'ммвб' 'мск' 'корзина' 'закрытие' 'wti' 'ртс'\n",
      " 'бивалютный' 'сессия']\n",
      "topic_16: ['китай' 'китайский' 'место' 'кнр' 'инвестиция' 'развивающийся' 'юань'\n",
      " 'недвижимость' 'индия' 'япония']\n",
      "topic_17: ['тонна' 'пошлина' 'экспорт' 'зерно' 'экспортный' 'импорт' 'производство'\n",
      " 'продукция' 'товар' 'продукт']\n",
      "topic_18: ['сеть' 'карта' 'магазин' 'услуга' 'товар' 'золото' 'продукт' 'почта'\n",
      " 'россиянин' 'ритейлера']\n",
      "topic_19: ['фондовый' 'фрс' 'иена' 'японский' 'аналитик' 'аналитика' 'прибыль'\n",
      " 'ожидание' 'котировка' 'опуститься']\n"
     ]
    }
   ],
   "source": [
    "phi = best_model.get_phi()\n",
    "phi['word'] = phi.index\n",
    "#phi.head()\n",
    "\n",
    "for col in phi.columns:\n",
    "    if col != 'word':\n",
    "        print(f\"{col}: {phi[[col, 'word']].sort_values(by=col, ascending=False)['word'].values[:10]}\")\n",
    "        #print('\\t',phi[[col, 'word']].sort_values(by=col, ascending=False)['word'].values[:10])"
   ]
  },
  {
   "cell_type": "code",
   "execution_count": null,
   "metadata": {},
   "outputs": [],
   "source": []
  },
  {
   "cell_type": "markdown",
   "metadata": {},
   "source": [
    "### get topics-docs matrix"
   ]
  },
  {
   "cell_type": "code",
   "execution_count": 30,
   "metadata": {
    "ExecuteTime": {
     "end_time": "2019-02-12T23:42:11.442947Z",
     "start_time": "2019-02-12T23:42:10.077844Z"
    }
   },
   "outputs": [
    {
     "data": {
      "application/vnd.jupyter.widget-view+json": {
       "model_id": "",
       "version_major": 2,
       "version_minor": 0
      },
      "text/plain": [
       "HBox(children=(IntProgress(value=0, description='Batch', max=72, style=ProgressStyle(description_width='initia…"
      ]
     },
     "metadata": {},
     "output_type": "display_data"
    },
    {
     "name": "stdout",
     "output_type": "stream",
     "text": [
      "\r",
      "shape theta: (20, 71835)\n"
     ]
    },
    {
     "data": {
      "image/png": "[encoded data removed]",
      "text/plain": [
       "<Figure size 1440x1440 with 1 Axes>"
      ]
     },
     "metadata": {
      "needs_background": "light"
     },
     "output_type": "display_data"
    }
   ],
   "source": [
    "theta = best_model.transform_sparse(batch_vectorizer=batch_vectorizer, eps=0.001)\n",
    "print(f'shape theta: {theta[0].shape}')\n",
    "\n",
    "plt.figure(figsize=(20, 20))\n",
    "plt.imshow(theta[0][:, 2000:2500].toarray());"
   ]
  },
  {
   "cell_type": "code",
   "execution_count": null,
   "metadata": {},
   "outputs": [],
   "source": []
  },
  {
   "cell_type": "markdown",
   "metadata": {},
   "source": [
    "### dense theta matrix"
   ]
  },
  {
   "cell_type": "code",
   "execution_count": 31,
   "metadata": {
    "ExecuteTime": {
     "end_time": "2019-02-12T23:42:12.477118Z",
     "start_time": "2019-02-12T23:42:11.445463Z"
    }
   },
   "outputs": [
    {
     "data": {
      "application/vnd.jupyter.widget-view+json": {
       "model_id": "",
       "version_major": 2,
       "version_minor": 0
      },
      "text/plain": [
       "HBox(children=(IntProgress(value=0, description='Batch', max=72, style=ProgressStyle(description_width='initia…"
      ]
     },
     "metadata": {},
     "output_type": "display_data"
    },
    {
     "name": "stdout",
     "output_type": "stream",
     "text": [
      "\r"
     ]
    },
    {
     "data": {
      "text/html": [
       "<div>\n",
       "<style scoped>\n",
       "    .dataframe tbody tr th:only-of-type {\n",
       "        vertical-align: middle;\n",
       "    }\n",
       "\n",
       "    .dataframe tbody tr th {\n",
       "        vertical-align: top;\n",
       "    }\n",
       "\n",
       "    .dataframe thead th {\n",
       "        text-align: right;\n",
       "    }\n",
       "</style>\n",
       "<table border=\"1\" class=\"dataframe\">\n",
       "  <thead>\n",
       "    <tr style=\"text-align: right;\">\n",
       "      <th></th>\n",
       "      <th>topic_0</th>\n",
       "      <th>topic_1</th>\n",
       "      <th>topic_2</th>\n",
       "      <th>topic_3</th>\n",
       "      <th>topic_4</th>\n",
       "      <th>topic_5</th>\n",
       "      <th>topic_6</th>\n",
       "      <th>topic_7</th>\n",
       "      <th>topic_8</th>\n",
       "      <th>topic_9</th>\n",
       "      <th>topic_10</th>\n",
       "      <th>topic_11</th>\n",
       "      <th>topic_12</th>\n",
       "      <th>topic_13</th>\n",
       "      <th>topic_14</th>\n",
       "      <th>topic_15</th>\n",
       "      <th>topic_16</th>\n",
       "      <th>topic_17</th>\n",
       "      <th>topic_18</th>\n",
       "      <th>topic_19</th>\n",
       "    </tr>\n",
       "  </thead>\n",
       "  <tbody>\n",
       "    <tr>\n",
       "      <th>57000</th>\n",
       "      <td>0.105601</td>\n",
       "      <td>0.401553</td>\n",
       "      <td>0.000000</td>\n",
       "      <td>0.066375</td>\n",
       "      <td>0.000000</td>\n",
       "      <td>0.000000</td>\n",
       "      <td>0.000000</td>\n",
       "      <td>0.089234</td>\n",
       "      <td>0.0</td>\n",
       "      <td>0.055152</td>\n",
       "      <td>0.204529</td>\n",
       "      <td>0.010388</td>\n",
       "      <td>0.000000</td>\n",
       "      <td>0.0</td>\n",
       "      <td>0.067169</td>\n",
       "      <td>0.0</td>\n",
       "      <td>0.000000</td>\n",
       "      <td>0.000000</td>\n",
       "      <td>0.000000</td>\n",
       "      <td>0.000000</td>\n",
       "    </tr>\n",
       "    <tr>\n",
       "      <th>57001</th>\n",
       "      <td>0.000000</td>\n",
       "      <td>0.000000</td>\n",
       "      <td>0.000000</td>\n",
       "      <td>0.000000</td>\n",
       "      <td>0.000000</td>\n",
       "      <td>0.000000</td>\n",
       "      <td>0.528805</td>\n",
       "      <td>0.419321</td>\n",
       "      <td>0.0</td>\n",
       "      <td>0.000000</td>\n",
       "      <td>0.000000</td>\n",
       "      <td>0.000000</td>\n",
       "      <td>0.041042</td>\n",
       "      <td>0.0</td>\n",
       "      <td>0.000000</td>\n",
       "      <td>0.0</td>\n",
       "      <td>0.000000</td>\n",
       "      <td>0.010831</td>\n",
       "      <td>0.000000</td>\n",
       "      <td>0.000000</td>\n",
       "    </tr>\n",
       "    <tr>\n",
       "      <th>57002</th>\n",
       "      <td>0.106637</td>\n",
       "      <td>0.129317</td>\n",
       "      <td>0.000000</td>\n",
       "      <td>0.039544</td>\n",
       "      <td>0.049098</td>\n",
       "      <td>0.000000</td>\n",
       "      <td>0.021154</td>\n",
       "      <td>0.000000</td>\n",
       "      <td>0.0</td>\n",
       "      <td>0.000000</td>\n",
       "      <td>0.347670</td>\n",
       "      <td>0.000000</td>\n",
       "      <td>0.000000</td>\n",
       "      <td>0.0</td>\n",
       "      <td>0.014885</td>\n",
       "      <td>0.0</td>\n",
       "      <td>0.114126</td>\n",
       "      <td>0.116072</td>\n",
       "      <td>0.061498</td>\n",
       "      <td>0.000000</td>\n",
       "    </tr>\n",
       "    <tr>\n",
       "      <th>57003</th>\n",
       "      <td>0.000000</td>\n",
       "      <td>0.000000</td>\n",
       "      <td>0.033587</td>\n",
       "      <td>0.000000</td>\n",
       "      <td>0.000000</td>\n",
       "      <td>0.022105</td>\n",
       "      <td>0.081168</td>\n",
       "      <td>0.099327</td>\n",
       "      <td>0.0</td>\n",
       "      <td>0.000000</td>\n",
       "      <td>0.305686</td>\n",
       "      <td>0.341462</td>\n",
       "      <td>0.000000</td>\n",
       "      <td>0.0</td>\n",
       "      <td>0.000000</td>\n",
       "      <td>0.0</td>\n",
       "      <td>0.000000</td>\n",
       "      <td>0.116666</td>\n",
       "      <td>0.000000</td>\n",
       "      <td>0.000000</td>\n",
       "    </tr>\n",
       "    <tr>\n",
       "      <th>57004</th>\n",
       "      <td>0.000000</td>\n",
       "      <td>0.000000</td>\n",
       "      <td>0.000000</td>\n",
       "      <td>0.000000</td>\n",
       "      <td>0.000000</td>\n",
       "      <td>0.016114</td>\n",
       "      <td>0.000000</td>\n",
       "      <td>0.000000</td>\n",
       "      <td>0.0</td>\n",
       "      <td>0.000000</td>\n",
       "      <td>0.288354</td>\n",
       "      <td>0.492330</td>\n",
       "      <td>0.036336</td>\n",
       "      <td>0.0</td>\n",
       "      <td>0.000000</td>\n",
       "      <td>0.0</td>\n",
       "      <td>0.026140</td>\n",
       "      <td>0.000000</td>\n",
       "      <td>0.000000</td>\n",
       "      <td>0.140727</td>\n",
       "    </tr>\n",
       "  </tbody>\n",
       "</table>\n",
       "</div>"
      ],
      "text/plain": [
       "        topic_0   topic_1   topic_2   topic_3   topic_4   topic_5   topic_6  \\\n",
       "57000  0.105601  0.401553  0.000000  0.066375  0.000000  0.000000  0.000000   \n",
       "57001  0.000000  0.000000  0.000000  0.000000  0.000000  0.000000  0.528805   \n",
       "57002  0.106637  0.129317  0.000000  0.039544  0.049098  0.000000  0.021154   \n",
       "57003  0.000000  0.000000  0.033587  0.000000  0.000000  0.022105  0.081168   \n",
       "57004  0.000000  0.000000  0.000000  0.000000  0.000000  0.016114  0.000000   \n",
       "\n",
       "        topic_7  topic_8   topic_9  topic_10  topic_11  topic_12  topic_13  \\\n",
       "57000  0.089234      0.0  0.055152  0.204529  0.010388  0.000000       0.0   \n",
       "57001  0.419321      0.0  0.000000  0.000000  0.000000  0.041042       0.0   \n",
       "57002  0.000000      0.0  0.000000  0.347670  0.000000  0.000000       0.0   \n",
       "57003  0.099327      0.0  0.000000  0.305686  0.341462  0.000000       0.0   \n",
       "57004  0.000000      0.0  0.000000  0.288354  0.492330  0.036336       0.0   \n",
       "\n",
       "       topic_14  topic_15  topic_16  topic_17  topic_18  topic_19  \n",
       "57000  0.067169       0.0  0.000000  0.000000  0.000000  0.000000  \n",
       "57001  0.000000       0.0  0.000000  0.010831  0.000000  0.000000  \n",
       "57002  0.014885       0.0  0.114126  0.116072  0.061498  0.000000  \n",
       "57003  0.000000       0.0  0.000000  0.116666  0.000000  0.000000  \n",
       "57004  0.000000       0.0  0.026140  0.000000  0.000000  0.140727  "
      ]
     },
     "execution_count": 31,
     "metadata": {},
     "output_type": "execute_result"
    }
   ],
   "source": [
    "theta = best_model.transform(batch_vectorizer=batch_vectorizer)\n",
    "theta = theta.T\n",
    "theta.head()"
   ]
  },
  {
   "cell_type": "code",
   "execution_count": null,
   "metadata": {},
   "outputs": [],
   "source": []
  },
  {
   "cell_type": "markdown",
   "metadata": {},
   "source": [
    "## DataViz"
   ]
  },
  {
   "cell_type": "code",
   "execution_count": 32,
   "metadata": {
    "ExecuteTime": {
     "end_time": "2019-02-12T23:42:12.502618Z",
     "start_time": "2019-02-12T23:42:12.479347Z"
    }
   },
   "outputs": [
    {
     "data": {
      "text/html": [
       "<div>\n",
       "<style scoped>\n",
       "    .dataframe tbody tr th:only-of-type {\n",
       "        vertical-align: middle;\n",
       "    }\n",
       "\n",
       "    .dataframe tbody tr th {\n",
       "        vertical-align: top;\n",
       "    }\n",
       "\n",
       "    .dataframe thead th {\n",
       "        text-align: right;\n",
       "    }\n",
       "</style>\n",
       "<table border=\"1\" class=\"dataframe\">\n",
       "  <thead>\n",
       "    <tr style=\"text-align: right;\">\n",
       "      <th></th>\n",
       "      <th>docID</th>\n",
       "      <th>year</th>\n",
       "      <th>month</th>\n",
       "      <th>topic_0</th>\n",
       "      <th>topic_1</th>\n",
       "      <th>topic_2</th>\n",
       "      <th>topic_3</th>\n",
       "      <th>topic_4</th>\n",
       "      <th>topic_5</th>\n",
       "      <th>topic_6</th>\n",
       "      <th>...</th>\n",
       "      <th>topic_10</th>\n",
       "      <th>topic_11</th>\n",
       "      <th>topic_12</th>\n",
       "      <th>topic_13</th>\n",
       "      <th>topic_14</th>\n",
       "      <th>topic_15</th>\n",
       "      <th>topic_16</th>\n",
       "      <th>topic_17</th>\n",
       "      <th>topic_18</th>\n",
       "      <th>topic_19</th>\n",
       "    </tr>\n",
       "  </thead>\n",
       "  <tbody>\n",
       "    <tr>\n",
       "      <th>0</th>\n",
       "      <td>0</td>\n",
       "      <td>2008</td>\n",
       "      <td>2</td>\n",
       "      <td>0.540338</td>\n",
       "      <td>0.000000</td>\n",
       "      <td>0.405610</td>\n",
       "      <td>0.0</td>\n",
       "      <td>0.000000</td>\n",
       "      <td>0.000000</td>\n",
       "      <td>0.000000</td>\n",
       "      <td>...</td>\n",
       "      <td>0.00000</td>\n",
       "      <td>0.000000</td>\n",
       "      <td>0.000000</td>\n",
       "      <td>0.000000</td>\n",
       "      <td>0.000000</td>\n",
       "      <td>0.000000</td>\n",
       "      <td>0.000000</td>\n",
       "      <td>0.0</td>\n",
       "      <td>0.0</td>\n",
       "      <td>0.054052</td>\n",
       "    </tr>\n",
       "    <tr>\n",
       "      <th>1</th>\n",
       "      <td>1</td>\n",
       "      <td>2008</td>\n",
       "      <td>2</td>\n",
       "      <td>0.000000</td>\n",
       "      <td>0.000000</td>\n",
       "      <td>0.000000</td>\n",
       "      <td>0.0</td>\n",
       "      <td>0.000000</td>\n",
       "      <td>0.000000</td>\n",
       "      <td>0.198026</td>\n",
       "      <td>...</td>\n",
       "      <td>0.00000</td>\n",
       "      <td>0.309838</td>\n",
       "      <td>0.054787</td>\n",
       "      <td>0.000000</td>\n",
       "      <td>0.000000</td>\n",
       "      <td>0.293571</td>\n",
       "      <td>0.000000</td>\n",
       "      <td>0.0</td>\n",
       "      <td>0.0</td>\n",
       "      <td>0.000000</td>\n",
       "    </tr>\n",
       "    <tr>\n",
       "      <th>2</th>\n",
       "      <td>2</td>\n",
       "      <td>2008</td>\n",
       "      <td>2</td>\n",
       "      <td>0.000000</td>\n",
       "      <td>0.000000</td>\n",
       "      <td>0.000000</td>\n",
       "      <td>0.0</td>\n",
       "      <td>0.000000</td>\n",
       "      <td>0.000000</td>\n",
       "      <td>0.000000</td>\n",
       "      <td>...</td>\n",
       "      <td>0.00000</td>\n",
       "      <td>0.000000</td>\n",
       "      <td>0.000000</td>\n",
       "      <td>0.000000</td>\n",
       "      <td>0.000000</td>\n",
       "      <td>0.000000</td>\n",
       "      <td>0.000000</td>\n",
       "      <td>0.0</td>\n",
       "      <td>0.0</td>\n",
       "      <td>0.000000</td>\n",
       "    </tr>\n",
       "    <tr>\n",
       "      <th>3</th>\n",
       "      <td>3</td>\n",
       "      <td>2008</td>\n",
       "      <td>2</td>\n",
       "      <td>0.000000</td>\n",
       "      <td>0.000000</td>\n",
       "      <td>0.000000</td>\n",
       "      <td>0.0</td>\n",
       "      <td>0.000000</td>\n",
       "      <td>0.740551</td>\n",
       "      <td>0.000000</td>\n",
       "      <td>...</td>\n",
       "      <td>0.00000</td>\n",
       "      <td>0.085549</td>\n",
       "      <td>0.000000</td>\n",
       "      <td>0.000000</td>\n",
       "      <td>0.104286</td>\n",
       "      <td>0.069613</td>\n",
       "      <td>0.000000</td>\n",
       "      <td>0.0</td>\n",
       "      <td>0.0</td>\n",
       "      <td>0.000000</td>\n",
       "    </tr>\n",
       "    <tr>\n",
       "      <th>4</th>\n",
       "      <td>4</td>\n",
       "      <td>2008</td>\n",
       "      <td>2</td>\n",
       "      <td>0.070750</td>\n",
       "      <td>0.005085</td>\n",
       "      <td>0.008405</td>\n",
       "      <td>0.0</td>\n",
       "      <td>0.087334</td>\n",
       "      <td>0.015678</td>\n",
       "      <td>0.200349</td>\n",
       "      <td>...</td>\n",
       "      <td>0.07143</td>\n",
       "      <td>0.145964</td>\n",
       "      <td>0.000000</td>\n",
       "      <td>0.023157</td>\n",
       "      <td>0.016422</td>\n",
       "      <td>0.000000</td>\n",
       "      <td>0.006991</td>\n",
       "      <td>0.0</td>\n",
       "      <td>0.0</td>\n",
       "      <td>0.000000</td>\n",
       "    </tr>\n",
       "  </tbody>\n",
       "</table>\n",
       "<p>5 rows × 23 columns</p>\n",
       "</div>"
      ],
      "text/plain": [
       "   docID  year  month   topic_0   topic_1   topic_2  topic_3   topic_4  \\\n",
       "0      0  2008      2  0.540338  0.000000  0.405610      0.0  0.000000   \n",
       "1      1  2008      2  0.000000  0.000000  0.000000      0.0  0.000000   \n",
       "2      2  2008      2  0.000000  0.000000  0.000000      0.0  0.000000   \n",
       "3      3  2008      2  0.000000  0.000000  0.000000      0.0  0.000000   \n",
       "4      4  2008      2  0.070750  0.005085  0.008405      0.0  0.087334   \n",
       "\n",
       "    topic_5   topic_6    ...     topic_10  topic_11  topic_12  topic_13  \\\n",
       "0  0.000000  0.000000    ...      0.00000  0.000000  0.000000  0.000000   \n",
       "1  0.000000  0.198026    ...      0.00000  0.309838  0.054787  0.000000   \n",
       "2  0.000000  0.000000    ...      0.00000  0.000000  0.000000  0.000000   \n",
       "3  0.740551  0.000000    ...      0.00000  0.085549  0.000000  0.000000   \n",
       "4  0.015678  0.200349    ...      0.07143  0.145964  0.000000  0.023157   \n",
       "\n",
       "   topic_14  topic_15  topic_16  topic_17  topic_18  topic_19  \n",
       "0  0.000000  0.000000  0.000000       0.0       0.0  0.054052  \n",
       "1  0.000000  0.293571  0.000000       0.0       0.0  0.000000  \n",
       "2  0.000000  0.000000  0.000000       0.0       0.0  0.000000  \n",
       "3  0.104286  0.069613  0.000000       0.0       0.0  0.000000  \n",
       "4  0.016422  0.000000  0.006991       0.0       0.0  0.000000  \n",
       "\n",
       "[5 rows x 23 columns]"
      ]
     },
     "execution_count": 32,
     "metadata": {},
     "output_type": "execute_result"
    }
   ],
   "source": [
    "joined = id_date.join(theta)\n",
    "joined.head()"
   ]
  },
  {
   "cell_type": "code",
   "execution_count": 33,
   "metadata": {
    "ExecuteTime": {
     "end_time": "2019-02-12T23:42:12.532497Z",
     "start_time": "2019-02-12T23:42:12.503867Z"
    }
   },
   "outputs": [
    {
     "name": "stdout",
     "output_type": "stream",
     "text": [
      "gb.shape: (132, 20)\n"
     ]
    },
    {
     "data": {
      "text/html": [
       "<div>\n",
       "<style scoped>\n",
       "    .dataframe tbody tr th:only-of-type {\n",
       "        vertical-align: middle;\n",
       "    }\n",
       "\n",
       "    .dataframe tbody tr th {\n",
       "        vertical-align: top;\n",
       "    }\n",
       "\n",
       "    .dataframe thead th {\n",
       "        text-align: right;\n",
       "    }\n",
       "</style>\n",
       "<table border=\"1\" class=\"dataframe\">\n",
       "  <thead>\n",
       "    <tr style=\"text-align: right;\">\n",
       "      <th></th>\n",
       "      <th></th>\n",
       "      <th>topic_0</th>\n",
       "      <th>topic_1</th>\n",
       "      <th>topic_2</th>\n",
       "      <th>topic_3</th>\n",
       "      <th>topic_4</th>\n",
       "      <th>topic_5</th>\n",
       "      <th>topic_6</th>\n",
       "      <th>topic_7</th>\n",
       "      <th>topic_8</th>\n",
       "      <th>topic_9</th>\n",
       "      <th>topic_10</th>\n",
       "      <th>topic_11</th>\n",
       "      <th>topic_12</th>\n",
       "      <th>topic_13</th>\n",
       "      <th>topic_14</th>\n",
       "      <th>topic_15</th>\n",
       "      <th>topic_16</th>\n",
       "      <th>topic_17</th>\n",
       "      <th>topic_18</th>\n",
       "      <th>topic_19</th>\n",
       "    </tr>\n",
       "    <tr>\n",
       "      <th>year</th>\n",
       "      <th>month</th>\n",
       "      <th></th>\n",
       "      <th></th>\n",
       "      <th></th>\n",
       "      <th></th>\n",
       "      <th></th>\n",
       "      <th></th>\n",
       "      <th></th>\n",
       "      <th></th>\n",
       "      <th></th>\n",
       "      <th></th>\n",
       "      <th></th>\n",
       "      <th></th>\n",
       "      <th></th>\n",
       "      <th></th>\n",
       "      <th></th>\n",
       "      <th></th>\n",
       "      <th></th>\n",
       "      <th></th>\n",
       "      <th></th>\n",
       "      <th></th>\n",
       "    </tr>\n",
       "  </thead>\n",
       "  <tbody>\n",
       "    <tr>\n",
       "      <th rowspan=\"5\" valign=\"top\">2008</th>\n",
       "      <th>2</th>\n",
       "      <td>4.813261</td>\n",
       "      <td>5.488080</td>\n",
       "      <td>5.964662</td>\n",
       "      <td>4.208624</td>\n",
       "      <td>3.089160</td>\n",
       "      <td>11.228310</td>\n",
       "      <td>2.959507</td>\n",
       "      <td>8.912588</td>\n",
       "      <td>4.829643</td>\n",
       "      <td>2.878154</td>\n",
       "      <td>9.171441</td>\n",
       "      <td>8.536683</td>\n",
       "      <td>5.467681</td>\n",
       "      <td>7.261091</td>\n",
       "      <td>5.182634</td>\n",
       "      <td>10.614285</td>\n",
       "      <td>2.754752</td>\n",
       "      <td>1.217703</td>\n",
       "      <td>2.464272</td>\n",
       "      <td>7.957469</td>\n",
       "    </tr>\n",
       "    <tr>\n",
       "      <th>3</th>\n",
       "      <td>17.044489</td>\n",
       "      <td>20.835608</td>\n",
       "      <td>15.005271</td>\n",
       "      <td>12.134480</td>\n",
       "      <td>14.875734</td>\n",
       "      <td>29.550312</td>\n",
       "      <td>4.789611</td>\n",
       "      <td>24.783245</td>\n",
       "      <td>19.599918</td>\n",
       "      <td>7.777667</td>\n",
       "      <td>31.505749</td>\n",
       "      <td>15.863841</td>\n",
       "      <td>12.473089</td>\n",
       "      <td>16.681610</td>\n",
       "      <td>16.623259</td>\n",
       "      <td>22.803558</td>\n",
       "      <td>12.965866</td>\n",
       "      <td>10.445355</td>\n",
       "      <td>8.848382</td>\n",
       "      <td>18.392958</td>\n",
       "    </tr>\n",
       "    <tr>\n",
       "      <th>4</th>\n",
       "      <td>9.700424</td>\n",
       "      <td>28.329887</td>\n",
       "      <td>19.131075</td>\n",
       "      <td>13.660434</td>\n",
       "      <td>13.452602</td>\n",
       "      <td>11.601107</td>\n",
       "      <td>6.058620</td>\n",
       "      <td>20.146597</td>\n",
       "      <td>26.414236</td>\n",
       "      <td>9.657586</td>\n",
       "      <td>33.146400</td>\n",
       "      <td>22.246500</td>\n",
       "      <td>12.647904</td>\n",
       "      <td>16.886654</td>\n",
       "      <td>14.686558</td>\n",
       "      <td>12.763766</td>\n",
       "      <td>9.758890</td>\n",
       "      <td>9.757644</td>\n",
       "      <td>8.569420</td>\n",
       "      <td>7.383693</td>\n",
       "    </tr>\n",
       "    <tr>\n",
       "      <th>5</th>\n",
       "      <td>6.115730</td>\n",
       "      <td>19.806046</td>\n",
       "      <td>28.161425</td>\n",
       "      <td>10.916204</td>\n",
       "      <td>5.899732</td>\n",
       "      <td>13.090446</td>\n",
       "      <td>8.020043</td>\n",
       "      <td>19.506926</td>\n",
       "      <td>7.868697</td>\n",
       "      <td>6.411815</td>\n",
       "      <td>27.148411</td>\n",
       "      <td>13.207221</td>\n",
       "      <td>15.514112</td>\n",
       "      <td>17.972965</td>\n",
       "      <td>16.951159</td>\n",
       "      <td>22.593479</td>\n",
       "      <td>7.955207</td>\n",
       "      <td>6.677433</td>\n",
       "      <td>3.825008</td>\n",
       "      <td>5.357947</td>\n",
       "    </tr>\n",
       "    <tr>\n",
       "      <th>6</th>\n",
       "      <td>12.787965</td>\n",
       "      <td>36.243973</td>\n",
       "      <td>27.930038</td>\n",
       "      <td>18.576984</td>\n",
       "      <td>9.928675</td>\n",
       "      <td>10.474600</td>\n",
       "      <td>7.483702</td>\n",
       "      <td>25.953140</td>\n",
       "      <td>10.207395</td>\n",
       "      <td>6.762856</td>\n",
       "      <td>40.962597</td>\n",
       "      <td>18.512325</td>\n",
       "      <td>19.105944</td>\n",
       "      <td>27.368671</td>\n",
       "      <td>20.552599</td>\n",
       "      <td>12.795038</td>\n",
       "      <td>10.087998</td>\n",
       "      <td>8.387285</td>\n",
       "      <td>6.782107</td>\n",
       "      <td>7.096110</td>\n",
       "    </tr>\n",
       "  </tbody>\n",
       "</table>\n",
       "</div>"
      ],
      "text/plain": [
       "              topic_0    topic_1    topic_2    topic_3    topic_4    topic_5  \\\n",
       "year month                                                                     \n",
       "2008 2       4.813261   5.488080   5.964662   4.208624   3.089160  11.228310   \n",
       "     3      17.044489  20.835608  15.005271  12.134480  14.875734  29.550312   \n",
       "     4       9.700424  28.329887  19.131075  13.660434  13.452602  11.601107   \n",
       "     5       6.115730  19.806046  28.161425  10.916204   5.899732  13.090446   \n",
       "     6      12.787965  36.243973  27.930038  18.576984   9.928675  10.474600   \n",
       "\n",
       "             topic_6    topic_7    topic_8   topic_9   topic_10   topic_11  \\\n",
       "year month                                                                   \n",
       "2008 2      2.959507   8.912588   4.829643  2.878154   9.171441   8.536683   \n",
       "     3      4.789611  24.783245  19.599918  7.777667  31.505749  15.863841   \n",
       "     4      6.058620  20.146597  26.414236  9.657586  33.146400  22.246500   \n",
       "     5      8.020043  19.506926   7.868697  6.411815  27.148411  13.207221   \n",
       "     6      7.483702  25.953140  10.207395  6.762856  40.962597  18.512325   \n",
       "\n",
       "             topic_12   topic_13   topic_14   topic_15   topic_16   topic_17  \\\n",
       "year month                                                                     \n",
       "2008 2       5.467681   7.261091   5.182634  10.614285   2.754752   1.217703   \n",
       "     3      12.473089  16.681610  16.623259  22.803558  12.965866  10.445355   \n",
       "     4      12.647904  16.886654  14.686558  12.763766   9.758890   9.757644   \n",
       "     5      15.514112  17.972965  16.951159  22.593479   7.955207   6.677433   \n",
       "     6      19.105944  27.368671  20.552599  12.795038  10.087998   8.387285   \n",
       "\n",
       "            topic_18   topic_19  \n",
       "year month                       \n",
       "2008 2      2.464272   7.957469  \n",
       "     3      8.848382  18.392958  \n",
       "     4      8.569420   7.383693  \n",
       "     5      3.825008   5.357947  \n",
       "     6      6.782107   7.096110  "
      ]
     },
     "execution_count": 33,
     "metadata": {},
     "output_type": "execute_result"
    }
   ],
   "source": [
    "topics = ['topic_{}'.format(i) for i in range(select_topics)]\n",
    "gb = joined.groupby(['year', 'month'])[topics].sum()\n",
    "print(f'gb.shape: {gb.shape}')\n",
    "gb.head()"
   ]
  },
  {
   "cell_type": "markdown",
   "metadata": {},
   "source": [
    "### straightforward matrix heatmap"
   ]
  },
  {
   "cell_type": "code",
   "execution_count": 48,
   "metadata": {
    "ExecuteTime": {
     "end_time": "2019-02-12T23:42:20.229156Z",
     "start_time": "2019-02-12T23:42:19.986938Z"
    },
    "scrolled": true
   },
   "outputs": [
    {
     "data": {
      "text/plain": [
       "<matplotlib.image.AxesImage at 0x7f2452ffde10>"
      ]
     },
     "execution_count": 48,
     "metadata": {},
     "output_type": "execute_result"
    },
    {
     "data": {
      "image/png": "[encoded data removed]",
      "text/plain": [
       "<Figure size 360x1800 with 1 Axes>"
      ]
     },
     "metadata": {
      "needs_background": "light"
     },
     "output_type": "display_data"
    }
   ],
   "source": [
    "plt.figure(figsize=(5, 25))\n",
    "plt.imshow(gb[topics])"
   ]
  },
  {
   "cell_type": "markdown",
   "metadata": {},
   "source": [
    "## pygal"
   ]
  },
  {
   "cell_type": "code",
   "execution_count": 35,
   "metadata": {
    "ExecuteTime": {
     "end_time": "2019-02-12T23:42:13.087180Z",
     "start_time": "2019-02-12T23:42:13.063050Z"
    }
   },
   "outputs": [],
   "source": [
    "import pygal\n",
    "from IPython.display import SVG, HTML"
   ]
  },
  {
   "cell_type": "code",
   "execution_count": 36,
   "metadata": {
    "ExecuteTime": {
     "end_time": "2019-02-12T23:42:13.090675Z",
     "start_time": "2019-02-12T23:42:13.088404Z"
    }
   },
   "outputs": [],
   "source": [
    "html_pygal = \"\"\"\n",
    "<!DOCTYPE html>\n",
    "<html>\n",
    "  <head>\n",
    "  <script type=\"text/javascript\" src=\"http://kozea.github.com/pygal.js/javascripts/svg.jquery.js\"></script>\n",
    "  <script type=\"text/javascript\" src=\"http://kozea.github.com/pygal.js/javascripts/pygal-tooltips.js\"></script>\n",
    "    <!-- ... -->\n",
    "  </head>\n",
    "  <body>\n",
    "    <figure>\n",
    "      {pygal_render}\n",
    "    </figure>\n",
    "  </body>\n",
    "</html>\n",
    "\"\"\""
   ]
  },
  {
   "cell_type": "code",
   "execution_count": 37,
   "metadata": {
    "ExecuteTime": {
     "end_time": "2019-02-12T23:42:13.097236Z",
     "start_time": "2019-02-12T23:42:13.092034Z"
    },
    "scrolled": true
   },
   "outputs": [
    {
     "data": {
      "text/plain": [
       "100.12274"
      ]
     },
     "execution_count": 37,
     "metadata": {},
     "output_type": "execute_result"
    }
   ],
   "source": [
    "max(gb['topic_1'].values)"
   ]
  },
  {
   "cell_type": "code",
   "execution_count": 38,
   "metadata": {
    "ExecuteTime": {
     "end_time": "2019-02-12T23:42:13.167983Z",
     "start_time": "2019-02-12T23:42:13.098377Z"
    },
    "scrolled": false
   },
   "outputs": [
    {
     "data": {
      "text/html": [
       "\n",
       "<!DOCTYPE html>\n",
       "<html>\n",
       "  <head>\n",
       "  <script type=\"text/javascript\" src=\"http://kozea.github.com/pygal.js/javascripts/svg.jquery.js\"></script>\n",
       "  <script type=\"text/javascript\" src=\"http://kozea.github.com/pygal.js/javascripts/pygal-tooltips.js\"></script>\n",
       "    <!-- ... -->\n",
       "  </head>\n",
       "  <body>\n",
       "    <figure>\n",
       "      <?xml version='1.0' encoding='utf-8'?>\n",
       "<svg xmlns:xlink=\"http://www.w3.org/1999/xlink\" xmlns=\"http://www.w3.org/2000/svg\" id=\"chart-168b77d1-6bf5-46a4-a5db-ed98b0870ddd\" class=\"pygal-chart\" viewBox=\"0 0 800 600\"><!--Generated with pygal 2.4.0 (lxml) ©Kozea 2012-2016 on 2019-02-13--><!--http://pygal.org--><!--http://github.com/Kozea/pygal--><defs><style type=\"text/css\">#chart-168b77d1-6bf5-46a4-a5db-ed98b0870ddd{-webkit-user-select:none;-webkit-font-smoothing:antialiased;font-family:Consolas,\"Liberation Mono\",Menlo,Courier,monospace}#chart-168b77d1-6bf5-46a4-a5db-ed98b0870ddd .title{font-family:Consolas,\"Liberation Mono\",Menlo,Courier,monospace;font-size:16px}#chart-168b77d1-6bf5-46a4-a5db-ed98b0870ddd .legends .legend text{font-family:Consolas,\"Liberation Mono\",Menlo,Courier,monospace;font-size:14px}#chart-168b77d1-6bf5-46a4-a5db-ed98b0870ddd .axis text{font-family:Consolas,\"Liberation Mono\",Menlo,Courier,monospace;font-size:10px}#chart-168b77d1-6bf5-46a4-a5db-ed98b0870ddd .axis text.major{font-family:Consolas,\"Liberation Mono\",Menlo,Courier,monospace;font-size:10px}#chart-168b77d1-6bf5-46a4-a5db-ed98b0870ddd .text-overlay text.value{font-family:Consolas,\"Liberation Mono\",Menlo,Courier,monospace;font-size:16px}#chart-168b77d1-6bf5-46a4-a5db-ed98b0870ddd .text-overlay text.label{font-family:Consolas,\"Liberation Mono\",Menlo,Courier,monospace;font-size:10px}#chart-168b77d1-6bf5-46a4-a5db-ed98b0870ddd .tooltip{font-family:Consolas,\"Liberation Mono\",Menlo,Courier,monospace;font-size:14px}#chart-168b77d1-6bf5-46a4-a5db-ed98b0870ddd text.no_data{font-family:Consolas,\"Liberation Mono\",Menlo,Courier,monospace;font-size:64px}\n",
       "#chart-168b77d1-6bf5-46a4-a5db-ed98b0870ddd{background-color:rgba(249,249,249,1)}#chart-168b77d1-6bf5-46a4-a5db-ed98b0870ddd path,#chart-168b77d1-6bf5-46a4-a5db-ed98b0870ddd line,#chart-168b77d1-6bf5-46a4-a5db-ed98b0870ddd rect,#chart-168b77d1-6bf5-46a4-a5db-ed98b0870ddd circle{-webkit-transition:150ms;-moz-transition:150ms;transition:150ms}#chart-168b77d1-6bf5-46a4-a5db-ed98b0870ddd .graph &gt; .background{fill:rgba(249,249,249,1)}#chart-168b77d1-6bf5-46a4-a5db-ed98b0870ddd .plot &gt; .background{fill:rgba(255,255,255,1)}#chart-168b77d1-6bf5-46a4-a5db-ed98b0870ddd .graph{fill:rgba(0,0,0,.87)}#chart-168b77d1-6bf5-46a4-a5db-ed98b0870ddd text.no_data{fill:rgba(0,0,0,1)}#chart-168b77d1-6bf5-46a4-a5db-ed98b0870ddd .title{fill:rgba(0,0,0,1)}#chart-168b77d1-6bf5-46a4-a5db-ed98b0870ddd .legends .legend text{fill:rgba(0,0,0,.87)}#chart-168b77d1-6bf5-46a4-a5db-ed98b0870ddd .legends .legend:hover text{fill:rgba(0,0,0,1)}#chart-168b77d1-6bf5-46a4-a5db-ed98b0870ddd .axis .line{stroke:rgba(0,0,0,1)}#chart-168b77d1-6bf5-46a4-a5db-ed98b0870ddd .axis .guide.line{stroke:rgba(0,0,0,.54)}#chart-168b77d1-6bf5-46a4-a5db-ed98b0870ddd .axis .major.line{stroke:rgba(0,0,0,.87)}#chart-168b77d1-6bf5-46a4-a5db-ed98b0870ddd .axis text.major{fill:rgba(0,0,0,1)}#chart-168b77d1-6bf5-46a4-a5db-ed98b0870ddd .axis.y .guides:hover .guide.line,#chart-168b77d1-6bf5-46a4-a5db-ed98b0870ddd .line-graph .axis.x .guides:hover .guide.line,#chart-168b77d1-6bf5-46a4-a5db-ed98b0870ddd .stackedline-graph .axis.x .guides:hover .guide.line,#chart-168b77d1-6bf5-46a4-a5db-ed98b0870ddd .xy-graph .axis.x .guides:hover .guide.line{stroke:rgba(0,0,0,1)}#chart-168b77d1-6bf5-46a4-a5db-ed98b0870ddd .axis .guides:hover text{fill:rgba(0,0,0,1)}#chart-168b77d1-6bf5-46a4-a5db-ed98b0870ddd .reactive{fill-opacity:.7;stroke-opacity:.8}#chart-168b77d1-6bf5-46a4-a5db-ed98b0870ddd .ci{stroke:rgba(0,0,0,.87)}#chart-168b77d1-6bf5-46a4-a5db-ed98b0870ddd .reactive.active,#chart-168b77d1-6bf5-46a4-a5db-ed98b0870ddd .active .reactive{fill-opacity:.8;stroke-opacity:.9;stroke-width:4}#chart-168b77d1-6bf5-46a4-a5db-ed98b0870ddd .ci .reactive.active{stroke-width:1.5}#chart-168b77d1-6bf5-46a4-a5db-ed98b0870ddd .series text{fill:rgba(0,0,0,1)}#chart-168b77d1-6bf5-46a4-a5db-ed98b0870ddd .tooltip rect{fill:rgba(255,255,255,1);stroke:rgba(0,0,0,1);-webkit-transition:opacity 150ms;-moz-transition:opacity 150ms;transition:opacity 150ms}#chart-168b77d1-6bf5-46a4-a5db-ed98b0870ddd .tooltip .label{fill:rgba(0,0,0,.87)}#chart-168b77d1-6bf5-46a4-a5db-ed98b0870ddd .tooltip .label{fill:rgba(0,0,0,.87)}#chart-168b77d1-6bf5-46a4-a5db-ed98b0870ddd .tooltip .legend{font-size:.8em;fill:rgba(0,0,0,.54)}#chart-168b77d1-6bf5-46a4-a5db-ed98b0870ddd .tooltip .x_label{font-size:.6em;fill:rgba(0,0,0,1)}#chart-168b77d1-6bf5-46a4-a5db-ed98b0870ddd .tooltip .xlink{font-size:.5em;text-decoration:underline}#chart-168b77d1-6bf5-46a4-a5db-ed98b0870ddd .tooltip .value{font-size:1.5em}#chart-168b77d1-6bf5-46a4-a5db-ed98b0870ddd .bound{font-size:.5em}#chart-168b77d1-6bf5-46a4-a5db-ed98b0870ddd .max-value{font-size:.75em;fill:rgba(0,0,0,.54)}#chart-168b77d1-6bf5-46a4-a5db-ed98b0870ddd .map-element{fill:rgba(255,255,255,1);stroke:rgba(0,0,0,.54) !important}#chart-168b77d1-6bf5-46a4-a5db-ed98b0870ddd .map-element .reactive{fill-opacity:inherit;stroke-opacity:inherit}#chart-168b77d1-6bf5-46a4-a5db-ed98b0870ddd .color-0,#chart-168b77d1-6bf5-46a4-a5db-ed98b0870ddd .color-0 a:visited{stroke:#f44336;fill:#f44336}#chart-168b77d1-6bf5-46a4-a5db-ed98b0870ddd .color-1,#chart-168b77d1-6bf5-46a4-a5db-ed98b0870ddd .color-1 a:visited{stroke:#3f51b5;fill:#3f51b5}#chart-168b77d1-6bf5-46a4-a5db-ed98b0870ddd .color-2,#chart-168b77d1-6bf5-46a4-a5db-ed98b0870ddd .color-2 a:visited{stroke:#009688;fill:#009688}#chart-168b77d1-6bf5-46a4-a5db-ed98b0870ddd .color-3,#chart-168b77d1-6bf5-46a4-a5db-ed98b0870ddd .color-3 a:visited{stroke:#ffc107;fill:#ffc107}#chart-168b77d1-6bf5-46a4-a5db-ed98b0870ddd .color-4,#chart-168b77d1-6bf5-46a4-a5db-ed98b0870ddd .color-4 a:visited{stroke:#ff5722;fill:#ff5722}#chart-168b77d1-6bf5-46a4-a5db-ed98b0870ddd .color-5,#chart-168b77d1-6bf5-46a4-a5db-ed98b0870ddd .color-5 a:visited{stroke:#9c27b0;fill:#9c27b0}#chart-168b77d1-6bf5-46a4-a5db-ed98b0870ddd .color-6,#chart-168b77d1-6bf5-46a4-a5db-ed98b0870ddd .color-6 a:visited{stroke:#03a9f4;fill:#03a9f4}#chart-168b77d1-6bf5-46a4-a5db-ed98b0870ddd .color-7,#chart-168b77d1-6bf5-46a4-a5db-ed98b0870ddd .color-7 a:visited{stroke:#8bc34a;fill:#8bc34a}#chart-168b77d1-6bf5-46a4-a5db-ed98b0870ddd .color-8,#chart-168b77d1-6bf5-46a4-a5db-ed98b0870ddd .color-8 a:visited{stroke:#ff9800;fill:#ff9800}#chart-168b77d1-6bf5-46a4-a5db-ed98b0870ddd .color-9,#chart-168b77d1-6bf5-46a4-a5db-ed98b0870ddd .color-9 a:visited{stroke:#e91e63;fill:#e91e63}#chart-168b77d1-6bf5-46a4-a5db-ed98b0870ddd .color-10,#chart-168b77d1-6bf5-46a4-a5db-ed98b0870ddd .color-10 a:visited{stroke:#2196f3;fill:#2196f3}#chart-168b77d1-6bf5-46a4-a5db-ed98b0870ddd .color-11,#chart-168b77d1-6bf5-46a4-a5db-ed98b0870ddd .color-11 a:visited{stroke:#4caf50;fill:#4caf50}#chart-168b77d1-6bf5-46a4-a5db-ed98b0870ddd .color-12,#chart-168b77d1-6bf5-46a4-a5db-ed98b0870ddd .color-12 a:visited{stroke:#ffeb3b;fill:#ffeb3b}#chart-168b77d1-6bf5-46a4-a5db-ed98b0870ddd .color-13,#chart-168b77d1-6bf5-46a4-a5db-ed98b0870ddd .color-13 a:visited{stroke:#673ab7;fill:#673ab7}#chart-168b77d1-6bf5-46a4-a5db-ed98b0870ddd .color-14,#chart-168b77d1-6bf5-46a4-a5db-ed98b0870ddd .color-14 a:visited{stroke:#00bcd4;fill:#00bcd4}#chart-168b77d1-6bf5-46a4-a5db-ed98b0870ddd .color-15,#chart-168b77d1-6bf5-46a4-a5db-ed98b0870ddd .color-15 a:visited{stroke:#cddc39;fill:#cddc39}#chart-168b77d1-6bf5-46a4-a5db-ed98b0870ddd .color-16,#chart-168b77d1-6bf5-46a4-a5db-ed98b0870ddd .color-16 a:visited{stroke:#9e9e9e;fill:#9e9e9e}#chart-168b77d1-6bf5-46a4-a5db-ed98b0870ddd .color-17,#chart-168b77d1-6bf5-46a4-a5db-ed98b0870ddd .color-17 a:visited{stroke:#607d8b;fill:#607d8b}#chart-168b77d1-6bf5-46a4-a5db-ed98b0870ddd .color-18,#chart-168b77d1-6bf5-46a4-a5db-ed98b0870ddd .color-18 a:visited{stroke:#7b0f07;fill:#7b0f07}#chart-168b77d1-6bf5-46a4-a5db-ed98b0870ddd .color-19,#chart-168b77d1-6bf5-46a4-a5db-ed98b0870ddd .color-19 a:visited{stroke:#141938;fill:#141938}#chart-168b77d1-6bf5-46a4-a5db-ed98b0870ddd .text-overlay .color-0 text{fill:black}#chart-168b77d1-6bf5-46a4-a5db-ed98b0870ddd .text-overlay .color-1 text{fill:black}#chart-168b77d1-6bf5-46a4-a5db-ed98b0870ddd .text-overlay .color-2 text{fill:black}#chart-168b77d1-6bf5-46a4-a5db-ed98b0870ddd .text-overlay .color-3 text{fill:black}#chart-168b77d1-6bf5-46a4-a5db-ed98b0870ddd .text-overlay .color-4 text{fill:black}#chart-168b77d1-6bf5-46a4-a5db-ed98b0870ddd .text-overlay .color-5 text{fill:black}#chart-168b77d1-6bf5-46a4-a5db-ed98b0870ddd .text-overlay .color-6 text{fill:black}#chart-168b77d1-6bf5-46a4-a5db-ed98b0870ddd .text-overlay .color-7 text{fill:black}#chart-168b77d1-6bf5-46a4-a5db-ed98b0870ddd .text-overlay .color-8 text{fill:black}#chart-168b77d1-6bf5-46a4-a5db-ed98b0870ddd .text-overlay .color-9 text{fill:black}#chart-168b77d1-6bf5-46a4-a5db-ed98b0870ddd .text-overlay .color-10 text{fill:black}#chart-168b77d1-6bf5-46a4-a5db-ed98b0870ddd .text-overlay .color-11 text{fill:black}#chart-168b77d1-6bf5-46a4-a5db-ed98b0870ddd .text-overlay .color-12 text{fill:black}#chart-168b77d1-6bf5-46a4-a5db-ed98b0870ddd .text-overlay .color-13 text{fill:black}#chart-168b77d1-6bf5-46a4-a5db-ed98b0870ddd .text-overlay .color-14 text{fill:black}#chart-168b77d1-6bf5-46a4-a5db-ed98b0870ddd .text-overlay .color-15 text{fill:black}#chart-168b77d1-6bf5-46a4-a5db-ed98b0870ddd .text-overlay .color-16 text{fill:black}#chart-168b77d1-6bf5-46a4-a5db-ed98b0870ddd .text-overlay .color-17 text{fill:black}#chart-168b77d1-6bf5-46a4-a5db-ed98b0870ddd .text-overlay .color-18 text{fill:black}#chart-168b77d1-6bf5-46a4-a5db-ed98b0870ddd .text-overlay .color-19 text{fill:white}\n",
       "#chart-168b77d1-6bf5-46a4-a5db-ed98b0870ddd text.no_data{text-anchor:middle}#chart-168b77d1-6bf5-46a4-a5db-ed98b0870ddd .guide.line{fill:none}#chart-168b77d1-6bf5-46a4-a5db-ed98b0870ddd .centered{text-anchor:middle}#chart-168b77d1-6bf5-46a4-a5db-ed98b0870ddd .title{text-anchor:middle}#chart-168b77d1-6bf5-46a4-a5db-ed98b0870ddd .legends .legend text{fill-opacity:1}#chart-168b77d1-6bf5-46a4-a5db-ed98b0870ddd .axis.x text{text-anchor:middle}#chart-168b77d1-6bf5-46a4-a5db-ed98b0870ddd .axis.x:not(.web) text[transform]{text-anchor:start}#chart-168b77d1-6bf5-46a4-a5db-ed98b0870ddd .axis.x:not(.web) text[transform].backwards{text-anchor:end}#chart-168b77d1-6bf5-46a4-a5db-ed98b0870ddd .axis.y text{text-anchor:end}#chart-168b77d1-6bf5-46a4-a5db-ed98b0870ddd .axis.y text[transform].backwards{text-anchor:start}#chart-168b77d1-6bf5-46a4-a5db-ed98b0870ddd .axis.y2 text{text-anchor:start}#chart-168b77d1-6bf5-46a4-a5db-ed98b0870ddd .axis.y2 text[transform].backwards{text-anchor:end}#chart-168b77d1-6bf5-46a4-a5db-ed98b0870ddd .axis .guide.line{stroke-dasharray:4,4}#chart-168b77d1-6bf5-46a4-a5db-ed98b0870ddd .axis .major.guide.line{stroke-dasharray:6,6}#chart-168b77d1-6bf5-46a4-a5db-ed98b0870ddd .horizontal .axis.y .guide.line,#chart-168b77d1-6bf5-46a4-a5db-ed98b0870ddd .horizontal .axis.y2 .guide.line,#chart-168b77d1-6bf5-46a4-a5db-ed98b0870ddd .vertical .axis.x .guide.line{opacity:0}#chart-168b77d1-6bf5-46a4-a5db-ed98b0870ddd .horizontal .axis.always_show .guide.line,#chart-168b77d1-6bf5-46a4-a5db-ed98b0870ddd .vertical .axis.always_show .guide.line{opacity:1 !important}#chart-168b77d1-6bf5-46a4-a5db-ed98b0870ddd .axis.y .guides:hover .guide.line,#chart-168b77d1-6bf5-46a4-a5db-ed98b0870ddd .axis.y2 .guides:hover .guide.line,#chart-168b77d1-6bf5-46a4-a5db-ed98b0870ddd .axis.x .guides:hover .guide.line{opacity:1}#chart-168b77d1-6bf5-46a4-a5db-ed98b0870ddd .axis .guides:hover text{opacity:1}#chart-168b77d1-6bf5-46a4-a5db-ed98b0870ddd .nofill{fill:none}#chart-168b77d1-6bf5-46a4-a5db-ed98b0870ddd .subtle-fill{fill-opacity:.2}#chart-168b77d1-6bf5-46a4-a5db-ed98b0870ddd .dot{stroke-width:1px;fill-opacity:1}#chart-168b77d1-6bf5-46a4-a5db-ed98b0870ddd .dot.active{stroke-width:5px}#chart-168b77d1-6bf5-46a4-a5db-ed98b0870ddd .dot.negative{fill:transparent}#chart-168b77d1-6bf5-46a4-a5db-ed98b0870ddd text,#chart-168b77d1-6bf5-46a4-a5db-ed98b0870ddd tspan{stroke:none !important}#chart-168b77d1-6bf5-46a4-a5db-ed98b0870ddd .series text.active{opacity:1}#chart-168b77d1-6bf5-46a4-a5db-ed98b0870ddd .tooltip rect{fill-opacity:.95;stroke-width:.5}#chart-168b77d1-6bf5-46a4-a5db-ed98b0870ddd .tooltip text{fill-opacity:1}#chart-168b77d1-6bf5-46a4-a5db-ed98b0870ddd .showable{visibility:hidden}#chart-168b77d1-6bf5-46a4-a5db-ed98b0870ddd .showable.shown{visibility:visible}#chart-168b77d1-6bf5-46a4-a5db-ed98b0870ddd .gauge-background{fill:rgba(229,229,229,1);stroke:none}#chart-168b77d1-6bf5-46a4-a5db-ed98b0870ddd .bg-lines{stroke:rgba(249,249,249,1);stroke-width:2px}</style><script type=\"text/javascript\">window.pygal = window.pygal || {};window.pygal.config = window.pygal.config || {};window.pygal.config['168b77d1-6bf5-46a4-a5db-ed98b0870ddd'] = {\"allow_interruptions\": false, \"box_mode\": \"extremes\", \"classes\": [\"pygal-chart\"], \"css\": [\"file://style.css\", \"file://graph.css\"], \"defs\": [], \"disable_xml_declaration\": false, \"dots_size\": 2.5, \"dynamic_print_values\": false, \"explicit_size\": false, \"fill\": true, \"force_uri_protocol\": \"https\", \"formatter\": null, \"half_pie\": false, \"height\": 600, \"include_x_axis\": false, \"inner_radius\": 0, \"interpolate\": null, \"interpolation_parameters\": {}, \"interpolation_precision\": 250, \"inverse_y_axis\": false, \"js\": [\"//kozea.github.io/pygal.js/2.0.x/pygal-tooltips.min.js\"], \"legend_at_bottom\": false, \"legend_at_bottom_columns\": null, \"legend_box_size\": 12, \"logarithmic\": false, \"margin\": 20, \"margin_bottom\": null, \"margin_left\": null, \"margin_right\": null, \"margin_top\": null, \"max_scale\": 16, \"min_scale\": 4, \"missing_value_fill_truncation\": \"x\", \"no_data_text\": \"No data\", \"no_prefix\": false, \"order_min\": null, \"pretty_print\": false, \"print_labels\": false, \"print_values\": false, \"print_values_position\": \"center\", \"print_zeroes\": true, \"range\": null, \"rounded_bars\": null, \"secondary_range\": null, \"show_dots\": false, \"show_legend\": true, \"show_minor_x_labels\": true, \"show_minor_y_labels\": true, \"show_only_major_dots\": false, \"show_x_guides\": false, \"show_x_labels\": true, \"show_y_guides\": true, \"show_y_labels\": true, \"spacing\": 10, \"stack_from_top\": false, \"strict\": false, \"stroke\": true, \"stroke_style\": null, \"style\": {\"background\": \"rgba(249, 249, 249, 1)\", \"ci_colors\": [], \"colors\": [\"#F44336\", \"#3F51B5\", \"#009688\", \"#FFC107\", \"#FF5722\", \"#9C27B0\", \"#03A9F4\", \"#8BC34A\", \"#FF9800\", \"#E91E63\", \"#2196F3\", \"#4CAF50\", \"#FFEB3B\", \"#673AB7\", \"#00BCD4\", \"#CDDC39\", \"#9E9E9E\", \"#607D8B\"], \"font_family\": \"Consolas, \\\"Liberation Mono\\\", Menlo, Courier, monospace\", \"foreground\": \"rgba(0, 0, 0, .87)\", \"foreground_strong\": \"rgba(0, 0, 0, 1)\", \"foreground_subtle\": \"rgba(0, 0, 0, .54)\", \"guide_stroke_dasharray\": \"4,4\", \"label_font_family\": \"Consolas, \\\"Liberation Mono\\\", Menlo, Courier, monospace\", \"label_font_size\": 10, \"legend_font_family\": \"Consolas, \\\"Liberation Mono\\\", Menlo, Courier, monospace\", \"legend_font_size\": 14, \"major_guide_stroke_dasharray\": \"6,6\", \"major_label_font_family\": \"Consolas, \\\"Liberation Mono\\\", Menlo, Courier, monospace\", \"major_label_font_size\": 10, \"no_data_font_family\": \"Consolas, \\\"Liberation Mono\\\", Menlo, Courier, monospace\", \"no_data_font_size\": 64, \"opacity\": \".7\", \"opacity_hover\": \".8\", \"plot_background\": \"rgba(255, 255, 255, 1)\", \"stroke_opacity\": \".8\", \"stroke_opacity_hover\": \".9\", \"title_font_family\": \"Consolas, \\\"Liberation Mono\\\", Menlo, Courier, monospace\", \"title_font_size\": 16, \"tooltip_font_family\": \"Consolas, \\\"Liberation Mono\\\", Menlo, Courier, monospace\", \"tooltip_font_size\": 14, \"transition\": \"150ms\", \"value_background\": \"rgba(229, 229, 229, 1)\", \"value_colors\": [], \"value_font_family\": \"Consolas, \\\"Liberation Mono\\\", Menlo, Courier, monospace\", \"value_font_size\": 16, \"value_label_font_family\": \"Consolas, \\\"Liberation Mono\\\", Menlo, Courier, monospace\", \"value_label_font_size\": 10}, \"title\": \"Topics\", \"tooltip_border_radius\": 0, \"tooltip_fancy_mode\": true, \"truncate_label\": null, \"truncate_legend\": null, \"width\": 800, \"x_label_rotation\": 0, \"x_labels\": null, \"x_labels_major\": null, \"x_labels_major_count\": null, \"x_labels_major_every\": null, \"x_title\": null, \"xrange\": null, \"y_label_rotation\": 0, \"y_labels\": null, \"y_labels_major\": null, \"y_labels_major_count\": null, \"y_labels_major_every\": null, \"y_title\": null, \"zero\": 0, \"legends\": [\"topic_0\", \"topic_1\", \"topic_2\", \"topic_3\", \"topic_4\", \"topic_5\", \"topic_6\", \"topic_7\", \"topic_8\", \"topic_9\", \"topic_10\", \"topic_11\", \"topic_12\", \"topic_13\", \"topic_14\", \"topic_15\", \"topic_16\", \"topic_17\", \"topic_18\", \"topic_19\"]}</script><script type=\"text/javascript\" xlink:href=\"https://kozea.github.io/pygal.js/2.0.x/pygal-tooltips.min.js\"/></defs><title>Topics</title><g class=\"graph stackedline-graph vertical\"><rect class=\"background\" height=\"600\" width=\"800\" x=\"0\" y=\"0\"/><g class=\"plot\" transform=\"translate(143, 46)\"><rect class=\"background\" height=\"534\" width=\"636.8\" x=\"0\" y=\"0\"/><g class=\"axis y always_show\"><path class=\"line\" d=\"M0.000000 534.000000 h636.800000\"/><g class=\"guides\"><path class=\"guide line\" d=\"M0.000000 484.792556 h636.800000\"/><text class=\"\" x=\"-5\" y=\"488.29255556562106\">100</text><title>100</title></g><g class=\"guides\"><path class=\"guide line\" d=\"M0.000000 443.885372 h636.800000\"/><text class=\"\" x=\"-5\" y=\"447.3853723935184\">200</text><title>200</title></g><g class=\"guides\"><path class=\"guide line\" d=\"M0.000000 402.978189 h636.800000\"/><text class=\"\" x=\"-5\" y=\"406.47818922141585\">300</text><title>300</title></g><g class=\"guides\"><path class=\"guide line\" d=\"M0.000000 362.071006 h636.800000\"/><text class=\"\" x=\"-5\" y=\"365.57100604931316\">400</text><title>400</title></g><g class=\"guides\"><path class=\"major guide line\" d=\"M0.000000 321.163823 h636.800000\"/><text class=\"major\" x=\"-5\" y=\"324.66382287721063\">500</text><title>500</title></g><g class=\"guides\"><path class=\"guide line\" d=\"M0.000000 280.256640 h636.800000\"/><text class=\"\" x=\"-5\" y=\"283.756639705108\">600</text><title>600</title></g><g class=\"guides\"><path class=\"guide line\" d=\"M0.000000 239.349457 h636.800000\"/><text class=\"\" x=\"-5\" y=\"242.84945653300542\">700</text><title>700</title></g><g class=\"guides\"><path class=\"guide line\" d=\"M0.000000 198.442273 h636.800000\"/><text class=\"\" x=\"-5\" y=\"201.9422733609028\">800</text><title>800</title></g><g class=\"guides\"><path class=\"guide line\" d=\"M0.000000 157.535090 h636.800000\"/><text class=\"\" x=\"-5\" y=\"161.03509018880015\">900</text><title>900</title></g><g class=\"guides\"><path class=\"major guide line\" d=\"M0.000000 116.627907 h636.800000\"/><text class=\"major\" x=\"-5\" y=\"120.12790701669758\">1000</text><title>1000</title></g><g class=\"guides\"><path class=\"guide line\" d=\"M0.000000 75.720724 h636.800000\"/><text class=\"\" x=\"-5\" y=\"79.22072384459494\">1100</text><title>1100</title></g><g class=\"guides\"><path class=\"guide line\" d=\"M0.000000 34.813541 h636.800000\"/><text class=\"\" x=\"-5\" y=\"38.31354067249231\">1200</text><title>1200</title></g></g><g class=\"series serie-0 color-0\"><path class=\"line reactive\" d=\"M12.246154 525.699739 L12.246154 523.730769 16.920258 518.727318 21.594363 521.731568 26.268467 523.197966 30.942572 520.468543 35.616676 521.914800 40.290781 518.396640 44.964885 499.507120 49.638990 491.038485 54.313095 502.962048 58.987199 507.474305 63.661304 509.606516 68.335408 505.797329 73.009513 505.229945 77.683617 509.304395 82.357722 514.169789 87.031826 510.883506 91.705931 513.467887 96.380035 518.751564 101.054140 510.397696 105.728244 512.162709 110.402349 514.203920 115.076453 511.799723 119.750558 515.925306 124.424662 518.417776 129.098767 514.032575 133.772871 511.633474 138.446976 516.045919 143.121080 514.053738 147.795185 518.068834 152.469289 520.665365 157.143394 515.161632 161.817499 512.290856 166.491603 518.112694 171.165708 516.380466 175.839812 520.607664 180.513917 520.395308 185.188021 520.435267 189.862126 523.152761 194.536230 521.052551 199.210335 520.274527 203.884439 521.710465 208.558544 514.795280 213.232648 515.136505 217.906753 519.382805 222.580857 519.631278 227.254962 522.426646 231.929066 521.970758 236.603171 522.324843 241.277275 521.383052 245.951380 522.861686 250.625484 520.929538 255.299589 515.582145 259.973693 521.237103 264.647798 522.721480 269.321903 520.913650 273.996007 521.256855 278.670112 520.544774 283.344216 521.911992 288.018321 521.814791 292.692425 518.246982 297.366530 514.587177 302.040634 516.764942 306.714739 518.996983 311.388843 509.595851 316.062948 511.131342 320.737052 513.827984 325.411157 510.901285 330.085261 508.467369 334.759366 514.700692 339.433470 516.623526 344.107575 511.862704 348.781679 504.795173 353.455784 498.950476 358.129888 510.794727 362.803993 520.000269 367.478097 517.808676 372.152202 509.865739 376.826307 511.230024 381.500411 502.338231 386.174516 495.513697 390.848620 496.301437 395.522725 478.274964 400.196829 497.299008 404.870934 501.249228 409.545038 502.473270 414.219143 502.917025 418.893247 513.761303 423.567352 503.772194 428.241456 504.897098 432.915561 508.040547 437.589665 503.081313 442.263770 510.485963 446.937874 512.320182 451.611979 507.622421 456.286083 512.385660 460.960188 512.685796 465.634292 511.835227 470.308397 511.659306 474.982501 512.793169 479.656606 510.555927 484.330711 513.320069 489.004815 519.203420 493.678920 516.870393 498.353024 518.072891 503.027129 521.699115 507.701233 520.027799 512.375338 518.497722 517.049442 519.416518 521.723547 517.001707 526.397651 517.900155 531.071756 520.214545 535.745860 519.250001 540.419965 521.686722 545.094069 520.007235 549.768174 516.627398 554.442278 517.403542 559.116383 519.029375 563.790487 516.247815 568.464592 517.316543 573.138696 516.262300 577.812801 518.822351 582.486905 506.226895 587.161010 516.431859 591.835115 517.284228 596.509219 519.540922 601.183324 511.504596 605.857428 512.509661 610.531533 513.188230 615.205637 518.298100 619.879742 516.560958 624.553846 519.407250 624.553846 525.699739\"/></g><g class=\"series serie-1 color-1\"><path class=\"line reactive\" d=\"M12.246154 521.485750 L16.920258 510.204058 21.594363 510.142610 26.268467 515.095871 30.942572 505.642154 35.616676 505.046578 40.290781 509.587921 44.964885 473.929163 49.638990 471.975635 54.313095 489.853896 58.987199 495.908630 63.661304 498.819598 68.335408 494.458360 73.009513 494.391883 77.683617 500.011698 82.357722 509.705125 87.031826 500.545155 91.705931 505.611768 96.380035 512.077205 101.054140 500.217511 105.728244 506.880678 110.402349 504.762948 115.076453 502.428476 119.750558 509.536980 124.424662 513.496336 129.098767 506.530302 133.772871 504.536022 138.446976 510.207387 143.121080 506.033978 147.795185 511.160441 152.469289 511.033679 157.143394 501.466560 161.817499 501.244123 166.491603 510.666953 171.165708 503.965360 175.839812 513.937385 180.513917 508.584176 185.188021 510.100491 189.862126 513.262412 194.536230 513.865315 199.210335 508.541529 203.884439 515.604752 208.558544 510.918878 213.232648 507.000082 217.906753 514.703105 222.580857 514.960862 227.254962 517.460865 231.929066 518.489639 236.603171 515.812043 241.277275 515.130578 245.951380 517.045765 250.625484 512.863083 255.299589 506.369512 259.973693 517.687504 264.647798 517.588053 269.321903 512.770790 273.996007 515.488706 278.670112 514.847632 283.344216 518.064873 288.018321 517.242630 292.692425 511.818416 297.366530 501.694882 302.040634 506.060102 306.714739 507.704261 311.388843 498.780357 316.062948 504.031465 320.737052 504.407176 325.411157 491.543199 330.085261 490.425999 334.759366 498.705409 339.433470 505.449751 344.107575 501.403814 348.781679 491.691718 353.455784 483.521976 358.129888 501.483643 362.803993 513.816923 367.478097 507.399372 372.152202 490.656801 376.826307 491.036481 381.500411 461.380838 386.174516 472.011759 390.848620 478.539209 395.522725 455.093290 400.196829 486.666009 404.870934 485.600313 409.545038 480.468563 414.219143 481.949712 418.893247 497.534000 423.567352 485.140305 428.241456 484.348521 432.915561 494.624421 437.589665 484.911444 442.263770 494.498508 446.937874 499.641079 451.611979 490.541826 456.286083 502.755281 460.960188 496.470798 465.634292 497.304175 470.308397 486.230118 474.982501 494.147666 479.656606 489.659358 484.330711 491.370993 489.004815 500.552194 493.678920 505.545486 498.353024 506.822629 503.027129 511.741059 507.701233 505.180673 512.375338 509.963370 517.049442 510.507433 521.723547 503.427125 526.397651 506.676765 531.071756 511.415868 535.745860 505.410262 540.419965 511.871148 545.094069 509.873150 549.768174 507.071548 554.442278 501.620843 559.116383 505.995543 563.790487 499.595458 568.464592 504.128218 573.138696 497.451449 577.812801 502.269753 582.486905 471.479958 587.161010 491.601114 591.835115 496.865867 596.509219 506.146139 601.183324 495.844160 605.857428 497.955563 610.531533 495.614051 615.205637 504.177914 619.879742 501.439172 624.553846 513.051545 624.553846 519.407250 619.879742 516.560958 615.205637 518.298100 610.531533 513.188230 605.857428 512.509661 601.183324 511.504596 596.509219 519.540922 591.835115 517.284228 587.161010 516.431859 582.486905 506.226895 577.812801 518.822351 573.138696 516.262300 568.464592 517.316543 563.790487 516.247815 559.116383 519.029375 554.442278 517.403542 549.768174 516.627398 545.094069 520.007235 540.419965 521.686722 535.745860 519.250001 531.071756 520.214545 526.397651 517.900155 521.723547 517.001707 517.049442 519.416518 512.375338 518.497722 507.701233 520.027799 503.027129 521.699115 498.353024 518.072891 493.678920 516.870393 489.004815 519.203420 484.330711 513.320069 479.656606 510.555927 474.982501 512.793169 470.308397 511.659306 465.634292 511.835227 460.960188 512.685796 456.286083 512.385660 451.611979 507.622421 446.937874 512.320182 442.263770 510.485963 437.589665 503.081313 432.915561 508.040547 428.241456 504.897098 423.567352 503.772194 418.893247 513.761303 414.219143 502.917025 409.545038 502.473270 404.870934 501.249228 400.196829 497.299008 395.522725 478.274964 390.848620 496.301437 386.174516 495.513697 381.500411 502.338231 376.826307 511.230024 372.152202 509.865739 367.478097 517.808676 362.803993 520.000269 358.129888 510.794727 353.455784 498.950476 348.781679 504.795173 344.107575 511.862704 339.433470 516.623526 334.759366 514.700692 330.085261 508.467369 325.411157 510.901285 320.737052 513.827984 316.062948 511.131342 311.388843 509.595851 306.714739 518.996983 302.040634 516.764942 297.366530 514.587177 292.692425 518.246982 288.018321 521.814791 283.344216 521.911992 278.670112 520.544774 273.996007 521.256855 269.321903 520.913650 264.647798 522.721480 259.973693 521.237103 255.299589 515.582145 250.625484 520.929538 245.951380 522.861686 241.277275 521.383052 236.603171 522.324843 231.929066 521.970758 227.254962 522.426646 222.580857 519.631278 217.906753 519.382805 213.232648 515.136505 208.558544 514.795280 203.884439 521.710465 199.210335 520.274527 194.536230 521.052551 189.862126 523.152761 185.188021 520.435267 180.513917 520.395308 175.839812 520.607664 171.165708 516.380466 166.491603 518.112694 161.817499 512.290856 157.143394 515.161632 152.469289 520.665365 147.795185 518.068834 143.121080 514.053738 138.446976 516.045919 133.772871 511.633474 129.098767 514.032575 124.424662 518.417776 119.750558 515.925306 115.076453 511.799723 110.402349 514.203920 105.728244 512.162709 101.054140 510.397696 96.380035 518.751564 91.705931 513.467887 87.031826 510.883506 82.357722 514.169789 77.683617 509.304395 73.009513 505.229945 68.335408 505.797329 63.661304 509.606516 58.987199 507.474305 54.313095 502.962048 49.638990 491.038485 44.964885 499.507120 40.290781 518.396640 35.616676 521.914800 30.942572 520.468543 26.268467 523.197966 21.594363 521.731568 16.920258 518.727318 12.246154 523.730769\"/></g><g class=\"series serie-2 color-2\"><path class=\"line reactive\" d=\"M12.246154 519.045775 L16.920258 504.065825 21.594363 502.316626 26.268467 503.575825 30.942572 494.216762 35.616676 493.544468 40.290781 501.031157 44.964885 458.217560 49.638990 443.632483 54.313095 462.472539 58.987199 464.138044 63.661304 475.328979 68.335408 465.174897 73.009513 463.418056 77.683617 472.448735 82.357722 483.413683 87.031826 475.687448 91.705931 483.948596 96.380035 496.104755 101.054140 474.556615 105.728244 486.307597 110.402349 485.878521 115.076453 482.999436 119.750558 494.722301 124.424662 497.369377 129.098767 490.662716 133.772871 489.093922 138.446976 499.828169 143.121080 492.938681 147.795185 498.153275 152.469289 499.642731 157.143394 485.834159 161.817499 488.848529 166.491603 502.410939 171.165708 493.838416 175.839812 506.292566 180.513917 502.331614 185.188021 502.537830 189.862126 508.485098 194.536230 509.729721 199.210335 503.692500 203.884439 512.367369 208.558544 506.749608 213.232648 499.773600 217.906753 509.644723 222.580857 509.706820 227.254962 511.707319 231.929066 516.019879 236.603171 511.314386 241.277275 511.945323 245.951380 511.739327 250.625484 508.715768 255.299589 502.245401 259.973693 511.295336 264.647798 508.564820 269.321903 505.577262 273.996007 507.994324 278.670112 509.618365 283.344216 513.733893 288.018321 511.438497 292.692425 504.144157 297.366530 472.296583 302.040634 471.790414 306.714739 479.689844 311.388843 466.199115 316.062948 469.722513 320.737052 468.932737 325.411157 454.891577 330.085261 455.894584 334.759366 466.886252 339.433470 481.108976 344.107575 475.786409 348.781679 468.319815 353.455784 472.735042 358.129888 491.214425 362.803993 506.988534 367.478097 500.043554 372.152202 471.669699 376.826307 470.675837 381.500411 435.678139 386.174516 452.088742 390.848620 452.888735 395.522725 425.056385 400.196829 461.591119 404.870934 461.356181 409.545038 453.688300 414.219143 456.408845 418.893247 482.332427 423.567352 467.177861 428.241456 462.162705 432.915561 472.357946 437.589665 458.171151 442.263770 470.126785 446.937874 482.950886 451.611979 463.842333 456.286083 483.996197 460.960188 477.771037 465.634292 479.300944 470.308397 465.334920 474.982501 479.615053 479.656606 470.419699 484.330711 474.327773 489.004815 481.079389 493.678920 489.262567 498.353024 497.080652 503.027129 503.065994 507.701233 496.486072 512.375338 502.438870 517.049442 501.728432 521.723547 492.275468 526.397651 495.187169 531.071756 500.074737 535.745860 494.074152 540.419965 503.467841 545.094069 496.868887 549.768174 496.846888 554.442278 490.064600 559.116383 491.854637 563.790487 484.538024 568.464592 492.538830 573.138696 485.420884 577.812801 490.813681 582.486905 460.797972 587.161010 482.854889 591.835115 485.688142 596.509219 493.748046 601.183324 483.382572 605.857428 486.755975 610.531533 482.582764 615.205637 492.241196 619.879742 489.468143 624.553846 506.668502 624.553846 513.051545 619.879742 501.439172 615.205637 504.177914 610.531533 495.614051 605.857428 497.955563 601.183324 495.844160 596.509219 506.146139 591.835115 496.865867 587.161010 491.601114 582.486905 471.479958 577.812801 502.269753 573.138696 497.451449 568.464592 504.128218 563.790487 499.595458 559.116383 505.995543 554.442278 501.620843 549.768174 507.071548 545.094069 509.873150 540.419965 511.871148 535.745860 505.410262 531.071756 511.415868 526.397651 506.676765 521.723547 503.427125 517.049442 510.507433 512.375338 509.963370 507.701233 505.180673 503.027129 511.741059 498.353024 506.822629 493.678920 505.545486 489.004815 500.552194 484.330711 491.370993 479.656606 489.659358 474.982501 494.147666 470.308397 486.230118 465.634292 497.304175 460.960188 496.470798 456.286083 502.755281 451.611979 490.541826 446.937874 499.641079 442.263770 494.498508 437.589665 484.911444 432.915561 494.624421 428.241456 484.348521 423.567352 485.140305 418.893247 497.534000 414.219143 481.949712 409.545038 480.468563 404.870934 485.600313 400.196829 486.666009 395.522725 455.093290 390.848620 478.539209 386.174516 472.011759 381.500411 461.380838 376.826307 491.036481 372.152202 490.656801 367.478097 507.399372 362.803993 513.816923 358.129888 501.483643 353.455784 483.521976 348.781679 491.691718 344.107575 501.403814 339.433470 505.449751 334.759366 498.705409 330.085261 490.425999 325.411157 491.543199 320.737052 504.407176 316.062948 504.031465 311.388843 498.780357 306.714739 507.704261 302.040634 506.060102 297.366530 501.694882 292.692425 511.818416 288.018321 517.242630 283.344216 518.064873 278.670112 514.847632 273.996007 515.488706 269.321903 512.770790 264.647798 517.588053 259.973693 517.687504 255.299589 506.369512 250.625484 512.863083 245.951380 517.045765 241.277275 515.130578 236.603171 515.812043 231.929066 518.489639 227.254962 517.460865 222.580857 514.960862 217.906753 514.703105 213.232648 507.000082 208.558544 510.918878 203.884439 515.604752 199.210335 508.541529 194.536230 513.865315 189.862126 513.262412 185.188021 510.100491 180.513917 508.584176 175.839812 513.937385 171.165708 503.965360 166.491603 510.666953 161.817499 501.244123 157.143394 501.466560 152.469289 511.033679 147.795185 511.160441 143.121080 506.033978 138.446976 510.207387 133.772871 504.536022 129.098767 506.530302 124.424662 513.496336 119.750558 509.536980 115.076453 502.428476 110.402349 504.762948 105.728244 506.880678 101.054140 500.217511 96.380035 512.077205 91.705931 505.611768 87.031826 500.545155 82.357722 509.705125 77.683617 500.011698 73.009513 494.391883 68.335408 494.458360 63.661304 498.819598 58.987199 495.908630 54.313095 489.853896 49.638990 471.975635 44.964885 473.929163 40.290781 509.587921 35.616676 505.046578 30.942572 505.642154 26.268467 515.095871 21.594363 510.142610 16.920258 510.204058 12.246154 521.485750\"/></g><g class=\"series serie-3 color-3\"><path class=\"line reactive\" d=\"M12.246154 517.324146 L16.920258 499.101951 21.594363 496.728527 26.268467 499.110313 30.942572 486.617441 35.616676 485.205592 40.290781 496.681465 44.964885 441.841060 49.638990 425.329017 54.313095 451.116518 58.987199 453.478596 63.661304 467.432065 68.335408 453.639558 73.009513 452.124133 77.683617 462.796617 82.357722 476.407425 87.031826 466.867270 91.705931 472.243116 96.380035 488.825942 101.054140 464.010627 105.728244 478.280065 110.402349 476.176546 115.076453 472.562068 119.750558 488.990759 124.424662 488.001545 129.098767 481.784850 133.772871 480.082421 138.446976 492.865851 143.121080 487.322530 147.795185 490.572404 152.469289 493.554879 157.143394 477.588696 161.817499 482.322986 166.491603 493.786280 171.165708 482.348690 175.839812 498.663847 180.513917 496.306399 185.188021 496.420711 189.862126 503.199248 194.536230 507.232887 199.210335 499.207759 203.884439 506.983432 208.558544 502.393525 213.232648 493.668398 217.906753 505.391144 222.580857 505.496087 227.254962 508.029495 231.929066 513.352207 236.603171 508.565909 241.277275 508.875747 245.951380 507.055460 250.625484 504.541702 255.299589 498.014532 259.973693 508.280057 264.647798 505.691658 269.321903 502.393692 273.996007 505.789268 278.670112 505.333646 283.344216 509.925507 288.018321 507.785584 292.692425 501.158629 297.366530 464.858509 302.040634 464.918549 306.714739 474.621348 311.388843 460.564507 316.062948 463.044329 320.737052 462.612040 325.411157 446.640138 330.085261 446.060800 334.759366 449.690334 339.433470 461.678983 344.107575 460.376669 348.781679 449.512633 353.455784 446.496617 358.129888 471.324579 362.803993 495.793533 367.478097 484.253927 372.152202 444.684572 376.826307 446.088102 381.500411 410.633337 386.174516 433.413329 390.848620 437.511563 395.522725 399.302558 400.196829 444.610785 404.870934 444.370056 409.545038 435.089272 414.219143 434.768952 418.893247 467.477858 423.567352 448.398094 428.241456 443.995117 432.915561 450.286402 437.589665 435.669808 442.263770 452.931674 446.937874 468.128140 451.611979 446.551702 456.286083 472.618447 460.960188 460.089267 465.634292 462.911415 470.308397 442.199796 474.982501 461.790294 479.656606 448.757001 484.330711 453.583129 489.004815 458.318423 493.678920 473.803617 498.353024 483.626758 503.027129 491.231146 507.701233 478.784633 512.375338 491.082836 517.049442 494.097756 521.723547 475.065638 526.397651 480.151743 531.071756 491.857127 535.745860 484.523663 540.419965 487.363595 545.094069 479.908028 549.768174 481.235277 554.442278 475.933257 559.116383 478.256180 563.790487 464.405981 568.464592 482.030951 573.138696 468.359803 577.812801 476.647786 582.486905 441.739498 587.161010 468.585978 591.835115 470.161680 596.509219 476.143818 601.183324 469.071740 605.857428 472.868862 610.531533 464.746158 615.205637 477.043108 619.879742 475.963231 624.553846 501.113905 624.553846 506.668502 619.879742 489.468143 615.205637 492.241196 610.531533 482.582764 605.857428 486.755975 601.183324 483.382572 596.509219 493.748046 591.835115 485.688142 587.161010 482.854889 582.486905 460.797972 577.812801 490.813681 573.138696 485.420884 568.464592 492.538830 563.790487 484.538024 559.116383 491.854637 554.442278 490.064600 549.768174 496.846888 545.094069 496.868887 540.419965 503.467841 535.745860 494.074152 531.071756 500.074737 526.397651 495.187169 521.723547 492.275468 517.049442 501.728432 512.375338 502.438870 507.701233 496.486072 503.027129 503.065994 498.353024 497.080652 493.678920 489.262567 489.004815 481.079389 484.330711 474.327773 479.656606 470.419699 474.982501 479.615053 470.308397 465.334920 465.634292 479.300944 460.960188 477.771037 456.286083 483.996197 451.611979 463.842333 446.937874 482.950886 442.263770 470.126785 437.589665 458.171151 432.915561 472.357946 428.241456 462.162705 423.567352 467.177861 418.893247 482.332427 414.219143 456.408845 409.545038 453.688300 404.870934 461.356181 400.196829 461.591119 395.522725 425.056385 390.848620 452.888735 386.174516 452.088742 381.500411 435.678139 376.826307 470.675837 372.152202 471.669699 367.478097 500.043554 362.803993 506.988534 358.129888 491.214425 353.455784 472.735042 348.781679 468.319815 344.107575 475.786409 339.433470 481.108976 334.759366 466.886252 330.085261 455.894584 325.411157 454.891577 320.737052 468.932737 316.062948 469.722513 311.388843 466.199115 306.714739 479.689844 302.040634 471.790414 297.366530 472.296583 292.692425 504.144157 288.018321 511.438497 283.344216 513.733893 278.670112 509.618365 273.996007 507.994324 269.321903 505.577262 264.647798 508.564820 259.973693 511.295336 255.299589 502.245401 250.625484 508.715768 245.951380 511.739327 241.277275 511.945323 236.603171 511.314386 231.929066 516.019879 227.254962 511.707319 222.580857 509.706820 217.906753 509.644723 213.232648 499.773600 208.558544 506.749608 203.884439 512.367369 199.210335 503.692500 194.536230 509.729721 189.862126 508.485098 185.188021 502.537830 180.513917 502.331614 175.839812 506.292566 171.165708 493.838416 166.491603 502.410939 161.817499 488.848529 157.143394 485.834159 152.469289 499.642731 147.795185 498.153275 143.121080 492.938681 138.446976 499.828169 133.772871 489.093922 129.098767 490.662716 124.424662 497.369377 119.750558 494.722301 115.076453 482.999436 110.402349 485.878521 105.728244 486.307597 101.054140 474.556615 96.380035 496.104755 91.705931 483.948596 87.031826 475.687448 82.357722 483.413683 77.683617 472.448735 73.009513 463.418056 68.335408 465.174897 63.661304 475.328979 58.987199 464.138044 54.313095 462.472539 49.638990 443.632483 44.964885 458.217560 40.290781 501.031157 35.616676 493.544468 30.942572 494.216762 26.268467 503.575825 21.594363 502.316626 16.920258 504.065825 12.246154 519.045775\"/></g><g class=\"series serie-4 color-4\"><path class=\"line reactive\" d=\"M12.246154 516.060458 L16.920258 493.016707 21.594363 491.225446 26.268467 496.696899 30.942572 482.555900 35.616676 480.871156 40.290781 494.277600 44.964885 423.035644 49.638990 390.764938 54.313095 424.832392 58.987199 430.223147 63.661304 455.647098 68.335408 434.990000 73.009513 432.739384 77.683617 443.693482 82.357722 462.730474 87.031826 453.245425 91.705931 454.681697 96.380035 478.515154 101.054140 450.211391 105.728244 465.658881 110.402349 465.515656 115.076453 458.786510 119.750558 480.752592 124.424662 481.070971 129.098767 469.961108 133.772871 468.932843 138.446976 485.357572 143.121080 480.711767 147.795185 484.438652 152.469289 488.141461 157.143394 471.884243 161.817499 476.519117 166.491603 488.988383 171.165708 478.008970 175.839812 495.242164 180.513917 492.652435 185.188021 493.020799 189.862126 501.676962 194.536230 505.904645 199.210335 495.642801 203.884439 502.603545 208.558544 500.359555 213.232648 490.270739 217.906753 502.376381 222.580857 502.974667 227.254962 506.420444 231.929066 511.332024 236.603171 506.253850 241.277275 507.162303 245.951380 504.978387 250.625484 502.451475 255.299589 494.712957 259.973693 504.672645 264.647798 502.807926 269.321903 498.779093 273.996007 502.339455 278.670112 502.881316 283.344216 508.024452 288.018321 506.021166 292.692425 496.189183 297.366530 452.726128 302.040634 453.988987 306.714739 467.462723 311.388843 449.973116 316.062948 450.395035 320.737052 453.203534 325.411157 439.518079 330.085261 434.872577 334.759366 441.413934 339.433470 453.077275 344.107575 453.238865 348.781679 439.149876 353.455784 438.779272 358.129888 462.940617 362.803993 491.810117 367.478097 477.255864 372.152202 427.622932 376.826307 427.983026 381.500411 394.902363 386.174516 418.112595 390.848620 421.268869 395.522725 365.383162 400.196829 427.741219 404.870934 422.149823 409.545038 405.615607 414.219143 407.954570 418.893247 451.605191 423.567352 429.560733 428.241456 423.542968 432.915561 436.783601 437.589665 420.868036 442.263770 439.696031 446.937874 457.062975 451.611979 432.519024 456.286083 461.509919 460.960188 447.572323 465.634292 450.711024 470.308397 428.436698 474.982501 448.866661 479.656606 434.393456 484.330711 438.579682 489.004815 441.989311 493.678920 466.973781 498.353024 477.236919 503.027129 485.318595 507.701233 472.376456 512.375338 487.443339 517.049442 487.920505 521.723547 468.665729 526.397651 472.314636 531.071756 485.636702 535.745860 478.821940 540.419965 482.609184 545.094069 473.620133 549.768174 474.859547 554.442278 465.161745 559.116383 469.206848 563.790487 455.322583 568.464592 475.616837 573.138696 456.559686 577.812801 467.679034 582.486905 433.489273 587.161010 457.530235 591.835115 463.228646 596.509219 468.685359 601.183324 455.816125 605.857428 462.956330 610.531533 453.374106 615.205637 467.630828 619.879742 465.115965 624.553846 495.036070 624.553846 501.113905 619.879742 475.963231 615.205637 477.043108 610.531533 464.746158 605.857428 472.868862 601.183324 469.071740 596.509219 476.143818 591.835115 470.161680 587.161010 468.585978 582.486905 441.739498 577.812801 476.647786 573.138696 468.359803 568.464592 482.030951 563.790487 464.405981 559.116383 478.256180 554.442278 475.933257 549.768174 481.235277 545.094069 479.908028 540.419965 487.363595 535.745860 484.523663 531.071756 491.857127 526.397651 480.151743 521.723547 475.065638 517.049442 494.097756 512.375338 491.082836 507.701233 478.784633 503.027129 491.231146 498.353024 483.626758 493.678920 473.803617 489.004815 458.318423 484.330711 453.583129 479.656606 448.757001 474.982501 461.790294 470.308397 442.199796 465.634292 462.911415 460.960188 460.089267 456.286083 472.618447 451.611979 446.551702 446.937874 468.128140 442.263770 452.931674 437.589665 435.669808 432.915561 450.286402 428.241456 443.995117 423.567352 448.398094 418.893247 467.477858 414.219143 434.768952 409.545038 435.089272 404.870934 444.370056 400.196829 444.610785 395.522725 399.302558 390.848620 437.511563 386.174516 433.413329 381.500411 410.633337 376.826307 446.088102 372.152202 444.684572 367.478097 484.253927 362.803993 495.793533 358.129888 471.324579 353.455784 446.496617 348.781679 449.512633 344.107575 460.376669 339.433470 461.678983 334.759366 449.690334 330.085261 446.060800 325.411157 446.640138 320.737052 462.612040 316.062948 463.044329 311.388843 460.564507 306.714739 474.621348 302.040634 464.918549 297.366530 464.858509 292.692425 501.158629 288.018321 507.785584 283.344216 509.925507 278.670112 505.333646 273.996007 505.789268 269.321903 502.393692 264.647798 505.691658 259.973693 508.280057 255.299589 498.014532 250.625484 504.541702 245.951380 507.055460 241.277275 508.875747 236.603171 508.565909 231.929066 513.352207 227.254962 508.029495 222.580857 505.496087 217.906753 505.391144 213.232648 493.668398 208.558544 502.393525 203.884439 506.983432 199.210335 499.207759 194.536230 507.232887 189.862126 503.199248 185.188021 496.420711 180.513917 496.306399 175.839812 498.663847 171.165708 482.348690 166.491603 493.786280 161.817499 482.322986 157.143394 477.588696 152.469289 493.554879 147.795185 490.572404 143.121080 487.322530 138.446976 492.865851 133.772871 480.082421 129.098767 481.784850 124.424662 488.001545 119.750558 488.990759 115.076453 472.562068 110.402349 476.176546 105.728244 478.280065 101.054140 464.010627 96.380035 488.825942 91.705931 472.243116 87.031826 466.867270 82.357722 476.407425 77.683617 462.796617 73.009513 452.124133 68.335408 453.639558 63.661304 467.432065 58.987199 453.478596 54.313095 451.116518 49.638990 425.329017 44.964885 441.841060 40.290781 496.681465 35.616676 485.205592 30.942572 486.617441 26.268467 499.110313 21.594363 496.728527 16.920258 499.101951 12.246154 517.324146\"/></g><g class=\"series serie-5 color-5\"><path class=\"line reactive\" d=\"M12.246154 511.467272 L16.920258 480.928507 21.594363 486.479760 26.268467 491.341966 30.942572 478.271036 35.616676 475.897816 40.290781 491.946914 44.964885 416.526561 49.638990 378.593281 54.313095 406.941151 58.987199 397.433277 63.661304 360.678204 68.335408 422.925655 73.009513 416.719731 77.683617 432.068928 82.357722 456.985600 87.031826 440.765000 91.705931 447.048755 96.380035 474.923381 101.054140 442.445773 105.728244 458.646699 110.402349 452.912762 115.076453 447.916149 119.750558 473.021714 124.424662 476.004327 129.098767 462.785862 133.772871 460.465382 138.446976 480.972261 143.121080 463.508223 147.795185 481.157715 152.469289 486.818024 157.143394 467.279529 161.817499 472.121763 166.491603 485.663534 171.165708 473.751978 175.839812 492.278251 180.513917 490.552121 185.188021 490.848855 189.862126 500.032395 194.536230 503.069471 199.210335 490.069623 203.884439 500.619259 208.558544 497.959742 213.232648 481.956319 217.906753 498.572757 222.580857 499.726354 227.254962 502.260686 231.929066 506.106334 236.603171 498.197939 241.277275 504.073840 245.951380 501.652162 250.625484 499.839344 255.299589 491.960104 259.973693 502.543871 264.647798 501.825207 269.321903 495.623435 273.996007 498.431586 278.670112 500.104200 283.344216 504.038413 288.018321 501.718854 292.692425 492.864244 297.366530 448.125839 302.040634 452.316272 306.714739 465.130007 311.388843 447.427119 316.062948 447.483587 320.737052 448.948884 325.411157 432.985434 330.085261 426.653787 334.759366 426.412338 339.433470 441.245747 344.107575 447.857190 348.781679 429.275735 353.455784 413.892139 358.129888 439.172925 362.803993 474.476436 367.478097 460.112687 372.152202 415.557296 376.826307 410.406331 381.500411 372.657617 386.174516 396.801399 390.848620 408.691870 395.522725 344.091670 400.196829 414.915940 404.870934 401.989989 409.545038 377.525332 414.219143 389.340961 418.893247 438.710728 423.567352 413.395870 428.241456 408.203934 432.915561 426.828320 437.589665 399.639533 442.263770 426.018571 446.937874 446.274620 451.611979 418.452959 456.286083 453.142541 460.960188 441.363247 465.634292 441.164438 470.308397 415.423691 474.982501 436.405467 479.656606 420.794127 484.330711 425.139243 489.004815 430.124607 493.678920 455.596233 498.353024 468.171231 503.027129 478.269788 507.701233 460.715721 512.375338 479.616994 517.049442 480.744130 521.723547 459.978118 526.397651 465.159787 531.071756 480.449171 535.745860 472.999369 540.419965 478.836154 545.094069 471.726846 549.768174 469.721667 554.442278 461.706968 559.116383 465.559228 563.790487 449.367290 568.464592 471.662769 573.138696 450.811530 577.812801 455.171316 582.486905 429.698774 587.161010 452.379384 591.835115 449.347431 596.509219 455.944937 601.183324 444.836082 605.857428 453.625638 610.531533 446.877254 615.205637 462.511907 619.879742 457.056868 624.553846 491.971124 624.553846 495.036070 619.879742 465.115965 615.205637 467.630828 610.531533 453.374106 605.857428 462.956330 601.183324 455.816125 596.509219 468.685359 591.835115 463.228646 587.161010 457.530235 582.486905 433.489273 577.812801 467.679034 573.138696 456.559686 568.464592 475.616837 563.790487 455.322583 559.116383 469.206848 554.442278 465.161745 549.768174 474.859547 545.094069 473.620133 540.419965 482.609184 535.745860 478.821940 531.071756 485.636702 526.397651 472.314636 521.723547 468.665729 517.049442 487.920505 512.375338 487.443339 507.701233 472.376456 503.027129 485.318595 498.353024 477.236919 493.678920 466.973781 489.004815 441.989311 484.330711 438.579682 479.656606 434.393456 474.982501 448.866661 470.308397 428.436698 465.634292 450.711024 460.960188 447.572323 456.286083 461.509919 451.611979 432.519024 446.937874 457.062975 442.263770 439.696031 437.589665 420.868036 432.915561 436.783601 428.241456 423.542968 423.567352 429.560733 418.893247 451.605191 414.219143 407.954570 409.545038 405.615607 404.870934 422.149823 400.196829 427.741219 395.522725 365.383162 390.848620 421.268869 386.174516 418.112595 381.500411 394.902363 376.826307 427.983026 372.152202 427.622932 367.478097 477.255864 362.803993 491.810117 358.129888 462.940617 353.455784 438.779272 348.781679 439.149876 344.107575 453.238865 339.433470 453.077275 334.759366 441.413934 330.085261 434.872577 325.411157 439.518079 320.737052 453.203534 316.062948 450.395035 311.388843 449.973116 306.714739 467.462723 302.040634 453.988987 297.366530 452.726128 292.692425 496.189183 288.018321 506.021166 283.344216 508.024452 278.670112 502.881316 273.996007 502.339455 269.321903 498.779093 264.647798 502.807926 259.973693 504.672645 255.299589 494.712957 250.625484 502.451475 245.951380 504.978387 241.277275 507.162303 236.603171 506.253850 231.929066 511.332024 227.254962 506.420444 222.580857 502.974667 217.906753 502.376381 213.232648 490.270739 208.558544 500.359555 203.884439 502.603545 199.210335 495.642801 194.536230 505.904645 189.862126 501.676962 185.188021 493.020799 180.513917 492.652435 175.839812 495.242164 171.165708 478.008970 166.491603 488.988383 161.817499 476.519117 157.143394 471.884243 152.469289 488.141461 147.795185 484.438652 143.121080 480.711767 138.446976 485.357572 133.772871 468.932843 129.098767 469.961108 124.424662 481.070971 119.750558 480.752592 115.076453 458.786510 110.402349 465.515656 105.728244 465.658881 101.054140 450.211391 96.380035 478.515154 91.705931 454.681697 87.031826 453.245425 82.357722 462.730474 77.683617 443.693482 73.009513 432.739384 68.335408 434.990000 63.661304 455.647098 58.987199 430.223147 54.313095 424.832392 49.638990 390.764938 44.964885 423.035644 40.290781 494.277600 35.616676 480.871156 30.942572 482.555900 26.268467 496.696899 21.594363 491.225446 16.920258 493.016707 12.246154 516.060458\"/></g><g class=\"series serie-6 color-6\"><path class=\"line reactive\" d=\"M12.246154 510.256622 L16.920258 478.969212 21.594363 484.001349 26.268467 488.061192 30.942572 475.209665 35.616676 473.330730 40.290781 489.611113 44.964885 407.889580 49.638990 367.560190 54.313095 395.958367 58.987199 378.897832 63.661304 355.080525 68.335408 418.624214 73.009513 409.748790 77.683617 428.887962 82.357722 451.547570 87.031826 435.810066 91.705931 444.611933 96.380035 472.217240 101.054140 438.648704 105.728244 455.957613 110.402349 450.366815 115.076453 443.897364 119.750558 469.000867 124.424662 473.141619 129.098767 460.576565 133.772871 458.909698 138.446976 479.553108 143.121080 461.936365 147.795185 480.126467 152.469289 485.749868 157.143394 466.548533 161.817499 469.650695 166.491603 484.464868 171.165708 472.612412 175.839812 491.670237 180.513917 488.706265 185.188021 488.754801 189.862126 499.218290 194.536230 502.647934 199.210335 488.371049 203.884439 500.394074 208.558544 496.772433 213.232648 480.201798 217.906753 498.148506 222.580857 498.599412 227.254962 501.031028 231.929066 504.967172 236.603171 496.587354 241.277275 503.481120 245.951380 501.217016 250.625484 498.892771 255.299589 490.318064 259.973693 501.371728 264.647798 500.878763 269.321903 494.804152 273.996007 496.754302 278.670112 498.732595 283.344216 503.316264 288.018321 500.496923 292.692425 491.358624 297.366530 447.133127 302.040634 450.724080 306.714739 463.824237 311.388843 446.029556 316.062948 445.518974 320.737052 446.616472 325.411157 430.882177 330.085261 423.956224 334.759366 423.997580 339.433470 439.759540 344.107575 446.338746 348.781679 427.452634 353.455784 411.333465 358.129888 438.195008 362.803993 473.704109 367.478097 457.645614 372.152202 411.380507 376.826307 407.174638 381.500411 366.137705 386.174516 385.957972 390.848620 386.750123 395.522725 325.356101 400.196829 400.739642 404.870934 390.463703 409.545038 365.020742 414.219143 375.079690 418.893247 428.360620 423.567352 400.445016 428.241456 395.490118 432.915561 409.100040 437.589665 387.917116 442.263770 413.703989 446.937874 433.893462 451.611979 398.759393 456.286083 433.426480 460.960188 419.840938 465.634292 421.317358 470.308397 385.270282 474.982501 423.187260 479.656606 405.213225 484.330711 414.980884 489.004815 411.903466 493.678920 440.483963 498.353024 458.854346 503.027129 466.519474 507.701233 445.602826 512.375338 463.413979 517.049442 470.790724 521.723547 445.008124 526.397651 452.919088 531.071756 463.648546 535.745860 462.463813 540.419965 465.485296 545.094069 460.608092 549.768174 458.167417 554.442278 449.894589 559.116383 448.380418 563.790487 437.611862 568.464592 460.154600 573.138696 440.375677 577.812801 443.199511 582.486905 413.488187 587.161010 437.279483 591.835115 428.034760 596.509219 440.299115 601.183324 431.340659 605.857428 441.220866 610.531533 431.737214 615.205637 442.709484 619.879742 437.068908 624.553846 483.883078 624.553846 491.971124 619.879742 457.056868 615.205637 462.511907 610.531533 446.877254 605.857428 453.625638 601.183324 444.836082 596.509219 455.944937 591.835115 449.347431 587.161010 452.379384 582.486905 429.698774 577.812801 455.171316 573.138696 450.811530 568.464592 471.662769 563.790487 449.367290 559.116383 465.559228 554.442278 461.706968 549.768174 469.721667 545.094069 471.726846 540.419965 478.836154 535.745860 472.999369 531.071756 480.449171 526.397651 465.159787 521.723547 459.978118 517.049442 480.744130 512.375338 479.616994 507.701233 460.715721 503.027129 478.269788 498.353024 468.171231 493.678920 455.596233 489.004815 430.124607 484.330711 425.139243 479.656606 420.794127 474.982501 436.405467 470.308397 415.423691 465.634292 441.164438 460.960188 441.363247 456.286083 453.142541 451.611979 418.452959 446.937874 446.274620 442.263770 426.018571 437.589665 399.639533 432.915561 426.828320 428.241456 408.203934 423.567352 413.395870 418.893247 438.710728 414.219143 389.340961 409.545038 377.525332 404.870934 401.989989 400.196829 414.915940 395.522725 344.091670 390.848620 408.691870 386.174516 396.801399 381.500411 372.657617 376.826307 410.406331 372.152202 415.557296 367.478097 460.112687 362.803993 474.476436 358.129888 439.172925 353.455784 413.892139 348.781679 429.275735 344.107575 447.857190 339.433470 441.245747 334.759366 426.412338 330.085261 426.653787 325.411157 432.985434 320.737052 448.948884 316.062948 447.483587 311.388843 447.427119 306.714739 465.130007 302.040634 452.316272 297.366530 448.125839 292.692425 492.864244 288.018321 501.718854 283.344216 504.038413 278.670112 500.104200 273.996007 498.431586 269.321903 495.623435 264.647798 501.825207 259.973693 502.543871 255.299589 491.960104 250.625484 499.839344 245.951380 501.652162 241.277275 504.073840 236.603171 498.197939 231.929066 506.106334 227.254962 502.260686 222.580857 499.726354 217.906753 498.572757 213.232648 481.956319 208.558544 497.959742 203.884439 500.619259 199.210335 490.069623 194.536230 503.069471 189.862126 500.032395 185.188021 490.848855 180.513917 490.552121 175.839812 492.278251 171.165708 473.751978 166.491603 485.663534 161.817499 472.121763 157.143394 467.279529 152.469289 486.818024 147.795185 481.157715 143.121080 463.508223 138.446976 480.972261 133.772871 460.465382 129.098767 462.785862 124.424662 476.004327 119.750558 473.021714 115.076453 447.916149 110.402349 452.912762 105.728244 458.646699 101.054140 442.445773 96.380035 474.923381 91.705931 447.048755 87.031826 440.765000 82.357722 456.985600 77.683617 432.068928 73.009513 416.719731 68.335408 422.925655 63.661304 360.678204 58.987199 397.433277 54.313095 406.941151 49.638990 378.593281 44.964885 416.526561 40.290781 491.946914 35.616676 475.897816 30.942572 478.271036 26.268467 491.341966 21.594363 486.479760 16.920258 480.928507 12.246154 511.467272\"/></g><g class=\"series serie-7 color-7\"><path class=\"line reactive\" d=\"M12.246154 506.610733 L16.920258 468.831084 21.594363 475.759944 26.268467 480.081459 30.942572 464.592966 35.616676 462.777472 40.290781 481.272813 44.964885 379.022442 49.638990 326.612231 54.313095 368.753907 58.987199 330.709846 63.661304 310.111555 68.335408 369.193838 73.009513 357.118125 77.683617 379.631949 82.357722 416.879750 87.031826 388.736070 91.705931 413.774470 96.380035 448.356142 101.054140 396.282817 105.728244 424.050703 110.402349 424.718141 115.076453 415.901926 119.750558 447.228775 124.424662 454.947050 129.098767 440.553532 133.772871 438.701906 138.446976 459.012758 143.121080 438.929844 147.795185 465.634124 152.469289 469.112422 157.143394 446.935531 161.817499 446.628001 166.491603 471.882056 171.165708 452.393942 175.839812 479.624317 180.513917 477.637378 185.188021 475.341912 189.862126 490.899014 194.536230 495.124356 199.210335 474.239972 203.884439 493.493921 208.558544 484.762752 213.232648 464.114749 217.906753 485.684349 222.580857 485.120921 227.254962 488.742337 231.929066 493.955776 236.603171 485.672257 241.277275 494.391537 245.951380 490.358649 250.625484 487.358941 255.299589 474.134896 259.973693 490.680221 264.647798 487.439254 269.321903 480.389205 273.996007 484.231969 278.670112 488.410067 283.344216 491.292733 288.018321 490.141617 292.692425 478.405407 297.366530 425.686778 302.040634 430.424877 306.714739 449.345167 311.388843 415.414481 316.062948 420.783535 320.737052 427.442873 325.411157 409.627085 330.085261 400.065956 334.759366 404.557638 339.433470 420.903188 344.107575 433.053173 348.781679 412.597280 353.455784 389.262406 358.129888 423.224138 362.803993 466.048522 367.478097 446.865780 372.152202 394.274161 376.826307 389.094705 381.500411 342.051949 386.174516 364.706092 390.848620 361.159731 395.522725 284.264218 400.196829 377.387947 404.870934 367.237499 409.545038 338.811563 414.219143 347.171495 418.893247 414.095830 423.567352 371.617546 428.241456 371.915191 432.915561 390.582342 437.589665 360.302905 442.263770 392.544016 446.937874 415.287482 451.611979 373.091552 456.286083 409.798245 460.960188 399.614324 465.634292 401.041311 470.308397 353.923895 474.982501 402.350202 479.656606 373.173140 484.330711 398.559532 489.004815 398.825310 493.678920 420.078297 498.353024 442.394488 503.027129 453.752978 507.701233 429.769473 512.375338 452.368293 517.049442 460.522731 521.723547 433.497235 526.397651 442.267806 531.071756 454.187375 535.745860 447.077457 540.419965 456.035447 545.094069 452.231407 549.768174 445.679026 554.442278 437.666705 559.116383 435.226859 563.790487 421.624012 568.464592 448.320281 573.138696 424.794290 577.812801 431.713941 582.486905 395.249931 587.161010 420.169143 591.835115 412.305340 596.509219 427.595515 601.183324 420.132161 605.857428 427.272633 610.531533 416.889672 615.205637 427.410272 619.879742 421.427350 624.553846 476.681629 624.553846 483.883078 619.879742 437.068908 615.205637 442.709484 610.531533 431.737214 605.857428 441.220866 601.183324 431.340659 596.509219 440.299115 591.835115 428.034760 587.161010 437.279483 582.486905 413.488187 577.812801 443.199511 573.138696 440.375677 568.464592 460.154600 563.790487 437.611862 559.116383 448.380418 554.442278 449.894589 549.768174 458.167417 545.094069 460.608092 540.419965 465.485296 535.745860 462.463813 531.071756 463.648546 526.397651 452.919088 521.723547 445.008124 517.049442 470.790724 512.375338 463.413979 507.701233 445.602826 503.027129 466.519474 498.353024 458.854346 493.678920 440.483963 489.004815 411.903466 484.330711 414.980884 479.656606 405.213225 474.982501 423.187260 470.308397 385.270282 465.634292 421.317358 460.960188 419.840938 456.286083 433.426480 451.611979 398.759393 446.937874 433.893462 442.263770 413.703989 437.589665 387.917116 432.915561 409.100040 428.241456 395.490118 423.567352 400.445016 418.893247 428.360620 414.219143 375.079690 409.545038 365.020742 404.870934 390.463703 400.196829 400.739642 395.522725 325.356101 390.848620 386.750123 386.174516 385.957972 381.500411 366.137705 376.826307 407.174638 372.152202 411.380507 367.478097 457.645614 362.803993 473.704109 358.129888 438.195008 353.455784 411.333465 348.781679 427.452634 344.107575 446.338746 339.433470 439.759540 334.759366 423.997580 330.085261 423.956224 325.411157 430.882177 320.737052 446.616472 316.062948 445.518974 311.388843 446.029556 306.714739 463.824237 302.040634 450.724080 297.366530 447.133127 292.692425 491.358624 288.018321 500.496923 283.344216 503.316264 278.670112 498.732595 273.996007 496.754302 269.321903 494.804152 264.647798 500.878763 259.973693 501.371728 255.299589 490.318064 250.625484 498.892771 245.951380 501.217016 241.277275 503.481120 236.603171 496.587354 231.929066 504.967172 227.254962 501.031028 222.580857 498.599412 217.906753 498.148506 213.232648 480.201798 208.558544 496.772433 203.884439 500.394074 199.210335 488.371049 194.536230 502.647934 189.862126 499.218290 185.188021 488.754801 180.513917 488.706265 175.839812 491.670237 171.165708 472.612412 166.491603 484.464868 161.817499 469.650695 157.143394 466.548533 152.469289 485.749868 147.795185 480.126467 143.121080 461.936365 138.446976 479.553108 133.772871 458.909698 129.098767 460.576565 124.424662 473.141619 119.750558 469.000867 115.076453 443.897364 110.402349 450.366815 105.728244 455.957613 101.054140 438.648704 96.380035 472.217240 91.705931 444.611933 87.031826 435.810066 82.357722 451.547570 77.683617 428.887962 73.009513 409.748790 68.335408 418.624214 63.661304 355.080525 58.987199 378.897832 54.313095 395.958367 49.638990 367.560190 44.964885 407.889580 40.290781 489.611113 35.616676 473.330730 30.942572 475.209665 26.268467 488.061192 21.594363 484.001349 16.920258 478.969212 12.246154 510.256622\"/></g><g class=\"series serie-8 color-8\"><path class=\"line reactive\" d=\"M12.246154 504.635062 L16.920258 460.813310 21.594363 464.954624 26.268467 476.862596 30.942572 460.417408 35.616676 455.134345 40.290781 476.751007 44.964885 359.614699 49.638990 310.680133 54.313095 360.015018 58.987199 319.171984 63.661304 301.659757 68.335408 360.092852 73.009513 350.119940 77.683617 372.025671 82.357722 411.312988 87.031826 382.824686 91.705931 408.238207 96.380035 442.745638 101.054140 384.928676 105.728244 418.759402 110.402349 419.604455 115.076453 408.867753 119.750558 443.162094 124.424662 449.086426 129.098767 433.859237 133.772871 428.565235 138.446976 453.234357 143.121080 434.638704 147.795185 459.967660 152.469289 465.141332 157.143394 441.773517 161.817499 440.020269 166.491603 467.936043 171.165708 442.584070 175.839812 472.627167 180.513917 471.744742 185.188021 470.626342 189.862126 487.751375 194.536230 490.494751 199.210335 469.650398 203.884439 490.331799 208.558544 479.925313 213.232648 456.945555 217.906753 481.180001 222.580857 479.811703 227.254962 485.487584 231.929066 491.966694 236.603171 481.135719 241.277275 489.160299 245.951380 486.199557 250.625484 481.909443 255.299589 470.868695 259.973693 485.169852 264.647798 483.586524 269.321903 474.992231 273.996007 480.836145 278.670112 486.179840 283.344216 487.526586 288.018321 481.998025 292.692425 469.553690 297.366530 414.669420 302.040634 418.351778 306.714739 440.744008 311.388843 402.376733 316.062948 408.806839 320.737052 415.878757 325.411157 395.112780 330.085261 382.873273 334.759366 390.442576 339.433470 410.705076 344.107575 422.750463 348.781679 399.356354 353.455784 379.852747 358.129888 413.555101 362.803993 458.909217 367.478097 435.917187 372.152202 370.181398 376.826307 364.051781 381.500411 318.525821 386.174516 350.843759 390.848620 344.577021 395.522725 268.437405 400.196829 366.101999 404.870934 352.086399 409.545038 323.241733 414.219143 333.202281 418.893247 403.077511 423.567352 358.571023 428.241456 353.227866 432.915561 375.920109 437.589665 336.758357 442.263770 365.059561 446.937874 396.546768 451.611979 358.300051 456.286083 397.691258 460.960188 382.497391 465.634292 385.587600 470.308397 339.387774 474.982501 390.879556 479.656606 358.298450 484.330711 384.181067 489.004815 385.447958 493.678920 409.784674 498.353024 434.876652 503.027129 444.319103 507.701233 419.663692 512.375338 444.210295 517.049442 454.120539 521.723547 424.024380 526.397651 434.947839 531.071756 445.250279 535.745860 437.118053 540.419965 447.252620 545.094069 443.905555 549.768174 437.595389 554.442278 426.763346 559.116383 423.398015 563.790487 411.027705 568.464592 438.982360 573.138696 416.347619 577.812801 422.091201 582.486905 385.899718 587.161010 409.792037 591.835115 402.115931 596.509219 416.236789 601.183324 409.863617 605.857428 418.307882 610.531533 407.623794 615.205637 418.958547 619.879742 412.160452 624.553846 470.226443 624.553846 476.681629 619.879742 421.427350 615.205637 427.410272 610.531533 416.889672 605.857428 427.272633 601.183324 420.132161 596.509219 427.595515 591.835115 412.305340 587.161010 420.169143 582.486905 395.249931 577.812801 431.713941 573.138696 424.794290 568.464592 448.320281 563.790487 421.624012 559.116383 435.226859 554.442278 437.666705 549.768174 445.679026 545.094069 452.231407 540.419965 456.035447 535.745860 447.077457 531.071756 454.187375 526.397651 442.267806 521.723547 433.497235 517.049442 460.522731 512.375338 452.368293 507.701233 429.769473 503.027129 453.752978 498.353024 442.394488 493.678920 420.078297 489.004815 398.825310 484.330711 398.559532 479.656606 373.173140 474.982501 402.350202 470.308397 353.923895 465.634292 401.041311 460.960188 399.614324 456.286083 409.798245 451.611979 373.091552 446.937874 415.287482 442.263770 392.544016 437.589665 360.302905 432.915561 390.582342 428.241456 371.915191 423.567352 371.617546 418.893247 414.095830 414.219143 347.171495 409.545038 338.811563 404.870934 367.237499 400.196829 377.387947 395.522725 284.264218 390.848620 361.159731 386.174516 364.706092 381.500411 342.051949 376.826307 389.094705 372.152202 394.274161 367.478097 446.865780 362.803993 466.048522 358.129888 423.224138 353.455784 389.262406 348.781679 412.597280 344.107575 433.053173 339.433470 420.903188 334.759366 404.557638 330.085261 400.065956 325.411157 409.627085 320.737052 427.442873 316.062948 420.783535 311.388843 415.414481 306.714739 449.345167 302.040634 430.424877 297.366530 425.686778 292.692425 478.405407 288.018321 490.141617 283.344216 491.292733 278.670112 488.410067 273.996007 484.231969 269.321903 480.389205 264.647798 487.439254 259.973693 490.680221 255.299589 474.134896 250.625484 487.358941 245.951380 490.358649 241.277275 494.391537 236.603171 485.672257 231.929066 493.955776 227.254962 488.742337 222.580857 485.120921 217.906753 485.684349 213.232648 464.114749 208.558544 484.762752 203.884439 493.493921 199.210335 474.239972 194.536230 495.124356 189.862126 490.899014 185.188021 475.341912 180.513917 477.637378 175.839812 479.624317 171.165708 452.393942 166.491603 471.882056 161.817499 446.628001 157.143394 446.935531 152.469289 469.112422 147.795185 465.634124 143.121080 438.929844 138.446976 459.012758 133.772871 438.701906 129.098767 440.553532 124.424662 454.947050 119.750558 447.228775 115.076453 415.901926 110.402349 424.718141 105.728244 424.050703 101.054140 396.282817 96.380035 448.356142 91.705931 413.774470 87.031826 388.736070 82.357722 416.879750 77.683617 379.631949 73.009513 357.118125 68.335408 369.193838 63.661304 310.111555 58.987199 330.709846 54.313095 368.753907 49.638990 326.612231 44.964885 379.022442 40.290781 481.272813 35.616676 462.777472 30.942572 464.592966 26.268467 480.081459 21.594363 475.759944 16.920258 468.831084 12.246154 506.610733\"/></g><g class=\"series serie-9 color-9\"><path class=\"line reactive\" d=\"M12.246154 503.457690 L16.920258 457.631685 21.594363 461.003978 26.268467 474.239703 30.942572 457.650915 35.616676 450.248713 40.290781 474.339026 44.964885 347.400061 49.638990 284.771394 54.313095 342.058011 58.987199 306.136104 63.661304 288.706490 68.335408 345.172951 73.009513 333.496286 77.683617 358.393806 82.357722 405.616166 87.031826 372.947982 91.705931 398.510215 96.380035 439.523768 101.054140 374.103009 105.728244 411.423315 110.402349 411.528656 115.076453 398.525548 119.750558 436.046093 124.424662 435.497526 129.098767 422.768772 133.772871 416.136180 138.446976 439.157648 143.121080 425.196135 147.795185 454.535128 152.469289 462.840194 157.143394 436.840453 161.817499 433.655514 166.491603 459.106565 171.165708 438.084460 175.839812 469.303509 180.513917 468.233997 185.188021 466.193898 189.862126 483.947406 194.536230 484.105072 199.210335 455.471250 203.884439 483.456860 208.558544 473.874172 213.232648 446.904552 217.906753 466.884851 222.580857 465.217094 227.254962 479.117845 231.929066 482.121834 236.603171 469.007980 241.277275 481.856541 245.951380 483.554936 250.625484 470.578005 255.299589 455.212964 259.973693 476.102758 264.647798 477.756370 269.321903 468.586968 273.996007 476.223891 278.670112 478.086565 283.344216 483.332678 288.018321 477.291754 292.692425 462.962727 297.366530 387.297280 302.040634 402.687306 306.714739 431.134898 311.388843 391.577391 316.062948 393.825271 320.737052 407.735874 325.411157 384.611284 330.085261 366.293072 334.759366 380.545841 339.433470 402.343681 344.107575 417.497982 348.781679 388.407632 353.455784 366.369964 358.129888 404.176698 362.803993 453.350831 367.478097 427.848455 372.152202 355.276503 376.826307 353.638849 381.500411 303.841453 386.174516 337.575248 390.848620 333.361060 395.522725 254.847383 400.196829 354.411124 404.870934 326.807477 409.545038 297.160138 414.219143 304.732873 418.893247 389.787645 423.567352 313.957657 428.241456 294.947633 432.915561 357.530623 437.589665 320.926181 442.263770 353.453445 446.937874 384.102284 451.611979 344.535008 456.286083 389.485175 460.960188 372.328561 465.634292 376.970846 470.308397 326.882029 474.982501 380.712895 479.656606 343.551690 484.330711 375.042545 489.004815 381.474471 493.678920 398.607244 498.353024 423.305557 503.027129 431.951100 507.701233 408.131933 512.375338 436.369317 517.049442 443.763949 521.723547 411.143356 526.397651 422.384538 531.071756 432.477315 535.745860 426.485121 540.419965 437.054004 545.094069 434.093840 549.768174 429.675221 554.442278 416.633014 559.116383 413.048841 563.790487 399.399001 568.464592 433.645353 573.138696 411.311505 577.812801 415.471679 582.486905 376.011469 587.161010 401.287343 591.835115 391.029897 596.509219 406.872263 601.183324 399.897088 605.857428 409.487083 610.531533 396.719117 615.205637 408.740228 619.879742 400.402877 624.553846 465.381572 624.553846 470.226443 619.879742 412.160452 615.205637 418.958547 610.531533 407.623794 605.857428 418.307882 601.183324 409.863617 596.509219 416.236789 591.835115 402.115931 587.161010 409.792037 582.486905 385.899718 577.812801 422.091201 573.138696 416.347619 568.464592 438.982360 563.790487 411.027705 559.116383 423.398015 554.442278 426.763346 549.768174 437.595389 545.094069 443.905555 540.419965 447.252620 535.745860 437.118053 531.071756 445.250279 526.397651 434.947839 521.723547 424.024380 517.049442 454.120539 512.375338 444.210295 507.701233 419.663692 503.027129 444.319103 498.353024 434.876652 493.678920 409.784674 489.004815 385.447958 484.330711 384.181067 479.656606 358.298450 474.982501 390.879556 470.308397 339.387774 465.634292 385.587600 460.960188 382.497391 456.286083 397.691258 451.611979 358.300051 446.937874 396.546768 442.263770 365.059561 437.589665 336.758357 432.915561 375.920109 428.241456 353.227866 423.567352 358.571023 418.893247 403.077511 414.219143 333.202281 409.545038 323.241733 404.870934 352.086399 400.196829 366.101999 395.522725 268.437405 390.848620 344.577021 386.174516 350.843759 381.500411 318.525821 376.826307 364.051781 372.152202 370.181398 367.478097 435.917187 362.803993 458.909217 358.129888 413.555101 353.455784 379.852747 348.781679 399.356354 344.107575 422.750463 339.433470 410.705076 334.759366 390.442576 330.085261 382.873273 325.411157 395.112780 320.737052 415.878757 316.062948 408.806839 311.388843 402.376733 306.714739 440.744008 302.040634 418.351778 297.366530 414.669420 292.692425 469.553690 288.018321 481.998025 283.344216 487.526586 278.670112 486.179840 273.996007 480.836145 269.321903 474.992231 264.647798 483.586524 259.973693 485.169852 255.299589 470.868695 250.625484 481.909443 245.951380 486.199557 241.277275 489.160299 236.603171 481.135719 231.929066 491.966694 227.254962 485.487584 222.580857 479.811703 217.906753 481.180001 213.232648 456.945555 208.558544 479.925313 203.884439 490.331799 199.210335 469.650398 194.536230 490.494751 189.862126 487.751375 185.188021 470.626342 180.513917 471.744742 175.839812 472.627167 171.165708 442.584070 166.491603 467.936043 161.817499 440.020269 157.143394 441.773517 152.469289 465.141332 147.795185 459.967660 143.121080 434.638704 138.446976 453.234357 133.772871 428.565235 129.098767 433.859237 124.424662 449.086426 119.750558 443.162094 115.076453 408.867753 110.402349 419.604455 105.728244 418.759402 101.054140 384.928676 96.380035 442.745638 91.705931 408.238207 87.031826 382.824686 82.357722 411.312988 77.683617 372.025671 73.009513 350.119940 68.335408 360.092852 63.661304 301.659757 58.987199 319.171984 54.313095 360.015018 49.638990 310.680133 44.964885 359.614699 40.290781 476.751007 35.616676 455.134345 30.942572 460.417408 26.268467 476.862596 21.594363 464.954624 16.920258 460.813310 12.246154 504.635062\"/></g><g class=\"series serie-10 color-10\"><path class=\"line reactive\" d=\"M12.246154 499.705912 L16.920258 444.743571 21.594363 447.444719 26.268467 463.134053 30.942572 440.894270 35.616676 436.055864 40.290781 462.404356 44.964885 313.568901 49.638990 250.476545 54.313095 315.093420 58.987199 272.154460 63.661304 270.974875 68.335408 324.202547 73.009513 309.583331 77.683617 342.403878 82.357722 391.873124 87.031826 350.073106 91.705931 382.339345 96.380035 422.123638 101.054140 351.687015 105.728244 390.507307 110.402349 390.146602 115.076453 379.719275 119.750558 423.591112 124.424662 419.684867 129.098767 405.818295 133.772871 401.974345 138.446976 430.149626 143.121080 412.681503 147.795185 441.574630 152.469289 451.562008 157.143394 410.882382 161.817499 415.774114 166.491603 450.637823 171.165708 424.973824 175.839812 460.347629 180.513917 457.285328 185.188021 454.344617 189.862126 473.836263 194.536230 475.784856 199.210335 438.241518 203.884439 477.776774 208.558544 465.855288 213.232648 433.535880 217.906753 459.494857 222.580857 455.237283 227.254962 472.099111 231.929066 476.030388 236.603171 463.959673 241.277275 475.851951 245.951380 475.472286 250.625484 458.832913 255.299589 444.185171 259.973693 467.340564 264.647798 471.214413 269.321903 454.666351 273.996007 467.602863 278.670112 471.194148 283.344216 474.980285 288.018321 469.398976 292.692425 450.541543 297.366530 377.287507 302.040634 387.187296 306.714739 421.229120 311.388843 370.181960 316.062948 382.519528 320.737052 394.608420 325.411157 368.185555 330.085261 346.958018 334.759366 363.837061 339.433470 388.136407 344.107575 406.108047 348.781679 371.588629 353.455784 345.300312 358.129888 384.796078 362.803993 439.847469 367.478097 413.417419 372.152202 332.304229 376.826307 329.829769 381.500411 273.287305 386.174516 312.152565 390.848620 313.721090 395.522725 225.258505 400.196829 337.095024 404.870934 297.197367 409.545038 272.342857 414.219143 277.143757 418.893247 372.386057 423.567352 289.864283 428.241456 273.073598 432.915561 340.110193 437.589665 295.902033 442.263770 338.481696 446.937874 367.748057 451.611979 326.260664 456.286083 376.551015 460.960188 357.943234 465.634292 357.739036 470.308397 298.870989 474.982501 359.770689 479.656606 317.456252 484.330711 354.663764 489.004815 364.498273 493.678920 380.602644 498.353024 411.420835 503.027129 418.226383 507.701233 394.016644 512.375338 426.430924 517.049442 433.578312 521.723547 401.724834 526.397651 411.038358 531.071756 422.945248 535.745860 412.284119 540.419965 428.415737 545.094069 426.807250 549.768174 419.318172 554.442278 402.492801 559.116383 401.178919 563.790487 386.967706 568.464592 423.914786 573.138696 398.880447 577.812801 405.587676 582.486905 361.562498 587.161010 380.559788 591.835115 375.529210 596.509219 393.442061 601.183324 386.122578 605.857428 392.936241 610.531533 380.032262 615.205637 394.810824 619.879742 382.855698 624.553846 459.962107 624.553846 465.381572 619.879742 400.402877 615.205637 408.740228 610.531533 396.719117 605.857428 409.487083 601.183324 399.897088 596.509219 406.872263 591.835115 391.029897 587.161010 401.287343 582.486905 376.011469 577.812801 415.471679 573.138696 411.311505 568.464592 433.645353 563.790487 399.399001 559.116383 413.048841 554.442278 416.633014 549.768174 429.675221 545.094069 434.093840 540.419965 437.054004 535.745860 426.485121 531.071756 432.477315 526.397651 422.384538 521.723547 411.143356 517.049442 443.763949 512.375338 436.369317 507.701233 408.131933 503.027129 431.951100 498.353024 423.305557 493.678920 398.607244 489.004815 381.474471 484.330711 375.042545 479.656606 343.551690 474.982501 380.712895 470.308397 326.882029 465.634292 376.970846 460.960188 372.328561 456.286083 389.485175 451.611979 344.535008 446.937874 384.102284 442.263770 353.453445 437.589665 320.926181 432.915561 357.530623 428.241456 294.947633 423.567352 313.957657 418.893247 389.787645 414.219143 304.732873 409.545038 297.160138 404.870934 326.807477 400.196829 354.411124 395.522725 254.847383 390.848620 333.361060 386.174516 337.575248 381.500411 303.841453 376.826307 353.638849 372.152202 355.276503 367.478097 427.848455 362.803993 453.350831 358.129888 404.176698 353.455784 366.369964 348.781679 388.407632 344.107575 417.497982 339.433470 402.343681 334.759366 380.545841 330.085261 366.293072 325.411157 384.611284 320.737052 407.735874 316.062948 393.825271 311.388843 391.577391 306.714739 431.134898 302.040634 402.687306 297.366530 387.297280 292.692425 462.962727 288.018321 477.291754 283.344216 483.332678 278.670112 478.086565 273.996007 476.223891 269.321903 468.586968 264.647798 477.756370 259.973693 476.102758 255.299589 455.212964 250.625484 470.578005 245.951380 483.554936 241.277275 481.856541 236.603171 469.007980 231.929066 482.121834 227.254962 479.117845 222.580857 465.217094 217.906753 466.884851 213.232648 446.904552 208.558544 473.874172 203.884439 483.456860 199.210335 455.471250 194.536230 484.105072 189.862126 483.947406 185.188021 466.193898 180.513917 468.233997 175.839812 469.303509 171.165708 438.084460 166.491603 459.106565 161.817499 433.655514 157.143394 436.840453 152.469289 462.840194 147.795185 454.535128 143.121080 425.196135 138.446976 439.157648 133.772871 416.136180 129.098767 422.768772 124.424662 435.497526 119.750558 436.046093 115.076453 398.525548 110.402349 411.528656 105.728244 411.423315 101.054140 374.103009 96.380035 439.523768 91.705931 398.510215 87.031826 372.947982 82.357722 405.616166 77.683617 358.393806 73.009513 333.496286 68.335408 345.172951 63.661304 288.706490 58.987199 306.136104 54.313095 342.058011 49.638990 284.771394 44.964885 347.400061 40.290781 474.339026 35.616676 450.248713 30.942572 457.650915 26.268467 474.239703 21.594363 461.003978 16.920258 457.631685 12.246154 503.457690\"/></g><g class=\"series serie-11 color-11\"><path class=\"line reactive\" d=\"M12.246154 496.213795 L16.920258 438.254120 21.594363 438.344302 26.268467 457.731351 30.942572 433.321399 35.616676 427.623222 40.290781 458.613111 44.964885 301.635716 49.638990 240.787153 54.313095 304.599672 58.987199 263.051846 63.661304 242.814103 68.335408 316.429437 73.009513 301.706467 77.683617 335.583204 82.357722 386.648976 87.031826 341.142474 91.705931 378.013164 96.380035 417.388674 101.054140 345.064782 105.728244 382.378765 110.402349 384.234209 115.076453 370.764035 119.750558 417.125333 124.424662 413.589797 129.098767 399.308390 133.772871 392.833875 138.446976 426.770354 143.121080 404.083346 147.795185 437.671140 152.469289 449.096793 157.143394 403.885932 161.817499 408.434784 166.491603 448.206984 171.165708 422.335753 175.839812 458.002192 180.513917 453.304735 185.188021 449.291812 189.862126 471.807849 194.536230 472.771621 199.210335 434.206123 203.884439 476.271927 208.558544 463.196651 213.232648 426.487730 217.906753 456.273850 222.580857 451.707675 227.254962 467.423688 231.929066 473.347500 236.603171 458.743359 241.277275 473.545306 245.951380 472.443960 250.625484 456.024826 255.299589 440.672935 259.973693 465.002288 264.647798 469.252923 269.321903 450.353862 273.996007 462.478207 278.670112 467.755640 283.344216 471.729945 288.018321 465.631263 292.692425 446.323018 297.366530 371.654827 302.040634 382.581554 306.714739 417.914724 311.388843 363.736344 316.062948 379.600045 320.737052 391.157506 325.411157 364.154695 330.085261 340.516791 334.759366 358.728039 339.433470 382.102851 344.107575 401.496290 348.781679 368.784504 353.455784 338.996878 358.129888 379.893084 362.803993 432.057707 367.478097 401.367624 372.152202 322.033519 376.826307 319.018738 381.500411 254.654483 386.174516 298.847233 390.848620 301.593269 395.522725 210.266274 400.196829 330.148850 404.870934 287.176449 409.545038 263.212952 414.219143 265.016498 418.893247 363.799079 423.567352 275.944570 428.241456 264.220702 432.915561 331.075300 437.589665 285.224409 442.263770 328.279907 446.937874 360.994438 451.611979 319.602985 456.286083 369.188902 460.960188 350.095960 465.634292 347.293837 470.308397 283.892164 474.982501 348.437719 479.656606 302.117945 484.330711 344.341952 489.004815 354.253586 493.678920 374.173188 498.353024 406.815696 503.027129 414.494613 507.701233 387.535447 512.375338 421.929780 517.049442 430.781758 521.723547 397.397763 526.397651 407.416161 531.071756 420.454593 535.745860 406.407012 540.419965 425.212886 545.094069 423.192875 549.768174 415.488413 554.442278 397.139083 559.116383 395.696755 563.790487 379.867868 568.464592 418.144760 573.138696 392.798809 577.812801 398.917588 582.486905 356.092183 587.161010 373.164712 591.835115 369.225337 596.509219 386.592035 601.183324 381.427635 605.857428 386.749382 610.531533 371.479768 615.205637 388.776819 619.879742 377.535893 624.553846 457.859721 624.553846 459.962107 619.879742 382.855698 615.205637 394.810824 610.531533 380.032262 605.857428 392.936241 601.183324 386.122578 596.509219 393.442061 591.835115 375.529210 587.161010 380.559788 582.486905 361.562498 577.812801 405.587676 573.138696 398.880447 568.464592 423.914786 563.790487 386.967706 559.116383 401.178919 554.442278 402.492801 549.768174 419.318172 545.094069 426.807250 540.419965 428.415737 535.745860 412.284119 531.071756 422.945248 526.397651 411.038358 521.723547 401.724834 517.049442 433.578312 512.375338 426.430924 507.701233 394.016644 503.027129 418.226383 498.353024 411.420835 493.678920 380.602644 489.004815 364.498273 484.330711 354.663764 479.656606 317.456252 474.982501 359.770689 470.308397 298.870989 465.634292 357.739036 460.960188 357.943234 456.286083 376.551015 451.611979 326.260664 446.937874 367.748057 442.263770 338.481696 437.589665 295.902033 432.915561 340.110193 428.241456 273.073598 423.567352 289.864283 418.893247 372.386057 414.219143 277.143757 409.545038 272.342857 404.870934 297.197367 400.196829 337.095024 395.522725 225.258505 390.848620 313.721090 386.174516 312.152565 381.500411 273.287305 376.826307 329.829769 372.152202 332.304229 367.478097 413.417419 362.803993 439.847469 358.129888 384.796078 353.455784 345.300312 348.781679 371.588629 344.107575 406.108047 339.433470 388.136407 334.759366 363.837061 330.085261 346.958018 325.411157 368.185555 320.737052 394.608420 316.062948 382.519528 311.388843 370.181960 306.714739 421.229120 302.040634 387.187296 297.366530 377.287507 292.692425 450.541543 288.018321 469.398976 283.344216 474.980285 278.670112 471.194148 273.996007 467.602863 269.321903 454.666351 264.647798 471.214413 259.973693 467.340564 255.299589 444.185171 250.625484 458.832913 245.951380 475.472286 241.277275 475.851951 236.603171 463.959673 231.929066 476.030388 227.254962 472.099111 222.580857 455.237283 217.906753 459.494857 213.232648 433.535880 208.558544 465.855288 203.884439 477.776774 199.210335 438.241518 194.536230 475.784856 189.862126 473.836263 185.188021 454.344617 180.513917 457.285328 175.839812 460.347629 171.165708 424.973824 166.491603 450.637823 161.817499 415.774114 157.143394 410.882382 152.469289 451.562008 147.795185 441.574630 143.121080 412.681503 138.446976 430.149626 133.772871 401.974345 129.098767 405.818295 124.424662 419.684867 119.750558 423.591112 115.076453 379.719275 110.402349 390.146602 105.728244 390.507307 101.054140 351.687015 96.380035 422.123638 91.705931 382.339345 87.031826 350.073106 82.357722 391.873124 77.683617 342.403878 73.009513 309.583331 68.335408 324.202547 63.661304 270.974875 58.987199 272.154460 54.313095 315.093420 49.638990 250.476545 44.964885 313.568901 40.290781 462.404356 35.616676 436.055864 30.942572 440.894270 26.268467 463.134053 21.594363 447.444719 16.920258 444.743571 12.246154 499.705912\"/></g><g class=\"series serie-12 color-12\"><path class=\"line reactive\" d=\"M12.246154 493.977121 L16.920258 433.151731 21.594363 433.170401 26.268467 451.384965 30.942572 425.505696 35.616676 417.391694 40.290781 453.388805 44.964885 291.297754 49.638990 228.989672 54.313095 291.359876 58.987199 246.263673 63.661304 234.307225 68.335408 306.160560 73.009513 290.895224 77.683617 329.179821 82.357722 381.712056 87.031826 333.102468 91.705931 371.906913 96.380035 406.444978 101.054140 334.973815 105.728244 372.890290 110.402349 376.585456 115.076453 363.351378 119.750558 408.996205 124.424662 408.628013 129.098767 393.763223 133.772871 387.740296 138.446976 422.769543 143.121080 399.805383 147.795185 431.842911 152.469289 442.865132 157.143394 397.240670 161.817499 404.132825 166.491603 444.453028 171.165708 417.204536 175.839812 454.503758 180.513917 445.314385 185.188021 445.127078 189.862126 463.859510 194.536230 464.788084 199.210335 428.173576 203.884439 472.321388 208.558544 460.200470 213.232648 420.491119 217.906753 453.016265 222.580857 449.427697 227.254962 465.287306 231.929066 470.978227 236.603171 456.452502 241.277275 471.967580 245.951380 470.093384 250.625484 453.092116 255.299589 438.298836 259.973693 461.642548 264.647798 467.485324 269.321903 446.077996 273.996007 458.905034 278.670112 465.057864 283.344216 468.391210 288.018321 461.967099 292.692425 441.554447 297.366530 365.906790 302.040634 376.429429 306.714739 414.484287 311.388843 357.947309 316.062948 373.673573 320.737052 386.160105 325.411157 357.607371 330.085261 334.917154 334.759366 353.185312 339.433470 376.179382 344.107575 395.579784 348.781679 362.869370 353.455784 333.726199 358.129888 375.170139 362.803993 429.311770 367.478097 397.725926 372.152202 314.401971 376.826307 309.968032 381.500411 244.278124 386.174516 291.191855 390.848620 290.834406 395.522725 198.912016 400.196829 321.600128 404.870934 276.141423 409.545038 252.141169 414.219143 255.578617 418.893247 358.049294 423.567352 268.340790 428.241456 255.511065 432.915561 323.450190 437.589665 274.456673 442.263770 319.543585 446.937874 354.277941 451.611979 310.094616 456.286083 361.942413 460.960188 342.890918 465.634292 337.999959 470.308397 271.730790 474.982501 341.117712 479.656606 289.954174 484.330711 333.593969 489.004815 344.777676 493.678920 369.532616 498.353024 402.833924 503.027129 409.801715 507.701233 382.631444 512.375338 416.642831 517.049442 427.232005 521.723547 393.775088 526.397651 401.766002 531.071756 416.623621 535.745860 402.639399 540.419965 419.888738 545.094069 419.512013 549.768174 412.263923 554.442278 391.347052 559.116383 391.458446 563.790487 374.316859 568.464592 412.882291 573.138696 387.046808 577.812801 394.647727 582.486905 350.483335 587.161010 363.565741 591.835115 358.059216 596.509219 377.515690 601.183324 373.760362 605.857428 381.754830 610.531533 361.809832 615.205637 379.022713 619.879742 370.221999 624.553846 453.528083 624.553846 457.859721 619.879742 377.535893 615.205637 388.776819 610.531533 371.479768 605.857428 386.749382 601.183324 381.427635 596.509219 386.592035 591.835115 369.225337 587.161010 373.164712 582.486905 356.092183 577.812801 398.917588 573.138696 392.798809 568.464592 418.144760 563.790487 379.867868 559.116383 395.696755 554.442278 397.139083 549.768174 415.488413 545.094069 423.192875 540.419965 425.212886 535.745860 406.407012 531.071756 420.454593 526.397651 407.416161 521.723547 397.397763 517.049442 430.781758 512.375338 421.929780 507.701233 387.535447 503.027129 414.494613 498.353024 406.815696 493.678920 374.173188 489.004815 354.253586 484.330711 344.341952 479.656606 302.117945 474.982501 348.437719 470.308397 283.892164 465.634292 347.293837 460.960188 350.095960 456.286083 369.188902 451.611979 319.602985 446.937874 360.994438 442.263770 328.279907 437.589665 285.224409 432.915561 331.075300 428.241456 264.220702 423.567352 275.944570 418.893247 363.799079 414.219143 265.016498 409.545038 263.212952 404.870934 287.176449 400.196829 330.148850 395.522725 210.266274 390.848620 301.593269 386.174516 298.847233 381.500411 254.654483 376.826307 319.018738 372.152202 322.033519 367.478097 401.367624 362.803993 432.057707 358.129888 379.893084 353.455784 338.996878 348.781679 368.784504 344.107575 401.496290 339.433470 382.102851 334.759366 358.728039 330.085261 340.516791 325.411157 364.154695 320.737052 391.157506 316.062948 379.600045 311.388843 363.736344 306.714739 417.914724 302.040634 382.581554 297.366530 371.654827 292.692425 446.323018 288.018321 465.631263 283.344216 471.729945 278.670112 467.755640 273.996007 462.478207 269.321903 450.353862 264.647798 469.252923 259.973693 465.002288 255.299589 440.672935 250.625484 456.024826 245.951380 472.443960 241.277275 473.545306 236.603171 458.743359 231.929066 473.347500 227.254962 467.423688 222.580857 451.707675 217.906753 456.273850 213.232648 426.487730 208.558544 463.196651 203.884439 476.271927 199.210335 434.206123 194.536230 472.771621 189.862126 471.807849 185.188021 449.291812 180.513917 453.304735 175.839812 458.002192 171.165708 422.335753 166.491603 448.206984 161.817499 408.434784 157.143394 403.885932 152.469289 449.096793 147.795185 437.671140 143.121080 404.083346 138.446976 426.770354 133.772871 392.833875 129.098767 399.308390 124.424662 413.589797 119.750558 417.125333 115.076453 370.764035 110.402349 384.234209 105.728244 382.378765 101.054140 345.064782 96.380035 417.388674 91.705931 378.013164 87.031826 341.142474 82.357722 386.648976 77.683617 335.583204 73.009513 301.706467 68.335408 316.429437 63.661304 242.814103 58.987199 263.051846 54.313095 304.599672 49.638990 240.787153 44.964885 301.635716 40.290781 458.613111 35.616676 427.623222 30.942572 433.321399 26.268467 457.731351 21.594363 438.344302 16.920258 438.254120 12.246154 496.213795\"/></g><g class=\"series serie-13 color-13\"><path class=\"line reactive\" d=\"M12.246154 491.006813 L16.920258 426.327754 21.594363 426.262547 26.268467 444.032731 30.942572 414.309944 35.616676 405.587610 40.290781 446.848589 44.964885 277.093567 49.638990 199.531328 54.313095 269.052816 58.987199 226.571350 63.661304 223.438664 68.335408 289.024176 73.009513 268.443731 77.683617 309.434312 82.357722 369.999106 87.031826 321.673715 91.705931 359.050043 96.380035 396.183875 101.054140 320.376746 105.728244 360.543930 110.402349 363.341498 115.076453 348.462540 119.750558 401.004986 124.424662 398.911675 129.098767 379.149471 133.772871 377.299135 138.446976 412.636645 143.121080 388.040998 147.795185 417.717266 152.469289 436.959381 157.143394 384.639979 161.817499 394.428422 166.491603 434.642291 171.165708 408.134829 175.839812 447.742718 180.513917 439.775318 185.188021 438.210111 189.862126 457.393292 194.536230 459.534370 199.210335 416.491793 203.884439 464.010363 208.558544 455.178524 213.232648 409.325773 217.906753 445.057942 222.580857 442.204371 227.254962 458.436332 231.929066 465.245055 236.603171 449.741637 241.277275 465.992180 245.951380 462.129606 250.625484 444.241748 255.299589 430.368854 259.973693 454.736681 264.647798 462.674236 269.321903 436.423660 273.996007 449.909866 278.670112 456.239477 283.344216 458.777633 288.018321 454.885885 292.692425 432.056263 297.366530 345.963486 302.040634 358.743695 306.714739 402.218187 311.388843 339.303735 316.062948 359.828957 320.737052 378.954347 325.411157 341.245949 330.085261 315.699541 334.759366 336.499955 339.433470 356.787583 344.107575 387.352657 348.781679 346.863774 353.455784 311.277763 358.129888 357.708986 362.803993 417.841186 367.478097 381.500202 372.152202 289.456538 376.826307 288.320136 381.500411 216.860131 386.174516 265.528617 390.848620 271.018681 395.522725 165.734465 400.196829 300.130359 404.870934 247.650106 409.545038 218.527853 414.219143 225.325466 418.893247 339.374383 423.567352 245.727340 428.241456 234.317452 432.915561 311.608725 437.589665 248.986883 442.263770 300.489278 446.937874 334.992904 451.611979 284.212559 456.286083 346.526181 460.960188 321.362889 465.634292 319.544559 470.308397 246.023074 474.982501 317.916805 479.656606 265.847856 484.330711 311.772548 489.004815 328.538833 493.678920 351.407577 498.353024 383.612809 503.027129 392.652152 507.701233 366.330916 512.375338 403.893985 517.049442 416.685700 521.723547 378.464961 526.397651 389.038011 531.071756 403.975577 535.745860 389.208255 540.419965 408.318190 545.094069 414.192970 549.768174 398.672445 554.442278 376.518984 559.116383 375.788802 563.790487 352.255346 568.464592 400.133146 573.138696 367.168163 577.812801 381.592591 582.486905 334.971592 587.161010 340.422567 591.835115 333.928911 596.509219 354.808777 601.183324 353.669346 605.857428 362.672736 610.531533 338.679837 615.205637 359.922899 619.879742 352.657629 624.553846 445.704784 624.553846 453.528083 619.879742 370.221999 615.205637 379.022713 610.531533 361.809832 605.857428 381.754830 601.183324 373.760362 596.509219 377.515690 591.835115 358.059216 587.161010 363.565741 582.486905 350.483335 577.812801 394.647727 573.138696 387.046808 568.464592 412.882291 563.790487 374.316859 559.116383 391.458446 554.442278 391.347052 549.768174 412.263923 545.094069 419.512013 540.419965 419.888738 535.745860 402.639399 531.071756 416.623621 526.397651 401.766002 521.723547 393.775088 517.049442 427.232005 512.375338 416.642831 507.701233 382.631444 503.027129 409.801715 498.353024 402.833924 493.678920 369.532616 489.004815 344.777676 484.330711 333.593969 479.656606 289.954174 474.982501 341.117712 470.308397 271.730790 465.634292 337.999959 460.960188 342.890918 456.286083 361.942413 451.611979 310.094616 446.937874 354.277941 442.263770 319.543585 437.589665 274.456673 432.915561 323.450190 428.241456 255.511065 423.567352 268.340790 418.893247 358.049294 414.219143 255.578617 409.545038 252.141169 404.870934 276.141423 400.196829 321.600128 395.522725 198.912016 390.848620 290.834406 386.174516 291.191855 381.500411 244.278124 376.826307 309.968032 372.152202 314.401971 367.478097 397.725926 362.803993 429.311770 358.129888 375.170139 353.455784 333.726199 348.781679 362.869370 344.107575 395.579784 339.433470 376.179382 334.759366 353.185312 330.085261 334.917154 325.411157 357.607371 320.737052 386.160105 316.062948 373.673573 311.388843 357.947309 306.714739 414.484287 302.040634 376.429429 297.366530 365.906790 292.692425 441.554447 288.018321 461.967099 283.344216 468.391210 278.670112 465.057864 273.996007 458.905034 269.321903 446.077996 264.647798 467.485324 259.973693 461.642548 255.299589 438.298836 250.625484 453.092116 245.951380 470.093384 241.277275 471.967580 236.603171 456.452502 231.929066 470.978227 227.254962 465.287306 222.580857 449.427697 217.906753 453.016265 213.232648 420.491119 208.558544 460.200470 203.884439 472.321388 199.210335 428.173576 194.536230 464.788084 189.862126 463.859510 185.188021 445.127078 180.513917 445.314385 175.839812 454.503758 171.165708 417.204536 166.491603 444.453028 161.817499 404.132825 157.143394 397.240670 152.469289 442.865132 147.795185 431.842911 143.121080 399.805383 138.446976 422.769543 133.772871 387.740296 129.098767 393.763223 124.424662 408.628013 119.750558 408.996205 115.076453 363.351378 110.402349 376.585456 105.728244 372.890290 101.054140 334.973815 96.380035 406.444978 91.705931 371.906913 87.031826 333.102468 82.357722 381.712056 77.683617 329.179821 73.009513 290.895224 68.335408 306.160560 63.661304 234.307225 58.987199 246.263673 54.313095 291.359876 49.638990 228.989672 44.964885 291.297754 40.290781 453.388805 35.616676 417.391694 30.942572 425.505696 26.268467 451.384965 21.594363 433.170401 16.920258 433.151731 12.246154 493.977121\"/></g><g class=\"series serie-14 color-14\"><path class=\"line reactive\" d=\"M12.246154 488.886743 L16.920258 419.527647 21.594363 420.254690 26.268467 437.098490 30.942572 405.902454 35.616676 400.953838 40.290781 440.160869 44.964885 266.960707 49.638990 184.040075 54.313095 259.976296 58.987199 213.444742 63.661304 208.699173 68.335408 281.767132 73.009513 260.088538 77.683617 302.342484 82.357722 363.895804 87.031826 298.533024 91.705931 349.756780 96.380035 391.366717 101.054140 315.531007 105.728244 352.209363 110.402349 358.348684 115.076453 340.534119 119.750558 381.419614 124.424662 392.774817 129.098767 371.108059 133.772871 371.410239 138.446976 404.727592 143.121080 375.252001 147.795185 410.729722 152.469289 429.164646 157.143394 380.292393 161.817499 388.498681 166.491603 430.140103 171.165708 403.736241 175.839812 442.184505 180.513917 438.123212 185.188021 431.906415 189.862126 451.992757 194.536230 453.978581 199.210335 397.473678 203.884439 457.278767 208.558544 446.276708 213.232648 403.358650 217.906753 435.177556 222.580857 434.393266 227.254962 452.671034 231.929066 462.882959 236.603171 443.283090 241.277275 459.540736 245.951380 456.276996 250.625484 440.703008 255.299589 427.378716 259.973693 451.213494 264.647798 460.985955 269.321903 430.554478 273.996007 447.879846 278.670112 452.088427 283.344216 454.684450 288.018321 448.770662 292.692425 417.037816 297.366530 336.476439 302.040634 349.091208 306.714739 396.280770 311.388843 329.119175 316.062948 353.882558 320.737052 361.046328 325.411157 320.406889 330.085261 293.615147 334.759366 326.174558 339.433470 346.406869 344.107575 380.761017 348.781679 339.652181 353.455784 297.529211 358.129888 345.488596 362.803993 412.352442 367.478097 376.022879 372.152202 264.676333 376.826307 248.520567 381.500411 194.121688 386.174516 249.100963 390.848620 258.514379 395.522725 144.644920 400.196829 287.903414 404.870934 235.075772 409.545038 206.203926 414.219143 213.751089 418.893247 330.858803 423.567352 232.441024 428.241456 219.255213 432.915561 290.108620 437.589665 236.931938 442.263770 293.489177 446.937874 321.657174 451.611979 263.414000 456.286083 338.550319 460.960188 313.051597 465.634292 307.267886 470.308397 233.848177 474.982501 303.272959 479.656606 247.095228 484.330711 295.526697 489.004815 317.269506 493.678920 342.457824 498.353024 373.692071 503.027129 386.515366 507.701233 360.359826 512.375338 398.828229 517.049442 408.627228 521.723547 371.111062 526.397651 382.093182 531.071756 397.724150 535.745860 383.923100 540.419965 403.704383 545.094069 410.139922 549.768174 394.137267 554.442278 368.697775 559.116383 370.570140 563.790487 344.888324 568.464592 395.141333 573.138696 362.448991 577.812801 371.845820 582.486905 319.940441 587.161010 326.221982 591.835115 321.305932 596.509219 345.948041 601.183324 341.989083 605.857428 356.031265 610.531533 330.684020 615.205637 352.420653 619.879742 343.129106 624.553846 443.003392 624.553846 445.704784 619.879742 352.657629 615.205637 359.922899 610.531533 338.679837 605.857428 362.672736 601.183324 353.669346 596.509219 354.808777 591.835115 333.928911 587.161010 340.422567 582.486905 334.971592 577.812801 381.592591 573.138696 367.168163 568.464592 400.133146 563.790487 352.255346 559.116383 375.788802 554.442278 376.518984 549.768174 398.672445 545.094069 414.192970 540.419965 408.318190 535.745860 389.208255 531.071756 403.975577 526.397651 389.038011 521.723547 378.464961 517.049442 416.685700 512.375338 403.893985 507.701233 366.330916 503.027129 392.652152 498.353024 383.612809 493.678920 351.407577 489.004815 328.538833 484.330711 311.772548 479.656606 265.847856 474.982501 317.916805 470.308397 246.023074 465.634292 319.544559 460.960188 321.362889 456.286083 346.526181 451.611979 284.212559 446.937874 334.992904 442.263770 300.489278 437.589665 248.986883 432.915561 311.608725 428.241456 234.317452 423.567352 245.727340 418.893247 339.374383 414.219143 225.325466 409.545038 218.527853 404.870934 247.650106 400.196829 300.130359 395.522725 165.734465 390.848620 271.018681 386.174516 265.528617 381.500411 216.860131 376.826307 288.320136 372.152202 289.456538 367.478097 381.500202 362.803993 417.841186 358.129888 357.708986 353.455784 311.277763 348.781679 346.863774 344.107575 387.352657 339.433470 356.787583 334.759366 336.499955 330.085261 315.699541 325.411157 341.245949 320.737052 378.954347 316.062948 359.828957 311.388843 339.303735 306.714739 402.218187 302.040634 358.743695 297.366530 345.963486 292.692425 432.056263 288.018321 454.885885 283.344216 458.777633 278.670112 456.239477 273.996007 449.909866 269.321903 436.423660 264.647798 462.674236 259.973693 454.736681 255.299589 430.368854 250.625484 444.241748 245.951380 462.129606 241.277275 465.992180 236.603171 449.741637 231.929066 465.245055 227.254962 458.436332 222.580857 442.204371 217.906753 445.057942 213.232648 409.325773 208.558544 455.178524 203.884439 464.010363 199.210335 416.491793 194.536230 459.534370 189.862126 457.393292 185.188021 438.210111 180.513917 439.775318 175.839812 447.742718 171.165708 408.134829 166.491603 434.642291 161.817499 394.428422 157.143394 384.639979 152.469289 436.959381 147.795185 417.717266 143.121080 388.040998 138.446976 412.636645 133.772871 377.299135 129.098767 379.149471 124.424662 398.911675 119.750558 401.004986 115.076453 348.462540 110.402349 363.341498 105.728244 360.543930 101.054140 320.376746 96.380035 396.183875 91.705931 359.050043 87.031826 321.673715 82.357722 369.999106 77.683617 309.434312 73.009513 268.443731 68.335408 289.024176 63.661304 223.438664 58.987199 226.571350 54.313095 269.052816 49.638990 199.531328 44.964885 277.093567 40.290781 446.848589 35.616676 405.587610 30.942572 414.309944 26.268467 444.032731 21.594363 426.262547 16.920258 426.327754 12.246154 491.006813\"/></g><g class=\"series serie-15 color-15\"><path class=\"line reactive\" d=\"M12.246154 484.544738 L16.920258 410.199354 21.594363 415.033392 26.268467 427.856134 30.942572 400.668364 35.616676 390.970204 40.290781 426.470091 44.964885 218.997715 49.638990 105.973239 54.313095 199.048050 58.987199 167.568815 63.661304 165.611131 68.335408 236.158562 73.009513 219.480912 77.683617 276.204309 82.357722 338.345821 87.031826 275.608039 91.705931 320.992178 96.380035 372.090398 101.054140 298.063522 105.728244 328.285906 110.402349 342.459358 115.076453 322.909470 119.750558 363.142834 124.424662 369.047482 129.098767 346.928934 133.772871 346.201554 138.446976 377.757109 143.121080 362.148521 147.795185 392.202894 152.469289 413.633287 157.143394 371.357534 161.817499 375.843005 166.491603 419.380323 171.165708 391.327403 175.839812 437.246125 180.513917 429.223595 185.188021 420.588466 189.862126 448.367812 194.536230 449.672852 199.210335 395.947747 203.884439 456.688404 208.558544 433.168115 213.232648 389.769291 217.906753 422.662589 222.580857 427.519420 227.254962 446.562162 231.929066 455.473468 236.603171 438.803879 241.277275 452.872787 245.951380 451.100801 250.625484 433.778193 255.299589 417.360033 259.973693 443.377631 264.647798 453.439603 269.321903 420.933586 273.996007 431.929218 278.670112 436.599104 283.344216 442.083344 288.018321 435.406172 292.692425 393.810263 297.366530 317.655388 302.040634 336.596486 306.714739 390.694744 311.388843 318.847247 316.062948 342.927191 320.737052 343.485694 325.411157 306.637603 330.085261 279.536624 334.759366 311.595843 339.433470 333.612781 344.107575 360.631560 348.781679 307.192906 353.455784 259.473222 358.129888 332.252273 362.803993 401.991862 367.478097 365.508064 372.152202 241.079228 376.826307 227.996340 381.500411 162.177292 386.174516 215.186963 390.848620 226.160365 395.522725 91.813863 400.196829 260.058691 404.870934 202.160342 409.545038 175.719948 414.219143 183.049810 418.893247 312.281606 423.567352 209.018392 428.241456 193.999961 432.915561 250.834120 437.589665 204.044538 442.263770 265.171083 446.937874 299.563666 451.611979 232.711376 456.286083 308.143332 460.960188 288.489942 465.634292 272.321178 470.308397 201.181954 474.982501 277.888620 479.656606 219.002636 484.330711 272.219743 489.004815 289.181899 493.678920 324.354877 498.353024 352.114362 503.027129 364.916517 507.701233 341.412866 512.375338 377.917002 517.049442 385.034553 521.723547 339.326541 526.397651 351.467403 531.071756 370.968389 535.745860 359.053885 540.419965 378.791627 545.094069 385.136521 549.768174 376.938278 554.442278 348.628193 559.116383 348.115700 563.790487 321.023713 568.464592 369.997061 573.138696 341.374559 577.812801 352.393262 582.486905 291.043757 587.161010 305.918991 591.835115 304.131677 596.509219 324.951893 601.183324 315.399663 605.857428 331.613484 610.531533 303.375361 615.205637 330.300332 619.879742 320.002653 624.553846 430.733803 624.553846 443.003392 619.879742 343.129106 615.205637 352.420653 610.531533 330.684020 605.857428 356.031265 601.183324 341.989083 596.509219 345.948041 591.835115 321.305932 587.161010 326.221982 582.486905 319.940441 577.812801 371.845820 573.138696 362.448991 568.464592 395.141333 563.790487 344.888324 559.116383 370.570140 554.442278 368.697775 549.768174 394.137267 545.094069 410.139922 540.419965 403.704383 535.745860 383.923100 531.071756 397.724150 526.397651 382.093182 521.723547 371.111062 517.049442 408.627228 512.375338 398.828229 507.701233 360.359826 503.027129 386.515366 498.353024 373.692071 493.678920 342.457824 489.004815 317.269506 484.330711 295.526697 479.656606 247.095228 474.982501 303.272959 470.308397 233.848177 465.634292 307.267886 460.960188 313.051597 456.286083 338.550319 451.611979 263.414000 446.937874 321.657174 442.263770 293.489177 437.589665 236.931938 432.915561 290.108620 428.241456 219.255213 423.567352 232.441024 418.893247 330.858803 414.219143 213.751089 409.545038 206.203926 404.870934 235.075772 400.196829 287.903414 395.522725 144.644920 390.848620 258.514379 386.174516 249.100963 381.500411 194.121688 376.826307 248.520567 372.152202 264.676333 367.478097 376.022879 362.803993 412.352442 358.129888 345.488596 353.455784 297.529211 348.781679 339.652181 344.107575 380.761017 339.433470 346.406869 334.759366 326.174558 330.085261 293.615147 325.411157 320.406889 320.737052 361.046328 316.062948 353.882558 311.388843 329.119175 306.714739 396.280770 302.040634 349.091208 297.366530 336.476439 292.692425 417.037816 288.018321 448.770662 283.344216 454.684450 278.670112 452.088427 273.996007 447.879846 269.321903 430.554478 264.647798 460.985955 259.973693 451.213494 255.299589 427.378716 250.625484 440.703008 245.951380 456.276996 241.277275 459.540736 236.603171 443.283090 231.929066 462.882959 227.254962 452.671034 222.580857 434.393266 217.906753 435.177556 213.232648 403.358650 208.558544 446.276708 203.884439 457.278767 199.210335 397.473678 194.536230 453.978581 189.862126 451.992757 185.188021 431.906415 180.513917 438.123212 175.839812 442.184505 171.165708 403.736241 166.491603 430.140103 161.817499 388.498681 157.143394 380.292393 152.469289 429.164646 147.795185 410.729722 143.121080 375.252001 138.446976 404.727592 133.772871 371.410239 129.098767 371.108059 124.424662 392.774817 119.750558 381.419614 115.076453 340.534119 110.402349 358.348684 105.728244 352.209363 101.054140 315.531007 96.380035 391.366717 91.705931 349.756780 87.031826 298.533024 82.357722 363.895804 77.683617 302.342484 73.009513 260.088538 68.335408 281.767132 63.661304 208.699173 58.987199 213.444742 54.313095 259.976296 49.638990 184.040075 44.964885 266.960707 40.290781 440.160869 35.616676 400.953838 30.942572 405.902454 26.268467 437.098490 21.594363 420.254690 16.920258 419.527647 12.246154 488.886743\"/></g><g class=\"series serie-16 color-16\"><path class=\"line reactive\" d=\"M12.246154 483.417847 L16.920258 404.895383 21.594363 411.041305 26.268467 424.601883 30.942572 396.541649 35.616676 386.653138 40.290781 423.610363 44.964885 211.353250 49.638990 93.354273 54.313095 188.686995 58.987199 158.910475 63.661304 158.183235 68.335408 228.301118 73.009513 208.081186 77.683617 266.799676 82.357722 331.527069 87.031826 265.933648 91.705931 312.680346 96.380035 365.969047 101.054140 289.022716 105.728244 319.837339 110.402349 334.625906 115.076453 315.806097 119.750558 353.898686 124.424662 361.607763 129.098767 337.469610 133.772871 338.226242 138.446976 371.296640 143.121080 354.551605 147.795185 388.044069 152.469289 409.641651 157.143394 361.626088 161.817499 368.326395 166.491603 413.919045 171.165708 385.278189 175.839812 433.369576 180.513917 423.616882 185.188021 416.091683 189.862126 444.579069 194.536230 445.706813 199.210335 392.776738 203.884439 455.192872 208.558544 430.765978 213.232648 387.663068 217.906753 420.854442 222.580857 424.710527 227.254962 444.509072 231.929066 452.374289 236.603171 436.121140 241.277275 449.265689 245.951380 448.562050 250.625484 431.351943 255.299589 413.355020 259.973693 439.943472 264.647798 449.377118 269.321903 416.713814 273.996007 427.912146 278.670112 433.848212 283.344216 438.881174 288.018321 431.825881 292.692425 389.005484 297.366530 310.305217 302.040634 327.855899 306.714739 384.031278 311.388843 307.673942 316.062948 331.700131 320.737052 333.525838 325.411157 296.549656 330.085261 268.364089 334.759366 302.937035 339.433470 326.485352 344.107575 352.200410 348.781679 299.955272 353.455784 254.574748 358.129888 327.967708 362.803993 397.006115 367.478097 358.528538 372.152202 229.307645 376.826307 216.451447 381.500411 148.944366 386.174516 205.173573 390.848620 215.720062 395.522725 84.239794 400.196829 253.658310 404.870934 194.036430 409.545038 164.205207 414.219143 174.825916 418.893247 304.586923 423.567352 198.648528 428.241456 179.618470 432.915561 230.834595 437.589665 186.746470 442.263770 255.210653 446.937874 289.996353 451.611979 219.252247 456.286083 294.173066 460.960188 278.263704 465.634292 261.985433 470.308397 190.906828 474.982501 269.906395 479.656606 209.151653 484.330711 265.328454 489.004815 281.096856 493.678920 314.669042 498.353024 345.272076 503.027129 357.914838 507.701233 337.443936 512.375338 371.591801 517.049442 380.348015 521.723547 332.836514 526.397651 345.009645 531.071756 365.577149 535.745860 353.320549 540.419965 373.696473 545.094069 380.442503 549.768174 371.672535 554.442278 343.139259 559.116383 340.548332 563.790487 313.186868 568.464592 362.285171 573.138696 334.792466 577.812801 342.932605 582.486905 281.086338 587.161010 296.248036 591.835115 294.277817 596.509219 316.856440 601.183324 306.124280 605.857428 322.415717 610.531533 293.875871 615.205637 321.982114 619.879742 311.032597 624.553846 424.886942 624.553846 430.733803 619.879742 320.002653 615.205637 330.300332 610.531533 303.375361 605.857428 331.613484 601.183324 315.399663 596.509219 324.951893 591.835115 304.131677 587.161010 305.918991 582.486905 291.043757 577.812801 352.393262 573.138696 341.374559 568.464592 369.997061 563.790487 321.023713 559.116383 348.115700 554.442278 348.628193 549.768174 376.938278 545.094069 385.136521 540.419965 378.791627 535.745860 359.053885 531.071756 370.968389 526.397651 351.467403 521.723547 339.326541 517.049442 385.034553 512.375338 377.917002 507.701233 341.412866 503.027129 364.916517 498.353024 352.114362 493.678920 324.354877 489.004815 289.181899 484.330711 272.219743 479.656606 219.002636 474.982501 277.888620 470.308397 201.181954 465.634292 272.321178 460.960188 288.489942 456.286083 308.143332 451.611979 232.711376 446.937874 299.563666 442.263770 265.171083 437.589665 204.044538 432.915561 250.834120 428.241456 193.999961 423.567352 209.018392 418.893247 312.281606 414.219143 183.049810 409.545038 175.719948 404.870934 202.160342 400.196829 260.058691 395.522725 91.813863 390.848620 226.160365 386.174516 215.186963 381.500411 162.177292 376.826307 227.996340 372.152202 241.079228 367.478097 365.508064 362.803993 401.991862 358.129888 332.252273 353.455784 259.473222 348.781679 307.192906 344.107575 360.631560 339.433470 333.612781 334.759366 311.595843 330.085261 279.536624 325.411157 306.637603 320.737052 343.485694 316.062948 342.927191 311.388843 318.847247 306.714739 390.694744 302.040634 336.596486 297.366530 317.655388 292.692425 393.810263 288.018321 435.406172 283.344216 442.083344 278.670112 436.599104 273.996007 431.929218 269.321903 420.933586 264.647798 453.439603 259.973693 443.377631 255.299589 417.360033 250.625484 433.778193 245.951380 451.100801 241.277275 452.872787 236.603171 438.803879 231.929066 455.473468 227.254962 446.562162 222.580857 427.519420 217.906753 422.662589 213.232648 389.769291 208.558544 433.168115 203.884439 456.688404 199.210335 395.947747 194.536230 449.672852 189.862126 448.367812 185.188021 420.588466 180.513917 429.223595 175.839812 437.246125 171.165708 391.327403 166.491603 419.380323 161.817499 375.843005 157.143394 371.357534 152.469289 413.633287 147.795185 392.202894 143.121080 362.148521 138.446976 377.757109 133.772871 346.201554 129.098767 346.928934 124.424662 369.047482 119.750558 363.142834 115.076453 322.909470 110.402349 342.459358 105.728244 328.285906 101.054140 298.063522 96.380035 372.090398 91.705931 320.992178 87.031826 275.608039 82.357722 338.345821 77.683617 276.204309 73.009513 219.480912 68.335408 236.158562 63.661304 165.611131 58.987199 167.568815 54.313095 199.048050 49.638990 105.973239 44.964885 218.997715 40.290781 426.470091 35.616676 390.970204 30.942572 400.668364 26.268467 427.856134 21.594363 415.033392 16.920258 410.199354 12.246154 484.544738\"/></g><g class=\"series serie-17 color-17\"><path class=\"line reactive\" d=\"M12.246154 482.919719 L16.920258 400.622483 21.594363 407.049728 26.268467 421.870333 30.942572 393.110646 35.616676 382.821526 40.290781 420.219863 44.964885 204.177022 49.638990 85.550091 54.313095 181.027230 58.987199 151.928159 63.661304 153.769987 68.335408 221.697617 73.009513 202.408370 77.683617 263.457804 82.357722 329.482539 87.031826 260.012141 91.705931 307.703184 96.380035 361.739570 101.054140 285.032975 105.728244 313.470754 110.402349 331.340521 115.076453 310.145671 119.750558 348.790989 124.424662 358.555797 129.098767 333.621382 133.772871 336.158637 138.446976 369.020292 143.121080 351.600600 147.795185 381.543930 152.469289 394.992195 157.143394 349.388488 161.817499 361.632021 166.491603 411.855860 171.165708 380.469492 175.839812 429.582978 180.513917 419.619203 185.188021 413.010292 189.862126 442.852256 194.536230 441.408583 199.210335 388.406941 203.884439 452.293772 208.558544 428.833543 213.232648 385.733893 217.906753 418.475705 222.580857 423.287065 227.254962 443.147795 231.929066 451.256250 236.603171 434.872440 241.277275 448.791493 245.951380 447.518335 250.625484 430.082660 255.299589 412.284083 259.973693 437.860977 264.647798 446.613445 269.321903 415.091635 273.996007 426.379851 278.670112 432.456205 283.344216 437.829661 288.018321 430.388026 292.692425 385.159384 297.366530 306.409212 302.040634 325.010837 306.714739 382.333448 311.388843 305.284907 316.062948 328.195891 320.737052 329.359046 325.411157 291.815053 330.085261 264.241513 334.759366 299.489069 339.433470 324.897205 344.107575 350.077566 348.781679 295.989742 353.455784 251.448330 358.129888 325.242679 362.803993 395.677905 367.478097 355.704555 372.152202 223.209899 376.826307 200.616040 381.500411 138.591493 386.174516 197.407802 390.848620 203.972815 395.522725 70.718962 400.196829 242.784504 404.870934 180.920524 409.545038 154.489093 414.219143 165.205491 418.893247 297.742463 423.567352 191.014163 428.241456 170.778916 432.915561 217.572832 437.589665 175.864567 442.263770 246.095532 446.937874 282.041275 451.611979 209.298304 456.286083 287.874971 460.960188 270.778288 465.634292 254.733800 470.308397 180.004604 474.982501 262.420824 479.656606 196.757939 484.330711 255.026644 489.004815 270.607392 493.678920 306.478222 498.353024 338.822889 503.027129 354.112400 507.701233 333.783499 512.375338 366.850422 517.049442 375.488637 521.723547 328.744825 526.397651 339.496213 531.071756 362.589751 535.745860 349.896751 540.419965 370.108951 545.094069 375.995526 549.768174 368.177043 554.442278 338.358027 559.116383 335.172581 563.790487 309.223039 568.464592 358.742967 573.138696 330.388834 577.812801 336.691216 582.486905 272.431562 587.161010 288.726467 591.835115 285.807701 596.509219 309.961867 601.183324 297.593752 605.857428 315.432147 610.531533 286.740317 615.205637 317.152797 619.879742 303.109948 624.553846 421.303311 624.553846 424.886942 619.879742 311.032597 615.205637 321.982114 610.531533 293.875871 605.857428 322.415717 601.183324 306.124280 596.509219 316.856440 591.835115 294.277817 587.161010 296.248036 582.486905 281.086338 577.812801 342.932605 573.138696 334.792466 568.464592 362.285171 563.790487 313.186868 559.116383 340.548332 554.442278 343.139259 549.768174 371.672535 545.094069 380.442503 540.419965 373.696473 535.745860 353.320549 531.071756 365.577149 526.397651 345.009645 521.723547 332.836514 517.049442 380.348015 512.375338 371.591801 507.701233 337.443936 503.027129 357.914838 498.353024 345.272076 493.678920 314.669042 489.004815 281.096856 484.330711 265.328454 479.656606 209.151653 474.982501 269.906395 470.308397 190.906828 465.634292 261.985433 460.960188 278.263704 456.286083 294.173066 451.611979 219.252247 446.937874 289.996353 442.263770 255.210653 437.589665 186.746470 432.915561 230.834595 428.241456 179.618470 423.567352 198.648528 418.893247 304.586923 414.219143 174.825916 409.545038 164.205207 404.870934 194.036430 400.196829 253.658310 395.522725 84.239794 390.848620 215.720062 386.174516 205.173573 381.500411 148.944366 376.826307 216.451447 372.152202 229.307645 367.478097 358.528538 362.803993 397.006115 358.129888 327.967708 353.455784 254.574748 348.781679 299.955272 344.107575 352.200410 339.433470 326.485352 334.759366 302.937035 330.085261 268.364089 325.411157 296.549656 320.737052 333.525838 316.062948 331.700131 311.388843 307.673942 306.714739 384.031278 302.040634 327.855899 297.366530 310.305217 292.692425 389.005484 288.018321 431.825881 283.344216 438.881174 278.670112 433.848212 273.996007 427.912146 269.321903 416.713814 264.647798 449.377118 259.973693 439.943472 255.299589 413.355020 250.625484 431.351943 245.951380 448.562050 241.277275 449.265689 236.603171 436.121140 231.929066 452.374289 227.254962 444.509072 222.580857 424.710527 217.906753 420.854442 213.232648 387.663068 208.558544 430.765978 203.884439 455.192872 199.210335 392.776738 194.536230 445.706813 189.862126 444.579069 185.188021 416.091683 180.513917 423.616882 175.839812 433.369576 171.165708 385.278189 166.491603 413.919045 161.817499 368.326395 157.143394 361.626088 152.469289 409.641651 147.795185 388.044069 143.121080 354.551605 138.446976 371.296640 133.772871 338.226242 129.098767 337.469610 124.424662 361.607763 119.750558 353.898686 115.076453 315.806097 110.402349 334.625906 105.728244 319.837339 101.054140 289.022716 96.380035 365.969047 91.705931 312.680346 87.031826 265.933648 82.357722 331.527069 77.683617 266.799676 73.009513 208.081186 68.335408 228.301118 63.661304 158.183235 58.987199 158.910475 54.313095 188.686995 49.638990 93.354273 44.964885 211.353250 40.290781 423.610363 35.616676 386.653138 30.942572 396.541649 26.268467 424.601883 21.594363 411.041305 16.920258 404.895383 12.246154 483.417847\"/></g><g class=\"series serie-18 color-18\"><path class=\"line reactive\" d=\"M12.246154 481.911655 L16.920258 397.002859 21.594363 403.544220 26.268467 420.305630 30.942572 390.336277 35.616676 379.152224 40.290781 416.983979 44.964885 196.565006 49.638990 77.787705 54.313095 174.850095 58.987199 143.227990 63.661304 147.433948 68.335408 213.629216 73.009513 196.656392 77.683617 256.620595 82.357722 324.411166 87.031826 255.184098 91.705931 301.091964 96.380035 356.749095 101.054140 278.080978 105.728244 304.679253 110.402349 325.534612 115.076453 301.121617 119.750558 342.453270 124.424662 352.716270 129.098767 327.429502 133.772871 330.692333 138.446976 364.255779 143.121080 345.192545 147.795185 376.982165 152.469289 389.723918 157.143394 344.091079 161.817499 356.533989 166.491603 408.405683 171.165708 374.482505 175.839812 424.624297 180.513917 416.733573 185.188021 408.321845 189.862126 439.584502 194.536230 439.576091 199.210335 385.136051 203.884439 449.600433 208.558544 425.988239 213.232648 383.031262 217.906753 416.215651 222.580857 421.511353 227.254962 441.144271 231.929066 449.317232 236.603171 433.375872 241.277275 446.062179 245.951380 444.648397 250.625484 427.852125 255.299589 410.095314 259.973693 435.862847 264.647798 444.006749 269.321903 413.133891 273.996007 424.543827 278.670112 430.964600 283.344216 434.818839 288.018321 427.563675 292.692425 380.086871 297.366530 300.888976 302.040634 317.946550 306.714739 377.840391 311.388843 298.574876 316.062948 320.911630 320.737052 323.180737 325.411157 285.356399 330.085261 256.176253 334.759366 289.687550 339.433470 316.719455 344.107575 342.582651 348.781679 287.598888 353.455784 242.981712 358.129888 318.991549 362.803993 392.312650 367.478097 349.090944 372.152202 211.846329 376.826307 187.782947 381.500411 128.122378 386.174516 190.094401 390.848620 194.961352 395.522725 58.320276 400.196829 233.927376 404.870934 172.173811 409.545038 143.918260 414.219143 154.411112 418.893247 290.305746 423.567352 182.207656 428.241456 158.022120 432.915561 205.321592 437.589665 163.272162 442.263770 237.631842 446.937874 275.269221 451.611979 197.807939 456.286083 282.339365 460.960188 263.175613 465.634292 247.240545 470.308397 170.429723 474.982501 255.251597 479.656606 186.436939 484.330711 246.971334 489.004815 263.754839 493.678920 298.011412 498.353024 329.205198 503.027129 345.249420 507.701233 325.344895 512.375338 359.854507 517.049442 368.758091 521.723547 321.458786 526.397651 331.739806 531.071756 356.290948 535.745860 343.830820 540.419965 364.346843 545.094069 371.352863 549.768174 362.340682 554.442278 329.265350 559.116383 326.787073 563.790487 295.414981 568.464592 346.380138 573.138696 316.142172 577.812801 323.189498 582.486905 257.736253 587.161010 274.781517 591.835115 271.398736 596.509219 296.622459 601.183324 286.801999 605.857428 306.300719 610.531533 276.473008 615.205637 308.732312 619.879742 292.572833 624.553846 416.048605 624.553846 421.303311 619.879742 303.109948 615.205637 317.152797 610.531533 286.740317 605.857428 315.432147 601.183324 297.593752 596.509219 309.961867 591.835115 285.807701 587.161010 288.726467 582.486905 272.431562 577.812801 336.691216 573.138696 330.388834 568.464592 358.742967 563.790487 309.223039 559.116383 335.172581 554.442278 338.358027 549.768174 368.177043 545.094069 375.995526 540.419965 370.108951 535.745860 349.896751 531.071756 362.589751 526.397651 339.496213 521.723547 328.744825 517.049442 375.488637 512.375338 366.850422 507.701233 333.783499 503.027129 354.112400 498.353024 338.822889 493.678920 306.478222 489.004815 270.607392 484.330711 255.026644 479.656606 196.757939 474.982501 262.420824 470.308397 180.004604 465.634292 254.733800 460.960188 270.778288 456.286083 287.874971 451.611979 209.298304 446.937874 282.041275 442.263770 246.095532 437.589665 175.864567 432.915561 217.572832 428.241456 170.778916 423.567352 191.014163 418.893247 297.742463 414.219143 165.205491 409.545038 154.489093 404.870934 180.920524 400.196829 242.784504 395.522725 70.718962 390.848620 203.972815 386.174516 197.407802 381.500411 138.591493 376.826307 200.616040 372.152202 223.209899 367.478097 355.704555 362.803993 395.677905 358.129888 325.242679 353.455784 251.448330 348.781679 295.989742 344.107575 350.077566 339.433470 324.897205 334.759366 299.489069 330.085261 264.241513 325.411157 291.815053 320.737052 329.359046 316.062948 328.195891 311.388843 305.284907 306.714739 382.333448 302.040634 325.010837 297.366530 306.409212 292.692425 385.159384 288.018321 430.388026 283.344216 437.829661 278.670112 432.456205 273.996007 426.379851 269.321903 415.091635 264.647798 446.613445 259.973693 437.860977 255.299589 412.284083 250.625484 430.082660 245.951380 447.518335 241.277275 448.791493 236.603171 434.872440 231.929066 451.256250 227.254962 443.147795 222.580857 423.287065 217.906753 418.475705 213.232648 385.733893 208.558544 428.833543 203.884439 452.293772 199.210335 388.406941 194.536230 441.408583 189.862126 442.852256 185.188021 413.010292 180.513917 419.619203 175.839812 429.582978 171.165708 380.469492 166.491603 411.855860 161.817499 361.632021 157.143394 349.388488 152.469289 394.992195 147.795185 381.543930 143.121080 351.600600 138.446976 369.020292 133.772871 336.158637 129.098767 333.621382 124.424662 358.555797 119.750558 348.790989 115.076453 310.145671 110.402349 331.340521 105.728244 313.470754 101.054140 285.032975 96.380035 361.739570 91.705931 307.703184 87.031826 260.012141 82.357722 329.482539 77.683617 263.457804 73.009513 202.408370 68.335408 221.697617 63.661304 153.769987 58.987199 151.928159 54.313095 181.027230 49.638990 85.550091 44.964885 204.177022 40.290781 420.219863 35.616676 382.821526 30.942572 393.110646 26.268467 421.870333 21.594363 407.049728 16.920258 400.622483 12.246154 482.919719\"/></g><g class=\"series serie-19 color-19\"><path class=\"line reactive\" d=\"M12.246154 478.656478 L16.920258 389.478818 21.594363 400.523759 26.268467 418.113845 30.942572 387.433458 35.616676 375.570374 40.290781 415.250343 44.964885 163.671164 49.638990 10.269231 54.313095 125.218414 58.987199 101.901320 63.661304 121.945838 68.335408 179.624970 73.009513 167.352811 77.683617 233.622448 82.357722 306.437237 87.031826 242.212958 91.705931 286.392716 96.380035 347.753492 101.054140 267.166339 105.728244 292.528795 110.402349 315.845888 115.076453 289.256217 119.750558 331.390616 124.424662 341.617413 129.098767 319.936607 133.772871 322.800110 138.446976 354.707713 143.121080 339.572057 147.795185 371.070587 152.469289 383.342741 157.143394 337.935769 161.817499 349.798851 166.491603 403.387261 171.165708 369.025228 175.839812 420.568277 180.513917 413.614057 185.188021 402.978190 189.862126 437.340223 194.536230 438.158366 199.210335 383.751815 203.884439 447.976091 208.558544 416.477560 213.232648 377.206663 217.906753 410.750553 222.580857 418.522919 227.254962 438.567439 231.929066 446.339804 236.603171 431.613218 241.277275 444.703517 245.951380 443.067229 250.625484 424.658997 255.299589 407.068908 259.973693 431.204144 264.647798 440.612797 269.321903 408.705194 273.996007 422.204565 278.670112 429.976931 283.344216 431.204145 288.018321 423.431781 292.692425 371.070585 297.366530 252.030684 302.040634 270.029842 306.714739 341.617416 311.388843 250.394396 316.062948 272.893344 320.737052 267.984484 325.411157 237.304097 330.085261 198.851343 334.759366 243.849243 339.433470 274.120562 344.107575 302.755592 348.781679 254.076043 353.455784 237.713166 358.129888 316.254960 362.803993 390.296962 367.478097 343.662774 372.152202 198.851345 376.826307 174.716110 381.500411 113.355330 386.174516 176.761464 390.848620 181.670327 395.522725 46.676624 400.196829 220.941224 404.870934 163.262095 409.545038 130.127276 414.219143 141.990358 418.893247 283.120141 423.567352 174.716106 428.241456 133.399854 432.915561 175.943320 437.589665 135.036140 442.263770 211.941643 446.937874 258.575833 451.611979 175.943321 456.286083 261.030263 460.960188 247.939964 465.634292 231.168024 470.308397 156.307876 474.982501 244.258318 479.656606 173.079817 484.330711 234.849669 489.004815 252.030685 493.678920 292.528797 498.353024 325.663615 503.027129 337.935768 507.701233 319.118465 512.375338 352.662354 517.049442 362.071005 521.723547 311.755168 526.397651 324.436397 531.071756 347.753492 535.745860 335.890409 540.419965 356.343999 545.094069 362.889150 549.768174 356.344001 554.442278 313.800530 559.116383 316.664032 563.790487 285.574571 568.464592 333.026904 573.138696 302.346520 577.812801 312.573316 582.486905 247.939964 587.161010 265.120982 591.835115 262.257478 596.509219 289.256220 601.183324 276.574994 605.857428 299.892087 610.531533 265.939125 615.205637 301.119304 619.879742 284.347359 624.553846 410.750555 624.553846 416.048605 619.879742 292.572833 615.205637 308.732312 610.531533 276.473008 605.857428 306.300719 601.183324 286.801999 596.509219 296.622459 591.835115 271.398736 587.161010 274.781517 582.486905 257.736253 577.812801 323.189498 573.138696 316.142172 568.464592 346.380138 563.790487 295.414981 559.116383 326.787073 554.442278 329.265350 549.768174 362.340682 545.094069 371.352863 540.419965 364.346843 535.745860 343.830820 531.071756 356.290948 526.397651 331.739806 521.723547 321.458786 517.049442 368.758091 512.375338 359.854507 507.701233 325.344895 503.027129 345.249420 498.353024 329.205198 493.678920 298.011412 489.004815 263.754839 484.330711 246.971334 479.656606 186.436939 474.982501 255.251597 470.308397 170.429723 465.634292 247.240545 460.960188 263.175613 456.286083 282.339365 451.611979 197.807939 446.937874 275.269221 442.263770 237.631842 437.589665 163.272162 432.915561 205.321592 428.241456 158.022120 423.567352 182.207656 418.893247 290.305746 414.219143 154.411112 409.545038 143.918260 404.870934 172.173811 400.196829 233.927376 395.522725 58.320276 390.848620 194.961352 386.174516 190.094401 381.500411 128.122378 376.826307 187.782947 372.152202 211.846329 367.478097 349.090944 362.803993 392.312650 358.129888 318.991549 353.455784 242.981712 348.781679 287.598888 344.107575 342.582651 339.433470 316.719455 334.759366 289.687550 330.085261 256.176253 325.411157 285.356399 320.737052 323.180737 316.062948 320.911630 311.388843 298.574876 306.714739 377.840391 302.040634 317.946550 297.366530 300.888976 292.692425 380.086871 288.018321 427.563675 283.344216 434.818839 278.670112 430.964600 273.996007 424.543827 269.321903 413.133891 264.647798 444.006749 259.973693 435.862847 255.299589 410.095314 250.625484 427.852125 245.951380 444.648397 241.277275 446.062179 236.603171 433.375872 231.929066 449.317232 227.254962 441.144271 222.580857 421.511353 217.906753 416.215651 213.232648 383.031262 208.558544 425.988239 203.884439 449.600433 199.210335 385.136051 194.536230 439.576091 189.862126 439.584502 185.188021 408.321845 180.513917 416.733573 175.839812 424.624297 171.165708 374.482505 166.491603 408.405683 161.817499 356.533989 157.143394 344.091079 152.469289 389.723918 147.795185 376.982165 143.121080 345.192545 138.446976 364.255779 133.772871 330.692333 129.098767 327.429502 124.424662 352.716270 119.750558 342.453270 115.076453 301.121617 110.402349 325.534612 105.728244 304.679253 101.054140 278.080978 96.380035 356.749095 91.705931 301.091964 87.031826 255.184098 82.357722 324.411166 77.683617 256.620595 73.009513 196.656392 68.335408 213.629216 63.661304 147.433948 58.987199 143.227990 54.313095 174.850095 49.638990 77.787705 44.964885 196.565006 40.290781 416.983979 35.616676 379.152224 30.942572 390.336277 26.268467 420.305630 21.594363 403.544220 16.920258 397.002859 12.246154 481.911655\"/></g></g><g class=\"titles\"><text class=\"title plot_title\" x=\"400.0\" y=\"26\">Topics</text></g><g class=\"plot overlay\" transform=\"translate(143, 46)\"><g class=\"series serie-0 color-0\"/><g class=\"series serie-1 color-1\"/><g class=\"series serie-2 color-2\"/><g class=\"series serie-3 color-3\"/><g class=\"series serie-4 color-4\"/><g class=\"series serie-5 color-5\"/><g class=\"series serie-6 color-6\"/><g class=\"series serie-7 color-7\"/><g class=\"series serie-8 color-8\"/><g class=\"series serie-9 color-9\"/><g class=\"series serie-10 color-10\"/><g class=\"series serie-11 color-11\"/><g class=\"series serie-12 color-12\"/><g class=\"series serie-13 color-13\"/><g class=\"series serie-14 color-14\"/><g class=\"series serie-15 color-15\"/><g class=\"series serie-16 color-16\"/><g class=\"series serie-17 color-17\"/><g class=\"series serie-18 color-18\"/><g class=\"series serie-19 color-19\"/></g><g class=\"plot text-overlay\" transform=\"translate(143, 46)\"><g class=\"series serie-0 color-0\"/><g class=\"series serie-1 color-1\"/><g class=\"series serie-2 color-2\"/><g class=\"series serie-3 color-3\"/><g class=\"series serie-4 color-4\"/><g class=\"series serie-5 color-5\"/><g class=\"series serie-6 color-6\"/><g class=\"series serie-7 color-7\"/><g class=\"series serie-8 color-8\"/><g class=\"series serie-9 color-9\"/><g class=\"series serie-10 color-10\"/><g class=\"series serie-11 color-11\"/><g class=\"series serie-12 color-12\"/><g class=\"series serie-13 color-13\"/><g class=\"series serie-14 color-14\"/><g class=\"series serie-15 color-15\"/><g class=\"series serie-16 color-16\"/><g class=\"series serie-17 color-17\"/><g class=\"series serie-18 color-18\"/><g class=\"series serie-19 color-19\"/></g><g class=\"plot tooltip-overlay\" transform=\"translate(143, 46)\"><g class=\"tooltip\" style=\"opacity: 0\" transform=\"translate(0 0)\"><rect class=\"tooltip-box\" height=\"0\" rx=\"0\" ry=\"0\" width=\"0\"/><g class=\"text\"/></g></g><g class=\"legends\" transform=\"translate(10, 56)\"><g class=\"legend reactive activate-serie\" id=\"activate-serie-0\"><rect class=\"color-0 reactive\" height=\"12\" width=\"12\" x=\"0.0\" y=\"1.0\"/><text x=\"17.0\" y=\"11.2\">topic_0</text></g><g class=\"legend reactive activate-serie\" id=\"activate-serie-1\"><rect class=\"color-1 reactive\" height=\"12\" width=\"12\" x=\"0.0\" y=\"22.0\"/><text x=\"17.0\" y=\"32.2\">topic_1</text></g><g class=\"legend reactive activate-serie\" id=\"activate-serie-2\"><rect class=\"color-2 reactive\" height=\"12\" width=\"12\" x=\"0.0\" y=\"43.0\"/><text x=\"17.0\" y=\"53.2\">topic_2</text></g><g class=\"legend reactive activate-serie\" id=\"activate-serie-3\"><rect class=\"color-3 reactive\" height=\"12\" width=\"12\" x=\"0.0\" y=\"64.0\"/><text x=\"17.0\" y=\"74.2\">topic_3</text></g><g class=\"legend reactive activate-serie\" id=\"activate-serie-4\"><rect class=\"color-4 reactive\" height=\"12\" width=\"12\" x=\"0.0\" y=\"85.0\"/><text x=\"17.0\" y=\"95.2\">topic_4</text></g><g class=\"legend reactive activate-serie\" id=\"activate-serie-5\"><rect class=\"color-5 reactive\" height=\"12\" width=\"12\" x=\"0.0\" y=\"106.0\"/><text x=\"17.0\" y=\"116.2\">topic_5</text></g><g class=\"legend reactive activate-serie\" id=\"activate-serie-6\"><rect class=\"color-6 reactive\" height=\"12\" width=\"12\" x=\"0.0\" y=\"127.0\"/><text x=\"17.0\" y=\"137.2\">topic_6</text></g><g class=\"legend reactive activate-serie\" id=\"activate-serie-7\"><rect class=\"color-7 reactive\" height=\"12\" width=\"12\" x=\"0.0\" y=\"148.0\"/><text x=\"17.0\" y=\"158.2\">topic_7</text></g><g class=\"legend reactive activate-serie\" id=\"activate-serie-8\"><rect class=\"color-8 reactive\" height=\"12\" width=\"12\" x=\"0.0\" y=\"169.0\"/><text x=\"17.0\" y=\"179.2\">topic_8</text></g><g class=\"legend reactive activate-serie\" id=\"activate-serie-9\"><rect class=\"color-9 reactive\" height=\"12\" width=\"12\" x=\"0.0\" y=\"190.0\"/><text x=\"17.0\" y=\"200.2\">topic_9</text></g><g class=\"legend reactive activate-serie\" id=\"activate-serie-10\"><rect class=\"color-10 reactive\" height=\"12\" width=\"12\" x=\"0.0\" y=\"211.0\"/><text x=\"17.0\" y=\"221.2\">topic_10</text></g><g class=\"legend reactive activate-serie\" id=\"activate-serie-11\"><rect class=\"color-11 reactive\" height=\"12\" width=\"12\" x=\"0.0\" y=\"232.0\"/><text x=\"17.0\" y=\"242.2\">topic_11</text></g><g class=\"legend reactive activate-serie\" id=\"activate-serie-12\"><rect class=\"color-12 reactive\" height=\"12\" width=\"12\" x=\"0.0\" y=\"253.0\"/><text x=\"17.0\" y=\"263.2\">topic_12</text></g><g class=\"legend reactive activate-serie\" id=\"activate-serie-13\"><rect class=\"color-13 reactive\" height=\"12\" width=\"12\" x=\"0.0\" y=\"274.0\"/><text x=\"17.0\" y=\"284.2\">topic_13</text></g><g class=\"legend reactive activate-serie\" id=\"activate-serie-14\"><rect class=\"color-14 reactive\" height=\"12\" width=\"12\" x=\"0.0\" y=\"295.0\"/><text x=\"17.0\" y=\"305.2\">topic_14</text></g><g class=\"legend reactive activate-serie\" id=\"activate-serie-15\"><rect class=\"color-15 reactive\" height=\"12\" width=\"12\" x=\"0.0\" y=\"316.0\"/><text x=\"17.0\" y=\"326.2\">topic_15</text></g><g class=\"legend reactive activate-serie\" id=\"activate-serie-16\"><rect class=\"color-16 reactive\" height=\"12\" width=\"12\" x=\"0.0\" y=\"337.0\"/><text x=\"17.0\" y=\"347.2\">topic_16</text></g><g class=\"legend reactive activate-serie\" id=\"activate-serie-17\"><rect class=\"color-17 reactive\" height=\"12\" width=\"12\" x=\"0.0\" y=\"358.0\"/><text x=\"17.0\" y=\"368.2\">topic_17</text></g><g class=\"legend reactive activate-serie\" id=\"activate-serie-18\"><rect class=\"color-18 reactive\" height=\"12\" width=\"12\" x=\"0.0\" y=\"379.0\"/><text x=\"17.0\" y=\"389.2\">topic_18</text></g><g class=\"legend reactive activate-serie\" id=\"activate-serie-19\"><rect class=\"color-19 reactive\" height=\"12\" width=\"12\" x=\"0.0\" y=\"400.0\"/><text x=\"17.0\" y=\"410.2\">topic_19</text></g></g><g class=\"legends\" transform=\"translate(790, 56)\"/></g></svg>\n",
       "    </figure>\n",
       "  </body>\n",
       "</html>\n"
      ],
      "text/plain": [
       "<IPython.core.display.HTML object>"
      ]
     },
     "execution_count": 38,
     "metadata": {},
     "output_type": "execute_result"
    }
   ],
   "source": [
    "line_chart = pygal.StackedLine(fill=True, show_dots=False)\n",
    "line_chart.title = 'Topics'\n",
    "for topic in topics:\n",
    "    line_chart.add(topic, gb[topic].values)\n",
    "    \n",
    "HTML(html_pygal.format(pygal_render=line_chart.render(is_unicode=True)))"
   ]
  },
  {
   "cell_type": "code",
   "execution_count": 39,
   "metadata": {
    "ExecuteTime": {
     "end_time": "2019-02-12T23:42:13.232665Z",
     "start_time": "2019-02-12T23:42:13.171093Z"
    }
   },
   "outputs": [],
   "source": [
    "line_chart.render_to_file(f\"data/visualization/{'-'.join(name_dataset.split('.'))}_pygal.svg\")"
   ]
  },
  {
   "cell_type": "markdown",
   "metadata": {},
   "source": [
    "## joypy"
   ]
  },
  {
   "cell_type": "code",
   "execution_count": 40,
   "metadata": {
    "ExecuteTime": {
     "end_time": "2019-02-12T23:42:13.238125Z",
     "start_time": "2019-02-12T23:42:13.235502Z"
    }
   },
   "outputs": [],
   "source": [
    "import joypy # !pip install joypy"
   ]
  },
  {
   "cell_type": "code",
   "execution_count": 41,
   "metadata": {
    "ExecuteTime": {
     "end_time": "2019-02-12T23:42:13.256364Z",
     "start_time": "2019-02-12T23:42:13.239216Z"
    },
    "scrolled": true
   },
   "outputs": [
    {
     "name": "stdout",
     "output_type": "stream",
     "text": [
      "(71835, 23)\n"
     ]
    },
    {
     "data": {
      "text/html": [
       "<div>\n",
       "<style scoped>\n",
       "    .dataframe tbody tr th:only-of-type {\n",
       "        vertical-align: middle;\n",
       "    }\n",
       "\n",
       "    .dataframe tbody tr th {\n",
       "        vertical-align: top;\n",
       "    }\n",
       "\n",
       "    .dataframe thead th {\n",
       "        text-align: right;\n",
       "    }\n",
       "</style>\n",
       "<table border=\"1\" class=\"dataframe\">\n",
       "  <thead>\n",
       "    <tr style=\"text-align: right;\">\n",
       "      <th></th>\n",
       "      <th>docID</th>\n",
       "      <th>year</th>\n",
       "      <th>month</th>\n",
       "      <th>topic_0</th>\n",
       "      <th>topic_1</th>\n",
       "      <th>topic_2</th>\n",
       "      <th>topic_3</th>\n",
       "      <th>topic_4</th>\n",
       "      <th>topic_5</th>\n",
       "      <th>topic_6</th>\n",
       "      <th>...</th>\n",
       "      <th>topic_10</th>\n",
       "      <th>topic_11</th>\n",
       "      <th>topic_12</th>\n",
       "      <th>topic_13</th>\n",
       "      <th>topic_14</th>\n",
       "      <th>topic_15</th>\n",
       "      <th>topic_16</th>\n",
       "      <th>topic_17</th>\n",
       "      <th>topic_18</th>\n",
       "      <th>topic_19</th>\n",
       "    </tr>\n",
       "  </thead>\n",
       "  <tbody>\n",
       "    <tr>\n",
       "      <th>0</th>\n",
       "      <td>0</td>\n",
       "      <td>2008</td>\n",
       "      <td>2</td>\n",
       "      <td>0.540338</td>\n",
       "      <td>0.000000</td>\n",
       "      <td>0.405610</td>\n",
       "      <td>0.0</td>\n",
       "      <td>0.000000</td>\n",
       "      <td>0.000000</td>\n",
       "      <td>0.000000</td>\n",
       "      <td>...</td>\n",
       "      <td>0.00000</td>\n",
       "      <td>0.000000</td>\n",
       "      <td>0.000000</td>\n",
       "      <td>0.000000</td>\n",
       "      <td>0.000000</td>\n",
       "      <td>0.000000</td>\n",
       "      <td>0.000000</td>\n",
       "      <td>0.0</td>\n",
       "      <td>0.0</td>\n",
       "      <td>0.054052</td>\n",
       "    </tr>\n",
       "    <tr>\n",
       "      <th>1</th>\n",
       "      <td>1</td>\n",
       "      <td>2008</td>\n",
       "      <td>2</td>\n",
       "      <td>0.000000</td>\n",
       "      <td>0.000000</td>\n",
       "      <td>0.000000</td>\n",
       "      <td>0.0</td>\n",
       "      <td>0.000000</td>\n",
       "      <td>0.000000</td>\n",
       "      <td>0.198026</td>\n",
       "      <td>...</td>\n",
       "      <td>0.00000</td>\n",
       "      <td>0.309838</td>\n",
       "      <td>0.054787</td>\n",
       "      <td>0.000000</td>\n",
       "      <td>0.000000</td>\n",
       "      <td>0.293571</td>\n",
       "      <td>0.000000</td>\n",
       "      <td>0.0</td>\n",
       "      <td>0.0</td>\n",
       "      <td>0.000000</td>\n",
       "    </tr>\n",
       "    <tr>\n",
       "      <th>2</th>\n",
       "      <td>2</td>\n",
       "      <td>2008</td>\n",
       "      <td>2</td>\n",
       "      <td>0.000000</td>\n",
       "      <td>0.000000</td>\n",
       "      <td>0.000000</td>\n",
       "      <td>0.0</td>\n",
       "      <td>0.000000</td>\n",
       "      <td>0.000000</td>\n",
       "      <td>0.000000</td>\n",
       "      <td>...</td>\n",
       "      <td>0.00000</td>\n",
       "      <td>0.000000</td>\n",
       "      <td>0.000000</td>\n",
       "      <td>0.000000</td>\n",
       "      <td>0.000000</td>\n",
       "      <td>0.000000</td>\n",
       "      <td>0.000000</td>\n",
       "      <td>0.0</td>\n",
       "      <td>0.0</td>\n",
       "      <td>0.000000</td>\n",
       "    </tr>\n",
       "    <tr>\n",
       "      <th>3</th>\n",
       "      <td>3</td>\n",
       "      <td>2008</td>\n",
       "      <td>2</td>\n",
       "      <td>0.000000</td>\n",
       "      <td>0.000000</td>\n",
       "      <td>0.000000</td>\n",
       "      <td>0.0</td>\n",
       "      <td>0.000000</td>\n",
       "      <td>0.740551</td>\n",
       "      <td>0.000000</td>\n",
       "      <td>...</td>\n",
       "      <td>0.00000</td>\n",
       "      <td>0.085549</td>\n",
       "      <td>0.000000</td>\n",
       "      <td>0.000000</td>\n",
       "      <td>0.104286</td>\n",
       "      <td>0.069613</td>\n",
       "      <td>0.000000</td>\n",
       "      <td>0.0</td>\n",
       "      <td>0.0</td>\n",
       "      <td>0.000000</td>\n",
       "    </tr>\n",
       "    <tr>\n",
       "      <th>4</th>\n",
       "      <td>4</td>\n",
       "      <td>2008</td>\n",
       "      <td>2</td>\n",
       "      <td>0.070750</td>\n",
       "      <td>0.005085</td>\n",
       "      <td>0.008405</td>\n",
       "      <td>0.0</td>\n",
       "      <td>0.087334</td>\n",
       "      <td>0.015678</td>\n",
       "      <td>0.200349</td>\n",
       "      <td>...</td>\n",
       "      <td>0.07143</td>\n",
       "      <td>0.145964</td>\n",
       "      <td>0.000000</td>\n",
       "      <td>0.023157</td>\n",
       "      <td>0.016422</td>\n",
       "      <td>0.000000</td>\n",
       "      <td>0.006991</td>\n",
       "      <td>0.0</td>\n",
       "      <td>0.0</td>\n",
       "      <td>0.000000</td>\n",
       "    </tr>\n",
       "  </tbody>\n",
       "</table>\n",
       "<p>5 rows × 23 columns</p>\n",
       "</div>"
      ],
      "text/plain": [
       "   docID  year  month   topic_0   topic_1   topic_2  topic_3   topic_4  \\\n",
       "0      0  2008      2  0.540338  0.000000  0.405610      0.0  0.000000   \n",
       "1      1  2008      2  0.000000  0.000000  0.000000      0.0  0.000000   \n",
       "2      2  2008      2  0.000000  0.000000  0.000000      0.0  0.000000   \n",
       "3      3  2008      2  0.000000  0.000000  0.000000      0.0  0.000000   \n",
       "4      4  2008      2  0.070750  0.005085  0.008405      0.0  0.087334   \n",
       "\n",
       "    topic_5   topic_6    ...     topic_10  topic_11  topic_12  topic_13  \\\n",
       "0  0.000000  0.000000    ...      0.00000  0.000000  0.000000  0.000000   \n",
       "1  0.000000  0.198026    ...      0.00000  0.309838  0.054787  0.000000   \n",
       "2  0.000000  0.000000    ...      0.00000  0.000000  0.000000  0.000000   \n",
       "3  0.740551  0.000000    ...      0.00000  0.085549  0.000000  0.000000   \n",
       "4  0.015678  0.200349    ...      0.07143  0.145964  0.000000  0.023157   \n",
       "\n",
       "   topic_14  topic_15  topic_16  topic_17  topic_18  topic_19  \n",
       "0  0.000000  0.000000  0.000000       0.0       0.0  0.054052  \n",
       "1  0.000000  0.293571  0.000000       0.0       0.0  0.000000  \n",
       "2  0.000000  0.000000  0.000000       0.0       0.0  0.000000  \n",
       "3  0.104286  0.069613  0.000000       0.0       0.0  0.000000  \n",
       "4  0.016422  0.000000  0.006991       0.0       0.0  0.000000  \n",
       "\n",
       "[5 rows x 23 columns]"
      ]
     },
     "execution_count": 41,
     "metadata": {},
     "output_type": "execute_result"
    }
   ],
   "source": [
    "print(joined.shape)\n",
    "joined.head()"
   ]
  },
  {
   "cell_type": "code",
   "execution_count": 42,
   "metadata": {
    "ExecuteTime": {
     "end_time": "2019-02-12T23:42:13.412519Z",
     "start_time": "2019-02-12T23:42:13.257527Z"
    }
   },
   "outputs": [
    {
     "data": {
      "text/html": [
       "<div>\n",
       "<style scoped>\n",
       "    .dataframe tbody tr th:only-of-type {\n",
       "        vertical-align: middle;\n",
       "    }\n",
       "\n",
       "    .dataframe tbody tr th {\n",
       "        vertical-align: top;\n",
       "    }\n",
       "\n",
       "    .dataframe thead th {\n",
       "        text-align: right;\n",
       "    }\n",
       "</style>\n",
       "<table border=\"1\" class=\"dataframe\">\n",
       "  <thead>\n",
       "    <tr style=\"text-align: right;\">\n",
       "      <th></th>\n",
       "      <th>docID</th>\n",
       "      <th>year</th>\n",
       "      <th>month</th>\n",
       "      <th>topic_0</th>\n",
       "      <th>topic_1</th>\n",
       "      <th>topic_2</th>\n",
       "      <th>topic_3</th>\n",
       "      <th>topic_4</th>\n",
       "      <th>topic_5</th>\n",
       "      <th>topic_6</th>\n",
       "      <th>...</th>\n",
       "      <th>topic_11</th>\n",
       "      <th>topic_12</th>\n",
       "      <th>topic_13</th>\n",
       "      <th>topic_14</th>\n",
       "      <th>topic_15</th>\n",
       "      <th>topic_16</th>\n",
       "      <th>topic_17</th>\n",
       "      <th>topic_18</th>\n",
       "      <th>topic_19</th>\n",
       "      <th>date</th>\n",
       "    </tr>\n",
       "  </thead>\n",
       "  <tbody>\n",
       "    <tr>\n",
       "      <th>0</th>\n",
       "      <td>0</td>\n",
       "      <td>2008</td>\n",
       "      <td>2</td>\n",
       "      <td>0.540338</td>\n",
       "      <td>0.000000</td>\n",
       "      <td>0.405610</td>\n",
       "      <td>0.0</td>\n",
       "      <td>0.000000</td>\n",
       "      <td>0.000000</td>\n",
       "      <td>0.000000</td>\n",
       "      <td>...</td>\n",
       "      <td>0.000000</td>\n",
       "      <td>0.000000</td>\n",
       "      <td>0.000000</td>\n",
       "      <td>0.000000</td>\n",
       "      <td>0.000000</td>\n",
       "      <td>0.000000</td>\n",
       "      <td>0.0</td>\n",
       "      <td>0.0</td>\n",
       "      <td>0.054052</td>\n",
       "      <td>2008-02-01</td>\n",
       "    </tr>\n",
       "    <tr>\n",
       "      <th>1</th>\n",
       "      <td>1</td>\n",
       "      <td>2008</td>\n",
       "      <td>2</td>\n",
       "      <td>0.000000</td>\n",
       "      <td>0.000000</td>\n",
       "      <td>0.000000</td>\n",
       "      <td>0.0</td>\n",
       "      <td>0.000000</td>\n",
       "      <td>0.000000</td>\n",
       "      <td>0.198026</td>\n",
       "      <td>...</td>\n",
       "      <td>0.309838</td>\n",
       "      <td>0.054787</td>\n",
       "      <td>0.000000</td>\n",
       "      <td>0.000000</td>\n",
       "      <td>0.293571</td>\n",
       "      <td>0.000000</td>\n",
       "      <td>0.0</td>\n",
       "      <td>0.0</td>\n",
       "      <td>0.000000</td>\n",
       "      <td>2008-02-01</td>\n",
       "    </tr>\n",
       "    <tr>\n",
       "      <th>2</th>\n",
       "      <td>2</td>\n",
       "      <td>2008</td>\n",
       "      <td>2</td>\n",
       "      <td>0.000000</td>\n",
       "      <td>0.000000</td>\n",
       "      <td>0.000000</td>\n",
       "      <td>0.0</td>\n",
       "      <td>0.000000</td>\n",
       "      <td>0.000000</td>\n",
       "      <td>0.000000</td>\n",
       "      <td>...</td>\n",
       "      <td>0.000000</td>\n",
       "      <td>0.000000</td>\n",
       "      <td>0.000000</td>\n",
       "      <td>0.000000</td>\n",
       "      <td>0.000000</td>\n",
       "      <td>0.000000</td>\n",
       "      <td>0.0</td>\n",
       "      <td>0.0</td>\n",
       "      <td>0.000000</td>\n",
       "      <td>2008-02-01</td>\n",
       "    </tr>\n",
       "    <tr>\n",
       "      <th>3</th>\n",
       "      <td>3</td>\n",
       "      <td>2008</td>\n",
       "      <td>2</td>\n",
       "      <td>0.000000</td>\n",
       "      <td>0.000000</td>\n",
       "      <td>0.000000</td>\n",
       "      <td>0.0</td>\n",
       "      <td>0.000000</td>\n",
       "      <td>0.740551</td>\n",
       "      <td>0.000000</td>\n",
       "      <td>...</td>\n",
       "      <td>0.085549</td>\n",
       "      <td>0.000000</td>\n",
       "      <td>0.000000</td>\n",
       "      <td>0.104286</td>\n",
       "      <td>0.069613</td>\n",
       "      <td>0.000000</td>\n",
       "      <td>0.0</td>\n",
       "      <td>0.0</td>\n",
       "      <td>0.000000</td>\n",
       "      <td>2008-02-01</td>\n",
       "    </tr>\n",
       "    <tr>\n",
       "      <th>4</th>\n",
       "      <td>4</td>\n",
       "      <td>2008</td>\n",
       "      <td>2</td>\n",
       "      <td>0.070750</td>\n",
       "      <td>0.005085</td>\n",
       "      <td>0.008405</td>\n",
       "      <td>0.0</td>\n",
       "      <td>0.087334</td>\n",
       "      <td>0.015678</td>\n",
       "      <td>0.200349</td>\n",
       "      <td>...</td>\n",
       "      <td>0.145964</td>\n",
       "      <td>0.000000</td>\n",
       "      <td>0.023157</td>\n",
       "      <td>0.016422</td>\n",
       "      <td>0.000000</td>\n",
       "      <td>0.006991</td>\n",
       "      <td>0.0</td>\n",
       "      <td>0.0</td>\n",
       "      <td>0.000000</td>\n",
       "      <td>2008-02-01</td>\n",
       "    </tr>\n",
       "  </tbody>\n",
       "</table>\n",
       "<p>5 rows × 24 columns</p>\n",
       "</div>"
      ],
      "text/plain": [
       "   docID  year  month   topic_0   topic_1   topic_2  topic_3   topic_4  \\\n",
       "0      0  2008      2  0.540338  0.000000  0.405610      0.0  0.000000   \n",
       "1      1  2008      2  0.000000  0.000000  0.000000      0.0  0.000000   \n",
       "2      2  2008      2  0.000000  0.000000  0.000000      0.0  0.000000   \n",
       "3      3  2008      2  0.000000  0.000000  0.000000      0.0  0.000000   \n",
       "4      4  2008      2  0.070750  0.005085  0.008405      0.0  0.087334   \n",
       "\n",
       "    topic_5   topic_6     ...      topic_11  topic_12  topic_13  topic_14  \\\n",
       "0  0.000000  0.000000     ...      0.000000  0.000000  0.000000  0.000000   \n",
       "1  0.000000  0.198026     ...      0.309838  0.054787  0.000000  0.000000   \n",
       "2  0.000000  0.000000     ...      0.000000  0.000000  0.000000  0.000000   \n",
       "3  0.740551  0.000000     ...      0.085549  0.000000  0.000000  0.104286   \n",
       "4  0.015678  0.200349     ...      0.145964  0.000000  0.023157  0.016422   \n",
       "\n",
       "   topic_15  topic_16  topic_17  topic_18  topic_19        date  \n",
       "0  0.000000  0.000000       0.0       0.0  0.054052  2008-02-01  \n",
       "1  0.293571  0.000000       0.0       0.0  0.000000  2008-02-01  \n",
       "2  0.000000  0.000000       0.0       0.0  0.000000  2008-02-01  \n",
       "3  0.069613  0.000000       0.0       0.0  0.000000  2008-02-01  \n",
       "4  0.000000  0.006991       0.0       0.0  0.000000  2008-02-01  \n",
       "\n",
       "[5 rows x 24 columns]"
      ]
     },
     "execution_count": 42,
     "metadata": {},
     "output_type": "execute_result"
    }
   ],
   "source": [
    "joined['date'] = ['{}-{:02d}-01'.format(a, b) for a, b in joined[['year', 'month']].values]\n",
    "cols = [c for c in joined.columns if c.startswith('topic')]\n",
    "\n",
    "joined.head()"
   ]
  },
  {
   "cell_type": "code",
   "execution_count": 43,
   "metadata": {
    "ExecuteTime": {
     "end_time": "2019-02-12T23:42:13.492737Z",
     "start_time": "2019-02-12T23:42:13.413728Z"
    }
   },
   "outputs": [
    {
     "data": {
      "text/html": [
       "<div>\n",
       "<style scoped>\n",
       "    .dataframe tbody tr th:only-of-type {\n",
       "        vertical-align: middle;\n",
       "    }\n",
       "\n",
       "    .dataframe tbody tr th {\n",
       "        vertical-align: top;\n",
       "    }\n",
       "\n",
       "    .dataframe thead th {\n",
       "        text-align: right;\n",
       "    }\n",
       "</style>\n",
       "<table border=\"1\" class=\"dataframe\">\n",
       "  <thead>\n",
       "    <tr style=\"text-align: right;\">\n",
       "      <th></th>\n",
       "      <th>date</th>\n",
       "      <th>topic</th>\n",
       "      <th>mentions</th>\n",
       "    </tr>\n",
       "  </thead>\n",
       "  <tbody>\n",
       "    <tr>\n",
       "      <th>0</th>\n",
       "      <td>2008-02-01</td>\n",
       "      <td>topic_0</td>\n",
       "      <td>0.540338</td>\n",
       "    </tr>\n",
       "    <tr>\n",
       "      <th>4</th>\n",
       "      <td>2008-02-01</td>\n",
       "      <td>topic_0</td>\n",
       "      <td>0.070750</td>\n",
       "    </tr>\n",
       "    <tr>\n",
       "      <th>5</th>\n",
       "      <td>2008-02-01</td>\n",
       "      <td>topic_0</td>\n",
       "      <td>0.005738</td>\n",
       "    </tr>\n",
       "    <tr>\n",
       "      <th>7</th>\n",
       "      <td>2008-02-01</td>\n",
       "      <td>topic_0</td>\n",
       "      <td>0.184830</td>\n",
       "    </tr>\n",
       "    <tr>\n",
       "      <th>11</th>\n",
       "      <td>2008-02-01</td>\n",
       "      <td>topic_0</td>\n",
       "      <td>0.234825</td>\n",
       "    </tr>\n",
       "  </tbody>\n",
       "</table>\n",
       "</div>"
      ],
      "text/plain": [
       "          date    topic  mentions\n",
       "0   2008-02-01  topic_0  0.540338\n",
       "4   2008-02-01  topic_0  0.070750\n",
       "5   2008-02-01  topic_0  0.005738\n",
       "7   2008-02-01  topic_0  0.184830\n",
       "11  2008-02-01  topic_0  0.234825"
      ]
     },
     "execution_count": 43,
     "metadata": {},
     "output_type": "execute_result"
    }
   ],
   "source": [
    "dd = joined[cols + ['date']].melt('date', var_name='topic', value_name='mentions')\n",
    "dd = dd[dd['mentions'] > 0]\n",
    "\n",
    "dd.head()"
   ]
  },
  {
   "cell_type": "code",
   "execution_count": 44,
   "metadata": {
    "ExecuteTime": {
     "end_time": "2019-02-12T23:42:13.542417Z",
     "start_time": "2019-02-12T23:42:13.494053Z"
    }
   },
   "outputs": [
    {
     "data": {
      "text/html": [
       "<div>\n",
       "<style scoped>\n",
       "    .dataframe tbody tr th:only-of-type {\n",
       "        vertical-align: middle;\n",
       "    }\n",
       "\n",
       "    .dataframe tbody tr th {\n",
       "        vertical-align: top;\n",
       "    }\n",
       "\n",
       "    .dataframe thead th {\n",
       "        text-align: right;\n",
       "    }\n",
       "</style>\n",
       "<table border=\"1\" class=\"dataframe\">\n",
       "  <thead>\n",
       "    <tr style=\"text-align: right;\">\n",
       "      <th></th>\n",
       "      <th></th>\n",
       "      <th>mentions</th>\n",
       "    </tr>\n",
       "    <tr>\n",
       "      <th>date</th>\n",
       "      <th>topic</th>\n",
       "      <th></th>\n",
       "    </tr>\n",
       "  </thead>\n",
       "  <tbody>\n",
       "    <tr>\n",
       "      <th rowspan=\"5\" valign=\"top\">2008-02-01</th>\n",
       "      <th>topic_0</th>\n",
       "      <td>4.813261</td>\n",
       "    </tr>\n",
       "    <tr>\n",
       "      <th>topic_1</th>\n",
       "      <td>5.488080</td>\n",
       "    </tr>\n",
       "    <tr>\n",
       "      <th>topic_10</th>\n",
       "      <td>9.171441</td>\n",
       "    </tr>\n",
       "    <tr>\n",
       "      <th>topic_11</th>\n",
       "      <td>8.536683</td>\n",
       "    </tr>\n",
       "    <tr>\n",
       "      <th>topic_12</th>\n",
       "      <td>5.467681</td>\n",
       "    </tr>\n",
       "  </tbody>\n",
       "</table>\n",
       "</div>"
      ],
      "text/plain": [
       "                     mentions\n",
       "date       topic             \n",
       "2008-02-01 topic_0   4.813261\n",
       "           topic_1   5.488080\n",
       "           topic_10  9.171441\n",
       "           topic_11  8.536683\n",
       "           topic_12  5.467681"
      ]
     },
     "execution_count": 44,
     "metadata": {},
     "output_type": "execute_result"
    }
   ],
   "source": [
    "dd2 = dd.groupby(['date','topic']).sum()\n",
    "dd2.head()"
   ]
  },
  {
   "cell_type": "code",
   "execution_count": 45,
   "metadata": {
    "ExecuteTime": {
     "end_time": "2019-02-12T23:42:13.551899Z",
     "start_time": "2019-02-12T23:42:13.543631Z"
    }
   },
   "outputs": [
    {
     "data": {
      "text/html": [
       "<div>\n",
       "<style scoped>\n",
       "    .dataframe tbody tr th:only-of-type {\n",
       "        vertical-align: middle;\n",
       "    }\n",
       "\n",
       "    .dataframe tbody tr th {\n",
       "        vertical-align: top;\n",
       "    }\n",
       "\n",
       "    .dataframe thead th {\n",
       "        text-align: right;\n",
       "    }\n",
       "</style>\n",
       "<table border=\"1\" class=\"dataframe\">\n",
       "  <thead>\n",
       "    <tr style=\"text-align: right;\">\n",
       "      <th></th>\n",
       "      <th>date</th>\n",
       "      <th>topic</th>\n",
       "      <th>mentions</th>\n",
       "    </tr>\n",
       "  </thead>\n",
       "  <tbody>\n",
       "    <tr>\n",
       "      <th>0</th>\n",
       "      <td>2008-02-01</td>\n",
       "      <td>topic_0</td>\n",
       "      <td>4.813261</td>\n",
       "    </tr>\n",
       "    <tr>\n",
       "      <th>1</th>\n",
       "      <td>2008-02-01</td>\n",
       "      <td>topic_1</td>\n",
       "      <td>5.488080</td>\n",
       "    </tr>\n",
       "    <tr>\n",
       "      <th>2</th>\n",
       "      <td>2008-02-01</td>\n",
       "      <td>topic_10</td>\n",
       "      <td>9.171441</td>\n",
       "    </tr>\n",
       "    <tr>\n",
       "      <th>3</th>\n",
       "      <td>2008-02-01</td>\n",
       "      <td>topic_11</td>\n",
       "      <td>8.536683</td>\n",
       "    </tr>\n",
       "    <tr>\n",
       "      <th>4</th>\n",
       "      <td>2008-02-01</td>\n",
       "      <td>topic_12</td>\n",
       "      <td>5.467681</td>\n",
       "    </tr>\n",
       "  </tbody>\n",
       "</table>\n",
       "</div>"
      ],
      "text/plain": [
       "         date     topic  mentions\n",
       "0  2008-02-01   topic_0  4.813261\n",
       "1  2008-02-01   topic_1  5.488080\n",
       "2  2008-02-01  topic_10  9.171441\n",
       "3  2008-02-01  topic_11  8.536683\n",
       "4  2008-02-01  topic_12  5.467681"
      ]
     },
     "execution_count": 45,
     "metadata": {},
     "output_type": "execute_result"
    }
   ],
   "source": [
    "dd2=dd2.reset_index()\n",
    "dd2.head()"
   ]
  },
  {
   "cell_type": "code",
   "execution_count": 46,
   "metadata": {
    "ExecuteTime": {
     "end_time": "2019-02-12T23:42:15.352349Z",
     "start_time": "2019-02-12T23:42:13.553111Z"
    }
   },
   "outputs": [
    {
     "data": {
      "image/png": "[encoded data removed]",
      "text/plain": [
       "<Figure size 1440x1440 with 21 Axes>"
      ]
     },
     "metadata": {
      "needs_background": "light"
     },
     "output_type": "display_data"
    }
   ],
   "source": [
    "labels = sorted(joined['date'].unique())\n",
    "fig, axes = joypy.joyplot(dd2, by='topic', column='mentions', figsize=(20, 20),\n",
    "                          xlabelsize=20,ylabelsize=20,\n",
    "                          overlap=0.4, fill=True,\n",
    "                          linecolor=\"k\",linewidth=3,\n",
    "                          kind='values', fade=True, xrot=90,\n",
    "                          x_range=[i for i in range(len(labels))],\n",
    "                          background='white');\n",
    "\n",
    "ticks_labels = {i:t for i, t in enumerate(labels)}\n",
    "axes[-1].set_xticks([k for k, v in ticks_labels.items() if k % 6 == 0])\n",
    "ticks = axes[-1].get_xticks()\n",
    "axes[-1].set_xticklabels([ticks_labels.get(i, 'stop') for i in ticks]);"
   ]
  },
  {
   "cell_type": "code",
   "execution_count": 47,
   "metadata": {
    "ExecuteTime": {
     "end_time": "2019-02-12T23:42:15.676192Z",
     "start_time": "2019-02-12T23:42:15.354226Z"
    }
   },
   "outputs": [],
   "source": [
    "fig.savefig(f\"data/visualization/{'-'.join(name_dataset.split('.'))}_joypy\")"
   ]
  },
  {
   "cell_type": "code",
   "execution_count": null,
   "metadata": {},
   "outputs": [],
   "source": []
  },
  {
   "cell_type": "code",
   "execution_count": null,
   "metadata": {},
   "outputs": [],
   "source": []
  }
 ],
 "metadata": {
  "kernelspec": {
   "display_name": "Python 3",
   "language": "python",
   "name": "python3"
  },
  "language_info": {
   "codemirror_mode": {
    "name": "ipython",
    "version": 3
   },
   "file_extension": ".py",
   "mimetype": "text/x-python",
   "name": "python",
   "nbconvert_exporter": "python",
   "pygments_lexer": "ipython3",
   "version": "3.6.7"
  },
  "varInspector": {
   "cols": {
    "lenName": 16,
    "lenType": 16,
    "lenVar": 40
   },
   "kernels_config": {
    "python": {
     "delete_cmd_postfix": "",
     "delete_cmd_prefix": "del ",
     "library": "var_list.py",
     "varRefreshCmd": "print(var_dic_list())"
    },
    "r": {
     "delete_cmd_postfix": ") ",
     "delete_cmd_prefix": "rm(",
     "library": "var_list.r",
     "varRefreshCmd": "cat(var_dic_list()) "
    }
   },
   "types_to_exclude": [
    "module",
    "function",
    "builtin_function_or_method",
    "instance",
    "_Feature"
   ],
   "window_display": false
  }
 },
 "nbformat": 4,
 "nbformat_minor": 2
}
