{
 "cells": [
  {
   "cell_type": "code",
   "execution_count": 9,
   "metadata": {
    "ExecuteTime": {
     "end_time": "2019-02-12T22:34:07.393856Z",
     "start_time": "2019-02-12T22:34:07.388495Z"
    },
    "scrolled": true
   },
   "outputs": [],
   "source": [
    "import numpy as np\n",
    "import pandas as pd\n",
    "import os\n",
    "\n",
    "import re\n",
    "from ast import literal_eval\n",
    "from datetime import datetime as time\n",
    "from ast import literal_eval\n",
    "from sklearn.model_selection import train_test_split\n",
    "\n",
    "import artm\n",
    "from gensim.models import Phrases\n",
    "from gensim.models.phrases import Phraser\n",
    "\n",
    "import gc\n",
    "import matplotlib.pyplot as plt\n",
    "%matplotlib inline"
   ]
  },
  {
   "cell_type": "code",
   "execution_count": 1,
   "metadata": {
    "ExecuteTime": {
     "end_time": "2019-02-12T22:29:55.202272Z",
     "start_time": "2019-02-12T22:29:55.090434Z"
    },
    "scrolled": true
   },
   "outputs": [
    {
     "name": "stdout",
     "output_type": "stream",
     "text": [
      "-rw-rw-r-- 1 vtrokhymenko vtrokhymenko 8.7M Feb 12 11:01 data/Byvsij_SSSR.csv.bz2\r\n",
      "-rw-rw-r-- 1 vtrokhymenko vtrokhymenko  21M Feb 12 10:59 data/Ekonomika.csv.bz2\r\n",
      "-rw-rw-r-- 1 vtrokhymenko vtrokhymenko  14M Feb 12 10:59 data/Mir.csv.bz2\r\n"
     ]
    }
   ],
   "source": [
    "!ls -lah data/*.csv.bz2"
   ]
  },
  {
   "cell_type": "code",
   "execution_count": 3,
   "metadata": {
    "ExecuteTime": {
     "end_time": "2019-02-12T22:31:47.070210Z",
     "start_time": "2019-02-12T22:31:47.068236Z"
    }
   },
   "outputs": [],
   "source": [
    "name_dataset = 'Byvsij_SSSR'"
   ]
  },
  {
   "cell_type": "markdown",
   "metadata": {},
   "source": [
    "### load data"
   ]
  },
  {
   "cell_type": "code",
   "execution_count": 88,
   "metadata": {
    "ExecuteTime": {
     "end_time": "2019-02-12T23:27:23.932560Z",
     "start_time": "2019-02-12T23:27:20.013139Z"
    }
   },
   "outputs": [
    {
     "name": "stdout",
     "output_type": "stream",
     "text": [
      "(44924, 4)\n",
      "CPU times: user 4.23 s, sys: 461 ms, total: 4.69 s\n",
      "Wall time: 3.92 s\n"
     ]
    }
   ],
   "source": [
    "%%time\n",
    "df = pd.read_csv(f'data/{name_dataset}.csv.bz2')\n",
    "print(df.shape)"
   ]
  },
  {
   "cell_type": "code",
   "execution_count": 89,
   "metadata": {
    "ExecuteTime": {
     "end_time": "2019-02-12T23:27:23.942376Z",
     "start_time": "2019-02-12T23:27:23.934370Z"
    }
   },
   "outputs": [
    {
     "data": {
      "text/html": [
       "<div>\n",
       "<style scoped>\n",
       "    .dataframe tbody tr th:only-of-type {\n",
       "        vertical-align: middle;\n",
       "    }\n",
       "\n",
       "    .dataframe tbody tr th {\n",
       "        vertical-align: top;\n",
       "    }\n",
       "\n",
       "    .dataframe thead th {\n",
       "        text-align: right;\n",
       "    }\n",
       "</style>\n",
       "<table border=\"1\" class=\"dataframe\">\n",
       "  <thead>\n",
       "    <tr style=\"text-align: right;\">\n",
       "      <th></th>\n",
       "      <th>date</th>\n",
       "      <th>topic</th>\n",
       "      <th>text</th>\n",
       "      <th>predict</th>\n",
       "    </tr>\n",
       "  </thead>\n",
       "  <tbody>\n",
       "    <tr>\n",
       "      <th>0</th>\n",
       "      <td>2008-02-11 12:55:00</td>\n",
       "      <td>\"Экономика\"</td>\n",
       "      <td>['премьерминистр', 'украина', 'юлий', 'тимошен...</td>\n",
       "      <td>Бывший СССР</td>\n",
       "    </tr>\n",
       "    <tr>\n",
       "      <th>1</th>\n",
       "      <td>2008-02-11 18:27:00</td>\n",
       "      <td>\"В России\"</td>\n",
       "      <td>['ключевой', 'вопрос', 'визит', 'украина', 'ви...</td>\n",
       "      <td>Бывший СССР</td>\n",
       "    </tr>\n",
       "    <tr>\n",
       "      <th>2</th>\n",
       "      <td>2008-02-11 23:05:00</td>\n",
       "      <td>\"В России\"</td>\n",
       "      <td>['парламентский', 'большинство', 'намерить', '...</td>\n",
       "      <td>Бывший СССР</td>\n",
       "    </tr>\n",
       "    <tr>\n",
       "      <th>3</th>\n",
       "      <td>2008-02-13 10:20:00</td>\n",
       "      <td>\"В России\"</td>\n",
       "      <td>['известный', 'грузинский', 'бизнесмен', 'бадр...</td>\n",
       "      <td>Бывший СССР</td>\n",
       "    </tr>\n",
       "    <tr>\n",
       "      <th>4</th>\n",
       "      <td>2008-02-13 14:01:00</td>\n",
       "      <td>\"В мире\"</td>\n",
       "      <td>['аркадий', 'бадри', 'патаркацишвили', 'родить...</td>\n",
       "      <td>Бывший СССР</td>\n",
       "    </tr>\n",
       "  </tbody>\n",
       "</table>\n",
       "</div>"
      ],
      "text/plain": [
       "                  date        topic  \\\n",
       "0  2008-02-11 12:55:00  \"Экономика\"   \n",
       "1  2008-02-11 18:27:00   \"В России\"   \n",
       "2  2008-02-11 23:05:00   \"В России\"   \n",
       "3  2008-02-13 10:20:00   \"В России\"   \n",
       "4  2008-02-13 14:01:00     \"В мире\"   \n",
       "\n",
       "                                                text      predict  \n",
       "0  ['премьерминистр', 'украина', 'юлий', 'тимошен...  Бывший СССР  \n",
       "1  ['ключевой', 'вопрос', 'визит', 'украина', 'ви...  Бывший СССР  \n",
       "2  ['парламентский', 'большинство', 'намерить', '...  Бывший СССР  \n",
       "3  ['известный', 'грузинский', 'бизнесмен', 'бадр...  Бывший СССР  \n",
       "4  ['аркадий', 'бадри', 'патаркацишвили', 'родить...  Бывший СССР  "
      ]
     },
     "execution_count": 89,
     "metadata": {},
     "output_type": "execute_result"
    }
   ],
   "source": [
    "df.head()"
   ]
  },
  {
   "cell_type": "markdown",
   "metadata": {},
   "source": [
    "* parse data"
   ]
  },
  {
   "cell_type": "code",
   "execution_count": 90,
   "metadata": {
    "ExecuteTime": {
     "end_time": "2019-02-12T23:27:24.037329Z",
     "start_time": "2019-02-12T23:27:23.944355Z"
    }
   },
   "outputs": [
    {
     "data": {
      "text/html": [
       "<div>\n",
       "<style scoped>\n",
       "    .dataframe tbody tr th:only-of-type {\n",
       "        vertical-align: middle;\n",
       "    }\n",
       "\n",
       "    .dataframe tbody tr th {\n",
       "        vertical-align: top;\n",
       "    }\n",
       "\n",
       "    .dataframe thead th {\n",
       "        text-align: right;\n",
       "    }\n",
       "</style>\n",
       "<table border=\"1\" class=\"dataframe\">\n",
       "  <thead>\n",
       "    <tr style=\"text-align: right;\">\n",
       "      <th></th>\n",
       "      <th>date</th>\n",
       "      <th>topic</th>\n",
       "      <th>text</th>\n",
       "      <th>predict</th>\n",
       "      <th>year</th>\n",
       "      <th>month</th>\n",
       "    </tr>\n",
       "  </thead>\n",
       "  <tbody>\n",
       "    <tr>\n",
       "      <th>0</th>\n",
       "      <td>2008-02-11 12:55:00</td>\n",
       "      <td>\"Экономика\"</td>\n",
       "      <td>['премьерминистр', 'украина', 'юлий', 'тимошен...</td>\n",
       "      <td>Бывший СССР</td>\n",
       "      <td>2008</td>\n",
       "      <td>2</td>\n",
       "    </tr>\n",
       "    <tr>\n",
       "      <th>1</th>\n",
       "      <td>2008-02-11 18:27:00</td>\n",
       "      <td>\"В России\"</td>\n",
       "      <td>['ключевой', 'вопрос', 'визит', 'украина', 'ви...</td>\n",
       "      <td>Бывший СССР</td>\n",
       "      <td>2008</td>\n",
       "      <td>2</td>\n",
       "    </tr>\n",
       "    <tr>\n",
       "      <th>2</th>\n",
       "      <td>2008-02-11 23:05:00</td>\n",
       "      <td>\"В России\"</td>\n",
       "      <td>['парламентский', 'большинство', 'намерить', '...</td>\n",
       "      <td>Бывший СССР</td>\n",
       "      <td>2008</td>\n",
       "      <td>2</td>\n",
       "    </tr>\n",
       "    <tr>\n",
       "      <th>3</th>\n",
       "      <td>2008-02-13 10:20:00</td>\n",
       "      <td>\"В России\"</td>\n",
       "      <td>['известный', 'грузинский', 'бизнесмен', 'бадр...</td>\n",
       "      <td>Бывший СССР</td>\n",
       "      <td>2008</td>\n",
       "      <td>2</td>\n",
       "    </tr>\n",
       "    <tr>\n",
       "      <th>4</th>\n",
       "      <td>2008-02-13 14:01:00</td>\n",
       "      <td>\"В мире\"</td>\n",
       "      <td>['аркадий', 'бадри', 'патаркацишвили', 'родить...</td>\n",
       "      <td>Бывший СССР</td>\n",
       "      <td>2008</td>\n",
       "      <td>2</td>\n",
       "    </tr>\n",
       "  </tbody>\n",
       "</table>\n",
       "</div>"
      ],
      "text/plain": [
       "                  date        topic  \\\n",
       "0  2008-02-11 12:55:00  \"Экономика\"   \n",
       "1  2008-02-11 18:27:00   \"В России\"   \n",
       "2  2008-02-11 23:05:00   \"В России\"   \n",
       "3  2008-02-13 10:20:00   \"В России\"   \n",
       "4  2008-02-13 14:01:00     \"В мире\"   \n",
       "\n",
       "                                                text      predict  year  month  \n",
       "0  ['премьерминистр', 'украина', 'юлий', 'тимошен...  Бывший СССР  2008      2  \n",
       "1  ['ключевой', 'вопрос', 'визит', 'украина', 'ви...  Бывший СССР  2008      2  \n",
       "2  ['парламентский', 'большинство', 'намерить', '...  Бывший СССР  2008      2  \n",
       "3  ['известный', 'грузинский', 'бизнесмен', 'бадр...  Бывший СССР  2008      2  \n",
       "4  ['аркадий', 'бадри', 'патаркацишвили', 'родить...  Бывший СССР  2008      2  "
      ]
     },
     "execution_count": 90,
     "metadata": {},
     "output_type": "execute_result"
    }
   ],
   "source": [
    "df['year'] = df['date'].apply(lambda x: int(x.split(' ')[0].split('-')[0]))\n",
    "df['month'] = df['date'].apply(lambda x: int(x.split(' ')[0].split('-')[1]))\n",
    "df.head()"
   ]
  },
  {
   "cell_type": "code",
   "execution_count": 91,
   "metadata": {
    "ExecuteTime": {
     "end_time": "2019-02-12T23:27:24.043979Z",
     "start_time": "2019-02-12T23:27:24.039181Z"
    }
   },
   "outputs": [
    {
     "data": {
      "text/plain": [
       "2015    7525\n",
       "2014    7517\n",
       "2008    4994\n",
       "2009    4559\n",
       "2016    4246\n",
       "2010    3771\n",
       "2017    3311\n",
       "2018    3143\n",
       "2011    2093\n",
       "2013    1882\n",
       "2012    1750\n",
       "2019     133\n",
       "Name: year, dtype: int64"
      ]
     },
     "execution_count": 91,
     "metadata": {},
     "output_type": "execute_result"
    }
   ],
   "source": [
    "df.year.value_counts()"
   ]
  },
  {
   "cell_type": "code",
   "execution_count": 92,
   "metadata": {
    "ExecuteTime": {
     "end_time": "2019-02-12T23:27:24.051351Z",
     "start_time": "2019-02-12T23:27:24.045206Z"
    }
   },
   "outputs": [
    {
     "data": {
      "text/plain": [
       "4     4579\n",
       "2     4160\n",
       "5     4100\n",
       "8     3983\n",
       "7     3820\n",
       "3     3784\n",
       "6     3689\n",
       "10    3552\n",
       "9     3386\n",
       "12    3364\n",
       "1     3313\n",
       "11    3194\n",
       "Name: month, dtype: int64"
      ]
     },
     "execution_count": 92,
     "metadata": {},
     "output_type": "execute_result"
    }
   ],
   "source": [
    "df.month.value_counts()"
   ]
  },
  {
   "cell_type": "code",
   "execution_count": null,
   "metadata": {},
   "outputs": [],
   "source": []
  },
  {
   "cell_type": "code",
   "execution_count": 93,
   "metadata": {
    "ExecuteTime": {
     "end_time": "2019-02-12T23:27:30.779018Z",
     "start_time": "2019-02-12T23:27:24.052999Z"
    }
   },
   "outputs": [],
   "source": [
    "df.text = df.text.apply(lambda x: literal_eval(x))"
   ]
  },
  {
   "cell_type": "markdown",
   "metadata": {},
   "source": [
    "### preprocess if text with lemma"
   ]
  },
  {
   "cell_type": "code",
   "execution_count": 94,
   "metadata": {
    "ExecuteTime": {
     "end_time": "2019-02-12T23:27:30.949680Z",
     "start_time": "2019-02-12T23:27:30.780651Z"
    }
   },
   "outputs": [
    {
     "data": {
      "text/html": [
       "<div>\n",
       "<style scoped>\n",
       "    .dataframe tbody tr th:only-of-type {\n",
       "        vertical-align: middle;\n",
       "    }\n",
       "\n",
       "    .dataframe tbody tr th {\n",
       "        vertical-align: top;\n",
       "    }\n",
       "\n",
       "    .dataframe thead th {\n",
       "        text-align: right;\n",
       "    }\n",
       "</style>\n",
       "<table border=\"1\" class=\"dataframe\">\n",
       "  <thead>\n",
       "    <tr style=\"text-align: right;\">\n",
       "      <th></th>\n",
       "      <th>date</th>\n",
       "      <th>topic</th>\n",
       "      <th>text</th>\n",
       "      <th>predict</th>\n",
       "      <th>year</th>\n",
       "      <th>month</th>\n",
       "      <th>text_join</th>\n",
       "    </tr>\n",
       "  </thead>\n",
       "  <tbody>\n",
       "    <tr>\n",
       "      <th>0</th>\n",
       "      <td>2008-02-11 12:55:00</td>\n",
       "      <td>\"Экономика\"</td>\n",
       "      <td>[премьерминистр, украина, юлий, тимошенко, зая...</td>\n",
       "      <td>Бывший СССР</td>\n",
       "      <td>2008</td>\n",
       "      <td>2</td>\n",
       "      <td>премьерминистр украина юлий тимошенко заявлять...</td>\n",
       "    </tr>\n",
       "    <tr>\n",
       "      <th>1</th>\n",
       "      <td>2008-02-11 18:27:00</td>\n",
       "      <td>\"В России\"</td>\n",
       "      <td>[ключевой, вопрос, визит, украина, виктор, юще...</td>\n",
       "      <td>Бывший СССР</td>\n",
       "      <td>2008</td>\n",
       "      <td>2</td>\n",
       "      <td>ключевой вопрос визит украина виктор ющенко рф...</td>\n",
       "    </tr>\n",
       "    <tr>\n",
       "      <th>2</th>\n",
       "      <td>2008-02-11 23:05:00</td>\n",
       "      <td>\"В России\"</td>\n",
       "      <td>[парламентский, большинство, намерить, разблок...</td>\n",
       "      <td>Бывший СССР</td>\n",
       "      <td>2008</td>\n",
       "      <td>2</td>\n",
       "      <td>парламентский большинство намерить разблокиров...</td>\n",
       "    </tr>\n",
       "    <tr>\n",
       "      <th>3</th>\n",
       "      <td>2008-02-13 10:20:00</td>\n",
       "      <td>\"В России\"</td>\n",
       "      <td>[известный, грузинский, бизнесмен, бадри, пата...</td>\n",
       "      <td>Бывший СССР</td>\n",
       "      <td>2008</td>\n",
       "      <td>2</td>\n",
       "      <td>известный грузинский бизнесмен бадри патаркаци...</td>\n",
       "    </tr>\n",
       "    <tr>\n",
       "      <th>4</th>\n",
       "      <td>2008-02-13 14:01:00</td>\n",
       "      <td>\"В мире\"</td>\n",
       "      <td>[аркадий, бадри, патаркацишвили, родиться, тби...</td>\n",
       "      <td>Бывший СССР</td>\n",
       "      <td>2008</td>\n",
       "      <td>2</td>\n",
       "      <td>аркадий бадри патаркацишвили родиться тбилиси ...</td>\n",
       "    </tr>\n",
       "  </tbody>\n",
       "</table>\n",
       "</div>"
      ],
      "text/plain": [
       "                  date        topic  \\\n",
       "0  2008-02-11 12:55:00  \"Экономика\"   \n",
       "1  2008-02-11 18:27:00   \"В России\"   \n",
       "2  2008-02-11 23:05:00   \"В России\"   \n",
       "3  2008-02-13 10:20:00   \"В России\"   \n",
       "4  2008-02-13 14:01:00     \"В мире\"   \n",
       "\n",
       "                                                text      predict  year  \\\n",
       "0  [премьерминистр, украина, юлий, тимошенко, зая...  Бывший СССР  2008   \n",
       "1  [ключевой, вопрос, визит, украина, виктор, юще...  Бывший СССР  2008   \n",
       "2  [парламентский, большинство, намерить, разблок...  Бывший СССР  2008   \n",
       "3  [известный, грузинский, бизнесмен, бадри, пата...  Бывший СССР  2008   \n",
       "4  [аркадий, бадри, патаркацишвили, родиться, тби...  Бывший СССР  2008   \n",
       "\n",
       "   month                                          text_join  \n",
       "0      2  премьерминистр украина юлий тимошенко заявлять...  \n",
       "1      2  ключевой вопрос визит украина виктор ющенко рф...  \n",
       "2      2  парламентский большинство намерить разблокиров...  \n",
       "3      2  известный грузинский бизнесмен бадри патаркаци...  \n",
       "4      2  аркадий бадри патаркацишвили родиться тбилиси ...  "
      ]
     },
     "execution_count": 94,
     "metadata": {},
     "output_type": "execute_result"
    }
   ],
   "source": [
    "df['text_join'] = df.text.apply(lambda x: ' '.join(x))\n",
    "df.head()"
   ]
  },
  {
   "cell_type": "markdown",
   "metadata": {},
   "source": [
    "* cleanedNames"
   ]
  },
  {
   "cell_type": "code",
   "execution_count": 95,
   "metadata": {
    "ExecuteTime": {
     "end_time": "2019-02-12T23:27:31.006108Z",
     "start_time": "2019-02-12T23:27:30.951068Z"
    }
   },
   "outputs": [],
   "source": [
    "from cleanedNames import KeyProc\n",
    "cn = KeyProc()"
   ]
  },
  {
   "cell_type": "code",
   "execution_count": 96,
   "metadata": {
    "ExecuteTime": {
     "end_time": "2019-02-12T23:28:22.790689Z",
     "start_time": "2019-02-12T23:27:31.007567Z"
    }
   },
   "outputs": [
    {
     "name": "stdout",
     "output_type": "stream",
     "text": [
      "CPU times: user 56 s, sys: 5.59 s, total: 1min 1s\n",
      "Wall time: 51.8 s\n"
     ]
    }
   ],
   "source": [
    "%%time\n",
    "df.text_join = df.text_join.apply(cn.replaceKeywords)"
   ]
  },
  {
   "cell_type": "code",
   "execution_count": 97,
   "metadata": {
    "ExecuteTime": {
     "end_time": "2019-02-12T23:28:24.124129Z",
     "start_time": "2019-02-12T23:28:22.792933Z"
    }
   },
   "outputs": [
    {
     "data": {
      "text/html": [
       "<div>\n",
       "<style scoped>\n",
       "    .dataframe tbody tr th:only-of-type {\n",
       "        vertical-align: middle;\n",
       "    }\n",
       "\n",
       "    .dataframe tbody tr th {\n",
       "        vertical-align: top;\n",
       "    }\n",
       "\n",
       "    .dataframe thead th {\n",
       "        text-align: right;\n",
       "    }\n",
       "</style>\n",
       "<table border=\"1\" class=\"dataframe\">\n",
       "  <thead>\n",
       "    <tr style=\"text-align: right;\">\n",
       "      <th></th>\n",
       "      <th>date</th>\n",
       "      <th>topic</th>\n",
       "      <th>text</th>\n",
       "      <th>predict</th>\n",
       "      <th>year</th>\n",
       "      <th>month</th>\n",
       "      <th>text_join</th>\n",
       "    </tr>\n",
       "  </thead>\n",
       "  <tbody>\n",
       "    <tr>\n",
       "      <th>0</th>\n",
       "      <td>2008-02-11 12:55:00</td>\n",
       "      <td>\"Экономика\"</td>\n",
       "      <td>[премьерминистр, украина, юлий, тимошенко, зая...</td>\n",
       "      <td>Бывший СССР</td>\n",
       "      <td>2008</td>\n",
       "      <td>2</td>\n",
       "      <td>премьерминистр украина юлий тимошенко заявлять...</td>\n",
       "    </tr>\n",
       "    <tr>\n",
       "      <th>1</th>\n",
       "      <td>2008-02-11 18:27:00</td>\n",
       "      <td>\"В России\"</td>\n",
       "      <td>[ключевой, вопрос, визит, украина, виктор_ющен...</td>\n",
       "      <td>Бывший СССР</td>\n",
       "      <td>2008</td>\n",
       "      <td>2</td>\n",
       "      <td>ключевой вопрос визит украина виктор_ющенко рф...</td>\n",
       "    </tr>\n",
       "    <tr>\n",
       "      <th>2</th>\n",
       "      <td>2008-02-11 23:05:00</td>\n",
       "      <td>\"В России\"</td>\n",
       "      <td>[парламентский, большинство, намерить, разблок...</td>\n",
       "      <td>Бывший СССР</td>\n",
       "      <td>2008</td>\n",
       "      <td>2</td>\n",
       "      <td>парламентский большинство намерить разблокиров...</td>\n",
       "    </tr>\n",
       "    <tr>\n",
       "      <th>3</th>\n",
       "      <td>2008-02-13 10:20:00</td>\n",
       "      <td>\"В России\"</td>\n",
       "      <td>[известный, грузинский, бизнесмен, бадри_патар...</td>\n",
       "      <td>Бывший СССР</td>\n",
       "      <td>2008</td>\n",
       "      <td>2</td>\n",
       "      <td>известный грузинский бизнесмен бадри_патаркаци...</td>\n",
       "    </tr>\n",
       "    <tr>\n",
       "      <th>4</th>\n",
       "      <td>2008-02-13 14:01:00</td>\n",
       "      <td>\"В мире\"</td>\n",
       "      <td>[аркадий, бадри_патаркацишвили, родиться, тбил...</td>\n",
       "      <td>Бывший СССР</td>\n",
       "      <td>2008</td>\n",
       "      <td>2</td>\n",
       "      <td>аркадий бадри_патаркацишвили родиться тбилиси ...</td>\n",
       "    </tr>\n",
       "  </tbody>\n",
       "</table>\n",
       "</div>"
      ],
      "text/plain": [
       "                  date        topic  \\\n",
       "0  2008-02-11 12:55:00  \"Экономика\"   \n",
       "1  2008-02-11 18:27:00   \"В России\"   \n",
       "2  2008-02-11 23:05:00   \"В России\"   \n",
       "3  2008-02-13 10:20:00   \"В России\"   \n",
       "4  2008-02-13 14:01:00     \"В мире\"   \n",
       "\n",
       "                                                text      predict  year  \\\n",
       "0  [премьерминистр, украина, юлий, тимошенко, зая...  Бывший СССР  2008   \n",
       "1  [ключевой, вопрос, визит, украина, виктор_ющен...  Бывший СССР  2008   \n",
       "2  [парламентский, большинство, намерить, разблок...  Бывший СССР  2008   \n",
       "3  [известный, грузинский, бизнесмен, бадри_патар...  Бывший СССР  2008   \n",
       "4  [аркадий, бадри_патаркацишвили, родиться, тбил...  Бывший СССР  2008   \n",
       "\n",
       "   month                                          text_join  \n",
       "0      2  премьерминистр украина юлий тимошенко заявлять...  \n",
       "1      2  ключевой вопрос визит украина виктор_ющенко рф...  \n",
       "2      2  парламентский большинство намерить разблокиров...  \n",
       "3      2  известный грузинский бизнесмен бадри_патаркаци...  \n",
       "4      2  аркадий бадри_патаркацишвили родиться тбилиси ...  "
      ]
     },
     "execution_count": 97,
     "metadata": {},
     "output_type": "execute_result"
    }
   ],
   "source": [
    "df.text = df.text_join.apply(lambda x: x.split(' ')) \n",
    "df.head()"
   ]
  },
  {
   "cell_type": "code",
   "execution_count": null,
   "metadata": {},
   "outputs": [],
   "source": []
  },
  {
   "cell_type": "markdown",
   "metadata": {},
   "source": [
    "* add docID"
   ]
  },
  {
   "cell_type": "code",
   "execution_count": 98,
   "metadata": {
    "ExecuteTime": {
     "end_time": "2019-02-12T23:28:24.138682Z",
     "start_time": "2019-02-12T23:28:24.127754Z"
    }
   },
   "outputs": [],
   "source": [
    "df['docID'] = list(range(df.shape[0]))"
   ]
  },
  {
   "cell_type": "code",
   "execution_count": 99,
   "metadata": {
    "ExecuteTime": {
     "end_time": "2019-02-12T23:28:24.171061Z",
     "start_time": "2019-02-12T23:28:24.141801Z"
    }
   },
   "outputs": [],
   "source": [
    "df.rename(columns={'text':'lemmatized_text'},inplace=True)"
   ]
  },
  {
   "cell_type": "code",
   "execution_count": 100,
   "metadata": {
    "ExecuteTime": {
     "end_time": "2019-02-12T23:28:24.196665Z",
     "start_time": "2019-02-12T23:28:24.172802Z"
    }
   },
   "outputs": [
    {
     "data": {
      "text/html": [
       "<div>\n",
       "<style scoped>\n",
       "    .dataframe tbody tr th:only-of-type {\n",
       "        vertical-align: middle;\n",
       "    }\n",
       "\n",
       "    .dataframe tbody tr th {\n",
       "        vertical-align: top;\n",
       "    }\n",
       "\n",
       "    .dataframe thead th {\n",
       "        text-align: right;\n",
       "    }\n",
       "</style>\n",
       "<table border=\"1\" class=\"dataframe\">\n",
       "  <thead>\n",
       "    <tr style=\"text-align: right;\">\n",
       "      <th></th>\n",
       "      <th>docID</th>\n",
       "      <th>year</th>\n",
       "      <th>month</th>\n",
       "      <th>lemmatized_text</th>\n",
       "    </tr>\n",
       "  </thead>\n",
       "  <tbody>\n",
       "    <tr>\n",
       "      <th>0</th>\n",
       "      <td>0</td>\n",
       "      <td>2008</td>\n",
       "      <td>2</td>\n",
       "      <td>[премьерминистр, украина, юлий, тимошенко, зая...</td>\n",
       "    </tr>\n",
       "    <tr>\n",
       "      <th>1</th>\n",
       "      <td>1</td>\n",
       "      <td>2008</td>\n",
       "      <td>2</td>\n",
       "      <td>[ключевой, вопрос, визит, украина, виктор_ющен...</td>\n",
       "    </tr>\n",
       "  </tbody>\n",
       "</table>\n",
       "</div>"
      ],
      "text/plain": [
       "   docID  year  month                                    lemmatized_text\n",
       "0      0  2008      2  [премьерминистр, украина, юлий, тимошенко, зая...\n",
       "1      1  2008      2  [ключевой, вопрос, визит, украина, виктор_ющен..."
      ]
     },
     "execution_count": 100,
     "metadata": {},
     "output_type": "execute_result"
    }
   ],
   "source": [
    "df = df[['docID','year','month','lemmatized_text']]\n",
    "df.head(2)"
   ]
  },
  {
   "cell_type": "code",
   "execution_count": 101,
   "metadata": {
    "ExecuteTime": {
     "end_time": "2019-02-12T23:28:24.207620Z",
     "start_time": "2019-02-12T23:28:24.198093Z"
    }
   },
   "outputs": [
    {
     "name": "stdout",
     "output_type": "stream",
     "text": [
      "(44924, 4)\n"
     ]
    },
    {
     "data": {
      "text/plain": [
       "docID              0\n",
       "year               0\n",
       "month              0\n",
       "lemmatized_text    0\n",
       "dtype: int64"
      ]
     },
     "execution_count": 101,
     "metadata": {},
     "output_type": "execute_result"
    }
   ],
   "source": [
    "print(df.shape)\n",
    "df.isnull().sum()"
   ]
  },
  {
   "cell_type": "code",
   "execution_count": 102,
   "metadata": {
    "ExecuteTime": {
     "end_time": "2019-02-12T23:28:24.213209Z",
     "start_time": "2019-02-12T23:28:24.209109Z"
    }
   },
   "outputs": [
    {
     "data": {
      "text/plain": [
       "(2008, 2019)"
      ]
     },
     "execution_count": 102,
     "metadata": {},
     "output_type": "execute_result"
    }
   ],
   "source": [
    "df.year.min(),df.year.max()"
   ]
  },
  {
   "cell_type": "markdown",
   "metadata": {
    "heading_collapsed": true
   },
   "source": [
    "### preprocess if text full"
   ]
  },
  {
   "cell_type": "markdown",
   "metadata": {
    "hidden": true
   },
   "source": [
    "* get dates"
   ]
  },
  {
   "cell_type": "code",
   "execution_count": null,
   "metadata": {
    "ExecuteTime": {
     "end_time": "2019-02-12T20:44:42.100805Z",
     "start_time": "2019-02-12T20:44:41.875674Z"
    },
    "hidden": true
   },
   "outputs": [],
   "source": [
    "%%time\n",
    "\n",
    "df['date_raw'] = df['url'].apply(re.compile('(\\d{4})/(\\d{2})/(\\d{2})').findall)\n",
    "\n",
    "df['year'] = df['date_raw'].apply(lambda x: int(x[0][0]))\n",
    "df['month'] = df['date_raw'].apply(lambda x: int(x[0][1]))"
   ]
  },
  {
   "cell_type": "markdown",
   "metadata": {
    "hidden": true
   },
   "source": [
    "* clean text"
   ]
  },
  {
   "cell_type": "code",
   "execution_count": null,
   "metadata": {
    "ExecuteTime": {
     "end_time": "2019-02-12T20:44:45.466357Z",
     "start_time": "2019-02-12T20:44:45.419292Z"
    },
    "hidden": true
   },
   "outputs": [],
   "source": [
    "import preprocessing_tools as pr"
   ]
  },
  {
   "cell_type": "code",
   "execution_count": null,
   "metadata": {
    "ExecuteTime": {
     "end_time": "2019-02-12T20:44:55.961600Z",
     "start_time": "2019-02-12T20:44:46.127947Z"
    },
    "hidden": true
   },
   "outputs": [],
   "source": [
    "%%time\n",
    "df.text = df.text.apply(pr.clean_text)"
   ]
  },
  {
   "cell_type": "code",
   "execution_count": null,
   "metadata": {
    "ExecuteTime": {
     "end_time": "2019-02-12T20:44:57.006954Z",
     "start_time": "2019-02-12T20:44:56.996117Z"
    },
    "hidden": true
   },
   "outputs": [],
   "source": [
    "df.head(2)"
   ]
  },
  {
   "cell_type": "markdown",
   "metadata": {
    "hidden": true
   },
   "source": [
    "* cleanedNames"
   ]
  },
  {
   "cell_type": "code",
   "execution_count": null,
   "metadata": {
    "ExecuteTime": {
     "end_time": "2019-02-12T20:44:59.718122Z",
     "start_time": "2019-02-12T20:44:59.605825Z"
    },
    "hidden": true
   },
   "outputs": [],
   "source": [
    "from cleanedNames import KeyProc\n",
    "cn = KeyProc()"
   ]
  },
  {
   "cell_type": "code",
   "execution_count": null,
   "metadata": {
    "ExecuteTime": {
     "end_time": "2019-02-12T20:46:42.655484Z",
     "start_time": "2019-02-12T20:45:00.859921Z"
    },
    "hidden": true
   },
   "outputs": [],
   "source": [
    "%%time\n",
    "df.text = df.text.apply(cn.replaceKeywords)"
   ]
  },
  {
   "cell_type": "markdown",
   "metadata": {
    "hidden": true
   },
   "source": [
    "* lemmatization"
   ]
  },
  {
   "cell_type": "code",
   "execution_count": null,
   "metadata": {
    "ExecuteTime": {
     "end_time": "2019-02-12T20:49:10.237126Z",
     "start_time": "2019-02-12T20:46:42.704548Z"
    },
    "hidden": true
   },
   "outputs": [],
   "source": [
    "%%time\n",
    "df['lemmatized_text'] = df.text.apply(pr.lemmatization)"
   ]
  },
  {
   "cell_type": "code",
   "execution_count": null,
   "metadata": {
    "hidden": true
   },
   "outputs": [],
   "source": []
  },
  {
   "cell_type": "markdown",
   "metadata": {
    "hidden": true
   },
   "source": [
    "* add docID"
   ]
  },
  {
   "cell_type": "code",
   "execution_count": null,
   "metadata": {
    "ExecuteTime": {
     "end_time": "2019-02-12T20:49:10.337705Z",
     "start_time": "2019-02-12T20:49:10.325010Z"
    },
    "hidden": true
   },
   "outputs": [],
   "source": [
    "df['docID'] = list(range(df.shape[0]))"
   ]
  },
  {
   "cell_type": "code",
   "execution_count": null,
   "metadata": {
    "ExecuteTime": {
     "end_time": "2019-02-12T20:49:10.457636Z",
     "start_time": "2019-02-12T20:49:10.428243Z"
    },
    "hidden": true
   },
   "outputs": [],
   "source": [
    "df = df[['docID','year','month','lemmatized_text']]\n",
    "df.head(2)"
   ]
  },
  {
   "cell_type": "code",
   "execution_count": null,
   "metadata": {
    "ExecuteTime": {
     "end_time": "2019-02-12T20:49:10.526039Z",
     "start_time": "2019-02-12T20:49:10.516289Z"
    },
    "hidden": true
   },
   "outputs": [],
   "source": [
    "print(df.shape)\n",
    "df.isnull().sum()"
   ]
  },
  {
   "cell_type": "code",
   "execution_count": null,
   "metadata": {
    "ExecuteTime": {
     "end_time": "2019-02-12T20:49:10.587001Z",
     "start_time": "2019-02-12T20:49:10.583827Z"
    },
    "hidden": true
   },
   "outputs": [],
   "source": [
    "df.year.min()"
   ]
  },
  {
   "cell_type": "code",
   "execution_count": null,
   "metadata": {
    "hidden": true
   },
   "outputs": [],
   "source": []
  },
  {
   "cell_type": "markdown",
   "metadata": {},
   "source": [
    "## model"
   ]
  },
  {
   "cell_type": "markdown",
   "metadata": {},
   "source": [
    "* prepare"
   ]
  },
  {
   "cell_type": "code",
   "execution_count": 103,
   "metadata": {
    "ExecuteTime": {
     "end_time": "2019-02-12T23:28:46.480376Z",
     "start_time": "2019-02-12T23:28:46.000008Z"
    }
   },
   "outputs": [
    {
     "name": "stdout",
     "output_type": "stream",
     "text": [
      "CPU times: user 441 ms, sys: 111 ms, total: 552 ms\n",
      "Wall time: 477 ms\n"
     ]
    }
   ],
   "source": [
    "%%time\n",
    "\n",
    "vwpath = f'data/vwpath/{name_dataset}_input_bigartm.vw'\n",
    "\n",
    "with open(vwpath, 'w') as fp:\n",
    "    for text, did in df[['lemmatized_text', 'docID']].values:\n",
    "        fp.write('{} | {}\\n'.format(did, ' '.join(text)))"
   ]
  },
  {
   "cell_type": "code",
   "execution_count": 104,
   "metadata": {
    "ExecuteTime": {
     "end_time": "2019-02-12T23:28:47.144057Z",
     "start_time": "2019-02-12T23:28:47.140600Z"
    }
   },
   "outputs": [],
   "source": [
    "id_date = df[['docID', 'year', 'month']].copy()"
   ]
  },
  {
   "cell_type": "markdown",
   "metadata": {},
   "source": [
    "* collect batchs and collect the dictionary"
   ]
  },
  {
   "cell_type": "code",
   "execution_count": 105,
   "metadata": {
    "ExecuteTime": {
     "end_time": "2019-02-12T23:28:53.123402Z",
     "start_time": "2019-02-12T23:28:50.352547Z"
    }
   },
   "outputs": [
    {
     "name": "stdout",
     "output_type": "stream",
     "text": [
      "artm.BatchVectorizer(data_path=\"data/batches/Byvsij_SSSR\", num_batches=45)\n",
      "CPU times: user 14.9 s, sys: 747 ms, total: 15.6 s\n",
      "Wall time: 2.77 s\n"
     ]
    }
   ],
   "source": [
    "%%time\n",
    "\n",
    "batches_path = f'data/batches/{name_dataset}'\n",
    "\n",
    "if not os.path.exists(batches_path):\n",
    "    print('create folder...\\n')\n",
    "    os.makedirs(batches_path)\n",
    "    \n",
    "batch_vectorizer = artm.BatchVectorizer(data_path=vwpath,\n",
    "                                        data_format='vowpal_wabbit',\n",
    "                                        target_folder=batches_path)\n",
    "\n",
    "print(batch_vectorizer)"
   ]
  },
  {
   "cell_type": "code",
   "execution_count": 106,
   "metadata": {
    "ExecuteTime": {
     "end_time": "2019-02-12T23:28:54.387555Z",
     "start_time": "2019-02-12T23:28:53.127406Z"
    }
   },
   "outputs": [],
   "source": [
    "dictionary = artm.Dictionary()\n",
    "dictionary.gather(data_path=batches_path)"
   ]
  },
  {
   "cell_type": "code",
   "execution_count": 107,
   "metadata": {
    "ExecuteTime": {
     "end_time": "2019-02-12T23:28:54.442808Z",
     "start_time": "2019-02-12T23:28:54.391681Z"
    }
   },
   "outputs": [
    {
     "data": {
      "text/plain": [
       "artm.Dictionary(name=da2f435f-90e6-482a-a404-0502887327ac, num_entries=18075)"
      ]
     },
     "execution_count": 107,
     "metadata": {},
     "output_type": "execute_result"
    }
   ],
   "source": [
    "dictionary.filter(min_tf=10, max_df_rate=0.1) #int(4.5e5)"
   ]
  },
  {
   "cell_type": "code",
   "execution_count": 108,
   "metadata": {
    "ExecuteTime": {
     "end_time": "2019-02-12T23:28:54.544076Z",
     "start_time": "2019-02-12T23:28:54.445010Z"
    }
   },
   "outputs": [],
   "source": [
    "dictionary.save_text(f'data/dicts/dict_{name_dataset}.txt')"
   ]
  },
  {
   "cell_type": "code",
   "execution_count": null,
   "metadata": {},
   "outputs": [],
   "source": []
  },
  {
   "cell_type": "markdown",
   "metadata": {},
   "source": [
    "## pick up amount topics"
   ]
  },
  {
   "cell_type": "code",
   "execution_count": null,
   "metadata": {
    "ExecuteTime": {
     "end_time": "2019-02-03T23:34:30.832737Z",
     "start_time": "2019-02-03T23:05:40.548748Z"
    }
   },
   "outputs": [],
   "source": [
    "%%time\n",
    "model_list = []\n",
    "step, perplexity, sTheta, sPhi = [], [], [], []\n",
    "\n",
    "start = 6\n",
    "end = 25\n",
    "stepp = 1\n",
    "\n",
    "for i in range(start,end+1,stepp):\n",
    "    print(f'#topic {i}.........')\n",
    "    step.append(i)\n",
    "    date_start = time.now()\n",
    "    \n",
    "    num_topics = i\n",
    "    model = artm.ARTM(num_topics=num_topics, dictionary=dictionary)\n",
    "    \n",
    "    # scores\n",
    "    model.scores.add(artm.PerplexityScore(name='PerplexityScore', dictionary=dictionary))\n",
    "    model.scores.add(artm.SparsityThetaScore(name='SparsityThetaScore'))\n",
    "    model.scores.add(artm.SparsityPhiScore(name='SparsityPhiScore'))\n",
    "    \n",
    "    # 1st regularizer\n",
    "    model.regularizers.add(artm.SmoothSparsePhiRegularizer(name='SparsePhi', tau=-1.0)) #-0.1\n",
    "    model.fit_offline(batch_vectorizer=batch_vectorizer, num_collection_passes=5)\n",
    "    \n",
    "    # 2st regularizer\n",
    "    model.regularizers.add(artm.SmoothSparseThetaRegularizer(name='SparseTheta', tau=-0.5))\n",
    "    model.fit_offline(batch_vectorizer=batch_vectorizer, num_collection_passes=15)\n",
    "    \n",
    "    # 3st regularizer\n",
    "    model.regularizers.add(artm.DecorrelatorPhiRegularizer(name='DecorrelatorPhi', tau=1.5e+5))\n",
    "    model.fit_offline(batch_vectorizer=batch_vectorizer, num_collection_passes=15)\n",
    "    \n",
    "    sparsityTheta = model.score_tracker['SparsityThetaScore'].last_value\n",
    "    sTheta.append(sparsityTheta)\n",
    "    sparsityPhi = model.score_tracker['SparsityPhiScore'].last_value\n",
    "    sPhi.append(sparsityPhi)\n",
    "    perpl = model.score_tracker['PerplexityScore'].last_value\n",
    "    perplexity.append(perpl)\n",
    "    \n",
    "    print(f'\\tSparsityThetaScore: {sparsityTheta}')\n",
    "    print(f'\\tSparsityPhiScore: {sparsityPhi}')\n",
    "    print(f'\\tPerplexityScore: {perpl}')\n",
    "    \n",
    "    print('\\ttime:',time.now()-date_start)"
   ]
  },
  {
   "cell_type": "code",
   "execution_count": null,
   "metadata": {
    "ExecuteTime": {
     "end_time": "2019-02-03T10:25:19.898317Z",
     "start_time": "2019-02-03T10:25:19.896173Z"
    }
   },
   "outputs": [],
   "source": [
    "#model_list"
   ]
  },
  {
   "cell_type": "code",
   "execution_count": null,
   "metadata": {
    "ExecuteTime": {
     "end_time": "2019-02-03T23:36:48.933306Z",
     "start_time": "2019-02-03T23:36:48.703340Z"
    },
    "cell_style": "split"
   },
   "outputs": [],
   "source": [
    "plt.plot(step, sPhi, color='k',linewidth=3, marker='x')\n",
    "ax = plt.gca()\n",
    "ax.set_xticks(step)\n",
    "plt.grid()\n",
    "plt.title('SparsityPhiScore')"
   ]
  },
  {
   "cell_type": "code",
   "execution_count": null,
   "metadata": {
    "ExecuteTime": {
     "end_time": "2019-02-03T23:36:48.941151Z",
     "start_time": "2019-02-03T23:36:48.935668Z"
    },
    "cell_style": "split"
   },
   "outputs": [],
   "source": [
    "index_sphi = []\n",
    "[index_sphi.append(float(str(i)[:3]) ) for i in sPhi]\n",
    "    \n",
    "index_sphi = list(set(index_sphi))\n",
    "index_sphi.sort()\n",
    "index_sphi"
   ]
  },
  {
   "cell_type": "code",
   "execution_count": null,
   "metadata": {
    "ExecuteTime": {
     "end_time": "2019-02-03T23:36:48.952614Z",
     "start_time": "2019-02-03T23:36:48.944296Z"
    },
    "cell_style": "split"
   },
   "outputs": [],
   "source": [
    "d_sphi = {}\n",
    "\n",
    "for j in range(len(index_sphi)):\n",
    "    k=0\n",
    "    for i in sPhi:\n",
    "        if j==range(len(index_sphi))[-1]:\n",
    "            if (i>=index_sphi[j]):\n",
    "                k+=1\n",
    "        else:\n",
    "            if (i>=index_sphi[j]) & (i<index_sphi[j+1]):\n",
    "                k+=1\n",
    "    d_sphi[index_sphi[j]]=k\n",
    "\n",
    "d_sphi"
   ]
  },
  {
   "cell_type": "code",
   "execution_count": null,
   "metadata": {
    "ExecuteTime": {
     "end_time": "2019-02-03T23:36:49.179832Z",
     "start_time": "2019-02-03T23:36:48.956428Z"
    },
    "cell_style": "split",
    "scrolled": true
   },
   "outputs": [],
   "source": [
    "plt.plot(step, sTheta, color='g',linewidth=3, marker='x')\n",
    "ax = plt.gca()\n",
    "ax.set_xticks(step)\n",
    "plt.grid()\n",
    "\n",
    "plt.title('SparsityThetaScore')"
   ]
  },
  {
   "cell_type": "code",
   "execution_count": null,
   "metadata": {
    "ExecuteTime": {
     "end_time": "2019-02-03T23:36:49.187062Z",
     "start_time": "2019-02-03T23:36:49.181836Z"
    },
    "cell_style": "split"
   },
   "outputs": [],
   "source": [
    "index_theta = []\n",
    "[index_theta.append(float(str(i)[:3])) for i in sTheta]\n",
    "    \n",
    "index_theta = list(set(index_theta))\n",
    "index_theta.sort()\n",
    "index_theta"
   ]
  },
  {
   "cell_type": "code",
   "execution_count": null,
   "metadata": {
    "ExecuteTime": {
     "end_time": "2019-02-03T23:36:49.198620Z",
     "start_time": "2019-02-03T23:36:49.189897Z"
    },
    "cell_style": "split"
   },
   "outputs": [],
   "source": [
    "d_stheta = {}\n",
    "\n",
    "for j in range(len(index_theta)):\n",
    "    k=0\n",
    "    for i in sTheta:\n",
    "        if j==range(len(index_theta))[-1]:\n",
    "            if (i>=index_theta[j]):\n",
    "                k+=1\n",
    "        else:\n",
    "            if (i>=index_theta[j]) & (i<index_theta[j+1]):\n",
    "                k+=1\n",
    "    d_stheta[index_theta[j]]=k\n",
    "\n",
    "d_stheta"
   ]
  },
  {
   "cell_type": "code",
   "execution_count": null,
   "metadata": {
    "ExecuteTime": {
     "end_time": "2019-02-03T23:36:49.426695Z",
     "start_time": "2019-02-03T23:36:49.201181Z"
    },
    "cell_style": "split"
   },
   "outputs": [],
   "source": [
    "plt.plot(step, perplexity, color='b',linewidth=3, marker='x')\n",
    "ax = plt.gca()\n",
    "ax.set_xticks(step)\n",
    "plt.grid()\n",
    "plt.title('PerplexityScore')"
   ]
  },
  {
   "cell_type": "code",
   "execution_count": null,
   "metadata": {
    "ExecuteTime": {
     "end_time": "2019-02-03T23:36:49.436545Z",
     "start_time": "2019-02-03T23:36:49.428972Z"
    },
    "cell_style": "split"
   },
   "outputs": [],
   "source": [
    "perplexity"
   ]
  },
  {
   "cell_type": "markdown",
   "metadata": {},
   "source": [
    "### select the best model"
   ]
  },
  {
   "cell_type": "code",
   "execution_count": null,
   "metadata": {
    "ExecuteTime": {
     "end_time": "2019-02-03T23:37:06.940778Z",
     "start_time": "2019-02-03T23:37:06.936624Z"
    }
   },
   "outputs": [],
   "source": [
    "print(f'd_sphi:   {d_sphi}')\n",
    "print(f'd_stheta: {d_stheta}')"
   ]
  },
  {
   "cell_type": "code",
   "execution_count": null,
   "metadata": {
    "ExecuteTime": {
     "end_time": "2019-02-03T23:37:08.106226Z",
     "start_time": "2019-02-03T23:37:08.101353Z"
    }
   },
   "outputs": [],
   "source": [
    "select_topics = 20 # u should choose number of topic\n",
    "\n",
    "best_model = model_list[select_topics-start]\n",
    "print(best_model.num_topics)"
   ]
  },
  {
   "cell_type": "markdown",
   "metadata": {},
   "source": [
    "---"
   ]
  },
  {
   "cell_type": "code",
   "execution_count": 109,
   "metadata": {
    "ExecuteTime": {
     "end_time": "2019-02-12T23:29:14.180536Z",
     "start_time": "2019-02-12T23:29:14.178330Z"
    }
   },
   "outputs": [],
   "source": [
    "select_topics = 20"
   ]
  },
  {
   "cell_type": "code",
   "execution_count": 110,
   "metadata": {
    "ExecuteTime": {
     "end_time": "2019-02-12T23:29:38.562258Z",
     "start_time": "2019-02-12T23:29:16.948807Z"
    }
   },
   "outputs": [
    {
     "data": {
      "application/vnd.jupyter.widget-view+json": {
       "model_id": "08557ced19684e6bb37cfa6e6d55affc",
       "version_major": 2,
       "version_minor": 0
      },
      "text/plain": [
       "HBox(children=(IntProgress(value=0, description='Pass', max=5, style=ProgressStyle(description_width='initial'…"
      ]
     },
     "metadata": {},
     "output_type": "display_data"
    },
    {
     "data": {
      "application/vnd.jupyter.widget-view+json": {
       "model_id": "",
       "version_major": 2,
       "version_minor": 0
      },
      "text/plain": [
       "HBox(children=(IntProgress(value=0, description='Batch', max=45, style=ProgressStyle(description_width='initia…"
      ]
     },
     "metadata": {},
     "output_type": "display_data"
    },
    {
     "data": {
      "application/vnd.jupyter.widget-view+json": {
       "model_id": "",
       "version_major": 2,
       "version_minor": 0
      },
      "text/plain": [
       "HBox(children=(IntProgress(value=0, description='Batch', max=45, style=ProgressStyle(description_width='initia…"
      ]
     },
     "metadata": {},
     "output_type": "display_data"
    },
    {
     "data": {
      "application/vnd.jupyter.widget-view+json": {
       "model_id": "",
       "version_major": 2,
       "version_minor": 0
      },
      "text/plain": [
       "HBox(children=(IntProgress(value=0, description='Batch', max=45, style=ProgressStyle(description_width='initia…"
      ]
     },
     "metadata": {},
     "output_type": "display_data"
    },
    {
     "data": {
      "application/vnd.jupyter.widget-view+json": {
       "model_id": "",
       "version_major": 2,
       "version_minor": 0
      },
      "text/plain": [
       "HBox(children=(IntProgress(value=0, description='Batch', max=45, style=ProgressStyle(description_width='initia…"
      ]
     },
     "metadata": {},
     "output_type": "display_data"
    },
    {
     "data": {
      "application/vnd.jupyter.widget-view+json": {
       "model_id": "",
       "version_major": 2,
       "version_minor": 0
      },
      "text/plain": [
       "HBox(children=(IntProgress(value=0, description='Batch', max=45, style=ProgressStyle(description_width='initia…"
      ]
     },
     "metadata": {},
     "output_type": "display_data"
    },
    {
     "name": "stdout",
     "output_type": "stream",
     "text": [
      "\n"
     ]
    },
    {
     "data": {
      "application/vnd.jupyter.widget-view+json": {
       "model_id": "d4d7af4d50c743679e0ad1c4ffbffad7",
       "version_major": 2,
       "version_minor": 0
      },
      "text/plain": [
       "HBox(children=(IntProgress(value=0, description='Pass', max=15, style=ProgressStyle(description_width='initial…"
      ]
     },
     "metadata": {},
     "output_type": "display_data"
    },
    {
     "data": {
      "application/vnd.jupyter.widget-view+json": {
       "model_id": "",
       "version_major": 2,
       "version_minor": 0
      },
      "text/plain": [
       "HBox(children=(IntProgress(value=0, description='Batch', max=45, style=ProgressStyle(description_width='initia…"
      ]
     },
     "metadata": {},
     "output_type": "display_data"
    },
    {
     "data": {
      "application/vnd.jupyter.widget-view+json": {
       "model_id": "",
       "version_major": 2,
       "version_minor": 0
      },
      "text/plain": [
       "HBox(children=(IntProgress(value=0, description='Batch', max=45, style=ProgressStyle(description_width='initia…"
      ]
     },
     "metadata": {},
     "output_type": "display_data"
    },
    {
     "data": {
      "application/vnd.jupyter.widget-view+json": {
       "model_id": "",
       "version_major": 2,
       "version_minor": 0
      },
      "text/plain": [
       "HBox(children=(IntProgress(value=0, description='Batch', max=45, style=ProgressStyle(description_width='initia…"
      ]
     },
     "metadata": {},
     "output_type": "display_data"
    },
    {
     "data": {
      "application/vnd.jupyter.widget-view+json": {
       "model_id": "",
       "version_major": 2,
       "version_minor": 0
      },
      "text/plain": [
       "HBox(children=(IntProgress(value=0, description='Batch', max=45, style=ProgressStyle(description_width='initia…"
      ]
     },
     "metadata": {},
     "output_type": "display_data"
    },
    {
     "data": {
      "application/vnd.jupyter.widget-view+json": {
       "model_id": "",
       "version_major": 2,
       "version_minor": 0
      },
      "text/plain": [
       "HBox(children=(IntProgress(value=0, description='Batch', max=45, style=ProgressStyle(description_width='initia…"
      ]
     },
     "metadata": {},
     "output_type": "display_data"
    },
    {
     "data": {
      "application/vnd.jupyter.widget-view+json": {
       "model_id": "",
       "version_major": 2,
       "version_minor": 0
      },
      "text/plain": [
       "HBox(children=(IntProgress(value=0, description='Batch', max=45, style=ProgressStyle(description_width='initia…"
      ]
     },
     "metadata": {},
     "output_type": "display_data"
    },
    {
     "data": {
      "application/vnd.jupyter.widget-view+json": {
       "model_id": "",
       "version_major": 2,
       "version_minor": 0
      },
      "text/plain": [
       "HBox(children=(IntProgress(value=0, description='Batch', max=45, style=ProgressStyle(description_width='initia…"
      ]
     },
     "metadata": {},
     "output_type": "display_data"
    },
    {
     "data": {
      "application/vnd.jupyter.widget-view+json": {
       "model_id": "",
       "version_major": 2,
       "version_minor": 0
      },
      "text/plain": [
       "HBox(children=(IntProgress(value=0, description='Batch', max=45, style=ProgressStyle(description_width='initia…"
      ]
     },
     "metadata": {},
     "output_type": "display_data"
    },
    {
     "data": {
      "application/vnd.jupyter.widget-view+json": {
       "model_id": "",
       "version_major": 2,
       "version_minor": 0
      },
      "text/plain": [
       "HBox(children=(IntProgress(value=0, description='Batch', max=45, style=ProgressStyle(description_width='initia…"
      ]
     },
     "metadata": {},
     "output_type": "display_data"
    },
    {
     "data": {
      "application/vnd.jupyter.widget-view+json": {
       "model_id": "",
       "version_major": 2,
       "version_minor": 0
      },
      "text/plain": [
       "HBox(children=(IntProgress(value=0, description='Batch', max=45, style=ProgressStyle(description_width='initia…"
      ]
     },
     "metadata": {},
     "output_type": "display_data"
    },
    {
     "data": {
      "application/vnd.jupyter.widget-view+json": {
       "model_id": "",
       "version_major": 2,
       "version_minor": 0
      },
      "text/plain": [
       "HBox(children=(IntProgress(value=0, description='Batch', max=45, style=ProgressStyle(description_width='initia…"
      ]
     },
     "metadata": {},
     "output_type": "display_data"
    },
    {
     "data": {
      "application/vnd.jupyter.widget-view+json": {
       "model_id": "",
       "version_major": 2,
       "version_minor": 0
      },
      "text/plain": [
       "HBox(children=(IntProgress(value=0, description='Batch', max=45, style=ProgressStyle(description_width='initia…"
      ]
     },
     "metadata": {},
     "output_type": "display_data"
    },
    {
     "data": {
      "application/vnd.jupyter.widget-view+json": {
       "model_id": "",
       "version_major": 2,
       "version_minor": 0
      },
      "text/plain": [
       "HBox(children=(IntProgress(value=0, description='Batch', max=45, style=ProgressStyle(description_width='initia…"
      ]
     },
     "metadata": {},
     "output_type": "display_data"
    },
    {
     "data": {
      "application/vnd.jupyter.widget-view+json": {
       "model_id": "",
       "version_major": 2,
       "version_minor": 0
      },
      "text/plain": [
       "HBox(children=(IntProgress(value=0, description='Batch', max=45, style=ProgressStyle(description_width='initia…"
      ]
     },
     "metadata": {},
     "output_type": "display_data"
    },
    {
     "data": {
      "application/vnd.jupyter.widget-view+json": {
       "model_id": "",
       "version_major": 2,
       "version_minor": 0
      },
      "text/plain": [
       "HBox(children=(IntProgress(value=0, description='Batch', max=45, style=ProgressStyle(description_width='initia…"
      ]
     },
     "metadata": {},
     "output_type": "display_data"
    },
    {
     "name": "stdout",
     "output_type": "stream",
     "text": [
      "\n"
     ]
    },
    {
     "data": {
      "application/vnd.jupyter.widget-view+json": {
       "model_id": "428bfadd261f45d4a3880b32722ae6a4",
       "version_major": 2,
       "version_minor": 0
      },
      "text/plain": [
       "HBox(children=(IntProgress(value=0, description='Pass', max=15, style=ProgressStyle(description_width='initial…"
      ]
     },
     "metadata": {},
     "output_type": "display_data"
    },
    {
     "data": {
      "application/vnd.jupyter.widget-view+json": {
       "model_id": "",
       "version_major": 2,
       "version_minor": 0
      },
      "text/plain": [
       "HBox(children=(IntProgress(value=0, description='Batch', max=45, style=ProgressStyle(description_width='initia…"
      ]
     },
     "metadata": {},
     "output_type": "display_data"
    },
    {
     "data": {
      "application/vnd.jupyter.widget-view+json": {
       "model_id": "",
       "version_major": 2,
       "version_minor": 0
      },
      "text/plain": [
       "HBox(children=(IntProgress(value=0, description='Batch', max=45, style=ProgressStyle(description_width='initia…"
      ]
     },
     "metadata": {},
     "output_type": "display_data"
    },
    {
     "data": {
      "application/vnd.jupyter.widget-view+json": {
       "model_id": "",
       "version_major": 2,
       "version_minor": 0
      },
      "text/plain": [
       "HBox(children=(IntProgress(value=0, description='Batch', max=45, style=ProgressStyle(description_width='initia…"
      ]
     },
     "metadata": {},
     "output_type": "display_data"
    },
    {
     "data": {
      "application/vnd.jupyter.widget-view+json": {
       "model_id": "",
       "version_major": 2,
       "version_minor": 0
      },
      "text/plain": [
       "HBox(children=(IntProgress(value=0, description='Batch', max=45, style=ProgressStyle(description_width='initia…"
      ]
     },
     "metadata": {},
     "output_type": "display_data"
    },
    {
     "data": {
      "application/vnd.jupyter.widget-view+json": {
       "model_id": "",
       "version_major": 2,
       "version_minor": 0
      },
      "text/plain": [
       "HBox(children=(IntProgress(value=0, description='Batch', max=45, style=ProgressStyle(description_width='initia…"
      ]
     },
     "metadata": {},
     "output_type": "display_data"
    },
    {
     "data": {
      "application/vnd.jupyter.widget-view+json": {
       "model_id": "",
       "version_major": 2,
       "version_minor": 0
      },
      "text/plain": [
       "HBox(children=(IntProgress(value=0, description='Batch', max=45, style=ProgressStyle(description_width='initia…"
      ]
     },
     "metadata": {},
     "output_type": "display_data"
    },
    {
     "data": {
      "application/vnd.jupyter.widget-view+json": {
       "model_id": "",
       "version_major": 2,
       "version_minor": 0
      },
      "text/plain": [
       "HBox(children=(IntProgress(value=0, description='Batch', max=45, style=ProgressStyle(description_width='initia…"
      ]
     },
     "metadata": {},
     "output_type": "display_data"
    },
    {
     "data": {
      "application/vnd.jupyter.widget-view+json": {
       "model_id": "",
       "version_major": 2,
       "version_minor": 0
      },
      "text/plain": [
       "HBox(children=(IntProgress(value=0, description='Batch', max=45, style=ProgressStyle(description_width='initia…"
      ]
     },
     "metadata": {},
     "output_type": "display_data"
    },
    {
     "data": {
      "application/vnd.jupyter.widget-view+json": {
       "model_id": "",
       "version_major": 2,
       "version_minor": 0
      },
      "text/plain": [
       "HBox(children=(IntProgress(value=0, description='Batch', max=45, style=ProgressStyle(description_width='initia…"
      ]
     },
     "metadata": {},
     "output_type": "display_data"
    },
    {
     "data": {
      "application/vnd.jupyter.widget-view+json": {
       "model_id": "",
       "version_major": 2,
       "version_minor": 0
      },
      "text/plain": [
       "HBox(children=(IntProgress(value=0, description='Batch', max=45, style=ProgressStyle(description_width='initia…"
      ]
     },
     "metadata": {},
     "output_type": "display_data"
    },
    {
     "data": {
      "application/vnd.jupyter.widget-view+json": {
       "model_id": "",
       "version_major": 2,
       "version_minor": 0
      },
      "text/plain": [
       "HBox(children=(IntProgress(value=0, description='Batch', max=45, style=ProgressStyle(description_width='initia…"
      ]
     },
     "metadata": {},
     "output_type": "display_data"
    },
    {
     "data": {
      "application/vnd.jupyter.widget-view+json": {
       "model_id": "",
       "version_major": 2,
       "version_minor": 0
      },
      "text/plain": [
       "HBox(children=(IntProgress(value=0, description='Batch', max=45, style=ProgressStyle(description_width='initia…"
      ]
     },
     "metadata": {},
     "output_type": "display_data"
    },
    {
     "data": {
      "application/vnd.jupyter.widget-view+json": {
       "model_id": "",
       "version_major": 2,
       "version_minor": 0
      },
      "text/plain": [
       "HBox(children=(IntProgress(value=0, description='Batch', max=45, style=ProgressStyle(description_width='initia…"
      ]
     },
     "metadata": {},
     "output_type": "display_data"
    },
    {
     "data": {
      "application/vnd.jupyter.widget-view+json": {
       "model_id": "",
       "version_major": 2,
       "version_minor": 0
      },
      "text/plain": [
       "HBox(children=(IntProgress(value=0, description='Batch', max=45, style=ProgressStyle(description_width='initia…"
      ]
     },
     "metadata": {},
     "output_type": "display_data"
    },
    {
     "data": {
      "application/vnd.jupyter.widget-view+json": {
       "model_id": "",
       "version_major": 2,
       "version_minor": 0
      },
      "text/plain": [
       "HBox(children=(IntProgress(value=0, description='Batch', max=45, style=ProgressStyle(description_width='initia…"
      ]
     },
     "metadata": {},
     "output_type": "display_data"
    },
    {
     "name": "stdout",
     "output_type": "stream",
     "text": [
      "\n",
      "\tSparsityThetaScore: 0.6864070296287537\n",
      "\tSparsityPhiScore: 0.8753250241279602\n",
      "\tPerplexityScore: 1987.37890625\n"
     ]
    }
   ],
   "source": [
    "num_topics = select_topics\n",
    "model = artm.ARTM(num_topics=num_topics, dictionary=dictionary, show_progress_bars=True)\n",
    "\n",
    "# scores\n",
    "model.scores.add(artm.PerplexityScore(name='PerplexityScore', dictionary=dictionary))\n",
    "model.scores.add(artm.SparsityThetaScore(name='SparsityThetaScore'))\n",
    "model.scores.add(artm.SparsityPhiScore(name='SparsityPhiScore'))\n",
    "\n",
    "# 1st regularizer\n",
    "model.regularizers.add(artm.SmoothSparsePhiRegularizer(name='SparsePhi', tau=-1.0)) #-0.1\n",
    "model.fit_offline(batch_vectorizer=batch_vectorizer, num_collection_passes=5)\n",
    "\n",
    "# 2st regularizer\n",
    "model.regularizers.add(artm.SmoothSparseThetaRegularizer(name='SparseTheta', tau=-0.5))\n",
    "model.fit_offline(batch_vectorizer=batch_vectorizer, num_collection_passes=15)\n",
    "\n",
    "# 3st regularizer\n",
    "model.regularizers.add(artm.DecorrelatorPhiRegularizer(name='DecorrelatorPhi', tau=1.5e+5))\n",
    "model.fit_offline(batch_vectorizer=batch_vectorizer, num_collection_passes=15)\n",
    "\n",
    "sparsityTheta = model.score_tracker['SparsityThetaScore'].last_value\n",
    "sparsityPhi = model.score_tracker['SparsityPhiScore'].last_value\n",
    "perpl = model.score_tracker['PerplexityScore'].last_value\n",
    "\n",
    "print(f'\\tSparsityThetaScore: {sparsityTheta}')\n",
    "print(f'\\tSparsityPhiScore: {sparsityPhi}')\n",
    "print(f'\\tPerplexityScore: {perpl}')"
   ]
  },
  {
   "cell_type": "code",
   "execution_count": 111,
   "metadata": {
    "ExecuteTime": {
     "end_time": "2019-02-12T23:29:40.396748Z",
     "start_time": "2019-02-12T23:29:40.263618Z"
    }
   },
   "outputs": [
    {
     "data": {
      "text/plain": [
       "20"
      ]
     },
     "execution_count": 111,
     "metadata": {},
     "output_type": "execute_result"
    }
   ],
   "source": [
    "best_model = model.clone()\n",
    "best_model.num_topics"
   ]
  },
  {
   "cell_type": "markdown",
   "metadata": {},
   "source": [
    "---"
   ]
  },
  {
   "cell_type": "markdown",
   "metadata": {
    "ExecuteTime": {
     "end_time": "2019-02-01T00:14:02.339878Z",
     "start_time": "2019-02-01T00:14:02.338133Z"
    }
   },
   "source": [
    "### print top words for each topics"
   ]
  },
  {
   "cell_type": "code",
   "execution_count": 112,
   "metadata": {
    "ExecuteTime": {
     "end_time": "2019-02-12T23:29:42.659123Z",
     "start_time": "2019-02-12T23:29:42.522612Z"
    }
   },
   "outputs": [
    {
     "name": "stdout",
     "output_type": "stream",
     "text": [
      "topic_0: ['миллион' 'газа' 'миллиард' 'предприятие' 'поставка' 'средство' 'цена'\n",
      " 'сумма' 'электроэнергия' 'строительство']\n",
      "topic_1: ['тимошенко' 'янукович' 'виктор_янукович' 'юлий' 'интерфаксукраина'\n",
      " 'оппозиция' 'заседание' 'батькивщина' 'премьерминистр' 'юлия_тимошенко']\n",
      "topic_2: ['обстрел' 'огонь' 'азербайджан' 'позиция' 'пункт' 'мм' 'направление'\n",
      " 'населить' 'миномёт' 'оружие']\n",
      "topic_3: ['оборона' 'военнослужащий' 'войско' 'нато' 'учение' 'база' 'минобороны'\n",
      " 'подразделение' 'зона' 'техника']\n",
      "topic_4: ['киргизия' 'бишкек' 'временной' 'снг' 'бакиев' 'киргизский' 'случай' 'юг'\n",
      " 'опрос' 'население']\n",
      "topic_5: ['абхазия' 'армения' 'ереван' 'абхазский' 'армянский' 'премьерминистр'\n",
      " 'отставка' 'член' 'пост' 'грузинский']\n",
      "topic_6: ['белоруссия' 'гуманитарный' 'белорусский' 'минск' 'помощь' 'груз' 'мчс'\n",
      " 'лукашенко' 'колонна' 'пропуск']\n",
      "topic_7: ['взрыв' 'погибнуть' 'пострадавший' 'погибший' 'дом' 'больница'\n",
      " 'пострадать' 'пожар' 'состояние' 'ребёнок']\n",
      "topic_8: ['выбор' 'верховный' 'закон' 'избирательный' 'кандидат' 'выборы' 'фракция'\n",
      " 'парламентский' 'комиссия' 'голосование']\n",
      "topic_9: ['крым' 'граница' 'пограничный' 'пограничник' 'корабль' 'въезд' 'судно'\n",
      " 'мор' 'паспорт' 'пересечение']\n",
      "topic_10: ['прокуратура' 'лицо' 'преступление' 'убийство' 'обвинение'\n",
      " 'расследование' 'адвокат' 'бывший' 'арест' 'статья']\n",
      "topic_11: ['грузинский' 'мид' 'тбилиси' 'встреча' 'осетия' 'южный' 'заявление'\n",
      " 'переговоры' 'саакашвили' 'москва']\n",
      "topic_12: ['сша' 'таджикистан' 'порошенко' 'встреча' 'визит' 'американский'\n",
      " 'узбекистан' 'помощь' 'сотрудничество' 'оон']\n",
      "topic_13: ['соглашение' 'европейский' 'ес' 'политический' 'право' 'документ' 'народ'\n",
      " 'мнение' 'политика' 'позиция']\n",
      "topic_14: ['днр' 'луганский' 'донбасс' 'самопровозгласить' 'обсе' 'лнр' 'ополченец'\n",
      " 'донецк' 'миссия' 'минский']\n",
      "topic_15: ['милиция' 'мвд' 'правоохранительный' 'милиционер' 'оружие' 'неизвестный'\n",
      " 'южный' 'автомобиль' 'обнаружить' 'нападение']\n",
      "topic_16: ['эстония' 'латвия' 'литва' 'язык' 'русский' 'эстонский' 'памятник'\n",
      " 'советский' 'война' 'bns']\n",
      "topic_17: ['акция' 'здание' 'участник' 'митинг' 'площадь' 'оппозиция' 'протест'\n",
      " 'церковь' 'сторонник' 'корреспондент']\n",
      "topic_18: ['казахстан' 'самолёт' 'аэропорт' 'сбить' 'воздушный' 'крушение' 'боинг'\n",
      " 'шахта' 'рейс' 'авиакомпания']\n",
      "topic_19: ['мвд' 'сбу' 'одесский' 'внутренний' 'начальник' 'управление'\n",
      " 'администрация' 'одесса' 'написать' 'областной']\n"
     ]
    }
   ],
   "source": [
    "phi = best_model.get_phi()\n",
    "phi['word'] = phi.index\n",
    "#phi.head()\n",
    "\n",
    "for col in phi.columns:\n",
    "    if col != 'word':\n",
    "        print(f\"{col}: {phi[[col, 'word']].sort_values(by=col, ascending=False)['word'].values[:10]}\")\n",
    "        #print('\\t',phi[[col, 'word']].sort_values(by=col, ascending=False)['word'].values[:10])"
   ]
  },
  {
   "cell_type": "code",
   "execution_count": null,
   "metadata": {},
   "outputs": [],
   "source": []
  },
  {
   "cell_type": "markdown",
   "metadata": {},
   "source": [
    "### get topics-docs matrix"
   ]
  },
  {
   "cell_type": "code",
   "execution_count": 113,
   "metadata": {
    "ExecuteTime": {
     "end_time": "2019-02-12T23:29:46.047933Z",
     "start_time": "2019-02-12T23:29:45.268811Z"
    }
   },
   "outputs": [
    {
     "data": {
      "application/vnd.jupyter.widget-view+json": {
       "model_id": "",
       "version_major": 2,
       "version_minor": 0
      },
      "text/plain": [
       "HBox(children=(IntProgress(value=0, description='Batch', max=45, style=ProgressStyle(description_width='initia…"
      ]
     },
     "metadata": {},
     "output_type": "display_data"
    },
    {
     "name": "stdout",
     "output_type": "stream",
     "text": [
      "\r",
      "shape theta: (20, 44924)\n"
     ]
    },
    {
     "data": {
      "image/png": "[encoded data removed]",
      "text/plain": [
       "<Figure size 1440x1440 with 1 Axes>"
      ]
     },
     "metadata": {
      "needs_background": "light"
     },
     "output_type": "display_data"
    }
   ],
   "source": [
    "theta = best_model.transform_sparse(batch_vectorizer=batch_vectorizer, eps=0.001)\n",
    "print(f'shape theta: {theta[0].shape}')\n",
    "\n",
    "plt.figure(figsize=(20, 20))\n",
    "plt.imshow(theta[0][:, 2000:2500].toarray());"
   ]
  },
  {
   "cell_type": "code",
   "execution_count": null,
   "metadata": {},
   "outputs": [],
   "source": []
  },
  {
   "cell_type": "markdown",
   "metadata": {},
   "source": [
    "### dense theta matrix"
   ]
  },
  {
   "cell_type": "code",
   "execution_count": 114,
   "metadata": {
    "ExecuteTime": {
     "end_time": "2019-02-12T23:29:48.479684Z",
     "start_time": "2019-02-12T23:29:48.042490Z"
    }
   },
   "outputs": [
    {
     "data": {
      "application/vnd.jupyter.widget-view+json": {
       "model_id": "",
       "version_major": 2,
       "version_minor": 0
      },
      "text/plain": [
       "HBox(children=(IntProgress(value=0, description='Batch', max=45, style=ProgressStyle(description_width='initia…"
      ]
     },
     "metadata": {},
     "output_type": "display_data"
    },
    {
     "name": "stdout",
     "output_type": "stream",
     "text": [
      "\r"
     ]
    },
    {
     "data": {
      "text/html": [
       "<div>\n",
       "<style scoped>\n",
       "    .dataframe tbody tr th:only-of-type {\n",
       "        vertical-align: middle;\n",
       "    }\n",
       "\n",
       "    .dataframe tbody tr th {\n",
       "        vertical-align: top;\n",
       "    }\n",
       "\n",
       "    .dataframe thead th {\n",
       "        text-align: right;\n",
       "    }\n",
       "</style>\n",
       "<table border=\"1\" class=\"dataframe\">\n",
       "  <thead>\n",
       "    <tr style=\"text-align: right;\">\n",
       "      <th></th>\n",
       "      <th>topic_0</th>\n",
       "      <th>topic_1</th>\n",
       "      <th>topic_2</th>\n",
       "      <th>topic_3</th>\n",
       "      <th>topic_4</th>\n",
       "      <th>topic_5</th>\n",
       "      <th>topic_6</th>\n",
       "      <th>topic_7</th>\n",
       "      <th>topic_8</th>\n",
       "      <th>topic_9</th>\n",
       "      <th>topic_10</th>\n",
       "      <th>topic_11</th>\n",
       "      <th>topic_12</th>\n",
       "      <th>topic_13</th>\n",
       "      <th>topic_14</th>\n",
       "      <th>topic_15</th>\n",
       "      <th>topic_16</th>\n",
       "      <th>topic_17</th>\n",
       "      <th>topic_18</th>\n",
       "      <th>topic_19</th>\n",
       "    </tr>\n",
       "  </thead>\n",
       "  <tbody>\n",
       "    <tr>\n",
       "      <th>41000</th>\n",
       "      <td>0.010694</td>\n",
       "      <td>0.058716</td>\n",
       "      <td>0.0</td>\n",
       "      <td>0.000000</td>\n",
       "      <td>0.347363</td>\n",
       "      <td>0.0</td>\n",
       "      <td>0.000000</td>\n",
       "      <td>0.000000</td>\n",
       "      <td>0.573651</td>\n",
       "      <td>0.00000</td>\n",
       "      <td>0.0</td>\n",
       "      <td>0.000000</td>\n",
       "      <td>0.000000</td>\n",
       "      <td>0.009576</td>\n",
       "      <td>0.0</td>\n",
       "      <td>0.000000</td>\n",
       "      <td>0.000000</td>\n",
       "      <td>0.000000</td>\n",
       "      <td>0.000000</td>\n",
       "      <td>0.000000</td>\n",
       "    </tr>\n",
       "    <tr>\n",
       "      <th>41001</th>\n",
       "      <td>0.000000</td>\n",
       "      <td>0.244425</td>\n",
       "      <td>0.0</td>\n",
       "      <td>0.000000</td>\n",
       "      <td>0.000000</td>\n",
       "      <td>0.0</td>\n",
       "      <td>0.000000</td>\n",
       "      <td>0.029383</td>\n",
       "      <td>0.000000</td>\n",
       "      <td>0.00000</td>\n",
       "      <td>0.0</td>\n",
       "      <td>0.000000</td>\n",
       "      <td>0.000000</td>\n",
       "      <td>0.000000</td>\n",
       "      <td>0.0</td>\n",
       "      <td>0.388008</td>\n",
       "      <td>0.187138</td>\n",
       "      <td>0.000000</td>\n",
       "      <td>0.000000</td>\n",
       "      <td>0.151046</td>\n",
       "    </tr>\n",
       "    <tr>\n",
       "      <th>41002</th>\n",
       "      <td>0.000000</td>\n",
       "      <td>0.000000</td>\n",
       "      <td>0.0</td>\n",
       "      <td>0.082652</td>\n",
       "      <td>0.000000</td>\n",
       "      <td>0.0</td>\n",
       "      <td>0.000000</td>\n",
       "      <td>0.297964</td>\n",
       "      <td>0.000000</td>\n",
       "      <td>0.32793</td>\n",
       "      <td>0.0</td>\n",
       "      <td>0.000000</td>\n",
       "      <td>0.000000</td>\n",
       "      <td>0.000000</td>\n",
       "      <td>0.0</td>\n",
       "      <td>0.237385</td>\n",
       "      <td>0.054069</td>\n",
       "      <td>0.000000</td>\n",
       "      <td>0.000000</td>\n",
       "      <td>0.000000</td>\n",
       "    </tr>\n",
       "    <tr>\n",
       "      <th>41003</th>\n",
       "      <td>0.000000</td>\n",
       "      <td>0.000000</td>\n",
       "      <td>0.0</td>\n",
       "      <td>0.000000</td>\n",
       "      <td>0.000000</td>\n",
       "      <td>0.0</td>\n",
       "      <td>0.034611</td>\n",
       "      <td>0.037785</td>\n",
       "      <td>0.000000</td>\n",
       "      <td>0.00000</td>\n",
       "      <td>0.0</td>\n",
       "      <td>0.016814</td>\n",
       "      <td>0.000000</td>\n",
       "      <td>0.000000</td>\n",
       "      <td>0.0</td>\n",
       "      <td>0.000000</td>\n",
       "      <td>0.068617</td>\n",
       "      <td>0.828406</td>\n",
       "      <td>0.000000</td>\n",
       "      <td>0.013768</td>\n",
       "    </tr>\n",
       "    <tr>\n",
       "      <th>41004</th>\n",
       "      <td>0.250618</td>\n",
       "      <td>0.047301</td>\n",
       "      <td>0.0</td>\n",
       "      <td>0.164979</td>\n",
       "      <td>0.000000</td>\n",
       "      <td>0.0</td>\n",
       "      <td>0.000000</td>\n",
       "      <td>0.000000</td>\n",
       "      <td>0.034230</td>\n",
       "      <td>0.00000</td>\n",
       "      <td>0.0</td>\n",
       "      <td>0.000000</td>\n",
       "      <td>0.218938</td>\n",
       "      <td>0.000000</td>\n",
       "      <td>0.0</td>\n",
       "      <td>0.000000</td>\n",
       "      <td>0.000000</td>\n",
       "      <td>0.000000</td>\n",
       "      <td>0.283934</td>\n",
       "      <td>0.000000</td>\n",
       "    </tr>\n",
       "  </tbody>\n",
       "</table>\n",
       "</div>"
      ],
      "text/plain": [
       "        topic_0   topic_1  topic_2   topic_3   topic_4  topic_5   topic_6  \\\n",
       "41000  0.010694  0.058716      0.0  0.000000  0.347363      0.0  0.000000   \n",
       "41001  0.000000  0.244425      0.0  0.000000  0.000000      0.0  0.000000   \n",
       "41002  0.000000  0.000000      0.0  0.082652  0.000000      0.0  0.000000   \n",
       "41003  0.000000  0.000000      0.0  0.000000  0.000000      0.0  0.034611   \n",
       "41004  0.250618  0.047301      0.0  0.164979  0.000000      0.0  0.000000   \n",
       "\n",
       "        topic_7   topic_8  topic_9  topic_10  topic_11  topic_12  topic_13  \\\n",
       "41000  0.000000  0.573651  0.00000       0.0  0.000000  0.000000  0.009576   \n",
       "41001  0.029383  0.000000  0.00000       0.0  0.000000  0.000000  0.000000   \n",
       "41002  0.297964  0.000000  0.32793       0.0  0.000000  0.000000  0.000000   \n",
       "41003  0.037785  0.000000  0.00000       0.0  0.016814  0.000000  0.000000   \n",
       "41004  0.000000  0.034230  0.00000       0.0  0.000000  0.218938  0.000000   \n",
       "\n",
       "       topic_14  topic_15  topic_16  topic_17  topic_18  topic_19  \n",
       "41000       0.0  0.000000  0.000000  0.000000  0.000000  0.000000  \n",
       "41001       0.0  0.388008  0.187138  0.000000  0.000000  0.151046  \n",
       "41002       0.0  0.237385  0.054069  0.000000  0.000000  0.000000  \n",
       "41003       0.0  0.000000  0.068617  0.828406  0.000000  0.013768  \n",
       "41004       0.0  0.000000  0.000000  0.000000  0.283934  0.000000  "
      ]
     },
     "execution_count": 114,
     "metadata": {},
     "output_type": "execute_result"
    }
   ],
   "source": [
    "theta = best_model.transform(batch_vectorizer=batch_vectorizer)\n",
    "theta = theta.T\n",
    "theta.head()"
   ]
  },
  {
   "cell_type": "code",
   "execution_count": null,
   "metadata": {},
   "outputs": [],
   "source": []
  },
  {
   "cell_type": "markdown",
   "metadata": {},
   "source": [
    "## DataViz"
   ]
  },
  {
   "cell_type": "code",
   "execution_count": 115,
   "metadata": {
    "ExecuteTime": {
     "end_time": "2019-02-12T23:29:50.416240Z",
     "start_time": "2019-02-12T23:29:50.396337Z"
    }
   },
   "outputs": [
    {
     "data": {
      "text/html": [
       "<div>\n",
       "<style scoped>\n",
       "    .dataframe tbody tr th:only-of-type {\n",
       "        vertical-align: middle;\n",
       "    }\n",
       "\n",
       "    .dataframe tbody tr th {\n",
       "        vertical-align: top;\n",
       "    }\n",
       "\n",
       "    .dataframe thead th {\n",
       "        text-align: right;\n",
       "    }\n",
       "</style>\n",
       "<table border=\"1\" class=\"dataframe\">\n",
       "  <thead>\n",
       "    <tr style=\"text-align: right;\">\n",
       "      <th></th>\n",
       "      <th>docID</th>\n",
       "      <th>year</th>\n",
       "      <th>month</th>\n",
       "      <th>topic_0</th>\n",
       "      <th>topic_1</th>\n",
       "      <th>topic_2</th>\n",
       "      <th>topic_3</th>\n",
       "      <th>topic_4</th>\n",
       "      <th>topic_5</th>\n",
       "      <th>topic_6</th>\n",
       "      <th>...</th>\n",
       "      <th>topic_10</th>\n",
       "      <th>topic_11</th>\n",
       "      <th>topic_12</th>\n",
       "      <th>topic_13</th>\n",
       "      <th>topic_14</th>\n",
       "      <th>topic_15</th>\n",
       "      <th>topic_16</th>\n",
       "      <th>topic_17</th>\n",
       "      <th>topic_18</th>\n",
       "      <th>topic_19</th>\n",
       "    </tr>\n",
       "  </thead>\n",
       "  <tbody>\n",
       "    <tr>\n",
       "      <th>0</th>\n",
       "      <td>0</td>\n",
       "      <td>2008</td>\n",
       "      <td>2</td>\n",
       "      <td>0.519572</td>\n",
       "      <td>0.405352</td>\n",
       "      <td>0.0</td>\n",
       "      <td>0.0</td>\n",
       "      <td>0.0</td>\n",
       "      <td>0.0</td>\n",
       "      <td>0.0</td>\n",
       "      <td>...</td>\n",
       "      <td>0.000000</td>\n",
       "      <td>0.000000</td>\n",
       "      <td>0.030625</td>\n",
       "      <td>0.000000</td>\n",
       "      <td>0.0</td>\n",
       "      <td>0.000000</td>\n",
       "      <td>0.000000</td>\n",
       "      <td>0.000000</td>\n",
       "      <td>0.000000</td>\n",
       "      <td>0.000000</td>\n",
       "    </tr>\n",
       "    <tr>\n",
       "      <th>1</th>\n",
       "      <td>1</td>\n",
       "      <td>2008</td>\n",
       "      <td>2</td>\n",
       "      <td>0.033068</td>\n",
       "      <td>0.000000</td>\n",
       "      <td>0.0</td>\n",
       "      <td>0.0</td>\n",
       "      <td>0.0</td>\n",
       "      <td>0.0</td>\n",
       "      <td>0.0</td>\n",
       "      <td>...</td>\n",
       "      <td>0.000000</td>\n",
       "      <td>0.000000</td>\n",
       "      <td>0.338184</td>\n",
       "      <td>0.569368</td>\n",
       "      <td>0.0</td>\n",
       "      <td>0.000000</td>\n",
       "      <td>0.000000</td>\n",
       "      <td>0.000000</td>\n",
       "      <td>0.000000</td>\n",
       "      <td>0.059380</td>\n",
       "    </tr>\n",
       "    <tr>\n",
       "      <th>2</th>\n",
       "      <td>2</td>\n",
       "      <td>2008</td>\n",
       "      <td>2</td>\n",
       "      <td>0.000000</td>\n",
       "      <td>0.301418</td>\n",
       "      <td>0.0</td>\n",
       "      <td>0.0</td>\n",
       "      <td>0.0</td>\n",
       "      <td>0.0</td>\n",
       "      <td>0.0</td>\n",
       "      <td>...</td>\n",
       "      <td>0.000000</td>\n",
       "      <td>0.067513</td>\n",
       "      <td>0.000000</td>\n",
       "      <td>0.159203</td>\n",
       "      <td>0.0</td>\n",
       "      <td>0.000000</td>\n",
       "      <td>0.000000</td>\n",
       "      <td>0.038538</td>\n",
       "      <td>0.000000</td>\n",
       "      <td>0.000000</td>\n",
       "    </tr>\n",
       "    <tr>\n",
       "      <th>3</th>\n",
       "      <td>3</td>\n",
       "      <td>2008</td>\n",
       "      <td>2</td>\n",
       "      <td>0.000000</td>\n",
       "      <td>0.000000</td>\n",
       "      <td>0.0</td>\n",
       "      <td>0.0</td>\n",
       "      <td>0.0</td>\n",
       "      <td>0.0</td>\n",
       "      <td>0.0</td>\n",
       "      <td>...</td>\n",
       "      <td>0.245113</td>\n",
       "      <td>0.343213</td>\n",
       "      <td>0.000000</td>\n",
       "      <td>0.078473</td>\n",
       "      <td>0.0</td>\n",
       "      <td>0.096704</td>\n",
       "      <td>0.034807</td>\n",
       "      <td>0.021621</td>\n",
       "      <td>0.000000</td>\n",
       "      <td>0.012089</td>\n",
       "    </tr>\n",
       "    <tr>\n",
       "      <th>4</th>\n",
       "      <td>4</td>\n",
       "      <td>2008</td>\n",
       "      <td>2</td>\n",
       "      <td>0.000000</td>\n",
       "      <td>0.000000</td>\n",
       "      <td>0.0</td>\n",
       "      <td>0.0</td>\n",
       "      <td>0.0</td>\n",
       "      <td>0.0</td>\n",
       "      <td>0.0</td>\n",
       "      <td>...</td>\n",
       "      <td>0.679660</td>\n",
       "      <td>0.146209</td>\n",
       "      <td>0.000000</td>\n",
       "      <td>0.000000</td>\n",
       "      <td>0.0</td>\n",
       "      <td>0.047316</td>\n",
       "      <td>0.022219</td>\n",
       "      <td>0.000000</td>\n",
       "      <td>0.018469</td>\n",
       "      <td>0.000000</td>\n",
       "    </tr>\n",
       "  </tbody>\n",
       "</table>\n",
       "<p>5 rows × 23 columns</p>\n",
       "</div>"
      ],
      "text/plain": [
       "   docID  year  month   topic_0   topic_1  topic_2  topic_3  topic_4  topic_5  \\\n",
       "0      0  2008      2  0.519572  0.405352      0.0      0.0      0.0      0.0   \n",
       "1      1  2008      2  0.033068  0.000000      0.0      0.0      0.0      0.0   \n",
       "2      2  2008      2  0.000000  0.301418      0.0      0.0      0.0      0.0   \n",
       "3      3  2008      2  0.000000  0.000000      0.0      0.0      0.0      0.0   \n",
       "4      4  2008      2  0.000000  0.000000      0.0      0.0      0.0      0.0   \n",
       "\n",
       "   topic_6    ...     topic_10  topic_11  topic_12  topic_13  topic_14  \\\n",
       "0      0.0    ...     0.000000  0.000000  0.030625  0.000000       0.0   \n",
       "1      0.0    ...     0.000000  0.000000  0.338184  0.569368       0.0   \n",
       "2      0.0    ...     0.000000  0.067513  0.000000  0.159203       0.0   \n",
       "3      0.0    ...     0.245113  0.343213  0.000000  0.078473       0.0   \n",
       "4      0.0    ...     0.679660  0.146209  0.000000  0.000000       0.0   \n",
       "\n",
       "   topic_15  topic_16  topic_17  topic_18  topic_19  \n",
       "0  0.000000  0.000000  0.000000  0.000000  0.000000  \n",
       "1  0.000000  0.000000  0.000000  0.000000  0.059380  \n",
       "2  0.000000  0.000000  0.038538  0.000000  0.000000  \n",
       "3  0.096704  0.034807  0.021621  0.000000  0.012089  \n",
       "4  0.047316  0.022219  0.000000  0.018469  0.000000  \n",
       "\n",
       "[5 rows x 23 columns]"
      ]
     },
     "execution_count": 115,
     "metadata": {},
     "output_type": "execute_result"
    }
   ],
   "source": [
    "joined = id_date.join(theta)\n",
    "joined.head()"
   ]
  },
  {
   "cell_type": "code",
   "execution_count": 116,
   "metadata": {
    "ExecuteTime": {
     "end_time": "2019-02-12T23:29:50.719224Z",
     "start_time": "2019-02-12T23:29:50.694102Z"
    }
   },
   "outputs": [
    {
     "name": "stdout",
     "output_type": "stream",
     "text": [
      "gb.shape: (132, 20)\n"
     ]
    },
    {
     "data": {
      "text/html": [
       "<div>\n",
       "<style scoped>\n",
       "    .dataframe tbody tr th:only-of-type {\n",
       "        vertical-align: middle;\n",
       "    }\n",
       "\n",
       "    .dataframe tbody tr th {\n",
       "        vertical-align: top;\n",
       "    }\n",
       "\n",
       "    .dataframe thead th {\n",
       "        text-align: right;\n",
       "    }\n",
       "</style>\n",
       "<table border=\"1\" class=\"dataframe\">\n",
       "  <thead>\n",
       "    <tr style=\"text-align: right;\">\n",
       "      <th></th>\n",
       "      <th></th>\n",
       "      <th>topic_0</th>\n",
       "      <th>topic_1</th>\n",
       "      <th>topic_2</th>\n",
       "      <th>topic_3</th>\n",
       "      <th>topic_4</th>\n",
       "      <th>topic_5</th>\n",
       "      <th>topic_6</th>\n",
       "      <th>topic_7</th>\n",
       "      <th>topic_8</th>\n",
       "      <th>topic_9</th>\n",
       "      <th>topic_10</th>\n",
       "      <th>topic_11</th>\n",
       "      <th>topic_12</th>\n",
       "      <th>topic_13</th>\n",
       "      <th>topic_14</th>\n",
       "      <th>topic_15</th>\n",
       "      <th>topic_16</th>\n",
       "      <th>topic_17</th>\n",
       "      <th>topic_18</th>\n",
       "      <th>topic_19</th>\n",
       "    </tr>\n",
       "    <tr>\n",
       "      <th>year</th>\n",
       "      <th>month</th>\n",
       "      <th></th>\n",
       "      <th></th>\n",
       "      <th></th>\n",
       "      <th></th>\n",
       "      <th></th>\n",
       "      <th></th>\n",
       "      <th></th>\n",
       "      <th></th>\n",
       "      <th></th>\n",
       "      <th></th>\n",
       "      <th></th>\n",
       "      <th></th>\n",
       "      <th></th>\n",
       "      <th></th>\n",
       "      <th></th>\n",
       "      <th></th>\n",
       "      <th></th>\n",
       "      <th></th>\n",
       "      <th></th>\n",
       "      <th></th>\n",
       "    </tr>\n",
       "  </thead>\n",
       "  <tbody>\n",
       "    <tr>\n",
       "      <th rowspan=\"5\" valign=\"top\">2008</th>\n",
       "      <th>2</th>\n",
       "      <td>5.838182</td>\n",
       "      <td>3.734503</td>\n",
       "      <td>1.097257</td>\n",
       "      <td>2.267316</td>\n",
       "      <td>2.385306</td>\n",
       "      <td>8.561080</td>\n",
       "      <td>1.094172</td>\n",
       "      <td>6.542065</td>\n",
       "      <td>13.785897</td>\n",
       "      <td>0.994456</td>\n",
       "      <td>8.012558</td>\n",
       "      <td>13.406316</td>\n",
       "      <td>1.491383</td>\n",
       "      <td>9.750027</td>\n",
       "      <td>0.463645</td>\n",
       "      <td>10.999711</td>\n",
       "      <td>4.202811</td>\n",
       "      <td>6.079492</td>\n",
       "      <td>3.317644</td>\n",
       "      <td>1.976181</td>\n",
       "    </tr>\n",
       "    <tr>\n",
       "      <th>3</th>\n",
       "      <td>25.404516</td>\n",
       "      <td>11.987864</td>\n",
       "      <td>8.760561</td>\n",
       "      <td>10.875925</td>\n",
       "      <td>10.579148</td>\n",
       "      <td>13.373359</td>\n",
       "      <td>6.994673</td>\n",
       "      <td>20.825802</td>\n",
       "      <td>25.839096</td>\n",
       "      <td>7.953357</td>\n",
       "      <td>22.600246</td>\n",
       "      <td>34.609940</td>\n",
       "      <td>17.510969</td>\n",
       "      <td>46.690697</td>\n",
       "      <td>1.737918</td>\n",
       "      <td>34.465317</td>\n",
       "      <td>15.686100</td>\n",
       "      <td>29.755877</td>\n",
       "      <td>9.928105</td>\n",
       "      <td>7.420531</td>\n",
       "    </tr>\n",
       "    <tr>\n",
       "      <th>4</th>\n",
       "      <td>16.606512</td>\n",
       "      <td>13.247094</td>\n",
       "      <td>3.453729</td>\n",
       "      <td>19.868088</td>\n",
       "      <td>7.948467</td>\n",
       "      <td>19.145876</td>\n",
       "      <td>5.710406</td>\n",
       "      <td>17.468575</td>\n",
       "      <td>20.011925</td>\n",
       "      <td>9.514665</td>\n",
       "      <td>14.722031</td>\n",
       "      <td>39.479385</td>\n",
       "      <td>11.281208</td>\n",
       "      <td>47.593861</td>\n",
       "      <td>1.991424</td>\n",
       "      <td>38.498680</td>\n",
       "      <td>18.892958</td>\n",
       "      <td>18.230680</td>\n",
       "      <td>8.812634</td>\n",
       "      <td>8.521808</td>\n",
       "    </tr>\n",
       "    <tr>\n",
       "      <th>5</th>\n",
       "      <td>13.352858</td>\n",
       "      <td>11.554200</td>\n",
       "      <td>4.728561</td>\n",
       "      <td>33.571854</td>\n",
       "      <td>9.428657</td>\n",
       "      <td>23.967989</td>\n",
       "      <td>9.028077</td>\n",
       "      <td>32.014317</td>\n",
       "      <td>29.237438</td>\n",
       "      <td>9.817869</td>\n",
       "      <td>12.447556</td>\n",
       "      <td>50.270226</td>\n",
       "      <td>12.144541</td>\n",
       "      <td>51.902195</td>\n",
       "      <td>3.208129</td>\n",
       "      <td>41.891251</td>\n",
       "      <td>22.754627</td>\n",
       "      <td>21.076851</td>\n",
       "      <td>15.662666</td>\n",
       "      <td>7.940143</td>\n",
       "    </tr>\n",
       "    <tr>\n",
       "      <th>6</th>\n",
       "      <td>13.571748</td>\n",
       "      <td>12.421545</td>\n",
       "      <td>4.405662</td>\n",
       "      <td>19.220165</td>\n",
       "      <td>6.373638</td>\n",
       "      <td>14.387038</td>\n",
       "      <td>9.005835</td>\n",
       "      <td>41.015163</td>\n",
       "      <td>13.530711</td>\n",
       "      <td>6.729119</td>\n",
       "      <td>13.870145</td>\n",
       "      <td>36.174065</td>\n",
       "      <td>12.551292</td>\n",
       "      <td>42.998917</td>\n",
       "      <td>1.475783</td>\n",
       "      <td>38.989090</td>\n",
       "      <td>20.001785</td>\n",
       "      <td>11.605062</td>\n",
       "      <td>8.167574</td>\n",
       "      <td>7.505667</td>\n",
       "    </tr>\n",
       "  </tbody>\n",
       "</table>\n",
       "</div>"
      ],
      "text/plain": [
       "              topic_0    topic_1   topic_2    topic_3    topic_4    topic_5  \\\n",
       "year month                                                                    \n",
       "2008 2       5.838182   3.734503  1.097257   2.267316   2.385306   8.561080   \n",
       "     3      25.404516  11.987864  8.760561  10.875925  10.579148  13.373359   \n",
       "     4      16.606512  13.247094  3.453729  19.868088   7.948467  19.145876   \n",
       "     5      13.352858  11.554200  4.728561  33.571854   9.428657  23.967989   \n",
       "     6      13.571748  12.421545  4.405662  19.220165   6.373638  14.387038   \n",
       "\n",
       "             topic_6    topic_7    topic_8   topic_9   topic_10   topic_11  \\\n",
       "year month                                                                   \n",
       "2008 2      1.094172   6.542065  13.785897  0.994456   8.012558  13.406316   \n",
       "     3      6.994673  20.825802  25.839096  7.953357  22.600246  34.609940   \n",
       "     4      5.710406  17.468575  20.011925  9.514665  14.722031  39.479385   \n",
       "     5      9.028077  32.014317  29.237438  9.817869  12.447556  50.270226   \n",
       "     6      9.005835  41.015163  13.530711  6.729119  13.870145  36.174065   \n",
       "\n",
       "             topic_12   topic_13  topic_14   topic_15   topic_16   topic_17  \\\n",
       "year month                                                                    \n",
       "2008 2       1.491383   9.750027  0.463645  10.999711   4.202811   6.079492   \n",
       "     3      17.510969  46.690697  1.737918  34.465317  15.686100  29.755877   \n",
       "     4      11.281208  47.593861  1.991424  38.498680  18.892958  18.230680   \n",
       "     5      12.144541  51.902195  3.208129  41.891251  22.754627  21.076851   \n",
       "     6      12.551292  42.998917  1.475783  38.989090  20.001785  11.605062   \n",
       "\n",
       "             topic_18  topic_19  \n",
       "year month                       \n",
       "2008 2       3.317644  1.976181  \n",
       "     3       9.928105  7.420531  \n",
       "     4       8.812634  8.521808  \n",
       "     5      15.662666  7.940143  \n",
       "     6       8.167574  7.505667  "
      ]
     },
     "execution_count": 116,
     "metadata": {},
     "output_type": "execute_result"
    }
   ],
   "source": [
    "topics = ['topic_{}'.format(i) for i in range(select_topics)]\n",
    "gb = joined.groupby(['year', 'month'])[topics].sum()\n",
    "print(f'gb.shape: {gb.shape}')\n",
    "gb.head()"
   ]
  },
  {
   "cell_type": "markdown",
   "metadata": {},
   "source": [
    "### straightforward matrix heatmap"
   ]
  },
  {
   "cell_type": "code",
   "execution_count": 132,
   "metadata": {
    "ExecuteTime": {
     "end_time": "2019-02-12T23:36:06.170019Z",
     "start_time": "2019-02-12T23:36:05.923630Z"
    },
    "scrolled": true
   },
   "outputs": [
    {
     "data": {
      "text/plain": [
       "<matplotlib.image.AxesImage at 0x7fd6f303da90>"
      ]
     },
     "execution_count": 132,
     "metadata": {},
     "output_type": "execute_result"
    },
    {
     "data": {
      "image/png": "[encoded data removed]",
      "text/plain": [
       "<Figure size 360x1800 with 1 Axes>"
      ]
     },
     "metadata": {
      "needs_background": "light"
     },
     "output_type": "display_data"
    }
   ],
   "source": [
    "plt.figure(figsize=(5, 25))\n",
    "plt.imshow(gb[topics])"
   ]
  },
  {
   "cell_type": "code",
   "execution_count": null,
   "metadata": {},
   "outputs": [],
   "source": []
  },
  {
   "cell_type": "markdown",
   "metadata": {},
   "source": [
    "## pygal"
   ]
  },
  {
   "cell_type": "code",
   "execution_count": 118,
   "metadata": {
    "ExecuteTime": {
     "end_time": "2019-02-12T23:29:57.962251Z",
     "start_time": "2019-02-12T23:29:57.925808Z"
    }
   },
   "outputs": [],
   "source": [
    "import pygal\n",
    "from IPython.display import SVG, HTML"
   ]
  },
  {
   "cell_type": "code",
   "execution_count": 119,
   "metadata": {
    "ExecuteTime": {
     "end_time": "2019-02-12T23:29:58.199839Z",
     "start_time": "2019-02-12T23:29:58.197484Z"
    }
   },
   "outputs": [],
   "source": [
    "html_pygal = \"\"\"\n",
    "<!DOCTYPE html>\n",
    "<html>\n",
    "  <head>\n",
    "  <script type=\"text/javascript\" src=\"http://kozea.github.com/pygal.js/javascripts/svg.jquery.js\"></script>\n",
    "  <script type=\"text/javascript\" src=\"http://kozea.github.com/pygal.js/javascripts/pygal-tooltips.js\"></script>\n",
    "    <!-- ... -->\n",
    "  </head>\n",
    "  <body>\n",
    "    <figure>\n",
    "      {pygal_render}\n",
    "    </figure>\n",
    "  </body>\n",
    "</html>\n",
    "\"\"\""
   ]
  },
  {
   "cell_type": "code",
   "execution_count": 120,
   "metadata": {
    "ExecuteTime": {
     "end_time": "2019-02-12T23:29:58.640005Z",
     "start_time": "2019-02-12T23:29:58.636691Z"
    },
    "scrolled": true
   },
   "outputs": [
    {
     "data": {
      "text/plain": [
       "97.47124"
      ]
     },
     "execution_count": 120,
     "metadata": {},
     "output_type": "execute_result"
    }
   ],
   "source": [
    "max(gb['topic_1'].values)"
   ]
  },
  {
   "cell_type": "code",
   "execution_count": 121,
   "metadata": {
    "ExecuteTime": {
     "end_time": "2019-02-12T23:29:59.168342Z",
     "start_time": "2019-02-12T23:29:59.099126Z"
    },
    "scrolled": false
   },
   "outputs": [
    {
     "data": {
      "text/html": [
       "\n",
       "<!DOCTYPE html>\n",
       "<html>\n",
       "  <head>\n",
       "  <script type=\"text/javascript\" src=\"http://kozea.github.com/pygal.js/javascripts/svg.jquery.js\"></script>\n",
       "  <script type=\"text/javascript\" src=\"http://kozea.github.com/pygal.js/javascripts/pygal-tooltips.js\"></script>\n",
       "    <!-- ... -->\n",
       "  </head>\n",
       "  <body>\n",
       "    <figure>\n",
       "      <?xml version='1.0' encoding='utf-8'?>\n",
       "<svg xmlns:xlink=\"http://www.w3.org/1999/xlink\" xmlns=\"http://www.w3.org/2000/svg\" id=\"chart-f9efe59e-0712-46f1-80b2-63b418fe540f\" class=\"pygal-chart\" viewBox=\"0 0 800 600\"><!--Generated with pygal 2.4.0 (lxml) ©Kozea 2012-2016 on 2019-02-13--><!--http://pygal.org--><!--http://github.com/Kozea/pygal--><defs><style type=\"text/css\">#chart-f9efe59e-0712-46f1-80b2-63b418fe540f{-webkit-user-select:none;-webkit-font-smoothing:antialiased;font-family:Consolas,\"Liberation Mono\",Menlo,Courier,monospace}#chart-f9efe59e-0712-46f1-80b2-63b418fe540f .title{font-family:Consolas,\"Liberation Mono\",Menlo,Courier,monospace;font-size:16px}#chart-f9efe59e-0712-46f1-80b2-63b418fe540f .legends .legend text{font-family:Consolas,\"Liberation Mono\",Menlo,Courier,monospace;font-size:14px}#chart-f9efe59e-0712-46f1-80b2-63b418fe540f .axis text{font-family:Consolas,\"Liberation Mono\",Menlo,Courier,monospace;font-size:10px}#chart-f9efe59e-0712-46f1-80b2-63b418fe540f .axis text.major{font-family:Consolas,\"Liberation Mono\",Menlo,Courier,monospace;font-size:10px}#chart-f9efe59e-0712-46f1-80b2-63b418fe540f .text-overlay text.value{font-family:Consolas,\"Liberation Mono\",Menlo,Courier,monospace;font-size:16px}#chart-f9efe59e-0712-46f1-80b2-63b418fe540f .text-overlay text.label{font-family:Consolas,\"Liberation Mono\",Menlo,Courier,monospace;font-size:10px}#chart-f9efe59e-0712-46f1-80b2-63b418fe540f .tooltip{font-family:Consolas,\"Liberation Mono\",Menlo,Courier,monospace;font-size:14px}#chart-f9efe59e-0712-46f1-80b2-63b418fe540f text.no_data{font-family:Consolas,\"Liberation Mono\",Menlo,Courier,monospace;font-size:64px}\n",
       "#chart-f9efe59e-0712-46f1-80b2-63b418fe540f{background-color:rgba(249,249,249,1)}#chart-f9efe59e-0712-46f1-80b2-63b418fe540f path,#chart-f9efe59e-0712-46f1-80b2-63b418fe540f line,#chart-f9efe59e-0712-46f1-80b2-63b418fe540f rect,#chart-f9efe59e-0712-46f1-80b2-63b418fe540f circle{-webkit-transition:150ms;-moz-transition:150ms;transition:150ms}#chart-f9efe59e-0712-46f1-80b2-63b418fe540f .graph &gt; .background{fill:rgba(249,249,249,1)}#chart-f9efe59e-0712-46f1-80b2-63b418fe540f .plot &gt; .background{fill:rgba(255,255,255,1)}#chart-f9efe59e-0712-46f1-80b2-63b418fe540f .graph{fill:rgba(0,0,0,.87)}#chart-f9efe59e-0712-46f1-80b2-63b418fe540f text.no_data{fill:rgba(0,0,0,1)}#chart-f9efe59e-0712-46f1-80b2-63b418fe540f .title{fill:rgba(0,0,0,1)}#chart-f9efe59e-0712-46f1-80b2-63b418fe540f .legends .legend text{fill:rgba(0,0,0,.87)}#chart-f9efe59e-0712-46f1-80b2-63b418fe540f .legends .legend:hover text{fill:rgba(0,0,0,1)}#chart-f9efe59e-0712-46f1-80b2-63b418fe540f .axis .line{stroke:rgba(0,0,0,1)}#chart-f9efe59e-0712-46f1-80b2-63b418fe540f .axis .guide.line{stroke:rgba(0,0,0,.54)}#chart-f9efe59e-0712-46f1-80b2-63b418fe540f .axis .major.line{stroke:rgba(0,0,0,.87)}#chart-f9efe59e-0712-46f1-80b2-63b418fe540f .axis text.major{fill:rgba(0,0,0,1)}#chart-f9efe59e-0712-46f1-80b2-63b418fe540f .axis.y .guides:hover .guide.line,#chart-f9efe59e-0712-46f1-80b2-63b418fe540f .line-graph .axis.x .guides:hover .guide.line,#chart-f9efe59e-0712-46f1-80b2-63b418fe540f .stackedline-graph .axis.x .guides:hover .guide.line,#chart-f9efe59e-0712-46f1-80b2-63b418fe540f .xy-graph .axis.x .guides:hover .guide.line{stroke:rgba(0,0,0,1)}#chart-f9efe59e-0712-46f1-80b2-63b418fe540f .axis .guides:hover text{fill:rgba(0,0,0,1)}#chart-f9efe59e-0712-46f1-80b2-63b418fe540f .reactive{fill-opacity:.7;stroke-opacity:.8}#chart-f9efe59e-0712-46f1-80b2-63b418fe540f .ci{stroke:rgba(0,0,0,.87)}#chart-f9efe59e-0712-46f1-80b2-63b418fe540f .reactive.active,#chart-f9efe59e-0712-46f1-80b2-63b418fe540f .active .reactive{fill-opacity:.8;stroke-opacity:.9;stroke-width:4}#chart-f9efe59e-0712-46f1-80b2-63b418fe540f .ci .reactive.active{stroke-width:1.5}#chart-f9efe59e-0712-46f1-80b2-63b418fe540f .series text{fill:rgba(0,0,0,1)}#chart-f9efe59e-0712-46f1-80b2-63b418fe540f .tooltip rect{fill:rgba(255,255,255,1);stroke:rgba(0,0,0,1);-webkit-transition:opacity 150ms;-moz-transition:opacity 150ms;transition:opacity 150ms}#chart-f9efe59e-0712-46f1-80b2-63b418fe540f .tooltip .label{fill:rgba(0,0,0,.87)}#chart-f9efe59e-0712-46f1-80b2-63b418fe540f .tooltip .label{fill:rgba(0,0,0,.87)}#chart-f9efe59e-0712-46f1-80b2-63b418fe540f .tooltip .legend{font-size:.8em;fill:rgba(0,0,0,.54)}#chart-f9efe59e-0712-46f1-80b2-63b418fe540f .tooltip .x_label{font-size:.6em;fill:rgba(0,0,0,1)}#chart-f9efe59e-0712-46f1-80b2-63b418fe540f .tooltip .xlink{font-size:.5em;text-decoration:underline}#chart-f9efe59e-0712-46f1-80b2-63b418fe540f .tooltip .value{font-size:1.5em}#chart-f9efe59e-0712-46f1-80b2-63b418fe540f .bound{font-size:.5em}#chart-f9efe59e-0712-46f1-80b2-63b418fe540f .max-value{font-size:.75em;fill:rgba(0,0,0,.54)}#chart-f9efe59e-0712-46f1-80b2-63b418fe540f .map-element{fill:rgba(255,255,255,1);stroke:rgba(0,0,0,.54) !important}#chart-f9efe59e-0712-46f1-80b2-63b418fe540f .map-element .reactive{fill-opacity:inherit;stroke-opacity:inherit}#chart-f9efe59e-0712-46f1-80b2-63b418fe540f .color-0,#chart-f9efe59e-0712-46f1-80b2-63b418fe540f .color-0 a:visited{stroke:#f44336;fill:#f44336}#chart-f9efe59e-0712-46f1-80b2-63b418fe540f .color-1,#chart-f9efe59e-0712-46f1-80b2-63b418fe540f .color-1 a:visited{stroke:#3f51b5;fill:#3f51b5}#chart-f9efe59e-0712-46f1-80b2-63b418fe540f .color-2,#chart-f9efe59e-0712-46f1-80b2-63b418fe540f .color-2 a:visited{stroke:#009688;fill:#009688}#chart-f9efe59e-0712-46f1-80b2-63b418fe540f .color-3,#chart-f9efe59e-0712-46f1-80b2-63b418fe540f .color-3 a:visited{stroke:#ffc107;fill:#ffc107}#chart-f9efe59e-0712-46f1-80b2-63b418fe540f .color-4,#chart-f9efe59e-0712-46f1-80b2-63b418fe540f .color-4 a:visited{stroke:#ff5722;fill:#ff5722}#chart-f9efe59e-0712-46f1-80b2-63b418fe540f .color-5,#chart-f9efe59e-0712-46f1-80b2-63b418fe540f .color-5 a:visited{stroke:#9c27b0;fill:#9c27b0}#chart-f9efe59e-0712-46f1-80b2-63b418fe540f .color-6,#chart-f9efe59e-0712-46f1-80b2-63b418fe540f .color-6 a:visited{stroke:#03a9f4;fill:#03a9f4}#chart-f9efe59e-0712-46f1-80b2-63b418fe540f .color-7,#chart-f9efe59e-0712-46f1-80b2-63b418fe540f .color-7 a:visited{stroke:#8bc34a;fill:#8bc34a}#chart-f9efe59e-0712-46f1-80b2-63b418fe540f .color-8,#chart-f9efe59e-0712-46f1-80b2-63b418fe540f .color-8 a:visited{stroke:#ff9800;fill:#ff9800}#chart-f9efe59e-0712-46f1-80b2-63b418fe540f .color-9,#chart-f9efe59e-0712-46f1-80b2-63b418fe540f .color-9 a:visited{stroke:#e91e63;fill:#e91e63}#chart-f9efe59e-0712-46f1-80b2-63b418fe540f .color-10,#chart-f9efe59e-0712-46f1-80b2-63b418fe540f .color-10 a:visited{stroke:#2196f3;fill:#2196f3}#chart-f9efe59e-0712-46f1-80b2-63b418fe540f .color-11,#chart-f9efe59e-0712-46f1-80b2-63b418fe540f .color-11 a:visited{stroke:#4caf50;fill:#4caf50}#chart-f9efe59e-0712-46f1-80b2-63b418fe540f .color-12,#chart-f9efe59e-0712-46f1-80b2-63b418fe540f .color-12 a:visited{stroke:#ffeb3b;fill:#ffeb3b}#chart-f9efe59e-0712-46f1-80b2-63b418fe540f .color-13,#chart-f9efe59e-0712-46f1-80b2-63b418fe540f .color-13 a:visited{stroke:#673ab7;fill:#673ab7}#chart-f9efe59e-0712-46f1-80b2-63b418fe540f .color-14,#chart-f9efe59e-0712-46f1-80b2-63b418fe540f .color-14 a:visited{stroke:#00bcd4;fill:#00bcd4}#chart-f9efe59e-0712-46f1-80b2-63b418fe540f .color-15,#chart-f9efe59e-0712-46f1-80b2-63b418fe540f .color-15 a:visited{stroke:#cddc39;fill:#cddc39}#chart-f9efe59e-0712-46f1-80b2-63b418fe540f .color-16,#chart-f9efe59e-0712-46f1-80b2-63b418fe540f .color-16 a:visited{stroke:#9e9e9e;fill:#9e9e9e}#chart-f9efe59e-0712-46f1-80b2-63b418fe540f .color-17,#chart-f9efe59e-0712-46f1-80b2-63b418fe540f .color-17 a:visited{stroke:#607d8b;fill:#607d8b}#chart-f9efe59e-0712-46f1-80b2-63b418fe540f .color-18,#chart-f9efe59e-0712-46f1-80b2-63b418fe540f .color-18 a:visited{stroke:#7b0f07;fill:#7b0f07}#chart-f9efe59e-0712-46f1-80b2-63b418fe540f .color-19,#chart-f9efe59e-0712-46f1-80b2-63b418fe540f .color-19 a:visited{stroke:#141938;fill:#141938}#chart-f9efe59e-0712-46f1-80b2-63b418fe540f .text-overlay .color-0 text{fill:black}#chart-f9efe59e-0712-46f1-80b2-63b418fe540f .text-overlay .color-1 text{fill:black}#chart-f9efe59e-0712-46f1-80b2-63b418fe540f .text-overlay .color-2 text{fill:black}#chart-f9efe59e-0712-46f1-80b2-63b418fe540f .text-overlay .color-3 text{fill:black}#chart-f9efe59e-0712-46f1-80b2-63b418fe540f .text-overlay .color-4 text{fill:black}#chart-f9efe59e-0712-46f1-80b2-63b418fe540f .text-overlay .color-5 text{fill:black}#chart-f9efe59e-0712-46f1-80b2-63b418fe540f .text-overlay .color-6 text{fill:black}#chart-f9efe59e-0712-46f1-80b2-63b418fe540f .text-overlay .color-7 text{fill:black}#chart-f9efe59e-0712-46f1-80b2-63b418fe540f .text-overlay .color-8 text{fill:black}#chart-f9efe59e-0712-46f1-80b2-63b418fe540f .text-overlay .color-9 text{fill:black}#chart-f9efe59e-0712-46f1-80b2-63b418fe540f .text-overlay .color-10 text{fill:black}#chart-f9efe59e-0712-46f1-80b2-63b418fe540f .text-overlay .color-11 text{fill:black}#chart-f9efe59e-0712-46f1-80b2-63b418fe540f .text-overlay .color-12 text{fill:black}#chart-f9efe59e-0712-46f1-80b2-63b418fe540f .text-overlay .color-13 text{fill:black}#chart-f9efe59e-0712-46f1-80b2-63b418fe540f .text-overlay .color-14 text{fill:black}#chart-f9efe59e-0712-46f1-80b2-63b418fe540f .text-overlay .color-15 text{fill:black}#chart-f9efe59e-0712-46f1-80b2-63b418fe540f .text-overlay .color-16 text{fill:black}#chart-f9efe59e-0712-46f1-80b2-63b418fe540f .text-overlay .color-17 text{fill:black}#chart-f9efe59e-0712-46f1-80b2-63b418fe540f .text-overlay .color-18 text{fill:black}#chart-f9efe59e-0712-46f1-80b2-63b418fe540f .text-overlay .color-19 text{fill:white}\n",
       "#chart-f9efe59e-0712-46f1-80b2-63b418fe540f text.no_data{text-anchor:middle}#chart-f9efe59e-0712-46f1-80b2-63b418fe540f .guide.line{fill:none}#chart-f9efe59e-0712-46f1-80b2-63b418fe540f .centered{text-anchor:middle}#chart-f9efe59e-0712-46f1-80b2-63b418fe540f .title{text-anchor:middle}#chart-f9efe59e-0712-46f1-80b2-63b418fe540f .legends .legend text{fill-opacity:1}#chart-f9efe59e-0712-46f1-80b2-63b418fe540f .axis.x text{text-anchor:middle}#chart-f9efe59e-0712-46f1-80b2-63b418fe540f .axis.x:not(.web) text[transform]{text-anchor:start}#chart-f9efe59e-0712-46f1-80b2-63b418fe540f .axis.x:not(.web) text[transform].backwards{text-anchor:end}#chart-f9efe59e-0712-46f1-80b2-63b418fe540f .axis.y text{text-anchor:end}#chart-f9efe59e-0712-46f1-80b2-63b418fe540f .axis.y text[transform].backwards{text-anchor:start}#chart-f9efe59e-0712-46f1-80b2-63b418fe540f .axis.y2 text{text-anchor:start}#chart-f9efe59e-0712-46f1-80b2-63b418fe540f .axis.y2 text[transform].backwards{text-anchor:end}#chart-f9efe59e-0712-46f1-80b2-63b418fe540f .axis .guide.line{stroke-dasharray:4,4}#chart-f9efe59e-0712-46f1-80b2-63b418fe540f .axis .major.guide.line{stroke-dasharray:6,6}#chart-f9efe59e-0712-46f1-80b2-63b418fe540f .horizontal .axis.y .guide.line,#chart-f9efe59e-0712-46f1-80b2-63b418fe540f .horizontal .axis.y2 .guide.line,#chart-f9efe59e-0712-46f1-80b2-63b418fe540f .vertical .axis.x .guide.line{opacity:0}#chart-f9efe59e-0712-46f1-80b2-63b418fe540f .horizontal .axis.always_show .guide.line,#chart-f9efe59e-0712-46f1-80b2-63b418fe540f .vertical .axis.always_show .guide.line{opacity:1 !important}#chart-f9efe59e-0712-46f1-80b2-63b418fe540f .axis.y .guides:hover .guide.line,#chart-f9efe59e-0712-46f1-80b2-63b418fe540f .axis.y2 .guides:hover .guide.line,#chart-f9efe59e-0712-46f1-80b2-63b418fe540f .axis.x .guides:hover .guide.line{opacity:1}#chart-f9efe59e-0712-46f1-80b2-63b418fe540f .axis .guides:hover text{opacity:1}#chart-f9efe59e-0712-46f1-80b2-63b418fe540f .nofill{fill:none}#chart-f9efe59e-0712-46f1-80b2-63b418fe540f .subtle-fill{fill-opacity:.2}#chart-f9efe59e-0712-46f1-80b2-63b418fe540f .dot{stroke-width:1px;fill-opacity:1}#chart-f9efe59e-0712-46f1-80b2-63b418fe540f .dot.active{stroke-width:5px}#chart-f9efe59e-0712-46f1-80b2-63b418fe540f .dot.negative{fill:transparent}#chart-f9efe59e-0712-46f1-80b2-63b418fe540f text,#chart-f9efe59e-0712-46f1-80b2-63b418fe540f tspan{stroke:none !important}#chart-f9efe59e-0712-46f1-80b2-63b418fe540f .series text.active{opacity:1}#chart-f9efe59e-0712-46f1-80b2-63b418fe540f .tooltip rect{fill-opacity:.95;stroke-width:.5}#chart-f9efe59e-0712-46f1-80b2-63b418fe540f .tooltip text{fill-opacity:1}#chart-f9efe59e-0712-46f1-80b2-63b418fe540f .showable{visibility:hidden}#chart-f9efe59e-0712-46f1-80b2-63b418fe540f .showable.shown{visibility:visible}#chart-f9efe59e-0712-46f1-80b2-63b418fe540f .gauge-background{fill:rgba(229,229,229,1);stroke:none}#chart-f9efe59e-0712-46f1-80b2-63b418fe540f .bg-lines{stroke:rgba(249,249,249,1);stroke-width:2px}</style><script type=\"text/javascript\">window.pygal = window.pygal || {};window.pygal.config = window.pygal.config || {};window.pygal.config['f9efe59e-0712-46f1-80b2-63b418fe540f'] = {\"allow_interruptions\": false, \"box_mode\": \"extremes\", \"classes\": [\"pygal-chart\"], \"css\": [\"file://style.css\", \"file://graph.css\"], \"defs\": [], \"disable_xml_declaration\": false, \"dots_size\": 2.5, \"dynamic_print_values\": false, \"explicit_size\": false, \"fill\": true, \"force_uri_protocol\": \"https\", \"formatter\": null, \"half_pie\": false, \"height\": 600, \"include_x_axis\": false, \"inner_radius\": 0, \"interpolate\": null, \"interpolation_parameters\": {}, \"interpolation_precision\": 250, \"inverse_y_axis\": false, \"js\": [\"//kozea.github.io/pygal.js/2.0.x/pygal-tooltips.min.js\"], \"legend_at_bottom\": false, \"legend_at_bottom_columns\": null, \"legend_box_size\": 12, \"logarithmic\": false, \"margin\": 20, \"margin_bottom\": null, \"margin_left\": null, \"margin_right\": null, \"margin_top\": null, \"max_scale\": 16, \"min_scale\": 4, \"missing_value_fill_truncation\": \"x\", \"no_data_text\": \"No data\", \"no_prefix\": false, \"order_min\": null, \"pretty_print\": false, \"print_labels\": false, \"print_values\": false, \"print_values_position\": \"center\", \"print_zeroes\": true, \"range\": null, \"rounded_bars\": null, \"secondary_range\": null, \"show_dots\": false, \"show_legend\": true, \"show_minor_x_labels\": true, \"show_minor_y_labels\": true, \"show_only_major_dots\": false, \"show_x_guides\": false, \"show_x_labels\": true, \"show_y_guides\": true, \"show_y_labels\": true, \"spacing\": 10, \"stack_from_top\": false, \"strict\": false, \"stroke\": true, \"stroke_style\": null, \"style\": {\"background\": \"rgba(249, 249, 249, 1)\", \"ci_colors\": [], \"colors\": [\"#F44336\", \"#3F51B5\", \"#009688\", \"#FFC107\", \"#FF5722\", \"#9C27B0\", \"#03A9F4\", \"#8BC34A\", \"#FF9800\", \"#E91E63\", \"#2196F3\", \"#4CAF50\", \"#FFEB3B\", \"#673AB7\", \"#00BCD4\", \"#CDDC39\", \"#9E9E9E\", \"#607D8B\"], \"font_family\": \"Consolas, \\\"Liberation Mono\\\", Menlo, Courier, monospace\", \"foreground\": \"rgba(0, 0, 0, .87)\", \"foreground_strong\": \"rgba(0, 0, 0, 1)\", \"foreground_subtle\": \"rgba(0, 0, 0, .54)\", \"guide_stroke_dasharray\": \"4,4\", \"label_font_family\": \"Consolas, \\\"Liberation Mono\\\", Menlo, Courier, monospace\", \"label_font_size\": 10, \"legend_font_family\": \"Consolas, \\\"Liberation Mono\\\", Menlo, Courier, monospace\", \"legend_font_size\": 14, \"major_guide_stroke_dasharray\": \"6,6\", \"major_label_font_family\": \"Consolas, \\\"Liberation Mono\\\", Menlo, Courier, monospace\", \"major_label_font_size\": 10, \"no_data_font_family\": \"Consolas, \\\"Liberation Mono\\\", Menlo, Courier, monospace\", \"no_data_font_size\": 64, \"opacity\": \".7\", \"opacity_hover\": \".8\", \"plot_background\": \"rgba(255, 255, 255, 1)\", \"stroke_opacity\": \".8\", \"stroke_opacity_hover\": \".9\", \"title_font_family\": \"Consolas, \\\"Liberation Mono\\\", Menlo, Courier, monospace\", \"title_font_size\": 16, \"tooltip_font_family\": \"Consolas, \\\"Liberation Mono\\\", Menlo, Courier, monospace\", \"tooltip_font_size\": 14, \"transition\": \"150ms\", \"value_background\": \"rgba(229, 229, 229, 1)\", \"value_colors\": [], \"value_font_family\": \"Consolas, \\\"Liberation Mono\\\", Menlo, Courier, monospace\", \"value_font_size\": 16, \"value_label_font_family\": \"Consolas, \\\"Liberation Mono\\\", Menlo, Courier, monospace\", \"value_label_font_size\": 10}, \"title\": \"Topics\", \"tooltip_border_radius\": 0, \"tooltip_fancy_mode\": true, \"truncate_label\": null, \"truncate_legend\": null, \"width\": 800, \"x_label_rotation\": 0, \"x_labels\": null, \"x_labels_major\": null, \"x_labels_major_count\": null, \"x_labels_major_every\": null, \"x_title\": null, \"xrange\": null, \"y_label_rotation\": 0, \"y_labels\": null, \"y_labels_major\": null, \"y_labels_major_count\": null, \"y_labels_major_every\": null, \"y_title\": null, \"zero\": 0, \"legends\": [\"topic_0\", \"topic_1\", \"topic_2\", \"topic_3\", \"topic_4\", \"topic_5\", \"topic_6\", \"topic_7\", \"topic_8\", \"topic_9\", \"topic_10\", \"topic_11\", \"topic_12\", \"topic_13\", \"topic_14\", \"topic_15\", \"topic_16\", \"topic_17\", \"topic_18\", \"topic_19\"]}</script><script type=\"text/javascript\" xlink:href=\"https://kozea.github.io/pygal.js/2.0.x/pygal-tooltips.min.js\"/></defs><title>Topics</title><g class=\"graph stackedline-graph vertical\"><rect class=\"background\" height=\"600\" width=\"800\" x=\"0\" y=\"0\"/><g class=\"plot\" transform=\"translate(143, 46)\"><rect class=\"background\" height=\"534\" width=\"636.8\" x=\"0\" y=\"0\"/><g class=\"axis y always_show\"><path class=\"line\" d=\"M0.000000 534.000000 h636.800000\"/><g class=\"guides\"><path class=\"guide line\" d=\"M0.000000 474.498143 h636.800000\"/><text class=\"\" x=\"-5\" y=\"477.99814313284014\">100</text><title>100</title></g><g class=\"guides\"><path class=\"guide line\" d=\"M0.000000 424.147937 h636.800000\"/><text class=\"\" x=\"-5\" y=\"427.6479366685907\">200</text><title>200</title></g><g class=\"guides\"><path class=\"guide line\" d=\"M0.000000 373.797730 h636.800000\"/><text class=\"\" x=\"-5\" y=\"377.2977302043413\">300</text><title>300</title></g><g class=\"guides\"><path class=\"guide line\" d=\"M0.000000 323.447524 h636.800000\"/><text class=\"\" x=\"-5\" y=\"326.9475237400919\">400</text><title>400</title></g><g class=\"guides\"><path class=\"major guide line\" d=\"M0.000000 273.097317 h636.800000\"/><text class=\"major\" x=\"-5\" y=\"276.5973172758425\">500</text><title>500</title></g><g class=\"guides\"><path class=\"guide line\" d=\"M0.000000 222.747111 h636.800000\"/><text class=\"\" x=\"-5\" y=\"226.24711081159313\">600</text><title>600</title></g><g class=\"guides\"><path class=\"guide line\" d=\"M0.000000 172.396904 h636.800000\"/><text class=\"\" x=\"-5\" y=\"175.8969043473437\">700</text><title>700</title></g><g class=\"guides\"><path class=\"guide line\" d=\"M0.000000 122.046698 h636.800000\"/><text class=\"\" x=\"-5\" y=\"125.54669788309434\">800</text><title>800</title></g><g class=\"guides\"><path class=\"guide line\" d=\"M0.000000 71.696491 h636.800000\"/><text class=\"\" x=\"-5\" y=\"75.19649141884491\">900</text><title>900</title></g><g class=\"guides\"><path class=\"major guide line\" d=\"M0.000000 21.346285 h636.800000\"/><text class=\"major\" x=\"-5\" y=\"24.846284954595603\">1000</text><title>1000</title></g></g><g class=\"series serie-0 color-0\"><path class=\"line reactive\" d=\"M12.246154 524.848350 L12.246154 521.908813 16.920258 512.057123 21.594363 516.486936 26.268467 518.125158 30.942572 518.014947 35.616676 515.315176 40.290781 512.324488 44.964885 513.814563 49.638990 511.715109 54.313095 513.200559 58.987199 511.540227 63.661304 491.394584 68.335408 510.174425 73.009513 515.222862 77.683617 512.643118 82.357722 518.096812 87.031826 517.534725 91.705931 519.806657 96.380035 516.938482 101.054140 519.811776 105.728244 518.347196 110.402349 518.104866 115.076453 518.784138 119.750558 517.750876 124.424662 520.715054 129.098767 519.527288 133.772871 516.502893 138.446976 519.699544 143.121080 517.491276 147.795185 518.992906 152.469289 520.058225 157.143394 518.050518 161.817499 519.264800 166.491603 522.678333 171.165708 521.219806 175.839812 521.875000 180.513917 523.175168 185.188021 522.842103 189.862126 521.658225 194.536230 521.562869 199.210335 520.147749 203.884439 519.311293 208.558544 522.244947 213.232648 519.309320 217.906753 520.084215 222.580857 518.071020 227.254962 521.927742 231.929066 521.994435 236.603171 518.965451 241.277275 520.880157 245.951380 521.981338 250.625484 523.153728 255.299589 523.125640 259.973693 522.768778 264.647798 523.730769 269.321903 522.175454 273.996007 522.332983 278.670112 522.947111 283.344216 521.818500 288.018321 522.183387 292.692425 520.751663 297.366530 521.174697 302.040634 522.081075 306.714739 522.355850 311.388843 523.220659 316.062948 522.415021 320.737052 522.370034 325.411157 521.523397 330.085261 520.647789 334.759366 517.533374 339.433470 517.173062 344.107575 521.041825 348.781679 515.560669 353.455784 503.711911 358.129888 507.115752 362.803993 512.979116 367.478097 513.004938 372.152202 508.929406 376.826307 510.042497 381.500411 511.908694 386.174516 511.280841 390.848620 511.444940 395.522725 501.724958 400.196829 508.688892 404.870934 500.059393 409.545038 499.342516 414.219143 498.952706 418.893247 507.894382 423.567352 493.321659 428.241456 501.963328 432.915561 503.940143 437.589665 504.400160 442.263770 514.312091 446.937874 512.510250 451.611979 508.839450 456.286083 513.809230 460.960188 512.059543 465.634292 515.686198 470.308397 509.132992 474.982501 515.911552 479.656606 512.530451 484.330711 509.315441 489.004815 513.286441 493.678920 516.898766 498.353024 517.208452 503.027129 519.390952 507.701233 517.356852 512.375338 519.086779 517.049442 512.055907 521.723547 505.360935 526.397651 515.176218 531.071756 517.769490 535.745860 515.602857 540.419965 520.147875 545.094069 517.615100 549.768174 520.051086 554.442278 520.394474 559.116383 521.037360 563.790487 519.632616 568.464592 518.401539 573.138696 519.381357 577.812801 519.078174 582.486905 516.953951 587.161010 517.649399 591.835115 518.541883 596.509219 514.363912 601.183324 518.195938 605.857428 519.865155 610.531533 518.889539 615.205637 516.569578 619.879742 518.568603 624.553846 520.599500 624.553846 524.848350\"/></g><g class=\"series serie-1 color-1\"><path class=\"line reactive\" d=\"M12.246154 520.028483 L16.920258 506.021209 21.594363 509.816997 26.268467 512.307595 30.942572 511.760673 35.616676 508.952266 40.290781 504.913321 44.964885 502.055705 49.638990 497.303304 54.313095 506.624149 58.987199 503.399218 63.661304 479.621814 68.335408 501.837023 73.009513 508.434162 77.683617 493.689875 82.357722 505.695429 87.031826 510.896589 91.705931 515.237746 96.380035 513.803268 101.054140 516.369686 105.728244 511.584914 110.402349 512.717641 115.076453 512.494509 119.750558 501.706696 124.424662 502.538969 129.098767 512.944692 133.772871 493.707543 138.446976 511.497915 143.121080 511.480786 147.795185 515.656097 152.469289 517.127212 157.143394 514.915317 161.817499 515.310636 166.491603 519.200033 171.165708 516.561649 175.839812 516.776539 180.513917 520.753041 185.188021 521.373570 189.862126 519.369254 194.536230 516.344964 199.210335 513.563002 203.884439 512.200763 208.558544 503.681612 213.232648 512.498237 217.906753 510.436592 222.580857 512.299934 227.254962 514.113648 231.929066 514.023363 236.603171 512.932742 241.277275 516.310050 245.951380 514.595327 250.625484 517.457828 255.299589 517.760922 259.973693 517.858578 264.647798 518.766238 269.321903 518.182607 273.996007 516.120337 278.670112 518.191417 283.344216 519.025658 288.018321 515.594452 292.692425 515.419807 297.366530 517.703232 302.040634 515.423595 306.714739 518.989943 311.388843 520.287274 316.062948 521.699445 320.737052 520.622170 325.411157 519.672780 330.085261 515.187965 334.759366 503.805070 339.433470 493.425823 344.107575 495.480790 348.781679 466.483700 353.455784 487.677458 358.129888 491.986600 362.803993 501.124306 367.478097 508.567102 372.152202 503.805445 376.826307 504.888344 381.500411 507.906696 386.174516 506.553596 390.848620 506.993081 395.522725 497.410797 400.196829 504.168770 404.870934 492.152197 409.545038 492.210055 414.219143 491.990272 418.893247 503.737409 423.567352 487.489287 428.241456 496.484084 432.915561 498.354902 437.589665 494.999718 442.263770 509.309521 446.937874 508.783146 451.611979 504.882172 456.286083 509.661212 460.960188 507.066181 465.634292 510.912371 470.308397 503.316462 474.982501 511.885244 479.656606 509.690712 484.330711 506.484321 489.004815 509.554208 493.678920 513.970495 498.353024 514.627899 503.027129 514.191903 507.701233 514.391079 512.375338 517.582185 517.049442 509.284205 521.723547 501.500390 526.397651 512.719138 531.071756 513.122402 535.745860 513.095515 540.419965 517.184318 545.094069 515.655039 549.768174 517.257507 554.442278 516.394136 559.116383 518.641176 563.790487 514.972040 568.464592 517.173643 573.138696 517.059465 577.812801 516.594778 582.486905 514.066355 587.161010 514.531952 591.835115 515.263391 596.509219 511.567241 601.183324 516.975841 605.857428 518.110936 610.531533 517.098885 615.205637 514.157564 619.879742 516.244947 624.553846 519.765547 624.553846 520.599500 619.879742 518.568603 615.205637 516.569578 610.531533 518.889539 605.857428 519.865155 601.183324 518.195938 596.509219 514.363912 591.835115 518.541883 587.161010 517.649399 582.486905 516.953951 577.812801 519.078174 573.138696 519.381357 568.464592 518.401539 563.790487 519.632616 559.116383 521.037360 554.442278 520.394474 549.768174 520.051086 545.094069 517.615100 540.419965 520.147875 535.745860 515.602857 531.071756 517.769490 526.397651 515.176218 521.723547 505.360935 517.049442 512.055907 512.375338 519.086779 507.701233 517.356852 503.027129 519.390952 498.353024 517.208452 493.678920 516.898766 489.004815 513.286441 484.330711 509.315441 479.656606 512.530451 474.982501 515.911552 470.308397 509.132992 465.634292 515.686198 460.960188 512.059543 456.286083 513.809230 451.611979 508.839450 446.937874 512.510250 442.263770 514.312091 437.589665 504.400160 432.915561 503.940143 428.241456 501.963328 423.567352 493.321659 418.893247 507.894382 414.219143 498.952706 409.545038 499.342516 404.870934 500.059393 400.196829 508.688892 395.522725 501.724958 390.848620 511.444940 386.174516 511.280841 381.500411 511.908694 376.826307 510.042497 372.152202 508.929406 367.478097 513.004938 362.803993 512.979116 358.129888 507.115752 353.455784 503.711911 348.781679 515.560669 344.107575 521.041825 339.433470 517.173062 334.759366 517.533374 330.085261 520.647789 325.411157 521.523397 320.737052 522.370034 316.062948 522.415021 311.388843 523.220659 306.714739 522.355850 302.040634 522.081075 297.366530 521.174697 292.692425 520.751663 288.018321 522.183387 283.344216 521.818500 278.670112 522.947111 273.996007 522.332983 269.321903 522.175454 264.647798 523.730769 259.973693 522.768778 255.299589 523.125640 250.625484 523.153728 245.951380 521.981338 241.277275 520.880157 236.603171 518.965451 231.929066 521.994435 227.254962 521.927742 222.580857 518.071020 217.906753 520.084215 213.232648 519.309320 208.558544 522.244947 203.884439 519.311293 199.210335 520.147749 194.536230 521.562869 189.862126 521.658225 185.188021 522.842103 180.513917 523.175168 175.839812 521.875000 171.165708 521.219806 166.491603 522.678333 161.817499 519.264800 157.143394 518.050518 152.469289 520.058225 147.795185 518.992906 143.121080 517.491276 138.446976 519.699544 133.772871 516.502893 129.098767 519.527288 124.424662 520.715054 119.750558 517.750876 115.076453 518.784138 110.402349 518.104866 105.728244 518.347196 101.054140 519.811776 96.380035 516.938482 91.705931 519.806657 87.031826 517.534725 82.357722 518.096812 77.683617 512.643118 73.009513 515.222862 68.335408 510.174425 63.661304 491.394584 58.987199 511.540227 54.313095 513.200559 49.638990 511.715109 44.964885 513.814563 40.290781 512.324488 35.616676 515.315176 30.942572 518.014947 26.268467 518.125158 21.594363 516.486936 16.920258 512.057123 12.246154 521.908813\"/></g><g class=\"series serie-2 color-2\"><path class=\"line reactive\" d=\"M12.246154 519.476011 L16.920258 501.610248 21.594363 508.078038 26.268467 509.926754 30.942572 509.542413 35.616676 504.921968 40.290781 485.494063 44.964885 499.100533 49.638990 491.398985 54.313095 503.726528 58.987199 500.860624 63.661304 476.153607 68.335408 500.167768 73.009513 506.947828 77.683617 490.915393 82.357722 502.861418 87.031826 509.410722 91.705931 512.417592 96.380035 510.886776 101.054140 515.588915 105.728244 508.835746 110.402349 510.315449 115.076453 511.765208 119.750558 500.013474 124.424662 502.097243 129.098767 511.467733 133.772871 492.669031 138.446976 510.062332 143.121080 509.892265 147.795185 514.611373 152.469289 515.758075 157.143394 512.911262 161.817499 514.313490 166.491603 518.842608 171.165708 516.022522 175.839812 515.928673 180.513917 520.264827 185.188021 520.777897 189.862126 518.847947 194.536230 515.941599 199.210335 512.696722 203.884439 509.979314 208.558544 503.342017 213.232648 512.223757 217.906753 509.769698 222.580857 511.717087 227.254962 513.279270 231.929066 513.626719 236.603171 512.226546 241.277275 515.425525 245.951380 514.178168 250.625484 517.015626 255.299589 517.523373 259.973693 516.980069 264.647798 518.485309 269.321903 517.358392 273.996007 515.676157 278.670112 517.805388 283.344216 518.715136 288.018321 515.519767 292.692425 514.276449 297.366530 517.179277 302.040634 515.263044 306.714739 518.754121 311.388843 520.023247 316.062948 521.512798 320.737052 520.044222 325.411157 519.513101 330.085261 513.831557 334.759366 502.869381 339.433470 492.773590 344.107575 494.057712 348.781679 463.992758 353.455784 485.583075 358.129888 487.117286 362.803993 486.491981 367.478097 489.065970 372.152202 479.055062 376.826307 486.562197 381.500411 492.923177 386.174516 495.594718 390.848620 495.440476 395.522725 486.578925 400.196829 467.280994 404.870934 440.841111 409.545038 469.759716 414.219143 458.802917 418.893247 468.686551 423.567352 440.099722 428.241456 466.045006 432.915561 471.038955 437.589665 476.975714 442.263770 491.218401 446.937874 492.288082 451.611979 491.542467 456.286083 493.451877 460.960188 497.116678 465.634292 497.476698 470.308397 408.421811 474.982501 472.382297 479.656606 479.018984 484.330711 481.525595 489.004815 483.933620 493.678920 500.346855 498.353024 497.077599 503.027129 503.782876 507.701233 497.907969 512.375338 499.152559 517.049442 485.970016 521.723547 492.587052 526.397651 506.020857 531.071756 508.500238 535.745860 505.703099 540.419965 508.250471 545.094069 506.881011 549.768174 511.935226 554.442278 513.470633 559.116383 510.898892 563.790487 509.393085 568.464592 511.656679 573.138696 513.683666 577.812801 511.819205 582.486905 510.527901 587.161010 512.040426 591.835115 513.225930 596.509219 508.343150 601.183324 512.739828 605.857428 516.914193 610.531533 515.383538 615.205637 510.431080 619.879742 511.979504 624.553846 518.700138 624.553846 519.765547 619.879742 516.244947 615.205637 514.157564 610.531533 517.098885 605.857428 518.110936 601.183324 516.975841 596.509219 511.567241 591.835115 515.263391 587.161010 514.531952 582.486905 514.066355 577.812801 516.594778 573.138696 517.059465 568.464592 517.173643 563.790487 514.972040 559.116383 518.641176 554.442278 516.394136 549.768174 517.257507 545.094069 515.655039 540.419965 517.184318 535.745860 513.095515 531.071756 513.122402 526.397651 512.719138 521.723547 501.500390 517.049442 509.284205 512.375338 517.582185 507.701233 514.391079 503.027129 514.191903 498.353024 514.627899 493.678920 513.970495 489.004815 509.554208 484.330711 506.484321 479.656606 509.690712 474.982501 511.885244 470.308397 503.316462 465.634292 510.912371 460.960188 507.066181 456.286083 509.661212 451.611979 504.882172 446.937874 508.783146 442.263770 509.309521 437.589665 494.999718 432.915561 498.354902 428.241456 496.484084 423.567352 487.489287 418.893247 503.737409 414.219143 491.990272 409.545038 492.210055 404.870934 492.152197 400.196829 504.168770 395.522725 497.410797 390.848620 506.993081 386.174516 506.553596 381.500411 507.906696 376.826307 504.888344 372.152202 503.805445 367.478097 508.567102 362.803993 501.124306 358.129888 491.986600 353.455784 487.677458 348.781679 466.483700 344.107575 495.480790 339.433470 493.425823 334.759366 503.805070 330.085261 515.187965 325.411157 519.672780 320.737052 520.622170 316.062948 521.699445 311.388843 520.287274 306.714739 518.989943 302.040634 515.423595 297.366530 517.703232 292.692425 515.419807 288.018321 515.594452 283.344216 519.025658 278.670112 518.191417 273.996007 516.120337 269.321903 518.182607 264.647798 518.766238 259.973693 517.858578 255.299589 517.760922 250.625484 517.457828 245.951380 514.595327 241.277275 516.310050 236.603171 512.932742 231.929066 514.023363 227.254962 514.113648 222.580857 512.299934 217.906753 510.436592 213.232648 512.498237 208.558544 503.681612 203.884439 512.200763 199.210335 513.563002 194.536230 516.344964 189.862126 519.369254 185.188021 521.373570 180.513917 520.753041 175.839812 516.776539 171.165708 516.561649 166.491603 519.200033 161.817499 515.310636 157.143394 514.915317 152.469289 517.127212 147.795185 515.656097 143.121080 511.480786 138.446976 511.497915 133.772871 493.707543 129.098767 512.944692 124.424662 502.538969 119.750558 501.706696 115.076453 512.494509 110.402349 512.717641 105.728244 511.584914 101.054140 516.369686 96.380035 513.803268 91.705931 515.237746 87.031826 510.896589 82.357722 505.695429 77.683617 493.689875 73.009513 508.434162 68.335408 501.837023 63.661304 479.621814 58.987199 503.399218 54.313095 506.624149 49.638990 497.303304 44.964885 502.055705 40.290781 504.913321 35.616676 508.952266 30.942572 511.760673 26.268467 512.307595 21.594363 509.816997 16.920258 506.021209 12.246154 520.028483\"/></g><g class=\"series serie-3 color-3\"><path class=\"line reactive\" d=\"M12.246154 518.334413 L16.920258 496.134197 21.594363 498.074414 26.268467 493.023257 30.942572 499.865020 35.616676 490.347767 40.290781 430.228984 44.964885 481.831719 49.638990 471.991209 54.313095 492.496517 58.987199 489.981090 63.661304 468.686255 68.335408 482.273851 73.009513 499.081242 77.683617 476.776488 82.357722 488.176887 87.031826 500.508688 91.705931 505.357397 96.380035 502.199603 101.054140 508.438421 105.728244 502.645771 110.402349 506.323366 115.076453 509.010110 119.750558 495.542349 124.424662 499.027784 129.098767 507.550757 133.772871 485.008719 138.446976 506.513194 143.121080 505.208951 147.795185 510.207783 152.469289 509.698902 157.143394 510.431810 161.817499 510.941968 166.491603 516.978780 171.165708 514.230450 175.839812 513.922273 180.513917 518.778429 185.188021 519.765033 189.862126 517.418693 194.536230 514.188162 199.210335 511.341149 203.884439 508.048725 208.558544 501.999443 213.232648 510.406956 217.906753 508.523366 222.580857 510.086249 227.254962 511.574009 231.929066 511.326340 236.603171 509.515924 241.277275 512.102443 245.951380 512.642040 250.625484 515.801606 255.299589 516.434029 259.973693 513.920505 264.647798 516.211548 269.321903 515.339254 273.996007 513.954116 278.670112 516.913713 283.344216 517.977884 288.018321 513.925103 292.692425 512.458609 297.366530 516.295383 302.040634 513.134433 306.714739 516.512406 311.388843 518.773281 316.062948 519.111663 320.737052 519.170863 325.411157 517.332877 330.085261 512.506229 334.759366 500.791562 339.433470 489.243869 344.107575 491.523543 348.781679 454.114050 353.455784 460.345599 358.129888 468.132878 362.803993 473.992268 367.478097 477.733325 372.152202 463.850622 376.826307 472.341486 381.500411 481.755249 386.174516 483.284223 390.848620 488.008484 395.522725 476.280607 400.196829 453.297580 404.870934 419.338687 409.545038 451.686317 414.219143 442.685298 418.893247 454.968814 423.567352 423.666338 428.241456 450.386038 432.915561 459.929129 437.589665 461.916428 442.263770 480.606212 446.937874 484.698242 451.611979 483.896766 456.286083 488.482551 460.960188 492.693275 465.634292 491.633348 470.308397 396.088531 474.982501 461.905179 479.656606 467.474873 484.330711 472.213459 489.004815 477.703904 493.678920 493.410650 498.353024 490.229748 503.027129 496.837219 507.701233 488.170033 512.375338 493.981463 517.049442 476.850027 521.723547 481.854233 526.397651 500.736324 531.071756 501.224082 535.745860 500.369974 540.419965 500.487755 545.094069 500.116483 549.768174 500.906811 554.442278 505.262927 559.116383 506.267479 563.790487 504.193791 568.464592 505.862481 573.138696 507.240839 577.812801 507.299113 582.486905 505.588927 587.161010 505.963503 591.835115 509.562199 596.509219 503.158927 601.183324 506.925837 605.857428 508.817866 610.531533 507.016806 615.205637 495.754292 619.879742 498.346958 624.553846 515.382046 624.553846 518.700138 619.879742 511.979504 615.205637 510.431080 610.531533 515.383538 605.857428 516.914193 601.183324 512.739828 596.509219 508.343150 591.835115 513.225930 587.161010 512.040426 582.486905 510.527901 577.812801 511.819205 573.138696 513.683666 568.464592 511.656679 563.790487 509.393085 559.116383 510.898892 554.442278 513.470633 549.768174 511.935226 545.094069 506.881011 540.419965 508.250471 535.745860 505.703099 531.071756 508.500238 526.397651 506.020857 521.723547 492.587052 517.049442 485.970016 512.375338 499.152559 507.701233 497.907969 503.027129 503.782876 498.353024 497.077599 493.678920 500.346855 489.004815 483.933620 484.330711 481.525595 479.656606 479.018984 474.982501 472.382297 470.308397 408.421811 465.634292 497.476698 460.960188 497.116678 456.286083 493.451877 451.611979 491.542467 446.937874 492.288082 442.263770 491.218401 437.589665 476.975714 432.915561 471.038955 428.241456 466.045006 423.567352 440.099722 418.893247 468.686551 414.219143 458.802917 409.545038 469.759716 404.870934 440.841111 400.196829 467.280994 395.522725 486.578925 390.848620 495.440476 386.174516 495.594718 381.500411 492.923177 376.826307 486.562197 372.152202 479.055062 367.478097 489.065970 362.803993 486.491981 358.129888 487.117286 353.455784 485.583075 348.781679 463.992758 344.107575 494.057712 339.433470 492.773590 334.759366 502.869381 330.085261 513.831557 325.411157 519.513101 320.737052 520.044222 316.062948 521.512798 311.388843 520.023247 306.714739 518.754121 302.040634 515.263044 297.366530 517.179277 292.692425 514.276449 288.018321 515.519767 283.344216 518.715136 278.670112 517.805388 273.996007 515.676157 269.321903 517.358392 264.647798 518.485309 259.973693 516.980069 255.299589 517.523373 250.625484 517.015626 245.951380 514.178168 241.277275 515.425525 236.603171 512.226546 231.929066 513.626719 227.254962 513.279270 222.580857 511.717087 217.906753 509.769698 213.232648 512.223757 208.558544 503.342017 203.884439 509.979314 199.210335 512.696722 194.536230 515.941599 189.862126 518.847947 185.188021 520.777897 180.513917 520.264827 175.839812 515.928673 171.165708 516.022522 166.491603 518.842608 161.817499 514.313490 157.143394 512.911262 152.469289 515.758075 147.795185 514.611373 143.121080 509.892265 138.446976 510.062332 133.772871 492.669031 129.098767 511.467733 124.424662 502.097243 119.750558 500.013474 115.076453 511.765208 110.402349 510.315449 105.728244 508.835746 101.054140 515.588915 96.380035 510.886776 91.705931 512.417592 87.031826 509.410722 82.357722 502.861418 77.683617 490.915393 73.009513 506.947828 68.335408 500.167768 63.661304 476.153607 58.987199 500.860624 54.313095 503.726528 49.638990 491.398985 44.964885 499.100533 40.290781 485.494063 35.616676 504.921968 30.942572 509.542413 26.268467 509.926754 21.594363 508.078038 16.920258 501.610248 12.246154 519.476011\"/></g><g class=\"series serie-4 color-4\"><path class=\"line reactive\" d=\"M12.246154 517.133406 L16.920258 490.807574 21.594363 494.072345 26.268467 488.275909 30.942572 496.655880 35.616676 483.620595 40.290781 418.199776 44.964885 472.917478 49.638990 462.172843 54.313095 488.109563 58.987199 486.064865 63.661304 463.231066 68.335408 474.203781 73.009513 492.993343 77.683617 470.344501 82.357722 481.808793 87.031826 493.691831 91.705931 496.875072 96.380035 498.205122 101.054140 505.271570 105.728244 498.742160 110.402349 499.157663 115.076453 505.948127 119.750558 486.698631 124.424662 494.306454 129.098767 505.542725 133.772871 433.001879 138.446976 484.882734 143.121080 449.295641 147.795185 498.582906 152.469289 503.302182 157.143394 505.208983 161.817499 500.773241 166.491603 512.667068 171.165708 511.263869 175.839812 511.018052 180.513917 517.845068 185.188021 518.778006 189.862126 514.976078 194.536230 511.875191 199.210335 508.505661 203.884439 504.533783 208.558544 498.335679 213.232648 508.475181 217.906753 504.275461 222.580857 506.030200 227.254962 506.912920 231.929066 506.908209 236.603171 503.830336 241.277275 507.447208 245.951380 509.753776 250.625484 512.821084 255.299589 514.431852 259.973693 512.064561 264.647798 514.674518 269.321903 512.220369 273.996007 509.811521 278.670112 515.459753 283.344216 516.985963 288.018321 512.954699 292.692425 511.288474 297.366530 515.415802 302.040634 511.118129 306.714739 513.479677 311.388843 516.709167 316.062948 517.866493 320.737052 517.881125 325.411157 516.481111 330.085261 507.544694 334.759366 497.214526 339.433470 486.185375 344.107575 487.666234 348.781679 445.886140 353.455784 452.504926 358.129888 460.600213 362.803993 466.360832 367.478097 474.605093 372.152202 460.233564 376.826307 465.908092 381.500411 478.643687 386.174516 478.131910 390.848620 483.351682 395.522725 470.458022 400.196829 448.262534 404.870934 411.960901 409.545038 444.874519 414.219143 437.108020 418.893247 450.648361 423.567352 418.059770 428.241456 443.479341 432.915561 455.856203 437.589665 456.029562 442.263770 473.797921 446.937874 481.157681 451.611979 480.273925 456.286083 485.815136 460.960188 488.424250 465.634292 487.967864 470.308397 391.280320 474.982501 459.427513 479.656606 461.497052 484.330711 467.334011 489.004815 471.173492 493.678920 487.640207 498.353024 486.316431 503.027129 494.020111 507.701233 483.519386 512.375338 489.389548 517.049442 473.978434 521.723547 477.745284 526.397651 496.954019 531.071756 498.453790 535.745860 497.259986 540.419965 498.101054 545.094069 497.534097 549.768174 499.441993 554.442278 501.731784 559.116383 503.771766 563.790487 501.944637 568.464592 504.161459 573.138696 505.861187 577.812801 505.613240 582.486905 502.009612 587.161010 503.333380 591.835115 506.984788 596.509219 500.308994 601.183324 505.101786 605.857428 507.426766 610.531533 504.323096 615.205637 493.934170 619.879742 495.649019 624.553846 512.415294 624.553846 515.382046 619.879742 498.346958 615.205637 495.754292 610.531533 507.016806 605.857428 508.817866 601.183324 506.925837 596.509219 503.158927 591.835115 509.562199 587.161010 505.963503 582.486905 505.588927 577.812801 507.299113 573.138696 507.240839 568.464592 505.862481 563.790487 504.193791 559.116383 506.267479 554.442278 505.262927 549.768174 500.906811 545.094069 500.116483 540.419965 500.487755 535.745860 500.369974 531.071756 501.224082 526.397651 500.736324 521.723547 481.854233 517.049442 476.850027 512.375338 493.981463 507.701233 488.170033 503.027129 496.837219 498.353024 490.229748 493.678920 493.410650 489.004815 477.703904 484.330711 472.213459 479.656606 467.474873 474.982501 461.905179 470.308397 396.088531 465.634292 491.633348 460.960188 492.693275 456.286083 488.482551 451.611979 483.896766 446.937874 484.698242 442.263770 480.606212 437.589665 461.916428 432.915561 459.929129 428.241456 450.386038 423.567352 423.666338 418.893247 454.968814 414.219143 442.685298 409.545038 451.686317 404.870934 419.338687 400.196829 453.297580 395.522725 476.280607 390.848620 488.008484 386.174516 483.284223 381.500411 481.755249 376.826307 472.341486 372.152202 463.850622 367.478097 477.733325 362.803993 473.992268 358.129888 468.132878 353.455784 460.345599 348.781679 454.114050 344.107575 491.523543 339.433470 489.243869 334.759366 500.791562 330.085261 512.506229 325.411157 517.332877 320.737052 519.170863 316.062948 519.111663 311.388843 518.773281 306.714739 516.512406 302.040634 513.134433 297.366530 516.295383 292.692425 512.458609 288.018321 513.925103 283.344216 517.977884 278.670112 516.913713 273.996007 513.954116 269.321903 515.339254 264.647798 516.211548 259.973693 513.920505 255.299589 516.434029 250.625484 515.801606 245.951380 512.642040 241.277275 512.102443 236.603171 509.515924 231.929066 511.326340 227.254962 511.574009 222.580857 510.086249 217.906753 508.523366 213.232648 510.406956 208.558544 501.999443 203.884439 508.048725 199.210335 511.341149 194.536230 514.188162 189.862126 517.418693 185.188021 519.765033 180.513917 518.778429 175.839812 513.922273 171.165708 514.230450 166.491603 516.978780 161.817499 510.941968 157.143394 510.431810 152.469289 509.698902 147.795185 510.207783 143.121080 505.208951 138.446976 506.513194 133.772871 485.008719 129.098767 507.550757 124.424662 499.027784 119.750558 495.542349 115.076453 509.010110 110.402349 506.323366 105.728244 502.645771 101.054140 508.438421 96.380035 502.199603 91.705931 505.357397 87.031826 500.508688 82.357722 488.176887 77.683617 476.776488 73.009513 499.081242 68.335408 482.273851 63.661304 468.686255 58.987199 489.981090 54.313095 492.496517 49.638990 471.991209 44.964885 481.831719 40.290781 430.228984 35.616676 490.347767 30.942572 499.865020 26.268467 493.023257 21.594363 498.074414 16.920258 496.134197 12.246154 518.334413\"/></g><g class=\"series serie-5 color-5\"><path class=\"line reactive\" d=\"M12.246154 512.822885 L16.920258 484.074061 21.594363 484.432357 26.268467 476.207977 30.942572 489.411977 35.616676 474.748340 40.290781 387.738372 44.964885 461.601297 49.638990 451.729039 54.313095 480.349212 58.987199 480.362434 63.661304 455.643620 68.335408 468.193289 73.009513 486.587614 77.683617 463.675284 82.357722 470.252200 87.031826 488.545434 91.705931 493.639833 96.380035 494.155216 101.054140 499.792057 105.728244 494.489617 110.402349 495.919511 115.076453 502.124249 119.750558 484.737636 124.424662 492.066149 129.098767 503.260259 133.772871 430.711884 138.446976 483.411634 143.121080 447.866114 147.795185 496.939186 152.469289 500.766322 157.143394 503.098334 161.817499 498.474210 166.491603 511.371830 171.165708 510.635459 175.839812 509.767952 180.513917 517.474378 185.188021 518.131291 189.862126 513.852584 194.536230 507.654317 199.210335 506.357752 203.884439 502.692911 208.558544 496.520568 213.232648 507.678188 217.906753 503.311101 222.580857 504.758384 227.254962 504.949118 231.929066 505.593268 236.603171 501.792587 241.277275 505.867886 245.951380 508.428187 250.625484 509.129613 255.299589 513.860246 259.973693 511.596541 264.647798 513.450580 269.321903 510.290348 273.996007 508.760220 278.670112 514.606858 283.344216 515.974701 288.018321 512.258071 292.692425 508.117442 297.366530 514.956327 302.040634 509.756708 306.714739 512.679817 311.388843 516.021943 316.062948 517.404169 320.737052 517.243891 325.411157 514.711989 330.085261 506.639909 334.759366 495.922157 339.433470 485.222697 344.107575 486.347913 348.781679 443.970732 353.455784 449.699442 358.129888 457.156609 362.803993 460.617397 367.478097 469.776284 372.152202 459.332745 376.826307 462.993850 381.500411 477.815873 386.174516 477.114390 390.848620 481.521284 395.522725 469.541518 400.196829 442.273970 404.870934 409.979542 409.545038 441.785058 414.219143 433.990349 418.893247 447.936098 423.567352 406.258816 428.241456 436.459633 432.915561 453.671938 437.589665 453.456862 442.263770 472.537981 446.937874 480.196525 451.611979 477.147164 456.286083 484.787091 460.960188 487.412532 465.634292 487.117857 470.308397 385.356799 474.982501 457.059429 479.656606 459.447662 484.330711 429.659624 489.004815 460.360373 493.678920 485.020804 498.353024 485.283908 503.027129 492.797613 507.701233 480.882139 512.375338 488.796851 517.049442 472.757286 521.723547 476.488456 526.397651 493.870457 531.071756 497.637963 535.745860 496.291274 540.419965 496.299940 545.094069 494.704717 549.768174 498.533625 554.442278 500.857272 559.116383 502.421039 563.790487 500.792724 568.464592 503.667675 573.138696 505.291594 577.812801 504.700231 582.486905 468.533351 587.161010 488.085547 591.835115 502.643668 596.509219 496.528504 601.183324 500.713451 605.857428 504.229235 610.531533 497.514923 615.205637 490.011521 619.879742 491.891059 624.553846 511.332571 624.553846 512.415294 619.879742 495.649019 615.205637 493.934170 610.531533 504.323096 605.857428 507.426766 601.183324 505.101786 596.509219 500.308994 591.835115 506.984788 587.161010 503.333380 582.486905 502.009612 577.812801 505.613240 573.138696 505.861187 568.464592 504.161459 563.790487 501.944637 559.116383 503.771766 554.442278 501.731784 549.768174 499.441993 545.094069 497.534097 540.419965 498.101054 535.745860 497.259986 531.071756 498.453790 526.397651 496.954019 521.723547 477.745284 517.049442 473.978434 512.375338 489.389548 507.701233 483.519386 503.027129 494.020111 498.353024 486.316431 493.678920 487.640207 489.004815 471.173492 484.330711 467.334011 479.656606 461.497052 474.982501 459.427513 470.308397 391.280320 465.634292 487.967864 460.960188 488.424250 456.286083 485.815136 451.611979 480.273925 446.937874 481.157681 442.263770 473.797921 437.589665 456.029562 432.915561 455.856203 428.241456 443.479341 423.567352 418.059770 418.893247 450.648361 414.219143 437.108020 409.545038 444.874519 404.870934 411.960901 400.196829 448.262534 395.522725 470.458022 390.848620 483.351682 386.174516 478.131910 381.500411 478.643687 376.826307 465.908092 372.152202 460.233564 367.478097 474.605093 362.803993 466.360832 358.129888 460.600213 353.455784 452.504926 348.781679 445.886140 344.107575 487.666234 339.433470 486.185375 334.759366 497.214526 330.085261 507.544694 325.411157 516.481111 320.737052 517.881125 316.062948 517.866493 311.388843 516.709167 306.714739 513.479677 302.040634 511.118129 297.366530 515.415802 292.692425 511.288474 288.018321 512.954699 283.344216 516.985963 278.670112 515.459753 273.996007 509.811521 269.321903 512.220369 264.647798 514.674518 259.973693 512.064561 255.299589 514.431852 250.625484 512.821084 245.951380 509.753776 241.277275 507.447208 236.603171 503.830336 231.929066 506.908209 227.254962 506.912920 222.580857 506.030200 217.906753 504.275461 213.232648 508.475181 208.558544 498.335679 203.884439 504.533783 199.210335 508.505661 194.536230 511.875191 189.862126 514.976078 185.188021 518.778006 180.513917 517.845068 175.839812 511.018052 171.165708 511.263869 166.491603 512.667068 161.817499 500.773241 157.143394 505.208983 152.469289 503.302182 147.795185 498.582906 143.121080 449.295641 138.446976 484.882734 133.772871 433.001879 129.098767 505.542725 124.424662 494.306454 119.750558 486.698631 115.076453 505.948127 110.402349 499.157663 105.728244 498.742160 101.054140 505.271570 96.380035 498.205122 91.705931 496.875072 87.031826 493.691831 82.357722 481.808793 77.683617 470.344501 73.009513 492.993343 68.335408 474.203781 63.661304 463.231066 58.987199 486.064865 54.313095 488.109563 49.638990 462.172843 44.964885 472.917478 40.290781 418.199776 35.616676 483.620595 30.942572 496.655880 26.268467 488.275909 21.594363 494.072345 16.920258 490.807574 12.246154 517.133406\"/></g><g class=\"series serie-6 color-6\"><path class=\"line reactive\" d=\"M12.246154 512.271967 L16.920258 480.552229 21.594363 481.557156 26.268467 471.662321 30.942572 484.877521 35.616676 468.880623 40.290781 374.091059 44.964885 454.065087 49.638990 445.200784 54.313095 475.595490 58.987199 476.934932 63.661304 452.827504 68.335408 465.553590 73.009513 484.356262 77.683617 460.766048 82.357722 467.050878 87.031826 483.857441 91.705931 491.642926 96.380035 491.900606 101.054140 496.739414 105.728244 491.052591 110.402349 492.065239 115.076453 499.629472 119.750558 481.588959 124.424662 490.107869 129.098767 501.493453 133.772871 425.333357 138.446976 479.536945 143.121080 441.926082 147.795185 494.707719 152.469289 497.884680 157.143394 500.034898 161.817499 494.105358 166.491603 509.672043 171.165708 499.619171 175.839812 505.997357 180.513917 515.453433 185.188021 516.148749 189.862126 507.569422 194.536230 504.765870 199.210335 502.577912 203.884439 498.493618 208.558544 493.217030 213.232648 506.028357 217.906753 500.514763 222.580857 501.924550 227.254962 502.665510 231.929066 504.617698 236.603171 499.664784 241.277275 503.238158 245.951380 506.460904 250.625484 506.717598 255.299589 512.798860 259.973693 510.423981 264.647798 510.694685 269.321903 507.574100 273.996007 507.233950 278.670112 513.990648 283.344216 514.346182 288.018321 509.094024 292.692425 506.692203 297.366530 513.326487 302.040634 508.440556 306.714739 511.303582 311.388843 515.535117 316.062948 515.084720 320.737052 514.882548 325.411157 512.435332 330.085261 502.796420 334.759366 493.784168 339.433470 483.672701 344.107575 484.807248 348.781679 442.041095 353.455784 443.859251 358.129888 452.590666 362.803993 457.200604 367.478097 464.244569 372.152202 453.048353 376.826307 433.123217 381.500411 471.470833 386.174516 469.987741 390.848620 464.485233 395.522725 452.174945 400.196829 426.471460 404.870934 389.150596 409.545038 425.415486 414.219143 422.751243 418.893247 435.656256 423.567352 395.324785 428.241456 426.658365 432.915561 443.285053 437.589665 441.736210 442.263770 459.586958 446.937874 471.008307 451.611979 469.702226 456.286083 482.038303 460.960188 479.646801 465.634292 482.290038 470.308397 379.073372 474.982501 452.685557 479.656606 454.503240 484.330711 425.932471 489.004815 455.230952 493.678920 480.249829 498.353024 480.767816 503.027129 488.745459 507.701233 477.374876 512.375338 486.575774 517.049442 464.484361 521.723547 470.008690 526.397651 490.806276 531.071756 494.792437 535.745860 495.148599 540.419965 495.075434 545.094069 490.912113 549.768174 494.921994 554.442278 498.533046 559.116383 500.264230 563.790487 498.481359 568.464592 500.411748 573.138696 502.572606 577.812801 502.439306 582.486905 467.356471 587.161010 486.081706 591.835115 500.423171 596.509219 495.066803 601.183324 498.235336 605.857428 502.613497 610.531533 494.492562 615.205637 486.110697 619.879742 488.884085 624.553846 510.193963 624.553846 511.332571 619.879742 491.891059 615.205637 490.011521 610.531533 497.514923 605.857428 504.229235 601.183324 500.713451 596.509219 496.528504 591.835115 502.643668 587.161010 488.085547 582.486905 468.533351 577.812801 504.700231 573.138696 505.291594 568.464592 503.667675 563.790487 500.792724 559.116383 502.421039 554.442278 500.857272 549.768174 498.533625 545.094069 494.704717 540.419965 496.299940 535.745860 496.291274 531.071756 497.637963 526.397651 493.870457 521.723547 476.488456 517.049442 472.757286 512.375338 488.796851 507.701233 480.882139 503.027129 492.797613 498.353024 485.283908 493.678920 485.020804 489.004815 460.360373 484.330711 429.659624 479.656606 459.447662 474.982501 457.059429 470.308397 385.356799 465.634292 487.117857 460.960188 487.412532 456.286083 484.787091 451.611979 477.147164 446.937874 480.196525 442.263770 472.537981 437.589665 453.456862 432.915561 453.671938 428.241456 436.459633 423.567352 406.258816 418.893247 447.936098 414.219143 433.990349 409.545038 441.785058 404.870934 409.979542 400.196829 442.273970 395.522725 469.541518 390.848620 481.521284 386.174516 477.114390 381.500411 477.815873 376.826307 462.993850 372.152202 459.332745 367.478097 469.776284 362.803993 460.617397 358.129888 457.156609 353.455784 449.699442 348.781679 443.970732 344.107575 486.347913 339.433470 485.222697 334.759366 495.922157 330.085261 506.639909 325.411157 514.711989 320.737052 517.243891 316.062948 517.404169 311.388843 516.021943 306.714739 512.679817 302.040634 509.756708 297.366530 514.956327 292.692425 508.117442 288.018321 512.258071 283.344216 515.974701 278.670112 514.606858 273.996007 508.760220 269.321903 510.290348 264.647798 513.450580 259.973693 511.596541 255.299589 513.860246 250.625484 509.129613 245.951380 508.428187 241.277275 505.867886 236.603171 501.792587 231.929066 505.593268 227.254962 504.949118 222.580857 504.758384 217.906753 503.311101 213.232648 507.678188 208.558544 496.520568 203.884439 502.692911 199.210335 506.357752 194.536230 507.654317 189.862126 513.852584 185.188021 518.131291 180.513917 517.474378 175.839812 509.767952 171.165708 510.635459 166.491603 511.371830 161.817499 498.474210 157.143394 503.098334 152.469289 500.766322 147.795185 496.939186 143.121080 447.866114 138.446976 483.411634 133.772871 430.711884 129.098767 503.260259 124.424662 492.066149 119.750558 484.737636 115.076453 502.124249 110.402349 495.919511 105.728244 494.489617 101.054140 499.792057 96.380035 494.155216 91.705931 493.639833 87.031826 488.545434 82.357722 470.252200 77.683617 463.675284 73.009513 486.587614 68.335408 468.193289 63.661304 455.643620 58.987199 480.362434 54.313095 480.349212 49.638990 451.729039 44.964885 461.601297 40.290781 387.738372 35.616676 474.748340 30.942572 489.411977 26.268467 476.207977 21.594363 484.432357 16.920258 484.074061 12.246154 512.822885\"/></g><g class=\"series serie-7 color-7\"><path class=\"line reactive\" d=\"M12.246154 508.978024 L16.920258 470.066394 21.594363 472.761692 26.268467 455.543047 30.942572 464.226301 35.616676 445.116890 40.290781 336.764055 44.964885 443.500747 49.638990 430.137598 54.313095 464.567152 58.987199 464.848011 63.661304 442.508933 68.335408 456.229749 73.009513 476.005306 77.683617 446.877395 82.357722 447.043839 87.031826 468.502550 91.705931 478.257941 96.380035 477.862571 101.054140 481.627343 105.728244 478.295029 110.402349 480.333694 115.076453 489.640225 119.750558 465.992312 124.424662 482.986518 129.098767 492.355889 133.772871 409.914601 138.446976 470.287076 143.121080 425.051220 147.795185 487.580862 152.469289 480.843777 157.143394 483.570338 161.817499 477.806023 166.491603 504.111836 171.165708 492.943834 175.839812 498.214518 180.513917 510.103275 185.188021 513.612916 189.862126 498.614324 194.536230 500.022155 199.210335 496.416653 203.884439 483.551597 208.558544 489.563625 213.232648 503.016745 217.906753 495.233498 222.580857 496.486162 227.254962 497.503785 231.929066 498.599871 236.603171 494.677502 241.277275 499.749417 245.951380 495.529428 250.625484 502.052503 255.299589 507.531979 259.973693 504.081522 264.647798 504.991387 269.321903 504.194471 273.996007 504.615943 278.670112 511.651814 283.344216 508.900527 288.018321 505.160308 292.692425 503.151737 297.366530 508.878676 302.040634 506.011111 306.714739 505.880857 311.388843 510.421353 316.062948 510.493305 320.737052 510.261666 325.411157 509.996985 330.085261 500.046550 334.759366 480.196526 339.433470 472.969601 344.107575 469.583530 348.781679 409.780619 353.455784 434.026322 358.129888 429.009148 362.803993 413.209181 367.478097 437.372855 372.152202 417.980106 376.826307 409.177323 381.500411 457.894793 386.174516 456.015473 390.848620 449.483721 395.522725 443.951926 400.196829 391.466520 404.870934 353.524821 409.545038 403.012141 414.219143 406.756270 418.893247 418.034141 423.567352 348.353442 428.241456 403.400503 432.915561 423.974083 437.589665 429.310055 442.263770 445.743162 446.937874 463.306215 451.611979 462.158903 456.286083 476.148476 460.960188 472.825512 465.634292 474.765946 470.308397 368.035591 474.982501 442.229614 479.656606 442.682511 484.330711 407.275563 489.004815 439.276431 493.678920 472.770266 498.353024 472.803784 503.027129 483.017531 507.701233 472.628011 512.375338 475.114728 517.049442 448.981519 521.723547 451.596223 526.397651 480.216389 531.071756 489.050724 535.745860 487.182503 540.419965 486.553729 545.094069 475.526782 549.768174 483.332174 554.442278 486.714186 559.116383 491.539272 563.790487 491.711108 568.464592 487.846269 573.138696 497.588620 577.812801 494.830901 582.486905 456.341192 587.161010 475.995540 591.835115 492.384481 596.509219 484.904726 601.183324 488.996039 605.857428 493.142242 610.531533 484.035719 615.205637 480.403139 619.879742 485.496005 624.553846 505.293260 624.553846 510.193963 619.879742 488.884085 615.205637 486.110697 610.531533 494.492562 605.857428 502.613497 601.183324 498.235336 596.509219 495.066803 591.835115 500.423171 587.161010 486.081706 582.486905 467.356471 577.812801 502.439306 573.138696 502.572606 568.464592 500.411748 563.790487 498.481359 559.116383 500.264230 554.442278 498.533046 549.768174 494.921994 545.094069 490.912113 540.419965 495.075434 535.745860 495.148599 531.071756 494.792437 526.397651 490.806276 521.723547 470.008690 517.049442 464.484361 512.375338 486.575774 507.701233 477.374876 503.027129 488.745459 498.353024 480.767816 493.678920 480.249829 489.004815 455.230952 484.330711 425.932471 479.656606 454.503240 474.982501 452.685557 470.308397 379.073372 465.634292 482.290038 460.960188 479.646801 456.286083 482.038303 451.611979 469.702226 446.937874 471.008307 442.263770 459.586958 437.589665 441.736210 432.915561 443.285053 428.241456 426.658365 423.567352 395.324785 418.893247 435.656256 414.219143 422.751243 409.545038 425.415486 404.870934 389.150596 400.196829 426.471460 395.522725 452.174945 390.848620 464.485233 386.174516 469.987741 381.500411 471.470833 376.826307 433.123217 372.152202 453.048353 367.478097 464.244569 362.803993 457.200604 358.129888 452.590666 353.455784 443.859251 348.781679 442.041095 344.107575 484.807248 339.433470 483.672701 334.759366 493.784168 330.085261 502.796420 325.411157 512.435332 320.737052 514.882548 316.062948 515.084720 311.388843 515.535117 306.714739 511.303582 302.040634 508.440556 297.366530 513.326487 292.692425 506.692203 288.018321 509.094024 283.344216 514.346182 278.670112 513.990648 273.996007 507.233950 269.321903 507.574100 264.647798 510.694685 259.973693 510.423981 255.299589 512.798860 250.625484 506.717598 245.951380 506.460904 241.277275 503.238158 236.603171 499.664784 231.929066 504.617698 227.254962 502.665510 222.580857 501.924550 217.906753 500.514763 213.232648 506.028357 208.558544 493.217030 203.884439 498.493618 199.210335 502.577912 194.536230 504.765870 189.862126 507.569422 185.188021 516.148749 180.513917 515.453433 175.839812 505.997357 171.165708 499.619171 166.491603 509.672043 161.817499 494.105358 157.143394 500.034898 152.469289 497.884680 147.795185 494.707719 143.121080 441.926082 138.446976 479.536945 133.772871 425.333357 129.098767 501.493453 124.424662 490.107869 119.750558 481.588959 115.076453 499.629472 110.402349 492.065239 105.728244 491.052591 101.054140 496.739414 96.380035 491.900606 91.705931 491.642926 87.031826 483.857441 82.357722 467.050878 77.683617 460.766048 73.009513 484.356262 68.335408 465.553590 63.661304 452.827504 58.987199 476.934932 54.313095 475.595490 49.638990 445.200784 44.964885 454.065087 40.290781 374.091059 35.616676 468.880623 30.942572 484.877521 26.268467 471.662321 21.594363 481.557156 16.920258 480.552229 12.246154 512.271967\"/></g><g class=\"series serie-8 color-8\"><path class=\"line reactive\" d=\"M12.246154 502.036796 L16.920258 457.056356 21.594363 462.685647 26.268467 440.821936 30.942572 457.413560 35.616676 435.470228 40.290781 327.545498 44.964885 410.603775 49.638990 379.863059 54.313095 446.582626 58.987199 439.725776 63.661304 430.720604 68.335408 439.434126 73.009513 461.019852 77.683617 413.544631 82.357722 427.790115 87.031826 447.231648 91.705931 456.237330 96.380035 467.550853 101.054140 469.283396 105.728244 462.960165 110.402349 468.697249 115.076453 476.740603 119.750558 393.640741 124.424662 420.024601 129.098767 478.778323 133.772871 396.232581 138.446976 457.382322 143.121080 410.344324 147.795185 482.790362 152.469289 477.834492 157.143394 472.280037 161.817499 459.297664 166.491603 492.419864 171.165708 478.307194 175.839812 492.349946 180.513917 506.471258 185.188021 510.803808 189.862126 488.805712 194.536230 497.196611 199.210335 486.852343 203.884439 477.978392 208.558544 482.873228 213.232648 499.047102 217.906753 485.670045 222.580857 483.237819 227.254962 476.288531 231.929066 484.062333 236.603171 480.594617 241.277275 483.004501 245.951380 490.336476 250.625484 495.257386 255.299589 503.699412 259.973693 496.606892 264.647798 498.795369 269.321903 494.689567 273.996007 476.790412 278.670112 498.740855 283.344216 500.555897 288.018321 502.892900 292.692425 495.840551 297.366530 504.044346 302.040634 499.490110 306.714739 501.951054 311.388843 507.994241 316.062948 509.019610 320.737052 508.884262 325.411157 507.822680 330.085261 479.221184 334.759366 466.817157 339.433470 459.337958 344.107575 446.590357 348.781679 341.860153 353.455784 373.818439 358.129888 393.522059 362.803993 361.678105 367.478097 418.824645 372.152202 404.373542 376.826307 398.474361 381.500411 436.262981 386.174516 415.484690 390.848620 417.892445 395.522725 420.717126 400.196829 381.525157 404.870934 332.075839 409.545038 365.255867 414.219143 387.402371 418.893247 405.515032 423.567352 329.280116 428.241456 382.693721 432.915561 406.647150 437.589665 405.085579 442.263770 416.037383 446.937874 452.269551 451.611979 449.885663 456.286083 466.486006 460.960188 459.084103 465.634292 459.306928 470.308397 351.616617 474.982501 432.831174 479.656606 437.259997 484.330711 398.071488 489.004815 434.315403 493.678920 459.304117 498.353024 454.216811 503.027129 470.534778 507.701233 458.195344 512.375338 471.360063 517.049442 440.051616 521.723547 446.268911 526.397651 467.983097 531.071756 483.745830 535.745860 480.592682 540.419965 480.363250 545.094069 472.355175 549.768174 479.275591 554.442278 472.114028 559.116383 483.379201 563.790487 487.263593 568.464592 483.461430 573.138696 491.066927 577.812801 489.003803 582.486905 441.606422 587.161010 464.649001 591.835115 482.944317 596.509219 480.391909 601.183324 483.511931 605.857428 483.778830 610.531533 467.231633 615.205637 459.345136 619.879742 471.099649 624.553846 501.111933 624.553846 505.293260 619.879742 485.496005 615.205637 480.403139 610.531533 484.035719 605.857428 493.142242 601.183324 488.996039 596.509219 484.904726 591.835115 492.384481 587.161010 475.995540 582.486905 456.341192 577.812801 494.830901 573.138696 497.588620 568.464592 487.846269 563.790487 491.711108 559.116383 491.539272 554.442278 486.714186 549.768174 483.332174 545.094069 475.526782 540.419965 486.553729 535.745860 487.182503 531.071756 489.050724 526.397651 480.216389 521.723547 451.596223 517.049442 448.981519 512.375338 475.114728 507.701233 472.628011 503.027129 483.017531 498.353024 472.803784 493.678920 472.770266 489.004815 439.276431 484.330711 407.275563 479.656606 442.682511 474.982501 442.229614 470.308397 368.035591 465.634292 474.765946 460.960188 472.825512 456.286083 476.148476 451.611979 462.158903 446.937874 463.306215 442.263770 445.743162 437.589665 429.310055 432.915561 423.974083 428.241456 403.400503 423.567352 348.353442 418.893247 418.034141 414.219143 406.756270 409.545038 403.012141 404.870934 353.524821 400.196829 391.466520 395.522725 443.951926 390.848620 449.483721 386.174516 456.015473 381.500411 457.894793 376.826307 409.177323 372.152202 417.980106 367.478097 437.372855 362.803993 413.209181 358.129888 429.009148 353.455784 434.026322 348.781679 409.780619 344.107575 469.583530 339.433470 472.969601 334.759366 480.196526 330.085261 500.046550 325.411157 509.996985 320.737052 510.261666 316.062948 510.493305 311.388843 510.421353 306.714739 505.880857 302.040634 506.011111 297.366530 508.878676 292.692425 503.151737 288.018321 505.160308 283.344216 508.900527 278.670112 511.651814 273.996007 504.615943 269.321903 504.194471 264.647798 504.991387 259.973693 504.081522 255.299589 507.531979 250.625484 502.052503 245.951380 495.529428 241.277275 499.749417 236.603171 494.677502 231.929066 498.599871 227.254962 497.503785 222.580857 496.486162 217.906753 495.233498 213.232648 503.016745 208.558544 489.563625 203.884439 483.551597 199.210335 496.416653 194.536230 500.022155 189.862126 498.614324 185.188021 513.612916 180.513917 510.103275 175.839812 498.214518 171.165708 492.943834 166.491603 504.111836 161.817499 477.806023 157.143394 483.570338 152.469289 480.843777 147.795185 487.580862 143.121080 425.051220 138.446976 470.287076 133.772871 409.914601 129.098767 492.355889 124.424662 482.986518 119.750558 465.992312 115.076453 489.640225 110.402349 480.333694 105.728244 478.295029 101.054140 481.627343 96.380035 477.862571 91.705931 478.257941 87.031826 468.502550 82.357722 447.043839 77.683617 446.877395 73.009513 476.005306 68.335408 456.229749 63.661304 442.508933 58.987199 464.848011 54.313095 464.567152 49.638990 430.137598 44.964885 443.500747 40.290781 336.764055 35.616676 445.116890 30.942572 464.226301 26.268467 455.543047 21.594363 472.761692 16.920258 470.066394 12.246154 508.978024\"/></g><g class=\"series serie-9 color-9\"><path class=\"line reactive\" d=\"M12.246154 501.536086 L16.920258 453.051824 21.594363 457.894994 26.268467 435.878619 30.942572 454.025435 35.616676 430.957911 40.290781 317.260922 44.964885 403.876432 49.638990 375.552332 54.313095 441.704296 58.987199 435.528854 63.661304 427.531130 68.335408 433.873658 73.009513 458.068177 77.683617 408.576594 82.357722 421.606421 87.031826 443.289949 91.705931 452.988497 96.380035 461.551258 101.054140 462.141990 105.728244 460.403848 110.402349 465.054615 115.076453 471.215280 119.750558 388.515527 124.424662 416.860694 129.098767 476.252027 133.772871 393.854425 138.446976 455.000998 143.121080 407.369510 147.795185 479.865583 152.469289 474.315463 157.143394 469.925917 161.817499 456.047766 166.491603 491.147034 171.165708 476.867913 175.839812 491.184096 180.513917 505.045904 185.188021 509.870859 189.862126 487.459502 194.536230 495.618352 199.210335 485.769334 203.884439 475.053073 208.558544 481.680601 213.232648 497.560422 217.906753 483.918928 222.580857 481.723802 227.254962 475.244421 231.929066 481.983044 236.603171 478.758108 241.277275 480.942408 245.951380 489.659433 250.625484 494.477907 255.299589 501.460059 259.973693 494.946020 264.647798 495.915514 269.321903 493.265386 273.996007 475.636209 278.670112 497.693500 283.344216 498.287041 288.018321 501.070776 292.692425 494.295261 297.366530 503.165703 302.040634 497.514767 306.714739 500.798307 311.388843 506.325396 316.062948 506.814250 320.737052 507.106294 325.411157 506.920281 330.085261 476.159455 334.759366 464.237016 339.433470 457.109439 344.107575 444.237488 348.781679 330.495453 353.455784 351.288946 358.129888 383.153445 362.803993 354.497075 367.478097 412.666656 372.152202 398.473559 376.826307 393.330540 381.500411 431.914786 386.174516 411.749894 390.848620 413.610258 395.522725 415.997815 400.196829 377.859426 404.870934 326.722940 409.545038 358.618884 414.219143 382.522420 418.893247 400.932432 423.567352 323.215637 428.241456 376.138317 432.915561 400.419205 437.589665 399.163108 442.263770 409.591674 446.937874 448.436262 451.611979 446.567024 456.286083 463.009200 460.960188 454.859361 465.634292 455.610052 470.308397 348.275805 474.982501 429.157462 479.656606 433.962204 484.330711 392.074994 489.004815 429.287754 493.678920 455.032831 498.353024 451.854958 503.027129 467.383237 507.701233 455.445065 512.375338 468.023618 517.049442 436.211807 521.723547 439.625255 526.397651 463.627720 531.071756 478.194693 535.745860 474.768477 540.419965 475.269470 545.094069 466.935489 549.768174 471.725260 554.442278 466.540048 559.116383 480.332787 563.790487 483.519314 568.464592 479.607592 573.138696 485.575050 577.812801 483.553940 582.486905 431.028793 587.161010 459.298373 591.835115 478.856829 596.509219 477.007156 601.183324 477.638006 605.857428 479.303840 610.531533 462.106663 615.205637 427.501412 619.879742 451.374541 624.553846 497.440202 624.553846 501.111933 619.879742 471.099649 615.205637 459.345136 610.531533 467.231633 605.857428 483.778830 601.183324 483.511931 596.509219 480.391909 591.835115 482.944317 587.161010 464.649001 582.486905 441.606422 577.812801 489.003803 573.138696 491.066927 568.464592 483.461430 563.790487 487.263593 559.116383 483.379201 554.442278 472.114028 549.768174 479.275591 545.094069 472.355175 540.419965 480.363250 535.745860 480.592682 531.071756 483.745830 526.397651 467.983097 521.723547 446.268911 517.049442 440.051616 512.375338 471.360063 507.701233 458.195344 503.027129 470.534778 498.353024 454.216811 493.678920 459.304117 489.004815 434.315403 484.330711 398.071488 479.656606 437.259997 474.982501 432.831174 470.308397 351.616617 465.634292 459.306928 460.960188 459.084103 456.286083 466.486006 451.611979 449.885663 446.937874 452.269551 442.263770 416.037383 437.589665 405.085579 432.915561 406.647150 428.241456 382.693721 423.567352 329.280116 418.893247 405.515032 414.219143 387.402371 409.545038 365.255867 404.870934 332.075839 400.196829 381.525157 395.522725 420.717126 390.848620 417.892445 386.174516 415.484690 381.500411 436.262981 376.826307 398.474361 372.152202 404.373542 367.478097 418.824645 362.803993 361.678105 358.129888 393.522059 353.455784 373.818439 348.781679 341.860153 344.107575 446.590357 339.433470 459.337958 334.759366 466.817157 330.085261 479.221184 325.411157 507.822680 320.737052 508.884262 316.062948 509.019610 311.388843 507.994241 306.714739 501.951054 302.040634 499.490110 297.366530 504.044346 292.692425 495.840551 288.018321 502.892900 283.344216 500.555897 278.670112 498.740855 273.996007 476.790412 269.321903 494.689567 264.647798 498.795369 259.973693 496.606892 255.299589 503.699412 250.625484 495.257386 245.951380 490.336476 241.277275 483.004501 236.603171 480.594617 231.929066 484.062333 227.254962 476.288531 222.580857 483.237819 217.906753 485.670045 213.232648 499.047102 208.558544 482.873228 203.884439 477.978392 199.210335 486.852343 194.536230 497.196611 189.862126 488.805712 185.188021 510.803808 180.513917 506.471258 175.839812 492.349946 171.165708 478.307194 166.491603 492.419864 161.817499 459.297664 157.143394 472.280037 152.469289 477.834492 147.795185 482.790362 143.121080 410.344324 138.446976 457.382322 133.772871 396.232581 129.098767 478.778323 124.424662 420.024601 119.750558 393.640741 115.076453 476.740603 110.402349 468.697249 105.728244 462.960165 101.054140 469.283396 96.380035 467.550853 91.705931 456.237330 87.031826 447.231648 82.357722 427.790115 77.683617 413.544631 73.009513 461.019852 68.335408 439.434126 63.661304 430.720604 58.987199 439.725776 54.313095 446.582626 49.638990 379.863059 44.964885 410.603775 40.290781 327.545498 35.616676 435.470228 30.942572 457.413560 26.268467 440.821936 21.594363 462.685647 16.920258 457.056356 12.246154 502.036796\"/></g><g class=\"series serie-10 color-10\"><path class=\"line reactive\" d=\"M12.246154 497.501746 L16.920258 441.672554 21.594363 450.482421 26.268467 429.611249 30.942572 447.041788 35.616676 420.529917 40.290781 311.260898 44.964885 395.170811 49.638990 361.898871 54.313095 431.574332 58.987199 428.025962 63.661304 419.519387 68.335408 427.235826 73.009513 448.282109 77.683617 394.600580 82.357722 409.839736 87.031826 439.484470 91.705931 445.545454 96.380035 453.674493 101.054140 455.155643 105.728244 453.259321 110.402349 459.619335 115.076453 465.803580 119.750558 378.194352 124.424662 410.307980 129.098767 472.832379 133.772871 379.633853 138.446976 440.345815 143.121080 398.111537 147.795185 474.228420 152.469289 464.617009 157.143394 459.691516 161.817499 449.249628 166.491603 485.453872 171.165708 465.865433 175.839812 478.201261 180.513917 501.834135 185.188021 501.349696 189.862126 476.055076 194.536230 485.743945 199.210335 477.125690 203.884439 463.048852 208.558544 463.250782 213.232648 490.580178 217.906753 470.891268 222.580857 468.063896 227.254962 463.098136 231.929066 475.449939 236.603171 471.165979 241.277275 472.716379 245.951380 479.698309 250.625484 487.456138 255.299589 495.038800 259.973693 489.862106 264.647798 486.564432 269.321903 484.645109 273.996007 469.163329 278.670112 490.745132 283.344216 492.798745 288.018321 490.560812 292.692425 484.076485 297.366530 497.600106 302.040634 489.677903 306.714739 493.932874 311.388843 503.645452 316.062948 504.568431 320.737052 500.469882 325.411157 499.991301 330.085261 469.177170 334.759366 452.407272 339.433470 440.525517 344.107575 425.750970 348.781679 299.197995 353.455784 321.937513 358.129888 354.190089 362.803993 341.786346 367.478097 400.973041 372.152202 381.442461 376.826307 381.069831 381.500411 419.053988 386.174516 399.763132 390.848620 403.402018 395.522725 401.023334 400.196829 360.286291 404.870934 298.904657 409.545038 333.262041 414.219143 354.189540 418.893247 375.588656 423.567352 296.555431 428.241456 348.446547 432.915561 373.827050 437.589665 363.608683 442.263770 392.459897 446.937874 433.866620 451.611979 434.216644 456.286083 455.122070 460.960188 446.057036 465.634292 428.480206 470.308397 322.351581 474.982501 412.125369 479.656606 418.533837 484.330711 373.240338 489.004815 408.171280 493.678920 442.167743 498.353024 440.084415 503.027129 452.881273 507.701233 445.501632 512.375338 458.586868 517.049442 420.647591 521.723547 422.258039 526.397651 452.801966 531.071756 464.791620 535.745860 465.283013 540.419965 461.412724 545.094069 455.046870 549.768174 458.997538 554.442278 452.698731 559.116383 469.414877 563.790487 465.996442 568.464592 468.870000 573.138696 471.779181 577.812801 470.578421 582.486905 416.807808 587.161010 442.678811 591.835115 460.954989 596.509219 461.860018 601.183324 464.852596 605.857428 469.774063 610.531533 451.158216 615.205637 409.976216 619.879742 434.858604 624.553846 491.022309 624.553846 497.440202 619.879742 451.374541 615.205637 427.501412 610.531533 462.106663 605.857428 479.303840 601.183324 477.638006 596.509219 477.007156 591.835115 478.856829 587.161010 459.298373 582.486905 431.028793 577.812801 483.553940 573.138696 485.575050 568.464592 479.607592 563.790487 483.519314 559.116383 480.332787 554.442278 466.540048 549.768174 471.725260 545.094069 466.935489 540.419965 475.269470 535.745860 474.768477 531.071756 478.194693 526.397651 463.627720 521.723547 439.625255 517.049442 436.211807 512.375338 468.023618 507.701233 455.445065 503.027129 467.383237 498.353024 451.854958 493.678920 455.032831 489.004815 429.287754 484.330711 392.074994 479.656606 433.962204 474.982501 429.157462 470.308397 348.275805 465.634292 455.610052 460.960188 454.859361 456.286083 463.009200 451.611979 446.567024 446.937874 448.436262 442.263770 409.591674 437.589665 399.163108 432.915561 400.419205 428.241456 376.138317 423.567352 323.215637 418.893247 400.932432 414.219143 382.522420 409.545038 358.618884 404.870934 326.722940 400.196829 377.859426 395.522725 415.997815 390.848620 413.610258 386.174516 411.749894 381.500411 431.914786 376.826307 393.330540 372.152202 398.473559 367.478097 412.666656 362.803993 354.497075 358.129888 383.153445 353.455784 351.288946 348.781679 330.495453 344.107575 444.237488 339.433470 457.109439 334.759366 464.237016 330.085261 476.159455 325.411157 506.920281 320.737052 507.106294 316.062948 506.814250 311.388843 506.325396 306.714739 500.798307 302.040634 497.514767 297.366530 503.165703 292.692425 494.295261 288.018321 501.070776 283.344216 498.287041 278.670112 497.693500 273.996007 475.636209 269.321903 493.265386 264.647798 495.915514 259.973693 494.946020 255.299589 501.460059 250.625484 494.477907 245.951380 489.659433 241.277275 480.942408 236.603171 478.758108 231.929066 481.983044 227.254962 475.244421 222.580857 481.723802 217.906753 483.918928 213.232648 497.560422 208.558544 481.680601 203.884439 475.053073 199.210335 485.769334 194.536230 495.618352 189.862126 487.459502 185.188021 509.870859 180.513917 505.045904 175.839812 491.184096 171.165708 476.867913 166.491603 491.147034 161.817499 456.047766 157.143394 469.925917 152.469289 474.315463 147.795185 479.865583 143.121080 407.369510 138.446976 455.000998 133.772871 393.854425 129.098767 476.252027 124.424662 416.860694 119.750558 388.515527 115.076453 471.215280 110.402349 465.054615 105.728244 460.403848 101.054140 462.141990 96.380035 461.551258 91.705931 452.988497 87.031826 443.289949 82.357722 421.606421 77.683617 408.576594 73.009513 458.068177 68.335408 433.873658 63.661304 427.531130 58.987199 435.528854 54.313095 441.704296 49.638990 375.552332 44.964885 403.876432 40.290781 317.260922 35.616676 430.957911 30.942572 454.025435 26.268467 435.878619 21.594363 457.894994 16.920258 453.051824 12.246154 501.536086\"/></g><g class=\"series serie-11 color-11\"><path class=\"line reactive\" d=\"M12.246154 490.751639 L16.920258 424.246378 21.594363 430.604469 26.268467 404.300086 30.942572 428.828072 35.616676 392.402164 40.290781 213.138052 44.964885 353.041380 49.638990 329.544745 54.313095 400.652442 58.987199 402.109335 63.661304 393.751315 68.335408 399.715940 73.009513 418.994145 77.683617 347.932256 82.357722 369.516205 87.031826 419.647800 91.705931 428.653523 96.380035 434.576223 101.054140 440.712005 105.728244 438.033090 110.402349 446.167020 115.076453 451.731731 119.750558 359.315275 124.424662 400.491959 129.098767 460.427852 133.772871 364.365514 138.446976 431.267587 143.121080 388.916229 147.795185 466.534409 152.469289 453.977984 157.143394 452.394862 161.817499 440.668414 166.491603 476.332308 171.165708 458.822654 175.839812 472.494705 180.513917 498.486005 185.188021 497.198407 189.862126 470.778800 194.536230 474.998290 199.210335 469.129323 203.884439 456.284706 208.558544 458.814175 213.232648 485.996950 217.906753 461.741028 222.580857 458.128993 227.254962 455.780393 231.929066 470.607684 236.603171 464.184701 241.277275 465.313952 245.951380 474.446337 250.625484 485.158266 255.299589 492.952392 259.973693 486.737715 264.647798 480.288368 269.321903 479.080780 273.996007 458.773045 278.670112 486.897257 283.344216 489.271545 288.018321 486.346975 292.692425 476.886429 297.366530 493.673603 302.040634 485.649093 306.714739 490.749430 311.388843 498.643365 316.062948 501.759931 320.737052 495.070342 325.411157 495.442728 330.085261 457.720618 334.759366 441.837013 339.433470 431.273373 344.107575 416.320839 348.781679 272.913232 353.455784 294.679809 358.129888 333.554531 362.803993 325.394930 367.478097 387.202231 372.152202 366.171023 376.826307 363.813474 381.500411 410.179545 386.174516 390.704696 390.848620 392.161272 395.522725 386.642224 400.196829 341.919077 404.870934 274.194411 409.545038 320.715460 414.219143 339.181848 418.893247 359.888007 423.567352 279.549606 428.241456 330.037848 432.915561 360.894251 437.589665 349.157219 442.263770 384.735648 446.937874 429.338291 451.611979 425.673586 456.286083 449.611894 460.960188 437.174762 465.634292 421.815606 470.308397 311.987081 474.982501 403.377366 479.656606 409.747427 484.330711 365.539335 489.004815 400.548201 493.678920 433.947024 498.353024 429.612513 503.027129 444.523001 507.701233 437.985855 512.375338 452.517788 517.049442 408.144099 521.723547 413.239946 526.397651 447.034361 531.071756 457.870984 535.745860 459.282583 540.419965 451.404676 545.094069 445.023740 549.768174 448.075479 554.442278 446.550369 559.116383 463.291291 563.790487 454.001518 568.464592 461.734510 573.138696 463.439410 577.812801 464.419480 582.486905 409.199688 587.161010 434.242957 591.835115 454.388561 596.509219 458.016627 601.183324 458.835818 605.857428 463.745049 610.531533 443.069084 615.205637 398.424513 619.879742 426.588526 624.553846 487.930508 624.553846 491.022309 619.879742 434.858604 615.205637 409.976216 610.531533 451.158216 605.857428 469.774063 601.183324 464.852596 596.509219 461.860018 591.835115 460.954989 587.161010 442.678811 582.486905 416.807808 577.812801 470.578421 573.138696 471.779181 568.464592 468.870000 563.790487 465.996442 559.116383 469.414877 554.442278 452.698731 549.768174 458.997538 545.094069 455.046870 540.419965 461.412724 535.745860 465.283013 531.071756 464.791620 526.397651 452.801966 521.723547 422.258039 517.049442 420.647591 512.375338 458.586868 507.701233 445.501632 503.027129 452.881273 498.353024 440.084415 493.678920 442.167743 489.004815 408.171280 484.330711 373.240338 479.656606 418.533837 474.982501 412.125369 470.308397 322.351581 465.634292 428.480206 460.960188 446.057036 456.286083 455.122070 451.611979 434.216644 446.937874 433.866620 442.263770 392.459897 437.589665 363.608683 432.915561 373.827050 428.241456 348.446547 423.567352 296.555431 418.893247 375.588656 414.219143 354.189540 409.545038 333.262041 404.870934 298.904657 400.196829 360.286291 395.522725 401.023334 390.848620 403.402018 386.174516 399.763132 381.500411 419.053988 376.826307 381.069831 372.152202 381.442461 367.478097 400.973041 362.803993 341.786346 358.129888 354.190089 353.455784 321.937513 348.781679 299.197995 344.107575 425.750970 339.433470 440.525517 334.759366 452.407272 330.085261 469.177170 325.411157 499.991301 320.737052 500.469882 316.062948 504.568431 311.388843 503.645452 306.714739 493.932874 302.040634 489.677903 297.366530 497.600106 292.692425 484.076485 288.018321 490.560812 283.344216 492.798745 278.670112 490.745132 273.996007 469.163329 269.321903 484.645109 264.647798 486.564432 259.973693 489.862106 255.299589 495.038800 250.625484 487.456138 245.951380 479.698309 241.277275 472.716379 236.603171 471.165979 231.929066 475.449939 227.254962 463.098136 222.580857 468.063896 217.906753 470.891268 213.232648 490.580178 208.558544 463.250782 203.884439 463.048852 199.210335 477.125690 194.536230 485.743945 189.862126 476.055076 185.188021 501.349696 180.513917 501.834135 175.839812 478.201261 171.165708 465.865433 166.491603 485.453872 161.817499 449.249628 157.143394 459.691516 152.469289 464.617009 147.795185 474.228420 143.121080 398.111537 138.446976 440.345815 133.772871 379.633853 129.098767 472.832379 124.424662 410.307980 119.750558 378.194352 115.076453 465.803580 110.402349 459.619335 105.728244 453.259321 101.054140 455.155643 96.380035 453.674493 91.705931 445.545454 87.031826 439.484470 82.357722 409.839736 77.683617 394.600580 73.009513 448.282109 68.335408 427.235826 63.661304 419.519387 58.987199 428.025962 54.313095 431.574332 49.638990 361.898871 44.964885 395.170811 40.290781 311.260898 35.616676 420.529917 30.942572 447.041788 26.268467 429.611249 21.594363 450.482421 16.920258 441.672554 12.246154 497.501746\"/></g><g class=\"series serie-12 color-12\"><path class=\"line reactive\" d=\"M12.246154 490.000724 L16.920258 415.429568 21.594363 424.924357 26.268467 398.185285 30.942572 422.508470 35.616676 385.595395 40.290781 199.944947 44.964885 339.036427 49.638990 320.378678 54.313095 393.628186 58.987199 394.961251 63.661304 385.569896 68.335408 389.038616 73.009513 411.124737 77.683617 341.130182 82.357722 363.210670 87.031826 412.758309 91.705931 417.575300 96.380035 430.415566 101.054140 436.982971 105.728244 429.773700 110.402349 440.826825 115.076453 447.746773 119.750558 352.979200 124.424662 395.555945 129.098767 455.781876 133.772871 356.610891 138.446976 425.347919 143.121080 380.697083 147.795185 460.556751 152.469289 450.328714 157.143394 446.239980 161.817499 436.515195 166.491603 474.628798 171.165708 457.221942 175.839812 470.000212 180.513917 497.377286 185.188021 496.307652 189.862126 469.163282 194.536230 472.314533 199.210335 466.648692 203.884439 454.415175 208.558544 456.943483 213.232648 483.928857 217.906753 460.580841 222.580857 450.569842 227.254962 454.134793 231.929066 467.930203 236.603171 461.240238 241.277275 460.046953 245.951380 473.181818 250.625484 483.491872 255.299589 491.323456 259.973693 483.109987 264.647798 479.262489 269.321903 477.618333 273.996007 456.261046 278.670112 485.612565 283.344216 487.305127 288.018321 484.429159 292.692425 475.398539 297.366530 492.680451 302.040634 483.806864 306.714739 487.931328 311.388843 497.325038 316.062948 500.414404 320.737052 493.708525 325.411157 493.200064 330.085261 455.150906 334.759366 432.995460 339.433470 426.979501 344.107575 412.899777 348.781679 265.597342 353.455784 282.280256 358.129888 325.037908 362.803993 319.843800 367.478097 378.394533 372.152202 356.250659 376.826307 350.462857 381.500411 399.231749 386.174516 383.779322 390.848620 386.251470 395.522725 374.958896 400.196829 332.762454 404.870934 258.689979 409.545038 308.188265 414.219143 327.849345 418.893247 347.903174 423.567352 266.997443 428.241456 316.767135 432.915561 352.497096 437.589665 330.679359 442.263770 376.652866 446.937874 422.746759 451.611979 421.296454 456.286083 445.269865 460.960188 432.788316 465.634292 418.039788 470.308397 303.522600 474.982501 395.852406 479.656606 404.253444 484.330711 358.933156 489.004815 392.582681 493.678920 423.256974 498.353024 424.843555 503.027129 439.926285 507.701233 432.244988 512.375338 446.801252 517.049442 400.704200 521.723547 407.839688 526.397651 443.133239 531.071756 452.955374 535.745860 452.959792 540.419965 444.769343 545.094069 439.455723 549.768174 442.942020 554.442278 442.814248 559.116383 458.318096 563.790487 450.031993 568.464592 457.297192 573.138696 461.004329 577.812801 461.278957 582.486905 405.898704 587.161010 429.790946 591.835115 450.426941 596.509219 454.333201 601.183324 453.453075 605.857428 458.938793 610.531533 438.713388 615.205637 393.193038 619.879742 422.690597 624.553846 485.675911 624.553846 487.930508 619.879742 426.588526 615.205637 398.424513 610.531533 443.069084 605.857428 463.745049 601.183324 458.835818 596.509219 458.016627 591.835115 454.388561 587.161010 434.242957 582.486905 409.199688 577.812801 464.419480 573.138696 463.439410 568.464592 461.734510 563.790487 454.001518 559.116383 463.291291 554.442278 446.550369 549.768174 448.075479 545.094069 445.023740 540.419965 451.404676 535.745860 459.282583 531.071756 457.870984 526.397651 447.034361 521.723547 413.239946 517.049442 408.144099 512.375338 452.517788 507.701233 437.985855 503.027129 444.523001 498.353024 429.612513 493.678920 433.947024 489.004815 400.548201 484.330711 365.539335 479.656606 409.747427 474.982501 403.377366 470.308397 311.987081 465.634292 421.815606 460.960188 437.174762 456.286083 449.611894 451.611979 425.673586 446.937874 429.338291 442.263770 384.735648 437.589665 349.157219 432.915561 360.894251 428.241456 330.037848 423.567352 279.549606 418.893247 359.888007 414.219143 339.181848 409.545038 320.715460 404.870934 274.194411 400.196829 341.919077 395.522725 386.642224 390.848620 392.161272 386.174516 390.704696 381.500411 410.179545 376.826307 363.813474 372.152202 366.171023 367.478097 387.202231 362.803993 325.394930 358.129888 333.554531 353.455784 294.679809 348.781679 272.913232 344.107575 416.320839 339.433470 431.273373 334.759366 441.837013 330.085261 457.720618 325.411157 495.442728 320.737052 495.070342 316.062948 501.759931 311.388843 498.643365 306.714739 490.749430 302.040634 485.649093 297.366530 493.673603 292.692425 476.886429 288.018321 486.346975 283.344216 489.271545 278.670112 486.897257 273.996007 458.773045 269.321903 479.080780 264.647798 480.288368 259.973693 486.737715 255.299589 492.952392 250.625484 485.158266 245.951380 474.446337 241.277275 465.313952 236.603171 464.184701 231.929066 470.607684 227.254962 455.780393 222.580857 458.128993 217.906753 461.741028 213.232648 485.996950 208.558544 458.814175 203.884439 456.284706 199.210335 469.129323 194.536230 474.998290 189.862126 470.778800 185.188021 497.198407 180.513917 498.486005 175.839812 472.494705 171.165708 458.822654 166.491603 476.332308 161.817499 440.668414 157.143394 452.394862 152.469289 453.977984 147.795185 466.534409 143.121080 388.916229 138.446976 431.267587 133.772871 364.365514 129.098767 460.427852 124.424662 400.491959 119.750558 359.315275 115.076453 451.731731 110.402349 446.167020 105.728244 438.033090 101.054140 440.712005 96.380035 434.576223 91.705931 428.653523 87.031826 419.647800 82.357722 369.516205 77.683617 347.932256 73.009513 418.994145 68.335408 399.715940 63.661304 393.751315 58.987199 402.109335 54.313095 400.652442 49.638990 329.544745 44.964885 353.041380 40.290781 213.138052 35.616676 392.402164 30.942572 428.828072 26.268467 404.300086 21.594363 430.604469 16.920258 424.246378 12.246154 490.751639\"/></g><g class=\"series serie-13 color-13\"><path class=\"line reactive\" d=\"M12.246154 485.091566 L16.920258 391.920706 21.594363 400.960750 26.268467 372.052423 30.942572 400.858427 35.616676 363.045465 40.290781 150.331363 44.964885 288.118613 49.638990 280.270716 54.313095 364.109940 58.987199 369.705052 63.661304 356.648169 68.335408 361.691499 73.009513 385.036644 77.683617 312.773646 82.357722 341.084189 87.031826 393.138607 91.705931 402.424840 96.380035 415.573577 101.054140 424.507569 105.728244 414.624624 110.402349 425.928077 115.076453 433.137741 119.750558 332.748364 124.424662 378.458487 129.098767 443.038751 133.772871 333.077817 138.446976 412.422958 143.121080 366.686299 147.795185 446.353077 152.469289 439.861906 157.143394 435.620068 161.817499 421.412786 166.491603 464.877421 171.165708 448.702776 175.839812 462.687629 180.513917 493.485022 185.188021 491.504797 189.862126 461.090296 194.536230 464.781298 199.210335 457.571170 203.884439 446.811422 208.558544 447.698198 213.232648 475.243878 217.906753 451.520450 222.580857 439.077478 227.254962 444.694442 231.929066 461.877102 236.603171 451.944310 241.277275 450.364594 245.951380 465.980655 250.625484 477.875968 255.299589 486.890670 259.973693 479.244498 264.647798 474.918250 269.321903 473.322335 273.996007 448.785966 278.670112 481.535805 283.344216 483.368149 288.018321 480.306942 292.692425 471.229758 297.366530 489.537401 302.040634 477.641461 306.714739 481.347735 311.388843 492.455774 316.062948 497.929945 320.737052 488.093520 325.411157 486.620725 330.085261 439.220938 334.759366 403.203031 339.433470 398.673982 344.107575 394.749022 348.781679 214.865898 353.455784 227.113959 358.129888 285.885710 362.803993 292.211027 367.478097 357.565585 372.152202 335.796458 376.826307 326.416907 381.500411 373.544337 386.174516 364.014093 390.848620 360.924998 395.522725 344.553913 400.196829 308.050420 404.870934 217.971935 409.545038 276.165744 414.219143 296.057384 418.893247 320.293408 423.567352 238.248771 428.241456 287.139074 432.915561 330.767357 437.589665 295.777272 442.263770 359.473626 446.937874 408.952624 451.611979 402.664308 456.286083 433.527593 460.960188 418.731810 465.634292 402.602027 470.308397 280.075337 474.982501 377.658208 479.656606 388.481309 484.330711 342.805659 489.004815 379.923728 493.678920 408.561707 498.353024 413.283847 503.027129 426.273299 507.701233 416.639934 512.375338 435.575453 517.049442 379.178169 521.723547 393.805470 526.397651 433.832946 531.071756 442.280285 535.745860 438.555468 540.419965 429.707255 545.094069 428.878738 549.768174 432.734916 554.442278 433.296943 559.116383 449.668064 563.790487 442.407213 568.464592 448.862927 573.138696 452.536591 577.812801 454.076162 582.486905 394.299726 587.161010 416.390330 591.835115 441.325734 596.509219 446.707434 601.183324 441.532732 605.857428 447.006925 610.531533 426.047390 615.205637 371.928404 619.879742 399.903087 624.553846 480.206433 624.553846 485.675911 619.879742 422.690597 615.205637 393.193038 610.531533 438.713388 605.857428 458.938793 601.183324 453.453075 596.509219 454.333201 591.835115 450.426941 587.161010 429.790946 582.486905 405.898704 577.812801 461.278957 573.138696 461.004329 568.464592 457.297192 563.790487 450.031993 559.116383 458.318096 554.442278 442.814248 549.768174 442.942020 545.094069 439.455723 540.419965 444.769343 535.745860 452.959792 531.071756 452.955374 526.397651 443.133239 521.723547 407.839688 517.049442 400.704200 512.375338 446.801252 507.701233 432.244988 503.027129 439.926285 498.353024 424.843555 493.678920 423.256974 489.004815 392.582681 484.330711 358.933156 479.656606 404.253444 474.982501 395.852406 470.308397 303.522600 465.634292 418.039788 460.960188 432.788316 456.286083 445.269865 451.611979 421.296454 446.937874 422.746759 442.263770 376.652866 437.589665 330.679359 432.915561 352.497096 428.241456 316.767135 423.567352 266.997443 418.893247 347.903174 414.219143 327.849345 409.545038 308.188265 404.870934 258.689979 400.196829 332.762454 395.522725 374.958896 390.848620 386.251470 386.174516 383.779322 381.500411 399.231749 376.826307 350.462857 372.152202 356.250659 367.478097 378.394533 362.803993 319.843800 358.129888 325.037908 353.455784 282.280256 348.781679 265.597342 344.107575 412.899777 339.433470 426.979501 334.759366 432.995460 330.085261 455.150906 325.411157 493.200064 320.737052 493.708525 316.062948 500.414404 311.388843 497.325038 306.714739 487.931328 302.040634 483.806864 297.366530 492.680451 292.692425 475.398539 288.018321 484.429159 283.344216 487.305127 278.670112 485.612565 273.996007 456.261046 269.321903 477.618333 264.647798 479.262489 259.973693 483.109987 255.299589 491.323456 250.625484 483.491872 245.951380 473.181818 241.277275 460.046953 236.603171 461.240238 231.929066 467.930203 227.254962 454.134793 222.580857 450.569842 217.906753 460.580841 213.232648 483.928857 208.558544 456.943483 203.884439 454.415175 199.210335 466.648692 194.536230 472.314533 189.862126 469.163282 185.188021 496.307652 180.513917 497.377286 175.839812 470.000212 171.165708 457.221942 166.491603 474.628798 161.817499 436.515195 157.143394 446.239980 152.469289 450.328714 147.795185 460.556751 143.121080 380.697083 138.446976 425.347919 133.772871 356.610891 129.098767 455.781876 124.424662 395.555945 119.750558 352.979200 115.076453 447.746773 110.402349 440.826825 105.728244 429.773700 101.054140 436.982971 96.380035 430.415566 91.705931 417.575300 87.031826 412.758309 82.357722 363.210670 77.683617 341.130182 73.009513 411.124737 68.335408 389.038616 63.661304 385.569896 58.987199 394.961251 54.313095 393.628186 49.638990 320.378678 44.964885 339.036427 40.290781 199.944947 35.616676 385.595395 30.942572 422.508470 26.268467 398.185285 21.594363 424.924357 16.920258 415.429568 12.246154 490.000724\"/></g><g class=\"series serie-14 color-14\"><path class=\"line reactive\" d=\"M12.246154 484.858120 L16.920258 391.045661 21.594363 399.958064 26.268467 370.437123 30.942572 400.115367 35.616676 361.351354 40.290781 135.881195 44.964885 284.163418 49.638990 277.184386 54.313095 362.288788 58.987199 366.950091 63.661304 353.529308 68.335408 359.174079 73.009513 383.765796 77.683617 311.812599 82.357722 339.656344 87.031826 391.527529 91.705931 400.778919 96.380035 414.699895 101.054140 424.010531 105.728244 414.030911 110.402349 425.117639 115.076453 432.548629 119.750558 330.508938 124.424662 377.372226 129.098767 442.157609 133.772871 331.839027 138.446976 411.668225 143.121080 365.164363 147.795185 445.202545 152.469289 439.167809 157.143394 434.178566 161.817499 420.695907 166.491603 464.750134 171.165708 447.892554 175.839812 462.085300 180.513917 493.190358 185.188021 491.377058 189.862126 460.604458 194.536230 464.094621 199.210335 457.062003 203.884439 445.468053 208.558544 447.232527 213.232648 474.730380 217.906753 451.121482 222.580857 438.153917 227.254962 444.359611 231.929066 461.571645 236.603171 451.368215 241.277275 449.848781 245.951380 465.769148 250.625484 477.456215 255.299589 486.597246 259.973693 477.488043 264.647798 474.434900 269.321903 473.013582 273.996007 448.387860 278.670112 481.417759 283.344216 483.031754 288.018321 480.026295 292.692425 470.965577 297.366530 489.258264 302.040634 477.528802 306.714739 481.095080 311.388843 492.294719 316.062948 497.783614 320.737052 487.908912 325.411157 486.386868 330.085261 438.614654 334.759366 402.475725 339.433470 397.116429 344.107575 393.403043 348.781679 210.733499 353.455784 220.698472 358.129888 252.229916 362.803993 211.466915 367.478097 286.254401 372.152202 255.379105 376.826307 276.807099 381.500411 317.904773 386.174516 326.656619 390.848620 330.529167 395.522725 302.083369 400.196829 233.727250 404.870934 68.764857 409.545038 224.937616 414.219143 250.830347 418.893247 279.023641 423.567352 198.823470 428.241456 250.426105 432.915561 298.288143 437.589665 265.267405 442.263770 324.454952 446.937874 394.976378 451.611979 389.429637 456.286083 422.341030 460.960188 410.506851 465.634292 389.868214 470.308397 265.977255 474.982501 367.001757 479.656606 380.069930 484.330711 336.518597 489.004815 367.489404 493.678920 399.197309 498.353024 395.752513 503.027129 421.921692 507.701233 405.240435 512.375338 423.495709 517.049442 350.814672 521.723547 376.448542 526.397651 421.155239 531.071756 437.765013 535.745860 430.886829 540.419965 418.139138 545.094069 423.413481 549.768174 426.098015 554.442278 427.462595 559.116383 441.699885 563.790487 430.207278 568.464592 440.828086 573.138696 449.323046 577.812801 449.219437 582.486905 391.656117 587.161010 411.819496 591.835115 438.499970 596.509219 444.625734 601.183324 433.691442 605.857428 438.853527 610.531533 422.569946 615.205637 366.604838 619.879742 393.759353 624.553846 478.570834 624.553846 480.206433 619.879742 399.903087 615.205637 371.928404 610.531533 426.047390 605.857428 447.006925 601.183324 441.532732 596.509219 446.707434 591.835115 441.325734 587.161010 416.390330 582.486905 394.299726 577.812801 454.076162 573.138696 452.536591 568.464592 448.862927 563.790487 442.407213 559.116383 449.668064 554.442278 433.296943 549.768174 432.734916 545.094069 428.878738 540.419965 429.707255 535.745860 438.555468 531.071756 442.280285 526.397651 433.832946 521.723547 393.805470 517.049442 379.178169 512.375338 435.575453 507.701233 416.639934 503.027129 426.273299 498.353024 413.283847 493.678920 408.561707 489.004815 379.923728 484.330711 342.805659 479.656606 388.481309 474.982501 377.658208 470.308397 280.075337 465.634292 402.602027 460.960188 418.731810 456.286083 433.527593 451.611979 402.664308 446.937874 408.952624 442.263770 359.473626 437.589665 295.777272 432.915561 330.767357 428.241456 287.139074 423.567352 238.248771 418.893247 320.293408 414.219143 296.057384 409.545038 276.165744 404.870934 217.971935 400.196829 308.050420 395.522725 344.553913 390.848620 360.924998 386.174516 364.014093 381.500411 373.544337 376.826307 326.416907 372.152202 335.796458 367.478097 357.565585 362.803993 292.211027 358.129888 285.885710 353.455784 227.113959 348.781679 214.865898 344.107575 394.749022 339.433470 398.673982 334.759366 403.203031 330.085261 439.220938 325.411157 486.620725 320.737052 488.093520 316.062948 497.929945 311.388843 492.455774 306.714739 481.347735 302.040634 477.641461 297.366530 489.537401 292.692425 471.229758 288.018321 480.306942 283.344216 483.368149 278.670112 481.535805 273.996007 448.785966 269.321903 473.322335 264.647798 474.918250 259.973693 479.244498 255.299589 486.890670 250.625484 477.875968 245.951380 465.980655 241.277275 450.364594 236.603171 451.944310 231.929066 461.877102 227.254962 444.694442 222.580857 439.077478 217.906753 451.520450 213.232648 475.243878 208.558544 447.698198 203.884439 446.811422 199.210335 457.571170 194.536230 464.781298 189.862126 461.090296 185.188021 491.504797 180.513917 493.485022 175.839812 462.687629 171.165708 448.702776 166.491603 464.877421 161.817499 421.412786 157.143394 435.620068 152.469289 439.861906 147.795185 446.353077 143.121080 366.686299 138.446976 412.422958 133.772871 333.077817 129.098767 443.038751 124.424662 378.458487 119.750558 332.748364 115.076453 433.137741 110.402349 425.928077 105.728244 414.624624 101.054140 424.507569 96.380035 415.573577 91.705931 402.424840 87.031826 393.138607 82.357722 341.084189 77.683617 312.773646 73.009513 385.036644 68.335408 361.691499 63.661304 356.648169 58.987199 369.705052 54.313095 364.109940 49.638990 280.270716 44.964885 288.118613 40.290781 150.331363 35.616676 363.045465 30.942572 400.858427 26.268467 372.052423 21.594363 400.960750 16.920258 391.920706 12.246154 485.091566\"/></g><g class=\"series serie-15 color-15\"><path class=\"line reactive\" d=\"M12.246154 479.319742 L16.920258 373.692303 21.594363 380.573899 26.268467 349.344792 30.942572 380.484280 35.616676 327.068185 40.290781 81.073755 44.964885 263.965474 49.638990 246.608254 54.313095 333.202738 58.987199 342.832524 63.661304 335.014945 68.335408 336.831217 73.009513 362.568074 77.683617 283.866829 82.357722 305.388521 87.031826 372.163944 91.705931 378.814940 96.380035 385.176801 101.054140 406.700699 105.728244 388.357674 110.402349 407.061776 115.076453 413.267677 119.750558 309.713018 124.424662 360.334534 129.098767 424.722840 133.772871 309.908863 138.446976 393.857364 143.121080 340.951923 147.795185 428.998122 152.469289 407.716245 157.143394 402.772934 161.817499 395.394041 166.491603 455.691930 171.165708 427.610333 175.839812 447.209046 180.513917 480.303710 185.188021 485.197756 189.862126 451.263957 194.536230 456.883808 199.210335 452.534859 203.884439 440.916200 208.558544 443.682527 213.232648 472.857255 217.906753 445.972068 222.580857 430.221669 227.254962 435.766018 231.929066 457.009589 236.603171 445.488850 241.277275 444.433892 245.951380 460.174704 250.625484 471.510407 255.299589 480.788110 259.973693 471.224830 264.647798 467.997077 269.321903 468.937346 273.996007 446.371788 278.670112 476.920144 283.344216 481.622412 288.018321 477.287726 292.692425 467.576268 297.366530 486.780113 302.040634 474.543227 306.714739 477.372488 311.388843 490.079552 316.062948 493.882689 320.737052 483.900923 325.411157 482.230654 330.085261 435.075107 334.759366 396.526242 339.433470 386.910867 344.107575 377.488074 348.781679 188.931155 353.455784 206.912912 358.129888 231.024724 362.803993 190.740982 367.478097 277.331767 372.152202 247.898143 376.826307 269.644669 381.500411 312.616783 386.174516 320.769366 390.848620 324.434397 395.522725 296.592309 400.196829 225.874692 404.870934 57.131750 409.545038 213.711537 414.219143 240.150669 418.893247 266.383182 423.567352 185.261191 428.241456 230.744359 432.915561 283.832664 437.589665 249.607826 442.263770 314.491417 446.937874 388.074047 451.611979 383.806309 456.286083 417.770829 460.960188 405.599794 465.634292 384.146172 470.308397 258.857180 474.982501 361.681921 479.656606 363.756739 484.330711 320.290960 489.004815 357.486355 493.678920 392.491873 498.353024 387.882993 503.027129 416.232221 507.701233 401.478374 512.375338 418.582758 517.049442 344.849635 521.723547 366.343687 526.397651 413.095847 531.071756 432.808983 535.745860 426.082535 540.419965 411.233524 545.094069 417.653305 549.768174 420.330555 554.442278 419.536085 559.116383 434.043352 563.790487 424.458529 568.464592 435.531461 573.138696 445.154720 577.812801 443.534948 582.486905 387.016741 587.161010 405.071650 591.835115 433.345123 596.509219 437.174703 601.183324 428.105748 605.857428 434.566942 610.531533 417.927491 615.205637 362.145638 619.879742 389.424736 624.553846 475.815431 624.553846 478.570834 619.879742 393.759353 615.205637 366.604838 610.531533 422.569946 605.857428 438.853527 601.183324 433.691442 596.509219 444.625734 591.835115 438.499970 587.161010 411.819496 582.486905 391.656117 577.812801 449.219437 573.138696 449.323046 568.464592 440.828086 563.790487 430.207278 559.116383 441.699885 554.442278 427.462595 549.768174 426.098015 545.094069 423.413481 540.419965 418.139138 535.745860 430.886829 531.071756 437.765013 526.397651 421.155239 521.723547 376.448542 517.049442 350.814672 512.375338 423.495709 507.701233 405.240435 503.027129 421.921692 498.353024 395.752513 493.678920 399.197309 489.004815 367.489404 484.330711 336.518597 479.656606 380.069930 474.982501 367.001757 470.308397 265.977255 465.634292 389.868214 460.960188 410.506851 456.286083 422.341030 451.611979 389.429637 446.937874 394.976378 442.263770 324.454952 437.589665 265.267405 432.915561 298.288143 428.241456 250.426105 423.567352 198.823470 418.893247 279.023641 414.219143 250.830347 409.545038 224.937616 404.870934 68.764857 400.196829 233.727250 395.522725 302.083369 390.848620 330.529167 386.174516 326.656619 381.500411 317.904773 376.826307 276.807099 372.152202 255.379105 367.478097 286.254401 362.803993 211.466915 358.129888 252.229916 353.455784 220.698472 348.781679 210.733499 344.107575 393.403043 339.433470 397.116429 334.759366 402.475725 330.085261 438.614654 325.411157 486.386868 320.737052 487.908912 316.062948 497.783614 311.388843 492.294719 306.714739 481.095080 302.040634 477.528802 297.366530 489.258264 292.692425 470.965577 288.018321 480.026295 283.344216 483.031754 278.670112 481.417759 273.996007 448.387860 269.321903 473.013582 264.647798 474.434900 259.973693 477.488043 255.299589 486.597246 250.625484 477.456215 245.951380 465.769148 241.277275 449.848781 236.603171 451.368215 231.929066 461.571645 227.254962 444.359611 222.580857 438.153917 217.906753 451.121482 213.232648 474.730380 208.558544 447.232527 203.884439 445.468053 199.210335 457.062003 194.536230 464.094621 189.862126 460.604458 185.188021 491.377058 180.513917 493.190358 175.839812 462.085300 171.165708 447.892554 166.491603 464.750134 161.817499 420.695907 157.143394 434.178566 152.469289 439.167809 147.795185 445.202545 143.121080 365.164363 138.446976 411.668225 133.772871 331.839027 129.098767 442.157609 124.424662 377.372226 119.750558 330.508938 115.076453 432.548629 110.402349 425.117639 105.728244 414.030911 101.054140 424.010531 96.380035 414.699895 91.705931 400.778919 87.031826 391.527529 82.357722 339.656344 77.683617 311.812599 73.009513 383.765796 68.335408 359.174079 63.661304 353.529308 58.987199 366.950091 54.313095 362.288788 49.638990 277.184386 44.964885 284.163418 40.290781 135.881195 35.616676 361.351354 30.942572 400.115367 26.268467 370.437123 21.594363 399.958064 16.920258 391.045661 12.246154 484.858120\"/></g><g class=\"series serie-16 color-16\"><path class=\"line reactive\" d=\"M12.246154 477.203618 L16.920258 365.794319 21.594363 371.061256 26.268467 337.887790 30.942572 370.413340 35.616676 315.503427 40.290781 68.551183 44.964885 253.018057 49.638990 238.265860 54.313095 321.515811 58.987199 336.655009 63.661304 327.075274 68.335408 327.925392 73.009513 352.762646 77.683617 274.028102 82.357722 293.439883 87.031826 366.666329 91.705931 370.912669 96.380035 376.098256 101.054140 400.679402 105.728244 381.041845 110.402349 402.810142 115.076453 406.492506 119.750558 302.982846 124.424662 354.523198 129.098767 418.848014 133.772871 302.110006 138.446976 387.620724 143.121080 335.325698 147.795185 422.871613 152.469289 401.687008 157.143394 397.267756 161.817499 391.148803 166.491603 452.719420 171.165708 424.705359 175.839812 442.098715 180.513917 478.075585 185.188021 483.070000 189.862126 447.497532 194.536230 450.824496 199.210335 449.209507 203.884439 434.730032 208.558544 440.202744 213.232648 470.467106 217.906753 442.973351 222.580857 427.509671 227.254962 432.584472 231.929066 453.674580 236.603171 439.734795 241.277275 440.263176 245.951380 457.377802 250.625484 468.595443 255.299589 478.302665 259.973693 468.745324 264.647798 462.588666 269.321903 465.091823 273.996007 443.193507 278.670112 474.857979 283.344216 479.857308 288.018321 475.223056 292.692425 465.511863 297.366530 484.576934 302.040634 471.884758 306.714739 474.434984 311.388843 488.525500 316.062948 491.206612 320.737052 480.715940 325.411157 479.645230 330.085261 429.535155 334.759366 387.817356 339.433470 382.499681 344.107575 371.887400 348.781679 177.403981 353.455784 197.814221 358.129888 220.667714 362.803993 181.848181 367.478097 271.940663 372.152202 241.471081 376.826307 264.352183 381.500411 303.716353 386.174516 312.789049 390.848620 316.815119 395.522725 289.487579 400.196829 220.357166 404.870934 48.413644 409.545038 203.054538 414.219143 225.948113 418.893247 252.690964 423.567352 176.236351 428.241456 220.566266 432.915561 274.066103 437.589665 239.211572 442.263770 308.426452 446.937874 382.125819 451.611979 377.875883 456.286083 412.782681 460.960188 400.287831 465.634292 376.567299 470.308397 252.215875 474.982501 353.345346 479.656606 357.446452 484.330711 314.658968 489.004815 351.280906 493.678920 385.043552 498.353024 382.266906 503.027129 410.315582 507.701233 396.916042 512.375338 413.077624 517.049442 339.098011 521.723547 357.090047 526.397651 406.683473 531.071756 423.130036 535.745860 419.513871 540.419965 406.677470 545.094069 412.519210 549.768174 416.460663 554.442278 412.951562 559.116383 428.471480 563.790487 420.704604 568.464592 432.196635 573.138696 440.264083 577.812801 438.046683 582.486905 382.077228 587.161010 396.147848 591.835115 426.892030 596.509219 431.809778 601.183324 423.932420 605.857428 429.697203 610.531533 411.480639 615.205637 357.517528 619.879742 384.299612 624.553846 473.154453 624.553846 475.815431 619.879742 389.424736 615.205637 362.145638 610.531533 417.927491 605.857428 434.566942 601.183324 428.105748 596.509219 437.174703 591.835115 433.345123 587.161010 405.071650 582.486905 387.016741 577.812801 443.534948 573.138696 445.154720 568.464592 435.531461 563.790487 424.458529 559.116383 434.043352 554.442278 419.536085 549.768174 420.330555 545.094069 417.653305 540.419965 411.233524 535.745860 426.082535 531.071756 432.808983 526.397651 413.095847 521.723547 366.343687 517.049442 344.849635 512.375338 418.582758 507.701233 401.478374 503.027129 416.232221 498.353024 387.882993 493.678920 392.491873 489.004815 357.486355 484.330711 320.290960 479.656606 363.756739 474.982501 361.681921 470.308397 258.857180 465.634292 384.146172 460.960188 405.599794 456.286083 417.770829 451.611979 383.806309 446.937874 388.074047 442.263770 314.491417 437.589665 249.607826 432.915561 283.832664 428.241456 230.744359 423.567352 185.261191 418.893247 266.383182 414.219143 240.150669 409.545038 213.711537 404.870934 57.131750 400.196829 225.874692 395.522725 296.592309 390.848620 324.434397 386.174516 320.769366 381.500411 312.616783 376.826307 269.644669 372.152202 247.898143 367.478097 277.331767 362.803993 190.740982 358.129888 231.024724 353.455784 206.912912 348.781679 188.931155 344.107575 377.488074 339.433470 386.910867 334.759366 396.526242 330.085261 435.075107 325.411157 482.230654 320.737052 483.900923 316.062948 493.882689 311.388843 490.079552 306.714739 477.372488 302.040634 474.543227 297.366530 486.780113 292.692425 467.576268 288.018321 477.287726 283.344216 481.622412 278.670112 476.920144 273.996007 446.371788 269.321903 468.937346 264.647798 467.997077 259.973693 471.224830 255.299589 480.788110 250.625484 471.510407 245.951380 460.174704 241.277275 444.433892 236.603171 445.488850 231.929066 457.009589 227.254962 435.766018 222.580857 430.221669 217.906753 445.972068 213.232648 472.857255 208.558544 443.682527 203.884439 440.916200 199.210335 452.534859 194.536230 456.883808 189.862126 451.263957 185.188021 485.197756 180.513917 480.303710 175.839812 447.209046 171.165708 427.610333 166.491603 455.691930 161.817499 395.394041 157.143394 402.772934 152.469289 407.716245 147.795185 428.998122 143.121080 340.951923 138.446976 393.857364 133.772871 309.908863 129.098767 424.722840 124.424662 360.334534 119.750558 309.713018 115.076453 413.267677 110.402349 407.061776 105.728244 388.357674 101.054140 406.700699 96.380035 385.176801 91.705931 378.814940 87.031826 372.163944 82.357722 305.388521 77.683617 283.866829 73.009513 362.568074 68.335408 336.831217 63.661304 335.014945 58.987199 342.832524 54.313095 333.202738 49.638990 246.608254 44.964885 263.965474 40.290781 81.073755 35.616676 327.068185 30.942572 380.484280 26.268467 349.344792 21.594363 380.573899 16.920258 373.692303 12.246154 479.319742\"/></g><g class=\"series serie-17 color-17\"><path class=\"line reactive\" d=\"M12.246154 474.142582 L16.920258 350.812174 21.594363 361.882071 26.268467 327.275552 30.942572 364.570167 35.616676 305.016925 40.290781 58.778946 44.964885 247.591360 49.638990 233.382494 54.313095 310.683329 58.987199 330.287947 63.661304 318.455726 68.335408 323.622075 73.009513 337.198899 77.683617 215.665605 82.357722 259.523553 87.031826 352.092369 91.705931 360.937243 96.380035 371.419525 101.054140 394.804849 105.728244 375.994815 110.402349 395.632311 115.076453 403.384688 119.750558 297.959387 124.424662 346.404153 129.098767 413.651571 133.772871 285.310895 138.446976 376.629158 143.121080 328.036545 147.795185 417.497766 152.469289 392.953070 157.143394 391.685623 161.817499 386.357295 166.491603 448.550675 171.165708 406.692082 175.839812 432.988405 180.513917 474.456634 185.188021 480.597938 189.862126 444.592832 194.536230 428.263953 199.210335 442.506970 203.884439 426.862327 208.558544 432.007326 213.232648 467.650227 217.906753 439.961633 222.580857 423.563701 227.254962 422.595688 231.929066 447.361848 236.603171 434.924666 241.277275 434.586930 245.951380 454.747785 250.625484 464.962926 255.299589 474.752334 259.973693 465.458332 264.647798 457.624732 269.321903 462.085271 273.996007 438.881733 278.670112 470.625614 283.344216 477.887311 288.018321 473.062224 292.692425 462.530137 297.366530 482.171817 302.040634 468.884470 306.714739 469.435477 311.388843 486.613565 316.062948 488.763430 320.737052 479.179603 325.411157 477.768229 330.085261 426.012119 334.759366 369.598913 339.433470 335.731964 344.107575 333.034994 348.781679 122.966416 353.455784 177.440732 358.129888 181.415220 362.803993 153.589781 367.478097 263.759614 372.152202 235.142015 376.826307 254.121005 381.500411 297.288814 386.174516 307.227925 390.848620 311.876957 395.522725 284.756070 400.196829 212.821437 404.870934 36.374093 409.545038 196.063531 414.219143 217.455373 418.893247 242.334281 423.567352 152.216834 428.241456 201.433401 432.915561 262.374510 437.589665 223.139347 442.263770 300.346079 446.937874 377.603052 451.611979 373.631591 456.286083 406.858832 460.960188 393.477588 465.634292 371.312854 470.308397 246.423627 474.982501 344.012997 479.656606 351.578849 484.330711 297.375190 489.004815 344.322664 493.678920 379.207155 498.353024 378.329327 503.027129 405.006340 507.701233 392.594757 512.375338 410.034333 517.049442 332.340066 521.723547 343.542236 526.397651 401.950289 531.071756 412.240905 535.745860 416.130918 540.419965 403.226745 545.094069 410.089356 549.768174 411.658629 554.442278 402.345336 559.116383 422.654715 563.790487 408.908202 568.464592 430.553715 573.138696 433.660936 577.812801 433.548423 582.486905 359.259794 587.161010 378.887383 591.835115 418.752500 596.509219 426.006124 601.183324 419.649869 605.857428 420.947850 610.531533 397.011010 615.205637 337.375713 619.879742 357.868168 624.553846 462.994884 624.553846 473.154453 619.879742 384.299612 615.205637 357.517528 610.531533 411.480639 605.857428 429.697203 601.183324 423.932420 596.509219 431.809778 591.835115 426.892030 587.161010 396.147848 582.486905 382.077228 577.812801 438.046683 573.138696 440.264083 568.464592 432.196635 563.790487 420.704604 559.116383 428.471480 554.442278 412.951562 549.768174 416.460663 545.094069 412.519210 540.419965 406.677470 535.745860 419.513871 531.071756 423.130036 526.397651 406.683473 521.723547 357.090047 517.049442 339.098011 512.375338 413.077624 507.701233 396.916042 503.027129 410.315582 498.353024 382.266906 493.678920 385.043552 489.004815 351.280906 484.330711 314.658968 479.656606 357.446452 474.982501 353.345346 470.308397 252.215875 465.634292 376.567299 460.960188 400.287831 456.286083 412.782681 451.611979 377.875883 446.937874 382.125819 442.263770 308.426452 437.589665 239.211572 432.915561 274.066103 428.241456 220.566266 423.567352 176.236351 418.893247 252.690964 414.219143 225.948113 409.545038 203.054538 404.870934 48.413644 400.196829 220.357166 395.522725 289.487579 390.848620 316.815119 386.174516 312.789049 381.500411 303.716353 376.826307 264.352183 372.152202 241.471081 367.478097 271.940663 362.803993 181.848181 358.129888 220.667714 353.455784 197.814221 348.781679 177.403981 344.107575 371.887400 339.433470 382.499681 334.759366 387.817356 330.085261 429.535155 325.411157 479.645230 320.737052 480.715940 316.062948 491.206612 311.388843 488.525500 306.714739 474.434984 302.040634 471.884758 297.366530 484.576934 292.692425 465.511863 288.018321 475.223056 283.344216 479.857308 278.670112 474.857979 273.996007 443.193507 269.321903 465.091823 264.647798 462.588666 259.973693 468.745324 255.299589 478.302665 250.625484 468.595443 245.951380 457.377802 241.277275 440.263176 236.603171 439.734795 231.929066 453.674580 227.254962 432.584472 222.580857 427.509671 217.906753 442.973351 213.232648 470.467106 208.558544 440.202744 203.884439 434.730032 199.210335 449.209507 194.536230 450.824496 189.862126 447.497532 185.188021 483.070000 180.513917 478.075585 175.839812 442.098715 171.165708 424.705359 166.491603 452.719420 161.817499 391.148803 157.143394 397.267756 152.469289 401.687008 147.795185 422.871613 143.121080 335.325698 138.446976 387.620724 133.772871 302.110006 129.098767 418.848014 124.424662 354.523198 119.750558 302.982846 115.076453 406.492506 110.402349 402.810142 105.728244 381.041845 101.054140 400.679402 96.380035 376.098256 91.705931 370.912669 87.031826 366.666329 82.357722 293.439883 77.683617 274.028102 73.009513 352.762646 68.335408 327.925392 63.661304 327.075274 58.987199 336.655009 54.313095 321.515811 49.638990 238.265860 44.964885 253.018057 40.290781 68.551183 35.616676 315.503427 30.942572 370.413340 26.268467 337.887790 21.594363 371.061256 16.920258 365.794319 12.246154 477.203618\"/></g><g class=\"series serie-18 color-18\"><path class=\"line reactive\" d=\"M12.246154 472.472141 L16.920258 345.813352 21.594363 357.444891 26.268467 319.389367 30.942572 360.457776 35.616676 301.036453 40.290781 44.787175 44.964885 242.810075 49.638990 228.334447 54.313095 307.251203 58.987199 327.244050 63.661304 315.950029 68.335408 319.824943 73.009513 335.214887 77.683617 211.964400 82.357722 254.882888 87.031826 348.849418 91.705931 355.706600 96.380035 367.607744 101.054140 391.260883 105.728244 372.881781 110.402349 393.955080 115.076453 397.828243 119.750558 293.747133 124.424662 344.319238 129.098767 411.015006 133.772871 276.516095 138.446976 372.536483 143.121080 324.181793 147.795185 414.339401 152.469289 390.132225 157.143394 389.311784 161.817499 384.300656 166.491603 447.147637 171.165708 404.414249 175.839812 429.506423 180.513917 470.595415 185.188021 479.453446 189.862126 440.398525 194.536230 426.540261 199.210335 440.448848 203.884439 421.836967 208.558544 429.515305 213.232648 466.022264 217.906753 438.512378 222.580857 418.006459 227.254962 415.120717 231.929066 440.413390 236.603171 432.397610 241.277275 431.358145 245.951380 454.087494 250.625484 462.846611 255.299589 471.435677 259.973693 464.064159 264.647798 455.750897 269.321903 459.416216 273.996007 437.677857 278.670112 469.489319 283.344216 471.290616 288.018321 468.693240 292.692425 459.982098 297.366530 480.927391 302.040634 466.801056 306.714739 464.453090 311.388843 485.282265 316.062948 485.915999 320.737052 477.085899 325.411157 475.631794 330.085261 424.352432 334.759366 365.230620 339.433470 333.334406 344.107575 331.878104 348.781679 118.028088 353.455784 174.009226 358.129888 176.231906 362.803993 149.749474 367.478097 256.624847 372.152202 195.367107 376.826307 245.927556 381.500411 291.851883 386.174516 302.917551 390.848620 304.358668 395.522725 278.646401 400.196829 208.231790 404.870934 30.370473 409.545038 185.517172 414.219143 210.666859 418.893247 238.137631 423.567352 145.865756 428.241456 193.986220 432.915561 258.740295 437.589665 217.746690 442.263770 295.300141 446.937874 373.134411 451.611979 370.587391 456.286083 405.268540 460.960188 391.342112 465.634292 367.096039 470.308397 242.088865 474.982501 340.416711 479.656606 346.462015 484.330711 292.164056 489.004815 340.414897 493.678920 373.485495 498.353024 373.255908 503.027129 401.251811 507.701233 389.254063 512.375338 400.307307 517.049442 327.945748 521.723547 338.940692 526.397651 399.460519 531.071756 410.094436 535.745860 413.736460 540.419965 399.668486 545.094069 406.174115 549.768174 409.414787 554.442278 398.593537 559.116383 420.316158 563.790487 406.995817 568.464592 427.284559 573.138696 431.390461 577.812801 431.941205 582.486905 356.324872 587.161010 375.682088 591.835115 416.474166 596.509219 422.741060 601.183324 416.430483 605.857428 418.224282 610.531533 393.743484 615.205637 334.976682 619.879742 355.391092 624.553846 462.168485 624.553846 462.994884 619.879742 357.868168 615.205637 337.375713 610.531533 397.011010 605.857428 420.947850 601.183324 419.649869 596.509219 426.006124 591.835115 418.752500 587.161010 378.887383 582.486905 359.259794 577.812801 433.548423 573.138696 433.660936 568.464592 430.553715 563.790487 408.908202 559.116383 422.654715 554.442278 402.345336 549.768174 411.658629 545.094069 410.089356 540.419965 403.226745 535.745860 416.130918 531.071756 412.240905 526.397651 401.950289 521.723547 343.542236 517.049442 332.340066 512.375338 410.034333 507.701233 392.594757 503.027129 405.006340 498.353024 378.329327 493.678920 379.207155 489.004815 344.322664 484.330711 297.375190 479.656606 351.578849 474.982501 344.012997 470.308397 246.423627 465.634292 371.312854 460.960188 393.477588 456.286083 406.858832 451.611979 373.631591 446.937874 377.603052 442.263770 300.346079 437.589665 223.139347 432.915561 262.374510 428.241456 201.433401 423.567352 152.216834 418.893247 242.334281 414.219143 217.455373 409.545038 196.063531 404.870934 36.374093 400.196829 212.821437 395.522725 284.756070 390.848620 311.876957 386.174516 307.227925 381.500411 297.288814 376.826307 254.121005 372.152202 235.142015 367.478097 263.759614 362.803993 153.589781 358.129888 181.415220 353.455784 177.440732 348.781679 122.966416 344.107575 333.034994 339.433470 335.731964 334.759366 369.598913 330.085261 426.012119 325.411157 477.768229 320.737052 479.179603 316.062948 488.763430 311.388843 486.613565 306.714739 469.435477 302.040634 468.884470 297.366530 482.171817 292.692425 462.530137 288.018321 473.062224 283.344216 477.887311 278.670112 470.625614 273.996007 438.881733 269.321903 462.085271 264.647798 457.624732 259.973693 465.458332 255.299589 474.752334 250.625484 464.962926 245.951380 454.747785 241.277275 434.586930 236.603171 434.924666 231.929066 447.361848 227.254962 422.595688 222.580857 423.563701 217.906753 439.961633 213.232648 467.650227 208.558544 432.007326 203.884439 426.862327 199.210335 442.506970 194.536230 428.263953 189.862126 444.592832 185.188021 480.597938 180.513917 474.456634 175.839812 432.988405 171.165708 406.692082 166.491603 448.550675 161.817499 386.357295 157.143394 391.685623 152.469289 392.953070 147.795185 417.497766 143.121080 328.036545 138.446976 376.629158 133.772871 285.310895 129.098767 413.651571 124.424662 346.404153 119.750558 297.959387 115.076453 403.384688 110.402349 395.632311 105.728244 375.994815 101.054140 394.804849 96.380035 371.419525 91.705931 360.937243 87.031826 352.092369 82.357722 259.523553 77.683617 215.665605 73.009513 337.198899 68.335408 323.622075 63.661304 318.455726 58.987199 330.287947 54.313095 310.683329 49.638990 233.382494 44.964885 247.591360 40.290781 58.778946 35.616676 305.016925 30.942572 364.570167 26.268467 327.275552 21.594363 361.882071 16.920258 350.812174 12.246154 474.142582\"/></g><g class=\"series serie-19 color-19\"><path class=\"line reactive\" d=\"M12.246154 471.477130 L16.920258 342.077099 21.594363 353.154144 26.268467 315.391489 30.942572 356.678658 35.616676 296.258411 40.290781 38.968856 44.964885 238.355675 49.638990 221.740104 54.313095 301.796936 58.987199 322.944023 63.661304 311.866977 68.335408 316.398498 73.009513 331.000055 77.683617 206.131542 82.357722 249.936221 87.031826 344.594611 91.705931 350.133134 96.380035 363.727688 101.054140 388.399288 105.728244 366.748702 110.402349 380.846758 115.076453 392.930808 119.750558 284.174360 124.424662 337.545577 129.098767 406.525363 133.772871 271.083309 138.446976 369.266212 143.121080 320.930013 147.795185 412.063888 152.469289 386.888783 157.143394 384.371274 161.817499 380.343258 166.491603 444.791522 171.165708 401.490340 175.839812 426.161944 180.513917 468.959620 185.188021 478.022657 189.862126 435.728483 194.536230 422.637430 199.210335 437.238991 203.884439 419.112915 208.558544 427.168949 213.232648 464.428102 217.906753 436.231987 222.580857 416.091902 227.254962 412.567390 231.929066 437.742492 236.603171 428.175953 241.277275 428.679455 245.951380 450.833545 250.625484 460.903587 255.299589 467.449114 259.973693 461.910591 264.647798 453.351056 269.321903 457.379073 273.996007 435.224981 278.670112 466.945611 283.344216 468.456119 288.018321 465.938607 292.692425 457.882575 297.366530 479.029661 302.040634 463.924600 306.714739 462.917596 311.388843 484.064682 316.062948 484.568184 320.737052 475.001645 325.411157 474.498143 330.085261 423.140933 334.759366 360.706675 339.433470 318.916005 344.107575 307.838962 348.781679 60.619445 353.455784 135.137747 358.129888 116.004670 362.803993 106.438136 367.478097 238.859178 372.152202 178.942430 376.826307 234.327655 381.500411 281.656851 386.174516 290.216387 390.848620 294.747905 395.522725 268.565799 400.196829 196.061501 404.870934 10.269231 409.545038 162.830363 414.219143 192.536989 418.893247 222.243609 423.567352 114.494167 428.241456 157.795346 432.915561 244.397704 437.589665 198.579010 442.263770 285.181366 446.937874 363.727690 451.611979 361.210179 456.286083 398.972833 460.960188 382.357267 465.634292 359.699671 470.308397 232.313654 474.982501 331.000054 479.656606 334.021068 484.330711 277.125333 489.004815 332.007061 493.678920 366.748701 498.353024 368.259207 503.027129 393.434312 507.701233 384.371274 512.375338 395.951821 517.049442 319.923010 521.723547 318.412504 526.397651 393.434312 531.071756 399.476336 535.745860 407.028868 540.419965 393.937812 545.094069 400.483340 549.768174 400.986841 554.442278 388.399289 559.116383 413.574393 563.790487 399.476335 568.464592 422.637431 573.138696 425.154940 577.812801 426.665448 582.486905 352.650644 587.161010 368.762708 591.835115 410.553380 596.509219 418.105912 601.183324 411.560384 605.857428 413.070892 610.531533 389.406296 615.205637 328.482540 619.879742 348.622625 624.553846 457.882574 624.553846 462.168485 619.879742 355.391092 615.205637 334.976682 610.531533 393.743484 605.857428 418.224282 601.183324 416.430483 596.509219 422.741060 591.835115 416.474166 587.161010 375.682088 582.486905 356.324872 577.812801 431.941205 573.138696 431.390461 568.464592 427.284559 563.790487 406.995817 559.116383 420.316158 554.442278 398.593537 549.768174 409.414787 545.094069 406.174115 540.419965 399.668486 535.745860 413.736460 531.071756 410.094436 526.397651 399.460519 521.723547 338.940692 517.049442 327.945748 512.375338 400.307307 507.701233 389.254063 503.027129 401.251811 498.353024 373.255908 493.678920 373.485495 489.004815 340.414897 484.330711 292.164056 479.656606 346.462015 474.982501 340.416711 470.308397 242.088865 465.634292 367.096039 460.960188 391.342112 456.286083 405.268540 451.611979 370.587391 446.937874 373.134411 442.263770 295.300141 437.589665 217.746690 432.915561 258.740295 428.241456 193.986220 423.567352 145.865756 418.893247 238.137631 414.219143 210.666859 409.545038 185.517172 404.870934 30.370473 400.196829 208.231790 395.522725 278.646401 390.848620 304.358668 386.174516 302.917551 381.500411 291.851883 376.826307 245.927556 372.152202 195.367107 367.478097 256.624847 362.803993 149.749474 358.129888 176.231906 353.455784 174.009226 348.781679 118.028088 344.107575 331.878104 339.433470 333.334406 334.759366 365.230620 330.085261 424.352432 325.411157 475.631794 320.737052 477.085899 316.062948 485.915999 311.388843 485.282265 306.714739 464.453090 302.040634 466.801056 297.366530 480.927391 292.692425 459.982098 288.018321 468.693240 283.344216 471.290616 278.670112 469.489319 273.996007 437.677857 269.321903 459.416216 264.647798 455.750897 259.973693 464.064159 255.299589 471.435677 250.625484 462.846611 245.951380 454.087494 241.277275 431.358145 236.603171 432.397610 231.929066 440.413390 227.254962 415.120717 222.580857 418.006459 217.906753 438.512378 213.232648 466.022264 208.558544 429.515305 203.884439 421.836967 199.210335 440.448848 194.536230 426.540261 189.862126 440.398525 185.188021 479.453446 180.513917 470.595415 175.839812 429.506423 171.165708 404.414249 166.491603 447.147637 161.817499 384.300656 157.143394 389.311784 152.469289 390.132225 147.795185 414.339401 143.121080 324.181793 138.446976 372.536483 133.772871 276.516095 129.098767 411.015006 124.424662 344.319238 119.750558 293.747133 115.076453 397.828243 110.402349 393.955080 105.728244 372.881781 101.054140 391.260883 96.380035 367.607744 91.705931 355.706600 87.031826 348.849418 82.357722 254.882888 77.683617 211.964400 73.009513 335.214887 68.335408 319.824943 63.661304 315.950029 58.987199 327.244050 54.313095 307.251203 49.638990 228.334447 44.964885 242.810075 40.290781 44.787175 35.616676 301.036453 30.942572 360.457776 26.268467 319.389367 21.594363 357.444891 16.920258 345.813352 12.246154 472.472141\"/></g></g><g class=\"titles\"><text class=\"title plot_title\" x=\"400.0\" y=\"26\">Topics</text></g><g class=\"plot overlay\" transform=\"translate(143, 46)\"><g class=\"series serie-0 color-0\"/><g class=\"series serie-1 color-1\"/><g class=\"series serie-2 color-2\"/><g class=\"series serie-3 color-3\"/><g class=\"series serie-4 color-4\"/><g class=\"series serie-5 color-5\"/><g class=\"series serie-6 color-6\"/><g class=\"series serie-7 color-7\"/><g class=\"series serie-8 color-8\"/><g class=\"series serie-9 color-9\"/><g class=\"series serie-10 color-10\"/><g class=\"series serie-11 color-11\"/><g class=\"series serie-12 color-12\"/><g class=\"series serie-13 color-13\"/><g class=\"series serie-14 color-14\"/><g class=\"series serie-15 color-15\"/><g class=\"series serie-16 color-16\"/><g class=\"series serie-17 color-17\"/><g class=\"series serie-18 color-18\"/><g class=\"series serie-19 color-19\"/></g><g class=\"plot text-overlay\" transform=\"translate(143, 46)\"><g class=\"series serie-0 color-0\"/><g class=\"series serie-1 color-1\"/><g class=\"series serie-2 color-2\"/><g class=\"series serie-3 color-3\"/><g class=\"series serie-4 color-4\"/><g class=\"series serie-5 color-5\"/><g class=\"series serie-6 color-6\"/><g class=\"series serie-7 color-7\"/><g class=\"series serie-8 color-8\"/><g class=\"series serie-9 color-9\"/><g class=\"series serie-10 color-10\"/><g class=\"series serie-11 color-11\"/><g class=\"series serie-12 color-12\"/><g class=\"series serie-13 color-13\"/><g class=\"series serie-14 color-14\"/><g class=\"series serie-15 color-15\"/><g class=\"series serie-16 color-16\"/><g class=\"series serie-17 color-17\"/><g class=\"series serie-18 color-18\"/><g class=\"series serie-19 color-19\"/></g><g class=\"plot tooltip-overlay\" transform=\"translate(143, 46)\"><g class=\"tooltip\" style=\"opacity: 0\" transform=\"translate(0 0)\"><rect class=\"tooltip-box\" height=\"0\" rx=\"0\" ry=\"0\" width=\"0\"/><g class=\"text\"/></g></g><g class=\"legends\" transform=\"translate(10, 56)\"><g class=\"legend reactive activate-serie\" id=\"activate-serie-0\"><rect class=\"color-0 reactive\" height=\"12\" width=\"12\" x=\"0.0\" y=\"1.0\"/><text x=\"17.0\" y=\"11.2\">topic_0</text></g><g class=\"legend reactive activate-serie\" id=\"activate-serie-1\"><rect class=\"color-1 reactive\" height=\"12\" width=\"12\" x=\"0.0\" y=\"22.0\"/><text x=\"17.0\" y=\"32.2\">topic_1</text></g><g class=\"legend reactive activate-serie\" id=\"activate-serie-2\"><rect class=\"color-2 reactive\" height=\"12\" width=\"12\" x=\"0.0\" y=\"43.0\"/><text x=\"17.0\" y=\"53.2\">topic_2</text></g><g class=\"legend reactive activate-serie\" id=\"activate-serie-3\"><rect class=\"color-3 reactive\" height=\"12\" width=\"12\" x=\"0.0\" y=\"64.0\"/><text x=\"17.0\" y=\"74.2\">topic_3</text></g><g class=\"legend reactive activate-serie\" id=\"activate-serie-4\"><rect class=\"color-4 reactive\" height=\"12\" width=\"12\" x=\"0.0\" y=\"85.0\"/><text x=\"17.0\" y=\"95.2\">topic_4</text></g><g class=\"legend reactive activate-serie\" id=\"activate-serie-5\"><rect class=\"color-5 reactive\" height=\"12\" width=\"12\" x=\"0.0\" y=\"106.0\"/><text x=\"17.0\" y=\"116.2\">topic_5</text></g><g class=\"legend reactive activate-serie\" id=\"activate-serie-6\"><rect class=\"color-6 reactive\" height=\"12\" width=\"12\" x=\"0.0\" y=\"127.0\"/><text x=\"17.0\" y=\"137.2\">topic_6</text></g><g class=\"legend reactive activate-serie\" id=\"activate-serie-7\"><rect class=\"color-7 reactive\" height=\"12\" width=\"12\" x=\"0.0\" y=\"148.0\"/><text x=\"17.0\" y=\"158.2\">topic_7</text></g><g class=\"legend reactive activate-serie\" id=\"activate-serie-8\"><rect class=\"color-8 reactive\" height=\"12\" width=\"12\" x=\"0.0\" y=\"169.0\"/><text x=\"17.0\" y=\"179.2\">topic_8</text></g><g class=\"legend reactive activate-serie\" id=\"activate-serie-9\"><rect class=\"color-9 reactive\" height=\"12\" width=\"12\" x=\"0.0\" y=\"190.0\"/><text x=\"17.0\" y=\"200.2\">topic_9</text></g><g class=\"legend reactive activate-serie\" id=\"activate-serie-10\"><rect class=\"color-10 reactive\" height=\"12\" width=\"12\" x=\"0.0\" y=\"211.0\"/><text x=\"17.0\" y=\"221.2\">topic_10</text></g><g class=\"legend reactive activate-serie\" id=\"activate-serie-11\"><rect class=\"color-11 reactive\" height=\"12\" width=\"12\" x=\"0.0\" y=\"232.0\"/><text x=\"17.0\" y=\"242.2\">topic_11</text></g><g class=\"legend reactive activate-serie\" id=\"activate-serie-12\"><rect class=\"color-12 reactive\" height=\"12\" width=\"12\" x=\"0.0\" y=\"253.0\"/><text x=\"17.0\" y=\"263.2\">topic_12</text></g><g class=\"legend reactive activate-serie\" id=\"activate-serie-13\"><rect class=\"color-13 reactive\" height=\"12\" width=\"12\" x=\"0.0\" y=\"274.0\"/><text x=\"17.0\" y=\"284.2\">topic_13</text></g><g class=\"legend reactive activate-serie\" id=\"activate-serie-14\"><rect class=\"color-14 reactive\" height=\"12\" width=\"12\" x=\"0.0\" y=\"295.0\"/><text x=\"17.0\" y=\"305.2\">topic_14</text></g><g class=\"legend reactive activate-serie\" id=\"activate-serie-15\"><rect class=\"color-15 reactive\" height=\"12\" width=\"12\" x=\"0.0\" y=\"316.0\"/><text x=\"17.0\" y=\"326.2\">topic_15</text></g><g class=\"legend reactive activate-serie\" id=\"activate-serie-16\"><rect class=\"color-16 reactive\" height=\"12\" width=\"12\" x=\"0.0\" y=\"337.0\"/><text x=\"17.0\" y=\"347.2\">topic_16</text></g><g class=\"legend reactive activate-serie\" id=\"activate-serie-17\"><rect class=\"color-17 reactive\" height=\"12\" width=\"12\" x=\"0.0\" y=\"358.0\"/><text x=\"17.0\" y=\"368.2\">topic_17</text></g><g class=\"legend reactive activate-serie\" id=\"activate-serie-18\"><rect class=\"color-18 reactive\" height=\"12\" width=\"12\" x=\"0.0\" y=\"379.0\"/><text x=\"17.0\" y=\"389.2\">topic_18</text></g><g class=\"legend reactive activate-serie\" id=\"activate-serie-19\"><rect class=\"color-19 reactive\" height=\"12\" width=\"12\" x=\"0.0\" y=\"400.0\"/><text x=\"17.0\" y=\"410.2\">topic_19</text></g></g><g class=\"legends\" transform=\"translate(790, 56)\"/></g></svg>\n",
       "    </figure>\n",
       "  </body>\n",
       "</html>\n"
      ],
      "text/plain": [
       "<IPython.core.display.HTML object>"
      ]
     },
     "execution_count": 121,
     "metadata": {},
     "output_type": "execute_result"
    }
   ],
   "source": [
    "line_chart = pygal.StackedLine(fill=True, show_dots=False)\n",
    "line_chart.title = 'Topics'\n",
    "for topic in topics:\n",
    "    line_chart.add(topic, gb[topic].values)\n",
    "    \n",
    "HTML(html_pygal.format(pygal_render=line_chart.render(is_unicode=True)))"
   ]
  },
  {
   "cell_type": "code",
   "execution_count": 122,
   "metadata": {
    "ExecuteTime": {
     "end_time": "2019-02-12T23:30:19.891903Z",
     "start_time": "2019-02-12T23:30:19.827614Z"
    }
   },
   "outputs": [],
   "source": [
    "line_chart.render_to_file(f\"data/visualization/{'-'.join(name_dataset.split('.'))}_pygal.svg\")"
   ]
  },
  {
   "cell_type": "markdown",
   "metadata": {},
   "source": [
    "## joypy"
   ]
  },
  {
   "cell_type": "code",
   "execution_count": 123,
   "metadata": {
    "ExecuteTime": {
     "end_time": "2019-02-12T23:30:20.767523Z",
     "start_time": "2019-02-12T23:30:20.764190Z"
    }
   },
   "outputs": [],
   "source": [
    "import joypy # !pip install joypy"
   ]
  },
  {
   "cell_type": "code",
   "execution_count": 124,
   "metadata": {
    "ExecuteTime": {
     "end_time": "2019-02-12T23:30:21.269830Z",
     "start_time": "2019-02-12T23:30:21.251425Z"
    },
    "scrolled": true
   },
   "outputs": [
    {
     "name": "stdout",
     "output_type": "stream",
     "text": [
      "(44924, 23)\n"
     ]
    },
    {
     "data": {
      "text/html": [
       "<div>\n",
       "<style scoped>\n",
       "    .dataframe tbody tr th:only-of-type {\n",
       "        vertical-align: middle;\n",
       "    }\n",
       "\n",
       "    .dataframe tbody tr th {\n",
       "        vertical-align: top;\n",
       "    }\n",
       "\n",
       "    .dataframe thead th {\n",
       "        text-align: right;\n",
       "    }\n",
       "</style>\n",
       "<table border=\"1\" class=\"dataframe\">\n",
       "  <thead>\n",
       "    <tr style=\"text-align: right;\">\n",
       "      <th></th>\n",
       "      <th>docID</th>\n",
       "      <th>year</th>\n",
       "      <th>month</th>\n",
       "      <th>topic_0</th>\n",
       "      <th>topic_1</th>\n",
       "      <th>topic_2</th>\n",
       "      <th>topic_3</th>\n",
       "      <th>topic_4</th>\n",
       "      <th>topic_5</th>\n",
       "      <th>topic_6</th>\n",
       "      <th>...</th>\n",
       "      <th>topic_10</th>\n",
       "      <th>topic_11</th>\n",
       "      <th>topic_12</th>\n",
       "      <th>topic_13</th>\n",
       "      <th>topic_14</th>\n",
       "      <th>topic_15</th>\n",
       "      <th>topic_16</th>\n",
       "      <th>topic_17</th>\n",
       "      <th>topic_18</th>\n",
       "      <th>topic_19</th>\n",
       "    </tr>\n",
       "  </thead>\n",
       "  <tbody>\n",
       "    <tr>\n",
       "      <th>0</th>\n",
       "      <td>0</td>\n",
       "      <td>2008</td>\n",
       "      <td>2</td>\n",
       "      <td>0.519572</td>\n",
       "      <td>0.405352</td>\n",
       "      <td>0.0</td>\n",
       "      <td>0.0</td>\n",
       "      <td>0.0</td>\n",
       "      <td>0.0</td>\n",
       "      <td>0.0</td>\n",
       "      <td>...</td>\n",
       "      <td>0.000000</td>\n",
       "      <td>0.000000</td>\n",
       "      <td>0.030625</td>\n",
       "      <td>0.000000</td>\n",
       "      <td>0.0</td>\n",
       "      <td>0.000000</td>\n",
       "      <td>0.000000</td>\n",
       "      <td>0.000000</td>\n",
       "      <td>0.000000</td>\n",
       "      <td>0.000000</td>\n",
       "    </tr>\n",
       "    <tr>\n",
       "      <th>1</th>\n",
       "      <td>1</td>\n",
       "      <td>2008</td>\n",
       "      <td>2</td>\n",
       "      <td>0.033068</td>\n",
       "      <td>0.000000</td>\n",
       "      <td>0.0</td>\n",
       "      <td>0.0</td>\n",
       "      <td>0.0</td>\n",
       "      <td>0.0</td>\n",
       "      <td>0.0</td>\n",
       "      <td>...</td>\n",
       "      <td>0.000000</td>\n",
       "      <td>0.000000</td>\n",
       "      <td>0.338184</td>\n",
       "      <td>0.569368</td>\n",
       "      <td>0.0</td>\n",
       "      <td>0.000000</td>\n",
       "      <td>0.000000</td>\n",
       "      <td>0.000000</td>\n",
       "      <td>0.000000</td>\n",
       "      <td>0.059380</td>\n",
       "    </tr>\n",
       "    <tr>\n",
       "      <th>2</th>\n",
       "      <td>2</td>\n",
       "      <td>2008</td>\n",
       "      <td>2</td>\n",
       "      <td>0.000000</td>\n",
       "      <td>0.301418</td>\n",
       "      <td>0.0</td>\n",
       "      <td>0.0</td>\n",
       "      <td>0.0</td>\n",
       "      <td>0.0</td>\n",
       "      <td>0.0</td>\n",
       "      <td>...</td>\n",
       "      <td>0.000000</td>\n",
       "      <td>0.067513</td>\n",
       "      <td>0.000000</td>\n",
       "      <td>0.159203</td>\n",
       "      <td>0.0</td>\n",
       "      <td>0.000000</td>\n",
       "      <td>0.000000</td>\n",
       "      <td>0.038538</td>\n",
       "      <td>0.000000</td>\n",
       "      <td>0.000000</td>\n",
       "    </tr>\n",
       "    <tr>\n",
       "      <th>3</th>\n",
       "      <td>3</td>\n",
       "      <td>2008</td>\n",
       "      <td>2</td>\n",
       "      <td>0.000000</td>\n",
       "      <td>0.000000</td>\n",
       "      <td>0.0</td>\n",
       "      <td>0.0</td>\n",
       "      <td>0.0</td>\n",
       "      <td>0.0</td>\n",
       "      <td>0.0</td>\n",
       "      <td>...</td>\n",
       "      <td>0.245113</td>\n",
       "      <td>0.343213</td>\n",
       "      <td>0.000000</td>\n",
       "      <td>0.078473</td>\n",
       "      <td>0.0</td>\n",
       "      <td>0.096704</td>\n",
       "      <td>0.034807</td>\n",
       "      <td>0.021621</td>\n",
       "      <td>0.000000</td>\n",
       "      <td>0.012089</td>\n",
       "    </tr>\n",
       "    <tr>\n",
       "      <th>4</th>\n",
       "      <td>4</td>\n",
       "      <td>2008</td>\n",
       "      <td>2</td>\n",
       "      <td>0.000000</td>\n",
       "      <td>0.000000</td>\n",
       "      <td>0.0</td>\n",
       "      <td>0.0</td>\n",
       "      <td>0.0</td>\n",
       "      <td>0.0</td>\n",
       "      <td>0.0</td>\n",
       "      <td>...</td>\n",
       "      <td>0.679660</td>\n",
       "      <td>0.146209</td>\n",
       "      <td>0.000000</td>\n",
       "      <td>0.000000</td>\n",
       "      <td>0.0</td>\n",
       "      <td>0.047316</td>\n",
       "      <td>0.022219</td>\n",
       "      <td>0.000000</td>\n",
       "      <td>0.018469</td>\n",
       "      <td>0.000000</td>\n",
       "    </tr>\n",
       "  </tbody>\n",
       "</table>\n",
       "<p>5 rows × 23 columns</p>\n",
       "</div>"
      ],
      "text/plain": [
       "   docID  year  month   topic_0   topic_1  topic_2  topic_3  topic_4  topic_5  \\\n",
       "0      0  2008      2  0.519572  0.405352      0.0      0.0      0.0      0.0   \n",
       "1      1  2008      2  0.033068  0.000000      0.0      0.0      0.0      0.0   \n",
       "2      2  2008      2  0.000000  0.301418      0.0      0.0      0.0      0.0   \n",
       "3      3  2008      2  0.000000  0.000000      0.0      0.0      0.0      0.0   \n",
       "4      4  2008      2  0.000000  0.000000      0.0      0.0      0.0      0.0   \n",
       "\n",
       "   topic_6    ...     topic_10  topic_11  topic_12  topic_13  topic_14  \\\n",
       "0      0.0    ...     0.000000  0.000000  0.030625  0.000000       0.0   \n",
       "1      0.0    ...     0.000000  0.000000  0.338184  0.569368       0.0   \n",
       "2      0.0    ...     0.000000  0.067513  0.000000  0.159203       0.0   \n",
       "3      0.0    ...     0.245113  0.343213  0.000000  0.078473       0.0   \n",
       "4      0.0    ...     0.679660  0.146209  0.000000  0.000000       0.0   \n",
       "\n",
       "   topic_15  topic_16  topic_17  topic_18  topic_19  \n",
       "0  0.000000  0.000000  0.000000  0.000000  0.000000  \n",
       "1  0.000000  0.000000  0.000000  0.000000  0.059380  \n",
       "2  0.000000  0.000000  0.038538  0.000000  0.000000  \n",
       "3  0.096704  0.034807  0.021621  0.000000  0.012089  \n",
       "4  0.047316  0.022219  0.000000  0.018469  0.000000  \n",
       "\n",
       "[5 rows x 23 columns]"
      ]
     },
     "execution_count": 124,
     "metadata": {},
     "output_type": "execute_result"
    }
   ],
   "source": [
    "print(joined.shape)\n",
    "joined.head()"
   ]
  },
  {
   "cell_type": "code",
   "execution_count": 125,
   "metadata": {
    "ExecuteTime": {
     "end_time": "2019-02-12T23:30:22.046032Z",
     "start_time": "2019-02-12T23:30:21.945645Z"
    }
   },
   "outputs": [
    {
     "data": {
      "text/html": [
       "<div>\n",
       "<style scoped>\n",
       "    .dataframe tbody tr th:only-of-type {\n",
       "        vertical-align: middle;\n",
       "    }\n",
       "\n",
       "    .dataframe tbody tr th {\n",
       "        vertical-align: top;\n",
       "    }\n",
       "\n",
       "    .dataframe thead th {\n",
       "        text-align: right;\n",
       "    }\n",
       "</style>\n",
       "<table border=\"1\" class=\"dataframe\">\n",
       "  <thead>\n",
       "    <tr style=\"text-align: right;\">\n",
       "      <th></th>\n",
       "      <th>docID</th>\n",
       "      <th>year</th>\n",
       "      <th>month</th>\n",
       "      <th>topic_0</th>\n",
       "      <th>topic_1</th>\n",
       "      <th>topic_2</th>\n",
       "      <th>topic_3</th>\n",
       "      <th>topic_4</th>\n",
       "      <th>topic_5</th>\n",
       "      <th>topic_6</th>\n",
       "      <th>...</th>\n",
       "      <th>topic_11</th>\n",
       "      <th>topic_12</th>\n",
       "      <th>topic_13</th>\n",
       "      <th>topic_14</th>\n",
       "      <th>topic_15</th>\n",
       "      <th>topic_16</th>\n",
       "      <th>topic_17</th>\n",
       "      <th>topic_18</th>\n",
       "      <th>topic_19</th>\n",
       "      <th>date</th>\n",
       "    </tr>\n",
       "  </thead>\n",
       "  <tbody>\n",
       "    <tr>\n",
       "      <th>0</th>\n",
       "      <td>0</td>\n",
       "      <td>2008</td>\n",
       "      <td>2</td>\n",
       "      <td>0.519572</td>\n",
       "      <td>0.405352</td>\n",
       "      <td>0.0</td>\n",
       "      <td>0.0</td>\n",
       "      <td>0.0</td>\n",
       "      <td>0.0</td>\n",
       "      <td>0.0</td>\n",
       "      <td>...</td>\n",
       "      <td>0.000000</td>\n",
       "      <td>0.030625</td>\n",
       "      <td>0.000000</td>\n",
       "      <td>0.0</td>\n",
       "      <td>0.000000</td>\n",
       "      <td>0.000000</td>\n",
       "      <td>0.000000</td>\n",
       "      <td>0.000000</td>\n",
       "      <td>0.000000</td>\n",
       "      <td>2008-02-01</td>\n",
       "    </tr>\n",
       "    <tr>\n",
       "      <th>1</th>\n",
       "      <td>1</td>\n",
       "      <td>2008</td>\n",
       "      <td>2</td>\n",
       "      <td>0.033068</td>\n",
       "      <td>0.000000</td>\n",
       "      <td>0.0</td>\n",
       "      <td>0.0</td>\n",
       "      <td>0.0</td>\n",
       "      <td>0.0</td>\n",
       "      <td>0.0</td>\n",
       "      <td>...</td>\n",
       "      <td>0.000000</td>\n",
       "      <td>0.338184</td>\n",
       "      <td>0.569368</td>\n",
       "      <td>0.0</td>\n",
       "      <td>0.000000</td>\n",
       "      <td>0.000000</td>\n",
       "      <td>0.000000</td>\n",
       "      <td>0.000000</td>\n",
       "      <td>0.059380</td>\n",
       "      <td>2008-02-01</td>\n",
       "    </tr>\n",
       "    <tr>\n",
       "      <th>2</th>\n",
       "      <td>2</td>\n",
       "      <td>2008</td>\n",
       "      <td>2</td>\n",
       "      <td>0.000000</td>\n",
       "      <td>0.301418</td>\n",
       "      <td>0.0</td>\n",
       "      <td>0.0</td>\n",
       "      <td>0.0</td>\n",
       "      <td>0.0</td>\n",
       "      <td>0.0</td>\n",
       "      <td>...</td>\n",
       "      <td>0.067513</td>\n",
       "      <td>0.000000</td>\n",
       "      <td>0.159203</td>\n",
       "      <td>0.0</td>\n",
       "      <td>0.000000</td>\n",
       "      <td>0.000000</td>\n",
       "      <td>0.038538</td>\n",
       "      <td>0.000000</td>\n",
       "      <td>0.000000</td>\n",
       "      <td>2008-02-01</td>\n",
       "    </tr>\n",
       "    <tr>\n",
       "      <th>3</th>\n",
       "      <td>3</td>\n",
       "      <td>2008</td>\n",
       "      <td>2</td>\n",
       "      <td>0.000000</td>\n",
       "      <td>0.000000</td>\n",
       "      <td>0.0</td>\n",
       "      <td>0.0</td>\n",
       "      <td>0.0</td>\n",
       "      <td>0.0</td>\n",
       "      <td>0.0</td>\n",
       "      <td>...</td>\n",
       "      <td>0.343213</td>\n",
       "      <td>0.000000</td>\n",
       "      <td>0.078473</td>\n",
       "      <td>0.0</td>\n",
       "      <td>0.096704</td>\n",
       "      <td>0.034807</td>\n",
       "      <td>0.021621</td>\n",
       "      <td>0.000000</td>\n",
       "      <td>0.012089</td>\n",
       "      <td>2008-02-01</td>\n",
       "    </tr>\n",
       "    <tr>\n",
       "      <th>4</th>\n",
       "      <td>4</td>\n",
       "      <td>2008</td>\n",
       "      <td>2</td>\n",
       "      <td>0.000000</td>\n",
       "      <td>0.000000</td>\n",
       "      <td>0.0</td>\n",
       "      <td>0.0</td>\n",
       "      <td>0.0</td>\n",
       "      <td>0.0</td>\n",
       "      <td>0.0</td>\n",
       "      <td>...</td>\n",
       "      <td>0.146209</td>\n",
       "      <td>0.000000</td>\n",
       "      <td>0.000000</td>\n",
       "      <td>0.0</td>\n",
       "      <td>0.047316</td>\n",
       "      <td>0.022219</td>\n",
       "      <td>0.000000</td>\n",
       "      <td>0.018469</td>\n",
       "      <td>0.000000</td>\n",
       "      <td>2008-02-01</td>\n",
       "    </tr>\n",
       "  </tbody>\n",
       "</table>\n",
       "<p>5 rows × 24 columns</p>\n",
       "</div>"
      ],
      "text/plain": [
       "   docID  year  month   topic_0   topic_1  topic_2  topic_3  topic_4  topic_5  \\\n",
       "0      0  2008      2  0.519572  0.405352      0.0      0.0      0.0      0.0   \n",
       "1      1  2008      2  0.033068  0.000000      0.0      0.0      0.0      0.0   \n",
       "2      2  2008      2  0.000000  0.301418      0.0      0.0      0.0      0.0   \n",
       "3      3  2008      2  0.000000  0.000000      0.0      0.0      0.0      0.0   \n",
       "4      4  2008      2  0.000000  0.000000      0.0      0.0      0.0      0.0   \n",
       "\n",
       "   topic_6     ...      topic_11  topic_12  topic_13  topic_14  topic_15  \\\n",
       "0      0.0     ...      0.000000  0.030625  0.000000       0.0  0.000000   \n",
       "1      0.0     ...      0.000000  0.338184  0.569368       0.0  0.000000   \n",
       "2      0.0     ...      0.067513  0.000000  0.159203       0.0  0.000000   \n",
       "3      0.0     ...      0.343213  0.000000  0.078473       0.0  0.096704   \n",
       "4      0.0     ...      0.146209  0.000000  0.000000       0.0  0.047316   \n",
       "\n",
       "   topic_16  topic_17  topic_18  topic_19        date  \n",
       "0  0.000000  0.000000  0.000000  0.000000  2008-02-01  \n",
       "1  0.000000  0.000000  0.000000  0.059380  2008-02-01  \n",
       "2  0.000000  0.038538  0.000000  0.000000  2008-02-01  \n",
       "3  0.034807  0.021621  0.000000  0.012089  2008-02-01  \n",
       "4  0.022219  0.000000  0.018469  0.000000  2008-02-01  \n",
       "\n",
       "[5 rows x 24 columns]"
      ]
     },
     "execution_count": 125,
     "metadata": {},
     "output_type": "execute_result"
    }
   ],
   "source": [
    "joined['date'] = ['{}-{:02d}-01'.format(a, b) for a, b in joined[['year', 'month']].values]\n",
    "cols = [c for c in joined.columns if c.startswith('topic')]\n",
    "\n",
    "joined.head()"
   ]
  },
  {
   "cell_type": "code",
   "execution_count": 126,
   "metadata": {
    "ExecuteTime": {
     "end_time": "2019-02-12T23:30:22.300499Z",
     "start_time": "2019-02-12T23:30:22.250014Z"
    }
   },
   "outputs": [
    {
     "data": {
      "text/html": [
       "<div>\n",
       "<style scoped>\n",
       "    .dataframe tbody tr th:only-of-type {\n",
       "        vertical-align: middle;\n",
       "    }\n",
       "\n",
       "    .dataframe tbody tr th {\n",
       "        vertical-align: top;\n",
       "    }\n",
       "\n",
       "    .dataframe thead th {\n",
       "        text-align: right;\n",
       "    }\n",
       "</style>\n",
       "<table border=\"1\" class=\"dataframe\">\n",
       "  <thead>\n",
       "    <tr style=\"text-align: right;\">\n",
       "      <th></th>\n",
       "      <th>date</th>\n",
       "      <th>topic</th>\n",
       "      <th>mentions</th>\n",
       "    </tr>\n",
       "  </thead>\n",
       "  <tbody>\n",
       "    <tr>\n",
       "      <th>0</th>\n",
       "      <td>2008-02-01</td>\n",
       "      <td>topic_0</td>\n",
       "      <td>0.519572</td>\n",
       "    </tr>\n",
       "    <tr>\n",
       "      <th>1</th>\n",
       "      <td>2008-02-01</td>\n",
       "      <td>topic_0</td>\n",
       "      <td>0.033068</td>\n",
       "    </tr>\n",
       "    <tr>\n",
       "      <th>6</th>\n",
       "      <td>2008-02-01</td>\n",
       "      <td>topic_0</td>\n",
       "      <td>0.743129</td>\n",
       "    </tr>\n",
       "    <tr>\n",
       "      <th>7</th>\n",
       "      <td>2008-02-01</td>\n",
       "      <td>topic_0</td>\n",
       "      <td>0.002774</td>\n",
       "    </tr>\n",
       "    <tr>\n",
       "      <th>8</th>\n",
       "      <td>2008-02-01</td>\n",
       "      <td>topic_0</td>\n",
       "      <td>0.047450</td>\n",
       "    </tr>\n",
       "  </tbody>\n",
       "</table>\n",
       "</div>"
      ],
      "text/plain": [
       "         date    topic  mentions\n",
       "0  2008-02-01  topic_0  0.519572\n",
       "1  2008-02-01  topic_0  0.033068\n",
       "6  2008-02-01  topic_0  0.743129\n",
       "7  2008-02-01  topic_0  0.002774\n",
       "8  2008-02-01  topic_0  0.047450"
      ]
     },
     "execution_count": 126,
     "metadata": {},
     "output_type": "execute_result"
    }
   ],
   "source": [
    "dd = joined[cols + ['date']].melt('date', var_name='topic', value_name='mentions')\n",
    "dd = dd[dd['mentions'] > 0]\n",
    "\n",
    "dd.head()"
   ]
  },
  {
   "cell_type": "code",
   "execution_count": 127,
   "metadata": {
    "ExecuteTime": {
     "end_time": "2019-02-12T23:30:23.885844Z",
     "start_time": "2019-02-12T23:30:23.849857Z"
    }
   },
   "outputs": [
    {
     "data": {
      "text/html": [
       "<div>\n",
       "<style scoped>\n",
       "    .dataframe tbody tr th:only-of-type {\n",
       "        vertical-align: middle;\n",
       "    }\n",
       "\n",
       "    .dataframe tbody tr th {\n",
       "        vertical-align: top;\n",
       "    }\n",
       "\n",
       "    .dataframe thead th {\n",
       "        text-align: right;\n",
       "    }\n",
       "</style>\n",
       "<table border=\"1\" class=\"dataframe\">\n",
       "  <thead>\n",
       "    <tr style=\"text-align: right;\">\n",
       "      <th></th>\n",
       "      <th></th>\n",
       "      <th>mentions</th>\n",
       "    </tr>\n",
       "    <tr>\n",
       "      <th>date</th>\n",
       "      <th>topic</th>\n",
       "      <th></th>\n",
       "    </tr>\n",
       "  </thead>\n",
       "  <tbody>\n",
       "    <tr>\n",
       "      <th rowspan=\"5\" valign=\"top\">2008-02-01</th>\n",
       "      <th>topic_0</th>\n",
       "      <td>5.838182</td>\n",
       "    </tr>\n",
       "    <tr>\n",
       "      <th>topic_1</th>\n",
       "      <td>3.734503</td>\n",
       "    </tr>\n",
       "    <tr>\n",
       "      <th>topic_10</th>\n",
       "      <td>8.012558</td>\n",
       "    </tr>\n",
       "    <tr>\n",
       "      <th>topic_11</th>\n",
       "      <td>13.406316</td>\n",
       "    </tr>\n",
       "    <tr>\n",
       "      <th>topic_12</th>\n",
       "      <td>1.491383</td>\n",
       "    </tr>\n",
       "  </tbody>\n",
       "</table>\n",
       "</div>"
      ],
      "text/plain": [
       "                      mentions\n",
       "date       topic              \n",
       "2008-02-01 topic_0    5.838182\n",
       "           topic_1    3.734503\n",
       "           topic_10   8.012558\n",
       "           topic_11  13.406316\n",
       "           topic_12   1.491383"
      ]
     },
     "execution_count": 127,
     "metadata": {},
     "output_type": "execute_result"
    }
   ],
   "source": [
    "dd2 = dd.groupby(['date','topic']).sum()\n",
    "dd2.head()"
   ]
  },
  {
   "cell_type": "code",
   "execution_count": 128,
   "metadata": {
    "ExecuteTime": {
     "end_time": "2019-02-12T23:30:25.535829Z",
     "start_time": "2019-02-12T23:30:25.526517Z"
    }
   },
   "outputs": [
    {
     "data": {
      "text/html": [
       "<div>\n",
       "<style scoped>\n",
       "    .dataframe tbody tr th:only-of-type {\n",
       "        vertical-align: middle;\n",
       "    }\n",
       "\n",
       "    .dataframe tbody tr th {\n",
       "        vertical-align: top;\n",
       "    }\n",
       "\n",
       "    .dataframe thead th {\n",
       "        text-align: right;\n",
       "    }\n",
       "</style>\n",
       "<table border=\"1\" class=\"dataframe\">\n",
       "  <thead>\n",
       "    <tr style=\"text-align: right;\">\n",
       "      <th></th>\n",
       "      <th>date</th>\n",
       "      <th>topic</th>\n",
       "      <th>mentions</th>\n",
       "    </tr>\n",
       "  </thead>\n",
       "  <tbody>\n",
       "    <tr>\n",
       "      <th>0</th>\n",
       "      <td>2008-02-01</td>\n",
       "      <td>topic_0</td>\n",
       "      <td>5.838182</td>\n",
       "    </tr>\n",
       "    <tr>\n",
       "      <th>1</th>\n",
       "      <td>2008-02-01</td>\n",
       "      <td>topic_1</td>\n",
       "      <td>3.734503</td>\n",
       "    </tr>\n",
       "    <tr>\n",
       "      <th>2</th>\n",
       "      <td>2008-02-01</td>\n",
       "      <td>topic_10</td>\n",
       "      <td>8.012558</td>\n",
       "    </tr>\n",
       "    <tr>\n",
       "      <th>3</th>\n",
       "      <td>2008-02-01</td>\n",
       "      <td>topic_11</td>\n",
       "      <td>13.406316</td>\n",
       "    </tr>\n",
       "    <tr>\n",
       "      <th>4</th>\n",
       "      <td>2008-02-01</td>\n",
       "      <td>topic_12</td>\n",
       "      <td>1.491383</td>\n",
       "    </tr>\n",
       "  </tbody>\n",
       "</table>\n",
       "</div>"
      ],
      "text/plain": [
       "         date     topic   mentions\n",
       "0  2008-02-01   topic_0   5.838182\n",
       "1  2008-02-01   topic_1   3.734503\n",
       "2  2008-02-01  topic_10   8.012558\n",
       "3  2008-02-01  topic_11  13.406316\n",
       "4  2008-02-01  topic_12   1.491383"
      ]
     },
     "execution_count": 128,
     "metadata": {},
     "output_type": "execute_result"
    }
   ],
   "source": [
    "dd2=dd2.reset_index()\n",
    "dd2.head()"
   ]
  },
  {
   "cell_type": "code",
   "execution_count": 129,
   "metadata": {
    "ExecuteTime": {
     "end_time": "2019-02-12T23:30:29.066651Z",
     "start_time": "2019-02-12T23:30:27.664782Z"
    }
   },
   "outputs": [
    {
     "data": {
      "image/png": "[encoded data removed]",
      "text/plain": [
       "<Figure size 1440x1440 with 21 Axes>"
      ]
     },
     "metadata": {
      "needs_background": "light"
     },
     "output_type": "display_data"
    }
   ],
   "source": [
    "labels = sorted(joined['date'].unique())\n",
    "fig, axes = joypy.joyplot(dd2, by='topic', column='mentions', figsize=(20, 20),\n",
    "                          xlabelsize=20,ylabelsize=20,\n",
    "                          overlap=0.4, fill=True,\n",
    "                          linecolor=\"k\",linewidth=3,\n",
    "                          kind='values', fade=True, xrot=90,\n",
    "                          x_range=[i for i in range(len(labels))],\n",
    "                          background='white');\n",
    "\n",
    "ticks_labels = {i:t for i, t in enumerate(labels)}\n",
    "axes[-1].set_xticks([k for k, v in ticks_labels.items() if k % 6 == 0])\n",
    "ticks = axes[-1].get_xticks()\n",
    "axes[-1].set_xticklabels([ticks_labels.get(i, 'stop') for i in ticks]);"
   ]
  },
  {
   "cell_type": "code",
   "execution_count": 130,
   "metadata": {
    "ExecuteTime": {
     "end_time": "2019-02-12T23:30:33.331619Z",
     "start_time": "2019-02-12T23:30:33.016938Z"
    }
   },
   "outputs": [],
   "source": [
    "fig.savefig(f\"data/visualization/{'-'.join(name_dataset.split('.'))}_joypy\")"
   ]
  },
  {
   "cell_type": "code",
   "execution_count": null,
   "metadata": {},
   "outputs": [],
   "source": []
  },
  {
   "cell_type": "code",
   "execution_count": null,
   "metadata": {},
   "outputs": [],
   "source": []
  }
 ],
 "metadata": {
  "kernelspec": {
   "display_name": "Python 3",
   "language": "python",
   "name": "python3"
  },
  "language_info": {
   "codemirror_mode": {
    "name": "ipython",
    "version": 3
   },
   "file_extension": ".py",
   "mimetype": "text/x-python",
   "name": "python",
   "nbconvert_exporter": "python",
   "pygments_lexer": "ipython3",
   "version": "3.6.7"
  },
  "varInspector": {
   "cols": {
    "lenName": 16,
    "lenType": 16,
    "lenVar": 40
   },
   "kernels_config": {
    "python": {
     "delete_cmd_postfix": "",
     "delete_cmd_prefix": "del ",
     "library": "var_list.py",
     "varRefreshCmd": "print(var_dic_list())"
    },
    "r": {
     "delete_cmd_postfix": ") ",
     "delete_cmd_prefix": "rm(",
     "library": "var_list.r",
     "varRefreshCmd": "cat(var_dic_list()) "
    }
   },
   "types_to_exclude": [
    "module",
    "function",
    "builtin_function_or_method",
    "instance",
    "_Feature"
   ],
   "window_display": false
  }
 },
 "nbformat": 4,
 "nbformat_minor": 2
}
