{
 "cells": [
  {
   "cell_type": "code",
   "execution_count": 1,
   "metadata": {
    "ExecuteTime": {
     "end_time": "2019-02-13T22:52:46.991710Z",
     "start_time": "2019-02-13T22:52:46.135875Z"
    },
    "scrolled": true
   },
   "outputs": [
    {
     "name": "stderr",
     "output_type": "stream",
     "text": [
      "/home/vtrokhymenko/proj_news_viz/env4news/lib/python3.6/site-packages/scipy/sparse/sparsetools.py:21: DeprecationWarning: `scipy.sparse.sparsetools` is deprecated!\n",
      "scipy.sparse.sparsetools is a private module for scipy.sparse, and should not be used.\n",
      "  _deprecated()\n"
     ]
    }
   ],
   "source": [
    "import numpy as np\n",
    "import pandas as pd\n",
    "import os\n",
    "\n",
    "import re\n",
    "from ast import literal_eval\n",
    "from datetime import datetime as time\n",
    "from ast import literal_eval\n",
    "from sklearn.model_selection import train_test_split\n",
    "\n",
    "import artm\n",
    "from gensim.models import Phrases\n",
    "from gensim.models.phrases import Phraser\n",
    "\n",
    "import gc\n",
    "import matplotlib.pyplot as plt\n",
    "%matplotlib inline"
   ]
  },
  {
   "cell_type": "code",
   "execution_count": 2,
   "metadata": {
    "ExecuteTime": {
     "end_time": "2019-02-13T22:52:51.390379Z",
     "start_time": "2019-02-13T22:52:51.278205Z"
    },
    "scrolled": true
   },
   "outputs": [
    {
     "name": "stdout",
     "output_type": "stream",
     "text": [
      "-rw-rw-r-- 1 vtrokhymenko vtrokhymenko 33M Feb 13 11:48 data/Byvsij_SSSR.csv.bz2\r\n",
      "-rw-rw-r-- 1 vtrokhymenko vtrokhymenko 75M Feb 13 11:35 data/Ekonomika.csv.bz2\r\n",
      "-rw-rw-r-- 1 vtrokhymenko vtrokhymenko 51M Feb 13 11:45 data/Mir.csv.bz2\r\n"
     ]
    }
   ],
   "source": [
    "!ls -lah data/*.csv.bz2"
   ]
  },
  {
   "cell_type": "code",
   "execution_count": 3,
   "metadata": {
    "ExecuteTime": {
     "end_time": "2019-02-13T22:52:51.599604Z",
     "start_time": "2019-02-13T22:52:51.597580Z"
    }
   },
   "outputs": [],
   "source": [
    "name_dataset = 'Byvsij_SSSR'"
   ]
  },
  {
   "cell_type": "markdown",
   "metadata": {},
   "source": [
    "### load data"
   ]
  },
  {
   "cell_type": "code",
   "execution_count": 4,
   "metadata": {
    "ExecuteTime": {
     "end_time": "2019-02-13T22:53:02.480407Z",
     "start_time": "2019-02-13T22:52:53.727071Z"
    }
   },
   "outputs": [
    {
     "name": "stdout",
     "output_type": "stream",
     "text": [
      "(45046, 6)\n",
      "CPU times: user 8.62 s, sys: 104 ms, total: 8.72 s\n",
      "Wall time: 8.75 s\n"
     ]
    }
   ],
   "source": [
    "%%time\n",
    "df = pd.read_csv(f'data/{name_dataset}.csv.bz2')\n",
    "print(df.shape)"
   ]
  },
  {
   "cell_type": "code",
   "execution_count": 5,
   "metadata": {
    "ExecuteTime": {
     "end_time": "2019-02-13T22:53:02.514678Z",
     "start_time": "2019-02-13T22:53:02.506265Z"
    }
   },
   "outputs": [
    {
     "data": {
      "text/html": [
       "<div>\n",
       "<style scoped>\n",
       "    .dataframe tbody tr th:only-of-type {\n",
       "        vertical-align: middle;\n",
       "    }\n",
       "\n",
       "    .dataframe tbody tr th {\n",
       "        vertical-align: top;\n",
       "    }\n",
       "\n",
       "    .dataframe thead th {\n",
       "        text-align: right;\n",
       "    }\n",
       "</style>\n",
       "<table border=\"1\" class=\"dataframe\">\n",
       "  <thead>\n",
       "    <tr style=\"text-align: right;\">\n",
       "      <th></th>\n",
       "      <th>date</th>\n",
       "      <th>topic</th>\n",
       "      <th>text</th>\n",
       "      <th>predict</th>\n",
       "      <th>text_new</th>\n",
       "      <th>lemmatized_text</th>\n",
       "    </tr>\n",
       "  </thead>\n",
       "  <tbody>\n",
       "    <tr>\n",
       "      <th>0</th>\n",
       "      <td>2008-02-11 09:23:00</td>\n",
       "      <td>\"Экономика\"</td>\n",
       "      <td>- Отношения между Москвой и Киевом в газовой ...</td>\n",
       "      <td>Бывший СССР</td>\n",
       "      <td>отношения между москвой и киевом в газовой сфе...</td>\n",
       "      <td>['москва', 'киев', 'газовый', 'сфера', 'входит...</td>\n",
       "    </tr>\n",
       "    <tr>\n",
       "      <th>1</th>\n",
       "      <td>2008-02-11 12:55:00</td>\n",
       "      <td>\"Экономика\"</td>\n",
       "      <td>- Премьер-министр Украины Юлия Тимошенко заяв...</td>\n",
       "      <td>Бывший СССР</td>\n",
       "      <td>премьерминистр украины юлия_тимошенко заявляет...</td>\n",
       "      <td>['премьерминистр', 'украина', 'юлия_тимошенко'...</td>\n",
       "    </tr>\n",
       "    <tr>\n",
       "      <th>2</th>\n",
       "      <td>2008-02-11 18:27:00</td>\n",
       "      <td>\"В России\"</td>\n",
       "      <td>- Ключевым вопросом визита президента Украины...</td>\n",
       "      <td>Бывший СССР</td>\n",
       "      <td>ключевым вопросом визита президента украины ви...</td>\n",
       "      <td>['ключевой', 'вопрос', 'визит', 'украина', 'ви...</td>\n",
       "    </tr>\n",
       "    <tr>\n",
       "      <th>3</th>\n",
       "      <td>2008-02-11 23:05:00</td>\n",
       "      <td>\"В России\"</td>\n",
       "      <td>- Парламентское большинство не намерено разбл...</td>\n",
       "      <td>Бывший СССР</td>\n",
       "      <td>парламентское большинство не намерено разблоки...</td>\n",
       "      <td>['парламентский', 'большинство', 'намерить', '...</td>\n",
       "    </tr>\n",
       "    <tr>\n",
       "      <th>4</th>\n",
       "      <td>2008-02-13 10:20:00</td>\n",
       "      <td>\"В России\"</td>\n",
       "      <td>- Известный грузинский бизнесмен Бадри Патарк...</td>\n",
       "      <td>Бывший СССР</td>\n",
       "      <td>известный грузинский бизнесмен бадри_патаркаци...</td>\n",
       "      <td>['известный', 'грузинский', 'бизнесмен', 'бадр...</td>\n",
       "    </tr>\n",
       "  </tbody>\n",
       "</table>\n",
       "</div>"
      ],
      "text/plain": [
       "                  date        topic  \\\n",
       "0  2008-02-11 09:23:00  \"Экономика\"   \n",
       "1  2008-02-11 12:55:00  \"Экономика\"   \n",
       "2  2008-02-11 18:27:00   \"В России\"   \n",
       "3  2008-02-11 23:05:00   \"В России\"   \n",
       "4  2008-02-13 10:20:00   \"В России\"   \n",
       "\n",
       "                                                text      predict  \\\n",
       "0   - Отношения между Москвой и Киевом в газовой ...  Бывший СССР   \n",
       "1   - Премьер-министр Украины Юлия Тимошенко заяв...  Бывший СССР   \n",
       "2   - Ключевым вопросом визита президента Украины...  Бывший СССР   \n",
       "3   - Парламентское большинство не намерено разбл...  Бывший СССР   \n",
       "4   - Известный грузинский бизнесмен Бадри Патарк...  Бывший СССР   \n",
       "\n",
       "                                            text_new  \\\n",
       "0  отношения между москвой и киевом в газовой сфе...   \n",
       "1  премьерминистр украины юлия_тимошенко заявляет...   \n",
       "2  ключевым вопросом визита президента украины ви...   \n",
       "3  парламентское большинство не намерено разблоки...   \n",
       "4  известный грузинский бизнесмен бадри_патаркаци...   \n",
       "\n",
       "                                     lemmatized_text  \n",
       "0  ['москва', 'киев', 'газовый', 'сфера', 'входит...  \n",
       "1  ['премьерминистр', 'украина', 'юлия_тимошенко'...  \n",
       "2  ['ключевой', 'вопрос', 'визит', 'украина', 'ви...  \n",
       "3  ['парламентский', 'большинство', 'намерить', '...  \n",
       "4  ['известный', 'грузинский', 'бизнесмен', 'бадр...  "
      ]
     },
     "execution_count": 5,
     "metadata": {},
     "output_type": "execute_result"
    }
   ],
   "source": [
    "df.head()"
   ]
  },
  {
   "cell_type": "markdown",
   "metadata": {},
   "source": [
    "* parse data"
   ]
  },
  {
   "cell_type": "code",
   "execution_count": 6,
   "metadata": {
    "ExecuteTime": {
     "end_time": "2019-02-13T22:53:17.875385Z",
     "start_time": "2019-02-13T22:53:17.804945Z"
    }
   },
   "outputs": [
    {
     "data": {
      "text/html": [
       "<div>\n",
       "<style scoped>\n",
       "    .dataframe tbody tr th:only-of-type {\n",
       "        vertical-align: middle;\n",
       "    }\n",
       "\n",
       "    .dataframe tbody tr th {\n",
       "        vertical-align: top;\n",
       "    }\n",
       "\n",
       "    .dataframe thead th {\n",
       "        text-align: right;\n",
       "    }\n",
       "</style>\n",
       "<table border=\"1\" class=\"dataframe\">\n",
       "  <thead>\n",
       "    <tr style=\"text-align: right;\">\n",
       "      <th></th>\n",
       "      <th>date</th>\n",
       "      <th>topic</th>\n",
       "      <th>text</th>\n",
       "      <th>predict</th>\n",
       "      <th>text_new</th>\n",
       "      <th>lemmatized_text</th>\n",
       "      <th>year</th>\n",
       "      <th>month</th>\n",
       "    </tr>\n",
       "  </thead>\n",
       "  <tbody>\n",
       "    <tr>\n",
       "      <th>0</th>\n",
       "      <td>2008-02-11 09:23:00</td>\n",
       "      <td>\"Экономика\"</td>\n",
       "      <td>- Отношения между Москвой и Киевом в газовой ...</td>\n",
       "      <td>Бывший СССР</td>\n",
       "      <td>отношения между москвой и киевом в газовой сфе...</td>\n",
       "      <td>['москва', 'киев', 'газовый', 'сфера', 'входит...</td>\n",
       "      <td>2008</td>\n",
       "      <td>2</td>\n",
       "    </tr>\n",
       "    <tr>\n",
       "      <th>1</th>\n",
       "      <td>2008-02-11 12:55:00</td>\n",
       "      <td>\"Экономика\"</td>\n",
       "      <td>- Премьер-министр Украины Юлия Тимошенко заяв...</td>\n",
       "      <td>Бывший СССР</td>\n",
       "      <td>премьерминистр украины юлия_тимошенко заявляет...</td>\n",
       "      <td>['премьерминистр', 'украина', 'юлия_тимошенко'...</td>\n",
       "      <td>2008</td>\n",
       "      <td>2</td>\n",
       "    </tr>\n",
       "    <tr>\n",
       "      <th>2</th>\n",
       "      <td>2008-02-11 18:27:00</td>\n",
       "      <td>\"В России\"</td>\n",
       "      <td>- Ключевым вопросом визита президента Украины...</td>\n",
       "      <td>Бывший СССР</td>\n",
       "      <td>ключевым вопросом визита президента украины ви...</td>\n",
       "      <td>['ключевой', 'вопрос', 'визит', 'украина', 'ви...</td>\n",
       "      <td>2008</td>\n",
       "      <td>2</td>\n",
       "    </tr>\n",
       "    <tr>\n",
       "      <th>3</th>\n",
       "      <td>2008-02-11 23:05:00</td>\n",
       "      <td>\"В России\"</td>\n",
       "      <td>- Парламентское большинство не намерено разбл...</td>\n",
       "      <td>Бывший СССР</td>\n",
       "      <td>парламентское большинство не намерено разблоки...</td>\n",
       "      <td>['парламентский', 'большинство', 'намерить', '...</td>\n",
       "      <td>2008</td>\n",
       "      <td>2</td>\n",
       "    </tr>\n",
       "    <tr>\n",
       "      <th>4</th>\n",
       "      <td>2008-02-13 10:20:00</td>\n",
       "      <td>\"В России\"</td>\n",
       "      <td>- Известный грузинский бизнесмен Бадри Патарк...</td>\n",
       "      <td>Бывший СССР</td>\n",
       "      <td>известный грузинский бизнесмен бадри_патаркаци...</td>\n",
       "      <td>['известный', 'грузинский', 'бизнесмен', 'бадр...</td>\n",
       "      <td>2008</td>\n",
       "      <td>2</td>\n",
       "    </tr>\n",
       "  </tbody>\n",
       "</table>\n",
       "</div>"
      ],
      "text/plain": [
       "                  date        topic  \\\n",
       "0  2008-02-11 09:23:00  \"Экономика\"   \n",
       "1  2008-02-11 12:55:00  \"Экономика\"   \n",
       "2  2008-02-11 18:27:00   \"В России\"   \n",
       "3  2008-02-11 23:05:00   \"В России\"   \n",
       "4  2008-02-13 10:20:00   \"В России\"   \n",
       "\n",
       "                                                text      predict  \\\n",
       "0   - Отношения между Москвой и Киевом в газовой ...  Бывший СССР   \n",
       "1   - Премьер-министр Украины Юлия Тимошенко заяв...  Бывший СССР   \n",
       "2   - Ключевым вопросом визита президента Украины...  Бывший СССР   \n",
       "3   - Парламентское большинство не намерено разбл...  Бывший СССР   \n",
       "4   - Известный грузинский бизнесмен Бадри Патарк...  Бывший СССР   \n",
       "\n",
       "                                            text_new  \\\n",
       "0  отношения между москвой и киевом в газовой сфе...   \n",
       "1  премьерминистр украины юлия_тимошенко заявляет...   \n",
       "2  ключевым вопросом визита президента украины ви...   \n",
       "3  парламентское большинство не намерено разблоки...   \n",
       "4  известный грузинский бизнесмен бадри_патаркаци...   \n",
       "\n",
       "                                     lemmatized_text  year  month  \n",
       "0  ['москва', 'киев', 'газовый', 'сфера', 'входит...  2008      2  \n",
       "1  ['премьерминистр', 'украина', 'юлия_тимошенко'...  2008      2  \n",
       "2  ['ключевой', 'вопрос', 'визит', 'украина', 'ви...  2008      2  \n",
       "3  ['парламентский', 'большинство', 'намерить', '...  2008      2  \n",
       "4  ['известный', 'грузинский', 'бизнесмен', 'бадр...  2008      2  "
      ]
     },
     "execution_count": 6,
     "metadata": {},
     "output_type": "execute_result"
    }
   ],
   "source": [
    "df['year'] = df['date'].apply(lambda x: int(x.split(' ')[0].split('-')[0]))\n",
    "df['month'] = df['date'].apply(lambda x: int(x.split(' ')[0].split('-')[1]))\n",
    "df.head()"
   ]
  },
  {
   "cell_type": "code",
   "execution_count": 7,
   "metadata": {
    "ExecuteTime": {
     "end_time": "2019-02-13T22:53:18.690782Z",
     "start_time": "2019-02-13T22:53:18.686817Z"
    },
    "cell_style": "split"
   },
   "outputs": [
    {
     "data": {
      "text/plain": [
       "2014    7599\n",
       "2015    7548\n",
       "2008    4996\n",
       "2009    4578\n",
       "2016    4219\n",
       "2010    3777\n",
       "2017    3287\n",
       "2018    3049\n",
       "2011    2144\n",
       "2013    1908\n",
       "2012    1807\n",
       "2019     134\n",
       "Name: year, dtype: int64"
      ]
     },
     "execution_count": 7,
     "metadata": {},
     "output_type": "execute_result"
    }
   ],
   "source": [
    "df.year.value_counts()"
   ]
  },
  {
   "cell_type": "code",
   "execution_count": 8,
   "metadata": {
    "ExecuteTime": {
     "end_time": "2019-02-13T22:53:20.268143Z",
     "start_time": "2019-02-13T22:53:20.264251Z"
    },
    "cell_style": "split"
   },
   "outputs": [
    {
     "data": {
      "text/plain": [
       "4     4607\n",
       "2     4177\n",
       "5     4076\n",
       "8     3980\n",
       "7     3808\n",
       "3     3802\n",
       "6     3703\n",
       "10    3579\n",
       "9     3389\n",
       "1     3376\n",
       "12    3375\n",
       "11    3174\n",
       "Name: month, dtype: int64"
      ]
     },
     "execution_count": 8,
     "metadata": {},
     "output_type": "execute_result"
    }
   ],
   "source": [
    "df.month.value_counts()"
   ]
  },
  {
   "cell_type": "code",
   "execution_count": 9,
   "metadata": {
    "ExecuteTime": {
     "end_time": "2019-02-13T22:53:48.234496Z",
     "start_time": "2019-02-13T22:53:42.606832Z"
    }
   },
   "outputs": [],
   "source": [
    "df.lemmatized_text = df.lemmatized_text.apply(lambda x: literal_eval(x))"
   ]
  },
  {
   "cell_type": "markdown",
   "metadata": {},
   "source": [
    "### preprocess if text with lemma"
   ]
  },
  {
   "cell_type": "code",
   "execution_count": 94,
   "metadata": {
    "ExecuteTime": {
     "end_time": "2019-02-12T23:27:30.949680Z",
     "start_time": "2019-02-12T23:27:30.780651Z"
    }
   },
   "outputs": [
    {
     "data": {
      "text/html": [
       "<div>\n",
       "<style scoped>\n",
       "    .dataframe tbody tr th:only-of-type {\n",
       "        vertical-align: middle;\n",
       "    }\n",
       "\n",
       "    .dataframe tbody tr th {\n",
       "        vertical-align: top;\n",
       "    }\n",
       "\n",
       "    .dataframe thead th {\n",
       "        text-align: right;\n",
       "    }\n",
       "</style>\n",
       "<table border=\"1\" class=\"dataframe\">\n",
       "  <thead>\n",
       "    <tr style=\"text-align: right;\">\n",
       "      <th></th>\n",
       "      <th>date</th>\n",
       "      <th>topic</th>\n",
       "      <th>text</th>\n",
       "      <th>predict</th>\n",
       "      <th>year</th>\n",
       "      <th>month</th>\n",
       "      <th>text_join</th>\n",
       "    </tr>\n",
       "  </thead>\n",
       "  <tbody>\n",
       "    <tr>\n",
       "      <th>0</th>\n",
       "      <td>2008-02-11 12:55:00</td>\n",
       "      <td>\"Экономика\"</td>\n",
       "      <td>[премьерминистр, украина, юлий, тимошенко, зая...</td>\n",
       "      <td>Бывший СССР</td>\n",
       "      <td>2008</td>\n",
       "      <td>2</td>\n",
       "      <td>премьерминистр украина юлий тимошенко заявлять...</td>\n",
       "    </tr>\n",
       "    <tr>\n",
       "      <th>1</th>\n",
       "      <td>2008-02-11 18:27:00</td>\n",
       "      <td>\"В России\"</td>\n",
       "      <td>[ключевой, вопрос, визит, украина, виктор, юще...</td>\n",
       "      <td>Бывший СССР</td>\n",
       "      <td>2008</td>\n",
       "      <td>2</td>\n",
       "      <td>ключевой вопрос визит украина виктор ющенко рф...</td>\n",
       "    </tr>\n",
       "    <tr>\n",
       "      <th>2</th>\n",
       "      <td>2008-02-11 23:05:00</td>\n",
       "      <td>\"В России\"</td>\n",
       "      <td>[парламентский, большинство, намерить, разблок...</td>\n",
       "      <td>Бывший СССР</td>\n",
       "      <td>2008</td>\n",
       "      <td>2</td>\n",
       "      <td>парламентский большинство намерить разблокиров...</td>\n",
       "    </tr>\n",
       "    <tr>\n",
       "      <th>3</th>\n",
       "      <td>2008-02-13 10:20:00</td>\n",
       "      <td>\"В России\"</td>\n",
       "      <td>[известный, грузинский, бизнесмен, бадри, пата...</td>\n",
       "      <td>Бывший СССР</td>\n",
       "      <td>2008</td>\n",
       "      <td>2</td>\n",
       "      <td>известный грузинский бизнесмен бадри патаркаци...</td>\n",
       "    </tr>\n",
       "    <tr>\n",
       "      <th>4</th>\n",
       "      <td>2008-02-13 14:01:00</td>\n",
       "      <td>\"В мире\"</td>\n",
       "      <td>[аркадий, бадри, патаркацишвили, родиться, тби...</td>\n",
       "      <td>Бывший СССР</td>\n",
       "      <td>2008</td>\n",
       "      <td>2</td>\n",
       "      <td>аркадий бадри патаркацишвили родиться тбилиси ...</td>\n",
       "    </tr>\n",
       "  </tbody>\n",
       "</table>\n",
       "</div>"
      ],
      "text/plain": [
       "                  date        topic  \\\n",
       "0  2008-02-11 12:55:00  \"Экономика\"   \n",
       "1  2008-02-11 18:27:00   \"В России\"   \n",
       "2  2008-02-11 23:05:00   \"В России\"   \n",
       "3  2008-02-13 10:20:00   \"В России\"   \n",
       "4  2008-02-13 14:01:00     \"В мире\"   \n",
       "\n",
       "                                                text      predict  year  \\\n",
       "0  [премьерминистр, украина, юлий, тимошенко, зая...  Бывший СССР  2008   \n",
       "1  [ключевой, вопрос, визит, украина, виктор, юще...  Бывший СССР  2008   \n",
       "2  [парламентский, большинство, намерить, разблок...  Бывший СССР  2008   \n",
       "3  [известный, грузинский, бизнесмен, бадри, пата...  Бывший СССР  2008   \n",
       "4  [аркадий, бадри, патаркацишвили, родиться, тби...  Бывший СССР  2008   \n",
       "\n",
       "   month                                          text_join  \n",
       "0      2  премьерминистр украина юлий тимошенко заявлять...  \n",
       "1      2  ключевой вопрос визит украина виктор ющенко рф...  \n",
       "2      2  парламентский большинство намерить разблокиров...  \n",
       "3      2  известный грузинский бизнесмен бадри патаркаци...  \n",
       "4      2  аркадий бадри патаркацишвили родиться тбилиси ...  "
      ]
     },
     "execution_count": 94,
     "metadata": {},
     "output_type": "execute_result"
    }
   ],
   "source": [
    "df['text_join'] = df.text.apply(lambda x: ' '.join(x))\n",
    "df.head()"
   ]
  },
  {
   "cell_type": "markdown",
   "metadata": {},
   "source": [
    "* add docID"
   ]
  },
  {
   "cell_type": "code",
   "execution_count": 11,
   "metadata": {
    "ExecuteTime": {
     "end_time": "2019-02-13T22:54:12.284644Z",
     "start_time": "2019-02-13T22:54:12.274686Z"
    }
   },
   "outputs": [],
   "source": [
    "df['docID'] = list(range(df.shape[0]))"
   ]
  },
  {
   "cell_type": "code",
   "execution_count": 12,
   "metadata": {
    "ExecuteTime": {
     "end_time": "2019-02-13T22:54:12.874693Z",
     "start_time": "2019-02-13T22:54:12.862457Z"
    },
    "scrolled": true
   },
   "outputs": [
    {
     "data": {
      "text/html": [
       "<div>\n",
       "<style scoped>\n",
       "    .dataframe tbody tr th:only-of-type {\n",
       "        vertical-align: middle;\n",
       "    }\n",
       "\n",
       "    .dataframe tbody tr th {\n",
       "        vertical-align: top;\n",
       "    }\n",
       "\n",
       "    .dataframe thead th {\n",
       "        text-align: right;\n",
       "    }\n",
       "</style>\n",
       "<table border=\"1\" class=\"dataframe\">\n",
       "  <thead>\n",
       "    <tr style=\"text-align: right;\">\n",
       "      <th></th>\n",
       "      <th>docID</th>\n",
       "      <th>year</th>\n",
       "      <th>month</th>\n",
       "      <th>lemmatized_text</th>\n",
       "    </tr>\n",
       "  </thead>\n",
       "  <tbody>\n",
       "    <tr>\n",
       "      <th>0</th>\n",
       "      <td>0</td>\n",
       "      <td>2008</td>\n",
       "      <td>2</td>\n",
       "      <td>[москва, киев, газовый, сфера, входить, зона, ...</td>\n",
       "    </tr>\n",
       "    <tr>\n",
       "      <th>1</th>\n",
       "      <td>1</td>\n",
       "      <td>2008</td>\n",
       "      <td>2</td>\n",
       "      <td>[премьерминистр, украина, юлия_тимошенко, заяв...</td>\n",
       "    </tr>\n",
       "  </tbody>\n",
       "</table>\n",
       "</div>"
      ],
      "text/plain": [
       "   docID  year  month                                    lemmatized_text\n",
       "0      0  2008      2  [москва, киев, газовый, сфера, входить, зона, ...\n",
       "1      1  2008      2  [премьерминистр, украина, юлия_тимошенко, заяв..."
      ]
     },
     "execution_count": 12,
     "metadata": {},
     "output_type": "execute_result"
    }
   ],
   "source": [
    "df = df[['docID','year','month','lemmatized_text']]\n",
    "df.head(2)"
   ]
  },
  {
   "cell_type": "code",
   "execution_count": 13,
   "metadata": {
    "ExecuteTime": {
     "end_time": "2019-02-13T22:54:13.567449Z",
     "start_time": "2019-02-13T22:54:13.558966Z"
    }
   },
   "outputs": [
    {
     "name": "stdout",
     "output_type": "stream",
     "text": [
      "(45046, 4)\n"
     ]
    },
    {
     "data": {
      "text/plain": [
       "docID              0\n",
       "year               0\n",
       "month              0\n",
       "lemmatized_text    0\n",
       "dtype: int64"
      ]
     },
     "execution_count": 13,
     "metadata": {},
     "output_type": "execute_result"
    }
   ],
   "source": [
    "print(df.shape)\n",
    "df.isnull().sum()"
   ]
  },
  {
   "cell_type": "code",
   "execution_count": 14,
   "metadata": {
    "ExecuteTime": {
     "end_time": "2019-02-13T22:54:16.432116Z",
     "start_time": "2019-02-13T22:54:16.428380Z"
    }
   },
   "outputs": [
    {
     "data": {
      "text/plain": [
       "(2008, 2019)"
      ]
     },
     "execution_count": 14,
     "metadata": {},
     "output_type": "execute_result"
    }
   ],
   "source": [
    "df.year.min(),df.year.max()"
   ]
  },
  {
   "cell_type": "markdown",
   "metadata": {
    "heading_collapsed": true
   },
   "source": [
    "### preprocess if text full"
   ]
  },
  {
   "cell_type": "markdown",
   "metadata": {
    "hidden": true
   },
   "source": [
    "* get dates"
   ]
  },
  {
   "cell_type": "code",
   "execution_count": null,
   "metadata": {
    "ExecuteTime": {
     "end_time": "2019-02-12T20:44:42.100805Z",
     "start_time": "2019-02-12T20:44:41.875674Z"
    },
    "hidden": true
   },
   "outputs": [],
   "source": [
    "%%time\n",
    "\n",
    "df['date_raw'] = df['url'].apply(re.compile('(\\d{4})/(\\d{2})/(\\d{2})').findall)\n",
    "\n",
    "df['year'] = df['date_raw'].apply(lambda x: int(x[0][0]))\n",
    "df['month'] = df['date_raw'].apply(lambda x: int(x[0][1]))"
   ]
  },
  {
   "cell_type": "markdown",
   "metadata": {
    "hidden": true
   },
   "source": [
    "* clean text"
   ]
  },
  {
   "cell_type": "code",
   "execution_count": null,
   "metadata": {
    "ExecuteTime": {
     "end_time": "2019-02-12T20:44:45.466357Z",
     "start_time": "2019-02-12T20:44:45.419292Z"
    },
    "hidden": true
   },
   "outputs": [],
   "source": [
    "import preprocessing_tools as pr"
   ]
  },
  {
   "cell_type": "code",
   "execution_count": null,
   "metadata": {
    "ExecuteTime": {
     "end_time": "2019-02-12T20:44:55.961600Z",
     "start_time": "2019-02-12T20:44:46.127947Z"
    },
    "hidden": true
   },
   "outputs": [],
   "source": [
    "%%time\n",
    "df.text = df.text.apply(pr.clean_text)"
   ]
  },
  {
   "cell_type": "code",
   "execution_count": null,
   "metadata": {
    "ExecuteTime": {
     "end_time": "2019-02-12T20:44:57.006954Z",
     "start_time": "2019-02-12T20:44:56.996117Z"
    },
    "hidden": true
   },
   "outputs": [],
   "source": [
    "df.head(2)"
   ]
  },
  {
   "cell_type": "markdown",
   "metadata": {
    "hidden": true
   },
   "source": [
    "* cleanedNames"
   ]
  },
  {
   "cell_type": "code",
   "execution_count": null,
   "metadata": {
    "ExecuteTime": {
     "end_time": "2019-02-12T20:44:59.718122Z",
     "start_time": "2019-02-12T20:44:59.605825Z"
    },
    "hidden": true
   },
   "outputs": [],
   "source": [
    "from cleanedNames import KeyProc\n",
    "cn = KeyProc()"
   ]
  },
  {
   "cell_type": "code",
   "execution_count": null,
   "metadata": {
    "ExecuteTime": {
     "end_time": "2019-02-12T20:46:42.655484Z",
     "start_time": "2019-02-12T20:45:00.859921Z"
    },
    "hidden": true
   },
   "outputs": [],
   "source": [
    "%%time\n",
    "df.text = df.text.apply(cn.replaceKeywords)"
   ]
  },
  {
   "cell_type": "markdown",
   "metadata": {
    "hidden": true
   },
   "source": [
    "* lemmatization"
   ]
  },
  {
   "cell_type": "code",
   "execution_count": null,
   "metadata": {
    "ExecuteTime": {
     "end_time": "2019-02-12T20:49:10.237126Z",
     "start_time": "2019-02-12T20:46:42.704548Z"
    },
    "hidden": true
   },
   "outputs": [],
   "source": [
    "%%time\n",
    "df['lemmatized_text'] = df.text.apply(pr.lemmatization)"
   ]
  },
  {
   "cell_type": "code",
   "execution_count": null,
   "metadata": {
    "hidden": true
   },
   "outputs": [],
   "source": []
  },
  {
   "cell_type": "markdown",
   "metadata": {
    "hidden": true
   },
   "source": [
    "* add docID"
   ]
  },
  {
   "cell_type": "code",
   "execution_count": null,
   "metadata": {
    "ExecuteTime": {
     "end_time": "2019-02-12T20:49:10.337705Z",
     "start_time": "2019-02-12T20:49:10.325010Z"
    },
    "hidden": true
   },
   "outputs": [],
   "source": [
    "df['docID'] = list(range(df.shape[0]))"
   ]
  },
  {
   "cell_type": "code",
   "execution_count": null,
   "metadata": {
    "ExecuteTime": {
     "end_time": "2019-02-12T20:49:10.457636Z",
     "start_time": "2019-02-12T20:49:10.428243Z"
    },
    "hidden": true
   },
   "outputs": [],
   "source": [
    "df = df[['docID','year','month','lemmatized_text']]\n",
    "df.head(2)"
   ]
  },
  {
   "cell_type": "code",
   "execution_count": null,
   "metadata": {
    "ExecuteTime": {
     "end_time": "2019-02-12T20:49:10.526039Z",
     "start_time": "2019-02-12T20:49:10.516289Z"
    },
    "hidden": true
   },
   "outputs": [],
   "source": [
    "print(df.shape)\n",
    "df.isnull().sum()"
   ]
  },
  {
   "cell_type": "code",
   "execution_count": null,
   "metadata": {
    "ExecuteTime": {
     "end_time": "2019-02-12T20:49:10.587001Z",
     "start_time": "2019-02-12T20:49:10.583827Z"
    },
    "hidden": true
   },
   "outputs": [],
   "source": [
    "df.year.min()"
   ]
  },
  {
   "cell_type": "code",
   "execution_count": null,
   "metadata": {
    "hidden": true
   },
   "outputs": [],
   "source": []
  },
  {
   "cell_type": "markdown",
   "metadata": {},
   "source": [
    "## model"
   ]
  },
  {
   "cell_type": "markdown",
   "metadata": {},
   "source": [
    "* prepare"
   ]
  },
  {
   "cell_type": "code",
   "execution_count": 15,
   "metadata": {
    "ExecuteTime": {
     "end_time": "2019-02-13T22:54:21.229821Z",
     "start_time": "2019-02-13T22:54:20.811233Z"
    }
   },
   "outputs": [
    {
     "name": "stdout",
     "output_type": "stream",
     "text": [
      "CPU times: user 333 ms, sys: 42.7 ms, total: 376 ms\n",
      "Wall time: 416 ms\n"
     ]
    }
   ],
   "source": [
    "%%time\n",
    "\n",
    "vwpath = f'data/vwpath/{name_dataset}_input_bigartm.vw'\n",
    "\n",
    "with open(vwpath, 'w') as fp:\n",
    "    for text, did in df[['lemmatized_text', 'docID']].values:\n",
    "        fp.write('{} | {}\\n'.format(did, ' '.join(text)))"
   ]
  },
  {
   "cell_type": "code",
   "execution_count": 16,
   "metadata": {
    "ExecuteTime": {
     "end_time": "2019-02-13T22:54:21.980468Z",
     "start_time": "2019-02-13T22:54:21.977252Z"
    }
   },
   "outputs": [],
   "source": [
    "id_date = df[['docID', 'year', 'month']].copy()"
   ]
  },
  {
   "cell_type": "markdown",
   "metadata": {},
   "source": [
    "* collect batchs and collect the dictionary"
   ]
  },
  {
   "cell_type": "code",
   "execution_count": 17,
   "metadata": {
    "ExecuteTime": {
     "end_time": "2019-02-13T22:54:27.484826Z",
     "start_time": "2019-02-13T22:54:25.320938Z"
    }
   },
   "outputs": [
    {
     "name": "stdout",
     "output_type": "stream",
     "text": [
      "artm.BatchVectorizer(data_path=\"data/batches/Byvsij_SSSR\", num_batches=46)\n",
      "CPU times: user 13 s, sys: 292 ms, total: 13.2 s\n",
      "Wall time: 2.16 s\n"
     ]
    }
   ],
   "source": [
    "%%time\n",
    "\n",
    "batches_path = f'data/batches/{name_dataset}'\n",
    "\n",
    "if not os.path.exists(batches_path):\n",
    "    print('create folder...\\n')\n",
    "    os.makedirs(batches_path)\n",
    "    \n",
    "batch_vectorizer = artm.BatchVectorizer(data_path=vwpath,\n",
    "                                        data_format='vowpal_wabbit',\n",
    "                                        target_folder=batches_path)\n",
    "\n",
    "print(batch_vectorizer)"
   ]
  },
  {
   "cell_type": "code",
   "execution_count": 18,
   "metadata": {
    "ExecuteTime": {
     "end_time": "2019-02-13T22:54:37.765700Z",
     "start_time": "2019-02-13T22:54:36.742679Z"
    }
   },
   "outputs": [],
   "source": [
    "dictionary = artm.Dictionary()\n",
    "dictionary.gather(data_path=batches_path)"
   ]
  },
  {
   "cell_type": "code",
   "execution_count": 19,
   "metadata": {
    "ExecuteTime": {
     "end_time": "2019-02-13T22:54:37.869645Z",
     "start_time": "2019-02-13T22:54:37.824092Z"
    }
   },
   "outputs": [
    {
     "data": {
      "text/plain": [
       "artm.Dictionary(name=afd12a1d-3772-4a68-8dba-25674e383ac7, num_entries=18049)"
      ]
     },
     "execution_count": 19,
     "metadata": {},
     "output_type": "execute_result"
    }
   ],
   "source": [
    "dictionary.filter(min_tf=10, max_df_rate=0.1) #int(4.5e5)"
   ]
  },
  {
   "cell_type": "code",
   "execution_count": 20,
   "metadata": {
    "ExecuteTime": {
     "end_time": "2019-02-13T22:54:38.008439Z",
     "start_time": "2019-02-13T22:54:37.925984Z"
    }
   },
   "outputs": [],
   "source": [
    "dictionary.save_text(f'data/dicts/dict_{name_dataset}.txt')"
   ]
  },
  {
   "cell_type": "code",
   "execution_count": null,
   "metadata": {},
   "outputs": [],
   "source": []
  },
  {
   "cell_type": "markdown",
   "metadata": {},
   "source": [
    "## pick up amount topics"
   ]
  },
  {
   "cell_type": "code",
   "execution_count": null,
   "metadata": {
    "ExecuteTime": {
     "end_time": "2019-02-03T23:34:30.832737Z",
     "start_time": "2019-02-03T23:05:40.548748Z"
    }
   },
   "outputs": [],
   "source": [
    "%%time\n",
    "model_list = []\n",
    "step, perplexity, sTheta, sPhi = [], [], [], []\n",
    "\n",
    "start = 6\n",
    "end = 25\n",
    "stepp = 1\n",
    "\n",
    "for i in range(start,end+1,stepp):\n",
    "    print(f'#topic {i}.........')\n",
    "    step.append(i)\n",
    "    date_start = time.now()\n",
    "    \n",
    "    num_topics = i\n",
    "    model = artm.ARTM(num_topics=num_topics, dictionary=dictionary)\n",
    "    \n",
    "    # scores\n",
    "    model.scores.add(artm.PerplexityScore(name='PerplexityScore', dictionary=dictionary))\n",
    "    model.scores.add(artm.SparsityThetaScore(name='SparsityThetaScore'))\n",
    "    model.scores.add(artm.SparsityPhiScore(name='SparsityPhiScore'))\n",
    "    \n",
    "    # 1st regularizer\n",
    "    model.regularizers.add(artm.SmoothSparsePhiRegularizer(name='SparsePhi', tau=-1.0)) #-0.1\n",
    "    model.fit_offline(batch_vectorizer=batch_vectorizer, num_collection_passes=5)\n",
    "    \n",
    "    # 2st regularizer\n",
    "    model.regularizers.add(artm.SmoothSparseThetaRegularizer(name='SparseTheta', tau=-0.5))\n",
    "    model.fit_offline(batch_vectorizer=batch_vectorizer, num_collection_passes=15)\n",
    "    \n",
    "    # 3st regularizer\n",
    "    model.regularizers.add(artm.DecorrelatorPhiRegularizer(name='DecorrelatorPhi', tau=1.5e+5))\n",
    "    model.fit_offline(batch_vectorizer=batch_vectorizer, num_collection_passes=15)\n",
    "    \n",
    "    sparsityTheta = model.score_tracker['SparsityThetaScore'].last_value\n",
    "    sTheta.append(sparsityTheta)\n",
    "    sparsityPhi = model.score_tracker['SparsityPhiScore'].last_value\n",
    "    sPhi.append(sparsityPhi)\n",
    "    perpl = model.score_tracker['PerplexityScore'].last_value\n",
    "    perplexity.append(perpl)\n",
    "    \n",
    "    print(f'\\tSparsityThetaScore: {sparsityTheta}')\n",
    "    print(f'\\tSparsityPhiScore: {sparsityPhi}')\n",
    "    print(f'\\tPerplexityScore: {perpl}')\n",
    "    \n",
    "    print('\\ttime:',time.now()-date_start)"
   ]
  },
  {
   "cell_type": "code",
   "execution_count": null,
   "metadata": {
    "ExecuteTime": {
     "end_time": "2019-02-03T10:25:19.898317Z",
     "start_time": "2019-02-03T10:25:19.896173Z"
    }
   },
   "outputs": [],
   "source": [
    "#model_list"
   ]
  },
  {
   "cell_type": "code",
   "execution_count": null,
   "metadata": {
    "ExecuteTime": {
     "end_time": "2019-02-03T23:36:48.933306Z",
     "start_time": "2019-02-03T23:36:48.703340Z"
    },
    "cell_style": "split"
   },
   "outputs": [],
   "source": [
    "plt.plot(step, sPhi, color='k',linewidth=3, marker='x')\n",
    "ax = plt.gca()\n",
    "ax.set_xticks(step)\n",
    "plt.grid()\n",
    "plt.title('SparsityPhiScore')"
   ]
  },
  {
   "cell_type": "code",
   "execution_count": null,
   "metadata": {
    "ExecuteTime": {
     "end_time": "2019-02-03T23:36:48.941151Z",
     "start_time": "2019-02-03T23:36:48.935668Z"
    },
    "cell_style": "split"
   },
   "outputs": [],
   "source": [
    "index_sphi = []\n",
    "[index_sphi.append(float(str(i)[:3]) ) for i in sPhi]\n",
    "    \n",
    "index_sphi = list(set(index_sphi))\n",
    "index_sphi.sort()\n",
    "index_sphi"
   ]
  },
  {
   "cell_type": "code",
   "execution_count": null,
   "metadata": {
    "ExecuteTime": {
     "end_time": "2019-02-03T23:36:48.952614Z",
     "start_time": "2019-02-03T23:36:48.944296Z"
    },
    "cell_style": "split"
   },
   "outputs": [],
   "source": [
    "d_sphi = {}\n",
    "\n",
    "for j in range(len(index_sphi)):\n",
    "    k=0\n",
    "    for i in sPhi:\n",
    "        if j==range(len(index_sphi))[-1]:\n",
    "            if (i>=index_sphi[j]):\n",
    "                k+=1\n",
    "        else:\n",
    "            if (i>=index_sphi[j]) & (i<index_sphi[j+1]):\n",
    "                k+=1\n",
    "    d_sphi[index_sphi[j]]=k\n",
    "\n",
    "d_sphi"
   ]
  },
  {
   "cell_type": "code",
   "execution_count": null,
   "metadata": {
    "ExecuteTime": {
     "end_time": "2019-02-03T23:36:49.179832Z",
     "start_time": "2019-02-03T23:36:48.956428Z"
    },
    "cell_style": "split",
    "scrolled": true
   },
   "outputs": [],
   "source": [
    "plt.plot(step, sTheta, color='g',linewidth=3, marker='x')\n",
    "ax = plt.gca()\n",
    "ax.set_xticks(step)\n",
    "plt.grid()\n",
    "\n",
    "plt.title('SparsityThetaScore')"
   ]
  },
  {
   "cell_type": "code",
   "execution_count": null,
   "metadata": {
    "ExecuteTime": {
     "end_time": "2019-02-03T23:36:49.187062Z",
     "start_time": "2019-02-03T23:36:49.181836Z"
    },
    "cell_style": "split"
   },
   "outputs": [],
   "source": [
    "index_theta = []\n",
    "[index_theta.append(float(str(i)[:3])) for i in sTheta]\n",
    "    \n",
    "index_theta = list(set(index_theta))\n",
    "index_theta.sort()\n",
    "index_theta"
   ]
  },
  {
   "cell_type": "code",
   "execution_count": null,
   "metadata": {
    "ExecuteTime": {
     "end_time": "2019-02-03T23:36:49.198620Z",
     "start_time": "2019-02-03T23:36:49.189897Z"
    },
    "cell_style": "split"
   },
   "outputs": [],
   "source": [
    "d_stheta = {}\n",
    "\n",
    "for j in range(len(index_theta)):\n",
    "    k=0\n",
    "    for i in sTheta:\n",
    "        if j==range(len(index_theta))[-1]:\n",
    "            if (i>=index_theta[j]):\n",
    "                k+=1\n",
    "        else:\n",
    "            if (i>=index_theta[j]) & (i<index_theta[j+1]):\n",
    "                k+=1\n",
    "    d_stheta[index_theta[j]]=k\n",
    "\n",
    "d_stheta"
   ]
  },
  {
   "cell_type": "code",
   "execution_count": null,
   "metadata": {
    "ExecuteTime": {
     "end_time": "2019-02-03T23:36:49.426695Z",
     "start_time": "2019-02-03T23:36:49.201181Z"
    },
    "cell_style": "split"
   },
   "outputs": [],
   "source": [
    "plt.plot(step, perplexity, color='b',linewidth=3, marker='x')\n",
    "ax = plt.gca()\n",
    "ax.set_xticks(step)\n",
    "plt.grid()\n",
    "plt.title('PerplexityScore')"
   ]
  },
  {
   "cell_type": "code",
   "execution_count": null,
   "metadata": {
    "ExecuteTime": {
     "end_time": "2019-02-03T23:36:49.436545Z",
     "start_time": "2019-02-03T23:36:49.428972Z"
    },
    "cell_style": "split"
   },
   "outputs": [],
   "source": [
    "perplexity"
   ]
  },
  {
   "cell_type": "markdown",
   "metadata": {},
   "source": [
    "### select the best model"
   ]
  },
  {
   "cell_type": "code",
   "execution_count": null,
   "metadata": {
    "ExecuteTime": {
     "end_time": "2019-02-03T23:37:06.940778Z",
     "start_time": "2019-02-03T23:37:06.936624Z"
    }
   },
   "outputs": [],
   "source": [
    "print(f'd_sphi:   {d_sphi}')\n",
    "print(f'd_stheta: {d_stheta}')"
   ]
  },
  {
   "cell_type": "code",
   "execution_count": null,
   "metadata": {
    "ExecuteTime": {
     "end_time": "2019-02-03T23:37:08.106226Z",
     "start_time": "2019-02-03T23:37:08.101353Z"
    }
   },
   "outputs": [],
   "source": [
    "select_topics = 20 # u should choose number of topic\n",
    "\n",
    "best_model = model_list[select_topics-start]\n",
    "print(best_model.num_topics)"
   ]
  },
  {
   "cell_type": "markdown",
   "metadata": {},
   "source": [
    "---"
   ]
  },
  {
   "cell_type": "code",
   "execution_count": 21,
   "metadata": {
    "ExecuteTime": {
     "end_time": "2019-02-13T22:54:43.379011Z",
     "start_time": "2019-02-13T22:54:43.377152Z"
    }
   },
   "outputs": [],
   "source": [
    "select_topics = 20"
   ]
  },
  {
   "cell_type": "code",
   "execution_count": 22,
   "metadata": {
    "ExecuteTime": {
     "end_time": "2019-02-13T22:55:00.275298Z",
     "start_time": "2019-02-13T22:54:44.403004Z"
    }
   },
   "outputs": [
    {
     "data": {
      "application/vnd.jupyter.widget-view+json": {
       "model_id": "dc92ba6a000d4b58b4e74077cca3028f",
       "version_major": 2,
       "version_minor": 0
      },
      "text/plain": [
       "HBox(children=(IntProgress(value=0, description='Pass', max=5, style=ProgressStyle(description_width='initial'…"
      ]
     },
     "metadata": {},
     "output_type": "display_data"
    },
    {
     "data": {
      "application/vnd.jupyter.widget-view+json": {
       "model_id": "",
       "version_major": 2,
       "version_minor": 0
      },
      "text/plain": [
       "HBox(children=(IntProgress(value=0, description='Batch', max=46, style=ProgressStyle(description_width='initia…"
      ]
     },
     "metadata": {},
     "output_type": "display_data"
    },
    {
     "data": {
      "application/vnd.jupyter.widget-view+json": {
       "model_id": "",
       "version_major": 2,
       "version_minor": 0
      },
      "text/plain": [
       "HBox(children=(IntProgress(value=0, description='Batch', max=46, style=ProgressStyle(description_width='initia…"
      ]
     },
     "metadata": {},
     "output_type": "display_data"
    },
    {
     "data": {
      "application/vnd.jupyter.widget-view+json": {
       "model_id": "",
       "version_major": 2,
       "version_minor": 0
      },
      "text/plain": [
       "HBox(children=(IntProgress(value=0, description='Batch', max=46, style=ProgressStyle(description_width='initia…"
      ]
     },
     "metadata": {},
     "output_type": "display_data"
    },
    {
     "data": {
      "application/vnd.jupyter.widget-view+json": {
       "model_id": "",
       "version_major": 2,
       "version_minor": 0
      },
      "text/plain": [
       "HBox(children=(IntProgress(value=0, description='Batch', max=46, style=ProgressStyle(description_width='initia…"
      ]
     },
     "metadata": {},
     "output_type": "display_data"
    },
    {
     "data": {
      "application/vnd.jupyter.widget-view+json": {
       "model_id": "",
       "version_major": 2,
       "version_minor": 0
      },
      "text/plain": [
       "HBox(children=(IntProgress(value=0, description='Batch', max=46, style=ProgressStyle(description_width='initia…"
      ]
     },
     "metadata": {},
     "output_type": "display_data"
    },
    {
     "name": "stdout",
     "output_type": "stream",
     "text": [
      "\n"
     ]
    },
    {
     "data": {
      "application/vnd.jupyter.widget-view+json": {
       "model_id": "fc0ab27c066a4c95b8705ca064e1f5d6",
       "version_major": 2,
       "version_minor": 0
      },
      "text/plain": [
       "HBox(children=(IntProgress(value=0, description='Pass', max=15, style=ProgressStyle(description_width='initial…"
      ]
     },
     "metadata": {},
     "output_type": "display_data"
    },
    {
     "data": {
      "application/vnd.jupyter.widget-view+json": {
       "model_id": "",
       "version_major": 2,
       "version_minor": 0
      },
      "text/plain": [
       "HBox(children=(IntProgress(value=0, description='Batch', max=46, style=ProgressStyle(description_width='initia…"
      ]
     },
     "metadata": {},
     "output_type": "display_data"
    },
    {
     "data": {
      "application/vnd.jupyter.widget-view+json": {
       "model_id": "",
       "version_major": 2,
       "version_minor": 0
      },
      "text/plain": [
       "HBox(children=(IntProgress(value=0, description='Batch', max=46, style=ProgressStyle(description_width='initia…"
      ]
     },
     "metadata": {},
     "output_type": "display_data"
    },
    {
     "data": {
      "application/vnd.jupyter.widget-view+json": {
       "model_id": "",
       "version_major": 2,
       "version_minor": 0
      },
      "text/plain": [
       "HBox(children=(IntProgress(value=0, description='Batch', max=46, style=ProgressStyle(description_width='initia…"
      ]
     },
     "metadata": {},
     "output_type": "display_data"
    },
    {
     "data": {
      "application/vnd.jupyter.widget-view+json": {
       "model_id": "",
       "version_major": 2,
       "version_minor": 0
      },
      "text/plain": [
       "HBox(children=(IntProgress(value=0, description='Batch', max=46, style=ProgressStyle(description_width='initia…"
      ]
     },
     "metadata": {},
     "output_type": "display_data"
    },
    {
     "data": {
      "application/vnd.jupyter.widget-view+json": {
       "model_id": "",
       "version_major": 2,
       "version_minor": 0
      },
      "text/plain": [
       "HBox(children=(IntProgress(value=0, description='Batch', max=46, style=ProgressStyle(description_width='initia…"
      ]
     },
     "metadata": {},
     "output_type": "display_data"
    },
    {
     "data": {
      "application/vnd.jupyter.widget-view+json": {
       "model_id": "",
       "version_major": 2,
       "version_minor": 0
      },
      "text/plain": [
       "HBox(children=(IntProgress(value=0, description='Batch', max=46, style=ProgressStyle(description_width='initia…"
      ]
     },
     "metadata": {},
     "output_type": "display_data"
    },
    {
     "data": {
      "application/vnd.jupyter.widget-view+json": {
       "model_id": "",
       "version_major": 2,
       "version_minor": 0
      },
      "text/plain": [
       "HBox(children=(IntProgress(value=0, description='Batch', max=46, style=ProgressStyle(description_width='initia…"
      ]
     },
     "metadata": {},
     "output_type": "display_data"
    },
    {
     "data": {
      "application/vnd.jupyter.widget-view+json": {
       "model_id": "",
       "version_major": 2,
       "version_minor": 0
      },
      "text/plain": [
       "HBox(children=(IntProgress(value=0, description='Batch', max=46, style=ProgressStyle(description_width='initia…"
      ]
     },
     "metadata": {},
     "output_type": "display_data"
    },
    {
     "data": {
      "application/vnd.jupyter.widget-view+json": {
       "model_id": "",
       "version_major": 2,
       "version_minor": 0
      },
      "text/plain": [
       "HBox(children=(IntProgress(value=0, description='Batch', max=46, style=ProgressStyle(description_width='initia…"
      ]
     },
     "metadata": {},
     "output_type": "display_data"
    },
    {
     "data": {
      "application/vnd.jupyter.widget-view+json": {
       "model_id": "",
       "version_major": 2,
       "version_minor": 0
      },
      "text/plain": [
       "HBox(children=(IntProgress(value=0, description='Batch', max=46, style=ProgressStyle(description_width='initia…"
      ]
     },
     "metadata": {},
     "output_type": "display_data"
    },
    {
     "data": {
      "application/vnd.jupyter.widget-view+json": {
       "model_id": "",
       "version_major": 2,
       "version_minor": 0
      },
      "text/plain": [
       "HBox(children=(IntProgress(value=0, description='Batch', max=46, style=ProgressStyle(description_width='initia…"
      ]
     },
     "metadata": {},
     "output_type": "display_data"
    },
    {
     "data": {
      "application/vnd.jupyter.widget-view+json": {
       "model_id": "",
       "version_major": 2,
       "version_minor": 0
      },
      "text/plain": [
       "HBox(children=(IntProgress(value=0, description='Batch', max=46, style=ProgressStyle(description_width='initia…"
      ]
     },
     "metadata": {},
     "output_type": "display_data"
    },
    {
     "data": {
      "application/vnd.jupyter.widget-view+json": {
       "model_id": "",
       "version_major": 2,
       "version_minor": 0
      },
      "text/plain": [
       "HBox(children=(IntProgress(value=0, description='Batch', max=46, style=ProgressStyle(description_width='initia…"
      ]
     },
     "metadata": {},
     "output_type": "display_data"
    },
    {
     "data": {
      "application/vnd.jupyter.widget-view+json": {
       "model_id": "",
       "version_major": 2,
       "version_minor": 0
      },
      "text/plain": [
       "HBox(children=(IntProgress(value=0, description='Batch', max=46, style=ProgressStyle(description_width='initia…"
      ]
     },
     "metadata": {},
     "output_type": "display_data"
    },
    {
     "data": {
      "application/vnd.jupyter.widget-view+json": {
       "model_id": "",
       "version_major": 2,
       "version_minor": 0
      },
      "text/plain": [
       "HBox(children=(IntProgress(value=0, description='Batch', max=46, style=ProgressStyle(description_width='initia…"
      ]
     },
     "metadata": {},
     "output_type": "display_data"
    },
    {
     "name": "stdout",
     "output_type": "stream",
     "text": [
      "\n"
     ]
    },
    {
     "data": {
      "application/vnd.jupyter.widget-view+json": {
       "model_id": "d27e72f21fee445d936933af373a9f4d",
       "version_major": 2,
       "version_minor": 0
      },
      "text/plain": [
       "HBox(children=(IntProgress(value=0, description='Pass', max=15, style=ProgressStyle(description_width='initial…"
      ]
     },
     "metadata": {},
     "output_type": "display_data"
    },
    {
     "data": {
      "application/vnd.jupyter.widget-view+json": {
       "model_id": "",
       "version_major": 2,
       "version_minor": 0
      },
      "text/plain": [
       "HBox(children=(IntProgress(value=0, description='Batch', max=46, style=ProgressStyle(description_width='initia…"
      ]
     },
     "metadata": {},
     "output_type": "display_data"
    },
    {
     "data": {
      "application/vnd.jupyter.widget-view+json": {
       "model_id": "",
       "version_major": 2,
       "version_minor": 0
      },
      "text/plain": [
       "HBox(children=(IntProgress(value=0, description='Batch', max=46, style=ProgressStyle(description_width='initia…"
      ]
     },
     "metadata": {},
     "output_type": "display_data"
    },
    {
     "data": {
      "application/vnd.jupyter.widget-view+json": {
       "model_id": "",
       "version_major": 2,
       "version_minor": 0
      },
      "text/plain": [
       "HBox(children=(IntProgress(value=0, description='Batch', max=46, style=ProgressStyle(description_width='initia…"
      ]
     },
     "metadata": {},
     "output_type": "display_data"
    },
    {
     "data": {
      "application/vnd.jupyter.widget-view+json": {
       "model_id": "",
       "version_major": 2,
       "version_minor": 0
      },
      "text/plain": [
       "HBox(children=(IntProgress(value=0, description='Batch', max=46, style=ProgressStyle(description_width='initia…"
      ]
     },
     "metadata": {},
     "output_type": "display_data"
    },
    {
     "data": {
      "application/vnd.jupyter.widget-view+json": {
       "model_id": "",
       "version_major": 2,
       "version_minor": 0
      },
      "text/plain": [
       "HBox(children=(IntProgress(value=0, description='Batch', max=46, style=ProgressStyle(description_width='initia…"
      ]
     },
     "metadata": {},
     "output_type": "display_data"
    },
    {
     "data": {
      "application/vnd.jupyter.widget-view+json": {
       "model_id": "",
       "version_major": 2,
       "version_minor": 0
      },
      "text/plain": [
       "HBox(children=(IntProgress(value=0, description='Batch', max=46, style=ProgressStyle(description_width='initia…"
      ]
     },
     "metadata": {},
     "output_type": "display_data"
    },
    {
     "data": {
      "application/vnd.jupyter.widget-view+json": {
       "model_id": "",
       "version_major": 2,
       "version_minor": 0
      },
      "text/plain": [
       "HBox(children=(IntProgress(value=0, description='Batch', max=46, style=ProgressStyle(description_width='initia…"
      ]
     },
     "metadata": {},
     "output_type": "display_data"
    },
    {
     "data": {
      "application/vnd.jupyter.widget-view+json": {
       "model_id": "",
       "version_major": 2,
       "version_minor": 0
      },
      "text/plain": [
       "HBox(children=(IntProgress(value=0, description='Batch', max=46, style=ProgressStyle(description_width='initia…"
      ]
     },
     "metadata": {},
     "output_type": "display_data"
    },
    {
     "data": {
      "application/vnd.jupyter.widget-view+json": {
       "model_id": "",
       "version_major": 2,
       "version_minor": 0
      },
      "text/plain": [
       "HBox(children=(IntProgress(value=0, description='Batch', max=46, style=ProgressStyle(description_width='initia…"
      ]
     },
     "metadata": {},
     "output_type": "display_data"
    },
    {
     "data": {
      "application/vnd.jupyter.widget-view+json": {
       "model_id": "",
       "version_major": 2,
       "version_minor": 0
      },
      "text/plain": [
       "HBox(children=(IntProgress(value=0, description='Batch', max=46, style=ProgressStyle(description_width='initia…"
      ]
     },
     "metadata": {},
     "output_type": "display_data"
    },
    {
     "data": {
      "application/vnd.jupyter.widget-view+json": {
       "model_id": "",
       "version_major": 2,
       "version_minor": 0
      },
      "text/plain": [
       "HBox(children=(IntProgress(value=0, description='Batch', max=46, style=ProgressStyle(description_width='initia…"
      ]
     },
     "metadata": {},
     "output_type": "display_data"
    },
    {
     "data": {
      "application/vnd.jupyter.widget-view+json": {
       "model_id": "",
       "version_major": 2,
       "version_minor": 0
      },
      "text/plain": [
       "HBox(children=(IntProgress(value=0, description='Batch', max=46, style=ProgressStyle(description_width='initia…"
      ]
     },
     "metadata": {},
     "output_type": "display_data"
    },
    {
     "data": {
      "application/vnd.jupyter.widget-view+json": {
       "model_id": "",
       "version_major": 2,
       "version_minor": 0
      },
      "text/plain": [
       "HBox(children=(IntProgress(value=0, description='Batch', max=46, style=ProgressStyle(description_width='initia…"
      ]
     },
     "metadata": {},
     "output_type": "display_data"
    },
    {
     "data": {
      "application/vnd.jupyter.widget-view+json": {
       "model_id": "",
       "version_major": 2,
       "version_minor": 0
      },
      "text/plain": [
       "HBox(children=(IntProgress(value=0, description='Batch', max=46, style=ProgressStyle(description_width='initia…"
      ]
     },
     "metadata": {},
     "output_type": "display_data"
    },
    {
     "data": {
      "application/vnd.jupyter.widget-view+json": {
       "model_id": "",
       "version_major": 2,
       "version_minor": 0
      },
      "text/plain": [
       "HBox(children=(IntProgress(value=0, description='Batch', max=46, style=ProgressStyle(description_width='initia…"
      ]
     },
     "metadata": {},
     "output_type": "display_data"
    },
    {
     "name": "stdout",
     "output_type": "stream",
     "text": [
      "\n",
      "\tSparsityThetaScore: 0.6896650195121765\n",
      "\tSparsityPhiScore: 0.8750097155570984\n",
      "\tPerplexityScore: 1986.991455078125\n"
     ]
    }
   ],
   "source": [
    "num_topics = select_topics\n",
    "model = artm.ARTM(num_topics=num_topics, dictionary=dictionary, show_progress_bars=True)\n",
    "\n",
    "# scores\n",
    "model.scores.add(artm.PerplexityScore(name='PerplexityScore', dictionary=dictionary))\n",
    "model.scores.add(artm.SparsityThetaScore(name='SparsityThetaScore'))\n",
    "model.scores.add(artm.SparsityPhiScore(name='SparsityPhiScore'))\n",
    "\n",
    "# 1st regularizer\n",
    "model.regularizers.add(artm.SmoothSparsePhiRegularizer(name='SparsePhi', tau=-1.0)) #-0.1\n",
    "model.fit_offline(batch_vectorizer=batch_vectorizer, num_collection_passes=5)\n",
    "\n",
    "# 2st regularizer\n",
    "model.regularizers.add(artm.SmoothSparseThetaRegularizer(name='SparseTheta', tau=-0.5))\n",
    "model.fit_offline(batch_vectorizer=batch_vectorizer, num_collection_passes=15)\n",
    "\n",
    "# 3st regularizer\n",
    "model.regularizers.add(artm.DecorrelatorPhiRegularizer(name='DecorrelatorPhi', tau=1.5e+5))\n",
    "model.fit_offline(batch_vectorizer=batch_vectorizer, num_collection_passes=15)\n",
    "\n",
    "sparsityTheta = model.score_tracker['SparsityThetaScore'].last_value\n",
    "sparsityPhi = model.score_tracker['SparsityPhiScore'].last_value\n",
    "perpl = model.score_tracker['PerplexityScore'].last_value\n",
    "\n",
    "print(f'\\tSparsityThetaScore: {sparsityTheta}')\n",
    "print(f'\\tSparsityPhiScore: {sparsityPhi}')\n",
    "print(f'\\tPerplexityScore: {perpl}')"
   ]
  },
  {
   "cell_type": "code",
   "execution_count": 23,
   "metadata": {
    "ExecuteTime": {
     "end_time": "2019-02-13T22:57:11.987908Z",
     "start_time": "2019-02-13T22:57:11.943788Z"
    }
   },
   "outputs": [
    {
     "data": {
      "text/plain": [
       "20"
      ]
     },
     "execution_count": 23,
     "metadata": {},
     "output_type": "execute_result"
    }
   ],
   "source": [
    "best_model = model.clone()\n",
    "best_model.num_topics"
   ]
  },
  {
   "cell_type": "markdown",
   "metadata": {},
   "source": [
    "---"
   ]
  },
  {
   "cell_type": "markdown",
   "metadata": {
    "ExecuteTime": {
     "end_time": "2019-02-01T00:14:02.339878Z",
     "start_time": "2019-02-01T00:14:02.338133Z"
    }
   },
   "source": [
    "### print top words for each topics"
   ]
  },
  {
   "cell_type": "code",
   "execution_count": 24,
   "metadata": {
    "ExecuteTime": {
     "end_time": "2019-02-13T22:57:14.008982Z",
     "start_time": "2019-02-13T22:57:13.900559Z"
    }
   },
   "outputs": [
    {
     "name": "stdout",
     "output_type": "stream",
     "text": [
      "topic_0: ['миллион' 'миллиард' 'газа' 'поставка' 'предприятие' 'средство' 'цена'\n",
      " 'сумма' 'система' 'электроэнергия']\n",
      "topic_1: ['здание' 'участник' 'корреспондент' 'площадь' 'милиция' 'акция' 'улица'\n",
      " 'активист' 'беспорядок' 'майдан']\n",
      "topic_2: ['огонь' 'обстрел' 'позиция' 'прекращение' 'линия' 'пункт' 'минский' 'мм'\n",
      " 'режим' 'направление']\n",
      "topic_3: ['оборона' 'крым' 'военнослужащий' 'учение' 'войско' 'граница' 'нато'\n",
      " 'корабль' 'база' 'состав']\n",
      "topic_4: ['киргизия' 'азербайджан' 'обсе' 'миссия' 'наблюдатель' 'бишкек' 'оон'\n",
      " 'временной' 'снг' 'бакиев']\n",
      "topic_5: ['абхазия' 'армения' 'ереван' 'грузинский' 'армянский' 'абхазский'\n",
      " 'премьерминистр' 'член' 'отставка' 'сухуми']\n",
      "topic_6: ['белоруссия' 'гуманитарный' 'минск' 'белорусский' 'граница' 'помощь'\n",
      " 'груз' 'пункт' 'мчс' 'лукашенко']\n",
      "topic_7: ['взрыв' 'погибнуть' 'пострадавший' 'больница' 'дом' 'погибший' 'пожар'\n",
      " 'состояние' 'пострадать' 'ребёнок']\n",
      "topic_8: ['выбор' 'верховный' 'закон' 'избирательный' 'фракция' 'кандидат' 'выборы'\n",
      " 'заседание' 'парламентский' 'комиссия']\n",
      "topic_9: ['автомобиль' 'мужчина' 'пограничник' 'судно' 'пограничный' 'летний'\n",
      " 'въезд' 'инцидент' 'паспорт' 'судный']\n",
      "topic_10: ['прокуратура' 'лицо' 'преступление' 'обвинение' 'убийство' 'бывший'\n",
      " 'расследование' 'адвокат' 'арест' 'свобода']\n",
      "topic_11: ['мид' 'грузинский' 'заявление' 'саакашвили' 'москва' 'встреча' 'хотеть'\n",
      " 'молдавия' 'тбилиси' 'никакой']\n",
      "topic_12: ['сша' 'таджикистан' 'язык' 'латвия' 'американский' 'посольство' 'визит'\n",
      " 'узбекистан' 'помощь' 'русский']\n",
      "topic_13: ['соглашение' 'европейский' 'ес' 'встреча' 'переговоры' 'документ'\n",
      " 'политический' 'подписать' 'право' 'совет']\n",
      "topic_14: ['днр' 'луганский' 'самопровозгласить' 'донбасс' 'донецк' 'ополченец'\n",
      " 'лнр' 'операция' 'восток' 'военнослужащий']\n",
      "topic_15: ['милиция' 'южный' 'осетия' 'мвд' 'грузинский' 'оружие'\n",
      " 'правоохранительный' 'милиционер' 'нападение' 'неизвестный']\n",
      "topic_16: ['эстония' 'литва' 'эстонский' 'война' 'советский' 'список' 'житель'\n",
      " 'большой' 'таллин' 'опрос']\n",
      "topic_17: ['акция' 'оппозиция' 'протест' 'церковь' 'движение' 'митинг'\n",
      " 'православный' 'оппозиционный' 'против' 'участник']\n",
      "topic_18: ['казахстан' 'самолёт' 'аэропорт' 'крушение' 'боинг' 'рейс' 'авиакомпания'\n",
      " 'воздушный' 'расследование' 'борт']\n",
      "topic_19: ['мвд' 'сбу' 'одесский' 'начальник' 'управление' 'внутренний'\n",
      " 'администрация' 'написать' 'областной' 'заместитель']\n"
     ]
    }
   ],
   "source": [
    "phi = best_model.get_phi()\n",
    "phi['word'] = phi.index\n",
    "#phi.head()\n",
    "\n",
    "for col in phi.columns:\n",
    "    if col != 'word':\n",
    "        print(f\"{col}: {phi[[col, 'word']].sort_values(by=col, ascending=False)['word'].values[:10]}\")\n",
    "        #print('\\t',phi[[col, 'word']].sort_values(by=col, ascending=False)['word'].values[:10])"
   ]
  },
  {
   "cell_type": "code",
   "execution_count": null,
   "metadata": {},
   "outputs": [],
   "source": []
  },
  {
   "cell_type": "markdown",
   "metadata": {},
   "source": [
    "### get topics-docs matrix"
   ]
  },
  {
   "cell_type": "code",
   "execution_count": 25,
   "metadata": {
    "ExecuteTime": {
     "end_time": "2019-02-13T22:57:17.866658Z",
     "start_time": "2019-02-13T22:57:17.148275Z"
    }
   },
   "outputs": [
    {
     "data": {
      "application/vnd.jupyter.widget-view+json": {
       "model_id": "",
       "version_major": 2,
       "version_minor": 0
      },
      "text/plain": [
       "HBox(children=(IntProgress(value=0, description='Batch', max=46, style=ProgressStyle(description_width='initia…"
      ]
     },
     "metadata": {},
     "output_type": "display_data"
    },
    {
     "name": "stdout",
     "output_type": "stream",
     "text": [
      "\r",
      "shape theta: (20, 45046)\n"
     ]
    },
    {
     "data": {
      "image/png": "[encoded data removed]",
      "text/plain": [
       "<Figure size 1440x1440 with 1 Axes>"
      ]
     },
     "metadata": {
      "needs_background": "light"
     },
     "output_type": "display_data"
    }
   ],
   "source": [
    "theta = best_model.transform_sparse(batch_vectorizer=batch_vectorizer, eps=0.001)\n",
    "print(f'shape theta: {theta[0].shape}')\n",
    "\n",
    "plt.figure(figsize=(20, 20))\n",
    "plt.imshow(theta[0][:, 2000:2500].toarray());"
   ]
  },
  {
   "cell_type": "code",
   "execution_count": null,
   "metadata": {},
   "outputs": [],
   "source": []
  },
  {
   "cell_type": "markdown",
   "metadata": {},
   "source": [
    "### dense theta matrix"
   ]
  },
  {
   "cell_type": "code",
   "execution_count": 26,
   "metadata": {
    "ExecuteTime": {
     "end_time": "2019-02-13T22:57:20.950840Z",
     "start_time": "2019-02-13T22:57:20.624638Z"
    }
   },
   "outputs": [
    {
     "data": {
      "application/vnd.jupyter.widget-view+json": {
       "model_id": "",
       "version_major": 2,
       "version_minor": 0
      },
      "text/plain": [
       "HBox(children=(IntProgress(value=0, description='Batch', max=46, style=ProgressStyle(description_width='initia…"
      ]
     },
     "metadata": {},
     "output_type": "display_data"
    },
    {
     "name": "stdout",
     "output_type": "stream",
     "text": [
      "\r"
     ]
    },
    {
     "data": {
      "text/html": [
       "<div>\n",
       "<style scoped>\n",
       "    .dataframe tbody tr th:only-of-type {\n",
       "        vertical-align: middle;\n",
       "    }\n",
       "\n",
       "    .dataframe tbody tr th {\n",
       "        vertical-align: top;\n",
       "    }\n",
       "\n",
       "    .dataframe thead th {\n",
       "        text-align: right;\n",
       "    }\n",
       "</style>\n",
       "<table border=\"1\" class=\"dataframe\">\n",
       "  <thead>\n",
       "    <tr style=\"text-align: right;\">\n",
       "      <th></th>\n",
       "      <th>topic_0</th>\n",
       "      <th>topic_1</th>\n",
       "      <th>topic_2</th>\n",
       "      <th>topic_3</th>\n",
       "      <th>topic_4</th>\n",
       "      <th>topic_5</th>\n",
       "      <th>topic_6</th>\n",
       "      <th>topic_7</th>\n",
       "      <th>topic_8</th>\n",
       "      <th>topic_9</th>\n",
       "      <th>topic_10</th>\n",
       "      <th>topic_11</th>\n",
       "      <th>topic_12</th>\n",
       "      <th>topic_13</th>\n",
       "      <th>topic_14</th>\n",
       "      <th>topic_15</th>\n",
       "      <th>topic_16</th>\n",
       "      <th>topic_17</th>\n",
       "      <th>topic_18</th>\n",
       "      <th>topic_19</th>\n",
       "    </tr>\n",
       "  </thead>\n",
       "  <tbody>\n",
       "    <tr>\n",
       "      <th>22000</th>\n",
       "      <td>0.118019</td>\n",
       "      <td>0.0</td>\n",
       "      <td>0.000000</td>\n",
       "      <td>0.000000</td>\n",
       "      <td>0.000000</td>\n",
       "      <td>0.000000</td>\n",
       "      <td>0.000000</td>\n",
       "      <td>0.000000</td>\n",
       "      <td>0.311015</td>\n",
       "      <td>0.000000</td>\n",
       "      <td>0.000000</td>\n",
       "      <td>0.000000</td>\n",
       "      <td>0.000000</td>\n",
       "      <td>0.204477</td>\n",
       "      <td>0.0</td>\n",
       "      <td>0.0</td>\n",
       "      <td>0.016397</td>\n",
       "      <td>0.000000</td>\n",
       "      <td>0.000000</td>\n",
       "      <td>0.35009</td>\n",
       "    </tr>\n",
       "    <tr>\n",
       "      <th>22001</th>\n",
       "      <td>0.000000</td>\n",
       "      <td>0.0</td>\n",
       "      <td>0.000000</td>\n",
       "      <td>0.000000</td>\n",
       "      <td>0.000000</td>\n",
       "      <td>0.069279</td>\n",
       "      <td>0.000000</td>\n",
       "      <td>0.000000</td>\n",
       "      <td>0.057928</td>\n",
       "      <td>0.000000</td>\n",
       "      <td>0.240506</td>\n",
       "      <td>0.319873</td>\n",
       "      <td>0.000000</td>\n",
       "      <td>0.000000</td>\n",
       "      <td>0.0</td>\n",
       "      <td>0.0</td>\n",
       "      <td>0.029435</td>\n",
       "      <td>0.282978</td>\n",
       "      <td>0.000000</td>\n",
       "      <td>0.00000</td>\n",
       "    </tr>\n",
       "    <tr>\n",
       "      <th>22002</th>\n",
       "      <td>0.312160</td>\n",
       "      <td>0.0</td>\n",
       "      <td>0.000000</td>\n",
       "      <td>0.000000</td>\n",
       "      <td>0.115222</td>\n",
       "      <td>0.000000</td>\n",
       "      <td>0.148929</td>\n",
       "      <td>0.000000</td>\n",
       "      <td>0.000000</td>\n",
       "      <td>0.000000</td>\n",
       "      <td>0.000000</td>\n",
       "      <td>0.094235</td>\n",
       "      <td>0.076769</td>\n",
       "      <td>0.252685</td>\n",
       "      <td>0.0</td>\n",
       "      <td>0.0</td>\n",
       "      <td>0.000000</td>\n",
       "      <td>0.000000</td>\n",
       "      <td>0.000000</td>\n",
       "      <td>0.00000</td>\n",
       "    </tr>\n",
       "    <tr>\n",
       "      <th>22003</th>\n",
       "      <td>0.000000</td>\n",
       "      <td>0.0</td>\n",
       "      <td>0.000000</td>\n",
       "      <td>0.008735</td>\n",
       "      <td>0.012599</td>\n",
       "      <td>0.000000</td>\n",
       "      <td>0.000000</td>\n",
       "      <td>0.000000</td>\n",
       "      <td>0.000000</td>\n",
       "      <td>0.000000</td>\n",
       "      <td>0.000000</td>\n",
       "      <td>0.042903</td>\n",
       "      <td>0.000000</td>\n",
       "      <td>0.556092</td>\n",
       "      <td>0.0</td>\n",
       "      <td>0.0</td>\n",
       "      <td>0.070452</td>\n",
       "      <td>0.167202</td>\n",
       "      <td>0.142017</td>\n",
       "      <td>0.00000</td>\n",
       "    </tr>\n",
       "    <tr>\n",
       "      <th>22004</th>\n",
       "      <td>0.193692</td>\n",
       "      <td>0.0</td>\n",
       "      <td>0.104648</td>\n",
       "      <td>0.000000</td>\n",
       "      <td>0.000000</td>\n",
       "      <td>0.000000</td>\n",
       "      <td>0.000000</td>\n",
       "      <td>0.018839</td>\n",
       "      <td>0.000000</td>\n",
       "      <td>0.353279</td>\n",
       "      <td>0.000000</td>\n",
       "      <td>0.000000</td>\n",
       "      <td>0.000000</td>\n",
       "      <td>0.035176</td>\n",
       "      <td>0.0</td>\n",
       "      <td>0.0</td>\n",
       "      <td>0.114156</td>\n",
       "      <td>0.000000</td>\n",
       "      <td>0.180211</td>\n",
       "      <td>0.00000</td>\n",
       "    </tr>\n",
       "  </tbody>\n",
       "</table>\n",
       "</div>"
      ],
      "text/plain": [
       "        topic_0  topic_1   topic_2   topic_3   topic_4   topic_5   topic_6  \\\n",
       "22000  0.118019      0.0  0.000000  0.000000  0.000000  0.000000  0.000000   \n",
       "22001  0.000000      0.0  0.000000  0.000000  0.000000  0.069279  0.000000   \n",
       "22002  0.312160      0.0  0.000000  0.000000  0.115222  0.000000  0.148929   \n",
       "22003  0.000000      0.0  0.000000  0.008735  0.012599  0.000000  0.000000   \n",
       "22004  0.193692      0.0  0.104648  0.000000  0.000000  0.000000  0.000000   \n",
       "\n",
       "        topic_7   topic_8   topic_9  topic_10  topic_11  topic_12  topic_13  \\\n",
       "22000  0.000000  0.311015  0.000000  0.000000  0.000000  0.000000  0.204477   \n",
       "22001  0.000000  0.057928  0.000000  0.240506  0.319873  0.000000  0.000000   \n",
       "22002  0.000000  0.000000  0.000000  0.000000  0.094235  0.076769  0.252685   \n",
       "22003  0.000000  0.000000  0.000000  0.000000  0.042903  0.000000  0.556092   \n",
       "22004  0.018839  0.000000  0.353279  0.000000  0.000000  0.000000  0.035176   \n",
       "\n",
       "       topic_14  topic_15  topic_16  topic_17  topic_18  topic_19  \n",
       "22000       0.0       0.0  0.016397  0.000000  0.000000   0.35009  \n",
       "22001       0.0       0.0  0.029435  0.282978  0.000000   0.00000  \n",
       "22002       0.0       0.0  0.000000  0.000000  0.000000   0.00000  \n",
       "22003       0.0       0.0  0.070452  0.167202  0.142017   0.00000  \n",
       "22004       0.0       0.0  0.114156  0.000000  0.180211   0.00000  "
      ]
     },
     "execution_count": 26,
     "metadata": {},
     "output_type": "execute_result"
    }
   ],
   "source": [
    "theta = best_model.transform(batch_vectorizer=batch_vectorizer)\n",
    "theta = theta.T\n",
    "theta.head()"
   ]
  },
  {
   "cell_type": "code",
   "execution_count": null,
   "metadata": {},
   "outputs": [],
   "source": []
  },
  {
   "cell_type": "markdown",
   "metadata": {},
   "source": [
    "## DataViz"
   ]
  },
  {
   "cell_type": "code",
   "execution_count": 27,
   "metadata": {
    "ExecuteTime": {
     "end_time": "2019-02-13T22:57:20.970455Z",
     "start_time": "2019-02-13T22:57:20.952253Z"
    }
   },
   "outputs": [
    {
     "data": {
      "text/html": [
       "<div>\n",
       "<style scoped>\n",
       "    .dataframe tbody tr th:only-of-type {\n",
       "        vertical-align: middle;\n",
       "    }\n",
       "\n",
       "    .dataframe tbody tr th {\n",
       "        vertical-align: top;\n",
       "    }\n",
       "\n",
       "    .dataframe thead th {\n",
       "        text-align: right;\n",
       "    }\n",
       "</style>\n",
       "<table border=\"1\" class=\"dataframe\">\n",
       "  <thead>\n",
       "    <tr style=\"text-align: right;\">\n",
       "      <th></th>\n",
       "      <th>docID</th>\n",
       "      <th>year</th>\n",
       "      <th>month</th>\n",
       "      <th>topic_0</th>\n",
       "      <th>topic_1</th>\n",
       "      <th>topic_2</th>\n",
       "      <th>topic_3</th>\n",
       "      <th>topic_4</th>\n",
       "      <th>topic_5</th>\n",
       "      <th>topic_6</th>\n",
       "      <th>...</th>\n",
       "      <th>topic_10</th>\n",
       "      <th>topic_11</th>\n",
       "      <th>topic_12</th>\n",
       "      <th>topic_13</th>\n",
       "      <th>topic_14</th>\n",
       "      <th>topic_15</th>\n",
       "      <th>topic_16</th>\n",
       "      <th>topic_17</th>\n",
       "      <th>topic_18</th>\n",
       "      <th>topic_19</th>\n",
       "    </tr>\n",
       "  </thead>\n",
       "  <tbody>\n",
       "    <tr>\n",
       "      <th>0</th>\n",
       "      <td>0</td>\n",
       "      <td>2008</td>\n",
       "      <td>2</td>\n",
       "      <td>0.458049</td>\n",
       "      <td>0.000000</td>\n",
       "      <td>0.0</td>\n",
       "      <td>0.005555</td>\n",
       "      <td>0.027092</td>\n",
       "      <td>0.003151</td>\n",
       "      <td>0.059277</td>\n",
       "      <td>...</td>\n",
       "      <td>0.000000</td>\n",
       "      <td>0.128474</td>\n",
       "      <td>0.097935</td>\n",
       "      <td>0.181535</td>\n",
       "      <td>0.00000</td>\n",
       "      <td>0.000000</td>\n",
       "      <td>0.021099</td>\n",
       "      <td>0.000000</td>\n",
       "      <td>0.017833</td>\n",
       "      <td>0.000000</td>\n",
       "    </tr>\n",
       "    <tr>\n",
       "      <th>1</th>\n",
       "      <td>1</td>\n",
       "      <td>2008</td>\n",
       "      <td>2</td>\n",
       "      <td>0.632395</td>\n",
       "      <td>0.000000</td>\n",
       "      <td>0.0</td>\n",
       "      <td>0.000000</td>\n",
       "      <td>0.000000</td>\n",
       "      <td>0.000000</td>\n",
       "      <td>0.000000</td>\n",
       "      <td>...</td>\n",
       "      <td>0.000000</td>\n",
       "      <td>0.000000</td>\n",
       "      <td>0.088573</td>\n",
       "      <td>0.000000</td>\n",
       "      <td>0.00000</td>\n",
       "      <td>0.000000</td>\n",
       "      <td>0.000000</td>\n",
       "      <td>0.000000</td>\n",
       "      <td>0.000000</td>\n",
       "      <td>0.000000</td>\n",
       "    </tr>\n",
       "    <tr>\n",
       "      <th>2</th>\n",
       "      <td>2</td>\n",
       "      <td>2008</td>\n",
       "      <td>2</td>\n",
       "      <td>0.036397</td>\n",
       "      <td>0.000000</td>\n",
       "      <td>0.0</td>\n",
       "      <td>0.000000</td>\n",
       "      <td>0.000000</td>\n",
       "      <td>0.000000</td>\n",
       "      <td>0.012910</td>\n",
       "      <td>...</td>\n",
       "      <td>0.000000</td>\n",
       "      <td>0.000000</td>\n",
       "      <td>0.167348</td>\n",
       "      <td>0.680242</td>\n",
       "      <td>0.00000</td>\n",
       "      <td>0.000000</td>\n",
       "      <td>0.000000</td>\n",
       "      <td>0.000000</td>\n",
       "      <td>0.000000</td>\n",
       "      <td>0.103104</td>\n",
       "    </tr>\n",
       "    <tr>\n",
       "      <th>3</th>\n",
       "      <td>3</td>\n",
       "      <td>2008</td>\n",
       "      <td>2</td>\n",
       "      <td>0.000000</td>\n",
       "      <td>0.054927</td>\n",
       "      <td>0.0</td>\n",
       "      <td>0.000000</td>\n",
       "      <td>0.000000</td>\n",
       "      <td>0.000000</td>\n",
       "      <td>0.000000</td>\n",
       "      <td>...</td>\n",
       "      <td>0.000000</td>\n",
       "      <td>0.153039</td>\n",
       "      <td>0.000000</td>\n",
       "      <td>0.128450</td>\n",
       "      <td>0.04937</td>\n",
       "      <td>0.000000</td>\n",
       "      <td>0.000000</td>\n",
       "      <td>0.000000</td>\n",
       "      <td>0.000000</td>\n",
       "      <td>0.000000</td>\n",
       "    </tr>\n",
       "    <tr>\n",
       "      <th>4</th>\n",
       "      <td>4</td>\n",
       "      <td>2008</td>\n",
       "      <td>2</td>\n",
       "      <td>0.000000</td>\n",
       "      <td>0.000000</td>\n",
       "      <td>0.0</td>\n",
       "      <td>0.000000</td>\n",
       "      <td>0.000000</td>\n",
       "      <td>0.000000</td>\n",
       "      <td>0.000000</td>\n",
       "      <td>...</td>\n",
       "      <td>0.233583</td>\n",
       "      <td>0.416360</td>\n",
       "      <td>0.000000</td>\n",
       "      <td>0.000000</td>\n",
       "      <td>0.00000</td>\n",
       "      <td>0.072046</td>\n",
       "      <td>0.047714</td>\n",
       "      <td>0.030706</td>\n",
       "      <td>0.000000</td>\n",
       "      <td>0.007727</td>\n",
       "    </tr>\n",
       "  </tbody>\n",
       "</table>\n",
       "<p>5 rows × 23 columns</p>\n",
       "</div>"
      ],
      "text/plain": [
       "   docID  year  month   topic_0   topic_1  topic_2   topic_3   topic_4  \\\n",
       "0      0  2008      2  0.458049  0.000000      0.0  0.005555  0.027092   \n",
       "1      1  2008      2  0.632395  0.000000      0.0  0.000000  0.000000   \n",
       "2      2  2008      2  0.036397  0.000000      0.0  0.000000  0.000000   \n",
       "3      3  2008      2  0.000000  0.054927      0.0  0.000000  0.000000   \n",
       "4      4  2008      2  0.000000  0.000000      0.0  0.000000  0.000000   \n",
       "\n",
       "    topic_5   topic_6    ...     topic_10  topic_11  topic_12  topic_13  \\\n",
       "0  0.003151  0.059277    ...     0.000000  0.128474  0.097935  0.181535   \n",
       "1  0.000000  0.000000    ...     0.000000  0.000000  0.088573  0.000000   \n",
       "2  0.000000  0.012910    ...     0.000000  0.000000  0.167348  0.680242   \n",
       "3  0.000000  0.000000    ...     0.000000  0.153039  0.000000  0.128450   \n",
       "4  0.000000  0.000000    ...     0.233583  0.416360  0.000000  0.000000   \n",
       "\n",
       "   topic_14  topic_15  topic_16  topic_17  topic_18  topic_19  \n",
       "0   0.00000  0.000000  0.021099  0.000000  0.017833  0.000000  \n",
       "1   0.00000  0.000000  0.000000  0.000000  0.000000  0.000000  \n",
       "2   0.00000  0.000000  0.000000  0.000000  0.000000  0.103104  \n",
       "3   0.04937  0.000000  0.000000  0.000000  0.000000  0.000000  \n",
       "4   0.00000  0.072046  0.047714  0.030706  0.000000  0.007727  \n",
       "\n",
       "[5 rows x 23 columns]"
      ]
     },
     "execution_count": 27,
     "metadata": {},
     "output_type": "execute_result"
    }
   ],
   "source": [
    "joined = id_date.join(theta)\n",
    "joined.head()"
   ]
  },
  {
   "cell_type": "code",
   "execution_count": 28,
   "metadata": {
    "ExecuteTime": {
     "end_time": "2019-02-13T22:57:20.997453Z",
     "start_time": "2019-02-13T22:57:20.972029Z"
    }
   },
   "outputs": [
    {
     "name": "stdout",
     "output_type": "stream",
     "text": [
      "gb.shape: (132, 20)\n"
     ]
    },
    {
     "data": {
      "text/html": [
       "<div>\n",
       "<style scoped>\n",
       "    .dataframe tbody tr th:only-of-type {\n",
       "        vertical-align: middle;\n",
       "    }\n",
       "\n",
       "    .dataframe tbody tr th {\n",
       "        vertical-align: top;\n",
       "    }\n",
       "\n",
       "    .dataframe thead th {\n",
       "        text-align: right;\n",
       "    }\n",
       "</style>\n",
       "<table border=\"1\" class=\"dataframe\">\n",
       "  <thead>\n",
       "    <tr style=\"text-align: right;\">\n",
       "      <th></th>\n",
       "      <th></th>\n",
       "      <th>topic_0</th>\n",
       "      <th>topic_1</th>\n",
       "      <th>topic_2</th>\n",
       "      <th>topic_3</th>\n",
       "      <th>topic_4</th>\n",
       "      <th>topic_5</th>\n",
       "      <th>topic_6</th>\n",
       "      <th>topic_7</th>\n",
       "      <th>topic_8</th>\n",
       "      <th>topic_9</th>\n",
       "      <th>topic_10</th>\n",
       "      <th>topic_11</th>\n",
       "      <th>topic_12</th>\n",
       "      <th>topic_13</th>\n",
       "      <th>topic_14</th>\n",
       "      <th>topic_15</th>\n",
       "      <th>topic_16</th>\n",
       "      <th>topic_17</th>\n",
       "      <th>topic_18</th>\n",
       "      <th>topic_19</th>\n",
       "    </tr>\n",
       "    <tr>\n",
       "      <th>year</th>\n",
       "      <th>month</th>\n",
       "      <th></th>\n",
       "      <th></th>\n",
       "      <th></th>\n",
       "      <th></th>\n",
       "      <th></th>\n",
       "      <th></th>\n",
       "      <th></th>\n",
       "      <th></th>\n",
       "      <th></th>\n",
       "      <th></th>\n",
       "      <th></th>\n",
       "      <th></th>\n",
       "      <th></th>\n",
       "      <th></th>\n",
       "      <th></th>\n",
       "      <th></th>\n",
       "      <th></th>\n",
       "      <th></th>\n",
       "      <th></th>\n",
       "      <th></th>\n",
       "    </tr>\n",
       "  </thead>\n",
       "  <tbody>\n",
       "    <tr>\n",
       "      <th rowspan=\"5\" valign=\"top\">2008</th>\n",
       "      <th>2</th>\n",
       "      <td>5.750831</td>\n",
       "      <td>3.028122</td>\n",
       "      <td>0.366248</td>\n",
       "      <td>1.682246</td>\n",
       "      <td>1.764475</td>\n",
       "      <td>9.237143</td>\n",
       "      <td>1.154420</td>\n",
       "      <td>6.446889</td>\n",
       "      <td>13.813206</td>\n",
       "      <td>2.340192</td>\n",
       "      <td>7.353676</td>\n",
       "      <td>11.294718</td>\n",
       "      <td>1.386624</td>\n",
       "      <td>9.667122</td>\n",
       "      <td>0.791213</td>\n",
       "      <td>9.785063</td>\n",
       "      <td>3.731860</td>\n",
       "      <td>6.048367</td>\n",
       "      <td>3.539603</td>\n",
       "      <td>1.817984</td>\n",
       "    </tr>\n",
       "    <tr>\n",
       "      <th>3</th>\n",
       "      <td>27.839293</td>\n",
       "      <td>14.705786</td>\n",
       "      <td>5.423879</td>\n",
       "      <td>10.517068</td>\n",
       "      <td>11.101358</td>\n",
       "      <td>14.742620</td>\n",
       "      <td>7.457492</td>\n",
       "      <td>21.922983</td>\n",
       "      <td>27.066565</td>\n",
       "      <td>10.179429</td>\n",
       "      <td>20.799583</td>\n",
       "      <td>33.664326</td>\n",
       "      <td>17.492453</td>\n",
       "      <td>48.577782</td>\n",
       "      <td>2.795205</td>\n",
       "      <td>27.188448</td>\n",
       "      <td>15.041641</td>\n",
       "      <td>23.129057</td>\n",
       "      <td>8.610022</td>\n",
       "      <td>7.745017</td>\n",
       "    </tr>\n",
       "    <tr>\n",
       "      <th>4</th>\n",
       "      <td>18.609726</td>\n",
       "      <td>13.692340</td>\n",
       "      <td>2.065144</td>\n",
       "      <td>19.922115</td>\n",
       "      <td>7.165498</td>\n",
       "      <td>20.832203</td>\n",
       "      <td>6.857869</td>\n",
       "      <td>18.996876</td>\n",
       "      <td>23.180746</td>\n",
       "      <td>17.594730</td>\n",
       "      <td>13.594214</td>\n",
       "      <td>34.823315</td>\n",
       "      <td>15.282094</td>\n",
       "      <td>48.402119</td>\n",
       "      <td>2.689918</td>\n",
       "      <td>28.218113</td>\n",
       "      <td>17.663704</td>\n",
       "      <td>11.013587</td>\n",
       "      <td>7.815551</td>\n",
       "      <td>8.580138</td>\n",
       "    </tr>\n",
       "    <tr>\n",
       "      <th>5</th>\n",
       "      <td>13.977764</td>\n",
       "      <td>14.976894</td>\n",
       "      <td>2.284893</td>\n",
       "      <td>31.479622</td>\n",
       "      <td>10.945243</td>\n",
       "      <td>29.705051</td>\n",
       "      <td>10.352452</td>\n",
       "      <td>33.330692</td>\n",
       "      <td>32.124313</td>\n",
       "      <td>12.705651</td>\n",
       "      <td>10.853239</td>\n",
       "      <td>47.005062</td>\n",
       "      <td>12.541442</td>\n",
       "      <td>48.095776</td>\n",
       "      <td>5.841259</td>\n",
       "      <td>36.593739</td>\n",
       "      <td>22.289715</td>\n",
       "      <td>14.462296</td>\n",
       "      <td>11.137048</td>\n",
       "      <td>7.297853</td>\n",
       "    </tr>\n",
       "    <tr>\n",
       "      <th>6</th>\n",
       "      <td>13.525900</td>\n",
       "      <td>12.908583</td>\n",
       "      <td>3.039244</td>\n",
       "      <td>18.486706</td>\n",
       "      <td>5.370056</td>\n",
       "      <td>16.250610</td>\n",
       "      <td>8.947408</td>\n",
       "      <td>40.165588</td>\n",
       "      <td>15.848350</td>\n",
       "      <td>14.826854</td>\n",
       "      <td>12.531438</td>\n",
       "      <td>34.172592</td>\n",
       "      <td>12.838906</td>\n",
       "      <td>44.116467</td>\n",
       "      <td>2.100608</td>\n",
       "      <td>32.488083</td>\n",
       "      <td>17.957937</td>\n",
       "      <td>7.807408</td>\n",
       "      <td>8.017544</td>\n",
       "      <td>7.599723</td>\n",
       "    </tr>\n",
       "  </tbody>\n",
       "</table>\n",
       "</div>"
      ],
      "text/plain": [
       "              topic_0    topic_1   topic_2    topic_3    topic_4    topic_5  \\\n",
       "year month                                                                    \n",
       "2008 2       5.750831   3.028122  0.366248   1.682246   1.764475   9.237143   \n",
       "     3      27.839293  14.705786  5.423879  10.517068  11.101358  14.742620   \n",
       "     4      18.609726  13.692340  2.065144  19.922115   7.165498  20.832203   \n",
       "     5      13.977764  14.976894  2.284893  31.479622  10.945243  29.705051   \n",
       "     6      13.525900  12.908583  3.039244  18.486706   5.370056  16.250610   \n",
       "\n",
       "              topic_6    topic_7    topic_8    topic_9   topic_10   topic_11  \\\n",
       "year month                                                                     \n",
       "2008 2       1.154420   6.446889  13.813206   2.340192   7.353676  11.294718   \n",
       "     3       7.457492  21.922983  27.066565  10.179429  20.799583  33.664326   \n",
       "     4       6.857869  18.996876  23.180746  17.594730  13.594214  34.823315   \n",
       "     5      10.352452  33.330692  32.124313  12.705651  10.853239  47.005062   \n",
       "     6       8.947408  40.165588  15.848350  14.826854  12.531438  34.172592   \n",
       "\n",
       "             topic_12   topic_13  topic_14   topic_15   topic_16   topic_17  \\\n",
       "year month                                                                    \n",
       "2008 2       1.386624   9.667122  0.791213   9.785063   3.731860   6.048367   \n",
       "     3      17.492453  48.577782  2.795205  27.188448  15.041641  23.129057   \n",
       "     4      15.282094  48.402119  2.689918  28.218113  17.663704  11.013587   \n",
       "     5      12.541442  48.095776  5.841259  36.593739  22.289715  14.462296   \n",
       "     6      12.838906  44.116467  2.100608  32.488083  17.957937   7.807408   \n",
       "\n",
       "             topic_18  topic_19  \n",
       "year month                       \n",
       "2008 2       3.539603  1.817984  \n",
       "     3       8.610022  7.745017  \n",
       "     4       7.815551  8.580138  \n",
       "     5      11.137048  7.297853  \n",
       "     6       8.017544  7.599723  "
      ]
     },
     "execution_count": 28,
     "metadata": {},
     "output_type": "execute_result"
    }
   ],
   "source": [
    "topics = ['topic_{}'.format(i) for i in range(select_topics)]\n",
    "gb = joined.groupby(['year', 'month'])[topics].sum()\n",
    "print(f'gb.shape: {gb.shape}')\n",
    "gb.head()"
   ]
  },
  {
   "cell_type": "markdown",
   "metadata": {},
   "source": [
    "### straightforward matrix heatmap"
   ]
  },
  {
   "cell_type": "code",
   "execution_count": 29,
   "metadata": {
    "ExecuteTime": {
     "end_time": "2019-02-13T22:57:21.225960Z",
     "start_time": "2019-02-13T22:57:20.999074Z"
    },
    "scrolled": true
   },
   "outputs": [
    {
     "data": {
      "text/plain": [
       "<matplotlib.image.AxesImage at 0x7f4e370d68d0>"
      ]
     },
     "execution_count": 29,
     "metadata": {},
     "output_type": "execute_result"
    },
    {
     "data": {
      "image/png": "[encoded data removed]",
      "text/plain": [
       "<Figure size 360x1800 with 1 Axes>"
      ]
     },
     "metadata": {
      "needs_background": "light"
     },
     "output_type": "display_data"
    }
   ],
   "source": [
    "plt.figure(figsize=(5, 25))\n",
    "plt.imshow(gb[topics])"
   ]
  },
  {
   "cell_type": "code",
   "execution_count": null,
   "metadata": {},
   "outputs": [],
   "source": []
  },
  {
   "cell_type": "markdown",
   "metadata": {},
   "source": [
    "## pygal"
   ]
  },
  {
   "cell_type": "code",
   "execution_count": 30,
   "metadata": {
    "ExecuteTime": {
     "end_time": "2019-02-13T22:57:21.269556Z",
     "start_time": "2019-02-13T22:57:21.227045Z"
    }
   },
   "outputs": [],
   "source": [
    "import pygal\n",
    "from IPython.display import SVG, HTML"
   ]
  },
  {
   "cell_type": "code",
   "execution_count": 31,
   "metadata": {
    "ExecuteTime": {
     "end_time": "2019-02-13T22:57:21.272796Z",
     "start_time": "2019-02-13T22:57:21.270716Z"
    }
   },
   "outputs": [],
   "source": [
    "html_pygal = \"\"\"\n",
    "<!DOCTYPE html>\n",
    "<html>\n",
    "  <head>\n",
    "  <script type=\"text/javascript\" src=\"http://kozea.github.com/pygal.js/javascripts/svg.jquery.js\"></script>\n",
    "  <script type=\"text/javascript\" src=\"http://kozea.github.com/pygal.js/javascripts/pygal-tooltips.js\"></script>\n",
    "    <!-- ... -->\n",
    "  </head>\n",
    "  <body>\n",
    "    <figure>\n",
    "      {pygal_render}\n",
    "    </figure>\n",
    "  </body>\n",
    "</html>\n",
    "\"\"\""
   ]
  },
  {
   "cell_type": "code",
   "execution_count": 32,
   "metadata": {
    "ExecuteTime": {
     "end_time": "2019-02-13T22:57:21.279154Z",
     "start_time": "2019-02-13T22:57:21.273718Z"
    },
    "scrolled": true
   },
   "outputs": [
    {
     "data": {
      "text/plain": [
       "154.72348"
      ]
     },
     "execution_count": 32,
     "metadata": {},
     "output_type": "execute_result"
    }
   ],
   "source": [
    "max(gb['topic_1'].values)"
   ]
  },
  {
   "cell_type": "code",
   "execution_count": 33,
   "metadata": {
    "ExecuteTime": {
     "end_time": "2019-02-13T22:57:21.348006Z",
     "start_time": "2019-02-13T22:57:21.280125Z"
    },
    "scrolled": false
   },
   "outputs": [
    {
     "data": {
      "text/html": [
       "\n",
       "<!DOCTYPE html>\n",
       "<html>\n",
       "  <head>\n",
       "  <script type=\"text/javascript\" src=\"http://kozea.github.com/pygal.js/javascripts/svg.jquery.js\"></script>\n",
       "  <script type=\"text/javascript\" src=\"http://kozea.github.com/pygal.js/javascripts/pygal-tooltips.js\"></script>\n",
       "    <!-- ... -->\n",
       "  </head>\n",
       "  <body>\n",
       "    <figure>\n",
       "      <?xml version='1.0' encoding='utf-8'?>\n",
       "<svg xmlns:xlink=\"http://www.w3.org/1999/xlink\" xmlns=\"http://www.w3.org/2000/svg\" id=\"chart-f0fe4e23-e52b-4f5c-a82c-815f2694dfbd\" class=\"pygal-chart\" viewBox=\"0 0 800 600\"><!--Generated with pygal 2.4.0 (lxml) ©Kozea 2012-2016 on 2019-02-14--><!--http://pygal.org--><!--http://github.com/Kozea/pygal--><defs><style type=\"text/css\">#chart-f0fe4e23-e52b-4f5c-a82c-815f2694dfbd{-webkit-user-select:none;-webkit-font-smoothing:antialiased;font-family:Consolas,\"Liberation Mono\",Menlo,Courier,monospace}#chart-f0fe4e23-e52b-4f5c-a82c-815f2694dfbd .title{font-family:Consolas,\"Liberation Mono\",Menlo,Courier,monospace;font-size:16px}#chart-f0fe4e23-e52b-4f5c-a82c-815f2694dfbd .legends .legend text{font-family:Consolas,\"Liberation Mono\",Menlo,Courier,monospace;font-size:14px}#chart-f0fe4e23-e52b-4f5c-a82c-815f2694dfbd .axis text{font-family:Consolas,\"Liberation Mono\",Menlo,Courier,monospace;font-size:10px}#chart-f0fe4e23-e52b-4f5c-a82c-815f2694dfbd .axis text.major{font-family:Consolas,\"Liberation Mono\",Menlo,Courier,monospace;font-size:10px}#chart-f0fe4e23-e52b-4f5c-a82c-815f2694dfbd .text-overlay text.value{font-family:Consolas,\"Liberation Mono\",Menlo,Courier,monospace;font-size:16px}#chart-f0fe4e23-e52b-4f5c-a82c-815f2694dfbd .text-overlay text.label{font-family:Consolas,\"Liberation Mono\",Menlo,Courier,monospace;font-size:10px}#chart-f0fe4e23-e52b-4f5c-a82c-815f2694dfbd .tooltip{font-family:Consolas,\"Liberation Mono\",Menlo,Courier,monospace;font-size:14px}#chart-f0fe4e23-e52b-4f5c-a82c-815f2694dfbd text.no_data{font-family:Consolas,\"Liberation Mono\",Menlo,Courier,monospace;font-size:64px}\n",
       "#chart-f0fe4e23-e52b-4f5c-a82c-815f2694dfbd{background-color:rgba(249,249,249,1)}#chart-f0fe4e23-e52b-4f5c-a82c-815f2694dfbd path,#chart-f0fe4e23-e52b-4f5c-a82c-815f2694dfbd line,#chart-f0fe4e23-e52b-4f5c-a82c-815f2694dfbd rect,#chart-f0fe4e23-e52b-4f5c-a82c-815f2694dfbd circle{-webkit-transition:150ms;-moz-transition:150ms;transition:150ms}#chart-f0fe4e23-e52b-4f5c-a82c-815f2694dfbd .graph &gt; .background{fill:rgba(249,249,249,1)}#chart-f0fe4e23-e52b-4f5c-a82c-815f2694dfbd .plot &gt; .background{fill:rgba(255,255,255,1)}#chart-f0fe4e23-e52b-4f5c-a82c-815f2694dfbd .graph{fill:rgba(0,0,0,.87)}#chart-f0fe4e23-e52b-4f5c-a82c-815f2694dfbd text.no_data{fill:rgba(0,0,0,1)}#chart-f0fe4e23-e52b-4f5c-a82c-815f2694dfbd .title{fill:rgba(0,0,0,1)}#chart-f0fe4e23-e52b-4f5c-a82c-815f2694dfbd .legends .legend text{fill:rgba(0,0,0,.87)}#chart-f0fe4e23-e52b-4f5c-a82c-815f2694dfbd .legends .legend:hover text{fill:rgba(0,0,0,1)}#chart-f0fe4e23-e52b-4f5c-a82c-815f2694dfbd .axis .line{stroke:rgba(0,0,0,1)}#chart-f0fe4e23-e52b-4f5c-a82c-815f2694dfbd .axis .guide.line{stroke:rgba(0,0,0,.54)}#chart-f0fe4e23-e52b-4f5c-a82c-815f2694dfbd .axis .major.line{stroke:rgba(0,0,0,.87)}#chart-f0fe4e23-e52b-4f5c-a82c-815f2694dfbd .axis text.major{fill:rgba(0,0,0,1)}#chart-f0fe4e23-e52b-4f5c-a82c-815f2694dfbd .axis.y .guides:hover .guide.line,#chart-f0fe4e23-e52b-4f5c-a82c-815f2694dfbd .line-graph .axis.x .guides:hover .guide.line,#chart-f0fe4e23-e52b-4f5c-a82c-815f2694dfbd .stackedline-graph .axis.x .guides:hover .guide.line,#chart-f0fe4e23-e52b-4f5c-a82c-815f2694dfbd .xy-graph .axis.x .guides:hover .guide.line{stroke:rgba(0,0,0,1)}#chart-f0fe4e23-e52b-4f5c-a82c-815f2694dfbd .axis .guides:hover text{fill:rgba(0,0,0,1)}#chart-f0fe4e23-e52b-4f5c-a82c-815f2694dfbd .reactive{fill-opacity:.7;stroke-opacity:.8}#chart-f0fe4e23-e52b-4f5c-a82c-815f2694dfbd .ci{stroke:rgba(0,0,0,.87)}#chart-f0fe4e23-e52b-4f5c-a82c-815f2694dfbd .reactive.active,#chart-f0fe4e23-e52b-4f5c-a82c-815f2694dfbd .active .reactive{fill-opacity:.8;stroke-opacity:.9;stroke-width:4}#chart-f0fe4e23-e52b-4f5c-a82c-815f2694dfbd .ci .reactive.active{stroke-width:1.5}#chart-f0fe4e23-e52b-4f5c-a82c-815f2694dfbd .series text{fill:rgba(0,0,0,1)}#chart-f0fe4e23-e52b-4f5c-a82c-815f2694dfbd .tooltip rect{fill:rgba(255,255,255,1);stroke:rgba(0,0,0,1);-webkit-transition:opacity 150ms;-moz-transition:opacity 150ms;transition:opacity 150ms}#chart-f0fe4e23-e52b-4f5c-a82c-815f2694dfbd .tooltip .label{fill:rgba(0,0,0,.87)}#chart-f0fe4e23-e52b-4f5c-a82c-815f2694dfbd .tooltip .label{fill:rgba(0,0,0,.87)}#chart-f0fe4e23-e52b-4f5c-a82c-815f2694dfbd .tooltip .legend{font-size:.8em;fill:rgba(0,0,0,.54)}#chart-f0fe4e23-e52b-4f5c-a82c-815f2694dfbd .tooltip .x_label{font-size:.6em;fill:rgba(0,0,0,1)}#chart-f0fe4e23-e52b-4f5c-a82c-815f2694dfbd .tooltip .xlink{font-size:.5em;text-decoration:underline}#chart-f0fe4e23-e52b-4f5c-a82c-815f2694dfbd .tooltip .value{font-size:1.5em}#chart-f0fe4e23-e52b-4f5c-a82c-815f2694dfbd .bound{font-size:.5em}#chart-f0fe4e23-e52b-4f5c-a82c-815f2694dfbd .max-value{font-size:.75em;fill:rgba(0,0,0,.54)}#chart-f0fe4e23-e52b-4f5c-a82c-815f2694dfbd .map-element{fill:rgba(255,255,255,1);stroke:rgba(0,0,0,.54) !important}#chart-f0fe4e23-e52b-4f5c-a82c-815f2694dfbd .map-element .reactive{fill-opacity:inherit;stroke-opacity:inherit}#chart-f0fe4e23-e52b-4f5c-a82c-815f2694dfbd .color-0,#chart-f0fe4e23-e52b-4f5c-a82c-815f2694dfbd .color-0 a:visited{stroke:#f44336;fill:#f44336}#chart-f0fe4e23-e52b-4f5c-a82c-815f2694dfbd .color-1,#chart-f0fe4e23-e52b-4f5c-a82c-815f2694dfbd .color-1 a:visited{stroke:#3f51b5;fill:#3f51b5}#chart-f0fe4e23-e52b-4f5c-a82c-815f2694dfbd .color-2,#chart-f0fe4e23-e52b-4f5c-a82c-815f2694dfbd .color-2 a:visited{stroke:#009688;fill:#009688}#chart-f0fe4e23-e52b-4f5c-a82c-815f2694dfbd .color-3,#chart-f0fe4e23-e52b-4f5c-a82c-815f2694dfbd .color-3 a:visited{stroke:#ffc107;fill:#ffc107}#chart-f0fe4e23-e52b-4f5c-a82c-815f2694dfbd .color-4,#chart-f0fe4e23-e52b-4f5c-a82c-815f2694dfbd .color-4 a:visited{stroke:#ff5722;fill:#ff5722}#chart-f0fe4e23-e52b-4f5c-a82c-815f2694dfbd .color-5,#chart-f0fe4e23-e52b-4f5c-a82c-815f2694dfbd .color-5 a:visited{stroke:#9c27b0;fill:#9c27b0}#chart-f0fe4e23-e52b-4f5c-a82c-815f2694dfbd .color-6,#chart-f0fe4e23-e52b-4f5c-a82c-815f2694dfbd .color-6 a:visited{stroke:#03a9f4;fill:#03a9f4}#chart-f0fe4e23-e52b-4f5c-a82c-815f2694dfbd .color-7,#chart-f0fe4e23-e52b-4f5c-a82c-815f2694dfbd .color-7 a:visited{stroke:#8bc34a;fill:#8bc34a}#chart-f0fe4e23-e52b-4f5c-a82c-815f2694dfbd .color-8,#chart-f0fe4e23-e52b-4f5c-a82c-815f2694dfbd .color-8 a:visited{stroke:#ff9800;fill:#ff9800}#chart-f0fe4e23-e52b-4f5c-a82c-815f2694dfbd .color-9,#chart-f0fe4e23-e52b-4f5c-a82c-815f2694dfbd .color-9 a:visited{stroke:#e91e63;fill:#e91e63}#chart-f0fe4e23-e52b-4f5c-a82c-815f2694dfbd .color-10,#chart-f0fe4e23-e52b-4f5c-a82c-815f2694dfbd .color-10 a:visited{stroke:#2196f3;fill:#2196f3}#chart-f0fe4e23-e52b-4f5c-a82c-815f2694dfbd .color-11,#chart-f0fe4e23-e52b-4f5c-a82c-815f2694dfbd .color-11 a:visited{stroke:#4caf50;fill:#4caf50}#chart-f0fe4e23-e52b-4f5c-a82c-815f2694dfbd .color-12,#chart-f0fe4e23-e52b-4f5c-a82c-815f2694dfbd .color-12 a:visited{stroke:#ffeb3b;fill:#ffeb3b}#chart-f0fe4e23-e52b-4f5c-a82c-815f2694dfbd .color-13,#chart-f0fe4e23-e52b-4f5c-a82c-815f2694dfbd .color-13 a:visited{stroke:#673ab7;fill:#673ab7}#chart-f0fe4e23-e52b-4f5c-a82c-815f2694dfbd .color-14,#chart-f0fe4e23-e52b-4f5c-a82c-815f2694dfbd .color-14 a:visited{stroke:#00bcd4;fill:#00bcd4}#chart-f0fe4e23-e52b-4f5c-a82c-815f2694dfbd .color-15,#chart-f0fe4e23-e52b-4f5c-a82c-815f2694dfbd .color-15 a:visited{stroke:#cddc39;fill:#cddc39}#chart-f0fe4e23-e52b-4f5c-a82c-815f2694dfbd .color-16,#chart-f0fe4e23-e52b-4f5c-a82c-815f2694dfbd .color-16 a:visited{stroke:#9e9e9e;fill:#9e9e9e}#chart-f0fe4e23-e52b-4f5c-a82c-815f2694dfbd .color-17,#chart-f0fe4e23-e52b-4f5c-a82c-815f2694dfbd .color-17 a:visited{stroke:#607d8b;fill:#607d8b}#chart-f0fe4e23-e52b-4f5c-a82c-815f2694dfbd .color-18,#chart-f0fe4e23-e52b-4f5c-a82c-815f2694dfbd .color-18 a:visited{stroke:#7b0f07;fill:#7b0f07}#chart-f0fe4e23-e52b-4f5c-a82c-815f2694dfbd .color-19,#chart-f0fe4e23-e52b-4f5c-a82c-815f2694dfbd .color-19 a:visited{stroke:#141938;fill:#141938}#chart-f0fe4e23-e52b-4f5c-a82c-815f2694dfbd .text-overlay .color-0 text{fill:black}#chart-f0fe4e23-e52b-4f5c-a82c-815f2694dfbd .text-overlay .color-1 text{fill:black}#chart-f0fe4e23-e52b-4f5c-a82c-815f2694dfbd .text-overlay .color-2 text{fill:black}#chart-f0fe4e23-e52b-4f5c-a82c-815f2694dfbd .text-overlay .color-3 text{fill:black}#chart-f0fe4e23-e52b-4f5c-a82c-815f2694dfbd .text-overlay .color-4 text{fill:black}#chart-f0fe4e23-e52b-4f5c-a82c-815f2694dfbd .text-overlay .color-5 text{fill:black}#chart-f0fe4e23-e52b-4f5c-a82c-815f2694dfbd .text-overlay .color-6 text{fill:black}#chart-f0fe4e23-e52b-4f5c-a82c-815f2694dfbd .text-overlay .color-7 text{fill:black}#chart-f0fe4e23-e52b-4f5c-a82c-815f2694dfbd .text-overlay .color-8 text{fill:black}#chart-f0fe4e23-e52b-4f5c-a82c-815f2694dfbd .text-overlay .color-9 text{fill:black}#chart-f0fe4e23-e52b-4f5c-a82c-815f2694dfbd .text-overlay .color-10 text{fill:black}#chart-f0fe4e23-e52b-4f5c-a82c-815f2694dfbd .text-overlay .color-11 text{fill:black}#chart-f0fe4e23-e52b-4f5c-a82c-815f2694dfbd .text-overlay .color-12 text{fill:black}#chart-f0fe4e23-e52b-4f5c-a82c-815f2694dfbd .text-overlay .color-13 text{fill:black}#chart-f0fe4e23-e52b-4f5c-a82c-815f2694dfbd .text-overlay .color-14 text{fill:black}#chart-f0fe4e23-e52b-4f5c-a82c-815f2694dfbd .text-overlay .color-15 text{fill:black}#chart-f0fe4e23-e52b-4f5c-a82c-815f2694dfbd .text-overlay .color-16 text{fill:black}#chart-f0fe4e23-e52b-4f5c-a82c-815f2694dfbd .text-overlay .color-17 text{fill:black}#chart-f0fe4e23-e52b-4f5c-a82c-815f2694dfbd .text-overlay .color-18 text{fill:black}#chart-f0fe4e23-e52b-4f5c-a82c-815f2694dfbd .text-overlay .color-19 text{fill:white}\n",
       "#chart-f0fe4e23-e52b-4f5c-a82c-815f2694dfbd text.no_data{text-anchor:middle}#chart-f0fe4e23-e52b-4f5c-a82c-815f2694dfbd .guide.line{fill:none}#chart-f0fe4e23-e52b-4f5c-a82c-815f2694dfbd .centered{text-anchor:middle}#chart-f0fe4e23-e52b-4f5c-a82c-815f2694dfbd .title{text-anchor:middle}#chart-f0fe4e23-e52b-4f5c-a82c-815f2694dfbd .legends .legend text{fill-opacity:1}#chart-f0fe4e23-e52b-4f5c-a82c-815f2694dfbd .axis.x text{text-anchor:middle}#chart-f0fe4e23-e52b-4f5c-a82c-815f2694dfbd .axis.x:not(.web) text[transform]{text-anchor:start}#chart-f0fe4e23-e52b-4f5c-a82c-815f2694dfbd .axis.x:not(.web) text[transform].backwards{text-anchor:end}#chart-f0fe4e23-e52b-4f5c-a82c-815f2694dfbd .axis.y text{text-anchor:end}#chart-f0fe4e23-e52b-4f5c-a82c-815f2694dfbd .axis.y text[transform].backwards{text-anchor:start}#chart-f0fe4e23-e52b-4f5c-a82c-815f2694dfbd .axis.y2 text{text-anchor:start}#chart-f0fe4e23-e52b-4f5c-a82c-815f2694dfbd .axis.y2 text[transform].backwards{text-anchor:end}#chart-f0fe4e23-e52b-4f5c-a82c-815f2694dfbd .axis .guide.line{stroke-dasharray:4,4}#chart-f0fe4e23-e52b-4f5c-a82c-815f2694dfbd .axis .major.guide.line{stroke-dasharray:6,6}#chart-f0fe4e23-e52b-4f5c-a82c-815f2694dfbd .horizontal .axis.y .guide.line,#chart-f0fe4e23-e52b-4f5c-a82c-815f2694dfbd .horizontal .axis.y2 .guide.line,#chart-f0fe4e23-e52b-4f5c-a82c-815f2694dfbd .vertical .axis.x .guide.line{opacity:0}#chart-f0fe4e23-e52b-4f5c-a82c-815f2694dfbd .horizontal .axis.always_show .guide.line,#chart-f0fe4e23-e52b-4f5c-a82c-815f2694dfbd .vertical .axis.always_show .guide.line{opacity:1 !important}#chart-f0fe4e23-e52b-4f5c-a82c-815f2694dfbd .axis.y .guides:hover .guide.line,#chart-f0fe4e23-e52b-4f5c-a82c-815f2694dfbd .axis.y2 .guides:hover .guide.line,#chart-f0fe4e23-e52b-4f5c-a82c-815f2694dfbd .axis.x .guides:hover .guide.line{opacity:1}#chart-f0fe4e23-e52b-4f5c-a82c-815f2694dfbd .axis .guides:hover text{opacity:1}#chart-f0fe4e23-e52b-4f5c-a82c-815f2694dfbd .nofill{fill:none}#chart-f0fe4e23-e52b-4f5c-a82c-815f2694dfbd .subtle-fill{fill-opacity:.2}#chart-f0fe4e23-e52b-4f5c-a82c-815f2694dfbd .dot{stroke-width:1px;fill-opacity:1}#chart-f0fe4e23-e52b-4f5c-a82c-815f2694dfbd .dot.active{stroke-width:5px}#chart-f0fe4e23-e52b-4f5c-a82c-815f2694dfbd .dot.negative{fill:transparent}#chart-f0fe4e23-e52b-4f5c-a82c-815f2694dfbd text,#chart-f0fe4e23-e52b-4f5c-a82c-815f2694dfbd tspan{stroke:none !important}#chart-f0fe4e23-e52b-4f5c-a82c-815f2694dfbd .series text.active{opacity:1}#chart-f0fe4e23-e52b-4f5c-a82c-815f2694dfbd .tooltip rect{fill-opacity:.95;stroke-width:.5}#chart-f0fe4e23-e52b-4f5c-a82c-815f2694dfbd .tooltip text{fill-opacity:1}#chart-f0fe4e23-e52b-4f5c-a82c-815f2694dfbd .showable{visibility:hidden}#chart-f0fe4e23-e52b-4f5c-a82c-815f2694dfbd .showable.shown{visibility:visible}#chart-f0fe4e23-e52b-4f5c-a82c-815f2694dfbd .gauge-background{fill:rgba(229,229,229,1);stroke:none}#chart-f0fe4e23-e52b-4f5c-a82c-815f2694dfbd .bg-lines{stroke:rgba(249,249,249,1);stroke-width:2px}</style><script type=\"text/javascript\">window.pygal = window.pygal || {};window.pygal.config = window.pygal.config || {};window.pygal.config['f0fe4e23-e52b-4f5c-a82c-815f2694dfbd'] = {\"allow_interruptions\": false, \"box_mode\": \"extremes\", \"classes\": [\"pygal-chart\"], \"css\": [\"file://style.css\", \"file://graph.css\"], \"defs\": [], \"disable_xml_declaration\": false, \"dots_size\": 2.5, \"dynamic_print_values\": false, \"explicit_size\": false, \"fill\": true, \"force_uri_protocol\": \"https\", \"formatter\": null, \"half_pie\": false, \"height\": 600, \"include_x_axis\": false, \"inner_radius\": 0, \"interpolate\": null, \"interpolation_parameters\": {}, \"interpolation_precision\": 250, \"inverse_y_axis\": false, \"js\": [\"//kozea.github.io/pygal.js/2.0.x/pygal-tooltips.min.js\"], \"legend_at_bottom\": false, \"legend_at_bottom_columns\": null, \"legend_box_size\": 12, \"logarithmic\": false, \"margin\": 20, \"margin_bottom\": null, \"margin_left\": null, \"margin_right\": null, \"margin_top\": null, \"max_scale\": 16, \"min_scale\": 4, \"missing_value_fill_truncation\": \"x\", \"no_data_text\": \"No data\", \"no_prefix\": false, \"order_min\": null, \"pretty_print\": false, \"print_labels\": false, \"print_values\": false, \"print_values_position\": \"center\", \"print_zeroes\": true, \"range\": null, \"rounded_bars\": null, \"secondary_range\": null, \"show_dots\": false, \"show_legend\": true, \"show_minor_x_labels\": true, \"show_minor_y_labels\": true, \"show_only_major_dots\": false, \"show_x_guides\": false, \"show_x_labels\": true, \"show_y_guides\": true, \"show_y_labels\": true, \"spacing\": 10, \"stack_from_top\": false, \"strict\": false, \"stroke\": true, \"stroke_style\": null, \"style\": {\"background\": \"rgba(249, 249, 249, 1)\", \"ci_colors\": [], \"colors\": [\"#F44336\", \"#3F51B5\", \"#009688\", \"#FFC107\", \"#FF5722\", \"#9C27B0\", \"#03A9F4\", \"#8BC34A\", \"#FF9800\", \"#E91E63\", \"#2196F3\", \"#4CAF50\", \"#FFEB3B\", \"#673AB7\", \"#00BCD4\", \"#CDDC39\", \"#9E9E9E\", \"#607D8B\"], \"font_family\": \"Consolas, \\\"Liberation Mono\\\", Menlo, Courier, monospace\", \"foreground\": \"rgba(0, 0, 0, .87)\", \"foreground_strong\": \"rgba(0, 0, 0, 1)\", \"foreground_subtle\": \"rgba(0, 0, 0, .54)\", \"guide_stroke_dasharray\": \"4,4\", \"label_font_family\": \"Consolas, \\\"Liberation Mono\\\", Menlo, Courier, monospace\", \"label_font_size\": 10, \"legend_font_family\": \"Consolas, \\\"Liberation Mono\\\", Menlo, Courier, monospace\", \"legend_font_size\": 14, \"major_guide_stroke_dasharray\": \"6,6\", \"major_label_font_family\": \"Consolas, \\\"Liberation Mono\\\", Menlo, Courier, monospace\", \"major_label_font_size\": 10, \"no_data_font_family\": \"Consolas, \\\"Liberation Mono\\\", Menlo, Courier, monospace\", \"no_data_font_size\": 64, \"opacity\": \".7\", \"opacity_hover\": \".8\", \"plot_background\": \"rgba(255, 255, 255, 1)\", \"stroke_opacity\": \".8\", \"stroke_opacity_hover\": \".9\", \"title_font_family\": \"Consolas, \\\"Liberation Mono\\\", Menlo, Courier, monospace\", \"title_font_size\": 16, \"tooltip_font_family\": \"Consolas, \\\"Liberation Mono\\\", Menlo, Courier, monospace\", \"tooltip_font_size\": 14, \"transition\": \"150ms\", \"value_background\": \"rgba(229, 229, 229, 1)\", \"value_colors\": [], \"value_font_family\": \"Consolas, \\\"Liberation Mono\\\", Menlo, Courier, monospace\", \"value_font_size\": 16, \"value_label_font_family\": \"Consolas, \\\"Liberation Mono\\\", Menlo, Courier, monospace\", \"value_label_font_size\": 10}, \"title\": \"Topics\", \"tooltip_border_radius\": 0, \"tooltip_fancy_mode\": true, \"truncate_label\": null, \"truncate_legend\": null, \"width\": 800, \"x_label_rotation\": 0, \"x_labels\": null, \"x_labels_major\": null, \"x_labels_major_count\": null, \"x_labels_major_every\": null, \"x_title\": null, \"xrange\": null, \"y_label_rotation\": 0, \"y_labels\": null, \"y_labels_major\": null, \"y_labels_major_count\": null, \"y_labels_major_every\": null, \"y_title\": null, \"zero\": 0, \"legends\": [\"topic_0\", \"topic_1\", \"topic_2\", \"topic_3\", \"topic_4\", \"topic_5\", \"topic_6\", \"topic_7\", \"topic_8\", \"topic_9\", \"topic_10\", \"topic_11\", \"topic_12\", \"topic_13\", \"topic_14\", \"topic_15\", \"topic_16\", \"topic_17\", \"topic_18\", \"topic_19\"]}</script><script type=\"text/javascript\" xlink:href=\"https://kozea.github.io/pygal.js/2.0.x/pygal-tooltips.min.js\"/></defs><title>Topics</title><g class=\"graph stackedline-graph vertical\"><rect class=\"background\" height=\"600\" width=\"800\" x=\"0\" y=\"0\"/><g class=\"plot\" transform=\"translate(143, 46)\"><rect class=\"background\" height=\"534\" width=\"636.8\" x=\"0\" y=\"0\"/><g class=\"axis y always_show\"><path class=\"line\" d=\"M0.000000 534.000000 h636.800000\"/><g class=\"guides\"><path class=\"guide line\" d=\"M0.000000 474.626600 h636.800000\"/><text class=\"\" x=\"-5\" y=\"478.12659954889295\">100</text><title>100</title></g><g class=\"guides\"><path class=\"guide line\" d=\"M0.000000 424.317025 h636.800000\"/><text class=\"\" x=\"-5\" y=\"427.8170253496309\">200</text><title>200</title></g><g class=\"guides\"><path class=\"guide line\" d=\"M0.000000 374.007451 h636.800000\"/><text class=\"\" x=\"-5\" y=\"377.50745115036887\">300</text><title>300</title></g><g class=\"guides\"><path class=\"guide line\" d=\"M0.000000 323.697877 h636.800000\"/><text class=\"\" x=\"-5\" y=\"327.1978769511069\">400</text><title>400</title></g><g class=\"guides\"><path class=\"major guide line\" d=\"M0.000000 273.388303 h636.800000\"/><text class=\"major\" x=\"-5\" y=\"276.88830275184483\">500</text><title>500</title></g><g class=\"guides\"><path class=\"guide line\" d=\"M0.000000 223.078729 h636.800000\"/><text class=\"\" x=\"-5\" y=\"226.5787285525828\">600</text><title>600</title></g><g class=\"guides\"><path class=\"guide line\" d=\"M0.000000 172.769154 h636.800000\"/><text class=\"\" x=\"-5\" y=\"176.2691543533208\">700</text><title>700</title></g><g class=\"guides\"><path class=\"guide line\" d=\"M0.000000 122.459580 h636.800000\"/><text class=\"\" x=\"-5\" y=\"125.95958015405876\">800</text><title>800</title></g><g class=\"guides\"><path class=\"guide line\" d=\"M0.000000 72.150006 h636.800000\"/><text class=\"\" x=\"-5\" y=\"75.65000595479677\">900</text><title>900</title></g><g class=\"guides\"><path class=\"major guide line\" d=\"M0.000000 21.840432 h636.800000\"/><text class=\"major\" x=\"-5\" y=\"25.34043175553461\">1000</text><title>1000</title></g></g><g class=\"series serie-0 color-0\"><path class=\"line reactive\" d=\"M12.246154 524.936174 L12.246154 522.042955 16.920258 510.930344 21.594363 515.573700 26.268467 517.904020 30.942572 518.131351 35.616676 514.752330 40.290781 510.336213 44.964885 512.652770 49.638990 511.553783 54.313095 511.686931 58.987199 509.195189 63.661304 484.940481 68.335408 507.870413 73.009513 514.553415 77.683617 512.236256 82.357722 518.341511 87.031826 517.236493 91.705931 519.228110 96.380035 518.242426 101.054140 519.487583 105.728244 519.114291 110.402349 517.173929 115.076453 519.514648 119.750558 517.546286 124.424662 521.074836 129.098767 519.589575 133.772871 517.471102 138.446976 519.380979 143.121080 515.991250 147.795185 518.871005 152.469289 519.276762 157.143394 518.759919 161.817499 518.856628 166.491603 522.725775 171.165708 522.022381 175.839812 521.982675 180.513917 523.323078 185.188021 522.542565 189.862126 521.692856 194.536230 521.880026 199.210335 518.942141 203.884439 519.935760 208.558544 521.800900 213.232648 518.332618 217.906753 520.546630 222.580857 518.797000 227.254962 521.139366 231.929066 521.855192 236.603171 519.856214 241.277275 521.235632 245.951380 522.016669 250.625484 523.010020 255.299589 522.535374 259.973693 523.340620 264.647798 523.730769 269.321903 522.372671 273.996007 521.935301 278.670112 522.605130 283.344216 521.980971 288.018321 521.971010 292.692425 521.380465 297.366530 521.334309 302.040634 521.681712 306.714739 523.190589 311.388843 523.313263 316.062948 522.433884 320.737052 521.983127 325.411157 522.069121 330.085261 520.890164 334.759366 518.130272 339.433470 517.367908 344.107575 521.055172 348.781679 515.942124 353.455784 500.736619 358.129888 505.290779 362.803993 512.272152 367.478097 512.079738 372.152202 507.591672 376.826307 510.446063 381.500411 511.850623 386.174516 511.167760 390.848620 511.241135 395.522725 496.690375 400.196829 507.922677 404.870934 499.081723 409.545038 498.567600 414.219143 497.905920 418.893247 508.620370 423.567352 489.924484 428.241456 502.139441 432.915561 504.419299 437.589665 503.854531 442.263770 513.875830 446.937874 511.283165 451.611979 509.673358 456.286083 513.725859 460.960188 513.387548 465.634292 516.418695 470.308397 510.462219 474.982501 516.114424 479.656606 512.206153 484.330711 510.666717 489.004815 513.941551 493.678920 517.270662 498.353024 516.757444 503.027129 519.746438 507.701233 516.946063 512.375338 518.859551 517.049442 512.554376 521.723547 503.587384 526.397651 515.506085 531.071756 518.967795 535.745860 515.343743 540.419965 520.422142 545.094069 518.806032 549.768174 520.664983 554.442278 520.451378 559.116383 521.322925 563.790487 520.706408 568.464592 519.449494 573.138696 520.445470 577.812801 520.056744 582.486905 518.672180 587.161010 517.879681 591.835115 519.168827 596.509219 515.878029 601.183324 519.114608 605.857428 520.479695 610.531533 519.739778 615.205637 518.333412 619.879742 519.483472 624.553846 522.029474 624.553846 524.936174\"/></g><g class=\"series serie-1 color-1\"><path class=\"line reactive\" d=\"M12.246154 520.519520 L16.920258 503.531926 21.594363 508.685142 26.268467 510.369208 30.942572 511.637098 35.616676 508.357704 40.290781 500.823058 44.964885 507.883016 49.638990 505.893640 54.313095 504.094372 58.987199 505.706762 63.661304 478.533347 68.335408 503.857483 73.009513 505.911644 77.683617 477.782316 82.357722 501.751500 87.031826 509.939570 91.705931 513.666464 96.380035 515.248932 101.054140 515.945080 105.728244 515.318747 110.402349 512.193946 115.076453 516.548753 119.750558 510.639118 124.424662 512.953452 129.098767 516.048016 133.772871 494.775906 138.446976 508.165729 143.121080 506.099128 147.795185 515.330319 152.469289 513.244461 157.143394 512.987358 161.817499 513.176890 166.491603 519.293768 171.165708 504.501624 175.839812 513.753692 180.513917 519.618382 185.188021 520.214668 189.862126 518.879793 194.536230 509.731823 199.210335 513.004210 203.884439 513.782408 208.558544 510.062285 213.232648 515.680692 217.906753 516.703853 222.580857 514.887888 227.254962 512.293634 231.929066 516.678915 236.603171 516.789327 241.277275 516.844036 245.951380 519.271190 250.625484 519.043696 255.299589 517.349055 259.973693 519.637398 264.647798 519.366032 269.321903 520.564220 273.996007 517.723886 278.670112 519.144610 283.344216 520.350653 288.018321 519.931655 292.692425 518.667457 297.366530 519.095284 302.040634 519.262314 306.714739 518.497850 311.388843 521.326079 316.062948 521.090519 320.737052 520.364912 325.411157 520.197039 330.085261 517.947634 334.759366 497.629963 339.433470 461.610781 344.107575 470.219633 348.781679 438.101400 353.455784 476.375340 358.129888 454.531772 362.803993 475.288647 367.478097 501.915782 372.152202 500.912187 376.826307 500.137840 381.500411 504.053423 386.174516 504.779004 390.848620 505.376994 395.522725 491.163071 400.196829 499.657830 404.870934 483.905816 409.545038 491.259987 414.219143 489.173939 418.893247 496.981731 423.567352 475.888284 428.241456 491.213067 432.915561 491.748638 437.589665 488.338641 442.263770 505.560961 446.937874 506.107123 451.611979 506.461136 456.286083 507.764334 460.960188 507.904304 465.634292 511.441429 470.308397 505.103217 474.982501 507.214449 479.656606 508.431038 484.330711 498.502861 489.004815 507.961266 493.678920 510.075812 498.353024 512.737493 503.027129 514.492563 507.701233 514.225261 512.375338 517.246977 517.049442 506.944886 521.723547 490.832446 526.397651 510.804412 531.071756 505.971113 535.745860 511.445335 540.419965 517.143395 545.094069 516.197565 549.768174 515.360144 554.442278 510.443066 559.116383 516.490110 563.790487 509.464939 568.464592 517.828265 573.138696 514.176736 577.812801 515.320663 582.486905 509.065604 587.161010 508.089816 591.835115 512.812545 596.509219 513.279257 601.183324 516.714461 605.857428 517.996667 610.531533 516.705104 615.205637 515.020747 619.879742 517.749932 624.553846 520.768494 624.553846 522.029474 619.879742 519.483472 615.205637 518.333412 610.531533 519.739778 605.857428 520.479695 601.183324 519.114608 596.509219 515.878029 591.835115 519.168827 587.161010 517.879681 582.486905 518.672180 577.812801 520.056744 573.138696 520.445470 568.464592 519.449494 563.790487 520.706408 559.116383 521.322925 554.442278 520.451378 549.768174 520.664983 545.094069 518.806032 540.419965 520.422142 535.745860 515.343743 531.071756 518.967795 526.397651 515.506085 521.723547 503.587384 517.049442 512.554376 512.375338 518.859551 507.701233 516.946063 503.027129 519.746438 498.353024 516.757444 493.678920 517.270662 489.004815 513.941551 484.330711 510.666717 479.656606 512.206153 474.982501 516.114424 470.308397 510.462219 465.634292 516.418695 460.960188 513.387548 456.286083 513.725859 451.611979 509.673358 446.937874 511.283165 442.263770 513.875830 437.589665 503.854531 432.915561 504.419299 428.241456 502.139441 423.567352 489.924484 418.893247 508.620370 414.219143 497.905920 409.545038 498.567600 404.870934 499.081723 400.196829 507.922677 395.522725 496.690375 390.848620 511.241135 386.174516 511.167760 381.500411 511.850623 376.826307 510.446063 372.152202 507.591672 367.478097 512.079738 362.803993 512.272152 358.129888 505.290779 353.455784 500.736619 348.781679 515.942124 344.107575 521.055172 339.433470 517.367908 334.759366 518.130272 330.085261 520.890164 325.411157 522.069121 320.737052 521.983127 316.062948 522.433884 311.388843 523.313263 306.714739 523.190589 302.040634 521.681712 297.366530 521.334309 292.692425 521.380465 288.018321 521.971010 283.344216 521.980971 278.670112 522.605130 273.996007 521.935301 269.321903 522.372671 264.647798 523.730769 259.973693 523.340620 255.299589 522.535374 250.625484 523.010020 245.951380 522.016669 241.277275 521.235632 236.603171 519.856214 231.929066 521.855192 227.254962 521.139366 222.580857 518.797000 217.906753 520.546630 213.232648 518.332618 208.558544 521.800900 203.884439 519.935760 199.210335 518.942141 194.536230 521.880026 189.862126 521.692856 185.188021 522.542565 180.513917 523.323078 175.839812 521.982675 171.165708 522.022381 166.491603 522.725775 161.817499 518.856628 157.143394 518.759919 152.469289 519.276762 147.795185 518.871005 143.121080 515.991250 138.446976 519.380979 133.772871 517.471102 129.098767 519.589575 124.424662 521.074836 119.750558 517.546286 115.076453 519.514648 110.402349 517.173929 105.728244 519.114291 101.054140 519.487583 96.380035 518.242426 91.705931 519.228110 87.031826 517.236493 82.357722 518.341511 77.683617 512.236256 73.009513 514.553415 68.335408 507.870413 63.661304 484.940481 58.987199 509.195189 54.313095 511.686931 49.638990 511.553783 44.964885 512.652770 40.290781 510.336213 35.616676 514.752330 30.942572 518.131351 26.268467 517.904020 21.594363 515.573700 16.920258 510.930344 12.246154 522.042955\"/></g><g class=\"series serie-2 color-2\"><path class=\"line reactive\" d=\"M12.246154 520.335262 L16.920258 500.803196 21.594363 507.646177 26.268467 509.219688 30.942572 510.108068 35.616676 505.198593 40.290781 486.037144 44.964885 506.163403 49.638990 502.987499 54.313095 502.587197 58.987199 503.926126 63.661304 475.846532 68.335408 502.911031 73.009513 505.122839 77.683617 476.231926 82.357722 500.643365 87.031826 509.217987 91.705931 512.228441 96.380035 513.743215 101.054140 515.503161 105.728244 513.932077 110.402349 510.643849 115.076453 515.925962 119.750558 509.183089 124.424662 512.578273 129.098767 515.103810 133.772871 493.985363 138.446976 507.398830 143.121080 505.178732 147.795185 514.909265 152.469289 512.261451 157.143394 511.787679 161.817499 512.476890 166.491603 519.135304 171.165708 503.900365 175.839812 513.416738 180.513917 519.342195 185.188021 519.958417 189.862126 518.482647 194.536230 509.399409 199.210335 512.322865 203.884439 512.237607 208.558544 509.767182 213.232648 515.567011 217.906753 516.241566 222.580857 514.503398 227.254962 511.867393 231.929066 516.194129 236.603171 516.445248 241.277275 516.590732 245.951380 519.016218 250.625484 518.853909 255.299589 517.311132 259.973693 519.213028 264.647798 519.089183 269.321903 520.067983 273.996007 517.424788 278.670112 518.830665 283.344216 520.200614 288.018321 519.805331 292.692425 518.268865 297.366530 518.757335 302.040634 519.160270 306.714739 518.344963 311.388843 521.122754 316.062948 521.001604 320.737052 519.968876 325.411157 520.116472 330.085261 517.754254 334.759366 497.121137 339.433470 461.034558 344.107575 469.130394 348.781679 435.761822 353.455784 474.700550 358.129888 451.366206 362.803993 468.596813 367.478097 487.379244 372.152202 485.884972 376.826307 488.442324 381.500411 484.131673 386.174516 492.906291 390.848620 492.996246 395.522725 470.578029 400.196829 464.664825 404.870934 410.050791 409.545038 460.089992 414.219143 449.371551 418.893247 458.555210 423.567352 430.860248 428.241456 456.550848 432.915561 461.716426 437.589665 464.862896 442.263770 478.740759 446.937874 487.926249 451.611979 492.152992 456.286083 490.645889 460.960188 496.800876 465.634292 497.918523 470.308397 414.910217 474.982501 468.588412 479.656606 480.235081 484.330711 475.228275 489.004815 480.926006 493.678920 494.050282 498.353024 490.484210 503.027129 503.498169 507.701233 497.683207 512.375338 500.342849 517.049442 482.893820 521.723547 480.194575 526.397651 502.860412 531.071756 500.622217 535.745860 503.995723 540.419965 507.649364 545.094069 508.001089 549.768174 509.915002 554.442278 507.532231 559.116383 507.793923 563.790487 501.291899 568.464592 511.394252 573.138696 511.624059 577.812801 509.892941 582.486905 506.482140 587.161010 505.869400 591.835115 510.337505 596.509219 512.007184 601.183324 512.715883 605.857428 516.089196 610.531533 514.978272 615.205637 510.873222 619.879742 512.181532 624.553846 519.662362 624.553846 520.768494 619.879742 517.749932 615.205637 515.020747 610.531533 516.705104 605.857428 517.996667 601.183324 516.714461 596.509219 513.279257 591.835115 512.812545 587.161010 508.089816 582.486905 509.065604 577.812801 515.320663 573.138696 514.176736 568.464592 517.828265 563.790487 509.464939 559.116383 516.490110 554.442278 510.443066 549.768174 515.360144 545.094069 516.197565 540.419965 517.143395 535.745860 511.445335 531.071756 505.971113 526.397651 510.804412 521.723547 490.832446 517.049442 506.944886 512.375338 517.246977 507.701233 514.225261 503.027129 514.492563 498.353024 512.737493 493.678920 510.075812 489.004815 507.961266 484.330711 498.502861 479.656606 508.431038 474.982501 507.214449 470.308397 505.103217 465.634292 511.441429 460.960188 507.904304 456.286083 507.764334 451.611979 506.461136 446.937874 506.107123 442.263770 505.560961 437.589665 488.338641 432.915561 491.748638 428.241456 491.213067 423.567352 475.888284 418.893247 496.981731 414.219143 489.173939 409.545038 491.259987 404.870934 483.905816 400.196829 499.657830 395.522725 491.163071 390.848620 505.376994 386.174516 504.779004 381.500411 504.053423 376.826307 500.137840 372.152202 500.912187 367.478097 501.915782 362.803993 475.288647 358.129888 454.531772 353.455784 476.375340 348.781679 438.101400 344.107575 470.219633 339.433470 461.610781 334.759366 497.629963 330.085261 517.947634 325.411157 520.197039 320.737052 520.364912 316.062948 521.090519 311.388843 521.326079 306.714739 518.497850 302.040634 519.262314 297.366530 519.095284 292.692425 518.667457 288.018321 519.931655 283.344216 520.350653 278.670112 519.144610 273.996007 517.723886 269.321903 520.564220 264.647798 519.366032 259.973693 519.637398 255.299589 517.349055 250.625484 519.043696 245.951380 519.271190 241.277275 516.844036 236.603171 516.789327 231.929066 516.678915 227.254962 512.293634 222.580857 514.887888 217.906753 516.703853 213.232648 515.680692 208.558544 510.062285 203.884439 513.782408 199.210335 513.004210 194.536230 509.731823 189.862126 518.879793 185.188021 520.214668 180.513917 519.618382 175.839812 513.753692 171.165708 504.501624 166.491603 519.293768 161.817499 513.176890 157.143394 512.987358 152.469289 513.244461 147.795185 515.330319 143.121080 506.099128 138.446976 508.165729 133.772871 494.775906 129.098767 516.048016 124.424662 512.953452 119.750558 510.639118 115.076453 516.548753 110.402349 512.193946 105.728244 515.318747 101.054140 515.945080 96.380035 515.248932 91.705931 513.666464 87.031826 509.939570 82.357722 501.751500 77.683617 477.782316 73.009513 505.911644 68.335408 503.857483 63.661304 478.533347 58.987199 505.706762 54.313095 504.094372 49.638990 505.893640 44.964885 507.883016 40.290781 500.823058 35.616676 508.357704 30.942572 511.637098 26.268467 510.369208 21.594363 508.685142 16.920258 503.531926 12.246154 520.519520\"/></g><g class=\"series serie-3 color-3\"><path class=\"line reactive\" d=\"M12.246154 519.488931 L16.920258 495.512103 21.594363 497.623445 26.268467 493.382425 30.942572 500.807485 35.616676 490.463120 40.290781 434.618780 44.964885 488.836276 49.638990 487.261846 54.313095 491.725621 58.987199 495.280742 63.661304 468.541704 68.335408 487.382854 73.009513 498.029302 77.683617 462.812987 82.357722 486.786109 87.031826 502.371051 91.705931 504.629063 96.380035 505.358283 101.054140 506.468559 105.728244 507.639533 110.402349 506.395191 115.076453 512.705813 119.750558 505.011143 124.424662 509.330050 129.098767 511.525843 133.772871 486.488065 138.446976 504.245086 143.121080 501.521016 147.795185 510.027476 152.469289 506.815942 157.143394 509.336690 161.817499 508.893472 166.491603 517.046218 171.165708 502.154589 175.839812 511.497400 180.513917 517.738178 185.188021 519.100455 189.862126 516.756423 194.536230 507.751017 199.210335 510.695819 203.884439 510.343245 208.558544 508.032184 213.232648 513.049107 217.906753 514.891092 222.580857 513.285146 227.254962 509.792015 231.929066 513.752132 236.603171 514.195007 241.277275 513.293911 245.951380 517.536852 250.625484 518.049858 255.299589 516.307715 259.973693 516.356732 264.647798 516.883731 269.321903 518.093439 273.996007 516.508841 278.670112 518.061888 283.344216 519.361564 288.018321 518.374900 292.692425 517.047437 297.366530 517.930963 302.040634 516.999518 306.714739 516.250518 311.388843 519.653763 316.062948 518.775552 320.737052 518.843291 325.411157 517.963034 330.085261 516.249818 334.759366 494.986061 339.433470 458.136877 344.107575 466.400619 348.781679 421.319059 353.455784 432.178404 358.129888 430.027583 362.803993 458.326576 367.478097 478.221428 372.152202 472.347308 376.826307 477.158776 381.500411 473.862161 386.174516 482.596558 390.848620 485.932685 395.522725 458.634864 400.196829 452.703602 404.870934 390.324947 409.545038 441.552961 414.219143 434.519304 418.893247 446.577867 423.567352 415.527588 428.241456 441.237730 432.915561 450.860508 437.589665 450.202445 442.263770 468.539922 446.937874 479.428107 451.611979 483.507925 456.286083 485.269967 460.960188 491.888092 465.634292 492.617164 470.308397 404.316833 474.982501 458.802868 479.656606 468.879045 484.330711 465.922213 489.004815 471.973717 493.678920 486.652304 498.353024 484.115961 503.027129 495.957026 507.701233 487.573808 512.375338 494.708437 517.049442 472.936256 521.723547 468.973466 526.397651 497.255759 531.071756 492.983234 535.745860 498.321884 540.419965 498.796909 545.094069 500.102109 549.768174 498.203733 554.442278 498.591364 559.116383 502.630862 563.790487 494.850443 568.464592 505.076903 573.138696 505.223090 577.812801 504.558344 582.486905 499.525750 587.161010 499.056708 591.835115 506.395504 596.509219 506.776990 601.183324 506.805235 605.857428 507.820512 610.531533 505.686143 615.205637 481.159306 619.879742 489.620279 624.553846 516.319232 624.553846 519.662362 619.879742 512.181532 615.205637 510.873222 610.531533 514.978272 605.857428 516.089196 601.183324 512.715883 596.509219 512.007184 591.835115 510.337505 587.161010 505.869400 582.486905 506.482140 577.812801 509.892941 573.138696 511.624059 568.464592 511.394252 563.790487 501.291899 559.116383 507.793923 554.442278 507.532231 549.768174 509.915002 545.094069 508.001089 540.419965 507.649364 535.745860 503.995723 531.071756 500.622217 526.397651 502.860412 521.723547 480.194575 517.049442 482.893820 512.375338 500.342849 507.701233 497.683207 503.027129 503.498169 498.353024 490.484210 493.678920 494.050282 489.004815 480.926006 484.330711 475.228275 479.656606 480.235081 474.982501 468.588412 470.308397 414.910217 465.634292 497.918523 460.960188 496.800876 456.286083 490.645889 451.611979 492.152992 446.937874 487.926249 442.263770 478.740759 437.589665 464.862896 432.915561 461.716426 428.241456 456.550848 423.567352 430.860248 418.893247 458.555210 414.219143 449.371551 409.545038 460.089992 404.870934 410.050791 400.196829 464.664825 395.522725 470.578029 390.848620 492.996246 386.174516 492.906291 381.500411 484.131673 376.826307 488.442324 372.152202 485.884972 367.478097 487.379244 362.803993 468.596813 358.129888 451.366206 353.455784 474.700550 348.781679 435.761822 344.107575 469.130394 339.433470 461.034558 334.759366 497.121137 330.085261 517.754254 325.411157 520.116472 320.737052 519.968876 316.062948 521.001604 311.388843 521.122754 306.714739 518.344963 302.040634 519.160270 297.366530 518.757335 292.692425 518.268865 288.018321 519.805331 283.344216 520.200614 278.670112 518.830665 273.996007 517.424788 269.321903 520.067983 264.647798 519.089183 259.973693 519.213028 255.299589 517.311132 250.625484 518.853909 245.951380 519.016218 241.277275 516.590732 236.603171 516.445248 231.929066 516.194129 227.254962 511.867393 222.580857 514.503398 217.906753 516.241566 213.232648 515.567011 208.558544 509.767182 203.884439 512.237607 199.210335 512.322865 194.536230 509.399409 189.862126 518.482647 185.188021 519.958417 180.513917 519.342195 175.839812 513.416738 171.165708 503.900365 166.491603 519.135304 161.817499 512.476890 157.143394 511.787679 152.469289 512.261451 147.795185 514.909265 143.121080 505.178732 138.446976 507.398830 133.772871 493.985363 129.098767 515.103810 124.424662 512.578273 119.750558 509.183089 115.076453 515.925962 110.402349 510.643849 105.728244 513.932077 101.054140 515.503161 96.380035 513.743215 91.705931 512.228441 87.031826 509.217987 82.357722 500.643365 77.683617 476.231926 73.009513 505.122839 68.335408 502.911031 63.661304 475.846532 58.987199 503.926126 54.313095 502.587197 49.638990 502.987499 44.964885 506.163403 40.290781 486.037144 35.616676 505.198593 30.942572 510.108068 26.268467 509.219688 21.594363 507.646177 16.920258 500.803196 12.246154 520.335262\"/></g><g class=\"series serie-4 color-4\"><path class=\"line reactive\" d=\"M12.246154 518.601231 L16.920258 489.927057 21.594363 494.018514 26.268467 487.875919 30.942572 498.105832 35.616676 485.604534 40.290781 418.925162 44.964885 477.837830 49.638990 473.201293 54.313095 487.828729 58.987199 489.727447 63.661304 463.527677 68.335408 477.411392 73.009513 491.324875 77.683617 455.385855 82.357722 479.461393 87.031826 493.976786 91.705931 495.193319 96.380035 501.835021 101.054140 502.935279 105.728244 503.274103 110.402349 502.610775 115.076453 510.658619 119.750558 498.039126 124.424662 506.234882 129.098767 509.463693 133.772871 428.384441 138.446976 480.582315 143.121080 442.751602 147.795185 497.048432 152.469289 500.900858 157.143394 505.097081 161.817499 499.690441 166.491603 513.838721 171.165708 498.647904 175.839812 508.848567 180.513917 517.243128 185.188021 518.215277 189.862126 514.907327 194.536230 506.190302 199.210335 508.345887 203.884439 508.993790 208.558544 505.636893 213.232648 511.261247 217.906753 510.774777 222.580857 510.861423 227.254962 504.532016 231.929066 511.513152 236.603171 511.492925 241.277275 509.302337 245.951380 516.169461 250.625484 516.700803 255.299589 514.107398 259.973693 514.664164 264.647798 515.476712 269.321903 515.166998 273.996007 513.034332 278.670112 517.162274 283.344216 518.436870 288.018321 517.859460 292.692425 516.060354 297.366530 517.353865 302.040634 515.426182 306.714739 512.804594 311.388843 517.387630 316.062948 517.862816 320.737052 518.113230 325.411157 517.146526 330.085261 511.439835 334.759366 491.855295 339.433470 456.920532 344.107575 464.347273 348.781679 416.278994 353.455784 424.039185 358.129888 424.609066 362.803993 452.025590 367.478097 474.456412 372.152202 468.488381 376.826307 469.542778 381.500411 470.716833 386.174516 477.636610 390.848620 480.628289 395.522725 454.211620 400.196829 447.233581 404.870934 382.699349 409.545038 435.819600 414.219143 429.352611 418.893247 442.081300 423.567352 412.218975 428.241456 434.999153 432.915561 446.935961 437.589665 444.739078 442.263770 461.803893 446.937874 476.693543 451.611979 479.712896 456.286083 482.272833 460.960188 490.087523 465.634292 490.056318 470.308397 397.260194 474.982501 455.058796 479.656606 463.209115 484.330711 461.869591 489.004815 467.219265 493.678920 482.025348 498.353024 480.295067 503.027129 493.707770 507.701233 483.777506 512.375338 489.182332 517.049442 467.707413 521.723547 466.521862 526.397651 493.359221 531.071756 491.360085 535.745860 496.056150 540.419965 496.047074 545.094069 497.682486 549.768174 495.920199 554.442278 495.345944 559.116383 501.137792 563.790487 492.940405 568.464592 503.756914 573.138696 502.595722 577.812801 502.982424 582.486905 495.976295 587.161010 496.641344 591.835115 505.027536 596.509219 502.761306 601.183324 504.969396 605.857428 506.666632 610.531533 503.965245 615.205637 479.304684 619.879742 487.526532 624.553846 515.147098 624.553846 516.319232 619.879742 489.620279 615.205637 481.159306 610.531533 505.686143 605.857428 507.820512 601.183324 506.805235 596.509219 506.776990 591.835115 506.395504 587.161010 499.056708 582.486905 499.525750 577.812801 504.558344 573.138696 505.223090 568.464592 505.076903 563.790487 494.850443 559.116383 502.630862 554.442278 498.591364 549.768174 498.203733 545.094069 500.102109 540.419965 498.796909 535.745860 498.321884 531.071756 492.983234 526.397651 497.255759 521.723547 468.973466 517.049442 472.936256 512.375338 494.708437 507.701233 487.573808 503.027129 495.957026 498.353024 484.115961 493.678920 486.652304 489.004815 471.973717 484.330711 465.922213 479.656606 468.879045 474.982501 458.802868 470.308397 404.316833 465.634292 492.617164 460.960188 491.888092 456.286083 485.269967 451.611979 483.507925 446.937874 479.428107 442.263770 468.539922 437.589665 450.202445 432.915561 450.860508 428.241456 441.237730 423.567352 415.527588 418.893247 446.577867 414.219143 434.519304 409.545038 441.552961 404.870934 390.324947 400.196829 452.703602 395.522725 458.634864 390.848620 485.932685 386.174516 482.596558 381.500411 473.862161 376.826307 477.158776 372.152202 472.347308 367.478097 478.221428 362.803993 458.326576 358.129888 430.027583 353.455784 432.178404 348.781679 421.319059 344.107575 466.400619 339.433470 458.136877 334.759366 494.986061 330.085261 516.249818 325.411157 517.963034 320.737052 518.843291 316.062948 518.775552 311.388843 519.653763 306.714739 516.250518 302.040634 516.999518 297.366530 517.930963 292.692425 517.047437 288.018321 518.374900 283.344216 519.361564 278.670112 518.061888 273.996007 516.508841 269.321903 518.093439 264.647798 516.883731 259.973693 516.356732 255.299589 516.307715 250.625484 518.049858 245.951380 517.536852 241.277275 513.293911 236.603171 514.195007 231.929066 513.752132 227.254962 509.792015 222.580857 513.285146 217.906753 514.891092 213.232648 513.049107 208.558544 508.032184 203.884439 510.343245 199.210335 510.695819 194.536230 507.751017 189.862126 516.756423 185.188021 519.100455 180.513917 517.738178 175.839812 511.497400 171.165708 502.154589 166.491603 517.046218 161.817499 508.893472 157.143394 509.336690 152.469289 506.815942 147.795185 510.027476 143.121080 501.521016 138.446976 504.245086 133.772871 486.488065 129.098767 511.525843 124.424662 509.330050 119.750558 505.011143 115.076453 512.705813 110.402349 506.395191 105.728244 507.639533 101.054140 506.468559 96.380035 505.358283 91.705931 504.629063 87.031826 502.371051 82.357722 486.786109 77.683617 462.812987 73.009513 498.029302 68.335408 487.382854 63.661304 468.541704 58.987199 495.280742 54.313095 491.725621 49.638990 487.261846 44.964885 488.836276 40.290781 434.618780 35.616676 490.463120 30.942572 500.807485 26.268467 493.382425 21.594363 497.623445 16.920258 495.512103 12.246154 519.488931\"/></g><g class=\"series serie-5 color-5\"><path class=\"line reactive\" d=\"M12.246154 513.954064 L16.920258 482.510108 21.594363 483.537921 26.268467 472.931435 30.942572 489.930219 35.616676 475.486323 40.290781 385.279628 44.964885 466.962801 49.638990 463.034869 54.313095 480.094566 58.987199 483.637294 63.661304 455.824100 68.335408 470.954463 73.009513 484.766476 77.683617 447.748392 82.357722 466.893614 87.031826 489.141564 91.705931 491.257270 96.380035 497.807372 101.054140 496.919600 105.728244 498.976777 110.402349 499.063162 115.076453 506.579032 119.750558 495.983710 124.424662 504.019098 129.098767 507.194516 133.772871 426.017482 138.446976 478.765836 143.121080 441.367772 147.795185 495.395385 152.469289 498.484067 157.143394 503.084469 161.817499 497.193085 166.491603 512.599958 171.165708 497.899887 175.839812 507.755981 180.513917 516.940651 185.188021 517.430764 189.862126 514.119112 194.536230 501.184489 199.210335 506.242723 203.884439 507.355394 208.558544 503.761360 213.232648 510.552757 217.906753 509.663081 222.580857 509.714034 227.254962 502.662847 231.929066 510.616165 236.603171 509.474369 241.277275 507.793615 245.951380 514.898229 250.625484 512.989018 255.299589 513.594199 259.973693 514.125276 264.647798 514.170126 269.321903 513.640185 273.996007 511.693886 278.670112 516.199441 283.344216 517.466050 288.018321 517.300959 292.692425 512.805402 297.366530 516.896979 302.040634 513.851795 306.714739 512.026914 311.388843 516.460954 316.062948 517.320702 320.737052 517.449294 325.411157 515.383562 330.085261 510.484739 334.759366 490.810290 339.433470 455.831639 344.107575 463.297671 348.781679 414.669821 353.455784 421.943264 358.129888 421.602346 362.803993 446.774447 367.478097 470.504647 372.152202 467.706014 376.826307 467.156500 381.500411 469.959270 386.174516 476.869569 390.848620 478.601146 395.522725 453.399239 400.196829 441.218546 404.870934 380.982931 409.545038 432.897660 414.219143 425.894497 418.893247 439.269736 423.567352 404.210825 428.241456 428.099591 432.915561 444.657367 437.589665 442.325301 442.263770 460.900439 446.937874 475.834480 451.611979 477.065152 456.286083 481.295738 460.960188 489.145075 465.634292 489.274668 470.308397 390.568352 474.982501 452.363371 479.656606 461.174109 484.330711 423.538161 489.004815 456.419787 493.678920 479.440639 498.353024 479.082215 503.027129 492.450775 507.701233 481.100534 512.375338 488.594018 517.049442 466.584240 521.723547 465.461680 526.397651 490.436075 531.071756 490.445198 535.745860 494.943188 540.419965 494.179735 545.094069 495.173290 549.768174 495.015957 554.442278 494.419108 559.116383 500.021250 563.790487 491.989966 568.464592 503.543862 573.138696 502.135567 577.812801 502.271147 582.486905 465.589045 587.161010 482.381801 591.835115 500.666432 596.509219 498.907323 601.183324 501.166977 605.857428 503.806175 610.531533 497.535318 615.205637 475.859188 619.879742 484.002319 624.553846 513.976353 624.553846 515.147098 619.879742 487.526532 615.205637 479.304684 610.531533 503.965245 605.857428 506.666632 601.183324 504.969396 596.509219 502.761306 591.835115 505.027536 587.161010 496.641344 582.486905 495.976295 577.812801 502.982424 573.138696 502.595722 568.464592 503.756914 563.790487 492.940405 559.116383 501.137792 554.442278 495.345944 549.768174 495.920199 545.094069 497.682486 540.419965 496.047074 535.745860 496.056150 531.071756 491.360085 526.397651 493.359221 521.723547 466.521862 517.049442 467.707413 512.375338 489.182332 507.701233 483.777506 503.027129 493.707770 498.353024 480.295067 493.678920 482.025348 489.004815 467.219265 484.330711 461.869591 479.656606 463.209115 474.982501 455.058796 470.308397 397.260194 465.634292 490.056318 460.960188 490.087523 456.286083 482.272833 451.611979 479.712896 446.937874 476.693543 442.263770 461.803893 437.589665 444.739078 432.915561 446.935961 428.241456 434.999153 423.567352 412.218975 418.893247 442.081300 414.219143 429.352611 409.545038 435.819600 404.870934 382.699349 400.196829 447.233581 395.522725 454.211620 390.848620 480.628289 386.174516 477.636610 381.500411 470.716833 376.826307 469.542778 372.152202 468.488381 367.478097 474.456412 362.803993 452.025590 358.129888 424.609066 353.455784 424.039185 348.781679 416.278994 344.107575 464.347273 339.433470 456.920532 334.759366 491.855295 330.085261 511.439835 325.411157 517.146526 320.737052 518.113230 316.062948 517.862816 311.388843 517.387630 306.714739 512.804594 302.040634 515.426182 297.366530 517.353865 292.692425 516.060354 288.018321 517.859460 283.344216 518.436870 278.670112 517.162274 273.996007 513.034332 269.321903 515.166998 264.647798 515.476712 259.973693 514.664164 255.299589 514.107398 250.625484 516.700803 245.951380 516.169461 241.277275 509.302337 236.603171 511.492925 231.929066 511.513152 227.254962 504.532016 222.580857 510.861423 217.906753 510.774777 213.232648 511.261247 208.558544 505.636893 203.884439 508.993790 199.210335 508.345887 194.536230 506.190302 189.862126 514.907327 185.188021 518.215277 180.513917 517.243128 175.839812 508.848567 171.165708 498.647904 166.491603 513.838721 161.817499 499.690441 157.143394 505.097081 152.469289 500.900858 147.795185 497.048432 143.121080 442.751602 138.446976 480.582315 133.772871 428.384441 129.098767 509.463693 124.424662 506.234882 119.750558 498.039126 115.076453 510.658619 110.402349 502.610775 105.728244 503.274103 101.054140 502.935279 96.380035 501.835021 91.705931 495.193319 87.031826 493.976786 82.357722 479.461393 77.683617 455.385855 73.009513 491.324875 68.335408 477.411392 63.661304 463.527677 58.987199 489.727447 54.313095 487.828729 49.638990 473.201293 44.964885 477.837830 40.290781 418.925162 35.616676 485.604534 30.942572 498.105832 26.268467 487.875919 21.594363 494.018514 16.920258 489.927057 12.246154 518.601231\"/></g><g class=\"series serie-6 color-6\"><path class=\"line reactive\" d=\"M12.246154 513.373281 L16.920258 478.758276 21.594363 480.087756 26.268467 467.723160 30.942572 485.428817 35.616676 469.216702 40.290781 370.191669 44.964885 458.375558 49.638990 455.188260 54.313095 474.901680 58.987199 479.997083 63.661304 451.665012 68.335408 467.474346 73.009513 482.101565 77.683617 443.918596 82.357722 462.651862 87.031826 484.091393 91.705931 488.595699 96.380035 495.478974 101.054140 493.458908 105.728244 494.852047 110.402349 494.460557 115.076453 503.679674 119.750558 492.704471 124.424662 501.814380 129.098767 505.037495 133.772871 420.554140 138.446976 474.826387 143.121080 435.651967 147.795185 493.134598 152.469289 495.321866 157.143394 499.379400 161.817499 492.314305 166.491603 510.861568 171.165708 486.263254 175.839812 503.511972 180.513917 515.011152 185.188021 515.285339 189.862126 506.264353 194.536230 496.982627 199.210335 501.927451 203.884439 502.621875 208.558544 500.246172 213.232648 508.753005 217.906753 506.243437 222.580857 506.496772 227.254962 500.290243 231.929066 509.033949 236.603171 507.077300 241.277275 504.532996 245.951380 512.478833 250.625484 510.821495 255.299589 512.312295 259.973693 512.520893 264.647798 511.404033 269.321903 511.020361 273.996007 510.001243 278.670112 515.311259 283.344216 515.619838 288.018321 514.046290 292.692425 511.187144 297.366530 515.074557 302.040634 512.125328 306.714739 510.674659 311.388843 515.854641 316.062948 514.683864 320.737052 514.804194 325.411157 512.804706 330.085261 505.233377 334.759366 488.004034 339.433470 454.183084 344.107575 461.523091 348.781679 412.149485 353.455784 415.359230 358.129888 416.192829 362.803993 441.863837 367.478097 463.175955 372.152202 459.796266 376.826307 434.508061 381.500411 462.715831 386.174516 469.288010 390.848620 460.498086 395.522725 435.958223 400.196829 424.628308 404.870934 357.911280 409.545038 416.716753 414.219143 413.226894 418.893247 426.206890 423.567352 392.254053 428.241456 417.750123 432.915561 432.994107 437.589665 429.177769 442.263770 446.925485 446.937874 465.471052 451.611979 468.961362 456.286083 477.853320 460.960188 480.659962 465.634292 483.645972 470.308397 383.944477 474.982501 446.898711 479.656606 455.462201 484.330711 418.686601 489.004815 449.921392 493.678920 474.326220 498.353024 474.283993 503.027129 488.136288 507.701233 476.626173 512.375338 485.900537 517.049442 458.069218 521.723547 458.853121 526.397651 487.028083 531.071756 486.978281 535.745860 492.665967 540.419965 492.239127 545.094069 490.509807 549.768174 489.743090 554.442278 491.291389 559.116383 497.671620 563.790487 489.245631 568.464592 499.256250 573.138696 498.377980 577.812801 499.419316 582.486905 463.993009 587.161010 479.788318 591.835115 497.754638 596.509219 497.313394 601.183324 498.311423 605.857428 501.986167 610.531533 494.243179 615.205637 470.833782 619.879742 480.696655 624.553846 511.288941 624.553846 513.976353 619.879742 484.002319 615.205637 475.859188 610.531533 497.535318 605.857428 503.806175 601.183324 501.166977 596.509219 498.907323 591.835115 500.666432 587.161010 482.381801 582.486905 465.589045 577.812801 502.271147 573.138696 502.135567 568.464592 503.543862 563.790487 491.989966 559.116383 500.021250 554.442278 494.419108 549.768174 495.015957 545.094069 495.173290 540.419965 494.179735 535.745860 494.943188 531.071756 490.445198 526.397651 490.436075 521.723547 465.461680 517.049442 466.584240 512.375338 488.594018 507.701233 481.100534 503.027129 492.450775 498.353024 479.082215 493.678920 479.440639 489.004815 456.419787 484.330711 423.538161 479.656606 461.174109 474.982501 452.363371 470.308397 390.568352 465.634292 489.274668 460.960188 489.145075 456.286083 481.295738 451.611979 477.065152 446.937874 475.834480 442.263770 460.900439 437.589665 442.325301 432.915561 444.657367 428.241456 428.099591 423.567352 404.210825 418.893247 439.269736 414.219143 425.894497 409.545038 432.897660 404.870934 380.982931 400.196829 441.218546 395.522725 453.399239 390.848620 478.601146 386.174516 476.869569 381.500411 469.959270 376.826307 467.156500 372.152202 467.706014 367.478097 470.504647 362.803993 446.774447 358.129888 421.602346 353.455784 421.943264 348.781679 414.669821 344.107575 463.297671 339.433470 455.831639 334.759366 490.810290 330.085261 510.484739 325.411157 515.383562 320.737052 517.449294 316.062948 517.320702 311.388843 516.460954 306.714739 512.026914 302.040634 513.851795 297.366530 516.896979 292.692425 512.805402 288.018321 517.300959 283.344216 517.466050 278.670112 516.199441 273.996007 511.693886 269.321903 513.640185 264.647798 514.170126 259.973693 514.125276 255.299589 513.594199 250.625484 512.989018 245.951380 514.898229 241.277275 507.793615 236.603171 509.474369 231.929066 510.616165 227.254962 502.662847 222.580857 509.714034 217.906753 509.663081 213.232648 510.552757 208.558544 503.761360 203.884439 507.355394 199.210335 506.242723 194.536230 501.184489 189.862126 514.119112 185.188021 517.430764 180.513917 516.940651 175.839812 507.755981 171.165708 497.899887 166.491603 512.599958 161.817499 497.193085 157.143394 503.084469 152.469289 498.484067 147.795185 495.395385 143.121080 441.367772 138.446976 478.765836 133.772871 426.017482 129.098767 507.194516 124.424662 504.019098 119.750558 495.983710 115.076453 506.579032 110.402349 499.063162 105.728244 498.976777 101.054140 496.919600 96.380035 497.807372 91.705931 491.257270 87.031826 489.141564 82.357722 466.893614 77.683617 447.748392 73.009513 484.766476 68.335408 470.954463 63.661304 455.824100 58.987199 483.637294 54.313095 480.094566 49.638990 463.034869 44.964885 466.962801 40.290781 385.279628 35.616676 475.486323 30.942572 489.930219 26.268467 472.931435 21.594363 483.537921 16.920258 482.510108 12.246154 513.954064\"/></g><g class=\"series serie-7 color-7\"><path class=\"line reactive\" d=\"M12.246154 510.129878 L16.920258 467.728916 21.594363 470.530509 26.268467 450.954631 30.942572 465.221680 35.616676 443.611218 40.290781 334.147591 44.964885 446.896891 49.638990 439.235528 54.313095 464.021988 58.987199 461.895175 63.661304 439.902015 68.335408 457.623428 73.009513 471.940953 77.683617 429.952473 82.357722 441.805842 87.031826 467.423305 91.705931 475.764900 96.380035 478.833709 101.054140 478.502232 105.728244 482.131771 110.402349 481.380581 115.076453 492.902701 119.750558 475.035076 124.424662 495.367735 129.098767 496.088154 133.772871 404.732142 138.446976 465.910422 143.121080 416.673800 147.795185 486.236181 152.469289 478.979643 157.143394 480.520019 161.817499 474.727862 166.491603 505.892312 171.165708 478.254208 175.839812 496.613644 180.513917 510.198680 185.188021 512.822462 189.862126 495.562811 194.536230 492.207560 199.210335 494.444088 203.884439 487.171645 208.558544 495.256025 213.232648 505.458142 217.906753 500.290135 222.580857 499.268813 227.254962 495.337077 231.929066 500.604163 236.603171 500.504301 241.277275 500.583714 245.951380 499.050577 250.625484 504.331423 255.299589 506.538515 259.973693 505.073913 264.647798 505.492405 269.321903 507.298559 273.996007 505.611717 278.670112 511.733633 283.344216 510.008748 288.018321 509.600341 292.692425 507.009474 297.366530 510.839646 302.040634 508.492842 306.714739 505.077811 311.388843 509.241341 316.062948 509.782658 320.737052 508.871174 325.411157 510.144036 330.085261 502.529653 334.759366 474.982782 339.433470 443.985251 344.107575 446.539833 348.781679 378.475237 353.455784 404.847595 358.129888 395.993459 362.803993 406.714873 367.478097 440.981990 372.152202 431.099081 376.826307 415.558211 381.500411 451.801723 386.174516 457.301562 390.848620 446.854814 395.522725 428.339610 400.196829 393.838130 404.870934 328.874712 409.545038 395.553878 414.219143 398.026609 418.893247 409.375084 423.567352 345.790510 428.241456 395.316274 432.915561 415.307786 437.589665 416.912466 442.263770 434.354922 446.937874 458.084839 451.611979 462.455932 456.286083 471.958980 460.960188 474.224085 465.634292 476.853340 470.308397 373.600119 474.982501 436.534995 479.656606 443.681521 484.330711 399.172378 489.004815 435.462811 493.678920 466.876619 498.353024 466.074475 503.027129 482.257395 507.701233 472.048742 512.375338 472.519648 517.049442 443.484141 521.723547 440.961842 526.397651 476.918849 531.071756 481.219729 535.745860 485.108894 540.419965 484.156415 545.094069 475.918363 549.768174 478.789817 554.442278 479.565114 559.116383 489.339440 563.790487 482.760876 568.464592 487.456507 573.138696 493.565236 577.812801 492.376302 582.486905 454.070009 587.161010 470.518898 591.835115 490.000978 596.509219 486.311737 601.183324 490.622323 605.857428 493.465821 610.531533 483.498213 615.205637 465.376363 619.879742 477.407070 624.553846 504.673463 624.553846 511.288941 619.879742 480.696655 615.205637 470.833782 610.531533 494.243179 605.857428 501.986167 601.183324 498.311423 596.509219 497.313394 591.835115 497.754638 587.161010 479.788318 582.486905 463.993009 577.812801 499.419316 573.138696 498.377980 568.464592 499.256250 563.790487 489.245631 559.116383 497.671620 554.442278 491.291389 549.768174 489.743090 545.094069 490.509807 540.419965 492.239127 535.745860 492.665967 531.071756 486.978281 526.397651 487.028083 521.723547 458.853121 517.049442 458.069218 512.375338 485.900537 507.701233 476.626173 503.027129 488.136288 498.353024 474.283993 493.678920 474.326220 489.004815 449.921392 484.330711 418.686601 479.656606 455.462201 474.982501 446.898711 470.308397 383.944477 465.634292 483.645972 460.960188 480.659962 456.286083 477.853320 451.611979 468.961362 446.937874 465.471052 442.263770 446.925485 437.589665 429.177769 432.915561 432.994107 428.241456 417.750123 423.567352 392.254053 418.893247 426.206890 414.219143 413.226894 409.545038 416.716753 404.870934 357.911280 400.196829 424.628308 395.522725 435.958223 390.848620 460.498086 386.174516 469.288010 381.500411 462.715831 376.826307 434.508061 372.152202 459.796266 367.478097 463.175955 362.803993 441.863837 358.129888 416.192829 353.455784 415.359230 348.781679 412.149485 344.107575 461.523091 339.433470 454.183084 334.759366 488.004034 330.085261 505.233377 325.411157 512.804706 320.737052 514.804194 316.062948 514.683864 311.388843 515.854641 306.714739 510.674659 302.040634 512.125328 297.366530 515.074557 292.692425 511.187144 288.018321 514.046290 283.344216 515.619838 278.670112 515.311259 273.996007 510.001243 269.321903 511.020361 264.647798 511.404033 259.973693 512.520893 255.299589 512.312295 250.625484 510.821495 245.951380 512.478833 241.277275 504.532996 236.603171 507.077300 231.929066 509.033949 227.254962 500.290243 222.580857 506.496772 217.906753 506.243437 213.232648 508.753005 208.558544 500.246172 203.884439 502.621875 199.210335 501.927451 194.536230 496.982627 189.862126 506.264353 185.188021 515.285339 180.513917 515.011152 175.839812 503.511972 171.165708 486.263254 166.491603 510.861568 161.817499 492.314305 157.143394 499.379400 152.469289 495.321866 147.795185 493.134598 143.121080 435.651967 138.446976 474.826387 133.772871 420.554140 129.098767 505.037495 124.424662 501.814380 119.750558 492.704471 115.076453 503.679674 110.402349 494.460557 105.728244 494.852047 101.054140 493.458908 96.380035 495.478974 91.705931 488.595699 87.031826 484.091393 82.357722 462.651862 77.683617 443.918596 73.009513 482.101565 68.335408 467.474346 63.661304 451.665012 58.987199 479.997083 54.313095 474.901680 49.638990 455.188260 44.964885 458.375558 40.290781 370.191669 35.616676 469.216702 30.942572 485.428817 26.268467 467.723160 21.594363 480.087756 16.920258 478.758276 12.246154 513.373281\"/></g><g class=\"series serie-8 color-8\"><path class=\"line reactive\" d=\"M12.246154 503.180513 L16.920258 454.111843 21.594363 458.868374 26.268467 434.793025 30.942572 457.248443 35.616676 432.030285 40.290781 324.567308 44.964885 405.825782 49.638990 382.550572 54.313095 443.296700 58.987199 434.492634 63.661304 425.253100 68.335408 438.612858 73.009513 455.885603 77.683617 395.985961 82.357722 420.317734 87.031826 442.933203 91.705931 453.765945 96.380035 467.664884 101.054140 465.771273 105.728244 464.373645 110.402349 466.475262 115.076453 477.938768 119.750558 390.967360 124.424662 419.003319 129.098767 478.685539 133.772871 388.534752 138.446976 452.494310 143.121080 402.328246 147.795185 481.124692 152.469289 475.934829 157.143394 469.544860 161.817499 455.033190 166.491603 493.258832 171.165708 463.504652 175.839812 490.024727 180.513917 506.296165 185.188021 509.760188 189.862126 485.640230 194.536230 489.004039 199.210335 483.453861 203.884439 479.837226 208.558544 485.358946 213.232648 500.768575 217.906753 489.612833 222.580857 486.796783 227.254962 473.496463 231.929066 485.224372 236.603171 486.315138 241.277275 483.272957 245.951380 493.194100 250.625484 497.402770 255.299589 501.869082 259.973693 496.867990 264.647798 499.540606 269.321903 497.799649 273.996007 476.872609 278.670112 496.643314 283.344216 501.052205 288.018321 506.664695 292.692425 498.457173 297.366530 504.025897 302.040634 500.365087 306.714739 500.334586 311.388843 506.367997 316.062948 508.324291 320.737052 507.312884 325.411157 507.882131 330.085261 481.683094 334.759366 459.614272 339.433470 425.302668 344.107575 416.949382 348.781679 296.022585 353.455784 336.921057 358.129888 356.750778 362.803993 352.039215 367.478097 422.911505 372.152202 416.705501 376.826307 404.826119 381.500411 429.975610 386.174516 416.485717 390.848620 415.840941 395.522725 404.519294 400.196829 383.582734 404.870934 307.252515 409.545038 356.622339 414.219143 377.262635 418.893247 396.473101 423.567352 326.237879 428.241456 374.492621 432.915561 396.838035 437.589665 391.520020 442.263770 403.796696 446.937874 446.334072 451.611979 450.032215 456.286083 462.500097 460.960188 459.032966 465.634292 461.486029 470.308397 356.843670 474.982501 426.672079 479.656606 437.950659 484.330711 389.709961 489.004815 429.939504 493.678920 453.408839 498.353024 447.333562 503.027129 469.546033 507.701233 457.819506 512.375338 468.976133 517.049442 434.437320 521.723547 435.688304 526.397651 464.408643 531.071756 475.835585 535.745860 478.320721 540.419965 478.251255 545.094069 472.855880 549.768174 475.007594 554.442278 464.513176 559.116383 480.722057 563.790487 478.097602 568.464592 483.159269 573.138696 487.386165 577.812801 486.440583 582.486905 438.212031 587.161010 458.984920 591.835115 480.714131 596.509219 481.685088 601.183324 484.961274 605.857428 484.697333 610.531533 466.616514 615.205637 444.480888 619.879742 463.132472 624.553846 500.864511 624.553846 504.673463 619.879742 477.407070 615.205637 465.376363 610.531533 483.498213 605.857428 493.465821 601.183324 490.622323 596.509219 486.311737 591.835115 490.000978 587.161010 470.518898 582.486905 454.070009 577.812801 492.376302 573.138696 493.565236 568.464592 487.456507 563.790487 482.760876 559.116383 489.339440 554.442278 479.565114 549.768174 478.789817 545.094069 475.918363 540.419965 484.156415 535.745860 485.108894 531.071756 481.219729 526.397651 476.918849 521.723547 440.961842 517.049442 443.484141 512.375338 472.519648 507.701233 472.048742 503.027129 482.257395 498.353024 466.074475 493.678920 466.876619 489.004815 435.462811 484.330711 399.172378 479.656606 443.681521 474.982501 436.534995 470.308397 373.600119 465.634292 476.853340 460.960188 474.224085 456.286083 471.958980 451.611979 462.455932 446.937874 458.084839 442.263770 434.354922 437.589665 416.912466 432.915561 415.307786 428.241456 395.316274 423.567352 345.790510 418.893247 409.375084 414.219143 398.026609 409.545038 395.553878 404.870934 328.874712 400.196829 393.838130 395.522725 428.339610 390.848620 446.854814 386.174516 457.301562 381.500411 451.801723 376.826307 415.558211 372.152202 431.099081 367.478097 440.981990 362.803993 406.714873 358.129888 395.993459 353.455784 404.847595 348.781679 378.475237 344.107575 446.539833 339.433470 443.985251 334.759366 474.982782 330.085261 502.529653 325.411157 510.144036 320.737052 508.871174 316.062948 509.782658 311.388843 509.241341 306.714739 505.077811 302.040634 508.492842 297.366530 510.839646 292.692425 507.009474 288.018321 509.600341 283.344216 510.008748 278.670112 511.733633 273.996007 505.611717 269.321903 507.298559 264.647798 505.492405 259.973693 505.073913 255.299589 506.538515 250.625484 504.331423 245.951380 499.050577 241.277275 500.583714 236.603171 500.504301 231.929066 500.604163 227.254962 495.337077 222.580857 499.268813 217.906753 500.290135 213.232648 505.458142 208.558544 495.256025 203.884439 487.171645 199.210335 494.444088 194.536230 492.207560 189.862126 495.562811 185.188021 512.822462 180.513917 510.198680 175.839812 496.613644 171.165708 478.254208 166.491603 505.892312 161.817499 474.727862 157.143394 480.520019 152.469289 478.979643 147.795185 486.236181 143.121080 416.673800 138.446976 465.910422 133.772871 404.732142 129.098767 496.088154 124.424662 495.367735 119.750558 475.035076 115.076453 492.902701 110.402349 481.380581 105.728244 482.131771 101.054140 478.502232 96.380035 478.833709 91.705931 475.764900 87.031826 467.423305 82.357722 441.805842 77.683617 429.952473 73.009513 471.940953 68.335408 457.623428 63.661304 439.902015 58.987199 461.895175 54.313095 464.021988 49.638990 439.235528 44.964885 446.896891 40.290781 334.147591 35.616676 443.611218 30.942572 465.221680 26.268467 450.954631 21.594363 470.530509 16.920258 467.728916 12.246154 510.129878\"/></g><g class=\"series serie-9 color-9\"><path class=\"line reactive\" d=\"M12.246154 502.003173 L16.920258 448.990615 21.594363 450.016540 26.268467 428.400866 30.942572 449.789116 35.616676 424.245105 40.290781 315.499712 44.964885 397.180539 49.638990 375.774806 54.313095 438.087702 58.987199 428.643542 63.661304 420.697167 68.335408 429.407630 73.009513 450.524610 77.683617 387.762574 82.357722 410.513846 87.031826 436.605166 91.705931 448.765108 96.380035 459.684130 101.054140 458.281839 105.728244 460.342401 110.402349 461.482836 115.076453 470.710517 119.750558 382.493039 124.424662 413.098525 129.098767 473.341091 133.772871 382.979675 138.446976 448.275086 143.121080 397.678861 147.795185 476.679578 152.469289 466.834789 157.143394 461.674656 161.817499 446.940998 166.491603 490.364115 171.165708 459.649276 175.839812 485.932044 180.513917 503.314542 185.188021 506.699068 189.862126 482.898640 194.536230 485.391738 199.210335 479.729913 203.884439 475.482232 208.558544 482.812886 213.232648 498.331792 217.906753 486.430828 222.580857 484.373676 227.254962 471.750036 231.929066 481.099453 236.603171 483.001241 241.277275 480.255405 245.951380 490.612880 250.625484 495.544791 255.299589 498.620873 259.973693 493.943781 264.647798 494.960777 269.321903 495.124331 273.996007 474.071779 278.670112 493.672601 283.344216 497.525815 288.018321 503.949129 292.692425 495.477237 297.366530 501.989158 302.040634 497.645272 306.714739 498.256844 311.388843 503.656148 316.062948 504.166457 320.737052 503.620751 325.411157 505.377083 330.085261 478.272983 334.759366 456.279637 339.433470 418.644352 344.107575 409.815370 348.781679 282.582179 353.455784 328.329943 358.129888 344.659031 362.803993 342.393128 367.478097 416.136135 372.152202 410.859068 376.826307 399.481556 381.500411 425.017509 386.174516 411.927280 390.848620 410.932368 395.522725 399.721868 400.196829 378.916225 404.870934 300.732285 409.545038 348.414480 414.219143 370.353408 418.893247 389.725570 423.567352 318.204274 428.241456 364.936230 432.915561 388.189627 437.589665 383.794520 442.263770 395.539300 446.937874 441.833203 451.611979 447.064034 456.286083 458.159204 460.960188 453.687662 465.634292 456.711603 470.308397 352.479610 474.982501 421.605788 479.656606 433.913586 484.330711 378.764320 489.004815 423.892272 493.678920 447.866204 498.353024 443.397618 503.027129 465.906310 507.701233 455.590372 512.375338 465.050314 517.049442 429.797385 521.723547 426.072704 526.397651 458.791302 531.071756 469.709054 535.745860 471.865988 540.419965 472.799908 545.094069 466.625233 549.768174 468.220501 554.442278 455.909007 559.116383 475.208478 563.790487 472.506646 568.464592 478.493717 573.138696 481.458009 577.812801 480.846174 582.486905 427.212735 587.161010 452.886568 591.835115 475.008102 596.509219 476.594327 601.183324 479.257627 605.857428 479.827055 610.531533 460.003935 615.205637 425.047877 619.879742 450.815825 624.553846 496.811752 624.553846 500.864511 619.879742 463.132472 615.205637 444.480888 610.531533 466.616514 605.857428 484.697333 601.183324 484.961274 596.509219 481.685088 591.835115 480.714131 587.161010 458.984920 582.486905 438.212031 577.812801 486.440583 573.138696 487.386165 568.464592 483.159269 563.790487 478.097602 559.116383 480.722057 554.442278 464.513176 549.768174 475.007594 545.094069 472.855880 540.419965 478.251255 535.745860 478.320721 531.071756 475.835585 526.397651 464.408643 521.723547 435.688304 517.049442 434.437320 512.375338 468.976133 507.701233 457.819506 503.027129 469.546033 498.353024 447.333562 493.678920 453.408839 489.004815 429.939504 484.330711 389.709961 479.656606 437.950659 474.982501 426.672079 470.308397 356.843670 465.634292 461.486029 460.960188 459.032966 456.286083 462.500097 451.611979 450.032215 446.937874 446.334072 442.263770 403.796696 437.589665 391.520020 432.915561 396.838035 428.241456 374.492621 423.567352 326.237879 418.893247 396.473101 414.219143 377.262635 409.545038 356.622339 404.870934 307.252515 400.196829 383.582734 395.522725 404.519294 390.848620 415.840941 386.174516 416.485717 381.500411 429.975610 376.826307 404.826119 372.152202 416.705501 367.478097 422.911505 362.803993 352.039215 358.129888 356.750778 353.455784 336.921057 348.781679 296.022585 344.107575 416.949382 339.433470 425.302668 334.759366 459.614272 330.085261 481.683094 325.411157 507.882131 320.737052 507.312884 316.062948 508.324291 311.388843 506.367997 306.714739 500.334586 302.040634 500.365087 297.366530 504.025897 292.692425 498.457173 288.018321 506.664695 283.344216 501.052205 278.670112 496.643314 273.996007 476.872609 269.321903 497.799649 264.647798 499.540606 259.973693 496.867990 255.299589 501.869082 250.625484 497.402770 245.951380 493.194100 241.277275 483.272957 236.603171 486.315138 231.929066 485.224372 227.254962 473.496463 222.580857 486.796783 217.906753 489.612833 213.232648 500.768575 208.558544 485.358946 203.884439 479.837226 199.210335 483.453861 194.536230 489.004039 189.862126 485.640230 185.188021 509.760188 180.513917 506.296165 175.839812 490.024727 171.165708 463.504652 166.491603 493.258832 161.817499 455.033190 157.143394 469.544860 152.469289 475.934829 147.795185 481.124692 143.121080 402.328246 138.446976 452.494310 133.772871 388.534752 129.098767 478.685539 124.424662 419.003319 119.750558 390.967360 115.076453 477.938768 110.402349 466.475262 105.728244 464.373645 101.054140 465.771273 96.380035 467.664884 91.705931 453.765945 87.031826 442.933203 82.357722 420.317734 77.683617 395.985961 73.009513 455.885603 68.335408 438.612858 63.661304 425.253100 58.987199 434.492634 54.313095 443.296700 49.638990 382.550572 44.964885 405.825782 40.290781 324.567308 35.616676 432.030285 30.942572 457.248443 26.268467 434.793025 21.594363 458.868374 16.920258 454.111843 12.246154 503.180513\"/></g><g class=\"series serie-10 color-10\"><path class=\"line reactive\" d=\"M12.246154 498.303570 L16.920258 438.526434 21.594363 443.177349 26.268467 422.940648 30.942572 443.484603 35.616676 414.497608 40.290781 309.810287 44.964885 389.372628 49.638990 362.386994 54.313095 430.103190 58.987199 420.979927 63.661304 412.641460 68.335408 423.579020 73.009513 440.787889 77.683617 373.876893 82.357722 398.653028 87.031826 433.069245 91.705931 441.477529 96.380035 452.513709 101.054140 451.510952 105.728244 453.445306 110.402349 456.463001 115.076453 465.462417 119.750558 372.787813 124.424662 405.465325 129.098767 470.459140 133.772871 368.986740 138.446976 433.711013 143.121080 388.595109 147.795185 471.710805 152.469289 458.249426 157.143394 451.269681 161.817499 440.987572 166.491603 484.913948 171.165708 448.022541 175.839812 472.078146 180.513917 500.440276 185.188021 497.148641 189.862126 471.126868 194.536230 474.557420 199.210335 469.378770 203.884439 459.435876 208.558544 455.877560 213.232648 487.494357 217.906753 470.229899 222.580857 467.162802 227.254962 452.806032 231.929066 469.000109 236.603171 471.251409 241.277275 468.758575 245.951380 475.266231 250.625484 484.785934 255.299589 490.638238 259.973693 487.538402 264.647798 484.310931 269.321903 484.825880 273.996007 465.430987 278.670112 485.753116 283.344216 492.056800 288.018321 490.947715 292.692425 483.338566 297.366530 496.750729 302.040634 487.515648 306.714739 491.361478 311.388843 499.552496 316.062948 502.343740 320.737052 496.633645 325.411157 498.842190 330.085261 468.491984 334.759366 442.361500 339.433470 402.199078 344.107575 390.056313 348.781679 248.473276 353.455784 299.069897 358.129888 314.186528 362.803993 329.023327 367.478097 404.211045 372.152202 394.172278 376.826307 387.663083 381.500411 412.287453 386.174516 399.592307 390.848620 400.572060 395.522725 385.474836 400.196829 362.319904 404.870934 273.201287 409.545038 323.799810 414.219143 342.329931 418.893247 365.075776 423.567352 292.408302 428.241456 338.056814 432.915561 362.590435 437.589665 350.139629 442.263770 378.927282 446.937874 427.561884 451.611979 435.820643 456.286083 450.360255 460.960188 445.918244 465.634292 430.508075 470.308397 328.786857 474.982501 405.011119 479.656606 419.263655 484.330711 361.611692 489.004815 404.241652 493.678920 435.378088 498.353024 431.895939 503.027129 452.004491 507.701233 446.495467 512.375338 456.820170 517.049442 417.111716 521.723547 410.198409 526.397651 449.119619 531.071756 457.564794 535.745860 462.060833 540.419965 459.970346 545.094069 455.143619 549.768174 455.669571 554.442278 442.376576 559.116383 464.669489 563.790487 455.707648 568.464592 468.393061 573.138696 468.336124 577.812801 468.527789 582.486905 413.060508 587.161010 437.217784 591.835115 458.801237 596.509219 463.121597 601.183324 469.224139 605.857428 471.584211 610.531533 449.959972 615.205637 408.704147 619.879742 435.519247 624.553846 489.726170 624.553846 496.811752 619.879742 450.815825 615.205637 425.047877 610.531533 460.003935 605.857428 479.827055 601.183324 479.257627 596.509219 476.594327 591.835115 475.008102 587.161010 452.886568 582.486905 427.212735 577.812801 480.846174 573.138696 481.458009 568.464592 478.493717 563.790487 472.506646 559.116383 475.208478 554.442278 455.909007 549.768174 468.220501 545.094069 466.625233 540.419965 472.799908 535.745860 471.865988 531.071756 469.709054 526.397651 458.791302 521.723547 426.072704 517.049442 429.797385 512.375338 465.050314 507.701233 455.590372 503.027129 465.906310 498.353024 443.397618 493.678920 447.866204 489.004815 423.892272 484.330711 378.764320 479.656606 433.913586 474.982501 421.605788 470.308397 352.479610 465.634292 456.711603 460.960188 453.687662 456.286083 458.159204 451.611979 447.064034 446.937874 441.833203 442.263770 395.539300 437.589665 383.794520 432.915561 388.189627 428.241456 364.936230 423.567352 318.204274 418.893247 389.725570 414.219143 370.353408 409.545038 348.414480 404.870934 300.732285 400.196829 378.916225 395.522725 399.721868 390.848620 410.932368 386.174516 411.927280 381.500411 425.017509 376.826307 399.481556 372.152202 410.859068 367.478097 416.136135 362.803993 342.393128 358.129888 344.659031 353.455784 328.329943 348.781679 282.582179 344.107575 409.815370 339.433470 418.644352 334.759366 456.279637 330.085261 478.272983 325.411157 505.377083 320.737052 503.620751 316.062948 504.166457 311.388843 503.656148 306.714739 498.256844 302.040634 497.645272 297.366530 501.989158 292.692425 495.477237 288.018321 503.949129 283.344216 497.525815 278.670112 493.672601 273.996007 474.071779 269.321903 495.124331 264.647798 494.960777 259.973693 493.943781 255.299589 498.620873 250.625484 495.544791 245.951380 490.612880 241.277275 480.255405 236.603171 483.001241 231.929066 481.099453 227.254962 471.750036 222.580857 484.373676 217.906753 486.430828 213.232648 498.331792 208.558544 482.812886 203.884439 475.482232 199.210335 479.729913 194.536230 485.391738 189.862126 482.898640 185.188021 506.699068 180.513917 503.314542 175.839812 485.932044 171.165708 459.649276 166.491603 490.364115 161.817499 446.940998 157.143394 461.674656 152.469289 466.834789 147.795185 476.679578 143.121080 397.678861 138.446976 448.275086 133.772871 382.979675 129.098767 473.341091 124.424662 413.098525 119.750558 382.493039 115.076453 470.710517 110.402349 461.482836 105.728244 460.342401 101.054140 458.281839 96.380035 459.684130 91.705931 448.765108 87.031826 436.605166 82.357722 410.513846 77.683617 387.762574 73.009513 450.524610 68.335408 429.407630 63.661304 420.697167 58.987199 428.643542 54.313095 438.087702 49.638990 375.774806 44.964885 397.180539 40.290781 315.499712 35.616676 424.245105 30.942572 449.789116 26.268467 428.400866 21.594363 450.016540 16.920258 448.990615 12.246154 502.003173\"/></g><g class=\"series serie-11 color-11\"><path class=\"line reactive\" d=\"M12.246154 492.621245 L16.920258 421.590055 21.594363 425.657888 26.268467 399.292601 30.942572 426.292517 35.616676 389.079373 40.290781 241.384952 44.964885 350.229824 49.638990 332.706216 54.313095 401.166867 58.987199 395.885598 63.661304 383.082787 68.335408 394.180504 73.009513 411.539143 77.683617 321.439886 82.357722 360.267992 87.031826 412.261550 91.705931 425.209572 96.380035 434.438544 101.054140 435.793428 105.728244 437.168131 110.402349 441.860418 115.076453 449.641320 119.750558 347.985842 124.424662 389.060566 129.098767 456.013227 133.772871 346.337936 138.446976 422.545704 143.121080 376.051497 147.795185 462.928873 152.469289 446.606732 157.143394 442.282465 161.817499 429.649978 166.491603 473.667167 171.165708 439.587108 175.839812 464.799295 180.513917 495.289834 185.188021 491.898083 189.862126 462.662997 194.536230 463.496448 199.210335 459.638168 203.884439 450.458017 208.558544 448.283311 213.232648 481.646264 217.906753 457.854403 222.580857 456.316697 227.254962 445.845266 231.929066 462.402098 236.603171 461.898117 241.277275 460.629162 245.951380 468.470370 250.625484 480.692552 255.299589 487.020123 259.973693 484.033031 264.647798 479.288477 269.321903 477.751305 273.996007 453.730565 278.670112 480.886182 283.344216 488.039130 288.018321 485.721019 292.692425 474.833391 297.366530 492.868747 302.040634 480.517042 306.714739 487.647331 311.388843 494.608335 316.062948 499.852990 320.737052 489.711344 325.411157 493.410461 330.085261 454.585500 334.759366 427.905024 339.433470 385.977579 344.107575 375.363430 348.781679 207.539042 353.455784 261.875188 358.129888 282.620076 362.803993 305.670484 367.478097 389.072594 372.152202 374.180749 376.826307 367.363808 381.500411 400.722635 386.174516 385.376053 390.848620 385.798889 395.522725 366.233042 400.196829 339.870297 404.870934 240.984659 409.545038 302.467563 414.219143 320.434677 418.893247 345.248201 423.567352 267.972884 428.241456 314.782178 432.915561 344.679779 437.589665 328.835567 442.263770 365.666170 446.937874 420.360266 451.611979 424.611456 456.286083 441.813882 460.960188 434.235502 465.634292 420.044852 470.308397 316.687026 474.982501 394.070170 479.656606 409.701098 484.330711 351.559518 489.004815 391.893273 493.678920 424.358793 498.353024 419.876393 503.027129 440.481492 507.701233 437.801724 512.375338 448.916379 517.049442 400.971840 521.723547 396.787209 526.397651 442.823583 531.071756 448.507720 535.745860 453.757181 540.419965 448.254926 545.094069 444.586251 549.768174 442.852122 554.442278 434.272895 559.116383 457.729538 563.790487 441.541627 568.464592 458.864244 573.138696 458.186244 577.812801 461.085152 582.486905 404.497840 587.161010 427.278544 591.835115 451.942970 596.509219 458.373808 601.183324 463.360424 605.857428 464.003681 610.531533 439.967166 615.205637 394.994469 619.879742 425.557999 624.553846 486.335506 624.553846 489.726170 619.879742 435.519247 615.205637 408.704147 610.531533 449.959972 605.857428 471.584211 601.183324 469.224139 596.509219 463.121597 591.835115 458.801237 587.161010 437.217784 582.486905 413.060508 577.812801 468.527789 573.138696 468.336124 568.464592 468.393061 563.790487 455.707648 559.116383 464.669489 554.442278 442.376576 549.768174 455.669571 545.094069 455.143619 540.419965 459.970346 535.745860 462.060833 531.071756 457.564794 526.397651 449.119619 521.723547 410.198409 517.049442 417.111716 512.375338 456.820170 507.701233 446.495467 503.027129 452.004491 498.353024 431.895939 493.678920 435.378088 489.004815 404.241652 484.330711 361.611692 479.656606 419.263655 474.982501 405.011119 470.308397 328.786857 465.634292 430.508075 460.960188 445.918244 456.286083 450.360255 451.611979 435.820643 446.937874 427.561884 442.263770 378.927282 437.589665 350.139629 432.915561 362.590435 428.241456 338.056814 423.567352 292.408302 418.893247 365.075776 414.219143 342.329931 409.545038 323.799810 404.870934 273.201287 400.196829 362.319904 395.522725 385.474836 390.848620 400.572060 386.174516 399.592307 381.500411 412.287453 376.826307 387.663083 372.152202 394.172278 367.478097 404.211045 362.803993 329.023327 358.129888 314.186528 353.455784 299.069897 348.781679 248.473276 344.107575 390.056313 339.433470 402.199078 334.759366 442.361500 330.085261 468.491984 325.411157 498.842190 320.737052 496.633645 316.062948 502.343740 311.388843 499.552496 306.714739 491.361478 302.040634 487.515648 297.366530 496.750729 292.692425 483.338566 288.018321 490.947715 283.344216 492.056800 278.670112 485.753116 273.996007 465.430987 269.321903 484.825880 264.647798 484.310931 259.973693 487.538402 255.299589 490.638238 250.625484 484.785934 245.951380 475.266231 241.277275 468.758575 236.603171 471.251409 231.929066 469.000109 227.254962 452.806032 222.580857 467.162802 217.906753 470.229899 213.232648 487.494357 208.558544 455.877560 203.884439 459.435876 199.210335 469.378770 194.536230 474.557420 189.862126 471.126868 185.188021 497.148641 180.513917 500.440276 175.839812 472.078146 171.165708 448.022541 166.491603 484.913948 161.817499 440.987572 157.143394 451.269681 152.469289 458.249426 147.795185 471.710805 143.121080 388.595109 138.446976 433.711013 133.772871 368.986740 129.098767 470.459140 124.424662 405.465325 119.750558 372.787813 115.076453 465.462417 110.402349 456.463001 105.728244 453.445306 101.054140 451.510952 96.380035 452.513709 91.705931 441.477529 87.031826 433.069245 82.357722 398.653028 77.683617 373.876893 73.009513 440.787889 68.335408 423.579020 63.661304 412.641460 58.987199 420.979927 54.313095 430.103190 49.638990 362.386994 44.964885 389.372628 40.290781 309.810287 35.616676 414.497608 30.942572 443.484603 26.268467 422.940648 21.594363 443.177349 16.920258 438.526434 12.246154 498.303570\"/></g><g class=\"series serie-12 color-12\"><path class=\"line reactive\" d=\"M12.246154 491.923641 L16.920258 412.789676 21.594363 417.969531 26.268467 392.983055 30.942572 419.833318 35.616676 381.662962 40.290781 228.065325 44.964885 337.969717 49.638990 325.477706 54.313095 394.909587 58.987199 388.244719 63.661304 373.955971 68.335408 384.738152 73.009513 403.380446 77.683617 315.477252 82.357722 355.024341 87.031826 406.686718 91.705931 415.215503 96.380035 430.056521 101.054140 432.474624 105.728244 429.767798 110.402349 437.531915 115.076453 445.978619 119.750558 342.139898 124.424662 385.410929 129.098767 451.688496 133.772871 341.037448 138.446976 416.861671 143.121080 370.996898 147.795185 458.463643 152.469289 443.068221 157.143394 436.566928 161.817499 424.698242 166.491603 471.917460 171.165708 436.967662 175.839812 460.979933 180.513917 494.041891 185.188021 490.522678 189.862126 460.549582 194.536230 461.401774 199.210335 457.134730 203.884439 448.952121 208.558544 446.744750 213.232648 479.350536 217.906753 456.538403 222.580857 448.420680 227.254962 443.239226 231.929066 459.773565 236.603171 457.603644 241.277275 455.595620 245.951380 467.264115 250.625484 479.452811 255.299589 485.490006 259.973693 480.157691 264.647798 476.448371 269.321903 475.972996 273.996007 451.281903 278.670112 479.615206 283.344216 486.403669 288.018321 484.299841 292.692425 473.505528 297.366530 491.414950 302.040634 478.239066 306.714739 484.857146 311.388843 493.832952 316.062948 498.656227 320.737052 487.988756 325.411157 491.246543 330.085261 451.898380 334.759366 416.815387 339.433470 383.198347 344.107575 371.306605 348.781679 201.595812 353.455784 250.006873 358.129888 273.996647 362.803993 301.503379 367.478097 384.120573 372.152202 368.352900 376.826307 361.130511 381.500411 394.118106 386.174516 380.642094 390.848620 380.397774 395.522725 358.246414 400.196829 333.858700 404.870934 234.276562 409.545038 294.219492 414.219143 313.228698 418.893247 337.052642 423.567352 257.991506 428.241456 303.696896 432.915561 337.241621 437.589665 315.113520 442.263770 358.851498 446.937874 414.838652 451.611979 420.517317 456.286083 438.730045 460.960188 431.021573 465.634292 416.999199 470.308397 310.344262 474.982501 389.092285 479.656606 405.882112 484.330711 346.219084 489.004815 385.561442 493.678920 417.746830 498.353024 416.592148 503.027129 437.472977 507.701233 433.515837 512.375338 445.297384 517.049442 395.201212 521.723547 392.368157 526.397651 439.527554 531.071756 444.848376 535.745860 448.085383 540.419965 443.445596 545.094069 440.260500 549.768174 439.037447 554.442278 431.023162 559.116383 453.507529 563.790487 438.786960 568.464592 455.687516 573.138696 455.912489 577.812801 457.756606 582.486905 401.441643 587.161010 422.947400 591.835115 449.387800 596.509219 455.258716 601.183324 459.066420 605.857428 459.918744 610.531533 436.425954 615.205637 391.752505 619.879742 422.873487 624.553846 484.545224 624.553846 486.335506 619.879742 425.557999 615.205637 394.994469 610.531533 439.967166 605.857428 464.003681 601.183324 463.360424 596.509219 458.373808 591.835115 451.942970 587.161010 427.278544 582.486905 404.497840 577.812801 461.085152 573.138696 458.186244 568.464592 458.864244 563.790487 441.541627 559.116383 457.729538 554.442278 434.272895 549.768174 442.852122 545.094069 444.586251 540.419965 448.254926 535.745860 453.757181 531.071756 448.507720 526.397651 442.823583 521.723547 396.787209 517.049442 400.971840 512.375338 448.916379 507.701233 437.801724 503.027129 440.481492 498.353024 419.876393 493.678920 424.358793 489.004815 391.893273 484.330711 351.559518 479.656606 409.701098 474.982501 394.070170 470.308397 316.687026 465.634292 420.044852 460.960188 434.235502 456.286083 441.813882 451.611979 424.611456 446.937874 420.360266 442.263770 365.666170 437.589665 328.835567 432.915561 344.679779 428.241456 314.782178 423.567352 267.972884 418.893247 345.248201 414.219143 320.434677 409.545038 302.467563 404.870934 240.984659 400.196829 339.870297 395.522725 366.233042 390.848620 385.798889 386.174516 385.376053 381.500411 400.722635 376.826307 367.363808 372.152202 374.180749 367.478097 389.072594 362.803993 305.670484 358.129888 282.620076 353.455784 261.875188 348.781679 207.539042 344.107575 375.363430 339.433470 385.977579 334.759366 427.905024 330.085261 454.585500 325.411157 493.410461 320.737052 489.711344 316.062948 499.852990 311.388843 494.608335 306.714739 487.647331 302.040634 480.517042 297.366530 492.868747 292.692425 474.833391 288.018321 485.721019 283.344216 488.039130 278.670112 480.886182 273.996007 453.730565 269.321903 477.751305 264.647798 479.288477 259.973693 484.033031 255.299589 487.020123 250.625484 480.692552 245.951380 468.470370 241.277275 460.629162 236.603171 461.898117 231.929066 462.402098 227.254962 445.845266 222.580857 456.316697 217.906753 457.854403 213.232648 481.646264 208.558544 448.283311 203.884439 450.458017 199.210335 459.638168 194.536230 463.496448 189.862126 462.662997 185.188021 491.898083 180.513917 495.289834 175.839812 464.799295 171.165708 439.587108 166.491603 473.667167 161.817499 429.649978 157.143394 442.282465 152.469289 446.606732 147.795185 462.928873 143.121080 376.051497 138.446976 422.545704 133.772871 346.337936 129.098767 456.013227 124.424662 389.060566 119.750558 347.985842 115.076453 449.641320 110.402349 441.860418 105.728244 437.168131 101.054140 435.793428 96.380035 434.438544 91.705931 425.209572 87.031826 412.261550 82.357722 360.267992 77.683617 321.439886 73.009513 411.539143 68.335408 394.180504 63.661304 383.082787 58.987199 395.885598 54.313095 401.166867 49.638990 332.706216 44.964885 350.229824 40.290781 241.384952 35.616676 389.079373 30.942572 426.292517 26.268467 399.292601 21.594363 425.657888 16.920258 421.590055 12.246154 492.621245\"/></g><g class=\"series serie-13 color-13\"><path class=\"line reactive\" d=\"M12.246154 487.060153 L16.920258 388.350401 21.594363 393.618632 26.268467 368.786275 30.942572 397.638512 35.616676 359.425255 40.290781 175.934528 44.964885 288.617246 49.638990 283.464321 54.313095 366.400185 58.987199 363.247230 63.661304 336.448347 68.335408 353.733988 73.009513 377.860046 77.683617 289.006120 82.357722 335.670450 87.031826 388.462429 91.705931 399.182487 96.380035 415.652197 101.054140 419.897264 105.728244 413.846986 110.402349 422.750204 115.076453 432.725963 119.750558 323.973431 124.424662 367.809921 129.098767 438.385730 133.772871 319.213398 138.446976 404.729363 143.121080 357.515885 147.795185 444.517701 152.469289 433.572047 157.143394 426.719866 161.817499 411.103062 166.491603 463.222211 171.165708 430.490483 175.839812 454.317205 180.513917 491.101430 185.188021 485.528753 189.862126 454.121870 194.536230 454.782493 199.210335 448.402179 203.884439 442.232313 208.558544 437.628223 213.232648 469.137612 217.906753 446.533736 222.580857 438.297468 227.254962 433.646677 231.929066 453.888987 236.603171 448.571038 241.277275 446.600363 245.951380 460.818292 250.625484 473.386583 255.299589 481.372205 259.973693 475.751694 264.647798 472.806980 269.321903 472.311835 273.996007 444.759543 278.670112 475.736438 283.344216 481.623674 288.018321 479.414213 292.692425 469.327336 297.366530 488.833390 302.040634 473.193218 306.714739 479.733164 311.388843 489.114423 316.062948 495.866259 320.737052 483.252569 325.411157 485.048340 330.085261 438.341143 334.759366 387.546190 339.433470 353.744237 344.107575 352.222877 348.781679 149.703892 353.455784 196.737680 358.129888 235.922615 362.803993 273.211817 367.478097 354.783568 372.152202 345.887065 376.826307 331.678833 381.500411 361.914416 386.174516 357.894937 390.848620 352.780778 395.522725 321.575628 400.196829 301.885093 404.870934 178.685995 409.545038 256.747749 414.219143 280.248625 418.893247 306.184241 423.567352 228.847165 428.241456 272.935366 432.915561 314.597800 437.589665 277.872701 442.263770 340.354347 446.937874 401.792497 451.611979 401.144663 456.286083 426.390750 460.960188 416.542131 465.634292 401.581057 470.308397 287.985601 474.982501 370.203789 479.656606 390.173494 484.330711 328.504844 489.004815 372.548169 493.678920 401.985077 498.353024 402.221879 503.027129 425.612038 507.701233 418.187594 512.375338 434.153927 517.049442 373.332436 521.723547 377.933905 526.397651 429.488675 531.071756 435.223755 535.745860 433.228429 540.419965 427.491254 545.094069 430.877078 549.768174 429.567209 554.442278 420.838239 559.116383 444.461582 563.790487 430.607235 568.464592 447.144073 573.138696 447.894596 577.812801 450.678059 582.486905 390.578135 587.161010 410.257771 591.835115 440.088186 596.509219 448.674431 601.183324 448.363290 605.857428 448.571541 610.531533 425.968540 615.205637 373.980139 619.879742 404.695208 624.553846 479.902289 624.553846 484.545224 619.879742 422.873487 615.205637 391.752505 610.531533 436.425954 605.857428 459.918744 601.183324 459.066420 596.509219 455.258716 591.835115 449.387800 587.161010 422.947400 582.486905 401.441643 577.812801 457.756606 573.138696 455.912489 568.464592 455.687516 563.790487 438.786960 559.116383 453.507529 554.442278 431.023162 549.768174 439.037447 545.094069 440.260500 540.419965 443.445596 535.745860 448.085383 531.071756 444.848376 526.397651 439.527554 521.723547 392.368157 517.049442 395.201212 512.375338 445.297384 507.701233 433.515837 503.027129 437.472977 498.353024 416.592148 493.678920 417.746830 489.004815 385.561442 484.330711 346.219084 479.656606 405.882112 474.982501 389.092285 470.308397 310.344262 465.634292 416.999199 460.960188 431.021573 456.286083 438.730045 451.611979 420.517317 446.937874 414.838652 442.263770 358.851498 437.589665 315.113520 432.915561 337.241621 428.241456 303.696896 423.567352 257.991506 418.893247 337.052642 414.219143 313.228698 409.545038 294.219492 404.870934 234.276562 400.196829 333.858700 395.522725 358.246414 390.848620 380.397774 386.174516 380.642094 381.500411 394.118106 376.826307 361.130511 372.152202 368.352900 367.478097 384.120573 362.803993 301.503379 358.129888 273.996647 353.455784 250.006873 348.781679 201.595812 344.107575 371.306605 339.433470 383.198347 334.759366 416.815387 330.085261 451.898380 325.411157 491.246543 320.737052 487.988756 316.062948 498.656227 311.388843 493.832952 306.714739 484.857146 302.040634 478.239066 297.366530 491.414950 292.692425 473.505528 288.018321 484.299841 283.344216 486.403669 278.670112 479.615206 273.996007 451.281903 269.321903 475.972996 264.647798 476.448371 259.973693 480.157691 255.299589 485.490006 250.625484 479.452811 245.951380 467.264115 241.277275 455.595620 236.603171 457.603644 231.929066 459.773565 227.254962 443.239226 222.580857 448.420680 217.906753 456.538403 213.232648 479.350536 208.558544 446.744750 203.884439 448.952121 199.210335 457.134730 194.536230 461.401774 189.862126 460.549582 185.188021 490.522678 180.513917 494.041891 175.839812 460.979933 171.165708 436.967662 166.491603 471.917460 161.817499 424.698242 157.143394 436.566928 152.469289 443.068221 147.795185 458.463643 143.121080 370.996898 138.446976 416.861671 133.772871 341.037448 129.098767 451.688496 124.424662 385.410929 119.750558 342.139898 115.076453 445.978619 110.402349 437.531915 105.728244 429.767798 101.054140 432.474624 96.380035 430.056521 91.705931 415.215503 87.031826 406.686718 82.357722 355.024341 77.683617 315.477252 73.009513 403.380446 68.335408 384.738152 63.661304 373.955971 58.987199 388.244719 54.313095 394.909587 49.638990 325.477706 44.964885 337.969717 40.290781 228.065325 35.616676 381.662962 30.942572 419.833318 26.268467 392.983055 21.594363 417.969531 16.920258 412.789676 12.246154 491.923641\"/></g><g class=\"series serie-14 color-14\"><path class=\"line reactive\" d=\"M12.246154 486.662097 L16.920258 386.944145 21.594363 392.265345 26.268467 365.847563 30.942572 396.581705 35.616676 357.270253 40.290781 152.127068 44.964885 285.866859 49.638990 281.196290 54.313095 364.301885 58.987199 362.173111 63.661304 334.114971 68.335408 351.929982 73.009513 376.938593 77.683617 288.167895 82.357722 333.780156 87.031826 387.190738 91.705931 397.991441 96.380035 414.443784 101.054140 419.242076 105.728244 413.119284 110.402349 422.284119 115.076453 431.944553 119.750558 321.362970 124.424662 366.972727 129.098767 437.667303 133.772871 317.795390 138.446976 403.604106 143.121080 355.784663 147.795185 443.699366 152.469289 432.854186 157.143394 424.209704 161.817499 409.965521 166.491603 463.062559 171.165708 430.326444 175.839812 453.487892 180.513917 490.745334 185.188021 485.216708 189.862126 453.437313 194.536230 454.266154 199.210335 448.168129 203.884439 440.685528 208.558544 437.081359 213.232648 468.792459 217.906753 446.113791 222.580857 437.955347 227.254962 433.143940 231.929066 453.620806 236.603171 447.886700 241.277275 446.105871 245.951380 460.617697 250.625484 473.002404 255.299589 480.906603 259.973693 474.095416 264.647798 471.972310 269.321903 471.969805 273.996007 444.338351 278.670112 475.569354 283.344216 481.156719 288.018321 479.253379 292.692425 468.811157 297.366530 488.399675 302.040634 472.707171 306.714739 479.431228 311.388843 488.821768 316.062948 495.671124 320.737052 482.765047 325.411157 484.708358 330.085261 437.839276 334.759366 387.189975 339.433470 351.732460 344.107575 350.130047 348.781679 144.522416 353.455784 189.376482 358.129888 194.426992 362.803993 171.712666 367.478097 275.023456 372.152202 246.375493 376.826307 268.888065 381.500411 313.377983 386.174516 322.576351 390.848620 323.746641 395.522725 294.494831 400.196829 225.650857 404.870934 58.377192 409.545038 219.932523 414.219143 243.497659 418.893247 267.643443 423.567352 186.800936 428.241456 242.266399 432.915561 285.800964 437.589665 253.315935 442.263770 315.070176 446.937874 389.486753 451.611979 389.970649 456.286083 416.708244 460.960188 410.219227 465.634292 388.601262 470.308397 271.782124 474.982501 361.801320 479.656606 380.721600 484.330711 321.062048 489.004815 360.759291 493.678920 396.127248 498.353024 390.996362 503.027129 422.238354 507.701233 407.379057 512.375338 420.900902 517.049442 347.358952 521.723547 361.792477 526.397651 418.513052 531.071756 431.235395 535.745860 425.719641 540.419965 417.322475 545.094069 425.221036 549.768174 423.955760 554.442278 414.826716 559.116383 437.615633 563.790487 422.537270 568.464592 440.871818 573.138696 445.180530 577.812801 447.269249 582.486905 388.062223 587.161010 405.286658 591.835115 438.425119 596.509219 446.442966 601.183324 440.676329 605.857428 440.931166 610.531533 423.136432 615.205637 369.943703 619.879742 400.969062 624.553846 478.842636 624.553846 479.902289 619.879742 404.695208 615.205637 373.980139 610.531533 425.968540 605.857428 448.571541 601.183324 448.363290 596.509219 448.674431 591.835115 440.088186 587.161010 410.257771 582.486905 390.578135 577.812801 450.678059 573.138696 447.894596 568.464592 447.144073 563.790487 430.607235 559.116383 444.461582 554.442278 420.838239 549.768174 429.567209 545.094069 430.877078 540.419965 427.491254 535.745860 433.228429 531.071756 435.223755 526.397651 429.488675 521.723547 377.933905 517.049442 373.332436 512.375338 434.153927 507.701233 418.187594 503.027129 425.612038 498.353024 402.221879 493.678920 401.985077 489.004815 372.548169 484.330711 328.504844 479.656606 390.173494 474.982501 370.203789 470.308397 287.985601 465.634292 401.581057 460.960188 416.542131 456.286083 426.390750 451.611979 401.144663 446.937874 401.792497 442.263770 340.354347 437.589665 277.872701 432.915561 314.597800 428.241456 272.935366 423.567352 228.847165 418.893247 306.184241 414.219143 280.248625 409.545038 256.747749 404.870934 178.685995 400.196829 301.885093 395.522725 321.575628 390.848620 352.780778 386.174516 357.894937 381.500411 361.914416 376.826307 331.678833 372.152202 345.887065 367.478097 354.783568 362.803993 273.211817 358.129888 235.922615 353.455784 196.737680 348.781679 149.703892 344.107575 352.222877 339.433470 353.744237 334.759366 387.546190 330.085261 438.341143 325.411157 485.048340 320.737052 483.252569 316.062948 495.866259 311.388843 489.114423 306.714739 479.733164 302.040634 473.193218 297.366530 488.833390 292.692425 469.327336 288.018321 479.414213 283.344216 481.623674 278.670112 475.736438 273.996007 444.759543 269.321903 472.311835 264.647798 472.806980 259.973693 475.751694 255.299589 481.372205 250.625484 473.386583 245.951380 460.818292 241.277275 446.600363 236.603171 448.571038 231.929066 453.888987 227.254962 433.646677 222.580857 438.297468 217.906753 446.533736 213.232648 469.137612 208.558544 437.628223 203.884439 442.232313 199.210335 448.402179 194.536230 454.782493 189.862126 454.121870 185.188021 485.528753 180.513917 491.101430 175.839812 454.317205 171.165708 430.490483 166.491603 463.222211 161.817499 411.103062 157.143394 426.719866 152.469289 433.572047 147.795185 444.517701 143.121080 357.515885 138.446976 404.729363 133.772871 319.213398 129.098767 438.385730 124.424662 367.809921 119.750558 323.973431 115.076453 432.725963 110.402349 422.750204 105.728244 413.846986 101.054140 419.897264 96.380035 415.652197 91.705931 399.182487 87.031826 388.462429 82.357722 335.670450 77.683617 289.006120 73.009513 377.860046 68.335408 353.733988 63.661304 336.448347 58.987199 363.247230 54.313095 366.400185 49.638990 283.464321 44.964885 288.617246 40.290781 175.934528 35.616676 359.425255 30.942572 397.638512 26.268467 368.786275 21.594363 393.618632 16.920258 388.350401 12.246154 487.060153\"/></g><g class=\"series serie-15 color-15\"><path class=\"line reactive\" d=\"M12.246154 481.739273 L16.920258 373.265753 21.594363 378.068933 26.268467 347.437409 30.942572 380.237088 35.616676 322.158613 40.290781 71.145995 44.964885 262.574668 49.638990 247.873973 54.313095 336.502149 58.987199 340.427430 63.661304 318.456166 68.335408 332.546235 73.009513 357.741363 77.683617 264.344837 82.357722 301.933322 87.031826 369.741339 91.705931 379.044191 96.380035 388.857915 101.054140 405.518717 105.728244 391.280186 110.402349 407.181071 115.076453 416.806319 119.750558 305.688925 124.424662 356.779869 129.098767 422.897402 133.772871 300.106428 138.446976 388.834141 143.121080 338.324500 147.795185 433.354590 152.469289 407.789613 157.143394 400.347986 161.817499 390.906433 166.491603 454.849550 171.165708 415.857947 175.839812 442.049783 180.513917 483.240694 185.188021 481.066305 189.862126 443.642558 194.536230 449.487152 199.210335 444.768786 203.884439 437.635434 208.558544 434.468523 213.232648 467.227174 217.906753 441.141526 222.580857 431.098874 227.254962 425.746466 231.929066 449.916707 236.603171 441.779629 241.277275 440.937484 245.951380 454.918934 250.625484 467.887114 255.299589 476.384289 259.973693 469.158951 264.647798 466.026798 269.321903 467.286267 273.996007 442.109487 278.670112 472.523661 283.344216 480.213130 288.018321 477.428870 292.692425 466.243044 297.366530 487.146112 302.040634 469.419103 306.714739 477.058872 311.388843 486.568631 316.062948 492.970490 320.737052 480.377565 325.411157 481.600102 330.085261 434.772658 334.759366 383.766794 339.433470 346.934948 344.107575 342.915114 348.781679 128.877057 353.455784 176.876689 358.129888 177.170045 362.803993 157.022595 367.478097 267.529962 372.152202 240.451478 376.826307 263.587476 381.500411 309.563500 386.174516 318.861044 390.848620 319.385517 395.522725 290.745507 400.196829 218.657230 404.870934 48.748293 409.545038 211.118153 414.219143 235.130143 418.893247 258.013377 423.567352 175.186471 428.241456 224.767296 432.915561 274.692455 437.589665 239.831513 442.263770 306.744860 446.937874 384.694673 451.611979 385.049121 456.286083 413.870490 460.960188 407.132036 465.634292 384.718408 470.308397 266.598819 474.982501 357.891217 479.656606 364.405903 484.330711 307.389219 489.004815 351.190180 493.678920 391.965028 498.353024 383.775367 503.027129 417.843512 507.701233 403.949497 512.375338 416.790615 517.049442 341.872947 521.723547 353.740914 526.397651 411.700273 531.071756 427.959618 535.745860 421.897222 540.419965 412.131916 545.094069 421.370736 549.768174 419.963787 554.442278 409.254309 559.116383 431.423350 563.790487 418.858424 568.464592 437.558639 573.138696 442.633301 577.812801 443.499756 582.486905 385.277100 587.161010 399.927379 591.835115 434.844694 596.509219 440.556527 601.183324 435.516531 605.857428 437.968631 610.531533 419.844575 615.205637 366.617589 619.879742 396.923599 624.553846 477.279781 624.553846 478.842636 619.879742 400.969062 615.205637 369.943703 610.531533 423.136432 605.857428 440.931166 601.183324 440.676329 596.509219 446.442966 591.835115 438.425119 587.161010 405.286658 582.486905 388.062223 577.812801 447.269249 573.138696 445.180530 568.464592 440.871818 563.790487 422.537270 559.116383 437.615633 554.442278 414.826716 549.768174 423.955760 545.094069 425.221036 540.419965 417.322475 535.745860 425.719641 531.071756 431.235395 526.397651 418.513052 521.723547 361.792477 517.049442 347.358952 512.375338 420.900902 507.701233 407.379057 503.027129 422.238354 498.353024 390.996362 493.678920 396.127248 489.004815 360.759291 484.330711 321.062048 479.656606 380.721600 474.982501 361.801320 470.308397 271.782124 465.634292 388.601262 460.960188 410.219227 456.286083 416.708244 451.611979 389.970649 446.937874 389.486753 442.263770 315.070176 437.589665 253.315935 432.915561 285.800964 428.241456 242.266399 423.567352 186.800936 418.893247 267.643443 414.219143 243.497659 409.545038 219.932523 404.870934 58.377192 400.196829 225.650857 395.522725 294.494831 390.848620 323.746641 386.174516 322.576351 381.500411 313.377983 376.826307 268.888065 372.152202 246.375493 367.478097 275.023456 362.803993 171.712666 358.129888 194.426992 353.455784 189.376482 348.781679 144.522416 344.107575 350.130047 339.433470 351.732460 334.759366 387.189975 330.085261 437.839276 325.411157 484.708358 320.737052 482.765047 316.062948 495.671124 311.388843 488.821768 306.714739 479.431228 302.040634 472.707171 297.366530 488.399675 292.692425 468.811157 288.018321 479.253379 283.344216 481.156719 278.670112 475.569354 273.996007 444.338351 269.321903 471.969805 264.647798 471.972310 259.973693 474.095416 255.299589 480.906603 250.625484 473.002404 245.951380 460.617697 241.277275 446.105871 236.603171 447.886700 231.929066 453.620806 227.254962 433.143940 222.580857 437.955347 217.906753 446.113791 213.232648 468.792459 208.558544 437.081359 203.884439 440.685528 199.210335 448.168129 194.536230 454.266154 189.862126 453.437313 185.188021 485.216708 180.513917 490.745334 175.839812 453.487892 171.165708 430.326444 166.491603 463.062559 161.817499 409.965521 157.143394 424.209704 152.469289 432.854186 147.795185 443.699366 143.121080 355.784663 138.446976 403.604106 133.772871 317.795390 129.098767 437.667303 124.424662 366.972727 119.750558 321.362970 115.076453 431.944553 110.402349 422.284119 105.728244 413.119284 101.054140 419.242076 96.380035 414.443784 91.705931 397.991441 87.031826 387.190738 82.357722 333.780156 77.683617 288.167895 73.009513 376.938593 68.335408 351.929982 63.661304 334.114971 58.987199 362.173111 54.313095 364.301885 49.638990 281.196290 44.964885 285.866859 40.290781 152.127068 35.616676 357.270253 30.942572 396.581705 26.268467 365.847563 21.594363 392.265345 16.920258 386.944145 12.246154 486.662097\"/></g><g class=\"series serie-16 color-16\"><path class=\"line reactive\" d=\"M12.246154 479.861790 L16.920258 365.698367 21.594363 369.182398 26.268467 336.223548 30.942572 371.202527 35.616676 310.937969 40.290781 58.684828 44.964885 249.879600 49.638990 237.831348 54.313095 323.994704 58.987199 332.950360 63.661304 309.937042 68.335408 324.040765 73.009513 348.568921 77.683617 255.159532 82.357722 290.502786 87.031826 363.798403 91.705931 370.998093 96.380035 380.189306 101.054140 399.567801 105.728244 384.738977 110.402349 402.836988 115.076453 410.061791 119.750558 296.205365 124.424662 350.157569 129.098767 417.918977 133.772871 291.634943 138.446976 383.752902 143.121080 333.010765 147.795185 426.511063 152.469289 401.897376 157.143394 395.227395 161.817499 386.665223 166.491603 451.143714 171.165708 413.289027 175.839812 438.099634 180.513917 480.983832 185.188021 478.982435 189.862126 439.694555 194.536230 443.576113 199.210335 441.766234 203.884439 431.561661 208.558544 430.719037 213.232648 465.391582 217.906753 438.216745 222.580857 427.602815 227.254962 422.534072 231.929066 446.863856 236.603171 437.810041 241.277275 436.683775 245.951380 452.229760 250.625484 464.382071 255.299589 474.638275 259.973693 467.107073 264.647798 462.625629 269.321903 464.195104 273.996007 438.505993 278.670112 469.936609 283.344216 478.850003 288.018321 475.793584 292.692425 463.975193 297.366530 485.128542 302.040634 466.682652 306.714739 474.883277 311.388843 484.760123 316.062948 489.834523 320.737052 476.620013 325.411157 479.523620 330.085261 428.170155 334.759366 377.072211 339.433470 341.219734 344.107575 336.500577 348.781679 117.019091 353.455784 167.397444 358.129888 166.263676 362.803993 147.008262 367.478097 262.118389 372.152202 234.758438 376.826307 258.467987 381.500411 300.952266 386.174516 311.293627 390.848620 312.195352 395.522725 284.015942 400.196829 213.519818 404.870934 39.178147 409.545038 200.305161 414.219143 222.325295 418.893247 244.931023 423.567352 165.830829 428.241456 214.538204 432.915561 265.445509 437.589665 228.773946 442.263770 300.148747 446.937874 379.253260 451.611979 379.329288 456.286083 409.140338 460.960188 401.659815 465.634292 376.768354 470.308397 259.467089 474.982501 350.123644 479.656606 357.183282 484.330711 301.187040 489.004815 344.372588 493.678920 385.008630 498.353024 377.803117 503.027129 411.960876 507.701233 397.540646 512.375338 411.503734 517.049442 336.779175 521.723547 345.427595 526.397651 405.688715 531.071756 418.652496 535.745860 415.373612 540.419965 407.440703 545.094069 416.681370 549.768174 416.724309 554.442278 403.475250 559.116383 425.400018 563.790487 415.396596 568.464592 434.836755 573.138696 438.298318 577.812801 438.600939 582.486905 381.069923 587.161010 392.001041 591.835115 428.332607 596.509219 435.632645 601.183324 431.978106 605.857428 433.424834 610.531533 413.577814 615.205637 362.004781 619.879742 391.509152 624.553846 474.434551 624.553846 477.279781 619.879742 396.923599 615.205637 366.617589 610.531533 419.844575 605.857428 437.968631 601.183324 435.516531 596.509219 440.556527 591.835115 434.844694 587.161010 399.927379 582.486905 385.277100 577.812801 443.499756 573.138696 442.633301 568.464592 437.558639 563.790487 418.858424 559.116383 431.423350 554.442278 409.254309 549.768174 419.963787 545.094069 421.370736 540.419965 412.131916 535.745860 421.897222 531.071756 427.959618 526.397651 411.700273 521.723547 353.740914 517.049442 341.872947 512.375338 416.790615 507.701233 403.949497 503.027129 417.843512 498.353024 383.775367 493.678920 391.965028 489.004815 351.190180 484.330711 307.389219 479.656606 364.405903 474.982501 357.891217 470.308397 266.598819 465.634292 384.718408 460.960188 407.132036 456.286083 413.870490 451.611979 385.049121 446.937874 384.694673 442.263770 306.744860 437.589665 239.831513 432.915561 274.692455 428.241456 224.767296 423.567352 175.186471 418.893247 258.013377 414.219143 235.130143 409.545038 211.118153 404.870934 48.748293 400.196829 218.657230 395.522725 290.745507 390.848620 319.385517 386.174516 318.861044 381.500411 309.563500 376.826307 263.587476 372.152202 240.451478 367.478097 267.529962 362.803993 157.022595 358.129888 177.170045 353.455784 176.876689 348.781679 128.877057 344.107575 342.915114 339.433470 346.934948 334.759366 383.766794 330.085261 434.772658 325.411157 481.600102 320.737052 480.377565 316.062948 492.970490 311.388843 486.568631 306.714739 477.058872 302.040634 469.419103 297.366530 487.146112 292.692425 466.243044 288.018321 477.428870 283.344216 480.213130 278.670112 472.523661 273.996007 442.109487 269.321903 467.286267 264.647798 466.026798 259.973693 469.158951 255.299589 476.384289 250.625484 467.887114 245.951380 454.918934 241.277275 440.937484 236.603171 441.779629 231.929066 449.916707 227.254962 425.746466 222.580857 431.098874 217.906753 441.141526 213.232648 467.227174 208.558544 434.468523 203.884439 437.635434 199.210335 444.768786 194.536230 449.487152 189.862126 443.642558 185.188021 481.066305 180.513917 483.240694 175.839812 442.049783 171.165708 415.857947 166.491603 454.849550 161.817499 390.906433 157.143394 400.347986 152.469289 407.789613 147.795185 433.354590 143.121080 338.324500 138.446976 388.834141 133.772871 300.106428 129.098767 422.897402 124.424662 356.779869 119.750558 305.688925 115.076453 416.806319 110.402349 407.181071 105.728244 391.280186 101.054140 405.518717 96.380035 388.857915 91.705931 379.044191 87.031826 369.741339 82.357722 301.933322 77.683617 264.344837 73.009513 357.741363 68.335408 332.546235 63.661304 318.456166 58.987199 340.427430 54.313095 336.502149 49.638990 247.873973 44.964885 262.574668 40.290781 71.145995 35.616676 322.158613 30.942572 380.237088 26.268467 347.437409 21.594363 378.068933 16.920258 373.265753 12.246154 481.739273\"/></g><g class=\"series serie-17 color-17\"><path class=\"line reactive\" d=\"M12.246154 476.818883 L16.920258 354.062237 21.594363 363.641510 26.268467 328.947629 30.942572 367.274653 35.616676 302.606656 40.290781 50.222657 44.964885 245.405486 49.638990 234.463625 54.313095 316.315154 58.987199 326.628939 63.661304 304.482232 68.335408 320.471111 73.009513 336.348102 77.683617 213.152381 82.357722 261.994597 87.031826 352.228591 91.705931 362.346864 96.380035 376.371728 101.054140 395.188104 105.728244 380.277927 110.402349 397.964944 115.076453 407.520040 119.750558 292.602503 124.424662 345.373562 129.098767 413.845618 133.772871 285.287327 138.446976 378.946367 143.121080 330.647342 147.795185 422.394571 152.469289 396.754952 157.143394 391.465732 161.817499 383.612236 166.491603 448.339560 171.165708 407.281753 175.839812 434.344500 180.513917 479.533992 185.188021 477.927147 189.862126 438.371228 194.536230 428.356426 199.210335 437.914998 203.884439 426.924288 208.558544 427.524148 213.232648 463.814783 217.906753 436.495833 222.580857 425.454600 227.254962 417.892642 231.929066 442.998742 236.603171 434.827402 241.277275 433.531447 245.951380 449.775109 250.625484 462.312689 255.299589 473.428602 259.973693 464.999283 264.647798 459.942381 269.321903 461.221087 273.996007 435.236881 278.670112 466.376497 283.344216 477.800790 288.018321 473.792305 292.692425 461.566442 297.366530 483.422029 302.040634 464.051293 306.714739 472.385048 311.388843 483.882317 316.062948 487.921321 320.737052 475.662054 325.411157 478.319838 330.085261 424.784178 334.759366 372.217124 339.433470 328.422275 344.107575 326.365144 348.781679 103.428414 353.455784 161.388951 358.129888 157.787740 362.803993 138.305413 367.478097 258.734378 372.152202 230.953385 376.826307 253.336115 381.500411 298.674325 386.174516 309.334706 390.848620 310.061840 395.522725 281.599865 400.196829 210.195042 404.870934 35.199380 409.545038 196.736230 414.219143 218.435266 418.893247 241.217789 423.567352 148.187665 428.241456 200.873890 432.915561 260.277339 437.589665 220.762612 442.263770 296.031683 446.937874 376.815589 451.611979 375.517431 456.286083 406.052309 460.960188 397.618141 465.634292 374.302386 470.308397 256.232130 474.982501 345.471076 479.656606 352.741751 484.330711 292.831581 489.004815 340.764671 493.678920 382.291907 498.353024 375.651052 503.027129 409.500158 507.701233 394.183728 512.375338 409.235628 517.049442 333.587229 521.723547 340.119674 526.397651 403.181721 531.071756 414.968040 535.745860 413.486098 540.419965 405.383738 545.094069 414.864439 549.768174 415.458418 554.442278 399.233683 559.116383 422.123612 563.790487 410.455511 568.464592 433.830354 573.138696 435.916984 577.812801 436.723299 582.486905 362.054329 587.161010 379.037476 591.835115 423.311101 596.509219 430.654402 601.183324 429.277272 605.857428 425.652812 610.531533 399.121424 615.205637 341.658050 619.879742 363.701814 624.553846 463.468406 624.553846 474.434551 619.879742 391.509152 615.205637 362.004781 610.531533 413.577814 605.857428 433.424834 601.183324 431.978106 596.509219 435.632645 591.835115 428.332607 587.161010 392.001041 582.486905 381.069923 577.812801 438.600939 573.138696 438.298318 568.464592 434.836755 563.790487 415.396596 559.116383 425.400018 554.442278 403.475250 549.768174 416.724309 545.094069 416.681370 540.419965 407.440703 535.745860 415.373612 531.071756 418.652496 526.397651 405.688715 521.723547 345.427595 517.049442 336.779175 512.375338 411.503734 507.701233 397.540646 503.027129 411.960876 498.353024 377.803117 493.678920 385.008630 489.004815 344.372588 484.330711 301.187040 479.656606 357.183282 474.982501 350.123644 470.308397 259.467089 465.634292 376.768354 460.960188 401.659815 456.286083 409.140338 451.611979 379.329288 446.937874 379.253260 442.263770 300.148747 437.589665 228.773946 432.915561 265.445509 428.241456 214.538204 423.567352 165.830829 418.893247 244.931023 414.219143 222.325295 409.545038 200.305161 404.870934 39.178147 400.196829 213.519818 395.522725 284.015942 390.848620 312.195352 386.174516 311.293627 381.500411 300.952266 376.826307 258.467987 372.152202 234.758438 367.478097 262.118389 362.803993 147.008262 358.129888 166.263676 353.455784 167.397444 348.781679 117.019091 344.107575 336.500577 339.433470 341.219734 334.759366 377.072211 330.085261 428.170155 325.411157 479.523620 320.737052 476.620013 316.062948 489.834523 311.388843 484.760123 306.714739 474.883277 302.040634 466.682652 297.366530 485.128542 292.692425 463.975193 288.018321 475.793584 283.344216 478.850003 278.670112 469.936609 273.996007 438.505993 269.321903 464.195104 264.647798 462.625629 259.973693 467.107073 255.299589 474.638275 250.625484 464.382071 245.951380 452.229760 241.277275 436.683775 236.603171 437.810041 231.929066 446.863856 227.254962 422.534072 222.580857 427.602815 217.906753 438.216745 213.232648 465.391582 208.558544 430.719037 203.884439 431.561661 199.210335 441.766234 194.536230 443.576113 189.862126 439.694555 185.188021 478.982435 180.513917 480.983832 175.839812 438.099634 171.165708 413.289027 166.491603 451.143714 161.817499 386.665223 157.143394 395.227395 152.469289 401.897376 147.795185 426.511063 143.121080 333.010765 138.446976 383.752902 133.772871 291.634943 129.098767 417.918977 124.424662 350.157569 119.750558 296.205365 115.076453 410.061791 110.402349 402.836988 105.728244 384.738977 101.054140 399.567801 96.380035 380.189306 91.705931 370.998093 87.031826 363.798403 82.357722 290.502786 77.683617 255.159532 73.009513 348.568921 68.335408 324.040765 63.661304 309.937042 58.987199 332.950360 54.313095 323.994704 49.638990 237.831348 44.964885 249.879600 40.290781 58.684828 35.616676 310.937969 30.942572 371.202527 26.268467 336.223548 21.594363 369.182398 16.920258 365.698367 12.246154 479.861790\"/></g><g class=\"series serie-18 color-18\"><path class=\"line reactive\" d=\"M12.246154 475.038123 L16.920258 349.730572 21.594363 359.709539 26.268467 323.344628 30.942572 363.241061 35.616676 298.328776 40.290781 36.345550 44.964885 240.155144 49.638990 229.319003 54.313095 312.542952 58.987199 324.196160 63.661304 301.594111 68.335408 316.883107 73.009513 333.739419 77.683617 209.159937 82.357722 257.802938 87.031826 349.005368 91.705931 357.257321 96.380035 372.298094 101.054140 391.295997 105.728244 377.053972 110.402349 396.336116 115.076453 401.567395 119.750558 288.024770 124.424662 342.972964 129.098767 411.368298 133.772871 276.080013 138.446976 374.501357 143.121080 327.276542 147.795185 418.658054 152.469289 393.862212 157.143394 388.090783 161.817499 381.295656 166.491603 447.152384 171.165708 404.842256 175.839812 430.914870 180.513917 475.809930 185.188021 476.662395 189.862126 433.464965 194.536230 426.594833 199.210335 435.784728 203.884439 422.596828 208.558544 424.691933 213.232648 462.233751 217.906753 434.906982 222.580857 419.934399 227.254962 408.855319 231.929066 435.155595 236.603171 432.139507 241.277275 430.349288 245.951380 448.552469 250.625484 459.797543 255.299589 469.622883 259.973693 463.840360 264.647798 457.939933 269.321903 458.352637 273.996007 433.926279 278.670112 465.130019 283.344216 471.472139 288.018321 469.572458 292.692425 458.634721 297.366530 482.009031 302.040634 461.734314 306.714739 467.828294 311.388843 482.205410 316.062948 485.646104 320.737052 473.408518 325.411157 475.729204 330.085261 422.886808 334.759366 368.769388 339.433470 326.291793 344.107575 325.039834 348.781679 97.707840 353.455784 158.098410 358.129888 152.728579 362.803993 134.956908 367.478097 252.387147 372.152202 196.089551 376.826307 246.707342 381.500411 294.017939 386.174516 305.680984 390.848620 303.278565 395.522725 274.804065 400.196829 206.419915 404.870934 29.322974 409.545038 185.792828 414.219143 211.256128 418.893247 236.751994 423.567352 141.991240 428.241456 193.663411 432.915561 256.279393 437.589665 215.502503 442.263770 290.959710 446.937874 372.297207 451.611979 373.072678 456.286083 403.981902 460.960188 396.010634 465.634292 370.380961 470.308397 252.267194 474.982501 341.861098 479.656606 347.518060 484.330711 287.976348 489.004815 336.467342 493.678920 374.398645 498.353024 370.344943 503.027129 405.419430 507.701233 390.885282 512.375338 397.751063 517.049442 329.138199 521.723547 335.814964 526.397651 401.187236 531.071756 412.990785 535.745860 411.040487 540.419965 401.866354 545.094069 411.185374 549.768174 413.374162 554.442278 395.568276 559.116383 420.118555 563.790487 408.460409 568.464592 430.451548 573.138696 433.794554 577.812801 435.290879 582.486905 359.547168 587.161010 376.479285 591.835115 420.881553 596.509219 427.578482 601.183324 426.722251 605.857428 423.366099 610.531533 396.051403 615.205637 339.789810 619.879742 360.757749 624.553846 462.641999 624.553846 463.468406 619.879742 363.701814 615.205637 341.658050 610.531533 399.121424 605.857428 425.652812 601.183324 429.277272 596.509219 430.654402 591.835115 423.311101 587.161010 379.037476 582.486905 362.054329 577.812801 436.723299 573.138696 435.916984 568.464592 433.830354 563.790487 410.455511 559.116383 422.123612 554.442278 399.233683 549.768174 415.458418 545.094069 414.864439 540.419965 405.383738 535.745860 413.486098 531.071756 414.968040 526.397651 403.181721 521.723547 340.119674 517.049442 333.587229 512.375338 409.235628 507.701233 394.183728 503.027129 409.500158 498.353024 375.651052 493.678920 382.291907 489.004815 340.764671 484.330711 292.831581 479.656606 352.741751 474.982501 345.471076 470.308397 256.232130 465.634292 374.302386 460.960188 397.618141 456.286083 406.052309 451.611979 375.517431 446.937874 376.815589 442.263770 296.031683 437.589665 220.762612 432.915561 260.277339 428.241456 200.873890 423.567352 148.187665 418.893247 241.217789 414.219143 218.435266 409.545038 196.736230 404.870934 35.199380 400.196829 210.195042 395.522725 281.599865 390.848620 310.061840 386.174516 309.334706 381.500411 298.674325 376.826307 253.336115 372.152202 230.953385 367.478097 258.734378 362.803993 138.305413 358.129888 157.787740 353.455784 161.388951 348.781679 103.428414 344.107575 326.365144 339.433470 328.422275 334.759366 372.217124 330.085261 424.784178 325.411157 478.319838 320.737052 475.662054 316.062948 487.921321 311.388843 483.882317 306.714739 472.385048 302.040634 464.051293 297.366530 483.422029 292.692425 461.566442 288.018321 473.792305 283.344216 477.800790 278.670112 466.376497 273.996007 435.236881 269.321903 461.221087 264.647798 459.942381 259.973693 464.999283 255.299589 473.428602 250.625484 462.312689 245.951380 449.775109 241.277275 433.531447 236.603171 434.827402 231.929066 442.998742 227.254962 417.892642 222.580857 425.454600 217.906753 436.495833 213.232648 463.814783 208.558544 427.524148 203.884439 426.924288 199.210335 437.914998 194.536230 428.356426 189.862126 438.371228 185.188021 477.927147 180.513917 479.533992 175.839812 434.344500 171.165708 407.281753 166.491603 448.339560 161.817499 383.612236 157.143394 391.465732 152.469289 396.754952 147.795185 422.394571 143.121080 330.647342 138.446976 378.946367 133.772871 285.287327 129.098767 413.845618 124.424662 345.373562 119.750558 292.602503 115.076453 407.520040 110.402349 397.964944 105.728244 380.277927 101.054140 395.188104 96.380035 376.371728 91.705931 362.346864 87.031826 352.228591 82.357722 261.994597 77.683617 213.152381 73.009513 336.348102 68.335408 320.471111 63.661304 304.482232 58.987199 326.628939 54.313095 316.315154 49.638990 234.463625 44.964885 245.405486 40.290781 50.222657 35.616676 302.606656 30.942572 367.274653 26.268467 328.947629 21.594363 363.641510 16.920258 354.062237 12.246154 476.818883\"/></g><g class=\"series serie-19 color-19\"><path class=\"line reactive\" d=\"M12.246154 474.123503 L16.920258 345.834087 21.594363 355.392908 26.268467 319.673109 30.942572 359.417673 35.616676 292.505942 40.290781 29.889964 44.964885 235.153024 49.638990 222.575632 54.313095 307.095717 58.987199 319.170016 63.661304 297.033804 68.335408 313.132866 73.009513 329.231928 77.683617 203.961090 82.357722 253.264471 87.031826 344.324802 91.705931 351.871239 96.380035 368.473397 101.054140 387.591037 105.728244 369.982685 110.402349 381.050791 115.076453 396.143664 119.750558 278.419264 124.424662 336.275273 129.098767 406.205578 133.772871 269.363535 138.446976 370.988878 143.121080 324.200972 147.795185 415.764398 152.469289 390.609610 157.143394 383.566270 161.817499 377.529120 166.491603 444.440855 171.165708 401.677716 175.839812 427.335599 180.513917 474.123504 185.188021 475.632790 189.862126 429.347982 194.536230 422.807738 199.210335 432.869652 203.884439 419.286068 208.558544 421.801547 213.232648 460.539917 217.906753 432.869652 222.580857 417.776780 227.254962 406.205576 231.929066 431.863461 236.603171 426.832504 241.277275 428.341791 245.951380 444.943951 250.625484 458.024439 255.299589 466.073971 259.973693 461.546110 264.647798 455.508962 269.321903 456.012057 273.996007 430.857269 278.670112 462.049206 283.344216 468.086356 288.018321 467.080163 292.692425 456.515152 297.366530 480.160653 302.040634 458.024441 306.714739 466.577068 311.388843 480.160652 316.062948 484.185419 320.737052 471.104930 325.411157 474.626600 330.085261 421.801546 334.759366 364.448631 339.433470 314.642151 344.107575 305.083334 348.781679 43.976649 353.455784 122.962681 358.129888 108.372893 362.803993 103.845038 367.478097 237.668505 372.152202 182.327973 376.826307 235.656121 381.500411 284.456407 386.174516 293.009036 390.848620 294.015229 395.522725 264.835673 400.196829 195.408461 404.870934 10.269231 409.545038 163.210334 414.219143 193.899177 418.893247 221.569440 423.567352 110.888374 428.241456 158.179378 432.915561 243.202559 437.589665 197.420845 442.263770 281.437832 446.937874 362.939342 451.611979 363.442441 456.286083 397.149856 460.960188 386.584844 465.634292 362.939344 470.308397 242.196370 474.982501 332.753602 479.656606 335.772174 484.330711 274.394497 489.004815 328.225738 493.678920 367.467207 498.353024 365.957918 503.027129 397.149856 507.701233 386.081748 512.375338 393.125089 517.049442 323.194778 521.723547 317.157632 526.397651 395.137473 531.071756 403.690098 535.745860 404.696293 540.419965 396.143663 545.094069 406.205579 549.768174 405.199387 554.442278 386.081751 559.116383 413.248918 563.790487 401.677716 568.464592 425.826312 573.138696 427.838696 577.812801 429.851079 582.486905 355.896005 587.161010 370.485780 591.835115 415.261302 596.509219 422.304642 601.183324 421.298452 605.857428 417.273683 610.531533 391.615801 615.205637 333.256697 619.879742 354.386717 624.553846 457.521344 624.553846 462.641999 619.879742 360.757749 615.205637 339.789810 610.531533 396.051403 605.857428 423.366099 601.183324 426.722251 596.509219 427.578482 591.835115 420.881553 587.161010 376.479285 582.486905 359.547168 577.812801 435.290879 573.138696 433.794554 568.464592 430.451548 563.790487 408.460409 559.116383 420.118555 554.442278 395.568276 549.768174 413.374162 545.094069 411.185374 540.419965 401.866354 535.745860 411.040487 531.071756 412.990785 526.397651 401.187236 521.723547 335.814964 517.049442 329.138199 512.375338 397.751063 507.701233 390.885282 503.027129 405.419430 498.353024 370.344943 493.678920 374.398645 489.004815 336.467342 484.330711 287.976348 479.656606 347.518060 474.982501 341.861098 470.308397 252.267194 465.634292 370.380961 460.960188 396.010634 456.286083 403.981902 451.611979 373.072678 446.937874 372.297207 442.263770 290.959710 437.589665 215.502503 432.915561 256.279393 428.241456 193.663411 423.567352 141.991240 418.893247 236.751994 414.219143 211.256128 409.545038 185.792828 404.870934 29.322974 400.196829 206.419915 395.522725 274.804065 390.848620 303.278565 386.174516 305.680984 381.500411 294.017939 376.826307 246.707342 372.152202 196.089551 367.478097 252.387147 362.803993 134.956908 358.129888 152.728579 353.455784 158.098410 348.781679 97.707840 344.107575 325.039834 339.433470 326.291793 334.759366 368.769388 330.085261 422.886808 325.411157 475.729204 320.737052 473.408518 316.062948 485.646104 311.388843 482.205410 306.714739 467.828294 302.040634 461.734314 297.366530 482.009031 292.692425 458.634721 288.018321 469.572458 283.344216 471.472139 278.670112 465.130019 273.996007 433.926279 269.321903 458.352637 264.647798 457.939933 259.973693 463.840360 255.299589 469.622883 250.625484 459.797543 245.951380 448.552469 241.277275 430.349288 236.603171 432.139507 231.929066 435.155595 227.254962 408.855319 222.580857 419.934399 217.906753 434.906982 213.232648 462.233751 208.558544 424.691933 203.884439 422.596828 199.210335 435.784728 194.536230 426.594833 189.862126 433.464965 185.188021 476.662395 180.513917 475.809930 175.839812 430.914870 171.165708 404.842256 166.491603 447.152384 161.817499 381.295656 157.143394 388.090783 152.469289 393.862212 147.795185 418.658054 143.121080 327.276542 138.446976 374.501357 133.772871 276.080013 129.098767 411.368298 124.424662 342.972964 119.750558 288.024770 115.076453 401.567395 110.402349 396.336116 105.728244 377.053972 101.054140 391.295997 96.380035 372.298094 91.705931 357.257321 87.031826 349.005368 82.357722 257.802938 77.683617 209.159937 73.009513 333.739419 68.335408 316.883107 63.661304 301.594111 58.987199 324.196160 54.313095 312.542952 49.638990 229.319003 44.964885 240.155144 40.290781 36.345550 35.616676 298.328776 30.942572 363.241061 26.268467 323.344628 21.594363 359.709539 16.920258 349.730572 12.246154 475.038123\"/></g></g><g class=\"titles\"><text class=\"title plot_title\" x=\"400.0\" y=\"26\">Topics</text></g><g class=\"plot overlay\" transform=\"translate(143, 46)\"><g class=\"series serie-0 color-0\"/><g class=\"series serie-1 color-1\"/><g class=\"series serie-2 color-2\"/><g class=\"series serie-3 color-3\"/><g class=\"series serie-4 color-4\"/><g class=\"series serie-5 color-5\"/><g class=\"series serie-6 color-6\"/><g class=\"series serie-7 color-7\"/><g class=\"series serie-8 color-8\"/><g class=\"series serie-9 color-9\"/><g class=\"series serie-10 color-10\"/><g class=\"series serie-11 color-11\"/><g class=\"series serie-12 color-12\"/><g class=\"series serie-13 color-13\"/><g class=\"series serie-14 color-14\"/><g class=\"series serie-15 color-15\"/><g class=\"series serie-16 color-16\"/><g class=\"series serie-17 color-17\"/><g class=\"series serie-18 color-18\"/><g class=\"series serie-19 color-19\"/></g><g class=\"plot text-overlay\" transform=\"translate(143, 46)\"><g class=\"series serie-0 color-0\"/><g class=\"series serie-1 color-1\"/><g class=\"series serie-2 color-2\"/><g class=\"series serie-3 color-3\"/><g class=\"series serie-4 color-4\"/><g class=\"series serie-5 color-5\"/><g class=\"series serie-6 color-6\"/><g class=\"series serie-7 color-7\"/><g class=\"series serie-8 color-8\"/><g class=\"series serie-9 color-9\"/><g class=\"series serie-10 color-10\"/><g class=\"series serie-11 color-11\"/><g class=\"series serie-12 color-12\"/><g class=\"series serie-13 color-13\"/><g class=\"series serie-14 color-14\"/><g class=\"series serie-15 color-15\"/><g class=\"series serie-16 color-16\"/><g class=\"series serie-17 color-17\"/><g class=\"series serie-18 color-18\"/><g class=\"series serie-19 color-19\"/></g><g class=\"plot tooltip-overlay\" transform=\"translate(143, 46)\"><g class=\"tooltip\" style=\"opacity: 0\" transform=\"translate(0 0)\"><rect class=\"tooltip-box\" height=\"0\" rx=\"0\" ry=\"0\" width=\"0\"/><g class=\"text\"/></g></g><g class=\"legends\" transform=\"translate(10, 56)\"><g class=\"legend reactive activate-serie\" id=\"activate-serie-0\"><rect class=\"color-0 reactive\" height=\"12\" width=\"12\" x=\"0.0\" y=\"1.0\"/><text x=\"17.0\" y=\"11.2\">topic_0</text></g><g class=\"legend reactive activate-serie\" id=\"activate-serie-1\"><rect class=\"color-1 reactive\" height=\"12\" width=\"12\" x=\"0.0\" y=\"22.0\"/><text x=\"17.0\" y=\"32.2\">topic_1</text></g><g class=\"legend reactive activate-serie\" id=\"activate-serie-2\"><rect class=\"color-2 reactive\" height=\"12\" width=\"12\" x=\"0.0\" y=\"43.0\"/><text x=\"17.0\" y=\"53.2\">topic_2</text></g><g class=\"legend reactive activate-serie\" id=\"activate-serie-3\"><rect class=\"color-3 reactive\" height=\"12\" width=\"12\" x=\"0.0\" y=\"64.0\"/><text x=\"17.0\" y=\"74.2\">topic_3</text></g><g class=\"legend reactive activate-serie\" id=\"activate-serie-4\"><rect class=\"color-4 reactive\" height=\"12\" width=\"12\" x=\"0.0\" y=\"85.0\"/><text x=\"17.0\" y=\"95.2\">topic_4</text></g><g class=\"legend reactive activate-serie\" id=\"activate-serie-5\"><rect class=\"color-5 reactive\" height=\"12\" width=\"12\" x=\"0.0\" y=\"106.0\"/><text x=\"17.0\" y=\"116.2\">topic_5</text></g><g class=\"legend reactive activate-serie\" id=\"activate-serie-6\"><rect class=\"color-6 reactive\" height=\"12\" width=\"12\" x=\"0.0\" y=\"127.0\"/><text x=\"17.0\" y=\"137.2\">topic_6</text></g><g class=\"legend reactive activate-serie\" id=\"activate-serie-7\"><rect class=\"color-7 reactive\" height=\"12\" width=\"12\" x=\"0.0\" y=\"148.0\"/><text x=\"17.0\" y=\"158.2\">topic_7</text></g><g class=\"legend reactive activate-serie\" id=\"activate-serie-8\"><rect class=\"color-8 reactive\" height=\"12\" width=\"12\" x=\"0.0\" y=\"169.0\"/><text x=\"17.0\" y=\"179.2\">topic_8</text></g><g class=\"legend reactive activate-serie\" id=\"activate-serie-9\"><rect class=\"color-9 reactive\" height=\"12\" width=\"12\" x=\"0.0\" y=\"190.0\"/><text x=\"17.0\" y=\"200.2\">topic_9</text></g><g class=\"legend reactive activate-serie\" id=\"activate-serie-10\"><rect class=\"color-10 reactive\" height=\"12\" width=\"12\" x=\"0.0\" y=\"211.0\"/><text x=\"17.0\" y=\"221.2\">topic_10</text></g><g class=\"legend reactive activate-serie\" id=\"activate-serie-11\"><rect class=\"color-11 reactive\" height=\"12\" width=\"12\" x=\"0.0\" y=\"232.0\"/><text x=\"17.0\" y=\"242.2\">topic_11</text></g><g class=\"legend reactive activate-serie\" id=\"activate-serie-12\"><rect class=\"color-12 reactive\" height=\"12\" width=\"12\" x=\"0.0\" y=\"253.0\"/><text x=\"17.0\" y=\"263.2\">topic_12</text></g><g class=\"legend reactive activate-serie\" id=\"activate-serie-13\"><rect class=\"color-13 reactive\" height=\"12\" width=\"12\" x=\"0.0\" y=\"274.0\"/><text x=\"17.0\" y=\"284.2\">topic_13</text></g><g class=\"legend reactive activate-serie\" id=\"activate-serie-14\"><rect class=\"color-14 reactive\" height=\"12\" width=\"12\" x=\"0.0\" y=\"295.0\"/><text x=\"17.0\" y=\"305.2\">topic_14</text></g><g class=\"legend reactive activate-serie\" id=\"activate-serie-15\"><rect class=\"color-15 reactive\" height=\"12\" width=\"12\" x=\"0.0\" y=\"316.0\"/><text x=\"17.0\" y=\"326.2\">topic_15</text></g><g class=\"legend reactive activate-serie\" id=\"activate-serie-16\"><rect class=\"color-16 reactive\" height=\"12\" width=\"12\" x=\"0.0\" y=\"337.0\"/><text x=\"17.0\" y=\"347.2\">topic_16</text></g><g class=\"legend reactive activate-serie\" id=\"activate-serie-17\"><rect class=\"color-17 reactive\" height=\"12\" width=\"12\" x=\"0.0\" y=\"358.0\"/><text x=\"17.0\" y=\"368.2\">topic_17</text></g><g class=\"legend reactive activate-serie\" id=\"activate-serie-18\"><rect class=\"color-18 reactive\" height=\"12\" width=\"12\" x=\"0.0\" y=\"379.0\"/><text x=\"17.0\" y=\"389.2\">topic_18</text></g><g class=\"legend reactive activate-serie\" id=\"activate-serie-19\"><rect class=\"color-19 reactive\" height=\"12\" width=\"12\" x=\"0.0\" y=\"400.0\"/><text x=\"17.0\" y=\"410.2\">topic_19</text></g></g><g class=\"legends\" transform=\"translate(790, 56)\"/></g></svg>\n",
       "    </figure>\n",
       "  </body>\n",
       "</html>\n"
      ],
      "text/plain": [
       "<IPython.core.display.HTML object>"
      ]
     },
     "execution_count": 33,
     "metadata": {},
     "output_type": "execute_result"
    }
   ],
   "source": [
    "line_chart = pygal.StackedLine(fill=True, show_dots=False)\n",
    "line_chart.title = 'Topics'\n",
    "for topic in topics:\n",
    "    line_chart.add(topic, gb[topic].values)\n",
    "    \n",
    "HTML(html_pygal.format(pygal_render=line_chart.render(is_unicode=True)))"
   ]
  },
  {
   "cell_type": "code",
   "execution_count": 34,
   "metadata": {
    "ExecuteTime": {
     "end_time": "2019-02-13T22:57:21.409078Z",
     "start_time": "2019-02-13T22:57:21.349063Z"
    }
   },
   "outputs": [],
   "source": [
    "line_chart.render_to_file(f\"data/visualization/{'-'.join(name_dataset.split('.'))}_pygal.svg\")"
   ]
  },
  {
   "cell_type": "markdown",
   "metadata": {},
   "source": [
    "## joypy"
   ]
  },
  {
   "cell_type": "code",
   "execution_count": 35,
   "metadata": {
    "ExecuteTime": {
     "end_time": "2019-02-13T22:57:21.413858Z",
     "start_time": "2019-02-13T22:57:21.410163Z"
    }
   },
   "outputs": [],
   "source": [
    "import joypy # !pip install joypy"
   ]
  },
  {
   "cell_type": "code",
   "execution_count": 36,
   "metadata": {
    "ExecuteTime": {
     "end_time": "2019-02-13T22:57:21.433676Z",
     "start_time": "2019-02-13T22:57:21.416376Z"
    },
    "scrolled": true
   },
   "outputs": [
    {
     "name": "stdout",
     "output_type": "stream",
     "text": [
      "(45046, 23)\n"
     ]
    },
    {
     "data": {
      "text/html": [
       "<div>\n",
       "<style scoped>\n",
       "    .dataframe tbody tr th:only-of-type {\n",
       "        vertical-align: middle;\n",
       "    }\n",
       "\n",
       "    .dataframe tbody tr th {\n",
       "        vertical-align: top;\n",
       "    }\n",
       "\n",
       "    .dataframe thead th {\n",
       "        text-align: right;\n",
       "    }\n",
       "</style>\n",
       "<table border=\"1\" class=\"dataframe\">\n",
       "  <thead>\n",
       "    <tr style=\"text-align: right;\">\n",
       "      <th></th>\n",
       "      <th>docID</th>\n",
       "      <th>year</th>\n",
       "      <th>month</th>\n",
       "      <th>topic_0</th>\n",
       "      <th>topic_1</th>\n",
       "      <th>topic_2</th>\n",
       "      <th>topic_3</th>\n",
       "      <th>topic_4</th>\n",
       "      <th>topic_5</th>\n",
       "      <th>topic_6</th>\n",
       "      <th>...</th>\n",
       "      <th>topic_10</th>\n",
       "      <th>topic_11</th>\n",
       "      <th>topic_12</th>\n",
       "      <th>topic_13</th>\n",
       "      <th>topic_14</th>\n",
       "      <th>topic_15</th>\n",
       "      <th>topic_16</th>\n",
       "      <th>topic_17</th>\n",
       "      <th>topic_18</th>\n",
       "      <th>topic_19</th>\n",
       "    </tr>\n",
       "  </thead>\n",
       "  <tbody>\n",
       "    <tr>\n",
       "      <th>0</th>\n",
       "      <td>0</td>\n",
       "      <td>2008</td>\n",
       "      <td>2</td>\n",
       "      <td>0.458049</td>\n",
       "      <td>0.000000</td>\n",
       "      <td>0.0</td>\n",
       "      <td>0.005555</td>\n",
       "      <td>0.027092</td>\n",
       "      <td>0.003151</td>\n",
       "      <td>0.059277</td>\n",
       "      <td>...</td>\n",
       "      <td>0.000000</td>\n",
       "      <td>0.128474</td>\n",
       "      <td>0.097935</td>\n",
       "      <td>0.181535</td>\n",
       "      <td>0.00000</td>\n",
       "      <td>0.000000</td>\n",
       "      <td>0.021099</td>\n",
       "      <td>0.000000</td>\n",
       "      <td>0.017833</td>\n",
       "      <td>0.000000</td>\n",
       "    </tr>\n",
       "    <tr>\n",
       "      <th>1</th>\n",
       "      <td>1</td>\n",
       "      <td>2008</td>\n",
       "      <td>2</td>\n",
       "      <td>0.632395</td>\n",
       "      <td>0.000000</td>\n",
       "      <td>0.0</td>\n",
       "      <td>0.000000</td>\n",
       "      <td>0.000000</td>\n",
       "      <td>0.000000</td>\n",
       "      <td>0.000000</td>\n",
       "      <td>...</td>\n",
       "      <td>0.000000</td>\n",
       "      <td>0.000000</td>\n",
       "      <td>0.088573</td>\n",
       "      <td>0.000000</td>\n",
       "      <td>0.00000</td>\n",
       "      <td>0.000000</td>\n",
       "      <td>0.000000</td>\n",
       "      <td>0.000000</td>\n",
       "      <td>0.000000</td>\n",
       "      <td>0.000000</td>\n",
       "    </tr>\n",
       "    <tr>\n",
       "      <th>2</th>\n",
       "      <td>2</td>\n",
       "      <td>2008</td>\n",
       "      <td>2</td>\n",
       "      <td>0.036397</td>\n",
       "      <td>0.000000</td>\n",
       "      <td>0.0</td>\n",
       "      <td>0.000000</td>\n",
       "      <td>0.000000</td>\n",
       "      <td>0.000000</td>\n",
       "      <td>0.012910</td>\n",
       "      <td>...</td>\n",
       "      <td>0.000000</td>\n",
       "      <td>0.000000</td>\n",
       "      <td>0.167348</td>\n",
       "      <td>0.680242</td>\n",
       "      <td>0.00000</td>\n",
       "      <td>0.000000</td>\n",
       "      <td>0.000000</td>\n",
       "      <td>0.000000</td>\n",
       "      <td>0.000000</td>\n",
       "      <td>0.103104</td>\n",
       "    </tr>\n",
       "    <tr>\n",
       "      <th>3</th>\n",
       "      <td>3</td>\n",
       "      <td>2008</td>\n",
       "      <td>2</td>\n",
       "      <td>0.000000</td>\n",
       "      <td>0.054927</td>\n",
       "      <td>0.0</td>\n",
       "      <td>0.000000</td>\n",
       "      <td>0.000000</td>\n",
       "      <td>0.000000</td>\n",
       "      <td>0.000000</td>\n",
       "      <td>...</td>\n",
       "      <td>0.000000</td>\n",
       "      <td>0.153039</td>\n",
       "      <td>0.000000</td>\n",
       "      <td>0.128450</td>\n",
       "      <td>0.04937</td>\n",
       "      <td>0.000000</td>\n",
       "      <td>0.000000</td>\n",
       "      <td>0.000000</td>\n",
       "      <td>0.000000</td>\n",
       "      <td>0.000000</td>\n",
       "    </tr>\n",
       "    <tr>\n",
       "      <th>4</th>\n",
       "      <td>4</td>\n",
       "      <td>2008</td>\n",
       "      <td>2</td>\n",
       "      <td>0.000000</td>\n",
       "      <td>0.000000</td>\n",
       "      <td>0.0</td>\n",
       "      <td>0.000000</td>\n",
       "      <td>0.000000</td>\n",
       "      <td>0.000000</td>\n",
       "      <td>0.000000</td>\n",
       "      <td>...</td>\n",
       "      <td>0.233583</td>\n",
       "      <td>0.416360</td>\n",
       "      <td>0.000000</td>\n",
       "      <td>0.000000</td>\n",
       "      <td>0.00000</td>\n",
       "      <td>0.072046</td>\n",
       "      <td>0.047714</td>\n",
       "      <td>0.030706</td>\n",
       "      <td>0.000000</td>\n",
       "      <td>0.007727</td>\n",
       "    </tr>\n",
       "  </tbody>\n",
       "</table>\n",
       "<p>5 rows × 23 columns</p>\n",
       "</div>"
      ],
      "text/plain": [
       "   docID  year  month   topic_0   topic_1  topic_2   topic_3   topic_4  \\\n",
       "0      0  2008      2  0.458049  0.000000      0.0  0.005555  0.027092   \n",
       "1      1  2008      2  0.632395  0.000000      0.0  0.000000  0.000000   \n",
       "2      2  2008      2  0.036397  0.000000      0.0  0.000000  0.000000   \n",
       "3      3  2008      2  0.000000  0.054927      0.0  0.000000  0.000000   \n",
       "4      4  2008      2  0.000000  0.000000      0.0  0.000000  0.000000   \n",
       "\n",
       "    topic_5   topic_6    ...     topic_10  topic_11  topic_12  topic_13  \\\n",
       "0  0.003151  0.059277    ...     0.000000  0.128474  0.097935  0.181535   \n",
       "1  0.000000  0.000000    ...     0.000000  0.000000  0.088573  0.000000   \n",
       "2  0.000000  0.012910    ...     0.000000  0.000000  0.167348  0.680242   \n",
       "3  0.000000  0.000000    ...     0.000000  0.153039  0.000000  0.128450   \n",
       "4  0.000000  0.000000    ...     0.233583  0.416360  0.000000  0.000000   \n",
       "\n",
       "   topic_14  topic_15  topic_16  topic_17  topic_18  topic_19  \n",
       "0   0.00000  0.000000  0.021099  0.000000  0.017833  0.000000  \n",
       "1   0.00000  0.000000  0.000000  0.000000  0.000000  0.000000  \n",
       "2   0.00000  0.000000  0.000000  0.000000  0.000000  0.103104  \n",
       "3   0.04937  0.000000  0.000000  0.000000  0.000000  0.000000  \n",
       "4   0.00000  0.072046  0.047714  0.030706  0.000000  0.007727  \n",
       "\n",
       "[5 rows x 23 columns]"
      ]
     },
     "execution_count": 36,
     "metadata": {},
     "output_type": "execute_result"
    }
   ],
   "source": [
    "print(joined.shape)\n",
    "joined.head()"
   ]
  },
  {
   "cell_type": "code",
   "execution_count": 37,
   "metadata": {
    "ExecuteTime": {
     "end_time": "2019-02-13T22:57:21.537973Z",
     "start_time": "2019-02-13T22:57:21.436224Z"
    }
   },
   "outputs": [
    {
     "data": {
      "text/html": [
       "<div>\n",
       "<style scoped>\n",
       "    .dataframe tbody tr th:only-of-type {\n",
       "        vertical-align: middle;\n",
       "    }\n",
       "\n",
       "    .dataframe tbody tr th {\n",
       "        vertical-align: top;\n",
       "    }\n",
       "\n",
       "    .dataframe thead th {\n",
       "        text-align: right;\n",
       "    }\n",
       "</style>\n",
       "<table border=\"1\" class=\"dataframe\">\n",
       "  <thead>\n",
       "    <tr style=\"text-align: right;\">\n",
       "      <th></th>\n",
       "      <th>docID</th>\n",
       "      <th>year</th>\n",
       "      <th>month</th>\n",
       "      <th>topic_0</th>\n",
       "      <th>topic_1</th>\n",
       "      <th>topic_2</th>\n",
       "      <th>topic_3</th>\n",
       "      <th>topic_4</th>\n",
       "      <th>topic_5</th>\n",
       "      <th>topic_6</th>\n",
       "      <th>...</th>\n",
       "      <th>topic_11</th>\n",
       "      <th>topic_12</th>\n",
       "      <th>topic_13</th>\n",
       "      <th>topic_14</th>\n",
       "      <th>topic_15</th>\n",
       "      <th>topic_16</th>\n",
       "      <th>topic_17</th>\n",
       "      <th>topic_18</th>\n",
       "      <th>topic_19</th>\n",
       "      <th>date</th>\n",
       "    </tr>\n",
       "  </thead>\n",
       "  <tbody>\n",
       "    <tr>\n",
       "      <th>0</th>\n",
       "      <td>0</td>\n",
       "      <td>2008</td>\n",
       "      <td>2</td>\n",
       "      <td>0.458049</td>\n",
       "      <td>0.000000</td>\n",
       "      <td>0.0</td>\n",
       "      <td>0.005555</td>\n",
       "      <td>0.027092</td>\n",
       "      <td>0.003151</td>\n",
       "      <td>0.059277</td>\n",
       "      <td>...</td>\n",
       "      <td>0.128474</td>\n",
       "      <td>0.097935</td>\n",
       "      <td>0.181535</td>\n",
       "      <td>0.00000</td>\n",
       "      <td>0.000000</td>\n",
       "      <td>0.021099</td>\n",
       "      <td>0.000000</td>\n",
       "      <td>0.017833</td>\n",
       "      <td>0.000000</td>\n",
       "      <td>2008-02-01</td>\n",
       "    </tr>\n",
       "    <tr>\n",
       "      <th>1</th>\n",
       "      <td>1</td>\n",
       "      <td>2008</td>\n",
       "      <td>2</td>\n",
       "      <td>0.632395</td>\n",
       "      <td>0.000000</td>\n",
       "      <td>0.0</td>\n",
       "      <td>0.000000</td>\n",
       "      <td>0.000000</td>\n",
       "      <td>0.000000</td>\n",
       "      <td>0.000000</td>\n",
       "      <td>...</td>\n",
       "      <td>0.000000</td>\n",
       "      <td>0.088573</td>\n",
       "      <td>0.000000</td>\n",
       "      <td>0.00000</td>\n",
       "      <td>0.000000</td>\n",
       "      <td>0.000000</td>\n",
       "      <td>0.000000</td>\n",
       "      <td>0.000000</td>\n",
       "      <td>0.000000</td>\n",
       "      <td>2008-02-01</td>\n",
       "    </tr>\n",
       "    <tr>\n",
       "      <th>2</th>\n",
       "      <td>2</td>\n",
       "      <td>2008</td>\n",
       "      <td>2</td>\n",
       "      <td>0.036397</td>\n",
       "      <td>0.000000</td>\n",
       "      <td>0.0</td>\n",
       "      <td>0.000000</td>\n",
       "      <td>0.000000</td>\n",
       "      <td>0.000000</td>\n",
       "      <td>0.012910</td>\n",
       "      <td>...</td>\n",
       "      <td>0.000000</td>\n",
       "      <td>0.167348</td>\n",
       "      <td>0.680242</td>\n",
       "      <td>0.00000</td>\n",
       "      <td>0.000000</td>\n",
       "      <td>0.000000</td>\n",
       "      <td>0.000000</td>\n",
       "      <td>0.000000</td>\n",
       "      <td>0.103104</td>\n",
       "      <td>2008-02-01</td>\n",
       "    </tr>\n",
       "    <tr>\n",
       "      <th>3</th>\n",
       "      <td>3</td>\n",
       "      <td>2008</td>\n",
       "      <td>2</td>\n",
       "      <td>0.000000</td>\n",
       "      <td>0.054927</td>\n",
       "      <td>0.0</td>\n",
       "      <td>0.000000</td>\n",
       "      <td>0.000000</td>\n",
       "      <td>0.000000</td>\n",
       "      <td>0.000000</td>\n",
       "      <td>...</td>\n",
       "      <td>0.153039</td>\n",
       "      <td>0.000000</td>\n",
       "      <td>0.128450</td>\n",
       "      <td>0.04937</td>\n",
       "      <td>0.000000</td>\n",
       "      <td>0.000000</td>\n",
       "      <td>0.000000</td>\n",
       "      <td>0.000000</td>\n",
       "      <td>0.000000</td>\n",
       "      <td>2008-02-01</td>\n",
       "    </tr>\n",
       "    <tr>\n",
       "      <th>4</th>\n",
       "      <td>4</td>\n",
       "      <td>2008</td>\n",
       "      <td>2</td>\n",
       "      <td>0.000000</td>\n",
       "      <td>0.000000</td>\n",
       "      <td>0.0</td>\n",
       "      <td>0.000000</td>\n",
       "      <td>0.000000</td>\n",
       "      <td>0.000000</td>\n",
       "      <td>0.000000</td>\n",
       "      <td>...</td>\n",
       "      <td>0.416360</td>\n",
       "      <td>0.000000</td>\n",
       "      <td>0.000000</td>\n",
       "      <td>0.00000</td>\n",
       "      <td>0.072046</td>\n",
       "      <td>0.047714</td>\n",
       "      <td>0.030706</td>\n",
       "      <td>0.000000</td>\n",
       "      <td>0.007727</td>\n",
       "      <td>2008-02-01</td>\n",
       "    </tr>\n",
       "  </tbody>\n",
       "</table>\n",
       "<p>5 rows × 24 columns</p>\n",
       "</div>"
      ],
      "text/plain": [
       "   docID  year  month   topic_0   topic_1  topic_2   topic_3   topic_4  \\\n",
       "0      0  2008      2  0.458049  0.000000      0.0  0.005555  0.027092   \n",
       "1      1  2008      2  0.632395  0.000000      0.0  0.000000  0.000000   \n",
       "2      2  2008      2  0.036397  0.000000      0.0  0.000000  0.000000   \n",
       "3      3  2008      2  0.000000  0.054927      0.0  0.000000  0.000000   \n",
       "4      4  2008      2  0.000000  0.000000      0.0  0.000000  0.000000   \n",
       "\n",
       "    topic_5   topic_6     ...      topic_11  topic_12  topic_13  topic_14  \\\n",
       "0  0.003151  0.059277     ...      0.128474  0.097935  0.181535   0.00000   \n",
       "1  0.000000  0.000000     ...      0.000000  0.088573  0.000000   0.00000   \n",
       "2  0.000000  0.012910     ...      0.000000  0.167348  0.680242   0.00000   \n",
       "3  0.000000  0.000000     ...      0.153039  0.000000  0.128450   0.04937   \n",
       "4  0.000000  0.000000     ...      0.416360  0.000000  0.000000   0.00000   \n",
       "\n",
       "   topic_15  topic_16  topic_17  topic_18  topic_19        date  \n",
       "0  0.000000  0.021099  0.000000  0.017833  0.000000  2008-02-01  \n",
       "1  0.000000  0.000000  0.000000  0.000000  0.000000  2008-02-01  \n",
       "2  0.000000  0.000000  0.000000  0.000000  0.103104  2008-02-01  \n",
       "3  0.000000  0.000000  0.000000  0.000000  0.000000  2008-02-01  \n",
       "4  0.072046  0.047714  0.030706  0.000000  0.007727  2008-02-01  \n",
       "\n",
       "[5 rows x 24 columns]"
      ]
     },
     "execution_count": 37,
     "metadata": {},
     "output_type": "execute_result"
    }
   ],
   "source": [
    "joined['date'] = ['{}-{:02d}-01'.format(a, b) for a, b in joined[['year', 'month']].values]\n",
    "cols = [c for c in joined.columns if c.startswith('topic')]\n",
    "\n",
    "joined.head()"
   ]
  },
  {
   "cell_type": "code",
   "execution_count": 38,
   "metadata": {
    "ExecuteTime": {
     "end_time": "2019-02-13T22:57:21.587478Z",
     "start_time": "2019-02-13T22:57:21.539071Z"
    }
   },
   "outputs": [
    {
     "data": {
      "text/html": [
       "<div>\n",
       "<style scoped>\n",
       "    .dataframe tbody tr th:only-of-type {\n",
       "        vertical-align: middle;\n",
       "    }\n",
       "\n",
       "    .dataframe tbody tr th {\n",
       "        vertical-align: top;\n",
       "    }\n",
       "\n",
       "    .dataframe thead th {\n",
       "        text-align: right;\n",
       "    }\n",
       "</style>\n",
       "<table border=\"1\" class=\"dataframe\">\n",
       "  <thead>\n",
       "    <tr style=\"text-align: right;\">\n",
       "      <th></th>\n",
       "      <th>date</th>\n",
       "      <th>topic</th>\n",
       "      <th>mentions</th>\n",
       "    </tr>\n",
       "  </thead>\n",
       "  <tbody>\n",
       "    <tr>\n",
       "      <th>0</th>\n",
       "      <td>2008-02-01</td>\n",
       "      <td>topic_0</td>\n",
       "      <td>0.458049</td>\n",
       "    </tr>\n",
       "    <tr>\n",
       "      <th>1</th>\n",
       "      <td>2008-02-01</td>\n",
       "      <td>topic_0</td>\n",
       "      <td>0.632395</td>\n",
       "    </tr>\n",
       "    <tr>\n",
       "      <th>2</th>\n",
       "      <td>2008-02-01</td>\n",
       "      <td>topic_0</td>\n",
       "      <td>0.036397</td>\n",
       "    </tr>\n",
       "    <tr>\n",
       "      <th>7</th>\n",
       "      <td>2008-02-01</td>\n",
       "      <td>topic_0</td>\n",
       "      <td>0.735568</td>\n",
       "    </tr>\n",
       "    <tr>\n",
       "      <th>8</th>\n",
       "      <td>2008-02-01</td>\n",
       "      <td>topic_0</td>\n",
       "      <td>0.002619</td>\n",
       "    </tr>\n",
       "  </tbody>\n",
       "</table>\n",
       "</div>"
      ],
      "text/plain": [
       "         date    topic  mentions\n",
       "0  2008-02-01  topic_0  0.458049\n",
       "1  2008-02-01  topic_0  0.632395\n",
       "2  2008-02-01  topic_0  0.036397\n",
       "7  2008-02-01  topic_0  0.735568\n",
       "8  2008-02-01  topic_0  0.002619"
      ]
     },
     "execution_count": 38,
     "metadata": {},
     "output_type": "execute_result"
    }
   ],
   "source": [
    "dd = joined[cols + ['date']].melt('date', var_name='topic', value_name='mentions')\n",
    "dd = dd[dd['mentions'] > 0]\n",
    "\n",
    "dd.head()"
   ]
  },
  {
   "cell_type": "code",
   "execution_count": 39,
   "metadata": {
    "ExecuteTime": {
     "end_time": "2019-02-13T22:57:21.619643Z",
     "start_time": "2019-02-13T22:57:21.588483Z"
    }
   },
   "outputs": [
    {
     "data": {
      "text/html": [
       "<div>\n",
       "<style scoped>\n",
       "    .dataframe tbody tr th:only-of-type {\n",
       "        vertical-align: middle;\n",
       "    }\n",
       "\n",
       "    .dataframe tbody tr th {\n",
       "        vertical-align: top;\n",
       "    }\n",
       "\n",
       "    .dataframe thead th {\n",
       "        text-align: right;\n",
       "    }\n",
       "</style>\n",
       "<table border=\"1\" class=\"dataframe\">\n",
       "  <thead>\n",
       "    <tr style=\"text-align: right;\">\n",
       "      <th></th>\n",
       "      <th></th>\n",
       "      <th>mentions</th>\n",
       "    </tr>\n",
       "    <tr>\n",
       "      <th>date</th>\n",
       "      <th>topic</th>\n",
       "      <th></th>\n",
       "    </tr>\n",
       "  </thead>\n",
       "  <tbody>\n",
       "    <tr>\n",
       "      <th rowspan=\"5\" valign=\"top\">2008-02-01</th>\n",
       "      <th>topic_0</th>\n",
       "      <td>5.750831</td>\n",
       "    </tr>\n",
       "    <tr>\n",
       "      <th>topic_1</th>\n",
       "      <td>3.028122</td>\n",
       "    </tr>\n",
       "    <tr>\n",
       "      <th>topic_10</th>\n",
       "      <td>7.353676</td>\n",
       "    </tr>\n",
       "    <tr>\n",
       "      <th>topic_11</th>\n",
       "      <td>11.294718</td>\n",
       "    </tr>\n",
       "    <tr>\n",
       "      <th>topic_12</th>\n",
       "      <td>1.386624</td>\n",
       "    </tr>\n",
       "  </tbody>\n",
       "</table>\n",
       "</div>"
      ],
      "text/plain": [
       "                      mentions\n",
       "date       topic              \n",
       "2008-02-01 topic_0    5.750831\n",
       "           topic_1    3.028122\n",
       "           topic_10   7.353676\n",
       "           topic_11  11.294718\n",
       "           topic_12   1.386624"
      ]
     },
     "execution_count": 39,
     "metadata": {},
     "output_type": "execute_result"
    }
   ],
   "source": [
    "dd2 = dd.groupby(['date','topic']).sum()\n",
    "dd2.head()"
   ]
  },
  {
   "cell_type": "code",
   "execution_count": 40,
   "metadata": {
    "ExecuteTime": {
     "end_time": "2019-02-13T22:57:21.627644Z",
     "start_time": "2019-02-13T22:57:21.620748Z"
    }
   },
   "outputs": [
    {
     "data": {
      "text/html": [
       "<div>\n",
       "<style scoped>\n",
       "    .dataframe tbody tr th:only-of-type {\n",
       "        vertical-align: middle;\n",
       "    }\n",
       "\n",
       "    .dataframe tbody tr th {\n",
       "        vertical-align: top;\n",
       "    }\n",
       "\n",
       "    .dataframe thead th {\n",
       "        text-align: right;\n",
       "    }\n",
       "</style>\n",
       "<table border=\"1\" class=\"dataframe\">\n",
       "  <thead>\n",
       "    <tr style=\"text-align: right;\">\n",
       "      <th></th>\n",
       "      <th>date</th>\n",
       "      <th>topic</th>\n",
       "      <th>mentions</th>\n",
       "    </tr>\n",
       "  </thead>\n",
       "  <tbody>\n",
       "    <tr>\n",
       "      <th>0</th>\n",
       "      <td>2008-02-01</td>\n",
       "      <td>topic_0</td>\n",
       "      <td>5.750831</td>\n",
       "    </tr>\n",
       "    <tr>\n",
       "      <th>1</th>\n",
       "      <td>2008-02-01</td>\n",
       "      <td>topic_1</td>\n",
       "      <td>3.028122</td>\n",
       "    </tr>\n",
       "    <tr>\n",
       "      <th>2</th>\n",
       "      <td>2008-02-01</td>\n",
       "      <td>topic_10</td>\n",
       "      <td>7.353676</td>\n",
       "    </tr>\n",
       "    <tr>\n",
       "      <th>3</th>\n",
       "      <td>2008-02-01</td>\n",
       "      <td>topic_11</td>\n",
       "      <td>11.294718</td>\n",
       "    </tr>\n",
       "    <tr>\n",
       "      <th>4</th>\n",
       "      <td>2008-02-01</td>\n",
       "      <td>topic_12</td>\n",
       "      <td>1.386624</td>\n",
       "    </tr>\n",
       "  </tbody>\n",
       "</table>\n",
       "</div>"
      ],
      "text/plain": [
       "         date     topic   mentions\n",
       "0  2008-02-01   topic_0   5.750831\n",
       "1  2008-02-01   topic_1   3.028122\n",
       "2  2008-02-01  topic_10   7.353676\n",
       "3  2008-02-01  topic_11  11.294718\n",
       "4  2008-02-01  topic_12   1.386624"
      ]
     },
     "execution_count": 40,
     "metadata": {},
     "output_type": "execute_result"
    }
   ],
   "source": [
    "dd2=dd2.reset_index()\n",
    "dd2.head()"
   ]
  },
  {
   "cell_type": "code",
   "execution_count": 41,
   "metadata": {
    "ExecuteTime": {
     "end_time": "2019-02-13T22:57:23.141267Z",
     "start_time": "2019-02-13T22:57:21.628676Z"
    }
   },
   "outputs": [
    {
     "data": {
      "image/png": "[encoded data removed]",
      "text/plain": [
       "<Figure size 1440x1440 with 21 Axes>"
      ]
     },
     "metadata": {
      "needs_background": "light"
     },
     "output_type": "display_data"
    }
   ],
   "source": [
    "labels = sorted(joined['date'].unique())\n",
    "fig, axes = joypy.joyplot(dd2, by='topic', column='mentions', figsize=(20, 20),\n",
    "                          xlabelsize=20,ylabelsize=20,\n",
    "                          overlap=0.4, fill=True,\n",
    "                          linecolor=\"k\",linewidth=3,\n",
    "                          kind='values', fade=True, xrot=90,\n",
    "                          x_range=[i for i in range(len(labels))],\n",
    "                          background='white');\n",
    "\n",
    "ticks_labels = {i:t for i, t in enumerate(labels)}\n",
    "axes[-1].set_xticks([k for k, v in ticks_labels.items() if k % 6 == 0])\n",
    "ticks = axes[-1].get_xticks()\n",
    "axes[-1].set_xticklabels([ticks_labels.get(i, 'stop') for i in ticks]);"
   ]
  },
  {
   "cell_type": "code",
   "execution_count": 42,
   "metadata": {
    "ExecuteTime": {
     "end_time": "2019-02-13T22:57:23.437941Z",
     "start_time": "2019-02-13T22:57:23.142416Z"
    }
   },
   "outputs": [],
   "source": [
    "fig.savefig(f\"data/visualization/{'-'.join(name_dataset.split('.'))}_joypy\")"
   ]
  },
  {
   "cell_type": "code",
   "execution_count": null,
   "metadata": {},
   "outputs": [],
   "source": []
  },
  {
   "cell_type": "code",
   "execution_count": null,
   "metadata": {},
   "outputs": [],
   "source": []
  }
 ],
 "metadata": {
  "kernelspec": {
   "display_name": "Python 3",
   "language": "python",
   "name": "python3"
  },
  "language_info": {
   "codemirror_mode": {
    "name": "ipython",
    "version": 3
   },
   "file_extension": ".py",
   "mimetype": "text/x-python",
   "name": "python",
   "nbconvert_exporter": "python",
   "pygments_lexer": "ipython3",
   "version": "3.6.7"
  },
  "varInspector": {
   "cols": {
    "lenName": 16,
    "lenType": 16,
    "lenVar": 40
   },
   "kernels_config": {
    "python": {
     "delete_cmd_postfix": "",
     "delete_cmd_prefix": "del ",
     "library": "var_list.py",
     "varRefreshCmd": "print(var_dic_list())"
    },
    "r": {
     "delete_cmd_postfix": ") ",
     "delete_cmd_prefix": "rm(",
     "library": "var_list.r",
     "varRefreshCmd": "cat(var_dic_list()) "
    }
   },
   "types_to_exclude": [
    "module",
    "function",
    "builtin_function_or_method",
    "instance",
    "_Feature"
   ],
   "window_display": false
  }
 },
 "nbformat": 4,
 "nbformat_minor": 2
}
