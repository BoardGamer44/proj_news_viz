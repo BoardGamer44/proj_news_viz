{
 "cells": [
  {
   "cell_type": "code",
   "execution_count": 1,
   "metadata": {
    "ExecuteTime": {
     "end_time": "2019-02-03T13:21:54.524451Z",
     "start_time": "2019-02-03T13:21:53.526387Z"
    }
   },
   "outputs": [
    {
     "name": "stderr",
     "output_type": "stream",
     "text": [
      "/home/vtrokhymenko/proj_news_viz/env4news/lib/python3.6/site-packages/scipy/sparse/sparsetools.py:21: DeprecationWarning: `scipy.sparse.sparsetools` is deprecated!\n",
      "scipy.sparse.sparsetools is a private module for scipy.sparse, and should not be used.\n",
      "  _deprecated()\n"
     ]
    }
   ],
   "source": [
    "import numpy as np\n",
    "import pandas as pd\n",
    "import os\n",
    "\n",
    "import re\n",
    "from datetime import datetime as time\n",
    "from ast import literal_eval\n",
    "from sklearn.model_selection import train_test_split\n",
    "\n",
    "import artm\n",
    "from gensim.models import Phrases\n",
    "from gensim.models.phrases import Phraser\n",
    "\n",
    "import gc\n",
    "import matplotlib.pyplot as plt\n",
    "%matplotlib inline"
   ]
  },
  {
   "cell_type": "code",
   "execution_count": 2,
   "metadata": {
    "ExecuteTime": {
     "end_time": "2019-02-03T13:21:54.652205Z",
     "start_time": "2019-02-03T13:21:54.533410Z"
    },
    "scrolled": true
   },
   "outputs": [
    {
     "name": "stdout",
     "output_type": "stream",
     "text": [
      "-rw-rw-r-- 1 vtrokhymenko vtrokhymenko 491K Jan 15 18:18 data/69-.paralel.csv.bz2\r\n",
      "-rw-rw-r-- 1 vtrokhymenko vtrokhymenko  48M Jan 15 18:21 data/Russia.csv.bz2\r\n",
      "-rw-rw-r-- 1 vtrokhymenko vtrokhymenko  12M Jan 15 18:21 data/Sil_struktur.csv.bz2\r\n",
      "-rw-rw-r-- 1 vtrokhymenko vtrokhymenko  44K Jan 15 18:19 data/biblioteka.csv.bz2\r\n",
      "-rw-rw-r-- 1 vtrokhymenko vtrokhymenko  25M Jan 15 18:19 data/bivs.SSR.csv.bz2\r\n",
      "-rw-rw-r-- 1 vtrokhymenko vtrokhymenko 6.1M Jan 15 18:18 data/biznes.csv.bz2\r\n",
      "-rw-rw-r-- 1 vtrokhymenko vtrokhymenko 2.9M Jan 15 18:21 data/cennosti.csv.bz2\r\n",
      "-rw-rw-r-- 1 vtrokhymenko vtrokhymenko  28M Jan 15 18:21 data/economic.csv.bz2\r\n",
      "-rw-rw-r-- 1 vtrokhymenko vtrokhymenko  16M Jan 15 18:19 data/internet.i.smi.csv.bz2\r\n",
      "-rw-rw-r-- 1 vtrokhymenko vtrokhymenko 8.6M Jan 15 18:18 data/iz.jizni.csv.bz2\r\n",
      "-rw-rw-r-- 1 vtrokhymenko vtrokhymenko 125K Jan 15 18:18 data/kultprosvet.csv.bz2\r\n",
      "-rw-rw-r-- 1 vtrokhymenko vtrokhymenko  20M Jan 15 18:18 data/kultura.csv.bz2\r\n",
      "-rw-rw-r-- 1 vtrokhymenko vtrokhymenko  65K Jan 15 18:20 data/legprom.csv.bz2\r\n",
      "-rw-rw-r-- 1 vtrokhymenko vtrokhymenko  56M Jan 16 02:07 data/mir.csv.bz2\r\n",
      "-rw-rw-r-- 1 vtrokhymenko vtrokhymenko  24M Jan 15 18:21 data/naula.i.tehn.csv.bz2\r\n",
      "-rw-rw-r-- 1 vtrokhymenko vtrokhymenko 2.4K Jan 15 18:20 data/orujie.csv.bz2\r\n",
      "-rw-rw-r-- 1 vtrokhymenko vtrokhymenko 3.0M Jan 15 18:21 data/puteshestvi.csv.bz2\r\n",
      "-rw-rw-r-- 1 vtrokhymenko vtrokhymenko  19M Jan 15 18:20 data/sport.csv.bz2\r\n"
     ]
    }
   ],
   "source": [
    "!ls -lah data/*.csv.bz2"
   ]
  },
  {
   "cell_type": "code",
   "execution_count": 3,
   "metadata": {
    "ExecuteTime": {
     "end_time": "2019-02-03T13:22:01.917558Z",
     "start_time": "2019-02-03T13:22:01.914322Z"
    }
   },
   "outputs": [],
   "source": [
    "name_dataset = 'legprom'"
   ]
  },
  {
   "cell_type": "markdown",
   "metadata": {},
   "source": [
    "### load data"
   ]
  },
  {
   "cell_type": "code",
   "execution_count": 4,
   "metadata": {
    "ExecuteTime": {
     "end_time": "2019-02-03T13:22:03.422268Z",
     "start_time": "2019-02-03T13:22:03.378477Z"
    }
   },
   "outputs": [
    {
     "name": "stdout",
     "output_type": "stream",
     "text": [
      "(142, 7)\n",
      "CPU times: user 24.1 ms, sys: 3.22 ms, total: 27.3 ms\n",
      "Wall time: 39.9 ms\n"
     ]
    }
   ],
   "source": [
    "%%time\n",
    "df = pd.read_csv(f'data/{name_dataset}.csv.bz2')\n",
    "print(df.shape)"
   ]
  },
  {
   "cell_type": "code",
   "execution_count": 5,
   "metadata": {
    "ExecuteTime": {
     "end_time": "2019-02-03T13:22:04.446549Z",
     "start_time": "2019-02-03T13:22:04.430352Z"
    }
   },
   "outputs": [
    {
     "data": {
      "text/html": [
       "<div>\n",
       "<style scoped>\n",
       "    .dataframe tbody tr th:only-of-type {\n",
       "        vertical-align: middle;\n",
       "    }\n",
       "\n",
       "    .dataframe tbody tr th {\n",
       "        vertical-align: top;\n",
       "    }\n",
       "\n",
       "    .dataframe thead th {\n",
       "        text-align: right;\n",
       "    }\n",
       "</style>\n",
       "<table border=\"1\" class=\"dataframe\">\n",
       "  <thead>\n",
       "    <tr style=\"text-align: right;\">\n",
       "      <th></th>\n",
       "      <th>1914-lenta/</th>\n",
       "      <th>url</th>\n",
       "      <th>edition</th>\n",
       "      <th>topics</th>\n",
       "      <th>title</th>\n",
       "      <th>text</th>\n",
       "      <th>topic</th>\n",
       "    </tr>\n",
       "  </thead>\n",
       "  <tbody>\n",
       "    <tr>\n",
       "      <th>0</th>\n",
       "      <td>1999-12-25 12:00:00</td>\n",
       "      <td>https://lenta.ru/news/1999/12/25/gaz/</td>\n",
       "      <td>NaN</td>\n",
       "      <td>Экономика</td>\n",
       "      <td>Возобновлены поставки газа в Молдавию</td>\n",
       "      <td>Российский \"Газпром\", отключивший в среду за н...</td>\n",
       "      <td>Легпром</td>\n",
       "    </tr>\n",
       "    <tr>\n",
       "      <th>1</th>\n",
       "      <td>1999-11-23 12:00:00</td>\n",
       "      <td>https://lenta.ru/news/1999/11/23/electronics/</td>\n",
       "      <td>NaN</td>\n",
       "      <td>Экономика</td>\n",
       "      <td>Создан крупнейший в стране холдинг \"Российская...</td>\n",
       "      <td>Около 80 процентов крупных предприятий радиоэл...</td>\n",
       "      <td>Легпром</td>\n",
       "    </tr>\n",
       "  </tbody>\n",
       "</table>\n",
       "</div>"
      ],
      "text/plain": [
       "           1914-lenta/                                            url  \\\n",
       "0  1999-12-25 12:00:00          https://lenta.ru/news/1999/12/25/gaz/   \n",
       "1  1999-11-23 12:00:00  https://lenta.ru/news/1999/11/23/electronics/   \n",
       "\n",
       "   edition     topics                                              title  \\\n",
       "0      NaN  Экономика              Возобновлены поставки газа в Молдавию   \n",
       "1      NaN  Экономика  Создан крупнейший в стране холдинг \"Российская...   \n",
       "\n",
       "                                                text    topic  \n",
       "0  Российский \"Газпром\", отключивший в среду за н...  Легпром  \n",
       "1  Около 80 процентов крупных предприятий радиоэл...  Легпром  "
      ]
     },
     "execution_count": 5,
     "metadata": {},
     "output_type": "execute_result"
    }
   ],
   "source": [
    "df = df[df.text!='text']\n",
    "df.head(2)"
   ]
  },
  {
   "cell_type": "markdown",
   "metadata": {},
   "source": [
    "### preprocess"
   ]
  },
  {
   "cell_type": "markdown",
   "metadata": {},
   "source": [
    "* get dates"
   ]
  },
  {
   "cell_type": "code",
   "execution_count": 6,
   "metadata": {
    "ExecuteTime": {
     "end_time": "2019-02-03T13:22:08.519480Z",
     "start_time": "2019-02-03T13:22:08.511450Z"
    }
   },
   "outputs": [
    {
     "name": "stdout",
     "output_type": "stream",
     "text": [
      "CPU times: user 2.87 ms, sys: 0 ns, total: 2.87 ms\n",
      "Wall time: 2.77 ms\n"
     ]
    },
    {
     "name": "stderr",
     "output_type": "stream",
     "text": [
      "<unknown>:2: DeprecationWarning: invalid escape sequence \\d\n"
     ]
    }
   ],
   "source": [
    "%%time\n",
    "\n",
    "df['date_raw'] = df['url'].apply(re.compile('(\\d{4})/(\\d{2})/(\\d{2})').findall)\n",
    "\n",
    "df['year'] = df['date_raw'].apply(lambda x: int(x[0][0]))\n",
    "df['month'] = df['date_raw'].apply(lambda x: int(x[0][1]))"
   ]
  },
  {
   "cell_type": "markdown",
   "metadata": {},
   "source": [
    "* clean text"
   ]
  },
  {
   "cell_type": "code",
   "execution_count": 7,
   "metadata": {
    "ExecuteTime": {
     "end_time": "2019-02-03T13:22:09.628191Z",
     "start_time": "2019-02-03T13:22:09.361406Z"
    }
   },
   "outputs": [],
   "source": [
    "import preprocessing_tools as pr"
   ]
  },
  {
   "cell_type": "code",
   "execution_count": 8,
   "metadata": {
    "ExecuteTime": {
     "end_time": "2019-02-03T13:22:09.699032Z",
     "start_time": "2019-02-03T13:22:09.665360Z"
    }
   },
   "outputs": [
    {
     "name": "stdout",
     "output_type": "stream",
     "text": [
      "CPU times: user 30.9 ms, sys: 0 ns, total: 30.9 ms\n",
      "Wall time: 30.3 ms\n"
     ]
    }
   ],
   "source": [
    "%%time\n",
    "df.text = df.text.apply(pr.clean_text)"
   ]
  },
  {
   "cell_type": "code",
   "execution_count": 9,
   "metadata": {
    "ExecuteTime": {
     "end_time": "2019-02-03T13:22:10.700618Z",
     "start_time": "2019-02-03T13:22:10.686586Z"
    }
   },
   "outputs": [
    {
     "data": {
      "text/html": [
       "<div>\n",
       "<style scoped>\n",
       "    .dataframe tbody tr th:only-of-type {\n",
       "        vertical-align: middle;\n",
       "    }\n",
       "\n",
       "    .dataframe tbody tr th {\n",
       "        vertical-align: top;\n",
       "    }\n",
       "\n",
       "    .dataframe thead th {\n",
       "        text-align: right;\n",
       "    }\n",
       "</style>\n",
       "<table border=\"1\" class=\"dataframe\">\n",
       "  <thead>\n",
       "    <tr style=\"text-align: right;\">\n",
       "      <th></th>\n",
       "      <th>1914-lenta/</th>\n",
       "      <th>url</th>\n",
       "      <th>edition</th>\n",
       "      <th>topics</th>\n",
       "      <th>title</th>\n",
       "      <th>text</th>\n",
       "      <th>topic</th>\n",
       "      <th>date_raw</th>\n",
       "      <th>year</th>\n",
       "      <th>month</th>\n",
       "    </tr>\n",
       "  </thead>\n",
       "  <tbody>\n",
       "    <tr>\n",
       "      <th>0</th>\n",
       "      <td>1999-12-25 12:00:00</td>\n",
       "      <td>https://lenta.ru/news/1999/12/25/gaz/</td>\n",
       "      <td>NaN</td>\n",
       "      <td>Экономика</td>\n",
       "      <td>Возобновлены поставки газа в Молдавию</td>\n",
       "      <td>российский газпром отключивший в среду за непл...</td>\n",
       "      <td>Легпром</td>\n",
       "      <td>[(1999, 12, 25)]</td>\n",
       "      <td>1999</td>\n",
       "      <td>12</td>\n",
       "    </tr>\n",
       "    <tr>\n",
       "      <th>1</th>\n",
       "      <td>1999-11-23 12:00:00</td>\n",
       "      <td>https://lenta.ru/news/1999/11/23/electronics/</td>\n",
       "      <td>NaN</td>\n",
       "      <td>Экономика</td>\n",
       "      <td>Создан крупнейший в стране холдинг \"Российская...</td>\n",
       "      <td>около  процентов крупных предприятий радиоэлек...</td>\n",
       "      <td>Легпром</td>\n",
       "      <td>[(1999, 11, 23)]</td>\n",
       "      <td>1999</td>\n",
       "      <td>11</td>\n",
       "    </tr>\n",
       "  </tbody>\n",
       "</table>\n",
       "</div>"
      ],
      "text/plain": [
       "           1914-lenta/                                            url  \\\n",
       "0  1999-12-25 12:00:00          https://lenta.ru/news/1999/12/25/gaz/   \n",
       "1  1999-11-23 12:00:00  https://lenta.ru/news/1999/11/23/electronics/   \n",
       "\n",
       "   edition     topics                                              title  \\\n",
       "0      NaN  Экономика              Возобновлены поставки газа в Молдавию   \n",
       "1      NaN  Экономика  Создан крупнейший в стране холдинг \"Российская...   \n",
       "\n",
       "                                                text    topic  \\\n",
       "0  российский газпром отключивший в среду за непл...  Легпром   \n",
       "1  около  процентов крупных предприятий радиоэлек...  Легпром   \n",
       "\n",
       "           date_raw  year  month  \n",
       "0  [(1999, 12, 25)]  1999     12  \n",
       "1  [(1999, 11, 23)]  1999     11  "
      ]
     },
     "execution_count": 9,
     "metadata": {},
     "output_type": "execute_result"
    }
   ],
   "source": [
    "df.head(2)"
   ]
  },
  {
   "cell_type": "markdown",
   "metadata": {},
   "source": [
    "* cleanedNames"
   ]
  },
  {
   "cell_type": "code",
   "execution_count": 10,
   "metadata": {
    "ExecuteTime": {
     "end_time": "2019-02-03T13:22:11.562170Z",
     "start_time": "2019-02-03T13:22:11.433161Z"
    }
   },
   "outputs": [],
   "source": [
    "from cleanedNames import KeyProc\n",
    "cn = KeyProc()"
   ]
  },
  {
   "cell_type": "code",
   "execution_count": 11,
   "metadata": {
    "ExecuteTime": {
     "end_time": "2019-02-03T13:22:11.973856Z",
     "start_time": "2019-02-03T13:22:11.683868Z"
    }
   },
   "outputs": [
    {
     "name": "stdout",
     "output_type": "stream",
     "text": [
      "CPU times: user 288 ms, sys: 200 µs, total: 288 ms\n",
      "Wall time: 287 ms\n"
     ]
    }
   ],
   "source": [
    "%%time\n",
    "df.text = df.text.apply(cn.replaceKeywords)"
   ]
  },
  {
   "cell_type": "markdown",
   "metadata": {},
   "source": [
    "* lemmatization"
   ]
  },
  {
   "cell_type": "code",
   "execution_count": 12,
   "metadata": {
    "ExecuteTime": {
     "end_time": "2019-02-03T13:22:13.783306Z",
     "start_time": "2019-02-03T13:22:12.270847Z"
    }
   },
   "outputs": [
    {
     "name": "stdout",
     "output_type": "stream",
     "text": [
      "CPU times: user 1.51 s, sys: 3.78 ms, total: 1.51 s\n",
      "Wall time: 1.51 s\n"
     ]
    }
   ],
   "source": [
    "%%time\n",
    "df['lemmatized_text'] = df.text.apply(pr.lemmatization)"
   ]
  },
  {
   "cell_type": "code",
   "execution_count": null,
   "metadata": {},
   "outputs": [],
   "source": []
  },
  {
   "cell_type": "markdown",
   "metadata": {},
   "source": [
    "* add docID"
   ]
  },
  {
   "cell_type": "code",
   "execution_count": 13,
   "metadata": {
    "ExecuteTime": {
     "end_time": "2019-02-03T13:22:13.845526Z",
     "start_time": "2019-02-03T13:22:13.842004Z"
    }
   },
   "outputs": [],
   "source": [
    "df['docID'] = list(range(df.shape[0]))"
   ]
  },
  {
   "cell_type": "code",
   "execution_count": 14,
   "metadata": {
    "ExecuteTime": {
     "end_time": "2019-02-03T13:22:13.914187Z",
     "start_time": "2019-02-03T13:22:13.902766Z"
    }
   },
   "outputs": [
    {
     "data": {
      "text/html": [
       "<div>\n",
       "<style scoped>\n",
       "    .dataframe tbody tr th:only-of-type {\n",
       "        vertical-align: middle;\n",
       "    }\n",
       "\n",
       "    .dataframe tbody tr th {\n",
       "        vertical-align: top;\n",
       "    }\n",
       "\n",
       "    .dataframe thead th {\n",
       "        text-align: right;\n",
       "    }\n",
       "</style>\n",
       "<table border=\"1\" class=\"dataframe\">\n",
       "  <thead>\n",
       "    <tr style=\"text-align: right;\">\n",
       "      <th></th>\n",
       "      <th>docID</th>\n",
       "      <th>year</th>\n",
       "      <th>month</th>\n",
       "      <th>lemmatized_text</th>\n",
       "    </tr>\n",
       "  </thead>\n",
       "  <tbody>\n",
       "    <tr>\n",
       "      <th>0</th>\n",
       "      <td>0</td>\n",
       "      <td>1999</td>\n",
       "      <td>12</td>\n",
       "      <td>[российский, газпром, отключить, среда, неплат...</td>\n",
       "    </tr>\n",
       "    <tr>\n",
       "      <th>1</th>\n",
       "      <td>1</td>\n",
       "      <td>1999</td>\n",
       "      <td>11</td>\n",
       "      <td>[около, процент, крупный, предприятие, радиоэл...</td>\n",
       "    </tr>\n",
       "  </tbody>\n",
       "</table>\n",
       "</div>"
      ],
      "text/plain": [
       "   docID  year  month                                    lemmatized_text\n",
       "0      0  1999     12  [российский, газпром, отключить, среда, неплат...\n",
       "1      1  1999     11  [около, процент, крупный, предприятие, радиоэл..."
      ]
     },
     "execution_count": 14,
     "metadata": {},
     "output_type": "execute_result"
    }
   ],
   "source": [
    "df = df[['docID','year','month','lemmatized_text']]\n",
    "df.head(2)"
   ]
  },
  {
   "cell_type": "code",
   "execution_count": 15,
   "metadata": {
    "ExecuteTime": {
     "end_time": "2019-02-03T13:22:14.111812Z",
     "start_time": "2019-02-03T13:22:14.104681Z"
    }
   },
   "outputs": [
    {
     "name": "stdout",
     "output_type": "stream",
     "text": [
      "(142, 4)\n"
     ]
    },
    {
     "data": {
      "text/plain": [
       "docID              0\n",
       "year               0\n",
       "month              0\n",
       "lemmatized_text    0\n",
       "dtype: int64"
      ]
     },
     "execution_count": 15,
     "metadata": {},
     "output_type": "execute_result"
    }
   ],
   "source": [
    "print(df.shape)\n",
    "df.isnull().sum()"
   ]
  },
  {
   "cell_type": "code",
   "execution_count": 16,
   "metadata": {
    "ExecuteTime": {
     "end_time": "2019-02-03T13:22:15.454704Z",
     "start_time": "2019-02-03T13:22:15.450022Z"
    }
   },
   "outputs": [
    {
     "data": {
      "text/plain": [
       "1999"
      ]
     },
     "execution_count": 16,
     "metadata": {},
     "output_type": "execute_result"
    }
   ],
   "source": [
    "df.year.min()"
   ]
  },
  {
   "cell_type": "code",
   "execution_count": null,
   "metadata": {},
   "outputs": [],
   "source": []
  },
  {
   "cell_type": "markdown",
   "metadata": {},
   "source": [
    "## model"
   ]
  },
  {
   "cell_type": "markdown",
   "metadata": {},
   "source": [
    "* prepare"
   ]
  },
  {
   "cell_type": "code",
   "execution_count": 17,
   "metadata": {
    "ExecuteTime": {
     "end_time": "2019-02-03T13:22:17.968099Z",
     "start_time": "2019-02-03T13:22:17.958662Z"
    }
   },
   "outputs": [
    {
     "name": "stdout",
     "output_type": "stream",
     "text": [
      "CPU times: user 3.92 ms, sys: 1.34 ms, total: 5.26 ms\n",
      "Wall time: 5.9 ms\n"
     ]
    }
   ],
   "source": [
    "%%time\n",
    "\n",
    "vwpath = f'data/vwpath/{name_dataset}_input_bigartm.vw'\n",
    "\n",
    "with open(vwpath, 'w') as fp:\n",
    "    for text, did in df[['lemmatized_text', 'docID']].values:\n",
    "        fp.write('{} | {}\\n'.format(did, ' '.join(text)))"
   ]
  },
  {
   "cell_type": "code",
   "execution_count": 18,
   "metadata": {
    "ExecuteTime": {
     "end_time": "2019-02-03T13:22:18.936929Z",
     "start_time": "2019-02-03T13:22:18.933066Z"
    }
   },
   "outputs": [],
   "source": [
    "id_date = df[['docID', 'year', 'month']].copy()"
   ]
  },
  {
   "cell_type": "markdown",
   "metadata": {},
   "source": [
    "* collect batchs and collect the dictionary"
   ]
  },
  {
   "cell_type": "code",
   "execution_count": 19,
   "metadata": {
    "ExecuteTime": {
     "end_time": "2019-02-03T13:22:19.821397Z",
     "start_time": "2019-02-03T13:22:19.743505Z"
    }
   },
   "outputs": [
    {
     "name": "stdout",
     "output_type": "stream",
     "text": [
      "create folder...\n",
      "\n",
      "artm.BatchVectorizer(data_path=\"data/batches/legprom\", num_batches=1)\n",
      "CPU times: user 78.3 ms, sys: 18.9 ms, total: 97.2 ms\n",
      "Wall time: 73.9 ms\n"
     ]
    }
   ],
   "source": [
    "%%time\n",
    "\n",
    "batches_path = f'data/batches/{name_dataset}'\n",
    "\n",
    "if not os.path.exists(batches_path):\n",
    "    print('create folder...\\n')\n",
    "    os.makedirs(batches_path)\n",
    "    \n",
    "batch_vectorizer = artm.BatchVectorizer(data_path=vwpath,\n",
    "                                        data_format='vowpal_wabbit',\n",
    "                                        target_folder=batches_path)\n",
    "\n",
    "print(batch_vectorizer)"
   ]
  },
  {
   "cell_type": "code",
   "execution_count": 20,
   "metadata": {
    "ExecuteTime": {
     "end_time": "2019-02-03T13:22:22.273327Z",
     "start_time": "2019-02-03T13:22:22.260982Z"
    }
   },
   "outputs": [],
   "source": [
    "dictionary = artm.Dictionary()\n",
    "dictionary.gather(data_path=batches_path)"
   ]
  },
  {
   "cell_type": "code",
   "execution_count": 21,
   "metadata": {
    "ExecuteTime": {
     "end_time": "2019-02-03T13:22:22.891422Z",
     "start_time": "2019-02-03T13:22:22.886111Z"
    }
   },
   "outputs": [
    {
     "data": {
      "text/plain": [
       "artm.Dictionary(name=d40eb653-6729-44e3-a21c-8d17231f5349, num_entries=256)"
      ]
     },
     "execution_count": 21,
     "metadata": {},
     "output_type": "execute_result"
    }
   ],
   "source": [
    "dictionary.filter(min_tf=10, max_df_rate=0.1) #int(4.5e5)"
   ]
  },
  {
   "cell_type": "code",
   "execution_count": 22,
   "metadata": {
    "ExecuteTime": {
     "end_time": "2019-02-03T13:22:23.324169Z",
     "start_time": "2019-02-03T13:22:23.319383Z"
    }
   },
   "outputs": [],
   "source": [
    "dictionary.save_text(f'data/dicts/dict_{name_dataset}.txt')"
   ]
  },
  {
   "cell_type": "code",
   "execution_count": null,
   "metadata": {},
   "outputs": [],
   "source": []
  },
  {
   "cell_type": "markdown",
   "metadata": {},
   "source": [
    "## pick up amount topics"
   ]
  },
  {
   "cell_type": "code",
   "execution_count": 23,
   "metadata": {
    "ExecuteTime": {
     "end_time": "2019-02-03T13:22:46.520270Z",
     "start_time": "2019-02-03T13:22:25.645785Z"
    },
    "scrolled": true
   },
   "outputs": [
    {
     "name": "stdout",
     "output_type": "stream",
     "text": [
      "#topic 2.........\n",
      "\tSparsityThetaScore: 0.11619718372821808\n",
      "\tSparsityPhiScore: 0.388671875\n",
      "\tPerplexityScore: 200.37644958496094\n",
      "\ttime: 0:00:00.890841\n",
      "#topic 3.........\n",
      "\tSparsityThetaScore: 0.07981220632791519\n",
      "\tSparsityPhiScore: 0.7395833134651184\n",
      "\tPerplexityScore: 257.8155517578125\n",
      "\ttime: 0:00:00.896024\n",
      "#topic 4.........\n",
      "\tSparsityThetaScore: 0.5211267471313477\n",
      "\tSparsityPhiScore: 0.955078125\n",
      "\tPerplexityScore: 599.8652954101562\n",
      "\ttime: 0:00:00.907834\n",
      "#topic 5.........\n",
      "\tSparsityThetaScore: 0.9211267828941345\n",
      "\tSparsityPhiScore: 0.99609375\n",
      "\tPerplexityScore: 1147.3829345703125\n",
      "\ttime: 0:00:00.935416\n",
      "#topic 6.........\n",
      "\tSparsityThetaScore: 0.9683098793029785\n",
      "\tSparsityPhiScore: 0.998046875\n",
      "\tPerplexityScore: 1187.73681640625\n",
      "\ttime: 0:00:01.023712\n",
      "#topic 7.........\n",
      "\tSparsityThetaScore: 0.9899396300315857\n",
      "\tSparsityPhiScore: 0.9994419813156128\n",
      "\tPerplexityScore: 1345.2698974609375\n",
      "\ttime: 0:00:00.992692\n",
      "#topic 8.........\n",
      "\tSparsityThetaScore: 0.9911971688270569\n",
      "\tSparsityPhiScore: 0.99951171875\n",
      "\tPerplexityScore: 1345.2698974609375\n",
      "\ttime: 0:00:00.984105\n",
      "#topic 9.........\n",
      "\tSparsityThetaScore: 1.0\n",
      "\tSparsityPhiScore: 1.0\n",
      "\tPerplexityScore: 1447.0447998046875\n",
      "\ttime: 0:00:01.075619\n",
      "#topic 10.........\n",
      "\tSparsityThetaScore: 1.0\n",
      "\tSparsityPhiScore: 1.0\n",
      "\tPerplexityScore: 1447.0447998046875\n",
      "\ttime: 0:00:01.022196\n",
      "#topic 11.........\n",
      "\tSparsityThetaScore: 1.0\n",
      "\tSparsityPhiScore: 1.0\n",
      "\tPerplexityScore: 1447.0447998046875\n",
      "\ttime: 0:00:01.078738\n",
      "#topic 12.........\n",
      "\tSparsityThetaScore: 1.0\n",
      "\tSparsityPhiScore: 1.0\n",
      "\tPerplexityScore: 1447.0447998046875\n",
      "\ttime: 0:00:01.323028\n",
      "#topic 13.........\n",
      "\tSparsityThetaScore: 1.0\n",
      "\tSparsityPhiScore: 1.0\n",
      "\tPerplexityScore: 1447.0447998046875\n",
      "\ttime: 0:00:01.140280\n",
      "#topic 14.........\n",
      "\tSparsityThetaScore: 1.0\n",
      "\tSparsityPhiScore: 1.0\n",
      "\tPerplexityScore: 1447.0447998046875\n",
      "\ttime: 0:00:01.154503\n",
      "#topic 15.........\n",
      "\tSparsityThetaScore: 1.0\n",
      "\tSparsityPhiScore: 1.0\n",
      "\tPerplexityScore: 1447.0447998046875\n",
      "\ttime: 0:00:01.161764\n",
      "#topic 16.........\n",
      "\tSparsityThetaScore: 1.0\n",
      "\tSparsityPhiScore: 1.0\n",
      "\tPerplexityScore: 1447.0447998046875\n",
      "\ttime: 0:00:01.188310\n",
      "#topic 17.........\n",
      "\tSparsityThetaScore: 1.0\n",
      "\tSparsityPhiScore: 1.0\n",
      "\tPerplexityScore: 1447.0447998046875\n",
      "\ttime: 0:00:01.278542\n",
      "#topic 18.........\n",
      "\tSparsityThetaScore: 1.0\n",
      "\tSparsityPhiScore: 1.0\n",
      "\tPerplexityScore: 1447.0447998046875\n",
      "\ttime: 0:00:01.247229\n",
      "#topic 19.........\n",
      "\tSparsityThetaScore: 1.0\n",
      "\tSparsityPhiScore: 1.0\n",
      "\tPerplexityScore: 1447.0447998046875\n",
      "\ttime: 0:00:01.274110\n",
      "#topic 20.........\n",
      "\tSparsityThetaScore: 1.0\n",
      "\tSparsityPhiScore: 1.0\n",
      "\tPerplexityScore: 1447.0447998046875\n",
      "\ttime: 0:00:01.289790\n",
      "CPU times: user 29.1 s, sys: 13.9 s, total: 43 s\n",
      "Wall time: 20.9 s\n"
     ]
    }
   ],
   "source": [
    "%%time\n",
    "model_list = []\n",
    "step, perplexity, sTheta, sPhi = [], [], [], []\n",
    "\n",
    "for i in range(2,20+1,1):\n",
    "    print(f'#topic {i}.........')\n",
    "    step.append(i)\n",
    "    date_start = time.now()\n",
    "    \n",
    "    num_topics = i\n",
    "    model = artm.ARTM(num_topics=num_topics, dictionary=dictionary)\n",
    "    \n",
    "    # scores\n",
    "    model.scores.add(artm.PerplexityScore(name='PerplexityScore',dictionary=dictionary))\n",
    "    model.scores.add(artm.SparsityThetaScore(name='SparsityThetaScore'))\n",
    "    model.scores.add(artm.SparsityPhiScore(name='SparsityPhiScore'))\n",
    "\n",
    "    # regularizers\n",
    "    model.regularizers.add(artm.SmoothSparsePhiRegularizer(name='SparsePhi', tau=-0.1))\n",
    "    model.regularizers.add(artm.SmoothSparseThetaRegularizer(name='SparseTheta', tau=-0.5))\n",
    "    model.regularizers.add(artm.DecorrelatorPhiRegularizer(name='DecorrelatorPhi', tau=1.5e+5))\n",
    "    \n",
    "    model.fit_offline(batch_vectorizer=batch_vectorizer, num_collection_passes=50)\n",
    "    model_list.append(model)\n",
    "    \n",
    "    sparsityTheta = model.score_tracker['SparsityThetaScore'].last_value\n",
    "    sTheta.append(sparsityTheta)\n",
    "    sparsityPhi = model.score_tracker['SparsityPhiScore'].last_value\n",
    "    sPhi.append(sparsityPhi)\n",
    "    perpl = model.score_tracker['PerplexityScore'].last_value\n",
    "    perplexity.append(perpl)\n",
    "    \n",
    "    print(f'\\tSparsityThetaScore: {sparsityTheta}')\n",
    "    print(f'\\tSparsityPhiScore: {sparsityPhi}')\n",
    "    print(f'\\tPerplexityScore: {perpl}')\n",
    "    \n",
    "    print('\\ttime:',time.now()-date_start)\n",
    "    \n",
    "newTime = time.now() #"
   ]
  },
  {
   "cell_type": "code",
   "execution_count": 24,
   "metadata": {
    "ExecuteTime": {
     "end_time": "2019-02-03T13:22:46.589202Z",
     "start_time": "2019-02-03T13:22:46.585607Z"
    }
   },
   "outputs": [],
   "source": [
    "#model_list"
   ]
  },
  {
   "cell_type": "code",
   "execution_count": 25,
   "metadata": {
    "ExecuteTime": {
     "end_time": "2019-02-03T13:22:46.904261Z",
     "start_time": "2019-02-03T13:22:46.594791Z"
    },
    "cell_style": "split"
   },
   "outputs": [
    {
     "data": {
      "text/plain": [
       "Text(0.5, 1.0, 'SparsityPhiScore')"
      ]
     },
     "execution_count": 25,
     "metadata": {},
     "output_type": "execute_result"
    },
    {
     "data": {
      "image/png": "[encoded data removed]",
      "text/plain": [
       "<Figure size 432x288 with 1 Axes>"
      ]
     },
     "metadata": {
      "needs_background": "light"
     },
     "output_type": "display_data"
    }
   ],
   "source": [
    "plt.plot(step, sPhi, color='k',linewidth=3, marker='x')\n",
    "ax = plt.gca()\n",
    "ax.set_xticks(step)\n",
    "plt.grid()\n",
    "plt.title('SparsityPhiScore')"
   ]
  },
  {
   "cell_type": "code",
   "execution_count": 26,
   "metadata": {
    "ExecuteTime": {
     "end_time": "2019-02-03T13:22:46.915244Z",
     "start_time": "2019-02-03T13:22:46.907483Z"
    },
    "cell_style": "split"
   },
   "outputs": [
    {
     "data": {
      "text/plain": [
       "[0.3, 0.7, 0.9, 1.0]"
      ]
     },
     "execution_count": 26,
     "metadata": {},
     "output_type": "execute_result"
    }
   ],
   "source": [
    "index_sphi = []\n",
    "[index_sphi.append(float(str(i)[:3]) ) for i in sPhi]\n",
    "    \n",
    "index_sphi = list(set(index_sphi))\n",
    "index_sphi.sort()\n",
    "index_sphi"
   ]
  },
  {
   "cell_type": "code",
   "execution_count": 27,
   "metadata": {
    "ExecuteTime": {
     "end_time": "2019-02-03T13:22:46.938646Z",
     "start_time": "2019-02-03T13:22:46.918913Z"
    },
    "cell_style": "split"
   },
   "outputs": [
    {
     "data": {
      "text/plain": [
       "{0.3: 1, 0.7: 1, 0.9: 5, 1.0: 12}"
      ]
     },
     "execution_count": 27,
     "metadata": {},
     "output_type": "execute_result"
    }
   ],
   "source": [
    "d_sphi = {}\n",
    "\n",
    "for j in range(len(index_sphi)):\n",
    "    k=0\n",
    "    for i in sPhi:\n",
    "        if j==range(len(index_sphi))[-1]:\n",
    "            if (i>=index_sphi[j]):\n",
    "                k+=1\n",
    "        else:\n",
    "            if (i>=index_sphi[j]) & (i<index_sphi[j+1]):\n",
    "                k+=1\n",
    "    d_sphi[index_sphi[j]]=k\n",
    "\n",
    "d_sphi"
   ]
  },
  {
   "cell_type": "code",
   "execution_count": 28,
   "metadata": {
    "ExecuteTime": {
     "end_time": "2019-02-03T13:22:47.311925Z",
     "start_time": "2019-02-03T13:22:46.942818Z"
    },
    "cell_style": "split",
    "scrolled": true
   },
   "outputs": [
    {
     "data": {
      "text/plain": [
       "Text(0.5, 1.0, 'SparsityThetaScore')"
      ]
     },
     "execution_count": 28,
     "metadata": {},
     "output_type": "execute_result"
    },
    {
     "data": {
      "image/png": "[encoded data removed]",
      "text/plain": [
       "<Figure size 432x288 with 1 Axes>"
      ]
     },
     "metadata": {
      "needs_background": "light"
     },
     "output_type": "display_data"
    }
   ],
   "source": [
    "plt.plot(step, sTheta, color='g',linewidth=3, marker='x')\n",
    "ax = plt.gca()\n",
    "ax.set_xticks(step)\n",
    "plt.grid()\n",
    "\n",
    "plt.title('SparsityThetaScore')"
   ]
  },
  {
   "cell_type": "code",
   "execution_count": 29,
   "metadata": {
    "ExecuteTime": {
     "end_time": "2019-02-03T13:22:47.324685Z",
     "start_time": "2019-02-03T13:22:47.316426Z"
    },
    "cell_style": "split"
   },
   "outputs": [
    {
     "data": {
      "text/plain": [
       "[0.0, 0.1, 0.5, 0.9, 1.0]"
      ]
     },
     "execution_count": 29,
     "metadata": {},
     "output_type": "execute_result"
    }
   ],
   "source": [
    "index_theta = []\n",
    "[index_theta.append(float(str(i)[:3])) for i in sTheta]\n",
    "    \n",
    "index_theta = list(set(index_theta))\n",
    "index_theta.sort()\n",
    "index_theta"
   ]
  },
  {
   "cell_type": "code",
   "execution_count": 30,
   "metadata": {
    "ExecuteTime": {
     "end_time": "2019-02-03T13:22:47.335988Z",
     "start_time": "2019-02-03T13:22:47.327638Z"
    },
    "cell_style": "split"
   },
   "outputs": [
    {
     "data": {
      "text/plain": [
       "{0.0: 1, 0.1: 1, 0.5: 1, 0.9: 4, 1.0: 12}"
      ]
     },
     "execution_count": 30,
     "metadata": {},
     "output_type": "execute_result"
    }
   ],
   "source": [
    "d_stheta = {}\n",
    "\n",
    "for j in range(len(index_theta)):\n",
    "    k=0\n",
    "    for i in sTheta:\n",
    "        if j==range(len(index_theta))[-1]:\n",
    "            if (i>=index_theta[j]):\n",
    "                k+=1\n",
    "        else:\n",
    "            if (i>=index_theta[j]) & (i<index_theta[j+1]):\n",
    "                k+=1\n",
    "    d_stheta[index_theta[j]]=k\n",
    "\n",
    "d_stheta"
   ]
  },
  {
   "cell_type": "code",
   "execution_count": 31,
   "metadata": {
    "ExecuteTime": {
     "end_time": "2019-02-03T13:22:47.580180Z",
     "start_time": "2019-02-03T13:22:47.340736Z"
    },
    "cell_style": "split"
   },
   "outputs": [
    {
     "data": {
      "text/plain": [
       "Text(0.5, 1.0, 'PerplexityScore')"
      ]
     },
     "execution_count": 31,
     "metadata": {},
     "output_type": "execute_result"
    },
    {
     "data": {
      "image/png": "[encoded data removed]",
      "text/plain": [
       "<Figure size 432x288 with 1 Axes>"
      ]
     },
     "metadata": {
      "needs_background": "light"
     },
     "output_type": "display_data"
    }
   ],
   "source": [
    "plt.plot(step, perplexity, color='b',linewidth=3, marker='x')\n",
    "ax = plt.gca()\n",
    "ax.set_xticks(step)\n",
    "plt.grid()\n",
    "plt.title('PerplexityScore')"
   ]
  },
  {
   "cell_type": "code",
   "execution_count": 32,
   "metadata": {
    "ExecuteTime": {
     "end_time": "2019-02-03T13:22:47.590700Z",
     "start_time": "2019-02-03T13:22:47.586131Z"
    },
    "cell_style": "split"
   },
   "outputs": [
    {
     "data": {
      "text/plain": [
       "[200.37644958496094,\n",
       " 257.8155517578125,\n",
       " 599.8652954101562,\n",
       " 1147.3829345703125,\n",
       " 1187.73681640625,\n",
       " 1345.2698974609375,\n",
       " 1345.2698974609375,\n",
       " 1447.0447998046875,\n",
       " 1447.0447998046875,\n",
       " 1447.0447998046875,\n",
       " 1447.0447998046875,\n",
       " 1447.0447998046875,\n",
       " 1447.0447998046875,\n",
       " 1447.0447998046875,\n",
       " 1447.0447998046875,\n",
       " 1447.0447998046875,\n",
       " 1447.0447998046875,\n",
       " 1447.0447998046875,\n",
       " 1447.0447998046875]"
      ]
     },
     "execution_count": 32,
     "metadata": {},
     "output_type": "execute_result"
    }
   ],
   "source": [
    "perplexity"
   ]
  },
  {
   "cell_type": "markdown",
   "metadata": {},
   "source": [
    "### select the best model"
   ]
  },
  {
   "cell_type": "code",
   "execution_count": 33,
   "metadata": {
    "ExecuteTime": {
     "end_time": "2019-02-03T13:22:47.601979Z",
     "start_time": "2019-02-03T13:22:47.593396Z"
    }
   },
   "outputs": [
    {
     "name": "stdout",
     "output_type": "stream",
     "text": [
      "d_sphi:   {0.3: 1, 0.7: 1, 0.9: 5, 1.0: 12}\n",
      "d_stheta: {0.0: 1, 0.1: 1, 0.5: 1, 0.9: 4, 1.0: 12}\n"
     ]
    }
   ],
   "source": [
    "print(f'd_sphi:   {d_sphi}')\n",
    "print(f'd_stheta: {d_stheta}')"
   ]
  },
  {
   "cell_type": "code",
   "execution_count": 34,
   "metadata": {
    "ExecuteTime": {
     "end_time": "2019-02-03T13:23:22.288613Z",
     "start_time": "2019-02-03T13:23:22.284511Z"
    }
   },
   "outputs": [
    {
     "name": "stdout",
     "output_type": "stream",
     "text": [
      "4\n"
     ]
    }
   ],
   "source": [
    "select_topics = 4 # u should choose number of topic\n",
    "\n",
    "best_model = model_list[select_topics-2]\n",
    "print(best_model.num_topics)"
   ]
  },
  {
   "cell_type": "markdown",
   "metadata": {
    "ExecuteTime": {
     "end_time": "2019-02-01T00:14:02.339878Z",
     "start_time": "2019-02-01T00:14:02.338133Z"
    }
   },
   "source": [
    "### print top words for each topics"
   ]
  },
  {
   "cell_type": "code",
   "execution_count": 35,
   "metadata": {
    "ExecuteTime": {
     "end_time": "2019-02-03T13:23:23.823449Z",
     "start_time": "2019-02-03T13:23:23.802111Z"
    }
   },
   "outputs": [
    {
     "name": "stdout",
     "output_type": "stream",
     "text": [
      "topic_0: ['период' 'экономика' 'спрос' 'индустрия' 'легпром' 'лизинг' 'увеличение'\n",
      " 'расширение' 'кожевеннообувной' 'кредит']\n",
      "topic_1: ['русский' 'республика' 'очень' 'текстиль' 'фабрика' 'появиться'\n",
      " 'узбекистан' 'сотрудничество' 'достаточно' 'положительный']\n",
      "topic_2: ['сеть' 'делегация' 'апрель' 'требование' 'контракт' 'детский' 'марка'\n",
      " 'zara' 'день' 'бренд']\n",
      "topic_3: ['использование' 'мода' 'технология' 'дизайнер' 'совещание' 'холдинг'\n",
      " 'связать' 'учебный' 'сила' 'генеральный']\n"
     ]
    }
   ],
   "source": [
    "phi = best_model.get_phi()\n",
    "phi['word'] = phi.index\n",
    "#phi.head()\n",
    "\n",
    "for col in phi.columns:\n",
    "    if col != 'word':\n",
    "        print(f\"{col}: {phi[[col, 'word']].sort_values(by=col, ascending=False)['word'].values[:10]}\")\n",
    "        #print('\\t',phi[[col, 'word']].sort_values(by=col, ascending=False)['word'].values[:10])"
   ]
  },
  {
   "cell_type": "code",
   "execution_count": null,
   "metadata": {},
   "outputs": [],
   "source": []
  },
  {
   "cell_type": "markdown",
   "metadata": {},
   "source": [
    "### get topics-docs matrix"
   ]
  },
  {
   "cell_type": "code",
   "execution_count": 38,
   "metadata": {
    "ExecuteTime": {
     "end_time": "2019-02-03T13:24:05.443430Z",
     "start_time": "2019-02-03T13:24:05.261217Z"
    }
   },
   "outputs": [
    {
     "name": "stdout",
     "output_type": "stream",
     "text": [
      "shape theta: (4, 131)\n"
     ]
    },
    {
     "data": {
      "image/png": "[encoded data removed]",
      "text/plain": [
       "<Figure size 360x360 with 1 Axes>"
      ]
     },
     "metadata": {
      "needs_background": "light"
     },
     "output_type": "display_data"
    }
   ],
   "source": [
    "theta = best_model.transform_sparse(batch_vectorizer=batch_vectorizer, eps=0.001)\n",
    "print(f'shape theta: {theta[0].shape}')\n",
    "\n",
    "plt.figure(figsize=(5, 5))\n",
    "plt.imshow(theta[0][:, 2000:2500].toarray());"
   ]
  },
  {
   "cell_type": "code",
   "execution_count": null,
   "metadata": {},
   "outputs": [],
   "source": []
  },
  {
   "cell_type": "markdown",
   "metadata": {},
   "source": [
    "### dense theta matrix"
   ]
  },
  {
   "cell_type": "code",
   "execution_count": 39,
   "metadata": {
    "ExecuteTime": {
     "end_time": "2019-02-03T13:24:10.144141Z",
     "start_time": "2019-02-03T13:24:10.112304Z"
    }
   },
   "outputs": [
    {
     "data": {
      "text/html": [
       "<div>\n",
       "<style scoped>\n",
       "    .dataframe tbody tr th:only-of-type {\n",
       "        vertical-align: middle;\n",
       "    }\n",
       "\n",
       "    .dataframe tbody tr th {\n",
       "        vertical-align: top;\n",
       "    }\n",
       "\n",
       "    .dataframe thead th {\n",
       "        text-align: right;\n",
       "    }\n",
       "</style>\n",
       "<table border=\"1\" class=\"dataframe\">\n",
       "  <thead>\n",
       "    <tr style=\"text-align: right;\">\n",
       "      <th></th>\n",
       "      <th>topic_0</th>\n",
       "      <th>topic_1</th>\n",
       "      <th>topic_2</th>\n",
       "      <th>topic_3</th>\n",
       "    </tr>\n",
       "  </thead>\n",
       "  <tbody>\n",
       "    <tr>\n",
       "      <th>0</th>\n",
       "      <td>0.0</td>\n",
       "      <td>0.833333</td>\n",
       "      <td>0.166667</td>\n",
       "      <td>0.000000</td>\n",
       "    </tr>\n",
       "    <tr>\n",
       "      <th>1</th>\n",
       "      <td>0.0</td>\n",
       "      <td>0.166667</td>\n",
       "      <td>0.000000</td>\n",
       "      <td>0.833333</td>\n",
       "    </tr>\n",
       "    <tr>\n",
       "      <th>2</th>\n",
       "      <td>0.0</td>\n",
       "      <td>0.000000</td>\n",
       "      <td>0.000000</td>\n",
       "      <td>1.000000</td>\n",
       "    </tr>\n",
       "    <tr>\n",
       "      <th>3</th>\n",
       "      <td>0.0</td>\n",
       "      <td>0.000000</td>\n",
       "      <td>0.000000</td>\n",
       "      <td>1.000000</td>\n",
       "    </tr>\n",
       "    <tr>\n",
       "      <th>4</th>\n",
       "      <td>0.0</td>\n",
       "      <td>0.000000</td>\n",
       "      <td>0.000000</td>\n",
       "      <td>1.000000</td>\n",
       "    </tr>\n",
       "  </tbody>\n",
       "</table>\n",
       "</div>"
      ],
      "text/plain": [
       "   topic_0   topic_1   topic_2   topic_3\n",
       "0      0.0  0.833333  0.166667  0.000000\n",
       "1      0.0  0.166667  0.000000  0.833333\n",
       "2      0.0  0.000000  0.000000  1.000000\n",
       "3      0.0  0.000000  0.000000  1.000000\n",
       "4      0.0  0.000000  0.000000  1.000000"
      ]
     },
     "execution_count": 39,
     "metadata": {},
     "output_type": "execute_result"
    }
   ],
   "source": [
    "theta = best_model.transform(batch_vectorizer=batch_vectorizer)\n",
    "theta = theta.T\n",
    "theta.head()"
   ]
  },
  {
   "cell_type": "code",
   "execution_count": null,
   "metadata": {},
   "outputs": [],
   "source": []
  },
  {
   "cell_type": "markdown",
   "metadata": {},
   "source": [
    "## DataViz"
   ]
  },
  {
   "cell_type": "code",
   "execution_count": 40,
   "metadata": {
    "ExecuteTime": {
     "end_time": "2019-02-03T13:24:12.736961Z",
     "start_time": "2019-02-03T13:24:12.723436Z"
    }
   },
   "outputs": [
    {
     "data": {
      "text/html": [
       "<div>\n",
       "<style scoped>\n",
       "    .dataframe tbody tr th:only-of-type {\n",
       "        vertical-align: middle;\n",
       "    }\n",
       "\n",
       "    .dataframe tbody tr th {\n",
       "        vertical-align: top;\n",
       "    }\n",
       "\n",
       "    .dataframe thead th {\n",
       "        text-align: right;\n",
       "    }\n",
       "</style>\n",
       "<table border=\"1\" class=\"dataframe\">\n",
       "  <thead>\n",
       "    <tr style=\"text-align: right;\">\n",
       "      <th></th>\n",
       "      <th>docID</th>\n",
       "      <th>year</th>\n",
       "      <th>month</th>\n",
       "      <th>topic_0</th>\n",
       "      <th>topic_1</th>\n",
       "      <th>topic_2</th>\n",
       "      <th>topic_3</th>\n",
       "    </tr>\n",
       "  </thead>\n",
       "  <tbody>\n",
       "    <tr>\n",
       "      <th>0</th>\n",
       "      <td>0</td>\n",
       "      <td>1999</td>\n",
       "      <td>12</td>\n",
       "      <td>0.0</td>\n",
       "      <td>0.833333</td>\n",
       "      <td>0.166667</td>\n",
       "      <td>0.000000</td>\n",
       "    </tr>\n",
       "    <tr>\n",
       "      <th>1</th>\n",
       "      <td>1</td>\n",
       "      <td>1999</td>\n",
       "      <td>11</td>\n",
       "      <td>0.0</td>\n",
       "      <td>0.166667</td>\n",
       "      <td>0.000000</td>\n",
       "      <td>0.833333</td>\n",
       "    </tr>\n",
       "    <tr>\n",
       "      <th>2</th>\n",
       "      <td>2</td>\n",
       "      <td>2000</td>\n",
       "      <td>6</td>\n",
       "      <td>0.0</td>\n",
       "      <td>0.000000</td>\n",
       "      <td>0.000000</td>\n",
       "      <td>1.000000</td>\n",
       "    </tr>\n",
       "    <tr>\n",
       "      <th>3</th>\n",
       "      <td>3</td>\n",
       "      <td>2001</td>\n",
       "      <td>2</td>\n",
       "      <td>0.0</td>\n",
       "      <td>0.000000</td>\n",
       "      <td>0.000000</td>\n",
       "      <td>1.000000</td>\n",
       "    </tr>\n",
       "    <tr>\n",
       "      <th>4</th>\n",
       "      <td>4</td>\n",
       "      <td>2001</td>\n",
       "      <td>9</td>\n",
       "      <td>0.0</td>\n",
       "      <td>0.000000</td>\n",
       "      <td>0.000000</td>\n",
       "      <td>1.000000</td>\n",
       "    </tr>\n",
       "  </tbody>\n",
       "</table>\n",
       "</div>"
      ],
      "text/plain": [
       "   docID  year  month  topic_0   topic_1   topic_2   topic_3\n",
       "0      0  1999     12      0.0  0.833333  0.166667  0.000000\n",
       "1      1  1999     11      0.0  0.166667  0.000000  0.833333\n",
       "2      2  2000      6      0.0  0.000000  0.000000  1.000000\n",
       "3      3  2001      2      0.0  0.000000  0.000000  1.000000\n",
       "4      4  2001      9      0.0  0.000000  0.000000  1.000000"
      ]
     },
     "execution_count": 40,
     "metadata": {},
     "output_type": "execute_result"
    }
   ],
   "source": [
    "joined = id_date.join(theta)\n",
    "joined.head()"
   ]
  },
  {
   "cell_type": "code",
   "execution_count": 41,
   "metadata": {
    "ExecuteTime": {
     "end_time": "2019-02-03T13:24:14.094418Z",
     "start_time": "2019-02-03T13:24:14.071717Z"
    }
   },
   "outputs": [
    {
     "name": "stdout",
     "output_type": "stream",
     "text": [
      "gb.shape: (41, 4)\n"
     ]
    },
    {
     "data": {
      "text/html": [
       "<div>\n",
       "<style scoped>\n",
       "    .dataframe tbody tr th:only-of-type {\n",
       "        vertical-align: middle;\n",
       "    }\n",
       "\n",
       "    .dataframe tbody tr th {\n",
       "        vertical-align: top;\n",
       "    }\n",
       "\n",
       "    .dataframe thead th {\n",
       "        text-align: right;\n",
       "    }\n",
       "</style>\n",
       "<table border=\"1\" class=\"dataframe\">\n",
       "  <thead>\n",
       "    <tr style=\"text-align: right;\">\n",
       "      <th></th>\n",
       "      <th></th>\n",
       "      <th>topic_0</th>\n",
       "      <th>topic_1</th>\n",
       "      <th>topic_2</th>\n",
       "      <th>topic_3</th>\n",
       "    </tr>\n",
       "    <tr>\n",
       "      <th>year</th>\n",
       "      <th>month</th>\n",
       "      <th></th>\n",
       "      <th></th>\n",
       "      <th></th>\n",
       "      <th></th>\n",
       "    </tr>\n",
       "  </thead>\n",
       "  <tbody>\n",
       "    <tr>\n",
       "      <th rowspan=\"2\" valign=\"top\">1999</th>\n",
       "      <th>11</th>\n",
       "      <td>0.0</td>\n",
       "      <td>0.166667</td>\n",
       "      <td>0.000000</td>\n",
       "      <td>0.833333</td>\n",
       "    </tr>\n",
       "    <tr>\n",
       "      <th>12</th>\n",
       "      <td>0.0</td>\n",
       "      <td>0.833333</td>\n",
       "      <td>0.166667</td>\n",
       "      <td>0.000000</td>\n",
       "    </tr>\n",
       "    <tr>\n",
       "      <th>2000</th>\n",
       "      <th>6</th>\n",
       "      <td>0.0</td>\n",
       "      <td>0.000000</td>\n",
       "      <td>0.000000</td>\n",
       "      <td>1.000000</td>\n",
       "    </tr>\n",
       "    <tr>\n",
       "      <th rowspan=\"2\" valign=\"top\">2001</th>\n",
       "      <th>2</th>\n",
       "      <td>0.0</td>\n",
       "      <td>0.000000</td>\n",
       "      <td>0.000000</td>\n",
       "      <td>1.000000</td>\n",
       "    </tr>\n",
       "    <tr>\n",
       "      <th>9</th>\n",
       "      <td>0.0</td>\n",
       "      <td>0.000000</td>\n",
       "      <td>0.000000</td>\n",
       "      <td>1.000000</td>\n",
       "    </tr>\n",
       "  </tbody>\n",
       "</table>\n",
       "</div>"
      ],
      "text/plain": [
       "            topic_0   topic_1   topic_2   topic_3\n",
       "year month                                       \n",
       "1999 11         0.0  0.166667  0.000000  0.833333\n",
       "     12         0.0  0.833333  0.166667  0.000000\n",
       "2000 6          0.0  0.000000  0.000000  1.000000\n",
       "2001 2          0.0  0.000000  0.000000  1.000000\n",
       "     9          0.0  0.000000  0.000000  1.000000"
      ]
     },
     "execution_count": 41,
     "metadata": {},
     "output_type": "execute_result"
    }
   ],
   "source": [
    "topics = ['topic_{}'.format(i) for i in range(select_topics)]\n",
    "gb = joined.groupby(['year', 'month'])[topics].sum()\n",
    "print(f'gb.shape: {gb.shape}')\n",
    "gb.head()"
   ]
  },
  {
   "cell_type": "markdown",
   "metadata": {},
   "source": [
    "### straightforward matrix heatmap"
   ]
  },
  {
   "cell_type": "code",
   "execution_count": 45,
   "metadata": {
    "ExecuteTime": {
     "end_time": "2019-02-03T13:24:38.614879Z",
     "start_time": "2019-02-03T13:24:38.428607Z"
    },
    "scrolled": false
   },
   "outputs": [
    {
     "data": {
      "text/plain": [
       "<matplotlib.image.AxesImage at 0x7fa87e290b00>"
      ]
     },
     "execution_count": 45,
     "metadata": {},
     "output_type": "execute_result"
    },
    {
     "data": {
      "image/png": "[encoded data removed]",
      "text/plain": [
       "<Figure size 360x360 with 1 Axes>"
      ]
     },
     "metadata": {
      "needs_background": "light"
     },
     "output_type": "display_data"
    }
   ],
   "source": [
    "plt.figure(figsize=(5, 5))\n",
    "plt.imshow(gb[topics])"
   ]
  },
  {
   "cell_type": "code",
   "execution_count": null,
   "metadata": {},
   "outputs": [],
   "source": []
  },
  {
   "cell_type": "markdown",
   "metadata": {},
   "source": [
    "## pygal"
   ]
  },
  {
   "cell_type": "code",
   "execution_count": 46,
   "metadata": {
    "ExecuteTime": {
     "end_time": "2019-02-03T13:24:44.155072Z",
     "start_time": "2019-02-03T13:24:44.080974Z"
    }
   },
   "outputs": [],
   "source": [
    "import pygal\n",
    "from IPython.display import SVG, HTML"
   ]
  },
  {
   "cell_type": "code",
   "execution_count": 47,
   "metadata": {
    "ExecuteTime": {
     "end_time": "2019-02-03T13:24:44.370633Z",
     "start_time": "2019-02-03T13:24:44.367435Z"
    }
   },
   "outputs": [],
   "source": [
    "html_pygal = \"\"\"\n",
    "<!DOCTYPE html>\n",
    "<html>\n",
    "  <head>\n",
    "  <script type=\"text/javascript\" src=\"http://kozea.github.com/pygal.js/javascripts/svg.jquery.js\"></script>\n",
    "  <script type=\"text/javascript\" src=\"http://kozea.github.com/pygal.js/javascripts/pygal-tooltips.js\"></script>\n",
    "    <!-- ... -->\n",
    "  </head>\n",
    "  <body>\n",
    "    <figure>\n",
    "      {pygal_render}\n",
    "    </figure>\n",
    "  </body>\n",
    "</html>\n",
    "\"\"\""
   ]
  },
  {
   "cell_type": "code",
   "execution_count": 48,
   "metadata": {
    "ExecuteTime": {
     "end_time": "2019-02-03T13:24:44.705572Z",
     "start_time": "2019-02-03T13:24:44.678208Z"
    },
    "scrolled": false
   },
   "outputs": [
    {
     "data": {
      "text/html": [
       "\n",
       "<!DOCTYPE html>\n",
       "<html>\n",
       "  <head>\n",
       "  <script type=\"text/javascript\" src=\"http://kozea.github.com/pygal.js/javascripts/svg.jquery.js\"></script>\n",
       "  <script type=\"text/javascript\" src=\"http://kozea.github.com/pygal.js/javascripts/pygal-tooltips.js\"></script>\n",
       "    <!-- ... -->\n",
       "  </head>\n",
       "  <body>\n",
       "    <figure>\n",
       "      <?xml version='1.0' encoding='utf-8'?>\n",
       "<svg xmlns:xlink=\"http://www.w3.org/1999/xlink\" xmlns=\"http://www.w3.org/2000/svg\" id=\"chart-ea9ac9cb-70d5-4323-8d54-ebd32fb1a09b\" class=\"pygal-chart\" viewBox=\"0 0 800 600\"><!--Generated with pygal 2.4.0 (lxml) ©Kozea 2012-2016 on 2019-02-03--><!--http://pygal.org--><!--http://github.com/Kozea/pygal--><defs><style type=\"text/css\">#chart-ea9ac9cb-70d5-4323-8d54-ebd32fb1a09b{-webkit-user-select:none;-webkit-font-smoothing:antialiased;font-family:Consolas,\"Liberation Mono\",Menlo,Courier,monospace}#chart-ea9ac9cb-70d5-4323-8d54-ebd32fb1a09b .title{font-family:Consolas,\"Liberation Mono\",Menlo,Courier,monospace;font-size:16px}#chart-ea9ac9cb-70d5-4323-8d54-ebd32fb1a09b .legends .legend text{font-family:Consolas,\"Liberation Mono\",Menlo,Courier,monospace;font-size:14px}#chart-ea9ac9cb-70d5-4323-8d54-ebd32fb1a09b .axis text{font-family:Consolas,\"Liberation Mono\",Menlo,Courier,monospace;font-size:10px}#chart-ea9ac9cb-70d5-4323-8d54-ebd32fb1a09b .axis text.major{font-family:Consolas,\"Liberation Mono\",Menlo,Courier,monospace;font-size:10px}#chart-ea9ac9cb-70d5-4323-8d54-ebd32fb1a09b .text-overlay text.value{font-family:Consolas,\"Liberation Mono\",Menlo,Courier,monospace;font-size:16px}#chart-ea9ac9cb-70d5-4323-8d54-ebd32fb1a09b .text-overlay text.label{font-family:Consolas,\"Liberation Mono\",Menlo,Courier,monospace;font-size:10px}#chart-ea9ac9cb-70d5-4323-8d54-ebd32fb1a09b .tooltip{font-family:Consolas,\"Liberation Mono\",Menlo,Courier,monospace;font-size:14px}#chart-ea9ac9cb-70d5-4323-8d54-ebd32fb1a09b text.no_data{font-family:Consolas,\"Liberation Mono\",Menlo,Courier,monospace;font-size:64px}\n",
       "#chart-ea9ac9cb-70d5-4323-8d54-ebd32fb1a09b{background-color:rgba(249,249,249,1)}#chart-ea9ac9cb-70d5-4323-8d54-ebd32fb1a09b path,#chart-ea9ac9cb-70d5-4323-8d54-ebd32fb1a09b line,#chart-ea9ac9cb-70d5-4323-8d54-ebd32fb1a09b rect,#chart-ea9ac9cb-70d5-4323-8d54-ebd32fb1a09b circle{-webkit-transition:150ms;-moz-transition:150ms;transition:150ms}#chart-ea9ac9cb-70d5-4323-8d54-ebd32fb1a09b .graph &gt; .background{fill:rgba(249,249,249,1)}#chart-ea9ac9cb-70d5-4323-8d54-ebd32fb1a09b .plot &gt; .background{fill:rgba(255,255,255,1)}#chart-ea9ac9cb-70d5-4323-8d54-ebd32fb1a09b .graph{fill:rgba(0,0,0,.87)}#chart-ea9ac9cb-70d5-4323-8d54-ebd32fb1a09b text.no_data{fill:rgba(0,0,0,1)}#chart-ea9ac9cb-70d5-4323-8d54-ebd32fb1a09b .title{fill:rgba(0,0,0,1)}#chart-ea9ac9cb-70d5-4323-8d54-ebd32fb1a09b .legends .legend text{fill:rgba(0,0,0,.87)}#chart-ea9ac9cb-70d5-4323-8d54-ebd32fb1a09b .legends .legend:hover text{fill:rgba(0,0,0,1)}#chart-ea9ac9cb-70d5-4323-8d54-ebd32fb1a09b .axis .line{stroke:rgba(0,0,0,1)}#chart-ea9ac9cb-70d5-4323-8d54-ebd32fb1a09b .axis .guide.line{stroke:rgba(0,0,0,.54)}#chart-ea9ac9cb-70d5-4323-8d54-ebd32fb1a09b .axis .major.line{stroke:rgba(0,0,0,.87)}#chart-ea9ac9cb-70d5-4323-8d54-ebd32fb1a09b .axis text.major{fill:rgba(0,0,0,1)}#chart-ea9ac9cb-70d5-4323-8d54-ebd32fb1a09b .axis.y .guides:hover .guide.line,#chart-ea9ac9cb-70d5-4323-8d54-ebd32fb1a09b .line-graph .axis.x .guides:hover .guide.line,#chart-ea9ac9cb-70d5-4323-8d54-ebd32fb1a09b .stackedline-graph .axis.x .guides:hover .guide.line,#chart-ea9ac9cb-70d5-4323-8d54-ebd32fb1a09b .xy-graph .axis.x .guides:hover .guide.line{stroke:rgba(0,0,0,1)}#chart-ea9ac9cb-70d5-4323-8d54-ebd32fb1a09b .axis .guides:hover text{fill:rgba(0,0,0,1)}#chart-ea9ac9cb-70d5-4323-8d54-ebd32fb1a09b .reactive{fill-opacity:.7;stroke-opacity:.8}#chart-ea9ac9cb-70d5-4323-8d54-ebd32fb1a09b .ci{stroke:rgba(0,0,0,.87)}#chart-ea9ac9cb-70d5-4323-8d54-ebd32fb1a09b .reactive.active,#chart-ea9ac9cb-70d5-4323-8d54-ebd32fb1a09b .active .reactive{fill-opacity:.8;stroke-opacity:.9;stroke-width:4}#chart-ea9ac9cb-70d5-4323-8d54-ebd32fb1a09b .ci .reactive.active{stroke-width:1.5}#chart-ea9ac9cb-70d5-4323-8d54-ebd32fb1a09b .series text{fill:rgba(0,0,0,1)}#chart-ea9ac9cb-70d5-4323-8d54-ebd32fb1a09b .tooltip rect{fill:rgba(255,255,255,1);stroke:rgba(0,0,0,1);-webkit-transition:opacity 150ms;-moz-transition:opacity 150ms;transition:opacity 150ms}#chart-ea9ac9cb-70d5-4323-8d54-ebd32fb1a09b .tooltip .label{fill:rgba(0,0,0,.87)}#chart-ea9ac9cb-70d5-4323-8d54-ebd32fb1a09b .tooltip .label{fill:rgba(0,0,0,.87)}#chart-ea9ac9cb-70d5-4323-8d54-ebd32fb1a09b .tooltip .legend{font-size:.8em;fill:rgba(0,0,0,.54)}#chart-ea9ac9cb-70d5-4323-8d54-ebd32fb1a09b .tooltip .x_label{font-size:.6em;fill:rgba(0,0,0,1)}#chart-ea9ac9cb-70d5-4323-8d54-ebd32fb1a09b .tooltip .xlink{font-size:.5em;text-decoration:underline}#chart-ea9ac9cb-70d5-4323-8d54-ebd32fb1a09b .tooltip .value{font-size:1.5em}#chart-ea9ac9cb-70d5-4323-8d54-ebd32fb1a09b .bound{font-size:.5em}#chart-ea9ac9cb-70d5-4323-8d54-ebd32fb1a09b .max-value{font-size:.75em;fill:rgba(0,0,0,.54)}#chart-ea9ac9cb-70d5-4323-8d54-ebd32fb1a09b .map-element{fill:rgba(255,255,255,1);stroke:rgba(0,0,0,.54) !important}#chart-ea9ac9cb-70d5-4323-8d54-ebd32fb1a09b .map-element .reactive{fill-opacity:inherit;stroke-opacity:inherit}#chart-ea9ac9cb-70d5-4323-8d54-ebd32fb1a09b .color-0,#chart-ea9ac9cb-70d5-4323-8d54-ebd32fb1a09b .color-0 a:visited{stroke:#F44336;fill:#F44336}#chart-ea9ac9cb-70d5-4323-8d54-ebd32fb1a09b .color-1,#chart-ea9ac9cb-70d5-4323-8d54-ebd32fb1a09b .color-1 a:visited{stroke:#3F51B5;fill:#3F51B5}#chart-ea9ac9cb-70d5-4323-8d54-ebd32fb1a09b .color-2,#chart-ea9ac9cb-70d5-4323-8d54-ebd32fb1a09b .color-2 a:visited{stroke:#009688;fill:#009688}#chart-ea9ac9cb-70d5-4323-8d54-ebd32fb1a09b .color-3,#chart-ea9ac9cb-70d5-4323-8d54-ebd32fb1a09b .color-3 a:visited{stroke:#FFC107;fill:#FFC107}#chart-ea9ac9cb-70d5-4323-8d54-ebd32fb1a09b .text-overlay .color-0 text{fill:black}#chart-ea9ac9cb-70d5-4323-8d54-ebd32fb1a09b .text-overlay .color-1 text{fill:black}#chart-ea9ac9cb-70d5-4323-8d54-ebd32fb1a09b .text-overlay .color-2 text{fill:black}#chart-ea9ac9cb-70d5-4323-8d54-ebd32fb1a09b .text-overlay .color-3 text{fill:black}\n",
       "#chart-ea9ac9cb-70d5-4323-8d54-ebd32fb1a09b text.no_data{text-anchor:middle}#chart-ea9ac9cb-70d5-4323-8d54-ebd32fb1a09b .guide.line{fill:none}#chart-ea9ac9cb-70d5-4323-8d54-ebd32fb1a09b .centered{text-anchor:middle}#chart-ea9ac9cb-70d5-4323-8d54-ebd32fb1a09b .title{text-anchor:middle}#chart-ea9ac9cb-70d5-4323-8d54-ebd32fb1a09b .legends .legend text{fill-opacity:1}#chart-ea9ac9cb-70d5-4323-8d54-ebd32fb1a09b .axis.x text{text-anchor:middle}#chart-ea9ac9cb-70d5-4323-8d54-ebd32fb1a09b .axis.x:not(.web) text[transform]{text-anchor:start}#chart-ea9ac9cb-70d5-4323-8d54-ebd32fb1a09b .axis.x:not(.web) text[transform].backwards{text-anchor:end}#chart-ea9ac9cb-70d5-4323-8d54-ebd32fb1a09b .axis.y text{text-anchor:end}#chart-ea9ac9cb-70d5-4323-8d54-ebd32fb1a09b .axis.y text[transform].backwards{text-anchor:start}#chart-ea9ac9cb-70d5-4323-8d54-ebd32fb1a09b .axis.y2 text{text-anchor:start}#chart-ea9ac9cb-70d5-4323-8d54-ebd32fb1a09b .axis.y2 text[transform].backwards{text-anchor:end}#chart-ea9ac9cb-70d5-4323-8d54-ebd32fb1a09b .axis .guide.line{stroke-dasharray:4,4}#chart-ea9ac9cb-70d5-4323-8d54-ebd32fb1a09b .axis .major.guide.line{stroke-dasharray:6,6}#chart-ea9ac9cb-70d5-4323-8d54-ebd32fb1a09b .horizontal .axis.y .guide.line,#chart-ea9ac9cb-70d5-4323-8d54-ebd32fb1a09b .horizontal .axis.y2 .guide.line,#chart-ea9ac9cb-70d5-4323-8d54-ebd32fb1a09b .vertical .axis.x .guide.line{opacity:0}#chart-ea9ac9cb-70d5-4323-8d54-ebd32fb1a09b .horizontal .axis.always_show .guide.line,#chart-ea9ac9cb-70d5-4323-8d54-ebd32fb1a09b .vertical .axis.always_show .guide.line{opacity:1 !important}#chart-ea9ac9cb-70d5-4323-8d54-ebd32fb1a09b .axis.y .guides:hover .guide.line,#chart-ea9ac9cb-70d5-4323-8d54-ebd32fb1a09b .axis.y2 .guides:hover .guide.line,#chart-ea9ac9cb-70d5-4323-8d54-ebd32fb1a09b .axis.x .guides:hover .guide.line{opacity:1}#chart-ea9ac9cb-70d5-4323-8d54-ebd32fb1a09b .axis .guides:hover text{opacity:1}#chart-ea9ac9cb-70d5-4323-8d54-ebd32fb1a09b .nofill{fill:none}#chart-ea9ac9cb-70d5-4323-8d54-ebd32fb1a09b .subtle-fill{fill-opacity:.2}#chart-ea9ac9cb-70d5-4323-8d54-ebd32fb1a09b .dot{stroke-width:1px;fill-opacity:1}#chart-ea9ac9cb-70d5-4323-8d54-ebd32fb1a09b .dot.active{stroke-width:5px}#chart-ea9ac9cb-70d5-4323-8d54-ebd32fb1a09b .dot.negative{fill:transparent}#chart-ea9ac9cb-70d5-4323-8d54-ebd32fb1a09b text,#chart-ea9ac9cb-70d5-4323-8d54-ebd32fb1a09b tspan{stroke:none !important}#chart-ea9ac9cb-70d5-4323-8d54-ebd32fb1a09b .series text.active{opacity:1}#chart-ea9ac9cb-70d5-4323-8d54-ebd32fb1a09b .tooltip rect{fill-opacity:.95;stroke-width:.5}#chart-ea9ac9cb-70d5-4323-8d54-ebd32fb1a09b .tooltip text{fill-opacity:1}#chart-ea9ac9cb-70d5-4323-8d54-ebd32fb1a09b .showable{visibility:hidden}#chart-ea9ac9cb-70d5-4323-8d54-ebd32fb1a09b .showable.shown{visibility:visible}#chart-ea9ac9cb-70d5-4323-8d54-ebd32fb1a09b .gauge-background{fill:rgba(229,229,229,1);stroke:none}#chart-ea9ac9cb-70d5-4323-8d54-ebd32fb1a09b .bg-lines{stroke:rgba(249,249,249,1);stroke-width:2px}</style><script type=\"text/javascript\">window.pygal = window.pygal || {};window.pygal.config = window.pygal.config || {};window.pygal.config['ea9ac9cb-70d5-4323-8d54-ebd32fb1a09b'] = {\"allow_interruptions\": false, \"box_mode\": \"extremes\", \"classes\": [\"pygal-chart\"], \"css\": [\"file://style.css\", \"file://graph.css\"], \"defs\": [], \"disable_xml_declaration\": false, \"dots_size\": 2.5, \"dynamic_print_values\": false, \"explicit_size\": false, \"fill\": true, \"force_uri_protocol\": \"https\", \"formatter\": null, \"half_pie\": false, \"height\": 600, \"include_x_axis\": false, \"inner_radius\": 0, \"interpolate\": null, \"interpolation_parameters\": {}, \"interpolation_precision\": 250, \"inverse_y_axis\": false, \"js\": [\"//kozea.github.io/pygal.js/2.0.x/pygal-tooltips.min.js\"], \"legend_at_bottom\": false, \"legend_at_bottom_columns\": null, \"legend_box_size\": 12, \"logarithmic\": false, \"margin\": 20, \"margin_bottom\": null, \"margin_left\": null, \"margin_right\": null, \"margin_top\": null, \"max_scale\": 16, \"min_scale\": 4, \"missing_value_fill_truncation\": \"x\", \"no_data_text\": \"No data\", \"no_prefix\": false, \"order_min\": null, \"pretty_print\": false, \"print_labels\": false, \"print_values\": false, \"print_values_position\": \"center\", \"print_zeroes\": true, \"range\": null, \"rounded_bars\": null, \"secondary_range\": null, \"show_dots\": false, \"show_legend\": true, \"show_minor_x_labels\": true, \"show_minor_y_labels\": true, \"show_only_major_dots\": false, \"show_x_guides\": false, \"show_x_labels\": true, \"show_y_guides\": true, \"show_y_labels\": true, \"spacing\": 10, \"stack_from_top\": false, \"strict\": false, \"stroke\": true, \"stroke_style\": null, \"style\": {\"background\": \"rgba(249, 249, 249, 1)\", \"ci_colors\": [], \"colors\": [\"#F44336\", \"#3F51B5\", \"#009688\", \"#FFC107\", \"#FF5722\", \"#9C27B0\", \"#03A9F4\", \"#8BC34A\", \"#FF9800\", \"#E91E63\", \"#2196F3\", \"#4CAF50\", \"#FFEB3B\", \"#673AB7\", \"#00BCD4\", \"#CDDC39\", \"#9E9E9E\", \"#607D8B\"], \"font_family\": \"Consolas, \\\"Liberation Mono\\\", Menlo, Courier, monospace\", \"foreground\": \"rgba(0, 0, 0, .87)\", \"foreground_strong\": \"rgba(0, 0, 0, 1)\", \"foreground_subtle\": \"rgba(0, 0, 0, .54)\", \"guide_stroke_dasharray\": \"4,4\", \"label_font_family\": \"Consolas, \\\"Liberation Mono\\\", Menlo, Courier, monospace\", \"label_font_size\": 10, \"legend_font_family\": \"Consolas, \\\"Liberation Mono\\\", Menlo, Courier, monospace\", \"legend_font_size\": 14, \"major_guide_stroke_dasharray\": \"6,6\", \"major_label_font_family\": \"Consolas, \\\"Liberation Mono\\\", Menlo, Courier, monospace\", \"major_label_font_size\": 10, \"no_data_font_family\": \"Consolas, \\\"Liberation Mono\\\", Menlo, Courier, monospace\", \"no_data_font_size\": 64, \"opacity\": \".7\", \"opacity_hover\": \".8\", \"plot_background\": \"rgba(255, 255, 255, 1)\", \"stroke_opacity\": \".8\", \"stroke_opacity_hover\": \".9\", \"title_font_family\": \"Consolas, \\\"Liberation Mono\\\", Menlo, Courier, monospace\", \"title_font_size\": 16, \"tooltip_font_family\": \"Consolas, \\\"Liberation Mono\\\", Menlo, Courier, monospace\", \"tooltip_font_size\": 14, \"transition\": \"150ms\", \"value_background\": \"rgba(229, 229, 229, 1)\", \"value_colors\": [], \"value_font_family\": \"Consolas, \\\"Liberation Mono\\\", Menlo, Courier, monospace\", \"value_font_size\": 16, \"value_label_font_family\": \"Consolas, \\\"Liberation Mono\\\", Menlo, Courier, monospace\", \"value_label_font_size\": 10}, \"title\": \"Topics\", \"tooltip_border_radius\": 0, \"tooltip_fancy_mode\": true, \"truncate_label\": null, \"truncate_legend\": null, \"width\": 800, \"x_label_rotation\": 0, \"x_labels\": null, \"x_labels_major\": null, \"x_labels_major_count\": null, \"x_labels_major_every\": null, \"x_title\": null, \"xrange\": null, \"y_label_rotation\": 0, \"y_labels\": null, \"y_labels_major\": null, \"y_labels_major_count\": null, \"y_labels_major_every\": null, \"y_title\": null, \"zero\": 0, \"legends\": [\"topic_0\", \"topic_1\", \"topic_2\", \"topic_3\"]}</script><script type=\"text/javascript\" xlink:href=\"https://kozea.github.io/pygal.js/2.0.x/pygal-tooltips.min.js\"/></defs><title>Topics</title><g class=\"graph stackedline-graph vertical\"><rect class=\"background\" height=\"600\" width=\"800\" x=\"0\" y=\"0\"/><g class=\"plot\" transform=\"translate(122, 46)\"><rect class=\"background\" height=\"534\" width=\"657.2\" x=\"0\" y=\"0\"/><g class=\"axis y always_show\"><g class=\"guides\"><path class=\"axis major line\" d=\"M0.000000 523.730769 h657.200000\"/><text class=\"major\" x=\"-5\" y=\"527.2307692307693\">0</text><title>0</title></g><g class=\"guides\"><path class=\"guide line\" d=\"M0.000000 482.653846 h657.200000\"/><text class=\"\" x=\"-5\" y=\"486.15384615384613\">2</text><title>2</title></g><g class=\"guides\"><path class=\"guide line\" d=\"M0.000000 441.576923 h657.200000\"/><text class=\"\" x=\"-5\" y=\"445.0769230769231\">4</text><title>4</title></g><g class=\"guides\"><path class=\"guide line\" d=\"M0.000000 400.500000 h657.200000\"/><text class=\"\" x=\"-5\" y=\"404.0\">6</text><title>6</title></g><g class=\"guides\"><path class=\"guide line\" d=\"M0.000000 359.423077 h657.200000\"/><text class=\"\" x=\"-5\" y=\"362.9230769230769\">8</text><title>8</title></g><g class=\"guides\"><path class=\"major guide line\" d=\"M0.000000 318.346154 h657.200000\"/><text class=\"major\" x=\"-5\" y=\"321.8461538461538\">10</text><title>10</title></g><g class=\"guides\"><path class=\"guide line\" d=\"M0.000000 277.269231 h657.200000\"/><text class=\"\" x=\"-5\" y=\"280.7692307692308\">12</text><title>12</title></g><g class=\"guides\"><path class=\"guide line\" d=\"M0.000000 236.192308 h657.200000\"/><text class=\"\" x=\"-5\" y=\"239.69230769230768\">14</text><title>14</title></g><g class=\"guides\"><path class=\"guide line\" d=\"M0.000000 195.115385 h657.200000\"/><text class=\"\" x=\"-5\" y=\"198.61538461538464\">16</text><title>16</title></g><g class=\"guides\"><path class=\"guide line\" d=\"M0.000000 154.038462 h657.200000\"/><text class=\"\" x=\"-5\" y=\"157.53846153846155\">18</text><title>18</title></g><g class=\"guides\"><path class=\"major guide line\" d=\"M0.000000 112.961538 h657.200000\"/><text class=\"major\" x=\"-5\" y=\"116.46153846153845\">20</text><title>20</title></g><g class=\"guides\"><path class=\"guide line\" d=\"M0.000000 71.884615 h657.200000\"/><text class=\"\" x=\"-5\" y=\"75.38461538461536\">22</text><title>22</title></g><g class=\"guides\"><path class=\"guide line\" d=\"M0.000000 30.807692 h657.200000\"/><text class=\"\" x=\"-5\" y=\"34.30769230769232\">24</text><title>24</title></g></g><g class=\"series serie-0 color-0\"><path class=\"line reactive\" d=\"M12.638462 523.730769 L12.638462 523.730769 28.436538 523.730769 44.234615 523.730769 60.032692 523.730769 75.830769 523.730769 91.628846 503.192308 107.426923 523.730769 123.225000 523.730769 139.023077 523.730769 154.821154 523.730769 170.619231 523.730769 186.417308 523.730769 202.215385 523.730769 218.013462 523.545738 233.811538 523.730769 249.609615 523.730769 265.407692 523.730769 281.205769 513.461538 297.003846 523.730769 312.801923 523.730769 328.600000 523.730769 344.398077 523.730769 360.196154 523.730769 375.994231 523.730769 391.792308 521.676923 407.590385 520.796703 423.388462 523.730769 439.186538 523.730769 454.984615 507.756410 470.782692 513.461538 486.580769 523.730769 502.378846 511.784229 518.176923 482.081568 533.975000 512.320511 549.773077 458.349999 565.571154 375.444824 581.369231 466.105194 597.167308 479.387542 612.965385 433.911265 628.763462 507.300000 644.561538 513.461538 644.561538 523.730769\"/></g><g class=\"series serie-1 color-1\"><path class=\"line reactive\" d=\"M12.638462 520.307693 L28.436538 506.615384 44.234615 523.730769 60.032692 523.730769 75.830769 523.730769 91.628846 503.192308 107.426923 513.461537 123.225000 523.730769 139.023077 523.730769 154.821154 523.730769 170.619231 513.461538 186.417308 516.884616 202.215385 518.596153 218.013462 503.377339 233.811538 523.730769 249.609615 503.192308 265.407692 523.730769 281.205769 513.461538 297.003846 523.730769 312.801923 523.730769 328.600000 523.730769 344.398077 508.326923 360.196154 503.192308 375.994231 523.730769 391.792308 512.434615 407.590385 517.862638 423.388462 510.441176 439.186538 513.461538 454.984615 499.483974 470.782692 510.894231 486.580769 523.730769 502.378846 498.703186 518.176923 443.055311 533.975000 452.070282 549.773077 349.545057 565.571154 188.080370 581.369231 348.430268 597.167308 353.842235 612.965385 331.321613 628.763462 499.312820 644.561538 513.461538 644.561538 513.461538 628.763462 507.300000 612.965385 433.911265 597.167308 479.387542 581.369231 466.105194 565.571154 375.444824 549.773077 458.349999 533.975000 512.320511 518.176923 482.081568 502.378846 511.784229 486.580769 523.730769 470.782692 513.461538 454.984615 507.756410 439.186538 523.730769 423.388462 523.730769 407.590385 520.796703 391.792308 521.676923 375.994231 523.730769 360.196154 523.730769 344.398077 523.730769 328.600000 523.730769 312.801923 523.730769 297.003846 523.730769 281.205769 513.461538 265.407692 523.730769 249.609615 523.730769 233.811538 523.730769 218.013462 523.545738 202.215385 523.730769 186.417308 523.730769 170.619231 523.730769 154.821154 523.730769 139.023077 523.730769 123.225000 523.730769 107.426923 523.730769 91.628846 503.192308 75.830769 523.730769 60.032692 523.730769 44.234615 523.730769 28.436538 523.730769 12.638462 523.730769\"/></g><g class=\"series serie-2 color-2\"><path class=\"line reactive\" d=\"M12.638462 520.307693 L28.436538 503.192307 44.234615 523.730769 60.032692 523.730769 75.830769 523.730769 91.628846 503.192308 107.426923 513.461537 123.225000 523.730769 139.023077 523.730769 154.821154 523.730769 170.619231 513.461538 186.417308 510.038462 202.215385 518.596153 218.013462 503.377339 233.811538 503.192308 249.609615 503.192308 265.407692 523.730769 281.205769 513.461538 297.003846 523.730769 312.801923 523.730769 328.600000 523.730769 344.398077 508.326923 360.196154 503.192308 375.994231 505.246153 391.792308 512.434615 407.590385 517.862638 423.388462 509.233031 439.186538 513.461538 454.984615 498.628205 470.782692 482.653846 486.580769 508.326921 502.378846 452.897524 518.176923 422.246607 533.975000 400.271795 549.773077 263.772532 565.571154 95.380107 581.369231 249.254043 597.167308 291.676353 612.965385 271.068984 628.763462 499.312820 644.561538 513.461538 644.561538 513.461538 628.763462 499.312820 612.965385 331.321613 597.167308 353.842235 581.369231 348.430268 565.571154 188.080370 549.773077 349.545057 533.975000 452.070282 518.176923 443.055311 502.378846 498.703186 486.580769 523.730769 470.782692 510.894231 454.984615 499.483974 439.186538 513.461538 423.388462 510.441176 407.590385 517.862638 391.792308 512.434615 375.994231 523.730769 360.196154 503.192308 344.398077 508.326923 328.600000 523.730769 312.801923 523.730769 297.003846 523.730769 281.205769 513.461538 265.407692 523.730769 249.609615 503.192308 233.811538 523.730769 218.013462 503.377339 202.215385 518.596153 186.417308 516.884616 170.619231 513.461538 154.821154 523.730769 139.023077 523.730769 123.225000 523.730769 107.426923 513.461537 91.628846 503.192308 75.830769 523.730769 60.032692 523.730769 44.234615 523.730769 28.436538 506.615384 12.638462 520.307693\"/></g><g class=\"series serie-3 color-3\"><path class=\"line reactive\" d=\"M12.638462 503.192307 L28.436538 503.192307 44.234615 503.192308 60.032692 503.192308 75.830769 503.192308 91.628846 503.192308 107.426923 503.192306 123.225000 523.730769 139.023077 523.730769 154.821154 503.192308 170.619231 503.192308 186.417308 503.192308 202.215385 503.192307 218.013462 503.192308 233.811538 503.192308 249.609615 482.653846 265.407692 523.730769 281.205769 503.192306 297.003846 523.730769 312.801923 523.730769 328.600000 523.730769 344.398077 503.192308 360.196154 503.192308 375.994231 503.192307 391.792308 482.653845 407.590385 503.192308 423.388462 503.192308 439.186538 503.192308 454.984615 482.653846 470.782692 482.653846 486.580769 503.192306 502.378846 441.576919 518.176923 421.038463 533.975000 379.961538 549.773077 256.730774 565.571154 10.269231 581.369231 215.653841 597.167308 256.730767 612.965385 215.653851 628.763462 441.576926 644.561538 503.192306 644.561538 513.461538 628.763462 499.312820 612.965385 271.068984 597.167308 291.676353 581.369231 249.254043 565.571154 95.380107 549.773077 263.772532 533.975000 400.271795 518.176923 422.246607 502.378846 452.897524 486.580769 508.326921 470.782692 482.653846 454.984615 498.628205 439.186538 513.461538 423.388462 509.233031 407.590385 517.862638 391.792308 512.434615 375.994231 505.246153 360.196154 503.192308 344.398077 508.326923 328.600000 523.730769 312.801923 523.730769 297.003846 523.730769 281.205769 513.461538 265.407692 523.730769 249.609615 503.192308 233.811538 503.192308 218.013462 503.377339 202.215385 518.596153 186.417308 510.038462 170.619231 513.461538 154.821154 523.730769 139.023077 523.730769 123.225000 523.730769 107.426923 513.461537 91.628846 503.192308 75.830769 523.730769 60.032692 523.730769 44.234615 523.730769 28.436538 503.192307 12.638462 520.307693\"/></g></g><g class=\"titles\"><text class=\"title plot_title\" x=\"400.0\" y=\"26\">Topics</text></g><g class=\"plot overlay\" transform=\"translate(122, 46)\"><g class=\"series serie-0 color-0\"/><g class=\"series serie-1 color-1\"/><g class=\"series serie-2 color-2\"/><g class=\"series serie-3 color-3\"/></g><g class=\"plot text-overlay\" transform=\"translate(122, 46)\"><g class=\"series serie-0 color-0\"/><g class=\"series serie-1 color-1\"/><g class=\"series serie-2 color-2\"/><g class=\"series serie-3 color-3\"/></g><g class=\"plot tooltip-overlay\" transform=\"translate(122, 46)\"><g class=\"tooltip\" style=\"opacity: 0\" transform=\"translate(0 0)\"><rect class=\"tooltip-box\" height=\"0\" rx=\"0\" ry=\"0\" width=\"0\"/><g class=\"text\"/></g></g><g class=\"legends\" transform=\"translate(10, 56)\"><g class=\"legend reactive activate-serie\" id=\"activate-serie-0\"><rect class=\"color-0 reactive\" height=\"12\" width=\"12\" x=\"0.0\" y=\"1.0\"/><text x=\"17.0\" y=\"11.2\">topic_0</text></g><g class=\"legend reactive activate-serie\" id=\"activate-serie-1\"><rect class=\"color-1 reactive\" height=\"12\" width=\"12\" x=\"0.0\" y=\"22.0\"/><text x=\"17.0\" y=\"32.2\">topic_1</text></g><g class=\"legend reactive activate-serie\" id=\"activate-serie-2\"><rect class=\"color-2 reactive\" height=\"12\" width=\"12\" x=\"0.0\" y=\"43.0\"/><text x=\"17.0\" y=\"53.2\">topic_2</text></g><g class=\"legend reactive activate-serie\" id=\"activate-serie-3\"><rect class=\"color-3 reactive\" height=\"12\" width=\"12\" x=\"0.0\" y=\"64.0\"/><text x=\"17.0\" y=\"74.2\">topic_3</text></g></g><g class=\"legends\" transform=\"translate(790, 56)\"/></g></svg>\n",
       "    </figure>\n",
       "  </body>\n",
       "</html>\n"
      ],
      "text/plain": [
       "<IPython.core.display.HTML object>"
      ]
     },
     "execution_count": 48,
     "metadata": {},
     "output_type": "execute_result"
    }
   ],
   "source": [
    "line_chart = pygal.StackedLine(fill=True, show_dots=False)\n",
    "line_chart.title = 'Topics'\n",
    "for topic in topics:\n",
    "    line_chart.add(topic, gb[topic].values)\n",
    "    \n",
    "HTML(html_pygal.format(pygal_render=line_chart.render(is_unicode=True)))"
   ]
  },
  {
   "cell_type": "code",
   "execution_count": 49,
   "metadata": {
    "ExecuteTime": {
     "end_time": "2019-02-03T13:24:46.868020Z",
     "start_time": "2019-02-03T13:24:46.846094Z"
    }
   },
   "outputs": [],
   "source": [
    "line_chart.render_to_file(f'data/visualization/{name_dataset}_pygal.svg')"
   ]
  },
  {
   "cell_type": "markdown",
   "metadata": {},
   "source": [
    "## joypy"
   ]
  },
  {
   "cell_type": "code",
   "execution_count": 50,
   "metadata": {
    "ExecuteTime": {
     "end_time": "2019-02-03T13:24:48.322217Z",
     "start_time": "2019-02-03T13:24:48.316721Z"
    }
   },
   "outputs": [],
   "source": [
    "import joypy # !pip install joypy"
   ]
  },
  {
   "cell_type": "code",
   "execution_count": 51,
   "metadata": {
    "ExecuteTime": {
     "end_time": "2019-02-03T13:24:48.708241Z",
     "start_time": "2019-02-03T13:24:48.691748Z"
    },
    "scrolled": true
   },
   "outputs": [
    {
     "name": "stdout",
     "output_type": "stream",
     "text": [
      "(142, 7)\n"
     ]
    },
    {
     "data": {
      "text/html": [
       "<div>\n",
       "<style scoped>\n",
       "    .dataframe tbody tr th:only-of-type {\n",
       "        vertical-align: middle;\n",
       "    }\n",
       "\n",
       "    .dataframe tbody tr th {\n",
       "        vertical-align: top;\n",
       "    }\n",
       "\n",
       "    .dataframe thead th {\n",
       "        text-align: right;\n",
       "    }\n",
       "</style>\n",
       "<table border=\"1\" class=\"dataframe\">\n",
       "  <thead>\n",
       "    <tr style=\"text-align: right;\">\n",
       "      <th></th>\n",
       "      <th>docID</th>\n",
       "      <th>year</th>\n",
       "      <th>month</th>\n",
       "      <th>topic_0</th>\n",
       "      <th>topic_1</th>\n",
       "      <th>topic_2</th>\n",
       "      <th>topic_3</th>\n",
       "    </tr>\n",
       "  </thead>\n",
       "  <tbody>\n",
       "    <tr>\n",
       "      <th>0</th>\n",
       "      <td>0</td>\n",
       "      <td>1999</td>\n",
       "      <td>12</td>\n",
       "      <td>0.0</td>\n",
       "      <td>0.833333</td>\n",
       "      <td>0.166667</td>\n",
       "      <td>0.000000</td>\n",
       "    </tr>\n",
       "    <tr>\n",
       "      <th>1</th>\n",
       "      <td>1</td>\n",
       "      <td>1999</td>\n",
       "      <td>11</td>\n",
       "      <td>0.0</td>\n",
       "      <td>0.166667</td>\n",
       "      <td>0.000000</td>\n",
       "      <td>0.833333</td>\n",
       "    </tr>\n",
       "    <tr>\n",
       "      <th>2</th>\n",
       "      <td>2</td>\n",
       "      <td>2000</td>\n",
       "      <td>6</td>\n",
       "      <td>0.0</td>\n",
       "      <td>0.000000</td>\n",
       "      <td>0.000000</td>\n",
       "      <td>1.000000</td>\n",
       "    </tr>\n",
       "    <tr>\n",
       "      <th>3</th>\n",
       "      <td>3</td>\n",
       "      <td>2001</td>\n",
       "      <td>2</td>\n",
       "      <td>0.0</td>\n",
       "      <td>0.000000</td>\n",
       "      <td>0.000000</td>\n",
       "      <td>1.000000</td>\n",
       "    </tr>\n",
       "    <tr>\n",
       "      <th>4</th>\n",
       "      <td>4</td>\n",
       "      <td>2001</td>\n",
       "      <td>9</td>\n",
       "      <td>0.0</td>\n",
       "      <td>0.000000</td>\n",
       "      <td>0.000000</td>\n",
       "      <td>1.000000</td>\n",
       "    </tr>\n",
       "  </tbody>\n",
       "</table>\n",
       "</div>"
      ],
      "text/plain": [
       "   docID  year  month  topic_0   topic_1   topic_2   topic_3\n",
       "0      0  1999     12      0.0  0.833333  0.166667  0.000000\n",
       "1      1  1999     11      0.0  0.166667  0.000000  0.833333\n",
       "2      2  2000      6      0.0  0.000000  0.000000  1.000000\n",
       "3      3  2001      2      0.0  0.000000  0.000000  1.000000\n",
       "4      4  2001      9      0.0  0.000000  0.000000  1.000000"
      ]
     },
     "execution_count": 51,
     "metadata": {},
     "output_type": "execute_result"
    }
   ],
   "source": [
    "print(joined.shape)\n",
    "joined.head()"
   ]
  },
  {
   "cell_type": "code",
   "execution_count": 52,
   "metadata": {
    "ExecuteTime": {
     "end_time": "2019-02-03T13:24:49.326453Z",
     "start_time": "2019-02-03T13:24:49.300838Z"
    }
   },
   "outputs": [
    {
     "data": {
      "text/html": [
       "<div>\n",
       "<style scoped>\n",
       "    .dataframe tbody tr th:only-of-type {\n",
       "        vertical-align: middle;\n",
       "    }\n",
       "\n",
       "    .dataframe tbody tr th {\n",
       "        vertical-align: top;\n",
       "    }\n",
       "\n",
       "    .dataframe thead th {\n",
       "        text-align: right;\n",
       "    }\n",
       "</style>\n",
       "<table border=\"1\" class=\"dataframe\">\n",
       "  <thead>\n",
       "    <tr style=\"text-align: right;\">\n",
       "      <th></th>\n",
       "      <th>index</th>\n",
       "      <th>docID</th>\n",
       "      <th>year</th>\n",
       "      <th>month</th>\n",
       "      <th>topic_0</th>\n",
       "      <th>topic_1</th>\n",
       "      <th>topic_2</th>\n",
       "      <th>topic_3</th>\n",
       "      <th>year_month</th>\n",
       "    </tr>\n",
       "  </thead>\n",
       "  <tbody>\n",
       "    <tr>\n",
       "      <th>0</th>\n",
       "      <td>0</td>\n",
       "      <td>0</td>\n",
       "      <td>1999</td>\n",
       "      <td>12</td>\n",
       "      <td>0.0</td>\n",
       "      <td>0.833333</td>\n",
       "      <td>0.166667</td>\n",
       "      <td>0.000000</td>\n",
       "      <td>1999-12-01</td>\n",
       "    </tr>\n",
       "    <tr>\n",
       "      <th>1</th>\n",
       "      <td>1</td>\n",
       "      <td>1</td>\n",
       "      <td>1999</td>\n",
       "      <td>11</td>\n",
       "      <td>0.0</td>\n",
       "      <td>0.166667</td>\n",
       "      <td>0.000000</td>\n",
       "      <td>0.833333</td>\n",
       "      <td>1999-11-01</td>\n",
       "    </tr>\n",
       "    <tr>\n",
       "      <th>2</th>\n",
       "      <td>2</td>\n",
       "      <td>2</td>\n",
       "      <td>2000</td>\n",
       "      <td>6</td>\n",
       "      <td>0.0</td>\n",
       "      <td>0.000000</td>\n",
       "      <td>0.000000</td>\n",
       "      <td>1.000000</td>\n",
       "      <td>2000-6-01</td>\n",
       "    </tr>\n",
       "    <tr>\n",
       "      <th>3</th>\n",
       "      <td>3</td>\n",
       "      <td>3</td>\n",
       "      <td>2001</td>\n",
       "      <td>2</td>\n",
       "      <td>0.0</td>\n",
       "      <td>0.000000</td>\n",
       "      <td>0.000000</td>\n",
       "      <td>1.000000</td>\n",
       "      <td>2001-2-01</td>\n",
       "    </tr>\n",
       "    <tr>\n",
       "      <th>4</th>\n",
       "      <td>4</td>\n",
       "      <td>4</td>\n",
       "      <td>2001</td>\n",
       "      <td>9</td>\n",
       "      <td>0.0</td>\n",
       "      <td>0.000000</td>\n",
       "      <td>0.000000</td>\n",
       "      <td>1.000000</td>\n",
       "      <td>2001-9-01</td>\n",
       "    </tr>\n",
       "  </tbody>\n",
       "</table>\n",
       "</div>"
      ],
      "text/plain": [
       "   index  docID  year  month  topic_0   topic_1   topic_2   topic_3  \\\n",
       "0      0      0  1999     12      0.0  0.833333  0.166667  0.000000   \n",
       "1      1      1  1999     11      0.0  0.166667  0.000000  0.833333   \n",
       "2      2      2  2000      6      0.0  0.000000  0.000000  1.000000   \n",
       "3      3      3  2001      2      0.0  0.000000  0.000000  1.000000   \n",
       "4      4      4  2001      9      0.0  0.000000  0.000000  1.000000   \n",
       "\n",
       "   year_month  \n",
       "0  1999-12-01  \n",
       "1  1999-11-01  \n",
       "2   2000-6-01  \n",
       "3   2001-2-01  \n",
       "4   2001-9-01  "
      ]
     },
     "execution_count": 52,
     "metadata": {},
     "output_type": "execute_result"
    }
   ],
   "source": [
    "joined['year_month'] = joined.apply(lambda x: str(int(x.year)) +'-'+ str(int(x.month)) + '-01', axis=1)\n",
    "joined.reset_index(inplace=True)\n",
    "\n",
    "joined.head()"
   ]
  },
  {
   "cell_type": "code",
   "execution_count": 53,
   "metadata": {
    "ExecuteTime": {
     "end_time": "2019-02-03T13:24:49.575370Z",
     "start_time": "2019-02-03T13:24:49.559572Z"
    }
   },
   "outputs": [
    {
     "name": "stdout",
     "output_type": "stream",
     "text": [
      "(1136, 3)\n"
     ]
    },
    {
     "data": {
      "text/html": [
       "<div>\n",
       "<style scoped>\n",
       "    .dataframe tbody tr th:only-of-type {\n",
       "        vertical-align: middle;\n",
       "    }\n",
       "\n",
       "    .dataframe tbody tr th {\n",
       "        vertical-align: top;\n",
       "    }\n",
       "\n",
       "    .dataframe thead th {\n",
       "        text-align: right;\n",
       "    }\n",
       "</style>\n",
       "<table border=\"1\" class=\"dataframe\">\n",
       "  <thead>\n",
       "    <tr style=\"text-align: right;\">\n",
       "      <th></th>\n",
       "      <th>year_month</th>\n",
       "      <th>topic</th>\n",
       "      <th>text</th>\n",
       "    </tr>\n",
       "  </thead>\n",
       "  <tbody>\n",
       "    <tr>\n",
       "      <th>0</th>\n",
       "      <td>1999-12-01</td>\n",
       "      <td>index</td>\n",
       "      <td>0.0</td>\n",
       "    </tr>\n",
       "    <tr>\n",
       "      <th>1</th>\n",
       "      <td>1999-11-01</td>\n",
       "      <td>index</td>\n",
       "      <td>1.0</td>\n",
       "    </tr>\n",
       "    <tr>\n",
       "      <th>2</th>\n",
       "      <td>2000-6-01</td>\n",
       "      <td>index</td>\n",
       "      <td>2.0</td>\n",
       "    </tr>\n",
       "    <tr>\n",
       "      <th>3</th>\n",
       "      <td>2001-2-01</td>\n",
       "      <td>index</td>\n",
       "      <td>3.0</td>\n",
       "    </tr>\n",
       "    <tr>\n",
       "      <th>4</th>\n",
       "      <td>2001-9-01</td>\n",
       "      <td>index</td>\n",
       "      <td>4.0</td>\n",
       "    </tr>\n",
       "  </tbody>\n",
       "</table>\n",
       "</div>"
      ],
      "text/plain": [
       "   year_month  topic  text\n",
       "0  1999-12-01  index   0.0\n",
       "1  1999-11-01  index   1.0\n",
       "2   2000-6-01  index   2.0\n",
       "3   2001-2-01  index   3.0\n",
       "4   2001-9-01  index   4.0"
      ]
     },
     "execution_count": 53,
     "metadata": {},
     "output_type": "execute_result"
    }
   ],
   "source": [
    "joined_melt = joined.melt('year_month', var_name='topic', value_name='text')\n",
    "print(joined_melt.shape)\n",
    "joined_melt.head()"
   ]
  },
  {
   "cell_type": "code",
   "execution_count": 54,
   "metadata": {
    "ExecuteTime": {
     "end_time": "2019-02-03T13:24:49.902008Z",
     "start_time": "2019-02-03T13:24:49.888455Z"
    },
    "scrolled": true
   },
   "outputs": [
    {
     "name": "stdout",
     "output_type": "stream",
     "text": [
      "(568, 3)\n"
     ]
    },
    {
     "data": {
      "text/plain": [
       "topic_0    142\n",
       "topic_1    142\n",
       "topic_3    142\n",
       "topic_2    142\n",
       "Name: topic, dtype: int64"
      ]
     },
     "execution_count": 54,
     "metadata": {},
     "output_type": "execute_result"
    }
   ],
   "source": [
    "# select only topic_*\n",
    "joined_melt_new = joined_melt[(joined_melt.topic!='docID') & (joined_melt.topic!='index')\n",
    "                              & (joined_melt.topic!='year') & (joined_melt.topic!='month')]\n",
    "print(joined_melt_new.shape)\n",
    "joined_melt_new.topic.value_counts()"
   ]
  },
  {
   "cell_type": "code",
   "execution_count": 55,
   "metadata": {
    "ExecuteTime": {
     "end_time": "2019-02-03T13:24:50.752541Z",
     "start_time": "2019-02-03T13:24:50.037944Z"
    }
   },
   "outputs": [
    {
     "data": {
      "image/png": "[encoded data removed]",
      "text/plain": [
       "<Figure size 1440x720 with 5 Axes>"
      ]
     },
     "metadata": {
      "needs_background": "light"
     },
     "output_type": "display_data"
    }
   ],
   "source": [
    "labels = sorted(joined_melt_new['year_month'].unique())\n",
    "\n",
    "fig, axes = joypy.joyplot(joined_melt_new, by='topic', column='text', figsize=(20, 10),xlabelsize=20,ylabelsize=20,\n",
    "                          overlap=0.4, fill=True, linecolor=\"k\", linewidth=2,\n",
    "                          kind='values', fade=True, xrot=90, x_range=[i for i in range(len(labels))],\n",
    "                          background='white');\n",
    "\n",
    "ticks_labels = {i:t for i, t in enumerate(labels)}\n",
    "axes[-1].set_xticks([k for k, v in ticks_labels.items() if k % 6 == 0])\n",
    "ticks = axes[-1].get_xticks()\n",
    "axes[-1].set_xticklabels([ticks_labels.get(i, 'stop') for i in ticks]);"
   ]
  },
  {
   "cell_type": "code",
   "execution_count": 56,
   "metadata": {
    "ExecuteTime": {
     "end_time": "2019-02-03T13:24:51.053297Z",
     "start_time": "2019-02-03T13:24:50.858057Z"
    }
   },
   "outputs": [],
   "source": [
    "fig.savefig(f\"data/visualization/{'-'.join(name_dataset.split('.'))}_joypy\")"
   ]
  },
  {
   "cell_type": "code",
   "execution_count": null,
   "metadata": {},
   "outputs": [],
   "source": []
  }
 ],
 "metadata": {
  "kernelspec": {
   "display_name": "Python 3",
   "language": "python",
   "name": "python3"
  },
  "language_info": {
   "codemirror_mode": {
    "name": "ipython",
    "version": 3
   },
   "file_extension": ".py",
   "mimetype": "text/x-python",
   "name": "python",
   "nbconvert_exporter": "python",
   "pygments_lexer": "ipython3",
   "version": "3.6.7"
  },
  "varInspector": {
   "cols": {
    "lenName": 16,
    "lenType": 16,
    "lenVar": 40
   },
   "kernels_config": {
    "python": {
     "delete_cmd_postfix": "",
     "delete_cmd_prefix": "del ",
     "library": "var_list.py",
     "varRefreshCmd": "print(var_dic_list())"
    },
    "r": {
     "delete_cmd_postfix": ") ",
     "delete_cmd_prefix": "rm(",
     "library": "var_list.r",
     "varRefreshCmd": "cat(var_dic_list()) "
    }
   },
   "types_to_exclude": [
    "module",
    "function",
    "builtin_function_or_method",
    "instance",
    "_Feature"
   ],
   "window_display": false
  }
 },
 "nbformat": 4,
 "nbformat_minor": 2
}
