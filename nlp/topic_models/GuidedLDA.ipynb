{
  "nbformat": 4,
  "nbformat_minor": 0,
  "metadata": {
    "colab": {
      "name": "GuidedLDA.ipynb",
      "version": "0.3.2",
      "provenance": [],
      "collapsed_sections": []
    },
    "kernelspec": {
      "name": "python3",
      "display_name": "Python 3"
    },
    "accelerator": "GPU"
  },
  "cells": [
    {
      "metadata": {
        "id": "Z_zsHCsN6yqQ",
        "colab_type": "text"
      },
      "cell_type": "markdown",
      "source": [
        "## GuidedLDA что такое и зачем оно надо\n",
        "*   Оригинал от автора библиотеки - https://medium.freecodecamp.org/how-we-changed-unsupervised-lda-to-semi-supervised-guidedlda-e36a95f3a164\n",
        "*   Репозиторий - https://github.com/vi3k6i5/GuidedLDA\n",
        "*   Основная работа, которую использовали для создания GuidedLDA - http://www.umiacs.umd.edu/user.php?path=jags/pdfs/GuidedLDA.pdf\n",
        "\n",
        "\n",
        "**Ключевое отличие от LDA**: можно усилить необходимые топики или разделить схожие, если корпус текстов не большой - при инициализации усиливаем какой-либо топик (см. параметр seed_confidence)"
      ]
    },
    {
      "metadata": {
        "id": "Z6-4gW2CTAie",
        "colab_type": "code",
        "colab": {}
      },
      "cell_type": "code",
      "source": [
        "! pip install guidedlda\n",
        "! pip install gensim\n",
        "! pip install stop_words"
      ],
      "execution_count": 0,
      "outputs": []
    },
    {
      "metadata": {
        "id": "eqNFnN7O4_X2",
        "colab_type": "code",
        "colab": {
          "resources": {
            "http://localhost:8080/nbextensions/google.colab/files.js": {
              "data": "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",
              "ok": true,
              "headers": [
                [
                  "content-type",
                  "application/javascript"
                ]
              ],
              "status": 200,
              "status_text": ""
            }
          },
          "base_uri": "https://localhost:8080/",
          "height": 89
        },
        "outputId": "ea6be9f0-2d93-4fb1-f0e4-2a8eb6c2b962"
      },
      "cell_type": "code",
      "source": [
        "from google.colab import files\n",
        "\n",
        "uploaded = files.upload()\n",
        "\n",
        "for fn in uploaded.keys():\n",
        "  print('User uploaded file \"{name}\" with length {length} bytes'.format(\n",
        "      name=fn, length=len(uploaded[fn])))"
      ],
      "execution_count": 2,
      "outputs": [
        {
          "output_type": "display_data",
          "data": {
            "text/html": [
              "\n",
              "     <input type=\"file\" id=\"files-adb4de1c-bd7f-41de-97ea-dcc6271cc2ae\" name=\"files[]\" multiple disabled />\n",
              "     <output id=\"result-adb4de1c-bd7f-41de-97ea-dcc6271cc2ae\">\n",
              "      Upload widget is only available when the cell has been executed in the\n",
              "      current browser session. Please rerun this cell to enable.\n",
              "      </output>\n",
              "      <script src=\"/nbextensions/google.colab/files.js\"></script> "
            ],
            "text/plain": [
              "<IPython.core.display.HTML object>"
            ]
          },
          "metadata": {
            "tags": []
          }
        },
        {
          "output_type": "stream",
          "text": [
            "Saving 2014-12-rbc.ru.csv to 2014-12-rbc.ru.csv\n",
            "User uploaded file \"2014-12-rbc.ru.csv\" with length 22864554 bytes\n"
          ],
          "name": "stdout"
        }
      ]
    },
    {
      "metadata": {
        "id": "LXWeH1VJ8LPk",
        "colab_type": "code",
        "colab": {
          "base_uri": "https://localhost:8080/",
          "height": 85
        },
        "outputId": "17ee1ba1-4b81-4e8b-80d1-27f9ffebb0ea"
      },
      "cell_type": "code",
      "source": [
        "import nltk\n",
        "import re\n",
        "import numpy as np\n",
        "import pandas as pd\n",
        "import gensim\n",
        "import gensim.corpora as corpora\n",
        "import guidedlda\n",
        "import warnings\n",
        "import stop_words\n",
        "\n",
        "from nltk.corpus import stopwords\n",
        "from stop_words import get_stop_words\n",
        "from nltk.stem import WordNetLemmatizer, SnowballStemmer\n",
        "from gensim.utils import simple_preprocess\n",
        "from nltk.tokenize import RegexpTokenizer\n",
        "from gensim.models import CoherenceModel, LdaModel\n",
        "from gensim.corpora import Dictionary\n",
        "from stop_words import get_stop_words\n",
        "\n",
        "nltk.download('stopwords') \n",
        "stemmer = SnowballStemmer('russian')\n",
        "nltk.download('wordnet')\n",
        "warnings.filterwarnings('ignore')"
      ],
      "execution_count": 3,
      "outputs": [
        {
          "output_type": "stream",
          "text": [
            "[nltk_data] Downloading package stopwords to /root/nltk_data...\n",
            "[nltk_data]   Unzipping corpora/stopwords.zip.\n",
            "[nltk_data] Downloading package wordnet to /root/nltk_data...\n",
            "[nltk_data]   Unzipping corpora/wordnet.zip.\n"
          ],
          "name": "stdout"
        }
      ]
    },
    {
      "metadata": {
        "id": "1PykyGta04tj",
        "colab_type": "code",
        "colab": {}
      },
      "cell_type": "code",
      "source": [
        "data = pd.read_csv('2014-12-rbc.ru.csv', sep=',', encoding='utf-8')\n",
        "data.columns = ['URL','date','topics','title','text']"
      ],
      "execution_count": 0,
      "outputs": []
    },
    {
      "metadata": {
        "id": "R3RRk6ZW8UYl",
        "colab_type": "code",
        "colab": {
          "base_uri": "https://localhost:8080/",
          "height": 289
        },
        "outputId": "31930c7f-790d-4055-bcaa-2845d3bdca64"
      },
      "cell_type": "code",
      "source": [
        "data.head()"
      ],
      "execution_count": 5,
      "outputs": [
        {
          "output_type": "execute_result",
          "data": {
            "text/html": [
              "<div>\n",
              "<style scoped>\n",
              "    .dataframe tbody tr th:only-of-type {\n",
              "        vertical-align: middle;\n",
              "    }\n",
              "\n",
              "    .dataframe tbody tr th {\n",
              "        vertical-align: top;\n",
              "    }\n",
              "\n",
              "    .dataframe thead th {\n",
              "        text-align: right;\n",
              "    }\n",
              "</style>\n",
              "<table border=\"1\" class=\"dataframe\">\n",
              "  <thead>\n",
              "    <tr style=\"text-align: right;\">\n",
              "      <th></th>\n",
              "      <th>URL</th>\n",
              "      <th>date</th>\n",
              "      <th>topics</th>\n",
              "      <th>title</th>\n",
              "      <th>text</th>\n",
              "    </tr>\n",
              "  </thead>\n",
              "  <tbody>\n",
              "    <tr>\n",
              "      <th>0</th>\n",
              "      <td>http://top.rbc.ru/politics/01/12/2014/547bb1f8...</td>\n",
              "      <td>2014-12-01 00:11:32</td>\n",
              "      <td>NaN</td>\n",
              "      <td>ДНР и ЛНР просят заменить украинские банки абх...</td>\n",
              "      <td>До начала вооруженного конфликта в Донбассе ра...</td>\n",
              "    </tr>\n",
              "    <tr>\n",
              "      <th>1</th>\n",
              "      <td>http://www.rbc.ru/rbcfreenews/547bb630cbb20f09...</td>\n",
              "      <td>2014-12-01 00:28:34</td>\n",
              "      <td>NaN</td>\n",
              "      <td>Приморские города Крыма получат установки по о...</td>\n",
              "      <td>Приморские города Крыма получат установки по о...</td>\n",
              "    </tr>\n",
              "    <tr>\n",
              "      <th>2</th>\n",
              "      <td>http://www.rbc.ru/rbcfreenews/547bbd6dcbb20f53...</td>\n",
              "      <td>2014-12-01 00:59:25</td>\n",
              "      <td>NaN</td>\n",
              "      <td>Швейцарцы проголосовали против наращивания зол...</td>\n",
              "      <td>Граждане Швейцарии не поддержали на прошедшем ...</td>\n",
              "    </tr>\n",
              "    <tr>\n",
              "      <th>3</th>\n",
              "      <td>http://top.rbc.ru/economics/01/12/2014/547bc22...</td>\n",
              "      <td>2014-12-01 01:19:44</td>\n",
              "      <td>NaN</td>\n",
              "      <td>Стоимость барреля нефти опустилась ниже 69 дол...</td>\n",
              "      <td>Стоимость барреля нефти опустилась ниже $69\\nА...</td>\n",
              "    </tr>\n",
              "    <tr>\n",
              "      <th>4</th>\n",
              "      <td>http://www.rbc.ru/rbcfreenews/547bc4bbcbb20fbc...</td>\n",
              "      <td>2014-12-01 01:30:36</td>\n",
              "      <td>NaN</td>\n",
              "      <td>На северо-востоке Подмосковья в ДТП погибли че...</td>\n",
              "      <td>На северо-востоке Подмосковья в дорожно-трансп...</td>\n",
              "    </tr>\n",
              "  </tbody>\n",
              "</table>\n",
              "</div>"
            ],
            "text/plain": [
              "                                                 URL                 date  \\\n",
              "0  http://top.rbc.ru/politics/01/12/2014/547bb1f8...  2014-12-01 00:11:32   \n",
              "1  http://www.rbc.ru/rbcfreenews/547bb630cbb20f09...  2014-12-01 00:28:34   \n",
              "2  http://www.rbc.ru/rbcfreenews/547bbd6dcbb20f53...  2014-12-01 00:59:25   \n",
              "3  http://top.rbc.ru/economics/01/12/2014/547bc22...  2014-12-01 01:19:44   \n",
              "4  http://www.rbc.ru/rbcfreenews/547bc4bbcbb20fbc...  2014-12-01 01:30:36   \n",
              "\n",
              "   topics                                              title  \\\n",
              "0     NaN  ДНР и ЛНР просят заменить украинские банки абх...   \n",
              "1     NaN  Приморские города Крыма получат установки по о...   \n",
              "2     NaN  Швейцарцы проголосовали против наращивания зол...   \n",
              "3     NaN  Стоимость барреля нефти опустилась ниже 69 дол...   \n",
              "4     NaN  На северо-востоке Подмосковья в ДТП погибли че...   \n",
              "\n",
              "                                                text  \n",
              "0  До начала вооруженного конфликта в Донбассе ра...  \n",
              "1  Приморские города Крыма получат установки по о...  \n",
              "2  Граждане Швейцарии не поддержали на прошедшем ...  \n",
              "3  Стоимость барреля нефти опустилась ниже $69\\nА...  \n",
              "4  На северо-востоке Подмосковья в дорожно-трансп...  "
            ]
          },
          "metadata": {
            "tags": []
          },
          "execution_count": 5
        }
      ]
    },
    {
      "metadata": {
        "id": "-TbSssH__EUk",
        "colab_type": "code",
        "colab": {}
      },
      "cell_type": "code",
      "source": [
        "# Фиксируем константы\n",
        "np.random.seed(42)\n",
        "\n",
        "#Stemmer\n",
        "stemmer = SnowballStemmer('russian')"
      ],
      "execution_count": 0,
      "outputs": []
    },
    {
      "metadata": {
        "id": "QBHHS3LNFjb1",
        "colab_type": "code",
        "colab": {}
      },
      "cell_type": "code",
      "source": [
        "# Чистим текст\n",
        "def clean_text(text):    \n",
        "    text = re.sub(\"[^а-яА-Я]\", ' ', str(text))\n",
        "    text = re.sub(\"\\'\", \"\", text)\n",
        "    text = re.sub('\\s+', ' ', text)\n",
        "    return text"
      ],
      "execution_count": 0,
      "outputs": []
    },
    {
      "metadata": {
        "id": "Q_zqfvjMHVX9",
        "colab_type": "code",
        "colab": {}
      },
      "cell_type": "code",
      "source": [
        "data['cleaned_text'] = data['text'].apply(clean_text)"
      ],
      "execution_count": 0,
      "outputs": []
    },
    {
      "metadata": {
        "id": "Kl2AcHybGoCD",
        "colab_type": "code",
        "colab": {
          "base_uri": "https://localhost:8080/",
          "height": 289
        },
        "outputId": "c85aabce-cff3-4123-f59f-390c97938101"
      },
      "cell_type": "code",
      "source": [
        "data.head()"
      ],
      "execution_count": 9,
      "outputs": [
        {
          "output_type": "execute_result",
          "data": {
            "text/html": [
              "<div>\n",
              "<style scoped>\n",
              "    .dataframe tbody tr th:only-of-type {\n",
              "        vertical-align: middle;\n",
              "    }\n",
              "\n",
              "    .dataframe tbody tr th {\n",
              "        vertical-align: top;\n",
              "    }\n",
              "\n",
              "    .dataframe thead th {\n",
              "        text-align: right;\n",
              "    }\n",
              "</style>\n",
              "<table border=\"1\" class=\"dataframe\">\n",
              "  <thead>\n",
              "    <tr style=\"text-align: right;\">\n",
              "      <th></th>\n",
              "      <th>URL</th>\n",
              "      <th>date</th>\n",
              "      <th>topics</th>\n",
              "      <th>title</th>\n",
              "      <th>text</th>\n",
              "      <th>cleaned_text</th>\n",
              "    </tr>\n",
              "  </thead>\n",
              "  <tbody>\n",
              "    <tr>\n",
              "      <th>0</th>\n",
              "      <td>http://top.rbc.ru/politics/01/12/2014/547bb1f8...</td>\n",
              "      <td>2014-12-01 00:11:32</td>\n",
              "      <td>NaN</td>\n",
              "      <td>ДНР и ЛНР просят заменить украинские банки абх...</td>\n",
              "      <td>До начала вооруженного конфликта в Донбассе ра...</td>\n",
              "      <td>До начала вооруженного конфликта в Донбассе ра...</td>\n",
              "    </tr>\n",
              "    <tr>\n",
              "      <th>1</th>\n",
              "      <td>http://www.rbc.ru/rbcfreenews/547bb630cbb20f09...</td>\n",
              "      <td>2014-12-01 00:28:34</td>\n",
              "      <td>NaN</td>\n",
              "      <td>Приморские города Крыма получат установки по о...</td>\n",
              "      <td>Приморские города Крыма получат установки по о...</td>\n",
              "      <td>Приморские города Крыма получат установки по о...</td>\n",
              "    </tr>\n",
              "    <tr>\n",
              "      <th>2</th>\n",
              "      <td>http://www.rbc.ru/rbcfreenews/547bbd6dcbb20f53...</td>\n",
              "      <td>2014-12-01 00:59:25</td>\n",
              "      <td>NaN</td>\n",
              "      <td>Швейцарцы проголосовали против наращивания зол...</td>\n",
              "      <td>Граждане Швейцарии не поддержали на прошедшем ...</td>\n",
              "      <td>Граждане Швейцарии не поддержали на прошедшем ...</td>\n",
              "    </tr>\n",
              "    <tr>\n",
              "      <th>3</th>\n",
              "      <td>http://top.rbc.ru/economics/01/12/2014/547bc22...</td>\n",
              "      <td>2014-12-01 01:19:44</td>\n",
              "      <td>NaN</td>\n",
              "      <td>Стоимость барреля нефти опустилась ниже 69 дол...</td>\n",
              "      <td>Стоимость барреля нефти опустилась ниже $69\\nА...</td>\n",
              "      <td>Стоимость барреля нефти опустилась ниже Артем ...</td>\n",
              "    </tr>\n",
              "    <tr>\n",
              "      <th>4</th>\n",
              "      <td>http://www.rbc.ru/rbcfreenews/547bc4bbcbb20fbc...</td>\n",
              "      <td>2014-12-01 01:30:36</td>\n",
              "      <td>NaN</td>\n",
              "      <td>На северо-востоке Подмосковья в ДТП погибли че...</td>\n",
              "      <td>На северо-востоке Подмосковья в дорожно-трансп...</td>\n",
              "      <td>На северо востоке Подмосковья в дорожно трансп...</td>\n",
              "    </tr>\n",
              "  </tbody>\n",
              "</table>\n",
              "</div>"
            ],
            "text/plain": [
              "                                                 URL                 date  \\\n",
              "0  http://top.rbc.ru/politics/01/12/2014/547bb1f8...  2014-12-01 00:11:32   \n",
              "1  http://www.rbc.ru/rbcfreenews/547bb630cbb20f09...  2014-12-01 00:28:34   \n",
              "2  http://www.rbc.ru/rbcfreenews/547bbd6dcbb20f53...  2014-12-01 00:59:25   \n",
              "3  http://top.rbc.ru/economics/01/12/2014/547bc22...  2014-12-01 01:19:44   \n",
              "4  http://www.rbc.ru/rbcfreenews/547bc4bbcbb20fbc...  2014-12-01 01:30:36   \n",
              "\n",
              "   topics                                              title  \\\n",
              "0     NaN  ДНР и ЛНР просят заменить украинские банки абх...   \n",
              "1     NaN  Приморские города Крыма получат установки по о...   \n",
              "2     NaN  Швейцарцы проголосовали против наращивания зол...   \n",
              "3     NaN  Стоимость барреля нефти опустилась ниже 69 дол...   \n",
              "4     NaN  На северо-востоке Подмосковья в ДТП погибли че...   \n",
              "\n",
              "                                                text  \\\n",
              "0  До начала вооруженного конфликта в Донбассе ра...   \n",
              "1  Приморские города Крыма получат установки по о...   \n",
              "2  Граждане Швейцарии не поддержали на прошедшем ...   \n",
              "3  Стоимость барреля нефти опустилась ниже $69\\nА...   \n",
              "4  На северо-востоке Подмосковья в дорожно-трансп...   \n",
              "\n",
              "                                        cleaned_text  \n",
              "0  До начала вооруженного конфликта в Донбассе ра...  \n",
              "1  Приморские города Крыма получат установки по о...  \n",
              "2  Граждане Швейцарии не поддержали на прошедшем ...  \n",
              "3  Стоимость барреля нефти опустилась ниже Артем ...  \n",
              "4  На северо востоке Подмосковья в дорожно трансп...  "
            ]
          },
          "metadata": {
            "tags": []
          },
          "execution_count": 9
        }
      ]
    },
    {
      "metadata": {
        "id": "SNYI4k9oGC07",
        "colab_type": "code",
        "colab": {}
      },
      "cell_type": "code",
      "source": [
        "# Токенизируем \n",
        "tokenizer = RegexpTokenizer(r'\\w+')\n",
        "def tokenize(text):\n",
        "    tokens = tokenizer.tokenize(text)\n",
        "    return tokens"
      ],
      "execution_count": 0,
      "outputs": []
    },
    {
      "metadata": {
        "id": "VEnamC-cPbTr",
        "colab_type": "code",
        "colab": {}
      },
      "cell_type": "code",
      "source": [
        "ru_stop = get_stop_words('ru')\n",
        "\n",
        "# Удаялем стоп-слова\n",
        "def stop_words(text):\n",
        "    text = \" \".join([i for i in text.lower().split() if i not in ru_stop])\n",
        "    return text"
      ],
      "execution_count": 0,
      "outputs": []
    },
    {
      "metadata": {
        "id": "b1TEjm8mUt3a",
        "colab_type": "code",
        "colab": {}
      },
      "cell_type": "code",
      "source": [
        "# Лемматизируем\n",
        "def lemmatize(text):    \n",
        "    return stemmer.stem(WordNetLemmatizer().lemmatize(text))"
      ],
      "execution_count": 0,
      "outputs": []
    },
    {
      "metadata": {
        "id": "GaQoUht9bh9h",
        "colab_type": "code",
        "colab": {}
      },
      "cell_type": "code",
      "source": [
        "def preprocess(text):\n",
        "    result = []\n",
        "    for token in gensim.utils.simple_preprocess(text):\n",
        "        if len(token) >= 3:\n",
        "            result.append(lemmatize_stemming(token))\n",
        "    return result"
      ],
      "execution_count": 0,
      "outputs": []
    },
    {
      "metadata": {
        "id": "ukk4FyQ5bj0K",
        "colab_type": "code",
        "colab": {
          "base_uri": "https://localhost:8080/",
          "height": 51
        },
        "outputId": "ef4c1d4c-15cb-4a18-be54-fe9f076dc672"
      },
      "cell_type": "code",
      "source": [
        "%%time\n",
        "data.loc[:,'stop_w_text'] = data['cleaned_text'].apply(stop_words)"
      ],
      "execution_count": 14,
      "outputs": [
        {
          "output_type": "stream",
          "text": [
            "CPU times: user 5.97 s, sys: 27 ms, total: 6 s\n",
            "Wall time: 6 s\n"
          ],
          "name": "stdout"
        }
      ]
    },
    {
      "metadata": {
        "id": "nsUl3WQNP-_P",
        "colab_type": "code",
        "colab": {
          "base_uri": "https://localhost:8080/",
          "height": 54
        },
        "outputId": "c9b431d3-40b1-4e58-bd2d-1751f53bc09a"
      },
      "cell_type": "code",
      "source": [
        "# Смотрим что получилось\n",
        "print(data['stop_w_text'][0])"
      ],
      "execution_count": 15,
      "outputs": [
        {
          "output_type": "stream",
          "text": [
            "вооруженного конфликта донбассе работало общей сложности отделения банков сообщает газета известия прекращения деятельности возник определенный вакуум поскольку российские банки спешат прийти восток украины угрозы санкций сложившихся условиях власти днр лнр направили предложения абхазским банкам бояться санкций ес сша сухуме сомневаются сотрудничество целесообразным эмма тания национального банка абхазии сообщила неофициальные предложения донецка луганска приходили кажутся несерьезными поскольку копии письма стояли некоторые коммерческие банки словам реальной возможности работать рубежом абхазских финансовых организаций получении письма электронной почте сообщили сухум банке всерьез предложение рассматривали несмотря новороссию хочется поддержать чисто человечески непонятно насколько открытие филиалов экономически целесообразно председатель правления сухум банка даут агрба универсал банке письмо рассматривали посчитав речь шла спаме открыть филиал новороссии например днр подобран штат сотрудников понимаю целесообразность такого решения председатель правления черноморского банка развития адгур хурхумал словам начальника аналитического управления банка бкф максима осадчего размеры степень прозрачности абхазских банков собираются выйти новороссию имеют значения осадчий считает важна юридическая оболочка наполнена деньгами новороссии откуда угодно персонал днр лнр найти банковские служащие регионе сидят работы\n"
          ],
          "name": "stdout"
        }
      ]
    },
    {
      "metadata": {
        "id": "3vyM4OR6cGnJ",
        "colab_type": "code",
        "colab": {}
      },
      "cell_type": "code",
      "source": [
        "# Токенизируем\n",
        "data.loc[:,'token_text'] = data['stop_w_text'].apply(tokenize)"
      ],
      "execution_count": 0,
      "outputs": []
    },
    {
      "metadata": {
        "id": "maqbQD1ucLjc",
        "colab_type": "code",
        "colab": {
          "base_uri": "https://localhost:8080/",
          "height": 476
        },
        "outputId": "f6df5958-b75b-4c52-ed6f-cd7b01c14452"
      },
      "cell_type": "code",
      "source": [
        "data.head()"
      ],
      "execution_count": 18,
      "outputs": [
        {
          "output_type": "execute_result",
          "data": {
            "text/html": [
              "<div>\n",
              "<style scoped>\n",
              "    .dataframe tbody tr th:only-of-type {\n",
              "        vertical-align: middle;\n",
              "    }\n",
              "\n",
              "    .dataframe tbody tr th {\n",
              "        vertical-align: top;\n",
              "    }\n",
              "\n",
              "    .dataframe thead th {\n",
              "        text-align: right;\n",
              "    }\n",
              "</style>\n",
              "<table border=\"1\" class=\"dataframe\">\n",
              "  <thead>\n",
              "    <tr style=\"text-align: right;\">\n",
              "      <th></th>\n",
              "      <th>URL</th>\n",
              "      <th>date</th>\n",
              "      <th>topics</th>\n",
              "      <th>title</th>\n",
              "      <th>text</th>\n",
              "      <th>cleaned_text</th>\n",
              "      <th>stop_w_text</th>\n",
              "      <th>token_text</th>\n",
              "    </tr>\n",
              "  </thead>\n",
              "  <tbody>\n",
              "    <tr>\n",
              "      <th>0</th>\n",
              "      <td>http://top.rbc.ru/politics/01/12/2014/547bb1f8...</td>\n",
              "      <td>2014-12-01 00:11:32</td>\n",
              "      <td>NaN</td>\n",
              "      <td>ДНР и ЛНР просят заменить украинские банки абх...</td>\n",
              "      <td>До начала вооруженного конфликта в Донбассе ра...</td>\n",
              "      <td>До начала вооруженного конфликта в Донбассе ра...</td>\n",
              "      <td>вооруженного конфликта донбассе работало общей...</td>\n",
              "      <td>[вооруженного, конфликта, донбассе, работало, ...</td>\n",
              "    </tr>\n",
              "    <tr>\n",
              "      <th>1</th>\n",
              "      <td>http://www.rbc.ru/rbcfreenews/547bb630cbb20f09...</td>\n",
              "      <td>2014-12-01 00:28:34</td>\n",
              "      <td>NaN</td>\n",
              "      <td>Приморские города Крыма получат установки по о...</td>\n",
              "      <td>Приморские города Крыма получат установки по о...</td>\n",
              "      <td>Приморские города Крыма получат установки по о...</td>\n",
              "      <td>приморские города крыма получат установки опре...</td>\n",
              "      <td>[приморские, города, крыма, получат, установки...</td>\n",
              "    </tr>\n",
              "    <tr>\n",
              "      <th>2</th>\n",
              "      <td>http://www.rbc.ru/rbcfreenews/547bbd6dcbb20f53...</td>\n",
              "      <td>2014-12-01 00:59:25</td>\n",
              "      <td>NaN</td>\n",
              "      <td>Швейцарцы проголосовали против наращивания зол...</td>\n",
              "      <td>Граждане Швейцарии не поддержали на прошедшем ...</td>\n",
              "      <td>Граждане Швейцарии не поддержали на прошедшем ...</td>\n",
              "      <td>граждане швейцарии поддержали прошедшем рефере...</td>\n",
              "      <td>[граждане, швейцарии, поддержали, прошедшем, р...</td>\n",
              "    </tr>\n",
              "    <tr>\n",
              "      <th>3</th>\n",
              "      <td>http://top.rbc.ru/economics/01/12/2014/547bc22...</td>\n",
              "      <td>2014-12-01 01:19:44</td>\n",
              "      <td>NaN</td>\n",
              "      <td>Стоимость барреля нефти опустилась ниже 69 дол...</td>\n",
              "      <td>Стоимость барреля нефти опустилась ниже $69\\nА...</td>\n",
              "      <td>Стоимость барреля нефти опустилась ниже Артем ...</td>\n",
              "      <td>стоимость барреля нефти опустилась артем филип...</td>\n",
              "      <td>[стоимость, барреля, нефти, опустилась, артем,...</td>\n",
              "    </tr>\n",
              "    <tr>\n",
              "      <th>4</th>\n",
              "      <td>http://www.rbc.ru/rbcfreenews/547bc4bbcbb20fbc...</td>\n",
              "      <td>2014-12-01 01:30:36</td>\n",
              "      <td>NaN</td>\n",
              "      <td>На северо-востоке Подмосковья в ДТП погибли че...</td>\n",
              "      <td>На северо-востоке Подмосковья в дорожно-трансп...</td>\n",
              "      <td>На северо востоке Подмосковья в дорожно трансп...</td>\n",
              "      <td>северо востоке подмосковья дорожно транспортно...</td>\n",
              "      <td>[северо, востоке, подмосковья, дорожно, трансп...</td>\n",
              "    </tr>\n",
              "  </tbody>\n",
              "</table>\n",
              "</div>"
            ],
            "text/plain": [
              "                                                 URL                 date  \\\n",
              "0  http://top.rbc.ru/politics/01/12/2014/547bb1f8...  2014-12-01 00:11:32   \n",
              "1  http://www.rbc.ru/rbcfreenews/547bb630cbb20f09...  2014-12-01 00:28:34   \n",
              "2  http://www.rbc.ru/rbcfreenews/547bbd6dcbb20f53...  2014-12-01 00:59:25   \n",
              "3  http://top.rbc.ru/economics/01/12/2014/547bc22...  2014-12-01 01:19:44   \n",
              "4  http://www.rbc.ru/rbcfreenews/547bc4bbcbb20fbc...  2014-12-01 01:30:36   \n",
              "\n",
              "   topics                                              title  \\\n",
              "0     NaN  ДНР и ЛНР просят заменить украинские банки абх...   \n",
              "1     NaN  Приморские города Крыма получат установки по о...   \n",
              "2     NaN  Швейцарцы проголосовали против наращивания зол...   \n",
              "3     NaN  Стоимость барреля нефти опустилась ниже 69 дол...   \n",
              "4     NaN  На северо-востоке Подмосковья в ДТП погибли че...   \n",
              "\n",
              "                                                text  \\\n",
              "0  До начала вооруженного конфликта в Донбассе ра...   \n",
              "1  Приморские города Крыма получат установки по о...   \n",
              "2  Граждане Швейцарии не поддержали на прошедшем ...   \n",
              "3  Стоимость барреля нефти опустилась ниже $69\\nА...   \n",
              "4  На северо-востоке Подмосковья в дорожно-трансп...   \n",
              "\n",
              "                                        cleaned_text  \\\n",
              "0  До начала вооруженного конфликта в Донбассе ра...   \n",
              "1  Приморские города Крыма получат установки по о...   \n",
              "2  Граждане Швейцарии не поддержали на прошедшем ...   \n",
              "3  Стоимость барреля нефти опустилась ниже Артем ...   \n",
              "4  На северо востоке Подмосковья в дорожно трансп...   \n",
              "\n",
              "                                         stop_w_text  \\\n",
              "0  вооруженного конфликта донбассе работало общей...   \n",
              "1  приморские города крыма получат установки опре...   \n",
              "2  граждане швейцарии поддержали прошедшем рефере...   \n",
              "3  стоимость барреля нефти опустилась артем филип...   \n",
              "4  северо востоке подмосковья дорожно транспортно...   \n",
              "\n",
              "                                          token_text  \n",
              "0  [вооруженного, конфликта, донбассе, работало, ...  \n",
              "1  [приморские, города, крыма, получат, установки...  \n",
              "2  [граждане, швейцарии, поддержали, прошедшем, р...  \n",
              "3  [стоимость, барреля, нефти, опустилась, артем,...  \n",
              "4  [северо, востоке, подмосковья, дорожно, трансп...  "
            ]
          },
          "metadata": {
            "tags": []
          },
          "execution_count": 18
        }
      ]
    },
    {
      "metadata": {
        "id": "3r4hE7ZhcoTr",
        "colab_type": "code",
        "colab": {
          "base_uri": "https://localhost:8080/",
          "height": 204
        },
        "outputId": "b78219b7-dd5f-4912-e849-048be638bf03"
      },
      "cell_type": "code",
      "source": [
        "# Обрабатываем текст для LDA\n",
        "processed_docs = data['stop_w_text'].map(tokenize)\n",
        "processed_docs[0:10]"
      ],
      "execution_count": 19,
      "outputs": [
        {
          "output_type": "execute_result",
          "data": {
            "text/plain": [
              "0    [вооруженного, конфликта, донбассе, работало, ...\n",
              "1    [приморские, города, крыма, получат, установки...\n",
              "2    [граждане, швейцарии, поддержали, прошедшем, р...\n",
              "3    [стоимость, барреля, нефти, опустилась, артем,...\n",
              "4    [северо, востоке, подмосковья, дорожно, трансп...\n",
              "5    [скр, утверждают, причиной, преступления, стал...\n",
              "6    [итоги, парламентских, выборов, молдавии, могл...\n",
              "7    [социалистическая, партия, занимающая, первое,...\n",
              "8    [российскую, спутниковую, группировку, пополни...\n",
              "9    [член, комитета, транспорту, государственной, ...\n",
              "Name: stop_w_text, dtype: object"
            ]
          },
          "metadata": {
            "tags": []
          },
          "execution_count": 19
        }
      ]
    },
    {
      "metadata": {
        "id": "mY-r7Wdbmnje",
        "colab_type": "code",
        "colab": {}
      },
      "cell_type": "code",
      "source": [
        "# Для GuidedLDA нужна doc-term матрица в разреженном виде\n",
        "\n",
        "from scipy.sparse import csr_matrix\n",
        "docs = processed_docs\n",
        "\n",
        "indptr = [0]\n",
        "indices = []\n",
        "data_csr = []\n",
        "vocabulary = {}\n",
        "for d in docs:\n",
        "    for term in d:\n",
        "        #print(f'term {term}')\n",
        "        index = vocabulary.setdefault(term, len(vocabulary))\n",
        "        #print(f'index {index} len_vocab {len(vocabulary)} ')\n",
        "        indices.append(index)\n",
        "        data_csr.append(1)\n",
        "        #print(f'data {data}')\n",
        "    indptr.append(len(indices))\n",
        "\n",
        "csr_text_matrix = csr_matrix((data_csr, indices, indptr), dtype=int)"
      ],
      "execution_count": 0,
      "outputs": []
    },
    {
      "metadata": {
        "id": "8kj0H0vPc4A9",
        "colab_type": "code",
        "colab": {
          "base_uri": "https://localhost:8080/",
          "height": 51
        },
        "outputId": "f70f289b-bd66-43bc-edef-069b46116fe7"
      },
      "cell_type": "code",
      "source": [
        "%%time\n",
        "# Собираем словарь\n",
        "dictionary = gensim.corpora.Dictionary(processed_docs)"
      ],
      "execution_count": 21,
      "outputs": [
        {
          "output_type": "stream",
          "text": [
            "CPU times: user 1.46 s, sys: 6.66 ms, total: 1.46 s\n",
            "Wall time: 1.47 s\n"
          ],
          "name": "stdout"
        }
      ]
    },
    {
      "metadata": {
        "id": "jHAcZhb8c9yW",
        "colab_type": "code",
        "colab": {
          "base_uri": "https://localhost:8080/",
          "height": 51
        },
        "outputId": "ea6572cd-c4e7-418d-991d-637f7bfb809f"
      },
      "cell_type": "code",
      "source": [
        "%%time\n",
        "# а теперь Bag-of-words\n",
        "BoW_corpus = [dictionary.doc2bow(text) for text in processed_docs]"
      ],
      "execution_count": 22,
      "outputs": [
        {
          "output_type": "stream",
          "text": [
            "CPU times: user 1.07 s, sys: 54.8 ms, total: 1.13 s\n",
            "Wall time: 1.13 s\n"
          ],
          "name": "stdout"
        }
      ]
    },
    {
      "metadata": {
        "id": "OzKvWpITdC_u",
        "colab_type": "code",
        "colab": {
          "base_uri": "https://localhost:8080/",
          "height": 204
        },
        "outputId": "2ff282cc-9c98-44e6-c376-25e5aadfeff2"
      },
      "cell_type": "code",
      "source": [
        "count = 0\n",
        "for k, v in dictionary.iteritems():\n",
        "    print(k, v)\n",
        "    count += 1\n",
        "    if count > 10:\n",
        "        break"
      ],
      "execution_count": 23,
      "outputs": [
        {
          "output_type": "stream",
          "text": [
            "0 абхазии\n",
            "1 абхазским\n",
            "2 абхазских\n",
            "3 агрба\n",
            "4 адгур\n",
            "5 аналитического\n",
            "6 банка\n",
            "7 банкам\n",
            "8 банке\n",
            "9 банки\n",
            "10 банков\n"
          ],
          "name": "stdout"
        }
      ]
    },
    {
      "metadata": {
        "id": "esgcC0kKdJ0x",
        "colab_type": "text"
      },
      "cell_type": "markdown",
      "source": [
        "Надо попробовать стемминг (мб)"
      ]
    },
    {
      "metadata": {
        "id": "0IPGbwoOeC4s",
        "colab_type": "code",
        "colab": {
          "base_uri": "https://localhost:8080/",
          "height": 51
        },
        "outputId": "ada944a9-94c9-406a-c239-63ca48d17b4f"
      },
      "cell_type": "code",
      "source": [
        "%%time\n",
        "# пробуем LDA \n",
        "lda_model = gensim.models.LdaMulticore(BoW_corpus, num_topics=10, id2word=dictionary, passes=5, workers=2)"
      ],
      "execution_count": 24,
      "outputs": [
        {
          "output_type": "stream",
          "text": [
            "CPU times: user 34.6 s, sys: 3.43 s, total: 38 s\n",
            "Wall time: 53.3 s\n"
          ],
          "name": "stdout"
        }
      ]
    },
    {
      "metadata": {
        "id": "fRvPeuRfefbE",
        "colab_type": "code",
        "colab": {
          "base_uri": "https://localhost:8080/",
          "height": 224
        },
        "outputId": "531a6116-a889-4961-8978-ba059446af80"
      },
      "cell_type": "code",
      "source": [
        "print(\"LDA Model:\")\n",
        " \n",
        "for idx in range(10):\n",
        "    # Посмотрим первые 10 топиков\n",
        "    print(\"Topic #%s:\" % idx, lda_model.print_topic(idx, 10))"
      ],
      "execution_count": 25,
      "outputs": [
        {
          "output_type": "stream",
          "text": [
            "LDA Model:\n",
            "Topic #0: 0.006*\"руб\" + 0.005*\"рбк\" + 0.005*\"россии\" + 0.004*\"млн\" + 0.004*\"тыс\" + 0.004*\"декабря\" + 0.003*\"компании\" + 0.002*\"заявил\" + 0.002*\"словам\" + 0.002*\"москвы\"\n",
            "Topic #1: 0.007*\"чемпионат\" + 0.005*\"голы\" + 0.005*\"чемпионата\" + 0.005*\"матче\" + 0.004*\"цска\" + 0.004*\"й\" + 0.004*\"матч\" + 0.004*\"врезка\" + 0.003*\"тура\" + 0.003*\"спорт\"\n",
            "Topic #2: 0.003*\"россии\" + 0.003*\"рфс\" + 0.003*\"команды\" + 0.003*\"нхл\" + 0.003*\"лиги\" + 0.003*\"место\" + 0.003*\"спорт\" + 0.002*\"сборной\" + 0.002*\"россия\" + 0.002*\"слова\"\n",
            "Topic #3: 0.006*\"декабря\" + 0.004*\"россии\" + 0.003*\"украины\" + 0.003*\"рбк\" + 0.003*\"подборов\" + 0.003*\"заявил\" + 0.003*\"сша\" + 0.003*\"пресс\" + 0.003*\"млн\" + 0.002*\"президент\"\n",
            "Topic #4: 0.006*\"россии\" + 0.006*\"украины\" + 0.004*\"компании\" + 0.004*\"рбк\" + 0.004*\"декабря\" + 0.003*\"заявил\" + 0.003*\"млрд\" + 0.002*\"ранее\" + 0.002*\"президент\" + 0.002*\"сша\"\n",
            "Topic #5: 0.015*\"руб\" + 0.008*\"млрд\" + 0.006*\"россии\" + 0.006*\"декабря\" + 0.005*\"цб\" + 0.004*\"компании\" + 0.004*\"цены\" + 0.004*\"банка\" + 0.004*\"евро\" + 0.004*\"рубля\"\n",
            "Topic #6: 0.007*\"россии\" + 0.003*\"медиа\" + 0.002*\"газпром\" + 0.002*\"рбк\" + 0.002*\"кубка\" + 0.002*\"декабря\" + 0.002*\"ранее\" + 0.002*\"москвы\" + 0.002*\"лесин\" + 0.001*\"сочи\"\n",
            "Topic #7: 0.004*\"россии\" + 0.004*\"компании\" + 0.003*\"ес\" + 0.003*\"млрд\" + 0.003*\"рбк\" + 0.003*\"компания\" + 0.002*\"президент\" + 0.002*\"декабря\" + 0.002*\"путин\" + 0.002*\"заявил\"\n",
            "Topic #8: 0.012*\"россии\" + 0.004*\"сборной\" + 0.003*\"россия\" + 0.002*\"декабря\" + 0.002*\"сборная\" + 0.002*\"сша\" + 0.002*\"пресс\" + 0.002*\"первого\" + 0.002*\"заявил\" + 0.002*\"президент\"\n",
            "Topic #9: 0.005*\"п\" + 0.005*\"ставки\" + 0.004*\"россии\" + 0.004*\"банк\" + 0.003*\"вкладам\" + 0.003*\"банков\" + 0.003*\"декабря\" + 0.003*\"годовых\" + 0.002*\"банки\" + 0.002*\"сбербанк\"\n"
          ],
          "name": "stdout"
        }
      ]
    },
    {
      "metadata": {
        "id": "uQKlukDSfA7I",
        "colab_type": "code",
        "colab": {
          "base_uri": "https://localhost:8080/",
          "height": 190
        },
        "outputId": "600a8cf2-434f-4474-cf10-e534fca3d425"
      },
      "cell_type": "code",
      "source": [
        "for index, score in sorted(lda_model[BoW_corpus[0]], key=lambda tup: -1*tup[1]):\n",
        "\n",
        "    print(\"\\nScore: {}\\t \\nTopic: {}\".format(score, lda_model.print_topic(index, 10)))"
      ],
      "execution_count": 26,
      "outputs": [
        {
          "output_type": "stream",
          "text": [
            "\n",
            "Score: 0.4999052584171295\t \n",
            "Topic: 0.015*\"руб\" + 0.008*\"млрд\" + 0.006*\"россии\" + 0.006*\"декабря\" + 0.005*\"цб\" + 0.004*\"компании\" + 0.004*\"цены\" + 0.004*\"банка\" + 0.004*\"евро\" + 0.004*\"рубля\"\n",
            "\n",
            "Score: 0.40573850274086\t \n",
            "Topic: 0.006*\"декабря\" + 0.004*\"россии\" + 0.003*\"украины\" + 0.003*\"рбк\" + 0.003*\"подборов\" + 0.003*\"заявил\" + 0.003*\"сша\" + 0.003*\"пресс\" + 0.003*\"млн\" + 0.002*\"президент\"\n",
            "\n",
            "Score: 0.09006073325872421\t \n",
            "Topic: 0.004*\"россии\" + 0.004*\"компании\" + 0.003*\"ес\" + 0.003*\"млрд\" + 0.003*\"рбк\" + 0.003*\"компания\" + 0.002*\"президент\" + 0.002*\"декабря\" + 0.002*\"путин\" + 0.002*\"заявил\"\n"
          ],
          "name": "stdout"
        }
      ]
    },
    {
      "metadata": {
        "id": "gYok_7kOYoCO",
        "colab_type": "code",
        "colab": {
          "base_uri": "https://localhost:8080/",
          "height": 255
        },
        "outputId": "8e753763-f8f5-408e-f9c6-9657980cf2fe"
      },
      "cell_type": "code",
      "source": [
        "%%time\n",
        "# Пробуем GuidedLDA\n",
        "vocab = []\n",
        "count = 0\n",
        "for k, v in dictionary.iteritems():\n",
        "    vocab.append(v)\n",
        "\n",
        "word2id = dict((v, idx) for idx, v in enumerate(vocab))\n",
        "\n",
        "# LDA без посева (выделения) топиков\n",
        "model = guidedlda.GuidedLDA(n_topics=10, n_iter=100, random_state=7, refresh=20)\n",
        "model.fit(csr_text_matrix)"
      ],
      "execution_count": 27,
      "outputs": [
        {
          "output_type": "stream",
          "text": [
            "INFO:guidedlda:n_documents: 7076\n",
            "INFO:guidedlda:vocab_size: 89025\n",
            "INFO:guidedlda:n_words: 1065122\n",
            "INFO:guidedlda:n_topics: 10\n",
            "INFO:guidedlda:n_iter: 100\n",
            "WARNING:guidedlda:all zero row in document-term matrix found\n",
            "INFO:guidedlda:<0> log likelihood: -14023440\n",
            "INFO:guidedlda:<20> log likelihood: -10841296\n",
            "INFO:guidedlda:<40> log likelihood: -10580925\n",
            "INFO:guidedlda:<60> log likelihood: -10476055\n",
            "INFO:guidedlda:<80> log likelihood: -10422982\n",
            "INFO:guidedlda:<99> log likelihood: -10391885\n"
          ],
          "name": "stderr"
        },
        {
          "output_type": "stream",
          "text": [
            "CPU times: user 23.3 s, sys: 77.1 ms, total: 23.3 s\n",
            "Wall time: 23.3 s\n"
          ],
          "name": "stdout"
        }
      ]
    },
    {
      "metadata": {
        "id": "9vq7wRE7f4vU",
        "colab_type": "code",
        "colab": {
          "base_uri": "https://localhost:8080/",
          "height": 187
        },
        "outputId": "7c5bb271-7cd3-41ba-eed1-26d5ce29bfa0"
      },
      "cell_type": "code",
      "source": [
        "topic_word = model.topic_word_\n",
        "n_top_words = 10\n",
        "for i, topic_dist in enumerate(topic_word):\n",
        "  topic_words = np.array(vocab)[np.argsort(topic_dist)][:-(n_top_words+1):-1]\n",
        "  print('Topic {}: {}'.format(i, ' '.join(topic_words)))"
      ],
      "execution_count": 28,
      "outputs": [
        {
          "output_type": "stream",
          "text": [
            "Topic 0: соответствующим водителя вырастить мордовией набирает влад заявить выиграет футбола объединилась\n",
            "Topic 1: венгера финиш футболистам агуэро использовал индивидуальной анхеля группу находились коты\n",
            "Topic 2: подобное республики собирается ближайшие роснефть увидели предприятия трое лидеров дать\n",
            "Topic 3: республики внимании наращивания увидели частные роснефть металла взят организаций защиты\n",
            "Topic 4: арена ближайшие банке канада витязь перепалки газом ослеживают ндс постановления\n",
            "Topic 5: соответствующим некоторых евразийскую роснефть расизме рынке заместитель практическом автомобилей внешней\n",
            "Topic 6: внимании массе ближайшие волна картеля возможного соответствующим сумму наращивания парламенте\n",
            "Topic 7: соответствующим конфликта артем коммерческие коммуникациями долгов даут запретить водителя заместитель\n",
            "Topic 8: выйти ближайшие соответствующим заместитель двое воды некоторых сообщение партия организаций\n",
            "Topic 9: соответствующим роснефть возвращался служащие металла пролив государственного финансовых потенциал архитектур\n"
          ],
          "name": "stdout"
        }
      ]
    },
    {
      "metadata": {
        "id": "qlZEbyv_pkkl",
        "colab_type": "code",
        "colab": {}
      },
      "cell_type": "code",
      "source": [
        "# GuidedLDA с выделенными топиками.\n",
        "seed_topic_list = [['футбол', 'мяч', 'гол', 'стадион'],\n",
        "                   ['банк', 'компания', 'цена', 'нефть', 'консорциум'],\n",
        "                   ['путин', 'государство', 'страна', 'роснефть', 'лидер'],\n",
        "                   ['ндс', 'рынок', 'дума', 'налог' ]]"
      ],
      "execution_count": 0,
      "outputs": []
    },
    {
      "metadata": {
        "id": "qfVrBFFroJMF",
        "colab_type": "code",
        "colab": {
          "base_uri": "https://localhost:8080/",
          "height": 255
        },
        "outputId": "483eee3c-fd80-4fc4-d235-7ca84db42cac"
      },
      "cell_type": "code",
      "source": [
        "%%time\n",
        "seed_topics = {}\n",
        "for t_id, st in enumerate(seed_topic_list):\n",
        "  for word in st:\n",
        "    seed_topics[word2id[word]] = t_id        \n",
        "\n",
        "model = guidedlda.GuidedLDA(n_topics=10, n_iter=100, random_state=7, refresh=20)\n",
        "        \n",
        "model.fit(csr_text_matrix, seed_topics=seed_topics, seed_confidence=0.15)"
      ],
      "execution_count": 30,
      "outputs": [
        {
          "output_type": "stream",
          "text": [
            "INFO:guidedlda:n_documents: 7076\n",
            "INFO:guidedlda:vocab_size: 89025\n",
            "INFO:guidedlda:n_words: 1065122\n",
            "INFO:guidedlda:n_topics: 10\n",
            "INFO:guidedlda:n_iter: 100\n",
            "WARNING:guidedlda:all zero row in document-term matrix found\n",
            "INFO:guidedlda:<0> log likelihood: -14023068\n",
            "INFO:guidedlda:<20> log likelihood: -10824291\n",
            "INFO:guidedlda:<40> log likelihood: -10585316\n",
            "INFO:guidedlda:<60> log likelihood: -10489457\n",
            "INFO:guidedlda:<80> log likelihood: -10440603\n",
            "INFO:guidedlda:<99> log likelihood: -10411071\n"
          ],
          "name": "stderr"
        },
        {
          "output_type": "stream",
          "text": [
            "CPU times: user 23.1 s, sys: 71.5 ms, total: 23.1 s\n",
            "Wall time: 23.1 s\n"
          ],
          "name": "stdout"
        }
      ]
    },
    {
      "metadata": {
        "id": "bk3POdCyxMkS",
        "colab_type": "code",
        "colab": {
          "base_uri": "https://localhost:8080/",
          "height": 187
        },
        "outputId": "9ea7b8c7-895d-4eb7-a436-1f9e90b32163"
      },
      "cell_type": "code",
      "source": [
        "n_top_words = 10\n",
        "topic_word = model.topic_word_\n",
        "\n",
        "for i, topic_dist in enumerate(topic_word):\n",
        "  topic_words = np.array(vocab)[np.argsort(topic_dist)][:-(n_top_words+1):-1]\n",
        "  print('Topic GuidedLDA {}: {}'.format(i, ' '.join(topic_words)))"
      ],
      "execution_count": 31,
      "outputs": [
        {
          "output_type": "stream",
          "text": [
            "Topic GuidedLDA 0: соответствующим водителя автогол коты влад финиш набирает выиграет вырастить агуэро\n",
            "Topic GuidedLDA 1: венгера финиш футболистам агуэро анхеля использовал находились динамо группу индивидуальной\n",
            "Topic GuidedLDA 2: республики увидели внимании роснефть частные наращивания металла подобное взят трое\n",
            "Topic GuidedLDA 3: выйти соответствующим ближайшие конфликта заместитель сообщение коммерческие некоторых долгов запретить\n",
            "Topic GuidedLDA 4: ближайшие банке канада воды перепалки недвижимости директор грузовика партия грузопассажирского\n",
            "Topic GuidedLDA 5: соответствующим роснефть евразийскую годы рынке автомобилей внешней валентина отбиваться металла\n",
            "Topic GuidedLDA 6: внимании массе наращивания например сумму возможного ближайшие парламенте консорциумы волна\n",
            "Topic GuidedLDA 7: картеля далее декабря республики артем соответствующим металла китайских наращивания внимании\n",
            "Topic GuidedLDA 8: соответствующим заместитель практическом некоторых евразийскую двое глава ближайшие октябре интеграция\n",
            "Topic GuidedLDA 9: соответствующим заявить расизме футбола роснефти некоторых мордовией основе пролив заместитель\n"
          ],
          "name": "stdout"
        }
      ]
    },
    {
      "metadata": {
        "id": "96lPYkiuAGVE",
        "colab_type": "code",
        "colab": {}
      },
      "cell_type": "code",
      "source": [
        ""
      ],
      "execution_count": 0,
      "outputs": []
    }
  ]
}