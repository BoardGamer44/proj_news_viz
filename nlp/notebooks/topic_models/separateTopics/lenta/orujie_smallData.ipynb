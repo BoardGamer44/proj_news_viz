{
 "cells": [
  {
   "cell_type": "code",
   "execution_count": 2,
   "metadata": {
    "ExecuteTime": {
     "end_time": "2019-02-03T10:54:30.801149Z",
     "start_time": "2019-02-03T10:54:30.795510Z"
    }
   },
   "outputs": [],
   "source": [
    "import numpy as np\n",
    "import pandas as pd\n",
    "import os\n",
    "\n",
    "import re\n",
    "from datetime import datetime as time\n",
    "from ast import literal_eval\n",
    "from sklearn.model_selection import train_test_split\n",
    "\n",
    "import artm\n",
    "from gensim.models import Phrases\n",
    "from gensim.models.phrases import Phraser\n",
    "\n",
    "import gc\n",
    "import matplotlib.pyplot as plt\n",
    "%matplotlib inline"
   ]
  },
  {
   "cell_type": "code",
   "execution_count": 3,
   "metadata": {
    "ExecuteTime": {
     "end_time": "2019-02-03T10:54:33.552020Z",
     "start_time": "2019-02-03T10:54:33.437100Z"
    },
    "scrolled": true
   },
   "outputs": [
    {
     "name": "stdout",
     "output_type": "stream",
     "text": [
      "-rw-rw-r-- 1 vtrokhymenko vtrokhymenko 491K Jan 15 18:18 data/69-.paralel.csv.bz2\r\n",
      "-rw-rw-r-- 1 vtrokhymenko vtrokhymenko  48M Jan 15 18:21 data/Russia.csv.bz2\r\n",
      "-rw-rw-r-- 1 vtrokhymenko vtrokhymenko  12M Jan 15 18:21 data/Sil_struktur.csv.bz2\r\n",
      "-rw-rw-r-- 1 vtrokhymenko vtrokhymenko  44K Jan 15 18:19 data/biblioteka.csv.bz2\r\n",
      "-rw-rw-r-- 1 vtrokhymenko vtrokhymenko  25M Jan 15 18:19 data/bivs.SSR.csv.bz2\r\n",
      "-rw-rw-r-- 1 vtrokhymenko vtrokhymenko 6.1M Jan 15 18:18 data/biznes.csv.bz2\r\n",
      "-rw-rw-r-- 1 vtrokhymenko vtrokhymenko 2.9M Jan 15 18:21 data/cennosti.csv.bz2\r\n",
      "-rw-rw-r-- 1 vtrokhymenko vtrokhymenko  28M Jan 15 18:21 data/economic.csv.bz2\r\n",
      "-rw-rw-r-- 1 vtrokhymenko vtrokhymenko  16M Jan 15 18:19 data/internet.i.smi.csv.bz2\r\n",
      "-rw-rw-r-- 1 vtrokhymenko vtrokhymenko 8.6M Jan 15 18:18 data/iz.jizni.csv.bz2\r\n",
      "-rw-rw-r-- 1 vtrokhymenko vtrokhymenko 125K Jan 15 18:18 data/kultprosvet.csv.bz2\r\n",
      "-rw-rw-r-- 1 vtrokhymenko vtrokhymenko  20M Jan 15 18:18 data/kultura.csv.bz2\r\n",
      "-rw-rw-r-- 1 vtrokhymenko vtrokhymenko  65K Jan 15 18:20 data/legprom.csv.bz2\r\n",
      "-rw-rw-r-- 1 vtrokhymenko vtrokhymenko  56M Jan 16 02:07 data/mir.csv.bz2\r\n",
      "-rw-rw-r-- 1 vtrokhymenko vtrokhymenko  24M Jan 15 18:21 data/naula.i.tehn.csv.bz2\r\n",
      "-rw-rw-r-- 1 vtrokhymenko vtrokhymenko 2.4K Jan 15 18:20 data/orujie.csv.bz2\r\n",
      "-rw-rw-r-- 1 vtrokhymenko vtrokhymenko 3.0M Jan 15 18:21 data/puteshestvi.csv.bz2\r\n",
      "-rw-rw-r-- 1 vtrokhymenko vtrokhymenko  19M Jan 15 18:20 data/sport.csv.bz2\r\n"
     ]
    }
   ],
   "source": [
    "!ls -lah data/*.csv.bz2"
   ]
  },
  {
   "cell_type": "code",
   "execution_count": 4,
   "metadata": {
    "ExecuteTime": {
     "end_time": "2019-02-03T10:54:38.646667Z",
     "start_time": "2019-02-03T10:54:38.644597Z"
    }
   },
   "outputs": [],
   "source": [
    "name_dataset = 'orujie'"
   ]
  },
  {
   "cell_type": "markdown",
   "metadata": {},
   "source": [
    "### load data"
   ]
  },
  {
   "cell_type": "code",
   "execution_count": 5,
   "metadata": {
    "ExecuteTime": {
     "end_time": "2019-02-03T10:54:42.777412Z",
     "start_time": "2019-02-03T10:54:42.755263Z"
    }
   },
   "outputs": [
    {
     "name": "stdout",
     "output_type": "stream",
     "text": [
      "(3, 7)\n",
      "CPU times: user 5.62 ms, sys: 440 µs, total: 6.06 ms\n",
      "Wall time: 19 ms\n"
     ]
    }
   ],
   "source": [
    "%%time\n",
    "df = pd.read_csv(f'data/{name_dataset}.csv.bz2')\n",
    "print(df.shape)"
   ]
  },
  {
   "cell_type": "code",
   "execution_count": 6,
   "metadata": {
    "ExecuteTime": {
     "end_time": "2019-02-03T10:55:00.126608Z",
     "start_time": "2019-02-03T10:55:00.116190Z"
    }
   },
   "outputs": [
    {
     "data": {
      "text/html": [
       "<div>\n",
       "<style scoped>\n",
       "    .dataframe tbody tr th:only-of-type {\n",
       "        vertical-align: middle;\n",
       "    }\n",
       "\n",
       "    .dataframe tbody tr th {\n",
       "        vertical-align: top;\n",
       "    }\n",
       "\n",
       "    .dataframe thead th {\n",
       "        text-align: right;\n",
       "    }\n",
       "</style>\n",
       "<table border=\"1\" class=\"dataframe\">\n",
       "  <thead>\n",
       "    <tr style=\"text-align: right;\">\n",
       "      <th></th>\n",
       "      <th>1914-lenta/</th>\n",
       "      <th>url</th>\n",
       "      <th>edition</th>\n",
       "      <th>topics</th>\n",
       "      <th>title</th>\n",
       "      <th>text</th>\n",
       "      <th>topic</th>\n",
       "    </tr>\n",
       "  </thead>\n",
       "  <tbody>\n",
       "    <tr>\n",
       "      <th>0</th>\n",
       "      <td>2015-11-27 12:00:00</td>\n",
       "      <td>https://lenta.ru/news/2015/11/27/by_internet/</td>\n",
       "      <td>NaN</td>\n",
       "      <td>Оружие / Вооружение</td>\n",
       "      <td>СМИ сообщили о приобретении парижскими террори...</td>\n",
       "      <td>По информации следственных органов ФРГ, которы...</td>\n",
       "      <td>Оружие</td>\n",
       "    </tr>\n",
       "    <tr>\n",
       "      <th>1</th>\n",
       "      <td>2015-09-15 12:00:00</td>\n",
       "      <td>https://lenta.ru/news/2015/09/15/armata/</td>\n",
       "      <td>NaN</td>\n",
       "      <td>Оружие / Вооружение</td>\n",
       "      <td>Российская армия получит на вооружение 2300 та...</td>\n",
       "      <td>Российская армия получит 2300 танков на базе б...</td>\n",
       "      <td>Оружие</td>\n",
       "    </tr>\n",
       "    <tr>\n",
       "      <th>2</th>\n",
       "      <td>2017-11-11 12:00:00</td>\n",
       "      <td>https://lenta.ru/news/2017/11/11/order66/</td>\n",
       "      <td>NaN</td>\n",
       "      <td>Оружие / Вооружение</td>\n",
       "      <td>Россия потратит 700 миллионов рублей на защиту...</td>\n",
       "      <td>Минобороны потратит 735 миллионов рублей на за...</td>\n",
       "      <td>Оружие</td>\n",
       "    </tr>\n",
       "  </tbody>\n",
       "</table>\n",
       "</div>"
      ],
      "text/plain": [
       "           1914-lenta/                                            url  \\\n",
       "0  2015-11-27 12:00:00  https://lenta.ru/news/2015/11/27/by_internet/   \n",
       "1  2015-09-15 12:00:00       https://lenta.ru/news/2015/09/15/armata/   \n",
       "2  2017-11-11 12:00:00      https://lenta.ru/news/2017/11/11/order66/   \n",
       "\n",
       "   edition               topics  \\\n",
       "0      NaN  Оружие / Вооружение   \n",
       "1      NaN  Оружие / Вооружение   \n",
       "2      NaN  Оружие / Вооружение   \n",
       "\n",
       "                                               title  \\\n",
       "0  СМИ сообщили о приобретении парижскими террори...   \n",
       "1  Российская армия получит на вооружение 2300 та...   \n",
       "2  Россия потратит 700 миллионов рублей на защиту...   \n",
       "\n",
       "                                                text   topic  \n",
       "0  По информации следственных органов ФРГ, которы...  Оружие  \n",
       "1  Российская армия получит 2300 танков на базе б...  Оружие  \n",
       "2  Минобороны потратит 735 миллионов рублей на за...  Оружие  "
      ]
     },
     "execution_count": 6,
     "metadata": {},
     "output_type": "execute_result"
    }
   ],
   "source": [
    "df"
   ]
  },
  {
   "cell_type": "markdown",
   "metadata": {},
   "source": [
    "### preprocess"
   ]
  },
  {
   "cell_type": "markdown",
   "metadata": {},
   "source": [
    "* get dates"
   ]
  },
  {
   "cell_type": "code",
   "execution_count": 7,
   "metadata": {
    "ExecuteTime": {
     "end_time": "2019-02-03T10:57:35.405536Z",
     "start_time": "2019-02-03T10:57:35.400160Z"
    }
   },
   "outputs": [
    {
     "name": "stdout",
     "output_type": "stream",
     "text": [
      "CPU times: user 1.88 ms, sys: 0 ns, total: 1.88 ms\n",
      "Wall time: 1.85 ms\n"
     ]
    },
    {
     "name": "stderr",
     "output_type": "stream",
     "text": [
      "<unknown>:2: DeprecationWarning: invalid escape sequence \\d\n"
     ]
    }
   ],
   "source": [
    "%%time\n",
    "\n",
    "df['date_raw'] = df['url'].apply(re.compile('(\\d{4})/(\\d{2})/(\\d{2})').findall)\n",
    "\n",
    "df['year'] = df['date_raw'].apply(lambda x: int(x[0][0]))\n",
    "df['month'] = df['date_raw'].apply(lambda x: int(x[0][1]))"
   ]
  },
  {
   "cell_type": "markdown",
   "metadata": {},
   "source": [
    "* clean text"
   ]
  },
  {
   "cell_type": "code",
   "execution_count": 8,
   "metadata": {
    "ExecuteTime": {
     "end_time": "2019-02-03T10:57:37.030754Z",
     "start_time": "2019-02-03T10:57:36.805480Z"
    }
   },
   "outputs": [],
   "source": [
    "import preprocessing_tools as pr"
   ]
  },
  {
   "cell_type": "code",
   "execution_count": 9,
   "metadata": {
    "ExecuteTime": {
     "end_time": "2019-02-03T10:57:37.059421Z",
     "start_time": "2019-02-03T10:57:37.054898Z"
    }
   },
   "outputs": [
    {
     "name": "stdout",
     "output_type": "stream",
     "text": [
      "CPU times: user 682 µs, sys: 861 µs, total: 1.54 ms\n",
      "Wall time: 1.53 ms\n"
     ]
    }
   ],
   "source": [
    "%%time\n",
    "df.text = df.text.apply(pr.clean_text)"
   ]
  },
  {
   "cell_type": "code",
   "execution_count": 10,
   "metadata": {
    "ExecuteTime": {
     "end_time": "2019-02-03T10:57:37.616621Z",
     "start_time": "2019-02-03T10:57:37.606824Z"
    }
   },
   "outputs": [
    {
     "data": {
      "text/html": [
       "<div>\n",
       "<style scoped>\n",
       "    .dataframe tbody tr th:only-of-type {\n",
       "        vertical-align: middle;\n",
       "    }\n",
       "\n",
       "    .dataframe tbody tr th {\n",
       "        vertical-align: top;\n",
       "    }\n",
       "\n",
       "    .dataframe thead th {\n",
       "        text-align: right;\n",
       "    }\n",
       "</style>\n",
       "<table border=\"1\" class=\"dataframe\">\n",
       "  <thead>\n",
       "    <tr style=\"text-align: right;\">\n",
       "      <th></th>\n",
       "      <th>1914-lenta/</th>\n",
       "      <th>url</th>\n",
       "      <th>edition</th>\n",
       "      <th>topics</th>\n",
       "      <th>title</th>\n",
       "      <th>text</th>\n",
       "      <th>topic</th>\n",
       "      <th>date_raw</th>\n",
       "      <th>year</th>\n",
       "      <th>month</th>\n",
       "    </tr>\n",
       "  </thead>\n",
       "  <tbody>\n",
       "    <tr>\n",
       "      <th>0</th>\n",
       "      <td>2015-11-27 12:00:00</td>\n",
       "      <td>https://lenta.ru/news/2015/11/27/by_internet/</td>\n",
       "      <td>NaN</td>\n",
       "      <td>Оружие / Вооружение</td>\n",
       "      <td>СМИ сообщили о приобретении парижскими террори...</td>\n",
       "      <td>по информации следственных органов фрг которые...</td>\n",
       "      <td>Оружие</td>\n",
       "      <td>[(2015, 11, 27)]</td>\n",
       "      <td>2015</td>\n",
       "      <td>11</td>\n",
       "    </tr>\n",
       "    <tr>\n",
       "      <th>1</th>\n",
       "      <td>2015-09-15 12:00:00</td>\n",
       "      <td>https://lenta.ru/news/2015/09/15/armata/</td>\n",
       "      <td>NaN</td>\n",
       "      <td>Оружие / Вооружение</td>\n",
       "      <td>Российская армия получит на вооружение 2300 та...</td>\n",
       "      <td>российская армия получит  танков на базе броне...</td>\n",
       "      <td>Оружие</td>\n",
       "      <td>[(2015, 09, 15)]</td>\n",
       "      <td>2015</td>\n",
       "      <td>9</td>\n",
       "    </tr>\n",
       "  </tbody>\n",
       "</table>\n",
       "</div>"
      ],
      "text/plain": [
       "           1914-lenta/                                            url  \\\n",
       "0  2015-11-27 12:00:00  https://lenta.ru/news/2015/11/27/by_internet/   \n",
       "1  2015-09-15 12:00:00       https://lenta.ru/news/2015/09/15/armata/   \n",
       "\n",
       "   edition               topics  \\\n",
       "0      NaN  Оружие / Вооружение   \n",
       "1      NaN  Оружие / Вооружение   \n",
       "\n",
       "                                               title  \\\n",
       "0  СМИ сообщили о приобретении парижскими террори...   \n",
       "1  Российская армия получит на вооружение 2300 та...   \n",
       "\n",
       "                                                text   topic  \\\n",
       "0  по информации следственных органов фрг которые...  Оружие   \n",
       "1  российская армия получит  танков на базе броне...  Оружие   \n",
       "\n",
       "           date_raw  year  month  \n",
       "0  [(2015, 11, 27)]  2015     11  \n",
       "1  [(2015, 09, 15)]  2015      9  "
      ]
     },
     "execution_count": 10,
     "metadata": {},
     "output_type": "execute_result"
    }
   ],
   "source": [
    "df.head(2)"
   ]
  },
  {
   "cell_type": "markdown",
   "metadata": {},
   "source": [
    "* cleanedNames"
   ]
  },
  {
   "cell_type": "code",
   "execution_count": 11,
   "metadata": {
    "ExecuteTime": {
     "end_time": "2019-02-03T10:57:40.875269Z",
     "start_time": "2019-02-03T10:57:40.757960Z"
    }
   },
   "outputs": [],
   "source": [
    "from cleanedNames import KeyProc\n",
    "cn = KeyProc()"
   ]
  },
  {
   "cell_type": "code",
   "execution_count": 12,
   "metadata": {
    "ExecuteTime": {
     "end_time": "2019-02-03T10:57:41.066197Z",
     "start_time": "2019-02-03T10:57:41.057654Z"
    }
   },
   "outputs": [
    {
     "name": "stdout",
     "output_type": "stream",
     "text": [
      "CPU times: user 5.64 ms, sys: 0 ns, total: 5.64 ms\n",
      "Wall time: 5.62 ms\n"
     ]
    }
   ],
   "source": [
    "%%time\n",
    "df.text = df.text.apply(cn.replaceKeywords)"
   ]
  },
  {
   "cell_type": "markdown",
   "metadata": {},
   "source": [
    "* lemmatization"
   ]
  },
  {
   "cell_type": "code",
   "execution_count": 13,
   "metadata": {
    "ExecuteTime": {
     "end_time": "2019-02-03T10:57:42.687248Z",
     "start_time": "2019-02-03T10:57:42.620116Z"
    }
   },
   "outputs": [
    {
     "name": "stdout",
     "output_type": "stream",
     "text": [
      "CPU times: user 65.3 ms, sys: 0 ns, total: 65.3 ms\n",
      "Wall time: 64.4 ms\n"
     ]
    }
   ],
   "source": [
    "%%time\n",
    "df['lemmatized_text'] = df.text.apply(pr.lemmatization)"
   ]
  },
  {
   "cell_type": "code",
   "execution_count": null,
   "metadata": {},
   "outputs": [],
   "source": []
  },
  {
   "cell_type": "markdown",
   "metadata": {},
   "source": [
    "* add docID"
   ]
  },
  {
   "cell_type": "code",
   "execution_count": 14,
   "metadata": {
    "ExecuteTime": {
     "end_time": "2019-02-03T10:57:43.762192Z",
     "start_time": "2019-02-03T10:57:43.759089Z"
    }
   },
   "outputs": [],
   "source": [
    "df['docID'] = list(range(df.shape[0]))"
   ]
  },
  {
   "cell_type": "code",
   "execution_count": 15,
   "metadata": {
    "ExecuteTime": {
     "end_time": "2019-02-03T10:57:44.273284Z",
     "start_time": "2019-02-03T10:57:44.264330Z"
    }
   },
   "outputs": [
    {
     "data": {
      "text/html": [
       "<div>\n",
       "<style scoped>\n",
       "    .dataframe tbody tr th:only-of-type {\n",
       "        vertical-align: middle;\n",
       "    }\n",
       "\n",
       "    .dataframe tbody tr th {\n",
       "        vertical-align: top;\n",
       "    }\n",
       "\n",
       "    .dataframe thead th {\n",
       "        text-align: right;\n",
       "    }\n",
       "</style>\n",
       "<table border=\"1\" class=\"dataframe\">\n",
       "  <thead>\n",
       "    <tr style=\"text-align: right;\">\n",
       "      <th></th>\n",
       "      <th>docID</th>\n",
       "      <th>year</th>\n",
       "      <th>month</th>\n",
       "      <th>lemmatized_text</th>\n",
       "    </tr>\n",
       "  </thead>\n",
       "  <tbody>\n",
       "    <tr>\n",
       "      <th>0</th>\n",
       "      <td>0</td>\n",
       "      <td>2015</td>\n",
       "      <td>11</td>\n",
       "      <td>[информация, следственный, орган, фрг, который...</td>\n",
       "    </tr>\n",
       "    <tr>\n",
       "      <th>1</th>\n",
       "      <td>1</td>\n",
       "      <td>2015</td>\n",
       "      <td>9</td>\n",
       "      <td>[российский, армия, получить, танк, база, брон...</td>\n",
       "    </tr>\n",
       "  </tbody>\n",
       "</table>\n",
       "</div>"
      ],
      "text/plain": [
       "   docID  year  month                                    lemmatized_text\n",
       "0      0  2015     11  [информация, следственный, орган, фрг, который...\n",
       "1      1  2015      9  [российский, армия, получить, танк, база, брон..."
      ]
     },
     "execution_count": 15,
     "metadata": {},
     "output_type": "execute_result"
    }
   ],
   "source": [
    "df = df[['docID','year','month','lemmatized_text']]\n",
    "df.head(2)"
   ]
  },
  {
   "cell_type": "code",
   "execution_count": 16,
   "metadata": {
    "ExecuteTime": {
     "end_time": "2019-02-03T10:57:45.952805Z",
     "start_time": "2019-02-03T10:57:45.947998Z"
    }
   },
   "outputs": [
    {
     "name": "stdout",
     "output_type": "stream",
     "text": [
      "(3, 4)\n"
     ]
    },
    {
     "data": {
      "text/plain": [
       "docID              0\n",
       "year               0\n",
       "month              0\n",
       "lemmatized_text    0\n",
       "dtype: int64"
      ]
     },
     "execution_count": 16,
     "metadata": {},
     "output_type": "execute_result"
    }
   ],
   "source": [
    "print(df.shape)\n",
    "df.isnull().sum()"
   ]
  },
  {
   "cell_type": "code",
   "execution_count": 17,
   "metadata": {
    "ExecuteTime": {
     "end_time": "2019-02-03T10:57:47.294999Z",
     "start_time": "2019-02-03T10:57:47.291450Z"
    }
   },
   "outputs": [
    {
     "data": {
      "text/plain": [
       "2015"
      ]
     },
     "execution_count": 17,
     "metadata": {},
     "output_type": "execute_result"
    }
   ],
   "source": [
    "df.year.min()"
   ]
  },
  {
   "cell_type": "code",
   "execution_count": null,
   "metadata": {},
   "outputs": [],
   "source": []
  },
  {
   "cell_type": "markdown",
   "metadata": {},
   "source": [
    "## model"
   ]
  },
  {
   "cell_type": "markdown",
   "metadata": {},
   "source": [
    "* prepare"
   ]
  },
  {
   "cell_type": "code",
   "execution_count": 18,
   "metadata": {
    "ExecuteTime": {
     "end_time": "2019-02-03T10:57:54.636461Z",
     "start_time": "2019-02-03T10:57:54.631873Z"
    }
   },
   "outputs": [
    {
     "name": "stdout",
     "output_type": "stream",
     "text": [
      "CPU times: user 1.32 ms, sys: 252 µs, total: 1.57 ms\n",
      "Wall time: 1.36 ms\n"
     ]
    }
   ],
   "source": [
    "%%time\n",
    "\n",
    "vwpath = f'data/vwpath/{name_dataset}_input_bigartm.vw'\n",
    "\n",
    "with open(vwpath, 'w') as fp:\n",
    "    for text, did in df[['lemmatized_text', 'docID']].values:\n",
    "        fp.write('{} | {}\\n'.format(did, ' '.join(text)))"
   ]
  },
  {
   "cell_type": "code",
   "execution_count": 19,
   "metadata": {
    "ExecuteTime": {
     "end_time": "2019-02-03T10:57:54.923567Z",
     "start_time": "2019-02-03T10:57:54.919960Z"
    }
   },
   "outputs": [],
   "source": [
    "id_date = df[['docID', 'year', 'month']].copy()"
   ]
  },
  {
   "cell_type": "markdown",
   "metadata": {},
   "source": [
    "* collect batchs and collect the dictionary"
   ]
  },
  {
   "cell_type": "code",
   "execution_count": 20,
   "metadata": {
    "ExecuteTime": {
     "end_time": "2019-02-03T10:57:55.782147Z",
     "start_time": "2019-02-03T10:57:55.763535Z"
    }
   },
   "outputs": [
    {
     "name": "stdout",
     "output_type": "stream",
     "text": [
      "create folder...\n",
      "\n",
      "artm.BatchVectorizer(data_path=\"data/batches/orujie\", num_batches=1)\n",
      "CPU times: user 22.7 ms, sys: 54.4 ms, total: 77.1 ms\n",
      "Wall time: 14.9 ms\n"
     ]
    }
   ],
   "source": [
    "%%time\n",
    "\n",
    "batches_path = f'data/batches/{name_dataset}'\n",
    "\n",
    "if not os.path.exists(batches_path):\n",
    "    print('create folder...\\n')\n",
    "    os.makedirs(batches_path)\n",
    "    \n",
    "batch_vectorizer = artm.BatchVectorizer(data_path=vwpath,\n",
    "                                        data_format='vowpal_wabbit',\n",
    "                                        target_folder=batches_path)\n",
    "\n",
    "print(batch_vectorizer)"
   ]
  },
  {
   "cell_type": "code",
   "execution_count": 21,
   "metadata": {
    "ExecuteTime": {
     "end_time": "2019-02-03T10:57:56.501072Z",
     "start_time": "2019-02-03T10:57:56.497597Z"
    }
   },
   "outputs": [],
   "source": [
    "dictionary = artm.Dictionary()\n",
    "dictionary.gather(data_path=batches_path)"
   ]
  },
  {
   "cell_type": "code",
   "execution_count": 22,
   "metadata": {
    "ExecuteTime": {
     "end_time": "2019-02-03T10:57:56.920862Z",
     "start_time": "2019-02-03T10:57:56.916932Z"
    }
   },
   "outputs": [
    {
     "data": {
      "text/plain": [
       "artm.Dictionary(name=3f2e9f08-4522-476a-b3e7-5e3d8cade221, num_entries=0)"
      ]
     },
     "execution_count": 22,
     "metadata": {},
     "output_type": "execute_result"
    }
   ],
   "source": [
    "dictionary.filter(min_tf=10, max_df_rate=0.1) #int(4.5e5)"
   ]
  },
  {
   "cell_type": "code",
   "execution_count": 23,
   "metadata": {
    "ExecuteTime": {
     "end_time": "2019-02-03T10:57:58.018804Z",
     "start_time": "2019-02-03T10:57:58.016399Z"
    }
   },
   "outputs": [],
   "source": [
    "dictionary.save_text(f'data/dicts/dict_{name_dataset}.txt')"
   ]
  },
  {
   "cell_type": "code",
   "execution_count": null,
   "metadata": {},
   "outputs": [],
   "source": []
  },
  {
   "cell_type": "markdown",
   "metadata": {},
   "source": [
    "### fit model"
   ]
  },
  {
   "cell_type": "code",
   "execution_count": 25,
   "metadata": {
    "ExecuteTime": {
     "end_time": "2019-02-03T10:58:11.216715Z",
     "start_time": "2019-02-03T10:58:11.182968Z"
    },
    "scrolled": true
   },
   "outputs": [
    {
     "ename": "InvalidOperationException",
     "evalue": "Dictionary '3f2e9f08-4522-476a-b3e7-5e3d8cade221' has no entries",
     "output_type": "error",
     "traceback": [
      "\u001b[0;31m---------------------------------------------------------------------------\u001b[0m",
      "\u001b[0;31mInvalidOperationException\u001b[0m                 Traceback (most recent call last)",
      "\u001b[0;32m<ipython-input-25-b80d28523a9f>\u001b[0m in \u001b[0;36m<module>\u001b[0;34m\u001b[0m\n\u001b[1;32m      1\u001b[0m \u001b[0mnum_topics\u001b[0m \u001b[0;34m=\u001b[0m \u001b[0;36m5\u001b[0m\u001b[0;34m\u001b[0m\u001b[0;34m\u001b[0m\u001b[0m\n\u001b[0;32m----> 2\u001b[0;31m \u001b[0mmodel\u001b[0m \u001b[0;34m=\u001b[0m \u001b[0martm\u001b[0m\u001b[0;34m.\u001b[0m\u001b[0mARTM\u001b[0m\u001b[0;34m(\u001b[0m\u001b[0mnum_topics\u001b[0m\u001b[0;34m=\u001b[0m\u001b[0mnum_topics\u001b[0m\u001b[0;34m,\u001b[0m \u001b[0mdictionary\u001b[0m\u001b[0;34m=\u001b[0m\u001b[0mdictionary\u001b[0m\u001b[0;34m,\u001b[0m \u001b[0mshow_progress_bars\u001b[0m\u001b[0;34m=\u001b[0m\u001b[0;32mTrue\u001b[0m\u001b[0;34m)\u001b[0m\u001b[0;34m\u001b[0m\u001b[0;34m\u001b[0m\u001b[0m\n\u001b[0m",
      "\u001b[0;32m~/proj_news_viz/env4news/lib/python3.6/site-packages/artm/artm_model.py\u001b[0m in \u001b[0;36m__init__\u001b[0;34m(self, num_topics, topic_names, num_processors, class_ids, scores, regularizers, num_document_passes, reuse_theta, dictionary, cache_theta, theta_columns_naming, seed, show_progress_bars, theta_name, parent_model, parent_model_weight)\u001b[0m\n\u001b[1;32m    268\u001b[0m \u001b[0;34m\u001b[0m\u001b[0m\n\u001b[1;32m    269\u001b[0m         \u001b[0;32mif\u001b[0m \u001b[0mdictionary\u001b[0m \u001b[0;32mis\u001b[0m \u001b[0;32mnot\u001b[0m \u001b[0;32mNone\u001b[0m\u001b[0;34m:\u001b[0m\u001b[0;34m\u001b[0m\u001b[0;34m\u001b[0m\u001b[0m\n\u001b[0;32m--> 270\u001b[0;31m             \u001b[0mself\u001b[0m\u001b[0;34m.\u001b[0m\u001b[0minitialize\u001b[0m\u001b[0;34m(\u001b[0m\u001b[0mdictionary\u001b[0m\u001b[0;34m)\u001b[0m\u001b[0;34m\u001b[0m\u001b[0;34m\u001b[0m\u001b[0m\n\u001b[0m\u001b[1;32m    271\u001b[0m \u001b[0;34m\u001b[0m\u001b[0m\n\u001b[1;32m    272\u001b[0m     \u001b[0;32mdef\u001b[0m \u001b[0m__enter__\u001b[0m\u001b[0;34m(\u001b[0m\u001b[0mself\u001b[0m\u001b[0;34m)\u001b[0m\u001b[0;34m:\u001b[0m\u001b[0;34m\u001b[0m\u001b[0;34m\u001b[0m\u001b[0m\n",
      "\u001b[0;32m~/proj_news_viz/env4news/lib/python3.6/site-packages/artm/artm_model.py\u001b[0m in \u001b[0;36minitialize\u001b[0;34m(self, dictionary)\u001b[0m\n\u001b[1;32m   1020\u001b[0m                                      \u001b[0mdictionary_name\u001b[0m\u001b[0;34m=\u001b[0m\u001b[0mdictionary_name\u001b[0m\u001b[0;34m,\u001b[0m\u001b[0;34m\u001b[0m\u001b[0;34m\u001b[0m\u001b[0m\n\u001b[1;32m   1021\u001b[0m                                      \u001b[0mtopic_names\u001b[0m\u001b[0;34m=\u001b[0m\u001b[0mself\u001b[0m\u001b[0;34m.\u001b[0m\u001b[0m_topic_names\u001b[0m\u001b[0;34m,\u001b[0m\u001b[0;34m\u001b[0m\u001b[0;34m\u001b[0m\u001b[0m\n\u001b[0;32m-> 1022\u001b[0;31m                                      seed=self._seed)\n\u001b[0m\u001b[1;32m   1023\u001b[0m         self.master.initialize_model(model_name=self.model_nwt,\n\u001b[1;32m   1024\u001b[0m                                      \u001b[0mdictionary_name\u001b[0m\u001b[0;34m=\u001b[0m\u001b[0mdictionary_name\u001b[0m\u001b[0;34m,\u001b[0m\u001b[0;34m\u001b[0m\u001b[0;34m\u001b[0m\u001b[0m\n",
      "\u001b[0;32m~/proj_news_viz/env4news/lib/python3.6/site-packages/artm/master_component.py\u001b[0m in \u001b[0;36minitialize_model\u001b[0;34m(self, model_name, topic_names, dictionary_name, seed, args)\u001b[0m\n\u001b[1;32m    426\u001b[0m \u001b[0;34m\u001b[0m\u001b[0m\n\u001b[1;32m    427\u001b[0m         \u001b[0minit_args\u001b[0m\u001b[0;34m.\u001b[0m\u001b[0mdictionary_name\u001b[0m \u001b[0;34m=\u001b[0m \u001b[0mdictionary_name\u001b[0m\u001b[0;34m\u001b[0m\u001b[0;34m\u001b[0m\u001b[0m\n\u001b[0;32m--> 428\u001b[0;31m         \u001b[0mself\u001b[0m\u001b[0;34m.\u001b[0m\u001b[0m_lib\u001b[0m\u001b[0;34m.\u001b[0m\u001b[0mArtmInitializeModel\u001b[0m\u001b[0;34m(\u001b[0m\u001b[0mself\u001b[0m\u001b[0;34m.\u001b[0m\u001b[0mmaster_id\u001b[0m\u001b[0;34m,\u001b[0m \u001b[0minit_args\u001b[0m\u001b[0;34m)\u001b[0m\u001b[0;34m\u001b[0m\u001b[0;34m\u001b[0m\u001b[0m\n\u001b[0m\u001b[1;32m    429\u001b[0m \u001b[0;34m\u001b[0m\u001b[0m\n\u001b[1;32m    430\u001b[0m     \u001b[0;32mdef\u001b[0m \u001b[0mclear_theta_cache\u001b[0m\u001b[0;34m(\u001b[0m\u001b[0mself\u001b[0m\u001b[0;34m)\u001b[0m\u001b[0;34m:\u001b[0m\u001b[0;34m\u001b[0m\u001b[0;34m\u001b[0m\u001b[0m\n",
      "\u001b[0;32m~/proj_news_viz/env4news/lib/python3.6/site-packages/artm/wrapper/api.py\u001b[0m in \u001b[0;36martm_api_call\u001b[0;34m(*args)\u001b[0m\n\u001b[1;32m    159\u001b[0m                 \u001b[0mfunc\u001b[0m\u001b[0;34m.\u001b[0m\u001b[0mrestype\u001b[0m \u001b[0;34m=\u001b[0m \u001b[0mspec\u001b[0m\u001b[0;34m.\u001b[0m\u001b[0mresult_type\u001b[0m\u001b[0;34m\u001b[0m\u001b[0;34m\u001b[0m\u001b[0m\n\u001b[1;32m    160\u001b[0m             \u001b[0mresult\u001b[0m \u001b[0;34m=\u001b[0m \u001b[0mfunc\u001b[0m\u001b[0;34m(\u001b[0m\u001b[0;34m*\u001b[0m\u001b[0mc_args\u001b[0m\u001b[0;34m)\u001b[0m\u001b[0;34m\u001b[0m\u001b[0;34m\u001b[0m\u001b[0m\n\u001b[0;32m--> 161\u001b[0;31m             \u001b[0mself\u001b[0m\u001b[0;34m.\u001b[0m\u001b[0m_check_error\u001b[0m\u001b[0;34m(\u001b[0m\u001b[0mresult\u001b[0m\u001b[0;34m)\u001b[0m\u001b[0;34m\u001b[0m\u001b[0;34m\u001b[0m\u001b[0m\n\u001b[0m\u001b[1;32m    162\u001b[0m \u001b[0;34m\u001b[0m\u001b[0m\n\u001b[1;32m    163\u001b[0m             \u001b[0;31m# return result value\u001b[0m\u001b[0;34m\u001b[0m\u001b[0;34m\u001b[0m\u001b[0;34m\u001b[0m\u001b[0m\n",
      "\u001b[0;32m~/proj_news_viz/env4news/lib/python3.6/site-packages/artm/wrapper/api.py\u001b[0m in \u001b[0;36m_check_error\u001b[0;34m(self, error_code)\u001b[0m\n\u001b[1;32m     95\u001b[0m             \u001b[0mexception_class\u001b[0m \u001b[0;34m=\u001b[0m \u001b[0mARTM_EXCEPTION_BY_CODE\u001b[0m\u001b[0;34m.\u001b[0m\u001b[0mget\u001b[0m\u001b[0;34m(\u001b[0m\u001b[0merror_code\u001b[0m\u001b[0;34m)\u001b[0m\u001b[0;34m\u001b[0m\u001b[0;34m\u001b[0m\u001b[0m\n\u001b[1;32m     96\u001b[0m             \u001b[0;32mif\u001b[0m \u001b[0mexception_class\u001b[0m \u001b[0;32mis\u001b[0m \u001b[0;32mnot\u001b[0m \u001b[0;32mNone\u001b[0m\u001b[0;34m:\u001b[0m\u001b[0;34m\u001b[0m\u001b[0;34m\u001b[0m\u001b[0m\n\u001b[0;32m---> 97\u001b[0;31m                 \u001b[0;32mraise\u001b[0m \u001b[0mexception_class\u001b[0m\u001b[0;34m(\u001b[0m\u001b[0merror_message\u001b[0m\u001b[0;34m)\u001b[0m\u001b[0;34m\u001b[0m\u001b[0;34m\u001b[0m\u001b[0m\n\u001b[0m\u001b[1;32m     98\u001b[0m             \u001b[0;32melse\u001b[0m\u001b[0;34m:\u001b[0m\u001b[0;34m\u001b[0m\u001b[0;34m\u001b[0m\u001b[0m\n\u001b[1;32m     99\u001b[0m                 \u001b[0;32mraise\u001b[0m \u001b[0mRuntimeError\u001b[0m\u001b[0;34m(\u001b[0m\u001b[0merror_message\u001b[0m\u001b[0;34m)\u001b[0m\u001b[0;34m\u001b[0m\u001b[0;34m\u001b[0m\u001b[0m\n",
      "\u001b[0;31mInvalidOperationException\u001b[0m: Dictionary '3f2e9f08-4522-476a-b3e7-5e3d8cade221' has no entries"
     ]
    }
   ],
   "source": [
    "num_topics = 5\n",
    "model = artm.ARTM(num_topics=num_topics, dictionary=dictionary, show_progress_bars=True)"
   ]
  },
  {
   "cell_type": "code",
   "execution_count": null,
   "metadata": {
    "ExecuteTime": {
     "end_time": "2019-02-03T10:58:11.621373Z",
     "start_time": "2019-02-03T10:58:11.609725Z"
    }
   },
   "outputs": [],
   "source": [
    "model.scores.add(artm.PerplexityScore(name='PerplexityScore',dictionary=dictionary))\n",
    "model.scores.add(artm.SparsityThetaScore(name='SparsityThetaScore'))\n",
    "model.scores.add(artm.SparsityPhiScore(name='SparsityPhiScore'))\n",
    "\n",
    "# regularizers\n",
    "model.regularizers.add(artm.SmoothSparsePhiRegularizer(name='SparsePhi', tau=-0.1))\n",
    "model.regularizers.add(artm.SmoothSparseThetaRegularizer(name='SparseTheta', tau=-0.5))\n",
    "model.regularizers.add(artm.DecorrelatorPhiRegularizer(name='DecorrelatorPhi', tau=1.5e+5))\n",
    "\n",
    "model.fit_offline(batch_vectorizer=batch_vectorizer, num_collection_passes=3)    "
   ]
  },
  {
   "cell_type": "code",
   "execution_count": null,
   "metadata": {
    "ExecuteTime": {
     "end_time": "2019-02-03T10:20:55.358836Z",
     "start_time": "2019-02-03T10:20:55.355724Z"
    }
   },
   "outputs": [],
   "source": [
    "print(f\"SparsityThetaScore: {model.score_tracker['SparsityThetaScore'].last_value}\")\n",
    "print(f\"SparsityPhiScore: {model.score_tracker['SparsityPhiScore'].last_value}\")\n",
    "print(f\"PerplexityScore: {model.score_tracker['PerplexityScore'].last_value}\")"
   ]
  },
  {
   "cell_type": "code",
   "execution_count": null,
   "metadata": {
    "ExecuteTime": {
     "end_time": "2019-01-31T23:59:39.706891Z",
     "start_time": "2019-01-31T23:59:39.704139Z"
    }
   },
   "outputs": [],
   "source": []
  },
  {
   "cell_type": "markdown",
   "metadata": {},
   "source": [
    "## pick up amount topics"
   ]
  },
  {
   "cell_type": "code",
   "execution_count": null,
   "metadata": {
    "ExecuteTime": {
     "end_time": "2019-02-03T10:58:02.807550Z",
     "start_time": "2019-02-03T10:58:02.653435Z"
    },
    "scrolled": true
   },
   "outputs": [],
   "source": [
    "%%time\n",
    "model_list = []\n",
    "step, perplexity, sTheta, sPhi = [], [], [], []\n",
    "\n",
    "for i in range(2,20+1,1):\n",
    "    print(f'#topic {i}.........')\n",
    "    step.append(i)\n",
    "    date_start = time.now()\n",
    "    \n",
    "    num_topics = i\n",
    "    model = artm.ARTM(num_topics=num_topics, dictionary=dictionary)\n",
    "    \n",
    "    # scores\n",
    "    model.scores.add(artm.PerplexityScore(name='PerplexityScore',dictionary=dictionary))\n",
    "    model.scores.add(artm.SparsityThetaScore(name='SparsityThetaScore'))\n",
    "    model.scores.add(artm.SparsityPhiScore(name='SparsityPhiScore'))\n",
    "\n",
    "    # regularizers\n",
    "    model.regularizers.add(artm.SmoothSparsePhiRegularizer(name='SparsePhi', tau=-0.1))\n",
    "    model.regularizers.add(artm.SmoothSparseThetaRegularizer(name='SparseTheta', tau=-0.5))\n",
    "    model.regularizers.add(artm.DecorrelatorPhiRegularizer(name='DecorrelatorPhi', tau=1.5e+5))\n",
    "    \n",
    "    model.fit_offline(batch_vectorizer=batch_vectorizer, num_collection_passes=50)\n",
    "    model_list.append(model)\n",
    "    \n",
    "    sparsityTheta = model.score_tracker['SparsityThetaScore'].last_value\n",
    "    sTheta.append(sparsityTheta)\n",
    "    sparsityPhi = model.score_tracker['SparsityPhiScore'].last_value\n",
    "    sPhi.append(sparsityPhi)\n",
    "    perpl = model.score_tracker['PerplexityScore'].last_value\n",
    "    perplexity.append(perpl)\n",
    "    \n",
    "    print(f'\\tSparsityThetaScore: {sparsityTheta}')\n",
    "    print(f'\\tSparsityPhiScore: {sparsityPhi}')\n",
    "    print(f'\\tPerplexityScore: {perpl}')\n",
    "    \n",
    "    print('\\ttime:',time.now()-date_start)\n",
    "    \n",
    "newTime = time.now() #"
   ]
  },
  {
   "cell_type": "code",
   "execution_count": null,
   "metadata": {
    "ExecuteTime": {
     "end_time": "2019-02-03T10:25:19.898317Z",
     "start_time": "2019-02-03T10:25:19.896173Z"
    }
   },
   "outputs": [],
   "source": [
    "#model_list"
   ]
  },
  {
   "cell_type": "code",
   "execution_count": null,
   "metadata": {
    "ExecuteTime": {
     "end_time": "2019-02-03T10:25:22.494387Z",
     "start_time": "2019-02-03T10:25:22.282029Z"
    },
    "cell_style": "split"
   },
   "outputs": [],
   "source": [
    "plt.plot(step, sPhi, color='k',linewidth=3, marker='x')\n",
    "ax = plt.gca()\n",
    "ax.set_xticks(step)\n",
    "plt.grid()\n",
    "plt.title('SparsityPhiScore')"
   ]
  },
  {
   "cell_type": "code",
   "execution_count": null,
   "metadata": {
    "ExecuteTime": {
     "end_time": "2019-02-03T10:25:23.798133Z",
     "start_time": "2019-02-03T10:25:23.794077Z"
    },
    "cell_style": "split"
   },
   "outputs": [],
   "source": [
    "index_sphi = []\n",
    "[index_sphi.append(float(str(i)[:3]) ) for i in sPhi]\n",
    "    \n",
    "index_sphi = list(set(index_sphi))\n",
    "index_sphi.sort()\n",
    "index_sphi"
   ]
  },
  {
   "cell_type": "code",
   "execution_count": null,
   "metadata": {
    "ExecuteTime": {
     "end_time": "2019-02-03T10:25:24.638638Z",
     "start_time": "2019-02-03T10:25:24.633582Z"
    },
    "cell_style": "split"
   },
   "outputs": [],
   "source": [
    "d_sphi = {}\n",
    "\n",
    "for j in range(len(index_sphi)):\n",
    "    k=0\n",
    "    for i in sPhi:\n",
    "        if j==range(len(index_sphi))[-1]:\n",
    "            if (i>=index_sphi[j]):\n",
    "                k+=1\n",
    "        else:\n",
    "            if (i>=index_sphi[j]) & (i<index_sphi[j+1]):\n",
    "                k+=1\n",
    "    d_sphi[index_sphi[j]]=k\n",
    "\n",
    "d_sphi"
   ]
  },
  {
   "cell_type": "code",
   "execution_count": null,
   "metadata": {
    "ExecuteTime": {
     "end_time": "2019-02-03T10:25:26.253396Z",
     "start_time": "2019-02-03T10:25:26.077062Z"
    },
    "cell_style": "split",
    "scrolled": true
   },
   "outputs": [],
   "source": [
    "plt.plot(step, sTheta, color='g',linewidth=3, marker='x')\n",
    "ax = plt.gca()\n",
    "ax.set_xticks(step)\n",
    "plt.grid()\n",
    "\n",
    "plt.title('SparsityThetaScore')"
   ]
  },
  {
   "cell_type": "code",
   "execution_count": null,
   "metadata": {
    "ExecuteTime": {
     "end_time": "2019-02-03T10:25:26.464098Z",
     "start_time": "2019-02-03T10:25:26.458913Z"
    },
    "cell_style": "split"
   },
   "outputs": [],
   "source": [
    "index_theta = []\n",
    "[index_theta.append(float(str(i)[:3])) for i in sTheta]\n",
    "    \n",
    "index_theta = list(set(index_theta))\n",
    "index_theta.sort()\n",
    "index_theta"
   ]
  },
  {
   "cell_type": "code",
   "execution_count": null,
   "metadata": {
    "ExecuteTime": {
     "end_time": "2019-02-03T10:25:26.870428Z",
     "start_time": "2019-02-03T10:25:26.863999Z"
    },
    "cell_style": "split"
   },
   "outputs": [],
   "source": [
    "d_stheta = {}\n",
    "\n",
    "for j in range(len(index_theta)):\n",
    "    k=0\n",
    "    for i in sTheta:\n",
    "        if j==range(len(index_theta))[-1]:\n",
    "            if (i>=index_theta[j]):\n",
    "                k+=1\n",
    "        else:\n",
    "            if (i>=index_theta[j]) & (i<index_theta[j+1]):\n",
    "                k+=1\n",
    "    d_stheta[index_theta[j]]=k\n",
    "\n",
    "d_stheta"
   ]
  },
  {
   "cell_type": "code",
   "execution_count": null,
   "metadata": {
    "ExecuteTime": {
     "end_time": "2019-02-03T10:25:29.086721Z",
     "start_time": "2019-02-03T10:25:28.893366Z"
    },
    "cell_style": "split"
   },
   "outputs": [],
   "source": [
    "plt.plot(step, perplexity, color='b',linewidth=3, marker='x')\n",
    "ax = plt.gca()\n",
    "ax.set_xticks(step)\n",
    "plt.grid()\n",
    "plt.title('PerplexityScore')"
   ]
  },
  {
   "cell_type": "code",
   "execution_count": null,
   "metadata": {
    "ExecuteTime": {
     "end_time": "2019-02-03T10:25:29.285781Z",
     "start_time": "2019-02-03T10:25:29.282547Z"
    },
    "cell_style": "split"
   },
   "outputs": [],
   "source": [
    "perplexity"
   ]
  },
  {
   "cell_type": "markdown",
   "metadata": {},
   "source": [
    "### select the best model"
   ]
  },
  {
   "cell_type": "code",
   "execution_count": null,
   "metadata": {
    "ExecuteTime": {
     "end_time": "2019-02-03T10:44:59.707678Z",
     "start_time": "2019-02-03T10:44:59.705396Z"
    }
   },
   "outputs": [],
   "source": [
    "print(f'd_sphi:   {d_sphi}')\n",
    "print(f'd_stheta: {d_stheta}')"
   ]
  },
  {
   "cell_type": "code",
   "execution_count": null,
   "metadata": {
    "ExecuteTime": {
     "end_time": "2019-02-03T10:45:15.032867Z",
     "start_time": "2019-02-03T10:45:15.030627Z"
    }
   },
   "outputs": [],
   "source": [
    "best_model = model_list[-1]"
   ]
  },
  {
   "cell_type": "markdown",
   "metadata": {
    "ExecuteTime": {
     "end_time": "2019-02-01T00:14:02.339878Z",
     "start_time": "2019-02-01T00:14:02.338133Z"
    }
   },
   "source": [
    "### print top words for each topics"
   ]
  },
  {
   "cell_type": "code",
   "execution_count": null,
   "metadata": {
    "ExecuteTime": {
     "end_time": "2019-02-03T10:45:18.707077Z",
     "start_time": "2019-02-03T10:45:18.625927Z"
    }
   },
   "outputs": [],
   "source": [
    "phi = best_model.get_phi()\n",
    "phi['word'] = phi.index\n",
    "#phi.head()\n",
    "\n",
    "for col in phi.columns:\n",
    "    if col != 'word':\n",
    "        print(f\"{col}: {phi[[col, 'word']].sort_values(by=col, ascending=False)['word'].values[:10]}\")\n",
    "        #print('\\t',phi[[col, 'word']].sort_values(by=col, ascending=False)['word'].values[:10])"
   ]
  },
  {
   "cell_type": "code",
   "execution_count": null,
   "metadata": {},
   "outputs": [],
   "source": []
  },
  {
   "cell_type": "markdown",
   "metadata": {},
   "source": [
    "### get topics-docs matrix"
   ]
  },
  {
   "cell_type": "code",
   "execution_count": null,
   "metadata": {
    "ExecuteTime": {
     "end_time": "2019-02-03T10:45:26.833303Z",
     "start_time": "2019-02-03T10:45:26.361027Z"
    }
   },
   "outputs": [],
   "source": [
    "theta = best_model.transform_sparse(batch_vectorizer=batch_vectorizer, eps=0.001)\n",
    "print(f'shape theta: {theta[0].shape}')\n",
    "\n",
    "plt.figure(figsize=(20, 20))\n",
    "plt.imshow(theta[0][:, 2000:2500].toarray());"
   ]
  },
  {
   "cell_type": "code",
   "execution_count": null,
   "metadata": {},
   "outputs": [],
   "source": []
  },
  {
   "cell_type": "markdown",
   "metadata": {},
   "source": [
    "### dense theta matrix"
   ]
  },
  {
   "cell_type": "code",
   "execution_count": null,
   "metadata": {
    "ExecuteTime": {
     "end_time": "2019-02-03T10:45:30.496720Z",
     "start_time": "2019-02-03T10:45:30.336669Z"
    }
   },
   "outputs": [],
   "source": [
    "theta = best_model.transform(batch_vectorizer=batch_vectorizer)\n",
    "theta = theta.T\n",
    "theta.head()"
   ]
  },
  {
   "cell_type": "code",
   "execution_count": null,
   "metadata": {},
   "outputs": [],
   "source": []
  },
  {
   "cell_type": "markdown",
   "metadata": {},
   "source": [
    "## DataViz"
   ]
  },
  {
   "cell_type": "code",
   "execution_count": null,
   "metadata": {
    "ExecuteTime": {
     "end_time": "2019-02-03T10:45:32.257181Z",
     "start_time": "2019-02-03T10:45:32.240483Z"
    }
   },
   "outputs": [],
   "source": [
    "joined = id_date.join(theta)\n",
    "joined.head()"
   ]
  },
  {
   "cell_type": "code",
   "execution_count": null,
   "metadata": {
    "ExecuteTime": {
     "end_time": "2019-02-03T10:45:33.678276Z",
     "start_time": "2019-02-03T10:45:33.653314Z"
    }
   },
   "outputs": [],
   "source": [
    "topics = ['topic_{}'.format(i) for i in range(num_topics)]\n",
    "gb = joined.groupby(['year', 'month'])[topics].sum()\n",
    "print(f'gb.shape: {gb.shape}')\n",
    "gb.head()"
   ]
  },
  {
   "cell_type": "markdown",
   "metadata": {},
   "source": [
    "### straightforward matrix heatmap"
   ]
  },
  {
   "cell_type": "code",
   "execution_count": null,
   "metadata": {
    "ExecuteTime": {
     "end_time": "2019-02-03T10:45:37.017845Z",
     "start_time": "2019-02-03T10:45:36.582512Z"
    },
    "scrolled": true
   },
   "outputs": [],
   "source": [
    "plt.figure(figsize=(10, 40))\n",
    "plt.imshow(gb[topics])"
   ]
  },
  {
   "cell_type": "code",
   "execution_count": null,
   "metadata": {},
   "outputs": [],
   "source": []
  },
  {
   "cell_type": "markdown",
   "metadata": {},
   "source": [
    "## pygal"
   ]
  },
  {
   "cell_type": "code",
   "execution_count": null,
   "metadata": {
    "ExecuteTime": {
     "end_time": "2019-02-03T10:47:21.732390Z",
     "start_time": "2019-02-03T10:47:21.705343Z"
    }
   },
   "outputs": [],
   "source": [
    "import pygal\n",
    "from IPython.display import SVG, HTML"
   ]
  },
  {
   "cell_type": "code",
   "execution_count": null,
   "metadata": {
    "ExecuteTime": {
     "end_time": "2019-02-03T10:47:22.331250Z",
     "start_time": "2019-02-03T10:47:22.323983Z"
    }
   },
   "outputs": [],
   "source": [
    "html_pygal = \"\"\"\n",
    "<!DOCTYPE html>\n",
    "<html>\n",
    "  <head>\n",
    "  <script type=\"text/javascript\" src=\"http://kozea.github.com/pygal.js/javascripts/svg.jquery.js\"></script>\n",
    "  <script type=\"text/javascript\" src=\"http://kozea.github.com/pygal.js/javascripts/pygal-tooltips.js\"></script>\n",
    "    <!-- ... -->\n",
    "  </head>\n",
    "  <body>\n",
    "    <figure>\n",
    "      {pygal_render}\n",
    "    </figure>\n",
    "  </body>\n",
    "</html>\n",
    "\"\"\""
   ]
  },
  {
   "cell_type": "code",
   "execution_count": null,
   "metadata": {
    "ExecuteTime": {
     "end_time": "2019-02-03T10:47:25.011762Z",
     "start_time": "2019-02-03T10:47:24.915632Z"
    },
    "scrolled": false
   },
   "outputs": [],
   "source": [
    "line_chart = pygal.StackedLine(fill=True, show_dots=False)\n",
    "line_chart.title = 'Topics'\n",
    "for topic in topics:\n",
    "    line_chart.add(topic, gb[topic].values)\n",
    "    \n",
    "HTML(html_pygal.format(pygal_render=line_chart.render(is_unicode=True)))"
   ]
  },
  {
   "cell_type": "code",
   "execution_count": null,
   "metadata": {
    "ExecuteTime": {
     "end_time": "2019-02-03T10:47:29.747258Z",
     "start_time": "2019-02-03T10:47:29.657422Z"
    }
   },
   "outputs": [],
   "source": [
    "line_chart.render_to_file(f'data/visualization/{name_dataset}_pygal.svg')"
   ]
  },
  {
   "cell_type": "markdown",
   "metadata": {},
   "source": [
    "## joypy"
   ]
  },
  {
   "cell_type": "code",
   "execution_count": null,
   "metadata": {
    "ExecuteTime": {
     "end_time": "2019-02-03T10:47:31.969866Z",
     "start_time": "2019-02-03T10:47:31.966517Z"
    }
   },
   "outputs": [],
   "source": [
    "import joypy # !pip install joypy"
   ]
  },
  {
   "cell_type": "code",
   "execution_count": null,
   "metadata": {
    "ExecuteTime": {
     "end_time": "2019-02-03T10:47:32.269192Z",
     "start_time": "2019-02-03T10:47:32.252692Z"
    },
    "scrolled": true
   },
   "outputs": [],
   "source": [
    "print(joined.shape)\n",
    "joined.head()"
   ]
  },
  {
   "cell_type": "code",
   "execution_count": null,
   "metadata": {
    "ExecuteTime": {
     "end_time": "2019-02-03T10:47:34.090868Z",
     "start_time": "2019-02-03T10:47:33.850696Z"
    }
   },
   "outputs": [],
   "source": [
    "joined['year_month'] = joined.apply(lambda x: str(int(x.year)) +'-'+ str(int(x.month)) + '-01', axis=1)\n",
    "joined.reset_index(inplace=True)\n",
    "\n",
    "joined.head()"
   ]
  },
  {
   "cell_type": "code",
   "execution_count": null,
   "metadata": {
    "ExecuteTime": {
     "end_time": "2019-02-03T10:47:36.724326Z",
     "start_time": "2019-02-03T10:47:36.708555Z"
    }
   },
   "outputs": [],
   "source": [
    "joined_melt = joined.melt('year_month', var_name='topic', value_name='text')\n",
    "print(joined_melt.shape)\n",
    "joined_melt.head()"
   ]
  },
  {
   "cell_type": "code",
   "execution_count": null,
   "metadata": {
    "ExecuteTime": {
     "end_time": "2019-02-03T10:47:54.590680Z",
     "start_time": "2019-02-03T10:47:54.526112Z"
    },
    "scrolled": true
   },
   "outputs": [],
   "source": [
    "# select only topic_*\n",
    "joined_melt_new = joined_melt[(joined_melt.topic!='docID') & (joined_melt.topic!='index')\n",
    "                              & (joined_melt.topic!='year') & (joined_melt.topic!='month')]\n",
    "print(joined_melt_new.shape)\n",
    "joined_melt_new.topic.value_counts()"
   ]
  },
  {
   "cell_type": "code",
   "execution_count": null,
   "metadata": {
    "ExecuteTime": {
     "end_time": "2019-02-03T10:48:01.718272Z",
     "start_time": "2019-02-03T10:47:59.648172Z"
    }
   },
   "outputs": [],
   "source": [
    "labels = sorted(joined_melt_new['year_month'].unique())\n",
    "\n",
    "fig, axes = joypy.joyplot(joined_melt_new, by='topic', column='text', figsize=(20, 10),xlabelsize=20,ylabelsize=20,\n",
    "                          overlap=0.4, fill=True, linecolor=\"k\", linewidth=2,\n",
    "                          kind='values', fade=True, xrot=90, x_range=[i for i in range(len(labels))],\n",
    "                          background='white');\n",
    "\n",
    "ticks_labels = {i:t for i, t in enumerate(labels)}\n",
    "axes[-1].set_xticks([k for k, v in ticks_labels.items() if k % 6 == 0])\n",
    "ticks = axes[-1].get_xticks()\n",
    "axes[-1].set_xticklabels([ticks_labels.get(i, 'stop') for i in ticks]);"
   ]
  },
  {
   "cell_type": "code",
   "execution_count": null,
   "metadata": {
    "ExecuteTime": {
     "end_time": "2019-02-03T10:51:22.956810Z",
     "start_time": "2019-02-03T10:51:22.612261Z"
    }
   },
   "outputs": [],
   "source": [
    "fig.savefig(f'data/visualization/{name_dataset}_joypy')"
   ]
  },
  {
   "cell_type": "code",
   "execution_count": null,
   "metadata": {},
   "outputs": [],
   "source": []
  }
 ],
 "metadata": {
  "kernelspec": {
   "display_name": "Python 3",
   "language": "python",
   "name": "python3"
  },
  "language_info": {
   "codemirror_mode": {
    "name": "ipython",
    "version": 3
   },
   "file_extension": ".py",
   "mimetype": "text/x-python",
   "name": "python",
   "nbconvert_exporter": "python",
   "pygments_lexer": "ipython3",
   "version": "3.6.7"
  },
  "varInspector": {
   "cols": {
    "lenName": 16,
    "lenType": 16,
    "lenVar": 40
   },
   "kernels_config": {
    "python": {
     "delete_cmd_postfix": "",
     "delete_cmd_prefix": "del ",
     "library": "var_list.py",
     "varRefreshCmd": "print(var_dic_list())"
    },
    "r": {
     "delete_cmd_postfix": ") ",
     "delete_cmd_prefix": "rm(",
     "library": "var_list.r",
     "varRefreshCmd": "cat(var_dic_list()) "
    }
   },
   "types_to_exclude": [
    "module",
    "function",
    "builtin_function_or_method",
    "instance",
    "_Feature"
   ],
   "window_display": false
  }
 },
 "nbformat": 4,
 "nbformat_minor": 2
}
