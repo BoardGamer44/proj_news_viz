{
 "cells": [
  {
   "cell_type": "code",
   "execution_count": 1,
   "metadata": {
    "ExecuteTime": {
     "end_time": "2019-03-12T23:26:13.578607Z",
     "start_time": "2019-03-12T23:26:12.536475Z"
    }
   },
   "outputs": [
    {
     "name": "stderr",
     "output_type": "stream",
     "text": [
      "/home/vtrokhymenko/proj_news_viz/env4news/lib/python3.6/site-packages/scipy/sparse/sparsetools.py:21: DeprecationWarning: `scipy.sparse.sparsetools` is deprecated!\n",
      "scipy.sparse.sparsetools is a private module for scipy.sparse, and should not be used.\n",
      "  _deprecated()\n"
     ]
    }
   ],
   "source": [
    "import numpy as np\n",
    "import pandas as pd\n",
    "import os\n",
    "\n",
    "import re\n",
    "from datetime import datetime as time\n",
    "from ast import literal_eval\n",
    "from sklearn.model_selection import train_test_split\n",
    "\n",
    "import artm\n",
    "from gensim.models import Phrases\n",
    "from gensim.models.phrases import Phraser\n",
    "\n",
    "import gc\n",
    "import matplotlib.pyplot as plt\n",
    "%matplotlib inline"
   ]
  },
  {
   "cell_type": "code",
   "execution_count": 2,
   "metadata": {
    "ExecuteTime": {
     "end_time": "2019-03-12T23:26:14.364580Z",
     "start_time": "2019-03-12T23:26:14.234385Z"
    },
    "scrolled": true
   },
   "outputs": [
    {
     "name": "stdout",
     "output_type": "stream",
     "text": [
      "-rw-rw-r-- 1 vtrokhymenko vtrokhymenko 491K Jan 15 18:18 data/69-.paralel.csv.bz2\r\n",
      "-rw-rw-r-- 1 vtrokhymenko vtrokhymenko  48M Jan 15 18:21 data/Russia.csv.bz2\r\n",
      "-rw-rw-r-- 1 vtrokhymenko vtrokhymenko  12M Jan 15 18:21 data/Sil_struktur.csv.bz2\r\n",
      "-rw-rw-r-- 1 vtrokhymenko vtrokhymenko  44K Jan 15 18:19 data/biblioteka.csv.bz2\r\n",
      "-rw-rw-r-- 1 vtrokhymenko vtrokhymenko  25M Jan 15 18:19 data/bivs.SSR.csv.bz2\r\n",
      "-rw-rw-r-- 1 vtrokhymenko vtrokhymenko 6.1M Jan 15 18:18 data/biznes.csv.bz2\r\n",
      "-rw-rw-r-- 1 vtrokhymenko vtrokhymenko 2.9M Jan 15 18:21 data/cennosti.csv.bz2\r\n",
      "-rw-rw-r-- 1 vtrokhymenko vtrokhymenko  28M Jan 15 18:21 data/economic.csv.bz2\r\n",
      "-rw-rw-r-- 1 vtrokhymenko vtrokhymenko  16M Jan 15 18:19 data/internet.i.smi.csv.bz2\r\n",
      "-rw-rw-r-- 1 vtrokhymenko vtrokhymenko 8.6M Jan 15 18:18 data/iz.jizni.csv.bz2\r\n",
      "-rw-rw-r-- 1 vtrokhymenko vtrokhymenko 125K Jan 15 18:18 data/kultprosvet.csv.bz2\r\n",
      "-rw-rw-r-- 1 vtrokhymenko vtrokhymenko  20M Jan 15 18:18 data/kultura.csv.bz2\r\n",
      "-rw-rw-r-- 1 vtrokhymenko vtrokhymenko  65K Jan 15 18:20 data/legprom.csv.bz2\r\n",
      "-rw-rw-r-- 1 vtrokhymenko vtrokhymenko  56M Jan 16 02:07 data/mir.csv.bz2\r\n",
      "-rw-rw-r-- 1 vtrokhymenko vtrokhymenko  24M Jan 15 18:21 data/naula.i.tehn.csv.bz2\r\n",
      "-rw-rw-r-- 1 vtrokhymenko vtrokhymenko 2.4K Jan 15 18:20 data/orujie.csv.bz2\r\n",
      "-rw-rw-r-- 1 vtrokhymenko vtrokhymenko 3.0M Jan 15 18:21 data/puteshestvi.csv.bz2\r\n",
      "-rw-rw-r-- 1 vtrokhymenko vtrokhymenko  19M Jan 15 18:20 data/sport.csv.bz2\r\n"
     ]
    }
   ],
   "source": [
    "!ls -lah data/*.csv.bz2"
   ]
  },
  {
   "cell_type": "code",
   "execution_count": 3,
   "metadata": {
    "ExecuteTime": {
     "end_time": "2019-03-12T23:26:14.704786Z",
     "start_time": "2019-03-12T23:26:14.701507Z"
    }
   },
   "outputs": [],
   "source": [
    "name_dataset = 'biznes'"
   ]
  },
  {
   "cell_type": "markdown",
   "metadata": {},
   "source": [
    "### load data"
   ]
  },
  {
   "cell_type": "code",
   "execution_count": 4,
   "metadata": {
    "ExecuteTime": {
     "end_time": "2019-03-12T23:26:18.436675Z",
     "start_time": "2019-03-12T23:26:15.178413Z"
    }
   },
   "outputs": [
    {
     "name": "stdout",
     "output_type": "stream",
     "text": [
      "(13374, 7)\n",
      "CPU times: user 3.21 s, sys: 41.4 ms, total: 3.25 s\n",
      "Wall time: 3.25 s\n"
     ]
    }
   ],
   "source": [
    "%%time\n",
    "df = pd.read_csv(f'data/{name_dataset}.csv.bz2')\n",
    "print(df.shape)"
   ]
  },
  {
   "cell_type": "code",
   "execution_count": 5,
   "metadata": {
    "ExecuteTime": {
     "end_time": "2019-03-12T23:26:18.500600Z",
     "start_time": "2019-03-12T23:26:18.479764Z"
    }
   },
   "outputs": [
    {
     "data": {
      "text/html": [
       "<div>\n",
       "<style scoped>\n",
       "    .dataframe tbody tr th:only-of-type {\n",
       "        vertical-align: middle;\n",
       "    }\n",
       "\n",
       "    .dataframe tbody tr th {\n",
       "        vertical-align: top;\n",
       "    }\n",
       "\n",
       "    .dataframe thead th {\n",
       "        text-align: right;\n",
       "    }\n",
       "</style>\n",
       "<table border=\"1\" class=\"dataframe\">\n",
       "  <thead>\n",
       "    <tr style=\"text-align: right;\">\n",
       "      <th></th>\n",
       "      <th>1914-lenta/</th>\n",
       "      <th>url</th>\n",
       "      <th>edition</th>\n",
       "      <th>topics</th>\n",
       "      <th>title</th>\n",
       "      <th>text</th>\n",
       "      <th>topic</th>\n",
       "    </tr>\n",
       "  </thead>\n",
       "  <tbody>\n",
       "    <tr>\n",
       "      <th>0</th>\n",
       "      <td>1999-10-06 12:00:00</td>\n",
       "      <td>https://lenta.ru/news/1999/10/06/caspian_gas/</td>\n",
       "      <td>NaN</td>\n",
       "      <td>Экономика</td>\n",
       "      <td>Туркменистан хочет протянуть газопровод в Турцию</td>\n",
       "      <td>Как сообщает агентство РИА \"Новости\", главная ...</td>\n",
       "      <td>Бизнес</td>\n",
       "    </tr>\n",
       "    <tr>\n",
       "      <th>1</th>\n",
       "      <td>1999-10-11 12:00:00</td>\n",
       "      <td>https://lenta.ru/news/1999/10/11/daewoo/</td>\n",
       "      <td>NaN</td>\n",
       "      <td>Экономика</td>\n",
       "      <td>Daewoo Motor Co. распродает производство автом...</td>\n",
       "      <td>Автомобили - единственный род продукции, котор...</td>\n",
       "      <td>Бизнес</td>\n",
       "    </tr>\n",
       "  </tbody>\n",
       "</table>\n",
       "</div>"
      ],
      "text/plain": [
       "           1914-lenta/                                            url  \\\n",
       "0  1999-10-06 12:00:00  https://lenta.ru/news/1999/10/06/caspian_gas/   \n",
       "1  1999-10-11 12:00:00       https://lenta.ru/news/1999/10/11/daewoo/   \n",
       "\n",
       "   edition     topics                                              title  \\\n",
       "0      NaN  Экономика   Туркменистан хочет протянуть газопровод в Турцию   \n",
       "1      NaN  Экономика  Daewoo Motor Co. распродает производство автом...   \n",
       "\n",
       "                                                text   topic  \n",
       "0  Как сообщает агентство РИА \"Новости\", главная ...  Бизнес  \n",
       "1  Автомобили - единственный род продукции, котор...  Бизнес  "
      ]
     },
     "execution_count": 5,
     "metadata": {},
     "output_type": "execute_result"
    }
   ],
   "source": [
    "df = df[df.text!='text']\n",
    "df.head(2)"
   ]
  },
  {
   "cell_type": "markdown",
   "metadata": {},
   "source": [
    "### preprocess"
   ]
  },
  {
   "cell_type": "markdown",
   "metadata": {},
   "source": [
    "* get dates"
   ]
  },
  {
   "cell_type": "code",
   "execution_count": 6,
   "metadata": {
    "ExecuteTime": {
     "end_time": "2019-03-12T23:26:18.643666Z",
     "start_time": "2019-03-12T23:26:18.538555Z"
    }
   },
   "outputs": [
    {
     "name": "stdout",
     "output_type": "stream",
     "text": [
      "CPU times: user 93.3 ms, sys: 6.85 ms, total: 100 ms\n",
      "Wall time: 101 ms\n"
     ]
    },
    {
     "name": "stderr",
     "output_type": "stream",
     "text": [
      "<unknown>:2: DeprecationWarning: invalid escape sequence \\d\n"
     ]
    }
   ],
   "source": [
    "%%time\n",
    "\n",
    "df['date_raw'] = df['url'].apply(re.compile('(\\d{4})/(\\d{2})/(\\d{2})').findall)\n",
    "\n",
    "df['year'] = df['date_raw'].apply(lambda x: int(x[0][0]))\n",
    "df['month'] = df['date_raw'].apply(lambda x: int(x[0][1]))"
   ]
  },
  {
   "cell_type": "markdown",
   "metadata": {},
   "source": [
    "* clean text"
   ]
  },
  {
   "cell_type": "code",
   "execution_count": 7,
   "metadata": {
    "ExecuteTime": {
     "end_time": "2019-03-12T23:26:19.251954Z",
     "start_time": "2019-03-12T23:26:19.193562Z"
    }
   },
   "outputs": [],
   "source": [
    "import preprocessing_tools as pr"
   ]
  },
  {
   "cell_type": "code",
   "execution_count": 8,
   "metadata": {
    "ExecuteTime": {
     "end_time": "2019-03-12T23:26:22.389399Z",
     "start_time": "2019-03-12T23:26:19.496137Z"
    }
   },
   "outputs": [
    {
     "name": "stdout",
     "output_type": "stream",
     "text": [
      "CPU times: user 2.87 s, sys: 23.9 ms, total: 2.89 s\n",
      "Wall time: 2.89 s\n"
     ]
    }
   ],
   "source": [
    "%%time\n",
    "df.text = df.text.apply(pr.clean_text)"
   ]
  },
  {
   "cell_type": "code",
   "execution_count": 9,
   "metadata": {
    "ExecuteTime": {
     "end_time": "2019-03-12T23:26:22.463372Z",
     "start_time": "2019-03-12T23:26:22.449713Z"
    }
   },
   "outputs": [
    {
     "data": {
      "text/html": [
       "<div>\n",
       "<style scoped>\n",
       "    .dataframe tbody tr th:only-of-type {\n",
       "        vertical-align: middle;\n",
       "    }\n",
       "\n",
       "    .dataframe tbody tr th {\n",
       "        vertical-align: top;\n",
       "    }\n",
       "\n",
       "    .dataframe thead th {\n",
       "        text-align: right;\n",
       "    }\n",
       "</style>\n",
       "<table border=\"1\" class=\"dataframe\">\n",
       "  <thead>\n",
       "    <tr style=\"text-align: right;\">\n",
       "      <th></th>\n",
       "      <th>1914-lenta/</th>\n",
       "      <th>url</th>\n",
       "      <th>edition</th>\n",
       "      <th>topics</th>\n",
       "      <th>title</th>\n",
       "      <th>text</th>\n",
       "      <th>topic</th>\n",
       "      <th>date_raw</th>\n",
       "      <th>year</th>\n",
       "      <th>month</th>\n",
       "    </tr>\n",
       "  </thead>\n",
       "  <tbody>\n",
       "    <tr>\n",
       "      <th>0</th>\n",
       "      <td>1999-10-06 12:00:00</td>\n",
       "      <td>https://lenta.ru/news/1999/10/06/caspian_gas/</td>\n",
       "      <td>NaN</td>\n",
       "      <td>Экономика</td>\n",
       "      <td>Туркменистан хочет протянуть газопровод в Турцию</td>\n",
       "      <td>как сообщает агентство риа новости главная тем...</td>\n",
       "      <td>Бизнес</td>\n",
       "      <td>[(1999, 10, 06)]</td>\n",
       "      <td>1999</td>\n",
       "      <td>10</td>\n",
       "    </tr>\n",
       "    <tr>\n",
       "      <th>1</th>\n",
       "      <td>1999-10-11 12:00:00</td>\n",
       "      <td>https://lenta.ru/news/1999/10/11/daewoo/</td>\n",
       "      <td>NaN</td>\n",
       "      <td>Экономика</td>\n",
       "      <td>Daewoo Motor Co. распродает производство автом...</td>\n",
       "      <td>автомобили  единственный род продукции который...</td>\n",
       "      <td>Бизнес</td>\n",
       "      <td>[(1999, 10, 11)]</td>\n",
       "      <td>1999</td>\n",
       "      <td>10</td>\n",
       "    </tr>\n",
       "  </tbody>\n",
       "</table>\n",
       "</div>"
      ],
      "text/plain": [
       "           1914-lenta/                                            url  \\\n",
       "0  1999-10-06 12:00:00  https://lenta.ru/news/1999/10/06/caspian_gas/   \n",
       "1  1999-10-11 12:00:00       https://lenta.ru/news/1999/10/11/daewoo/   \n",
       "\n",
       "   edition     topics                                              title  \\\n",
       "0      NaN  Экономика   Туркменистан хочет протянуть газопровод в Турцию   \n",
       "1      NaN  Экономика  Daewoo Motor Co. распродает производство автом...   \n",
       "\n",
       "                                                text   topic  \\\n",
       "0  как сообщает агентство риа новости главная тем...  Бизнес   \n",
       "1  автомобили  единственный род продукции который...  Бизнес   \n",
       "\n",
       "           date_raw  year  month  \n",
       "0  [(1999, 10, 06)]  1999     10  \n",
       "1  [(1999, 10, 11)]  1999     10  "
      ]
     },
     "execution_count": 9,
     "metadata": {},
     "output_type": "execute_result"
    }
   ],
   "source": [
    "df.head(2)"
   ]
  },
  {
   "cell_type": "markdown",
   "metadata": {},
   "source": [
    "* cleanedNames"
   ]
  },
  {
   "cell_type": "code",
   "execution_count": 10,
   "metadata": {
    "ExecuteTime": {
     "end_time": "2019-03-12T23:26:22.647250Z",
     "start_time": "2019-03-12T23:26:22.520161Z"
    }
   },
   "outputs": [],
   "source": [
    "from cleanedNames import KeyProc\n",
    "cn = KeyProc()"
   ]
  },
  {
   "cell_type": "code",
   "execution_count": 11,
   "metadata": {
    "ExecuteTime": {
     "end_time": "2019-03-12T23:26:50.526318Z",
     "start_time": "2019-03-12T23:26:22.721052Z"
    }
   },
   "outputs": [
    {
     "name": "stdout",
     "output_type": "stream",
     "text": [
      "CPU times: user 27.8 s, sys: 6.3 ms, total: 27.8 s\n",
      "Wall time: 27.8 s\n"
     ]
    }
   ],
   "source": [
    "%%time\n",
    "df.text = df.text.apply(cn.replaceKeywords)"
   ]
  },
  {
   "cell_type": "markdown",
   "metadata": {},
   "source": [
    "* lemmatization"
   ]
  },
  {
   "cell_type": "code",
   "execution_count": 12,
   "metadata": {
    "ExecuteTime": {
     "end_time": "2019-03-12T23:27:44.674907Z",
     "start_time": "2019-03-12T23:26:50.584821Z"
    }
   },
   "outputs": [
    {
     "name": "stdout",
     "output_type": "stream",
     "text": [
      "CPU times: user 54 s, sys: 73.5 ms, total: 54.1 s\n",
      "Wall time: 54.1 s\n"
     ]
    }
   ],
   "source": [
    "%%time\n",
    "df['lemmatized_text'] = df.text.apply(pr.lemmatization)"
   ]
  },
  {
   "cell_type": "code",
   "execution_count": null,
   "metadata": {},
   "outputs": [],
   "source": []
  },
  {
   "cell_type": "markdown",
   "metadata": {},
   "source": [
    "* add docID"
   ]
  },
  {
   "cell_type": "code",
   "execution_count": 13,
   "metadata": {
    "ExecuteTime": {
     "end_time": "2019-03-12T23:27:44.798860Z",
     "start_time": "2019-03-12T23:27:44.792542Z"
    }
   },
   "outputs": [],
   "source": [
    "df['docID'] = list(range(df.shape[0]))"
   ]
  },
  {
   "cell_type": "code",
   "execution_count": 14,
   "metadata": {
    "ExecuteTime": {
     "end_time": "2019-03-12T23:27:44.935765Z",
     "start_time": "2019-03-12T23:27:44.916961Z"
    }
   },
   "outputs": [
    {
     "data": {
      "text/html": [
       "<div>\n",
       "<style scoped>\n",
       "    .dataframe tbody tr th:only-of-type {\n",
       "        vertical-align: middle;\n",
       "    }\n",
       "\n",
       "    .dataframe tbody tr th {\n",
       "        vertical-align: top;\n",
       "    }\n",
       "\n",
       "    .dataframe thead th {\n",
       "        text-align: right;\n",
       "    }\n",
       "</style>\n",
       "<table border=\"1\" class=\"dataframe\">\n",
       "  <thead>\n",
       "    <tr style=\"text-align: right;\">\n",
       "      <th></th>\n",
       "      <th>docID</th>\n",
       "      <th>year</th>\n",
       "      <th>month</th>\n",
       "      <th>lemmatized_text</th>\n",
       "    </tr>\n",
       "  </thead>\n",
       "  <tbody>\n",
       "    <tr>\n",
       "      <th>0</th>\n",
       "      <td>0</td>\n",
       "      <td>1999</td>\n",
       "      <td>10</td>\n",
       "      <td>[агентство, риа, новость, главный, тема, встре...</td>\n",
       "    </tr>\n",
       "    <tr>\n",
       "      <th>1</th>\n",
       "      <td>1</td>\n",
       "      <td>1999</td>\n",
       "      <td>10</td>\n",
       "      <td>[автомобиль, единственный, род, продукция, про...</td>\n",
       "    </tr>\n",
       "  </tbody>\n",
       "</table>\n",
       "</div>"
      ],
      "text/plain": [
       "   docID  year  month                                    lemmatized_text\n",
       "0      0  1999     10  [агентство, риа, новость, главный, тема, встре...\n",
       "1      1  1999     10  [автомобиль, единственный, род, продукция, про..."
      ]
     },
     "execution_count": 14,
     "metadata": {},
     "output_type": "execute_result"
    }
   ],
   "source": [
    "df = df[['docID','year','month','lemmatized_text']]\n",
    "df.head(2)"
   ]
  },
  {
   "cell_type": "code",
   "execution_count": 15,
   "metadata": {
    "ExecuteTime": {
     "end_time": "2019-03-12T23:27:45.029730Z",
     "start_time": "2019-03-12T23:27:45.020862Z"
    }
   },
   "outputs": [
    {
     "name": "stdout",
     "output_type": "stream",
     "text": [
      "(13374, 4)\n"
     ]
    },
    {
     "data": {
      "text/plain": [
       "docID              0\n",
       "year               0\n",
       "month              0\n",
       "lemmatized_text    0\n",
       "dtype: int64"
      ]
     },
     "execution_count": 15,
     "metadata": {},
     "output_type": "execute_result"
    }
   ],
   "source": [
    "print(df.shape)\n",
    "df.isnull().sum()"
   ]
  },
  {
   "cell_type": "code",
   "execution_count": 16,
   "metadata": {
    "ExecuteTime": {
     "end_time": "2019-03-12T23:27:45.113389Z",
     "start_time": "2019-03-12T23:27:45.108954Z"
    }
   },
   "outputs": [
    {
     "data": {
      "text/plain": [
       "1999"
      ]
     },
     "execution_count": 16,
     "metadata": {},
     "output_type": "execute_result"
    }
   ],
   "source": [
    "df.year.min()"
   ]
  },
  {
   "cell_type": "code",
   "execution_count": null,
   "metadata": {},
   "outputs": [],
   "source": []
  },
  {
   "cell_type": "markdown",
   "metadata": {},
   "source": [
    "## model"
   ]
  },
  {
   "cell_type": "markdown",
   "metadata": {},
   "source": [
    "* prepare"
   ]
  },
  {
   "cell_type": "code",
   "execution_count": 17,
   "metadata": {
    "ExecuteTime": {
     "end_time": "2019-03-12T23:27:45.403029Z",
     "start_time": "2019-03-12T23:27:45.189580Z"
    }
   },
   "outputs": [
    {
     "name": "stdout",
     "output_type": "stream",
     "text": [
      "CPU times: user 184 ms, sys: 20.1 ms, total: 204 ms\n",
      "Wall time: 209 ms\n"
     ]
    }
   ],
   "source": [
    "%%time\n",
    "\n",
    "vwpath = f'data/vwpath/{name_dataset}_input_bigartm.vw'\n",
    "\n",
    "with open(vwpath, 'w') as fp:\n",
    "    for text, did in df[['lemmatized_text', 'docID']].values:\n",
    "        fp.write('{} | {}\\n'.format(did, ' '.join(text)))"
   ]
  },
  {
   "cell_type": "code",
   "execution_count": 18,
   "metadata": {
    "ExecuteTime": {
     "end_time": "2019-03-12T23:27:45.484704Z",
     "start_time": "2019-03-12T23:27:45.480458Z"
    }
   },
   "outputs": [],
   "source": [
    "id_date = df[['docID', 'year', 'month']].copy()"
   ]
  },
  {
   "cell_type": "markdown",
   "metadata": {},
   "source": [
    "* collect batchs and collect the dictionary"
   ]
  },
  {
   "cell_type": "code",
   "execution_count": 19,
   "metadata": {
    "ExecuteTime": {
     "end_time": "2019-03-12T23:27:48.282197Z",
     "start_time": "2019-03-12T23:27:45.573838Z"
    }
   },
   "outputs": [
    {
     "name": "stdout",
     "output_type": "stream",
     "text": [
      "artm.BatchVectorizer(data_path=\"data/batches/biznes\", num_batches=14)\n",
      "CPU times: user 7.53 s, sys: 379 ms, total: 7.91 s\n",
      "Wall time: 2.7 s\n"
     ]
    }
   ],
   "source": [
    "%%time\n",
    "\n",
    "batches_path = f'data/batches/{name_dataset}'\n",
    "\n",
    "if not os.path.exists(batches_path):\n",
    "    print('create folder...\\n')\n",
    "    os.makedirs(batches_path)\n",
    "    \n",
    "batch_vectorizer = artm.BatchVectorizer(data_path=vwpath,\n",
    "                                        data_format='vowpal_wabbit',\n",
    "                                        target_folder=batches_path)\n",
    "\n",
    "print(batch_vectorizer)"
   ]
  },
  {
   "cell_type": "code",
   "execution_count": 20,
   "metadata": {
    "ExecuteTime": {
     "end_time": "2019-03-12T23:27:48.833962Z",
     "start_time": "2019-03-12T23:27:48.373626Z"
    }
   },
   "outputs": [],
   "source": [
    "dictionary = artm.Dictionary()\n",
    "dictionary.gather(data_path=batches_path)"
   ]
  },
  {
   "cell_type": "code",
   "execution_count": 21,
   "metadata": {
    "ExecuteTime": {
     "end_time": "2019-03-12T23:27:48.954352Z",
     "start_time": "2019-03-12T23:27:48.920575Z"
    }
   },
   "outputs": [
    {
     "data": {
      "text/plain": [
       "artm.Dictionary(name=a1fc9893-d7b7-48cc-b58e-7d316b2f1f1b, num_entries=11650)"
      ]
     },
     "execution_count": 21,
     "metadata": {},
     "output_type": "execute_result"
    }
   ],
   "source": [
    "dictionary.filter(min_tf=10, max_df_rate=0.1) #int(4.5e5)"
   ]
  },
  {
   "cell_type": "code",
   "execution_count": 22,
   "metadata": {
    "ExecuteTime": {
     "end_time": "2019-02-03T22:49:16.814318Z",
     "start_time": "2019-02-03T22:49:16.756489Z"
    }
   },
   "outputs": [],
   "source": [
    "dictionary.save_text(f'data/dicts/dict_{name_dataset}.txt')"
   ]
  },
  {
   "cell_type": "code",
   "execution_count": null,
   "metadata": {},
   "outputs": [],
   "source": []
  },
  {
   "cell_type": "markdown",
   "metadata": {},
   "source": [
    "## pick up amount topics"
   ]
  },
  {
   "cell_type": "code",
   "execution_count": 23,
   "metadata": {
    "ExecuteTime": {
     "end_time": "2019-02-03T22:56:00.650012Z",
     "start_time": "2019-02-03T22:49:21.066684Z"
    },
    "scrolled": true
   },
   "outputs": [
    {
     "name": "stdout",
     "output_type": "stream",
     "text": [
      "#topic 2.........\n",
      "\tSparsityThetaScore: 0.13313144445419312\n",
      "\tSparsityPhiScore: 0.2239801585674286\n",
      "\tPerplexityScore: 3587.484130859375\n",
      "\ttime: 0:00:17.476142\n",
      "#topic 3.........\n",
      "\tSparsityThetaScore: 0.2696276307106018\n",
      "\tSparsityPhiScore: 0.3535163402557373\n",
      "\tPerplexityScore: 3183.846435546875\n",
      "\ttime: 0:00:18.292159\n",
      "#topic 4.........\n",
      "\tSparsityThetaScore: 0.3918049931526184\n",
      "\tSparsityPhiScore: 0.4398571848869324\n",
      "\tPerplexityScore: 2863.408447265625\n",
      "\ttime: 0:00:19.778309\n",
      "#topic 5.........\n",
      "\tSparsityThetaScore: 0.46141767501831055\n",
      "\tSparsityPhiScore: 0.48938682675361633\n",
      "\tPerplexityScore: 2693.093994140625\n",
      "\ttime: 0:00:21.312547\n",
      "#topic 6.........\n",
      "\tSparsityThetaScore: 0.5042744874954224\n",
      "\tSparsityPhiScore: 0.5383705496788025\n",
      "\tPerplexityScore: 2581.830322265625\n",
      "\ttime: 0:00:20.881688\n",
      "#topic 7.........\n",
      "\tSparsityThetaScore: 0.533390998840332\n",
      "\tSparsityPhiScore: 0.5777937769889832\n",
      "\tPerplexityScore: 2482.22998046875\n",
      "\ttime: 0:00:20.877040\n",
      "#topic 8.........\n",
      "\tSparsityThetaScore: 0.5550695657730103\n",
      "\tSparsityPhiScore: 0.6233109831809998\n",
      "\tPerplexityScore: 2397.09716796875\n",
      "\ttime: 0:00:18.389644\n",
      "#topic 9.........\n",
      "\tSparsityThetaScore: 0.58643639087677\n",
      "\tSparsityPhiScore: 0.6450012922286987\n",
      "\tPerplexityScore: 2300.073486328125\n",
      "\ttime: 0:00:19.501801\n",
      "#topic 10.........\n",
      "\tSparsityThetaScore: 0.6173396110534668\n",
      "\tSparsityPhiScore: 0.6651672124862671\n",
      "\tPerplexityScore: 2201.140625\n",
      "\ttime: 0:00:19.602539\n",
      "#topic 11.........\n",
      "\tSparsityThetaScore: 0.6303343176841736\n",
      "\tSparsityPhiScore: 0.6856316328048706\n",
      "\tPerplexityScore: 2146.06591796875\n",
      "\ttime: 0:00:20.098817\n",
      "#topic 12.........\n",
      "\tSparsityThetaScore: 0.6605603098869324\n",
      "\tSparsityPhiScore: 0.6972690224647522\n",
      "\tPerplexityScore: 2069.230224609375\n",
      "\ttime: 0:00:20.211902\n",
      "#topic 13.........\n",
      "\tSparsityThetaScore: 0.6719409823417664\n",
      "\tSparsityPhiScore: 0.7136616706848145\n",
      "\tPerplexityScore: 2019.9208984375\n",
      "\ttime: 0:00:21.150888\n",
      "#topic 14.........\n",
      "\tSparsityThetaScore: 0.6919128894805908\n",
      "\tSparsityPhiScore: 0.7205043435096741\n",
      "\tPerplexityScore: 1974.031982421875\n",
      "\ttime: 0:00:21.506517\n",
      "#topic 15.........\n",
      "\tSparsityThetaScore: 0.7053835988044739\n",
      "\tSparsityPhiScore: 0.7325408458709717\n",
      "\tPerplexityScore: 1900.0880126953125\n",
      "\ttime: 0:00:22.113461\n",
      "#topic 16.........\n",
      "\tSparsityThetaScore: 0.7174414992332458\n",
      "\tSparsityPhiScore: 0.7451627254486084\n",
      "\tPerplexityScore: 1861.9183349609375\n",
      "\ttime: 0:00:22.670933\n",
      "#topic 17.........\n",
      "\tSparsityThetaScore: 0.7279180884361267\n",
      "\tSparsityPhiScore: 0.7521493434906006\n",
      "\tPerplexityScore: 1832.6527099609375\n",
      "\ttime: 0:00:23.085447\n",
      "#topic 18.........\n",
      "\tSparsityThetaScore: 0.7336166501045227\n",
      "\tSparsityPhiScore: 0.7635194659233093\n",
      "\tPerplexityScore: 1787.4993896484375\n",
      "\ttime: 0:00:23.607939\n",
      "#topic 19.........\n",
      "\tSparsityThetaScore: 0.7450433969497681\n",
      "\tSparsityPhiScore: 0.769223153591156\n",
      "\tPerplexityScore: 1754.2205810546875\n",
      "\ttime: 0:00:24.450055\n",
      "#topic 20.........\n",
      "\tSparsityThetaScore: 0.7524712085723877\n",
      "\tSparsityPhiScore: 0.7763362526893616\n",
      "\tPerplexityScore: 1725.8880615234375\n",
      "\ttime: 0:00:24.565589\n",
      "CPU times: user 44min 54s, sys: 4min 16s, total: 49min 10s\n",
      "Wall time: 6min 39s\n"
     ]
    }
   ],
   "source": [
    "%%time\n",
    "model_list = []\n",
    "step, perplexity, sTheta, sPhi = [], [], [], []\n",
    "\n",
    "for i in range(2,20+1,1):\n",
    "    print(f'#topic {i}.........')\n",
    "    step.append(i)\n",
    "    date_start = time.now()\n",
    "    \n",
    "    num_topics = i\n",
    "    model = artm.ARTM(num_topics=num_topics, dictionary=dictionary)\n",
    "    \n",
    "    # scores\n",
    "    model.scores.add(artm.PerplexityScore(name='PerplexityScore',dictionary=dictionary))\n",
    "    model.scores.add(artm.SparsityThetaScore(name='SparsityThetaScore'))\n",
    "    model.scores.add(artm.SparsityPhiScore(name='SparsityPhiScore'))\n",
    "\n",
    "    # regularizers\n",
    "    model.regularizers.add(artm.SmoothSparsePhiRegularizer(name='SparsePhi', tau=-0.1))\n",
    "    model.regularizers.add(artm.SmoothSparseThetaRegularizer(name='SparseTheta', tau=-0.5))\n",
    "    model.regularizers.add(artm.DecorrelatorPhiRegularizer(name='DecorrelatorPhi', tau=1.5e+5))\n",
    "    \n",
    "    model.fit_offline(batch_vectorizer=batch_vectorizer, num_collection_passes=50)\n",
    "    model_list.append(model)\n",
    "    \n",
    "    sparsityTheta = model.score_tracker['SparsityThetaScore'].last_value\n",
    "    sTheta.append(sparsityTheta)\n",
    "    sparsityPhi = model.score_tracker['SparsityPhiScore'].last_value\n",
    "    sPhi.append(sparsityPhi)\n",
    "    perpl = model.score_tracker['PerplexityScore'].last_value\n",
    "    perplexity.append(perpl)\n",
    "    \n",
    "    print(f'\\tSparsityThetaScore: {sparsityTheta}')\n",
    "    print(f'\\tSparsityPhiScore: {sparsityPhi}')\n",
    "    print(f'\\tPerplexityScore: {perpl}')\n",
    "    \n",
    "    print('\\ttime:',time.now()-date_start)\n",
    "    \n",
    "newTime = time.now() #"
   ]
  },
  {
   "cell_type": "code",
   "execution_count": 31,
   "metadata": {
    "ExecuteTime": {
     "end_time": "2019-02-03T10:25:19.898317Z",
     "start_time": "2019-02-03T10:25:19.896173Z"
    }
   },
   "outputs": [],
   "source": [
    "#model_list"
   ]
  },
  {
   "cell_type": "code",
   "execution_count": 24,
   "metadata": {
    "ExecuteTime": {
     "end_time": "2019-02-03T22:57:41.738991Z",
     "start_time": "2019-02-03T22:57:41.473946Z"
    },
    "cell_style": "split"
   },
   "outputs": [
    {
     "data": {
      "text/plain": [
       "Text(0.5, 1.0, 'SparsityPhiScore')"
      ]
     },
     "execution_count": 24,
     "metadata": {},
     "output_type": "execute_result"
    },
    {
     "data": {
      "image/png": "[encoded data removed]",
      "text/plain": [
       "<Figure size 432x288 with 1 Axes>"
      ]
     },
     "metadata": {
      "needs_background": "light"
     },
     "output_type": "display_data"
    }
   ],
   "source": [
    "plt.plot(step, sPhi, color='k',linewidth=3, marker='x')\n",
    "ax = plt.gca()\n",
    "ax.set_xticks(step)\n",
    "plt.grid()\n",
    "plt.title('SparsityPhiScore')"
   ]
  },
  {
   "cell_type": "code",
   "execution_count": 25,
   "metadata": {
    "ExecuteTime": {
     "end_time": "2019-02-03T22:57:41.747461Z",
     "start_time": "2019-02-03T22:57:41.741548Z"
    },
    "cell_style": "split"
   },
   "outputs": [
    {
     "data": {
      "text/plain": [
       "[0.2, 0.3, 0.4, 0.5, 0.6, 0.7]"
      ]
     },
     "execution_count": 25,
     "metadata": {},
     "output_type": "execute_result"
    }
   ],
   "source": [
    "index_sphi = []\n",
    "[index_sphi.append(float(str(i)[:3]) ) for i in sPhi]\n",
    "    \n",
    "index_sphi = list(set(index_sphi))\n",
    "index_sphi.sort()\n",
    "index_sphi"
   ]
  },
  {
   "cell_type": "code",
   "execution_count": 26,
   "metadata": {
    "ExecuteTime": {
     "end_time": "2019-02-03T22:57:41.758044Z",
     "start_time": "2019-02-03T22:57:41.749989Z"
    },
    "cell_style": "split"
   },
   "outputs": [
    {
     "data": {
      "text/plain": [
       "{0.2: 1, 0.3: 1, 0.4: 2, 0.5: 2, 0.6: 5, 0.7: 8}"
      ]
     },
     "execution_count": 26,
     "metadata": {},
     "output_type": "execute_result"
    }
   ],
   "source": [
    "d_sphi = {}\n",
    "\n",
    "for j in range(len(index_sphi)):\n",
    "    k=0\n",
    "    for i in sPhi:\n",
    "        if j==range(len(index_sphi))[-1]:\n",
    "            if (i>=index_sphi[j]):\n",
    "                k+=1\n",
    "        else:\n",
    "            if (i>=index_sphi[j]) & (i<index_sphi[j+1]):\n",
    "                k+=1\n",
    "    d_sphi[index_sphi[j]]=k\n",
    "\n",
    "d_sphi"
   ]
  },
  {
   "cell_type": "code",
   "execution_count": 27,
   "metadata": {
    "ExecuteTime": {
     "end_time": "2019-02-03T22:57:41.958976Z",
     "start_time": "2019-02-03T22:57:41.761195Z"
    },
    "cell_style": "split",
    "scrolled": true
   },
   "outputs": [
    {
     "data": {
      "text/plain": [
       "Text(0.5, 1.0, 'SparsityThetaScore')"
      ]
     },
     "execution_count": 27,
     "metadata": {},
     "output_type": "execute_result"
    },
    {
     "data": {
      "image/png": "[encoded data removed]",
      "text/plain": [
       "<Figure size 432x288 with 1 Axes>"
      ]
     },
     "metadata": {
      "needs_background": "light"
     },
     "output_type": "display_data"
    }
   ],
   "source": [
    "plt.plot(step, sTheta, color='g',linewidth=3, marker='x')\n",
    "ax = plt.gca()\n",
    "ax.set_xticks(step)\n",
    "plt.grid()\n",
    "\n",
    "plt.title('SparsityThetaScore')"
   ]
  },
  {
   "cell_type": "code",
   "execution_count": 28,
   "metadata": {
    "ExecuteTime": {
     "end_time": "2019-02-03T22:57:41.966025Z",
     "start_time": "2019-02-03T22:57:41.960931Z"
    },
    "cell_style": "split"
   },
   "outputs": [
    {
     "data": {
      "text/plain": [
       "[0.1, 0.2, 0.3, 0.4, 0.5, 0.6, 0.7]"
      ]
     },
     "execution_count": 28,
     "metadata": {},
     "output_type": "execute_result"
    }
   ],
   "source": [
    "index_theta = []\n",
    "[index_theta.append(float(str(i)[:3])) for i in sTheta]\n",
    "    \n",
    "index_theta = list(set(index_theta))\n",
    "index_theta.sort()\n",
    "index_theta"
   ]
  },
  {
   "cell_type": "code",
   "execution_count": 29,
   "metadata": {
    "ExecuteTime": {
     "end_time": "2019-02-03T22:57:41.976787Z",
     "start_time": "2019-02-03T22:57:41.968124Z"
    },
    "cell_style": "split"
   },
   "outputs": [
    {
     "data": {
      "text/plain": [
       "{0.1: 1, 0.2: 1, 0.3: 1, 0.4: 1, 0.5: 4, 0.6: 5, 0.7: 6}"
      ]
     },
     "execution_count": 29,
     "metadata": {},
     "output_type": "execute_result"
    }
   ],
   "source": [
    "d_stheta = {}\n",
    "\n",
    "for j in range(len(index_theta)):\n",
    "    k=0\n",
    "    for i in sTheta:\n",
    "        if j==range(len(index_theta))[-1]:\n",
    "            if (i>=index_theta[j]):\n",
    "                k+=1\n",
    "        else:\n",
    "            if (i>=index_theta[j]) & (i<index_theta[j+1]):\n",
    "                k+=1\n",
    "    d_stheta[index_theta[j]]=k\n",
    "\n",
    "d_stheta"
   ]
  },
  {
   "cell_type": "code",
   "execution_count": 30,
   "metadata": {
    "ExecuteTime": {
     "end_time": "2019-02-03T22:57:42.195229Z",
     "start_time": "2019-02-03T22:57:41.978832Z"
    },
    "cell_style": "split"
   },
   "outputs": [
    {
     "data": {
      "text/plain": [
       "Text(0.5, 1.0, 'PerplexityScore')"
      ]
     },
     "execution_count": 30,
     "metadata": {},
     "output_type": "execute_result"
    },
    {
     "data": {
      "image/png": "[encoded data removed]",
      "text/plain": [
       "<Figure size 432x288 with 1 Axes>"
      ]
     },
     "metadata": {
      "needs_background": "light"
     },
     "output_type": "display_data"
    }
   ],
   "source": [
    "plt.plot(step, perplexity, color='b',linewidth=3, marker='x')\n",
    "ax = plt.gca()\n",
    "ax.set_xticks(step)\n",
    "plt.grid()\n",
    "plt.title('PerplexityScore')"
   ]
  },
  {
   "cell_type": "code",
   "execution_count": 31,
   "metadata": {
    "ExecuteTime": {
     "end_time": "2019-02-03T22:57:42.201531Z",
     "start_time": "2019-02-03T22:57:42.197235Z"
    },
    "cell_style": "split"
   },
   "outputs": [
    {
     "data": {
      "text/plain": [
       "[3587.484130859375,\n",
       " 3183.846435546875,\n",
       " 2863.408447265625,\n",
       " 2693.093994140625,\n",
       " 2581.830322265625,\n",
       " 2482.22998046875,\n",
       " 2397.09716796875,\n",
       " 2300.073486328125,\n",
       " 2201.140625,\n",
       " 2146.06591796875,\n",
       " 2069.230224609375,\n",
       " 2019.9208984375,\n",
       " 1974.031982421875,\n",
       " 1900.0880126953125,\n",
       " 1861.9183349609375,\n",
       " 1832.6527099609375,\n",
       " 1787.4993896484375,\n",
       " 1754.2205810546875,\n",
       " 1725.8880615234375]"
      ]
     },
     "execution_count": 31,
     "metadata": {},
     "output_type": "execute_result"
    }
   ],
   "source": [
    "perplexity"
   ]
  },
  {
   "cell_type": "markdown",
   "metadata": {},
   "source": [
    "### select the best model"
   ]
  },
  {
   "cell_type": "code",
   "execution_count": 32,
   "metadata": {
    "ExecuteTime": {
     "end_time": "2019-02-03T22:57:42.211282Z",
     "start_time": "2019-02-03T22:57:42.203633Z"
    }
   },
   "outputs": [
    {
     "name": "stdout",
     "output_type": "stream",
     "text": [
      "d_sphi:   {0.2: 1, 0.3: 1, 0.4: 2, 0.5: 2, 0.6: 5, 0.7: 8}\n",
      "d_stheta: {0.1: 1, 0.2: 1, 0.3: 1, 0.4: 1, 0.5: 4, 0.6: 5, 0.7: 6}\n"
     ]
    }
   ],
   "source": [
    "print(f'd_sphi:   {d_sphi}')\n",
    "print(f'd_stheta: {d_stheta}')"
   ]
  },
  {
   "cell_type": "code",
   "execution_count": 33,
   "metadata": {
    "ExecuteTime": {
     "end_time": "2019-02-03T22:57:48.900526Z",
     "start_time": "2019-02-03T22:57:48.896446Z"
    }
   },
   "outputs": [
    {
     "name": "stdout",
     "output_type": "stream",
     "text": [
      "20\n"
     ]
    }
   ],
   "source": [
    "select_topics = 20 # u should choose number of topic\n",
    "\n",
    "best_model = model_list[select_topics-2]\n",
    "print(best_model.num_topics)"
   ]
  },
  {
   "cell_type": "markdown",
   "metadata": {},
   "source": [
    "---"
   ]
  },
  {
   "cell_type": "code",
   "execution_count": 22,
   "metadata": {
    "ExecuteTime": {
     "end_time": "2019-03-12T23:28:32.254672Z",
     "start_time": "2019-03-12T23:27:58.564747Z"
    }
   },
   "outputs": [
    {
     "data": {
      "application/vnd.jupyter.widget-view+json": {
       "model_id": "69f3422eb8b14e9ea65a60d7247f36f7",
       "version_major": 2,
       "version_minor": 0
      },
      "text/plain": [
       "HBox(children=(IntProgress(value=0, description='Pass', max=50, style=ProgressStyle(description_width='initial…"
      ]
     },
     "metadata": {},
     "output_type": "display_data"
    },
    {
     "data": {
      "application/vnd.jupyter.widget-view+json": {
       "model_id": "",
       "version_major": 2,
       "version_minor": 0
      },
      "text/plain": [
       "HBox(children=(IntProgress(value=0, description='Batch', max=14, style=ProgressStyle(description_width='initia…"
      ]
     },
     "metadata": {},
     "output_type": "display_data"
    },
    {
     "data": {
      "application/vnd.jupyter.widget-view+json": {
       "model_id": "",
       "version_major": 2,
       "version_minor": 0
      },
      "text/plain": [
       "HBox(children=(IntProgress(value=0, description='Batch', max=14, style=ProgressStyle(description_width='initia…"
      ]
     },
     "metadata": {},
     "output_type": "display_data"
    },
    {
     "data": {
      "application/vnd.jupyter.widget-view+json": {
       "model_id": "",
       "version_major": 2,
       "version_minor": 0
      },
      "text/plain": [
       "HBox(children=(IntProgress(value=0, description='Batch', max=14, style=ProgressStyle(description_width='initia…"
      ]
     },
     "metadata": {},
     "output_type": "display_data"
    },
    {
     "data": {
      "application/vnd.jupyter.widget-view+json": {
       "model_id": "",
       "version_major": 2,
       "version_minor": 0
      },
      "text/plain": [
       "HBox(children=(IntProgress(value=0, description='Batch', max=14, style=ProgressStyle(description_width='initia…"
      ]
     },
     "metadata": {},
     "output_type": "display_data"
    },
    {
     "data": {
      "application/vnd.jupyter.widget-view+json": {
       "model_id": "",
       "version_major": 2,
       "version_minor": 0
      },
      "text/plain": [
       "HBox(children=(IntProgress(value=0, description='Batch', max=14, style=ProgressStyle(description_width='initia…"
      ]
     },
     "metadata": {},
     "output_type": "display_data"
    },
    {
     "data": {
      "application/vnd.jupyter.widget-view+json": {
       "model_id": "",
       "version_major": 2,
       "version_minor": 0
      },
      "text/plain": [
       "HBox(children=(IntProgress(value=0, description='Batch', max=14, style=ProgressStyle(description_width='initia…"
      ]
     },
     "metadata": {},
     "output_type": "display_data"
    },
    {
     "data": {
      "application/vnd.jupyter.widget-view+json": {
       "model_id": "",
       "version_major": 2,
       "version_minor": 0
      },
      "text/plain": [
       "HBox(children=(IntProgress(value=0, description='Batch', max=14, style=ProgressStyle(description_width='initia…"
      ]
     },
     "metadata": {},
     "output_type": "display_data"
    },
    {
     "data": {
      "application/vnd.jupyter.widget-view+json": {
       "model_id": "",
       "version_major": 2,
       "version_minor": 0
      },
      "text/plain": [
       "HBox(children=(IntProgress(value=0, description='Batch', max=14, style=ProgressStyle(description_width='initia…"
      ]
     },
     "metadata": {},
     "output_type": "display_data"
    },
    {
     "data": {
      "application/vnd.jupyter.widget-view+json": {
       "model_id": "",
       "version_major": 2,
       "version_minor": 0
      },
      "text/plain": [
       "HBox(children=(IntProgress(value=0, description='Batch', max=14, style=ProgressStyle(description_width='initia…"
      ]
     },
     "metadata": {},
     "output_type": "display_data"
    },
    {
     "data": {
      "application/vnd.jupyter.widget-view+json": {
       "model_id": "",
       "version_major": 2,
       "version_minor": 0
      },
      "text/plain": [
       "HBox(children=(IntProgress(value=0, description='Batch', max=14, style=ProgressStyle(description_width='initia…"
      ]
     },
     "metadata": {},
     "output_type": "display_data"
    },
    {
     "data": {
      "application/vnd.jupyter.widget-view+json": {
       "model_id": "",
       "version_major": 2,
       "version_minor": 0
      },
      "text/plain": [
       "HBox(children=(IntProgress(value=0, description='Batch', max=14, style=ProgressStyle(description_width='initia…"
      ]
     },
     "metadata": {},
     "output_type": "display_data"
    },
    {
     "data": {
      "application/vnd.jupyter.widget-view+json": {
       "model_id": "",
       "version_major": 2,
       "version_minor": 0
      },
      "text/plain": [
       "HBox(children=(IntProgress(value=0, description='Batch', max=14, style=ProgressStyle(description_width='initia…"
      ]
     },
     "metadata": {},
     "output_type": "display_data"
    },
    {
     "data": {
      "application/vnd.jupyter.widget-view+json": {
       "model_id": "",
       "version_major": 2,
       "version_minor": 0
      },
      "text/plain": [
       "HBox(children=(IntProgress(value=0, description='Batch', max=14, style=ProgressStyle(description_width='initia…"
      ]
     },
     "metadata": {},
     "output_type": "display_data"
    },
    {
     "data": {
      "application/vnd.jupyter.widget-view+json": {
       "model_id": "",
       "version_major": 2,
       "version_minor": 0
      },
      "text/plain": [
       "HBox(children=(IntProgress(value=0, description='Batch', max=14, style=ProgressStyle(description_width='initia…"
      ]
     },
     "metadata": {},
     "output_type": "display_data"
    },
    {
     "data": {
      "application/vnd.jupyter.widget-view+json": {
       "model_id": "",
       "version_major": 2,
       "version_minor": 0
      },
      "text/plain": [
       "HBox(children=(IntProgress(value=0, description='Batch', max=14, style=ProgressStyle(description_width='initia…"
      ]
     },
     "metadata": {},
     "output_type": "display_data"
    },
    {
     "data": {
      "application/vnd.jupyter.widget-view+json": {
       "model_id": "",
       "version_major": 2,
       "version_minor": 0
      },
      "text/plain": [
       "HBox(children=(IntProgress(value=0, description='Batch', max=14, style=ProgressStyle(description_width='initia…"
      ]
     },
     "metadata": {},
     "output_type": "display_data"
    },
    {
     "data": {
      "application/vnd.jupyter.widget-view+json": {
       "model_id": "",
       "version_major": 2,
       "version_minor": 0
      },
      "text/plain": [
       "HBox(children=(IntProgress(value=0, description='Batch', max=14, style=ProgressStyle(description_width='initia…"
      ]
     },
     "metadata": {},
     "output_type": "display_data"
    },
    {
     "data": {
      "application/vnd.jupyter.widget-view+json": {
       "model_id": "",
       "version_major": 2,
       "version_minor": 0
      },
      "text/plain": [
       "HBox(children=(IntProgress(value=0, description='Batch', max=14, style=ProgressStyle(description_width='initia…"
      ]
     },
     "metadata": {},
     "output_type": "display_data"
    },
    {
     "data": {
      "application/vnd.jupyter.widget-view+json": {
       "model_id": "",
       "version_major": 2,
       "version_minor": 0
      },
      "text/plain": [
       "HBox(children=(IntProgress(value=0, description='Batch', max=14, style=ProgressStyle(description_width='initia…"
      ]
     },
     "metadata": {},
     "output_type": "display_data"
    },
    {
     "data": {
      "application/vnd.jupyter.widget-view+json": {
       "model_id": "",
       "version_major": 2,
       "version_minor": 0
      },
      "text/plain": [
       "HBox(children=(IntProgress(value=0, description='Batch', max=14, style=ProgressStyle(description_width='initia…"
      ]
     },
     "metadata": {},
     "output_type": "display_data"
    },
    {
     "data": {
      "application/vnd.jupyter.widget-view+json": {
       "model_id": "",
       "version_major": 2,
       "version_minor": 0
      },
      "text/plain": [
       "HBox(children=(IntProgress(value=0, description='Batch', max=14, style=ProgressStyle(description_width='initia…"
      ]
     },
     "metadata": {},
     "output_type": "display_data"
    },
    {
     "data": {
      "application/vnd.jupyter.widget-view+json": {
       "model_id": "",
       "version_major": 2,
       "version_minor": 0
      },
      "text/plain": [
       "HBox(children=(IntProgress(value=0, description='Batch', max=14, style=ProgressStyle(description_width='initia…"
      ]
     },
     "metadata": {},
     "output_type": "display_data"
    },
    {
     "data": {
      "application/vnd.jupyter.widget-view+json": {
       "model_id": "",
       "version_major": 2,
       "version_minor": 0
      },
      "text/plain": [
       "HBox(children=(IntProgress(value=0, description='Batch', max=14, style=ProgressStyle(description_width='initia…"
      ]
     },
     "metadata": {},
     "output_type": "display_data"
    },
    {
     "data": {
      "application/vnd.jupyter.widget-view+json": {
       "model_id": "",
       "version_major": 2,
       "version_minor": 0
      },
      "text/plain": [
       "HBox(children=(IntProgress(value=0, description='Batch', max=14, style=ProgressStyle(description_width='initia…"
      ]
     },
     "metadata": {},
     "output_type": "display_data"
    },
    {
     "data": {
      "application/vnd.jupyter.widget-view+json": {
       "model_id": "",
       "version_major": 2,
       "version_minor": 0
      },
      "text/plain": [
       "HBox(children=(IntProgress(value=0, description='Batch', max=14, style=ProgressStyle(description_width='initia…"
      ]
     },
     "metadata": {},
     "output_type": "display_data"
    },
    {
     "data": {
      "application/vnd.jupyter.widget-view+json": {
       "model_id": "",
       "version_major": 2,
       "version_minor": 0
      },
      "text/plain": [
       "HBox(children=(IntProgress(value=0, description='Batch', max=14, style=ProgressStyle(description_width='initia…"
      ]
     },
     "metadata": {},
     "output_type": "display_data"
    },
    {
     "data": {
      "application/vnd.jupyter.widget-view+json": {
       "model_id": "",
       "version_major": 2,
       "version_minor": 0
      },
      "text/plain": [
       "HBox(children=(IntProgress(value=0, description='Batch', max=14, style=ProgressStyle(description_width='initia…"
      ]
     },
     "metadata": {},
     "output_type": "display_data"
    },
    {
     "data": {
      "application/vnd.jupyter.widget-view+json": {
       "model_id": "",
       "version_major": 2,
       "version_minor": 0
      },
      "text/plain": [
       "HBox(children=(IntProgress(value=0, description='Batch', max=14, style=ProgressStyle(description_width='initia…"
      ]
     },
     "metadata": {},
     "output_type": "display_data"
    },
    {
     "data": {
      "application/vnd.jupyter.widget-view+json": {
       "model_id": "",
       "version_major": 2,
       "version_minor": 0
      },
      "text/plain": [
       "HBox(children=(IntProgress(value=0, description='Batch', max=14, style=ProgressStyle(description_width='initia…"
      ]
     },
     "metadata": {},
     "output_type": "display_data"
    },
    {
     "data": {
      "application/vnd.jupyter.widget-view+json": {
       "model_id": "",
       "version_major": 2,
       "version_minor": 0
      },
      "text/plain": [
       "HBox(children=(IntProgress(value=0, description='Batch', max=14, style=ProgressStyle(description_width='initia…"
      ]
     },
     "metadata": {},
     "output_type": "display_data"
    },
    {
     "data": {
      "application/vnd.jupyter.widget-view+json": {
       "model_id": "",
       "version_major": 2,
       "version_minor": 0
      },
      "text/plain": [
       "HBox(children=(IntProgress(value=0, description='Batch', max=14, style=ProgressStyle(description_width='initia…"
      ]
     },
     "metadata": {},
     "output_type": "display_data"
    },
    {
     "data": {
      "application/vnd.jupyter.widget-view+json": {
       "model_id": "",
       "version_major": 2,
       "version_minor": 0
      },
      "text/plain": [
       "HBox(children=(IntProgress(value=0, description='Batch', max=14, style=ProgressStyle(description_width='initia…"
      ]
     },
     "metadata": {},
     "output_type": "display_data"
    },
    {
     "data": {
      "application/vnd.jupyter.widget-view+json": {
       "model_id": "",
       "version_major": 2,
       "version_minor": 0
      },
      "text/plain": [
       "HBox(children=(IntProgress(value=0, description='Batch', max=14, style=ProgressStyle(description_width='initia…"
      ]
     },
     "metadata": {},
     "output_type": "display_data"
    },
    {
     "data": {
      "application/vnd.jupyter.widget-view+json": {
       "model_id": "",
       "version_major": 2,
       "version_minor": 0
      },
      "text/plain": [
       "HBox(children=(IntProgress(value=0, description='Batch', max=14, style=ProgressStyle(description_width='initia…"
      ]
     },
     "metadata": {},
     "output_type": "display_data"
    },
    {
     "data": {
      "application/vnd.jupyter.widget-view+json": {
       "model_id": "",
       "version_major": 2,
       "version_minor": 0
      },
      "text/plain": [
       "HBox(children=(IntProgress(value=0, description='Batch', max=14, style=ProgressStyle(description_width='initia…"
      ]
     },
     "metadata": {},
     "output_type": "display_data"
    },
    {
     "data": {
      "application/vnd.jupyter.widget-view+json": {
       "model_id": "",
       "version_major": 2,
       "version_minor": 0
      },
      "text/plain": [
       "HBox(children=(IntProgress(value=0, description='Batch', max=14, style=ProgressStyle(description_width='initia…"
      ]
     },
     "metadata": {},
     "output_type": "display_data"
    },
    {
     "data": {
      "application/vnd.jupyter.widget-view+json": {
       "model_id": "",
       "version_major": 2,
       "version_minor": 0
      },
      "text/plain": [
       "HBox(children=(IntProgress(value=0, description='Batch', max=14, style=ProgressStyle(description_width='initia…"
      ]
     },
     "metadata": {},
     "output_type": "display_data"
    },
    {
     "data": {
      "application/vnd.jupyter.widget-view+json": {
       "model_id": "",
       "version_major": 2,
       "version_minor": 0
      },
      "text/plain": [
       "HBox(children=(IntProgress(value=0, description='Batch', max=14, style=ProgressStyle(description_width='initia…"
      ]
     },
     "metadata": {},
     "output_type": "display_data"
    },
    {
     "data": {
      "application/vnd.jupyter.widget-view+json": {
       "model_id": "",
       "version_major": 2,
       "version_minor": 0
      },
      "text/plain": [
       "HBox(children=(IntProgress(value=0, description='Batch', max=14, style=ProgressStyle(description_width='initia…"
      ]
     },
     "metadata": {},
     "output_type": "display_data"
    },
    {
     "data": {
      "application/vnd.jupyter.widget-view+json": {
       "model_id": "",
       "version_major": 2,
       "version_minor": 0
      },
      "text/plain": [
       "HBox(children=(IntProgress(value=0, description='Batch', max=14, style=ProgressStyle(description_width='initia…"
      ]
     },
     "metadata": {},
     "output_type": "display_data"
    },
    {
     "data": {
      "application/vnd.jupyter.widget-view+json": {
       "model_id": "",
       "version_major": 2,
       "version_minor": 0
      },
      "text/plain": [
       "HBox(children=(IntProgress(value=0, description='Batch', max=14, style=ProgressStyle(description_width='initia…"
      ]
     },
     "metadata": {},
     "output_type": "display_data"
    },
    {
     "data": {
      "application/vnd.jupyter.widget-view+json": {
       "model_id": "",
       "version_major": 2,
       "version_minor": 0
      },
      "text/plain": [
       "HBox(children=(IntProgress(value=0, description='Batch', max=14, style=ProgressStyle(description_width='initia…"
      ]
     },
     "metadata": {},
     "output_type": "display_data"
    },
    {
     "data": {
      "application/vnd.jupyter.widget-view+json": {
       "model_id": "",
       "version_major": 2,
       "version_minor": 0
      },
      "text/plain": [
       "HBox(children=(IntProgress(value=0, description='Batch', max=14, style=ProgressStyle(description_width='initia…"
      ]
     },
     "metadata": {},
     "output_type": "display_data"
    },
    {
     "data": {
      "application/vnd.jupyter.widget-view+json": {
       "model_id": "",
       "version_major": 2,
       "version_minor": 0
      },
      "text/plain": [
       "HBox(children=(IntProgress(value=0, description='Batch', max=14, style=ProgressStyle(description_width='initia…"
      ]
     },
     "metadata": {},
     "output_type": "display_data"
    },
    {
     "data": {
      "application/vnd.jupyter.widget-view+json": {
       "model_id": "",
       "version_major": 2,
       "version_minor": 0
      },
      "text/plain": [
       "HBox(children=(IntProgress(value=0, description='Batch', max=14, style=ProgressStyle(description_width='initia…"
      ]
     },
     "metadata": {},
     "output_type": "display_data"
    },
    {
     "data": {
      "application/vnd.jupyter.widget-view+json": {
       "model_id": "",
       "version_major": 2,
       "version_minor": 0
      },
      "text/plain": [
       "HBox(children=(IntProgress(value=0, description='Batch', max=14, style=ProgressStyle(description_width='initia…"
      ]
     },
     "metadata": {},
     "output_type": "display_data"
    },
    {
     "data": {
      "application/vnd.jupyter.widget-view+json": {
       "model_id": "e1728ab49165436fb0a6ba9adc3ca89e",
       "version_major": 2,
       "version_minor": 0
      },
      "text/plain": [
       "HBox(children=(IntProgress(value=0, description='Batch', max=14, style=ProgressStyle(description_width='initia…"
      ]
     },
     "metadata": {},
     "output_type": "display_data"
    },
    {
     "data": {
      "application/vnd.jupyter.widget-view+json": {
       "model_id": "",
       "version_major": 2,
       "version_minor": 0
      },
      "text/plain": [
       "HBox(children=(IntProgress(value=0, description='Batch', max=14, style=ProgressStyle(description_width='initia…"
      ]
     },
     "metadata": {},
     "output_type": "display_data"
    },
    {
     "data": {
      "application/vnd.jupyter.widget-view+json": {
       "model_id": "",
       "version_major": 2,
       "version_minor": 0
      },
      "text/plain": [
       "HBox(children=(IntProgress(value=0, description='Batch', max=14, style=ProgressStyle(description_width='initia…"
      ]
     },
     "metadata": {},
     "output_type": "display_data"
    },
    {
     "data": {
      "application/vnd.jupyter.widget-view+json": {
       "model_id": "",
       "version_major": 2,
       "version_minor": 0
      },
      "text/plain": [
       "HBox(children=(IntProgress(value=0, description='Batch', max=14, style=ProgressStyle(description_width='initia…"
      ]
     },
     "metadata": {},
     "output_type": "display_data"
    },
    {
     "name": "stdout",
     "output_type": "stream",
     "text": [
      "\n",
      "\tSparsityThetaScore: 0.7538357973098755\n",
      "\tSparsityPhiScore: 0.7776094675064087\n",
      "\tPerplexityScore: 1707.42919921875\n"
     ]
    }
   ],
   "source": [
    "select_topics = 20\n",
    "\n",
    "model = artm.ARTM(num_topics=select_topics, dictionary=dictionary, show_progress_bars=True)\n",
    "\n",
    "# scores\n",
    "model.scores.add(artm.PerplexityScore(name='PerplexityScore',dictionary=dictionary))\n",
    "model.scores.add(artm.SparsityThetaScore(name='SparsityThetaScore'))\n",
    "model.scores.add(artm.SparsityPhiScore(name='SparsityPhiScore'))\n",
    "\n",
    "# regularizers\n",
    "model.regularizers.add(artm.SmoothSparsePhiRegularizer(name='SparsePhi', tau=-0.1))\n",
    "model.regularizers.add(artm.SmoothSparseThetaRegularizer(name='SparseTheta', tau=-0.5))\n",
    "model.regularizers.add(artm.DecorrelatorPhiRegularizer(name='DecorrelatorPhi', tau=1.5e+5))\n",
    "\n",
    "model.fit_offline(batch_vectorizer=batch_vectorizer, num_collection_passes=50)\n",
    "\n",
    "sparsityTheta = model.score_tracker['SparsityThetaScore'].last_value\n",
    "sparsityPhi = model.score_tracker['SparsityPhiScore'].last_value\n",
    "perpl = model.score_tracker['PerplexityScore'].last_value\n",
    "\n",
    "print(f'\\tSparsityThetaScore: {sparsityTheta}')\n",
    "print(f'\\tSparsityPhiScore: {sparsityPhi}')\n",
    "print(f'\\tPerplexityScore: {perpl}')\n",
    "\n",
    "best_model = model.clone()"
   ]
  },
  {
   "cell_type": "markdown",
   "metadata": {},
   "source": [
    "---"
   ]
  },
  {
   "cell_type": "markdown",
   "metadata": {
    "ExecuteTime": {
     "end_time": "2019-02-01T00:14:02.339878Z",
     "start_time": "2019-02-01T00:14:02.338133Z"
    }
   },
   "source": [
    "### print top words for each topics"
   ]
  },
  {
   "cell_type": "code",
   "execution_count": 23,
   "metadata": {
    "ExecuteTime": {
     "end_time": "2019-03-12T23:28:34.807457Z",
     "start_time": "2019-03-12T23:28:34.678816Z"
    }
   },
   "outputs": [
    {
     "name": "stdout",
     "output_type": "stream",
     "text": [
      "topic_0: ['росатом' 'вино' 'атомный' 'алкоголь' 'пиво' 'аэс' 'алкогольный'\n",
      " 'напиток' 'станция' 'ядерный']\n",
      "topic_1: ['арбитражный' 'юкос' 'судебный' 'требование' 'банкротство'\n",
      " 'задолженность' 'налоговый' 'признать' 'долг' 'право']\n",
      "topic_2: ['оператор' 'автоваз' 'вымпелком' 'модель' 'lada' 'мегафон' 'сотовый'\n",
      " 'марка' 'мтс' 'абонент']\n",
      "topic_3: ['фас' 'антимонопольный' 'нарушение' 'ведомство' 'тариф' 'штраф'\n",
      " 'проверка' 'оператор' 'услуга' 'реклама']\n",
      "topic_4: ['крым' 'госкорпорация' 'иран' 'оборудование' 'siemens' 'ростёха' 'мост'\n",
      " 'санкция' 'комплекс' 'техника']\n",
      "topic_5: ['самолёт' 'вертолёт' 'boeing' 'airbus' 'оак' 'лайнер' 'индия' 'военный'\n",
      " 'километр' 'двигатель']\n",
      "topic_6: ['евро' 'французский' 'volkswagen' 'немецкий' 'великобритания'\n",
      " 'расследование' 'германия' 'франция' 'отзыв' 'дизельный']\n",
      "topic_7: ['закон' 'письмо' 'проблема' 'власть' 'предложение' 'право' 'министерство'\n",
      " 'законопроект' 'подчеркнуть' 'орган']\n",
      "topic_8: ['авиакомпания' 'аэрофлот' 'трансаэро' 'перевозчик' 'пассажир' 'рейс'\n",
      " 'аэропорт' 'полёт' 'перевозка' 'авиаперевозчик']\n",
      "topic_9: ['банка' 'банк' 'кредит' 'покупка' 'долг' 'владеть' 'владелец'\n",
      " 'приобретение' 'инвестор' 'рао']\n",
      "topic_10: ['ржд' 'создание' 'программа' 'дорога' 'форум' 'технология' 'регион'\n",
      " 'центр' 'реализация' 'инвестиция']\n",
      "topic_11: ['нефть' 'месторождение' 'лукойл' 'добыча' 'нефтяной' 'роснефть' 'тонна'\n",
      " 'запас' 'разработка' 'сахалин']\n",
      "topic_12: ['магазин' 'сотрудник' 'фабрика' 'ресторан' 'торговый' 'apple' 'комбинат'\n",
      " 'group' 'мсп' 'товар']\n",
      "topic_13: ['роснефть' 'башнефть' 'приватизация' 'афк' 'аукцион' 'юганскнефтегаз'\n",
      " 'игорь_сечина' 'нефтяной' 'фонд' 'госкомпания']\n",
      "topic_14: ['поток' 'газопровод' 'кубометр' 'турецкий' 'турция' 'газ' 'газовый'\n",
      " 'северный' 'белоруссия' 'экспорт']\n",
      "topic_15: ['рейтинг' 'бренд' 'список' 'знак' 'занять' 'forbes' 'товарный' 'хороший'\n",
      " 'состояние' 'журнал']\n",
      "topic_16: ['пост' 'руководитель' 'гендиректор' 'правление' 'должность' 'бывший'\n",
      " 'генеральный' 'руководство' 'заместитель' 'член']\n",
      "topic_17: ['рост' 'выручка' 'показатель' 'вырасти' 'квартал' 'прибыль' 'уровень'\n",
      " 'чистый' 'снижение' 'период']\n",
      "topic_18: ['продукт' 'товар' 'россельхознадзор' 'ведомство' 'тонна' 'молочный'\n",
      " 'запрет' 'роспотребнадзор' 'ввоз' 'ввести']\n",
      "topic_19: ['украина' 'украинский' 'нафтогаз' 'кубометр' 'европейский' 'европа' 'газ'\n",
      " 'нафтогаза' 'киев' 'транзит']\n"
     ]
    }
   ],
   "source": [
    "phi = best_model.get_phi()\n",
    "phi['word'] = phi.index\n",
    "#phi.head()\n",
    "\n",
    "for col in phi.columns:\n",
    "    if col != 'word':\n",
    "        print(f\"{col}: {phi[[col, 'word']].sort_values(by=col, ascending=False)['word'].values[:10]}\")\n",
    "        #print('\\t',phi[[col, 'word']].sort_values(by=col, ascending=False)['word'].values[:10])"
   ]
  },
  {
   "cell_type": "code",
   "execution_count": 39,
   "metadata": {
    "ExecuteTime": {
     "end_time": "2019-03-24T10:51:56.204267Z",
     "start_time": "2019-03-24T10:51:56.084323Z"
    },
    "scrolled": true
   },
   "outputs": [],
   "source": [
    "# save to json\n",
    "\n",
    "outjson = {}\n",
    "# ---\n",
    "phi = best_model.get_phi()\n",
    "phi['word'] = phi.index\n",
    "#phi.head()\n",
    "\n",
    "for col in phi.columns:\n",
    "    if col != 'word':\n",
    "        #print(f\"{col}: {phi[[col, 'word']].sort_values(by=col, ascending=False)['word'].values[:10]}\")\n",
    "        #print('\\t',phi[[col, 'word']].sort_values(by=col, ascending=False)['word'].values[:10])\n",
    "        outjson[f'{col}'] = phi[[col, 'word']].sort_values(by=col, ascending=False)['word'].values[:20]"
   ]
  },
  {
   "cell_type": "code",
   "execution_count": 36,
   "metadata": {
    "ExecuteTime": {
     "end_time": "2019-03-24T10:49:42.725294Z",
     "start_time": "2019-03-24T10:49:42.721333Z"
    }
   },
   "outputs": [],
   "source": [
    "import pickle\n",
    "\n",
    "with open(f'''data/top20word/{'-'.join(name_dataset.split('.'))}.pickle''', 'wb') as handle:\n",
    "    pickle.dump(outjson, handle, protocol=pickle.HIGHEST_PROTOCOL)"
   ]
  },
  {
   "cell_type": "code",
   "execution_count": 40,
   "metadata": {
    "ExecuteTime": {
     "end_time": "2019-03-24T10:52:35.643658Z",
     "start_time": "2019-03-24T10:52:35.636330Z"
    }
   },
   "outputs": [
    {
     "data": {
      "text/plain": [
       "{'topic_0': array(['росатом', 'вино', 'атомный', 'алкоголь', 'пиво', 'аэс',\n",
       "        'алкогольный', 'напиток', 'станция', 'ядерный', 'водка', 'уголь',\n",
       "        'акциз', 'электроэнергия', 'русгидро', 'литр', 'энергетика',\n",
       "        'егаиса', 'электростанция', 'марка'], dtype=object),\n",
       " 'topic_1': array(['арбитражный', 'юкос', 'судебный', 'требование', 'банкротство',\n",
       "        'задолженность', 'налоговый', 'признать', 'долг', 'право',\n",
       "        'претензия', 'арест', 'бывший', 'взыскание', 'кредитор',\n",
       "        'обратиться', 'имущество', 'счёт', 'рассмотрение', 'инстанция'],\n",
       "       dtype=object),\n",
       " 'topic_2': array(['оператор', 'автоваз', 'вымпелком', 'модель', 'lada', 'мегафон',\n",
       "        'сотовый', 'марка', 'мтс', 'абонент', 'выпуск', 'бренд', 'ford',\n",
       "        'легковой', 'мобильный', 'автопроизводитель', 'автозавод',\n",
       "        'автомобильный', 'motors', 'toyota'], dtype=object),\n",
       " 'topic_3': array(['фас', 'антимонопольный', 'нарушение', 'ведомство', 'тариф',\n",
       "        'штраф', 'проверка', 'оператор', 'услуга', 'реклама',\n",
       "        'законодательство', 'закон', 'мечело', 'возбудить', 'конкуренция',\n",
       "        'google', 'комиссия', 'роуминг', 'расследование', 'положение'],\n",
       "       dtype=object),\n",
       " 'topic_4': array(['крым', 'госкорпорация', 'иран', 'оборудование', 'siemens',\n",
       "        'ростёха', 'мост', 'санкция', 'комплекс', 'техника', 'увз',\n",
       "        'полуостров', 'ростех', 'уралвагонзавод', 'турбина', 'крымский',\n",
       "        'военный', 'вагон', 'состав', 'иранский'], dtype=object),\n",
       " 'topic_5': array(['самолёт', 'вертолёт', 'boeing', 'airbus', 'оак', 'лайнер',\n",
       "        'индия', 'военный', 'километр', 'двигатель', 'ан', 'тендер',\n",
       "        'гражданский', 'ввс', 'авиастроительный', 'superjet', 'сухой',\n",
       "        'истребитель', 'авиационный', 'оборона'], dtype=object),\n",
       " 'topic_6': array(['евро', 'французский', 'volkswagen', 'немецкий', 'великобритания',\n",
       "        'расследование', 'германия', 'франция', 'отзыв', 'дизельный',\n",
       "        'двигатель', 'русснефть', 'власть', 'скандал', 'причина',\n",
       "        'безопасность', 'авария', 'произойти', 'daimler', 'владелец'],\n",
       "       dtype=object),\n",
       " 'topic_7': array(['закон', 'письмо', 'проблема', 'власть', 'предложение', 'право',\n",
       "        'министерство', 'законопроект', 'подчеркнуть', 'орган',\n",
       "        'налоговый', 'случай', 'госдума', 'мера', 'предложить',\n",
       "        'изменение', 'предлагать', 'ситуация', 'поправка',\n",
       "        'предприниматель'], dtype=object),\n",
       " 'topic_8': array(['авиакомпания', 'аэрофлот', 'трансаэро', 'перевозчик', 'пассажир',\n",
       "        'рейс', 'аэропорт', 'полёт', 'перевозка', 'авиаперевозчик',\n",
       "        'росавиация', 'воздушный', 'билет', 'самолёт', 'транспорт',\n",
       "        'авиационный', 'шереметьево', 'ютэйр', 'авиалиния', 'air'],\n",
       "       dtype=object),\n",
       " 'topic_9': array(['банка', 'банк', 'кредит', 'покупка', 'долг', 'владеть',\n",
       "        'владелец', 'приобретение', 'инвестор', 'рао', 'втб', 'переговоры',\n",
       "        'приобрести', 'сбербанк', 'бумага', 'ведомость', 'коммерсант',\n",
       "        'структура', 'капитал', 'group'], dtype=object),\n",
       " 'topic_10': array(['ржд', 'создание', 'программа', 'дорога', 'форум', 'технология',\n",
       "        'регион', 'центр', 'реализация', 'инвестиция', 'железный',\n",
       "        'железнодорожный', 'поддержка', 'экономический', 'планироваться',\n",
       "        'лентыр', 'сотрудничество', 'позволить', 'разработка', 'фонд'],\n",
       "       dtype=object),\n",
       " 'topic_11': array(['нефть', 'месторождение', 'лукойл', 'добыча', 'нефтяной',\n",
       "        'роснефть', 'тонна', 'запас', 'разработка', 'сахалин',\n",
       "        'транснефть', 'лицензия', 'bp', 'нпз', 'участок', 'нефтегазовый',\n",
       "        'shell', 'шельф', 'energy', 'нефтепровод'], dtype=object),\n",
       " 'topic_12': array(['магазин', 'сотрудник', 'фабрика', 'ресторан', 'торговый', 'apple',\n",
       "        'комбинат', 'group', 'мсп', 'товар', 'основать', 'питание',\n",
       "        'ретейлера', 'розничный', 'бцбк', 'штат', 'сокращение', 'iphone',\n",
       "        'работник', 'эльдорадо'], dtype=object),\n",
       " 'topic_13': array(['роснефть', 'башнефть', 'приватизация', 'афк', 'аукцион',\n",
       "        'юганскнефтегаз', 'игорь_сечина', 'нефтяной', 'фонд',\n",
       "        'госкомпания', 'торг', 'платон', 'сечин', 'связьинвест',\n",
       "        'собственность', 'роснефтегаз', 'почта', 'плата', 'трасса',\n",
       "        'бумага'], dtype=object),\n",
       " 'topic_14': array(['поток', 'газопровод', 'кубометр', 'турецкий', 'турция', 'газ',\n",
       "        'газовый', 'северный', 'белоруссия', 'экспорт', 'южный', 'топливо',\n",
       "        'европа', 'переговоры', 'нитка', 'трубопровод', 'мощность',\n",
       "        'реализация', 'море', 'километр'], dtype=object),\n",
       " 'topic_15': array(['рейтинг', 'бренд', 'список', 'знак', 'занять', 'forbes',\n",
       "        'товарный', 'хороший', 'состояние', 'журнал', 'сервис', 'марка',\n",
       "        'исследование', 'конкурс', 'название', 'рекламный', 'лидер',\n",
       "        'реклама', 'строчка', 'богатый'], dtype=object),\n",
       " 'topic_16': array(['пост', 'руководитель', 'гендиректор', 'правление', 'должность',\n",
       "        'бывший', 'генеральный', 'руководство', 'заместитель', 'член',\n",
       "        'топменеджер', 'метр', 'площадь', 'отставка', 'занимать',\n",
       "        'вицепрезидент', 'квадратный', 'сергей', 'назначить', 'ikea'],\n",
       "       dtype=object),\n",
       " 'topic_17': array(['рост', 'выручка', 'показатель', 'вырасти', 'квартал', 'прибыль',\n",
       "        'уровень', 'чистый', 'снижение', 'период', 'сравнение',\n",
       "        'увеличиться', 'объесть', 'убыток', 'спрос', 'снизиться',\n",
       "        'падение', 'увеличение', 'сокращение', 'аналогичный'], dtype=object),\n",
       " 'topic_18': array(['продукт', 'товар', 'россельхознадзор', 'ведомство', 'тонна',\n",
       "        'молочный', 'запрет', 'роспотребнадзор', 'ввоз', 'ввести',\n",
       "        'запретить', 'союз', 'импорт', 'молоко', 'таможенный', 'мясо',\n",
       "        'требование', 'масло', 'проверка', 'изделие'], dtype=object),\n",
       " 'topic_19': array(['украина', 'украинский', 'нафтогаз', 'кубометр', 'европейский',\n",
       "        'европа', 'газ', 'нафтогаза', 'киев', 'транзит', 'топливо', 'ес',\n",
       "        'польша', 'евросоюз', 'еврокомиссия', 'северный', 'литва', 'eon',\n",
       "        'квартал', 'скидка'], dtype=object)}"
      ]
     },
     "execution_count": 40,
     "metadata": {},
     "output_type": "execute_result"
    }
   ],
   "source": [
    "with open(f'''data/top20word/{'-'.join(name_dataset.split('.'))}.pickle''', 'rb') as handle:\n",
    "    out_picle = pickle.load(handle)\n",
    "    \n",
    "out_picle"
   ]
  },
  {
   "cell_type": "code",
   "execution_count": null,
   "metadata": {
    "ExecuteTime": {
     "end_time": "2019-03-24T10:49:44.588851Z",
     "start_time": "2019-03-24T10:49:44.583048Z"
    }
   },
   "outputs": [],
   "source": []
  },
  {
   "cell_type": "markdown",
   "metadata": {},
   "source": [
    "### get topics-docs matrix"
   ]
  },
  {
   "cell_type": "code",
   "execution_count": 24,
   "metadata": {
    "ExecuteTime": {
     "end_time": "2019-03-12T23:28:36.685291Z",
     "start_time": "2019-03-12T23:28:35.713229Z"
    }
   },
   "outputs": [
    {
     "data": {
      "application/vnd.jupyter.widget-view+json": {
       "model_id": "",
       "version_major": 2,
       "version_minor": 0
      },
      "text/plain": [
       "HBox(children=(IntProgress(value=0, description='Batch', max=14, style=ProgressStyle(description_width='initia…"
      ]
     },
     "metadata": {},
     "output_type": "display_data"
    },
    {
     "name": "stdout",
     "output_type": "stream",
     "text": [
      "\r",
      "shape theta: (20, 13374)\n"
     ]
    },
    {
     "data": {
      "image/png": "[encoded data removed]",
      "text/plain": [
       "<Figure size 1440x1440 with 1 Axes>"
      ]
     },
     "metadata": {
      "needs_background": "light"
     },
     "output_type": "display_data"
    }
   ],
   "source": [
    "theta = best_model.transform_sparse(batch_vectorizer=batch_vectorizer, eps=0.001)\n",
    "print(f'shape theta: {theta[0].shape}')\n",
    "\n",
    "plt.figure(figsize=(20, 20))\n",
    "plt.imshow(theta[0][:, 2000:2500].toarray());"
   ]
  },
  {
   "cell_type": "code",
   "execution_count": null,
   "metadata": {},
   "outputs": [],
   "source": []
  },
  {
   "cell_type": "markdown",
   "metadata": {},
   "source": [
    "### dense theta matrix"
   ]
  },
  {
   "cell_type": "code",
   "execution_count": 25,
   "metadata": {
    "ExecuteTime": {
     "end_time": "2019-03-12T23:28:37.393974Z",
     "start_time": "2019-03-12T23:28:36.823239Z"
    }
   },
   "outputs": [
    {
     "data": {
      "application/vnd.jupyter.widget-view+json": {
       "model_id": "",
       "version_major": 2,
       "version_minor": 0
      },
      "text/plain": [
       "HBox(children=(IntProgress(value=0, description='Batch', max=14, style=ProgressStyle(description_width='initia…"
      ]
     },
     "metadata": {},
     "output_type": "display_data"
    },
    {
     "name": "stdout",
     "output_type": "stream",
     "text": [
      "\r"
     ]
    },
    {
     "data": {
      "text/html": [
       "<div>\n",
       "<style scoped>\n",
       "    .dataframe tbody tr th:only-of-type {\n",
       "        vertical-align: middle;\n",
       "    }\n",
       "\n",
       "    .dataframe tbody tr th {\n",
       "        vertical-align: top;\n",
       "    }\n",
       "\n",
       "    .dataframe thead th {\n",
       "        text-align: right;\n",
       "    }\n",
       "</style>\n",
       "<table border=\"1\" class=\"dataframe\">\n",
       "  <thead>\n",
       "    <tr style=\"text-align: right;\">\n",
       "      <th></th>\n",
       "      <th>topic_0</th>\n",
       "      <th>topic_1</th>\n",
       "      <th>topic_2</th>\n",
       "      <th>topic_3</th>\n",
       "      <th>topic_4</th>\n",
       "      <th>topic_5</th>\n",
       "      <th>topic_6</th>\n",
       "      <th>topic_7</th>\n",
       "      <th>topic_8</th>\n",
       "      <th>topic_9</th>\n",
       "      <th>topic_10</th>\n",
       "      <th>topic_11</th>\n",
       "      <th>topic_12</th>\n",
       "      <th>topic_13</th>\n",
       "      <th>topic_14</th>\n",
       "      <th>topic_15</th>\n",
       "      <th>topic_16</th>\n",
       "      <th>topic_17</th>\n",
       "      <th>topic_18</th>\n",
       "      <th>topic_19</th>\n",
       "    </tr>\n",
       "  </thead>\n",
       "  <tbody>\n",
       "    <tr>\n",
       "      <th>0</th>\n",
       "      <td>0.000000</td>\n",
       "      <td>0.000000</td>\n",
       "      <td>0.000000</td>\n",
       "      <td>0.0</td>\n",
       "      <td>0.0</td>\n",
       "      <td>0.000000</td>\n",
       "      <td>0.000000</td>\n",
       "      <td>0.166006</td>\n",
       "      <td>0.0</td>\n",
       "      <td>0.000000</td>\n",
       "      <td>0.000000</td>\n",
       "      <td>0.0</td>\n",
       "      <td>0.000000</td>\n",
       "      <td>0.000000</td>\n",
       "      <td>0.753921</td>\n",
       "      <td>0.001130</td>\n",
       "      <td>0.069199</td>\n",
       "      <td>0.000000</td>\n",
       "      <td>0.000000</td>\n",
       "      <td>0.009745</td>\n",
       "    </tr>\n",
       "    <tr>\n",
       "      <th>1</th>\n",
       "      <td>0.000000</td>\n",
       "      <td>0.000000</td>\n",
       "      <td>0.493023</td>\n",
       "      <td>0.0</td>\n",
       "      <td>0.0</td>\n",
       "      <td>0.000000</td>\n",
       "      <td>0.313387</td>\n",
       "      <td>0.000000</td>\n",
       "      <td>0.0</td>\n",
       "      <td>0.056450</td>\n",
       "      <td>0.000000</td>\n",
       "      <td>0.0</td>\n",
       "      <td>0.125635</td>\n",
       "      <td>0.000000</td>\n",
       "      <td>0.011505</td>\n",
       "      <td>0.000000</td>\n",
       "      <td>0.000000</td>\n",
       "      <td>0.000000</td>\n",
       "      <td>0.000000</td>\n",
       "      <td>0.000000</td>\n",
       "    </tr>\n",
       "    <tr>\n",
       "      <th>2</th>\n",
       "      <td>0.000000</td>\n",
       "      <td>0.000000</td>\n",
       "      <td>0.000000</td>\n",
       "      <td>0.0</td>\n",
       "      <td>0.0</td>\n",
       "      <td>0.759524</td>\n",
       "      <td>0.000000</td>\n",
       "      <td>0.174138</td>\n",
       "      <td>0.0</td>\n",
       "      <td>0.000000</td>\n",
       "      <td>0.048005</td>\n",
       "      <td>0.0</td>\n",
       "      <td>0.000000</td>\n",
       "      <td>0.000000</td>\n",
       "      <td>0.000000</td>\n",
       "      <td>0.000000</td>\n",
       "      <td>0.000000</td>\n",
       "      <td>0.018333</td>\n",
       "      <td>0.000000</td>\n",
       "      <td>0.000000</td>\n",
       "    </tr>\n",
       "    <tr>\n",
       "      <th>3</th>\n",
       "      <td>0.000000</td>\n",
       "      <td>0.082900</td>\n",
       "      <td>0.000000</td>\n",
       "      <td>0.0</td>\n",
       "      <td>0.0</td>\n",
       "      <td>0.000000</td>\n",
       "      <td>0.015257</td>\n",
       "      <td>0.134199</td>\n",
       "      <td>0.0</td>\n",
       "      <td>0.111693</td>\n",
       "      <td>0.000000</td>\n",
       "      <td>0.0</td>\n",
       "      <td>0.234952</td>\n",
       "      <td>0.030957</td>\n",
       "      <td>0.000000</td>\n",
       "      <td>0.268474</td>\n",
       "      <td>0.000000</td>\n",
       "      <td>0.121568</td>\n",
       "      <td>0.000000</td>\n",
       "      <td>0.000000</td>\n",
       "    </tr>\n",
       "    <tr>\n",
       "      <th>4</th>\n",
       "      <td>0.036382</td>\n",
       "      <td>0.106084</td>\n",
       "      <td>0.248310</td>\n",
       "      <td>0.0</td>\n",
       "      <td>0.0</td>\n",
       "      <td>0.000000</td>\n",
       "      <td>0.066100</td>\n",
       "      <td>0.305128</td>\n",
       "      <td>0.0</td>\n",
       "      <td>0.000000</td>\n",
       "      <td>0.000000</td>\n",
       "      <td>0.0</td>\n",
       "      <td>0.015719</td>\n",
       "      <td>0.000000</td>\n",
       "      <td>0.000000</td>\n",
       "      <td>0.192333</td>\n",
       "      <td>0.000000</td>\n",
       "      <td>0.000000</td>\n",
       "      <td>0.029945</td>\n",
       "      <td>0.000000</td>\n",
       "    </tr>\n",
       "  </tbody>\n",
       "</table>\n",
       "</div>"
      ],
      "text/plain": [
       "    topic_0   topic_1   topic_2  topic_3  topic_4   topic_5   topic_6  \\\n",
       "0  0.000000  0.000000  0.000000      0.0      0.0  0.000000  0.000000   \n",
       "1  0.000000  0.000000  0.493023      0.0      0.0  0.000000  0.313387   \n",
       "2  0.000000  0.000000  0.000000      0.0      0.0  0.759524  0.000000   \n",
       "3  0.000000  0.082900  0.000000      0.0      0.0  0.000000  0.015257   \n",
       "4  0.036382  0.106084  0.248310      0.0      0.0  0.000000  0.066100   \n",
       "\n",
       "    topic_7  topic_8   topic_9  topic_10  topic_11  topic_12  topic_13  \\\n",
       "0  0.166006      0.0  0.000000  0.000000       0.0  0.000000  0.000000   \n",
       "1  0.000000      0.0  0.056450  0.000000       0.0  0.125635  0.000000   \n",
       "2  0.174138      0.0  0.000000  0.048005       0.0  0.000000  0.000000   \n",
       "3  0.134199      0.0  0.111693  0.000000       0.0  0.234952  0.030957   \n",
       "4  0.305128      0.0  0.000000  0.000000       0.0  0.015719  0.000000   \n",
       "\n",
       "   topic_14  topic_15  topic_16  topic_17  topic_18  topic_19  \n",
       "0  0.753921  0.001130  0.069199  0.000000  0.000000  0.009745  \n",
       "1  0.011505  0.000000  0.000000  0.000000  0.000000  0.000000  \n",
       "2  0.000000  0.000000  0.000000  0.018333  0.000000  0.000000  \n",
       "3  0.000000  0.268474  0.000000  0.121568  0.000000  0.000000  \n",
       "4  0.000000  0.192333  0.000000  0.000000  0.029945  0.000000  "
      ]
     },
     "execution_count": 25,
     "metadata": {},
     "output_type": "execute_result"
    }
   ],
   "source": [
    "theta = best_model.transform(batch_vectorizer=batch_vectorizer)\n",
    "theta = theta.T\n",
    "theta.head()"
   ]
  },
  {
   "cell_type": "code",
   "execution_count": null,
   "metadata": {},
   "outputs": [],
   "source": []
  },
  {
   "cell_type": "markdown",
   "metadata": {},
   "source": [
    "## DataViz"
   ]
  },
  {
   "cell_type": "code",
   "execution_count": 26,
   "metadata": {
    "ExecuteTime": {
     "end_time": "2019-03-12T23:28:38.471029Z",
     "start_time": "2019-03-12T23:28:38.438743Z"
    }
   },
   "outputs": [
    {
     "data": {
      "text/html": [
       "<div>\n",
       "<style scoped>\n",
       "    .dataframe tbody tr th:only-of-type {\n",
       "        vertical-align: middle;\n",
       "    }\n",
       "\n",
       "    .dataframe tbody tr th {\n",
       "        vertical-align: top;\n",
       "    }\n",
       "\n",
       "    .dataframe thead th {\n",
       "        text-align: right;\n",
       "    }\n",
       "</style>\n",
       "<table border=\"1\" class=\"dataframe\">\n",
       "  <thead>\n",
       "    <tr style=\"text-align: right;\">\n",
       "      <th></th>\n",
       "      <th>docID</th>\n",
       "      <th>year</th>\n",
       "      <th>month</th>\n",
       "      <th>topic_0</th>\n",
       "      <th>topic_1</th>\n",
       "      <th>topic_2</th>\n",
       "      <th>topic_3</th>\n",
       "      <th>topic_4</th>\n",
       "      <th>topic_5</th>\n",
       "      <th>topic_6</th>\n",
       "      <th>...</th>\n",
       "      <th>topic_10</th>\n",
       "      <th>topic_11</th>\n",
       "      <th>topic_12</th>\n",
       "      <th>topic_13</th>\n",
       "      <th>topic_14</th>\n",
       "      <th>topic_15</th>\n",
       "      <th>topic_16</th>\n",
       "      <th>topic_17</th>\n",
       "      <th>topic_18</th>\n",
       "      <th>topic_19</th>\n",
       "    </tr>\n",
       "  </thead>\n",
       "  <tbody>\n",
       "    <tr>\n",
       "      <th>0</th>\n",
       "      <td>0</td>\n",
       "      <td>1999</td>\n",
       "      <td>10</td>\n",
       "      <td>0.000000</td>\n",
       "      <td>0.000000</td>\n",
       "      <td>0.000000</td>\n",
       "      <td>0.0</td>\n",
       "      <td>0.0</td>\n",
       "      <td>0.000000</td>\n",
       "      <td>0.000000</td>\n",
       "      <td>...</td>\n",
       "      <td>0.000000</td>\n",
       "      <td>0.0</td>\n",
       "      <td>0.000000</td>\n",
       "      <td>0.000000</td>\n",
       "      <td>0.753921</td>\n",
       "      <td>0.001130</td>\n",
       "      <td>0.069199</td>\n",
       "      <td>0.000000</td>\n",
       "      <td>0.000000</td>\n",
       "      <td>0.009745</td>\n",
       "    </tr>\n",
       "    <tr>\n",
       "      <th>1</th>\n",
       "      <td>1</td>\n",
       "      <td>1999</td>\n",
       "      <td>10</td>\n",
       "      <td>0.000000</td>\n",
       "      <td>0.000000</td>\n",
       "      <td>0.493023</td>\n",
       "      <td>0.0</td>\n",
       "      <td>0.0</td>\n",
       "      <td>0.000000</td>\n",
       "      <td>0.313387</td>\n",
       "      <td>...</td>\n",
       "      <td>0.000000</td>\n",
       "      <td>0.0</td>\n",
       "      <td>0.125635</td>\n",
       "      <td>0.000000</td>\n",
       "      <td>0.011505</td>\n",
       "      <td>0.000000</td>\n",
       "      <td>0.000000</td>\n",
       "      <td>0.000000</td>\n",
       "      <td>0.000000</td>\n",
       "      <td>0.000000</td>\n",
       "    </tr>\n",
       "    <tr>\n",
       "      <th>2</th>\n",
       "      <td>2</td>\n",
       "      <td>1999</td>\n",
       "      <td>10</td>\n",
       "      <td>0.000000</td>\n",
       "      <td>0.000000</td>\n",
       "      <td>0.000000</td>\n",
       "      <td>0.0</td>\n",
       "      <td>0.0</td>\n",
       "      <td>0.759524</td>\n",
       "      <td>0.000000</td>\n",
       "      <td>...</td>\n",
       "      <td>0.048005</td>\n",
       "      <td>0.0</td>\n",
       "      <td>0.000000</td>\n",
       "      <td>0.000000</td>\n",
       "      <td>0.000000</td>\n",
       "      <td>0.000000</td>\n",
       "      <td>0.000000</td>\n",
       "      <td>0.018333</td>\n",
       "      <td>0.000000</td>\n",
       "      <td>0.000000</td>\n",
       "    </tr>\n",
       "    <tr>\n",
       "      <th>3</th>\n",
       "      <td>3</td>\n",
       "      <td>1999</td>\n",
       "      <td>10</td>\n",
       "      <td>0.000000</td>\n",
       "      <td>0.082900</td>\n",
       "      <td>0.000000</td>\n",
       "      <td>0.0</td>\n",
       "      <td>0.0</td>\n",
       "      <td>0.000000</td>\n",
       "      <td>0.015257</td>\n",
       "      <td>...</td>\n",
       "      <td>0.000000</td>\n",
       "      <td>0.0</td>\n",
       "      <td>0.234952</td>\n",
       "      <td>0.030957</td>\n",
       "      <td>0.000000</td>\n",
       "      <td>0.268474</td>\n",
       "      <td>0.000000</td>\n",
       "      <td>0.121568</td>\n",
       "      <td>0.000000</td>\n",
       "      <td>0.000000</td>\n",
       "    </tr>\n",
       "    <tr>\n",
       "      <th>4</th>\n",
       "      <td>4</td>\n",
       "      <td>1999</td>\n",
       "      <td>10</td>\n",
       "      <td>0.036382</td>\n",
       "      <td>0.106084</td>\n",
       "      <td>0.248310</td>\n",
       "      <td>0.0</td>\n",
       "      <td>0.0</td>\n",
       "      <td>0.000000</td>\n",
       "      <td>0.066100</td>\n",
       "      <td>...</td>\n",
       "      <td>0.000000</td>\n",
       "      <td>0.0</td>\n",
       "      <td>0.015719</td>\n",
       "      <td>0.000000</td>\n",
       "      <td>0.000000</td>\n",
       "      <td>0.192333</td>\n",
       "      <td>0.000000</td>\n",
       "      <td>0.000000</td>\n",
       "      <td>0.029945</td>\n",
       "      <td>0.000000</td>\n",
       "    </tr>\n",
       "  </tbody>\n",
       "</table>\n",
       "<p>5 rows × 23 columns</p>\n",
       "</div>"
      ],
      "text/plain": [
       "   docID  year  month   topic_0   topic_1   topic_2  topic_3  topic_4  \\\n",
       "0      0  1999     10  0.000000  0.000000  0.000000      0.0      0.0   \n",
       "1      1  1999     10  0.000000  0.000000  0.493023      0.0      0.0   \n",
       "2      2  1999     10  0.000000  0.000000  0.000000      0.0      0.0   \n",
       "3      3  1999     10  0.000000  0.082900  0.000000      0.0      0.0   \n",
       "4      4  1999     10  0.036382  0.106084  0.248310      0.0      0.0   \n",
       "\n",
       "    topic_5   topic_6    ...     topic_10  topic_11  topic_12  topic_13  \\\n",
       "0  0.000000  0.000000    ...     0.000000       0.0  0.000000  0.000000   \n",
       "1  0.000000  0.313387    ...     0.000000       0.0  0.125635  0.000000   \n",
       "2  0.759524  0.000000    ...     0.048005       0.0  0.000000  0.000000   \n",
       "3  0.000000  0.015257    ...     0.000000       0.0  0.234952  0.030957   \n",
       "4  0.000000  0.066100    ...     0.000000       0.0  0.015719  0.000000   \n",
       "\n",
       "   topic_14  topic_15  topic_16  topic_17  topic_18  topic_19  \n",
       "0  0.753921  0.001130  0.069199  0.000000  0.000000  0.009745  \n",
       "1  0.011505  0.000000  0.000000  0.000000  0.000000  0.000000  \n",
       "2  0.000000  0.000000  0.000000  0.018333  0.000000  0.000000  \n",
       "3  0.000000  0.268474  0.000000  0.121568  0.000000  0.000000  \n",
       "4  0.000000  0.192333  0.000000  0.000000  0.029945  0.000000  \n",
       "\n",
       "[5 rows x 23 columns]"
      ]
     },
     "execution_count": 26,
     "metadata": {},
     "output_type": "execute_result"
    }
   ],
   "source": [
    "joined = id_date.join(theta)\n",
    "joined.head()"
   ]
  },
  {
   "cell_type": "code",
   "execution_count": 27,
   "metadata": {
    "ExecuteTime": {
     "end_time": "2019-03-12T23:28:39.227135Z",
     "start_time": "2019-03-12T23:28:39.176663Z"
    }
   },
   "outputs": [
    {
     "name": "stdout",
     "output_type": "stream",
     "text": [
      "gb.shape: (227, 20)\n"
     ]
    },
    {
     "data": {
      "text/html": [
       "<div>\n",
       "<style scoped>\n",
       "    .dataframe tbody tr th:only-of-type {\n",
       "        vertical-align: middle;\n",
       "    }\n",
       "\n",
       "    .dataframe tbody tr th {\n",
       "        vertical-align: top;\n",
       "    }\n",
       "\n",
       "    .dataframe thead th {\n",
       "        text-align: right;\n",
       "    }\n",
       "</style>\n",
       "<table border=\"1\" class=\"dataframe\">\n",
       "  <thead>\n",
       "    <tr style=\"text-align: right;\">\n",
       "      <th></th>\n",
       "      <th></th>\n",
       "      <th>topic_0</th>\n",
       "      <th>topic_1</th>\n",
       "      <th>topic_2</th>\n",
       "      <th>topic_3</th>\n",
       "      <th>topic_4</th>\n",
       "      <th>topic_5</th>\n",
       "      <th>topic_6</th>\n",
       "      <th>topic_7</th>\n",
       "      <th>topic_8</th>\n",
       "      <th>topic_9</th>\n",
       "      <th>topic_10</th>\n",
       "      <th>topic_11</th>\n",
       "      <th>topic_12</th>\n",
       "      <th>topic_13</th>\n",
       "      <th>topic_14</th>\n",
       "      <th>topic_15</th>\n",
       "      <th>topic_16</th>\n",
       "      <th>topic_17</th>\n",
       "      <th>topic_18</th>\n",
       "      <th>topic_19</th>\n",
       "    </tr>\n",
       "    <tr>\n",
       "      <th>year</th>\n",
       "      <th>month</th>\n",
       "      <th></th>\n",
       "      <th></th>\n",
       "      <th></th>\n",
       "      <th></th>\n",
       "      <th></th>\n",
       "      <th></th>\n",
       "      <th></th>\n",
       "      <th></th>\n",
       "      <th></th>\n",
       "      <th></th>\n",
       "      <th></th>\n",
       "      <th></th>\n",
       "      <th></th>\n",
       "      <th></th>\n",
       "      <th></th>\n",
       "      <th></th>\n",
       "      <th></th>\n",
       "      <th></th>\n",
       "      <th></th>\n",
       "      <th></th>\n",
       "    </tr>\n",
       "  </thead>\n",
       "  <tbody>\n",
       "    <tr>\n",
       "      <th rowspan=\"4\" valign=\"top\">1999</th>\n",
       "      <th>9</th>\n",
       "      <td>0.000000</td>\n",
       "      <td>1.156982</td>\n",
       "      <td>0.030777</td>\n",
       "      <td>0.119241</td>\n",
       "      <td>0.076993</td>\n",
       "      <td>0.000000</td>\n",
       "      <td>0.425138</td>\n",
       "      <td>1.702585</td>\n",
       "      <td>0.000000</td>\n",
       "      <td>0.292515</td>\n",
       "      <td>0.132423</td>\n",
       "      <td>0.562098</td>\n",
       "      <td>0.393825</td>\n",
       "      <td>0.489920</td>\n",
       "      <td>0.901131</td>\n",
       "      <td>0.077773</td>\n",
       "      <td>1.385004</td>\n",
       "      <td>0.108841</td>\n",
       "      <td>0.000000</td>\n",
       "      <td>0.144756</td>\n",
       "    </tr>\n",
       "    <tr>\n",
       "      <th>10</th>\n",
       "      <td>0.119676</td>\n",
       "      <td>1.141301</td>\n",
       "      <td>0.741333</td>\n",
       "      <td>0.069667</td>\n",
       "      <td>0.000000</td>\n",
       "      <td>0.865733</td>\n",
       "      <td>0.780073</td>\n",
       "      <td>1.474221</td>\n",
       "      <td>0.574545</td>\n",
       "      <td>0.541905</td>\n",
       "      <td>0.504962</td>\n",
       "      <td>0.532335</td>\n",
       "      <td>0.697036</td>\n",
       "      <td>0.908134</td>\n",
       "      <td>1.547093</td>\n",
       "      <td>0.573206</td>\n",
       "      <td>0.596371</td>\n",
       "      <td>0.754506</td>\n",
       "      <td>0.415037</td>\n",
       "      <td>0.162868</td>\n",
       "    </tr>\n",
       "    <tr>\n",
       "      <th>11</th>\n",
       "      <td>0.428161</td>\n",
       "      <td>0.759549</td>\n",
       "      <td>0.148182</td>\n",
       "      <td>0.161305</td>\n",
       "      <td>0.521377</td>\n",
       "      <td>0.561600</td>\n",
       "      <td>0.382068</td>\n",
       "      <td>1.943658</td>\n",
       "      <td>0.430532</td>\n",
       "      <td>1.902868</td>\n",
       "      <td>0.543170</td>\n",
       "      <td>2.631712</td>\n",
       "      <td>0.208987</td>\n",
       "      <td>0.460200</td>\n",
       "      <td>1.817208</td>\n",
       "      <td>0.053903</td>\n",
       "      <td>0.101591</td>\n",
       "      <td>0.471997</td>\n",
       "      <td>0.136542</td>\n",
       "      <td>0.335389</td>\n",
       "    </tr>\n",
       "    <tr>\n",
       "      <th>12</th>\n",
       "      <td>0.361779</td>\n",
       "      <td>2.450089</td>\n",
       "      <td>0.008109</td>\n",
       "      <td>2.084952</td>\n",
       "      <td>0.386860</td>\n",
       "      <td>0.000000</td>\n",
       "      <td>0.828864</td>\n",
       "      <td>3.720503</td>\n",
       "      <td>0.063673</td>\n",
       "      <td>2.202159</td>\n",
       "      <td>2.037286</td>\n",
       "      <td>1.377321</td>\n",
       "      <td>0.400719</td>\n",
       "      <td>0.273817</td>\n",
       "      <td>0.125115</td>\n",
       "      <td>0.065020</td>\n",
       "      <td>0.587715</td>\n",
       "      <td>0.762560</td>\n",
       "      <td>0.325202</td>\n",
       "      <td>0.938258</td>\n",
       "    </tr>\n",
       "    <tr>\n",
       "      <th>2000</th>\n",
       "      <th>1</th>\n",
       "      <td>0.000000</td>\n",
       "      <td>0.000000</td>\n",
       "      <td>0.661822</td>\n",
       "      <td>0.000000</td>\n",
       "      <td>0.098692</td>\n",
       "      <td>0.000000</td>\n",
       "      <td>0.100905</td>\n",
       "      <td>0.962106</td>\n",
       "      <td>0.000000</td>\n",
       "      <td>0.742085</td>\n",
       "      <td>0.168453</td>\n",
       "      <td>0.107360</td>\n",
       "      <td>0.008668</td>\n",
       "      <td>0.022994</td>\n",
       "      <td>0.000000</td>\n",
       "      <td>0.196540</td>\n",
       "      <td>0.364180</td>\n",
       "      <td>0.378711</td>\n",
       "      <td>0.131953</td>\n",
       "      <td>0.055530</td>\n",
       "    </tr>\n",
       "  </tbody>\n",
       "</table>\n",
       "</div>"
      ],
      "text/plain": [
       "             topic_0   topic_1   topic_2   topic_3   topic_4   topic_5  \\\n",
       "year month                                                               \n",
       "1999 9      0.000000  1.156982  0.030777  0.119241  0.076993  0.000000   \n",
       "     10     0.119676  1.141301  0.741333  0.069667  0.000000  0.865733   \n",
       "     11     0.428161  0.759549  0.148182  0.161305  0.521377  0.561600   \n",
       "     12     0.361779  2.450089  0.008109  2.084952  0.386860  0.000000   \n",
       "2000 1      0.000000  0.000000  0.661822  0.000000  0.098692  0.000000   \n",
       "\n",
       "             topic_6   topic_7   topic_8   topic_9  topic_10  topic_11  \\\n",
       "year month                                                               \n",
       "1999 9      0.425138  1.702585  0.000000  0.292515  0.132423  0.562098   \n",
       "     10     0.780073  1.474221  0.574545  0.541905  0.504962  0.532335   \n",
       "     11     0.382068  1.943658  0.430532  1.902868  0.543170  2.631712   \n",
       "     12     0.828864  3.720503  0.063673  2.202159  2.037286  1.377321   \n",
       "2000 1      0.100905  0.962106  0.000000  0.742085  0.168453  0.107360   \n",
       "\n",
       "            topic_12  topic_13  topic_14  topic_15  topic_16  topic_17  \\\n",
       "year month                                                               \n",
       "1999 9      0.393825  0.489920  0.901131  0.077773  1.385004  0.108841   \n",
       "     10     0.697036  0.908134  1.547093  0.573206  0.596371  0.754506   \n",
       "     11     0.208987  0.460200  1.817208  0.053903  0.101591  0.471997   \n",
       "     12     0.400719  0.273817  0.125115  0.065020  0.587715  0.762560   \n",
       "2000 1      0.008668  0.022994  0.000000  0.196540  0.364180  0.378711   \n",
       "\n",
       "            topic_18  topic_19  \n",
       "year month                      \n",
       "1999 9      0.000000  0.144756  \n",
       "     10     0.415037  0.162868  \n",
       "     11     0.136542  0.335389  \n",
       "     12     0.325202  0.938258  \n",
       "2000 1      0.131953  0.055530  "
      ]
     },
     "execution_count": 27,
     "metadata": {},
     "output_type": "execute_result"
    }
   ],
   "source": [
    "topics = ['topic_{}'.format(i) for i in range(select_topics)]\n",
    "gb = joined.groupby(['year', 'month'])[topics].sum()\n",
    "print(f'gb.shape: {gb.shape}')\n",
    "gb.head()"
   ]
  },
  {
   "cell_type": "markdown",
   "metadata": {},
   "source": [
    "### straightforward matrix heatmap"
   ]
  },
  {
   "cell_type": "code",
   "execution_count": 28,
   "metadata": {
    "ExecuteTime": {
     "end_time": "2019-03-12T23:28:42.956015Z",
     "start_time": "2019-03-12T23:28:42.438621Z"
    },
    "scrolled": true
   },
   "outputs": [
    {
     "data": {
      "text/plain": [
       "<matplotlib.image.AxesImage at 0x7f8946b2e860>"
      ]
     },
     "execution_count": 28,
     "metadata": {},
     "output_type": "execute_result"
    },
    {
     "data": {
      "image/png": "[encoded data removed]",
      "text/plain": [
       "<Figure size 720x2880 with 1 Axes>"
      ]
     },
     "metadata": {
      "needs_background": "light"
     },
     "output_type": "display_data"
    }
   ],
   "source": [
    "plt.figure(figsize=(10, 40))\n",
    "plt.imshow(gb[topics])"
   ]
  },
  {
   "cell_type": "code",
   "execution_count": null,
   "metadata": {},
   "outputs": [],
   "source": []
  },
  {
   "cell_type": "markdown",
   "metadata": {},
   "source": [
    "## pygal"
   ]
  },
  {
   "cell_type": "code",
   "execution_count": 40,
   "metadata": {
    "ExecuteTime": {
     "end_time": "2019-02-03T22:58:34.560830Z",
     "start_time": "2019-02-03T22:58:34.526734Z"
    }
   },
   "outputs": [],
   "source": [
    "import pygal\n",
    "from IPython.display import SVG, HTML"
   ]
  },
  {
   "cell_type": "code",
   "execution_count": 41,
   "metadata": {
    "ExecuteTime": {
     "end_time": "2019-02-03T22:58:35.000261Z",
     "start_time": "2019-02-03T22:58:34.996868Z"
    }
   },
   "outputs": [],
   "source": [
    "html_pygal = \"\"\"\n",
    "<!DOCTYPE html>\n",
    "<html>\n",
    "  <head>\n",
    "  <script type=\"text/javascript\" src=\"http://kozea.github.com/pygal.js/javascripts/svg.jquery.js\"></script>\n",
    "  <script type=\"text/javascript\" src=\"http://kozea.github.com/pygal.js/javascripts/pygal-tooltips.js\"></script>\n",
    "    <!-- ... -->\n",
    "  </head>\n",
    "  <body>\n",
    "    <figure>\n",
    "      {pygal_render}\n",
    "    </figure>\n",
    "  </body>\n",
    "</html>\n",
    "\"\"\""
   ]
  },
  {
   "cell_type": "code",
   "execution_count": null,
   "metadata": {
    "ExecuteTime": {
     "end_time": "2019-02-03T22:58:35.783691Z",
     "start_time": "2019-02-03T22:58:35.645898Z"
    },
    "scrolled": false
   },
   "outputs": [],
   "source": [
    "line_chart = pygal.StackedLine(fill=True, show_dots=False)\n",
    "line_chart.title = 'Topics'\n",
    "for topic in topics:\n",
    "    line_chart.add(topic, gb[topic].values)\n",
    "    \n",
    "HTML(html_pygal.format(pygal_render=line_chart.render(is_unicode=True)))"
   ]
  },
  {
   "cell_type": "code",
   "execution_count": 44,
   "metadata": {
    "ExecuteTime": {
     "end_time": "2019-02-03T22:58:41.498396Z",
     "start_time": "2019-02-03T22:58:41.376840Z"
    }
   },
   "outputs": [],
   "source": [
    "line_chart.render_to_file(f\"data/visualization/{'-'.join(name_dataset.split('.'))}_pygal.svg\")"
   ]
  },
  {
   "cell_type": "markdown",
   "metadata": {},
   "source": [
    "## joypy"
   ]
  },
  {
   "cell_type": "code",
   "execution_count": 45,
   "metadata": {
    "ExecuteTime": {
     "end_time": "2019-02-03T22:58:41.776497Z",
     "start_time": "2019-02-03T22:58:41.772844Z"
    }
   },
   "outputs": [],
   "source": [
    "import joypy # !pip install joypy"
   ]
  },
  {
   "cell_type": "code",
   "execution_count": 29,
   "metadata": {
    "ExecuteTime": {
     "end_time": "2019-03-12T23:28:46.605882Z",
     "start_time": "2019-03-12T23:28:46.581908Z"
    },
    "scrolled": true
   },
   "outputs": [
    {
     "name": "stdout",
     "output_type": "stream",
     "text": [
      "(13374, 23)\n"
     ]
    },
    {
     "data": {
      "text/html": [
       "<div>\n",
       "<style scoped>\n",
       "    .dataframe tbody tr th:only-of-type {\n",
       "        vertical-align: middle;\n",
       "    }\n",
       "\n",
       "    .dataframe tbody tr th {\n",
       "        vertical-align: top;\n",
       "    }\n",
       "\n",
       "    .dataframe thead th {\n",
       "        text-align: right;\n",
       "    }\n",
       "</style>\n",
       "<table border=\"1\" class=\"dataframe\">\n",
       "  <thead>\n",
       "    <tr style=\"text-align: right;\">\n",
       "      <th></th>\n",
       "      <th>docID</th>\n",
       "      <th>year</th>\n",
       "      <th>month</th>\n",
       "      <th>topic_0</th>\n",
       "      <th>topic_1</th>\n",
       "      <th>topic_2</th>\n",
       "      <th>topic_3</th>\n",
       "      <th>topic_4</th>\n",
       "      <th>topic_5</th>\n",
       "      <th>topic_6</th>\n",
       "      <th>...</th>\n",
       "      <th>topic_10</th>\n",
       "      <th>topic_11</th>\n",
       "      <th>topic_12</th>\n",
       "      <th>topic_13</th>\n",
       "      <th>topic_14</th>\n",
       "      <th>topic_15</th>\n",
       "      <th>topic_16</th>\n",
       "      <th>topic_17</th>\n",
       "      <th>topic_18</th>\n",
       "      <th>topic_19</th>\n",
       "    </tr>\n",
       "  </thead>\n",
       "  <tbody>\n",
       "    <tr>\n",
       "      <th>0</th>\n",
       "      <td>0</td>\n",
       "      <td>1999</td>\n",
       "      <td>10</td>\n",
       "      <td>0.000000</td>\n",
       "      <td>0.000000</td>\n",
       "      <td>0.000000</td>\n",
       "      <td>0.0</td>\n",
       "      <td>0.0</td>\n",
       "      <td>0.000000</td>\n",
       "      <td>0.000000</td>\n",
       "      <td>...</td>\n",
       "      <td>0.000000</td>\n",
       "      <td>0.0</td>\n",
       "      <td>0.000000</td>\n",
       "      <td>0.000000</td>\n",
       "      <td>0.753921</td>\n",
       "      <td>0.001130</td>\n",
       "      <td>0.069199</td>\n",
       "      <td>0.000000</td>\n",
       "      <td>0.000000</td>\n",
       "      <td>0.009745</td>\n",
       "    </tr>\n",
       "    <tr>\n",
       "      <th>1</th>\n",
       "      <td>1</td>\n",
       "      <td>1999</td>\n",
       "      <td>10</td>\n",
       "      <td>0.000000</td>\n",
       "      <td>0.000000</td>\n",
       "      <td>0.493023</td>\n",
       "      <td>0.0</td>\n",
       "      <td>0.0</td>\n",
       "      <td>0.000000</td>\n",
       "      <td>0.313387</td>\n",
       "      <td>...</td>\n",
       "      <td>0.000000</td>\n",
       "      <td>0.0</td>\n",
       "      <td>0.125635</td>\n",
       "      <td>0.000000</td>\n",
       "      <td>0.011505</td>\n",
       "      <td>0.000000</td>\n",
       "      <td>0.000000</td>\n",
       "      <td>0.000000</td>\n",
       "      <td>0.000000</td>\n",
       "      <td>0.000000</td>\n",
       "    </tr>\n",
       "    <tr>\n",
       "      <th>2</th>\n",
       "      <td>2</td>\n",
       "      <td>1999</td>\n",
       "      <td>10</td>\n",
       "      <td>0.000000</td>\n",
       "      <td>0.000000</td>\n",
       "      <td>0.000000</td>\n",
       "      <td>0.0</td>\n",
       "      <td>0.0</td>\n",
       "      <td>0.759524</td>\n",
       "      <td>0.000000</td>\n",
       "      <td>...</td>\n",
       "      <td>0.048005</td>\n",
       "      <td>0.0</td>\n",
       "      <td>0.000000</td>\n",
       "      <td>0.000000</td>\n",
       "      <td>0.000000</td>\n",
       "      <td>0.000000</td>\n",
       "      <td>0.000000</td>\n",
       "      <td>0.018333</td>\n",
       "      <td>0.000000</td>\n",
       "      <td>0.000000</td>\n",
       "    </tr>\n",
       "    <tr>\n",
       "      <th>3</th>\n",
       "      <td>3</td>\n",
       "      <td>1999</td>\n",
       "      <td>10</td>\n",
       "      <td>0.000000</td>\n",
       "      <td>0.082900</td>\n",
       "      <td>0.000000</td>\n",
       "      <td>0.0</td>\n",
       "      <td>0.0</td>\n",
       "      <td>0.000000</td>\n",
       "      <td>0.015257</td>\n",
       "      <td>...</td>\n",
       "      <td>0.000000</td>\n",
       "      <td>0.0</td>\n",
       "      <td>0.234952</td>\n",
       "      <td>0.030957</td>\n",
       "      <td>0.000000</td>\n",
       "      <td>0.268474</td>\n",
       "      <td>0.000000</td>\n",
       "      <td>0.121568</td>\n",
       "      <td>0.000000</td>\n",
       "      <td>0.000000</td>\n",
       "    </tr>\n",
       "    <tr>\n",
       "      <th>4</th>\n",
       "      <td>4</td>\n",
       "      <td>1999</td>\n",
       "      <td>10</td>\n",
       "      <td>0.036382</td>\n",
       "      <td>0.106084</td>\n",
       "      <td>0.248310</td>\n",
       "      <td>0.0</td>\n",
       "      <td>0.0</td>\n",
       "      <td>0.000000</td>\n",
       "      <td>0.066100</td>\n",
       "      <td>...</td>\n",
       "      <td>0.000000</td>\n",
       "      <td>0.0</td>\n",
       "      <td>0.015719</td>\n",
       "      <td>0.000000</td>\n",
       "      <td>0.000000</td>\n",
       "      <td>0.192333</td>\n",
       "      <td>0.000000</td>\n",
       "      <td>0.000000</td>\n",
       "      <td>0.029945</td>\n",
       "      <td>0.000000</td>\n",
       "    </tr>\n",
       "  </tbody>\n",
       "</table>\n",
       "<p>5 rows × 23 columns</p>\n",
       "</div>"
      ],
      "text/plain": [
       "   docID  year  month   topic_0   topic_1   topic_2  topic_3  topic_4  \\\n",
       "0      0  1999     10  0.000000  0.000000  0.000000      0.0      0.0   \n",
       "1      1  1999     10  0.000000  0.000000  0.493023      0.0      0.0   \n",
       "2      2  1999     10  0.000000  0.000000  0.000000      0.0      0.0   \n",
       "3      3  1999     10  0.000000  0.082900  0.000000      0.0      0.0   \n",
       "4      4  1999     10  0.036382  0.106084  0.248310      0.0      0.0   \n",
       "\n",
       "    topic_5   topic_6    ...     topic_10  topic_11  topic_12  topic_13  \\\n",
       "0  0.000000  0.000000    ...     0.000000       0.0  0.000000  0.000000   \n",
       "1  0.000000  0.313387    ...     0.000000       0.0  0.125635  0.000000   \n",
       "2  0.759524  0.000000    ...     0.048005       0.0  0.000000  0.000000   \n",
       "3  0.000000  0.015257    ...     0.000000       0.0  0.234952  0.030957   \n",
       "4  0.000000  0.066100    ...     0.000000       0.0  0.015719  0.000000   \n",
       "\n",
       "   topic_14  topic_15  topic_16  topic_17  topic_18  topic_19  \n",
       "0  0.753921  0.001130  0.069199  0.000000  0.000000  0.009745  \n",
       "1  0.011505  0.000000  0.000000  0.000000  0.000000  0.000000  \n",
       "2  0.000000  0.000000  0.000000  0.018333  0.000000  0.000000  \n",
       "3  0.000000  0.268474  0.000000  0.121568  0.000000  0.000000  \n",
       "4  0.000000  0.192333  0.000000  0.000000  0.029945  0.000000  \n",
       "\n",
       "[5 rows x 23 columns]"
      ]
     },
     "execution_count": 29,
     "metadata": {},
     "output_type": "execute_result"
    }
   ],
   "source": [
    "print(joined.shape)\n",
    "joined.head()"
   ]
  },
  {
   "cell_type": "code",
   "execution_count": 30,
   "metadata": {
    "ExecuteTime": {
     "end_time": "2019-03-12T23:28:50.303101Z",
     "start_time": "2019-03-12T23:28:50.008133Z"
    }
   },
   "outputs": [],
   "source": [
    "joined.to_csv(f'''./data/topicsProbability/{'-'.join(name_dataset.split('.'))}.csv''',index=False)"
   ]
  },
  {
   "cell_type": "code",
   "execution_count": 47,
   "metadata": {
    "ExecuteTime": {
     "end_time": "2019-02-03T22:58:42.812650Z",
     "start_time": "2019-02-03T22:58:42.414492Z"
    }
   },
   "outputs": [
    {
     "data": {
      "text/html": [
       "<div>\n",
       "<style scoped>\n",
       "    .dataframe tbody tr th:only-of-type {\n",
       "        vertical-align: middle;\n",
       "    }\n",
       "\n",
       "    .dataframe tbody tr th {\n",
       "        vertical-align: top;\n",
       "    }\n",
       "\n",
       "    .dataframe thead th {\n",
       "        text-align: right;\n",
       "    }\n",
       "</style>\n",
       "<table border=\"1\" class=\"dataframe\">\n",
       "  <thead>\n",
       "    <tr style=\"text-align: right;\">\n",
       "      <th></th>\n",
       "      <th>index</th>\n",
       "      <th>docID</th>\n",
       "      <th>year</th>\n",
       "      <th>month</th>\n",
       "      <th>topic_0</th>\n",
       "      <th>topic_1</th>\n",
       "      <th>topic_2</th>\n",
       "      <th>topic_3</th>\n",
       "      <th>topic_4</th>\n",
       "      <th>topic_5</th>\n",
       "      <th>...</th>\n",
       "      <th>topic_11</th>\n",
       "      <th>topic_12</th>\n",
       "      <th>topic_13</th>\n",
       "      <th>topic_14</th>\n",
       "      <th>topic_15</th>\n",
       "      <th>topic_16</th>\n",
       "      <th>topic_17</th>\n",
       "      <th>topic_18</th>\n",
       "      <th>topic_19</th>\n",
       "      <th>year_month</th>\n",
       "    </tr>\n",
       "  </thead>\n",
       "  <tbody>\n",
       "    <tr>\n",
       "      <th>0</th>\n",
       "      <td>0</td>\n",
       "      <td>0</td>\n",
       "      <td>1999</td>\n",
       "      <td>10</td>\n",
       "      <td>0.000000</td>\n",
       "      <td>0.000000</td>\n",
       "      <td>0.000000</td>\n",
       "      <td>0.000000</td>\n",
       "      <td>0.0</td>\n",
       "      <td>0.000000</td>\n",
       "      <td>...</td>\n",
       "      <td>0.0</td>\n",
       "      <td>0.000000</td>\n",
       "      <td>0.000000</td>\n",
       "      <td>0.732384</td>\n",
       "      <td>0.032341</td>\n",
       "      <td>0.038963</td>\n",
       "      <td>0.006544</td>\n",
       "      <td>0.000000</td>\n",
       "      <td>0.010801</td>\n",
       "      <td>1999-10-01</td>\n",
       "    </tr>\n",
       "    <tr>\n",
       "      <th>1</th>\n",
       "      <td>1</td>\n",
       "      <td>1</td>\n",
       "      <td>1999</td>\n",
       "      <td>10</td>\n",
       "      <td>0.000000</td>\n",
       "      <td>0.000000</td>\n",
       "      <td>0.520941</td>\n",
       "      <td>0.000000</td>\n",
       "      <td>0.0</td>\n",
       "      <td>0.055171</td>\n",
       "      <td>...</td>\n",
       "      <td>0.0</td>\n",
       "      <td>0.194949</td>\n",
       "      <td>0.000000</td>\n",
       "      <td>0.024388</td>\n",
       "      <td>0.000000</td>\n",
       "      <td>0.000000</td>\n",
       "      <td>0.000000</td>\n",
       "      <td>0.000000</td>\n",
       "      <td>0.000000</td>\n",
       "      <td>1999-10-01</td>\n",
       "    </tr>\n",
       "    <tr>\n",
       "      <th>2</th>\n",
       "      <td>2</td>\n",
       "      <td>2</td>\n",
       "      <td>1999</td>\n",
       "      <td>10</td>\n",
       "      <td>0.000000</td>\n",
       "      <td>0.000000</td>\n",
       "      <td>0.000000</td>\n",
       "      <td>0.000000</td>\n",
       "      <td>0.0</td>\n",
       "      <td>0.779128</td>\n",
       "      <td>...</td>\n",
       "      <td>0.0</td>\n",
       "      <td>0.000000</td>\n",
       "      <td>0.000000</td>\n",
       "      <td>0.000000</td>\n",
       "      <td>0.000000</td>\n",
       "      <td>0.000000</td>\n",
       "      <td>0.025760</td>\n",
       "      <td>0.000000</td>\n",
       "      <td>0.000000</td>\n",
       "      <td>1999-10-01</td>\n",
       "    </tr>\n",
       "    <tr>\n",
       "      <th>3</th>\n",
       "      <td>3</td>\n",
       "      <td>3</td>\n",
       "      <td>1999</td>\n",
       "      <td>10</td>\n",
       "      <td>0.000000</td>\n",
       "      <td>0.095988</td>\n",
       "      <td>0.000000</td>\n",
       "      <td>0.040459</td>\n",
       "      <td>0.0</td>\n",
       "      <td>0.000000</td>\n",
       "      <td>...</td>\n",
       "      <td>0.0</td>\n",
       "      <td>0.293537</td>\n",
       "      <td>0.061034</td>\n",
       "      <td>0.000000</td>\n",
       "      <td>0.255669</td>\n",
       "      <td>0.000000</td>\n",
       "      <td>0.126978</td>\n",
       "      <td>0.000000</td>\n",
       "      <td>0.000000</td>\n",
       "      <td>1999-10-01</td>\n",
       "    </tr>\n",
       "    <tr>\n",
       "      <th>4</th>\n",
       "      <td>4</td>\n",
       "      <td>4</td>\n",
       "      <td>1999</td>\n",
       "      <td>10</td>\n",
       "      <td>0.047216</td>\n",
       "      <td>0.098633</td>\n",
       "      <td>0.226716</td>\n",
       "      <td>0.000000</td>\n",
       "      <td>0.0</td>\n",
       "      <td>0.000000</td>\n",
       "      <td>...</td>\n",
       "      <td>0.0</td>\n",
       "      <td>0.028579</td>\n",
       "      <td>0.000000</td>\n",
       "      <td>0.000000</td>\n",
       "      <td>0.173412</td>\n",
       "      <td>0.000000</td>\n",
       "      <td>0.000000</td>\n",
       "      <td>0.040584</td>\n",
       "      <td>0.000000</td>\n",
       "      <td>1999-10-01</td>\n",
       "    </tr>\n",
       "  </tbody>\n",
       "</table>\n",
       "<p>5 rows × 25 columns</p>\n",
       "</div>"
      ],
      "text/plain": [
       "   index  docID  year  month   topic_0   topic_1   topic_2   topic_3  topic_4  \\\n",
       "0      0      0  1999     10  0.000000  0.000000  0.000000  0.000000      0.0   \n",
       "1      1      1  1999     10  0.000000  0.000000  0.520941  0.000000      0.0   \n",
       "2      2      2  1999     10  0.000000  0.000000  0.000000  0.000000      0.0   \n",
       "3      3      3  1999     10  0.000000  0.095988  0.000000  0.040459      0.0   \n",
       "4      4      4  1999     10  0.047216  0.098633  0.226716  0.000000      0.0   \n",
       "\n",
       "    topic_5     ...      topic_11  topic_12  topic_13  topic_14  topic_15  \\\n",
       "0  0.000000     ...           0.0  0.000000  0.000000  0.732384  0.032341   \n",
       "1  0.055171     ...           0.0  0.194949  0.000000  0.024388  0.000000   \n",
       "2  0.779128     ...           0.0  0.000000  0.000000  0.000000  0.000000   \n",
       "3  0.000000     ...           0.0  0.293537  0.061034  0.000000  0.255669   \n",
       "4  0.000000     ...           0.0  0.028579  0.000000  0.000000  0.173412   \n",
       "\n",
       "   topic_16  topic_17  topic_18  topic_19  year_month  \n",
       "0  0.038963  0.006544  0.000000  0.010801  1999-10-01  \n",
       "1  0.000000  0.000000  0.000000  0.000000  1999-10-01  \n",
       "2  0.000000  0.025760  0.000000  0.000000  1999-10-01  \n",
       "3  0.000000  0.126978  0.000000  0.000000  1999-10-01  \n",
       "4  0.000000  0.000000  0.040584  0.000000  1999-10-01  \n",
       "\n",
       "[5 rows x 25 columns]"
      ]
     },
     "execution_count": 47,
     "metadata": {},
     "output_type": "execute_result"
    }
   ],
   "source": [
    "joined['year_month'] = joined.apply(lambda x: str(int(x.year)) +'-'+ str(int(x.month)) + '-01', axis=1)\n",
    "joined.reset_index(inplace=True)\n",
    "\n",
    "joined.head()"
   ]
  },
  {
   "cell_type": "code",
   "execution_count": 48,
   "metadata": {
    "ExecuteTime": {
     "end_time": "2019-02-03T22:58:43.114042Z",
     "start_time": "2019-02-03T22:58:43.089523Z"
    }
   },
   "outputs": [
    {
     "name": "stdout",
     "output_type": "stream",
     "text": [
      "(320976, 3)\n"
     ]
    },
    {
     "data": {
      "text/html": [
       "<div>\n",
       "<style scoped>\n",
       "    .dataframe tbody tr th:only-of-type {\n",
       "        vertical-align: middle;\n",
       "    }\n",
       "\n",
       "    .dataframe tbody tr th {\n",
       "        vertical-align: top;\n",
       "    }\n",
       "\n",
       "    .dataframe thead th {\n",
       "        text-align: right;\n",
       "    }\n",
       "</style>\n",
       "<table border=\"1\" class=\"dataframe\">\n",
       "  <thead>\n",
       "    <tr style=\"text-align: right;\">\n",
       "      <th></th>\n",
       "      <th>year_month</th>\n",
       "      <th>topic</th>\n",
       "      <th>text</th>\n",
       "    </tr>\n",
       "  </thead>\n",
       "  <tbody>\n",
       "    <tr>\n",
       "      <th>0</th>\n",
       "      <td>1999-10-01</td>\n",
       "      <td>index</td>\n",
       "      <td>0.0</td>\n",
       "    </tr>\n",
       "    <tr>\n",
       "      <th>1</th>\n",
       "      <td>1999-10-01</td>\n",
       "      <td>index</td>\n",
       "      <td>1.0</td>\n",
       "    </tr>\n",
       "    <tr>\n",
       "      <th>2</th>\n",
       "      <td>1999-10-01</td>\n",
       "      <td>index</td>\n",
       "      <td>2.0</td>\n",
       "    </tr>\n",
       "    <tr>\n",
       "      <th>3</th>\n",
       "      <td>1999-10-01</td>\n",
       "      <td>index</td>\n",
       "      <td>3.0</td>\n",
       "    </tr>\n",
       "    <tr>\n",
       "      <th>4</th>\n",
       "      <td>1999-10-01</td>\n",
       "      <td>index</td>\n",
       "      <td>4.0</td>\n",
       "    </tr>\n",
       "  </tbody>\n",
       "</table>\n",
       "</div>"
      ],
      "text/plain": [
       "   year_month  topic  text\n",
       "0  1999-10-01  index   0.0\n",
       "1  1999-10-01  index   1.0\n",
       "2  1999-10-01  index   2.0\n",
       "3  1999-10-01  index   3.0\n",
       "4  1999-10-01  index   4.0"
      ]
     },
     "execution_count": 48,
     "metadata": {},
     "output_type": "execute_result"
    }
   ],
   "source": [
    "joined_melt = joined.melt('year_month', var_name='topic', value_name='text')\n",
    "print(joined_melt.shape)\n",
    "joined_melt.head()"
   ]
  },
  {
   "cell_type": "code",
   "execution_count": 49,
   "metadata": {
    "ExecuteTime": {
     "end_time": "2019-02-03T22:58:43.512780Z",
     "start_time": "2019-02-03T22:58:43.397152Z"
    },
    "scrolled": true
   },
   "outputs": [
    {
     "name": "stdout",
     "output_type": "stream",
     "text": [
      "(267480, 3)\n"
     ]
    },
    {
     "data": {
      "text/plain": [
       "topic_19    13374\n",
       "topic_8     13374\n",
       "topic_3     13374\n",
       "topic_7     13374\n",
       "topic_14    13374\n",
       "topic_6     13374\n",
       "topic_4     13374\n",
       "topic_5     13374\n",
       "topic_2     13374\n",
       "topic_9     13374\n",
       "topic_18    13374\n",
       "topic_17    13374\n",
       "topic_0     13374\n",
       "topic_10    13374\n",
       "topic_11    13374\n",
       "topic_16    13374\n",
       "topic_1     13374\n",
       "topic_15    13374\n",
       "topic_13    13374\n",
       "topic_12    13374\n",
       "Name: topic, dtype: int64"
      ]
     },
     "execution_count": 49,
     "metadata": {},
     "output_type": "execute_result"
    }
   ],
   "source": [
    "# select only topic_*\n",
    "joined_melt_new = joined_melt[(joined_melt.topic!='docID') & (joined_melt.topic!='index')\n",
    "                              & (joined_melt.topic!='year') & (joined_melt.topic!='month')]\n",
    "print(joined_melt_new.shape)\n",
    "joined_melt_new.topic.value_counts()"
   ]
  },
  {
   "cell_type": "code",
   "execution_count": 50,
   "metadata": {
    "ExecuteTime": {
     "end_time": "2019-02-03T22:58:46.539966Z",
     "start_time": "2019-02-03T22:58:43.801742Z"
    }
   },
   "outputs": [
    {
     "data": {
      "image/png": "[encoded data removed]",
      "text/plain": [
       "<Figure size 1440x720 with 21 Axes>"
      ]
     },
     "metadata": {
      "needs_background": "light"
     },
     "output_type": "display_data"
    }
   ],
   "source": [
    "labels = sorted(joined_melt_new['year_month'].unique())\n",
    "\n",
    "fig, axes = joypy.joyplot(joined_melt_new, by='topic', column='text', figsize=(20, 10),xlabelsize=20,ylabelsize=20,\n",
    "                          overlap=0.4, fill=True, linecolor=\"k\", linewidth=2,\n",
    "                          kind='values', fade=True, xrot=90, x_range=[i for i in range(len(labels))],\n",
    "                          background='white');\n",
    "\n",
    "ticks_labels = {i:t for i, t in enumerate(labels)}\n",
    "axes[-1].set_xticks([k for k, v in ticks_labels.items() if k % 6 == 0])\n",
    "ticks = axes[-1].get_xticks()\n",
    "axes[-1].set_xticklabels([ticks_labels.get(i, 'stop') for i in ticks]);"
   ]
  },
  {
   "cell_type": "code",
   "execution_count": 51,
   "metadata": {
    "ExecuteTime": {
     "end_time": "2019-02-03T22:58:47.301052Z",
     "start_time": "2019-02-03T22:58:46.853799Z"
    }
   },
   "outputs": [],
   "source": [
    "fig.savefig(f\"data/visualization/{'-'.join(name_dataset.split('.'))}_joypy\")"
   ]
  },
  {
   "cell_type": "code",
   "execution_count": null,
   "metadata": {},
   "outputs": [],
   "source": []
  }
 ],
 "metadata": {
  "kernelspec": {
   "display_name": "Python 3",
   "language": "python",
   "name": "python3"
  },
  "language_info": {
   "codemirror_mode": {
    "name": "ipython",
    "version": 3
   },
   "file_extension": ".py",
   "mimetype": "text/x-python",
   "name": "python",
   "nbconvert_exporter": "python",
   "pygments_lexer": "ipython3",
   "version": "3.6.7"
  },
  "varInspector": {
   "cols": {
    "lenName": 16,
    "lenType": 16,
    "lenVar": 40
   },
   "kernels_config": {
    "python": {
     "delete_cmd_postfix": "",
     "delete_cmd_prefix": "del ",
     "library": "var_list.py",
     "varRefreshCmd": "print(var_dic_list())"
    },
    "r": {
     "delete_cmd_postfix": ") ",
     "delete_cmd_prefix": "rm(",
     "library": "var_list.r",
     "varRefreshCmd": "cat(var_dic_list()) "
    }
   },
   "types_to_exclude": [
    "module",
    "function",
    "builtin_function_or_method",
    "instance",
    "_Feature"
   ],
   "window_display": false
  }
 },
 "nbformat": 4,
 "nbformat_minor": 2
}
