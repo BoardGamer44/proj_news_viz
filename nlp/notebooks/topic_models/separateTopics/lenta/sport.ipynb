{
 "cells": [
  {
   "cell_type": "code",
   "execution_count": 1,
   "metadata": {
    "ExecuteTime": {
     "end_time": "2019-03-12T21:47:07.186159Z",
     "start_time": "2019-03-12T21:47:05.890885Z"
    }
   },
   "outputs": [
    {
     "name": "stderr",
     "output_type": "stream",
     "text": [
      "/home/vtrokhymenko/proj_news_viz/env4news/lib/python3.6/site-packages/scipy/sparse/sparsetools.py:21: DeprecationWarning: `scipy.sparse.sparsetools` is deprecated!\n",
      "scipy.sparse.sparsetools is a private module for scipy.sparse, and should not be used.\n",
      "  _deprecated()\n"
     ]
    }
   ],
   "source": [
    "import numpy as np\n",
    "import pandas as pd\n",
    "import os\n",
    "\n",
    "import re\n",
    "from datetime import datetime as time\n",
    "from ast import literal_eval\n",
    "from sklearn.model_selection import train_test_split\n",
    "\n",
    "import artm\n",
    "from gensim.models import Phrases\n",
    "from gensim.models.phrases import Phraser\n",
    "\n",
    "import gc\n",
    "import matplotlib.pyplot as plt\n",
    "%matplotlib inline"
   ]
  },
  {
   "cell_type": "code",
   "execution_count": 3,
   "metadata": {
    "ExecuteTime": {
     "end_time": "2019-01-30T17:05:48.343848Z",
     "start_time": "2019-01-30T17:05:48.213632Z"
    },
    "scrolled": true
   },
   "outputs": [
    {
     "name": "stdout",
     "output_type": "stream",
     "text": [
      "-rw-rw-r-- 1 vtrokhymenko vtrokhymenko 491K Jan 15 18:18 data/69-.paralel.csv.bz2\r\n",
      "-rw-rw-r-- 1 vtrokhymenko vtrokhymenko  48M Jan 15 18:21 data/Russia.csv.bz2\r\n",
      "-rw-rw-r-- 1 vtrokhymenko vtrokhymenko  12M Jan 15 18:21 data/Sil_struktur.csv.bz2\r\n",
      "-rw-rw-r-- 1 vtrokhymenko vtrokhymenko  44K Jan 15 18:19 data/biblioteka.csv.bz2\r\n",
      "-rw-rw-r-- 1 vtrokhymenko vtrokhymenko  25M Jan 15 18:19 data/bivs.SSR.csv.bz2\r\n",
      "-rw-rw-r-- 1 vtrokhymenko vtrokhymenko 6.1M Jan 15 18:18 data/biznes.csv.bz2\r\n",
      "-rw-rw-r-- 1 vtrokhymenko vtrokhymenko 2.9M Jan 15 18:21 data/cennosti.csv.bz2\r\n",
      "-rw-rw-r-- 1 vtrokhymenko vtrokhymenko  28M Jan 15 18:21 data/economic.csv.bz2\r\n",
      "-rw-rw-r-- 1 vtrokhymenko vtrokhymenko  16M Jan 15 18:19 data/internet.i.smi.csv.bz2\r\n",
      "-rw-rw-r-- 1 vtrokhymenko vtrokhymenko 8.6M Jan 15 18:18 data/iz.jizni.csv.bz2\r\n",
      "-rw-rw-r-- 1 vtrokhymenko vtrokhymenko 125K Jan 15 18:18 data/kultprosvet.csv.bz2\r\n",
      "-rw-rw-r-- 1 vtrokhymenko vtrokhymenko  20M Jan 15 18:18 data/kultura.csv.bz2\r\n",
      "-rw-rw-r-- 1 vtrokhymenko vtrokhymenko  65K Jan 15 18:20 data/legprom.csv.bz2\r\n",
      "-rw-rw-r-- 1 vtrokhymenko vtrokhymenko  56M Jan 16 02:07 data/mir.csv.bz2\r\n",
      "-rw-rw-r-- 1 vtrokhymenko vtrokhymenko  24M Jan 15 18:21 data/naula.i.tehn.csv.bz2\r\n",
      "-rw-rw-r-- 1 vtrokhymenko vtrokhymenko 2.4K Jan 15 18:20 data/orujie.csv.bz2\r\n",
      "-rw-rw-r-- 1 vtrokhymenko vtrokhymenko 3.0M Jan 15 18:21 data/puteshestvi.csv.bz2\r\n",
      "-rw-rw-r-- 1 vtrokhymenko vtrokhymenko  19M Jan 15 18:20 data/sport.csv.bz2\r\n"
     ]
    }
   ],
   "source": [
    "!ls -lah data/*.csv.bz2"
   ]
  },
  {
   "cell_type": "code",
   "execution_count": 2,
   "metadata": {
    "ExecuteTime": {
     "end_time": "2019-03-12T21:47:13.099073Z",
     "start_time": "2019-03-12T21:47:13.058353Z"
    }
   },
   "outputs": [
    {
     "data": {
      "text/plain": [
       "'0.9.0'"
      ]
     },
     "execution_count": 2,
     "metadata": {},
     "output_type": "execute_result"
    }
   ],
   "source": [
    "artm.version()"
   ]
  },
  {
   "cell_type": "code",
   "execution_count": 3,
   "metadata": {
    "ExecuteTime": {
     "end_time": "2019-03-12T21:47:13.573658Z",
     "start_time": "2019-03-12T21:47:13.570954Z"
    }
   },
   "outputs": [],
   "source": [
    "name_dataset = 'sport'"
   ]
  },
  {
   "cell_type": "markdown",
   "metadata": {},
   "source": [
    "### load data"
   ]
  },
  {
   "cell_type": "code",
   "execution_count": 4,
   "metadata": {
    "ExecuteTime": {
     "end_time": "2019-03-12T21:47:22.948039Z",
     "start_time": "2019-03-12T21:47:15.895806Z"
    }
   },
   "outputs": [
    {
     "name": "stdout",
     "output_type": "stream",
     "text": [
      "(60849, 7)\n",
      "CPU times: user 6.89 s, sys: 131 ms, total: 7.02 s\n",
      "Wall time: 7.05 s\n"
     ]
    }
   ],
   "source": [
    "%%time\n",
    "df = pd.read_csv(f'data/{name_dataset}.csv.bz2')\n",
    "print(df.shape)"
   ]
  },
  {
   "cell_type": "code",
   "execution_count": 5,
   "metadata": {
    "ExecuteTime": {
     "end_time": "2019-03-12T21:47:27.063181Z",
     "start_time": "2019-03-12T21:47:27.038851Z"
    }
   },
   "outputs": [
    {
     "data": {
      "text/html": [
       "<div>\n",
       "<style scoped>\n",
       "    .dataframe tbody tr th:only-of-type {\n",
       "        vertical-align: middle;\n",
       "    }\n",
       "\n",
       "    .dataframe tbody tr th {\n",
       "        vertical-align: top;\n",
       "    }\n",
       "\n",
       "    .dataframe thead th {\n",
       "        text-align: right;\n",
       "    }\n",
       "</style>\n",
       "<table border=\"1\" class=\"dataframe\">\n",
       "  <thead>\n",
       "    <tr style=\"text-align: right;\">\n",
       "      <th></th>\n",
       "      <th>1914-lenta/</th>\n",
       "      <th>url</th>\n",
       "      <th>edition</th>\n",
       "      <th>topics</th>\n",
       "      <th>title</th>\n",
       "      <th>text</th>\n",
       "      <th>topic</th>\n",
       "    </tr>\n",
       "  </thead>\n",
       "  <tbody>\n",
       "    <tr>\n",
       "      <th>0</th>\n",
       "      <td>1999-10-08 12:00:00</td>\n",
       "      <td>https://lenta.ru/news/1999/10/08/boxing/</td>\n",
       "      <td>NaN</td>\n",
       "      <td>Мир</td>\n",
       "      <td>Дочь Мухаммеда Али дебютирует на ринге</td>\n",
       "      <td>Лейла Али, дочь известного боксера-тяжеловеса ...</td>\n",
       "      <td>Спорт</td>\n",
       "    </tr>\n",
       "    <tr>\n",
       "      <th>1</th>\n",
       "      <td>1999-10-09 12:00:00</td>\n",
       "      <td>https://lenta.ru/news/1999/10/09/football/</td>\n",
       "      <td>NaN</td>\n",
       "      <td>Россия</td>\n",
       "      <td>Россия — Украина: ничья 1:1, Франция выиграла ...</td>\n",
       "      <td>В субботу 9 октября на Большой спортивной арен...</td>\n",
       "      <td>Спорт</td>\n",
       "    </tr>\n",
       "  </tbody>\n",
       "</table>\n",
       "</div>"
      ],
      "text/plain": [
       "           1914-lenta/                                         url  edition  \\\n",
       "0  1999-10-08 12:00:00    https://lenta.ru/news/1999/10/08/boxing/      NaN   \n",
       "1  1999-10-09 12:00:00  https://lenta.ru/news/1999/10/09/football/      NaN   \n",
       "\n",
       "   topics                                              title  \\\n",
       "0     Мир             Дочь Мухаммеда Али дебютирует на ринге   \n",
       "1  Россия  Россия — Украина: ничья 1:1, Франция выиграла ...   \n",
       "\n",
       "                                                text  topic  \n",
       "0  Лейла Али, дочь известного боксера-тяжеловеса ...  Спорт  \n",
       "1  В субботу 9 октября на Большой спортивной арен...  Спорт  "
      ]
     },
     "execution_count": 5,
     "metadata": {},
     "output_type": "execute_result"
    }
   ],
   "source": [
    "df.head(2)"
   ]
  },
  {
   "cell_type": "markdown",
   "metadata": {},
   "source": [
    "### preprocess"
   ]
  },
  {
   "cell_type": "markdown",
   "metadata": {},
   "source": [
    "* get dates"
   ]
  },
  {
   "cell_type": "code",
   "execution_count": 6,
   "metadata": {
    "ExecuteTime": {
     "end_time": "2019-03-12T21:47:33.666089Z",
     "start_time": "2019-03-12T21:47:33.416408Z"
    }
   },
   "outputs": [
    {
     "name": "stdout",
     "output_type": "stream",
     "text": [
      "CPU times: user 236 ms, sys: 10.8 ms, total: 247 ms\n",
      "Wall time: 246 ms\n"
     ]
    },
    {
     "name": "stderr",
     "output_type": "stream",
     "text": [
      "<unknown>:2: DeprecationWarning: invalid escape sequence \\d\n"
     ]
    }
   ],
   "source": [
    "%%time\n",
    "\n",
    "df['date_raw'] = df['url'].apply(re.compile('(\\d{4})/(\\d{2})/(\\d{2})').findall)\n",
    "\n",
    "df['year'] = df['date_raw'].apply(lambda x: int(x[0][0]))\n",
    "df['month'] = df['date_raw'].apply(lambda x: int(x[0][1]))"
   ]
  },
  {
   "cell_type": "markdown",
   "metadata": {},
   "source": [
    "* clean text"
   ]
  },
  {
   "cell_type": "code",
   "execution_count": 8,
   "metadata": {
    "ExecuteTime": {
     "end_time": "2019-03-12T21:47:53.967275Z",
     "start_time": "2019-03-12T21:47:53.964730Z"
    }
   },
   "outputs": [],
   "source": [
    "import preprocessing_tools as pr"
   ]
  },
  {
   "cell_type": "code",
   "execution_count": 9,
   "metadata": {
    "ExecuteTime": {
     "end_time": "2019-03-12T21:48:02.783877Z",
     "start_time": "2019-03-12T21:47:54.576720Z"
    }
   },
   "outputs": [
    {
     "name": "stdout",
     "output_type": "stream",
     "text": [
      "CPU times: user 8.15 s, sys: 55 ms, total: 8.2 s\n",
      "Wall time: 8.2 s\n"
     ]
    }
   ],
   "source": [
    "%%time\n",
    "df.text = df.text.apply(pr.clean_text)"
   ]
  },
  {
   "cell_type": "code",
   "execution_count": 10,
   "metadata": {
    "ExecuteTime": {
     "end_time": "2019-03-12T21:48:03.756946Z",
     "start_time": "2019-03-12T21:48:03.744215Z"
    }
   },
   "outputs": [
    {
     "data": {
      "text/html": [
       "<div>\n",
       "<style scoped>\n",
       "    .dataframe tbody tr th:only-of-type {\n",
       "        vertical-align: middle;\n",
       "    }\n",
       "\n",
       "    .dataframe tbody tr th {\n",
       "        vertical-align: top;\n",
       "    }\n",
       "\n",
       "    .dataframe thead th {\n",
       "        text-align: right;\n",
       "    }\n",
       "</style>\n",
       "<table border=\"1\" class=\"dataframe\">\n",
       "  <thead>\n",
       "    <tr style=\"text-align: right;\">\n",
       "      <th></th>\n",
       "      <th>1914-lenta/</th>\n",
       "      <th>url</th>\n",
       "      <th>edition</th>\n",
       "      <th>topics</th>\n",
       "      <th>title</th>\n",
       "      <th>text</th>\n",
       "      <th>topic</th>\n",
       "      <th>date_raw</th>\n",
       "      <th>year</th>\n",
       "      <th>month</th>\n",
       "    </tr>\n",
       "  </thead>\n",
       "  <tbody>\n",
       "    <tr>\n",
       "      <th>0</th>\n",
       "      <td>1999-10-08 12:00:00</td>\n",
       "      <td>https://lenta.ru/news/1999/10/08/boxing/</td>\n",
       "      <td>NaN</td>\n",
       "      <td>Мир</td>\n",
       "      <td>Дочь Мухаммеда Али дебютирует на ринге</td>\n",
       "      <td>лейла али дочь известного боксератяжеловеса му...</td>\n",
       "      <td>Спорт</td>\n",
       "      <td>[(1999, 10, 08)]</td>\n",
       "      <td>1999</td>\n",
       "      <td>10</td>\n",
       "    </tr>\n",
       "    <tr>\n",
       "      <th>1</th>\n",
       "      <td>1999-10-09 12:00:00</td>\n",
       "      <td>https://lenta.ru/news/1999/10/09/football/</td>\n",
       "      <td>NaN</td>\n",
       "      <td>Россия</td>\n",
       "      <td>Россия — Украина: ничья 1:1, Франция выиграла ...</td>\n",
       "      <td>в субботу  октября на большой спортивной арене...</td>\n",
       "      <td>Спорт</td>\n",
       "      <td>[(1999, 10, 09)]</td>\n",
       "      <td>1999</td>\n",
       "      <td>10</td>\n",
       "    </tr>\n",
       "  </tbody>\n",
       "</table>\n",
       "</div>"
      ],
      "text/plain": [
       "           1914-lenta/                                         url  edition  \\\n",
       "0  1999-10-08 12:00:00    https://lenta.ru/news/1999/10/08/boxing/      NaN   \n",
       "1  1999-10-09 12:00:00  https://lenta.ru/news/1999/10/09/football/      NaN   \n",
       "\n",
       "   topics                                              title  \\\n",
       "0     Мир             Дочь Мухаммеда Али дебютирует на ринге   \n",
       "1  Россия  Россия — Украина: ничья 1:1, Франция выиграла ...   \n",
       "\n",
       "                                                text  topic          date_raw  \\\n",
       "0  лейла али дочь известного боксератяжеловеса му...  Спорт  [(1999, 10, 08)]   \n",
       "1  в субботу  октября на большой спортивной арене...  Спорт  [(1999, 10, 09)]   \n",
       "\n",
       "   year  month  \n",
       "0  1999     10  \n",
       "1  1999     10  "
      ]
     },
     "execution_count": 10,
     "metadata": {},
     "output_type": "execute_result"
    }
   ],
   "source": [
    "df.head(2)"
   ]
  },
  {
   "cell_type": "markdown",
   "metadata": {},
   "source": [
    "* cleanedNames"
   ]
  },
  {
   "cell_type": "code",
   "execution_count": 11,
   "metadata": {
    "ExecuteTime": {
     "end_time": "2019-03-12T21:48:05.519833Z",
     "start_time": "2019-03-12T21:48:05.362938Z"
    }
   },
   "outputs": [],
   "source": [
    "from cleanedNames import KeyProc\n",
    "cn = KeyProc()"
   ]
  },
  {
   "cell_type": "code",
   "execution_count": 12,
   "metadata": {
    "ExecuteTime": {
     "end_time": "2019-03-12T21:49:30.521478Z",
     "start_time": "2019-03-12T21:48:06.851459Z"
    }
   },
   "outputs": [
    {
     "name": "stdout",
     "output_type": "stream",
     "text": [
      "CPU times: user 1min 23s, sys: 1.48 ms, total: 1min 23s\n",
      "Wall time: 1min 23s\n"
     ]
    }
   ],
   "source": [
    "%%time\n",
    "df.text = df.text.apply(cn.replaceKeywords)"
   ]
  },
  {
   "cell_type": "markdown",
   "metadata": {},
   "source": [
    "* lemmatization"
   ]
  },
  {
   "cell_type": "code",
   "execution_count": 13,
   "metadata": {
    "ExecuteTime": {
     "end_time": "2019-03-12T21:52:09.467298Z",
     "start_time": "2019-03-12T21:49:54.820198Z"
    }
   },
   "outputs": [
    {
     "name": "stdout",
     "output_type": "stream",
     "text": [
      "CPU times: user 2min 14s, sys: 172 ms, total: 2min 14s\n",
      "Wall time: 2min 14s\n"
     ]
    }
   ],
   "source": [
    "%%time\n",
    "df['lemmatized_text'] = df.text.apply(pr.lemmatization)"
   ]
  },
  {
   "cell_type": "code",
   "execution_count": null,
   "metadata": {},
   "outputs": [],
   "source": []
  },
  {
   "cell_type": "markdown",
   "metadata": {},
   "source": [
    "* add docID"
   ]
  },
  {
   "cell_type": "code",
   "execution_count": 14,
   "metadata": {
    "ExecuteTime": {
     "end_time": "2019-03-12T21:52:12.806538Z",
     "start_time": "2019-03-12T21:52:12.790556Z"
    }
   },
   "outputs": [],
   "source": [
    "df['docID'] = list(range(df.shape[0]))"
   ]
  },
  {
   "cell_type": "code",
   "execution_count": 15,
   "metadata": {
    "ExecuteTime": {
     "end_time": "2019-03-12T21:52:13.438859Z",
     "start_time": "2019-03-12T21:52:13.398455Z"
    }
   },
   "outputs": [
    {
     "data": {
      "text/html": [
       "<div>\n",
       "<style scoped>\n",
       "    .dataframe tbody tr th:only-of-type {\n",
       "        vertical-align: middle;\n",
       "    }\n",
       "\n",
       "    .dataframe tbody tr th {\n",
       "        vertical-align: top;\n",
       "    }\n",
       "\n",
       "    .dataframe thead th {\n",
       "        text-align: right;\n",
       "    }\n",
       "</style>\n",
       "<table border=\"1\" class=\"dataframe\">\n",
       "  <thead>\n",
       "    <tr style=\"text-align: right;\">\n",
       "      <th></th>\n",
       "      <th>docID</th>\n",
       "      <th>year</th>\n",
       "      <th>month</th>\n",
       "      <th>lemmatized_text</th>\n",
       "    </tr>\n",
       "  </thead>\n",
       "  <tbody>\n",
       "    <tr>\n",
       "      <th>0</th>\n",
       "      <td>0</td>\n",
       "      <td>1999</td>\n",
       "      <td>10</td>\n",
       "      <td>[лейла, али, дочь, известный, боксератяжеловес...</td>\n",
       "    </tr>\n",
       "    <tr>\n",
       "      <th>1</th>\n",
       "      <td>1</td>\n",
       "      <td>1999</td>\n",
       "      <td>10</td>\n",
       "      <td>[большой, спортивный, арен, московский, стадио...</td>\n",
       "    </tr>\n",
       "  </tbody>\n",
       "</table>\n",
       "</div>"
      ],
      "text/plain": [
       "   docID  year  month                                    lemmatized_text\n",
       "0      0  1999     10  [лейла, али, дочь, известный, боксератяжеловес...\n",
       "1      1  1999     10  [большой, спортивный, арен, московский, стадио..."
      ]
     },
     "execution_count": 15,
     "metadata": {},
     "output_type": "execute_result"
    }
   ],
   "source": [
    "df = df[['docID','year','month','lemmatized_text']]\n",
    "df.head(2)"
   ]
  },
  {
   "cell_type": "code",
   "execution_count": 16,
   "metadata": {
    "ExecuteTime": {
     "end_time": "2019-03-12T21:52:15.212015Z",
     "start_time": "2019-03-12T21:52:15.197428Z"
    }
   },
   "outputs": [
    {
     "name": "stdout",
     "output_type": "stream",
     "text": [
      "(60849, 4)\n"
     ]
    },
    {
     "data": {
      "text/plain": [
       "docID              0\n",
       "year               0\n",
       "month              0\n",
       "lemmatized_text    0\n",
       "dtype: int64"
      ]
     },
     "execution_count": 16,
     "metadata": {},
     "output_type": "execute_result"
    }
   ],
   "source": [
    "print(df.shape)\n",
    "df.isnull().sum()"
   ]
  },
  {
   "cell_type": "code",
   "execution_count": 17,
   "metadata": {
    "ExecuteTime": {
     "end_time": "2019-03-12T21:52:15.662164Z",
     "start_time": "2019-03-12T21:52:15.656653Z"
    }
   },
   "outputs": [
    {
     "data": {
      "text/plain": [
       "1999"
      ]
     },
     "execution_count": 17,
     "metadata": {},
     "output_type": "execute_result"
    }
   ],
   "source": [
    "df.year.min()"
   ]
  },
  {
   "cell_type": "code",
   "execution_count": null,
   "metadata": {},
   "outputs": [],
   "source": []
  },
  {
   "cell_type": "markdown",
   "metadata": {},
   "source": [
    "## model"
   ]
  },
  {
   "cell_type": "markdown",
   "metadata": {},
   "source": [
    "* prepare"
   ]
  },
  {
   "cell_type": "code",
   "execution_count": 18,
   "metadata": {
    "ExecuteTime": {
     "end_time": "2019-03-12T21:52:47.735033Z",
     "start_time": "2019-03-12T21:52:46.990410Z"
    }
   },
   "outputs": [
    {
     "name": "stdout",
     "output_type": "stream",
     "text": [
      "CPU times: user 592 ms, sys: 100 ms, total: 692 ms\n",
      "Wall time: 741 ms\n"
     ]
    }
   ],
   "source": [
    "%%time\n",
    "\n",
    "vwpath = f'data/vwpath/{name_dataset}_input_bigartm.vw'\n",
    "\n",
    "with open(vwpath, 'w') as fp:\n",
    "    for text, did in df[['lemmatized_text', 'docID']].values:\n",
    "        fp.write('{} | {}\\n'.format(did, ' '.join(text)))"
   ]
  },
  {
   "cell_type": "code",
   "execution_count": 19,
   "metadata": {
    "ExecuteTime": {
     "end_time": "2019-03-12T21:52:48.854277Z",
     "start_time": "2019-03-12T21:52:48.838802Z"
    }
   },
   "outputs": [
    {
     "data": {
      "text/html": [
       "<div>\n",
       "<style scoped>\n",
       "    .dataframe tbody tr th:only-of-type {\n",
       "        vertical-align: middle;\n",
       "    }\n",
       "\n",
       "    .dataframe tbody tr th {\n",
       "        vertical-align: top;\n",
       "    }\n",
       "\n",
       "    .dataframe thead th {\n",
       "        text-align: right;\n",
       "    }\n",
       "</style>\n",
       "<table border=\"1\" class=\"dataframe\">\n",
       "  <thead>\n",
       "    <tr style=\"text-align: right;\">\n",
       "      <th></th>\n",
       "      <th>docID</th>\n",
       "      <th>year</th>\n",
       "      <th>month</th>\n",
       "      <th>lemmatized_text</th>\n",
       "    </tr>\n",
       "  </thead>\n",
       "  <tbody>\n",
       "    <tr>\n",
       "      <th>0</th>\n",
       "      <td>0</td>\n",
       "      <td>1999</td>\n",
       "      <td>10</td>\n",
       "      <td>[лейла, али, дочь, известный, боксератяжеловес...</td>\n",
       "    </tr>\n",
       "    <tr>\n",
       "      <th>1</th>\n",
       "      <td>1</td>\n",
       "      <td>1999</td>\n",
       "      <td>10</td>\n",
       "      <td>[большой, спортивный, арен, московский, стадио...</td>\n",
       "    </tr>\n",
       "    <tr>\n",
       "      <th>2</th>\n",
       "      <td>2</td>\n",
       "      <td>1999</td>\n",
       "      <td>10</td>\n",
       "      <td>[известно, клуб, футбольный, премьерлига, англ...</td>\n",
       "    </tr>\n",
       "    <tr>\n",
       "      <th>3</th>\n",
       "      <td>3</td>\n",
       "      <td>1999</td>\n",
       "      <td>10</td>\n",
       "      <td>[times, воскресение, блистательный, победа, ко...</td>\n",
       "    </tr>\n",
       "    <tr>\n",
       "      <th>4</th>\n",
       "      <td>4</td>\n",
       "      <td>1999</td>\n",
       "      <td>12</td>\n",
       "      <td>[франкфуртенамайн, завершиться, очередной, рау...</td>\n",
       "    </tr>\n",
       "  </tbody>\n",
       "</table>\n",
       "</div>"
      ],
      "text/plain": [
       "   docID  year  month                                    lemmatized_text\n",
       "0      0  1999     10  [лейла, али, дочь, известный, боксератяжеловес...\n",
       "1      1  1999     10  [большой, спортивный, арен, московский, стадио...\n",
       "2      2  1999     10  [известно, клуб, футбольный, премьерлига, англ...\n",
       "3      3  1999     10  [times, воскресение, блистательный, победа, ко...\n",
       "4      4  1999     12  [франкфуртенамайн, завершиться, очередной, рау..."
      ]
     },
     "execution_count": 19,
     "metadata": {},
     "output_type": "execute_result"
    }
   ],
   "source": [
    "df.head()"
   ]
  },
  {
   "cell_type": "code",
   "execution_count": 20,
   "metadata": {
    "ExecuteTime": {
     "end_time": "2019-03-12T21:52:50.471109Z",
     "start_time": "2019-03-12T21:52:50.458131Z"
    }
   },
   "outputs": [
    {
     "name": "stdout",
     "output_type": "stream",
     "text": [
      "лейла али дочь известный боксератяжеловес мухаммед али дебютировать бизнес известный отец профессиональный бой лейла состояться казино turning stone верона штат ньюйорк назначить следующий бой лейла собираться отправить нокаут лейла прозвище мадам батерфляй иметь вид соперница летний эприл фаулера четыре раунд бой правда bbc бой транислироваться телевидение записываться видео просьба лейла нервничать шоу свидетельство устроитель собраться около журналист свет лейла мать вероника жена мухаммед али прийти посмотреть дебютный выступление юный боксёрш прийти ли_ный шоу отец неизвестно проработать ринг страдать болезнь паркинсон мухаммед али отрицательно относиться решение дочь заняться профессиональный бокс соперница лейла летний эприл фаулера очередь уверить победа бояться лейла громкий фамилия али просто фамилия драться отец ринг эприл 0\n",
      "большой спортивный арен московский стадион лужники проходить матч футбольный сборный россия украина тайм нулевой счёт минута матч счёт открыть игрок российский сборный валерий_карпина штрафной удар минута российский ворот влететь вратарь филимон вместе мяч британский арбитр добавить минута дополнительный вырвать победа гость российский сборный удаться стадион стат де франс окрестность париж проходить игра сборный франция исландия счёт польза француз франция возглавить отборочный украина второе место сборная россия остаться третье место попасть чемпионат европа матч присутствовать глава правительство россия владимир_путин премьерминистр украина пустовойтенко мэр москва юрий_лужков экспремьер евгений_примаков политика накануне матч российский болельщик обещать устроить массовый беспорядок москва матч закончиться победа хозяин поль 1\n"
     ]
    }
   ],
   "source": [
    "for text, did in df[['lemmatized_text', 'docID']].values[:2]:\n",
    "    print(' '.join(text),did)"
   ]
  },
  {
   "cell_type": "code",
   "execution_count": null,
   "metadata": {},
   "outputs": [],
   "source": []
  },
  {
   "cell_type": "code",
   "execution_count": 21,
   "metadata": {
    "ExecuteTime": {
     "end_time": "2019-03-12T21:52:52.396717Z",
     "start_time": "2019-03-12T21:52:52.391328Z"
    }
   },
   "outputs": [],
   "source": [
    "id_date = df[['docID', 'year', 'month']].copy()"
   ]
  },
  {
   "cell_type": "markdown",
   "metadata": {},
   "source": [
    "* collect batchs and collect the dictionary"
   ]
  },
  {
   "cell_type": "code",
   "execution_count": 22,
   "metadata": {
    "ExecuteTime": {
     "end_time": "2019-03-12T21:53:00.526315Z",
     "start_time": "2019-03-12T21:52:54.862162Z"
    }
   },
   "outputs": [
    {
     "name": "stdout",
     "output_type": "stream",
     "text": [
      "artm.BatchVectorizer(data_path=\"data/batches/sport\", num_batches=61)\n",
      "CPU times: user 22.1 s, sys: 665 ms, total: 22.7 s\n",
      "Wall time: 5.66 s\n"
     ]
    }
   ],
   "source": [
    "%%time\n",
    "\n",
    "batches_path = f'data/batches/{name_dataset}'\n",
    "\n",
    "if not os.path.exists(batches_path):\n",
    "    print('create folder...\\n')\n",
    "    os.makedirs(batches_path)\n",
    "    \n",
    "batch_vectorizer = artm.BatchVectorizer(data_path=vwpath,\n",
    "                                        data_format='vowpal_wabbit',\n",
    "                                        target_folder=batches_path)\n",
    "\n",
    "print(batch_vectorizer)"
   ]
  },
  {
   "cell_type": "code",
   "execution_count": 23,
   "metadata": {
    "ExecuteTime": {
     "end_time": "2019-03-12T21:53:08.798307Z",
     "start_time": "2019-03-12T21:53:06.772070Z"
    }
   },
   "outputs": [],
   "source": [
    "dictionary = artm.Dictionary()\n",
    "dictionary.gather(data_path=batches_path)"
   ]
  },
  {
   "cell_type": "code",
   "execution_count": 24,
   "metadata": {
    "ExecuteTime": {
     "end_time": "2019-03-12T21:53:11.676801Z",
     "start_time": "2019-03-12T21:53:11.601443Z"
    }
   },
   "outputs": [
    {
     "data": {
      "text/plain": [
       "artm.Dictionary(name=968fc70f-a9e6-47d6-9f3c-61958c03e8cb, num_entries=21723)"
      ]
     },
     "execution_count": 24,
     "metadata": {},
     "output_type": "execute_result"
    }
   ],
   "source": [
    "dictionary.filter(min_tf=10, max_df_rate=0.1) #int(4.5e5)"
   ]
  },
  {
   "cell_type": "code",
   "execution_count": 146,
   "metadata": {
    "ExecuteTime": {
     "end_time": "2019-01-31T23:55:11.726637Z",
     "start_time": "2019-01-31T23:55:11.610777Z"
    }
   },
   "outputs": [],
   "source": [
    "dictionary.save_text(f'data/dicts/dict_{name_dataset}.txt')"
   ]
  },
  {
   "cell_type": "code",
   "execution_count": null,
   "metadata": {},
   "outputs": [],
   "source": []
  },
  {
   "cell_type": "markdown",
   "metadata": {},
   "source": [
    "## pick up amount topics"
   ]
  },
  {
   "cell_type": "code",
   "execution_count": 281,
   "metadata": {
    "ExecuteTime": {
     "end_time": "2019-02-01T00:59:42.051676Z",
     "start_time": "2019-02-01T00:48:33.920206Z"
    },
    "scrolled": true
   },
   "outputs": [
    {
     "name": "stdout",
     "output_type": "stream",
     "text": [
      "#topic 2.........\n",
      "\tSparsityThetaScore: 0.14394648373126984\n",
      "\tSparsityPhiScore: 0.3168881833553314\n",
      "\tPerplexityScore: 3844.85546875\n",
      "\ttime: 0:00:26.727798\n",
      "#topic 3.........\n",
      "\tSparsityThetaScore: 0.3128618896007538\n",
      "\tSparsityPhiScore: 0.4279407262802124\n",
      "\tPerplexityScore: 3266.755126953125\n",
      "\ttime: 0:00:27.963084\n",
      "#topic 4.........\n",
      "\tSparsityThetaScore: 0.47226741909980774\n",
      "\tSparsityPhiScore: 0.5142186284065247\n",
      "\tPerplexityScore: 2883.92431640625\n",
      "\ttime: 0:00:28.637152\n",
      "#topic 5.........\n",
      "\tSparsityThetaScore: 0.5518217086791992\n",
      "\tSparsityPhiScore: 0.5772044062614441\n",
      "\tPerplexityScore: 2650.1103515625\n",
      "\ttime: 0:00:29.600335\n",
      "#topic 6.........\n",
      "\tSparsityThetaScore: 0.5685713887214661\n",
      "\tSparsityPhiScore: 0.6184310913085938\n",
      "\tPerplexityScore: 2466.820556640625\n",
      "\ttime: 0:00:30.302173\n",
      "#topic 7.........\n",
      "\tSparsityThetaScore: 0.5826718807220459\n",
      "\tSparsityPhiScore: 0.6559643745422363\n",
      "\tPerplexityScore: 2375.656494140625\n",
      "\ttime: 0:00:32.660598\n",
      "#topic 8.........\n",
      "\tSparsityThetaScore: 0.6183832287788391\n",
      "\tSparsityPhiScore: 0.6899003386497498\n",
      "\tPerplexityScore: 2227.826416015625\n",
      "\ttime: 0:00:32.275222\n",
      "#topic 9.........\n",
      "\tSparsityThetaScore: 0.6496007442474365\n",
      "\tSparsityPhiScore: 0.697250247001648\n",
      "\tPerplexityScore: 2156.648193359375\n",
      "\ttime: 0:00:33.581887\n",
      "#topic 10.........\n",
      "\tSparsityThetaScore: 0.6751203536987305\n",
      "\tSparsityPhiScore: 0.7262832522392273\n",
      "\tPerplexityScore: 2080.157470703125\n",
      "\ttime: 0:00:33.959032\n",
      "#topic 11.........\n",
      "\tSparsityThetaScore: 0.6973865032196045\n",
      "\tSparsityPhiScore: 0.7341679930686951\n",
      "\tPerplexityScore: 1983.6279296875\n",
      "\ttime: 0:00:35.351540\n",
      "#topic 12.........\n",
      "\tSparsityThetaScore: 0.7160977721214294\n",
      "\tSparsityPhiScore: 0.7502711415290833\n",
      "\tPerplexityScore: 1909.3548583984375\n",
      "\ttime: 0:00:35.891691\n",
      "#topic 13.........\n",
      "\tSparsityThetaScore: 0.7300998568534851\n",
      "\tSparsityPhiScore: 0.7653282284736633\n",
      "\tPerplexityScore: 1833.3291015625\n",
      "\ttime: 0:00:37.100209\n",
      "#topic 14.........\n",
      "\tSparsityThetaScore: 0.7357416152954102\n",
      "\tSparsityPhiScore: 0.7792261242866516\n",
      "\tPerplexityScore: 1789.39990234375\n",
      "\ttime: 0:00:37.479977\n",
      "#topic 15.........\n",
      "\tSparsityThetaScore: 0.7375448346138\n",
      "\tSparsityPhiScore: 0.7903696894645691\n",
      "\tPerplexityScore: 1748.635986328125\n",
      "\ttime: 0:00:39.024897\n",
      "#topic 16.........\n",
      "\tSparsityThetaScore: 0.7450964450836182\n",
      "\tSparsityPhiScore: 0.8017444014549255\n",
      "\tPerplexityScore: 1711.8211669921875\n",
      "\ttime: 0:00:39.190277\n",
      "#topic 17.........\n",
      "\tSparsityThetaScore: 0.755663275718689\n",
      "\tSparsityPhiScore: 0.8084865212440491\n",
      "\tPerplexityScore: 1704.6588134765625\n",
      "\ttime: 0:00:40.616902\n",
      "#topic 18.........\n",
      "\tSparsityThetaScore: 0.7647135853767395\n",
      "\tSparsityPhiScore: 0.8136546611785889\n",
      "\tPerplexityScore: 1677.3221435546875\n",
      "\ttime: 0:00:41.385755\n",
      "#topic 19.........\n",
      "\tSparsityThetaScore: 0.7690867185592651\n",
      "\tSparsityPhiScore: 0.8234068155288696\n",
      "\tPerplexityScore: 1633.2545166015625\n",
      "\ttime: 0:00:42.547762\n",
      "#topic 20.........\n",
      "\tSparsityThetaScore: 0.7737284302711487\n",
      "\tSparsityPhiScore: 0.830329954624176\n",
      "\tPerplexityScore: 1610.190185546875\n",
      "\ttime: 0:00:43.828248\n",
      "CPU times: user 2h 38min 19s, sys: 2min 6s, total: 2h 40min 26s\n",
      "Wall time: 11min 8s\n"
     ]
    }
   ],
   "source": [
    "%%time\n",
    "model_list = []\n",
    "step, perplexity, sTheta, sPhi = [], [], [], []\n",
    "\n",
    "for i in range(2,20+1,1):\n",
    "    print(f'#topic {i}.........')\n",
    "    step.append(i)\n",
    "    date_start = time.now()\n",
    "    \n",
    "    num_topics = i\n",
    "    model = artm.ARTM(num_topics=num_topics, dictionary=dictionary)\n",
    "    \n",
    "    # scores\n",
    "    model.scores.add(artm.PerplexityScore(name='PerplexityScore',dictionary=dictionary))\n",
    "    model.scores.add(artm.SparsityThetaScore(name='SparsityThetaScore'))\n",
    "    model.scores.add(artm.SparsityPhiScore(name='SparsityPhiScore'))\n",
    "\n",
    "    # regularizers\n",
    "    model.regularizers.add(artm.SmoothSparsePhiRegularizer(name='SparsePhi', tau=-0.1))\n",
    "    model.regularizers.add(artm.SmoothSparseThetaRegularizer(name='SparseTheta', tau=-0.5))\n",
    "    model.regularizers.add(artm.DecorrelatorPhiRegularizer(name='DecorrelatorPhi', tau=1.5e+5))\n",
    "    \n",
    "    model.fit_offline(batch_vectorizer=batch_vectorizer, num_collection_passes=50)\n",
    "    model_list.append(model)\n",
    "    \n",
    "    sparsityTheta = model.score_tracker['SparsityThetaScore'].last_value\n",
    "    sTheta.append(sparsityTheta)\n",
    "    sparsityPhi = model.score_tracker['SparsityPhiScore'].last_value\n",
    "    sPhi.append(sparsityPhi)\n",
    "    perpl = model.score_tracker['PerplexityScore'].last_value\n",
    "    perplexity.append(perpl)\n",
    "    \n",
    "    print(f'\\tSparsityThetaScore: {sparsityTheta}')\n",
    "    print(f'\\tSparsityPhiScore: {sparsityPhi}')\n",
    "    print(f'\\tPerplexityScore: {perpl}')\n",
    "    \n",
    "    print('\\ttime:',time.now()-date_start)\n",
    "    \n",
    "newTime = time.now() #"
   ]
  },
  {
   "cell_type": "code",
   "execution_count": 353,
   "metadata": {
    "ExecuteTime": {
     "end_time": "2019-02-01T11:39:38.983646Z",
     "start_time": "2019-02-01T11:39:38.931577Z"
    }
   },
   "outputs": [
    {
     "data": {
      "text/plain": [
       "[artm.ARTM(num_topics=2, num_tokens=21820),\n",
       " artm.ARTM(num_topics=3, num_tokens=21820),\n",
       " artm.ARTM(num_topics=4, num_tokens=21820),\n",
       " artm.ARTM(num_topics=5, num_tokens=21820),\n",
       " artm.ARTM(num_topics=6, num_tokens=21820),\n",
       " artm.ARTM(num_topics=7, num_tokens=21820),\n",
       " artm.ARTM(num_topics=8, num_tokens=21820),\n",
       " artm.ARTM(num_topics=9, num_tokens=21820),\n",
       " artm.ARTM(num_topics=10, num_tokens=21820),\n",
       " artm.ARTM(num_topics=11, num_tokens=21820),\n",
       " artm.ARTM(num_topics=12, num_tokens=21820),\n",
       " artm.ARTM(num_topics=13, num_tokens=21820),\n",
       " artm.ARTM(num_topics=14, num_tokens=21820),\n",
       " artm.ARTM(num_topics=15, num_tokens=21820),\n",
       " artm.ARTM(num_topics=16, num_tokens=21820),\n",
       " artm.ARTM(num_topics=17, num_tokens=21820),\n",
       " artm.ARTM(num_topics=18, num_tokens=21820),\n",
       " artm.ARTM(num_topics=19, num_tokens=21820),\n",
       " artm.ARTM(num_topics=20, num_tokens=21820)]"
      ]
     },
     "execution_count": 353,
     "metadata": {},
     "output_type": "execute_result"
    }
   ],
   "source": [
    "model_list"
   ]
  },
  {
   "cell_type": "code",
   "execution_count": 296,
   "metadata": {
    "ExecuteTime": {
     "end_time": "2019-02-01T10:49:15.597123Z",
     "start_time": "2019-02-01T10:49:14.872799Z"
    },
    "cell_style": "split"
   },
   "outputs": [
    {
     "data": {
      "text/plain": [
       "Text(0.5, 1.0, 'SparsityPhiScore')"
      ]
     },
     "execution_count": 296,
     "metadata": {},
     "output_type": "execute_result"
    },
    {
     "data": {
      "image/png": "[encoded data removed]",
      "text/plain": [
       "<Figure size 432x288 with 1 Axes>"
      ]
     },
     "metadata": {
      "needs_background": "light"
     },
     "output_type": "display_data"
    }
   ],
   "source": [
    "plt.plot(step, sPhi, color='k',linewidth=3, marker='x')\n",
    "ax = plt.gca()\n",
    "ax.set_xticks(step)\n",
    "plt.grid()\n",
    "plt.title('SparsityPhiScore')"
   ]
  },
  {
   "cell_type": "code",
   "execution_count": 422,
   "metadata": {
    "ExecuteTime": {
     "end_time": "2019-02-01T12:22:05.190658Z",
     "start_time": "2019-02-01T12:22:05.186177Z"
    },
    "cell_style": "split"
   },
   "outputs": [
    {
     "data": {
      "text/plain": [
       "[0.3, 0.4, 0.5, 0.6, 0.7, 0.8]"
      ]
     },
     "execution_count": 422,
     "metadata": {},
     "output_type": "execute_result"
    }
   ],
   "source": [
    "index_sphi = []\n",
    "[index_sphi.append(float(str(i)[:3]) ) for i in sPhi]\n",
    "    \n",
    "index_sphi = list(set(index_sphi))\n",
    "index_sphi.sort()\n",
    "index_sphi"
   ]
  },
  {
   "cell_type": "code",
   "execution_count": 423,
   "metadata": {
    "ExecuteTime": {
     "end_time": "2019-02-01T12:22:06.966699Z",
     "start_time": "2019-02-01T12:22:06.960676Z"
    },
    "cell_style": "split"
   },
   "outputs": [
    {
     "data": {
      "text/plain": [
       "{0.3: 1, 0.4: 1, 0.5: 2, 0.6: 4, 0.7: 6, 0.8: 5}"
      ]
     },
     "execution_count": 423,
     "metadata": {},
     "output_type": "execute_result"
    }
   ],
   "source": [
    "d_sphi = {}\n",
    "\n",
    "for j in range(len(index_sphi)):\n",
    "    k=0\n",
    "    for i in sPhi:\n",
    "        if j==range(len(index_sphi))[-1]:\n",
    "            if (i>=index_sphi[j]):\n",
    "                k+=1\n",
    "        else:\n",
    "            if (i>=index_sphi[j]) & (i<index_sphi[j+1]):\n",
    "                k+=1\n",
    "    d_sphi[index_sphi[j]]=k\n",
    "\n",
    "d_sphi"
   ]
  },
  {
   "cell_type": "code",
   "execution_count": 424,
   "metadata": {
    "ExecuteTime": {
     "end_time": "2019-02-01T12:22:10.209953Z",
     "start_time": "2019-02-01T12:22:09.948573Z"
    },
    "cell_style": "split",
    "scrolled": true
   },
   "outputs": [
    {
     "data": {
      "text/plain": [
       "Text(0.5, 1.0, 'SparsityThetaScore')"
      ]
     },
     "execution_count": 424,
     "metadata": {},
     "output_type": "execute_result"
    },
    {
     "data": {
      "image/png": "[encoded data removed]",
      "text/plain": [
       "<Figure size 432x288 with 1 Axes>"
      ]
     },
     "metadata": {
      "needs_background": "light"
     },
     "output_type": "display_data"
    }
   ],
   "source": [
    "plt.plot(step, sTheta, color='g',linewidth=3, marker='x')\n",
    "ax = plt.gca()\n",
    "ax.set_xticks(step)\n",
    "plt.grid()\n",
    "\n",
    "plt.title('SparsityThetaScore')"
   ]
  },
  {
   "cell_type": "code",
   "execution_count": 425,
   "metadata": {
    "ExecuteTime": {
     "end_time": "2019-02-01T12:22:11.665536Z",
     "start_time": "2019-02-01T12:22:11.660666Z"
    },
    "cell_style": "split"
   },
   "outputs": [
    {
     "data": {
      "text/plain": [
       "[0.1, 0.3, 0.4, 0.5, 0.6, 0.7]"
      ]
     },
     "execution_count": 425,
     "metadata": {},
     "output_type": "execute_result"
    }
   ],
   "source": [
    "index_theta = []\n",
    "[index_theta.append(float(str(i)[:3])) for i in sTheta]\n",
    "    \n",
    "index_theta = list(set(index_theta))\n",
    "index_theta.sort()\n",
    "index_theta"
   ]
  },
  {
   "cell_type": "code",
   "execution_count": 427,
   "metadata": {
    "ExecuteTime": {
     "end_time": "2019-02-01T12:22:20.893294Z",
     "start_time": "2019-02-01T12:22:20.887306Z"
    },
    "cell_style": "split"
   },
   "outputs": [
    {
     "data": {
      "text/plain": [
       "{0.1: 1, 0.3: 1, 0.4: 1, 0.5: 3, 0.6: 4, 0.7: 9}"
      ]
     },
     "execution_count": 427,
     "metadata": {},
     "output_type": "execute_result"
    }
   ],
   "source": [
    "d_stheta = {}\n",
    "\n",
    "for j in range(len(index_theta)):\n",
    "    k=0\n",
    "    for i in sTheta:\n",
    "        if j==range(len(index_theta))[-1]:\n",
    "            if (i>=index_theta[j]):\n",
    "                k+=1\n",
    "        else:\n",
    "            if (i>=index_theta[j]) & (i<index_theta[j+1]):\n",
    "                k+=1\n",
    "    d_stheta[index_theta[j]]=k\n",
    "\n",
    "d_stheta"
   ]
  },
  {
   "cell_type": "code",
   "execution_count": 428,
   "metadata": {
    "ExecuteTime": {
     "end_time": "2019-02-01T12:23:55.197794Z",
     "start_time": "2019-02-01T12:23:55.033902Z"
    },
    "cell_style": "split"
   },
   "outputs": [
    {
     "data": {
      "text/plain": [
       "Text(0.5, 1.0, 'PerplexityScore')"
      ]
     },
     "execution_count": 428,
     "metadata": {},
     "output_type": "execute_result"
    },
    {
     "data": {
      "image/png": "[encoded data removed]",
      "text/plain": [
       "<Figure size 432x288 with 1 Axes>"
      ]
     },
     "metadata": {
      "needs_background": "light"
     },
     "output_type": "display_data"
    }
   ],
   "source": [
    "plt.plot(step, perplexity, color='b',linewidth=3, marker='x')\n",
    "ax = plt.gca()\n",
    "ax.set_xticks(step)\n",
    "plt.grid()\n",
    "plt.title('PerplexityScore')"
   ]
  },
  {
   "cell_type": "code",
   "execution_count": 431,
   "metadata": {
    "ExecuteTime": {
     "end_time": "2019-02-01T12:24:38.787615Z",
     "start_time": "2019-02-01T12:24:38.784359Z"
    },
    "cell_style": "split"
   },
   "outputs": [
    {
     "data": {
      "text/plain": [
       "[3844.85546875,\n",
       " 3266.755126953125,\n",
       " 2883.92431640625,\n",
       " 2650.1103515625,\n",
       " 2466.820556640625,\n",
       " 2375.656494140625,\n",
       " 2227.826416015625,\n",
       " 2156.648193359375,\n",
       " 2080.157470703125,\n",
       " 1983.6279296875,\n",
       " 1909.3548583984375,\n",
       " 1833.3291015625,\n",
       " 1789.39990234375,\n",
       " 1748.635986328125,\n",
       " 1711.8211669921875,\n",
       " 1704.6588134765625,\n",
       " 1677.3221435546875,\n",
       " 1633.2545166015625,\n",
       " 1610.190185546875]"
      ]
     },
     "execution_count": 431,
     "metadata": {},
     "output_type": "execute_result"
    }
   ],
   "source": [
    "perplexity"
   ]
  },
  {
   "cell_type": "markdown",
   "metadata": {},
   "source": [
    "### select the best model"
   ]
  },
  {
   "cell_type": "code",
   "execution_count": 434,
   "metadata": {
    "ExecuteTime": {
     "end_time": "2019-02-03T11:50:09.381574Z",
     "start_time": "2019-02-03T11:50:09.376360Z"
    }
   },
   "outputs": [
    {
     "name": "stdout",
     "output_type": "stream",
     "text": [
      "20\n"
     ]
    }
   ],
   "source": [
    "select_topics = 20 # u should choose number of topic\n",
    "\n",
    "best_model = model_list[select_topics-2]\n",
    "print(best_model.num_topics)"
   ]
  },
  {
   "cell_type": "markdown",
   "metadata": {},
   "source": [
    "----"
   ]
  },
  {
   "cell_type": "code",
   "execution_count": 28,
   "metadata": {
    "ExecuteTime": {
     "end_time": "2019-03-12T21:58:46.725485Z",
     "start_time": "2019-03-12T21:57:45.724395Z"
    }
   },
   "outputs": [
    {
     "data": {
      "application/vnd.jupyter.widget-view+json": {
       "model_id": "50162c13f8f04f9a946c96b04550ef01",
       "version_major": 2,
       "version_minor": 0
      },
      "text/plain": [
       "HBox(children=(IntProgress(value=0, description='Pass', max=50, style=ProgressStyle(description_width='initial…"
      ]
     },
     "metadata": {},
     "output_type": "display_data"
    },
    {
     "data": {
      "application/vnd.jupyter.widget-view+json": {
       "model_id": "",
       "version_major": 2,
       "version_minor": 0
      },
      "text/plain": [
       "HBox(children=(IntProgress(value=0, description='Batch', max=61, style=ProgressStyle(description_width='initia…"
      ]
     },
     "metadata": {},
     "output_type": "display_data"
    },
    {
     "data": {
      "application/vnd.jupyter.widget-view+json": {
       "model_id": "",
       "version_major": 2,
       "version_minor": 0
      },
      "text/plain": [
       "HBox(children=(IntProgress(value=0, description='Batch', max=61, style=ProgressStyle(description_width='initia…"
      ]
     },
     "metadata": {},
     "output_type": "display_data"
    },
    {
     "data": {
      "application/vnd.jupyter.widget-view+json": {
       "model_id": "",
       "version_major": 2,
       "version_minor": 0
      },
      "text/plain": [
       "HBox(children=(IntProgress(value=0, description='Batch', max=61, style=ProgressStyle(description_width='initia…"
      ]
     },
     "metadata": {},
     "output_type": "display_data"
    },
    {
     "data": {
      "application/vnd.jupyter.widget-view+json": {
       "model_id": "",
       "version_major": 2,
       "version_minor": 0
      },
      "text/plain": [
       "HBox(children=(IntProgress(value=0, description='Batch', max=61, style=ProgressStyle(description_width='initia…"
      ]
     },
     "metadata": {},
     "output_type": "display_data"
    },
    {
     "data": {
      "application/vnd.jupyter.widget-view+json": {
       "model_id": "",
       "version_major": 2,
       "version_minor": 0
      },
      "text/plain": [
       "HBox(children=(IntProgress(value=0, description='Batch', max=61, style=ProgressStyle(description_width='initia…"
      ]
     },
     "metadata": {},
     "output_type": "display_data"
    },
    {
     "data": {
      "application/vnd.jupyter.widget-view+json": {
       "model_id": "",
       "version_major": 2,
       "version_minor": 0
      },
      "text/plain": [
       "HBox(children=(IntProgress(value=0, description='Batch', max=61, style=ProgressStyle(description_width='initia…"
      ]
     },
     "metadata": {},
     "output_type": "display_data"
    },
    {
     "data": {
      "application/vnd.jupyter.widget-view+json": {
       "model_id": "",
       "version_major": 2,
       "version_minor": 0
      },
      "text/plain": [
       "HBox(children=(IntProgress(value=0, description='Batch', max=61, style=ProgressStyle(description_width='initia…"
      ]
     },
     "metadata": {},
     "output_type": "display_data"
    },
    {
     "data": {
      "application/vnd.jupyter.widget-view+json": {
       "model_id": "",
       "version_major": 2,
       "version_minor": 0
      },
      "text/plain": [
       "HBox(children=(IntProgress(value=0, description='Batch', max=61, style=ProgressStyle(description_width='initia…"
      ]
     },
     "metadata": {},
     "output_type": "display_data"
    },
    {
     "data": {
      "application/vnd.jupyter.widget-view+json": {
       "model_id": "",
       "version_major": 2,
       "version_minor": 0
      },
      "text/plain": [
       "HBox(children=(IntProgress(value=0, description='Batch', max=61, style=ProgressStyle(description_width='initia…"
      ]
     },
     "metadata": {},
     "output_type": "display_data"
    },
    {
     "data": {
      "application/vnd.jupyter.widget-view+json": {
       "model_id": "",
       "version_major": 2,
       "version_minor": 0
      },
      "text/plain": [
       "HBox(children=(IntProgress(value=0, description='Batch', max=61, style=ProgressStyle(description_width='initia…"
      ]
     },
     "metadata": {},
     "output_type": "display_data"
    },
    {
     "data": {
      "application/vnd.jupyter.widget-view+json": {
       "model_id": "",
       "version_major": 2,
       "version_minor": 0
      },
      "text/plain": [
       "HBox(children=(IntProgress(value=0, description='Batch', max=61, style=ProgressStyle(description_width='initia…"
      ]
     },
     "metadata": {},
     "output_type": "display_data"
    },
    {
     "data": {
      "application/vnd.jupyter.widget-view+json": {
       "model_id": "",
       "version_major": 2,
       "version_minor": 0
      },
      "text/plain": [
       "HBox(children=(IntProgress(value=0, description='Batch', max=61, style=ProgressStyle(description_width='initia…"
      ]
     },
     "metadata": {},
     "output_type": "display_data"
    },
    {
     "data": {
      "application/vnd.jupyter.widget-view+json": {
       "model_id": "",
       "version_major": 2,
       "version_minor": 0
      },
      "text/plain": [
       "HBox(children=(IntProgress(value=0, description='Batch', max=61, style=ProgressStyle(description_width='initia…"
      ]
     },
     "metadata": {},
     "output_type": "display_data"
    },
    {
     "data": {
      "application/vnd.jupyter.widget-view+json": {
       "model_id": "",
       "version_major": 2,
       "version_minor": 0
      },
      "text/plain": [
       "HBox(children=(IntProgress(value=0, description='Batch', max=61, style=ProgressStyle(description_width='initia…"
      ]
     },
     "metadata": {},
     "output_type": "display_data"
    },
    {
     "data": {
      "application/vnd.jupyter.widget-view+json": {
       "model_id": "",
       "version_major": 2,
       "version_minor": 0
      },
      "text/plain": [
       "HBox(children=(IntProgress(value=0, description='Batch', max=61, style=ProgressStyle(description_width='initia…"
      ]
     },
     "metadata": {},
     "output_type": "display_data"
    },
    {
     "data": {
      "application/vnd.jupyter.widget-view+json": {
       "model_id": "",
       "version_major": 2,
       "version_minor": 0
      },
      "text/plain": [
       "HBox(children=(IntProgress(value=0, description='Batch', max=61, style=ProgressStyle(description_width='initia…"
      ]
     },
     "metadata": {},
     "output_type": "display_data"
    },
    {
     "data": {
      "application/vnd.jupyter.widget-view+json": {
       "model_id": "",
       "version_major": 2,
       "version_minor": 0
      },
      "text/plain": [
       "HBox(children=(IntProgress(value=0, description='Batch', max=61, style=ProgressStyle(description_width='initia…"
      ]
     },
     "metadata": {},
     "output_type": "display_data"
    },
    {
     "data": {
      "application/vnd.jupyter.widget-view+json": {
       "model_id": "",
       "version_major": 2,
       "version_minor": 0
      },
      "text/plain": [
       "HBox(children=(IntProgress(value=0, description='Batch', max=61, style=ProgressStyle(description_width='initia…"
      ]
     },
     "metadata": {},
     "output_type": "display_data"
    },
    {
     "data": {
      "application/vnd.jupyter.widget-view+json": {
       "model_id": "",
       "version_major": 2,
       "version_minor": 0
      },
      "text/plain": [
       "HBox(children=(IntProgress(value=0, description='Batch', max=61, style=ProgressStyle(description_width='initia…"
      ]
     },
     "metadata": {},
     "output_type": "display_data"
    },
    {
     "data": {
      "application/vnd.jupyter.widget-view+json": {
       "model_id": "",
       "version_major": 2,
       "version_minor": 0
      },
      "text/plain": [
       "HBox(children=(IntProgress(value=0, description='Batch', max=61, style=ProgressStyle(description_width='initia…"
      ]
     },
     "metadata": {},
     "output_type": "display_data"
    },
    {
     "data": {
      "application/vnd.jupyter.widget-view+json": {
       "model_id": "",
       "version_major": 2,
       "version_minor": 0
      },
      "text/plain": [
       "HBox(children=(IntProgress(value=0, description='Batch', max=61, style=ProgressStyle(description_width='initia…"
      ]
     },
     "metadata": {},
     "output_type": "display_data"
    },
    {
     "data": {
      "application/vnd.jupyter.widget-view+json": {
       "model_id": "",
       "version_major": 2,
       "version_minor": 0
      },
      "text/plain": [
       "HBox(children=(IntProgress(value=0, description='Batch', max=61, style=ProgressStyle(description_width='initia…"
      ]
     },
     "metadata": {},
     "output_type": "display_data"
    },
    {
     "data": {
      "application/vnd.jupyter.widget-view+json": {
       "model_id": "",
       "version_major": 2,
       "version_minor": 0
      },
      "text/plain": [
       "HBox(children=(IntProgress(value=0, description='Batch', max=61, style=ProgressStyle(description_width='initia…"
      ]
     },
     "metadata": {},
     "output_type": "display_data"
    },
    {
     "data": {
      "application/vnd.jupyter.widget-view+json": {
       "model_id": "",
       "version_major": 2,
       "version_minor": 0
      },
      "text/plain": [
       "HBox(children=(IntProgress(value=0, description='Batch', max=61, style=ProgressStyle(description_width='initia…"
      ]
     },
     "metadata": {},
     "output_type": "display_data"
    },
    {
     "data": {
      "application/vnd.jupyter.widget-view+json": {
       "model_id": "",
       "version_major": 2,
       "version_minor": 0
      },
      "text/plain": [
       "HBox(children=(IntProgress(value=0, description='Batch', max=61, style=ProgressStyle(description_width='initia…"
      ]
     },
     "metadata": {},
     "output_type": "display_data"
    },
    {
     "data": {
      "application/vnd.jupyter.widget-view+json": {
       "model_id": "",
       "version_major": 2,
       "version_minor": 0
      },
      "text/plain": [
       "HBox(children=(IntProgress(value=0, description='Batch', max=61, style=ProgressStyle(description_width='initia…"
      ]
     },
     "metadata": {},
     "output_type": "display_data"
    },
    {
     "data": {
      "application/vnd.jupyter.widget-view+json": {
       "model_id": "",
       "version_major": 2,
       "version_minor": 0
      },
      "text/plain": [
       "HBox(children=(IntProgress(value=0, description='Batch', max=61, style=ProgressStyle(description_width='initia…"
      ]
     },
     "metadata": {},
     "output_type": "display_data"
    },
    {
     "data": {
      "application/vnd.jupyter.widget-view+json": {
       "model_id": "",
       "version_major": 2,
       "version_minor": 0
      },
      "text/plain": [
       "HBox(children=(IntProgress(value=0, description='Batch', max=61, style=ProgressStyle(description_width='initia…"
      ]
     },
     "metadata": {},
     "output_type": "display_data"
    },
    {
     "data": {
      "application/vnd.jupyter.widget-view+json": {
       "model_id": "",
       "version_major": 2,
       "version_minor": 0
      },
      "text/plain": [
       "HBox(children=(IntProgress(value=0, description='Batch', max=61, style=ProgressStyle(description_width='initia…"
      ]
     },
     "metadata": {},
     "output_type": "display_data"
    },
    {
     "data": {
      "application/vnd.jupyter.widget-view+json": {
       "model_id": "",
       "version_major": 2,
       "version_minor": 0
      },
      "text/plain": [
       "HBox(children=(IntProgress(value=0, description='Batch', max=61, style=ProgressStyle(description_width='initia…"
      ]
     },
     "metadata": {},
     "output_type": "display_data"
    },
    {
     "data": {
      "application/vnd.jupyter.widget-view+json": {
       "model_id": "",
       "version_major": 2,
       "version_minor": 0
      },
      "text/plain": [
       "HBox(children=(IntProgress(value=0, description='Batch', max=61, style=ProgressStyle(description_width='initia…"
      ]
     },
     "metadata": {},
     "output_type": "display_data"
    },
    {
     "data": {
      "application/vnd.jupyter.widget-view+json": {
       "model_id": "",
       "version_major": 2,
       "version_minor": 0
      },
      "text/plain": [
       "HBox(children=(IntProgress(value=0, description='Batch', max=61, style=ProgressStyle(description_width='initia…"
      ]
     },
     "metadata": {},
     "output_type": "display_data"
    },
    {
     "data": {
      "application/vnd.jupyter.widget-view+json": {
       "model_id": "",
       "version_major": 2,
       "version_minor": 0
      },
      "text/plain": [
       "HBox(children=(IntProgress(value=0, description='Batch', max=61, style=ProgressStyle(description_width='initia…"
      ]
     },
     "metadata": {},
     "output_type": "display_data"
    },
    {
     "data": {
      "application/vnd.jupyter.widget-view+json": {
       "model_id": "",
       "version_major": 2,
       "version_minor": 0
      },
      "text/plain": [
       "HBox(children=(IntProgress(value=0, description='Batch', max=61, style=ProgressStyle(description_width='initia…"
      ]
     },
     "metadata": {},
     "output_type": "display_data"
    },
    {
     "data": {
      "application/vnd.jupyter.widget-view+json": {
       "model_id": "",
       "version_major": 2,
       "version_minor": 0
      },
      "text/plain": [
       "HBox(children=(IntProgress(value=0, description='Batch', max=61, style=ProgressStyle(description_width='initia…"
      ]
     },
     "metadata": {},
     "output_type": "display_data"
    },
    {
     "data": {
      "application/vnd.jupyter.widget-view+json": {
       "model_id": "",
       "version_major": 2,
       "version_minor": 0
      },
      "text/plain": [
       "HBox(children=(IntProgress(value=0, description='Batch', max=61, style=ProgressStyle(description_width='initia…"
      ]
     },
     "metadata": {},
     "output_type": "display_data"
    },
    {
     "data": {
      "application/vnd.jupyter.widget-view+json": {
       "model_id": "",
       "version_major": 2,
       "version_minor": 0
      },
      "text/plain": [
       "HBox(children=(IntProgress(value=0, description='Batch', max=61, style=ProgressStyle(description_width='initia…"
      ]
     },
     "metadata": {},
     "output_type": "display_data"
    },
    {
     "data": {
      "application/vnd.jupyter.widget-view+json": {
       "model_id": "",
       "version_major": 2,
       "version_minor": 0
      },
      "text/plain": [
       "HBox(children=(IntProgress(value=0, description='Batch', max=61, style=ProgressStyle(description_width='initia…"
      ]
     },
     "metadata": {},
     "output_type": "display_data"
    },
    {
     "data": {
      "application/vnd.jupyter.widget-view+json": {
       "model_id": "",
       "version_major": 2,
       "version_minor": 0
      },
      "text/plain": [
       "HBox(children=(IntProgress(value=0, description='Batch', max=61, style=ProgressStyle(description_width='initia…"
      ]
     },
     "metadata": {},
     "output_type": "display_data"
    },
    {
     "data": {
      "application/vnd.jupyter.widget-view+json": {
       "model_id": "",
       "version_major": 2,
       "version_minor": 0
      },
      "text/plain": [
       "HBox(children=(IntProgress(value=0, description='Batch', max=61, style=ProgressStyle(description_width='initia…"
      ]
     },
     "metadata": {},
     "output_type": "display_data"
    },
    {
     "data": {
      "application/vnd.jupyter.widget-view+json": {
       "model_id": "",
       "version_major": 2,
       "version_minor": 0
      },
      "text/plain": [
       "HBox(children=(IntProgress(value=0, description='Batch', max=61, style=ProgressStyle(description_width='initia…"
      ]
     },
     "metadata": {},
     "output_type": "display_data"
    },
    {
     "data": {
      "application/vnd.jupyter.widget-view+json": {
       "model_id": "",
       "version_major": 2,
       "version_minor": 0
      },
      "text/plain": [
       "HBox(children=(IntProgress(value=0, description='Batch', max=61, style=ProgressStyle(description_width='initia…"
      ]
     },
     "metadata": {},
     "output_type": "display_data"
    },
    {
     "data": {
      "application/vnd.jupyter.widget-view+json": {
       "model_id": "",
       "version_major": 2,
       "version_minor": 0
      },
      "text/plain": [
       "HBox(children=(IntProgress(value=0, description='Batch', max=61, style=ProgressStyle(description_width='initia…"
      ]
     },
     "metadata": {},
     "output_type": "display_data"
    },
    {
     "data": {
      "application/vnd.jupyter.widget-view+json": {
       "model_id": "",
       "version_major": 2,
       "version_minor": 0
      },
      "text/plain": [
       "HBox(children=(IntProgress(value=0, description='Batch', max=61, style=ProgressStyle(description_width='initia…"
      ]
     },
     "metadata": {},
     "output_type": "display_data"
    },
    {
     "data": {
      "application/vnd.jupyter.widget-view+json": {
       "model_id": "",
       "version_major": 2,
       "version_minor": 0
      },
      "text/plain": [
       "HBox(children=(IntProgress(value=0, description='Batch', max=61, style=ProgressStyle(description_width='initia…"
      ]
     },
     "metadata": {},
     "output_type": "display_data"
    },
    {
     "data": {
      "application/vnd.jupyter.widget-view+json": {
       "model_id": "",
       "version_major": 2,
       "version_minor": 0
      },
      "text/plain": [
       "HBox(children=(IntProgress(value=0, description='Batch', max=61, style=ProgressStyle(description_width='initia…"
      ]
     },
     "metadata": {},
     "output_type": "display_data"
    },
    {
     "data": {
      "application/vnd.jupyter.widget-view+json": {
       "model_id": "",
       "version_major": 2,
       "version_minor": 0
      },
      "text/plain": [
       "HBox(children=(IntProgress(value=0, description='Batch', max=61, style=ProgressStyle(description_width='initia…"
      ]
     },
     "metadata": {},
     "output_type": "display_data"
    },
    {
     "data": {
      "application/vnd.jupyter.widget-view+json": {
       "model_id": "",
       "version_major": 2,
       "version_minor": 0
      },
      "text/plain": [
       "HBox(children=(IntProgress(value=0, description='Batch', max=61, style=ProgressStyle(description_width='initia…"
      ]
     },
     "metadata": {},
     "output_type": "display_data"
    },
    {
     "data": {
      "application/vnd.jupyter.widget-view+json": {
       "model_id": "",
       "version_major": 2,
       "version_minor": 0
      },
      "text/plain": [
       "HBox(children=(IntProgress(value=0, description='Batch', max=61, style=ProgressStyle(description_width='initia…"
      ]
     },
     "metadata": {},
     "output_type": "display_data"
    },
    {
     "data": {
      "application/vnd.jupyter.widget-view+json": {
       "model_id": "",
       "version_major": 2,
       "version_minor": 0
      },
      "text/plain": [
       "HBox(children=(IntProgress(value=0, description='Batch', max=61, style=ProgressStyle(description_width='initia…"
      ]
     },
     "metadata": {},
     "output_type": "display_data"
    },
    {
     "name": "stdout",
     "output_type": "stream",
     "text": [
      "\n",
      "\tSparsityThetaScore: 0.7789199352264404\n",
      "\tSparsityPhiScore: 0.8280255794525146\n",
      "\tPerplexityScore: 1577.3592529296875\n"
     ]
    }
   ],
   "source": [
    "select_topics = 20\n",
    "\n",
    "model = artm.ARTM(num_topics=select_topics, dictionary=dictionary, show_progress_bars=True)\n",
    "\n",
    "# scores\n",
    "model.scores.add(artm.PerplexityScore(name='PerplexityScore',dictionary=dictionary))\n",
    "model.scores.add(artm.SparsityThetaScore(name='SparsityThetaScore'))\n",
    "model.scores.add(artm.SparsityPhiScore(name='SparsityPhiScore'))\n",
    "\n",
    "# regularizers\n",
    "model.regularizers.add(artm.SmoothSparsePhiRegularizer(name='SparsePhi', tau=-0.1))\n",
    "model.regularizers.add(artm.SmoothSparseThetaRegularizer(name='SparseTheta', tau=-0.5))\n",
    "model.regularizers.add(artm.DecorrelatorPhiRegularizer(name='DecorrelatorPhi', tau=1.5e+5))\n",
    "\n",
    "model.fit_offline(batch_vectorizer=batch_vectorizer, num_collection_passes=50)\n",
    "\n",
    "sparsityTheta = model.score_tracker['SparsityThetaScore'].last_value\n",
    "sparsityPhi = model.score_tracker['SparsityPhiScore'].last_value\n",
    "perpl = model.score_tracker['PerplexityScore'].last_value\n",
    "\n",
    "print(f'\\tSparsityThetaScore: {sparsityTheta}')\n",
    "print(f'\\tSparsityPhiScore: {sparsityPhi}')\n",
    "print(f'\\tPerplexityScore: {perpl}')\n",
    "\n",
    "best_model = model.clone()"
   ]
  },
  {
   "cell_type": "code",
   "execution_count": null,
   "metadata": {},
   "outputs": [],
   "source": []
  },
  {
   "cell_type": "code",
   "execution_count": null,
   "metadata": {},
   "outputs": [],
   "source": []
  },
  {
   "cell_type": "code",
   "execution_count": null,
   "metadata": {
    "ExecuteTime": {
     "end_time": "2019-03-12T21:59:56.083797Z",
     "start_time": "2019-03-12T21:59:56.030182Z"
    }
   },
   "outputs": [],
   "source": []
  },
  {
   "cell_type": "markdown",
   "metadata": {},
   "source": [
    "---"
   ]
  },
  {
   "cell_type": "markdown",
   "metadata": {
    "ExecuteTime": {
     "end_time": "2019-02-01T00:14:02.339878Z",
     "start_time": "2019-02-01T00:14:02.338133Z"
    }
   },
   "source": [
    "### print top words for each topics"
   ]
  },
  {
   "cell_type": "code",
   "execution_count": 30,
   "metadata": {
    "ExecuteTime": {
     "end_time": "2019-03-12T22:00:11.136021Z",
     "start_time": "2019-03-12T22:00:10.918987Z"
    }
   },
   "outputs": [
    {
     "name": "stdout",
     "output_type": "stream",
     "text": [
      "topic_0: ['спартак' 'цска' 'зенит' 'локомотив' 'динамо' 'полузащитник' 'рубин'\n",
      " 'армеец' 'премьерлига' 'москва']\n",
      "topic_1: ['челси' 'манчестер' 'английский' 'англия' 'миллион' 'юнайтед'\n",
      " 'лондонский' 'евро' 'милан' 'арсенал']\n",
      "topic_2: ['германия' 'отборочный' 'евро' 'франция' 'групповой' 'чм' 'этап'\n",
      " 'португалия' 'италия' 'англия']\n",
      "topic_3: ['нхл' 'шайба' 'передача' 'нба' 'забросить' 'серия' 'регулярный'\n",
      " 'вашингтон' 'результативный' 'очко']\n",
      "topic_4: ['реал' 'барселона' 'испания' 'испанский' 'мадридский' 'бразилия'\n",
      " 'бавария' 'бразильский' 'бразилец' 'аргентина']\n",
      "topic_5: ['миллион' 'доллар' 'тысяча' 'стадион' 'украина' 'сумма' 'рубль' 'деньга'\n",
      " 'украинский' 'москва']\n",
      "topic_6: ['бывший' 'автомобиль' 'дом' 'смерть' 'twitter' 'скончаться' 'произойти'\n",
      " 'ребёнок' 'жизнь' 'видео']\n",
      "topic_7: ['хоккей' 'кхл' 'хоккеист' 'хоккейный' 'шайба' 'период' 'металлург' 'ска'\n",
      " 'авангард' 'забросить']\n",
      "topic_8: ['болельщик' 'фанат' 'арбитр' 'стадион' 'инцидент' 'произойти' 'судья'\n",
      " 'тысяча' 'драка' 'билет']\n",
      "topic_9: ['гонка' 'этап' 'секунда' 'биатлонист' 'километр' 'промах' 'биатлон'\n",
      " 'эстафета' 'дистанция' 'женский']\n",
      "topic_10: ['бой' 'поединок' 'боксёр' 'титул' 'боксёрский' 'версия' 'вес' 'нокаут'\n",
      " 'американец' 'всемирный']\n",
      "topic_11: ['очень' 'хотеть' 'подчеркнуть' 'добавить' 'интервью' 'приводить' 'мнение'\n",
      " 'просто' 'думать' 'нужно']\n",
      "topic_12: ['рфс' 'комитет' 'глава' 'союз' 'проведение' 'министр' 'фифа' 'олимпиада'\n",
      " 'исполком' 'виталий_мутко']\n",
      "topic_13: ['теннисистка' 'россиянка' 'сет' 'круг' 'теннисист' 'рейтинг' 'ракетка'\n",
      " 'полуфинал' 'open' 'шарапов']\n",
      "topic_14: ['руководство' 'пост' 'наставник' 'подписать' 'информация' 'новый'\n",
      " 'специалист' 'соглашение' 'отставка' 'бывший']\n",
      "topic_15: ['ворот' 'тайм' 'удар' 'преимущество' 'пенальти' 'хозяин' 'отличиться'\n",
      " 'ворота' 'открыть' 'гость']\n",
      "topic_16: ['медаль' 'олимпиада' 'золотой' 'завоевать' 'бронзовый' 'метр'\n",
      " 'серебряный' 'спортсменка' 'программа' 'награда']\n",
      "topic_17: ['антидопинговый' 'допинг' 'запретить' 'wada' 'агентство'\n",
      " 'дисквалификация' 'препарат' 'отстранить' 'допингпроба' 'комитет']\n",
      "topic_18: ['партия' 'формула' 'пилот' 'гонка' 'гранпереть' 'шахматы' 'гонщик'\n",
      " 'гроссмейстер' 'фиде' 'очко']\n",
      "topic_19: ['травма' 'врач' 'пропустить' 'тренировка' 'операция' 'боец' 'колено'\n",
      " 'нога' 'больница' 'смешанный']\n"
     ]
    }
   ],
   "source": [
    "phi = best_model.get_phi()\n",
    "phi['word'] = phi.index\n",
    "#phi.head()\n",
    "\n",
    "for col in phi.columns:\n",
    "    if col != 'word':\n",
    "        print(f\"{col}: {phi[[col, 'word']].sort_values(by=col, ascending=False)['word'].values[:10]}\")\n",
    "        #print('\\t',phi[[col, 'word']].sort_values(by=col, ascending=False)['word'].values[:10])"
   ]
  },
  {
   "cell_type": "code",
   "execution_count": 42,
   "metadata": {
    "ExecuteTime": {
     "end_time": "2019-03-24T10:59:08.025608Z",
     "start_time": "2019-03-24T10:59:07.797015Z"
    }
   },
   "outputs": [],
   "source": [
    "# save to json\n",
    "\n",
    "outjson = {}\n",
    "# ---\n",
    "phi = best_model.get_phi()\n",
    "phi['word'] = phi.index\n",
    "#phi.head()\n",
    "\n",
    "for col in phi.columns:\n",
    "    if col != 'word':\n",
    "        #print(f\"{col}: {phi[[col, 'word']].sort_values(by=col, ascending=False)['word'].values[:10]}\")\n",
    "        #print('\\t',phi[[col, 'word']].sort_values(by=col, ascending=False)['word'].values[:10])\n",
    "        outjson[f'{col}'] = phi[[col, 'word']].sort_values(by=col, ascending=False)['word'].values[:20]"
   ]
  },
  {
   "cell_type": "code",
   "execution_count": 43,
   "metadata": {
    "ExecuteTime": {
     "end_time": "2019-03-24T10:59:11.905463Z",
     "start_time": "2019-03-24T10:59:11.901296Z"
    }
   },
   "outputs": [],
   "source": [
    "import pickle\n",
    "\n",
    "with open(f'''data/top20word/{'-'.join(name_dataset.split('.'))}.pickle''', 'wb') as handle:\n",
    "    pickle.dump(outjson, handle, protocol=pickle.HIGHEST_PROTOCOL)"
   ]
  },
  {
   "cell_type": "code",
   "execution_count": 44,
   "metadata": {
    "ExecuteTime": {
     "end_time": "2019-03-24T10:59:15.256724Z",
     "start_time": "2019-03-24T10:59:15.249569Z"
    }
   },
   "outputs": [
    {
     "data": {
      "text/plain": [
       "{'topic_0': array(['спартак', 'цска', 'зенит', 'локомотив', 'динамо', 'полузащитник',\n",
       "        'рубин', 'армеец', 'премьерлига', 'москва', 'анжи', 'питерский',\n",
       "        'таблица', 'го', 'ростов', 'крыло', 'терек', 'турнирный', 'пол',\n",
       "        'совет'], dtype=object),\n",
       " 'topic_1': array(['челси', 'манчестер', 'английский', 'англия', 'миллион', 'юнайтед',\n",
       "        'лондонский', 'евро', 'милан', 'арсенал', 'итальянский', 'италия',\n",
       "        'полузащитник', 'интер', 'ливерпуль', 'ювентус', 'сити', 'фунт',\n",
       "        'перейти', 'мю'], dtype=object),\n",
       " 'topic_2': array(['германия', 'отборочный', 'евро', 'франция', 'групповой', 'чм',\n",
       "        'этап', 'португалия', 'италия', 'англия', 'товарищеский',\n",
       "        'хорватия', 'испания', 'уефа', 'финальный', 'фифа', 'рейтинг',\n",
       "        'попасть', 'греция', 'европейский'], dtype=object),\n",
       " 'topic_3': array(['нхл', 'шайба', 'передача', 'нба', 'забросить', 'серия',\n",
       "        'регулярный', 'вашингтон', 'результативный', 'очко', 'ночь',\n",
       "        'хоккеист', 'питтсбург', 'детройт', 'баскетболист', 'бросок',\n",
       "        'плейофф', 'стэнли', 'ньюйорк', 'конференция'], dtype=object),\n",
       " 'topic_4': array(['реал', 'барселона', 'испания', 'испанский', 'мадридский',\n",
       "        'бразилия', 'бавария', 'бразильский', 'бразилец', 'аргентина',\n",
       "        'полузащитник', 'роналда', 'аргентинец', 'атлетико', 'испанец',\n",
       "        'криштиан_роналд', 'португалец', 'немецкий', 'месси',\n",
       "        'аргентинский'], dtype=object),\n",
       " 'topic_5': array(['миллион', 'доллар', 'тысяча', 'стадион', 'украина', 'сумма',\n",
       "        'рубль', 'деньга', 'украинский', 'москва', 'зарплата', 'около',\n",
       "        'спортивный', 'финансовый', 'новый', 'динамо', 'составлять',\n",
       "        'продажа', 'акция', 'арен'], dtype=object),\n",
       " 'topic_6': array(['бывший', 'автомобиль', 'дом', 'смерть', 'twitter', 'скончаться',\n",
       "        'произойти', 'ребёнок', 'жизнь', 'видео', 'машина', 'появиться',\n",
       "        'жена', 'опубликовать', 'девушка', 'написать', 'аккаунт',\n",
       "        'умереть', 'страница', 'информация'], dtype=object),\n",
       " 'topic_7': array(['хоккей', 'кхл', 'хоккеист', 'хоккейный', 'шайба', 'период',\n",
       "        'металлург', 'ска', 'авангард', 'забросить', 'серия', 'динамо',\n",
       "        'финляндия', 'барс', 'ак', 'канада', 'швеция', 'салават', 'чехия',\n",
       "        'вратарь'], dtype=object),\n",
       " 'topic_8': array(['болельщик', 'фанат', 'арбитр', 'стадион', 'инцидент', 'произойти',\n",
       "        'судья', 'тысяча', 'драка', 'билет', 'поведение', 'пол', 'трибуна',\n",
       "        'оштрафовать', 'уефа', 'задержать', 'штраф', 'дисквалифицировать',\n",
       "        'наказать', 'сотрудник'], dtype=object),\n",
       " 'topic_9': array(['гонка', 'этап', 'секунда', 'биатлонист', 'километр', 'промах',\n",
       "        'биатлон', 'эстафета', 'дистанция', 'женский', 'медаль', 'мужской',\n",
       "        'допустить', 'общий', 'спринт', 'спортсменка', 'биатлонистка',\n",
       "        'лыжный', 'зачёт', 'финишировать'], dtype=object),\n",
       " 'topic_10': array(['бой', 'поединок', 'боксёр', 'титул', 'боксёрский', 'версия',\n",
       "        'вес', 'нокаут', 'американец', 'всемирный', 'ринг', 'кличко',\n",
       "        'бокс', 'килограмм', 'wba', 'раунд', 'украинец', 'wbc',\n",
       "        'профессиональный', 'категория'], dtype=object),\n",
       " 'topic_11': array(['очень', 'хотеть', 'подчеркнуть', 'добавить', 'интервью',\n",
       "        'приводить', 'мнение', 'просто', 'думать', 'нужно', 'журналист',\n",
       "        'вопрос', 'болельщик', 'признаться', 'спортивный', 'телеканал',\n",
       "        'делать', 'канал', 'уровень', 'выразить'], dtype=object),\n",
       " 'topic_12': array(['рфс', 'комитет', 'глава', 'союз', 'проведение', 'министр', 'фифа',\n",
       "        'олимпиада', 'исполком', 'виталий_мутко', 'спортивный', 'право',\n",
       "        'член', 'вопрос', 'мокнуть', 'мутко', 'заседание', 'ассоциация',\n",
       "        'совет', 'выбор'], dtype=object),\n",
       " 'topic_13': array(['теннисистка', 'россиянка', 'сет', 'круг', 'теннисист', 'рейтинг',\n",
       "        'ракетка', 'полуфинал', 'open', 'шарапов', 'открытый', 'женский',\n",
       "        'теннисный', 'теннис', 'wta', 'сша', 'мария_шарапов', 'подача',\n",
       "        'ассоциация', 'американка'], dtype=object),\n",
       " 'topic_14': array(['руководство', 'пост', 'наставник', 'подписать', 'информация',\n",
       "        'новый', 'специалист', 'соглашение', 'отставка', 'бывший',\n",
       "        'главное', 'возглавить', 'покинуть', 'карьер', 'объявить',\n",
       "        'директор', 'тренерский', 'переговоры', 'писать', 'уход'],\n",
       "       dtype=object),\n",
       " 'topic_15': array(['ворот', 'тайм', 'удар', 'преимущество', 'пенальти', 'хозяин',\n",
       "        'отличиться', 'ворота', 'открыть', 'гость', 'штрафной', 'вратарь',\n",
       "        'момент', 'реализовать', 'суметь', 'голкипер', 'удаться',\n",
       "        'сравнять', 'вперёд', 'атака'], dtype=object),\n",
       " 'topic_16': array(['медаль', 'олимпиада', 'золотой', 'завоевать', 'бронзовый', 'метр',\n",
       "        'серебряный', 'спортсменка', 'программа', 'награда', 'призёр',\n",
       "        'чемпионка', 'балл', 'катание', 'золото', 'рекорд', 'мировой',\n",
       "        'первенство', 'дистанция', 'россиянка'], dtype=object),\n",
       " 'topic_17': array(['антидопинговый', 'допинг', 'запретить', 'wada', 'агентство',\n",
       "        'дисквалификация', 'препарат', 'отстранить', 'допингпроба',\n",
       "        'комитет', 'расследование', 'употребление', 'дисквалифицировать',\n",
       "        'мокнуть', 'комиссия', 'фифа', 'всемирный', 'применение',\n",
       "        'положительный', 'нарушение'], dtype=object),\n",
       " 'topic_18': array(['партия', 'формула', 'пилот', 'гонка', 'гранпереть', 'шахматы',\n",
       "        'гонщик', 'гроссмейстер', 'фиде', 'очко', 'шахматный',\n",
       "        'михаэль_шумахер', 'ход', 'победитель', 'шумахер', 'крамник',\n",
       "        'ferrari', 'машина', 'квалификация', 'круг'], dtype=object),\n",
       " 'topic_19': array(['травма', 'врач', 'пропустить', 'тренировка', 'операция', 'боец',\n",
       "        'колено', 'нога', 'больница', 'смешанный', 'вернуться', 'ufc',\n",
       "        'повреждение', 'неделя', 'левый', 'месяц', 'медицинский',\n",
       "        'состояние', 'серьёзный', 'емельяненко'], dtype=object)}"
      ]
     },
     "execution_count": 44,
     "metadata": {},
     "output_type": "execute_result"
    }
   ],
   "source": [
    "with open(f'''data/top20word/{'-'.join(name_dataset.split('.'))}.pickle''', 'rb') as handle:\n",
    "    out_picle = pickle.load(handle)\n",
    "    \n",
    "out_picle"
   ]
  },
  {
   "cell_type": "markdown",
   "metadata": {},
   "source": [
    "### get topics-docs matrix"
   ]
  },
  {
   "cell_type": "code",
   "execution_count": 31,
   "metadata": {
    "ExecuteTime": {
     "end_time": "2019-03-12T22:00:19.700033Z",
     "start_time": "2019-03-12T22:00:18.226850Z"
    }
   },
   "outputs": [
    {
     "data": {
      "application/vnd.jupyter.widget-view+json": {
       "model_id": "",
       "version_major": 2,
       "version_minor": 0
      },
      "text/plain": [
       "HBox(children=(IntProgress(value=0, description='Batch', max=61, style=ProgressStyle(description_width='initia…"
      ]
     },
     "metadata": {},
     "output_type": "display_data"
    },
    {
     "name": "stdout",
     "output_type": "stream",
     "text": [
      "\r",
      "shape theta: (20, 60849)\n"
     ]
    },
    {
     "data": {
      "image/png": "[encoded data removed]",
      "text/plain": [
       "<Figure size 1440x1440 with 1 Axes>"
      ]
     },
     "metadata": {
      "needs_background": "light"
     },
     "output_type": "display_data"
    }
   ],
   "source": [
    "theta = best_model.transform_sparse(batch_vectorizer=batch_vectorizer, eps=0.001)\n",
    "print(f'shape theta: {theta[0].shape}')\n",
    "\n",
    "plt.figure(figsize=(20, 20))\n",
    "plt.imshow(theta[0][:, 2000:2500].toarray());"
   ]
  },
  {
   "cell_type": "code",
   "execution_count": null,
   "metadata": {},
   "outputs": [],
   "source": []
  },
  {
   "cell_type": "markdown",
   "metadata": {},
   "source": [
    "### dense theta matrix"
   ]
  },
  {
   "cell_type": "code",
   "execution_count": 32,
   "metadata": {
    "ExecuteTime": {
     "end_time": "2019-03-12T22:00:23.382806Z",
     "start_time": "2019-03-12T22:00:22.594944Z"
    }
   },
   "outputs": [
    {
     "data": {
      "application/vnd.jupyter.widget-view+json": {
       "model_id": "",
       "version_major": 2,
       "version_minor": 0
      },
      "text/plain": [
       "HBox(children=(IntProgress(value=0, description='Batch', max=61, style=ProgressStyle(description_width='initia…"
      ]
     },
     "metadata": {},
     "output_type": "display_data"
    },
    {
     "name": "stdout",
     "output_type": "stream",
     "text": [
      "\r"
     ]
    },
    {
     "data": {
      "text/html": [
       "<div>\n",
       "<style scoped>\n",
       "    .dataframe tbody tr th:only-of-type {\n",
       "        vertical-align: middle;\n",
       "    }\n",
       "\n",
       "    .dataframe tbody tr th {\n",
       "        vertical-align: top;\n",
       "    }\n",
       "\n",
       "    .dataframe thead th {\n",
       "        text-align: right;\n",
       "    }\n",
       "</style>\n",
       "<table border=\"1\" class=\"dataframe\">\n",
       "  <thead>\n",
       "    <tr style=\"text-align: right;\">\n",
       "      <th></th>\n",
       "      <th>topic_0</th>\n",
       "      <th>topic_1</th>\n",
       "      <th>topic_2</th>\n",
       "      <th>topic_3</th>\n",
       "      <th>topic_4</th>\n",
       "      <th>topic_5</th>\n",
       "      <th>topic_6</th>\n",
       "      <th>topic_7</th>\n",
       "      <th>topic_8</th>\n",
       "      <th>topic_9</th>\n",
       "      <th>topic_10</th>\n",
       "      <th>topic_11</th>\n",
       "      <th>topic_12</th>\n",
       "      <th>topic_13</th>\n",
       "      <th>topic_14</th>\n",
       "      <th>topic_15</th>\n",
       "      <th>topic_16</th>\n",
       "      <th>topic_17</th>\n",
       "      <th>topic_18</th>\n",
       "      <th>topic_19</th>\n",
       "    </tr>\n",
       "  </thead>\n",
       "  <tbody>\n",
       "    <tr>\n",
       "      <th>43000</th>\n",
       "      <td>0.0</td>\n",
       "      <td>0.0</td>\n",
       "      <td>0.03637</td>\n",
       "      <td>0.000000</td>\n",
       "      <td>0.0</td>\n",
       "      <td>0.000000</td>\n",
       "      <td>0.000000</td>\n",
       "      <td>0.000000</td>\n",
       "      <td>0.000000</td>\n",
       "      <td>0.0</td>\n",
       "      <td>0.0</td>\n",
       "      <td>0.000000</td>\n",
       "      <td>0.467547</td>\n",
       "      <td>0.0</td>\n",
       "      <td>0.000000</td>\n",
       "      <td>0.0</td>\n",
       "      <td>0.0</td>\n",
       "      <td>0.496084</td>\n",
       "      <td>0.0</td>\n",
       "      <td>0.0</td>\n",
       "    </tr>\n",
       "    <tr>\n",
       "      <th>43001</th>\n",
       "      <td>0.0</td>\n",
       "      <td>0.0</td>\n",
       "      <td>0.03711</td>\n",
       "      <td>0.000000</td>\n",
       "      <td>0.0</td>\n",
       "      <td>0.024783</td>\n",
       "      <td>0.000000</td>\n",
       "      <td>0.000000</td>\n",
       "      <td>0.000000</td>\n",
       "      <td>0.0</td>\n",
       "      <td>0.0</td>\n",
       "      <td>0.000000</td>\n",
       "      <td>0.412463</td>\n",
       "      <td>0.0</td>\n",
       "      <td>0.000000</td>\n",
       "      <td>0.0</td>\n",
       "      <td>0.0</td>\n",
       "      <td>0.525644</td>\n",
       "      <td>0.0</td>\n",
       "      <td>0.0</td>\n",
       "    </tr>\n",
       "    <tr>\n",
       "      <th>43002</th>\n",
       "      <td>0.0</td>\n",
       "      <td>0.0</td>\n",
       "      <td>0.00000</td>\n",
       "      <td>0.000000</td>\n",
       "      <td>0.0</td>\n",
       "      <td>0.000000</td>\n",
       "      <td>0.181270</td>\n",
       "      <td>0.000000</td>\n",
       "      <td>0.033308</td>\n",
       "      <td>0.0</td>\n",
       "      <td>0.0</td>\n",
       "      <td>0.000000</td>\n",
       "      <td>0.520376</td>\n",
       "      <td>0.0</td>\n",
       "      <td>0.000000</td>\n",
       "      <td>0.0</td>\n",
       "      <td>0.0</td>\n",
       "      <td>0.265046</td>\n",
       "      <td>0.0</td>\n",
       "      <td>0.0</td>\n",
       "    </tr>\n",
       "    <tr>\n",
       "      <th>43003</th>\n",
       "      <td>0.0</td>\n",
       "      <td>0.0</td>\n",
       "      <td>0.00000</td>\n",
       "      <td>0.000000</td>\n",
       "      <td>0.0</td>\n",
       "      <td>0.000000</td>\n",
       "      <td>0.027357</td>\n",
       "      <td>0.000000</td>\n",
       "      <td>0.000000</td>\n",
       "      <td>0.0</td>\n",
       "      <td>0.0</td>\n",
       "      <td>0.000000</td>\n",
       "      <td>0.550709</td>\n",
       "      <td>0.0</td>\n",
       "      <td>0.000000</td>\n",
       "      <td>0.0</td>\n",
       "      <td>0.0</td>\n",
       "      <td>0.421934</td>\n",
       "      <td>0.0</td>\n",
       "      <td>0.0</td>\n",
       "    </tr>\n",
       "    <tr>\n",
       "      <th>43004</th>\n",
       "      <td>0.0</td>\n",
       "      <td>0.0</td>\n",
       "      <td>0.00000</td>\n",
       "      <td>0.124008</td>\n",
       "      <td>0.0</td>\n",
       "      <td>0.162798</td>\n",
       "      <td>0.000000</td>\n",
       "      <td>0.262177</td>\n",
       "      <td>0.000000</td>\n",
       "      <td>0.0</td>\n",
       "      <td>0.0</td>\n",
       "      <td>0.135844</td>\n",
       "      <td>0.000000</td>\n",
       "      <td>0.0</td>\n",
       "      <td>0.315174</td>\n",
       "      <td>0.0</td>\n",
       "      <td>0.0</td>\n",
       "      <td>0.000000</td>\n",
       "      <td>0.0</td>\n",
       "      <td>0.0</td>\n",
       "    </tr>\n",
       "  </tbody>\n",
       "</table>\n",
       "</div>"
      ],
      "text/plain": [
       "       topic_0  topic_1  topic_2   topic_3  topic_4   topic_5   topic_6  \\\n",
       "43000      0.0      0.0  0.03637  0.000000      0.0  0.000000  0.000000   \n",
       "43001      0.0      0.0  0.03711  0.000000      0.0  0.024783  0.000000   \n",
       "43002      0.0      0.0  0.00000  0.000000      0.0  0.000000  0.181270   \n",
       "43003      0.0      0.0  0.00000  0.000000      0.0  0.000000  0.027357   \n",
       "43004      0.0      0.0  0.00000  0.124008      0.0  0.162798  0.000000   \n",
       "\n",
       "        topic_7   topic_8  topic_9  topic_10  topic_11  topic_12  topic_13  \\\n",
       "43000  0.000000  0.000000      0.0       0.0  0.000000  0.467547       0.0   \n",
       "43001  0.000000  0.000000      0.0       0.0  0.000000  0.412463       0.0   \n",
       "43002  0.000000  0.033308      0.0       0.0  0.000000  0.520376       0.0   \n",
       "43003  0.000000  0.000000      0.0       0.0  0.000000  0.550709       0.0   \n",
       "43004  0.262177  0.000000      0.0       0.0  0.135844  0.000000       0.0   \n",
       "\n",
       "       topic_14  topic_15  topic_16  topic_17  topic_18  topic_19  \n",
       "43000  0.000000       0.0       0.0  0.496084       0.0       0.0  \n",
       "43001  0.000000       0.0       0.0  0.525644       0.0       0.0  \n",
       "43002  0.000000       0.0       0.0  0.265046       0.0       0.0  \n",
       "43003  0.000000       0.0       0.0  0.421934       0.0       0.0  \n",
       "43004  0.315174       0.0       0.0  0.000000       0.0       0.0  "
      ]
     },
     "execution_count": 32,
     "metadata": {},
     "output_type": "execute_result"
    }
   ],
   "source": [
    "theta = best_model.transform(batch_vectorizer=batch_vectorizer)\n",
    "theta = theta.T\n",
    "theta.head()"
   ]
  },
  {
   "cell_type": "code",
   "execution_count": null,
   "metadata": {},
   "outputs": [],
   "source": []
  },
  {
   "cell_type": "markdown",
   "metadata": {},
   "source": [
    "## DataViz"
   ]
  },
  {
   "cell_type": "code",
   "execution_count": 33,
   "metadata": {
    "ExecuteTime": {
     "end_time": "2019-03-12T22:00:26.486750Z",
     "start_time": "2019-03-12T22:00:26.444153Z"
    }
   },
   "outputs": [
    {
     "data": {
      "text/html": [
       "<div>\n",
       "<style scoped>\n",
       "    .dataframe tbody tr th:only-of-type {\n",
       "        vertical-align: middle;\n",
       "    }\n",
       "\n",
       "    .dataframe tbody tr th {\n",
       "        vertical-align: top;\n",
       "    }\n",
       "\n",
       "    .dataframe thead th {\n",
       "        text-align: right;\n",
       "    }\n",
       "</style>\n",
       "<table border=\"1\" class=\"dataframe\">\n",
       "  <thead>\n",
       "    <tr style=\"text-align: right;\">\n",
       "      <th></th>\n",
       "      <th>docID</th>\n",
       "      <th>year</th>\n",
       "      <th>month</th>\n",
       "      <th>topic_0</th>\n",
       "      <th>topic_1</th>\n",
       "      <th>topic_2</th>\n",
       "      <th>topic_3</th>\n",
       "      <th>topic_4</th>\n",
       "      <th>topic_5</th>\n",
       "      <th>topic_6</th>\n",
       "      <th>...</th>\n",
       "      <th>topic_10</th>\n",
       "      <th>topic_11</th>\n",
       "      <th>topic_12</th>\n",
       "      <th>topic_13</th>\n",
       "      <th>topic_14</th>\n",
       "      <th>topic_15</th>\n",
       "      <th>topic_16</th>\n",
       "      <th>topic_17</th>\n",
       "      <th>topic_18</th>\n",
       "      <th>topic_19</th>\n",
       "    </tr>\n",
       "  </thead>\n",
       "  <tbody>\n",
       "    <tr>\n",
       "      <th>0</th>\n",
       "      <td>0</td>\n",
       "      <td>1999</td>\n",
       "      <td>10</td>\n",
       "      <td>0.000000</td>\n",
       "      <td>0.000000</td>\n",
       "      <td>0.000000</td>\n",
       "      <td>0.0</td>\n",
       "      <td>0.000000</td>\n",
       "      <td>0.000000</td>\n",
       "      <td>0.324457</td>\n",
       "      <td>...</td>\n",
       "      <td>0.310229</td>\n",
       "      <td>0.133554</td>\n",
       "      <td>0.000000</td>\n",
       "      <td>0.031726</td>\n",
       "      <td>0.200034</td>\n",
       "      <td>0.000000</td>\n",
       "      <td>0.0</td>\n",
       "      <td>0.000000</td>\n",
       "      <td>0.000000</td>\n",
       "      <td>0.0</td>\n",
       "    </tr>\n",
       "    <tr>\n",
       "      <th>1</th>\n",
       "      <td>1</td>\n",
       "      <td>1999</td>\n",
       "      <td>10</td>\n",
       "      <td>0.017693</td>\n",
       "      <td>0.000000</td>\n",
       "      <td>0.242693</td>\n",
       "      <td>0.0</td>\n",
       "      <td>0.000000</td>\n",
       "      <td>0.145671</td>\n",
       "      <td>0.000000</td>\n",
       "      <td>...</td>\n",
       "      <td>0.000000</td>\n",
       "      <td>0.000000</td>\n",
       "      <td>0.107085</td>\n",
       "      <td>0.000000</td>\n",
       "      <td>0.000000</td>\n",
       "      <td>0.322927</td>\n",
       "      <td>0.0</td>\n",
       "      <td>0.000000</td>\n",
       "      <td>0.000000</td>\n",
       "      <td>0.0</td>\n",
       "    </tr>\n",
       "    <tr>\n",
       "      <th>2</th>\n",
       "      <td>2</td>\n",
       "      <td>1999</td>\n",
       "      <td>10</td>\n",
       "      <td>0.000000</td>\n",
       "      <td>0.282228</td>\n",
       "      <td>0.000000</td>\n",
       "      <td>0.0</td>\n",
       "      <td>0.028531</td>\n",
       "      <td>0.311935</td>\n",
       "      <td>0.217573</td>\n",
       "      <td>...</td>\n",
       "      <td>0.000000</td>\n",
       "      <td>0.048362</td>\n",
       "      <td>0.110676</td>\n",
       "      <td>0.000000</td>\n",
       "      <td>0.000695</td>\n",
       "      <td>0.000000</td>\n",
       "      <td>0.0</td>\n",
       "      <td>0.000000</td>\n",
       "      <td>0.000000</td>\n",
       "      <td>0.0</td>\n",
       "    </tr>\n",
       "    <tr>\n",
       "      <th>3</th>\n",
       "      <td>3</td>\n",
       "      <td>1999</td>\n",
       "      <td>10</td>\n",
       "      <td>0.000000</td>\n",
       "      <td>0.000000</td>\n",
       "      <td>0.000000</td>\n",
       "      <td>0.0</td>\n",
       "      <td>0.000000</td>\n",
       "      <td>0.000000</td>\n",
       "      <td>0.000000</td>\n",
       "      <td>...</td>\n",
       "      <td>0.000000</td>\n",
       "      <td>0.068380</td>\n",
       "      <td>0.132985</td>\n",
       "      <td>0.000000</td>\n",
       "      <td>0.016713</td>\n",
       "      <td>0.000000</td>\n",
       "      <td>0.0</td>\n",
       "      <td>0.121322</td>\n",
       "      <td>0.561363</td>\n",
       "      <td>0.0</td>\n",
       "    </tr>\n",
       "    <tr>\n",
       "      <th>4</th>\n",
       "      <td>4</td>\n",
       "      <td>1999</td>\n",
       "      <td>12</td>\n",
       "      <td>0.000000</td>\n",
       "      <td>0.087762</td>\n",
       "      <td>0.000000</td>\n",
       "      <td>0.0</td>\n",
       "      <td>0.000000</td>\n",
       "      <td>0.236211</td>\n",
       "      <td>0.000000</td>\n",
       "      <td>...</td>\n",
       "      <td>0.106635</td>\n",
       "      <td>0.000000</td>\n",
       "      <td>0.262116</td>\n",
       "      <td>0.000000</td>\n",
       "      <td>0.272139</td>\n",
       "      <td>0.000000</td>\n",
       "      <td>0.0</td>\n",
       "      <td>0.000000</td>\n",
       "      <td>0.000000</td>\n",
       "      <td>0.0</td>\n",
       "    </tr>\n",
       "  </tbody>\n",
       "</table>\n",
       "<p>5 rows × 23 columns</p>\n",
       "</div>"
      ],
      "text/plain": [
       "   docID  year  month   topic_0   topic_1   topic_2  topic_3   topic_4  \\\n",
       "0      0  1999     10  0.000000  0.000000  0.000000      0.0  0.000000   \n",
       "1      1  1999     10  0.017693  0.000000  0.242693      0.0  0.000000   \n",
       "2      2  1999     10  0.000000  0.282228  0.000000      0.0  0.028531   \n",
       "3      3  1999     10  0.000000  0.000000  0.000000      0.0  0.000000   \n",
       "4      4  1999     12  0.000000  0.087762  0.000000      0.0  0.000000   \n",
       "\n",
       "    topic_5   topic_6    ...     topic_10  topic_11  topic_12  topic_13  \\\n",
       "0  0.000000  0.324457    ...     0.310229  0.133554  0.000000  0.031726   \n",
       "1  0.145671  0.000000    ...     0.000000  0.000000  0.107085  0.000000   \n",
       "2  0.311935  0.217573    ...     0.000000  0.048362  0.110676  0.000000   \n",
       "3  0.000000  0.000000    ...     0.000000  0.068380  0.132985  0.000000   \n",
       "4  0.236211  0.000000    ...     0.106635  0.000000  0.262116  0.000000   \n",
       "\n",
       "   topic_14  topic_15  topic_16  topic_17  topic_18  topic_19  \n",
       "0  0.200034  0.000000       0.0  0.000000  0.000000       0.0  \n",
       "1  0.000000  0.322927       0.0  0.000000  0.000000       0.0  \n",
       "2  0.000695  0.000000       0.0  0.000000  0.000000       0.0  \n",
       "3  0.016713  0.000000       0.0  0.121322  0.561363       0.0  \n",
       "4  0.272139  0.000000       0.0  0.000000  0.000000       0.0  \n",
       "\n",
       "[5 rows x 23 columns]"
      ]
     },
     "execution_count": 33,
     "metadata": {},
     "output_type": "execute_result"
    }
   ],
   "source": [
    "joined = id_date.join(theta)\n",
    "joined.head()"
   ]
  },
  {
   "cell_type": "code",
   "execution_count": 34,
   "metadata": {
    "ExecuteTime": {
     "end_time": "2019-03-12T22:00:28.106191Z",
     "start_time": "2019-03-12T22:00:28.062230Z"
    }
   },
   "outputs": [
    {
     "name": "stdout",
     "output_type": "stream",
     "text": [
      "gb.shape: (227, 20)\n"
     ]
    },
    {
     "data": {
      "text/html": [
       "<div>\n",
       "<style scoped>\n",
       "    .dataframe tbody tr th:only-of-type {\n",
       "        vertical-align: middle;\n",
       "    }\n",
       "\n",
       "    .dataframe tbody tr th {\n",
       "        vertical-align: top;\n",
       "    }\n",
       "\n",
       "    .dataframe thead th {\n",
       "        text-align: right;\n",
       "    }\n",
       "</style>\n",
       "<table border=\"1\" class=\"dataframe\">\n",
       "  <thead>\n",
       "    <tr style=\"text-align: right;\">\n",
       "      <th></th>\n",
       "      <th></th>\n",
       "      <th>topic_0</th>\n",
       "      <th>topic_1</th>\n",
       "      <th>topic_2</th>\n",
       "      <th>topic_3</th>\n",
       "      <th>topic_4</th>\n",
       "      <th>topic_5</th>\n",
       "      <th>topic_6</th>\n",
       "      <th>topic_7</th>\n",
       "      <th>topic_8</th>\n",
       "      <th>topic_9</th>\n",
       "      <th>topic_10</th>\n",
       "      <th>topic_11</th>\n",
       "      <th>topic_12</th>\n",
       "      <th>topic_13</th>\n",
       "      <th>topic_14</th>\n",
       "      <th>topic_15</th>\n",
       "      <th>topic_16</th>\n",
       "      <th>topic_17</th>\n",
       "      <th>topic_18</th>\n",
       "      <th>topic_19</th>\n",
       "    </tr>\n",
       "    <tr>\n",
       "      <th>year</th>\n",
       "      <th>month</th>\n",
       "      <th></th>\n",
       "      <th></th>\n",
       "      <th></th>\n",
       "      <th></th>\n",
       "      <th></th>\n",
       "      <th></th>\n",
       "      <th></th>\n",
       "      <th></th>\n",
       "      <th></th>\n",
       "      <th></th>\n",
       "      <th></th>\n",
       "      <th></th>\n",
       "      <th></th>\n",
       "      <th></th>\n",
       "      <th></th>\n",
       "      <th></th>\n",
       "      <th></th>\n",
       "      <th></th>\n",
       "      <th></th>\n",
       "      <th></th>\n",
       "    </tr>\n",
       "  </thead>\n",
       "  <tbody>\n",
       "    <tr>\n",
       "      <th rowspan=\"4\" valign=\"top\">1999</th>\n",
       "      <th>9</th>\n",
       "      <td>0.043734</td>\n",
       "      <td>0.068251</td>\n",
       "      <td>0.004964</td>\n",
       "      <td>0.000000</td>\n",
       "      <td>0.141444</td>\n",
       "      <td>0.514210</td>\n",
       "      <td>1.027547</td>\n",
       "      <td>0.188427</td>\n",
       "      <td>1.100373</td>\n",
       "      <td>0.009014</td>\n",
       "      <td>0.000000</td>\n",
       "      <td>0.264183</td>\n",
       "      <td>0.483303</td>\n",
       "      <td>0.000000</td>\n",
       "      <td>0.085663</td>\n",
       "      <td>0.000000</td>\n",
       "      <td>0.000000</td>\n",
       "      <td>0.040609</td>\n",
       "      <td>0.028279</td>\n",
       "      <td>0.000000</td>\n",
       "    </tr>\n",
       "    <tr>\n",
       "      <th>10</th>\n",
       "      <td>0.017693</td>\n",
       "      <td>0.282228</td>\n",
       "      <td>0.242693</td>\n",
       "      <td>0.000000</td>\n",
       "      <td>0.028531</td>\n",
       "      <td>0.457606</td>\n",
       "      <td>0.542030</td>\n",
       "      <td>0.000000</td>\n",
       "      <td>0.163930</td>\n",
       "      <td>0.099237</td>\n",
       "      <td>0.310229</td>\n",
       "      <td>0.250297</td>\n",
       "      <td>0.350745</td>\n",
       "      <td>0.031726</td>\n",
       "      <td>0.217442</td>\n",
       "      <td>0.322927</td>\n",
       "      <td>0.000000</td>\n",
       "      <td>0.121322</td>\n",
       "      <td>0.561363</td>\n",
       "      <td>0.000000</td>\n",
       "    </tr>\n",
       "    <tr>\n",
       "      <th>11</th>\n",
       "      <td>0.000000</td>\n",
       "      <td>0.000000</td>\n",
       "      <td>0.000000</td>\n",
       "      <td>0.054018</td>\n",
       "      <td>0.000000</td>\n",
       "      <td>0.467205</td>\n",
       "      <td>0.964128</td>\n",
       "      <td>0.000000</td>\n",
       "      <td>0.350748</td>\n",
       "      <td>0.019564</td>\n",
       "      <td>0.038962</td>\n",
       "      <td>0.268249</td>\n",
       "      <td>1.133703</td>\n",
       "      <td>0.527126</td>\n",
       "      <td>0.000000</td>\n",
       "      <td>0.038809</td>\n",
       "      <td>0.060708</td>\n",
       "      <td>0.199959</td>\n",
       "      <td>0.876823</td>\n",
       "      <td>0.000000</td>\n",
       "    </tr>\n",
       "    <tr>\n",
       "      <th>12</th>\n",
       "      <td>0.000000</td>\n",
       "      <td>0.094225</td>\n",
       "      <td>0.000000</td>\n",
       "      <td>0.000000</td>\n",
       "      <td>0.000000</td>\n",
       "      <td>0.258505</td>\n",
       "      <td>0.000000</td>\n",
       "      <td>0.000000</td>\n",
       "      <td>0.000000</td>\n",
       "      <td>0.035137</td>\n",
       "      <td>0.106635</td>\n",
       "      <td>0.000000</td>\n",
       "      <td>1.021536</td>\n",
       "      <td>0.000000</td>\n",
       "      <td>0.317312</td>\n",
       "      <td>0.000000</td>\n",
       "      <td>0.061534</td>\n",
       "      <td>0.105116</td>\n",
       "      <td>0.000000</td>\n",
       "      <td>0.000000</td>\n",
       "    </tr>\n",
       "    <tr>\n",
       "      <th>2000</th>\n",
       "      <th>1</th>\n",
       "      <td>0.138949</td>\n",
       "      <td>0.051117</td>\n",
       "      <td>0.074113</td>\n",
       "      <td>0.016941</td>\n",
       "      <td>0.000000</td>\n",
       "      <td>0.530490</td>\n",
       "      <td>0.480568</td>\n",
       "      <td>0.008993</td>\n",
       "      <td>1.384802</td>\n",
       "      <td>0.000000</td>\n",
       "      <td>0.000000</td>\n",
       "      <td>0.646425</td>\n",
       "      <td>0.498263</td>\n",
       "      <td>0.097453</td>\n",
       "      <td>0.060380</td>\n",
       "      <td>0.153786</td>\n",
       "      <td>0.100035</td>\n",
       "      <td>0.457650</td>\n",
       "      <td>0.000000</td>\n",
       "      <td>0.300036</td>\n",
       "    </tr>\n",
       "  </tbody>\n",
       "</table>\n",
       "</div>"
      ],
      "text/plain": [
       "             topic_0   topic_1   topic_2   topic_3   topic_4   topic_5  \\\n",
       "year month                                                               \n",
       "1999 9      0.043734  0.068251  0.004964  0.000000  0.141444  0.514210   \n",
       "     10     0.017693  0.282228  0.242693  0.000000  0.028531  0.457606   \n",
       "     11     0.000000  0.000000  0.000000  0.054018  0.000000  0.467205   \n",
       "     12     0.000000  0.094225  0.000000  0.000000  0.000000  0.258505   \n",
       "2000 1      0.138949  0.051117  0.074113  0.016941  0.000000  0.530490   \n",
       "\n",
       "             topic_6   topic_7   topic_8   topic_9  topic_10  topic_11  \\\n",
       "year month                                                               \n",
       "1999 9      1.027547  0.188427  1.100373  0.009014  0.000000  0.264183   \n",
       "     10     0.542030  0.000000  0.163930  0.099237  0.310229  0.250297   \n",
       "     11     0.964128  0.000000  0.350748  0.019564  0.038962  0.268249   \n",
       "     12     0.000000  0.000000  0.000000  0.035137  0.106635  0.000000   \n",
       "2000 1      0.480568  0.008993  1.384802  0.000000  0.000000  0.646425   \n",
       "\n",
       "            topic_12  topic_13  topic_14  topic_15  topic_16  topic_17  \\\n",
       "year month                                                               \n",
       "1999 9      0.483303  0.000000  0.085663  0.000000  0.000000  0.040609   \n",
       "     10     0.350745  0.031726  0.217442  0.322927  0.000000  0.121322   \n",
       "     11     1.133703  0.527126  0.000000  0.038809  0.060708  0.199959   \n",
       "     12     1.021536  0.000000  0.317312  0.000000  0.061534  0.105116   \n",
       "2000 1      0.498263  0.097453  0.060380  0.153786  0.100035  0.457650   \n",
       "\n",
       "            topic_18  topic_19  \n",
       "year month                      \n",
       "1999 9      0.028279  0.000000  \n",
       "     10     0.561363  0.000000  \n",
       "     11     0.876823  0.000000  \n",
       "     12     0.000000  0.000000  \n",
       "2000 1      0.000000  0.300036  "
      ]
     },
     "execution_count": 34,
     "metadata": {},
     "output_type": "execute_result"
    }
   ],
   "source": [
    "topics = ['topic_{}'.format(i) for i in range(select_topics)]\n",
    "gb = joined.groupby(['year', 'month'])[topics].sum()\n",
    "print(f'gb.shape: {gb.shape}')\n",
    "gb.head()"
   ]
  },
  {
   "cell_type": "code",
   "execution_count": null,
   "metadata": {},
   "outputs": [],
   "source": []
  },
  {
   "cell_type": "markdown",
   "metadata": {},
   "source": [
    "### straightforward matrix heatmap"
   ]
  },
  {
   "cell_type": "code",
   "execution_count": 35,
   "metadata": {
    "ExecuteTime": {
     "end_time": "2019-03-12T22:00:32.990895Z",
     "start_time": "2019-03-12T22:00:32.486777Z"
    },
    "scrolled": true
   },
   "outputs": [
    {
     "data": {
      "text/plain": [
       "<matplotlib.image.AxesImage at 0x7effd49e2710>"
      ]
     },
     "execution_count": 35,
     "metadata": {},
     "output_type": "execute_result"
    },
    {
     "data": {
      "image/png": "[encoded data removed]",
      "text/plain": [
       "<Figure size 720x2880 with 1 Axes>"
      ]
     },
     "metadata": {
      "needs_background": "light"
     },
     "output_type": "display_data"
    }
   ],
   "source": [
    "plt.figure(figsize=(10, 40))\n",
    "plt.imshow(gb[topics])"
   ]
  },
  {
   "cell_type": "code",
   "execution_count": null,
   "metadata": {},
   "outputs": [],
   "source": []
  },
  {
   "cell_type": "markdown",
   "metadata": {},
   "source": [
    "## pygal"
   ]
  },
  {
   "cell_type": "code",
   "execution_count": 441,
   "metadata": {
    "ExecuteTime": {
     "end_time": "2019-02-03T11:50:30.115991Z",
     "start_time": "2019-02-03T11:50:30.113001Z"
    }
   },
   "outputs": [],
   "source": [
    "import pygal\n",
    "from IPython.display import SVG, HTML"
   ]
  },
  {
   "cell_type": "code",
   "execution_count": 442,
   "metadata": {
    "ExecuteTime": {
     "end_time": "2019-02-03T11:50:30.547644Z",
     "start_time": "2019-02-03T11:50:30.545195Z"
    }
   },
   "outputs": [],
   "source": [
    "html_pygal = \"\"\"\n",
    "<!DOCTYPE html>\n",
    "<html>\n",
    "  <head>\n",
    "  <script type=\"text/javascript\" src=\"http://kozea.github.com/pygal.js/javascripts/svg.jquery.js\"></script>\n",
    "  <script type=\"text/javascript\" src=\"http://kozea.github.com/pygal.js/javascripts/pygal-tooltips.js\"></script>\n",
    "    <!-- ... -->\n",
    "  </head>\n",
    "  <body>\n",
    "    <figure>\n",
    "      {pygal_render}\n",
    "    </figure>\n",
    "  </body>\n",
    "</html>\n",
    "\"\"\""
   ]
  },
  {
   "cell_type": "code",
   "execution_count": null,
   "metadata": {
    "ExecuteTime": {
     "end_time": "2019-02-03T11:50:31.059933Z",
     "start_time": "2019-02-03T11:50:30.965809Z"
    },
    "scrolled": false
   },
   "outputs": [],
   "source": [
    "line_chart = pygal.StackedLine(fill=True, show_dots=False)\n",
    "line_chart.title = 'Topics'\n",
    "for topic in topics:\n",
    "    line_chart.add(topic, gb[topic].values)\n",
    "    \n",
    "HTML(html_pygal.format(pygal_render=line_chart.render(is_unicode=True)))"
   ]
  },
  {
   "cell_type": "code",
   "execution_count": 444,
   "metadata": {
    "ExecuteTime": {
     "end_time": "2019-02-03T11:51:27.270171Z",
     "start_time": "2019-02-03T11:51:27.174764Z"
    }
   },
   "outputs": [],
   "source": [
    "line_chart.render_to_file(f'data/visualization/{name_dataset}_pygal.svg')"
   ]
  },
  {
   "cell_type": "markdown",
   "metadata": {},
   "source": [
    "## joypy"
   ]
  },
  {
   "cell_type": "code",
   "execution_count": 445,
   "metadata": {
    "ExecuteTime": {
     "end_time": "2019-02-03T11:51:28.668763Z",
     "start_time": "2019-02-03T11:51:28.666052Z"
    }
   },
   "outputs": [],
   "source": [
    "import joypy # !pip install joypy"
   ]
  },
  {
   "cell_type": "code",
   "execution_count": 36,
   "metadata": {
    "ExecuteTime": {
     "end_time": "2019-03-12T22:00:48.539809Z",
     "start_time": "2019-03-12T22:00:48.516162Z"
    },
    "scrolled": true
   },
   "outputs": [
    {
     "name": "stdout",
     "output_type": "stream",
     "text": [
      "(60849, 23)\n"
     ]
    },
    {
     "data": {
      "text/html": [
       "<div>\n",
       "<style scoped>\n",
       "    .dataframe tbody tr th:only-of-type {\n",
       "        vertical-align: middle;\n",
       "    }\n",
       "\n",
       "    .dataframe tbody tr th {\n",
       "        vertical-align: top;\n",
       "    }\n",
       "\n",
       "    .dataframe thead th {\n",
       "        text-align: right;\n",
       "    }\n",
       "</style>\n",
       "<table border=\"1\" class=\"dataframe\">\n",
       "  <thead>\n",
       "    <tr style=\"text-align: right;\">\n",
       "      <th></th>\n",
       "      <th>docID</th>\n",
       "      <th>year</th>\n",
       "      <th>month</th>\n",
       "      <th>topic_0</th>\n",
       "      <th>topic_1</th>\n",
       "      <th>topic_2</th>\n",
       "      <th>topic_3</th>\n",
       "      <th>topic_4</th>\n",
       "      <th>topic_5</th>\n",
       "      <th>topic_6</th>\n",
       "      <th>...</th>\n",
       "      <th>topic_10</th>\n",
       "      <th>topic_11</th>\n",
       "      <th>topic_12</th>\n",
       "      <th>topic_13</th>\n",
       "      <th>topic_14</th>\n",
       "      <th>topic_15</th>\n",
       "      <th>topic_16</th>\n",
       "      <th>topic_17</th>\n",
       "      <th>topic_18</th>\n",
       "      <th>topic_19</th>\n",
       "    </tr>\n",
       "  </thead>\n",
       "  <tbody>\n",
       "    <tr>\n",
       "      <th>0</th>\n",
       "      <td>0</td>\n",
       "      <td>1999</td>\n",
       "      <td>10</td>\n",
       "      <td>0.000000</td>\n",
       "      <td>0.000000</td>\n",
       "      <td>0.000000</td>\n",
       "      <td>0.0</td>\n",
       "      <td>0.000000</td>\n",
       "      <td>0.000000</td>\n",
       "      <td>0.324457</td>\n",
       "      <td>...</td>\n",
       "      <td>0.310229</td>\n",
       "      <td>0.133554</td>\n",
       "      <td>0.000000</td>\n",
       "      <td>0.031726</td>\n",
       "      <td>0.200034</td>\n",
       "      <td>0.000000</td>\n",
       "      <td>0.0</td>\n",
       "      <td>0.000000</td>\n",
       "      <td>0.000000</td>\n",
       "      <td>0.0</td>\n",
       "    </tr>\n",
       "    <tr>\n",
       "      <th>1</th>\n",
       "      <td>1</td>\n",
       "      <td>1999</td>\n",
       "      <td>10</td>\n",
       "      <td>0.017693</td>\n",
       "      <td>0.000000</td>\n",
       "      <td>0.242693</td>\n",
       "      <td>0.0</td>\n",
       "      <td>0.000000</td>\n",
       "      <td>0.145671</td>\n",
       "      <td>0.000000</td>\n",
       "      <td>...</td>\n",
       "      <td>0.000000</td>\n",
       "      <td>0.000000</td>\n",
       "      <td>0.107085</td>\n",
       "      <td>0.000000</td>\n",
       "      <td>0.000000</td>\n",
       "      <td>0.322927</td>\n",
       "      <td>0.0</td>\n",
       "      <td>0.000000</td>\n",
       "      <td>0.000000</td>\n",
       "      <td>0.0</td>\n",
       "    </tr>\n",
       "    <tr>\n",
       "      <th>2</th>\n",
       "      <td>2</td>\n",
       "      <td>1999</td>\n",
       "      <td>10</td>\n",
       "      <td>0.000000</td>\n",
       "      <td>0.282228</td>\n",
       "      <td>0.000000</td>\n",
       "      <td>0.0</td>\n",
       "      <td>0.028531</td>\n",
       "      <td>0.311935</td>\n",
       "      <td>0.217573</td>\n",
       "      <td>...</td>\n",
       "      <td>0.000000</td>\n",
       "      <td>0.048362</td>\n",
       "      <td>0.110676</td>\n",
       "      <td>0.000000</td>\n",
       "      <td>0.000695</td>\n",
       "      <td>0.000000</td>\n",
       "      <td>0.0</td>\n",
       "      <td>0.000000</td>\n",
       "      <td>0.000000</td>\n",
       "      <td>0.0</td>\n",
       "    </tr>\n",
       "    <tr>\n",
       "      <th>3</th>\n",
       "      <td>3</td>\n",
       "      <td>1999</td>\n",
       "      <td>10</td>\n",
       "      <td>0.000000</td>\n",
       "      <td>0.000000</td>\n",
       "      <td>0.000000</td>\n",
       "      <td>0.0</td>\n",
       "      <td>0.000000</td>\n",
       "      <td>0.000000</td>\n",
       "      <td>0.000000</td>\n",
       "      <td>...</td>\n",
       "      <td>0.000000</td>\n",
       "      <td>0.068380</td>\n",
       "      <td>0.132985</td>\n",
       "      <td>0.000000</td>\n",
       "      <td>0.016713</td>\n",
       "      <td>0.000000</td>\n",
       "      <td>0.0</td>\n",
       "      <td>0.121322</td>\n",
       "      <td>0.561363</td>\n",
       "      <td>0.0</td>\n",
       "    </tr>\n",
       "    <tr>\n",
       "      <th>4</th>\n",
       "      <td>4</td>\n",
       "      <td>1999</td>\n",
       "      <td>12</td>\n",
       "      <td>0.000000</td>\n",
       "      <td>0.087762</td>\n",
       "      <td>0.000000</td>\n",
       "      <td>0.0</td>\n",
       "      <td>0.000000</td>\n",
       "      <td>0.236211</td>\n",
       "      <td>0.000000</td>\n",
       "      <td>...</td>\n",
       "      <td>0.106635</td>\n",
       "      <td>0.000000</td>\n",
       "      <td>0.262116</td>\n",
       "      <td>0.000000</td>\n",
       "      <td>0.272139</td>\n",
       "      <td>0.000000</td>\n",
       "      <td>0.0</td>\n",
       "      <td>0.000000</td>\n",
       "      <td>0.000000</td>\n",
       "      <td>0.0</td>\n",
       "    </tr>\n",
       "  </tbody>\n",
       "</table>\n",
       "<p>5 rows × 23 columns</p>\n",
       "</div>"
      ],
      "text/plain": [
       "   docID  year  month   topic_0   topic_1   topic_2  topic_3   topic_4  \\\n",
       "0      0  1999     10  0.000000  0.000000  0.000000      0.0  0.000000   \n",
       "1      1  1999     10  0.017693  0.000000  0.242693      0.0  0.000000   \n",
       "2      2  1999     10  0.000000  0.282228  0.000000      0.0  0.028531   \n",
       "3      3  1999     10  0.000000  0.000000  0.000000      0.0  0.000000   \n",
       "4      4  1999     12  0.000000  0.087762  0.000000      0.0  0.000000   \n",
       "\n",
       "    topic_5   topic_6    ...     topic_10  topic_11  topic_12  topic_13  \\\n",
       "0  0.000000  0.324457    ...     0.310229  0.133554  0.000000  0.031726   \n",
       "1  0.145671  0.000000    ...     0.000000  0.000000  0.107085  0.000000   \n",
       "2  0.311935  0.217573    ...     0.000000  0.048362  0.110676  0.000000   \n",
       "3  0.000000  0.000000    ...     0.000000  0.068380  0.132985  0.000000   \n",
       "4  0.236211  0.000000    ...     0.106635  0.000000  0.262116  0.000000   \n",
       "\n",
       "   topic_14  topic_15  topic_16  topic_17  topic_18  topic_19  \n",
       "0  0.200034  0.000000       0.0  0.000000  0.000000       0.0  \n",
       "1  0.000000  0.322927       0.0  0.000000  0.000000       0.0  \n",
       "2  0.000695  0.000000       0.0  0.000000  0.000000       0.0  \n",
       "3  0.016713  0.000000       0.0  0.121322  0.561363       0.0  \n",
       "4  0.272139  0.000000       0.0  0.000000  0.000000       0.0  \n",
       "\n",
       "[5 rows x 23 columns]"
      ]
     },
     "execution_count": 36,
     "metadata": {},
     "output_type": "execute_result"
    }
   ],
   "source": [
    "print(joined.shape)\n",
    "joined.head()"
   ]
  },
  {
   "cell_type": "code",
   "execution_count": 39,
   "metadata": {
    "ExecuteTime": {
     "end_time": "2019-03-12T22:03:06.633438Z",
     "start_time": "2019-03-12T22:03:05.358645Z"
    }
   },
   "outputs": [],
   "source": [
    "joined.to_csv(f'./data/topicsProbability/{name_dataset}.csv',index=False)"
   ]
  },
  {
   "cell_type": "code",
   "execution_count": 447,
   "metadata": {
    "ExecuteTime": {
     "end_time": "2019-02-03T11:51:31.426333Z",
     "start_time": "2019-02-03T11:51:29.805510Z"
    }
   },
   "outputs": [
    {
     "data": {
      "text/html": [
       "<div>\n",
       "<style scoped>\n",
       "    .dataframe tbody tr th:only-of-type {\n",
       "        vertical-align: middle;\n",
       "    }\n",
       "\n",
       "    .dataframe tbody tr th {\n",
       "        vertical-align: top;\n",
       "    }\n",
       "\n",
       "    .dataframe thead th {\n",
       "        text-align: right;\n",
       "    }\n",
       "</style>\n",
       "<table border=\"1\" class=\"dataframe\">\n",
       "  <thead>\n",
       "    <tr style=\"text-align: right;\">\n",
       "      <th></th>\n",
       "      <th>index</th>\n",
       "      <th>docID</th>\n",
       "      <th>year</th>\n",
       "      <th>month</th>\n",
       "      <th>topic_0</th>\n",
       "      <th>topic_1</th>\n",
       "      <th>topic_2</th>\n",
       "      <th>topic_3</th>\n",
       "      <th>topic_4</th>\n",
       "      <th>topic_5</th>\n",
       "      <th>...</th>\n",
       "      <th>topic_11</th>\n",
       "      <th>topic_12</th>\n",
       "      <th>topic_13</th>\n",
       "      <th>topic_14</th>\n",
       "      <th>topic_15</th>\n",
       "      <th>topic_16</th>\n",
       "      <th>topic_17</th>\n",
       "      <th>topic_18</th>\n",
       "      <th>topic_19</th>\n",
       "      <th>year_month</th>\n",
       "    </tr>\n",
       "  </thead>\n",
       "  <tbody>\n",
       "    <tr>\n",
       "      <th>0</th>\n",
       "      <td>0</td>\n",
       "      <td>0</td>\n",
       "      <td>1999</td>\n",
       "      <td>10</td>\n",
       "      <td>0.000000</td>\n",
       "      <td>0.000000</td>\n",
       "      <td>0.000000</td>\n",
       "      <td>0.0</td>\n",
       "      <td>0.122868</td>\n",
       "      <td>0.000000</td>\n",
       "      <td>...</td>\n",
       "      <td>0.077717</td>\n",
       "      <td>0.000000</td>\n",
       "      <td>0.033593</td>\n",
       "      <td>0.239395</td>\n",
       "      <td>0.000000</td>\n",
       "      <td>0.0</td>\n",
       "      <td>0.000000</td>\n",
       "      <td>0.000000</td>\n",
       "      <td>0.01821</td>\n",
       "      <td>1999-10-01</td>\n",
       "    </tr>\n",
       "    <tr>\n",
       "      <th>1</th>\n",
       "      <td>1</td>\n",
       "      <td>1</td>\n",
       "      <td>1999</td>\n",
       "      <td>10</td>\n",
       "      <td>0.018509</td>\n",
       "      <td>0.000000</td>\n",
       "      <td>0.262834</td>\n",
       "      <td>0.0</td>\n",
       "      <td>0.000000</td>\n",
       "      <td>0.330809</td>\n",
       "      <td>...</td>\n",
       "      <td>0.000000</td>\n",
       "      <td>0.000000</td>\n",
       "      <td>0.000000</td>\n",
       "      <td>0.000000</td>\n",
       "      <td>0.194672</td>\n",
       "      <td>0.0</td>\n",
       "      <td>0.000000</td>\n",
       "      <td>0.000000</td>\n",
       "      <td>0.00000</td>\n",
       "      <td>1999-10-01</td>\n",
       "    </tr>\n",
       "    <tr>\n",
       "      <th>2</th>\n",
       "      <td>2</td>\n",
       "      <td>2</td>\n",
       "      <td>1999</td>\n",
       "      <td>10</td>\n",
       "      <td>0.000000</td>\n",
       "      <td>0.153630</td>\n",
       "      <td>0.000000</td>\n",
       "      <td>0.0</td>\n",
       "      <td>0.080671</td>\n",
       "      <td>0.045603</td>\n",
       "      <td>...</td>\n",
       "      <td>0.000000</td>\n",
       "      <td>0.000000</td>\n",
       "      <td>0.000000</td>\n",
       "      <td>0.000000</td>\n",
       "      <td>0.000000</td>\n",
       "      <td>0.0</td>\n",
       "      <td>0.494366</td>\n",
       "      <td>0.000000</td>\n",
       "      <td>0.00000</td>\n",
       "      <td>1999-10-01</td>\n",
       "    </tr>\n",
       "    <tr>\n",
       "      <th>3</th>\n",
       "      <td>3</td>\n",
       "      <td>3</td>\n",
       "      <td>1999</td>\n",
       "      <td>10</td>\n",
       "      <td>0.000000</td>\n",
       "      <td>0.000000</td>\n",
       "      <td>0.000000</td>\n",
       "      <td>0.0</td>\n",
       "      <td>0.155428</td>\n",
       "      <td>0.000000</td>\n",
       "      <td>...</td>\n",
       "      <td>0.043140</td>\n",
       "      <td>0.137149</td>\n",
       "      <td>0.000000</td>\n",
       "      <td>0.033424</td>\n",
       "      <td>0.000000</td>\n",
       "      <td>0.0</td>\n",
       "      <td>0.000000</td>\n",
       "      <td>0.551085</td>\n",
       "      <td>0.00000</td>\n",
       "      <td>1999-10-01</td>\n",
       "    </tr>\n",
       "    <tr>\n",
       "      <th>4</th>\n",
       "      <td>4</td>\n",
       "      <td>4</td>\n",
       "      <td>1999</td>\n",
       "      <td>12</td>\n",
       "      <td>0.000000</td>\n",
       "      <td>0.109492</td>\n",
       "      <td>0.017353</td>\n",
       "      <td>0.0</td>\n",
       "      <td>0.000000</td>\n",
       "      <td>0.076010</td>\n",
       "      <td>...</td>\n",
       "      <td>0.000000</td>\n",
       "      <td>0.100906</td>\n",
       "      <td>0.000000</td>\n",
       "      <td>0.153172</td>\n",
       "      <td>0.000000</td>\n",
       "      <td>0.0</td>\n",
       "      <td>0.447607</td>\n",
       "      <td>0.000000</td>\n",
       "      <td>0.00000</td>\n",
       "      <td>1999-12-01</td>\n",
       "    </tr>\n",
       "  </tbody>\n",
       "</table>\n",
       "<p>5 rows × 25 columns</p>\n",
       "</div>"
      ],
      "text/plain": [
       "   index  docID  year  month   topic_0   topic_1   topic_2  topic_3   topic_4  \\\n",
       "0      0      0  1999     10  0.000000  0.000000  0.000000      0.0  0.122868   \n",
       "1      1      1  1999     10  0.018509  0.000000  0.262834      0.0  0.000000   \n",
       "2      2      2  1999     10  0.000000  0.153630  0.000000      0.0  0.080671   \n",
       "3      3      3  1999     10  0.000000  0.000000  0.000000      0.0  0.155428   \n",
       "4      4      4  1999     12  0.000000  0.109492  0.017353      0.0  0.000000   \n",
       "\n",
       "    topic_5     ...      topic_11  topic_12  topic_13  topic_14  topic_15  \\\n",
       "0  0.000000     ...      0.077717  0.000000  0.033593  0.239395  0.000000   \n",
       "1  0.330809     ...      0.000000  0.000000  0.000000  0.000000  0.194672   \n",
       "2  0.045603     ...      0.000000  0.000000  0.000000  0.000000  0.000000   \n",
       "3  0.000000     ...      0.043140  0.137149  0.000000  0.033424  0.000000   \n",
       "4  0.076010     ...      0.000000  0.100906  0.000000  0.153172  0.000000   \n",
       "\n",
       "   topic_16  topic_17  topic_18  topic_19  year_month  \n",
       "0       0.0  0.000000  0.000000   0.01821  1999-10-01  \n",
       "1       0.0  0.000000  0.000000   0.00000  1999-10-01  \n",
       "2       0.0  0.494366  0.000000   0.00000  1999-10-01  \n",
       "3       0.0  0.000000  0.551085   0.00000  1999-10-01  \n",
       "4       0.0  0.447607  0.000000   0.00000  1999-12-01  \n",
       "\n",
       "[5 rows x 25 columns]"
      ]
     },
     "execution_count": 447,
     "metadata": {},
     "output_type": "execute_result"
    }
   ],
   "source": [
    "joined['year_month'] = joined.apply(lambda x: str(int(x.year)) +'-'+ str(int(x.month)) + '-01', axis=1)\n",
    "joined.reset_index(inplace=True)\n",
    "\n",
    "joined.head()"
   ]
  },
  {
   "cell_type": "code",
   "execution_count": 448,
   "metadata": {
    "ExecuteTime": {
     "end_time": "2019-02-03T11:51:31.823580Z",
     "start_time": "2019-02-03T11:51:31.769978Z"
    }
   },
   "outputs": [
    {
     "name": "stdout",
     "output_type": "stream",
     "text": [
      "(1460376, 3)\n"
     ]
    },
    {
     "data": {
      "text/html": [
       "<div>\n",
       "<style scoped>\n",
       "    .dataframe tbody tr th:only-of-type {\n",
       "        vertical-align: middle;\n",
       "    }\n",
       "\n",
       "    .dataframe tbody tr th {\n",
       "        vertical-align: top;\n",
       "    }\n",
       "\n",
       "    .dataframe thead th {\n",
       "        text-align: right;\n",
       "    }\n",
       "</style>\n",
       "<table border=\"1\" class=\"dataframe\">\n",
       "  <thead>\n",
       "    <tr style=\"text-align: right;\">\n",
       "      <th></th>\n",
       "      <th>year_month</th>\n",
       "      <th>topic</th>\n",
       "      <th>text</th>\n",
       "    </tr>\n",
       "  </thead>\n",
       "  <tbody>\n",
       "    <tr>\n",
       "      <th>0</th>\n",
       "      <td>1999-10-01</td>\n",
       "      <td>index</td>\n",
       "      <td>0.0</td>\n",
       "    </tr>\n",
       "    <tr>\n",
       "      <th>1</th>\n",
       "      <td>1999-10-01</td>\n",
       "      <td>index</td>\n",
       "      <td>1.0</td>\n",
       "    </tr>\n",
       "    <tr>\n",
       "      <th>2</th>\n",
       "      <td>1999-10-01</td>\n",
       "      <td>index</td>\n",
       "      <td>2.0</td>\n",
       "    </tr>\n",
       "    <tr>\n",
       "      <th>3</th>\n",
       "      <td>1999-10-01</td>\n",
       "      <td>index</td>\n",
       "      <td>3.0</td>\n",
       "    </tr>\n",
       "    <tr>\n",
       "      <th>4</th>\n",
       "      <td>1999-12-01</td>\n",
       "      <td>index</td>\n",
       "      <td>4.0</td>\n",
       "    </tr>\n",
       "  </tbody>\n",
       "</table>\n",
       "</div>"
      ],
      "text/plain": [
       "   year_month  topic  text\n",
       "0  1999-10-01  index   0.0\n",
       "1  1999-10-01  index   1.0\n",
       "2  1999-10-01  index   2.0\n",
       "3  1999-10-01  index   3.0\n",
       "4  1999-12-01  index   4.0"
      ]
     },
     "execution_count": 448,
     "metadata": {},
     "output_type": "execute_result"
    }
   ],
   "source": [
    "joined_melt = joined.melt('year_month', var_name='topic', value_name='text')\n",
    "print(joined_melt.shape)\n",
    "joined_melt.head()"
   ]
  },
  {
   "cell_type": "code",
   "execution_count": 449,
   "metadata": {
    "ExecuteTime": {
     "end_time": "2019-02-03T11:51:32.625865Z",
     "start_time": "2019-02-03T11:51:32.179919Z"
    },
    "scrolled": true
   },
   "outputs": [
    {
     "name": "stdout",
     "output_type": "stream",
     "text": [
      "(1216980, 3)\n"
     ]
    },
    {
     "data": {
      "text/plain": [
       "topic_14    60849\n",
       "topic_18    60849\n",
       "topic_8     60849\n",
       "topic_13    60849\n",
       "topic_6     60849\n",
       "topic_15    60849\n",
       "topic_7     60849\n",
       "topic_0     60849\n",
       "topic_16    60849\n",
       "topic_4     60849\n",
       "topic_19    60849\n",
       "topic_1     60849\n",
       "topic_5     60849\n",
       "topic_3     60849\n",
       "topic_9     60849\n",
       "topic_2     60849\n",
       "topic_10    60849\n",
       "topic_11    60849\n",
       "topic_17    60849\n",
       "topic_12    60849\n",
       "Name: topic, dtype: int64"
      ]
     },
     "execution_count": 449,
     "metadata": {},
     "output_type": "execute_result"
    }
   ],
   "source": [
    "# select only topic_*\n",
    "joined_melt_new = joined_melt[(joined_melt.topic!='docID') & (joined_melt.topic!='index')\n",
    "                              & (joined_melt.topic!='year') & (joined_melt.topic!='month')]\n",
    "print(joined_melt_new.shape)\n",
    "joined_melt_new.topic.value_counts()"
   ]
  },
  {
   "cell_type": "code",
   "execution_count": 450,
   "metadata": {
    "ExecuteTime": {
     "end_time": "2019-02-03T11:51:38.692868Z",
     "start_time": "2019-02-03T11:51:32.959779Z"
    }
   },
   "outputs": [
    {
     "data": {
      "image/png": "[encoded data removed]",
      "text/plain": [
       "<Figure size 1440x720 with 21 Axes>"
      ]
     },
     "metadata": {
      "needs_background": "light"
     },
     "output_type": "display_data"
    }
   ],
   "source": [
    "labels = sorted(joined_melt_new['year_month'].unique())\n",
    "\n",
    "fig, axes = joypy.joyplot(joined_melt_new, by='topic', column='text', figsize=(20, 10),xlabelsize=20,ylabelsize=20,\n",
    "                          overlap=0.4, fill=True, linecolor=\"k\", linewidth=2,\n",
    "                          kind='values', fade=True, xrot=90, x_range=[i for i in range(len(labels))],\n",
    "                          background='white');\n",
    "\n",
    "ticks_labels = {i:t for i, t in enumerate(labels)}\n",
    "axes[-1].set_xticks([k for k, v in ticks_labels.items() if k % 6 == 0])\n",
    "ticks = axes[-1].get_xticks()\n",
    "axes[-1].set_xticklabels([ticks_labels.get(i, 'stop') for i in ticks]);"
   ]
  },
  {
   "cell_type": "code",
   "execution_count": 451,
   "metadata": {
    "ExecuteTime": {
     "end_time": "2019-02-03T11:51:40.261481Z",
     "start_time": "2019-02-03T11:51:39.050793Z"
    }
   },
   "outputs": [],
   "source": [
    "fig.savefig(f'data/visualization/{name_dataset}_joypy')"
   ]
  },
  {
   "cell_type": "code",
   "execution_count": null,
   "metadata": {},
   "outputs": [],
   "source": []
  }
 ],
 "metadata": {
  "kernelspec": {
   "display_name": "Python 3",
   "language": "python",
   "name": "python3"
  },
  "language_info": {
   "codemirror_mode": {
    "name": "ipython",
    "version": 3
   },
   "file_extension": ".py",
   "mimetype": "text/x-python",
   "name": "python",
   "nbconvert_exporter": "python",
   "pygments_lexer": "ipython3",
   "version": "3.6.7"
  },
  "varInspector": {
   "cols": {
    "lenName": 16,
    "lenType": 16,
    "lenVar": 40
   },
   "kernels_config": {
    "python": {
     "delete_cmd_postfix": "",
     "delete_cmd_prefix": "del ",
     "library": "var_list.py",
     "varRefreshCmd": "print(var_dic_list())"
    },
    "r": {
     "delete_cmd_postfix": ") ",
     "delete_cmd_prefix": "rm(",
     "library": "var_list.r",
     "varRefreshCmd": "cat(var_dic_list()) "
    }
   },
   "position": {
    "height": "882px",
    "left": "1568px",
    "right": "20px",
    "top": "120px",
    "width": "332px"
   },
   "types_to_exclude": [
    "module",
    "function",
    "builtin_function_or_method",
    "instance",
    "_Feature"
   ],
   "window_display": true
  }
 },
 "nbformat": 4,
 "nbformat_minor": 2
}
