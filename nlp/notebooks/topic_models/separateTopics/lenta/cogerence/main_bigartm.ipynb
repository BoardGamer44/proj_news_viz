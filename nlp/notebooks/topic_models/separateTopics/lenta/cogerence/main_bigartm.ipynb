{
 "cells": [
  {
   "cell_type": "code",
   "execution_count": 1,
   "metadata": {
    "ExecuteTime": {
     "end_time": "2019-02-14T14:25:47.606175Z",
     "start_time": "2019-02-14T14:25:47.301508Z"
    }
   },
   "outputs": [],
   "source": [
    "import os \n",
    "import re \n",
    "import warnings\n",
    "from datetime import datetime as time\n",
    "\n",
    "from typing import Iterable\n",
    "from collections import Counter\n",
    "from multiprocessing import Pool\n",
    "\n",
    "import artm\n",
    "import pandas as pd\n",
    "\n",
    "warnings.filterwarnings(\"ignore\", category=DeprecationWarning) "
   ]
  },
  {
   "cell_type": "code",
   "execution_count": 2,
   "metadata": {
    "ExecuteTime": {
     "end_time": "2019-02-14T14:25:49.465971Z",
     "start_time": "2019-02-14T14:25:49.399107Z"
    }
   },
   "outputs": [],
   "source": [
    "#from preprocessing_tools import lemmatization\n",
    "from preprocessing_tools import lemmatization"
   ]
  },
  {
   "cell_type": "code",
   "execution_count": 3,
   "metadata": {
    "ExecuteTime": {
     "end_time": "2019-02-14T14:25:55.480774Z",
     "start_time": "2019-02-14T14:25:49.472598Z"
    },
    "scrolled": true
   },
   "outputs": [],
   "source": [
    "data = pd.read_csv('../data/sport.csv.bz2')"
   ]
  },
  {
   "cell_type": "code",
   "execution_count": 4,
   "metadata": {
    "ExecuteTime": {
     "end_time": "2019-02-14T14:25:56.745234Z",
     "start_time": "2019-02-14T14:25:56.736941Z"
    }
   },
   "outputs": [
    {
     "data": {
      "text/plain": [
       "(60849, 7)"
      ]
     },
     "execution_count": 4,
     "metadata": {},
     "output_type": "execute_result"
    }
   ],
   "source": [
    "data.shape"
   ]
  },
  {
   "cell_type": "code",
   "execution_count": 31,
   "metadata": {
    "ExecuteTime": {
     "end_time": "2019-02-14T14:43:14.179931Z",
     "start_time": "2019-02-14T14:43:14.169535Z"
    }
   },
   "outputs": [
    {
     "data": {
      "text/html": [
       "<div>\n",
       "<style scoped>\n",
       "    .dataframe tbody tr th:only-of-type {\n",
       "        vertical-align: middle;\n",
       "    }\n",
       "\n",
       "    .dataframe tbody tr th {\n",
       "        vertical-align: top;\n",
       "    }\n",
       "\n",
       "    .dataframe thead th {\n",
       "        text-align: right;\n",
       "    }\n",
       "</style>\n",
       "<table border=\"1\" class=\"dataframe\">\n",
       "  <thead>\n",
       "    <tr style=\"text-align: right;\">\n",
       "      <th></th>\n",
       "      <th>1914-lenta/</th>\n",
       "      <th>url</th>\n",
       "      <th>edition</th>\n",
       "      <th>topics</th>\n",
       "      <th>title</th>\n",
       "      <th>text</th>\n",
       "      <th>topic</th>\n",
       "    </tr>\n",
       "  </thead>\n",
       "  <tbody>\n",
       "    <tr>\n",
       "      <th>0</th>\n",
       "      <td>1999-10-08 12:00:00</td>\n",
       "      <td>https://lenta.ru/news/1999/10/08/boxing/</td>\n",
       "      <td>NaN</td>\n",
       "      <td>Мир</td>\n",
       "      <td>Дочь Мухаммеда Али дебютирует на ринге</td>\n",
       "      <td>Лейла Али, дочь известного боксера-тяжеловеса ...</td>\n",
       "      <td>Спорт</td>\n",
       "    </tr>\n",
       "    <tr>\n",
       "      <th>1</th>\n",
       "      <td>1999-10-09 12:00:00</td>\n",
       "      <td>https://lenta.ru/news/1999/10/09/football/</td>\n",
       "      <td>NaN</td>\n",
       "      <td>Россия</td>\n",
       "      <td>Россия — Украина: ничья 1:1, Франция выиграла ...</td>\n",
       "      <td>В субботу 9 октября на Большой спортивной арен...</td>\n",
       "      <td>Спорт</td>\n",
       "    </tr>\n",
       "    <tr>\n",
       "      <th>2</th>\n",
       "      <td>1999-10-13 12:00:00</td>\n",
       "      <td>https://lenta.ru/news/1999/10/13/football/</td>\n",
       "      <td>NaN</td>\n",
       "      <td>Мир</td>\n",
       "      <td>Звезд английского футбола стало выгодно похищать</td>\n",
       "      <td>Как стало известно в среду, клубы футбольной п...</td>\n",
       "      <td>Спорт</td>\n",
       "    </tr>\n",
       "    <tr>\n",
       "      <th>3</th>\n",
       "      <td>1999-10-18 12:00:00</td>\n",
       "      <td>https://lenta.ru/news/1999/10/18/formula1/</td>\n",
       "      <td>NaN</td>\n",
       "      <td>Мир</td>\n",
       "      <td>Гонки в Малайзии стали роковыми для команды Fe...</td>\n",
       "      <td>Как сообщает The Times, в воскресенье, 17 октя...</td>\n",
       "      <td>Спорт</td>\n",
       "    </tr>\n",
       "    <tr>\n",
       "      <th>4</th>\n",
       "      <td>1999-12-01 12:00:00</td>\n",
       "      <td>https://lenta.ru/news/1999/12/01/club/</td>\n",
       "      <td>NaN</td>\n",
       "      <td>Экономика</td>\n",
       "      <td>Переговоры с Лондонским клубом опять ничем не ...</td>\n",
       "      <td>1 декабря во Франкфурте-на-Майне завершился оч...</td>\n",
       "      <td>Спорт</td>\n",
       "    </tr>\n",
       "  </tbody>\n",
       "</table>\n",
       "</div>"
      ],
      "text/plain": [
       "           1914-lenta/                                         url  edition  \\\n",
       "0  1999-10-08 12:00:00    https://lenta.ru/news/1999/10/08/boxing/      NaN   \n",
       "1  1999-10-09 12:00:00  https://lenta.ru/news/1999/10/09/football/      NaN   \n",
       "2  1999-10-13 12:00:00  https://lenta.ru/news/1999/10/13/football/      NaN   \n",
       "3  1999-10-18 12:00:00  https://lenta.ru/news/1999/10/18/formula1/      NaN   \n",
       "4  1999-12-01 12:00:00      https://lenta.ru/news/1999/12/01/club/      NaN   \n",
       "\n",
       "      topics                                              title  \\\n",
       "0        Мир             Дочь Мухаммеда Али дебютирует на ринге   \n",
       "1     Россия  Россия — Украина: ничья 1:1, Франция выиграла ...   \n",
       "2        Мир   Звезд английского футбола стало выгодно похищать   \n",
       "3        Мир  Гонки в Малайзии стали роковыми для команды Fe...   \n",
       "4  Экономика  Переговоры с Лондонским клубом опять ничем не ...   \n",
       "\n",
       "                                                text  topic  \n",
       "0  Лейла Али, дочь известного боксера-тяжеловеса ...  Спорт  \n",
       "1  В субботу 9 октября на Большой спортивной арен...  Спорт  \n",
       "2  Как стало известно в среду, клубы футбольной п...  Спорт  \n",
       "3  Как сообщает The Times, в воскресенье, 17 октя...  Спорт  \n",
       "4  1 декабря во Франкфурте-на-Майне завершился оч...  Спорт  "
      ]
     },
     "execution_count": 31,
     "metadata": {},
     "output_type": "execute_result"
    }
   ],
   "source": [
    "data.head()"
   ]
  },
  {
   "cell_type": "code",
   "execution_count": 32,
   "metadata": {
    "ExecuteTime": {
     "end_time": "2019-02-14T14:43:16.643270Z",
     "start_time": "2019-02-14T14:43:16.639651Z"
    }
   },
   "outputs": [],
   "source": [
    "CLEANER = re.compile(r'[^А-Яа-я0-9ёA-Za-z\\s]', flags=re.U | re.I | re.M)\n",
    "MULTIPLE_SPACES = re.compile(r'\\s+')\n",
    "\n",
    "CORPUS_NAME = 'viz_sport'\n",
    "BATCHES_FOLDER = 'batches'\n",
    "\n",
    "def clean_text(text: str) -> str:\n",
    "    result = CLEANER.sub(' ', text)\n",
    "    return MULTIPLE_SPACES.sub(' ', result).strip().lower()"
   ]
  },
  {
   "cell_type": "code",
   "execution_count": 33,
   "metadata": {
    "ExecuteTime": {
     "end_time": "2019-02-14T14:43:18.773537Z",
     "start_time": "2019-02-14T14:43:17.401212Z"
    }
   },
   "outputs": [],
   "source": [
    "with Pool(8) as p:\n",
    "    corpus = p.map(clean_text, data.text)"
   ]
  },
  {
   "cell_type": "code",
   "execution_count": 34,
   "metadata": {
    "ExecuteTime": {
     "end_time": "2019-02-14T14:43:19.229140Z",
     "start_time": "2019-02-14T14:43:19.224770Z"
    }
   },
   "outputs": [
    {
     "data": {
      "text/plain": [
       "['лейла али дочь известного боксера тяжеловеса мухаммеда али дебютирует в том же бизнесе в котором стал известен ее отец первый профессиональный бой лейлы состоится в пятницу в казино turning stone в вероне штат нью йорк уже назначены и следующие три боя лейлы я собираюсь отправить ее в нокаут заявила лейла по прозвищу мадам батерфляй имея в виду свою первую соперницу 27 летнюю эприл фаулер с которой она проведет четыре раунда боя в пятницу правда как сообщает bbc бой не будет транислироваться по телевидению и даже записываться на видео по просьбе самой лейлы которая нервничает однако на шоу по свидетельствам его устроителей уже собралось около 90 журналистов со всего света по словам лейлы ее мать вероника третья жена мухаммеда али тоже придет посмотреть дебютное выступление юной боксерши а вот придет ли на шоу отец неизвестно проработавший 21 год на ринге и теперь страдающий болезнью паркинсона мухаммед али отрицательно относится к решению дочери заняться профессиональным боксом соперница лейлы 27 летняя эприл фаулер в свою очередь говорит что уверена в победе и не боится лейлы с громкой фамилией али это просто фамилия я ведь буду драться не с ее отцом а с ней а она никогда не была на ринге заявила эприл',\n",
       " 'в субботу 9 октября на большой спортивной арене московского стадиона лужники проходит матч между футбольными сборными россии и украины первый тайм прошел с нулевым счетом на 76 й минуте матча счет открыл игрок российской сборной валерий карпин со штрафного удара на 87 й минуте в российские ворота влетел вратарь филимонов вместе с мячом британский арбитр добавил 4 минуты дополнительного времени но вырвать победу у гостей российской сборной не удалось на стадионе стат де франс в окрестностях парижа в это же время проходит игра между сборными франции и исландии там счет 3 2 в пользу французов в результате франция возглавила свою отборочную группу украина на втором месте сборная россии оставшись на третьем месте не попадет на чемпионат европы 2000 на матче присутствовали глава правительства россии владимир путин премьер министр украины пустовойтенко мэр москвы юрий лужков экс премьер евгений примаков и другие политики накануне матча российские болельщики обещали устроить массовые беспорядки в москве если матч не закончится победой хозяев поля']"
      ]
     },
     "execution_count": 34,
     "metadata": {},
     "output_type": "execute_result"
    }
   ],
   "source": [
    "corpus[:2]"
   ]
  },
  {
   "cell_type": "code",
   "execution_count": 35,
   "metadata": {
    "ExecuteTime": {
     "end_time": "2019-02-14T14:43:21.830035Z",
     "start_time": "2019-02-14T14:43:21.827747Z"
    }
   },
   "outputs": [],
   "source": [
    "corpus = map(lemmatization, corpus)"
   ]
  },
  {
   "cell_type": "code",
   "execution_count": 10,
   "metadata": {
    "ExecuteTime": {
     "end_time": "2019-02-14T14:26:11.420821Z",
     "start_time": "2019-02-14T14:26:11.417209Z"
    }
   },
   "outputs": [],
   "source": [
    "def _to_vw_format(name: str, corpus_iter: Iterable) -> bool:\n",
    "    with open(f'{name}.vw', 'w') as vw_corpus:\n",
    "        for doc_id, text in enumerate(corpus_iter):\n",
    "            word_counter = Counter(text)\n",
    "            doc = ' '.join([f'{k}:{v}' for k, v in word_counter.items()])\n",
    "            vw_corpus.write(f'{doc_id} | {doc}\\n')\n",
    "    return True"
   ]
  },
  {
   "cell_type": "code",
   "execution_count": 39,
   "metadata": {
    "ExecuteTime": {
     "end_time": "2019-02-14T14:44:36.736164Z",
     "start_time": "2019-02-14T14:44:36.732992Z"
    }
   },
   "outputs": [],
   "source": [
    "def _to_vw_format(name: str, corpus_iter: Iterable) -> bool:\n",
    "    with open(f'{name}.vw', 'w') as vw_corpus:\n",
    "        for did, text in enumerate(corpus_iter):\n",
    "            vw_corpus.write('{} | {}\\n'.format(did, ' '.join(text)))\n",
    "            \n",
    "    return True"
   ]
  },
  {
   "cell_type": "code",
   "execution_count": 40,
   "metadata": {
    "ExecuteTime": {
     "end_time": "2019-02-14T14:45:51.425968Z",
     "start_time": "2019-02-14T14:44:37.727939Z"
    }
   },
   "outputs": [
    {
     "data": {
      "text/plain": [
       "True"
      ]
     },
     "execution_count": 40,
     "metadata": {},
     "output_type": "execute_result"
    }
   ],
   "source": [
    "_to_vw_format(CORPUS_NAME, corpus)"
   ]
  },
  {
   "cell_type": "code",
   "execution_count": 42,
   "metadata": {
    "ExecuteTime": {
     "end_time": "2019-02-14T14:46:28.285254Z",
     "start_time": "2019-02-14T14:46:28.157680Z"
    },
    "scrolled": true
   },
   "outputs": [
    {
     "name": "stdout",
     "output_type": "stream",
     "text": [
      "0 | 16 летний хоккеист адам литтекен выступать команда школа американский сента луис скончаться тренировка литтекен партнёр разминаться занятие юноша неожиданно упасть лёд потерять сознание игрок доставить местный больница врач констатировать смерть associated press стадион приехать скорый хоккеист пытаться оказать помощь врач команда литтекен отсутствовать пульс тренер партнёр игрок падение лёд сталкиваться хоккеист попадать шайба литтекен выступать команда школа francis howell central учиться 2200 несчастный случай школа специально направить детский психолог\r\n",
      "1 | сборная англия понести очередной кадровый потеря менее неделя матч оборочный турнир евро 2008 против россия 17 известно центральный полузащитник манчестер юнайтед майкл каррик трещина локоть выбыть строй срок полтора месяц bbc news каррик повреждение матч групповой турнир лига чемпион манчестер юнайтед рома часы окончание встреча степень серьёзность травма оставаться неизвестный сделать рентгеновский снимка подтвердить плохой опасение врач ориентировочный дата возвращение каррик пол 24 образ состав клуб полузащитник пропустить пять игра чемпионат англия оба матч лига чемпион против киевский динамо сборная англия каррик наверняка сыграть встреча против эстония 13 россия 17 английский команда травма потерять оуэн харгривз эмиль хески дэвид бекхэма скорее майкл оуэн вопрос оставаться участие матч сборный россия фрэнк лэмпард\r\n"
     ]
    }
   ],
   "source": [
    "!head -2 viz_sport.vw"
   ]
  },
  {
   "cell_type": "code",
   "execution_count": 43,
   "metadata": {
    "ExecuteTime": {
     "end_time": "2019-02-14T14:46:34.078155Z",
     "start_time": "2019-02-14T14:46:34.074442Z"
    }
   },
   "outputs": [],
   "source": [
    "def gather_batches(corpus_name, batches_folder):\n",
    "    batch_vec = artm.BatchVectorizer(data_path=f'{corpus_name}.vw',\n",
    "                                     data_format='vowpal_wabbit',\n",
    "                                     target_folder=batches_folder)\n",
    "    dictionary = artm.Dictionary()\n",
    "    dictionary.gather(data_path=batches_folder)\n",
    "    dictionary.save(f'{batches_folder}/{corpus_name}.dict')\n",
    "    return batch_vec"
   ]
  },
  {
   "cell_type": "code",
   "execution_count": 44,
   "metadata": {
    "ExecuteTime": {
     "end_time": "2019-02-14T14:46:41.024137Z",
     "start_time": "2019-02-14T14:46:36.202098Z"
    },
    "scrolled": true
   },
   "outputs": [],
   "source": [
    "batch_vec = gather_batches(CORPUS_NAME, BATCHES_FOLDER)"
   ]
  },
  {
   "cell_type": "code",
   "execution_count": 45,
   "metadata": {
    "ExecuteTime": {
     "end_time": "2019-02-14T14:55:22.629678Z",
     "start_time": "2019-02-14T14:53:23.635415Z"
    },
    "scrolled": true
   },
   "outputs": [
    {
     "name": "stdout",
     "output_type": "stream",
     "text": [
      "59 batches were found, start processing\n",
      "Process batch: 0\n",
      "Finished batch, elapsed time: 1.634000301361084\n",
      "Process batch: 1\n",
      "Finished batch, elapsed time: 1.5443353652954102\n",
      "Process batch: 2\n",
      "Finished batch, elapsed time: 1.1917941570281982\n",
      "Process batch: 3\n",
      "Finished batch, elapsed time: 1.8754370212554932\n",
      "Process batch: 4\n",
      "Finished batch, elapsed time: 1.2298903465270996\n",
      "Process batch: 5\n",
      "Finished batch, elapsed time: 1.1730828285217285\n",
      "Process batch: 6\n",
      "Finished batch, elapsed time: 1.7935881614685059\n",
      "Process batch: 7\n",
      "Finished batch, elapsed time: 1.5972890853881836\n",
      "Process batch: 8\n",
      "Finished batch, elapsed time: 1.577789068222046\n",
      "Process batch: 9\n",
      "Finished batch, elapsed time: 2.016347646713257\n",
      "Process batch: 10\n",
      "Finished batch, elapsed time: 1.912757396697998\n",
      "Process batch: 11\n",
      "Finished batch, elapsed time: 1.310725450515747\n",
      "Process batch: 12\n",
      "Finished batch, elapsed time: 1.8584821224212646\n",
      "Process batch: 13\n",
      "Finished batch, elapsed time: 1.8798530101776123\n",
      "Process batch: 14\n",
      "Finished batch, elapsed time: 1.8985786437988281\n",
      "Process batch: 15\n",
      "Finished batch, elapsed time: 1.5227251052856445\n",
      "Process batch: 16\n",
      "Finished batch, elapsed time: 1.6993355751037598\n",
      "Process batch: 17\n",
      "Finished batch, elapsed time: 1.9364373683929443\n",
      "Process batch: 18\n",
      "Finished batch, elapsed time: 1.3127057552337646\n",
      "Process batch: 19\n",
      "Finished batch, elapsed time: 1.8120646476745605\n",
      "Process batch: 20\n",
      "Finished batch, elapsed time: 1.8559210300445557\n",
      "Process batch: 21\n",
      "Finished batch, elapsed time: 1.8616752624511719\n",
      "Process batch: 22\n",
      "Finished batch, elapsed time: 1.7611732482910156\n",
      "Process batch: 23\n",
      "Finished batch, elapsed time: 1.171471357345581\n",
      "Process batch: 24\n",
      "Finished batch, elapsed time: 1.810436725616455\n",
      "Process batch: 25\n",
      "Finished batch, elapsed time: 1.4349005222320557\n",
      "Process batch: 26\n",
      "Finished batch, elapsed time: 1.438661813735962\n",
      "Process batch: 27\n",
      "Finished batch, elapsed time: 1.7327117919921875\n",
      "Process batch: 28\n",
      "Finished batch, elapsed time: 1.6149187088012695\n",
      "Process batch: 29\n",
      "Finished batch, elapsed time: 1.8005857467651367\n",
      "Process batch: 30\n",
      "Finished batch, elapsed time: 1.9535677433013916\n",
      "Process batch: 31\n",
      "Finished batch, elapsed time: 1.8055529594421387\n",
      "Process batch: 32\n",
      "Finished batch, elapsed time: 1.9347789287567139\n",
      "Process batch: 33\n",
      "Finished batch, elapsed time: 2.036705255508423\n",
      "Process batch: 34\n",
      "Finished batch, elapsed time: 1.9740631580352783\n",
      "Process batch: 35\n",
      "Finished batch, elapsed time: 1.8566007614135742\n",
      "Process batch: 36\n",
      "Finished batch, elapsed time: 1.9940531253814697\n",
      "Process batch: 37\n",
      "Finished batch, elapsed time: 1.5885052680969238\n",
      "Process batch: 38\n",
      "Finished batch, elapsed time: 2.0302581787109375\n",
      "Process batch: 39\n",
      "Finished batch, elapsed time: 1.3365764617919922\n",
      "Process batch: 40\n",
      "Finished batch, elapsed time: 1.5374188423156738\n",
      "Process batch: 41\n",
      "Finished batch, elapsed time: 1.1634435653686523\n",
      "Process batch: 42\n",
      "Finished batch, elapsed time: 2.018082857131958\n",
      "Process batch: 43\n",
      "Finished batch, elapsed time: 2.031703233718872\n",
      "Process batch: 44\n",
      "Finished batch, elapsed time: 1.5391936302185059\n",
      "Process batch: 45\n",
      "Finished batch, elapsed time: 1.483135461807251\n",
      "Process batch: 46\n",
      "Finished batch, elapsed time: 2.020867347717285\n",
      "Process batch: 47\n",
      "Finished batch, elapsed time: 1.7853810787200928\n",
      "Process batch: 48\n",
      "Finished batch, elapsed time: 1.9028353691101074\n",
      "Process batch: 49\n",
      "Finished batch, elapsed time: 2.014519691467285\n",
      "Process batch: 50\n",
      "Finished batch, elapsed time: 1.5869970321655273\n",
      "Process batch: 51\n",
      "Finished batch, elapsed time: 1.8176424503326416\n",
      "Process batch: 52\n",
      "Finished batch, elapsed time: 1.6001574993133545\n",
      "Process batch: 53\n",
      "Finished batch, elapsed time: 1.8589153289794922\n",
      "Process batch: 54\n",
      "Finished batch, elapsed time: 1.9299590587615967\n",
      "Process batch: 55\n",
      "Finished batch, elapsed time: 1.8853061199188232\n",
      "Process batch: 56\n",
      "Finished batch, elapsed time: 1.720407247543335\n",
      "Process batch: 57\n",
      "Finished batch, elapsed time: 1.3592033386230469\n",
      "Process batch: 58\n",
      "Finished batch, elapsed time: 1.995302677154541\n",
      "Finished collection, elapsed time: 117.57467031478882, size: 0.654240988 Gb\n"
     ]
    }
   ],
   "source": [
    "!python create_cooc_data.py batches 15"
   ]
  },
  {
   "cell_type": "code",
   "execution_count": 46,
   "metadata": {
    "ExecuteTime": {
     "end_time": "2019-02-14T14:58:13.535125Z",
     "start_time": "2019-02-14T14:57:31.084509Z"
    }
   },
   "outputs": [
    {
     "data": {
      "text/plain": [
       "artm.Dictionary(name=b545deaa-dc4c-4580-8890-9ee78347cf08, num_entries=20255)"
      ]
     },
     "execution_count": 46,
     "metadata": {},
     "output_type": "execute_result"
    }
   ],
   "source": [
    "cooc_dict = artm.Dictionary()\n",
    "cooc_dict.gather(\n",
    "    data_path='batches',\n",
    "    cooc_file_path='cooc_data.txt',\n",
    "    symmetric_cooc_values=True)\n",
    "\n",
    "cooc_dict.filter(min_tf=10, max_df_rate=0.2)"
   ]
  },
  {
   "cell_type": "code",
   "execution_count": 47,
   "metadata": {
    "ExecuteTime": {
     "end_time": "2019-02-14T15:01:51.943116Z",
     "start_time": "2019-02-14T14:59:20.310306Z"
    },
    "scrolled": true
   },
   "outputs": [
    {
     "name": "stdout",
     "output_type": "stream",
     "text": [
      "#topic 20.........\n",
      "\tSparsityThetaScore: 0.7698845863342285\n",
      "\tSparsityPhiScore: 0.8168452382087708\n",
      "\tPerplexityScore: 1360.0650634765625\n",
      "\tCoherenceScore: 680.74853515625\n",
      "\ttime: 0:00:27.872636\n",
      "#topic 21.........\n",
      "\tSparsityThetaScore: 0.7743103504180908\n",
      "\tSparsityPhiScore: 0.8238106966018677\n",
      "\tPerplexityScore: 1335.182373046875\n",
      "\tCoherenceScore: 671.67724609375\n",
      "\ttime: 0:00:28.959401\n",
      "#topic 22.........\n",
      "\tSparsityThetaScore: 0.7847816348075867\n",
      "\tSparsityPhiScore: 0.8275061249732971\n",
      "\tPerplexityScore: 1316.20361328125\n",
      "\tCoherenceScore: 679.611328125\n",
      "\ttime: 0:00:30.456647\n",
      "#topic 23.........\n",
      "\tSparsityThetaScore: 0.789788007736206\n",
      "\tSparsityPhiScore: 0.8322346806526184\n",
      "\tPerplexityScore: 1300.062255859375\n",
      "\tCoherenceScore: 670.1444702148438\n",
      "\ttime: 0:00:31.965530\n",
      "#topic 24.........\n",
      "\tSparsityThetaScore: 0.7927480340003967\n",
      "\tSparsityPhiScore: 0.8365197777748108\n",
      "\tPerplexityScore: 1285.893310546875\n",
      "\tCoherenceScore: 629.0869140625\n",
      "\ttime: 0:00:32.367456\n"
     ]
    }
   ],
   "source": [
    "model_list = []\n",
    "step, coherences, perplexity, sTheta, sPhi = [], [], [], [], []\n",
    "\n",
    "for i in range(20, 25, 1):\n",
    "    print(f'#topic {i}.........')\n",
    "    step.append(i)\n",
    "    date_start = time.now()\n",
    "    \n",
    "    num_topics = i\n",
    "    model = artm.ARTM(num_topics=num_topics, dictionary=cooc_dict)\n",
    "    \n",
    "    # scores\n",
    "    coherence_score = artm.TopTokensScore(\n",
    "                            name='TopTokensCoherenceScore',\n",
    "                            class_id='@default_class',\n",
    "                            num_tokens=15,\n",
    "                            dictionary=cooc_dict)\n",
    "    \n",
    "    model.scores.add(artm.PerplexityScore(name='PerplexityScore', dictionary=cooc_dict))\n",
    "    model.scores.add(artm.SparsityThetaScore(name='SparsityThetaScore'))\n",
    "    model.scores.add(artm.SparsityPhiScore(name='SparsityPhiScore'))\n",
    "    model.scores.add(coherence_score)\n",
    "    \n",
    "    # first regularizer\n",
    "    model.regularizers.add(artm.DecorrelatorPhiRegularizer(name='DecorrelatorPhi', tau=1.5e+5))\n",
    "    model.fit_offline(batch_vectorizer=batch_vec, num_collection_passes=10)\n",
    "    \n",
    "    # second one\n",
    "    model.regularizers.add(artm.SmoothSparsePhiRegularizer(name='SparsePhi', tau=-0.1))\n",
    "    model.fit_offline(batch_vectorizer=batch_vec, num_collection_passes=5)\n",
    "    \n",
    "    # third regularizer\n",
    "    model.regularizers.add(artm.SmoothSparseThetaRegularizer(name='SparseTheta', tau=-0.5))\n",
    "    model.fit_offline(batch_vectorizer=batch_vec, num_collection_passes=15)\n",
    "\n",
    "    model_list.append(model)\n",
    "    \n",
    "    sparsityTheta = model.score_tracker['SparsityThetaScore'].last_value\n",
    "    sTheta.append(sparsityTheta)\n",
    "    sparsityPhi = model.score_tracker['SparsityPhiScore'].last_value\n",
    "    sPhi.append(sparsityPhi)\n",
    "    perpl = model.score_tracker['PerplexityScore'].last_value\n",
    "    perplexity.append(perpl)\n",
    "    coherence = model.score_tracker['TopTokensCoherenceScore'].last_average_coherence\n",
    "    coherences.append(coherence)\n",
    "    \n",
    "    print(f'\\tSparsityThetaScore: {sparsityTheta}')\n",
    "    print(f'\\tSparsityPhiScore: {sparsityPhi}')\n",
    "    print(f'\\tPerplexityScore: {perpl}')\n",
    "    print(f'\\tCoherenceScore: {coherence}')\n",
    "    \n",
    "    print('\\ttime:',time.now() - date_start)"
   ]
  },
  {
   "cell_type": "code",
   "execution_count": 16,
   "metadata": {},
   "outputs": [],
   "source": [
    "import matplotlib.pyplot as plt\n",
    "import seaborn as sns\n",
    "\n",
    "%matplotlib inline"
   ]
  },
  {
   "cell_type": "code",
   "execution_count": 17,
   "metadata": {},
   "outputs": [
    {
     "data": {
      "text/plain": [
       "Text(0.5, 1.0, 'SparsityPhiScore')"
      ]
     },
     "execution_count": 17,
     "metadata": {},
     "output_type": "execute_result"
    },
    {
     "data": {
      "image/png": "[encoded data removed]",
      "text/plain": [
       "<Figure size 432x288 with 1 Axes>"
      ]
     },
     "metadata": {
      "needs_background": "light"
     },
     "output_type": "display_data"
    }
   ],
   "source": [
    "plt.plot(step, sPhi, color='k',linewidth=3, marker='x')\n",
    "ax = plt.gca()\n",
    "ax.set_xticks(step)\n",
    "plt.grid()\n",
    "plt.title('SparsityPhiScore')"
   ]
  },
  {
   "cell_type": "code",
   "execution_count": 18,
   "metadata": {},
   "outputs": [],
   "source": [
    "index_sphi = []\n",
    "[index_sphi.append(float(str(i)[:3]) ) for i in sPhi]\n",
    "    \n",
    "index_sphi = list(set(index_sphi))\n",
    "index_sphi.sort()"
   ]
  },
  {
   "cell_type": "code",
   "execution_count": 19,
   "metadata": {},
   "outputs": [],
   "source": [
    "d_sphi = {}\n",
    "\n",
    "for j in range(len(index_sphi)):\n",
    "    k=0\n",
    "    for i in sPhi:\n",
    "        if j==range(len(index_sphi))[-1]:\n",
    "            if (i>=index_sphi[j]):\n",
    "                k+=1\n",
    "        else:\n",
    "            if (i>=index_sphi[j]) & (i<index_sphi[j+1]):\n",
    "                k+=1\n",
    "    d_sphi[index_sphi[j]]=k"
   ]
  },
  {
   "cell_type": "code",
   "execution_count": 20,
   "metadata": {},
   "outputs": [
    {
     "data": {
      "text/plain": [
       "Text(0.5, 1.0, 'SparsityThetaScore')"
      ]
     },
     "execution_count": 20,
     "metadata": {},
     "output_type": "execute_result"
    },
    {
     "data": {
      "image/png": "[encoded data removed]",
      "text/plain": [
       "<Figure size 432x288 with 1 Axes>"
      ]
     },
     "metadata": {
      "needs_background": "light"
     },
     "output_type": "display_data"
    }
   ],
   "source": [
    "plt.plot(step, sTheta, color='g',linewidth=3, marker='x')\n",
    "ax = plt.gca()\n",
    "ax.set_xticks(step)\n",
    "plt.grid()\n",
    "\n",
    "plt.title('SparsityThetaScore')"
   ]
  },
  {
   "cell_type": "code",
   "execution_count": 21,
   "metadata": {},
   "outputs": [],
   "source": [
    "index_theta = []\n",
    "[index_theta.append(float(str(i)[:3])) for i in sTheta]\n",
    "    \n",
    "index_theta = list(set(index_theta))\n",
    "index_theta.sort()"
   ]
  },
  {
   "cell_type": "code",
   "execution_count": 22,
   "metadata": {},
   "outputs": [],
   "source": [
    "d_stheta = {}\n",
    "\n",
    "for j in range(len(index_theta)):\n",
    "    k=0\n",
    "    for i in sTheta:\n",
    "        if j==range(len(index_theta))[-1]:\n",
    "            if (i>=index_theta[j]):\n",
    "                k+=1\n",
    "        else:\n",
    "            if (i>=index_theta[j]) & (i<index_theta[j+1]):\n",
    "                k+=1\n",
    "    d_stheta[index_theta[j]]=k"
   ]
  },
  {
   "cell_type": "code",
   "execution_count": 23,
   "metadata": {},
   "outputs": [
    {
     "data": {
      "text/plain": [
       "Text(0.5, 1.0, 'PerplexityScore')"
      ]
     },
     "execution_count": 23,
     "metadata": {},
     "output_type": "execute_result"
    },
    {
     "data": {
      "image/png": "[encoded data removed]",
      "text/plain": [
       "<Figure size 432x288 with 1 Axes>"
      ]
     },
     "metadata": {
      "needs_background": "light"
     },
     "output_type": "display_data"
    }
   ],
   "source": [
    "plt.plot(step, perplexity, color='b',linewidth=3, marker='x')\n",
    "ax = plt.gca()\n",
    "ax.set_xticks(step)\n",
    "plt.grid()\n",
    "plt.title('PerplexityScore')"
   ]
  },
  {
   "cell_type": "code",
   "execution_count": 24,
   "metadata": {},
   "outputs": [
    {
     "data": {
      "text/plain": [
       "Text(0.5, 1.0, 'CoherenceScore')"
      ]
     },
     "execution_count": 24,
     "metadata": {},
     "output_type": "execute_result"
    },
    {
     "data": {
      "image/png": "[encoded data removed]",
      "text/plain": [
       "<Figure size 432x288 with 1 Axes>"
      ]
     },
     "metadata": {
      "needs_background": "light"
     },
     "output_type": "display_data"
    }
   ],
   "source": [
    "plt.plot(step, coherences, color='b',linewidth=3, marker='x')\n",
    "ax = plt.gca()\n",
    "ax.set_xticks(step)\n",
    "plt.grid()\n",
    "plt.title('CoherenceScore')"
   ]
  },
  {
   "cell_type": "code",
   "execution_count": 25,
   "metadata": {},
   "outputs": [],
   "source": [
    "best_model = model_list[-1]"
   ]
  },
  {
   "cell_type": "code",
   "execution_count": 26,
   "metadata": {},
   "outputs": [
    {
     "name": "stdout",
     "output_type": "stream",
     "text": [
      "topic_0: ['госдума' 'депутат' 'законопроект' 'закон' 'поправка' 'внести' 'комитет'\n",
      " 'инициатива' 'чтение' 'предложить']\n",
      "topic_1: ['фонд' 'подпись' 'матвиенко' 'сбор' 'доход' 'собрать' 'валентин'\n",
      " 'собирать' 'лист' 'декларация']\n",
      "topic_2: ['письмо' 'телефон' 'обращение' 'просьба' 'доклад' 'мобильный' 'связь'\n",
      " 'башкирия' 'обратиться' 'голодовка']\n",
      "topic_3: ['развитие' 'институт' 'проект' 'программа' 'центр' 'создание' 'академия'\n",
      " 'наука' 'научный' 'культура']\n",
      "topic_4: ['документ' 'организация' 'деятельность' 'должный' 'закон' 'федеральный'\n",
      " 'согласно' 'информация' 'министерство' 'подписать']\n",
      "topic_5: ['флот' 'корабль' 'морской' 'лодка' 'вмф' 'адмирал' 'подводный' 'северный'\n",
      " 'черноморский' 'мор']\n",
      "topic_6: ['ущерб' 'фирма' 'мошенничество' 'васильев' 'хищение' 'деньга' 'имущество'\n",
      " 'продать' 'следствие' 'сумма']\n",
      "topic_7: ['россиянин' 'опрос' 'опросить' 'мнение' 'считать' 'рейтинг' 'респондент'\n",
      " 'центр' 'страна' 'исследование']\n",
      "topic_8: ['губернатор' 'регион' 'округа' 'областной' 'автономный' 'администрация'\n",
      " 'федеральный' 'александр' 'самарский' 'новосибирский']\n",
      "topic_9: ['сказать' 'говорить' 'мнение' 'просто' 'рассказать' 'интервью' 'считать'\n",
      " 'хотеть' 'добавить' 'знать']\n",
      "topic_10: ['компания' 'ходорковский' 'лебедев' 'юкос' 'михаил' 'бывший' 'бизнесмен'\n",
      " 'налог' 'предприниматель' 'платон']\n",
      "topic_11: ['написать' 'правозащитник' 'заявление' 'право' 'уполномоченный'\n",
      " 'страница' 'высказывание' 'пономарев' 'правозащитный' 'алексеев']\n",
      "topic_12: ['журналист' 'радиостанция' 'эхо' 'телеканал' 'нтв' 'эфир' 'книга'\n",
      " 'посольство' 'ельцин' 'борис']\n",
      "topic_13: ['газета' 'издание' 'писать' 'коммерсант' 'известие' 'ru' 'березовский'\n",
      " 'источник' 'информация' 'ведомость']\n",
      "topic_14: ['республика' 'северный' 'дагестан' 'осетия' 'татарстан' 'республиканский'\n",
      " 'кавказ' 'ставропольский' 'беслан' 'заложник']\n",
      "topic_15: ['животное' 'камчатский' 'собака' 'животный' 'петропавловск' 'медведь'\n",
      " 'зоопарк' 'камчатка' 'охота' 'тигр']\n",
      "topic_16: ['арест' 'обвинение' 'предъявить' 'фигурант' 'беспорядок' 'обвинять'\n",
      " 'арестовать' 'стража' 'следствие' 'болотный']\n",
      "topic_17: ['площадь' '00' 'улица' 'тверская' 'красный' 'парад' 'набережная' 'май'\n",
      " 'движение' 'бульвар']\n",
      "topic_18: ['гражданин' 'мигрант' 'страна' 'гражданство' 'россиянин' 'паспорт'\n",
      " 'территория' 'иностранец' 'миграционный' 'пребывание']\n",
      "topic_19: ['процент' 'число' 'составить' 'количество' '10' '20' '13' '11' 'набрать'\n",
      " '12']\n",
      "topic_20: ['проведение' 'мероприятие' 'организатор' 'марш' 'шествие' 'русский'\n",
      " 'участник' 'заявка' 'провести' 'власть']\n",
      "topic_21: ['магазин' 'продажа' 'продукция' 'торговый' 'алкоголь' 'напиток' 'товар'\n",
      " 'рынок' 'запретить' 'торговля']\n",
      "topic_22: ['церковь' 'храм' 'православный' 'патриарх' 'религиозный' 'русский'\n",
      " 'кирилл' 'рпц' 'собор' 'московский']\n",
      "topic_23: ['24' 'турция' 'су' 'турецкий' 'белоруссия' 'бомбардировщик' 'истребитель'\n",
      " 'сбить' 'анкара' 'ввс']\n",
      "topic_24: ['станция' 'метро' 'линия' 'метрополитен' 'московский' 'вокзал' 'поезд'\n",
      " 'пассажир' 'движение' 'столичный']\n",
      "topic_25: ['мэр' 'навальный' 'город' 'алексей' 'сергей' 'собянин' 'городской'\n",
      " 'оппозиционер' 'иван' 'исполнять']\n",
      "topic_26: ['встреча' 'визит' 'сотрудничество' 'страна' 'саммит' 'путин'\n",
      " 'международный' 'лидер' 'форум' 'переговоры']\n",
      "topic_27: ['ребёнок' 'детский' 'девочка' 'родитель' 'семья' 'мальчик' 'подросток'\n",
      " 'женщина' 'несовершеннолетний' 'сын']\n",
      "topic_28: ['движение' 'лидер' 'союз' 'немцов' 'партия' 'касьянов' 'борис'\n",
      " 'организация' 'политический' 'спс']\n",
      "topic_29: ['изъять' 'наркотик' 'обнаружить' 'оружие' 'вещество' 'обыск' 'незаконный'\n",
      " 'хранение' 'найти' 'оборот']\n",
      "topic_30: ['суд' 'иск' 'подать' 'жалоба' 'компенсация' 'удовлетворить' 'моральный'\n",
      " 'решение' 'требовать' 'заявление']\n",
      "topic_31: ['проверка' 'сайт' 'прокуратура' 'управление' 'следственный' 'сообщение'\n",
      " 'комитет' 'сообщаться' 'говориться' 'ведомство']\n",
      "topic_32: ['мчс' 'вертолёт' 'тело' 'погибший' 'спасатель' 'пропасть' 'поиск'\n",
      " 'обнаружить' 'район' 'шахта']\n",
      "topic_33: ['пресс' 'ру' 'лента' 'секретарь' 'песок' 'дмитрий' 'кремль' 'информация'\n",
      " 'корреспондент' 'сказать']\n",
      "topic_34: ['долг' 'банка' 'пристав' 'челябинский' 'судебный' 'задолженность' 'счёт'\n",
      " 'кредит' 'банк' 'челябинск']\n",
      "topic_35: ['получить' 'инцидент' 'травма' 'драка' 'нападение' 'больница'\n",
      " 'пострадавший' 'конфликт' 'ранение' 'госпитализировать']\n",
      "topic_36: ['правило' 'нарушение' 'штраф' 'административный' 'рубль'\n",
      " 'ответственность' 'гибдд' 'правонарушение' 'водитель' 'инспектор']\n",
      "topic_37: ['улица' 'шоссе' 'парковка' 'кольцо' 'проспект' 'мкад' 'переход' 'платный'\n",
      " 'движение' 'садовый']\n",
      "topic_38: ['самолёт' 'катастрофа' 'разбиться' 'экипаж' 'падение' 'пилот' 'погибнуть'\n",
      " 'полёт' 'крушение' 'упасть']\n",
      "topic_39: ['список' 'пост' 'кандидат' 'выборы' 'кандидатура' 'госдума' 'выдвинуть'\n",
      " 'баллотироваться' 'гудков' 'прохоров']\n",
      "topic_40: ['проблема' 'обеспечение' 'условие' 'безопасность' 'программа'\n",
      " 'необходимый' 'жильё' 'внимание' 'работа' 'система']\n",
      "topic_41: ['партия' 'единый' 'кпрф' 'лидер' 'яблоко' 'отделение' 'коммунист'\n",
      " 'справедливый' 'съезд' 'фракция']\n",
      "topic_42: ['сторона' 'ситуация' 'конфликт' 'переговоры' 'соглашение' 'действие'\n",
      " 'договорённость' 'сложиться' 'урегулирование' 'прекращение']\n",
      "topic_43: ['помощь' 'больница' 'медицинский' 'врач' 'состояние' 'лечение' 'скора'\n",
      " 'здоровье' 'медик' 'экспертиза']\n",
      "topic_44: ['борьба' 'коррупция' 'фсб' 'терроризм' 'безопасность' 'преступление'\n",
      " 'спецслужба' 'противодействие' 'мера' 'смирнов']\n",
      "topic_45: ['чечня' 'кадыров' 'чеченский' 'боевик' 'республика' 'грозный' 'район'\n",
      " 'федеральный' 'рамзан' 'кавказ']\n",
      "topic_46: ['война' 'советский' 'великий' 'грузия' 'отечественный' 'победа' 'ветеран'\n",
      " 'ссср' 'южный' 'грузинский']\n",
      "topic_47: ['военнослужащий' 'военный' 'солдат' 'часть' 'офицер' 'курск' 'боеприпас'\n",
      " 'воинский' 'снаряд' 'командир']\n",
      "topic_48: ['техника' 'военный' 'вооружение' 'ракета' 'вертолёт' 'комплекс'\n",
      " 'ракетный' 'завод' 'предприятие' 'космический']\n",
      "topic_49: ['владивосток' 'судно' 'завод' 'судный' 'остров' 'экипаж' 'приморье'\n",
      " 'борт' 'теплоход' 'порт']\n",
      "topic_50: ['автомобиль' 'машина' 'водитель' 'дтп' 'авария' 'автобус' 'погибнуть'\n",
      " 'получить' 'происшествие' 'гибдд']\n",
      "topic_51: ['решение' 'принять' 'вопрос' 'заседание' 'участие' 'решить' 'принимать'\n",
      " 'апрель' 'день' 'решаться']\n",
      "topic_52: ['край' 'клуб' 'краснодарский' 'краевой' 'приморский' 'пермский' 'пермь'\n",
      " 'коми' 'забайкальский' 'ночное']\n",
      "topic_53: ['мэр' 'лужков' 'московский' 'столица' 'столичный' 'юрий' 'город'\n",
      " 'департамент' 'городской' 'власть']\n",
      "topic_54: ['дом' 'здание' 'квартира' 'жилой' 'улица' 'этаж' 'подъезд' 'расположить'\n",
      " 'помещение' 'адрес']\n",
      "topic_55: ['день' 'праздник' 'парк' 'парка' 'мероприятие' 'гостиница' 'новогодний'\n",
      " 'выходной' 'праздничный' 'декабрь']\n",
      "topic_56: ['пожар' 'пожарный' 'возгорание' 'мчс' 'здание' 'огонь' 'метр' 'площадь'\n",
      " 'квадратный' 'причина']\n",
      "topic_57: ['иванов' 'германия' 'франция' 'европа' 'европейский' 'израиль'\n",
      " 'калининградский' 'ес' 'калининград' 'французский']\n",
      "topic_58: ['зарплата' 'выплата' 'социальный' 'труд' 'размер' 'правительство'\n",
      " 'бюджет' 'компенсация' 'семья' 'работник']\n",
      "topic_59: ['отравление' 'попов' 'роспотребнадзор' 'заболевание' 'санитарный'\n",
      " 'случай' 'болезнь' 'грипп' 'онищенко' 'скворцовый']\n",
      "topic_60: ['свобода' 'лишение' 'срок' 'приговорить' 'приговор' 'наказание' 'суд'\n",
      " 'осудить' 'виновный' 'колония']\n",
      "topic_61: ['начальник' 'заключённый' 'ингушетия' 'колония' 'фсин' 'изолятор' 'сизый'\n",
      " 'управление' 'осудить' 'евкуров']\n",
      "topic_62: ['акция' 'митинг' 'активист' 'участник' 'протест' 'против' 'площадь'\n",
      " 'оппозиционер' 'удальцов' 'власть']\n",
      "topic_63: ['работа' 'авария' 'мост' 'причина' 'газа' 'ремонт' 'восстановить'\n",
      " 'рабочий' 'обрушение' 'восстановление']\n",
      "topic_64: ['дорога' 'транспорт' 'километр' 'транспортный' 'трасса' 'дорожный'\n",
      " 'система' 'движение' 'проезд' 'скорость']\n",
      "topic_65: ['выбор' 'избирательный' 'кандидат' 'выборы' 'голосование' 'избиратель'\n",
      " 'голос' 'цик' 'участок' 'комиссия']\n",
      "topic_66: ['совет' 'федерация' 'палата' 'комиссия' 'председатель' 'член' 'сенатор'\n",
      " 'комитет' 'спикер' 'заседание']\n",
      "topic_67: ['вода' 'река' 'чрезвычайный' 'ситуация' 'хабаровский' 'экологический'\n",
      " 'район' 'мчс' 'хабаровск' 'амур']\n",
      "topic_68: ['продукт' 'магнитский' 'юрист' 'мусор' 'отход' 'тонна' 'питание' 'свалка'\n",
      " 'полигон' 'смерть']\n",
      "topic_69: ['уголовный' 'статья' 'возбудить' 'ук' 'отношение' 'часть' 'факт'\n",
      " 'прокуратура' 'лицо' 'возбуждение']\n",
      "topic_70: ['взрыв' 'теракт' 'устройство' 'взрывной' 'погибнуть' 'пострадавший'\n",
      " 'получить' 'ранение' 'бомба' 'пострадать']\n",
      "topic_71: ['тысяча' 'около' '100' '50' '300' '200' 'общий' 'число' '500' '30']\n",
      "topic_72: ['сотрудник' 'милиция' 'мвд' 'милиционер' 'орган' 'правоохранительный'\n",
      " 'гувд' 'внутренний' 'охрана' 'кафе']\n",
      "topic_73: ['школа' 'образование' 'студент' 'вуз' 'университет' 'учебный'\n",
      " 'государственный' 'школьник' 'экзамен' 'ректор']\n",
      "topic_74: ['самолёт' 'аэропорт' 'рейс' 'пассажир' 'посадка' 'авиакомпания' 'борт'\n",
      " 'домодедово' 'экипаж' 'ростов']\n",
      "topic_75: ['правоохранительный' 'орган' 'источник' 'неизвестный' 'преступник'\n",
      " 'ссылка' 'похитить' 'скрыться' 'улица' 'сотрудник']\n",
      "topic_76: ['петербург' 'санкт' 'петербургский' 'фонтанка' 'ленинградский' 'город'\n",
      " 'ру' 'флаг' 'городской' 'изображение']\n",
      "topic_77: ['украина' 'крым' 'украинский' 'киев' 'полуостров' 'севастополь'\n",
      " 'крымский' 'республика' '2014' 'март']\n",
      "topic_78: ['форма' 'карта' 'кладбище' 'билет' 'электронный' 'захоронение' 'одежда'\n",
      " 'мечеть' 'могила' 'мусульманин']\n",
      "topic_79: ['убийство' 'преступление' 'покушение' 'причастность' 'убитый' 'версия'\n",
      " 'следствие' 'подозревать' 'расследование' 'задержать']\n",
      "topic_80: ['право' 'закон' 'власть' 'гражданин' 'конституция' 'иметь' 'статус'\n",
      " 'политический' 'федерация' 'свобода']\n",
      "topic_81: ['депутат' 'парламент' 'собрание' 'жириновский' 'дума' 'законодательный'\n",
      " 'лдпр' 'полномочие' 'регион' 'региональный']\n",
      "topic_82: ['санкция' 'иностранный' 'запрет' 'ограничение' 'ввести' 'страна'\n",
      " 'отношение' 'мера' 'агент' 'против']\n",
      "topic_83: ['строительство' 'проект' 'объект' 'построить' 'комплекс' 'участок'\n",
      " 'территория' 'метр' 'земля' 'планироваться']\n",
      "topic_84: ['адвокат' 'суд' 'обвинять' 'прокурор' 'свидетель' 'процесс' 'заседание'\n",
      " 'показание' 'защита' 'допрос']\n",
      "topic_85: ['суд' 'решение' 'верховный' 'признать' 'судья' 'судебный'\n",
      " 'экстремистский' 'постановление' 'вынести' 'отменить']\n",
      "topic_86: ['чиновник' 'полномочие' 'взятка' 'должность' 'бывший' 'должностной'\n",
      " 'получение' 'уволить' 'администрация' 'превышение']\n",
      "topic_87: ['интернет' 'сайт' 'сеть' 'опубликовать' 'видео' 'запись' 'портал'\n",
      " 'фотография' 'ru' 'видеозапись']\n",
      "topic_88: ['сильный' 'ветер' 'градус' 'температура' 'снег' 'дождь' 'погода' 'метр'\n",
      " 'секунда' 'дерево']\n",
      "topic_89: ['подмосковье' 'регион' 'московский' 'подмосковный' 'район' 'красноярский'\n",
      " 'воробьев' 'житель' 'сельский' 'лесной']\n",
      "topic_90: ['поезд' 'железнодорожный' 'путь' 'железный' 'вагон' 'дорога' 'рельс'\n",
      " 'сойти' 'ржд' 'состав']\n",
      "topic_91: ['конкурс' 'памятник' 'игра' 'фильм' 'сочи' 'олимпийский' 'спорт' 'мир'\n",
      " 'церемония' 'спортсмен']\n",
      "topic_92: ['сша' 'американский' 'мид' 'сирия' 'страна' 'международный' 'оон'\n",
      " 'государство' 'нато' 'безопасность']\n",
      "topic_93: ['пункт' 'рынок' 'населить' 'электроэнергия' 'район' 'линия' 'отключение'\n",
      " 'остаться' 'электричество' 'город']\n",
      "topic_94: ['министр' 'медведев' 'правительство' 'премьер' 'вица' 'дмитрий'\n",
      " 'отставка' 'должность' 'пост' 'путин']\n",
      "topic_95: ['рубль' 'миллион' 'миллиард' 'сумма' 'стоимость' 'доллар' 'бюджет'\n",
      " 'средство' 'деньга' 'выделить']\n"
     ]
    },
    {
     "name": "stdout",
     "output_type": "stream",
     "text": [
      "topic_96: ['путин' 'государство' 'сказать' 'страна' 'вопрос' 'наш' 'подчеркнуть'\n",
      " 'должный' 'очень' 'встреча']\n",
      "topic_97: ['задержать' 'полиция' 'полицейский' 'мвд' 'задержание' 'гу' 'отпустить'\n",
      " 'доставить' 'овд' 'пресс']\n",
      "topic_98: ['летний' 'мужчина' 'женщина' 'девушка' 'смерть' 'тело' 'житель'\n",
      " 'обнаружить' 'сообщаться' 'сайт']\n",
      "topic_99: ['военный' 'оборона' 'армия' 'войско' 'генерал' 'сила' 'минобороны'\n",
      " 'вооружённый' 'министр' 'военнослужащий']\n"
     ]
    }
   ],
   "source": [
    "phi = best_model.get_phi()\n",
    "phi['word'] = phi.index\n",
    "#phi.head()\n",
    "\n",
    "for col in phi.columns:\n",
    "    if col != 'word':\n",
    "        print(f\"{col}: {phi[[col, 'word']].sort_values(by=col, ascending=False)['word'].values[:10]}\")"
   ]
  },
  {
   "cell_type": "code",
   "execution_count": 27,
   "metadata": {},
   "outputs": [
    {
     "name": "stdout",
     "output_type": "stream",
     "text": [
      "shape theta: (100, 127558)\n"
     ]
    },
    {
     "data": {
      "image/png": "[encoded data removed]",
      "text/plain": [
       "<Figure size 1440x1440 with 1 Axes>"
      ]
     },
     "metadata": {
      "needs_background": "light"
     },
     "output_type": "display_data"
    }
   ],
   "source": [
    "theta = best_model.transform_sparse(batch_vectorizer=batch_vec, eps=0.001)\n",
    "print(f'shape theta: {theta[0].shape}')\n",
    "\n",
    "plt.figure(figsize=(20, 20))\n",
    "plt.imshow(theta[0][:, 2000:2500].toarray());"
   ]
  },
  {
   "cell_type": "code",
   "execution_count": 28,
   "metadata": {},
   "outputs": [
    {
     "data": {
      "text/html": [
       "<div>\n",
       "<style scoped>\n",
       "    .dataframe tbody tr th:only-of-type {\n",
       "        vertical-align: middle;\n",
       "    }\n",
       "\n",
       "    .dataframe tbody tr th {\n",
       "        vertical-align: top;\n",
       "    }\n",
       "\n",
       "    .dataframe thead th {\n",
       "        text-align: right;\n",
       "    }\n",
       "</style>\n",
       "<table border=\"1\" class=\"dataframe\">\n",
       "  <thead>\n",
       "    <tr style=\"text-align: right;\">\n",
       "      <th></th>\n",
       "      <th>topic_0</th>\n",
       "      <th>topic_1</th>\n",
       "      <th>topic_2</th>\n",
       "      <th>topic_3</th>\n",
       "      <th>topic_4</th>\n",
       "      <th>topic_5</th>\n",
       "      <th>topic_6</th>\n",
       "      <th>topic_7</th>\n",
       "      <th>topic_8</th>\n",
       "      <th>topic_9</th>\n",
       "      <th>...</th>\n",
       "      <th>topic_90</th>\n",
       "      <th>topic_91</th>\n",
       "      <th>topic_92</th>\n",
       "      <th>topic_93</th>\n",
       "      <th>topic_94</th>\n",
       "      <th>topic_95</th>\n",
       "      <th>topic_96</th>\n",
       "      <th>topic_97</th>\n",
       "      <th>topic_98</th>\n",
       "      <th>topic_99</th>\n",
       "    </tr>\n",
       "  </thead>\n",
       "  <tbody>\n",
       "    <tr>\n",
       "      <th>106000</th>\n",
       "      <td>0.000000</td>\n",
       "      <td>0.0</td>\n",
       "      <td>0.0</td>\n",
       "      <td>0.0</td>\n",
       "      <td>0.0</td>\n",
       "      <td>0.0</td>\n",
       "      <td>0.0</td>\n",
       "      <td>0.0</td>\n",
       "      <td>0.0</td>\n",
       "      <td>0.000000</td>\n",
       "      <td>...</td>\n",
       "      <td>0.0</td>\n",
       "      <td>0.000000</td>\n",
       "      <td>0.0</td>\n",
       "      <td>0.0</td>\n",
       "      <td>0.0</td>\n",
       "      <td>0.0</td>\n",
       "      <td>0.000000</td>\n",
       "      <td>0.000000</td>\n",
       "      <td>0.000000</td>\n",
       "      <td>0.0</td>\n",
       "    </tr>\n",
       "    <tr>\n",
       "      <th>106001</th>\n",
       "      <td>0.000000</td>\n",
       "      <td>0.0</td>\n",
       "      <td>0.0</td>\n",
       "      <td>0.0</td>\n",
       "      <td>0.0</td>\n",
       "      <td>0.0</td>\n",
       "      <td>0.0</td>\n",
       "      <td>0.0</td>\n",
       "      <td>0.0</td>\n",
       "      <td>0.000000</td>\n",
       "      <td>...</td>\n",
       "      <td>0.0</td>\n",
       "      <td>0.000000</td>\n",
       "      <td>0.0</td>\n",
       "      <td>0.0</td>\n",
       "      <td>0.0</td>\n",
       "      <td>0.0</td>\n",
       "      <td>0.058376</td>\n",
       "      <td>0.090986</td>\n",
       "      <td>0.039122</td>\n",
       "      <td>0.0</td>\n",
       "    </tr>\n",
       "    <tr>\n",
       "      <th>106002</th>\n",
       "      <td>0.000000</td>\n",
       "      <td>0.0</td>\n",
       "      <td>0.0</td>\n",
       "      <td>0.0</td>\n",
       "      <td>0.0</td>\n",
       "      <td>0.0</td>\n",
       "      <td>0.0</td>\n",
       "      <td>0.0</td>\n",
       "      <td>0.0</td>\n",
       "      <td>0.000000</td>\n",
       "      <td>...</td>\n",
       "      <td>0.0</td>\n",
       "      <td>0.037126</td>\n",
       "      <td>0.0</td>\n",
       "      <td>0.0</td>\n",
       "      <td>0.0</td>\n",
       "      <td>0.0</td>\n",
       "      <td>0.000000</td>\n",
       "      <td>0.000000</td>\n",
       "      <td>0.000000</td>\n",
       "      <td>0.0</td>\n",
       "    </tr>\n",
       "    <tr>\n",
       "      <th>106003</th>\n",
       "      <td>0.000000</td>\n",
       "      <td>0.0</td>\n",
       "      <td>0.0</td>\n",
       "      <td>0.0</td>\n",
       "      <td>0.0</td>\n",
       "      <td>0.0</td>\n",
       "      <td>0.0</td>\n",
       "      <td>0.0</td>\n",
       "      <td>0.0</td>\n",
       "      <td>0.006004</td>\n",
       "      <td>...</td>\n",
       "      <td>0.0</td>\n",
       "      <td>0.030106</td>\n",
       "      <td>0.0</td>\n",
       "      <td>0.0</td>\n",
       "      <td>0.0</td>\n",
       "      <td>0.0</td>\n",
       "      <td>0.000000</td>\n",
       "      <td>0.000000</td>\n",
       "      <td>0.000000</td>\n",
       "      <td>0.0</td>\n",
       "    </tr>\n",
       "    <tr>\n",
       "      <th>106004</th>\n",
       "      <td>0.056796</td>\n",
       "      <td>0.0</td>\n",
       "      <td>0.0</td>\n",
       "      <td>0.0</td>\n",
       "      <td>0.0</td>\n",
       "      <td>0.0</td>\n",
       "      <td>0.0</td>\n",
       "      <td>0.0</td>\n",
       "      <td>0.0</td>\n",
       "      <td>0.066202</td>\n",
       "      <td>...</td>\n",
       "      <td>0.0</td>\n",
       "      <td>0.032641</td>\n",
       "      <td>0.0</td>\n",
       "      <td>0.0</td>\n",
       "      <td>0.0</td>\n",
       "      <td>0.0</td>\n",
       "      <td>0.239502</td>\n",
       "      <td>0.000000</td>\n",
       "      <td>0.000000</td>\n",
       "      <td>0.0</td>\n",
       "    </tr>\n",
       "  </tbody>\n",
       "</table>\n",
       "<p>5 rows × 100 columns</p>\n",
       "</div>"
      ],
      "text/plain": [
       "         topic_0  topic_1  topic_2  topic_3  topic_4  topic_5  topic_6  \\\n",
       "106000  0.000000      0.0      0.0      0.0      0.0      0.0      0.0   \n",
       "106001  0.000000      0.0      0.0      0.0      0.0      0.0      0.0   \n",
       "106002  0.000000      0.0      0.0      0.0      0.0      0.0      0.0   \n",
       "106003  0.000000      0.0      0.0      0.0      0.0      0.0      0.0   \n",
       "106004  0.056796      0.0      0.0      0.0      0.0      0.0      0.0   \n",
       "\n",
       "        topic_7  topic_8   topic_9  ...  topic_90  topic_91  topic_92  \\\n",
       "106000      0.0      0.0  0.000000  ...       0.0  0.000000       0.0   \n",
       "106001      0.0      0.0  0.000000  ...       0.0  0.000000       0.0   \n",
       "106002      0.0      0.0  0.000000  ...       0.0  0.037126       0.0   \n",
       "106003      0.0      0.0  0.006004  ...       0.0  0.030106       0.0   \n",
       "106004      0.0      0.0  0.066202  ...       0.0  0.032641       0.0   \n",
       "\n",
       "        topic_93  topic_94  topic_95  topic_96  topic_97  topic_98  topic_99  \n",
       "106000       0.0       0.0       0.0  0.000000  0.000000  0.000000       0.0  \n",
       "106001       0.0       0.0       0.0  0.058376  0.090986  0.039122       0.0  \n",
       "106002       0.0       0.0       0.0  0.000000  0.000000  0.000000       0.0  \n",
       "106003       0.0       0.0       0.0  0.000000  0.000000  0.000000       0.0  \n",
       "106004       0.0       0.0       0.0  0.239502  0.000000  0.000000       0.0  \n",
       "\n",
       "[5 rows x 100 columns]"
      ]
     },
     "execution_count": 28,
     "metadata": {},
     "output_type": "execute_result"
    }
   ],
   "source": [
    "theta = best_model.transform(batch_vectorizer=batch_vec)\n",
    "theta = theta.T\n",
    "theta.head()"
   ]
  },
  {
   "cell_type": "code",
   "execution_count": null,
   "metadata": {},
   "outputs": [],
   "source": []
  }
 ],
 "metadata": {
  "kernelspec": {
   "display_name": "Python 3",
   "language": "python",
   "name": "python3"
  },
  "language_info": {
   "codemirror_mode": {
    "name": "ipython",
    "version": 3
   },
   "file_extension": ".py",
   "mimetype": "text/x-python",
   "name": "python",
   "nbconvert_exporter": "python",
   "pygments_lexer": "ipython3",
   "version": "3.6.7"
  },
  "varInspector": {
   "cols": {
    "lenName": 16,
    "lenType": 16,
    "lenVar": 40
   },
   "kernels_config": {
    "python": {
     "delete_cmd_postfix": "",
     "delete_cmd_prefix": "del ",
     "library": "var_list.py",
     "varRefreshCmd": "print(var_dic_list())"
    },
    "r": {
     "delete_cmd_postfix": ") ",
     "delete_cmd_prefix": "rm(",
     "library": "var_list.r",
     "varRefreshCmd": "cat(var_dic_list()) "
    }
   },
   "types_to_exclude": [
    "module",
    "function",
    "builtin_function_or_method",
    "instance",
    "_Feature"
   ],
   "window_display": false
  }
 },
 "nbformat": 4,
 "nbformat_minor": 2
}
