{
 "cells": [
  {
   "cell_type": "markdown",
   "metadata": {
    "colab_type": "text",
    "id": "Y9ddZBr2vxjW"
   },
   "source": [
    "# Kommersant"
   ]
  },
  {
   "cell_type": "markdown",
   "metadata": {
    "colab_type": "text",
    "id": "Mt08CB9yKr9i"
   },
   "source": [
    "# Анализ источников новостей"
   ]
  },
  {
   "cell_type": "markdown",
   "metadata": {
    "colab_type": "text",
    "id": "00ypUcn9Kw7u"
   },
   "source": [
    "Цель данного исследования: проанализировать источники новостных лент, сравнить рубрики, подумать над возможностью добавление\\удаление категорий для проекта \"Радар новостей рунета\""
   ]
  },
  {
   "cell_type": "code",
   "execution_count": 0,
   "metadata": {
    "colab": {},
    "colab_type": "code",
    "id": "WdkV25TrKnF2"
   },
   "outputs": [],
   "source": [
    "import numpy as np\n",
    "import pandas as pd\n",
    "import datetime as DT\n",
    "import matplotlib.pyplot as plt\n",
    "%matplotlib inline"
   ]
  },
  {
   "cell_type": "code",
   "execution_count": 0,
   "metadata": {
    "colab": {},
    "colab_type": "code",
    "id": "NdjNIPM_W200"
   },
   "outputs": [],
   "source": [
    "import seaborn as sns\n",
    "sns.set()"
   ]
  },
  {
   "cell_type": "code",
   "execution_count": 0,
   "metadata": {
    "colab": {},
    "colab_type": "code",
    "id": "xejGLPK7XDQx"
   },
   "outputs": [],
   "source": [
    "import math"
   ]
  },
  {
   "cell_type": "markdown",
   "metadata": {
    "colab_type": "text",
    "id": "OI_4qqG7LMP3"
   },
   "source": [
    "# Датасет kommersant. Предварительная обработка"
   ]
  },
  {
   "cell_type": "markdown",
   "metadata": {
    "colab_type": "text",
    "id": "MirMIg6oLUQD"
   },
   "source": [
    "Загрузим датасет kommersant. Одновременно сделаем преобразование даты из строки"
   ]
  },
  {
   "cell_type": "code",
   "execution_count": 0,
   "metadata": {
    "colab": {},
    "colab_type": "code",
    "id": "M85BFQfLKnZa"
   },
   "outputs": [],
   "source": [
    "dateparse = lambda x: pd.datetime.strptime(x, \"%Y-%m-%d %H:%M:%S\")"
   ]
  },
  {
   "cell_type": "code",
   "execution_count": 0,
   "metadata": {
    "colab": {
     "base_uri": "https://localhost:8080/",
     "height": 105
    },
    "colab_type": "code",
    "id": "xoLn5xHiKnh8",
    "outputId": "8ddcbf15-cca9-4a81-cbfc-90d659ff90af"
   },
   "outputs": [
    {
     "name": "stderr",
     "output_type": "stream",
     "text": [
      "b'Skipping line 18175: expected 6 fields, saw 7\\nSkipping line 52548: expected 6 fields, saw 7\\nSkipping line 88040: expected 6 fields, saw 7\\nSkipping line 90060: expected 6 fields, saw 7\\nSkipping line 112815: expected 6 fields, saw 7\\nSkipping line 113987: expected 6 fields, saw 7\\n'\n",
      "b'Skipping line 182015: expected 6 fields, saw 7\\nSkipping line 183963: expected 6 fields, saw 7\\nSkipping line 188535: expected 6 fields, saw 7\\nSkipping line 190143: expected 6 fields, saw 7\\nSkipping line 192968: expected 6 fields, saw 7\\nSkipping line 196199: expected 6 fields, saw 7\\nSkipping line 202744: expected 6 fields, saw 7\\nSkipping line 211650: expected 6 fields, saw 7\\nSkipping line 214787: expected 6 fields, saw 7\\nSkipping line 216208: expected 6 fields, saw 7\\nSkipping line 219740: expected 6 fields, saw 7\\nSkipping line 222588: expected 6 fields, saw 7\\nSkipping line 227692: expected 6 fields, saw 7\\nSkipping line 230516: expected 6 fields, saw 7\\nSkipping line 230533: expected 6 fields, saw 7\\nSkipping line 231887: expected 6 fields, saw 7\\nSkipping line 232725: expected 6 fields, saw 7\\nSkipping line 232731: expected 6 fields, saw 7\\nSkipping line 237778: expected 6 fields, saw 7\\nSkipping line 243213: expected 6 fields, saw 7\\nSkipping line 249407: expected 6 fields, saw 7\\nSkipping line 249413: expected 6 fields, saw 7\\nSkipping line 255850: expected 6 fields, saw 7\\nSkipping line 257104: expected 6 fields, saw 7\\nSkipping line 257231: expected 6 fields, saw 7\\nSkipping line 257540: expected 6 fields, saw 7\\nSkipping line 257922: expected 6 fields, saw 7\\nSkipping line 258168: expected 6 fields, saw 7\\nSkipping line 259213: expected 6 fields, saw 7\\nSkipping line 259697: expected 6 fields, saw 7\\nSkipping line 260143: expected 6 fields, saw 7\\nSkipping line 260220: expected 6 fields, saw 7\\nSkipping line 260528: expected 6 fields, saw 7\\nSkipping line 261805: expected 6 fields, saw 7\\n'\n",
      "b'Skipping line 262567: expected 6 fields, saw 7\\nSkipping line 263029: expected 6 fields, saw 7\\nSkipping line 268051: expected 6 fields, saw 7\\nSkipping line 269266: expected 6 fields, saw 7\\nSkipping line 279998: expected 6 fields, saw 7\\nSkipping line 284681: expected 6 fields, saw 7\\nSkipping line 296463: expected 6 fields, saw 7\\nSkipping line 297914: expected 6 fields, saw 7\\nSkipping line 352439: expected 6 fields, saw 7\\n'\n",
      "b'Skipping line 529623: expected 6 fields, saw 7\\n'\n"
     ]
    }
   ],
   "source": [
    "data = pd.read_csv('/content/drive/My Drive/data/interim/kommersant/kommersant.csv',\n",
    "                      sep='|',\n",
    "                      index_col=False,\n",
    "                      escapechar='\\\\',\n",
    "                      parse_dates=['date'],\n",
    "                      date_parser=dateparse,\n",
    "                      quotechar='\\\"',\n",
    "                      error_bad_lines=False)"
   ]
  },
  {
   "cell_type": "code",
   "execution_count": 0,
   "metadata": {
    "colab": {
     "base_uri": "https://localhost:8080/",
     "height": 136
    },
    "colab_type": "code",
    "id": "HvvfN0YbKnkx",
    "outputId": "ecfb3fea-2961-4724-8c64-0b4e9465ef49"
   },
   "outputs": [
    {
     "data": {
      "text/plain": [
       "date     datetime64[ns]\n",
       "url              object\n",
       "-                object\n",
       "topic            object\n",
       "title            object\n",
       "text             object\n",
       "dtype: object"
      ]
     },
     "execution_count": 9,
     "metadata": {
      "tags": []
     },
     "output_type": "execute_result"
    }
   ],
   "source": [
    "# Проверим преобразование\n",
    "data.dtypes"
   ]
  },
  {
   "cell_type": "code",
   "execution_count": 0,
   "metadata": {
    "colab": {
     "base_uri": "https://localhost:8080/",
     "height": 34
    },
    "colab_type": "code",
    "id": "gsW4sHA5Knn-",
    "outputId": "584cb697-d264-4555-b1a3-abcb881c9f6b"
   },
   "outputs": [
    {
     "data": {
      "text/plain": [
       "(606175, 6)"
      ]
     },
     "execution_count": 10,
     "metadata": {
      "tags": []
     },
     "output_type": "execute_result"
    }
   ],
   "source": [
    "data.shape"
   ]
  },
  {
   "cell_type": "code",
   "execution_count": 0,
   "metadata": {
    "colab": {
     "base_uri": "https://localhost:8080/",
     "height": 204
    },
    "colab_type": "code",
    "id": "6QEYykiIKngC",
    "outputId": "38dc25c3-b6c8-451c-cd27-2781db9190a3"
   },
   "outputs": [
    {
     "data": {
      "text/html": [
       "<div>\n",
       "<style scoped>\n",
       "    .dataframe tbody tr th:only-of-type {\n",
       "        vertical-align: middle;\n",
       "    }\n",
       "\n",
       "    .dataframe tbody tr th {\n",
       "        vertical-align: top;\n",
       "    }\n",
       "\n",
       "    .dataframe thead th {\n",
       "        text-align: right;\n",
       "    }\n",
       "</style>\n",
       "<table border=\"1\" class=\"dataframe\">\n",
       "  <thead>\n",
       "    <tr style=\"text-align: right;\">\n",
       "      <th></th>\n",
       "      <th>date</th>\n",
       "      <th>url</th>\n",
       "      <th>-</th>\n",
       "      <th>topic</th>\n",
       "      <th>title</th>\n",
       "      <th>text</th>\n",
       "    </tr>\n",
       "  </thead>\n",
       "  <tbody>\n",
       "    <tr>\n",
       "      <th>0</th>\n",
       "      <td>2000-05-09 00:00:00</td>\n",
       "      <td>https://www.kommersant.ru/doc/16881</td>\n",
       "      <td>-</td>\n",
       "      <td>Потребительский рынок</td>\n",
       "      <td>Microsoft: писать раздельно</td>\n",
       "      <td>Каждый день, когда миллионы людей во всем мире...</td>\n",
       "    </tr>\n",
       "    <tr>\n",
       "      <th>1</th>\n",
       "      <td>2000-10-31 00:00:00</td>\n",
       "      <td>https://www.kommersant.ru/doc/17910</td>\n",
       "      <td>-</td>\n",
       "      <td>Финансы. Рынок</td>\n",
       "      <td>ЦБ удержит курс доллара?</td>\n",
       "      <td>1. Что будет с долларом?nВ предыдущем прогнозе...</td>\n",
       "    </tr>\n",
       "    <tr>\n",
       "      <th>2</th>\n",
       "      <td>2001-01-30 00:00:00</td>\n",
       "      <td>https://www.kommersant.ru/doc/136058</td>\n",
       "      <td>-</td>\n",
       "      <td>Потребительский рынок</td>\n",
       "      <td>Чтобы получить ВАЗ, Fiat раскрыл нам военные с...</td>\n",
       "      <td>NaN</td>\n",
       "    </tr>\n",
       "    <tr>\n",
       "      <th>3</th>\n",
       "      <td>2001-04-03 00:00:00</td>\n",
       "      <td>https://www.kommersant.ru/doc/253496</td>\n",
       "      <td>-</td>\n",
       "      <td>За границей</td>\n",
       "      <td>Россия в цифрах</td>\n",
       "      <td>23 человекаnпогибли иn142nпострадали в результ...</td>\n",
       "    </tr>\n",
       "    <tr>\n",
       "      <th>4</th>\n",
       "      <td>2001-04-10 17:13:00</td>\n",
       "      <td>https://www.kommersant.ru/doc/918337</td>\n",
       "      <td>-</td>\n",
       "      <td>Политика</td>\n",
       "      <td>Селезнев: России нужно думать о создании новой...</td>\n",
       "      <td>10 апреля спикер Государственной Думы РФ Генна...</td>\n",
       "    </tr>\n",
       "  </tbody>\n",
       "</table>\n",
       "</div>"
      ],
      "text/plain": [
       "                 date  ...                                               text\n",
       "0 2000-05-09 00:00:00  ...  Каждый день, когда миллионы людей во всем мире...\n",
       "1 2000-10-31 00:00:00  ...  1. Что будет с долларом?nВ предыдущем прогнозе...\n",
       "2 2001-01-30 00:00:00  ...                                                NaN\n",
       "3 2001-04-03 00:00:00  ...  23 человекаnпогибли иn142nпострадали в результ...\n",
       "4 2001-04-10 17:13:00  ...  10 апреля спикер Государственной Думы РФ Генна...\n",
       "\n",
       "[5 rows x 6 columns]"
      ]
     },
     "execution_count": 11,
     "metadata": {
      "tags": []
     },
     "output_type": "execute_result"
    }
   ],
   "source": [
    "# Так выглядет датасет kommersant\n",
    "data.head()"
   ]
  },
  {
   "cell_type": "code",
   "execution_count": 0,
   "metadata": {
    "colab": {},
    "colab_type": "code",
    "id": "N915-CPOKnX-"
   },
   "outputs": [],
   "source": []
  },
  {
   "cell_type": "code",
   "execution_count": 0,
   "metadata": {
    "colab": {
     "base_uri": "https://localhost:8080/",
     "height": 136
    },
    "colab_type": "code",
    "id": "G6Wt2YAxKnUf",
    "outputId": "7e73c8a5-38ab-4097-9999-0de4e4dfceea"
   },
   "outputs": [
    {
     "data": {
      "text/plain": [
       "date     False\n",
       "url      False\n",
       "-        False\n",
       "topic    False\n",
       "title     True\n",
       "text      True\n",
       "dtype: bool"
      ]
     },
     "execution_count": 12,
     "metadata": {
      "tags": []
     },
     "output_type": "execute_result"
    }
   ],
   "source": [
    "# Выясним в каким столбцах есть пустые данные\n",
    "data.isnull().any()"
   ]
  },
  {
   "cell_type": "code",
   "execution_count": 0,
   "metadata": {
    "colab": {
     "base_uri": "https://localhost:8080/",
     "height": 221
    },
    "colab_type": "code",
    "id": "gxPjFc-OKnR-",
    "outputId": "a55e1e3e-5b74-4147-a1bf-c0891261e689"
   },
   "outputs": [
    {
     "name": "stdout",
     "output_type": "stream",
     "text": [
      "Кол-во строк с значением NaN в столбце \"Text\" =  39320\n"
     ]
    },
    {
     "data": {
      "text/html": [
       "<div>\n",
       "<style scoped>\n",
       "    .dataframe tbody tr th:only-of-type {\n",
       "        vertical-align: middle;\n",
       "    }\n",
       "\n",
       "    .dataframe tbody tr th {\n",
       "        vertical-align: top;\n",
       "    }\n",
       "\n",
       "    .dataframe thead th {\n",
       "        text-align: right;\n",
       "    }\n",
       "</style>\n",
       "<table border=\"1\" class=\"dataframe\">\n",
       "  <thead>\n",
       "    <tr style=\"text-align: right;\">\n",
       "      <th></th>\n",
       "      <th>date</th>\n",
       "      <th>url</th>\n",
       "      <th>-</th>\n",
       "      <th>topic</th>\n",
       "      <th>title</th>\n",
       "      <th>text</th>\n",
       "    </tr>\n",
       "  </thead>\n",
       "  <tbody>\n",
       "    <tr>\n",
       "      <th>2</th>\n",
       "      <td>2001-01-30 00:00:00</td>\n",
       "      <td>https://www.kommersant.ru/doc/136058</td>\n",
       "      <td>-</td>\n",
       "      <td>Потребительский рынок</td>\n",
       "      <td>Чтобы получить ВАЗ, Fiat раскрыл нам военные с...</td>\n",
       "      <td>NaN</td>\n",
       "    </tr>\n",
       "    <tr>\n",
       "      <th>7</th>\n",
       "      <td>2001-04-10 14:05:00</td>\n",
       "      <td>https://www.kommersant.ru/doc/918329</td>\n",
       "      <td>-</td>\n",
       "      <td>Культура</td>\n",
       "      <td>В Москве открылась выставка Праздник хлеба\"\"\"|...</td>\n",
       "      <td>NaN</td>\n",
       "    </tr>\n",
       "    <tr>\n",
       "      <th>16</th>\n",
       "      <td>2001-04-10 18:54:00</td>\n",
       "      <td>https://www.kommersant.ru/doc/918339</td>\n",
       "      <td>-</td>\n",
       "      <td>Политика</td>\n",
       "      <td>Путин и Шредер посетили музей-заповедник Царск...</td>\n",
       "      <td>NaN</td>\n",
       "    </tr>\n",
       "    <tr>\n",
       "      <th>26</th>\n",
       "      <td>2001-04-11 16:12:00</td>\n",
       "      <td>https://www.kommersant.ru/doc/918367</td>\n",
       "      <td>-</td>\n",
       "      <td>Культура</td>\n",
       "      <td>Ко Дню космонавтики будет отремонтирована плат...</td>\n",
       "      <td>NaN</td>\n",
       "    </tr>\n",
       "    <tr>\n",
       "      <th>49</th>\n",
       "      <td>2001-04-11 12:53:00</td>\n",
       "      <td>https://www.kommersant.ru/doc/918365</td>\n",
       "      <td>-</td>\n",
       "      <td>Политика</td>\n",
       "      <td>В Москве начинается  месячник Чистый автомобил...</td>\n",
       "      <td>NaN</td>\n",
       "    </tr>\n",
       "  </tbody>\n",
       "</table>\n",
       "</div>"
      ],
      "text/plain": [
       "                  date  ... text\n",
       "2  2001-01-30 00:00:00  ...  NaN\n",
       "7  2001-04-10 14:05:00  ...  NaN\n",
       "16 2001-04-10 18:54:00  ...  NaN\n",
       "26 2001-04-11 16:12:00  ...  NaN\n",
       "49 2001-04-11 12:53:00  ...  NaN\n",
       "\n",
       "[5 rows x 6 columns]"
      ]
     },
     "execution_count": 13,
     "metadata": {
      "tags": []
     },
     "output_type": "execute_result"
    }
   ],
   "source": [
    "print('Кол-во строк с значением NaN в столбце \"Text\" = ', data['text'].isnull().sum())\n",
    "data[data['text'].isnull()].head()"
   ]
  },
  {
   "cell_type": "code",
   "execution_count": 0,
   "metadata": {
    "colab": {},
    "colab_type": "code",
    "id": "4rpl8Vm5KnDW"
   },
   "outputs": [],
   "source": [
    "#Удалим эти строки\n",
    "data.drop(data[data.text.isnull()].index, inplace=True)"
   ]
  },
  {
   "cell_type": "code",
   "execution_count": 0,
   "metadata": {
    "colab": {
     "base_uri": "https://localhost:8080/",
     "height": 34
    },
    "colab_type": "code",
    "id": "ey5_VvaXP795",
    "outputId": "a18758a4-6d6b-4f55-9007-f99b222adb96"
   },
   "outputs": [
    {
     "name": "stdout",
     "output_type": "stream",
     "text": [
      "Кол-во строк с значением NaN в столбце \"Text\" =  0\n"
     ]
    }
   ],
   "source": [
    "print('Кол-во строк с значением NaN в столбце \"Text\" = ', data['text'].isnull().sum())"
   ]
  },
  {
   "cell_type": "code",
   "execution_count": 0,
   "metadata": {
    "colab": {
     "base_uri": "https://localhost:8080/",
     "height": 34
    },
    "colab_type": "code",
    "id": "oPnHckjNP8BB",
    "outputId": "4ac05c56-a511-432c-bc80-c7910286fe64"
   },
   "outputs": [
    {
     "name": "stdout",
     "output_type": "stream",
     "text": [
      "Кол-во одинаковых текстов: 420\n"
     ]
    }
   ],
   "source": [
    "#  Проверим повторяющиеся тексты\n",
    "print('Кол-во одинаковых текстов:',data.text.duplicated().sum())"
   ]
  },
  {
   "cell_type": "code",
   "execution_count": 0,
   "metadata": {
    "colab": {},
    "colab_type": "code",
    "id": "tse_-ME7P8GM"
   },
   "outputs": [],
   "source": [
    "# Удаление дубликатов\n",
    "data = data.drop_duplicates(subset='text')"
   ]
  },
  {
   "cell_type": "code",
   "execution_count": 0,
   "metadata": {
    "colab": {
     "base_uri": "https://localhost:8080/",
     "height": 34
    },
    "colab_type": "code",
    "id": "j7uaRCMhP8J5",
    "outputId": "0d390a74-e427-4416-85b7-f456a53e8cc1"
   },
   "outputs": [
    {
     "data": {
      "text/plain": [
       "(566435, 6)"
      ]
     },
     "execution_count": 18,
     "metadata": {
      "tags": []
     },
     "output_type": "execute_result"
    }
   ],
   "source": [
    "data.shape"
   ]
  },
  {
   "cell_type": "code",
   "execution_count": 0,
   "metadata": {
    "colab": {},
    "colab_type": "code",
    "id": "CA1cGFhmP8M2"
   },
   "outputs": [],
   "source": []
  },
  {
   "cell_type": "markdown",
   "metadata": {
    "colab_type": "text",
    "id": "f4zx09fYQorW"
   },
   "source": [
    "# EDA"
   ]
  },
  {
   "cell_type": "markdown",
   "metadata": {
    "colab_type": "text",
    "id": "DW7MSsv_QupC"
   },
   "source": [
    "## Анализ дат"
   ]
  },
  {
   "cell_type": "code",
   "execution_count": 0,
   "metadata": {
    "colab": {
     "base_uri": "https://localhost:8080/",
     "height": 51
    },
    "colab_type": "code",
    "id": "cr3Zu7AXP8YU",
    "outputId": "9395277c-d397-471b-9b7e-db63330aa309"
   },
   "outputs": [
    {
     "name": "stdout",
     "output_type": "stream",
     "text": [
      "Минимальная дата в датасете: 2000-05-09 00:00:00\n",
      "Максимальная дата в датасете: 2019-04-10 13:00:18\n"
     ]
    }
   ],
   "source": [
    "print('Минимальная дата в датасете:', data.date.min())\n",
    "print('Максимальная дата в датасете:', data.date.max())"
   ]
  },
  {
   "cell_type": "code",
   "execution_count": 0,
   "metadata": {
    "colab": {},
    "colab_type": "code",
    "id": "SO134FRrP8cx"
   },
   "outputs": [],
   "source": []
  },
  {
   "cell_type": "markdown",
   "metadata": {
    "colab_type": "text",
    "id": "79eCXlbxQ4LJ"
   },
   "source": [
    "### Распределение количества новостей по месяцам"
   ]
  },
  {
   "cell_type": "code",
   "execution_count": 0,
   "metadata": {
    "colab": {},
    "colab_type": "code",
    "id": "BNwQsn6WP8gS"
   },
   "outputs": [],
   "source": [
    "# Вынесем месяц и год новости в отдельные столбцы\n",
    "data['month'] = data.date.apply(lambda x: x.month)\n",
    "data['year'] = data.date.apply(lambda x: x.year)\n",
    "\n",
    "# Создадим отдельный датасет посчитаем количество новостей в разрезе месяца и года\n",
    "df = data.groupby(['year', 'month']).text.nunique().reset_index()"
   ]
  },
  {
   "cell_type": "code",
   "execution_count": 0,
   "metadata": {
    "colab": {
     "base_uri": "https://localhost:8080/",
     "height": 204
    },
    "colab_type": "code",
    "id": "3OYv21h3P8jQ",
    "outputId": "90e101b7-17bf-45c4-eff9-5540e5d1aa11"
   },
   "outputs": [
    {
     "data": {
      "text/html": [
       "<div>\n",
       "<style scoped>\n",
       "    .dataframe tbody tr th:only-of-type {\n",
       "        vertical-align: middle;\n",
       "    }\n",
       "\n",
       "    .dataframe tbody tr th {\n",
       "        vertical-align: top;\n",
       "    }\n",
       "\n",
       "    .dataframe thead th {\n",
       "        text-align: right;\n",
       "    }\n",
       "</style>\n",
       "<table border=\"1\" class=\"dataframe\">\n",
       "  <thead>\n",
       "    <tr style=\"text-align: right;\">\n",
       "      <th></th>\n",
       "      <th>year</th>\n",
       "      <th>month</th>\n",
       "      <th>text</th>\n",
       "    </tr>\n",
       "  </thead>\n",
       "  <tbody>\n",
       "    <tr>\n",
       "      <th>0</th>\n",
       "      <td>2000</td>\n",
       "      <td>5</td>\n",
       "      <td>1</td>\n",
       "    </tr>\n",
       "    <tr>\n",
       "      <th>1</th>\n",
       "      <td>2000</td>\n",
       "      <td>10</td>\n",
       "      <td>1</td>\n",
       "    </tr>\n",
       "    <tr>\n",
       "      <th>2</th>\n",
       "      <td>2001</td>\n",
       "      <td>4</td>\n",
       "      <td>635</td>\n",
       "    </tr>\n",
       "    <tr>\n",
       "      <th>3</th>\n",
       "      <td>2001</td>\n",
       "      <td>5</td>\n",
       "      <td>875</td>\n",
       "    </tr>\n",
       "    <tr>\n",
       "      <th>4</th>\n",
       "      <td>2001</td>\n",
       "      <td>6</td>\n",
       "      <td>806</td>\n",
       "    </tr>\n",
       "  </tbody>\n",
       "</table>\n",
       "</div>"
      ],
      "text/plain": [
       "   year  month  text\n",
       "0  2000      5     1\n",
       "1  2000     10     1\n",
       "2  2001      4   635\n",
       "3  2001      5   875\n",
       "4  2001      6   806"
      ]
     },
     "execution_count": 21,
     "metadata": {
      "tags": []
     },
     "output_type": "execute_result"
    }
   ],
   "source": [
    "df.head()"
   ]
  },
  {
   "cell_type": "code",
   "execution_count": 0,
   "metadata": {
    "colab": {},
    "colab_type": "code",
    "id": "_FXIkNy3P8mQ"
   },
   "outputs": [],
   "source": [
    "df['month_year'] = df[['month', 'year']].apply(lambda x: '-'.join(['0'+str(x.month) if x.month<10 else str(x.month),\n",
    "                                                                  str(x.year)]),\n",
    "                                               axis =1)"
   ]
  },
  {
   "cell_type": "code",
   "execution_count": 0,
   "metadata": {
    "colab": {},
    "colab_type": "code",
    "id": "9oAOkm0SP8q6"
   },
   "outputs": [],
   "source": [
    "df.columns = ['year', 'month', 'nunique_text', 'month_year']"
   ]
  },
  {
   "cell_type": "code",
   "execution_count": 0,
   "metadata": {
    "colab": {},
    "colab_type": "code",
    "id": "AGekCLhKP8uq"
   },
   "outputs": [],
   "source": [
    "# выберем только те месяцы, в которых количество новостей больше 10\n",
    "df = df[df.nunique_text>10]"
   ]
  },
  {
   "cell_type": "code",
   "execution_count": 0,
   "metadata": {
    "colab": {
     "base_uri": "https://localhost:8080/",
     "height": 204
    },
    "colab_type": "code",
    "id": "bu5tZNVhP8pe",
    "outputId": "d681683e-c60a-4a57-9aeb-4228dc626bcb"
   },
   "outputs": [
    {
     "data": {
      "text/html": [
       "<div>\n",
       "<style scoped>\n",
       "    .dataframe tbody tr th:only-of-type {\n",
       "        vertical-align: middle;\n",
       "    }\n",
       "\n",
       "    .dataframe tbody tr th {\n",
       "        vertical-align: top;\n",
       "    }\n",
       "\n",
       "    .dataframe thead th {\n",
       "        text-align: right;\n",
       "    }\n",
       "</style>\n",
       "<table border=\"1\" class=\"dataframe\">\n",
       "  <thead>\n",
       "    <tr style=\"text-align: right;\">\n",
       "      <th></th>\n",
       "      <th>month_year</th>\n",
       "      <th>nunique_text</th>\n",
       "    </tr>\n",
       "  </thead>\n",
       "  <tbody>\n",
       "    <tr>\n",
       "      <th>181</th>\n",
       "      <td>03-2016</td>\n",
       "      <td>5666</td>\n",
       "    </tr>\n",
       "    <tr>\n",
       "      <th>182</th>\n",
       "      <td>04-2016</td>\n",
       "      <td>5654</td>\n",
       "    </tr>\n",
       "    <tr>\n",
       "      <th>174</th>\n",
       "      <td>08-2015</td>\n",
       "      <td>5567</td>\n",
       "    </tr>\n",
       "    <tr>\n",
       "      <th>176</th>\n",
       "      <td>10-2015</td>\n",
       "      <td>5537</td>\n",
       "    </tr>\n",
       "    <tr>\n",
       "      <th>186</th>\n",
       "      <td>08-2016</td>\n",
       "      <td>5486</td>\n",
       "    </tr>\n",
       "  </tbody>\n",
       "</table>\n",
       "</div>"
      ],
      "text/plain": [
       "    month_year  nunique_text\n",
       "181    03-2016          5666\n",
       "182    04-2016          5654\n",
       "174    08-2015          5567\n",
       "176    10-2015          5537\n",
       "186    08-2016          5486"
      ]
     },
     "execution_count": 25,
     "metadata": {
      "tags": []
     },
     "output_type": "execute_result"
    }
   ],
   "source": [
    "df[['month_year', 'nunique_text']].sort_values('nunique_text', ascending = False).head()"
   ]
  },
  {
   "cell_type": "code",
   "execution_count": 0,
   "metadata": {
    "colab": {
     "base_uri": "https://localhost:8080/",
     "height": 683
    },
    "colab_type": "code",
    "id": "27rwiISrP8a7",
    "outputId": "ae711423-60a3-4498-968a-58844ed68016"
   },
   "outputs": [
    {
     "data": {
      "image/png": "[encoded data removed]",
      "text/plain": [
       "<Figure size 2160x720 with 1 Axes>"
      ]
     },
     "metadata": {
      "tags": []
     },
     "output_type": "display_data"
    }
   ],
   "source": [
    "fig, ax = plt.subplots(figsize=(30, 10))\n",
    "plt.bar(x = df.month_year,\n",
    "        height = df.nunique_text.values)\n",
    "plt.xticks(rotation='vertical')\n",
    "\n",
    "ax.set_title('Количество новостей по месяцам')\n",
    "ax.set_ylabel('Количество')\n",
    "ax.set_xlabel('Дата')\n",
    "plt.show()"
   ]
  },
  {
   "cell_type": "code",
   "execution_count": 0,
   "metadata": {
    "colab": {},
    "colab_type": "code",
    "id": "Q_DdjvYlP8WR"
   },
   "outputs": [],
   "source": []
  },
  {
   "cell_type": "code",
   "execution_count": 0,
   "metadata": {
    "colab": {},
    "colab_type": "code",
    "id": "bmz2952VSEV6"
   },
   "outputs": [],
   "source": []
  },
  {
   "cell_type": "markdown",
   "metadata": {
    "colab_type": "text",
    "id": "rXsgWaJdboq3"
   },
   "source": [
    "## Рубрики Kommersant"
   ]
  },
  {
   "cell_type": "code",
   "execution_count": 0,
   "metadata": {
    "colab": {
     "base_uri": "https://localhost:8080/",
     "height": 306
    },
    "colab_type": "code",
    "id": "3FLwSOxWSEbX",
    "outputId": "49dacb34-556d-485f-e78b-1f9cfb2957e7"
   },
   "outputs": [
    {
     "name": "stdout",
     "output_type": "stream",
     "text": [
      "Количество рубрик =  (59,)\n"
     ]
    },
    {
     "data": {
      "text/plain": [
       "array(['Потребительский рынок', 'Финансы. Рынок', 'За границей',\n",
       "       'Политика', 'Общество', 'Спорт', 'Культура', 'Происшествия', 'Мир',\n",
       "       'Бизнес', 'Дороги и ДТП', 'Промышленность', 'Технологии',\n",
       "       'Экономика', 'Автосалон', 'Реклама', 'Ъ-FM/Темы дня',\n",
       "       'Ъ-FM/Программы', 'Ъ-FM/Спецпроекты', 'Ъ-FM/Интервью',\n",
       "       'Ъ-FM/В эфире', 'Финансы', 'Страна', 'Бизнес|Культура',\n",
       "       'ПДД и законы', 'ЦМТ/Новости', 'ЦМТ/Интервью', 'ЦМТ/Аналитика',\n",
       "       'WTC/Analytics', 'WTC/Interviews', 'Автошколы', 'За городом',\n",
       "       'Идеи и важные вещи', 'События', 'Гаджеты', 'Авто', 'Накопить',\n",
       "       'Сэкономить', 'Занять', 'Инвестировать', 'Наука', 'В городе',\n",
       "       'Недвижимость. Рынок', 'Недвижимость', 'Hi-Tech', 'Стартапы',\n",
       "       'Hi-Tech. Рынок', 'Стиль', 'Идеи', 'Важные вещи',\n",
       "       'Ъ-FM-НН/Программы', 'Политика|Общество', 'Инициативы',\n",
       "       'Путешествия', 'Конференции/Трансляции', 'Конференции/Эксклюзив',\n",
       "       'Конференции/Отчеты', 'Конференции/Интервью',\n",
       "       'Потребительский рынок|Hi-Tech. Рынок'], dtype=object)"
      ]
     },
     "execution_count": 31,
     "metadata": {
      "tags": []
     },
     "output_type": "execute_result"
    }
   ],
   "source": [
    "# Считаем количество рубрик в данном датасете, а также выведем значения\n",
    "print('Количество рубрик = ', data.topic.unique().shape)\n",
    "data['topic'].unique()"
   ]
  },
  {
   "cell_type": "markdown",
   "metadata": {
    "colab_type": "text",
    "id": "_ijxQVr3b5RP"
   },
   "source": [
    "### Все рубрики, с количеством новостей в каждой группе"
   ]
  },
  {
   "cell_type": "code",
   "execution_count": 0,
   "metadata": {
    "colab": {
     "base_uri": "https://localhost:8080/",
     "height": 1000
    },
    "colab_type": "code",
    "id": "82wXMbToSEl4",
    "outputId": "c5e3836b-fa20-4f67-8145-39aa3b80ce36"
   },
   "outputs": [
    {
     "data": {
      "text/plain": [
       "topic\n",
       "Мир                                     140068\n",
       "Происшествия                             83772\n",
       "Общество                                 55918\n",
       "Политика                                 55519\n",
       "Бизнес                                   54698\n",
       "Спорт                                    35704\n",
       "Ъ-FM/Темы дня                            27988\n",
       "Культура                                 23456\n",
       "Потребительский рынок                    18600\n",
       "Экономика                                17369\n",
       "Промышленность                           15622\n",
       "Финансы. Рынок                            9492\n",
       "Ъ-FM/Программы                            8018\n",
       "Финансы                                   7042\n",
       "Реклама                                   2211\n",
       "Страна                                    1978\n",
       "Стиль                                     1599\n",
       "Hi-Tech                                   1436\n",
       "Идеи и важные вещи                        1195\n",
       "Автосалон                                  621\n",
       "Hi-Tech. Рынок                             526\n",
       "Инвестировать                              403\n",
       "События                                    397\n",
       "Ъ-FM/Спецпроекты                           319\n",
       "Недвижимость                               290\n",
       "Недвижимость. Рынок                        268\n",
       "В городе                                   249\n",
       "Занять                                     220\n",
       "Наука                                      200\n",
       "За границей                                185\n",
       "Ъ-FM/Интервью                              177\n",
       "ПДД и законы                               135\n",
       "Авто                                       122\n",
       "Гаджеты                                    117\n",
       "Накопить                                   107\n",
       "Дороги и ДТП                                93\n",
       "Технологии                                  70\n",
       "Стартапы                                    62\n",
       "За городом                                  40\n",
       "Инициативы                                  36\n",
       "Сэкономить                                  21\n",
       "Конференции/Отчеты                          14\n",
       "Автошколы                                   13\n",
       "ЦМТ/Аналитика                               11\n",
       "Ъ-FM/В эфире                                 9\n",
       "WTC/Analytics                                9\n",
       "Путешествия                                  7\n",
       "Конференции/Интервью                         7\n",
       "ЦМТ/Интервью                                 5\n",
       "Идеи                                         5\n",
       "Важные вещи                                  2\n",
       "WTC/Interviews                               2\n",
       "ЦМТ/Новости                                  2\n",
       "Бизнес|Культура                              1\n",
       "Потребительский рынок|Hi-Tech. Рынок         1\n",
       "Конференции/Трансляции                       1\n",
       "Конференции/Эксклюзив                        1\n",
       "Политика|Общество                            1\n",
       "Ъ-FM-НН/Программы                            1\n",
       "Name: topic, dtype: int64"
      ]
     },
     "execution_count": 32,
     "metadata": {
      "tags": []
     },
     "output_type": "execute_result"
    }
   ],
   "source": [
    "data.groupby('topic')['topic'].count().sort_values(ascending=False)"
   ]
  },
  {
   "cell_type": "code",
   "execution_count": 0,
   "metadata": {
    "colab": {},
    "colab_type": "code",
    "id": "FiQzgrGbSE0v"
   },
   "outputs": [],
   "source": []
  },
  {
   "cell_type": "code",
   "execution_count": 0,
   "metadata": {
    "colab": {},
    "colab_type": "code",
    "id": "rjeBl5PxSEx0"
   },
   "outputs": [],
   "source": []
  },
  {
   "cell_type": "markdown",
   "metadata": {
    "colab_type": "text",
    "id": "dS7cyO3UYf8U"
   },
   "source": [
    "## Анализ заголовков и текста новостей"
   ]
  },
  {
   "cell_type": "code",
   "execution_count": 0,
   "metadata": {
    "colab": {},
    "colab_type": "code",
    "id": "mKSozMoXaICt"
   },
   "outputs": [],
   "source": [
    "## Соберем в отдельные столбцы длину заголовка и текста новости"
   ]
  },
  {
   "cell_type": "code",
   "execution_count": 0,
   "metadata": {
    "colab": {},
    "colab_type": "code",
    "id": "J-pYAyrLSEwP"
   },
   "outputs": [],
   "source": [
    "data['title_len'] = data.title.apply(lambda x: len(x))"
   ]
  },
  {
   "cell_type": "code",
   "execution_count": 0,
   "metadata": {
    "colab": {},
    "colab_type": "code",
    "id": "pPH0aAIKSEuS"
   },
   "outputs": [],
   "source": [
    "data['text_len'] = data.text.apply(lambda x: len(x))"
   ]
  },
  {
   "cell_type": "markdown",
   "metadata": {
    "colab_type": "text",
    "id": "Xp61ZnyTWOCg"
   },
   "source": [
    "### Анализ заголовков"
   ]
  },
  {
   "cell_type": "code",
   "execution_count": 0,
   "metadata": {
    "colab": {
     "base_uri": "https://localhost:8080/",
     "height": 170
    },
    "colab_type": "code",
    "id": "O4MgMV3CWGDF",
    "outputId": "eddee5c9-2242-4b79-c50a-c183a5077767"
   },
   "outputs": [
    {
     "data": {
      "text/plain": [
       "count    566435.000000\n",
       "mean         57.537232\n",
       "std         222.652299\n",
       "min           1.000000\n",
       "25%          36.000000\n",
       "50%          50.000000\n",
       "75%          66.000000\n",
       "max       47709.000000\n",
       "Name: title_len, dtype: float64"
      ]
     },
     "execution_count": 35,
     "metadata": {
      "tags": []
     },
     "output_type": "execute_result"
    }
   ],
   "source": [
    "data.title_len.describe()"
   ]
  },
  {
   "cell_type": "markdown",
   "metadata": {
    "colab_type": "text",
    "id": "LKKHpORTWXnb"
   },
   "source": [
    "Видно, что получившиеся длины заголовков, содержат аномально большие значения, попрубуем разобраться в этом"
   ]
  },
  {
   "cell_type": "markdown",
   "metadata": {
    "colab_type": "text",
    "id": "GUGF5vnYWsaF"
   },
   "source": [
    "Построим гистограмму и боксплот для первичного анализа"
   ]
  },
  {
   "cell_type": "code",
   "execution_count": 0,
   "metadata": {
    "colab": {
     "base_uri": "https://localhost:8080/",
     "height": 502
    },
    "colab_type": "code",
    "id": "rCcMCEnaWGA3",
    "outputId": "b6b203e9-b2b3-4c51-fcf0-71e12448983a"
   },
   "outputs": [
    {
     "data": {
      "image/png": "[encoded data removed]",
      "text/plain": [
       "<Figure size 1080x576 with 1 Axes>"
      ]
     },
     "metadata": {
      "tags": []
     },
     "output_type": "display_data"
    }
   ],
   "source": [
    "plt.subplots(figsize=(15, 8))\n",
    "plt.axvline(data['title_len'].median(), color=\"k\", linestyle=\"--\");\n",
    "sns.distplot(data['title_len']);"
   ]
  },
  {
   "cell_type": "markdown",
   "metadata": {
    "colab_type": "text",
    "id": "KDLtRj8pZafF"
   },
   "source": [
    "Ничего не понятно, попробуем изменить количество интервалов"
   ]
  },
  {
   "cell_type": "code",
   "execution_count": 0,
   "metadata": {
    "colab": {
     "base_uri": "https://localhost:8080/",
     "height": 502
    },
    "colab_type": "code",
    "id": "hUuE91ayWF-z",
    "outputId": "1563ffe2-4243-4e6a-b654-52c9435e94bc"
   },
   "outputs": [
    {
     "data": {
      "image/png": "[encoded data removed]",
      "text/plain": [
       "<Figure size 1080x576 with 1 Axes>"
      ]
     },
     "metadata": {
      "tags": []
     },
     "output_type": "display_data"
    }
   ],
   "source": [
    "plt.subplots(figsize=(15, 8))\n",
    "plt.axvline(data['title_len'].median(), color=\"k\", linestyle=\"--\");\n",
    "sns.distplot(data['title_len'], bins=50);"
   ]
  },
  {
   "cell_type": "markdown",
   "metadata": {
    "colab_type": "text",
    "id": "4IHjBJG4b6H7"
   },
   "source": [
    "Все равно ничего не понятно, поробуем применить формулу Стреджерса для определения оптимального количества интервалов"
   ]
  },
  {
   "cell_type": "code",
   "execution_count": 0,
   "metadata": {
    "colab": {
     "base_uri": "https://localhost:8080/",
     "height": 519
    },
    "colab_type": "code",
    "id": "FiC7EpgVWF8M",
    "outputId": "a227744f-b7f1-403b-d3c0-976984c65829"
   },
   "outputs": [
    {
     "name": "stdout",
     "output_type": "stream",
     "text": [
      "Количество по формуле Стреджерса, с окркуглением к меньшему целому составляет:  20\n"
     ]
    },
    {
     "data": {
      "image/png": "[encoded data removed]",
      "text/plain": [
       "<Figure size 1080x576 with 1 Axes>"
      ]
     },
     "metadata": {
      "tags": []
     },
     "output_type": "display_data"
    }
   ],
   "source": [
    "# По формуле Стреджерса\n",
    "print('Количество по формуле Стреджерса, с округлением к меньшему целому составляет: ', math.floor(1 + 3.322*math.log10(566435)))\n",
    "plt.subplots(figsize=(15, 8))\n",
    "plt.axvline(data['title_len'].median(), color=\"k\", linestyle=\"--\");\n",
    "sns.distplot(data['title_len'], bins=math.floor(1 + 3.322*math.log10(566435)));"
   ]
  },
  {
   "cell_type": "markdown",
   "metadata": {
    "colab_type": "text",
    "id": "F7gFxzhLcHrI"
   },
   "source": [
    "Тоже не лучше, может боксплот покажет что-нибудь интересное"
   ]
  },
  {
   "cell_type": "code",
   "execution_count": 0,
   "metadata": {
    "colab": {
     "base_uri": "https://localhost:8080/",
     "height": 502
    },
    "colab_type": "code",
    "id": "1lP18CC2WF6e",
    "outputId": "8425db14-92c4-4d31-c5a1-d46ac01b5b09"
   },
   "outputs": [
    {
     "data": {
      "image/png": "[encoded data removed]",
      "text/plain": [
       "<Figure size 1080x576 with 1 Axes>"
      ]
     },
     "metadata": {
      "tags": []
     },
     "output_type": "display_data"
    }
   ],
   "source": [
    "plt.subplots(figsize=(15, 8))\n",
    "sns.boxplot(x='title_len', data=data);"
   ]
  },
  {
   "cell_type": "markdown",
   "metadata": {
    "colab_type": "text",
    "id": "kMANUVO9cvN4"
   },
   "source": [
    "Результат, конечно, так себе. Попробуем сделать следующее.\n",
    "Для уменьшения такого длинного ряда, применим десятичный логарифм к тем строкам, где количество символов в заголовке больше 250 (число может быть любое). Таким образом, мы уменьшим разброс, но при этом также увидим эти аномалии на графике"
   ]
  },
  {
   "cell_type": "code",
   "execution_count": 0,
   "metadata": {
    "colab": {},
    "colab_type": "code",
    "id": "6oJjCJvKWF3q"
   },
   "outputs": [],
   "source": [
    "# Создадим еще один столбец, где еще раз посчитаем длину заголовков, но\n",
    "# с условием: те длины, которые больше 250 мы будем логарифмировать, для уменьшения разброса\n",
    "# коэффициент 10, перед логарифмом нужен лишь для того, чтобы лучше было видно выбросы\n",
    "data['title_len_lg'] = data.title.apply(lambda x: (len(x) if len(x)<=250 else 10*math.log10(len(x))+250))"
   ]
  },
  {
   "cell_type": "code",
   "execution_count": 0,
   "metadata": {
    "colab": {
     "base_uri": "https://localhost:8080/",
     "height": 170
    },
    "colab_type": "code",
    "id": "s2U_L9SkepLo",
    "outputId": "27c9b517-8300-43a6-8f80-a2b88de16f3f"
   },
   "outputs": [
    {
     "data": {
      "text/plain": [
       "count    566435.000000\n",
       "mean         51.499539\n",
       "std          22.556366\n",
       "min           1.000000\n",
       "25%          36.000000\n",
       "50%          50.000000\n",
       "75%          66.000000\n",
       "max         296.786003\n",
       "Name: title_len_lg, dtype: float64"
      ]
     },
     "execution_count": 115,
     "metadata": {
      "tags": []
     },
     "output_type": "execute_result"
    }
   ],
   "source": [
    "data['title_len_lg'].describe()"
   ]
  },
  {
   "cell_type": "markdown",
   "metadata": {
    "colab_type": "text",
    "id": "a6A8qQzAd88G"
   },
   "source": [
    "посмотрим, что теперь получилось с гистограммой и боксплотом, начнем в этот раз с боксплота"
   ]
  },
  {
   "cell_type": "code",
   "execution_count": 0,
   "metadata": {
    "colab": {
     "base_uri": "https://localhost:8080/",
     "height": 502
    },
    "colab_type": "code",
    "id": "_Zra0oj6WF0v",
    "outputId": "8ae2f337-87e0-461d-8737-7f510a7312cf"
   },
   "outputs": [
    {
     "data": {
      "image/png": "[encoded data removed]",
      "text/plain": [
       "<Figure size 1080x576 with 1 Axes>"
      ]
     },
     "metadata": {
      "tags": []
     },
     "output_type": "display_data"
    }
   ],
   "source": [
    "plt.subplots(figsize=(15, 8))\n",
    "sns.boxplot(x='title_len_lg', data=data);"
   ]
  },
  {
   "cell_type": "markdown",
   "metadata": {
    "colab_type": "text",
    "id": "aHUxloYWeMUk"
   },
   "source": [
    "Уже неплохо. Посмотрим, что там с гистограммами"
   ]
  },
  {
   "cell_type": "code",
   "execution_count": 0,
   "metadata": {
    "colab": {
     "base_uri": "https://localhost:8080/",
     "height": 502
    },
    "colab_type": "code",
    "id": "nghxnKUtWFyb",
    "outputId": "13821340-d301-4963-cd7b-482ec073c55b"
   },
   "outputs": [
    {
     "data": {
      "image/png": "[encoded data removed]",
      "text/plain": [
       "<Figure size 1080x576 with 1 Axes>"
      ]
     },
     "metadata": {
      "tags": []
     },
     "output_type": "display_data"
    }
   ],
   "source": [
    "# Без указания количества интервалов\n",
    "plt.subplots(figsize=(15, 8))\n",
    "plt.axvline(data['title_len_lg'].median(), color=\"k\", linestyle=\"--\");\n",
    "sns.distplot(data['title_len_lg']);"
   ]
  },
  {
   "cell_type": "code",
   "execution_count": 0,
   "metadata": {
    "colab": {
     "base_uri": "https://localhost:8080/",
     "height": 502
    },
    "colab_type": "code",
    "id": "aGUWw-2aWFvr",
    "outputId": "e2d10b8c-d10e-45a3-bdac-54ccd4103982"
   },
   "outputs": [
    {
     "data": {
      "image/png": "[encoded data removed]",
      "text/plain": [
       "<Figure size 1080x576 with 1 Axes>"
      ]
     },
     "metadata": {
      "tags": []
     },
     "output_type": "display_data"
    }
   ],
   "source": [
    "# Количество интервалов = 50\n",
    "plt.subplots(figsize=(15, 8))\n",
    "plt.axvline(data['title_len_lg'].median(), color=\"k\", linestyle=\"--\");\n",
    "sns.distplot(data['title_len_lg'], bins=50);"
   ]
  },
  {
   "cell_type": "code",
   "execution_count": 0,
   "metadata": {
    "colab": {
     "base_uri": "https://localhost:8080/",
     "height": 519
    },
    "colab_type": "code",
    "id": "xECufsxjWFtq",
    "outputId": "a4a99124-58e7-4b05-f21a-3968d393bf6a"
   },
   "outputs": [
    {
     "name": "stdout",
     "output_type": "stream",
     "text": [
      "Количество по формуле Стреджерса, с округлением к меньшему целому составляет:  20\n"
     ]
    },
    {
     "data": {
      "image/png": "[encoded data removed]",
      "text/plain": [
       "<Figure size 1080x576 with 1 Axes>"
      ]
     },
     "metadata": {
      "tags": []
     },
     "output_type": "display_data"
    }
   ],
   "source": [
    "# По формуле Стреджерса\n",
    "print('Количество по формуле Стреджерса, с округлением к меньшему целому составляет: ', math.floor(1 + 3.322*math.log10(566435)))\n",
    "plt.subplots(figsize=(15, 8))\n",
    "plt.axvline(data['title_len_lg'].median(), color=\"k\", linestyle=\"--\");\n",
    "sns.distplot(data['title_len_lg'], bins=math.floor(1 + 3.322*math.log10(566435)));"
   ]
  },
  {
   "cell_type": "code",
   "execution_count": 0,
   "metadata": {
    "colab": {},
    "colab_type": "code",
    "id": "i7V80462WFrz"
   },
   "outputs": [],
   "source": []
  },
  {
   "cell_type": "markdown",
   "metadata": {
    "colab_type": "text",
    "id": "y1P8T7ZAfxyl"
   },
   "source": [
    "Результат неплохой, посмотрим, какое количество строк в нашем датасете, выходит за рамки наших усов (Все, что выше суммы третьего квартиля и полутора межквартильных расстояний)\n",
    "межквартильных расстояний = 66 - 36 = 30\n",
    "Верхняя граница наблюдаемых значений = 66 + 1.5 * 30 = 111"
   ]
  },
  {
   "cell_type": "code",
   "execution_count": 0,
   "metadata": {
    "colab": {
     "base_uri": "https://localhost:8080/",
     "height": 34
    },
    "colab_type": "code",
    "id": "1fhfNSQvWFn-",
    "outputId": "45b21272-1839-4d39-bf5a-0e04cd85ef21"
   },
   "outputs": [
    {
     "data": {
      "text/plain": [
       "2117"
      ]
     },
     "execution_count": 52,
     "metadata": {
      "tags": []
     },
     "output_type": "execute_result"
    }
   ],
   "source": [
    "(data.title_len_lg > 111).sum()"
   ]
  },
  {
   "cell_type": "markdown",
   "metadata": {
    "colab_type": "text",
    "id": "gwFKSlJtkJ7Y"
   },
   "source": [
    "2117 Новостей содержат аномально большие заголовки, скорей всего там что-то не так с данными (возможно слияние заголовка и новости). Можно исключить такие новости из датасета."
   ]
  },
  {
   "cell_type": "markdown",
   "metadata": {
    "colab_type": "text",
    "id": "U2ChkTi4khmB"
   },
   "source": [
    "Глянем, что там такое, возьмем для примера с максимальной длинной"
   ]
  },
  {
   "cell_type": "code",
   "execution_count": 0,
   "metadata": {
    "colab": {
     "base_uri": "https://localhost:8080/",
     "height": 97
    },
    "colab_type": "code",
    "id": "JerY8dGkmBSv",
    "outputId": "035d4efb-2f14-46f0-c12f-1c44096369d9"
   },
   "outputs": [
    {
     "data": {
      "text/html": [
       "<div>\n",
       "<style scoped>\n",
       "    .dataframe tbody tr th:only-of-type {\n",
       "        vertical-align: middle;\n",
       "    }\n",
       "\n",
       "    .dataframe tbody tr th {\n",
       "        vertical-align: top;\n",
       "    }\n",
       "\n",
       "    .dataframe thead th {\n",
       "        text-align: right;\n",
       "    }\n",
       "</style>\n",
       "<table border=\"1\" class=\"dataframe\">\n",
       "  <thead>\n",
       "    <tr style=\"text-align: right;\">\n",
       "      <th></th>\n",
       "      <th>date</th>\n",
       "      <th>url</th>\n",
       "      <th>-</th>\n",
       "      <th>topic</th>\n",
       "      <th>title</th>\n",
       "      <th>text</th>\n",
       "      <th>month</th>\n",
       "      <th>year</th>\n",
       "      <th>title_len</th>\n",
       "      <th>text_len</th>\n",
       "      <th>title_len_lg</th>\n",
       "    </tr>\n",
       "  </thead>\n",
       "  <tbody>\n",
       "    <tr>\n",
       "      <th>263626</th>\n",
       "      <td>2013-02-14 00:08:35</td>\n",
       "      <td>https://www.kommersant.ru/doc/2126890</td>\n",
       "      <td>-</td>\n",
       "      <td>Общество</td>\n",
       "      <td>В этом городе не может быть маленьких проектов...</td>\n",
       "      <td>Россияне смогут вернуть все налоги за проданны...</td>\n",
       "      <td>2</td>\n",
       "      <td>2013</td>\n",
       "      <td>47709</td>\n",
       "      <td>2497</td>\n",
       "      <td>296.786003</td>\n",
       "    </tr>\n",
       "  </tbody>\n",
       "</table>\n",
       "</div>"
      ],
      "text/plain": [
       "                      date  ... title_len_lg\n",
       "263626 2013-02-14 00:08:35  ...   296.786003\n",
       "\n",
       "[1 rows x 11 columns]"
      ]
     },
     "execution_count": 54,
     "metadata": {
      "tags": []
     },
     "output_type": "execute_result"
    }
   ],
   "source": [
    "data[(data['title_len'] == data['title_len'].max())]"
   ]
  },
  {
   "cell_type": "code",
   "execution_count": 0,
   "metadata": {
    "colab": {
     "base_uri": "https://localhost:8080/",
     "height": 54
    },
    "colab_type": "code",
    "id": "IsejVzU9n-rh",
    "outputId": "d4af3363-0cf8-41dd-92d8-f352851887af"
   },
   "outputs": [
    {
     "data": {
      "text/plain": [
       "'[\\'В этом городе не может быть маленьких проектов\"\"\"|Мэр Москвы СЕРГЕЙ СОБЯНИН на встрече с редакцией “Ъ” рассказал о том, как следит за уборкой снега в Москве, что главное в транспортной стратегии города и что будет дальше со стадионом «Лужники». Господин Собянин считает, что в Москве надо проводить выборы главы города, но пока не знает, кто будет у него в конкурентах.n— У вас есть нарекания к работе коммунальных служб в этом сезоне? Многие граждане считают, что впервые за много лет город убирается из рук вон плохо.n— У меня много замечаний и претензий к коммунальщикам. За это время десятки должностных лиц были уволены, а некоторые из них даже посажены за коррупцию. Количество административных штрафов выросло со 170\\\\xa0млн руб. в 2010 году до 1\\\\xa0млрд 800\\\\xa0млн руб. за прошедший год. Такого административного нажима на коммунальщиков не было никогда. Но и такого объема работ тоже не было. За последние 100 лет ни разу не было столько снега и ледяных дождей. Для примера могу сказать, что в начале февраля за сутки выпало 26\\\\xa0см.n— Вам приходится сталкиваться с потемкинскими деревнями?n— С 1 января работает порядка 86\\\\xa0тыс.nвидеокамер, которые покрывают фактически всю площадь города. Это не эксклюзивный дворик, который можно убрать и показать. Если всю площадь города уберут, как потемкинскую деревню, я буду рад. И теперь пришедшему ко мне чиновнику я могу сказать: вот перед моими глазами 40 объектов в твоем округе, в половине из них не работают. Невозможно одномоментно объехать весь город. Тем не менее мы ввели систему, при которой административная инспекция охватывает контролем не отдельные участки, а весь город каждые сутки. 600 инспекторов используют видеонаблюдение, непосредственно контролер проходит весь округ, и у меня за сутки есть оценка всех объектов. И видно, особенно после интенсивных осадков, какая динамика по каждому округу и району по состоянию дворов, дорог. Я думаю, системный подход принесет плоды. Вы видите, что сегодня ситуация радикально другая, чем неделю назад. Но мы не только спрашиваем. За последние годы практически в полтора раза увеличены тарифы и ужесточены регламенты работ.nПочти никогда Москва не была зависима от федерального бюджетаn— Поменяются ли приоритеты расходов в городском бюджете на 2014 год? В 2013 году таким приоритетом был транспорт, в следующем — что-то изменится?n— Программу, которую мы наметили, в том числе по транспорту, мы принципиально не меняли. Мы изначально предполагали, что в случае необходимости мы готовы занимать деньги — но не на проедание, а именно на развитие, на строительство транспортной инфраструктуры. Человек, который задумал построить дом, берет кредиты на постройку — и потихоньку рассчитывается. То же самое и с городом.nНо пока мы идем без заимствования средств, наоборот, гасим те кредиты, которые были взяты еще до нас, это около 300\\\\xa0млрд руб. Сегодня этот долг снизился почти до 200\\\\xa0млрд, на этот год мы предполагаем заимствование около 100\\\\xa0млрд, но я надеюсь, что нам это не понадобится, несмотря на то что бюджет очень напряженный.n— Бюджет Москвы будет в 2014 году более зависим от федеральных поступлений?n— Почти никогда Москва не была зависима от федерального бюджета. Мы получаем положенные всем субъектам субвенции на исполнение государственных полномочий. Собственно говоря, это нельзя называть дополнительным доходом. В то же время федеральный бюджет начал помогать Москве по ряду направлений, в которых он раньше вообще не участвовал. В медицине почти 50\\\\xa0млрд федеральных денег пришло. На транспортную инфраструктуру, на метро было в прошлом году выделено 30\\\\xa0млрд, на ряд дорог и развязок выделяется несколько десятков миллиардов. Федеральный бюджет начал участвовать в крупных городских программах. Это, конечно, позитивно.n— Правительство обсуждает сейчас переход на единую субвенцию субъектам федерации — вам удобен такой подход?n— Пока это только разговоры. Речь идет о том, что ряд мелких субвенций по разным направлениям объединить в одну и пулом отдать в бюджет субъекта федерации. Сумма не меняется — денег будет столько, сколько будет. Да, наверное, проще будет работать именно с единой субвенцией.n— Намерено ли правительство Москвы увеличивать вес в поступлениях транспортного налога, а затем и налога на недвижимость? Рост в 2013 году транспортного налога позволяет предположить, что Москва заинтересована в росте поступлений от физлиц и будет увеличивать ставки налога и далее…n— Это не такой большой налог, как кажется. Он в совокупном бюджете составляет где-то около 1% доходов. Мы его, по сути, и не увеличиваем, мы проиндексировали его от базы 2008 года. Если сравнить то, что платилось в 2008 году в сопоставимых ценах, примерно такая же сумма и будет уплачиваться сейчас. Что же до налога на недвижимость — пока это тоже планы, но все-таки предлагаемая схема более адекватна, чем сегодняшний налог на имущество, который исчисляется исходя из балансовой стоимости здания. Главное — разумные, адекватные объемы ставок.n— При оформлении в собственность московских земель много жалуются на то, что город стремится урезать объемы земли в собственности владельцев многоквартирных домов. Вы как управляющий городом должны вроде бы приветствовать эту практику, увеличивающую земельные ресурсы муниципалитета. С другой стороны, это увеличивает социальное напряжение. Вы можете изложить свою позицию по этому вопросу?n— Это больше фетиш, на самом деле ничего этого не происходит. Департамент земельных ресурсов, наоборот, приветствует всех, кто желает взять больше земли вокруг своего дома на уже застроенных территориях, где не запланировано строительство. Если жители сами подписались под тем, что они хотят взять землю не только под фундаментом дома, но и больше — да ради Бога! Но при этом они должны взять на себя обязанность по содержанию этой территории. Это дополнительные затраты — поэтому таких желающих на самом деле меньше, чем мы думаем. Но за последнее время мы никому не отказали. Более того, на мой взгляд, надо продумать систему, при которой эта территория передается домовладельцам, но город еще какое-то время сохраняет свои субсидии по содержанию этой территории.n— Мы за то, чтобы появились адекватные собственники этих территорий, чтобы они действительно были обустроены. Конечно, город будет сохранять контроль за тем, что там будет строиться — передача земли не означает, что на ней можно строить, что хочешь. Так все равно не будет,— это территория общего пользования.n— Сильно ли Москва субсидирует такие расходы?n— На 100 процентов субсидируется все, что централизованно делается на этих территориях. Это уборка дворов, дорог, ремонт, создание объектов благоустройства — за исключением тех кондоминиумов, которые сами решили эксплуатировать эти территории. Если кто-то желает вложить деньги в создание детских качелей на этой земле,— и слава богу, мы это только приветствуем.nУ Банка Москвы никаких эксклюзивных взаимоотношений с городом нетn— Прошлой весной Сбербанк и правительство Москвы заявили, что производство автомобилей на мощностях ЗИЛа будет реанимировано, и договорились о создании СП «МосавтоЗИЛ». Насколько целесообразно заново запускать масштабное производство в черте города, не возникнет ли проблем с логистикой и экологией? И как производство автомобилей будет соотноситься с развитием остальной территории ЗИЛа?n— Проект развития территории ЗИЛа уже принят. В первую очередь он предполагает строительство недвижимости, в общей сложности 4,5\\\\xa0млн квадратных метров. Большая часть территории отдается под жилищную застройку. В Нагатинской пойме будет создан тематический детский парк, а площадка за железной дорогой будет отдана под технопарки. Таким образом, производственная площадка на ЗИЛе уменьшается примерно в десять раз. Логистика не будет обременительна, транспортная инфраструктура создавалась десятилетиями, она существует. Ну и, естественно, там не будет никаких грязных производств, например, литейных. На ЗИЛе будет сборка с минимальной локализацией производства непосредственно на площадке.nС момента объявления проекта прошел почти год, но соглашения с иностранными автоконцернами, которые по плану должны вести сборку на ЗИЛе, до сих пор не подписаны. На какой стадии проект сейчас и когда начнется производство? Сделали ли уже Сбербанк и правительство Москвы свои взносы в СП?nЯ надеюсь, что в ближайшие несколько месяцев завод заработает. Конечно, вклады в СП уже сделаны — мы вложили свое, Сбербанк вложил свое.n— При Юрии Лужкове Банк Москвы всегда имел некоторые преимущества перед другими банками. Продолжает ли город сотрудничество с ним?n— Сейчас у Банка Москвы никаких эксклюзивных взаимоотношений с городом нет. Например, если раньше все депозитные счета города практически размещались только в Банке Москвы, то сегодня он в этих объемах третий по счету. Мы проводим аукционы по размещению финансовых свободных средств и, кстати, город за размещение таких депозитов получил около 20\\\\xa0млрд руб. доходов.n— Продолжит ли город поддерживать социальную карту москвича? Ведь по законодательству, после того как выпущена универсальная электронная карта, аналогичные проекты регионы должны прекратить…n— Пока УЭК не будет адаптирована ко всем нуждам горожан и не станет популярной, она будет действовать параллельно с социальной картой.n— За последние два года у правительства Москвы увеличилось число медиаактивов: теперь это телеканалы «ТВ Центр», «Москва 24», «Доверие», «Московия», радиостанции «Говорит Москва», Moscow FM. Все эти электронные СМИ дотационные. Не слишком ли их много?n— Большинство этих активов и так были у города. На базе «ТВ Столицы» была создана «Москва 24» (после того как город летом 2011 года довел свою долю с 65 до 100%.—n“Ъ”n), но средства, которые мы выделяли этому телеканалу, не увеличились. А вот количество людей, которые смотрят его, выросло вдвое. На мой взгляд, это было правильное решение: городу свой информационный канал не помешает. У нас вообще была уникальная ситуация: в Москве не было ни одного новостного телеканала, тогда как, к примеру, в Челябинске или Екатеринбурге их несколько. «ТВ Центр» нельзя считать городским каналом — он вещает на всю страну, у него совсем другая сетка, свои программы.n«Московию» мы купили из-за того, что она вещала на одной частоте с «ТВ Центром», разрывая ему сетку вещания. Это было ненормально. Думаю, те средства, которые мы потратили на «Московию» (около $23\\\\xa0млн.—n“Ъ”n), полностью окупятся после объединения двух телеканалов за счет продаж рекламы.n— «ТВ Центр» участвовал и победил в конкурсе на доступ во второй цифровой мультиплекс. То есть затраты на телеканал в ближайшие годы еще больше вырастут. Это оправданная инвестиция?n— Аналоговое вещание потихоньку умирает. Пройдет несколько лет, и его как такового вообще не будет. Если ты не заявляешься в цифровой мультиплекс, ты отказываешься от своего будущего. Мне кажется, мы правильно сделали, что участвовали в том конкурсе.n— Будет ли город привлекать инвесторов к реконструкции «Лужников» к чемпионату мира по футболу в 2018 году?n— Мы предлагали целому ряду крупных девелоперов и финансовых компаний (выступить соинвестором.—n“Ъ”n). Желающих не нашлось, поскольку проект реконструкции самого стадиона неокупаем. Реконструировать арену, скорее всего, будем за счет бюджета.n— Вы приняли решение сносить существующую арену?n— Это станет понятно по результатам экспертизы, которая до сих пор выполняется. Мы за реконструкцию стадиона, причем она должна носить щадящий характер. Но FIFA считает необходимым увеличить объемы площадей стадиона, менять геометрию трибун и так далее. Мы пытаемся убедить федерацию, что действующий стадион, где намечены церемонии открытия и закрытия мирового первенства, вполне пригоден для этого.n— Какова цена вопроса?n— Если речь идет о небольшой реконструкции, то потребуется около 10\\\\xa0млрд руб. В случае коренной реконструкции — от 28\\\\xa0млрд руб.n— Некоторым девелоперам ради получения разрешения на крупные стройки придется за свой счет прокладывать дороги общего пользования. Это будет обязательным для всех застройщиков?n— Не для всех. У нас есть территории, которые не застраиваются десятилетиями из-за отсутствия транспортной инфраструктуры. Эти земли интересны девелоперам для застройки коммерческими объектами, поэтому им и было предложено позаботиться о транспортной инфраструктуре. Мы приняли еще одно важное решение. По тем проектам, которые по итогам пересогласования градостроительно-земельной комиссией были увеличены, девелоперам придется выплатить городу 30% кадастровой стоимости дополнительных площадей. Эти средства пойдут на развитие общегородской инфраструктуры.nМы запретили строить порядка 10\\\\xa0миллионов квадратных метров коммерческой недвижимости в центре городаn— Общегородская инфраструктура испытывает значительное напряжение из-за десятков и сотен тысяч приезжих, которые здесь работают. Можно говорить и о недовольстве москвичей ….n— С одной стороны, это так. А с другой стороны… в Москве профицит рабочих мест составляет около 2\\\\xa0миллионов человек. И люди приезжают сюда не только побродить по Красной площади, но и работать. Доходы Москвы и, соответственно, москвичей, во многом складываются из их труда. Поэтому говорить о том, что они приезжают и мешают нам жить, нельзя. Если мы говорим о мигрантах, которые находятся здесь незаконно, конечно, с ними надо разбираться. А те, кто приезжает сюда работать, что ж, пусть работают. Другой вопрос, что инфраструктура в Москве, конечно, перегружена, маятник миграции — ежедневно миллионы людей из Подмосковья едут в Москву и обратно. Так сложился наш город, что две трети рабочих мест находятся в центре. На периферии в Москве находятся спальные районы, и каждый день миллионы москвичей и не москвичей едут в центр и обратно. Что делать? Я думаю, что радикально не сделать ничего. Надо воспринимать это как данность и подстраивать под это транспортную инфраструктуру. Но при этом надо минимизировать строительство и создание рабочих мест в центре города и балансировать районы застройки жилья по его периметру. То есть строить их вместе с рабочими местами. Тогда постепенно баланс будет выправляться. Но еще раз повторю: радикально эту ситуацию изменить практически невозможно. Поэтому и нужна транспортная инфраструктура, которая позволяла бы людям более комфортно передвигаться по городу.nТо, что мы запретили строить порядка 10\\\\xa0млн квадратных метров коммерческой недвижимости в центре города, огромное количество офисов, которые были запроектированы, в первую очередь как раз связано с этим. Если бы это строительство фактически было завершено, ситуация бы кратно ухудшилась.n— Как развивается проект Новой Москвы?n— Эта территория будет развиваться и уже развивается. Сегодня, даже не дожидаясь перехода этой территории в Москву, были выданы разрешения на строительство 16\\\\xa0млн квадратных метров. В основном жилья. И нам сейчас приходится не столько раскачивать ситуацию для того, чтобы приходили туда инвесторы, сколько, наоборот, их сдерживать.n— То есть желающих более чем достаточно?n— Более чем. Но желающие застраивать, как и все Подмосковье… это 25 этажей… дикая плотность, отсутствие инфраструктуры и рабочих мест… С этим трудно смириться. Мы стараемся переформатировать это таким образом, чтобы плотность была как можно меньше, а рабочих мест было больше, чтобы создавалась социальная инфраструктура, транспортная инфраструктура. Это самая трудная задача, но я вам должен сказать, что если бы эта территория не перешла в границы Москвы, то вот так бы все и было застроено, как остальные районы.n— Уже есть список первых объектов, которые появятся на территории Новой Москвы?n— Территориальная схема Москвы появится где-то к середине лета. Пока списка нет, но тем не менее первыми объектами, по которым мы примем решения, будет строительство четырех парков. В этом году мы уже их заложим. И в этом же году мы выйдем на строительство транспортной инфраструктуры.n— Была информация, что большинство ведомств на новые территории не поедут, а около Кремля появится правительственный квартал.n— Это не мое решение. Это решение должно приниматься правительством Российской Федерации.nЧем больше дорог, ведущих в центр города, тем больше проблемn— Принята программа по развитию транспорта до 2016 года…n—n(Смеется.)nЯ уже думал, что мы об этом и не поговорим.n— Одновременно с этим, по данным ГАИ, автотранспорт в Москве увеличивается на 5% в год. Вы не опасаетесь, что эта программа будет неэффективна для города, потому что количество машин увеличивается пропорционально строительству дорог? Не собираетесь ли вводить какие-то ограничения по росту автопарка, может быть, по постановке машины на учет?n— Нет, не планируем такого. Одним строительством дорог и развязок транспортную проблему Москвы не решить. Ни у одного города это не получилось. Чем больше дорог, ведущих в центр города, тем больше проблем. У нас уже сегодня 4\\\\xa0млн машин. Половина из них не выезжает со дворов, по крайней мере в рабочие дни. У нас уже сегодня есть потенциал увеличить в два раза количество машин, движущихся по дорогам. И чем больше строят дорог, тем больше искушение сесть в машину и поехать на ней. И в результате начинается коллапс. Поэтому в транспортной программе строительство дорог на четвертом месте.n— Но дороги-то строить нужно?n— Ну, конечно. Во-первых, это магистрали, по которым люди уезжают за город, особенно в выходные дни. Во-вторых, надо связывать отдельные районы между собой. В-третьих, реконструкция дорог нужна для общественного транспорта. И четвертое, у нас даже по нормативам площадь дорог меньше в разы, чем в любом европейском городе и мегаполисе. Но все же это — не решение проблемы.nЛьвиная доля денег идет на развитие общественного транспорта. Первый приоритет это развитие метро. Оно — хорошее, но 300\\\\xa0км метро недостаточно. Метро не приходит во все районы, переполнено, особенно в центре города. Мы по сути дела в полтора раза увеличиваем протяженность веток: вместо 300 — 450\\\\xa0км метро.nВторой приоритет — это развитие железнодорожного транспорта. Речь идет не только о прокладке самих путей. Необходимо эту землю освободить, расширить тоннели и так далее. Сегодня мы приступили к реконструкции МКЖД (Малого кольца железной дороги). Кроме того, будут реконструироваться ветки в 10–15\\\\xa0км от Москвы, где нагрузка на железную дорогу максимальна. На закупку подвижного состава потребуется около 80\\\\xa0млрд руб., надеемся, что он будет закуплен полностью за счет инвесторов. Большая часть денег из федерального бюджета погружается в уставный капитал РЖД. Часть средств — это непосредственно самого РЖД, и часть денег — специально, чтобы сдвинуть с мертвой точки этот проект,— выделяем из бюджета города Москвы. Для чего эти линии строятся? Чтобы увеличился объем перевозок и скорость. Поезда будут не скоростные, но они будут комфортны и станут ходить регулярно. Ведь сегодня, в отличие от москвичей, которые пользуются общественным транспортом, люди из Подмосковья вынуждены добираться до работы в Москву на машинах. Это одна из главных причин, почему у нас все магистрали забиты в районе МКАД в часы пик на въезде и выезде.n— Эксплуатировать новые пути будут в первую очередь перевозчики, ЦППК и «Аэроэкспресс». Есть какие-то жесткие гарантии с их стороны по увеличению пассажиропотока, по закупкам подвижного состава? И если да, то как они зафиксированы?n— Сегодня уже есть договор с пригородной компанией. Заключен на три года, по-моему. Я считаю, что это абсолютно недостаточно для таких огромных инвестиций. Договор должен быть как минимум на 10–15 лет, с гарантией государства по обеспечению внятной тарифной политики и платы за инфраструктуру. Поэтому, помимо того что мы несем свои собственные обязательства, мы добиваемся от федеральных властей, чтобы они пролонгировали то прекрасное решение, что за железнодорожную инфраструктуру пригородные перевозчики платят условно один рубль. Сразу же появляется реальный инвестиционный спрос на такой договор. Есть понятная история у перевозчика, есть возможность занять кредитные ресурсы, обновить подвижной состав.n— А что с развитием остального общественного транспорта?n— Мы буквально за два года обновили практически весь, подвижной транспорт «Мосгортранса». Но главное, мы должны научиться администрировать парковочное пространство. Вот на Бульварном кольце парковалось 8\\\\xa0тыс. машин, а будет — 4\\\\xa0тыс. В центре города сожмется парковочное пространство, но при этом у людей должна появиться возможность комфортно доехать туда на общественном транспорте.n— Были ли проблемы, о которых вы не знали, когда принимали транспортную программу?n— Нет, знать-то мы знали. Но от этого легче не становится. Ни одной площадки готовой не было, ни одного проекта не было, никакой проектной документации… Вот возле стадиона «Динамо» идут работы по реконструкции. Стоит небольшой сарайчик, по сути дела ларечек. Мы его вот так обошли со всех сторон, убрать не можем. Надо годами судиться с собственниками. Годами. И это самая главная проблема для Москвы. Когда денег нет, их можно занять. Когда нет проектов, их можно создать. Но когда у тебя нет адекватных рычагов, чтобы быстро двигаться по этому проекту, освобождать землю — это одна из самых больших проблем. Я не против компенсации, главное, чтобы она была разумная. Это одна из самых главных проблем на сегодня.n— От строительства четвертого кольца вы отказались, потому что там нужно высвобождать земли?n— Да. Вопрос не в том, что строить или не строить. Кольцо физически в рамках действующего законодательства реализовать было невозможно. Все застроено. Чтобы изъять такие территории, потребуются колоссальные деньги и время. И сам проект стоит около 400\\\\xa0млрд руб. Такой проект, в котором можно закопать огромное количество денег, а эффект будет сомнительный.n— Сейчас ведется обсуждение по поводу строительства третьего пересадочного круга метро. Возникает вопрос, есть ли смысл строить второе кольцо в одной или двух станциях от существующего кольца, если, допустим, в трех-четырех строить можно и было бы целесообразнее?n— Я знаю то, что строить что-либо в застроенном городе не только технически, но и социально очень сложно. Если будешь добрым, всем угождать, ничего в городе не сделаешь. Ничего. Нет ни одного объекта в городе, который не вызывал те или иные социальные или политические напряжения. Есть люди, которые уже специализируются на этом и пытаются политизировать все эти проблемы.nЕсли есть какая-то кривизна, надо с этим индивидуально разбираться и поправлятьn— С прошлого года в Москве активно идет процесс слияния школ в образовательные комплексы. Эта мера критикуется родителями, учителями и директорами школ. Глава департамента образования Исаак Калина считает, что, цитата: «Если подростков с асоциальным поведением помещать в хорошую социальную среду, то они тоже станут достойными учениками». Поддерживаете ли вы позицию господина Калины?n— Несколько слов о том, что мы делаем в образовании. За два года значительно улучшилась материальная база московских школ, с точки зрения информатизации и оборудования, спортивных площадок, ремонта и т.\\\\xa0д. На 46% увеличилась заработная плата педагогов, улучшились результаты ЕГЭ, стало значительно больше школ, которые участвуют в Олимпиадах. И московских, и российских. Если бы это где-то происходило в другой стране, то Калину можно было бы представить к серьезной государственной награде. А то, что вы спрашиваете по поводу слов господина Калины, так он их не говорил. На самом деле они принадлежат народному учителю СССР Виктору Шаталову, одному из известных педагогов нашей современности. (Народный учитель СССР Виктор Шаталов действительно утверждал, что отлично подготовленный педагог может обучать вместе хороших и асоциальных учеников, но имел в виду отдельные «авторские» классы, а не специально объединенные для этой цели школы.—n“Ъ”n).nНо родители, например, в школах с углубленным изучением языка, несколько озадачены тем, что их объединяют с обычными школами, а возглавляет это учебное заведение директор как раз отстающей школы.nНа самом деле, все может быть. И некачественные кадровые назначения могут быть. Такие кадровые ошибки надо исправлять. Что касается объединения школ, у нас в городе на относительно небольшой территории 4,5\\\\xa0тыс. различного рода образовательных учреждений. 4,5\\\\xa0тыс. директоров, 4,5\\\\xa0тыс. завучей по финансам, 4,5\\\\xa0тыс. бухгалтеров и десяток тысяч кассиров. В некоторых школах ситуация доходила до абсурда, когда на учителей выделяли меньше денег, чем на административно-хозяйственный персонал. При объединении нескольких школ количество такого персонала уменьшается, за счет чего заработная плата педагогов увеличивается. Это возможности для того, чтобы учитель работал не при полупустых классах, чтобы у него была полноценная, а не на полставки, полная загрузка.nВсе это уже происходило в начале 90-х годов, даже достаточно активно. Но потом на этом просто поставили крест. Ведь школы финансировались по смете, при объединении эту смету просто урезали — конечно, было абсолютно невыгодно. Сегодня у нас нормативное финансирование, деньги идут за учеником. Чем больше у школы учеников, тем больше денег. Поэтому процесс объединения идет естественным образом, без какого-то административного нажима. Потому что выигрывает и педагог, и родители, и учащиеся. Если есть какая-то кривизна, надо с этим индивидуально разбираться и поправлять. Со всеми жалобами мы предметно разбирались. Более того, объединение учебных заведений не может быть произведено без решения родительского собрания.nМосквичи должны выбрать того мэра, которого считают нужнымn— Некоторое время назад 59 муниципалитетов в Москве лишили госполномочий. Что происходит с местным самоуправлением в Москве?n— Те полномочия, которые давались муниципалитетам и от которых они отказываются, были профанацией. Например, самые серьезные полномочия — эксплуатация спортивных объектов во дворе домов. То есть детскую площадку создает одна организация, ремонтирует ее другая, а эксплуатировать должно местное самоуправление. С какой радости? То есть нате вам, чего нам негоже. Это сделали в свое время, чтобы создать иллюзию местного самоуправления. Но на самом деле к нему эти полномочия никакого отношения не имеют.nЯ считаю, что депутаты местного самоуправления должны контролировать всю исполнительную власть. Смотреть, как ремонтируют дома, как убирают улицы, что с благоустройством. Вот это их дело. Мы эти полномочия им дали. Депутаты в Москве получили реальные полномочия, как в обычном муниципалитете, где представительные органы контролируют исполнительную власть. Они контролируют главу района, заслушивают его отчеты. Могут потребовать снять его с должности. Они заслушают управляющие компании, директоров школ, руководителей поликлиник. Они согласовывают практически весь бюджет района — и по благоустройству и по текущим расходам. Более того, мы дали им 5\\\\xa0млрд руб., для того чтобы они сами принимали решения и никто не мог на них влиять — на что хотите, на то и тратьте. На благоустройство, на ремонт домов и так далее. Многие депутаты активно этим пользуются. У нас, кстати, в органах местного самоуправления достаточно много оппозиционных депутатов, которые и были инициаторами передачи не нужных по сути дела полномочий. Они сами сказали: зачем эта профанация? Ну, сами и ремонтируйте эту детскую площадку, а мы с вас будем спрашивать. Вот в этом суть.n— Многие муниципальные депутаты недовольны тем, что в Москве ни один из них не получает зарплату и вынуждены работать на двух работах…n— Слава богу, что муниципальные депутаты не получают зарплату. Слава богу, они остаются простыми жителями Москвы. Они, как простые жители, собираются и принимают решения. Оплачиваемые чиновники — это была бы вообще другая ситуация.n— В марте оппозиция в Москве собирается провести акцию в новом формате — «Марш за права москвичей», посвященный широкому кругу социальных вопросов. Обсуждать проблемы города и возможные реформы оппозиционеры хотят в диалоге с чиновниками, в том числе с мэром. Имеет ли смысл пригласить кого-то из оппозиции, например, в общественные советы?n— Как правило, на митингах с диалогами сложно. Но если будут предложены какие-то конструктивные идеи, то с большим удовольствием их обсудим.n— Мэр Москвы должен выбираться или назначаться?n— Мне лично все равно. Потому что я и избирался, и назначался, и всю жизнь занимаюсь работой в органах госвласти, и уже патологически по-другому работать не могу. Я выкладываюсь, насколько это возможно, с полной ответственностью. Но вообще объективно, потенциально, особенно для тех, кто впервые приходит во власть, выборы — серьезное испытание и, конечно, это объективно мотивирует людей на более внимательное отношение к нуждам города, избирателей. Да и работать проще, опираясь на их поддержку. Я считаю, что москвичи должны выбрать того мэра, которого считают нужным.n— Возможны ли досрочные выборы мэра?n— Я пока не чувствую такого желания москвичей. По тем опросам, которые у нас есть, процентов 70–80 москвичей не хотят никаких досрочных выборов. Считают, что надо работать, а не заниматься политикой. Я считаю, что определены сроки выборов, можно в эти сроки и избираться.n— До выборов в Мосгордуму осталось совсем немного времени. Началась ли уже в мэрии и в «Единой России» подготовка к кампании?n— Необходимо посмотреть вообще конфигурацию этих выборов, распределение по округам, будет единый список, не будет единый список, это вопрос о технологии. То, что я буду поддерживать «Единую Россию», несомненно. Я член бюро высшего совета. Было бы странно, если бы я в кусты спрятался. Но я должен сказать, по поводу того, что до выборов осталось не так много времени. Люди, которые избраны и находятся во власти, являются правящей партией и отвечают за то, что происходит, должны начинать готовиться к очередным выборам на следующий день после состоявшихся выборов. Другого варианта подготовки к этим выборам нет. Устраивать специальные какие-то пиаровские акции, если хотите, бесполезно и бессмысленно, потому что люди сами знают, как власть работала, чего она стоит, и будут голосовать абсолютно осознанно, совершенно не так, как голосуют за оппозиционные партии, которые просто пока кормят людей обещаниями, хотя это иногда становится интересным и привлекательным.n— Эти выборы вы не связываете с мэрскими?n— Конечно, это разные выборы. И люди голосуют по-разному. Одно дело избрать депутатов, другое дело — избрать мэра города.n— Но вам нужна лояльная, работоспособная дума?n— Естественно. Губернатору, у которого нет нормальных взаимоотношений с парламентом, очень тяжело работать. Чрезвычайно тяжело. Я надеюсь, что когда будет сформирована Московская городская дума, в ее составе будут не те, кто громче кричит, а те, кто принимает наиболее адекватные и рациональные решения.n— Кого вы считаете главным конкурентом на выборах мэра?n— Пока не знаю. Думаю, желающих будет более чем достаточно.n— Вы уже два года находитесь на посту мэра. Для вас наследие Лужкова — это понятие позитивное или скорее отрицательное? Что вы преодолели, что хотели бы сохранить?nПо поводу наследия Юрия Михайловича лучше задавать наследникам вопрос. Если говорить о городе, его состоянии, то это наследие не столько Лужкова, сколько сотен лет строительства этого города и миллионов москвичей, которые здесь трудились. Те проблемы, которые в городе остаются, их просто надо знать и решать. А не пытаться проанализировать, кто те или иные ошибки сделал. Я никогда этого не делал, считаю, что это пустое занятие.n— Что вы считаете на сегодня главным достижением на посту мэра и что — главной неудачей?n— Если говорить о главном, то все очень сложные проекты. Если не по мелочам, а по-серьезному, то в этом городе не может быть маленьких проектов. Это серьезные системные проекты, для реализации которых требуются колоссальные инвестиции, колоссальные затраты времени и за год-два их практически реализовать невозможно. Поэтому давайте через два-три года я точно отвечу на этот вопрос: что удалось, что не удалось. Хотя должен сказать, мы по всем направлениям ежегодно двигаемся вперед. Это приносит удовлетворение. По всем главным направлениям, начиная от образования, здравоохранения, заканчивая транспортом, это сложнейшие проблемы, стараемся каждый год продвинуться вперед. Это, собственно, идеология нашей работы. Наверное, это видно. Другой вопрос в том, как это оценивать.n— То есть через-два три года вы сможете подвести черту?n— Мы приняли по всем направлениям государственные программы, аккумулировали в них все ресурсы, и бюджетные, и внебюджетные, определили критерии. И по ним легко будет судить, удалось это или не удалось.\\\\n2013-02-14 15:17:33|https://www.kommersant.ru/doc/2127273|-|Мир|Грузинские власти готовят арест бывшего премьера|Новые власти Грузии усиливают давление на ближайших соратников президента Михаила Саакашвили. Вслед за допросом мэра Тбилиси Гиги Угулавы прокуратура западногрузинского региона Имерети допросила бывшего премьера Вано Мерабишвили и экс-министра здравоохранения Зураба Чиаберашвили.nВсе трое членов окружения Михаила Саакашвили обвиняются в лоббировании интересов президентской партии с использованием бюджетных ресурсов. Эксперты не исключают возможности их ареста по мере обострения конфликта между Саакашвили и премьером Бидзиной Иванишвили вокруг конституционной реформы, лишающей главу государства возможности отправить правительство в отставку.n«Уголовное дело возбуждено по факту нецелевого расходования государственных средств»,— сообщила\\\\xa0“Ъ” пресс-секретарь главной прокуратуры Хатуна Паичадзе. По ее словам, «Мерабишвили и Чиаберашвили пока допрашиваются в качестве свидетелей, а не обвиняемых». Тем не менее, госпожа Паичадзе дала понять: если у следствия будет достаточно доказательств, против бывшего премьера и экс-министра здравоохранения может быть возбуждено уголовное дело по статье 333 УК (превышение служебных полномочий), предусматривающей до восьми лет лишения свободы.nПо данным следствия, Мерабишвили, занимая должность премьера, подписал постановление правительства от 5 июля 2012 года «о переписи лиц, нуждающихся в трудоустройстве», а тогдашний министр здравоохранения Чиаберашвили выделил около $3\\\\xa0млн из социального фонда министерства для создания «базы безработных». С этой целью министерство задействовало более 21\\\\xa0тыс. человек. Впрочем, по утверждению прокуратуры региона Имерети, они «не вели перепись безработных, а агитировали за президентскую партию и участвовали в митингах в поддержку Саакашвили». По этой версии, значительные бюджетные средства были истрачены на нужды правящей партии, а не на создание списка безработных. «По сути, прежние власти слили государственный бюджет с партийной кассой»,— заявила министр юстиции Тея Цулукиани.nЗураб Чиаберашвили с такой интерпретацией не согласен. Не отрицая, что соцагенты могли участвовать в митингах поддержки президента и его партии «Единое национальное движение» (ЕНД), экс-министр здравоохранения утверждает: за три месяца было опрошено около 600\\\\xa0тыс. семей, создана «значительная база для осуществления программы занятости населения». «Лучше бы новые власти занялись трудоустройством людей, а не высасывали из пальца обвинения»,— заявил господин Чиаберашвили перед допросом в краевой прокуратуре.nБывший премьер и генеральный секретарь президентской партии Вано Мерабишвили на допросе выглядел уверенным в себе. «Я с гордостью вхожу в здание прокуратуры, построенное нами, где новое правительство трудоустроило только своих родственников, тогда как ни одного рабочего места для народа пока не создано»,— заметил экс-премьер.nДопросы господ Мерабишвили и Чиаберашвили длились несколько часов. Потом их отпустили, но прокуратура намерена вновь допросить их через несколько дней. Эксперты считают неслучайным, что уголовное дело ведет краевая прокуратура Имерети, а не главная прокуратура Тбилиси. Этот факт называют «признаком подготовки ареста» обоих соратников президента. «Тбилисский городской суд несколько раз отклонял требование прокуратуры об аресте некоторых бывших чиновников, но если дело будет вести краевая прокуратура Имерети, суд этой провинции может отказаться от освобождения задержанных под залог»,— объяснил “Ъ” блогер Global News Давид Авалишвили.nРанее по схожему делу прокуратура и следственный департамент Министерства финансов вызвали на допрос мэра Тбилиси Гиги Угулаву. Ему вменяют в вину оформление сотен активистов ЕНД в департаменте столичного правительства.nУсиление давления на соратников Саакашвили ряд экспертов связывает со стремлением премьера продавить в парламенте поправки в конституцию, лишающие президента возможности отправить в отставку правительство. «Это прямой шантаж. Иванишвили хочет посадить всех, кто не вписывается в его планы»,— считает политолог Михаил Тавхелидзе.nГеоргий Двали, Тбилиси\\\\n2013-02-14 20:33:04|https://www.kommersant.ru/doc/2127464|-|Политика|Никита Белых пошел по стопам Юрия Лужкова|Глава Кировской области Никита Белых выиграл суд о защите чести, достоинства и деловой репутации у лидера местных коммунистов, депутата Госдумы Сергея Мамаева. За резкую критику в свой адрес с трибуны Госдумы губернатор требовал 1\\\\xa0млн руб., но компенсацию ему сократили до 90\\\\xa0тыс. руб. Вместе с тем, по данным источника “Ъ” в окружении Никиты Белых, уже в 20-х числах февраля может состояться встреча губернатора с президентом Путиным. Напомним, в начале февраля кировские депутаты намеревались инициировать отставку Никиты Белых, но передумали. Как подчеркивали источники “Ъ” в Кремле, губернатор — «креатура главы государства, и решение по нему в соответствии с законом принимает президент».nСоветский райсуд Кирова удовлетворил иск о защите чести, достоинства и деловой репутации Никиты Белых к Сергею Мамаеву. За резкие заявления о социально-экономической ситуации и коррупции в руководстве области, прозвучавшие в выступлении коммуниста 21 ноября 2012 года на заседании Госдумы, губернатор требовал 1\\\\xa0млн руб. компенсации морального вреда. В своем иске Никита Белых отметил, что ему «обидно, что извращено истинное положение дел в области», а на него «пала тень подозрения в нечестности, неправильном, неэтичном поведении, недобросовестности». Суд согласился с губернатором в том, что заявления коммуниста необоснованны, и постановил взыскать в пользу главы области 90\\\\xa0тыс. руб.n«Безусловно, мы будем обжаловать это решение»,— заявил “Ъ” Сергей Мамаев. Добавим, что Никита Белых не первый губернатор, которому удалось выиграть суд о защите чести и достоинства. Иски против своих оппонентов регулярно подает Кемеровский губернатор Аман Тулеев (nсм. “Ъ” от 18 марта 2011 годаn), а среди рекордсменов по количеству выигранных дел о защите чести и достоинства до отрешения от должности был московский мэр Юрий Лужков (nсм. “Ъ” от 19 июня 2010 годаn).nСудебному разбирательству в кировском суде предшествовали акции у правительства области — за и против губернатора. Организацией митинга в поддержку Никиты Белых занималась местная компания «Яркий город», устраивающая городские праздники и рекламные акции. Сторонников Никиты Белых собирали в течение нескольких дней с помощью листовок и соцсетей. Поддержать его пришло около трехсот человек с плакатами: «Уйдет Белых — области хана», «Белых, верим в тебя, верим тебе!». «Нам очень повезло сегодня и с погодой, и с губернатором! Аллилуйя!» — приветствовал их директор «Яркого города» Вячеслав Тихонов. А заслуженный мастер спорта из Омутнинска Юрий Скобов назвал Никиту Белых «настоящим кировским пацаном». Акция коммунистов получилась более скромной: поскольку вся территория перед зданием уже была занята сторонниками господина Белых, представителям КПРФ пришлось приютиться сбоку с лозунгами: «Людей послушайся, Никита, и уходи без волокиты». А когда сторонники губернатора уходили с площади, начали кричать им вслед: «Позор защитникам воров!».nВ этот же день Сергей Мамаев выступил на заседании законодательного собрания. От имени «140\\\\xa0тыс. своих избирателей» он вопрошал, «как долго Кировская область будет лететь под откос под смех и улюлюканье либерал-гастролеров всех мастей». «Чем раньше Никита Юрьевич уйдет со своего поста, тем быстрее область выйдет из финансово-экономического кризиса, покончит с коррупцией и кадровой чехардой»,— заключил Сергей Мамаев, призвав депутатов принять соответствующее обращение к президенту Владимиру Путину. Однако выносить вопрос на голосование не стали. Напомним, что в начале февраля руководство «Единой России» не поддержало стремление местных депутатов отправить Никиту Белых в отставку. А источник “Ъ” в Кремле подчеркнул, что губернатор — «креатура главы государства и решение по нему в соответствии с законом принимает президент».nПо данным источника “Ъ” в окружении главы региона, встреча Никиты Белых с президентом может состояться уже в 20-х числах февраля. По информации собеседника “Ъ”, в департаментах правительства региона уже активно собирают ключевые показатели, свидетельствующие о развитии основных отраслей региона.nИрина Александрова, Киров\\\\n2013-02-14 21:46:00|https://www.kommersant.ru/doc/2127588|-|Экономика|ФСФР отозвала лицензии у двух негосударственных пенсионных фондов|Федеральная служба по финансовым рынкам (ФСФР) России аннулировала лицензии на осуществление деятельности негосударственного пенсионного фонда по пенсионному обеспечению и пенсионному страхованию некоммерческих организаций НПФ «Железнодорожный» и «Подольский негосударственный пенсионный фонд», сообщается 14 февраля наnсайтеnрегулятора. Основанием для принятия решений послужило неисполнение фондами предписаний ФСФР от 11 декабря 2012 года об устранении нарушений законодательства России, повлекшего введение запрета на проведение части операций.\\\\n2013-02-14 20:17:28|https://www.kommersant.ru/doc/2127450|-|Политика|В приморском «Яблоке» назрел переворот|Руководство «Яблока» поручило известному в крае оппозиционному политику Николаю Марковцеву организовать апрельскую конференцию приморского отделения партии. Ожидается, что он станет новым лидером партячейки, а в сентябре этого года будет выдвинут «Яблоком» в мэры Владивостока. Действующее руководство парторганизации обвиняет господина Марковцева в попытке ее рейдерского захвата.nО том, что экс-депутату парламента Приморья Николаю Марковцеву бюро «Яблока» поручило подготовить и провести конференцию регионального отделения, сообщили “Ъ” источники в партии. «Я принял предложение»,— подтвердил господин Марковцев. По его словам, в конце прошлого года истек срок полномочий руководящих органов краевого отделения, но отчетно-выборная конференция не была проведена. «Руководство партии провело перерегистрацию членов, но вместо 700 человек членство подтвердили чуть более 50. В руководстве поняли, что ситуацию надо кардинальным образом менять»,— рассказал “Ъ” Николай Марковцев. По его словам, он вступил в партию в конце ноября, а вместе с ним — свыше 200 его сторонников. «Конференция пройдет с участием председателя партии Сергея Митрохина. Я готов возглавить организацию и, если меня выдвинут кандидатом в мэры, в сторону не отойду»,— заявил политик. Он отметил, что приморское «Яблоко» «фактически ушло с политической арены, не работает с избирателями, не проводит протестные акции и, как следствие, постоянно терпит неудачи на выборах».n«У меня такое решение вызывает недоумение и протест. Как можно доверять человеку, который партии меняет как перчатки»,— заявил “Ъ” многолетний лидер приморского «Яблока» Владимир Никифоров. «Происходит рейдерский захват отделения»,— считает глава владивостокской ячейки Дмитрий Цветков. Он признал, что сроки проведения партконференции были сорваны, но объясняет это тем, что все силы были брошены на кампанию по выборам в думу Владивостока (14 октября).nБывший сотрудник ФСБ, первый вице-мэр Владивостока в команде Виктора Черепкова Николай Марковцев, в 2004 году баллотировался в мэры Владивостока и вышел во второй тур, где уступил предпринимателю Владимиру Николаеву. Являясь депутатом законодательного собрания края, в 2005 году он голосовал против наделения Сергея Дарькина полномочиями губернатора на второй срок. В июне 2007 года вступил в КПРФ, но уже в августе того же года был исключен из партии «за действия, нанесшие урон ее авторитету»: «лживые публикации» в газете «За народ», учредителем которой он является, с обвинениями в адрес Компартии в формализме и бюрократизме. В декабре 2007 года Николай Марковцев был избран депутатом думы Владивостока по списку «Справедливой России», но через три года его исключили и из этой партии — «за действия, ее дискредитирующие»: он публично выступил против назначения лидером краевого отделения Константина Межонова, советника мэра Владивостока единоросса Игоря Пушкарева.n«Яблоко» на выборах в законодательное собрание Приморья в декабре 2011 года не смогло собрать подписи избирателей для регистрации списка кандидатов. А на выборах в думу Владивостока, 14 октября прошлого года, партия не преодолела пятипроцентный барьер, набрав 2,64% голосов. При этом «Яблоко» вступило в коалицию с КПРФ, которая включила двух «яблочников» в список одномандатников. В ответ на это Сергей Митрохин заявил, что для партии «абсолютно недопустимо создание коалиций, как на федеральном, так и на региональном уровне, с силами, отстаивающими человеконенавистнические идеологии, приведшие к массовым репрессиям в ХХ\\\\xa0веке».n«Это беспринципный человек, который преследует только одну цель — пройти во власть. Вступив в нашу партию, он сразу начал вести кампанию по включению его в список кандидатов в Госдуму»,— сказал первый секретарь владивостокского горкома КПРФ Владимир Беспалов. «Не думаю, что Марковцев усилит “Яблоко”, он использует партию для удовлетворения личных политических амбиций»,— полагает господин Межонов.nПолитконсультант Петр Ханас признает необходимость кадровых перемен в приморском «Яблоке»: «Дело дошло до того, что на выборах в думу Владивостока в список кандидатов помимо Никифорова вошли две его родственницы». По мнению эксперта, Николай Марковцев способен «вдохнуть новую жизнь» в организацию, что вполне в интересах «Единой России». «Если “Яблоко” выдвинет Марковцева в мэры, то он отберет часть голосов у коммунистов — основных соперников “Единой России”»,— отметил господин Ханас.nАлексей Чернышев, Владивосток\\\\n2013-02-14 20:24:06|https://www.kommersant.ru/doc/2127469|-|Происшествия|База боевиков уничтожена в результате спецоперации в Дагестане|Базовый район боевиков и блиндаж уничтожены в четверг в ходе спецоперации возле дагестанского города Хасавюрт, сообщил 14 февраляnРИА «Новости»nруководитель пресс-службы внутренних войск МВД России Василий Панченков. «В ходе проведения спецоперации в лесистой местности в районе города Хасавюрт был обнаружен базовый район боевиков и блиндаж, вырытый в земле. Базовый район был уничтожен путем применения техники, а боевики укрылись в блиндаже и открыли огонь по сотрудникам правоохранительных органов. В этом эпизоде ответным огнем были уничтожены два бандита, их личности устанавливаются», — сказал собеседник агентства. Он сообщил, что при этом погиб начальник инженерной службы подразделения спецназначения подполковник Роман Чеботаев. Ранее сообщалось, что всего в результате спецоперации было уничтожено шесть боевиков, и что один из них может быть организатором этого теракта.\\\\n2013-02-14 12:55:28|https://www.kommersant.ru/doc/2127055|-|Политика|Назначен исполняющий обязанности мэра Крымска|Исполняющим обязанности главы города Крымска, который лишился градоначальника после задержания Владимира Улановского по делу о халатности во время наводнения, назначен Александр Семко, сообщает 14 февраля администрация Крымского района Краснодарского края. Прежде господин Семко возглавлял администрацию Анастасиевского сельского поселения Славянского района Кубани. После задержания Улановского и.о. главы Крымска был назначен Евгений Юдин, свой пост он оставил из-за проблем со здоровьем, сказано в сообщении наnсайте администрацииn.\\\\n2013-02-14 12:51:54|https://www.kommersant.ru/doc/2127037|-|Ъ-FM/Темы дня|\\\\\\\\Брокеры смогут хоть что-то противопоставить депозиту\"\"\"\"\"\\']'"
      ]
     },
     "execution_count": 55,
     "metadata": {
      "tags": []
     },
     "output_type": "execute_result"
    }
   ],
   "source": [
    "str(data[data.index == 263626].title.values)"
   ]
  },
  {
   "cell_type": "code",
   "execution_count": 0,
   "metadata": {
    "colab": {
     "base_uri": "https://localhost:8080/",
     "height": 54
    },
    "colab_type": "code",
    "id": "z-BeIuBmn-2X",
    "outputId": "c8cb57f5-848c-482a-92cc-de130d013e4e"
   },
   "outputs": [
    {
     "data": {
      "text/plain": [
       "'[\\'Россияне смогут вернуть все налоги за проданные акции. Такое предложение подготовила Национальная ассоциация участников фондового рынка. Ситуацию ведущему Алексею Корнееву прокомментировала генеральный директор компании Персональный советник\" Наталья Смирнова.nПланируется, что при продаже ценных бумаг, которыми человек владел не менее трех лет, он сможет вернуть налог на доходы физических лиц с суммы в 3 млн руб. Если же акции находились в собственности более пяти лет, то ограничений по возвращению налогов не будет.nКроме того, финансисты предлагают ввести два новых вида инвестиционных вкладов. Владельцам таких счетов будет возвращаться подоходный налог с дохода по вкладу — 13%. Предполагается, что Госдума рассмотрит эти предложения уже в весеннюю сессию.n— Как можно вообще оценить эти инициативы? Они каким-то образом смогут привлечь россиян к инвестициям внутри страны?n— Во-первых, да, безусловно, и к этому мы давно шли. Другое дело, что у нас уже одно время был налоговый вычет в размере, когда человек инвестировал в акции свыше трех лет. Потом отменили, но долго ждали, пока вернули. Наконец, вернули, но в таком урезанном варианте — с трех лет возвращают не полностью, хотят возвращать с пяти. Наличие этих инвестиционных а-ля счетов — это тоже логично. США к этому пришли еще в прошлом веке. Другое дело, что есть и третья причина, почему это для россиян сейчас интересно. Она связана с тем, что у нас теперь почти невозможно инвестировать нормально за границей из-за ограничений, которые ввели на использование личных банковских счетов за границей. Поэтому я считаю, что это очень логично сделать хотя бы внутренний российский рынок более привлекательным для российского инвестора.n— А кого в первую очередь эти нововведения могут заинтересовать?n— В начале об этом, конечно, нужно рассказать, потому что у нас достаточно финансово неграмотное население. Я думаю, что это, прежде всего, заинтересованность брокеров и управляющих компаний, потому что, по сути своей, они наконец-то получат инструмент, который они смогут противопоставить депозиту. Сейчас основное возражение клиентов, которых пытаются привлечь брокеры и управляющие компании: \"\"А зачем, если я могу на депозите без риска получить 12% годовых. А так они смогут сказать: \"\"Вот здесь вы сможете освободиться от налогов, в принципе, и верхней планки нет, если инвестировать больше пяти лет\"\". Хоть что-то можно будет противопоставить. А сейчас противопоставлять нечего, в этом смысле это большой отток клиентов.\"\"\"\\']'"
      ]
     },
     "execution_count": 56,
     "metadata": {
      "tags": []
     },
     "output_type": "execute_result"
    }
   ],
   "source": [
    "str(data[data.index == 263626].text.values)"
   ]
  },
  {
   "cell_type": "markdown",
   "metadata": {
    "colab_type": "text",
    "id": "3bOXU2y4lVGP"
   },
   "source": [
    "Ощущение, что в заголовок слепили несколько новостей. При этом продолжение последний новости из заголовка находится в столбце text"
   ]
  },
  {
   "cell_type": "code",
   "execution_count": 0,
   "metadata": {
    "colab": {},
    "colab_type": "code",
    "id": "jtmJzv_jN0qb"
   },
   "outputs": [],
   "source": []
  },
  {
   "cell_type": "markdown",
   "metadata": {
    "colab_type": "text",
    "id": "fWwsRRnSqv6-"
   },
   "source": [
    "#### Столбчатая диаграмма"
   ]
  },
  {
   "cell_type": "code",
   "execution_count": 0,
   "metadata": {
    "colab": {
     "base_uri": "https://localhost:8080/",
     "height": 268
    },
    "colab_type": "code",
    "id": "32tux4CgqzGo",
    "outputId": "947fa946-610c-4dbf-8c92-ac938877b923"
   },
   "outputs": [
    {
     "data": {
      "image/png": "[encoded data removed]",
      "text/plain": [
       "<Figure size 432x288 with 1 Axes>"
      ]
     },
     "metadata": {
      "tags": []
     },
     "output_type": "display_data"
    }
   ],
   "source": [
    "bins = [300, 400, 500, 600, 700, 800, 900]\n",
    "data_my = data.title_len.values\n",
    "hist, bin_edges = np.histogram(data_my, bins)\n",
    "fig, ax = plt.subplots()\n",
    "ax.bar(range(len(hist)), hist, width=1)\n",
    "ax.set_xticks([0.5 + i for i, j in enumerate(hist)])\n",
    "ax.set_xticklabels(['{}-{}'.format(bins[i], bins[i+1]) for i, j in enumerate(hist)])\n",
    "plt.show()"
   ]
  },
  {
   "cell_type": "code",
   "execution_count": 0,
   "metadata": {
    "colab": {
     "base_uri": "https://localhost:8080/",
     "height": 34
    },
    "colab_type": "code",
    "id": "Zp9PK4s4wLcK",
    "outputId": "fe4efa0e-d731-4914-c6b7-26657d47b584"
   },
   "outputs": [
    {
     "data": {
      "text/plain": [
       "14"
      ]
     },
     "execution_count": 150,
     "metadata": {
      "tags": []
     },
     "output_type": "execute_result"
    }
   ],
   "source": [
    "((data['title_len'] >= 300) & (data['title_len'] < 400)).sum()"
   ]
  },
  {
   "cell_type": "code",
   "execution_count": 0,
   "metadata": {
    "colab": {
     "base_uri": "https://localhost:8080/",
     "height": 34
    },
    "colab_type": "code",
    "id": "akBbBkbKwLVA",
    "outputId": "58bc9069-6edb-4287-a227-bda5b8b0a5ef"
   },
   "outputs": [
    {
     "data": {
      "text/plain": [
       "770"
      ]
     },
     "execution_count": 152,
     "metadata": {
      "tags": []
     },
     "output_type": "execute_result"
    }
   ],
   "source": [
    "(data['title_len'] >= 800).sum()"
   ]
  },
  {
   "cell_type": "markdown",
   "metadata": {
    "colab_type": "text",
    "id": "FWnuV7ZdlvAI"
   },
   "source": [
    "### Анализ текста новостей"
   ]
  },
  {
   "cell_type": "code",
   "execution_count": 0,
   "metadata": {
    "colab": {
     "base_uri": "https://localhost:8080/",
     "height": 170
    },
    "colab_type": "code",
    "id": "143_DRZxN0ha",
    "outputId": "097d6cd1-ff5d-4cc0-eafd-42f9778d7308"
   },
   "outputs": [
    {
     "data": {
      "text/plain": [
       "count    566435.000000\n",
       "mean       2217.590297\n",
       "std        2924.279705\n",
       "min          10.000000\n",
       "25%         590.000000\n",
       "50%        1213.000000\n",
       "75%        3165.000000\n",
       "max      387478.000000\n",
       "Name: text_len, dtype: float64"
      ]
     },
     "execution_count": 80,
     "metadata": {
      "tags": []
     },
     "output_type": "execute_result"
    }
   ],
   "source": [
    "data.text_len.describe()"
   ]
  },
  {
   "cell_type": "markdown",
   "metadata": {
    "colab_type": "text",
    "id": "PbOPK3R6olwE"
   },
   "source": [
    "Видно, что получившиеся длины, также содержат аномально большие значения. На этот раз мы сразу прологарифмируем значения и начнем с построения боксплота"
   ]
  },
  {
   "cell_type": "code",
   "execution_count": 0,
   "metadata": {
    "colab": {
     "base_uri": "https://localhost:8080/",
     "height": 502
    },
    "colab_type": "code",
    "id": "pJtWnn8qog71",
    "outputId": "708cc93f-e701-4f5f-b74d-f47a5a198b1d"
   },
   "outputs": [
    {
     "data": {
      "image/png": "[encoded data removed]",
      "text/plain": [
       "<Figure size 1080x576 with 1 Axes>"
      ]
     },
     "metadata": {
      "tags": []
     },
     "output_type": "display_data"
    }
   ],
   "source": [
    "plt.subplots(figsize=(15, 8))\n",
    "sns.boxplot(x='text_len', data=data);"
   ]
  },
  {
   "cell_type": "code",
   "execution_count": 0,
   "metadata": {
    "colab": {
     "base_uri": "https://localhost:8080/",
     "height": 51
    },
    "colab_type": "code",
    "id": "aRWngpfwN0YU",
    "outputId": "10b12572-e16b-40ab-a47f-66853ebafb57"
   },
   "outputs": [
    {
     "name": "stdout",
     "output_type": "stream",
     "text": [
      "Межквартильный размах:  2575.0\n",
      "Верхняя граница наблюдаемых значений:  7027.5\n"
     ]
    }
   ],
   "source": [
    "# Верхняя граница наблюдаемых значений = 3165 + 1.5 * (3165 - 590) = 7027\n",
    "print('Межквартильный размах: ', data.text_len.quantile(q=0.75) - data.text_len.quantile(q=0.25))\n",
    "print('Верхняя граница наблюдаемых значений: ', data.text_len.quantile(q=0.75) + 1.5 * (data.text_len.quantile(q=0.75) - data.text_len.quantile(q=0.25)))"
   ]
  },
  {
   "cell_type": "code",
   "execution_count": 0,
   "metadata": {
    "colab": {},
    "colab_type": "code",
    "id": "Ae6X_rhpn5-c"
   },
   "outputs": [],
   "source": [
    "data['text_len_lg'] = data.text.apply(lambda x: (len(x) if len(x)<=10000 else 10*math.log10(len(x))+10000))"
   ]
  },
  {
   "cell_type": "code",
   "execution_count": 0,
   "metadata": {
    "colab": {
     "base_uri": "https://localhost:8080/",
     "height": 170
    },
    "colab_type": "code",
    "id": "VPbZpx34n6DY",
    "outputId": "b3921b36-5328-4f37-ebac-35b2e5a09ef2"
   },
   "outputs": [
    {
     "data": {
      "text/plain": [
       "count    566435.000000\n",
       "mean       2100.634354\n",
       "std        2187.537346\n",
       "min          10.000000\n",
       "25%         590.000000\n",
       "50%        1213.000000\n",
       "75%        3165.000000\n",
       "max       10055.882470\n",
       "Name: text_len_lg, dtype: float64"
      ]
     },
     "execution_count": 84,
     "metadata": {
      "tags": []
     },
     "output_type": "execute_result"
    }
   ],
   "source": [
    "data['text_len_lg'].describe()"
   ]
  },
  {
   "cell_type": "code",
   "execution_count": 0,
   "metadata": {
    "colab": {
     "base_uri": "https://localhost:8080/",
     "height": 502
    },
    "colab_type": "code",
    "id": "v7Hi-NGXn6Mb",
    "outputId": "cb30ee88-c30d-4304-ce9c-cf91bc420012"
   },
   "outputs": [
    {
     "data": {
      "image/png": "[encoded data removed]",
      "text/plain": [
       "<Figure size 1080x576 with 1 Axes>"
      ]
     },
     "metadata": {
      "tags": []
     },
     "output_type": "display_data"
    }
   ],
   "source": [
    "plt.subplots(figsize=(15, 8))\n",
    "sns.boxplot(x='text_len_lg', data=data);"
   ]
  },
  {
   "cell_type": "code",
   "execution_count": 0,
   "metadata": {
    "colab": {
     "base_uri": "https://localhost:8080/",
     "height": 519
    },
    "colab_type": "code",
    "id": "jOTMdKB_n6T5",
    "outputId": "6bf3d043-257b-4e83-d492-90fc0e784f70"
   },
   "outputs": [
    {
     "name": "stdout",
     "output_type": "stream",
     "text": [
      "Количество по формуле Стреджерса, с округлением к меньшему целому составляет:  20\n"
     ]
    },
    {
     "data": {
      "image/png": "[encoded data removed]",
      "text/plain": [
       "<Figure size 1080x576 with 1 Axes>"
      ]
     },
     "metadata": {
      "tags": []
     },
     "output_type": "display_data"
    }
   ],
   "source": [
    "# По формуле Стреджерса\n",
    "print('Количество по формуле Стреджерса, с округлением к меньшему целому составляет: ', math.floor(1 + 3.322*math.log10(566435)))\n",
    "plt.subplots(figsize=(15, 8))\n",
    "plt.axvline(data['text_len_lg'].median(), color=\"k\", linestyle=\"--\");\n",
    "sns.distplot(data['text_len_lg'], bins=math.floor(1 + 3.322*math.log10(566435)));"
   ]
  },
  {
   "cell_type": "code",
   "execution_count": 0,
   "metadata": {
    "colab": {
     "base_uri": "https://localhost:8080/",
     "height": 51
    },
    "colab_type": "code",
    "id": "3VUQzMzVqGOg",
    "outputId": "93621a2b-84ad-4c7f-9b2a-88e9c6fea7d0"
   },
   "outputs": [
    {
     "name": "stdout",
     "output_type": "stream",
     "text": [
      "Межквартильный размах:  2575.0\n",
      "Верхняя граница наблюдаемых значений:  7027.5\n"
     ]
    }
   ],
   "source": [
    "# Верхняя граница наблюдаемых значений = 3165 + 1.5 * (3165 - 590) = 7027\n",
    "print('Межквартильный размах: ', data.text_len_lg.quantile(q=0.75) - data.text_len_lg.quantile(q=0.25))\n",
    "print('Верхняя граница наблюдаемых значений: ', data.text_len_lg.quantile(q=0.75) + 1.5 * (data.text_len_lg.quantile(q=0.75) - data.text_len_lg.quantile(q=0.25)))"
   ]
  },
  {
   "cell_type": "code",
   "execution_count": 0,
   "metadata": {
    "colab": {
     "base_uri": "https://localhost:8080/",
     "height": 34
    },
    "colab_type": "code",
    "id": "1V29NkKjn6RU",
    "outputId": "6620cdd2-ebb5-429a-eec5-64b6b9e9a573"
   },
   "outputs": [
    {
     "data": {
      "text/plain": [
       "24978"
      ]
     },
     "execution_count": 88,
     "metadata": {
      "tags": []
     },
     "output_type": "execute_result"
    }
   ],
   "source": [
    "(data.text_len_lg > 7027).sum()"
   ]
  },
  {
   "cell_type": "markdown",
   "metadata": {
    "colab_type": "text",
    "id": "_nEpLtqW2qYd"
   },
   "source": [
    "24978 новости содержат аномально большие тексты, скорей всего там что-то не так с данными. Можно исключить такие новости из датасета."
   ]
  },
  {
   "cell_type": "code",
   "execution_count": 0,
   "metadata": {
    "colab": {},
    "colab_type": "code",
    "id": "2mQfUV0yp3OV"
   },
   "outputs": [],
   "source": []
  },
  {
   "cell_type": "markdown",
   "metadata": {
    "colab_type": "text",
    "id": "RFt4QbVQ0rhn"
   },
   "source": [
    "#### Столбчатая диаграмма"
   ]
  },
  {
   "cell_type": "code",
   "execution_count": 0,
   "metadata": {
    "colab": {
     "base_uri": "https://localhost:8080/",
     "height": 268
    },
    "colab_type": "code",
    "id": "1Jje2YV-p3TM",
    "outputId": "09237a99-d363-4d46-aa1e-f7f0aa094711"
   },
   "outputs": [
    {
     "data": {
      "image/png": "[encoded data removed]",
      "text/plain": [
       "<Figure size 432x288 with 1 Axes>"
      ]
     },
     "metadata": {
      "tags": []
     },
     "output_type": "display_data"
    }
   ],
   "source": [
    "bins = [0, 500, 1000, 1500, 2000, 2500, 3000, 3500, 4000, 4500, 5000, 5500, 6000, 6500, 7000, 7500]\n",
    "data_my = data.text_len.values\n",
    "hist, bin_edges = np.histogram(data_my, bins)\n",
    "fig, ax = plt.subplots()\n",
    "ax.bar(range(len(hist)), hist, width=1)\n",
    "ax.set_xticks([0.5 + i for i, j in enumerate(hist)])\n",
    "ax.set_xticklabels(['{}-{}'.format(bins[i], bins[i+1]) for i, j in enumerate(hist)])\n",
    "plt.show()"
   ]
  },
  {
   "cell_type": "code",
   "execution_count": 0,
   "metadata": {
    "colab": {
     "base_uri": "https://localhost:8080/",
     "height": 34
    },
    "colab_type": "code",
    "id": "hnaf4_1Y1Job",
    "outputId": "f6f97373-0212-4069-d8c7-441fa63a3e91"
   },
   "outputs": [
    {
     "data": {
      "text/plain": [
       "22459"
      ]
     },
     "execution_count": 106,
     "metadata": {
      "tags": []
     },
     "output_type": "execute_result"
    }
   ],
   "source": [
    "((data['text_len'] > 7500)).sum()"
   ]
  }
 ],
 "metadata": {
  "accelerator": "TPU",
  "colab": {
   "collapsed_sections": [],
   "machine_shape": "hm",
   "name": "Copy of kommersant.ipynb",
   "provenance": [],
   "toc_visible": true
  },
  "kernelspec": {
   "display_name": "Python 3",
   "language": "python",
   "name": "python3"
  },
  "language_info": {
   "codemirror_mode": {
    "name": "ipython",
    "version": 3
   },
   "file_extension": ".py",
   "mimetype": "text/x-python",
   "name": "python",
   "nbconvert_exporter": "python",
   "pygments_lexer": "ipython3",
   "version": "3.7.4"
  }
 },
 "nbformat": 4,
 "nbformat_minor": 1
}
