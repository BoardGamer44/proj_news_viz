{
  "nbformat": 4,
  "nbformat_minor": 0,
  "metadata": {
    "kernelspec": {
      "name": "python3",
      "display_name": "Python 3"
    },
    "language_info": {
      "codemirror_mode": {
        "name": "ipython",
        "version": 3
      },
      "file_extension": ".py",
      "mimetype": "text/x-python",
      "name": "python",
      "nbconvert_exporter": "python",
      "pygments_lexer": "ipython3",
      "version": "3.7.3"
    },
    "colab": {
      "name": "Copy of kommersant.ipynb",
      "provenance": [],
      "collapsed_sections": [],
      "toc_visible": true
    },
    "accelerator": "TPU"
  },
  "cells": [
    {
      "cell_type": "markdown",
      "metadata": {
        "id": "Y9ddZBr2vxjW",
        "colab_type": "text"
      },
      "source": [
        "# Kommersant"
      ]
    },
    {
      "cell_type": "code",
      "metadata": {
        "id": "YiN8O2xYvxlV",
        "colab_type": "code",
        "outputId": "c18f1f57-8f7d-4c43-b609-1164c43db8b5",
        "colab": {
          "base_uri": "https://localhost:8080/",
          "height": 34
        }
      },
      "source": [
        "from google.colab import drive\n",
        "drive.mount('/content/gdrive')"
      ],
      "execution_count": 2,
      "outputs": [
        {
          "output_type": "stream",
          "text": [
            "Mounted at /content/gdrive\n"
          ],
          "name": "stdout"
        }
      ]
    },
    {
      "cell_type": "code",
      "metadata": {
        "id": "CYN55mRavxlX",
        "colab_type": "code",
        "colab": {}
      },
      "source": [
        ""
      ],
      "execution_count": 0,
      "outputs": []
    },
    {
      "cell_type": "markdown",
      "metadata": {
        "id": "Mt08CB9yKr9i",
        "colab_type": "text"
      },
      "source": [
        "# Анализ источников новостей"
      ]
    },
    {
      "cell_type": "markdown",
      "metadata": {
        "id": "00ypUcn9Kw7u",
        "colab_type": "text"
      },
      "source": [
        "Цель данного исследования: проанализировать источники новостных лент, сравнить рубрики, подумать над возможностью добавление\\удаление категорий для проекта \"Радар новостей рунета\""
      ]
    },
    {
      "cell_type": "code",
      "metadata": {
        "id": "WdkV25TrKnF2",
        "colab_type": "code",
        "colab": {}
      },
      "source": [
        "import numpy as np\n",
        "import pandas as pd\n",
        "import datetime as DT\n",
        "import matplotlib.pyplot as plt"
      ],
      "execution_count": 0,
      "outputs": []
    },
    {
      "cell_type": "code",
      "metadata": {
        "id": "4bhhjszyKnJW",
        "colab_type": "code",
        "colab": {}
      },
      "source": [
        "import itertools\n",
        "from collections import Counter\n",
        "from string import punctuation"
      ],
      "execution_count": 0,
      "outputs": []
    },
    {
      "cell_type": "code",
      "metadata": {
        "id": "tdsj2vJ2KnLs",
        "colab_type": "code",
        "outputId": "77b389f7-c01b-4f80-a452-566d81b95b2b",
        "colab": {
          "base_uri": "https://localhost:8080/",
          "height": 85
        }
      },
      "source": [
        "!pip install razdel"
      ],
      "execution_count": 4,
      "outputs": [
        {
          "output_type": "stream",
          "text": [
            "Collecting razdel\n",
            "  Downloading https://files.pythonhosted.org/packages/cf/f0/664eb27854d7de7c3605b5cd2a155cf069143fb00902ac479325bf1a98b7/razdel-0.4.0-py2.py3-none-any.whl\n",
            "Installing collected packages: razdel\n",
            "Successfully installed razdel-0.4.0\n"
          ],
          "name": "stdout"
        }
      ]
    },
    {
      "cell_type": "code",
      "metadata": {
        "id": "tIx4mcEXKnPP",
        "colab_type": "code",
        "colab": {}
      },
      "source": [
        "from razdel import tokenize"
      ],
      "execution_count": 0,
      "outputs": []
    },
    {
      "cell_type": "markdown",
      "metadata": {
        "id": "OI_4qqG7LMP3",
        "colab_type": "text"
      },
      "source": [
        "# Датасет kommersant. Предварительная обработка"
      ]
    },
    {
      "cell_type": "markdown",
      "metadata": {
        "id": "MirMIg6oLUQD",
        "colab_type": "text"
      },
      "source": [
        "Загрузим датасет kommersant. Одновременно сделаем преобразование даты из строки"
      ]
    },
    {
      "cell_type": "code",
      "metadata": {
        "id": "M85BFQfLKnZa",
        "colab_type": "code",
        "colab": {}
      },
      "source": [
        "dateparse = lambda x: pd.datetime.strptime(x, \"%Y-%m-%d %H:%M:%S\")"
      ],
      "execution_count": 0,
      "outputs": []
    },
    {
      "cell_type": "code",
      "metadata": {
        "id": "CkXAtYM7KndD",
        "colab_type": "code",
        "colab": {}
      },
      "source": [
        ""
      ],
      "execution_count": 0,
      "outputs": []
    },
    {
      "cell_type": "code",
      "metadata": {
        "id": "fnCxiRbuLhYH",
        "colab_type": "code",
        "outputId": "4b88ec4d-167c-47a2-9ad0-283427802439",
        "colab": {
          "base_uri": "https://localhost:8080/",
          "height": 34
        }
      },
      "source": [
        "from google.colab import drive\n",
        "drive.mount('/content/drive')"
      ],
      "execution_count": 6,
      "outputs": [
        {
          "output_type": "stream",
          "text": [
            "Mounted at /content/drive\n"
          ],
          "name": "stdout"
        }
      ]
    },
    {
      "cell_type": "code",
      "metadata": {
        "id": "xoLn5xHiKnh8",
        "colab_type": "code",
        "outputId": "f351a043-aacb-4b26-95cd-c7db74ebaf6b",
        "colab": {
          "base_uri": "https://localhost:8080/",
          "height": 105
        }
      },
      "source": [
        "data = pd.read_csv('/content/drive/My Drive/data/interim/kommersant/kommersant.csv',\n",
        "                      sep='|',\n",
        "                      index_col=False,\n",
        "                      escapechar='\\\\',\n",
        "                      parse_dates=['date'],\n",
        "                      date_parser=dateparse,\n",
        "                      quotechar='\\\"',\n",
        "                      error_bad_lines=False)"
      ],
      "execution_count": 7,
      "outputs": [
        {
          "output_type": "stream",
          "text": [
            "b'Skipping line 18175: expected 6 fields, saw 7\\nSkipping line 52548: expected 6 fields, saw 7\\nSkipping line 88040: expected 6 fields, saw 7\\nSkipping line 90060: expected 6 fields, saw 7\\nSkipping line 112815: expected 6 fields, saw 7\\nSkipping line 113987: expected 6 fields, saw 7\\n'\n",
            "b'Skipping line 182015: expected 6 fields, saw 7\\nSkipping line 183963: expected 6 fields, saw 7\\nSkipping line 188535: expected 6 fields, saw 7\\nSkipping line 190143: expected 6 fields, saw 7\\nSkipping line 192968: expected 6 fields, saw 7\\nSkipping line 196199: expected 6 fields, saw 7\\nSkipping line 202744: expected 6 fields, saw 7\\nSkipping line 211650: expected 6 fields, saw 7\\nSkipping line 214787: expected 6 fields, saw 7\\nSkipping line 216208: expected 6 fields, saw 7\\nSkipping line 219740: expected 6 fields, saw 7\\nSkipping line 222588: expected 6 fields, saw 7\\nSkipping line 227692: expected 6 fields, saw 7\\nSkipping line 230516: expected 6 fields, saw 7\\nSkipping line 230533: expected 6 fields, saw 7\\nSkipping line 231887: expected 6 fields, saw 7\\nSkipping line 232725: expected 6 fields, saw 7\\nSkipping line 232731: expected 6 fields, saw 7\\nSkipping line 237778: expected 6 fields, saw 7\\nSkipping line 243213: expected 6 fields, saw 7\\nSkipping line 249407: expected 6 fields, saw 7\\nSkipping line 249413: expected 6 fields, saw 7\\nSkipping line 255850: expected 6 fields, saw 7\\nSkipping line 257104: expected 6 fields, saw 7\\nSkipping line 257231: expected 6 fields, saw 7\\nSkipping line 257540: expected 6 fields, saw 7\\nSkipping line 257922: expected 6 fields, saw 7\\nSkipping line 258168: expected 6 fields, saw 7\\nSkipping line 259213: expected 6 fields, saw 7\\nSkipping line 259697: expected 6 fields, saw 7\\nSkipping line 260143: expected 6 fields, saw 7\\nSkipping line 260220: expected 6 fields, saw 7\\nSkipping line 260528: expected 6 fields, saw 7\\nSkipping line 261805: expected 6 fields, saw 7\\n'\n",
            "b'Skipping line 262567: expected 6 fields, saw 7\\nSkipping line 263029: expected 6 fields, saw 7\\nSkipping line 268051: expected 6 fields, saw 7\\nSkipping line 269266: expected 6 fields, saw 7\\nSkipping line 279998: expected 6 fields, saw 7\\nSkipping line 284681: expected 6 fields, saw 7\\nSkipping line 296463: expected 6 fields, saw 7\\nSkipping line 297914: expected 6 fields, saw 7\\nSkipping line 352439: expected 6 fields, saw 7\\n'\n",
            "b'Skipping line 529623: expected 6 fields, saw 7\\n'\n"
          ],
          "name": "stderr"
        }
      ]
    },
    {
      "cell_type": "code",
      "metadata": {
        "id": "HvvfN0YbKnkx",
        "colab_type": "code",
        "outputId": "c4d2a28b-9e34-48a9-956f-4ae3a4a19195",
        "colab": {
          "base_uri": "https://localhost:8080/",
          "height": 136
        }
      },
      "source": [
        "# Проверим преобразование\n",
        "data.dtypes"
      ],
      "execution_count": 8,
      "outputs": [
        {
          "output_type": "execute_result",
          "data": {
            "text/plain": [
              "date     datetime64[ns]\n",
              "url              object\n",
              "-                object\n",
              "topic            object\n",
              "title            object\n",
              "text             object\n",
              "dtype: object"
            ]
          },
          "metadata": {
            "tags": []
          },
          "execution_count": 8
        }
      ]
    },
    {
      "cell_type": "code",
      "metadata": {
        "id": "gsW4sHA5Knn-",
        "colab_type": "code",
        "outputId": "bf018160-0d18-4a91-ead1-30376be0921b",
        "colab": {
          "base_uri": "https://localhost:8080/",
          "height": 34
        }
      },
      "source": [
        "data.shape"
      ],
      "execution_count": 9,
      "outputs": [
        {
          "output_type": "execute_result",
          "data": {
            "text/plain": [
              "(606175, 6)"
            ]
          },
          "metadata": {
            "tags": []
          },
          "execution_count": 9
        }
      ]
    },
    {
      "cell_type": "code",
      "metadata": {
        "id": "6QEYykiIKngC",
        "colab_type": "code",
        "outputId": "e96300a7-32c5-4eb9-f3a0-ae6741a6e983",
        "colab": {
          "base_uri": "https://localhost:8080/",
          "height": 204
        }
      },
      "source": [
        "# Так выглядет датасет kommersant\n",
        "data.head()"
      ],
      "execution_count": 10,
      "outputs": [
        {
          "output_type": "execute_result",
          "data": {
            "text/html": [
              "<div>\n",
              "<style scoped>\n",
              "    .dataframe tbody tr th:only-of-type {\n",
              "        vertical-align: middle;\n",
              "    }\n",
              "\n",
              "    .dataframe tbody tr th {\n",
              "        vertical-align: top;\n",
              "    }\n",
              "\n",
              "    .dataframe thead th {\n",
              "        text-align: right;\n",
              "    }\n",
              "</style>\n",
              "<table border=\"1\" class=\"dataframe\">\n",
              "  <thead>\n",
              "    <tr style=\"text-align: right;\">\n",
              "      <th></th>\n",
              "      <th>date</th>\n",
              "      <th>url</th>\n",
              "      <th>-</th>\n",
              "      <th>topic</th>\n",
              "      <th>title</th>\n",
              "      <th>text</th>\n",
              "    </tr>\n",
              "  </thead>\n",
              "  <tbody>\n",
              "    <tr>\n",
              "      <th>0</th>\n",
              "      <td>2000-05-09 00:00:00</td>\n",
              "      <td>https://www.kommersant.ru/doc/16881</td>\n",
              "      <td>-</td>\n",
              "      <td>Потребительский рынок</td>\n",
              "      <td>Microsoft: писать раздельно</td>\n",
              "      <td>Каждый день, когда миллионы людей во всем мире...</td>\n",
              "    </tr>\n",
              "    <tr>\n",
              "      <th>1</th>\n",
              "      <td>2000-10-31 00:00:00</td>\n",
              "      <td>https://www.kommersant.ru/doc/17910</td>\n",
              "      <td>-</td>\n",
              "      <td>Финансы. Рынок</td>\n",
              "      <td>ЦБ удержит курс доллара?</td>\n",
              "      <td>1. Что будет с долларом?nВ предыдущем прогнозе...</td>\n",
              "    </tr>\n",
              "    <tr>\n",
              "      <th>2</th>\n",
              "      <td>2001-01-30 00:00:00</td>\n",
              "      <td>https://www.kommersant.ru/doc/136058</td>\n",
              "      <td>-</td>\n",
              "      <td>Потребительский рынок</td>\n",
              "      <td>Чтобы получить ВАЗ, Fiat раскрыл нам военные с...</td>\n",
              "      <td>NaN</td>\n",
              "    </tr>\n",
              "    <tr>\n",
              "      <th>3</th>\n",
              "      <td>2001-04-03 00:00:00</td>\n",
              "      <td>https://www.kommersant.ru/doc/253496</td>\n",
              "      <td>-</td>\n",
              "      <td>За границей</td>\n",
              "      <td>Россия в цифрах</td>\n",
              "      <td>23 человекаnпогибли иn142nпострадали в результ...</td>\n",
              "    </tr>\n",
              "    <tr>\n",
              "      <th>4</th>\n",
              "      <td>2001-04-10 17:13:00</td>\n",
              "      <td>https://www.kommersant.ru/doc/918337</td>\n",
              "      <td>-</td>\n",
              "      <td>Политика</td>\n",
              "      <td>Селезнев: России нужно думать о создании новой...</td>\n",
              "      <td>10 апреля спикер Государственной Думы РФ Генна...</td>\n",
              "    </tr>\n",
              "  </tbody>\n",
              "</table>\n",
              "</div>"
            ],
            "text/plain": [
              "                 date  ...                                               text\n",
              "0 2000-05-09 00:00:00  ...  Каждый день, когда миллионы людей во всем мире...\n",
              "1 2000-10-31 00:00:00  ...  1. Что будет с долларом?nВ предыдущем прогнозе...\n",
              "2 2001-01-30 00:00:00  ...                                                NaN\n",
              "3 2001-04-03 00:00:00  ...  23 человекаnпогибли иn142nпострадали в результ...\n",
              "4 2001-04-10 17:13:00  ...  10 апреля спикер Государственной Думы РФ Генна...\n",
              "\n",
              "[5 rows x 6 columns]"
            ]
          },
          "metadata": {
            "tags": []
          },
          "execution_count": 10
        }
      ]
    },
    {
      "cell_type": "code",
      "metadata": {
        "id": "N915-CPOKnX-",
        "colab_type": "code",
        "colab": {}
      },
      "source": [
        ""
      ],
      "execution_count": 0,
      "outputs": []
    },
    {
      "cell_type": "code",
      "metadata": {
        "id": "G6Wt2YAxKnUf",
        "colab_type": "code",
        "outputId": "b01dfb11-822e-4ebb-c17a-1dd7f0526607",
        "colab": {
          "base_uri": "https://localhost:8080/",
          "height": 136
        }
      },
      "source": [
        "# Выясним в каким столбцах есть пустые данные\n",
        "data.isnull().any()"
      ],
      "execution_count": 11,
      "outputs": [
        {
          "output_type": "execute_result",
          "data": {
            "text/plain": [
              "date     False\n",
              "url      False\n",
              "-        False\n",
              "topic    False\n",
              "title     True\n",
              "text      True\n",
              "dtype: bool"
            ]
          },
          "metadata": {
            "tags": []
          },
          "execution_count": 11
        }
      ]
    },
    {
      "cell_type": "code",
      "metadata": {
        "id": "gxPjFc-OKnR-",
        "colab_type": "code",
        "outputId": "06b0035b-a056-48ce-92e6-83bfce2829cc",
        "colab": {
          "base_uri": "https://localhost:8080/",
          "height": 221
        }
      },
      "source": [
        "print('Кол-во строк с значением NaN в столбце \"Text\" = ', data['text'].isnull().sum())\n",
        "data[data['text'].isnull()].head()"
      ],
      "execution_count": 12,
      "outputs": [
        {
          "output_type": "stream",
          "text": [
            "Кол-во строк с значением NaN в столбце \"Text\" =  39320\n"
          ],
          "name": "stdout"
        },
        {
          "output_type": "execute_result",
          "data": {
            "text/html": [
              "<div>\n",
              "<style scoped>\n",
              "    .dataframe tbody tr th:only-of-type {\n",
              "        vertical-align: middle;\n",
              "    }\n",
              "\n",
              "    .dataframe tbody tr th {\n",
              "        vertical-align: top;\n",
              "    }\n",
              "\n",
              "    .dataframe thead th {\n",
              "        text-align: right;\n",
              "    }\n",
              "</style>\n",
              "<table border=\"1\" class=\"dataframe\">\n",
              "  <thead>\n",
              "    <tr style=\"text-align: right;\">\n",
              "      <th></th>\n",
              "      <th>date</th>\n",
              "      <th>url</th>\n",
              "      <th>-</th>\n",
              "      <th>topic</th>\n",
              "      <th>title</th>\n",
              "      <th>text</th>\n",
              "    </tr>\n",
              "  </thead>\n",
              "  <tbody>\n",
              "    <tr>\n",
              "      <th>2</th>\n",
              "      <td>2001-01-30 00:00:00</td>\n",
              "      <td>https://www.kommersant.ru/doc/136058</td>\n",
              "      <td>-</td>\n",
              "      <td>Потребительский рынок</td>\n",
              "      <td>Чтобы получить ВАЗ, Fiat раскрыл нам военные с...</td>\n",
              "      <td>NaN</td>\n",
              "    </tr>\n",
              "    <tr>\n",
              "      <th>7</th>\n",
              "      <td>2001-04-10 14:05:00</td>\n",
              "      <td>https://www.kommersant.ru/doc/918329</td>\n",
              "      <td>-</td>\n",
              "      <td>Культура</td>\n",
              "      <td>В Москве открылась выставка Праздник хлеба\"\"\"|...</td>\n",
              "      <td>NaN</td>\n",
              "    </tr>\n",
              "    <tr>\n",
              "      <th>16</th>\n",
              "      <td>2001-04-10 18:54:00</td>\n",
              "      <td>https://www.kommersant.ru/doc/918339</td>\n",
              "      <td>-</td>\n",
              "      <td>Политика</td>\n",
              "      <td>Путин и Шредер посетили музей-заповедник Царск...</td>\n",
              "      <td>NaN</td>\n",
              "    </tr>\n",
              "    <tr>\n",
              "      <th>26</th>\n",
              "      <td>2001-04-11 16:12:00</td>\n",
              "      <td>https://www.kommersant.ru/doc/918367</td>\n",
              "      <td>-</td>\n",
              "      <td>Культура</td>\n",
              "      <td>Ко Дню космонавтики будет отремонтирована плат...</td>\n",
              "      <td>NaN</td>\n",
              "    </tr>\n",
              "    <tr>\n",
              "      <th>49</th>\n",
              "      <td>2001-04-11 12:53:00</td>\n",
              "      <td>https://www.kommersant.ru/doc/918365</td>\n",
              "      <td>-</td>\n",
              "      <td>Политика</td>\n",
              "      <td>В Москве начинается  месячник Чистый автомобил...</td>\n",
              "      <td>NaN</td>\n",
              "    </tr>\n",
              "  </tbody>\n",
              "</table>\n",
              "</div>"
            ],
            "text/plain": [
              "                  date  ... text\n",
              "2  2001-01-30 00:00:00  ...  NaN\n",
              "7  2001-04-10 14:05:00  ...  NaN\n",
              "16 2001-04-10 18:54:00  ...  NaN\n",
              "26 2001-04-11 16:12:00  ...  NaN\n",
              "49 2001-04-11 12:53:00  ...  NaN\n",
              "\n",
              "[5 rows x 6 columns]"
            ]
          },
          "metadata": {
            "tags": []
          },
          "execution_count": 12
        }
      ]
    },
    {
      "cell_type": "code",
      "metadata": {
        "id": "4rpl8Vm5KnDW",
        "colab_type": "code",
        "colab": {}
      },
      "source": [
        "#Удалим эти строки\n",
        "data.drop(data[data.text.isnull()].index, inplace=True)"
      ],
      "execution_count": 0,
      "outputs": []
    },
    {
      "cell_type": "code",
      "metadata": {
        "id": "ey5_VvaXP795",
        "colab_type": "code",
        "outputId": "8fd9f8fb-73d1-4412-b5d3-251559ec7f8c",
        "colab": {
          "base_uri": "https://localhost:8080/",
          "height": 34
        }
      },
      "source": [
        "print('Кол-во строк с значением NaN в столбце \"Text\" = ', data['text'].isnull().sum())"
      ],
      "execution_count": 14,
      "outputs": [
        {
          "output_type": "stream",
          "text": [
            "Кол-во строк с значением NaN в столбце \"Text\" =  0\n"
          ],
          "name": "stdout"
        }
      ]
    },
    {
      "cell_type": "code",
      "metadata": {
        "id": "oPnHckjNP8BB",
        "colab_type": "code",
        "outputId": "312cfad7-3f9d-4cff-8f5c-5edd4cd5ec98",
        "colab": {
          "base_uri": "https://localhost:8080/",
          "height": 34
        }
      },
      "source": [
        "#  Проверим повторяющиеся тексты\n",
        "print('Кол-во одинаковых текстов:',data.text.duplicated().sum())"
      ],
      "execution_count": 15,
      "outputs": [
        {
          "output_type": "stream",
          "text": [
            "Кол-во одинаковых текстов: 420\n"
          ],
          "name": "stdout"
        }
      ]
    },
    {
      "cell_type": "code",
      "metadata": {
        "id": "tse_-ME7P8GM",
        "colab_type": "code",
        "colab": {}
      },
      "source": [
        "data = data.drop_duplicates(subset='text')"
      ],
      "execution_count": 0,
      "outputs": []
    },
    {
      "cell_type": "code",
      "metadata": {
        "id": "j7uaRCMhP8J5",
        "colab_type": "code",
        "outputId": "93f5ffbd-00f2-4563-a815-f8a0c56bc591",
        "colab": {
          "base_uri": "https://localhost:8080/",
          "height": 34
        }
      },
      "source": [
        "data.shape"
      ],
      "execution_count": 17,
      "outputs": [
        {
          "output_type": "execute_result",
          "data": {
            "text/plain": [
              "(566435, 6)"
            ]
          },
          "metadata": {
            "tags": []
          },
          "execution_count": 17
        }
      ]
    },
    {
      "cell_type": "code",
      "metadata": {
        "id": "CA1cGFhmP8M2",
        "colab_type": "code",
        "colab": {}
      },
      "source": [
        ""
      ],
      "execution_count": 0,
      "outputs": []
    },
    {
      "cell_type": "markdown",
      "metadata": {
        "id": "f4zx09fYQorW",
        "colab_type": "text"
      },
      "source": [
        "# EDA"
      ]
    },
    {
      "cell_type": "markdown",
      "metadata": {
        "id": "DW7MSsv_QupC",
        "colab_type": "text"
      },
      "source": [
        "## Анализ дат"
      ]
    },
    {
      "cell_type": "code",
      "metadata": {
        "id": "cr3Zu7AXP8YU",
        "colab_type": "code",
        "outputId": "1d6ac95d-6ee5-4def-cf25-ac948d0684f0",
        "colab": {
          "base_uri": "https://localhost:8080/",
          "height": 51
        }
      },
      "source": [
        "print('Минимальная дата в датасете:', data.date.min())\n",
        "print('Максимальная дата в датасете:', data.date.max())"
      ],
      "execution_count": 18,
      "outputs": [
        {
          "output_type": "stream",
          "text": [
            "Минимальная дата в датасете: 2000-05-09 00:00:00\n",
            "Максимальная дата в датасете: 2019-04-10 13:00:18\n"
          ],
          "name": "stdout"
        }
      ]
    },
    {
      "cell_type": "code",
      "metadata": {
        "id": "SO134FRrP8cx",
        "colab_type": "code",
        "colab": {}
      },
      "source": [
        ""
      ],
      "execution_count": 0,
      "outputs": []
    },
    {
      "cell_type": "markdown",
      "metadata": {
        "id": "79eCXlbxQ4LJ",
        "colab_type": "text"
      },
      "source": [
        "### Распределение количества новостей по месяцам"
      ]
    },
    {
      "cell_type": "code",
      "metadata": {
        "id": "BNwQsn6WP8gS",
        "colab_type": "code",
        "colab": {}
      },
      "source": [
        "# Вынесем месяц и год новости в отдельные столбцы\n",
        "data['month'] = data.date.apply(lambda x: x.month)\n",
        "data['year'] = data.date.apply(lambda x: x.year)\n",
        "\n",
        "# Создадим отдельный датасет посчитаем количество новостей в разрезе месяца и года\n",
        "df = data.groupby(['year', 'month']).text.nunique().reset_index()"
      ],
      "execution_count": 0,
      "outputs": []
    },
    {
      "cell_type": "code",
      "metadata": {
        "id": "3OYv21h3P8jQ",
        "colab_type": "code",
        "outputId": "5b237e5a-f53a-4aa6-c338-25438687b251",
        "colab": {
          "base_uri": "https://localhost:8080/",
          "height": 204
        }
      },
      "source": [
        "df.head()"
      ],
      "execution_count": 20,
      "outputs": [
        {
          "output_type": "execute_result",
          "data": {
            "text/html": [
              "<div>\n",
              "<style scoped>\n",
              "    .dataframe tbody tr th:only-of-type {\n",
              "        vertical-align: middle;\n",
              "    }\n",
              "\n",
              "    .dataframe tbody tr th {\n",
              "        vertical-align: top;\n",
              "    }\n",
              "\n",
              "    .dataframe thead th {\n",
              "        text-align: right;\n",
              "    }\n",
              "</style>\n",
              "<table border=\"1\" class=\"dataframe\">\n",
              "  <thead>\n",
              "    <tr style=\"text-align: right;\">\n",
              "      <th></th>\n",
              "      <th>year</th>\n",
              "      <th>month</th>\n",
              "      <th>text</th>\n",
              "    </tr>\n",
              "  </thead>\n",
              "  <tbody>\n",
              "    <tr>\n",
              "      <th>0</th>\n",
              "      <td>2000</td>\n",
              "      <td>5</td>\n",
              "      <td>1</td>\n",
              "    </tr>\n",
              "    <tr>\n",
              "      <th>1</th>\n",
              "      <td>2000</td>\n",
              "      <td>10</td>\n",
              "      <td>1</td>\n",
              "    </tr>\n",
              "    <tr>\n",
              "      <th>2</th>\n",
              "      <td>2001</td>\n",
              "      <td>4</td>\n",
              "      <td>635</td>\n",
              "    </tr>\n",
              "    <tr>\n",
              "      <th>3</th>\n",
              "      <td>2001</td>\n",
              "      <td>5</td>\n",
              "      <td>875</td>\n",
              "    </tr>\n",
              "    <tr>\n",
              "      <th>4</th>\n",
              "      <td>2001</td>\n",
              "      <td>6</td>\n",
              "      <td>806</td>\n",
              "    </tr>\n",
              "  </tbody>\n",
              "</table>\n",
              "</div>"
            ],
            "text/plain": [
              "   year  month  text\n",
              "0  2000      5     1\n",
              "1  2000     10     1\n",
              "2  2001      4   635\n",
              "3  2001      5   875\n",
              "4  2001      6   806"
            ]
          },
          "metadata": {
            "tags": []
          },
          "execution_count": 20
        }
      ]
    },
    {
      "cell_type": "code",
      "metadata": {
        "id": "_FXIkNy3P8mQ",
        "colab_type": "code",
        "colab": {}
      },
      "source": [
        "df['month_year'] = df[['month', 'year']].apply(lambda x: '-'.join(['0'+str(x.month) if x.month<10 else str(x.month),\n",
        "                                                                  str(x.year)]),\n",
        "                                               axis =1)"
      ],
      "execution_count": 0,
      "outputs": []
    },
    {
      "cell_type": "code",
      "metadata": {
        "id": "9oAOkm0SP8q6",
        "colab_type": "code",
        "colab": {}
      },
      "source": [
        "df.columns = ['year', 'month', 'nunique_text', 'month_year']"
      ],
      "execution_count": 0,
      "outputs": []
    },
    {
      "cell_type": "code",
      "metadata": {
        "id": "AGekCLhKP8uq",
        "colab_type": "code",
        "colab": {}
      },
      "source": [
        "# выберем только те месяцы, в которых количество новостей больше 10\n",
        "df = df[df.nunique_text>10]"
      ],
      "execution_count": 0,
      "outputs": []
    },
    {
      "cell_type": "code",
      "metadata": {
        "id": "bu5tZNVhP8pe",
        "colab_type": "code",
        "outputId": "816ac372-261f-4af4-8268-a7cac853aab5",
        "colab": {
          "base_uri": "https://localhost:8080/",
          "height": 204
        }
      },
      "source": [
        "df[['month_year', 'nunique_text']].sort_values('nunique_text', ascending = False).head()"
      ],
      "execution_count": 24,
      "outputs": [
        {
          "output_type": "execute_result",
          "data": {
            "text/html": [
              "<div>\n",
              "<style scoped>\n",
              "    .dataframe tbody tr th:only-of-type {\n",
              "        vertical-align: middle;\n",
              "    }\n",
              "\n",
              "    .dataframe tbody tr th {\n",
              "        vertical-align: top;\n",
              "    }\n",
              "\n",
              "    .dataframe thead th {\n",
              "        text-align: right;\n",
              "    }\n",
              "</style>\n",
              "<table border=\"1\" class=\"dataframe\">\n",
              "  <thead>\n",
              "    <tr style=\"text-align: right;\">\n",
              "      <th></th>\n",
              "      <th>month_year</th>\n",
              "      <th>nunique_text</th>\n",
              "    </tr>\n",
              "  </thead>\n",
              "  <tbody>\n",
              "    <tr>\n",
              "      <th>181</th>\n",
              "      <td>03-2016</td>\n",
              "      <td>5666</td>\n",
              "    </tr>\n",
              "    <tr>\n",
              "      <th>182</th>\n",
              "      <td>04-2016</td>\n",
              "      <td>5654</td>\n",
              "    </tr>\n",
              "    <tr>\n",
              "      <th>174</th>\n",
              "      <td>08-2015</td>\n",
              "      <td>5567</td>\n",
              "    </tr>\n",
              "    <tr>\n",
              "      <th>176</th>\n",
              "      <td>10-2015</td>\n",
              "      <td>5537</td>\n",
              "    </tr>\n",
              "    <tr>\n",
              "      <th>186</th>\n",
              "      <td>08-2016</td>\n",
              "      <td>5486</td>\n",
              "    </tr>\n",
              "  </tbody>\n",
              "</table>\n",
              "</div>"
            ],
            "text/plain": [
              "    month_year  nunique_text\n",
              "181    03-2016          5666\n",
              "182    04-2016          5654\n",
              "174    08-2015          5567\n",
              "176    10-2015          5537\n",
              "186    08-2016          5486"
            ]
          },
          "metadata": {
            "tags": []
          },
          "execution_count": 24
        }
      ]
    },
    {
      "cell_type": "code",
      "metadata": {
        "id": "27rwiISrP8a7",
        "colab_type": "code",
        "outputId": "6f702c93-9c70-4ca9-ac7f-ea5028c73cf3",
        "colab": {
          "base_uri": "https://localhost:8080/",
          "height": 653
        }
      },
      "source": [
        "fig, ax = plt.subplots(figsize=(20, 10))\n",
        "plt.bar(x = df.month_year,\n",
        "        height = df.nunique_text.values)\n",
        "plt.xticks(rotation='vertical')\n",
        "\n",
        "ax.set_title('Количество новостей по месяцам')\n",
        "ax.set_ylabel('Количество')\n",
        "ax.set_xlabel('Дата')\n",
        "plt.show()"
      ],
      "execution_count": 25,
      "outputs": [
        {
          "output_type": "display_data",
          "data": {
            "image/png": "[encoded data removed]",
            "text/plain": [
              "<Figure size 1440x720 with 1 Axes>"
            ]
          },
          "metadata": {
            "tags": []
          }
        }
      ]
    },
    {
      "cell_type": "code",
      "metadata": {
        "id": "Q_DdjvYlP8WR",
        "colab_type": "code",
        "colab": {}
      },
      "source": [
        ""
      ],
      "execution_count": 0,
      "outputs": []
    },
    {
      "cell_type": "code",
      "metadata": {
        "id": "bmz2952VSEV6",
        "colab_type": "code",
        "colab": {}
      },
      "source": [
        ""
      ],
      "execution_count": 0,
      "outputs": []
    },
    {
      "cell_type": "markdown",
      "metadata": {
        "id": "rXsgWaJdboq3",
        "colab_type": "text"
      },
      "source": [
        "## Рубрики Kommersant"
      ]
    },
    {
      "cell_type": "code",
      "metadata": {
        "id": "3FLwSOxWSEbX",
        "colab_type": "code",
        "colab": {
          "base_uri": "https://localhost:8080/",
          "height": 306
        },
        "outputId": "5336d13e-2d5d-4a03-efc8-9b552f6feaff"
      },
      "source": [
        "# Считаем количество рубрик в данном датасете, а также выведем значения\n",
        "print('Количество рубрик = ', data.topic.unique().shape)\n",
        "data['topic'].unique()"
      ],
      "execution_count": 26,
      "outputs": [
        {
          "output_type": "stream",
          "text": [
            "Количество рубрик =  (59,)\n"
          ],
          "name": "stdout"
        },
        {
          "output_type": "execute_result",
          "data": {
            "text/plain": [
              "array(['Потребительский рынок', 'Финансы. Рынок', 'За границей',\n",
              "       'Политика', 'Общество', 'Спорт', 'Культура', 'Происшествия', 'Мир',\n",
              "       'Бизнес', 'Дороги и ДТП', 'Промышленность', 'Технологии',\n",
              "       'Экономика', 'Автосалон', 'Реклама', 'Ъ-FM/Темы дня',\n",
              "       'Ъ-FM/Программы', 'Ъ-FM/Спецпроекты', 'Ъ-FM/Интервью',\n",
              "       'Ъ-FM/В эфире', 'Финансы', 'Страна', 'Бизнес|Культура',\n",
              "       'ПДД и законы', 'ЦМТ/Новости', 'ЦМТ/Интервью', 'ЦМТ/Аналитика',\n",
              "       'WTC/Analytics', 'WTC/Interviews', 'Автошколы', 'За городом',\n",
              "       'Идеи и важные вещи', 'События', 'Гаджеты', 'Авто', 'Накопить',\n",
              "       'Сэкономить', 'Занять', 'Инвестировать', 'Наука', 'В городе',\n",
              "       'Недвижимость. Рынок', 'Недвижимость', 'Hi-Tech', 'Стартапы',\n",
              "       'Hi-Tech. Рынок', 'Стиль', 'Идеи', 'Важные вещи',\n",
              "       'Ъ-FM-НН/Программы', 'Политика|Общество', 'Инициативы',\n",
              "       'Путешествия', 'Конференции/Трансляции', 'Конференции/Эксклюзив',\n",
              "       'Конференции/Отчеты', 'Конференции/Интервью',\n",
              "       'Потребительский рынок|Hi-Tech. Рынок'], dtype=object)"
            ]
          },
          "metadata": {
            "tags": []
          },
          "execution_count": 26
        }
      ]
    },
    {
      "cell_type": "markdown",
      "metadata": {
        "id": "_ijxQVr3b5RP",
        "colab_type": "text"
      },
      "source": [
        "### Все рубрики, с количеством новостей в каждой группе"
      ]
    },
    {
      "cell_type": "code",
      "metadata": {
        "id": "82wXMbToSEl4",
        "colab_type": "code",
        "colab": {
          "base_uri": "https://localhost:8080/",
          "height": 1000
        },
        "outputId": "2be219ce-f2ed-41e3-fcd2-5d64f4ee8659"
      },
      "source": [
        "data.groupby('topic')['topic'].count().sort_values(ascending=False)"
      ],
      "execution_count": 27,
      "outputs": [
        {
          "output_type": "execute_result",
          "data": {
            "text/plain": [
              "topic\n",
              "Мир                                     140068\n",
              "Происшествия                             83772\n",
              "Общество                                 55918\n",
              "Политика                                 55519\n",
              "Бизнес                                   54698\n",
              "Спорт                                    35704\n",
              "Ъ-FM/Темы дня                            27988\n",
              "Культура                                 23456\n",
              "Потребительский рынок                    18600\n",
              "Экономика                                17369\n",
              "Промышленность                           15622\n",
              "Финансы. Рынок                            9492\n",
              "Ъ-FM/Программы                            8018\n",
              "Финансы                                   7042\n",
              "Реклама                                   2211\n",
              "Страна                                    1978\n",
              "Стиль                                     1599\n",
              "Hi-Tech                                   1436\n",
              "Идеи и важные вещи                        1195\n",
              "Автосалон                                  621\n",
              "Hi-Tech. Рынок                             526\n",
              "Инвестировать                              403\n",
              "События                                    397\n",
              "Ъ-FM/Спецпроекты                           319\n",
              "Недвижимость                               290\n",
              "Недвижимость. Рынок                        268\n",
              "В городе                                   249\n",
              "Занять                                     220\n",
              "Наука                                      200\n",
              "За границей                                185\n",
              "Ъ-FM/Интервью                              177\n",
              "ПДД и законы                               135\n",
              "Авто                                       122\n",
              "Гаджеты                                    117\n",
              "Накопить                                   107\n",
              "Дороги и ДТП                                93\n",
              "Технологии                                  70\n",
              "Стартапы                                    62\n",
              "За городом                                  40\n",
              "Инициативы                                  36\n",
              "Сэкономить                                  21\n",
              "Конференции/Отчеты                          14\n",
              "Автошколы                                   13\n",
              "ЦМТ/Аналитика                               11\n",
              "Ъ-FM/В эфире                                 9\n",
              "WTC/Analytics                                9\n",
              "Путешествия                                  7\n",
              "Конференции/Интервью                         7\n",
              "ЦМТ/Интервью                                 5\n",
              "Идеи                                         5\n",
              "Важные вещи                                  2\n",
              "WTC/Interviews                               2\n",
              "ЦМТ/Новости                                  2\n",
              "Бизнес|Культура                              1\n",
              "Потребительский рынок|Hi-Tech. Рынок         1\n",
              "Конференции/Трансляции                       1\n",
              "Конференции/Эксклюзив                        1\n",
              "Политика|Общество                            1\n",
              "Ъ-FM-НН/Программы                            1\n",
              "Name: topic, dtype: int64"
            ]
          },
          "metadata": {
            "tags": []
          },
          "execution_count": 27
        }
      ]
    },
    {
      "cell_type": "code",
      "metadata": {
        "id": "FiQzgrGbSE0v",
        "colab_type": "code",
        "colab": {}
      },
      "source": [
        ""
      ],
      "execution_count": 0,
      "outputs": []
    },
    {
      "cell_type": "code",
      "metadata": {
        "id": "rjeBl5PxSEx0",
        "colab_type": "code",
        "colab": {}
      },
      "source": [
        ""
      ],
      "execution_count": 0,
      "outputs": []
    },
    {
      "cell_type": "code",
      "metadata": {
        "id": "J-pYAyrLSEwP",
        "colab_type": "code",
        "colab": {}
      },
      "source": [
        ""
      ],
      "execution_count": 0,
      "outputs": []
    },
    {
      "cell_type": "code",
      "metadata": {
        "id": "pPH0aAIKSEuS",
        "colab_type": "code",
        "colab": {}
      },
      "source": [
        ""
      ],
      "execution_count": 0,
      "outputs": []
    },
    {
      "cell_type": "code",
      "metadata": {
        "id": "ESg5NszpSEqt",
        "colab_type": "code",
        "colab": {}
      },
      "source": [
        ""
      ],
      "execution_count": 0,
      "outputs": []
    },
    {
      "cell_type": "code",
      "metadata": {
        "id": "kWae0v8OSEjt",
        "colab_type": "code",
        "colab": {}
      },
      "source": [
        ""
      ],
      "execution_count": 0,
      "outputs": []
    },
    {
      "cell_type": "code",
      "metadata": {
        "id": "SPIWdOBMSEhP",
        "colab_type": "code",
        "colab": {}
      },
      "source": [
        ""
      ],
      "execution_count": 0,
      "outputs": []
    },
    {
      "cell_type": "code",
      "metadata": {
        "id": "yftympXdSEfa",
        "colab_type": "code",
        "colab": {}
      },
      "source": [
        ""
      ],
      "execution_count": 0,
      "outputs": []
    },
    {
      "cell_type": "code",
      "metadata": {
        "id": "LtOyeFqDSEZX",
        "colab_type": "code",
        "colab": {}
      },
      "source": [
        ""
      ],
      "execution_count": 0,
      "outputs": []
    },
    {
      "cell_type": "code",
      "metadata": {
        "id": "lzhnS0tDSET1",
        "colab_type": "code",
        "colab": {}
      },
      "source": [
        ""
      ],
      "execution_count": 0,
      "outputs": []
    }
  ]
}