{
 "cells": [
  {
   "cell_type": "code",
   "execution_count": 1,
   "metadata": {},
   "outputs": [
    {
     "name": "stdout",
     "output_type": "stream",
     "text": [
      "/home/vtrokhymenko/proj_news_radar/env4news/bin/python\n",
      "Python 3.7.3\n",
      "/home/vtrokhymenko/proj_news_radar/proj_news_viz/nlp/structure/references\n"
     ]
    }
   ],
   "source": [
    "!which python\n",
    "!python -V\n",
    "!pwd"
   ]
  },
  {
   "cell_type": "code",
   "execution_count": 2,
   "metadata": {},
   "outputs": [],
   "source": [
    "import os\n",
    "import sys\n",
    "\n",
    "%load_ext autoreload\n",
    "%autoreload 2"
   ]
  },
  {
   "cell_type": "code",
   "execution_count": 4,
   "metadata": {},
   "outputs": [],
   "source": [
    "# set path \n",
    "home_path = os.getenv('HOME') # create home directory\n",
    "dir_project = 'proj_news_radar/proj_news_viz/nlp' # write your main proj directory \n",
    "\n",
    "PATH = os.path.join(home_path, dir_project)\n",
    "sys.path.append(PATH)"
   ]
  },
  {
   "cell_type": "markdown",
   "metadata": {},
   "source": [
    "---"
   ]
  },
  {
   "cell_type": "code",
   "execution_count": 6,
   "metadata": {},
   "outputs": [],
   "source": [
    "from news_viz.ner.cleanedNames import KeyProc"
   ]
  },
  {
   "cell_type": "code",
   "execution_count": 7,
   "metadata": {},
   "outputs": [],
   "source": [
    "cn = KeyProc(main_path=PATH) # add path to run full script from jupyter"
   ]
  },
  {
   "cell_type": "code",
   "execution_count": 9,
   "metadata": {},
   "outputs": [],
   "source": [
    "text = '''когда дмитрий песков увидел владимира путина и авраама линкольна то подумал о иосифе сталине'''"
   ]
  },
  {
   "cell_type": "code",
   "execution_count": 10,
   "metadata": {},
   "outputs": [
    {
     "name": "stdout",
     "output_type": "stream",
     "text": [
      "['дмитрий_песков', 'владимир_путин', 'авраам_линкольн', 'иосиф_сталин']\n"
     ]
    }
   ],
   "source": [
    "print(cn.extractKeywords(text))"
   ]
  },
  {
   "cell_type": "code",
   "execution_count": 11,
   "metadata": {},
   "outputs": [
    {
     "name": "stdout",
     "output_type": "stream",
     "text": [
      "когда дмитрий_песков увидел владимир_путин и авраам_линкольн то подумал о иосиф_сталин\n"
     ]
    }
   ],
   "source": [
    "print(cn.replaceKeywords(text))"
   ]
  }
 ],
 "metadata": {
  "kernelspec": {
   "display_name": "Python 3",
   "language": "python",
   "name": "python3"
  },
  "language_info": {
   "codemirror_mode": {
    "name": "ipython",
    "version": 3
   },
   "file_extension": ".py",
   "mimetype": "text/x-python",
   "name": "python",
   "nbconvert_exporter": "python",
   "pygments_lexer": "ipython3",
   "version": "3.7.3"
  }
 },
 "nbformat": 4,
 "nbformat_minor": 4
}
