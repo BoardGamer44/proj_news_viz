{
 "cells": [
  {
   "cell_type": "code",
   "execution_count": 1,
   "metadata": {},
   "outputs": [],
   "source": [
    "# import os\n",
    "import sys\n",
    "import gc\n",
    "\n",
    "# прописываем нужный нам путь к проекту\n",
    "from pathlib import Path\n",
    "PATH = Path('../..') # proj_news_viz/nlp\n",
    "sys.path.append(str(PATH))\n",
    "\n",
    "import pandas as pd\n",
    "import numpy as np"
   ]
  },
  {
   "cell_type": "code",
   "execution_count": 2,
   "metadata": {},
   "outputs": [],
   "source": [
    "import warnings\n",
    "warnings.filterwarnings('ignore')\n",
    "\n",
    "%load_ext autoreload\n",
    "%autoreload 2\n",
    "\n",
    "# import matplotlib.pyplot as plt\n",
    "# plt.style.use('dark_background')\n",
    "%matplotlib inline"
   ]
  },
  {
   "cell_type": "markdown",
   "metadata": {},
   "source": [
    "---\n",
    "возьмем для примера датасет [lenta.ru](https://www.kaggle.com/yutkin/corpus-of-russian-news-articles-from-lenta)\n",
    "\n",
    "для примера взят датасет, скаченный по линку с [gitHub](https://github.com/yutkin/Lenta.Ru-News-Dataset/tree/v1.1)"
   ]
  },
  {
   "cell_type": "code",
   "execution_count": 3,
   "metadata": {},
   "outputs": [
    {
     "name": "stdout",
     "output_type": "stream",
     "text": [
      "/home/avenon/projects/proj_news_viz/nlp/references/techarticle\r\n"
     ]
    }
   ],
   "source": [
    "!pwd"
   ]
  },
  {
   "cell_type": "code",
   "execution_count": 4,
   "metadata": {},
   "outputs": [
    {
     "name": "stdout",
     "output_type": "stream",
     "text": [
      "(739351, 5)\n"
     ]
    },
    {
     "data": {
      "text/html": [
       "<div>\n",
       "<style scoped>\n",
       "    .dataframe tbody tr th:only-of-type {\n",
       "        vertical-align: middle;\n",
       "    }\n",
       "\n",
       "    .dataframe tbody tr th {\n",
       "        vertical-align: top;\n",
       "    }\n",
       "\n",
       "    .dataframe thead th {\n",
       "        text-align: right;\n",
       "    }\n",
       "</style>\n",
       "<table border=\"1\" class=\"dataframe\">\n",
       "  <thead>\n",
       "    <tr style=\"text-align: right;\">\n",
       "      <th></th>\n",
       "      <th>url</th>\n",
       "      <th>title</th>\n",
       "      <th>text</th>\n",
       "      <th>topic</th>\n",
       "      <th>tags</th>\n",
       "    </tr>\n",
       "  </thead>\n",
       "  <tbody>\n",
       "    <tr>\n",
       "      <th>259504</th>\n",
       "      <td>https://lenta.ru/news/2013/09/13/gosha/</td>\n",
       "      <td>В Смоленске изловили лебедя-беглеца Гошу</td>\n",
       "      <td>В Смоленске проведена операция по поимке лебед...</td>\n",
       "      <td>Из жизни</td>\n",
       "      <td>Звери</td>\n",
       "    </tr>\n",
       "    <tr>\n",
       "      <th>471099</th>\n",
       "      <td>https://lenta.ru/news/2009/02/09/temple/</td>\n",
       "      <td>Даосский храм заработал ростовщичеством на \"пя...</td>\n",
       "      <td>Даосский храм Тзенань на юго-востоке Тайваня о...</td>\n",
       "      <td>Из жизни</td>\n",
       "      <td>Все</td>\n",
       "    </tr>\n",
       "  </tbody>\n",
       "</table>\n",
       "</div>"
      ],
      "text/plain": [
       "                                             url  \\\n",
       "259504   https://lenta.ru/news/2013/09/13/gosha/   \n",
       "471099  https://lenta.ru/news/2009/02/09/temple/   \n",
       "\n",
       "                                                    title  \\\n",
       "259504          В Смоленске изловили лебедя-беглеца Гошу    \n",
       "471099  Даосский храм заработал ростовщичеством на \"пя...   \n",
       "\n",
       "                                                     text     topic   tags  \n",
       "259504  В Смоленске проведена операция по поимке лебед...  Из жизни  Звери  \n",
       "471099  Даосский храм Тзенань на юго-востоке Тайваня о...  Из жизни    Все  "
      ]
     },
     "execution_count": 4,
     "metadata": {},
     "output_type": "execute_result"
    }
   ],
   "source": [
    "df = pd.read_csv(PATH / 'data/interim/lenta/lenta-ru-news.csv')\n",
    "print(df.shape)\n",
    "df.sample(2)"
   ]
  },
  {
   "cell_type": "markdown",
   "metadata": {},
   "source": [
    "удалим пустые записи и дубликаты по признаку `text`"
   ]
  },
  {
   "cell_type": "code",
   "execution_count": 5,
   "metadata": {},
   "outputs": [
    {
     "name": "stdout",
     "output_type": "stream",
     "text": [
      "df.shape: (712829, 5)\n"
     ]
    },
    {
     "data": {
      "text/plain": [
       "url      0\n",
       "title    0\n",
       "text     0\n",
       "topic    0\n",
       "tags     0\n",
       "dtype: int64"
      ]
     },
     "execution_count": 5,
     "metadata": {},
     "output_type": "execute_result"
    }
   ],
   "source": [
    "df.dropna(inplace=True)\n",
    "df.text.drop_duplicates(inplace=True)\n",
    "\n",
    "print(f'df.shape: {df.shape}')\n",
    "df.isnull().sum()"
   ]
  },
  {
   "cell_type": "code",
   "execution_count": 6,
   "metadata": {},
   "outputs": [
    {
     "name": "stdout",
     "output_type": "stream",
     "text": [
      "уникальное к-ство разделов: 23\n"
     ]
    },
    {
     "data": {
      "text/plain": [
       "Россия               155078\n",
       "Мир                  136679\n",
       "Экономика             76433\n",
       "Спорт                 57902\n",
       "Культура              53536\n",
       "Наука и техника       53136\n",
       "Бывший СССР           51370\n",
       "Интернет и СМИ        44433\n",
       "Из жизни              27519\n",
       "Дом                   21734\n",
       "Силовые структуры     11223\n",
       "Ценности               7581\n",
       "Бизнес                 7375\n",
       "Путешествия            6370\n",
       "69-я параллель         1268\n",
       "Крым                    666\n",
       "Культпросвет            340\n",
       "Легпром                 114\n",
       "Библиотека               65\n",
       "Оружие                    3\n",
       "ЧМ-2014                   2\n",
       "Сочи                      1\n",
       "МедНовости                1\n",
       "Name: topic, dtype: int64"
      ]
     },
     "execution_count": 6,
     "metadata": {},
     "output_type": "execute_result"
    }
   ],
   "source": [
    "# посмотрим на к-ство записей по разделам\n",
    "print(f'уникальное к-ство разделов: {df.topic.unique().shape[0]}')\n",
    "df.topic.value_counts()"
   ]
  },
  {
   "cell_type": "code",
   "execution_count": 7,
   "metadata": {},
   "outputs": [
    {
     "data": {
      "text/plain": [
       "(479628, 5)"
      ]
     },
     "execution_count": 7,
     "metadata": {},
     "output_type": "execute_result"
    }
   ],
   "source": [
    "# выберем для примера топ-5 разделов\n",
    "top_topics = 5\n",
    "df_top = df[df.topic.isin(df.topic.value_counts().head(top_topics).index)]\n",
    "df_top.shape"
   ]
  },
  {
   "cell_type": "code",
   "execution_count": 8,
   "metadata": {},
   "outputs": [
    {
     "data": {
      "text/html": [
       "<div>\n",
       "<style scoped>\n",
       "    .dataframe tbody tr th:only-of-type {\n",
       "        vertical-align: middle;\n",
       "    }\n",
       "\n",
       "    .dataframe tbody tr th {\n",
       "        vertical-align: top;\n",
       "    }\n",
       "\n",
       "    .dataframe thead th {\n",
       "        text-align: right;\n",
       "    }\n",
       "</style>\n",
       "<table border=\"1\" class=\"dataframe\">\n",
       "  <thead>\n",
       "    <tr style=\"text-align: right;\">\n",
       "      <th></th>\n",
       "      <th>url</th>\n",
       "      <th>title</th>\n",
       "      <th>text</th>\n",
       "      <th>topic</th>\n",
       "      <th>tags</th>\n",
       "    </tr>\n",
       "  </thead>\n",
       "  <tbody>\n",
       "    <tr>\n",
       "      <th>0</th>\n",
       "      <td>https://lenta.ru/news/2018/12/14/cancer/</td>\n",
       "      <td>Названы регионы России с самой высокой смертно...</td>\n",
       "      <td>Вице-премьер по социальным вопросам Татьяна Го...</td>\n",
       "      <td>Россия</td>\n",
       "      <td>Общество</td>\n",
       "    </tr>\n",
       "    <tr>\n",
       "      <th>1</th>\n",
       "      <td>https://lenta.ru/news/2018/12/15/doping/</td>\n",
       "      <td>Австрия не представила доказательств вины росс...</td>\n",
       "      <td>Австрийские правоохранительные органы не предс...</td>\n",
       "      <td>Спорт</td>\n",
       "      <td>Зимние виды</td>\n",
       "    </tr>\n",
       "    <tr>\n",
       "      <th>3</th>\n",
       "      <td>https://lenta.ru/news/2018/12/15/usa25/</td>\n",
       "      <td>В США раскрыли сумму расходов на расследование...</td>\n",
       "      <td>С начала расследования российского вмешательст...</td>\n",
       "      <td>Мир</td>\n",
       "      <td>Политика</td>\n",
       "    </tr>\n",
       "    <tr>\n",
       "      <th>4</th>\n",
       "      <td>https://lenta.ru/news/2018/12/15/integrity/</td>\n",
       "      <td>Хакеры рассказали о планах Великобритании зами...</td>\n",
       "      <td>Хакерская группировка Anonymous опубликовала н...</td>\n",
       "      <td>Мир</td>\n",
       "      <td>Общество</td>\n",
       "    </tr>\n",
       "    <tr>\n",
       "      <th>7</th>\n",
       "      <td>https://lenta.ru/news/2018/12/15/skripal/</td>\n",
       "      <td>Полицейские из Солсбери описали одеревеневшего...</td>\n",
       "      <td>Полицейские Алекс Коллинс и Трейси Холлоуэй, о...</td>\n",
       "      <td>Мир</td>\n",
       "      <td>Общество</td>\n",
       "    </tr>\n",
       "  </tbody>\n",
       "</table>\n",
       "</div>"
      ],
      "text/plain": [
       "                                           url  \\\n",
       "0     https://lenta.ru/news/2018/12/14/cancer/   \n",
       "1     https://lenta.ru/news/2018/12/15/doping/   \n",
       "3      https://lenta.ru/news/2018/12/15/usa25/   \n",
       "4  https://lenta.ru/news/2018/12/15/integrity/   \n",
       "7    https://lenta.ru/news/2018/12/15/skripal/   \n",
       "\n",
       "                                               title  \\\n",
       "0  Названы регионы России с самой высокой смертно...   \n",
       "1  Австрия не представила доказательств вины росс...   \n",
       "3  В США раскрыли сумму расходов на расследование...   \n",
       "4  Хакеры рассказали о планах Великобритании зами...   \n",
       "7  Полицейские из Солсбери описали одеревеневшего...   \n",
       "\n",
       "                                                text   topic         tags  \n",
       "0  Вице-премьер по социальным вопросам Татьяна Го...  Россия     Общество  \n",
       "1  Австрийские правоохранительные органы не предс...   Спорт  Зимние виды  \n",
       "3  С начала расследования российского вмешательст...     Мир     Политика  \n",
       "4  Хакерская группировка Anonymous опубликовала н...     Мир     Общество  \n",
       "7  Полицейские Алекс Коллинс и Трейси Холлоуэй, о...     Мир     Общество  "
      ]
     },
     "execution_count": 8,
     "metadata": {},
     "output_type": "execute_result"
    }
   ],
   "source": [
    "df_top.head()"
   ]
  },
  {
   "cell_type": "markdown",
   "metadata": {},
   "source": [
    "---\n",
    "разделим данные для начала на train & test в соотношении 80/20 соответственно"
   ]
  },
  {
   "cell_type": "code",
   "execution_count": 9,
   "metadata": {},
   "outputs": [],
   "source": [
    "from sklearn.model_selection import train_test_split"
   ]
  },
  {
   "cell_type": "code",
   "execution_count": 10,
   "metadata": {},
   "outputs": [
    {
     "data": {
      "text/plain": [
       "((383702,), (95926,), (383702,), (95926,))"
      ]
     },
     "execution_count": 10,
     "metadata": {},
     "output_type": "execute_result"
    }
   ],
   "source": [
    "X_train, X_test, y_train, y_test = train_test_split(df_top.text,df_top.topic,\n",
    "                                                    test_size=0.2,\n",
    "                                                    stratify=df_top.topic,\n",
    "                                                    random_state=42)\n",
    "\n",
    "X_train.shape, X_test.shape, y_train.shape, y_test.shape"
   ]
  },
  {
   "cell_type": "code",
   "execution_count": 11,
   "metadata": {},
   "outputs": [
    {
     "data": {
      "text/plain": [
       "(0, 0)"
      ]
     },
     "execution_count": 11,
     "metadata": {},
     "output_type": "execute_result"
    }
   ],
   "source": [
    "# проверим на пустые значения\n",
    "X_train.isna().sum(), X_test.isna().sum()"
   ]
  },
  {
   "cell_type": "code",
   "execution_count": 12,
   "metadata": {},
   "outputs": [
    {
     "data": {
      "text/plain": [
       "28457          Мир\n",
       "731343      Россия\n",
       "387135       Спорт\n",
       "22328        Спорт\n",
       "614875      Россия\n",
       "            ...   \n",
       "253051         Мир\n",
       "546115      Россия\n",
       "727936      Россия\n",
       "510561      Россия\n",
       "516661    Культура\n",
       "Name: topic, Length: 95926, dtype: object"
      ]
     },
     "execution_count": 12,
     "metadata": {},
     "output_type": "execute_result"
    }
   ],
   "source": [
    "y_test"
   ]
  },
  {
   "cell_type": "markdown",
   "metadata": {},
   "source": [
    "---\n",
    "## сделаем небольшое исследование, обучив модель с и без препроцессинга"
   ]
  },
  {
   "cell_type": "code",
   "execution_count": 13,
   "metadata": {},
   "outputs": [],
   "source": [
    "from sklearn.feature_extraction.text import CountVectorizer, TfidfVectorizer\n",
    "from sklearn.linear_model import LogisticRegression\n",
    "from sklearn.metrics import accuracy_score, classification_report, confusion_matrix"
   ]
  },
  {
   "cell_type": "code",
   "execution_count": 14,
   "metadata": {},
   "outputs": [],
   "source": [
    "# добавим самописный файл, для отображения топ частотный слов\n",
    "from news_viz.visualization.plot_frequency import plotFrequencyWords"
   ]
  },
  {
   "cell_type": "markdown",
   "metadata": {},
   "source": [
    "* ### без препроцессинга"
   ]
  },
  {
   "cell_type": "markdown",
   "metadata": {},
   "source": [
    "### Метод векторизации: Частотный"
   ]
  },
  {
   "cell_type": "code",
   "execution_count": 32,
   "metadata": {},
   "outputs": [
    {
     "name": "stdout",
     "output_type": "stream",
     "text": [
      "CPU times: user 1min 40s, sys: 1.19 s, total: 1min 41s\n",
      "Wall time: 1min 41s\n"
     ]
    }
   ],
   "source": [
    "%%time\n",
    "count_vect = CountVectorizer()\n",
    "\n",
    "# в данном примере обучим только на `X_train`\n",
    "# но ничего не мешает обучить и на `X_test`\n",
    "count_vect_train = count_vect.fit_transform(X_train)\n",
    "count_vect_test = count_vect.transform(X_test)"
   ]
  },
  {
   "cell_type": "code",
   "execution_count": 33,
   "metadata": {
    "scrolled": true
   },
   "outputs": [
    {
     "name": "stdout",
     "output_type": "stream",
     "text": [
      "размер корпуса: 732908\n",
      "\n",
      "пример [:5]: [('на', 1330966), ('по', 810857), ('что', 771161), ('не', 540556), ('из', 405050)]\n"
     ]
    }
   ],
   "source": [
    "# распределение токенов\n",
    "vocab = {a: b for a, b in zip(count_vect.get_feature_names(), np.ravel(count_vect_train.sum(axis=0)))}\n",
    "vocab = sorted(vocab.items(), reverse=True, key = lambda kv:(kv[1], kv[0]))\n",
    "\n",
    "print(f'размер корпуса: {len(vocab)}')\n",
    "print(f'\\nпример [:5]: {vocab[:5]}')"
   ]
  },
  {
   "cell_type": "code",
   "execution_count": 34,
   "metadata": {},
   "outputs": [
    {
     "data": {
      "image/png": "[encoded data removed]",
      "text/plain": [
       "<Figure size 1440x720 with 1 Axes>"
      ]
     },
     "metadata": {},
     "output_type": "display_data"
    }
   ],
   "source": [
    "plotFrequencyWords(vocab = vocab,\n",
    "                   top_words = 30,\n",
    "                   plt_background = 'dark')"
   ]
  },
  {
   "cell_type": "code",
   "execution_count": 35,
   "metadata": {},
   "outputs": [
    {
     "name": "stdout",
     "output_type": "stream",
     "text": [
      "classification_report:\n",
      "              precision    recall  f1-score   support\n",
      "\n",
      "    Культура    0.94119   0.94910   0.94513     10707\n",
      "         Мир    0.88884   0.89885   0.89382     27336\n",
      "      Россия    0.89967   0.88242   0.89096     31016\n",
      "       Спорт    0.98140   0.97988   0.98064     11580\n",
      "   Экономика    0.91233   0.92517   0.91870     15287\n",
      "\n",
      "    accuracy                        0.91312     95926\n",
      "   macro avg    0.92469   0.92708   0.92585     95926\n",
      "weighted avg    0.91310   0.91312   0.91307     95926\n",
      "\n",
      "confusion_matrix:\n",
      "[[10162   256   232    13    44]\n",
      " [  278 24571  1998    70   419]\n",
      " [  301  2372 27369   106   868]\n",
      " [   27    68   110 11347    28]\n",
      " [   29   377   712    26 14143]]\n",
      "CPU times: user 8min 11s, sys: 17.6 s, total: 8min 29s\n",
      "Wall time: 5min\n"
     ]
    }
   ],
   "source": [
    "%%time\n",
    "\n",
    "lr = LogisticRegression(class_weight='balanced', random_state=42)\n",
    "lr.fit(count_vect_train, y_train)\n",
    "\n",
    "pred_lr = lr.predict(count_vect_test)\n",
    "print(f'classification_report:\\n{classification_report(y_test, pred_lr, digits=5)}')\n",
    "print(f'confusion_matrix:\\n{confusion_matrix(y_test, pred_lr)}')"
   ]
  },
  {
   "cell_type": "code",
   "execution_count": null,
   "metadata": {},
   "outputs": [],
   "source": [
    "# from sklearn.pipeline import Pipeline\n",
    "# \n",
    "# pipe = Pipeline([('vec', CountVectorizer(min_df=0.1)),\n",
    "#                 ('clf', LogisticRegression(class_weight='balanced', random_state=42))])\n",
    "# \n",
    "# pipe.fit(X_train,y_train)\n",
    "# \n",
    "# pred_lr = pipe.predict(X_test)\n",
    "# print(f'classification_report:\\n{classification_report(y_test, pred_lr, digits=5)}')\n",
    "# print(f'\\nconfusion_matrix:\\n{confusion_matrix(y_test, pred_lr)}')"
   ]
  },
  {
   "cell_type": "markdown",
   "metadata": {},
   "source": [
    "### Метод векторизации: TF-IDF"
   ]
  },
  {
   "cell_type": "code",
   "execution_count": 37,
   "metadata": {},
   "outputs": [
    {
     "name": "stdout",
     "output_type": "stream",
     "text": [
      "CPU times: user 1min 45s, sys: 1.5 s, total: 1min 47s\n",
      "Wall time: 1min 47s\n"
     ]
    }
   ],
   "source": [
    "%%time\n",
    "count_vect_tfidf = TfidfVectorizer()\n",
    "\n",
    "# в данном примере обучим только на `X_train`\n",
    "# но ничего не мешает обучить и на `X_test`\n",
    "count_vect_tfidf_train = count_vect_tfidf.fit_transform(X_train)\n",
    "count_vect_tfidf_test = count_vect_tfidf.transform(X_test)"
   ]
  },
  {
   "cell_type": "code",
   "execution_count": 39,
   "metadata": {},
   "outputs": [
    {
     "name": "stdout",
     "output_type": "stream",
     "text": [
      "размер корпуса: 732908\n",
      "\n",
      "пример [:5]: [('на', 15876.362137721202), ('по', 10785.701971504219), ('что', 10644.883353085264), ('не', 8277.535585702457), ('из', 6927.856234873247)]\n"
     ]
    }
   ],
   "source": [
    "# распределение токенов\n",
    "vocab_tfidf = {a: b for a, b in zip(count_vect_tfidf.get_feature_names(), np.ravel(count_vect_tfidf_train.sum(axis=0)))}\n",
    "vocab_tfidf = sorted(vocab_tfidf.items(), reverse=True, key = lambda kv:(kv[1], kv[0]))\n",
    "\n",
    "print(f'размер корпуса: {len(vocab_tfidf)}')\n",
    "print(f'\\nпример [:5]: {vocab_tfidf[:5]}')"
   ]
  },
  {
   "cell_type": "code",
   "execution_count": 40,
   "metadata": {},
   "outputs": [
    {
     "data": {
      "image/png": "[encoded data removed]",
      "text/plain": [
       "<Figure size 1440x720 with 1 Axes>"
      ]
     },
     "metadata": {},
     "output_type": "display_data"
    }
   ],
   "source": [
    "plotFrequencyWords(vocab = vocab_tfidf,\n",
    "                   top_words = 30,\n",
    "                   plt_background = 'dark')"
   ]
  },
  {
   "cell_type": "code",
   "execution_count": 41,
   "metadata": {},
   "outputs": [
    {
     "name": "stdout",
     "output_type": "stream",
     "text": [
      "classification_report:\n",
      "              precision    recall  f1-score   support\n",
      "\n",
      "    Культура    0.92616   0.96647   0.94589     10707\n",
      "         Мир    0.89627   0.90558   0.90090     27336\n",
      "      Россия    0.91718   0.87726   0.89677     31016\n",
      "       Спорт    0.98000   0.98152   0.98076     11580\n",
      "   Экономика    0.90743   0.94198   0.92438     15287\n",
      "\n",
      "    accuracy                        0.91819     95926\n",
      "   macro avg    0.92541   0.93456   0.92974     95926\n",
      "weighted avg    0.91825   0.91819   0.91797     95926\n",
      "\n",
      "confusion_matrix:\n",
      "[[10348   150   163    14    32]\n",
      " [  369 24755  1708    66   438]\n",
      " [  373  2335 27209   124   975]\n",
      " [   37    62    91 11366    24]\n",
      " [   46   318   495    28 14400]]\n",
      "CPU times: user 7min 30s, sys: 16.4 s, total: 7min 46s\n",
      "Wall time: 4min 22s\n"
     ]
    }
   ],
   "source": [
    "%%time\n",
    "\n",
    "lr = LogisticRegression(class_weight='balanced', random_state=42)\n",
    "lr.fit(count_vect_tfidf_train, y_train)\n",
    "\n",
    "pred_lr = lr.predict(count_vect_tfidf_test)\n",
    "print(f'classification_report:\\n{classification_report(y_test, pred_lr, digits=5)}')\n",
    "print(f'confusion_matrix:\\n{confusion_matrix(y_test, pred_lr)}')"
   ]
  },
  {
   "cell_type": "code",
   "execution_count": null,
   "metadata": {},
   "outputs": [],
   "source": []
  },
  {
   "cell_type": "code",
   "execution_count": null,
   "metadata": {},
   "outputs": [],
   "source": []
  },
  {
   "cell_type": "markdown",
   "metadata": {},
   "source": [
    "* ### c препроцессингом"
   ]
  },
  {
   "cell_type": "code",
   "execution_count": 15,
   "metadata": {},
   "outputs": [],
   "source": [
    "from news_viz.data.preprocessing_tools import clean_text, lemmatize\n",
    "# pip install pymorphy2"
   ]
  },
  {
   "cell_type": "code",
   "execution_count": 16,
   "metadata": {},
   "outputs": [],
   "source": [
    "# импортируем нужные нам библиотеки для мультипроцессинга\n",
    "# создаем соответствующую для этого функцию\n",
    "import multiprocessing as mp\n",
    "from multiprocessing import Pool\n",
    "\n",
    "num_cores = mp.cpu_count() # number of cores on your machine; 20\n",
    "num_partitions = num_cores * 2 # number of partitions to split dataframe\n",
    "\n",
    "def parallelize_dataframe(df, func):\n",
    "    df_split = np.array_split(df, num_partitions)\n",
    "    pool = Pool(num_cores)\n",
    "    df = pd.concat(pool.map(func, df_split))\n",
    "    pool.close()\n",
    "    pool.join()\n",
    "    return df"
   ]
  },
  {
   "cell_type": "code",
   "execution_count": 17,
   "metadata": {},
   "outputs": [],
   "source": [
    "train = pd.DataFrame(X_train)\n",
    "train['target'] = pd.DataFrame(y_train)\n",
    "\n",
    "test = pd.DataFrame(X_test)\n",
    "test['target'] = pd.DataFrame(y_test)"
   ]
  },
  {
   "cell_type": "markdown",
   "metadata": {},
   "source": [
    "* оставим только слова"
   ]
  },
  {
   "cell_type": "code",
   "execution_count": 18,
   "metadata": {},
   "outputs": [],
   "source": [
    "def multiply_clean_text(data):\n",
    "    data['clean_text'] = data['text'].apply(clean_text)\n",
    "    return data"
   ]
  },
  {
   "cell_type": "code",
   "execution_count": 19,
   "metadata": {},
   "outputs": [
    {
     "name": "stdout",
     "output_type": "stream",
     "text": [
      "clean train text & drop missing rows ...\n",
      "clean test text & drop missing rows ...\n",
      "CPU times: user 12.5 s, sys: 8.31 s, total: 20.8 s\n",
      "Wall time: 44 s\n"
     ]
    },
    {
     "data": {
      "text/plain": [
       "0"
      ]
     },
     "execution_count": 19,
     "metadata": {},
     "output_type": "execute_result"
    }
   ],
   "source": [
    "%%time\n",
    "\n",
    "print('clean train text & drop missing rows ...')\n",
    "train = parallelize_dataframe(train, multiply_clean_text)\n",
    "train = train[train.clean_text != 'TOREMOVE']\n",
    "\n",
    "print('clean test text & drop missing rows ...')\n",
    "test = parallelize_dataframe(test, multiply_clean_text)\n",
    "test = test[test.clean_text != 'TOREMOVE']\n",
    "\n",
    "gc.collect()"
   ]
  },
  {
   "cell_type": "markdown",
   "metadata": {},
   "source": [
    "* лемматизируем и удалим заодно стоп-слова"
   ]
  },
  {
   "cell_type": "code",
   "execution_count": 20,
   "metadata": {},
   "outputs": [],
   "source": [
    "def multiply_lemmatization(data):\n",
    "    data['lemma_text'] = data['clean_text'].apply(lemmatize)\n",
    "    return data"
   ]
  },
  {
   "cell_type": "code",
   "execution_count": 21,
   "metadata": {},
   "outputs": [
    {
     "name": "stdout",
     "output_type": "stream",
     "text": [
      "lemmatization train ...\n",
      "lemmatization test ...\n",
      "CPU times: user 22.7 s, sys: 16.4 s, total: 39 s\n",
      "Wall time: 48min 4s\n"
     ]
    },
    {
     "data": {
      "text/plain": [
       "0"
      ]
     },
     "execution_count": 21,
     "metadata": {},
     "output_type": "execute_result"
    }
   ],
   "source": [
    "%%time\n",
    "\n",
    "print('lemmatization train ...')\n",
    "train = parallelize_dataframe(train, multiply_lemmatization)\n",
    "train = train[train.lemma_text != 'TOREMOVE']\n",
    "\n",
    "gc.collect()\n",
    "\n",
    "print('lemmatization test ...')\n",
    "test = parallelize_dataframe(test, multiply_lemmatization)\n",
    "test = test[test.lemma_text != 'TOREMOVE']\n",
    "\n",
    "gc.collect()"
   ]
  },
  {
   "cell_type": "code",
   "execution_count": 22,
   "metadata": {},
   "outputs": [
    {
     "name": "stdout",
     "output_type": "stream",
     "text": [
      "0 0\n",
      "(382995, 4) (95721, 4)\n"
     ]
    },
    {
     "data": {
      "text/html": [
       "<div>\n",
       "<style scoped>\n",
       "    .dataframe tbody tr th:only-of-type {\n",
       "        vertical-align: middle;\n",
       "    }\n",
       "\n",
       "    .dataframe tbody tr th {\n",
       "        vertical-align: top;\n",
       "    }\n",
       "\n",
       "    .dataframe thead th {\n",
       "        text-align: right;\n",
       "    }\n",
       "</style>\n",
       "<table border=\"1\" class=\"dataframe\">\n",
       "  <thead>\n",
       "    <tr style=\"text-align: right;\">\n",
       "      <th></th>\n",
       "      <th>text</th>\n",
       "      <th>target</th>\n",
       "      <th>clean_text</th>\n",
       "      <th>lemma_text</th>\n",
       "    </tr>\n",
       "  </thead>\n",
       "  <tbody>\n",
       "    <tr>\n",
       "      <th>39983</th>\n",
       "      <td>Президент России Владимир Путин принял участие...</td>\n",
       "      <td>Россия</td>\n",
       "      <td>президент россии владимир путин принял участие...</td>\n",
       "      <td>россия владимир путин принять участие крещенск...</td>\n",
       "    </tr>\n",
       "    <tr>\n",
       "      <th>54750</th>\n",
       "      <td>Канадского сценариста и наследника крупной ком...</td>\n",
       "      <td>Мир</td>\n",
       "      <td>канадского сценариста наследника крупной компа...</td>\n",
       "      <td>канадский сценарист наследник крупный компания...</td>\n",
       "    </tr>\n",
       "  </tbody>\n",
       "</table>\n",
       "</div>"
      ],
      "text/plain": [
       "                                                    text  target  \\\n",
       "39983  Президент России Владимир Путин принял участие...  Россия   \n",
       "54750  Канадского сценариста и наследника крупной ком...     Мир   \n",
       "\n",
       "                                              clean_text  \\\n",
       "39983  президент россии владимир путин принял участие...   \n",
       "54750  канадского сценариста наследника крупной компа...   \n",
       "\n",
       "                                              lemma_text  \n",
       "39983  россия владимир путин принять участие крещенск...  \n",
       "54750  канадский сценарист наследник крупный компания...  "
      ]
     },
     "execution_count": 22,
     "metadata": {},
     "output_type": "execute_result"
    }
   ],
   "source": [
    "print(train.lemma_text.isnull().sum() , test.lemma_text.isnull().sum())\n",
    "\n",
    "print(train.shape, test.shape)\n",
    "\n",
    "train.sample(2)"
   ]
  },
  {
   "cell_type": "markdown",
   "metadata": {},
   "source": [
    "---\n",
    "_на случай, если не хватает памяти_"
   ]
  },
  {
   "cell_type": "code",
   "execution_count": 23,
   "metadata": {},
   "outputs": [],
   "source": [
    "train[['lemma_text','target']].to_csv(PATH / 'data/another/processed/lenta/news_lenta-lemma_text-train.csv.gz', compression='gzip', index=False)\n",
    "test[['lemma_text','target']].to_csv(PATH / 'data/another/processed/lenta/news_lenta-lemma_text-test.csv.gz', compression='gzip', index=False)\n",
    "# del train, test"
   ]
  },
  {
   "cell_type": "code",
   "execution_count": null,
   "metadata": {},
   "outputs": [],
   "source": [
    "train = pd.read_csv(PATH / 'data/another/processed/lenta/news_lenta-lemma_text-train.csv.gz', compression='gzip')\n",
    "test = pd.read_csv(PATH / 'data/another/processed/lenta/news_lenta-lemma_text-test.csv.gz', compression='gzip')"
   ]
  },
  {
   "cell_type": "code",
   "execution_count": 24,
   "metadata": {},
   "outputs": [
    {
     "name": "stdout",
     "output_type": "stream",
     "text": [
      "(382995, 4) (95721, 4)\n"
     ]
    },
    {
     "data": {
      "text/html": [
       "<div>\n",
       "<style scoped>\n",
       "    .dataframe tbody tr th:only-of-type {\n",
       "        vertical-align: middle;\n",
       "    }\n",
       "\n",
       "    .dataframe tbody tr th {\n",
       "        vertical-align: top;\n",
       "    }\n",
       "\n",
       "    .dataframe thead th {\n",
       "        text-align: right;\n",
       "    }\n",
       "</style>\n",
       "<table border=\"1\" class=\"dataframe\">\n",
       "  <thead>\n",
       "    <tr style=\"text-align: right;\">\n",
       "      <th></th>\n",
       "      <th>text</th>\n",
       "      <th>target</th>\n",
       "      <th>clean_text</th>\n",
       "      <th>lemma_text</th>\n",
       "    </tr>\n",
       "  </thead>\n",
       "  <tbody>\n",
       "    <tr>\n",
       "      <th>606798</th>\n",
       "      <td>США увеличили численность своего военного конт...</td>\n",
       "      <td>Мир</td>\n",
       "      <td>сша увеличили численность своего военного конт...</td>\n",
       "      <td>сша увеличить численность военный контингент и...</td>\n",
       "    </tr>\n",
       "    <tr>\n",
       "      <th>443355</th>\n",
       "      <td>Сообщение о теракте, из-за которого 21 августа...</td>\n",
       "      <td>Россия</td>\n",
       "      <td>сообщение теракте из-за которого августа были ...</td>\n",
       "      <td>сообщение теракт из-за август эвакуировать пац...</td>\n",
       "    </tr>\n",
       "  </tbody>\n",
       "</table>\n",
       "</div>"
      ],
      "text/plain": [
       "                                                     text  target  \\\n",
       "606798  США увеличили численность своего военного конт...     Мир   \n",
       "443355  Сообщение о теракте, из-за которого 21 августа...  Россия   \n",
       "\n",
       "                                               clean_text  \\\n",
       "606798  сша увеличили численность своего военного конт...   \n",
       "443355  сообщение теракте из-за которого августа были ...   \n",
       "\n",
       "                                               lemma_text  \n",
       "606798  сша увеличить численность военный контингент и...  \n",
       "443355  сообщение теракт из-за август эвакуировать пац...  "
      ]
     },
     "execution_count": 24,
     "metadata": {},
     "output_type": "execute_result"
    }
   ],
   "source": [
    "print(train.shape, test.shape)\n",
    "train.sample(2)"
   ]
  },
  {
   "cell_type": "markdown",
   "metadata": {},
   "source": [
    "---\n",
    "* обучаем модель на очищенных данных"
   ]
  },
  {
   "cell_type": "code",
   "execution_count": 25,
   "metadata": {},
   "outputs": [],
   "source": [
    "X_train = train.lemma_text\n",
    "y_train = train.target\n",
    "\n",
    "X_test  = test.lemma_text\n",
    "y_test = test.target"
   ]
  },
  {
   "cell_type": "markdown",
   "metadata": {},
   "source": [
    "### Метод векторизации: Частотный"
   ]
  },
  {
   "cell_type": "code",
   "execution_count": 26,
   "metadata": {},
   "outputs": [
    {
     "name": "stdout",
     "output_type": "stream",
     "text": [
      "CPU times: user 1min 3s, sys: 969 ms, total: 1min 4s\n",
      "Wall time: 1min 4s\n"
     ]
    }
   ],
   "source": [
    "%%time\n",
    "count_vect = CountVectorizer()\n",
    "\n",
    "count_vect_train = count_vect.fit_transform(X_train)\n",
    "count_vect_test = count_vect.transform(X_test)"
   ]
  },
  {
   "cell_type": "code",
   "execution_count": 27,
   "metadata": {},
   "outputs": [
    {
     "name": "stdout",
     "output_type": "stream",
     "text": [
      "размер словаря: 283578\n",
      "\n",
      "пример [:5]: [('сообщать', 235557), ('россия', 231117), ('заявить', 170430), ('российский', 150305), ('страна', 146518)]\n"
     ]
    }
   ],
   "source": [
    "# распределение токенов\n",
    "vocab = {a: b for a, b in zip(count_vect.get_feature_names(), np.ravel(count_vect_train.sum(axis=0)))}\n",
    "vocab = sorted(vocab.items(), reverse=True, key = lambda kv:(kv[1], kv[0]))\n",
    "\n",
    "print(f'размер словаря: {len(vocab)}')\n",
    "print(f'\\nпример [:5]: {vocab[:5]}')"
   ]
  },
  {
   "cell_type": "code",
   "execution_count": 29,
   "metadata": {},
   "outputs": [
    {
     "data": {
      "image/png": "[encoded data removed]",
      "text/plain": [
       "<Figure size 1440x720 with 1 Axes>"
      ]
     },
     "metadata": {},
     "output_type": "display_data"
    }
   ],
   "source": [
    "plotFrequencyWords(vocab = vocab,\n",
    "                   top_words = 30,\n",
    "                   plt_background = 'dark')"
   ]
  },
  {
   "cell_type": "code",
   "execution_count": 30,
   "metadata": {},
   "outputs": [
    {
     "name": "stdout",
     "output_type": "stream",
     "text": [
      "classification_report:\n",
      "              precision    recall  f1-score   support\n",
      "\n",
      "    Культура    0.93674   0.94637   0.94153     10703\n",
      "         Мир    0.88482   0.89121   0.88800     27246\n",
      "      Россия    0.89510   0.87750   0.88621     30922\n",
      "       Спорт    0.98087   0.97875   0.97981     11579\n",
      "   Экономика    0.90338   0.92266   0.91292     15271\n",
      "\n",
      "    accuracy                        0.90856     95721\n",
      "   macro avg    0.92018   0.92330   0.92170     95721\n",
      "weighted avg    0.90852   0.90856   0.90849     95721\n",
      "\n",
      "confusion_matrix:\n",
      "[[10129   276   229    15    54]\n",
      " [  307 24282  2103    68   486]\n",
      " [  318  2410 27134   115   945]\n",
      " [   24    77   123 11333    22]\n",
      " [   35   398   725    23 14090]]\n",
      "CPU times: user 5min 19s, sys: 13.5 s, total: 5min 32s\n",
      "Wall time: 2min 31s\n"
     ]
    }
   ],
   "source": [
    "%%time\n",
    "\n",
    "lr = LogisticRegression(class_weight='balanced', random_state=42)\n",
    "lr.fit(count_vect_train, y_train)\n",
    "\n",
    "pred_lr = lr.predict(count_vect_test)\n",
    "print(f'classification_report:\\n{classification_report(y_test, pred_lr, digits=5)}')\n",
    "print(f'confusion_matrix:\\n{confusion_matrix(y_test, pred_lr)}')"
   ]
  },
  {
   "cell_type": "markdown",
   "metadata": {},
   "source": [
    "### Метод векторизации: TF-IDF"
   ]
  },
  {
   "cell_type": "code",
   "execution_count": 33,
   "metadata": {},
   "outputs": [
    {
     "name": "stdout",
     "output_type": "stream",
     "text": [
      "CPU times: user 1min 9s, sys: 922 ms, total: 1min 10s\n",
      "Wall time: 1min 10s\n"
     ]
    }
   ],
   "source": [
    "%%time\n",
    "count_vect_tfidf = TfidfVectorizer()\n",
    "\n",
    "count_vect_tfidf_train = count_vect_tfidf.fit_transform(X_train)\n",
    "count_vect_tfidf_test = count_vect_tfidf.transform(X_test)"
   ]
  },
  {
   "cell_type": "code",
   "execution_count": 34,
   "metadata": {},
   "outputs": [
    {
     "name": "stdout",
     "output_type": "stream",
     "text": [
      "размер словаря: 283578\n",
      "\n",
      "пример [:5]: [('россия', 6339.544585950091), ('сообщать', 5206.5126845346485), ('доллар', 4772.206863452099), ('сша', 4700.352449168429), ('российский', 4665.17917406637)]\n"
     ]
    }
   ],
   "source": [
    "# распределение токенов\n",
    "vocab_tfidf = {a: b for a, b in zip(count_vect_tfidf.get_feature_names(), np.ravel(count_vect_tfidf_train.sum(axis=0)))}\n",
    "vocab_tfidf = sorted(vocab_tfidf.items(), reverse=True, key = lambda kv:(kv[1], kv[0]))\n",
    "\n",
    "print(f'размер словаря: {len(vocab_tfidf)}')\n",
    "print(f'\\nпример [:5]: {vocab_tfidf[:5]}')"
   ]
  },
  {
   "cell_type": "code",
   "execution_count": 35,
   "metadata": {},
   "outputs": [
    {
     "data": {
      "image/png": "[encoded data removed]",
      "text/plain": [
       "<Figure size 1440x720 with 1 Axes>"
      ]
     },
     "metadata": {},
     "output_type": "display_data"
    }
   ],
   "source": [
    "plotFrequencyWords(vocab = vocab_tfidf,\n",
    "                   top_words = 30,\n",
    "                   plt_background = 'dark')"
   ]
  },
  {
   "cell_type": "code",
   "execution_count": 36,
   "metadata": {},
   "outputs": [
    {
     "name": "stdout",
     "output_type": "stream",
     "text": [
      "classification_report:\n",
      "              precision    recall  f1-score   support\n",
      "\n",
      "    Культура    0.92683   0.97169   0.94873     10703\n",
      "         Мир    0.89633   0.90149   0.89890     27246\n",
      "      Россия    0.91612   0.87352   0.89432     30922\n",
      "       Спорт    0.97763   0.98506   0.98133     11579\n",
      "   Экономика    0.90192   0.94179   0.92142     15271\n",
      "\n",
      "    accuracy                        0.91684     95721\n",
      "   macro avg    0.92377   0.93471   0.92894     95721\n",
      "weighted avg    0.91686   0.91684   0.91656     95721\n",
      "\n",
      "confusion_matrix:\n",
      "[[10400   135   124    15    29]\n",
      " [  329 24562  1767    84   504]\n",
      " [  408  2366 27011   128  1009]\n",
      " [   31    45    75 11406    22]\n",
      " [   53   295   507    34 14382]]\n",
      "CPU times: user 5min 16s, sys: 12.5 s, total: 5min 28s\n",
      "Wall time: 2min 26s\n"
     ]
    }
   ],
   "source": [
    "%%time\n",
    "\n",
    "lr = LogisticRegression(class_weight='balanced', random_state=42)\n",
    "lr.fit(count_vect_tfidf_train, y_train)\n",
    "\n",
    "pred_lr = lr.predict(count_vect_tfidf_test)\n",
    "print(f'classification_report:\\n{classification_report(y_test, pred_lr, digits=5)}')\n",
    "print(f'confusion_matrix:\\n{confusion_matrix(y_test, pred_lr)}')"
   ]
  },
  {
   "cell_type": "code",
   "execution_count": null,
   "metadata": {},
   "outputs": [],
   "source": []
  },
  {
   "cell_type": "code",
   "execution_count": null,
   "metadata": {},
   "outputs": [],
   "source": []
  },
  {
   "cell_type": "code",
   "execution_count": null,
   "metadata": {},
   "outputs": [],
   "source": []
  }
 ],
 "metadata": {
  "kernelspec": {
   "display_name": "Python 3",
   "language": "python",
   "name": "python3"
  },
  "language_info": {
   "codemirror_mode": {
    "name": "ipython",
    "version": 3
   },
   "file_extension": ".py",
   "mimetype": "text/x-python",
   "name": "python",
   "nbconvert_exporter": "python",
   "pygments_lexer": "ipython3",
   "version": "3.7.6"
  }
 },
 "nbformat": 4,
 "nbformat_minor": 4
}
