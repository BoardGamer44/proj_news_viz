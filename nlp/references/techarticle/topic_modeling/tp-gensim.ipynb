{
 "cells": [
  {
   "cell_type": "code",
   "execution_count": 1,
   "metadata": {},
   "outputs": [],
   "source": [
    "import warnings\n",
    "warnings.filterwarnings('ignore')\n",
    "\n",
    "import os\n",
    "import sys\n",
    "import gc\n",
    "\n",
    "%load_ext autoreload\n",
    "%autoreload 2"
   ]
  },
  {
   "cell_type": "code",
   "execution_count": 5,
   "metadata": {},
   "outputs": [],
   "source": [
    "# прописывем нужные нам пути\n",
    "dir_project = 'git/proj_news_viz/nlp' # путь проекта\n",
    "\n",
    "PATH = os.path.join(os.getenv('HOME'), dir_project)\n",
    "sys.path.append(PATH)"
   ]
  },
  {
   "cell_type": "code",
   "execution_count": 3,
   "metadata": {},
   "outputs": [],
   "source": [
    "import pandas as pd\n",
    "import numpy as np\n",
    "\n",
    "import matplotlib.pyplot as plt\n",
    "%matplotlib inline"
   ]
  },
  {
   "cell_type": "code",
   "execution_count": 30,
   "metadata": {},
   "outputs": [],
   "source": [
    "from gensim import corpora\n",
    "from gensim.models.ldamodel import LdaModel\n",
    "from gensim.models import CoherenceModel, LdaMulticore"
   ]
  },
  {
   "cell_type": "markdown",
   "metadata": {},
   "source": [
    "---"
   ]
  },
  {
   "cell_type": "code",
   "execution_count": 6,
   "metadata": {},
   "outputs": [
    {
     "name": "stdout",
     "output_type": "stream",
     "text": [
      "(674580, 2)\n"
     ]
    },
    {
     "data": {
      "text/html": [
       "<div>\n",
       "<style scoped>\n",
       "    .dataframe tbody tr th:only-of-type {\n",
       "        vertical-align: middle;\n",
       "    }\n",
       "\n",
       "    .dataframe tbody tr th {\n",
       "        vertical-align: top;\n",
       "    }\n",
       "\n",
       "    .dataframe thead th {\n",
       "        text-align: right;\n",
       "    }\n",
       "</style>\n",
       "<table border=\"1\" class=\"dataframe\">\n",
       "  <thead>\n",
       "    <tr style=\"text-align: right;\">\n",
       "      <th></th>\n",
       "      <th>url</th>\n",
       "      <th>lemma_text</th>\n",
       "    </tr>\n",
       "  </thead>\n",
       "  <tbody>\n",
       "    <tr>\n",
       "      <th>565114</th>\n",
       "      <td>https://lenta.ru/world/2005/01/06/resign/</td>\n",
       "      <td>мужской сборная россия занять третье место эст...</td>\n",
       "    </tr>\n",
       "    <tr>\n",
       "      <th>74275</th>\n",
       "      <td>https://lenta.ru/news/2017/01/13/shadow_brokers/</td>\n",
       "      <td>канадский премьера осудить путешествие вертолё...</td>\n",
       "    </tr>\n",
       "  </tbody>\n",
       "</table>\n",
       "</div>"
      ],
      "text/plain": [
       "                                                     url  \\\n",
       "565114         https://lenta.ru/world/2005/01/06/resign/   \n",
       "74275   https://lenta.ru/news/2017/01/13/shadow_brokers/   \n",
       "\n",
       "                                               lemma_text  \n",
       "565114  мужской сборная россия занять третье место эст...  \n",
       "74275   канадский премьера осудить путешествие вертолё...  "
      ]
     },
     "execution_count": 6,
     "metadata": {},
     "output_type": "execute_result"
    }
   ],
   "source": [
    "df = pd.read_csv(f'{PATH}/data/interim/news_lenta-cleaned-lemmatize.csv.gz', compression='gzip')\n",
    "print(df.shape)\n",
    "df.sample(2)"
   ]
  },
  {
   "cell_type": "code",
   "execution_count": 42,
   "metadata": {},
   "outputs": [
    {
     "data": {
      "text/html": [
       "<div>\n",
       "<style scoped>\n",
       "    .dataframe tbody tr th:only-of-type {\n",
       "        vertical-align: middle;\n",
       "    }\n",
       "\n",
       "    .dataframe tbody tr th {\n",
       "        vertical-align: top;\n",
       "    }\n",
       "\n",
       "    .dataframe thead th {\n",
       "        text-align: right;\n",
       "    }\n",
       "</style>\n",
       "<table border=\"1\" class=\"dataframe\">\n",
       "  <thead>\n",
       "    <tr style=\"text-align: right;\">\n",
       "      <th></th>\n",
       "      <th>url</th>\n",
       "      <th>lemma_text</th>\n",
       "      <th>lemma_text_list</th>\n",
       "    </tr>\n",
       "  </thead>\n",
       "  <tbody>\n",
       "    <tr>\n",
       "      <th>629957</th>\n",
       "      <td>https://lenta.ru/news/2002/02/25/lenfilm/</td>\n",
       "      <td>тягачев россия всё-таки участвовать церемония ...</td>\n",
       "      <td>[тягачев, россия, всё-таки, участвовать, церем...</td>\n",
       "    </tr>\n",
       "    <tr>\n",
       "      <th>85458</th>\n",
       "      <td>https://lenta.ru/news/2016/11/07/sex_robots/</td>\n",
       "      <td>уличить согласование вопрос трамп демократ сай...</td>\n",
       "      <td>[уличить, согласование, вопрос, трамп, демокра...</td>\n",
       "    </tr>\n",
       "  </tbody>\n",
       "</table>\n",
       "</div>"
      ],
      "text/plain": [
       "                                                 url  \\\n",
       "629957     https://lenta.ru/news/2002/02/25/lenfilm/   \n",
       "85458   https://lenta.ru/news/2016/11/07/sex_robots/   \n",
       "\n",
       "                                               lemma_text  \\\n",
       "629957  тягачев россия всё-таки участвовать церемония ...   \n",
       "85458   уличить согласование вопрос трамп демократ сай...   \n",
       "\n",
       "                                          lemma_text_list  \n",
       "629957  [тягачев, россия, всё-таки, участвовать, церем...  \n",
       "85458   [уличить, согласование, вопрос, трамп, демокра...  "
      ]
     },
     "execution_count": 42,
     "metadata": {},
     "output_type": "execute_result"
    }
   ],
   "source": [
    "# преобразуем текст в список токенов\n",
    "df['lemma_text_list'] = df.lemma_text.apply(lambda x: x.split())\n",
    "df.sample(2)"
   ]
  },
  {
   "cell_type": "code",
   "execution_count": 29,
   "metadata": {},
   "outputs": [
    {
     "name": "stdout",
     "output_type": "stream",
     "text": [
      "df.shape = (674580, 2)\n"
     ]
    },
    {
     "data": {
      "text/plain": [
       "url           0\n",
       "lemma_text    0\n",
       "dtype: int64"
      ]
     },
     "execution_count": 29,
     "metadata": {},
     "output_type": "execute_result"
    }
   ],
   "source": [
    "# проверим и удалим пустые записи и дубликаты\n",
    "df.dropna(inplace=True)\n",
    "df.lemma_text.drop_duplicates(inplace=True)\n",
    "\n",
    "print(f'df.shape = {df.shape}')\n",
    "df.isnull().sum()"
   ]
  },
  {
   "cell_type": "markdown",
   "metadata": {},
   "source": [
    "---"
   ]
  },
  {
   "cell_type": "markdown",
   "metadata": {},
   "source": [
    "### LDA\n",
    "\n",
    "Для работы с LDA нам нужно подготовить 2 объекта:"
   ]
  },
  {
   "cell_type": "markdown",
   "metadata": {},
   "source": [
    "1. словарь, в котором каждому слову присваивается уникальный id"
   ]
  },
  {
   "cell_type": "code",
   "execution_count": 43,
   "metadata": {},
   "outputs": [
    {
     "name": "stdout",
     "output_type": "stream",
     "text": [
      "CPU times: user 1min 57s, sys: 15.5 s, total: 2min 13s\n",
      "Wall time: 2min 22s\n"
     ]
    }
   ],
   "source": [
    "%%time\n",
    "dictionary = corpora.Dictionary(df.lemma_text_list)"
   ]
  },
  {
   "cell_type": "code",
   "execution_count": 47,
   "metadata": {},
   "outputs": [
    {
     "data": {
      "text/plain": [
       "460587"
      ]
     },
     "execution_count": 47,
     "metadata": {},
     "output_type": "execute_result"
    }
   ],
   "source": [
    "len(dictionary)"
   ]
  },
  {
   "cell_type": "code",
   "execution_count": 59,
   "metadata": {},
   "outputs": [
    {
     "data": {
      "text/plain": [
       "'ансворт'"
      ]
     },
     "execution_count": 59,
     "metadata": {},
     "output_type": "execute_result"
    }
   ],
   "source": [
    "dictionary[0]"
   ]
  },
  {
   "cell_type": "markdown",
   "metadata": {},
   "source": [
    "2. список преобразованных текстов (\"мешок слов\" или tf-idf)"
   ]
  },
  {
   "cell_type": "code",
   "execution_count": 50,
   "metadata": {},
   "outputs": [
    {
     "name": "stdout",
     "output_type": "stream",
     "text": [
      "CPU times: user 1min 44s, sys: 1min 25s, total: 3min 10s\n",
      "Wall time: 3min 41s\n"
     ]
    }
   ],
   "source": [
    "%%time\n",
    "corpus = [dictionary.doc2bow(doc) for doc in df.lemma_text_list]"
   ]
  },
  {
   "cell_type": "code",
   "execution_count": 82,
   "metadata": {},
   "outputs": [
    {
     "name": "stdout",
     "output_type": "stream",
     "text": [
      "[[(0, 2), (1, 2), (2, 1), (3, 1), (4, 1), (5, 1), (6, 2), (7, 1), (8, 1), (9, 1), (10, 2), (11, 1), (12, 1), (13, 1), (14, 1), (15, 1), (16, 1), (17, 1), (18, 3), (19, 1), (20, 1), (21, 2), (22, 1), (23, 1), (24, 1), (25, 1), (26, 1), (27, 1), (28, 1), (29, 1), (30, 3), (31, 1), (32, 1), (33, 1), (34, 1), (35, 1), (36, 2), (37, 1), (38, 1), (39, 1), (40, 1), (41, 1), (42, 1), (43, 1), (44, 1), (45, 2), (46, 3), (47, 1), (48, 1), (49, 1), (50, 1), (51, 1), (52, 1), (53, 1), (54, 1), (55, 1), (56, 1), (57, 3), (58, 1), (59, 1), (60, 1), (61, 1), (62, 1), (63, 1), (64, 1), (65, 1), (66, 1), (67, 1), (68, 1), (69, 1), (70, 1), (71, 1), (72, 1), (73, 1), (74, 1), (75, 1), (76, 1), (77, 1), (78, 1), (79, 1)]]\n"
     ]
    }
   ],
   "source": [
    "print(corpus[:1])"
   ]
  },
  {
   "cell_type": "code",
   "execution_count": 84,
   "metadata": {},
   "outputs": [
    {
     "name": "stdout",
     "output_type": "stream",
     "text": [
      "[[('ансворт', 2), ('британский', 2), ('верна', 1), ('видеть', 1), ('внутри', 1), ('вскоре', 1), ('вход', 2), ('вызволять', 1), ('глубокий', 1), ('грот', 1), ('дайвера', 2), ('день', 1), ('десять', 1), ('детский', 1), ('дождь', 1), ('живой', 1), ('завалить', 1), ('засунуть', 1), ('затопить', 3), ('заявить', 1), ('идея', 1), ('илона', 2), ('инцидент', 1), ('исчезновение', 1), ('июль', 1), ('июнь', 1), ('камень', 1), ('километр', 1), ('команда', 1), ('крутой', 1), ('маск', 3), ('маска', 1), ('место', 1), ('миллиардер', 1), ('мини-субмарина', 1), ('морпех', 1), ('назвать', 2), ('найти', 1), ('один', 1), ('операция', 1), ('оппонент', 1), ('ответ', 1), ('ответить', 1), ('отделять', 1), ('отметить', 1), ('педофил', 2), ('пещера', 3), ('пиар-ход', 1), ('план', 1), ('по-настоящему', 1), ('подлодка', 1), ('поздний', 1), ('пойти', 1), ('посоветовать', 1), ('пошлый', 1), ('пропасть', 1), ('раскритиковать', 1), ('ребёнок', 3), ('резка', 1), ('свобода', 1), ('свой', 1), ('сидеть', 1), ('сначала', 1), ('сообщать', 1), ('спасатель', 1), ('спасательный', 1), ('спасать', 1), ('спасение', 1), ('сухо', 1), ('таиланд', 1), ('тайский', 1), ('твит', 1), ('тренировка', 1), ('удалить', 1), ('участвовать', 1), ('участок', 1), ('форма', 1), ('футбольный', 1), ('четыре', 1), ('являться', 1)]]\n"
     ]
    }
   ],
   "source": [
    "# или можем посмотреть более человеческим взглядом\n",
    "print([[(dictionary[id], freq) for id, freq in cp] for cp in corpus[:1]])"
   ]
  },
  {
   "cell_type": "code",
   "execution_count": null,
   "metadata": {},
   "outputs": [],
   "source": []
  },
  {
   "cell_type": "code",
   "execution_count": null,
   "metadata": {},
   "outputs": [],
   "source": []
  }
 ],
 "metadata": {
  "kernelspec": {
   "display_name": "Python 3",
   "language": "python",
   "name": "python3"
  },
  "language_info": {
   "codemirror_mode": {
    "name": "ipython",
    "version": 3
   },
   "file_extension": ".py",
   "mimetype": "text/x-python",
   "name": "python",
   "nbconvert_exporter": "python",
   "pygments_lexer": "ipython3",
   "version": "3.6.7"
  }
 },
 "nbformat": 4,
 "nbformat_minor": 4
}
