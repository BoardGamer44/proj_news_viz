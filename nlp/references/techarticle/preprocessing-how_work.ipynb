{
 "cells": [
  {
   "cell_type": "code",
   "execution_count": 1,
   "metadata": {},
   "outputs": [],
   "source": [
    "# import os\n",
    "import sys\n",
    "import gc\n",
    "\n",
    "# прописываем нужный нам путь к проекту\n",
    "from pathlib import Path\n",
    "PATH = Path('../..') # proj_news_viz/nlp\n",
    "sys.path.append(str(PATH))\n",
    "\n",
    "import pandas as pd\n",
    "import numpy as np"
   ]
  },
  {
   "cell_type": "code",
   "execution_count": 2,
   "metadata": {},
   "outputs": [],
   "source": [
    "import warnings\n",
    "warnings.filterwarnings('ignore')\n",
    "\n",
    "%load_ext autoreload\n",
    "%autoreload 2\n",
    "\n",
    "# import matplotlib.pyplot as plt\n",
    "# plt.style.use('dark_background')\n",
    "%matplotlib inline"
   ]
  },
  {
   "cell_type": "markdown",
   "metadata": {},
   "source": [
    "---\n",
    "возьмем для примера датасет [lenta.ru](https://www.kaggle.com/yutkin/corpus-of-russian-news-articles-from-lenta)\n",
    "\n",
    "для примера взят датасет, скаченный по линку с [gitHub](https://github.com/yutkin/Lenta.Ru-News-Dataset/tree/v1.1)"
   ]
  },
  {
   "cell_type": "code",
   "execution_count": 3,
   "metadata": {},
   "outputs": [
    {
     "name": "stdout",
     "output_type": "stream",
     "text": [
      "(800975, 6)\n"
     ]
    },
    {
     "data": {
      "text/html": [
       "<div>\n",
       "<style scoped>\n",
       "    .dataframe tbody tr th:only-of-type {\n",
       "        vertical-align: middle;\n",
       "    }\n",
       "\n",
       "    .dataframe tbody tr th {\n",
       "        vertical-align: top;\n",
       "    }\n",
       "\n",
       "    .dataframe thead th {\n",
       "        text-align: right;\n",
       "    }\n",
       "</style>\n",
       "<table border=\"1\" class=\"dataframe\">\n",
       "  <thead>\n",
       "    <tr style=\"text-align: right;\">\n",
       "      <th></th>\n",
       "      <th>url</th>\n",
       "      <th>title</th>\n",
       "      <th>text</th>\n",
       "      <th>topic</th>\n",
       "      <th>tags</th>\n",
       "      <th>date</th>\n",
       "    </tr>\n",
       "  </thead>\n",
       "  <tbody>\n",
       "    <tr>\n",
       "      <th>368699</th>\n",
       "      <td>https://lenta.ru/news/2011/03/29/minimum/</td>\n",
       "      <td>Прожиточный минимум в России приблизился к шес...</td>\n",
       "      <td>Правительство России установило прожиточный ми...</td>\n",
       "      <td>Экономика</td>\n",
       "      <td>Все</td>\n",
       "      <td>2011/03/29</td>\n",
       "    </tr>\n",
       "    <tr>\n",
       "      <th>685412</th>\n",
       "      <td>https://lenta.ru/news/2017/10/02/tors/</td>\n",
       "      <td>В России появятся четыре новых территории опер...</td>\n",
       "      <td>Премьер-министр России Дмитрий Медведев подпис...</td>\n",
       "      <td>Экономика</td>\n",
       "      <td>Госэкономика</td>\n",
       "      <td>2017/10/02</td>\n",
       "    </tr>\n",
       "  </tbody>\n",
       "</table>\n",
       "</div>"
      ],
      "text/plain": [
       "                                              url  \\\n",
       "368699  https://lenta.ru/news/2011/03/29/minimum/   \n",
       "685412     https://lenta.ru/news/2017/10/02/tors/   \n",
       "\n",
       "                                                    title  \\\n",
       "368699  Прожиточный минимум в России приблизился к шес...   \n",
       "685412  В России появятся четыре новых территории опер...   \n",
       "\n",
       "                                                     text      topic  \\\n",
       "368699  Правительство России установило прожиточный ми...  Экономика   \n",
       "685412  Премьер-министр России Дмитрий Медведев подпис...  Экономика   \n",
       "\n",
       "                tags        date  \n",
       "368699           Все  2011/03/29  \n",
       "685412  Госэкономика  2017/10/02  "
      ]
     },
     "execution_count": 3,
     "metadata": {},
     "output_type": "execute_result"
    }
   ],
   "source": [
    "df = pd.read_csv(PATH / 'data/external/lenta-ru-news.csv')\n",
    "print(df.shape)\n",
    "df.sample(2)"
   ]
  },
  {
   "cell_type": "markdown",
   "metadata": {},
   "source": [
    "удалим пустые записи и дубликаты по признаку `text`"
   ]
  },
  {
   "cell_type": "code",
   "execution_count": 4,
   "metadata": {},
   "outputs": [
    {
     "name": "stdout",
     "output_type": "stream",
     "text": [
      "df.shape: (712654, 6)\n"
     ]
    },
    {
     "data": {
      "text/plain": [
       "url      0\n",
       "title    0\n",
       "text     0\n",
       "topic    0\n",
       "tags     0\n",
       "date     0\n",
       "dtype: int64"
      ]
     },
     "execution_count": 4,
     "metadata": {},
     "output_type": "execute_result"
    }
   ],
   "source": [
    "df.dropna(inplace=True)\n",
    "df.text.drop_duplicates(inplace=True)\n",
    "\n",
    "print(f'df.shape: {df.shape}')\n",
    "df.isnull().sum()"
   ]
  },
  {
   "cell_type": "code",
   "execution_count": 5,
   "metadata": {},
   "outputs": [
    {
     "data": {
      "text/plain": [
       "('1914/09/16', '2018/12/15')"
      ]
     },
     "execution_count": 5,
     "metadata": {},
     "output_type": "execute_result"
    }
   ],
   "source": [
    "df.date.min(),df.date.max()"
   ]
  },
  {
   "cell_type": "code",
   "execution_count": 6,
   "metadata": {},
   "outputs": [
    {
     "name": "stdout",
     "output_type": "stream",
     "text": [
      "уникальное к-ство разделов: 23\n"
     ]
    },
    {
     "data": {
      "text/plain": [
       "Россия               155004\n",
       "Мир                  136620\n",
       "Экономика             76423\n",
       "Спорт                 57894\n",
       "Культура              53530\n",
       "Наука и техника       53136\n",
       "Бывший СССР           51370\n",
       "Интернет и СМИ        44421\n",
       "Из жизни              27513\n",
       "Дом                   21734\n",
       "Силовые структуры     11223\n",
       "Ценности               7581\n",
       "Бизнес                 7375\n",
       "Путешествия            6370\n",
       "69-я параллель         1268\n",
       "Крым                    666\n",
       "Культпросвет            340\n",
       "Легпром                 114\n",
       "Библиотека               65\n",
       "Оружие                    3\n",
       "ЧМ-2014                   2\n",
       "Сочи                      1\n",
       "МедНовости                1\n",
       "Name: topic, dtype: int64"
      ]
     },
     "execution_count": 6,
     "metadata": {},
     "output_type": "execute_result"
    }
   ],
   "source": [
    "# посмотрим на к-ство записей по разделам\n",
    "print(f'уникальное к-ство разделов: {df.topic.unique().shape[0]}')\n",
    "df.topic.value_counts()"
   ]
  },
  {
   "cell_type": "code",
   "execution_count": 7,
   "metadata": {},
   "outputs": [
    {
     "data": {
      "text/plain": [
       "(479471, 6)"
      ]
     },
     "execution_count": 7,
     "metadata": {},
     "output_type": "execute_result"
    }
   ],
   "source": [
    "# выберем для примера топ-5 разделов\n",
    "top_topics = 5\n",
    "df_top = df[df.topic.isin(df.topic.value_counts().head(top_topics).index)]\n",
    "df_top.shape"
   ]
  },
  {
   "cell_type": "code",
   "execution_count": 8,
   "metadata": {},
   "outputs": [
    {
     "data": {
      "text/plain": [
       "('1999/08/31', '2018/12/15')"
      ]
     },
     "execution_count": 8,
     "metadata": {},
     "output_type": "execute_result"
    }
   ],
   "source": [
    "df_top.date.min(), df_top.date.max()"
   ]
  },
  {
   "cell_type": "markdown",
   "metadata": {},
   "source": [
    "---\n",
    "разделим данные для начала на train & test в соотношении 80/20 соответственно"
   ]
  },
  {
   "cell_type": "code",
   "execution_count": 9,
   "metadata": {},
   "outputs": [],
   "source": [
    "from sklearn.model_selection import train_test_split"
   ]
  },
  {
   "cell_type": "code",
   "execution_count": 10,
   "metadata": {},
   "outputs": [
    {
     "data": {
      "text/plain": [
       "((383576,), (95895,), (383576,), (95895,))"
      ]
     },
     "execution_count": 10,
     "metadata": {},
     "output_type": "execute_result"
    }
   ],
   "source": [
    "X_train, X_test, y_train, y_test = train_test_split(df_top.text,df_top.topic,\n",
    "                                                    test_size=0.2,\n",
    "                                                    stratify=df_top.topic,\n",
    "                                                    random_state=42)\n",
    "\n",
    "X_train.shape, X_test.shape, y_train.shape, y_test.shape"
   ]
  },
  {
   "cell_type": "code",
   "execution_count": 11,
   "metadata": {},
   "outputs": [
    {
     "data": {
      "text/plain": [
       "(0, 0)"
      ]
     },
     "execution_count": 11,
     "metadata": {},
     "output_type": "execute_result"
    }
   ],
   "source": [
    "# проверим на пустые значения\n",
    "X_train.isna().sum(), X_test.isna().sum()"
   ]
  },
  {
   "cell_type": "markdown",
   "metadata": {},
   "source": [
    "---\n",
    "## сделаем небольшое исследование, обучив модель с и без препроцессинга"
   ]
  },
  {
   "cell_type": "code",
   "execution_count": 12,
   "metadata": {},
   "outputs": [],
   "source": [
    "from sklearn.feature_extraction.text import CountVectorizer, TfidfVectorizer\n",
    "from sklearn.linear_model import LogisticRegression\n",
    "from sklearn.metrics import accuracy_score, classification_report, confusion_matrix"
   ]
  },
  {
   "cell_type": "code",
   "execution_count": 13,
   "metadata": {},
   "outputs": [],
   "source": [
    "# добавим самописный файл, для отображения топ частотный слов\n",
    "from news_viz.visualization.plot_frequency import plotFrequencyWords"
   ]
  },
  {
   "cell_type": "markdown",
   "metadata": {},
   "source": [
    "* ### без препроцессинга"
   ]
  },
  {
   "cell_type": "code",
   "execution_count": 14,
   "metadata": {},
   "outputs": [
    {
     "name": "stdout",
     "output_type": "stream",
     "text": [
      "CPU times: user 55.8 s, sys: 529 ms, total: 56.4 s\n",
      "Wall time: 56.4 s\n"
     ]
    }
   ],
   "source": [
    "%%time\n",
    "count_vect = CountVectorizer(min_df=0.1)\n",
    "\n",
    "# в данном примере обучим только на `X_train`\n",
    "# но ничего не мешает обучить и на `X_test`\n",
    "count_vect_train = count_vect.fit_transform(X_train)\n",
    "count_vect_test = count_vect.transform(X_test)"
   ]
  },
  {
   "cell_type": "code",
   "execution_count": 18,
   "metadata": {
    "scrolled": true
   },
   "outputs": [
    {
     "name": "stdout",
     "output_type": "stream",
     "text": [
      "размер корпуса: 103\n",
      "\n",
      "пример [:5]: [('на', 1330796), ('по', 809527), ('что', 770808), ('не', 539656), ('из', 404773)]\n"
     ]
    }
   ],
   "source": [
    "# распределение токенов\n",
    "vocab = {a: b for a, b in zip(count_vect.get_feature_names(), np.ravel(count_vect_train.sum(axis=0)))}\n",
    "vocab = sorted(vocab.items(), reverse=True, key = lambda kv:(kv[1], kv[0]))\n",
    "\n",
    "print(f'размер корпуса: {len(vocab)}')\n",
    "print(f'\\nпример [:5]: {vocab[:5]}')"
   ]
  },
  {
   "cell_type": "code",
   "execution_count": 19,
   "metadata": {},
   "outputs": [
    {
     "data": {
      "image/png": "[encoded data removed]",
      "text/plain": [
       "<Figure size 1440x720 with 1 Axes>"
      ]
     },
     "metadata": {},
     "output_type": "display_data"
    }
   ],
   "source": [
    "plotFrequencyWords(vocab = vocab,\n",
    "                   top_words = 30,\n",
    "                   plt_background = 'dark')"
   ]
  },
  {
   "cell_type": "code",
   "execution_count": 20,
   "metadata": {},
   "outputs": [
    {
     "name": "stdout",
     "output_type": "stream",
     "text": [
      "classification_report:\n",
      "              precision    recall  f1-score   support\n",
      "\n",
      "    Культура    0.42630   0.64805   0.51429     10706\n",
      "         Мир    0.71295   0.62846   0.66804     27324\n",
      "      Россия    0.74584   0.57847   0.65158     31001\n",
      "       Спорт    0.54014   0.72865   0.62039     11579\n",
      "   Экономика    0.65929   0.68453   0.67167     15285\n",
      "\n",
      "    accuracy                        0.63552     95895\n",
      "   macro avg    0.61690   0.65363   0.62519     95895\n",
      "weighted avg    0.66216   0.63552   0.64038     95895\n",
      "\n",
      "confusion_matrix:\n",
      "[[ 6938   892   811  1491   574]\n",
      " [ 3289 17172  3068  2216  1579]\n",
      " [ 3333  4329 17933  2575  2831]\n",
      " [ 1600   602   517  8437   423]\n",
      " [ 1115  1091  1715   901 10463]]\n",
      "CPU times: user 24 s, sys: 1.05 s, total: 25.1 s\n",
      "Wall time: 25.1 s\n"
     ]
    }
   ],
   "source": [
    "%%time\n",
    "\n",
    "lr = LogisticRegression(class_weight='balanced', random_state=42)\n",
    "lr.fit(count_vect_train, y_train)\n",
    "\n",
    "pred_lr = lr.predict(count_vect_test)\n",
    "print(f'classification_report:\\n{classification_report(y_test, pred_lr, digits=5)}')\n",
    "print(f'confusion_matrix:\\n{confusion_matrix(y_test, pred_lr)}')"
   ]
  },
  {
   "cell_type": "code",
   "execution_count": null,
   "metadata": {},
   "outputs": [],
   "source": [
    "# from sklearn.pipeline import Pipeline\n",
    "# \n",
    "# pipe = Pipeline([('vec', CountVectorizer(min_df=0.1)),\n",
    "#                 ('clf', LogisticRegression(class_weight='balanced', random_state=42))])\n",
    "# \n",
    "# pipe.fit(X_train,y_train)\n",
    "# \n",
    "# pred_lr = pipe.predict(X_test)\n",
    "# print(f'classification_report:\\n{classification_report(y_test, pred_lr, digits=5)}')\n",
    "# print(f'\\nconfusion_matrix:\\n{confusion_matrix(y_test, pred_lr)}')"
   ]
  },
  {
   "cell_type": "markdown",
   "metadata": {},
   "source": [
    "* ### c препроцессингом"
   ]
  },
  {
   "cell_type": "code",
   "execution_count": 21,
   "metadata": {},
   "outputs": [],
   "source": [
    "from news_viz.data.preprocessing_tools import clean_text, lemmatize\n",
    "# pip install pymorphy2"
   ]
  },
  {
   "cell_type": "code",
   "execution_count": 22,
   "metadata": {},
   "outputs": [],
   "source": [
    "# импортируем нужные нам библиотеки для мультипроцессинга\n",
    "# создаем соответствующую для этого функцию\n",
    "import multiprocessing as mp\n",
    "from multiprocessing import Pool\n",
    "\n",
    "num_cores = mp.cpu_count() # number of cores on your machine; 20\n",
    "num_partitions = num_cores * 2 # number of partitions to split dataframe\n",
    "\n",
    "def parallelize_dataframe(df, func):\n",
    "    df_split = np.array_split(df, num_partitions)\n",
    "    pool = Pool(num_cores)\n",
    "    df = pd.concat(pool.map(func, df_split))\n",
    "    pool.close()\n",
    "    pool.join()\n",
    "    return df"
   ]
  },
  {
   "cell_type": "code",
   "execution_count": 23,
   "metadata": {},
   "outputs": [],
   "source": [
    "train = pd.DataFrame(X_train)\n",
    "train['target'] = pd.DataFrame(y_train)\n",
    "\n",
    "test = pd.DataFrame(X_test)\n",
    "test['target'] = pd.DataFrame(y_test)"
   ]
  },
  {
   "cell_type": "markdown",
   "metadata": {},
   "source": [
    "* оставим только слова"
   ]
  },
  {
   "cell_type": "code",
   "execution_count": 24,
   "metadata": {},
   "outputs": [],
   "source": [
    "def multiply_clean_text(data):\n",
    "    data['clean_text'] = data['text'].apply(clean_text)\n",
    "    return data"
   ]
  },
  {
   "cell_type": "code",
   "execution_count": 25,
   "metadata": {},
   "outputs": [
    {
     "name": "stdout",
     "output_type": "stream",
     "text": [
      "clean train text & drop missing rows ...\n",
      "clean test text & drop missing rows ...\n",
      "CPU times: user 9.01 s, sys: 7.88 s, total: 16.9 s\n",
      "Wall time: 18.1 s\n"
     ]
    },
    {
     "data": {
      "text/plain": [
       "5893"
      ]
     },
     "execution_count": 25,
     "metadata": {},
     "output_type": "execute_result"
    }
   ],
   "source": [
    "%%time\n",
    "\n",
    "print('clean train text & drop missing rows ...')\n",
    "train = parallelize_dataframe(train, multiply_clean_text)\n",
    "train = train[train.clean_text != 'TOREMOVE']\n",
    "\n",
    "print('clean test text & drop missing rows ...')\n",
    "test = parallelize_dataframe(test, multiply_clean_text)\n",
    "test = test[test.clean_text != 'TOREMOVE']\n",
    "\n",
    "gc.collect()"
   ]
  },
  {
   "cell_type": "markdown",
   "metadata": {},
   "source": [
    "* лемматизируем и удалим заодно стоп-слова"
   ]
  },
  {
   "cell_type": "code",
   "execution_count": 26,
   "metadata": {},
   "outputs": [],
   "source": [
    "def multiply_lemmatization(data):\n",
    "    data['lemma_text'] = data['clean_text'].apply(lemmatize)\n",
    "    return data"
   ]
  },
  {
   "cell_type": "code",
   "execution_count": 27,
   "metadata": {},
   "outputs": [
    {
     "name": "stdout",
     "output_type": "stream",
     "text": [
      "lemmatization train ...\n",
      "lemmatization test ...\n",
      "CPU times: user 15.2 s, sys: 13.5 s, total: 28.6 s\n",
      "Wall time: 8min 17s\n"
     ]
    },
    {
     "data": {
      "text/plain": [
       "0"
      ]
     },
     "execution_count": 27,
     "metadata": {},
     "output_type": "execute_result"
    }
   ],
   "source": [
    "%%time\n",
    "\n",
    "print('lemmatization train ...')\n",
    "train = parallelize_dataframe(train, multiply_lemmatization)\n",
    "train = train[train.lemma_text != 'TOREMOVE']\n",
    "\n",
    "gc.collect()\n",
    "\n",
    "print('lemmatization test ...')\n",
    "test = parallelize_dataframe(test, multiply_lemmatization)\n",
    "test = test[test.lemma_text != 'TOREMOVE']\n",
    "\n",
    "gc.collect()"
   ]
  },
  {
   "cell_type": "code",
   "execution_count": 30,
   "metadata": {},
   "outputs": [
    {
     "name": "stdout",
     "output_type": "stream",
     "text": [
      "0 0\n",
      "(382874, 4) (95685, 4)\n"
     ]
    },
    {
     "data": {
      "text/html": [
       "<div>\n",
       "<style scoped>\n",
       "    .dataframe tbody tr th:only-of-type {\n",
       "        vertical-align: middle;\n",
       "    }\n",
       "\n",
       "    .dataframe tbody tr th {\n",
       "        vertical-align: top;\n",
       "    }\n",
       "\n",
       "    .dataframe thead th {\n",
       "        text-align: right;\n",
       "    }\n",
       "</style>\n",
       "<table border=\"1\" class=\"dataframe\">\n",
       "  <thead>\n",
       "    <tr style=\"text-align: right;\">\n",
       "      <th></th>\n",
       "      <th>text</th>\n",
       "      <th>target</th>\n",
       "      <th>clean_text</th>\n",
       "      <th>lemma_text</th>\n",
       "    </tr>\n",
       "  </thead>\n",
       "  <tbody>\n",
       "    <tr>\n",
       "      <th>144608</th>\n",
       "      <td>Пожар в учебном корпусе Московского Государств...</td>\n",
       "      <td>Россия</td>\n",
       "      <td>пожар учебном корпусе московского государствен...</td>\n",
       "      <td>пожар учебный корпус московский государственны...</td>\n",
       "    </tr>\n",
       "    <tr>\n",
       "      <th>645470</th>\n",
       "      <td>Защитник амстердамского «Аякса» Джоэл Велтман ...</td>\n",
       "      <td>Спорт</td>\n",
       "      <td>защитник амстердамского аякса джоэл велтман хи...</td>\n",
       "      <td>защитник амстердамский аякса джоэл велтман хит...</td>\n",
       "    </tr>\n",
       "  </tbody>\n",
       "</table>\n",
       "</div>"
      ],
      "text/plain": [
       "                                                     text  target  \\\n",
       "144608  Пожар в учебном корпусе Московского Государств...  Россия   \n",
       "645470  Защитник амстердамского «Аякса» Джоэл Велтман ...   Спорт   \n",
       "\n",
       "                                               clean_text  \\\n",
       "144608  пожар учебном корпусе московского государствен...   \n",
       "645470  защитник амстердамского аякса джоэл велтман хи...   \n",
       "\n",
       "                                               lemma_text  \n",
       "144608  пожар учебный корпус московский государственны...  \n",
       "645470  защитник амстердамский аякса джоэл велтман хит...  "
      ]
     },
     "execution_count": 30,
     "metadata": {},
     "output_type": "execute_result"
    }
   ],
   "source": [
    "print(train.lemma_text.isnull().sum() , test.lemma_text.isnull().sum())\n",
    "\n",
    "print(train.shape, test.shape)\n",
    "\n",
    "train.sample(2)"
   ]
  },
  {
   "cell_type": "markdown",
   "metadata": {},
   "source": [
    "---\n",
    "_на случай, если не хватает памяти_"
   ]
  },
  {
   "cell_type": "code",
   "execution_count": null,
   "metadata": {},
   "outputs": [],
   "source": [
    "train[['lemma_text','target']].to_csv(PATH / 'data/processed/news_lenta-lemma_text-train.csv.gz', compression='gzip', index=False)\n",
    "test[['lemma_text','target']].to_csv(PATH / 'data/processed/news_lenta-lemma_text-test.csv.gz', compression='gzip', index=False)\n",
    "# del train, test"
   ]
  },
  {
   "cell_type": "code",
   "execution_count": null,
   "metadata": {},
   "outputs": [],
   "source": [
    "train = pd.read_csv(PATH / 'data/processed/news_lenta-lemma_text-train.csv.gz', compression='gzip')\n",
    "test = pd.read_csv(PATH / 'data/processed/news_lenta-lemma_text-test.csv.gz', compression='gzip')"
   ]
  },
  {
   "cell_type": "code",
   "execution_count": null,
   "metadata": {},
   "outputs": [],
   "source": [
    "print(train.shape, test.shape)\n",
    "train.sample(2)"
   ]
  },
  {
   "cell_type": "markdown",
   "metadata": {},
   "source": [
    "---\n",
    "* обучаем модель на очищенных данных"
   ]
  },
  {
   "cell_type": "code",
   "execution_count": 31,
   "metadata": {},
   "outputs": [],
   "source": [
    "X_train = train.lemma_text\n",
    "y_train = train.target\n",
    "\n",
    "X_test  = test.lemma_text\n",
    "y_test = test.target"
   ]
  },
  {
   "cell_type": "code",
   "execution_count": 32,
   "metadata": {},
   "outputs": [
    {
     "name": "stdout",
     "output_type": "stream",
     "text": [
      "CPU times: user 33.9 s, sys: 501 ms, total: 34.4 s\n",
      "Wall time: 34.4 s\n"
     ]
    }
   ],
   "source": [
    "%%time\n",
    "count_vect = CountVectorizer(min_df=0.1)\n",
    "\n",
    "count_vect_train = count_vect.fit_transform(X_train)\n",
    "count_vect_test = count_vect.transform(X_test)"
   ]
  },
  {
   "cell_type": "code",
   "execution_count": 34,
   "metadata": {},
   "outputs": [
    {
     "name": "stdout",
     "output_type": "stream",
     "text": [
      "размер корпуса: 68\n",
      "\n",
      "пример [:5]: [('сообщать', 235331), ('россия', 231111), ('заявить', 170445), ('российский', 150766), ('страна', 146020)]\n"
     ]
    }
   ],
   "source": [
    "# распределение токенов\n",
    "vocab = {a: b for a, b in zip(count_vect.get_feature_names(), np.ravel(count_vect_train.sum(axis=0)))}\n",
    "vocab = sorted(vocab.items(), reverse=True, key = lambda kv:(kv[1], kv[0]))\n",
    "\n",
    "print(f'размер корпуса: {len(vocab)}')\n",
    "print(f'\\nпример [:5]: {vocab[:5]}')"
   ]
  },
  {
   "cell_type": "code",
   "execution_count": 35,
   "metadata": {},
   "outputs": [
    {
     "data": {
      "image/png": "[encoded data removed]",
      "text/plain": [
       "<Figure size 1440x720 with 1 Axes>"
      ]
     },
     "metadata": {},
     "output_type": "display_data"
    }
   ],
   "source": [
    "plotFrequencyWords(vocab = vocab,\n",
    "                   top_words = 22,\n",
    "                   plt_background = 'dark')"
   ]
  },
  {
   "cell_type": "code",
   "execution_count": 36,
   "metadata": {},
   "outputs": [
    {
     "name": "stdout",
     "output_type": "stream",
     "text": [
      "classification_report:\n",
      "              precision    recall  f1-score   support\n",
      "\n",
      "    Культура    0.42127   0.57251   0.48538     10702\n",
      "         Мир    0.73903   0.65535   0.69468     27245\n",
      "      Россия    0.77466   0.62049   0.68906     30898\n",
      "       Спорт    0.50885   0.72484   0.59794     11575\n",
      "   Экономика    0.65015   0.67055   0.66020     15265\n",
      "\n",
      "    accuracy                        0.64566     95685\n",
      "   macro avg    0.61879   0.64875   0.62545     95685\n",
      "weighted avg    0.67297   0.64566   0.65225     95685\n",
      "\n",
      "confusion_matrix:\n",
      "[[ 6127   772   835  2302   666]\n",
      " [ 2566 17855  2662  2196  1966]\n",
      " [ 2887  3718 19172  2552  2569]\n",
      " [ 1766   587   525  8390   307]\n",
      " [ 1198  1228  1555  1048 10236]]\n",
      "CPU times: user 20.7 s, sys: 3.53 ms, total: 20.7 s\n",
      "Wall time: 20.7 s\n"
     ]
    }
   ],
   "source": [
    "%%time\n",
    "\n",
    "lr = LogisticRegression(class_weight='balanced', random_state=42)\n",
    "lr.fit(count_vect_train, y_train)\n",
    "\n",
    "pred_lr = lr.predict(count_vect_test)\n",
    "print(f'classification_report:\\n{classification_report(y_test, pred_lr, digits=5)}')\n",
    "print(f'confusion_matrix:\\n{confusion_matrix(y_test, pred_lr)}')"
   ]
  }
 ],
 "metadata": {
  "kernelspec": {
   "display_name": "Python 3",
   "language": "python",
   "name": "python3"
  },
  "language_info": {
   "codemirror_mode": {
    "name": "ipython",
    "version": 3
   },
   "file_extension": ".py",
   "mimetype": "text/x-python",
   "name": "python",
   "nbconvert_exporter": "python",
   "pygments_lexer": "ipython3",
   "version": "3.7.5"
  }
 },
 "nbformat": 4,
 "nbformat_minor": 4
}
