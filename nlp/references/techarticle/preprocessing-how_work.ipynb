{
 "cells": [
  {
   "cell_type": "code",
   "execution_count": 1,
   "metadata": {},
   "outputs": [],
   "source": [
    "import os\n",
    "import sys\n",
    "import gc\n",
    "\n",
    "# прописываем нужный нам путь к проекту\n",
    "from pathlib import Path\n",
    "PATH = Path('/home/vtrokhymenko/git/proj_news_viz/nlp/')\n",
    "sys.path.append(str(PATH))\n",
    "\n",
    "import warnings\n",
    "warnings.filterwarnings('ignore')\n",
    "\n",
    "%load_ext autoreload\n",
    "%autoreload 2"
   ]
  },
  {
   "cell_type": "code",
   "execution_count": 2,
   "metadata": {},
   "outputs": [],
   "source": [
    "import pandas as pd\n",
    "import numpy as np\n",
    "\n",
    "import matplotlib.pyplot as plt\n",
    "%matplotlib inline"
   ]
  },
  {
   "cell_type": "markdown",
   "metadata": {},
   "source": [
    "---\n",
    "возьмем для примера датасет [lenta.ru](https://www.kaggle.com/yutkin/corpus-of-russian-news-articles-from-lenta)\n",
    "\n",
    "для примера взят датасет, скаченный по линку с [gitHub](https://github.com/yutkin/Lenta.Ru-News-Dataset/tree/v1.1)"
   ]
  },
  {
   "cell_type": "code",
   "execution_count": 3,
   "metadata": {},
   "outputs": [
    {
     "name": "stdout",
     "output_type": "stream",
     "text": [
      "(800975, 6)\n"
     ]
    },
    {
     "data": {
      "text/html": [
       "<div>\n",
       "<style scoped>\n",
       "    .dataframe tbody tr th:only-of-type {\n",
       "        vertical-align: middle;\n",
       "    }\n",
       "\n",
       "    .dataframe tbody tr th {\n",
       "        vertical-align: top;\n",
       "    }\n",
       "\n",
       "    .dataframe thead th {\n",
       "        text-align: right;\n",
       "    }\n",
       "</style>\n",
       "<table border=\"1\" class=\"dataframe\">\n",
       "  <thead>\n",
       "    <tr style=\"text-align: right;\">\n",
       "      <th></th>\n",
       "      <th>url</th>\n",
       "      <th>title</th>\n",
       "      <th>text</th>\n",
       "      <th>topic</th>\n",
       "      <th>tags</th>\n",
       "      <th>date</th>\n",
       "    </tr>\n",
       "  </thead>\n",
       "  <tbody>\n",
       "    <tr>\n",
       "      <th>189609</th>\n",
       "      <td>https://lenta.ru/news/2007/05/18/fas/</td>\n",
       "      <td>Пивовары пожаловались антимонопольщикам на \"Ро...</td>\n",
       "      <td>Федеральная антимонопольная служба (ФАС) возбу...</td>\n",
       "      <td>Экономика</td>\n",
       "      <td>Все</td>\n",
       "      <td>2007/05/18</td>\n",
       "    </tr>\n",
       "    <tr>\n",
       "      <th>736181</th>\n",
       "      <td>https://lenta.ru/news/2018/11/23/lottery/</td>\n",
       "      <td>Счастливые числа помогли старушке дважды выигр...</td>\n",
       "      <td>Любительница лотерей из американского штата Ми...</td>\n",
       "      <td>Из жизни</td>\n",
       "      <td>Люди</td>\n",
       "      <td>2018/11/23</td>\n",
       "    </tr>\n",
       "  </tbody>\n",
       "</table>\n",
       "</div>"
      ],
      "text/plain": [
       "                                              url  \\\n",
       "189609      https://lenta.ru/news/2007/05/18/fas/   \n",
       "736181  https://lenta.ru/news/2018/11/23/lottery/   \n",
       "\n",
       "                                                    title  \\\n",
       "189609  Пивовары пожаловались антимонопольщикам на \"Ро...   \n",
       "736181  Счастливые числа помогли старушке дважды выигр...   \n",
       "\n",
       "                                                     text      topic  tags  \\\n",
       "189609  Федеральная антимонопольная служба (ФАС) возбу...  Экономика   Все   \n",
       "736181  Любительница лотерей из американского штата Ми...   Из жизни  Люди   \n",
       "\n",
       "              date  \n",
       "189609  2007/05/18  \n",
       "736181  2018/11/23  "
      ]
     },
     "execution_count": 3,
     "metadata": {},
     "output_type": "execute_result"
    }
   ],
   "source": [
    "df = pd.read_csv(PATH / 'data/external/lenta-ru-news.csv')\n",
    "print(df.shape)\n",
    "df.sample(2)"
   ]
  },
  {
   "cell_type": "markdown",
   "metadata": {},
   "source": [
    "немного обработаем датасет"
   ]
  },
  {
   "cell_type": "code",
   "execution_count": 4,
   "metadata": {},
   "outputs": [
    {
     "name": "stdout",
     "output_type": "stream",
     "text": [
      "df.shape: (712654, 6)\n"
     ]
    },
    {
     "data": {
      "text/plain": [
       "url      0\n",
       "title    0\n",
       "text     0\n",
       "topic    0\n",
       "tags     0\n",
       "date     0\n",
       "dtype: int64"
      ]
     },
     "execution_count": 4,
     "metadata": {},
     "output_type": "execute_result"
    }
   ],
   "source": [
    "# удалим пустые записи и дубликаты по признаку `text`\n",
    "df.dropna(inplace=True)\n",
    "df.text.drop_duplicates(inplace=True)\n",
    "\n",
    "print(f'df.shape: {df.shape}')\n",
    "df.isnull().sum()"
   ]
  },
  {
   "cell_type": "code",
   "execution_count": 5,
   "metadata": {},
   "outputs": [
    {
     "name": "stdout",
     "output_type": "stream",
     "text": [
      "уникальное к-ство разделов: 23\n",
      "\n",
      "их распределение:\n",
      "Россия               155004\n",
      "Мир                  136620\n",
      "Экономика             76423\n",
      "Спорт                 57894\n",
      "Культура              53530\n",
      "Наука и техника       53136\n",
      "Бывший СССР           51370\n",
      "Интернет и СМИ        44421\n",
      "Из жизни              27513\n",
      "Дом                   21734\n",
      "Силовые структуры     11223\n",
      "Ценности               7581\n",
      "Бизнес                 7375\n",
      "Путешествия            6370\n",
      "69-я параллель         1268\n",
      "Крым                    666\n",
      "Культпросвет            340\n",
      "Легпром                 114\n",
      "Библиотека               65\n",
      "Оружие                    3\n",
      "ЧМ-2014                   2\n",
      "Сочи                      1\n",
      "МедНовости                1\n",
      "Name: topic, dtype: int64\n"
     ]
    }
   ],
   "source": [
    "# посмотрим на к-ство записей по разделам\n",
    "print(f'уникальное к-ство разделов: {df.topic.unique().shape[0]}')\n",
    "print(f'\\nих распределение:\\n{df.topic.value_counts()}')"
   ]
  },
  {
   "cell_type": "code",
   "execution_count": 7,
   "metadata": {},
   "outputs": [
    {
     "data": {
      "text/plain": [
       "(479471, 6)"
      ]
     },
     "execution_count": 7,
     "metadata": {},
     "output_type": "execute_result"
    }
   ],
   "source": [
    "# выберем для примера топ-10 разделов\n",
    "top_topics = 5\n",
    "df_top = df[df.topic.isin(df.topic.value_counts().head(top_topics).index)]\n",
    "df_top.shape"
   ]
  },
  {
   "cell_type": "markdown",
   "metadata": {},
   "source": [
    "---\n",
    "разделим данные для начала на train & test в соотношении 80/20 соответственно"
   ]
  },
  {
   "cell_type": "code",
   "execution_count": 8,
   "metadata": {},
   "outputs": [],
   "source": [
    "from sklearn.model_selection import train_test_split"
   ]
  },
  {
   "cell_type": "code",
   "execution_count": 9,
   "metadata": {},
   "outputs": [
    {
     "data": {
      "text/plain": [
       "((383576,), (95895,), (383576,), (95895,))"
      ]
     },
     "execution_count": 9,
     "metadata": {},
     "output_type": "execute_result"
    }
   ],
   "source": [
    "X_train, X_test, y_train, y_test = train_test_split(df_top.text,df_top.topic,\n",
    "                                                    test_size=0.2,\n",
    "                                                    stratify=df_top.topic,\n",
    "                                                    random_state=42)\n",
    "\n",
    "X_train.shape, X_test.shape, y_train.shape, y_test.shape"
   ]
  },
  {
   "cell_type": "code",
   "execution_count": 10,
   "metadata": {},
   "outputs": [
    {
     "data": {
      "text/plain": [
       "(0, 0)"
      ]
     },
     "execution_count": 10,
     "metadata": {},
     "output_type": "execute_result"
    }
   ],
   "source": [
    "X_train.isna().sum(), X_test.isna().sum()"
   ]
  },
  {
   "cell_type": "markdown",
   "metadata": {},
   "source": [
    "---\n",
    "## сделаем небольшое исследование, обучив модель с и без препроцессинга"
   ]
  },
  {
   "cell_type": "code",
   "execution_count": 11,
   "metadata": {},
   "outputs": [],
   "source": [
    "from sklearn.feature_extraction.text import CountVectorizer, TfidfVectorizer\n",
    "from sklearn.linear_model import LogisticRegression\n",
    "from sklearn.metrics import accuracy_score, classification_report, confusion_matrix"
   ]
  },
  {
   "cell_type": "code",
   "execution_count": 12,
   "metadata": {},
   "outputs": [],
   "source": [
    "def plot_frequency(vocab: list=None, top_words: int=30) -> None:\n",
    "    '''\n",
    "    plot token frequency\n",
    "    \n",
    "    Parameters\n",
    "    ----------\n",
    "        vocab: list\n",
    "            list tuples words with them frequency\n",
    "            like `[('на', 1330966), ... ]`\n",
    "            \n",
    "        top_words: int (defauld=30)\n",
    "            enter top words to plot\n",
    "    '''\n",
    "    \n",
    "    x, y = [], []\n",
    "    for key, val in vocab[:top_words]:\n",
    "        x.append(key)\n",
    "        y.append(val)\n",
    "        \n",
    "    plt.figure(figsize=(20,10), )\n",
    "    plt.bar(x,y)\n",
    "    plt.title(f'топ-{top_words} частотных слов')\n",
    "    plt.xlabel('слова', horizontalalignment='center')\n",
    "    plt.ylabel('частотность')\n",
    "    "
   ]
  },
  {
   "cell_type": "markdown",
   "metadata": {},
   "source": [
    "* ### без препроцессинга"
   ]
  },
  {
   "cell_type": "code",
   "execution_count": 13,
   "metadata": {},
   "outputs": [
    {
     "name": "stdout",
     "output_type": "stream",
     "text": [
      "CPU times: user 56.3 s, sys: 524 ms, total: 56.9 s\n",
      "Wall time: 56.9 s\n"
     ]
    }
   ],
   "source": [
    "%%time\n",
    "count_vect = CountVectorizer(min_df=0.1)\n",
    "\n",
    "# в данном примере обучим только на `X_train`\n",
    "# но ничего не мешает обучить и на `X_test`\n",
    "count_vect_train = count_vect.fit_transform(X_train)\n",
    "count_vect_test = count_vect.transform(X_test)"
   ]
  },
  {
   "cell_type": "code",
   "execution_count": 14,
   "metadata": {
    "scrolled": true
   },
   "outputs": [
    {
     "data": {
      "text/plain": [
       "[('на', 1330796),\n",
       " ('по', 809527),\n",
       " ('что', 770808),\n",
       " ('не', 539656),\n",
       " ('из', 404773),\n",
       " ('за', 345749),\n",
       " ('года', 304040),\n",
       " ('как', 294710),\n",
       " ('его', 237194),\n",
       " ('он', 232988)]"
      ]
     },
     "execution_count": 14,
     "metadata": {},
     "output_type": "execute_result"
    }
   ],
   "source": [
    "# распределение токенов\n",
    "vocab = {a: b for a, b in zip(count_vect.get_feature_names(), np.ravel(count_vect_train.sum(axis=0)))}\n",
    "vocab = sorted(vocab.items(), reverse=True, key = lambda kv:(kv[1], kv[0]))\n",
    "vocab[:10]"
   ]
  },
  {
   "cell_type": "code",
   "execution_count": 15,
   "metadata": {},
   "outputs": [
    {
     "data": {
      "image/png": "[encoded data removed]",
      "text/plain": [
       "<Figure size 1440x720 with 1 Axes>"
      ]
     },
     "metadata": {
      "needs_background": "light"
     },
     "output_type": "display_data"
    }
   ],
   "source": [
    "plot_frequency(vocab, 30)"
   ]
  },
  {
   "cell_type": "code",
   "execution_count": 16,
   "metadata": {},
   "outputs": [
    {
     "name": "stdout",
     "output_type": "stream",
     "text": [
      "classification_report:\n",
      "              precision    recall  f1-score   support\n",
      "\n",
      "    Культура    0.42630   0.64805   0.51429     10706\n",
      "         Мир    0.71295   0.62846   0.66804     27324\n",
      "      Россия    0.74584   0.57847   0.65158     31001\n",
      "       Спорт    0.54014   0.72865   0.62039     11579\n",
      "   Экономика    0.65929   0.68453   0.67167     15285\n",
      "\n",
      "    accuracy                        0.63552     95895\n",
      "   macro avg    0.61690   0.65363   0.62519     95895\n",
      "weighted avg    0.66216   0.63552   0.64038     95895\n",
      "\n",
      "\n",
      "confusion_matrix:\n",
      "[[ 6938   892   811  1491   574]\n",
      " [ 3289 17172  3068  2216  1579]\n",
      " [ 3333  4329 17933  2575  2831]\n",
      " [ 1600   602   517  8437   423]\n",
      " [ 1115  1091  1715   901 10463]]\n",
      "CPU times: user 24.5 s, sys: 887 ms, total: 25.4 s\n",
      "Wall time: 25.4 s\n"
     ]
    }
   ],
   "source": [
    "%%time\n",
    "\n",
    "lr = LogisticRegression(class_weight='balanced', random_state=42)\n",
    "lr.fit(count_vect_train, y_train)\n",
    "\n",
    "pred_lr = lr.predict(count_vect_test)\n",
    "print(f'classification_report:\\n{classification_report(y_test, pred_lr, digits=5)}')\n",
    "print(f'\\nconfusion_matrix:\\n{confusion_matrix(y_test, pred_lr)}')"
   ]
  },
  {
   "cell_type": "code",
   "execution_count": 17,
   "metadata": {},
   "outputs": [],
   "source": [
    "# from sklearn.pipeline import Pipeline\n",
    "# \n",
    "# pipe = Pipeline([('vec', CountVectorizer(min_df=0.1)),\n",
    "#                 ('clf', LogisticRegression(class_weight='balanced', random_state=42))])\n",
    "# \n",
    "# pipe.fit(X_train,y_train)\n",
    "# \n",
    "# pred_lr = pipe.predict(X_test)\n",
    "# print(f'classification_report:\\n{classification_report(y_test, pred_lr, digits=5)}')\n",
    "# print(f'\\nconfusion_matrix:\\n{confusion_matrix(y_test, pred_lr)}')"
   ]
  },
  {
   "cell_type": "markdown",
   "metadata": {},
   "source": [
    "* ### c препроцессингом"
   ]
  },
  {
   "cell_type": "code",
   "execution_count": 18,
   "metadata": {},
   "outputs": [],
   "source": [
    "from news_viz.data.preprocessing_tools import clean_text, lemmatize\n",
    "# pip install pymorphy2"
   ]
  },
  {
   "cell_type": "code",
   "execution_count": 19,
   "metadata": {},
   "outputs": [],
   "source": [
    "# импортируем нужные нам библиотеки для мультипроцессинга\n",
    "# создвем соответствующую для этого функцию\n",
    "import multiprocessing as mp\n",
    "from multiprocessing import Pool\n",
    "\n",
    "num_cores = mp.cpu_count() # number of cores on your machine; 20\n",
    "num_partitions = num_cores * 2 # number of partitions to split dataframe\n",
    "\n",
    "def parallelize_dataframe(df, func):\n",
    "    df_split = np.array_split(df, num_partitions)\n",
    "    pool = Pool(num_cores)\n",
    "    df = pd.concat(pool.map(func, df_split))\n",
    "    pool.close()\n",
    "    pool.join()\n",
    "    return df"
   ]
  },
  {
   "cell_type": "code",
   "execution_count": 20,
   "metadata": {},
   "outputs": [],
   "source": [
    "train = pd.DataFrame(X_train)\n",
    "train['target'] = pd.DataFrame(y_train)\n",
    "\n",
    "test = pd.DataFrame(X_test)\n",
    "test['target'] = pd.DataFrame(y_test)"
   ]
  },
  {
   "cell_type": "markdown",
   "metadata": {},
   "source": [
    "* оставим только слова"
   ]
  },
  {
   "cell_type": "code",
   "execution_count": 21,
   "metadata": {},
   "outputs": [],
   "source": [
    "def multiply_clean_text(data):\n",
    "    data['clean_text'] = data['text'].apply(clean_text)\n",
    "    return data"
   ]
  },
  {
   "cell_type": "code",
   "execution_count": 22,
   "metadata": {},
   "outputs": [
    {
     "name": "stdout",
     "output_type": "stream",
     "text": [
      "clean train text & drop missing rows ...\n",
      "clean test text & drop missing rows ...\n",
      "CPU times: user 8.81 s, sys: 7.73 s, total: 16.5 s\n",
      "Wall time: 17.6 s\n"
     ]
    },
    {
     "data": {
      "text/plain": [
       "5634"
      ]
     },
     "execution_count": 22,
     "metadata": {},
     "output_type": "execute_result"
    }
   ],
   "source": [
    "%%time\n",
    "\n",
    "print('clean train text & drop missing rows ...')\n",
    "train = parallelize_dataframe(train, multiply_clean_text)\n",
    "train = train[train.clean_text!=9999]\n",
    "\n",
    "print('clean test text & drop missing rows ...')\n",
    "test = parallelize_dataframe(test, multiply_clean_text)\n",
    "test = test[test.clean_text!=9999]\n",
    "\n",
    "gc.collect()"
   ]
  },
  {
   "cell_type": "markdown",
   "metadata": {},
   "source": [
    "* лемматизируем и удалим заодно стоп-слова"
   ]
  },
  {
   "cell_type": "code",
   "execution_count": 23,
   "metadata": {},
   "outputs": [],
   "source": [
    "def multiply_lemmatization(data):\n",
    "    data['lemma_text'] = data['clean_text'].apply(lemmatize)\n",
    "    return data"
   ]
  },
  {
   "cell_type": "code",
   "execution_count": 24,
   "metadata": {},
   "outputs": [
    {
     "name": "stdout",
     "output_type": "stream",
     "text": [
      "lemmatization train ...\n",
      "lemmatization test ...\n",
      "CPU times: user 15.7 s, sys: 13.5 s, total: 29.2 s\n",
      "Wall time: 8min 4s\n"
     ]
    },
    {
     "data": {
      "text/plain": [
       "0"
      ]
     },
     "execution_count": 24,
     "metadata": {},
     "output_type": "execute_result"
    }
   ],
   "source": [
    "%%time\n",
    "\n",
    "print('lemmatization train ...')\n",
    "train = parallelize_dataframe(train, multiply_lemmatization)\n",
    "train = train[train.lemma_text!=9999]\n",
    "\n",
    "gc.collect()\n",
    "\n",
    "print('lemmatization test ...')\n",
    "test = parallelize_dataframe(test, multiply_lemmatization)\n",
    "test = test[test.lemma_text!=9999]\n",
    "\n",
    "gc.collect()"
   ]
  },
  {
   "cell_type": "code",
   "execution_count": 25,
   "metadata": {},
   "outputs": [
    {
     "name": "stdout",
     "output_type": "stream",
     "text": [
      "(382876, 4) (95686, 4)\n"
     ]
    },
    {
     "data": {
      "text/html": [
       "<div>\n",
       "<style scoped>\n",
       "    .dataframe tbody tr th:only-of-type {\n",
       "        vertical-align: middle;\n",
       "    }\n",
       "\n",
       "    .dataframe tbody tr th {\n",
       "        vertical-align: top;\n",
       "    }\n",
       "\n",
       "    .dataframe thead th {\n",
       "        text-align: right;\n",
       "    }\n",
       "</style>\n",
       "<table border=\"1\" class=\"dataframe\">\n",
       "  <thead>\n",
       "    <tr style=\"text-align: right;\">\n",
       "      <th></th>\n",
       "      <th>text</th>\n",
       "      <th>target</th>\n",
       "      <th>clean_text</th>\n",
       "      <th>lemma_text</th>\n",
       "    </tr>\n",
       "  </thead>\n",
       "  <tbody>\n",
       "    <tr>\n",
       "      <th>701681</th>\n",
       "      <td>Двух британских джихадистов-палачей из четверк...</td>\n",
       "      <td>Мир</td>\n",
       "      <td>двух британских джихадистов-палачей из четверк...</td>\n",
       "      <td>два британский джихадист-палач четвёрка назват...</td>\n",
       "    </tr>\n",
       "    <tr>\n",
       "      <th>546636</th>\n",
       "      <td>Глава Синодального отдела по взаимоотношениям ...</td>\n",
       "      <td>Россия</td>\n",
       "      <td>глава синодального отдела по взаимоотношениям ...</td>\n",
       "      <td>глава синодальный отдел взаимоотношение церков...</td>\n",
       "    </tr>\n",
       "  </tbody>\n",
       "</table>\n",
       "</div>"
      ],
      "text/plain": [
       "                                                     text  target  \\\n",
       "701681  Двух британских джихадистов-палачей из четверк...     Мир   \n",
       "546636  Глава Синодального отдела по взаимоотношениям ...  Россия   \n",
       "\n",
       "                                               clean_text  \\\n",
       "701681  двух британских джихадистов-палачей из четверк...   \n",
       "546636  глава синодального отдела по взаимоотношениям ...   \n",
       "\n",
       "                                               lemma_text  \n",
       "701681  два британский джихадист-палач четвёрка назват...  \n",
       "546636  глава синодальный отдел взаимоотношение церков...  "
      ]
     },
     "execution_count": 25,
     "metadata": {},
     "output_type": "execute_result"
    }
   ],
   "source": [
    "print(train.shape, test.shape)\n",
    "train.sample(2)"
   ]
  },
  {
   "cell_type": "markdown",
   "metadata": {},
   "source": [
    "---\n",
    "_на случай, если не хватает памяти_"
   ]
  },
  {
   "cell_type": "code",
   "execution_count": null,
   "metadata": {},
   "outputs": [],
   "source": [
    "train[['lemma_text','target']].to_csv(f'{PATH}/data/processed/news_lenta-lemma_text-train.csv.gz', compression='gzip', index=False)\n",
    "test[['lemma_text','target']].to_csv(f'{PATH}/data/processed/news_lenta-lemma_text-test.csv.gz', compression='gzip', index=False)\n",
    "# del train, test"
   ]
  },
  {
   "cell_type": "code",
   "execution_count": null,
   "metadata": {},
   "outputs": [],
   "source": [
    "train = pd.read_csv(f'{PATH}/data/processed/news_lenta-lemma_text-train.csv.gz', compression='gzip')\n",
    "test = pd.read_csv(f'{PATH}/data/processed/news_lenta-lemma_text-test.csv.gz', compression='gzip')"
   ]
  },
  {
   "cell_type": "code",
   "execution_count": null,
   "metadata": {},
   "outputs": [],
   "source": [
    "print(train.shape, test.shape)\n",
    "train.sample(2)"
   ]
  },
  {
   "cell_type": "markdown",
   "metadata": {},
   "source": [
    "---\n",
    "* обучаем модель на очищенных данных"
   ]
  },
  {
   "cell_type": "code",
   "execution_count": 26,
   "metadata": {},
   "outputs": [],
   "source": [
    "X_train = train.lemma_text\n",
    "y_train = train.target\n",
    "\n",
    "X_test  = test.lemma_text\n",
    "y_test = test.target"
   ]
  },
  {
   "cell_type": "code",
   "execution_count": 27,
   "metadata": {},
   "outputs": [
    {
     "name": "stdout",
     "output_type": "stream",
     "text": [
      "CPU times: user 36.2 s, sys: 538 ms, total: 36.7 s\n",
      "Wall time: 36.7 s\n"
     ]
    }
   ],
   "source": [
    "%%time\n",
    "count_vect = CountVectorizer(min_df=0.1)\n",
    "count_vect_train = count_vect.fit_transform(X_train)\n",
    "count_vect_test = count_vect.transform(X_test)"
   ]
  },
  {
   "cell_type": "code",
   "execution_count": 28,
   "metadata": {},
   "outputs": [
    {
     "data": {
      "text/plain": [
       "[('год', 576334),\n",
       " ('который', 336236),\n",
       " ('россия', 266126),\n",
       " ('сообщать', 235331),\n",
       " ('один', 194148),\n",
       " ('заявить', 170445),\n",
       " ('свой', 155031),\n",
       " ('процент', 152089),\n",
       " ('российский', 150766),\n",
       " ('страна', 146020)]"
      ]
     },
     "execution_count": 28,
     "metadata": {},
     "output_type": "execute_result"
    }
   ],
   "source": [
    "# распределение токенов\n",
    "vocab = {a: b for a, b in zip(count_vect.get_feature_names(), np.ravel(count_vect_train.sum(axis=0)))}\n",
    "vocab = sorted(vocab.items(), reverse=True, key = lambda kv:(kv[1], kv[0]))\n",
    "vocab[:10]"
   ]
  },
  {
   "cell_type": "code",
   "execution_count": 29,
   "metadata": {},
   "outputs": [
    {
     "data": {
      "image/png": "[encoded data removed]",
      "text/plain": [
       "<Figure size 1440x720 with 1 Axes>"
      ]
     },
     "metadata": {
      "needs_background": "light"
     },
     "output_type": "display_data"
    }
   ],
   "source": [
    "plot_frequency(vocab, 22)"
   ]
  },
  {
   "cell_type": "code",
   "execution_count": 31,
   "metadata": {},
   "outputs": [
    {
     "name": "stdout",
     "output_type": "stream",
     "text": [
      "classification_report:\n",
      "              precision    recall  f1-score   support\n",
      "\n",
      "    Культура    0.48502   0.67324   0.56384     10702\n",
      "         Мир    0.74651   0.68420   0.71400     27245\n",
      "      Россия    0.78165   0.64161   0.70474     30899\n",
      "       Спорт    0.60706   0.77011   0.67893     11575\n",
      "   Экономика    0.71802   0.74379   0.73068     15265\n",
      "\n",
      "    accuracy                        0.68912     95686\n",
      "   macro avg    0.66765   0.70259   0.67844     95686\n",
      "weighted avg    0.70720   0.68912   0.69263     95686\n",
      "\n",
      "\n",
      "confusion_matrix:\n",
      "[[ 7205   763   777  1489   468]\n",
      " [ 2465 18641  2910  1690  1539]\n",
      " [ 2791  4015 19825  2027  2241]\n",
      " [ 1456   525   469  8914   211]\n",
      " [  938  1027  1382   564 11354]]\n",
      "CPU times: user 22 s, sys: 659 ms, total: 22.6 s\n",
      "Wall time: 22.8 s\n"
     ]
    }
   ],
   "source": [
    "%%time\n",
    "\n",
    "lr = LogisticRegression(class_weight='balanced', random_state=42)\n",
    "lr.fit(count_vect_train, y_train)\n",
    "\n",
    "pred_lr = lr.predict(count_vect_test)\n",
    "print(f'classification_report:\\n{classification_report(y_test, pred_lr, digits=5)}')\n",
    "print(f'\\nconfusion_matrix:\\n{confusion_matrix(y_test, pred_lr)}')"
   ]
  },
  {
   "cell_type": "markdown",
   "metadata": {},
   "source": [
    "### как видим, очистка текста улучшила метрики на несколько пунктов"
   ]
  }
 ],
 "metadata": {
  "kernelspec": {
   "display_name": "Python 3",
   "language": "python",
   "name": "python3"
  },
  "language_info": {
   "codemirror_mode": {
    "name": "ipython",
    "version": 3
   },
   "file_extension": ".py",
   "mimetype": "text/x-python",
   "name": "python",
   "nbconvert_exporter": "python",
   "pygments_lexer": "ipython3",
   "version": "3.7.5"
  }
 },
 "nbformat": 4,
 "nbformat_minor": 4
}
