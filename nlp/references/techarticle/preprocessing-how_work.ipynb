{
 "cells": [
  {
   "cell_type": "code",
   "execution_count": 1,
   "metadata": {},
   "outputs": [],
   "source": [
    "# import os\n",
    "import sys\n",
    "import gc\n",
    "\n",
    "# прописываем нужный нам путь к проекту\n",
    "from pathlib import Path\n",
    "PATH = Path('../..') # proj_news_viz/nlp\n",
    "sys.path.append(str(PATH))\n",
    "\n",
    "import pandas as pd\n",
    "import numpy as np"
   ]
  },
  {
   "cell_type": "code",
   "execution_count": 2,
   "metadata": {},
   "outputs": [],
   "source": [
    "import warnings\n",
    "warnings.filterwarnings('ignore')\n",
    "\n",
    "%load_ext autoreload\n",
    "%autoreload 2\n",
    "\n",
    "# import matplotlib.pyplot as plt\n",
    "# plt.style.use('dark_background')\n",
    "%matplotlib inline"
   ]
  },
  {
   "cell_type": "markdown",
   "metadata": {},
   "source": [
    "---\n",
    "возьмем для примера датасет [News dataset from Lenta.Ru](https://www.kaggle.com/yutkin/corpus-of-russian-news-articles-from-lenta), скаченный по линку с [github](https://github.com/yutkin/Lenta.Ru-News-Dataset/tree/v1.1)\n",
    "\n",
    "или выполнить следующие две команды в нужной Вам директории:\n",
    "\n",
    "`$ wget https://github.com/yutkin/Lenta.Ru-News-Dataset/releases/download/v1.1/lenta-ru-news.csv.bz2`\n",
    "\n",
    "`$ bzip2 -d lenta-ru-news.csv.bz2`"
   ]
  },
  {
   "cell_type": "code",
   "execution_count": 3,
   "metadata": {},
   "outputs": [
    {
     "name": "stdout",
     "output_type": "stream",
     "text": [
      "(800975, 6)\n"
     ]
    },
    {
     "data": {
      "text/html": [
       "<div>\n",
       "<style scoped>\n",
       "    .dataframe tbody tr th:only-of-type {\n",
       "        vertical-align: middle;\n",
       "    }\n",
       "\n",
       "    .dataframe tbody tr th {\n",
       "        vertical-align: top;\n",
       "    }\n",
       "\n",
       "    .dataframe thead th {\n",
       "        text-align: right;\n",
       "    }\n",
       "</style>\n",
       "<table border=\"1\" class=\"dataframe\">\n",
       "  <thead>\n",
       "    <tr style=\"text-align: right;\">\n",
       "      <th></th>\n",
       "      <th>url</th>\n",
       "      <th>title</th>\n",
       "      <th>text</th>\n",
       "      <th>topic</th>\n",
       "      <th>tags</th>\n",
       "      <th>date</th>\n",
       "    </tr>\n",
       "  </thead>\n",
       "  <tbody>\n",
       "    <tr>\n",
       "      <th>281979</th>\n",
       "      <td>https://lenta.ru/news/2009/05/11/advisor/</td>\n",
       "      <td>Microsoft протестирует компьютеры на совместим...</td>\n",
       "      <td>Корпорация Microsoft выпустила бета-версию бес...</td>\n",
       "      <td>Интернет и СМИ</td>\n",
       "      <td>Все</td>\n",
       "      <td>2009/05/11</td>\n",
       "    </tr>\n",
       "    <tr>\n",
       "      <th>354160</th>\n",
       "      <td>https://lenta.ru/news/2010/11/25/antialfa/</td>\n",
       "      <td>\"Анти-Facebook\" запустил тестовую версию</td>\n",
       "      <td>Социальная сеть Diaspora, получившая известнос...</td>\n",
       "      <td>Интернет и СМИ</td>\n",
       "      <td>Все</td>\n",
       "      <td>2010/11/25</td>\n",
       "    </tr>\n",
       "  </tbody>\n",
       "</table>\n",
       "</div>"
      ],
      "text/plain": [
       "                                               url  \\\n",
       "281979   https://lenta.ru/news/2009/05/11/advisor/   \n",
       "354160  https://lenta.ru/news/2010/11/25/antialfa/   \n",
       "\n",
       "                                                    title  \\\n",
       "281979  Microsoft протестирует компьютеры на совместим...   \n",
       "354160           \"Анти-Facebook\" запустил тестовую версию   \n",
       "\n",
       "                                                     text           topic  \\\n",
       "281979  Корпорация Microsoft выпустила бета-версию бес...  Интернет и СМИ   \n",
       "354160  Социальная сеть Diaspora, получившая известнос...  Интернет и СМИ   \n",
       "\n",
       "       tags        date  \n",
       "281979  Все  2009/05/11  \n",
       "354160  Все  2010/11/25  "
      ]
     },
     "execution_count": 3,
     "metadata": {},
     "output_type": "execute_result"
    }
   ],
   "source": [
    "df = pd.read_csv(PATH / 'data/external/lenta-ru-news.csv')\n",
    "print(df.shape)\n",
    "df.sample(2)"
   ]
  },
  {
   "cell_type": "code",
   "execution_count": 5,
   "metadata": {},
   "outputs": [
    {
     "name": "stdout",
     "output_type": "stream",
     "text": [
      "df.shape: (712654, 6)\n"
     ]
    },
    {
     "data": {
      "text/plain": [
       "url      0\n",
       "title    0\n",
       "text     0\n",
       "topic    0\n",
       "tags     0\n",
       "date     0\n",
       "dtype: int64"
      ]
     },
     "execution_count": 5,
     "metadata": {},
     "output_type": "execute_result"
    }
   ],
   "source": [
    "# удалим пустые записи и дубликаты по признаку `text`\n",
    "\n",
    "df.dropna(inplace=True)\n",
    "df.text.drop_duplicates(inplace=True)\n",
    "\n",
    "print(f'df.shape: {df.shape}')\n",
    "df.isnull().sum()"
   ]
  },
  {
   "cell_type": "code",
   "execution_count": 6,
   "metadata": {},
   "outputs": [
    {
     "data": {
      "text/plain": [
       "('1914/09/16', '2018/12/15')"
      ]
     },
     "execution_count": 6,
     "metadata": {},
     "output_type": "execute_result"
    }
   ],
   "source": [
    "# посмотрим какие самые старые и новые статьи мы имеем\n",
    "df.date.min(),df.date.max()"
   ]
  },
  {
   "cell_type": "code",
   "execution_count": 7,
   "metadata": {},
   "outputs": [
    {
     "name": "stdout",
     "output_type": "stream",
     "text": [
      "уникальное к-ство разделов: 23\n"
     ]
    },
    {
     "data": {
      "text/plain": [
       "Россия               155004\n",
       "Мир                  136620\n",
       "Экономика             76423\n",
       "Спорт                 57894\n",
       "Культура              53530\n",
       "Наука и техника       53136\n",
       "Бывший СССР           51370\n",
       "Интернет и СМИ        44421\n",
       "Из жизни              27513\n",
       "Дом                   21734\n",
       "Силовые структуры     11223\n",
       "Ценности               7581\n",
       "Бизнес                 7375\n",
       "Путешествия            6370\n",
       "69-я параллель         1268\n",
       "Крым                    666\n",
       "Культпросвет            340\n",
       "Легпром                 114\n",
       "Библиотека               65\n",
       "Оружие                    3\n",
       "ЧМ-2014                   2\n",
       "Сочи                      1\n",
       "МедНовости                1\n",
       "Name: topic, dtype: int64"
      ]
     },
     "execution_count": 7,
     "metadata": {},
     "output_type": "execute_result"
    }
   ],
   "source": [
    "# посмотрим на к-ство записей по разделам\n",
    "print(f'уникальное к-ство разделов: {df.topic.unique().shape[0]}')\n",
    "df.topic.value_counts()"
   ]
  },
  {
   "cell_type": "code",
   "execution_count": 8,
   "metadata": {},
   "outputs": [
    {
     "data": {
      "text/plain": [
       "(479471, 6)"
      ]
     },
     "execution_count": 8,
     "metadata": {},
     "output_type": "execute_result"
    }
   ],
   "source": [
    "# выберем для примера топ-5 разделов\n",
    "top_topics = 5\n",
    "df_top = df[df.topic.isin(df.topic.value_counts().head(top_topics).index)]\n",
    "df_top.shape"
   ]
  },
  {
   "cell_type": "code",
   "execution_count": 9,
   "metadata": {},
   "outputs": [
    {
     "data": {
      "text/plain": [
       "('1999/08/31', '2018/12/15')"
      ]
     },
     "execution_count": 9,
     "metadata": {},
     "output_type": "execute_result"
    }
   ],
   "source": [
    "df_top.date.min(), df_top.date.max()"
   ]
  },
  {
   "cell_type": "markdown",
   "metadata": {},
   "source": [
    "---\n",
    "разделим данные для начала на train & test в соотношении 80/20 соответственно  со стратификацией по топиках"
   ]
  },
  {
   "cell_type": "code",
   "execution_count": 10,
   "metadata": {},
   "outputs": [],
   "source": [
    "from sklearn.model_selection import train_test_split"
   ]
  },
  {
   "cell_type": "code",
   "execution_count": 11,
   "metadata": {},
   "outputs": [
    {
     "data": {
      "text/plain": [
       "((383576,), (95895,), (383576,), (95895,))"
      ]
     },
     "execution_count": 11,
     "metadata": {},
     "output_type": "execute_result"
    }
   ],
   "source": [
    "X_train, X_test, y_train, y_test = train_test_split(df_top.text,df_top.topic,\n",
    "                                                    test_size=0.2,\n",
    "                                                    stratify=df_top.topic,\n",
    "                                                    random_state=42)\n",
    "\n",
    "X_train.shape, X_test.shape, y_train.shape, y_test.shape"
   ]
  },
  {
   "cell_type": "code",
   "execution_count": 12,
   "metadata": {},
   "outputs": [
    {
     "data": {
      "text/plain": [
       "(0, 0)"
      ]
     },
     "execution_count": 12,
     "metadata": {},
     "output_type": "execute_result"
    }
   ],
   "source": [
    "# проверим на пустые значения\n",
    "X_train.isna().sum(), X_test.isna().sum()"
   ]
  },
  {
   "cell_type": "markdown",
   "metadata": {},
   "source": [
    "---\n",
    "## сделаем небольшое исследование, обучив модель с и без препроцессинга"
   ]
  },
  {
   "cell_type": "code",
   "execution_count": 13,
   "metadata": {},
   "outputs": [],
   "source": [
    "from sklearn.feature_extraction.text import CountVectorizer, TfidfVectorizer\n",
    "from sklearn.linear_model import LogisticRegression\n",
    "from sklearn.metrics import accuracy_score, classification_report, confusion_matrix"
   ]
  },
  {
   "cell_type": "code",
   "execution_count": 14,
   "metadata": {},
   "outputs": [],
   "source": [
    "# добавим самописный файл, для отображения топ частотный слов\n",
    "from news_viz.visualization.plot_frequency import plotFrequencyWords"
   ]
  },
  {
   "cell_type": "markdown",
   "metadata": {},
   "source": [
    "* ### без препроцессинга"
   ]
  },
  {
   "cell_type": "code",
   "execution_count": 15,
   "metadata": {},
   "outputs": [
    {
     "name": "stdout",
     "output_type": "stream",
     "text": [
      "CPU times: user 1min 5s, sys: 802 ms, total: 1min 6s\n",
      "Wall time: 1min 6s\n"
     ]
    }
   ],
   "source": [
    "%%time\n",
    "\n",
    "tfidf_vect = TfidfVectorizer()\n",
    "\n",
    "# в данном примере обучим только на `X_train`\n",
    "# но ничего не мешает обучить и на `X_test`\n",
    "tfidf_vect_train = tfidf_vect.fit_transform(X_train)\n",
    "tfidf_vect_test = tfidf_vect.transform(X_test)"
   ]
  },
  {
   "cell_type": "code",
   "execution_count": 16,
   "metadata": {
    "scrolled": true
   },
   "outputs": [
    {
     "name": "stdout",
     "output_type": "stream",
     "text": [
      "размер корпуса: 734629\n",
      "\n",
      "пример [:5]: [('на', 15871.815508813179), ('по', 10774.821058601865), ('что', 10639.430590100452), ('не', 8267.292710162437), ('из', 6925.430609163202)]\n"
     ]
    }
   ],
   "source": [
    "# распределение токенов\n",
    "vocab = {a: b for a, b in zip(tfidf_vect.get_feature_names(), np.ravel(tfidf_vect_train.sum(axis=0)))}\n",
    "vocab = sorted(vocab.items(), reverse=True, key = lambda kv:(kv[1], kv[0]))\n",
    "\n",
    "print(f'размер корпуса: {len(vocab)}')\n",
    "print(f'\\nпример [:5]: {vocab[:5]}')"
   ]
  },
  {
   "cell_type": "code",
   "execution_count": 17,
   "metadata": {},
   "outputs": [
    {
     "data": {
      "image/png": "[encoded data removed]",
      "text/plain": [
       "<Figure size 1440x720 with 1 Axes>"
      ]
     },
     "metadata": {},
     "output_type": "display_data"
    }
   ],
   "source": [
    "plotFrequencyWords(vocab = vocab,\n",
    "                   top_words = 30,\n",
    "                   plt_background = 'dark')"
   ]
  },
  {
   "cell_type": "code",
   "execution_count": 19,
   "metadata": {},
   "outputs": [
    {
     "name": "stdout",
     "output_type": "stream",
     "text": [
      "classification_report:\n",
      "              precision    recall  f1-score   support\n",
      "\n",
      "    Культура    0.92715   0.96170   0.94411     10706\n",
      "         Мир    0.89456   0.91070   0.90256     27324\n",
      "      Россия    0.91902   0.87749   0.89777     31001\n",
      "       Спорт    0.97936   0.97953   0.97945     11579\n",
      "   Экономика    0.90995   0.94014   0.92480     15285\n",
      "\n",
      "    accuracy                        0.91866     95895\n",
      "   macro avg    0.92601   0.93391   0.92974     95895\n",
      "weighted avg    0.91880   0.91866   0.91848     95895\n",
      "\n",
      "confusion_matrix:\n",
      "[[10296   160   206    13    31]\n",
      " [  360 24884  1581    62   437]\n",
      " [  360  2373 27203   131   934]\n",
      " [   31    86   100 11342    20]\n",
      " [   58   314   510    33 14370]]\n",
      "CPU times: user 6min 26s, sys: 9min 3s, total: 15min 30s\n",
      "Wall time: 3min 28s\n"
     ]
    }
   ],
   "source": [
    "%%time\n",
    "\n",
    "lr = LogisticRegression(class_weight='balanced', random_state=42)\n",
    "lr.fit(tfidf_vect_train, y_train)\n",
    "\n",
    "pred_lr = lr.predict(tfidf_vect_test)\n",
    "print(f'classification_report:\\n{classification_report(y_test, pred_lr, digits=5)}')\n",
    "print(f'confusion_matrix:\\n{confusion_matrix(y_test, pred_lr)}')"
   ]
  },
  {
   "cell_type": "code",
   "execution_count": null,
   "metadata": {},
   "outputs": [],
   "source": [
    "# from sklearn.pipeline import Pipeline\n",
    "# \n",
    "# pipe = Pipeline([('vec', TfidfVectorizer()),\n",
    "#                 ('clf', LogisticRegression(class_weight='balanced', random_state=42))])\n",
    "# \n",
    "# pipe.fit(X_train,y_train)\n",
    "# \n",
    "# pred_lr = pipe.predict(X_test)\n",
    "# print(f'classification_report:\\n{classification_report(y_test, pred_lr, digits=5)}')\n",
    "# print(f'\\nconfusion_matrix:\\n{confusion_matrix(y_test, pred_lr)}')"
   ]
  },
  {
   "cell_type": "markdown",
   "metadata": {},
   "source": [
    "* ### c препроцессингом"
   ]
  },
  {
   "cell_type": "code",
   "execution_count": 21,
   "metadata": {},
   "outputs": [],
   "source": [
    "# импортируем кастомный наш препроцессинг\n",
    "from news_viz.data.preprocessing_tools import clean_text, lemmatize\n",
    "# pip install pymorphy2"
   ]
  },
  {
   "cell_type": "code",
   "execution_count": 22,
   "metadata": {},
   "outputs": [],
   "source": [
    "# импортируем нужные нам библиотеки для мультипроцессинга\n",
    "# создаем соответствующую для этого функцию\n",
    "import multiprocessing as mp\n",
    "from multiprocessing import Pool\n",
    "\n",
    "num_cores = mp.cpu_count() # number of cores on your machine; 20\n",
    "num_partitions = num_cores * 2 # number of partitions to split dataframe\n",
    "\n",
    "def parallelize_dataframe(df, func):\n",
    "    df_split = np.array_split(df, num_partitions)\n",
    "    pool = Pool(num_cores)\n",
    "    df = pd.concat(pool.map(func, df_split))\n",
    "    pool.close()\n",
    "    pool.join()\n",
    "    return df"
   ]
  },
  {
   "cell_type": "code",
   "execution_count": 23,
   "metadata": {},
   "outputs": [],
   "source": [
    "train = pd.DataFrame(X_train)\n",
    "train['target'] = pd.DataFrame(y_train)\n",
    "\n",
    "test = pd.DataFrame(X_test)\n",
    "test['target'] = pd.DataFrame(y_test)"
   ]
  },
  {
   "cell_type": "markdown",
   "metadata": {},
   "source": [
    "* оставим только слова"
   ]
  },
  {
   "cell_type": "code",
   "execution_count": 24,
   "metadata": {},
   "outputs": [],
   "source": [
    "def multiply_clean_text(data):\n",
    "    data['clean_text'] = data['text'].apply(clean_text)\n",
    "    return data"
   ]
  },
  {
   "cell_type": "code",
   "execution_count": 25,
   "metadata": {},
   "outputs": [
    {
     "name": "stdout",
     "output_type": "stream",
     "text": [
      "clean train text & drop missing rows ...\n",
      "clean test text & drop missing rows ...\n",
      "CPU times: user 8.94 s, sys: 7.92 s, total: 16.9 s\n",
      "Wall time: 18.3 s\n"
     ]
    },
    {
     "data": {
      "text/plain": [
       "0"
      ]
     },
     "execution_count": 25,
     "metadata": {},
     "output_type": "execute_result"
    }
   ],
   "source": [
    "%%time\n",
    "\n",
    "print('clean train text & drop missing rows ...')\n",
    "train = parallelize_dataframe(train, multiply_clean_text)\n",
    "train = train[train.clean_text != 'TOREMOVE']\n",
    "\n",
    "print('clean test text & drop missing rows ...')\n",
    "test = parallelize_dataframe(test, multiply_clean_text)\n",
    "test = test[test.clean_text != 'TOREMOVE']\n",
    "\n",
    "gc.collect()"
   ]
  },
  {
   "cell_type": "markdown",
   "metadata": {},
   "source": [
    "* лемматизируем и удалим заодно стоп-слова"
   ]
  },
  {
   "cell_type": "code",
   "execution_count": 26,
   "metadata": {},
   "outputs": [],
   "source": [
    "def multiply_lemmatization(data):\n",
    "    data['lemma_text'] = data['clean_text'].apply(lemmatize)\n",
    "    return data"
   ]
  },
  {
   "cell_type": "code",
   "execution_count": 27,
   "metadata": {},
   "outputs": [
    {
     "name": "stdout",
     "output_type": "stream",
     "text": [
      "lemmatization train ...\n",
      "lemmatization test ...\n",
      "CPU times: user 15.6 s, sys: 14.8 s, total: 30.3 s\n",
      "Wall time: 8min 13s\n"
     ]
    },
    {
     "data": {
      "text/plain": [
       "0"
      ]
     },
     "execution_count": 27,
     "metadata": {},
     "output_type": "execute_result"
    }
   ],
   "source": [
    "%%time\n",
    "\n",
    "print('lemmatization train ...')\n",
    "train = parallelize_dataframe(train, multiply_lemmatization)\n",
    "train = train[train.lemma_text != 'TOREMOVE']\n",
    "\n",
    "gc.collect()\n",
    "\n",
    "print('lemmatization test ...')\n",
    "test = parallelize_dataframe(test, multiply_lemmatization)\n",
    "test = test[test.lemma_text != 'TOREMOVE']\n",
    "\n",
    "gc.collect()"
   ]
  },
  {
   "cell_type": "code",
   "execution_count": 28,
   "metadata": {},
   "outputs": [
    {
     "name": "stdout",
     "output_type": "stream",
     "text": [
      "0 0\n",
      "(382874, 4) (95685, 4)\n"
     ]
    },
    {
     "data": {
      "text/html": [
       "<div>\n",
       "<style scoped>\n",
       "    .dataframe tbody tr th:only-of-type {\n",
       "        vertical-align: middle;\n",
       "    }\n",
       "\n",
       "    .dataframe tbody tr th {\n",
       "        vertical-align: top;\n",
       "    }\n",
       "\n",
       "    .dataframe thead th {\n",
       "        text-align: right;\n",
       "    }\n",
       "</style>\n",
       "<table border=\"1\" class=\"dataframe\">\n",
       "  <thead>\n",
       "    <tr style=\"text-align: right;\">\n",
       "      <th></th>\n",
       "      <th>text</th>\n",
       "      <th>target</th>\n",
       "      <th>clean_text</th>\n",
       "      <th>lemma_text</th>\n",
       "    </tr>\n",
       "  </thead>\n",
       "  <tbody>\n",
       "    <tr>\n",
       "      <th>406017</th>\n",
       "      <td>По итогам 2011 года Китай стал крупнейшим в ми...</td>\n",
       "      <td>Экономика</td>\n",
       "      <td>по итогам года китай стал крупнейшим мире импо...</td>\n",
       "      <td>итог китай крупный мир импортёр уголь впервые ...</td>\n",
       "    </tr>\n",
       "    <tr>\n",
       "      <th>333636</th>\n",
       "      <td>В Москве сотрудники милиции ликвидировали подп...</td>\n",
       "      <td>Россия</td>\n",
       "      <td>москве сотрудники милиции ликвидировали подпол...</td>\n",
       "      <td>москва сотрудник милиция ликвидировать подполь...</td>\n",
       "    </tr>\n",
       "  </tbody>\n",
       "</table>\n",
       "</div>"
      ],
      "text/plain": [
       "                                                     text     target  \\\n",
       "406017  По итогам 2011 года Китай стал крупнейшим в ми...  Экономика   \n",
       "333636  В Москве сотрудники милиции ликвидировали подп...     Россия   \n",
       "\n",
       "                                               clean_text  \\\n",
       "406017  по итогам года китай стал крупнейшим мире импо...   \n",
       "333636  москве сотрудники милиции ликвидировали подпол...   \n",
       "\n",
       "                                               lemma_text  \n",
       "406017  итог китай крупный мир импортёр уголь впервые ...  \n",
       "333636  москва сотрудник милиция ликвидировать подполь...  "
      ]
     },
     "execution_count": 28,
     "metadata": {},
     "output_type": "execute_result"
    }
   ],
   "source": [
    "print(train.lemma_text.isnull().sum() , test.lemma_text.isnull().sum())\n",
    "\n",
    "print(train.shape, test.shape)\n",
    "\n",
    "train.sample(2)"
   ]
  },
  {
   "cell_type": "markdown",
   "metadata": {},
   "source": [
    "---\n",
    "_на случай, если не хватает памяти_"
   ]
  },
  {
   "cell_type": "code",
   "execution_count": null,
   "metadata": {},
   "outputs": [],
   "source": [
    "train[['lemma_text','target']].to_csv(PATH / 'data/processed/news_lenta-lemma_text-train.csv.gz', compression='gzip', index=False)\n",
    "test[['lemma_text','target']].to_csv(PATH / 'data/processed/news_lenta-lemma_text-test.csv.gz', compression='gzip', index=False)\n",
    "# del train, test"
   ]
  },
  {
   "cell_type": "code",
   "execution_count": null,
   "metadata": {},
   "outputs": [],
   "source": [
    "# соответственно нужно выполнить после перезапуска этого ноутбука\n",
    "train = pd.read_csv(PATH / 'data/processed/news_lenta-lemma_text-train.csv.gz', compression='gzip')\n",
    "test = pd.read_csv(PATH / 'data/processed/news_lenta-lemma_text-test.csv.gz', compression='gzip')"
   ]
  },
  {
   "cell_type": "code",
   "execution_count": null,
   "metadata": {},
   "outputs": [],
   "source": [
    "print(train.shape, test.shape)\n",
    "train.sample(2)"
   ]
  },
  {
   "cell_type": "markdown",
   "metadata": {},
   "source": [
    "---\n",
    "* обучаем модель на очищенных данных"
   ]
  },
  {
   "cell_type": "code",
   "execution_count": 29,
   "metadata": {},
   "outputs": [],
   "source": [
    "X_train = train.lemma_text\n",
    "y_train = train.target\n",
    "\n",
    "X_test  = test.lemma_text\n",
    "y_test = test.target"
   ]
  },
  {
   "cell_type": "code",
   "execution_count": 31,
   "metadata": {},
   "outputs": [
    {
     "name": "stdout",
     "output_type": "stream",
     "text": [
      "CPU times: user 38.3 s, sys: 504 ms, total: 38.8 s\n",
      "Wall time: 38.8 s\n"
     ]
    }
   ],
   "source": [
    "%%time\n",
    "\n",
    "tfidf_vect_vect = TfidfVectorizer()\n",
    "\n",
    "tfidf_vect_train = tfidf_vect.fit_transform(X_train)\n",
    "tfidf_vect_test = tfidf_vect.transform(X_test)"
   ]
  },
  {
   "cell_type": "code",
   "execution_count": 32,
   "metadata": {},
   "outputs": [
    {
     "name": "stdout",
     "output_type": "stream",
     "text": [
      "размер корпуса: 284716\n",
      "\n",
      "пример [:5]: [('россия', 6336.238490103119), ('сообщать', 5205.058391394408), ('доллар', 4776.946931639683), ('сша', 4691.180275539555), ('российский', 4672.985114694751)]\n"
     ]
    }
   ],
   "source": [
    "# распределение токенов\n",
    "vocab = {a: b for a, b in zip(tfidf_vect.get_feature_names(), np.ravel(tfidf_vect_train.sum(axis=0)))}\n",
    "vocab = sorted(vocab.items(), reverse=True, key = lambda kv:(kv[1], kv[0]))\n",
    "\n",
    "print(f'размер корпуса: {len(vocab)}')\n",
    "print(f'\\nпример [:5]: {vocab[:5]}')"
   ]
  },
  {
   "cell_type": "code",
   "execution_count": 33,
   "metadata": {},
   "outputs": [
    {
     "data": {
      "image/png": "[encoded data removed]",
      "text/plain": [
       "<Figure size 1440x720 with 1 Axes>"
      ]
     },
     "metadata": {},
     "output_type": "display_data"
    }
   ],
   "source": [
    "plotFrequencyWords(vocab = vocab,\n",
    "                   top_words = 22,\n",
    "                   plt_background = 'dark')"
   ]
  },
  {
   "cell_type": "code",
   "execution_count": 34,
   "metadata": {},
   "outputs": [
    {
     "name": "stdout",
     "output_type": "stream",
     "text": [
      "classification_report:\n",
      "              precision    recall  f1-score   support\n",
      "\n",
      "    Культура    0.92644   0.96730   0.94643     10702\n",
      "         Мир    0.89568   0.90505   0.90034     27245\n",
      "      Россия    0.91805   0.87307   0.89499     30898\n",
      "       Спорт    0.97625   0.98376   0.97999     11575\n",
      "   Экономика    0.90159   0.94104   0.92089     15265\n",
      "\n",
      "    accuracy                        0.91695     95685\n",
      "   macro avg    0.92360   0.93404   0.92853     95685\n",
      "weighted avg    0.91703   0.91695   0.91668     95685\n",
      "\n",
      "confusion_matrix:\n",
      "[[10352   135   164    19    32]\n",
      " [  361 24658  1630    80   516]\n",
      " [  391  2386 26976   143  1002]\n",
      " [   24    60    86 11387    18]\n",
      " [   46   291   528    35 14365]]\n",
      "CPU times: user 3min 49s, sys: 7min 52s, total: 11min 41s\n",
      "Wall time: 1min 37s\n"
     ]
    }
   ],
   "source": [
    "%%time\n",
    "\n",
    "lr = LogisticRegression(class_weight='balanced', random_state=42)\n",
    "lr.fit(tfidf_vect_train, y_train)\n",
    "\n",
    "pred_lr = lr.predict(tfidf_vect_test)\n",
    "print(f'classification_report:\\n{classification_report(y_test, pred_lr, digits=5)}')\n",
    "print(f'confusion_matrix:\\n{confusion_matrix(y_test, pred_lr)}')"
   ]
  },
  {
   "cell_type": "code",
   "execution_count": null,
   "metadata": {},
   "outputs": [],
   "source": []
  }
 ],
 "metadata": {
  "kernelspec": {
   "display_name": "Python 3",
   "language": "python",
   "name": "python3"
  },
  "language_info": {
   "codemirror_mode": {
    "name": "ipython",
    "version": 3
   },
   "file_extension": ".py",
   "mimetype": "text/x-python",
   "name": "python",
   "nbconvert_exporter": "python",
   "pygments_lexer": "ipython3",
   "version": "3.7.5"
  }
 },
 "nbformat": 4,
 "nbformat_minor": 4
}
