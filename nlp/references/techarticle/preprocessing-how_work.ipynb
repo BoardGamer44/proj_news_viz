{
 "cells": [
  {
   "cell_type": "code",
   "execution_count": 6,
   "metadata": {},
   "outputs": [
    {
     "name": "stdout",
     "output_type": "stream",
     "text": [
      "The autoreload extension is already loaded. To reload it, use:\n",
      "  %reload_ext autoreload\n"
     ]
    }
   ],
   "source": [
    "import warnings\n",
    "warnings.filterwarnings('ignore')\n",
    "\n",
    "import os\n",
    "import sys\n",
    "import gc\n",
    "\n",
    "%load_ext autoreload\n",
    "%autoreload 2"
   ]
  },
  {
   "cell_type": "code",
   "execution_count": 7,
   "metadata": {},
   "outputs": [],
   "source": [
    "# прописывем нужные нам пути\n",
    "dir_project = 'proj_news_radar/proj_news_viz/nlp' # путь проекта\n",
    "\n",
    "PATH = os.path.join(os.getenv('HOME'), dir_project)\n",
    "sys.path.append(PATH)"
   ]
  },
  {
   "cell_type": "code",
   "execution_count": 8,
   "metadata": {},
   "outputs": [],
   "source": [
    "import pandas as pd\n",
    "import numpy as np\n",
    "\n",
    "import matplotlib.pyplot as plt\n",
    "%matplotlib inline"
   ]
  },
  {
   "cell_type": "markdown",
   "metadata": {},
   "source": [
    "---\n",
    "возьмем для примера датасет [lenta.ru](https://www.kaggle.com/yutkin/corpus-of-russian-news-articles-from-lenta)\n",
    "\n",
    "для примера взят датасет, скаченный по линку с gitHub"
   ]
  },
  {
   "cell_type": "code",
   "execution_count": 81,
   "metadata": {},
   "outputs": [
    {
     "name": "stdout",
     "output_type": "stream",
     "text": [
      "(699746, 5)\n"
     ]
    },
    {
     "data": {
      "text/html": [
       "<div>\n",
       "<style scoped>\n",
       "    .dataframe tbody tr th:only-of-type {\n",
       "        vertical-align: middle;\n",
       "    }\n",
       "\n",
       "    .dataframe tbody tr th {\n",
       "        vertical-align: top;\n",
       "    }\n",
       "\n",
       "    .dataframe thead th {\n",
       "        text-align: right;\n",
       "    }\n",
       "</style>\n",
       "<table border=\"1\" class=\"dataframe\">\n",
       "  <thead>\n",
       "    <tr style=\"text-align: right;\">\n",
       "      <th></th>\n",
       "      <th>tags</th>\n",
       "      <th>text</th>\n",
       "      <th>title</th>\n",
       "      <th>topic</th>\n",
       "      <th>url</th>\n",
       "    </tr>\n",
       "  </thead>\n",
       "  <tbody>\n",
       "    <tr>\n",
       "      <td>202886</td>\n",
       "      <td>NaN</td>\n",
       "      <td>Американская компания Bell Helicopter представ...</td>\n",
       "      <td>Bell представила военным проект нового конверт...</td>\n",
       "      <td>Силовые структуры</td>\n",
       "      <td>https://lenta.ru/news/2014/07/14/robotpoles/</td>\n",
       "    </tr>\n",
       "    <tr>\n",
       "      <td>354171</td>\n",
       "      <td>Все</td>\n",
       "      <td>Бывшего вратаря сборной России по футболу Вени...</td>\n",
       "      <td>Вениамин Мандрыкин вышел из комы</td>\n",
       "      <td>Спорт</td>\n",
       "      <td>https://lenta.ru/news/2010/11/13/metallica/</td>\n",
       "    </tr>\n",
       "  </tbody>\n",
       "</table>\n",
       "</div>"
      ],
      "text/plain": [
       "       tags                                               text  \\\n",
       "202886  NaN  Американская компания Bell Helicopter представ...   \n",
       "354171  Все  Бывшего вратаря сборной России по футболу Вени...   \n",
       "\n",
       "                                                    title              topic  \\\n",
       "202886  Bell представила военным проект нового конверт...  Силовые структуры   \n",
       "354171                   Вениамин Мандрыкин вышел из комы              Спорт   \n",
       "\n",
       "                                                 url  \n",
       "202886  https://lenta.ru/news/2014/07/14/robotpoles/  \n",
       "354171   https://lenta.ru/news/2010/11/13/metallica/  "
      ]
     },
     "execution_count": 81,
     "metadata": {},
     "output_type": "execute_result"
    }
   ],
   "source": [
    "df = pd.read_csv(f'{PATH}/data/external/news_lenta.csv')\n",
    "print(df.shape)\n",
    "df.sample(2)"
   ]
  },
  {
   "cell_type": "markdown",
   "metadata": {},
   "source": [
    "немного запрепроцессим датасет"
   ]
  },
  {
   "cell_type": "code",
   "execution_count": 82,
   "metadata": {},
   "outputs": [
    {
     "name": "stdout",
     "output_type": "stream",
     "text": [
      "df.shape: (675697, 5)\n"
     ]
    },
    {
     "data": {
      "text/plain": [
       "tags     0\n",
       "text     0\n",
       "title    0\n",
       "topic    0\n",
       "url      0\n",
       "dtype: int64"
      ]
     },
     "execution_count": 82,
     "metadata": {},
     "output_type": "execute_result"
    }
   ],
   "source": [
    "# удалим пустые записи и дубликаты по признаку `text`\n",
    "df.dropna(inplace=True)\n",
    "df.text.drop_duplicates(inplace=True)\n",
    "\n",
    "print(f'df.shape: {df.shape}')\n",
    "df.isnull().sum()"
   ]
  },
  {
   "cell_type": "code",
   "execution_count": 83,
   "metadata": {},
   "outputs": [
    {
     "name": "stdout",
     "output_type": "stream",
     "text": [
      "уникальное к-ство разделов: 23\n",
      "\n",
      "их распределение:\n",
      "Россия               153054\n",
      "Мир                  134334\n",
      "Экономика             74643\n",
      "Спорт                 56840\n",
      "Культура              52337\n",
      "Наука и техника       51869\n",
      "Бывший СССР           50674\n",
      "Интернет и СМИ        43071\n",
      "Из жизни              26264\n",
      "Силовые структуры     10107\n",
      "Бизнес                 7374\n",
      "Ценности               6832\n",
      "Путешествия            6005\n",
      "69-я параллель         1095\n",
      "Крым                    666\n",
      "Культпросвет            340\n",
      "Легпром                 114\n",
      "Библиотека               65\n",
      "Дом                       6\n",
      "Оружие                    3\n",
      "ЧМ-2014                   2\n",
      "Сочи                      1\n",
      "МедНовости                1\n",
      "Name: topic, dtype: int64\n"
     ]
    }
   ],
   "source": [
    "# посмотрим на к-ство записей по разделам\n",
    "print(f'уникальное к-ство разделов: {df.topic.unique().shape[0]}')\n",
    "print(f'\\nих распределение:\\n{df.topic.value_counts()}')"
   ]
  },
  {
   "cell_type": "code",
   "execution_count": 16,
   "metadata": {},
   "outputs": [
    {
     "data": {
      "text/plain": [
       "(471208, 5)"
      ]
     },
     "execution_count": 16,
     "metadata": {},
     "output_type": "execute_result"
    }
   ],
   "source": [
    "# выберем для примера топ-5 разделов\n",
    "df_top5 = df[df.topic.isin(df.topic.value_counts().head(5).index)]\n",
    "df_top5.shape"
   ]
  },
  {
   "cell_type": "markdown",
   "metadata": {},
   "source": [
    "---\n",
    "закодируем кат-фичи"
   ]
  },
  {
   "cell_type": "code",
   "execution_count": 17,
   "metadata": {},
   "outputs": [],
   "source": [
    "from sklearn.preprocessing import LabelEncoder"
   ]
  },
  {
   "cell_type": "code",
   "execution_count": 18,
   "metadata": {},
   "outputs": [
    {
     "data": {
      "text/plain": [
       "['Культура', 'Мир', 'Россия', 'Спорт', 'Экономика']"
      ]
     },
     "execution_count": 18,
     "metadata": {},
     "output_type": "execute_result"
    }
   ],
   "source": [
    "# обучаем энкодер\n",
    "\n",
    "le = LabelEncoder()\n",
    "\n",
    "le.fit(df_top5.topic)\n",
    "list(le.classes_)"
   ]
  },
  {
   "cell_type": "code",
   "execution_count": 19,
   "metadata": {},
   "outputs": [
    {
     "data": {
      "text/plain": [
       "array([1, 4, 1, ..., 2, 1, 1])"
      ]
     },
     "execution_count": 19,
     "metadata": {},
     "output_type": "execute_result"
    }
   ],
   "source": [
    "# применяем \n",
    "le.transform(df_top5.topic) "
   ]
  },
  {
   "cell_type": "code",
   "execution_count": 20,
   "metadata": {},
   "outputs": [
    {
     "data": {
      "text/plain": [
       "array([2])"
      ]
     },
     "execution_count": 20,
     "metadata": {},
     "output_type": "execute_result"
    }
   ],
   "source": [
    "# посмотрим какое число описывает раздел \"Россия\"\n",
    "le.transform(['Россия'])"
   ]
  },
  {
   "cell_type": "code",
   "execution_count": 21,
   "metadata": {},
   "outputs": [
    {
     "data": {
      "text/html": [
       "<div>\n",
       "<style scoped>\n",
       "    .dataframe tbody tr th:only-of-type {\n",
       "        vertical-align: middle;\n",
       "    }\n",
       "\n",
       "    .dataframe tbody tr th {\n",
       "        vertical-align: top;\n",
       "    }\n",
       "\n",
       "    .dataframe thead th {\n",
       "        text-align: right;\n",
       "    }\n",
       "</style>\n",
       "<table border=\"1\" class=\"dataframe\">\n",
       "  <thead>\n",
       "    <tr style=\"text-align: right;\">\n",
       "      <th></th>\n",
       "      <th>tags</th>\n",
       "      <th>text</th>\n",
       "      <th>title</th>\n",
       "      <th>topic</th>\n",
       "      <th>url</th>\n",
       "      <th>target</th>\n",
       "    </tr>\n",
       "  </thead>\n",
       "  <tbody>\n",
       "    <tr>\n",
       "      <td>404474</td>\n",
       "      <td>Все</td>\n",
       "      <td>Двое футболистов, выступающих в чемпионате Укр...</td>\n",
       "      <td>Футболисты из Белоруссии и Украины попались на...</td>\n",
       "      <td>Спорт</td>\n",
       "      <td>https://lenta.ru/news/2009/09/24/norevisionism/</td>\n",
       "      <td>3</td>\n",
       "    </tr>\n",
       "    <tr>\n",
       "      <td>413484</td>\n",
       "      <td>Все</td>\n",
       "      <td>В Белоруссии с 15 июля в обращение поступит пр...</td>\n",
       "      <td>В Белоруссии выпустят в обращение прямоугольну...</td>\n",
       "      <td>Экономика</td>\n",
       "      <td>https://lenta.ru/news/2009/07/14/arch/</td>\n",
       "      <td>4</td>\n",
       "    </tr>\n",
       "    <tr>\n",
       "      <td>678879</td>\n",
       "      <td>Все</td>\n",
       "      <td>Вечно молодая Шер, знаменитая певица, актриса,...</td>\n",
       "      <td>Шер искупается в крови девственниц</td>\n",
       "      <td>Культура</td>\n",
       "      <td>https://lenta.ru/news/2001/01/29/kurchaloy/</td>\n",
       "      <td>0</td>\n",
       "    </tr>\n",
       "    <tr>\n",
       "      <td>297679</td>\n",
       "      <td>Все</td>\n",
       "      <td>Командир экипажа вертолета Ка-52, разбившегося...</td>\n",
       "      <td>Скончался командир экипажа разбившегося Ка-52</td>\n",
       "      <td>Россия</td>\n",
       "      <td>https://lenta.ru/news/2012/03/13/macedonia/</td>\n",
       "      <td>2</td>\n",
       "    </tr>\n",
       "    <tr>\n",
       "      <td>453525</td>\n",
       "      <td>Все</td>\n",
       "      <td>Школьный учитель, опубликовавший в интернете в...</td>\n",
       "      <td>Учителю из Миссури грозит суд за видео в подде...</td>\n",
       "      <td>Мир</td>\n",
       "      <td>https://lenta.ru/news/2008/10/07/funeral/</td>\n",
       "      <td>1</td>\n",
       "    </tr>\n",
       "  </tbody>\n",
       "</table>\n",
       "</div>"
      ],
      "text/plain": [
       "       tags                                               text  \\\n",
       "404474  Все  Двое футболистов, выступающих в чемпионате Укр...   \n",
       "413484  Все  В Белоруссии с 15 июля в обращение поступит пр...   \n",
       "678879  Все  Вечно молодая Шер, знаменитая певица, актриса,...   \n",
       "297679  Все  Командир экипажа вертолета Ка-52, разбившегося...   \n",
       "453525  Все  Школьный учитель, опубликовавший в интернете в...   \n",
       "\n",
       "                                                    title      topic  \\\n",
       "404474  Футболисты из Белоруссии и Украины попались на...      Спорт   \n",
       "413484  В Белоруссии выпустят в обращение прямоугольну...  Экономика   \n",
       "678879                 Шер искупается в крови девственниц   Культура   \n",
       "297679      Скончался командир экипажа разбившегося Ка-52     Россия   \n",
       "453525  Учителю из Миссури грозит суд за видео в подде...        Мир   \n",
       "\n",
       "                                                    url  target  \n",
       "404474  https://lenta.ru/news/2009/09/24/norevisionism/       3  \n",
       "413484           https://lenta.ru/news/2009/07/14/arch/       4  \n",
       "678879      https://lenta.ru/news/2001/01/29/kurchaloy/       0  \n",
       "297679      https://lenta.ru/news/2012/03/13/macedonia/       2  \n",
       "453525        https://lenta.ru/news/2008/10/07/funeral/       1  "
      ]
     },
     "execution_count": 21,
     "metadata": {},
     "output_type": "execute_result"
    }
   ],
   "source": [
    "# добавим новый признак заэнкодженных разделов к нашему датасету в качестве таргета\n",
    "df_top5['target'] = le.transform(df_top5.topic)\n",
    "df_top5.head()\n",
    "\n",
    "df_top5.sample(5)"
   ]
  },
  {
   "cell_type": "markdown",
   "metadata": {},
   "source": [
    "---\n",
    "сплитим данные "
   ]
  },
  {
   "cell_type": "code",
   "execution_count": 22,
   "metadata": {},
   "outputs": [],
   "source": [
    "from sklearn.model_selection import train_test_split"
   ]
  },
  {
   "cell_type": "code",
   "execution_count": 24,
   "metadata": {},
   "outputs": [
    {
     "data": {
      "text/plain": [
       "((376966,), (94242,), (376966,), (94242,))"
      ]
     },
     "execution_count": 24,
     "metadata": {},
     "output_type": "execute_result"
    }
   ],
   "source": [
    "X_train, X_test, y_train, y_test = train_test_split(df_top5.text,df_top5.target,\n",
    "                                                    test_size=0.2,\n",
    "                                                    stratify=df_top5.target,\n",
    "                                                    random_state=42)\n",
    "\n",
    "X_train.shape, X_test.shape, y_train.shape, y_test.shape"
   ]
  },
  {
   "cell_type": "code",
   "execution_count": 25,
   "metadata": {},
   "outputs": [
    {
     "data": {
      "text/plain": [
       "(0, 0)"
      ]
     },
     "execution_count": 25,
     "metadata": {},
     "output_type": "execute_result"
    }
   ],
   "source": [
    "X_train.isna().sum(), X_test.isna().sum()"
   ]
  },
  {
   "cell_type": "markdown",
   "metadata": {},
   "source": [
    "---\n",
    "## сделаем небольшое исследование, обучив модель с и без препроцессинга"
   ]
  },
  {
   "cell_type": "code",
   "execution_count": 26,
   "metadata": {},
   "outputs": [],
   "source": [
    "from sklearn.feature_extraction.text import CountVectorizer, TfidfVectorizer\n",
    "from sklearn.linear_model import LogisticRegression\n",
    "from sklearn.metrics import accuracy_score, classification_report, confusion_matrix"
   ]
  },
  {
   "cell_type": "code",
   "execution_count": 71,
   "metadata": {},
   "outputs": [],
   "source": [
    "def plot_frequency(vocab: list=None, top_words: int=30) -> None:\n",
    "    '''\n",
    "    plot token frequency\n",
    "    \n",
    "    Parameters\n",
    "    ----------\n",
    "        vocab: list\n",
    "            list tuples words with them frequency\n",
    "            like `[('на', 1330966), ... ]`\n",
    "            \n",
    "        top_words: int (defauld=30)\n",
    "            enter top words to plot\n",
    "    '''\n",
    "    \n",
    "    x, y = [], []\n",
    "    for key, val in vocab[:top_words]:\n",
    "        x.append(key)\n",
    "        y.append(val)\n",
    "        \n",
    "    plt.figure(figsize=(20,10), )\n",
    "    plt.bar(x,y)\n",
    "    plt.title(f'топ-{top_words} частотных слов')\n",
    "    plt.xlabel('слова', horizontalalignment='center')\n",
    "    plt.ylabel('частотность')\n",
    "    "
   ]
  },
  {
   "cell_type": "markdown",
   "metadata": {},
   "source": [
    "* ### без препроцессинга"
   ]
  },
  {
   "cell_type": "code",
   "execution_count": 29,
   "metadata": {},
   "outputs": [
    {
     "name": "stdout",
     "output_type": "stream",
     "text": [
      "CPU times: user 55.5 s, sys: 667 ms, total: 56.1 s\n",
      "Wall time: 56.2 s\n"
     ]
    }
   ],
   "source": [
    "%%time\n",
    "count_vect = CountVectorizer(min_df=0.1)\n",
    "\n",
    "# в данном примере обучим только на `X_train`\n",
    "# но ничего не мешает обучить и на `X_test`\n",
    "count_vect_train = count_vect.fit_transform(X_train)\n",
    "count_vect_test = count_vect.transform(X_test)"
   ]
  },
  {
   "cell_type": "code",
   "execution_count": 51,
   "metadata": {
    "scrolled": true
   },
   "outputs": [
    {
     "data": {
      "text/plain": [
       "[('на', 1310739),\n",
       " ('по', 800310),\n",
       " ('что', 757900),\n",
       " ('не', 531170),\n",
       " ('из', 398442),\n",
       " ('за', 338746),\n",
       " ('года', 300748),\n",
       " ('как', 291761),\n",
       " ('его', 231913),\n",
       " ('он', 226912)]"
      ]
     },
     "execution_count": 51,
     "metadata": {},
     "output_type": "execute_result"
    }
   ],
   "source": [
    "# распределение токенов\n",
    "vocab = {a: b for a, b in zip(count_vect.get_feature_names(), np.ravel(count_vect_train.sum(axis=0)))}\n",
    "vocab = sorted(vocab.items(), reverse=True, key = lambda kv:(kv[1], kv[0]))\n",
    "vocab[:10]"
   ]
  },
  {
   "cell_type": "code",
   "execution_count": 57,
   "metadata": {},
   "outputs": [
    {
     "data": {
      "image/png": "[encoded data removed]",
      "text/plain": [
       "<Figure size 1440x720 with 1 Axes>"
      ]
     },
     "metadata": {
      "needs_background": "light"
     },
     "output_type": "display_data"
    }
   ],
   "source": [
    "plot_frequency(vocab, 30)"
   ]
  },
  {
   "cell_type": "code",
   "execution_count": 58,
   "metadata": {},
   "outputs": [
    {
     "name": "stdout",
     "output_type": "stream",
     "text": [
      "classification_report:\n",
      "              precision    recall  f1-score   support\n",
      "\n",
      "    Культура    0.47784   0.59339   0.52938     10467\n",
      "         Мир    0.70234   0.67615   0.68899     26867\n",
      "      Россия    0.73543   0.63592   0.68206     30611\n",
      "       Спорт    0.57447   0.71622   0.63756     11368\n",
      "   Экономика    0.68840   0.67955   0.68395     14929\n",
      "\n",
      "    accuracy                        0.65926     94242\n",
      "   macro avg    0.63570   0.66024   0.64439     94242\n",
      "weighted avg    0.67052   0.65926   0.66201     94242\n",
      "\n",
      "\n",
      "confusion_matrix:\n",
      "[[ 6211  1114  1164  1393   585]\n",
      " [ 2418 18166  3216  1775  1292]\n",
      " [ 2237  4507 19466  2128  2273]\n",
      " [ 1301   801   682  8142   442]\n",
      " [  831  1277  1941   735 10145]]\n",
      "CPU times: user 1min 9s, sys: 59.9 ms, total: 1min 9s\n",
      "Wall time: 1min 9s\n"
     ]
    }
   ],
   "source": [
    "%%time\n",
    "\n",
    "lr = LogisticRegression(class_weight='balanced', random_state=42)\n",
    "lr.fit(count_vect_train, y_train)\n",
    "\n",
    "pred_lr = lr.predict(count_vect_test)\n",
    "print(f'classification_report:\\n{classification_report(y_test, pred_lr, digits=5, target_names=le.classes_)}')\n",
    "print(f'\\nconfusion_matrix:\\n{confusion_matrix(y_test, pred_lr)}')"
   ]
  },
  {
   "cell_type": "code",
   "execution_count": 26,
   "metadata": {},
   "outputs": [],
   "source": [
    "# from sklearn.pipeline import Pipeline\n",
    "# \n",
    "# pipe = Pipeline([('vec', CountVectorizer(min_df=0.1)),\n",
    "#                 ('clf', LogisticRegression(class_weight='balanced', random_state=42))])\n",
    "# \n",
    "# pipe.fit(X_train,y_train)\n",
    "# \n",
    "# pred_lr = pipe.predict(X_test)\n",
    "# print(f'classification_report:\\n{classification_report(y_test, pred_lr, digits=5)}')\n",
    "# print(f'\\nconfusion_matrix:\\n{confusion_matrix(y_test, pred_lr)}')"
   ]
  },
  {
   "cell_type": "markdown",
   "metadata": {},
   "source": [
    "* ### c препроцессингом"
   ]
  },
  {
   "cell_type": "code",
   "execution_count": 61,
   "metadata": {},
   "outputs": [],
   "source": [
    "from news_viz.data_processing.preprocessing_tools import clean_text, lemmatization\n",
    "\n",
    "import multiprocessing as mp\n",
    "from multiprocessing import Pool\n",
    "num_cores = int(mp.cpu_count() / 1.2) # number of cores on your machine; 20\n",
    "num_partitions = num_cores * 2        # number of partitions to split dataframe\n",
    "\n",
    "def parallelize_dataframe(df, func):\n",
    "    df_split = np.array_split(df, num_partitions)\n",
    "    pool = Pool(num_cores)\n",
    "    df = pd.concat(pool.map(func, df_split))\n",
    "    pool.close()\n",
    "    pool.join()\n",
    "    return df"
   ]
  },
  {
   "cell_type": "code",
   "execution_count": 62,
   "metadata": {},
   "outputs": [],
   "source": [
    "train = pd.DataFrame(X_train)\n",
    "train['target'] = pd.DataFrame(y_train)\n",
    "\n",
    "test = pd.DataFrame(X_test)\n",
    "test['target'] = pd.DataFrame(y_test)"
   ]
  },
  {
   "cell_type": "markdown",
   "metadata": {},
   "source": [
    "* clean text"
   ]
  },
  {
   "cell_type": "code",
   "execution_count": 63,
   "metadata": {},
   "outputs": [],
   "source": [
    "def multiply_clean_text(data):\n",
    "    data['clean_text'] = data['text'].apply(clean_text)\n",
    "    return data"
   ]
  },
  {
   "cell_type": "code",
   "execution_count": 64,
   "metadata": {},
   "outputs": [
    {
     "name": "stdout",
     "output_type": "stream",
     "text": [
      "clean train text & drop missing rows ...\n",
      "clean test text & drop missing rows ...\n",
      "CPU times: user 7.39 s, sys: 6.87 s, total: 14.3 s\n",
      "Wall time: 15.3 s\n"
     ]
    },
    {
     "data": {
      "text/plain": [
       "0"
      ]
     },
     "execution_count": 64,
     "metadata": {},
     "output_type": "execute_result"
    }
   ],
   "source": [
    "%%time\n",
    "\n",
    "print('clean train text & drop missing rows ...')\n",
    "train = parallelize_dataframe(train, multiply_clean_text)\n",
    "train = train[train.clean_text!='9999']\n",
    "\n",
    "print('clean test text & drop missing rows ...')\n",
    "test = parallelize_dataframe(test, multiply_clean_text)\n",
    "test = test[test.clean_text!='9999']\n",
    "\n",
    "gc.collect()"
   ]
  },
  {
   "cell_type": "markdown",
   "metadata": {},
   "source": [
    "* lemmatization"
   ]
  },
  {
   "cell_type": "code",
   "execution_count": 65,
   "metadata": {},
   "outputs": [],
   "source": [
    "def multiply_lemmatization(data):\n",
    "    data['lemma_text'] = data['clean_text'].apply(lemmatization)\n",
    "    return data"
   ]
  },
  {
   "cell_type": "code",
   "execution_count": 66,
   "metadata": {},
   "outputs": [
    {
     "name": "stdout",
     "output_type": "stream",
     "text": [
      "lemmatization train ...\n",
      "lemmatization test ...\n",
      "CPU times: user 13.9 s, sys: 13 s, total: 27 s\n",
      "Wall time: 10min 11s\n"
     ]
    },
    {
     "data": {
      "text/plain": [
       "0"
      ]
     },
     "execution_count": 66,
     "metadata": {},
     "output_type": "execute_result"
    }
   ],
   "source": [
    "%%time\n",
    "\n",
    "print('lemmatization train ...')\n",
    "train = parallelize_dataframe(train, multiply_lemmatization)\n",
    "train = train[train.lemma_text!='9999']\n",
    "\n",
    "print('lemmatization test ...')\n",
    "test = parallelize_dataframe(test, multiply_lemmatization)\n",
    "test = test[test.lemma_text!='9999']\n",
    "\n",
    "gc.collect()"
   ]
  },
  {
   "cell_type": "code",
   "execution_count": 67,
   "metadata": {},
   "outputs": [
    {
     "name": "stdout",
     "output_type": "stream",
     "text": [
      "(376809, 4) (94199, 4)\n"
     ]
    },
    {
     "data": {
      "text/html": [
       "<div>\n",
       "<style scoped>\n",
       "    .dataframe tbody tr th:only-of-type {\n",
       "        vertical-align: middle;\n",
       "    }\n",
       "\n",
       "    .dataframe tbody tr th {\n",
       "        vertical-align: top;\n",
       "    }\n",
       "\n",
       "    .dataframe thead th {\n",
       "        text-align: right;\n",
       "    }\n",
       "</style>\n",
       "<table border=\"1\" class=\"dataframe\">\n",
       "  <thead>\n",
       "    <tr style=\"text-align: right;\">\n",
       "      <th></th>\n",
       "      <th>text</th>\n",
       "      <th>target</th>\n",
       "      <th>clean_text</th>\n",
       "      <th>lemma_text</th>\n",
       "    </tr>\n",
       "  </thead>\n",
       "  <tbody>\n",
       "    <tr>\n",
       "      <td>166270</td>\n",
       "      <td>С вечера пятницы и до утра субботы в столице в...</td>\n",
       "      <td>2</td>\n",
       "      <td>вечера пятницы до утра субботы столице выпала ...</td>\n",
       "      <td>вечер пятница утро суббота столица выпасть мес...</td>\n",
       "    </tr>\n",
       "    <tr>\n",
       "      <td>68433</td>\n",
       "      <td>Губернатор Нижегородской области Валерий Шанце...</td>\n",
       "      <td>2</td>\n",
       "      <td>губернатор нижегородской области валерий шанце...</td>\n",
       "      <td>губернатор нижегородский область валерий шанце...</td>\n",
       "    </tr>\n",
       "  </tbody>\n",
       "</table>\n",
       "</div>"
      ],
      "text/plain": [
       "                                                     text  target  \\\n",
       "166270  С вечера пятницы и до утра субботы в столице в...       2   \n",
       "68433   Губернатор Нижегородской области Валерий Шанце...       2   \n",
       "\n",
       "                                               clean_text  \\\n",
       "166270  вечера пятницы до утра субботы столице выпала ...   \n",
       "68433   губернатор нижегородской области валерий шанце...   \n",
       "\n",
       "                                               lemma_text  \n",
       "166270  вечер пятница утро суббота столица выпасть мес...  \n",
       "68433   губернатор нижегородский область валерий шанце...  "
      ]
     },
     "execution_count": 67,
     "metadata": {},
     "output_type": "execute_result"
    }
   ],
   "source": [
    "print(train.shape, test.shape)\n",
    "train.head(2)"
   ]
  },
  {
   "cell_type": "markdown",
   "metadata": {},
   "source": [
    "---\n",
    "_на случай, если не хватает памяти_"
   ]
  },
  {
   "cell_type": "code",
   "execution_count": null,
   "metadata": {},
   "outputs": [],
   "source": [
    "train[['lemma_text','target']].to_csv(f'{PATH}/data/processed/news_lenta-lemma_text-train.csv.gz', compression='gzip', index=False)\n",
    "test[['lemma_text','target']].to_csv(f'{PATH}/data/processed/news_lenta-lemma_text-test.csv.gz', compression='gzip', index=False)\n",
    "# del train, test"
   ]
  },
  {
   "cell_type": "code",
   "execution_count": null,
   "metadata": {},
   "outputs": [],
   "source": [
    "train = pd.read_csv(f'{PATH}/data/processed/news_lenta-lemma_text-train.csv.gz', compression='gzip')\n",
    "test = pd.read_csv(f'{PATH}/data/processed/news_lenta-lemma_text-test.csv.gz', compression='gzip')"
   ]
  },
  {
   "cell_type": "code",
   "execution_count": null,
   "metadata": {},
   "outputs": [],
   "source": [
    "print(train.shape, test.shape)\n",
    "train.sample(2)"
   ]
  },
  {
   "cell_type": "markdown",
   "metadata": {},
   "source": [
    "---\n",
    "* обучаем модель"
   ]
  },
  {
   "cell_type": "code",
   "execution_count": 68,
   "metadata": {},
   "outputs": [],
   "source": [
    "X_train = train.lemma_text\n",
    "y_train = train.target\n",
    "\n",
    "X_test  = test.lemma_text\n",
    "y_test = test.target"
   ]
  },
  {
   "cell_type": "code",
   "execution_count": 69,
   "metadata": {},
   "outputs": [
    {
     "name": "stdout",
     "output_type": "stream",
     "text": [
      "CPU times: user 35.4 s, sys: 565 ms, total: 35.9 s\n",
      "Wall time: 35.9 s\n"
     ]
    }
   ],
   "source": [
    "%%time\n",
    "count_vect = CountVectorizer(min_df=0.1)\n",
    "count_vect_train = count_vect.fit_transform(X_train)\n",
    "count_vect_test = count_vect.transform(X_test)"
   ]
  },
  {
   "cell_type": "code",
   "execution_count": 72,
   "metadata": {},
   "outputs": [
    {
     "data": {
      "text/plain": [
       "[('год', 568555),\n",
       " ('который', 331998),\n",
       " ('россия', 261401),\n",
       " ('сообщать', 233241),\n",
       " ('один', 191689),\n",
       " ('заявить', 167802),\n",
       " ('свой', 152911),\n",
       " ('процент', 149571),\n",
       " ('российский', 147262),\n",
       " ('страна', 143637)]"
      ]
     },
     "execution_count": 72,
     "metadata": {},
     "output_type": "execute_result"
    }
   ],
   "source": [
    "# распределение токенов\n",
    "vocab = {a: b for a, b in zip(count_vect.get_feature_names(), np.ravel(count_vect_train.sum(axis=0)))}\n",
    "vocab = sorted(vocab.items(), reverse=True, key = lambda kv:(kv[1], kv[0]))\n",
    "vocab[:10]"
   ]
  },
  {
   "cell_type": "code",
   "execution_count": 80,
   "metadata": {},
   "outputs": [
    {
     "data": {
      "image/png": "[encoded data removed]",
      "text/plain": [
       "<Figure size 1440x720 with 1 Axes>"
      ]
     },
     "metadata": {
      "needs_background": "light"
     },
     "output_type": "display_data"
    }
   ],
   "source": [
    "plot_frequency(vocab, 22)"
   ]
  },
  {
   "cell_type": "code",
   "execution_count": 74,
   "metadata": {},
   "outputs": [
    {
     "name": "stdout",
     "output_type": "stream",
     "text": [
      "classification_report:\n",
      "              precision    recall  f1-score   support\n",
      "\n",
      "    Культура    0.53519   0.61411   0.57194     10464\n",
      "         Мир    0.73510   0.71851   0.72671     26854\n",
      "      Россия    0.77159   0.69446   0.73100     30592\n",
      "       Спорт    0.63170   0.75895   0.68951     11363\n",
      "   Экономика    0.74373   0.73536   0.73952     14926\n",
      "\n",
      "    accuracy                        0.70665     94199\n",
      "   macro avg    0.68346   0.70428   0.69174     94199\n",
      "weighted avg    0.71364   0.70665   0.70845     94199\n",
      "\n",
      "\n",
      "confusion_matrix:\n",
      "[[ 6426   997  1090  1478   473]\n",
      " [ 1825 19295  3043  1424  1267]\n",
      " [ 1768  4067 21245  1693  1819]\n",
      " [ 1262   676   578  8624   223]\n",
      " [  726  1213  1578   433 10976]]\n",
      "CPU times: user 1min 1s, sys: 63.8 ms, total: 1min 1s\n",
      "Wall time: 1min 1s\n"
     ]
    }
   ],
   "source": [
    "%%time\n",
    "\n",
    "lr = LogisticRegression(class_weight='balanced', random_state=42)\n",
    "lr.fit(count_vect_train, y_train)\n",
    "\n",
    "pred_lr = lr.predict(count_vect_test)\n",
    "print(f'classification_report:\\n{classification_report(y_test, pred_lr, digits=5, target_names=le.classes_)}')\n",
    "print(f'\\nconfusion_matrix:\\n{confusion_matrix(y_test, pred_lr)}')"
   ]
  },
  {
   "cell_type": "markdown",
   "metadata": {},
   "source": [
    "### как видим, очистка текста улучшила метрики на несколько пунктов"
   ]
  }
 ],
 "metadata": {
  "kernelspec": {
   "display_name": "Python 3",
   "language": "python",
   "name": "python3"
  },
  "language_info": {
   "codemirror_mode": {
    "name": "ipython",
    "version": 3
   },
   "file_extension": ".py",
   "mimetype": "text/x-python",
   "name": "python",
   "nbconvert_exporter": "python",
   "pygments_lexer": "ipython3",
   "version": "3.7.3"
  }
 },
 "nbformat": 4,
 "nbformat_minor": 4
}
