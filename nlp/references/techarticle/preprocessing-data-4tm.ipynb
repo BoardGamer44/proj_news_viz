{
 "cells": [
  {
   "cell_type": "code",
   "execution_count": 6,
   "metadata": {},
   "outputs": [
    {
     "name": "stdout",
     "output_type": "stream",
     "text": [
      "The autoreload extension is already loaded. To reload it, use:\n",
      "  %reload_ext autoreload\n"
     ]
    }
   ],
   "source": [
    "import warnings\n",
    "warnings.filterwarnings('ignore')\n",
    "\n",
    "import os\n",
    "import sys\n",
    "import gc\n",
    "\n",
    "%load_ext autoreload\n",
    "%autoreload 2"
   ]
  },
  {
   "cell_type": "code",
   "execution_count": 7,
   "metadata": {},
   "outputs": [],
   "source": [
    "# прописывем нужные нам пути\n",
    "dir_project = 'proj_news_radar/proj_news_viz/nlp' # путь проекта\n",
    "\n",
    "PATH = os.path.join(os.getenv('HOME'), dir_project)\n",
    "sys.path.append(PATH)"
   ]
  },
  {
   "cell_type": "code",
   "execution_count": 8,
   "metadata": {},
   "outputs": [],
   "source": [
    "import pandas as pd\n",
    "import numpy as np\n",
    "\n",
    "import matplotlib.pyplot as plt\n",
    "%matplotlib inline"
   ]
  },
  {
   "cell_type": "code",
   "execution_count": 10,
   "metadata": {},
   "outputs": [],
   "source": [
    "import multiprocessing as mp\n",
    "from multiprocessing import Pool\n",
    "num_cores = int(mp.cpu_count() / 2) # number of cores on your machine; 20\n",
    "num_partitions = num_cores * 2        # number of partitions to split dataframe\n",
    "\n",
    "def parallelize_dataframe(df, func):\n",
    "    df_split = np.array_split(df, num_partitions)\n",
    "    pool = Pool(num_cores)\n",
    "    df = pd.concat(pool.map(func, df_split))\n",
    "    pool.close()\n",
    "    pool.join()\n",
    "    return df"
   ]
  },
  {
   "cell_type": "markdown",
   "metadata": {},
   "source": [
    "---\n",
    "возьмем для примера датасет [lenta.ru](https://www.kaggle.com/yutkin/corpus-of-russian-news-articles-from-lenta)\n",
    "\n",
    "для примера взят датасет, скаченный по линку с gitHub"
   ]
  },
  {
   "cell_type": "code",
   "execution_count": 15,
   "metadata": {},
   "outputs": [
    {
     "name": "stdout",
     "output_type": "stream",
     "text": [
      "(699746, 5)\n"
     ]
    },
    {
     "data": {
      "text/html": [
       "<div>\n",
       "<style scoped>\n",
       "    .dataframe tbody tr th:only-of-type {\n",
       "        vertical-align: middle;\n",
       "    }\n",
       "\n",
       "    .dataframe tbody tr th {\n",
       "        vertical-align: top;\n",
       "    }\n",
       "\n",
       "    .dataframe thead th {\n",
       "        text-align: right;\n",
       "    }\n",
       "</style>\n",
       "<table border=\"1\" class=\"dataframe\">\n",
       "  <thead>\n",
       "    <tr style=\"text-align: right;\">\n",
       "      <th></th>\n",
       "      <th>tags</th>\n",
       "      <th>text</th>\n",
       "      <th>title</th>\n",
       "      <th>topic</th>\n",
       "      <th>url</th>\n",
       "    </tr>\n",
       "  </thead>\n",
       "  <tbody>\n",
       "    <tr>\n",
       "      <td>0</td>\n",
       "      <td>Общество</td>\n",
       "      <td>Миллиардер Илон Маск в резкой форме ответил бр...</td>\n",
       "      <td>Илон Маск назвал педофилом спасавшего детей из...</td>\n",
       "      <td>Мир</td>\n",
       "      <td>https://lenta.ru/news/2018/07/16/su57/</td>\n",
       "    </tr>\n",
       "    <tr>\n",
       "      <td>1</td>\n",
       "      <td>Рынки</td>\n",
       "      <td>США и их западные союзники рассматривают возмо...</td>\n",
       "      <td>США задумались о распечатывании нефтяного резерва</td>\n",
       "      <td>Экономика</td>\n",
       "      <td>https://lenta.ru/news/2018/07/16/foes/</td>\n",
       "    </tr>\n",
       "  </tbody>\n",
       "</table>\n",
       "</div>"
      ],
      "text/plain": [
       "       tags                                               text  \\\n",
       "0  Общество  Миллиардер Илон Маск в резкой форме ответил бр...   \n",
       "1     Рынки  США и их западные союзники рассматривают возмо...   \n",
       "\n",
       "                                               title      topic  \\\n",
       "0  Илон Маск назвал педофилом спасавшего детей из...        Мир   \n",
       "1  США задумались о распечатывании нефтяного резерва  Экономика   \n",
       "\n",
       "                                      url  \n",
       "0  https://lenta.ru/news/2018/07/16/su57/  \n",
       "1  https://lenta.ru/news/2018/07/16/foes/  "
      ]
     },
     "execution_count": 15,
     "metadata": {},
     "output_type": "execute_result"
    }
   ],
   "source": [
    "df = pd.read_csv(f'{PATH}/data/external/news_lenta.csv')\n",
    "print(df.shape)\n",
    "df.head(2)"
   ]
  },
  {
   "cell_type": "code",
   "execution_count": 16,
   "metadata": {},
   "outputs": [
    {
     "name": "stdout",
     "output_type": "stream",
     "text": [
      "df.shape: (675697, 5)\n"
     ]
    },
    {
     "data": {
      "text/plain": [
       "tags     0\n",
       "text     0\n",
       "title    0\n",
       "topic    0\n",
       "url      0\n",
       "dtype: int64"
      ]
     },
     "execution_count": 16,
     "metadata": {},
     "output_type": "execute_result"
    }
   ],
   "source": [
    "# удалим пустые записи и дубликаты по признаку `text`\n",
    "df.dropna(inplace=True)\n",
    "df.text.drop_duplicates(inplace=True)\n",
    "\n",
    "print(f'df.shape: {df.shape}')\n",
    "df.isnull().sum()"
   ]
  },
  {
   "cell_type": "code",
   "execution_count": 26,
   "metadata": {},
   "outputs": [
    {
     "data": {
      "text/html": [
       "<div>\n",
       "<style scoped>\n",
       "    .dataframe tbody tr th:only-of-type {\n",
       "        vertical-align: middle;\n",
       "    }\n",
       "\n",
       "    .dataframe tbody tr th {\n",
       "        vertical-align: top;\n",
       "    }\n",
       "\n",
       "    .dataframe thead th {\n",
       "        text-align: right;\n",
       "    }\n",
       "</style>\n",
       "<table border=\"1\" class=\"dataframe\">\n",
       "  <thead>\n",
       "    <tr style=\"text-align: right;\">\n",
       "      <th></th>\n",
       "      <th>tags</th>\n",
       "      <th>text</th>\n",
       "      <th>title</th>\n",
       "      <th>topic</th>\n",
       "      <th>url</th>\n",
       "      <th>full_text</th>\n",
       "    </tr>\n",
       "  </thead>\n",
       "  <tbody>\n",
       "    <tr>\n",
       "      <td>555150</td>\n",
       "      <td>Все</td>\n",
       "      <td>Российские военнослужащих в ближайшее время бу...</td>\n",
       "      <td>Российские миротворцы отправятся в Судан</td>\n",
       "      <td>Россия</td>\n",
       "      <td>https://lenta.ru/news/2006/02/10/secretary/</td>\n",
       "      <td>Российские миротворцы отправятся в Судан Росси...</td>\n",
       "    </tr>\n",
       "    <tr>\n",
       "      <td>32368</td>\n",
       "      <td>Общество</td>\n",
       "      <td>На несогласованных акциях, проходящих 7 октябр...</td>\n",
       "      <td>На несогласованных акциях в российских городах...</td>\n",
       "      <td>Россия</td>\n",
       "      <td>https://lenta.ru/news/2017/10/07/kadirov/</td>\n",
       "      <td>На несогласованных акциях в российских городах...</td>\n",
       "    </tr>\n",
       "  </tbody>\n",
       "</table>\n",
       "</div>"
      ],
      "text/plain": [
       "            tags                                               text  \\\n",
       "555150       Все  Российские военнослужащих в ближайшее время бу...   \n",
       "32368   Общество  На несогласованных акциях, проходящих 7 октябр...   \n",
       "\n",
       "                                                    title   topic  \\\n",
       "555150           Российские миротворцы отправятся в Судан  Россия   \n",
       "32368   На несогласованных акциях в российских городах...  Россия   \n",
       "\n",
       "                                                url  \\\n",
       "555150  https://lenta.ru/news/2006/02/10/secretary/   \n",
       "32368     https://lenta.ru/news/2017/10/07/kadirov/   \n",
       "\n",
       "                                                full_text  \n",
       "555150  Российские миротворцы отправятся в Судан Росси...  \n",
       "32368   На несогласованных акциях в российских городах...  "
      ]
     },
     "execution_count": 26,
     "metadata": {},
     "output_type": "execute_result"
    }
   ],
   "source": [
    "# конкатенируем признаки `title` & `text`\n",
    "df['full_text'] = df.title + ' ' + df.text\n",
    "df.sample(2)"
   ]
  },
  {
   "cell_type": "markdown",
   "metadata": {},
   "source": [
    "---\n",
    "препроцессим"
   ]
  },
  {
   "cell_type": "code",
   "execution_count": 11,
   "metadata": {},
   "outputs": [],
   "source": [
    "from news_viz.data_processing.preprocessing_tools import clean_text, lemmatization"
   ]
  },
  {
   "cell_type": "markdown",
   "metadata": {},
   "source": [
    "* clean text"
   ]
  },
  {
   "cell_type": "code",
   "execution_count": 27,
   "metadata": {},
   "outputs": [],
   "source": [
    "def multiply_clean_text(data):\n",
    "    data['clean_text'] = data['text'].apply(clean_text)\n",
    "    return data"
   ]
  },
  {
   "cell_type": "code",
   "execution_count": 28,
   "metadata": {},
   "outputs": [
    {
     "name": "stdout",
     "output_type": "stream",
     "text": [
      "CPU times: user 17 s, sys: 26.7 s, total: 43.8 s\n",
      "Wall time: 1min 23s\n"
     ]
    },
    {
     "data": {
      "text/plain": [
       "61"
      ]
     },
     "execution_count": 28,
     "metadata": {},
     "output_type": "execute_result"
    }
   ],
   "source": [
    "%%time\n",
    "\n",
    "df = parallelize_dataframe(df, multiply_clean_text)\n",
    "df = df[df.clean_text!='9999']\n",
    "\n",
    "gc.collect()"
   ]
  },
  {
   "cell_type": "code",
   "execution_count": null,
   "metadata": {},
   "outputs": [],
   "source": []
  },
  {
   "cell_type": "code",
   "execution_count": null,
   "metadata": {},
   "outputs": [],
   "source": []
  }
 ],
 "metadata": {
  "kernelspec": {
   "display_name": "Python 3",
   "language": "python",
   "name": "python3"
  },
  "language_info": {
   "codemirror_mode": {
    "name": "ipython",
    "version": 3
   },
   "file_extension": ".py",
   "mimetype": "text/x-python",
   "name": "python",
   "nbconvert_exporter": "python",
   "pygments_lexer": "ipython3",
   "version": "3.7.3"
  }
 },
 "nbformat": 4,
 "nbformat_minor": 4
}
