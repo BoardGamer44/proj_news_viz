{
 "cells": [
  {
   "cell_type": "code",
   "execution_count": 28,
   "metadata": {},
   "outputs": [
    {
     "name": "stdout",
     "output_type": "stream",
     "text": [
      "The autoreload extension is already loaded. To reload it, use:\n",
      "  %reload_ext autoreload\n"
     ]
    }
   ],
   "source": [
    "import warnings\n",
    "warnings.filterwarnings('ignore')\n",
    "\n",
    "import os\n",
    "import sys\n",
    "import gc\n",
    "\n",
    "%load_ext autoreload\n",
    "%autoreload 2"
   ]
  },
  {
   "cell_type": "code",
   "execution_count": 2,
   "metadata": {},
   "outputs": [],
   "source": [
    "# прописывем нужные нам пути\n",
    "dir_project = 'git/proj_news_viz/nlp' # путь проекта\n",
    "\n",
    "PATH = os.path.join(os.getenv('HOME'), dir_project)\n",
    "sys.path.append(PATH)"
   ]
  },
  {
   "cell_type": "code",
   "execution_count": 3,
   "metadata": {},
   "outputs": [],
   "source": [
    "import pandas as pd\n",
    "import numpy as np\n",
    "\n",
    "import matplotlib.pyplot as plt\n",
    "%matplotlib inline"
   ]
  },
  {
   "cell_type": "code",
   "execution_count": 4,
   "metadata": {},
   "outputs": [],
   "source": [
    "import multiprocessing as mp\n",
    "from multiprocessing import Pool\n",
    "num_cores = mp.cpu_count() # number of cores on your machine; 20\n",
    "num_partitions = num_cores * 2 # number of partitions to split dataframe\n",
    "\n",
    "def parallelize_dataframe(df, func):\n",
    "    df_split = np.array_split(df, num_partitions)\n",
    "    pool = Pool(num_cores)\n",
    "    df = pd.concat(pool.map(func, df_split))\n",
    "    pool.close()\n",
    "    pool.join()\n",
    "    return df"
   ]
  },
  {
   "cell_type": "markdown",
   "metadata": {},
   "source": [
    "---\n",
    "возьмем для примера датасет [lenta.ru](https://www.kaggle.com/yutkin/corpus-of-russian-news-articles-from-lenta)\n",
    "\n",
    "для примера взят датасет, скаченный по линку с gitHub"
   ]
  },
  {
   "cell_type": "code",
   "execution_count": 5,
   "metadata": {},
   "outputs": [
    {
     "name": "stdout",
     "output_type": "stream",
     "text": [
      "(699746, 5)\n"
     ]
    },
    {
     "data": {
      "text/html": [
       "<div>\n",
       "<style scoped>\n",
       "    .dataframe tbody tr th:only-of-type {\n",
       "        vertical-align: middle;\n",
       "    }\n",
       "\n",
       "    .dataframe tbody tr th {\n",
       "        vertical-align: top;\n",
       "    }\n",
       "\n",
       "    .dataframe thead th {\n",
       "        text-align: right;\n",
       "    }\n",
       "</style>\n",
       "<table border=\"1\" class=\"dataframe\">\n",
       "  <thead>\n",
       "    <tr style=\"text-align: right;\">\n",
       "      <th></th>\n",
       "      <th>tags</th>\n",
       "      <th>text</th>\n",
       "      <th>title</th>\n",
       "      <th>topic</th>\n",
       "      <th>url</th>\n",
       "    </tr>\n",
       "  </thead>\n",
       "  <tbody>\n",
       "    <tr>\n",
       "      <th>0</th>\n",
       "      <td>Общество</td>\n",
       "      <td>Миллиардер Илон Маск в резкой форме ответил бр...</td>\n",
       "      <td>Илон Маск назвал педофилом спасавшего детей из...</td>\n",
       "      <td>Мир</td>\n",
       "      <td>https://lenta.ru/news/2018/07/16/su57/</td>\n",
       "    </tr>\n",
       "    <tr>\n",
       "      <th>1</th>\n",
       "      <td>Рынки</td>\n",
       "      <td>США и их западные союзники рассматривают возмо...</td>\n",
       "      <td>США задумались о распечатывании нефтяного резерва</td>\n",
       "      <td>Экономика</td>\n",
       "      <td>https://lenta.ru/news/2018/07/16/foes/</td>\n",
       "    </tr>\n",
       "  </tbody>\n",
       "</table>\n",
       "</div>"
      ],
      "text/plain": [
       "       tags                                               text  \\\n",
       "0  Общество  Миллиардер Илон Маск в резкой форме ответил бр...   \n",
       "1     Рынки  США и их западные союзники рассматривают возмо...   \n",
       "\n",
       "                                               title      topic  \\\n",
       "0  Илон Маск назвал педофилом спасавшего детей из...        Мир   \n",
       "1  США задумались о распечатывании нефтяного резерва  Экономика   \n",
       "\n",
       "                                      url  \n",
       "0  https://lenta.ru/news/2018/07/16/su57/  \n",
       "1  https://lenta.ru/news/2018/07/16/foes/  "
      ]
     },
     "execution_count": 5,
     "metadata": {},
     "output_type": "execute_result"
    }
   ],
   "source": [
    "df = pd.read_csv(f'{PATH}/data/external/news_lenta.csv')\n",
    "print(df.shape)\n",
    "df.head(2)"
   ]
  },
  {
   "cell_type": "code",
   "execution_count": 6,
   "metadata": {},
   "outputs": [
    {
     "name": "stdout",
     "output_type": "stream",
     "text": [
      "df.shape: (675697, 5)\n"
     ]
    },
    {
     "data": {
      "text/plain": [
       "tags     0\n",
       "text     0\n",
       "title    0\n",
       "topic    0\n",
       "url      0\n",
       "dtype: int64"
      ]
     },
     "execution_count": 6,
     "metadata": {},
     "output_type": "execute_result"
    }
   ],
   "source": [
    "# удалим пустые записи и дубликаты по признаку `text`\n",
    "df.dropna(inplace=True)\n",
    "df.text.drop_duplicates(inplace=True)\n",
    "\n",
    "print(f'df.shape: {df.shape}')\n",
    "df.isnull().sum()"
   ]
  },
  {
   "cell_type": "code",
   "execution_count": 7,
   "metadata": {},
   "outputs": [
    {
     "data": {
      "text/html": [
       "<div>\n",
       "<style scoped>\n",
       "    .dataframe tbody tr th:only-of-type {\n",
       "        vertical-align: middle;\n",
       "    }\n",
       "\n",
       "    .dataframe tbody tr th {\n",
       "        vertical-align: top;\n",
       "    }\n",
       "\n",
       "    .dataframe thead th {\n",
       "        text-align: right;\n",
       "    }\n",
       "</style>\n",
       "<table border=\"1\" class=\"dataframe\">\n",
       "  <thead>\n",
       "    <tr style=\"text-align: right;\">\n",
       "      <th></th>\n",
       "      <th>tags</th>\n",
       "      <th>text</th>\n",
       "      <th>title</th>\n",
       "      <th>topic</th>\n",
       "      <th>url</th>\n",
       "      <th>full_text</th>\n",
       "    </tr>\n",
       "  </thead>\n",
       "  <tbody>\n",
       "    <tr>\n",
       "      <th>647983</th>\n",
       "      <td>Все</td>\n",
       "      <td>71-летний американец в понедельник расстрелял ...</td>\n",
       "      <td>71-летний американец расстрелял из \"Калашников...</td>\n",
       "      <td>Мир</td>\n",
       "      <td>https://lenta.ru/news/2002/06/11/transport/</td>\n",
       "      <td>71-летний американец расстрелял из \"Калашников...</td>\n",
       "    </tr>\n",
       "    <tr>\n",
       "      <th>351072</th>\n",
       "      <td>Все</td>\n",
       "      <td>Британский производитель вооружения BAE System...</td>\n",
       "      <td>Дефицит бюджета Великобритании заставит BAE Sy...</td>\n",
       "      <td>Экономика</td>\n",
       "      <td>https://lenta.ru/news/2010/12/09/tula/</td>\n",
       "      <td>Дефицит бюджета Великобритании заставит BAE Sy...</td>\n",
       "    </tr>\n",
       "  </tbody>\n",
       "</table>\n",
       "</div>"
      ],
      "text/plain": [
       "       tags                                               text  \\\n",
       "647983  Все  71-летний американец в понедельник расстрелял ...   \n",
       "351072  Все  Британский производитель вооружения BAE System...   \n",
       "\n",
       "                                                    title      topic  \\\n",
       "647983  71-летний американец расстрелял из \"Калашников...        Мир   \n",
       "351072  Дефицит бюджета Великобритании заставит BAE Sy...  Экономика   \n",
       "\n",
       "                                                url  \\\n",
       "647983  https://lenta.ru/news/2002/06/11/transport/   \n",
       "351072       https://lenta.ru/news/2010/12/09/tula/   \n",
       "\n",
       "                                                full_text  \n",
       "647983  71-летний американец расстрелял из \"Калашников...  \n",
       "351072  Дефицит бюджета Великобритании заставит BAE Sy...  "
      ]
     },
     "execution_count": 7,
     "metadata": {},
     "output_type": "execute_result"
    }
   ],
   "source": [
    "# конкатенируем признаки `title` & `text`\n",
    "df['full_text'] = df.title + ' ' + df.text\n",
    "df.sample(2)"
   ]
  },
  {
   "cell_type": "markdown",
   "metadata": {},
   "source": [
    "---\n",
    "препроцессим"
   ]
  },
  {
   "cell_type": "code",
   "execution_count": 33,
   "metadata": {},
   "outputs": [],
   "source": [
    "from news_viz.data_processing.preprocessing_tools import clean_text, lemmatize"
   ]
  },
  {
   "cell_type": "markdown",
   "metadata": {},
   "source": [
    "* clean text"
   ]
  },
  {
   "cell_type": "code",
   "execution_count": 34,
   "metadata": {},
   "outputs": [],
   "source": [
    "def multiply_clean_text(data):\n",
    "    data['clean_text'] = data['full_text'].apply(clean_text)\n",
    "    return data"
   ]
  },
  {
   "cell_type": "code",
   "execution_count": 35,
   "metadata": {},
   "outputs": [
    {
     "name": "stdout",
     "output_type": "stream",
     "text": [
      "CPU times: user 46 s, sys: 2min 14s, total: 3min\n",
      "Wall time: 5min 59s\n"
     ]
    }
   ],
   "source": [
    "%%time\n",
    "\n",
    "df = parallelize_dataframe(df, multiply_clean_text)\n",
    "df = df[df.clean_text!=9999]\n",
    "\n",
    "gc.collect()"
   ]
  },
  {
   "cell_type": "markdown",
   "metadata": {},
   "source": [
    "* lemmatize"
   ]
  },
  {
   "cell_type": "code",
   "execution_count": 38,
   "metadata": {},
   "outputs": [],
   "source": [
    "def multiply_lemmatization(data):\n",
    "    data['lemma_text'] = data['clean_text'].apply(lemmatize)\n",
    "    return data"
   ]
  },
  {
   "cell_type": "code",
   "execution_count": 39,
   "metadata": {},
   "outputs": [
    {
     "name": "stdout",
     "output_type": "stream",
     "text": [
      "CPU times: user 54.6 s, sys: 3min 58s, total: 4min 53s\n",
      "Wall time: 19min 36s\n"
     ]
    }
   ],
   "source": [
    "%%time\n",
    "\n",
    "df = parallelize_dataframe(df, multiply_lemmatization)\n",
    "df = df[df.lemma_text!=9999]\n",
    "gc.collect()"
   ]
  },
  {
   "cell_type": "code",
   "execution_count": 42,
   "metadata": {},
   "outputs": [
    {
     "name": "stdout",
     "output_type": "stream",
     "text": [
      "(674580, 8)\n"
     ]
    },
    {
     "data": {
      "text/html": [
       "<div>\n",
       "<style scoped>\n",
       "    .dataframe tbody tr th:only-of-type {\n",
       "        vertical-align: middle;\n",
       "    }\n",
       "\n",
       "    .dataframe tbody tr th {\n",
       "        vertical-align: top;\n",
       "    }\n",
       "\n",
       "    .dataframe thead th {\n",
       "        text-align: right;\n",
       "    }\n",
       "</style>\n",
       "<table border=\"1\" class=\"dataframe\">\n",
       "  <thead>\n",
       "    <tr style=\"text-align: right;\">\n",
       "      <th></th>\n",
       "      <th>tags</th>\n",
       "      <th>text</th>\n",
       "      <th>title</th>\n",
       "      <th>topic</th>\n",
       "      <th>url</th>\n",
       "      <th>full_text</th>\n",
       "      <th>clean_text</th>\n",
       "      <th>lemma_text</th>\n",
       "    </tr>\n",
       "  </thead>\n",
       "  <tbody>\n",
       "    <tr>\n",
       "      <th>667895</th>\n",
       "      <td>Все</td>\n",
       "      <td>Проект индивидуальных счетов граждан, который ...</td>\n",
       "      <td>Государство разрешит гражданам не платить нало...</td>\n",
       "      <td>Экономика</td>\n",
       "      <td>https://lenta.ru/news/2001/07/26/boevik2/</td>\n",
       "      <td>Государство разрешит гражданам не платить нало...</td>\n",
       "      <td>государство разрешит гражданам не платить нало...</td>\n",
       "      <td>государство разрешить гражданин платить налог ...</td>\n",
       "    </tr>\n",
       "    <tr>\n",
       "      <th>317986</th>\n",
       "      <td>Все</td>\n",
       "      <td>Власти валлийского города Портмадог, расположе...</td>\n",
       "      <td>Мост для летучих мышей обошелся валлийскому го...</td>\n",
       "      <td>Из жизни</td>\n",
       "      <td>https://lenta.ru/news/2011/09/26/micex/</td>\n",
       "      <td>Мост для летучих мышей обошелся валлийскому го...</td>\n",
       "      <td>мост для летучих мышей обошелся валлийскому го...</td>\n",
       "      <td>мост летучий мышей обойтись валлийский город т...</td>\n",
       "    </tr>\n",
       "  </tbody>\n",
       "</table>\n",
       "</div>"
      ],
      "text/plain": [
       "       tags                                               text  \\\n",
       "667895  Все  Проект индивидуальных счетов граждан, который ...   \n",
       "317986  Все  Власти валлийского города Портмадог, расположе...   \n",
       "\n",
       "                                                    title      topic  \\\n",
       "667895  Государство разрешит гражданам не платить нало...  Экономика   \n",
       "317986  Мост для летучих мышей обошелся валлийскому го...   Из жизни   \n",
       "\n",
       "                                              url  \\\n",
       "667895  https://lenta.ru/news/2001/07/26/boevik2/   \n",
       "317986    https://lenta.ru/news/2011/09/26/micex/   \n",
       "\n",
       "                                                full_text  \\\n",
       "667895  Государство разрешит гражданам не платить нало...   \n",
       "317986  Мост для летучих мышей обошелся валлийскому го...   \n",
       "\n",
       "                                               clean_text  \\\n",
       "667895  государство разрешит гражданам не платить нало...   \n",
       "317986  мост для летучих мышей обошелся валлийскому го...   \n",
       "\n",
       "                                               lemma_text  \n",
       "667895  государство разрешить гражданин платить налог ...  \n",
       "317986  мост летучий мышей обойтись валлийский город т...  "
      ]
     },
     "execution_count": 42,
     "metadata": {},
     "output_type": "execute_result"
    }
   ],
   "source": [
    "print(df.shape)\n",
    "df.sample(2)"
   ]
  },
  {
   "cell_type": "markdown",
   "metadata": {},
   "source": [
    "---"
   ]
  },
  {
   "cell_type": "code",
   "execution_count": 43,
   "metadata": {},
   "outputs": [],
   "source": [
    "df[['url','lemma_text']].to_csv(f'{PATH}/data/interim/news_lenta-cleaned-lemmatize.csv.gz', compression='gzip', index=False)"
   ]
  },
  {
   "cell_type": "code",
   "execution_count": null,
   "metadata": {},
   "outputs": [],
   "source": []
  }
 ],
 "metadata": {
  "kernelspec": {
   "display_name": "Python 3",
   "language": "python",
   "name": "python3"
  },
  "language_info": {
   "codemirror_mode": {
    "name": "ipython",
    "version": 3
   },
   "file_extension": ".py",
   "mimetype": "text/x-python",
   "name": "python",
   "nbconvert_exporter": "python",
   "pygments_lexer": "ipython3",
   "version": "3.6.7"
  }
 },
 "nbformat": 4,
 "nbformat_minor": 4
}
