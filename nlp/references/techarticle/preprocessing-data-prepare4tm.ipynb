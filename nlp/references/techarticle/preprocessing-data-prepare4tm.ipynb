{
 "cells": [
  {
   "cell_type": "code",
   "execution_count": 1,
   "metadata": {},
   "outputs": [],
   "source": [
    "import os\n",
    "import sys\n",
    "import gc\n",
    "\n",
    "# прописываем нужный нам путь к проекту\n",
    "from pathlib import Path\n",
    "PATH = Path('/home/vtrokhymenko/git/proj_news_viz/nlp/')\n",
    "sys.path.append(str(PATH))\n",
    "\n",
    "import warnings\n",
    "warnings.filterwarnings('ignore')\n",
    "\n",
    "%load_ext autoreload\n",
    "%autoreload 2"
   ]
  },
  {
   "cell_type": "code",
   "execution_count": 2,
   "metadata": {},
   "outputs": [],
   "source": [
    "import pandas as pd\n",
    "import numpy as np\n",
    "\n",
    "import matplotlib.pyplot as plt\n",
    "%matplotlib inline"
   ]
  },
  {
   "cell_type": "code",
   "execution_count": 3,
   "metadata": {},
   "outputs": [],
   "source": [
    "import multiprocessing as mp\n",
    "from multiprocessing import Pool\n",
    "num_cores = mp.cpu_count() # number of cores on your machine; 20\n",
    "num_partitions = num_cores * 2 # number of partitions to split dataframe\n",
    "\n",
    "def parallelize_dataframe(df, func):\n",
    "    df_split = np.array_split(df, num_partitions)\n",
    "    pool = Pool(num_cores)\n",
    "    df = pd.concat(pool.map(func, df_split))\n",
    "    pool.close()\n",
    "    pool.join()\n",
    "    return df"
   ]
  },
  {
   "cell_type": "markdown",
   "metadata": {},
   "source": [
    "---\n",
    "возьмем для примера датасет [lenta.ru](https://www.kaggle.com/yutkin/corpus-of-russian-news-articles-from-lenta)\n",
    "\n",
    "для примера взят датасет, скаченный по линку с [gitHub](https://github.com/yutkin/Lenta.Ru-News-Dataset/tree/v1.1)"
   ]
  },
  {
   "cell_type": "code",
   "execution_count": 4,
   "metadata": {},
   "outputs": [
    {
     "name": "stdout",
     "output_type": "stream",
     "text": [
      "(800975, 6)\n"
     ]
    },
    {
     "data": {
      "text/html": [
       "<div>\n",
       "<style scoped>\n",
       "    .dataframe tbody tr th:only-of-type {\n",
       "        vertical-align: middle;\n",
       "    }\n",
       "\n",
       "    .dataframe tbody tr th {\n",
       "        vertical-align: top;\n",
       "    }\n",
       "\n",
       "    .dataframe thead th {\n",
       "        text-align: right;\n",
       "    }\n",
       "</style>\n",
       "<table border=\"1\" class=\"dataframe\">\n",
       "  <thead>\n",
       "    <tr style=\"text-align: right;\">\n",
       "      <th></th>\n",
       "      <th>url</th>\n",
       "      <th>title</th>\n",
       "      <th>text</th>\n",
       "      <th>topic</th>\n",
       "      <th>tags</th>\n",
       "      <th>date</th>\n",
       "    </tr>\n",
       "  </thead>\n",
       "  <tbody>\n",
       "    <tr>\n",
       "      <th>429638</th>\n",
       "      <td>https://lenta.ru/news/2012/07/30/train1/</td>\n",
       "      <td>При столкновении поезда с автобусом в Польше п...</td>\n",
       "      <td>В результате столкновения поезда с микроавтобу...</td>\n",
       "      <td>Бывший СССР</td>\n",
       "      <td>Все</td>\n",
       "      <td>2012/07/30</td>\n",
       "    </tr>\n",
       "    <tr>\n",
       "      <th>102244</th>\n",
       "      <td>https://lenta.ru/news/2004/09/29/letter/</td>\n",
       "      <td>Сто влиятельных западных политиков призвали НА...</td>\n",
       "      <td>Сто влиятельных политиков и интеллектуалов США...</td>\n",
       "      <td>Мир</td>\n",
       "      <td>Все</td>\n",
       "      <td>2004/09/29</td>\n",
       "    </tr>\n",
       "  </tbody>\n",
       "</table>\n",
       "</div>"
      ],
      "text/plain": [
       "                                             url  \\\n",
       "429638  https://lenta.ru/news/2012/07/30/train1/   \n",
       "102244  https://lenta.ru/news/2004/09/29/letter/   \n",
       "\n",
       "                                                    title  \\\n",
       "429638  При столкновении поезда с автобусом в Польше п...   \n",
       "102244  Сто влиятельных западных политиков призвали НА...   \n",
       "\n",
       "                                                     text        topic tags  \\\n",
       "429638  В результате столкновения поезда с микроавтобу...  Бывший СССР  Все   \n",
       "102244  Сто влиятельных политиков и интеллектуалов США...          Мир  Все   \n",
       "\n",
       "              date  \n",
       "429638  2012/07/30  \n",
       "102244  2004/09/29  "
      ]
     },
     "execution_count": 4,
     "metadata": {},
     "output_type": "execute_result"
    }
   ],
   "source": [
    "df = pd.read_csv(PATH / 'data/external/lenta-ru-news.csv')\n",
    "print(df.shape)\n",
    "df.sample(2)"
   ]
  },
  {
   "cell_type": "code",
   "execution_count": 5,
   "metadata": {},
   "outputs": [
    {
     "name": "stdout",
     "output_type": "stream",
     "text": [
      "df.shape: (712654, 6)\n"
     ]
    },
    {
     "data": {
      "text/plain": [
       "url      0\n",
       "title    0\n",
       "text     0\n",
       "topic    0\n",
       "tags     0\n",
       "date     0\n",
       "dtype: int64"
      ]
     },
     "execution_count": 5,
     "metadata": {},
     "output_type": "execute_result"
    }
   ],
   "source": [
    "# удалим пустые записи и дубликаты по признаку `text`\n",
    "df.dropna(inplace=True)\n",
    "df.text.drop_duplicates(inplace=True)\n",
    "\n",
    "print(f'df.shape: {df.shape}')\n",
    "df.isnull().sum()"
   ]
  },
  {
   "cell_type": "code",
   "execution_count": 6,
   "metadata": {},
   "outputs": [
    {
     "data": {
      "text/html": [
       "<div>\n",
       "<style scoped>\n",
       "    .dataframe tbody tr th:only-of-type {\n",
       "        vertical-align: middle;\n",
       "    }\n",
       "\n",
       "    .dataframe tbody tr th {\n",
       "        vertical-align: top;\n",
       "    }\n",
       "\n",
       "    .dataframe thead th {\n",
       "        text-align: right;\n",
       "    }\n",
       "</style>\n",
       "<table border=\"1\" class=\"dataframe\">\n",
       "  <thead>\n",
       "    <tr style=\"text-align: right;\">\n",
       "      <th></th>\n",
       "      <th>url</th>\n",
       "      <th>title</th>\n",
       "      <th>text</th>\n",
       "      <th>topic</th>\n",
       "      <th>tags</th>\n",
       "      <th>date</th>\n",
       "      <th>full_text</th>\n",
       "    </tr>\n",
       "  </thead>\n",
       "  <tbody>\n",
       "    <tr>\n",
       "      <th>256163</th>\n",
       "      <td>https://lenta.ru/news/2008/11/21/chariot/</td>\n",
       "      <td>Болгарские археологи нашли фракийскую колесницу</td>\n",
       "      <td>При раскопках фракийского погребального курган...</td>\n",
       "      <td>Культура</td>\n",
       "      <td>Все</td>\n",
       "      <td>2008/11/21</td>\n",
       "      <td>Болгарские археологи нашли фракийскую колесниц...</td>\n",
       "    </tr>\n",
       "    <tr>\n",
       "      <th>18522</th>\n",
       "      <td>https://lenta.ru/news/2000/12/19/maple/</td>\n",
       "      <td>Владимир Путин посадил в Канаде сахарный клен</td>\n",
       "      <td>Президент России Владимир Путин в понедельник ...</td>\n",
       "      <td>Россия</td>\n",
       "      <td>Все</td>\n",
       "      <td>2000/12/19</td>\n",
       "      <td>Владимир Путин посадил в Канаде сахарный клен ...</td>\n",
       "    </tr>\n",
       "  </tbody>\n",
       "</table>\n",
       "</div>"
      ],
      "text/plain": [
       "                                              url  \\\n",
       "256163  https://lenta.ru/news/2008/11/21/chariot/   \n",
       "18522     https://lenta.ru/news/2000/12/19/maple/   \n",
       "\n",
       "                                                  title  \\\n",
       "256163  Болгарские археологи нашли фракийскую колесницу   \n",
       "18522     Владимир Путин посадил в Канаде сахарный клен   \n",
       "\n",
       "                                                     text     topic tags  \\\n",
       "256163  При раскопках фракийского погребального курган...  Культура  Все   \n",
       "18522   Президент России Владимир Путин в понедельник ...    Россия  Все   \n",
       "\n",
       "              date                                          full_text  \n",
       "256163  2008/11/21  Болгарские археологи нашли фракийскую колесниц...  \n",
       "18522   2000/12/19  Владимир Путин посадил в Канаде сахарный клен ...  "
      ]
     },
     "execution_count": 6,
     "metadata": {},
     "output_type": "execute_result"
    }
   ],
   "source": [
    "# конкатенируем признаки `title` & `text` через символ '|'\n",
    "df['full_text'] = df.title + ' | ' + df.text\n",
    "df.sample(2)"
   ]
  },
  {
   "cell_type": "markdown",
   "metadata": {},
   "source": [
    "---\n",
    "препроцессим"
   ]
  },
  {
   "cell_type": "code",
   "execution_count": 7,
   "metadata": {},
   "outputs": [],
   "source": [
    "from news_viz.data.preprocessing_tools import clean_text, lemmatize\n",
    "# pip install pymorphy2"
   ]
  },
  {
   "cell_type": "markdown",
   "metadata": {},
   "source": [
    "* почистим немного текст"
   ]
  },
  {
   "cell_type": "code",
   "execution_count": 8,
   "metadata": {},
   "outputs": [],
   "source": [
    "def multiply_clean_text(data):\n",
    "    data['clean_text'] = data['full_text'].apply(clean_text)\n",
    "    return data"
   ]
  },
  {
   "cell_type": "code",
   "execution_count": 9,
   "metadata": {},
   "outputs": [
    {
     "name": "stdout",
     "output_type": "stream",
     "text": [
      "CPU times: user 19.9 s, sys: 14.8 s, total: 34.6 s\n",
      "Wall time: 34.9 s\n"
     ]
    },
    {
     "data": {
      "text/plain": [
       "0"
      ]
     },
     "execution_count": 9,
     "metadata": {},
     "output_type": "execute_result"
    }
   ],
   "source": [
    "%%time\n",
    "\n",
    "df = parallelize_dataframe(df, multiply_clean_text)\n",
    "df = df[df.clean_text!=9999]\n",
    "\n",
    "gc.collect()"
   ]
  },
  {
   "cell_type": "markdown",
   "metadata": {},
   "source": [
    "* оставим только нужные нам столбцы"
   ]
  },
  {
   "cell_type": "code",
   "execution_count": 13,
   "metadata": {},
   "outputs": [
    {
     "name": "stdout",
     "output_type": "stream",
     "text": [
      "(711725, 8)\n"
     ]
    },
    {
     "data": {
      "text/html": [
       "<div>\n",
       "<style scoped>\n",
       "    .dataframe tbody tr th:only-of-type {\n",
       "        vertical-align: middle;\n",
       "    }\n",
       "\n",
       "    .dataframe tbody tr th {\n",
       "        vertical-align: top;\n",
       "    }\n",
       "\n",
       "    .dataframe thead th {\n",
       "        text-align: right;\n",
       "    }\n",
       "</style>\n",
       "<table border=\"1\" class=\"dataframe\">\n",
       "  <thead>\n",
       "    <tr style=\"text-align: right;\">\n",
       "      <th></th>\n",
       "      <th>url</th>\n",
       "      <th>title</th>\n",
       "      <th>text</th>\n",
       "      <th>topic</th>\n",
       "      <th>tags</th>\n",
       "      <th>date</th>\n",
       "      <th>full_text</th>\n",
       "      <th>clean_text</th>\n",
       "    </tr>\n",
       "  </thead>\n",
       "  <tbody>\n",
       "    <tr>\n",
       "      <th>225503</th>\n",
       "      <td>https://lenta.ru/news/2008/04/16/zimbabwe1/</td>\n",
       "      <td>Инфляция в Зимбабве достигла 165 тысяч процент...</td>\n",
       "      <td>Инфляция в Зимбабве достигла очередного рекорд...</td>\n",
       "      <td>Экономика</td>\n",
       "      <td>Все</td>\n",
       "      <td>2008/04/16</td>\n",
       "      <td>Инфляция в Зимбабве достигла 165 тысяч процент...</td>\n",
       "      <td>инфляция зимбабве достигла тысяч процентов год...</td>\n",
       "    </tr>\n",
       "  </tbody>\n",
       "</table>\n",
       "</div>"
      ],
      "text/plain": [
       "                                                url  \\\n",
       "225503  https://lenta.ru/news/2008/04/16/zimbabwe1/   \n",
       "\n",
       "                                                    title  \\\n",
       "225503  Инфляция в Зимбабве достигла 165 тысяч процент...   \n",
       "\n",
       "                                                     text      topic tags  \\\n",
       "225503  Инфляция в Зимбабве достигла очередного рекорд...  Экономика  Все   \n",
       "\n",
       "              date                                          full_text  \\\n",
       "225503  2008/04/16  Инфляция в Зимбабве достигла 165 тысяч процент...   \n",
       "\n",
       "                                               clean_text  \n",
       "225503  инфляция зимбабве достигла тысяч процентов год...  "
      ]
     },
     "execution_count": 13,
     "metadata": {},
     "output_type": "execute_result"
    }
   ],
   "source": [
    "print(df.shape)\n",
    "df.sample(1)"
   ]
  },
  {
   "cell_type": "code",
   "execution_count": 14,
   "metadata": {},
   "outputs": [
    {
     "name": "stdout",
     "output_type": "stream",
     "text": [
      "(711725, 2)\n"
     ]
    },
    {
     "data": {
      "text/html": [
       "<div>\n",
       "<style scoped>\n",
       "    .dataframe tbody tr th:only-of-type {\n",
       "        vertical-align: middle;\n",
       "    }\n",
       "\n",
       "    .dataframe tbody tr th {\n",
       "        vertical-align: top;\n",
       "    }\n",
       "\n",
       "    .dataframe thead th {\n",
       "        text-align: right;\n",
       "    }\n",
       "</style>\n",
       "<table border=\"1\" class=\"dataframe\">\n",
       "  <thead>\n",
       "    <tr style=\"text-align: right;\">\n",
       "      <th></th>\n",
       "      <th>url</th>\n",
       "      <th>clean_text</th>\n",
       "    </tr>\n",
       "  </thead>\n",
       "  <tbody>\n",
       "    <tr>\n",
       "      <th>219110</th>\n",
       "      <td>https://lenta.ru/news/2008/02/29/abel1/</td>\n",
       "      <td>суд решил депортировать владимира абеля из рос...</td>\n",
       "    </tr>\n",
       "    <tr>\n",
       "      <th>499410</th>\n",
       "      <td>https://lenta.ru/news/2014/03/04/nocooperation/</td>\n",
       "      <td>сша заморозили военное сотрудничество россией ...</td>\n",
       "    </tr>\n",
       "  </tbody>\n",
       "</table>\n",
       "</div>"
      ],
      "text/plain": [
       "                                                    url  \\\n",
       "219110          https://lenta.ru/news/2008/02/29/abel1/   \n",
       "499410  https://lenta.ru/news/2014/03/04/nocooperation/   \n",
       "\n",
       "                                               clean_text  \n",
       "219110  суд решил депортировать владимира абеля из рос...  \n",
       "499410  сша заморозили военное сотрудничество россией ...  "
      ]
     },
     "execution_count": 14,
     "metadata": {},
     "output_type": "execute_result"
    }
   ],
   "source": [
    "df = df[['url','clean_text']]\n",
    "print(df.shape)\n",
    "df.sample(2)"
   ]
  },
  {
   "cell_type": "markdown",
   "metadata": {},
   "source": [
    "* лемматизируем и удаляем стоп-слова (624 примера)"
   ]
  },
  {
   "cell_type": "code",
   "execution_count": 15,
   "metadata": {},
   "outputs": [],
   "source": [
    "def multiply_lemmatization(data):\n",
    "    data['lemma_text'] = data['clean_text'].apply(lemmatize)\n",
    "    return data"
   ]
  },
  {
   "cell_type": "code",
   "execution_count": 16,
   "metadata": {},
   "outputs": [
    {
     "name": "stdout",
     "output_type": "stream",
     "text": [
      "CPU times: user 14 s, sys: 10.5 s, total: 24.5 s\n",
      "Wall time: 12min 28s\n"
     ]
    },
    {
     "data": {
      "text/plain": [
       "0"
      ]
     },
     "execution_count": 16,
     "metadata": {},
     "output_type": "execute_result"
    }
   ],
   "source": [
    "%%time\n",
    "\n",
    "df = parallelize_dataframe(df, multiply_lemmatization)\n",
    "df = df[df.lemma_text!=9999]\n",
    "gc.collect()"
   ]
  },
  {
   "cell_type": "code",
   "execution_count": 17,
   "metadata": {},
   "outputs": [
    {
     "name": "stdout",
     "output_type": "stream",
     "text": [
      "(711724, 3)\n"
     ]
    },
    {
     "data": {
      "text/html": [
       "<div>\n",
       "<style scoped>\n",
       "    .dataframe tbody tr th:only-of-type {\n",
       "        vertical-align: middle;\n",
       "    }\n",
       "\n",
       "    .dataframe tbody tr th {\n",
       "        vertical-align: top;\n",
       "    }\n",
       "\n",
       "    .dataframe thead th {\n",
       "        text-align: right;\n",
       "    }\n",
       "</style>\n",
       "<table border=\"1\" class=\"dataframe\">\n",
       "  <thead>\n",
       "    <tr style=\"text-align: right;\">\n",
       "      <th></th>\n",
       "      <th>url</th>\n",
       "      <th>clean_text</th>\n",
       "      <th>lemma_text</th>\n",
       "    </tr>\n",
       "  </thead>\n",
       "  <tbody>\n",
       "    <tr>\n",
       "      <th>737116</th>\n",
       "      <td>https://lenta.ru/news/2018/11/30/syria_video/</td>\n",
       "      <td>авиаудар израиля по сирии попал на видео сирий...</td>\n",
       "      <td>авиаудар израиль сирия попасть видео сирийский...</td>\n",
       "    </tr>\n",
       "    <tr>\n",
       "      <th>348579</th>\n",
       "      <td>https://lenta.ru/news/2010/10/12/mccartney/</td>\n",
       "      <td>пол маккартни объявил конкурс каверов бывший у...</td>\n",
       "      <td>половина маккартень объявить конкурс кавер быв...</td>\n",
       "    </tr>\n",
       "  </tbody>\n",
       "</table>\n",
       "</div>"
      ],
      "text/plain": [
       "                                                  url  \\\n",
       "737116  https://lenta.ru/news/2018/11/30/syria_video/   \n",
       "348579    https://lenta.ru/news/2010/10/12/mccartney/   \n",
       "\n",
       "                                               clean_text  \\\n",
       "737116  авиаудар израиля по сирии попал на видео сирий...   \n",
       "348579  пол маккартни объявил конкурс каверов бывший у...   \n",
       "\n",
       "                                               lemma_text  \n",
       "737116  авиаудар израиль сирия попасть видео сирийский...  \n",
       "348579  половина маккартень объявить конкурс кавер быв...  "
      ]
     },
     "execution_count": 17,
     "metadata": {},
     "output_type": "execute_result"
    }
   ],
   "source": [
    "print(df.shape)\n",
    "df.sample(2)"
   ]
  },
  {
   "cell_type": "markdown",
   "metadata": {},
   "source": [
    "---"
   ]
  },
  {
   "cell_type": "code",
   "execution_count": 18,
   "metadata": {},
   "outputs": [],
   "source": [
    "df[['url','lemma_text']].to_csv(f'{PATH}/data/interim/lenta_ru_news-cleaned-lemmatize.csv.gz', compression='gzip', index=False)"
   ]
  },
  {
   "cell_type": "code",
   "execution_count": null,
   "metadata": {},
   "outputs": [],
   "source": []
  }
 ],
 "metadata": {
  "kernelspec": {
   "display_name": "Python 3",
   "language": "python",
   "name": "python3"
  },
  "language_info": {
   "codemirror_mode": {
    "name": "ipython",
    "version": 3
   },
   "file_extension": ".py",
   "mimetype": "text/x-python",
   "name": "python",
   "nbconvert_exporter": "python",
   "pygments_lexer": "ipython3",
   "version": "3.7.5"
  }
 },
 "nbformat": 4,
 "nbformat_minor": 4
}
