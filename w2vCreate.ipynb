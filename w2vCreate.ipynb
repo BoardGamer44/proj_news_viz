{
 "cells": [
  {
   "cell_type": "code",
   "execution_count": 1,
   "metadata": {},
   "outputs": [],
   "source": [
    "import sys\n",
    "sys.path.insert(0, '/home/azamat/python/analytic/proj_news_viz/nlp/preprocessing')\n",
    "import preprocessing_tools\n",
    "import pandas as pd"
   ]
  },
  {
   "cell_type": "code",
   "execution_count": 2,
   "metadata": {},
   "outputs": [
    {
     "data": {
      "text/html": [
       "<div>\n",
       "<style scoped>\n",
       "    .dataframe tbody tr th:only-of-type {\n",
       "        vertical-align: middle;\n",
       "    }\n",
       "\n",
       "    .dataframe tbody tr th {\n",
       "        vertical-align: top;\n",
       "    }\n",
       "\n",
       "    .dataframe thead th {\n",
       "        text-align: right;\n",
       "    }\n",
       "</style>\n",
       "<table border=\"1\" class=\"dataframe\">\n",
       "  <thead>\n",
       "    <tr style=\"text-align: right;\">\n",
       "      <th></th>\n",
       "      <th>tags</th>\n",
       "      <th>text</th>\n",
       "      <th>title</th>\n",
       "      <th>topic</th>\n",
       "      <th>url</th>\n",
       "      <th>processed</th>\n",
       "    </tr>\n",
       "  </thead>\n",
       "  <tbody>\n",
       "    <tr>\n",
       "      <th>0</th>\n",
       "      <td>Общество</td>\n",
       "      <td>Миллиардер Илон Маск в резкой форме ответил бр...</td>\n",
       "      <td>Илон Маск назвал педофилом спасавшего детей из...</td>\n",
       "      <td>Мир</td>\n",
       "      <td>https://lenta.ru/news/2018/07/16/su57/</td>\n",
       "      <td>[миллиардер, илона, маск, резка, форма, ответи...</td>\n",
       "    </tr>\n",
       "    <tr>\n",
       "      <th>1</th>\n",
       "      <td>Рынки</td>\n",
       "      <td>США и их западные союзники рассматривают возмо...</td>\n",
       "      <td>США задумались о распечатывании нефтяного резерва</td>\n",
       "      <td>Экономика</td>\n",
       "      <td>https://lenta.ru/news/2018/07/16/foes/</td>\n",
       "      <td>[сша, западный, союзник, рассматривать, возмож...</td>\n",
       "    </tr>\n",
       "    <tr>\n",
       "      <th>2</th>\n",
       "      <td>Преступность</td>\n",
       "      <td>Празднование победы сборной Франции на чемпион...</td>\n",
       "      <td>Празднование победы на ЧМ во Франции закончило...</td>\n",
       "      <td>Мир</td>\n",
       "      <td>https://lenta.ru/news/2018/07/15/fra_bezumie/</td>\n",
       "      <td>[празднование, победа, сборный, франция, чемпи...</td>\n",
       "    </tr>\n",
       "    <tr>\n",
       "      <th>3</th>\n",
       "      <td>Политика</td>\n",
       "      <td>География использования лимузинов проекта «Кор...</td>\n",
       "      <td>Песков рассказал о планах на президентские лим...</td>\n",
       "      <td>Россия</td>\n",
       "      <td>https://lenta.ru/news/2018/07/16/delo_shyut/</td>\n",
       "      <td>[география, использование, лимузин, проект, ко...</td>\n",
       "    </tr>\n",
       "    <tr>\n",
       "      <th>4</th>\n",
       "      <td>Музыка</td>\n",
       "      <td>Американская поп-певица Бритни Спирс случайно ...</td>\n",
       "      <td>Грудь Бритни Спирс вновь выскочила из лифчика ...</td>\n",
       "      <td>Культура</td>\n",
       "      <td>https://lenta.ru/news/2018/07/16/pedomusk/</td>\n",
       "      <td>[американский, поп-певица, бритни, спирс, случ...</td>\n",
       "    </tr>\n",
       "  </tbody>\n",
       "</table>\n",
       "</div>"
      ],
      "text/plain": [
       "           tags                                               text  \\\n",
       "0      Общество  Миллиардер Илон Маск в резкой форме ответил бр...   \n",
       "1         Рынки  США и их западные союзники рассматривают возмо...   \n",
       "2  Преступность  Празднование победы сборной Франции на чемпион...   \n",
       "3      Политика  География использования лимузинов проекта «Кор...   \n",
       "4        Музыка  Американская поп-певица Бритни Спирс случайно ...   \n",
       "\n",
       "                                               title      topic  \\\n",
       "0  Илон Маск назвал педофилом спасавшего детей из...        Мир   \n",
       "1  США задумались о распечатывании нефтяного резерва  Экономика   \n",
       "2  Празднование победы на ЧМ во Франции закончило...        Мир   \n",
       "3  Песков рассказал о планах на президентские лим...     Россия   \n",
       "4  Грудь Бритни Спирс вновь выскочила из лифчика ...   Культура   \n",
       "\n",
       "                                             url  \\\n",
       "0         https://lenta.ru/news/2018/07/16/su57/   \n",
       "1         https://lenta.ru/news/2018/07/16/foes/   \n",
       "2  https://lenta.ru/news/2018/07/15/fra_bezumie/   \n",
       "3   https://lenta.ru/news/2018/07/16/delo_shyut/   \n",
       "4     https://lenta.ru/news/2018/07/16/pedomusk/   \n",
       "\n",
       "                                           processed  \n",
       "0  [миллиардер, илона, маск, резка, форма, ответи...  \n",
       "1  [сша, западный, союзник, рассматривать, возмож...  \n",
       "2  [празднование, победа, сборный, франция, чемпи...  \n",
       "3  [география, использование, лимузин, проект, ко...  \n",
       "4  [американский, поп-певица, бритни, спирс, случ...  "
      ]
     },
     "execution_count": 2,
     "metadata": {},
     "output_type": "execute_result"
    }
   ],
   "source": [
    "lenta = pd.read_csv('../../../Downloads/news_lenta.csv', nrows=200000)\n",
    "lenta['processed'] = lenta.text.apply(preprocessing_tools.lemmatization)\n",
    "lenta.head()"
   ]
  },
  {
   "cell_type": "code",
   "execution_count": 3,
   "metadata": {},
   "outputs": [],
   "source": [
    "import logging\n",
    "import multiprocessing\n",
    "import gensim\n",
    "from gensim.models import Word2Vec"
   ]
  },
  {
   "cell_type": "code",
   "execution_count": 4,
   "metadata": {
    "scrolled": false
   },
   "outputs": [
    {
     "data": {
      "text/plain": [
       "(257510191, 267119260)"
      ]
     },
     "execution_count": 4,
     "metadata": {},
     "output_type": "execute_result"
    }
   ],
   "source": [
    "model = Word2Vec(lenta.processed, size=200, window=5, min_count=3, workers=4)\n",
    "model.train(lenta.processed, total_examples=len(lenta.processed), epochs=10)"
   ]
  },
  {
   "cell_type": "code",
   "execution_count": 8,
   "metadata": {},
   "outputs": [
    {
     "data": {
      "text/plain": [
       "[('олимпиада', 0.6299206018447876),\n",
       " ('играх-2018', 0.6025723218917847),\n",
       " ('игры-2016', 0.5880793333053589),\n",
       " ('игры-2018', 0.5818731784820557),\n",
       " ('матч', 0.5725093483924866),\n",
       " ('турнир', 0.569911003112793),\n",
       " ('соревнование', 0.5676101446151733),\n",
       " ('видеоигра', 0.5623190999031067),\n",
       " ('игр-2018', 0.5527796149253845),\n",
       " ('ои', 0.5492987632751465)]"
      ]
     },
     "execution_count": 8,
     "metadata": {},
     "output_type": "execute_result"
    }
   ],
   "source": [
    "model.wv.most_similar('игра')"
   ]
  },
  {
   "cell_type": "code",
   "execution_count": 7,
   "metadata": {},
   "outputs": [],
   "source": [
    "model.save(\"w2v/news_model.w2v\")"
   ]
  }
 ],
 "metadata": {
  "kernelspec": {
   "display_name": "Python 3",
   "language": "python",
   "name": "python3"
  },
  "language_info": {
   "codemirror_mode": {
    "name": "ipython",
    "version": 3
   },
   "file_extension": ".py",
   "mimetype": "text/x-python",
   "name": "python",
   "nbconvert_exporter": "python",
   "pygments_lexer": "ipython3",
   "version": "3.6.7"
  }
 },
 "nbformat": 4,
 "nbformat_minor": 2
}
