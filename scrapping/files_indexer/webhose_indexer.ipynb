{
 "cells": [
  {
   "cell_type": "code",
   "execution_count": 1,
   "metadata": {},
   "outputs": [],
   "source": [
    "import os\n",
    "from proj_news_viz.scrapping.parser.webhose import source_to_csv\n",
    "\n",
    "SOURCE_DIR = \"./webhose\"\n",
    "DEST_DIR = \"./webhose_csv\""
   ]
  },
  {
   "cell_type": "code",
   "execution_count": 2,
   "metadata": {},
   "outputs": [],
   "source": [
    "files = [\"{}/{}\".format(SOURCE_DIR, file_name) for file_name in os.listdir(SOURCE_DIR)]\n",
    "for target_file in files:\n",
    "    source_to_csv(target_file, DEST_DIR, encoding='koi8-r', save_method='dir')"
   ]
  }
 ],
 "metadata": {
  "kernelspec": {
   "display_name": "Python 3",
   "language": "python",
   "name": "python3"
  },
  "language_info": {
   "codemirror_mode": {
    "name": "ipython",
    "version": 3
   },
   "file_extension": ".py",
   "mimetype": "text/x-python",
   "name": "python",
   "nbconvert_exporter": "python",
   "pygments_lexer": "ipython3",
   "version": "3.6.5"
  }
 },
 "nbformat": 4,
 "nbformat_minor": 2
}
