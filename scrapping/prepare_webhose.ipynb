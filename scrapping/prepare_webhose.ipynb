{
 "cells": [
  {
   "cell_type": "code",
   "execution_count": 1,
   "metadata": {},
   "outputs": [],
   "source": [
    "import os, csv, tqdm, re, json, datetime\n",
    "from urllib.parse import urlparse\n",
    "from pathlib import Path\n",
    "\n",
    "DEST = Path(\"../data/news/webhose/csv/\")\n",
    "FILES = sorted(Path(\"../data/news/webhose/src/\").glob('*.json'))"
   ]
  },
  {
   "cell_type": "code",
   "execution_count": 2,
   "metadata": {},
   "outputs": [
    {
     "name": "stdout",
     "output_type": "stream",
     "text": [
      "topic= world\n",
      "topic= msg\n"
     ]
    }
   ],
   "source": [
    "def get_topic(path: str) -> str:\n",
    "    \"\"\"\n",
    "    :returns: cleaned topic or '' if no topics were found\n",
    "    \"\"\"\n",
    "    topic = path.strip('/').split(\"/\")[0]\n",
    "    if not re.search('[a-zA-Z]', topic) or re.search(r'(\\?|=)', topic):\n",
    "        return ''\n",
    "    whitespaces = len(re.findall(r\"(\\s|-|_)\", topic))\n",
    "    low_case = len(re.findall(r\"[a-z]\", topic))\n",
    "    upper_case = len(re.findall(r\"[A-Z]\", topic))\n",
    "    numbers = len(re.findall(r\"\\d\", topic))\n",
    "    if upper_case > whitespaces and low_case != 0:\n",
    "        return ''\n",
    "    if low_case == 0 and upper_case == 0:\n",
    "        return ''\n",
    "    if re.search(r\"^\\d\", topic) and numbers > 4:\n",
    "        return ''\n",
    "    if upper_case and numbers and not whitespaces:\n",
    "        return ''\n",
    "    if re.search(r\"(\\.html|\\.php|\\.xml|\\.csv)\", topic):\n",
    "        return ''\n",
    "    if len(topic) <= 1:\n",
    "        return ''\n",
    "    return topic.lower()\n",
    "print('topic=', get_topic('/world/02oct2016/gulens.html'))\n",
    "print('topic=', get_topic('/msg/lv/real-estate/flats/riga/centre/fehjp.html'))"
   ]
  },
  {
   "cell_type": "code",
   "execution_count": 3,
   "metadata": {},
   "outputs": [],
   "source": [
    "def process_file(data):\n",
    "    crawled = datetime.datetime.strptime(data['crawled'].split('+', 1)[0], \"%Y-%m-%dT%H:%M:%S.%f\")\n",
    "    published = datetime.datetime.strptime(data['published'].split('+', 1)[0], \"%Y-%m-%dT%H:%M:%S.%f\")\n",
    "    #print(crawled, published)\n",
    "    dt = published\n",
    "    site = data['thread']['site']\n",
    "    parts = urlparse(data['url'])\n",
    "    fullsite = parts.hostname\n",
    "    fullsite = data['thread']['site_full']\n",
    "    edition = (fullsite+'\\n').replace(site+'\\n', '', 1).strip('.')\n",
    "    if edition.startswith('www.'):\n",
    "        edition = edition[4:]\n",
    "    elif edition == 'www':\n",
    "        edition = ''\n",
    "    ym = f\"{published.year}-{published.month:02d}\"\n",
    "    fn = DEST / ym / f'{ym}-{site}.csv'\n",
    "    # data['thread']['section_title'],\n",
    "    return fn, (\n",
    "        published or crawled,\n",
    "        data['url'],\n",
    "        edition,\n",
    "        get_topic(parts.path),\n",
    "        data['title'],\n",
    "        data['text']\n",
    "    )"
   ]
  },
  {
   "cell_type": "code",
   "execution_count": 4,
   "metadata": {},
   "outputs": [
    {
     "data": {
      "application/vnd.jupyter.widget-view+json": {
       "model_id": "db3ba2e6fda24a2abdda37ccb99b937c",
       "version_major": 2,
       "version_minor": 0
      },
      "text/plain": [
       "HBox(children=(IntProgress(value=0, max=291584), HTML(value='')))"
      ]
     },
     "metadata": {},
     "output_type": "display_data"
    },
    {
     "name": "stdout",
     "output_type": "stream",
     "text": [
      "\n"
     ]
    }
   ],
   "source": [
    "from collections import defaultdict\n",
    "items = defaultdict(list)\n",
    "for fpath in tqdm.tqdm_notebook(FILES):\n",
    "    data = json.load(open(fpath, 'rb'))\n",
    "    fn, row = process_file(data)\n",
    "    items[fn].append(row)"
   ]
  },
  {
   "cell_type": "code",
   "execution_count": 5,
   "metadata": {},
   "outputs": [
    {
     "data": {
      "application/vnd.jupyter.widget-view+json": {
       "model_id": "86ea71349dc14baa930ae37f94b6a00a",
       "version_major": 2,
       "version_minor": 0
      },
      "text/plain": [
       "HBox(children=(IntProgress(value=0, max=305), HTML(value='')))"
      ]
     },
     "metadata": {},
     "output_type": "display_data"
    },
    {
     "name": "stdout",
     "output_type": "stream",
     "text": [
      "\n"
     ]
    }
   ],
   "source": [
    "for fn, rows in tqdm.tqdm_notebook(sorted(items.items(), key=lambda x:x[0])):\n",
    "    with open(fn, 'w') as f:\n",
    "        w = csv.writer(f)\n",
    "        w.writerow((\"datetime\", \"url\", \"edition\", \"topics\", \"title\", \"text\"))\n",
    "        for r in sorted(rows):\n",
    "            w.writerow(r)"
   ]
  },
  {
   "cell_type": "code",
   "execution_count": null,
   "metadata": {},
   "outputs": [],
   "source": []
  }
 ],
 "metadata": {
  "kernelspec": {
   "display_name": "Python 3",
   "language": "python",
   "name": "python3"
  },
  "language_info": {
   "codemirror_mode": {
    "name": "ipython",
    "version": 3
   },
   "file_extension": ".py",
   "mimetype": "text/x-python",
   "name": "python",
   "nbconvert_exporter": "python",
   "pygments_lexer": "ipython3",
   "version": "3.6.6"
  }
 },
 "nbformat": 4,
 "nbformat_minor": 2
}
