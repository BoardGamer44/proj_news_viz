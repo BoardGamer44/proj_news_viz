{
 "cells": [
  {
   "cell_type": "markdown",
   "metadata": {},
   "source": [
    "# Анализ источников новостей"
   ]
  },
  {
   "cell_type": "markdown",
   "metadata": {},
   "source": [
    "Цель данного исследования: проанализировать источники новостных лент, сравнить рубрики, подумать над возможностью добавление\\удаление категорий для проекта \"Радар новостей рунета\""
   ]
  },
  {
   "cell_type": "code",
   "execution_count": 4,
   "metadata": {},
   "outputs": [],
   "source": [
    "import numpy as np\n",
    "import pandas as pd\n",
    "import datetime as DT\n",
    "import matplotlib.pyplot as plt"
   ]
  },
  {
   "cell_type": "code",
   "execution_count": 5,
   "metadata": {},
   "outputs": [],
   "source": [
    "import itertools\n",
    "from collections import Counter\n",
    "from string import punctuation\n",
    "from razdel import tokenize"
   ]
  },
  {
   "cell_type": "markdown",
   "metadata": {},
   "source": [
    "## Датасет Meduza. Предварительная обработка"
   ]
  },
  {
   "cell_type": "markdown",
   "metadata": {},
   "source": [
    "Загрузим датасет meduza. Одновременно сделаем преобразование даты из строки"
   ]
  },
  {
   "cell_type": "code",
   "execution_count": 4,
   "metadata": {
    "ExecuteTime": {
     "end_time": "2019-10-15T14:44:27.267984Z",
     "start_time": "2019-10-15T14:44:27.257570Z"
    }
   },
   "outputs": [],
   "source": [
    "dateparse = lambda x: pd.datetime.strptime(x, \"%Y-%m-%d %H:%M:%S\")"
   ]
  },
  {
   "cell_type": "code",
   "execution_count": 5,
   "metadata": {
    "ExecuteTime": {
     "end_time": "2019-10-15T14:45:50.846391Z",
     "start_time": "2019-10-15T14:45:45.976119Z"
    }
   },
   "outputs": [
    {
     "name": "stderr",
     "output_type": "stream",
     "text": [
      "b'Skipping line 47579: expected 17 fields, saw 19\\n'\n"
     ]
    }
   ],
   "source": [
    "data_meduza = pd.read_csv('../../meduza.csv',\n",
    "                      sep=',',\n",
    "                      index_col=False,\n",
    "                      escapechar='\\\\',\n",
    "                      parse_dates=['date'],\n",
    "                      date_parser=dateparse,\n",
    "                      quotechar='\\\"', error_bad_lines=False)"
   ]
  },
  {
   "cell_type": "code",
   "execution_count": 6,
   "metadata": {
    "ExecuteTime": {
     "end_time": "2019-10-15T14:46:48.898446Z",
     "start_time": "2019-10-15T14:46:48.878734Z"
    }
   },
   "outputs": [
    {
     "data": {
      "text/plain": [
       "date           datetime64[ns]\n",
       "url                    object\n",
       "edition                object\n",
       "topics                float64\n",
       "authors               float64\n",
       "title                  object\n",
       "text                   object\n",
       "reposts_fb             object\n",
       "reposts_vk             object\n",
       "reposts_ok             object\n",
       "reposts_twi            object\n",
       "reposts_lj             object\n",
       "reposts_tg             object\n",
       "likes                  object\n",
       "views                  object\n",
       "comm_count             object\n",
       "dtype: object"
      ]
     },
     "execution_count": 6,
     "metadata": {},
     "output_type": "execute_result"
    }
   ],
   "source": [
    "# Проверим преобразование\n",
    "data_meduza.dtypes"
   ]
  },
  {
   "cell_type": "code",
   "execution_count": 7,
   "metadata": {
    "ExecuteTime": {
     "end_time": "2019-10-15T14:46:53.272963Z",
     "start_time": "2019-10-15T14:46:53.264182Z"
    }
   },
   "outputs": [
    {
     "data": {
      "text/plain": [
       "(71806, 16)"
      ]
     },
     "execution_count": 7,
     "metadata": {},
     "output_type": "execute_result"
    }
   ],
   "source": [
    "data_meduza.shape"
   ]
  },
  {
   "cell_type": "code",
   "execution_count": 8,
   "metadata": {
    "ExecuteTime": {
     "end_time": "2019-10-15T14:47:00.270942Z",
     "start_time": "2019-10-15T14:47:00.225969Z"
    }
   },
   "outputs": [
    {
     "data": {
      "text/html": [
       "<div>\n",
       "<style scoped>\n",
       "    .dataframe tbody tr th:only-of-type {\n",
       "        vertical-align: middle;\n",
       "    }\n",
       "\n",
       "    .dataframe tbody tr th {\n",
       "        vertical-align: top;\n",
       "    }\n",
       "\n",
       "    .dataframe thead th {\n",
       "        text-align: right;\n",
       "    }\n",
       "</style>\n",
       "<table border=\"1\" class=\"dataframe\">\n",
       "  <thead>\n",
       "    <tr style=\"text-align: right;\">\n",
       "      <th></th>\n",
       "      <th>date</th>\n",
       "      <th>url</th>\n",
       "      <th>edition</th>\n",
       "      <th>topics</th>\n",
       "      <th>authors</th>\n",
       "      <th>title</th>\n",
       "      <th>text</th>\n",
       "      <th>reposts_fb</th>\n",
       "      <th>reposts_vk</th>\n",
       "      <th>reposts_ok</th>\n",
       "      <th>reposts_twi</th>\n",
       "      <th>reposts_lj</th>\n",
       "      <th>reposts_tg</th>\n",
       "      <th>likes</th>\n",
       "      <th>views</th>\n",
       "      <th>comm_count</th>\n",
       "    </tr>\n",
       "  </thead>\n",
       "  <tbody>\n",
       "    <tr>\n",
       "      <th>0</th>\n",
       "      <td>2019-08-06 14:15:00</td>\n",
       "      <td>https://meduza.io/feature/2019/08/06/matros-ra...</td>\n",
       "      <td>-</td>\n",
       "      <td>NaN</td>\n",
       "      <td>NaN</td>\n",
       "      <td>Матрос разговаривал в казарме по видеосвязи</td>\n",
       "      <td>С марта 2019 года российским военным запрещено...</td>\n",
       "      <td>-</td>\n",
       "      <td>-</td>\n",
       "      <td>-</td>\n",
       "      <td>-</td>\n",
       "      <td>-</td>\n",
       "      <td>-</td>\n",
       "      <td>-</td>\n",
       "      <td>-</td>\n",
       "      <td>-</td>\n",
       "    </tr>\n",
       "    <tr>\n",
       "      <th>1</th>\n",
       "      <td>2019-08-06 14:20:00</td>\n",
       "      <td>https://meduza.io/news/2019/08/06/umerla-feshn...</td>\n",
       "      <td>-</td>\n",
       "      <td>NaN</td>\n",
       "      <td>NaN</td>\n",
       "      <td>Умерла фэшн-директор ЦУМа Алла Вербер</td>\n",
       "      <td>Умерла фэшн-директор московского ЦУМа, вице-пр...</td>\n",
       "      <td>-</td>\n",
       "      <td>-</td>\n",
       "      <td>-</td>\n",
       "      <td>-</td>\n",
       "      <td>-</td>\n",
       "      <td>-</td>\n",
       "      <td>-</td>\n",
       "      <td>-</td>\n",
       "      <td>-</td>\n",
       "    </tr>\n",
       "    <tr>\n",
       "      <th>2</th>\n",
       "      <td>2019-08-06 14:10:00</td>\n",
       "      <td>https://meduza.io/feature/2019/08/06/sama-eta-...</td>\n",
       "      <td>-</td>\n",
       "      <td>NaN</td>\n",
       "      <td>NaN</td>\n",
       "      <td>Сама эта мысль казалась дурацкой: роботы-пчелы...</td>\n",
       "      <td>13 августа в издательстве «Эксмо» выходит книг...</td>\n",
       "      <td>-</td>\n",
       "      <td>-</td>\n",
       "      <td>-</td>\n",
       "      <td>-</td>\n",
       "      <td>-</td>\n",
       "      <td>-</td>\n",
       "      <td>-</td>\n",
       "      <td>-</td>\n",
       "      <td>-</td>\n",
       "    </tr>\n",
       "    <tr>\n",
       "      <th>3</th>\n",
       "      <td>2019-08-06 14:35:00</td>\n",
       "      <td>https://meduza.io/news/2019/08/06/u-zaderzhann...</td>\n",
       "      <td>-</td>\n",
       "      <td>NaN</td>\n",
       "      <td>NaN</td>\n",
       "      <td>У задержанных на акции за свободные выборы 3 а...</td>\n",
       "      <td>Некоторые участникиnакции 3 августаn, у которы...</td>\n",
       "      <td>-</td>\n",
       "      <td>-</td>\n",
       "      <td>-</td>\n",
       "      <td>-</td>\n",
       "      <td>-</td>\n",
       "      <td>-</td>\n",
       "      <td>-</td>\n",
       "      <td>-</td>\n",
       "      <td>-</td>\n",
       "    </tr>\n",
       "    <tr>\n",
       "      <th>4</th>\n",
       "      <td>2019-08-06 15:00:00</td>\n",
       "      <td>https://meduza.io/feature/2019/08/06/pochemu-v...</td>\n",
       "      <td>-</td>\n",
       "      <td>NaN</td>\n",
       "      <td>NaN</td>\n",
       "      <td>Почему ваш товар плохо продается в интернете?</td>\n",
       "      <td>Интернет-покупатели становятся все капризнее, ...</td>\n",
       "      <td>-</td>\n",
       "      <td>-</td>\n",
       "      <td>-</td>\n",
       "      <td>-</td>\n",
       "      <td>-</td>\n",
       "      <td>-</td>\n",
       "      <td>-</td>\n",
       "      <td>-</td>\n",
       "      <td>-</td>\n",
       "    </tr>\n",
       "  </tbody>\n",
       "</table>\n",
       "</div>"
      ],
      "text/plain": [
       "                 date                                                url  \\\n",
       "0 2019-08-06 14:15:00  https://meduza.io/feature/2019/08/06/matros-ra...   \n",
       "1 2019-08-06 14:20:00  https://meduza.io/news/2019/08/06/umerla-feshn...   \n",
       "2 2019-08-06 14:10:00  https://meduza.io/feature/2019/08/06/sama-eta-...   \n",
       "3 2019-08-06 14:35:00  https://meduza.io/news/2019/08/06/u-zaderzhann...   \n",
       "4 2019-08-06 15:00:00  https://meduza.io/feature/2019/08/06/pochemu-v...   \n",
       "\n",
       "  edition  topics  authors                                              title  \\\n",
       "0       -     NaN      NaN        Матрос разговаривал в казарме по видеосвязи   \n",
       "1       -     NaN      NaN              Умерла фэшн-директор ЦУМа Алла Вербер   \n",
       "2       -     NaN      NaN  Сама эта мысль казалась дурацкой: роботы-пчелы...   \n",
       "3       -     NaN      NaN  У задержанных на акции за свободные выборы 3 а...   \n",
       "4       -     NaN      NaN      Почему ваш товар плохо продается в интернете?   \n",
       "\n",
       "                                                text reposts_fb reposts_vk  \\\n",
       "0  С марта 2019 года российским военным запрещено...          -          -   \n",
       "1  Умерла фэшн-директор московского ЦУМа, вице-пр...          -          -   \n",
       "2  13 августа в издательстве «Эксмо» выходит книг...          -          -   \n",
       "3  Некоторые участникиnакции 3 августаn, у которы...          -          -   \n",
       "4  Интернет-покупатели становятся все капризнее, ...          -          -   \n",
       "\n",
       "  reposts_ok reposts_twi reposts_lj reposts_tg likes views comm_count  \n",
       "0          -           -          -          -     -     -          -  \n",
       "1          -           -          -          -     -     -          -  \n",
       "2          -           -          -          -     -     -          -  \n",
       "3          -           -          -          -     -     -          -  \n",
       "4          -           -          -          -     -     -          -  "
      ]
     },
     "execution_count": 8,
     "metadata": {},
     "output_type": "execute_result"
    }
   ],
   "source": [
    "# Так выглядет датасет meduza\n",
    "data_meduza.head()"
   ]
  },
  {
   "cell_type": "code",
   "execution_count": null,
   "metadata": {},
   "outputs": [],
   "source": []
  },
  {
   "cell_type": "code",
   "execution_count": 9,
   "metadata": {
    "ExecuteTime": {
     "end_time": "2019-10-15T14:47:05.547600Z",
     "start_time": "2019-10-15T14:47:05.469632Z"
    }
   },
   "outputs": [
    {
     "data": {
      "text/plain": [
       "date           False\n",
       "url            False\n",
       "edition        False\n",
       "topics          True\n",
       "authors         True\n",
       "title           True\n",
       "text            True\n",
       "reposts_fb     False\n",
       "reposts_vk     False\n",
       "reposts_ok     False\n",
       "reposts_twi    False\n",
       "reposts_lj     False\n",
       "reposts_tg     False\n",
       "likes          False\n",
       "views          False\n",
       "comm_count     False\n",
       "dtype: bool"
      ]
     },
     "execution_count": 9,
     "metadata": {},
     "output_type": "execute_result"
    }
   ],
   "source": [
    "# Выясним в каким столбцах есть пустые данные\n",
    "data_meduza.isnull().any()"
   ]
  },
  {
   "cell_type": "code",
   "execution_count": null,
   "metadata": {},
   "outputs": [],
   "source": []
  },
  {
   "cell_type": "code",
   "execution_count": 10,
   "metadata": {
    "ExecuteTime": {
     "end_time": "2019-10-15T14:47:13.409724Z",
     "start_time": "2019-10-15T14:47:13.350591Z"
    }
   },
   "outputs": [
    {
     "name": "stdout",
     "output_type": "stream",
     "text": [
      "Кол-во строк с значением NaN в столбце \"Text\" =  1372\n"
     ]
    },
    {
     "data": {
      "text/html": [
       "<div>\n",
       "<style scoped>\n",
       "    .dataframe tbody tr th:only-of-type {\n",
       "        vertical-align: middle;\n",
       "    }\n",
       "\n",
       "    .dataframe tbody tr th {\n",
       "        vertical-align: top;\n",
       "    }\n",
       "\n",
       "    .dataframe thead th {\n",
       "        text-align: right;\n",
       "    }\n",
       "</style>\n",
       "<table border=\"1\" class=\"dataframe\">\n",
       "  <thead>\n",
       "    <tr style=\"text-align: right;\">\n",
       "      <th></th>\n",
       "      <th>date</th>\n",
       "      <th>url</th>\n",
       "      <th>edition</th>\n",
       "      <th>topics</th>\n",
       "      <th>authors</th>\n",
       "      <th>title</th>\n",
       "      <th>text</th>\n",
       "      <th>reposts_fb</th>\n",
       "      <th>reposts_vk</th>\n",
       "      <th>reposts_ok</th>\n",
       "      <th>reposts_twi</th>\n",
       "      <th>reposts_lj</th>\n",
       "      <th>reposts_tg</th>\n",
       "      <th>likes</th>\n",
       "      <th>views</th>\n",
       "      <th>comm_count</th>\n",
       "    </tr>\n",
       "  </thead>\n",
       "  <tbody>\n",
       "    <tr>\n",
       "      <th>33</th>\n",
       "      <td>2019-08-06 10:53:00</td>\n",
       "      <td>https://meduza.io/quiz/otlichite-kachestvennyy...</td>\n",
       "      <td>-</td>\n",
       "      <td>NaN</td>\n",
       "      <td>NaN</td>\n",
       "      <td>NaN</td>\n",
       "      <td>NaN</td>\n",
       "      <td>-</td>\n",
       "      <td>-</td>\n",
       "      <td>-</td>\n",
       "      <td>-</td>\n",
       "      <td>-</td>\n",
       "      <td>-</td>\n",
       "      <td>-</td>\n",
       "      <td>-</td>\n",
       "      <td>-</td>\n",
       "    </tr>\n",
       "    <tr>\n",
       "      <th>86</th>\n",
       "      <td>2019-08-05 14:41:00</td>\n",
       "      <td>https://meduza.io/quiz/moscow-is-the-capital-o...</td>\n",
       "      <td>-</td>\n",
       "      <td>NaN</td>\n",
       "      <td>NaN</td>\n",
       "      <td>NaN</td>\n",
       "      <td>NaN</td>\n",
       "      <td>-</td>\n",
       "      <td>-</td>\n",
       "      <td>-</td>\n",
       "      <td>-</td>\n",
       "      <td>-</td>\n",
       "      <td>-</td>\n",
       "      <td>-</td>\n",
       "      <td>-</td>\n",
       "      <td>-</td>\n",
       "    </tr>\n",
       "    <tr>\n",
       "      <th>173</th>\n",
       "      <td>2019-08-02 13:05:00</td>\n",
       "      <td>https://meduza.io/quiz/kostyl-ili-chekvarka</td>\n",
       "      <td>-</td>\n",
       "      <td>NaN</td>\n",
       "      <td>NaN</td>\n",
       "      <td>NaN</td>\n",
       "      <td>NaN</td>\n",
       "      <td>-</td>\n",
       "      <td>-</td>\n",
       "      <td>-</td>\n",
       "      <td>-</td>\n",
       "      <td>-</td>\n",
       "      <td>-</td>\n",
       "      <td>-</td>\n",
       "      <td>-</td>\n",
       "      <td>-</td>\n",
       "    </tr>\n",
       "    <tr>\n",
       "      <th>194</th>\n",
       "      <td>2019-08-02 05:30:00</td>\n",
       "      <td>https://meduza.io/quiz/chto-obsuzhdayut-na-ros...</td>\n",
       "      <td>-</td>\n",
       "      <td>NaN</td>\n",
       "      <td>NaN</td>\n",
       "      <td>NaN</td>\n",
       "      <td>NaN</td>\n",
       "      <td>-</td>\n",
       "      <td>-</td>\n",
       "      <td>-</td>\n",
       "      <td>-</td>\n",
       "      <td>-</td>\n",
       "      <td>-</td>\n",
       "      <td>-</td>\n",
       "      <td>-</td>\n",
       "      <td>-</td>\n",
       "    </tr>\n",
       "    <tr>\n",
       "      <th>250</th>\n",
       "      <td>2019-08-01 08:39:00</td>\n",
       "      <td>https://meduza.io/games/v-rossii-mogut-oshtraf...</td>\n",
       "      <td>-</td>\n",
       "      <td>NaN</td>\n",
       "      <td>NaN</td>\n",
       "      <td>NaN</td>\n",
       "      <td>NaN</td>\n",
       "      <td>-</td>\n",
       "      <td>-</td>\n",
       "      <td>-</td>\n",
       "      <td>-</td>\n",
       "      <td>-</td>\n",
       "      <td>-</td>\n",
       "      <td>-</td>\n",
       "      <td>-</td>\n",
       "      <td>-</td>\n",
       "    </tr>\n",
       "  </tbody>\n",
       "</table>\n",
       "</div>"
      ],
      "text/plain": [
       "                   date                                                url  \\\n",
       "33  2019-08-06 10:53:00  https://meduza.io/quiz/otlichite-kachestvennyy...   \n",
       "86  2019-08-05 14:41:00  https://meduza.io/quiz/moscow-is-the-capital-o...   \n",
       "173 2019-08-02 13:05:00        https://meduza.io/quiz/kostyl-ili-chekvarka   \n",
       "194 2019-08-02 05:30:00  https://meduza.io/quiz/chto-obsuzhdayut-na-ros...   \n",
       "250 2019-08-01 08:39:00  https://meduza.io/games/v-rossii-mogut-oshtraf...   \n",
       "\n",
       "    edition  topics  authors title text reposts_fb reposts_vk reposts_ok  \\\n",
       "33        -     NaN      NaN   NaN  NaN          -          -          -   \n",
       "86        -     NaN      NaN   NaN  NaN          -          -          -   \n",
       "173       -     NaN      NaN   NaN  NaN          -          -          -   \n",
       "194       -     NaN      NaN   NaN  NaN          -          -          -   \n",
       "250       -     NaN      NaN   NaN  NaN          -          -          -   \n",
       "\n",
       "    reposts_twi reposts_lj reposts_tg likes views comm_count  \n",
       "33            -          -          -     -     -          -  \n",
       "86            -          -          -     -     -          -  \n",
       "173           -          -          -     -     -          -  \n",
       "194           -          -          -     -     -          -  \n",
       "250           -          -          -     -     -          -  "
      ]
     },
     "execution_count": 10,
     "metadata": {},
     "output_type": "execute_result"
    }
   ],
   "source": [
    "print('Кол-во строк с значением NaN в столбце \"Text\" = ', data_meduza['text'].isnull().sum())\n",
    "data_meduza[data_meduza['text'].isnull()].head()"
   ]
  },
  {
   "cell_type": "code",
   "execution_count": null,
   "metadata": {},
   "outputs": [],
   "source": []
  },
  {
   "cell_type": "code",
   "execution_count": 11,
   "metadata": {
    "ExecuteTime": {
     "end_time": "2019-10-15T14:47:18.719028Z",
     "start_time": "2019-10-15T14:47:18.674235Z"
    }
   },
   "outputs": [],
   "source": [
    "#Удалим эти строки\n",
    "data_meduza.drop(data_meduza[data_meduza.text.isnull()].index, inplace=True)"
   ]
  },
  {
   "cell_type": "code",
   "execution_count": 12,
   "metadata": {
    "ExecuteTime": {
     "end_time": "2019-10-15T14:47:19.655347Z",
     "start_time": "2019-10-15T14:47:19.636881Z"
    }
   },
   "outputs": [
    {
     "name": "stdout",
     "output_type": "stream",
     "text": [
      "Кол-во строк с значением NaN в столбце \"Text\" =  0\n"
     ]
    }
   ],
   "source": [
    "print('Кол-во строк с значением NaN в столбце \"Text\" = ', data_meduza['text'].isnull().sum())"
   ]
  },
  {
   "cell_type": "markdown",
   "metadata": {},
   "source": [
    "Посмотрим сколько элементов Nan в столбце авторов"
   ]
  },
  {
   "cell_type": "code",
   "execution_count": 13,
   "metadata": {
    "ExecuteTime": {
     "end_time": "2019-10-15T14:47:23.391539Z",
     "start_time": "2019-10-15T14:47:23.382829Z"
    }
   },
   "outputs": [
    {
     "name": "stdout",
     "output_type": "stream",
     "text": [
      "Кол-во строк с значением NaN в столбце \"authors\" =  70434\n"
     ]
    }
   ],
   "source": [
    "print('Кол-во строк с значением NaN в столбце \"authors\" = ', data_meduza['authors'].isnull().sum())"
   ]
  },
  {
   "cell_type": "markdown",
   "metadata": {},
   "source": [
    "Как видим все значения авторов Nan. Можно не использовать данные столбец"
   ]
  },
  {
   "cell_type": "markdown",
   "metadata": {},
   "source": [
    "Посмотрим, что в столбцах, которые содержат дефис, как обозначение пустых данных"
   ]
  },
  {
   "cell_type": "code",
   "execution_count": 14,
   "metadata": {
    "ExecuteTime": {
     "end_time": "2019-10-15T14:47:28.165665Z",
     "start_time": "2019-10-15T14:47:28.161291Z"
    }
   },
   "outputs": [],
   "source": [
    "def analysis_columns(columns):\n",
    "    for column in columns:\n",
    "        if column not in ['url', 'date', 'topics', 'authors', 'title', 'text']:\n",
    "            yield(print(str(column) + ':', data_meduza[column].unique()))"
   ]
  },
  {
   "cell_type": "code",
   "execution_count": 15,
   "metadata": {
    "ExecuteTime": {
     "end_time": "2019-10-15T14:47:35.162241Z",
     "start_time": "2019-10-15T14:47:35.122883Z"
    }
   },
   "outputs": [
    {
     "name": "stdout",
     "output_type": "stream",
     "text": [
      "edition: ['-']\n",
      "reposts_fb: ['-']\n",
      "reposts_vk: ['-']\n",
      "reposts_ok: ['-']\n",
      "reposts_twi: ['-']\n",
      "reposts_lj: ['-']\n",
      "reposts_tg: ['-']\n",
      "likes: ['-']\n",
      "views: ['-']\n",
      "comm_count: ['-']\n"
     ]
    }
   ],
   "source": [
    "data_columns = list(analysis_columns(data_meduza.columns))"
   ]
  },
  {
   "cell_type": "markdown",
   "metadata": {},
   "source": [
    "Можно удалить все эти столбцы"
   ]
  },
  {
   "cell_type": "code",
   "execution_count": 16,
   "metadata": {
    "ExecuteTime": {
     "end_time": "2019-10-15T14:48:12.490655Z",
     "start_time": "2019-10-15T14:48:12.254596Z"
    }
   },
   "outputs": [
    {
     "name": "stdout",
     "output_type": "stream",
     "text": [
      "Кол-во одинаковых текстов: 11\n"
     ]
    }
   ],
   "source": [
    "#  Проверим повторяющиеся тексты\n",
    "print('Кол-во одинаковых текстов:',data_meduza.text.duplicated().sum())"
   ]
  },
  {
   "cell_type": "code",
   "execution_count": 17,
   "metadata": {
    "ExecuteTime": {
     "end_time": "2019-10-15T14:48:16.519546Z",
     "start_time": "2019-10-15T14:48:15.124589Z"
    }
   },
   "outputs": [],
   "source": [
    "data_meduza = data_meduza.drop_duplicates(subset='text')"
   ]
  },
  {
   "cell_type": "code",
   "execution_count": 18,
   "metadata": {
    "ExecuteTime": {
     "end_time": "2019-10-15T14:48:17.459264Z",
     "start_time": "2019-10-15T14:48:17.450854Z"
    }
   },
   "outputs": [
    {
     "data": {
      "text/plain": [
       "(70423, 16)"
      ]
     },
     "execution_count": 18,
     "metadata": {},
     "output_type": "execute_result"
    }
   ],
   "source": [
    "data_meduza.shape"
   ]
  },
  {
   "cell_type": "code",
   "execution_count": null,
   "metadata": {},
   "outputs": [],
   "source": []
  },
  {
   "cell_type": "markdown",
   "metadata": {},
   "source": [
    "## EDA"
   ]
  },
  {
   "cell_type": "markdown",
   "metadata": {},
   "source": [
    "### Анализ дат"
   ]
  },
  {
   "cell_type": "code",
   "execution_count": 19,
   "metadata": {
    "ExecuteTime": {
     "end_time": "2019-10-15T14:48:21.561281Z",
     "start_time": "2019-10-15T14:48:21.550657Z"
    }
   },
   "outputs": [
    {
     "name": "stdout",
     "output_type": "stream",
     "text": [
      "Минимальная дата в датасете: 2014-09-12 09:04:00\n",
      "Максимальная дата в датасете: 2019-08-07 05:28:00\n"
     ]
    }
   ],
   "source": [
    "print('Минимальная дата в датасете:', data_meduza.date.min())\n",
    "print('Максимальная дата в датасете:', data_meduza.date.max())"
   ]
  },
  {
   "cell_type": "code",
   "execution_count": null,
   "metadata": {},
   "outputs": [],
   "source": []
  },
  {
   "cell_type": "markdown",
   "metadata": {},
   "source": [
    "#### Распределение количества новостей по месяцам"
   ]
  },
  {
   "cell_type": "code",
   "execution_count": 20,
   "metadata": {
    "ExecuteTime": {
     "end_time": "2019-10-15T14:48:25.897457Z",
     "start_time": "2019-10-15T14:48:25.178888Z"
    }
   },
   "outputs": [],
   "source": [
    "# Вынесем месяц и год новости в отдельные столбцы\n",
    "data_meduza['month'] = data_meduza.date.apply(lambda x: x.month)\n",
    "data_meduza['year'] = data_meduza.date.apply(lambda x: x.year)\n",
    "\n",
    "# Создадим отдельный датасет посчитаем количество новостей в разрезе месяца и года\n",
    "df = data_meduza.groupby(['year', 'month']).text.nunique().reset_index()"
   ]
  },
  {
   "cell_type": "code",
   "execution_count": 21,
   "metadata": {
    "ExecuteTime": {
     "end_time": "2019-10-15T14:48:29.020982Z",
     "start_time": "2019-10-15T14:48:29.006956Z"
    }
   },
   "outputs": [
    {
     "data": {
      "text/html": [
       "<div>\n",
       "<style scoped>\n",
       "    .dataframe tbody tr th:only-of-type {\n",
       "        vertical-align: middle;\n",
       "    }\n",
       "\n",
       "    .dataframe tbody tr th {\n",
       "        vertical-align: top;\n",
       "    }\n",
       "\n",
       "    .dataframe thead th {\n",
       "        text-align: right;\n",
       "    }\n",
       "</style>\n",
       "<table border=\"1\" class=\"dataframe\">\n",
       "  <thead>\n",
       "    <tr style=\"text-align: right;\">\n",
       "      <th></th>\n",
       "      <th>year</th>\n",
       "      <th>month</th>\n",
       "      <th>text</th>\n",
       "    </tr>\n",
       "  </thead>\n",
       "  <tbody>\n",
       "    <tr>\n",
       "      <th>0</th>\n",
       "      <td>2014</td>\n",
       "      <td>9</td>\n",
       "      <td>1</td>\n",
       "    </tr>\n",
       "    <tr>\n",
       "      <th>1</th>\n",
       "      <td>2014</td>\n",
       "      <td>10</td>\n",
       "      <td>659</td>\n",
       "    </tr>\n",
       "    <tr>\n",
       "      <th>2</th>\n",
       "      <td>2014</td>\n",
       "      <td>11</td>\n",
       "      <td>1044</td>\n",
       "    </tr>\n",
       "    <tr>\n",
       "      <th>3</th>\n",
       "      <td>2014</td>\n",
       "      <td>12</td>\n",
       "      <td>1268</td>\n",
       "    </tr>\n",
       "    <tr>\n",
       "      <th>4</th>\n",
       "      <td>2015</td>\n",
       "      <td>1</td>\n",
       "      <td>921</td>\n",
       "    </tr>\n",
       "  </tbody>\n",
       "</table>\n",
       "</div>"
      ],
      "text/plain": [
       "   year  month  text\n",
       "0  2014      9     1\n",
       "1  2014     10   659\n",
       "2  2014     11  1044\n",
       "3  2014     12  1268\n",
       "4  2015      1   921"
      ]
     },
     "execution_count": 21,
     "metadata": {},
     "output_type": "execute_result"
    }
   ],
   "source": [
    "df.head()"
   ]
  },
  {
   "cell_type": "code",
   "execution_count": null,
   "metadata": {},
   "outputs": [],
   "source": []
  },
  {
   "cell_type": "code",
   "execution_count": 22,
   "metadata": {
    "ExecuteTime": {
     "end_time": "2019-10-15T14:48:34.814734Z",
     "start_time": "2019-10-15T14:48:34.796102Z"
    }
   },
   "outputs": [],
   "source": [
    "df['month_year'] = df[['month', 'year']].apply(lambda x: '-'.join(['0'+str(x.month) if x.month<10 else str(x.month),\n",
    "                                                                  str(x.year)]),\n",
    "                                               axis =1)"
   ]
  },
  {
   "cell_type": "code",
   "execution_count": 23,
   "metadata": {
    "ExecuteTime": {
     "end_time": "2019-10-15T14:48:35.862262Z",
     "start_time": "2019-10-15T14:48:35.857893Z"
    }
   },
   "outputs": [],
   "source": [
    "df.columns = ['year', 'month', 'nunique_text', 'month_year']"
   ]
  },
  {
   "cell_type": "code",
   "execution_count": 24,
   "metadata": {
    "ExecuteTime": {
     "end_time": "2019-10-15T14:48:37.065713Z",
     "start_time": "2019-10-15T14:48:37.058298Z"
    }
   },
   "outputs": [],
   "source": [
    "# выберем только те месяцы, в которых количество новостей больше 10\n",
    "df = df[df.nunique_text>10]"
   ]
  },
  {
   "cell_type": "code",
   "execution_count": 25,
   "metadata": {
    "ExecuteTime": {
     "end_time": "2019-10-15T14:48:38.123806Z",
     "start_time": "2019-10-15T14:48:38.110008Z"
    }
   },
   "outputs": [
    {
     "data": {
      "text/html": [
       "<div>\n",
       "<style scoped>\n",
       "    .dataframe tbody tr th:only-of-type {\n",
       "        vertical-align: middle;\n",
       "    }\n",
       "\n",
       "    .dataframe tbody tr th {\n",
       "        vertical-align: top;\n",
       "    }\n",
       "\n",
       "    .dataframe thead th {\n",
       "        text-align: right;\n",
       "    }\n",
       "</style>\n",
       "<table border=\"1\" class=\"dataframe\">\n",
       "  <thead>\n",
       "    <tr style=\"text-align: right;\">\n",
       "      <th></th>\n",
       "      <th>month_year</th>\n",
       "      <th>nunique_text</th>\n",
       "    </tr>\n",
       "  </thead>\n",
       "  <tbody>\n",
       "    <tr>\n",
       "      <th>19</th>\n",
       "      <td>04-2016</td>\n",
       "      <td>1414</td>\n",
       "    </tr>\n",
       "    <tr>\n",
       "      <th>18</th>\n",
       "      <td>03-2016</td>\n",
       "      <td>1398</td>\n",
       "    </tr>\n",
       "    <tr>\n",
       "      <th>22</th>\n",
       "      <td>07-2016</td>\n",
       "      <td>1392</td>\n",
       "    </tr>\n",
       "    <tr>\n",
       "      <th>30</th>\n",
       "      <td>03-2017</td>\n",
       "      <td>1388</td>\n",
       "    </tr>\n",
       "    <tr>\n",
       "      <th>23</th>\n",
       "      <td>08-2016</td>\n",
       "      <td>1377</td>\n",
       "    </tr>\n",
       "  </tbody>\n",
       "</table>\n",
       "</div>"
      ],
      "text/plain": [
       "   month_year  nunique_text\n",
       "19    04-2016          1414\n",
       "18    03-2016          1398\n",
       "22    07-2016          1392\n",
       "30    03-2017          1388\n",
       "23    08-2016          1377"
      ]
     },
     "execution_count": 25,
     "metadata": {},
     "output_type": "execute_result"
    }
   ],
   "source": [
    "df[['month_year', 'nunique_text']].sort_values('nunique_text', ascending = False).head()"
   ]
  },
  {
   "cell_type": "code",
   "execution_count": null,
   "metadata": {},
   "outputs": [],
   "source": []
  },
  {
   "cell_type": "code",
   "execution_count": 26,
   "metadata": {
    "ExecuteTime": {
     "end_time": "2019-10-15T14:48:43.057971Z",
     "start_time": "2019-10-15T14:48:41.509461Z"
    }
   },
   "outputs": [
    {
     "data": {
      "image/png": "[encoded data removed]",
      "text/plain": [
       "<Figure size 1440x720 with 1 Axes>"
      ]
     },
     "metadata": {
      "needs_background": "light"
     },
     "output_type": "display_data"
    }
   ],
   "source": [
    "fig, ax = plt.subplots(figsize=(20, 10))\n",
    "plt.bar(x = df.month_year,\n",
    "        height = df.nunique_text.values)\n",
    "plt.xticks(rotation='vertical')\n",
    "ax.set_title('Количество новостей по месяцам')\n",
    "ax.set_ylabel('Количество')\n",
    "ax.set_xlabel('Дата')\n",
    "plt.show()"
   ]
  },
  {
   "cell_type": "code",
   "execution_count": null,
   "metadata": {},
   "outputs": [],
   "source": []
  },
  {
   "cell_type": "markdown",
   "metadata": {},
   "source": [
    "### Создание словаря для анализа"
   ]
  },
  {
   "cell_type": "markdown",
   "metadata": {},
   "source": [
    "В данной части блокнота будет подготовлен словарь из всего множества слов во всем датасете. Для каждой новости будет выполнена токенизация. Затем будет собран словарь из всех токенов, очистка от знаков препинания, и после данных процедур создается два списка - один без удаления стоп-слов, второй с удалением. Анализ проводится по частоте вхождений для каждого списка"
   ]
  },
  {
   "cell_type": "code",
   "execution_count": null,
   "metadata": {},
   "outputs": [],
   "source": []
  },
  {
   "cell_type": "code",
   "execution_count": 27,
   "metadata": {
    "ExecuteTime": {
     "end_time": "2019-10-15T14:48:58.494786Z",
     "start_time": "2019-10-15T14:48:58.489550Z"
    }
   },
   "outputs": [],
   "source": [
    "def create_dictionary(text):\n",
    "    for news in text:\n",
    "        tokens = list(tokenize(news.lower()))\n",
    "        yield([_.text for _ in tokens])"
   ]
  },
  {
   "cell_type": "code",
   "execution_count": null,
   "metadata": {},
   "outputs": [],
   "source": []
  },
  {
   "cell_type": "code",
   "execution_count": 28,
   "metadata": {
    "ExecuteTime": {
     "end_time": "2019-10-15T14:55:51.349387Z",
     "start_time": "2019-10-15T14:49:00.358726Z"
    }
   },
   "outputs": [],
   "source": [
    "data_meduza.text = list(create_dictionary(data_meduza.text.values))"
   ]
  },
  {
   "cell_type": "code",
   "execution_count": null,
   "metadata": {},
   "outputs": [],
   "source": []
  },
  {
   "cell_type": "code",
   "execution_count": 29,
   "metadata": {
    "ExecuteTime": {
     "end_time": "2019-10-15T15:01:21.262268Z",
     "start_time": "2019-10-15T15:01:18.683353Z"
    }
   },
   "outputs": [],
   "source": [
    "# Соберем словарь из новостей для последующего анализа, без объединения повторяющихся слов\n",
    "dictionary = list(itertools.chain.from_iterable(data_meduza.text.values))"
   ]
  },
  {
   "cell_type": "code",
   "execution_count": null,
   "metadata": {
    "ExecuteTime": {
     "end_time": "2019-10-15T15:01:46.115185Z",
     "start_time": "2019-10-15T15:01:46.094147Z"
    }
   },
   "outputs": [],
   "source": []
  },
  {
   "cell_type": "code",
   "execution_count": null,
   "metadata": {},
   "outputs": [],
   "source": [
    "# Соберем значки препинания, часть возьмем из готовой библиотеки, часть добавим свои"
   ]
  },
  {
   "cell_type": "code",
   "execution_count": 30,
   "metadata": {
    "ExecuteTime": {
     "end_time": "2019-10-15T15:01:38.260680Z",
     "start_time": "2019-10-15T15:01:38.256053Z"
    }
   },
   "outputs": [],
   "source": [
    "punctuation = list(punctuation)"
   ]
  },
  {
   "cell_type": "code",
   "execution_count": 42,
   "metadata": {
    "ExecuteTime": {
     "end_time": "2019-10-15T15:07:26.873985Z",
     "start_time": "2019-10-15T15:07:26.870017Z"
    }
   },
   "outputs": [],
   "source": [
    "punctuation += ['«','»','—','n','»,','».','–', '...','“', '„']"
   ]
  },
  {
   "cell_type": "code",
   "execution_count": 43,
   "metadata": {
    "ExecuteTime": {
     "end_time": "2019-10-15T15:07:27.476636Z",
     "start_time": "2019-10-15T15:07:27.472631Z"
    }
   },
   "outputs": [],
   "source": [
    "garbage_words = ['nранее', 'nв', 'nпо', 'nтакже','u','n—']"
   ]
  },
  {
   "cell_type": "code",
   "execution_count": 44,
   "metadata": {
    "ExecuteTime": {
     "end_time": "2019-10-15T15:08:02.581934Z",
     "start_time": "2019-10-15T15:07:28.753341Z"
    }
   },
   "outputs": [],
   "source": [
    "# Словарь без удаления стопслов\n",
    "dictionary_with_stopwords = [item for item in dictionary if item not in punctuation]"
   ]
  },
  {
   "cell_type": "code",
   "execution_count": 45,
   "metadata": {
    "ExecuteTime": {
     "end_time": "2019-10-15T15:08:35.078209Z",
     "start_time": "2019-10-15T15:08:30.689113Z"
    }
   },
   "outputs": [],
   "source": [
    "dictionary_with_stopwords = [item for item in dictionary_with_stopwords if item not in garbage_words]"
   ]
  },
  {
   "cell_type": "code",
   "execution_count": null,
   "metadata": {},
   "outputs": [],
   "source": []
  },
  {
   "cell_type": "code",
   "execution_count": 46,
   "metadata": {
    "ExecuteTime": {
     "end_time": "2019-10-15T15:08:35.102492Z",
     "start_time": "2019-10-15T15:08:35.081907Z"
    }
   },
   "outputs": [],
   "source": [
    "stopwords_01 = open('../nlp/preprocessing/stopwords.txt', 'r', encoding='UTF-8')\n",
    "stopwords_01 = stopwords_01.read().split('\\n')\n",
    "stopwords_02 = open('../nlp/preprocessing/stopwords_02.txt', 'r', encoding='UTF-8')\n",
    "stopwords_02 = stopwords_02.read().split('\\n')"
   ]
  },
  {
   "cell_type": "code",
   "execution_count": 47,
   "metadata": {
    "ExecuteTime": {
     "end_time": "2019-10-15T15:08:35.129726Z",
     "start_time": "2019-10-15T15:08:35.121047Z"
    }
   },
   "outputs": [],
   "source": [
    "stopwords = stopwords_01 + stopwords_02"
   ]
  },
  {
   "cell_type": "code",
   "execution_count": 48,
   "metadata": {
    "ExecuteTime": {
     "end_time": "2019-10-15T15:12:10.003459Z",
     "start_time": "2019-10-15T15:08:35.150351Z"
    }
   },
   "outputs": [],
   "source": [
    "# Словарь после удаления стопслов\n",
    "dictionary_without_stopwords = [item for item in dictionary_with_stopwords if item not in stopwords]"
   ]
  },
  {
   "cell_type": "code",
   "execution_count": null,
   "metadata": {},
   "outputs": [],
   "source": []
  },
  {
   "cell_type": "markdown",
   "metadata": {},
   "source": [
    "### Аналитика по словам"
   ]
  },
  {
   "cell_type": "markdown",
   "metadata": {},
   "source": [
    "#### 20 самых популярных слов без удаления стопслов"
   ]
  },
  {
   "cell_type": "code",
   "execution_count": 49,
   "metadata": {
    "ExecuteTime": {
     "end_time": "2019-10-15T15:12:15.281972Z",
     "start_time": "2019-10-15T15:12:10.006684Z"
    }
   },
   "outputs": [
    {
     "data": {
      "text/plain": [
       "[('в', 941891),\n",
       " ('и', 547594),\n",
       " ('на', 380610),\n",
       " ('что', 282942),\n",
       " ('не', 281648),\n",
       " ('с', 246772),\n",
       " ('по', 194589),\n",
       " ('о', 115382),\n",
       " ('из', 115299),\n",
       " ('это', 108186),\n",
       " ('как', 104513),\n",
       " ('а', 103405),\n",
       " ('он', 95932),\n",
       " ('к', 95468),\n",
       " ('за', 90182),\n",
       " ('его', 86484),\n",
       " ('но', 84365),\n",
       " ('года', 79514),\n",
       " ('я', 76063),\n",
       " ('у', 74925)]"
      ]
     },
     "execution_count": 49,
     "metadata": {},
     "output_type": "execute_result"
    }
   ],
   "source": [
    "Counter(dictionary_with_stopwords).most_common(20)"
   ]
  },
  {
   "cell_type": "code",
   "execution_count": 50,
   "metadata": {
    "ExecuteTime": {
     "end_time": "2019-10-15T15:12:27.674778Z",
     "start_time": "2019-10-15T15:12:15.285241Z"
    }
   },
   "outputs": [
    {
     "data": {
      "image/png": "[encoded data removed]",
      "text/plain": [
       "<Figure size 864x432 with 1 Axes>"
      ]
     },
     "metadata": {},
     "output_type": "display_data"
    }
   ],
   "source": [
    "x = dict(Counter(dictionary_with_stopwords).most_common(20)).keys()\n",
    "y = dict(Counter(dictionary_with_stopwords).most_common(20)).values()\n",
    "\n",
    "fig, ax = plt.subplots()\n",
    "\n",
    "ax.bar(x, y)\n",
    "ax.set_title('TOP-20 слов без удаления стопслов')\n",
    "ax.set_ylabel('Частота')\n",
    "ax.set_xlabel('Слова')\n",
    "\n",
    "ax.set_facecolor('seashell')\n",
    "fig.set_facecolor('floralwhite')\n",
    "fig.set_figwidth(12)    #  ширина Figure\n",
    "fig.set_figheight(6)    #  высота Figure\n",
    "\n",
    "\n",
    "plt.show()"
   ]
  },
  {
   "cell_type": "code",
   "execution_count": null,
   "metadata": {},
   "outputs": [],
   "source": []
  },
  {
   "cell_type": "markdown",
   "metadata": {},
   "source": [
    "#### 20 самых популярных слов после удаления стопслов "
   ]
  },
  {
   "cell_type": "code",
   "execution_count": 51,
   "metadata": {
    "ExecuteTime": {
     "end_time": "2019-10-15T15:12:31.692104Z",
     "start_time": "2019-10-15T15:12:27.678187Z"
    }
   },
   "outputs": [
    {
     "data": {
      "text/plain": [
       "[('россии', 51782),\n",
       " ('рф', 24051),\n",
       " ('сша', 23941),\n",
       " ('словам', 22038),\n",
       " ('рублей', 20688),\n",
       " ('заявил', 20194),\n",
       " ('из-за', 18195),\n",
       " ('2015', 16385),\n",
       " ('2016', 16333),\n",
       " ('данным', 16151),\n",
       " ('компании', 15966),\n",
       " ('людей', 15044),\n",
       " ('власти', 14471),\n",
       " ('например', 14214),\n",
       " ('президента', 14177),\n",
       " ('числе', 13784),\n",
       " ('2014', 13078),\n",
       " ('человека', 12368),\n",
       " ('решение', 12152),\n",
       " ('сообщил', 12033)]"
      ]
     },
     "execution_count": 51,
     "metadata": {},
     "output_type": "execute_result"
    }
   ],
   "source": [
    "Counter(dictionary_without_stopwords).most_common(20)"
   ]
  },
  {
   "cell_type": "code",
   "execution_count": 52,
   "metadata": {
    "ExecuteTime": {
     "end_time": "2019-10-16T05:27:16.476201Z",
     "start_time": "2019-10-16T05:27:00.992308Z"
    }
   },
   "outputs": [
    {
     "data": {
      "image/png": "[encoded data removed]",
      "text/plain": [
       "<Figure size 1296x432 with 1 Axes>"
      ]
     },
     "metadata": {},
     "output_type": "display_data"
    }
   ],
   "source": [
    "x = dict(Counter(dictionary_without_stopwords).most_common(20)).keys()\n",
    "y = dict(Counter(dictionary_without_stopwords).most_common(20)).values()\n",
    "\n",
    "fig, ax = plt.subplots()\n",
    "\n",
    "ax.bar(x, y)\n",
    "ax.set_title('TOP-20 слов без удаления стопслов')\n",
    "ax.set_ylabel('Частота')\n",
    "ax.set_xlabel('Слова')\n",
    "\n",
    "ax.set_facecolor('seashell')\n",
    "fig.set_facecolor('floralwhite')\n",
    "fig.set_figwidth(18)    #  ширина Figure\n",
    "fig.set_figheight(6)    #  высота Figure\n",
    "\n",
    "\n",
    "plt.show()"
   ]
  },
  {
   "cell_type": "code",
   "execution_count": null,
   "metadata": {
    "ExecuteTime": {
     "end_time": "2019-10-16T06:01:22.035202Z",
     "start_time": "2019-10-16T06:01:21.863898Z"
    }
   },
   "outputs": [],
   "source": []
  },
  {
   "cell_type": "markdown",
   "metadata": {},
   "source": [
    "### Рубрики Meduza\n"
   ]
  },
  {
   "cell_type": "code",
   "execution_count": 54,
   "metadata": {
    "ExecuteTime": {
     "end_time": "2019-10-16T06:01:11.500171Z",
     "start_time": "2019-10-16T06:01:11.489082Z"
    }
   },
   "outputs": [
    {
     "name": "stdout",
     "output_type": "stream",
     "text": [
      "Количество рубрик =  (1,)\n"
     ]
    },
    {
     "data": {
      "text/plain": [
       "array([nan])"
      ]
     },
     "execution_count": 54,
     "metadata": {},
     "output_type": "execute_result"
    }
   ],
   "source": [
    "# Считаем количество рубрик в датасете Ria, а также выведем значения\n",
    "print('Количество рубрик = ', data_meduza.topics.unique().shape)\n",
    "data_meduza['topics'].unique()"
   ]
  },
  {
   "cell_type": "code",
   "execution_count": 55,
   "metadata": {
    "ExecuteTime": {
     "end_time": "2019-10-16T06:01:15.513880Z",
     "start_time": "2019-10-16T06:01:15.496115Z"
    }
   },
   "outputs": [
    {
     "data": {
      "text/plain": [
       "Series([], Name: topics, dtype: int64)"
      ]
     },
     "execution_count": 55,
     "metadata": {},
     "output_type": "execute_result"
    }
   ],
   "source": [
    "data_meduza.groupby('topics')['topics'].count().head()"
   ]
  }
 ],
 "metadata": {
  "kernelspec": {
   "display_name": "Python 3",
   "language": "python",
   "name": "python3"
  },
  "language_info": {
   "codemirror_mode": {
    "name": "ipython",
    "version": 3
   },
   "file_extension": ".py",
   "mimetype": "text/x-python",
   "name": "python",
   "nbconvert_exporter": "python",
   "pygments_lexer": "ipython3",
   "version": "3.6.8"
  }
 },
 "nbformat": 4,
 "nbformat_minor": 2
}
