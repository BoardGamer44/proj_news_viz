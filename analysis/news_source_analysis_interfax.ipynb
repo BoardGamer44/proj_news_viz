{
 "cells": [
  {
   "cell_type": "markdown",
   "metadata": {
    "colab": {
     "base_uri": "https://localhost:8080/",
     "height": 122
    },
    "colab_type": "code",
    "executionInfo": {
     "elapsed": 20252,
     "status": "ok",
     "timestamp": 1570785037773,
     "user": {
      "displayName": "Egor Silaev",
      "photoUrl": "",
      "userId": "17939097308196895647"
     },
     "user_tz": -180
    },
    "id": "eP3_3vHgURmI",
    "outputId": "982f660d-2342-4563-da2e-be61edfc7004"
   },
   "source": [
    "# Анализ источников новостей"
   ]
  },
  {
   "cell_type": "markdown",
   "metadata": {
    "colab": {
     "base_uri": "https://localhost:8080/",
     "height": 34
    },
    "colab_type": "code",
    "executionInfo": {
     "elapsed": 1541,
     "status": "ok",
     "timestamp": 1570785045326,
     "user": {
      "displayName": "Egor Silaev",
      "photoUrl": "",
      "userId": "17939097308196895647"
     },
     "user_tz": -180
    },
    "id": "rLST9olHFUks",
    "outputId": "dc54cf32-7c19-4d87-e0c0-b9c9030d2a52"
   },
   "source": [
    "Цель данного исследования: проанализировать источники новостных лент, сравнить рубрики, подумать над возможностью добавление\\удаление категорий для проекта \"Радар новостей рунета\""
   ]
  },
  {
   "cell_type": "code",
   "execution_count": 0,
   "metadata": {
    "colab": {},
    "colab_type": "code",
    "id": "ci29PV7iUtMc"
   },
   "outputs": [],
   "source": [
    "import numpy as np\n",
    "import pandas as pd\n",
    "import datetime as DT\n",
    "import matplotlib.pyplot as plt"
   ]
  },
  {
   "cell_type": "code",
   "execution_count": 0,
   "metadata": {
    "colab": {},
    "colab_type": "code",
    "id": "P4dqoIbbUtZz"
   },
   "outputs": [],
   "source": [
    "import itertools\n",
    "from collections import Counter\n",
    "from string import punctuation"
   ]
  },
  {
   "cell_type": "code",
   "execution_count": 0,
   "metadata": {
    "colab": {},
    "colab_type": "code",
    "id": "0U-tK8ZsUteB"
   },
   "outputs": [],
   "source": [
    "from razdel import tokenize"
   ]
  },
  {
   "cell_type": "markdown",
   "metadata": {
    "colab_type": "text",
    "id": "qtLSR9-7Vlxb"
   },
   "source": [
    "## Датасет interfax. Предварительная обработка"
   ]
  },
  {
   "cell_type": "markdown",
   "metadata": {
    "colab_type": "text",
    "id": "AuClOsyeVrFk"
   },
   "source": [
    "Загрузим датасет intefax. Одновременно сделаем преобразование даты из строки"
   ]
  },
  {
   "cell_type": "code",
   "execution_count": 0,
   "metadata": {
    "colab": {},
    "colab_type": "code",
    "id": "itFP0q0bUtlc"
   },
   "outputs": [],
   "source": [
    "dateparse = lambda x: pd.datetime.strptime(x, \"%Y-%m-%d %H:%M:%S\")"
   ]
  },
  {
   "cell_type": "code",
   "execution_count": 9,
   "metadata": {
    "colab": {
     "base_uri": "https://localhost:8080/",
     "height": 68
    },
    "colab_type": "code",
    "executionInfo": {
     "elapsed": 30005,
     "status": "ok",
     "timestamp": 1570785149237,
     "user": {
      "displayName": "Egor Silaev",
      "photoUrl": "",
      "userId": "17939097308196895647"
     },
     "user_tz": -180
    },
    "id": "UfcZpXf6VYr2",
    "outputId": "b66138cd-8a3d-4969-86e8-bebd6a41ebe9"
   },
   "outputs": [
    {
     "name": "stderr",
     "output_type": "stream",
     "text": [
      "b'Skipping line 158938: expected 17 fields, saw 20\\n'\n",
      "b'Skipping line 176941: expected 17 fields, saw 20\\n'\n",
      "b'Skipping line 280155: expected 17 fields, saw 23\\n'\n"
     ]
    }
   ],
   "source": [
    "data_interfax = pd.read_csv('../data/interfax.csv',\n",
    "                      sep=',',\n",
    "                      index_col=False,\n",
    "                      escapechar='\\\\',\n",
    "                      parse_dates=['date'],\n",
    "                      date_parser=dateparse,\n",
    "                      quotechar='\\\"',\n",
    "                      error_bad_lines=False)"
   ]
  },
  {
   "cell_type": "code",
   "execution_count": 0,
   "metadata": {
    "colab": {},
    "colab_type": "code",
    "id": "731aYARcVYyM"
   },
   "outputs": [],
   "source": []
  },
  {
   "cell_type": "code",
   "execution_count": 10,
   "metadata": {
    "colab": {
     "base_uri": "https://localhost:8080/",
     "height": 306
    },
    "colab_type": "code",
    "executionInfo": {
     "elapsed": 653,
     "status": "ok",
     "timestamp": 1570785268256,
     "user": {
      "displayName": "Egor Silaev",
      "photoUrl": "",
      "userId": "17939097308196895647"
     },
     "user_tz": -180
    },
    "id": "AWez_ShbVYvF",
    "outputId": "18629932-5358-48c8-d072-d76b9a1cd4ab"
   },
   "outputs": [
    {
     "data": {
      "text/plain": [
       "date           datetime64[ns]\n",
       "url                    object\n",
       "edition                object\n",
       "topics                 object\n",
       "authors                object\n",
       "title                  object\n",
       "text                   object\n",
       "reposts_fb             object\n",
       "reposts_vk             object\n",
       "reposts_ok             object\n",
       "reposts_twi            object\n",
       "reposts_lj             object\n",
       "reposts_tg             object\n",
       "likes                  object\n",
       "views                  object\n",
       "comm_count             object\n",
       "dtype: object"
      ]
     },
     "execution_count": 10,
     "metadata": {
      "tags": []
     },
     "output_type": "execute_result"
    }
   ],
   "source": [
    "# Проверим преобразование\n",
    "data_interfax.dtypes"
   ]
  },
  {
   "cell_type": "code",
   "execution_count": 11,
   "metadata": {
    "colab": {
     "base_uri": "https://localhost:8080/",
     "height": 34
    },
    "colab_type": "code",
    "executionInfo": {
     "elapsed": 528,
     "status": "ok",
     "timestamp": 1570785271243,
     "user": {
      "displayName": "Egor Silaev",
      "photoUrl": "",
      "userId": "17939097308196895647"
     },
     "user_tz": -180
    },
    "id": "tDUefJNtV7zF",
    "outputId": "b45b8bff-f5e7-4d5c-8338-8291a9b93353"
   },
   "outputs": [
    {
     "data": {
      "text/plain": [
       "(543961, 16)"
      ]
     },
     "execution_count": 11,
     "metadata": {
      "tags": []
     },
     "output_type": "execute_result"
    }
   ],
   "source": [
    "data_interfax.shape"
   ]
  },
  {
   "cell_type": "code",
   "execution_count": 0,
   "metadata": {
    "colab": {},
    "colab_type": "code",
    "id": "npNLHV5oV715"
   },
   "outputs": [],
   "source": []
  },
  {
   "cell_type": "code",
   "execution_count": 12,
   "metadata": {
    "colab": {
     "base_uri": "https://localhost:8080/",
     "height": 459
    },
    "colab_type": "code",
    "executionInfo": {
     "elapsed": 523,
     "status": "ok",
     "timestamp": 1570785273989,
     "user": {
      "displayName": "Egor Silaev",
      "photoUrl": "",
      "userId": "17939097308196895647"
     },
     "user_tz": -180
    },
    "id": "Ei_91iBDV74p",
    "outputId": "baa27b13-a8f2-4066-c76e-34a6c32bfead"
   },
   "outputs": [
    {
     "data": {
      "text/html": [
       "<div>\n",
       "<style scoped>\n",
       "    .dataframe tbody tr th:only-of-type {\n",
       "        vertical-align: middle;\n",
       "    }\n",
       "\n",
       "    .dataframe tbody tr th {\n",
       "        vertical-align: top;\n",
       "    }\n",
       "\n",
       "    .dataframe thead th {\n",
       "        text-align: right;\n",
       "    }\n",
       "</style>\n",
       "<table border=\"1\" class=\"dataframe\">\n",
       "  <thead>\n",
       "    <tr style=\"text-align: right;\">\n",
       "      <th></th>\n",
       "      <th>date</th>\n",
       "      <th>url</th>\n",
       "      <th>edition</th>\n",
       "      <th>topics</th>\n",
       "      <th>authors</th>\n",
       "      <th>title</th>\n",
       "      <th>text</th>\n",
       "      <th>reposts_fb</th>\n",
       "      <th>reposts_vk</th>\n",
       "      <th>reposts_ok</th>\n",
       "      <th>reposts_twi</th>\n",
       "      <th>reposts_lj</th>\n",
       "      <th>reposts_tg</th>\n",
       "      <th>likes</th>\n",
       "      <th>views</th>\n",
       "      <th>comm_count</th>\n",
       "    </tr>\n",
       "  </thead>\n",
       "  <tbody>\n",
       "    <tr>\n",
       "      <th>0</th>\n",
       "      <td>2019-04-30 13:26:00</td>\n",
       "      <td>https://www.sport-interfax.ru/659837</td>\n",
       "      <td>www.sport-interfax.ru</td>\n",
       "      <td>Спорт</td>\n",
       "      <td>NaN</td>\n",
       "      <td>Российского чемпиона мира по греко-римской бор...</td>\n",
       "      <td>Москва. 30 апреля. INTERFAX.RU - Чемпион мира ...</td>\n",
       "      <td>-</td>\n",
       "      <td>-</td>\n",
       "      <td>-</td>\n",
       "      <td>-</td>\n",
       "      <td>-</td>\n",
       "      <td>-</td>\n",
       "      <td>-</td>\n",
       "      <td>-</td>\n",
       "      <td>-</td>\n",
       "    </tr>\n",
       "    <tr>\n",
       "      <th>1</th>\n",
       "      <td>2019-05-07 12:46:00</td>\n",
       "      <td>https://www.sport-interfax.ru/660425</td>\n",
       "      <td>www.sport-interfax.ru</td>\n",
       "      <td>Спорт</td>\n",
       "      <td>NaN</td>\n",
       "      <td>Первый канал покажет все матчи россиян на ЧМ п...</td>\n",
       "      <td>Москва. 7 мая. INTERFAX.RU - Первый канал объя...</td>\n",
       "      <td>-</td>\n",
       "      <td>-</td>\n",
       "      <td>-</td>\n",
       "      <td>-</td>\n",
       "      <td>-</td>\n",
       "      <td>-</td>\n",
       "      <td>-</td>\n",
       "      <td>-</td>\n",
       "      <td>-</td>\n",
       "    </tr>\n",
       "    <tr>\n",
       "      <th>2</th>\n",
       "      <td>2019-05-08 12:57:00</td>\n",
       "      <td>https://www.sport-interfax.ru/660543</td>\n",
       "      <td>www.sport-interfax.ru</td>\n",
       "      <td>Спорт</td>\n",
       "      <td>NaN</td>\n",
       "      <td>Семак выразил надежду на новый контракт Кокори...</td>\n",
       "      <td>Москва. 8 мая. INTERFAX.RU - Главный тренер пе...</td>\n",
       "      <td>-</td>\n",
       "      <td>-</td>\n",
       "      <td>-</td>\n",
       "      <td>-</td>\n",
       "      <td>-</td>\n",
       "      <td>-</td>\n",
       "      <td>-</td>\n",
       "      <td>-</td>\n",
       "      <td>-</td>\n",
       "    </tr>\n",
       "    <tr>\n",
       "      <th>3</th>\n",
       "      <td>2019-05-09 00:06:00</td>\n",
       "      <td>https://www.sport-interfax.ru/660618</td>\n",
       "      <td>www.sport-interfax.ru</td>\n",
       "      <td>Спорт</td>\n",
       "      <td>NaN</td>\n",
       "      <td>\"Тоттенхэм\" стал вторым финалистом Лиги чемпионов</td>\n",
       "      <td>В финале он сыграет с другим представителем Ан...</td>\n",
       "      <td>-</td>\n",
       "      <td>-</td>\n",
       "      <td>-</td>\n",
       "      <td>-</td>\n",
       "      <td>-</td>\n",
       "      <td>-</td>\n",
       "      <td>-</td>\n",
       "      <td>-</td>\n",
       "      <td>-</td>\n",
       "    </tr>\n",
       "    <tr>\n",
       "      <th>4</th>\n",
       "      <td>2019-05-14 14:32:00</td>\n",
       "      <td>https://www.sport-interfax.ru/661091</td>\n",
       "      <td>www.sport-interfax.ru</td>\n",
       "      <td>Спорт</td>\n",
       "      <td>NaN</td>\n",
       "      <td>Претендовавшего на участие в ОИ скейтбордиста ...</td>\n",
       "      <td>Москва. 14 мая. INTERFAX.RU - Российский скейт...</td>\n",
       "      <td>-</td>\n",
       "      <td>-</td>\n",
       "      <td>-</td>\n",
       "      <td>-</td>\n",
       "      <td>-</td>\n",
       "      <td>-</td>\n",
       "      <td>-</td>\n",
       "      <td>-</td>\n",
       "      <td>-</td>\n",
       "    </tr>\n",
       "  </tbody>\n",
       "</table>\n",
       "</div>"
      ],
      "text/plain": [
       "                 date                                   url  ... views comm_count\n",
       "0 2019-04-30 13:26:00  https://www.sport-interfax.ru/659837  ...     -          -\n",
       "1 2019-05-07 12:46:00  https://www.sport-interfax.ru/660425  ...     -          -\n",
       "2 2019-05-08 12:57:00  https://www.sport-interfax.ru/660543  ...     -          -\n",
       "3 2019-05-09 00:06:00  https://www.sport-interfax.ru/660618  ...     -          -\n",
       "4 2019-05-14 14:32:00  https://www.sport-interfax.ru/661091  ...     -          -\n",
       "\n",
       "[5 rows x 16 columns]"
      ]
     },
     "execution_count": 12,
     "metadata": {
      "tags": []
     },
     "output_type": "execute_result"
    }
   ],
   "source": [
    "# Так выглядет датасет\n",
    "data_interfax.head()"
   ]
  },
  {
   "cell_type": "code",
   "execution_count": 0,
   "metadata": {
    "colab": {},
    "colab_type": "code",
    "id": "aezXjcvsV77M"
   },
   "outputs": [],
   "source": []
  },
  {
   "cell_type": "code",
   "execution_count": 13,
   "metadata": {
    "colab": {
     "base_uri": "https://localhost:8080/",
     "height": 306
    },
    "colab_type": "code",
    "executionInfo": {
     "elapsed": 956,
     "status": "ok",
     "timestamp": 1570785277622,
     "user": {
      "displayName": "Egor Silaev",
      "photoUrl": "",
      "userId": "17939097308196895647"
     },
     "user_tz": -180
    },
    "id": "HAJO4KJLV79W",
    "outputId": "344f6033-0e5f-43b6-f5ca-52c5a7e615e2"
   },
   "outputs": [
    {
     "data": {
      "text/plain": [
       "date           False\n",
       "url            False\n",
       "edition        False\n",
       "topics         False\n",
       "authors         True\n",
       "title          False\n",
       "text           False\n",
       "reposts_fb     False\n",
       "reposts_vk     False\n",
       "reposts_ok     False\n",
       "reposts_twi    False\n",
       "reposts_lj     False\n",
       "reposts_tg     False\n",
       "likes          False\n",
       "views          False\n",
       "comm_count     False\n",
       "dtype: bool"
      ]
     },
     "execution_count": 13,
     "metadata": {
      "tags": []
     },
     "output_type": "execute_result"
    }
   ],
   "source": [
    "# Выясним в каким столбцах есть пустые данные\n",
    "data_interfax.isnull().any()"
   ]
  },
  {
   "cell_type": "code",
   "execution_count": 0,
   "metadata": {
    "colab": {},
    "colab_type": "code",
    "id": "eaT3jhBLV7_u"
   },
   "outputs": [],
   "source": []
  },
  {
   "cell_type": "markdown",
   "metadata": {
    "colab_type": "text",
    "id": "erkA4X18WTVJ"
   },
   "source": [
    "Как видим, в некоторых столбцах вместо значения Nan используется \"-\", их преобразованием займемся позже. А пока посмотрим строки, в которых пустые тексты новостей"
   ]
  },
  {
   "cell_type": "code",
   "execution_count": 15,
   "metadata": {
    "colab": {
     "base_uri": "https://localhost:8080/",
     "height": 476
    },
    "colab_type": "code",
    "executionInfo": {
     "elapsed": 688,
     "status": "ok",
     "timestamp": 1570785289075,
     "user": {
      "displayName": "Egor Silaev",
      "photoUrl": "",
      "userId": "17939097308196895647"
     },
     "user_tz": -180
    },
    "id": "XjiwIZIfWP55",
    "outputId": "41e6a280-6213-4ce5-e2a8-d8ac48cb4522"
   },
   "outputs": [
    {
     "name": "stdout",
     "output_type": "stream",
     "text": [
      "Кол-во строк с значением NaN в столбце \"authors\" =  521464\n"
     ]
    },
    {
     "data": {
      "text/html": [
       "<div>\n",
       "<style scoped>\n",
       "    .dataframe tbody tr th:only-of-type {\n",
       "        vertical-align: middle;\n",
       "    }\n",
       "\n",
       "    .dataframe tbody tr th {\n",
       "        vertical-align: top;\n",
       "    }\n",
       "\n",
       "    .dataframe thead th {\n",
       "        text-align: right;\n",
       "    }\n",
       "</style>\n",
       "<table border=\"1\" class=\"dataframe\">\n",
       "  <thead>\n",
       "    <tr style=\"text-align: right;\">\n",
       "      <th></th>\n",
       "      <th>date</th>\n",
       "      <th>url</th>\n",
       "      <th>edition</th>\n",
       "      <th>topics</th>\n",
       "      <th>authors</th>\n",
       "      <th>title</th>\n",
       "      <th>text</th>\n",
       "      <th>reposts_fb</th>\n",
       "      <th>reposts_vk</th>\n",
       "      <th>reposts_ok</th>\n",
       "      <th>reposts_twi</th>\n",
       "      <th>reposts_lj</th>\n",
       "      <th>reposts_tg</th>\n",
       "      <th>likes</th>\n",
       "      <th>views</th>\n",
       "      <th>comm_count</th>\n",
       "    </tr>\n",
       "  </thead>\n",
       "  <tbody>\n",
       "    <tr>\n",
       "      <th>0</th>\n",
       "      <td>2019-04-30 13:26:00</td>\n",
       "      <td>https://www.sport-interfax.ru/659837</td>\n",
       "      <td>www.sport-interfax.ru</td>\n",
       "      <td>Спорт</td>\n",
       "      <td>NaN</td>\n",
       "      <td>Российского чемпиона мира по греко-римской бор...</td>\n",
       "      <td>Москва. 30 апреля. INTERFAX.RU - Чемпион мира ...</td>\n",
       "      <td>-</td>\n",
       "      <td>-</td>\n",
       "      <td>-</td>\n",
       "      <td>-</td>\n",
       "      <td>-</td>\n",
       "      <td>-</td>\n",
       "      <td>-</td>\n",
       "      <td>-</td>\n",
       "      <td>-</td>\n",
       "    </tr>\n",
       "    <tr>\n",
       "      <th>1</th>\n",
       "      <td>2019-05-07 12:46:00</td>\n",
       "      <td>https://www.sport-interfax.ru/660425</td>\n",
       "      <td>www.sport-interfax.ru</td>\n",
       "      <td>Спорт</td>\n",
       "      <td>NaN</td>\n",
       "      <td>Первый канал покажет все матчи россиян на ЧМ п...</td>\n",
       "      <td>Москва. 7 мая. INTERFAX.RU - Первый канал объя...</td>\n",
       "      <td>-</td>\n",
       "      <td>-</td>\n",
       "      <td>-</td>\n",
       "      <td>-</td>\n",
       "      <td>-</td>\n",
       "      <td>-</td>\n",
       "      <td>-</td>\n",
       "      <td>-</td>\n",
       "      <td>-</td>\n",
       "    </tr>\n",
       "    <tr>\n",
       "      <th>2</th>\n",
       "      <td>2019-05-08 12:57:00</td>\n",
       "      <td>https://www.sport-interfax.ru/660543</td>\n",
       "      <td>www.sport-interfax.ru</td>\n",
       "      <td>Спорт</td>\n",
       "      <td>NaN</td>\n",
       "      <td>Семак выразил надежду на новый контракт Кокори...</td>\n",
       "      <td>Москва. 8 мая. INTERFAX.RU - Главный тренер пе...</td>\n",
       "      <td>-</td>\n",
       "      <td>-</td>\n",
       "      <td>-</td>\n",
       "      <td>-</td>\n",
       "      <td>-</td>\n",
       "      <td>-</td>\n",
       "      <td>-</td>\n",
       "      <td>-</td>\n",
       "      <td>-</td>\n",
       "    </tr>\n",
       "    <tr>\n",
       "      <th>3</th>\n",
       "      <td>2019-05-09 00:06:00</td>\n",
       "      <td>https://www.sport-interfax.ru/660618</td>\n",
       "      <td>www.sport-interfax.ru</td>\n",
       "      <td>Спорт</td>\n",
       "      <td>NaN</td>\n",
       "      <td>\"Тоттенхэм\" стал вторым финалистом Лиги чемпионов</td>\n",
       "      <td>В финале он сыграет с другим представителем Ан...</td>\n",
       "      <td>-</td>\n",
       "      <td>-</td>\n",
       "      <td>-</td>\n",
       "      <td>-</td>\n",
       "      <td>-</td>\n",
       "      <td>-</td>\n",
       "      <td>-</td>\n",
       "      <td>-</td>\n",
       "      <td>-</td>\n",
       "    </tr>\n",
       "    <tr>\n",
       "      <th>4</th>\n",
       "      <td>2019-05-14 14:32:00</td>\n",
       "      <td>https://www.sport-interfax.ru/661091</td>\n",
       "      <td>www.sport-interfax.ru</td>\n",
       "      <td>Спорт</td>\n",
       "      <td>NaN</td>\n",
       "      <td>Претендовавшего на участие в ОИ скейтбордиста ...</td>\n",
       "      <td>Москва. 14 мая. INTERFAX.RU - Российский скейт...</td>\n",
       "      <td>-</td>\n",
       "      <td>-</td>\n",
       "      <td>-</td>\n",
       "      <td>-</td>\n",
       "      <td>-</td>\n",
       "      <td>-</td>\n",
       "      <td>-</td>\n",
       "      <td>-</td>\n",
       "      <td>-</td>\n",
       "    </tr>\n",
       "  </tbody>\n",
       "</table>\n",
       "</div>"
      ],
      "text/plain": [
       "                 date                                   url  ... views comm_count\n",
       "0 2019-04-30 13:26:00  https://www.sport-interfax.ru/659837  ...     -          -\n",
       "1 2019-05-07 12:46:00  https://www.sport-interfax.ru/660425  ...     -          -\n",
       "2 2019-05-08 12:57:00  https://www.sport-interfax.ru/660543  ...     -          -\n",
       "3 2019-05-09 00:06:00  https://www.sport-interfax.ru/660618  ...     -          -\n",
       "4 2019-05-14 14:32:00  https://www.sport-interfax.ru/661091  ...     -          -\n",
       "\n",
       "[5 rows x 16 columns]"
      ]
     },
     "execution_count": 15,
     "metadata": {
      "tags": []
     },
     "output_type": "execute_result"
    }
   ],
   "source": [
    "print('Кол-во строк с значением NaN в столбце \"authors\" = ', data_interfax['authors'].isnull().sum())\n",
    "data_interfax[data_interfax['authors'].isnull()].head()"
   ]
  },
  {
   "cell_type": "code",
   "execution_count": 0,
   "metadata": {
    "colab": {},
    "colab_type": "code",
    "id": "FlgDQ5vwWP88"
   },
   "outputs": [],
   "source": []
  },
  {
   "cell_type": "code",
   "execution_count": 16,
   "metadata": {
    "colab": {
     "base_uri": "https://localhost:8080/",
     "height": 578
    },
    "colab_type": "code",
    "executionInfo": {
     "elapsed": 517,
     "status": "ok",
     "timestamp": 1570785296640,
     "user": {
      "displayName": "Egor Silaev",
      "photoUrl": "",
      "userId": "17939097308196895647"
     },
     "user_tz": -180
    },
    "id": "f1Ym_V1HWQBJ",
    "outputId": "c5df4c8b-b3c7-4095-d8dc-198640a1c98b"
   },
   "outputs": [
    {
     "name": "stdout",
     "output_type": "stream",
     "text": [
      "authors:  [nan 'Анна Нехаева' 'Наталия Богданова' '/Интерфакс, Алексей Козин/'\n",
      " '/Интерфакс/' '/Интерфакс, Алиса Чудакова/' '/Анатолий Гусев, Интерфакс/'\n",
      " '/Алексей Козин, Интерфакс/' '/Интерфакс, Иван Баранов/'\n",
      " '/Интерфакс, Анатолий Гусев/' '/Иван Баранов, Интерфакс/'\n",
      " '/Карина Мелкумян, Интерфакс/' '/Алиса Чудакова, Интерфакс/'\n",
      " '/Интерфакс, Карина Мелкумян/' '/Интерфакс, Владимир Кондратьев/'\n",
      " '/Интерфакс, Дарья Карпенко/' '/Интерфакс, Зауреш Данаева/'\n",
      " '/Дарья Карпенко, Интерфакс/' '/Владимир Кондратьев, Интерфакс/'\n",
      " '/Финмаркет, Интерфакс/' '/Интерфакс, Алиса Чудакова, Анатолий Гусев/'\n",
      " '/Финмаркет/' '/Алор, Интерфакс/' '/Зауреш Данаева, Интерфакс/'\n",
      " '/Алексей Козин/' '/Интерфакс, Владимир Кондратьев, Дарья Карпенко/'\n",
      " '/Интерфакс, Дарья Карпенко, Анатолий Гусев/'\n",
      " '/Интерфакс, Владимир Кондратьев, Анатолий Гусев/' '/IFX.RU/'\n",
      " '/Финмаркет, IFX.RU/' '/Инфобизнес/' '/GlobalStock, IFX.RU/'\n",
      " '/Интерфакс, IFX.RU/' '/Интерфакс, Финмаркет/' '/Росинвестпроект/'\n",
      " '/Борис Грозовский, Дмитрий Кузнец/' '/Полина Строганова/'\n",
      " '/Стин Якобсен, главный экономист Saxo bank/'\n",
      " '/Максим Васин, старший аналитик Национального рейтингового агентства/'\n",
      " '/Анкор Инвест\"/\"' 'Катя Загвоздкина' 'Сергей Цыплаков'\n",
      " 'Вячеслав Терехов' 'Светлана Саватеева' 'Екатерина Мальцева'\n",
      " 'Катя Загвоздкина, Анна Лалетина' 'Илья Морозов' 'Екатерина Барабаш'\n",
      " 'Загвоздкина Катя' 'Андрей Лусников' 'Анна Лалетина' 'Анар Азизов'\n",
      " 'Наталья Дмитрак' 'Павел Гераскин' 'Владимир Шишлин' 'Кирилл Мазурин'\n",
      " 'Александр Иващенко' 'Наталья Дмитрак, Екатерина Мальцева'\n",
      " 'Владимир Косарев' 'Екатерина Мальцева, Наталья Дмитрак'\n",
      " 'В материале использованы фото ТАСС, epa/vostock-photo, Reuters'\n",
      " 'Светлана Макунина' 'Ольга Голованова'\n",
      " 'В материале использованы фото Reuters, Zuma/ТАСС'\n",
      " 'В материале использованы фото Reuters' 'Анастасия Коломенская'\n",
      " 'Ваша, редакция' 'Татьяна Вержановская' 'Алексей Курилов'\n",
      " 'Алёна Сергеева' 'Анна Лалетина, Катя Загвоздкина' 'Оксана Олишевская'\n",
      " 'Составила Катя Загвоздкина' 'Андрей Новиков' 'Анна Краснослободцева'\n",
      " 'Екатерина Загвоздкина' 'Юлия Чучалова, фото автора']\n"
     ]
    }
   ],
   "source": [
    "print('authors: ',data_interfax['authors'].unique())"
   ]
  },
  {
   "cell_type": "markdown",
   "metadata": {
    "colab_type": "text",
    "id": "RM24w18ZWda4"
   },
   "source": [
    "Посмотрим, что в столбцах, которые содержат дефис, как обозначение пустых данных"
   ]
  },
  {
   "cell_type": "code",
   "execution_count": 0,
   "metadata": {
    "colab": {},
    "colab_type": "code",
    "id": "zo_6TfXYWQDd"
   },
   "outputs": [],
   "source": [
    "def analysis_columns(columns):\n",
    "    for column in columns:\n",
    "        if column not in ['url', 'date', 'topics', 'authors', 'title', 'text']:\n",
    "            yield(print(str(column) + ':', data_interfax[column].unique()))"
   ]
  },
  {
   "cell_type": "code",
   "execution_count": 18,
   "metadata": {
    "colab": {
     "base_uri": "https://localhost:8080/",
     "height": 187
    },
    "colab_type": "code",
    "executionInfo": {
     "elapsed": 507,
     "status": "ok",
     "timestamp": 1570785303438,
     "user": {
      "displayName": "Egor Silaev",
      "photoUrl": "",
      "userId": "17939097308196895647"
     },
     "user_tz": -180
    },
    "id": "T8IWD5juWQJe",
    "outputId": "073f0751-fada-4459-fa2e-7d8249684d26"
   },
   "outputs": [
    {
     "name": "stdout",
     "output_type": "stream",
     "text": [
      "edition: ['www.sport-interfax.ru' '-']\n",
      "reposts_fb: ['-']\n",
      "reposts_vk: ['-']\n",
      "reposts_ok: ['-']\n",
      "reposts_twi: ['-']\n",
      "reposts_lj: ['-']\n",
      "reposts_tg: ['-']\n",
      "likes: ['-']\n",
      "views: ['-']\n",
      "comm_count: ['-']\n"
     ]
    }
   ],
   "source": [
    "data_columns = list(analysis_columns(data_interfax.columns))"
   ]
  },
  {
   "cell_type": "code",
   "execution_count": 19,
   "metadata": {
    "colab": {
     "base_uri": "https://localhost:8080/",
     "height": 34
    },
    "colab_type": "code",
    "executionInfo": {
     "elapsed": 1591,
     "status": "ok",
     "timestamp": 1570785308483,
     "user": {
      "displayName": "Egor Silaev",
      "photoUrl": "",
      "userId": "17939097308196895647"
     },
     "user_tz": -180
    },
    "id": "6poEuYalWP-8",
    "outputId": "bfc417a8-ed21-4d30-e67a-a22fe8b365f8"
   },
   "outputs": [
    {
     "name": "stdout",
     "output_type": "stream",
     "text": [
      "Кол-во одинаковых текстов: 241\n"
     ]
    }
   ],
   "source": [
    "#  Проверим повторяющиеся тексты\n",
    "print('Кол-во одинаковых текстов:',data_interfax.text.duplicated().sum())"
   ]
  },
  {
   "cell_type": "code",
   "execution_count": 0,
   "metadata": {
    "colab": {},
    "colab_type": "code",
    "id": "Bg9GDohkVY3E"
   },
   "outputs": [],
   "source": [
    "data_interfax = data_interfax.drop_duplicates(subset='text')"
   ]
  },
  {
   "cell_type": "code",
   "execution_count": 21,
   "metadata": {
    "colab": {
     "base_uri": "https://localhost:8080/",
     "height": 34
    },
    "colab_type": "code",
    "executionInfo": {
     "elapsed": 565,
     "status": "ok",
     "timestamp": 1570785320216,
     "user": {
      "displayName": "Egor Silaev",
      "photoUrl": "",
      "userId": "17939097308196895647"
     },
     "user_tz": -180
    },
    "id": "mCZOapZ7WnH1",
    "outputId": "000dd83b-907e-4b67-fa62-87582e9cf0a1"
   },
   "outputs": [
    {
     "data": {
      "text/plain": [
       "(543720, 16)"
      ]
     },
     "execution_count": 21,
     "metadata": {
      "tags": []
     },
     "output_type": "execute_result"
    }
   ],
   "source": [
    "data_interfax.shape"
   ]
  },
  {
   "cell_type": "code",
   "execution_count": 0,
   "metadata": {
    "colab": {},
    "colab_type": "code",
    "id": "OKGxO70IWnKp"
   },
   "outputs": [],
   "source": []
  },
  {
   "cell_type": "code",
   "execution_count": 0,
   "metadata": {
    "colab": {},
    "colab_type": "code",
    "id": "-EL3TZ7WWnRo"
   },
   "outputs": [],
   "source": []
  },
  {
   "cell_type": "markdown",
   "metadata": {
    "colab_type": "text",
    "id": "5jVg8lbvWvGI"
   },
   "source": [
    "## EDA"
   ]
  },
  {
   "cell_type": "markdown",
   "metadata": {
    "colab_type": "text",
    "id": "7q1E2Yy_WyUQ"
   },
   "source": [
    "### Анализ дат"
   ]
  },
  {
   "cell_type": "code",
   "execution_count": 22,
   "metadata": {
    "colab": {
     "base_uri": "https://localhost:8080/",
     "height": 51
    },
    "colab_type": "code",
    "executionInfo": {
     "elapsed": 519,
     "status": "ok",
     "timestamp": 1570785323834,
     "user": {
      "displayName": "Egor Silaev",
      "photoUrl": "",
      "userId": "17939097308196895647"
     },
     "user_tz": -180
    },
    "id": "tU13CsCDWnUA",
    "outputId": "add842c5-8ec9-4bf2-c7e2-b4d8f6f2a112"
   },
   "outputs": [
    {
     "name": "stdout",
     "output_type": "stream",
     "text": [
      "Минимальная дата в датасете: 2008-02-11 03:47:00\n",
      "Максимальная дата в датасете: 2019-05-27 08:09:00\n"
     ]
    }
   ],
   "source": [
    "print('Минимальная дата в датасете:', data_interfax.date.min())\n",
    "print('Максимальная дата в датасете:', data_interfax.date.max())"
   ]
  },
  {
   "cell_type": "code",
   "execution_count": 0,
   "metadata": {
    "colab": {},
    "colab_type": "code",
    "id": "U8KWCVTbWnYf"
   },
   "outputs": [],
   "source": []
  },
  {
   "cell_type": "markdown",
   "metadata": {
    "colab_type": "text",
    "id": "QaQDLduJW3xn"
   },
   "source": [
    "#### Распределение количества новостей по месяцам"
   ]
  },
  {
   "cell_type": "code",
   "execution_count": 0,
   "metadata": {
    "colab": {},
    "colab_type": "code",
    "id": "uva5fHxgWna2"
   },
   "outputs": [],
   "source": [
    "# Вынесем месяц и год новости в отдельные столбцы\n",
    "data_interfax['month'] = data_interfax.date.apply(lambda x: x.month)\n",
    "data_interfax['year'] = data_interfax.date.apply(lambda x: x.year)\n",
    "\n",
    "# Создадим отдельный датасет посчитаем количество новостей в разрезе месяца и года\n",
    "df = data_interfax.groupby(['year', 'month']).text.nunique().reset_index()"
   ]
  },
  {
   "cell_type": "code",
   "execution_count": 0,
   "metadata": {
    "colab": {},
    "colab_type": "code",
    "id": "pZy3oSnqWnf4"
   },
   "outputs": [],
   "source": []
  },
  {
   "cell_type": "code",
   "execution_count": 24,
   "metadata": {
    "colab": {
     "base_uri": "https://localhost:8080/",
     "height": 204
    },
    "colab_type": "code",
    "executionInfo": {
     "elapsed": 512,
     "status": "ok",
     "timestamp": 1570785333115,
     "user": {
      "displayName": "Egor Silaev",
      "photoUrl": "",
      "userId": "17939097308196895647"
     },
     "user_tz": -180
    },
    "id": "gC5W4eWLWnii",
    "outputId": "fbd9237f-40b2-4f70-dc54-5478ba15573a"
   },
   "outputs": [
    {
     "data": {
      "text/html": [
       "<div>\n",
       "<style scoped>\n",
       "    .dataframe tbody tr th:only-of-type {\n",
       "        vertical-align: middle;\n",
       "    }\n",
       "\n",
       "    .dataframe tbody tr th {\n",
       "        vertical-align: top;\n",
       "    }\n",
       "\n",
       "    .dataframe thead th {\n",
       "        text-align: right;\n",
       "    }\n",
       "</style>\n",
       "<table border=\"1\" class=\"dataframe\">\n",
       "  <thead>\n",
       "    <tr style=\"text-align: right;\">\n",
       "      <th></th>\n",
       "      <th>year</th>\n",
       "      <th>month</th>\n",
       "      <th>text</th>\n",
       "    </tr>\n",
       "  </thead>\n",
       "  <tbody>\n",
       "    <tr>\n",
       "      <th>0</th>\n",
       "      <td>2008</td>\n",
       "      <td>2</td>\n",
       "      <td>1053</td>\n",
       "    </tr>\n",
       "    <tr>\n",
       "      <th>1</th>\n",
       "      <td>2008</td>\n",
       "      <td>3</td>\n",
       "      <td>3263</td>\n",
       "    </tr>\n",
       "    <tr>\n",
       "      <th>2</th>\n",
       "      <td>2008</td>\n",
       "      <td>4</td>\n",
       "      <td>3333</td>\n",
       "    </tr>\n",
       "    <tr>\n",
       "      <th>3</th>\n",
       "      <td>2008</td>\n",
       "      <td>5</td>\n",
       "      <td>3142</td>\n",
       "    </tr>\n",
       "    <tr>\n",
       "      <th>4</th>\n",
       "      <td>2008</td>\n",
       "      <td>6</td>\n",
       "      <td>3104</td>\n",
       "    </tr>\n",
       "  </tbody>\n",
       "</table>\n",
       "</div>"
      ],
      "text/plain": [
       "   year  month  text\n",
       "0  2008      2  1053\n",
       "1  2008      3  3263\n",
       "2  2008      4  3333\n",
       "3  2008      5  3142\n",
       "4  2008      6  3104"
      ]
     },
     "execution_count": 24,
     "metadata": {
      "tags": []
     },
     "output_type": "execute_result"
    }
   ],
   "source": [
    "df.head()"
   ]
  },
  {
   "cell_type": "code",
   "execution_count": 0,
   "metadata": {
    "colab": {},
    "colab_type": "code",
    "id": "HFfFswE8Wnd7"
   },
   "outputs": [],
   "source": []
  },
  {
   "cell_type": "code",
   "execution_count": 0,
   "metadata": {
    "colab": {},
    "colab_type": "code",
    "id": "W7QRdSiVWnWn"
   },
   "outputs": [],
   "source": [
    "df['month_year'] = df[['month', 'year']].apply(lambda x: '-'.join(['0'+str(x.month) if x.month<10 else str(x.month),\n",
    "                                                                  str(x.year)]),\n",
    "                                               axis =1)"
   ]
  },
  {
   "cell_type": "code",
   "execution_count": 0,
   "metadata": {
    "colab": {},
    "colab_type": "code",
    "id": "ZgkuF1U7WnQC"
   },
   "outputs": [],
   "source": [
    "df.columns = ['year', 'month', 'nunique_text', 'month_year']"
   ]
  },
  {
   "cell_type": "code",
   "execution_count": 0,
   "metadata": {
    "colab": {},
    "colab_type": "code",
    "id": "7rCBfrI2WnNz"
   },
   "outputs": [],
   "source": [
    "# выберем только те месяцы, в которых количество новостей больше 10\n",
    "df = df[df.nunique_text>10]"
   ]
  },
  {
   "cell_type": "code",
   "execution_count": 28,
   "metadata": {
    "colab": {
     "base_uri": "https://localhost:8080/",
     "height": 204
    },
    "colab_type": "code",
    "executionInfo": {
     "elapsed": 523,
     "status": "ok",
     "timestamp": 1570785341774,
     "user": {
      "displayName": "Egor Silaev",
      "photoUrl": "",
      "userId": "17939097308196895647"
     },
     "user_tz": -180
    },
    "id": "g03rlGZ-UtsY",
    "outputId": "73492b3b-3af2-4438-ed17-c9582ccaad0b"
   },
   "outputs": [
    {
     "data": {
      "text/html": [
       "<div>\n",
       "<style scoped>\n",
       "    .dataframe tbody tr th:only-of-type {\n",
       "        vertical-align: middle;\n",
       "    }\n",
       "\n",
       "    .dataframe tbody tr th {\n",
       "        vertical-align: top;\n",
       "    }\n",
       "\n",
       "    .dataframe thead th {\n",
       "        text-align: right;\n",
       "    }\n",
       "</style>\n",
       "<table border=\"1\" class=\"dataframe\">\n",
       "  <thead>\n",
       "    <tr style=\"text-align: right;\">\n",
       "      <th></th>\n",
       "      <th>month_year</th>\n",
       "      <th>nunique_text</th>\n",
       "    </tr>\n",
       "  </thead>\n",
       "  <tbody>\n",
       "    <tr>\n",
       "      <th>89</th>\n",
       "      <td>07-2015</td>\n",
       "      <td>5484</td>\n",
       "    </tr>\n",
       "    <tr>\n",
       "      <th>72</th>\n",
       "      <td>02-2014</td>\n",
       "      <td>5402</td>\n",
       "    </tr>\n",
       "    <tr>\n",
       "      <th>73</th>\n",
       "      <td>03-2014</td>\n",
       "      <td>5372</td>\n",
       "    </tr>\n",
       "    <tr>\n",
       "      <th>85</th>\n",
       "      <td>03-2015</td>\n",
       "      <td>5307</td>\n",
       "    </tr>\n",
       "    <tr>\n",
       "      <th>86</th>\n",
       "      <td>04-2015</td>\n",
       "      <td>5285</td>\n",
       "    </tr>\n",
       "  </tbody>\n",
       "</table>\n",
       "</div>"
      ],
      "text/plain": [
       "   month_year  nunique_text\n",
       "89    07-2015          5484\n",
       "72    02-2014          5402\n",
       "73    03-2014          5372\n",
       "85    03-2015          5307\n",
       "86    04-2015          5285"
      ]
     },
     "execution_count": 28,
     "metadata": {
      "tags": []
     },
     "output_type": "execute_result"
    }
   ],
   "source": [
    "df[['month_year', 'nunique_text']].sort_values('nunique_text', ascending = False).head()"
   ]
  },
  {
   "cell_type": "code",
   "execution_count": 0,
   "metadata": {
    "colab": {},
    "colab_type": "code",
    "id": "hGTysDwMXGJe"
   },
   "outputs": [],
   "source": []
  },
  {
   "cell_type": "code",
   "execution_count": 29,
   "metadata": {
    "colab": {
     "base_uri": "https://localhost:8080/",
     "height": 945
    },
    "colab_type": "code",
    "executionInfo": {
     "elapsed": 2836,
     "status": "ok",
     "timestamp": 1570785348040,
     "user": {
      "displayName": "Egor Silaev",
      "photoUrl": "",
      "userId": "17939097308196895647"
     },
     "user_tz": -180
    },
    "id": "hvckgOI8XGcJ",
    "outputId": "b7a76c35-409f-4691-b605-2ed029d590b9"
   },
   "outputs": [
    {
     "data": {
      "image/png": "[encoded data removed]",
      "text/plain": [
       "<Figure size 2520x1080 with 1 Axes>"
      ]
     },
     "metadata": {
      "tags": []
     },
     "output_type": "display_data"
    }
   ],
   "source": [
    "fig, ax = plt.subplots(figsize=(35, 15))\n",
    "plt.bar(x = df.month_year,\n",
    "        height = df.nunique_text.values)\n",
    "plt.xticks(rotation='vertical')\n",
    "ax.set_title('Количество новостей по месяцам')\n",
    "ax.set_ylabel('Количество')\n",
    "ax.set_xlabel('Дата')\n",
    "plt.show()"
   ]
  },
  {
   "cell_type": "code",
   "execution_count": 0,
   "metadata": {
    "colab": {},
    "colab_type": "code",
    "id": "WIWDZw4YXGat"
   },
   "outputs": [],
   "source": []
  },
  {
   "cell_type": "markdown",
   "metadata": {
    "colab": {},
    "colab_type": "code",
    "id": "J1P5QqDlXGWm"
   },
   "source": [
    "### Создание словаря для анализа"
   ]
  },
  {
   "cell_type": "markdown",
   "metadata": {
    "colab_type": "text",
    "id": "H5m5eGqXXRTG"
   },
   "source": [
    "В данной части блокнота будет подготовлен словарь из всего множества слов во всем датасете. Для каждой новости будет выполнена токенизация. Затем будет собран словарь из всех токенов, очистка от знаков препинания, и после данных процедур создается два списка - один без удаления стоп-слов, второй с удалением. Анализ проводится по частоте вхождений для каждого списка"
   ]
  },
  {
   "cell_type": "code",
   "execution_count": 0,
   "metadata": {
    "colab": {},
    "colab_type": "code",
    "id": "EOhaqBzeXGVw"
   },
   "outputs": [],
   "source": [
    "def create_dictionary(text):\n",
    "    for news in text:\n",
    "        tokens = list(tokenize(news.lower()))\n",
    "        yield([_.text for _ in tokens])"
   ]
  },
  {
   "cell_type": "code",
   "execution_count": 31,
   "metadata": {
    "colab": {
     "base_uri": "https://localhost:8080/",
     "height": 34
    },
    "colab_type": "code",
    "executionInfo": {
     "elapsed": 1394532,
     "status": "ok",
     "timestamp": 1570786749481,
     "user": {
      "displayName": "Egor Silaev",
      "photoUrl": "",
      "userId": "17939097308196895647"
     },
     "user_tz": -180
    },
    "id": "WPZ-fO3AXGUN",
    "outputId": "a76431ed-f3cd-44d2-c384-3bceea948a10"
   },
   "outputs": [
    {
     "name": "stdout",
     "output_type": "stream",
     "text": [
      "Done\n"
     ]
    }
   ],
   "source": [
    "news_tokenize = list(create_dictionary(data_interfax.text.values))\n",
    "print('Done')"
   ]
  },
  {
   "cell_type": "code",
   "execution_count": 0,
   "metadata": {
    "colab": {},
    "colab_type": "code",
    "id": "V4wGIW9TXGTg"
   },
   "outputs": [],
   "source": []
  },
  {
   "cell_type": "code",
   "execution_count": 0,
   "metadata": {
    "colab": {},
    "colab_type": "code",
    "id": "h91JWj6KXGSw"
   },
   "outputs": [],
   "source": [
    "# Соберем словарь из новостей для последующего анализа, без объединения повторяющихся слов\n",
    "dictionary = list(itertools.chain.from_iterable(news_tokenize))"
   ]
  },
  {
   "cell_type": "code",
   "execution_count": 0,
   "metadata": {
    "colab": {},
    "colab_type": "code",
    "id": "6wnwgB3MXdg5"
   },
   "outputs": [],
   "source": []
  },
  {
   "cell_type": "code",
   "execution_count": 0,
   "metadata": {
    "colab": {},
    "colab_type": "code",
    "id": "QLXa2-JVXdkP"
   },
   "outputs": [],
   "source": [
    "# Соберем значки препинания, часть возьмем из готовой библиотеки, часть добавим свои"
   ]
  },
  {
   "cell_type": "code",
   "execution_count": 0,
   "metadata": {
    "colab": {},
    "colab_type": "code",
    "id": "Kr51InrKXdwr"
   },
   "outputs": [],
   "source": [
    "punctuation = list(punctuation)"
   ]
  },
  {
   "cell_type": "code",
   "execution_count": 0,
   "metadata": {
    "colab": {},
    "colab_type": "code",
    "id": "XF4K-sm5Xd38"
   },
   "outputs": [],
   "source": [
    "punctuation += ['«','»','—','n','»,','».', '–', '...']"
   ]
  },
  {
   "cell_type": "code",
   "execution_count": 0,
   "metadata": {
    "colab": {},
    "colab_type": "code",
    "id": "TprV2N0mXd-A"
   },
   "outputs": [],
   "source": [
    "garbage_words = ['nранее', 'nв', 'nпо', 'nтакже','u','n—', 'nn']"
   ]
  },
  {
   "cell_type": "code",
   "execution_count": 0,
   "metadata": {
    "colab": {},
    "colab_type": "code",
    "id": "vL4r74scXeCM"
   },
   "outputs": [],
   "source": [
    "# Словарь без удаления стопслов\n",
    "dictionary_with_stopwords = [item for item in dictionary if item not in punctuation]"
   ]
  },
  {
   "cell_type": "code",
   "execution_count": 0,
   "metadata": {
    "colab": {},
    "colab_type": "code",
    "id": "piKn8s5-XeHG"
   },
   "outputs": [],
   "source": [
    "dictionary_with_stopwords = [item for item in dictionary_with_stopwords if item not in garbage_words]"
   ]
  },
  {
   "cell_type": "code",
   "execution_count": 0,
   "metadata": {
    "colab": {},
    "colab_type": "code",
    "id": "HVAgjbLDXeMG"
   },
   "outputs": [],
   "source": []
  },
  {
   "cell_type": "code",
   "execution_count": 0,
   "metadata": {
    "colab": {},
    "colab_type": "code",
    "id": "MWapUsZvXeTz"
   },
   "outputs": [],
   "source": [
    "stopwords_01 = open('../nlp/preprocessing/stopwords.txt', 'r', encoding='UTF-8')\n",
    "stopwords_01 = stopwords_01.read().split('\\n')\n",
    "stopwords_02 = open('../nlp/preprocessing/stopwords_02.txt', 'r', encoding='UTF-8')\n",
    "stopwords_02 = stopwords_02.read().split('\\n')"
   ]
  },
  {
   "cell_type": "code",
   "execution_count": 0,
   "metadata": {
    "colab": {},
    "colab_type": "code",
    "id": "-wahvT8eXeZU"
   },
   "outputs": [],
   "source": []
  },
  {
   "cell_type": "code",
   "execution_count": 0,
   "metadata": {
    "colab": {},
    "colab_type": "code",
    "id": "EiZDVo6TXedl"
   },
   "outputs": [],
   "source": [
    "stopwords = stopwords_01 + stopwords_02"
   ]
  },
  {
   "cell_type": "code",
   "execution_count": 0,
   "metadata": {
    "colab": {},
    "colab_type": "code",
    "id": "ugDstVslXehR"
   },
   "outputs": [],
   "source": []
  },
  {
   "cell_type": "code",
   "execution_count": 0,
   "metadata": {
    "colab": {},
    "colab_type": "code",
    "id": "cMyVdyWSXelP"
   },
   "outputs": [],
   "source": [
    "# Словарь после удаления стопслов\n",
    "dictionary_without_stopwords = [item for item in dictionary_with_stopwords if item not in stopwords]"
   ]
  },
  {
   "cell_type": "code",
   "execution_count": 0,
   "metadata": {
    "colab": {},
    "colab_type": "code",
    "id": "WfbBu1ipXevm"
   },
   "outputs": [],
   "source": []
  },
  {
   "cell_type": "markdown",
   "metadata": {
    "colab_type": "text",
    "id": "CummKPAXX9ax"
   },
   "source": [
    "### Аналитика по словам"
   ]
  },
  {
   "cell_type": "markdown",
   "metadata": {
    "colab_type": "text",
    "id": "Rpa4FnktX_01"
   },
   "source": [
    "#### 20 самых популярных слов без удаления стопслов"
   ]
  },
  {
   "cell_type": "code",
   "execution_count": 46,
   "metadata": {
    "colab": {
     "base_uri": "https://localhost:8080/",
     "height": 0
    },
    "colab_type": "code",
    "executionInfo": {
     "elapsed": 961604,
     "status": "ok",
     "timestamp": 1570789011720,
     "user": {
      "displayName": "Egor Silaev",
      "photoUrl": "",
      "userId": "17939097308196895647"
     },
     "user_tz": -180
    },
    "id": "pMQxoY8nXe8h",
    "outputId": "bcfb88e8-b691-425b-98f2-30629a13ab01"
   },
   "outputs": [
    {
     "data": {
      "text/plain": [
       "[('в', 4933106),\n",
       " ('и', 2100625),\n",
       " ('на', 2018423),\n",
       " ('по', 1240563),\n",
       " ('с', 1062207),\n",
       " ('что', 1061605),\n",
       " ('не', 791399),\n",
       " ('ru', 518918),\n",
       " ('interfax', 496998),\n",
       " ('москва', 459970),\n",
       " ('о', 453379),\n",
       " ('из', 415492),\n",
       " ('к', 412096),\n",
       " ('за', 369856),\n",
       " ('как', 362943),\n",
       " ('он', 358865),\n",
       " ('для', 336305),\n",
       " ('а', 317528),\n",
       " ('года', 312566),\n",
       " ('его', 301033)]"
      ]
     },
     "execution_count": 46,
     "metadata": {
      "tags": []
     },
     "output_type": "execute_result"
    }
   ],
   "source": [
    "Counter(dictionary_with_stopwords).most_common(20)"
   ]
  },
  {
   "cell_type": "code",
   "execution_count": 47,
   "metadata": {
    "colab": {
     "base_uri": "https://localhost:8080/",
     "height": 404
    },
    "colab_type": "code",
    "executionInfo": {
     "elapsed": 1020805,
     "status": "ok",
     "timestamp": 1570789071841,
     "user": {
      "displayName": "Egor Silaev",
      "photoUrl": "",
      "userId": "17939097308196895647"
     },
     "user_tz": -180
    },
    "id": "UcDfV-qMXfAm",
    "outputId": "7bbb3bcc-d524-46aa-bea6-c91d7de8f54f"
   },
   "outputs": [
    {
     "data": {
      "image/png": "[encoded data removed]",
      "text/plain": [
       "<Figure size 864x432 with 1 Axes>"
      ]
     },
     "metadata": {
      "tags": []
     },
     "output_type": "display_data"
    }
   ],
   "source": [
    "x = dict(Counter(dictionary_with_stopwords).most_common(20)).keys()\n",
    "y = dict(Counter(dictionary_with_stopwords).most_common(20)).values()\n",
    "\n",
    "fig, ax = plt.subplots()\n",
    "\n",
    "ax.bar(x, y)\n",
    "ax.set_title('TOP-20 слов без удаления стопслов')\n",
    "ax.set_ylabel('Частота')\n",
    "ax.set_xlabel('Слова')\n",
    "\n",
    "ax.set_facecolor('seashell')\n",
    "fig.set_facecolor('floralwhite')\n",
    "fig.set_figwidth(12)    #  ширина Figure\n",
    "fig.set_figheight(6)    #  высота Figure\n",
    "\n",
    "\n",
    "plt.show()"
   ]
  },
  {
   "cell_type": "code",
   "execution_count": 0,
   "metadata": {
    "colab": {},
    "colab_type": "code",
    "id": "pxdLDG6xXfD_"
   },
   "outputs": [],
   "source": []
  },
  {
   "cell_type": "markdown",
   "metadata": {
    "colab_type": "text",
    "id": "DyCgDYEQYG4R"
   },
   "source": [
    "#### 20 самых популярных слов после удаления стопслов"
   ]
  },
  {
   "cell_type": "code",
   "execution_count": 48,
   "metadata": {
    "colab": {
     "base_uri": "https://localhost:8080/",
     "height": 0
    },
    "colab_type": "code",
    "executionInfo": {
     "elapsed": 1038234,
     "status": "ok",
     "timestamp": 1570789092175,
     "user": {
      "displayName": "Egor Silaev",
      "photoUrl": "",
      "userId": "17939097308196895647"
     },
     "user_tz": -180
    },
    "id": "_6WxYSmXXfK4",
    "outputId": "376e5145-2463-4a53-bc63-5437be46ffab"
   },
   "outputs": [
    {
     "data": {
      "text/plain": [
       "[('ru', 518918),\n",
       " ('interfax', 496998),\n",
       " ('рф', 278846),\n",
       " ('россии', 271039),\n",
       " ('сообщил', 178777),\n",
       " ('сша', 163717),\n",
       " ('заявил', 159890),\n",
       " ('интерфаксу', 154084),\n",
       " ('словам', 148846),\n",
       " ('1', 130239),\n",
       " ('рублей', 122930),\n",
       " ('млрд', 118684),\n",
       " ('млн', 116121),\n",
       " ('отметил', 108415),\n",
       " ('данным', 106650),\n",
       " ('тыс', 103933),\n",
       " ('области', 102288),\n",
       " ('сообщает', 99088),\n",
       " ('сообщили', 98717),\n",
       " ('говорится', 96952)]"
      ]
     },
     "execution_count": 48,
     "metadata": {
      "tags": []
     },
     "output_type": "execute_result"
    }
   ],
   "source": [
    "Counter(dictionary_without_stopwords).most_common(20)"
   ]
  },
  {
   "cell_type": "code",
   "execution_count": 49,
   "metadata": {
    "colab": {
     "base_uri": "https://localhost:8080/",
     "height": 404
    },
    "colab_type": "code",
    "executionInfo": {
     "elapsed": 1078309,
     "status": "ok",
     "timestamp": 1570789133082,
     "user": {
      "displayName": "Egor Silaev",
      "photoUrl": "",
      "userId": "17939097308196895647"
     },
     "user_tz": -180
    },
    "id": "GhP9t-g5XfPp",
    "outputId": "38017992-db9b-4c83-9679-2d2e7b8a6b3b"
   },
   "outputs": [
    {
     "data": {
      "image/png": "[encoded data removed]",
      "text/plain": [
       "<Figure size 1296x432 with 1 Axes>"
      ]
     },
     "metadata": {
      "tags": []
     },
     "output_type": "display_data"
    }
   ],
   "source": [
    "x = dict(Counter(dictionary_without_stopwords).most_common(20)).keys()\n",
    "y = dict(Counter(dictionary_without_stopwords).most_common(20)).values()\n",
    "\n",
    "fig, ax = plt.subplots()\n",
    "\n",
    "ax.bar(x, y)\n",
    "ax.set_title('TOP-20 слов без удаления стопслов')\n",
    "ax.set_ylabel('Частота')\n",
    "ax.set_xlabel('Слова')\n",
    "\n",
    "ax.set_facecolor('seashell')\n",
    "fig.set_facecolor('floralwhite')\n",
    "fig.set_figwidth(18)    #  ширина Figure\n",
    "fig.set_figheight(6)    #  высота Figure\n",
    "\n",
    "\n",
    "plt.show()"
   ]
  },
  {
   "cell_type": "code",
   "execution_count": 0,
   "metadata": {
    "colab": {},
    "colab_type": "code",
    "id": "34mkvRrfXfS0"
   },
   "outputs": [],
   "source": []
  },
  {
   "cell_type": "markdown",
   "metadata": {
    "colab_type": "text",
    "id": "lnNkanl-YNP8"
   },
   "source": [
    "### Рубрики interfax"
   ]
  },
  {
   "cell_type": "code",
   "execution_count": 50,
   "metadata": {
    "colab": {
     "base_uri": "https://localhost:8080/",
     "height": 0
    },
    "colab_type": "code",
    "executionInfo": {
     "elapsed": 1076062,
     "status": "ok",
     "timestamp": 1570789133083,
     "user": {
      "displayName": "Egor Silaev",
      "photoUrl": "",
      "userId": "17939097308196895647"
     },
     "user_tz": -180
    },
    "id": "oJXEa_5AYQhP",
    "outputId": "28fcf1c8-f051-4a0b-c1ad-d6e105ffbaf1"
   },
   "outputs": [
    {
     "name": "stdout",
     "output_type": "stream",
     "text": [
      "Количество рубрик =  (8,)\n"
     ]
    },
    {
     "data": {
      "text/plain": [
       "array(['Спорт', 'В мире', 'В России', 'Москва', 'Экономика', 'Культура',\n",
       "       'Интервью', 'Пресс-центр'], dtype=object)"
      ]
     },
     "execution_count": 50,
     "metadata": {
      "tags": []
     },
     "output_type": "execute_result"
    }
   ],
   "source": [
    "# Считаем количество рубрик в данном датасете, а также выведем значения\n",
    "print('Количество рубрик = ', data_interfax.topics.unique().shape)\n",
    "data_interfax['topics'].unique()"
   ]
  },
  {
   "cell_type": "markdown",
   "metadata": {
    "colab_type": "text",
    "id": "xYx0ZGQiYNS4"
   },
   "source": [
    "Все рубрики, с количеством новостей в каждой группе"
   ]
  },
  {
   "cell_type": "code",
   "execution_count": 51,
   "metadata": {
    "colab": {
     "base_uri": "https://localhost:8080/",
     "height": 0
    },
    "colab_type": "code",
    "executionInfo": {
     "elapsed": 1074096,
     "status": "ok",
     "timestamp": 1570789133084,
     "user": {
      "displayName": "Egor Silaev",
      "photoUrl": "",
      "userId": "17939097308196895647"
     },
     "user_tz": -180
    },
    "id": "NalWHSNFXepL",
    "outputId": "c7a40c0c-cf5e-43cb-a746-56c4cbc16fd2"
   },
   "outputs": [
    {
     "data": {
      "text/plain": [
       "topics\n",
       "В России       285983\n",
       "В мире         102923\n",
       "Интервью          583\n",
       "Культура        12759\n",
       "Москва          18415\n",
       "Пресс-центр        29\n",
       "Спорт           42989\n",
       "Экономика       80039\n",
       "Name: topics, dtype: int64"
      ]
     },
     "execution_count": 51,
     "metadata": {
      "tags": []
     },
     "output_type": "execute_result"
    }
   ],
   "source": [
    "data_interfax.groupby('topics')['topics'].count()"
   ]
  }
 ],
 "metadata": {
  "accelerator": "TPU",
  "colab": {
   "collapsed_sections": [],
   "machine_shape": "hm",
   "name": "interfax.ipynb",
   "provenance": []
  },
  "kernelspec": {
   "display_name": "Python 3",
   "language": "python",
   "name": "python3"
  },
  "language_info": {
   "codemirror_mode": {
    "name": "ipython",
    "version": 3
   },
   "file_extension": ".py",
   "mimetype": "text/x-python",
   "name": "python",
   "nbconvert_exporter": "python",
   "pygments_lexer": "ipython3",
   "version": "3.7.3"
  }
 },
 "nbformat": 4,
 "nbformat_minor": 1
}
