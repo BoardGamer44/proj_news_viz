{
 "cells": [
  {
   "cell_type": "markdown",
   "metadata": {},
   "source": [
    "# Анализ источников новостей"
   ]
  },
  {
   "cell_type": "markdown",
   "metadata": {},
   "source": [
    "Цель данного исследования: проанализировать источники новостных лент, сравнить рубрики, подумать над возможностью добавление\\удаление категорий для проекта \"Радар новостей рунета\""
   ]
  },
  {
   "cell_type": "code",
   "execution_count": null,
   "metadata": {},
   "outputs": [],
   "source": []
  },
  {
   "cell_type": "code",
   "execution_count": 1,
   "metadata": {},
   "outputs": [],
   "source": [
    "import numpy as np\n",
    "import pandas as pd\n",
    "import datetime as DT\n",
    "import matplotlib.pyplot as plt"
   ]
  },
  {
   "cell_type": "code",
   "execution_count": 2,
   "metadata": {},
   "outputs": [],
   "source": [
    "from nltk import wordpunct_tokenize\n",
    "from nltk import FreqDist"
   ]
  },
  {
   "cell_type": "code",
   "execution_count": null,
   "metadata": {},
   "outputs": [],
   "source": []
  },
  {
   "cell_type": "markdown",
   "metadata": {},
   "source": [
    "## RT"
   ]
  },
  {
   "cell_type": "markdown",
   "metadata": {},
   "source": [
    "Загрузим датасет rt. Одновременно сделаем преобразование даты из строки"
   ]
  },
  {
   "cell_type": "code",
   "execution_count": 211,
   "metadata": {},
   "outputs": [],
   "source": [
    "dateparse = lambda x: pd.datetime.strptime(x, \"%Y-%m-%d %H:%M:%S\")"
   ]
  },
  {
   "cell_type": "code",
   "execution_count": 212,
   "metadata": {},
   "outputs": [],
   "source": [
    "data_rt = pd.read_csv('../data/rt.csv',\n",
    "                      sep=',',\n",
    "                      index_col=False,\n",
    "                      escapechar='\\\\',\n",
    "                      parse_dates=['date'],\n",
    "                      date_parser=dateparse,\n",
    "                      quotechar='\\\"')"
   ]
  },
  {
   "cell_type": "code",
   "execution_count": 213,
   "metadata": {},
   "outputs": [
    {
     "data": {
      "text/plain": [
       "date           datetime64[ns]\n",
       "url                    object\n",
       "edition                object\n",
       "topics                 object\n",
       "authors               float64\n",
       "title                  object\n",
       "text                   object\n",
       "reposts_fb             object\n",
       "reposts_vk             object\n",
       "reposts_ok             object\n",
       "reposts_twi            object\n",
       "reposts_lj             object\n",
       "reposts_tg             object\n",
       "likes                  object\n",
       "views                  object\n",
       "comm_count             object\n",
       "dtype: object"
      ]
     },
     "execution_count": 213,
     "metadata": {},
     "output_type": "execute_result"
    }
   ],
   "source": [
    "# Проверим преобразование\n",
    "data_rt.dtypes"
   ]
  },
  {
   "cell_type": "code",
   "execution_count": 214,
   "metadata": {},
   "outputs": [
    {
     "data": {
      "text/plain": [
       "(106644, 16)"
      ]
     },
     "execution_count": 214,
     "metadata": {},
     "output_type": "execute_result"
    }
   ],
   "source": [
    "data_rt.shape"
   ]
  },
  {
   "cell_type": "code",
   "execution_count": 215,
   "metadata": {},
   "outputs": [
    {
     "data": {
      "text/html": [
       "<div>\n",
       "<style scoped>\n",
       "    .dataframe tbody tr th:only-of-type {\n",
       "        vertical-align: middle;\n",
       "    }\n",
       "\n",
       "    .dataframe tbody tr th {\n",
       "        vertical-align: top;\n",
       "    }\n",
       "\n",
       "    .dataframe thead th {\n",
       "        text-align: right;\n",
       "    }\n",
       "</style>\n",
       "<table border=\"1\" class=\"dataframe\">\n",
       "  <thead>\n",
       "    <tr style=\"text-align: right;\">\n",
       "      <th></th>\n",
       "      <th>date</th>\n",
       "      <th>url</th>\n",
       "      <th>edition</th>\n",
       "      <th>topics</th>\n",
       "      <th>authors</th>\n",
       "      <th>title</th>\n",
       "      <th>text</th>\n",
       "      <th>reposts_fb</th>\n",
       "      <th>reposts_vk</th>\n",
       "      <th>reposts_ok</th>\n",
       "      <th>reposts_twi</th>\n",
       "      <th>reposts_lj</th>\n",
       "      <th>reposts_tg</th>\n",
       "      <th>likes</th>\n",
       "      <th>views</th>\n",
       "      <th>comm_count</th>\n",
       "    </tr>\n",
       "  </thead>\n",
       "  <tbody>\n",
       "    <tr>\n",
       "      <th>0</th>\n",
       "      <td>2019-06-26 14:00:00</td>\n",
       "      <td>https://russian.rt.com/russia/news/644595-avto...</td>\n",
       "      <td>-</td>\n",
       "      <td>Россия</td>\n",
       "      <td>NaN</td>\n",
       "      <td>Эксперт прокомментировал ситуацию с возможным ...</td>\n",
       "      <td>Как считает эксперт, россиянам не стоит пережи...</td>\n",
       "      <td>-</td>\n",
       "      <td>-</td>\n",
       "      <td>-</td>\n",
       "      <td>-</td>\n",
       "      <td>-</td>\n",
       "      <td>-</td>\n",
       "      <td>-</td>\n",
       "      <td>-</td>\n",
       "      <td>-</td>\n",
       "    </tr>\n",
       "    <tr>\n",
       "      <th>1</th>\n",
       "      <td>2019-06-26 19:56:00</td>\n",
       "      <td>https://russian.rt.com/sport/article/644740-nu...</td>\n",
       "      <td>-</td>\n",
       "      <td>Спорт</td>\n",
       "      <td>NaN</td>\n",
       "      <td>Встреча Нурмагомедова с Макгрегором, восстанов...</td>\n",
       "      <td>«Конор может посетить поединок Хабиба с Порье»...</td>\n",
       "      <td>-</td>\n",
       "      <td>-</td>\n",
       "      <td>-</td>\n",
       "      <td>-</td>\n",
       "      <td>-</td>\n",
       "      <td>-</td>\n",
       "      <td>-</td>\n",
       "      <td>-</td>\n",
       "      <td>-</td>\n",
       "    </tr>\n",
       "    <tr>\n",
       "      <th>2</th>\n",
       "      <td>2019-06-26 14:52:00</td>\n",
       "      <td>https://russian.rt.com/russia/news/644619-puti...</td>\n",
       "      <td>-</td>\n",
       "      <td>Россия</td>\n",
       "      <td>NaN</td>\n",
       "      <td>Путин подарил Зюганову на юбилей материалы съе...</td>\n",
       "      <td>Открывая заседание Госсовета в Кремле, Путин п...</td>\n",
       "      <td>-</td>\n",
       "      <td>-</td>\n",
       "      <td>-</td>\n",
       "      <td>-</td>\n",
       "      <td>-</td>\n",
       "      <td>-</td>\n",
       "      <td>-</td>\n",
       "      <td>-</td>\n",
       "      <td>-</td>\n",
       "    </tr>\n",
       "    <tr>\n",
       "      <th>3</th>\n",
       "      <td>2019-06-26 14:44:00</td>\n",
       "      <td>https://russian.rt.com/world/news/644618-parla...</td>\n",
       "      <td>-</td>\n",
       "      <td>Мир</td>\n",
       "      <td>NaN</td>\n",
       "      <td>Парламентарии США, ФРГ и России проведут встре...</td>\n",
       "      <td>Об этом информируетnРИА Новостиnсо ссылкой на ...</td>\n",
       "      <td>-</td>\n",
       "      <td>-</td>\n",
       "      <td>-</td>\n",
       "      <td>-</td>\n",
       "      <td>-</td>\n",
       "      <td>-</td>\n",
       "      <td>-</td>\n",
       "      <td>-</td>\n",
       "      <td>-</td>\n",
       "    </tr>\n",
       "    <tr>\n",
       "      <th>4</th>\n",
       "      <td>2019-06-26 14:42:00</td>\n",
       "      <td>https://russian.rt.com/sport/news/644617-mok-a...</td>\n",
       "      <td>-</td>\n",
       "      <td>Спорт</td>\n",
       "      <td>NaN</td>\n",
       "      <td>МОК принял решение лишить признания AIBA</td>\n",
       "      <td>Решением 134-й сессии МОК в швейцарской Лозанн...</td>\n",
       "      <td>-</td>\n",
       "      <td>-</td>\n",
       "      <td>-</td>\n",
       "      <td>-</td>\n",
       "      <td>-</td>\n",
       "      <td>-</td>\n",
       "      <td>-</td>\n",
       "      <td>-</td>\n",
       "      <td>-</td>\n",
       "    </tr>\n",
       "  </tbody>\n",
       "</table>\n",
       "</div>"
      ],
      "text/plain": [
       "                 date                                                url  \\\n",
       "0 2019-06-26 14:00:00  https://russian.rt.com/russia/news/644595-avto...   \n",
       "1 2019-06-26 19:56:00  https://russian.rt.com/sport/article/644740-nu...   \n",
       "2 2019-06-26 14:52:00  https://russian.rt.com/russia/news/644619-puti...   \n",
       "3 2019-06-26 14:44:00  https://russian.rt.com/world/news/644618-parla...   \n",
       "4 2019-06-26 14:42:00  https://russian.rt.com/sport/news/644617-mok-a...   \n",
       "\n",
       "  edition  topics  authors                                              title  \\\n",
       "0       -  Россия      NaN  Эксперт прокомментировал ситуацию с возможным ...   \n",
       "1       -   Спорт      NaN  Встреча Нурмагомедова с Макгрегором, восстанов...   \n",
       "2       -  Россия      NaN  Путин подарил Зюганову на юбилей материалы съе...   \n",
       "3       -     Мир      NaN  Парламентарии США, ФРГ и России проведут встре...   \n",
       "4       -   Спорт      NaN           МОК принял решение лишить признания AIBA   \n",
       "\n",
       "                                                text reposts_fb reposts_vk  \\\n",
       "0  Как считает эксперт, россиянам не стоит пережи...          -          -   \n",
       "1  «Конор может посетить поединок Хабиба с Порье»...          -          -   \n",
       "2  Открывая заседание Госсовета в Кремле, Путин п...          -          -   \n",
       "3  Об этом информируетnРИА Новостиnсо ссылкой на ...          -          -   \n",
       "4  Решением 134-й сессии МОК в швейцарской Лозанн...          -          -   \n",
       "\n",
       "  reposts_ok reposts_twi reposts_lj reposts_tg likes views comm_count  \n",
       "0          -           -          -          -     -     -          -  \n",
       "1          -           -          -          -     -     -          -  \n",
       "2          -           -          -          -     -     -          -  \n",
       "3          -           -          -          -     -     -          -  \n",
       "4          -           -          -          -     -     -          -  "
      ]
     },
     "execution_count": 215,
     "metadata": {},
     "output_type": "execute_result"
    }
   ],
   "source": [
    "# Так выглядет датасет RT\n",
    "data_rt.head()"
   ]
  },
  {
   "cell_type": "code",
   "execution_count": null,
   "metadata": {},
   "outputs": [],
   "source": []
  },
  {
   "cell_type": "code",
   "execution_count": 216,
   "metadata": {},
   "outputs": [
    {
     "data": {
      "text/plain": [
       "date           False\n",
       "url            False\n",
       "edition        False\n",
       "topics         False\n",
       "authors         True\n",
       "title          False\n",
       "text            True\n",
       "reposts_fb     False\n",
       "reposts_vk     False\n",
       "reposts_ok     False\n",
       "reposts_twi    False\n",
       "reposts_lj     False\n",
       "reposts_tg     False\n",
       "likes          False\n",
       "views          False\n",
       "comm_count     False\n",
       "dtype: bool"
      ]
     },
     "execution_count": 216,
     "metadata": {},
     "output_type": "execute_result"
    }
   ],
   "source": [
    "# Выясним в каким столбцах есть пустые данные\n",
    "data_rt.isnull().any()"
   ]
  },
  {
   "cell_type": "markdown",
   "metadata": {},
   "source": [
    "Как видим, в некоторых столбцах вместо значения Nan используется \"-\", их преобразованием займемся позже. А пока посмотрим строки, в которых пустые тексты новостей"
   ]
  },
  {
   "cell_type": "code",
   "execution_count": 217,
   "metadata": {},
   "outputs": [
    {
     "name": "stdout",
     "output_type": "stream",
     "text": [
      "Кол-во строк с значением NaN в столбце \"Text\" =  12\n"
     ]
    },
    {
     "data": {
      "text/html": [
       "<div>\n",
       "<style scoped>\n",
       "    .dataframe tbody tr th:only-of-type {\n",
       "        vertical-align: middle;\n",
       "    }\n",
       "\n",
       "    .dataframe tbody tr th {\n",
       "        vertical-align: top;\n",
       "    }\n",
       "\n",
       "    .dataframe thead th {\n",
       "        text-align: right;\n",
       "    }\n",
       "</style>\n",
       "<table border=\"1\" class=\"dataframe\">\n",
       "  <thead>\n",
       "    <tr style=\"text-align: right;\">\n",
       "      <th></th>\n",
       "      <th>date</th>\n",
       "      <th>url</th>\n",
       "      <th>edition</th>\n",
       "      <th>topics</th>\n",
       "      <th>authors</th>\n",
       "      <th>title</th>\n",
       "      <th>text</th>\n",
       "      <th>reposts_fb</th>\n",
       "      <th>reposts_vk</th>\n",
       "      <th>reposts_ok</th>\n",
       "      <th>reposts_twi</th>\n",
       "      <th>reposts_lj</th>\n",
       "      <th>reposts_tg</th>\n",
       "      <th>likes</th>\n",
       "      <th>views</th>\n",
       "      <th>comm_count</th>\n",
       "    </tr>\n",
       "  </thead>\n",
       "  <tbody>\n",
       "    <tr>\n",
       "      <th>37474</th>\n",
       "      <td>2019-06-05 13:47:00</td>\n",
       "      <td>https://russian.rt.com/russia/video/638188-obr...</td>\n",
       "      <td>-</td>\n",
       "      <td>Россия</td>\n",
       "      <td>NaN</td>\n",
       "      <td>\\n            В Дагестане люди пытаются вручну...</td>\n",
       "      <td>NaN</td>\n",
       "      <td>-</td>\n",
       "      <td>-</td>\n",
       "      <td>-</td>\n",
       "      <td>-</td>\n",
       "      <td>-</td>\n",
       "      <td>-</td>\n",
       "      <td>-</td>\n",
       "      <td>-</td>\n",
       "      <td>-</td>\n",
       "    </tr>\n",
       "    <tr>\n",
       "      <th>38249</th>\n",
       "      <td>2017-12-11 19:32:00</td>\n",
       "      <td>https://russian.rt.com/sport/article/459073-ro...</td>\n",
       "      <td>-</td>\n",
       "      <td>Спорт</td>\n",
       "      <td>NaN</td>\n",
       "      <td>Не без труда: Россия в овертайме победила Южну...</td>\n",
       "      <td>NaN</td>\n",
       "      <td>-</td>\n",
       "      <td>-</td>\n",
       "      <td>-</td>\n",
       "      <td>-</td>\n",
       "      <td>-</td>\n",
       "      <td>-</td>\n",
       "      <td>-</td>\n",
       "      <td>-</td>\n",
       "      <td>-</td>\n",
       "    </tr>\n",
       "    <tr>\n",
       "      <th>43956</th>\n",
       "      <td>2017-12-08 01:29:00</td>\n",
       "      <td>https://russian.rt.com/world/article/457555-la...</td>\n",
       "      <td>-</td>\n",
       "      <td>Мир</td>\n",
       "      <td>NaN</td>\n",
       "      <td>Будущее Сирии, перенос столицы Израиля и ситуа...</td>\n",
       "      <td>NaN</td>\n",
       "      <td>-</td>\n",
       "      <td>-</td>\n",
       "      <td>-</td>\n",
       "      <td>-</td>\n",
       "      <td>-</td>\n",
       "      <td>-</td>\n",
       "      <td>-</td>\n",
       "      <td>-</td>\n",
       "      <td>-</td>\n",
       "    </tr>\n",
       "    <tr>\n",
       "      <th>84132</th>\n",
       "      <td>2016-07-29 10:08:01</td>\n",
       "      <td>https://russian.rt.com/article/314450-dollar-p...</td>\n",
       "      <td>-</td>\n",
       "      <td>Россия</td>\n",
       "      <td>NaN</td>\n",
       "      <td>Доллар превысил 67 рублей</td>\n",
       "      <td>NaN</td>\n",
       "      <td>-</td>\n",
       "      <td>-</td>\n",
       "      <td>-</td>\n",
       "      <td>-</td>\n",
       "      <td>-</td>\n",
       "      <td>-</td>\n",
       "      <td>-</td>\n",
       "      <td>-</td>\n",
       "      <td>-</td>\n",
       "    </tr>\n",
       "    <tr>\n",
       "      <th>86097</th>\n",
       "      <td>2016-07-27 11:24:00</td>\n",
       "      <td>https://russian.rt.com/article/314142-sbornaya...</td>\n",
       "      <td>-</td>\n",
       "      <td>Спорт</td>\n",
       "      <td>NaN</td>\n",
       "      <td>Сборная России по тхэквондо в полном составе д...</td>\n",
       "      <td>NaN</td>\n",
       "      <td>-</td>\n",
       "      <td>-</td>\n",
       "      <td>-</td>\n",
       "      <td>-</td>\n",
       "      <td>-</td>\n",
       "      <td>-</td>\n",
       "      <td>-</td>\n",
       "      <td>-</td>\n",
       "      <td>-</td>\n",
       "    </tr>\n",
       "    <tr>\n",
       "      <th>86103</th>\n",
       "      <td>2016-07-27 08:56:37</td>\n",
       "      <td>https://russian.rt.com/article/314121-cb-rf-ot...</td>\n",
       "      <td>-</td>\n",
       "      <td>Россия</td>\n",
       "      <td>NaN</td>\n",
       "      <td>ЦБ РФ отозвал лицензию у банка «БФГ-Кредит»</td>\n",
       "      <td>NaN</td>\n",
       "      <td>-</td>\n",
       "      <td>-</td>\n",
       "      <td>-</td>\n",
       "      <td>-</td>\n",
       "      <td>-</td>\n",
       "      <td>-</td>\n",
       "      <td>-</td>\n",
       "      <td>-</td>\n",
       "      <td>-</td>\n",
       "    </tr>\n",
       "    <tr>\n",
       "      <th>92836</th>\n",
       "      <td>2016-07-19 17:43:00</td>\n",
       "      <td>https://russian.rt.com/article/312972-mok-inic...</td>\n",
       "      <td>-</td>\n",
       "      <td>Спорт</td>\n",
       "      <td>NaN</td>\n",
       "      <td>МОК инициирует повторный анализ проб российски...</td>\n",
       "      <td>NaN</td>\n",
       "      <td>-</td>\n",
       "      <td>-</td>\n",
       "      <td>-</td>\n",
       "      <td>-</td>\n",
       "      <td>-</td>\n",
       "      <td>-</td>\n",
       "      <td>-</td>\n",
       "      <td>-</td>\n",
       "      <td>-</td>\n",
       "    </tr>\n",
       "    <tr>\n",
       "      <th>93872</th>\n",
       "      <td>2017-11-09 18:22:00</td>\n",
       "      <td>https://russian.rt.com/world/article/447764-ss...</td>\n",
       "      <td>-</td>\n",
       "      <td>Мир</td>\n",
       "      <td>NaN</td>\n",
       "      <td>«Это могла быть только внутренняя утечка»: экс...</td>\n",
       "      <td>NaN</td>\n",
       "      <td>-</td>\n",
       "      <td>-</td>\n",
       "      <td>-</td>\n",
       "      <td>-</td>\n",
       "      <td>-</td>\n",
       "      <td>-</td>\n",
       "      <td>-</td>\n",
       "      <td>-</td>\n",
       "      <td>-</td>\n",
       "    </tr>\n",
       "    <tr>\n",
       "      <th>93917</th>\n",
       "      <td>2016-07-18 16:47:26</td>\n",
       "      <td>https://russian.rt.com/article/312776-otchyot-...</td>\n",
       "      <td>-</td>\n",
       "      <td>Спорт</td>\n",
       "      <td>NaN</td>\n",
       "      <td>Отчёт WADA: Метод, используемый ФСБ для вскрыт...</td>\n",
       "      <td>NaN</td>\n",
       "      <td>-</td>\n",
       "      <td>-</td>\n",
       "      <td>-</td>\n",
       "      <td>-</td>\n",
       "      <td>-</td>\n",
       "      <td>-</td>\n",
       "      <td>-</td>\n",
       "      <td>-</td>\n",
       "      <td>-</td>\n",
       "    </tr>\n",
       "    <tr>\n",
       "      <th>93919</th>\n",
       "      <td>2016-07-18 16:25:00</td>\n",
       "      <td>https://russian.rt.com/article/312771-otchyot-...</td>\n",
       "      <td>-</td>\n",
       "      <td>Спорт</td>\n",
       "      <td>NaN</td>\n",
       "      <td>Отчёт WADA: Минспорт РФ и ФСБ участвовали в за...</td>\n",
       "      <td>NaN</td>\n",
       "      <td>-</td>\n",
       "      <td>-</td>\n",
       "      <td>-</td>\n",
       "      <td>-</td>\n",
       "      <td>-</td>\n",
       "      <td>-</td>\n",
       "      <td>-</td>\n",
       "      <td>-</td>\n",
       "      <td>-</td>\n",
       "    </tr>\n",
       "    <tr>\n",
       "      <th>93920</th>\n",
       "      <td>2016-07-18 16:15:29</td>\n",
       "      <td>https://russian.rt.com/article/312767-otchyot-...</td>\n",
       "      <td>-</td>\n",
       "      <td>Спорт</td>\n",
       "      <td>NaN</td>\n",
       "      <td>Отчёт WADA: Минспорт РФ курировал манипуляции ...</td>\n",
       "      <td>NaN</td>\n",
       "      <td>-</td>\n",
       "      <td>-</td>\n",
       "      <td>-</td>\n",
       "      <td>-</td>\n",
       "      <td>-</td>\n",
       "      <td>-</td>\n",
       "      <td>-</td>\n",
       "      <td>-</td>\n",
       "      <td>-</td>\n",
       "    </tr>\n",
       "    <tr>\n",
       "      <th>99771</th>\n",
       "      <td>2016-07-11 10:10:00</td>\n",
       "      <td>https://russian.rt.com/article/311735-rubl-nez...</td>\n",
       "      <td>-</td>\n",
       "      <td>Россия</td>\n",
       "      <td>NaN</td>\n",
       "      <td>Рубль незначительно подешевел к доллару и евро</td>\n",
       "      <td>NaN</td>\n",
       "      <td>-</td>\n",
       "      <td>-</td>\n",
       "      <td>-</td>\n",
       "      <td>-</td>\n",
       "      <td>-</td>\n",
       "      <td>-</td>\n",
       "      <td>-</td>\n",
       "      <td>-</td>\n",
       "      <td>-</td>\n",
       "    </tr>\n",
       "  </tbody>\n",
       "</table>\n",
       "</div>"
      ],
      "text/plain": [
       "                     date                                                url  \\\n",
       "37474 2019-06-05 13:47:00  https://russian.rt.com/russia/video/638188-obr...   \n",
       "38249 2017-12-11 19:32:00  https://russian.rt.com/sport/article/459073-ro...   \n",
       "43956 2017-12-08 01:29:00  https://russian.rt.com/world/article/457555-la...   \n",
       "84132 2016-07-29 10:08:01  https://russian.rt.com/article/314450-dollar-p...   \n",
       "86097 2016-07-27 11:24:00  https://russian.rt.com/article/314142-sbornaya...   \n",
       "86103 2016-07-27 08:56:37  https://russian.rt.com/article/314121-cb-rf-ot...   \n",
       "92836 2016-07-19 17:43:00  https://russian.rt.com/article/312972-mok-inic...   \n",
       "93872 2017-11-09 18:22:00  https://russian.rt.com/world/article/447764-ss...   \n",
       "93917 2016-07-18 16:47:26  https://russian.rt.com/article/312776-otchyot-...   \n",
       "93919 2016-07-18 16:25:00  https://russian.rt.com/article/312771-otchyot-...   \n",
       "93920 2016-07-18 16:15:29  https://russian.rt.com/article/312767-otchyot-...   \n",
       "99771 2016-07-11 10:10:00  https://russian.rt.com/article/311735-rubl-nez...   \n",
       "\n",
       "      edition  topics  authors  \\\n",
       "37474       -  Россия      NaN   \n",
       "38249       -   Спорт      NaN   \n",
       "43956       -     Мир      NaN   \n",
       "84132       -  Россия      NaN   \n",
       "86097       -   Спорт      NaN   \n",
       "86103       -  Россия      NaN   \n",
       "92836       -   Спорт      NaN   \n",
       "93872       -     Мир      NaN   \n",
       "93917       -   Спорт      NaN   \n",
       "93919       -   Спорт      NaN   \n",
       "93920       -   Спорт      NaN   \n",
       "99771       -  Россия      NaN   \n",
       "\n",
       "                                                   title text reposts_fb  \\\n",
       "37474  \\n            В Дагестане люди пытаются вручну...  NaN          -   \n",
       "38249  Не без труда: Россия в овертайме победила Южну...  NaN          -   \n",
       "43956  Будущее Сирии, перенос столицы Израиля и ситуа...  NaN          -   \n",
       "84132                          Доллар превысил 67 рублей  NaN          -   \n",
       "86097  Сборная России по тхэквондо в полном составе д...  NaN          -   \n",
       "86103        ЦБ РФ отозвал лицензию у банка «БФГ-Кредит»  NaN          -   \n",
       "92836  МОК инициирует повторный анализ проб российски...  NaN          -   \n",
       "93872  «Это могла быть только внутренняя утечка»: экс...  NaN          -   \n",
       "93917  Отчёт WADA: Метод, используемый ФСБ для вскрыт...  NaN          -   \n",
       "93919  Отчёт WADA: Минспорт РФ и ФСБ участвовали в за...  NaN          -   \n",
       "93920  Отчёт WADA: Минспорт РФ курировал манипуляции ...  NaN          -   \n",
       "99771     Рубль незначительно подешевел к доллару и евро  NaN          -   \n",
       "\n",
       "      reposts_vk reposts_ok reposts_twi reposts_lj reposts_tg likes views  \\\n",
       "37474          -          -           -          -          -     -     -   \n",
       "38249          -          -           -          -          -     -     -   \n",
       "43956          -          -           -          -          -     -     -   \n",
       "84132          -          -           -          -          -     -     -   \n",
       "86097          -          -           -          -          -     -     -   \n",
       "86103          -          -           -          -          -     -     -   \n",
       "92836          -          -           -          -          -     -     -   \n",
       "93872          -          -           -          -          -     -     -   \n",
       "93917          -          -           -          -          -     -     -   \n",
       "93919          -          -           -          -          -     -     -   \n",
       "93920          -          -           -          -          -     -     -   \n",
       "99771          -          -           -          -          -     -     -   \n",
       "\n",
       "      comm_count  \n",
       "37474          -  \n",
       "38249          -  \n",
       "43956          -  \n",
       "84132          -  \n",
       "86097          -  \n",
       "86103          -  \n",
       "92836          -  \n",
       "93872          -  \n",
       "93917          -  \n",
       "93919          -  \n",
       "93920          -  \n",
       "99771          -  "
      ]
     },
     "execution_count": 217,
     "metadata": {},
     "output_type": "execute_result"
    }
   ],
   "source": [
    "print('Кол-во строк с значением NaN в столбце \"Text\" = ', data_rt['text'].isnull().sum())\n",
    "data_rt[data_rt['text'].isnull()]"
   ]
  },
  {
   "cell_type": "code",
   "execution_count": null,
   "metadata": {},
   "outputs": [],
   "source": []
  },
  {
   "cell_type": "code",
   "execution_count": 218,
   "metadata": {},
   "outputs": [],
   "source": [
    "#Удалим эти строки\n",
    "data_rt.drop(data_rt[data_rt.text.isnull()].index, inplace=True)"
   ]
  },
  {
   "cell_type": "code",
   "execution_count": 219,
   "metadata": {},
   "outputs": [
    {
     "name": "stdout",
     "output_type": "stream",
     "text": [
      "Кол-во строк с значением NaN в столбце \"Text\" =  0\n"
     ]
    }
   ],
   "source": [
    "print('Кол-во строк с значением NaN в столбце \"Text\" = ', data_rt['text'].isnull().sum())"
   ]
  },
  {
   "cell_type": "markdown",
   "metadata": {},
   "source": [
    "Посмотрим сколько элементов Nan в столбце авторов"
   ]
  },
  {
   "cell_type": "code",
   "execution_count": 220,
   "metadata": {},
   "outputs": [
    {
     "name": "stdout",
     "output_type": "stream",
     "text": [
      "Кол-во строк с значением NaN в столбце \"authors\" =  106632\n"
     ]
    }
   ],
   "source": [
    "print('Кол-во строк с значением NaN в столбце \"authors\" = ', data_rt['authors'].isnull().sum())"
   ]
  },
  {
   "cell_type": "markdown",
   "metadata": {},
   "source": [
    "Как видим все значения авторов Nan. Можно не использовать данные столбец"
   ]
  },
  {
   "cell_type": "markdown",
   "metadata": {},
   "source": [
    "Посмотрим, что в столбцах, которые содержат дефис, как обозначение пустых данных"
   ]
  },
  {
   "cell_type": "code",
   "execution_count": 221,
   "metadata": {},
   "outputs": [],
   "source": [
    "def analysis_columns(columns):\n",
    "    for column in columns:\n",
    "        if column not in ['url', 'date', 'topics', 'authors', 'title', 'text']:\n",
    "            yield(print(str(column) + ':', data_rt[column].unique()))"
   ]
  },
  {
   "cell_type": "code",
   "execution_count": 222,
   "metadata": {},
   "outputs": [
    {
     "name": "stdout",
     "output_type": "stream",
     "text": [
      "edition: ['-']\n",
      "reposts_fb: ['-']\n",
      "reposts_vk: ['-']\n",
      "reposts_ok: ['-']\n",
      "reposts_twi: ['-']\n",
      "reposts_lj: ['-']\n",
      "reposts_tg: ['-']\n",
      "likes: ['-']\n",
      "views: ['-']\n",
      "comm_count: ['-']\n"
     ]
    }
   ],
   "source": [
    "data_columns = list(analysis_columns(data_rt.columns))"
   ]
  },
  {
   "cell_type": "markdown",
   "metadata": {},
   "source": [
    "Значений нет, можно удалять"
   ]
  },
  {
   "cell_type": "code",
   "execution_count": 223,
   "metadata": {},
   "outputs": [
    {
     "name": "stdout",
     "output_type": "stream",
     "text": [
      "Кол-во одинаковых текстов: 282\n"
     ]
    }
   ],
   "source": [
    "#  Проверим повторяющиеся тексты\n",
    "print('Кол-во одинаковых текстов:',data_rt.text.duplicated().sum())"
   ]
  },
  {
   "cell_type": "code",
   "execution_count": 224,
   "metadata": {},
   "outputs": [],
   "source": [
    "data_rt = data_rt.drop_duplicates(subset='text')"
   ]
  },
  {
   "cell_type": "code",
   "execution_count": 225,
   "metadata": {},
   "outputs": [
    {
     "data": {
      "text/plain": [
       "(106350, 16)"
      ]
     },
     "execution_count": 225,
     "metadata": {},
     "output_type": "execute_result"
    }
   ],
   "source": [
    "data_rt.shape"
   ]
  },
  {
   "cell_type": "markdown",
   "metadata": {},
   "source": [
    "### Анализ дат"
   ]
  },
  {
   "cell_type": "code",
   "execution_count": 226,
   "metadata": {},
   "outputs": [
    {
     "name": "stdout",
     "output_type": "stream",
     "text": [
      "Минимальная дата в датасете: 2014-06-16 18:36:02\n",
      "Максимальная дата в датасете: 2019-08-02 14:10:00\n"
     ]
    }
   ],
   "source": [
    "print('Минимальная дата в датасете:', data_rt.date.min())\n",
    "print('Максимальная дата в датасете:', data_rt.date.max())"
   ]
  },
  {
   "cell_type": "code",
   "execution_count": null,
   "metadata": {},
   "outputs": [],
   "source": []
  },
  {
   "cell_type": "markdown",
   "metadata": {},
   "source": [
    "#### Распределение количества новостей по месяцам"
   ]
  },
  {
   "cell_type": "code",
   "execution_count": 227,
   "metadata": {},
   "outputs": [],
   "source": [
    "# Вынесем месяц и год новости в отдельные столбцы\n",
    "data_rt['month'] = data_rt.date.apply(lambda x: x.month)\n",
    "data_rt['year'] = data_rt.date.apply(lambda x: x.year)\n",
    "\n",
    "# Создадим отдельный датасет посчитаем количество новостей в разрезе месяца и года\n",
    "df = data_rt.groupby(['year', 'month']).text.nunique().reset_index()"
   ]
  },
  {
   "cell_type": "code",
   "execution_count": 228,
   "metadata": {},
   "outputs": [
    {
     "data": {
      "text/html": [
       "<div>\n",
       "<style scoped>\n",
       "    .dataframe tbody tr th:only-of-type {\n",
       "        vertical-align: middle;\n",
       "    }\n",
       "\n",
       "    .dataframe tbody tr th {\n",
       "        vertical-align: top;\n",
       "    }\n",
       "\n",
       "    .dataframe thead th {\n",
       "        text-align: right;\n",
       "    }\n",
       "</style>\n",
       "<table border=\"1\" class=\"dataframe\">\n",
       "  <thead>\n",
       "    <tr style=\"text-align: right;\">\n",
       "      <th></th>\n",
       "      <th>year</th>\n",
       "      <th>month</th>\n",
       "      <th>text</th>\n",
       "    </tr>\n",
       "  </thead>\n",
       "  <tbody>\n",
       "    <tr>\n",
       "      <th>0</th>\n",
       "      <td>2014</td>\n",
       "      <td>6</td>\n",
       "      <td>1</td>\n",
       "    </tr>\n",
       "    <tr>\n",
       "      <th>1</th>\n",
       "      <td>2014</td>\n",
       "      <td>9</td>\n",
       "      <td>396</td>\n",
       "    </tr>\n",
       "    <tr>\n",
       "      <th>2</th>\n",
       "      <td>2014</td>\n",
       "      <td>10</td>\n",
       "      <td>1036</td>\n",
       "    </tr>\n",
       "    <tr>\n",
       "      <th>3</th>\n",
       "      <td>2014</td>\n",
       "      <td>11</td>\n",
       "      <td>1389</td>\n",
       "    </tr>\n",
       "    <tr>\n",
       "      <th>4</th>\n",
       "      <td>2014</td>\n",
       "      <td>12</td>\n",
       "      <td>1657</td>\n",
       "    </tr>\n",
       "  </tbody>\n",
       "</table>\n",
       "</div>"
      ],
      "text/plain": [
       "   year  month  text\n",
       "0  2014      6     1\n",
       "1  2014      9   396\n",
       "2  2014     10  1036\n",
       "3  2014     11  1389\n",
       "4  2014     12  1657"
      ]
     },
     "execution_count": 228,
     "metadata": {},
     "output_type": "execute_result"
    }
   ],
   "source": [
    "df.head()"
   ]
  },
  {
   "cell_type": "code",
   "execution_count": 229,
   "metadata": {},
   "outputs": [],
   "source": [
    "df['month_year'] = df[['month', 'year']].apply(lambda x: '-'.join(['0'+str(x.month) if x.month<10 else str(x.month),\n",
    "                                                                  str(x.year)]),\n",
    "                                               axis =1)"
   ]
  },
  {
   "cell_type": "code",
   "execution_count": 230,
   "metadata": {},
   "outputs": [],
   "source": [
    "df.columns = ['year', 'month', 'nunique_text', 'month_year']"
   ]
  },
  {
   "cell_type": "code",
   "execution_count": 231,
   "metadata": {},
   "outputs": [],
   "source": [
    "# выберем только те месяцы, в которых количество новостей больше 10\n",
    "df = df[df.nunique_text>10]"
   ]
  },
  {
   "cell_type": "code",
   "execution_count": 232,
   "metadata": {},
   "outputs": [
    {
     "data": {
      "text/html": [
       "<div>\n",
       "<style scoped>\n",
       "    .dataframe tbody tr th:only-of-type {\n",
       "        vertical-align: middle;\n",
       "    }\n",
       "\n",
       "    .dataframe tbody tr th {\n",
       "        vertical-align: top;\n",
       "    }\n",
       "\n",
       "    .dataframe thead th {\n",
       "        text-align: right;\n",
       "    }\n",
       "</style>\n",
       "<table border=\"1\" class=\"dataframe\">\n",
       "  <thead>\n",
       "    <tr style=\"text-align: right;\">\n",
       "      <th></th>\n",
       "      <th>month_year</th>\n",
       "      <th>nunique_text</th>\n",
       "    </tr>\n",
       "  </thead>\n",
       "  <tbody>\n",
       "    <tr>\n",
       "      <th>29</th>\n",
       "      <td>05-2019</td>\n",
       "      <td>8268</td>\n",
       "    </tr>\n",
       "    <tr>\n",
       "      <th>20</th>\n",
       "      <td>12-2017</td>\n",
       "      <td>8266</td>\n",
       "    </tr>\n",
       "    <tr>\n",
       "      <th>26</th>\n",
       "      <td>11-2018</td>\n",
       "      <td>8130</td>\n",
       "    </tr>\n",
       "    <tr>\n",
       "      <th>22</th>\n",
       "      <td>05-2018</td>\n",
       "      <td>8088</td>\n",
       "    </tr>\n",
       "    <tr>\n",
       "      <th>19</th>\n",
       "      <td>11-2017</td>\n",
       "      <td>7793</td>\n",
       "    </tr>\n",
       "  </tbody>\n",
       "</table>\n",
       "</div>"
      ],
      "text/plain": [
       "   month_year  nunique_text\n",
       "29    05-2019          8268\n",
       "20    12-2017          8266\n",
       "26    11-2018          8130\n",
       "22    05-2018          8088\n",
       "19    11-2017          7793"
      ]
     },
     "execution_count": 232,
     "metadata": {},
     "output_type": "execute_result"
    }
   ],
   "source": [
    "df[['month_year', 'nunique_text']].sort_values('nunique_text', ascending = False).head()"
   ]
  },
  {
   "cell_type": "code",
   "execution_count": null,
   "metadata": {},
   "outputs": [],
   "source": []
  },
  {
   "cell_type": "code",
   "execution_count": 28,
   "metadata": {},
   "outputs": [],
   "source": []
  },
  {
   "cell_type": "code",
   "execution_count": 233,
   "metadata": {},
   "outputs": [
    {
     "data": {
      "image/png": "[encoded data removed]",
      "text/plain": [
       "<Figure size 1440x720 with 1 Axes>"
      ]
     },
     "metadata": {
      "needs_background": "light"
     },
     "output_type": "display_data"
    }
   ],
   "source": [
    "fig, ax = plt.subplots(figsize=(20, 10))\n",
    "plt.bar(x = df.month_year,\n",
    "        height = df.nunique_text.values)\n",
    "plt.xticks(rotation='vertical')\n",
    "plt.show()"
   ]
  },
  {
   "cell_type": "code",
   "execution_count": 72,
   "metadata": {},
   "outputs": [],
   "source": [
    "# Удалим часть символов"
   ]
  },
  {
   "cell_type": "code",
   "execution_count": 234,
   "metadata": {},
   "outputs": [],
   "source": [
    "import re"
   ]
  },
  {
   "cell_type": "code",
   "execution_count": null,
   "metadata": {},
   "outputs": [],
   "source": []
  },
  {
   "cell_type": "code",
   "execution_count": 235,
   "metadata": {},
   "outputs": [],
   "source": [
    "def prepare_text(news_text):\n",
    "    for news in news_text:\n",
    "        news = re.sub(\"[«»—!\\\"#$%&()*+,-./:;<=>?@[\\]^_{|}~]\", \" \", news) # Знаки препинания\n",
    "        news = re.sub(\"\\'\", \"\", news) # Апострофы\n",
    "        news = re.sub(\"\\s+\", \" \", news) # Символ новой строки\n",
    "        yield(news)  "
   ]
  },
  {
   "cell_type": "code",
   "execution_count": 236,
   "metadata": {},
   "outputs": [],
   "source": [
    "data_rt.text = list(prepare_text(data_rt.text.values.tolist()))"
   ]
  },
  {
   "cell_type": "code",
   "execution_count": null,
   "metadata": {},
   "outputs": [],
   "source": []
  },
  {
   "cell_type": "code",
   "execution_count": 239,
   "metadata": {},
   "outputs": [],
   "source": [
    "def text_to_token(text):\n",
    "    text = text.lower()\n",
    "    return wordpunct_tokenize(text)"
   ]
  },
  {
   "cell_type": "code",
   "execution_count": null,
   "metadata": {},
   "outputs": [],
   "source": []
  },
  {
   "cell_type": "code",
   "execution_count": 240,
   "metadata": {},
   "outputs": [],
   "source": [
    "def data_withoun_stopwords(text):\n",
    "    text = [token for token in text if token not in stopwords]\n",
    "    return text"
   ]
  },
  {
   "cell_type": "code",
   "execution_count": null,
   "metadata": {},
   "outputs": [],
   "source": []
  },
  {
   "cell_type": "code",
   "execution_count": 241,
   "metadata": {},
   "outputs": [],
   "source": [
    "dictionary_with_stopwords = FreqDist()"
   ]
  },
  {
   "cell_type": "code",
   "execution_count": 245,
   "metadata": {},
   "outputs": [],
   "source": [
    "dictionary_without_stopwords = FreqDist()"
   ]
  },
  {
   "cell_type": "code",
   "execution_count": null,
   "metadata": {},
   "outputs": [],
   "source": []
  },
  {
   "cell_type": "code",
   "execution_count": 243,
   "metadata": {},
   "outputs": [],
   "source": [
    "for token in data_rt.text.values:\n",
    "    dictionary_with_stopwords.update(text_to_token(token))"
   ]
  },
  {
   "cell_type": "code",
   "execution_count": null,
   "metadata": {},
   "outputs": [],
   "source": []
  },
  {
   "cell_type": "code",
   "execution_count": 246,
   "metadata": {},
   "outputs": [],
   "source": [
    "stopwords_01 = open('../nlp/preprocessing/stopwords.txt', 'r', encoding='UTF-8')\n",
    "stopwords_01 = stopwords_01.read().split('\\n')\n",
    "stopwords_02 = open('../nlp/preprocessing/stopwords_02.txt', 'r', encoding='UTF-8')\n",
    "stopwords_02 = stopwords_02.read().split('\\n')"
   ]
  },
  {
   "cell_type": "code",
   "execution_count": 247,
   "metadata": {},
   "outputs": [],
   "source": [
    "stopwords = stopwords_01 + stopwords_02"
   ]
  },
  {
   "cell_type": "code",
   "execution_count": null,
   "metadata": {},
   "outputs": [],
   "source": []
  },
  {
   "cell_type": "code",
   "execution_count": 248,
   "metadata": {},
   "outputs": [],
   "source": [
    "for token in data_rt.text.values:\n",
    "    dictionary_without_stopwords.update(data_withoun_stopwords(text_to_token(token)))"
   ]
  },
  {
   "cell_type": "code",
   "execution_count": null,
   "metadata": {},
   "outputs": [],
   "source": []
  },
  {
   "cell_type": "code",
   "execution_count": 244,
   "metadata": {},
   "outputs": [
    {
     "data": {
      "text/plain": [
       "[('в', 600376),\n",
       " ('и', 328650),\n",
       " ('на', 264385),\n",
       " ('что', 226495),\n",
       " ('с', 168707),\n",
       " ('не', 148020),\n",
       " ('по', 130894),\n",
       " ('n', 108119),\n",
       " ('из', 64797),\n",
       " ('за', 63819),\n",
       " ('о', 58741),\n",
       " ('это', 58449),\n",
       " ('для', 57910),\n",
       " ('к', 55047),\n",
       " ('россии', 53492),\n",
       " ('как', 52479),\n",
       " ('а', 51124),\n",
       " ('он', 50399),\n",
       " ('его', 45368),\n",
       " ('nранее', 44088)]"
      ]
     },
     "execution_count": 244,
     "metadata": {},
     "output_type": "execute_result"
    }
   ],
   "source": [
    "# Посмотрим 20 самых популярных слов без удаления стопслов и построим по ним график\n",
    "dictionary_with_stopwords.most_common(20)"
   ]
  },
  {
   "cell_type": "code",
   "execution_count": 191,
   "metadata": {},
   "outputs": [
    {
     "data": {
      "image/png": "[encoded data removed]",
      "text/plain": [
       "<Figure size 864x432 with 1 Axes>"
      ]
     },
     "metadata": {},
     "output_type": "display_data"
    }
   ],
   "source": [
    "x = dict(dictionary_with_stopwords.most_common(20)).keys()\n",
    "y = dict(dictionary_with_stopwords.most_common(20)).values()\n",
    "\n",
    "fig, ax = plt.subplots()\n",
    "\n",
    "ax.bar(x, y)\n",
    "ax.set_title('TOP-20 слов без удаления стопслов')\n",
    "ax.set_ylabel('Частота')\n",
    "ax.set_xlabel('Слова')\n",
    "\n",
    "ax.set_facecolor('seashell')\n",
    "fig.set_facecolor('floralwhite')\n",
    "fig.set_figwidth(12)    #  ширина Figure\n",
    "fig.set_figheight(6)    #  высота Figure\n",
    "\n",
    "\n",
    "plt.show()"
   ]
  },
  {
   "cell_type": "code",
   "execution_count": 249,
   "metadata": {},
   "outputs": [
    {
     "data": {
      "text/plain": [
       "[('n', 108119),\n",
       " ('россии', 53492),\n",
       " ('nранее', 44088),\n",
       " ('сша', 36482),\n",
       " ('nв', 33950),\n",
       " ('заявил', 23726),\n",
       " ('nпо', 23501),\n",
       " ('словам', 21936),\n",
       " ('отметил', 20351),\n",
       " ('1', 17671),\n",
       " ('rt', 16436),\n",
       " ('украины', 15284),\n",
       " ('2', 15263),\n",
       " ('nтакже', 14034),\n",
       " ('2017', 13916),\n",
       " ('слова', 13771),\n",
       " ('страны', 13696),\n",
       " ('новости', 12865),\n",
       " ('2018', 12847),\n",
       " ('приводит', 12559)]"
      ]
     },
     "execution_count": 249,
     "metadata": {},
     "output_type": "execute_result"
    }
   ],
   "source": [
    "# Посмотрим 20 самых популярных слов после удаления стопслов и построим по ним график\n",
    "dictionary_without_stopwords.most_common(20)"
   ]
  },
  {
   "cell_type": "code",
   "execution_count": null,
   "metadata": {},
   "outputs": [],
   "source": []
  },
  {
   "cell_type": "code",
   "execution_count": 250,
   "metadata": {},
   "outputs": [
    {
     "data": {
      "image/png": "[encoded data removed]",
      "text/plain": [
       "<Figure size 1800x720 with 1 Axes>"
      ]
     },
     "metadata": {},
     "output_type": "display_data"
    }
   ],
   "source": [
    "x = dict(dictionary_without_stopwords.most_common(20)).keys()\n",
    "y = dict(dictionary_without_stopwords.most_common(20)).values()\n",
    "\n",
    "fig, ax = plt.subplots()\n",
    "\n",
    "ax.bar(x, y)\n",
    "ax.set_title('TOP-20 слов после удаления стопслов')\n",
    "ax.set_ylabel('Частота')\n",
    "ax.set_xlabel('Слова')\n",
    "\n",
    "ax.set_facecolor('seashell')\n",
    "fig.set_facecolor('floralwhite')\n",
    "fig.set_figwidth(25)    #  ширина Figure\n",
    "fig.set_figheight(10)    #  высота Figure\n",
    "\n",
    "\n",
    "plt.show()"
   ]
  },
  {
   "cell_type": "code",
   "execution_count": null,
   "metadata": {},
   "outputs": [],
   "source": []
  },
  {
   "cell_type": "code",
   "execution_count": null,
   "metadata": {},
   "outputs": [],
   "source": []
  },
  {
   "cell_type": "markdown",
   "metadata": {},
   "source": [
    "### Рубрики RT"
   ]
  },
  {
   "cell_type": "code",
   "execution_count": 251,
   "metadata": {},
   "outputs": [
    {
     "name": "stdout",
     "output_type": "stream",
     "text": [
      "Количество рубрик =  (10,)\n"
     ]
    },
    {
     "data": {
      "text/plain": [
       "array(['Россия', 'Спорт', 'Мир', 'Без политики', 'Новости партнёров',\n",
       "       'Бывший СССР', 'Экономика', 'Наука', 'Мероприятия RT',\n",
       "       'Пресс-релизы'], dtype=object)"
      ]
     },
     "execution_count": 251,
     "metadata": {},
     "output_type": "execute_result"
    }
   ],
   "source": [
    "# Считаем количество рубрик в данном датасете, а также выведем значения\n",
    "print('Количество рубрик = ', data_rt.topics.unique().shape)\n",
    "data_rt['topics'].unique()"
   ]
  },
  {
   "cell_type": "markdown",
   "metadata": {},
   "source": [
    "Все рубрики, с количеством новостей в каждой группе"
   ]
  },
  {
   "cell_type": "code",
   "execution_count": 252,
   "metadata": {},
   "outputs": [
    {
     "data": {
      "text/plain": [
       "topics\n",
       "Россия               32864\n",
       "Спорт                26678\n",
       "Мир                  26369\n",
       "Бывший СССР          10074\n",
       "Без политики          4437\n",
       "Экономика             4316\n",
       "Наука                 1493\n",
       "Пресс-релизы            92\n",
       "Новости партнёров       14\n",
       "Мероприятия RT          13\n",
       "Name: topics, dtype: int64"
      ]
     },
     "execution_count": 252,
     "metadata": {},
     "output_type": "execute_result"
    }
   ],
   "source": [
    "data_rt.groupby('topics')['topics'].count().sort_values(ascending=False)"
   ]
  },
  {
   "cell_type": "code",
   "execution_count": null,
   "metadata": {},
   "outputs": [],
   "source": []
  },
  {
   "cell_type": "code",
   "execution_count": null,
   "metadata": {},
   "outputs": [],
   "source": []
  }
 ],
 "metadata": {
  "kernelspec": {
   "display_name": "Python 3",
   "language": "python",
   "name": "python3"
  },
  "language_info": {
   "codemirror_mode": {
    "name": "ipython",
    "version": 3
   },
   "file_extension": ".py",
   "mimetype": "text/x-python",
   "name": "python",
   "nbconvert_exporter": "python",
   "pygments_lexer": "ipython3",
   "version": "3.7.3"
  }
 },
 "nbformat": 4,
 "nbformat_minor": 2
}
