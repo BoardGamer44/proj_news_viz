{
 "cells": [
  {
   "cell_type": "markdown",
   "metadata": {},
   "source": [
    "# Анализ источников новостей"
   ]
  },
  {
   "cell_type": "markdown",
   "metadata": {},
   "source": [
    "Цель данного исследования: проанализировать источники новостных лент, сравнить рубрики, подумать над возможностью добавление\\удаление категорий для проекта \"Радар новостей рунета\""
   ]
  },
  {
   "cell_type": "code",
   "execution_count": 4,
   "metadata": {},
   "outputs": [],
   "source": [
    "import numpy as np\n",
    "import pandas as pd\n",
    "import datetime as DT\n",
    "import matplotlib.pyplot as plt"
   ]
  },
  {
   "cell_type": "code",
   "execution_count": 1,
   "metadata": {},
   "outputs": [],
   "source": [
    "from nltk import wordpunct_tokenize\n",
    "from nltk import FreqDist"
   ]
  },
  {
   "cell_type": "markdown",
   "metadata": {},
   "source": [
    "## ria"
   ]
  },
  {
   "cell_type": "code",
   "execution_count": 5,
   "metadata": {},
   "outputs": [],
   "source": [
    "dateparse = lambda x: pd.datetime.strptime(x, \"%Y-%m-%d %H:%M:%S\")"
   ]
  },
  {
   "cell_type": "code",
   "execution_count": 6,
   "metadata": {},
   "outputs": [
    {
     "name": "stderr",
     "output_type": "stream",
     "text": [
      "b'Skipping line 49866: expected 17 fields, saw 33\\n'\n"
     ]
    }
   ],
   "source": [
    "data_ria = pd.read_csv('../data/ria.csv',\n",
    "                      sep=',',\n",
    "                      index_col=False,\n",
    "                      escapechar='\\\\',\n",
    "                      parse_dates=['date'],\n",
    "                      date_parser=dateparse,\n",
    "                      quotechar='\\\"', error_bad_lines=False)"
   ]
  },
  {
   "cell_type": "code",
   "execution_count": 7,
   "metadata": {},
   "outputs": [
    {
     "data": {
      "text/plain": [
       "date           datetime64[ns]\n",
       "url                    object\n",
       "edition                object\n",
       "topics                 object\n",
       "authors               float64\n",
       "title                  object\n",
       "text                   object\n",
       "reposts_fb             object\n",
       "reposts_vk             object\n",
       "reposts_ok             object\n",
       "reposts_twi            object\n",
       "reposts_lj             object\n",
       "reposts_tg             object\n",
       "likes                   int64\n",
       "views                   int64\n",
       "comm_count             object\n",
       "dtype: object"
      ]
     },
     "execution_count": 7,
     "metadata": {},
     "output_type": "execute_result"
    }
   ],
   "source": [
    "# Проверим преобразование\n",
    "data_ria.dtypes"
   ]
  },
  {
   "cell_type": "code",
   "execution_count": 8,
   "metadata": {},
   "outputs": [
    {
     "data": {
      "text/plain": [
       "(101543, 16)"
      ]
     },
     "execution_count": 8,
     "metadata": {},
     "output_type": "execute_result"
    }
   ],
   "source": [
    "data_ria.shape"
   ]
  },
  {
   "cell_type": "code",
   "execution_count": 9,
   "metadata": {},
   "outputs": [
    {
     "data": {
      "text/html": [
       "<div>\n",
       "<style scoped>\n",
       "    .dataframe tbody tr th:only-of-type {\n",
       "        vertical-align: middle;\n",
       "    }\n",
       "\n",
       "    .dataframe tbody tr th {\n",
       "        vertical-align: top;\n",
       "    }\n",
       "\n",
       "    .dataframe thead th {\n",
       "        text-align: right;\n",
       "    }\n",
       "</style>\n",
       "<table border=\"1\" class=\"dataframe\">\n",
       "  <thead>\n",
       "    <tr style=\"text-align: right;\">\n",
       "      <th></th>\n",
       "      <th>date</th>\n",
       "      <th>url</th>\n",
       "      <th>edition</th>\n",
       "      <th>topics</th>\n",
       "      <th>authors</th>\n",
       "      <th>title</th>\n",
       "      <th>text</th>\n",
       "      <th>reposts_fb</th>\n",
       "      <th>reposts_vk</th>\n",
       "      <th>reposts_ok</th>\n",
       "      <th>reposts_twi</th>\n",
       "      <th>reposts_lj</th>\n",
       "      <th>reposts_tg</th>\n",
       "      <th>likes</th>\n",
       "      <th>views</th>\n",
       "      <th>comm_count</th>\n",
       "    </tr>\n",
       "  </thead>\n",
       "  <tbody>\n",
       "    <tr>\n",
       "      <th>0</th>\n",
       "      <td>2019-08-10 06:35:00</td>\n",
       "      <td>https://ria.ru/20190810/1557366973.html</td>\n",
       "      <td>ria.ru</td>\n",
       "      <td>Происшествия</td>\n",
       "      <td>NaN</td>\n",
       "      <td>Восемнадцать туристов застряли на пляже в Прим...</td>\n",
       "      <td>ВЛАДИВОСТОК, 10 авг – РИА Новости.nВосемнадцат...</td>\n",
       "      <td>-</td>\n",
       "      <td>-</td>\n",
       "      <td>-</td>\n",
       "      <td>-</td>\n",
       "      <td>-</td>\n",
       "      <td>-</td>\n",
       "      <td>0</td>\n",
       "      <td>70</td>\n",
       "      <td>-</td>\n",
       "    </tr>\n",
       "    <tr>\n",
       "      <th>1</th>\n",
       "      <td>2019-08-10 03:25:00</td>\n",
       "      <td>https://ria.ru/20190810/1557366343.html</td>\n",
       "      <td>ria.ru</td>\n",
       "      <td>В мире</td>\n",
       "      <td>NaN</td>\n",
       "      <td>Президент Парагвая даст показания по делу о сп...</td>\n",
       "      <td>БУЭНОС-АЙРЕС, 10 авг – РИА Новости.nПрезидент ...</td>\n",
       "      <td>-</td>\n",
       "      <td>-</td>\n",
       "      <td>-</td>\n",
       "      <td>-</td>\n",
       "      <td>-</td>\n",
       "      <td>-</td>\n",
       "      <td>1</td>\n",
       "      <td>177</td>\n",
       "      <td>-</td>\n",
       "    </tr>\n",
       "    <tr>\n",
       "      <th>2</th>\n",
       "      <td>2019-08-10 03:26:00</td>\n",
       "      <td>https://ria.ru/20190810/1557366366.html</td>\n",
       "      <td>ria.ru</td>\n",
       "      <td>В мире</td>\n",
       "      <td>NaN</td>\n",
       "      <td>Андрейченко обвинили в угрозе теракта после но...</td>\n",
       "      <td>МОСКВА, 10 авг - РИА Новости.nДмитрию Андрейче...</td>\n",
       "      <td>-</td>\n",
       "      <td>-</td>\n",
       "      <td>-</td>\n",
       "      <td>-</td>\n",
       "      <td>-</td>\n",
       "      <td>-</td>\n",
       "      <td>2</td>\n",
       "      <td>919</td>\n",
       "      <td>-</td>\n",
       "    </tr>\n",
       "    <tr>\n",
       "      <th>3</th>\n",
       "      <td>2019-08-10 03:31:00</td>\n",
       "      <td>https://ria.ru/20190810/1557366398.html</td>\n",
       "      <td>ria.ru</td>\n",
       "      <td>В мире</td>\n",
       "      <td>NaN</td>\n",
       "      <td>Япония заявила, что не испугалась субботних пу...</td>\n",
       "      <td>МОСКВА, 10 авг - РИА Новости.nПравительство Яп...</td>\n",
       "      <td>-</td>\n",
       "      <td>-</td>\n",
       "      <td>-</td>\n",
       "      <td>-</td>\n",
       "      <td>-</td>\n",
       "      <td>-</td>\n",
       "      <td>1</td>\n",
       "      <td>140</td>\n",
       "      <td>-</td>\n",
       "    </tr>\n",
       "    <tr>\n",
       "      <th>4</th>\n",
       "      <td>2019-08-10 03:32:00</td>\n",
       "      <td>https://ria.ru/20190810/1557366421.html</td>\n",
       "      <td>ria.ru</td>\n",
       "      <td>Происшествия</td>\n",
       "      <td>NaN</td>\n",
       "      <td>Власти Якутии погасят долг перед жителями, уча...</td>\n",
       "      <td>ЯКУТСК, 10 авг – РИА Новости.nСредства резервн...</td>\n",
       "      <td>-</td>\n",
       "      <td>-</td>\n",
       "      <td>-</td>\n",
       "      <td>-</td>\n",
       "      <td>-</td>\n",
       "      <td>-</td>\n",
       "      <td>3</td>\n",
       "      <td>1196</td>\n",
       "      <td>-</td>\n",
       "    </tr>\n",
       "  </tbody>\n",
       "</table>\n",
       "</div>"
      ],
      "text/plain": [
       "                 date                                      url edition  \\\n",
       "0 2019-08-10 06:35:00  https://ria.ru/20190810/1557366973.html  ria.ru   \n",
       "1 2019-08-10 03:25:00  https://ria.ru/20190810/1557366343.html  ria.ru   \n",
       "2 2019-08-10 03:26:00  https://ria.ru/20190810/1557366366.html  ria.ru   \n",
       "3 2019-08-10 03:31:00  https://ria.ru/20190810/1557366398.html  ria.ru   \n",
       "4 2019-08-10 03:32:00  https://ria.ru/20190810/1557366421.html  ria.ru   \n",
       "\n",
       "         topics  authors                                              title  \\\n",
       "0  Происшествия      NaN  Восемнадцать туристов застряли на пляже в Прим...   \n",
       "1        В мире      NaN  Президент Парагвая даст показания по делу о сп...   \n",
       "2        В мире      NaN  Андрейченко обвинили в угрозе теракта после но...   \n",
       "3        В мире      NaN  Япония заявила, что не испугалась субботних пу...   \n",
       "4  Происшествия      NaN  Власти Якутии погасят долг перед жителями, уча...   \n",
       "\n",
       "                                                text reposts_fb reposts_vk  \\\n",
       "0  ВЛАДИВОСТОК, 10 авг – РИА Новости.nВосемнадцат...          -          -   \n",
       "1  БУЭНОС-АЙРЕС, 10 авг – РИА Новости.nПрезидент ...          -          -   \n",
       "2  МОСКВА, 10 авг - РИА Новости.nДмитрию Андрейче...          -          -   \n",
       "3  МОСКВА, 10 авг - РИА Новости.nПравительство Яп...          -          -   \n",
       "4  ЯКУТСК, 10 авг – РИА Новости.nСредства резервн...          -          -   \n",
       "\n",
       "  reposts_ok reposts_twi reposts_lj reposts_tg  likes  views comm_count  \n",
       "0          -           -          -          -      0     70          -  \n",
       "1          -           -          -          -      1    177          -  \n",
       "2          -           -          -          -      2    919          -  \n",
       "3          -           -          -          -      1    140          -  \n",
       "4          -           -          -          -      3   1196          -  "
      ]
     },
     "execution_count": 9,
     "metadata": {},
     "output_type": "execute_result"
    }
   ],
   "source": [
    "# Так выглядет датасет ria\n",
    "data_ria.head()"
   ]
  },
  {
   "cell_type": "code",
   "execution_count": null,
   "metadata": {},
   "outputs": [],
   "source": []
  },
  {
   "cell_type": "code",
   "execution_count": 10,
   "metadata": {},
   "outputs": [
    {
     "data": {
      "text/plain": [
       "date           False\n",
       "url            False\n",
       "edition        False\n",
       "topics         False\n",
       "authors         True\n",
       "title          False\n",
       "text            True\n",
       "reposts_fb     False\n",
       "reposts_vk     False\n",
       "reposts_ok     False\n",
       "reposts_twi    False\n",
       "reposts_lj     False\n",
       "reposts_tg     False\n",
       "likes          False\n",
       "views          False\n",
       "comm_count     False\n",
       "dtype: bool"
      ]
     },
     "execution_count": 10,
     "metadata": {},
     "output_type": "execute_result"
    }
   ],
   "source": [
    "# Выясним в каким столбцах есть пустые данные\n",
    "data_ria.isnull().any()"
   ]
  },
  {
   "cell_type": "code",
   "execution_count": null,
   "metadata": {},
   "outputs": [],
   "source": []
  },
  {
   "cell_type": "code",
   "execution_count": 11,
   "metadata": {},
   "outputs": [
    {
     "name": "stdout",
     "output_type": "stream",
     "text": [
      "Кол-во строк с значением NaN в столбце \"Text\" =  2\n"
     ]
    },
    {
     "data": {
      "text/html": [
       "<div>\n",
       "<style scoped>\n",
       "    .dataframe tbody tr th:only-of-type {\n",
       "        vertical-align: middle;\n",
       "    }\n",
       "\n",
       "    .dataframe tbody tr th {\n",
       "        vertical-align: top;\n",
       "    }\n",
       "\n",
       "    .dataframe thead th {\n",
       "        text-align: right;\n",
       "    }\n",
       "</style>\n",
       "<table border=\"1\" class=\"dataframe\">\n",
       "  <thead>\n",
       "    <tr style=\"text-align: right;\">\n",
       "      <th></th>\n",
       "      <th>date</th>\n",
       "      <th>url</th>\n",
       "      <th>edition</th>\n",
       "      <th>topics</th>\n",
       "      <th>authors</th>\n",
       "      <th>title</th>\n",
       "      <th>text</th>\n",
       "      <th>reposts_fb</th>\n",
       "      <th>reposts_vk</th>\n",
       "      <th>reposts_ok</th>\n",
       "      <th>reposts_twi</th>\n",
       "      <th>reposts_lj</th>\n",
       "      <th>reposts_tg</th>\n",
       "      <th>likes</th>\n",
       "      <th>views</th>\n",
       "      <th>comm_count</th>\n",
       "    </tr>\n",
       "  </thead>\n",
       "  <tbody>\n",
       "    <tr>\n",
       "      <th>45983</th>\n",
       "      <td>2019-02-26 14:22:00</td>\n",
       "      <td>https://ria.ru/20190226/1551377894.html</td>\n",
       "      <td>ria.ru</td>\n",
       "      <td>Общество</td>\n",
       "      <td>NaN</td>\n",
       "      <td>Самый красивый трамвайный маршрут России</td>\n",
       "      <td>NaN</td>\n",
       "      <td>-</td>\n",
       "      <td>-</td>\n",
       "      <td>-</td>\n",
       "      <td>-</td>\n",
       "      <td>-</td>\n",
       "      <td>-</td>\n",
       "      <td>3</td>\n",
       "      <td>1140</td>\n",
       "      <td>-</td>\n",
       "    </tr>\n",
       "    <tr>\n",
       "      <th>97961</th>\n",
       "      <td>2019-07-29 16:15:00</td>\n",
       "      <td>https://ria.ru/20190729/1556918528.html</td>\n",
       "      <td>ria.ru</td>\n",
       "      <td>Безопасность</td>\n",
       "      <td>NaN</td>\n",
       "      <td>Крылья России. Самолёты ОКБ Сухого</td>\n",
       "      <td>NaN</td>\n",
       "      <td>-</td>\n",
       "      <td>-</td>\n",
       "      <td>-</td>\n",
       "      <td>-</td>\n",
       "      <td>-</td>\n",
       "      <td>-</td>\n",
       "      <td>43</td>\n",
       "      <td>1383</td>\n",
       "      <td>-</td>\n",
       "    </tr>\n",
       "  </tbody>\n",
       "</table>\n",
       "</div>"
      ],
      "text/plain": [
       "                     date                                      url edition  \\\n",
       "45983 2019-02-26 14:22:00  https://ria.ru/20190226/1551377894.html  ria.ru   \n",
       "97961 2019-07-29 16:15:00  https://ria.ru/20190729/1556918528.html  ria.ru   \n",
       "\n",
       "             topics  authors                                     title text  \\\n",
       "45983      Общество      NaN  Самый красивый трамвайный маршрут России  NaN   \n",
       "97961  Безопасность      NaN        Крылья России. Самолёты ОКБ Сухого  NaN   \n",
       "\n",
       "      reposts_fb reposts_vk reposts_ok reposts_twi reposts_lj reposts_tg  \\\n",
       "45983          -          -          -           -          -          -   \n",
       "97961          -          -          -           -          -          -   \n",
       "\n",
       "       likes  views comm_count  \n",
       "45983      3   1140          -  \n",
       "97961     43   1383          -  "
      ]
     },
     "execution_count": 11,
     "metadata": {},
     "output_type": "execute_result"
    }
   ],
   "source": [
    "print('Кол-во строк с значением NaN в столбце \"Text\" = ', data_ria['text'].isnull().sum())\n",
    "data_ria[data_ria['text'].isnull()]"
   ]
  },
  {
   "cell_type": "code",
   "execution_count": null,
   "metadata": {},
   "outputs": [],
   "source": []
  },
  {
   "cell_type": "code",
   "execution_count": 12,
   "metadata": {},
   "outputs": [],
   "source": [
    "#Удалим эти строки\n",
    "data_ria.drop(data_ria[data_ria.text.isnull()].index, inplace=True)"
   ]
  },
  {
   "cell_type": "code",
   "execution_count": 13,
   "metadata": {},
   "outputs": [
    {
     "name": "stdout",
     "output_type": "stream",
     "text": [
      "Кол-во строк с значением NaN в столбце \"Text\" =  0\n"
     ]
    }
   ],
   "source": [
    "print('Кол-во строк с значением NaN в столбце \"Text\" = ', data_ria['text'].isnull().sum())"
   ]
  },
  {
   "cell_type": "markdown",
   "metadata": {},
   "source": [
    "Посмотрим сколько элементов Nan в столбце авторов"
   ]
  },
  {
   "cell_type": "code",
   "execution_count": 14,
   "metadata": {},
   "outputs": [
    {
     "name": "stdout",
     "output_type": "stream",
     "text": [
      "Кол-во строк с значением NaN в столбце \"authors\" =  101541\n"
     ]
    }
   ],
   "source": [
    "print('Кол-во строк с значением NaN в столбце \"authors\" = ', data_ria['authors'].isnull().sum())"
   ]
  },
  {
   "cell_type": "markdown",
   "metadata": {},
   "source": [
    "Как видим все значения авторов Nan. Можно не использовать данные столбец"
   ]
  },
  {
   "cell_type": "markdown",
   "metadata": {},
   "source": [
    "Посмотрим, что в столбцах, которые содержат дефис, как обозначение пустых данных"
   ]
  },
  {
   "cell_type": "code",
   "execution_count": 15,
   "metadata": {},
   "outputs": [
    {
     "name": "stdout",
     "output_type": "stream",
     "text": [
      "edition:  ['ria.ru']\n",
      "reposts_fb:  ['-']\n",
      "reposts_vk:  ['-']\n",
      "reposts_ok:  ['-']\n",
      "reposts_twi:  ['-']\n",
      "reposts_lj:  ['-']\n",
      "reposts_tg:  ['-']\n",
      "likes:  [    0     1     2     3    14    63    19     5    16   151     6    11\n",
      "     4    29    13   184     8     7    10    30    28    18   108    95\n",
      "   239    36    24   333   257    51    39     9    88    77    27    46\n",
      "    12    70    23    22    34    67   100   421   256   381   318    33\n",
      "    55   141    32   189    64    15   619    45    20   165    54   646\n",
      "    82   160    81   250   216    17    50    31    47   161   366    75\n",
      "   114    25   245   434    53    21   392   109   628   674   835   133\n",
      "   402    43    59    52    26   113   219   474    74   289    83   397\n",
      "   375    68   315    56   564   128   356    80    49   106   195  1043\n",
      "   111    94    73   755   238   470    84    69   607   115   139    57\n",
      "   145    62    35   155    44    37    60    79   263    71   362   104\n",
      "    42   231    58  1502    99  1971   188   267   667   118    89   187\n",
      "   183    38   228   121   181   192   142   101    41   408    90   148\n",
      "   191   979    85   678    40   159  1733    65   107   716   119   253\n",
      "   729   653  1196   150   472    48   112   266   176   287  1103   761\n",
      "   427   349  1166   327   280   179   131   190   527   662   103    97\n",
      "   170   900   941  1472   225   132   138   122   269   535   168   136\n",
      "   229  1573    66   236   365    61   173   147   719   157   807   468\n",
      "   412    72   420   197   805   403  1009   794   871   237   410   243\n",
      "  1264   116   615   135   829    87  1068    86   252   129   217   348\n",
      "   212  1216   616   186   283   411   110   295   659   210   433   449\n",
      "   117  1105   102   451   254   258   424   120    93   177 57186   304\n",
      "   149   606   550   194   204   768   234  1025   222   172   272   275\n",
      "   386   262  1334    92  1084   513    98   556   775   473   407   447\n",
      "    76   916   320   286   352   416   342   205   125   153  1482   510\n",
      "   271   130   171   164   714   614   603   445  1106   213   326   240\n",
      "   481   822   232   297   162   321   309   868   290   124   525   454\n",
      "   282    96   298   261   849  1428  1057   126  1916   498   475   143\n",
      "   299   961   207   175    78   331   389   276   292   209    91   602\n",
      "   180   823   249   345   339   347   956   741  1199   798   134   284\n",
      "   519   221   567   589   311   105   218   460  1096   323   152   268\n",
      "   200   264   338   368   154   288   522   512   360   808  1341  1448\n",
      "   137   144   251   390   163   730   544   246   193   501   208   506\n",
      "   697   484  2241   526   593   641   312   343   201   494   242   802\n",
      "   480   537   178   156  1194   226   198   233   623   361  1208   167\n",
      "   244   313   334   353   374   325   310   340   405   401   305   680\n",
      "   488   548   369   609  1764   355   319   372   146   400   608   516\n",
      "   206   277   448   744   432   884  1690   341   140   388   367   515\n",
      "   776   203   302   306  1195   385   227   223   721   123  1728   863\n",
      "   281   604   431   590   344   317   655   819   384   127   324  1094\n",
      "   618  1020   404   464   495    -1   595   332   182   316   493  1090\n",
      "   270  2908   247   843  1042   452   483   446   419   465   174  1886\n",
      "  1424   279   456   429   330   199   379   683   418   690  1365   337\n",
      "   613   382   453   879   461   540   839  1150   817   291  1295   314\n",
      "  1087   946   395   610   215  1887   296   694   750   702   235   880\n",
      "   440   214  1206   479   308   413  1964   335   546   584   772   439\n",
      "   477   259   364   459   443  1364   509   734   354   394   274   378\n",
      "   591   458   467   422   396   696  1244   301   541   463   303   563\n",
      "   359  1093   536   718   391   371   883   336   220   569   503   202\n",
      "   746   307   523   169   376  1401   329   520   796   496   502  1085\n",
      "  2809  1007   185   196  1275  1730   815   158   636   561   351   617\n",
      "   852   577   874   507   417   715   671  1533   803   224   265   695\n",
      "   398   565   559  2471   652   740  2099   504   773   658   278   363\n",
      "   524   533   625   876   598   579  1287   891  1462   497   570   285\n",
      "   783   491   821   634   294   444   230   791   627  1241   856   710\n",
      "   725   635   767   542   948  1220   489   887  2258  2423  1111   578\n",
      "   932  1210   255  2492   490   438   699   547   963   241  1403   573\n",
      "   809   643   752   552  1134   406  1453   629   300   757   414   816\n",
      "   684   568  1827  1676   995  3134   919   728  1091  1112  2315   592\n",
      "   864  1073   877   482   383   350   387   554  1081   471   442   322\n",
      "   528   545   751  1041  1736  1224   907   801  1051   521   166   430\n",
      "  1236   370   437   211  3592  1352   485   530   707   902   679   508\n",
      "  1710   393   836  1478  2408  1062   426   758   586   759   675   517\n",
      "   656   373   505  1045   722  1332   626   346   949   558   947   357\n",
      "   990  1024   770  1033   779   435  1653   769  1202   781  2075   666\n",
      "   549   637   700   657   583   466  1384  1272  2044   572   840  1231\n",
      "  1002  2230   441   293  1131   753   983   669   938   582   955  1380\n",
      "   762  1933   760   492  3114   731  1191   968  1089   260   790   612\n",
      "  1628  2252  1291   998   920  1005   631   380  1552  1171   774   538\n",
      "  1409   457  1318  1865   988   763  1363   620  1320   534   248  1949\n",
      "   543  1449   511   486  4118  1098  3155   450  1340   709   328  1136\n",
      "  2073   566   571   738  2312  1255  1035  1943   708   455  1823  1594\n",
      "  1110   557   806   575   830   985   991   673   647  1032   899   853\n",
      "  1418   648   273  1715   912   415  1545  1153  3779  1376   986  1232\n",
      "  1351   913   670  1329   531  1582  1571   704   739   436  1447   789\n",
      "  3036   587   854  1133  1230  1314   539   654   621   551   703   834\n",
      "   425   597   399   701   800  1670  1617   560   574  1600   377   668\n",
      "  1814  1280  1207   605   766  1072  1901   632  2613   358   831   676\n",
      "  1014  1608  1160  1266   691   409  2068  1189   423   970  1204  2568\n",
      "  1883   649   711  1298   764   787  1398  2136  2320   487   838  5606\n",
      "  1567   732  1636  1066  1154  1201  1607   663  1456  1069  1029   931]\n",
      "views:  [    70    177    919 ...  16996 361407   9490]\n",
      "comm_count:  ['-']\n"
     ]
    }
   ],
   "source": [
    "print('edition: ',data_ria['edition'].unique())\n",
    "print('reposts_fb: ', data_ria['reposts_fb'].unique())\n",
    "print('reposts_vk: ',data_ria['reposts_vk'].unique())\n",
    "print('reposts_ok: ',data_ria['reposts_ok'].unique())\n",
    "print('reposts_twi: ',data_ria['reposts_twi'].unique())\n",
    "print('reposts_lj: ',data_ria['reposts_lj'].unique())\n",
    "print('reposts_tg: ',data_ria['reposts_tg'].unique())\n",
    "print('likes: ',data_ria['likes'].unique())\n",
    "print('views: ',data_ria['views'].unique())\n",
    "print('comm_count: ',data_ria['comm_count'].unique())"
   ]
  },
  {
   "cell_type": "code",
   "execution_count": null,
   "metadata": {},
   "outputs": [],
   "source": []
  },
  {
   "cell_type": "markdown",
   "metadata": {},
   "source": [
    "В edition, likes и views данные есть, остальные можно удалять"
   ]
  },
  {
   "cell_type": "code",
   "execution_count": 62,
   "metadata": {},
   "outputs": [
    {
     "name": "stdout",
     "output_type": "stream",
     "text": [
      "Кол-во одинаковых текстов: 36\n"
     ]
    }
   ],
   "source": [
    "#  Проверим повторяющиеся тексты\n",
    "print('Кол-во одинаковых текстов:',data_ria.text.duplicated().sum())"
   ]
  },
  {
   "cell_type": "code",
   "execution_count": 63,
   "metadata": {},
   "outputs": [],
   "source": [
    "data_ria = data_ria.drop_duplicates(subset='text')"
   ]
  },
  {
   "cell_type": "code",
   "execution_count": 64,
   "metadata": {},
   "outputs": [
    {
     "data": {
      "text/plain": [
       "(101505, 18)"
      ]
     },
     "execution_count": 64,
     "metadata": {},
     "output_type": "execute_result"
    }
   ],
   "source": [
    "data_ria.shape"
   ]
  },
  {
   "cell_type": "code",
   "execution_count": null,
   "metadata": {},
   "outputs": [],
   "source": []
  },
  {
   "cell_type": "markdown",
   "metadata": {},
   "source": [
    "### Анализ дат"
   ]
  },
  {
   "cell_type": "code",
   "execution_count": 65,
   "metadata": {},
   "outputs": [
    {
     "name": "stdout",
     "output_type": "stream",
     "text": [
      "Минимальная дата в датасете: 2018-12-05 14:29:00\n",
      "Максимальная дата в датасете: 2019-08-10 06:35:00\n"
     ]
    }
   ],
   "source": [
    "print('Минимальная дата в датасете:', data_ria.date.min())\n",
    "print('Максимальная дата в датасете:', data_ria.date.max())"
   ]
  },
  {
   "cell_type": "code",
   "execution_count": null,
   "metadata": {},
   "outputs": [],
   "source": []
  },
  {
   "cell_type": "markdown",
   "metadata": {},
   "source": [
    "#### Распределение количества новостей по месяцам"
   ]
  },
  {
   "cell_type": "code",
   "execution_count": 66,
   "metadata": {},
   "outputs": [],
   "source": [
    "# Вынесем месяц и год новости в отдельные столбцы\n",
    "data_ria['month'] = data_ria.date.apply(lambda x: x.month)\n",
    "data_ria['year'] = data_ria.date.apply(lambda x: x.year)\n",
    "\n",
    "# Создадим отдельный датасет посчитаем количество новостей в разрезе месяца и года\n",
    "df = data_ria.groupby(['year', 'month']).text.nunique().reset_index()"
   ]
  },
  {
   "cell_type": "code",
   "execution_count": 67,
   "metadata": {},
   "outputs": [
    {
     "data": {
      "text/html": [
       "<div>\n",
       "<style scoped>\n",
       "    .dataframe tbody tr th:only-of-type {\n",
       "        vertical-align: middle;\n",
       "    }\n",
       "\n",
       "    .dataframe tbody tr th {\n",
       "        vertical-align: top;\n",
       "    }\n",
       "\n",
       "    .dataframe thead th {\n",
       "        text-align: right;\n",
       "    }\n",
       "</style>\n",
       "<table border=\"1\" class=\"dataframe\">\n",
       "  <thead>\n",
       "    <tr style=\"text-align: right;\">\n",
       "      <th></th>\n",
       "      <th>year</th>\n",
       "      <th>month</th>\n",
       "      <th>text</th>\n",
       "    </tr>\n",
       "  </thead>\n",
       "  <tbody>\n",
       "    <tr>\n",
       "      <th>0</th>\n",
       "      <td>2018</td>\n",
       "      <td>12</td>\n",
       "      <td>11329</td>\n",
       "    </tr>\n",
       "    <tr>\n",
       "      <th>1</th>\n",
       "      <td>2019</td>\n",
       "      <td>1</td>\n",
       "      <td>13180</td>\n",
       "    </tr>\n",
       "    <tr>\n",
       "      <th>2</th>\n",
       "      <td>2019</td>\n",
       "      <td>2</td>\n",
       "      <td>11096</td>\n",
       "    </tr>\n",
       "    <tr>\n",
       "      <th>3</th>\n",
       "      <td>2019</td>\n",
       "      <td>3</td>\n",
       "      <td>10512</td>\n",
       "    </tr>\n",
       "    <tr>\n",
       "      <th>4</th>\n",
       "      <td>2019</td>\n",
       "      <td>4</td>\n",
       "      <td>13064</td>\n",
       "    </tr>\n",
       "    <tr>\n",
       "      <th>5</th>\n",
       "      <td>2019</td>\n",
       "      <td>5</td>\n",
       "      <td>11423</td>\n",
       "    </tr>\n",
       "    <tr>\n",
       "      <th>6</th>\n",
       "      <td>2019</td>\n",
       "      <td>6</td>\n",
       "      <td>13065</td>\n",
       "    </tr>\n",
       "    <tr>\n",
       "      <th>7</th>\n",
       "      <td>2019</td>\n",
       "      <td>7</td>\n",
       "      <td>13906</td>\n",
       "    </tr>\n",
       "    <tr>\n",
       "      <th>8</th>\n",
       "      <td>2019</td>\n",
       "      <td>8</td>\n",
       "      <td>3930</td>\n",
       "    </tr>\n",
       "  </tbody>\n",
       "</table>\n",
       "</div>"
      ],
      "text/plain": [
       "   year  month   text\n",
       "0  2018     12  11329\n",
       "1  2019      1  13180\n",
       "2  2019      2  11096\n",
       "3  2019      3  10512\n",
       "4  2019      4  13064\n",
       "5  2019      5  11423\n",
       "6  2019      6  13065\n",
       "7  2019      7  13906\n",
       "8  2019      8   3930"
      ]
     },
     "execution_count": 67,
     "metadata": {},
     "output_type": "execute_result"
    }
   ],
   "source": [
    "df"
   ]
  },
  {
   "cell_type": "code",
   "execution_count": null,
   "metadata": {},
   "outputs": [],
   "source": []
  },
  {
   "cell_type": "code",
   "execution_count": 68,
   "metadata": {},
   "outputs": [],
   "source": [
    "df['month_year'] = df[['month', 'year']].apply(lambda x: '-'.join(['0'+str(x.month) if x.month<10 else str(x.month),\n",
    "                                                                  str(x.year)]),\n",
    "                                               axis =1)"
   ]
  },
  {
   "cell_type": "code",
   "execution_count": 69,
   "metadata": {},
   "outputs": [],
   "source": [
    "df.columns = ['year', 'month', 'nunique_text', 'month_year']"
   ]
  },
  {
   "cell_type": "code",
   "execution_count": 70,
   "metadata": {},
   "outputs": [],
   "source": [
    "# выберем только те месяцы, в которых количество новостей больше 10\n",
    "df = df[df.nunique_text>10]"
   ]
  },
  {
   "cell_type": "code",
   "execution_count": 71,
   "metadata": {},
   "outputs": [
    {
     "data": {
      "text/html": [
       "<div>\n",
       "<style scoped>\n",
       "    .dataframe tbody tr th:only-of-type {\n",
       "        vertical-align: middle;\n",
       "    }\n",
       "\n",
       "    .dataframe tbody tr th {\n",
       "        vertical-align: top;\n",
       "    }\n",
       "\n",
       "    .dataframe thead th {\n",
       "        text-align: right;\n",
       "    }\n",
       "</style>\n",
       "<table border=\"1\" class=\"dataframe\">\n",
       "  <thead>\n",
       "    <tr style=\"text-align: right;\">\n",
       "      <th></th>\n",
       "      <th>month_year</th>\n",
       "      <th>nunique_text</th>\n",
       "    </tr>\n",
       "  </thead>\n",
       "  <tbody>\n",
       "    <tr>\n",
       "      <th>7</th>\n",
       "      <td>07-2019</td>\n",
       "      <td>13906</td>\n",
       "    </tr>\n",
       "    <tr>\n",
       "      <th>1</th>\n",
       "      <td>01-2019</td>\n",
       "      <td>13180</td>\n",
       "    </tr>\n",
       "    <tr>\n",
       "      <th>6</th>\n",
       "      <td>06-2019</td>\n",
       "      <td>13065</td>\n",
       "    </tr>\n",
       "    <tr>\n",
       "      <th>4</th>\n",
       "      <td>04-2019</td>\n",
       "      <td>13064</td>\n",
       "    </tr>\n",
       "    <tr>\n",
       "      <th>5</th>\n",
       "      <td>05-2019</td>\n",
       "      <td>11423</td>\n",
       "    </tr>\n",
       "    <tr>\n",
       "      <th>0</th>\n",
       "      <td>12-2018</td>\n",
       "      <td>11329</td>\n",
       "    </tr>\n",
       "    <tr>\n",
       "      <th>2</th>\n",
       "      <td>02-2019</td>\n",
       "      <td>11096</td>\n",
       "    </tr>\n",
       "    <tr>\n",
       "      <th>3</th>\n",
       "      <td>03-2019</td>\n",
       "      <td>10512</td>\n",
       "    </tr>\n",
       "    <tr>\n",
       "      <th>8</th>\n",
       "      <td>08-2019</td>\n",
       "      <td>3930</td>\n",
       "    </tr>\n",
       "  </tbody>\n",
       "</table>\n",
       "</div>"
      ],
      "text/plain": [
       "  month_year  nunique_text\n",
       "7    07-2019         13906\n",
       "1    01-2019         13180\n",
       "6    06-2019         13065\n",
       "4    04-2019         13064\n",
       "5    05-2019         11423\n",
       "0    12-2018         11329\n",
       "2    02-2019         11096\n",
       "3    03-2019         10512\n",
       "8    08-2019          3930"
      ]
     },
     "execution_count": 71,
     "metadata": {},
     "output_type": "execute_result"
    }
   ],
   "source": [
    "df[['month_year', 'nunique_text']].sort_values('nunique_text', ascending = False)"
   ]
  },
  {
   "cell_type": "code",
   "execution_count": null,
   "metadata": {},
   "outputs": [],
   "source": []
  },
  {
   "cell_type": "code",
   "execution_count": 72,
   "metadata": {},
   "outputs": [
    {
     "data": {
      "image/png": "[encoded data removed]",
      "text/plain": [
       "<Figure size 1440x720 with 1 Axes>"
      ]
     },
     "metadata": {
      "needs_background": "light"
     },
     "output_type": "display_data"
    }
   ],
   "source": [
    "fig, ax = plt.subplots(figsize=(20, 10))\n",
    "plt.bar(x = df.month_year,\n",
    "        height = df.nunique_text.values)\n",
    "plt.xticks(rotation='vertical')\n",
    "plt.show()"
   ]
  },
  {
   "cell_type": "code",
   "execution_count": null,
   "metadata": {},
   "outputs": [],
   "source": []
  },
  {
   "cell_type": "code",
   "execution_count": 25,
   "metadata": {},
   "outputs": [],
   "source": [
    "import re"
   ]
  },
  {
   "cell_type": "code",
   "execution_count": 73,
   "metadata": {},
   "outputs": [],
   "source": [
    "data_ria.text = data_ria.text.apply(lambda x: re.sub(\"\\«\", \"\", x))"
   ]
  },
  {
   "cell_type": "code",
   "execution_count": 74,
   "metadata": {},
   "outputs": [],
   "source": [
    "data_ria.text = data_ria.text.apply(lambda x: re.sub(\"\\»\", \"\", x))"
   ]
  },
  {
   "cell_type": "code",
   "execution_count": 75,
   "metadata": {},
   "outputs": [],
   "source": [
    "data_ria.text = data_ria.text.apply(lambda x: re.sub(\"\\%\", \"\", x))"
   ]
  },
  {
   "cell_type": "code",
   "execution_count": 76,
   "metadata": {},
   "outputs": [],
   "source": [
    "data_ria.text = data_ria.text.apply(lambda x: re.sub(\"\\,\", \"\", x))"
   ]
  },
  {
   "cell_type": "code",
   "execution_count": 77,
   "metadata": {},
   "outputs": [],
   "source": [
    "data_ria.text = data_ria.text.apply(lambda x: re.sub(\"\\.\", \"\", x))"
   ]
  },
  {
   "cell_type": "code",
   "execution_count": 78,
   "metadata": {},
   "outputs": [],
   "source": [
    "data_ria.text = data_ria.text.apply(lambda x: re.sub(\"\\—\", \"\", x))"
   ]
  },
  {
   "cell_type": "code",
   "execution_count": 79,
   "metadata": {},
   "outputs": [],
   "source": [
    "data_ria.text = data_ria.text.apply(lambda x: re.sub(\"\\-\", \"\", x))"
   ]
  },
  {
   "cell_type": "code",
   "execution_count": 80,
   "metadata": {},
   "outputs": [],
   "source": [
    "data_ria.text = data_ria.text.apply(lambda x: re.sub(\"\\:\", \"\", x))"
   ]
  },
  {
   "cell_type": "code",
   "execution_count": 81,
   "metadata": {},
   "outputs": [],
   "source": [
    "data_ria.text = data_ria.text.apply(lambda x: re.sub(\"\\n\", \"\", x))"
   ]
  },
  {
   "cell_type": "code",
   "execution_count": 82,
   "metadata": {},
   "outputs": [],
   "source": [
    "data_ria.text = data_ria.text.apply(lambda x: re.sub(\"\\/\", \"\", x))"
   ]
  },
  {
   "cell_type": "code",
   "execution_count": 83,
   "metadata": {},
   "outputs": [],
   "source": [
    "data_ria.text = data_ria.text.apply(lambda x: re.sub(\"\\?\", \"\", x))"
   ]
  },
  {
   "cell_type": "code",
   "execution_count": 84,
   "metadata": {},
   "outputs": [],
   "source": [
    "data_ria.text = data_ria.text.apply(lambda x: re.sub(\"\\)\", \"\", x))"
   ]
  },
  {
   "cell_type": "code",
   "execution_count": 85,
   "metadata": {},
   "outputs": [],
   "source": [
    "data_ria.text = data_ria.text.apply(lambda x: re.sub(\"\\(\", \"\", x))"
   ]
  },
  {
   "cell_type": "code",
   "execution_count": 86,
   "metadata": {},
   "outputs": [],
   "source": [
    "data_ria.text = data_ria.text.apply(lambda x: re.sub(\"\\\"\", \"\", x))"
   ]
  },
  {
   "cell_type": "code",
   "execution_count": 87,
   "metadata": {},
   "outputs": [],
   "source": [
    "data_ria.text = data_ria.text.apply(lambda x: re.sub(\"\\''\", \"\", x))"
   ]
  },
  {
   "cell_type": "code",
   "execution_count": 88,
   "metadata": {},
   "outputs": [],
   "source": [
    "data_ria.text = data_ria.text.apply(lambda x: re.sub(\"\\'\", \"\", x))"
   ]
  },
  {
   "cell_type": "code",
   "execution_count": 89,
   "metadata": {},
   "outputs": [],
   "source": [
    "data_ria.text = data_ria.text.apply(lambda x: re.sub(\"\\#\", \"\", x))"
   ]
  },
  {
   "cell_type": "code",
   "execution_count": 90,
   "metadata": {},
   "outputs": [],
   "source": [
    "data_ria.text = data_ria.text.apply(lambda x: re.sub(\"\\;\", \"\", x))"
   ]
  },
  {
   "cell_type": "code",
   "execution_count": 91,
   "metadata": {},
   "outputs": [],
   "source": [
    "data_ria.text = data_ria.text.apply(lambda x: re.sub(\"\\@\", \"\", x))"
   ]
  },
  {
   "cell_type": "code",
   "execution_count": 92,
   "metadata": {},
   "outputs": [],
   "source": [
    "data_ria.text = data_ria.text.apply(lambda x: re.sub(\"\\–\", \"\", x))"
   ]
  },
  {
   "cell_type": "code",
   "execution_count": 46,
   "metadata": {},
   "outputs": [],
   "source": [
    "def text_to_token(text):\n",
    "    text = text.lower()\n",
    "    return wordpunct_tokenize(text)"
   ]
  },
  {
   "cell_type": "code",
   "execution_count": 47,
   "metadata": {},
   "outputs": [],
   "source": [
    "def data_withoun_stopwords(text):\n",
    "    text = [token for token in text if token not in stopwords]\n",
    "    return text"
   ]
  },
  {
   "cell_type": "code",
   "execution_count": 93,
   "metadata": {},
   "outputs": [],
   "source": [
    "dictionary_with_stopwords = FreqDist()"
   ]
  },
  {
   "cell_type": "code",
   "execution_count": 94,
   "metadata": {},
   "outputs": [],
   "source": [
    "dictionary_without_stopwords = FreqDist()"
   ]
  },
  {
   "cell_type": "code",
   "execution_count": null,
   "metadata": {},
   "outputs": [],
   "source": []
  },
  {
   "cell_type": "code",
   "execution_count": 95,
   "metadata": {},
   "outputs": [],
   "source": [
    "for token in data_ria.text.values:\n",
    "    dictionary_with_stopwords.update(text_to_token(token))"
   ]
  },
  {
   "cell_type": "code",
   "execution_count": null,
   "metadata": {},
   "outputs": [],
   "source": []
  },
  {
   "cell_type": "code",
   "execution_count": 52,
   "metadata": {},
   "outputs": [],
   "source": [
    "stopwords = open('../nlp/preprocessing/stopwords.txt', 'r')\n",
    "stopwords = stopwords.read().split('\\n')\n",
    "stopwords += [\"c\",\"а\",\"алло\",\"без\",\"белый\",\"близко\",\"более\",\"больше\",\"большой\",\"будем\",\"будет\",\"будете\",\"будешь\",\"будто\",\"буду\",\"будут\",\"будь\",\"бы\",\"бывает\",\"бывь\",\"был\",\"была\",\"были\",\"было\",\"быть\",\"в\",\"важная\",\"важное\",\"важные\",\"важный\",\"вам\",\"вами\",\"вас\",\"ваш\",\"ваша\",\"ваше\",\"ваши\",\"вверх\",\"вдали\",\"вдруг\",\"ведь\",\"везде\",\"вернуться\",\"весь\",\"вечер\",\"взгляд\",\"взять\",\"вид\",\"видел\",\"видеть\",\"вместе\",\"вне\",\"вниз\",\"внизу\",\"во\",\"вода\",\"война\",\"вокруг\",\"вон\",\"вообще\",\"вопрос\",\"восемнадцатый\",\"восемнадцать\",\"восемь\",\"восьмой\",\"вот\",\"впрочем\",\"времени\",\"время\",\"все\",\"все еще\",\"всегда\",\"всего\",\"всем\",\"всеми\",\"всему\",\"всех\",\"всею\",\"всю\",\"всюду\",\"вся\",\"всё\",\"второй\",\"вы\",\"выйти\",\"г\",\"где\",\"главный\",\"глаз\",\"говорил\",\"говорит\",\"говорить\",\"год\",\"года\",\"году\",\"голова\",\"голос\",\"город\",\"да\",\"давать\",\"давно\",\"даже\",\"далекий\",\"далеко\",\"дальше\",\"даром\",\"дать\",\"два\",\"двадцатый\",\"двадцать\",\"две\",\"двенадцатый\",\"двенадцать\",\"дверь\",\"двух\",\"девятнадцатый\",\"девятнадцать\",\"девятый\",\"девять\",\"действительно\",\"дел\",\"делал\",\"делать\",\"делаю\",\"дело\",\"день\",\"деньги\",\"десятый\",\"десять\",\"для\",\"до\",\"довольно\",\"долго\",\"должен\",\"должно\",\"должный\",\"дом\",\"дорога\",\"друг\",\"другая\",\"другие\",\"других\",\"друго\",\"другое\",\"другой\",\"думать\",\"душа\",\"е\",\"его\",\"ее\",\"ей\",\"ему\",\"если\",\"есть\",\"еще\",\"ещё\",\"ею\",\"её\",\"ж\",\"ждать\",\"же\",\"жена\",\"женщина\",\"жизнь\",\"жить\",\"за\",\"занят\",\"занята\",\"занято\",\"заняты\",\"затем\",\"зато\",\"зачем\",\"здесь\",\"земля\",\"знать\",\"значит\",\"значить\",\"и\",\"иди\",\"идти\",\"из\",\"или\",\"им\",\"имеет\",\"имел\",\"именно\",\"иметь\",\"ими\",\"имя\",\"иногда\",\"их\",\"к\",\"каждая\",\"каждое\",\"каждые\",\"каждый\",\"кажется\",\"казаться\",\"как\",\"какая\",\"какой\",\"кем\",\"книга\",\"когда\",\"кого\",\"ком\",\"комната\",\"кому\",\"конец\",\"конечно\",\"которая\",\"которого\",\"которой\",\"которые\",\"который\",\"которых\",\"кроме\",\"кругом\",\"кто\",\"куда\",\"лежать\",\"лет\",\"ли\",\"лицо\",\"лишь\",\"лучше\",\"любить\",\"люди\",\"м\",\"маленький\",\"мало\",\"мать\",\"машина\",\"между\",\"меля\",\"менее\",\"меньше\",\"меня\",\"место\",\"миллионов\",\"мимо\",\"минута\",\"мир\",\"мира\",\"мне\",\"много\",\"многочисленная\",\"многочисленное\",\"многочисленные\",\"многочисленный\",\"мной\",\"мною\",\"мог\",\"могу\",\"могут\",\"мож\",\"может\",\"может быть\",\"можно\",\"можхо\",\"мои\",\"мой\",\"мор\",\"москва\",\"мочь\",\"моя\",\"моё\",\"мы\",\"на\",\"наверху\",\"над\",\"надо\",\"назад\",\"наиболее\",\"найти\",\"наконец\",\"нам\",\"нами\",\"народ\",\"нас\",\"начала\",\"начать\",\"наш\",\"наша\",\"наше\",\"наши\",\"не\",\"него\",\"недавно\",\"недалеко\",\"нее\",\"ней\",\"некоторый\",\"нельзя\",\"нем\",\"немного\",\"нему\",\"непрерывно\",\"нередко\",\"несколько\",\"нет\",\"нею\",\"неё\",\"ни\",\"нибудь\",\"ниже\",\"низко\",\"никакой\",\"никогда\",\"никто\",\"никуда\",\"ним\",\"ними\",\"них\",\"ничего\",\"ничто\",\"но\",\"новый\",\"нога\",\"ночь\",\"ну\",\"нужно\",\"нужный\",\"нх\",\"о\",\"об\",\"оба\",\"обычно\",\"один\",\"одиннадцатый\",\"одиннадцать\",\"однажды\",\"однако\",\"одного\",\"одной\",\"оказаться\",\"окно\",\"около\",\"он\",\"она\",\"они\",\"оно\",\"опять\",\"особенно\",\"остаться\",\"от\",\"ответить\",\"отец\",\"откуда\",\"отовсюду\",\"отсюда\",\"очень\",\"первый\",\"перед\",\"писать\",\"плечо\",\"по\",\"под\",\"подойди\",\"подумать\",\"пожалуйста\",\"позже\",\"пойти\",\"пока\",\"пол\",\"получить\",\"помнить\",\"понимать\",\"понять\",\"пор\",\"пора\",\"после\",\"последний\",\"посмотреть\",\"посреди\",\"потом\",\"потому\",\"почему\",\"почти\",\"правда\",\"прекрасно\",\"при\",\"про\",\"просто\",\"против\",\"процентов\",\"путь\",\"пятнадцатый\",\"пятнадцать\",\"пятый\",\"пять\",\"работа\",\"работать\",\"раз\",\"разве\",\"рано\",\"раньше\",\"ребенок\",\"решить\",\"россия\",\"рука\",\"русский\",\"ряд\",\"рядом\",\"с\",\"с кем\",\"сам\",\"сама\",\"сами\",\"самим\",\"самими\",\"самих\",\"само\",\"самого\",\"самой\",\"самом\",\"самому\",\"саму\",\"самый\",\"свет\",\"свое\",\"своего\",\"своей\",\"свои\",\"своих\",\"свой\",\"свою\",\"сделать\",\"сеаой\",\"себе\",\"себя\",\"сегодня\",\"седьмой\",\"сейчас\",\"семнадцатый\",\"семнадцать\",\"семь\",\"сидеть\",\"сила\",\"сих\",\"сказал\",\"сказала\",\"сказать\",\"сколько\",\"слишком\",\"слово\",\"случай\",\"смотреть\",\"сначала\",\"снова\",\"со\",\"собой\",\"собою\",\"советский\",\"совсем\",\"спасибо\",\"спросить\",\"сразу\",\"стал\",\"старый\",\"стать\",\"стол\",\"сторона\",\"стоять\",\"страна\",\"суть\",\"считать\",\"т\",\"та\",\"так\",\"такая\",\"также\",\"таки\",\"такие\",\"такое\",\"такой\",\"там\",\"твои\",\"твой\",\"твоя\",\"твоё\",\"те\",\"тебе\",\"тебя\",\"тем\",\"теми\",\"теперь\",\"тех\",\"то\",\"тобой\",\"тобою\",\"товарищ\",\"тогда\",\"того\",\"тоже\",\"только\",\"том\",\"тому\",\"тот\",\"тою\",\"третий\",\"три\",\"тринадцатый\",\"тринадцать\",\"ту\",\"туда\",\"тут\",\"ты\",\"тысяч\",\"у\",\"увидеть\",\"уж\",\"уже\",\"улица\",\"уметь\",\"утро\",\"хороший\",\"хорошо\",\"хотел бы\",\"хотеть\",\"хоть\",\"хотя\",\"хочешь\",\"час\",\"часто\",\"часть\",\"чаще\",\"чего\",\"человек\",\"чем\",\"чему\",\"через\",\"четвертый\",\"четыре\",\"четырнадцатый\",\"четырнадцать\",\"что\",\"чтоб\",\"чтобы\",\"чуть\",\"шестнадцатый\",\"шестнадцать\",\"шестой\",\"шесть\",\"эта\",\"эти\",\"этим\",\"этими\",\"этих\",\"это\",\"этого\",\"этой\",\"этом\",\"этому\",\"этот\",\"эту\",\"я\",\"являюсь\"]"
   ]
  },
  {
   "cell_type": "code",
   "execution_count": null,
   "metadata": {},
   "outputs": [],
   "source": []
  },
  {
   "cell_type": "code",
   "execution_count": 96,
   "metadata": {},
   "outputs": [],
   "source": [
    "for token in data_ria.text.values:\n",
    "    dictionary_without_stopwords.update(data_withoun_stopwords(text_to_token(token)))"
   ]
  },
  {
   "cell_type": "code",
   "execution_count": null,
   "metadata": {},
   "outputs": [],
   "source": []
  },
  {
   "cell_type": "code",
   "execution_count": 97,
   "metadata": {},
   "outputs": [
    {
     "data": {
      "text/plain": [
       "[('в', 828717),\n",
       " ('и', 430548),\n",
       " ('на', 319834),\n",
       " ('что', 221287),\n",
       " ('с', 191804),\n",
       " ('по', 184939),\n",
       " ('не', 141774),\n",
       " ('риа', 135851),\n",
       " ('о', 88570),\n",
       " ('из', 82905),\n",
       " ('к', 68388),\n",
       " ('для', 68387),\n",
       " ('его', 61122),\n",
       " ('за', 59753),\n",
       " ('москва', 59146),\n",
       " ('а', 55839),\n",
       " ('года', 55012),\n",
       " ('от', 54302),\n",
       " ('как', 49349),\n",
       " ('также', 49147)]"
      ]
     },
     "execution_count": 97,
     "metadata": {},
     "output_type": "execute_result"
    }
   ],
   "source": [
    "# Посмотрим 20 самых популярных слов без удаления стопслов и построим по ним график\n",
    "dictionary_with_stopwords.most_common(20)"
   ]
  },
  {
   "cell_type": "code",
   "execution_count": 98,
   "metadata": {},
   "outputs": [
    {
     "data": {
      "image/png": "[encoded data removed]",
      "text/plain": [
       "<Figure size 864x432 with 1 Axes>"
      ]
     },
     "metadata": {},
     "output_type": "display_data"
    }
   ],
   "source": [
    "x = dict(dictionary_with_stopwords.most_common(20)).keys()\n",
    "y = dict(dictionary_with_stopwords.most_common(20)).values()\n",
    "\n",
    "fig, ax = plt.subplots()\n",
    "\n",
    "ax.bar(x, y)\n",
    "ax.set_title('TOP-20 слов без удаления стопслов')\n",
    "ax.set_ylabel('Частота')\n",
    "ax.set_xlabel('Слова')\n",
    "\n",
    "ax.set_facecolor('seashell')\n",
    "fig.set_facecolor('floralwhite')\n",
    "fig.set_figwidth(12)    #  ширина Figure\n",
    "fig.set_figheight(6)    #  высота Figure\n",
    "\n",
    "\n",
    "plt.show()"
   ]
  },
  {
   "cell_type": "code",
   "execution_count": null,
   "metadata": {},
   "outputs": [],
   "source": []
  },
  {
   "cell_type": "code",
   "execution_count": 99,
   "metadata": {},
   "outputs": [
    {
     "data": {
      "text/plain": [
       "[('риа', 135851),\n",
       " ('россии', 48372),\n",
       " ('сша', 44405),\n",
       " ('рф', 43725),\n",
       " ('заявил', 43247),\n",
       " ('новости', 37835),\n",
       " ('новостиn', 34632),\n",
       " ('словам', 28215),\n",
       " ('украины', 26949),\n",
       " ('сообщил', 25940),\n",
       " ('данным', 25891),\n",
       " ('президента', 24129),\n",
       " ('говорится', 21743),\n",
       " ('области', 19379),\n",
       " ('мая', 19172),\n",
       " ('страны', 18344),\n",
       " ('отметил', 17992),\n",
       " ('глава', 16287),\n",
       " ('изза', 15825),\n",
       " ('сообщает', 14961)]"
      ]
     },
     "execution_count": 99,
     "metadata": {},
     "output_type": "execute_result"
    }
   ],
   "source": [
    "# Посмотрим 20 самых популярных слов после удаления стопслов и построим по ним график\n",
    "dictionary_without_stopwords.most_common(20)"
   ]
  },
  {
   "cell_type": "code",
   "execution_count": 100,
   "metadata": {},
   "outputs": [
    {
     "data": {
      "image/png": "[encoded data removed]",
      "text/plain": [
       "<Figure size 1800x720 with 1 Axes>"
      ]
     },
     "metadata": {},
     "output_type": "display_data"
    }
   ],
   "source": [
    "x = dict(dictionary_without_stopwords.most_common(20)).keys()\n",
    "y = dict(dictionary_without_stopwords.most_common(20)).values()\n",
    "\n",
    "fig, ax = plt.subplots()\n",
    "\n",
    "ax.bar(x, y)\n",
    "ax.set_title('TOP-20 слов после удаления стопслов')\n",
    "ax.set_ylabel('Частота')\n",
    "ax.set_xlabel('Слова')\n",
    "\n",
    "ax.set_facecolor('seashell')\n",
    "fig.set_facecolor('floralwhite')\n",
    "fig.set_figwidth(25)    #  ширина Figure\n",
    "fig.set_figheight(10)    #  высота Figure\n",
    "\n",
    "\n",
    "plt.show()"
   ]
  },
  {
   "cell_type": "code",
   "execution_count": null,
   "metadata": {},
   "outputs": [],
   "source": []
  },
  {
   "cell_type": "code",
   "execution_count": null,
   "metadata": {},
   "outputs": [],
   "source": []
  },
  {
   "cell_type": "markdown",
   "metadata": {},
   "source": [
    "### Рубрики Ria"
   ]
  },
  {
   "cell_type": "code",
   "execution_count": 16,
   "metadata": {},
   "outputs": [
    {
     "name": "stdout",
     "output_type": "stream",
     "text": [
      "Количество рубрик =  (1120,)\n"
     ]
    },
    {
     "data": {
      "text/plain": [
       "array(['Происшествия', 'В мире', 'Экономика', ...,\n",
       "       'ЧП на военном складе в Красноярском крае', 'Лиссабон (город)',\n",
       "       'The Guardian'], dtype=object)"
      ]
     },
     "execution_count": 16,
     "metadata": {},
     "output_type": "execute_result"
    }
   ],
   "source": [
    "# Считаем количество рубрик в датасете Ria, а также выведем значения\n",
    "print('Количество рубрик = ', data_ria.topics.unique().shape)\n",
    "data_ria['topics'].unique()"
   ]
  },
  {
   "cell_type": "code",
   "execution_count": 16,
   "metadata": {},
   "outputs": [
    {
     "data": {
      "text/plain": [
       "topics\n",
       "2 февраля - день сурка      1\n",
       "BAFTA                       1\n",
       "BBC                         8\n",
       "Cirque du Soleil            1\n",
       "Comedy Club Production      1\n",
       "                         ... \n",
       "пассажиры                   1\n",
       "психология                  1\n",
       "религия                   192\n",
       "самолеты                    2\n",
       "туристы                    21\n",
       "Name: topics, Length: 1120, dtype: int64"
      ]
     },
     "execution_count": 16,
     "metadata": {},
     "output_type": "execute_result"
    }
   ],
   "source": [
    "data_ria.groupby('topics')['topics'].count()"
   ]
  },
  {
   "cell_type": "code",
   "execution_count": null,
   "metadata": {},
   "outputs": [],
   "source": []
  },
  {
   "cell_type": "markdown",
   "metadata": {},
   "source": [
    "Тут надо разбираться, все ли рубрики нам нужны"
   ]
  },
  {
   "cell_type": "code",
   "execution_count": null,
   "metadata": {},
   "outputs": [],
   "source": []
  },
  {
   "cell_type": "code",
   "execution_count": null,
   "metadata": {},
   "outputs": [],
   "source": []
  },
  {
   "cell_type": "code",
   "execution_count": null,
   "metadata": {},
   "outputs": [],
   "source": []
  },
  {
   "cell_type": "code",
   "execution_count": null,
   "metadata": {},
   "outputs": [],
   "source": []
  },
  {
   "cell_type": "code",
   "execution_count": null,
   "metadata": {},
   "outputs": [],
   "source": []
  },
  {
   "cell_type": "code",
   "execution_count": null,
   "metadata": {},
   "outputs": [],
   "source": []
  },
  {
   "cell_type": "code",
   "execution_count": null,
   "metadata": {},
   "outputs": [],
   "source": []
  },
  {
   "cell_type": "code",
   "execution_count": null,
   "metadata": {},
   "outputs": [],
   "source": []
  },
  {
   "cell_type": "code",
   "execution_count": null,
   "metadata": {},
   "outputs": [],
   "source": []
  },
  {
   "cell_type": "code",
   "execution_count": null,
   "metadata": {},
   "outputs": [],
   "source": []
  },
  {
   "cell_type": "code",
   "execution_count": null,
   "metadata": {},
   "outputs": [],
   "source": []
  },
  {
   "cell_type": "code",
   "execution_count": null,
   "metadata": {},
   "outputs": [],
   "source": []
  },
  {
   "cell_type": "code",
   "execution_count": null,
   "metadata": {},
   "outputs": [],
   "source": []
  },
  {
   "cell_type": "code",
   "execution_count": null,
   "metadata": {},
   "outputs": [],
   "source": []
  },
  {
   "cell_type": "code",
   "execution_count": null,
   "metadata": {},
   "outputs": [],
   "source": []
  },
  {
   "cell_type": "code",
   "execution_count": null,
   "metadata": {},
   "outputs": [],
   "source": []
  }
 ],
 "metadata": {
  "kernelspec": {
   "display_name": "Python 3",
   "language": "python",
   "name": "python3"
  },
  "language_info": {
   "codemirror_mode": {
    "name": "ipython",
    "version": 3
   },
   "file_extension": ".py",
   "mimetype": "text/x-python",
   "name": "python",
   "nbconvert_exporter": "python",
   "pygments_lexer": "ipython3",
   "version": "3.7.4"
  }
 },
 "nbformat": 4,
 "nbformat_minor": 2
}
