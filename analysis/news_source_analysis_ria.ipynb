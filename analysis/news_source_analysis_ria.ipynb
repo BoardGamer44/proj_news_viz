{
 "cells": [
  {
   "cell_type": "markdown",
   "metadata": {},
   "source": [
    "# Анализ источников новостей"
   ]
  },
  {
   "cell_type": "markdown",
   "metadata": {},
   "source": [
    "Цель данного исследования: проанализировать источники новостных лент, сравнить рубрики, подумать над возможностью добавление\\удаление категорий для проекта \"Радар новостей рунета\""
   ]
  },
  {
   "cell_type": "code",
   "execution_count": 4,
   "metadata": {},
   "outputs": [],
   "source": [
    "import numpy as np\n",
    "import pandas as pd\n",
    "import datetime as DT\n",
    "import matplotlib.pyplot as plt"
   ]
  },
  {
   "cell_type": "code",
   "execution_count": 5,
   "metadata": {},
   "outputs": [],
   "source": [
    "import itertools\n",
    "from collections import Counter\n",
    "from string import punctuation\n",
    "from razdel import tokenize"
   ]
  },
  {
   "cell_type": "markdown",
   "metadata": {},
   "source": [
    "## Датасет RIA. Предварительная обработка"
   ]
  },
  {
   "cell_type": "markdown",
   "metadata": {},
   "source": [
    "Загрузим датасет ria. Одновременно сделаем преобразование даты из строки"
   ]
  },
  {
   "cell_type": "code",
   "execution_count": 6,
   "metadata": {},
   "outputs": [],
   "source": [
    "dateparse = lambda x: pd.datetime.strptime(x, \"%Y-%m-%d %H:%M:%S\")"
   ]
  },
  {
   "cell_type": "code",
   "execution_count": 7,
   "metadata": {},
   "outputs": [
    {
     "name": "stderr",
     "output_type": "stream",
     "text": [
      "b'Skipping line 49866: expected 17 fields, saw 33\\n'\n"
     ]
    }
   ],
   "source": [
    "data_ria = pd.read_csv('../data/ria.csv',\n",
    "                      sep=',',\n",
    "                      index_col=False,\n",
    "                      escapechar='\\\\',\n",
    "                      parse_dates=['date'],\n",
    "                      date_parser=dateparse,\n",
    "                      quotechar='\\\"', error_bad_lines=False)"
   ]
  },
  {
   "cell_type": "code",
   "execution_count": 8,
   "metadata": {},
   "outputs": [
    {
     "data": {
      "text/plain": [
       "date           datetime64[ns]\n",
       "url                    object\n",
       "edition                object\n",
       "topics                 object\n",
       "authors               float64\n",
       "title                  object\n",
       "text                   object\n",
       "reposts_fb             object\n",
       "reposts_vk             object\n",
       "reposts_ok             object\n",
       "reposts_twi            object\n",
       "reposts_lj             object\n",
       "reposts_tg             object\n",
       "likes                   int64\n",
       "views                   int64\n",
       "comm_count             object\n",
       "dtype: object"
      ]
     },
     "execution_count": 8,
     "metadata": {},
     "output_type": "execute_result"
    }
   ],
   "source": [
    "# Проверим преобразование\n",
    "data_ria.dtypes"
   ]
  },
  {
   "cell_type": "code",
   "execution_count": 9,
   "metadata": {},
   "outputs": [
    {
     "data": {
      "text/plain": [
       "(101543, 16)"
      ]
     },
     "execution_count": 9,
     "metadata": {},
     "output_type": "execute_result"
    }
   ],
   "source": [
    "data_ria.shape"
   ]
  },
  {
   "cell_type": "code",
   "execution_count": 10,
   "metadata": {},
   "outputs": [
    {
     "data": {
      "text/html": [
       "<div>\n",
       "<style scoped>\n",
       "    .dataframe tbody tr th:only-of-type {\n",
       "        vertical-align: middle;\n",
       "    }\n",
       "\n",
       "    .dataframe tbody tr th {\n",
       "        vertical-align: top;\n",
       "    }\n",
       "\n",
       "    .dataframe thead th {\n",
       "        text-align: right;\n",
       "    }\n",
       "</style>\n",
       "<table border=\"1\" class=\"dataframe\">\n",
       "  <thead>\n",
       "    <tr style=\"text-align: right;\">\n",
       "      <th></th>\n",
       "      <th>date</th>\n",
       "      <th>url</th>\n",
       "      <th>edition</th>\n",
       "      <th>topics</th>\n",
       "      <th>authors</th>\n",
       "      <th>title</th>\n",
       "      <th>text</th>\n",
       "      <th>reposts_fb</th>\n",
       "      <th>reposts_vk</th>\n",
       "      <th>reposts_ok</th>\n",
       "      <th>reposts_twi</th>\n",
       "      <th>reposts_lj</th>\n",
       "      <th>reposts_tg</th>\n",
       "      <th>likes</th>\n",
       "      <th>views</th>\n",
       "      <th>comm_count</th>\n",
       "    </tr>\n",
       "  </thead>\n",
       "  <tbody>\n",
       "    <tr>\n",
       "      <th>0</th>\n",
       "      <td>2019-08-10 06:35:00</td>\n",
       "      <td>https://ria.ru/20190810/1557366973.html</td>\n",
       "      <td>ria.ru</td>\n",
       "      <td>Происшествия</td>\n",
       "      <td>NaN</td>\n",
       "      <td>Восемнадцать туристов застряли на пляже в Прим...</td>\n",
       "      <td>ВЛАДИВОСТОК, 10 авг – РИА Новости.nВосемнадцат...</td>\n",
       "      <td>-</td>\n",
       "      <td>-</td>\n",
       "      <td>-</td>\n",
       "      <td>-</td>\n",
       "      <td>-</td>\n",
       "      <td>-</td>\n",
       "      <td>0</td>\n",
       "      <td>70</td>\n",
       "      <td>-</td>\n",
       "    </tr>\n",
       "    <tr>\n",
       "      <th>1</th>\n",
       "      <td>2019-08-10 03:25:00</td>\n",
       "      <td>https://ria.ru/20190810/1557366343.html</td>\n",
       "      <td>ria.ru</td>\n",
       "      <td>В мире</td>\n",
       "      <td>NaN</td>\n",
       "      <td>Президент Парагвая даст показания по делу о сп...</td>\n",
       "      <td>БУЭНОС-АЙРЕС, 10 авг – РИА Новости.nПрезидент ...</td>\n",
       "      <td>-</td>\n",
       "      <td>-</td>\n",
       "      <td>-</td>\n",
       "      <td>-</td>\n",
       "      <td>-</td>\n",
       "      <td>-</td>\n",
       "      <td>1</td>\n",
       "      <td>177</td>\n",
       "      <td>-</td>\n",
       "    </tr>\n",
       "    <tr>\n",
       "      <th>2</th>\n",
       "      <td>2019-08-10 03:26:00</td>\n",
       "      <td>https://ria.ru/20190810/1557366366.html</td>\n",
       "      <td>ria.ru</td>\n",
       "      <td>В мире</td>\n",
       "      <td>NaN</td>\n",
       "      <td>Андрейченко обвинили в угрозе теракта после но...</td>\n",
       "      <td>МОСКВА, 10 авг - РИА Новости.nДмитрию Андрейче...</td>\n",
       "      <td>-</td>\n",
       "      <td>-</td>\n",
       "      <td>-</td>\n",
       "      <td>-</td>\n",
       "      <td>-</td>\n",
       "      <td>-</td>\n",
       "      <td>2</td>\n",
       "      <td>919</td>\n",
       "      <td>-</td>\n",
       "    </tr>\n",
       "    <tr>\n",
       "      <th>3</th>\n",
       "      <td>2019-08-10 03:31:00</td>\n",
       "      <td>https://ria.ru/20190810/1557366398.html</td>\n",
       "      <td>ria.ru</td>\n",
       "      <td>В мире</td>\n",
       "      <td>NaN</td>\n",
       "      <td>Япония заявила, что не испугалась субботних пу...</td>\n",
       "      <td>МОСКВА, 10 авг - РИА Новости.nПравительство Яп...</td>\n",
       "      <td>-</td>\n",
       "      <td>-</td>\n",
       "      <td>-</td>\n",
       "      <td>-</td>\n",
       "      <td>-</td>\n",
       "      <td>-</td>\n",
       "      <td>1</td>\n",
       "      <td>140</td>\n",
       "      <td>-</td>\n",
       "    </tr>\n",
       "    <tr>\n",
       "      <th>4</th>\n",
       "      <td>2019-08-10 03:32:00</td>\n",
       "      <td>https://ria.ru/20190810/1557366421.html</td>\n",
       "      <td>ria.ru</td>\n",
       "      <td>Происшествия</td>\n",
       "      <td>NaN</td>\n",
       "      <td>Власти Якутии погасят долг перед жителями, уча...</td>\n",
       "      <td>ЯКУТСК, 10 авг – РИА Новости.nСредства резервн...</td>\n",
       "      <td>-</td>\n",
       "      <td>-</td>\n",
       "      <td>-</td>\n",
       "      <td>-</td>\n",
       "      <td>-</td>\n",
       "      <td>-</td>\n",
       "      <td>3</td>\n",
       "      <td>1196</td>\n",
       "      <td>-</td>\n",
       "    </tr>\n",
       "  </tbody>\n",
       "</table>\n",
       "</div>"
      ],
      "text/plain": [
       "                 date                                      url edition  \\\n",
       "0 2019-08-10 06:35:00  https://ria.ru/20190810/1557366973.html  ria.ru   \n",
       "1 2019-08-10 03:25:00  https://ria.ru/20190810/1557366343.html  ria.ru   \n",
       "2 2019-08-10 03:26:00  https://ria.ru/20190810/1557366366.html  ria.ru   \n",
       "3 2019-08-10 03:31:00  https://ria.ru/20190810/1557366398.html  ria.ru   \n",
       "4 2019-08-10 03:32:00  https://ria.ru/20190810/1557366421.html  ria.ru   \n",
       "\n",
       "         topics  authors                                              title  \\\n",
       "0  Происшествия      NaN  Восемнадцать туристов застряли на пляже в Прим...   \n",
       "1        В мире      NaN  Президент Парагвая даст показания по делу о сп...   \n",
       "2        В мире      NaN  Андрейченко обвинили в угрозе теракта после но...   \n",
       "3        В мире      NaN  Япония заявила, что не испугалась субботних пу...   \n",
       "4  Происшествия      NaN  Власти Якутии погасят долг перед жителями, уча...   \n",
       "\n",
       "                                                text reposts_fb reposts_vk  \\\n",
       "0  ВЛАДИВОСТОК, 10 авг – РИА Новости.nВосемнадцат...          -          -   \n",
       "1  БУЭНОС-АЙРЕС, 10 авг – РИА Новости.nПрезидент ...          -          -   \n",
       "2  МОСКВА, 10 авг - РИА Новости.nДмитрию Андрейче...          -          -   \n",
       "3  МОСКВА, 10 авг - РИА Новости.nПравительство Яп...          -          -   \n",
       "4  ЯКУТСК, 10 авг – РИА Новости.nСредства резервн...          -          -   \n",
       "\n",
       "  reposts_ok reposts_twi reposts_lj reposts_tg  likes  views comm_count  \n",
       "0          -           -          -          -      0     70          -  \n",
       "1          -           -          -          -      1    177          -  \n",
       "2          -           -          -          -      2    919          -  \n",
       "3          -           -          -          -      1    140          -  \n",
       "4          -           -          -          -      3   1196          -  "
      ]
     },
     "execution_count": 10,
     "metadata": {},
     "output_type": "execute_result"
    }
   ],
   "source": [
    "# Так выглядет датасет ria\n",
    "data_ria.head()"
   ]
  },
  {
   "cell_type": "code",
   "execution_count": null,
   "metadata": {},
   "outputs": [],
   "source": []
  },
  {
   "cell_type": "code",
   "execution_count": 11,
   "metadata": {},
   "outputs": [
    {
     "data": {
      "text/plain": [
       "date           False\n",
       "url            False\n",
       "edition        False\n",
       "topics         False\n",
       "authors         True\n",
       "title          False\n",
       "text            True\n",
       "reposts_fb     False\n",
       "reposts_vk     False\n",
       "reposts_ok     False\n",
       "reposts_twi    False\n",
       "reposts_lj     False\n",
       "reposts_tg     False\n",
       "likes          False\n",
       "views          False\n",
       "comm_count     False\n",
       "dtype: bool"
      ]
     },
     "execution_count": 11,
     "metadata": {},
     "output_type": "execute_result"
    }
   ],
   "source": [
    "# Выясним в каким столбцах есть пустые данные\n",
    "data_ria.isnull().any()"
   ]
  },
  {
   "cell_type": "code",
   "execution_count": null,
   "metadata": {},
   "outputs": [],
   "source": []
  },
  {
   "cell_type": "code",
   "execution_count": 12,
   "metadata": {},
   "outputs": [
    {
     "name": "stdout",
     "output_type": "stream",
     "text": [
      "Кол-во строк с значением NaN в столбце \"Text\" =  2\n"
     ]
    },
    {
     "data": {
      "text/html": [
       "<div>\n",
       "<style scoped>\n",
       "    .dataframe tbody tr th:only-of-type {\n",
       "        vertical-align: middle;\n",
       "    }\n",
       "\n",
       "    .dataframe tbody tr th {\n",
       "        vertical-align: top;\n",
       "    }\n",
       "\n",
       "    .dataframe thead th {\n",
       "        text-align: right;\n",
       "    }\n",
       "</style>\n",
       "<table border=\"1\" class=\"dataframe\">\n",
       "  <thead>\n",
       "    <tr style=\"text-align: right;\">\n",
       "      <th></th>\n",
       "      <th>date</th>\n",
       "      <th>url</th>\n",
       "      <th>edition</th>\n",
       "      <th>topics</th>\n",
       "      <th>authors</th>\n",
       "      <th>title</th>\n",
       "      <th>text</th>\n",
       "      <th>reposts_fb</th>\n",
       "      <th>reposts_vk</th>\n",
       "      <th>reposts_ok</th>\n",
       "      <th>reposts_twi</th>\n",
       "      <th>reposts_lj</th>\n",
       "      <th>reposts_tg</th>\n",
       "      <th>likes</th>\n",
       "      <th>views</th>\n",
       "      <th>comm_count</th>\n",
       "    </tr>\n",
       "  </thead>\n",
       "  <tbody>\n",
       "    <tr>\n",
       "      <th>45983</th>\n",
       "      <td>2019-02-26 14:22:00</td>\n",
       "      <td>https://ria.ru/20190226/1551377894.html</td>\n",
       "      <td>ria.ru</td>\n",
       "      <td>Общество</td>\n",
       "      <td>NaN</td>\n",
       "      <td>Самый красивый трамвайный маршрут России</td>\n",
       "      <td>NaN</td>\n",
       "      <td>-</td>\n",
       "      <td>-</td>\n",
       "      <td>-</td>\n",
       "      <td>-</td>\n",
       "      <td>-</td>\n",
       "      <td>-</td>\n",
       "      <td>3</td>\n",
       "      <td>1140</td>\n",
       "      <td>-</td>\n",
       "    </tr>\n",
       "    <tr>\n",
       "      <th>97961</th>\n",
       "      <td>2019-07-29 16:15:00</td>\n",
       "      <td>https://ria.ru/20190729/1556918528.html</td>\n",
       "      <td>ria.ru</td>\n",
       "      <td>Безопасность</td>\n",
       "      <td>NaN</td>\n",
       "      <td>Крылья России. Самолёты ОКБ Сухого</td>\n",
       "      <td>NaN</td>\n",
       "      <td>-</td>\n",
       "      <td>-</td>\n",
       "      <td>-</td>\n",
       "      <td>-</td>\n",
       "      <td>-</td>\n",
       "      <td>-</td>\n",
       "      <td>43</td>\n",
       "      <td>1383</td>\n",
       "      <td>-</td>\n",
       "    </tr>\n",
       "  </tbody>\n",
       "</table>\n",
       "</div>"
      ],
      "text/plain": [
       "                     date                                      url edition  \\\n",
       "45983 2019-02-26 14:22:00  https://ria.ru/20190226/1551377894.html  ria.ru   \n",
       "97961 2019-07-29 16:15:00  https://ria.ru/20190729/1556918528.html  ria.ru   \n",
       "\n",
       "             topics  authors                                     title text  \\\n",
       "45983      Общество      NaN  Самый красивый трамвайный маршрут России  NaN   \n",
       "97961  Безопасность      NaN        Крылья России. Самолёты ОКБ Сухого  NaN   \n",
       "\n",
       "      reposts_fb reposts_vk reposts_ok reposts_twi reposts_lj reposts_tg  \\\n",
       "45983          -          -          -           -          -          -   \n",
       "97961          -          -          -           -          -          -   \n",
       "\n",
       "       likes  views comm_count  \n",
       "45983      3   1140          -  \n",
       "97961     43   1383          -  "
      ]
     },
     "execution_count": 12,
     "metadata": {},
     "output_type": "execute_result"
    }
   ],
   "source": [
    "print('Кол-во строк с значением NaN в столбце \"Text\" = ', data_ria['text'].isnull().sum())\n",
    "data_ria[data_ria['text'].isnull()].head()"
   ]
  },
  {
   "cell_type": "code",
   "execution_count": null,
   "metadata": {},
   "outputs": [],
   "source": []
  },
  {
   "cell_type": "code",
   "execution_count": 13,
   "metadata": {},
   "outputs": [],
   "source": [
    "#Удалим эти строки\n",
    "data_ria.drop(data_ria[data_ria.text.isnull()].index, inplace=True)"
   ]
  },
  {
   "cell_type": "code",
   "execution_count": 14,
   "metadata": {},
   "outputs": [
    {
     "name": "stdout",
     "output_type": "stream",
     "text": [
      "Кол-во строк с значением NaN в столбце \"Text\" =  0\n"
     ]
    }
   ],
   "source": [
    "print('Кол-во строк с значением NaN в столбце \"Text\" = ', data_ria['text'].isnull().sum())"
   ]
  },
  {
   "cell_type": "markdown",
   "metadata": {},
   "source": [
    "Посмотрим сколько элементов Nan в столбце авторов"
   ]
  },
  {
   "cell_type": "code",
   "execution_count": 15,
   "metadata": {},
   "outputs": [
    {
     "name": "stdout",
     "output_type": "stream",
     "text": [
      "Кол-во строк с значением NaN в столбце \"authors\" =  101541\n"
     ]
    }
   ],
   "source": [
    "print('Кол-во строк с значением NaN в столбце \"authors\" = ', data_ria['authors'].isnull().sum())"
   ]
  },
  {
   "cell_type": "markdown",
   "metadata": {},
   "source": [
    "Как видим все значения авторов Nan. Можно не использовать данные столбец"
   ]
  },
  {
   "cell_type": "markdown",
   "metadata": {},
   "source": [
    "Посмотрим, что в столбцах, которые содержат дефис, как обозначение пустых данных"
   ]
  },
  {
   "cell_type": "code",
   "execution_count": 19,
   "metadata": {},
   "outputs": [],
   "source": [
    "def analysis_columns(columns):\n",
    "    for column in columns:\n",
    "        if column not in ['url', 'date', 'topics', 'authors', 'title', 'text']:\n",
    "            yield(print(str(column) + ':', data_ria[column].unique()))"
   ]
  },
  {
   "cell_type": "code",
   "execution_count": 20,
   "metadata": {},
   "outputs": [
    {
     "name": "stdout",
     "output_type": "stream",
     "text": [
      "edition: ['ria.ru']\n",
      "reposts_fb: ['-']\n",
      "reposts_vk: ['-']\n",
      "reposts_ok: ['-']\n",
      "reposts_twi: ['-']\n",
      "reposts_lj: ['-']\n",
      "reposts_tg: ['-']\n",
      "likes: [    0     1     2     3    14    63    19     5    16   151     6    11\n",
      "     4    29    13   184     8     7    10    30    28    18   108    95\n",
      "   239    36    24   333   257    51    39     9    88    77    27    46\n",
      "    12    70    23    22    34    67   100   421   256   381   318    33\n",
      "    55   141    32   189    64    15   619    45    20   165    54   646\n",
      "    82   160    81   250   216    17    50    31    47   161   366    75\n",
      "   114    25   245   434    53    21   392   109   628   674   835   133\n",
      "   402    43    59    52    26   113   219   474    74   289    83   397\n",
      "   375    68   315    56   564   128   356    80    49   106   195  1043\n",
      "   111    94    73   755   238   470    84    69   607   115   139    57\n",
      "   145    62    35   155    44    37    60    79   263    71   362   104\n",
      "    42   231    58  1502    99  1971   188   267   667   118    89   187\n",
      "   183    38   228   121   181   192   142   101    41   408    90   148\n",
      "   191   979    85   678    40   159  1733    65   107   716   119   253\n",
      "   729   653  1196   150   472    48   112   266   176   287  1103   761\n",
      "   427   349  1166   327   280   179   131   190   527   662   103    97\n",
      "   170   900   941  1472   225   132   138   122   269   535   168   136\n",
      "   229  1573    66   236   365    61   173   147   719   157   807   468\n",
      "   412    72   420   197   805   403  1009   794   871   237   410   243\n",
      "  1264   116   615   135   829    87  1068    86   252   129   217   348\n",
      "   212  1216   616   186   283   411   110   295   659   210   433   449\n",
      "   117  1105   102   451   254   258   424   120    93   177 57186   304\n",
      "   149   606   550   194   204   768   234  1025   222   172   272   275\n",
      "   386   262  1334    92  1084   513    98   556   775   473   407   447\n",
      "    76   916   320   286   352   416   342   205   125   153  1482   510\n",
      "   271   130   171   164   714   614   603   445  1106   213   326   240\n",
      "   481   822   232   297   162   321   309   868   290   124   525   454\n",
      "   282    96   298   261   849  1428  1057   126  1916   498   475   143\n",
      "   299   961   207   175    78   331   389   276   292   209    91   602\n",
      "   180   823   249   345   339   347   956   741  1199   798   134   284\n",
      "   519   221   567   589   311   105   218   460  1096   323   152   268\n",
      "   200   264   338   368   154   288   522   512   360   808  1341  1448\n",
      "   137   144   251   390   163   730   544   246   193   501   208   506\n",
      "   697   484  2241   526   593   641   312   343   201   494   242   802\n",
      "   480   537   178   156  1194   226   198   233   623   361  1208   167\n",
      "   244   313   334   353   374   325   310   340   405   401   305   680\n",
      "   488   548   369   609  1764   355   319   372   146   400   608   516\n",
      "   206   277   448   744   432   884  1690   341   140   388   367   515\n",
      "   776   203   302   306  1195   385   227   223   721   123  1728   863\n",
      "   281   604   431   590   344   317   655   819   384   127   324  1094\n",
      "   618  1020   404   464   495    -1   595   332   182   316   493  1090\n",
      "   270  2908   247   843  1042   452   483   446   419   465   174  1886\n",
      "  1424   279   456   429   330   199   379   683   418   690  1365   337\n",
      "   613   382   453   879   461   540   839  1150   817   291  1295   314\n",
      "  1087   946   395   610   215  1887   296   694   750   702   235   880\n",
      "   440   214  1206   479   308   413  1964   335   546   584   772   439\n",
      "   477   259   364   459   443  1364   509   734   354   394   274   378\n",
      "   591   458   467   422   396   696  1244   301   541   463   303   563\n",
      "   359  1093   536   718   391   371   883   336   220   569   503   202\n",
      "   746   307   523   169   376  1401   329   520   796   496   502  1085\n",
      "  2809  1007   185   196  1275  1730   815   158   636   561   351   617\n",
      "   852   577   874   507   417   715   671  1533   803   224   265   695\n",
      "   398   565   559  2471   652   740  2099   504   773   658   278   363\n",
      "   524   533   625   876   598   579  1287   891  1462   497   570   285\n",
      "   783   491   821   634   294   444   230   791   627  1241   856   710\n",
      "   725   635   767   542   948  1220   489   887  2258  2423  1111   578\n",
      "   932  1210   255  2492   490   438   699   547   963   241  1403   573\n",
      "   809   643   752   552  1134   406  1453   629   300   757   414   816\n",
      "   684   568  1827  1676   995  3134   919   728  1091  1112  2315   592\n",
      "   864  1073   877   482   383   350   387   554  1081   471   442   322\n",
      "   528   545   751  1041  1736  1224   907   801  1051   521   166   430\n",
      "  1236   370   437   211  3592  1352   485   530   707   902   679   508\n",
      "  1710   393   836  1478  2408  1062   426   758   586   759   675   517\n",
      "   656   373   505  1045   722  1332   626   346   949   558   947   357\n",
      "   990  1024   770  1033   779   435  1653   769  1202   781  2075   666\n",
      "   549   637   700   657   583   466  1384  1272  2044   572   840  1231\n",
      "  1002  2230   441   293  1131   753   983   669   938   582   955  1380\n",
      "   762  1933   760   492  3114   731  1191   968  1089   260   790   612\n",
      "  1628  2252  1291   998   920  1005   631   380  1552  1171   774   538\n",
      "  1409   457  1318  1865   988   763  1363   620  1320   534   248  1949\n",
      "   543  1449   511   486  4118  1098  3155   450  1340   709   328  1136\n",
      "  2073   566   571   738  2312  1255  1035  1943   708   455  1823  1594\n",
      "  1110   557   806   575   830   985   991   673   647  1032   899   853\n",
      "  1418   648   273  1715   912   415  1545  1153  3779  1376   986  1232\n",
      "  1351   913   670  1329   531  1582  1571   704   739   436  1447   789\n",
      "  3036   587   854  1133  1230  1314   539   654   621   551   703   834\n",
      "   425   597   399   701   800  1670  1617   560   574  1600   377   668\n",
      "  1814  1280  1207   605   766  1072  1901   632  2613   358   831   676\n",
      "  1014  1608  1160  1266   691   409  2068  1189   423   970  1204  2568\n",
      "  1883   649   711  1298   764   787  1398  2136  2320   487   838  5606\n",
      "  1567   732  1636  1066  1154  1201  1607   663  1456  1069  1029   931]\n",
      "views: [    70    177    919 ...  16996 361407   9490]\n",
      "comm_count: ['-']\n"
     ]
    }
   ],
   "source": [
    "data_columns = list(analysis_columns(data_ria.columns))"
   ]
  },
  {
   "cell_type": "markdown",
   "metadata": {},
   "source": [
    "В edition, likes и views данные есть, остальные можно удалять"
   ]
  },
  {
   "cell_type": "code",
   "execution_count": 21,
   "metadata": {},
   "outputs": [
    {
     "name": "stdout",
     "output_type": "stream",
     "text": [
      "Кол-во одинаковых текстов: 35\n"
     ]
    }
   ],
   "source": [
    "#  Проверим повторяющиеся тексты\n",
    "print('Кол-во одинаковых текстов:',data_ria.text.duplicated().sum())"
   ]
  },
  {
   "cell_type": "code",
   "execution_count": 22,
   "metadata": {},
   "outputs": [],
   "source": [
    "data_ria = data_ria.drop_duplicates(subset='text')"
   ]
  },
  {
   "cell_type": "code",
   "execution_count": 23,
   "metadata": {},
   "outputs": [
    {
     "data": {
      "text/plain": [
       "(101506, 16)"
      ]
     },
     "execution_count": 23,
     "metadata": {},
     "output_type": "execute_result"
    }
   ],
   "source": [
    "data_ria.shape"
   ]
  },
  {
   "cell_type": "code",
   "execution_count": null,
   "metadata": {},
   "outputs": [],
   "source": []
  },
  {
   "cell_type": "markdown",
   "metadata": {},
   "source": [
    "## EDA"
   ]
  },
  {
   "cell_type": "markdown",
   "metadata": {},
   "source": [
    "### Анализ дат"
   ]
  },
  {
   "cell_type": "code",
   "execution_count": 24,
   "metadata": {},
   "outputs": [
    {
     "name": "stdout",
     "output_type": "stream",
     "text": [
      "Минимальная дата в датасете: 2018-12-05 14:29:00\n",
      "Максимальная дата в датасете: 2019-08-10 06:35:00\n"
     ]
    }
   ],
   "source": [
    "print('Минимальная дата в датасете:', data_ria.date.min())\n",
    "print('Максимальная дата в датасете:', data_ria.date.max())"
   ]
  },
  {
   "cell_type": "code",
   "execution_count": null,
   "metadata": {},
   "outputs": [],
   "source": []
  },
  {
   "cell_type": "markdown",
   "metadata": {},
   "source": [
    "#### Распределение количества новостей по месяцам"
   ]
  },
  {
   "cell_type": "code",
   "execution_count": 25,
   "metadata": {},
   "outputs": [],
   "source": [
    "# Вынесем месяц и год новости в отдельные столбцы\n",
    "data_ria['month'] = data_ria.date.apply(lambda x: x.month)\n",
    "data_ria['year'] = data_ria.date.apply(lambda x: x.year)\n",
    "\n",
    "# Создадим отдельный датасет посчитаем количество новостей в разрезе месяца и года\n",
    "df = data_ria.groupby(['year', 'month']).text.nunique().reset_index()"
   ]
  },
  {
   "cell_type": "code",
   "execution_count": 26,
   "metadata": {},
   "outputs": [
    {
     "data": {
      "text/html": [
       "<div>\n",
       "<style scoped>\n",
       "    .dataframe tbody tr th:only-of-type {\n",
       "        vertical-align: middle;\n",
       "    }\n",
       "\n",
       "    .dataframe tbody tr th {\n",
       "        vertical-align: top;\n",
       "    }\n",
       "\n",
       "    .dataframe thead th {\n",
       "        text-align: right;\n",
       "    }\n",
       "</style>\n",
       "<table border=\"1\" class=\"dataframe\">\n",
       "  <thead>\n",
       "    <tr style=\"text-align: right;\">\n",
       "      <th></th>\n",
       "      <th>year</th>\n",
       "      <th>month</th>\n",
       "      <th>text</th>\n",
       "    </tr>\n",
       "  </thead>\n",
       "  <tbody>\n",
       "    <tr>\n",
       "      <th>0</th>\n",
       "      <td>2018</td>\n",
       "      <td>12</td>\n",
       "      <td>11329</td>\n",
       "    </tr>\n",
       "    <tr>\n",
       "      <th>1</th>\n",
       "      <td>2019</td>\n",
       "      <td>1</td>\n",
       "      <td>13180</td>\n",
       "    </tr>\n",
       "    <tr>\n",
       "      <th>2</th>\n",
       "      <td>2019</td>\n",
       "      <td>2</td>\n",
       "      <td>11096</td>\n",
       "    </tr>\n",
       "    <tr>\n",
       "      <th>3</th>\n",
       "      <td>2019</td>\n",
       "      <td>3</td>\n",
       "      <td>10512</td>\n",
       "    </tr>\n",
       "    <tr>\n",
       "      <th>4</th>\n",
       "      <td>2019</td>\n",
       "      <td>4</td>\n",
       "      <td>13064</td>\n",
       "    </tr>\n",
       "  </tbody>\n",
       "</table>\n",
       "</div>"
      ],
      "text/plain": [
       "   year  month   text\n",
       "0  2018     12  11329\n",
       "1  2019      1  13180\n",
       "2  2019      2  11096\n",
       "3  2019      3  10512\n",
       "4  2019      4  13064"
      ]
     },
     "execution_count": 26,
     "metadata": {},
     "output_type": "execute_result"
    }
   ],
   "source": [
    "df.head()"
   ]
  },
  {
   "cell_type": "code",
   "execution_count": null,
   "metadata": {},
   "outputs": [],
   "source": []
  },
  {
   "cell_type": "code",
   "execution_count": 27,
   "metadata": {},
   "outputs": [],
   "source": [
    "df['month_year'] = df[['month', 'year']].apply(lambda x: '-'.join(['0'+str(x.month) if x.month<10 else str(x.month),\n",
    "                                                                  str(x.year)]),\n",
    "                                               axis =1)"
   ]
  },
  {
   "cell_type": "code",
   "execution_count": 28,
   "metadata": {},
   "outputs": [],
   "source": [
    "df.columns = ['year', 'month', 'nunique_text', 'month_year']"
   ]
  },
  {
   "cell_type": "code",
   "execution_count": 29,
   "metadata": {},
   "outputs": [],
   "source": [
    "# выберем только те месяцы, в которых количество новостей больше 10\n",
    "df = df[df.nunique_text>10]"
   ]
  },
  {
   "cell_type": "code",
   "execution_count": 31,
   "metadata": {},
   "outputs": [
    {
     "data": {
      "text/html": [
       "<div>\n",
       "<style scoped>\n",
       "    .dataframe tbody tr th:only-of-type {\n",
       "        vertical-align: middle;\n",
       "    }\n",
       "\n",
       "    .dataframe tbody tr th {\n",
       "        vertical-align: top;\n",
       "    }\n",
       "\n",
       "    .dataframe thead th {\n",
       "        text-align: right;\n",
       "    }\n",
       "</style>\n",
       "<table border=\"1\" class=\"dataframe\">\n",
       "  <thead>\n",
       "    <tr style=\"text-align: right;\">\n",
       "      <th></th>\n",
       "      <th>month_year</th>\n",
       "      <th>nunique_text</th>\n",
       "    </tr>\n",
       "  </thead>\n",
       "  <tbody>\n",
       "    <tr>\n",
       "      <th>7</th>\n",
       "      <td>07-2019</td>\n",
       "      <td>13907</td>\n",
       "    </tr>\n",
       "    <tr>\n",
       "      <th>1</th>\n",
       "      <td>01-2019</td>\n",
       "      <td>13180</td>\n",
       "    </tr>\n",
       "    <tr>\n",
       "      <th>6</th>\n",
       "      <td>06-2019</td>\n",
       "      <td>13065</td>\n",
       "    </tr>\n",
       "    <tr>\n",
       "      <th>4</th>\n",
       "      <td>04-2019</td>\n",
       "      <td>13064</td>\n",
       "    </tr>\n",
       "    <tr>\n",
       "      <th>5</th>\n",
       "      <td>05-2019</td>\n",
       "      <td>11423</td>\n",
       "    </tr>\n",
       "  </tbody>\n",
       "</table>\n",
       "</div>"
      ],
      "text/plain": [
       "  month_year  nunique_text\n",
       "7    07-2019         13907\n",
       "1    01-2019         13180\n",
       "6    06-2019         13065\n",
       "4    04-2019         13064\n",
       "5    05-2019         11423"
      ]
     },
     "execution_count": 31,
     "metadata": {},
     "output_type": "execute_result"
    }
   ],
   "source": [
    "df[['month_year', 'nunique_text']].sort_values('nunique_text', ascending = False).head()"
   ]
  },
  {
   "cell_type": "code",
   "execution_count": null,
   "metadata": {},
   "outputs": [],
   "source": []
  },
  {
   "cell_type": "code",
   "execution_count": 32,
   "metadata": {},
   "outputs": [
    {
     "data": {
      "image/png": "[encoded data removed]",
      "text/plain": [
       "<Figure size 1440x720 with 1 Axes>"
      ]
     },
     "metadata": {
      "needs_background": "light"
     },
     "output_type": "display_data"
    }
   ],
   "source": [
    "fig, ax = plt.subplots(figsize=(20, 10))\n",
    "plt.bar(x = df.month_year,\n",
    "        height = df.nunique_text.values)\n",
    "plt.xticks(rotation='vertical')\n",
    "ax.set_title('Количество новостей по месяцам')\n",
    "ax.set_ylabel('Количество')\n",
    "ax.set_xlabel('Дата')\n",
    "plt.show()"
   ]
  },
  {
   "cell_type": "code",
   "execution_count": null,
   "metadata": {},
   "outputs": [],
   "source": []
  },
  {
   "cell_type": "markdown",
   "metadata": {},
   "source": [
    "### Создание словаря для анализа"
   ]
  },
  {
   "cell_type": "markdown",
   "metadata": {},
   "source": [
    "В данной части блокнота будет подготовлен словарь из всего множества слов во всем датасете. Для каждой новости будет выполнена токенизация. Затем будет собран словарь из всех токенов, очистка от знаков препинания, и после данных процедур создается два списка - один без удаления стоп-слов, второй с удалением. Анализ проводится по частоте вхождений для каждого списка"
   ]
  },
  {
   "cell_type": "code",
   "execution_count": null,
   "metadata": {},
   "outputs": [],
   "source": []
  },
  {
   "cell_type": "code",
   "execution_count": 33,
   "metadata": {},
   "outputs": [],
   "source": [
    "def create_dictionary(text):\n",
    "    for news in text:\n",
    "        tokens = list(tokenize(news.lower()))\n",
    "        yield([_.text for _ in tokens])"
   ]
  },
  {
   "cell_type": "code",
   "execution_count": null,
   "metadata": {},
   "outputs": [],
   "source": []
  },
  {
   "cell_type": "code",
   "execution_count": 34,
   "metadata": {},
   "outputs": [],
   "source": [
    "data_ria.text = list(create_dictionary(data_ria.text.values))"
   ]
  },
  {
   "cell_type": "code",
   "execution_count": null,
   "metadata": {},
   "outputs": [],
   "source": []
  },
  {
   "cell_type": "code",
   "execution_count": 35,
   "metadata": {},
   "outputs": [],
   "source": [
    "# Соберем словарь из новостей для последующего анализа, без объединения повторяющихся слов\n",
    "dictionary = list(itertools.chain.from_iterable(data_ria.text.values))"
   ]
  },
  {
   "cell_type": "code",
   "execution_count": null,
   "metadata": {},
   "outputs": [],
   "source": []
  },
  {
   "cell_type": "code",
   "execution_count": null,
   "metadata": {},
   "outputs": [],
   "source": [
    "# Соберем значки препинания, часть возьмем из готовой библиотеки, часть добавим свои"
   ]
  },
  {
   "cell_type": "code",
   "execution_count": 47,
   "metadata": {},
   "outputs": [],
   "source": [
    "punctuation = list(punctuation)"
   ]
  },
  {
   "cell_type": "code",
   "execution_count": 48,
   "metadata": {},
   "outputs": [],
   "source": [
    "punctuation += ['«','»','—','n','»,','».','–', '...']"
   ]
  },
  {
   "cell_type": "code",
   "execution_count": 38,
   "metadata": {},
   "outputs": [],
   "source": [
    "garbage_words = ['nранее', 'nв', 'nпо', 'nтакже','u','n—']"
   ]
  },
  {
   "cell_type": "code",
   "execution_count": 49,
   "metadata": {},
   "outputs": [],
   "source": [
    "# Словарь без удаления стопслов\n",
    "dictionary_with_stopwords = [item for item in dictionary if item not in punctuation]"
   ]
  },
  {
   "cell_type": "code",
   "execution_count": 50,
   "metadata": {},
   "outputs": [],
   "source": [
    "dictionary_with_stopwords = [item for item in dictionary_with_stopwords if item not in garbage_words]"
   ]
  },
  {
   "cell_type": "code",
   "execution_count": null,
   "metadata": {},
   "outputs": [],
   "source": []
  },
  {
   "cell_type": "code",
   "execution_count": 51,
   "metadata": {},
   "outputs": [],
   "source": [
    "stopwords_01 = open('../nlp/preprocessing/stopwords.txt', 'r', encoding='UTF-8')\n",
    "stopwords_01 = stopwords_01.read().split('\\n')\n",
    "stopwords_02 = open('../nlp/preprocessing/stopwords_02.txt', 'r', encoding='UTF-8')\n",
    "stopwords_02 = stopwords_02.read().split('\\n')"
   ]
  },
  {
   "cell_type": "code",
   "execution_count": 52,
   "metadata": {},
   "outputs": [],
   "source": [
    "stopwords = stopwords_01 + stopwords_02"
   ]
  },
  {
   "cell_type": "code",
   "execution_count": 53,
   "metadata": {},
   "outputs": [],
   "source": [
    "# Словарь после удаления стопслов\n",
    "dictionary_without_stopwords = [item for item in dictionary_with_stopwords if item not in stopwords]"
   ]
  },
  {
   "cell_type": "code",
   "execution_count": null,
   "metadata": {},
   "outputs": [],
   "source": []
  },
  {
   "cell_type": "markdown",
   "metadata": {},
   "source": [
    "### Аналитика по словам"
   ]
  },
  {
   "cell_type": "markdown",
   "metadata": {},
   "source": [
    "#### 20 самых популярных слов без удаления стопслов"
   ]
  },
  {
   "cell_type": "code",
   "execution_count": 54,
   "metadata": {},
   "outputs": [
    {
     "data": {
      "text/plain": [
       "[('в', 886599),\n",
       " ('и', 432068),\n",
       " ('на', 330430),\n",
       " ('по', 223267),\n",
       " ('что', 222411),\n",
       " ('с', 197283),\n",
       " ('не', 142561),\n",
       " ('новости', 138773),\n",
       " ('риа', 138140),\n",
       " ('о', 90305),\n",
       " ('из', 83483),\n",
       " ('для', 70011),\n",
       " ('к', 69934),\n",
       " ('за', 61852),\n",
       " ('его', 61708),\n",
       " ('он', 61182),\n",
       " ('как', 60998),\n",
       " ('москва', 60260),\n",
       " ('года', 58512),\n",
       " ('а', 57218)]"
      ]
     },
     "execution_count": 54,
     "metadata": {},
     "output_type": "execute_result"
    }
   ],
   "source": [
    "Counter(dictionary_with_stopwords).most_common(20)"
   ]
  },
  {
   "cell_type": "code",
   "execution_count": 55,
   "metadata": {},
   "outputs": [
    {
     "data": {
      "image/png": "[encoded data removed]",
      "text/plain": [
       "<Figure size 864x432 with 1 Axes>"
      ]
     },
     "metadata": {},
     "output_type": "display_data"
    }
   ],
   "source": [
    "x = dict(Counter(dictionary_with_stopwords).most_common(20)).keys()\n",
    "y = dict(Counter(dictionary_with_stopwords).most_common(20)).values()\n",
    "\n",
    "fig, ax = plt.subplots()\n",
    "\n",
    "ax.bar(x, y)\n",
    "ax.set_title('TOP-20 слов без удаления стопслов')\n",
    "ax.set_ylabel('Частота')\n",
    "ax.set_xlabel('Слова')\n",
    "\n",
    "ax.set_facecolor('seashell')\n",
    "fig.set_facecolor('floralwhite')\n",
    "fig.set_figwidth(12)    #  ширина Figure\n",
    "fig.set_figheight(6)    #  высота Figure\n",
    "\n",
    "\n",
    "plt.show()"
   ]
  },
  {
   "cell_type": "code",
   "execution_count": null,
   "metadata": {},
   "outputs": [],
   "source": []
  },
  {
   "cell_type": "markdown",
   "metadata": {},
   "source": [
    "#### 20 самых популярных слов после удаления стопслов "
   ]
  },
  {
   "cell_type": "code",
   "execution_count": 56,
   "metadata": {},
   "outputs": [
    {
     "data": {
      "text/plain": [
       "[('новости', 138773),\n",
       " ('риа', 138140),\n",
       " ('россии', 51595),\n",
       " ('сша', 48017),\n",
       " ('рф', 47674),\n",
       " ('заявил', 43589),\n",
       " ('украины', 28291),\n",
       " ('словам', 28245),\n",
       " ('сообщил', 26338),\n",
       " ('данным', 26010),\n",
       " ('президента', 24758),\n",
       " ('говорится', 21793),\n",
       " ('области', 21354),\n",
       " ('страны', 20600),\n",
       " ('глава', 20193),\n",
       " ('мая', 19613),\n",
       " ('отметил', 18068),\n",
       " ('сообщает', 17013),\n",
       " ('рублей', 16235),\n",
       " ('из-за', 16172)]"
      ]
     },
     "execution_count": 56,
     "metadata": {},
     "output_type": "execute_result"
    }
   ],
   "source": [
    "Counter(dictionary_without_stopwords).most_common(20)"
   ]
  },
  {
   "cell_type": "code",
   "execution_count": 57,
   "metadata": {},
   "outputs": [
    {
     "data": {
      "image/png": "[encoded data removed]",
      "text/plain": [
       "<Figure size 1296x432 with 1 Axes>"
      ]
     },
     "metadata": {},
     "output_type": "display_data"
    }
   ],
   "source": [
    "x = dict(Counter(dictionary_without_stopwords).most_common(20)).keys()\n",
    "y = dict(Counter(dictionary_without_stopwords).most_common(20)).values()\n",
    "\n",
    "fig, ax = plt.subplots()\n",
    "\n",
    "ax.bar(x, y)\n",
    "ax.set_title('TOP-20 слов без удаления стопслов')\n",
    "ax.set_ylabel('Частота')\n",
    "ax.set_xlabel('Слова')\n",
    "\n",
    "ax.set_facecolor('seashell')\n",
    "fig.set_facecolor('floralwhite')\n",
    "fig.set_figwidth(18)    #  ширина Figure\n",
    "fig.set_figheight(6)    #  высота Figure\n",
    "\n",
    "\n",
    "plt.show()"
   ]
  },
  {
   "cell_type": "code",
   "execution_count": null,
   "metadata": {},
   "outputs": [],
   "source": []
  },
  {
   "cell_type": "markdown",
   "metadata": {},
   "source": [
    "### Рубрики Ria"
   ]
  },
  {
   "cell_type": "code",
   "execution_count": 58,
   "metadata": {},
   "outputs": [
    {
     "name": "stdout",
     "output_type": "stream",
     "text": [
      "Количество рубрик =  (1120,)\n"
     ]
    },
    {
     "data": {
      "text/plain": [
       "array(['Происшествия', 'В мире', 'Экономика', ...,\n",
       "       'ЧП на военном складе в Красноярском крае', 'Лиссабон (город)',\n",
       "       'The Guardian'], dtype=object)"
      ]
     },
     "execution_count": 58,
     "metadata": {},
     "output_type": "execute_result"
    }
   ],
   "source": [
    "# Считаем количество рубрик в датасете Ria, а также выведем значения\n",
    "print('Количество рубрик = ', data_ria.topics.unique().shape)\n",
    "data_ria['topics'].unique()"
   ]
  },
  {
   "cell_type": "code",
   "execution_count": 60,
   "metadata": {},
   "outputs": [
    {
     "data": {
      "text/plain": [
       "topics\n",
       "2 февраля - день сурка    1\n",
       "BAFTA                     1\n",
       "BBC                       8\n",
       "Cirque du Soleil          1\n",
       "Comedy Club Production    1\n",
       "Name: topics, dtype: int64"
      ]
     },
     "execution_count": 60,
     "metadata": {},
     "output_type": "execute_result"
    }
   ],
   "source": [
    "data_ria.groupby('topics')['topics'].count().head()"
   ]
  },
  {
   "cell_type": "markdown",
   "metadata": {},
   "source": [
    "Тут надо разбираться, все ли рубрики нам нужны"
   ]
  },
  {
   "cell_type": "code",
   "execution_count": null,
   "metadata": {},
   "outputs": [],
   "source": []
  }
 ],
 "metadata": {
  "kernelspec": {
   "display_name": "Python 3",
   "language": "python",
   "name": "python3"
  },
  "language_info": {
   "codemirror_mode": {
    "name": "ipython",
    "version": 3
   },
   "file_extension": ".py",
   "mimetype": "text/x-python",
   "name": "python",
   "nbconvert_exporter": "python",
   "pygments_lexer": "ipython3",
   "version": "3.7.3"
  }
 },
 "nbformat": 4,
 "nbformat_minor": 2
}
